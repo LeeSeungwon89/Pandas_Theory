{
  "nbformat": 4,
  "nbformat_minor": 0,
  "metadata": {
    "colab": {
      "name": "파이썬 기본.ipynb",
      "provenance": [],
      "collapsed_sections": [],
      "toc_visible": true,
      "authorship_tag": "ABX9TyOYlyckRAjbLbxCJTEUJjrS",
      "include_colab_link": true
    },
    "kernelspec": {
      "name": "python3",
      "display_name": "Python 3"
    },
    "language_info": {
      "name": "python"
    }
  },
  "cells": [
    {
      "cell_type": "markdown",
      "metadata": {
        "id": "view-in-github",
        "colab_type": "text"
      },
      "source": [
        "<a href=\"https://colab.research.google.com/github/LeeSeungwon89/Python_for_Data_Analytics_Science/blob/main/%ED%8C%8C%EC%9D%B4%EC%8D%AC%20%EA%B8%B0%EB%B3%B8.ipynb\" target=\"_parent\"><img src=\"https://colab.research.google.com/assets/colab-badge.svg\" alt=\"Open In Colab\"/></a>"
      ]
    },
    {
      "cell_type": "markdown",
      "metadata": {
        "id": "XPkykKHOYc7y"
      },
      "source": [
        "# **1. 연산자 기호**"
      ]
    },
    {
      "cell_type": "markdown",
      "metadata": {
        "id": "eSERvlKeRlAD"
      },
      "source": [
        "## **1.1 몫**"
      ]
    },
    {
      "cell_type": "markdown",
      "metadata": {
        "id": "pJzYlc6OYvwo"
      },
      "source": [
        "몫은 '//'를 사용하여 구합니다."
      ]
    },
    {
      "cell_type": "code",
      "metadata": {
        "colab": {
          "base_uri": "https://localhost:8080/"
        },
        "id": "tTnj8MxgYxqY",
        "outputId": "05e60e9f-bce3-41d2-da7f-0b76b7a86a91"
      },
      "source": [
        "11 // 5"
      ],
      "execution_count": null,
      "outputs": [
        {
          "output_type": "execute_result",
          "data": {
            "text/plain": [
              "2"
            ]
          },
          "metadata": {},
          "execution_count": 81
        }
      ]
    },
    {
      "cell_type": "markdown",
      "metadata": {
        "id": "tDtsa7EzRoqb"
      },
      "source": [
        "## **1.2 나머지**"
      ]
    },
    {
      "cell_type": "markdown",
      "metadata": {
        "id": "pyI_mtJcZE9v"
      },
      "source": [
        "나머지는 '%'를 사용하여 구합니다."
      ]
    },
    {
      "cell_type": "code",
      "metadata": {
        "colab": {
          "base_uri": "https://localhost:8080/"
        },
        "id": "5CQvTjI0YMyR",
        "outputId": "d2740f91-e2f6-4d70-dd9f-d834f0ec25ef"
      },
      "source": [
        "11 % 5"
      ],
      "execution_count": null,
      "outputs": [
        {
          "output_type": "execute_result",
          "data": {
            "text/plain": [
              "1"
            ]
          },
          "metadata": {},
          "execution_count": 82
        }
      ]
    },
    {
      "cell_type": "markdown",
      "metadata": {
        "id": "Rxsww0RAZQO-"
      },
      "source": [
        "# **2. 과학적인 표기법**"
      ]
    },
    {
      "cell_type": "markdown",
      "metadata": {
        "id": "WPerzE8nZSQv"
      },
      "source": [
        "매우 큰 수나 작은 수를 다루려면 10의 거듭제곱을 나타내는 'e$n$'으로 입력할 수 있습니다. '$n$'은 정수이며 양수, 음수, 0 모두 가능합니다.\n",
        "\n",
        "아래는 이를 설명하는 예시입니다."
      ]
    },
    {
      "cell_type": "markdown",
      "metadata": {
        "id": "Sx6zBpeEbMyd"
      },
      "source": [
        "$4 \\times 10^7$"
      ]
    },
    {
      "cell_type": "code",
      "metadata": {
        "colab": {
          "base_uri": "https://localhost:8080/"
        },
        "id": "YzDjpsfqZ0Cn",
        "outputId": "eee023b3-6e5f-4df5-8164-5f74d1708bbc"
      },
      "source": [
        "4e7"
      ],
      "execution_count": null,
      "outputs": [
        {
          "output_type": "execute_result",
          "data": {
            "text/plain": [
              "40000000.0"
            ]
          },
          "metadata": {},
          "execution_count": 83
        }
      ]
    },
    {
      "cell_type": "markdown",
      "metadata": {
        "id": "htdIo-Ayb4QE"
      },
      "source": [
        "$2 \\times 10^{15}$"
      ]
    },
    {
      "cell_type": "code",
      "metadata": {
        "colab": {
          "base_uri": "https://localhost:8080/"
        },
        "id": "ukTaZFuib8m0",
        "outputId": "11555d6a-05e9-4683-9e74-c50ccaaddeab"
      },
      "source": [
        "2e15"
      ],
      "execution_count": null,
      "outputs": [
        {
          "output_type": "execute_result",
          "data": {
            "text/plain": [
              "2000000000000000.0"
            ]
          },
          "metadata": {},
          "execution_count": 84
        }
      ]
    },
    {
      "cell_type": "markdown",
      "metadata": {
        "id": "9zA51D8QcX2C"
      },
      "source": [
        "10의 15승까지 숫자로 표시됩니다."
      ]
    },
    {
      "cell_type": "markdown",
      "metadata": {
        "id": "IiU7bgcRbk0T"
      },
      "source": [
        "$6 \\times 10^{16}$"
      ]
    },
    {
      "cell_type": "code",
      "metadata": {
        "colab": {
          "base_uri": "https://localhost:8080/"
        },
        "id": "4XgDSGKNbDqH",
        "outputId": "2282467a-1d9f-40f9-ae49-91501852f5eb"
      },
      "source": [
        "6e16"
      ],
      "execution_count": null,
      "outputs": [
        {
          "output_type": "execute_result",
          "data": {
            "text/plain": [
              "6e+16"
            ]
          },
          "metadata": {},
          "execution_count": 85
        }
      ]
    },
    {
      "cell_type": "markdown",
      "metadata": {
        "id": "L2Mhh8ujcNrx"
      },
      "source": [
        "10의 16승부터 과학적인 표기법으로 표시됩니다."
      ]
    },
    {
      "cell_type": "markdown",
      "metadata": {
        "id": "ysVct0LScAfe"
      },
      "source": [
        "$6 \\times 10^{17}$"
      ]
    },
    {
      "cell_type": "code",
      "metadata": {
        "colab": {
          "base_uri": "https://localhost:8080/"
        },
        "id": "OCNKSov7bvRi",
        "outputId": "89de4058-f877-4647-a7eb-bf7c01d6e80d"
      },
      "source": [
        "6e17"
      ],
      "execution_count": null,
      "outputs": [
        {
          "output_type": "execute_result",
          "data": {
            "text/plain": [
              "6e+17"
            ]
          },
          "metadata": {},
          "execution_count": 86
        }
      ]
    },
    {
      "cell_type": "markdown",
      "metadata": {
        "id": "Vfz9crFZchQ4"
      },
      "source": [
        "$4 \\times 10^{-1}$"
      ]
    },
    {
      "cell_type": "code",
      "metadata": {
        "colab": {
          "base_uri": "https://localhost:8080/"
        },
        "id": "ViqRHpxIcg0U",
        "outputId": "1b8d1673-cb99-4156-fcc0-8a912bfae718"
      },
      "source": [
        "4e-1"
      ],
      "execution_count": null,
      "outputs": [
        {
          "output_type": "execute_result",
          "data": {
            "text/plain": [
              "0.4"
            ]
          },
          "metadata": {},
          "execution_count": 87
        }
      ]
    },
    {
      "cell_type": "markdown",
      "metadata": {
        "id": "IEYkmMq-cvFn"
      },
      "source": [
        "$4 \\times 10^{-4}$"
      ]
    },
    {
      "cell_type": "code",
      "metadata": {
        "colab": {
          "base_uri": "https://localhost:8080/"
        },
        "id": "oiavyhHwcyzk",
        "outputId": "62c6b1f3-80ea-4d0a-d3c9-626a38b241b5"
      },
      "source": [
        "4e-4"
      ],
      "execution_count": null,
      "outputs": [
        {
          "output_type": "execute_result",
          "data": {
            "text/plain": [
              "0.0004"
            ]
          },
          "metadata": {},
          "execution_count": 88
        }
      ]
    },
    {
      "cell_type": "markdown",
      "metadata": {
        "id": "EKjnudgAdFxP"
      },
      "source": [
        "10의 -4승까지 숫자로 표시됩니다."
      ]
    },
    {
      "cell_type": "markdown",
      "metadata": {
        "id": "S0OKwuOVc0i7"
      },
      "source": [
        "$4 \\times 10^{-5}$"
      ]
    },
    {
      "cell_type": "code",
      "metadata": {
        "colab": {
          "base_uri": "https://localhost:8080/"
        },
        "id": "hQExXRu4c198",
        "outputId": "a8dab73d-8f50-482c-97d3-1f5450a17f4a"
      },
      "source": [
        "4e-5"
      ],
      "execution_count": null,
      "outputs": [
        {
          "output_type": "execute_result",
          "data": {
            "text/plain": [
              "4e-05"
            ]
          },
          "metadata": {},
          "execution_count": 89
        }
      ]
    },
    {
      "cell_type": "markdown",
      "metadata": {
        "id": "t4FjncZwdJFJ"
      },
      "source": [
        "10의 -5승부터는 과학적인 표기법으로 표시됩니다."
      ]
    },
    {
      "cell_type": "markdown",
      "metadata": {
        "id": "_yrFtmq9dg2J"
      },
      "source": [
        "$4 \\times 10^{-6}$"
      ]
    },
    {
      "cell_type": "code",
      "metadata": {
        "colab": {
          "base_uri": "https://localhost:8080/"
        },
        "id": "sQ0L5pvcdgah",
        "outputId": "19b96cba-5ab2-4107-b337-055719f1a5b7"
      },
      "source": [
        "4e-6"
      ],
      "execution_count": null,
      "outputs": [
        {
          "output_type": "execute_result",
          "data": {
            "text/plain": [
              "4e-06"
            ]
          },
          "metadata": {},
          "execution_count": 90
        }
      ]
    },
    {
      "cell_type": "markdown",
      "metadata": {
        "id": "gFkg8yegdj4h"
      },
      "source": [
        "# **3. 진법과 진수**\n",
        "\n",
        "파이썬은 10진법 외에 2진법, 8진법, 16진법을 지원합니다. 16진법은 {0 ~ 9, a, b, c, d, e, f}로 표현됩니다.\n",
        "\n",
        "2진수를 입력하려면 '0b', 8진수를 입력하려면 '0o', 16진수를 입력하려면 '0x'를 숫자 앞에 붙입니다.\n",
        "\n",
        "아래는 이를 설명하는 예시입니다. 간단하게 17을 예로 들겠습니다. 해당하는 진법의 함수도 포함합니다."
      ]
    },
    {
      "cell_type": "markdown",
      "metadata": {
        "id": "vYvSXqpJfK91"
      },
      "source": [
        "10진법"
      ]
    },
    {
      "cell_type": "code",
      "metadata": {
        "colab": {
          "base_uri": "https://localhost:8080/"
        },
        "id": "9nEARaIsfB-0",
        "outputId": "3141c33d-a124-4c92-cc6f-6d4c3ea6573a"
      },
      "source": [
        "17"
      ],
      "execution_count": null,
      "outputs": [
        {
          "output_type": "execute_result",
          "data": {
            "text/plain": [
              "17"
            ]
          },
          "metadata": {},
          "execution_count": 91
        }
      ]
    },
    {
      "cell_type": "markdown",
      "metadata": {
        "id": "At7w4OaPfNHA"
      },
      "source": [
        "2진법"
      ]
    },
    {
      "cell_type": "code",
      "metadata": {
        "colab": {
          "base_uri": "https://localhost:8080/"
        },
        "id": "9-LnmA41fCud",
        "outputId": "3e099418-1453-41b2-8857-727d12f9d8e3"
      },
      "source": [
        "0b10001"
      ],
      "execution_count": null,
      "outputs": [
        {
          "output_type": "execute_result",
          "data": {
            "text/plain": [
              "17"
            ]
          },
          "metadata": {},
          "execution_count": 92
        }
      ]
    },
    {
      "cell_type": "code",
      "metadata": {
        "colab": {
          "base_uri": "https://localhost:8080/",
          "height": 35
        },
        "id": "fLOL_tRqfbUB",
        "outputId": "9d44677f-0c6b-4071-8b11-67eb897e4cfa"
      },
      "source": [
        "bin(17)"
      ],
      "execution_count": null,
      "outputs": [
        {
          "output_type": "execute_result",
          "data": {
            "application/vnd.google.colaboratory.intrinsic+json": {
              "type": "string"
            },
            "text/plain": [
              "'0b10001'"
            ]
          },
          "metadata": {},
          "execution_count": 93
        }
      ]
    },
    {
      "cell_type": "markdown",
      "metadata": {
        "id": "SsfXD_QbfPe_"
      },
      "source": [
        "8진법"
      ]
    },
    {
      "cell_type": "code",
      "metadata": {
        "colab": {
          "base_uri": "https://localhost:8080/"
        },
        "id": "Obr4s0MNfGDM",
        "outputId": "4d40aa45-6d21-47a5-8487-c164c8807e78"
      },
      "source": [
        "0o21"
      ],
      "execution_count": null,
      "outputs": [
        {
          "output_type": "execute_result",
          "data": {
            "text/plain": [
              "17"
            ]
          },
          "metadata": {},
          "execution_count": 94
        }
      ]
    },
    {
      "cell_type": "code",
      "metadata": {
        "colab": {
          "base_uri": "https://localhost:8080/",
          "height": 35
        },
        "id": "PyUblwG-fe_K",
        "outputId": "0e6e3a79-bcf4-4c51-cf19-6e62026dae02"
      },
      "source": [
        "oct(17)"
      ],
      "execution_count": null,
      "outputs": [
        {
          "output_type": "execute_result",
          "data": {
            "application/vnd.google.colaboratory.intrinsic+json": {
              "type": "string"
            },
            "text/plain": [
              "'0o21'"
            ]
          },
          "metadata": {},
          "execution_count": 95
        }
      ]
    },
    {
      "cell_type": "markdown",
      "metadata": {
        "id": "Pfe1O90-fSFn"
      },
      "source": [
        "16진법"
      ]
    },
    {
      "cell_type": "code",
      "metadata": {
        "colab": {
          "base_uri": "https://localhost:8080/"
        },
        "id": "KqxBPSDrfIxQ",
        "outputId": "c6a65bfc-7308-4f9d-8f29-0f465a5a5cac"
      },
      "source": [
        "0x11"
      ],
      "execution_count": null,
      "outputs": [
        {
          "output_type": "execute_result",
          "data": {
            "text/plain": [
              "17"
            ]
          },
          "metadata": {},
          "execution_count": 96
        }
      ]
    },
    {
      "cell_type": "code",
      "metadata": {
        "colab": {
          "base_uri": "https://localhost:8080/",
          "height": 35
        },
        "id": "B3w3zG9VfhCj",
        "outputId": "a6528f3c-f0d7-440e-a8d3-7633c6f0be23"
      },
      "source": [
        "hex(17)"
      ],
      "execution_count": null,
      "outputs": [
        {
          "output_type": "execute_result",
          "data": {
            "application/vnd.google.colaboratory.intrinsic+json": {
              "type": "string"
            },
            "text/plain": [
              "'0x11'"
            ]
          },
          "metadata": {},
          "execution_count": 97
        }
      ]
    },
    {
      "cell_type": "markdown",
      "metadata": {
        "id": "Up13hB84gTrF"
      },
      "source": [
        "참고로 함수로 출력된 결과는 문자열이므로 산술 연산에 적용되지 않습니다. "
      ]
    },
    {
      "cell_type": "markdown",
      "metadata": {
        "id": "pkQDjHMKgvek"
      },
      "source": [
        "# **4. 변수명 생성 규칙**\n",
        "\n",
        "변수명을 지정할 때는 규칙을 잘 지켜야 합니다.\n",
        "\n",
        "간과할 수 있는 규칙은 아래와 같습니다.\n",
        "\n",
        "- 문자, 숫자, 언더라인(_)을 사용합니다. 다만 보통의 경우는 언더라인으로 시작하는 변수명은 지정할 수는 있지만 일반적으로 구성하지 않습니다. \n",
        "\n",
        "- 숫자로 시작하는 변수명은 가능하지 않습니다.   \n",
        "예컨대 '2apple'은 불가능합니다.\n",
        "\n",
        "- 밑줄이 아닌 기호는 변수명에 들어갈 수 없습니다.   \n",
        "예컨대 'apple&', 'bana@na', '$peach' 같은 기호들입니다.\n",
        "\n",
        "- 예약어는 변수명으로 사용할 수 없습니다. 예약어란 `True`, `False`, `def`, `if`, `for`처럼 이미 지정되어 코딩에 쓰이는 표현을 의미합니다.   \n",
        "예컨대 `if = 4 + 3`으로 지정하면 에러가 납니다."
      ]
    },
    {
      "cell_type": "markdown",
      "metadata": {
        "id": "BJIKiUR8ka4j"
      },
      "source": [
        "# **5. 문자열**\n",
        "\n",
        "문자열에 큰따옴표(\")와 작은따옴표(') 모두를 포함하거나, 여러 행의 문장을 나열하거나, 문장을 입력한 상태 그대로 출력하려면 문자열 전체를 큰따옴표 세 개나 작은따옴표 세 개로 감쌉니다.\n",
        "\n",
        "아래는 설명에 대한 예시입니다."
      ]
    },
    {
      "cell_type": "code",
      "metadata": {
        "colab": {
          "base_uri": "https://localhost:8080/"
        },
        "id": "TkA9G5tvb2Jr",
        "outputId": "051349eb-284b-42f5-ecdb-af3f0f27f353"
      },
      "source": [
        "string = '''문자열에 큰따옴표(\")와 작은따옴표(') 모두를 포함하거나,\n",
        "여러 행의 문장을 나열하거나,\n",
        "문장을 입력한 상태 그대로 출력하려면\n",
        "문자열 전체를 큰따옴표 세 개나 작은따옴표 세 개로 감쌉니다.'''\n",
        "print(string)"
      ],
      "execution_count": null,
      "outputs": [
        {
          "output_type": "stream",
          "name": "stdout",
          "text": [
            "문자열에 큰따옴표(\")와 작은따옴표(') 모두를 포함하거나,\n",
            "여러 행의 문장을 나열하거나,\n",
            "문장을 입력한 상태 그대로 출력하려면\n",
            "문자열 전체를 큰따옴표 세 개나 작은따옴표 세 개로 감쌉니다.\n"
          ]
        }
      ]
    },
    {
      "cell_type": "markdown",
      "metadata": {
        "id": "_97pf-8ncgp4"
      },
      "source": [
        "# **6. 리스트**\n",
        "\n",
        "\n"
      ]
    },
    {
      "cell_type": "markdown",
      "metadata": {
        "id": "-45TXzdkR83v"
      },
      "source": [
        "## **6.1 인덱싱**\n",
        "\n",
        "리스트에서 인덱스의 범위를 지정해서 항목 일부만 가져오는 방법을 설명하겠습니다. \n",
        "\n",
        "`리스트[start:end]`   \n",
        "`리스트[start:end:step]`   \n",
        "\n",
        "파이썬은 숫자 1이 아닌 숫자 0을 지정하면 첫 번째 원소부터 가져옵니다. 따라서 start부터 end-1까지 원소를 가져오게 됩니다. start를 생략하면 0으로 간주하고, end를 생략하면 마지막 숫자로 간주합니다. 추가로 step를 지정하면 증가하는 정도(지정한 숫자)만큼 건너뛰면서 원소를 가져옵니다. 음수로 지정하면 역순으로 가져옵니다.\n",
        "\n",
        "아래는 위 설명에 대한 예시입니다.\n"
      ]
    },
    {
      "cell_type": "code",
      "metadata": {
        "colab": {
          "base_uri": "https://localhost:8080/"
        },
        "id": "hMI1gm2GkeWr",
        "outputId": "8d03011b-1fd0-4bd4-bdf6-8342c923b9a2"
      },
      "source": [
        "a = [0, 1, 2, 3, 4, 5, 6, 7, 8, 9]\n",
        "print('a[0:4]:', a[0:4])\n",
        "print('a[3:9]:', a[3:9])\n",
        "print('a[:5]:', a[:5])\n",
        "print('a[5:]:', a[5:])\n",
        "print('a[::2]:', a[::2])\n",
        "print('a[::3]:', a[::3])\n",
        "print('a[::-1]:', a[::-1])\n",
        "print('a[6::-1]:', a[6::-1])\n",
        "print('a[:5:-1]:', a[:5:-1])"
      ],
      "execution_count": null,
      "outputs": [
        {
          "output_type": "stream",
          "name": "stdout",
          "text": [
            "a[0:4]: [0, 1, 2, 3]\n",
            "a[3:9]: [3, 4, 5, 6, 7, 8]\n",
            "a[:5]: [0, 1, 2, 3, 4]\n",
            "a[5:]: [5, 6, 7, 8, 9]\n",
            "a[::2]: [0, 2, 4, 6, 8]\n",
            "a[::3]: [0, 3, 6, 9]\n",
            "a[::-1]: [9, 8, 7, 6, 5, 4, 3, 2, 1, 0]\n",
            "a[6::-1]: [6, 5, 4, 3, 2, 1, 0]\n",
            "a[:5:-1]: [9, 8, 7, 6]\n"
          ]
        }
      ]
    },
    {
      "cell_type": "markdown",
      "metadata": {
        "id": "nYllbFnISDLt"
      },
      "source": [
        "## **6.2 원소 삭제하기**"
      ]
    },
    {
      "cell_type": "markdown",
      "metadata": {
        "id": "ixKf7tpwqWLK"
      },
      "source": [
        "인덱스가 i인 원소를 제거하려면 `del 리스트명[i]`를 코딩합니다.\n",
        "\n",
        "아래는 예시입니다."
      ]
    },
    {
      "cell_type": "code",
      "metadata": {
        "colab": {
          "base_uri": "https://localhost:8080/"
        },
        "id": "u-bXDbM9qtVZ",
        "outputId": "c9b603f7-aa73-4b0b-8f3b-2eee7df82577"
      },
      "source": [
        "del a[4]\n",
        "print(a)"
      ],
      "execution_count": null,
      "outputs": [
        {
          "output_type": "stream",
          "name": "stdout",
          "text": [
            "[0, 1, 2, 3, 5, 6, 7, 8, 9]\n"
          ]
        }
      ]
    },
    {
      "cell_type": "markdown",
      "metadata": {
        "id": "M0tFqasLSyYP"
      },
      "source": [
        "## **6.3 원소 존재 여부 확인하기**"
      ]
    },
    {
      "cell_type": "markdown",
      "metadata": {
        "id": "IvjdVon-rkNL"
      },
      "source": [
        "리스트에 원소가 존재하는지 여부를 확인하려면 `원소 in 리스트명`을 코딩합니다. 원소가 존재하면 True, 존재하지 않으면 False입니다.\n",
        "\n",
        "아래에서 예시합니다."
      ]
    },
    {
      "cell_type": "code",
      "metadata": {
        "colab": {
          "base_uri": "https://localhost:8080/"
        },
        "id": "_iWQkPIWr5jt",
        "outputId": "edd21ca7-4c66-4011-bfdc-c9e690f728cc"
      },
      "source": [
        "b = [0, 1, 2, 3]\n",
        "print('3?', 3 in b)\n",
        "print('4?', 4 in b)"
      ],
      "execution_count": null,
      "outputs": [
        {
          "output_type": "stream",
          "name": "stdout",
          "text": [
            "3? True\n",
            "4? False\n"
          ]
        }
      ]
    },
    {
      "cell_type": "markdown",
      "metadata": {
        "id": "NcrDYORcSw5t"
      },
      "source": [
        "## **6.4 리스트 함수 적용하기**"
      ]
    },
    {
      "cell_type": "markdown",
      "metadata": {
        "id": "yhm6PEmcswzb"
      },
      "source": [
        "리스트와 관련된 함수를 설명합니다. 리스트에 추가, 삽입, 삭제, 반환, 정렬을 수행할 수 있습니다.\n",
        "\n",
        "아래는 함수 목록입니다.\n",
        "\n",
        "- `append()`: 원소 하나를 마지막에 추가합니다. `리스트.append('원소명')` 형식입니다.\n",
        "\n",
        "- `extend()`: 원소 여러 개를 마지막에 추가합니다. `리스트.extend('원소명', '원소명', ...)` 형식입니다.\n",
        "\n",
        "- `insert()`: 특정 위치에 원소를 삽입합니다. `리스트.insert(삽입 위치, '원소명')` 형식입니다.\n",
        "\n",
        "- `remove()`: 입력값과 일치하는 첫 원소를 삭제합니다. `리스트.remove('원소명')` 형식입니다.\n",
        "\n",
        "- `pop()`: 마지막 원소를 제거하고 반환합니다. `리스트.pop()` 형식입니다.\n",
        "\n",
        "- `index()`: 인자와 일치하는 처음 원소의 위치를 반환합니다. `객체명 = 리스트.index('원소명')` 형식입니다.\n",
        "\n",
        "- `count()`: 인자와 일치하는 원소의 개수를 반환합니다. `객체명 = 리스트.count('원소명')` 형식입니다.\n",
        "\n",
        "- `sort()`: 원소를 순방향으로 정렬합니다. `리스트.sort()` 형식입니다.\n",
        "\n",
        "- `reverse()`: 원소를 역순으로 정렬합니다. `리스트.reverse()` 형식입니다."
      ]
    },
    {
      "cell_type": "markdown",
      "metadata": {
        "id": "BabOvW3NIHrV"
      },
      "source": [
        "`append()` 함수의 예시입니다."
      ]
    },
    {
      "cell_type": "code",
      "metadata": {
        "colab": {
          "base_uri": "https://localhost:8080/"
        },
        "id": "ngC51qUcIPpn",
        "outputId": "88fb2a01-0aa8-41ef-ba1d-eaf2217934d0"
      },
      "source": [
        "fruits = ['apple', 'banana', 'peach', 'grape']\n",
        "print(fruits)\n",
        "fruits.append('pear')\n",
        "print(\"fruits.append('pear'):\", fruits)"
      ],
      "execution_count": null,
      "outputs": [
        {
          "output_type": "stream",
          "name": "stdout",
          "text": [
            "['apple', 'banana', 'peach', 'grape']\n",
            "fruits.append('pear'): ['apple', 'banana', 'peach', 'grape', 'pear']\n"
          ]
        }
      ]
    },
    {
      "cell_type": "markdown",
      "metadata": {
        "id": "n9fcr8D6JQUW"
      },
      "source": [
        "`extend()` 함수의 예시입니다."
      ]
    },
    {
      "cell_type": "code",
      "metadata": {
        "colab": {
          "base_uri": "https://localhost:8080/"
        },
        "id": "vZeZVyt0JTEj",
        "outputId": "429cacea-e7fe-4a87-c69a-1f98ce2802ba"
      },
      "source": [
        "fruits = ['apple', 'banana', 'peach', 'grape']\n",
        "print(fruits)\n",
        "# 리스트로 묶어서 지정해야 합니다.\n",
        "fruits.extend(['pear', 'strawberry'])\n",
        "print(\"fruits.extend(['pear', 'strawberry']):\", fruits)"
      ],
      "execution_count": null,
      "outputs": [
        {
          "output_type": "stream",
          "name": "stdout",
          "text": [
            "['apple', 'banana', 'peach', 'grape']\n",
            "fruits.extend(['pear', 'strawberry']): ['apple', 'banana', 'peach', 'grape', 'pear', 'strawberry']\n"
          ]
        }
      ]
    },
    {
      "cell_type": "markdown",
      "metadata": {
        "id": "Lbo1DPY5IyIF"
      },
      "source": [
        "`insert()` 함수의 예시입니다."
      ]
    },
    {
      "cell_type": "code",
      "metadata": {
        "colab": {
          "base_uri": "https://localhost:8080/"
        },
        "id": "FpsmGdoEI1DD",
        "outputId": "7d2682ec-751d-411e-f209-897fb6dff00e"
      },
      "source": [
        "fruits = ['apple', 'banana', 'peach', 'grape']\n",
        "print(fruits)\n",
        "fruits.insert(0, 'pear')\n",
        "print(\"fruits.insert(0, 'pear')\", fruits)"
      ],
      "execution_count": null,
      "outputs": [
        {
          "output_type": "stream",
          "name": "stdout",
          "text": [
            "['apple', 'banana', 'peach', 'grape']\n",
            "fruits.insert(0, 'pear') ['pear', 'apple', 'banana', 'peach', 'grape']\n"
          ]
        }
      ]
    },
    {
      "cell_type": "markdown",
      "metadata": {
        "id": "IqtPWUMIJKqv"
      },
      "source": [
        "`index()` 함수와 `count()` 함수의 예시입니다."
      ]
    },
    {
      "cell_type": "code",
      "metadata": {
        "colab": {
          "base_uri": "https://localhost:8080/"
        },
        "id": "doEAfUKyI-qC",
        "outputId": "10078238-da46-4780-c4e6-40adf8c3c589"
      },
      "source": [
        "fruits_index = fruits.index('peach')\n",
        "print(\"fruits.index('peach'):\", fruits_index)\n",
        "fruits_count = fruits.count('peach')\n",
        "print(\"fruits.count('peach'):\", fruits_count)"
      ],
      "execution_count": null,
      "outputs": [
        {
          "output_type": "stream",
          "name": "stdout",
          "text": [
            "fruits.index('peach'): 3\n",
            "fruits.count('peach'): 1\n"
          ]
        }
      ]
    },
    {
      "cell_type": "markdown",
      "metadata": {
        "id": "qvvRHZbhP6Te"
      },
      "source": [
        "# **7. 튜플**\n",
        "\n",
        "튜플은 리스트와 비슷하지만 차이점이 하나 있습니다. 튜플은 한 번 생성하면 추가, 삭제, 변경할 수 없습니다. 따라서 리스트에서 사용하는 함수 중에 원소를 추가, 삭제, 변경하지 않는 함수만 사용할 수 있습니다. 즉 `index()`, `count()` 함수를 사용할 수 있습니다."
      ]
    },
    {
      "cell_type": "markdown",
      "metadata": {
        "id": "qhBjtGjdTE_W"
      },
      "source": [
        "## **7.1 원소가 하나인 튜플 생성하기**"
      ]
    },
    {
      "cell_type": "markdown",
      "metadata": {
        "id": "p6EIA9a5QWop"
      },
      "source": [
        "원소(인자)를 하나만 가진 튜플을 생성하는 방법을 설명합니다. 튜플이 원소를 하나만 가지려면 원소를 입력하고 뒤에 ','를 붙여야 합니다."
      ]
    },
    {
      "cell_type": "code",
      "metadata": {
        "colab": {
          "base_uri": "https://localhost:8080/"
        },
        "id": "2EBrqHq0Qo8W",
        "outputId": "c654dc4f-b11c-4778-b898-63434fdd518a"
      },
      "source": [
        "tuple1 = (16,)\n",
        "print(tuple1)\n",
        "tuple2 = 16,\n",
        "print(tuple2)"
      ],
      "execution_count": null,
      "outputs": [
        {
          "output_type": "stream",
          "name": "stdout",
          "text": [
            "(16,)\n",
            "(16,)\n"
          ]
        }
      ]
    },
    {
      "cell_type": "markdown",
      "metadata": {
        "id": "uOcYQ6O1RUmw"
      },
      "source": [
        "# **8. 세트**\n",
        "\n",
        "세트는 수학의 집합 개념을 실현할 목적으로 만들었습니다. 리스트와 튜플과 유사하며, 리스트에서 쓰이는 함수를 적용할 수 있습니다. 차이점이라면 데이터에 순서가 존재하지 않고 데이터가 중복될 수 없습니다. 아울러 집합과 관련된 개념인 합집합, 차집합, 교집합을 구하는 함수를 사용할 수 있습니다. "
      ]
    },
    {
      "cell_type": "markdown",
      "metadata": {
        "id": "Dg8lH_LxU7n2"
      },
      "source": [
        "## **8.1 데이터 중복 불가**"
      ]
    },
    {
      "cell_type": "markdown",
      "metadata": {
        "id": "52f6RRe7Ub87"
      },
      "source": [
        "세트에는 데이터가 중복될 수 없습니다.\n",
        "\n",
        "아래 코드로 설명합니다."
      ]
    },
    {
      "cell_type": "code",
      "metadata": {
        "colab": {
          "base_uri": "https://localhost:8080/"
        },
        "id": "0enpo9upUnM0",
        "outputId": "f1de18e5-9679-4f32-d1f7-8043e2074027"
      },
      "source": [
        "set_1 = {0, 1, 2, 3}\n",
        "print(set_1)\n",
        "set_2 = {0, 0, 1, 1, 2, 3}\n",
        "print(set_2)"
      ],
      "execution_count": null,
      "outputs": [
        {
          "output_type": "stream",
          "name": "stdout",
          "text": [
            "{0, 1, 2, 3}\n",
            "{0, 1, 2, 3}\n"
          ]
        }
      ]
    },
    {
      "cell_type": "markdown",
      "metadata": {
        "id": "I3v9zayOVDNV"
      },
      "source": [
        "## **8.2 집합 관련 함수 적용하기**\n",
        "\n",
        "세트1(set1)과 세트2(set2)가 존재한다고 가정하겠습니다.\n",
        "\n",
        "아래는 집합 관련 함수 목록입니다. 형식은 `set1.함수(set2)`입니다.\n",
        "\n",
        "- `union()`: 합집합\n",
        "\n",
        "- `difference()`: 차집합\n",
        "\n",
        "- `intersection()`: 교집합"
      ]
    },
    {
      "cell_type": "markdown",
      "metadata": {
        "id": "CeU5N7nQWMjq"
      },
      "source": [
        "`intersection()` 함수만 예시합니다. 모든 함수는 형식이 같습니다."
      ]
    },
    {
      "cell_type": "code",
      "metadata": {
        "colab": {
          "base_uri": "https://localhost:8080/"
        },
        "id": "6aiOw2-1Ws3q",
        "outputId": "ae712b9f-f10e-4d79-c8f7-3be0eccef4ae"
      },
      "source": [
        "set1 = {0, 1, 2, 3, 4, 5}\n",
        "set2 = {0, 2, 4, 6}\n",
        "set1.intersection(set2)"
      ],
      "execution_count": null,
      "outputs": [
        {
          "output_type": "execute_result",
          "data": {
            "text/plain": [
              "{0, 2, 4}"
            ]
          },
          "metadata": {},
          "execution_count": 108
        }
      ]
    },
    {
      "cell_type": "markdown",
      "metadata": {
        "id": "rB5PQK0_XMkc"
      },
      "source": [
        "## **8.3 연산자를 이용하여 집합 구하기**\n",
        "\n",
        "함수가 아닌 연산자만으로 각 집합을 구할 수 있습니다. 합집합은 '|'로, 차집합은 '-'로, 교집합은 '&'로 구합니다."
      ]
    },
    {
      "cell_type": "markdown",
      "metadata": {
        "id": "9lbWYt-OX6Bn"
      },
      "source": [
        "합집합에 대한 예시입니다."
      ]
    },
    {
      "cell_type": "code",
      "metadata": {
        "colab": {
          "base_uri": "https://localhost:8080/"
        },
        "id": "KL-feahFYAi3",
        "outputId": "c5c589a9-c900-4bb0-fb19-4a7f3b3bc591"
      },
      "source": [
        "set1 | set2"
      ],
      "execution_count": null,
      "outputs": [
        {
          "output_type": "execute_result",
          "data": {
            "text/plain": [
              "{0, 1, 2, 3, 4, 5, 6}"
            ]
          },
          "metadata": {},
          "execution_count": 109
        }
      ]
    },
    {
      "cell_type": "markdown",
      "metadata": {
        "id": "Napv2QUGYI8d"
      },
      "source": [
        "## **8.4 타입 변환하기**\n",
        "\n",
        "리스트와 튜플과 세트는 각 타입을 변환할 수 있습니다. 다만 함수를 적용했을 때 기존 타입이 변하지는 않습니다. 변환 타입을 유지하려면 따로 객체에 지정해야 합니다.\n",
        "\n",
        "아래는 변환할 타입에 대한 함수 목록입니다.\n",
        "\n",
        "- `객체명 = list(변환 대상)`: 리스트로 변환합니다.\n",
        "\n",
        "- `객체명 = tuple(변환 대상)`: 튜플로 변환합니다.\n",
        "\n",
        "- `객체명 = set(변환 대상)`: 세트로 변환합니다."
      ]
    },
    {
      "cell_type": "code",
      "metadata": {
        "colab": {
          "base_uri": "https://localhost:8080/"
        },
        "id": "QcPEddHjZFbZ",
        "outputId": "80283f7a-8f0a-4bd3-d591-e8019d6e1644"
      },
      "source": [
        "type(set1)"
      ],
      "execution_count": null,
      "outputs": [
        {
          "output_type": "execute_result",
          "data": {
            "text/plain": [
              "set"
            ]
          },
          "metadata": {},
          "execution_count": 110
        }
      ]
    },
    {
      "cell_type": "code",
      "metadata": {
        "colab": {
          "base_uri": "https://localhost:8080/"
        },
        "id": "LF2W3YjnaEpw",
        "outputId": "90622792-55db-4f6e-ce2f-41a58e46b4d9"
      },
      "source": [
        "list(set1)"
      ],
      "execution_count": null,
      "outputs": [
        {
          "output_type": "execute_result",
          "data": {
            "text/plain": [
              "[0, 1, 2, 3, 4, 5]"
            ]
          },
          "metadata": {},
          "execution_count": 111
        }
      ]
    },
    {
      "cell_type": "code",
      "metadata": {
        "colab": {
          "base_uri": "https://localhost:8080/"
        },
        "id": "qZ5Mp2l0aIaR",
        "outputId": "d92b5344-27a7-44ed-d4a3-0900964d1cad"
      },
      "source": [
        "type(set1)"
      ],
      "execution_count": null,
      "outputs": [
        {
          "output_type": "execute_result",
          "data": {
            "text/plain": [
              "set"
            ]
          },
          "metadata": {},
          "execution_count": 112
        }
      ]
    },
    {
      "cell_type": "markdown",
      "metadata": {
        "id": "uIUUb4e-aMKa"
      },
      "source": [
        "세트 타입을 리스트 함수를 사용해서 리스트로 출력했지만 여전히 'set1'은 세트 타입입니다."
      ]
    },
    {
      "cell_type": "markdown",
      "metadata": {
        "id": "CZwjIulgaU4Y"
      },
      "source": [
        "리스트 타입으로 유지하려면 객체를 따로 생성해서 출력값을 옮겨야 합니다."
      ]
    },
    {
      "cell_type": "code",
      "metadata": {
        "colab": {
          "base_uri": "https://localhost:8080/"
        },
        "id": "F7LpltjjZd2_",
        "outputId": "005bf9bd-4cf2-4657-fbbb-f959c946fa7a"
      },
      "source": [
        "set_to_list = list(set1)\n",
        "type(set_to_list)"
      ],
      "execution_count": null,
      "outputs": [
        {
          "output_type": "execute_result",
          "data": {
            "text/plain": [
              "list"
            ]
          },
          "metadata": {},
          "execution_count": 113
        }
      ]
    },
    {
      "cell_type": "markdown",
      "metadata": {
        "id": "WXgKGALPapgU"
      },
      "source": [
        "# **9. 딕셔너리**\n",
        "\n",
        "일반 사전은 표제어와 설명이 한 짝으로 구성되며, 표제어를 찾으면 설명을 볼 수 있습니다. 같은 이치로 파이썬 딕셔너리는 키(key)와 값(value)으로 대응하고, 키를 찾으면 값을 확인할 수 있습니다. 따라서 딕셔너리를 인덱싱 하려면 키를 이용합니다. 키는 숫자나 문자열이고, 값은 모든 타입입니다.\n",
        "\n",
        "아래는 딕셔너리의 형식입니다.\n",
        "\n",
        "`dict = {key1: value1, key2: value2, key3: value3}`"
      ]
    },
    {
      "cell_type": "markdown",
      "metadata": {
        "id": "pEPwKjCndod5"
      },
      "source": [
        "## **9.1 딕셔너리 생성하기**\n",
        "\n",
        "한국 내 지역명을 예시로 딕셔너리를 생성합니다."
      ]
    },
    {
      "cell_type": "code",
      "metadata": {
        "colab": {
          "base_uri": "https://localhost:8080/"
        },
        "id": "aQjucxA_eVOb",
        "outputId": "68b637a2-6a73-40f4-8afd-e8253e43770e"
      },
      "source": [
        "loc_dict = {'서울': '종로', '경기': '분당', '인천': '부평', '충남': '논산'}\n",
        "loc_dict"
      ],
      "execution_count": null,
      "outputs": [
        {
          "output_type": "execute_result",
          "data": {
            "text/plain": [
              "{'경기': '분당', '서울': '종로', '인천': '부평', '충남': '논산'}"
            ]
          },
          "metadata": {},
          "execution_count": 114
        }
      ]
    },
    {
      "cell_type": "markdown",
      "metadata": {
        "id": "dstG2dqdfKrX"
      },
      "source": [
        "입력 순서와 다르게 출력됐습니다. 딕셔너리는 순서가 중요하지 않습니다. 입력 순서를 그대로 출력하려면 `print()` 메서드를 붙여줍니다."
      ]
    },
    {
      "cell_type": "code",
      "metadata": {
        "colab": {
          "base_uri": "https://localhost:8080/"
        },
        "id": "k4L0sWEafp6z",
        "outputId": "b7164516-d915-45a7-f8c0-aa04341fd347"
      },
      "source": [
        "print(loc_dict)"
      ],
      "execution_count": null,
      "outputs": [
        {
          "output_type": "stream",
          "name": "stdout",
          "text": [
            "{'서울': '종로', '경기': '분당', '인천': '부평', '충남': '논산'}\n"
          ]
        }
      ]
    },
    {
      "cell_type": "markdown",
      "metadata": {
        "id": "uPuF74ynhd-V"
      },
      "source": [
        "값은 모든 타입이 가능하다고 명시했습니다. 예컨대 리스트 형태도 가능합니다. "
      ]
    },
    {
      "cell_type": "code",
      "metadata": {
        "colab": {
          "base_uri": "https://localhost:8080/"
        },
        "id": "13_Zgolbhl7O",
        "outputId": "e2926d7a-d938-421c-b367-8d81c56ca407"
      },
      "source": [
        "num_dict = {0: [1, 2, 3], 4: [5, 6, 7], 8: [9, 10, 11]}\n",
        "num_dict"
      ],
      "execution_count": null,
      "outputs": [
        {
          "output_type": "execute_result",
          "data": {
            "text/plain": [
              "{0: [1, 2, 3], 4: [5, 6, 7], 8: [9, 10, 11]}"
            ]
          },
          "metadata": {},
          "execution_count": 116
        }
      ]
    },
    {
      "cell_type": "markdown",
      "metadata": {
        "id": "L1UIGS0aiBfD"
      },
      "source": [
        "여러 타입이 복잡하게 혼재될 수도 있습니다."
      ]
    },
    {
      "cell_type": "code",
      "metadata": {
        "colab": {
          "base_uri": "https://localhost:8080/"
        },
        "id": "-lw6fR8fiF4M",
        "outputId": "cc1924ef-9656-4859-f509-b6486898a50d"
      },
      "source": [
        "complicated_dict = {0: 1, 2: [3, 4, 5], 'six': (7, 8),\n",
        "                    'sub_num_dict': {0: 1, 2: (3, 4), 'five': [6, 7]},\n",
        "                    'nine': 'finished'}\n",
        "print(complicated_dict)"
      ],
      "execution_count": null,
      "outputs": [
        {
          "output_type": "stream",
          "name": "stdout",
          "text": [
            "{0: 1, 2: [3, 4, 5], 'six': (7, 8), 'sub_num_dict': {0: 1, 2: (3, 4), 'five': [6, 7]}, 'nine': 'finished'}\n"
          ]
        }
      ]
    },
    {
      "cell_type": "markdown",
      "metadata": {
        "id": "AVAfj9OhfwNp"
      },
      "source": [
        "## **9.2 키를 지정하여 값을 출력하기**\n",
        "\n",
        "바로 위에서 복잡하게 생성한 'complicated_dict' 딕셔너리를 리스트로 지정하여 해당하는 값을 출력하겠습니다."
      ]
    },
    {
      "cell_type": "code",
      "metadata": {
        "colab": {
          "base_uri": "https://localhost:8080/"
        },
        "id": "nog8R8Ldf9JK",
        "outputId": "babb8db2-ece2-4aaf-b532-83eda9a5a3ba"
      },
      "source": [
        "complicated_dict['sub_num_dict']"
      ],
      "execution_count": null,
      "outputs": [
        {
          "output_type": "execute_result",
          "data": {
            "text/plain": [
              "{0: 1, 2: (3, 4), 'five': [6, 7]}"
            ]
          },
          "metadata": {},
          "execution_count": 118
        }
      ]
    },
    {
      "cell_type": "markdown",
      "metadata": {
        "id": "GKaObjHkkQ7a"
      },
      "source": [
        "## **9.3 데이터 추가하기**\n",
        "\n",
        "지속해서 'complicated_dict' 딕셔너리를 사용합니다. 딕셔너리에 값을 추가하려면 `딕셔너리[key] = value` 형태를 사용합니다.\n",
        "\n",
        "아래 코드로 예시합니다."
      ]
    },
    {
      "cell_type": "code",
      "metadata": {
        "colab": {
          "base_uri": "https://localhost:8080/"
        },
        "id": "VBiXg1JMk7vk",
        "outputId": "89dc2676-d93e-4759-c1fa-d42743b6a05f"
      },
      "source": [
        "# `'complicated_dict' 딕셔너리에 'ten'이라는 키를 생성하고\n",
        "# [11, 12]`를 짝짓는다고 생각하면 이해하기에 한결 편리합니다.\n",
        "complicated_dict['ten'] = [11, 12]\n",
        "print(complicated_dict)"
      ],
      "execution_count": null,
      "outputs": [
        {
          "output_type": "stream",
          "name": "stdout",
          "text": [
            "{0: 1, 2: [3, 4, 5], 'six': (7, 8), 'sub_num_dict': {0: 1, 2: (3, 4), 'five': [6, 7]}, 'nine': 'finished', 'ten': [11, 12]}\n"
          ]
        }
      ]
    },
    {
      "cell_type": "markdown",
      "metadata": {
        "id": "lyGrVyxSlpfE"
      },
      "source": [
        "## **9.4 데이터 수정하기**\n",
        "\n",
        "'complicated_dict' 딕셔너리에 있는 기존의 값을 수정할 때도 값을 추가하는 방식인 `딕셔너리[key] = value` 형태를 사용합니다.\n",
        "\n",
        "아래 코드로 예시합니다."
      ]
    },
    {
      "cell_type": "code",
      "metadata": {
        "colab": {
          "base_uri": "https://localhost:8080/"
        },
        "id": "sY5nCtrOmEpW",
        "outputId": "cf9e7269-3409-478f-d7c1-2c8428bdfb57"
      },
      "source": [
        "complicated_dict['sub_num_dict'] = {0: 1, 2: 3}\n",
        "print(complicated_dict)"
      ],
      "execution_count": null,
      "outputs": [
        {
          "output_type": "stream",
          "name": "stdout",
          "text": [
            "{0: 1, 2: [3, 4, 5], 'six': (7, 8), 'sub_num_dict': {0: 1, 2: 3}, 'nine': 'finished', 'ten': [11, 12]}\n"
          ]
        }
      ]
    },
    {
      "cell_type": "markdown",
      "metadata": {
        "id": "rQM-qEdPmgaL"
      },
      "source": [
        "## **9.5 데이터 삭제하기**\n",
        "\n",
        "'complicated_dict' 딕셔너리에 있는 값을 삭제하려면 `del 딕셔너리[key]` 형태를 사용합니다. 키에 해당하는 값이 키와 함께 삭제됩니다.\n",
        "\n",
        "아래 코드로 예시합니다."
      ]
    },
    {
      "cell_type": "code",
      "metadata": {
        "colab": {
          "base_uri": "https://localhost:8080/"
        },
        "id": "RS_h_LJJm5wl",
        "outputId": "f8919547-db3d-4f87-8161-3ddb6d89062e"
      },
      "source": [
        "del complicated_dict['sub_num_dict']\n",
        "print(complicated_dict)"
      ],
      "execution_count": null,
      "outputs": [
        {
          "output_type": "stream",
          "name": "stdout",
          "text": [
            "{0: 1, 2: [3, 4, 5], 'six': (7, 8), 'nine': 'finished', 'ten': [11, 12]}\n"
          ]
        }
      ]
    },
    {
      "cell_type": "markdown",
      "metadata": {
        "id": "0wV6xhuCnLG0"
      },
      "source": [
        "## **9.6 딕셔너리 함수 적용하기**\n",
        "\n",
        "딕셔너리도 전용 함수가 있습니다. 형식은 `딕셔너리.함수()`입니다.\n",
        "\n",
        "아래는 딕셔너리 전용 함수 목록을 예시로 풀어낸 형식입니다.\n",
        "\n",
        "- `complicated_dict.keys()`: 모든 키를 리스트로 출력합니다.\n",
        "\n",
        "- `complicated_dict.values()`: 모든 값을 리스트로 출력합니다.\n",
        "\n",
        "- `complicated_dict.items()`: 키와 값의 짝을 리스트 안에 튜플로 출력합니다.\n",
        "\n",
        "- `complicated_dict.update(loc_dict)`: 딕셔너리에 다른 딕셔너리가 가진 데이터를 추가합니다.\n",
        "\n",
        "- `complicated_dict.clear()`: 모든 원소를 삭제합니다."
      ]
    },
    {
      "cell_type": "markdown",
      "metadata": {
        "id": "cE7Jmgycz6YR"
      },
      "source": [
        "`key()` 함수에 대한 예시입니다."
      ]
    },
    {
      "cell_type": "code",
      "metadata": {
        "colab": {
          "base_uri": "https://localhost:8080/"
        },
        "id": "MRWhSV1L7Ygl",
        "outputId": "71444065-a6dd-4454-a15a-f527419a12f2"
      },
      "source": [
        "print(complicated_dict)\n",
        "print(complicated_dict.keys())"
      ],
      "execution_count": null,
      "outputs": [
        {
          "output_type": "stream",
          "name": "stdout",
          "text": [
            "{0: 1, 2: [3, 4, 5], 'six': (7, 8), 'nine': 'finished', 'ten': [11, 12]}\n",
            "dict_keys([0, 2, 'six', 'nine', 'ten'])\n"
          ]
        }
      ]
    },
    {
      "cell_type": "markdown",
      "metadata": {
        "id": "W36nToM17hQP"
      },
      "source": [
        "`values()` 함수에 대한 예시입니다."
      ]
    },
    {
      "cell_type": "code",
      "metadata": {
        "colab": {
          "base_uri": "https://localhost:8080/"
        },
        "id": "9PC160uL7ka3",
        "outputId": "07637040-b1ed-4801-a1ce-1df454d5389c"
      },
      "source": [
        "print(complicated_dict)\n",
        "print(complicated_dict.values())"
      ],
      "execution_count": null,
      "outputs": [
        {
          "output_type": "stream",
          "name": "stdout",
          "text": [
            "{0: 1, 2: [3, 4, 5], 'six': (7, 8), 'nine': 'finished', 'ten': [11, 12]}\n",
            "dict_values([1, [3, 4, 5], (7, 8), 'finished', [11, 12]])\n"
          ]
        }
      ]
    },
    {
      "cell_type": "markdown",
      "metadata": {
        "id": "yk3h22PX7yCi"
      },
      "source": [
        "`items()` 함수에 대한 예시입니다. 리스트에 튜플로 키와 값이 묶입니다."
      ]
    },
    {
      "cell_type": "code",
      "metadata": {
        "colab": {
          "base_uri": "https://localhost:8080/"
        },
        "id": "eKuKLoe571FV",
        "outputId": "83460c86-88fa-4075-9179-5ab90895331d"
      },
      "source": [
        "print(complicated_dict)\n",
        "print(complicated_dict.items())"
      ],
      "execution_count": null,
      "outputs": [
        {
          "output_type": "stream",
          "name": "stdout",
          "text": [
            "{0: 1, 2: [3, 4, 5], 'six': (7, 8), 'nine': 'finished', 'ten': [11, 12]}\n",
            "dict_items([(0, 1), (2, [3, 4, 5]), ('six', (7, 8)), ('nine', 'finished'), ('ten', [11, 12])])\n"
          ]
        }
      ]
    },
    {
      "cell_type": "markdown",
      "metadata": {
        "id": "M3bwYjiO8KnJ"
      },
      "source": [
        "데이터를 분석할 때는 일반적으로 리스트를 사용하는 경우가 많습니다. 리스트로 변환하는 작업에 능숙해야 합니다. \n",
        "\n",
        "아래는 이를 예시한 코드입니다."
      ]
    },
    {
      "cell_type": "code",
      "metadata": {
        "colab": {
          "base_uri": "https://localhost:8080/"
        },
        "id": "QqbPT8Uy8q2C",
        "outputId": "8ed379b1-9570-4e92-a47f-3fa8eccf9141"
      },
      "source": [
        "print(list(complicated_dict.keys()))\n",
        "print(list(complicated_dict.values()))\n",
        "print(list(complicated_dict.items()))"
      ],
      "execution_count": null,
      "outputs": [
        {
          "output_type": "stream",
          "name": "stdout",
          "text": [
            "[0, 2, 'six', 'nine', 'ten']\n",
            "[1, [3, 4, 5], (7, 8), 'finished', [11, 12]]\n",
            "[(0, 1), (2, [3, 4, 5]), ('six', (7, 8)), ('nine', 'finished'), ('ten', [11, 12])]\n"
          ]
        }
      ]
    },
    {
      "cell_type": "markdown",
      "metadata": {
        "id": "vyhHNaw29B1p"
      },
      "source": [
        "`update()` 함수에 대한 예시입니다."
      ]
    },
    {
      "cell_type": "code",
      "metadata": {
        "colab": {
          "base_uri": "https://localhost:8080/"
        },
        "id": "G6S-dH_a9Eqf",
        "outputId": "fe1f72a8-5f96-4acd-f9ee-bd883255bc5d"
      },
      "source": [
        "complicated_dict.update(loc_dict)\n",
        "print(complicated_dict)"
      ],
      "execution_count": null,
      "outputs": [
        {
          "output_type": "stream",
          "name": "stdout",
          "text": [
            "{0: 1, 2: [3, 4, 5], 'six': (7, 8), 'nine': 'finished', 'ten': [11, 12], '서울': '종로', '경기': '분당', '인천': '부평', '충남': '논산'}\n"
          ]
        }
      ]
    },
    {
      "cell_type": "markdown",
      "metadata": {
        "id": "qLySqiF29To1"
      },
      "source": [
        "`clear()` 함수를 사용하면 세트 형태는 남고 모든 데이터가 삭제됩니다. 타입 또한 여전히 세트입니다."
      ]
    },
    {
      "cell_type": "code",
      "metadata": {
        "colab": {
          "base_uri": "https://localhost:8080/"
        },
        "id": "C7gIeXx29amE",
        "outputId": "a23c48a5-a8e8-4604-9a6e-e05c44dee85b"
      },
      "source": [
        "complicated_dict.clear()\n",
        "print(complicated_dict)\n",
        "type(complicated_dict)"
      ],
      "execution_count": null,
      "outputs": [
        {
          "output_type": "stream",
          "name": "stdout",
          "text": [
            "{}\n"
          ]
        },
        {
          "output_type": "execute_result",
          "data": {
            "text/plain": [
              "dict"
            ]
          },
          "metadata": {},
          "execution_count": 138
        }
      ]
    },
    {
      "cell_type": "markdown",
      "metadata": {
        "id": "Vu0XeaF9-ElY"
      },
      "source": [
        "# **10. 제어문**\n",
        "\n",
        "제어문은 조건문과 반복문으로 나뉩니다. 말그대로 조건문은 조건에 따라 다른 명령을 수행하도록 작성한 코드이고, 반복문은 특정 명령을 반복하도록 작성한 코드입니다. 이 두 문형은 매우 밀접한 관계이므로 주로 혼합하여 구성합니다."
      ]
    },
    {
      "cell_type": "markdown",
      "metadata": {
        "id": "JfDIZTSn_CKJ"
      },
      "source": [
        "## **10.1 pass 활용하기**\n",
        "\n",
        "코딩하는 과정 중에 `pass`를 활용하면 큰 도움이 됩니다. 초기 단계에 전체적인 코드 틀을 형성하면서 `pass`를 활용하고, 세세하게 코딩하는 단계에서 `pass`를 제거해가며 코드 전체를 완성하는 것입니다. 기실 틀만 잡고 아무 코드가 없는 상태에서는 애러가 발생하기 마련입니다. 이를 `pass`가 방지하는 것입니다.\n",
        "\n",
        "아래는 설명에 대한 예시입니다.\n",
        "\n"
      ]
    },
    {
      "cell_type": "code",
      "metadata": {
        "id": "Fm3OqVXUDYYy"
      },
      "source": [
        "a = 100\n",
        "if a > 190:\n",
        "    pass\n",
        "elif 100 <= a < 190:\n",
        "    pass\n",
        "else:\n",
        "    pass"
      ],
      "execution_count": null,
      "outputs": []
    },
    {
      "cell_type": "markdown",
      "metadata": {
        "id": "9pLFYhfMEVed"
      },
      "source": [
        "## **10.2 range() 함수 적용하기**\n",
        "\n",
        "`range()` 함수는 for문에서 자주 사용합니다. 형식은 `range(시작, 끝, 단계)`이며, 인덱싱처럼 끝은 끝-1입니다. 지정한 끝의 전까지만 범위를 지정합니다.\n",
        "\n",
        "코드로 예시합니다."
      ]
    },
    {
      "cell_type": "code",
      "metadata": {
        "colab": {
          "base_uri": "https://localhost:8080/"
        },
        "id": "YXXaJrD5itGE",
        "outputId": "7a31e7ac-4f7d-482b-e0d8-06473f3a1bfb"
      },
      "source": [
        "for i in range(0, 6, 2):\n",
        "    print(i)"
      ],
      "execution_count": 4,
      "outputs": [
        {
          "output_type": "stream",
          "name": "stdout",
          "text": [
            "0\n",
            "2\n",
            "4\n"
          ]
        }
      ]
    },
    {
      "cell_type": "markdown",
      "metadata": {
        "id": "GRzZo427kO33"
      },
      "source": [
        "`range(시작, 끝, 단계)` 형식에서 시작과 단계를 생략하면 끝만 남습니다. 여기서 시작과 단계는 각각 0과 1로 간주합니다.\n",
        "\n",
        "아래는 예시입니다."
      ]
    },
    {
      "cell_type": "code",
      "metadata": {
        "colab": {
          "base_uri": "https://localhost:8080/"
        },
        "id": "BiuKWlpvkfIG",
        "outputId": "ed875991-ef18-4037-926a-1afe386576d8"
      },
      "source": [
        "for i in range(8):\n",
        "    print(i)"
      ],
      "execution_count": 8,
      "outputs": [
        {
          "output_type": "stream",
          "name": "stdout",
          "text": [
            "0\n",
            "1\n",
            "2\n",
            "3\n",
            "4\n",
            "5\n",
            "6\n",
            "7\n"
          ]
        }
      ]
    },
    {
      "cell_type": "markdown",
      "metadata": {
        "id": "y-BcVsDvhphl"
      },
      "source": [
        "`range()` 함수로 결과를 출력하려면 `list()` 함수를 사용해야 합니다.\n",
        "\n",
        "예시로 설명합니다."
      ]
    },
    {
      "cell_type": "code",
      "metadata": {
        "colab": {
          "base_uri": "https://localhost:8080/"
        },
        "id": "PG_7EnTKh4RV",
        "outputId": "0d2a937f-2278-4a14-d1d2-7d0e82205b08"
      },
      "source": [
        "print(range(0, 6, 2))"
      ],
      "execution_count": 5,
      "outputs": [
        {
          "output_type": "stream",
          "name": "stdout",
          "text": [
            "range(0, 6, 2)\n"
          ]
        }
      ]
    },
    {
      "cell_type": "markdown",
      "metadata": {
        "id": "_7eY1isZiZMC"
      },
      "source": [
        "`range(0, 6)`이라는 형태로 출력됐습니다. 포함된 값을 출력하려면 `list()` 함수로 묶어야 합니다."
      ]
    },
    {
      "cell_type": "code",
      "metadata": {
        "colab": {
          "base_uri": "https://localhost:8080/"
        },
        "id": "i-_9xzgrijI8",
        "outputId": "9c791276-6c85-420b-a94e-db02bfef0e2f"
      },
      "source": [
        "list(range(0, 6, 2))"
      ],
      "execution_count": 6,
      "outputs": [
        {
          "output_type": "execute_result",
          "data": {
            "text/plain": [
              "[0, 2, 4]"
            ]
          },
          "metadata": {},
          "execution_count": 6
        }
      ]
    },
    {
      "cell_type": "markdown",
      "metadata": {
        "id": "NtcbuU_hk0sm"
      },
      "source": [
        "## **10.3 zip() 함수 적용하기**\n",
        "\n",
        "`zip()` 함수는 여러 리스트의 값을 하나로 묶는 데에 사용할 수 있습니다.\n",
        "\n",
        "아래 코드로 설명합니다."
      ]
    },
    {
      "cell_type": "code",
      "metadata": {
        "colab": {
          "base_uri": "https://localhost:8080/"
        },
        "id": "wcsuyTlvnLus",
        "outputId": "3085dce5-cbee-4ba6-bc64-7384ca964317"
      },
      "source": [
        "fruits = ['banana', 'apple', 'grape', 'strawberry']\n",
        "names = ['승원', '미니', '꼬맹', '철수']\n",
        "\n",
        "for fruits, names in zip(fruits, names):\n",
        "    print(fruits, names)"
      ],
      "execution_count": 12,
      "outputs": [
        {
          "output_type": "stream",
          "name": "stdout",
          "text": [
            "banana 승원\n",
            "apple 미니\n",
            "grape 꼬맹\n",
            "strawberry 철수\n"
          ]
        }
      ]
    },
    {
      "cell_type": "markdown",
      "metadata": {
        "id": "9VQ-HjaypiEB"
      },
      "source": [
        "## **10.4 while문**\n",
        "\n",
        "for문이 단순하게 반복만 수행하는 형태라면, while문은 조건에 따라 반복하고 멈추는 형태입니다.\n",
        "\n",
        "아래는 while문의 예시입니다."
      ]
    },
    {
      "cell_type": "code",
      "metadata": {
        "colab": {
          "base_uri": "https://localhost:8080/"
        },
        "id": "nXknbfyqp-HX",
        "outputId": "31df2478-4ae8-48ed-fa03-469bc0d5b5b8"
      },
      "source": [
        "i = 0\n",
        "sum = 0\n",
        "\n",
        "while (sum < 10):\n",
        "    i = i + 1\n",
        "    sum = sum + i\n",
        "    print(i, sum)"
      ],
      "execution_count": 14,
      "outputs": [
        {
          "output_type": "stream",
          "name": "stdout",
          "text": [
            "1 1\n",
            "2 3\n",
            "3 6\n",
            "4 10\n"
          ]
        }
      ]
    },
    {
      "cell_type": "markdown",
      "metadata": {
        "id": "HTyZFsvkqmG-"
      },
      "source": [
        "무한으로 반복하게 하려면 조건을 항상 참인 `True`로 지정합니다."
      ]
    },
    {
      "cell_type": "code",
      "metadata": {
        "id": "Tg6cRW_BqtN0"
      },
      "source": [
        "# 주석으로 처리합니다.\n",
        "# while True:\n",
        "#     print('infinite')"
      ],
      "execution_count": 16,
      "outputs": []
    },
    {
      "cell_type": "markdown",
      "metadata": {
        "id": "W42FK0x3rAJq"
      },
      "source": [
        "## **10.5 continue와 break으로 제어하기**\n",
        "\n",
        "continue는 처음으로 돌아가서 반복을 수행하고, break은 반복문을 빠져나옵니다.\n",
        "\n",
        "먼저 continue에 대한 예시입니다."
      ]
    },
    {
      "cell_type": "code",
      "metadata": {
        "colab": {
          "base_uri": "https://localhost:8080/"
        },
        "id": "LdF4zjCdrivB",
        "outputId": "e362bd21-540f-4552-aff1-326363b18e4c"
      },
      "source": [
        "for i in range(6):\n",
        "    if i == 3:\n",
        "        continue\n",
        "    print(i)"
      ],
      "execution_count": 18,
      "outputs": [
        {
          "output_type": "stream",
          "name": "stdout",
          "text": [
            "0\n",
            "1\n",
            "2\n",
            "4\n",
            "5\n"
          ]
        }
      ]
    },
    {
      "cell_type": "markdown",
      "metadata": {
        "id": "WyGlKbQYr4Jr"
      },
      "source": [
        "3만 빼놓고 출력했습니다.\n",
        "\n",
        "다음은 break에 대한 예시입니다."
      ]
    },
    {
      "cell_type": "code",
      "metadata": {
        "colab": {
          "base_uri": "https://localhost:8080/"
        },
        "id": "Q3msWh6PsDhW",
        "outputId": "e9be4b1c-08b0-4e91-d7f2-1bafe2a17feb"
      },
      "source": [
        "for i in range(6):\n",
        "    if i > 4:\n",
        "        break\n",
        "    print(i)"
      ],
      "execution_count": 19,
      "outputs": [
        {
          "output_type": "stream",
          "name": "stdout",
          "text": [
            "0\n",
            "1\n",
            "2\n",
            "3\n",
            "4\n"
          ]
        }
      ]
    },
    {
      "cell_type": "markdown",
      "metadata": {
        "id": "9MBjzIkksOaU"
      },
      "source": [
        "'i'가 4보다 크므로 빠져나왔습니다.\n",
        "\n",
        "continue와 break을 모두 사용하겠습니다."
      ]
    },
    {
      "cell_type": "code",
      "metadata": {
        "colab": {
          "base_uri": "https://localhost:8080/"
        },
        "id": "_BrCfAJ-sgWk",
        "outputId": "885f8b42-2420-4da7-e6c6-05860a61563b"
      },
      "source": [
        "i = 0\n",
        "\n",
        "while True:\n",
        "    i = i + 1\n",
        "    if i == 3:\n",
        "        print(\"it's 3.\")\n",
        "        continue\n",
        "    if i > 6:\n",
        "        break\n",
        "    print(i)"
      ],
      "execution_count": 21,
      "outputs": [
        {
          "output_type": "stream",
          "name": "stdout",
          "text": [
            "1\n",
            "2\n",
            "it's 3.\n",
            "4\n",
            "5\n",
            "6\n"
          ]
        }
      ]
    }
  ]
}