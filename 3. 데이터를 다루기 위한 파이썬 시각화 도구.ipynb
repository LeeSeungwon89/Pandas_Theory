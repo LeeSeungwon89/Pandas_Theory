{
  "nbformat": 4,
  "nbformat_minor": 0,
  "metadata": {
    "colab": {
      "name": "데이터를 다루기 위한 파이썬 시각화 도구.ipynb",
      "provenance": [],
      "toc_visible": true,
      "authorship_tag": "ABX9TyNgGcEpJxqqJNF5i8GP0CQI",
      "include_colab_link": true
    },
    "kernelspec": {
      "name": "python3",
      "display_name": "Python 3"
    },
    "language_info": {
      "name": "python"
    }
  },
  "cells": [
    {
      "cell_type": "markdown",
      "metadata": {
        "id": "view-in-github",
        "colab_type": "text"
      },
      "source": [
        "<a href=\"https://colab.research.google.com/github/LeeSeungwon89/Python_for_Data_Analytics_Science/blob/main/%EB%8D%B0%EC%9D%B4%ED%84%B0%EB%A5%BC%20%EB%8B%A4%EB%A3%A8%EA%B8%B0%20%EC%9C%84%ED%95%9C%20%ED%8C%8C%EC%9D%B4%EC%8D%AC%20%EC%8B%9C%EA%B0%81%ED%99%94%20%EB%8F%84%EA%B5%AC.ipynb\" target=\"_parent\"><img src=\"https://colab.research.google.com/assets/colab-badge.svg\" alt=\"Open In Colab\"/></a>"
      ]
    },
    {
      "cell_type": "markdown",
      "metadata": {
        "id": "5VTaZXIloC9o"
      },
      "source": [
        "# **1. Matplotlib**"
      ]
    },
    {
      "cell_type": "markdown",
      "metadata": {
        "id": "AI4rLw-foJAU"
      },
      "source": [
        "# **2. Seaborn**"
      ]
    },
    {
      "cell_type": "markdown",
      "metadata": {
        "id": "X18yL-HhoqY_"
      },
      "source": [
        "# **3. Folium**"
      ]
    }
  ]
}
