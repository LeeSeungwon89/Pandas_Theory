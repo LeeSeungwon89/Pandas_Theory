{
  "nbformat": 4,
  "nbformat_minor": 0,
  "metadata": {
    "colab": {
      "name": "2. 선형대수.ipynb",
      "provenance": [],
      "toc_visible": true,
      "collapsed_sections": [],
      "authorship_tag": "ABX9TyNcA1C4OazaW03p15cHDRRT",
      "include_colab_link": true
    },
    "kernelspec": {
      "name": "python3",
      "display_name": "Python 3"
    },
    "language_info": {
      "name": "python"
    }
  },
  "cells": [
    {
      "cell_type": "markdown",
      "metadata": {
        "id": "view-in-github",
        "colab_type": "text"
      },
      "source": [
        "<a href=\"https://colab.research.google.com/github/LeeSeungwon89/Python_for_Data_Analytics_Science/blob/main/2.%20%EC%84%A0%ED%98%95%EB%8C%80%EC%88%98.ipynb\" target=\"_parent\"><img src=\"https://colab.research.google.com/assets/colab-badge.svg\" alt=\"Open In Colab\"/></a>"
      ]
    },
    {
      "cell_type": "markdown",
      "source": [
        "**선형대수(linear algebra)**는 다차원 구조를 가진 수치의 나열을 다루는 수학 분야입니다. 인공지능에서 선형대수를 활용하면 많은 수치를 간결한 수식으로 처리하고 기술할 수 있습니다."
      ],
      "metadata": {
        "id": "JRfch_k-zDOF"
      }
    },
    {
      "cell_type": "code",
      "source": [
        "# 기본적인 라이브러리입니다.\n",
        "import time\n",
        "import datetime\n",
        "import random\n",
        "import math\n",
        "\n",
        "# 데이터 분석을 위한 라이브러리입니다.\n",
        "import numpy as np\n",
        "import pandas as pd\n",
        "import sklearn as sk\n",
        "\n",
        "# 수학 라이브러리입니다.\n",
        "import scipy as sp\n",
        "import statsmodels.api as sm\n",
        "\n",
        "# 웹 스크레이핑을 위한 라이브러리입니다\n",
        "import re\n",
        "import requests\n",
        "from bs4 import BeautifulSoup\n",
        "import os\n",
        "import json\n",
        "\n",
        "# 시각화 라이브러리입니다.\n",
        "import matplotlib as mpl\n",
        "import matplotlib.pylab as plb\n",
        "import matplotlib.pyplot as plt\n",
        "import seaborn as sns\n",
        "import folium as flm\n",
        "\n",
        "# 시각화 자료를 바로 띄워줍니다.\n",
        "%matplotlib inline\n",
        "\n",
        "# 그래프에 retina를 지정합니다.\n",
        "%config InlineBackend.figure_format = 'retina'\n",
        "\n",
        "# 음수 부호를 깨지지 않도록 합니다.\n",
        "mpl.rc('axes', unicode_minus=False)"
      ],
      "metadata": {
        "id": "kOJmfENx7kXX"
      },
      "execution_count": 5,
      "outputs": []
    },
    {
      "cell_type": "markdown",
      "source": [
        "# **1. 스칼라**"
      ],
      "metadata": {
        "id": "s-oEoEpyvV8L"
      }
    },
    {
      "cell_type": "markdown",
      "source": [
        "**스칼라(scalar)**는 보통 수치(1, 4.6, 1.5e6, -8 등)를 의미합니다. 행렬을 구성하는 원소 중에 최소 단위입니다."
      ],
      "metadata": {
        "id": "HLBZbrzQy736"
      }
    },
    {
      "cell_type": "markdown",
      "source": [
        "# **2. 벡터**"
      ],
      "metadata": {
        "id": "gtJqJt0Gvdsr"
      }
    },
    {
      "cell_type": "markdown",
      "source": [
        "**벡터(vector)**는 스칼라의 집합이며 스칼라를 직선 상에 나열한 것을 의미합니다. 스칼라는 크기만 가지고, 벡터는 크기와 방향을 가집니다. 벡터 표기는 아래와 같습니다.\n",
        "\n",
        "> $\\overrightarrow{a} = \\begin{pmatrix}\n",
        "3\\\\\n",
        "4\\\\\n",
        "5\n",
        "\\end{pmatrix}$\n",
        "\n",
        "> $\\overrightarrow{b} = \\begin{pmatrix}\n",
        "b_1\\\\\n",
        "b_2\\\\\n",
        "\\vdots\\\\\n",
        "b_m\n",
        "\\end{pmatrix}$\n",
        "\n",
        "> $\\overrightarrow{c} = (1.2, 3.21, -3.6, 0.1)$\n",
        "\n",
        "> $\\overrightarrow{d} = (d_1, d_2, \\cdots, d_n)$\n",
        "\n",
        "$\\overrightarrow{a}$와 $\\overrightarrow{b}$는 세로 벡터, $\\overrightarrow{c}$와 $\\overrightarrow{d}$는 가로 벡터입니다. 아울러 벡터의 원소를 변수로 나타낼 때 $\\overrightarrow{b}$와 $\\overrightarrow{d}$의 첨자(알파벳 아래 붙은 $n$) 수는 1개이며, 첨자의 개수에 따라 차원이 달라집니다. 벡터의 차원은 1차원입니다."
      ],
      "metadata": {
        "id": "mcl5RuC6z_8C"
      }
    },
    {
      "cell_type": "markdown",
      "source": [
        "## **2.1. 내적**"
      ],
      "metadata": {
        "id": "UqEMQUzgwSoL"
      }
    },
    {
      "cell_type": "markdown",
      "source": [
        "**내적(inner product)**은 벡터끼리 곱하는 방식 중 하나입니다. 아래에 두 벡터가 존재한다고 가정하겠습니다.\n",
        "\n",
        "> $\\overrightarrow{a} = (a_1, a_2, \\cdots, a_n)$\n",
        "\n",
        "> $\\overrightarrow{b} = (b_1, b_2, \\cdots, b_n)$\n",
        "\n",
        "두 벡터의 내적은 아래와 같습니다. 벡터의 내적을 구하려면 요소 개수는 같아야 합니다. \n",
        "\n",
        "> $\\begin{align}\n",
        "\\overrightarrow{a} \\cdot \\overrightarrow{b} &= (a_1, a_2, \\cdots, a_n) \\cdot (b_1, b_2, \\cdots, b_n) \\\\\n",
        "&= (a_1b_1 + a_2b_2 + \\cdots + a_nb_n) \\\\\n",
        "&= \\displaystyle\\sum_{k=1}^{n} a_kb_k\n",
        "\\end{align}$\n",
        "\n",
        "내적은 벡터간 **상관관계**를 구할 때 활용합니다. 상관관계는 **4. 확률 및 통계**에서 다룰 예정입니다."
      ],
      "metadata": {
        "id": "_8Rfga8f4KhK"
      }
    },
    {
      "cell_type": "markdown",
      "source": [
        "`np.dot()` 메서드로 내적을 구할 수 있습니다."
      ],
      "metadata": {
        "id": "TNCMam007H-T"
      }
    },
    {
      "cell_type": "code",
      "source": [
        "a = np.array([1, 2, 3, 4, 5])\n",
        "b = np.array([5, 4, 3, 2, 1])\n",
        "\n",
        "np.dot(a, b)"
      ],
      "metadata": {
        "colab": {
          "base_uri": "https://localhost:8080/"
        },
        "id": "75Ipez4O7PQM",
        "outputId": "78bf13dc-8960-4aa1-b0be-77c316e2ea68"
      },
      "execution_count": null,
      "outputs": [
        {
          "output_type": "execute_result",
          "data": {
            "text/plain": [
              "35"
            ]
          },
          "metadata": {},
          "execution_count": 8
        }
      ]
    },
    {
      "cell_type": "markdown",
      "source": [
        "`sum()` 메서드로도 내적을 구할 수 있습니다."
      ],
      "metadata": {
        "id": "t2j8bsH37wZH"
      }
    },
    {
      "cell_type": "code",
      "source": [
        "a = np.array([1, 2, 3, 4, 5])\n",
        "b = np.array([5, 4, 3, 2, 1])\n",
        "\n",
        "sum(a * b)"
      ],
      "metadata": {
        "colab": {
          "base_uri": "https://localhost:8080/"
        },
        "id": "HAcamoNk7s_1",
        "outputId": "d2d80a17-ac2a-4c74-8ddf-81142bbb3e84"
      },
      "execution_count": null,
      "outputs": [
        {
          "output_type": "execute_result",
          "data": {
            "text/plain": [
              "35"
            ]
          },
          "metadata": {},
          "execution_count": 6
        }
      ]
    },
    {
      "cell_type": "markdown",
      "source": [
        "## **2.2. 놈**"
      ],
      "metadata": {
        "id": "Yr-7UYoHwV9y"
      }
    },
    {
      "cell_type": "markdown",
      "source": [
        "**놈(norm)**은 벡터의 크기를 나타내는 양입니다. 인공지능에서는 $L^2$놈과 $L^1$놈을 자주 사용하여 **정칙화(regularization)**를 목적으로 삼습니다. 정칙화는 모델이 필요 이상으로 학습되지 않도록 파라미터 조정을 통해 방지하는 조치를 의미합니다.\n",
        "\n",
        "먼저 $L^2$ 놈은 $||\\overrightarrow{x}||_2$로 나타냅니다. 벡터의 각 요소를 제곱하고 합해서 제곱근을 구합니다.\n",
        "\n",
        "> $\\begin{align}\n",
        "||\\overrightarrow{x}||_2 &= \\sqrt{x^2_1 + x^2_2 + \\cdots + x^2_n} \\\\\n",
        "&= \\sqrt{\\displaystyle\\sum_{k=1}^{n} x^2_k}\n",
        "\\end{align}$\n",
        "\n",
        "다음으로 $L^1$ 놈은 $||\\overrightarrow{x}||_1$로 나타냅니다. 벡터의 각 요소의 절댓값을 더합니다.\n",
        "\n",
        "> $\\begin{align}\n",
        "||\\overrightarrow{x}||_1 &= |x_1| + |x_2| + \\cdots + |x_n| \\\\\n",
        "&= \\displaystyle\\sum_{k=1}^n |x_k|\n",
        "\\end{align}$\n",
        "\n",
        "놈을 더 일반화한 $L^p$ 놈도 있습니다.\n",
        "\n",
        "> $\\begin{align}\n",
        "||\\overrightarrow{x}||_p &= |x^p_1| + |x^p_2| + \\cdots + |x^p_n| \\\\\n",
        "&= (\\displaystyle\\sum_{k=1}^n x^p_k)^{\\frac{1}{p}}\n",
        "\\end{align}$"
      ],
      "metadata": {
        "id": "Rs94DnFl80zv"
      }
    },
    {
      "cell_type": "markdown",
      "source": [
        "`np.linalg.norm()` 메서드로 놈을 구할 수 있습니다. 기본값은 $L^2$ 놈입니다."
      ],
      "metadata": {
        "id": "aN2ivnTIBAeD"
      }
    },
    {
      "cell_type": "code",
      "source": [
        "a = ([1, 3, 2, 6, -9])\n",
        "\n",
        "np.linalg.norm(a)"
      ],
      "metadata": {
        "colab": {
          "base_uri": "https://localhost:8080/"
        },
        "id": "fvdmIe5uBGkh",
        "outputId": "edd84d30-1722-4951-cdee-800af25a0ace"
      },
      "execution_count": null,
      "outputs": [
        {
          "output_type": "execute_result",
          "data": {
            "text/plain": [
              "11.445523142259598"
            ]
          },
          "metadata": {},
          "execution_count": 9
        }
      ]
    },
    {
      "cell_type": "markdown",
      "source": [
        "$L^1$ 놈을 적용하겠습니다. $L^2$ 놈과 다른 값이 도출됩니다."
      ],
      "metadata": {
        "id": "gvdZRATRBjrs"
      }
    },
    {
      "cell_type": "code",
      "source": [
        "a = ([1, 3, 2, 6, -9])\n",
        "\n",
        "np.linalg.norm(a, 1)"
      ],
      "metadata": {
        "colab": {
          "base_uri": "https://localhost:8080/"
        },
        "id": "qYRCUD_lBYJX",
        "outputId": "24ea4e48-68a2-43a8-e382-fdfd57be1014"
      },
      "execution_count": null,
      "outputs": [
        {
          "output_type": "execute_result",
          "data": {
            "text/plain": [
              "21.0"
            ]
          },
          "metadata": {},
          "execution_count": 10
        }
      ]
    },
    {
      "cell_type": "markdown",
      "source": [
        "# **3. 행렬**"
      ],
      "metadata": {
        "id": "q0vkHuV6vdlT"
      }
    },
    {
      "cell_type": "markdown",
      "source": [
        "**행렬(matrix)**은 벡터의 집합입니다. 행렬을 구성하는 스칼라 값은 **원소(element)**라고 부릅니다."
      ],
      "metadata": {
        "id": "3fKd5frKMlD8"
      }
    },
    {
      "cell_type": "markdown",
      "source": [
        "## **3.1. 행렬 곱**"
      ],
      "metadata": {
        "id": "bWqxi9qKwbco"
      }
    },
    {
      "cell_type": "markdown",
      "source": [
        "행렬 $A$와 $B$가 있다고 가정하겠습니다.\n",
        "\n",
        "> $A =\n",
        "\\begin{pmatrix}\n",
        "a_{11} & a_{12} & a_{13} \\\\\n",
        "a_{21} & a_{22} & a_{23} \\\\\n",
        "\\end{pmatrix}$\n",
        "\n",
        "> $B =\n",
        "\\begin{pmatrix}\n",
        "b_{11} & b_{12} \\\\\n",
        "b_{21} & b_{22} \\\\\n",
        "b_{31} & b_{32}\n",
        "\\end{pmatrix}$\n",
        "\n",
        "이 두 행렬을 **행렬곱(matrix multiplication)**하면 아래 형식이 됩니다.\n",
        "\n",
        "> $\\begin{align}\n",
        "AB &=\n",
        "\\begin{pmatrix}\n",
        "a_{11} & a_{12} & a_{13} \\\\\n",
        "a_{21} & a_{22} & a_{23} \\\\\n",
        "\\end{pmatrix}\n",
        "\\begin{pmatrix}\n",
        "b_{11} & b_{12} \\\\\n",
        "b_{21} & b_{22} \\\\\n",
        "b_{31} & b_{32}\n",
        "\\end{pmatrix} \\\\\n",
        "&= \\begin{pmatrix}\n",
        "a_{11}b_{11} + a_{12}b_{21} + a_{13}b_{31} & a_{11}b_{12} + a_{12}b_{22} + a_{13}b_{32} \\\\\n",
        "a_{21}b_{11} + a_{22}b_{21} + a_{23}b_{31} & a_{21}b_{12} + a_{22}b_{22} + a_{23}b_{32} \\\\\n",
        "\\end{pmatrix} \\\\\n",
        "&= \\begin{pmatrix}\n",
        "\\displaystyle\\sum_{k=1}^3 a_{1k}b_{k1} & \\displaystyle\\sum_{k=1}^3 a_{1k}b_{k2} \\\\\n",
        "\\displaystyle\\sum_{k=1}^3 a_{2k}b_{k1} & \\displaystyle\\sum_{k=1}^3 a_{2k}b_{k2}\n",
        "\\end{pmatrix}\n",
        "\\end{align}$\n",
        "\n",
        "쉽게 말하면 $A$의 1행과 $B$의 1열 및 2열을 각각 곱해서 1행의 두 원소로 삼습니다. $A$의 2행과 $B$의 1열 및 2열을 각각 곱해서 2행의 두 원소로 삼습니다. 참고로 행렬곱 계산 조건은 앞 행렬의 열수와 뒷 행렬의 행수가 같아야 합니다. 예컨대 앞 행렬의 열수가 2라면 뒷 행렬의 행수가 2여야 합니다.\n",
        "\n",
        "행렬곱을 일반화하면 아래와 같습니다.\n",
        "\n",
        "> $\\begin{align}\n",
        "AB &=\n",
        "\\begin{pmatrix}\n",
        "a_{11} & a_{12} & \\cdots & a_{1m} \\\\\n",
        "a_{21} & a_{22} & \\cdots & a_{2m} \\\\\n",
        "\\vdots & \\vdots & \\ddots & \\vdots  \\\\\n",
        "a_{l1} & a_{l2} & \\cdots & a_{lm}\n",
        "\\end{pmatrix}\n",
        "\\begin{pmatrix}\n",
        "b_{11} & b_{12} & \\cdots & b_{1n} \\\\\n",
        "b_{21} & b_{22} & \\cdots & b_{2n} \\\\\n",
        "\\vdots & \\vdots & \\ddots & \\vdots  \\\\\n",
        "b_{m1} & b_{m2} & \\cdots & b_{mn}\n",
        "\\end{pmatrix} \\\\\n",
        "&= \\begin{pmatrix}\n",
        "\\displaystyle\\sum_{k=1}^m a_{1k}b_{k1} & \\displaystyle\\sum_{k=1}^m a_{1k}b_{k2} & \\cdots & \\displaystyle\\sum_{k=1}^m a_{1k}b_{kn} \\\\\n",
        "\\displaystyle\\sum_{k=1}^m a_{2k}b_{k1} & \\displaystyle\\sum_{k=1}^m a_{2k}b_{k2} & \\cdots & \\displaystyle\\sum_{k=1}^m a_{2k}b_{kn} \\\\\n",
        "\\vdots & \\vdots & \\ddots & \\vdots  \\\\\n",
        "\\displaystyle\\sum_{k=1}^m a_{lk}b_{k1} & \\displaystyle\\sum_{k=1}^m a_{lk}b_{k2} & \\cdots & \\displaystyle\\sum_{k=1}^m a_{lk}b_{kn}\n",
        "\\end{pmatrix}\n",
        "\\end{align}$"
      ],
      "metadata": {
        "id": "uem83xdkO0Jo"
      }
    },
    {
      "cell_type": "markdown",
      "source": [
        "`np.dot()` 메서드를 사용하여 행렬곱을 하겠습니다."
      ],
      "metadata": {
        "id": "e9_EY6hRbx8p"
      }
    },
    {
      "cell_type": "code",
      "source": [
        "a = np.array([[0, 1, 2, 3],\n",
        "              [4, 5, 6, 7],\n",
        "              [8, 9, 10, 11]])\n",
        "b = np.array([[1, 2], \n",
        "              [3, 4],\n",
        "              [5, 6],\n",
        "              [7, 8]])\n",
        "np.dot(a, b)"
      ],
      "metadata": {
        "colab": {
          "base_uri": "https://localhost:8080/"
        },
        "id": "g5Qhg52Cb18Y",
        "outputId": "a08bd628-7bcc-449a-bcde-79267380d376"
      },
      "execution_count": null,
      "outputs": [
        {
          "output_type": "execute_result",
          "data": {
            "text/plain": [
              "array([[ 34,  40],\n",
              "       [ 98, 120],\n",
              "       [162, 200]])"
            ]
          },
          "metadata": {},
          "execution_count": 9
        }
      ]
    },
    {
      "cell_type": "markdown",
      "source": [
        "## **3.2. 원소별 곱**"
      ],
      "metadata": {
        "id": "jpRZ-GoSwfKE"
      }
    },
    {
      "cell_type": "markdown",
      "source": [
        "행렬의 원소별 곱(**아다마르 곱**)은 같은 위치의 각 원소를 곱하는 것입니다.\n",
        "\n",
        "행렬 $A$와 $B$가 있다고 가정하겠습니다.\n",
        "\n",
        "> $A =\n",
        "\\begin{pmatrix}\n",
        "a_{11} & a_{12} & \\cdots & a_{1n} \\\\\n",
        "a_{21} & a_{22} & \\cdots & a_{2n} \\\\\n",
        "\\vdots & \\vdots & \\ddots & \\vdots  \\\\\n",
        "a_{m1} & a_{m2} & \\cdots & a_{mn}\n",
        "\\end{pmatrix}$\n",
        "\n",
        "> $B = \\begin{pmatrix}\n",
        "b_{11} & b_{12} & \\cdots & b_{1n} \\\\\n",
        "b_{21} & b_{22} & \\cdots & b_{2n} \\\\\n",
        "\\vdots & \\vdots & \\ddots & \\vdots  \\\\\n",
        "b_{m1} & b_{m2} & \\cdots & b_{mn}\n",
        "\\end{pmatrix}$\n",
        "\n",
        "계산 방식은 아래와 같습니다.\n",
        "\n",
        "> $A \\circ B = \\begin{pmatrix}\n",
        "a_{11}b_{11} & a_{12}b_{12} & \\cdots & a_{1n}b_{1n} \\\\\n",
        "a_{21}b_{21} & a_{22}b_{22} & \\cdots & a_{2n}b_{2n} \\\\\n",
        "\\vdots & \\vdots & \\ddots & \\vdots  \\\\\n",
        "a_{m1}b_{m1} & a_{m2}b_{m2} & \\cdots & a_{mn}b_{mn}\n",
        "\\end{pmatrix}$\n",
        "\n",
        "원소별 곱은 메서드가 아닌 `*` 연산자로 계산합니다. 코드는 생략합니다."
      ],
      "metadata": {
        "id": "1cSOt9AUrB0E"
      }
    },
    {
      "cell_type": "markdown",
      "source": [
        "## **3.3. 전치**"
      ],
      "metadata": {
        "id": "aUP6reN0woju"
      }
    },
    {
      "cell_type": "markdown",
      "source": [
        "**전치(transpose)**는 행렬의 행과 열을 바꾸는 작업입니다.\n",
        "\n",
        "> $A =\n",
        "\\begin{pmatrix}\n",
        "1 & 2 & 3 \\\\\n",
        "4 & 5 & 6 \\\\\n",
        "\\end{pmatrix}$\n",
        "\n",
        "> $A^T =\n",
        "\\begin{pmatrix}\n",
        "1 & 4 \\\\\n",
        "2 & 5 \\\\\n",
        "3 & 6\n",
        "\\end{pmatrix}$\n",
        "\n",
        "아래 두 행렬로는 행렬곱을 할 수 없습니다. 행렬 $A$의 열 개수와 행렬 $B$의 행 개수가 다르기 때문입니다.\n",
        "\n",
        "> $A =\n",
        "\\begin{pmatrix}\n",
        "1 & 2 & 3 \\\\\n",
        "4 & 5 & 6 \\\\\n",
        "\\end{pmatrix}$\n",
        "\n",
        "> $B =\n",
        "\\begin{pmatrix}\n",
        "6 & 5 & 4 \\\\\n",
        "3 & 2 & 1 \\\\\n",
        "\\end{pmatrix}$\n",
        "\n",
        "행렬곱을 하기 위한 조건에 부합하지 않더라도 아래처럼 행렬을 전치하여 행렬곱을 가능하게 하는 경우가 있습니다. \n",
        "\n",
        "> $B^T =\n",
        "\\begin{pmatrix}\n",
        "6 & 3 \\\\\n",
        "5 & 2 \\\\\n",
        "4 & 1\n",
        "\\end{pmatrix}$\n",
        "\n",
        "행렬 $A$의 열 개수와 행렬 $B^T$의 행 개수가 같습니다. 행렬곱이 가능합니다.\n",
        "\n",
        "참고로 코드 상에서 임의의 행렬인 a을 전치하려면 `a.T` 형식을 취합니다. 코드는 생략합니다."
      ],
      "metadata": {
        "id": "ugQ5NTGc1ft5"
      }
    },
    {
      "cell_type": "markdown",
      "source": [
        "## **3.4. 단위행렬**"
      ],
      "metadata": {
        "id": "PZEiEpfgwqC4"
      }
    },
    {
      "cell_type": "markdown",
      "source": [
        "**단위행렬(identity matrix)**은 행과 열의 수가 같고, 좌측 상단(첫 번째 위치)에서 우측 하단(마지막 위치)까지 1로 채워지고 나머지 원소는 0으로 채워진 행렬입니다. \n",
        "\n",
        "> $E =\n",
        "\\begin{pmatrix}\n",
        "1 & 0 \\\\\n",
        "0 & 1 \\\\\n",
        "\\end{pmatrix}$\n",
        "\n",
        "> $E =\n",
        "\\begin{pmatrix}\n",
        "1 & 0 & 0\\\\\n",
        "0 & 1 & 0\\\\\n",
        "0 & 0 & 1\n",
        "\\end{pmatrix}$\n",
        "\n",
        "> $E = \n",
        "\\begin{pmatrix}\n",
        " 1 & 0 & \\cdots & 0 \\\\\n",
        " 0 & 1 & \\cdots & 0 \\\\\n",
        "\\vdots & \\vdots & \\ddots & \\vdots  \\\\\n",
        " 0 & 0 & \\cdots & 1\n",
        "\\end{pmatrix}$\n",
        "\n",
        "행렬의 앞이나 뒤에서 단위행렬과 행렬곱을 해도 행렬의 형태를 그대로 유지합니다.\n",
        "\n",
        "> $E =\n",
        "\\begin{pmatrix}\n",
        "1 & 0 \\\\\n",
        "0 & 1 \\\\\n",
        "\\end{pmatrix}$\n",
        "\n",
        "> $A =\n",
        "\\begin{pmatrix}\n",
        "a & b \\\\\n",
        "c & d \\\\\n",
        "\\end{pmatrix}$\n",
        "\n",
        "> $EA =\n",
        "\\begin{pmatrix}\n",
        "1 & 0 \\\\\n",
        "0 & 1 \\\\\n",
        "\\end{pmatrix}\n",
        "\\begin{pmatrix}\n",
        "a & b \\\\\n",
        "c & d \\\\\n",
        "\\end{pmatrix}=\n",
        "\\begin{pmatrix}\n",
        "a & b \\\\\n",
        "c & d \\\\\n",
        "\\end{pmatrix}$\n",
        "\n",
        "> $AE =\n",
        "\\begin{pmatrix}\n",
        "a & b \\\\\n",
        "c & d \\\\\n",
        "\\end{pmatrix}\n",
        "\\begin{pmatrix}\n",
        "1 & 0 \\\\\n",
        "0 & 1 \\\\\n",
        "\\end{pmatrix}=\n",
        "\\begin{pmatrix}\n",
        "a & b \\\\\n",
        "c & d \\\\\n",
        "\\end{pmatrix}$"
      ],
      "metadata": {
        "id": "AOO8zGmd5gc5"
      }
    },
    {
      "cell_type": "markdown",
      "source": [
        "`np.eye()` 메서드를 사용하여 단위행렬을 만들 수 있습니다."
      ],
      "metadata": {
        "id": "aoLtjorW8Fi_"
      }
    },
    {
      "cell_type": "code",
      "source": [
        "print(np.eye(2))\n",
        "print()\n",
        "print(np.eye(3))\n",
        "print()\n",
        "print(np.eye(100))"
      ],
      "metadata": {
        "colab": {
          "base_uri": "https://localhost:8080/"
        },
        "id": "2S8MyXvH9f3Z",
        "outputId": "c5f60e34-bd1d-40b6-cadb-959219953f13"
      },
      "execution_count": null,
      "outputs": [
        {
          "output_type": "stream",
          "name": "stdout",
          "text": [
            "[[1. 0.]\n",
            " [0. 1.]]\n",
            "\n",
            "[[1. 0. 0.]\n",
            " [0. 1. 0.]\n",
            " [0. 0. 1.]]\n",
            "\n",
            "[[1. 0. 0. ... 0. 0. 0.]\n",
            " [0. 1. 0. ... 0. 0. 0.]\n",
            " [0. 0. 1. ... 0. 0. 0.]\n",
            " ...\n",
            " [0. 0. 0. ... 1. 0. 0.]\n",
            " [0. 0. 0. ... 0. 1. 0.]\n",
            " [0. 0. 0. ... 0. 0. 1.]]\n"
          ]
        }
      ]
    },
    {
      "cell_type": "markdown",
      "source": [
        "## **3.5. 역행렬**"
      ],
      "metadata": {
        "id": "BtOnPknrww2v"
      }
    },
    {
      "cell_type": "markdown",
      "source": [
        "**역행렬(inverse matrix)**은 행렬에 곱했을 때 단위행렬로 만드는 행렬을 의미합니다.\n",
        "\n",
        "> $A^{-1}A = AA^{-1} = E$\n",
        "\n",
        "역행렬 $A^{-1}$을 $A$ 행렬의 앞과 뒤 무관하게 곱해도 단위행렬이 됩니다. 다만 행렬 $A$는 행과 열의 개수가 같은 반드시 **정방행렬(=정사각행렬, square matrix)**이어야 합니다.\n",
        "\n",
        "물론 역행렬이 존재하지 않는 행렬도 있습니다. **행렬식(determinant)**을 통해 역행렬의 존재 여부를 파악할 수 있습니다. 행렬 $A$가 있다고 가정하겠습니다.\n",
        "\n",
        "> $A =\n",
        "\\begin{pmatrix}\n",
        "a & b \\\\\n",
        "c & d \\\\\n",
        "\\end{pmatrix}$\n",
        "\n",
        "행렬식은 $|A|$ 또는 $det A$ 표현합니다. 공식은 아래와 같습니다.\n",
        "\n",
        "> $|A| = det A = ad - bc$\n",
        "\n",
        "이 공식에서 $ad - bc = 0$이면 역행렬은 존재하지 않으며, $0$이 아닌 수라면 역행렬은 존재합니다.\n",
        "\n",
        "역행렬이 존재한다면 아래 공식으로 역행렬을 구할 수 있습니다.\n",
        "\n",
        "> $A^{-1} = \\frac{1}{ad-bc}\\begin{pmatrix}\n",
        " d & -b\\\\\n",
        " -c & a\n",
        "\\end{pmatrix}$"
      ],
      "metadata": {
        "id": "Jq2b0RFc_UzX"
      }
    },
    {
      "cell_type": "markdown",
      "source": [
        "코드로 위 수식을 적용하겠습니다. 먼저 `np.linalg.det()` 메서드로 행렬식을 구합니다."
      ],
      "metadata": {
        "id": "ubZ_M7jdBrva"
      }
    },
    {
      "cell_type": "code",
      "source": [
        "a = np.array([[1, 2],\n",
        "              [3, 4]])\n",
        "np.linalg.det(a)"
      ],
      "metadata": {
        "colab": {
          "base_uri": "https://localhost:8080/"
        },
        "id": "AX2-Psw-FOQd",
        "outputId": "e25e669d-1a8b-4959-d2f9-43224e72f844"
      },
      "execution_count": null,
      "outputs": [
        {
          "output_type": "execute_result",
          "data": {
            "text/plain": [
              "-2.0000000000000004"
            ]
          },
          "metadata": {},
          "execution_count": 25
        }
      ]
    },
    {
      "cell_type": "markdown",
      "source": [
        "행렬 `a`는 0이 아닌 수이므로 역행렬이 존재합니다. 다른 행렬도 적용하겠습니다."
      ],
      "metadata": {
        "id": "OKV-yjb-Fiph"
      }
    },
    {
      "cell_type": "code",
      "source": [
        "b = np.array([[0, 0],\n",
        "              [3, 6]])\n",
        "np.linalg.det(b)"
      ],
      "metadata": {
        "colab": {
          "base_uri": "https://localhost:8080/"
        },
        "id": "MLQMkFjnFp8-",
        "outputId": "555b66ef-dbd4-4d77-f424-64f1f94da926"
      },
      "execution_count": null,
      "outputs": [
        {
          "output_type": "execute_result",
          "data": {
            "text/plain": [
              "0.0"
            ]
          },
          "metadata": {},
          "execution_count": 35
        }
      ]
    },
    {
      "cell_type": "markdown",
      "source": [
        "행렬 `b`는 역행렬이 존재하지 않습니다.\n",
        "\n",
        "`np.linalg.inv()` 메서드로 행렬 `a`의 역행렬을 구하겠습니다."
      ],
      "metadata": {
        "id": "A52J-PcvFO5U"
      }
    },
    {
      "cell_type": "code",
      "source": [
        "a = np.array([[1, 2],\n",
        "              [3, 4]])\n",
        "linalg_a = np.linalg.inv(a)\n",
        "linalg_a"
      ],
      "metadata": {
        "colab": {
          "base_uri": "https://localhost:8080/"
        },
        "id": "qa-BqXJ9B6ay",
        "outputId": "0da924ad-b334-4369-9252-da9724143cbf"
      },
      "execution_count": null,
      "outputs": [
        {
          "output_type": "execute_result",
          "data": {
            "text/plain": [
              "array([[-2. ,  1. ],\n",
              "       [ 1.5, -0.5]])"
            ]
          },
          "metadata": {},
          "execution_count": 16
        }
      ]
    },
    {
      "cell_type": "markdown",
      "source": [
        "역행렬을 행렬 `a`와 행렬곱을 하겠습니다."
      ],
      "metadata": {
        "id": "HZ-QC0FuCMvF"
      }
    },
    {
      "cell_type": "code",
      "source": [
        "print(np.dot(linalg_a, a))\n",
        "print()\n",
        "print(np.dot(a, linalg_a))"
      ],
      "metadata": {
        "colab": {
          "base_uri": "https://localhost:8080/"
        },
        "id": "dYrsGbq_CGbf",
        "outputId": "a4d48a50-bac9-438f-85d2-ca18bfe6641d"
      },
      "execution_count": null,
      "outputs": [
        {
          "output_type": "stream",
          "name": "stdout",
          "text": [
            "[[1.00000000e+00 0.00000000e+00]\n",
            " [1.11022302e-16 1.00000000e+00]]\n",
            "\n",
            "[[1.0000000e+00 0.0000000e+00]\n",
            " [8.8817842e-16 1.0000000e+00]]\n"
          ]
        }
      ]
    },
    {
      "cell_type": "markdown",
      "source": [
        "앞 뒤 무관하게 행렬곱을 해도 단위행렬이 됩니다."
      ],
      "metadata": {
        "id": "DrG_gN89GIQz"
      }
    },
    {
      "cell_type": "markdown",
      "source": [
        "# **4. 텐서**"
      ],
      "metadata": {
        "id": "VT8mYw0Ovdi0"
      }
    },
    {
      "cell_type": "markdown",
      "source": [
        "n차원인 행렬을 **텐서(tensor)**라고 합니다. 스칼라를 여러 차원으로 나열한 것이며 스칼라와 벡터, 행렬을 포함합니다. 스칼라는 0차원 텐서, 벡터는 1차원 텐서, 행렬은 2차원 텐서, 그 이상은 n차원 텐서라고 설명할 수 있습니다. 첨자 개수에 따라 차원이 정해진다고 생각하면 간편합니다."
      ],
      "metadata": {
        "id": "MEY5WZhYM2VE"
      }
    },
    {
      "cell_type": "markdown",
      "source": [
        "코드로 3차원 텐서를 만들겠습니다."
      ],
      "metadata": {
        "id": "6mZgPHN2OBRo"
      }
    },
    {
      "cell_type": "code",
      "source": [
        "a = np.array([[[0, 1, 2],\n",
        "               [4, 5, 6],\n",
        "               [7, 8, 9]],\n",
        "              [[9, 8, 7],\n",
        "               [6, 5, 4],\n",
        "               [3, 2, 1]]])\n",
        "print(a)\n",
        "print()\n",
        "print(np.shape(a))"
      ],
      "metadata": {
        "colab": {
          "base_uri": "https://localhost:8080/"
        },
        "id": "zYtI_9CFOEFC",
        "outputId": "d48f88b3-0215-4bf8-a648-836f4638a4ea"
      },
      "execution_count": null,
      "outputs": [
        {
          "output_type": "stream",
          "name": "stdout",
          "text": [
            "[[[0 1 2]\n",
            "  [4 5 6]\n",
            "  [7 8 9]]\n",
            "\n",
            " [[9 8 7]\n",
            "  [6 5 4]\n",
            "  [3 2 1]]]\n",
            "\n",
            "(2, 3, 3)\n"
          ]
        }
      ]
    },
    {
      "cell_type": "markdown",
      "source": [
        "행렬 2개가 함께 들어있습니다. 첨자는 3개로 3차원을 의미합니다."
      ],
      "metadata": {
        "id": "F1OsoTg5Oivd"
      }
    },
    {
      "cell_type": "markdown",
      "source": [
        "# **5. 선형변환**"
      ],
      "metadata": {
        "id": "5iO-qqQZvdgl"
      }
    },
    {
      "cell_type": "markdown",
      "source": [
        "선형변환(linear transformation)은 두 벡터의 공간 사이의 함수를 의미합니다. 예컨대 벡터를 확대하거나 축소하고 회전시키거나 반사하는 작업 모두 선형 변환입니다."
      ],
      "metadata": {
        "id": "xoMdSpQKXJxN"
      }
    },
    {
      "cell_type": "markdown",
      "source": [
        "## **5.1. 선형변환**"
      ],
      "metadata": {
        "id": "NeEmwkeTxI3h"
      }
    },
    {
      "cell_type": "markdown",
      "source": [
        "벡터 $\\overrightarrow{a}$와 행렬 $A$가 있다고 가정하겠습니다.\n",
        "\n",
        "> $\\overrightarrow{a} =\n",
        "\\begin{pmatrix}\n",
        "1\\\\\n",
        "2\n",
        "\\end{pmatrix}$\n",
        "\n",
        "> $A =\n",
        "\\begin{pmatrix}\n",
        "1 & 2 \\\\\n",
        "3 & 4\n",
        "\\end{pmatrix}$"
      ],
      "metadata": {
        "id": "gX-qF0pIsQH6"
      }
    },
    {
      "cell_type": "markdown",
      "source": [
        "벡터 $\\overrightarrow{a}$를 행렬 $A$와 행렬곱 하겠습니다."
      ],
      "metadata": {
        "id": "Uo8uTfPG0QI5"
      }
    },
    {
      "cell_type": "code",
      "source": [
        "A = np.array([[1, 2],\n",
        "              [3, 4]])\n",
        "a = np.array([1, 2])\n",
        "np.dot(A, a)"
      ],
      "metadata": {
        "colab": {
          "base_uri": "https://localhost:8080/"
        },
        "id": "N3fuW3-UuGMP",
        "outputId": "1c49ead5-5655-4096-f4cd-d9d9d9bf946a"
      },
      "execution_count": 4,
      "outputs": [
        {
          "output_type": "execute_result",
          "data": {
            "text/plain": [
              "array([ 5, 11])"
            ]
          },
          "metadata": {},
          "execution_count": 4
        }
      ]
    },
    {
      "cell_type": "markdown",
      "source": [
        "도출된 값은 벡터 $\\overrightarrow{b}$라고 가정합니다. 행렬 $A$에 의해 벡터 $\\overrightarrow{a}$가 벡터 $\\overrightarrow{b}$로 선형변환 된 것입니다.\n",
        "\n",
        "$\\overrightarrow{b} = A\\overrightarrow{a} = \\begin{pmatrix}\n",
        "1 & 2 \\\\\n",
        "3 & 4\n",
        "\\end{pmatrix}\n",
        "\\begin{pmatrix}\n",
        "1\\\\\n",
        "2\n",
        "\\end{pmatrix} = \\begin{pmatrix}\n",
        "5\\\\\n",
        "11\n",
        "\\end{pmatrix}$"
      ],
      "metadata": {
        "id": "c-EdXl4IwyrO"
      }
    },
    {
      "cell_type": "markdown",
      "source": [
        "`plt.quiver()` 메서드를 활용하여 벡터 $\\overrightarrow{a}$와 벡터 $\\overrightarrow{b}$를 화살표로 그리겠습니다."
      ],
      "metadata": {
        "id": "pr48btkk0Rfw"
      }
    },
    {
      "cell_type": "code",
      "source": [
        "plt.style.use('ggplot')\n",
        "plt.figure(figsize=(5, 3))\n",
        "\n",
        "# 시작점을 설정합니다.\n",
        "start = np.array([0, 0])\n",
        "# 벡터 b를 인스턴스화합니다.\n",
        "b = np.array([5, 11]) \n",
        "\n",
        "# `start[0]`과 `start[1]`은 시작점 x와 y입니다.\n",
        "# `vector[0]`과 `vector[1]`은 화살표의 x성분과 y성분입니다.\n",
        "# `angles`는 화살표 각도의 결정 방법, `scale_units`는 스케일 단위, `scale`은 스케일입니다.\n",
        "def test_quiver(start, vector, color):\n",
        "    plt.quiver(start[0], start[1], vector[0], vector[1], angles='xy',\n",
        "               scale_units='xy', scale=1, color=color)\n",
        "\n",
        "test_quiver(start, a, color='k')\n",
        "test_quiver(start, b, color='r')\n",
        "\n",
        "plt.xlim([-1, 6])\n",
        "plt.ylim([-5, 14])\n",
        "plt.xlabel('x')\n",
        "plt.ylabel('y')\n",
        "\n",
        "plt.show()"
      ],
      "metadata": {
        "colab": {
          "base_uri": "https://localhost:8080/",
          "height": 313
        },
        "id": "vSk5Fn1Z0Z8q",
        "outputId": "44924476-5771-4fcc-ff4e-38e5245be8d9"
      },
      "execution_count": 38,
      "outputs": [
        {
          "output_type": "display_data",
          "data": {
            "image/png": "[encoded data removed]",
            "text/plain": [
              "<Figure size 500x300 with 1 Axes>"
            ]
          },
          "metadata": {
            "image/png": {
              "width": 477,
              "height": 296
            }
          }
        }
      ]
    },
    {
      "cell_type": "markdown",
      "source": [
        "## **5.2. 표준기저**"
      ],
      "metadata": {
        "id": "rf_sI61gxKil"
      }
    },
    {
      "cell_type": "markdown",
      "source": [
        "# **6. 고윳값 및 고유벡터**"
      ],
      "metadata": {
        "id": "y2Y6VRDbvded"
      }
    },
    {
      "cell_type": "markdown",
      "source": [
        "# **7. 코사인 유사도** "
      ],
      "metadata": {
        "id": "zf5p7SdnvdcO"
      }
    }
  ]
}