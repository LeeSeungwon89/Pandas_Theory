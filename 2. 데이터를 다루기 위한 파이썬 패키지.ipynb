{
  "nbformat": 4,
  "nbformat_minor": 0,
  "metadata": {
    "colab": {
      "name": "2. 데이터를 다루기 위한 파이썬 패키지.ipynb",
      "provenance": [],
      "collapsed_sections": [],
      "authorship_tag": "ABX9TyP1o8128K7bXp0LHxwy8eHY",
      "include_colab_link": true
    },
    "kernelspec": {
      "display_name": "Python 3",
      "name": "python3"
    },
    "language_info": {
      "name": "python"
    }
  },
  "cells": [
    {
      "cell_type": "markdown",
      "metadata": {
        "id": "view-in-github",
        "colab_type": "text"
      },
      "source": [
        "<a href=\"https://colab.research.google.com/github/LeeSeungwon89/Python_for_Data_Analytics_Science/blob/main/2.%20%EB%8D%B0%EC%9D%B4%ED%84%B0%EB%A5%BC%20%EB%8B%A4%EB%A3%A8%EA%B8%B0%20%EC%9C%84%ED%95%9C%20%ED%8C%8C%EC%9D%B4%EC%8D%AC%20%ED%8C%A8%ED%82%A4%EC%A7%80.ipynb\" target=\"_parent\"><img src=\"https://colab.research.google.com/assets/colab-badge.svg\" alt=\"Open In Colab\"/></a>"
      ]
    },
    {
      "cell_type": "markdown",
      "metadata": {
        "id": "SMUQKDwrmEFa"
      },
      "source": [
        "# **1. Numpy**"
      ]
    },
    {
      "cell_type": "markdown",
      "metadata": {
        "id": "WxDwjUmB1-K5"
      },
      "source": [
        "넘파이는 데이터를 다루는 데 필수적인 패키지입니다. 과학적인 연산을 빠르고 쉽게 해줍니다. 아래에는 몇 가지 내용만 정리하겠습니다. 이외 구체적인 정보는 [넘파이 홈페이지](https://www.numpy.org)에 정리되어 있습니다."
      ]
    },
    {
      "cell_type": "markdown",
      "metadata": {
        "id": "zZRYD1Qn5iHF"
      },
      "source": [
        "## **1.1. 배열 만들기**"
      ]
    },
    {
      "cell_type": "markdown",
      "metadata": {
        "id": "96WyF1wW5n3b"
      },
      "source": [
        "배열을 만드는 방법은 여러가지가 있습니다. \n",
        "\n",
        "아래에서 예시로 설명하겠습니다. 먼저 시퀀스 데이터를 인자로 받고 배열 객체를 생성하는 방법입니다."
      ]
    },
    {
      "cell_type": "code",
      "metadata": {
        "colab": {
          "base_uri": "https://localhost:8080/"
        },
        "id": "rs7Ij00e5-sX",
        "outputId": "161920a3-91e2-47e2-9f1d-f2eb8aad24f4"
      },
      "source": [
        "import numpy as np\n",
        "# 튜플도 가능하지만 주로 리스트를 사용합니다.\n",
        "# 정수만으로 구성된 리스트입니다.\n",
        "list_int = [0, 1, 2, 3, 4]\n",
        "np_int = np.array(list_int)\n",
        "print(np_int)\n",
        "np_int"
      ],
      "execution_count": 1,
      "outputs": [
        {
          "output_type": "stream",
          "name": "stdout",
          "text": [
            "[0 1 2 3 4]\n"
          ]
        },
        {
          "output_type": "execute_result",
          "data": {
            "text/plain": [
              "array([0, 1, 2, 3, 4])"
            ]
          },
          "metadata": {},
          "execution_count": 1
        }
      ]
    },
    {
      "cell_type": "markdown",
      "metadata": {
        "id": "WyEeeBmk9EzL"
      },
      "source": [
        "배열 속성을 확인합니다."
      ]
    },
    {
      "cell_type": "code",
      "metadata": {
        "colab": {
          "base_uri": "https://localhost:8080/"
        },
        "id": "xEzsW4yz9GiR",
        "outputId": "4ba6869c-255f-4e16-8d89-e75ca3f8366b"
      },
      "source": [
        "np_int.dtype"
      ],
      "execution_count": 2,
      "outputs": [
        {
          "output_type": "execute_result",
          "data": {
            "text/plain": [
              "dtype('int64')"
            ]
          },
          "metadata": {},
          "execution_count": 2
        }
      ]
    },
    {
      "cell_type": "markdown",
      "metadata": {
        "id": "lwqqL-mm6jfX"
      },
      "source": [
        "정수와 실수를 함께 포함시켜서 만들겠습니다. 이렇게 하면 모든 원소를 실수 형태로 출력합니다."
      ]
    },
    {
      "cell_type": "code",
      "metadata": {
        "colab": {
          "base_uri": "https://localhost:8080/"
        },
        "id": "X4eW5VEe6q4X",
        "outputId": "be90f1b1-475f-42b4-fb4d-a9c98cf9e8b6"
      },
      "source": [
        "list_combi = [0, 1.2, 3, 4.56, 7]\n",
        "np_combi = np.array(list_combi)\n",
        "np_combi"
      ],
      "execution_count": 3,
      "outputs": [
        {
          "output_type": "execute_result",
          "data": {
            "text/plain": [
              "array([0.  , 1.2 , 3.  , 4.56, 7.  ])"
            ]
          },
          "metadata": {},
          "execution_count": 3
        }
      ]
    },
    {
      "cell_type": "markdown",
      "metadata": {
        "id": "r_FYkDMs8-vl"
      },
      "source": [
        "배열 속성을 확인합니다."
      ]
    },
    {
      "cell_type": "code",
      "metadata": {
        "colab": {
          "base_uri": "https://localhost:8080/"
        },
        "id": "xQ0ZBbu-9Cz0",
        "outputId": "ee51c68c-7d8a-47e2-aae4-7ed4ecef0052"
      },
      "source": [
        "np_combi.dtype"
      ],
      "execution_count": 4,
      "outputs": [
        {
          "output_type": "execute_result",
          "data": {
            "text/plain": [
              "dtype('float64')"
            ]
          },
          "metadata": {},
          "execution_count": 4
        }
      ]
    },
    {
      "cell_type": "markdown",
      "metadata": {
        "id": "gMHESu-18h1J"
      },
      "source": [
        "문자를 함께 포함시키겠습니다. 이렇게 하면 모든 원소를 문자로 간주하게 됩니다."
      ]
    },
    {
      "cell_type": "code",
      "metadata": {
        "colab": {
          "base_uri": "https://localhost:8080/"
        },
        "id": "vUBdmeYE8gOA",
        "outputId": "6c3f04bb-9fdd-403a-b2bb-08a0a40e318c"
      },
      "source": [
        "list_str = [0, '일', 2.3, '사']\n",
        "np_str = np.array(list_str)\n",
        "np_str"
      ],
      "execution_count": 5,
      "outputs": [
        {
          "output_type": "execute_result",
          "data": {
            "text/plain": [
              "array(['0', '일', '2.3', '사'], dtype='<U21')"
            ]
          },
          "metadata": {},
          "execution_count": 5
        }
      ]
    },
    {
      "cell_type": "markdown",
      "metadata": {
        "id": "fy6lpxKR9MIC"
      },
      "source": [
        "배열 속성을 확인합니다. '<U21'는 유니코드 문자열을 의미합니다. 여기서 '21'은 문자 수가 최대 21개라는 점을 의미합니다."
      ]
    },
    {
      "cell_type": "code",
      "metadata": {
        "colab": {
          "base_uri": "https://localhost:8080/"
        },
        "id": "bM1LhHFG8JCz",
        "outputId": "cdbe22e2-9a01-4bc7-a1eb-c8c231dbf9a9"
      },
      "source": [
        "np_str.dtype"
      ],
      "execution_count": 6,
      "outputs": [
        {
          "output_type": "execute_result",
          "data": {
            "text/plain": [
              "dtype('<U21')"
            ]
          },
          "metadata": {},
          "execution_count": 6
        }
      ]
    },
    {
      "cell_type": "markdown",
      "metadata": {
        "id": "nTYoJUke92Em"
      },
      "source": [
        "`np.array(리스트)` 형식으로 바로 배열 객체를 만들 수도 있습니다."
      ]
    },
    {
      "cell_type": "code",
      "metadata": {
        "colab": {
          "base_uri": "https://localhost:8080/"
        },
        "id": "gHNJFAuc-DqO",
        "outputId": "dba71c13-318d-4a22-ee5e-d7d1e58dbc18"
      },
      "source": [
        "np_direct1 = np.array([0, 1, 2, 3, 4])\n",
        "np_direct1"
      ],
      "execution_count": 7,
      "outputs": [
        {
          "output_type": "execute_result",
          "data": {
            "text/plain": [
              "array([0, 1, 2, 3, 4])"
            ]
          },
          "metadata": {},
          "execution_count": 7
        }
      ]
    },
    {
      "cell_type": "code",
      "metadata": {
        "colab": {
          "base_uri": "https://localhost:8080/"
        },
        "id": "4w-ozdZ8-QyI",
        "outputId": "b7193630-f160-4b4c-9b11-dd4b6c22cd4b"
      },
      "source": [
        "np_direct2 = np.array([[0, 1, 2], [3, 4, 5], [6, 7, 8]])\n",
        "np_direct2"
      ],
      "execution_count": 8,
      "outputs": [
        {
          "output_type": "execute_result",
          "data": {
            "text/plain": [
              "array([[0, 1, 2],\n",
              "       [3, 4, 5],\n",
              "       [6, 7, 8]])"
            ]
          },
          "metadata": {},
          "execution_count": 8
        }
      ]
    },
    {
      "cell_type": "markdown",
      "metadata": {
        "id": "3yX-jv7jAY5N"
      },
      "source": [
        "범위를 지정해서 배열을 만들 수 있습니다. 파이썬 `range()` 함수와 유사하게 넘파이는 `arange()` 함수를 사용합니다."
      ]
    },
    {
      "cell_type": "code",
      "metadata": {
        "colab": {
          "base_uri": "https://localhost:8080/"
        },
        "id": "KCCfdRmuArfb",
        "outputId": "317be01a-aa00-42d8-9b18-536308de6b0e"
      },
      "source": [
        "np.arange(0, 10, 2)"
      ],
      "execution_count": 9,
      "outputs": [
        {
          "output_type": "execute_result",
          "data": {
            "text/plain": [
              "array([0, 2, 4, 6, 8])"
            ]
          },
          "metadata": {},
          "execution_count": 9
        }
      ]
    },
    {
      "cell_type": "code",
      "metadata": {
        "colab": {
          "base_uri": "https://localhost:8080/"
        },
        "id": "uwkZkKouAyrI",
        "outputId": "d0abdee3-4178-4484-c0a3-e9ac22341fd8"
      },
      "source": [
        "np.arange(0, 10)"
      ],
      "execution_count": 10,
      "outputs": [
        {
          "output_type": "execute_result",
          "data": {
            "text/plain": [
              "array([0, 1, 2, 3, 4, 5, 6, 7, 8, 9])"
            ]
          },
          "metadata": {},
          "execution_count": 10
        }
      ]
    },
    {
      "cell_type": "code",
      "metadata": {
        "colab": {
          "base_uri": "https://localhost:8080/"
        },
        "id": "FJJElwB1A1or",
        "outputId": "fd521c76-246a-4d5d-dc46-f85a10ca7341"
      },
      "source": [
        "np.arange(10)"
      ],
      "execution_count": 11,
      "outputs": [
        {
          "output_type": "execute_result",
          "data": {
            "text/plain": [
              "array([0, 1, 2, 3, 4, 5, 6, 7, 8, 9])"
            ]
          },
          "metadata": {},
          "execution_count": 11
        }
      ]
    },
    {
      "cell_type": "markdown",
      "metadata": {
        "id": "jb1HbQmfBAq9"
      },
      "source": [
        "`arange()` 함수에 `reshape()` 함수를 더하면 행렬 형태로 변경할 수 있습니다."
      ]
    },
    {
      "cell_type": "code",
      "metadata": {
        "colab": {
          "base_uri": "https://localhost:8080/"
        },
        "id": "RLjuGEx_BKmM",
        "outputId": "80f028b9-03d4-4a52-df2a-451b9a5ad0b7"
      },
      "source": [
        "np.arange(8).reshape(4, 2)"
      ],
      "execution_count": 12,
      "outputs": [
        {
          "output_type": "execute_result",
          "data": {
            "text/plain": [
              "array([[0, 1],\n",
              "       [2, 3],\n",
              "       [4, 5],\n",
              "       [6, 7]])"
            ]
          },
          "metadata": {},
          "execution_count": 12
        }
      ]
    },
    {
      "cell_type": "markdown",
      "metadata": {
        "id": "QnjKCE3GBg5X"
      },
      "source": [
        "배열 형태를 확인하겠습니다. 참고로 1차원 배열은 `(원소 개수,)` 형태로 출력됩니다. 예컨대 원소 개수가 34개라면 `(34,)`로 출력됩니다."
      ]
    },
    {
      "cell_type": "code",
      "metadata": {
        "colab": {
          "base_uri": "https://localhost:8080/"
        },
        "id": "2JEHpo3ABlet",
        "outputId": "dbf85da5-2aa6-4705-a579-8ab3358cbc91"
      },
      "source": [
        "np_reshape = np.arange(8).reshape(4, 2)\n",
        "np_reshape.shape"
      ],
      "execution_count": 13,
      "outputs": [
        {
          "output_type": "execute_result",
          "data": {
            "text/plain": [
              "(4, 2)"
            ]
          },
          "metadata": {},
          "execution_count": 13
        }
      ]
    },
    {
      "cell_type": "markdown",
      "metadata": {
        "id": "nP3tiwWXFEOw"
      },
      "source": [
        "`linspace()` 함수를 사용하면 지정한 데이터 개수에 따라 배열을 만듭니다. 0부터 10까지 20개만큼 데이터를 만들겠습니다."
      ]
    },
    {
      "cell_type": "code",
      "metadata": {
        "colab": {
          "base_uri": "https://localhost:8080/"
        },
        "id": "hbalMFYRFMPb",
        "outputId": "59633400-025b-4264-8d3c-aeef30dd8a96"
      },
      "source": [
        "np.linspace(0, 10, 20)"
      ],
      "execution_count": 14,
      "outputs": [
        {
          "output_type": "execute_result",
          "data": {
            "text/plain": [
              "array([ 0.        ,  0.52631579,  1.05263158,  1.57894737,  2.10526316,\n",
              "        2.63157895,  3.15789474,  3.68421053,  4.21052632,  4.73684211,\n",
              "        5.26315789,  5.78947368,  6.31578947,  6.84210526,  7.36842105,\n",
              "        7.89473684,  8.42105263,  8.94736842,  9.47368421, 10.        ])"
            ]
          },
          "metadata": {},
          "execution_count": 14
        }
      ]
    },
    {
      "cell_type": "markdown",
      "metadata": {
        "id": "SJQCy03NF5p-"
      },
      "source": [
        "`zeros()` 함수는 0으로만 이루어진 배열을 만듭니다. `ones()` 함수는 1로만 이루어진 배열을 만듭니다. 사용법은 동일합니다."
      ]
    },
    {
      "cell_type": "code",
      "metadata": {
        "colab": {
          "base_uri": "https://localhost:8080/"
        },
        "id": "iz555Vl-GG1B",
        "outputId": "4410a613-48e5-4c03-b545-d362e7552b8f"
      },
      "source": [
        "zeros_1 = np.zeros(5)\n",
        "print(zeros_1)\n",
        "print()\n",
        "# 2차원 배열을 만들려면 괄호로 한 번 더 묶어야 합니다.\n",
        "ones_2 = np.ones((5, 2))\n",
        "print(ones_2)"
      ],
      "execution_count": 15,
      "outputs": [
        {
          "output_type": "stream",
          "name": "stdout",
          "text": [
            "[0. 0. 0. 0. 0.]\n",
            "\n",
            "[[1. 1.]\n",
            " [1. 1.]\n",
            " [1. 1.]\n",
            " [1. 1.]\n",
            " [1. 1.]]\n"
          ]
        }
      ]
    },
    {
      "cell_type": "markdown",
      "metadata": {
        "id": "jiCJmFR8Gn97"
      },
      "source": [
        "`eye()` 함수는 단위행렬(Identity matrix)을 만듭니다. "
      ]
    },
    {
      "cell_type": "code",
      "metadata": {
        "colab": {
          "base_uri": "https://localhost:8080/"
        },
        "id": "BpfO1DUWGxye",
        "outputId": "5131351d-4daa-4896-82fe-63149980f4dc"
      },
      "source": [
        "np.eye(5)"
      ],
      "execution_count": 16,
      "outputs": [
        {
          "output_type": "execute_result",
          "data": {
            "text/plain": [
              "array([[1., 0., 0., 0., 0.],\n",
              "       [0., 1., 0., 0., 0.],\n",
              "       [0., 0., 1., 0., 0.],\n",
              "       [0., 0., 0., 1., 0.],\n",
              "       [0., 0., 0., 0., 1.]])"
            ]
          },
          "metadata": {},
          "execution_count": 16
        }
      ]
    },
    {
      "cell_type": "markdown",
      "metadata": {
        "id": "63EwvedCHia0"
      },
      "source": [
        "`rand()` 함수와 `randint()` 함수는 각각 실수 난수와 정수 난수를 생성합니다. "
      ]
    },
    {
      "cell_type": "code",
      "metadata": {
        "colab": {
          "base_uri": "https://localhost:8080/"
        },
        "id": "ht2qcbhLH1aD",
        "outputId": "3fc4e6f4-36fd-4979-8f55-d5e21e7925b8"
      },
      "source": [
        "rand1 = np.random.rand()\n",
        "print(rand1)\n",
        "print()\n",
        "# 2 x 4 배열을 생성합니다.\n",
        "rand2 = np.random.rand(2, 4)\n",
        "print(rand2)\n",
        "print()\n",
        "# 3차원 배열을 생성합니다.\n",
        "rand3 = np.random.rand(2, 4, 6)\n",
        "print(rand3)"
      ],
      "execution_count": 17,
      "outputs": [
        {
          "output_type": "stream",
          "name": "stdout",
          "text": [
            "0.12467708126081478\n",
            "\n",
            "[[0.15656724 0.63549695 0.3011851  0.42141395]\n",
            " [0.24766365 0.23211606 0.34995867 0.70177481]]\n",
            "\n",
            "[[[0.51888098 0.14494232 0.15131358 0.78030505 0.37886339 0.10681107]\n",
            "  [0.11155692 0.35364807 0.43369865 0.69266623 0.46909487 0.89709262]\n",
            "  [0.80739373 0.39151101 0.28169828 0.98814208 0.33872949 0.04070498]\n",
            "  [0.17355726 0.80095654 0.54328537 0.5636835  0.9732979  0.28531692]]\n",
            "\n",
            " [[0.65745026 0.04771131 0.89296617 0.71243473 0.85663884 0.8059315 ]\n",
            "  [0.67383551 0.83036741 0.67781992 0.01309982 0.66161972 0.92654794]\n",
            "  [0.15394069 0.60089035 0.62034194 0.15724388 0.67208062 0.97444861]\n",
            "  [0.08343816 0.13943128 0.26555315 0.03254887 0.70725854 0.18762882]]]\n"
          ]
        }
      ]
    },
    {
      "cell_type": "code",
      "metadata": {
        "colab": {
          "base_uri": "https://localhost:8080/"
        },
        "id": "l8L4vDYMJHtf",
        "outputId": "b5fa8a94-4d25-43b0-9dd2-83f40a216af6"
      },
      "source": [
        "# 5~10 사이의 정수 난수를 생성합니다.\n",
        "randint1 = np.random.randint(5, 10)\n",
        "print(randint1)\n",
        "print()\n",
        "# 0 ~ 10 사이의 정수 난수를 2 x 5 배열로 생성합니다.\n",
        "randint2 = np.random.randint(10, size=(2, 5))\n",
        "print(randint2)\n",
        "print()\n",
        "# 0 ~ 12 사이의 정수 난수를 3차원 배열로 생성합니다.\n",
        "randint3 = np.random.randint(12, size=(3, 2, 5))\n",
        "print(randint3)"
      ],
      "execution_count": 18,
      "outputs": [
        {
          "output_type": "stream",
          "name": "stdout",
          "text": [
            "8\n",
            "\n",
            "[[0 2 5 7 0]\n",
            " [3 1 8 0 0]]\n",
            "\n",
            "[[[ 9  8  9 11  3]\n",
            "  [ 7  3  0  8  7]]\n",
            "\n",
            " [[10  1  0  4  8]\n",
            "  [ 3  5  5  3  6]]\n",
            "\n",
            " [[ 8  3  9  4  9]\n",
            "  [ 3 10  0  1 11]]]\n"
          ]
        }
      ]
    },
    {
      "cell_type": "markdown",
      "metadata": {
        "id": "ceD5HVSLHV1D"
      },
      "source": [
        "## **1.2. 배열 타입 변환하기**"
      ]
    },
    {
      "cell_type": "markdown",
      "metadata": {
        "id": "Lm0l-YX5K6u2"
      },
      "source": [
        "넘파이 데이터의 형식은 아래와 같습니다.\n",
        "\n",
        "- 'i': 기호를 가진 정수(signed integer)\n",
        "\n",
        "- 'u': 기호가 없는 정수(unsigned integer)\n",
        "\n",
        "- 'f': 실수(floating-point)\n",
        "\n",
        "- 'c': 복소수(complex-floating point)\n",
        "\n",
        "- 'b': 불(bool)\n",
        "\n",
        "- 'O': 파이썬 객체(object)\n",
        "\n",
        "- 'U': 유니코드(unicode)\n",
        "\n",
        "- 'S' or 'a': 바이트 문자열(string)\n",
        "\n",
        "- 'M': 날짜(datetime)"
      ]
    },
    {
      "cell_type": "markdown",
      "metadata": {
        "id": "V0CDlVJlMDoL"
      },
      "source": [
        "`astype()` 함수를 사용하여 배열 타입(형)을 바꿀 수 있습니다. `astype()` 함수에 인자로 `int`(정수형), `float`(실수형), `str`(문자형) 중에 하나를 넣고 배열 형을 변환합니다."
      ]
    },
    {
      "cell_type": "code",
      "metadata": {
        "colab": {
          "base_uri": "https://localhost:8080/"
        },
        "id": "hcnO1oK6K5p5",
        "outputId": "4d291942-1e88-466d-ea8b-540a6816092f"
      },
      "source": [
        "np_str = np.array(['0.1', '2', '3.45', '6.7'])\n",
        "print(f'np_str의 타입은 {np_str.dtype}')\n",
        "# 실수 타입으로 변환합니다.\n",
        "np_astype_float = np_str.astype(float)\n",
        "print(f'np_astype_float의 타입은 {np_astype_float.dtype}')\n",
        "# 정수 타입으로 변환합니다. \n",
        "np_astype_int = np_astype_float.astype(int)\n",
        "print(f'np_astype_int의 타입은 {np_astype_int.dtype}, 원소는 {np_astype_int}')"
      ],
      "execution_count": 19,
      "outputs": [
        {
          "output_type": "stream",
          "name": "stdout",
          "text": [
            "np_str의 타입은 <U4\n",
            "np_astype_float의 타입은 float64\n",
            "np_astype_int의 타입은 int64, 원소는 [0 2 3 6]\n"
          ]
        }
      ]
    },
    {
      "cell_type": "markdown",
      "metadata": {
        "id": "MTKkSsjI_EMf"
      },
      "source": [
        "## **1.3. 배열 연산하기**"
      ]
    },
    {
      "cell_type": "markdown",
      "metadata": {
        "id": "pIx0glSxUy0i"
      },
      "source": [
        "통계에 활용하는 여러 함수가 있습니다. 아래는 함수 목록입니다.\n",
        "\n",
        "- `sum()`: 합계\n",
        "\n",
        "- `mean()`: 평균\n",
        "\n",
        "- `std()`: 표준 편차\n",
        "\n",
        "- `var()`: 분산\n",
        "\n",
        "- `max()`: 최댓값\n",
        "\n",
        "- `min()`: 최솟값\n",
        "\n",
        "- `cumsum()`: 누적합\n",
        "\n",
        "- `cumprod()`: 누적곱"
      ]
    },
    {
      "cell_type": "markdown",
      "metadata": {
        "id": "nJmUkcsMWibY"
      },
      "source": [
        "배열을 생성하고 예시를 들겠습니다."
      ]
    },
    {
      "cell_type": "code",
      "metadata": {
        "colab": {
          "base_uri": "https://localhost:8080/"
        },
        "id": "bspnWWDZWgLo",
        "outputId": "0bfc357b-55b3-436a-d3d9-38ad3ac741e4"
      },
      "source": [
        "arr_cal = np.arange(7)\n",
        "print(f'arr_cal: {arr_cal}')\n",
        "print(f'sum(): {arr_cal.sum()}')\n",
        "print(f'mean(): {arr_cal.mean()}')\n",
        "print(f'std(): {arr_cal.std()}')\n",
        "print(f'var(): {arr_cal.var()}')\n",
        "print(f'max(): {arr_cal.max()}')\n",
        "print(f'min(): {arr_cal.min()}')\n",
        "print(f'cumsum(): {arr_cal.cumsum()}')\n",
        "print(f'sumprod(): {arr_cal.cumprod()}')"
      ],
      "execution_count": 20,
      "outputs": [
        {
          "output_type": "stream",
          "name": "stdout",
          "text": [
            "arr_cal: [0 1 2 3 4 5 6]\n",
            "sum(): 21\n",
            "mean(): 3.0\n",
            "std(): 2.0\n",
            "var(): 4.0\n",
            "max(): 6\n",
            "min(): 0\n",
            "cumsum(): [ 0  1  3  6 10 15 21]\n",
            "sumprod(): [0 0 0 0 0 0 0]\n"
          ]
        }
      ]
    },
    {
      "cell_type": "markdown",
      "metadata": {
        "id": "-hJocXXbX7hz"
      },
      "source": [
        "선형 대수를 위한 행렬 연산을 수행하는 함수도 있습니다. 아래는 함수 목록입니다.\n",
        "\n",
        "- `dot()`: 행렬곱(matrix product)\n",
        "- `transpose()`: 전치 행렬(transpose matrix)\n",
        "- `linalg.inv()`: 역행렬(inverse matrix)\n",
        "- `linalg.det()`: 행렬식(determinant)"
      ]
    },
    {
      "cell_type": "markdown",
      "metadata": {
        "id": "eKJgAXK_awBM"
      },
      "source": [
        "2차원 배열을 생성하고 함수를 사용하겠습니다."
      ]
    },
    {
      "cell_type": "code",
      "metadata": {
        "colab": {
          "base_uri": "https://localhost:8080/"
        },
        "id": "3vvhvhR5a1Ve",
        "outputId": "a81685ee-83c9-42ef-e119-cde64e748d65"
      },
      "source": [
        "matrix1 = np.array([0, 1, 2, 3]).reshape(2, 2)\n",
        "matrix2 = np.array([1, 2, 3, 4]).reshape(2, 2)\n",
        "print('matrix1:')\n",
        "print(matrix1)\n",
        "print('matrix2:')\n",
        "print(matrix2)"
      ],
      "execution_count": 21,
      "outputs": [
        {
          "output_type": "stream",
          "name": "stdout",
          "text": [
            "matrix1:\n",
            "[[0 1]\n",
            " [2 3]]\n",
            "matrix2:\n",
            "[[1 2]\n",
            " [3 4]]\n"
          ]
        }
      ]
    },
    {
      "cell_type": "markdown",
      "metadata": {
        "id": "VGHAsg6SdXRZ"
      },
      "source": [
        "`dot()` 함수로 행렬곱을 구하겠습니다. 두 형식으로 쓸 수 있습니다."
      ]
    },
    {
      "cell_type": "code",
      "metadata": {
        "colab": {
          "base_uri": "https://localhost:8080/"
        },
        "id": "PJZL7iRzdReQ",
        "outputId": "0a2ceb06-278d-42a0-cc14-ccfc4bf22139"
      },
      "source": [
        "print('matrix1:')\n",
        "print(matrix1)\n",
        "print('matrix1.dot(matrix2):')\n",
        "print(matrix1.dot(matrix2))\n",
        "print('np.dot(matrix1, matrix2):')\n",
        "print(np.dot(matrix1, matrix2))"
      ],
      "execution_count": 22,
      "outputs": [
        {
          "output_type": "stream",
          "name": "stdout",
          "text": [
            "matrix1:\n",
            "[[0 1]\n",
            " [2 3]]\n",
            "matrix1.dot(matrix2):\n",
            "[[ 3  4]\n",
            " [11 16]]\n",
            "np.dot(matrix1, matrix2):\n",
            "[[ 3  4]\n",
            " [11 16]]\n"
          ]
        }
      ]
    },
    {
      "cell_type": "markdown",
      "metadata": {
        "id": "c6sRktheddDR"
      },
      "source": [
        "`transpose()` 함수로 전치 행렬을 만들겠습니다. 두 형식으로 쓸 수 있습니다."
      ]
    },
    {
      "cell_type": "code",
      "metadata": {
        "colab": {
          "base_uri": "https://localhost:8080/"
        },
        "id": "n9_QCcMEdRSs",
        "outputId": "850f85a6-5f33-4c51-d208-9547299ec205"
      },
      "source": [
        "print('matrix1:')\n",
        "print(matrix1)\n",
        "print('matrix1.transpose():')\n",
        "print(matrix1.transpose())\n",
        "print('np.transpose(matrix1):')\n",
        "print(np.transpose(matrix1))"
      ],
      "execution_count": 23,
      "outputs": [
        {
          "output_type": "stream",
          "name": "stdout",
          "text": [
            "matrix1:\n",
            "[[0 1]\n",
            " [2 3]]\n",
            "matrix1.transpose():\n",
            "[[0 2]\n",
            " [1 3]]\n",
            "np.transpose(matrix1):\n",
            "[[0 2]\n",
            " [1 3]]\n"
          ]
        }
      ]
    },
    {
      "cell_type": "markdown",
      "metadata": {
        "id": "1NYa7ebAdhIQ"
      },
      "source": [
        "`linalg.inv()` 함수로 역행렬을 구하겠습니다."
      ]
    },
    {
      "cell_type": "code",
      "metadata": {
        "colab": {
          "base_uri": "https://localhost:8080/"
        },
        "id": "aeIHcQDMdPZm",
        "outputId": "c756a9cd-50fe-47ec-caae-623533450f88"
      },
      "source": [
        "print('matrix1:')\n",
        "print(matrix1)\n",
        "print('np.linalg.inv(matrix1):')\n",
        "print(np.linalg.inv(matrix1))"
      ],
      "execution_count": 24,
      "outputs": [
        {
          "output_type": "stream",
          "name": "stdout",
          "text": [
            "matrix1:\n",
            "[[0 1]\n",
            " [2 3]]\n",
            "np.linalg.inv(matrix1):\n",
            "[[-1.5  0.5]\n",
            " [ 1.   0. ]]\n"
          ]
        }
      ]
    },
    {
      "cell_type": "markdown",
      "metadata": {
        "id": "PjBtqlndd_jR"
      },
      "source": [
        "`linalg.det()` 함수로 행렬식을 구하겠습니다."
      ]
    },
    {
      "cell_type": "code",
      "metadata": {
        "colab": {
          "base_uri": "https://localhost:8080/"
        },
        "id": "MLhX98GueEex",
        "outputId": "73725ff1-652a-4133-dd22-9b28197fc5ec"
      },
      "source": [
        "print('matrix1:')\n",
        "print(matrix1)\n",
        "print('np.linalg.det(matrix1):')\n",
        "print(np.linalg.det(matrix1))"
      ],
      "execution_count": 25,
      "outputs": [
        {
          "output_type": "stream",
          "name": "stdout",
          "text": [
            "matrix1:\n",
            "[[0 1]\n",
            " [2 3]]\n",
            "np.linalg.det(matrix1):\n",
            "-2.0\n"
          ]
        }
      ]
    },
    {
      "cell_type": "markdown",
      "metadata": {
        "id": "ecT7htwK_H5z"
      },
      "source": [
        "## **1.4. 배열 인덱싱 하기**"
      ]
    },
    {
      "cell_type": "markdown",
      "metadata": {
        "id": "LWD_pqvbfz9b"
      },
      "source": [
        "배열을 인덱싱 할 때 조건에 부합하는 원소를 인덱싱 할 수 있습니다."
      ]
    },
    {
      "cell_type": "code",
      "metadata": {
        "colab": {
          "base_uri": "https://localhost:8080/"
        },
        "id": "r-R5bL4Qlr4p",
        "outputId": "b7dd4001-9b9a-4522-f7d0-826eea1a067f"
      },
      "source": [
        "list_indexing = np.arange(30)\n",
        "print(f'list_indexing > 15: {list_indexing[list_indexing > 15]}')\n",
        "print(f'list_indexing / 5 == 5: {list_indexing[list_indexing / 5 == 5]}')"
      ],
      "execution_count": 26,
      "outputs": [
        {
          "output_type": "stream",
          "name": "stdout",
          "text": [
            "list_indexing > 15: [16 17 18 19 20 21 22 23 24 25 26 27 28 29]\n",
            "list_indexing / 5 == 5: [25]\n"
          ]
        }
      ]
    },
    {
      "cell_type": "markdown",
      "metadata": {
        "id": "W9gI4BsD_OuX"
      },
      "source": [
        "## **1.5. 배열 슬라이싱 하기**"
      ]
    },
    {
      "cell_type": "markdown",
      "metadata": {
        "id": "zE09qUbwlixO"
      },
      "source": [
        "배열 슬라이싱은 간혹 끝 위치 숫자가 헷갈릴 수 있습니다. 반드시 끝 위치-1까지 슬라이싱 한다는 점을 유의해야 합니다.\n",
        "\n",
        "팁이라면 '끝 위치'에서 '시작 위치'를 뺀 값을 슬라이싱 할 개수로 여기고, 시작 위치에서 그 개수만큼 배열 슬라이싱 한다고 생각하면 수월합니다.\n",
        "\n",
        "아래 코드를 토대로 예시합니다."
      ]
    },
    {
      "cell_type": "code",
      "metadata": {
        "colab": {
          "base_uri": "https://localhost:8080/"
        },
        "id": "O7BXL-gSm3EX",
        "outputId": "21eda502-6961-49f6-9a40-67f9c54a977a"
      },
      "source": [
        "example_slicing = np.array([0, 3, 6, 2, 10, 66, 21])\n",
        "example_slicing[2:5]"
      ],
      "execution_count": 27,
      "outputs": [
        {
          "output_type": "execute_result",
          "data": {
            "text/plain": [
              "array([ 6,  2, 10])"
            ]
          },
          "metadata": {},
          "execution_count": 27
        }
      ]
    },
    {
      "cell_type": "markdown",
      "metadata": {
        "id": "ZO9-_XHinDp1"
      },
      "source": [
        "2에서 4까지 원소가 반환됐습니다. 슬라이싱을 2:5만큼 했으므로 5(끝 위치) - 2(시작 위치) = 3(반환 개수)입니다. 2의 위치의 원소인 6을 포함하여 3개가 차례로 반환된 것입니다. "
      ]
    },
    {
      "cell_type": "markdown",
      "metadata": {
        "id": "60mywIYlmEI8"
      },
      "source": [
        "# **2. Pandas 기본**"
      ]
    },
    {
      "cell_type": "markdown",
      "metadata": {
        "id": "wyQjRTXfkUQC"
      },
      "source": [
        "판다스는 데이터를 쉽게 처리할 수 있도록 특화된 라이브러리입니다. 자세한 내용은 [판다스 홈페이지](https://pandas.pydata.org)에 정리되어 있습니다."
      ]
    },
    {
      "cell_type": "markdown",
      "metadata": {
        "id": "R1Woq0WsRxot"
      },
      "source": [
        "## **2.1. 데이터 구조 만들기**"
      ]
    },
    {
      "cell_type": "markdown",
      "metadata": {
        "id": "rgX-yGxZR915"
      },
      "source": [
        "`Series()` 메서드를 사용하여 라벨이 있는 1차원 데이터를 생성할 수 있습니다. 이 데이터의 형식은 'Series'이며 **열벡터(vector)**입니다.\n",
        "\n",
        "아래는 이에 대한 예시입니다. 숫자, 문자열, 공백을 함께 포함시키겠습니다. 여기서 공백은 넘파이의 공백을 나타내는 `np.nan` 형태로 취합니다. "
      ]
    },
    {
      "cell_type": "code",
      "metadata": {
        "colab": {
          "base_uri": "https://localhost:8080/"
        },
        "id": "nSifYt5SStKT",
        "outputId": "b93d9c81-6963-491e-8060-bb649586f5c7"
      },
      "source": [
        "import numpy as np\n",
        "import pandas as pd\n",
        "\n",
        "# 대부분 리스트를 사용합니다. \n",
        "series1 = pd.Series([11, 22, 'a', 'b', np.nan, 33])\n",
        "series1"
      ],
      "execution_count": 28,
      "outputs": [
        {
          "output_type": "execute_result",
          "data": {
            "text/plain": [
              "0     11\n",
              "1     22\n",
              "2      a\n",
              "3      b\n",
              "4    NaN\n",
              "5     33\n",
              "dtype: object"
            ]
          },
          "metadata": {},
          "execution_count": 28
        }
      ]
    },
    {
      "cell_type": "markdown",
      "metadata": {
        "id": "Bi1xySlkS_Ro"
      },
      "source": [
        "첫째 열의 라벨은 'index'입니다. 0부터 오름차순으로 부여되며 데이터의 순서를 의미합니다. 둘째 열은 'values'입니다. 데이터의 값을 의미합니다."
      ]
    },
    {
      "cell_type": "markdown",
      "metadata": {
        "id": "KZOT1NCpVLuc"
      },
      "source": [
        "이 데이터의 열을 따로 가져올 수 있습니다. 아래에서 예시하겠습니다."
      ]
    },
    {
      "cell_type": "code",
      "metadata": {
        "colab": {
          "base_uri": "https://localhost:8080/"
        },
        "id": "g4COcES-T7rB",
        "outputId": "83022270-ac03-4983-ef76-d018ee483de9"
      },
      "source": [
        "series1.index"
      ],
      "execution_count": 29,
      "outputs": [
        {
          "output_type": "execute_result",
          "data": {
            "text/plain": [
              "RangeIndex(start=0, stop=6, step=1)"
            ]
          },
          "metadata": {},
          "execution_count": 29
        }
      ]
    },
    {
      "cell_type": "code",
      "metadata": {
        "colab": {
          "base_uri": "https://localhost:8080/"
        },
        "id": "C0VfQM3EvjsL",
        "outputId": "4fbba1a0-f565-4aa0-c3da-462a3d1e01b3"
      },
      "source": [
        "series1.values"
      ],
      "execution_count": 30,
      "outputs": [
        {
          "output_type": "execute_result",
          "data": {
            "text/plain": [
              "array([11, 22, 'a', 'b', nan, 33], dtype=object)"
            ]
          },
          "metadata": {},
          "execution_count": 30
        }
      ]
    },
    {
      "cell_type": "markdown",
      "metadata": {
        "id": "6cFkNaD_UYD_"
      },
      "source": [
        "배열 형식은 넘파이입니다."
      ]
    },
    {
      "cell_type": "markdown",
      "metadata": {
        "id": "OCE1Wo3DVN7i"
      },
      "source": [
        "위에서는 인덱스가 0부터 오름차순으로 부여됐습니다. 원하는 인덱스를 따로 지정하려면 `index=리스트명`을 `Series()` 메서드에 전달합니다."
      ]
    },
    {
      "cell_type": "code",
      "metadata": {
        "colab": {
          "base_uri": "https://localhost:8080/"
        },
        "id": "N__2am4hVnCo",
        "outputId": "530b6491-4141-43e3-8573-e0c8475c6a14"
      },
      "source": [
        "index1 = ['그저께', '어제', '오늘', '내일', '내일모레']\n",
        "series2 = pd.Series([50, 100, 20, np.nan, '휴식'], index=index1)\n",
        "series2"
      ],
      "execution_count": 31,
      "outputs": [
        {
          "output_type": "execute_result",
          "data": {
            "text/plain": [
              "그저께      50\n",
              "어제      100\n",
              "오늘       20\n",
              "내일      NaN\n",
              "내일모레     휴식\n",
              "dtype: object"
            ]
          },
          "metadata": {},
          "execution_count": 31
        }
      ]
    },
    {
      "cell_type": "markdown",
      "metadata": {
        "id": "YowXbgYgWSC6"
      },
      "source": [
        "딕셔너리 형식으로 인덱스(index)와 데이터(values)를 한 번에 입력할 수도 있습니다."
      ]
    },
    {
      "cell_type": "code",
      "metadata": {
        "colab": {
          "base_uri": "https://localhost:8080/"
        },
        "id": "QbY9GsXhWaia",
        "outputId": "43ede7eb-2c71-4329-b2f8-4f3b5169f818"
      },
      "source": [
        "series3 = pd.Series({'자전거': 150, '신발': 20, '바지':10, '헬멧': 15})\n",
        "series3"
      ],
      "execution_count": 32,
      "outputs": [
        {
          "output_type": "execute_result",
          "data": {
            "text/plain": [
              "자전거    150\n",
              "신발      20\n",
              "바지      10\n",
              "헬멧      15\n",
              "dtype: int64"
            ]
          },
          "metadata": {},
          "execution_count": 32
        }
      ]
    },
    {
      "cell_type": "markdown",
      "metadata": {
        "id": "XPSGaC3AXFsA"
      },
      "source": [
        "`date_range()` 메서드는 지정한 기간만큼 날짜를 생성합니다. 날짜 형식은 'yyyy-mm-dd'로 지정하겠습니다. 추가로 'yyyy.mm.dd', 'yyyy/mm/dd', 'mm-dd-yyyy', 'mm.dd.yyyy', 'mm/dd/yyyy' 모두 가능합니다. 단 생성되는 날짜의 형식은 모두 'yyyy-mm-dd'입니다."
      ]
    },
    {
      "cell_type": "code",
      "metadata": {
        "colab": {
          "base_uri": "https://localhost:8080/"
        },
        "id": "pESzKYOEXO95",
        "outputId": "dbf0990c-f29f-4fcc-f5f6-596a802e609e"
      },
      "source": [
        "print(pd.date_range(start='2021-10-04', end='2021-10-09'))\n",
        "# `periods` 매개변수에 값을 지정하면 기간만큼 날짜를 생성합니다.\n",
        "print(pd.date_range(start='2021-10-04', periods=6))"
      ],
      "execution_count": 33,
      "outputs": [
        {
          "output_type": "stream",
          "name": "stdout",
          "text": [
            "DatetimeIndex(['2021-10-04', '2021-10-05', '2021-10-06', '2021-10-07',\n",
            "               '2021-10-08', '2021-10-09'],\n",
            "              dtype='datetime64[ns]', freq='D')\n",
            "DatetimeIndex(['2021-10-04', '2021-10-05', '2021-10-06', '2021-10-07',\n",
            "               '2021-10-08', '2021-10-09'],\n",
            "              dtype='datetime64[ns]', freq='D')\n"
          ]
        }
      ]
    },
    {
      "cell_type": "markdown",
      "metadata": {
        "id": "201g5ldjZI9Y"
      },
      "source": [
        "`date_range()` 메서드의 매개변수인 `freq`에 값을 지정하면 원하는 주기로 날짜를 생성할 수 있습니다. 아래는 그 값의 목록입니다.\n",
        "\n",
        "- `D`: 하루(Day) 주기입니다. 이틀 주기로 생성하려면 `2D`입니다.\n",
        "\n",
        "- `B`: 업무일(Business day, 월~금) 주기입니다. `3B`도 가능합니다.\n",
        "\n",
        "- `W`: 일주일(Week) 주기입니다. 일요일 시작은 `W` 또는 `W-SUN`이며, 월요일 시작은 `W-MON`입니다.\n",
        "\n",
        "- `M`: 월말(Month end) 날짜 주기입니다. 한 달 주기는 `M`, 네 달 주기는 `4M`입니다.\n",
        "\n",
        "- `BM`: 업무 월말(Business month end) 날짜 주기입니다. `2BM`도 가능합니다.\n",
        "\n",
        "- `MS`: 월초(Month start) 날짜 주기입니다. 위 인자들처럼 `MS` 앞에 숫자를 붙일 수 있습니다.\n",
        "\n",
        "- `BMS`: 업무 월초(Business month start) 날짜 주기입니다. 똑같이 숫자를 붙일 수 있습니다. 이하 인자들도 같습니다.\n",
        "\n",
        "- `Q`: 분기말(Quater end) 날짜 주기입니다.\n",
        "\n",
        "- `BQ`: 업무 분기말(Business quater end) 날짜 주기입니다. \n",
        "\n",
        "- `QS`: 분기초(Quater start) 날짜 주기입니다. \n",
        "\n",
        "- `BQS`: 업무 분기초(Business quater start) 날짜 주기입니다.\n",
        "\n",
        "- `A`: 연말(Year end) 날짜 주기입니다.\n",
        "\n",
        "- `BA`: 업무 연말(Business year end) 날짜 주기입니다.\n",
        "\n",
        "- `AS`: 연초(Year start) 날짜 주기입니다.\n",
        "\n",
        "- `BAS`: 업무 연초(Business year start) 날짜 주기입니다.\n",
        "\n",
        "- `H`: 시간(Hour) 주기입니다.\n",
        "\n",
        "- `BH`: 업무 시간(Business hour) 주기입니다. 9:00 ~ 17:00를 기준으로 갖습니다.\n",
        "\n",
        "- `T`, `min`: 분(Minute) 주기입니다.\n",
        "\n",
        "- `S`: 초(Second) 주기입니다."
      ]
    },
    {
      "cell_type": "markdown",
      "metadata": {
        "id": "S4rbx676d6Os"
      },
      "source": [
        "아래에 몇 가지 예시를 들겠습니다. 먼저 다섯 날을 4일 간격으로 생성합니다."
      ]
    },
    {
      "cell_type": "code",
      "metadata": {
        "colab": {
          "base_uri": "https://localhost:8080/"
        },
        "id": "alRYo6ntd8Lv",
        "outputId": "d2922c28-4c70-402f-e81d-d6d010030614"
      },
      "source": [
        "pd.date_range(start='2021-10-04', periods=5, freq='4D')"
      ],
      "execution_count": 34,
      "outputs": [
        {
          "output_type": "execute_result",
          "data": {
            "text/plain": [
              "DatetimeIndex(['2021-10-04', '2021-10-08', '2021-10-12', '2021-10-16',\n",
              "               '2021-10-20'],\n",
              "              dtype='datetime64[ns]', freq='4D')"
            ]
          },
          "metadata": {},
          "execution_count": 34
        }
      ]
    },
    {
      "cell_type": "markdown",
      "metadata": {
        "id": "QkFvFcwoeQ2C"
      },
      "source": [
        "3주일씩 증가시키겠습니다."
      ]
    },
    {
      "cell_type": "code",
      "metadata": {
        "colab": {
          "base_uri": "https://localhost:8080/"
        },
        "id": "HZKieY-WeP9C",
        "outputId": "22d5a3a5-9c2d-4c0f-a9a4-9be6ed053704"
      },
      "source": [
        "pd.date_range(start='2021-10-04', periods=5, freq='3W')"
      ],
      "execution_count": 35,
      "outputs": [
        {
          "output_type": "execute_result",
          "data": {
            "text/plain": [
              "DatetimeIndex(['2021-10-10', '2021-10-31', '2021-11-21', '2021-12-12',\n",
              "               '2022-01-02'],\n",
              "              dtype='datetime64[ns]', freq='3W-SUN')"
            ]
          },
          "metadata": {},
          "execution_count": 35
        }
      ]
    },
    {
      "cell_type": "markdown",
      "metadata": {
        "id": "XEw_NYe0en3U"
      },
      "source": [
        "업무일 월초 날짜를 생성하겠습니다."
      ]
    },
    {
      "cell_type": "code",
      "metadata": {
        "colab": {
          "base_uri": "https://localhost:8080/"
        },
        "id": "LcS6hHI8e4aA",
        "outputId": "69e420f2-2931-42c8-ab1f-4ffdbc0c0850"
      },
      "source": [
        "pd.date_range(start='2021-10-04', periods=5, freq='BMS')"
      ],
      "execution_count": 36,
      "outputs": [
        {
          "output_type": "execute_result",
          "data": {
            "text/plain": [
              "DatetimeIndex(['2021-11-01', '2021-12-01', '2022-01-03', '2022-02-01',\n",
              "               '2022-03-01'],\n",
              "              dtype='datetime64[ns]', freq='BMS')"
            ]
          },
          "metadata": {},
          "execution_count": 36
        }
      ]
    },
    {
      "cell_type": "markdown",
      "metadata": {
        "id": "y8sBKFyge-7n"
      },
      "source": [
        "업무일 월말 날짜를 두 달 간격으로 생성하겠습니다."
      ]
    },
    {
      "cell_type": "code",
      "metadata": {
        "colab": {
          "base_uri": "https://localhost:8080/"
        },
        "id": "VInBrkkkfBD0",
        "outputId": "599f0932-afed-4b66-a3c6-eabc5b733e58"
      },
      "source": [
        "pd.date_range(start='2021-10-04', periods=5, freq='2BM')"
      ],
      "execution_count": 37,
      "outputs": [
        {
          "output_type": "execute_result",
          "data": {
            "text/plain": [
              "DatetimeIndex(['2021-10-29', '2021-12-31', '2022-02-28', '2022-04-29',\n",
              "               '2022-06-30'],\n",
              "              dtype='datetime64[ns]', freq='2BM')"
            ]
          },
          "metadata": {},
          "execution_count": 37
        }
      ]
    },
    {
      "cell_type": "markdown",
      "metadata": {
        "id": "eg0l3JOlfSOb"
      },
      "source": [
        "업무일 분기초 날짜를 생성하겠습니다. "
      ]
    },
    {
      "cell_type": "code",
      "metadata": {
        "colab": {
          "base_uri": "https://localhost:8080/"
        },
        "id": "0-lZhYaefWAp",
        "outputId": "1cb7b71a-4ad4-425b-a0b7-eeea5d86a37e"
      },
      "source": [
        "pd.date_range(start='2021-10-04', periods=5, freq='BQS')"
      ],
      "execution_count": 38,
      "outputs": [
        {
          "output_type": "execute_result",
          "data": {
            "text/plain": [
              "DatetimeIndex(['2022-01-03', '2022-04-01', '2022-07-01', '2022-10-03',\n",
              "               '2023-01-02'],\n",
              "              dtype='datetime64[ns]', freq='BQS-JAN')"
            ]
          },
          "metadata": {},
          "execution_count": 38
        }
      ]
    },
    {
      "cell_type": "markdown",
      "metadata": {
        "id": "CyKExbfCfyRm"
      },
      "source": [
        "내용을 응용하여 시리즈를 생성하겠습니다."
      ]
    },
    {
      "cell_type": "code",
      "metadata": {
        "colab": {
          "base_uri": "https://localhost:8080/"
        },
        "id": "LaZqDnqnf5BF",
        "outputId": "a4423de1-0b9b-4fc6-d845-99a650d73524"
      },
      "source": [
        "date_index = pd.date_range(start='2021-06-01', periods=5, freq='M')\n",
        "num_values = [100, 241, 213, 152, 656]\n",
        "pd.Series(num_values, index=date_index)"
      ],
      "execution_count": 39,
      "outputs": [
        {
          "output_type": "execute_result",
          "data": {
            "text/plain": [
              "2021-06-30    100\n",
              "2021-07-31    241\n",
              "2021-08-31    213\n",
              "2021-09-30    152\n",
              "2021-10-31    656\n",
              "Freq: M, dtype: int64"
            ]
          },
          "metadata": {},
          "execution_count": 39
        }
      ]
    },
    {
      "cell_type": "markdown",
      "metadata": {
        "id": "3vQ1voWOg8hn"
      },
      "source": [
        "위에서는 `Series()` 메서드를 사용해서 1차원 데이터 구조를 만들었습니다. `DataFrame()` 메서드는 2차원 데이터 구조를 만듭니다. 이 메서드도 첫 열에 인덱스를 숫자형 라벨로 자동으로 부여하지만, 차이점이라면 칼럼도 숫자형 라벨로 자동으로 부여합니다. 물론 인덱스와 칼럼 모두 라벨을 직접 지정할 수 있습니다. 이 데이터의 형식은 'DataFrame`이며, 여러 개의 열벡터들이 같은 행 인덱스를 기준으로 줄지어서 이어진 2차원 벡터 또는 **행렬(matrix)**입니다.\n",
        "\n",
        "먼저 간단하게 예시하겠습니다."
      ]
    },
    {
      "cell_type": "code",
      "metadata": {
        "colab": {
          "base_uri": "https://localhost:8080/",
          "height": 111
        },
        "id": "uEHeyncOhWoh",
        "outputId": "221bee4a-7917-40aa-a0c3-dce0b3527c27"
      },
      "source": [
        "# 데이터 프레임을 생성하려면 2차원 리스트를 사용해야 합니다.\n",
        "pd.DataFrame([[11, 22, 33, 44], [55, 66, 77, 88]])"
      ],
      "execution_count": 40,
      "outputs": [
        {
          "output_type": "execute_result",
          "data": {
            "text/html": [
              "<div>\n",
              "<style scoped>\n",
              "    .dataframe tbody tr th:only-of-type {\n",
              "        vertical-align: middle;\n",
              "    }\n",
              "\n",
              "    .dataframe tbody tr th {\n",
              "        vertical-align: top;\n",
              "    }\n",
              "\n",
              "    .dataframe thead th {\n",
              "        text-align: right;\n",
              "    }\n",
              "</style>\n",
              "<table border=\"1\" class=\"dataframe\">\n",
              "  <thead>\n",
              "    <tr style=\"text-align: right;\">\n",
              "      <th></th>\n",
              "      <th>0</th>\n",
              "      <th>1</th>\n",
              "      <th>2</th>\n",
              "      <th>3</th>\n",
              "    </tr>\n",
              "  </thead>\n",
              "  <tbody>\n",
              "    <tr>\n",
              "      <th>0</th>\n",
              "      <td>11</td>\n",
              "      <td>22</td>\n",
              "      <td>33</td>\n",
              "      <td>44</td>\n",
              "    </tr>\n",
              "    <tr>\n",
              "      <th>1</th>\n",
              "      <td>55</td>\n",
              "      <td>66</td>\n",
              "      <td>77</td>\n",
              "      <td>88</td>\n",
              "    </tr>\n",
              "  </tbody>\n",
              "</table>\n",
              "</div>"
            ],
            "text/plain": [
              "    0   1   2   3\n",
              "0  11  22  33  44\n",
              "1  55  66  77  88"
            ]
          },
          "metadata": {},
          "execution_count": 40
        }
      ]
    },
    {
      "cell_type": "markdown",
      "metadata": {
        "id": "j3r_IzIViigU"
      },
      "source": [
        "넘파이 배열로도 values를 전달할 수 있습니다."
      ]
    },
    {
      "cell_type": "code",
      "metadata": {
        "colab": {
          "base_uri": "https://localhost:8080/",
          "height": 141
        },
        "id": "ka4O4pUWisgm",
        "outputId": "d41e96f6-287f-4c92-c530-185586b1b0ec"
      },
      "source": [
        "np_nums = np.array([[11, 22, 33], [44, 55, 66], [77, 88, 99]])\n",
        "pd.DataFrame(np_nums)"
      ],
      "execution_count": 41,
      "outputs": [
        {
          "output_type": "execute_result",
          "data": {
            "text/html": [
              "<div>\n",
              "<style scoped>\n",
              "    .dataframe tbody tr th:only-of-type {\n",
              "        vertical-align: middle;\n",
              "    }\n",
              "\n",
              "    .dataframe tbody tr th {\n",
              "        vertical-align: top;\n",
              "    }\n",
              "\n",
              "    .dataframe thead th {\n",
              "        text-align: right;\n",
              "    }\n",
              "</style>\n",
              "<table border=\"1\" class=\"dataframe\">\n",
              "  <thead>\n",
              "    <tr style=\"text-align: right;\">\n",
              "      <th></th>\n",
              "      <th>0</th>\n",
              "      <th>1</th>\n",
              "      <th>2</th>\n",
              "    </tr>\n",
              "  </thead>\n",
              "  <tbody>\n",
              "    <tr>\n",
              "      <th>0</th>\n",
              "      <td>11</td>\n",
              "      <td>22</td>\n",
              "      <td>33</td>\n",
              "    </tr>\n",
              "    <tr>\n",
              "      <th>1</th>\n",
              "      <td>44</td>\n",
              "      <td>55</td>\n",
              "      <td>66</td>\n",
              "    </tr>\n",
              "    <tr>\n",
              "      <th>2</th>\n",
              "      <td>77</td>\n",
              "      <td>88</td>\n",
              "      <td>99</td>\n",
              "    </tr>\n",
              "  </tbody>\n",
              "</table>\n",
              "</div>"
            ],
            "text/plain": [
              "    0   1   2\n",
              "0  11  22  33\n",
              "1  44  55  66\n",
              "2  77  88  99"
            ]
          },
          "metadata": {},
          "execution_count": 41
        }
      ]
    },
    {
      "cell_type": "markdown",
      "metadata": {
        "id": "hRs6mJU6jHgx"
      },
      "source": [
        "인덱스와 칼럼명까지 함께 지정하여 데이터 프레임을 만들겠습니다."
      ]
    },
    {
      "cell_type": "code",
      "metadata": {
        "colab": {
          "base_uri": "https://localhost:8080/",
          "height": 141
        },
        "id": "4fQlEH25jMIs",
        "outputId": "a160dea9-d1f8-4e4a-85c1-4fce74d48471"
      },
      "source": [
        "np_nums1 = np.array([[42, 27, 54], [36, 75, 97], [33, 15, 26]])\n",
        "date_index = pd.date_range('2021-10-09', periods=3, freq='3H')\n",
        "col_list = ['사과', '배', '포도']\n",
        "pd.DataFrame(np_nums1, index=date_index, columns=col_list)"
      ],
      "execution_count": 42,
      "outputs": [
        {
          "output_type": "execute_result",
          "data": {
            "text/html": [
              "<div>\n",
              "<style scoped>\n",
              "    .dataframe tbody tr th:only-of-type {\n",
              "        vertical-align: middle;\n",
              "    }\n",
              "\n",
              "    .dataframe tbody tr th {\n",
              "        vertical-align: top;\n",
              "    }\n",
              "\n",
              "    .dataframe thead th {\n",
              "        text-align: right;\n",
              "    }\n",
              "</style>\n",
              "<table border=\"1\" class=\"dataframe\">\n",
              "  <thead>\n",
              "    <tr style=\"text-align: right;\">\n",
              "      <th></th>\n",
              "      <th>사과</th>\n",
              "      <th>배</th>\n",
              "      <th>포도</th>\n",
              "    </tr>\n",
              "  </thead>\n",
              "  <tbody>\n",
              "    <tr>\n",
              "      <th>2021-10-09 00:00:00</th>\n",
              "      <td>42</td>\n",
              "      <td>27</td>\n",
              "      <td>54</td>\n",
              "    </tr>\n",
              "    <tr>\n",
              "      <th>2021-10-09 03:00:00</th>\n",
              "      <td>36</td>\n",
              "      <td>75</td>\n",
              "      <td>97</td>\n",
              "    </tr>\n",
              "    <tr>\n",
              "      <th>2021-10-09 06:00:00</th>\n",
              "      <td>33</td>\n",
              "      <td>15</td>\n",
              "      <td>26</td>\n",
              "    </tr>\n",
              "  </tbody>\n",
              "</table>\n",
              "</div>"
            ],
            "text/plain": [
              "                     사과   배  포도\n",
              "2021-10-09 00:00:00  42  27  54\n",
              "2021-10-09 03:00:00  36  75  97\n",
              "2021-10-09 06:00:00  33  15  26"
            ]
          },
          "metadata": {},
          "execution_count": 42
        }
      ]
    },
    {
      "cell_type": "markdown",
      "metadata": {
        "id": "vlUdWYUv3zWM"
      },
      "source": [
        "딕셔너리로 데이터 프레임을 만들겠습니다."
      ]
    },
    {
      "cell_type": "code",
      "metadata": {
        "colab": {
          "base_uri": "https://localhost:8080/",
          "height": 172
        },
        "id": "2dM6sI8q33TW",
        "outputId": "db355946-a3b6-4175-887c-4daa628a0063"
      },
      "source": [
        "dic_data1 = {'입대일': ['2012-09-12', '2012-09-12', '2012-09-12', '2012-09-12'],\n",
        "            '군번': [20129948, 20129593, 20129302, 20129352],\n",
        "            '이름': ['이승민', '김대철', '장비호', '이진해'],\n",
        "            '보직': [20, 30, 10, 30]}\n",
        "pd.DataFrame(dic_data1)"
      ],
      "execution_count": 43,
      "outputs": [
        {
          "output_type": "execute_result",
          "data": {
            "text/html": [
              "<div>\n",
              "<style scoped>\n",
              "    .dataframe tbody tr th:only-of-type {\n",
              "        vertical-align: middle;\n",
              "    }\n",
              "\n",
              "    .dataframe tbody tr th {\n",
              "        vertical-align: top;\n",
              "    }\n",
              "\n",
              "    .dataframe thead th {\n",
              "        text-align: right;\n",
              "    }\n",
              "</style>\n",
              "<table border=\"1\" class=\"dataframe\">\n",
              "  <thead>\n",
              "    <tr style=\"text-align: right;\">\n",
              "      <th></th>\n",
              "      <th>입대일</th>\n",
              "      <th>군번</th>\n",
              "      <th>이름</th>\n",
              "      <th>보직</th>\n",
              "    </tr>\n",
              "  </thead>\n",
              "  <tbody>\n",
              "    <tr>\n",
              "      <th>0</th>\n",
              "      <td>2012-09-12</td>\n",
              "      <td>20129948</td>\n",
              "      <td>이승민</td>\n",
              "      <td>20</td>\n",
              "    </tr>\n",
              "    <tr>\n",
              "      <th>1</th>\n",
              "      <td>2012-09-12</td>\n",
              "      <td>20129593</td>\n",
              "      <td>김대철</td>\n",
              "      <td>30</td>\n",
              "    </tr>\n",
              "    <tr>\n",
              "      <th>2</th>\n",
              "      <td>2012-09-12</td>\n",
              "      <td>20129302</td>\n",
              "      <td>장비호</td>\n",
              "      <td>10</td>\n",
              "    </tr>\n",
              "    <tr>\n",
              "      <th>3</th>\n",
              "      <td>2012-09-12</td>\n",
              "      <td>20129352</td>\n",
              "      <td>이진해</td>\n",
              "      <td>30</td>\n",
              "    </tr>\n",
              "  </tbody>\n",
              "</table>\n",
              "</div>"
            ],
            "text/plain": [
              "          입대일        군번   이름  보직\n",
              "0  2012-09-12  20129948  이승민  20\n",
              "1  2012-09-12  20129593  김대철  30\n",
              "2  2012-09-12  20129302  장비호  10\n",
              "3  2012-09-12  20129352  이진해  30"
            ]
          },
          "metadata": {},
          "execution_count": 43
        }
      ]
    },
    {
      "cell_type": "markdown",
      "metadata": {
        "id": "hrGrgrK55nRN"
      },
      "source": [
        "칼럼을 재정렬하겠습니다."
      ]
    },
    {
      "cell_type": "code",
      "metadata": {
        "colab": {
          "base_uri": "https://localhost:8080/",
          "height": 172
        },
        "id": "em2Yz2LP5pn9",
        "outputId": "bcf88b2f-3954-4688-a0f5-4da55950c2b2"
      },
      "source": [
        "pd.DataFrame(dic_data1, columns=['군번', '입대일', '이름', '보직'])"
      ],
      "execution_count": 44,
      "outputs": [
        {
          "output_type": "execute_result",
          "data": {
            "text/html": [
              "<div>\n",
              "<style scoped>\n",
              "    .dataframe tbody tr th:only-of-type {\n",
              "        vertical-align: middle;\n",
              "    }\n",
              "\n",
              "    .dataframe tbody tr th {\n",
              "        vertical-align: top;\n",
              "    }\n",
              "\n",
              "    .dataframe thead th {\n",
              "        text-align: right;\n",
              "    }\n",
              "</style>\n",
              "<table border=\"1\" class=\"dataframe\">\n",
              "  <thead>\n",
              "    <tr style=\"text-align: right;\">\n",
              "      <th></th>\n",
              "      <th>군번</th>\n",
              "      <th>입대일</th>\n",
              "      <th>이름</th>\n",
              "      <th>보직</th>\n",
              "    </tr>\n",
              "  </thead>\n",
              "  <tbody>\n",
              "    <tr>\n",
              "      <th>0</th>\n",
              "      <td>20129948</td>\n",
              "      <td>2012-09-12</td>\n",
              "      <td>이승민</td>\n",
              "      <td>20</td>\n",
              "    </tr>\n",
              "    <tr>\n",
              "      <th>1</th>\n",
              "      <td>20129593</td>\n",
              "      <td>2012-09-12</td>\n",
              "      <td>김대철</td>\n",
              "      <td>30</td>\n",
              "    </tr>\n",
              "    <tr>\n",
              "      <th>2</th>\n",
              "      <td>20129302</td>\n",
              "      <td>2012-09-12</td>\n",
              "      <td>장비호</td>\n",
              "      <td>10</td>\n",
              "    </tr>\n",
              "    <tr>\n",
              "      <th>3</th>\n",
              "      <td>20129352</td>\n",
              "      <td>2012-09-12</td>\n",
              "      <td>이진해</td>\n",
              "      <td>30</td>\n",
              "    </tr>\n",
              "  </tbody>\n",
              "</table>\n",
              "</div>"
            ],
            "text/plain": [
              "         군번         입대일   이름  보직\n",
              "0  20129948  2012-09-12  이승민  20\n",
              "1  20129593  2012-09-12  김대철  30\n",
              "2  20129302  2012-09-12  장비호  10\n",
              "3  20129352  2012-09-12  이진해  30"
            ]
          },
          "metadata": {},
          "execution_count": 44
        }
      ]
    },
    {
      "cell_type": "markdown",
      "metadata": {
        "id": "IiL8ZLzY5-nI"
      },
      "source": [
        "## **2.2. 데이터 연산하기**"
      ]
    },
    {
      "cell_type": "markdown",
      "metadata": {
        "id": "Re9dQdVN6Roy"
      },
      "source": [
        "시리즈끼리 데이터를 연산할 수 있습니다. 단 연산할 대상이 없는 경우는 'NaN'(Not a Number)으로 처리됩니다."
      ]
    },
    {
      "cell_type": "code",
      "metadata": {
        "colab": {
          "base_uri": "https://localhost:8080/"
        },
        "id": "8KYJReT16DY4",
        "outputId": "bb947420-add7-4d27-c404-56fe5abec777"
      },
      "source": [
        "series4 = pd.Series(['영', 1, 2, 3])\n",
        "series5 = pd.Series([4, 5, 6, 7, 8])\n",
        "series4 * series5"
      ],
      "execution_count": 45,
      "outputs": [
        {
          "output_type": "execute_result",
          "data": {
            "text/plain": [
              "0    영영영영\n",
              "1       5\n",
              "2      12\n",
              "3      21\n",
              "4     NaN\n",
              "dtype: object"
            ]
          },
          "metadata": {},
          "execution_count": 45
        }
      ]
    },
    {
      "cell_type": "markdown",
      "metadata": {
        "id": "YbJ0hanI-804"
      },
      "source": [
        "'NaN'으로 처리되지 않도록 공백을 0으로 처리할 수 있습니다. 덧셈은 `add()`, 뺄셈은 `sub()`, 곱셈은 `mul()`, 나눗셈은 `div()` 메서드를 적용하되 매개변수 `fill_value`에 `0`을 지정합니다."
      ]
    },
    {
      "cell_type": "code",
      "metadata": {
        "colab": {
          "base_uri": "https://localhost:8080/"
        },
        "id": "isYncJbg_o90",
        "outputId": "4a255551-0c0f-4b12-9421-d292ab55a99e"
      },
      "source": [
        "series6 = pd.Series([0, 1, 2, 3])\n",
        "series7 = pd.Series([4, 5, 6, 7, 8])\n",
        "\n",
        "series6.add(series7, fill_value=0)"
      ],
      "execution_count": 46,
      "outputs": [
        {
          "output_type": "execute_result",
          "data": {
            "text/plain": [
              "0     4.0\n",
              "1     6.0\n",
              "2     8.0\n",
              "3    10.0\n",
              "4     8.0\n",
              "dtype: float64"
            ]
          },
          "metadata": {},
          "execution_count": 46
        }
      ]
    },
    {
      "cell_type": "markdown",
      "metadata": {
        "id": "m-uRjA4j7EY0"
      },
      "source": [
        "데이터 프레임끼리도 연산이 가능합니다. 시리즈처럼 연산이 불가능한 경우는 'NaN'으로 처리됩니다."
      ]
    },
    {
      "cell_type": "code",
      "metadata": {
        "colab": {
          "base_uri": "https://localhost:8080/",
          "height": 172
        },
        "id": "1DaCV7_77LMa",
        "outputId": "278ab2fb-aa15-4d8f-ab24-dfe6970d3551"
      },
      "source": [
        "dic_data2 = {'a': [0, 1, 2],\n",
        "             'b': [3, 4, 5],\n",
        "             'c': [6, 7, 8]}\n",
        "df1 = pd.DataFrame(dic_data2)\n",
        "\n",
        "dic_data3 = {'a': [10, 20, 30, 40],\n",
        "             'b': [50, 60, 70, 80],\n",
        "             'c': [90, 100, 110, 120]}\n",
        "df2 = pd.DataFrame(dic_data3)\n",
        "df1 + df2"
      ],
      "execution_count": 47,
      "outputs": [
        {
          "output_type": "execute_result",
          "data": {
            "text/html": [
              "<div>\n",
              "<style scoped>\n",
              "    .dataframe tbody tr th:only-of-type {\n",
              "        vertical-align: middle;\n",
              "    }\n",
              "\n",
              "    .dataframe tbody tr th {\n",
              "        vertical-align: top;\n",
              "    }\n",
              "\n",
              "    .dataframe thead th {\n",
              "        text-align: right;\n",
              "    }\n",
              "</style>\n",
              "<table border=\"1\" class=\"dataframe\">\n",
              "  <thead>\n",
              "    <tr style=\"text-align: right;\">\n",
              "      <th></th>\n",
              "      <th>a</th>\n",
              "      <th>b</th>\n",
              "      <th>c</th>\n",
              "    </tr>\n",
              "  </thead>\n",
              "  <tbody>\n",
              "    <tr>\n",
              "      <th>0</th>\n",
              "      <td>10.0</td>\n",
              "      <td>53.0</td>\n",
              "      <td>96.0</td>\n",
              "    </tr>\n",
              "    <tr>\n",
              "      <th>1</th>\n",
              "      <td>21.0</td>\n",
              "      <td>64.0</td>\n",
              "      <td>107.0</td>\n",
              "    </tr>\n",
              "    <tr>\n",
              "      <th>2</th>\n",
              "      <td>32.0</td>\n",
              "      <td>75.0</td>\n",
              "      <td>118.0</td>\n",
              "    </tr>\n",
              "    <tr>\n",
              "      <th>3</th>\n",
              "      <td>NaN</td>\n",
              "      <td>NaN</td>\n",
              "      <td>NaN</td>\n",
              "    </tr>\n",
              "  </tbody>\n",
              "</table>\n",
              "</div>"
            ],
            "text/plain": [
              "      a     b      c\n",
              "0  10.0  53.0   96.0\n",
              "1  21.0  64.0  107.0\n",
              "2  32.0  75.0  118.0\n",
              "3   NaN   NaN    NaN"
            ]
          },
          "metadata": {},
          "execution_count": 47
        }
      ]
    },
    {
      "cell_type": "code",
      "metadata": {
        "colab": {
          "base_uri": "https://localhost:8080/",
          "height": 141
        },
        "id": "_QU5O1pNB95r",
        "outputId": "08d82888-ddb6-4183-80b1-1262fe061822"
      },
      "source": [
        "df1 + 10"
      ],
      "execution_count": 48,
      "outputs": [
        {
          "output_type": "execute_result",
          "data": {
            "text/html": [
              "<div>\n",
              "<style scoped>\n",
              "    .dataframe tbody tr th:only-of-type {\n",
              "        vertical-align: middle;\n",
              "    }\n",
              "\n",
              "    .dataframe tbody tr th {\n",
              "        vertical-align: top;\n",
              "    }\n",
              "\n",
              "    .dataframe thead th {\n",
              "        text-align: right;\n",
              "    }\n",
              "</style>\n",
              "<table border=\"1\" class=\"dataframe\">\n",
              "  <thead>\n",
              "    <tr style=\"text-align: right;\">\n",
              "      <th></th>\n",
              "      <th>a</th>\n",
              "      <th>b</th>\n",
              "      <th>c</th>\n",
              "    </tr>\n",
              "  </thead>\n",
              "  <tbody>\n",
              "    <tr>\n",
              "      <th>0</th>\n",
              "      <td>10</td>\n",
              "      <td>13</td>\n",
              "      <td>16</td>\n",
              "    </tr>\n",
              "    <tr>\n",
              "      <th>1</th>\n",
              "      <td>11</td>\n",
              "      <td>14</td>\n",
              "      <td>17</td>\n",
              "    </tr>\n",
              "    <tr>\n",
              "      <th>2</th>\n",
              "      <td>12</td>\n",
              "      <td>15</td>\n",
              "      <td>18</td>\n",
              "    </tr>\n",
              "  </tbody>\n",
              "</table>\n",
              "</div>"
            ],
            "text/plain": [
              "    a   b   c\n",
              "0  10  13  16\n",
              "1  11  14  17\n",
              "2  12  15  18"
            ]
          },
          "metadata": {},
          "execution_count": 48
        }
      ]
    },
    {
      "cell_type": "markdown",
      "metadata": {
        "id": "a7Z3IGHP8mVE"
      },
      "source": [
        "넘파이와 비슷하게 통계 함수를 사용할 수 있습니다. 아래는 판다스에서 사용할 수 있는 몇 가지 함수 목록입니다.\n",
        "\n",
        "- `sum()`: 합계\n",
        "\n",
        "- `mean()`: 평균\n",
        "\n",
        "- `std()`: 표준 편차\n",
        "\n",
        "- `var()`: 분산\n",
        "\n",
        "- `max()`: 최댓값\n",
        "\n",
        "- `min()`: 최솟값\n",
        "\n",
        "- `cumsum()`: 누적합\n",
        "\n",
        "- `cumprod()`: 누적곱\n",
        "\n",
        "- `median()`: 중간값\n",
        "\n",
        "- `corr()`: 상관계수\n",
        "\n",
        "- `describe()`: 원소 개수, 평균, 표준 편차, 최솟값, 최댓값. 매개변수를 `include=all`로 지정하면 고유값 개수, 최빈값, 빈도수를 추가합니다."
      ]
    },
    {
      "cell_type": "markdown",
      "metadata": {
        "id": "7R81-o2v-PGT"
      },
      "source": [
        "`describe()` 함수에 대한 예시를 들겠습니다."
      ]
    },
    {
      "cell_type": "code",
      "metadata": {
        "colab": {
          "base_uri": "https://localhost:8080/",
          "height": 527
        },
        "id": "zpGWLi4I-UsC",
        "outputId": "c9421901-b9b1-4c85-b69d-d219dbb534da"
      },
      "source": [
        "dic_data4 = {'사과': [332, 392, 391, 295, 374],\n",
        "             '배': [102, 99, 80, 30, 143],\n",
        "             '포도': [402, 497, 306, 681, 573]}\n",
        "col_list1 = ['포도', '사과', '배']\n",
        "index2 = ['4월', '5월', '6월', '7월', '8월']\n",
        "\n",
        "df3 = pd.DataFrame(dic_data4, columns=col_list1, index=index2)\n",
        "\n",
        "print(df3)\n",
        "print()\n",
        "\n",
        "print('평균')\n",
        "print(df3.mean())\n",
        "print()\n",
        "\n",
        "# `display` 메서드를 사용하면 데이터 프레임 형태로 출력합니다.\n",
        "display(df3.describe())"
      ],
      "execution_count": 49,
      "outputs": [
        {
          "output_type": "stream",
          "name": "stdout",
          "text": [
            "     포도   사과    배\n",
            "4월  402  332  102\n",
            "5월  497  392   99\n",
            "6월  306  391   80\n",
            "7월  681  295   30\n",
            "8월  573  374  143\n",
            "\n",
            "평균\n",
            "포도    491.8\n",
            "사과    356.8\n",
            "배      90.8\n",
            "dtype: float64\n",
            "\n"
          ]
        },
        {
          "output_type": "display_data",
          "data": {
            "text/html": [
              "<div>\n",
              "<style scoped>\n",
              "    .dataframe tbody tr th:only-of-type {\n",
              "        vertical-align: middle;\n",
              "    }\n",
              "\n",
              "    .dataframe tbody tr th {\n",
              "        vertical-align: top;\n",
              "    }\n",
              "\n",
              "    .dataframe thead th {\n",
              "        text-align: right;\n",
              "    }\n",
              "</style>\n",
              "<table border=\"1\" class=\"dataframe\">\n",
              "  <thead>\n",
              "    <tr style=\"text-align: right;\">\n",
              "      <th></th>\n",
              "      <th>포도</th>\n",
              "      <th>사과</th>\n",
              "      <th>배</th>\n",
              "    </tr>\n",
              "  </thead>\n",
              "  <tbody>\n",
              "    <tr>\n",
              "      <th>count</th>\n",
              "      <td>5.000000</td>\n",
              "      <td>5.00000</td>\n",
              "      <td>5.000000</td>\n",
              "    </tr>\n",
              "    <tr>\n",
              "      <th>mean</th>\n",
              "      <td>491.800000</td>\n",
              "      <td>356.80000</td>\n",
              "      <td>90.800000</td>\n",
              "    </tr>\n",
              "    <tr>\n",
              "      <th>std</th>\n",
              "      <td>145.776198</td>\n",
              "      <td>42.24571</td>\n",
              "      <td>41.020726</td>\n",
              "    </tr>\n",
              "    <tr>\n",
              "      <th>min</th>\n",
              "      <td>306.000000</td>\n",
              "      <td>295.00000</td>\n",
              "      <td>30.000000</td>\n",
              "    </tr>\n",
              "    <tr>\n",
              "      <th>25%</th>\n",
              "      <td>402.000000</td>\n",
              "      <td>332.00000</td>\n",
              "      <td>80.000000</td>\n",
              "    </tr>\n",
              "    <tr>\n",
              "      <th>50%</th>\n",
              "      <td>497.000000</td>\n",
              "      <td>374.00000</td>\n",
              "      <td>99.000000</td>\n",
              "    </tr>\n",
              "    <tr>\n",
              "      <th>75%</th>\n",
              "      <td>573.000000</td>\n",
              "      <td>391.00000</td>\n",
              "      <td>102.000000</td>\n",
              "    </tr>\n",
              "    <tr>\n",
              "      <th>max</th>\n",
              "      <td>681.000000</td>\n",
              "      <td>392.00000</td>\n",
              "      <td>143.000000</td>\n",
              "    </tr>\n",
              "  </tbody>\n",
              "</table>\n",
              "</div>"
            ],
            "text/plain": [
              "               포도         사과           배\n",
              "count    5.000000    5.00000    5.000000\n",
              "mean   491.800000  356.80000   90.800000\n",
              "std    145.776198   42.24571   41.020726\n",
              "min    306.000000  295.00000   30.000000\n",
              "25%    402.000000  332.00000   80.000000\n",
              "50%    497.000000  374.00000   99.000000\n",
              "75%    573.000000  391.00000  102.000000\n",
              "max    681.000000  392.00000  143.000000"
            ]
          },
          "metadata": {}
        }
      ]
    },
    {
      "cell_type": "markdown",
      "metadata": {
        "id": "9TKOdidUB9HA"
      },
      "source": [
        "## **2.3. 데이터 선택하기**"
      ]
    },
    {
      "cell_type": "markdown",
      "metadata": {
        "id": "lVIFkvbBDQ8L"
      },
      "source": [
        "먼저 데이터 프레임을 이전보다 크게 생성하겠습니다."
      ]
    },
    {
      "cell_type": "code",
      "metadata": {
        "colab": {
          "base_uri": "https://localhost:8080/",
          "height": 478
        },
        "id": "UADbqPpAFOEJ",
        "outputId": "b944581a-ccbd-4a44-f873-8acaa887219e"
      },
      "source": [
        "dic_data5 = {'사과': [332, 392, 391, 295, 374, 333, 282],\n",
        "             '배': [102, 99, 80, 30, 143, 26, 21],\n",
        "             '포도': [402, 497, 306, 681, 573, 777, 821],\n",
        "             '딸기': [756, 741, 794, 772, 703, np.nan, np.nan],\n",
        "             '복숭아': [32, 70, 26, 154, 201, np.nan, np.nan]}\n",
        "col_list2 = ['배', '사과', '포도', '딸기', '복숭아']\n",
        "index3 = ['4월', '5월', '6월', '7월', '8월', '9월', '10월']\n",
        "\n",
        "df4 = pd.DataFrame(dic_data5, columns=col_list2, index=index3)\n",
        "display(df4)\n",
        "print()\n",
        "\n",
        "print(df4.index)\n",
        "print()\n",
        "\n",
        "print(df4.columns)\n",
        "print()\n",
        "\n",
        "print(df4.values)"
      ],
      "execution_count": 50,
      "outputs": [
        {
          "output_type": "display_data",
          "data": {
            "text/html": [
              "<div>\n",
              "<style scoped>\n",
              "    .dataframe tbody tr th:only-of-type {\n",
              "        vertical-align: middle;\n",
              "    }\n",
              "\n",
              "    .dataframe tbody tr th {\n",
              "        vertical-align: top;\n",
              "    }\n",
              "\n",
              "    .dataframe thead th {\n",
              "        text-align: right;\n",
              "    }\n",
              "</style>\n",
              "<table border=\"1\" class=\"dataframe\">\n",
              "  <thead>\n",
              "    <tr style=\"text-align: right;\">\n",
              "      <th></th>\n",
              "      <th>배</th>\n",
              "      <th>사과</th>\n",
              "      <th>포도</th>\n",
              "      <th>딸기</th>\n",
              "      <th>복숭아</th>\n",
              "    </tr>\n",
              "  </thead>\n",
              "  <tbody>\n",
              "    <tr>\n",
              "      <th>4월</th>\n",
              "      <td>102</td>\n",
              "      <td>332</td>\n",
              "      <td>402</td>\n",
              "      <td>756.0</td>\n",
              "      <td>32.0</td>\n",
              "    </tr>\n",
              "    <tr>\n",
              "      <th>5월</th>\n",
              "      <td>99</td>\n",
              "      <td>392</td>\n",
              "      <td>497</td>\n",
              "      <td>741.0</td>\n",
              "      <td>70.0</td>\n",
              "    </tr>\n",
              "    <tr>\n",
              "      <th>6월</th>\n",
              "      <td>80</td>\n",
              "      <td>391</td>\n",
              "      <td>306</td>\n",
              "      <td>794.0</td>\n",
              "      <td>26.0</td>\n",
              "    </tr>\n",
              "    <tr>\n",
              "      <th>7월</th>\n",
              "      <td>30</td>\n",
              "      <td>295</td>\n",
              "      <td>681</td>\n",
              "      <td>772.0</td>\n",
              "      <td>154.0</td>\n",
              "    </tr>\n",
              "    <tr>\n",
              "      <th>8월</th>\n",
              "      <td>143</td>\n",
              "      <td>374</td>\n",
              "      <td>573</td>\n",
              "      <td>703.0</td>\n",
              "      <td>201.0</td>\n",
              "    </tr>\n",
              "    <tr>\n",
              "      <th>9월</th>\n",
              "      <td>26</td>\n",
              "      <td>333</td>\n",
              "      <td>777</td>\n",
              "      <td>NaN</td>\n",
              "      <td>NaN</td>\n",
              "    </tr>\n",
              "    <tr>\n",
              "      <th>10월</th>\n",
              "      <td>21</td>\n",
              "      <td>282</td>\n",
              "      <td>821</td>\n",
              "      <td>NaN</td>\n",
              "      <td>NaN</td>\n",
              "    </tr>\n",
              "  </tbody>\n",
              "</table>\n",
              "</div>"
            ],
            "text/plain": [
              "       배   사과   포도     딸기    복숭아\n",
              "4월   102  332  402  756.0   32.0\n",
              "5월    99  392  497  741.0   70.0\n",
              "6월    80  391  306  794.0   26.0\n",
              "7월    30  295  681  772.0  154.0\n",
              "8월   143  374  573  703.0  201.0\n",
              "9월    26  333  777    NaN    NaN\n",
              "10월   21  282  821    NaN    NaN"
            ]
          },
          "metadata": {}
        },
        {
          "output_type": "stream",
          "name": "stdout",
          "text": [
            "\n",
            "Index(['4월', '5월', '6월', '7월', '8월', '9월', '10월'], dtype='object')\n",
            "\n",
            "Index(['배', '사과', '포도', '딸기', '복숭아'], dtype='object')\n",
            "\n",
            "[[102. 332. 402. 756.  32.]\n",
            " [ 99. 392. 497. 741.  70.]\n",
            " [ 80. 391. 306. 794.  26.]\n",
            " [ 30. 295. 681. 772. 154.]\n",
            " [143. 374. 573. 703. 201.]\n",
            " [ 26. 333. 777.  nan  nan]\n",
            " [ 21. 282. 821.  nan  nan]]\n"
          ]
        }
      ]
    },
    {
      "cell_type": "markdown",
      "metadata": {
        "id": "Z6mpn8AEHP03"
      },
      "source": [
        "전체 데이터를 모두 선택하지 않고 앞과 뒤의 일부 데이터만 선택하려면 각각 `head()` 메서드와 `tail()` 메서드를 사용합니다. 괄호 안에 숫자를 인자로 지정하면 데이터가 숫자만큼 출력됩니다. 기본값은 `5`입니다."
      ]
    },
    {
      "cell_type": "code",
      "metadata": {
        "colab": {
          "base_uri": "https://localhost:8080/",
          "height": 204
        },
        "id": "KDSbA7hMHiJK",
        "outputId": "49d56d9f-bc67-45ef-b589-abe5ec2f7feb"
      },
      "source": [
        "df4.head()"
      ],
      "execution_count": 51,
      "outputs": [
        {
          "output_type": "execute_result",
          "data": {
            "text/html": [
              "<div>\n",
              "<style scoped>\n",
              "    .dataframe tbody tr th:only-of-type {\n",
              "        vertical-align: middle;\n",
              "    }\n",
              "\n",
              "    .dataframe tbody tr th {\n",
              "        vertical-align: top;\n",
              "    }\n",
              "\n",
              "    .dataframe thead th {\n",
              "        text-align: right;\n",
              "    }\n",
              "</style>\n",
              "<table border=\"1\" class=\"dataframe\">\n",
              "  <thead>\n",
              "    <tr style=\"text-align: right;\">\n",
              "      <th></th>\n",
              "      <th>배</th>\n",
              "      <th>사과</th>\n",
              "      <th>포도</th>\n",
              "      <th>딸기</th>\n",
              "      <th>복숭아</th>\n",
              "    </tr>\n",
              "  </thead>\n",
              "  <tbody>\n",
              "    <tr>\n",
              "      <th>4월</th>\n",
              "      <td>102</td>\n",
              "      <td>332</td>\n",
              "      <td>402</td>\n",
              "      <td>756.0</td>\n",
              "      <td>32.0</td>\n",
              "    </tr>\n",
              "    <tr>\n",
              "      <th>5월</th>\n",
              "      <td>99</td>\n",
              "      <td>392</td>\n",
              "      <td>497</td>\n",
              "      <td>741.0</td>\n",
              "      <td>70.0</td>\n",
              "    </tr>\n",
              "    <tr>\n",
              "      <th>6월</th>\n",
              "      <td>80</td>\n",
              "      <td>391</td>\n",
              "      <td>306</td>\n",
              "      <td>794.0</td>\n",
              "      <td>26.0</td>\n",
              "    </tr>\n",
              "    <tr>\n",
              "      <th>7월</th>\n",
              "      <td>30</td>\n",
              "      <td>295</td>\n",
              "      <td>681</td>\n",
              "      <td>772.0</td>\n",
              "      <td>154.0</td>\n",
              "    </tr>\n",
              "    <tr>\n",
              "      <th>8월</th>\n",
              "      <td>143</td>\n",
              "      <td>374</td>\n",
              "      <td>573</td>\n",
              "      <td>703.0</td>\n",
              "      <td>201.0</td>\n",
              "    </tr>\n",
              "  </tbody>\n",
              "</table>\n",
              "</div>"
            ],
            "text/plain": [
              "      배   사과   포도     딸기    복숭아\n",
              "4월  102  332  402  756.0   32.0\n",
              "5월   99  392  497  741.0   70.0\n",
              "6월   80  391  306  794.0   26.0\n",
              "7월   30  295  681  772.0  154.0\n",
              "8월  143  374  573  703.0  201.0"
            ]
          },
          "metadata": {},
          "execution_count": 51
        }
      ]
    },
    {
      "cell_type": "code",
      "metadata": {
        "colab": {
          "base_uri": "https://localhost:8080/",
          "height": 141
        },
        "id": "CmLPI5pVHyd9",
        "outputId": "8dc511fb-dfb5-460b-9551-cca1c83593ab"
      },
      "source": [
        "df4.tail(3)"
      ],
      "execution_count": 52,
      "outputs": [
        {
          "output_type": "execute_result",
          "data": {
            "text/html": [
              "<div>\n",
              "<style scoped>\n",
              "    .dataframe tbody tr th:only-of-type {\n",
              "        vertical-align: middle;\n",
              "    }\n",
              "\n",
              "    .dataframe tbody tr th {\n",
              "        vertical-align: top;\n",
              "    }\n",
              "\n",
              "    .dataframe thead th {\n",
              "        text-align: right;\n",
              "    }\n",
              "</style>\n",
              "<table border=\"1\" class=\"dataframe\">\n",
              "  <thead>\n",
              "    <tr style=\"text-align: right;\">\n",
              "      <th></th>\n",
              "      <th>배</th>\n",
              "      <th>사과</th>\n",
              "      <th>포도</th>\n",
              "      <th>딸기</th>\n",
              "      <th>복숭아</th>\n",
              "    </tr>\n",
              "  </thead>\n",
              "  <tbody>\n",
              "    <tr>\n",
              "      <th>8월</th>\n",
              "      <td>143</td>\n",
              "      <td>374</td>\n",
              "      <td>573</td>\n",
              "      <td>703.0</td>\n",
              "      <td>201.0</td>\n",
              "    </tr>\n",
              "    <tr>\n",
              "      <th>9월</th>\n",
              "      <td>26</td>\n",
              "      <td>333</td>\n",
              "      <td>777</td>\n",
              "      <td>NaN</td>\n",
              "      <td>NaN</td>\n",
              "    </tr>\n",
              "    <tr>\n",
              "      <th>10월</th>\n",
              "      <td>21</td>\n",
              "      <td>282</td>\n",
              "      <td>821</td>\n",
              "      <td>NaN</td>\n",
              "      <td>NaN</td>\n",
              "    </tr>\n",
              "  </tbody>\n",
              "</table>\n",
              "</div>"
            ],
            "text/plain": [
              "       배   사과   포도     딸기    복숭아\n",
              "8월   143  374  573  703.0  201.0\n",
              "9월    26  333  777    NaN    NaN\n",
              "10월   21  282  821    NaN    NaN"
            ]
          },
          "metadata": {},
          "execution_count": 52
        }
      ]
    },
    {
      "cell_type": "markdown",
      "metadata": {
        "id": "VfSOrQb2IPFv"
      },
      "source": [
        "원하는 행을 출력하려면 슬라이싱을 사용합니다."
      ]
    },
    {
      "cell_type": "code",
      "metadata": {
        "colab": {
          "base_uri": "https://localhost:8080/",
          "height": 172
        },
        "id": "AB2UXjp5IT4P",
        "outputId": "0d1c5eff-8f27-4719-cd24-a15bf3f48ed0"
      },
      "source": [
        "df4[2:6]"
      ],
      "execution_count": 53,
      "outputs": [
        {
          "output_type": "execute_result",
          "data": {
            "text/html": [
              "<div>\n",
              "<style scoped>\n",
              "    .dataframe tbody tr th:only-of-type {\n",
              "        vertical-align: middle;\n",
              "    }\n",
              "\n",
              "    .dataframe tbody tr th {\n",
              "        vertical-align: top;\n",
              "    }\n",
              "\n",
              "    .dataframe thead th {\n",
              "        text-align: right;\n",
              "    }\n",
              "</style>\n",
              "<table border=\"1\" class=\"dataframe\">\n",
              "  <thead>\n",
              "    <tr style=\"text-align: right;\">\n",
              "      <th></th>\n",
              "      <th>배</th>\n",
              "      <th>사과</th>\n",
              "      <th>포도</th>\n",
              "      <th>딸기</th>\n",
              "      <th>복숭아</th>\n",
              "    </tr>\n",
              "  </thead>\n",
              "  <tbody>\n",
              "    <tr>\n",
              "      <th>6월</th>\n",
              "      <td>80</td>\n",
              "      <td>391</td>\n",
              "      <td>306</td>\n",
              "      <td>794.0</td>\n",
              "      <td>26.0</td>\n",
              "    </tr>\n",
              "    <tr>\n",
              "      <th>7월</th>\n",
              "      <td>30</td>\n",
              "      <td>295</td>\n",
              "      <td>681</td>\n",
              "      <td>772.0</td>\n",
              "      <td>154.0</td>\n",
              "    </tr>\n",
              "    <tr>\n",
              "      <th>8월</th>\n",
              "      <td>143</td>\n",
              "      <td>374</td>\n",
              "      <td>573</td>\n",
              "      <td>703.0</td>\n",
              "      <td>201.0</td>\n",
              "    </tr>\n",
              "    <tr>\n",
              "      <th>9월</th>\n",
              "      <td>26</td>\n",
              "      <td>333</td>\n",
              "      <td>777</td>\n",
              "      <td>NaN</td>\n",
              "      <td>NaN</td>\n",
              "    </tr>\n",
              "  </tbody>\n",
              "</table>\n",
              "</div>"
            ],
            "text/plain": [
              "      배   사과   포도     딸기    복숭아\n",
              "6월   80  391  306  794.0   26.0\n",
              "7월   30  295  681  772.0  154.0\n",
              "8월  143  374  573  703.0  201.0\n",
              "9월   26  333  777    NaN    NaN"
            ]
          },
          "metadata": {},
          "execution_count": 53
        }
      ]
    },
    {
      "cell_type": "markdown",
      "metadata": {
        "id": "JPlAxtKlIiLD"
      },
      "source": [
        "`loc[]` 메서드에 인덱스명을 지정해서 해당하는 행만 인덱싱 할 수 있습니다."
      ]
    },
    {
      "cell_type": "code",
      "metadata": {
        "colab": {
          "base_uri": "https://localhost:8080/"
        },
        "id": "gfALC2_uIpyb",
        "outputId": "d9ca721f-c0d4-4d61-f78e-64a505f19994"
      },
      "source": [
        "df4.loc['8월']"
      ],
      "execution_count": 54,
      "outputs": [
        {
          "output_type": "execute_result",
          "data": {
            "text/plain": [
              "배      143.0\n",
              "사과     374.0\n",
              "포도     573.0\n",
              "딸기     703.0\n",
              "복숭아    201.0\n",
              "Name: 8월, dtype: float64"
            ]
          },
          "metadata": {},
          "execution_count": 54
        }
      ]
    },
    {
      "cell_type": "markdown",
      "metadata": {
        "id": "ddmBnTETIIBw"
      },
      "source": [
        "`iloc[]` 메서드에는 위치 숫자를 지정합니다."
      ]
    },
    {
      "cell_type": "code",
      "metadata": {
        "colab": {
          "base_uri": "https://localhost:8080/"
        },
        "id": "0IC-31_UHS8e",
        "outputId": "52743315-c3d6-48f6-fa18-3a9ab3d98bb8"
      },
      "source": [
        "df4.iloc[4]"
      ],
      "execution_count": 55,
      "outputs": [
        {
          "output_type": "execute_result",
          "data": {
            "text/plain": [
              "배      143.0\n",
              "사과     374.0\n",
              "포도     573.0\n",
              "딸기     703.0\n",
              "복숭아    201.0\n",
              "Name: 8월, dtype: float64"
            ]
          },
          "metadata": {},
          "execution_count": 55
        }
      ]
    },
    {
      "cell_type": "markdown",
      "metadata": {
        "id": "etQOV1KHIL2B"
      },
      "source": [
        "여러 행을 선택하겠습니다. 리스트로 한 번 더 묶습니다."
      ]
    },
    {
      "cell_type": "code",
      "metadata": {
        "colab": {
          "base_uri": "https://localhost:8080/",
          "height": 111
        },
        "id": "Zp-KAKaYIKrs",
        "outputId": "07b2f7b0-ce69-4f8b-deca-31ef176247c5"
      },
      "source": [
        "df4.loc[['8월', '10월']]"
      ],
      "execution_count": 56,
      "outputs": [
        {
          "output_type": "execute_result",
          "data": {
            "text/html": [
              "<div>\n",
              "<style scoped>\n",
              "    .dataframe tbody tr th:only-of-type {\n",
              "        vertical-align: middle;\n",
              "    }\n",
              "\n",
              "    .dataframe tbody tr th {\n",
              "        vertical-align: top;\n",
              "    }\n",
              "\n",
              "    .dataframe thead th {\n",
              "        text-align: right;\n",
              "    }\n",
              "</style>\n",
              "<table border=\"1\" class=\"dataframe\">\n",
              "  <thead>\n",
              "    <tr style=\"text-align: right;\">\n",
              "      <th></th>\n",
              "      <th>배</th>\n",
              "      <th>사과</th>\n",
              "      <th>포도</th>\n",
              "      <th>딸기</th>\n",
              "      <th>복숭아</th>\n",
              "    </tr>\n",
              "  </thead>\n",
              "  <tbody>\n",
              "    <tr>\n",
              "      <th>8월</th>\n",
              "      <td>143</td>\n",
              "      <td>374</td>\n",
              "      <td>573</td>\n",
              "      <td>703.0</td>\n",
              "      <td>201.0</td>\n",
              "    </tr>\n",
              "    <tr>\n",
              "      <th>10월</th>\n",
              "      <td>21</td>\n",
              "      <td>282</td>\n",
              "      <td>821</td>\n",
              "      <td>NaN</td>\n",
              "      <td>NaN</td>\n",
              "    </tr>\n",
              "  </tbody>\n",
              "</table>\n",
              "</div>"
            ],
            "text/plain": [
              "       배   사과   포도     딸기    복숭아\n",
              "8월   143  374  573  703.0  201.0\n",
              "10월   21  282  821    NaN    NaN"
            ]
          },
          "metadata": {},
          "execution_count": 56
        }
      ]
    },
    {
      "cell_type": "code",
      "metadata": {
        "colab": {
          "base_uri": "https://localhost:8080/",
          "height": 111
        },
        "id": "kYW-6BbMIWh1",
        "outputId": "66d722f0-8387-4f5c-84ae-91d1ca06a1e5"
      },
      "source": [
        "df4.iloc[[4, 6]]"
      ],
      "execution_count": 57,
      "outputs": [
        {
          "output_type": "execute_result",
          "data": {
            "text/html": [
              "<div>\n",
              "<style scoped>\n",
              "    .dataframe tbody tr th:only-of-type {\n",
              "        vertical-align: middle;\n",
              "    }\n",
              "\n",
              "    .dataframe tbody tr th {\n",
              "        vertical-align: top;\n",
              "    }\n",
              "\n",
              "    .dataframe thead th {\n",
              "        text-align: right;\n",
              "    }\n",
              "</style>\n",
              "<table border=\"1\" class=\"dataframe\">\n",
              "  <thead>\n",
              "    <tr style=\"text-align: right;\">\n",
              "      <th></th>\n",
              "      <th>배</th>\n",
              "      <th>사과</th>\n",
              "      <th>포도</th>\n",
              "      <th>딸기</th>\n",
              "      <th>복숭아</th>\n",
              "    </tr>\n",
              "  </thead>\n",
              "  <tbody>\n",
              "    <tr>\n",
              "      <th>8월</th>\n",
              "      <td>143</td>\n",
              "      <td>374</td>\n",
              "      <td>573</td>\n",
              "      <td>703.0</td>\n",
              "      <td>201.0</td>\n",
              "    </tr>\n",
              "    <tr>\n",
              "      <th>10월</th>\n",
              "      <td>21</td>\n",
              "      <td>282</td>\n",
              "      <td>821</td>\n",
              "      <td>NaN</td>\n",
              "      <td>NaN</td>\n",
              "    </tr>\n",
              "  </tbody>\n",
              "</table>\n",
              "</div>"
            ],
            "text/plain": [
              "       배   사과   포도     딸기    복숭아\n",
              "8월   143  374  573  703.0  201.0\n",
              "10월   21  282  821    NaN    NaN"
            ]
          },
          "metadata": {},
          "execution_count": 57
        }
      ]
    },
    {
      "cell_type": "markdown",
      "metadata": {
        "id": "S-IlrXoaJL_5"
      },
      "source": [
        "`loc[]` 메서드로 인덱스를 슬라이싱 할 수도 있습니다. '8월'부터 마지막까지 가져오겠습니다. `iloc[]` 메서드도 사용법은 동일합니다."
      ]
    },
    {
      "cell_type": "code",
      "metadata": {
        "colab": {
          "base_uri": "https://localhost:8080/",
          "height": 141
        },
        "id": "k9ruhllpJYjU",
        "outputId": "0464d04b-293d-4282-ea28-90d1e4fde6a3"
      },
      "source": [
        "df4.loc['8월':]"
      ],
      "execution_count": 58,
      "outputs": [
        {
          "output_type": "execute_result",
          "data": {
            "text/html": [
              "<div>\n",
              "<style scoped>\n",
              "    .dataframe tbody tr th:only-of-type {\n",
              "        vertical-align: middle;\n",
              "    }\n",
              "\n",
              "    .dataframe tbody tr th {\n",
              "        vertical-align: top;\n",
              "    }\n",
              "\n",
              "    .dataframe thead th {\n",
              "        text-align: right;\n",
              "    }\n",
              "</style>\n",
              "<table border=\"1\" class=\"dataframe\">\n",
              "  <thead>\n",
              "    <tr style=\"text-align: right;\">\n",
              "      <th></th>\n",
              "      <th>배</th>\n",
              "      <th>사과</th>\n",
              "      <th>포도</th>\n",
              "      <th>딸기</th>\n",
              "      <th>복숭아</th>\n",
              "    </tr>\n",
              "  </thead>\n",
              "  <tbody>\n",
              "    <tr>\n",
              "      <th>8월</th>\n",
              "      <td>143</td>\n",
              "      <td>374</td>\n",
              "      <td>573</td>\n",
              "      <td>703.0</td>\n",
              "      <td>201.0</td>\n",
              "    </tr>\n",
              "    <tr>\n",
              "      <th>9월</th>\n",
              "      <td>26</td>\n",
              "      <td>333</td>\n",
              "      <td>777</td>\n",
              "      <td>NaN</td>\n",
              "      <td>NaN</td>\n",
              "    </tr>\n",
              "    <tr>\n",
              "      <th>10월</th>\n",
              "      <td>21</td>\n",
              "      <td>282</td>\n",
              "      <td>821</td>\n",
              "      <td>NaN</td>\n",
              "      <td>NaN</td>\n",
              "    </tr>\n",
              "  </tbody>\n",
              "</table>\n",
              "</div>"
            ],
            "text/plain": [
              "       배   사과   포도     딸기    복숭아\n",
              "8월   143  374  573  703.0  201.0\n",
              "9월    26  333  777    NaN    NaN\n",
              "10월   21  282  821    NaN    NaN"
            ]
          },
          "metadata": {},
          "execution_count": 58
        }
      ]
    },
    {
      "cell_type": "markdown",
      "metadata": {
        "id": "zklcjv0hKStk"
      },
      "source": [
        "`iloc[]` 메서드를 사용해서 슬라이싱 하겠습니다. 전체 데이터에 대하여 슬라이싱 간격을 `3`으로 지정하겠습니다."
      ]
    },
    {
      "cell_type": "code",
      "metadata": {
        "colab": {
          "base_uri": "https://localhost:8080/",
          "height": 141
        },
        "id": "c1MI0l7OKfrE",
        "outputId": "cbf70b25-d740-44ae-8565-d2510c550ad0"
      },
      "source": [
        "df4.iloc[::3]"
      ],
      "execution_count": 59,
      "outputs": [
        {
          "output_type": "execute_result",
          "data": {
            "text/html": [
              "<div>\n",
              "<style scoped>\n",
              "    .dataframe tbody tr th:only-of-type {\n",
              "        vertical-align: middle;\n",
              "    }\n",
              "\n",
              "    .dataframe tbody tr th {\n",
              "        vertical-align: top;\n",
              "    }\n",
              "\n",
              "    .dataframe thead th {\n",
              "        text-align: right;\n",
              "    }\n",
              "</style>\n",
              "<table border=\"1\" class=\"dataframe\">\n",
              "  <thead>\n",
              "    <tr style=\"text-align: right;\">\n",
              "      <th></th>\n",
              "      <th>배</th>\n",
              "      <th>사과</th>\n",
              "      <th>포도</th>\n",
              "      <th>딸기</th>\n",
              "      <th>복숭아</th>\n",
              "    </tr>\n",
              "  </thead>\n",
              "  <tbody>\n",
              "    <tr>\n",
              "      <th>4월</th>\n",
              "      <td>102</td>\n",
              "      <td>332</td>\n",
              "      <td>402</td>\n",
              "      <td>756.0</td>\n",
              "      <td>32.0</td>\n",
              "    </tr>\n",
              "    <tr>\n",
              "      <th>7월</th>\n",
              "      <td>30</td>\n",
              "      <td>295</td>\n",
              "      <td>681</td>\n",
              "      <td>772.0</td>\n",
              "      <td>154.0</td>\n",
              "    </tr>\n",
              "    <tr>\n",
              "      <th>10월</th>\n",
              "      <td>21</td>\n",
              "      <td>282</td>\n",
              "      <td>821</td>\n",
              "      <td>NaN</td>\n",
              "      <td>NaN</td>\n",
              "    </tr>\n",
              "  </tbody>\n",
              "</table>\n",
              "</div>"
            ],
            "text/plain": [
              "       배   사과   포도     딸기    복숭아\n",
              "4월   102  332  402  756.0   32.0\n",
              "7월    30  295  681  772.0  154.0\n",
              "10월   21  282  821    NaN    NaN"
            ]
          },
          "metadata": {},
          "execution_count": 59
        }
      ]
    },
    {
      "cell_type": "markdown",
      "metadata": {
        "id": "q6e3Fn6BKzum"
      },
      "source": [
        "슬라이싱 간격을 `-1`로 지정하면 데이터가 역순으로 출력됩니다."
      ]
    },
    {
      "cell_type": "code",
      "metadata": {
        "colab": {
          "base_uri": "https://localhost:8080/",
          "height": 265
        },
        "id": "vhA-9aeWK5E4",
        "outputId": "cefb448d-4713-4216-d197-d962779c0b9f"
      },
      "source": [
        "df4.iloc[::-1]"
      ],
      "execution_count": 60,
      "outputs": [
        {
          "output_type": "execute_result",
          "data": {
            "text/html": [
              "<div>\n",
              "<style scoped>\n",
              "    .dataframe tbody tr th:only-of-type {\n",
              "        vertical-align: middle;\n",
              "    }\n",
              "\n",
              "    .dataframe tbody tr th {\n",
              "        vertical-align: top;\n",
              "    }\n",
              "\n",
              "    .dataframe thead th {\n",
              "        text-align: right;\n",
              "    }\n",
              "</style>\n",
              "<table border=\"1\" class=\"dataframe\">\n",
              "  <thead>\n",
              "    <tr style=\"text-align: right;\">\n",
              "      <th></th>\n",
              "      <th>배</th>\n",
              "      <th>사과</th>\n",
              "      <th>포도</th>\n",
              "      <th>딸기</th>\n",
              "      <th>복숭아</th>\n",
              "    </tr>\n",
              "  </thead>\n",
              "  <tbody>\n",
              "    <tr>\n",
              "      <th>10월</th>\n",
              "      <td>21</td>\n",
              "      <td>282</td>\n",
              "      <td>821</td>\n",
              "      <td>NaN</td>\n",
              "      <td>NaN</td>\n",
              "    </tr>\n",
              "    <tr>\n",
              "      <th>9월</th>\n",
              "      <td>26</td>\n",
              "      <td>333</td>\n",
              "      <td>777</td>\n",
              "      <td>NaN</td>\n",
              "      <td>NaN</td>\n",
              "    </tr>\n",
              "    <tr>\n",
              "      <th>8월</th>\n",
              "      <td>143</td>\n",
              "      <td>374</td>\n",
              "      <td>573</td>\n",
              "      <td>703.0</td>\n",
              "      <td>201.0</td>\n",
              "    </tr>\n",
              "    <tr>\n",
              "      <th>7월</th>\n",
              "      <td>30</td>\n",
              "      <td>295</td>\n",
              "      <td>681</td>\n",
              "      <td>772.0</td>\n",
              "      <td>154.0</td>\n",
              "    </tr>\n",
              "    <tr>\n",
              "      <th>6월</th>\n",
              "      <td>80</td>\n",
              "      <td>391</td>\n",
              "      <td>306</td>\n",
              "      <td>794.0</td>\n",
              "      <td>26.0</td>\n",
              "    </tr>\n",
              "    <tr>\n",
              "      <th>5월</th>\n",
              "      <td>99</td>\n",
              "      <td>392</td>\n",
              "      <td>497</td>\n",
              "      <td>741.0</td>\n",
              "      <td>70.0</td>\n",
              "    </tr>\n",
              "    <tr>\n",
              "      <th>4월</th>\n",
              "      <td>102</td>\n",
              "      <td>332</td>\n",
              "      <td>402</td>\n",
              "      <td>756.0</td>\n",
              "      <td>32.0</td>\n",
              "    </tr>\n",
              "  </tbody>\n",
              "</table>\n",
              "</div>"
            ],
            "text/plain": [
              "       배   사과   포도     딸기    복숭아\n",
              "10월   21  282  821    NaN    NaN\n",
              "9월    26  333  777    NaN    NaN\n",
              "8월   143  374  573  703.0  201.0\n",
              "7월    30  295  681  772.0  154.0\n",
              "6월    80  391  306  794.0   26.0\n",
              "5월    99  392  497  741.0   70.0\n",
              "4월   102  332  402  756.0   32.0"
            ]
          },
          "metadata": {},
          "execution_count": 60
        }
      ]
    },
    {
      "cell_type": "markdown",
      "metadata": {
        "id": "gTRJKBWtJn66"
      },
      "source": [
        "열을 하나만 가져오겠습니다. 두 가지 방법을 예시합니다. 참고로 행부터 참조하는 방식으로서 인덱스를 가져오려면 반드시 `loc[]` 메서드를 사용해야 합니다."
      ]
    },
    {
      "cell_type": "code",
      "metadata": {
        "colab": {
          "base_uri": "https://localhost:8080/"
        },
        "id": "K6jF7uvSJ09r",
        "outputId": "c8fcee52-34b8-4027-a78f-1e31048cf53c"
      },
      "source": [
        "df4['딸기']"
      ],
      "execution_count": 61,
      "outputs": [
        {
          "output_type": "execute_result",
          "data": {
            "text/plain": [
              "4월     756.0\n",
              "5월     741.0\n",
              "6월     794.0\n",
              "7월     772.0\n",
              "8월     703.0\n",
              "9월       NaN\n",
              "10월      NaN\n",
              "Name: 딸기, dtype: float64"
            ]
          },
          "metadata": {},
          "execution_count": 61
        }
      ]
    },
    {
      "cell_type": "code",
      "metadata": {
        "colab": {
          "base_uri": "https://localhost:8080/"
        },
        "id": "cIb4daA6JGR8",
        "outputId": "420fa9db-69a3-421b-a278-2ef4daf5100b"
      },
      "source": [
        "df4.딸기"
      ],
      "execution_count": 62,
      "outputs": [
        {
          "output_type": "execute_result",
          "data": {
            "text/plain": [
              "4월     756.0\n",
              "5월     741.0\n",
              "6월     794.0\n",
              "7월     772.0\n",
              "8월     703.0\n",
              "9월       NaN\n",
              "10월      NaN\n",
              "Name: 딸기, dtype: float64"
            ]
          },
          "metadata": {},
          "execution_count": 62
        }
      ]
    },
    {
      "cell_type": "markdown",
      "metadata": {
        "id": "JL1eyVQvKJgZ"
      },
      "source": [
        "열을 두 개 가져오겠습니다. 다수의 원소는 리스트로 한 번 더 묶어야 합니다."
      ]
    },
    {
      "cell_type": "code",
      "metadata": {
        "colab": {
          "base_uri": "https://localhost:8080/",
          "height": 265
        },
        "id": "HsWjupAQKLqi",
        "outputId": "cd20057a-ce39-4552-9036-a38caea9a4f6"
      },
      "source": [
        "df4[['딸기', '포도']]"
      ],
      "execution_count": 63,
      "outputs": [
        {
          "output_type": "execute_result",
          "data": {
            "text/html": [
              "<div>\n",
              "<style scoped>\n",
              "    .dataframe tbody tr th:only-of-type {\n",
              "        vertical-align: middle;\n",
              "    }\n",
              "\n",
              "    .dataframe tbody tr th {\n",
              "        vertical-align: top;\n",
              "    }\n",
              "\n",
              "    .dataframe thead th {\n",
              "        text-align: right;\n",
              "    }\n",
              "</style>\n",
              "<table border=\"1\" class=\"dataframe\">\n",
              "  <thead>\n",
              "    <tr style=\"text-align: right;\">\n",
              "      <th></th>\n",
              "      <th>딸기</th>\n",
              "      <th>포도</th>\n",
              "    </tr>\n",
              "  </thead>\n",
              "  <tbody>\n",
              "    <tr>\n",
              "      <th>4월</th>\n",
              "      <td>756.0</td>\n",
              "      <td>402</td>\n",
              "    </tr>\n",
              "    <tr>\n",
              "      <th>5월</th>\n",
              "      <td>741.0</td>\n",
              "      <td>497</td>\n",
              "    </tr>\n",
              "    <tr>\n",
              "      <th>6월</th>\n",
              "      <td>794.0</td>\n",
              "      <td>306</td>\n",
              "    </tr>\n",
              "    <tr>\n",
              "      <th>7월</th>\n",
              "      <td>772.0</td>\n",
              "      <td>681</td>\n",
              "    </tr>\n",
              "    <tr>\n",
              "      <th>8월</th>\n",
              "      <td>703.0</td>\n",
              "      <td>573</td>\n",
              "    </tr>\n",
              "    <tr>\n",
              "      <th>9월</th>\n",
              "      <td>NaN</td>\n",
              "      <td>777</td>\n",
              "    </tr>\n",
              "    <tr>\n",
              "      <th>10월</th>\n",
              "      <td>NaN</td>\n",
              "      <td>821</td>\n",
              "    </tr>\n",
              "  </tbody>\n",
              "</table>\n",
              "</div>"
            ],
            "text/plain": [
              "        딸기   포도\n",
              "4월   756.0  402\n",
              "5월   741.0  497\n",
              "6월   794.0  306\n",
              "7월   772.0  681\n",
              "8월   703.0  573\n",
              "9월     NaN  777\n",
              "10월    NaN  821"
            ]
          },
          "metadata": {},
          "execution_count": 63
        }
      ]
    },
    {
      "cell_type": "markdown",
      "metadata": {
        "id": "Emp1vGQ8QyLq"
      },
      "source": [
        "이미 존재하는 데이터프레임의 열 순서를 바꾸려면 아래처럼 열을 리스트로 지정하고 객체로 넘겨주면 간단합니다. "
      ]
    },
    {
      "cell_type": "code",
      "metadata": {
        "colab": {
          "base_uri": "https://localhost:8080/",
          "height": 265
        },
        "id": "HqcWxde8QjZO",
        "outputId": "838c0a53-dd40-45e6-959e-67340bc5bfea"
      },
      "source": [
        "df4_test = df4[['딸기', '포도', '배', '사과', '복숭아']]\n",
        "df4_test"
      ],
      "execution_count": 64,
      "outputs": [
        {
          "output_type": "execute_result",
          "data": {
            "text/html": [
              "<div>\n",
              "<style scoped>\n",
              "    .dataframe tbody tr th:only-of-type {\n",
              "        vertical-align: middle;\n",
              "    }\n",
              "\n",
              "    .dataframe tbody tr th {\n",
              "        vertical-align: top;\n",
              "    }\n",
              "\n",
              "    .dataframe thead th {\n",
              "        text-align: right;\n",
              "    }\n",
              "</style>\n",
              "<table border=\"1\" class=\"dataframe\">\n",
              "  <thead>\n",
              "    <tr style=\"text-align: right;\">\n",
              "      <th></th>\n",
              "      <th>딸기</th>\n",
              "      <th>포도</th>\n",
              "      <th>배</th>\n",
              "      <th>사과</th>\n",
              "      <th>복숭아</th>\n",
              "    </tr>\n",
              "  </thead>\n",
              "  <tbody>\n",
              "    <tr>\n",
              "      <th>4월</th>\n",
              "      <td>756.0</td>\n",
              "      <td>402</td>\n",
              "      <td>102</td>\n",
              "      <td>332</td>\n",
              "      <td>32.0</td>\n",
              "    </tr>\n",
              "    <tr>\n",
              "      <th>5월</th>\n",
              "      <td>741.0</td>\n",
              "      <td>497</td>\n",
              "      <td>99</td>\n",
              "      <td>392</td>\n",
              "      <td>70.0</td>\n",
              "    </tr>\n",
              "    <tr>\n",
              "      <th>6월</th>\n",
              "      <td>794.0</td>\n",
              "      <td>306</td>\n",
              "      <td>80</td>\n",
              "      <td>391</td>\n",
              "      <td>26.0</td>\n",
              "    </tr>\n",
              "    <tr>\n",
              "      <th>7월</th>\n",
              "      <td>772.0</td>\n",
              "      <td>681</td>\n",
              "      <td>30</td>\n",
              "      <td>295</td>\n",
              "      <td>154.0</td>\n",
              "    </tr>\n",
              "    <tr>\n",
              "      <th>8월</th>\n",
              "      <td>703.0</td>\n",
              "      <td>573</td>\n",
              "      <td>143</td>\n",
              "      <td>374</td>\n",
              "      <td>201.0</td>\n",
              "    </tr>\n",
              "    <tr>\n",
              "      <th>9월</th>\n",
              "      <td>NaN</td>\n",
              "      <td>777</td>\n",
              "      <td>26</td>\n",
              "      <td>333</td>\n",
              "      <td>NaN</td>\n",
              "    </tr>\n",
              "    <tr>\n",
              "      <th>10월</th>\n",
              "      <td>NaN</td>\n",
              "      <td>821</td>\n",
              "      <td>21</td>\n",
              "      <td>282</td>\n",
              "      <td>NaN</td>\n",
              "    </tr>\n",
              "  </tbody>\n",
              "</table>\n",
              "</div>"
            ],
            "text/plain": [
              "        딸기   포도    배   사과    복숭아\n",
              "4월   756.0  402  102  332   32.0\n",
              "5월   741.0  497   99  392   70.0\n",
              "6월   794.0  306   80  391   26.0\n",
              "7월   772.0  681   30  295  154.0\n",
              "8월   703.0  573  143  374  201.0\n",
              "9월     NaN  777   26  333    NaN\n",
              "10월    NaN  821   21  282    NaN"
            ]
          },
          "metadata": {},
          "execution_count": 64
        }
      ]
    },
    {
      "cell_type": "markdown",
      "metadata": {
        "id": "gQDlDeLmKbet"
      },
      "source": [
        "특정 열의 특정 값을 두 가지 형식으로 인덱싱 하겠습니다. '딸기' 열의 '5월' 값과 '9월' 값입니다."
      ]
    },
    {
      "cell_type": "code",
      "metadata": {
        "colab": {
          "base_uri": "https://localhost:8080/"
        },
        "id": "rwJUk47OKpDd",
        "outputId": "68af0cc7-6105-4d71-f96e-24ff14b2c5c5"
      },
      "source": [
        "df4['딸기'][['5월', '9월']]"
      ],
      "execution_count": 65,
      "outputs": [
        {
          "output_type": "execute_result",
          "data": {
            "text/plain": [
              "5월    741.0\n",
              "9월      NaN\n",
              "Name: 딸기, dtype: float64"
            ]
          },
          "metadata": {},
          "execution_count": 65
        }
      ]
    },
    {
      "cell_type": "code",
      "metadata": {
        "colab": {
          "base_uri": "https://localhost:8080/"
        },
        "id": "XsLQhON4OJpU",
        "outputId": "9c63260c-a5f8-40ec-d8dc-22690d32f665"
      },
      "source": [
        "df4['딸기'][[1, 5]]"
      ],
      "execution_count": 66,
      "outputs": [
        {
          "output_type": "execute_result",
          "data": {
            "text/plain": [
              "5월    741.0\n",
              "9월      NaN\n",
              "Name: 딸기, dtype: float64"
            ]
          },
          "metadata": {},
          "execution_count": 66
        }
      ]
    },
    {
      "cell_type": "markdown",
      "metadata": {
        "id": "9zvaTQxOLAUN"
      },
      "source": [
        "두 가지 형식으로 '딸기' 열의 '5월'부터 '9월'까지 슬라이싱 하겠습니다."
      ]
    },
    {
      "cell_type": "code",
      "metadata": {
        "colab": {
          "base_uri": "https://localhost:8080/"
        },
        "id": "GPGBuvVbK7PR",
        "outputId": "2293dc74-766d-412c-e910-eae435dc7475"
      },
      "source": [
        "df4['딸기']['5월':'9월']"
      ],
      "execution_count": 67,
      "outputs": [
        {
          "output_type": "execute_result",
          "data": {
            "text/plain": [
              "5월    741.0\n",
              "6월    794.0\n",
              "7월    772.0\n",
              "8월    703.0\n",
              "9월      NaN\n",
              "Name: 딸기, dtype: float64"
            ]
          },
          "metadata": {},
          "execution_count": 67
        }
      ]
    },
    {
      "cell_type": "code",
      "metadata": {
        "colab": {
          "base_uri": "https://localhost:8080/"
        },
        "id": "MBPNd2EKL_ho",
        "outputId": "6e4358ef-4cdf-465b-a733-855a2f8ab791"
      },
      "source": [
        "df4['딸기'][1:6]"
      ],
      "execution_count": 68,
      "outputs": [
        {
          "output_type": "execute_result",
          "data": {
            "text/plain": [
              "5월    741.0\n",
              "6월    794.0\n",
              "7월    772.0\n",
              "8월    703.0\n",
              "9월      NaN\n",
              "Name: 딸기, dtype: float64"
            ]
          },
          "metadata": {},
          "execution_count": 68
        }
      ]
    },
    {
      "cell_type": "markdown",
      "metadata": {
        "id": "1retwragMxM6"
      },
      "source": [
        "`loc[]` 메서드와 `iloc[]` 메서드를 사용하여 원하는 원소를 가져오겠습니다. 먼저 '7월' 행의 '딸기' 열을 가져오겠습니다."
      ]
    },
    {
      "cell_type": "code",
      "metadata": {
        "colab": {
          "base_uri": "https://localhost:8080/",
          "height": 265
        },
        "id": "jjuujvBPNo4-",
        "outputId": "a357413e-e3d3-4b60-d9ce-0cf2a5cb0168"
      },
      "source": [
        "df4"
      ],
      "execution_count": 69,
      "outputs": [
        {
          "output_type": "execute_result",
          "data": {
            "text/html": [
              "<div>\n",
              "<style scoped>\n",
              "    .dataframe tbody tr th:only-of-type {\n",
              "        vertical-align: middle;\n",
              "    }\n",
              "\n",
              "    .dataframe tbody tr th {\n",
              "        vertical-align: top;\n",
              "    }\n",
              "\n",
              "    .dataframe thead th {\n",
              "        text-align: right;\n",
              "    }\n",
              "</style>\n",
              "<table border=\"1\" class=\"dataframe\">\n",
              "  <thead>\n",
              "    <tr style=\"text-align: right;\">\n",
              "      <th></th>\n",
              "      <th>배</th>\n",
              "      <th>사과</th>\n",
              "      <th>포도</th>\n",
              "      <th>딸기</th>\n",
              "      <th>복숭아</th>\n",
              "    </tr>\n",
              "  </thead>\n",
              "  <tbody>\n",
              "    <tr>\n",
              "      <th>4월</th>\n",
              "      <td>102</td>\n",
              "      <td>332</td>\n",
              "      <td>402</td>\n",
              "      <td>756.0</td>\n",
              "      <td>32.0</td>\n",
              "    </tr>\n",
              "    <tr>\n",
              "      <th>5월</th>\n",
              "      <td>99</td>\n",
              "      <td>392</td>\n",
              "      <td>497</td>\n",
              "      <td>741.0</td>\n",
              "      <td>70.0</td>\n",
              "    </tr>\n",
              "    <tr>\n",
              "      <th>6월</th>\n",
              "      <td>80</td>\n",
              "      <td>391</td>\n",
              "      <td>306</td>\n",
              "      <td>794.0</td>\n",
              "      <td>26.0</td>\n",
              "    </tr>\n",
              "    <tr>\n",
              "      <th>7월</th>\n",
              "      <td>30</td>\n",
              "      <td>295</td>\n",
              "      <td>681</td>\n",
              "      <td>772.0</td>\n",
              "      <td>154.0</td>\n",
              "    </tr>\n",
              "    <tr>\n",
              "      <th>8월</th>\n",
              "      <td>143</td>\n",
              "      <td>374</td>\n",
              "      <td>573</td>\n",
              "      <td>703.0</td>\n",
              "      <td>201.0</td>\n",
              "    </tr>\n",
              "    <tr>\n",
              "      <th>9월</th>\n",
              "      <td>26</td>\n",
              "      <td>333</td>\n",
              "      <td>777</td>\n",
              "      <td>NaN</td>\n",
              "      <td>NaN</td>\n",
              "    </tr>\n",
              "    <tr>\n",
              "      <th>10월</th>\n",
              "      <td>21</td>\n",
              "      <td>282</td>\n",
              "      <td>821</td>\n",
              "      <td>NaN</td>\n",
              "      <td>NaN</td>\n",
              "    </tr>\n",
              "  </tbody>\n",
              "</table>\n",
              "</div>"
            ],
            "text/plain": [
              "       배   사과   포도     딸기    복숭아\n",
              "4월   102  332  402  756.0   32.0\n",
              "5월    99  392  497  741.0   70.0\n",
              "6월    80  391  306  794.0   26.0\n",
              "7월    30  295  681  772.0  154.0\n",
              "8월   143  374  573  703.0  201.0\n",
              "9월    26  333  777    NaN    NaN\n",
              "10월   21  282  821    NaN    NaN"
            ]
          },
          "metadata": {},
          "execution_count": 69
        }
      ]
    },
    {
      "cell_type": "code",
      "metadata": {
        "colab": {
          "base_uri": "https://localhost:8080/"
        },
        "id": "j-SSk32gMv4r",
        "outputId": "ac26a031-e466-47bb-d20d-b790d3fb659d"
      },
      "source": [
        "df4.loc['7월']['딸기']"
      ],
      "execution_count": 70,
      "outputs": [
        {
          "output_type": "execute_result",
          "data": {
            "text/plain": [
              "772.0"
            ]
          },
          "metadata": {},
          "execution_count": 70
        }
      ]
    },
    {
      "cell_type": "code",
      "metadata": {
        "colab": {
          "base_uri": "https://localhost:8080/"
        },
        "id": "AOcsPP99Mwx8",
        "outputId": "8100fa8c-7ed4-4643-f674-5027c986874f"
      },
      "source": [
        "df4.loc['7월', '딸기']"
      ],
      "execution_count": 71,
      "outputs": [
        {
          "output_type": "execute_result",
          "data": {
            "text/plain": [
              "772.0"
            ]
          },
          "metadata": {},
          "execution_count": 71
        }
      ]
    },
    {
      "cell_type": "code",
      "metadata": {
        "colab": {
          "base_uri": "https://localhost:8080/"
        },
        "id": "KXuKVruSNmRv",
        "outputId": "3ad6fe7c-b1bb-415d-a7ae-3f58556d35dd"
      },
      "source": [
        "df4.iloc[3, 3]"
      ],
      "execution_count": 72,
      "outputs": [
        {
          "output_type": "execute_result",
          "data": {
            "text/plain": [
              "772.0"
            ]
          },
          "metadata": {},
          "execution_count": 72
        }
      ]
    },
    {
      "cell_type": "markdown",
      "metadata": {
        "id": "ev3PXAzzOL0e"
      },
      "source": [
        "여러 원소(시리즈)를 가져오겠습니다. '8월' 행의 '사과' 열과 '포도' 열을 가져오겠습니다."
      ]
    },
    {
      "cell_type": "code",
      "metadata": {
        "colab": {
          "base_uri": "https://localhost:8080/",
          "height": 265
        },
        "id": "DC1RNLY_P76z",
        "outputId": "9ac67fee-52ee-4702-c165-f5665517e7de"
      },
      "source": [
        "df4"
      ],
      "execution_count": 73,
      "outputs": [
        {
          "output_type": "execute_result",
          "data": {
            "text/html": [
              "<div>\n",
              "<style scoped>\n",
              "    .dataframe tbody tr th:only-of-type {\n",
              "        vertical-align: middle;\n",
              "    }\n",
              "\n",
              "    .dataframe tbody tr th {\n",
              "        vertical-align: top;\n",
              "    }\n",
              "\n",
              "    .dataframe thead th {\n",
              "        text-align: right;\n",
              "    }\n",
              "</style>\n",
              "<table border=\"1\" class=\"dataframe\">\n",
              "  <thead>\n",
              "    <tr style=\"text-align: right;\">\n",
              "      <th></th>\n",
              "      <th>배</th>\n",
              "      <th>사과</th>\n",
              "      <th>포도</th>\n",
              "      <th>딸기</th>\n",
              "      <th>복숭아</th>\n",
              "    </tr>\n",
              "  </thead>\n",
              "  <tbody>\n",
              "    <tr>\n",
              "      <th>4월</th>\n",
              "      <td>102</td>\n",
              "      <td>332</td>\n",
              "      <td>402</td>\n",
              "      <td>756.0</td>\n",
              "      <td>32.0</td>\n",
              "    </tr>\n",
              "    <tr>\n",
              "      <th>5월</th>\n",
              "      <td>99</td>\n",
              "      <td>392</td>\n",
              "      <td>497</td>\n",
              "      <td>741.0</td>\n",
              "      <td>70.0</td>\n",
              "    </tr>\n",
              "    <tr>\n",
              "      <th>6월</th>\n",
              "      <td>80</td>\n",
              "      <td>391</td>\n",
              "      <td>306</td>\n",
              "      <td>794.0</td>\n",
              "      <td>26.0</td>\n",
              "    </tr>\n",
              "    <tr>\n",
              "      <th>7월</th>\n",
              "      <td>30</td>\n",
              "      <td>295</td>\n",
              "      <td>681</td>\n",
              "      <td>772.0</td>\n",
              "      <td>154.0</td>\n",
              "    </tr>\n",
              "    <tr>\n",
              "      <th>8월</th>\n",
              "      <td>143</td>\n",
              "      <td>374</td>\n",
              "      <td>573</td>\n",
              "      <td>703.0</td>\n",
              "      <td>201.0</td>\n",
              "    </tr>\n",
              "    <tr>\n",
              "      <th>9월</th>\n",
              "      <td>26</td>\n",
              "      <td>333</td>\n",
              "      <td>777</td>\n",
              "      <td>NaN</td>\n",
              "      <td>NaN</td>\n",
              "    </tr>\n",
              "    <tr>\n",
              "      <th>10월</th>\n",
              "      <td>21</td>\n",
              "      <td>282</td>\n",
              "      <td>821</td>\n",
              "      <td>NaN</td>\n",
              "      <td>NaN</td>\n",
              "    </tr>\n",
              "  </tbody>\n",
              "</table>\n",
              "</div>"
            ],
            "text/plain": [
              "       배   사과   포도     딸기    복숭아\n",
              "4월   102  332  402  756.0   32.0\n",
              "5월    99  392  497  741.0   70.0\n",
              "6월    80  391  306  794.0   26.0\n",
              "7월    30  295  681  772.0  154.0\n",
              "8월   143  374  573  703.0  201.0\n",
              "9월    26  333  777    NaN    NaN\n",
              "10월   21  282  821    NaN    NaN"
            ]
          },
          "metadata": {},
          "execution_count": 73
        }
      ]
    },
    {
      "cell_type": "code",
      "metadata": {
        "colab": {
          "base_uri": "https://localhost:8080/"
        },
        "id": "E6oDPLa7OmeA",
        "outputId": "bfd28596-03ff-401e-caa4-3443ed236d0f"
      },
      "source": [
        "df4.loc['8월', ['사과', '포도']]"
      ],
      "execution_count": 74,
      "outputs": [
        {
          "output_type": "execute_result",
          "data": {
            "text/plain": [
              "사과    374.0\n",
              "포도    573.0\n",
              "Name: 8월, dtype: float64"
            ]
          },
          "metadata": {},
          "execution_count": 74
        }
      ]
    },
    {
      "cell_type": "code",
      "metadata": {
        "colab": {
          "base_uri": "https://localhost:8080/"
        },
        "id": "5Q3EpcGXO1ue",
        "outputId": "bb4f7258-0d16-406c-fa97-a2fd82b760ff"
      },
      "source": [
        "df4.loc['8월', '사과':'포도']"
      ],
      "execution_count": 75,
      "outputs": [
        {
          "output_type": "execute_result",
          "data": {
            "text/plain": [
              "사과    374.0\n",
              "포도    573.0\n",
              "Name: 8월, dtype: float64"
            ]
          },
          "metadata": {},
          "execution_count": 75
        }
      ]
    },
    {
      "cell_type": "code",
      "metadata": {
        "colab": {
          "base_uri": "https://localhost:8080/"
        },
        "id": "-coRbhHtPGFI",
        "outputId": "82fb4b46-ad21-49ab-bca2-e14a7679a9ae"
      },
      "source": [
        "df4.iloc[4, [1, 2]]"
      ],
      "execution_count": 76,
      "outputs": [
        {
          "output_type": "execute_result",
          "data": {
            "text/plain": [
              "사과    374.0\n",
              "포도    573.0\n",
              "Name: 8월, dtype: float64"
            ]
          },
          "metadata": {},
          "execution_count": 76
        }
      ]
    },
    {
      "cell_type": "code",
      "metadata": {
        "colab": {
          "base_uri": "https://localhost:8080/"
        },
        "id": "HciiSP2ZPF7g",
        "outputId": "3753cc6e-9d68-43a5-8684-2e9b2a8c2a3a"
      },
      "source": [
        "df4.iloc[4, 1:3]"
      ],
      "execution_count": 77,
      "outputs": [
        {
          "output_type": "execute_result",
          "data": {
            "text/plain": [
              "사과    374.0\n",
              "포도    573.0\n",
              "Name: 8월, dtype: float64"
            ]
          },
          "metadata": {},
          "execution_count": 77
        }
      ]
    },
    {
      "cell_type": "markdown",
      "metadata": {
        "id": "hE6yATBtQc8c"
      },
      "source": [
        "이번에는 '5월' 행과 '9월' 행의 '배' 값과 '복숭아' 값을 가져오겠습니다."
      ]
    },
    {
      "cell_type": "code",
      "metadata": {
        "colab": {
          "base_uri": "https://localhost:8080/",
          "height": 265
        },
        "id": "wIV1RtmuQbdi",
        "outputId": "17fbde05-4eb4-4804-e908-5dd8b5b62a9c"
      },
      "source": [
        "df4"
      ],
      "execution_count": 78,
      "outputs": [
        {
          "output_type": "execute_result",
          "data": {
            "text/html": [
              "<div>\n",
              "<style scoped>\n",
              "    .dataframe tbody tr th:only-of-type {\n",
              "        vertical-align: middle;\n",
              "    }\n",
              "\n",
              "    .dataframe tbody tr th {\n",
              "        vertical-align: top;\n",
              "    }\n",
              "\n",
              "    .dataframe thead th {\n",
              "        text-align: right;\n",
              "    }\n",
              "</style>\n",
              "<table border=\"1\" class=\"dataframe\">\n",
              "  <thead>\n",
              "    <tr style=\"text-align: right;\">\n",
              "      <th></th>\n",
              "      <th>배</th>\n",
              "      <th>사과</th>\n",
              "      <th>포도</th>\n",
              "      <th>딸기</th>\n",
              "      <th>복숭아</th>\n",
              "    </tr>\n",
              "  </thead>\n",
              "  <tbody>\n",
              "    <tr>\n",
              "      <th>4월</th>\n",
              "      <td>102</td>\n",
              "      <td>332</td>\n",
              "      <td>402</td>\n",
              "      <td>756.0</td>\n",
              "      <td>32.0</td>\n",
              "    </tr>\n",
              "    <tr>\n",
              "      <th>5월</th>\n",
              "      <td>99</td>\n",
              "      <td>392</td>\n",
              "      <td>497</td>\n",
              "      <td>741.0</td>\n",
              "      <td>70.0</td>\n",
              "    </tr>\n",
              "    <tr>\n",
              "      <th>6월</th>\n",
              "      <td>80</td>\n",
              "      <td>391</td>\n",
              "      <td>306</td>\n",
              "      <td>794.0</td>\n",
              "      <td>26.0</td>\n",
              "    </tr>\n",
              "    <tr>\n",
              "      <th>7월</th>\n",
              "      <td>30</td>\n",
              "      <td>295</td>\n",
              "      <td>681</td>\n",
              "      <td>772.0</td>\n",
              "      <td>154.0</td>\n",
              "    </tr>\n",
              "    <tr>\n",
              "      <th>8월</th>\n",
              "      <td>143</td>\n",
              "      <td>374</td>\n",
              "      <td>573</td>\n",
              "      <td>703.0</td>\n",
              "      <td>201.0</td>\n",
              "    </tr>\n",
              "    <tr>\n",
              "      <th>9월</th>\n",
              "      <td>26</td>\n",
              "      <td>333</td>\n",
              "      <td>777</td>\n",
              "      <td>NaN</td>\n",
              "      <td>NaN</td>\n",
              "    </tr>\n",
              "    <tr>\n",
              "      <th>10월</th>\n",
              "      <td>21</td>\n",
              "      <td>282</td>\n",
              "      <td>821</td>\n",
              "      <td>NaN</td>\n",
              "      <td>NaN</td>\n",
              "    </tr>\n",
              "  </tbody>\n",
              "</table>\n",
              "</div>"
            ],
            "text/plain": [
              "       배   사과   포도     딸기    복숭아\n",
              "4월   102  332  402  756.0   32.0\n",
              "5월    99  392  497  741.0   70.0\n",
              "6월    80  391  306  794.0   26.0\n",
              "7월    30  295  681  772.0  154.0\n",
              "8월   143  374  573  703.0  201.0\n",
              "9월    26  333  777    NaN    NaN\n",
              "10월   21  282  821    NaN    NaN"
            ]
          },
          "metadata": {},
          "execution_count": 78
        }
      ]
    },
    {
      "cell_type": "code",
      "metadata": {
        "colab": {
          "base_uri": "https://localhost:8080/",
          "height": 111
        },
        "id": "JmM4YxScRUCL",
        "outputId": "9be3b1f4-5676-48b8-9398-06228a9f91b0"
      },
      "source": [
        "df4.loc[['5월', '9월'], ['배', '복숭아']]"
      ],
      "execution_count": 79,
      "outputs": [
        {
          "output_type": "execute_result",
          "data": {
            "text/html": [
              "<div>\n",
              "<style scoped>\n",
              "    .dataframe tbody tr th:only-of-type {\n",
              "        vertical-align: middle;\n",
              "    }\n",
              "\n",
              "    .dataframe tbody tr th {\n",
              "        vertical-align: top;\n",
              "    }\n",
              "\n",
              "    .dataframe thead th {\n",
              "        text-align: right;\n",
              "    }\n",
              "</style>\n",
              "<table border=\"1\" class=\"dataframe\">\n",
              "  <thead>\n",
              "    <tr style=\"text-align: right;\">\n",
              "      <th></th>\n",
              "      <th>배</th>\n",
              "      <th>복숭아</th>\n",
              "    </tr>\n",
              "  </thead>\n",
              "  <tbody>\n",
              "    <tr>\n",
              "      <th>5월</th>\n",
              "      <td>99</td>\n",
              "      <td>70.0</td>\n",
              "    </tr>\n",
              "    <tr>\n",
              "      <th>9월</th>\n",
              "      <td>26</td>\n",
              "      <td>NaN</td>\n",
              "    </tr>\n",
              "  </tbody>\n",
              "</table>\n",
              "</div>"
            ],
            "text/plain": [
              "     배   복숭아\n",
              "5월  99  70.0\n",
              "9월  26   NaN"
            ]
          },
          "metadata": {},
          "execution_count": 79
        }
      ]
    },
    {
      "cell_type": "code",
      "metadata": {
        "colab": {
          "base_uri": "https://localhost:8080/",
          "height": 111
        },
        "id": "XGDEZQ3DRz4n",
        "outputId": "f3b5cdc8-e46d-460a-eaf1-b7b53173b42b"
      },
      "source": [
        "df4.iloc[[1, 5], [0, 4]]"
      ],
      "execution_count": 80,
      "outputs": [
        {
          "output_type": "execute_result",
          "data": {
            "text/html": [
              "<div>\n",
              "<style scoped>\n",
              "    .dataframe tbody tr th:only-of-type {\n",
              "        vertical-align: middle;\n",
              "    }\n",
              "\n",
              "    .dataframe tbody tr th {\n",
              "        vertical-align: top;\n",
              "    }\n",
              "\n",
              "    .dataframe thead th {\n",
              "        text-align: right;\n",
              "    }\n",
              "</style>\n",
              "<table border=\"1\" class=\"dataframe\">\n",
              "  <thead>\n",
              "    <tr style=\"text-align: right;\">\n",
              "      <th></th>\n",
              "      <th>배</th>\n",
              "      <th>복숭아</th>\n",
              "    </tr>\n",
              "  </thead>\n",
              "  <tbody>\n",
              "    <tr>\n",
              "      <th>5월</th>\n",
              "      <td>99</td>\n",
              "      <td>70.0</td>\n",
              "    </tr>\n",
              "    <tr>\n",
              "      <th>9월</th>\n",
              "      <td>26</td>\n",
              "      <td>NaN</td>\n",
              "    </tr>\n",
              "  </tbody>\n",
              "</table>\n",
              "</div>"
            ],
            "text/plain": [
              "     배   복숭아\n",
              "5월  99  70.0\n",
              "9월  26   NaN"
            ]
          },
          "metadata": {},
          "execution_count": 80
        }
      ]
    },
    {
      "cell_type": "markdown",
      "metadata": {
        "id": "Bea_U7J1Uh_9"
      },
      "source": [
        "## **2.4. 데이터 추가하기**"
      ]
    },
    {
      "cell_type": "markdown",
      "metadata": {
        "id": "Zu3Mqa1XUxYX"
      },
      "source": [
        "`df4` 데이터프레임에 열을 추가하겠습니다. 먼저 `df4` 데이터프레임을 복제합니다."
      ]
    },
    {
      "cell_type": "code",
      "metadata": {
        "colab": {
          "base_uri": "https://localhost:8080/",
          "height": 265
        },
        "id": "g7Oa-hYnZxSw",
        "outputId": "57321c5b-291a-4cfb-960e-2497138540ec"
      },
      "source": [
        "df4_add = df4.copy()\n",
        "df4_add"
      ],
      "execution_count": 81,
      "outputs": [
        {
          "output_type": "execute_result",
          "data": {
            "text/html": [
              "<div>\n",
              "<style scoped>\n",
              "    .dataframe tbody tr th:only-of-type {\n",
              "        vertical-align: middle;\n",
              "    }\n",
              "\n",
              "    .dataframe tbody tr th {\n",
              "        vertical-align: top;\n",
              "    }\n",
              "\n",
              "    .dataframe thead th {\n",
              "        text-align: right;\n",
              "    }\n",
              "</style>\n",
              "<table border=\"1\" class=\"dataframe\">\n",
              "  <thead>\n",
              "    <tr style=\"text-align: right;\">\n",
              "      <th></th>\n",
              "      <th>배</th>\n",
              "      <th>사과</th>\n",
              "      <th>포도</th>\n",
              "      <th>딸기</th>\n",
              "      <th>복숭아</th>\n",
              "    </tr>\n",
              "  </thead>\n",
              "  <tbody>\n",
              "    <tr>\n",
              "      <th>4월</th>\n",
              "      <td>102</td>\n",
              "      <td>332</td>\n",
              "      <td>402</td>\n",
              "      <td>756.0</td>\n",
              "      <td>32.0</td>\n",
              "    </tr>\n",
              "    <tr>\n",
              "      <th>5월</th>\n",
              "      <td>99</td>\n",
              "      <td>392</td>\n",
              "      <td>497</td>\n",
              "      <td>741.0</td>\n",
              "      <td>70.0</td>\n",
              "    </tr>\n",
              "    <tr>\n",
              "      <th>6월</th>\n",
              "      <td>80</td>\n",
              "      <td>391</td>\n",
              "      <td>306</td>\n",
              "      <td>794.0</td>\n",
              "      <td>26.0</td>\n",
              "    </tr>\n",
              "    <tr>\n",
              "      <th>7월</th>\n",
              "      <td>30</td>\n",
              "      <td>295</td>\n",
              "      <td>681</td>\n",
              "      <td>772.0</td>\n",
              "      <td>154.0</td>\n",
              "    </tr>\n",
              "    <tr>\n",
              "      <th>8월</th>\n",
              "      <td>143</td>\n",
              "      <td>374</td>\n",
              "      <td>573</td>\n",
              "      <td>703.0</td>\n",
              "      <td>201.0</td>\n",
              "    </tr>\n",
              "    <tr>\n",
              "      <th>9월</th>\n",
              "      <td>26</td>\n",
              "      <td>333</td>\n",
              "      <td>777</td>\n",
              "      <td>NaN</td>\n",
              "      <td>NaN</td>\n",
              "    </tr>\n",
              "    <tr>\n",
              "      <th>10월</th>\n",
              "      <td>21</td>\n",
              "      <td>282</td>\n",
              "      <td>821</td>\n",
              "      <td>NaN</td>\n",
              "      <td>NaN</td>\n",
              "    </tr>\n",
              "  </tbody>\n",
              "</table>\n",
              "</div>"
            ],
            "text/plain": [
              "       배   사과   포도     딸기    복숭아\n",
              "4월   102  332  402  756.0   32.0\n",
              "5월    99  392  497  741.0   70.0\n",
              "6월    80  391  306  794.0   26.0\n",
              "7월    30  295  681  772.0  154.0\n",
              "8월   143  374  573  703.0  201.0\n",
              "9월    26  333  777    NaN    NaN\n",
              "10월   21  282  821    NaN    NaN"
            ]
          },
          "metadata": {},
          "execution_count": 81
        }
      ]
    },
    {
      "cell_type": "markdown",
      "metadata": {
        "id": "P-MVurqAaZU6"
      },
      "source": [
        "복제한 `df4_add` 데이터프레임에 '멜론' 열을 추가합니다."
      ]
    },
    {
      "cell_type": "code",
      "metadata": {
        "colab": {
          "base_uri": "https://localhost:8080/",
          "height": 265
        },
        "id": "E8iFv0fWZ8iG",
        "outputId": "ee1ee27a-0505-43d3-a63a-41d88d814039"
      },
      "source": [
        "df4_add['멜론'] = 150\n",
        "df4_add"
      ],
      "execution_count": 82,
      "outputs": [
        {
          "output_type": "execute_result",
          "data": {
            "text/html": [
              "<div>\n",
              "<style scoped>\n",
              "    .dataframe tbody tr th:only-of-type {\n",
              "        vertical-align: middle;\n",
              "    }\n",
              "\n",
              "    .dataframe tbody tr th {\n",
              "        vertical-align: top;\n",
              "    }\n",
              "\n",
              "    .dataframe thead th {\n",
              "        text-align: right;\n",
              "    }\n",
              "</style>\n",
              "<table border=\"1\" class=\"dataframe\">\n",
              "  <thead>\n",
              "    <tr style=\"text-align: right;\">\n",
              "      <th></th>\n",
              "      <th>배</th>\n",
              "      <th>사과</th>\n",
              "      <th>포도</th>\n",
              "      <th>딸기</th>\n",
              "      <th>복숭아</th>\n",
              "      <th>멜론</th>\n",
              "    </tr>\n",
              "  </thead>\n",
              "  <tbody>\n",
              "    <tr>\n",
              "      <th>4월</th>\n",
              "      <td>102</td>\n",
              "      <td>332</td>\n",
              "      <td>402</td>\n",
              "      <td>756.0</td>\n",
              "      <td>32.0</td>\n",
              "      <td>150</td>\n",
              "    </tr>\n",
              "    <tr>\n",
              "      <th>5월</th>\n",
              "      <td>99</td>\n",
              "      <td>392</td>\n",
              "      <td>497</td>\n",
              "      <td>741.0</td>\n",
              "      <td>70.0</td>\n",
              "      <td>150</td>\n",
              "    </tr>\n",
              "    <tr>\n",
              "      <th>6월</th>\n",
              "      <td>80</td>\n",
              "      <td>391</td>\n",
              "      <td>306</td>\n",
              "      <td>794.0</td>\n",
              "      <td>26.0</td>\n",
              "      <td>150</td>\n",
              "    </tr>\n",
              "    <tr>\n",
              "      <th>7월</th>\n",
              "      <td>30</td>\n",
              "      <td>295</td>\n",
              "      <td>681</td>\n",
              "      <td>772.0</td>\n",
              "      <td>154.0</td>\n",
              "      <td>150</td>\n",
              "    </tr>\n",
              "    <tr>\n",
              "      <th>8월</th>\n",
              "      <td>143</td>\n",
              "      <td>374</td>\n",
              "      <td>573</td>\n",
              "      <td>703.0</td>\n",
              "      <td>201.0</td>\n",
              "      <td>150</td>\n",
              "    </tr>\n",
              "    <tr>\n",
              "      <th>9월</th>\n",
              "      <td>26</td>\n",
              "      <td>333</td>\n",
              "      <td>777</td>\n",
              "      <td>NaN</td>\n",
              "      <td>NaN</td>\n",
              "      <td>150</td>\n",
              "    </tr>\n",
              "    <tr>\n",
              "      <th>10월</th>\n",
              "      <td>21</td>\n",
              "      <td>282</td>\n",
              "      <td>821</td>\n",
              "      <td>NaN</td>\n",
              "      <td>NaN</td>\n",
              "      <td>150</td>\n",
              "    </tr>\n",
              "  </tbody>\n",
              "</table>\n",
              "</div>"
            ],
            "text/plain": [
              "       배   사과   포도     딸기    복숭아   멜론\n",
              "4월   102  332  402  756.0   32.0  150\n",
              "5월    99  392  497  741.0   70.0  150\n",
              "6월    80  391  306  794.0   26.0  150\n",
              "7월    30  295  681  772.0  154.0  150\n",
              "8월   143  374  573  703.0  201.0  150\n",
              "9월    26  333  777    NaN    NaN  150\n",
              "10월   21  282  821    NaN    NaN  150"
            ]
          },
          "metadata": {},
          "execution_count": 82
        }
      ]
    },
    {
      "cell_type": "markdown",
      "metadata": {
        "id": "gYVucMIeasVv"
      },
      "source": [
        "다수의 열 값을 추가하려면 리스트로 전달합니다."
      ]
    },
    {
      "cell_type": "code",
      "metadata": {
        "colab": {
          "base_uri": "https://localhost:8080/",
          "height": 265
        },
        "id": "NBHDkBKraxN5",
        "outputId": "3187eb75-825d-4266-f74e-d665b18ae8c1"
      },
      "source": [
        "df4_add['망고'] = [100, 200, 300, 400, 500, 600, 700]\n",
        "df4_add"
      ],
      "execution_count": 83,
      "outputs": [
        {
          "output_type": "execute_result",
          "data": {
            "text/html": [
              "<div>\n",
              "<style scoped>\n",
              "    .dataframe tbody tr th:only-of-type {\n",
              "        vertical-align: middle;\n",
              "    }\n",
              "\n",
              "    .dataframe tbody tr th {\n",
              "        vertical-align: top;\n",
              "    }\n",
              "\n",
              "    .dataframe thead th {\n",
              "        text-align: right;\n",
              "    }\n",
              "</style>\n",
              "<table border=\"1\" class=\"dataframe\">\n",
              "  <thead>\n",
              "    <tr style=\"text-align: right;\">\n",
              "      <th></th>\n",
              "      <th>배</th>\n",
              "      <th>사과</th>\n",
              "      <th>포도</th>\n",
              "      <th>딸기</th>\n",
              "      <th>복숭아</th>\n",
              "      <th>멜론</th>\n",
              "      <th>망고</th>\n",
              "    </tr>\n",
              "  </thead>\n",
              "  <tbody>\n",
              "    <tr>\n",
              "      <th>4월</th>\n",
              "      <td>102</td>\n",
              "      <td>332</td>\n",
              "      <td>402</td>\n",
              "      <td>756.0</td>\n",
              "      <td>32.0</td>\n",
              "      <td>150</td>\n",
              "      <td>100</td>\n",
              "    </tr>\n",
              "    <tr>\n",
              "      <th>5월</th>\n",
              "      <td>99</td>\n",
              "      <td>392</td>\n",
              "      <td>497</td>\n",
              "      <td>741.0</td>\n",
              "      <td>70.0</td>\n",
              "      <td>150</td>\n",
              "      <td>200</td>\n",
              "    </tr>\n",
              "    <tr>\n",
              "      <th>6월</th>\n",
              "      <td>80</td>\n",
              "      <td>391</td>\n",
              "      <td>306</td>\n",
              "      <td>794.0</td>\n",
              "      <td>26.0</td>\n",
              "      <td>150</td>\n",
              "      <td>300</td>\n",
              "    </tr>\n",
              "    <tr>\n",
              "      <th>7월</th>\n",
              "      <td>30</td>\n",
              "      <td>295</td>\n",
              "      <td>681</td>\n",
              "      <td>772.0</td>\n",
              "      <td>154.0</td>\n",
              "      <td>150</td>\n",
              "      <td>400</td>\n",
              "    </tr>\n",
              "    <tr>\n",
              "      <th>8월</th>\n",
              "      <td>143</td>\n",
              "      <td>374</td>\n",
              "      <td>573</td>\n",
              "      <td>703.0</td>\n",
              "      <td>201.0</td>\n",
              "      <td>150</td>\n",
              "      <td>500</td>\n",
              "    </tr>\n",
              "    <tr>\n",
              "      <th>9월</th>\n",
              "      <td>26</td>\n",
              "      <td>333</td>\n",
              "      <td>777</td>\n",
              "      <td>NaN</td>\n",
              "      <td>NaN</td>\n",
              "      <td>150</td>\n",
              "      <td>600</td>\n",
              "    </tr>\n",
              "    <tr>\n",
              "      <th>10월</th>\n",
              "      <td>21</td>\n",
              "      <td>282</td>\n",
              "      <td>821</td>\n",
              "      <td>NaN</td>\n",
              "      <td>NaN</td>\n",
              "      <td>150</td>\n",
              "      <td>700</td>\n",
              "    </tr>\n",
              "  </tbody>\n",
              "</table>\n",
              "</div>"
            ],
            "text/plain": [
              "       배   사과   포도     딸기    복숭아   멜론   망고\n",
              "4월   102  332  402  756.0   32.0  150  100\n",
              "5월    99  392  497  741.0   70.0  150  200\n",
              "6월    80  391  306  794.0   26.0  150  300\n",
              "7월    30  295  681  772.0  154.0  150  400\n",
              "8월   143  374  573  703.0  201.0  150  500\n",
              "9월    26  333  777    NaN    NaN  150  600\n",
              "10월   21  282  821    NaN    NaN  150  700"
            ]
          },
          "metadata": {},
          "execution_count": 83
        }
      ]
    },
    {
      "cell_type": "markdown",
      "metadata": {
        "id": "TPoYLtpRbAEM"
      },
      "source": [
        "다음으로 '11월' 행을 추가하겠습니다. 행을 추가하려면 반드시 `loc[]` 메서드 또는 `iloc[]` 메서드를 사용합니다."
      ]
    },
    {
      "cell_type": "code",
      "metadata": {
        "colab": {
          "base_uri": "https://localhost:8080/",
          "height": 296
        },
        "id": "uPi-G4U-bFvD",
        "outputId": "8b41ca30-1ca1-46f1-c988-04dc1a0d2e65"
      },
      "source": [
        "df4_add.loc['11월'] = 20\n",
        "df4_add"
      ],
      "execution_count": 84,
      "outputs": [
        {
          "output_type": "execute_result",
          "data": {
            "text/html": [
              "<div>\n",
              "<style scoped>\n",
              "    .dataframe tbody tr th:only-of-type {\n",
              "        vertical-align: middle;\n",
              "    }\n",
              "\n",
              "    .dataframe tbody tr th {\n",
              "        vertical-align: top;\n",
              "    }\n",
              "\n",
              "    .dataframe thead th {\n",
              "        text-align: right;\n",
              "    }\n",
              "</style>\n",
              "<table border=\"1\" class=\"dataframe\">\n",
              "  <thead>\n",
              "    <tr style=\"text-align: right;\">\n",
              "      <th></th>\n",
              "      <th>배</th>\n",
              "      <th>사과</th>\n",
              "      <th>포도</th>\n",
              "      <th>딸기</th>\n",
              "      <th>복숭아</th>\n",
              "      <th>멜론</th>\n",
              "      <th>망고</th>\n",
              "    </tr>\n",
              "  </thead>\n",
              "  <tbody>\n",
              "    <tr>\n",
              "      <th>4월</th>\n",
              "      <td>102</td>\n",
              "      <td>332</td>\n",
              "      <td>402</td>\n",
              "      <td>756.0</td>\n",
              "      <td>32.0</td>\n",
              "      <td>150</td>\n",
              "      <td>100</td>\n",
              "    </tr>\n",
              "    <tr>\n",
              "      <th>5월</th>\n",
              "      <td>99</td>\n",
              "      <td>392</td>\n",
              "      <td>497</td>\n",
              "      <td>741.0</td>\n",
              "      <td>70.0</td>\n",
              "      <td>150</td>\n",
              "      <td>200</td>\n",
              "    </tr>\n",
              "    <tr>\n",
              "      <th>6월</th>\n",
              "      <td>80</td>\n",
              "      <td>391</td>\n",
              "      <td>306</td>\n",
              "      <td>794.0</td>\n",
              "      <td>26.0</td>\n",
              "      <td>150</td>\n",
              "      <td>300</td>\n",
              "    </tr>\n",
              "    <tr>\n",
              "      <th>7월</th>\n",
              "      <td>30</td>\n",
              "      <td>295</td>\n",
              "      <td>681</td>\n",
              "      <td>772.0</td>\n",
              "      <td>154.0</td>\n",
              "      <td>150</td>\n",
              "      <td>400</td>\n",
              "    </tr>\n",
              "    <tr>\n",
              "      <th>8월</th>\n",
              "      <td>143</td>\n",
              "      <td>374</td>\n",
              "      <td>573</td>\n",
              "      <td>703.0</td>\n",
              "      <td>201.0</td>\n",
              "      <td>150</td>\n",
              "      <td>500</td>\n",
              "    </tr>\n",
              "    <tr>\n",
              "      <th>9월</th>\n",
              "      <td>26</td>\n",
              "      <td>333</td>\n",
              "      <td>777</td>\n",
              "      <td>NaN</td>\n",
              "      <td>NaN</td>\n",
              "      <td>150</td>\n",
              "      <td>600</td>\n",
              "    </tr>\n",
              "    <tr>\n",
              "      <th>10월</th>\n",
              "      <td>21</td>\n",
              "      <td>282</td>\n",
              "      <td>821</td>\n",
              "      <td>NaN</td>\n",
              "      <td>NaN</td>\n",
              "      <td>150</td>\n",
              "      <td>700</td>\n",
              "    </tr>\n",
              "    <tr>\n",
              "      <th>11월</th>\n",
              "      <td>20</td>\n",
              "      <td>20</td>\n",
              "      <td>20</td>\n",
              "      <td>20.0</td>\n",
              "      <td>20.0</td>\n",
              "      <td>20</td>\n",
              "      <td>20</td>\n",
              "    </tr>\n",
              "  </tbody>\n",
              "</table>\n",
              "</div>"
            ],
            "text/plain": [
              "       배   사과   포도     딸기    복숭아   멜론   망고\n",
              "4월   102  332  402  756.0   32.0  150  100\n",
              "5월    99  392  497  741.0   70.0  150  200\n",
              "6월    80  391  306  794.0   26.0  150  300\n",
              "7월    30  295  681  772.0  154.0  150  400\n",
              "8월   143  374  573  703.0  201.0  150  500\n",
              "9월    26  333  777    NaN    NaN  150  600\n",
              "10월   21  282  821    NaN    NaN  150  700\n",
              "11월   20   20   20   20.0   20.0   20   20"
            ]
          },
          "metadata": {},
          "execution_count": 84
        }
      ]
    },
    {
      "cell_type": "markdown",
      "metadata": {
        "id": "w2sgB15sbqlB"
      },
      "source": [
        "'12월' 행에 각각 다른 값을 추가하겠습니다."
      ]
    },
    {
      "cell_type": "code",
      "metadata": {
        "colab": {
          "base_uri": "https://localhost:8080/",
          "height": 327
        },
        "id": "-Hgkuztbbodi",
        "outputId": "bc62a216-677f-4713-b195-55a3dedfd560"
      },
      "source": [
        "df4_add.loc['12월'] = [100, 200, 300, 400, 500, 600, 700]\n",
        "df4_add"
      ],
      "execution_count": 85,
      "outputs": [
        {
          "output_type": "execute_result",
          "data": {
            "text/html": [
              "<div>\n",
              "<style scoped>\n",
              "    .dataframe tbody tr th:only-of-type {\n",
              "        vertical-align: middle;\n",
              "    }\n",
              "\n",
              "    .dataframe tbody tr th {\n",
              "        vertical-align: top;\n",
              "    }\n",
              "\n",
              "    .dataframe thead th {\n",
              "        text-align: right;\n",
              "    }\n",
              "</style>\n",
              "<table border=\"1\" class=\"dataframe\">\n",
              "  <thead>\n",
              "    <tr style=\"text-align: right;\">\n",
              "      <th></th>\n",
              "      <th>배</th>\n",
              "      <th>사과</th>\n",
              "      <th>포도</th>\n",
              "      <th>딸기</th>\n",
              "      <th>복숭아</th>\n",
              "      <th>멜론</th>\n",
              "      <th>망고</th>\n",
              "    </tr>\n",
              "  </thead>\n",
              "  <tbody>\n",
              "    <tr>\n",
              "      <th>4월</th>\n",
              "      <td>102</td>\n",
              "      <td>332</td>\n",
              "      <td>402</td>\n",
              "      <td>756.0</td>\n",
              "      <td>32.0</td>\n",
              "      <td>150</td>\n",
              "      <td>100</td>\n",
              "    </tr>\n",
              "    <tr>\n",
              "      <th>5월</th>\n",
              "      <td>99</td>\n",
              "      <td>392</td>\n",
              "      <td>497</td>\n",
              "      <td>741.0</td>\n",
              "      <td>70.0</td>\n",
              "      <td>150</td>\n",
              "      <td>200</td>\n",
              "    </tr>\n",
              "    <tr>\n",
              "      <th>6월</th>\n",
              "      <td>80</td>\n",
              "      <td>391</td>\n",
              "      <td>306</td>\n",
              "      <td>794.0</td>\n",
              "      <td>26.0</td>\n",
              "      <td>150</td>\n",
              "      <td>300</td>\n",
              "    </tr>\n",
              "    <tr>\n",
              "      <th>7월</th>\n",
              "      <td>30</td>\n",
              "      <td>295</td>\n",
              "      <td>681</td>\n",
              "      <td>772.0</td>\n",
              "      <td>154.0</td>\n",
              "      <td>150</td>\n",
              "      <td>400</td>\n",
              "    </tr>\n",
              "    <tr>\n",
              "      <th>8월</th>\n",
              "      <td>143</td>\n",
              "      <td>374</td>\n",
              "      <td>573</td>\n",
              "      <td>703.0</td>\n",
              "      <td>201.0</td>\n",
              "      <td>150</td>\n",
              "      <td>500</td>\n",
              "    </tr>\n",
              "    <tr>\n",
              "      <th>9월</th>\n",
              "      <td>26</td>\n",
              "      <td>333</td>\n",
              "      <td>777</td>\n",
              "      <td>NaN</td>\n",
              "      <td>NaN</td>\n",
              "      <td>150</td>\n",
              "      <td>600</td>\n",
              "    </tr>\n",
              "    <tr>\n",
              "      <th>10월</th>\n",
              "      <td>21</td>\n",
              "      <td>282</td>\n",
              "      <td>821</td>\n",
              "      <td>NaN</td>\n",
              "      <td>NaN</td>\n",
              "      <td>150</td>\n",
              "      <td>700</td>\n",
              "    </tr>\n",
              "    <tr>\n",
              "      <th>11월</th>\n",
              "      <td>20</td>\n",
              "      <td>20</td>\n",
              "      <td>20</td>\n",
              "      <td>20.0</td>\n",
              "      <td>20.0</td>\n",
              "      <td>20</td>\n",
              "      <td>20</td>\n",
              "    </tr>\n",
              "    <tr>\n",
              "      <th>12월</th>\n",
              "      <td>100</td>\n",
              "      <td>200</td>\n",
              "      <td>300</td>\n",
              "      <td>400.0</td>\n",
              "      <td>500.0</td>\n",
              "      <td>600</td>\n",
              "      <td>700</td>\n",
              "    </tr>\n",
              "  </tbody>\n",
              "</table>\n",
              "</div>"
            ],
            "text/plain": [
              "       배   사과   포도     딸기    복숭아   멜론   망고\n",
              "4월   102  332  402  756.0   32.0  150  100\n",
              "5월    99  392  497  741.0   70.0  150  200\n",
              "6월    80  391  306  794.0   26.0  150  300\n",
              "7월    30  295  681  772.0  154.0  150  400\n",
              "8월   143  374  573  703.0  201.0  150  500\n",
              "9월    26  333  777    NaN    NaN  150  600\n",
              "10월   21  282  821    NaN    NaN  150  700\n",
              "11월   20   20   20   20.0   20.0   20   20\n",
              "12월  100  200  300  400.0  500.0  600  700"
            ]
          },
          "metadata": {},
          "execution_count": 85
        }
      ]
    },
    {
      "cell_type": "markdown",
      "metadata": {
        "id": "m3M8m9vzCAe1"
      },
      "source": [
        "## **2.5. 데이터 합치기**"
      ]
    },
    {
      "cell_type": "markdown",
      "metadata": {
        "id": "aaEV85-CRkLB"
      },
      "source": [
        "먼저 데이터프레임의 아래로 데이터를 붙이겠습니다. 사용할 함수는 `append()`입니다. 먼저 `df5`를 생성하고, `df4`의 아래에 붙이겠습니다."
      ]
    },
    {
      "cell_type": "code",
      "metadata": {
        "colab": {
          "base_uri": "https://localhost:8080/",
          "height": 265
        },
        "id": "-PmRuKfGPGFe",
        "outputId": "ca1802e5-231d-4a27-ac06-11662ab37816"
      },
      "source": [
        "df4"
      ],
      "execution_count": 86,
      "outputs": [
        {
          "output_type": "execute_result",
          "data": {
            "text/html": [
              "<div>\n",
              "<style scoped>\n",
              "    .dataframe tbody tr th:only-of-type {\n",
              "        vertical-align: middle;\n",
              "    }\n",
              "\n",
              "    .dataframe tbody tr th {\n",
              "        vertical-align: top;\n",
              "    }\n",
              "\n",
              "    .dataframe thead th {\n",
              "        text-align: right;\n",
              "    }\n",
              "</style>\n",
              "<table border=\"1\" class=\"dataframe\">\n",
              "  <thead>\n",
              "    <tr style=\"text-align: right;\">\n",
              "      <th></th>\n",
              "      <th>배</th>\n",
              "      <th>사과</th>\n",
              "      <th>포도</th>\n",
              "      <th>딸기</th>\n",
              "      <th>복숭아</th>\n",
              "    </tr>\n",
              "  </thead>\n",
              "  <tbody>\n",
              "    <tr>\n",
              "      <th>4월</th>\n",
              "      <td>102</td>\n",
              "      <td>332</td>\n",
              "      <td>402</td>\n",
              "      <td>756.0</td>\n",
              "      <td>32.0</td>\n",
              "    </tr>\n",
              "    <tr>\n",
              "      <th>5월</th>\n",
              "      <td>99</td>\n",
              "      <td>392</td>\n",
              "      <td>497</td>\n",
              "      <td>741.0</td>\n",
              "      <td>70.0</td>\n",
              "    </tr>\n",
              "    <tr>\n",
              "      <th>6월</th>\n",
              "      <td>80</td>\n",
              "      <td>391</td>\n",
              "      <td>306</td>\n",
              "      <td>794.0</td>\n",
              "      <td>26.0</td>\n",
              "    </tr>\n",
              "    <tr>\n",
              "      <th>7월</th>\n",
              "      <td>30</td>\n",
              "      <td>295</td>\n",
              "      <td>681</td>\n",
              "      <td>772.0</td>\n",
              "      <td>154.0</td>\n",
              "    </tr>\n",
              "    <tr>\n",
              "      <th>8월</th>\n",
              "      <td>143</td>\n",
              "      <td>374</td>\n",
              "      <td>573</td>\n",
              "      <td>703.0</td>\n",
              "      <td>201.0</td>\n",
              "    </tr>\n",
              "    <tr>\n",
              "      <th>9월</th>\n",
              "      <td>26</td>\n",
              "      <td>333</td>\n",
              "      <td>777</td>\n",
              "      <td>NaN</td>\n",
              "      <td>NaN</td>\n",
              "    </tr>\n",
              "    <tr>\n",
              "      <th>10월</th>\n",
              "      <td>21</td>\n",
              "      <td>282</td>\n",
              "      <td>821</td>\n",
              "      <td>NaN</td>\n",
              "      <td>NaN</td>\n",
              "    </tr>\n",
              "  </tbody>\n",
              "</table>\n",
              "</div>"
            ],
            "text/plain": [
              "       배   사과   포도     딸기    복숭아\n",
              "4월   102  332  402  756.0   32.0\n",
              "5월    99  392  497  741.0   70.0\n",
              "6월    80  391  306  794.0   26.0\n",
              "7월    30  295  681  772.0  154.0\n",
              "8월   143  374  573  703.0  201.0\n",
              "9월    26  333  777    NaN    NaN\n",
              "10월   21  282  821    NaN    NaN"
            ]
          },
          "metadata": {},
          "execution_count": 86
        }
      ]
    },
    {
      "cell_type": "code",
      "metadata": {
        "colab": {
          "base_uri": "https://localhost:8080/",
          "height": 111
        },
        "id": "kWJjWO_LOqnv",
        "outputId": "7b09f454-b863-4169-c246-cb37d6a365ab"
      },
      "source": [
        "df5 = pd.DataFrame({'배':[30, 40],\n",
        "                           '사과': [300, 400],\n",
        "                           '포도': [200, 300],\n",
        "                           '딸기': [100, 150],\n",
        "                           '복숭아': [200, 240]})\n",
        "df5"
      ],
      "execution_count": 87,
      "outputs": [
        {
          "output_type": "execute_result",
          "data": {
            "text/html": [
              "<div>\n",
              "<style scoped>\n",
              "    .dataframe tbody tr th:only-of-type {\n",
              "        vertical-align: middle;\n",
              "    }\n",
              "\n",
              "    .dataframe tbody tr th {\n",
              "        vertical-align: top;\n",
              "    }\n",
              "\n",
              "    .dataframe thead th {\n",
              "        text-align: right;\n",
              "    }\n",
              "</style>\n",
              "<table border=\"1\" class=\"dataframe\">\n",
              "  <thead>\n",
              "    <tr style=\"text-align: right;\">\n",
              "      <th></th>\n",
              "      <th>배</th>\n",
              "      <th>사과</th>\n",
              "      <th>포도</th>\n",
              "      <th>딸기</th>\n",
              "      <th>복숭아</th>\n",
              "    </tr>\n",
              "  </thead>\n",
              "  <tbody>\n",
              "    <tr>\n",
              "      <th>0</th>\n",
              "      <td>30</td>\n",
              "      <td>300</td>\n",
              "      <td>200</td>\n",
              "      <td>100</td>\n",
              "      <td>200</td>\n",
              "    </tr>\n",
              "    <tr>\n",
              "      <th>1</th>\n",
              "      <td>40</td>\n",
              "      <td>400</td>\n",
              "      <td>300</td>\n",
              "      <td>150</td>\n",
              "      <td>240</td>\n",
              "    </tr>\n",
              "  </tbody>\n",
              "</table>\n",
              "</div>"
            ],
            "text/plain": [
              "    배   사과   포도   딸기  복숭아\n",
              "0  30  300  200  100  200\n",
              "1  40  400  300  150  240"
            ]
          },
          "metadata": {},
          "execution_count": 87
        }
      ]
    },
    {
      "cell_type": "code",
      "metadata": {
        "colab": {
          "base_uri": "https://localhost:8080/",
          "height": 327
        },
        "id": "OPor1ulNP56n",
        "outputId": "a86f626b-58fb-41a6-f110-2f403acb6f51"
      },
      "source": [
        "df4.append(df5)"
      ],
      "execution_count": 88,
      "outputs": [
        {
          "output_type": "execute_result",
          "data": {
            "text/html": [
              "<div>\n",
              "<style scoped>\n",
              "    .dataframe tbody tr th:only-of-type {\n",
              "        vertical-align: middle;\n",
              "    }\n",
              "\n",
              "    .dataframe tbody tr th {\n",
              "        vertical-align: top;\n",
              "    }\n",
              "\n",
              "    .dataframe thead th {\n",
              "        text-align: right;\n",
              "    }\n",
              "</style>\n",
              "<table border=\"1\" class=\"dataframe\">\n",
              "  <thead>\n",
              "    <tr style=\"text-align: right;\">\n",
              "      <th></th>\n",
              "      <th>배</th>\n",
              "      <th>사과</th>\n",
              "      <th>포도</th>\n",
              "      <th>딸기</th>\n",
              "      <th>복숭아</th>\n",
              "    </tr>\n",
              "  </thead>\n",
              "  <tbody>\n",
              "    <tr>\n",
              "      <th>4월</th>\n",
              "      <td>102</td>\n",
              "      <td>332</td>\n",
              "      <td>402</td>\n",
              "      <td>756.0</td>\n",
              "      <td>32.0</td>\n",
              "    </tr>\n",
              "    <tr>\n",
              "      <th>5월</th>\n",
              "      <td>99</td>\n",
              "      <td>392</td>\n",
              "      <td>497</td>\n",
              "      <td>741.0</td>\n",
              "      <td>70.0</td>\n",
              "    </tr>\n",
              "    <tr>\n",
              "      <th>6월</th>\n",
              "      <td>80</td>\n",
              "      <td>391</td>\n",
              "      <td>306</td>\n",
              "      <td>794.0</td>\n",
              "      <td>26.0</td>\n",
              "    </tr>\n",
              "    <tr>\n",
              "      <th>7월</th>\n",
              "      <td>30</td>\n",
              "      <td>295</td>\n",
              "      <td>681</td>\n",
              "      <td>772.0</td>\n",
              "      <td>154.0</td>\n",
              "    </tr>\n",
              "    <tr>\n",
              "      <th>8월</th>\n",
              "      <td>143</td>\n",
              "      <td>374</td>\n",
              "      <td>573</td>\n",
              "      <td>703.0</td>\n",
              "      <td>201.0</td>\n",
              "    </tr>\n",
              "    <tr>\n",
              "      <th>9월</th>\n",
              "      <td>26</td>\n",
              "      <td>333</td>\n",
              "      <td>777</td>\n",
              "      <td>NaN</td>\n",
              "      <td>NaN</td>\n",
              "    </tr>\n",
              "    <tr>\n",
              "      <th>10월</th>\n",
              "      <td>21</td>\n",
              "      <td>282</td>\n",
              "      <td>821</td>\n",
              "      <td>NaN</td>\n",
              "      <td>NaN</td>\n",
              "    </tr>\n",
              "    <tr>\n",
              "      <th>0</th>\n",
              "      <td>30</td>\n",
              "      <td>300</td>\n",
              "      <td>200</td>\n",
              "      <td>100.0</td>\n",
              "      <td>200.0</td>\n",
              "    </tr>\n",
              "    <tr>\n",
              "      <th>1</th>\n",
              "      <td>40</td>\n",
              "      <td>400</td>\n",
              "      <td>300</td>\n",
              "      <td>150.0</td>\n",
              "      <td>240.0</td>\n",
              "    </tr>\n",
              "  </tbody>\n",
              "</table>\n",
              "</div>"
            ],
            "text/plain": [
              "       배   사과   포도     딸기    복숭아\n",
              "4월   102  332  402  756.0   32.0\n",
              "5월    99  392  497  741.0   70.0\n",
              "6월    80  391  306  794.0   26.0\n",
              "7월    30  295  681  772.0  154.0\n",
              "8월   143  374  573  703.0  201.0\n",
              "9월    26  333  777    NaN    NaN\n",
              "10월   21  282  821    NaN    NaN\n",
              "0     30  300  200  100.0  200.0\n",
              "1     40  400  300  150.0  240.0"
            ]
          },
          "metadata": {},
          "execution_count": 88
        }
      ]
    },
    {
      "cell_type": "markdown",
      "metadata": {
        "id": "yyRPhzV5QF8L"
      },
      "source": [
        "`append()` 함수의 `ignore_index` 매개변수에 `True` 인자를 지정하면 인덱스가 순서대로 통합됩니다."
      ]
    },
    {
      "cell_type": "code",
      "metadata": {
        "colab": {
          "base_uri": "https://localhost:8080/",
          "height": 327
        },
        "id": "MFAEqxJtQQsu",
        "outputId": "7b5bffa4-1bff-4405-a6e3-5dee94fe519b"
      },
      "source": [
        "df4.append(df5, ignore_index=True)"
      ],
      "execution_count": 89,
      "outputs": [
        {
          "output_type": "execute_result",
          "data": {
            "text/html": [
              "<div>\n",
              "<style scoped>\n",
              "    .dataframe tbody tr th:only-of-type {\n",
              "        vertical-align: middle;\n",
              "    }\n",
              "\n",
              "    .dataframe tbody tr th {\n",
              "        vertical-align: top;\n",
              "    }\n",
              "\n",
              "    .dataframe thead th {\n",
              "        text-align: right;\n",
              "    }\n",
              "</style>\n",
              "<table border=\"1\" class=\"dataframe\">\n",
              "  <thead>\n",
              "    <tr style=\"text-align: right;\">\n",
              "      <th></th>\n",
              "      <th>배</th>\n",
              "      <th>사과</th>\n",
              "      <th>포도</th>\n",
              "      <th>딸기</th>\n",
              "      <th>복숭아</th>\n",
              "    </tr>\n",
              "  </thead>\n",
              "  <tbody>\n",
              "    <tr>\n",
              "      <th>0</th>\n",
              "      <td>102</td>\n",
              "      <td>332</td>\n",
              "      <td>402</td>\n",
              "      <td>756.0</td>\n",
              "      <td>32.0</td>\n",
              "    </tr>\n",
              "    <tr>\n",
              "      <th>1</th>\n",
              "      <td>99</td>\n",
              "      <td>392</td>\n",
              "      <td>497</td>\n",
              "      <td>741.0</td>\n",
              "      <td>70.0</td>\n",
              "    </tr>\n",
              "    <tr>\n",
              "      <th>2</th>\n",
              "      <td>80</td>\n",
              "      <td>391</td>\n",
              "      <td>306</td>\n",
              "      <td>794.0</td>\n",
              "      <td>26.0</td>\n",
              "    </tr>\n",
              "    <tr>\n",
              "      <th>3</th>\n",
              "      <td>30</td>\n",
              "      <td>295</td>\n",
              "      <td>681</td>\n",
              "      <td>772.0</td>\n",
              "      <td>154.0</td>\n",
              "    </tr>\n",
              "    <tr>\n",
              "      <th>4</th>\n",
              "      <td>143</td>\n",
              "      <td>374</td>\n",
              "      <td>573</td>\n",
              "      <td>703.0</td>\n",
              "      <td>201.0</td>\n",
              "    </tr>\n",
              "    <tr>\n",
              "      <th>5</th>\n",
              "      <td>26</td>\n",
              "      <td>333</td>\n",
              "      <td>777</td>\n",
              "      <td>NaN</td>\n",
              "      <td>NaN</td>\n",
              "    </tr>\n",
              "    <tr>\n",
              "      <th>6</th>\n",
              "      <td>21</td>\n",
              "      <td>282</td>\n",
              "      <td>821</td>\n",
              "      <td>NaN</td>\n",
              "      <td>NaN</td>\n",
              "    </tr>\n",
              "    <tr>\n",
              "      <th>7</th>\n",
              "      <td>30</td>\n",
              "      <td>300</td>\n",
              "      <td>200</td>\n",
              "      <td>100.0</td>\n",
              "      <td>200.0</td>\n",
              "    </tr>\n",
              "    <tr>\n",
              "      <th>8</th>\n",
              "      <td>40</td>\n",
              "      <td>400</td>\n",
              "      <td>300</td>\n",
              "      <td>150.0</td>\n",
              "      <td>240.0</td>\n",
              "    </tr>\n",
              "  </tbody>\n",
              "</table>\n",
              "</div>"
            ],
            "text/plain": [
              "     배   사과   포도     딸기    복숭아\n",
              "0  102  332  402  756.0   32.0\n",
              "1   99  392  497  741.0   70.0\n",
              "2   80  391  306  794.0   26.0\n",
              "3   30  295  681  772.0  154.0\n",
              "4  143  374  573  703.0  201.0\n",
              "5   26  333  777    NaN    NaN\n",
              "6   21  282  821    NaN    NaN\n",
              "7   30  300  200  100.0  200.0\n",
              "8   40  400  300  150.0  240.0"
            ]
          },
          "metadata": {},
          "execution_count": 89
        }
      ]
    },
    {
      "cell_type": "markdown",
      "metadata": {
        "id": "HGvCLFgeQdxE"
      },
      "source": [
        "인덱스가 0부터 오름차순으로 부여됐지만 기존에 지정했던 'n월' 형식은 초기화됐습니다.  "
      ]
    },
    {
      "cell_type": "markdown",
      "metadata": {
        "id": "ql2oYVdoQrM1"
      },
      "source": [
        "만약 모든 열의 데이터를 합치지 않는다면 나머지 열의 데이터는 모두 `Nan`으로 표시됩니다."
      ]
    },
    {
      "cell_type": "code",
      "metadata": {
        "colab": {
          "base_uri": "https://localhost:8080/",
          "height": 327
        },
        "id": "KwjWSkpaQ2mm",
        "outputId": "5cb0f51c-2459-41e1-f5d1-794da0989850"
      },
      "source": [
        "df6 = pd.DataFrame({'배': [10, 20]})\n",
        "df4.append(df6, ignore_index=True)"
      ],
      "execution_count": 90,
      "outputs": [
        {
          "output_type": "execute_result",
          "data": {
            "text/html": [
              "<div>\n",
              "<style scoped>\n",
              "    .dataframe tbody tr th:only-of-type {\n",
              "        vertical-align: middle;\n",
              "    }\n",
              "\n",
              "    .dataframe tbody tr th {\n",
              "        vertical-align: top;\n",
              "    }\n",
              "\n",
              "    .dataframe thead th {\n",
              "        text-align: right;\n",
              "    }\n",
              "</style>\n",
              "<table border=\"1\" class=\"dataframe\">\n",
              "  <thead>\n",
              "    <tr style=\"text-align: right;\">\n",
              "      <th></th>\n",
              "      <th>배</th>\n",
              "      <th>사과</th>\n",
              "      <th>포도</th>\n",
              "      <th>딸기</th>\n",
              "      <th>복숭아</th>\n",
              "    </tr>\n",
              "  </thead>\n",
              "  <tbody>\n",
              "    <tr>\n",
              "      <th>0</th>\n",
              "      <td>102</td>\n",
              "      <td>332.0</td>\n",
              "      <td>402.0</td>\n",
              "      <td>756.0</td>\n",
              "      <td>32.0</td>\n",
              "    </tr>\n",
              "    <tr>\n",
              "      <th>1</th>\n",
              "      <td>99</td>\n",
              "      <td>392.0</td>\n",
              "      <td>497.0</td>\n",
              "      <td>741.0</td>\n",
              "      <td>70.0</td>\n",
              "    </tr>\n",
              "    <tr>\n",
              "      <th>2</th>\n",
              "      <td>80</td>\n",
              "      <td>391.0</td>\n",
              "      <td>306.0</td>\n",
              "      <td>794.0</td>\n",
              "      <td>26.0</td>\n",
              "    </tr>\n",
              "    <tr>\n",
              "      <th>3</th>\n",
              "      <td>30</td>\n",
              "      <td>295.0</td>\n",
              "      <td>681.0</td>\n",
              "      <td>772.0</td>\n",
              "      <td>154.0</td>\n",
              "    </tr>\n",
              "    <tr>\n",
              "      <th>4</th>\n",
              "      <td>143</td>\n",
              "      <td>374.0</td>\n",
              "      <td>573.0</td>\n",
              "      <td>703.0</td>\n",
              "      <td>201.0</td>\n",
              "    </tr>\n",
              "    <tr>\n",
              "      <th>5</th>\n",
              "      <td>26</td>\n",
              "      <td>333.0</td>\n",
              "      <td>777.0</td>\n",
              "      <td>NaN</td>\n",
              "      <td>NaN</td>\n",
              "    </tr>\n",
              "    <tr>\n",
              "      <th>6</th>\n",
              "      <td>21</td>\n",
              "      <td>282.0</td>\n",
              "      <td>821.0</td>\n",
              "      <td>NaN</td>\n",
              "      <td>NaN</td>\n",
              "    </tr>\n",
              "    <tr>\n",
              "      <th>7</th>\n",
              "      <td>10</td>\n",
              "      <td>NaN</td>\n",
              "      <td>NaN</td>\n",
              "      <td>NaN</td>\n",
              "      <td>NaN</td>\n",
              "    </tr>\n",
              "    <tr>\n",
              "      <th>8</th>\n",
              "      <td>20</td>\n",
              "      <td>NaN</td>\n",
              "      <td>NaN</td>\n",
              "      <td>NaN</td>\n",
              "      <td>NaN</td>\n",
              "    </tr>\n",
              "  </tbody>\n",
              "</table>\n",
              "</div>"
            ],
            "text/plain": [
              "     배     사과     포도     딸기    복숭아\n",
              "0  102  332.0  402.0  756.0   32.0\n",
              "1   99  392.0  497.0  741.0   70.0\n",
              "2   80  391.0  306.0  794.0   26.0\n",
              "3   30  295.0  681.0  772.0  154.0\n",
              "4  143  374.0  573.0  703.0  201.0\n",
              "5   26  333.0  777.0    NaN    NaN\n",
              "6   21  282.0  821.0    NaN    NaN\n",
              "7   10    NaN    NaN    NaN    NaN\n",
              "8   20    NaN    NaN    NaN    NaN"
            ]
          },
          "metadata": {},
          "execution_count": 90
        }
      ]
    },
    {
      "cell_type": "markdown",
      "metadata": {
        "id": "XmPh6Slgw4Dl"
      },
      "source": [
        "`concat()` 메서드를 사용하면 합집합을 기준으로 열 이름 배열이 추가됩니다. 매개변수 `join='outer'`가 기본값입니다. `append()` 메서드와 비슷합니다."
      ]
    },
    {
      "cell_type": "code",
      "metadata": {
        "colab": {
          "base_uri": "https://localhost:8080/",
          "height": 327
        },
        "id": "86rSAWB6xTcI",
        "outputId": "94359d53-a363-46a1-c1e6-31f7795ee732"
      },
      "source": [
        "pd.concat([df4, df5])"
      ],
      "execution_count": 91,
      "outputs": [
        {
          "output_type": "execute_result",
          "data": {
            "text/html": [
              "<div>\n",
              "<style scoped>\n",
              "    .dataframe tbody tr th:only-of-type {\n",
              "        vertical-align: middle;\n",
              "    }\n",
              "\n",
              "    .dataframe tbody tr th {\n",
              "        vertical-align: top;\n",
              "    }\n",
              "\n",
              "    .dataframe thead th {\n",
              "        text-align: right;\n",
              "    }\n",
              "</style>\n",
              "<table border=\"1\" class=\"dataframe\">\n",
              "  <thead>\n",
              "    <tr style=\"text-align: right;\">\n",
              "      <th></th>\n",
              "      <th>배</th>\n",
              "      <th>사과</th>\n",
              "      <th>포도</th>\n",
              "      <th>딸기</th>\n",
              "      <th>복숭아</th>\n",
              "    </tr>\n",
              "  </thead>\n",
              "  <tbody>\n",
              "    <tr>\n",
              "      <th>4월</th>\n",
              "      <td>102</td>\n",
              "      <td>332</td>\n",
              "      <td>402</td>\n",
              "      <td>756.0</td>\n",
              "      <td>32.0</td>\n",
              "    </tr>\n",
              "    <tr>\n",
              "      <th>5월</th>\n",
              "      <td>99</td>\n",
              "      <td>392</td>\n",
              "      <td>497</td>\n",
              "      <td>741.0</td>\n",
              "      <td>70.0</td>\n",
              "    </tr>\n",
              "    <tr>\n",
              "      <th>6월</th>\n",
              "      <td>80</td>\n",
              "      <td>391</td>\n",
              "      <td>306</td>\n",
              "      <td>794.0</td>\n",
              "      <td>26.0</td>\n",
              "    </tr>\n",
              "    <tr>\n",
              "      <th>7월</th>\n",
              "      <td>30</td>\n",
              "      <td>295</td>\n",
              "      <td>681</td>\n",
              "      <td>772.0</td>\n",
              "      <td>154.0</td>\n",
              "    </tr>\n",
              "    <tr>\n",
              "      <th>8월</th>\n",
              "      <td>143</td>\n",
              "      <td>374</td>\n",
              "      <td>573</td>\n",
              "      <td>703.0</td>\n",
              "      <td>201.0</td>\n",
              "    </tr>\n",
              "    <tr>\n",
              "      <th>9월</th>\n",
              "      <td>26</td>\n",
              "      <td>333</td>\n",
              "      <td>777</td>\n",
              "      <td>NaN</td>\n",
              "      <td>NaN</td>\n",
              "    </tr>\n",
              "    <tr>\n",
              "      <th>10월</th>\n",
              "      <td>21</td>\n",
              "      <td>282</td>\n",
              "      <td>821</td>\n",
              "      <td>NaN</td>\n",
              "      <td>NaN</td>\n",
              "    </tr>\n",
              "    <tr>\n",
              "      <th>0</th>\n",
              "      <td>30</td>\n",
              "      <td>300</td>\n",
              "      <td>200</td>\n",
              "      <td>100.0</td>\n",
              "      <td>200.0</td>\n",
              "    </tr>\n",
              "    <tr>\n",
              "      <th>1</th>\n",
              "      <td>40</td>\n",
              "      <td>400</td>\n",
              "      <td>300</td>\n",
              "      <td>150.0</td>\n",
              "      <td>240.0</td>\n",
              "    </tr>\n",
              "  </tbody>\n",
              "</table>\n",
              "</div>"
            ],
            "text/plain": [
              "       배   사과   포도     딸기    복숭아\n",
              "4월   102  332  402  756.0   32.0\n",
              "5월    99  392  497  741.0   70.0\n",
              "6월    80  391  306  794.0   26.0\n",
              "7월    30  295  681  772.0  154.0\n",
              "8월   143  374  573  703.0  201.0\n",
              "9월    26  333  777    NaN    NaN\n",
              "10월   21  282  821    NaN    NaN\n",
              "0     30  300  200  100.0  200.0\n",
              "1     40  400  300  150.0  240.0"
            ]
          },
          "metadata": {},
          "execution_count": 91
        }
      ]
    },
    {
      "cell_type": "markdown",
      "metadata": {
        "id": "cdXo8j2b0GOC"
      },
      "source": [
        "`ignore_index` 매개변수에 `True`를 인자로 전달하면 인덱스가 초기화되고 오름차순으로 부여됩니다."
      ]
    },
    {
      "cell_type": "code",
      "metadata": {
        "colab": {
          "base_uri": "https://localhost:8080/",
          "height": 327
        },
        "id": "NQPnMG9I0TV9",
        "outputId": "59c8f0dd-c2da-4c2e-a46c-63563721d925"
      },
      "source": [
        "pd.concat([df4, df5], ignore_index=True)"
      ],
      "execution_count": 92,
      "outputs": [
        {
          "output_type": "execute_result",
          "data": {
            "text/html": [
              "<div>\n",
              "<style scoped>\n",
              "    .dataframe tbody tr th:only-of-type {\n",
              "        vertical-align: middle;\n",
              "    }\n",
              "\n",
              "    .dataframe tbody tr th {\n",
              "        vertical-align: top;\n",
              "    }\n",
              "\n",
              "    .dataframe thead th {\n",
              "        text-align: right;\n",
              "    }\n",
              "</style>\n",
              "<table border=\"1\" class=\"dataframe\">\n",
              "  <thead>\n",
              "    <tr style=\"text-align: right;\">\n",
              "      <th></th>\n",
              "      <th>배</th>\n",
              "      <th>사과</th>\n",
              "      <th>포도</th>\n",
              "      <th>딸기</th>\n",
              "      <th>복숭아</th>\n",
              "    </tr>\n",
              "  </thead>\n",
              "  <tbody>\n",
              "    <tr>\n",
              "      <th>0</th>\n",
              "      <td>102</td>\n",
              "      <td>332</td>\n",
              "      <td>402</td>\n",
              "      <td>756.0</td>\n",
              "      <td>32.0</td>\n",
              "    </tr>\n",
              "    <tr>\n",
              "      <th>1</th>\n",
              "      <td>99</td>\n",
              "      <td>392</td>\n",
              "      <td>497</td>\n",
              "      <td>741.0</td>\n",
              "      <td>70.0</td>\n",
              "    </tr>\n",
              "    <tr>\n",
              "      <th>2</th>\n",
              "      <td>80</td>\n",
              "      <td>391</td>\n",
              "      <td>306</td>\n",
              "      <td>794.0</td>\n",
              "      <td>26.0</td>\n",
              "    </tr>\n",
              "    <tr>\n",
              "      <th>3</th>\n",
              "      <td>30</td>\n",
              "      <td>295</td>\n",
              "      <td>681</td>\n",
              "      <td>772.0</td>\n",
              "      <td>154.0</td>\n",
              "    </tr>\n",
              "    <tr>\n",
              "      <th>4</th>\n",
              "      <td>143</td>\n",
              "      <td>374</td>\n",
              "      <td>573</td>\n",
              "      <td>703.0</td>\n",
              "      <td>201.0</td>\n",
              "    </tr>\n",
              "    <tr>\n",
              "      <th>5</th>\n",
              "      <td>26</td>\n",
              "      <td>333</td>\n",
              "      <td>777</td>\n",
              "      <td>NaN</td>\n",
              "      <td>NaN</td>\n",
              "    </tr>\n",
              "    <tr>\n",
              "      <th>6</th>\n",
              "      <td>21</td>\n",
              "      <td>282</td>\n",
              "      <td>821</td>\n",
              "      <td>NaN</td>\n",
              "      <td>NaN</td>\n",
              "    </tr>\n",
              "    <tr>\n",
              "      <th>7</th>\n",
              "      <td>30</td>\n",
              "      <td>300</td>\n",
              "      <td>200</td>\n",
              "      <td>100.0</td>\n",
              "      <td>200.0</td>\n",
              "    </tr>\n",
              "    <tr>\n",
              "      <th>8</th>\n",
              "      <td>40</td>\n",
              "      <td>400</td>\n",
              "      <td>300</td>\n",
              "      <td>150.0</td>\n",
              "      <td>240.0</td>\n",
              "    </tr>\n",
              "  </tbody>\n",
              "</table>\n",
              "</div>"
            ],
            "text/plain": [
              "     배   사과   포도     딸기    복숭아\n",
              "0  102  332  402  756.0   32.0\n",
              "1   99  392  497  741.0   70.0\n",
              "2   80  391  306  794.0   26.0\n",
              "3   30  295  681  772.0  154.0\n",
              "4  143  374  573  703.0  201.0\n",
              "5   26  333  777    NaN    NaN\n",
              "6   21  282  821    NaN    NaN\n",
              "7   30  300  200  100.0  200.0\n",
              "8   40  400  300  150.0  240.0"
            ]
          },
          "metadata": {},
          "execution_count": 92
        }
      ]
    },
    {
      "cell_type": "markdown",
      "metadata": {
        "id": "tUwpav-q2b-h"
      },
      "source": [
        "`axis=1`로 지정하면 열(오른쪽)로 추가합니다."
      ]
    },
    {
      "cell_type": "code",
      "metadata": {
        "colab": {
          "base_uri": "https://localhost:8080/",
          "height": 327
        },
        "id": "jFx5WqwD0Z8d",
        "outputId": "16f34726-6bf7-4c67-82da-140d8d2a5468"
      },
      "source": [
        "pd.concat([df4, df5], axis=1)"
      ],
      "execution_count": 93,
      "outputs": [
        {
          "output_type": "execute_result",
          "data": {
            "text/html": [
              "<div>\n",
              "<style scoped>\n",
              "    .dataframe tbody tr th:only-of-type {\n",
              "        vertical-align: middle;\n",
              "    }\n",
              "\n",
              "    .dataframe tbody tr th {\n",
              "        vertical-align: top;\n",
              "    }\n",
              "\n",
              "    .dataframe thead th {\n",
              "        text-align: right;\n",
              "    }\n",
              "</style>\n",
              "<table border=\"1\" class=\"dataframe\">\n",
              "  <thead>\n",
              "    <tr style=\"text-align: right;\">\n",
              "      <th></th>\n",
              "      <th>배</th>\n",
              "      <th>사과</th>\n",
              "      <th>포도</th>\n",
              "      <th>딸기</th>\n",
              "      <th>복숭아</th>\n",
              "      <th>배</th>\n",
              "      <th>사과</th>\n",
              "      <th>포도</th>\n",
              "      <th>딸기</th>\n",
              "      <th>복숭아</th>\n",
              "    </tr>\n",
              "  </thead>\n",
              "  <tbody>\n",
              "    <tr>\n",
              "      <th>0</th>\n",
              "      <td>NaN</td>\n",
              "      <td>NaN</td>\n",
              "      <td>NaN</td>\n",
              "      <td>NaN</td>\n",
              "      <td>NaN</td>\n",
              "      <td>30.0</td>\n",
              "      <td>300.0</td>\n",
              "      <td>200.0</td>\n",
              "      <td>100.0</td>\n",
              "      <td>200.0</td>\n",
              "    </tr>\n",
              "    <tr>\n",
              "      <th>1</th>\n",
              "      <td>NaN</td>\n",
              "      <td>NaN</td>\n",
              "      <td>NaN</td>\n",
              "      <td>NaN</td>\n",
              "      <td>NaN</td>\n",
              "      <td>40.0</td>\n",
              "      <td>400.0</td>\n",
              "      <td>300.0</td>\n",
              "      <td>150.0</td>\n",
              "      <td>240.0</td>\n",
              "    </tr>\n",
              "    <tr>\n",
              "      <th>10월</th>\n",
              "      <td>21.0</td>\n",
              "      <td>282.0</td>\n",
              "      <td>821.0</td>\n",
              "      <td>NaN</td>\n",
              "      <td>NaN</td>\n",
              "      <td>NaN</td>\n",
              "      <td>NaN</td>\n",
              "      <td>NaN</td>\n",
              "      <td>NaN</td>\n",
              "      <td>NaN</td>\n",
              "    </tr>\n",
              "    <tr>\n",
              "      <th>4월</th>\n",
              "      <td>102.0</td>\n",
              "      <td>332.0</td>\n",
              "      <td>402.0</td>\n",
              "      <td>756.0</td>\n",
              "      <td>32.0</td>\n",
              "      <td>NaN</td>\n",
              "      <td>NaN</td>\n",
              "      <td>NaN</td>\n",
              "      <td>NaN</td>\n",
              "      <td>NaN</td>\n",
              "    </tr>\n",
              "    <tr>\n",
              "      <th>5월</th>\n",
              "      <td>99.0</td>\n",
              "      <td>392.0</td>\n",
              "      <td>497.0</td>\n",
              "      <td>741.0</td>\n",
              "      <td>70.0</td>\n",
              "      <td>NaN</td>\n",
              "      <td>NaN</td>\n",
              "      <td>NaN</td>\n",
              "      <td>NaN</td>\n",
              "      <td>NaN</td>\n",
              "    </tr>\n",
              "    <tr>\n",
              "      <th>6월</th>\n",
              "      <td>80.0</td>\n",
              "      <td>391.0</td>\n",
              "      <td>306.0</td>\n",
              "      <td>794.0</td>\n",
              "      <td>26.0</td>\n",
              "      <td>NaN</td>\n",
              "      <td>NaN</td>\n",
              "      <td>NaN</td>\n",
              "      <td>NaN</td>\n",
              "      <td>NaN</td>\n",
              "    </tr>\n",
              "    <tr>\n",
              "      <th>7월</th>\n",
              "      <td>30.0</td>\n",
              "      <td>295.0</td>\n",
              "      <td>681.0</td>\n",
              "      <td>772.0</td>\n",
              "      <td>154.0</td>\n",
              "      <td>NaN</td>\n",
              "      <td>NaN</td>\n",
              "      <td>NaN</td>\n",
              "      <td>NaN</td>\n",
              "      <td>NaN</td>\n",
              "    </tr>\n",
              "    <tr>\n",
              "      <th>8월</th>\n",
              "      <td>143.0</td>\n",
              "      <td>374.0</td>\n",
              "      <td>573.0</td>\n",
              "      <td>703.0</td>\n",
              "      <td>201.0</td>\n",
              "      <td>NaN</td>\n",
              "      <td>NaN</td>\n",
              "      <td>NaN</td>\n",
              "      <td>NaN</td>\n",
              "      <td>NaN</td>\n",
              "    </tr>\n",
              "    <tr>\n",
              "      <th>9월</th>\n",
              "      <td>26.0</td>\n",
              "      <td>333.0</td>\n",
              "      <td>777.0</td>\n",
              "      <td>NaN</td>\n",
              "      <td>NaN</td>\n",
              "      <td>NaN</td>\n",
              "      <td>NaN</td>\n",
              "      <td>NaN</td>\n",
              "      <td>NaN</td>\n",
              "      <td>NaN</td>\n",
              "    </tr>\n",
              "  </tbody>\n",
              "</table>\n",
              "</div>"
            ],
            "text/plain": [
              "         배     사과     포도     딸기    복숭아     배     사과     포도     딸기    복숭아\n",
              "0      NaN    NaN    NaN    NaN    NaN  30.0  300.0  200.0  100.0  200.0\n",
              "1      NaN    NaN    NaN    NaN    NaN  40.0  400.0  300.0  150.0  240.0\n",
              "10월   21.0  282.0  821.0    NaN    NaN   NaN    NaN    NaN    NaN    NaN\n",
              "4월   102.0  332.0  402.0  756.0   32.0   NaN    NaN    NaN    NaN    NaN\n",
              "5월    99.0  392.0  497.0  741.0   70.0   NaN    NaN    NaN    NaN    NaN\n",
              "6월    80.0  391.0  306.0  794.0   26.0   NaN    NaN    NaN    NaN    NaN\n",
              "7월    30.0  295.0  681.0  772.0  154.0   NaN    NaN    NaN    NaN    NaN\n",
              "8월   143.0  374.0  573.0  703.0  201.0   NaN    NaN    NaN    NaN    NaN\n",
              "9월    26.0  333.0  777.0    NaN    NaN   NaN    NaN    NaN    NaN    NaN"
            ]
          },
          "metadata": {},
          "execution_count": 93
        }
      ]
    },
    {
      "cell_type": "markdown",
      "metadata": {
        "id": "pPbbJbzD_cT-"
      },
      "source": [
        "`join` 매개변수에 `'inner'`를 인자로 전달하겠습니다. `axis=0`인 경우에는 공통된 열을 기준으로 교집합을 적용하고, `axis=1`인 경우에는 공통된 행 인덱스를 기준으로 교집합을 적용합니다."
      ]
    },
    {
      "cell_type": "code",
      "metadata": {
        "colab": {
          "base_uri": "https://localhost:8080/",
          "height": 327
        },
        "id": "EY1uQK4F_MaQ",
        "outputId": "52dd0873-0158-431e-8bbe-1a8c4e14fc9b"
      },
      "source": [
        "pd.concat([df4, df5], axis=0, join='inner')"
      ],
      "execution_count": 94,
      "outputs": [
        {
          "output_type": "execute_result",
          "data": {
            "text/html": [
              "<div>\n",
              "<style scoped>\n",
              "    .dataframe tbody tr th:only-of-type {\n",
              "        vertical-align: middle;\n",
              "    }\n",
              "\n",
              "    .dataframe tbody tr th {\n",
              "        vertical-align: top;\n",
              "    }\n",
              "\n",
              "    .dataframe thead th {\n",
              "        text-align: right;\n",
              "    }\n",
              "</style>\n",
              "<table border=\"1\" class=\"dataframe\">\n",
              "  <thead>\n",
              "    <tr style=\"text-align: right;\">\n",
              "      <th></th>\n",
              "      <th>배</th>\n",
              "      <th>사과</th>\n",
              "      <th>포도</th>\n",
              "      <th>딸기</th>\n",
              "      <th>복숭아</th>\n",
              "    </tr>\n",
              "  </thead>\n",
              "  <tbody>\n",
              "    <tr>\n",
              "      <th>4월</th>\n",
              "      <td>102</td>\n",
              "      <td>332</td>\n",
              "      <td>402</td>\n",
              "      <td>756.0</td>\n",
              "      <td>32.0</td>\n",
              "    </tr>\n",
              "    <tr>\n",
              "      <th>5월</th>\n",
              "      <td>99</td>\n",
              "      <td>392</td>\n",
              "      <td>497</td>\n",
              "      <td>741.0</td>\n",
              "      <td>70.0</td>\n",
              "    </tr>\n",
              "    <tr>\n",
              "      <th>6월</th>\n",
              "      <td>80</td>\n",
              "      <td>391</td>\n",
              "      <td>306</td>\n",
              "      <td>794.0</td>\n",
              "      <td>26.0</td>\n",
              "    </tr>\n",
              "    <tr>\n",
              "      <th>7월</th>\n",
              "      <td>30</td>\n",
              "      <td>295</td>\n",
              "      <td>681</td>\n",
              "      <td>772.0</td>\n",
              "      <td>154.0</td>\n",
              "    </tr>\n",
              "    <tr>\n",
              "      <th>8월</th>\n",
              "      <td>143</td>\n",
              "      <td>374</td>\n",
              "      <td>573</td>\n",
              "      <td>703.0</td>\n",
              "      <td>201.0</td>\n",
              "    </tr>\n",
              "    <tr>\n",
              "      <th>9월</th>\n",
              "      <td>26</td>\n",
              "      <td>333</td>\n",
              "      <td>777</td>\n",
              "      <td>NaN</td>\n",
              "      <td>NaN</td>\n",
              "    </tr>\n",
              "    <tr>\n",
              "      <th>10월</th>\n",
              "      <td>21</td>\n",
              "      <td>282</td>\n",
              "      <td>821</td>\n",
              "      <td>NaN</td>\n",
              "      <td>NaN</td>\n",
              "    </tr>\n",
              "    <tr>\n",
              "      <th>0</th>\n",
              "      <td>30</td>\n",
              "      <td>300</td>\n",
              "      <td>200</td>\n",
              "      <td>100.0</td>\n",
              "      <td>200.0</td>\n",
              "    </tr>\n",
              "    <tr>\n",
              "      <th>1</th>\n",
              "      <td>40</td>\n",
              "      <td>400</td>\n",
              "      <td>300</td>\n",
              "      <td>150.0</td>\n",
              "      <td>240.0</td>\n",
              "    </tr>\n",
              "  </tbody>\n",
              "</table>\n",
              "</div>"
            ],
            "text/plain": [
              "       배   사과   포도     딸기    복숭아\n",
              "4월   102  332  402  756.0   32.0\n",
              "5월    99  392  497  741.0   70.0\n",
              "6월    80  391  306  794.0   26.0\n",
              "7월    30  295  681  772.0  154.0\n",
              "8월   143  374  573  703.0  201.0\n",
              "9월    26  333  777    NaN    NaN\n",
              "10월   21  282  821    NaN    NaN\n",
              "0     30  300  200  100.0  200.0\n",
              "1     40  400  300  150.0  240.0"
            ]
          },
          "metadata": {},
          "execution_count": 94
        }
      ]
    },
    {
      "cell_type": "markdown",
      "metadata": {
        "id": "E1jIzFZuALAG"
      },
      "source": [
        "`axis=1`로 지정하겠습니다. `axis=1`이므로 행 인덱스를 기준으로 교집합을 적용합니다. 공통된 행 인덱스가 없으므로 아무 값도 추가되지 않습니다."
      ]
    },
    {
      "cell_type": "code",
      "metadata": {
        "colab": {
          "base_uri": "https://localhost:8080/",
          "height": 49
        },
        "id": "gj1v2dyq_-qD",
        "outputId": "1aa78f88-19aa-408f-a5e1-6c29d53a1a92"
      },
      "source": [
        "pd.concat([df4, df5], axis=1, join='inner')"
      ],
      "execution_count": 95,
      "outputs": [
        {
          "output_type": "execute_result",
          "data": {
            "text/html": [
              "<div>\n",
              "<style scoped>\n",
              "    .dataframe tbody tr th:only-of-type {\n",
              "        vertical-align: middle;\n",
              "    }\n",
              "\n",
              "    .dataframe tbody tr th {\n",
              "        vertical-align: top;\n",
              "    }\n",
              "\n",
              "    .dataframe thead th {\n",
              "        text-align: right;\n",
              "    }\n",
              "</style>\n",
              "<table border=\"1\" class=\"dataframe\">\n",
              "  <thead>\n",
              "    <tr style=\"text-align: right;\">\n",
              "      <th></th>\n",
              "      <th>배</th>\n",
              "      <th>사과</th>\n",
              "      <th>포도</th>\n",
              "      <th>딸기</th>\n",
              "      <th>복숭아</th>\n",
              "      <th>배</th>\n",
              "      <th>사과</th>\n",
              "      <th>포도</th>\n",
              "      <th>딸기</th>\n",
              "      <th>복숭아</th>\n",
              "    </tr>\n",
              "  </thead>\n",
              "  <tbody>\n",
              "  </tbody>\n",
              "</table>\n",
              "</div>"
            ],
            "text/plain": [
              "Empty DataFrame\n",
              "Columns: [배, 사과, 포도, 딸기, 복숭아, 배, 사과, 포도, 딸기, 복숭아]\n",
              "Index: []"
            ]
          },
          "metadata": {},
          "execution_count": 95
        }
      ]
    },
    {
      "cell_type": "markdown",
      "metadata": {
        "id": "-gtcW5DbAoYZ"
      },
      "source": [
        "예시를 들기 위해 `df4_test` 데이터프레임을 만듭니다. 인덱스명은 지정하지 않겠습니다."
      ]
    },
    {
      "cell_type": "code",
      "metadata": {
        "colab": {
          "base_uri": "https://localhost:8080/",
          "height": 265
        },
        "id": "Z1c32OmNAnG7",
        "outputId": "fe08345e-a8f1-466d-f76a-f5ba20f1ef72"
      },
      "source": [
        "dic_data5_noindex = {'사과': [332, 392, 391, 295, 374, 333, 282],\n",
        "             '배': [102, 99, 80, 30, 143, 26, 21],\n",
        "             '포도': [402, 497, 306, 681, 573, 777, 821],\n",
        "             '딸기': [756, 741, 794, 772, 703, np.nan, np.nan],\n",
        "             '복숭아': [32, 70, 26, 154, 201, np.nan, np.nan]}\n",
        "col_list2_noindex = ['배', '사과', '포도', '딸기', '복숭아']\n",
        "\n",
        "df4_noindex = pd.DataFrame(dic_data5_noindex, columns=col_list2_noindex)\n",
        "df4_noindex"
      ],
      "execution_count": 96,
      "outputs": [
        {
          "output_type": "execute_result",
          "data": {
            "text/html": [
              "<div>\n",
              "<style scoped>\n",
              "    .dataframe tbody tr th:only-of-type {\n",
              "        vertical-align: middle;\n",
              "    }\n",
              "\n",
              "    .dataframe tbody tr th {\n",
              "        vertical-align: top;\n",
              "    }\n",
              "\n",
              "    .dataframe thead th {\n",
              "        text-align: right;\n",
              "    }\n",
              "</style>\n",
              "<table border=\"1\" class=\"dataframe\">\n",
              "  <thead>\n",
              "    <tr style=\"text-align: right;\">\n",
              "      <th></th>\n",
              "      <th>배</th>\n",
              "      <th>사과</th>\n",
              "      <th>포도</th>\n",
              "      <th>딸기</th>\n",
              "      <th>복숭아</th>\n",
              "    </tr>\n",
              "  </thead>\n",
              "  <tbody>\n",
              "    <tr>\n",
              "      <th>0</th>\n",
              "      <td>102</td>\n",
              "      <td>332</td>\n",
              "      <td>402</td>\n",
              "      <td>756.0</td>\n",
              "      <td>32.0</td>\n",
              "    </tr>\n",
              "    <tr>\n",
              "      <th>1</th>\n",
              "      <td>99</td>\n",
              "      <td>392</td>\n",
              "      <td>497</td>\n",
              "      <td>741.0</td>\n",
              "      <td>70.0</td>\n",
              "    </tr>\n",
              "    <tr>\n",
              "      <th>2</th>\n",
              "      <td>80</td>\n",
              "      <td>391</td>\n",
              "      <td>306</td>\n",
              "      <td>794.0</td>\n",
              "      <td>26.0</td>\n",
              "    </tr>\n",
              "    <tr>\n",
              "      <th>3</th>\n",
              "      <td>30</td>\n",
              "      <td>295</td>\n",
              "      <td>681</td>\n",
              "      <td>772.0</td>\n",
              "      <td>154.0</td>\n",
              "    </tr>\n",
              "    <tr>\n",
              "      <th>4</th>\n",
              "      <td>143</td>\n",
              "      <td>374</td>\n",
              "      <td>573</td>\n",
              "      <td>703.0</td>\n",
              "      <td>201.0</td>\n",
              "    </tr>\n",
              "    <tr>\n",
              "      <th>5</th>\n",
              "      <td>26</td>\n",
              "      <td>333</td>\n",
              "      <td>777</td>\n",
              "      <td>NaN</td>\n",
              "      <td>NaN</td>\n",
              "    </tr>\n",
              "    <tr>\n",
              "      <th>6</th>\n",
              "      <td>21</td>\n",
              "      <td>282</td>\n",
              "      <td>821</td>\n",
              "      <td>NaN</td>\n",
              "      <td>NaN</td>\n",
              "    </tr>\n",
              "  </tbody>\n",
              "</table>\n",
              "</div>"
            ],
            "text/plain": [
              "     배   사과   포도     딸기    복숭아\n",
              "0  102  332  402  756.0   32.0\n",
              "1   99  392  497  741.0   70.0\n",
              "2   80  391  306  794.0   26.0\n",
              "3   30  295  681  772.0  154.0\n",
              "4  143  374  573  703.0  201.0\n",
              "5   26  333  777    NaN    NaN\n",
              "6   21  282  821    NaN    NaN"
            ]
          },
          "metadata": {},
          "execution_count": 96
        }
      ]
    },
    {
      "cell_type": "markdown",
      "metadata": {
        "id": "OHd2oU0SA9SU"
      },
      "source": [
        "다시 `axis=1`과 `join='inner'`를 지정합니다."
      ]
    },
    {
      "cell_type": "code",
      "metadata": {
        "colab": {
          "base_uri": "https://localhost:8080/",
          "height": 111
        },
        "id": "vm0tvPoeBGNL",
        "outputId": "22e73126-84c4-4f44-a2be-d10cde0166e8"
      },
      "source": [
        "pd.concat([df4_noindex, df5], axis=1, join='inner')"
      ],
      "execution_count": 97,
      "outputs": [
        {
          "output_type": "execute_result",
          "data": {
            "text/html": [
              "<div>\n",
              "<style scoped>\n",
              "    .dataframe tbody tr th:only-of-type {\n",
              "        vertical-align: middle;\n",
              "    }\n",
              "\n",
              "    .dataframe tbody tr th {\n",
              "        vertical-align: top;\n",
              "    }\n",
              "\n",
              "    .dataframe thead th {\n",
              "        text-align: right;\n",
              "    }\n",
              "</style>\n",
              "<table border=\"1\" class=\"dataframe\">\n",
              "  <thead>\n",
              "    <tr style=\"text-align: right;\">\n",
              "      <th></th>\n",
              "      <th>배</th>\n",
              "      <th>사과</th>\n",
              "      <th>포도</th>\n",
              "      <th>딸기</th>\n",
              "      <th>복숭아</th>\n",
              "      <th>배</th>\n",
              "      <th>사과</th>\n",
              "      <th>포도</th>\n",
              "      <th>딸기</th>\n",
              "      <th>복숭아</th>\n",
              "    </tr>\n",
              "  </thead>\n",
              "  <tbody>\n",
              "    <tr>\n",
              "      <th>0</th>\n",
              "      <td>102</td>\n",
              "      <td>332</td>\n",
              "      <td>402</td>\n",
              "      <td>756.0</td>\n",
              "      <td>32.0</td>\n",
              "      <td>30</td>\n",
              "      <td>300</td>\n",
              "      <td>200</td>\n",
              "      <td>100</td>\n",
              "      <td>200</td>\n",
              "    </tr>\n",
              "    <tr>\n",
              "      <th>1</th>\n",
              "      <td>99</td>\n",
              "      <td>392</td>\n",
              "      <td>497</td>\n",
              "      <td>741.0</td>\n",
              "      <td>70.0</td>\n",
              "      <td>40</td>\n",
              "      <td>400</td>\n",
              "      <td>300</td>\n",
              "      <td>150</td>\n",
              "      <td>240</td>\n",
              "    </tr>\n",
              "  </tbody>\n",
              "</table>\n",
              "</div>"
            ],
            "text/plain": [
              "     배   사과   포도     딸기   복숭아   배   사과   포도   딸기  복숭아\n",
              "0  102  332  402  756.0  32.0  30  300  200  100  200\n",
              "1   99  392  497  741.0  70.0  40  400  300  150  240"
            ]
          },
          "metadata": {},
          "execution_count": 97
        }
      ]
    },
    {
      "cell_type": "markdown",
      "metadata": {
        "id": "8uj56TTWLxbr"
      },
      "source": [
        "시리즈를 시리즈에, 시리즈를 데이터프레임에 합치겠습니다. 먼저 시리즈를 생성합니다."
      ]
    },
    {
      "cell_type": "code",
      "metadata": {
        "id": "3ri8r1SnL3Sz"
      },
      "source": [
        "test_series1 = pd.Series([11, 22], name='고추', index=[2, 3])\n",
        "test_series2 = pd.Series([33, 44, 55], name='배', index=[3, 4, 5])"
      ],
      "execution_count": 98,
      "outputs": []
    },
    {
      "cell_type": "markdown",
      "metadata": {
        "id": "BAP-R2m7Of_R"
      },
      "source": [
        "생성한 시리즈끼리 합치겠습니다."
      ]
    },
    {
      "cell_type": "code",
      "metadata": {
        "colab": {
          "base_uri": "https://localhost:8080/",
          "height": 172
        },
        "id": "u4Q5PqWrOjlN",
        "outputId": "f66543eb-55b0-459f-a857-d730f063ff2d"
      },
      "source": [
        "pd.concat([test_series1, test_series2], axis=1)"
      ],
      "execution_count": 99,
      "outputs": [
        {
          "output_type": "execute_result",
          "data": {
            "text/html": [
              "<div>\n",
              "<style scoped>\n",
              "    .dataframe tbody tr th:only-of-type {\n",
              "        vertical-align: middle;\n",
              "    }\n",
              "\n",
              "    .dataframe tbody tr th {\n",
              "        vertical-align: top;\n",
              "    }\n",
              "\n",
              "    .dataframe thead th {\n",
              "        text-align: right;\n",
              "    }\n",
              "</style>\n",
              "<table border=\"1\" class=\"dataframe\">\n",
              "  <thead>\n",
              "    <tr style=\"text-align: right;\">\n",
              "      <th></th>\n",
              "      <th>고추</th>\n",
              "      <th>배</th>\n",
              "    </tr>\n",
              "  </thead>\n",
              "  <tbody>\n",
              "    <tr>\n",
              "      <th>2</th>\n",
              "      <td>11.0</td>\n",
              "      <td>NaN</td>\n",
              "    </tr>\n",
              "    <tr>\n",
              "      <th>3</th>\n",
              "      <td>22.0</td>\n",
              "      <td>33.0</td>\n",
              "    </tr>\n",
              "    <tr>\n",
              "      <th>4</th>\n",
              "      <td>NaN</td>\n",
              "      <td>44.0</td>\n",
              "    </tr>\n",
              "    <tr>\n",
              "      <th>5</th>\n",
              "      <td>NaN</td>\n",
              "      <td>55.0</td>\n",
              "    </tr>\n",
              "  </tbody>\n",
              "</table>\n",
              "</div>"
            ],
            "text/plain": [
              "     고추     배\n",
              "2  11.0   NaN\n",
              "3  22.0  33.0\n",
              "4   NaN  44.0\n",
              "5   NaN  55.0"
            ]
          },
          "metadata": {},
          "execution_count": 99
        }
      ]
    },
    {
      "cell_type": "code",
      "metadata": {
        "colab": {
          "base_uri": "https://localhost:8080/",
          "height": 80
        },
        "id": "ClpAwx0hOuQv",
        "outputId": "3eb0cfd0-5e99-4a5a-dcc3-824b0ba12150"
      },
      "source": [
        "pd.concat([test_series1, test_series2], axis=1, join='inner')"
      ],
      "execution_count": 100,
      "outputs": [
        {
          "output_type": "execute_result",
          "data": {
            "text/html": [
              "<div>\n",
              "<style scoped>\n",
              "    .dataframe tbody tr th:only-of-type {\n",
              "        vertical-align: middle;\n",
              "    }\n",
              "\n",
              "    .dataframe tbody tr th {\n",
              "        vertical-align: top;\n",
              "    }\n",
              "\n",
              "    .dataframe thead th {\n",
              "        text-align: right;\n",
              "    }\n",
              "</style>\n",
              "<table border=\"1\" class=\"dataframe\">\n",
              "  <thead>\n",
              "    <tr style=\"text-align: right;\">\n",
              "      <th></th>\n",
              "      <th>고추</th>\n",
              "      <th>배</th>\n",
              "    </tr>\n",
              "  </thead>\n",
              "  <tbody>\n",
              "    <tr>\n",
              "      <th>3</th>\n",
              "      <td>22</td>\n",
              "      <td>33</td>\n",
              "    </tr>\n",
              "  </tbody>\n",
              "</table>\n",
              "</div>"
            ],
            "text/plain": [
              "   고추   배\n",
              "3  22  33"
            ]
          },
          "metadata": {},
          "execution_count": 100
        }
      ]
    },
    {
      "cell_type": "code",
      "metadata": {
        "colab": {
          "base_uri": "https://localhost:8080/"
        },
        "id": "RgI_aa_lOyzi",
        "outputId": "a2f5b970-028a-402e-b196-35c504a87047"
      },
      "source": [
        "pd.concat([test_series1, test_series2], axis=0)"
      ],
      "execution_count": 101,
      "outputs": [
        {
          "output_type": "execute_result",
          "data": {
            "text/plain": [
              "2    11\n",
              "3    22\n",
              "3    33\n",
              "4    44\n",
              "5    55\n",
              "dtype: int64"
            ]
          },
          "metadata": {},
          "execution_count": 101
        }
      ]
    },
    {
      "cell_type": "code",
      "metadata": {
        "colab": {
          "base_uri": "https://localhost:8080/"
        },
        "id": "A_NeX2cQO2MZ",
        "outputId": "d371e59c-ee17-4bdd-ba9e-52ed4453197f"
      },
      "source": [
        "pd.concat([test_series1, test_series2], axis=0, ignore_index=True)"
      ],
      "execution_count": 102,
      "outputs": [
        {
          "output_type": "execute_result",
          "data": {
            "text/plain": [
              "0    11\n",
              "1    22\n",
              "2    33\n",
              "3    44\n",
              "4    55\n",
              "dtype: int64"
            ]
          },
          "metadata": {},
          "execution_count": 102
        }
      ]
    },
    {
      "cell_type": "markdown",
      "metadata": {
        "id": "OSNE_cQfMVW-"
      },
      "source": [
        "생성한 시리즈를 데이터프레임에 합치겠습니다."
      ]
    },
    {
      "cell_type": "code",
      "metadata": {
        "colab": {
          "base_uri": "https://localhost:8080/",
          "height": 265
        },
        "id": "ZDON_Ja7Nd4d",
        "outputId": "731b72b7-46ab-40bd-9e02-0367b27481e7"
      },
      "source": [
        "pd.concat([df4_noindex, test_series1], axis=1)"
      ],
      "execution_count": 103,
      "outputs": [
        {
          "output_type": "execute_result",
          "data": {
            "text/html": [
              "<div>\n",
              "<style scoped>\n",
              "    .dataframe tbody tr th:only-of-type {\n",
              "        vertical-align: middle;\n",
              "    }\n",
              "\n",
              "    .dataframe tbody tr th {\n",
              "        vertical-align: top;\n",
              "    }\n",
              "\n",
              "    .dataframe thead th {\n",
              "        text-align: right;\n",
              "    }\n",
              "</style>\n",
              "<table border=\"1\" class=\"dataframe\">\n",
              "  <thead>\n",
              "    <tr style=\"text-align: right;\">\n",
              "      <th></th>\n",
              "      <th>배</th>\n",
              "      <th>사과</th>\n",
              "      <th>포도</th>\n",
              "      <th>딸기</th>\n",
              "      <th>복숭아</th>\n",
              "      <th>고추</th>\n",
              "    </tr>\n",
              "  </thead>\n",
              "  <tbody>\n",
              "    <tr>\n",
              "      <th>0</th>\n",
              "      <td>102</td>\n",
              "      <td>332</td>\n",
              "      <td>402</td>\n",
              "      <td>756.0</td>\n",
              "      <td>32.0</td>\n",
              "      <td>NaN</td>\n",
              "    </tr>\n",
              "    <tr>\n",
              "      <th>1</th>\n",
              "      <td>99</td>\n",
              "      <td>392</td>\n",
              "      <td>497</td>\n",
              "      <td>741.0</td>\n",
              "      <td>70.0</td>\n",
              "      <td>NaN</td>\n",
              "    </tr>\n",
              "    <tr>\n",
              "      <th>2</th>\n",
              "      <td>80</td>\n",
              "      <td>391</td>\n",
              "      <td>306</td>\n",
              "      <td>794.0</td>\n",
              "      <td>26.0</td>\n",
              "      <td>11.0</td>\n",
              "    </tr>\n",
              "    <tr>\n",
              "      <th>3</th>\n",
              "      <td>30</td>\n",
              "      <td>295</td>\n",
              "      <td>681</td>\n",
              "      <td>772.0</td>\n",
              "      <td>154.0</td>\n",
              "      <td>22.0</td>\n",
              "    </tr>\n",
              "    <tr>\n",
              "      <th>4</th>\n",
              "      <td>143</td>\n",
              "      <td>374</td>\n",
              "      <td>573</td>\n",
              "      <td>703.0</td>\n",
              "      <td>201.0</td>\n",
              "      <td>NaN</td>\n",
              "    </tr>\n",
              "    <tr>\n",
              "      <th>5</th>\n",
              "      <td>26</td>\n",
              "      <td>333</td>\n",
              "      <td>777</td>\n",
              "      <td>NaN</td>\n",
              "      <td>NaN</td>\n",
              "      <td>NaN</td>\n",
              "    </tr>\n",
              "    <tr>\n",
              "      <th>6</th>\n",
              "      <td>21</td>\n",
              "      <td>282</td>\n",
              "      <td>821</td>\n",
              "      <td>NaN</td>\n",
              "      <td>NaN</td>\n",
              "      <td>NaN</td>\n",
              "    </tr>\n",
              "  </tbody>\n",
              "</table>\n",
              "</div>"
            ],
            "text/plain": [
              "     배   사과   포도     딸기    복숭아    고추\n",
              "0  102  332  402  756.0   32.0   NaN\n",
              "1   99  392  497  741.0   70.0   NaN\n",
              "2   80  391  306  794.0   26.0  11.0\n",
              "3   30  295  681  772.0  154.0  22.0\n",
              "4  143  374  573  703.0  201.0   NaN\n",
              "5   26  333  777    NaN    NaN   NaN\n",
              "6   21  282  821    NaN    NaN   NaN"
            ]
          },
          "metadata": {},
          "execution_count": 103
        }
      ]
    },
    {
      "cell_type": "code",
      "metadata": {
        "colab": {
          "base_uri": "https://localhost:8080/",
          "height": 111
        },
        "id": "C38sEVqZMbwD",
        "outputId": "2edbc0c4-a472-49c4-c2b7-05dca37e9a91"
      },
      "source": [
        "pd.concat([df4_noindex, test_series1], axis=1, join='inner')"
      ],
      "execution_count": 104,
      "outputs": [
        {
          "output_type": "execute_result",
          "data": {
            "text/html": [
              "<div>\n",
              "<style scoped>\n",
              "    .dataframe tbody tr th:only-of-type {\n",
              "        vertical-align: middle;\n",
              "    }\n",
              "\n",
              "    .dataframe tbody tr th {\n",
              "        vertical-align: top;\n",
              "    }\n",
              "\n",
              "    .dataframe thead th {\n",
              "        text-align: right;\n",
              "    }\n",
              "</style>\n",
              "<table border=\"1\" class=\"dataframe\">\n",
              "  <thead>\n",
              "    <tr style=\"text-align: right;\">\n",
              "      <th></th>\n",
              "      <th>배</th>\n",
              "      <th>사과</th>\n",
              "      <th>포도</th>\n",
              "      <th>딸기</th>\n",
              "      <th>복숭아</th>\n",
              "      <th>고추</th>\n",
              "    </tr>\n",
              "  </thead>\n",
              "  <tbody>\n",
              "    <tr>\n",
              "      <th>2</th>\n",
              "      <td>80</td>\n",
              "      <td>391</td>\n",
              "      <td>306</td>\n",
              "      <td>794.0</td>\n",
              "      <td>26.0</td>\n",
              "      <td>11</td>\n",
              "    </tr>\n",
              "    <tr>\n",
              "      <th>3</th>\n",
              "      <td>30</td>\n",
              "      <td>295</td>\n",
              "      <td>681</td>\n",
              "      <td>772.0</td>\n",
              "      <td>154.0</td>\n",
              "      <td>22</td>\n",
              "    </tr>\n",
              "  </tbody>\n",
              "</table>\n",
              "</div>"
            ],
            "text/plain": [
              "    배   사과   포도     딸기    복숭아  고추\n",
              "2  80  391  306  794.0   26.0  11\n",
              "3  30  295  681  772.0  154.0  22"
            ]
          },
          "metadata": {},
          "execution_count": 104
        }
      ]
    },
    {
      "cell_type": "code",
      "metadata": {
        "colab": {
          "base_uri": "https://localhost:8080/",
          "height": 327
        },
        "id": "QbTqdbn9NiYU",
        "outputId": "580ecc8a-130e-45f0-dc3b-bf4c657483f7"
      },
      "source": [
        "pd.concat([df4_noindex, test_series1], axis=0)"
      ],
      "execution_count": 105,
      "outputs": [
        {
          "output_type": "execute_result",
          "data": {
            "text/html": [
              "<div>\n",
              "<style scoped>\n",
              "    .dataframe tbody tr th:only-of-type {\n",
              "        vertical-align: middle;\n",
              "    }\n",
              "\n",
              "    .dataframe tbody tr th {\n",
              "        vertical-align: top;\n",
              "    }\n",
              "\n",
              "    .dataframe thead th {\n",
              "        text-align: right;\n",
              "    }\n",
              "</style>\n",
              "<table border=\"1\" class=\"dataframe\">\n",
              "  <thead>\n",
              "    <tr style=\"text-align: right;\">\n",
              "      <th></th>\n",
              "      <th>0</th>\n",
              "      <th>딸기</th>\n",
              "      <th>배</th>\n",
              "      <th>복숭아</th>\n",
              "      <th>사과</th>\n",
              "      <th>포도</th>\n",
              "    </tr>\n",
              "  </thead>\n",
              "  <tbody>\n",
              "    <tr>\n",
              "      <th>0</th>\n",
              "      <td>NaN</td>\n",
              "      <td>756.0</td>\n",
              "      <td>102.0</td>\n",
              "      <td>32.0</td>\n",
              "      <td>332.0</td>\n",
              "      <td>402.0</td>\n",
              "    </tr>\n",
              "    <tr>\n",
              "      <th>1</th>\n",
              "      <td>NaN</td>\n",
              "      <td>741.0</td>\n",
              "      <td>99.0</td>\n",
              "      <td>70.0</td>\n",
              "      <td>392.0</td>\n",
              "      <td>497.0</td>\n",
              "    </tr>\n",
              "    <tr>\n",
              "      <th>2</th>\n",
              "      <td>NaN</td>\n",
              "      <td>794.0</td>\n",
              "      <td>80.0</td>\n",
              "      <td>26.0</td>\n",
              "      <td>391.0</td>\n",
              "      <td>306.0</td>\n",
              "    </tr>\n",
              "    <tr>\n",
              "      <th>3</th>\n",
              "      <td>NaN</td>\n",
              "      <td>772.0</td>\n",
              "      <td>30.0</td>\n",
              "      <td>154.0</td>\n",
              "      <td>295.0</td>\n",
              "      <td>681.0</td>\n",
              "    </tr>\n",
              "    <tr>\n",
              "      <th>4</th>\n",
              "      <td>NaN</td>\n",
              "      <td>703.0</td>\n",
              "      <td>143.0</td>\n",
              "      <td>201.0</td>\n",
              "      <td>374.0</td>\n",
              "      <td>573.0</td>\n",
              "    </tr>\n",
              "    <tr>\n",
              "      <th>5</th>\n",
              "      <td>NaN</td>\n",
              "      <td>NaN</td>\n",
              "      <td>26.0</td>\n",
              "      <td>NaN</td>\n",
              "      <td>333.0</td>\n",
              "      <td>777.0</td>\n",
              "    </tr>\n",
              "    <tr>\n",
              "      <th>6</th>\n",
              "      <td>NaN</td>\n",
              "      <td>NaN</td>\n",
              "      <td>21.0</td>\n",
              "      <td>NaN</td>\n",
              "      <td>282.0</td>\n",
              "      <td>821.0</td>\n",
              "    </tr>\n",
              "    <tr>\n",
              "      <th>2</th>\n",
              "      <td>11.0</td>\n",
              "      <td>NaN</td>\n",
              "      <td>NaN</td>\n",
              "      <td>NaN</td>\n",
              "      <td>NaN</td>\n",
              "      <td>NaN</td>\n",
              "    </tr>\n",
              "    <tr>\n",
              "      <th>3</th>\n",
              "      <td>22.0</td>\n",
              "      <td>NaN</td>\n",
              "      <td>NaN</td>\n",
              "      <td>NaN</td>\n",
              "      <td>NaN</td>\n",
              "      <td>NaN</td>\n",
              "    </tr>\n",
              "  </tbody>\n",
              "</table>\n",
              "</div>"
            ],
            "text/plain": [
              "      0     딸기      배    복숭아     사과     포도\n",
              "0   NaN  756.0  102.0   32.0  332.0  402.0\n",
              "1   NaN  741.0   99.0   70.0  392.0  497.0\n",
              "2   NaN  794.0   80.0   26.0  391.0  306.0\n",
              "3   NaN  772.0   30.0  154.0  295.0  681.0\n",
              "4   NaN  703.0  143.0  201.0  374.0  573.0\n",
              "5   NaN    NaN   26.0    NaN  333.0  777.0\n",
              "6   NaN    NaN   21.0    NaN  282.0  821.0\n",
              "2  11.0    NaN    NaN    NaN    NaN    NaN\n",
              "3  22.0    NaN    NaN    NaN    NaN    NaN"
            ]
          },
          "metadata": {},
          "execution_count": 105
        }
      ]
    },
    {
      "cell_type": "markdown",
      "metadata": {
        "id": "1A3vYfFtQqMZ"
      },
      "source": [
        "이제는 `join()` 메서드를 사용하여 데이터프레임을 오른쪽으로 붙이겠습니다. 이 메서드는 행 인덱스를 기준으로 데이터프레임을 결합합니다. 물론 열을 기준으로 결합하려면 `on=keys`로 매개변수를 지정하면 됩니다. \n",
        "\n",
        "새로운 열을 가진 데이터프레임 `df7`을 만들고 `df4`의 오른쪽에 붙이겠습니다."
      ]
    },
    {
      "cell_type": "code",
      "metadata": {
        "colab": {
          "base_uri": "https://localhost:8080/",
          "height": 172
        },
        "id": "AudCHdsPR7Tf",
        "outputId": "d85d8bd1-88b2-4bcd-b9d1-ffe64f328a88"
      },
      "source": [
        "df7 = pd.DataFrame({'바나나': [350, 240, 360, 380]})\n",
        "df7"
      ],
      "execution_count": 106,
      "outputs": [
        {
          "output_type": "execute_result",
          "data": {
            "text/html": [
              "<div>\n",
              "<style scoped>\n",
              "    .dataframe tbody tr th:only-of-type {\n",
              "        vertical-align: middle;\n",
              "    }\n",
              "\n",
              "    .dataframe tbody tr th {\n",
              "        vertical-align: top;\n",
              "    }\n",
              "\n",
              "    .dataframe thead th {\n",
              "        text-align: right;\n",
              "    }\n",
              "</style>\n",
              "<table border=\"1\" class=\"dataframe\">\n",
              "  <thead>\n",
              "    <tr style=\"text-align: right;\">\n",
              "      <th></th>\n",
              "      <th>바나나</th>\n",
              "    </tr>\n",
              "  </thead>\n",
              "  <tbody>\n",
              "    <tr>\n",
              "      <th>0</th>\n",
              "      <td>350</td>\n",
              "    </tr>\n",
              "    <tr>\n",
              "      <th>1</th>\n",
              "      <td>240</td>\n",
              "    </tr>\n",
              "    <tr>\n",
              "      <th>2</th>\n",
              "      <td>360</td>\n",
              "    </tr>\n",
              "    <tr>\n",
              "      <th>3</th>\n",
              "      <td>380</td>\n",
              "    </tr>\n",
              "  </tbody>\n",
              "</table>\n",
              "</div>"
            ],
            "text/plain": [
              "   바나나\n",
              "0  350\n",
              "1  240\n",
              "2  360\n",
              "3  380"
            ]
          },
          "metadata": {},
          "execution_count": 106
        }
      ]
    },
    {
      "cell_type": "code",
      "metadata": {
        "colab": {
          "base_uri": "https://localhost:8080/",
          "height": 265
        },
        "id": "nz-AFBUISLIA",
        "outputId": "23fef274-8d56-4f83-ecdf-964836bfe3bc"
      },
      "source": [
        "df4.join(df7)"
      ],
      "execution_count": 107,
      "outputs": [
        {
          "output_type": "execute_result",
          "data": {
            "text/html": [
              "<div>\n",
              "<style scoped>\n",
              "    .dataframe tbody tr th:only-of-type {\n",
              "        vertical-align: middle;\n",
              "    }\n",
              "\n",
              "    .dataframe tbody tr th {\n",
              "        vertical-align: top;\n",
              "    }\n",
              "\n",
              "    .dataframe thead th {\n",
              "        text-align: right;\n",
              "    }\n",
              "</style>\n",
              "<table border=\"1\" class=\"dataframe\">\n",
              "  <thead>\n",
              "    <tr style=\"text-align: right;\">\n",
              "      <th></th>\n",
              "      <th>배</th>\n",
              "      <th>사과</th>\n",
              "      <th>포도</th>\n",
              "      <th>딸기</th>\n",
              "      <th>복숭아</th>\n",
              "      <th>바나나</th>\n",
              "    </tr>\n",
              "  </thead>\n",
              "  <tbody>\n",
              "    <tr>\n",
              "      <th>4월</th>\n",
              "      <td>102</td>\n",
              "      <td>332</td>\n",
              "      <td>402</td>\n",
              "      <td>756.0</td>\n",
              "      <td>32.0</td>\n",
              "      <td>NaN</td>\n",
              "    </tr>\n",
              "    <tr>\n",
              "      <th>5월</th>\n",
              "      <td>99</td>\n",
              "      <td>392</td>\n",
              "      <td>497</td>\n",
              "      <td>741.0</td>\n",
              "      <td>70.0</td>\n",
              "      <td>NaN</td>\n",
              "    </tr>\n",
              "    <tr>\n",
              "      <th>6월</th>\n",
              "      <td>80</td>\n",
              "      <td>391</td>\n",
              "      <td>306</td>\n",
              "      <td>794.0</td>\n",
              "      <td>26.0</td>\n",
              "      <td>NaN</td>\n",
              "    </tr>\n",
              "    <tr>\n",
              "      <th>7월</th>\n",
              "      <td>30</td>\n",
              "      <td>295</td>\n",
              "      <td>681</td>\n",
              "      <td>772.0</td>\n",
              "      <td>154.0</td>\n",
              "      <td>NaN</td>\n",
              "    </tr>\n",
              "    <tr>\n",
              "      <th>8월</th>\n",
              "      <td>143</td>\n",
              "      <td>374</td>\n",
              "      <td>573</td>\n",
              "      <td>703.0</td>\n",
              "      <td>201.0</td>\n",
              "      <td>NaN</td>\n",
              "    </tr>\n",
              "    <tr>\n",
              "      <th>9월</th>\n",
              "      <td>26</td>\n",
              "      <td>333</td>\n",
              "      <td>777</td>\n",
              "      <td>NaN</td>\n",
              "      <td>NaN</td>\n",
              "      <td>NaN</td>\n",
              "    </tr>\n",
              "    <tr>\n",
              "      <th>10월</th>\n",
              "      <td>21</td>\n",
              "      <td>282</td>\n",
              "      <td>821</td>\n",
              "      <td>NaN</td>\n",
              "      <td>NaN</td>\n",
              "      <td>NaN</td>\n",
              "    </tr>\n",
              "  </tbody>\n",
              "</table>\n",
              "</div>"
            ],
            "text/plain": [
              "       배   사과   포도     딸기    복숭아  바나나\n",
              "4월   102  332  402  756.0   32.0  NaN\n",
              "5월    99  392  497  741.0   70.0  NaN\n",
              "6월    80  391  306  794.0   26.0  NaN\n",
              "7월    30  295  681  772.0  154.0  NaN\n",
              "8월   143  374  573  703.0  201.0  NaN\n",
              "9월    26  333  777    NaN    NaN  NaN\n",
              "10월   21  282  821    NaN    NaN  NaN"
            ]
          },
          "metadata": {},
          "execution_count": 107
        }
      ]
    },
    {
      "cell_type": "markdown",
      "metadata": {
        "id": "j3NfYUKcSfJD"
      },
      "source": [
        "`join()` 메서드는 인덱스가 일치하지 않으면 새로운 열을 통합할 수 없습니다. 인덱스가 일치하는 `df8`을 만들어서 합치겠습니다."
      ]
    },
    {
      "cell_type": "code",
      "metadata": {
        "colab": {
          "base_uri": "https://localhost:8080/",
          "height": 327
        },
        "id": "CIKDo-0VStjc",
        "outputId": "0f54b5a0-8a63-4d8c-849e-99b16c79f364"
      },
      "source": [
        "df8 = df4.append(df6, ignore_index=True)\n",
        "df8"
      ],
      "execution_count": 108,
      "outputs": [
        {
          "output_type": "execute_result",
          "data": {
            "text/html": [
              "<div>\n",
              "<style scoped>\n",
              "    .dataframe tbody tr th:only-of-type {\n",
              "        vertical-align: middle;\n",
              "    }\n",
              "\n",
              "    .dataframe tbody tr th {\n",
              "        vertical-align: top;\n",
              "    }\n",
              "\n",
              "    .dataframe thead th {\n",
              "        text-align: right;\n",
              "    }\n",
              "</style>\n",
              "<table border=\"1\" class=\"dataframe\">\n",
              "  <thead>\n",
              "    <tr style=\"text-align: right;\">\n",
              "      <th></th>\n",
              "      <th>배</th>\n",
              "      <th>사과</th>\n",
              "      <th>포도</th>\n",
              "      <th>딸기</th>\n",
              "      <th>복숭아</th>\n",
              "    </tr>\n",
              "  </thead>\n",
              "  <tbody>\n",
              "    <tr>\n",
              "      <th>0</th>\n",
              "      <td>102</td>\n",
              "      <td>332.0</td>\n",
              "      <td>402.0</td>\n",
              "      <td>756.0</td>\n",
              "      <td>32.0</td>\n",
              "    </tr>\n",
              "    <tr>\n",
              "      <th>1</th>\n",
              "      <td>99</td>\n",
              "      <td>392.0</td>\n",
              "      <td>497.0</td>\n",
              "      <td>741.0</td>\n",
              "      <td>70.0</td>\n",
              "    </tr>\n",
              "    <tr>\n",
              "      <th>2</th>\n",
              "      <td>80</td>\n",
              "      <td>391.0</td>\n",
              "      <td>306.0</td>\n",
              "      <td>794.0</td>\n",
              "      <td>26.0</td>\n",
              "    </tr>\n",
              "    <tr>\n",
              "      <th>3</th>\n",
              "      <td>30</td>\n",
              "      <td>295.0</td>\n",
              "      <td>681.0</td>\n",
              "      <td>772.0</td>\n",
              "      <td>154.0</td>\n",
              "    </tr>\n",
              "    <tr>\n",
              "      <th>4</th>\n",
              "      <td>143</td>\n",
              "      <td>374.0</td>\n",
              "      <td>573.0</td>\n",
              "      <td>703.0</td>\n",
              "      <td>201.0</td>\n",
              "    </tr>\n",
              "    <tr>\n",
              "      <th>5</th>\n",
              "      <td>26</td>\n",
              "      <td>333.0</td>\n",
              "      <td>777.0</td>\n",
              "      <td>NaN</td>\n",
              "      <td>NaN</td>\n",
              "    </tr>\n",
              "    <tr>\n",
              "      <th>6</th>\n",
              "      <td>21</td>\n",
              "      <td>282.0</td>\n",
              "      <td>821.0</td>\n",
              "      <td>NaN</td>\n",
              "      <td>NaN</td>\n",
              "    </tr>\n",
              "    <tr>\n",
              "      <th>7</th>\n",
              "      <td>10</td>\n",
              "      <td>NaN</td>\n",
              "      <td>NaN</td>\n",
              "      <td>NaN</td>\n",
              "      <td>NaN</td>\n",
              "    </tr>\n",
              "    <tr>\n",
              "      <th>8</th>\n",
              "      <td>20</td>\n",
              "      <td>NaN</td>\n",
              "      <td>NaN</td>\n",
              "      <td>NaN</td>\n",
              "      <td>NaN</td>\n",
              "    </tr>\n",
              "  </tbody>\n",
              "</table>\n",
              "</div>"
            ],
            "text/plain": [
              "     배     사과     포도     딸기    복숭아\n",
              "0  102  332.0  402.0  756.0   32.0\n",
              "1   99  392.0  497.0  741.0   70.0\n",
              "2   80  391.0  306.0  794.0   26.0\n",
              "3   30  295.0  681.0  772.0  154.0\n",
              "4  143  374.0  573.0  703.0  201.0\n",
              "5   26  333.0  777.0    NaN    NaN\n",
              "6   21  282.0  821.0    NaN    NaN\n",
              "7   10    NaN    NaN    NaN    NaN\n",
              "8   20    NaN    NaN    NaN    NaN"
            ]
          },
          "metadata": {},
          "execution_count": 108
        }
      ]
    },
    {
      "cell_type": "code",
      "metadata": {
        "colab": {
          "base_uri": "https://localhost:8080/",
          "height": 327
        },
        "id": "cW3aMbKuS0iQ",
        "outputId": "ccf85232-847c-4279-e806-96141af8f4e3"
      },
      "source": [
        "df8.join(df7)"
      ],
      "execution_count": 109,
      "outputs": [
        {
          "output_type": "execute_result",
          "data": {
            "text/html": [
              "<div>\n",
              "<style scoped>\n",
              "    .dataframe tbody tr th:only-of-type {\n",
              "        vertical-align: middle;\n",
              "    }\n",
              "\n",
              "    .dataframe tbody tr th {\n",
              "        vertical-align: top;\n",
              "    }\n",
              "\n",
              "    .dataframe thead th {\n",
              "        text-align: right;\n",
              "    }\n",
              "</style>\n",
              "<table border=\"1\" class=\"dataframe\">\n",
              "  <thead>\n",
              "    <tr style=\"text-align: right;\">\n",
              "      <th></th>\n",
              "      <th>배</th>\n",
              "      <th>사과</th>\n",
              "      <th>포도</th>\n",
              "      <th>딸기</th>\n",
              "      <th>복숭아</th>\n",
              "      <th>바나나</th>\n",
              "    </tr>\n",
              "  </thead>\n",
              "  <tbody>\n",
              "    <tr>\n",
              "      <th>0</th>\n",
              "      <td>102</td>\n",
              "      <td>332.0</td>\n",
              "      <td>402.0</td>\n",
              "      <td>756.0</td>\n",
              "      <td>32.0</td>\n",
              "      <td>350.0</td>\n",
              "    </tr>\n",
              "    <tr>\n",
              "      <th>1</th>\n",
              "      <td>99</td>\n",
              "      <td>392.0</td>\n",
              "      <td>497.0</td>\n",
              "      <td>741.0</td>\n",
              "      <td>70.0</td>\n",
              "      <td>240.0</td>\n",
              "    </tr>\n",
              "    <tr>\n",
              "      <th>2</th>\n",
              "      <td>80</td>\n",
              "      <td>391.0</td>\n",
              "      <td>306.0</td>\n",
              "      <td>794.0</td>\n",
              "      <td>26.0</td>\n",
              "      <td>360.0</td>\n",
              "    </tr>\n",
              "    <tr>\n",
              "      <th>3</th>\n",
              "      <td>30</td>\n",
              "      <td>295.0</td>\n",
              "      <td>681.0</td>\n",
              "      <td>772.0</td>\n",
              "      <td>154.0</td>\n",
              "      <td>380.0</td>\n",
              "    </tr>\n",
              "    <tr>\n",
              "      <th>4</th>\n",
              "      <td>143</td>\n",
              "      <td>374.0</td>\n",
              "      <td>573.0</td>\n",
              "      <td>703.0</td>\n",
              "      <td>201.0</td>\n",
              "      <td>NaN</td>\n",
              "    </tr>\n",
              "    <tr>\n",
              "      <th>5</th>\n",
              "      <td>26</td>\n",
              "      <td>333.0</td>\n",
              "      <td>777.0</td>\n",
              "      <td>NaN</td>\n",
              "      <td>NaN</td>\n",
              "      <td>NaN</td>\n",
              "    </tr>\n",
              "    <tr>\n",
              "      <th>6</th>\n",
              "      <td>21</td>\n",
              "      <td>282.0</td>\n",
              "      <td>821.0</td>\n",
              "      <td>NaN</td>\n",
              "      <td>NaN</td>\n",
              "      <td>NaN</td>\n",
              "    </tr>\n",
              "    <tr>\n",
              "      <th>7</th>\n",
              "      <td>10</td>\n",
              "      <td>NaN</td>\n",
              "      <td>NaN</td>\n",
              "      <td>NaN</td>\n",
              "      <td>NaN</td>\n",
              "      <td>NaN</td>\n",
              "    </tr>\n",
              "    <tr>\n",
              "      <th>8</th>\n",
              "      <td>20</td>\n",
              "      <td>NaN</td>\n",
              "      <td>NaN</td>\n",
              "      <td>NaN</td>\n",
              "      <td>NaN</td>\n",
              "      <td>NaN</td>\n",
              "    </tr>\n",
              "  </tbody>\n",
              "</table>\n",
              "</div>"
            ],
            "text/plain": [
              "     배     사과     포도     딸기    복숭아    바나나\n",
              "0  102  332.0  402.0  756.0   32.0  350.0\n",
              "1   99  392.0  497.0  741.0   70.0  240.0\n",
              "2   80  391.0  306.0  794.0   26.0  360.0\n",
              "3   30  295.0  681.0  772.0  154.0  380.0\n",
              "4  143  374.0  573.0  703.0  201.0    NaN\n",
              "5   26  333.0  777.0    NaN    NaN    NaN\n",
              "6   21  282.0  821.0    NaN    NaN    NaN\n",
              "7   10    NaN    NaN    NaN    NaN    NaN\n",
              "8   20    NaN    NaN    NaN    NaN    NaN"
            ]
          },
          "metadata": {},
          "execution_count": 109
        }
      ]
    },
    {
      "cell_type": "markdown",
      "metadata": {
        "id": "tiODLQx3S3sO"
      },
      "source": [
        "인덱스가 동일한 숫자에 맞춰서 바나나열이 추가됐습니다. 아래 데이터는 공백이므로 `NaN`으로 처리됐습니다. 다만 기존 데이터프레임의 인덱스를 유지하면서 데이터를 붙이고 싶으면 `index` 매개변수에 같은 인덱스를 지정하면 됩니다.\n",
        "\n",
        "먼저 `df4`를 띄우겠습니다."
      ]
    },
    {
      "cell_type": "code",
      "metadata": {
        "colab": {
          "base_uri": "https://localhost:8080/",
          "height": 265
        },
        "id": "1GKIjNStTfOJ",
        "outputId": "d5930680-47ed-42fb-e81c-f2de2dc55320"
      },
      "source": [
        "df4"
      ],
      "execution_count": 110,
      "outputs": [
        {
          "output_type": "execute_result",
          "data": {
            "text/html": [
              "<div>\n",
              "<style scoped>\n",
              "    .dataframe tbody tr th:only-of-type {\n",
              "        vertical-align: middle;\n",
              "    }\n",
              "\n",
              "    .dataframe tbody tr th {\n",
              "        vertical-align: top;\n",
              "    }\n",
              "\n",
              "    .dataframe thead th {\n",
              "        text-align: right;\n",
              "    }\n",
              "</style>\n",
              "<table border=\"1\" class=\"dataframe\">\n",
              "  <thead>\n",
              "    <tr style=\"text-align: right;\">\n",
              "      <th></th>\n",
              "      <th>배</th>\n",
              "      <th>사과</th>\n",
              "      <th>포도</th>\n",
              "      <th>딸기</th>\n",
              "      <th>복숭아</th>\n",
              "    </tr>\n",
              "  </thead>\n",
              "  <tbody>\n",
              "    <tr>\n",
              "      <th>4월</th>\n",
              "      <td>102</td>\n",
              "      <td>332</td>\n",
              "      <td>402</td>\n",
              "      <td>756.0</td>\n",
              "      <td>32.0</td>\n",
              "    </tr>\n",
              "    <tr>\n",
              "      <th>5월</th>\n",
              "      <td>99</td>\n",
              "      <td>392</td>\n",
              "      <td>497</td>\n",
              "      <td>741.0</td>\n",
              "      <td>70.0</td>\n",
              "    </tr>\n",
              "    <tr>\n",
              "      <th>6월</th>\n",
              "      <td>80</td>\n",
              "      <td>391</td>\n",
              "      <td>306</td>\n",
              "      <td>794.0</td>\n",
              "      <td>26.0</td>\n",
              "    </tr>\n",
              "    <tr>\n",
              "      <th>7월</th>\n",
              "      <td>30</td>\n",
              "      <td>295</td>\n",
              "      <td>681</td>\n",
              "      <td>772.0</td>\n",
              "      <td>154.0</td>\n",
              "    </tr>\n",
              "    <tr>\n",
              "      <th>8월</th>\n",
              "      <td>143</td>\n",
              "      <td>374</td>\n",
              "      <td>573</td>\n",
              "      <td>703.0</td>\n",
              "      <td>201.0</td>\n",
              "    </tr>\n",
              "    <tr>\n",
              "      <th>9월</th>\n",
              "      <td>26</td>\n",
              "      <td>333</td>\n",
              "      <td>777</td>\n",
              "      <td>NaN</td>\n",
              "      <td>NaN</td>\n",
              "    </tr>\n",
              "    <tr>\n",
              "      <th>10월</th>\n",
              "      <td>21</td>\n",
              "      <td>282</td>\n",
              "      <td>821</td>\n",
              "      <td>NaN</td>\n",
              "      <td>NaN</td>\n",
              "    </tr>\n",
              "  </tbody>\n",
              "</table>\n",
              "</div>"
            ],
            "text/plain": [
              "       배   사과   포도     딸기    복숭아\n",
              "4월   102  332  402  756.0   32.0\n",
              "5월    99  392  497  741.0   70.0\n",
              "6월    80  391  306  794.0   26.0\n",
              "7월    30  295  681  772.0  154.0\n",
              "8월   143  374  573  703.0  201.0\n",
              "9월    26  333  777    NaN    NaN\n",
              "10월   21  282  821    NaN    NaN"
            ]
          },
          "metadata": {},
          "execution_count": 110
        }
      ]
    },
    {
      "cell_type": "markdown",
      "metadata": {
        "id": "xEtUvCmHUbND"
      },
      "source": [
        "`df4`는 인덱스가 7개입니다. `df10`의 '바나나' 열 데이터는 4개뿐이므로 라벨을 4개만 남겨야 합니다."
      ]
    },
    {
      "cell_type": "code",
      "metadata": {
        "id": "H0OhiXB9TmPE"
      },
      "source": [
        "index4 = ['5월', '6월', '8월', '10월']\n",
        "df10 = pd.DataFrame({'바나나': [350, 240, 360, 380]}, index=index4)"
      ],
      "execution_count": 111,
      "outputs": []
    },
    {
      "cell_type": "markdown",
      "metadata": {
        "id": "zdKqMdEWUYLM"
      },
      "source": [
        "이제 둘을 합치겠습니다. 인덱스 라벨이 유지되면서 인덱스 라벨과 일치된 데이터만 추가됩니다."
      ]
    },
    {
      "cell_type": "code",
      "metadata": {
        "colab": {
          "base_uri": "https://localhost:8080/",
          "height": 265
        },
        "id": "lHQ7zbH_VET9",
        "outputId": "081c3e80-cff7-439a-a856-7ef5b7486887"
      },
      "source": [
        "df4.join(df10)"
      ],
      "execution_count": 112,
      "outputs": [
        {
          "output_type": "execute_result",
          "data": {
            "text/html": [
              "<div>\n",
              "<style scoped>\n",
              "    .dataframe tbody tr th:only-of-type {\n",
              "        vertical-align: middle;\n",
              "    }\n",
              "\n",
              "    .dataframe tbody tr th {\n",
              "        vertical-align: top;\n",
              "    }\n",
              "\n",
              "    .dataframe thead th {\n",
              "        text-align: right;\n",
              "    }\n",
              "</style>\n",
              "<table border=\"1\" class=\"dataframe\">\n",
              "  <thead>\n",
              "    <tr style=\"text-align: right;\">\n",
              "      <th></th>\n",
              "      <th>배</th>\n",
              "      <th>사과</th>\n",
              "      <th>포도</th>\n",
              "      <th>딸기</th>\n",
              "      <th>복숭아</th>\n",
              "      <th>바나나</th>\n",
              "    </tr>\n",
              "  </thead>\n",
              "  <tbody>\n",
              "    <tr>\n",
              "      <th>4월</th>\n",
              "      <td>102</td>\n",
              "      <td>332</td>\n",
              "      <td>402</td>\n",
              "      <td>756.0</td>\n",
              "      <td>32.0</td>\n",
              "      <td>NaN</td>\n",
              "    </tr>\n",
              "    <tr>\n",
              "      <th>5월</th>\n",
              "      <td>99</td>\n",
              "      <td>392</td>\n",
              "      <td>497</td>\n",
              "      <td>741.0</td>\n",
              "      <td>70.0</td>\n",
              "      <td>350.0</td>\n",
              "    </tr>\n",
              "    <tr>\n",
              "      <th>6월</th>\n",
              "      <td>80</td>\n",
              "      <td>391</td>\n",
              "      <td>306</td>\n",
              "      <td>794.0</td>\n",
              "      <td>26.0</td>\n",
              "      <td>240.0</td>\n",
              "    </tr>\n",
              "    <tr>\n",
              "      <th>7월</th>\n",
              "      <td>30</td>\n",
              "      <td>295</td>\n",
              "      <td>681</td>\n",
              "      <td>772.0</td>\n",
              "      <td>154.0</td>\n",
              "      <td>NaN</td>\n",
              "    </tr>\n",
              "    <tr>\n",
              "      <th>8월</th>\n",
              "      <td>143</td>\n",
              "      <td>374</td>\n",
              "      <td>573</td>\n",
              "      <td>703.0</td>\n",
              "      <td>201.0</td>\n",
              "      <td>360.0</td>\n",
              "    </tr>\n",
              "    <tr>\n",
              "      <th>9월</th>\n",
              "      <td>26</td>\n",
              "      <td>333</td>\n",
              "      <td>777</td>\n",
              "      <td>NaN</td>\n",
              "      <td>NaN</td>\n",
              "      <td>NaN</td>\n",
              "    </tr>\n",
              "    <tr>\n",
              "      <th>10월</th>\n",
              "      <td>21</td>\n",
              "      <td>282</td>\n",
              "      <td>821</td>\n",
              "      <td>NaN</td>\n",
              "      <td>NaN</td>\n",
              "      <td>380.0</td>\n",
              "    </tr>\n",
              "  </tbody>\n",
              "</table>\n",
              "</div>"
            ],
            "text/plain": [
              "       배   사과   포도     딸기    복숭아    바나나\n",
              "4월   102  332  402  756.0   32.0    NaN\n",
              "5월    99  392  497  741.0   70.0  350.0\n",
              "6월    80  391  306  794.0   26.0  240.0\n",
              "7월    30  295  681  772.0  154.0    NaN\n",
              "8월   143  374  573  703.0  201.0  360.0\n",
              "9월    26  333  777    NaN    NaN    NaN\n",
              "10월   21  282  821    NaN    NaN  380.0"
            ]
          },
          "metadata": {},
          "execution_count": 112
        }
      ]
    },
    {
      "cell_type": "markdown",
      "metadata": {
        "id": "4lva5DP6vN8m"
      },
      "source": [
        "`how='inner'`로 매개변수를 설정하면 데이터프레임에 공통되는 행 인덱스만 기준으로 추출합니다."
      ]
    },
    {
      "cell_type": "code",
      "metadata": {
        "colab": {
          "base_uri": "https://localhost:8080/",
          "height": 172
        },
        "id": "oh_BVfGgvc02",
        "outputId": "02169ca4-f513-4f81-8395-1f20d2158a76"
      },
      "source": [
        "df4.join(df10, how='inner')"
      ],
      "execution_count": 113,
      "outputs": [
        {
          "output_type": "execute_result",
          "data": {
            "text/html": [
              "<div>\n",
              "<style scoped>\n",
              "    .dataframe tbody tr th:only-of-type {\n",
              "        vertical-align: middle;\n",
              "    }\n",
              "\n",
              "    .dataframe tbody tr th {\n",
              "        vertical-align: top;\n",
              "    }\n",
              "\n",
              "    .dataframe thead th {\n",
              "        text-align: right;\n",
              "    }\n",
              "</style>\n",
              "<table border=\"1\" class=\"dataframe\">\n",
              "  <thead>\n",
              "    <tr style=\"text-align: right;\">\n",
              "      <th></th>\n",
              "      <th>배</th>\n",
              "      <th>사과</th>\n",
              "      <th>포도</th>\n",
              "      <th>딸기</th>\n",
              "      <th>복숭아</th>\n",
              "      <th>바나나</th>\n",
              "    </tr>\n",
              "  </thead>\n",
              "  <tbody>\n",
              "    <tr>\n",
              "      <th>5월</th>\n",
              "      <td>99</td>\n",
              "      <td>392</td>\n",
              "      <td>497</td>\n",
              "      <td>741.0</td>\n",
              "      <td>70.0</td>\n",
              "      <td>350</td>\n",
              "    </tr>\n",
              "    <tr>\n",
              "      <th>6월</th>\n",
              "      <td>80</td>\n",
              "      <td>391</td>\n",
              "      <td>306</td>\n",
              "      <td>794.0</td>\n",
              "      <td>26.0</td>\n",
              "      <td>240</td>\n",
              "    </tr>\n",
              "    <tr>\n",
              "      <th>8월</th>\n",
              "      <td>143</td>\n",
              "      <td>374</td>\n",
              "      <td>573</td>\n",
              "      <td>703.0</td>\n",
              "      <td>201.0</td>\n",
              "      <td>360</td>\n",
              "    </tr>\n",
              "    <tr>\n",
              "      <th>10월</th>\n",
              "      <td>21</td>\n",
              "      <td>282</td>\n",
              "      <td>821</td>\n",
              "      <td>NaN</td>\n",
              "      <td>NaN</td>\n",
              "      <td>380</td>\n",
              "    </tr>\n",
              "  </tbody>\n",
              "</table>\n",
              "</div>"
            ],
            "text/plain": [
              "       배   사과   포도     딸기    복숭아  바나나\n",
              "5월    99  392  497  741.0   70.0  350\n",
              "6월    80  391  306  794.0   26.0  240\n",
              "8월   143  374  573  703.0  201.0  360\n",
              "10월   21  282  821    NaN    NaN  380"
            ]
          },
          "metadata": {},
          "execution_count": 113
        }
      ]
    },
    {
      "cell_type": "markdown",
      "metadata": {
        "id": "UtTptZwEVwdN"
      },
      "source": [
        "`merge()` 함수를 사용하면 특정한 열을 기준으로 데이터를 붙일 방향을 설정해서 데이터를 붙일 수 있습니다. 매개변수 `on`의 기본값은 `None`이며 두 데이터프레임에 공통으로 존재하는 모든 열을 기준으로 합칩니다. 매개변수 `how`의 기본값은 `inner`이며 기준이 되는 열의 데이터가 양쪽 데이터프레임에 공통으로 존재하는 경우에만 추출합니다. 아래에서 매개변수 `how`에 대해 다시 설명하겠습니다.\n",
        "\n",
        "먼저 방향을 설정하지 않고 기본값인 오른쪽으로 데이터를 합치겠습니다. 새로운 데이터프레임인 `df11`을 생성합니다."
      ]
    },
    {
      "cell_type": "code",
      "metadata": {
        "colab": {
          "base_uri": "https://localhost:8080/",
          "height": 141
        },
        "id": "RSMUaGTObkRR",
        "outputId": "6d1ea80f-4a9b-474d-aab3-fd062dfc83e4"
      },
      "source": [
        "df11 = pd.DataFrame({'판매점': ['SKT', 'KT', 'LG'],\n",
        "                            '휴대폰': [100, 200, 300],\n",
        "                            '집전화': [10, 20, 30]})\n",
        "df11"
      ],
      "execution_count": 114,
      "outputs": [
        {
          "output_type": "execute_result",
          "data": {
            "text/html": [
              "<div>\n",
              "<style scoped>\n",
              "    .dataframe tbody tr th:only-of-type {\n",
              "        vertical-align: middle;\n",
              "    }\n",
              "\n",
              "    .dataframe tbody tr th {\n",
              "        vertical-align: top;\n",
              "    }\n",
              "\n",
              "    .dataframe thead th {\n",
              "        text-align: right;\n",
              "    }\n",
              "</style>\n",
              "<table border=\"1\" class=\"dataframe\">\n",
              "  <thead>\n",
              "    <tr style=\"text-align: right;\">\n",
              "      <th></th>\n",
              "      <th>판매점</th>\n",
              "      <th>휴대폰</th>\n",
              "      <th>집전화</th>\n",
              "    </tr>\n",
              "  </thead>\n",
              "  <tbody>\n",
              "    <tr>\n",
              "      <th>0</th>\n",
              "      <td>SKT</td>\n",
              "      <td>100</td>\n",
              "      <td>10</td>\n",
              "    </tr>\n",
              "    <tr>\n",
              "      <th>1</th>\n",
              "      <td>KT</td>\n",
              "      <td>200</td>\n",
              "      <td>20</td>\n",
              "    </tr>\n",
              "    <tr>\n",
              "      <th>2</th>\n",
              "      <td>LG</td>\n",
              "      <td>300</td>\n",
              "      <td>30</td>\n",
              "    </tr>\n",
              "  </tbody>\n",
              "</table>\n",
              "</div>"
            ],
            "text/plain": [
              "   판매점  휴대폰  집전화\n",
              "0  SKT  100   10\n",
              "1   KT  200   20\n",
              "2   LG  300   30"
            ]
          },
          "metadata": {},
          "execution_count": 114
        }
      ]
    },
    {
      "cell_type": "markdown",
      "metadata": {
        "id": "aPWGewWGcqiJ"
      },
      "source": [
        "`df11`에 붙일 데이터프레임인 `df12`를 생성하겠습니다."
      ]
    },
    {
      "cell_type": "code",
      "metadata": {
        "colab": {
          "base_uri": "https://localhost:8080/",
          "height": 141
        },
        "id": "lURO9BsScw5G",
        "outputId": "ec3de081-19f9-4d2f-dc95-b08afdd22d93"
      },
      "source": [
        "df12 = pd.DataFrame({'판매점': ['SKT', 'KT', 'LG'],\n",
        "                            '인터넷': [11, 22, 33]})\n",
        "df12"
      ],
      "execution_count": 115,
      "outputs": [
        {
          "output_type": "execute_result",
          "data": {
            "text/html": [
              "<div>\n",
              "<style scoped>\n",
              "    .dataframe tbody tr th:only-of-type {\n",
              "        vertical-align: middle;\n",
              "    }\n",
              "\n",
              "    .dataframe tbody tr th {\n",
              "        vertical-align: top;\n",
              "    }\n",
              "\n",
              "    .dataframe thead th {\n",
              "        text-align: right;\n",
              "    }\n",
              "</style>\n",
              "<table border=\"1\" class=\"dataframe\">\n",
              "  <thead>\n",
              "    <tr style=\"text-align: right;\">\n",
              "      <th></th>\n",
              "      <th>판매점</th>\n",
              "      <th>인터넷</th>\n",
              "    </tr>\n",
              "  </thead>\n",
              "  <tbody>\n",
              "    <tr>\n",
              "      <th>0</th>\n",
              "      <td>SKT</td>\n",
              "      <td>11</td>\n",
              "    </tr>\n",
              "    <tr>\n",
              "      <th>1</th>\n",
              "      <td>KT</td>\n",
              "      <td>22</td>\n",
              "    </tr>\n",
              "    <tr>\n",
              "      <th>2</th>\n",
              "      <td>LG</td>\n",
              "      <td>33</td>\n",
              "    </tr>\n",
              "  </tbody>\n",
              "</table>\n",
              "</div>"
            ],
            "text/plain": [
              "   판매점  인터넷\n",
              "0  SKT   11\n",
              "1   KT   22\n",
              "2   LG   33"
            ]
          },
          "metadata": {},
          "execution_count": 115
        }
      ]
    },
    {
      "cell_type": "markdown",
      "metadata": {
        "id": "Js-7uDnsc-45"
      },
      "source": [
        "두 데이터프레임을 붙이겠습니다."
      ]
    },
    {
      "cell_type": "code",
      "metadata": {
        "colab": {
          "base_uri": "https://localhost:8080/",
          "height": 141
        },
        "id": "EnvvaNuJdBVf",
        "outputId": "bde41587-fd49-4d34-a5f5-555e50551f81"
      },
      "source": [
        "df11.merge(df12)"
      ],
      "execution_count": 116,
      "outputs": [
        {
          "output_type": "execute_result",
          "data": {
            "text/html": [
              "<div>\n",
              "<style scoped>\n",
              "    .dataframe tbody tr th:only-of-type {\n",
              "        vertical-align: middle;\n",
              "    }\n",
              "\n",
              "    .dataframe tbody tr th {\n",
              "        vertical-align: top;\n",
              "    }\n",
              "\n",
              "    .dataframe thead th {\n",
              "        text-align: right;\n",
              "    }\n",
              "</style>\n",
              "<table border=\"1\" class=\"dataframe\">\n",
              "  <thead>\n",
              "    <tr style=\"text-align: right;\">\n",
              "      <th></th>\n",
              "      <th>판매점</th>\n",
              "      <th>휴대폰</th>\n",
              "      <th>집전화</th>\n",
              "      <th>인터넷</th>\n",
              "    </tr>\n",
              "  </thead>\n",
              "  <tbody>\n",
              "    <tr>\n",
              "      <th>0</th>\n",
              "      <td>SKT</td>\n",
              "      <td>100</td>\n",
              "      <td>10</td>\n",
              "      <td>11</td>\n",
              "    </tr>\n",
              "    <tr>\n",
              "      <th>1</th>\n",
              "      <td>KT</td>\n",
              "      <td>200</td>\n",
              "      <td>20</td>\n",
              "      <td>22</td>\n",
              "    </tr>\n",
              "    <tr>\n",
              "      <th>2</th>\n",
              "      <td>LG</td>\n",
              "      <td>300</td>\n",
              "      <td>30</td>\n",
              "      <td>33</td>\n",
              "    </tr>\n",
              "  </tbody>\n",
              "</table>\n",
              "</div>"
            ],
            "text/plain": [
              "   판매점  휴대폰  집전화  인터넷\n",
              "0  SKT  100   10   11\n",
              "1   KT  200   20   22\n",
              "2   LG  300   30   33"
            ]
          },
          "metadata": {},
          "execution_count": 116
        }
      ]
    },
    {
      "cell_type": "markdown",
      "metadata": {
        "id": "nI5Q7GNHdIQd"
      },
      "source": [
        "위 두 데이터프레임은 '판매점' 열이 동일하여 손쉽게 통합됐습니다. 반대로 특정한 열을 기준으로 데이터의 일부만 공통된다면 `merge()` 함수에 매개변수를 전달해야 합니다. 이에 해당하는 매개변수는 통합하는 방법을 지정하는 `how`와 통합 기준 열을 지정하는 `on`입니다.\n",
        "\n",
        "아래는 매개변수 `how`에 대한 값 목록입니다.\n",
        "\n",
        "- `left`: 왼쪽 데이터는 모두 선택하고, 지정한 열의 값에 데이터가 있는 오른쪽 데이터를 선택합니다.\n",
        "\n",
        "- `right`: 오른쪽 데이터는 모두 선택하고, 지정한 열의 값에 데이터가 있는 왼쪽 데이터를 선택합니다.\n",
        "\n",
        "- `inner`: 지정한 열을 기준으로 왼쪽과 오른쪽 데이터 중에 공통되는 데이터만 선택합니다. 기본값입니다.\n",
        "\n",
        "- `outer`: 지정한 열을 기준으로 왼쪽과 오른쪽 데이터 모두를 선택합니다."
      ]
    },
    {
      "cell_type": "markdown",
      "metadata": {
        "id": "i3ct1V4ony8n"
      },
      "source": [
        "매개변수에 대한 예시를 들겠습니다. 새로운 데이터프레임을 생성하겠습니다."
      ]
    },
    {
      "cell_type": "code",
      "metadata": {
        "colab": {
          "base_uri": "https://localhost:8080/",
          "height": 141
        },
        "id": "3RSOnOagpx7X",
        "outputId": "be511e4d-086e-492f-ce1e-162aee7b6237"
      },
      "source": [
        "df_seoul = pd.DataFrame({'기준': ['사과', '포도', '오이'],\n",
        "                               '서울': [1, 2, 3]})\n",
        "df_seoul"
      ],
      "execution_count": 117,
      "outputs": [
        {
          "output_type": "execute_result",
          "data": {
            "text/html": [
              "<div>\n",
              "<style scoped>\n",
              "    .dataframe tbody tr th:only-of-type {\n",
              "        vertical-align: middle;\n",
              "    }\n",
              "\n",
              "    .dataframe tbody tr th {\n",
              "        vertical-align: top;\n",
              "    }\n",
              "\n",
              "    .dataframe thead th {\n",
              "        text-align: right;\n",
              "    }\n",
              "</style>\n",
              "<table border=\"1\" class=\"dataframe\">\n",
              "  <thead>\n",
              "    <tr style=\"text-align: right;\">\n",
              "      <th></th>\n",
              "      <th>기준</th>\n",
              "      <th>서울</th>\n",
              "    </tr>\n",
              "  </thead>\n",
              "  <tbody>\n",
              "    <tr>\n",
              "      <th>0</th>\n",
              "      <td>사과</td>\n",
              "      <td>1</td>\n",
              "    </tr>\n",
              "    <tr>\n",
              "      <th>1</th>\n",
              "      <td>포도</td>\n",
              "      <td>2</td>\n",
              "    </tr>\n",
              "    <tr>\n",
              "      <th>2</th>\n",
              "      <td>오이</td>\n",
              "      <td>3</td>\n",
              "    </tr>\n",
              "  </tbody>\n",
              "</table>\n",
              "</div>"
            ],
            "text/plain": [
              "   기준  서울\n",
              "0  사과   1\n",
              "1  포도   2\n",
              "2  오이   3"
            ]
          },
          "metadata": {},
          "execution_count": 117
        }
      ]
    },
    {
      "cell_type": "code",
      "metadata": {
        "colab": {
          "base_uri": "https://localhost:8080/",
          "height": 141
        },
        "id": "gEXLdF3dvGGk",
        "outputId": "c413d8ee-8bb4-4287-d626-7a0874d1577f"
      },
      "source": [
        "df_gyeonggi = pd.DataFrame({'기준': ['사과', '포도', '가지'],\n",
        "                                '경기': [7, 8, 9]})\n",
        "df_gyeonggi"
      ],
      "execution_count": 118,
      "outputs": [
        {
          "output_type": "execute_result",
          "data": {
            "text/html": [
              "<div>\n",
              "<style scoped>\n",
              "    .dataframe tbody tr th:only-of-type {\n",
              "        vertical-align: middle;\n",
              "    }\n",
              "\n",
              "    .dataframe tbody tr th {\n",
              "        vertical-align: top;\n",
              "    }\n",
              "\n",
              "    .dataframe thead th {\n",
              "        text-align: right;\n",
              "    }\n",
              "</style>\n",
              "<table border=\"1\" class=\"dataframe\">\n",
              "  <thead>\n",
              "    <tr style=\"text-align: right;\">\n",
              "      <th></th>\n",
              "      <th>기준</th>\n",
              "      <th>경기</th>\n",
              "    </tr>\n",
              "  </thead>\n",
              "  <tbody>\n",
              "    <tr>\n",
              "      <th>0</th>\n",
              "      <td>사과</td>\n",
              "      <td>7</td>\n",
              "    </tr>\n",
              "    <tr>\n",
              "      <th>1</th>\n",
              "      <td>포도</td>\n",
              "      <td>8</td>\n",
              "    </tr>\n",
              "    <tr>\n",
              "      <th>2</th>\n",
              "      <td>가지</td>\n",
              "      <td>9</td>\n",
              "    </tr>\n",
              "  </tbody>\n",
              "</table>\n",
              "</div>"
            ],
            "text/plain": [
              "   기준  경기\n",
              "0  사과   7\n",
              "1  포도   8\n",
              "2  가지   9"
            ]
          },
          "metadata": {},
          "execution_count": 118
        }
      ]
    },
    {
      "cell_type": "markdown",
      "metadata": {
        "id": "Xcf16ZRQvYIS"
      },
      "source": [
        "먼저 `left`를 전달하겠습니다. 코드에서 왼쪽에 위치한 '서울' 데이터프레임을 모두 가져오고, 그 데이터프레임의 '기준' 값과 일치하는 '경기' 데이터프레임의 값을 합칩니다. '경기' 데이터프레임의 '기준' 열에는 '오이' 값이 없으므로 'NaN'으로 표시됩니다."
      ]
    },
    {
      "cell_type": "code",
      "metadata": {
        "colab": {
          "base_uri": "https://localhost:8080/",
          "height": 141
        },
        "id": "JHY0xKaAxYsp",
        "outputId": "fd43b9d7-380b-4992-b7ea-7cf52710ab06"
      },
      "source": [
        "df_seoul.merge(df_gyeonggi, how='left', on='기준')"
      ],
      "execution_count": 119,
      "outputs": [
        {
          "output_type": "execute_result",
          "data": {
            "text/html": [
              "<div>\n",
              "<style scoped>\n",
              "    .dataframe tbody tr th:only-of-type {\n",
              "        vertical-align: middle;\n",
              "    }\n",
              "\n",
              "    .dataframe tbody tr th {\n",
              "        vertical-align: top;\n",
              "    }\n",
              "\n",
              "    .dataframe thead th {\n",
              "        text-align: right;\n",
              "    }\n",
              "</style>\n",
              "<table border=\"1\" class=\"dataframe\">\n",
              "  <thead>\n",
              "    <tr style=\"text-align: right;\">\n",
              "      <th></th>\n",
              "      <th>기준</th>\n",
              "      <th>서울</th>\n",
              "      <th>경기</th>\n",
              "    </tr>\n",
              "  </thead>\n",
              "  <tbody>\n",
              "    <tr>\n",
              "      <th>0</th>\n",
              "      <td>사과</td>\n",
              "      <td>1</td>\n",
              "      <td>7.0</td>\n",
              "    </tr>\n",
              "    <tr>\n",
              "      <th>1</th>\n",
              "      <td>포도</td>\n",
              "      <td>2</td>\n",
              "      <td>8.0</td>\n",
              "    </tr>\n",
              "    <tr>\n",
              "      <th>2</th>\n",
              "      <td>오이</td>\n",
              "      <td>3</td>\n",
              "      <td>NaN</td>\n",
              "    </tr>\n",
              "  </tbody>\n",
              "</table>\n",
              "</div>"
            ],
            "text/plain": [
              "   기준  서울   경기\n",
              "0  사과   1  7.0\n",
              "1  포도   2  8.0\n",
              "2  오이   3  NaN"
            ]
          },
          "metadata": {},
          "execution_count": 119
        }
      ]
    },
    {
      "cell_type": "markdown",
      "metadata": {
        "id": "kb5Bcf7w6pGj"
      },
      "source": [
        "`right`를 전달하겠습니다. 코드에서 오른쪽에 위치한 '경기' 데이터프레임을 모두 가져오고, 그 데이터프레임의 '기준' 값과 일치하는 '서울' 데이터프레임의 값을 합칩니다. '서울' 데이터프레임의 '기준' 열에는 '가지' 값이 없으므로 'NaN'으로 표시됩니다."
      ]
    },
    {
      "cell_type": "code",
      "metadata": {
        "colab": {
          "base_uri": "https://localhost:8080/",
          "height": 141
        },
        "id": "G34XGIx166l1",
        "outputId": "f99ca755-7dd5-46af-c467-1af6ab0de621"
      },
      "source": [
        "df_seoul.merge(df_gyeonggi, how='right', on='기준')"
      ],
      "execution_count": 120,
      "outputs": [
        {
          "output_type": "execute_result",
          "data": {
            "text/html": [
              "<div>\n",
              "<style scoped>\n",
              "    .dataframe tbody tr th:only-of-type {\n",
              "        vertical-align: middle;\n",
              "    }\n",
              "\n",
              "    .dataframe tbody tr th {\n",
              "        vertical-align: top;\n",
              "    }\n",
              "\n",
              "    .dataframe thead th {\n",
              "        text-align: right;\n",
              "    }\n",
              "</style>\n",
              "<table border=\"1\" class=\"dataframe\">\n",
              "  <thead>\n",
              "    <tr style=\"text-align: right;\">\n",
              "      <th></th>\n",
              "      <th>기준</th>\n",
              "      <th>서울</th>\n",
              "      <th>경기</th>\n",
              "    </tr>\n",
              "  </thead>\n",
              "  <tbody>\n",
              "    <tr>\n",
              "      <th>0</th>\n",
              "      <td>사과</td>\n",
              "      <td>1.0</td>\n",
              "      <td>7</td>\n",
              "    </tr>\n",
              "    <tr>\n",
              "      <th>1</th>\n",
              "      <td>포도</td>\n",
              "      <td>2.0</td>\n",
              "      <td>8</td>\n",
              "    </tr>\n",
              "    <tr>\n",
              "      <th>2</th>\n",
              "      <td>가지</td>\n",
              "      <td>NaN</td>\n",
              "      <td>9</td>\n",
              "    </tr>\n",
              "  </tbody>\n",
              "</table>\n",
              "</div>"
            ],
            "text/plain": [
              "   기준   서울  경기\n",
              "0  사과  1.0   7\n",
              "1  포도  2.0   8\n",
              "2  가지  NaN   9"
            ]
          },
          "metadata": {},
          "execution_count": 120
        }
      ]
    },
    {
      "cell_type": "markdown",
      "metadata": {
        "id": "hO3ELZQb7ISy"
      },
      "source": [
        "`inner`를 전달하겠습니다. 두 데이터프레임의 '기준' 값 중에 공통되는 값만 표시합니다. '사과'와 '포도'만 공통됩니다."
      ]
    },
    {
      "cell_type": "code",
      "metadata": {
        "colab": {
          "base_uri": "https://localhost:8080/",
          "height": 111
        },
        "id": "3SuKZrTV7XXo",
        "outputId": "8113a6ab-3832-44c1-9423-91e1dfb279ac"
      },
      "source": [
        "df_seoul.merge(df_gyeonggi, how='inner', on='기준')"
      ],
      "execution_count": 121,
      "outputs": [
        {
          "output_type": "execute_result",
          "data": {
            "text/html": [
              "<div>\n",
              "<style scoped>\n",
              "    .dataframe tbody tr th:only-of-type {\n",
              "        vertical-align: middle;\n",
              "    }\n",
              "\n",
              "    .dataframe tbody tr th {\n",
              "        vertical-align: top;\n",
              "    }\n",
              "\n",
              "    .dataframe thead th {\n",
              "        text-align: right;\n",
              "    }\n",
              "</style>\n",
              "<table border=\"1\" class=\"dataframe\">\n",
              "  <thead>\n",
              "    <tr style=\"text-align: right;\">\n",
              "      <th></th>\n",
              "      <th>기준</th>\n",
              "      <th>서울</th>\n",
              "      <th>경기</th>\n",
              "    </tr>\n",
              "  </thead>\n",
              "  <tbody>\n",
              "    <tr>\n",
              "      <th>0</th>\n",
              "      <td>사과</td>\n",
              "      <td>1</td>\n",
              "      <td>7</td>\n",
              "    </tr>\n",
              "    <tr>\n",
              "      <th>1</th>\n",
              "      <td>포도</td>\n",
              "      <td>2</td>\n",
              "      <td>8</td>\n",
              "    </tr>\n",
              "  </tbody>\n",
              "</table>\n",
              "</div>"
            ],
            "text/plain": [
              "   기준  서울  경기\n",
              "0  사과   1   7\n",
              "1  포도   2   8"
            ]
          },
          "metadata": {},
          "execution_count": 121
        }
      ]
    },
    {
      "cell_type": "markdown",
      "metadata": {
        "id": "RvIRuo9O7jXy"
      },
      "source": [
        "`outer`를 전달하겠습니다. 두 데이터프레임의 '기준' 값을 모두 합칩니다."
      ]
    },
    {
      "cell_type": "code",
      "metadata": {
        "colab": {
          "base_uri": "https://localhost:8080/",
          "height": 172
        },
        "id": "FL_J7MAW7uFd",
        "outputId": "73478d5f-3ab4-4631-f2c2-1b7ca3e00697"
      },
      "source": [
        "df_sg = df_seoul.merge(df_gyeonggi, how='outer', on='기준')\n",
        "df_sg"
      ],
      "execution_count": 122,
      "outputs": [
        {
          "output_type": "execute_result",
          "data": {
            "text/html": [
              "<div>\n",
              "<style scoped>\n",
              "    .dataframe tbody tr th:only-of-type {\n",
              "        vertical-align: middle;\n",
              "    }\n",
              "\n",
              "    .dataframe tbody tr th {\n",
              "        vertical-align: top;\n",
              "    }\n",
              "\n",
              "    .dataframe thead th {\n",
              "        text-align: right;\n",
              "    }\n",
              "</style>\n",
              "<table border=\"1\" class=\"dataframe\">\n",
              "  <thead>\n",
              "    <tr style=\"text-align: right;\">\n",
              "      <th></th>\n",
              "      <th>기준</th>\n",
              "      <th>서울</th>\n",
              "      <th>경기</th>\n",
              "    </tr>\n",
              "  </thead>\n",
              "  <tbody>\n",
              "    <tr>\n",
              "      <th>0</th>\n",
              "      <td>사과</td>\n",
              "      <td>1.0</td>\n",
              "      <td>7.0</td>\n",
              "    </tr>\n",
              "    <tr>\n",
              "      <th>1</th>\n",
              "      <td>포도</td>\n",
              "      <td>2.0</td>\n",
              "      <td>8.0</td>\n",
              "    </tr>\n",
              "    <tr>\n",
              "      <th>2</th>\n",
              "      <td>오이</td>\n",
              "      <td>3.0</td>\n",
              "      <td>NaN</td>\n",
              "    </tr>\n",
              "    <tr>\n",
              "      <th>3</th>\n",
              "      <td>가지</td>\n",
              "      <td>NaN</td>\n",
              "      <td>9.0</td>\n",
              "    </tr>\n",
              "  </tbody>\n",
              "</table>\n",
              "</div>"
            ],
            "text/plain": [
              "   기준   서울   경기\n",
              "0  사과  1.0  7.0\n",
              "1  포도  2.0  8.0\n",
              "2  오이  3.0  NaN\n",
              "3  가지  NaN  9.0"
            ]
          },
          "metadata": {},
          "execution_count": 122
        }
      ]
    },
    {
      "cell_type": "markdown",
      "metadata": {
        "id": "Z9C-H6jkedxp"
      },
      "source": [
        "매개변수 `left_on`과 `right_on`에 각각 데이터프레임의 기준 열을 지정할 수 있습니다. 먼저 예시를 위해 새로운 데이터프레임을 생성하겠습니다."
      ]
    },
    {
      "cell_type": "code",
      "metadata": {
        "id": "FuCJE_h3fqHO"
      },
      "source": [
        "df_merge1 = pd.DataFrame({'색상': ['빨강', '주황', '노랑', '초록', '파랑'],\n",
        "                                 '용도': [10, 20, 30, 40, 50],\n",
        "                                 '가격': [100, 200, 300, 400, 500]})\n",
        "\n",
        "df_merge2 = pd.DataFrame({'색상': ['빨강', '노랑', '파랑', '보라'],\n",
        "                                 '쓰임새': [10, 30, 50, 70],\n",
        "                                 '소유자': ['철수', '영대', '미진', '관철']})"
      ],
      "execution_count": 123,
      "outputs": []
    },
    {
      "cell_type": "markdown",
      "metadata": {
        "id": "PYcQ18zhh_-a"
      },
      "source": [
        "이번에는 `pd.merge(데이터프레임1, 데이터프레임2, 매개변수)` 형식으로 선언하겠습니다. 공통된 열은 '색상' 하나입니다."
      ]
    },
    {
      "cell_type": "code",
      "metadata": {
        "colab": {
          "base_uri": "https://localhost:8080/",
          "height": 141
        },
        "id": "Djqd3sxYhwMb",
        "outputId": "b15288de-4dde-4211-845c-1f9aee028133"
      },
      "source": [
        "# 매개변수의 기본값은 `how='inner'`, `on=None`입니다.\n",
        "pd.merge(df_merge1, df_merge2)"
      ],
      "execution_count": 124,
      "outputs": [
        {
          "output_type": "execute_result",
          "data": {
            "text/html": [
              "<div>\n",
              "<style scoped>\n",
              "    .dataframe tbody tr th:only-of-type {\n",
              "        vertical-align: middle;\n",
              "    }\n",
              "\n",
              "    .dataframe tbody tr th {\n",
              "        vertical-align: top;\n",
              "    }\n",
              "\n",
              "    .dataframe thead th {\n",
              "        text-align: right;\n",
              "    }\n",
              "</style>\n",
              "<table border=\"1\" class=\"dataframe\">\n",
              "  <thead>\n",
              "    <tr style=\"text-align: right;\">\n",
              "      <th></th>\n",
              "      <th>색상</th>\n",
              "      <th>용도</th>\n",
              "      <th>가격</th>\n",
              "      <th>쓰임새</th>\n",
              "      <th>소유자</th>\n",
              "    </tr>\n",
              "  </thead>\n",
              "  <tbody>\n",
              "    <tr>\n",
              "      <th>0</th>\n",
              "      <td>빨강</td>\n",
              "      <td>10</td>\n",
              "      <td>100</td>\n",
              "      <td>10</td>\n",
              "      <td>철수</td>\n",
              "    </tr>\n",
              "    <tr>\n",
              "      <th>1</th>\n",
              "      <td>노랑</td>\n",
              "      <td>30</td>\n",
              "      <td>300</td>\n",
              "      <td>30</td>\n",
              "      <td>영대</td>\n",
              "    </tr>\n",
              "    <tr>\n",
              "      <th>2</th>\n",
              "      <td>파랑</td>\n",
              "      <td>50</td>\n",
              "      <td>500</td>\n",
              "      <td>50</td>\n",
              "      <td>미진</td>\n",
              "    </tr>\n",
              "  </tbody>\n",
              "</table>\n",
              "</div>"
            ],
            "text/plain": [
              "   색상  용도   가격  쓰임새 소유자\n",
              "0  빨강  10  100   10  철수\n",
              "1  노랑  30  300   30  영대\n",
              "2  파랑  50  500   50  미진"
            ]
          },
          "metadata": {},
          "execution_count": 124
        }
      ]
    },
    {
      "cell_type": "code",
      "metadata": {
        "colab": {
          "base_uri": "https://localhost:8080/",
          "height": 235
        },
        "id": "JeVKpgZNiSzO",
        "outputId": "5d11070b-d0c5-4af4-dc91-639c30fa2418"
      },
      "source": [
        "pd.merge(df_merge1, df_merge2, how='outer')"
      ],
      "execution_count": 125,
      "outputs": [
        {
          "output_type": "execute_result",
          "data": {
            "text/html": [
              "<div>\n",
              "<style scoped>\n",
              "    .dataframe tbody tr th:only-of-type {\n",
              "        vertical-align: middle;\n",
              "    }\n",
              "\n",
              "    .dataframe tbody tr th {\n",
              "        vertical-align: top;\n",
              "    }\n",
              "\n",
              "    .dataframe thead th {\n",
              "        text-align: right;\n",
              "    }\n",
              "</style>\n",
              "<table border=\"1\" class=\"dataframe\">\n",
              "  <thead>\n",
              "    <tr style=\"text-align: right;\">\n",
              "      <th></th>\n",
              "      <th>색상</th>\n",
              "      <th>용도</th>\n",
              "      <th>가격</th>\n",
              "      <th>쓰임새</th>\n",
              "      <th>소유자</th>\n",
              "    </tr>\n",
              "  </thead>\n",
              "  <tbody>\n",
              "    <tr>\n",
              "      <th>0</th>\n",
              "      <td>빨강</td>\n",
              "      <td>10.0</td>\n",
              "      <td>100.0</td>\n",
              "      <td>10.0</td>\n",
              "      <td>철수</td>\n",
              "    </tr>\n",
              "    <tr>\n",
              "      <th>1</th>\n",
              "      <td>주황</td>\n",
              "      <td>20.0</td>\n",
              "      <td>200.0</td>\n",
              "      <td>NaN</td>\n",
              "      <td>NaN</td>\n",
              "    </tr>\n",
              "    <tr>\n",
              "      <th>2</th>\n",
              "      <td>노랑</td>\n",
              "      <td>30.0</td>\n",
              "      <td>300.0</td>\n",
              "      <td>30.0</td>\n",
              "      <td>영대</td>\n",
              "    </tr>\n",
              "    <tr>\n",
              "      <th>3</th>\n",
              "      <td>초록</td>\n",
              "      <td>40.0</td>\n",
              "      <td>400.0</td>\n",
              "      <td>NaN</td>\n",
              "      <td>NaN</td>\n",
              "    </tr>\n",
              "    <tr>\n",
              "      <th>4</th>\n",
              "      <td>파랑</td>\n",
              "      <td>50.0</td>\n",
              "      <td>500.0</td>\n",
              "      <td>50.0</td>\n",
              "      <td>미진</td>\n",
              "    </tr>\n",
              "    <tr>\n",
              "      <th>5</th>\n",
              "      <td>보라</td>\n",
              "      <td>NaN</td>\n",
              "      <td>NaN</td>\n",
              "      <td>70.0</td>\n",
              "      <td>관철</td>\n",
              "    </tr>\n",
              "  </tbody>\n",
              "</table>\n",
              "</div>"
            ],
            "text/plain": [
              "   색상    용도     가격   쓰임새  소유자\n",
              "0  빨강  10.0  100.0  10.0   철수\n",
              "1  주황  20.0  200.0   NaN  NaN\n",
              "2  노랑  30.0  300.0  30.0   영대\n",
              "3  초록  40.0  400.0   NaN  NaN\n",
              "4  파랑  50.0  500.0  50.0   미진\n",
              "5  보라   NaN    NaN  70.0   관철"
            ]
          },
          "metadata": {},
          "execution_count": 125
        }
      ]
    },
    {
      "cell_type": "code",
      "metadata": {
        "colab": {
          "base_uri": "https://localhost:8080/",
          "height": 204
        },
        "id": "G5H2Cm-wmnS4",
        "outputId": "b5e733ad-5d7d-4e3a-ba73-6b50234bd002"
      },
      "source": [
        "pd.merge(df_merge1, df_merge2, how='left')"
      ],
      "execution_count": 126,
      "outputs": [
        {
          "output_type": "execute_result",
          "data": {
            "text/html": [
              "<div>\n",
              "<style scoped>\n",
              "    .dataframe tbody tr th:only-of-type {\n",
              "        vertical-align: middle;\n",
              "    }\n",
              "\n",
              "    .dataframe tbody tr th {\n",
              "        vertical-align: top;\n",
              "    }\n",
              "\n",
              "    .dataframe thead th {\n",
              "        text-align: right;\n",
              "    }\n",
              "</style>\n",
              "<table border=\"1\" class=\"dataframe\">\n",
              "  <thead>\n",
              "    <tr style=\"text-align: right;\">\n",
              "      <th></th>\n",
              "      <th>색상</th>\n",
              "      <th>용도</th>\n",
              "      <th>가격</th>\n",
              "      <th>쓰임새</th>\n",
              "      <th>소유자</th>\n",
              "    </tr>\n",
              "  </thead>\n",
              "  <tbody>\n",
              "    <tr>\n",
              "      <th>0</th>\n",
              "      <td>빨강</td>\n",
              "      <td>10</td>\n",
              "      <td>100</td>\n",
              "      <td>10.0</td>\n",
              "      <td>철수</td>\n",
              "    </tr>\n",
              "    <tr>\n",
              "      <th>1</th>\n",
              "      <td>주황</td>\n",
              "      <td>20</td>\n",
              "      <td>200</td>\n",
              "      <td>NaN</td>\n",
              "      <td>NaN</td>\n",
              "    </tr>\n",
              "    <tr>\n",
              "      <th>2</th>\n",
              "      <td>노랑</td>\n",
              "      <td>30</td>\n",
              "      <td>300</td>\n",
              "      <td>30.0</td>\n",
              "      <td>영대</td>\n",
              "    </tr>\n",
              "    <tr>\n",
              "      <th>3</th>\n",
              "      <td>초록</td>\n",
              "      <td>40</td>\n",
              "      <td>400</td>\n",
              "      <td>NaN</td>\n",
              "      <td>NaN</td>\n",
              "    </tr>\n",
              "    <tr>\n",
              "      <th>4</th>\n",
              "      <td>파랑</td>\n",
              "      <td>50</td>\n",
              "      <td>500</td>\n",
              "      <td>50.0</td>\n",
              "      <td>미진</td>\n",
              "    </tr>\n",
              "  </tbody>\n",
              "</table>\n",
              "</div>"
            ],
            "text/plain": [
              "   색상  용도   가격   쓰임새  소유자\n",
              "0  빨강  10  100  10.0   철수\n",
              "1  주황  20  200   NaN  NaN\n",
              "2  노랑  30  300  30.0   영대\n",
              "3  초록  40  400   NaN  NaN\n",
              "4  파랑  50  500  50.0   미진"
            ]
          },
          "metadata": {},
          "execution_count": 126
        }
      ]
    },
    {
      "cell_type": "code",
      "metadata": {
        "colab": {
          "base_uri": "https://localhost:8080/",
          "height": 172
        },
        "id": "gBvbNYFRmdNk",
        "outputId": "61288e5a-ec48-4e78-b9f7-747316e90856"
      },
      "source": [
        "pd.merge(df_merge1, df_merge2, how='right')"
      ],
      "execution_count": 127,
      "outputs": [
        {
          "output_type": "execute_result",
          "data": {
            "text/html": [
              "<div>\n",
              "<style scoped>\n",
              "    .dataframe tbody tr th:only-of-type {\n",
              "        vertical-align: middle;\n",
              "    }\n",
              "\n",
              "    .dataframe tbody tr th {\n",
              "        vertical-align: top;\n",
              "    }\n",
              "\n",
              "    .dataframe thead th {\n",
              "        text-align: right;\n",
              "    }\n",
              "</style>\n",
              "<table border=\"1\" class=\"dataframe\">\n",
              "  <thead>\n",
              "    <tr style=\"text-align: right;\">\n",
              "      <th></th>\n",
              "      <th>색상</th>\n",
              "      <th>용도</th>\n",
              "      <th>가격</th>\n",
              "      <th>쓰임새</th>\n",
              "      <th>소유자</th>\n",
              "    </tr>\n",
              "  </thead>\n",
              "  <tbody>\n",
              "    <tr>\n",
              "      <th>0</th>\n",
              "      <td>빨강</td>\n",
              "      <td>10.0</td>\n",
              "      <td>100.0</td>\n",
              "      <td>10</td>\n",
              "      <td>철수</td>\n",
              "    </tr>\n",
              "    <tr>\n",
              "      <th>1</th>\n",
              "      <td>노랑</td>\n",
              "      <td>30.0</td>\n",
              "      <td>300.0</td>\n",
              "      <td>30</td>\n",
              "      <td>영대</td>\n",
              "    </tr>\n",
              "    <tr>\n",
              "      <th>2</th>\n",
              "      <td>파랑</td>\n",
              "      <td>50.0</td>\n",
              "      <td>500.0</td>\n",
              "      <td>50</td>\n",
              "      <td>미진</td>\n",
              "    </tr>\n",
              "    <tr>\n",
              "      <th>3</th>\n",
              "      <td>보라</td>\n",
              "      <td>NaN</td>\n",
              "      <td>NaN</td>\n",
              "      <td>70</td>\n",
              "      <td>관철</td>\n",
              "    </tr>\n",
              "  </tbody>\n",
              "</table>\n",
              "</div>"
            ],
            "text/plain": [
              "   색상    용도     가격  쓰임새 소유자\n",
              "0  빨강  10.0  100.0   10  철수\n",
              "1  노랑  30.0  300.0   30  영대\n",
              "2  파랑  50.0  500.0   50  미진\n",
              "3  보라   NaN    NaN   70  관철"
            ]
          },
          "metadata": {},
          "execution_count": 127
        }
      ]
    },
    {
      "cell_type": "markdown",
      "metadata": {
        "id": "OT8-bRzQm6mM"
      },
      "source": [
        "이제 매개변수 `left_on`과 `right_on`에 기준 열을 각각 지정하겠습니다. '용도' 값과 '쓰임새' 값의 공통된 부분만(`how='inner'`) 합칩니다. "
      ]
    },
    {
      "cell_type": "code",
      "metadata": {
        "colab": {
          "base_uri": "https://localhost:8080/",
          "height": 141
        },
        "id": "z467YG-jm0Qu",
        "outputId": "e4b53cc5-7898-4e55-f23b-a2c30261ad59"
      },
      "source": [
        "pd.merge(df_merge1, df_merge2, left_on='용도', right_on='쓰임새')"
      ],
      "execution_count": 128,
      "outputs": [
        {
          "output_type": "execute_result",
          "data": {
            "text/html": [
              "<div>\n",
              "<style scoped>\n",
              "    .dataframe tbody tr th:only-of-type {\n",
              "        vertical-align: middle;\n",
              "    }\n",
              "\n",
              "    .dataframe tbody tr th {\n",
              "        vertical-align: top;\n",
              "    }\n",
              "\n",
              "    .dataframe thead th {\n",
              "        text-align: right;\n",
              "    }\n",
              "</style>\n",
              "<table border=\"1\" class=\"dataframe\">\n",
              "  <thead>\n",
              "    <tr style=\"text-align: right;\">\n",
              "      <th></th>\n",
              "      <th>색상_x</th>\n",
              "      <th>용도</th>\n",
              "      <th>가격</th>\n",
              "      <th>색상_y</th>\n",
              "      <th>쓰임새</th>\n",
              "      <th>소유자</th>\n",
              "    </tr>\n",
              "  </thead>\n",
              "  <tbody>\n",
              "    <tr>\n",
              "      <th>0</th>\n",
              "      <td>빨강</td>\n",
              "      <td>10</td>\n",
              "      <td>100</td>\n",
              "      <td>빨강</td>\n",
              "      <td>10</td>\n",
              "      <td>철수</td>\n",
              "    </tr>\n",
              "    <tr>\n",
              "      <th>1</th>\n",
              "      <td>노랑</td>\n",
              "      <td>30</td>\n",
              "      <td>300</td>\n",
              "      <td>노랑</td>\n",
              "      <td>30</td>\n",
              "      <td>영대</td>\n",
              "    </tr>\n",
              "    <tr>\n",
              "      <th>2</th>\n",
              "      <td>파랑</td>\n",
              "      <td>50</td>\n",
              "      <td>500</td>\n",
              "      <td>파랑</td>\n",
              "      <td>50</td>\n",
              "      <td>미진</td>\n",
              "    </tr>\n",
              "  </tbody>\n",
              "</table>\n",
              "</div>"
            ],
            "text/plain": [
              "  색상_x  용도   가격 색상_y  쓰임새 소유자\n",
              "0   빨강  10  100   빨강   10  철수\n",
              "1   노랑  30  300   노랑   30  영대\n",
              "2   파랑  50  500   파랑   50  미진"
            ]
          },
          "metadata": {},
          "execution_count": 128
        }
      ]
    },
    {
      "cell_type": "markdown",
      "metadata": {
        "id": "k9Ep33AipXrA"
      },
      "source": [
        "모든 데이터를 합칩니다."
      ]
    },
    {
      "cell_type": "code",
      "metadata": {
        "colab": {
          "base_uri": "https://localhost:8080/",
          "height": 235
        },
        "id": "gi_wZ1xynfVg",
        "outputId": "c54939d5-3962-457f-e458-3657da79086a"
      },
      "source": [
        "pd.merge(df_merge1, df_merge2, how='outer', left_on='용도', right_on='쓰임새')"
      ],
      "execution_count": 129,
      "outputs": [
        {
          "output_type": "execute_result",
          "data": {
            "text/html": [
              "<div>\n",
              "<style scoped>\n",
              "    .dataframe tbody tr th:only-of-type {\n",
              "        vertical-align: middle;\n",
              "    }\n",
              "\n",
              "    .dataframe tbody tr th {\n",
              "        vertical-align: top;\n",
              "    }\n",
              "\n",
              "    .dataframe thead th {\n",
              "        text-align: right;\n",
              "    }\n",
              "</style>\n",
              "<table border=\"1\" class=\"dataframe\">\n",
              "  <thead>\n",
              "    <tr style=\"text-align: right;\">\n",
              "      <th></th>\n",
              "      <th>색상_x</th>\n",
              "      <th>용도</th>\n",
              "      <th>가격</th>\n",
              "      <th>색상_y</th>\n",
              "      <th>쓰임새</th>\n",
              "      <th>소유자</th>\n",
              "    </tr>\n",
              "  </thead>\n",
              "  <tbody>\n",
              "    <tr>\n",
              "      <th>0</th>\n",
              "      <td>빨강</td>\n",
              "      <td>10.0</td>\n",
              "      <td>100.0</td>\n",
              "      <td>빨강</td>\n",
              "      <td>10.0</td>\n",
              "      <td>철수</td>\n",
              "    </tr>\n",
              "    <tr>\n",
              "      <th>1</th>\n",
              "      <td>주황</td>\n",
              "      <td>20.0</td>\n",
              "      <td>200.0</td>\n",
              "      <td>NaN</td>\n",
              "      <td>NaN</td>\n",
              "      <td>NaN</td>\n",
              "    </tr>\n",
              "    <tr>\n",
              "      <th>2</th>\n",
              "      <td>노랑</td>\n",
              "      <td>30.0</td>\n",
              "      <td>300.0</td>\n",
              "      <td>노랑</td>\n",
              "      <td>30.0</td>\n",
              "      <td>영대</td>\n",
              "    </tr>\n",
              "    <tr>\n",
              "      <th>3</th>\n",
              "      <td>초록</td>\n",
              "      <td>40.0</td>\n",
              "      <td>400.0</td>\n",
              "      <td>NaN</td>\n",
              "      <td>NaN</td>\n",
              "      <td>NaN</td>\n",
              "    </tr>\n",
              "    <tr>\n",
              "      <th>4</th>\n",
              "      <td>파랑</td>\n",
              "      <td>50.0</td>\n",
              "      <td>500.0</td>\n",
              "      <td>파랑</td>\n",
              "      <td>50.0</td>\n",
              "      <td>미진</td>\n",
              "    </tr>\n",
              "    <tr>\n",
              "      <th>5</th>\n",
              "      <td>NaN</td>\n",
              "      <td>NaN</td>\n",
              "      <td>NaN</td>\n",
              "      <td>보라</td>\n",
              "      <td>70.0</td>\n",
              "      <td>관철</td>\n",
              "    </tr>\n",
              "  </tbody>\n",
              "</table>\n",
              "</div>"
            ],
            "text/plain": [
              "  색상_x    용도     가격 색상_y   쓰임새  소유자\n",
              "0   빨강  10.0  100.0   빨강  10.0   철수\n",
              "1   주황  20.0  200.0  NaN   NaN  NaN\n",
              "2   노랑  30.0  300.0   노랑  30.0   영대\n",
              "3   초록  40.0  400.0  NaN   NaN  NaN\n",
              "4   파랑  50.0  500.0   파랑  50.0   미진\n",
              "5  NaN   NaN    NaN   보라  70.0   관철"
            ]
          },
          "metadata": {},
          "execution_count": 129
        }
      ]
    },
    {
      "cell_type": "markdown",
      "metadata": {
        "id": "L2bgazhUpvqE"
      },
      "source": [
        "`df_merge1`에 '용도' 값과 '쓰임새' 값을 기준으로 삼아 합칩니다. "
      ]
    },
    {
      "cell_type": "code",
      "metadata": {
        "colab": {
          "base_uri": "https://localhost:8080/",
          "height": 204
        },
        "id": "s61wzQBKnq0f",
        "outputId": "e4574457-33bd-4d85-b3af-36c955c53b08"
      },
      "source": [
        "pd.merge(df_merge1, df_merge2, how='left', left_on='용도', right_on='쓰임새')"
      ],
      "execution_count": 130,
      "outputs": [
        {
          "output_type": "execute_result",
          "data": {
            "text/html": [
              "<div>\n",
              "<style scoped>\n",
              "    .dataframe tbody tr th:only-of-type {\n",
              "        vertical-align: middle;\n",
              "    }\n",
              "\n",
              "    .dataframe tbody tr th {\n",
              "        vertical-align: top;\n",
              "    }\n",
              "\n",
              "    .dataframe thead th {\n",
              "        text-align: right;\n",
              "    }\n",
              "</style>\n",
              "<table border=\"1\" class=\"dataframe\">\n",
              "  <thead>\n",
              "    <tr style=\"text-align: right;\">\n",
              "      <th></th>\n",
              "      <th>색상_x</th>\n",
              "      <th>용도</th>\n",
              "      <th>가격</th>\n",
              "      <th>색상_y</th>\n",
              "      <th>쓰임새</th>\n",
              "      <th>소유자</th>\n",
              "    </tr>\n",
              "  </thead>\n",
              "  <tbody>\n",
              "    <tr>\n",
              "      <th>0</th>\n",
              "      <td>빨강</td>\n",
              "      <td>10</td>\n",
              "      <td>100</td>\n",
              "      <td>빨강</td>\n",
              "      <td>10.0</td>\n",
              "      <td>철수</td>\n",
              "    </tr>\n",
              "    <tr>\n",
              "      <th>1</th>\n",
              "      <td>주황</td>\n",
              "      <td>20</td>\n",
              "      <td>200</td>\n",
              "      <td>NaN</td>\n",
              "      <td>NaN</td>\n",
              "      <td>NaN</td>\n",
              "    </tr>\n",
              "    <tr>\n",
              "      <th>2</th>\n",
              "      <td>노랑</td>\n",
              "      <td>30</td>\n",
              "      <td>300</td>\n",
              "      <td>노랑</td>\n",
              "      <td>30.0</td>\n",
              "      <td>영대</td>\n",
              "    </tr>\n",
              "    <tr>\n",
              "      <th>3</th>\n",
              "      <td>초록</td>\n",
              "      <td>40</td>\n",
              "      <td>400</td>\n",
              "      <td>NaN</td>\n",
              "      <td>NaN</td>\n",
              "      <td>NaN</td>\n",
              "    </tr>\n",
              "    <tr>\n",
              "      <th>4</th>\n",
              "      <td>파랑</td>\n",
              "      <td>50</td>\n",
              "      <td>500</td>\n",
              "      <td>파랑</td>\n",
              "      <td>50.0</td>\n",
              "      <td>미진</td>\n",
              "    </tr>\n",
              "  </tbody>\n",
              "</table>\n",
              "</div>"
            ],
            "text/plain": [
              "  색상_x  용도   가격 색상_y   쓰임새  소유자\n",
              "0   빨강  10  100   빨강  10.0   철수\n",
              "1   주황  20  200  NaN   NaN  NaN\n",
              "2   노랑  30  300   노랑  30.0   영대\n",
              "3   초록  40  400  NaN   NaN  NaN\n",
              "4   파랑  50  500   파랑  50.0   미진"
            ]
          },
          "metadata": {},
          "execution_count": 130
        }
      ]
    },
    {
      "cell_type": "markdown",
      "metadata": {
        "id": "Xuc4SC-wqA_V"
      },
      "source": [
        "`df_merge2`에 '용도' 값과 '쓰임새' 값을 기준으로 삼아 합칩니다. "
      ]
    },
    {
      "cell_type": "code",
      "metadata": {
        "colab": {
          "base_uri": "https://localhost:8080/",
          "height": 172
        },
        "id": "GCdIUdfln0Jb",
        "outputId": "8add097a-7458-49c0-816e-0f956a7043d7"
      },
      "source": [
        "pd.merge(df_merge1, df_merge2, how='right', left_on='용도', right_on='쓰임새')"
      ],
      "execution_count": 131,
      "outputs": [
        {
          "output_type": "execute_result",
          "data": {
            "text/html": [
              "<div>\n",
              "<style scoped>\n",
              "    .dataframe tbody tr th:only-of-type {\n",
              "        vertical-align: middle;\n",
              "    }\n",
              "\n",
              "    .dataframe tbody tr th {\n",
              "        vertical-align: top;\n",
              "    }\n",
              "\n",
              "    .dataframe thead th {\n",
              "        text-align: right;\n",
              "    }\n",
              "</style>\n",
              "<table border=\"1\" class=\"dataframe\">\n",
              "  <thead>\n",
              "    <tr style=\"text-align: right;\">\n",
              "      <th></th>\n",
              "      <th>색상_x</th>\n",
              "      <th>용도</th>\n",
              "      <th>가격</th>\n",
              "      <th>색상_y</th>\n",
              "      <th>쓰임새</th>\n",
              "      <th>소유자</th>\n",
              "    </tr>\n",
              "  </thead>\n",
              "  <tbody>\n",
              "    <tr>\n",
              "      <th>0</th>\n",
              "      <td>빨강</td>\n",
              "      <td>10.0</td>\n",
              "      <td>100.0</td>\n",
              "      <td>빨강</td>\n",
              "      <td>10</td>\n",
              "      <td>철수</td>\n",
              "    </tr>\n",
              "    <tr>\n",
              "      <th>1</th>\n",
              "      <td>노랑</td>\n",
              "      <td>30.0</td>\n",
              "      <td>300.0</td>\n",
              "      <td>노랑</td>\n",
              "      <td>30</td>\n",
              "      <td>영대</td>\n",
              "    </tr>\n",
              "    <tr>\n",
              "      <th>2</th>\n",
              "      <td>파랑</td>\n",
              "      <td>50.0</td>\n",
              "      <td>500.0</td>\n",
              "      <td>파랑</td>\n",
              "      <td>50</td>\n",
              "      <td>미진</td>\n",
              "    </tr>\n",
              "    <tr>\n",
              "      <th>3</th>\n",
              "      <td>NaN</td>\n",
              "      <td>NaN</td>\n",
              "      <td>NaN</td>\n",
              "      <td>보라</td>\n",
              "      <td>70</td>\n",
              "      <td>관철</td>\n",
              "    </tr>\n",
              "  </tbody>\n",
              "</table>\n",
              "</div>"
            ],
            "text/plain": [
              "  색상_x    용도     가격 색상_y  쓰임새 소유자\n",
              "0   빨강  10.0  100.0   빨강   10  철수\n",
              "1   노랑  30.0  300.0   노랑   30  영대\n",
              "2   파랑  50.0  500.0   파랑   50  미진\n",
              "3  NaN   NaN    NaN   보라   70  관철"
            ]
          },
          "metadata": {},
          "execution_count": 131
        }
      ]
    },
    {
      "cell_type": "markdown",
      "metadata": {
        "id": "hL5VR4RxqGEQ"
      },
      "source": [
        "`merge()` 메서드와 불린 인덱싱을 사용해서 조건에 맞는 데이터를 추출하겠습니다. "
      ]
    },
    {
      "cell_type": "markdown",
      "metadata": {
        "id": "EZt0jqH22o-c"
      },
      "source": [
        "## **2.6. 데이터 변경하기**"
      ]
    },
    {
      "cell_type": "markdown",
      "metadata": {
        "id": "vEMyblis2nmZ"
      },
      "source": [
        "`rename()` 메서드를 사용하면 인덱스나 열명을 바꿀 수 있습니다. 다만 기존 데이터프레임 객체를 완전히 바꾸는 것은 아닙니다. 기존 데이터프레임 객체를 완전히 바꾸려면 매개변수 `inplace`에 `True`를 인자로 전달합니다. 매개변수 `inplace`를 지정하지 않고 변경된 데이터프레임을 새로운 객체에 전달하는 방법도 있습니다.\n",
        "\n",
        "먼저 위에서 사용한 데이터프레임 `df3` 을 다시 부르겠습니다."
      ]
    },
    {
      "cell_type": "code",
      "metadata": {
        "colab": {
          "base_uri": "https://localhost:8080/",
          "height": 204
        },
        "id": "QZJJH3tj5zI-",
        "outputId": "e770bb3b-c8bd-4adc-9913-e07b37554cac"
      },
      "source": [
        "dic_data4 = {'사과': [332, 392, 391, 295, 374],\n",
        "             '배': [102, 99, 80, 30, 143],\n",
        "             '포도': [402, 497, 306, 681, 573]}\n",
        "col_list1 = ['포도', '사과', '배']\n",
        "index2 = ['4월', '5월', '6월', '7월', '8월']\n",
        "\n",
        "df3 = pd.DataFrame(dic_data4, columns=col_list1, index=index2)\n",
        "df3"
      ],
      "execution_count": 132,
      "outputs": [
        {
          "output_type": "execute_result",
          "data": {
            "text/html": [
              "<div>\n",
              "<style scoped>\n",
              "    .dataframe tbody tr th:only-of-type {\n",
              "        vertical-align: middle;\n",
              "    }\n",
              "\n",
              "    .dataframe tbody tr th {\n",
              "        vertical-align: top;\n",
              "    }\n",
              "\n",
              "    .dataframe thead th {\n",
              "        text-align: right;\n",
              "    }\n",
              "</style>\n",
              "<table border=\"1\" class=\"dataframe\">\n",
              "  <thead>\n",
              "    <tr style=\"text-align: right;\">\n",
              "      <th></th>\n",
              "      <th>포도</th>\n",
              "      <th>사과</th>\n",
              "      <th>배</th>\n",
              "    </tr>\n",
              "  </thead>\n",
              "  <tbody>\n",
              "    <tr>\n",
              "      <th>4월</th>\n",
              "      <td>402</td>\n",
              "      <td>332</td>\n",
              "      <td>102</td>\n",
              "    </tr>\n",
              "    <tr>\n",
              "      <th>5월</th>\n",
              "      <td>497</td>\n",
              "      <td>392</td>\n",
              "      <td>99</td>\n",
              "    </tr>\n",
              "    <tr>\n",
              "      <th>6월</th>\n",
              "      <td>306</td>\n",
              "      <td>391</td>\n",
              "      <td>80</td>\n",
              "    </tr>\n",
              "    <tr>\n",
              "      <th>7월</th>\n",
              "      <td>681</td>\n",
              "      <td>295</td>\n",
              "      <td>30</td>\n",
              "    </tr>\n",
              "    <tr>\n",
              "      <th>8월</th>\n",
              "      <td>573</td>\n",
              "      <td>374</td>\n",
              "      <td>143</td>\n",
              "    </tr>\n",
              "  </tbody>\n",
              "</table>\n",
              "</div>"
            ],
            "text/plain": [
              "     포도   사과    배\n",
              "4월  402  332  102\n",
              "5월  497  392   99\n",
              "6월  306  391   80\n",
              "7월  681  295   30\n",
              "8월  573  374  143"
            ]
          },
          "metadata": {},
          "execution_count": 132
        }
      ]
    },
    {
      "cell_type": "markdown",
      "metadata": {
        "id": "g_zDc7e44cq3"
      },
      "source": [
        "`rename()` 메서드를 사용해서 인덱스 값을 바꾸겠습니다."
      ]
    },
    {
      "cell_type": "code",
      "metadata": {
        "colab": {
          "base_uri": "https://localhost:8080/",
          "height": 204
        },
        "id": "YDUWGypP6-RF",
        "outputId": "42a9a49d-6e3c-4b12-aeb7-5e552e6e23e1"
      },
      "source": [
        "df3.rename(index={'4월':'사월', '5월':'오월'})"
      ],
      "execution_count": 133,
      "outputs": [
        {
          "output_type": "execute_result",
          "data": {
            "text/html": [
              "<div>\n",
              "<style scoped>\n",
              "    .dataframe tbody tr th:only-of-type {\n",
              "        vertical-align: middle;\n",
              "    }\n",
              "\n",
              "    .dataframe tbody tr th {\n",
              "        vertical-align: top;\n",
              "    }\n",
              "\n",
              "    .dataframe thead th {\n",
              "        text-align: right;\n",
              "    }\n",
              "</style>\n",
              "<table border=\"1\" class=\"dataframe\">\n",
              "  <thead>\n",
              "    <tr style=\"text-align: right;\">\n",
              "      <th></th>\n",
              "      <th>포도</th>\n",
              "      <th>사과</th>\n",
              "      <th>배</th>\n",
              "    </tr>\n",
              "  </thead>\n",
              "  <tbody>\n",
              "    <tr>\n",
              "      <th>사월</th>\n",
              "      <td>402</td>\n",
              "      <td>332</td>\n",
              "      <td>102</td>\n",
              "    </tr>\n",
              "    <tr>\n",
              "      <th>오월</th>\n",
              "      <td>497</td>\n",
              "      <td>392</td>\n",
              "      <td>99</td>\n",
              "    </tr>\n",
              "    <tr>\n",
              "      <th>6월</th>\n",
              "      <td>306</td>\n",
              "      <td>391</td>\n",
              "      <td>80</td>\n",
              "    </tr>\n",
              "    <tr>\n",
              "      <th>7월</th>\n",
              "      <td>681</td>\n",
              "      <td>295</td>\n",
              "      <td>30</td>\n",
              "    </tr>\n",
              "    <tr>\n",
              "      <th>8월</th>\n",
              "      <td>573</td>\n",
              "      <td>374</td>\n",
              "      <td>143</td>\n",
              "    </tr>\n",
              "  </tbody>\n",
              "</table>\n",
              "</div>"
            ],
            "text/plain": [
              "     포도   사과    배\n",
              "사월  402  332  102\n",
              "오월  497  392   99\n",
              "6월  306  391   80\n",
              "7월  681  295   30\n",
              "8월  573  374  143"
            ]
          },
          "metadata": {},
          "execution_count": 133
        }
      ]
    },
    {
      "cell_type": "markdown",
      "metadata": {
        "id": "MgcR1XfN7iNp"
      },
      "source": [
        "열명도 바꾸겠습니다. 위에서 인덱스 값을 바꾼 뒤에 `inplace=True`로 매개변수를 지정하지 않았으므로 데이터프레임 자체의 인덱스 값은 바뀌지 않았습니다. 이번에는 매개변수로 지정해서 데이터프레임 자체를 열명이 바뀐 상태로 완전히 바꾸겠습니다."
      ]
    },
    {
      "cell_type": "code",
      "metadata": {
        "colab": {
          "base_uri": "https://localhost:8080/",
          "height": 204
        },
        "id": "7zlJyJnR7lLv",
        "outputId": "9907691d-e34f-424c-e200-be4694b218b1"
      },
      "source": [
        "df3.rename(columns={'포도':'청포도', '사과':'밤'}, inplace=True)\n",
        "df3"
      ],
      "execution_count": 134,
      "outputs": [
        {
          "output_type": "execute_result",
          "data": {
            "text/html": [
              "<div>\n",
              "<style scoped>\n",
              "    .dataframe tbody tr th:only-of-type {\n",
              "        vertical-align: middle;\n",
              "    }\n",
              "\n",
              "    .dataframe tbody tr th {\n",
              "        vertical-align: top;\n",
              "    }\n",
              "\n",
              "    .dataframe thead th {\n",
              "        text-align: right;\n",
              "    }\n",
              "</style>\n",
              "<table border=\"1\" class=\"dataframe\">\n",
              "  <thead>\n",
              "    <tr style=\"text-align: right;\">\n",
              "      <th></th>\n",
              "      <th>청포도</th>\n",
              "      <th>밤</th>\n",
              "      <th>배</th>\n",
              "    </tr>\n",
              "  </thead>\n",
              "  <tbody>\n",
              "    <tr>\n",
              "      <th>4월</th>\n",
              "      <td>402</td>\n",
              "      <td>332</td>\n",
              "      <td>102</td>\n",
              "    </tr>\n",
              "    <tr>\n",
              "      <th>5월</th>\n",
              "      <td>497</td>\n",
              "      <td>392</td>\n",
              "      <td>99</td>\n",
              "    </tr>\n",
              "    <tr>\n",
              "      <th>6월</th>\n",
              "      <td>306</td>\n",
              "      <td>391</td>\n",
              "      <td>80</td>\n",
              "    </tr>\n",
              "    <tr>\n",
              "      <th>7월</th>\n",
              "      <td>681</td>\n",
              "      <td>295</td>\n",
              "      <td>30</td>\n",
              "    </tr>\n",
              "    <tr>\n",
              "      <th>8월</th>\n",
              "      <td>573</td>\n",
              "      <td>374</td>\n",
              "      <td>143</td>\n",
              "    </tr>\n",
              "  </tbody>\n",
              "</table>\n",
              "</div>"
            ],
            "text/plain": [
              "    청포도    밤    배\n",
              "4월  402  332  102\n",
              "5월  497  392   99\n",
              "6월  306  391   80\n",
              "7월  681  295   30\n",
              "8월  573  374  143"
            ]
          },
          "metadata": {},
          "execution_count": 134
        }
      ]
    },
    {
      "cell_type": "markdown",
      "metadata": {
        "id": "ax9FFPynDJEr"
      },
      "source": [
        "`sorted()` 메서드를 사용해서 열명을 오름차순으로 정렬하겠습니다. 먼저 열명을 리스트로 만들고 객체에 전달합니다. 그리고 그 객체에 메서드를 적용합니다."
      ]
    },
    {
      "cell_type": "code",
      "metadata": {
        "colab": {
          "base_uri": "https://localhost:8080/"
        },
        "id": "Pq7i1sz5DQ43",
        "outputId": "9febbfb9-5f20-4d12-8060-d33a923a623f"
      },
      "source": [
        "df3_col = list(df3.columns.values)\n",
        "df3_sorted_col = sorted(df3_col)\n",
        "df3_sorted_col"
      ],
      "execution_count": 135,
      "outputs": [
        {
          "output_type": "execute_result",
          "data": {
            "text/plain": [
              "['밤', '배', '청포도']"
            ]
          },
          "metadata": {},
          "execution_count": 135
        }
      ]
    },
    {
      "cell_type": "markdown",
      "metadata": {
        "id": "p3ZfrsfIFHNx"
      },
      "source": [
        "정렬된 열명 리스트를 데이터프레임에 그대로 전달합니다."
      ]
    },
    {
      "cell_type": "code",
      "metadata": {
        "colab": {
          "base_uri": "https://localhost:8080/",
          "height": 204
        },
        "id": "WO6KQStPELoS",
        "outputId": "d1eca261-64b3-4a72-b36d-9a46cf2afefc"
      },
      "source": [
        "df3[df3_sorted_col]"
      ],
      "execution_count": 136,
      "outputs": [
        {
          "output_type": "execute_result",
          "data": {
            "text/html": [
              "<div>\n",
              "<style scoped>\n",
              "    .dataframe tbody tr th:only-of-type {\n",
              "        vertical-align: middle;\n",
              "    }\n",
              "\n",
              "    .dataframe tbody tr th {\n",
              "        vertical-align: top;\n",
              "    }\n",
              "\n",
              "    .dataframe thead th {\n",
              "        text-align: right;\n",
              "    }\n",
              "</style>\n",
              "<table border=\"1\" class=\"dataframe\">\n",
              "  <thead>\n",
              "    <tr style=\"text-align: right;\">\n",
              "      <th></th>\n",
              "      <th>밤</th>\n",
              "      <th>배</th>\n",
              "      <th>청포도</th>\n",
              "    </tr>\n",
              "  </thead>\n",
              "  <tbody>\n",
              "    <tr>\n",
              "      <th>4월</th>\n",
              "      <td>332</td>\n",
              "      <td>102</td>\n",
              "      <td>402</td>\n",
              "    </tr>\n",
              "    <tr>\n",
              "      <th>5월</th>\n",
              "      <td>392</td>\n",
              "      <td>99</td>\n",
              "      <td>497</td>\n",
              "    </tr>\n",
              "    <tr>\n",
              "      <th>6월</th>\n",
              "      <td>391</td>\n",
              "      <td>80</td>\n",
              "      <td>306</td>\n",
              "    </tr>\n",
              "    <tr>\n",
              "      <th>7월</th>\n",
              "      <td>295</td>\n",
              "      <td>30</td>\n",
              "      <td>681</td>\n",
              "    </tr>\n",
              "    <tr>\n",
              "      <th>8월</th>\n",
              "      <td>374</td>\n",
              "      <td>143</td>\n",
              "      <td>573</td>\n",
              "    </tr>\n",
              "  </tbody>\n",
              "</table>\n",
              "</div>"
            ],
            "text/plain": [
              "      밤    배  청포도\n",
              "4월  332  102  402\n",
              "5월  392   99  497\n",
              "6월  391   80  306\n",
              "7월  295   30  681\n",
              "8월  374  143  573"
            ]
          },
          "metadata": {},
          "execution_count": 136
        }
      ]
    },
    {
      "cell_type": "markdown",
      "metadata": {
        "id": "x1HDnTlnFWii"
      },
      "source": [
        "`reversed()` 메서드는 리스트 내의 원소 순서를 역순으로 바꿉니다. 이번에는 객체를 생성하지 않고 데이터프레임에 그대로 전달하겠습니다."
      ]
    },
    {
      "cell_type": "code",
      "metadata": {
        "colab": {
          "base_uri": "https://localhost:8080/",
          "height": 204
        },
        "id": "88QWRXVnGAOw",
        "outputId": "24d1d4eb-bcbc-4f66-c500-4f861c0ded8a"
      },
      "source": [
        "df3[reversed(df3_col)]"
      ],
      "execution_count": 137,
      "outputs": [
        {
          "output_type": "execute_result",
          "data": {
            "text/html": [
              "<div>\n",
              "<style scoped>\n",
              "    .dataframe tbody tr th:only-of-type {\n",
              "        vertical-align: middle;\n",
              "    }\n",
              "\n",
              "    .dataframe tbody tr th {\n",
              "        vertical-align: top;\n",
              "    }\n",
              "\n",
              "    .dataframe thead th {\n",
              "        text-align: right;\n",
              "    }\n",
              "</style>\n",
              "<table border=\"1\" class=\"dataframe\">\n",
              "  <thead>\n",
              "    <tr style=\"text-align: right;\">\n",
              "      <th></th>\n",
              "      <th>배</th>\n",
              "      <th>밤</th>\n",
              "      <th>청포도</th>\n",
              "    </tr>\n",
              "  </thead>\n",
              "  <tbody>\n",
              "    <tr>\n",
              "      <th>4월</th>\n",
              "      <td>102</td>\n",
              "      <td>332</td>\n",
              "      <td>402</td>\n",
              "    </tr>\n",
              "    <tr>\n",
              "      <th>5월</th>\n",
              "      <td>99</td>\n",
              "      <td>392</td>\n",
              "      <td>497</td>\n",
              "    </tr>\n",
              "    <tr>\n",
              "      <th>6월</th>\n",
              "      <td>80</td>\n",
              "      <td>391</td>\n",
              "      <td>306</td>\n",
              "    </tr>\n",
              "    <tr>\n",
              "      <th>7월</th>\n",
              "      <td>30</td>\n",
              "      <td>295</td>\n",
              "      <td>681</td>\n",
              "    </tr>\n",
              "    <tr>\n",
              "      <th>8월</th>\n",
              "      <td>143</td>\n",
              "      <td>374</td>\n",
              "      <td>573</td>\n",
              "    </tr>\n",
              "  </tbody>\n",
              "</table>\n",
              "</div>"
            ],
            "text/plain": [
              "      배    밤  청포도\n",
              "4월  102  332  402\n",
              "5월   99  392  497\n",
              "6월   80  391  306\n",
              "7월   30  295  681\n",
              "8월  143  374  573"
            ]
          },
          "metadata": {},
          "execution_count": 137
        }
      ]
    },
    {
      "cell_type": "markdown",
      "metadata": {
        "id": "bMChlOlyG8Vr"
      },
      "source": [
        "열 순서를 임의로 지정할 수 있습니다. 원하는 열명을 임의의 순서로 나열하면 됩니다."
      ]
    },
    {
      "cell_type": "code",
      "metadata": {
        "colab": {
          "base_uri": "https://localhost:8080/",
          "height": 204
        },
        "id": "918sL8MiHF2g",
        "outputId": "2031ccca-f625-4cab-d13a-6be0e90b404b"
      },
      "source": [
        "df3[['밤', '청포도', '배']]"
      ],
      "execution_count": 138,
      "outputs": [
        {
          "output_type": "execute_result",
          "data": {
            "text/html": [
              "<div>\n",
              "<style scoped>\n",
              "    .dataframe tbody tr th:only-of-type {\n",
              "        vertical-align: middle;\n",
              "    }\n",
              "\n",
              "    .dataframe tbody tr th {\n",
              "        vertical-align: top;\n",
              "    }\n",
              "\n",
              "    .dataframe thead th {\n",
              "        text-align: right;\n",
              "    }\n",
              "</style>\n",
              "<table border=\"1\" class=\"dataframe\">\n",
              "  <thead>\n",
              "    <tr style=\"text-align: right;\">\n",
              "      <th></th>\n",
              "      <th>밤</th>\n",
              "      <th>청포도</th>\n",
              "      <th>배</th>\n",
              "    </tr>\n",
              "  </thead>\n",
              "  <tbody>\n",
              "    <tr>\n",
              "      <th>4월</th>\n",
              "      <td>332</td>\n",
              "      <td>402</td>\n",
              "      <td>102</td>\n",
              "    </tr>\n",
              "    <tr>\n",
              "      <th>5월</th>\n",
              "      <td>392</td>\n",
              "      <td>497</td>\n",
              "      <td>99</td>\n",
              "    </tr>\n",
              "    <tr>\n",
              "      <th>6월</th>\n",
              "      <td>391</td>\n",
              "      <td>306</td>\n",
              "      <td>80</td>\n",
              "    </tr>\n",
              "    <tr>\n",
              "      <th>7월</th>\n",
              "      <td>295</td>\n",
              "      <td>681</td>\n",
              "      <td>30</td>\n",
              "    </tr>\n",
              "    <tr>\n",
              "      <th>8월</th>\n",
              "      <td>374</td>\n",
              "      <td>573</td>\n",
              "      <td>143</td>\n",
              "    </tr>\n",
              "  </tbody>\n",
              "</table>\n",
              "</div>"
            ],
            "text/plain": [
              "      밤  청포도    배\n",
              "4월  332  402  102\n",
              "5월  392  497   99\n",
              "6월  391  306   80\n",
              "7월  295  681   30\n",
              "8월  374  573  143"
            ]
          },
          "metadata": {},
          "execution_count": 138
        }
      ]
    },
    {
      "cell_type": "markdown",
      "metadata": {
        "id": "JajKWuGoHtXA"
      },
      "source": [
        "이번에는 열을 분리하겠습니다. 먼저 새로운 데이터프레임을 만들겠습니다."
      ]
    },
    {
      "cell_type": "code",
      "metadata": {
        "colab": {
          "base_uri": "https://localhost:8080/",
          "height": 172
        },
        "id": "ks5etwuKKcOf",
        "outputId": "a39e1b8b-0191-4a7e-8a6a-ac8faa54e75d"
      },
      "source": [
        "dic_data1 = {'입대일': ['2012-09-12', '2012-09-12', '2012-09-12', '2012-09-12'],\n",
        "            '군번': [20129948, 20129593, 20129302, 20129352],\n",
        "            '이름': ['이승민', '김대철', '장비호', '이진해'],\n",
        "            '보직': [20, 30, 10, 30]}\n",
        "df_split_get = pd.DataFrame(dic_data1)\n",
        "df_split_get"
      ],
      "execution_count": 139,
      "outputs": [
        {
          "output_type": "execute_result",
          "data": {
            "text/html": [
              "<div>\n",
              "<style scoped>\n",
              "    .dataframe tbody tr th:only-of-type {\n",
              "        vertical-align: middle;\n",
              "    }\n",
              "\n",
              "    .dataframe tbody tr th {\n",
              "        vertical-align: top;\n",
              "    }\n",
              "\n",
              "    .dataframe thead th {\n",
              "        text-align: right;\n",
              "    }\n",
              "</style>\n",
              "<table border=\"1\" class=\"dataframe\">\n",
              "  <thead>\n",
              "    <tr style=\"text-align: right;\">\n",
              "      <th></th>\n",
              "      <th>입대일</th>\n",
              "      <th>군번</th>\n",
              "      <th>이름</th>\n",
              "      <th>보직</th>\n",
              "    </tr>\n",
              "  </thead>\n",
              "  <tbody>\n",
              "    <tr>\n",
              "      <th>0</th>\n",
              "      <td>2012-09-12</td>\n",
              "      <td>20129948</td>\n",
              "      <td>이승민</td>\n",
              "      <td>20</td>\n",
              "    </tr>\n",
              "    <tr>\n",
              "      <th>1</th>\n",
              "      <td>2012-09-12</td>\n",
              "      <td>20129593</td>\n",
              "      <td>김대철</td>\n",
              "      <td>30</td>\n",
              "    </tr>\n",
              "    <tr>\n",
              "      <th>2</th>\n",
              "      <td>2012-09-12</td>\n",
              "      <td>20129302</td>\n",
              "      <td>장비호</td>\n",
              "      <td>10</td>\n",
              "    </tr>\n",
              "    <tr>\n",
              "      <th>3</th>\n",
              "      <td>2012-09-12</td>\n",
              "      <td>20129352</td>\n",
              "      <td>이진해</td>\n",
              "      <td>30</td>\n",
              "    </tr>\n",
              "  </tbody>\n",
              "</table>\n",
              "</div>"
            ],
            "text/plain": [
              "          입대일        군번   이름  보직\n",
              "0  2012-09-12  20129948  이승민  20\n",
              "1  2012-09-12  20129593  김대철  30\n",
              "2  2012-09-12  20129302  장비호  10\n",
              "3  2012-09-12  20129352  이진해  30"
            ]
          },
          "metadata": {},
          "execution_count": 139
        }
      ]
    },
    {
      "cell_type": "markdown",
      "metadata": {
        "id": "SlbHdzGxKwde"
      },
      "source": [
        "'입대일' 열의 데이터를 '연', '월', '일' 열로 나누겠습니다. 먼저 '입대일' 열 값의 데이터 타입을 확인합니다."
      ]
    },
    {
      "cell_type": "code",
      "metadata": {
        "colab": {
          "base_uri": "https://localhost:8080/"
        },
        "id": "OSDvG7LfLstB",
        "outputId": "aa2b33d5-c05f-4f60-d294-cdca70fd1199"
      },
      "source": [
        "df_split_get.dtypes"
      ],
      "execution_count": 140,
      "outputs": [
        {
          "output_type": "execute_result",
          "data": {
            "text/plain": [
              "입대일    object\n",
              "군번      int64\n",
              "이름     object\n",
              "보직      int64\n",
              "dtype: object"
            ]
          },
          "metadata": {},
          "execution_count": 140
        }
      ]
    },
    {
      "cell_type": "markdown",
      "metadata": {
        "id": "Eu5cG0OyMw1E"
      },
      "source": [
        "일반 문자열 타입입니다. 날짜형이라는 전제를 두고 '입대일' 열의 값을 문자열 타입으로 변경하는 코드를 작성하겠습니다."
      ]
    },
    {
      "cell_type": "code",
      "metadata": {
        "id": "wEQNXC5sMQKQ"
      },
      "source": [
        "df_split_get['입대일'] = df_split_get['입대일'].astype('str')"
      ],
      "execution_count": 141,
      "outputs": []
    },
    {
      "cell_type": "markdown",
      "metadata": {
        "id": "onedmS-PM3Dv"
      },
      "source": [
        "문자열 타입으로 변경한 '입대일' 열의 값을 `split()` 메서드로 연, 월, 일로 나누겠습니다."
      ]
    },
    {
      "cell_type": "code",
      "metadata": {
        "colab": {
          "base_uri": "https://localhost:8080/"
        },
        "id": "R_9WHIu_Nzmw",
        "outputId": "7cfaee87-c927-4fb8-9aed-9814277c0d53"
      },
      "source": [
        "dates = df_split_get['입대일'].str.split('-')\n",
        "dates"
      ],
      "execution_count": 142,
      "outputs": [
        {
          "output_type": "execute_result",
          "data": {
            "text/plain": [
              "0    [2012, 09, 12]\n",
              "1    [2012, 09, 12]\n",
              "2    [2012, 09, 12]\n",
              "3    [2012, 09, 12]\n",
              "Name: 입대일, dtype: object"
            ]
          },
          "metadata": {},
          "execution_count": 142
        }
      ]
    },
    {
      "cell_type": "markdown",
      "metadata": {
        "id": "jeIeV9K7OAvM"
      },
      "source": [
        "'연', '월', '일' 열을 새로 만들고 분리된 데이터를 추가하겠습니다. `get()` 메서드를 사용해서 값을 전달하겠습니다. 인자로는 리스트 인덱스를 지정합니다."
      ]
    },
    {
      "cell_type": "code",
      "metadata": {
        "colab": {
          "base_uri": "https://localhost:8080/",
          "height": 172
        },
        "id": "hwjDMjUWORns",
        "outputId": "2282087b-2ae4-4ea7-851e-6fe197406cce"
      },
      "source": [
        "df_split_get['연'] = dates.str.get(0)\n",
        "df_split_get['월'] = dates.str.get(1)\n",
        "df_split_get['일'] = dates.str.get(2)\n",
        "df_split_get"
      ],
      "execution_count": 143,
      "outputs": [
        {
          "output_type": "execute_result",
          "data": {
            "text/html": [
              "<div>\n",
              "<style scoped>\n",
              "    .dataframe tbody tr th:only-of-type {\n",
              "        vertical-align: middle;\n",
              "    }\n",
              "\n",
              "    .dataframe tbody tr th {\n",
              "        vertical-align: top;\n",
              "    }\n",
              "\n",
              "    .dataframe thead th {\n",
              "        text-align: right;\n",
              "    }\n",
              "</style>\n",
              "<table border=\"1\" class=\"dataframe\">\n",
              "  <thead>\n",
              "    <tr style=\"text-align: right;\">\n",
              "      <th></th>\n",
              "      <th>입대일</th>\n",
              "      <th>군번</th>\n",
              "      <th>이름</th>\n",
              "      <th>보직</th>\n",
              "      <th>연</th>\n",
              "      <th>월</th>\n",
              "      <th>일</th>\n",
              "    </tr>\n",
              "  </thead>\n",
              "  <tbody>\n",
              "    <tr>\n",
              "      <th>0</th>\n",
              "      <td>2012-09-12</td>\n",
              "      <td>20129948</td>\n",
              "      <td>이승민</td>\n",
              "      <td>20</td>\n",
              "      <td>2012</td>\n",
              "      <td>09</td>\n",
              "      <td>12</td>\n",
              "    </tr>\n",
              "    <tr>\n",
              "      <th>1</th>\n",
              "      <td>2012-09-12</td>\n",
              "      <td>20129593</td>\n",
              "      <td>김대철</td>\n",
              "      <td>30</td>\n",
              "      <td>2012</td>\n",
              "      <td>09</td>\n",
              "      <td>12</td>\n",
              "    </tr>\n",
              "    <tr>\n",
              "      <th>2</th>\n",
              "      <td>2012-09-12</td>\n",
              "      <td>20129302</td>\n",
              "      <td>장비호</td>\n",
              "      <td>10</td>\n",
              "      <td>2012</td>\n",
              "      <td>09</td>\n",
              "      <td>12</td>\n",
              "    </tr>\n",
              "    <tr>\n",
              "      <th>3</th>\n",
              "      <td>2012-09-12</td>\n",
              "      <td>20129352</td>\n",
              "      <td>이진해</td>\n",
              "      <td>30</td>\n",
              "      <td>2012</td>\n",
              "      <td>09</td>\n",
              "      <td>12</td>\n",
              "    </tr>\n",
              "  </tbody>\n",
              "</table>\n",
              "</div>"
            ],
            "text/plain": [
              "          입대일        군번   이름  보직     연   월   일\n",
              "0  2012-09-12  20129948  이승민  20  2012  09  12\n",
              "1  2012-09-12  20129593  김대철  30  2012  09  12\n",
              "2  2012-09-12  20129302  장비호  10  2012  09  12\n",
              "3  2012-09-12  20129352  이진해  30  2012  09  12"
            ]
          },
          "metadata": {},
          "execution_count": 143
        }
      ]
    },
    {
      "cell_type": "markdown",
      "metadata": {
        "id": "D1-vSs24-i1K"
      },
      "source": [
        "`drop()` 메서드를 사용하면 행과 열을 삭제할 수 있습니다. 매개변수 `axis`에 `0`을 지정하면(기본값이므로 지정하지 않아도 됩니다) 행을 삭제하고, `1`을 지정하면 열을 삭제합니다. `rename()` 메서드처럼 매개변수 `inplace`를 가지고 있으며 사용법은 동일합니다.\n",
        "\n",
        "`df3` 데이터프레임으로 예시하겠습니다. 삭제 예시를 들기 위해 `df3` 데이터프레임을 예시용 객체에 복제하겠습니다."
      ]
    },
    {
      "cell_type": "code",
      "metadata": {
        "colab": {
          "base_uri": "https://localhost:8080/",
          "height": 204
        },
        "id": "RnGr2lkl_IHW",
        "outputId": "076ef127-abc4-4910-d966-97e7b5206623"
      },
      "source": [
        "# `df3.copy()` 형식으로도 복제할 수 있습니다.\n",
        "df_drop = df3[:]\n",
        "df_drop"
      ],
      "execution_count": 144,
      "outputs": [
        {
          "output_type": "execute_result",
          "data": {
            "text/html": [
              "<div>\n",
              "<style scoped>\n",
              "    .dataframe tbody tr th:only-of-type {\n",
              "        vertical-align: middle;\n",
              "    }\n",
              "\n",
              "    .dataframe tbody tr th {\n",
              "        vertical-align: top;\n",
              "    }\n",
              "\n",
              "    .dataframe thead th {\n",
              "        text-align: right;\n",
              "    }\n",
              "</style>\n",
              "<table border=\"1\" class=\"dataframe\">\n",
              "  <thead>\n",
              "    <tr style=\"text-align: right;\">\n",
              "      <th></th>\n",
              "      <th>청포도</th>\n",
              "      <th>밤</th>\n",
              "      <th>배</th>\n",
              "    </tr>\n",
              "  </thead>\n",
              "  <tbody>\n",
              "    <tr>\n",
              "      <th>4월</th>\n",
              "      <td>402</td>\n",
              "      <td>332</td>\n",
              "      <td>102</td>\n",
              "    </tr>\n",
              "    <tr>\n",
              "      <th>5월</th>\n",
              "      <td>497</td>\n",
              "      <td>392</td>\n",
              "      <td>99</td>\n",
              "    </tr>\n",
              "    <tr>\n",
              "      <th>6월</th>\n",
              "      <td>306</td>\n",
              "      <td>391</td>\n",
              "      <td>80</td>\n",
              "    </tr>\n",
              "    <tr>\n",
              "      <th>7월</th>\n",
              "      <td>681</td>\n",
              "      <td>295</td>\n",
              "      <td>30</td>\n",
              "    </tr>\n",
              "    <tr>\n",
              "      <th>8월</th>\n",
              "      <td>573</td>\n",
              "      <td>374</td>\n",
              "      <td>143</td>\n",
              "    </tr>\n",
              "  </tbody>\n",
              "</table>\n",
              "</div>"
            ],
            "text/plain": [
              "    청포도    밤    배\n",
              "4월  402  332  102\n",
              "5월  497  392   99\n",
              "6월  306  391   80\n",
              "7월  681  295   30\n",
              "8월  573  374  143"
            ]
          },
          "metadata": {},
          "execution_count": 144
        }
      ]
    },
    {
      "cell_type": "markdown",
      "metadata": {
        "id": "yMe601H7CrHQ"
      },
      "source": [
        "'4월' 행을 삭제하겠습니다."
      ]
    },
    {
      "cell_type": "code",
      "metadata": {
        "colab": {
          "base_uri": "https://localhost:8080/",
          "height": 172
        },
        "id": "OSCwUeB2Cirl",
        "outputId": "7a0658b2-e8fa-475c-e900-59377ec710d1"
      },
      "source": [
        "df_drop.drop('4월')"
      ],
      "execution_count": 145,
      "outputs": [
        {
          "output_type": "execute_result",
          "data": {
            "text/html": [
              "<div>\n",
              "<style scoped>\n",
              "    .dataframe tbody tr th:only-of-type {\n",
              "        vertical-align: middle;\n",
              "    }\n",
              "\n",
              "    .dataframe tbody tr th {\n",
              "        vertical-align: top;\n",
              "    }\n",
              "\n",
              "    .dataframe thead th {\n",
              "        text-align: right;\n",
              "    }\n",
              "</style>\n",
              "<table border=\"1\" class=\"dataframe\">\n",
              "  <thead>\n",
              "    <tr style=\"text-align: right;\">\n",
              "      <th></th>\n",
              "      <th>청포도</th>\n",
              "      <th>밤</th>\n",
              "      <th>배</th>\n",
              "    </tr>\n",
              "  </thead>\n",
              "  <tbody>\n",
              "    <tr>\n",
              "      <th>5월</th>\n",
              "      <td>497</td>\n",
              "      <td>392</td>\n",
              "      <td>99</td>\n",
              "    </tr>\n",
              "    <tr>\n",
              "      <th>6월</th>\n",
              "      <td>306</td>\n",
              "      <td>391</td>\n",
              "      <td>80</td>\n",
              "    </tr>\n",
              "    <tr>\n",
              "      <th>7월</th>\n",
              "      <td>681</td>\n",
              "      <td>295</td>\n",
              "      <td>30</td>\n",
              "    </tr>\n",
              "    <tr>\n",
              "      <th>8월</th>\n",
              "      <td>573</td>\n",
              "      <td>374</td>\n",
              "      <td>143</td>\n",
              "    </tr>\n",
              "  </tbody>\n",
              "</table>\n",
              "</div>"
            ],
            "text/plain": [
              "    청포도    밤    배\n",
              "5월  497  392   99\n",
              "6월  306  391   80\n",
              "7월  681  295   30\n",
              "8월  573  374  143"
            ]
          },
          "metadata": {},
          "execution_count": 145
        }
      ]
    },
    {
      "cell_type": "markdown",
      "metadata": {
        "id": "wNdahHdxDeub"
      },
      "source": [
        "'4월' 행과 '8월' 행을 삭제하겠습니다. 다수 원소는 리스트로 묶습니다."
      ]
    },
    {
      "cell_type": "code",
      "metadata": {
        "colab": {
          "base_uri": "https://localhost:8080/",
          "height": 141
        },
        "id": "Y_MAkTi4DgGP",
        "outputId": "353b9469-8b9d-4910-ff6f-a55b7fb8b00c"
      },
      "source": [
        "df_drop.drop(['4월', '8월'])"
      ],
      "execution_count": 146,
      "outputs": [
        {
          "output_type": "execute_result",
          "data": {
            "text/html": [
              "<div>\n",
              "<style scoped>\n",
              "    .dataframe tbody tr th:only-of-type {\n",
              "        vertical-align: middle;\n",
              "    }\n",
              "\n",
              "    .dataframe tbody tr th {\n",
              "        vertical-align: top;\n",
              "    }\n",
              "\n",
              "    .dataframe thead th {\n",
              "        text-align: right;\n",
              "    }\n",
              "</style>\n",
              "<table border=\"1\" class=\"dataframe\">\n",
              "  <thead>\n",
              "    <tr style=\"text-align: right;\">\n",
              "      <th></th>\n",
              "      <th>청포도</th>\n",
              "      <th>밤</th>\n",
              "      <th>배</th>\n",
              "    </tr>\n",
              "  </thead>\n",
              "  <tbody>\n",
              "    <tr>\n",
              "      <th>5월</th>\n",
              "      <td>497</td>\n",
              "      <td>392</td>\n",
              "      <td>99</td>\n",
              "    </tr>\n",
              "    <tr>\n",
              "      <th>6월</th>\n",
              "      <td>306</td>\n",
              "      <td>391</td>\n",
              "      <td>80</td>\n",
              "    </tr>\n",
              "    <tr>\n",
              "      <th>7월</th>\n",
              "      <td>681</td>\n",
              "      <td>295</td>\n",
              "      <td>30</td>\n",
              "    </tr>\n",
              "  </tbody>\n",
              "</table>\n",
              "</div>"
            ],
            "text/plain": [
              "    청포도    밤   배\n",
              "5월  497  392  99\n",
              "6월  306  391  80\n",
              "7월  681  295  30"
            ]
          },
          "metadata": {},
          "execution_count": 146
        }
      ]
    },
    {
      "cell_type": "markdown",
      "metadata": {
        "id": "5JQ1smelCwzD"
      },
      "source": [
        "'배' 열을 삭제하겠습니다. 열을 삭제하려면 `axis` 매개변수에 `1`을 전달합니다."
      ]
    },
    {
      "cell_type": "code",
      "metadata": {
        "colab": {
          "base_uri": "https://localhost:8080/",
          "height": 204
        },
        "id": "p-F61hTqC0MG",
        "outputId": "6af6d561-60c8-4c8e-edf4-7fca6d683cab"
      },
      "source": [
        "df_drop.drop('배', axis=1)"
      ],
      "execution_count": 147,
      "outputs": [
        {
          "output_type": "execute_result",
          "data": {
            "text/html": [
              "<div>\n",
              "<style scoped>\n",
              "    .dataframe tbody tr th:only-of-type {\n",
              "        vertical-align: middle;\n",
              "    }\n",
              "\n",
              "    .dataframe tbody tr th {\n",
              "        vertical-align: top;\n",
              "    }\n",
              "\n",
              "    .dataframe thead th {\n",
              "        text-align: right;\n",
              "    }\n",
              "</style>\n",
              "<table border=\"1\" class=\"dataframe\">\n",
              "  <thead>\n",
              "    <tr style=\"text-align: right;\">\n",
              "      <th></th>\n",
              "      <th>청포도</th>\n",
              "      <th>밤</th>\n",
              "    </tr>\n",
              "  </thead>\n",
              "  <tbody>\n",
              "    <tr>\n",
              "      <th>4월</th>\n",
              "      <td>402</td>\n",
              "      <td>332</td>\n",
              "    </tr>\n",
              "    <tr>\n",
              "      <th>5월</th>\n",
              "      <td>497</td>\n",
              "      <td>392</td>\n",
              "    </tr>\n",
              "    <tr>\n",
              "      <th>6월</th>\n",
              "      <td>306</td>\n",
              "      <td>391</td>\n",
              "    </tr>\n",
              "    <tr>\n",
              "      <th>7월</th>\n",
              "      <td>681</td>\n",
              "      <td>295</td>\n",
              "    </tr>\n",
              "    <tr>\n",
              "      <th>8월</th>\n",
              "      <td>573</td>\n",
              "      <td>374</td>\n",
              "    </tr>\n",
              "  </tbody>\n",
              "</table>\n",
              "</div>"
            ],
            "text/plain": [
              "    청포도    밤\n",
              "4월  402  332\n",
              "5월  497  392\n",
              "6월  306  391\n",
              "7월  681  295\n",
              "8월  573  374"
            ]
          },
          "metadata": {},
          "execution_count": 147
        }
      ]
    },
    {
      "cell_type": "markdown",
      "metadata": {
        "id": "4PH5HPb2VhW_"
      },
      "source": [
        "행과 열을 바꾸려면(전치하려면) `T` 메서드나 `transpose()` 메서드를 사용합니다. 물론 영구적으로 바뀌지 않고 메서드를 사용할 때만 바뀝니다. 객체에 넘겨주면 전치된 데이터 프레임을 유지할 수 있습니다. `df3`으로 예시하겠습니다."
      ]
    },
    {
      "cell_type": "code",
      "metadata": {
        "colab": {
          "base_uri": "https://localhost:8080/",
          "height": 204
        },
        "id": "68rSDc1RVjpr",
        "outputId": "08662df5-2327-45cf-d86b-d6fd75ab5432"
      },
      "source": [
        "df3"
      ],
      "execution_count": 148,
      "outputs": [
        {
          "output_type": "execute_result",
          "data": {
            "text/html": [
              "<div>\n",
              "<style scoped>\n",
              "    .dataframe tbody tr th:only-of-type {\n",
              "        vertical-align: middle;\n",
              "    }\n",
              "\n",
              "    .dataframe tbody tr th {\n",
              "        vertical-align: top;\n",
              "    }\n",
              "\n",
              "    .dataframe thead th {\n",
              "        text-align: right;\n",
              "    }\n",
              "</style>\n",
              "<table border=\"1\" class=\"dataframe\">\n",
              "  <thead>\n",
              "    <tr style=\"text-align: right;\">\n",
              "      <th></th>\n",
              "      <th>청포도</th>\n",
              "      <th>밤</th>\n",
              "      <th>배</th>\n",
              "    </tr>\n",
              "  </thead>\n",
              "  <tbody>\n",
              "    <tr>\n",
              "      <th>4월</th>\n",
              "      <td>402</td>\n",
              "      <td>332</td>\n",
              "      <td>102</td>\n",
              "    </tr>\n",
              "    <tr>\n",
              "      <th>5월</th>\n",
              "      <td>497</td>\n",
              "      <td>392</td>\n",
              "      <td>99</td>\n",
              "    </tr>\n",
              "    <tr>\n",
              "      <th>6월</th>\n",
              "      <td>306</td>\n",
              "      <td>391</td>\n",
              "      <td>80</td>\n",
              "    </tr>\n",
              "    <tr>\n",
              "      <th>7월</th>\n",
              "      <td>681</td>\n",
              "      <td>295</td>\n",
              "      <td>30</td>\n",
              "    </tr>\n",
              "    <tr>\n",
              "      <th>8월</th>\n",
              "      <td>573</td>\n",
              "      <td>374</td>\n",
              "      <td>143</td>\n",
              "    </tr>\n",
              "  </tbody>\n",
              "</table>\n",
              "</div>"
            ],
            "text/plain": [
              "    청포도    밤    배\n",
              "4월  402  332  102\n",
              "5월  497  392   99\n",
              "6월  306  391   80\n",
              "7월  681  295   30\n",
              "8월  573  374  143"
            ]
          },
          "metadata": {},
          "execution_count": 148
        }
      ]
    },
    {
      "cell_type": "code",
      "metadata": {
        "colab": {
          "base_uri": "https://localhost:8080/",
          "height": 141
        },
        "id": "_eXrzVPBVcQB",
        "outputId": "27ff65fd-f42f-4805-d9fd-be1de08e8b15"
      },
      "source": [
        "df3.T"
      ],
      "execution_count": 149,
      "outputs": [
        {
          "output_type": "execute_result",
          "data": {
            "text/html": [
              "<div>\n",
              "<style scoped>\n",
              "    .dataframe tbody tr th:only-of-type {\n",
              "        vertical-align: middle;\n",
              "    }\n",
              "\n",
              "    .dataframe tbody tr th {\n",
              "        vertical-align: top;\n",
              "    }\n",
              "\n",
              "    .dataframe thead th {\n",
              "        text-align: right;\n",
              "    }\n",
              "</style>\n",
              "<table border=\"1\" class=\"dataframe\">\n",
              "  <thead>\n",
              "    <tr style=\"text-align: right;\">\n",
              "      <th></th>\n",
              "      <th>4월</th>\n",
              "      <th>5월</th>\n",
              "      <th>6월</th>\n",
              "      <th>7월</th>\n",
              "      <th>8월</th>\n",
              "    </tr>\n",
              "  </thead>\n",
              "  <tbody>\n",
              "    <tr>\n",
              "      <th>청포도</th>\n",
              "      <td>402</td>\n",
              "      <td>497</td>\n",
              "      <td>306</td>\n",
              "      <td>681</td>\n",
              "      <td>573</td>\n",
              "    </tr>\n",
              "    <tr>\n",
              "      <th>밤</th>\n",
              "      <td>332</td>\n",
              "      <td>392</td>\n",
              "      <td>391</td>\n",
              "      <td>295</td>\n",
              "      <td>374</td>\n",
              "    </tr>\n",
              "    <tr>\n",
              "      <th>배</th>\n",
              "      <td>102</td>\n",
              "      <td>99</td>\n",
              "      <td>80</td>\n",
              "      <td>30</td>\n",
              "      <td>143</td>\n",
              "    </tr>\n",
              "  </tbody>\n",
              "</table>\n",
              "</div>"
            ],
            "text/plain": [
              "      4월   5월   6월   7월   8월\n",
              "청포도  402  497  306  681  573\n",
              "밤    332  392  391  295  374\n",
              "배    102   99   80   30  143"
            ]
          },
          "metadata": {},
          "execution_count": 149
        }
      ]
    },
    {
      "cell_type": "code",
      "metadata": {
        "colab": {
          "base_uri": "https://localhost:8080/",
          "height": 141
        },
        "id": "K74VCR57t7FU",
        "outputId": "86f8a066-b843-4dbd-f546-20a5a7ab932f"
      },
      "source": [
        "df3.transpose()"
      ],
      "execution_count": 150,
      "outputs": [
        {
          "output_type": "execute_result",
          "data": {
            "text/html": [
              "<div>\n",
              "<style scoped>\n",
              "    .dataframe tbody tr th:only-of-type {\n",
              "        vertical-align: middle;\n",
              "    }\n",
              "\n",
              "    .dataframe tbody tr th {\n",
              "        vertical-align: top;\n",
              "    }\n",
              "\n",
              "    .dataframe thead th {\n",
              "        text-align: right;\n",
              "    }\n",
              "</style>\n",
              "<table border=\"1\" class=\"dataframe\">\n",
              "  <thead>\n",
              "    <tr style=\"text-align: right;\">\n",
              "      <th></th>\n",
              "      <th>4월</th>\n",
              "      <th>5월</th>\n",
              "      <th>6월</th>\n",
              "      <th>7월</th>\n",
              "      <th>8월</th>\n",
              "    </tr>\n",
              "  </thead>\n",
              "  <tbody>\n",
              "    <tr>\n",
              "      <th>청포도</th>\n",
              "      <td>402</td>\n",
              "      <td>497</td>\n",
              "      <td>306</td>\n",
              "      <td>681</td>\n",
              "      <td>573</td>\n",
              "    </tr>\n",
              "    <tr>\n",
              "      <th>밤</th>\n",
              "      <td>332</td>\n",
              "      <td>392</td>\n",
              "      <td>391</td>\n",
              "      <td>295</td>\n",
              "      <td>374</td>\n",
              "    </tr>\n",
              "    <tr>\n",
              "      <th>배</th>\n",
              "      <td>102</td>\n",
              "      <td>99</td>\n",
              "      <td>80</td>\n",
              "      <td>30</td>\n",
              "      <td>143</td>\n",
              "    </tr>\n",
              "  </tbody>\n",
              "</table>\n",
              "</div>"
            ],
            "text/plain": [
              "      4월   5월   6월   7월   8월\n",
              "청포도  402  497  306  681  573\n",
              "밤    332  392  391  295  374\n",
              "배    102   99   80   30  143"
            ]
          },
          "metadata": {},
          "execution_count": 150
        }
      ]
    },
    {
      "cell_type": "markdown",
      "metadata": {
        "id": "-Yz9PuWScOh8"
      },
      "source": [
        "이번에는 원소를 지정해서 값을 변경하겠습니다. 인덱싱과 슬라이싱 모두 사용할 수 있습니다. 먼저 `df3` 데이터프레임을 복제한 객체를 만듭니다."
      ]
    },
    {
      "cell_type": "code",
      "metadata": {
        "colab": {
          "base_uri": "https://localhost:8080/",
          "height": 204
        },
        "id": "8tnGLS4ycYe_",
        "outputId": "a84f306f-eab8-4275-ca45-cdc568718ea0"
      },
      "source": [
        "df3_trans = df3[:]\n",
        "df3_trans"
      ],
      "execution_count": 151,
      "outputs": [
        {
          "output_type": "execute_result",
          "data": {
            "text/html": [
              "<div>\n",
              "<style scoped>\n",
              "    .dataframe tbody tr th:only-of-type {\n",
              "        vertical-align: middle;\n",
              "    }\n",
              "\n",
              "    .dataframe tbody tr th {\n",
              "        vertical-align: top;\n",
              "    }\n",
              "\n",
              "    .dataframe thead th {\n",
              "        text-align: right;\n",
              "    }\n",
              "</style>\n",
              "<table border=\"1\" class=\"dataframe\">\n",
              "  <thead>\n",
              "    <tr style=\"text-align: right;\">\n",
              "      <th></th>\n",
              "      <th>청포도</th>\n",
              "      <th>밤</th>\n",
              "      <th>배</th>\n",
              "    </tr>\n",
              "  </thead>\n",
              "  <tbody>\n",
              "    <tr>\n",
              "      <th>4월</th>\n",
              "      <td>402</td>\n",
              "      <td>332</td>\n",
              "      <td>102</td>\n",
              "    </tr>\n",
              "    <tr>\n",
              "      <th>5월</th>\n",
              "      <td>497</td>\n",
              "      <td>392</td>\n",
              "      <td>99</td>\n",
              "    </tr>\n",
              "    <tr>\n",
              "      <th>6월</th>\n",
              "      <td>306</td>\n",
              "      <td>391</td>\n",
              "      <td>80</td>\n",
              "    </tr>\n",
              "    <tr>\n",
              "      <th>7월</th>\n",
              "      <td>681</td>\n",
              "      <td>295</td>\n",
              "      <td>30</td>\n",
              "    </tr>\n",
              "    <tr>\n",
              "      <th>8월</th>\n",
              "      <td>573</td>\n",
              "      <td>374</td>\n",
              "      <td>143</td>\n",
              "    </tr>\n",
              "  </tbody>\n",
              "</table>\n",
              "</div>"
            ],
            "text/plain": [
              "    청포도    밤    배\n",
              "4월  402  332  102\n",
              "5월  497  392   99\n",
              "6월  306  391   80\n",
              "7월  681  295   30\n",
              "8월  573  374  143"
            ]
          },
          "metadata": {},
          "execution_count": 151
        }
      ]
    },
    {
      "cell_type": "markdown",
      "metadata": {
        "id": "BCp3DuMaca6H"
      },
      "source": [
        "'4월' 행의 '청포도' 값을 바꾸겠습니다. 먼저 행부터 접근하겠습니다."
      ]
    },
    {
      "cell_type": "code",
      "metadata": {
        "colab": {
          "base_uri": "https://localhost:8080/",
          "height": 204
        },
        "id": "7tJ1pNmgcjd4",
        "outputId": "fac9db7c-527c-4188-c36c-ea453b5efafd"
      },
      "source": [
        "df3_trans.loc['4월', '청포도'] = 1\n",
        "df3_trans"
      ],
      "execution_count": 152,
      "outputs": [
        {
          "output_type": "execute_result",
          "data": {
            "text/html": [
              "<div>\n",
              "<style scoped>\n",
              "    .dataframe tbody tr th:only-of-type {\n",
              "        vertical-align: middle;\n",
              "    }\n",
              "\n",
              "    .dataframe tbody tr th {\n",
              "        vertical-align: top;\n",
              "    }\n",
              "\n",
              "    .dataframe thead th {\n",
              "        text-align: right;\n",
              "    }\n",
              "</style>\n",
              "<table border=\"1\" class=\"dataframe\">\n",
              "  <thead>\n",
              "    <tr style=\"text-align: right;\">\n",
              "      <th></th>\n",
              "      <th>청포도</th>\n",
              "      <th>밤</th>\n",
              "      <th>배</th>\n",
              "    </tr>\n",
              "  </thead>\n",
              "  <tbody>\n",
              "    <tr>\n",
              "      <th>4월</th>\n",
              "      <td>1</td>\n",
              "      <td>332</td>\n",
              "      <td>102</td>\n",
              "    </tr>\n",
              "    <tr>\n",
              "      <th>5월</th>\n",
              "      <td>497</td>\n",
              "      <td>392</td>\n",
              "      <td>99</td>\n",
              "    </tr>\n",
              "    <tr>\n",
              "      <th>6월</th>\n",
              "      <td>306</td>\n",
              "      <td>391</td>\n",
              "      <td>80</td>\n",
              "    </tr>\n",
              "    <tr>\n",
              "      <th>7월</th>\n",
              "      <td>681</td>\n",
              "      <td>295</td>\n",
              "      <td>30</td>\n",
              "    </tr>\n",
              "    <tr>\n",
              "      <th>8월</th>\n",
              "      <td>573</td>\n",
              "      <td>374</td>\n",
              "      <td>143</td>\n",
              "    </tr>\n",
              "  </tbody>\n",
              "</table>\n",
              "</div>"
            ],
            "text/plain": [
              "    청포도    밤    배\n",
              "4월    1  332  102\n",
              "5월  497  392   99\n",
              "6월  306  391   80\n",
              "7월  681  295   30\n",
              "8월  573  374  143"
            ]
          },
          "metadata": {},
          "execution_count": 152
        }
      ]
    },
    {
      "cell_type": "code",
      "metadata": {
        "colab": {
          "base_uri": "https://localhost:8080/",
          "height": 204
        },
        "id": "rkU7Cg2VeI2m",
        "outputId": "320da802-d564-4e86-c5d8-f5b3f2d9f707"
      },
      "source": [
        "df3_trans.iloc[0, 0] = 2\n",
        "df3_trans"
      ],
      "execution_count": 153,
      "outputs": [
        {
          "output_type": "execute_result",
          "data": {
            "text/html": [
              "<div>\n",
              "<style scoped>\n",
              "    .dataframe tbody tr th:only-of-type {\n",
              "        vertical-align: middle;\n",
              "    }\n",
              "\n",
              "    .dataframe tbody tr th {\n",
              "        vertical-align: top;\n",
              "    }\n",
              "\n",
              "    .dataframe thead th {\n",
              "        text-align: right;\n",
              "    }\n",
              "</style>\n",
              "<table border=\"1\" class=\"dataframe\">\n",
              "  <thead>\n",
              "    <tr style=\"text-align: right;\">\n",
              "      <th></th>\n",
              "      <th>청포도</th>\n",
              "      <th>밤</th>\n",
              "      <th>배</th>\n",
              "    </tr>\n",
              "  </thead>\n",
              "  <tbody>\n",
              "    <tr>\n",
              "      <th>4월</th>\n",
              "      <td>2</td>\n",
              "      <td>332</td>\n",
              "      <td>102</td>\n",
              "    </tr>\n",
              "    <tr>\n",
              "      <th>5월</th>\n",
              "      <td>497</td>\n",
              "      <td>392</td>\n",
              "      <td>99</td>\n",
              "    </tr>\n",
              "    <tr>\n",
              "      <th>6월</th>\n",
              "      <td>306</td>\n",
              "      <td>391</td>\n",
              "      <td>80</td>\n",
              "    </tr>\n",
              "    <tr>\n",
              "      <th>7월</th>\n",
              "      <td>681</td>\n",
              "      <td>295</td>\n",
              "      <td>30</td>\n",
              "    </tr>\n",
              "    <tr>\n",
              "      <th>8월</th>\n",
              "      <td>573</td>\n",
              "      <td>374</td>\n",
              "      <td>143</td>\n",
              "    </tr>\n",
              "  </tbody>\n",
              "</table>\n",
              "</div>"
            ],
            "text/plain": [
              "    청포도    밤    배\n",
              "4월    2  332  102\n",
              "5월  497  392   99\n",
              "6월  306  391   80\n",
              "7월  681  295   30\n",
              "8월  573  374  143"
            ]
          },
          "metadata": {},
          "execution_count": 153
        }
      ]
    },
    {
      "cell_type": "markdown",
      "metadata": {
        "id": "uaa46JdzfT42"
      },
      "source": [
        "'7월' 행과 '8월' 행의 '밤'과 '배' 값을 바꾸겠습니다. 먼저 행부터 접근하겠습니다."
      ]
    },
    {
      "cell_type": "code",
      "metadata": {
        "colab": {
          "base_uri": "https://localhost:8080/",
          "height": 204
        },
        "id": "PbAwz_UufgmC",
        "outputId": "cd24b5ba-f9ef-4789-a8dd-2e30c345c7e7"
      },
      "source": [
        "df3_trans.loc[['7월', '8월'], ['밤', '배']] = 1\n",
        "df3_trans"
      ],
      "execution_count": 154,
      "outputs": [
        {
          "output_type": "execute_result",
          "data": {
            "text/html": [
              "<div>\n",
              "<style scoped>\n",
              "    .dataframe tbody tr th:only-of-type {\n",
              "        vertical-align: middle;\n",
              "    }\n",
              "\n",
              "    .dataframe tbody tr th {\n",
              "        vertical-align: top;\n",
              "    }\n",
              "\n",
              "    .dataframe thead th {\n",
              "        text-align: right;\n",
              "    }\n",
              "</style>\n",
              "<table border=\"1\" class=\"dataframe\">\n",
              "  <thead>\n",
              "    <tr style=\"text-align: right;\">\n",
              "      <th></th>\n",
              "      <th>청포도</th>\n",
              "      <th>밤</th>\n",
              "      <th>배</th>\n",
              "    </tr>\n",
              "  </thead>\n",
              "  <tbody>\n",
              "    <tr>\n",
              "      <th>4월</th>\n",
              "      <td>2</td>\n",
              "      <td>332</td>\n",
              "      <td>102</td>\n",
              "    </tr>\n",
              "    <tr>\n",
              "      <th>5월</th>\n",
              "      <td>497</td>\n",
              "      <td>392</td>\n",
              "      <td>99</td>\n",
              "    </tr>\n",
              "    <tr>\n",
              "      <th>6월</th>\n",
              "      <td>306</td>\n",
              "      <td>391</td>\n",
              "      <td>80</td>\n",
              "    </tr>\n",
              "    <tr>\n",
              "      <th>7월</th>\n",
              "      <td>681</td>\n",
              "      <td>1</td>\n",
              "      <td>1</td>\n",
              "    </tr>\n",
              "    <tr>\n",
              "      <th>8월</th>\n",
              "      <td>573</td>\n",
              "      <td>1</td>\n",
              "      <td>1</td>\n",
              "    </tr>\n",
              "  </tbody>\n",
              "</table>\n",
              "</div>"
            ],
            "text/plain": [
              "    청포도    밤    배\n",
              "4월    2  332  102\n",
              "5월  497  392   99\n",
              "6월  306  391   80\n",
              "7월  681    1    1\n",
              "8월  573    1    1"
            ]
          },
          "metadata": {},
          "execution_count": 154
        }
      ]
    },
    {
      "cell_type": "code",
      "metadata": {
        "colab": {
          "base_uri": "https://localhost:8080/",
          "height": 204
        },
        "id": "s5Bt3Mk2gk6q",
        "outputId": "24251c40-adfa-4aa7-e7b9-61e3980c8882"
      },
      "source": [
        "df3_trans.iloc[[3, 4], [1, 2]] = 2\n",
        "df3_trans"
      ],
      "execution_count": 155,
      "outputs": [
        {
          "output_type": "execute_result",
          "data": {
            "text/html": [
              "<div>\n",
              "<style scoped>\n",
              "    .dataframe tbody tr th:only-of-type {\n",
              "        vertical-align: middle;\n",
              "    }\n",
              "\n",
              "    .dataframe tbody tr th {\n",
              "        vertical-align: top;\n",
              "    }\n",
              "\n",
              "    .dataframe thead th {\n",
              "        text-align: right;\n",
              "    }\n",
              "</style>\n",
              "<table border=\"1\" class=\"dataframe\">\n",
              "  <thead>\n",
              "    <tr style=\"text-align: right;\">\n",
              "      <th></th>\n",
              "      <th>청포도</th>\n",
              "      <th>밤</th>\n",
              "      <th>배</th>\n",
              "    </tr>\n",
              "  </thead>\n",
              "  <tbody>\n",
              "    <tr>\n",
              "      <th>4월</th>\n",
              "      <td>2</td>\n",
              "      <td>332</td>\n",
              "      <td>102</td>\n",
              "    </tr>\n",
              "    <tr>\n",
              "      <th>5월</th>\n",
              "      <td>497</td>\n",
              "      <td>392</td>\n",
              "      <td>99</td>\n",
              "    </tr>\n",
              "    <tr>\n",
              "      <th>6월</th>\n",
              "      <td>306</td>\n",
              "      <td>391</td>\n",
              "      <td>80</td>\n",
              "    </tr>\n",
              "    <tr>\n",
              "      <th>7월</th>\n",
              "      <td>681</td>\n",
              "      <td>2</td>\n",
              "      <td>2</td>\n",
              "    </tr>\n",
              "    <tr>\n",
              "      <th>8월</th>\n",
              "      <td>573</td>\n",
              "      <td>2</td>\n",
              "      <td>2</td>\n",
              "    </tr>\n",
              "  </tbody>\n",
              "</table>\n",
              "</div>"
            ],
            "text/plain": [
              "    청포도    밤    배\n",
              "4월    2  332  102\n",
              "5월  497  392   99\n",
              "6월  306  391   80\n",
              "7월  681    2    2\n",
              "8월  573    2    2"
            ]
          },
          "metadata": {},
          "execution_count": 155
        }
      ]
    },
    {
      "cell_type": "code",
      "metadata": {
        "colab": {
          "base_uri": "https://localhost:8080/",
          "height": 204
        },
        "id": "b5gkKKlJgtxq",
        "outputId": "6bc206c8-a33e-4dfb-dc7e-1a31581bccdb"
      },
      "source": [
        "df3_trans.iloc[3:, 1:] = 3\n",
        "df3_trans"
      ],
      "execution_count": 156,
      "outputs": [
        {
          "output_type": "execute_result",
          "data": {
            "text/html": [
              "<div>\n",
              "<style scoped>\n",
              "    .dataframe tbody tr th:only-of-type {\n",
              "        vertical-align: middle;\n",
              "    }\n",
              "\n",
              "    .dataframe tbody tr th {\n",
              "        vertical-align: top;\n",
              "    }\n",
              "\n",
              "    .dataframe thead th {\n",
              "        text-align: right;\n",
              "    }\n",
              "</style>\n",
              "<table border=\"1\" class=\"dataframe\">\n",
              "  <thead>\n",
              "    <tr style=\"text-align: right;\">\n",
              "      <th></th>\n",
              "      <th>청포도</th>\n",
              "      <th>밤</th>\n",
              "      <th>배</th>\n",
              "    </tr>\n",
              "  </thead>\n",
              "  <tbody>\n",
              "    <tr>\n",
              "      <th>4월</th>\n",
              "      <td>2</td>\n",
              "      <td>332</td>\n",
              "      <td>102</td>\n",
              "    </tr>\n",
              "    <tr>\n",
              "      <th>5월</th>\n",
              "      <td>497</td>\n",
              "      <td>392</td>\n",
              "      <td>99</td>\n",
              "    </tr>\n",
              "    <tr>\n",
              "      <th>6월</th>\n",
              "      <td>306</td>\n",
              "      <td>391</td>\n",
              "      <td>80</td>\n",
              "    </tr>\n",
              "    <tr>\n",
              "      <th>7월</th>\n",
              "      <td>681</td>\n",
              "      <td>3</td>\n",
              "      <td>3</td>\n",
              "    </tr>\n",
              "    <tr>\n",
              "      <th>8월</th>\n",
              "      <td>573</td>\n",
              "      <td>3</td>\n",
              "      <td>3</td>\n",
              "    </tr>\n",
              "  </tbody>\n",
              "</table>\n",
              "</div>"
            ],
            "text/plain": [
              "    청포도    밤    배\n",
              "4월    2  332  102\n",
              "5월  497  392   99\n",
              "6월  306  391   80\n",
              "7월  681    3    3\n",
              "8월  573    3    3"
            ]
          },
          "metadata": {},
          "execution_count": 156
        }
      ]
    },
    {
      "cell_type": "markdown",
      "metadata": {
        "id": "pO-8SeDBeESv"
      },
      "source": [
        "이번에는 열부터 접근하겠습니다. '배' 열의 '4월' 값을 바꾸겠습니다."
      ]
    },
    {
      "cell_type": "code",
      "metadata": {
        "colab": {
          "base_uri": "https://localhost:8080/",
          "height": 204
        },
        "id": "rcaCEOUah_bf",
        "outputId": "ca81560c-ec9c-45c0-8f09-dc35ad1e1c50"
      },
      "source": [
        "df3_trans['배']['4월'] = 1\n",
        "df3_trans"
      ],
      "execution_count": 157,
      "outputs": [
        {
          "output_type": "execute_result",
          "data": {
            "text/html": [
              "<div>\n",
              "<style scoped>\n",
              "    .dataframe tbody tr th:only-of-type {\n",
              "        vertical-align: middle;\n",
              "    }\n",
              "\n",
              "    .dataframe tbody tr th {\n",
              "        vertical-align: top;\n",
              "    }\n",
              "\n",
              "    .dataframe thead th {\n",
              "        text-align: right;\n",
              "    }\n",
              "</style>\n",
              "<table border=\"1\" class=\"dataframe\">\n",
              "  <thead>\n",
              "    <tr style=\"text-align: right;\">\n",
              "      <th></th>\n",
              "      <th>청포도</th>\n",
              "      <th>밤</th>\n",
              "      <th>배</th>\n",
              "    </tr>\n",
              "  </thead>\n",
              "  <tbody>\n",
              "    <tr>\n",
              "      <th>4월</th>\n",
              "      <td>2</td>\n",
              "      <td>332</td>\n",
              "      <td>1</td>\n",
              "    </tr>\n",
              "    <tr>\n",
              "      <th>5월</th>\n",
              "      <td>497</td>\n",
              "      <td>392</td>\n",
              "      <td>99</td>\n",
              "    </tr>\n",
              "    <tr>\n",
              "      <th>6월</th>\n",
              "      <td>306</td>\n",
              "      <td>391</td>\n",
              "      <td>80</td>\n",
              "    </tr>\n",
              "    <tr>\n",
              "      <th>7월</th>\n",
              "      <td>681</td>\n",
              "      <td>3</td>\n",
              "      <td>3</td>\n",
              "    </tr>\n",
              "    <tr>\n",
              "      <th>8월</th>\n",
              "      <td>573</td>\n",
              "      <td>3</td>\n",
              "      <td>3</td>\n",
              "    </tr>\n",
              "  </tbody>\n",
              "</table>\n",
              "</div>"
            ],
            "text/plain": [
              "    청포도    밤   배\n",
              "4월    2  332   1\n",
              "5월  497  392  99\n",
              "6월  306  391  80\n",
              "7월  681    3   3\n",
              "8월  573    3   3"
            ]
          },
          "metadata": {},
          "execution_count": 157
        }
      ]
    },
    {
      "cell_type": "code",
      "metadata": {
        "colab": {
          "base_uri": "https://localhost:8080/",
          "height": 204
        },
        "id": "cfrOhtyBjb2i",
        "outputId": "a421a301-8d17-4048-9730-e43f0ccfd553"
      },
      "source": [
        "df3_trans['배'][0] = 2\n",
        "df3_trans"
      ],
      "execution_count": 158,
      "outputs": [
        {
          "output_type": "execute_result",
          "data": {
            "text/html": [
              "<div>\n",
              "<style scoped>\n",
              "    .dataframe tbody tr th:only-of-type {\n",
              "        vertical-align: middle;\n",
              "    }\n",
              "\n",
              "    .dataframe tbody tr th {\n",
              "        vertical-align: top;\n",
              "    }\n",
              "\n",
              "    .dataframe thead th {\n",
              "        text-align: right;\n",
              "    }\n",
              "</style>\n",
              "<table border=\"1\" class=\"dataframe\">\n",
              "  <thead>\n",
              "    <tr style=\"text-align: right;\">\n",
              "      <th></th>\n",
              "      <th>청포도</th>\n",
              "      <th>밤</th>\n",
              "      <th>배</th>\n",
              "    </tr>\n",
              "  </thead>\n",
              "  <tbody>\n",
              "    <tr>\n",
              "      <th>4월</th>\n",
              "      <td>2</td>\n",
              "      <td>332</td>\n",
              "      <td>2</td>\n",
              "    </tr>\n",
              "    <tr>\n",
              "      <th>5월</th>\n",
              "      <td>497</td>\n",
              "      <td>392</td>\n",
              "      <td>99</td>\n",
              "    </tr>\n",
              "    <tr>\n",
              "      <th>6월</th>\n",
              "      <td>306</td>\n",
              "      <td>391</td>\n",
              "      <td>80</td>\n",
              "    </tr>\n",
              "    <tr>\n",
              "      <th>7월</th>\n",
              "      <td>681</td>\n",
              "      <td>3</td>\n",
              "      <td>3</td>\n",
              "    </tr>\n",
              "    <tr>\n",
              "      <th>8월</th>\n",
              "      <td>573</td>\n",
              "      <td>3</td>\n",
              "      <td>3</td>\n",
              "    </tr>\n",
              "  </tbody>\n",
              "</table>\n",
              "</div>"
            ],
            "text/plain": [
              "    청포도    밤   배\n",
              "4월    2  332   2\n",
              "5월  497  392  99\n",
              "6월  306  391  80\n",
              "7월  681    3   3\n",
              "8월  573    3   3"
            ]
          },
          "metadata": {},
          "execution_count": 158
        }
      ]
    },
    {
      "cell_type": "markdown",
      "metadata": {
        "id": "EWI-n1CikNJn"
      },
      "source": [
        "'청포도' 열과 '배' 열의 '5월'과 '6월' 값을 바꾸겠습니다."
      ]
    },
    {
      "cell_type": "code",
      "metadata": {
        "colab": {
          "base_uri": "https://localhost:8080/",
          "height": 488
        },
        "id": "QpSrtoPikUeJ",
        "outputId": "fa8de76f-4a83-4eb8-8590-e74b8c9ab410"
      },
      "source": [
        "df3_trans[['청포도', '배']][1:3] = 1\n",
        "df3_trans"
      ],
      "execution_count": 159,
      "outputs": [
        {
          "output_type": "stream",
          "name": "stderr",
          "text": [
            "/usr/local/lib/python3.7/dist-packages/ipykernel_launcher.py:1: SettingWithCopyWarning: \n",
            "A value is trying to be set on a copy of a slice from a DataFrame.\n",
            "Try using .loc[row_indexer,col_indexer] = value instead\n",
            "\n",
            "See the caveats in the documentation: https://pandas.pydata.org/pandas-docs/stable/user_guide/indexing.html#returning-a-view-versus-a-copy\n",
            "  \"\"\"Entry point for launching an IPython kernel.\n",
            "/usr/local/lib/python3.7/dist-packages/pandas/core/frame.py:3051: SettingWithCopyWarning: \n",
            "A value is trying to be set on a copy of a slice from a DataFrame\n",
            "\n",
            "See the caveats in the documentation: https://pandas.pydata.org/pandas-docs/stable/user_guide/indexing.html#returning-a-view-versus-a-copy\n",
            "  self.iloc._setitem_with_indexer(key, value)\n",
            "/usr/local/lib/python3.7/dist-packages/pandas/core/frame.py:3036: SettingWithCopyWarning: \n",
            "A value is trying to be set on a copy of a slice from a DataFrame\n",
            "\n",
            "See the caveats in the documentation: https://pandas.pydata.org/pandas-docs/stable/user_guide/indexing.html#returning-a-view-versus-a-copy\n",
            "  return self._setitem_slice(indexer, value)\n"
          ]
        },
        {
          "output_type": "execute_result",
          "data": {
            "text/html": [
              "<div>\n",
              "<style scoped>\n",
              "    .dataframe tbody tr th:only-of-type {\n",
              "        vertical-align: middle;\n",
              "    }\n",
              "\n",
              "    .dataframe tbody tr th {\n",
              "        vertical-align: top;\n",
              "    }\n",
              "\n",
              "    .dataframe thead th {\n",
              "        text-align: right;\n",
              "    }\n",
              "</style>\n",
              "<table border=\"1\" class=\"dataframe\">\n",
              "  <thead>\n",
              "    <tr style=\"text-align: right;\">\n",
              "      <th></th>\n",
              "      <th>청포도</th>\n",
              "      <th>밤</th>\n",
              "      <th>배</th>\n",
              "    </tr>\n",
              "  </thead>\n",
              "  <tbody>\n",
              "    <tr>\n",
              "      <th>4월</th>\n",
              "      <td>2</td>\n",
              "      <td>332</td>\n",
              "      <td>2</td>\n",
              "    </tr>\n",
              "    <tr>\n",
              "      <th>5월</th>\n",
              "      <td>497</td>\n",
              "      <td>392</td>\n",
              "      <td>99</td>\n",
              "    </tr>\n",
              "    <tr>\n",
              "      <th>6월</th>\n",
              "      <td>306</td>\n",
              "      <td>391</td>\n",
              "      <td>80</td>\n",
              "    </tr>\n",
              "    <tr>\n",
              "      <th>7월</th>\n",
              "      <td>681</td>\n",
              "      <td>3</td>\n",
              "      <td>3</td>\n",
              "    </tr>\n",
              "    <tr>\n",
              "      <th>8월</th>\n",
              "      <td>573</td>\n",
              "      <td>3</td>\n",
              "      <td>3</td>\n",
              "    </tr>\n",
              "  </tbody>\n",
              "</table>\n",
              "</div>"
            ],
            "text/plain": [
              "    청포도    밤   배\n",
              "4월    2  332   2\n",
              "5월  497  392  99\n",
              "6월  306  391  80\n",
              "7월  681    3   3\n",
              "8월  573    3   3"
            ]
          },
          "metadata": {},
          "execution_count": 159
        }
      ]
    },
    {
      "cell_type": "markdown",
      "metadata": {
        "id": "HzlxZVmtn9lP"
      },
      "source": [
        "위 형식을 취하면 `loc[]` 메서드를 대신 사용하라고 나옵니다. 다수 열을 선택해서 다수 행 값을 출력하려면 위 형식을 취해도 괜찮지만, 값을 바꾸려면 `loc[]` 메서드나 `iloc[]` 메서드를 사용해야 합니다. 물론 열을 일일이 하나씩 지정해서 값을 바꾸는 방법도 있지만 비효율적입니다.\n",
        "\n",
        "따라서 다시 `loc[]` 함수를 사용하여 값을 바꾸겠습니다."
      ]
    },
    {
      "cell_type": "code",
      "metadata": {
        "colab": {
          "base_uri": "https://localhost:8080/",
          "height": 204
        },
        "id": "kbZMyxYboTfE",
        "outputId": "e0d3ff04-c6cc-496c-ee57-11c4995d6663"
      },
      "source": [
        "df3_trans.loc['5월':'6월', ['청포도', '배']] = 1\n",
        "df3_trans"
      ],
      "execution_count": 160,
      "outputs": [
        {
          "output_type": "execute_result",
          "data": {
            "text/html": [
              "<div>\n",
              "<style scoped>\n",
              "    .dataframe tbody tr th:only-of-type {\n",
              "        vertical-align: middle;\n",
              "    }\n",
              "\n",
              "    .dataframe tbody tr th {\n",
              "        vertical-align: top;\n",
              "    }\n",
              "\n",
              "    .dataframe thead th {\n",
              "        text-align: right;\n",
              "    }\n",
              "</style>\n",
              "<table border=\"1\" class=\"dataframe\">\n",
              "  <thead>\n",
              "    <tr style=\"text-align: right;\">\n",
              "      <th></th>\n",
              "      <th>청포도</th>\n",
              "      <th>밤</th>\n",
              "      <th>배</th>\n",
              "    </tr>\n",
              "  </thead>\n",
              "  <tbody>\n",
              "    <tr>\n",
              "      <th>4월</th>\n",
              "      <td>2</td>\n",
              "      <td>332</td>\n",
              "      <td>2</td>\n",
              "    </tr>\n",
              "    <tr>\n",
              "      <th>5월</th>\n",
              "      <td>1</td>\n",
              "      <td>392</td>\n",
              "      <td>1</td>\n",
              "    </tr>\n",
              "    <tr>\n",
              "      <th>6월</th>\n",
              "      <td>1</td>\n",
              "      <td>391</td>\n",
              "      <td>1</td>\n",
              "    </tr>\n",
              "    <tr>\n",
              "      <th>7월</th>\n",
              "      <td>681</td>\n",
              "      <td>3</td>\n",
              "      <td>3</td>\n",
              "    </tr>\n",
              "    <tr>\n",
              "      <th>8월</th>\n",
              "      <td>573</td>\n",
              "      <td>3</td>\n",
              "      <td>3</td>\n",
              "    </tr>\n",
              "  </tbody>\n",
              "</table>\n",
              "</div>"
            ],
            "text/plain": [
              "    청포도    밤  배\n",
              "4월    2  332  2\n",
              "5월    1  392  1\n",
              "6월    1  391  1\n",
              "7월  681    3  3\n",
              "8월  573    3  3"
            ]
          },
          "metadata": {},
          "execution_count": 160
        }
      ]
    },
    {
      "cell_type": "code",
      "metadata": {
        "colab": {
          "base_uri": "https://localhost:8080/",
          "height": 204
        },
        "id": "LJjhlXrtpByJ",
        "outputId": "bf158003-6932-43d3-98ea-854c0738abe9"
      },
      "source": [
        "df3_trans.loc[['5월','6월'], ['청포도', '배']] = 2\n",
        "df3_trans"
      ],
      "execution_count": 161,
      "outputs": [
        {
          "output_type": "execute_result",
          "data": {
            "text/html": [
              "<div>\n",
              "<style scoped>\n",
              "    .dataframe tbody tr th:only-of-type {\n",
              "        vertical-align: middle;\n",
              "    }\n",
              "\n",
              "    .dataframe tbody tr th {\n",
              "        vertical-align: top;\n",
              "    }\n",
              "\n",
              "    .dataframe thead th {\n",
              "        text-align: right;\n",
              "    }\n",
              "</style>\n",
              "<table border=\"1\" class=\"dataframe\">\n",
              "  <thead>\n",
              "    <tr style=\"text-align: right;\">\n",
              "      <th></th>\n",
              "      <th>청포도</th>\n",
              "      <th>밤</th>\n",
              "      <th>배</th>\n",
              "    </tr>\n",
              "  </thead>\n",
              "  <tbody>\n",
              "    <tr>\n",
              "      <th>4월</th>\n",
              "      <td>2</td>\n",
              "      <td>332</td>\n",
              "      <td>2</td>\n",
              "    </tr>\n",
              "    <tr>\n",
              "      <th>5월</th>\n",
              "      <td>2</td>\n",
              "      <td>392</td>\n",
              "      <td>2</td>\n",
              "    </tr>\n",
              "    <tr>\n",
              "      <th>6월</th>\n",
              "      <td>2</td>\n",
              "      <td>391</td>\n",
              "      <td>2</td>\n",
              "    </tr>\n",
              "    <tr>\n",
              "      <th>7월</th>\n",
              "      <td>681</td>\n",
              "      <td>3</td>\n",
              "      <td>3</td>\n",
              "    </tr>\n",
              "    <tr>\n",
              "      <th>8월</th>\n",
              "      <td>573</td>\n",
              "      <td>3</td>\n",
              "      <td>3</td>\n",
              "    </tr>\n",
              "  </tbody>\n",
              "</table>\n",
              "</div>"
            ],
            "text/plain": [
              "    청포도    밤  배\n",
              "4월    2  332  2\n",
              "5월    2  392  2\n",
              "6월    2  391  2\n",
              "7월  681    3  3\n",
              "8월  573    3  3"
            ]
          },
          "metadata": {},
          "execution_count": 161
        }
      ]
    },
    {
      "cell_type": "markdown",
      "metadata": {
        "id": "SEKPIpbvqCA5"
      },
      "source": [
        "이번에는 데이터프레임의 특정 열을 행 인덱스로 지정하겠습니다. 먼저 새로운 데이터프레임을 만듭니다."
      ]
    },
    {
      "cell_type": "code",
      "metadata": {
        "colab": {
          "base_uri": "https://localhost:8080/",
          "height": 204
        },
        "id": "ns_SfVc7qdkL",
        "outputId": "db970344-af17-42bb-b62d-0794eaa0f821"
      },
      "source": [
        "dic_data5 = {'판매자': ['승원', '미경', '미니', '꼬맹', '거북'],\n",
        "             '사과': [332, 392, 391, 295, 374],\n",
        "             '배': [102, 99, 80, 30, 143],\n",
        "             '포도': [402, 497, 306, 681, 573]}\n",
        "col_list2 = ['판매자', '포도', '사과', '배']\n",
        "\n",
        "df13 = pd.DataFrame(dic_data5, columns=col_list2)\n",
        "df13"
      ],
      "execution_count": 162,
      "outputs": [
        {
          "output_type": "execute_result",
          "data": {
            "text/html": [
              "<div>\n",
              "<style scoped>\n",
              "    .dataframe tbody tr th:only-of-type {\n",
              "        vertical-align: middle;\n",
              "    }\n",
              "\n",
              "    .dataframe tbody tr th {\n",
              "        vertical-align: top;\n",
              "    }\n",
              "\n",
              "    .dataframe thead th {\n",
              "        text-align: right;\n",
              "    }\n",
              "</style>\n",
              "<table border=\"1\" class=\"dataframe\">\n",
              "  <thead>\n",
              "    <tr style=\"text-align: right;\">\n",
              "      <th></th>\n",
              "      <th>판매자</th>\n",
              "      <th>포도</th>\n",
              "      <th>사과</th>\n",
              "      <th>배</th>\n",
              "    </tr>\n",
              "  </thead>\n",
              "  <tbody>\n",
              "    <tr>\n",
              "      <th>0</th>\n",
              "      <td>승원</td>\n",
              "      <td>402</td>\n",
              "      <td>332</td>\n",
              "      <td>102</td>\n",
              "    </tr>\n",
              "    <tr>\n",
              "      <th>1</th>\n",
              "      <td>미경</td>\n",
              "      <td>497</td>\n",
              "      <td>392</td>\n",
              "      <td>99</td>\n",
              "    </tr>\n",
              "    <tr>\n",
              "      <th>2</th>\n",
              "      <td>미니</td>\n",
              "      <td>306</td>\n",
              "      <td>391</td>\n",
              "      <td>80</td>\n",
              "    </tr>\n",
              "    <tr>\n",
              "      <th>3</th>\n",
              "      <td>꼬맹</td>\n",
              "      <td>681</td>\n",
              "      <td>295</td>\n",
              "      <td>30</td>\n",
              "    </tr>\n",
              "    <tr>\n",
              "      <th>4</th>\n",
              "      <td>거북</td>\n",
              "      <td>573</td>\n",
              "      <td>374</td>\n",
              "      <td>143</td>\n",
              "    </tr>\n",
              "  </tbody>\n",
              "</table>\n",
              "</div>"
            ],
            "text/plain": [
              "  판매자   포도   사과    배\n",
              "0  승원  402  332  102\n",
              "1  미경  497  392   99\n",
              "2  미니  306  391   80\n",
              "3  꼬맹  681  295   30\n",
              "4  거북  573  374  143"
            ]
          },
          "metadata": {},
          "execution_count": 162
        }
      ]
    },
    {
      "cell_type": "markdown",
      "metadata": {
        "id": "9A-rgXbVrS6A"
      },
      "source": [
        "`set_index()` 메서드를 사용해서 '판매자' 열을 행 인덱스로 지정하겠습니다. 단 `inplace` 매개변수에 `True` 인자를 전달해야 객체 자체를 바꿉니다. 물론 새로운 객체에 전달한다면 매개변수를 지정하지 않아도 됩니다."
      ]
    },
    {
      "cell_type": "code",
      "metadata": {
        "colab": {
          "base_uri": "https://localhost:8080/",
          "height": 235
        },
        "id": "o2YG-4PprXEE",
        "outputId": "6404c03c-7315-49b5-b460-f22012d07aba"
      },
      "source": [
        "df13.set_index('판매자')"
      ],
      "execution_count": 163,
      "outputs": [
        {
          "output_type": "execute_result",
          "data": {
            "text/html": [
              "<div>\n",
              "<style scoped>\n",
              "    .dataframe tbody tr th:only-of-type {\n",
              "        vertical-align: middle;\n",
              "    }\n",
              "\n",
              "    .dataframe tbody tr th {\n",
              "        vertical-align: top;\n",
              "    }\n",
              "\n",
              "    .dataframe thead th {\n",
              "        text-align: right;\n",
              "    }\n",
              "</style>\n",
              "<table border=\"1\" class=\"dataframe\">\n",
              "  <thead>\n",
              "    <tr style=\"text-align: right;\">\n",
              "      <th></th>\n",
              "      <th>포도</th>\n",
              "      <th>사과</th>\n",
              "      <th>배</th>\n",
              "    </tr>\n",
              "    <tr>\n",
              "      <th>판매자</th>\n",
              "      <th></th>\n",
              "      <th></th>\n",
              "      <th></th>\n",
              "    </tr>\n",
              "  </thead>\n",
              "  <tbody>\n",
              "    <tr>\n",
              "      <th>승원</th>\n",
              "      <td>402</td>\n",
              "      <td>332</td>\n",
              "      <td>102</td>\n",
              "    </tr>\n",
              "    <tr>\n",
              "      <th>미경</th>\n",
              "      <td>497</td>\n",
              "      <td>392</td>\n",
              "      <td>99</td>\n",
              "    </tr>\n",
              "    <tr>\n",
              "      <th>미니</th>\n",
              "      <td>306</td>\n",
              "      <td>391</td>\n",
              "      <td>80</td>\n",
              "    </tr>\n",
              "    <tr>\n",
              "      <th>꼬맹</th>\n",
              "      <td>681</td>\n",
              "      <td>295</td>\n",
              "      <td>30</td>\n",
              "    </tr>\n",
              "    <tr>\n",
              "      <th>거북</th>\n",
              "      <td>573</td>\n",
              "      <td>374</td>\n",
              "      <td>143</td>\n",
              "    </tr>\n",
              "  </tbody>\n",
              "</table>\n",
              "</div>"
            ],
            "text/plain": [
              "      포도   사과    배\n",
              "판매자               \n",
              "승원   402  332  102\n",
              "미경   497  392   99\n",
              "미니   306  391   80\n",
              "꼬맹   681  295   30\n",
              "거북   573  374  143"
            ]
          },
          "metadata": {},
          "execution_count": 163
        }
      ]
    },
    {
      "cell_type": "code",
      "metadata": {
        "colab": {
          "base_uri": "https://localhost:8080/",
          "height": 235
        },
        "id": "iuNgJazUrl-F",
        "outputId": "ef30cd33-5712-48ca-b829-9dd3ca3553b4"
      },
      "source": [
        "df13.set_index(['판매자'])"
      ],
      "execution_count": 164,
      "outputs": [
        {
          "output_type": "execute_result",
          "data": {
            "text/html": [
              "<div>\n",
              "<style scoped>\n",
              "    .dataframe tbody tr th:only-of-type {\n",
              "        vertical-align: middle;\n",
              "    }\n",
              "\n",
              "    .dataframe tbody tr th {\n",
              "        vertical-align: top;\n",
              "    }\n",
              "\n",
              "    .dataframe thead th {\n",
              "        text-align: right;\n",
              "    }\n",
              "</style>\n",
              "<table border=\"1\" class=\"dataframe\">\n",
              "  <thead>\n",
              "    <tr style=\"text-align: right;\">\n",
              "      <th></th>\n",
              "      <th>포도</th>\n",
              "      <th>사과</th>\n",
              "      <th>배</th>\n",
              "    </tr>\n",
              "    <tr>\n",
              "      <th>판매자</th>\n",
              "      <th></th>\n",
              "      <th></th>\n",
              "      <th></th>\n",
              "    </tr>\n",
              "  </thead>\n",
              "  <tbody>\n",
              "    <tr>\n",
              "      <th>승원</th>\n",
              "      <td>402</td>\n",
              "      <td>332</td>\n",
              "      <td>102</td>\n",
              "    </tr>\n",
              "    <tr>\n",
              "      <th>미경</th>\n",
              "      <td>497</td>\n",
              "      <td>392</td>\n",
              "      <td>99</td>\n",
              "    </tr>\n",
              "    <tr>\n",
              "      <th>미니</th>\n",
              "      <td>306</td>\n",
              "      <td>391</td>\n",
              "      <td>80</td>\n",
              "    </tr>\n",
              "    <tr>\n",
              "      <th>꼬맹</th>\n",
              "      <td>681</td>\n",
              "      <td>295</td>\n",
              "      <td>30</td>\n",
              "    </tr>\n",
              "    <tr>\n",
              "      <th>거북</th>\n",
              "      <td>573</td>\n",
              "      <td>374</td>\n",
              "      <td>143</td>\n",
              "    </tr>\n",
              "  </tbody>\n",
              "</table>\n",
              "</div>"
            ],
            "text/plain": [
              "      포도   사과    배\n",
              "판매자               \n",
              "승원   402  332  102\n",
              "미경   497  392   99\n",
              "미니   306  391   80\n",
              "꼬맹   681  295   30\n",
              "거북   573  374  143"
            ]
          },
          "metadata": {},
          "execution_count": 164
        }
      ]
    },
    {
      "cell_type": "markdown",
      "metadata": {
        "id": "Whu0NLkJr-Jl"
      },
      "source": [
        "`inplace=True`로 매개변수를 지정하지 않았으므로 객체는 바뀌지 않습니다."
      ]
    },
    {
      "cell_type": "code",
      "metadata": {
        "colab": {
          "base_uri": "https://localhost:8080/",
          "height": 204
        },
        "id": "tlGgIW7Yr7zz",
        "outputId": "9590c4b4-d3c2-4244-d0ff-51de5b27a8c0"
      },
      "source": [
        "df13"
      ],
      "execution_count": 165,
      "outputs": [
        {
          "output_type": "execute_result",
          "data": {
            "text/html": [
              "<div>\n",
              "<style scoped>\n",
              "    .dataframe tbody tr th:only-of-type {\n",
              "        vertical-align: middle;\n",
              "    }\n",
              "\n",
              "    .dataframe tbody tr th {\n",
              "        vertical-align: top;\n",
              "    }\n",
              "\n",
              "    .dataframe thead th {\n",
              "        text-align: right;\n",
              "    }\n",
              "</style>\n",
              "<table border=\"1\" class=\"dataframe\">\n",
              "  <thead>\n",
              "    <tr style=\"text-align: right;\">\n",
              "      <th></th>\n",
              "      <th>판매자</th>\n",
              "      <th>포도</th>\n",
              "      <th>사과</th>\n",
              "      <th>배</th>\n",
              "    </tr>\n",
              "  </thead>\n",
              "  <tbody>\n",
              "    <tr>\n",
              "      <th>0</th>\n",
              "      <td>승원</td>\n",
              "      <td>402</td>\n",
              "      <td>332</td>\n",
              "      <td>102</td>\n",
              "    </tr>\n",
              "    <tr>\n",
              "      <th>1</th>\n",
              "      <td>미경</td>\n",
              "      <td>497</td>\n",
              "      <td>392</td>\n",
              "      <td>99</td>\n",
              "    </tr>\n",
              "    <tr>\n",
              "      <th>2</th>\n",
              "      <td>미니</td>\n",
              "      <td>306</td>\n",
              "      <td>391</td>\n",
              "      <td>80</td>\n",
              "    </tr>\n",
              "    <tr>\n",
              "      <th>3</th>\n",
              "      <td>꼬맹</td>\n",
              "      <td>681</td>\n",
              "      <td>295</td>\n",
              "      <td>30</td>\n",
              "    </tr>\n",
              "    <tr>\n",
              "      <th>4</th>\n",
              "      <td>거북</td>\n",
              "      <td>573</td>\n",
              "      <td>374</td>\n",
              "      <td>143</td>\n",
              "    </tr>\n",
              "  </tbody>\n",
              "</table>\n",
              "</div>"
            ],
            "text/plain": [
              "  판매자   포도   사과    배\n",
              "0  승원  402  332  102\n",
              "1  미경  497  392   99\n",
              "2  미니  306  391   80\n",
              "3  꼬맹  681  295   30\n",
              "4  거북  573  374  143"
            ]
          },
          "metadata": {},
          "execution_count": 165
        }
      ]
    },
    {
      "cell_type": "markdown",
      "metadata": {
        "id": "D3OsfHTRs9y2"
      },
      "source": [
        "여러 열을 인덱스로 지정할 수도 있습니다. 이를 멀티인덱스라고 부릅니다. 주로 통계적 연산이 개입된 데이터프레임에 사용합니다(보강 예정)."
      ]
    },
    {
      "cell_type": "code",
      "metadata": {
        "colab": {
          "base_uri": "https://localhost:8080/",
          "height": 235
        },
        "id": "H0DfrUUutDNW",
        "outputId": "681ecc70-0dbe-4add-afa5-5bcdbeb1b1df"
      },
      "source": [
        "df13.set_index(['판매자', '사과'])"
      ],
      "execution_count": 166,
      "outputs": [
        {
          "output_type": "execute_result",
          "data": {
            "text/html": [
              "<div>\n",
              "<style scoped>\n",
              "    .dataframe tbody tr th:only-of-type {\n",
              "        vertical-align: middle;\n",
              "    }\n",
              "\n",
              "    .dataframe tbody tr th {\n",
              "        vertical-align: top;\n",
              "    }\n",
              "\n",
              "    .dataframe thead th {\n",
              "        text-align: right;\n",
              "    }\n",
              "</style>\n",
              "<table border=\"1\" class=\"dataframe\">\n",
              "  <thead>\n",
              "    <tr style=\"text-align: right;\">\n",
              "      <th></th>\n",
              "      <th></th>\n",
              "      <th>포도</th>\n",
              "      <th>배</th>\n",
              "    </tr>\n",
              "    <tr>\n",
              "      <th>판매자</th>\n",
              "      <th>사과</th>\n",
              "      <th></th>\n",
              "      <th></th>\n",
              "    </tr>\n",
              "  </thead>\n",
              "  <tbody>\n",
              "    <tr>\n",
              "      <th>승원</th>\n",
              "      <th>332</th>\n",
              "      <td>402</td>\n",
              "      <td>102</td>\n",
              "    </tr>\n",
              "    <tr>\n",
              "      <th>미경</th>\n",
              "      <th>392</th>\n",
              "      <td>497</td>\n",
              "      <td>99</td>\n",
              "    </tr>\n",
              "    <tr>\n",
              "      <th>미니</th>\n",
              "      <th>391</th>\n",
              "      <td>306</td>\n",
              "      <td>80</td>\n",
              "    </tr>\n",
              "    <tr>\n",
              "      <th>꼬맹</th>\n",
              "      <th>295</th>\n",
              "      <td>681</td>\n",
              "      <td>30</td>\n",
              "    </tr>\n",
              "    <tr>\n",
              "      <th>거북</th>\n",
              "      <th>374</th>\n",
              "      <td>573</td>\n",
              "      <td>143</td>\n",
              "    </tr>\n",
              "  </tbody>\n",
              "</table>\n",
              "</div>"
            ],
            "text/plain": [
              "          포도    배\n",
              "판매자 사과           \n",
              "승원  332  402  102\n",
              "미경  392  497   99\n",
              "미니  391  306   80\n",
              "꼬맹  295  681   30\n",
              "거북  374  573  143"
            ]
          },
          "metadata": {},
          "execution_count": 166
        }
      ]
    },
    {
      "cell_type": "markdown",
      "metadata": {
        "id": "bbTW2-fNxuMe"
      },
      "source": [
        "`reset_index()` 메서드를 사용하면 기본 인덱스로 초기화합니다. 먼저 새로운 데이터프레임 객체를 생성합니다."
      ]
    },
    {
      "cell_type": "code",
      "metadata": {
        "colab": {
          "base_uri": "https://localhost:8080/",
          "height": 235
        },
        "id": "4VuyLCaJyMDv",
        "outputId": "c6d88171-e04f-43d0-fdcb-965e4b9e93c3"
      },
      "source": [
        "df13_reset = df13.set_index(['판매자'])\n",
        "df13_reset"
      ],
      "execution_count": 167,
      "outputs": [
        {
          "output_type": "execute_result",
          "data": {
            "text/html": [
              "<div>\n",
              "<style scoped>\n",
              "    .dataframe tbody tr th:only-of-type {\n",
              "        vertical-align: middle;\n",
              "    }\n",
              "\n",
              "    .dataframe tbody tr th {\n",
              "        vertical-align: top;\n",
              "    }\n",
              "\n",
              "    .dataframe thead th {\n",
              "        text-align: right;\n",
              "    }\n",
              "</style>\n",
              "<table border=\"1\" class=\"dataframe\">\n",
              "  <thead>\n",
              "    <tr style=\"text-align: right;\">\n",
              "      <th></th>\n",
              "      <th>포도</th>\n",
              "      <th>사과</th>\n",
              "      <th>배</th>\n",
              "    </tr>\n",
              "    <tr>\n",
              "      <th>판매자</th>\n",
              "      <th></th>\n",
              "      <th></th>\n",
              "      <th></th>\n",
              "    </tr>\n",
              "  </thead>\n",
              "  <tbody>\n",
              "    <tr>\n",
              "      <th>승원</th>\n",
              "      <td>402</td>\n",
              "      <td>332</td>\n",
              "      <td>102</td>\n",
              "    </tr>\n",
              "    <tr>\n",
              "      <th>미경</th>\n",
              "      <td>497</td>\n",
              "      <td>392</td>\n",
              "      <td>99</td>\n",
              "    </tr>\n",
              "    <tr>\n",
              "      <th>미니</th>\n",
              "      <td>306</td>\n",
              "      <td>391</td>\n",
              "      <td>80</td>\n",
              "    </tr>\n",
              "    <tr>\n",
              "      <th>꼬맹</th>\n",
              "      <td>681</td>\n",
              "      <td>295</td>\n",
              "      <td>30</td>\n",
              "    </tr>\n",
              "    <tr>\n",
              "      <th>거북</th>\n",
              "      <td>573</td>\n",
              "      <td>374</td>\n",
              "      <td>143</td>\n",
              "    </tr>\n",
              "  </tbody>\n",
              "</table>\n",
              "</div>"
            ],
            "text/plain": [
              "      포도   사과    배\n",
              "판매자               \n",
              "승원   402  332  102\n",
              "미경   497  392   99\n",
              "미니   306  391   80\n",
              "꼬맹   681  295   30\n",
              "거북   573  374  143"
            ]
          },
          "metadata": {},
          "execution_count": 167
        }
      ]
    },
    {
      "cell_type": "markdown",
      "metadata": {
        "id": "ZZSM9ynnytaq"
      },
      "source": [
        "'판매자' 열은 기존 열로 이동하고 인덱스는 정수형으로 바뀝니다. 아울러 'index' 열이 따로 생성됩니다."
      ]
    },
    {
      "cell_type": "code",
      "metadata": {
        "colab": {
          "base_uri": "https://localhost:8080/",
          "height": 204
        },
        "id": "kXXD9kb3yTnK",
        "outputId": "7ba2734a-e0de-45d8-c4a9-b1e9f3709092"
      },
      "source": [
        "df13.reset_index()"
      ],
      "execution_count": 168,
      "outputs": [
        {
          "output_type": "execute_result",
          "data": {
            "text/html": [
              "<div>\n",
              "<style scoped>\n",
              "    .dataframe tbody tr th:only-of-type {\n",
              "        vertical-align: middle;\n",
              "    }\n",
              "\n",
              "    .dataframe tbody tr th {\n",
              "        vertical-align: top;\n",
              "    }\n",
              "\n",
              "    .dataframe thead th {\n",
              "        text-align: right;\n",
              "    }\n",
              "</style>\n",
              "<table border=\"1\" class=\"dataframe\">\n",
              "  <thead>\n",
              "    <tr style=\"text-align: right;\">\n",
              "      <th></th>\n",
              "      <th>index</th>\n",
              "      <th>판매자</th>\n",
              "      <th>포도</th>\n",
              "      <th>사과</th>\n",
              "      <th>배</th>\n",
              "    </tr>\n",
              "  </thead>\n",
              "  <tbody>\n",
              "    <tr>\n",
              "      <th>0</th>\n",
              "      <td>0</td>\n",
              "      <td>승원</td>\n",
              "      <td>402</td>\n",
              "      <td>332</td>\n",
              "      <td>102</td>\n",
              "    </tr>\n",
              "    <tr>\n",
              "      <th>1</th>\n",
              "      <td>1</td>\n",
              "      <td>미경</td>\n",
              "      <td>497</td>\n",
              "      <td>392</td>\n",
              "      <td>99</td>\n",
              "    </tr>\n",
              "    <tr>\n",
              "      <th>2</th>\n",
              "      <td>2</td>\n",
              "      <td>미니</td>\n",
              "      <td>306</td>\n",
              "      <td>391</td>\n",
              "      <td>80</td>\n",
              "    </tr>\n",
              "    <tr>\n",
              "      <th>3</th>\n",
              "      <td>3</td>\n",
              "      <td>꼬맹</td>\n",
              "      <td>681</td>\n",
              "      <td>295</td>\n",
              "      <td>30</td>\n",
              "    </tr>\n",
              "    <tr>\n",
              "      <th>4</th>\n",
              "      <td>4</td>\n",
              "      <td>거북</td>\n",
              "      <td>573</td>\n",
              "      <td>374</td>\n",
              "      <td>143</td>\n",
              "    </tr>\n",
              "  </tbody>\n",
              "</table>\n",
              "</div>"
            ],
            "text/plain": [
              "   index 판매자   포도   사과    배\n",
              "0      0  승원  402  332  102\n",
              "1      1  미경  497  392   99\n",
              "2      2  미니  306  391   80\n",
              "3      3  꼬맹  681  295   30\n",
              "4      4  거북  573  374  143"
            ]
          },
          "metadata": {},
          "execution_count": 168
        }
      ]
    },
    {
      "cell_type": "markdown",
      "metadata": {
        "id": "RpMl79NzvNRY"
      },
      "source": [
        "`reindex()` 메서드를 사용해서 인덱스를 다시 지정할 수 있습니다. 먼저 '판매자' 열을 행 인덱스로 지정하고 새로운 객체에 넘기겠습니다."
      ]
    },
    {
      "cell_type": "code",
      "metadata": {
        "colab": {
          "base_uri": "https://localhost:8080/",
          "height": 235
        },
        "id": "ryMOY9ecvHuS",
        "outputId": "4bf47ab3-62e9-4e26-e8ac-0ac8358fbe0c"
      },
      "source": [
        "df13_reindex = df13.set_index('판매자')\n",
        "df13_reindex"
      ],
      "execution_count": 169,
      "outputs": [
        {
          "output_type": "execute_result",
          "data": {
            "text/html": [
              "<div>\n",
              "<style scoped>\n",
              "    .dataframe tbody tr th:only-of-type {\n",
              "        vertical-align: middle;\n",
              "    }\n",
              "\n",
              "    .dataframe tbody tr th {\n",
              "        vertical-align: top;\n",
              "    }\n",
              "\n",
              "    .dataframe thead th {\n",
              "        text-align: right;\n",
              "    }\n",
              "</style>\n",
              "<table border=\"1\" class=\"dataframe\">\n",
              "  <thead>\n",
              "    <tr style=\"text-align: right;\">\n",
              "      <th></th>\n",
              "      <th>포도</th>\n",
              "      <th>사과</th>\n",
              "      <th>배</th>\n",
              "    </tr>\n",
              "    <tr>\n",
              "      <th>판매자</th>\n",
              "      <th></th>\n",
              "      <th></th>\n",
              "      <th></th>\n",
              "    </tr>\n",
              "  </thead>\n",
              "  <tbody>\n",
              "    <tr>\n",
              "      <th>승원</th>\n",
              "      <td>402</td>\n",
              "      <td>332</td>\n",
              "      <td>102</td>\n",
              "    </tr>\n",
              "    <tr>\n",
              "      <th>미경</th>\n",
              "      <td>497</td>\n",
              "      <td>392</td>\n",
              "      <td>99</td>\n",
              "    </tr>\n",
              "    <tr>\n",
              "      <th>미니</th>\n",
              "      <td>306</td>\n",
              "      <td>391</td>\n",
              "      <td>80</td>\n",
              "    </tr>\n",
              "    <tr>\n",
              "      <th>꼬맹</th>\n",
              "      <td>681</td>\n",
              "      <td>295</td>\n",
              "      <td>30</td>\n",
              "    </tr>\n",
              "    <tr>\n",
              "      <th>거북</th>\n",
              "      <td>573</td>\n",
              "      <td>374</td>\n",
              "      <td>143</td>\n",
              "    </tr>\n",
              "  </tbody>\n",
              "</table>\n",
              "</div>"
            ],
            "text/plain": [
              "      포도   사과    배\n",
              "판매자               \n",
              "승원   402  332  102\n",
              "미경   497  392   99\n",
              "미니   306  391   80\n",
              "꼬맹   681  295   30\n",
              "거북   573  374  143"
            ]
          },
          "metadata": {},
          "execution_count": 169
        }
      ]
    },
    {
      "cell_type": "markdown",
      "metadata": {
        "id": "BbjPee2Lv_Dp"
      },
      "source": [
        "인덱스를 다시 지정하겠습니다. '철수'와 '영희'를 추가합니다."
      ]
    },
    {
      "cell_type": "code",
      "metadata": {
        "colab": {
          "base_uri": "https://localhost:8080/",
          "height": 296
        },
        "id": "QJrIgMgbwCyM",
        "outputId": "9a7e65e2-64d4-4eee-ef44-69e635eda22e"
      },
      "source": [
        "new_index = ['승원', '미경', '미니', '꼬맹', '거북', '철수', '영희']\n",
        "df13_reindex.reindex(new_index)"
      ],
      "execution_count": 170,
      "outputs": [
        {
          "output_type": "execute_result",
          "data": {
            "text/html": [
              "<div>\n",
              "<style scoped>\n",
              "    .dataframe tbody tr th:only-of-type {\n",
              "        vertical-align: middle;\n",
              "    }\n",
              "\n",
              "    .dataframe tbody tr th {\n",
              "        vertical-align: top;\n",
              "    }\n",
              "\n",
              "    .dataframe thead th {\n",
              "        text-align: right;\n",
              "    }\n",
              "</style>\n",
              "<table border=\"1\" class=\"dataframe\">\n",
              "  <thead>\n",
              "    <tr style=\"text-align: right;\">\n",
              "      <th></th>\n",
              "      <th>포도</th>\n",
              "      <th>사과</th>\n",
              "      <th>배</th>\n",
              "    </tr>\n",
              "    <tr>\n",
              "      <th>판매자</th>\n",
              "      <th></th>\n",
              "      <th></th>\n",
              "      <th></th>\n",
              "    </tr>\n",
              "  </thead>\n",
              "  <tbody>\n",
              "    <tr>\n",
              "      <th>승원</th>\n",
              "      <td>402.0</td>\n",
              "      <td>332.0</td>\n",
              "      <td>102.0</td>\n",
              "    </tr>\n",
              "    <tr>\n",
              "      <th>미경</th>\n",
              "      <td>497.0</td>\n",
              "      <td>392.0</td>\n",
              "      <td>99.0</td>\n",
              "    </tr>\n",
              "    <tr>\n",
              "      <th>미니</th>\n",
              "      <td>306.0</td>\n",
              "      <td>391.0</td>\n",
              "      <td>80.0</td>\n",
              "    </tr>\n",
              "    <tr>\n",
              "      <th>꼬맹</th>\n",
              "      <td>681.0</td>\n",
              "      <td>295.0</td>\n",
              "      <td>30.0</td>\n",
              "    </tr>\n",
              "    <tr>\n",
              "      <th>거북</th>\n",
              "      <td>573.0</td>\n",
              "      <td>374.0</td>\n",
              "      <td>143.0</td>\n",
              "    </tr>\n",
              "    <tr>\n",
              "      <th>철수</th>\n",
              "      <td>NaN</td>\n",
              "      <td>NaN</td>\n",
              "      <td>NaN</td>\n",
              "    </tr>\n",
              "    <tr>\n",
              "      <th>영희</th>\n",
              "      <td>NaN</td>\n",
              "      <td>NaN</td>\n",
              "      <td>NaN</td>\n",
              "    </tr>\n",
              "  </tbody>\n",
              "</table>\n",
              "</div>"
            ],
            "text/plain": [
              "        포도     사과      배\n",
              "판매자                     \n",
              "승원   402.0  332.0  102.0\n",
              "미경   497.0  392.0   99.0\n",
              "미니   306.0  391.0   80.0\n",
              "꼬맹   681.0  295.0   30.0\n",
              "거북   573.0  374.0  143.0\n",
              "철수     NaN    NaN    NaN\n",
              "영희     NaN    NaN    NaN"
            ]
          },
          "metadata": {},
          "execution_count": 170
        }
      ]
    },
    {
      "cell_type": "markdown",
      "metadata": {
        "id": "1IAWqdpexRQi"
      },
      "source": [
        "공백을 원하는 값으로 채울 수 있습니다. `fill_value` 매개변수에 원하는 값을 지정합니다."
      ]
    },
    {
      "cell_type": "code",
      "metadata": {
        "colab": {
          "base_uri": "https://localhost:8080/",
          "height": 296
        },
        "id": "PHWaQdf-xK9Q",
        "outputId": "d0191ab0-fa8c-4363-fe87-3199b51a47d6"
      },
      "source": [
        "df13_reindex.reindex(new_index, fill_value=150)"
      ],
      "execution_count": 171,
      "outputs": [
        {
          "output_type": "execute_result",
          "data": {
            "text/html": [
              "<div>\n",
              "<style scoped>\n",
              "    .dataframe tbody tr th:only-of-type {\n",
              "        vertical-align: middle;\n",
              "    }\n",
              "\n",
              "    .dataframe tbody tr th {\n",
              "        vertical-align: top;\n",
              "    }\n",
              "\n",
              "    .dataframe thead th {\n",
              "        text-align: right;\n",
              "    }\n",
              "</style>\n",
              "<table border=\"1\" class=\"dataframe\">\n",
              "  <thead>\n",
              "    <tr style=\"text-align: right;\">\n",
              "      <th></th>\n",
              "      <th>포도</th>\n",
              "      <th>사과</th>\n",
              "      <th>배</th>\n",
              "    </tr>\n",
              "    <tr>\n",
              "      <th>판매자</th>\n",
              "      <th></th>\n",
              "      <th></th>\n",
              "      <th></th>\n",
              "    </tr>\n",
              "  </thead>\n",
              "  <tbody>\n",
              "    <tr>\n",
              "      <th>승원</th>\n",
              "      <td>402</td>\n",
              "      <td>332</td>\n",
              "      <td>102</td>\n",
              "    </tr>\n",
              "    <tr>\n",
              "      <th>미경</th>\n",
              "      <td>497</td>\n",
              "      <td>392</td>\n",
              "      <td>99</td>\n",
              "    </tr>\n",
              "    <tr>\n",
              "      <th>미니</th>\n",
              "      <td>306</td>\n",
              "      <td>391</td>\n",
              "      <td>80</td>\n",
              "    </tr>\n",
              "    <tr>\n",
              "      <th>꼬맹</th>\n",
              "      <td>681</td>\n",
              "      <td>295</td>\n",
              "      <td>30</td>\n",
              "    </tr>\n",
              "    <tr>\n",
              "      <th>거북</th>\n",
              "      <td>573</td>\n",
              "      <td>374</td>\n",
              "      <td>143</td>\n",
              "    </tr>\n",
              "    <tr>\n",
              "      <th>철수</th>\n",
              "      <td>150</td>\n",
              "      <td>150</td>\n",
              "      <td>150</td>\n",
              "    </tr>\n",
              "    <tr>\n",
              "      <th>영희</th>\n",
              "      <td>150</td>\n",
              "      <td>150</td>\n",
              "      <td>150</td>\n",
              "    </tr>\n",
              "  </tbody>\n",
              "</table>\n",
              "</div>"
            ],
            "text/plain": [
              "      포도   사과    배\n",
              "판매자               \n",
              "승원   402  332  102\n",
              "미경   497  392   99\n",
              "미니   306  391   80\n",
              "꼬맹   681  295   30\n",
              "거북   573  374  143\n",
              "철수   150  150  150\n",
              "영희   150  150  150"
            ]
          },
          "metadata": {},
          "execution_count": 171
        }
      ]
    },
    {
      "cell_type": "markdown",
      "metadata": {
        "id": "LxOk151jzdRY"
      },
      "source": [
        "`sort_index()` 메서드를 사용하면 데이터프레임을 인덱스 숫자에 맞게 오름차순과 내림차순으로 정렬할 수 있습니다. `ascending` 매개변수에 `False` 값을 인자로 전달하면 내림차순으로 정렬합니다."
      ]
    },
    {
      "cell_type": "code",
      "metadata": {
        "colab": {
          "base_uri": "https://localhost:8080/",
          "height": 204
        },
        "id": "pBUR1J-Uz5er",
        "outputId": "34b9ecbf-1974-49db-eb9f-310128eb636c"
      },
      "source": [
        "df13.sort_index(ascending=False)"
      ],
      "execution_count": 172,
      "outputs": [
        {
          "output_type": "execute_result",
          "data": {
            "text/html": [
              "<div>\n",
              "<style scoped>\n",
              "    .dataframe tbody tr th:only-of-type {\n",
              "        vertical-align: middle;\n",
              "    }\n",
              "\n",
              "    .dataframe tbody tr th {\n",
              "        vertical-align: top;\n",
              "    }\n",
              "\n",
              "    .dataframe thead th {\n",
              "        text-align: right;\n",
              "    }\n",
              "</style>\n",
              "<table border=\"1\" class=\"dataframe\">\n",
              "  <thead>\n",
              "    <tr style=\"text-align: right;\">\n",
              "      <th></th>\n",
              "      <th>판매자</th>\n",
              "      <th>포도</th>\n",
              "      <th>사과</th>\n",
              "      <th>배</th>\n",
              "    </tr>\n",
              "  </thead>\n",
              "  <tbody>\n",
              "    <tr>\n",
              "      <th>4</th>\n",
              "      <td>거북</td>\n",
              "      <td>573</td>\n",
              "      <td>374</td>\n",
              "      <td>143</td>\n",
              "    </tr>\n",
              "    <tr>\n",
              "      <th>3</th>\n",
              "      <td>꼬맹</td>\n",
              "      <td>681</td>\n",
              "      <td>295</td>\n",
              "      <td>30</td>\n",
              "    </tr>\n",
              "    <tr>\n",
              "      <th>2</th>\n",
              "      <td>미니</td>\n",
              "      <td>306</td>\n",
              "      <td>391</td>\n",
              "      <td>80</td>\n",
              "    </tr>\n",
              "    <tr>\n",
              "      <th>1</th>\n",
              "      <td>미경</td>\n",
              "      <td>497</td>\n",
              "      <td>392</td>\n",
              "      <td>99</td>\n",
              "    </tr>\n",
              "    <tr>\n",
              "      <th>0</th>\n",
              "      <td>승원</td>\n",
              "      <td>402</td>\n",
              "      <td>332</td>\n",
              "      <td>102</td>\n",
              "    </tr>\n",
              "  </tbody>\n",
              "</table>\n",
              "</div>"
            ],
            "text/plain": [
              "  판매자   포도   사과    배\n",
              "4  거북  573  374  143\n",
              "3  꼬맹  681  295   30\n",
              "2  미니  306  391   80\n",
              "1  미경  497  392   99\n",
              "0  승원  402  332  102"
            ]
          },
          "metadata": {},
          "execution_count": 172
        }
      ]
    },
    {
      "cell_type": "markdown",
      "metadata": {
        "id": "yPsMG_Sn0bdc"
      },
      "source": [
        "`sort_values()` 메서드를 사용하면 데이터프레임을 특정 열의 데이터를 기준으로 정렬할 수 있습니다. `ascending` 매개변수의 사용법은 `sort_index()` 메서드와 같고, 추가로 `by` 매개변수에 기준으로 삼을 열명을 값으로 전달합니다."
      ]
    },
    {
      "cell_type": "code",
      "metadata": {
        "colab": {
          "base_uri": "https://localhost:8080/",
          "height": 204
        },
        "id": "3Fj7rIfj031A",
        "outputId": "4b74de41-17e5-4ba2-d36d-79ec990b2f97"
      },
      "source": [
        "df13.sort_values(ascending=False, by='포도')"
      ],
      "execution_count": 173,
      "outputs": [
        {
          "output_type": "execute_result",
          "data": {
            "text/html": [
              "<div>\n",
              "<style scoped>\n",
              "    .dataframe tbody tr th:only-of-type {\n",
              "        vertical-align: middle;\n",
              "    }\n",
              "\n",
              "    .dataframe tbody tr th {\n",
              "        vertical-align: top;\n",
              "    }\n",
              "\n",
              "    .dataframe thead th {\n",
              "        text-align: right;\n",
              "    }\n",
              "</style>\n",
              "<table border=\"1\" class=\"dataframe\">\n",
              "  <thead>\n",
              "    <tr style=\"text-align: right;\">\n",
              "      <th></th>\n",
              "      <th>판매자</th>\n",
              "      <th>포도</th>\n",
              "      <th>사과</th>\n",
              "      <th>배</th>\n",
              "    </tr>\n",
              "  </thead>\n",
              "  <tbody>\n",
              "    <tr>\n",
              "      <th>3</th>\n",
              "      <td>꼬맹</td>\n",
              "      <td>681</td>\n",
              "      <td>295</td>\n",
              "      <td>30</td>\n",
              "    </tr>\n",
              "    <tr>\n",
              "      <th>4</th>\n",
              "      <td>거북</td>\n",
              "      <td>573</td>\n",
              "      <td>374</td>\n",
              "      <td>143</td>\n",
              "    </tr>\n",
              "    <tr>\n",
              "      <th>1</th>\n",
              "      <td>미경</td>\n",
              "      <td>497</td>\n",
              "      <td>392</td>\n",
              "      <td>99</td>\n",
              "    </tr>\n",
              "    <tr>\n",
              "      <th>0</th>\n",
              "      <td>승원</td>\n",
              "      <td>402</td>\n",
              "      <td>332</td>\n",
              "      <td>102</td>\n",
              "    </tr>\n",
              "    <tr>\n",
              "      <th>2</th>\n",
              "      <td>미니</td>\n",
              "      <td>306</td>\n",
              "      <td>391</td>\n",
              "      <td>80</td>\n",
              "    </tr>\n",
              "  </tbody>\n",
              "</table>\n",
              "</div>"
            ],
            "text/plain": [
              "  판매자   포도   사과    배\n",
              "3  꼬맹  681  295   30\n",
              "4  거북  573  374  143\n",
              "1  미경  497  392   99\n",
              "0  승원  402  332  102\n",
              "2  미니  306  391   80"
            ]
          },
          "metadata": {},
          "execution_count": 173
        }
      ]
    },
    {
      "cell_type": "code",
      "metadata": {
        "colab": {
          "base_uri": "https://localhost:8080/",
          "height": 204
        },
        "id": "i9P2_SKp1Gij",
        "outputId": "9221bbd6-680c-475a-9f72-55e6af62c80a"
      },
      "source": [
        "df13.sort_values(ascending=False, by='판매자')"
      ],
      "execution_count": 174,
      "outputs": [
        {
          "output_type": "execute_result",
          "data": {
            "text/html": [
              "<div>\n",
              "<style scoped>\n",
              "    .dataframe tbody tr th:only-of-type {\n",
              "        vertical-align: middle;\n",
              "    }\n",
              "\n",
              "    .dataframe tbody tr th {\n",
              "        vertical-align: top;\n",
              "    }\n",
              "\n",
              "    .dataframe thead th {\n",
              "        text-align: right;\n",
              "    }\n",
              "</style>\n",
              "<table border=\"1\" class=\"dataframe\">\n",
              "  <thead>\n",
              "    <tr style=\"text-align: right;\">\n",
              "      <th></th>\n",
              "      <th>판매자</th>\n",
              "      <th>포도</th>\n",
              "      <th>사과</th>\n",
              "      <th>배</th>\n",
              "    </tr>\n",
              "  </thead>\n",
              "  <tbody>\n",
              "    <tr>\n",
              "      <th>0</th>\n",
              "      <td>승원</td>\n",
              "      <td>402</td>\n",
              "      <td>332</td>\n",
              "      <td>102</td>\n",
              "    </tr>\n",
              "    <tr>\n",
              "      <th>2</th>\n",
              "      <td>미니</td>\n",
              "      <td>306</td>\n",
              "      <td>391</td>\n",
              "      <td>80</td>\n",
              "    </tr>\n",
              "    <tr>\n",
              "      <th>1</th>\n",
              "      <td>미경</td>\n",
              "      <td>497</td>\n",
              "      <td>392</td>\n",
              "      <td>99</td>\n",
              "    </tr>\n",
              "    <tr>\n",
              "      <th>3</th>\n",
              "      <td>꼬맹</td>\n",
              "      <td>681</td>\n",
              "      <td>295</td>\n",
              "      <td>30</td>\n",
              "    </tr>\n",
              "    <tr>\n",
              "      <th>4</th>\n",
              "      <td>거북</td>\n",
              "      <td>573</td>\n",
              "      <td>374</td>\n",
              "      <td>143</td>\n",
              "    </tr>\n",
              "  </tbody>\n",
              "</table>\n",
              "</div>"
            ],
            "text/plain": [
              "  판매자   포도   사과    배\n",
              "0  승원  402  332  102\n",
              "2  미니  306  391   80\n",
              "1  미경  497  392   99\n",
              "3  꼬맹  681  295   30\n",
              "4  거북  573  374  143"
            ]
          },
          "metadata": {},
          "execution_count": 174
        }
      ]
    },
    {
      "cell_type": "markdown",
      "metadata": {
        "id": "271tYqg5CFBB"
      },
      "source": [
        "## **2.7. 데이터 파일 읽기**"
      ]
    },
    {
      "cell_type": "markdown",
      "metadata": {
        "id": "1pQkVW3y8GXH"
      },
      "source": [
        "`read_csv()` 함수를 사용하면 표 데이터인 csv 파일을 읽어올 수 있습니다. csv란 comma-separated values의 약자이고, 데이터 필드가 쉼표(,)로 구분된 파일을 의미합니다. 확장자는 `.csv`이며 텍스트로만 구성된 파일입니다. 물론 `sep` 매개변수에 구분자 값을 지정하면 쉼표가 아닌 다른 구분자로 구분된 데이터도 읽어올 수 있습니다. 먼저 구글 드라이브를 임포트 하고 아래에서 예시로 설명하겠습니다."
      ]
    },
    {
      "cell_type": "code",
      "metadata": {
        "colab": {
          "base_uri": "https://localhost:8080/"
        },
        "id": "rq6BPhSwPTlI",
        "outputId": "96cf9a9a-0553-4ea5-d442-37b72ca2055c"
      },
      "source": [
        "from google.colab import drive\n",
        "drive.mount('/content/gdrive/')"
      ],
      "execution_count": 175,
      "outputs": [
        {
          "output_type": "stream",
          "name": "stdout",
          "text": [
            "Mounted at /content/gdrive/\n"
          ]
        }
      ]
    },
    {
      "cell_type": "code",
      "metadata": {
        "colab": {
          "base_uri": "https://localhost:8080/"
        },
        "id": "8VLxPb-9Pctu",
        "outputId": "fccfb80d-5fb3-4737-b276-d0e81baae24b"
      },
      "source": [
        "cd /content/gdrive/MyDrive/Python_for_Data_Analytics_Science"
      ],
      "execution_count": 176,
      "outputs": [
        {
          "output_type": "stream",
          "name": "stdout",
          "text": [
            "/content/gdrive/MyDrive/Python_for_Data_Analytics_Science\n"
          ]
        }
      ]
    },
    {
      "cell_type": "markdown",
      "metadata": {
        "id": "Vt6piOFkPf5P"
      },
      "source": [
        "csv 파일을 생성하겠습니다."
      ]
    },
    {
      "cell_type": "code",
      "metadata": {
        "colab": {
          "base_uri": "https://localhost:8080/"
        },
        "id": "7K7J-XauPsN6",
        "outputId": "eda5b105-f3cd-4775-af25-ac763d707a38"
      },
      "source": [
        "%%writefile /content/gdrive/MyDrive/Python_for_Data_Analytics_Science/test_csv.csv\n",
        "\n",
        "월, 사과, 배, 포도, 바나나\n",
        "1, 15, 26, 32, 76\n",
        "2, 30, 20, 36, 47\n",
        "3, 42, 91, 25, 63\n",
        "4, 29, 84, 37, 72\n",
        "5, 53, 67, 74, 23"
      ],
      "execution_count": 177,
      "outputs": [
        {
          "output_type": "stream",
          "name": "stdout",
          "text": [
            "Overwriting /content/gdrive/MyDrive/Python_for_Data_Analytics_Science/test_csv.csv\n"
          ]
        }
      ]
    },
    {
      "cell_type": "markdown",
      "metadata": {
        "id": "gGSvNKh0QS_4"
      },
      "source": [
        "csv 파일을 읽겠습니다."
      ]
    },
    {
      "cell_type": "code",
      "metadata": {
        "colab": {
          "base_uri": "https://localhost:8080/",
          "height": 204
        },
        "id": "pxeP74-4QWlJ",
        "outputId": "000086e1-af30-4b38-8202-c7ab2945fa3c"
      },
      "source": [
        "pd.read_csv('/content/gdrive/MyDrive/Python_for_Data_Analytics_Science/test_csv.csv')"
      ],
      "execution_count": 178,
      "outputs": [
        {
          "output_type": "execute_result",
          "data": {
            "text/html": [
              "<div>\n",
              "<style scoped>\n",
              "    .dataframe tbody tr th:only-of-type {\n",
              "        vertical-align: middle;\n",
              "    }\n",
              "\n",
              "    .dataframe tbody tr th {\n",
              "        vertical-align: top;\n",
              "    }\n",
              "\n",
              "    .dataframe thead th {\n",
              "        text-align: right;\n",
              "    }\n",
              "</style>\n",
              "<table border=\"1\" class=\"dataframe\">\n",
              "  <thead>\n",
              "    <tr style=\"text-align: right;\">\n",
              "      <th></th>\n",
              "      <th>월</th>\n",
              "      <th>사과</th>\n",
              "      <th>배</th>\n",
              "      <th>포도</th>\n",
              "      <th>바나나</th>\n",
              "    </tr>\n",
              "  </thead>\n",
              "  <tbody>\n",
              "    <tr>\n",
              "      <th>0</th>\n",
              "      <td>1</td>\n",
              "      <td>15</td>\n",
              "      <td>26</td>\n",
              "      <td>32</td>\n",
              "      <td>76</td>\n",
              "    </tr>\n",
              "    <tr>\n",
              "      <th>1</th>\n",
              "      <td>2</td>\n",
              "      <td>30</td>\n",
              "      <td>20</td>\n",
              "      <td>36</td>\n",
              "      <td>47</td>\n",
              "    </tr>\n",
              "    <tr>\n",
              "      <th>2</th>\n",
              "      <td>3</td>\n",
              "      <td>42</td>\n",
              "      <td>91</td>\n",
              "      <td>25</td>\n",
              "      <td>63</td>\n",
              "    </tr>\n",
              "    <tr>\n",
              "      <th>3</th>\n",
              "      <td>4</td>\n",
              "      <td>29</td>\n",
              "      <td>84</td>\n",
              "      <td>37</td>\n",
              "      <td>72</td>\n",
              "    </tr>\n",
              "    <tr>\n",
              "      <th>4</th>\n",
              "      <td>5</td>\n",
              "      <td>53</td>\n",
              "      <td>67</td>\n",
              "      <td>74</td>\n",
              "      <td>23</td>\n",
              "    </tr>\n",
              "  </tbody>\n",
              "</table>\n",
              "</div>"
            ],
            "text/plain": [
              "   월   사과   배   포도   바나나\n",
              "0  1   15  26   32    76\n",
              "1  2   30  20   36    47\n",
              "2  3   42  91   25    63\n",
              "3  4   29  84   37    72\n",
              "4  5   53  67   74    23"
            ]
          },
          "metadata": {},
          "execution_count": 178
        }
      ]
    },
    {
      "cell_type": "markdown",
      "metadata": {
        "id": "z1uwSWScRLj8"
      },
      "source": [
        "참고로 윈도우 메모장에서 파일을 생성하면 인코딩 형식은 'cp949'입니다. 반면에 파이썬으로 텍스트 파일을 생성하면 문자 인코딩 형식은 'utf-8'이 됩니다. 인코딩 형식이 다르므로 `read_csv()` 메서드의 `encoding` 매개변수에 인코딩 형식을 인자값으로 넘겨줘야 텍스트 파일을 제대로 읽을 수 있습니다."
      ]
    },
    {
      "cell_type": "markdown",
      "metadata": {
        "id": "C97BwOFmBsI3"
      },
      "source": [
        "만약 구분자가 공백이면 매개변수를 `sep=' '`로 지정합니다."
      ]
    },
    {
      "cell_type": "code",
      "metadata": {
        "colab": {
          "base_uri": "https://localhost:8080/"
        },
        "id": "f63yzgWTB1rN",
        "outputId": "8b3cf7ba-6a64-4fc6-d40d-9ec7395fad70"
      },
      "source": [
        "%%writefile /content/gdrive/MyDrive/Python_for_Data_Analytics_Science/test_csv1.csv\n",
        "\n",
        "월 사과 배 포도 바나나\n",
        "1 15 26 32 76\n",
        "2 30 20 36 47\n",
        "3 42 91 25 63\n",
        "4 29 84 37 72\n",
        "5 53 67 74 23"
      ],
      "execution_count": 179,
      "outputs": [
        {
          "output_type": "stream",
          "name": "stdout",
          "text": [
            "Overwriting /content/gdrive/MyDrive/Python_for_Data_Analytics_Science/test_csv1.csv\n"
          ]
        }
      ]
    },
    {
      "cell_type": "code",
      "metadata": {
        "colab": {
          "base_uri": "https://localhost:8080/",
          "height": 204
        },
        "id": "u0YWVgG5Cg2Z",
        "outputId": "dc8631ed-7f5d-40c4-e40b-7c1ec0e05d2b"
      },
      "source": [
        "pd.read_csv('/content/gdrive/MyDrive/Python_for_Data_Analytics_Science/test_csv1.csv', sep=' ')"
      ],
      "execution_count": 180,
      "outputs": [
        {
          "output_type": "execute_result",
          "data": {
            "text/html": [
              "<div>\n",
              "<style scoped>\n",
              "    .dataframe tbody tr th:only-of-type {\n",
              "        vertical-align: middle;\n",
              "    }\n",
              "\n",
              "    .dataframe tbody tr th {\n",
              "        vertical-align: top;\n",
              "    }\n",
              "\n",
              "    .dataframe thead th {\n",
              "        text-align: right;\n",
              "    }\n",
              "</style>\n",
              "<table border=\"1\" class=\"dataframe\">\n",
              "  <thead>\n",
              "    <tr style=\"text-align: right;\">\n",
              "      <th></th>\n",
              "      <th>월</th>\n",
              "      <th>사과</th>\n",
              "      <th>배</th>\n",
              "      <th>포도</th>\n",
              "      <th>바나나</th>\n",
              "    </tr>\n",
              "  </thead>\n",
              "  <tbody>\n",
              "    <tr>\n",
              "      <th>0</th>\n",
              "      <td>1</td>\n",
              "      <td>15</td>\n",
              "      <td>26</td>\n",
              "      <td>32</td>\n",
              "      <td>76</td>\n",
              "    </tr>\n",
              "    <tr>\n",
              "      <th>1</th>\n",
              "      <td>2</td>\n",
              "      <td>30</td>\n",
              "      <td>20</td>\n",
              "      <td>36</td>\n",
              "      <td>47</td>\n",
              "    </tr>\n",
              "    <tr>\n",
              "      <th>2</th>\n",
              "      <td>3</td>\n",
              "      <td>42</td>\n",
              "      <td>91</td>\n",
              "      <td>25</td>\n",
              "      <td>63</td>\n",
              "    </tr>\n",
              "    <tr>\n",
              "      <th>3</th>\n",
              "      <td>4</td>\n",
              "      <td>29</td>\n",
              "      <td>84</td>\n",
              "      <td>37</td>\n",
              "      <td>72</td>\n",
              "    </tr>\n",
              "    <tr>\n",
              "      <th>4</th>\n",
              "      <td>5</td>\n",
              "      <td>53</td>\n",
              "      <td>67</td>\n",
              "      <td>74</td>\n",
              "      <td>23</td>\n",
              "    </tr>\n",
              "  </tbody>\n",
              "</table>\n",
              "</div>"
            ],
            "text/plain": [
              "   월  사과   배  포도  바나나\n",
              "0  1  15  26  32   76\n",
              "1  2  30  20  36   47\n",
              "2  3  42  91  25   63\n",
              "3  4  29  84  37   72\n",
              "4  5  53  67  74   23"
            ]
          },
          "metadata": {},
          "execution_count": 180
        }
      ]
    },
    {
      "cell_type": "markdown",
      "metadata": {
        "id": "bEJb1aGVCzUA"
      },
      "source": [
        "데이터를 읽을 때 열 하나를 인덱스로 지정할 수 있습니다. 매개변수 `index_col`에 특정 열을 인자로 전달하겠습니다."
      ]
    },
    {
      "cell_type": "code",
      "metadata": {
        "colab": {
          "base_uri": "https://localhost:8080/",
          "height": 235
        },
        "id": "NF4mnLmJDBE8",
        "outputId": "096a6b52-68b9-42f4-fed7-37d00c7f68bb"
      },
      "source": [
        "pd.read_csv('/content/gdrive/MyDrive/Python_for_Data_Analytics_Science/test_csv1.csv', sep=' ', index_col='월')"
      ],
      "execution_count": 181,
      "outputs": [
        {
          "output_type": "execute_result",
          "data": {
            "text/html": [
              "<div>\n",
              "<style scoped>\n",
              "    .dataframe tbody tr th:only-of-type {\n",
              "        vertical-align: middle;\n",
              "    }\n",
              "\n",
              "    .dataframe tbody tr th {\n",
              "        vertical-align: top;\n",
              "    }\n",
              "\n",
              "    .dataframe thead th {\n",
              "        text-align: right;\n",
              "    }\n",
              "</style>\n",
              "<table border=\"1\" class=\"dataframe\">\n",
              "  <thead>\n",
              "    <tr style=\"text-align: right;\">\n",
              "      <th></th>\n",
              "      <th>사과</th>\n",
              "      <th>배</th>\n",
              "      <th>포도</th>\n",
              "      <th>바나나</th>\n",
              "    </tr>\n",
              "    <tr>\n",
              "      <th>월</th>\n",
              "      <th></th>\n",
              "      <th></th>\n",
              "      <th></th>\n",
              "      <th></th>\n",
              "    </tr>\n",
              "  </thead>\n",
              "  <tbody>\n",
              "    <tr>\n",
              "      <th>1</th>\n",
              "      <td>15</td>\n",
              "      <td>26</td>\n",
              "      <td>32</td>\n",
              "      <td>76</td>\n",
              "    </tr>\n",
              "    <tr>\n",
              "      <th>2</th>\n",
              "      <td>30</td>\n",
              "      <td>20</td>\n",
              "      <td>36</td>\n",
              "      <td>47</td>\n",
              "    </tr>\n",
              "    <tr>\n",
              "      <th>3</th>\n",
              "      <td>42</td>\n",
              "      <td>91</td>\n",
              "      <td>25</td>\n",
              "      <td>63</td>\n",
              "    </tr>\n",
              "    <tr>\n",
              "      <th>4</th>\n",
              "      <td>29</td>\n",
              "      <td>84</td>\n",
              "      <td>37</td>\n",
              "      <td>72</td>\n",
              "    </tr>\n",
              "    <tr>\n",
              "      <th>5</th>\n",
              "      <td>53</td>\n",
              "      <td>67</td>\n",
              "      <td>74</td>\n",
              "      <td>23</td>\n",
              "    </tr>\n",
              "  </tbody>\n",
              "</table>\n",
              "</div>"
            ],
            "text/plain": [
              "   사과   배  포도  바나나\n",
              "월                 \n",
              "1  15  26  32   76\n",
              "2  30  20  36   47\n",
              "3  42  91  25   63\n",
              "4  29  84  37   72\n",
              "5  53  67  74   23"
            ]
          },
          "metadata": {},
          "execution_count": 181
        }
      ]
    },
    {
      "cell_type": "markdown",
      "metadata": {
        "id": "w7gwCJc4RdGH"
      },
      "source": [
        "## **2.8. 데이터 파일 쓰기**"
      ]
    },
    {
      "cell_type": "markdown",
      "metadata": {
        "id": "ZU-kn5YCDIZ6"
      },
      "source": [
        "`to_csv()` 메서드를 사용하면 데이터프레임을 텍스트 파일로 생성할 수 있습니다.\n",
        "\n",
        "먼저 위 데이터를 데이터프레임으로 생성하겠습니다."
      ]
    },
    {
      "cell_type": "code",
      "metadata": {
        "colab": {
          "base_uri": "https://localhost:8080/",
          "height": 235
        },
        "id": "fmc0tSifDWbg",
        "outputId": "5be6ce2a-2436-4f34-d9ca-c5d77085af75"
      },
      "source": [
        "df_to_csv = pd.DataFrame({'사과': [15, 30, 42, 29, 53],\n",
        "                                 '배': [26, 20, 91, 84, 67],\n",
        "                                 '포도': [32, 36, 25, 37, 74],\n",
        "                                 '바나나': [76, 47, 63, 72, 23]}, index=[1, 2, 3, 4, 5])\n",
        "df_to_csv.index.name = '월'\n",
        "df_to_csv"
      ],
      "execution_count": 182,
      "outputs": [
        {
          "output_type": "execute_result",
          "data": {
            "text/html": [
              "<div>\n",
              "<style scoped>\n",
              "    .dataframe tbody tr th:only-of-type {\n",
              "        vertical-align: middle;\n",
              "    }\n",
              "\n",
              "    .dataframe tbody tr th {\n",
              "        vertical-align: top;\n",
              "    }\n",
              "\n",
              "    .dataframe thead th {\n",
              "        text-align: right;\n",
              "    }\n",
              "</style>\n",
              "<table border=\"1\" class=\"dataframe\">\n",
              "  <thead>\n",
              "    <tr style=\"text-align: right;\">\n",
              "      <th></th>\n",
              "      <th>사과</th>\n",
              "      <th>배</th>\n",
              "      <th>포도</th>\n",
              "      <th>바나나</th>\n",
              "    </tr>\n",
              "    <tr>\n",
              "      <th>월</th>\n",
              "      <th></th>\n",
              "      <th></th>\n",
              "      <th></th>\n",
              "      <th></th>\n",
              "    </tr>\n",
              "  </thead>\n",
              "  <tbody>\n",
              "    <tr>\n",
              "      <th>1</th>\n",
              "      <td>15</td>\n",
              "      <td>26</td>\n",
              "      <td>32</td>\n",
              "      <td>76</td>\n",
              "    </tr>\n",
              "    <tr>\n",
              "      <th>2</th>\n",
              "      <td>30</td>\n",
              "      <td>20</td>\n",
              "      <td>36</td>\n",
              "      <td>47</td>\n",
              "    </tr>\n",
              "    <tr>\n",
              "      <th>3</th>\n",
              "      <td>42</td>\n",
              "      <td>91</td>\n",
              "      <td>25</td>\n",
              "      <td>63</td>\n",
              "    </tr>\n",
              "    <tr>\n",
              "      <th>4</th>\n",
              "      <td>29</td>\n",
              "      <td>84</td>\n",
              "      <td>37</td>\n",
              "      <td>72</td>\n",
              "    </tr>\n",
              "    <tr>\n",
              "      <th>5</th>\n",
              "      <td>53</td>\n",
              "      <td>67</td>\n",
              "      <td>74</td>\n",
              "      <td>23</td>\n",
              "    </tr>\n",
              "  </tbody>\n",
              "</table>\n",
              "</div>"
            ],
            "text/plain": [
              "   사과   배  포도  바나나\n",
              "월                 \n",
              "1  15  26  32   76\n",
              "2  30  20  36   47\n",
              "3  42  91  25   63\n",
              "4  29  84  37   72\n",
              "5  53  67  74   23"
            ]
          },
          "metadata": {},
          "execution_count": 182
        }
      ]
    },
    {
      "cell_type": "markdown",
      "metadata": {
        "id": "Bt1Hz9ehETeo"
      },
      "source": [
        "바나나 열의 오른쪽에 모든 과일의 월 평균판매량 열을 추가하겠습니다. "
      ]
    },
    {
      "cell_type": "code",
      "metadata": {
        "colab": {
          "base_uri": "https://localhost:8080/",
          "height": 235
        },
        "id": "wG837BfpEb_r",
        "outputId": "d20e0cff-6fb6-476e-8808-c19feae79ad4"
      },
      "source": [
        "sum_sale = df_to_csv['사과'] + df_to_csv['배'] + df_to_csv['포도'] + df_to_csv['바나나']\n",
        "mean_sale = sum_sale/4\n",
        "mean_sale\n",
        "\n",
        "df_to_csv['평균 판매량'] = mean_sale\n",
        "df_to_csv"
      ],
      "execution_count": 183,
      "outputs": [
        {
          "output_type": "execute_result",
          "data": {
            "text/html": [
              "<div>\n",
              "<style scoped>\n",
              "    .dataframe tbody tr th:only-of-type {\n",
              "        vertical-align: middle;\n",
              "    }\n",
              "\n",
              "    .dataframe tbody tr th {\n",
              "        vertical-align: top;\n",
              "    }\n",
              "\n",
              "    .dataframe thead th {\n",
              "        text-align: right;\n",
              "    }\n",
              "</style>\n",
              "<table border=\"1\" class=\"dataframe\">\n",
              "  <thead>\n",
              "    <tr style=\"text-align: right;\">\n",
              "      <th></th>\n",
              "      <th>사과</th>\n",
              "      <th>배</th>\n",
              "      <th>포도</th>\n",
              "      <th>바나나</th>\n",
              "      <th>평균 판매량</th>\n",
              "    </tr>\n",
              "    <tr>\n",
              "      <th>월</th>\n",
              "      <th></th>\n",
              "      <th></th>\n",
              "      <th></th>\n",
              "      <th></th>\n",
              "      <th></th>\n",
              "    </tr>\n",
              "  </thead>\n",
              "  <tbody>\n",
              "    <tr>\n",
              "      <th>1</th>\n",
              "      <td>15</td>\n",
              "      <td>26</td>\n",
              "      <td>32</td>\n",
              "      <td>76</td>\n",
              "      <td>37.25</td>\n",
              "    </tr>\n",
              "    <tr>\n",
              "      <th>2</th>\n",
              "      <td>30</td>\n",
              "      <td>20</td>\n",
              "      <td>36</td>\n",
              "      <td>47</td>\n",
              "      <td>33.25</td>\n",
              "    </tr>\n",
              "    <tr>\n",
              "      <th>3</th>\n",
              "      <td>42</td>\n",
              "      <td>91</td>\n",
              "      <td>25</td>\n",
              "      <td>63</td>\n",
              "      <td>55.25</td>\n",
              "    </tr>\n",
              "    <tr>\n",
              "      <th>4</th>\n",
              "      <td>29</td>\n",
              "      <td>84</td>\n",
              "      <td>37</td>\n",
              "      <td>72</td>\n",
              "      <td>55.50</td>\n",
              "    </tr>\n",
              "    <tr>\n",
              "      <th>5</th>\n",
              "      <td>53</td>\n",
              "      <td>67</td>\n",
              "      <td>74</td>\n",
              "      <td>23</td>\n",
              "      <td>54.25</td>\n",
              "    </tr>\n",
              "  </tbody>\n",
              "</table>\n",
              "</div>"
            ],
            "text/plain": [
              "   사과   배  포도  바나나  평균 판매량\n",
              "월                         \n",
              "1  15  26  32   76   37.25\n",
              "2  30  20  36   47   33.25\n",
              "3  42  91  25   63   55.25\n",
              "4  29  84  37   72   55.50\n",
              "5  53  67  74   23   54.25"
            ]
          },
          "metadata": {},
          "execution_count": 183
        }
      ]
    },
    {
      "cell_type": "markdown",
      "metadata": {
        "id": "izvahv32GN-d"
      },
      "source": [
        "생성한 데이터프레임을 텍스트 파일로 저장하겠습니다. 구분자를 기본값인 쉼표가 아닌 공백으로 지정하고 문자는 `cp949`로 지정하겠습니다."
      ]
    },
    {
      "cell_type": "code",
      "metadata": {
        "id": "U8k4DokWGR9a"
      },
      "source": [
        "df_to_csv.to_csv('/content/gdrive/MyDrive/Python_for_Data_Analytics_Science/to_csv1.csv', \n",
        "                        sep=' ', encoding='cp949')"
      ],
      "execution_count": 184,
      "outputs": []
    },
    {
      "cell_type": "markdown",
      "metadata": {
        "id": "26wOdzZ1IdQR"
      },
      "source": [
        "# **3. Pandas 심화**"
      ]
    },
    {
      "cell_type": "markdown",
      "metadata": {
        "id": "B3_BpG9MEGCy"
      },
      "source": [
        "## **3.1. 함수 매핑 하기**"
      ]
    },
    {
      "cell_type": "markdown",
      "metadata": {
        "id": "QX728sCcISTq"
      },
      "source": [
        "함수 매핑(mapping)이란 직접 생성한 함수에 시리즈나 데이터프레임의 원소를 대응시키는 것을 의미합니다.\n",
        "\n",
        "먼저 함수를 생성하겠습니다."
      ]
    },
    {
      "cell_type": "code",
      "metadata": {
        "id": "plSFRhoDJnf7"
      },
      "source": [
        "def test_sub_10(a):\n",
        "    return a - 30\n",
        "\n",
        "def test_mul_ab(a, b):\n",
        "    return a * b\n",
        "\n",
        "def test_isnull(a):\n",
        "    return a.isnull()\n",
        "\n",
        "def test_sub_minmax(a):\n",
        "    return a.min() - a.max()"
      ],
      "execution_count": 185,
      "outputs": []
    },
    {
      "cell_type": "markdown",
      "metadata": {
        "id": "SJFADfxXK5dl"
      },
      "source": [
        "함수를 적용할 데이터프레임을 생성하겠습니다."
      ]
    },
    {
      "cell_type": "code",
      "metadata": {
        "colab": {
          "base_uri": "https://localhost:8080/",
          "height": 204
        },
        "id": "IukEGaRPKVbl",
        "outputId": "b43ceb11-6a9b-4197-9154-80f8933a59ff"
      },
      "source": [
        "import pandas as pd\n",
        "\n",
        "dic_data6 = {'판매자': ['승원', '미경', '미니', '꼬맹', '거북'],\n",
        "             '사과': [10, 20, 30, 40, 50],\n",
        "             '배': [1, 2, 3, 4, 5],\n",
        "             '포도': [5, 6, 7, 8, 9]}\n",
        "col_list3 = ['판매자', '포도', '사과', '배']\n",
        "\n",
        "df14 = pd.DataFrame(dic_data6, columns=col_list3)\n",
        "df14"
      ],
      "execution_count": 186,
      "outputs": [
        {
          "output_type": "execute_result",
          "data": {
            "text/html": [
              "<div>\n",
              "<style scoped>\n",
              "    .dataframe tbody tr th:only-of-type {\n",
              "        vertical-align: middle;\n",
              "    }\n",
              "\n",
              "    .dataframe tbody tr th {\n",
              "        vertical-align: top;\n",
              "    }\n",
              "\n",
              "    .dataframe thead th {\n",
              "        text-align: right;\n",
              "    }\n",
              "</style>\n",
              "<table border=\"1\" class=\"dataframe\">\n",
              "  <thead>\n",
              "    <tr style=\"text-align: right;\">\n",
              "      <th></th>\n",
              "      <th>판매자</th>\n",
              "      <th>포도</th>\n",
              "      <th>사과</th>\n",
              "      <th>배</th>\n",
              "    </tr>\n",
              "  </thead>\n",
              "  <tbody>\n",
              "    <tr>\n",
              "      <th>0</th>\n",
              "      <td>승원</td>\n",
              "      <td>5</td>\n",
              "      <td>10</td>\n",
              "      <td>1</td>\n",
              "    </tr>\n",
              "    <tr>\n",
              "      <th>1</th>\n",
              "      <td>미경</td>\n",
              "      <td>6</td>\n",
              "      <td>20</td>\n",
              "      <td>2</td>\n",
              "    </tr>\n",
              "    <tr>\n",
              "      <th>2</th>\n",
              "      <td>미니</td>\n",
              "      <td>7</td>\n",
              "      <td>30</td>\n",
              "      <td>3</td>\n",
              "    </tr>\n",
              "    <tr>\n",
              "      <th>3</th>\n",
              "      <td>꼬맹</td>\n",
              "      <td>8</td>\n",
              "      <td>40</td>\n",
              "      <td>4</td>\n",
              "    </tr>\n",
              "    <tr>\n",
              "      <th>4</th>\n",
              "      <td>거북</td>\n",
              "      <td>9</td>\n",
              "      <td>50</td>\n",
              "      <td>5</td>\n",
              "    </tr>\n",
              "  </tbody>\n",
              "</table>\n",
              "</div>"
            ],
            "text/plain": [
              "  판매자  포도  사과  배\n",
              "0  승원   5  10  1\n",
              "1  미경   6  20  2\n",
              "2  미니   7  30  3\n",
              "3  꼬맹   8  40  4\n",
              "4  거북   9  50  5"
            ]
          },
          "metadata": {},
          "execution_count": 186
        }
      ]
    },
    {
      "cell_type": "markdown",
      "metadata": {
        "id": "unVAZ-zsL1WO"
      },
      "source": [
        "`apply()` 메서드를 사용해서 데이터프레임의 시리즈에 함수를 매핑 하겠습니다. 먼저 `test_sub_10()` 함수를 매핑 합니다."
      ]
    },
    {
      "cell_type": "code",
      "metadata": {
        "colab": {
          "base_uri": "https://localhost:8080/"
        },
        "id": "CEmrkInOLMRw",
        "outputId": "4cf0e56a-5edb-467a-ec84-9c4a6c22fa70"
      },
      "source": [
        "df14['포도'].apply(test_sub_10)"
      ],
      "execution_count": 187,
      "outputs": [
        {
          "output_type": "execute_result",
          "data": {
            "text/plain": [
              "0   -25\n",
              "1   -24\n",
              "2   -23\n",
              "3   -22\n",
              "4   -21\n",
              "Name: 포도, dtype: int64"
            ]
          },
          "metadata": {},
          "execution_count": 187
        }
      ]
    },
    {
      "cell_type": "code",
      "metadata": {
        "colab": {
          "base_uri": "https://localhost:8080/"
        },
        "id": "cAqL_iiDLvsT",
        "outputId": "bfd7717e-e62f-4b37-822d-eb4fea92f8ce"
      },
      "source": [
        "df14['사과'].apply(test_sub_10)"
      ],
      "execution_count": 188,
      "outputs": [
        {
          "output_type": "execute_result",
          "data": {
            "text/plain": [
              "0   -20\n",
              "1   -10\n",
              "2     0\n",
              "3    10\n",
              "4    20\n",
              "Name: 사과, dtype: int64"
            ]
          },
          "metadata": {},
          "execution_count": 188
        }
      ]
    },
    {
      "cell_type": "markdown",
      "metadata": {
        "id": "UL3Kd6-tPfkR"
      },
      "source": [
        "람다 함수를 사용할 수도 있습니다."
      ]
    },
    {
      "cell_type": "code",
      "metadata": {
        "colab": {
          "base_uri": "https://localhost:8080/"
        },
        "id": "_SlRvzEDPa8L",
        "outputId": "0976b7f4-5c90-492f-ac03-86f2761d316c"
      },
      "source": [
        "df14['사과'].apply(lambda x : test_sub_10(x))"
      ],
      "execution_count": 189,
      "outputs": [
        {
          "output_type": "execute_result",
          "data": {
            "text/plain": [
              "0   -20\n",
              "1   -10\n",
              "2     0\n",
              "3    10\n",
              "4    20\n",
              "Name: 사과, dtype: int64"
            ]
          },
          "metadata": {},
          "execution_count": 189
        }
      ]
    },
    {
      "cell_type": "markdown",
      "metadata": {
        "id": "4Xc_PIdkMWcQ"
      },
      "source": [
        "다음으로 `test_mul_ab()` 함수를 매핑 하겠습니다. `b` 값은 따로 지정해야 합니다."
      ]
    },
    {
      "cell_type": "code",
      "metadata": {
        "colab": {
          "base_uri": "https://localhost:8080/"
        },
        "id": "eNgVrkINOc9l",
        "outputId": "5a6274ee-5063-47a9-8cb9-29255e92cc52"
      },
      "source": [
        "df14['사과'].apply(test_mul_ab, b=2)"
      ],
      "execution_count": 190,
      "outputs": [
        {
          "output_type": "execute_result",
          "data": {
            "text/plain": [
              "0     20\n",
              "1     40\n",
              "2     60\n",
              "3     80\n",
              "4    100\n",
              "Name: 사과, dtype: int64"
            ]
          },
          "metadata": {},
          "execution_count": 190
        }
      ]
    },
    {
      "cell_type": "markdown",
      "metadata": {
        "id": "WcqI6h1BOf0V"
      },
      "source": [
        "데이터프레임 전체를 매핑 하면 판매자 시리즈까지 적용됩니다. 열마다 적용되는 `axis=0` 형식의 매개변수는 기본값입니다. 따로 지정하지 않아도 됩니다."
      ]
    },
    {
      "cell_type": "code",
      "metadata": {
        "colab": {
          "base_uri": "https://localhost:8080/",
          "height": 204
        },
        "id": "pEtgJDgWMDJH",
        "outputId": "1a465c1e-cff3-41f8-e17e-21fdd9561a82"
      },
      "source": [
        "df14.apply(test_mul_ab, b=2)"
      ],
      "execution_count": 191,
      "outputs": [
        {
          "output_type": "execute_result",
          "data": {
            "text/html": [
              "<div>\n",
              "<style scoped>\n",
              "    .dataframe tbody tr th:only-of-type {\n",
              "        vertical-align: middle;\n",
              "    }\n",
              "\n",
              "    .dataframe tbody tr th {\n",
              "        vertical-align: top;\n",
              "    }\n",
              "\n",
              "    .dataframe thead th {\n",
              "        text-align: right;\n",
              "    }\n",
              "</style>\n",
              "<table border=\"1\" class=\"dataframe\">\n",
              "  <thead>\n",
              "    <tr style=\"text-align: right;\">\n",
              "      <th></th>\n",
              "      <th>판매자</th>\n",
              "      <th>포도</th>\n",
              "      <th>사과</th>\n",
              "      <th>배</th>\n",
              "    </tr>\n",
              "  </thead>\n",
              "  <tbody>\n",
              "    <tr>\n",
              "      <th>0</th>\n",
              "      <td>승원승원</td>\n",
              "      <td>10</td>\n",
              "      <td>20</td>\n",
              "      <td>2</td>\n",
              "    </tr>\n",
              "    <tr>\n",
              "      <th>1</th>\n",
              "      <td>미경미경</td>\n",
              "      <td>12</td>\n",
              "      <td>40</td>\n",
              "      <td>4</td>\n",
              "    </tr>\n",
              "    <tr>\n",
              "      <th>2</th>\n",
              "      <td>미니미니</td>\n",
              "      <td>14</td>\n",
              "      <td>60</td>\n",
              "      <td>6</td>\n",
              "    </tr>\n",
              "    <tr>\n",
              "      <th>3</th>\n",
              "      <td>꼬맹꼬맹</td>\n",
              "      <td>16</td>\n",
              "      <td>80</td>\n",
              "      <td>8</td>\n",
              "    </tr>\n",
              "    <tr>\n",
              "      <th>4</th>\n",
              "      <td>거북거북</td>\n",
              "      <td>18</td>\n",
              "      <td>100</td>\n",
              "      <td>10</td>\n",
              "    </tr>\n",
              "  </tbody>\n",
              "</table>\n",
              "</div>"
            ],
            "text/plain": [
              "    판매자  포도   사과   배\n",
              "0  승원승원  10   20   2\n",
              "1  미경미경  12   40   4\n",
              "2  미니미니  14   60   6\n",
              "3  꼬맹꼬맹  16   80   8\n",
              "4  거북거북  18  100  10"
            ]
          },
          "metadata": {},
          "execution_count": 191
        }
      ]
    },
    {
      "cell_type": "markdown",
      "metadata": {
        "id": "1fIVatWeWBcJ"
      },
      "source": [
        "람다 함수로 `test_mul_ab` 함수를 적용하겠습니다. 원소 두 개를 전달하므로 'b'를 따로 지정하지 않아도 됩니다."
      ]
    },
    {
      "cell_type": "code",
      "metadata": {
        "colab": {
          "base_uri": "https://localhost:8080/"
        },
        "id": "5AT2js_3WB5S",
        "outputId": "3c96b4bc-7e57-47fd-80c3-5405091e6163"
      },
      "source": [
        "df14.apply(lambda x : test_mul_ab(x['포도'], x['사과']), axis=1)"
      ],
      "execution_count": 192,
      "outputs": [
        {
          "output_type": "execute_result",
          "data": {
            "text/plain": [
              "0     50\n",
              "1    120\n",
              "2    210\n",
              "3    320\n",
              "4    450\n",
              "dtype: int64"
            ]
          },
          "metadata": {},
          "execution_count": 192
        }
      ]
    },
    {
      "cell_type": "markdown",
      "metadata": {
        "id": "74FrEs9AfEvp"
      },
      "source": [
        "`test_isnull()` 함수를 적용하겠습니다. "
      ]
    },
    {
      "cell_type": "code",
      "metadata": {
        "colab": {
          "base_uri": "https://localhost:8080/",
          "height": 204
        },
        "id": "oEZ5uldSeO2B",
        "outputId": "253613b7-1ae7-4536-df38-a2625f6f97b0"
      },
      "source": [
        "df14.apply(test_isnull)"
      ],
      "execution_count": 193,
      "outputs": [
        {
          "output_type": "execute_result",
          "data": {
            "text/html": [
              "<div>\n",
              "<style scoped>\n",
              "    .dataframe tbody tr th:only-of-type {\n",
              "        vertical-align: middle;\n",
              "    }\n",
              "\n",
              "    .dataframe tbody tr th {\n",
              "        vertical-align: top;\n",
              "    }\n",
              "\n",
              "    .dataframe thead th {\n",
              "        text-align: right;\n",
              "    }\n",
              "</style>\n",
              "<table border=\"1\" class=\"dataframe\">\n",
              "  <thead>\n",
              "    <tr style=\"text-align: right;\">\n",
              "      <th></th>\n",
              "      <th>판매자</th>\n",
              "      <th>포도</th>\n",
              "      <th>사과</th>\n",
              "      <th>배</th>\n",
              "    </tr>\n",
              "  </thead>\n",
              "  <tbody>\n",
              "    <tr>\n",
              "      <th>0</th>\n",
              "      <td>False</td>\n",
              "      <td>False</td>\n",
              "      <td>False</td>\n",
              "      <td>False</td>\n",
              "    </tr>\n",
              "    <tr>\n",
              "      <th>1</th>\n",
              "      <td>False</td>\n",
              "      <td>False</td>\n",
              "      <td>False</td>\n",
              "      <td>False</td>\n",
              "    </tr>\n",
              "    <tr>\n",
              "      <th>2</th>\n",
              "      <td>False</td>\n",
              "      <td>False</td>\n",
              "      <td>False</td>\n",
              "      <td>False</td>\n",
              "    </tr>\n",
              "    <tr>\n",
              "      <th>3</th>\n",
              "      <td>False</td>\n",
              "      <td>False</td>\n",
              "      <td>False</td>\n",
              "      <td>False</td>\n",
              "    </tr>\n",
              "    <tr>\n",
              "      <th>4</th>\n",
              "      <td>False</td>\n",
              "      <td>False</td>\n",
              "      <td>False</td>\n",
              "      <td>False</td>\n",
              "    </tr>\n",
              "  </tbody>\n",
              "</table>\n",
              "</div>"
            ],
            "text/plain": [
              "     판매자     포도     사과      배\n",
              "0  False  False  False  False\n",
              "1  False  False  False  False\n",
              "2  False  False  False  False\n",
              "3  False  False  False  False\n",
              "4  False  False  False  False"
            ]
          },
          "metadata": {},
          "execution_count": 193
        }
      ]
    },
    {
      "cell_type": "markdown",
      "metadata": {
        "id": "b9qI-Y9Sg2wc"
      },
      "source": [
        "`test_add_maxmin()` 함수를 적용하겠습니다."
      ]
    },
    {
      "cell_type": "code",
      "metadata": {
        "colab": {
          "base_uri": "https://localhost:8080/"
        },
        "id": "TiaCs9VvgNSQ",
        "outputId": "e108589a-907a-4d11-c228-f27478049208"
      },
      "source": [
        "df14.loc[:, '포도':].apply(test_sub_minmax, axis=0)"
      ],
      "execution_count": 194,
      "outputs": [
        {
          "output_type": "execute_result",
          "data": {
            "text/plain": [
              "포도    -4\n",
              "사과   -40\n",
              "배     -4\n",
              "dtype: int64"
            ]
          },
          "metadata": {},
          "execution_count": 194
        }
      ]
    },
    {
      "cell_type": "markdown",
      "metadata": {
        "id": "GfOSXeajbNbG"
      },
      "source": [
        "`applymap()` 메서드는 데이터프레임 원소에 개별적으로 함수를 매핑하는 메서드입니다. 기실 데이터프레임에 `apply()` 메서드를 적용해도 작동합니다. 각 열(시리즈)에 개별적으로 적용되기 때문입니다. 다만 시리즈에 `applymap()` 메서드를 적용하면 작동하지 않습니다. 시리즈 객체는 `applymap()` 메서드를 가지고 있지 않습니다."
      ]
    },
    {
      "cell_type": "code",
      "metadata": {
        "colab": {
          "base_uri": "https://localhost:8080/",
          "height": 204
        },
        "id": "Y9fqDzW3ZIR5",
        "outputId": "635c733d-6153-4f62-af69-938589a2850d"
      },
      "source": [
        "# `test_sub_10` 함수는 숫자만 연산할 수 있으므로 '판매자' 열은 제외합니다.\n",
        "df14.loc[:, '포도':].applymap(test_sub_10)"
      ],
      "execution_count": 195,
      "outputs": [
        {
          "output_type": "execute_result",
          "data": {
            "text/html": [
              "<div>\n",
              "<style scoped>\n",
              "    .dataframe tbody tr th:only-of-type {\n",
              "        vertical-align: middle;\n",
              "    }\n",
              "\n",
              "    .dataframe tbody tr th {\n",
              "        vertical-align: top;\n",
              "    }\n",
              "\n",
              "    .dataframe thead th {\n",
              "        text-align: right;\n",
              "    }\n",
              "</style>\n",
              "<table border=\"1\" class=\"dataframe\">\n",
              "  <thead>\n",
              "    <tr style=\"text-align: right;\">\n",
              "      <th></th>\n",
              "      <th>포도</th>\n",
              "      <th>사과</th>\n",
              "      <th>배</th>\n",
              "    </tr>\n",
              "  </thead>\n",
              "  <tbody>\n",
              "    <tr>\n",
              "      <th>0</th>\n",
              "      <td>-25</td>\n",
              "      <td>-20</td>\n",
              "      <td>-29</td>\n",
              "    </tr>\n",
              "    <tr>\n",
              "      <th>1</th>\n",
              "      <td>-24</td>\n",
              "      <td>-10</td>\n",
              "      <td>-28</td>\n",
              "    </tr>\n",
              "    <tr>\n",
              "      <th>2</th>\n",
              "      <td>-23</td>\n",
              "      <td>0</td>\n",
              "      <td>-27</td>\n",
              "    </tr>\n",
              "    <tr>\n",
              "      <th>3</th>\n",
              "      <td>-22</td>\n",
              "      <td>10</td>\n",
              "      <td>-26</td>\n",
              "    </tr>\n",
              "    <tr>\n",
              "      <th>4</th>\n",
              "      <td>-21</td>\n",
              "      <td>20</td>\n",
              "      <td>-25</td>\n",
              "    </tr>\n",
              "  </tbody>\n",
              "</table>\n",
              "</div>"
            ],
            "text/plain": [
              "   포도  사과   배\n",
              "0 -25 -20 -29\n",
              "1 -24 -10 -28\n",
              "2 -23   0 -27\n",
              "3 -22  10 -26\n",
              "4 -21  20 -25"
            ]
          },
          "metadata": {},
          "execution_count": 195
        }
      ]
    },
    {
      "cell_type": "markdown",
      "metadata": {
        "id": "LKjqaI5NW0gq"
      },
      "source": [
        "`pipe()` 메서드를 사용하면 데이터프레임 객체를 함수에 매핑 할 수 있습니다. 함수에 맞게 결과를 데이터프레임, 시리즈, 단일값으로 출력합니다.\n",
        "\n",
        "먼저 함수를 만들겠습니다."
      ]
    },
    {
      "cell_type": "code",
      "metadata": {
        "id": "-pn5qqZ8cZGR"
      },
      "source": [
        "# 열의 공백 개수를 시리즈로 반환합니다.\n",
        "def test_null_count_series(a):\n",
        "    return test_isnull(a).sum()\n",
        "\n",
        "# 데이터프레임의 공백 개수를 단일값으로 반환합니다.\n",
        "def test_null_count_val(a):\n",
        "    return test_null_count_series(a).sum()"
      ],
      "execution_count": 196,
      "outputs": []
    },
    {
      "cell_type": "markdown",
      "metadata": {
        "id": "DPyeb2xu1CpL"
      },
      "source": [
        "`apply()` 메서드를 사용합니다."
      ]
    },
    {
      "cell_type": "code",
      "metadata": {
        "colab": {
          "base_uri": "https://localhost:8080/"
        },
        "id": "8roV8Fqoy639",
        "outputId": "f9c14052-6952-4c3d-afce-007f5fb49700"
      },
      "source": [
        "df14.apply(test_null_count_series)"
      ],
      "execution_count": 197,
      "outputs": [
        {
          "output_type": "execute_result",
          "data": {
            "text/plain": [
              "판매자    0\n",
              "포도     0\n",
              "사과     0\n",
              "배      0\n",
              "dtype: int64"
            ]
          },
          "metadata": {},
          "execution_count": 197
        }
      ]
    },
    {
      "cell_type": "code",
      "metadata": {
        "colab": {
          "base_uri": "https://localhost:8080/"
        },
        "id": "-Gp_a9yU09CU",
        "outputId": "ebe23b76-da78-4cd0-cd4a-ee11ca8df6d1"
      },
      "source": [
        "df14.pipe(test_null_count_val)"
      ],
      "execution_count": 198,
      "outputs": [
        {
          "output_type": "execute_result",
          "data": {
            "text/plain": [
              "0"
            ]
          },
          "metadata": {},
          "execution_count": 198
        }
      ]
    },
    {
      "cell_type": "markdown",
      "metadata": {
        "id": "lGQrptwFcRA7"
      },
      "source": [
        "기실 위 메서드 중에 가장 많이 사용하는 메서드는 `apply()`입니다. 다양한 형태로 값을 받을 수 있고 반환하는 형태도 넓기 때문입니다.\n",
        "\n",
        "위 메서드의 입력값과 출력값을 정리하면 아래와 같습니다.\n",
        "\n",
        "- `apply()`\n",
        "\n",
        " - 입력: 시리즈 원소   \n",
        " 출력값: 단일값, 시리즈\n",
        "\n",
        " - 입력: 시리즈 객체(데이터프레임 행 or 열)   \n",
        " 출력: 단일값, 시리즈, 데이터프레임\n",
        "\n",
        "- `applymap()`\n",
        "\n",
        " - 입력: 데이터프레임의 원소  \n",
        " 출력: 데이터프레임\n",
        "\n",
        "- `pipe()`\n",
        "\n",
        " - 입력: 데이터프레임 객체  \n",
        " 출력: 단일값, 시리즈, 데이터프레임"
      ]
    },
    {
      "cell_type": "markdown",
      "metadata": {
        "id": "Yr_IWfABFL3J"
      },
      "source": [
        "## **3.2. 필터링 하기**"
      ]
    },
    {
      "cell_type": "markdown",
      "metadata": {
        "id": "kqEDJ7Baf0Ws"
      },
      "source": [
        "특정한 조건식을 만족하는 원소만 따로 추출하겠습니다.\n",
        "\n",
        "먼저 불린 인덱싱(boolean indexing)입니다. 불린 인덱싱은 특정한 조건식에 대하여 각 원소에 부합하는지 참과 거짓으로 판별하고 `True`, `False`로 값을 얻습니다. 이 값들 중에 `True`에 해당하는 원소를 추출할 수 있습니다.\n",
        "\n",
        "먼저 예시에 사용할 데이터프레임을 가져오겠습니다. "
      ]
    },
    {
      "cell_type": "code",
      "metadata": {
        "colab": {
          "base_uri": "https://localhost:8080/",
          "height": 204
        },
        "id": "BS9OcKqVhmAc",
        "outputId": "a6e9269b-c8f3-49e8-8281-a0313958f290"
      },
      "source": [
        "dic_data5 = {'판매자': ['승원', '미경', '미니', '꼬맹', '거북'],\n",
        "             '사과': [332, 392, 391, 295, 374],\n",
        "             '배': [102, 99, 80, 30, 143],\n",
        "             '포도': [402, 497, 306, 681, 573]}\n",
        "col_list2 = ['판매자', '포도', '사과', '배']\n",
        "\n",
        "df13 = pd.DataFrame(dic_data5, columns=col_list2)\n",
        "df13"
      ],
      "execution_count": 199,
      "outputs": [
        {
          "output_type": "execute_result",
          "data": {
            "text/html": [
              "<div>\n",
              "<style scoped>\n",
              "    .dataframe tbody tr th:only-of-type {\n",
              "        vertical-align: middle;\n",
              "    }\n",
              "\n",
              "    .dataframe tbody tr th {\n",
              "        vertical-align: top;\n",
              "    }\n",
              "\n",
              "    .dataframe thead th {\n",
              "        text-align: right;\n",
              "    }\n",
              "</style>\n",
              "<table border=\"1\" class=\"dataframe\">\n",
              "  <thead>\n",
              "    <tr style=\"text-align: right;\">\n",
              "      <th></th>\n",
              "      <th>판매자</th>\n",
              "      <th>포도</th>\n",
              "      <th>사과</th>\n",
              "      <th>배</th>\n",
              "    </tr>\n",
              "  </thead>\n",
              "  <tbody>\n",
              "    <tr>\n",
              "      <th>0</th>\n",
              "      <td>승원</td>\n",
              "      <td>402</td>\n",
              "      <td>332</td>\n",
              "      <td>102</td>\n",
              "    </tr>\n",
              "    <tr>\n",
              "      <th>1</th>\n",
              "      <td>미경</td>\n",
              "      <td>497</td>\n",
              "      <td>392</td>\n",
              "      <td>99</td>\n",
              "    </tr>\n",
              "    <tr>\n",
              "      <th>2</th>\n",
              "      <td>미니</td>\n",
              "      <td>306</td>\n",
              "      <td>391</td>\n",
              "      <td>80</td>\n",
              "    </tr>\n",
              "    <tr>\n",
              "      <th>3</th>\n",
              "      <td>꼬맹</td>\n",
              "      <td>681</td>\n",
              "      <td>295</td>\n",
              "      <td>30</td>\n",
              "    </tr>\n",
              "    <tr>\n",
              "      <th>4</th>\n",
              "      <td>거북</td>\n",
              "      <td>573</td>\n",
              "      <td>374</td>\n",
              "      <td>143</td>\n",
              "    </tr>\n",
              "  </tbody>\n",
              "</table>\n",
              "</div>"
            ],
            "text/plain": [
              "  판매자   포도   사과    배\n",
              "0  승원  402  332  102\n",
              "1  미경  497  392   99\n",
              "2  미니  306  391   80\n",
              "3  꼬맹  681  295   30\n",
              "4  거북  573  374  143"
            ]
          },
          "metadata": {},
          "execution_count": 199
        }
      ]
    },
    {
      "cell_type": "markdown",
      "metadata": {
        "id": "tDdCJxPPjqcs"
      },
      "source": [
        "배를 50~100개만큼 판매한 판매자만 따로 추출하겠습니다."
      ]
    },
    {
      "cell_type": "code",
      "metadata": {
        "colab": {
          "base_uri": "https://localhost:8080/"
        },
        "id": "X_F2cdUwjzAh",
        "outputId": "6a14a40f-cb42-40f7-9947-ce8dc454d877"
      },
      "source": [
        "df13_bool1 = (df13['배'] >= 50) & (df13['배'] <= 100)\n",
        "df13_bool1"
      ],
      "execution_count": 200,
      "outputs": [
        {
          "output_type": "execute_result",
          "data": {
            "text/plain": [
              "0    False\n",
              "1     True\n",
              "2     True\n",
              "3    False\n",
              "4    False\n",
              "Name: 배, dtype: bool"
            ]
          },
          "metadata": {},
          "execution_count": 200
        }
      ]
    },
    {
      "cell_type": "code",
      "metadata": {
        "colab": {
          "base_uri": "https://localhost:8080/"
        },
        "id": "ny3C6vj0pCIw",
        "outputId": "ee430b4f-d52b-425a-984e-e4d1f6f54653"
      },
      "source": [
        "df13.loc[df13_bool1, '판매자']"
      ],
      "execution_count": 201,
      "outputs": [
        {
          "output_type": "execute_result",
          "data": {
            "text/plain": [
              "1    미경\n",
              "2    미니\n",
              "Name: 판매자, dtype: object"
            ]
          },
          "metadata": {},
          "execution_count": 201
        }
      ]
    },
    {
      "cell_type": "markdown",
      "metadata": {
        "id": "vnmfkc6olGY4"
      },
      "source": [
        "데이터프레임 전체를 출력하려면 아래처럼 작성합니다."
      ]
    },
    {
      "cell_type": "code",
      "metadata": {
        "colab": {
          "base_uri": "https://localhost:8080/",
          "height": 111
        },
        "id": "eqsZJxpXlFLZ",
        "outputId": "2bd00f79-d50d-442c-c0f0-3c8e0cd21374"
      },
      "source": [
        "# `df13.loc[df13_bool1, :]`도 가능합니다.\n",
        "df13.loc[df13_bool1]"
      ],
      "execution_count": 202,
      "outputs": [
        {
          "output_type": "execute_result",
          "data": {
            "text/html": [
              "<div>\n",
              "<style scoped>\n",
              "    .dataframe tbody tr th:only-of-type {\n",
              "        vertical-align: middle;\n",
              "    }\n",
              "\n",
              "    .dataframe tbody tr th {\n",
              "        vertical-align: top;\n",
              "    }\n",
              "\n",
              "    .dataframe thead th {\n",
              "        text-align: right;\n",
              "    }\n",
              "</style>\n",
              "<table border=\"1\" class=\"dataframe\">\n",
              "  <thead>\n",
              "    <tr style=\"text-align: right;\">\n",
              "      <th></th>\n",
              "      <th>판매자</th>\n",
              "      <th>포도</th>\n",
              "      <th>사과</th>\n",
              "      <th>배</th>\n",
              "    </tr>\n",
              "  </thead>\n",
              "  <tbody>\n",
              "    <tr>\n",
              "      <th>1</th>\n",
              "      <td>미경</td>\n",
              "      <td>497</td>\n",
              "      <td>392</td>\n",
              "      <td>99</td>\n",
              "    </tr>\n",
              "    <tr>\n",
              "      <th>2</th>\n",
              "      <td>미니</td>\n",
              "      <td>306</td>\n",
              "      <td>391</td>\n",
              "      <td>80</td>\n",
              "    </tr>\n",
              "  </tbody>\n",
              "</table>\n",
              "</div>"
            ],
            "text/plain": [
              "  판매자   포도   사과   배\n",
              "1  미경  497  392  99\n",
              "2  미니  306  391  80"
            ]
          },
          "metadata": {},
          "execution_count": 202
        }
      ]
    },
    {
      "cell_type": "markdown",
      "metadata": {
        "id": "j4jZibjLoRDl"
      },
      "source": [
        "포도 500개 이상을 판매했거나 사과 350개 이상을 판매한 판매자를 따로 추출하겠습니다."
      ]
    },
    {
      "cell_type": "code",
      "metadata": {
        "colab": {
          "base_uri": "https://localhost:8080/"
        },
        "id": "Vx2XSPXGouPC",
        "outputId": "5e2e1303-9ea0-4209-bb90-7b1225ca7e4a"
      },
      "source": [
        "df13_bool2 = (df13['포도'] >= 500) | (df13['사과'] >= 350)\n",
        "df13_bool2"
      ],
      "execution_count": 203,
      "outputs": [
        {
          "output_type": "execute_result",
          "data": {
            "text/plain": [
              "0    False\n",
              "1     True\n",
              "2     True\n",
              "3     True\n",
              "4     True\n",
              "dtype: bool"
            ]
          },
          "metadata": {},
          "execution_count": 203
        }
      ]
    },
    {
      "cell_type": "code",
      "metadata": {
        "colab": {
          "base_uri": "https://localhost:8080/"
        },
        "id": "aajxAZO3pPNR",
        "outputId": "306f7ccb-a418-4151-ada3-f3574b5c9e3d"
      },
      "source": [
        "df13.loc[df13_bool2, '판매자']"
      ],
      "execution_count": 204,
      "outputs": [
        {
          "output_type": "execute_result",
          "data": {
            "text/plain": [
              "1    미경\n",
              "2    미니\n",
              "3    꼬맹\n",
              "4    거북\n",
              "Name: 판매자, dtype: object"
            ]
          },
          "metadata": {},
          "execution_count": 204
        }
      ]
    },
    {
      "cell_type": "markdown",
      "metadata": {
        "id": "lOlDKYD2pjRH"
      },
      "source": [
        "이번에는 `isin()` 메서드를 사용하겠습니다. 이 메서드로 특정한 값을 가진 행을 추출할 수 있으며, OR(|)로 작동합니다. 포도가 306개이거나 573개인 행을 추출합니다."
      ]
    },
    {
      "cell_type": "code",
      "metadata": {
        "colab": {
          "base_uri": "https://localhost:8080/",
          "height": 204
        },
        "id": "H4GoXLTGqVsp",
        "outputId": "fe17606e-e365-459c-f2a7-0b4fd1029a3d"
      },
      "source": [
        "df13"
      ],
      "execution_count": 205,
      "outputs": [
        {
          "output_type": "execute_result",
          "data": {
            "text/html": [
              "<div>\n",
              "<style scoped>\n",
              "    .dataframe tbody tr th:only-of-type {\n",
              "        vertical-align: middle;\n",
              "    }\n",
              "\n",
              "    .dataframe tbody tr th {\n",
              "        vertical-align: top;\n",
              "    }\n",
              "\n",
              "    .dataframe thead th {\n",
              "        text-align: right;\n",
              "    }\n",
              "</style>\n",
              "<table border=\"1\" class=\"dataframe\">\n",
              "  <thead>\n",
              "    <tr style=\"text-align: right;\">\n",
              "      <th></th>\n",
              "      <th>판매자</th>\n",
              "      <th>포도</th>\n",
              "      <th>사과</th>\n",
              "      <th>배</th>\n",
              "    </tr>\n",
              "  </thead>\n",
              "  <tbody>\n",
              "    <tr>\n",
              "      <th>0</th>\n",
              "      <td>승원</td>\n",
              "      <td>402</td>\n",
              "      <td>332</td>\n",
              "      <td>102</td>\n",
              "    </tr>\n",
              "    <tr>\n",
              "      <th>1</th>\n",
              "      <td>미경</td>\n",
              "      <td>497</td>\n",
              "      <td>392</td>\n",
              "      <td>99</td>\n",
              "    </tr>\n",
              "    <tr>\n",
              "      <th>2</th>\n",
              "      <td>미니</td>\n",
              "      <td>306</td>\n",
              "      <td>391</td>\n",
              "      <td>80</td>\n",
              "    </tr>\n",
              "    <tr>\n",
              "      <th>3</th>\n",
              "      <td>꼬맹</td>\n",
              "      <td>681</td>\n",
              "      <td>295</td>\n",
              "      <td>30</td>\n",
              "    </tr>\n",
              "    <tr>\n",
              "      <th>4</th>\n",
              "      <td>거북</td>\n",
              "      <td>573</td>\n",
              "      <td>374</td>\n",
              "      <td>143</td>\n",
              "    </tr>\n",
              "  </tbody>\n",
              "</table>\n",
              "</div>"
            ],
            "text/plain": [
              "  판매자   포도   사과    배\n",
              "0  승원  402  332  102\n",
              "1  미경  497  392   99\n",
              "2  미니  306  391   80\n",
              "3  꼬맹  681  295   30\n",
              "4  거북  573  374  143"
            ]
          },
          "metadata": {},
          "execution_count": 205
        }
      ]
    },
    {
      "cell_type": "code",
      "metadata": {
        "colab": {
          "base_uri": "https://localhost:8080/"
        },
        "id": "N-YUKoIAqyIN",
        "outputId": "53a51b9c-bdce-4eaa-be3d-4bfca283eb6e"
      },
      "source": [
        "df13_bool3 = df13['포도'].isin([306, 573])\n",
        "df13_bool3"
      ],
      "execution_count": 206,
      "outputs": [
        {
          "output_type": "execute_result",
          "data": {
            "text/plain": [
              "0    False\n",
              "1    False\n",
              "2     True\n",
              "3    False\n",
              "4     True\n",
              "Name: 포도, dtype: bool"
            ]
          },
          "metadata": {},
          "execution_count": 206
        }
      ]
    },
    {
      "cell_type": "code",
      "metadata": {
        "colab": {
          "base_uri": "https://localhost:8080/",
          "height": 111
        },
        "id": "Qf1nAtWdrZWk",
        "outputId": "5dc0886c-7f80-4a3b-fa67-25794e33ed98"
      },
      "source": [
        "df13[df13_bool3]"
      ],
      "execution_count": 207,
      "outputs": [
        {
          "output_type": "execute_result",
          "data": {
            "text/html": [
              "<div>\n",
              "<style scoped>\n",
              "    .dataframe tbody tr th:only-of-type {\n",
              "        vertical-align: middle;\n",
              "    }\n",
              "\n",
              "    .dataframe tbody tr th {\n",
              "        vertical-align: top;\n",
              "    }\n",
              "\n",
              "    .dataframe thead th {\n",
              "        text-align: right;\n",
              "    }\n",
              "</style>\n",
              "<table border=\"1\" class=\"dataframe\">\n",
              "  <thead>\n",
              "    <tr style=\"text-align: right;\">\n",
              "      <th></th>\n",
              "      <th>판매자</th>\n",
              "      <th>포도</th>\n",
              "      <th>사과</th>\n",
              "      <th>배</th>\n",
              "    </tr>\n",
              "  </thead>\n",
              "  <tbody>\n",
              "    <tr>\n",
              "      <th>2</th>\n",
              "      <td>미니</td>\n",
              "      <td>306</td>\n",
              "      <td>391</td>\n",
              "      <td>80</td>\n",
              "    </tr>\n",
              "    <tr>\n",
              "      <th>4</th>\n",
              "      <td>거북</td>\n",
              "      <td>573</td>\n",
              "      <td>374</td>\n",
              "      <td>143</td>\n",
              "    </tr>\n",
              "  </tbody>\n",
              "</table>\n",
              "</div>"
            ],
            "text/plain": [
              "  판매자   포도   사과    배\n",
              "2  미니  306  391   80\n",
              "4  거북  573  374  143"
            ]
          },
          "metadata": {},
          "execution_count": 207
        }
      ]
    },
    {
      "cell_type": "markdown",
      "metadata": {
        "id": "R7E5CpCGFRAK"
      },
      "source": [
        "## **3.3. 그룹 연산 하기**"
      ]
    },
    {
      "cell_type": "markdown",
      "metadata": {
        "id": "4-b3DZ38xuD4"
      },
      "source": [
        "데이터프레임의 열을 그룹화해서 연산하겠습니다. 이번에는 기존에 준비된 타이타닉 데이터셋을 사용하겠습니다."
      ]
    },
    {
      "cell_type": "code",
      "metadata": {
        "colab": {
          "base_uri": "https://localhost:8080/",
          "height": 418
        },
        "id": "B2BSydEax8wg",
        "outputId": "a05dff72-2a94-42d4-e375-0db53db7fe70"
      },
      "source": [
        "import seaborn as sns\n",
        "\n",
        "titanic = sns.load_dataset('titanic')\n",
        "df_ti = titanic.loc[:, ['age', 'sex', 'class', 'fare', 'survived']]\n",
        "df_ti"
      ],
      "execution_count": 208,
      "outputs": [
        {
          "output_type": "execute_result",
          "data": {
            "text/html": [
              "<div>\n",
              "<style scoped>\n",
              "    .dataframe tbody tr th:only-of-type {\n",
              "        vertical-align: middle;\n",
              "    }\n",
              "\n",
              "    .dataframe tbody tr th {\n",
              "        vertical-align: top;\n",
              "    }\n",
              "\n",
              "    .dataframe thead th {\n",
              "        text-align: right;\n",
              "    }\n",
              "</style>\n",
              "<table border=\"1\" class=\"dataframe\">\n",
              "  <thead>\n",
              "    <tr style=\"text-align: right;\">\n",
              "      <th></th>\n",
              "      <th>age</th>\n",
              "      <th>sex</th>\n",
              "      <th>class</th>\n",
              "      <th>fare</th>\n",
              "      <th>survived</th>\n",
              "    </tr>\n",
              "  </thead>\n",
              "  <tbody>\n",
              "    <tr>\n",
              "      <th>0</th>\n",
              "      <td>22.0</td>\n",
              "      <td>male</td>\n",
              "      <td>Third</td>\n",
              "      <td>7.2500</td>\n",
              "      <td>0</td>\n",
              "    </tr>\n",
              "    <tr>\n",
              "      <th>1</th>\n",
              "      <td>38.0</td>\n",
              "      <td>female</td>\n",
              "      <td>First</td>\n",
              "      <td>71.2833</td>\n",
              "      <td>1</td>\n",
              "    </tr>\n",
              "    <tr>\n",
              "      <th>2</th>\n",
              "      <td>26.0</td>\n",
              "      <td>female</td>\n",
              "      <td>Third</td>\n",
              "      <td>7.9250</td>\n",
              "      <td>1</td>\n",
              "    </tr>\n",
              "    <tr>\n",
              "      <th>3</th>\n",
              "      <td>35.0</td>\n",
              "      <td>female</td>\n",
              "      <td>First</td>\n",
              "      <td>53.1000</td>\n",
              "      <td>1</td>\n",
              "    </tr>\n",
              "    <tr>\n",
              "      <th>4</th>\n",
              "      <td>35.0</td>\n",
              "      <td>male</td>\n",
              "      <td>Third</td>\n",
              "      <td>8.0500</td>\n",
              "      <td>0</td>\n",
              "    </tr>\n",
              "    <tr>\n",
              "      <th>...</th>\n",
              "      <td>...</td>\n",
              "      <td>...</td>\n",
              "      <td>...</td>\n",
              "      <td>...</td>\n",
              "      <td>...</td>\n",
              "    </tr>\n",
              "    <tr>\n",
              "      <th>886</th>\n",
              "      <td>27.0</td>\n",
              "      <td>male</td>\n",
              "      <td>Second</td>\n",
              "      <td>13.0000</td>\n",
              "      <td>0</td>\n",
              "    </tr>\n",
              "    <tr>\n",
              "      <th>887</th>\n",
              "      <td>19.0</td>\n",
              "      <td>female</td>\n",
              "      <td>First</td>\n",
              "      <td>30.0000</td>\n",
              "      <td>1</td>\n",
              "    </tr>\n",
              "    <tr>\n",
              "      <th>888</th>\n",
              "      <td>NaN</td>\n",
              "      <td>female</td>\n",
              "      <td>Third</td>\n",
              "      <td>23.4500</td>\n",
              "      <td>0</td>\n",
              "    </tr>\n",
              "    <tr>\n",
              "      <th>889</th>\n",
              "      <td>26.0</td>\n",
              "      <td>male</td>\n",
              "      <td>First</td>\n",
              "      <td>30.0000</td>\n",
              "      <td>1</td>\n",
              "    </tr>\n",
              "    <tr>\n",
              "      <th>890</th>\n",
              "      <td>32.0</td>\n",
              "      <td>male</td>\n",
              "      <td>Third</td>\n",
              "      <td>7.7500</td>\n",
              "      <td>0</td>\n",
              "    </tr>\n",
              "  </tbody>\n",
              "</table>\n",
              "<p>891 rows × 5 columns</p>\n",
              "</div>"
            ],
            "text/plain": [
              "      age     sex   class     fare  survived\n",
              "0    22.0    male   Third   7.2500         0\n",
              "1    38.0  female   First  71.2833         1\n",
              "2    26.0  female   Third   7.9250         1\n",
              "3    35.0  female   First  53.1000         1\n",
              "4    35.0    male   Third   8.0500         0\n",
              "..    ...     ...     ...      ...       ...\n",
              "886  27.0    male  Second  13.0000         0\n",
              "887  19.0  female   First  30.0000         1\n",
              "888   NaN  female   Third  23.4500         0\n",
              "889  26.0    male   First  30.0000         1\n",
              "890  32.0    male   Third   7.7500         0\n",
              "\n",
              "[891 rows x 5 columns]"
            ]
          },
          "metadata": {},
          "execution_count": 208
        }
      ]
    },
    {
      "cell_type": "markdown",
      "metadata": {
        "id": "Dp9wQLUryiyR"
      },
      "source": [
        "승객수를 확인합니다."
      ]
    },
    {
      "cell_type": "code",
      "metadata": {
        "colab": {
          "base_uri": "https://localhost:8080/"
        },
        "id": "kGXsqr3WykdE",
        "outputId": "548c8f55-928a-4214-b630-10f6d8d54d7a"
      },
      "source": [
        "print(len(df_ti))"
      ],
      "execution_count": 209,
      "outputs": [
        {
          "output_type": "stream",
          "name": "stdout",
          "text": [
            "891\n"
          ]
        }
      ]
    },
    {
      "cell_type": "markdown",
      "metadata": {
        "id": "aTFOp4JxywoF"
      },
      "source": [
        "`groupby()` 메서드를 사용해서 그룹화하겠습니다. 여러 열을 리스트로 넘겨서 그룹화할 수 있지만 먼저 'class' 열만 기준으로 그룹화하겠습니다."
      ]
    },
    {
      "cell_type": "code",
      "metadata": {
        "colab": {
          "base_uri": "https://localhost:8080/"
        },
        "id": "5AdCpCsAy1Qg",
        "outputId": "99c1ffca-9ea4-4751-aa1b-9856ff7a65ea"
      },
      "source": [
        "ti_gb1 = df_ti.groupby(['class'])\n",
        "ti_gb1"
      ],
      "execution_count": 210,
      "outputs": [
        {
          "output_type": "execute_result",
          "data": {
            "text/plain": [
              "<pandas.core.groupby.generic.DataFrameGroupBy object at 0x7f53daa7ec90>"
            ]
          },
          "metadata": {},
          "execution_count": 210
        }
      ]
    },
    {
      "cell_type": "markdown",
      "metadata": {
        "id": "dW8SHjNTzShD"
      },
      "source": [
        "'class' 열(key)에 포함된 값은 'First', 'Second', 'Third'이며, 이 값들을 기준으로 데이터가 그룹화된 것입니다. 이제 반복문으로 `ti_gb1`을 출력하겠습니다."
      ]
    },
    {
      "cell_type": "code",
      "metadata": {
        "colab": {
          "base_uri": "https://localhost:8080/"
        },
        "id": "B4Tay5GkGzOh",
        "outputId": "e5c6b8de-05e0-4749-92d1-69f53ec155cf"
      },
      "source": [
        "for key, data in ti_gb1:\n",
        "    print(key)\n",
        "    print(data.head())\n",
        "    print(f'총 {len(data)}명')\n",
        "    print('\\n')"
      ],
      "execution_count": 211,
      "outputs": [
        {
          "output_type": "stream",
          "name": "stdout",
          "text": [
            "First\n",
            "     age     sex  class     fare  survived\n",
            "1   38.0  female  First  71.2833         1\n",
            "3   35.0  female  First  53.1000         1\n",
            "6   54.0    male  First  51.8625         0\n",
            "11  58.0  female  First  26.5500         1\n",
            "23  28.0    male  First  35.5000         1\n",
            "총 216명\n",
            "\n",
            "\n",
            "Second\n",
            "     age     sex   class     fare  survived\n",
            "9   14.0  female  Second  30.0708         1\n",
            "15  55.0  female  Second  16.0000         1\n",
            "17   NaN    male  Second  13.0000         1\n",
            "20  35.0    male  Second  26.0000         0\n",
            "21  34.0    male  Second  13.0000         1\n",
            "총 184명\n",
            "\n",
            "\n",
            "Third\n",
            "    age     sex  class     fare  survived\n",
            "0  22.0    male  Third   7.2500         0\n",
            "2  26.0  female  Third   7.9250         1\n",
            "4  35.0    male  Third   8.0500         0\n",
            "5   NaN    male  Third   8.4583         0\n",
            "7   2.0    male  Third  21.0750         0\n",
            "총 491명\n",
            "\n",
            "\n"
          ]
        }
      ]
    },
    {
      "cell_type": "markdown",
      "metadata": {
        "id": "aHWBYhHG80-v"
      },
      "source": [
        "`get_group()` 메서드로 특정 그룹만 선택할 수 있습니다."
      ]
    },
    {
      "cell_type": "code",
      "metadata": {
        "colab": {
          "base_uri": "https://localhost:8080/",
          "height": 204
        },
        "id": "xDAJIgowFTa6",
        "outputId": "96971707-e751-4604-a762-9c33dbcd5619"
      },
      "source": [
        "ti_gb1.get_group('First').head()"
      ],
      "execution_count": 212,
      "outputs": [
        {
          "output_type": "execute_result",
          "data": {
            "text/html": [
              "<div>\n",
              "<style scoped>\n",
              "    .dataframe tbody tr th:only-of-type {\n",
              "        vertical-align: middle;\n",
              "    }\n",
              "\n",
              "    .dataframe tbody tr th {\n",
              "        vertical-align: top;\n",
              "    }\n",
              "\n",
              "    .dataframe thead th {\n",
              "        text-align: right;\n",
              "    }\n",
              "</style>\n",
              "<table border=\"1\" class=\"dataframe\">\n",
              "  <thead>\n",
              "    <tr style=\"text-align: right;\">\n",
              "      <th></th>\n",
              "      <th>age</th>\n",
              "      <th>sex</th>\n",
              "      <th>class</th>\n",
              "      <th>fare</th>\n",
              "      <th>survived</th>\n",
              "    </tr>\n",
              "  </thead>\n",
              "  <tbody>\n",
              "    <tr>\n",
              "      <th>1</th>\n",
              "      <td>38.0</td>\n",
              "      <td>female</td>\n",
              "      <td>First</td>\n",
              "      <td>71.2833</td>\n",
              "      <td>1</td>\n",
              "    </tr>\n",
              "    <tr>\n",
              "      <th>3</th>\n",
              "      <td>35.0</td>\n",
              "      <td>female</td>\n",
              "      <td>First</td>\n",
              "      <td>53.1000</td>\n",
              "      <td>1</td>\n",
              "    </tr>\n",
              "    <tr>\n",
              "      <th>6</th>\n",
              "      <td>54.0</td>\n",
              "      <td>male</td>\n",
              "      <td>First</td>\n",
              "      <td>51.8625</td>\n",
              "      <td>0</td>\n",
              "    </tr>\n",
              "    <tr>\n",
              "      <th>11</th>\n",
              "      <td>58.0</td>\n",
              "      <td>female</td>\n",
              "      <td>First</td>\n",
              "      <td>26.5500</td>\n",
              "      <td>1</td>\n",
              "    </tr>\n",
              "    <tr>\n",
              "      <th>23</th>\n",
              "      <td>28.0</td>\n",
              "      <td>male</td>\n",
              "      <td>First</td>\n",
              "      <td>35.5000</td>\n",
              "      <td>1</td>\n",
              "    </tr>\n",
              "  </tbody>\n",
              "</table>\n",
              "</div>"
            ],
            "text/plain": [
              "     age     sex  class     fare  survived\n",
              "1   38.0  female  First  71.2833         1\n",
              "3   35.0  female  First  53.1000         1\n",
              "6   54.0    male  First  51.8625         0\n",
              "11  58.0  female  First  26.5500         1\n",
              "23  28.0    male  First  35.5000         1"
            ]
          },
          "metadata": {},
          "execution_count": 212
        }
      ]
    },
    {
      "cell_type": "markdown",
      "metadata": {
        "id": "KD51Li8y7n44"
      },
      "source": [
        "`mean()` 메서드로 평균값을 계산하겠습니다. 문자열이 아닌 숫자형 데이터만 적용할 수 있습니다. 열을 따로 지정하지 않아도 연산이 가능한 열만 자동으로 연산됩니다."
      ]
    },
    {
      "cell_type": "code",
      "metadata": {
        "colab": {
          "base_uri": "https://localhost:8080/",
          "height": 172
        },
        "id": "eyZKVNHI7tsf",
        "outputId": "36307868-dcec-4073-b1e1-58516890d2be"
      },
      "source": [
        "ti_gb1.mean()"
      ],
      "execution_count": 213,
      "outputs": [
        {
          "output_type": "execute_result",
          "data": {
            "text/html": [
              "<div>\n",
              "<style scoped>\n",
              "    .dataframe tbody tr th:only-of-type {\n",
              "        vertical-align: middle;\n",
              "    }\n",
              "\n",
              "    .dataframe tbody tr th {\n",
              "        vertical-align: top;\n",
              "    }\n",
              "\n",
              "    .dataframe thead th {\n",
              "        text-align: right;\n",
              "    }\n",
              "</style>\n",
              "<table border=\"1\" class=\"dataframe\">\n",
              "  <thead>\n",
              "    <tr style=\"text-align: right;\">\n",
              "      <th></th>\n",
              "      <th>age</th>\n",
              "      <th>fare</th>\n",
              "      <th>survived</th>\n",
              "    </tr>\n",
              "    <tr>\n",
              "      <th>class</th>\n",
              "      <th></th>\n",
              "      <th></th>\n",
              "      <th></th>\n",
              "    </tr>\n",
              "  </thead>\n",
              "  <tbody>\n",
              "    <tr>\n",
              "      <th>First</th>\n",
              "      <td>38.233441</td>\n",
              "      <td>84.154687</td>\n",
              "      <td>0.629630</td>\n",
              "    </tr>\n",
              "    <tr>\n",
              "      <th>Second</th>\n",
              "      <td>29.877630</td>\n",
              "      <td>20.662183</td>\n",
              "      <td>0.472826</td>\n",
              "    </tr>\n",
              "    <tr>\n",
              "      <th>Third</th>\n",
              "      <td>25.140620</td>\n",
              "      <td>13.675550</td>\n",
              "      <td>0.242363</td>\n",
              "    </tr>\n",
              "  </tbody>\n",
              "</table>\n",
              "</div>"
            ],
            "text/plain": [
              "              age       fare  survived\n",
              "class                                 \n",
              "First   38.233441  84.154687  0.629630\n",
              "Second  29.877630  20.662183  0.472826\n",
              "Third   25.140620  13.675550  0.242363"
            ]
          },
          "metadata": {},
          "execution_count": 213
        }
      ]
    },
    {
      "cell_type": "code",
      "metadata": {
        "colab": {
          "base_uri": "https://localhost:8080/"
        },
        "id": "ydOxXefEGa89",
        "outputId": "6a6b1598-5ebb-416b-efc0-a644e77111bc"
      },
      "source": [
        "ti_gb1.get_group('First').mean()"
      ],
      "execution_count": 214,
      "outputs": [
        {
          "output_type": "execute_result",
          "data": {
            "text/plain": [
              "age         38.233441\n",
              "fare        84.154687\n",
              "survived     0.629630\n",
              "dtype: float64"
            ]
          },
          "metadata": {},
          "execution_count": 214
        }
      ]
    },
    {
      "cell_type": "markdown",
      "metadata": {
        "id": "OJ4nnseb77QJ"
      },
      "source": [
        "first 클래스일수록 생존율이 높습니다. 0은 사망이고 1은 생존이므로 평균값이 높을수록 생존율이 높은 것을 의미합니다. 아울러 클래스의 급이 높을수록 나이가 많습니다."
      ]
    },
    {
      "cell_type": "markdown",
      "metadata": {
        "id": "JIVjVrJdGwA3"
      },
      "source": [
        "복수 열을 기준으로 그룹화하겠습니다. 'class' 열과 'sex' 열을 기준으로 멀티 인덱스가 생성됩니다."
      ]
    },
    {
      "cell_type": "code",
      "metadata": {
        "colab": {
          "base_uri": "https://localhost:8080/"
        },
        "id": "BSKEA2p1G2fl",
        "outputId": "643eddd2-1e02-4a78-a5a6-be9986b1b13d"
      },
      "source": [
        "ti_gb2 = df_ti.groupby(['class', 'sex'])\n",
        "ti_gb2\n",
        "\n",
        "for key, data in ti_gb2:\n",
        "    print(key)\n",
        "    print(data.head(3))\n",
        "    print(f'총 {len(data)}명')\n",
        "    print()"
      ],
      "execution_count": 215,
      "outputs": [
        {
          "output_type": "stream",
          "name": "stdout",
          "text": [
            "('First', 'female')\n",
            "     age     sex  class     fare  survived\n",
            "1   38.0  female  First  71.2833         1\n",
            "3   35.0  female  First  53.1000         1\n",
            "11  58.0  female  First  26.5500         1\n",
            "총 94명\n",
            "\n",
            "('First', 'male')\n",
            "     age   sex  class      fare  survived\n",
            "6   54.0  male  First   51.8625         0\n",
            "23  28.0  male  First   35.5000         1\n",
            "27  19.0  male  First  263.0000         0\n",
            "총 122명\n",
            "\n",
            "('Second', 'female')\n",
            "     age     sex   class     fare  survived\n",
            "9   14.0  female  Second  30.0708         1\n",
            "15  55.0  female  Second  16.0000         1\n",
            "41  27.0  female  Second  21.0000         0\n",
            "총 76명\n",
            "\n",
            "('Second', 'male')\n",
            "     age   sex   class  fare  survived\n",
            "17   NaN  male  Second  13.0         1\n",
            "20  35.0  male  Second  26.0         0\n",
            "21  34.0  male  Second  13.0         1\n",
            "총 108명\n",
            "\n",
            "('Third', 'female')\n",
            "     age     sex  class     fare  survived\n",
            "2   26.0  female  Third   7.9250         1\n",
            "8   27.0  female  Third  11.1333         1\n",
            "10   4.0  female  Third  16.7000         1\n",
            "총 144명\n",
            "\n",
            "('Third', 'male')\n",
            "    age   sex  class    fare  survived\n",
            "0  22.0  male  Third  7.2500         0\n",
            "4  35.0  male  Third  8.0500         0\n",
            "5   NaN  male  Third  8.4583         0\n",
            "총 347명\n",
            "\n"
          ]
        }
      ]
    },
    {
      "cell_type": "markdown",
      "metadata": {
        "id": "AtAULO31IxTb"
      },
      "source": [
        "다시 평균을 내겠습니다."
      ]
    },
    {
      "cell_type": "code",
      "metadata": {
        "colab": {
          "base_uri": "https://localhost:8080/",
          "height": 265
        },
        "id": "Cdj7tcbBI1Ia",
        "outputId": "debb8fc6-0ccc-474a-e329-3ba2be0ed3ba"
      },
      "source": [
        "ti_gb2.mean()"
      ],
      "execution_count": 216,
      "outputs": [
        {
          "output_type": "execute_result",
          "data": {
            "text/html": [
              "<div>\n",
              "<style scoped>\n",
              "    .dataframe tbody tr th:only-of-type {\n",
              "        vertical-align: middle;\n",
              "    }\n",
              "\n",
              "    .dataframe tbody tr th {\n",
              "        vertical-align: top;\n",
              "    }\n",
              "\n",
              "    .dataframe thead th {\n",
              "        text-align: right;\n",
              "    }\n",
              "</style>\n",
              "<table border=\"1\" class=\"dataframe\">\n",
              "  <thead>\n",
              "    <tr style=\"text-align: right;\">\n",
              "      <th></th>\n",
              "      <th></th>\n",
              "      <th>age</th>\n",
              "      <th>fare</th>\n",
              "      <th>survived</th>\n",
              "    </tr>\n",
              "    <tr>\n",
              "      <th>class</th>\n",
              "      <th>sex</th>\n",
              "      <th></th>\n",
              "      <th></th>\n",
              "      <th></th>\n",
              "    </tr>\n",
              "  </thead>\n",
              "  <tbody>\n",
              "    <tr>\n",
              "      <th rowspan=\"2\" valign=\"top\">First</th>\n",
              "      <th>female</th>\n",
              "      <td>34.611765</td>\n",
              "      <td>106.125798</td>\n",
              "      <td>0.968085</td>\n",
              "    </tr>\n",
              "    <tr>\n",
              "      <th>male</th>\n",
              "      <td>41.281386</td>\n",
              "      <td>67.226127</td>\n",
              "      <td>0.368852</td>\n",
              "    </tr>\n",
              "    <tr>\n",
              "      <th rowspan=\"2\" valign=\"top\">Second</th>\n",
              "      <th>female</th>\n",
              "      <td>28.722973</td>\n",
              "      <td>21.970121</td>\n",
              "      <td>0.921053</td>\n",
              "    </tr>\n",
              "    <tr>\n",
              "      <th>male</th>\n",
              "      <td>30.740707</td>\n",
              "      <td>19.741782</td>\n",
              "      <td>0.157407</td>\n",
              "    </tr>\n",
              "    <tr>\n",
              "      <th rowspan=\"2\" valign=\"top\">Third</th>\n",
              "      <th>female</th>\n",
              "      <td>21.750000</td>\n",
              "      <td>16.118810</td>\n",
              "      <td>0.500000</td>\n",
              "    </tr>\n",
              "    <tr>\n",
              "      <th>male</th>\n",
              "      <td>26.507589</td>\n",
              "      <td>12.661633</td>\n",
              "      <td>0.135447</td>\n",
              "    </tr>\n",
              "  </tbody>\n",
              "</table>\n",
              "</div>"
            ],
            "text/plain": [
              "                     age        fare  survived\n",
              "class  sex                                    \n",
              "First  female  34.611765  106.125798  0.968085\n",
              "       male    41.281386   67.226127  0.368852\n",
              "Second female  28.722973   21.970121  0.921053\n",
              "       male    30.740707   19.741782  0.157407\n",
              "Third  female  21.750000   16.118810  0.500000\n",
              "       male    26.507589   12.661633  0.135447"
            ]
          },
          "metadata": {},
          "execution_count": 216
        }
      ]
    },
    {
      "cell_type": "markdown",
      "metadata": {
        "id": "4R-z12ONI84K"
      },
      "source": [
        "전반적으로 여성이 남성보다 생존율이 높습니다. 다만 'Third' 클래스의 여성은 다른 클래스의 여성보다 생존율이 낮습니다."
      ]
    },
    {
      "cell_type": "markdown",
      "metadata": {
        "id": "OFMgCBWIMf5D"
      },
      "source": [
        "이번에는 19세 이하 승객의 생존율을 확인하겠습니다. 먼저 나이를 기준으로 데이터를 추출하고 그룹화합니다."
      ]
    },
    {
      "cell_type": "code",
      "metadata": {
        "colab": {
          "base_uri": "https://localhost:8080/"
        },
        "id": "isub5VSpMfAw",
        "outputId": "a1c1bae5-f634-415d-9ac2-87dc0595b53b"
      },
      "source": [
        "ti_gb3 = df_ti[df_ti['age'] < 20].groupby(['class', 'sex'])\n",
        "\n",
        "for key, data in ti_gb3:\n",
        "    print(key)\n",
        "    print(data.head(3))\n",
        "    print(f'총 {len(data)}명')\n",
        "    print()"
      ],
      "execution_count": 217,
      "outputs": [
        {
          "output_type": "stream",
          "name": "stdout",
          "text": [
            "('First', 'female')\n",
            "      age     sex  class      fare  survived\n",
            "136  19.0  female  First   26.2833         1\n",
            "291  19.0  female  First   91.0792         1\n",
            "297   2.0  female  First  151.5500         0\n",
            "총 14명\n",
            "\n",
            "('First', 'male')\n",
            "       age   sex  class      fare  survived\n",
            "27   19.00  male  First  263.0000         0\n",
            "305   0.92  male  First  151.5500         1\n",
            "445   4.00  male  First   81.8583         1\n",
            "총 7명\n",
            "\n",
            "('Second', 'female')\n",
            "     age     sex   class     fare  survived\n",
            "9   14.0  female  Second  30.0708         1\n",
            "43   3.0  female  Second  41.5792         1\n",
            "58   5.0  female  Second  27.7500         1\n",
            "총 16명\n",
            "\n",
            "('Second', 'male')\n",
            "       age   sex   class   fare  survived\n",
            "78    0.83  male  Second  29.00         1\n",
            "144  18.00  male  Second  11.50         0\n",
            "145  19.00  male  Second  36.75         0\n",
            "총 19명\n",
            "\n",
            "('Third', 'female')\n",
            "     age     sex  class     fare  survived\n",
            "10   4.0  female  Third  16.7000         1\n",
            "14  14.0  female  Third   7.8542         0\n",
            "22  15.0  female  Third   8.0292         1\n",
            "총 45명\n",
            "\n",
            "('Third', 'male')\n",
            "    age   sex  class     fare  survived\n",
            "7   2.0  male  Third  21.0750         0\n",
            "16  2.0  male  Third  29.1250         0\n",
            "50  7.0  male  Third  39.6875         0\n",
            "총 63명\n",
            "\n"
          ]
        }
      ]
    },
    {
      "cell_type": "code",
      "metadata": {
        "colab": {
          "base_uri": "https://localhost:8080/",
          "height": 265
        },
        "id": "wZMe_GNsKZN_",
        "outputId": "3e42e32e-2001-4693-f502-4ce3a846396b"
      },
      "source": [
        "ti_gb3.mean()"
      ],
      "execution_count": 218,
      "outputs": [
        {
          "output_type": "execute_result",
          "data": {
            "text/html": [
              "<div>\n",
              "<style scoped>\n",
              "    .dataframe tbody tr th:only-of-type {\n",
              "        vertical-align: middle;\n",
              "    }\n",
              "\n",
              "    .dataframe tbody tr th {\n",
              "        vertical-align: top;\n",
              "    }\n",
              "\n",
              "    .dataframe thead th {\n",
              "        text-align: right;\n",
              "    }\n",
              "</style>\n",
              "<table border=\"1\" class=\"dataframe\">\n",
              "  <thead>\n",
              "    <tr style=\"text-align: right;\">\n",
              "      <th></th>\n",
              "      <th></th>\n",
              "      <th>age</th>\n",
              "      <th>fare</th>\n",
              "      <th>survived</th>\n",
              "    </tr>\n",
              "    <tr>\n",
              "      <th>class</th>\n",
              "      <th>sex</th>\n",
              "      <th></th>\n",
              "      <th></th>\n",
              "      <th></th>\n",
              "    </tr>\n",
              "  </thead>\n",
              "  <tbody>\n",
              "    <tr>\n",
              "      <th rowspan=\"2\" valign=\"top\">First</th>\n",
              "      <th>female</th>\n",
              "      <td>16.000000</td>\n",
              "      <td>110.684229</td>\n",
              "      <td>0.928571</td>\n",
              "    </tr>\n",
              "    <tr>\n",
              "      <th>male</th>\n",
              "      <td>12.702857</td>\n",
              "      <td>127.041657</td>\n",
              "      <td>0.571429</td>\n",
              "    </tr>\n",
              "    <tr>\n",
              "      <th rowspan=\"2\" valign=\"top\">Second</th>\n",
              "      <th>female</th>\n",
              "      <td>10.875000</td>\n",
              "      <td>25.181250</td>\n",
              "      <td>1.000000</td>\n",
              "    </tr>\n",
              "    <tr>\n",
              "      <th>male</th>\n",
              "      <td>10.543684</td>\n",
              "      <td>24.342326</td>\n",
              "      <td>0.526316</td>\n",
              "    </tr>\n",
              "    <tr>\n",
              "      <th rowspan=\"2\" valign=\"top\">Third</th>\n",
              "      <th>female</th>\n",
              "      <td>10.600000</td>\n",
              "      <td>16.948429</td>\n",
              "      <td>0.533333</td>\n",
              "    </tr>\n",
              "    <tr>\n",
              "      <th>male</th>\n",
              "      <td>12.705079</td>\n",
              "      <td>18.212433</td>\n",
              "      <td>0.190476</td>\n",
              "    </tr>\n",
              "  </tbody>\n",
              "</table>\n",
              "</div>"
            ],
            "text/plain": [
              "                     age        fare  survived\n",
              "class  sex                                    \n",
              "First  female  16.000000  110.684229  0.928571\n",
              "       male    12.702857  127.041657  0.571429\n",
              "Second female  10.875000   25.181250  1.000000\n",
              "       male    10.543684   24.342326  0.526316\n",
              "Third  female  10.600000   16.948429  0.533333\n",
              "       male    12.705079   18.212433  0.190476"
            ]
          },
          "metadata": {},
          "execution_count": 218
        }
      ]
    },
    {
      "cell_type": "markdown",
      "metadata": {
        "id": "fHFX6IbVQFAY"
      },
      "source": [
        "성인 생존율보다 19세 이하 생존율이 전반적으로 높은 편입니다. 물론 성인 생존율보다 약간 낮은 수치(1등석 19세 이하 여성)도 있습니다."
      ]
    },
    {
      "cell_type": "markdown",
      "metadata": {
        "id": "SkH_hFlxQ1TX"
      },
      "source": [
        "기존 그룹화 객체에 `std()` 메서드로 표준편차를 계산하겠습니다."
      ]
    },
    {
      "cell_type": "code",
      "metadata": {
        "colab": {
          "base_uri": "https://localhost:8080/",
          "height": 172
        },
        "id": "F-3K82REUECQ",
        "outputId": "328e0702-2b99-4ec9-f4cb-ded5bed00a7e"
      },
      "source": [
        "ti_gb1.std()"
      ],
      "execution_count": 219,
      "outputs": [
        {
          "output_type": "execute_result",
          "data": {
            "text/html": [
              "<div>\n",
              "<style scoped>\n",
              "    .dataframe tbody tr th:only-of-type {\n",
              "        vertical-align: middle;\n",
              "    }\n",
              "\n",
              "    .dataframe tbody tr th {\n",
              "        vertical-align: top;\n",
              "    }\n",
              "\n",
              "    .dataframe thead th {\n",
              "        text-align: right;\n",
              "    }\n",
              "</style>\n",
              "<table border=\"1\" class=\"dataframe\">\n",
              "  <thead>\n",
              "    <tr style=\"text-align: right;\">\n",
              "      <th></th>\n",
              "      <th>age</th>\n",
              "      <th>fare</th>\n",
              "      <th>survived</th>\n",
              "    </tr>\n",
              "    <tr>\n",
              "      <th>class</th>\n",
              "      <th></th>\n",
              "      <th></th>\n",
              "      <th></th>\n",
              "    </tr>\n",
              "  </thead>\n",
              "  <tbody>\n",
              "    <tr>\n",
              "      <th>First</th>\n",
              "      <td>14.802856</td>\n",
              "      <td>78.380373</td>\n",
              "      <td>0.484026</td>\n",
              "    </tr>\n",
              "    <tr>\n",
              "      <th>Second</th>\n",
              "      <td>14.001077</td>\n",
              "      <td>13.417399</td>\n",
              "      <td>0.500623</td>\n",
              "    </tr>\n",
              "    <tr>\n",
              "      <th>Third</th>\n",
              "      <td>12.495398</td>\n",
              "      <td>11.778142</td>\n",
              "      <td>0.428949</td>\n",
              "    </tr>\n",
              "  </tbody>\n",
              "</table>\n",
              "</div>"
            ],
            "text/plain": [
              "              age       fare  survived\n",
              "class                                 \n",
              "First   14.802856  78.380373  0.484026\n",
              "Second  14.001077  13.417399  0.500623\n",
              "Third   12.495398  11.778142  0.428949"
            ]
          },
          "metadata": {},
          "execution_count": 219
        }
      ]
    },
    {
      "cell_type": "markdown",
      "metadata": {
        "id": "T29OEt9QURuB"
      },
      "source": [
        "'fare' 열만 표준편차를 구하고 시리즈로 출력하겠습니다."
      ]
    },
    {
      "cell_type": "code",
      "metadata": {
        "colab": {
          "base_uri": "https://localhost:8080/"
        },
        "id": "Y4ZtJh1BUL9B",
        "outputId": "688ede6e-2419-45b6-a2a7-92ef25349eea"
      },
      "source": [
        "ti_gb1.fare.std()"
      ],
      "execution_count": 220,
      "outputs": [
        {
          "output_type": "execute_result",
          "data": {
            "text/plain": [
              "class\n",
              "First     78.380373\n",
              "Second    13.417399\n",
              "Third     11.778142\n",
              "Name: fare, dtype: float64"
            ]
          },
          "metadata": {},
          "execution_count": 220
        }
      ]
    },
    {
      "cell_type": "markdown",
      "metadata": {
        "id": "OIeGPlRzUmzq"
      },
      "source": [
        "`agg()` 메서드를 사용하면 직접 정의한 함수를 그룹 객체에 적용할 수 있습니다. 먼저 함수를 만들겠습니다. 데이터 값의 분포를 확인할 수 있도록 최댓값과 최솟값의 차를 구하는 함수입니다."
      ]
    },
    {
      "cell_type": "code",
      "metadata": {
        "id": "5kvSZKbYU2fd"
      },
      "source": [
        "def test_sub_maxmin(a):\n",
        "    return a.max() - a.min()"
      ],
      "execution_count": 221,
      "outputs": []
    },
    {
      "cell_type": "code",
      "metadata": {
        "colab": {
          "base_uri": "https://localhost:8080/",
          "height": 172
        },
        "id": "jcsdvk3wVFfZ",
        "outputId": "c6853c9e-8148-40dc-bd0f-a5cc80ac26b4"
      },
      "source": [
        "ti_gb1.agg(test_sub_maxmin)"
      ],
      "execution_count": 222,
      "outputs": [
        {
          "output_type": "execute_result",
          "data": {
            "text/html": [
              "<div>\n",
              "<style scoped>\n",
              "    .dataframe tbody tr th:only-of-type {\n",
              "        vertical-align: middle;\n",
              "    }\n",
              "\n",
              "    .dataframe tbody tr th {\n",
              "        vertical-align: top;\n",
              "    }\n",
              "\n",
              "    .dataframe thead th {\n",
              "        text-align: right;\n",
              "    }\n",
              "</style>\n",
              "<table border=\"1\" class=\"dataframe\">\n",
              "  <thead>\n",
              "    <tr style=\"text-align: right;\">\n",
              "      <th></th>\n",
              "      <th>age</th>\n",
              "      <th>fare</th>\n",
              "      <th>survived</th>\n",
              "    </tr>\n",
              "    <tr>\n",
              "      <th>class</th>\n",
              "      <th></th>\n",
              "      <th></th>\n",
              "      <th></th>\n",
              "    </tr>\n",
              "  </thead>\n",
              "  <tbody>\n",
              "    <tr>\n",
              "      <th>First</th>\n",
              "      <td>79.08</td>\n",
              "      <td>512.3292</td>\n",
              "      <td>1</td>\n",
              "    </tr>\n",
              "    <tr>\n",
              "      <th>Second</th>\n",
              "      <td>69.33</td>\n",
              "      <td>73.5000</td>\n",
              "      <td>1</td>\n",
              "    </tr>\n",
              "    <tr>\n",
              "      <th>Third</th>\n",
              "      <td>73.58</td>\n",
              "      <td>69.5500</td>\n",
              "      <td>1</td>\n",
              "    </tr>\n",
              "  </tbody>\n",
              "</table>\n",
              "</div>"
            ],
            "text/plain": [
              "          age      fare  survived\n",
              "class                            \n",
              "First   79.08  512.3292         1\n",
              "Second  69.33   73.5000         1\n",
              "Third   73.58   69.5500         1"
            ]
          },
          "metadata": {},
          "execution_count": 222
        }
      ]
    },
    {
      "cell_type": "markdown",
      "metadata": {
        "id": "Ywo9OvseWFxt"
      },
      "source": [
        "`agg()` 메서드에 함수명을 그대로 전달하면 해당하는 함수의 결괏값이 출력됩니다."
      ]
    },
    {
      "cell_type": "code",
      "metadata": {
        "colab": {
          "base_uri": "https://localhost:8080/",
          "height": 204
        },
        "id": "WiGbR94NVzBA",
        "outputId": "9444f467-2e17-4011-cf5d-6e90689ec672"
      },
      "source": [
        "ti_gb1.agg(['max', 'min'])"
      ],
      "execution_count": 223,
      "outputs": [
        {
          "output_type": "execute_result",
          "data": {
            "text/html": [
              "<div>\n",
              "<style scoped>\n",
              "    .dataframe tbody tr th:only-of-type {\n",
              "        vertical-align: middle;\n",
              "    }\n",
              "\n",
              "    .dataframe tbody tr th {\n",
              "        vertical-align: top;\n",
              "    }\n",
              "\n",
              "    .dataframe thead tr th {\n",
              "        text-align: left;\n",
              "    }\n",
              "\n",
              "    .dataframe thead tr:last-of-type th {\n",
              "        text-align: right;\n",
              "    }\n",
              "</style>\n",
              "<table border=\"1\" class=\"dataframe\">\n",
              "  <thead>\n",
              "    <tr>\n",
              "      <th></th>\n",
              "      <th colspan=\"2\" halign=\"left\">age</th>\n",
              "      <th colspan=\"2\" halign=\"left\">sex</th>\n",
              "      <th colspan=\"2\" halign=\"left\">fare</th>\n",
              "      <th colspan=\"2\" halign=\"left\">survived</th>\n",
              "    </tr>\n",
              "    <tr>\n",
              "      <th></th>\n",
              "      <th>max</th>\n",
              "      <th>min</th>\n",
              "      <th>max</th>\n",
              "      <th>min</th>\n",
              "      <th>max</th>\n",
              "      <th>min</th>\n",
              "      <th>max</th>\n",
              "      <th>min</th>\n",
              "    </tr>\n",
              "    <tr>\n",
              "      <th>class</th>\n",
              "      <th></th>\n",
              "      <th></th>\n",
              "      <th></th>\n",
              "      <th></th>\n",
              "      <th></th>\n",
              "      <th></th>\n",
              "      <th></th>\n",
              "      <th></th>\n",
              "    </tr>\n",
              "  </thead>\n",
              "  <tbody>\n",
              "    <tr>\n",
              "      <th>First</th>\n",
              "      <td>80.0</td>\n",
              "      <td>0.92</td>\n",
              "      <td>male</td>\n",
              "      <td>female</td>\n",
              "      <td>512.3292</td>\n",
              "      <td>0.0</td>\n",
              "      <td>1</td>\n",
              "      <td>0</td>\n",
              "    </tr>\n",
              "    <tr>\n",
              "      <th>Second</th>\n",
              "      <td>70.0</td>\n",
              "      <td>0.67</td>\n",
              "      <td>male</td>\n",
              "      <td>female</td>\n",
              "      <td>73.5000</td>\n",
              "      <td>0.0</td>\n",
              "      <td>1</td>\n",
              "      <td>0</td>\n",
              "    </tr>\n",
              "    <tr>\n",
              "      <th>Third</th>\n",
              "      <td>74.0</td>\n",
              "      <td>0.42</td>\n",
              "      <td>male</td>\n",
              "      <td>female</td>\n",
              "      <td>69.5500</td>\n",
              "      <td>0.0</td>\n",
              "      <td>1</td>\n",
              "      <td>0</td>\n",
              "    </tr>\n",
              "  </tbody>\n",
              "</table>\n",
              "</div>"
            ],
            "text/plain": [
              "         age         sex              fare      survived    \n",
              "         max   min   max     min       max  min      max min\n",
              "class                                                       \n",
              "First   80.0  0.92  male  female  512.3292  0.0        1   0\n",
              "Second  70.0  0.67  male  female   73.5000  0.0        1   0\n",
              "Third   74.0  0.42  male  female   69.5500  0.0        1   0"
            ]
          },
          "metadata": {},
          "execution_count": 223
        }
      ]
    },
    {
      "cell_type": "markdown",
      "metadata": {
        "id": "oSORXL3_XXGT"
      },
      "source": [
        "딕셔너리 형태로 전달하면 원하는 함수를 각각 열에 개별적으로 적용할 수 있습니다."
      ]
    },
    {
      "cell_type": "code",
      "metadata": {
        "colab": {
          "base_uri": "https://localhost:8080/",
          "height": 296
        },
        "id": "KZumEUCxXRLJ",
        "outputId": "ce51d2a4-9985-4007-9d83-f658e513f614"
      },
      "source": [
        "ti_gb2.agg({'age': ['max', 'min'], 'sex': 'count', 'fare': 'std', 'survived': 'mean'})"
      ],
      "execution_count": 224,
      "outputs": [
        {
          "output_type": "execute_result",
          "data": {
            "text/html": [
              "<div>\n",
              "<style scoped>\n",
              "    .dataframe tbody tr th:only-of-type {\n",
              "        vertical-align: middle;\n",
              "    }\n",
              "\n",
              "    .dataframe tbody tr th {\n",
              "        vertical-align: top;\n",
              "    }\n",
              "\n",
              "    .dataframe thead tr th {\n",
              "        text-align: left;\n",
              "    }\n",
              "\n",
              "    .dataframe thead tr:last-of-type th {\n",
              "        text-align: right;\n",
              "    }\n",
              "</style>\n",
              "<table border=\"1\" class=\"dataframe\">\n",
              "  <thead>\n",
              "    <tr>\n",
              "      <th></th>\n",
              "      <th></th>\n",
              "      <th colspan=\"2\" halign=\"left\">age</th>\n",
              "      <th>sex</th>\n",
              "      <th>fare</th>\n",
              "      <th>survived</th>\n",
              "    </tr>\n",
              "    <tr>\n",
              "      <th></th>\n",
              "      <th></th>\n",
              "      <th>max</th>\n",
              "      <th>min</th>\n",
              "      <th>count</th>\n",
              "      <th>std</th>\n",
              "      <th>mean</th>\n",
              "    </tr>\n",
              "    <tr>\n",
              "      <th>class</th>\n",
              "      <th>sex</th>\n",
              "      <th></th>\n",
              "      <th></th>\n",
              "      <th></th>\n",
              "      <th></th>\n",
              "      <th></th>\n",
              "    </tr>\n",
              "  </thead>\n",
              "  <tbody>\n",
              "    <tr>\n",
              "      <th rowspan=\"2\" valign=\"top\">First</th>\n",
              "      <th>female</th>\n",
              "      <td>63.0</td>\n",
              "      <td>2.00</td>\n",
              "      <td>94</td>\n",
              "      <td>74.259988</td>\n",
              "      <td>0.968085</td>\n",
              "    </tr>\n",
              "    <tr>\n",
              "      <th>male</th>\n",
              "      <td>80.0</td>\n",
              "      <td>0.92</td>\n",
              "      <td>122</td>\n",
              "      <td>77.548021</td>\n",
              "      <td>0.368852</td>\n",
              "    </tr>\n",
              "    <tr>\n",
              "      <th rowspan=\"2\" valign=\"top\">Second</th>\n",
              "      <th>female</th>\n",
              "      <td>57.0</td>\n",
              "      <td>2.00</td>\n",
              "      <td>76</td>\n",
              "      <td>10.891796</td>\n",
              "      <td>0.921053</td>\n",
              "    </tr>\n",
              "    <tr>\n",
              "      <th>male</th>\n",
              "      <td>70.0</td>\n",
              "      <td>0.67</td>\n",
              "      <td>108</td>\n",
              "      <td>14.922235</td>\n",
              "      <td>0.157407</td>\n",
              "    </tr>\n",
              "    <tr>\n",
              "      <th rowspan=\"2\" valign=\"top\">Third</th>\n",
              "      <th>female</th>\n",
              "      <td>63.0</td>\n",
              "      <td>0.75</td>\n",
              "      <td>144</td>\n",
              "      <td>11.690314</td>\n",
              "      <td>0.500000</td>\n",
              "    </tr>\n",
              "    <tr>\n",
              "      <th>male</th>\n",
              "      <td>74.0</td>\n",
              "      <td>0.42</td>\n",
              "      <td>347</td>\n",
              "      <td>11.681696</td>\n",
              "      <td>0.135447</td>\n",
              "    </tr>\n",
              "  </tbody>\n",
              "</table>\n",
              "</div>"
            ],
            "text/plain": [
              "                age         sex       fare  survived\n",
              "                max   min count        std      mean\n",
              "class  sex                                          \n",
              "First  female  63.0  2.00    94  74.259988  0.968085\n",
              "       male    80.0  0.92   122  77.548021  0.368852\n",
              "Second female  57.0  2.00    76  10.891796  0.921053\n",
              "       male    70.0  0.67   108  14.922235  0.157407\n",
              "Third  female  63.0  0.75   144  11.690314  0.500000\n",
              "       male    74.0  0.42   347  11.681696  0.135447"
            ]
          },
          "metadata": {},
          "execution_count": 224
        }
      ]
    },
    {
      "cell_type": "markdown",
      "metadata": {
        "id": "wUXMWrSjOBT2"
      },
      "source": [
        "`transform()` 메서드를 사용하면 그룹별 집계가 아닌 각 원소의 행 인덱스와 열명으로 연산 결과를 출력합니다. 원본 데이터프레임과 같은 형태로 출력하는 것입니다.\n",
        "\n",
        "먼저 `transform()` 메서드를 사용하지 않고 z-score를 구하겠습니다. z-score를 구하는 공식은 $Z = \\frac{(X-M)}{SD}$입니다."
      ]
    },
    {
      "cell_type": "code",
      "metadata": {
        "colab": {
          "base_uri": "https://localhost:8080/"
        },
        "id": "oZMaNdtJOWoO",
        "outputId": "5b74103b-df33-44cf-94b4-9c0612323d5d"
      },
      "source": [
        "ti_age_mean = ti_gb1.age.mean()\n",
        "ti_age_std = ti_gb1.age.std()\n",
        "print(ti_age_mean)\n",
        "print()\n",
        "\n",
        "for key, data in ti_gb1.age:\n",
        "    ti_age_zscore = (data - ti_age_mean.loc[key]) / ti_age_std.loc[key]\n",
        "    print(key)\n",
        "    print(ti_age_zscore.head(3))\n",
        "    print()"
      ],
      "execution_count": 225,
      "outputs": [
        {
          "output_type": "stream",
          "name": "stdout",
          "text": [
            "class\n",
            "First     38.233441\n",
            "Second    29.877630\n",
            "Third     25.140620\n",
            "Name: age, dtype: float64\n",
            "\n",
            "First\n",
            "1   -0.015770\n",
            "3   -0.218434\n",
            "6    1.065103\n",
            "Name: age, dtype: float64\n",
            "\n",
            "Second\n",
            "9    -1.134029\n",
            "15    1.794317\n",
            "17         NaN\n",
            "Name: age, dtype: float64\n",
            "\n",
            "Third\n",
            "0   -0.251342\n",
            "2    0.068776\n",
            "4    0.789041\n",
            "Name: age, dtype: float64\n",
            "\n"
          ]
        }
      ]
    },
    {
      "cell_type": "markdown",
      "metadata": {
        "id": "9_CVttMFfneV"
      },
      "source": [
        "이번에는 `transform()` 메서드를 사용하여 직접 생성한 z-score를 구하는 함수를 그룹화한 데이터에 적용하겠습니다.\n",
        "\n",
        "먼저 함수를 생성하겠습니다. z-score를 구하는 함수입니다."
      ]
    },
    {
      "cell_type": "code",
      "metadata": {
        "id": "kOdiK7sIfxsv"
      },
      "source": [
        "def z_score(a):\n",
        "    return (a - a.mean()) / a.std()"
      ],
      "execution_count": 226,
      "outputs": []
    },
    {
      "cell_type": "markdown",
      "metadata": {
        "id": "Otdn-Fwsh2Qj"
      },
      "source": [
        "`transform()` 메서드에 함수를 전달합니다."
      ]
    },
    {
      "cell_type": "code",
      "metadata": {
        "colab": {
          "base_uri": "https://localhost:8080/"
        },
        "id": "my1ws9TMf_wD",
        "outputId": "f9bf7441-7651-4d36-b081-299659e8825a"
      },
      "source": [
        "ti_age_zscore_trans = ti_gb1.age.transform(z_score)\n",
        "ti_age_zscore_trans"
      ],
      "execution_count": 227,
      "outputs": [
        {
          "output_type": "execute_result",
          "data": {
            "text/plain": [
              "0     -0.251342\n",
              "1     -0.015770\n",
              "2      0.068776\n",
              "3     -0.218434\n",
              "4      0.789041\n",
              "         ...   \n",
              "886   -0.205529\n",
              "887   -1.299306\n",
              "888         NaN\n",
              "889   -0.826424\n",
              "890    0.548953\n",
              "Name: age, Length: 891, dtype: float64"
            ]
          },
          "metadata": {},
          "execution_count": 227
        }
      ]
    },
    {
      "cell_type": "markdown",
      "metadata": {
        "id": "ha0qIdvxk8xj"
      },
      "source": [
        "`filter()` 메서드를 사용해서 임의의 조건에 부합하는 그룹만 출력하겠습니다.\n",
        "\n",
        "승객수가 190명 이상인 클래스만 출력합니다."
      ]
    },
    {
      "cell_type": "code",
      "metadata": {
        "colab": {
          "base_uri": "https://localhost:8080/",
          "height": 418
        },
        "id": "9Pz_97JDktiF",
        "outputId": "ea7f61e6-c303-4794-9855-574037387887"
      },
      "source": [
        "ti_gb1.filter(lambda x : len(x) >= 190)"
      ],
      "execution_count": 228,
      "outputs": [
        {
          "output_type": "execute_result",
          "data": {
            "text/html": [
              "<div>\n",
              "<style scoped>\n",
              "    .dataframe tbody tr th:only-of-type {\n",
              "        vertical-align: middle;\n",
              "    }\n",
              "\n",
              "    .dataframe tbody tr th {\n",
              "        vertical-align: top;\n",
              "    }\n",
              "\n",
              "    .dataframe thead th {\n",
              "        text-align: right;\n",
              "    }\n",
              "</style>\n",
              "<table border=\"1\" class=\"dataframe\">\n",
              "  <thead>\n",
              "    <tr style=\"text-align: right;\">\n",
              "      <th></th>\n",
              "      <th>age</th>\n",
              "      <th>sex</th>\n",
              "      <th>class</th>\n",
              "      <th>fare</th>\n",
              "      <th>survived</th>\n",
              "    </tr>\n",
              "  </thead>\n",
              "  <tbody>\n",
              "    <tr>\n",
              "      <th>0</th>\n",
              "      <td>22.0</td>\n",
              "      <td>male</td>\n",
              "      <td>Third</td>\n",
              "      <td>7.2500</td>\n",
              "      <td>0</td>\n",
              "    </tr>\n",
              "    <tr>\n",
              "      <th>1</th>\n",
              "      <td>38.0</td>\n",
              "      <td>female</td>\n",
              "      <td>First</td>\n",
              "      <td>71.2833</td>\n",
              "      <td>1</td>\n",
              "    </tr>\n",
              "    <tr>\n",
              "      <th>2</th>\n",
              "      <td>26.0</td>\n",
              "      <td>female</td>\n",
              "      <td>Third</td>\n",
              "      <td>7.9250</td>\n",
              "      <td>1</td>\n",
              "    </tr>\n",
              "    <tr>\n",
              "      <th>3</th>\n",
              "      <td>35.0</td>\n",
              "      <td>female</td>\n",
              "      <td>First</td>\n",
              "      <td>53.1000</td>\n",
              "      <td>1</td>\n",
              "    </tr>\n",
              "    <tr>\n",
              "      <th>4</th>\n",
              "      <td>35.0</td>\n",
              "      <td>male</td>\n",
              "      <td>Third</td>\n",
              "      <td>8.0500</td>\n",
              "      <td>0</td>\n",
              "    </tr>\n",
              "    <tr>\n",
              "      <th>...</th>\n",
              "      <td>...</td>\n",
              "      <td>...</td>\n",
              "      <td>...</td>\n",
              "      <td>...</td>\n",
              "      <td>...</td>\n",
              "    </tr>\n",
              "    <tr>\n",
              "      <th>885</th>\n",
              "      <td>39.0</td>\n",
              "      <td>female</td>\n",
              "      <td>Third</td>\n",
              "      <td>29.1250</td>\n",
              "      <td>0</td>\n",
              "    </tr>\n",
              "    <tr>\n",
              "      <th>887</th>\n",
              "      <td>19.0</td>\n",
              "      <td>female</td>\n",
              "      <td>First</td>\n",
              "      <td>30.0000</td>\n",
              "      <td>1</td>\n",
              "    </tr>\n",
              "    <tr>\n",
              "      <th>888</th>\n",
              "      <td>NaN</td>\n",
              "      <td>female</td>\n",
              "      <td>Third</td>\n",
              "      <td>23.4500</td>\n",
              "      <td>0</td>\n",
              "    </tr>\n",
              "    <tr>\n",
              "      <th>889</th>\n",
              "      <td>26.0</td>\n",
              "      <td>male</td>\n",
              "      <td>First</td>\n",
              "      <td>30.0000</td>\n",
              "      <td>1</td>\n",
              "    </tr>\n",
              "    <tr>\n",
              "      <th>890</th>\n",
              "      <td>32.0</td>\n",
              "      <td>male</td>\n",
              "      <td>Third</td>\n",
              "      <td>7.7500</td>\n",
              "      <td>0</td>\n",
              "    </tr>\n",
              "  </tbody>\n",
              "</table>\n",
              "<p>707 rows × 5 columns</p>\n",
              "</div>"
            ],
            "text/plain": [
              "      age     sex  class     fare  survived\n",
              "0    22.0    male  Third   7.2500         0\n",
              "1    38.0  female  First  71.2833         1\n",
              "2    26.0  female  Third   7.9250         1\n",
              "3    35.0  female  First  53.1000         1\n",
              "4    35.0    male  Third   8.0500         0\n",
              "..    ...     ...    ...      ...       ...\n",
              "885  39.0  female  Third  29.1250         0\n",
              "887  19.0  female  First  30.0000         1\n",
              "888   NaN  female  Third  23.4500         0\n",
              "889  26.0    male  First  30.0000         1\n",
              "890  32.0    male  Third   7.7500         0\n",
              "\n",
              "[707 rows x 5 columns]"
            ]
          },
          "metadata": {},
          "execution_count": 228
        }
      ]
    },
    {
      "cell_type": "markdown",
      "metadata": {
        "id": "CY_N6tq0pWq_"
      },
      "source": [
        "그룹별 나이 평균이 30세 이하인 그룹의 데이터만 출력합니다."
      ]
    },
    {
      "cell_type": "code",
      "metadata": {
        "colab": {
          "base_uri": "https://localhost:8080/",
          "height": 418
        },
        "id": "-Fx09V3XlbdW",
        "outputId": "bd1c6e4c-87f0-47fa-df36-59c2d7ed4f31"
      },
      "source": [
        "ti_gb1.filter(lambda x : x.age.mean() <= 30)"
      ],
      "execution_count": 229,
      "outputs": [
        {
          "output_type": "execute_result",
          "data": {
            "text/html": [
              "<div>\n",
              "<style scoped>\n",
              "    .dataframe tbody tr th:only-of-type {\n",
              "        vertical-align: middle;\n",
              "    }\n",
              "\n",
              "    .dataframe tbody tr th {\n",
              "        vertical-align: top;\n",
              "    }\n",
              "\n",
              "    .dataframe thead th {\n",
              "        text-align: right;\n",
              "    }\n",
              "</style>\n",
              "<table border=\"1\" class=\"dataframe\">\n",
              "  <thead>\n",
              "    <tr style=\"text-align: right;\">\n",
              "      <th></th>\n",
              "      <th>age</th>\n",
              "      <th>sex</th>\n",
              "      <th>class</th>\n",
              "      <th>fare</th>\n",
              "      <th>survived</th>\n",
              "    </tr>\n",
              "  </thead>\n",
              "  <tbody>\n",
              "    <tr>\n",
              "      <th>0</th>\n",
              "      <td>22.0</td>\n",
              "      <td>male</td>\n",
              "      <td>Third</td>\n",
              "      <td>7.2500</td>\n",
              "      <td>0</td>\n",
              "    </tr>\n",
              "    <tr>\n",
              "      <th>2</th>\n",
              "      <td>26.0</td>\n",
              "      <td>female</td>\n",
              "      <td>Third</td>\n",
              "      <td>7.9250</td>\n",
              "      <td>1</td>\n",
              "    </tr>\n",
              "    <tr>\n",
              "      <th>4</th>\n",
              "      <td>35.0</td>\n",
              "      <td>male</td>\n",
              "      <td>Third</td>\n",
              "      <td>8.0500</td>\n",
              "      <td>0</td>\n",
              "    </tr>\n",
              "    <tr>\n",
              "      <th>5</th>\n",
              "      <td>NaN</td>\n",
              "      <td>male</td>\n",
              "      <td>Third</td>\n",
              "      <td>8.4583</td>\n",
              "      <td>0</td>\n",
              "    </tr>\n",
              "    <tr>\n",
              "      <th>7</th>\n",
              "      <td>2.0</td>\n",
              "      <td>male</td>\n",
              "      <td>Third</td>\n",
              "      <td>21.0750</td>\n",
              "      <td>0</td>\n",
              "    </tr>\n",
              "    <tr>\n",
              "      <th>...</th>\n",
              "      <td>...</td>\n",
              "      <td>...</td>\n",
              "      <td>...</td>\n",
              "      <td>...</td>\n",
              "      <td>...</td>\n",
              "    </tr>\n",
              "    <tr>\n",
              "      <th>884</th>\n",
              "      <td>25.0</td>\n",
              "      <td>male</td>\n",
              "      <td>Third</td>\n",
              "      <td>7.0500</td>\n",
              "      <td>0</td>\n",
              "    </tr>\n",
              "    <tr>\n",
              "      <th>885</th>\n",
              "      <td>39.0</td>\n",
              "      <td>female</td>\n",
              "      <td>Third</td>\n",
              "      <td>29.1250</td>\n",
              "      <td>0</td>\n",
              "    </tr>\n",
              "    <tr>\n",
              "      <th>886</th>\n",
              "      <td>27.0</td>\n",
              "      <td>male</td>\n",
              "      <td>Second</td>\n",
              "      <td>13.0000</td>\n",
              "      <td>0</td>\n",
              "    </tr>\n",
              "    <tr>\n",
              "      <th>888</th>\n",
              "      <td>NaN</td>\n",
              "      <td>female</td>\n",
              "      <td>Third</td>\n",
              "      <td>23.4500</td>\n",
              "      <td>0</td>\n",
              "    </tr>\n",
              "    <tr>\n",
              "      <th>890</th>\n",
              "      <td>32.0</td>\n",
              "      <td>male</td>\n",
              "      <td>Third</td>\n",
              "      <td>7.7500</td>\n",
              "      <td>0</td>\n",
              "    </tr>\n",
              "  </tbody>\n",
              "</table>\n",
              "<p>675 rows × 5 columns</p>\n",
              "</div>"
            ],
            "text/plain": [
              "      age     sex   class     fare  survived\n",
              "0    22.0    male   Third   7.2500         0\n",
              "2    26.0  female   Third   7.9250         1\n",
              "4    35.0    male   Third   8.0500         0\n",
              "5     NaN    male   Third   8.4583         0\n",
              "7     2.0    male   Third  21.0750         0\n",
              "..    ...     ...     ...      ...       ...\n",
              "884  25.0    male   Third   7.0500         0\n",
              "885  39.0  female   Third  29.1250         0\n",
              "886  27.0    male  Second  13.0000         0\n",
              "888   NaN  female   Third  23.4500         0\n",
              "890  32.0    male   Third   7.7500         0\n",
              "\n",
              "[675 rows x 5 columns]"
            ]
          },
          "metadata": {},
          "execution_count": 229
        }
      ]
    },
    {
      "cell_type": "markdown",
      "metadata": {
        "id": "kvIehw4QpgC7"
      },
      "source": [
        "`apply()` 메서드를 사용해서 개별 원소나 그룹을 함수에 매핑할 수 있습니다.\n",
        "\n",
        "먼저 `describe()` 함수를 적용하겠습니다. "
      ]
    },
    {
      "cell_type": "code",
      "metadata": {
        "colab": {
          "base_uri": "https://localhost:8080/",
          "height": 224
        },
        "id": "oyNaFk0VpjLq",
        "outputId": "dc028e21-4ca1-4294-f7f2-69328618cdd4"
      },
      "source": [
        "ti_gb1.describe()"
      ],
      "execution_count": 230,
      "outputs": [
        {
          "output_type": "execute_result",
          "data": {
            "text/html": [
              "<div>\n",
              "<style scoped>\n",
              "    .dataframe tbody tr th:only-of-type {\n",
              "        vertical-align: middle;\n",
              "    }\n",
              "\n",
              "    .dataframe tbody tr th {\n",
              "        vertical-align: top;\n",
              "    }\n",
              "\n",
              "    .dataframe thead tr th {\n",
              "        text-align: left;\n",
              "    }\n",
              "\n",
              "    .dataframe thead tr:last-of-type th {\n",
              "        text-align: right;\n",
              "    }\n",
              "</style>\n",
              "<table border=\"1\" class=\"dataframe\">\n",
              "  <thead>\n",
              "    <tr>\n",
              "      <th></th>\n",
              "      <th colspan=\"8\" halign=\"left\">age</th>\n",
              "      <th colspan=\"8\" halign=\"left\">fare</th>\n",
              "      <th colspan=\"8\" halign=\"left\">survived</th>\n",
              "    </tr>\n",
              "    <tr>\n",
              "      <th></th>\n",
              "      <th>count</th>\n",
              "      <th>mean</th>\n",
              "      <th>std</th>\n",
              "      <th>min</th>\n",
              "      <th>25%</th>\n",
              "      <th>50%</th>\n",
              "      <th>75%</th>\n",
              "      <th>max</th>\n",
              "      <th>count</th>\n",
              "      <th>mean</th>\n",
              "      <th>std</th>\n",
              "      <th>min</th>\n",
              "      <th>25%</th>\n",
              "      <th>50%</th>\n",
              "      <th>75%</th>\n",
              "      <th>max</th>\n",
              "      <th>count</th>\n",
              "      <th>mean</th>\n",
              "      <th>std</th>\n",
              "      <th>min</th>\n",
              "      <th>25%</th>\n",
              "      <th>50%</th>\n",
              "      <th>75%</th>\n",
              "      <th>max</th>\n",
              "    </tr>\n",
              "    <tr>\n",
              "      <th>class</th>\n",
              "      <th></th>\n",
              "      <th></th>\n",
              "      <th></th>\n",
              "      <th></th>\n",
              "      <th></th>\n",
              "      <th></th>\n",
              "      <th></th>\n",
              "      <th></th>\n",
              "      <th></th>\n",
              "      <th></th>\n",
              "      <th></th>\n",
              "      <th></th>\n",
              "      <th></th>\n",
              "      <th></th>\n",
              "      <th></th>\n",
              "      <th></th>\n",
              "      <th></th>\n",
              "      <th></th>\n",
              "      <th></th>\n",
              "      <th></th>\n",
              "      <th></th>\n",
              "      <th></th>\n",
              "      <th></th>\n",
              "      <th></th>\n",
              "    </tr>\n",
              "  </thead>\n",
              "  <tbody>\n",
              "    <tr>\n",
              "      <th>First</th>\n",
              "      <td>186.0</td>\n",
              "      <td>38.233441</td>\n",
              "      <td>14.802856</td>\n",
              "      <td>0.92</td>\n",
              "      <td>27.0</td>\n",
              "      <td>37.0</td>\n",
              "      <td>49.0</td>\n",
              "      <td>80.0</td>\n",
              "      <td>216.0</td>\n",
              "      <td>84.154687</td>\n",
              "      <td>78.380373</td>\n",
              "      <td>0.0</td>\n",
              "      <td>30.92395</td>\n",
              "      <td>60.2875</td>\n",
              "      <td>93.5</td>\n",
              "      <td>512.3292</td>\n",
              "      <td>216.0</td>\n",
              "      <td>0.629630</td>\n",
              "      <td>0.484026</td>\n",
              "      <td>0.0</td>\n",
              "      <td>0.0</td>\n",
              "      <td>1.0</td>\n",
              "      <td>1.0</td>\n",
              "      <td>1.0</td>\n",
              "    </tr>\n",
              "    <tr>\n",
              "      <th>Second</th>\n",
              "      <td>173.0</td>\n",
              "      <td>29.877630</td>\n",
              "      <td>14.001077</td>\n",
              "      <td>0.67</td>\n",
              "      <td>23.0</td>\n",
              "      <td>29.0</td>\n",
              "      <td>36.0</td>\n",
              "      <td>70.0</td>\n",
              "      <td>184.0</td>\n",
              "      <td>20.662183</td>\n",
              "      <td>13.417399</td>\n",
              "      <td>0.0</td>\n",
              "      <td>13.00000</td>\n",
              "      <td>14.2500</td>\n",
              "      <td>26.0</td>\n",
              "      <td>73.5000</td>\n",
              "      <td>184.0</td>\n",
              "      <td>0.472826</td>\n",
              "      <td>0.500623</td>\n",
              "      <td>0.0</td>\n",
              "      <td>0.0</td>\n",
              "      <td>0.0</td>\n",
              "      <td>1.0</td>\n",
              "      <td>1.0</td>\n",
              "    </tr>\n",
              "    <tr>\n",
              "      <th>Third</th>\n",
              "      <td>355.0</td>\n",
              "      <td>25.140620</td>\n",
              "      <td>12.495398</td>\n",
              "      <td>0.42</td>\n",
              "      <td>18.0</td>\n",
              "      <td>24.0</td>\n",
              "      <td>32.0</td>\n",
              "      <td>74.0</td>\n",
              "      <td>491.0</td>\n",
              "      <td>13.675550</td>\n",
              "      <td>11.778142</td>\n",
              "      <td>0.0</td>\n",
              "      <td>7.75000</td>\n",
              "      <td>8.0500</td>\n",
              "      <td>15.5</td>\n",
              "      <td>69.5500</td>\n",
              "      <td>491.0</td>\n",
              "      <td>0.242363</td>\n",
              "      <td>0.428949</td>\n",
              "      <td>0.0</td>\n",
              "      <td>0.0</td>\n",
              "      <td>0.0</td>\n",
              "      <td>0.0</td>\n",
              "      <td>1.0</td>\n",
              "    </tr>\n",
              "  </tbody>\n",
              "</table>\n",
              "</div>"
            ],
            "text/plain": [
              "          age                                    ... survived                    \n",
              "        count       mean        std   min   25%  ...      min  25%  50%  75%  max\n",
              "class                                            ...                             \n",
              "First   186.0  38.233441  14.802856  0.92  27.0  ...      0.0  0.0  1.0  1.0  1.0\n",
              "Second  173.0  29.877630  14.001077  0.67  23.0  ...      0.0  0.0  0.0  1.0  1.0\n",
              "Third   355.0  25.140620  12.495398  0.42  18.0  ...      0.0  0.0  0.0  0.0  1.0\n",
              "\n",
              "[3 rows x 24 columns]"
            ]
          },
          "metadata": {},
          "execution_count": 230
        }
      ]
    },
    {
      "cell_type": "markdown",
      "metadata": {
        "id": "Lr5-GgQIFrRX"
      },
      "source": [
        "`apply()` 메서드에 함수를 매핑 하겠습니다."
      ]
    },
    {
      "cell_type": "code",
      "metadata": {
        "colab": {
          "base_uri": "https://localhost:8080/",
          "height": 821
        },
        "id": "9RpgE_-qFuoe",
        "outputId": "4ce04c94-202e-4663-c1a2-4b06a28616c9"
      },
      "source": [
        "ti_gb1_apply1 = ti_gb1.apply(lambda x: x.describe())\n",
        "ti_gb1_apply1"
      ],
      "execution_count": 231,
      "outputs": [
        {
          "output_type": "execute_result",
          "data": {
            "text/html": [
              "<div>\n",
              "<style scoped>\n",
              "    .dataframe tbody tr th:only-of-type {\n",
              "        vertical-align: middle;\n",
              "    }\n",
              "\n",
              "    .dataframe tbody tr th {\n",
              "        vertical-align: top;\n",
              "    }\n",
              "\n",
              "    .dataframe thead th {\n",
              "        text-align: right;\n",
              "    }\n",
              "</style>\n",
              "<table border=\"1\" class=\"dataframe\">\n",
              "  <thead>\n",
              "    <tr style=\"text-align: right;\">\n",
              "      <th></th>\n",
              "      <th></th>\n",
              "      <th>age</th>\n",
              "      <th>fare</th>\n",
              "      <th>survived</th>\n",
              "    </tr>\n",
              "    <tr>\n",
              "      <th>class</th>\n",
              "      <th></th>\n",
              "      <th></th>\n",
              "      <th></th>\n",
              "      <th></th>\n",
              "    </tr>\n",
              "  </thead>\n",
              "  <tbody>\n",
              "    <tr>\n",
              "      <th rowspan=\"8\" valign=\"top\">First</th>\n",
              "      <th>count</th>\n",
              "      <td>186.000000</td>\n",
              "      <td>216.000000</td>\n",
              "      <td>216.000000</td>\n",
              "    </tr>\n",
              "    <tr>\n",
              "      <th>mean</th>\n",
              "      <td>38.233441</td>\n",
              "      <td>84.154687</td>\n",
              "      <td>0.629630</td>\n",
              "    </tr>\n",
              "    <tr>\n",
              "      <th>std</th>\n",
              "      <td>14.802856</td>\n",
              "      <td>78.380373</td>\n",
              "      <td>0.484026</td>\n",
              "    </tr>\n",
              "    <tr>\n",
              "      <th>min</th>\n",
              "      <td>0.920000</td>\n",
              "      <td>0.000000</td>\n",
              "      <td>0.000000</td>\n",
              "    </tr>\n",
              "    <tr>\n",
              "      <th>25%</th>\n",
              "      <td>27.000000</td>\n",
              "      <td>30.923950</td>\n",
              "      <td>0.000000</td>\n",
              "    </tr>\n",
              "    <tr>\n",
              "      <th>50%</th>\n",
              "      <td>37.000000</td>\n",
              "      <td>60.287500</td>\n",
              "      <td>1.000000</td>\n",
              "    </tr>\n",
              "    <tr>\n",
              "      <th>75%</th>\n",
              "      <td>49.000000</td>\n",
              "      <td>93.500000</td>\n",
              "      <td>1.000000</td>\n",
              "    </tr>\n",
              "    <tr>\n",
              "      <th>max</th>\n",
              "      <td>80.000000</td>\n",
              "      <td>512.329200</td>\n",
              "      <td>1.000000</td>\n",
              "    </tr>\n",
              "    <tr>\n",
              "      <th rowspan=\"8\" valign=\"top\">Second</th>\n",
              "      <th>count</th>\n",
              "      <td>173.000000</td>\n",
              "      <td>184.000000</td>\n",
              "      <td>184.000000</td>\n",
              "    </tr>\n",
              "    <tr>\n",
              "      <th>mean</th>\n",
              "      <td>29.877630</td>\n",
              "      <td>20.662183</td>\n",
              "      <td>0.472826</td>\n",
              "    </tr>\n",
              "    <tr>\n",
              "      <th>std</th>\n",
              "      <td>14.001077</td>\n",
              "      <td>13.417399</td>\n",
              "      <td>0.500623</td>\n",
              "    </tr>\n",
              "    <tr>\n",
              "      <th>min</th>\n",
              "      <td>0.670000</td>\n",
              "      <td>0.000000</td>\n",
              "      <td>0.000000</td>\n",
              "    </tr>\n",
              "    <tr>\n",
              "      <th>25%</th>\n",
              "      <td>23.000000</td>\n",
              "      <td>13.000000</td>\n",
              "      <td>0.000000</td>\n",
              "    </tr>\n",
              "    <tr>\n",
              "      <th>50%</th>\n",
              "      <td>29.000000</td>\n",
              "      <td>14.250000</td>\n",
              "      <td>0.000000</td>\n",
              "    </tr>\n",
              "    <tr>\n",
              "      <th>75%</th>\n",
              "      <td>36.000000</td>\n",
              "      <td>26.000000</td>\n",
              "      <td>1.000000</td>\n",
              "    </tr>\n",
              "    <tr>\n",
              "      <th>max</th>\n",
              "      <td>70.000000</td>\n",
              "      <td>73.500000</td>\n",
              "      <td>1.000000</td>\n",
              "    </tr>\n",
              "    <tr>\n",
              "      <th rowspan=\"8\" valign=\"top\">Third</th>\n",
              "      <th>count</th>\n",
              "      <td>355.000000</td>\n",
              "      <td>491.000000</td>\n",
              "      <td>491.000000</td>\n",
              "    </tr>\n",
              "    <tr>\n",
              "      <th>mean</th>\n",
              "      <td>25.140620</td>\n",
              "      <td>13.675550</td>\n",
              "      <td>0.242363</td>\n",
              "    </tr>\n",
              "    <tr>\n",
              "      <th>std</th>\n",
              "      <td>12.495398</td>\n",
              "      <td>11.778142</td>\n",
              "      <td>0.428949</td>\n",
              "    </tr>\n",
              "    <tr>\n",
              "      <th>min</th>\n",
              "      <td>0.420000</td>\n",
              "      <td>0.000000</td>\n",
              "      <td>0.000000</td>\n",
              "    </tr>\n",
              "    <tr>\n",
              "      <th>25%</th>\n",
              "      <td>18.000000</td>\n",
              "      <td>7.750000</td>\n",
              "      <td>0.000000</td>\n",
              "    </tr>\n",
              "    <tr>\n",
              "      <th>50%</th>\n",
              "      <td>24.000000</td>\n",
              "      <td>8.050000</td>\n",
              "      <td>0.000000</td>\n",
              "    </tr>\n",
              "    <tr>\n",
              "      <th>75%</th>\n",
              "      <td>32.000000</td>\n",
              "      <td>15.500000</td>\n",
              "      <td>0.000000</td>\n",
              "    </tr>\n",
              "    <tr>\n",
              "      <th>max</th>\n",
              "      <td>74.000000</td>\n",
              "      <td>69.550000</td>\n",
              "      <td>1.000000</td>\n",
              "    </tr>\n",
              "  </tbody>\n",
              "</table>\n",
              "</div>"
            ],
            "text/plain": [
              "                     age        fare    survived\n",
              "class                                           \n",
              "First  count  186.000000  216.000000  216.000000\n",
              "       mean    38.233441   84.154687    0.629630\n",
              "       std     14.802856   78.380373    0.484026\n",
              "       min      0.920000    0.000000    0.000000\n",
              "       25%     27.000000   30.923950    0.000000\n",
              "       50%     37.000000   60.287500    1.000000\n",
              "       75%     49.000000   93.500000    1.000000\n",
              "       max     80.000000  512.329200    1.000000\n",
              "Second count  173.000000  184.000000  184.000000\n",
              "       mean    29.877630   20.662183    0.472826\n",
              "       std     14.001077   13.417399    0.500623\n",
              "       min      0.670000    0.000000    0.000000\n",
              "       25%     23.000000   13.000000    0.000000\n",
              "       50%     29.000000   14.250000    0.000000\n",
              "       75%     36.000000   26.000000    1.000000\n",
              "       max     70.000000   73.500000    1.000000\n",
              "Third  count  355.000000  491.000000  491.000000\n",
              "       mean    25.140620   13.675550    0.242363\n",
              "       std     12.495398   11.778142    0.428949\n",
              "       min      0.420000    0.000000    0.000000\n",
              "       25%     18.000000    7.750000    0.000000\n",
              "       50%     24.000000    8.050000    0.000000\n",
              "       75%     32.000000   15.500000    0.000000\n",
              "       max     74.000000   69.550000    1.000000"
            ]
          },
          "metadata": {},
          "execution_count": 231
        }
      ]
    },
    {
      "cell_type": "markdown",
      "metadata": {
        "id": "DmGsBw9eGJ6k"
      },
      "source": [
        "`apply()` 메서드로 `z_score()` 함수를 매핑 하겠습니다."
      ]
    },
    {
      "cell_type": "code",
      "metadata": {
        "colab": {
          "base_uri": "https://localhost:8080/"
        },
        "id": "9WSHUtQ-GPEk",
        "outputId": "fcd4e5ff-e318-4e99-b205-75a55b2f0616"
      },
      "source": [
        "ti_gb1_apply2 = ti_gb1.age.apply(z_score)\n",
        "ti_gb1_apply2"
      ],
      "execution_count": 232,
      "outputs": [
        {
          "output_type": "execute_result",
          "data": {
            "text/plain": [
              "0     -0.251342\n",
              "1     -0.015770\n",
              "2      0.068776\n",
              "3     -0.218434\n",
              "4      0.789041\n",
              "         ...   \n",
              "886   -0.205529\n",
              "887   -1.299306\n",
              "888         NaN\n",
              "889   -0.826424\n",
              "890    0.548953\n",
              "Name: age, Length: 891, dtype: float64"
            ]
          },
          "metadata": {},
          "execution_count": 232
        }
      ]
    },
    {
      "cell_type": "markdown",
      "metadata": {
        "id": "ByJAY-W3H7o5"
      },
      "source": [
        "평균 나이가 29세 이하인 그룹을 불린 인덱싱으로 판별하고, for문을 사용해서 해당하는 데이터를 출력하겠습니다.\n",
        "\n",
        "먼저 조건식을 토대로 객체를 만들겠습니다."
      ]
    },
    {
      "cell_type": "code",
      "metadata": {
        "colab": {
          "base_uri": "https://localhost:8080/"
        },
        "id": "bOsCi9n0GjHQ",
        "outputId": "b21b8806-b68e-4f2e-e1b4-eaf967ecd18c"
      },
      "source": [
        "ti_gb1_apply3 = ti_gb1.apply(lambda x: x.age.mean() < 30)\n",
        "ti_gb1_apply3"
      ],
      "execution_count": 233,
      "outputs": [
        {
          "output_type": "execute_result",
          "data": {
            "text/plain": [
              "class\n",
              "First     False\n",
              "Second     True\n",
              "Third      True\n",
              "dtype: bool"
            ]
          },
          "metadata": {},
          "execution_count": 233
        }
      ]
    },
    {
      "cell_type": "markdown",
      "metadata": {
        "id": "BgsMOwjOlwq-"
      },
      "source": [
        "for문으로 데이터를 출력하겠습니다."
      ]
    },
    {
      "cell_type": "code",
      "metadata": {
        "colab": {
          "base_uri": "https://localhost:8080/"
        },
        "id": "8qbVIKc-G337",
        "outputId": "0d92e39f-e873-4b5f-b188-b8a272076071"
      },
      "source": [
        "# `ti_gb1_apply3`의 `index`는 'First', 'Second', 'Third'입니다.\n",
        "for x in ti_gb1_apply3.index:\n",
        "    if ti_gb1_apply3[x] == True:\n",
        "        # `get_group()` 메서드를 활용하여 해당하는 그룹의 데이터만 가져옵니다.\n",
        "        ti_gb1_apply3_df = ti_gb1.get_group(x)\n",
        "        print()\n",
        "        print(ti_gb1_apply3_df.head())"
      ],
      "execution_count": 234,
      "outputs": [
        {
          "output_type": "stream",
          "name": "stdout",
          "text": [
            "\n",
            "     age     sex   class     fare  survived\n",
            "9   14.0  female  Second  30.0708         1\n",
            "15  55.0  female  Second  16.0000         1\n",
            "17   NaN    male  Second  13.0000         1\n",
            "20  35.0    male  Second  26.0000         0\n",
            "21  34.0    male  Second  13.0000         1\n",
            "\n",
            "    age     sex  class     fare  survived\n",
            "0  22.0    male  Third   7.2500         0\n",
            "2  26.0  female  Third   7.9250         1\n",
            "4  35.0    male  Third   8.0500         0\n",
            "5   NaN    male  Third   8.4583         0\n",
            "7   2.0    male  Third  21.0750         0\n"
          ]
        }
      ]
    },
    {
      "cell_type": "markdown",
      "metadata": {
        "id": "701DxDuMFaek"
      },
      "source": [
        "이번에는 여러 인덱스(멀티 인덱스)를 지정해서 연산 메서드를 적용하겠습니다. 위에서 멀티 인덱스를 간략하게 설명했습니다. 여기서는 `loc[]` 인덱서로 인덱싱 하는 법도 설명하겠습니다.\n",
        "\n",
        "기실 위에서 이미 여러 열을 그룹화하여 멀티 인덱스로 지정하고 `ti_gb2` 데이터프레임 객체로 생성했었습니다. 이 객체를 그대로 사용하겠습니다."
      ]
    },
    {
      "cell_type": "code",
      "metadata": {
        "colab": {
          "base_uri": "https://localhost:8080/"
        },
        "id": "VsM0Z43jHY6i",
        "outputId": "8a433a2c-810c-4d28-e2ba-0d45948adbcd"
      },
      "source": [
        "ti_gb2 = df_ti.groupby(['class', 'sex'])\n",
        "\n",
        "for key, data in ti_gb2:\n",
        "    print(key)\n",
        "    print(data.head(3))\n",
        "    print(f'총 {len(data)}명')\n",
        "    print()"
      ],
      "execution_count": 235,
      "outputs": [
        {
          "output_type": "stream",
          "name": "stdout",
          "text": [
            "('First', 'female')\n",
            "     age     sex  class     fare  survived\n",
            "1   38.0  female  First  71.2833         1\n",
            "3   35.0  female  First  53.1000         1\n",
            "11  58.0  female  First  26.5500         1\n",
            "총 94명\n",
            "\n",
            "('First', 'male')\n",
            "     age   sex  class      fare  survived\n",
            "6   54.0  male  First   51.8625         0\n",
            "23  28.0  male  First   35.5000         1\n",
            "27  19.0  male  First  263.0000         0\n",
            "총 122명\n",
            "\n",
            "('Second', 'female')\n",
            "     age     sex   class     fare  survived\n",
            "9   14.0  female  Second  30.0708         1\n",
            "15  55.0  female  Second  16.0000         1\n",
            "41  27.0  female  Second  21.0000         0\n",
            "총 76명\n",
            "\n",
            "('Second', 'male')\n",
            "     age   sex   class  fare  survived\n",
            "17   NaN  male  Second  13.0         1\n",
            "20  35.0  male  Second  26.0         0\n",
            "21  34.0  male  Second  13.0         1\n",
            "총 108명\n",
            "\n",
            "('Third', 'female')\n",
            "     age     sex  class     fare  survived\n",
            "2   26.0  female  Third   7.9250         1\n",
            "8   27.0  female  Third  11.1333         1\n",
            "10   4.0  female  Third  16.7000         1\n",
            "총 144명\n",
            "\n",
            "('Third', 'male')\n",
            "    age   sex  class    fare  survived\n",
            "0  22.0  male  Third  7.2500         0\n",
            "4  35.0  male  Third  8.0500         0\n",
            "5   NaN  male  Third  8.4583         0\n",
            "총 347명\n",
            "\n"
          ]
        }
      ]
    },
    {
      "cell_type": "markdown",
      "metadata": {
        "id": "8_5wSjeaJJnu"
      },
      "source": [
        "평균값을 살피겠습니다. 두 인덱스로 그룹화되어 있습니다."
      ]
    },
    {
      "cell_type": "code",
      "metadata": {
        "colab": {
          "base_uri": "https://localhost:8080/",
          "height": 265
        },
        "id": "kUdjcDcLJMUh",
        "outputId": "cc24f3b9-bf4b-4828-e805-c08567c583f7"
      },
      "source": [
        "ti_gb2.mean()"
      ],
      "execution_count": 236,
      "outputs": [
        {
          "output_type": "execute_result",
          "data": {
            "text/html": [
              "<div>\n",
              "<style scoped>\n",
              "    .dataframe tbody tr th:only-of-type {\n",
              "        vertical-align: middle;\n",
              "    }\n",
              "\n",
              "    .dataframe tbody tr th {\n",
              "        vertical-align: top;\n",
              "    }\n",
              "\n",
              "    .dataframe thead th {\n",
              "        text-align: right;\n",
              "    }\n",
              "</style>\n",
              "<table border=\"1\" class=\"dataframe\">\n",
              "  <thead>\n",
              "    <tr style=\"text-align: right;\">\n",
              "      <th></th>\n",
              "      <th></th>\n",
              "      <th>age</th>\n",
              "      <th>fare</th>\n",
              "      <th>survived</th>\n",
              "    </tr>\n",
              "    <tr>\n",
              "      <th>class</th>\n",
              "      <th>sex</th>\n",
              "      <th></th>\n",
              "      <th></th>\n",
              "      <th></th>\n",
              "    </tr>\n",
              "  </thead>\n",
              "  <tbody>\n",
              "    <tr>\n",
              "      <th rowspan=\"2\" valign=\"top\">First</th>\n",
              "      <th>female</th>\n",
              "      <td>34.611765</td>\n",
              "      <td>106.125798</td>\n",
              "      <td>0.968085</td>\n",
              "    </tr>\n",
              "    <tr>\n",
              "      <th>male</th>\n",
              "      <td>41.281386</td>\n",
              "      <td>67.226127</td>\n",
              "      <td>0.368852</td>\n",
              "    </tr>\n",
              "    <tr>\n",
              "      <th rowspan=\"2\" valign=\"top\">Second</th>\n",
              "      <th>female</th>\n",
              "      <td>28.722973</td>\n",
              "      <td>21.970121</td>\n",
              "      <td>0.921053</td>\n",
              "    </tr>\n",
              "    <tr>\n",
              "      <th>male</th>\n",
              "      <td>30.740707</td>\n",
              "      <td>19.741782</td>\n",
              "      <td>0.157407</td>\n",
              "    </tr>\n",
              "    <tr>\n",
              "      <th rowspan=\"2\" valign=\"top\">Third</th>\n",
              "      <th>female</th>\n",
              "      <td>21.750000</td>\n",
              "      <td>16.118810</td>\n",
              "      <td>0.500000</td>\n",
              "    </tr>\n",
              "    <tr>\n",
              "      <th>male</th>\n",
              "      <td>26.507589</td>\n",
              "      <td>12.661633</td>\n",
              "      <td>0.135447</td>\n",
              "    </tr>\n",
              "  </tbody>\n",
              "</table>\n",
              "</div>"
            ],
            "text/plain": [
              "                     age        fare  survived\n",
              "class  sex                                    \n",
              "First  female  34.611765  106.125798  0.968085\n",
              "       male    41.281386   67.226127  0.368852\n",
              "Second female  28.722973   21.970121  0.921053\n",
              "       male    30.740707   19.741782  0.157407\n",
              "Third  female  21.750000   16.118810  0.500000\n",
              "       male    26.507589   12.661633  0.135447"
            ]
          },
          "metadata": {},
          "execution_count": 236
        }
      ]
    },
    {
      "cell_type": "markdown",
      "metadata": {
        "id": "EtOtocqaJTGo"
      },
      "source": [
        "인덱싱 방법은 보통 인덱싱 방법과 동일합니다."
      ]
    },
    {
      "cell_type": "code",
      "metadata": {
        "colab": {
          "base_uri": "https://localhost:8080/",
          "height": 141
        },
        "id": "-gEaesfEJbbt",
        "outputId": "3c9bfcec-9641-454a-a093-aa3d4c567a76"
      },
      "source": [
        "ti_gb2.mean().loc['First']"
      ],
      "execution_count": 237,
      "outputs": [
        {
          "output_type": "execute_result",
          "data": {
            "text/html": [
              "<div>\n",
              "<style scoped>\n",
              "    .dataframe tbody tr th:only-of-type {\n",
              "        vertical-align: middle;\n",
              "    }\n",
              "\n",
              "    .dataframe tbody tr th {\n",
              "        vertical-align: top;\n",
              "    }\n",
              "\n",
              "    .dataframe thead th {\n",
              "        text-align: right;\n",
              "    }\n",
              "</style>\n",
              "<table border=\"1\" class=\"dataframe\">\n",
              "  <thead>\n",
              "    <tr style=\"text-align: right;\">\n",
              "      <th></th>\n",
              "      <th>age</th>\n",
              "      <th>fare</th>\n",
              "      <th>survived</th>\n",
              "    </tr>\n",
              "    <tr>\n",
              "      <th>sex</th>\n",
              "      <th></th>\n",
              "      <th></th>\n",
              "      <th></th>\n",
              "    </tr>\n",
              "  </thead>\n",
              "  <tbody>\n",
              "    <tr>\n",
              "      <th>female</th>\n",
              "      <td>34.611765</td>\n",
              "      <td>106.125798</td>\n",
              "      <td>0.968085</td>\n",
              "    </tr>\n",
              "    <tr>\n",
              "      <th>male</th>\n",
              "      <td>41.281386</td>\n",
              "      <td>67.226127</td>\n",
              "      <td>0.368852</td>\n",
              "    </tr>\n",
              "  </tbody>\n",
              "</table>\n",
              "</div>"
            ],
            "text/plain": [
              "              age        fare  survived\n",
              "sex                                    \n",
              "female  34.611765  106.125798  0.968085\n",
              "male    41.281386   67.226127  0.368852"
            ]
          },
          "metadata": {},
          "execution_count": 237
        }
      ]
    },
    {
      "cell_type": "markdown",
      "metadata": {
        "id": "IhQyLRq4Mqoq"
      },
      "source": [
        "다만 단일 인덱스를 여러 개 선택해서 가져오는 방법과 차이가 있다면, 멀티 인덱스를 각각 선택해서 해당되는 그룹의 데이터를 가져올 때 인덱스를 리스트가 아닌 튜플로 묶어야 합니다. 예컨대 위에서 단일 인덱스를 여러 개 선택할 때는 월 인덱스의 `['4월', '5월']` 형식을 취했습니다. 반면에 멀티 인덱스를 인덱싱 하는 경우에 `['Second', 'male']`은 유효하지 않습니다. `('Second', 'male')`로 묶어야 합니다. "
      ]
    },
    {
      "cell_type": "code",
      "metadata": {
        "colab": {
          "base_uri": "https://localhost:8080/"
        },
        "id": "1Vo8M3rWMHA6",
        "outputId": "75cf821c-2e8e-4ea1-d15a-caca9a6394b1"
      },
      "source": [
        "ti_gb2.mean().loc[('Second', 'male')]"
      ],
      "execution_count": 238,
      "outputs": [
        {
          "output_type": "execute_result",
          "data": {
            "text/plain": [
              "age         30.740707\n",
              "fare        19.741782\n",
              "survived     0.157407\n",
              "Name: (Second, male), dtype: float64"
            ]
          },
          "metadata": {},
          "execution_count": 238
        }
      ]
    },
    {
      "cell_type": "markdown",
      "metadata": {
        "id": "glo2V1JZOmxl"
      },
      "source": [
        "`xs()` 인덱서를 `loc[]` 인덱서 대신 사용할 수도 있습니다. "
      ]
    },
    {
      "cell_type": "code",
      "metadata": {
        "colab": {
          "base_uri": "https://localhost:8080/",
          "height": 141
        },
        "id": "lIthjX5uO0Hy",
        "outputId": "c54f672f-8d11-4bd2-e441-f87895dcebbc"
      },
      "source": [
        "ti_gb2.mean().xs('First', level='class')"
      ],
      "execution_count": 239,
      "outputs": [
        {
          "output_type": "execute_result",
          "data": {
            "text/html": [
              "<div>\n",
              "<style scoped>\n",
              "    .dataframe tbody tr th:only-of-type {\n",
              "        vertical-align: middle;\n",
              "    }\n",
              "\n",
              "    .dataframe tbody tr th {\n",
              "        vertical-align: top;\n",
              "    }\n",
              "\n",
              "    .dataframe thead th {\n",
              "        text-align: right;\n",
              "    }\n",
              "</style>\n",
              "<table border=\"1\" class=\"dataframe\">\n",
              "  <thead>\n",
              "    <tr style=\"text-align: right;\">\n",
              "      <th></th>\n",
              "      <th>age</th>\n",
              "      <th>fare</th>\n",
              "      <th>survived</th>\n",
              "    </tr>\n",
              "    <tr>\n",
              "      <th>sex</th>\n",
              "      <th></th>\n",
              "      <th></th>\n",
              "      <th></th>\n",
              "    </tr>\n",
              "  </thead>\n",
              "  <tbody>\n",
              "    <tr>\n",
              "      <th>female</th>\n",
              "      <td>34.611765</td>\n",
              "      <td>106.125798</td>\n",
              "      <td>0.968085</td>\n",
              "    </tr>\n",
              "    <tr>\n",
              "      <th>male</th>\n",
              "      <td>41.281386</td>\n",
              "      <td>67.226127</td>\n",
              "      <td>0.368852</td>\n",
              "    </tr>\n",
              "  </tbody>\n",
              "</table>\n",
              "</div>"
            ],
            "text/plain": [
              "              age        fare  survived\n",
              "sex                                    \n",
              "female  34.611765  106.125798  0.968085\n",
              "male    41.281386   67.226127  0.368852"
            ]
          },
          "metadata": {},
          "execution_count": 239
        }
      ]
    },
    {
      "cell_type": "markdown",
      "metadata": {
        "id": "kGPJxjiZGh9a"
      },
      "source": [
        "## **3.4. 피벗 활용하기**"
      ]
    },
    {
      "cell_type": "markdown",
      "metadata": {
        "id": "mUi67gLLQRwQ"
      },
      "source": [
        "엑셀(Excel)에서는 테이블을 그룹화한 피벗테이블로 데이터를 분석합니다. 판다스 `pivot_table()` 메서드로 엑셀의 피벗테이블처럼 데이터프레임을 생성할 수 있습니다. 아래는 `pivot_table()` 메서드의 매개변수 목록입니다.\n",
        "\n",
        "- `index`: 특정 열을 전달하면 인덱스가 됩니다.\n",
        "\n",
        "- `columns`: 특정 열을 전달하면 열이 됩니다.\n",
        "\n",
        "- `values`: 특정 열을 전달하면 열 데이터를 데이터 집계에 사용합니다.\n",
        "\n",
        "- `aggfunc`: 특정 함수를 전달하면 함수를 데이터 집계에 사용합니다.\n",
        "\n",
        "아래에서 주석을 추가하면서 설명하겠습니다. 먼저 `df_ti` 데이터프레임을 가져옵니다."
      ]
    },
    {
      "cell_type": "code",
      "metadata": {
        "colab": {
          "base_uri": "https://localhost:8080/",
          "height": 418
        },
        "id": "B0mdjtqWVsiR",
        "outputId": "ba6a39d3-4309-4086-8d24-84f22e9acd1d"
      },
      "source": [
        "df_ti"
      ],
      "execution_count": 240,
      "outputs": [
        {
          "output_type": "execute_result",
          "data": {
            "text/html": [
              "<div>\n",
              "<style scoped>\n",
              "    .dataframe tbody tr th:only-of-type {\n",
              "        vertical-align: middle;\n",
              "    }\n",
              "\n",
              "    .dataframe tbody tr th {\n",
              "        vertical-align: top;\n",
              "    }\n",
              "\n",
              "    .dataframe thead th {\n",
              "        text-align: right;\n",
              "    }\n",
              "</style>\n",
              "<table border=\"1\" class=\"dataframe\">\n",
              "  <thead>\n",
              "    <tr style=\"text-align: right;\">\n",
              "      <th></th>\n",
              "      <th>age</th>\n",
              "      <th>sex</th>\n",
              "      <th>class</th>\n",
              "      <th>fare</th>\n",
              "      <th>survived</th>\n",
              "    </tr>\n",
              "  </thead>\n",
              "  <tbody>\n",
              "    <tr>\n",
              "      <th>0</th>\n",
              "      <td>22.0</td>\n",
              "      <td>male</td>\n",
              "      <td>Third</td>\n",
              "      <td>7.2500</td>\n",
              "      <td>0</td>\n",
              "    </tr>\n",
              "    <tr>\n",
              "      <th>1</th>\n",
              "      <td>38.0</td>\n",
              "      <td>female</td>\n",
              "      <td>First</td>\n",
              "      <td>71.2833</td>\n",
              "      <td>1</td>\n",
              "    </tr>\n",
              "    <tr>\n",
              "      <th>2</th>\n",
              "      <td>26.0</td>\n",
              "      <td>female</td>\n",
              "      <td>Third</td>\n",
              "      <td>7.9250</td>\n",
              "      <td>1</td>\n",
              "    </tr>\n",
              "    <tr>\n",
              "      <th>3</th>\n",
              "      <td>35.0</td>\n",
              "      <td>female</td>\n",
              "      <td>First</td>\n",
              "      <td>53.1000</td>\n",
              "      <td>1</td>\n",
              "    </tr>\n",
              "    <tr>\n",
              "      <th>4</th>\n",
              "      <td>35.0</td>\n",
              "      <td>male</td>\n",
              "      <td>Third</td>\n",
              "      <td>8.0500</td>\n",
              "      <td>0</td>\n",
              "    </tr>\n",
              "    <tr>\n",
              "      <th>...</th>\n",
              "      <td>...</td>\n",
              "      <td>...</td>\n",
              "      <td>...</td>\n",
              "      <td>...</td>\n",
              "      <td>...</td>\n",
              "    </tr>\n",
              "    <tr>\n",
              "      <th>886</th>\n",
              "      <td>27.0</td>\n",
              "      <td>male</td>\n",
              "      <td>Second</td>\n",
              "      <td>13.0000</td>\n",
              "      <td>0</td>\n",
              "    </tr>\n",
              "    <tr>\n",
              "      <th>887</th>\n",
              "      <td>19.0</td>\n",
              "      <td>female</td>\n",
              "      <td>First</td>\n",
              "      <td>30.0000</td>\n",
              "      <td>1</td>\n",
              "    </tr>\n",
              "    <tr>\n",
              "      <th>888</th>\n",
              "      <td>NaN</td>\n",
              "      <td>female</td>\n",
              "      <td>Third</td>\n",
              "      <td>23.4500</td>\n",
              "      <td>0</td>\n",
              "    </tr>\n",
              "    <tr>\n",
              "      <th>889</th>\n",
              "      <td>26.0</td>\n",
              "      <td>male</td>\n",
              "      <td>First</td>\n",
              "      <td>30.0000</td>\n",
              "      <td>1</td>\n",
              "    </tr>\n",
              "    <tr>\n",
              "      <th>890</th>\n",
              "      <td>32.0</td>\n",
              "      <td>male</td>\n",
              "      <td>Third</td>\n",
              "      <td>7.7500</td>\n",
              "      <td>0</td>\n",
              "    </tr>\n",
              "  </tbody>\n",
              "</table>\n",
              "<p>891 rows × 5 columns</p>\n",
              "</div>"
            ],
            "text/plain": [
              "      age     sex   class     fare  survived\n",
              "0    22.0    male   Third   7.2500         0\n",
              "1    38.0  female   First  71.2833         1\n",
              "2    26.0  female   Third   7.9250         1\n",
              "3    35.0  female   First  53.1000         1\n",
              "4    35.0    male   Third   8.0500         0\n",
              "..    ...     ...     ...      ...       ...\n",
              "886  27.0    male  Second  13.0000         0\n",
              "887  19.0  female   First  30.0000         1\n",
              "888   NaN  female   Third  23.4500         0\n",
              "889  26.0    male   First  30.0000         1\n",
              "890  32.0    male   Third   7.7500         0\n",
              "\n",
              "[891 rows x 5 columns]"
            ]
          },
          "metadata": {},
          "execution_count": 240
        }
      ]
    },
    {
      "cell_type": "markdown",
      "metadata": {
        "id": "bf4y75pLqB7q"
      },
      "source": [
        "`pivot_table` 메서드를 적용하겠습니다. 인덱스는 'class' 열, 열은 'sex' 열, 집계할 값은 'age', 집계에 사용할 함수는 `mean()` 메서드입니다."
      ]
    },
    {
      "cell_type": "code",
      "metadata": {
        "colab": {
          "base_uri": "https://localhost:8080/",
          "height": 172
        },
        "id": "z5szloVdqtNU",
        "outputId": "41dde0fa-4b0e-48a0-f4bd-3446f06c83c8"
      },
      "source": [
        "# `set_option()` 메서드를 사용해서 출력할 최대 열과 열 너비를 지정합니다.\n",
        "# 최대한 크게 지정하겠습니다.\n",
        "pd.set_option('display.max_columns', 50)\n",
        "pd.set_option('display.max_colwidth', 50)\n",
        "\n",
        "df_ti_pv1 = pd.pivot_table(df_ti,\n",
        "                           index='class',\n",
        "                           columns='sex',\n",
        "                           values='age',\n",
        "                           aggfunc='mean')\n",
        "df_ti_pv1"
      ],
      "execution_count": 241,
      "outputs": [
        {
          "output_type": "execute_result",
          "data": {
            "text/html": [
              "<div>\n",
              "<style scoped>\n",
              "    .dataframe tbody tr th:only-of-type {\n",
              "        vertical-align: middle;\n",
              "    }\n",
              "\n",
              "    .dataframe tbody tr th {\n",
              "        vertical-align: top;\n",
              "    }\n",
              "\n",
              "    .dataframe thead th {\n",
              "        text-align: right;\n",
              "    }\n",
              "</style>\n",
              "<table border=\"1\" class=\"dataframe\">\n",
              "  <thead>\n",
              "    <tr style=\"text-align: right;\">\n",
              "      <th>sex</th>\n",
              "      <th>female</th>\n",
              "      <th>male</th>\n",
              "    </tr>\n",
              "    <tr>\n",
              "      <th>class</th>\n",
              "      <th></th>\n",
              "      <th></th>\n",
              "    </tr>\n",
              "  </thead>\n",
              "  <tbody>\n",
              "    <tr>\n",
              "      <th>First</th>\n",
              "      <td>34.611765</td>\n",
              "      <td>41.281386</td>\n",
              "    </tr>\n",
              "    <tr>\n",
              "      <th>Second</th>\n",
              "      <td>28.722973</td>\n",
              "      <td>30.740707</td>\n",
              "    </tr>\n",
              "    <tr>\n",
              "      <th>Third</th>\n",
              "      <td>21.750000</td>\n",
              "      <td>26.507589</td>\n",
              "    </tr>\n",
              "  </tbody>\n",
              "</table>\n",
              "</div>"
            ],
            "text/plain": [
              "sex        female       male\n",
              "class                       \n",
              "First   34.611765  41.281386\n",
              "Second  28.722973  30.740707\n",
              "Third   21.750000  26.507589"
            ]
          },
          "metadata": {},
          "execution_count": 241
        }
      ]
    },
    {
      "cell_type": "markdown",
      "metadata": {
        "id": "bjRkijgGuBCB"
      },
      "source": [
        "매개변수를 조정해서 다른 데이터프레임을 생성하겠습니다."
      ]
    },
    {
      "cell_type": "code",
      "metadata": {
        "colab": {
          "base_uri": "https://localhost:8080/",
          "height": 204
        },
        "id": "Xh1YZ4YSsaFu",
        "outputId": "2502077d-db6f-48a4-e023-9beef3493aa0"
      },
      "source": [
        "df_ti_pv2 = pd.pivot_table(df_ti,\n",
        "                           index='class',\n",
        "                           columns='sex',\n",
        "                           values='survived',\n",
        "                           aggfunc=['count', 'sum', 'mean', 'std'])\n",
        "df_ti_pv2"
      ],
      "execution_count": 242,
      "outputs": [
        {
          "output_type": "execute_result",
          "data": {
            "text/html": [
              "<div>\n",
              "<style scoped>\n",
              "    .dataframe tbody tr th:only-of-type {\n",
              "        vertical-align: middle;\n",
              "    }\n",
              "\n",
              "    .dataframe tbody tr th {\n",
              "        vertical-align: top;\n",
              "    }\n",
              "\n",
              "    .dataframe thead tr th {\n",
              "        text-align: left;\n",
              "    }\n",
              "\n",
              "    .dataframe thead tr:last-of-type th {\n",
              "        text-align: right;\n",
              "    }\n",
              "</style>\n",
              "<table border=\"1\" class=\"dataframe\">\n",
              "  <thead>\n",
              "    <tr>\n",
              "      <th></th>\n",
              "      <th colspan=\"2\" halign=\"left\">count</th>\n",
              "      <th colspan=\"2\" halign=\"left\">sum</th>\n",
              "      <th colspan=\"2\" halign=\"left\">mean</th>\n",
              "      <th colspan=\"2\" halign=\"left\">std</th>\n",
              "    </tr>\n",
              "    <tr>\n",
              "      <th>sex</th>\n",
              "      <th>female</th>\n",
              "      <th>male</th>\n",
              "      <th>female</th>\n",
              "      <th>male</th>\n",
              "      <th>female</th>\n",
              "      <th>male</th>\n",
              "      <th>female</th>\n",
              "      <th>male</th>\n",
              "    </tr>\n",
              "    <tr>\n",
              "      <th>class</th>\n",
              "      <th></th>\n",
              "      <th></th>\n",
              "      <th></th>\n",
              "      <th></th>\n",
              "      <th></th>\n",
              "      <th></th>\n",
              "      <th></th>\n",
              "      <th></th>\n",
              "    </tr>\n",
              "  </thead>\n",
              "  <tbody>\n",
              "    <tr>\n",
              "      <th>First</th>\n",
              "      <td>94</td>\n",
              "      <td>122</td>\n",
              "      <td>91</td>\n",
              "      <td>45</td>\n",
              "      <td>0.968085</td>\n",
              "      <td>0.368852</td>\n",
              "      <td>0.176716</td>\n",
              "      <td>0.484484</td>\n",
              "    </tr>\n",
              "    <tr>\n",
              "      <th>Second</th>\n",
              "      <td>76</td>\n",
              "      <td>108</td>\n",
              "      <td>70</td>\n",
              "      <td>17</td>\n",
              "      <td>0.921053</td>\n",
              "      <td>0.157407</td>\n",
              "      <td>0.271448</td>\n",
              "      <td>0.365882</td>\n",
              "    </tr>\n",
              "    <tr>\n",
              "      <th>Third</th>\n",
              "      <td>144</td>\n",
              "      <td>347</td>\n",
              "      <td>72</td>\n",
              "      <td>47</td>\n",
              "      <td>0.500000</td>\n",
              "      <td>0.135447</td>\n",
              "      <td>0.501745</td>\n",
              "      <td>0.342694</td>\n",
              "    </tr>\n",
              "  </tbody>\n",
              "</table>\n",
              "</div>"
            ],
            "text/plain": [
              "        count         sum           mean                 std          \n",
              "sex    female male female male    female      male    female      male\n",
              "class                                                                 \n",
              "First      94  122     91   45  0.968085  0.368852  0.176716  0.484484\n",
              "Second     76  108     70   17  0.921053  0.157407  0.271448  0.365882\n",
              "Third     144  347     72   47  0.500000  0.135447  0.501745  0.342694"
            ]
          },
          "metadata": {},
          "execution_count": 242
        }
      ]
    },
    {
      "cell_type": "code",
      "metadata": {
        "colab": {
          "base_uri": "https://localhost:8080/"
        },
        "id": "lK6goUulwa9E",
        "outputId": "774c6a8e-fd23-452b-da4a-d33de3d3154f"
      },
      "source": [
        "df_ti_pv3 = pd.pivot_table(df_ti,\n",
        "                           index=['class', 'sex'],\n",
        "                           columns='survived',\n",
        "                           values=['age', 'fare'],\n",
        "                           aggfunc=['max', 'min', 'mean'])\n",
        "print(df_ti_pv3)"
      ],
      "execution_count": 243,
      "outputs": [
        {
          "output_type": "stream",
          "name": "stdout",
          "text": [
            "                max                           min                           \\\n",
            "                age          fare             age            fare            \n",
            "survived          0     1       0         1     0      1        0        1   \n",
            "class  sex                                                                   \n",
            "First  female  50.0  63.0  151.55  512.3292   2.0  14.00  28.7125  25.9292   \n",
            "       male    71.0  80.0  263.00  512.3292  18.0   0.92   0.0000  26.2875   \n",
            "Second female  57.0  55.0   26.00   65.0000  24.0   2.00  10.5000  10.5000   \n",
            "       male    70.0  62.0   73.50   39.0000  16.0   0.67   0.0000  10.5000   \n",
            "Third  female  48.0  63.0   69.55   31.3875   2.0   0.75   6.7500   7.2250   \n",
            "       male    74.0  45.0   69.55   56.4958   1.0   0.42   0.0000   0.0000   \n",
            "\n",
            "                    mean                                     \n",
            "                     age                   fare              \n",
            "survived               0          1           0           1  \n",
            "class  sex                                                   \n",
            "First  female  25.666667  34.939024  110.604167  105.978159  \n",
            "       male    44.581967  36.248000   62.894910   74.637320  \n",
            "Second female  36.000000  28.080882   18.250000   22.288989  \n",
            "       male    33.369048  16.022000   19.488965   21.095100  \n",
            "Third  female  23.818182  19.329787   19.773093   12.464526  \n",
            "       male    27.255814  22.274211   12.204469   15.579696  \n"
          ]
        }
      ]
    },
    {
      "cell_type": "markdown",
      "metadata": {
        "id": "UIJn39L5LwUU"
      },
      "source": [
        "피벗화한 `df_ti_pv3` 데이터프레임의 인덱스와 열을 살피겠습니다."
      ]
    },
    {
      "cell_type": "code",
      "metadata": {
        "colab": {
          "base_uri": "https://localhost:8080/"
        },
        "id": "FjBWgdEWL-cW",
        "outputId": "20cf42b1-badc-4e68-c7fe-6d641eb7dfae"
      },
      "source": [
        "print(df_ti_pv3.index)\n",
        "print()\n",
        "print(df_ti_pv3.columns)"
      ],
      "execution_count": 244,
      "outputs": [
        {
          "output_type": "stream",
          "name": "stdout",
          "text": [
            "MultiIndex([( 'First', 'female'),\n",
            "            ( 'First',   'male'),\n",
            "            ('Second', 'female'),\n",
            "            ('Second',   'male'),\n",
            "            ( 'Third', 'female'),\n",
            "            ( 'Third',   'male')],\n",
            "           names=['class', 'sex'])\n",
            "\n",
            "MultiIndex([( 'max',  'age', 0),\n",
            "            ( 'max',  'age', 1),\n",
            "            ( 'max', 'fare', 0),\n",
            "            ( 'max', 'fare', 1),\n",
            "            ( 'min',  'age', 0),\n",
            "            ( 'min',  'age', 1),\n",
            "            ( 'min', 'fare', 0),\n",
            "            ( 'min', 'fare', 1),\n",
            "            ('mean',  'age', 0),\n",
            "            ('mean',  'age', 1),\n",
            "            ('mean', 'fare', 0),\n",
            "            ('mean', 'fare', 1)],\n",
            "           names=[None, None, 'survived'])\n"
          ]
        }
      ]
    },
    {
      "cell_type": "markdown",
      "metadata": {
        "id": "WRfSIkuUP4ox"
      },
      "source": [
        "`xs()` 인덱서를 활용하여 지정한 행에 포함되는 데이터를 출력하겠습니다. 기본값이 `axis=0`이므로 행을 기준으로 출력하는 것입니다."
      ]
    },
    {
      "cell_type": "code",
      "metadata": {
        "colab": {
          "base_uri": "https://localhost:8080/"
        },
        "id": "F49iTEp-Pxcw",
        "outputId": "048c2323-3246-4838-9a56-7f58552e3fee"
      },
      "source": [
        "print(df_ti_pv3.xs('First'))"
      ],
      "execution_count": 245,
      "outputs": [
        {
          "output_type": "stream",
          "name": "stdout",
          "text": [
            "           max                           min                           \\\n",
            "           age          fare             age            fare            \n",
            "survived     0     1       0         1     0      1        0        1   \n",
            "sex                                                                     \n",
            "female    50.0  63.0  151.55  512.3292   2.0  14.00  28.7125  25.9292   \n",
            "male      71.0  80.0  263.00  512.3292  18.0   0.92   0.0000  26.2875   \n",
            "\n",
            "               mean                                     \n",
            "                age                   fare              \n",
            "survived          0          1           0           1  \n",
            "sex                                                     \n",
            "female    25.666667  34.939024  110.604167  105.978159  \n",
            "male      44.581967  36.248000   62.894910   74.637320  \n"
          ]
        }
      ]
    },
    {
      "cell_type": "code",
      "metadata": {
        "colab": {
          "base_uri": "https://localhost:8080/"
        },
        "id": "mUvOMK83QFmA",
        "outputId": "d3cb4c05-e31a-46a3-c152-49e0328c825f"
      },
      "source": [
        "print(df_ti_pv3.xs(('First', 'male')))"
      ],
      "execution_count": 246,
      "outputs": [
        {
          "output_type": "stream",
          "name": "stdout",
          "text": [
            "            survived\n",
            "max   age   0            71.000000\n",
            "            1            80.000000\n",
            "      fare  0           263.000000\n",
            "            1           512.329200\n",
            "min   age   0            18.000000\n",
            "            1             0.920000\n",
            "      fare  0             0.000000\n",
            "            1            26.287500\n",
            "mean  age   0            44.581967\n",
            "            1            36.248000\n",
            "      fare  0            62.894910\n",
            "            1            74.637320\n",
            "Name: (First, male), dtype: float64\n"
          ]
        }
      ]
    },
    {
      "cell_type": "code",
      "metadata": {
        "colab": {
          "base_uri": "https://localhost:8080/"
        },
        "id": "bpTyGDSPQhrI",
        "outputId": "c0ca883b-2e9f-4128-fb9e-e8bf477d3ea0"
      },
      "source": [
        "print(df_ti_pv3.xs('First', level='class'))"
      ],
      "execution_count": 247,
      "outputs": [
        {
          "output_type": "stream",
          "name": "stdout",
          "text": [
            "           max                           min                           \\\n",
            "           age          fare             age            fare            \n",
            "survived     0     1       0         1     0      1        0        1   \n",
            "sex                                                                     \n",
            "female    50.0  63.0  151.55  512.3292   2.0  14.00  28.7125  25.9292   \n",
            "male      71.0  80.0  263.00  512.3292  18.0   0.92   0.0000  26.2875   \n",
            "\n",
            "               mean                                     \n",
            "                age                   fare              \n",
            "survived          0          1           0           1  \n",
            "sex                                                     \n",
            "female    25.666667  34.939024  110.604167  105.978159  \n",
            "male      44.581967  36.248000   62.894910   74.637320  \n"
          ]
        }
      ]
    },
    {
      "cell_type": "code",
      "metadata": {
        "colab": {
          "base_uri": "https://localhost:8080/"
        },
        "id": "T2Eoz-vZQ5Li",
        "outputId": "9b663e73-8724-4c2d-a11f-81ccaf1ffbfd"
      },
      "source": [
        "print(df_ti_pv3.xs('male', level='sex'))"
      ],
      "execution_count": 248,
      "outputs": [
        {
          "output_type": "stream",
          "name": "stdout",
          "text": [
            "           max                           min                           mean  \\\n",
            "           age          fare             age       fare                 age   \n",
            "survived     0     1       0         1     0     1    0        1          0   \n",
            "class                                                                         \n",
            "First     71.0  80.0  263.00  512.3292  18.0  0.92  0.0  26.2875  44.581967   \n",
            "Second    70.0  62.0   73.50   39.0000  16.0  0.67  0.0  10.5000  33.369048   \n",
            "Third     74.0  45.0   69.55   56.4958   1.0  0.42  0.0   0.0000  27.255814   \n",
            "\n",
            "                                           \n",
            "                          fare             \n",
            "survived          1          0          1  \n",
            "class                                      \n",
            "First     36.248000  62.894910  74.637320  \n",
            "Second    16.022000  19.488965  21.095100  \n",
            "Third     22.274211  12.204469  15.579696  \n"
          ]
        }
      ]
    },
    {
      "cell_type": "markdown",
      "metadata": {
        "id": "lB-mvANdWOee"
      },
      "source": [
        "여러 행을 선택하겠습니다. 위에서 설명했듯이 복수의 행 인덱스는 반드시 튜플로 묶습니다. 반면에 매개변수 `level`에는 리스트로 묶어서 넘깁니다(물론 튜플도 가능합니다)."
      ]
    },
    {
      "cell_type": "code",
      "metadata": {
        "colab": {
          "base_uri": "https://localhost:8080/"
        },
        "id": "MtzX_jcyVlnV",
        "outputId": "32145151-b719-4bf3-c430-c788b8035d87"
      },
      "source": [
        "# `level` 매개변수에는 숫자를 지정해도 됩니다.\n",
        "# 순서대로 'class'는 0, 'sex'는 1입니다.\n",
        "print(df_ti_pv3.xs(('First' ,'male'), level=['class', 1]))"
      ],
      "execution_count": 249,
      "outputs": [
        {
          "output_type": "stream",
          "name": "stdout",
          "text": [
            "             max                          min                           mean  \\\n",
            "             age         fare             age       fare                 age   \n",
            "survived       0     1      0         1     0     1    0        1          0   \n",
            "class sex                                                                      \n",
            "First male  71.0  80.0  263.0  512.3292  18.0  0.92  0.0  26.2875  44.581967   \n",
            "\n",
            "                                        \n",
            "                        fare            \n",
            "survived         1         0         1  \n",
            "class sex                               \n",
            "First male  36.248  62.89491  74.63732  \n"
          ]
        }
      ]
    },
    {
      "cell_type": "markdown",
      "metadata": {
        "id": "QrrAHWwrYSK1"
      },
      "source": [
        "`axis=1`로 지정하면 열을 축으로 삼습니다."
      ]
    },
    {
      "cell_type": "code",
      "metadata": {
        "colab": {
          "base_uri": "https://localhost:8080/"
        },
        "id": "5SQRYygKY1UJ",
        "outputId": "a7862317-1b65-48a5-b104-9ec75371f7a2"
      },
      "source": [
        "print(df_ti_pv3.xs(['max', 'min'], axis=1))"
      ],
      "execution_count": 250,
      "outputs": [
        {
          "output_type": "stream",
          "name": "stdout",
          "text": [
            "                max                           min                         \n",
            "                age          fare             age            fare         \n",
            "survived          0     1       0         1     0      1        0        1\n",
            "class  sex                                                                \n",
            "First  female  50.0  63.0  151.55  512.3292   2.0  14.00  28.7125  25.9292\n",
            "       male    71.0  80.0  263.00  512.3292  18.0   0.92   0.0000  26.2875\n",
            "Second female  57.0  55.0   26.00   65.0000  24.0   2.00  10.5000  10.5000\n",
            "       male    70.0  62.0   73.50   39.0000  16.0   0.67   0.0000  10.5000\n",
            "Third  female  48.0  63.0   69.55   31.3875   2.0   0.75   6.7500   7.2250\n",
            "       male    74.0  45.0   69.55   56.4958   1.0   0.42   0.0000   0.0000\n"
          ]
        }
      ]
    },
    {
      "cell_type": "markdown",
      "metadata": {
        "id": "ftTrl8clgiEC"
      },
      "source": [
        "복수의 행 인덱스는 튜플로 묶는 것처럼 복수의 열도 튜플로 묶어야 합니다. 물론 바로 위에서 `['max', 'min']`로 묶은 이유는 같은 라인의 열이기 때문입니다. 다른 라인이라면 예컨대 'max' 밑에 'age'가 있고 그 밑에 'survived'가 있다고 설명할 수 있습니다. 이렇게 하위 열을 선택할 때는 반드시 튜플로 묶어야 합니다. 아래에서 데이터프레임의 컬럼을 출력했을 때 튜플로 묶여있는 것과 같은 이치입니다."
      ]
    },
    {
      "cell_type": "code",
      "metadata": {
        "colab": {
          "base_uri": "https://localhost:8080/"
        },
        "id": "9Wtob2evh_LW",
        "outputId": "225a6c0c-a186-45af-be5f-fef8eb660649"
      },
      "source": [
        "df_ti_pv3.columns"
      ],
      "execution_count": 251,
      "outputs": [
        {
          "output_type": "execute_result",
          "data": {
            "text/plain": [
              "MultiIndex([( 'max',  'age', 0),\n",
              "            ( 'max',  'age', 1),\n",
              "            ( 'max', 'fare', 0),\n",
              "            ( 'max', 'fare', 1),\n",
              "            ( 'min',  'age', 0),\n",
              "            ( 'min',  'age', 1),\n",
              "            ( 'min', 'fare', 0),\n",
              "            ( 'min', 'fare', 1),\n",
              "            ('mean',  'age', 0),\n",
              "            ('mean',  'age', 1),\n",
              "            ('mean', 'fare', 0),\n",
              "            ('mean', 'fare', 1)],\n",
              "           names=[None, None, 'survived'])"
            ]
          },
          "metadata": {},
          "execution_count": 251
        }
      ]
    },
    {
      "cell_type": "code",
      "metadata": {
        "colab": {
          "base_uri": "https://localhost:8080/"
        },
        "id": "KTWVhMN-dXEs",
        "outputId": "b45d872e-7007-490e-f9e2-8571c5f2450a"
      },
      "source": [
        "print(df_ti_pv3.xs(('mean', 'age'), axis=1))"
      ],
      "execution_count": 252,
      "outputs": [
        {
          "output_type": "stream",
          "name": "stdout",
          "text": [
            "survived               0          1\n",
            "class  sex                         \n",
            "First  female  25.666667  34.939024\n",
            "       male    44.581967  36.248000\n",
            "Second female  36.000000  28.080882\n",
            "       male    33.369048  16.022000\n",
            "Third  female  23.818182  19.329787\n",
            "       male    27.255814  22.274211\n"
          ]
        }
      ]
    },
    {
      "cell_type": "code",
      "metadata": {
        "colab": {
          "base_uri": "https://localhost:8080/"
        },
        "id": "goYH6_O-hzEp",
        "outputId": "942d70ec-dc53-4e5f-fd22-a2752caf2cb8"
      },
      "source": [
        "print(df_ti_pv3.xs(('mean', 'age', 0), axis=1))"
      ],
      "execution_count": 253,
      "outputs": [
        {
          "output_type": "stream",
          "name": "stdout",
          "text": [
            "class   sex   \n",
            "First   female    25.666667\n",
            "        male      44.581967\n",
            "Second  female    36.000000\n",
            "        male      33.369048\n",
            "Third   female    23.818182\n",
            "        male      27.255814\n",
            "Name: (mean, age, 0), dtype: float64\n"
          ]
        }
      ]
    },
    {
      "cell_type": "markdown",
      "metadata": {
        "id": "ING286i9jtLn"
      },
      "source": [
        "'survived' 열의 '1' 열만 가져오려면 `level` 매개변수에 'survived'를 인자로 넘깁니다."
      ]
    },
    {
      "cell_type": "code",
      "metadata": {
        "colab": {
          "base_uri": "https://localhost:8080/",
          "height": 296
        },
        "id": "XDAsTfDOj5u8",
        "outputId": "92931b2c-123b-4069-9d39-97d75e5bcbe5"
      },
      "source": [
        "df_ti_pv3.xs(1, level='survived', axis=1)"
      ],
      "execution_count": 254,
      "outputs": [
        {
          "output_type": "execute_result",
          "data": {
            "text/html": [
              "<div>\n",
              "<style scoped>\n",
              "    .dataframe tbody tr th:only-of-type {\n",
              "        vertical-align: middle;\n",
              "    }\n",
              "\n",
              "    .dataframe tbody tr th {\n",
              "        vertical-align: top;\n",
              "    }\n",
              "\n",
              "    .dataframe thead tr th {\n",
              "        text-align: left;\n",
              "    }\n",
              "\n",
              "    .dataframe thead tr:last-of-type th {\n",
              "        text-align: right;\n",
              "    }\n",
              "</style>\n",
              "<table border=\"1\" class=\"dataframe\">\n",
              "  <thead>\n",
              "    <tr>\n",
              "      <th></th>\n",
              "      <th></th>\n",
              "      <th colspan=\"2\" halign=\"left\">max</th>\n",
              "      <th colspan=\"2\" halign=\"left\">min</th>\n",
              "      <th colspan=\"2\" halign=\"left\">mean</th>\n",
              "    </tr>\n",
              "    <tr>\n",
              "      <th></th>\n",
              "      <th></th>\n",
              "      <th>age</th>\n",
              "      <th>fare</th>\n",
              "      <th>age</th>\n",
              "      <th>fare</th>\n",
              "      <th>age</th>\n",
              "      <th>fare</th>\n",
              "    </tr>\n",
              "    <tr>\n",
              "      <th>class</th>\n",
              "      <th>sex</th>\n",
              "      <th></th>\n",
              "      <th></th>\n",
              "      <th></th>\n",
              "      <th></th>\n",
              "      <th></th>\n",
              "      <th></th>\n",
              "    </tr>\n",
              "  </thead>\n",
              "  <tbody>\n",
              "    <tr>\n",
              "      <th rowspan=\"2\" valign=\"top\">First</th>\n",
              "      <th>female</th>\n",
              "      <td>63.0</td>\n",
              "      <td>512.3292</td>\n",
              "      <td>14.00</td>\n",
              "      <td>25.9292</td>\n",
              "      <td>34.939024</td>\n",
              "      <td>105.978159</td>\n",
              "    </tr>\n",
              "    <tr>\n",
              "      <th>male</th>\n",
              "      <td>80.0</td>\n",
              "      <td>512.3292</td>\n",
              "      <td>0.92</td>\n",
              "      <td>26.2875</td>\n",
              "      <td>36.248000</td>\n",
              "      <td>74.637320</td>\n",
              "    </tr>\n",
              "    <tr>\n",
              "      <th rowspan=\"2\" valign=\"top\">Second</th>\n",
              "      <th>female</th>\n",
              "      <td>55.0</td>\n",
              "      <td>65.0000</td>\n",
              "      <td>2.00</td>\n",
              "      <td>10.5000</td>\n",
              "      <td>28.080882</td>\n",
              "      <td>22.288989</td>\n",
              "    </tr>\n",
              "    <tr>\n",
              "      <th>male</th>\n",
              "      <td>62.0</td>\n",
              "      <td>39.0000</td>\n",
              "      <td>0.67</td>\n",
              "      <td>10.5000</td>\n",
              "      <td>16.022000</td>\n",
              "      <td>21.095100</td>\n",
              "    </tr>\n",
              "    <tr>\n",
              "      <th rowspan=\"2\" valign=\"top\">Third</th>\n",
              "      <th>female</th>\n",
              "      <td>63.0</td>\n",
              "      <td>31.3875</td>\n",
              "      <td>0.75</td>\n",
              "      <td>7.2250</td>\n",
              "      <td>19.329787</td>\n",
              "      <td>12.464526</td>\n",
              "    </tr>\n",
              "    <tr>\n",
              "      <th>male</th>\n",
              "      <td>45.0</td>\n",
              "      <td>56.4958</td>\n",
              "      <td>0.42</td>\n",
              "      <td>0.0000</td>\n",
              "      <td>22.274211</td>\n",
              "      <td>15.579696</td>\n",
              "    </tr>\n",
              "  </tbody>\n",
              "</table>\n",
              "</div>"
            ],
            "text/plain": [
              "                max              min                mean            \n",
              "                age      fare    age     fare        age        fare\n",
              "class  sex                                                          \n",
              "First  female  63.0  512.3292  14.00  25.9292  34.939024  105.978159\n",
              "       male    80.0  512.3292   0.92  26.2875  36.248000   74.637320\n",
              "Second female  55.0   65.0000   2.00  10.5000  28.080882   22.288989\n",
              "       male    62.0   39.0000   0.67  10.5000  16.022000   21.095100\n",
              "Third  female  63.0   31.3875   0.75   7.2250  19.329787   12.464526\n",
              "       male    45.0   56.4958   0.42   0.0000  22.274211   15.579696"
            ]
          },
          "metadata": {},
          "execution_count": 254
        }
      ]
    },
    {
      "cell_type": "markdown",
      "metadata": {
        "id": "oknUr8mIkG_d"
      },
      "source": [
        "`level` 매개변수에 복수 열을 지정하겠습니다."
      ]
    },
    {
      "cell_type": "code",
      "metadata": {
        "colab": {
          "base_uri": "https://localhost:8080/",
          "height": 327
        },
        "id": "siZuuwf3lAsK",
        "outputId": "59f8af9f-5bcc-4e1d-dd3f-24ee30214830"
      },
      "source": [
        "df_ti_pv3.xs(('min', 'age', 1), level=[0, 1, 2], axis=1)"
      ],
      "execution_count": 255,
      "outputs": [
        {
          "output_type": "execute_result",
          "data": {
            "text/html": [
              "<div>\n",
              "<style scoped>\n",
              "    .dataframe tbody tr th:only-of-type {\n",
              "        vertical-align: middle;\n",
              "    }\n",
              "\n",
              "    .dataframe tbody tr th {\n",
              "        vertical-align: top;\n",
              "    }\n",
              "\n",
              "    .dataframe thead tr th {\n",
              "        text-align: left;\n",
              "    }\n",
              "\n",
              "    .dataframe thead tr:last-of-type th {\n",
              "        text-align: right;\n",
              "    }\n",
              "</style>\n",
              "<table border=\"1\" class=\"dataframe\">\n",
              "  <thead>\n",
              "    <tr>\n",
              "      <th></th>\n",
              "      <th></th>\n",
              "      <th>min</th>\n",
              "    </tr>\n",
              "    <tr>\n",
              "      <th></th>\n",
              "      <th></th>\n",
              "      <th>age</th>\n",
              "    </tr>\n",
              "    <tr>\n",
              "      <th></th>\n",
              "      <th>survived</th>\n",
              "      <th>1</th>\n",
              "    </tr>\n",
              "    <tr>\n",
              "      <th>class</th>\n",
              "      <th>sex</th>\n",
              "      <th></th>\n",
              "    </tr>\n",
              "  </thead>\n",
              "  <tbody>\n",
              "    <tr>\n",
              "      <th rowspan=\"2\" valign=\"top\">First</th>\n",
              "      <th>female</th>\n",
              "      <td>14.00</td>\n",
              "    </tr>\n",
              "    <tr>\n",
              "      <th>male</th>\n",
              "      <td>0.92</td>\n",
              "    </tr>\n",
              "    <tr>\n",
              "      <th rowspan=\"2\" valign=\"top\">Second</th>\n",
              "      <th>female</th>\n",
              "      <td>2.00</td>\n",
              "    </tr>\n",
              "    <tr>\n",
              "      <th>male</th>\n",
              "      <td>0.67</td>\n",
              "    </tr>\n",
              "    <tr>\n",
              "      <th rowspan=\"2\" valign=\"top\">Third</th>\n",
              "      <th>female</th>\n",
              "      <td>0.75</td>\n",
              "    </tr>\n",
              "    <tr>\n",
              "      <th>male</th>\n",
              "      <td>0.42</td>\n",
              "    </tr>\n",
              "  </tbody>\n",
              "</table>\n",
              "</div>"
            ],
            "text/plain": [
              "                 min\n",
              "                 age\n",
              "survived           1\n",
              "class  sex          \n",
              "First  female  14.00\n",
              "       male     0.92\n",
              "Second female   2.00\n",
              "       male     0.67\n",
              "Third  female   0.75\n",
              "       male     0.42"
            ]
          },
          "metadata": {},
          "execution_count": 255
        }
      ]
    },
    {
      "cell_type": "markdown",
      "metadata": {
        "id": "dyk_ULxrPrAy"
      },
      "source": [
        "## **3.5. 그래프 도구 사용하기**\n"
      ]
    },
    {
      "cell_type": "markdown",
      "metadata": {
        "id": "RIkDRPZdDc6J"
      },
      "source": [
        "판다스는 맷플롯립의 몇 가지 그래프 도구를 가지고 있습니다. 이 내장된 그래프 도구를 이용하여 그래프를 간단하게 작성할 수 있습니다. `plot()` 메서드를 선언하면 기본값으로 선 그래프가 출력되고, `kind` 매개변수에 값을 지정하면 원하는 그래프를 출력할 수 있습니다. 아래는 `kind` 매개변수에 전달할 수 있는 인자 목록입니다.\n",
        "\n",
        "- `line`: 선 그래프(기본값)\n",
        "\n",
        "- `bar`: 수직 막대 그래프\n",
        "\n",
        "- `barh`: 수평 막대 그래프\n",
        "\n",
        "- `his`: 히스토그램\n",
        "\n",
        "- `box`: 박스 플롯\n",
        "\n",
        "- `kde`: 커널 밀도 그래프\n",
        "\n",
        "- `area`: 면적 그래프\n",
        "\n",
        "- `pie`: 파이 그래프\n",
        "\n",
        "- `scatter`: 산점도 그래프\n",
        "\n",
        "- `hexbin`: 고밀도 산점도 그래프"
      ]
    },
    {
      "cell_type": "markdown",
      "metadata": {
        "id": "aU-0PVIQUbmX"
      },
      "source": [
        "이번 파트는 **파이썬 머신러닝 판다스 데이터 분석(오승환, 정보문화사)** 교재를 참고했습니다. 아울러 정보문화사 사이트 자료실에서 개념 정리에 사용할 데이터를 다운로드했습니다."
      ]
    },
    {
      "cell_type": "markdown",
      "metadata": {
        "id": "XTpGQcPZVWKp"
      },
      "source": [
        "남북한 발전 전력량 데이터셋을 사용해서 선 그래프를 그리겠습니다.\n",
        "\n",
        "먼저 엑셀 데이터를 읽겠습니다."
      ]
    },
    {
      "cell_type": "code",
      "metadata": {
        "colab": {
          "base_uri": "https://localhost:8080/",
          "height": 634
        },
        "id": "oZWXFo_IVfwN",
        "outputId": "9981ac49-a8bc-4076-b7f0-8f3ee90a0419"
      },
      "source": [
        "df_kor_elec = pd.read_excel('/content/gdrive/MyDrive/Python_for_Data_Analytics_Science/5674-833_4th/part3/남북한발전전력량.xlsx',\n",
        "                              engine='openpyxl')\n",
        "df_kor_elec"
      ],
      "execution_count": 256,
      "outputs": [
        {
          "output_type": "execute_result",
          "data": {
            "text/html": [
              "<div>\n",
              "<style scoped>\n",
              "    .dataframe tbody tr th:only-of-type {\n",
              "        vertical-align: middle;\n",
              "    }\n",
              "\n",
              "    .dataframe tbody tr th {\n",
              "        vertical-align: top;\n",
              "    }\n",
              "\n",
              "    .dataframe thead th {\n",
              "        text-align: right;\n",
              "    }\n",
              "</style>\n",
              "<table border=\"1\" class=\"dataframe\">\n",
              "  <thead>\n",
              "    <tr style=\"text-align: right;\">\n",
              "      <th></th>\n",
              "      <th>전력량 (억㎾h)</th>\n",
              "      <th>발전 전력별</th>\n",
              "      <th>1990</th>\n",
              "      <th>1991</th>\n",
              "      <th>1992</th>\n",
              "      <th>1993</th>\n",
              "      <th>1994</th>\n",
              "      <th>1995</th>\n",
              "      <th>1996</th>\n",
              "      <th>1997</th>\n",
              "      <th>1998</th>\n",
              "      <th>1999</th>\n",
              "      <th>2000</th>\n",
              "      <th>2001</th>\n",
              "      <th>2002</th>\n",
              "      <th>2003</th>\n",
              "      <th>2004</th>\n",
              "      <th>2005</th>\n",
              "      <th>2006</th>\n",
              "      <th>2007</th>\n",
              "      <th>2008</th>\n",
              "      <th>2009</th>\n",
              "      <th>2010</th>\n",
              "      <th>2011</th>\n",
              "      <th>2012</th>\n",
              "      <th>2013</th>\n",
              "      <th>2014</th>\n",
              "      <th>2015</th>\n",
              "      <th>2016</th>\n",
              "    </tr>\n",
              "  </thead>\n",
              "  <tbody>\n",
              "    <tr>\n",
              "      <th>0</th>\n",
              "      <td>남한</td>\n",
              "      <td>합계</td>\n",
              "      <td>1077</td>\n",
              "      <td>1186</td>\n",
              "      <td>1310</td>\n",
              "      <td>1444</td>\n",
              "      <td>1650</td>\n",
              "      <td>1847</td>\n",
              "      <td>2055</td>\n",
              "      <td>2244</td>\n",
              "      <td>2153</td>\n",
              "      <td>2393</td>\n",
              "      <td>2664</td>\n",
              "      <td>2852</td>\n",
              "      <td>3065</td>\n",
              "      <td>3225</td>\n",
              "      <td>3421</td>\n",
              "      <td>3646</td>\n",
              "      <td>3812</td>\n",
              "      <td>4031</td>\n",
              "      <td>4224</td>\n",
              "      <td>4336</td>\n",
              "      <td>4747</td>\n",
              "      <td>4969</td>\n",
              "      <td>5096</td>\n",
              "      <td>5171</td>\n",
              "      <td>5220</td>\n",
              "      <td>5281</td>\n",
              "      <td>5404</td>\n",
              "    </tr>\n",
              "    <tr>\n",
              "      <th>1</th>\n",
              "      <td>NaN</td>\n",
              "      <td>수력</td>\n",
              "      <td>64</td>\n",
              "      <td>51</td>\n",
              "      <td>49</td>\n",
              "      <td>60</td>\n",
              "      <td>41</td>\n",
              "      <td>55</td>\n",
              "      <td>52</td>\n",
              "      <td>54</td>\n",
              "      <td>61</td>\n",
              "      <td>61</td>\n",
              "      <td>56</td>\n",
              "      <td>42</td>\n",
              "      <td>53</td>\n",
              "      <td>69</td>\n",
              "      <td>59</td>\n",
              "      <td>52</td>\n",
              "      <td>52</td>\n",
              "      <td>50</td>\n",
              "      <td>56</td>\n",
              "      <td>56</td>\n",
              "      <td>65</td>\n",
              "      <td>78</td>\n",
              "      <td>77</td>\n",
              "      <td>84</td>\n",
              "      <td>78</td>\n",
              "      <td>58</td>\n",
              "      <td>66</td>\n",
              "    </tr>\n",
              "    <tr>\n",
              "      <th>2</th>\n",
              "      <td>NaN</td>\n",
              "      <td>화력</td>\n",
              "      <td>484</td>\n",
              "      <td>573</td>\n",
              "      <td>696</td>\n",
              "      <td>803</td>\n",
              "      <td>1022</td>\n",
              "      <td>1122</td>\n",
              "      <td>1264</td>\n",
              "      <td>1420</td>\n",
              "      <td>1195</td>\n",
              "      <td>1302</td>\n",
              "      <td>1518</td>\n",
              "      <td>1689</td>\n",
              "      <td>1821</td>\n",
              "      <td>1859</td>\n",
              "      <td>2056</td>\n",
              "      <td>2127</td>\n",
              "      <td>2272</td>\n",
              "      <td>2551</td>\n",
              "      <td>2658</td>\n",
              "      <td>2802</td>\n",
              "      <td>3196</td>\n",
              "      <td>3343</td>\n",
              "      <td>3430</td>\n",
              "      <td>3581</td>\n",
              "      <td>3427</td>\n",
              "      <td>3402</td>\n",
              "      <td>3523</td>\n",
              "    </tr>\n",
              "    <tr>\n",
              "      <th>3</th>\n",
              "      <td>NaN</td>\n",
              "      <td>원자력</td>\n",
              "      <td>529</td>\n",
              "      <td>563</td>\n",
              "      <td>565</td>\n",
              "      <td>581</td>\n",
              "      <td>587</td>\n",
              "      <td>670</td>\n",
              "      <td>739</td>\n",
              "      <td>771</td>\n",
              "      <td>897</td>\n",
              "      <td>1031</td>\n",
              "      <td>1090</td>\n",
              "      <td>1121</td>\n",
              "      <td>1191</td>\n",
              "      <td>1297</td>\n",
              "      <td>1307</td>\n",
              "      <td>1468</td>\n",
              "      <td>1487</td>\n",
              "      <td>1429</td>\n",
              "      <td>1510</td>\n",
              "      <td>1478</td>\n",
              "      <td>1486</td>\n",
              "      <td>1547</td>\n",
              "      <td>1503</td>\n",
              "      <td>1388</td>\n",
              "      <td>1564</td>\n",
              "      <td>1648</td>\n",
              "      <td>1620</td>\n",
              "    </tr>\n",
              "    <tr>\n",
              "      <th>4</th>\n",
              "      <td>NaN</td>\n",
              "      <td>신재생</td>\n",
              "      <td>-</td>\n",
              "      <td>-</td>\n",
              "      <td>-</td>\n",
              "      <td>-</td>\n",
              "      <td>-</td>\n",
              "      <td>-</td>\n",
              "      <td>-</td>\n",
              "      <td>-</td>\n",
              "      <td>-</td>\n",
              "      <td>-</td>\n",
              "      <td>-</td>\n",
              "      <td>-</td>\n",
              "      <td>-</td>\n",
              "      <td>-</td>\n",
              "      <td>-</td>\n",
              "      <td>-</td>\n",
              "      <td>-</td>\n",
              "      <td>-</td>\n",
              "      <td>-</td>\n",
              "      <td>-</td>\n",
              "      <td>-</td>\n",
              "      <td>-</td>\n",
              "      <td>86</td>\n",
              "      <td>118</td>\n",
              "      <td>151</td>\n",
              "      <td>173</td>\n",
              "      <td>195</td>\n",
              "    </tr>\n",
              "    <tr>\n",
              "      <th>5</th>\n",
              "      <td>북한</td>\n",
              "      <td>합계</td>\n",
              "      <td>277</td>\n",
              "      <td>263</td>\n",
              "      <td>247</td>\n",
              "      <td>221</td>\n",
              "      <td>231</td>\n",
              "      <td>230</td>\n",
              "      <td>213</td>\n",
              "      <td>193</td>\n",
              "      <td>170</td>\n",
              "      <td>186</td>\n",
              "      <td>194</td>\n",
              "      <td>202</td>\n",
              "      <td>190</td>\n",
              "      <td>196</td>\n",
              "      <td>206</td>\n",
              "      <td>215</td>\n",
              "      <td>225</td>\n",
              "      <td>236</td>\n",
              "      <td>255</td>\n",
              "      <td>235</td>\n",
              "      <td>237</td>\n",
              "      <td>211</td>\n",
              "      <td>215</td>\n",
              "      <td>221</td>\n",
              "      <td>216</td>\n",
              "      <td>190</td>\n",
              "      <td>239</td>\n",
              "    </tr>\n",
              "    <tr>\n",
              "      <th>6</th>\n",
              "      <td>NaN</td>\n",
              "      <td>수력</td>\n",
              "      <td>156</td>\n",
              "      <td>150</td>\n",
              "      <td>142</td>\n",
              "      <td>133</td>\n",
              "      <td>138</td>\n",
              "      <td>142</td>\n",
              "      <td>125</td>\n",
              "      <td>107</td>\n",
              "      <td>102</td>\n",
              "      <td>103</td>\n",
              "      <td>102</td>\n",
              "      <td>106</td>\n",
              "      <td>106</td>\n",
              "      <td>117</td>\n",
              "      <td>125</td>\n",
              "      <td>131</td>\n",
              "      <td>126</td>\n",
              "      <td>133</td>\n",
              "      <td>141</td>\n",
              "      <td>125</td>\n",
              "      <td>134</td>\n",
              "      <td>132</td>\n",
              "      <td>135</td>\n",
              "      <td>139</td>\n",
              "      <td>130</td>\n",
              "      <td>100</td>\n",
              "      <td>128</td>\n",
              "    </tr>\n",
              "    <tr>\n",
              "      <th>7</th>\n",
              "      <td>NaN</td>\n",
              "      <td>화력</td>\n",
              "      <td>121</td>\n",
              "      <td>113</td>\n",
              "      <td>105</td>\n",
              "      <td>88</td>\n",
              "      <td>93</td>\n",
              "      <td>88</td>\n",
              "      <td>88</td>\n",
              "      <td>86</td>\n",
              "      <td>68</td>\n",
              "      <td>83</td>\n",
              "      <td>92</td>\n",
              "      <td>96</td>\n",
              "      <td>84</td>\n",
              "      <td>79</td>\n",
              "      <td>81</td>\n",
              "      <td>84</td>\n",
              "      <td>99</td>\n",
              "      <td>103</td>\n",
              "      <td>114</td>\n",
              "      <td>110</td>\n",
              "      <td>103</td>\n",
              "      <td>79</td>\n",
              "      <td>80</td>\n",
              "      <td>82</td>\n",
              "      <td>86</td>\n",
              "      <td>90</td>\n",
              "      <td>111</td>\n",
              "    </tr>\n",
              "    <tr>\n",
              "      <th>8</th>\n",
              "      <td>NaN</td>\n",
              "      <td>원자력</td>\n",
              "      <td>-</td>\n",
              "      <td>-</td>\n",
              "      <td>-</td>\n",
              "      <td>-</td>\n",
              "      <td>-</td>\n",
              "      <td>-</td>\n",
              "      <td>-</td>\n",
              "      <td>-</td>\n",
              "      <td>-</td>\n",
              "      <td>-</td>\n",
              "      <td>-</td>\n",
              "      <td>-</td>\n",
              "      <td>-</td>\n",
              "      <td>-</td>\n",
              "      <td>-</td>\n",
              "      <td>-</td>\n",
              "      <td>-</td>\n",
              "      <td>-</td>\n",
              "      <td>-</td>\n",
              "      <td>-</td>\n",
              "      <td>-</td>\n",
              "      <td>-</td>\n",
              "      <td>-</td>\n",
              "      <td>-</td>\n",
              "      <td>-</td>\n",
              "      <td>-</td>\n",
              "      <td>-</td>\n",
              "    </tr>\n",
              "  </tbody>\n",
              "</table>\n",
              "</div>"
            ],
            "text/plain": [
              "  전력량 (억㎾h) 발전 전력별  1990  1991  1992  1993  1994  1995  1996  1997  1998  \\\n",
              "0        남한     합계  1077  1186  1310  1444  1650  1847  2055  2244  2153   \n",
              "1       NaN     수력    64    51    49    60    41    55    52    54    61   \n",
              "2       NaN     화력   484   573   696   803  1022  1122  1264  1420  1195   \n",
              "3       NaN    원자력   529   563   565   581   587   670   739   771   897   \n",
              "4       NaN    신재생     -     -     -     -     -     -     -     -     -   \n",
              "5        북한     합계   277   263   247   221   231   230   213   193   170   \n",
              "6       NaN     수력   156   150   142   133   138   142   125   107   102   \n",
              "7       NaN     화력   121   113   105    88    93    88    88    86    68   \n",
              "8       NaN    원자력     -     -     -     -     -     -     -     -     -   \n",
              "\n",
              "   1999  2000  2001  2002  2003  2004  2005  2006  2007  2008  2009  2010  \\\n",
              "0  2393  2664  2852  3065  3225  3421  3646  3812  4031  4224  4336  4747   \n",
              "1    61    56    42    53    69    59    52    52    50    56    56    65   \n",
              "2  1302  1518  1689  1821  1859  2056  2127  2272  2551  2658  2802  3196   \n",
              "3  1031  1090  1121  1191  1297  1307  1468  1487  1429  1510  1478  1486   \n",
              "4     -     -     -     -     -     -     -     -     -     -     -     -   \n",
              "5   186   194   202   190   196   206   215   225   236   255   235   237   \n",
              "6   103   102   106   106   117   125   131   126   133   141   125   134   \n",
              "7    83    92    96    84    79    81    84    99   103   114   110   103   \n",
              "8     -     -     -     -     -     -     -     -     -     -     -     -   \n",
              "\n",
              "   2011  2012  2013  2014  2015  2016  \n",
              "0  4969  5096  5171  5220  5281  5404  \n",
              "1    78    77    84    78    58    66  \n",
              "2  3343  3430  3581  3427  3402  3523  \n",
              "3  1547  1503  1388  1564  1648  1620  \n",
              "4     -    86   118   151   173   195  \n",
              "5   211   215   221   216   190   239  \n",
              "6   132   135   139   130   100   128  \n",
              "7    79    80    82    86    90   111  \n",
              "8     -     -     -     -     -     -  "
            ]
          },
          "metadata": {},
          "execution_count": 256
        }
      ]
    },
    {
      "cell_type": "markdown",
      "metadata": {
        "id": "tdfXctZ9bkJ6"
      },
      "source": [
        "남한과 북한의 전력 발전량 합계만 추출합니다."
      ]
    },
    {
      "cell_type": "code",
      "metadata": {
        "colab": {
          "base_uri": "https://localhost:8080/",
          "height": 111
        },
        "id": "_GiDfC1-ZulZ",
        "outputId": "658e74ed-d015-4434-d9df-d8f88da0f880"
      },
      "source": [
        "df_kor_elec_sum = df_kor_elec.iloc[[0, 5], 2:]\n",
        "df_kor_elec_sum"
      ],
      "execution_count": 259,
      "outputs": [
        {
          "output_type": "execute_result",
          "data": {
            "text/html": [
              "<div>\n",
              "<style scoped>\n",
              "    .dataframe tbody tr th:only-of-type {\n",
              "        vertical-align: middle;\n",
              "    }\n",
              "\n",
              "    .dataframe tbody tr th {\n",
              "        vertical-align: top;\n",
              "    }\n",
              "\n",
              "    .dataframe thead th {\n",
              "        text-align: right;\n",
              "    }\n",
              "</style>\n",
              "<table border=\"1\" class=\"dataframe\">\n",
              "  <thead>\n",
              "    <tr style=\"text-align: right;\">\n",
              "      <th></th>\n",
              "      <th>1990</th>\n",
              "      <th>1991</th>\n",
              "      <th>1992</th>\n",
              "      <th>1993</th>\n",
              "      <th>1994</th>\n",
              "      <th>1995</th>\n",
              "      <th>1996</th>\n",
              "      <th>1997</th>\n",
              "      <th>1998</th>\n",
              "      <th>1999</th>\n",
              "      <th>2000</th>\n",
              "      <th>2001</th>\n",
              "      <th>2002</th>\n",
              "      <th>2003</th>\n",
              "      <th>2004</th>\n",
              "      <th>2005</th>\n",
              "      <th>2006</th>\n",
              "      <th>2007</th>\n",
              "      <th>2008</th>\n",
              "      <th>2009</th>\n",
              "      <th>2010</th>\n",
              "      <th>2011</th>\n",
              "      <th>2012</th>\n",
              "      <th>2013</th>\n",
              "      <th>2014</th>\n",
              "      <th>2015</th>\n",
              "      <th>2016</th>\n",
              "    </tr>\n",
              "  </thead>\n",
              "  <tbody>\n",
              "    <tr>\n",
              "      <th>0</th>\n",
              "      <td>1077</td>\n",
              "      <td>1186</td>\n",
              "      <td>1310</td>\n",
              "      <td>1444</td>\n",
              "      <td>1650</td>\n",
              "      <td>1847</td>\n",
              "      <td>2055</td>\n",
              "      <td>2244</td>\n",
              "      <td>2153</td>\n",
              "      <td>2393</td>\n",
              "      <td>2664</td>\n",
              "      <td>2852</td>\n",
              "      <td>3065</td>\n",
              "      <td>3225</td>\n",
              "      <td>3421</td>\n",
              "      <td>3646</td>\n",
              "      <td>3812</td>\n",
              "      <td>4031</td>\n",
              "      <td>4224</td>\n",
              "      <td>4336</td>\n",
              "      <td>4747</td>\n",
              "      <td>4969</td>\n",
              "      <td>5096</td>\n",
              "      <td>5171</td>\n",
              "      <td>5220</td>\n",
              "      <td>5281</td>\n",
              "      <td>5404</td>\n",
              "    </tr>\n",
              "    <tr>\n",
              "      <th>5</th>\n",
              "      <td>277</td>\n",
              "      <td>263</td>\n",
              "      <td>247</td>\n",
              "      <td>221</td>\n",
              "      <td>231</td>\n",
              "      <td>230</td>\n",
              "      <td>213</td>\n",
              "      <td>193</td>\n",
              "      <td>170</td>\n",
              "      <td>186</td>\n",
              "      <td>194</td>\n",
              "      <td>202</td>\n",
              "      <td>190</td>\n",
              "      <td>196</td>\n",
              "      <td>206</td>\n",
              "      <td>215</td>\n",
              "      <td>225</td>\n",
              "      <td>236</td>\n",
              "      <td>255</td>\n",
              "      <td>235</td>\n",
              "      <td>237</td>\n",
              "      <td>211</td>\n",
              "      <td>215</td>\n",
              "      <td>221</td>\n",
              "      <td>216</td>\n",
              "      <td>190</td>\n",
              "      <td>239</td>\n",
              "    </tr>\n",
              "  </tbody>\n",
              "</table>\n",
              "</div>"
            ],
            "text/plain": [
              "   1990  1991  1992  1993  1994  1995  1996  1997  1998  1999  2000  2001  \\\n",
              "0  1077  1186  1310  1444  1650  1847  2055  2244  2153  2393  2664  2852   \n",
              "5   277   263   247   221   231   230   213   193   170   186   194   202   \n",
              "\n",
              "   2002  2003  2004  2005  2006  2007  2008  2009  2010  2011  2012  2013  \\\n",
              "0  3065  3225  3421  3646  3812  4031  4224  4336  4747  4969  5096  5171   \n",
              "5   190   196   206   215   225   236   255   235   237   211   215   221   \n",
              "\n",
              "   2014  2015  2016  \n",
              "0  5220  5281  5404  \n",
              "5   216   190   239  "
            ]
          },
          "metadata": {},
          "execution_count": 259
        }
      ]
    },
    {
      "cell_type": "markdown",
      "metadata": {
        "id": "4_pPFmPwbpjA"
      },
      "source": [
        "행명을 남한과 북한으로 바꿉니다."
      ]
    },
    {
      "cell_type": "code",
      "metadata": {
        "colab": {
          "base_uri": "https://localhost:8080/"
        },
        "id": "BQlZN2fqbtoM",
        "outputId": "5e3ec5d2-fdb0-484f-b123-4324b6b95cf7"
      },
      "source": [
        "df_kor_elec_sum.index = ['South', 'North']\n",
        "df_kor_elec_sum.index"
      ],
      "execution_count": 261,
      "outputs": [
        {
          "output_type": "execute_result",
          "data": {
            "text/plain": [
              "Index(['South', 'North'], dtype='object')"
            ]
          },
          "metadata": {},
          "execution_count": 261
        }
      ]
    },
    {
      "cell_type": "markdown",
      "metadata": {
        "id": "207SFKT9cDAh"
      },
      "source": [
        "`map()` 메서드를 활용하여 열을 정수형으로 바꾸겠습니다. 이 메서드에 `int()` 메서드의 `int`만 전달합니다."
      ]
    },
    {
      "cell_type": "code",
      "metadata": {
        "colab": {
          "base_uri": "https://localhost:8080/"
        },
        "id": "-Xhn0w7HcCrv",
        "outputId": "153d165f-6333-405c-d11e-787f7ece9cf2"
      },
      "source": [
        "df_kor_elec_sum.columns = df_kor_elec_sum.columns.map(int)\n",
        "df_kor_elec_sum.columns"
      ],
      "execution_count": 265,
      "outputs": [
        {
          "output_type": "execute_result",
          "data": {
            "text/plain": [
              "Int64Index([1990, 1991, 1992, 1993, 1994, 1995, 1996, 1997, 1998, 1999, 2000,\n",
              "            2001, 2002, 2003, 2004, 2005, 2006, 2007, 2008, 2009, 2010, 2011,\n",
              "            2012, 2013, 2014, 2015, 2016],\n",
              "           dtype='int64')"
            ]
          },
          "metadata": {},
          "execution_count": 265
        }
      ]
    },
    {
      "cell_type": "code",
      "metadata": {
        "colab": {
          "base_uri": "https://localhost:8080/",
          "height": 131
        },
        "id": "bmIlk8unc1Dr",
        "outputId": "d7281b47-f1fb-4052-8bdf-669bac2676be"
      },
      "source": [
        "df_kor_elec_sum"
      ],
      "execution_count": 280,
      "outputs": [
        {
          "output_type": "execute_result",
          "data": {
            "text/html": [
              "<div>\n",
              "<style scoped>\n",
              "    .dataframe tbody tr th:only-of-type {\n",
              "        vertical-align: middle;\n",
              "    }\n",
              "\n",
              "    .dataframe tbody tr th {\n",
              "        vertical-align: top;\n",
              "    }\n",
              "\n",
              "    .dataframe thead th {\n",
              "        text-align: right;\n",
              "    }\n",
              "</style>\n",
              "<table border=\"1\" class=\"dataframe\">\n",
              "  <thead>\n",
              "    <tr style=\"text-align: right;\">\n",
              "      <th></th>\n",
              "      <th>1990</th>\n",
              "      <th>1991</th>\n",
              "      <th>1992</th>\n",
              "      <th>1993</th>\n",
              "      <th>1994</th>\n",
              "      <th>1995</th>\n",
              "      <th>1996</th>\n",
              "      <th>1997</th>\n",
              "      <th>1998</th>\n",
              "      <th>1999</th>\n",
              "      <th>2000</th>\n",
              "      <th>2001</th>\n",
              "      <th>2002</th>\n",
              "      <th>2003</th>\n",
              "      <th>2004</th>\n",
              "      <th>2005</th>\n",
              "      <th>2006</th>\n",
              "      <th>2007</th>\n",
              "      <th>2008</th>\n",
              "      <th>2009</th>\n",
              "      <th>2010</th>\n",
              "      <th>2011</th>\n",
              "      <th>2012</th>\n",
              "      <th>2013</th>\n",
              "      <th>2014</th>\n",
              "      <th>2015</th>\n",
              "      <th>2016</th>\n",
              "    </tr>\n",
              "  </thead>\n",
              "  <tbody>\n",
              "    <tr>\n",
              "      <th>South</th>\n",
              "      <td>1077</td>\n",
              "      <td>1186</td>\n",
              "      <td>1310</td>\n",
              "      <td>1444</td>\n",
              "      <td>1650</td>\n",
              "      <td>1847</td>\n",
              "      <td>2055</td>\n",
              "      <td>2244</td>\n",
              "      <td>2153</td>\n",
              "      <td>2393</td>\n",
              "      <td>2664</td>\n",
              "      <td>2852</td>\n",
              "      <td>3065</td>\n",
              "      <td>3225</td>\n",
              "      <td>3421</td>\n",
              "      <td>3646</td>\n",
              "      <td>3812</td>\n",
              "      <td>4031</td>\n",
              "      <td>4224</td>\n",
              "      <td>4336</td>\n",
              "      <td>4747</td>\n",
              "      <td>4969</td>\n",
              "      <td>5096</td>\n",
              "      <td>5171</td>\n",
              "      <td>5220</td>\n",
              "      <td>5281</td>\n",
              "      <td>5404</td>\n",
              "    </tr>\n",
              "    <tr>\n",
              "      <th>North</th>\n",
              "      <td>277</td>\n",
              "      <td>263</td>\n",
              "      <td>247</td>\n",
              "      <td>221</td>\n",
              "      <td>231</td>\n",
              "      <td>230</td>\n",
              "      <td>213</td>\n",
              "      <td>193</td>\n",
              "      <td>170</td>\n",
              "      <td>186</td>\n",
              "      <td>194</td>\n",
              "      <td>202</td>\n",
              "      <td>190</td>\n",
              "      <td>196</td>\n",
              "      <td>206</td>\n",
              "      <td>215</td>\n",
              "      <td>225</td>\n",
              "      <td>236</td>\n",
              "      <td>255</td>\n",
              "      <td>235</td>\n",
              "      <td>237</td>\n",
              "      <td>211</td>\n",
              "      <td>215</td>\n",
              "      <td>221</td>\n",
              "      <td>216</td>\n",
              "      <td>190</td>\n",
              "      <td>239</td>\n",
              "    </tr>\n",
              "  </tbody>\n",
              "</table>\n",
              "</div>"
            ],
            "text/plain": [
              "       1990  1991  1992  1993  1994  1995  1996  1997  1998  1999  2000  2001  \\\n",
              "South  1077  1186  1310  1444  1650  1847  2055  2244  2153  2393  2664  2852   \n",
              "North   277   263   247   221   231   230   213   193   170   186   194   202   \n",
              "\n",
              "       2002  2003  2004  2005  2006  2007  2008  2009  2010  2011  2012  2013  \\\n",
              "South  3065  3225  3421  3646  3812  4031  4224  4336  4747  4969  5096  5171   \n",
              "North   190   196   206   215   225   236   255   235   237   211   215   221   \n",
              "\n",
              "       2014  2015  2016  \n",
              "South  5220  5281  5404  \n",
              "North   216   190   239  "
            ]
          },
          "metadata": {},
          "execution_count": 280
        }
      ]
    },
    {
      "cell_type": "markdown",
      "metadata": {
        "id": "QqaGHgk6eDys"
      },
      "source": [
        "선 그래프를 그리겠습니다."
      ]
    },
    {
      "cell_type": "code",
      "metadata": {
        "colab": {
          "base_uri": "https://localhost:8080/",
          "height": 479
        },
        "id": "Q3HQDQEpeIUy",
        "outputId": "519fa8f8-2333-4f1f-d78c-d325ad896c1c"
      },
      "source": [
        "df_kor_elec_sum.plot()"
      ],
      "execution_count": 274,
      "outputs": [
        {
          "output_type": "execute_result",
          "data": {
            "text/plain": [
              "<matplotlib.axes._subplots.AxesSubplot at 0x7f53d2434910>"
            ]
          },
          "metadata": {},
          "execution_count": 274
        },
        {
          "output_type": "display_data",
          "data": {
            "image/png": "[encoded data removed]",
            "text/plain": [
              "<Figure size 432x288 with 1 Axes>"
            ]
          },
          "metadata": {
            "needs_background": "light"
          }
        }
      ]
    },
    {
      "cell_type": "markdown",
      "metadata": {
        "id": "6X1rG2SGfiI4"
      },
      "source": [
        "연도에 따라 변화하는 수치를 표현하려면 x축과 y축을 바꿔야 합니다. x축에 연도를 위치시키고 y축에 전력량을 위치시키는 것입니다. 행렬을 전치해야 합니다."
      ]
    },
    {
      "cell_type": "code",
      "metadata": {
        "colab": {
          "base_uri": "https://localhost:8080/",
          "height": 283
        },
        "id": "sQx29BcJhr8P",
        "outputId": "12fa1547-67b1-4b9f-beee-6601a2a46fc0"
      },
      "source": [
        "df_kor_elec_sum.T.plot()"
      ],
      "execution_count": 275,
      "outputs": [
        {
          "output_type": "execute_result",
          "data": {
            "text/plain": [
              "<matplotlib.axes._subplots.AxesSubplot at 0x7f53d468cfd0>"
            ]
          },
          "metadata": {},
          "execution_count": 275
        },
        {
          "output_type": "display_data",
          "data": {
            "image/png": "[encoded data removed]",
            "text/plain": [
              "<Figure size 432x288 with 1 Axes>"
            ]
          },
          "metadata": {
            "needs_background": "light"
          }
        }
      ]
    },
    {
      "cell_type": "markdown",
      "metadata": {
        "id": "QYmPoHWwiSjj"
      },
      "source": [
        "막대 그래프를 그리겠습니다. 방법은 같지만 `kind` 매개변수에 `'bar'`라는 인자를 지정합니다."
      ]
    },
    {
      "cell_type": "code",
      "metadata": {
        "colab": {
          "base_uri": "https://localhost:8080/",
          "height": 299
        },
        "id": "AU2M5TY7iefu",
        "outputId": "5319d47c-e8ab-4b9d-ecdd-5f4a0cdbfad7"
      },
      "source": [
        "df_kor_elec_sum.T.plot(kind='bar')"
      ],
      "execution_count": 281,
      "outputs": [
        {
          "output_type": "execute_result",
          "data": {
            "text/plain": [
              "<matplotlib.axes._subplots.AxesSubplot at 0x7f53d26fe690>"
            ]
          },
          "metadata": {},
          "execution_count": 281
        },
        {
          "output_type": "display_data",
          "data": {
            "image/png": "[encoded data removed]",
            "text/plain": [
              "<Figure size 432x288 with 1 Axes>"
            ]
          },
          "metadata": {
            "needs_background": "light"
          }
        }
      ]
    },
    {
      "cell_type": "markdown",
      "metadata": {
        "id": "NyI-z_XBikNt"
      },
      "source": [
        "히스토그램을 그리겠습니다. `'hist'` 인자를 지정합니다."
      ]
    },
    {
      "cell_type": "code",
      "metadata": {
        "colab": {
          "base_uri": "https://localhost:8080/",
          "height": 283
        },
        "id": "iuBB_JXSiqPM",
        "outputId": "0d73481b-285f-4ab0-9916-d9b3a6bd7905"
      },
      "source": [
        "df_kor_elec_sum.T.plot(kind='hist')"
      ],
      "execution_count": 284,
      "outputs": [
        {
          "output_type": "execute_result",
          "data": {
            "text/plain": [
              "<matplotlib.axes._subplots.AxesSubplot at 0x7f53d4548e10>"
            ]
          },
          "metadata": {},
          "execution_count": 284
        },
        {
          "output_type": "display_data",
          "data": {
            "image/png": "[encoded data removed]",
            "text/plain": [
              "<Figure size 432x288 with 1 Axes>"
            ]
          },
          "metadata": {
            "needs_background": "light"
          }
        }
      ]
    },
    {
      "cell_type": "markdown",
      "metadata": {
        "id": "zpuEpuAcjMaW"
      },
      "source": [
        "산점도를 그리겠습니다. UCI 자동차 연비 데이터셋을 사용하겠습니다.\n",
        "\n",
        "먼저 데이터셋을 읽습니다. 이 데이터셋은 `csv` 파일입니다."
      ]
    },
    {
      "cell_type": "code",
      "metadata": {
        "colab": {
          "base_uri": "https://localhost:8080/",
          "height": 418
        },
        "id": "HgXBBvN_jbil",
        "outputId": "1978dac6-0caf-4b59-e490-f7bf86557298"
      },
      "source": [
        "df_mileage = pd.read_csv('/content/gdrive/MyDrive/Python_for_Data_Analytics_Science/5674-833_4th/part3/auto-mpg.csv',\n",
        "                         header=None)\n",
        "df_mileage.columns = ['mpg', 'cylinders', 'displacement', 'horsepower', 'weight',\n",
        "                      'acceleration', 'model year', 'origin', 'name']\n",
        "df_mileage"
      ],
      "execution_count": 288,
      "outputs": [
        {
          "output_type": "execute_result",
          "data": {
            "text/html": [
              "<div>\n",
              "<style scoped>\n",
              "    .dataframe tbody tr th:only-of-type {\n",
              "        vertical-align: middle;\n",
              "    }\n",
              "\n",
              "    .dataframe tbody tr th {\n",
              "        vertical-align: top;\n",
              "    }\n",
              "\n",
              "    .dataframe thead th {\n",
              "        text-align: right;\n",
              "    }\n",
              "</style>\n",
              "<table border=\"1\" class=\"dataframe\">\n",
              "  <thead>\n",
              "    <tr style=\"text-align: right;\">\n",
              "      <th></th>\n",
              "      <th>mpg</th>\n",
              "      <th>cylinders</th>\n",
              "      <th>displacement</th>\n",
              "      <th>horsepower</th>\n",
              "      <th>weight</th>\n",
              "      <th>acceleration</th>\n",
              "      <th>model year</th>\n",
              "      <th>origin</th>\n",
              "      <th>name</th>\n",
              "    </tr>\n",
              "  </thead>\n",
              "  <tbody>\n",
              "    <tr>\n",
              "      <th>0</th>\n",
              "      <td>18.0</td>\n",
              "      <td>8</td>\n",
              "      <td>307.0</td>\n",
              "      <td>130.0</td>\n",
              "      <td>3504.0</td>\n",
              "      <td>12.0</td>\n",
              "      <td>70</td>\n",
              "      <td>1</td>\n",
              "      <td>chevrolet chevelle malibu</td>\n",
              "    </tr>\n",
              "    <tr>\n",
              "      <th>1</th>\n",
              "      <td>15.0</td>\n",
              "      <td>8</td>\n",
              "      <td>350.0</td>\n",
              "      <td>165.0</td>\n",
              "      <td>3693.0</td>\n",
              "      <td>11.5</td>\n",
              "      <td>70</td>\n",
              "      <td>1</td>\n",
              "      <td>buick skylark 320</td>\n",
              "    </tr>\n",
              "    <tr>\n",
              "      <th>2</th>\n",
              "      <td>18.0</td>\n",
              "      <td>8</td>\n",
              "      <td>318.0</td>\n",
              "      <td>150.0</td>\n",
              "      <td>3436.0</td>\n",
              "      <td>11.0</td>\n",
              "      <td>70</td>\n",
              "      <td>1</td>\n",
              "      <td>plymouth satellite</td>\n",
              "    </tr>\n",
              "    <tr>\n",
              "      <th>3</th>\n",
              "      <td>16.0</td>\n",
              "      <td>8</td>\n",
              "      <td>304.0</td>\n",
              "      <td>150.0</td>\n",
              "      <td>3433.0</td>\n",
              "      <td>12.0</td>\n",
              "      <td>70</td>\n",
              "      <td>1</td>\n",
              "      <td>amc rebel sst</td>\n",
              "    </tr>\n",
              "    <tr>\n",
              "      <th>4</th>\n",
              "      <td>17.0</td>\n",
              "      <td>8</td>\n",
              "      <td>302.0</td>\n",
              "      <td>140.0</td>\n",
              "      <td>3449.0</td>\n",
              "      <td>10.5</td>\n",
              "      <td>70</td>\n",
              "      <td>1</td>\n",
              "      <td>ford torino</td>\n",
              "    </tr>\n",
              "    <tr>\n",
              "      <th>...</th>\n",
              "      <td>...</td>\n",
              "      <td>...</td>\n",
              "      <td>...</td>\n",
              "      <td>...</td>\n",
              "      <td>...</td>\n",
              "      <td>...</td>\n",
              "      <td>...</td>\n",
              "      <td>...</td>\n",
              "      <td>...</td>\n",
              "    </tr>\n",
              "    <tr>\n",
              "      <th>393</th>\n",
              "      <td>27.0</td>\n",
              "      <td>4</td>\n",
              "      <td>140.0</td>\n",
              "      <td>86.00</td>\n",
              "      <td>2790.0</td>\n",
              "      <td>15.6</td>\n",
              "      <td>82</td>\n",
              "      <td>1</td>\n",
              "      <td>ford mustang gl</td>\n",
              "    </tr>\n",
              "    <tr>\n",
              "      <th>394</th>\n",
              "      <td>44.0</td>\n",
              "      <td>4</td>\n",
              "      <td>97.0</td>\n",
              "      <td>52.00</td>\n",
              "      <td>2130.0</td>\n",
              "      <td>24.6</td>\n",
              "      <td>82</td>\n",
              "      <td>2</td>\n",
              "      <td>vw pickup</td>\n",
              "    </tr>\n",
              "    <tr>\n",
              "      <th>395</th>\n",
              "      <td>32.0</td>\n",
              "      <td>4</td>\n",
              "      <td>135.0</td>\n",
              "      <td>84.00</td>\n",
              "      <td>2295.0</td>\n",
              "      <td>11.6</td>\n",
              "      <td>82</td>\n",
              "      <td>1</td>\n",
              "      <td>dodge rampage</td>\n",
              "    </tr>\n",
              "    <tr>\n",
              "      <th>396</th>\n",
              "      <td>28.0</td>\n",
              "      <td>4</td>\n",
              "      <td>120.0</td>\n",
              "      <td>79.00</td>\n",
              "      <td>2625.0</td>\n",
              "      <td>18.6</td>\n",
              "      <td>82</td>\n",
              "      <td>1</td>\n",
              "      <td>ford ranger</td>\n",
              "    </tr>\n",
              "    <tr>\n",
              "      <th>397</th>\n",
              "      <td>31.0</td>\n",
              "      <td>4</td>\n",
              "      <td>119.0</td>\n",
              "      <td>82.00</td>\n",
              "      <td>2720.0</td>\n",
              "      <td>19.4</td>\n",
              "      <td>82</td>\n",
              "      <td>1</td>\n",
              "      <td>chevy s-10</td>\n",
              "    </tr>\n",
              "  </tbody>\n",
              "</table>\n",
              "<p>398 rows × 9 columns</p>\n",
              "</div>"
            ],
            "text/plain": [
              "      mpg  cylinders  displacement horsepower  weight  acceleration  \\\n",
              "0    18.0          8         307.0      130.0  3504.0          12.0   \n",
              "1    15.0          8         350.0      165.0  3693.0          11.5   \n",
              "2    18.0          8         318.0      150.0  3436.0          11.0   \n",
              "3    16.0          8         304.0      150.0  3433.0          12.0   \n",
              "4    17.0          8         302.0      140.0  3449.0          10.5   \n",
              "..    ...        ...           ...        ...     ...           ...   \n",
              "393  27.0          4         140.0      86.00  2790.0          15.6   \n",
              "394  44.0          4          97.0      52.00  2130.0          24.6   \n",
              "395  32.0          4         135.0      84.00  2295.0          11.6   \n",
              "396  28.0          4         120.0      79.00  2625.0          18.6   \n",
              "397  31.0          4         119.0      82.00  2720.0          19.4   \n",
              "\n",
              "     model year  origin                       name  \n",
              "0            70       1  chevrolet chevelle malibu  \n",
              "1            70       1          buick skylark 320  \n",
              "2            70       1         plymouth satellite  \n",
              "3            70       1              amc rebel sst  \n",
              "4            70       1                ford torino  \n",
              "..          ...     ...                        ...  \n",
              "393          82       1            ford mustang gl  \n",
              "394          82       2                  vw pickup  \n",
              "395          82       1              dodge rampage  \n",
              "396          82       1                ford ranger  \n",
              "397          82       1                 chevy s-10  \n",
              "\n",
              "[398 rows x 9 columns]"
            ]
          },
          "metadata": {},
          "execution_count": 288
        }
      ]
    },
    {
      "cell_type": "code",
      "metadata": {
        "colab": {
          "base_uri": "https://localhost:8080/",
          "height": 297
        },
        "id": "O7YZWAl9kbXd",
        "outputId": "e847f176-5313-4bb0-e667-b7d9bb319ca1"
      },
      "source": [
        "df_mileage.plot(x='weight', y='mpg', kind='scatter')"
      ],
      "execution_count": 294,
      "outputs": [
        {
          "output_type": "execute_result",
          "data": {
            "text/plain": [
              "<matplotlib.axes._subplots.AxesSubplot at 0x7f53d0bf1b90>"
            ]
          },
          "metadata": {},
          "execution_count": 294
        },
        {
          "output_type": "display_data",
          "data": {
            "image/png": "[encoded data removed]",
            "text/plain": [
              "<Figure size 432x288 with 1 Axes>"
            ]
          },
          "metadata": {
            "needs_background": "light"
          }
        }
      ]
    },
    {
      "cell_type": "markdown",
      "metadata": {
        "id": "cSei4uwYnrR2"
      },
      "source": [
        "마지막으로 박스 플롯을 그리겠습니다. 데이터 분포와 분산 정도에 대한 정보를 나타냅니다."
      ]
    },
    {
      "cell_type": "code",
      "metadata": {
        "colab": {
          "base_uri": "https://localhost:8080/",
          "height": 283
        },
        "id": "x4wkeogdnQIB",
        "outputId": "c63843b0-25de-436e-ad69-36bb7eba3107"
      },
      "source": [
        "df_mileage[['mpg', 'cylinders']].plot(kind='box')"
      ],
      "execution_count": 298,
      "outputs": [
        {
          "output_type": "execute_result",
          "data": {
            "text/plain": [
              "<matplotlib.axes._subplots.AxesSubplot at 0x7f53d092fd90>"
            ]
          },
          "metadata": {},
          "execution_count": 298
        },
        {
          "output_type": "display_data",
          "data": {
            "image/png": "[encoded data removed]",
            "text/plain": [
              "<Figure size 432x288 with 1 Axes>"
            ]
          },
          "metadata": {
            "needs_background": "light"
          }
        }
      ]
    }
  ]
}