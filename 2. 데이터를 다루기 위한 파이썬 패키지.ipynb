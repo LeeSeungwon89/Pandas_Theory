{
  "nbformat": 4,
  "nbformat_minor": 0,
  "metadata": {
    "colab": {
      "name": "2. 데이터를 다루기 위한 파이썬 패키지.ipynb",
      "provenance": [],
      "collapsed_sections": [],
      "toc_visible": true,
      "authorship_tag": "ABX9TyPyvvSBszF+9HYmCz+MTpAl",
      "include_colab_link": true
    },
    "kernelspec": {
      "display_name": "Python 3",
      "name": "python3"
    },
    "language_info": {
      "name": "python"
    }
  },
  "cells": [
    {
      "cell_type": "markdown",
      "metadata": {
        "id": "view-in-github",
        "colab_type": "text"
      },
      "source": [
        "<a href=\"https://colab.research.google.com/github/LeeSeungwon89/Python_for_Data_Analytics_Science/blob/main/2.%20%EB%8D%B0%EC%9D%B4%ED%84%B0%EB%A5%BC%20%EB%8B%A4%EB%A3%A8%EA%B8%B0%20%EC%9C%84%ED%95%9C%20%ED%8C%8C%EC%9D%B4%EC%8D%AC%20%ED%8C%A8%ED%82%A4%EC%A7%80.ipynb\" target=\"_parent\"><img src=\"https://colab.research.google.com/assets/colab-badge.svg\" alt=\"Open In Colab\"/></a>"
      ]
    },
    {
      "cell_type": "markdown",
      "metadata": {
        "id": "SMUQKDwrmEFa"
      },
      "source": [
        "# **1. Numpy**"
      ]
    },
    {
      "cell_type": "markdown",
      "metadata": {
        "id": "WxDwjUmB1-K5"
      },
      "source": [
        "넘파이는 데이터를 다루는 데 필수적인 패키지입니다. 과학적인 연산을 빠르고 쉽게 해줍니다. 아래에는 몇 가지 내용만 정리하겠습니다. 이외 구체적인 정보는 [넘파이 홈페이지](https://www.numpy.org)에 정리되어 있습니다."
      ]
    },
    {
      "cell_type": "markdown",
      "metadata": {
        "id": "zZRYD1Qn5iHF"
      },
      "source": [
        "## **1.1. 배열 만들기**"
      ]
    },
    {
      "cell_type": "markdown",
      "metadata": {
        "id": "96WyF1wW5n3b"
      },
      "source": [
        "배열을 만드는 방법은 여러가지가 있습니다. \n",
        "\n",
        "아래에서 예시로 설명하겠습니다. 먼저 시퀀스 데이터를 인자로 받고 배열 객체를 생성하는 방법입니다."
      ]
    },
    {
      "cell_type": "code",
      "metadata": {
        "colab": {
          "base_uri": "https://localhost:8080/"
        },
        "id": "rs7Ij00e5-sX",
        "outputId": "baacb170-1803-4bbd-c826-1428b1903dcc"
      },
      "source": [
        "import numpy as np\n",
        "# 튜플도 가능하지만 주로 리스트를 사용합니다.\n",
        "# 정수만으로 구성된 리스트입니다.\n",
        "list_int = [0, 1, 2, 3, 4]\n",
        "np_int = np.array(list_int)\n",
        "print(np_int)\n",
        "np_int"
      ],
      "execution_count": null,
      "outputs": [
        {
          "name": "stdout",
          "output_type": "stream",
          "text": [
            "[0 1 2 3 4]\n"
          ]
        },
        {
          "data": {
            "text/plain": [
              "array([0, 1, 2, 3, 4])"
            ]
          },
          "execution_count": 415,
          "metadata": {},
          "output_type": "execute_result"
        }
      ]
    },
    {
      "cell_type": "markdown",
      "metadata": {
        "id": "WyEeeBmk9EzL"
      },
      "source": [
        "배열 속성을 확인합니다."
      ]
    },
    {
      "cell_type": "code",
      "metadata": {
        "colab": {
          "base_uri": "https://localhost:8080/"
        },
        "id": "xEzsW4yz9GiR",
        "outputId": "b8be6577-4bdb-4372-fb93-8e49bccc1034"
      },
      "source": [
        "np_int.dtype"
      ],
      "execution_count": null,
      "outputs": [
        {
          "data": {
            "text/plain": [
              "dtype('int64')"
            ]
          },
          "execution_count": 416,
          "metadata": {},
          "output_type": "execute_result"
        }
      ]
    },
    {
      "cell_type": "markdown",
      "metadata": {
        "id": "lwqqL-mm6jfX"
      },
      "source": [
        "정수와 실수를 함께 포함시켜서 만들겠습니다. 이렇게 하면 모든 원소를 실수 형태로 출력합니다."
      ]
    },
    {
      "cell_type": "code",
      "metadata": {
        "colab": {
          "base_uri": "https://localhost:8080/"
        },
        "id": "X4eW5VEe6q4X",
        "outputId": "f830e2a1-c66a-45a0-fbf7-cf829f50663b"
      },
      "source": [
        "list_combi = [0, 1.2, 3, 4.56, 7]\n",
        "np_combi = np.array(list_combi)\n",
        "np_combi"
      ],
      "execution_count": null,
      "outputs": [
        {
          "data": {
            "text/plain": [
              "array([0.  , 1.2 , 3.  , 4.56, 7.  ])"
            ]
          },
          "execution_count": 417,
          "metadata": {},
          "output_type": "execute_result"
        }
      ]
    },
    {
      "cell_type": "markdown",
      "metadata": {
        "id": "r_FYkDMs8-vl"
      },
      "source": [
        "배열 속성을 확인합니다."
      ]
    },
    {
      "cell_type": "code",
      "metadata": {
        "colab": {
          "base_uri": "https://localhost:8080/"
        },
        "id": "xQ0ZBbu-9Cz0",
        "outputId": "47074c6c-cb53-48a1-b1e8-0e80c2158808"
      },
      "source": [
        "np_combi.dtype"
      ],
      "execution_count": null,
      "outputs": [
        {
          "data": {
            "text/plain": [
              "dtype('float64')"
            ]
          },
          "execution_count": 418,
          "metadata": {},
          "output_type": "execute_result"
        }
      ]
    },
    {
      "cell_type": "markdown",
      "metadata": {
        "id": "gMHESu-18h1J"
      },
      "source": [
        "문자를 함께 포함시키겠습니다. 이렇게 하면 모든 원소를 문자로 간주하게 됩니다."
      ]
    },
    {
      "cell_type": "code",
      "metadata": {
        "colab": {
          "base_uri": "https://localhost:8080/"
        },
        "id": "vUBdmeYE8gOA",
        "outputId": "bb1a5b3f-a0fa-4ead-f234-56769c1d76f9"
      },
      "source": [
        "list_str = [0, '일', 2.3, '사']\n",
        "np_str = np.array(list_str)\n",
        "np_str"
      ],
      "execution_count": null,
      "outputs": [
        {
          "data": {
            "text/plain": [
              "array(['0', '일', '2.3', '사'], dtype='<U21')"
            ]
          },
          "execution_count": 419,
          "metadata": {},
          "output_type": "execute_result"
        }
      ]
    },
    {
      "cell_type": "markdown",
      "metadata": {
        "id": "fy6lpxKR9MIC"
      },
      "source": [
        "배열 속성을 확인합니다. '<U21'는 유니코드 문자열을 의미합니다. 여기서 '21'은 문자 수가 최대 21개라는 점을 의미합니다."
      ]
    },
    {
      "cell_type": "code",
      "metadata": {
        "colab": {
          "base_uri": "https://localhost:8080/"
        },
        "id": "bM1LhHFG8JCz",
        "outputId": "ea033ab9-e2e6-4a9e-d7f1-62943018ada7"
      },
      "source": [
        "np_str.dtype"
      ],
      "execution_count": null,
      "outputs": [
        {
          "data": {
            "text/plain": [
              "dtype('<U21')"
            ]
          },
          "execution_count": 420,
          "metadata": {},
          "output_type": "execute_result"
        }
      ]
    },
    {
      "cell_type": "markdown",
      "metadata": {
        "id": "nTYoJUke92Em"
      },
      "source": [
        "`np.array(리스트)` 형식으로 바로 배열 객체를 만들 수도 있습니다."
      ]
    },
    {
      "cell_type": "code",
      "metadata": {
        "colab": {
          "base_uri": "https://localhost:8080/"
        },
        "id": "gHNJFAuc-DqO",
        "outputId": "1f8d48b7-9ba6-4eaf-be2d-cdee348dfe22"
      },
      "source": [
        "np_direct1 = np.array([0, 1, 2, 3, 4])\n",
        "np_direct1"
      ],
      "execution_count": null,
      "outputs": [
        {
          "data": {
            "text/plain": [
              "array([0, 1, 2, 3, 4])"
            ]
          },
          "execution_count": 421,
          "metadata": {},
          "output_type": "execute_result"
        }
      ]
    },
    {
      "cell_type": "code",
      "metadata": {
        "colab": {
          "base_uri": "https://localhost:8080/"
        },
        "id": "4w-ozdZ8-QyI",
        "outputId": "ba0ac3f2-f059-4a55-dcaa-723c0f93d420"
      },
      "source": [
        "np_direct2 = np.array([[0, 1, 2], [3, 4, 5], [6, 7, 8]])\n",
        "np_direct2"
      ],
      "execution_count": null,
      "outputs": [
        {
          "data": {
            "text/plain": [
              "array([[0, 1, 2],\n",
              "       [3, 4, 5],\n",
              "       [6, 7, 8]])"
            ]
          },
          "execution_count": 422,
          "metadata": {},
          "output_type": "execute_result"
        }
      ]
    },
    {
      "cell_type": "markdown",
      "metadata": {
        "id": "3yX-jv7jAY5N"
      },
      "source": [
        "범위를 지정해서 배열을 만들 수 있습니다. 파이썬 `range()` 함수와 유사하게 넘파이는 `arange()` 함수를 사용합니다."
      ]
    },
    {
      "cell_type": "code",
      "metadata": {
        "colab": {
          "base_uri": "https://localhost:8080/"
        },
        "id": "KCCfdRmuArfb",
        "outputId": "bb4dbf3b-256f-44d4-caca-d02c6116ccb9"
      },
      "source": [
        "np.arange(0, 10, 2)"
      ],
      "execution_count": null,
      "outputs": [
        {
          "data": {
            "text/plain": [
              "array([0, 2, 4, 6, 8])"
            ]
          },
          "execution_count": 423,
          "metadata": {},
          "output_type": "execute_result"
        }
      ]
    },
    {
      "cell_type": "code",
      "metadata": {
        "colab": {
          "base_uri": "https://localhost:8080/"
        },
        "id": "uwkZkKouAyrI",
        "outputId": "1020cbe4-b554-4926-b4cc-e5b547513ee8"
      },
      "source": [
        "np.arange(0, 10)"
      ],
      "execution_count": null,
      "outputs": [
        {
          "data": {
            "text/plain": [
              "array([0, 1, 2, 3, 4, 5, 6, 7, 8, 9])"
            ]
          },
          "execution_count": 424,
          "metadata": {},
          "output_type": "execute_result"
        }
      ]
    },
    {
      "cell_type": "code",
      "metadata": {
        "colab": {
          "base_uri": "https://localhost:8080/"
        },
        "id": "FJJElwB1A1or",
        "outputId": "119594f8-e0c3-47ed-c20a-06f2e76afbda"
      },
      "source": [
        "np.arange(10)"
      ],
      "execution_count": null,
      "outputs": [
        {
          "data": {
            "text/plain": [
              "array([0, 1, 2, 3, 4, 5, 6, 7, 8, 9])"
            ]
          },
          "execution_count": 425,
          "metadata": {},
          "output_type": "execute_result"
        }
      ]
    },
    {
      "cell_type": "markdown",
      "metadata": {
        "id": "jb1HbQmfBAq9"
      },
      "source": [
        "`arange()` 함수에 `reshape()` 함수를 더하면 행렬 형태로 변경할 수 있습니다."
      ]
    },
    {
      "cell_type": "code",
      "metadata": {
        "colab": {
          "base_uri": "https://localhost:8080/"
        },
        "id": "RLjuGEx_BKmM",
        "outputId": "a8b363ee-e253-43a5-ef24-984d60a66c54"
      },
      "source": [
        "np.arange(8).reshape(4, 2)"
      ],
      "execution_count": null,
      "outputs": [
        {
          "data": {
            "text/plain": [
              "array([[0, 1],\n",
              "       [2, 3],\n",
              "       [4, 5],\n",
              "       [6, 7]])"
            ]
          },
          "execution_count": 426,
          "metadata": {},
          "output_type": "execute_result"
        }
      ]
    },
    {
      "cell_type": "markdown",
      "metadata": {
        "id": "QnjKCE3GBg5X"
      },
      "source": [
        "배열 형태를 확인하겠습니다. 참고로 1차원 배열은 `(원소 개수,)` 형태로 출력됩니다. 예컨대 원소 개수가 34개라면 `(34,)`로 출력됩니다."
      ]
    },
    {
      "cell_type": "code",
      "metadata": {
        "colab": {
          "base_uri": "https://localhost:8080/"
        },
        "id": "2JEHpo3ABlet",
        "outputId": "4c1be74e-7377-493f-f440-40caa10baa5d"
      },
      "source": [
        "np_reshape = np.arange(8).reshape(4, 2)\n",
        "np_reshape.shape"
      ],
      "execution_count": null,
      "outputs": [
        {
          "data": {
            "text/plain": [
              "(4, 2)"
            ]
          },
          "execution_count": 427,
          "metadata": {},
          "output_type": "execute_result"
        }
      ]
    },
    {
      "cell_type": "markdown",
      "metadata": {
        "id": "nP3tiwWXFEOw"
      },
      "source": [
        "`linspace()` 함수를 사용하면 지정한 데이터 개수에 따라 배열을 만듭니다. 0부터 10까지 20개만큼 데이터를 만들겠습니다."
      ]
    },
    {
      "cell_type": "code",
      "metadata": {
        "colab": {
          "base_uri": "https://localhost:8080/"
        },
        "id": "hbalMFYRFMPb",
        "outputId": "8d4e8dc5-56da-4c0f-a6de-ed269dff6f3b"
      },
      "source": [
        "np.linspace(0, 10, 20)"
      ],
      "execution_count": null,
      "outputs": [
        {
          "data": {
            "text/plain": [
              "array([ 0.        ,  0.52631579,  1.05263158,  1.57894737,  2.10526316,\n",
              "        2.63157895,  3.15789474,  3.68421053,  4.21052632,  4.73684211,\n",
              "        5.26315789,  5.78947368,  6.31578947,  6.84210526,  7.36842105,\n",
              "        7.89473684,  8.42105263,  8.94736842,  9.47368421, 10.        ])"
            ]
          },
          "execution_count": 428,
          "metadata": {},
          "output_type": "execute_result"
        }
      ]
    },
    {
      "cell_type": "markdown",
      "metadata": {
        "id": "SJQCy03NF5p-"
      },
      "source": [
        "`zeros()` 함수는 0으로만 이루어진 배열을 만듭니다. `ones()` 함수는 1로만 이루어진 배열을 만듭니다. 사용법은 동일합니다."
      ]
    },
    {
      "cell_type": "code",
      "metadata": {
        "colab": {
          "base_uri": "https://localhost:8080/"
        },
        "id": "iz555Vl-GG1B",
        "outputId": "f047cd55-dc09-4631-a6a4-3222c153042d"
      },
      "source": [
        "zeros_1 = np.zeros(5)\n",
        "print(zeros_1)\n",
        "print()\n",
        "# 2차원 배열을 만들려면 괄호로 한 번 더 묶어야 합니다.\n",
        "ones_2 = np.ones((5, 2))\n",
        "print(ones_2)"
      ],
      "execution_count": null,
      "outputs": [
        {
          "name": "stdout",
          "output_type": "stream",
          "text": [
            "[0. 0. 0. 0. 0.]\n",
            "\n",
            "[[1. 1.]\n",
            " [1. 1.]\n",
            " [1. 1.]\n",
            " [1. 1.]\n",
            " [1. 1.]]\n"
          ]
        }
      ]
    },
    {
      "cell_type": "markdown",
      "metadata": {
        "id": "jiCJmFR8Gn97"
      },
      "source": [
        "`eye()` 함수는 단위행렬(Identity matrix)을 만듭니다. "
      ]
    },
    {
      "cell_type": "code",
      "metadata": {
        "colab": {
          "base_uri": "https://localhost:8080/"
        },
        "id": "BpfO1DUWGxye",
        "outputId": "f92f467b-ada4-4c60-fd7b-c3e752413163"
      },
      "source": [
        "np.eye(5)"
      ],
      "execution_count": null,
      "outputs": [
        {
          "data": {
            "text/plain": [
              "array([[1., 0., 0., 0., 0.],\n",
              "       [0., 1., 0., 0., 0.],\n",
              "       [0., 0., 1., 0., 0.],\n",
              "       [0., 0., 0., 1., 0.],\n",
              "       [0., 0., 0., 0., 1.]])"
            ]
          },
          "execution_count": 430,
          "metadata": {},
          "output_type": "execute_result"
        }
      ]
    },
    {
      "cell_type": "markdown",
      "metadata": {
        "id": "63EwvedCHia0"
      },
      "source": [
        "`rand()` 함수와 `randint()` 함수는 각각 실수 난수와 정수 난수를 생성합니다. "
      ]
    },
    {
      "cell_type": "code",
      "metadata": {
        "colab": {
          "base_uri": "https://localhost:8080/"
        },
        "id": "ht2qcbhLH1aD",
        "outputId": "94eed845-2b9f-4a94-bbb5-85d5a31af443"
      },
      "source": [
        "rand1 = np.random.rand()\n",
        "print(rand1)\n",
        "print()\n",
        "# 2 x 4 배열을 생성합니다.\n",
        "rand2 = np.random.rand(2, 4)\n",
        "print(rand2)\n",
        "print()\n",
        "# 3차원 배열을 생성합니다.\n",
        "rand3 = np.random.rand(2, 4, 6)\n",
        "print(rand3)"
      ],
      "execution_count": null,
      "outputs": [
        {
          "name": "stdout",
          "output_type": "stream",
          "text": [
            "0.9837707618557426\n",
            "\n",
            "[[0.13577353 0.1912522  0.23381359 0.81601344]\n",
            " [0.03142896 0.97003236 0.06070093 0.10983488]]\n",
            "\n",
            "[[[0.93608779 0.23332239 0.74312663 0.03122445 0.39589693 0.09048107]\n",
            "  [0.42776434 0.79369946 0.18952278 0.47988476 0.75426015 0.35795542]\n",
            "  [0.97405025 0.30418187 0.13076124 0.44265178 0.62195072 0.54264427]\n",
            "  [0.61763091 0.83271726 0.70156445 0.74016181 0.2744418  0.21876046]]\n",
            "\n",
            " [[0.85794849 0.79008956 0.76708925 0.54208228 0.45310404 0.8279667 ]\n",
            "  [0.9322277  0.31045191 0.40333947 0.2260105  0.99396931 0.10338896]\n",
            "  [0.8293939  0.45725395 0.02555507 0.69141654 0.34992401 0.94948138]\n",
            "  [0.47694883 0.35273367 0.85996106 0.91555707 0.39934118 0.38179406]]]\n"
          ]
        }
      ]
    },
    {
      "cell_type": "code",
      "metadata": {
        "colab": {
          "base_uri": "https://localhost:8080/"
        },
        "id": "l8L4vDYMJHtf",
        "outputId": "4ad1305b-430d-4ba9-9a03-898999bd3d07"
      },
      "source": [
        "# 5~10 사이의 정수 난수를 생성합니다.\n",
        "randint1 = np.random.randint(5, 10)\n",
        "print(randint1)\n",
        "print()\n",
        "# 0 ~ 10 사이의 정수 난수를 2 x 5 배열로 생성합니다.\n",
        "randint2 = np.random.randint(10, size=(2, 5))\n",
        "print(randint2)\n",
        "print()\n",
        "# 0 ~ 12 사이의 정수 난수를 3차원 배열로 생성합니다.\n",
        "randint3 = np.random.randint(12, size=(3, 2, 5))\n",
        "print(randint3)"
      ],
      "execution_count": null,
      "outputs": [
        {
          "name": "stdout",
          "output_type": "stream",
          "text": [
            "6\n",
            "\n",
            "[[6 6 9 6 5]\n",
            " [8 5 4 3 6]]\n",
            "\n",
            "[[[ 0  5  6  1  0]\n",
            "  [ 6 11  5  2  2]]\n",
            "\n",
            " [[ 0  0  6  1  4]\n",
            "  [ 3  9  8 10  8]]\n",
            "\n",
            " [[ 9 11 11  9 10]\n",
            "  [ 7  2  3  1  1]]]\n"
          ]
        }
      ]
    },
    {
      "cell_type": "markdown",
      "metadata": {
        "id": "ceD5HVSLHV1D"
      },
      "source": [
        "## **1.2. 배열 타입 변환하기**"
      ]
    },
    {
      "cell_type": "markdown",
      "metadata": {
        "id": "Lm0l-YX5K6u2"
      },
      "source": [
        "넘파이 데이터의 형식은 아래와 같습니다.\n",
        "\n",
        "- 'i': 기호를 가진 정수(signed integer)\n",
        "\n",
        "- 'u': 기호가 없는 정수(unsigned integer)\n",
        "\n",
        "- 'f': 실수(floating-point)\n",
        "\n",
        "- 'c': 복소수(complex-floating point)\n",
        "\n",
        "- 'b': 불(bool)\n",
        "\n",
        "- 'O': 파이썬 객체(object)\n",
        "\n",
        "- 'U': 유니코드(unicode)\n",
        "\n",
        "- 'S' or 'a': 바이트 문자열(string)\n",
        "\n",
        "- 'M': 날짜(datetime)"
      ]
    },
    {
      "cell_type": "markdown",
      "metadata": {
        "id": "V0CDlVJlMDoL"
      },
      "source": [
        "`astype()` 함수를 사용하여 배열 타입(형)을 바꿀 수 있습니다. `astype()` 함수에 인자로 `int`(정수형), `float`(실수형), `str`(문자형) 중에 하나를 넣고 배열 형을 변환합니다."
      ]
    },
    {
      "cell_type": "code",
      "metadata": {
        "colab": {
          "base_uri": "https://localhost:8080/"
        },
        "id": "hcnO1oK6K5p5",
        "outputId": "e9e26b89-f8bc-49be-e203-287addf1d7e4"
      },
      "source": [
        "np_str = np.array(['0.1', '2', '3.45', '6.7'])\n",
        "print(f'np_str의 타입은 {np_str.dtype}')\n",
        "# 실수 타입으로 변환합니다.\n",
        "np_astype_float = np_str.astype(float)\n",
        "print(f'np_astype_float의 타입은 {np_astype_float.dtype}')\n",
        "# 정수 타입으로 변환합니다. \n",
        "np_astype_int = np_astype_float.astype(int)\n",
        "print(f'np_astype_int의 타입은 {np_astype_int.dtype}, 원소는 {np_astype_int}')"
      ],
      "execution_count": null,
      "outputs": [
        {
          "name": "stdout",
          "output_type": "stream",
          "text": [
            "np_str의 타입은 <U4\n",
            "np_astype_float의 타입은 float64\n",
            "np_astype_int의 타입은 int64, 원소는 [0 2 3 6]\n"
          ]
        }
      ]
    },
    {
      "cell_type": "markdown",
      "metadata": {
        "id": "MTKkSsjI_EMf"
      },
      "source": [
        "## **1.3. 배열 연산하기**"
      ]
    },
    {
      "cell_type": "markdown",
      "metadata": {
        "id": "pIx0glSxUy0i"
      },
      "source": [
        "통계에 활용하는 여러 함수가 있습니다. 아래는 함수 목록입니다.\n",
        "\n",
        "- `sum()`: 합계\n",
        "\n",
        "- `mean()`: 평균\n",
        "\n",
        "- `std()`: 표준 편차\n",
        "\n",
        "- `var()`: 분산\n",
        "\n",
        "- `max()`: 최댓값\n",
        "\n",
        "- `min()`: 최솟값\n",
        "\n",
        "- `cumsum()`: 누적합\n",
        "\n",
        "- `cumprod()`: 누적곱"
      ]
    },
    {
      "cell_type": "markdown",
      "metadata": {
        "id": "nJmUkcsMWibY"
      },
      "source": [
        "배열을 생성하고 예시를 들겠습니다."
      ]
    },
    {
      "cell_type": "code",
      "metadata": {
        "colab": {
          "base_uri": "https://localhost:8080/"
        },
        "id": "bspnWWDZWgLo",
        "outputId": "b46a08dd-b15c-440f-ca75-7b29ef3afe51"
      },
      "source": [
        "arr_cal = np.arange(7)\n",
        "print(f'arr_cal: {arr_cal}')\n",
        "print(f'sum(): {arr_cal.sum()}')\n",
        "print(f'mean(): {arr_cal.mean()}')\n",
        "print(f'std(): {arr_cal.std()}')\n",
        "print(f'var(): {arr_cal.var()}')\n",
        "print(f'max(): {arr_cal.max()}')\n",
        "print(f'min(): {arr_cal.min()}')\n",
        "print(f'cumsum(): {arr_cal.cumsum()}')\n",
        "print(f'sumprod(): {arr_cal.cumprod()}')"
      ],
      "execution_count": null,
      "outputs": [
        {
          "name": "stdout",
          "output_type": "stream",
          "text": [
            "arr_cal: [0 1 2 3 4 5 6]\n",
            "sum(): 21\n",
            "mean(): 3.0\n",
            "std(): 2.0\n",
            "var(): 4.0\n",
            "max(): 6\n",
            "min(): 0\n",
            "cumsum(): [ 0  1  3  6 10 15 21]\n",
            "sumprod(): [0 0 0 0 0 0 0]\n"
          ]
        }
      ]
    },
    {
      "cell_type": "markdown",
      "metadata": {
        "id": "-hJocXXbX7hz"
      },
      "source": [
        "선형 대수를 위한 행렬 연산을 수행하는 함수도 있습니다. 아래는 함수 목록입니다.\n",
        "\n",
        "- `dot()`: 행렬곱(matrix product)\n",
        "- `transpose()`: 전치 행렬(transpose matrix)\n",
        "- `linalg.inv()`: 역행렬(inverse matrix)\n",
        "- `linalg.det()`: 행렬식(determinant)"
      ]
    },
    {
      "cell_type": "markdown",
      "metadata": {
        "id": "eKJgAXK_awBM"
      },
      "source": [
        "2차원 배열을 생성하고 함수를 사용하겠습니다."
      ]
    },
    {
      "cell_type": "code",
      "metadata": {
        "colab": {
          "base_uri": "https://localhost:8080/"
        },
        "id": "3vvhvhR5a1Ve",
        "outputId": "2b29e0ab-0098-4eec-d3c4-9185f97cb070"
      },
      "source": [
        "matrix1 = np.array([0, 1, 2, 3]).reshape(2, 2)\n",
        "matrix2 = np.array([1, 2, 3, 4]).reshape(2, 2)\n",
        "print('matrix1:')\n",
        "print(matrix1)\n",
        "print('matrix2:')\n",
        "print(matrix2)"
      ],
      "execution_count": null,
      "outputs": [
        {
          "name": "stdout",
          "output_type": "stream",
          "text": [
            "matrix1:\n",
            "[[0 1]\n",
            " [2 3]]\n",
            "matrix2:\n",
            "[[1 2]\n",
            " [3 4]]\n"
          ]
        }
      ]
    },
    {
      "cell_type": "markdown",
      "metadata": {
        "id": "VGHAsg6SdXRZ"
      },
      "source": [
        "`dot()` 함수로 행렬곱을 구하겠습니다. 두 형식으로 쓸 수 있습니다."
      ]
    },
    {
      "cell_type": "code",
      "metadata": {
        "colab": {
          "base_uri": "https://localhost:8080/"
        },
        "id": "PJZL7iRzdReQ",
        "outputId": "c966ecd3-3ef9-4694-9a11-23737e370e4a"
      },
      "source": [
        "print('matrix1:')\n",
        "print(matrix1)\n",
        "print('matrix1.dot(matrix2):')\n",
        "print(matrix1.dot(matrix2))\n",
        "print('np.dot(matrix1, matrix2):')\n",
        "print(np.dot(matrix1, matrix2))"
      ],
      "execution_count": null,
      "outputs": [
        {
          "name": "stdout",
          "output_type": "stream",
          "text": [
            "matrix1:\n",
            "[[0 1]\n",
            " [2 3]]\n",
            "matrix1.dot(matrix2):\n",
            "[[ 3  4]\n",
            " [11 16]]\n",
            "np.dot(matrix1, matrix2):\n",
            "[[ 3  4]\n",
            " [11 16]]\n"
          ]
        }
      ]
    },
    {
      "cell_type": "markdown",
      "metadata": {
        "id": "c6sRktheddDR"
      },
      "source": [
        "`transpose()` 함수로 전치 행렬을 만들겠습니다. 두 형식으로 쓸 수 있습니다."
      ]
    },
    {
      "cell_type": "code",
      "metadata": {
        "colab": {
          "base_uri": "https://localhost:8080/"
        },
        "id": "n9_QCcMEdRSs",
        "outputId": "c4a8cad4-b653-46f6-e236-bfb87e2b8154"
      },
      "source": [
        "print('matrix1:')\n",
        "print(matrix1)\n",
        "print('matrix1.transpose():')\n",
        "print(matrix1.transpose())\n",
        "print('np.transpose(matrix1):')\n",
        "print(np.transpose(matrix1))"
      ],
      "execution_count": null,
      "outputs": [
        {
          "name": "stdout",
          "output_type": "stream",
          "text": [
            "matrix1:\n",
            "[[0 1]\n",
            " [2 3]]\n",
            "matrix1.transpose():\n",
            "[[0 2]\n",
            " [1 3]]\n",
            "np.transpose(matrix1):\n",
            "[[0 2]\n",
            " [1 3]]\n"
          ]
        }
      ]
    },
    {
      "cell_type": "markdown",
      "metadata": {
        "id": "1NYa7ebAdhIQ"
      },
      "source": [
        "`linalg.inv()` 함수로 역행렬을 구하겠습니다."
      ]
    },
    {
      "cell_type": "code",
      "metadata": {
        "colab": {
          "base_uri": "https://localhost:8080/"
        },
        "id": "aeIHcQDMdPZm",
        "outputId": "01a47776-2de4-44e5-c383-972a91c58b56"
      },
      "source": [
        "print('matrix1:')\n",
        "print(matrix1)\n",
        "print('np.linalg.inv(matrix1):')\n",
        "print(np.linalg.inv(matrix1))"
      ],
      "execution_count": null,
      "outputs": [
        {
          "name": "stdout",
          "output_type": "stream",
          "text": [
            "matrix1:\n",
            "[[0 1]\n",
            " [2 3]]\n",
            "np.linalg.inv(matrix1):\n",
            "[[-1.5  0.5]\n",
            " [ 1.   0. ]]\n"
          ]
        }
      ]
    },
    {
      "cell_type": "markdown",
      "metadata": {
        "id": "PjBtqlndd_jR"
      },
      "source": [
        "`linalg.det()` 함수로 행렬식을 구하겠습니다."
      ]
    },
    {
      "cell_type": "code",
      "metadata": {
        "colab": {
          "base_uri": "https://localhost:8080/"
        },
        "id": "MLhX98GueEex",
        "outputId": "2857e6a8-d989-4325-fb39-7cf773d2ea95"
      },
      "source": [
        "print('matrix1:')\n",
        "print(matrix1)\n",
        "print('np.linalg.det(matrix1):')\n",
        "print(np.linalg.det(matrix1))"
      ],
      "execution_count": null,
      "outputs": [
        {
          "name": "stdout",
          "output_type": "stream",
          "text": [
            "matrix1:\n",
            "[[0 1]\n",
            " [2 3]]\n",
            "np.linalg.det(matrix1):\n",
            "-2.0\n"
          ]
        }
      ]
    },
    {
      "cell_type": "markdown",
      "metadata": {
        "id": "ecT7htwK_H5z"
      },
      "source": [
        "## **1.4. 배열 인덱싱 하기**"
      ]
    },
    {
      "cell_type": "markdown",
      "metadata": {
        "id": "LWD_pqvbfz9b"
      },
      "source": [
        "배열을 인덱싱 할 때 조건에 부합하는 원소를 인덱싱 할 수 있습니다."
      ]
    },
    {
      "cell_type": "code",
      "metadata": {
        "colab": {
          "base_uri": "https://localhost:8080/"
        },
        "id": "r-R5bL4Qlr4p",
        "outputId": "f259b2c1-9c15-4760-dada-3f1ab63bb48b"
      },
      "source": [
        "list_indexing = np.arange(30)\n",
        "print(f'list_indexing > 15: {list_indexing[list_indexing > 15]}')\n",
        "print(f'list_indexing / 5 == 5: {list_indexing[list_indexing / 5 == 5]}')"
      ],
      "execution_count": null,
      "outputs": [
        {
          "name": "stdout",
          "output_type": "stream",
          "text": [
            "list_indexing > 15: [16 17 18 19 20 21 22 23 24 25 26 27 28 29]\n",
            "list_indexing / 5 == 5: [25]\n"
          ]
        }
      ]
    },
    {
      "cell_type": "markdown",
      "metadata": {
        "id": "W9gI4BsD_OuX"
      },
      "source": [
        "## **1.5. 배열 슬라이싱 하기**"
      ]
    },
    {
      "cell_type": "markdown",
      "metadata": {
        "id": "zE09qUbwlixO"
      },
      "source": [
        "배열 슬라이싱은 간혹 끝 위치 숫자가 헷갈릴 수 있습니다. 반드시 끝 위치-1까지 슬라이싱 한다는 점을 유의해야 합니다.\n",
        "\n",
        "팁이라면 '끝 위치'에서 '시작 위치'를 뺀 값을 슬라이싱 할 개수로 여기고, 시작 위치에서 그 개수만큼 배열 슬라이싱 한다고 생각하면 수월합니다.\n",
        "\n",
        "아래 코드를 토대로 예시합니다."
      ]
    },
    {
      "cell_type": "code",
      "metadata": {
        "colab": {
          "base_uri": "https://localhost:8080/"
        },
        "id": "O7BXL-gSm3EX",
        "outputId": "e14b7713-2dbb-4936-c061-b568d54bf91b"
      },
      "source": [
        "example_slicing = np.array([0, 3, 6, 2, 10, 66, 21])\n",
        "example_slicing[2:5]"
      ],
      "execution_count": null,
      "outputs": [
        {
          "data": {
            "text/plain": [
              "array([ 6,  2, 10])"
            ]
          },
          "execution_count": 441,
          "metadata": {},
          "output_type": "execute_result"
        }
      ]
    },
    {
      "cell_type": "markdown",
      "metadata": {
        "id": "ZO9-_XHinDp1"
      },
      "source": [
        "2에서 4까지 원소가 반환됐습니다. 슬라이싱을 2:5만큼 했으므로 5(끝 위치) - 2(시작 위치) = 3(반환 개수)입니다. 2의 위치의 원소인 6을 포함하여 3개가 차례로 반환된 것입니다. "
      ]
    },
    {
      "cell_type": "markdown",
      "metadata": {
        "id": "60mywIYlmEI8"
      },
      "source": [
        "# **2. Pandas 기본**"
      ]
    },
    {
      "cell_type": "markdown",
      "metadata": {
        "id": "wyQjRTXfkUQC"
      },
      "source": [
        "판다스는 데이터를 쉽게 처리할 수 있도록 특화된 라이브러리입니다. 자세한 내용은 [판다스 홈페이지](https://pandas.pydata.org)에 정리되어 있습니다."
      ]
    },
    {
      "cell_type": "markdown",
      "metadata": {
        "id": "R1Woq0WsRxot"
      },
      "source": [
        "## **2.1. 데이터 구조 만들기**"
      ]
    },
    {
      "cell_type": "markdown",
      "metadata": {
        "id": "rgX-yGxZR915"
      },
      "source": [
        "`Series()` 메서드를 사용하여 라벨이 있는 1차원 데이터를 생성할 수 있습니다. 이 데이터의 형식은 'Series'이며 **열벡터(vector)**입니다.\n",
        "\n",
        "아래는 이에 대한 예시입니다. 숫자, 문자열, 공백을 함께 포함시키겠습니다. 여기서 공백은 넘파이의 공백을 나타내는 `np.nan` 형태로 취합니다. "
      ]
    },
    {
      "cell_type": "code",
      "metadata": {
        "colab": {
          "base_uri": "https://localhost:8080/"
        },
        "id": "nSifYt5SStKT",
        "outputId": "2abf4e63-d0dd-47b6-e730-ecdc256dc453"
      },
      "source": [
        "import numpy as np\n",
        "import pandas as pd\n",
        "\n",
        "# 대부분 리스트를 사용합니다. \n",
        "series1 = pd.Series([11, 22, 'a', 'b', np.nan, 33])\n",
        "series1"
      ],
      "execution_count": null,
      "outputs": [
        {
          "data": {
            "text/plain": [
              "0     11\n",
              "1     22\n",
              "2      a\n",
              "3      b\n",
              "4    NaN\n",
              "5     33\n",
              "dtype: object"
            ]
          },
          "execution_count": 442,
          "metadata": {},
          "output_type": "execute_result"
        }
      ]
    },
    {
      "cell_type": "markdown",
      "metadata": {
        "id": "Bi1xySlkS_Ro"
      },
      "source": [
        "첫째 열의 라벨은 'index'입니다. 0부터 오름차순으로 부여되며 데이터의 순서를 의미합니다. 둘째 열은 'values'입니다. 데이터의 값을 의미합니다."
      ]
    },
    {
      "cell_type": "markdown",
      "metadata": {
        "id": "KZOT1NCpVLuc"
      },
      "source": [
        "이 데이터의 열을 따로 가져올 수 있습니다. 아래에서 예시하겠습니다."
      ]
    },
    {
      "cell_type": "code",
      "metadata": {
        "colab": {
          "base_uri": "https://localhost:8080/"
        },
        "id": "g4COcES-T7rB",
        "outputId": "50928941-93c7-4d13-d2d2-a26a01ec4d6f"
      },
      "source": [
        "series1.index"
      ],
      "execution_count": null,
      "outputs": [
        {
          "data": {
            "text/plain": [
              "RangeIndex(start=0, stop=6, step=1)"
            ]
          },
          "execution_count": 443,
          "metadata": {},
          "output_type": "execute_result"
        }
      ]
    },
    {
      "cell_type": "code",
      "metadata": {
        "colab": {
          "base_uri": "https://localhost:8080/"
        },
        "id": "C0VfQM3EvjsL",
        "outputId": "9eb05340-3950-49e3-f4de-3a869d6bc114"
      },
      "source": [
        "series1.values"
      ],
      "execution_count": null,
      "outputs": [
        {
          "data": {
            "text/plain": [
              "array([11, 22, 'a', 'b', nan, 33], dtype=object)"
            ]
          },
          "execution_count": 444,
          "metadata": {},
          "output_type": "execute_result"
        }
      ]
    },
    {
      "cell_type": "markdown",
      "metadata": {
        "id": "6cFkNaD_UYD_"
      },
      "source": [
        "배열 형식은 넘파이입니다."
      ]
    },
    {
      "cell_type": "markdown",
      "metadata": {
        "id": "OCE1Wo3DVN7i"
      },
      "source": [
        "위에서는 인덱스가 0부터 오름차순으로 부여됐습니다. 원하는 인덱스를 따로 지정하려면 `index=리스트명`을 `Series()` 메서드에 전달합니다."
      ]
    },
    {
      "cell_type": "code",
      "metadata": {
        "colab": {
          "base_uri": "https://localhost:8080/"
        },
        "id": "N__2am4hVnCo",
        "outputId": "f54ba0ca-d989-4dd3-b07c-1db3646e7df7"
      },
      "source": [
        "index1 = ['그저께', '어제', '오늘', '내일', '내일모레']\n",
        "series2 = pd.Series([50, 100, 20, np.nan, '휴식'], index=index1)\n",
        "series2"
      ],
      "execution_count": null,
      "outputs": [
        {
          "data": {
            "text/plain": [
              "그저께      50\n",
              "어제      100\n",
              "오늘       20\n",
              "내일      NaN\n",
              "내일모레     휴식\n",
              "dtype: object"
            ]
          },
          "execution_count": 445,
          "metadata": {},
          "output_type": "execute_result"
        }
      ]
    },
    {
      "cell_type": "markdown",
      "metadata": {
        "id": "YowXbgYgWSC6"
      },
      "source": [
        "딕셔너리 형식으로 인덱스(index)와 데이터(values)를 한 번에 입력할 수도 있습니다."
      ]
    },
    {
      "cell_type": "code",
      "metadata": {
        "colab": {
          "base_uri": "https://localhost:8080/"
        },
        "id": "QbY9GsXhWaia",
        "outputId": "7b220e60-bb20-43e0-d7fc-5e8d4cde7399"
      },
      "source": [
        "series3 = pd.Series({'자전거': 150, '신발': 20, '바지':10, '헬멧': 15})\n",
        "series3"
      ],
      "execution_count": null,
      "outputs": [
        {
          "data": {
            "text/plain": [
              "자전거    150\n",
              "신발      20\n",
              "바지      10\n",
              "헬멧      15\n",
              "dtype: int64"
            ]
          },
          "execution_count": 446,
          "metadata": {},
          "output_type": "execute_result"
        }
      ]
    },
    {
      "cell_type": "markdown",
      "metadata": {
        "id": "XPSGaC3AXFsA"
      },
      "source": [
        "`date_range()` 메서드는 지정한 기간만큼 날짜를 생성합니다. 날짜 형식은 'yyyy-mm-dd'로 지정하겠습니다. 추가로 'yyyy.mm.dd', 'yyyy/mm/dd', 'mm-dd-yyyy', 'mm.dd.yyyy', 'mm/dd/yyyy' 모두 가능합니다. 단 생성되는 날짜의 형식은 모두 'yyyy-mm-dd'입니다."
      ]
    },
    {
      "cell_type": "code",
      "metadata": {
        "colab": {
          "base_uri": "https://localhost:8080/"
        },
        "id": "pESzKYOEXO95",
        "outputId": "29acf4ac-9ba9-41c6-8502-037a9ec55954"
      },
      "source": [
        "print(pd.date_range(start='2021-10-04', end='2021-10-09'))\n",
        "# `periods` 매개변수에 값을 지정하면 기간만큼 날짜를 생성합니다.\n",
        "print(pd.date_range(start='2021-10-04', periods=6))"
      ],
      "execution_count": null,
      "outputs": [
        {
          "name": "stdout",
          "output_type": "stream",
          "text": [
            "DatetimeIndex(['2021-10-04', '2021-10-05', '2021-10-06', '2021-10-07',\n",
            "               '2021-10-08', '2021-10-09'],\n",
            "              dtype='datetime64[ns]', freq='D')\n",
            "DatetimeIndex(['2021-10-04', '2021-10-05', '2021-10-06', '2021-10-07',\n",
            "               '2021-10-08', '2021-10-09'],\n",
            "              dtype='datetime64[ns]', freq='D')\n"
          ]
        }
      ]
    },
    {
      "cell_type": "markdown",
      "metadata": {
        "id": "201g5ldjZI9Y"
      },
      "source": [
        "`date_range()` 메서드의 매개변수인 `freq`에 값을 지정하면 원하는 주기로 날짜를 생성할 수 있습니다. 아래는 그 값의 목록입니다.\n",
        "\n",
        "- `D`: 하루(Day) 주기입니다. 이틀 주기로 생성하려면 `2D`입니다.\n",
        "\n",
        "- `B`: 업무일(Business day, 월~금) 주기입니다. `3B`도 가능합니다.\n",
        "\n",
        "- `W`: 일주일(Week) 주기입니다. 일요일 시작은 `W` 또는 `W-SUN`이며, 월요일 시작은 `W-MON`입니다.\n",
        "\n",
        "- `M`: 월말(Month end) 날짜 주기입니다. 한 달 주기는 `M`, 네 달 주기는 `4M`입니다.\n",
        "\n",
        "- `BM`: 업무 월말(Business month end) 날짜 주기입니다. `2BM`도 가능합니다.\n",
        "\n",
        "- `MS`: 월초(Month start) 날짜 주기입니다. 위 인자들처럼 `MS` 앞에 숫자를 붙일 수 있습니다.\n",
        "\n",
        "- `BMS`: 업무 월초(Business month start) 날짜 주기입니다. 똑같이 숫자를 붙일 수 있습니다. 이하 인자들도 같습니다.\n",
        "\n",
        "- `Q`: 분기말(Quater end) 날짜 주기입니다.\n",
        "\n",
        "- `BQ`: 업무 분기말(Business quater end) 날짜 주기입니다. \n",
        "\n",
        "- `QS`: 분기초(Quater start) 날짜 주기입니다. \n",
        "\n",
        "- `BQS`: 업무 분기초(Business quater start) 날짜 주기입니다.\n",
        "\n",
        "- `A`: 연말(Year end) 날짜 주기입니다.\n",
        "\n",
        "- `BA`: 업무 연말(Business year end) 날짜 주기입니다.\n",
        "\n",
        "- `AS`: 연초(Year start) 날짜 주기입니다.\n",
        "\n",
        "- `BAS`: 업무 연초(Business year start) 날짜 주기입니다.\n",
        "\n",
        "- `H`: 시간(Hour) 주기입니다.\n",
        "\n",
        "- `BH`: 업무 시간(Business hour) 주기입니다. 9:00 ~ 17:00를 기준으로 갖습니다.\n",
        "\n",
        "- `T`, `min`: 분(Minute) 주기입니다.\n",
        "\n",
        "- `S`: 초(Second) 주기입니다."
      ]
    },
    {
      "cell_type": "markdown",
      "metadata": {
        "id": "S4rbx676d6Os"
      },
      "source": [
        "아래에 몇 가지 예시를 들겠습니다. 먼저 다섯 날을 4일 간격으로 생성합니다."
      ]
    },
    {
      "cell_type": "code",
      "metadata": {
        "colab": {
          "base_uri": "https://localhost:8080/"
        },
        "id": "alRYo6ntd8Lv",
        "outputId": "b081d1c5-20b3-4de4-bf79-b68314fe656b"
      },
      "source": [
        "pd.date_range(start='2021-10-04', periods=5, freq='4D')"
      ],
      "execution_count": null,
      "outputs": [
        {
          "data": {
            "text/plain": [
              "DatetimeIndex(['2021-10-04', '2021-10-08', '2021-10-12', '2021-10-16',\n",
              "               '2021-10-20'],\n",
              "              dtype='datetime64[ns]', freq='4D')"
            ]
          },
          "execution_count": 448,
          "metadata": {},
          "output_type": "execute_result"
        }
      ]
    },
    {
      "cell_type": "markdown",
      "metadata": {
        "id": "QkFvFcwoeQ2C"
      },
      "source": [
        "3주일씩 증가시키겠습니다."
      ]
    },
    {
      "cell_type": "code",
      "metadata": {
        "colab": {
          "base_uri": "https://localhost:8080/"
        },
        "id": "HZKieY-WeP9C",
        "outputId": "a75aecbc-7ec9-4976-84c9-0665c659de04"
      },
      "source": [
        "pd.date_range(start='2021-10-04', periods=5, freq='3W')"
      ],
      "execution_count": null,
      "outputs": [
        {
          "data": {
            "text/plain": [
              "DatetimeIndex(['2021-10-10', '2021-10-31', '2021-11-21', '2021-12-12',\n",
              "               '2022-01-02'],\n",
              "              dtype='datetime64[ns]', freq='3W-SUN')"
            ]
          },
          "execution_count": 449,
          "metadata": {},
          "output_type": "execute_result"
        }
      ]
    },
    {
      "cell_type": "markdown",
      "metadata": {
        "id": "XEw_NYe0en3U"
      },
      "source": [
        "업무일 월초 날짜를 생성하겠습니다."
      ]
    },
    {
      "cell_type": "code",
      "metadata": {
        "colab": {
          "base_uri": "https://localhost:8080/"
        },
        "id": "LcS6hHI8e4aA",
        "outputId": "1868aaa5-1e3b-47da-e21c-fa1da517e851"
      },
      "source": [
        "pd.date_range(start='2021-10-04', periods=5, freq='BMS')"
      ],
      "execution_count": null,
      "outputs": [
        {
          "data": {
            "text/plain": [
              "DatetimeIndex(['2021-11-01', '2021-12-01', '2022-01-03', '2022-02-01',\n",
              "               '2022-03-01'],\n",
              "              dtype='datetime64[ns]', freq='BMS')"
            ]
          },
          "execution_count": 450,
          "metadata": {},
          "output_type": "execute_result"
        }
      ]
    },
    {
      "cell_type": "markdown",
      "metadata": {
        "id": "y8sBKFyge-7n"
      },
      "source": [
        "업무일 월말 날짜를 두 달 간격으로 생성하겠습니다."
      ]
    },
    {
      "cell_type": "code",
      "metadata": {
        "colab": {
          "base_uri": "https://localhost:8080/"
        },
        "id": "VInBrkkkfBD0",
        "outputId": "6eb0aef3-5180-46ba-aab4-dee599490e0b"
      },
      "source": [
        "pd.date_range(start='2021-10-04', periods=5, freq='2BM')"
      ],
      "execution_count": null,
      "outputs": [
        {
          "data": {
            "text/plain": [
              "DatetimeIndex(['2021-10-29', '2021-12-31', '2022-02-28', '2022-04-29',\n",
              "               '2022-06-30'],\n",
              "              dtype='datetime64[ns]', freq='2BM')"
            ]
          },
          "execution_count": 451,
          "metadata": {},
          "output_type": "execute_result"
        }
      ]
    },
    {
      "cell_type": "markdown",
      "metadata": {
        "id": "eg0l3JOlfSOb"
      },
      "source": [
        "업무일 분기초 날짜를 생성하겠습니다. "
      ]
    },
    {
      "cell_type": "code",
      "metadata": {
        "colab": {
          "base_uri": "https://localhost:8080/"
        },
        "id": "0-lZhYaefWAp",
        "outputId": "437d33ce-986c-4e35-849e-b400c50df91f"
      },
      "source": [
        "pd.date_range(start='2021-10-04', periods=5, freq='BQS')"
      ],
      "execution_count": null,
      "outputs": [
        {
          "data": {
            "text/plain": [
              "DatetimeIndex(['2022-01-03', '2022-04-01', '2022-07-01', '2022-10-03',\n",
              "               '2023-01-02'],\n",
              "              dtype='datetime64[ns]', freq='BQS-JAN')"
            ]
          },
          "execution_count": 452,
          "metadata": {},
          "output_type": "execute_result"
        }
      ]
    },
    {
      "cell_type": "markdown",
      "metadata": {
        "id": "CyKExbfCfyRm"
      },
      "source": [
        "내용을 응용하여 시리즈를 생성하겠습니다."
      ]
    },
    {
      "cell_type": "code",
      "metadata": {
        "colab": {
          "base_uri": "https://localhost:8080/"
        },
        "id": "LaZqDnqnf5BF",
        "outputId": "c4ed462a-f824-47c6-ec69-e6097d621b92"
      },
      "source": [
        "date_index = pd.date_range(start='2021-06-01', periods=5, freq='M')\n",
        "num_values = [100, 241, 213, 152, 656]\n",
        "pd.Series(num_values, index=date_index)"
      ],
      "execution_count": null,
      "outputs": [
        {
          "data": {
            "text/plain": [
              "2021-06-30    100\n",
              "2021-07-31    241\n",
              "2021-08-31    213\n",
              "2021-09-30    152\n",
              "2021-10-31    656\n",
              "Freq: M, dtype: int64"
            ]
          },
          "execution_count": 453,
          "metadata": {},
          "output_type": "execute_result"
        }
      ]
    },
    {
      "cell_type": "markdown",
      "metadata": {
        "id": "3vQ1voWOg8hn"
      },
      "source": [
        "위에서는 `Series()` 메서드를 사용해서 1차원 데이터 구조를 만들었습니다. `DataFrame()` 메서드는 2차원 데이터 구조를 만듭니다. 이 메서드도 첫 열에 인덱스를 숫자형 라벨로 자동으로 부여하지만, 차이점이라면 칼럼도 숫자형 라벨로 자동으로 부여합니다. 물론 인덱스와 칼럼 모두 라벨을 직접 지정할 수 있습니다. 이 데이터의 형식은 'DataFrame`이며, 여러 개의 열벡터들이 같은 행 인덱스를 기준으로 줄지어서 이어진 2차원 벡터 또는 **행렬(matrix)**입니다.\n",
        "\n",
        "먼저 간단하게 예시하겠습니다."
      ]
    },
    {
      "cell_type": "code",
      "metadata": {
        "colab": {
          "base_uri": "https://localhost:8080/",
          "height": 111
        },
        "id": "uEHeyncOhWoh",
        "outputId": "2930b18b-8d90-496a-dfec-a1d23c7eddb1"
      },
      "source": [
        "# 데이터 프레임을 생성하려면 2차원 리스트를 사용해야 합니다.\n",
        "pd.DataFrame([[11, 22, 33, 44], [55, 66, 77, 88]])"
      ],
      "execution_count": null,
      "outputs": [
        {
          "data": {
            "text/html": [
              "<div>\n",
              "<style scoped>\n",
              "    .dataframe tbody tr th:only-of-type {\n",
              "        vertical-align: middle;\n",
              "    }\n",
              "\n",
              "    .dataframe tbody tr th {\n",
              "        vertical-align: top;\n",
              "    }\n",
              "\n",
              "    .dataframe thead th {\n",
              "        text-align: right;\n",
              "    }\n",
              "</style>\n",
              "<table border=\"1\" class=\"dataframe\">\n",
              "  <thead>\n",
              "    <tr style=\"text-align: right;\">\n",
              "      <th></th>\n",
              "      <th>0</th>\n",
              "      <th>1</th>\n",
              "      <th>2</th>\n",
              "      <th>3</th>\n",
              "    </tr>\n",
              "  </thead>\n",
              "  <tbody>\n",
              "    <tr>\n",
              "      <th>0</th>\n",
              "      <td>11</td>\n",
              "      <td>22</td>\n",
              "      <td>33</td>\n",
              "      <td>44</td>\n",
              "    </tr>\n",
              "    <tr>\n",
              "      <th>1</th>\n",
              "      <td>55</td>\n",
              "      <td>66</td>\n",
              "      <td>77</td>\n",
              "      <td>88</td>\n",
              "    </tr>\n",
              "  </tbody>\n",
              "</table>\n",
              "</div>"
            ],
            "text/plain": [
              "    0   1   2   3\n",
              "0  11  22  33  44\n",
              "1  55  66  77  88"
            ]
          },
          "execution_count": 454,
          "metadata": {},
          "output_type": "execute_result"
        }
      ]
    },
    {
      "cell_type": "markdown",
      "metadata": {
        "id": "j3r_IzIViigU"
      },
      "source": [
        "넘파이 배열로도 values를 전달할 수 있습니다."
      ]
    },
    {
      "cell_type": "code",
      "metadata": {
        "colab": {
          "base_uri": "https://localhost:8080/",
          "height": 142
        },
        "id": "ka4O4pUWisgm",
        "outputId": "47b3b6c4-d8f7-43c0-f8df-5709717b9ead"
      },
      "source": [
        "np_nums = np.array([[11, 22, 33], [44, 55, 66], [77, 88, 99]])\n",
        "pd.DataFrame(np_nums)"
      ],
      "execution_count": null,
      "outputs": [
        {
          "data": {
            "text/html": [
              "<div>\n",
              "<style scoped>\n",
              "    .dataframe tbody tr th:only-of-type {\n",
              "        vertical-align: middle;\n",
              "    }\n",
              "\n",
              "    .dataframe tbody tr th {\n",
              "        vertical-align: top;\n",
              "    }\n",
              "\n",
              "    .dataframe thead th {\n",
              "        text-align: right;\n",
              "    }\n",
              "</style>\n",
              "<table border=\"1\" class=\"dataframe\">\n",
              "  <thead>\n",
              "    <tr style=\"text-align: right;\">\n",
              "      <th></th>\n",
              "      <th>0</th>\n",
              "      <th>1</th>\n",
              "      <th>2</th>\n",
              "    </tr>\n",
              "  </thead>\n",
              "  <tbody>\n",
              "    <tr>\n",
              "      <th>0</th>\n",
              "      <td>11</td>\n",
              "      <td>22</td>\n",
              "      <td>33</td>\n",
              "    </tr>\n",
              "    <tr>\n",
              "      <th>1</th>\n",
              "      <td>44</td>\n",
              "      <td>55</td>\n",
              "      <td>66</td>\n",
              "    </tr>\n",
              "    <tr>\n",
              "      <th>2</th>\n",
              "      <td>77</td>\n",
              "      <td>88</td>\n",
              "      <td>99</td>\n",
              "    </tr>\n",
              "  </tbody>\n",
              "</table>\n",
              "</div>"
            ],
            "text/plain": [
              "    0   1   2\n",
              "0  11  22  33\n",
              "1  44  55  66\n",
              "2  77  88  99"
            ]
          },
          "execution_count": 455,
          "metadata": {},
          "output_type": "execute_result"
        }
      ]
    },
    {
      "cell_type": "markdown",
      "metadata": {
        "id": "hRs6mJU6jHgx"
      },
      "source": [
        "인덱스와 칼럼명까지 함께 지정하여 데이터 프레임을 만들겠습니다."
      ]
    },
    {
      "cell_type": "code",
      "metadata": {
        "colab": {
          "base_uri": "https://localhost:8080/",
          "height": 142
        },
        "id": "4fQlEH25jMIs",
        "outputId": "43e44d9e-75d5-4ec9-da22-23e9f579dc52"
      },
      "source": [
        "np_nums1 = np.array([[42, 27, 54], [36, 75, 97], [33, 15, 26]])\n",
        "date_index = pd.date_range('2021-10-09', periods=3, freq='3H')\n",
        "col_list = ['사과', '배', '포도']\n",
        "pd.DataFrame(np_nums1, index=date_index, columns=col_list)"
      ],
      "execution_count": null,
      "outputs": [
        {
          "data": {
            "text/html": [
              "<div>\n",
              "<style scoped>\n",
              "    .dataframe tbody tr th:only-of-type {\n",
              "        vertical-align: middle;\n",
              "    }\n",
              "\n",
              "    .dataframe tbody tr th {\n",
              "        vertical-align: top;\n",
              "    }\n",
              "\n",
              "    .dataframe thead th {\n",
              "        text-align: right;\n",
              "    }\n",
              "</style>\n",
              "<table border=\"1\" class=\"dataframe\">\n",
              "  <thead>\n",
              "    <tr style=\"text-align: right;\">\n",
              "      <th></th>\n",
              "      <th>사과</th>\n",
              "      <th>배</th>\n",
              "      <th>포도</th>\n",
              "    </tr>\n",
              "  </thead>\n",
              "  <tbody>\n",
              "    <tr>\n",
              "      <th>2021-10-09 00:00:00</th>\n",
              "      <td>42</td>\n",
              "      <td>27</td>\n",
              "      <td>54</td>\n",
              "    </tr>\n",
              "    <tr>\n",
              "      <th>2021-10-09 03:00:00</th>\n",
              "      <td>36</td>\n",
              "      <td>75</td>\n",
              "      <td>97</td>\n",
              "    </tr>\n",
              "    <tr>\n",
              "      <th>2021-10-09 06:00:00</th>\n",
              "      <td>33</td>\n",
              "      <td>15</td>\n",
              "      <td>26</td>\n",
              "    </tr>\n",
              "  </tbody>\n",
              "</table>\n",
              "</div>"
            ],
            "text/plain": [
              "                     사과   배  포도\n",
              "2021-10-09 00:00:00  42  27  54\n",
              "2021-10-09 03:00:00  36  75  97\n",
              "2021-10-09 06:00:00  33  15  26"
            ]
          },
          "execution_count": 456,
          "metadata": {},
          "output_type": "execute_result"
        }
      ]
    },
    {
      "cell_type": "markdown",
      "metadata": {
        "id": "vlUdWYUv3zWM"
      },
      "source": [
        "딕셔너리로 데이터 프레임을 만들겠습니다."
      ]
    },
    {
      "cell_type": "code",
      "metadata": {
        "colab": {
          "base_uri": "https://localhost:8080/",
          "height": 173
        },
        "id": "2dM6sI8q33TW",
        "outputId": "3efb807a-81e3-4b94-a8cd-c82b9038a8d7"
      },
      "source": [
        "dic_data1 = {'입대일': ['2012-09-12', '2012-09-12', '2012-09-12', '2012-09-12'],\n",
        "            '군번': [20129948, 20129593, 20129302, 20129352],\n",
        "            '이름': ['이승민', '김대철', '장비호', '이진해'],\n",
        "            '보직': [20, 30, 10, 30]}\n",
        "pd.DataFrame(dic_data1)"
      ],
      "execution_count": null,
      "outputs": [
        {
          "data": {
            "text/html": [
              "<div>\n",
              "<style scoped>\n",
              "    .dataframe tbody tr th:only-of-type {\n",
              "        vertical-align: middle;\n",
              "    }\n",
              "\n",
              "    .dataframe tbody tr th {\n",
              "        vertical-align: top;\n",
              "    }\n",
              "\n",
              "    .dataframe thead th {\n",
              "        text-align: right;\n",
              "    }\n",
              "</style>\n",
              "<table border=\"1\" class=\"dataframe\">\n",
              "  <thead>\n",
              "    <tr style=\"text-align: right;\">\n",
              "      <th></th>\n",
              "      <th>입대일</th>\n",
              "      <th>군번</th>\n",
              "      <th>이름</th>\n",
              "      <th>보직</th>\n",
              "    </tr>\n",
              "  </thead>\n",
              "  <tbody>\n",
              "    <tr>\n",
              "      <th>0</th>\n",
              "      <td>2012-09-12</td>\n",
              "      <td>20129948</td>\n",
              "      <td>이승민</td>\n",
              "      <td>20</td>\n",
              "    </tr>\n",
              "    <tr>\n",
              "      <th>1</th>\n",
              "      <td>2012-09-12</td>\n",
              "      <td>20129593</td>\n",
              "      <td>김대철</td>\n",
              "      <td>30</td>\n",
              "    </tr>\n",
              "    <tr>\n",
              "      <th>2</th>\n",
              "      <td>2012-09-12</td>\n",
              "      <td>20129302</td>\n",
              "      <td>장비호</td>\n",
              "      <td>10</td>\n",
              "    </tr>\n",
              "    <tr>\n",
              "      <th>3</th>\n",
              "      <td>2012-09-12</td>\n",
              "      <td>20129352</td>\n",
              "      <td>이진해</td>\n",
              "      <td>30</td>\n",
              "    </tr>\n",
              "  </tbody>\n",
              "</table>\n",
              "</div>"
            ],
            "text/plain": [
              "          입대일        군번   이름  보직\n",
              "0  2012-09-12  20129948  이승민  20\n",
              "1  2012-09-12  20129593  김대철  30\n",
              "2  2012-09-12  20129302  장비호  10\n",
              "3  2012-09-12  20129352  이진해  30"
            ]
          },
          "execution_count": 457,
          "metadata": {},
          "output_type": "execute_result"
        }
      ]
    },
    {
      "cell_type": "markdown",
      "metadata": {
        "id": "hrGrgrK55nRN"
      },
      "source": [
        "칼럼을 재정렬하겠습니다."
      ]
    },
    {
      "cell_type": "code",
      "metadata": {
        "colab": {
          "base_uri": "https://localhost:8080/",
          "height": 173
        },
        "id": "em2Yz2LP5pn9",
        "outputId": "95105d46-a297-4210-9f20-8f0a0fd29844"
      },
      "source": [
        "pd.DataFrame(dic_data1, columns=['군번', '입대일', '이름', '보직'])"
      ],
      "execution_count": null,
      "outputs": [
        {
          "data": {
            "text/html": [
              "<div>\n",
              "<style scoped>\n",
              "    .dataframe tbody tr th:only-of-type {\n",
              "        vertical-align: middle;\n",
              "    }\n",
              "\n",
              "    .dataframe tbody tr th {\n",
              "        vertical-align: top;\n",
              "    }\n",
              "\n",
              "    .dataframe thead th {\n",
              "        text-align: right;\n",
              "    }\n",
              "</style>\n",
              "<table border=\"1\" class=\"dataframe\">\n",
              "  <thead>\n",
              "    <tr style=\"text-align: right;\">\n",
              "      <th></th>\n",
              "      <th>군번</th>\n",
              "      <th>입대일</th>\n",
              "      <th>이름</th>\n",
              "      <th>보직</th>\n",
              "    </tr>\n",
              "  </thead>\n",
              "  <tbody>\n",
              "    <tr>\n",
              "      <th>0</th>\n",
              "      <td>20129948</td>\n",
              "      <td>2012-09-12</td>\n",
              "      <td>이승민</td>\n",
              "      <td>20</td>\n",
              "    </tr>\n",
              "    <tr>\n",
              "      <th>1</th>\n",
              "      <td>20129593</td>\n",
              "      <td>2012-09-12</td>\n",
              "      <td>김대철</td>\n",
              "      <td>30</td>\n",
              "    </tr>\n",
              "    <tr>\n",
              "      <th>2</th>\n",
              "      <td>20129302</td>\n",
              "      <td>2012-09-12</td>\n",
              "      <td>장비호</td>\n",
              "      <td>10</td>\n",
              "    </tr>\n",
              "    <tr>\n",
              "      <th>3</th>\n",
              "      <td>20129352</td>\n",
              "      <td>2012-09-12</td>\n",
              "      <td>이진해</td>\n",
              "      <td>30</td>\n",
              "    </tr>\n",
              "  </tbody>\n",
              "</table>\n",
              "</div>"
            ],
            "text/plain": [
              "         군번         입대일   이름  보직\n",
              "0  20129948  2012-09-12  이승민  20\n",
              "1  20129593  2012-09-12  김대철  30\n",
              "2  20129302  2012-09-12  장비호  10\n",
              "3  20129352  2012-09-12  이진해  30"
            ]
          },
          "execution_count": 458,
          "metadata": {},
          "output_type": "execute_result"
        }
      ]
    },
    {
      "cell_type": "markdown",
      "metadata": {
        "id": "IiL8ZLzY5-nI"
      },
      "source": [
        "## **2.2. 데이터 연산하기**"
      ]
    },
    {
      "cell_type": "markdown",
      "metadata": {
        "id": "Re9dQdVN6Roy"
      },
      "source": [
        "시리즈끼리 데이터를 연산할 수 있습니다. 단 연산할 대상이 없는 경우는 'NaN'(Not a Number)으로 처리됩니다."
      ]
    },
    {
      "cell_type": "code",
      "metadata": {
        "colab": {
          "base_uri": "https://localhost:8080/"
        },
        "id": "8KYJReT16DY4",
        "outputId": "e3c1f7eb-6af6-4ba6-b190-4e988ccaa4aa"
      },
      "source": [
        "series4 = pd.Series(['영', 1, 2, 3])\n",
        "series5 = pd.Series([4, 5, 6, 7, 8])\n",
        "series4 * series5"
      ],
      "execution_count": null,
      "outputs": [
        {
          "data": {
            "text/plain": [
              "0    영영영영\n",
              "1       5\n",
              "2      12\n",
              "3      21\n",
              "4     NaN\n",
              "dtype: object"
            ]
          },
          "execution_count": 459,
          "metadata": {},
          "output_type": "execute_result"
        }
      ]
    },
    {
      "cell_type": "markdown",
      "metadata": {
        "id": "YbJ0hanI-804"
      },
      "source": [
        "'NaN'으로 처리되지 않도록 공백을 0으로 처리할 수 있습니다. 덧셈은 `add()`, 뺄셈은 `sub()`, 곱셈은 `mul()`, 나눗셈은 `div()` 메서드를 적용하되 매개변수 `fill_value`에 `0`을 지정합니다."
      ]
    },
    {
      "cell_type": "code",
      "metadata": {
        "colab": {
          "base_uri": "https://localhost:8080/"
        },
        "id": "isYncJbg_o90",
        "outputId": "9e0ccbd7-dfc2-48b6-9294-49de69248b34"
      },
      "source": [
        "series6 = pd.Series([0, 1, 2, 3])\n",
        "series7 = pd.Series([4, 5, 6, 7, 8])\n",
        "\n",
        "series6.add(series7, fill_value=0)"
      ],
      "execution_count": null,
      "outputs": [
        {
          "data": {
            "text/plain": [
              "0     4.0\n",
              "1     6.0\n",
              "2     8.0\n",
              "3    10.0\n",
              "4     8.0\n",
              "dtype: float64"
            ]
          },
          "execution_count": 460,
          "metadata": {},
          "output_type": "execute_result"
        }
      ]
    },
    {
      "cell_type": "markdown",
      "metadata": {
        "id": "m-uRjA4j7EY0"
      },
      "source": [
        "데이터 프레임끼리도 연산이 가능합니다. 시리즈처럼 연산이 불가능한 경우는 'NaN'으로 처리됩니다."
      ]
    },
    {
      "cell_type": "code",
      "metadata": {
        "colab": {
          "base_uri": "https://localhost:8080/",
          "height": 173
        },
        "id": "1DaCV7_77LMa",
        "outputId": "ab9d9f3c-a337-4bfb-f952-3dfe1c6bb2af"
      },
      "source": [
        "dic_data2 = {'a': [0, 1, 2],\n",
        "             'b': [3, 4, 5],\n",
        "             'c': [6, 7, 8]}\n",
        "dataframe1 = pd.DataFrame(dic_data2)\n",
        "\n",
        "dic_data3 = {'a': [10, 20, 30, 40],\n",
        "             'b': [50, 60, 70, 80],\n",
        "             'c': [90, 100, 110, 120]}\n",
        "dataframe2 = pd.DataFrame(dic_data3)\n",
        "dataframe1 + dataframe2"
      ],
      "execution_count": null,
      "outputs": [
        {
          "data": {
            "text/html": [
              "<div>\n",
              "<style scoped>\n",
              "    .dataframe tbody tr th:only-of-type {\n",
              "        vertical-align: middle;\n",
              "    }\n",
              "\n",
              "    .dataframe tbody tr th {\n",
              "        vertical-align: top;\n",
              "    }\n",
              "\n",
              "    .dataframe thead th {\n",
              "        text-align: right;\n",
              "    }\n",
              "</style>\n",
              "<table border=\"1\" class=\"dataframe\">\n",
              "  <thead>\n",
              "    <tr style=\"text-align: right;\">\n",
              "      <th></th>\n",
              "      <th>a</th>\n",
              "      <th>b</th>\n",
              "      <th>c</th>\n",
              "    </tr>\n",
              "  </thead>\n",
              "  <tbody>\n",
              "    <tr>\n",
              "      <th>0</th>\n",
              "      <td>10.0</td>\n",
              "      <td>53.0</td>\n",
              "      <td>96.0</td>\n",
              "    </tr>\n",
              "    <tr>\n",
              "      <th>1</th>\n",
              "      <td>21.0</td>\n",
              "      <td>64.0</td>\n",
              "      <td>107.0</td>\n",
              "    </tr>\n",
              "    <tr>\n",
              "      <th>2</th>\n",
              "      <td>32.0</td>\n",
              "      <td>75.0</td>\n",
              "      <td>118.0</td>\n",
              "    </tr>\n",
              "    <tr>\n",
              "      <th>3</th>\n",
              "      <td>NaN</td>\n",
              "      <td>NaN</td>\n",
              "      <td>NaN</td>\n",
              "    </tr>\n",
              "  </tbody>\n",
              "</table>\n",
              "</div>"
            ],
            "text/plain": [
              "      a     b      c\n",
              "0  10.0  53.0   96.0\n",
              "1  21.0  64.0  107.0\n",
              "2  32.0  75.0  118.0\n",
              "3   NaN   NaN    NaN"
            ]
          },
          "execution_count": 461,
          "metadata": {},
          "output_type": "execute_result"
        }
      ]
    },
    {
      "cell_type": "code",
      "metadata": {
        "colab": {
          "base_uri": "https://localhost:8080/",
          "height": 142
        },
        "id": "_QU5O1pNB95r",
        "outputId": "92128e8a-9670-4daa-822d-827774482064"
      },
      "source": [
        "dataframe1 + 10"
      ],
      "execution_count": null,
      "outputs": [
        {
          "data": {
            "text/html": [
              "<div>\n",
              "<style scoped>\n",
              "    .dataframe tbody tr th:only-of-type {\n",
              "        vertical-align: middle;\n",
              "    }\n",
              "\n",
              "    .dataframe tbody tr th {\n",
              "        vertical-align: top;\n",
              "    }\n",
              "\n",
              "    .dataframe thead th {\n",
              "        text-align: right;\n",
              "    }\n",
              "</style>\n",
              "<table border=\"1\" class=\"dataframe\">\n",
              "  <thead>\n",
              "    <tr style=\"text-align: right;\">\n",
              "      <th></th>\n",
              "      <th>a</th>\n",
              "      <th>b</th>\n",
              "      <th>c</th>\n",
              "    </tr>\n",
              "  </thead>\n",
              "  <tbody>\n",
              "    <tr>\n",
              "      <th>0</th>\n",
              "      <td>10</td>\n",
              "      <td>13</td>\n",
              "      <td>16</td>\n",
              "    </tr>\n",
              "    <tr>\n",
              "      <th>1</th>\n",
              "      <td>11</td>\n",
              "      <td>14</td>\n",
              "      <td>17</td>\n",
              "    </tr>\n",
              "    <tr>\n",
              "      <th>2</th>\n",
              "      <td>12</td>\n",
              "      <td>15</td>\n",
              "      <td>18</td>\n",
              "    </tr>\n",
              "  </tbody>\n",
              "</table>\n",
              "</div>"
            ],
            "text/plain": [
              "    a   b   c\n",
              "0  10  13  16\n",
              "1  11  14  17\n",
              "2  12  15  18"
            ]
          },
          "execution_count": 462,
          "metadata": {},
          "output_type": "execute_result"
        }
      ]
    },
    {
      "cell_type": "markdown",
      "metadata": {
        "id": "a7Z3IGHP8mVE"
      },
      "source": [
        "넘파이와 비슷하게 통계 함수를 사용할 수 있습니다. 아래는 판다스에서 사용할 수 있는 몇 가지 함수 목록입니다.\n",
        "\n",
        "- `sum()`: 합계\n",
        "\n",
        "- `mean()`: 평균\n",
        "\n",
        "- `std()`: 표준 편차\n",
        "\n",
        "- `var()`: 분산\n",
        "\n",
        "- `max()`: 최댓값\n",
        "\n",
        "- `min()`: 최솟값\n",
        "\n",
        "- `cumsum()`: 누적합\n",
        "\n",
        "- `cumprod()`: 누적곱\n",
        "\n",
        "- `median()`: 중간값\n",
        "\n",
        "- `corr()`: 상관계수\n",
        "\n",
        "- `describe()`: 원소 개수, 평균, 표준 편차, 최솟값, 최댓값. 매개변수를 `include=all`로 지정하면 고유값 개수, 최빈값, 빈도수를 추가합니다."
      ]
    },
    {
      "cell_type": "markdown",
      "metadata": {
        "id": "7R81-o2v-PGT"
      },
      "source": [
        "`describe()` 함수에 대한 예시를 들겠습니다."
      ]
    },
    {
      "cell_type": "code",
      "metadata": {
        "colab": {
          "base_uri": "https://localhost:8080/",
          "height": 531
        },
        "id": "zpGWLi4I-UsC",
        "outputId": "66e8e310-5d4f-4435-ca68-df5defd7f013"
      },
      "source": [
        "dic_data4 = {'사과': [332, 392, 391, 295, 374],\n",
        "             '배': [102, 99, 80, 30, 143],\n",
        "             '포도': [402, 497, 306, 681, 573]}\n",
        "col_list1 = ['포도', '사과', '배']\n",
        "index2 = ['4월', '5월', '6월', '7월', '8월']\n",
        "\n",
        "dataframe3 = pd.DataFrame(dic_data4, columns=col_list1, index=index2)\n",
        "\n",
        "print(dataframe3)\n",
        "print()\n",
        "\n",
        "print('평균')\n",
        "print(dataframe3.mean())\n",
        "print()\n",
        "\n",
        "# `display` 메서드를 사용하면 데이터 프레임 형태로 출력합니다.\n",
        "display(dataframe3.describe())"
      ],
      "execution_count": null,
      "outputs": [
        {
          "name": "stdout",
          "output_type": "stream",
          "text": [
            "     포도   사과    배\n",
            "4월  402  332  102\n",
            "5월  497  392   99\n",
            "6월  306  391   80\n",
            "7월  681  295   30\n",
            "8월  573  374  143\n",
            "\n",
            "평균\n",
            "포도    491.8\n",
            "사과    356.8\n",
            "배      90.8\n",
            "dtype: float64\n",
            "\n"
          ]
        },
        {
          "data": {
            "text/html": [
              "<div>\n",
              "<style scoped>\n",
              "    .dataframe tbody tr th:only-of-type {\n",
              "        vertical-align: middle;\n",
              "    }\n",
              "\n",
              "    .dataframe tbody tr th {\n",
              "        vertical-align: top;\n",
              "    }\n",
              "\n",
              "    .dataframe thead th {\n",
              "        text-align: right;\n",
              "    }\n",
              "</style>\n",
              "<table border=\"1\" class=\"dataframe\">\n",
              "  <thead>\n",
              "    <tr style=\"text-align: right;\">\n",
              "      <th></th>\n",
              "      <th>포도</th>\n",
              "      <th>사과</th>\n",
              "      <th>배</th>\n",
              "    </tr>\n",
              "  </thead>\n",
              "  <tbody>\n",
              "    <tr>\n",
              "      <th>count</th>\n",
              "      <td>5.000000</td>\n",
              "      <td>5.00000</td>\n",
              "      <td>5.000000</td>\n",
              "    </tr>\n",
              "    <tr>\n",
              "      <th>mean</th>\n",
              "      <td>491.800000</td>\n",
              "      <td>356.80000</td>\n",
              "      <td>90.800000</td>\n",
              "    </tr>\n",
              "    <tr>\n",
              "      <th>std</th>\n",
              "      <td>145.776198</td>\n",
              "      <td>42.24571</td>\n",
              "      <td>41.020726</td>\n",
              "    </tr>\n",
              "    <tr>\n",
              "      <th>min</th>\n",
              "      <td>306.000000</td>\n",
              "      <td>295.00000</td>\n",
              "      <td>30.000000</td>\n",
              "    </tr>\n",
              "    <tr>\n",
              "      <th>25%</th>\n",
              "      <td>402.000000</td>\n",
              "      <td>332.00000</td>\n",
              "      <td>80.000000</td>\n",
              "    </tr>\n",
              "    <tr>\n",
              "      <th>50%</th>\n",
              "      <td>497.000000</td>\n",
              "      <td>374.00000</td>\n",
              "      <td>99.000000</td>\n",
              "    </tr>\n",
              "    <tr>\n",
              "      <th>75%</th>\n",
              "      <td>573.000000</td>\n",
              "      <td>391.00000</td>\n",
              "      <td>102.000000</td>\n",
              "    </tr>\n",
              "    <tr>\n",
              "      <th>max</th>\n",
              "      <td>681.000000</td>\n",
              "      <td>392.00000</td>\n",
              "      <td>143.000000</td>\n",
              "    </tr>\n",
              "  </tbody>\n",
              "</table>\n",
              "</div>"
            ],
            "text/plain": [
              "               포도         사과           배\n",
              "count    5.000000    5.00000    5.000000\n",
              "mean   491.800000  356.80000   90.800000\n",
              "std    145.776198   42.24571   41.020726\n",
              "min    306.000000  295.00000   30.000000\n",
              "25%    402.000000  332.00000   80.000000\n",
              "50%    497.000000  374.00000   99.000000\n",
              "75%    573.000000  391.00000  102.000000\n",
              "max    681.000000  392.00000  143.000000"
            ]
          },
          "metadata": {},
          "output_type": "display_data"
        }
      ]
    },
    {
      "cell_type": "markdown",
      "metadata": {
        "id": "9TKOdidUB9HA"
      },
      "source": [
        "## **2.3. 데이터 선택하기**"
      ]
    },
    {
      "cell_type": "markdown",
      "metadata": {
        "id": "lVIFkvbBDQ8L"
      },
      "source": [
        "먼저 데이터 프레임을 이전보다 크게 생성하겠습니다."
      ]
    },
    {
      "cell_type": "code",
      "metadata": {
        "colab": {
          "base_uri": "https://localhost:8080/",
          "height": 482
        },
        "id": "UADbqPpAFOEJ",
        "outputId": "00c3283a-5352-48e5-fe22-bc39c016cda3"
      },
      "source": [
        "dic_data5 = {'사과': [332, 392, 391, 295, 374, 333, 282],\n",
        "             '배': [102, 99, 80, 30, 143, 26, 21],\n",
        "             '포도': [402, 497, 306, 681, 573, 777, 821],\n",
        "             '딸기': [756, 741, 794, 772, 703, np.nan, np.nan],\n",
        "             '복숭아': [32, 70, 26, 154, 201, np.nan, np.nan]}\n",
        "col_list2 = ['배', '사과', '포도', '딸기', '복숭아']\n",
        "index3 = ['4월', '5월', '6월', '7월', '8월', '9월', '10월']\n",
        "\n",
        "dataframe4 = pd.DataFrame(dic_data5, columns=col_list2, index=index3)\n",
        "display(dataframe4)\n",
        "print()\n",
        "\n",
        "print(dataframe4.index)\n",
        "print()\n",
        "\n",
        "print(dataframe4.columns)\n",
        "print()\n",
        "\n",
        "print(dataframe4.values)"
      ],
      "execution_count": null,
      "outputs": [
        {
          "data": {
            "text/html": [
              "<div>\n",
              "<style scoped>\n",
              "    .dataframe tbody tr th:only-of-type {\n",
              "        vertical-align: middle;\n",
              "    }\n",
              "\n",
              "    .dataframe tbody tr th {\n",
              "        vertical-align: top;\n",
              "    }\n",
              "\n",
              "    .dataframe thead th {\n",
              "        text-align: right;\n",
              "    }\n",
              "</style>\n",
              "<table border=\"1\" class=\"dataframe\">\n",
              "  <thead>\n",
              "    <tr style=\"text-align: right;\">\n",
              "      <th></th>\n",
              "      <th>배</th>\n",
              "      <th>사과</th>\n",
              "      <th>포도</th>\n",
              "      <th>딸기</th>\n",
              "      <th>복숭아</th>\n",
              "    </tr>\n",
              "  </thead>\n",
              "  <tbody>\n",
              "    <tr>\n",
              "      <th>4월</th>\n",
              "      <td>102</td>\n",
              "      <td>332</td>\n",
              "      <td>402</td>\n",
              "      <td>756.0</td>\n",
              "      <td>32.0</td>\n",
              "    </tr>\n",
              "    <tr>\n",
              "      <th>5월</th>\n",
              "      <td>99</td>\n",
              "      <td>392</td>\n",
              "      <td>497</td>\n",
              "      <td>741.0</td>\n",
              "      <td>70.0</td>\n",
              "    </tr>\n",
              "    <tr>\n",
              "      <th>6월</th>\n",
              "      <td>80</td>\n",
              "      <td>391</td>\n",
              "      <td>306</td>\n",
              "      <td>794.0</td>\n",
              "      <td>26.0</td>\n",
              "    </tr>\n",
              "    <tr>\n",
              "      <th>7월</th>\n",
              "      <td>30</td>\n",
              "      <td>295</td>\n",
              "      <td>681</td>\n",
              "      <td>772.0</td>\n",
              "      <td>154.0</td>\n",
              "    </tr>\n",
              "    <tr>\n",
              "      <th>8월</th>\n",
              "      <td>143</td>\n",
              "      <td>374</td>\n",
              "      <td>573</td>\n",
              "      <td>703.0</td>\n",
              "      <td>201.0</td>\n",
              "    </tr>\n",
              "    <tr>\n",
              "      <th>9월</th>\n",
              "      <td>26</td>\n",
              "      <td>333</td>\n",
              "      <td>777</td>\n",
              "      <td>NaN</td>\n",
              "      <td>NaN</td>\n",
              "    </tr>\n",
              "    <tr>\n",
              "      <th>10월</th>\n",
              "      <td>21</td>\n",
              "      <td>282</td>\n",
              "      <td>821</td>\n",
              "      <td>NaN</td>\n",
              "      <td>NaN</td>\n",
              "    </tr>\n",
              "  </tbody>\n",
              "</table>\n",
              "</div>"
            ],
            "text/plain": [
              "       배   사과   포도     딸기    복숭아\n",
              "4월   102  332  402  756.0   32.0\n",
              "5월    99  392  497  741.0   70.0\n",
              "6월    80  391  306  794.0   26.0\n",
              "7월    30  295  681  772.0  154.0\n",
              "8월   143  374  573  703.0  201.0\n",
              "9월    26  333  777    NaN    NaN\n",
              "10월   21  282  821    NaN    NaN"
            ]
          },
          "metadata": {},
          "output_type": "display_data"
        },
        {
          "name": "stdout",
          "output_type": "stream",
          "text": [
            "\n",
            "Index(['4월', '5월', '6월', '7월', '8월', '9월', '10월'], dtype='object')\n",
            "\n",
            "Index(['배', '사과', '포도', '딸기', '복숭아'], dtype='object')\n",
            "\n",
            "[[102. 332. 402. 756.  32.]\n",
            " [ 99. 392. 497. 741.  70.]\n",
            " [ 80. 391. 306. 794.  26.]\n",
            " [ 30. 295. 681. 772. 154.]\n",
            " [143. 374. 573. 703. 201.]\n",
            " [ 26. 333. 777.  nan  nan]\n",
            " [ 21. 282. 821.  nan  nan]]\n"
          ]
        }
      ]
    },
    {
      "cell_type": "markdown",
      "metadata": {
        "id": "Z6mpn8AEHP03"
      },
      "source": [
        "전체 데이터를 모두 선택하지 않고 앞과 뒤의 일부 데이터만 선택하려면 각각 `head()` 메서드와 `tail()` 메서드를 사용합니다. 괄호 안에 숫자를 인자로 지정하면 데이터가 숫자만큼 출력됩니다. 기본값은 `5`입니다."
      ]
    },
    {
      "cell_type": "code",
      "metadata": {
        "colab": {
          "base_uri": "https://localhost:8080/",
          "height": 204
        },
        "id": "KDSbA7hMHiJK",
        "outputId": "802d0fd6-6fa4-470b-bed2-b036193ed620"
      },
      "source": [
        "dataframe4.head()"
      ],
      "execution_count": null,
      "outputs": [
        {
          "data": {
            "text/html": [
              "<div>\n",
              "<style scoped>\n",
              "    .dataframe tbody tr th:only-of-type {\n",
              "        vertical-align: middle;\n",
              "    }\n",
              "\n",
              "    .dataframe tbody tr th {\n",
              "        vertical-align: top;\n",
              "    }\n",
              "\n",
              "    .dataframe thead th {\n",
              "        text-align: right;\n",
              "    }\n",
              "</style>\n",
              "<table border=\"1\" class=\"dataframe\">\n",
              "  <thead>\n",
              "    <tr style=\"text-align: right;\">\n",
              "      <th></th>\n",
              "      <th>배</th>\n",
              "      <th>사과</th>\n",
              "      <th>포도</th>\n",
              "      <th>딸기</th>\n",
              "      <th>복숭아</th>\n",
              "    </tr>\n",
              "  </thead>\n",
              "  <tbody>\n",
              "    <tr>\n",
              "      <th>4월</th>\n",
              "      <td>102</td>\n",
              "      <td>332</td>\n",
              "      <td>402</td>\n",
              "      <td>756.0</td>\n",
              "      <td>32.0</td>\n",
              "    </tr>\n",
              "    <tr>\n",
              "      <th>5월</th>\n",
              "      <td>99</td>\n",
              "      <td>392</td>\n",
              "      <td>497</td>\n",
              "      <td>741.0</td>\n",
              "      <td>70.0</td>\n",
              "    </tr>\n",
              "    <tr>\n",
              "      <th>6월</th>\n",
              "      <td>80</td>\n",
              "      <td>391</td>\n",
              "      <td>306</td>\n",
              "      <td>794.0</td>\n",
              "      <td>26.0</td>\n",
              "    </tr>\n",
              "    <tr>\n",
              "      <th>7월</th>\n",
              "      <td>30</td>\n",
              "      <td>295</td>\n",
              "      <td>681</td>\n",
              "      <td>772.0</td>\n",
              "      <td>154.0</td>\n",
              "    </tr>\n",
              "    <tr>\n",
              "      <th>8월</th>\n",
              "      <td>143</td>\n",
              "      <td>374</td>\n",
              "      <td>573</td>\n",
              "      <td>703.0</td>\n",
              "      <td>201.0</td>\n",
              "    </tr>\n",
              "  </tbody>\n",
              "</table>\n",
              "</div>"
            ],
            "text/plain": [
              "      배   사과   포도     딸기    복숭아\n",
              "4월  102  332  402  756.0   32.0\n",
              "5월   99  392  497  741.0   70.0\n",
              "6월   80  391  306  794.0   26.0\n",
              "7월   30  295  681  772.0  154.0\n",
              "8월  143  374  573  703.0  201.0"
            ]
          },
          "execution_count": 465,
          "metadata": {},
          "output_type": "execute_result"
        }
      ]
    },
    {
      "cell_type": "code",
      "metadata": {
        "colab": {
          "base_uri": "https://localhost:8080/",
          "height": 142
        },
        "id": "CmLPI5pVHyd9",
        "outputId": "9d9797fc-cdff-417f-c809-1701bbaa9b5e"
      },
      "source": [
        "dataframe4.tail(3)"
      ],
      "execution_count": null,
      "outputs": [
        {
          "data": {
            "text/html": [
              "<div>\n",
              "<style scoped>\n",
              "    .dataframe tbody tr th:only-of-type {\n",
              "        vertical-align: middle;\n",
              "    }\n",
              "\n",
              "    .dataframe tbody tr th {\n",
              "        vertical-align: top;\n",
              "    }\n",
              "\n",
              "    .dataframe thead th {\n",
              "        text-align: right;\n",
              "    }\n",
              "</style>\n",
              "<table border=\"1\" class=\"dataframe\">\n",
              "  <thead>\n",
              "    <tr style=\"text-align: right;\">\n",
              "      <th></th>\n",
              "      <th>배</th>\n",
              "      <th>사과</th>\n",
              "      <th>포도</th>\n",
              "      <th>딸기</th>\n",
              "      <th>복숭아</th>\n",
              "    </tr>\n",
              "  </thead>\n",
              "  <tbody>\n",
              "    <tr>\n",
              "      <th>8월</th>\n",
              "      <td>143</td>\n",
              "      <td>374</td>\n",
              "      <td>573</td>\n",
              "      <td>703.0</td>\n",
              "      <td>201.0</td>\n",
              "    </tr>\n",
              "    <tr>\n",
              "      <th>9월</th>\n",
              "      <td>26</td>\n",
              "      <td>333</td>\n",
              "      <td>777</td>\n",
              "      <td>NaN</td>\n",
              "      <td>NaN</td>\n",
              "    </tr>\n",
              "    <tr>\n",
              "      <th>10월</th>\n",
              "      <td>21</td>\n",
              "      <td>282</td>\n",
              "      <td>821</td>\n",
              "      <td>NaN</td>\n",
              "      <td>NaN</td>\n",
              "    </tr>\n",
              "  </tbody>\n",
              "</table>\n",
              "</div>"
            ],
            "text/plain": [
              "       배   사과   포도     딸기    복숭아\n",
              "8월   143  374  573  703.0  201.0\n",
              "9월    26  333  777    NaN    NaN\n",
              "10월   21  282  821    NaN    NaN"
            ]
          },
          "execution_count": 466,
          "metadata": {},
          "output_type": "execute_result"
        }
      ]
    },
    {
      "cell_type": "markdown",
      "metadata": {
        "id": "VfSOrQb2IPFv"
      },
      "source": [
        "원하는 행을 출력하려면 슬라이싱을 사용합니다."
      ]
    },
    {
      "cell_type": "code",
      "metadata": {
        "colab": {
          "base_uri": "https://localhost:8080/",
          "height": 173
        },
        "id": "AB2UXjp5IT4P",
        "outputId": "51820a4d-ff90-49cb-96e5-68491e7b68fb"
      },
      "source": [
        "dataframe4[2:6]"
      ],
      "execution_count": null,
      "outputs": [
        {
          "data": {
            "text/html": [
              "<div>\n",
              "<style scoped>\n",
              "    .dataframe tbody tr th:only-of-type {\n",
              "        vertical-align: middle;\n",
              "    }\n",
              "\n",
              "    .dataframe tbody tr th {\n",
              "        vertical-align: top;\n",
              "    }\n",
              "\n",
              "    .dataframe thead th {\n",
              "        text-align: right;\n",
              "    }\n",
              "</style>\n",
              "<table border=\"1\" class=\"dataframe\">\n",
              "  <thead>\n",
              "    <tr style=\"text-align: right;\">\n",
              "      <th></th>\n",
              "      <th>배</th>\n",
              "      <th>사과</th>\n",
              "      <th>포도</th>\n",
              "      <th>딸기</th>\n",
              "      <th>복숭아</th>\n",
              "    </tr>\n",
              "  </thead>\n",
              "  <tbody>\n",
              "    <tr>\n",
              "      <th>6월</th>\n",
              "      <td>80</td>\n",
              "      <td>391</td>\n",
              "      <td>306</td>\n",
              "      <td>794.0</td>\n",
              "      <td>26.0</td>\n",
              "    </tr>\n",
              "    <tr>\n",
              "      <th>7월</th>\n",
              "      <td>30</td>\n",
              "      <td>295</td>\n",
              "      <td>681</td>\n",
              "      <td>772.0</td>\n",
              "      <td>154.0</td>\n",
              "    </tr>\n",
              "    <tr>\n",
              "      <th>8월</th>\n",
              "      <td>143</td>\n",
              "      <td>374</td>\n",
              "      <td>573</td>\n",
              "      <td>703.0</td>\n",
              "      <td>201.0</td>\n",
              "    </tr>\n",
              "    <tr>\n",
              "      <th>9월</th>\n",
              "      <td>26</td>\n",
              "      <td>333</td>\n",
              "      <td>777</td>\n",
              "      <td>NaN</td>\n",
              "      <td>NaN</td>\n",
              "    </tr>\n",
              "  </tbody>\n",
              "</table>\n",
              "</div>"
            ],
            "text/plain": [
              "      배   사과   포도     딸기    복숭아\n",
              "6월   80  391  306  794.0   26.0\n",
              "7월   30  295  681  772.0  154.0\n",
              "8월  143  374  573  703.0  201.0\n",
              "9월   26  333  777    NaN    NaN"
            ]
          },
          "execution_count": 467,
          "metadata": {},
          "output_type": "execute_result"
        }
      ]
    },
    {
      "cell_type": "markdown",
      "metadata": {
        "id": "JPlAxtKlIiLD"
      },
      "source": [
        "`loc[]` 메서드에 인덱스명을 지정해서 해당하는 행만 인덱싱 할 수 있습니다."
      ]
    },
    {
      "cell_type": "code",
      "metadata": {
        "colab": {
          "base_uri": "https://localhost:8080/"
        },
        "id": "gfALC2_uIpyb",
        "outputId": "ae9a0b3d-2fca-4d93-f3f5-4376ed383da5"
      },
      "source": [
        "dataframe4.loc['8월']"
      ],
      "execution_count": null,
      "outputs": [
        {
          "data": {
            "text/plain": [
              "배      143.0\n",
              "사과     374.0\n",
              "포도     573.0\n",
              "딸기     703.0\n",
              "복숭아    201.0\n",
              "Name: 8월, dtype: float64"
            ]
          },
          "execution_count": 468,
          "metadata": {},
          "output_type": "execute_result"
        }
      ]
    },
    {
      "cell_type": "markdown",
      "metadata": {
        "id": "ddmBnTETIIBw"
      },
      "source": [
        "`iloc[]` 메서드에는 위치 숫자를 지정합니다."
      ]
    },
    {
      "cell_type": "code",
      "metadata": {
        "colab": {
          "base_uri": "https://localhost:8080/"
        },
        "id": "0IC-31_UHS8e",
        "outputId": "c80eb8db-6146-4bba-d26a-10d3dbbc5870"
      },
      "source": [
        "dataframe4.iloc[4]"
      ],
      "execution_count": null,
      "outputs": [
        {
          "data": {
            "text/plain": [
              "배      143.0\n",
              "사과     374.0\n",
              "포도     573.0\n",
              "딸기     703.0\n",
              "복숭아    201.0\n",
              "Name: 8월, dtype: float64"
            ]
          },
          "execution_count": 469,
          "metadata": {},
          "output_type": "execute_result"
        }
      ]
    },
    {
      "cell_type": "markdown",
      "metadata": {
        "id": "etQOV1KHIL2B"
      },
      "source": [
        "여러 행을 선택하겠습니다. 리스트로 한 번 더 묶습니다."
      ]
    },
    {
      "cell_type": "code",
      "metadata": {
        "colab": {
          "base_uri": "https://localhost:8080/",
          "height": 111
        },
        "id": "Zp-KAKaYIKrs",
        "outputId": "784e971d-ae33-456b-fb9a-f59ccd1b7205"
      },
      "source": [
        "dataframe4.loc[['8월', '10월']]"
      ],
      "execution_count": null,
      "outputs": [
        {
          "data": {
            "text/html": [
              "<div>\n",
              "<style scoped>\n",
              "    .dataframe tbody tr th:only-of-type {\n",
              "        vertical-align: middle;\n",
              "    }\n",
              "\n",
              "    .dataframe tbody tr th {\n",
              "        vertical-align: top;\n",
              "    }\n",
              "\n",
              "    .dataframe thead th {\n",
              "        text-align: right;\n",
              "    }\n",
              "</style>\n",
              "<table border=\"1\" class=\"dataframe\">\n",
              "  <thead>\n",
              "    <tr style=\"text-align: right;\">\n",
              "      <th></th>\n",
              "      <th>배</th>\n",
              "      <th>사과</th>\n",
              "      <th>포도</th>\n",
              "      <th>딸기</th>\n",
              "      <th>복숭아</th>\n",
              "    </tr>\n",
              "  </thead>\n",
              "  <tbody>\n",
              "    <tr>\n",
              "      <th>8월</th>\n",
              "      <td>143</td>\n",
              "      <td>374</td>\n",
              "      <td>573</td>\n",
              "      <td>703.0</td>\n",
              "      <td>201.0</td>\n",
              "    </tr>\n",
              "    <tr>\n",
              "      <th>10월</th>\n",
              "      <td>21</td>\n",
              "      <td>282</td>\n",
              "      <td>821</td>\n",
              "      <td>NaN</td>\n",
              "      <td>NaN</td>\n",
              "    </tr>\n",
              "  </tbody>\n",
              "</table>\n",
              "</div>"
            ],
            "text/plain": [
              "       배   사과   포도     딸기    복숭아\n",
              "8월   143  374  573  703.0  201.0\n",
              "10월   21  282  821    NaN    NaN"
            ]
          },
          "execution_count": 470,
          "metadata": {},
          "output_type": "execute_result"
        }
      ]
    },
    {
      "cell_type": "code",
      "metadata": {
        "colab": {
          "base_uri": "https://localhost:8080/",
          "height": 111
        },
        "id": "kYW-6BbMIWh1",
        "outputId": "ae6a5cc5-a8a5-4ae8-f570-203073e0cf0c"
      },
      "source": [
        "dataframe4.iloc[[4, 6]]"
      ],
      "execution_count": null,
      "outputs": [
        {
          "data": {
            "text/html": [
              "<div>\n",
              "<style scoped>\n",
              "    .dataframe tbody tr th:only-of-type {\n",
              "        vertical-align: middle;\n",
              "    }\n",
              "\n",
              "    .dataframe tbody tr th {\n",
              "        vertical-align: top;\n",
              "    }\n",
              "\n",
              "    .dataframe thead th {\n",
              "        text-align: right;\n",
              "    }\n",
              "</style>\n",
              "<table border=\"1\" class=\"dataframe\">\n",
              "  <thead>\n",
              "    <tr style=\"text-align: right;\">\n",
              "      <th></th>\n",
              "      <th>배</th>\n",
              "      <th>사과</th>\n",
              "      <th>포도</th>\n",
              "      <th>딸기</th>\n",
              "      <th>복숭아</th>\n",
              "    </tr>\n",
              "  </thead>\n",
              "  <tbody>\n",
              "    <tr>\n",
              "      <th>8월</th>\n",
              "      <td>143</td>\n",
              "      <td>374</td>\n",
              "      <td>573</td>\n",
              "      <td>703.0</td>\n",
              "      <td>201.0</td>\n",
              "    </tr>\n",
              "    <tr>\n",
              "      <th>10월</th>\n",
              "      <td>21</td>\n",
              "      <td>282</td>\n",
              "      <td>821</td>\n",
              "      <td>NaN</td>\n",
              "      <td>NaN</td>\n",
              "    </tr>\n",
              "  </tbody>\n",
              "</table>\n",
              "</div>"
            ],
            "text/plain": [
              "       배   사과   포도     딸기    복숭아\n",
              "8월   143  374  573  703.0  201.0\n",
              "10월   21  282  821    NaN    NaN"
            ]
          },
          "execution_count": 471,
          "metadata": {},
          "output_type": "execute_result"
        }
      ]
    },
    {
      "cell_type": "markdown",
      "metadata": {
        "id": "S-IlrXoaJL_5"
      },
      "source": [
        "`loc[]` 메서드로 인덱스를 슬라이싱 할 수도 있습니다. '8월'부터 마지막까지 가져오겠습니다. `iloc[]` 메서드도 사용법은 동일합니다."
      ]
    },
    {
      "cell_type": "code",
      "metadata": {
        "colab": {
          "base_uri": "https://localhost:8080/",
          "height": 142
        },
        "id": "k9ruhllpJYjU",
        "outputId": "336224aa-4fe0-4bfb-d15f-0475a6ad7f8d"
      },
      "source": [
        "dataframe4.loc['8월':]"
      ],
      "execution_count": null,
      "outputs": [
        {
          "data": {
            "text/html": [
              "<div>\n",
              "<style scoped>\n",
              "    .dataframe tbody tr th:only-of-type {\n",
              "        vertical-align: middle;\n",
              "    }\n",
              "\n",
              "    .dataframe tbody tr th {\n",
              "        vertical-align: top;\n",
              "    }\n",
              "\n",
              "    .dataframe thead th {\n",
              "        text-align: right;\n",
              "    }\n",
              "</style>\n",
              "<table border=\"1\" class=\"dataframe\">\n",
              "  <thead>\n",
              "    <tr style=\"text-align: right;\">\n",
              "      <th></th>\n",
              "      <th>배</th>\n",
              "      <th>사과</th>\n",
              "      <th>포도</th>\n",
              "      <th>딸기</th>\n",
              "      <th>복숭아</th>\n",
              "    </tr>\n",
              "  </thead>\n",
              "  <tbody>\n",
              "    <tr>\n",
              "      <th>8월</th>\n",
              "      <td>143</td>\n",
              "      <td>374</td>\n",
              "      <td>573</td>\n",
              "      <td>703.0</td>\n",
              "      <td>201.0</td>\n",
              "    </tr>\n",
              "    <tr>\n",
              "      <th>9월</th>\n",
              "      <td>26</td>\n",
              "      <td>333</td>\n",
              "      <td>777</td>\n",
              "      <td>NaN</td>\n",
              "      <td>NaN</td>\n",
              "    </tr>\n",
              "    <tr>\n",
              "      <th>10월</th>\n",
              "      <td>21</td>\n",
              "      <td>282</td>\n",
              "      <td>821</td>\n",
              "      <td>NaN</td>\n",
              "      <td>NaN</td>\n",
              "    </tr>\n",
              "  </tbody>\n",
              "</table>\n",
              "</div>"
            ],
            "text/plain": [
              "       배   사과   포도     딸기    복숭아\n",
              "8월   143  374  573  703.0  201.0\n",
              "9월    26  333  777    NaN    NaN\n",
              "10월   21  282  821    NaN    NaN"
            ]
          },
          "execution_count": 472,
          "metadata": {},
          "output_type": "execute_result"
        }
      ]
    },
    {
      "cell_type": "markdown",
      "metadata": {
        "id": "zklcjv0hKStk"
      },
      "source": [
        "`iloc[]` 메서드를 사용해서 슬라이싱 하겠습니다. 전체 데이터에 대하여 슬라이싱 간격을 `3`으로 지정하겠습니다."
      ]
    },
    {
      "cell_type": "code",
      "metadata": {
        "colab": {
          "base_uri": "https://localhost:8080/",
          "height": 142
        },
        "id": "c1MI0l7OKfrE",
        "outputId": "18120c07-eec8-4ca2-d955-7e4cfb7e3001"
      },
      "source": [
        "dataframe4.iloc[::3]"
      ],
      "execution_count": null,
      "outputs": [
        {
          "data": {
            "text/html": [
              "<div>\n",
              "<style scoped>\n",
              "    .dataframe tbody tr th:only-of-type {\n",
              "        vertical-align: middle;\n",
              "    }\n",
              "\n",
              "    .dataframe tbody tr th {\n",
              "        vertical-align: top;\n",
              "    }\n",
              "\n",
              "    .dataframe thead th {\n",
              "        text-align: right;\n",
              "    }\n",
              "</style>\n",
              "<table border=\"1\" class=\"dataframe\">\n",
              "  <thead>\n",
              "    <tr style=\"text-align: right;\">\n",
              "      <th></th>\n",
              "      <th>배</th>\n",
              "      <th>사과</th>\n",
              "      <th>포도</th>\n",
              "      <th>딸기</th>\n",
              "      <th>복숭아</th>\n",
              "    </tr>\n",
              "  </thead>\n",
              "  <tbody>\n",
              "    <tr>\n",
              "      <th>4월</th>\n",
              "      <td>102</td>\n",
              "      <td>332</td>\n",
              "      <td>402</td>\n",
              "      <td>756.0</td>\n",
              "      <td>32.0</td>\n",
              "    </tr>\n",
              "    <tr>\n",
              "      <th>7월</th>\n",
              "      <td>30</td>\n",
              "      <td>295</td>\n",
              "      <td>681</td>\n",
              "      <td>772.0</td>\n",
              "      <td>154.0</td>\n",
              "    </tr>\n",
              "    <tr>\n",
              "      <th>10월</th>\n",
              "      <td>21</td>\n",
              "      <td>282</td>\n",
              "      <td>821</td>\n",
              "      <td>NaN</td>\n",
              "      <td>NaN</td>\n",
              "    </tr>\n",
              "  </tbody>\n",
              "</table>\n",
              "</div>"
            ],
            "text/plain": [
              "       배   사과   포도     딸기    복숭아\n",
              "4월   102  332  402  756.0   32.0\n",
              "7월    30  295  681  772.0  154.0\n",
              "10월   21  282  821    NaN    NaN"
            ]
          },
          "execution_count": 473,
          "metadata": {},
          "output_type": "execute_result"
        }
      ]
    },
    {
      "cell_type": "markdown",
      "metadata": {
        "id": "q6e3Fn6BKzum"
      },
      "source": [
        "슬라이싱 간격을 `-1`로 지정하면 데이터가 역순으로 출력됩니다."
      ]
    },
    {
      "cell_type": "code",
      "metadata": {
        "colab": {
          "base_uri": "https://localhost:8080/",
          "height": 266
        },
        "id": "vhA-9aeWK5E4",
        "outputId": "a3e48dc9-628c-4745-acf0-4158343dbc55"
      },
      "source": [
        "dataframe4.iloc[::-1]"
      ],
      "execution_count": null,
      "outputs": [
        {
          "data": {
            "text/html": [
              "<div>\n",
              "<style scoped>\n",
              "    .dataframe tbody tr th:only-of-type {\n",
              "        vertical-align: middle;\n",
              "    }\n",
              "\n",
              "    .dataframe tbody tr th {\n",
              "        vertical-align: top;\n",
              "    }\n",
              "\n",
              "    .dataframe thead th {\n",
              "        text-align: right;\n",
              "    }\n",
              "</style>\n",
              "<table border=\"1\" class=\"dataframe\">\n",
              "  <thead>\n",
              "    <tr style=\"text-align: right;\">\n",
              "      <th></th>\n",
              "      <th>배</th>\n",
              "      <th>사과</th>\n",
              "      <th>포도</th>\n",
              "      <th>딸기</th>\n",
              "      <th>복숭아</th>\n",
              "    </tr>\n",
              "  </thead>\n",
              "  <tbody>\n",
              "    <tr>\n",
              "      <th>10월</th>\n",
              "      <td>21</td>\n",
              "      <td>282</td>\n",
              "      <td>821</td>\n",
              "      <td>NaN</td>\n",
              "      <td>NaN</td>\n",
              "    </tr>\n",
              "    <tr>\n",
              "      <th>9월</th>\n",
              "      <td>26</td>\n",
              "      <td>333</td>\n",
              "      <td>777</td>\n",
              "      <td>NaN</td>\n",
              "      <td>NaN</td>\n",
              "    </tr>\n",
              "    <tr>\n",
              "      <th>8월</th>\n",
              "      <td>143</td>\n",
              "      <td>374</td>\n",
              "      <td>573</td>\n",
              "      <td>703.0</td>\n",
              "      <td>201.0</td>\n",
              "    </tr>\n",
              "    <tr>\n",
              "      <th>7월</th>\n",
              "      <td>30</td>\n",
              "      <td>295</td>\n",
              "      <td>681</td>\n",
              "      <td>772.0</td>\n",
              "      <td>154.0</td>\n",
              "    </tr>\n",
              "    <tr>\n",
              "      <th>6월</th>\n",
              "      <td>80</td>\n",
              "      <td>391</td>\n",
              "      <td>306</td>\n",
              "      <td>794.0</td>\n",
              "      <td>26.0</td>\n",
              "    </tr>\n",
              "    <tr>\n",
              "      <th>5월</th>\n",
              "      <td>99</td>\n",
              "      <td>392</td>\n",
              "      <td>497</td>\n",
              "      <td>741.0</td>\n",
              "      <td>70.0</td>\n",
              "    </tr>\n",
              "    <tr>\n",
              "      <th>4월</th>\n",
              "      <td>102</td>\n",
              "      <td>332</td>\n",
              "      <td>402</td>\n",
              "      <td>756.0</td>\n",
              "      <td>32.0</td>\n",
              "    </tr>\n",
              "  </tbody>\n",
              "</table>\n",
              "</div>"
            ],
            "text/plain": [
              "       배   사과   포도     딸기    복숭아\n",
              "10월   21  282  821    NaN    NaN\n",
              "9월    26  333  777    NaN    NaN\n",
              "8월   143  374  573  703.0  201.0\n",
              "7월    30  295  681  772.0  154.0\n",
              "6월    80  391  306  794.0   26.0\n",
              "5월    99  392  497  741.0   70.0\n",
              "4월   102  332  402  756.0   32.0"
            ]
          },
          "execution_count": 474,
          "metadata": {},
          "output_type": "execute_result"
        }
      ]
    },
    {
      "cell_type": "markdown",
      "metadata": {
        "id": "gTRJKBWtJn66"
      },
      "source": [
        "열을 하나만 가져오겠습니다. 두 가지 방법을 예시합니다. 참고로 행부터 참조하는 방식으로서 인덱스를 가져오려면 반드시 `loc[]` 메서드를 사용해야 합니다."
      ]
    },
    {
      "cell_type": "code",
      "metadata": {
        "colab": {
          "base_uri": "https://localhost:8080/"
        },
        "id": "K6jF7uvSJ09r",
        "outputId": "ad3fd0f5-af2a-458a-9f7a-2cf2132f8f2b"
      },
      "source": [
        "dataframe4['딸기']"
      ],
      "execution_count": null,
      "outputs": [
        {
          "data": {
            "text/plain": [
              "4월     756.0\n",
              "5월     741.0\n",
              "6월     794.0\n",
              "7월     772.0\n",
              "8월     703.0\n",
              "9월       NaN\n",
              "10월      NaN\n",
              "Name: 딸기, dtype: float64"
            ]
          },
          "execution_count": 475,
          "metadata": {},
          "output_type": "execute_result"
        }
      ]
    },
    {
      "cell_type": "code",
      "metadata": {
        "colab": {
          "base_uri": "https://localhost:8080/"
        },
        "id": "cIb4daA6JGR8",
        "outputId": "6c216ea1-9fd3-4df4-d599-40aaf34ba167"
      },
      "source": [
        "dataframe4.딸기"
      ],
      "execution_count": null,
      "outputs": [
        {
          "data": {
            "text/plain": [
              "4월     756.0\n",
              "5월     741.0\n",
              "6월     794.0\n",
              "7월     772.0\n",
              "8월     703.0\n",
              "9월       NaN\n",
              "10월      NaN\n",
              "Name: 딸기, dtype: float64"
            ]
          },
          "execution_count": 476,
          "metadata": {},
          "output_type": "execute_result"
        }
      ]
    },
    {
      "cell_type": "markdown",
      "metadata": {
        "id": "JL1eyVQvKJgZ"
      },
      "source": [
        "열을 두 개 가져오겠습니다. 다수의 원소는 리스트로 한 번 더 묶어야 합니다."
      ]
    },
    {
      "cell_type": "code",
      "metadata": {
        "colab": {
          "base_uri": "https://localhost:8080/",
          "height": 266
        },
        "id": "HsWjupAQKLqi",
        "outputId": "826a108d-38ec-4661-d18f-e36f04154a56"
      },
      "source": [
        "dataframe4[['딸기', '포도']]"
      ],
      "execution_count": null,
      "outputs": [
        {
          "data": {
            "text/html": [
              "<div>\n",
              "<style scoped>\n",
              "    .dataframe tbody tr th:only-of-type {\n",
              "        vertical-align: middle;\n",
              "    }\n",
              "\n",
              "    .dataframe tbody tr th {\n",
              "        vertical-align: top;\n",
              "    }\n",
              "\n",
              "    .dataframe thead th {\n",
              "        text-align: right;\n",
              "    }\n",
              "</style>\n",
              "<table border=\"1\" class=\"dataframe\">\n",
              "  <thead>\n",
              "    <tr style=\"text-align: right;\">\n",
              "      <th></th>\n",
              "      <th>딸기</th>\n",
              "      <th>포도</th>\n",
              "    </tr>\n",
              "  </thead>\n",
              "  <tbody>\n",
              "    <tr>\n",
              "      <th>4월</th>\n",
              "      <td>756.0</td>\n",
              "      <td>402</td>\n",
              "    </tr>\n",
              "    <tr>\n",
              "      <th>5월</th>\n",
              "      <td>741.0</td>\n",
              "      <td>497</td>\n",
              "    </tr>\n",
              "    <tr>\n",
              "      <th>6월</th>\n",
              "      <td>794.0</td>\n",
              "      <td>306</td>\n",
              "    </tr>\n",
              "    <tr>\n",
              "      <th>7월</th>\n",
              "      <td>772.0</td>\n",
              "      <td>681</td>\n",
              "    </tr>\n",
              "    <tr>\n",
              "      <th>8월</th>\n",
              "      <td>703.0</td>\n",
              "      <td>573</td>\n",
              "    </tr>\n",
              "    <tr>\n",
              "      <th>9월</th>\n",
              "      <td>NaN</td>\n",
              "      <td>777</td>\n",
              "    </tr>\n",
              "    <tr>\n",
              "      <th>10월</th>\n",
              "      <td>NaN</td>\n",
              "      <td>821</td>\n",
              "    </tr>\n",
              "  </tbody>\n",
              "</table>\n",
              "</div>"
            ],
            "text/plain": [
              "        딸기   포도\n",
              "4월   756.0  402\n",
              "5월   741.0  497\n",
              "6월   794.0  306\n",
              "7월   772.0  681\n",
              "8월   703.0  573\n",
              "9월     NaN  777\n",
              "10월    NaN  821"
            ]
          },
          "execution_count": 477,
          "metadata": {},
          "output_type": "execute_result"
        }
      ]
    },
    {
      "cell_type": "markdown",
      "metadata": {
        "id": "Emp1vGQ8QyLq"
      },
      "source": [
        "이미 존재하는 데이터프레임의 열 순서를 바꾸려면 아래처럼 열을 리스트로 지정하고 객체로 넘겨주면 간단합니다. "
      ]
    },
    {
      "cell_type": "code",
      "metadata": {
        "colab": {
          "base_uri": "https://localhost:8080/",
          "height": 266
        },
        "id": "HqcWxde8QjZO",
        "outputId": "340cc891-7203-42c9-ee0f-e23c44364a48"
      },
      "source": [
        "dataframe4_test = dataframe4[['딸기', '포도', '배', '사과', '복숭아']]\n",
        "dataframe4_test"
      ],
      "execution_count": null,
      "outputs": [
        {
          "data": {
            "text/html": [
              "<div>\n",
              "<style scoped>\n",
              "    .dataframe tbody tr th:only-of-type {\n",
              "        vertical-align: middle;\n",
              "    }\n",
              "\n",
              "    .dataframe tbody tr th {\n",
              "        vertical-align: top;\n",
              "    }\n",
              "\n",
              "    .dataframe thead th {\n",
              "        text-align: right;\n",
              "    }\n",
              "</style>\n",
              "<table border=\"1\" class=\"dataframe\">\n",
              "  <thead>\n",
              "    <tr style=\"text-align: right;\">\n",
              "      <th></th>\n",
              "      <th>딸기</th>\n",
              "      <th>포도</th>\n",
              "      <th>배</th>\n",
              "      <th>사과</th>\n",
              "      <th>복숭아</th>\n",
              "    </tr>\n",
              "  </thead>\n",
              "  <tbody>\n",
              "    <tr>\n",
              "      <th>4월</th>\n",
              "      <td>756.0</td>\n",
              "      <td>402</td>\n",
              "      <td>102</td>\n",
              "      <td>332</td>\n",
              "      <td>32.0</td>\n",
              "    </tr>\n",
              "    <tr>\n",
              "      <th>5월</th>\n",
              "      <td>741.0</td>\n",
              "      <td>497</td>\n",
              "      <td>99</td>\n",
              "      <td>392</td>\n",
              "      <td>70.0</td>\n",
              "    </tr>\n",
              "    <tr>\n",
              "      <th>6월</th>\n",
              "      <td>794.0</td>\n",
              "      <td>306</td>\n",
              "      <td>80</td>\n",
              "      <td>391</td>\n",
              "      <td>26.0</td>\n",
              "    </tr>\n",
              "    <tr>\n",
              "      <th>7월</th>\n",
              "      <td>772.0</td>\n",
              "      <td>681</td>\n",
              "      <td>30</td>\n",
              "      <td>295</td>\n",
              "      <td>154.0</td>\n",
              "    </tr>\n",
              "    <tr>\n",
              "      <th>8월</th>\n",
              "      <td>703.0</td>\n",
              "      <td>573</td>\n",
              "      <td>143</td>\n",
              "      <td>374</td>\n",
              "      <td>201.0</td>\n",
              "    </tr>\n",
              "    <tr>\n",
              "      <th>9월</th>\n",
              "      <td>NaN</td>\n",
              "      <td>777</td>\n",
              "      <td>26</td>\n",
              "      <td>333</td>\n",
              "      <td>NaN</td>\n",
              "    </tr>\n",
              "    <tr>\n",
              "      <th>10월</th>\n",
              "      <td>NaN</td>\n",
              "      <td>821</td>\n",
              "      <td>21</td>\n",
              "      <td>282</td>\n",
              "      <td>NaN</td>\n",
              "    </tr>\n",
              "  </tbody>\n",
              "</table>\n",
              "</div>"
            ],
            "text/plain": [
              "        딸기   포도    배   사과    복숭아\n",
              "4월   756.0  402  102  332   32.0\n",
              "5월   741.0  497   99  392   70.0\n",
              "6월   794.0  306   80  391   26.0\n",
              "7월   772.0  681   30  295  154.0\n",
              "8월   703.0  573  143  374  201.0\n",
              "9월     NaN  777   26  333    NaN\n",
              "10월    NaN  821   21  282    NaN"
            ]
          },
          "execution_count": 478,
          "metadata": {},
          "output_type": "execute_result"
        }
      ]
    },
    {
      "cell_type": "markdown",
      "metadata": {
        "id": "gQDlDeLmKbet"
      },
      "source": [
        "특정 열의 특정 값을 두 가지 형식으로 인덱싱 하겠습니다. '딸기' 열의 '5월' 값과 '9월' 값입니다."
      ]
    },
    {
      "cell_type": "code",
      "metadata": {
        "colab": {
          "base_uri": "https://localhost:8080/"
        },
        "id": "rwJUk47OKpDd",
        "outputId": "b0c847e1-1ad4-495e-f8e4-478f18121478"
      },
      "source": [
        "dataframe4['딸기'][['5월', '9월']]"
      ],
      "execution_count": null,
      "outputs": [
        {
          "data": {
            "text/plain": [
              "5월    741.0\n",
              "9월      NaN\n",
              "Name: 딸기, dtype: float64"
            ]
          },
          "execution_count": 479,
          "metadata": {},
          "output_type": "execute_result"
        }
      ]
    },
    {
      "cell_type": "code",
      "metadata": {
        "colab": {
          "base_uri": "https://localhost:8080/"
        },
        "id": "XsLQhON4OJpU",
        "outputId": "fe01d390-7422-491f-d9dc-9d3c83291694"
      },
      "source": [
        "dataframe4['딸기'][[1, 5]]"
      ],
      "execution_count": null,
      "outputs": [
        {
          "data": {
            "text/plain": [
              "5월    741.0\n",
              "9월      NaN\n",
              "Name: 딸기, dtype: float64"
            ]
          },
          "execution_count": 480,
          "metadata": {},
          "output_type": "execute_result"
        }
      ]
    },
    {
      "cell_type": "markdown",
      "metadata": {
        "id": "9zvaTQxOLAUN"
      },
      "source": [
        "두 가지 형식으로 '딸기' 열의 '5월'부터 '9월'까지 슬라이싱 하겠습니다."
      ]
    },
    {
      "cell_type": "code",
      "metadata": {
        "colab": {
          "base_uri": "https://localhost:8080/"
        },
        "id": "GPGBuvVbK7PR",
        "outputId": "a5964b39-ff2d-4c5a-9292-62d28577197f"
      },
      "source": [
        "dataframe4['딸기']['5월':'9월']"
      ],
      "execution_count": null,
      "outputs": [
        {
          "data": {
            "text/plain": [
              "5월    741.0\n",
              "6월    794.0\n",
              "7월    772.0\n",
              "8월    703.0\n",
              "9월      NaN\n",
              "Name: 딸기, dtype: float64"
            ]
          },
          "execution_count": 481,
          "metadata": {},
          "output_type": "execute_result"
        }
      ]
    },
    {
      "cell_type": "code",
      "metadata": {
        "colab": {
          "base_uri": "https://localhost:8080/"
        },
        "id": "MBPNd2EKL_ho",
        "outputId": "bc1320ba-c1df-4330-cae3-e443316418d9"
      },
      "source": [
        "dataframe4['딸기'][1:6]"
      ],
      "execution_count": null,
      "outputs": [
        {
          "data": {
            "text/plain": [
              "5월    741.0\n",
              "6월    794.0\n",
              "7월    772.0\n",
              "8월    703.0\n",
              "9월      NaN\n",
              "Name: 딸기, dtype: float64"
            ]
          },
          "execution_count": 482,
          "metadata": {},
          "output_type": "execute_result"
        }
      ]
    },
    {
      "cell_type": "markdown",
      "metadata": {
        "id": "1retwragMxM6"
      },
      "source": [
        "`loc[]` 메서드와 `iloc[]` 메서드를 사용하여 원하는 원소를 가져오겠습니다. 먼저 '7월' 행의 '딸기' 열을 가져오겠습니다."
      ]
    },
    {
      "cell_type": "code",
      "metadata": {
        "colab": {
          "base_uri": "https://localhost:8080/",
          "height": 266
        },
        "id": "jjuujvBPNo4-",
        "outputId": "1013fec5-6299-495b-96bc-9bd0e5513ed1"
      },
      "source": [
        "dataframe4"
      ],
      "execution_count": null,
      "outputs": [
        {
          "data": {
            "text/html": [
              "<div>\n",
              "<style scoped>\n",
              "    .dataframe tbody tr th:only-of-type {\n",
              "        vertical-align: middle;\n",
              "    }\n",
              "\n",
              "    .dataframe tbody tr th {\n",
              "        vertical-align: top;\n",
              "    }\n",
              "\n",
              "    .dataframe thead th {\n",
              "        text-align: right;\n",
              "    }\n",
              "</style>\n",
              "<table border=\"1\" class=\"dataframe\">\n",
              "  <thead>\n",
              "    <tr style=\"text-align: right;\">\n",
              "      <th></th>\n",
              "      <th>배</th>\n",
              "      <th>사과</th>\n",
              "      <th>포도</th>\n",
              "      <th>딸기</th>\n",
              "      <th>복숭아</th>\n",
              "    </tr>\n",
              "  </thead>\n",
              "  <tbody>\n",
              "    <tr>\n",
              "      <th>4월</th>\n",
              "      <td>102</td>\n",
              "      <td>332</td>\n",
              "      <td>402</td>\n",
              "      <td>756.0</td>\n",
              "      <td>32.0</td>\n",
              "    </tr>\n",
              "    <tr>\n",
              "      <th>5월</th>\n",
              "      <td>99</td>\n",
              "      <td>392</td>\n",
              "      <td>497</td>\n",
              "      <td>741.0</td>\n",
              "      <td>70.0</td>\n",
              "    </tr>\n",
              "    <tr>\n",
              "      <th>6월</th>\n",
              "      <td>80</td>\n",
              "      <td>391</td>\n",
              "      <td>306</td>\n",
              "      <td>794.0</td>\n",
              "      <td>26.0</td>\n",
              "    </tr>\n",
              "    <tr>\n",
              "      <th>7월</th>\n",
              "      <td>30</td>\n",
              "      <td>295</td>\n",
              "      <td>681</td>\n",
              "      <td>772.0</td>\n",
              "      <td>154.0</td>\n",
              "    </tr>\n",
              "    <tr>\n",
              "      <th>8월</th>\n",
              "      <td>143</td>\n",
              "      <td>374</td>\n",
              "      <td>573</td>\n",
              "      <td>703.0</td>\n",
              "      <td>201.0</td>\n",
              "    </tr>\n",
              "    <tr>\n",
              "      <th>9월</th>\n",
              "      <td>26</td>\n",
              "      <td>333</td>\n",
              "      <td>777</td>\n",
              "      <td>NaN</td>\n",
              "      <td>NaN</td>\n",
              "    </tr>\n",
              "    <tr>\n",
              "      <th>10월</th>\n",
              "      <td>21</td>\n",
              "      <td>282</td>\n",
              "      <td>821</td>\n",
              "      <td>NaN</td>\n",
              "      <td>NaN</td>\n",
              "    </tr>\n",
              "  </tbody>\n",
              "</table>\n",
              "</div>"
            ],
            "text/plain": [
              "       배   사과   포도     딸기    복숭아\n",
              "4월   102  332  402  756.0   32.0\n",
              "5월    99  392  497  741.0   70.0\n",
              "6월    80  391  306  794.0   26.0\n",
              "7월    30  295  681  772.0  154.0\n",
              "8월   143  374  573  703.0  201.0\n",
              "9월    26  333  777    NaN    NaN\n",
              "10월   21  282  821    NaN    NaN"
            ]
          },
          "execution_count": 483,
          "metadata": {},
          "output_type": "execute_result"
        }
      ]
    },
    {
      "cell_type": "code",
      "metadata": {
        "colab": {
          "base_uri": "https://localhost:8080/"
        },
        "id": "j-SSk32gMv4r",
        "outputId": "dbd30779-9223-4610-d603-ea0b55118a26"
      },
      "source": [
        "dataframe4.loc['7월']['딸기']"
      ],
      "execution_count": null,
      "outputs": [
        {
          "data": {
            "text/plain": [
              "772.0"
            ]
          },
          "execution_count": 484,
          "metadata": {},
          "output_type": "execute_result"
        }
      ]
    },
    {
      "cell_type": "code",
      "metadata": {
        "colab": {
          "base_uri": "https://localhost:8080/"
        },
        "id": "AOcsPP99Mwx8",
        "outputId": "8f1f9492-84ae-4089-802e-6db19ce07aed"
      },
      "source": [
        "dataframe4.loc['7월', '딸기']"
      ],
      "execution_count": null,
      "outputs": [
        {
          "data": {
            "text/plain": [
              "772.0"
            ]
          },
          "execution_count": 485,
          "metadata": {},
          "output_type": "execute_result"
        }
      ]
    },
    {
      "cell_type": "code",
      "metadata": {
        "colab": {
          "base_uri": "https://localhost:8080/"
        },
        "id": "KXuKVruSNmRv",
        "outputId": "bb0d0b30-d95b-4b76-ed28-892809f6789b"
      },
      "source": [
        "dataframe4.iloc[3, 3]"
      ],
      "execution_count": null,
      "outputs": [
        {
          "data": {
            "text/plain": [
              "772.0"
            ]
          },
          "execution_count": 486,
          "metadata": {},
          "output_type": "execute_result"
        }
      ]
    },
    {
      "cell_type": "markdown",
      "metadata": {
        "id": "ev3PXAzzOL0e"
      },
      "source": [
        "여러 원소(시리즈)를 가져오겠습니다. '8월' 행의 '사과' 열과 '포도' 열을 가져오겠습니다."
      ]
    },
    {
      "cell_type": "code",
      "metadata": {
        "colab": {
          "base_uri": "https://localhost:8080/",
          "height": 266
        },
        "id": "DC1RNLY_P76z",
        "outputId": "ba813ed9-1dff-467f-a14e-3cb74bb3cb5d"
      },
      "source": [
        "dataframe4"
      ],
      "execution_count": null,
      "outputs": [
        {
          "data": {
            "text/html": [
              "<div>\n",
              "<style scoped>\n",
              "    .dataframe tbody tr th:only-of-type {\n",
              "        vertical-align: middle;\n",
              "    }\n",
              "\n",
              "    .dataframe tbody tr th {\n",
              "        vertical-align: top;\n",
              "    }\n",
              "\n",
              "    .dataframe thead th {\n",
              "        text-align: right;\n",
              "    }\n",
              "</style>\n",
              "<table border=\"1\" class=\"dataframe\">\n",
              "  <thead>\n",
              "    <tr style=\"text-align: right;\">\n",
              "      <th></th>\n",
              "      <th>배</th>\n",
              "      <th>사과</th>\n",
              "      <th>포도</th>\n",
              "      <th>딸기</th>\n",
              "      <th>복숭아</th>\n",
              "    </tr>\n",
              "  </thead>\n",
              "  <tbody>\n",
              "    <tr>\n",
              "      <th>4월</th>\n",
              "      <td>102</td>\n",
              "      <td>332</td>\n",
              "      <td>402</td>\n",
              "      <td>756.0</td>\n",
              "      <td>32.0</td>\n",
              "    </tr>\n",
              "    <tr>\n",
              "      <th>5월</th>\n",
              "      <td>99</td>\n",
              "      <td>392</td>\n",
              "      <td>497</td>\n",
              "      <td>741.0</td>\n",
              "      <td>70.0</td>\n",
              "    </tr>\n",
              "    <tr>\n",
              "      <th>6월</th>\n",
              "      <td>80</td>\n",
              "      <td>391</td>\n",
              "      <td>306</td>\n",
              "      <td>794.0</td>\n",
              "      <td>26.0</td>\n",
              "    </tr>\n",
              "    <tr>\n",
              "      <th>7월</th>\n",
              "      <td>30</td>\n",
              "      <td>295</td>\n",
              "      <td>681</td>\n",
              "      <td>772.0</td>\n",
              "      <td>154.0</td>\n",
              "    </tr>\n",
              "    <tr>\n",
              "      <th>8월</th>\n",
              "      <td>143</td>\n",
              "      <td>374</td>\n",
              "      <td>573</td>\n",
              "      <td>703.0</td>\n",
              "      <td>201.0</td>\n",
              "    </tr>\n",
              "    <tr>\n",
              "      <th>9월</th>\n",
              "      <td>26</td>\n",
              "      <td>333</td>\n",
              "      <td>777</td>\n",
              "      <td>NaN</td>\n",
              "      <td>NaN</td>\n",
              "    </tr>\n",
              "    <tr>\n",
              "      <th>10월</th>\n",
              "      <td>21</td>\n",
              "      <td>282</td>\n",
              "      <td>821</td>\n",
              "      <td>NaN</td>\n",
              "      <td>NaN</td>\n",
              "    </tr>\n",
              "  </tbody>\n",
              "</table>\n",
              "</div>"
            ],
            "text/plain": [
              "       배   사과   포도     딸기    복숭아\n",
              "4월   102  332  402  756.0   32.0\n",
              "5월    99  392  497  741.0   70.0\n",
              "6월    80  391  306  794.0   26.0\n",
              "7월    30  295  681  772.0  154.0\n",
              "8월   143  374  573  703.0  201.0\n",
              "9월    26  333  777    NaN    NaN\n",
              "10월   21  282  821    NaN    NaN"
            ]
          },
          "execution_count": 487,
          "metadata": {},
          "output_type": "execute_result"
        }
      ]
    },
    {
      "cell_type": "code",
      "metadata": {
        "colab": {
          "base_uri": "https://localhost:8080/"
        },
        "id": "E6oDPLa7OmeA",
        "outputId": "0dd7db84-4504-41f6-ba1c-1355881026af"
      },
      "source": [
        "dataframe4.loc['8월', ['사과', '포도']]"
      ],
      "execution_count": null,
      "outputs": [
        {
          "data": {
            "text/plain": [
              "사과    374.0\n",
              "포도    573.0\n",
              "Name: 8월, dtype: float64"
            ]
          },
          "execution_count": 488,
          "metadata": {},
          "output_type": "execute_result"
        }
      ]
    },
    {
      "cell_type": "code",
      "metadata": {
        "colab": {
          "base_uri": "https://localhost:8080/"
        },
        "id": "5Q3EpcGXO1ue",
        "outputId": "3ac79e91-b332-42b3-f0dc-a6774dc8435f"
      },
      "source": [
        "dataframe4.loc['8월', '사과':'포도']"
      ],
      "execution_count": null,
      "outputs": [
        {
          "data": {
            "text/plain": [
              "사과    374.0\n",
              "포도    573.0\n",
              "Name: 8월, dtype: float64"
            ]
          },
          "execution_count": 489,
          "metadata": {},
          "output_type": "execute_result"
        }
      ]
    },
    {
      "cell_type": "code",
      "metadata": {
        "colab": {
          "base_uri": "https://localhost:8080/"
        },
        "id": "-coRbhHtPGFI",
        "outputId": "76f54a91-c198-430d-e3b5-b7388c48765c"
      },
      "source": [
        "dataframe4.iloc[4, [1, 2]]"
      ],
      "execution_count": null,
      "outputs": [
        {
          "data": {
            "text/plain": [
              "사과    374.0\n",
              "포도    573.0\n",
              "Name: 8월, dtype: float64"
            ]
          },
          "execution_count": 490,
          "metadata": {},
          "output_type": "execute_result"
        }
      ]
    },
    {
      "cell_type": "code",
      "metadata": {
        "colab": {
          "base_uri": "https://localhost:8080/"
        },
        "id": "HciiSP2ZPF7g",
        "outputId": "a1c0e259-068a-49e8-f736-bcaaedcfe11c"
      },
      "source": [
        "dataframe4.iloc[4, 1:3]"
      ],
      "execution_count": null,
      "outputs": [
        {
          "data": {
            "text/plain": [
              "사과    374.0\n",
              "포도    573.0\n",
              "Name: 8월, dtype: float64"
            ]
          },
          "execution_count": 491,
          "metadata": {},
          "output_type": "execute_result"
        }
      ]
    },
    {
      "cell_type": "markdown",
      "metadata": {
        "id": "hE6yATBtQc8c"
      },
      "source": [
        "이번에는 '5월' 행과 '9월' 행의 '배' 값과 '복숭아' 값을 가져오겠습니다."
      ]
    },
    {
      "cell_type": "code",
      "metadata": {
        "colab": {
          "base_uri": "https://localhost:8080/",
          "height": 266
        },
        "id": "wIV1RtmuQbdi",
        "outputId": "c017cf36-8e1e-43e7-d167-61216af8433f"
      },
      "source": [
        "dataframe4"
      ],
      "execution_count": null,
      "outputs": [
        {
          "data": {
            "text/html": [
              "<div>\n",
              "<style scoped>\n",
              "    .dataframe tbody tr th:only-of-type {\n",
              "        vertical-align: middle;\n",
              "    }\n",
              "\n",
              "    .dataframe tbody tr th {\n",
              "        vertical-align: top;\n",
              "    }\n",
              "\n",
              "    .dataframe thead th {\n",
              "        text-align: right;\n",
              "    }\n",
              "</style>\n",
              "<table border=\"1\" class=\"dataframe\">\n",
              "  <thead>\n",
              "    <tr style=\"text-align: right;\">\n",
              "      <th></th>\n",
              "      <th>배</th>\n",
              "      <th>사과</th>\n",
              "      <th>포도</th>\n",
              "      <th>딸기</th>\n",
              "      <th>복숭아</th>\n",
              "    </tr>\n",
              "  </thead>\n",
              "  <tbody>\n",
              "    <tr>\n",
              "      <th>4월</th>\n",
              "      <td>102</td>\n",
              "      <td>332</td>\n",
              "      <td>402</td>\n",
              "      <td>756.0</td>\n",
              "      <td>32.0</td>\n",
              "    </tr>\n",
              "    <tr>\n",
              "      <th>5월</th>\n",
              "      <td>99</td>\n",
              "      <td>392</td>\n",
              "      <td>497</td>\n",
              "      <td>741.0</td>\n",
              "      <td>70.0</td>\n",
              "    </tr>\n",
              "    <tr>\n",
              "      <th>6월</th>\n",
              "      <td>80</td>\n",
              "      <td>391</td>\n",
              "      <td>306</td>\n",
              "      <td>794.0</td>\n",
              "      <td>26.0</td>\n",
              "    </tr>\n",
              "    <tr>\n",
              "      <th>7월</th>\n",
              "      <td>30</td>\n",
              "      <td>295</td>\n",
              "      <td>681</td>\n",
              "      <td>772.0</td>\n",
              "      <td>154.0</td>\n",
              "    </tr>\n",
              "    <tr>\n",
              "      <th>8월</th>\n",
              "      <td>143</td>\n",
              "      <td>374</td>\n",
              "      <td>573</td>\n",
              "      <td>703.0</td>\n",
              "      <td>201.0</td>\n",
              "    </tr>\n",
              "    <tr>\n",
              "      <th>9월</th>\n",
              "      <td>26</td>\n",
              "      <td>333</td>\n",
              "      <td>777</td>\n",
              "      <td>NaN</td>\n",
              "      <td>NaN</td>\n",
              "    </tr>\n",
              "    <tr>\n",
              "      <th>10월</th>\n",
              "      <td>21</td>\n",
              "      <td>282</td>\n",
              "      <td>821</td>\n",
              "      <td>NaN</td>\n",
              "      <td>NaN</td>\n",
              "    </tr>\n",
              "  </tbody>\n",
              "</table>\n",
              "</div>"
            ],
            "text/plain": [
              "       배   사과   포도     딸기    복숭아\n",
              "4월   102  332  402  756.0   32.0\n",
              "5월    99  392  497  741.0   70.0\n",
              "6월    80  391  306  794.0   26.0\n",
              "7월    30  295  681  772.0  154.0\n",
              "8월   143  374  573  703.0  201.0\n",
              "9월    26  333  777    NaN    NaN\n",
              "10월   21  282  821    NaN    NaN"
            ]
          },
          "execution_count": 492,
          "metadata": {},
          "output_type": "execute_result"
        }
      ]
    },
    {
      "cell_type": "code",
      "metadata": {
        "colab": {
          "base_uri": "https://localhost:8080/",
          "height": 111
        },
        "id": "JmM4YxScRUCL",
        "outputId": "b3a4453c-50db-407f-8f55-5db3e85c7241"
      },
      "source": [
        "dataframe4.loc[['5월', '9월'], ['배', '복숭아']]"
      ],
      "execution_count": null,
      "outputs": [
        {
          "data": {
            "text/html": [
              "<div>\n",
              "<style scoped>\n",
              "    .dataframe tbody tr th:only-of-type {\n",
              "        vertical-align: middle;\n",
              "    }\n",
              "\n",
              "    .dataframe tbody tr th {\n",
              "        vertical-align: top;\n",
              "    }\n",
              "\n",
              "    .dataframe thead th {\n",
              "        text-align: right;\n",
              "    }\n",
              "</style>\n",
              "<table border=\"1\" class=\"dataframe\">\n",
              "  <thead>\n",
              "    <tr style=\"text-align: right;\">\n",
              "      <th></th>\n",
              "      <th>배</th>\n",
              "      <th>복숭아</th>\n",
              "    </tr>\n",
              "  </thead>\n",
              "  <tbody>\n",
              "    <tr>\n",
              "      <th>5월</th>\n",
              "      <td>99</td>\n",
              "      <td>70.0</td>\n",
              "    </tr>\n",
              "    <tr>\n",
              "      <th>9월</th>\n",
              "      <td>26</td>\n",
              "      <td>NaN</td>\n",
              "    </tr>\n",
              "  </tbody>\n",
              "</table>\n",
              "</div>"
            ],
            "text/plain": [
              "     배   복숭아\n",
              "5월  99  70.0\n",
              "9월  26   NaN"
            ]
          },
          "execution_count": 493,
          "metadata": {},
          "output_type": "execute_result"
        }
      ]
    },
    {
      "cell_type": "code",
      "metadata": {
        "colab": {
          "base_uri": "https://localhost:8080/",
          "height": 111
        },
        "id": "XGDEZQ3DRz4n",
        "outputId": "b9def791-96ff-465e-e5c1-3673e324a8cd"
      },
      "source": [
        "dataframe4.iloc[[1, 5], [0, 4]]"
      ],
      "execution_count": null,
      "outputs": [
        {
          "data": {
            "text/html": [
              "<div>\n",
              "<style scoped>\n",
              "    .dataframe tbody tr th:only-of-type {\n",
              "        vertical-align: middle;\n",
              "    }\n",
              "\n",
              "    .dataframe tbody tr th {\n",
              "        vertical-align: top;\n",
              "    }\n",
              "\n",
              "    .dataframe thead th {\n",
              "        text-align: right;\n",
              "    }\n",
              "</style>\n",
              "<table border=\"1\" class=\"dataframe\">\n",
              "  <thead>\n",
              "    <tr style=\"text-align: right;\">\n",
              "      <th></th>\n",
              "      <th>배</th>\n",
              "      <th>복숭아</th>\n",
              "    </tr>\n",
              "  </thead>\n",
              "  <tbody>\n",
              "    <tr>\n",
              "      <th>5월</th>\n",
              "      <td>99</td>\n",
              "      <td>70.0</td>\n",
              "    </tr>\n",
              "    <tr>\n",
              "      <th>9월</th>\n",
              "      <td>26</td>\n",
              "      <td>NaN</td>\n",
              "    </tr>\n",
              "  </tbody>\n",
              "</table>\n",
              "</div>"
            ],
            "text/plain": [
              "     배   복숭아\n",
              "5월  99  70.0\n",
              "9월  26   NaN"
            ]
          },
          "execution_count": 494,
          "metadata": {},
          "output_type": "execute_result"
        }
      ]
    },
    {
      "cell_type": "markdown",
      "metadata": {
        "id": "Bea_U7J1Uh_9"
      },
      "source": [
        "## **2.4. 데이터 추가하기**"
      ]
    },
    {
      "cell_type": "markdown",
      "metadata": {
        "id": "Zu3Mqa1XUxYX"
      },
      "source": [
        "`dataframe4` 데이터프레임에 열을 추가하겠습니다. 먼저 `dataframe4` 데이터프레임을 복제합니다."
      ]
    },
    {
      "cell_type": "code",
      "metadata": {
        "colab": {
          "base_uri": "https://localhost:8080/",
          "height": 266
        },
        "id": "g7Oa-hYnZxSw",
        "outputId": "362272b3-c5ab-4864-ad30-53501506e492"
      },
      "source": [
        "dataframe4_add = dataframe4.copy()\n",
        "dataframe4_add"
      ],
      "execution_count": null,
      "outputs": [
        {
          "data": {
            "text/html": [
              "<div>\n",
              "<style scoped>\n",
              "    .dataframe tbody tr th:only-of-type {\n",
              "        vertical-align: middle;\n",
              "    }\n",
              "\n",
              "    .dataframe tbody tr th {\n",
              "        vertical-align: top;\n",
              "    }\n",
              "\n",
              "    .dataframe thead th {\n",
              "        text-align: right;\n",
              "    }\n",
              "</style>\n",
              "<table border=\"1\" class=\"dataframe\">\n",
              "  <thead>\n",
              "    <tr style=\"text-align: right;\">\n",
              "      <th></th>\n",
              "      <th>배</th>\n",
              "      <th>사과</th>\n",
              "      <th>포도</th>\n",
              "      <th>딸기</th>\n",
              "      <th>복숭아</th>\n",
              "    </tr>\n",
              "  </thead>\n",
              "  <tbody>\n",
              "    <tr>\n",
              "      <th>4월</th>\n",
              "      <td>102</td>\n",
              "      <td>332</td>\n",
              "      <td>402</td>\n",
              "      <td>756.0</td>\n",
              "      <td>32.0</td>\n",
              "    </tr>\n",
              "    <tr>\n",
              "      <th>5월</th>\n",
              "      <td>99</td>\n",
              "      <td>392</td>\n",
              "      <td>497</td>\n",
              "      <td>741.0</td>\n",
              "      <td>70.0</td>\n",
              "    </tr>\n",
              "    <tr>\n",
              "      <th>6월</th>\n",
              "      <td>80</td>\n",
              "      <td>391</td>\n",
              "      <td>306</td>\n",
              "      <td>794.0</td>\n",
              "      <td>26.0</td>\n",
              "    </tr>\n",
              "    <tr>\n",
              "      <th>7월</th>\n",
              "      <td>30</td>\n",
              "      <td>295</td>\n",
              "      <td>681</td>\n",
              "      <td>772.0</td>\n",
              "      <td>154.0</td>\n",
              "    </tr>\n",
              "    <tr>\n",
              "      <th>8월</th>\n",
              "      <td>143</td>\n",
              "      <td>374</td>\n",
              "      <td>573</td>\n",
              "      <td>703.0</td>\n",
              "      <td>201.0</td>\n",
              "    </tr>\n",
              "    <tr>\n",
              "      <th>9월</th>\n",
              "      <td>26</td>\n",
              "      <td>333</td>\n",
              "      <td>777</td>\n",
              "      <td>NaN</td>\n",
              "      <td>NaN</td>\n",
              "    </tr>\n",
              "    <tr>\n",
              "      <th>10월</th>\n",
              "      <td>21</td>\n",
              "      <td>282</td>\n",
              "      <td>821</td>\n",
              "      <td>NaN</td>\n",
              "      <td>NaN</td>\n",
              "    </tr>\n",
              "  </tbody>\n",
              "</table>\n",
              "</div>"
            ],
            "text/plain": [
              "       배   사과   포도     딸기    복숭아\n",
              "4월   102  332  402  756.0   32.0\n",
              "5월    99  392  497  741.0   70.0\n",
              "6월    80  391  306  794.0   26.0\n",
              "7월    30  295  681  772.0  154.0\n",
              "8월   143  374  573  703.0  201.0\n",
              "9월    26  333  777    NaN    NaN\n",
              "10월   21  282  821    NaN    NaN"
            ]
          },
          "execution_count": 495,
          "metadata": {},
          "output_type": "execute_result"
        }
      ]
    },
    {
      "cell_type": "markdown",
      "metadata": {
        "id": "P-MVurqAaZU6"
      },
      "source": [
        "복제한 `dataframe4_add` 데이터프레임에 '멜론' 열을 추가합니다."
      ]
    },
    {
      "cell_type": "code",
      "metadata": {
        "colab": {
          "base_uri": "https://localhost:8080/",
          "height": 266
        },
        "id": "E8iFv0fWZ8iG",
        "outputId": "a2959b8c-2294-4a9e-94bf-5c919e96a905"
      },
      "source": [
        "dataframe4_add['멜론'] = 150\n",
        "dataframe4_add"
      ],
      "execution_count": null,
      "outputs": [
        {
          "data": {
            "text/html": [
              "<div>\n",
              "<style scoped>\n",
              "    .dataframe tbody tr th:only-of-type {\n",
              "        vertical-align: middle;\n",
              "    }\n",
              "\n",
              "    .dataframe tbody tr th {\n",
              "        vertical-align: top;\n",
              "    }\n",
              "\n",
              "    .dataframe thead th {\n",
              "        text-align: right;\n",
              "    }\n",
              "</style>\n",
              "<table border=\"1\" class=\"dataframe\">\n",
              "  <thead>\n",
              "    <tr style=\"text-align: right;\">\n",
              "      <th></th>\n",
              "      <th>배</th>\n",
              "      <th>사과</th>\n",
              "      <th>포도</th>\n",
              "      <th>딸기</th>\n",
              "      <th>복숭아</th>\n",
              "      <th>멜론</th>\n",
              "    </tr>\n",
              "  </thead>\n",
              "  <tbody>\n",
              "    <tr>\n",
              "      <th>4월</th>\n",
              "      <td>102</td>\n",
              "      <td>332</td>\n",
              "      <td>402</td>\n",
              "      <td>756.0</td>\n",
              "      <td>32.0</td>\n",
              "      <td>150</td>\n",
              "    </tr>\n",
              "    <tr>\n",
              "      <th>5월</th>\n",
              "      <td>99</td>\n",
              "      <td>392</td>\n",
              "      <td>497</td>\n",
              "      <td>741.0</td>\n",
              "      <td>70.0</td>\n",
              "      <td>150</td>\n",
              "    </tr>\n",
              "    <tr>\n",
              "      <th>6월</th>\n",
              "      <td>80</td>\n",
              "      <td>391</td>\n",
              "      <td>306</td>\n",
              "      <td>794.0</td>\n",
              "      <td>26.0</td>\n",
              "      <td>150</td>\n",
              "    </tr>\n",
              "    <tr>\n",
              "      <th>7월</th>\n",
              "      <td>30</td>\n",
              "      <td>295</td>\n",
              "      <td>681</td>\n",
              "      <td>772.0</td>\n",
              "      <td>154.0</td>\n",
              "      <td>150</td>\n",
              "    </tr>\n",
              "    <tr>\n",
              "      <th>8월</th>\n",
              "      <td>143</td>\n",
              "      <td>374</td>\n",
              "      <td>573</td>\n",
              "      <td>703.0</td>\n",
              "      <td>201.0</td>\n",
              "      <td>150</td>\n",
              "    </tr>\n",
              "    <tr>\n",
              "      <th>9월</th>\n",
              "      <td>26</td>\n",
              "      <td>333</td>\n",
              "      <td>777</td>\n",
              "      <td>NaN</td>\n",
              "      <td>NaN</td>\n",
              "      <td>150</td>\n",
              "    </tr>\n",
              "    <tr>\n",
              "      <th>10월</th>\n",
              "      <td>21</td>\n",
              "      <td>282</td>\n",
              "      <td>821</td>\n",
              "      <td>NaN</td>\n",
              "      <td>NaN</td>\n",
              "      <td>150</td>\n",
              "    </tr>\n",
              "  </tbody>\n",
              "</table>\n",
              "</div>"
            ],
            "text/plain": [
              "       배   사과   포도     딸기    복숭아   멜론\n",
              "4월   102  332  402  756.0   32.0  150\n",
              "5월    99  392  497  741.0   70.0  150\n",
              "6월    80  391  306  794.0   26.0  150\n",
              "7월    30  295  681  772.0  154.0  150\n",
              "8월   143  374  573  703.0  201.0  150\n",
              "9월    26  333  777    NaN    NaN  150\n",
              "10월   21  282  821    NaN    NaN  150"
            ]
          },
          "execution_count": 496,
          "metadata": {},
          "output_type": "execute_result"
        }
      ]
    },
    {
      "cell_type": "markdown",
      "metadata": {
        "id": "gYVucMIeasVv"
      },
      "source": [
        "다수의 열 값을 추가하려면 리스트로 전달합니다."
      ]
    },
    {
      "cell_type": "code",
      "metadata": {
        "colab": {
          "base_uri": "https://localhost:8080/",
          "height": 266
        },
        "id": "NBHDkBKraxN5",
        "outputId": "2a96ddc5-a4d2-46bc-fb25-316a99b0cbce"
      },
      "source": [
        "dataframe4_add['망고'] = [100, 200, 300, 400, 500, 600, 700]\n",
        "dataframe4_add"
      ],
      "execution_count": null,
      "outputs": [
        {
          "data": {
            "text/html": [
              "<div>\n",
              "<style scoped>\n",
              "    .dataframe tbody tr th:only-of-type {\n",
              "        vertical-align: middle;\n",
              "    }\n",
              "\n",
              "    .dataframe tbody tr th {\n",
              "        vertical-align: top;\n",
              "    }\n",
              "\n",
              "    .dataframe thead th {\n",
              "        text-align: right;\n",
              "    }\n",
              "</style>\n",
              "<table border=\"1\" class=\"dataframe\">\n",
              "  <thead>\n",
              "    <tr style=\"text-align: right;\">\n",
              "      <th></th>\n",
              "      <th>배</th>\n",
              "      <th>사과</th>\n",
              "      <th>포도</th>\n",
              "      <th>딸기</th>\n",
              "      <th>복숭아</th>\n",
              "      <th>멜론</th>\n",
              "      <th>망고</th>\n",
              "    </tr>\n",
              "  </thead>\n",
              "  <tbody>\n",
              "    <tr>\n",
              "      <th>4월</th>\n",
              "      <td>102</td>\n",
              "      <td>332</td>\n",
              "      <td>402</td>\n",
              "      <td>756.0</td>\n",
              "      <td>32.0</td>\n",
              "      <td>150</td>\n",
              "      <td>100</td>\n",
              "    </tr>\n",
              "    <tr>\n",
              "      <th>5월</th>\n",
              "      <td>99</td>\n",
              "      <td>392</td>\n",
              "      <td>497</td>\n",
              "      <td>741.0</td>\n",
              "      <td>70.0</td>\n",
              "      <td>150</td>\n",
              "      <td>200</td>\n",
              "    </tr>\n",
              "    <tr>\n",
              "      <th>6월</th>\n",
              "      <td>80</td>\n",
              "      <td>391</td>\n",
              "      <td>306</td>\n",
              "      <td>794.0</td>\n",
              "      <td>26.0</td>\n",
              "      <td>150</td>\n",
              "      <td>300</td>\n",
              "    </tr>\n",
              "    <tr>\n",
              "      <th>7월</th>\n",
              "      <td>30</td>\n",
              "      <td>295</td>\n",
              "      <td>681</td>\n",
              "      <td>772.0</td>\n",
              "      <td>154.0</td>\n",
              "      <td>150</td>\n",
              "      <td>400</td>\n",
              "    </tr>\n",
              "    <tr>\n",
              "      <th>8월</th>\n",
              "      <td>143</td>\n",
              "      <td>374</td>\n",
              "      <td>573</td>\n",
              "      <td>703.0</td>\n",
              "      <td>201.0</td>\n",
              "      <td>150</td>\n",
              "      <td>500</td>\n",
              "    </tr>\n",
              "    <tr>\n",
              "      <th>9월</th>\n",
              "      <td>26</td>\n",
              "      <td>333</td>\n",
              "      <td>777</td>\n",
              "      <td>NaN</td>\n",
              "      <td>NaN</td>\n",
              "      <td>150</td>\n",
              "      <td>600</td>\n",
              "    </tr>\n",
              "    <tr>\n",
              "      <th>10월</th>\n",
              "      <td>21</td>\n",
              "      <td>282</td>\n",
              "      <td>821</td>\n",
              "      <td>NaN</td>\n",
              "      <td>NaN</td>\n",
              "      <td>150</td>\n",
              "      <td>700</td>\n",
              "    </tr>\n",
              "  </tbody>\n",
              "</table>\n",
              "</div>"
            ],
            "text/plain": [
              "       배   사과   포도     딸기    복숭아   멜론   망고\n",
              "4월   102  332  402  756.0   32.0  150  100\n",
              "5월    99  392  497  741.0   70.0  150  200\n",
              "6월    80  391  306  794.0   26.0  150  300\n",
              "7월    30  295  681  772.0  154.0  150  400\n",
              "8월   143  374  573  703.0  201.0  150  500\n",
              "9월    26  333  777    NaN    NaN  150  600\n",
              "10월   21  282  821    NaN    NaN  150  700"
            ]
          },
          "execution_count": 497,
          "metadata": {},
          "output_type": "execute_result"
        }
      ]
    },
    {
      "cell_type": "markdown",
      "metadata": {
        "id": "TPoYLtpRbAEM"
      },
      "source": [
        "다음으로 '11월' 행을 추가하겠습니다. 행을 추가하려면 반드시 `loc[]` 메서드 또는 `iloc[]` 메서드를 사용합니다."
      ]
    },
    {
      "cell_type": "code",
      "metadata": {
        "colab": {
          "base_uri": "https://localhost:8080/",
          "height": 297
        },
        "id": "uPi-G4U-bFvD",
        "outputId": "31bcb5e1-d154-4faa-8d1e-22149b1c30e5"
      },
      "source": [
        "dataframe4_add.loc['11월'] = 20\n",
        "dataframe4_add"
      ],
      "execution_count": null,
      "outputs": [
        {
          "data": {
            "text/html": [
              "<div>\n",
              "<style scoped>\n",
              "    .dataframe tbody tr th:only-of-type {\n",
              "        vertical-align: middle;\n",
              "    }\n",
              "\n",
              "    .dataframe tbody tr th {\n",
              "        vertical-align: top;\n",
              "    }\n",
              "\n",
              "    .dataframe thead th {\n",
              "        text-align: right;\n",
              "    }\n",
              "</style>\n",
              "<table border=\"1\" class=\"dataframe\">\n",
              "  <thead>\n",
              "    <tr style=\"text-align: right;\">\n",
              "      <th></th>\n",
              "      <th>배</th>\n",
              "      <th>사과</th>\n",
              "      <th>포도</th>\n",
              "      <th>딸기</th>\n",
              "      <th>복숭아</th>\n",
              "      <th>멜론</th>\n",
              "      <th>망고</th>\n",
              "    </tr>\n",
              "  </thead>\n",
              "  <tbody>\n",
              "    <tr>\n",
              "      <th>4월</th>\n",
              "      <td>102</td>\n",
              "      <td>332</td>\n",
              "      <td>402</td>\n",
              "      <td>756.0</td>\n",
              "      <td>32.0</td>\n",
              "      <td>150</td>\n",
              "      <td>100</td>\n",
              "    </tr>\n",
              "    <tr>\n",
              "      <th>5월</th>\n",
              "      <td>99</td>\n",
              "      <td>392</td>\n",
              "      <td>497</td>\n",
              "      <td>741.0</td>\n",
              "      <td>70.0</td>\n",
              "      <td>150</td>\n",
              "      <td>200</td>\n",
              "    </tr>\n",
              "    <tr>\n",
              "      <th>6월</th>\n",
              "      <td>80</td>\n",
              "      <td>391</td>\n",
              "      <td>306</td>\n",
              "      <td>794.0</td>\n",
              "      <td>26.0</td>\n",
              "      <td>150</td>\n",
              "      <td>300</td>\n",
              "    </tr>\n",
              "    <tr>\n",
              "      <th>7월</th>\n",
              "      <td>30</td>\n",
              "      <td>295</td>\n",
              "      <td>681</td>\n",
              "      <td>772.0</td>\n",
              "      <td>154.0</td>\n",
              "      <td>150</td>\n",
              "      <td>400</td>\n",
              "    </tr>\n",
              "    <tr>\n",
              "      <th>8월</th>\n",
              "      <td>143</td>\n",
              "      <td>374</td>\n",
              "      <td>573</td>\n",
              "      <td>703.0</td>\n",
              "      <td>201.0</td>\n",
              "      <td>150</td>\n",
              "      <td>500</td>\n",
              "    </tr>\n",
              "    <tr>\n",
              "      <th>9월</th>\n",
              "      <td>26</td>\n",
              "      <td>333</td>\n",
              "      <td>777</td>\n",
              "      <td>NaN</td>\n",
              "      <td>NaN</td>\n",
              "      <td>150</td>\n",
              "      <td>600</td>\n",
              "    </tr>\n",
              "    <tr>\n",
              "      <th>10월</th>\n",
              "      <td>21</td>\n",
              "      <td>282</td>\n",
              "      <td>821</td>\n",
              "      <td>NaN</td>\n",
              "      <td>NaN</td>\n",
              "      <td>150</td>\n",
              "      <td>700</td>\n",
              "    </tr>\n",
              "    <tr>\n",
              "      <th>11월</th>\n",
              "      <td>20</td>\n",
              "      <td>20</td>\n",
              "      <td>20</td>\n",
              "      <td>20.0</td>\n",
              "      <td>20.0</td>\n",
              "      <td>20</td>\n",
              "      <td>20</td>\n",
              "    </tr>\n",
              "  </tbody>\n",
              "</table>\n",
              "</div>"
            ],
            "text/plain": [
              "       배   사과   포도     딸기    복숭아   멜론   망고\n",
              "4월   102  332  402  756.0   32.0  150  100\n",
              "5월    99  392  497  741.0   70.0  150  200\n",
              "6월    80  391  306  794.0   26.0  150  300\n",
              "7월    30  295  681  772.0  154.0  150  400\n",
              "8월   143  374  573  703.0  201.0  150  500\n",
              "9월    26  333  777    NaN    NaN  150  600\n",
              "10월   21  282  821    NaN    NaN  150  700\n",
              "11월   20   20   20   20.0   20.0   20   20"
            ]
          },
          "execution_count": 498,
          "metadata": {},
          "output_type": "execute_result"
        }
      ]
    },
    {
      "cell_type": "markdown",
      "metadata": {
        "id": "w2sgB15sbqlB"
      },
      "source": [
        "'12월' 행에 각각 다른 값을 추가하겠습니다."
      ]
    },
    {
      "cell_type": "code",
      "metadata": {
        "colab": {
          "base_uri": "https://localhost:8080/",
          "height": 328
        },
        "id": "-Hgkuztbbodi",
        "outputId": "5a63f058-760b-44bf-c5f7-3482535fa94d"
      },
      "source": [
        "dataframe4_add.loc['12월'] = [100, 200, 300, 400, 500, 600, 700]\n",
        "dataframe4_add"
      ],
      "execution_count": null,
      "outputs": [
        {
          "data": {
            "text/html": [
              "<div>\n",
              "<style scoped>\n",
              "    .dataframe tbody tr th:only-of-type {\n",
              "        vertical-align: middle;\n",
              "    }\n",
              "\n",
              "    .dataframe tbody tr th {\n",
              "        vertical-align: top;\n",
              "    }\n",
              "\n",
              "    .dataframe thead th {\n",
              "        text-align: right;\n",
              "    }\n",
              "</style>\n",
              "<table border=\"1\" class=\"dataframe\">\n",
              "  <thead>\n",
              "    <tr style=\"text-align: right;\">\n",
              "      <th></th>\n",
              "      <th>배</th>\n",
              "      <th>사과</th>\n",
              "      <th>포도</th>\n",
              "      <th>딸기</th>\n",
              "      <th>복숭아</th>\n",
              "      <th>멜론</th>\n",
              "      <th>망고</th>\n",
              "    </tr>\n",
              "  </thead>\n",
              "  <tbody>\n",
              "    <tr>\n",
              "      <th>4월</th>\n",
              "      <td>102</td>\n",
              "      <td>332</td>\n",
              "      <td>402</td>\n",
              "      <td>756.0</td>\n",
              "      <td>32.0</td>\n",
              "      <td>150</td>\n",
              "      <td>100</td>\n",
              "    </tr>\n",
              "    <tr>\n",
              "      <th>5월</th>\n",
              "      <td>99</td>\n",
              "      <td>392</td>\n",
              "      <td>497</td>\n",
              "      <td>741.0</td>\n",
              "      <td>70.0</td>\n",
              "      <td>150</td>\n",
              "      <td>200</td>\n",
              "    </tr>\n",
              "    <tr>\n",
              "      <th>6월</th>\n",
              "      <td>80</td>\n",
              "      <td>391</td>\n",
              "      <td>306</td>\n",
              "      <td>794.0</td>\n",
              "      <td>26.0</td>\n",
              "      <td>150</td>\n",
              "      <td>300</td>\n",
              "    </tr>\n",
              "    <tr>\n",
              "      <th>7월</th>\n",
              "      <td>30</td>\n",
              "      <td>295</td>\n",
              "      <td>681</td>\n",
              "      <td>772.0</td>\n",
              "      <td>154.0</td>\n",
              "      <td>150</td>\n",
              "      <td>400</td>\n",
              "    </tr>\n",
              "    <tr>\n",
              "      <th>8월</th>\n",
              "      <td>143</td>\n",
              "      <td>374</td>\n",
              "      <td>573</td>\n",
              "      <td>703.0</td>\n",
              "      <td>201.0</td>\n",
              "      <td>150</td>\n",
              "      <td>500</td>\n",
              "    </tr>\n",
              "    <tr>\n",
              "      <th>9월</th>\n",
              "      <td>26</td>\n",
              "      <td>333</td>\n",
              "      <td>777</td>\n",
              "      <td>NaN</td>\n",
              "      <td>NaN</td>\n",
              "      <td>150</td>\n",
              "      <td>600</td>\n",
              "    </tr>\n",
              "    <tr>\n",
              "      <th>10월</th>\n",
              "      <td>21</td>\n",
              "      <td>282</td>\n",
              "      <td>821</td>\n",
              "      <td>NaN</td>\n",
              "      <td>NaN</td>\n",
              "      <td>150</td>\n",
              "      <td>700</td>\n",
              "    </tr>\n",
              "    <tr>\n",
              "      <th>11월</th>\n",
              "      <td>20</td>\n",
              "      <td>20</td>\n",
              "      <td>20</td>\n",
              "      <td>20.0</td>\n",
              "      <td>20.0</td>\n",
              "      <td>20</td>\n",
              "      <td>20</td>\n",
              "    </tr>\n",
              "    <tr>\n",
              "      <th>12월</th>\n",
              "      <td>100</td>\n",
              "      <td>200</td>\n",
              "      <td>300</td>\n",
              "      <td>400.0</td>\n",
              "      <td>500.0</td>\n",
              "      <td>600</td>\n",
              "      <td>700</td>\n",
              "    </tr>\n",
              "  </tbody>\n",
              "</table>\n",
              "</div>"
            ],
            "text/plain": [
              "       배   사과   포도     딸기    복숭아   멜론   망고\n",
              "4월   102  332  402  756.0   32.0  150  100\n",
              "5월    99  392  497  741.0   70.0  150  200\n",
              "6월    80  391  306  794.0   26.0  150  300\n",
              "7월    30  295  681  772.0  154.0  150  400\n",
              "8월   143  374  573  703.0  201.0  150  500\n",
              "9월    26  333  777    NaN    NaN  150  600\n",
              "10월   21  282  821    NaN    NaN  150  700\n",
              "11월   20   20   20   20.0   20.0   20   20\n",
              "12월  100  200  300  400.0  500.0  600  700"
            ]
          },
          "execution_count": 499,
          "metadata": {},
          "output_type": "execute_result"
        }
      ]
    },
    {
      "cell_type": "markdown",
      "metadata": {
        "id": "m3M8m9vzCAe1"
      },
      "source": [
        "## **2.5. 데이터 합치기**"
      ]
    },
    {
      "cell_type": "markdown",
      "metadata": {
        "id": "aaEV85-CRkLB"
      },
      "source": [
        "먼저 데이터프레임의 아래로 데이터를 붙이겠습니다. 사용할 함수는 `append()`입니다. 먼저 `dataframe5`를 생성하고, `dataframe4`의 아래에 붙이겠습니다."
      ]
    },
    {
      "cell_type": "code",
      "metadata": {
        "colab": {
          "base_uri": "https://localhost:8080/",
          "height": 266
        },
        "id": "-PmRuKfGPGFe",
        "outputId": "e7b9371c-3c11-46c7-82b9-e6f8fadfc1fa"
      },
      "source": [
        "dataframe4"
      ],
      "execution_count": null,
      "outputs": [
        {
          "data": {
            "text/html": [
              "<div>\n",
              "<style scoped>\n",
              "    .dataframe tbody tr th:only-of-type {\n",
              "        vertical-align: middle;\n",
              "    }\n",
              "\n",
              "    .dataframe tbody tr th {\n",
              "        vertical-align: top;\n",
              "    }\n",
              "\n",
              "    .dataframe thead th {\n",
              "        text-align: right;\n",
              "    }\n",
              "</style>\n",
              "<table border=\"1\" class=\"dataframe\">\n",
              "  <thead>\n",
              "    <tr style=\"text-align: right;\">\n",
              "      <th></th>\n",
              "      <th>배</th>\n",
              "      <th>사과</th>\n",
              "      <th>포도</th>\n",
              "      <th>딸기</th>\n",
              "      <th>복숭아</th>\n",
              "    </tr>\n",
              "  </thead>\n",
              "  <tbody>\n",
              "    <tr>\n",
              "      <th>4월</th>\n",
              "      <td>102</td>\n",
              "      <td>332</td>\n",
              "      <td>402</td>\n",
              "      <td>756.0</td>\n",
              "      <td>32.0</td>\n",
              "    </tr>\n",
              "    <tr>\n",
              "      <th>5월</th>\n",
              "      <td>99</td>\n",
              "      <td>392</td>\n",
              "      <td>497</td>\n",
              "      <td>741.0</td>\n",
              "      <td>70.0</td>\n",
              "    </tr>\n",
              "    <tr>\n",
              "      <th>6월</th>\n",
              "      <td>80</td>\n",
              "      <td>391</td>\n",
              "      <td>306</td>\n",
              "      <td>794.0</td>\n",
              "      <td>26.0</td>\n",
              "    </tr>\n",
              "    <tr>\n",
              "      <th>7월</th>\n",
              "      <td>30</td>\n",
              "      <td>295</td>\n",
              "      <td>681</td>\n",
              "      <td>772.0</td>\n",
              "      <td>154.0</td>\n",
              "    </tr>\n",
              "    <tr>\n",
              "      <th>8월</th>\n",
              "      <td>143</td>\n",
              "      <td>374</td>\n",
              "      <td>573</td>\n",
              "      <td>703.0</td>\n",
              "      <td>201.0</td>\n",
              "    </tr>\n",
              "    <tr>\n",
              "      <th>9월</th>\n",
              "      <td>26</td>\n",
              "      <td>333</td>\n",
              "      <td>777</td>\n",
              "      <td>NaN</td>\n",
              "      <td>NaN</td>\n",
              "    </tr>\n",
              "    <tr>\n",
              "      <th>10월</th>\n",
              "      <td>21</td>\n",
              "      <td>282</td>\n",
              "      <td>821</td>\n",
              "      <td>NaN</td>\n",
              "      <td>NaN</td>\n",
              "    </tr>\n",
              "  </tbody>\n",
              "</table>\n",
              "</div>"
            ],
            "text/plain": [
              "       배   사과   포도     딸기    복숭아\n",
              "4월   102  332  402  756.0   32.0\n",
              "5월    99  392  497  741.0   70.0\n",
              "6월    80  391  306  794.0   26.0\n",
              "7월    30  295  681  772.0  154.0\n",
              "8월   143  374  573  703.0  201.0\n",
              "9월    26  333  777    NaN    NaN\n",
              "10월   21  282  821    NaN    NaN"
            ]
          },
          "execution_count": 500,
          "metadata": {},
          "output_type": "execute_result"
        }
      ]
    },
    {
      "cell_type": "code",
      "metadata": {
        "colab": {
          "base_uri": "https://localhost:8080/",
          "height": 111
        },
        "id": "kWJjWO_LOqnv",
        "outputId": "915636ec-c15b-4742-d090-f716cc3d0cda"
      },
      "source": [
        "dataframe5 = pd.DataFrame({'배':[30, 40],\n",
        "                           '사과': [300, 400],\n",
        "                           '포도': [200, 300],\n",
        "                           '딸기': [100, 150],\n",
        "                           '복숭아': [200, 240]})\n",
        "dataframe5"
      ],
      "execution_count": null,
      "outputs": [
        {
          "data": {
            "text/html": [
              "<div>\n",
              "<style scoped>\n",
              "    .dataframe tbody tr th:only-of-type {\n",
              "        vertical-align: middle;\n",
              "    }\n",
              "\n",
              "    .dataframe tbody tr th {\n",
              "        vertical-align: top;\n",
              "    }\n",
              "\n",
              "    .dataframe thead th {\n",
              "        text-align: right;\n",
              "    }\n",
              "</style>\n",
              "<table border=\"1\" class=\"dataframe\">\n",
              "  <thead>\n",
              "    <tr style=\"text-align: right;\">\n",
              "      <th></th>\n",
              "      <th>배</th>\n",
              "      <th>사과</th>\n",
              "      <th>포도</th>\n",
              "      <th>딸기</th>\n",
              "      <th>복숭아</th>\n",
              "    </tr>\n",
              "  </thead>\n",
              "  <tbody>\n",
              "    <tr>\n",
              "      <th>0</th>\n",
              "      <td>30</td>\n",
              "      <td>300</td>\n",
              "      <td>200</td>\n",
              "      <td>100</td>\n",
              "      <td>200</td>\n",
              "    </tr>\n",
              "    <tr>\n",
              "      <th>1</th>\n",
              "      <td>40</td>\n",
              "      <td>400</td>\n",
              "      <td>300</td>\n",
              "      <td>150</td>\n",
              "      <td>240</td>\n",
              "    </tr>\n",
              "  </tbody>\n",
              "</table>\n",
              "</div>"
            ],
            "text/plain": [
              "    배   사과   포도   딸기  복숭아\n",
              "0  30  300  200  100  200\n",
              "1  40  400  300  150  240"
            ]
          },
          "execution_count": 501,
          "metadata": {},
          "output_type": "execute_result"
        }
      ]
    },
    {
      "cell_type": "code",
      "metadata": {
        "colab": {
          "base_uri": "https://localhost:8080/",
          "height": 328
        },
        "id": "OPor1ulNP56n",
        "outputId": "97fbcdd4-61cc-4418-82fb-2b95a4040dac"
      },
      "source": [
        "dataframe4.append(dataframe5)"
      ],
      "execution_count": null,
      "outputs": [
        {
          "data": {
            "text/html": [
              "<div>\n",
              "<style scoped>\n",
              "    .dataframe tbody tr th:only-of-type {\n",
              "        vertical-align: middle;\n",
              "    }\n",
              "\n",
              "    .dataframe tbody tr th {\n",
              "        vertical-align: top;\n",
              "    }\n",
              "\n",
              "    .dataframe thead th {\n",
              "        text-align: right;\n",
              "    }\n",
              "</style>\n",
              "<table border=\"1\" class=\"dataframe\">\n",
              "  <thead>\n",
              "    <tr style=\"text-align: right;\">\n",
              "      <th></th>\n",
              "      <th>배</th>\n",
              "      <th>사과</th>\n",
              "      <th>포도</th>\n",
              "      <th>딸기</th>\n",
              "      <th>복숭아</th>\n",
              "    </tr>\n",
              "  </thead>\n",
              "  <tbody>\n",
              "    <tr>\n",
              "      <th>4월</th>\n",
              "      <td>102</td>\n",
              "      <td>332</td>\n",
              "      <td>402</td>\n",
              "      <td>756.0</td>\n",
              "      <td>32.0</td>\n",
              "    </tr>\n",
              "    <tr>\n",
              "      <th>5월</th>\n",
              "      <td>99</td>\n",
              "      <td>392</td>\n",
              "      <td>497</td>\n",
              "      <td>741.0</td>\n",
              "      <td>70.0</td>\n",
              "    </tr>\n",
              "    <tr>\n",
              "      <th>6월</th>\n",
              "      <td>80</td>\n",
              "      <td>391</td>\n",
              "      <td>306</td>\n",
              "      <td>794.0</td>\n",
              "      <td>26.0</td>\n",
              "    </tr>\n",
              "    <tr>\n",
              "      <th>7월</th>\n",
              "      <td>30</td>\n",
              "      <td>295</td>\n",
              "      <td>681</td>\n",
              "      <td>772.0</td>\n",
              "      <td>154.0</td>\n",
              "    </tr>\n",
              "    <tr>\n",
              "      <th>8월</th>\n",
              "      <td>143</td>\n",
              "      <td>374</td>\n",
              "      <td>573</td>\n",
              "      <td>703.0</td>\n",
              "      <td>201.0</td>\n",
              "    </tr>\n",
              "    <tr>\n",
              "      <th>9월</th>\n",
              "      <td>26</td>\n",
              "      <td>333</td>\n",
              "      <td>777</td>\n",
              "      <td>NaN</td>\n",
              "      <td>NaN</td>\n",
              "    </tr>\n",
              "    <tr>\n",
              "      <th>10월</th>\n",
              "      <td>21</td>\n",
              "      <td>282</td>\n",
              "      <td>821</td>\n",
              "      <td>NaN</td>\n",
              "      <td>NaN</td>\n",
              "    </tr>\n",
              "    <tr>\n",
              "      <th>0</th>\n",
              "      <td>30</td>\n",
              "      <td>300</td>\n",
              "      <td>200</td>\n",
              "      <td>100.0</td>\n",
              "      <td>200.0</td>\n",
              "    </tr>\n",
              "    <tr>\n",
              "      <th>1</th>\n",
              "      <td>40</td>\n",
              "      <td>400</td>\n",
              "      <td>300</td>\n",
              "      <td>150.0</td>\n",
              "      <td>240.0</td>\n",
              "    </tr>\n",
              "  </tbody>\n",
              "</table>\n",
              "</div>"
            ],
            "text/plain": [
              "       배   사과   포도     딸기    복숭아\n",
              "4월   102  332  402  756.0   32.0\n",
              "5월    99  392  497  741.0   70.0\n",
              "6월    80  391  306  794.0   26.0\n",
              "7월    30  295  681  772.0  154.0\n",
              "8월   143  374  573  703.0  201.0\n",
              "9월    26  333  777    NaN    NaN\n",
              "10월   21  282  821    NaN    NaN\n",
              "0     30  300  200  100.0  200.0\n",
              "1     40  400  300  150.0  240.0"
            ]
          },
          "execution_count": 502,
          "metadata": {},
          "output_type": "execute_result"
        }
      ]
    },
    {
      "cell_type": "markdown",
      "metadata": {
        "id": "yyRPhzV5QF8L"
      },
      "source": [
        "`append()` 함수의 `ignore_index` 매개변수에 `True` 인자를 지정하면 인덱스가 순서대로 통합됩니다."
      ]
    },
    {
      "cell_type": "code",
      "metadata": {
        "colab": {
          "base_uri": "https://localhost:8080/",
          "height": 328
        },
        "id": "MFAEqxJtQQsu",
        "outputId": "52e5f226-1fdc-4afa-88f8-42589ddea44a"
      },
      "source": [
        "dataframe4.append(dataframe5, ignore_index=True)"
      ],
      "execution_count": null,
      "outputs": [
        {
          "data": {
            "text/html": [
              "<div>\n",
              "<style scoped>\n",
              "    .dataframe tbody tr th:only-of-type {\n",
              "        vertical-align: middle;\n",
              "    }\n",
              "\n",
              "    .dataframe tbody tr th {\n",
              "        vertical-align: top;\n",
              "    }\n",
              "\n",
              "    .dataframe thead th {\n",
              "        text-align: right;\n",
              "    }\n",
              "</style>\n",
              "<table border=\"1\" class=\"dataframe\">\n",
              "  <thead>\n",
              "    <tr style=\"text-align: right;\">\n",
              "      <th></th>\n",
              "      <th>배</th>\n",
              "      <th>사과</th>\n",
              "      <th>포도</th>\n",
              "      <th>딸기</th>\n",
              "      <th>복숭아</th>\n",
              "    </tr>\n",
              "  </thead>\n",
              "  <tbody>\n",
              "    <tr>\n",
              "      <th>0</th>\n",
              "      <td>102</td>\n",
              "      <td>332</td>\n",
              "      <td>402</td>\n",
              "      <td>756.0</td>\n",
              "      <td>32.0</td>\n",
              "    </tr>\n",
              "    <tr>\n",
              "      <th>1</th>\n",
              "      <td>99</td>\n",
              "      <td>392</td>\n",
              "      <td>497</td>\n",
              "      <td>741.0</td>\n",
              "      <td>70.0</td>\n",
              "    </tr>\n",
              "    <tr>\n",
              "      <th>2</th>\n",
              "      <td>80</td>\n",
              "      <td>391</td>\n",
              "      <td>306</td>\n",
              "      <td>794.0</td>\n",
              "      <td>26.0</td>\n",
              "    </tr>\n",
              "    <tr>\n",
              "      <th>3</th>\n",
              "      <td>30</td>\n",
              "      <td>295</td>\n",
              "      <td>681</td>\n",
              "      <td>772.0</td>\n",
              "      <td>154.0</td>\n",
              "    </tr>\n",
              "    <tr>\n",
              "      <th>4</th>\n",
              "      <td>143</td>\n",
              "      <td>374</td>\n",
              "      <td>573</td>\n",
              "      <td>703.0</td>\n",
              "      <td>201.0</td>\n",
              "    </tr>\n",
              "    <tr>\n",
              "      <th>5</th>\n",
              "      <td>26</td>\n",
              "      <td>333</td>\n",
              "      <td>777</td>\n",
              "      <td>NaN</td>\n",
              "      <td>NaN</td>\n",
              "    </tr>\n",
              "    <tr>\n",
              "      <th>6</th>\n",
              "      <td>21</td>\n",
              "      <td>282</td>\n",
              "      <td>821</td>\n",
              "      <td>NaN</td>\n",
              "      <td>NaN</td>\n",
              "    </tr>\n",
              "    <tr>\n",
              "      <th>7</th>\n",
              "      <td>30</td>\n",
              "      <td>300</td>\n",
              "      <td>200</td>\n",
              "      <td>100.0</td>\n",
              "      <td>200.0</td>\n",
              "    </tr>\n",
              "    <tr>\n",
              "      <th>8</th>\n",
              "      <td>40</td>\n",
              "      <td>400</td>\n",
              "      <td>300</td>\n",
              "      <td>150.0</td>\n",
              "      <td>240.0</td>\n",
              "    </tr>\n",
              "  </tbody>\n",
              "</table>\n",
              "</div>"
            ],
            "text/plain": [
              "     배   사과   포도     딸기    복숭아\n",
              "0  102  332  402  756.0   32.0\n",
              "1   99  392  497  741.0   70.0\n",
              "2   80  391  306  794.0   26.0\n",
              "3   30  295  681  772.0  154.0\n",
              "4  143  374  573  703.0  201.0\n",
              "5   26  333  777    NaN    NaN\n",
              "6   21  282  821    NaN    NaN\n",
              "7   30  300  200  100.0  200.0\n",
              "8   40  400  300  150.0  240.0"
            ]
          },
          "execution_count": 503,
          "metadata": {},
          "output_type": "execute_result"
        }
      ]
    },
    {
      "cell_type": "markdown",
      "metadata": {
        "id": "HGvCLFgeQdxE"
      },
      "source": [
        "인덱스가 0부터 오름차순으로 부여됐지만 기존에 지정했던 'n월' 형식은 초기화됐습니다.  "
      ]
    },
    {
      "cell_type": "markdown",
      "metadata": {
        "id": "ql2oYVdoQrM1"
      },
      "source": [
        "만약 모든 열의 데이터를 합치지 않는다면 나머지 열의 데이터는 모두 `Nan`으로 표시됩니다."
      ]
    },
    {
      "cell_type": "code",
      "metadata": {
        "colab": {
          "base_uri": "https://localhost:8080/",
          "height": 328
        },
        "id": "KwjWSkpaQ2mm",
        "outputId": "5a230256-3fe1-41e5-f645-d4a2b62ddc69"
      },
      "source": [
        "dataframe6 = pd.DataFrame({'배': [10, 20]})\n",
        "dataframe4.append(dataframe6, ignore_index=True)"
      ],
      "execution_count": null,
      "outputs": [
        {
          "data": {
            "text/html": [
              "<div>\n",
              "<style scoped>\n",
              "    .dataframe tbody tr th:only-of-type {\n",
              "        vertical-align: middle;\n",
              "    }\n",
              "\n",
              "    .dataframe tbody tr th {\n",
              "        vertical-align: top;\n",
              "    }\n",
              "\n",
              "    .dataframe thead th {\n",
              "        text-align: right;\n",
              "    }\n",
              "</style>\n",
              "<table border=\"1\" class=\"dataframe\">\n",
              "  <thead>\n",
              "    <tr style=\"text-align: right;\">\n",
              "      <th></th>\n",
              "      <th>배</th>\n",
              "      <th>사과</th>\n",
              "      <th>포도</th>\n",
              "      <th>딸기</th>\n",
              "      <th>복숭아</th>\n",
              "    </tr>\n",
              "  </thead>\n",
              "  <tbody>\n",
              "    <tr>\n",
              "      <th>0</th>\n",
              "      <td>102</td>\n",
              "      <td>332.0</td>\n",
              "      <td>402.0</td>\n",
              "      <td>756.0</td>\n",
              "      <td>32.0</td>\n",
              "    </tr>\n",
              "    <tr>\n",
              "      <th>1</th>\n",
              "      <td>99</td>\n",
              "      <td>392.0</td>\n",
              "      <td>497.0</td>\n",
              "      <td>741.0</td>\n",
              "      <td>70.0</td>\n",
              "    </tr>\n",
              "    <tr>\n",
              "      <th>2</th>\n",
              "      <td>80</td>\n",
              "      <td>391.0</td>\n",
              "      <td>306.0</td>\n",
              "      <td>794.0</td>\n",
              "      <td>26.0</td>\n",
              "    </tr>\n",
              "    <tr>\n",
              "      <th>3</th>\n",
              "      <td>30</td>\n",
              "      <td>295.0</td>\n",
              "      <td>681.0</td>\n",
              "      <td>772.0</td>\n",
              "      <td>154.0</td>\n",
              "    </tr>\n",
              "    <tr>\n",
              "      <th>4</th>\n",
              "      <td>143</td>\n",
              "      <td>374.0</td>\n",
              "      <td>573.0</td>\n",
              "      <td>703.0</td>\n",
              "      <td>201.0</td>\n",
              "    </tr>\n",
              "    <tr>\n",
              "      <th>5</th>\n",
              "      <td>26</td>\n",
              "      <td>333.0</td>\n",
              "      <td>777.0</td>\n",
              "      <td>NaN</td>\n",
              "      <td>NaN</td>\n",
              "    </tr>\n",
              "    <tr>\n",
              "      <th>6</th>\n",
              "      <td>21</td>\n",
              "      <td>282.0</td>\n",
              "      <td>821.0</td>\n",
              "      <td>NaN</td>\n",
              "      <td>NaN</td>\n",
              "    </tr>\n",
              "    <tr>\n",
              "      <th>7</th>\n",
              "      <td>10</td>\n",
              "      <td>NaN</td>\n",
              "      <td>NaN</td>\n",
              "      <td>NaN</td>\n",
              "      <td>NaN</td>\n",
              "    </tr>\n",
              "    <tr>\n",
              "      <th>8</th>\n",
              "      <td>20</td>\n",
              "      <td>NaN</td>\n",
              "      <td>NaN</td>\n",
              "      <td>NaN</td>\n",
              "      <td>NaN</td>\n",
              "    </tr>\n",
              "  </tbody>\n",
              "</table>\n",
              "</div>"
            ],
            "text/plain": [
              "     배     사과     포도     딸기    복숭아\n",
              "0  102  332.0  402.0  756.0   32.0\n",
              "1   99  392.0  497.0  741.0   70.0\n",
              "2   80  391.0  306.0  794.0   26.0\n",
              "3   30  295.0  681.0  772.0  154.0\n",
              "4  143  374.0  573.0  703.0  201.0\n",
              "5   26  333.0  777.0    NaN    NaN\n",
              "6   21  282.0  821.0    NaN    NaN\n",
              "7   10    NaN    NaN    NaN    NaN\n",
              "8   20    NaN    NaN    NaN    NaN"
            ]
          },
          "execution_count": 504,
          "metadata": {},
          "output_type": "execute_result"
        }
      ]
    },
    {
      "cell_type": "markdown",
      "metadata": {
        "id": "XmPh6Slgw4Dl"
      },
      "source": [
        "`concat()` 메서드를 사용하면 합집합을 기준으로 열 이름 배열이 추가됩니다. 매개변수 `join='outer'`가 기본값입니다. `append()` 메서드와 비슷합니다."
      ]
    },
    {
      "cell_type": "code",
      "metadata": {
        "colab": {
          "base_uri": "https://localhost:8080/",
          "height": 328
        },
        "id": "86rSAWB6xTcI",
        "outputId": "0305a41f-d4ee-4117-c416-ae163d9fd3c5"
      },
      "source": [
        "pd.concat([dataframe4, dataframe5])"
      ],
      "execution_count": null,
      "outputs": [
        {
          "data": {
            "text/html": [
              "<div>\n",
              "<style scoped>\n",
              "    .dataframe tbody tr th:only-of-type {\n",
              "        vertical-align: middle;\n",
              "    }\n",
              "\n",
              "    .dataframe tbody tr th {\n",
              "        vertical-align: top;\n",
              "    }\n",
              "\n",
              "    .dataframe thead th {\n",
              "        text-align: right;\n",
              "    }\n",
              "</style>\n",
              "<table border=\"1\" class=\"dataframe\">\n",
              "  <thead>\n",
              "    <tr style=\"text-align: right;\">\n",
              "      <th></th>\n",
              "      <th>배</th>\n",
              "      <th>사과</th>\n",
              "      <th>포도</th>\n",
              "      <th>딸기</th>\n",
              "      <th>복숭아</th>\n",
              "    </tr>\n",
              "  </thead>\n",
              "  <tbody>\n",
              "    <tr>\n",
              "      <th>4월</th>\n",
              "      <td>102</td>\n",
              "      <td>332</td>\n",
              "      <td>402</td>\n",
              "      <td>756.0</td>\n",
              "      <td>32.0</td>\n",
              "    </tr>\n",
              "    <tr>\n",
              "      <th>5월</th>\n",
              "      <td>99</td>\n",
              "      <td>392</td>\n",
              "      <td>497</td>\n",
              "      <td>741.0</td>\n",
              "      <td>70.0</td>\n",
              "    </tr>\n",
              "    <tr>\n",
              "      <th>6월</th>\n",
              "      <td>80</td>\n",
              "      <td>391</td>\n",
              "      <td>306</td>\n",
              "      <td>794.0</td>\n",
              "      <td>26.0</td>\n",
              "    </tr>\n",
              "    <tr>\n",
              "      <th>7월</th>\n",
              "      <td>30</td>\n",
              "      <td>295</td>\n",
              "      <td>681</td>\n",
              "      <td>772.0</td>\n",
              "      <td>154.0</td>\n",
              "    </tr>\n",
              "    <tr>\n",
              "      <th>8월</th>\n",
              "      <td>143</td>\n",
              "      <td>374</td>\n",
              "      <td>573</td>\n",
              "      <td>703.0</td>\n",
              "      <td>201.0</td>\n",
              "    </tr>\n",
              "    <tr>\n",
              "      <th>9월</th>\n",
              "      <td>26</td>\n",
              "      <td>333</td>\n",
              "      <td>777</td>\n",
              "      <td>NaN</td>\n",
              "      <td>NaN</td>\n",
              "    </tr>\n",
              "    <tr>\n",
              "      <th>10월</th>\n",
              "      <td>21</td>\n",
              "      <td>282</td>\n",
              "      <td>821</td>\n",
              "      <td>NaN</td>\n",
              "      <td>NaN</td>\n",
              "    </tr>\n",
              "    <tr>\n",
              "      <th>0</th>\n",
              "      <td>30</td>\n",
              "      <td>300</td>\n",
              "      <td>200</td>\n",
              "      <td>100.0</td>\n",
              "      <td>200.0</td>\n",
              "    </tr>\n",
              "    <tr>\n",
              "      <th>1</th>\n",
              "      <td>40</td>\n",
              "      <td>400</td>\n",
              "      <td>300</td>\n",
              "      <td>150.0</td>\n",
              "      <td>240.0</td>\n",
              "    </tr>\n",
              "  </tbody>\n",
              "</table>\n",
              "</div>"
            ],
            "text/plain": [
              "       배   사과   포도     딸기    복숭아\n",
              "4월   102  332  402  756.0   32.0\n",
              "5월    99  392  497  741.0   70.0\n",
              "6월    80  391  306  794.0   26.0\n",
              "7월    30  295  681  772.0  154.0\n",
              "8월   143  374  573  703.0  201.0\n",
              "9월    26  333  777    NaN    NaN\n",
              "10월   21  282  821    NaN    NaN\n",
              "0     30  300  200  100.0  200.0\n",
              "1     40  400  300  150.0  240.0"
            ]
          },
          "execution_count": 505,
          "metadata": {},
          "output_type": "execute_result"
        }
      ]
    },
    {
      "cell_type": "markdown",
      "metadata": {
        "id": "cdXo8j2b0GOC"
      },
      "source": [
        "`ignore_index` 매개변수에 `True`를 인자로 전달하면 인덱스가 초기화되고 오름차순으로 부여됩니다."
      ]
    },
    {
      "cell_type": "code",
      "metadata": {
        "colab": {
          "base_uri": "https://localhost:8080/",
          "height": 328
        },
        "id": "NQPnMG9I0TV9",
        "outputId": "8a5525a7-58c3-4f35-f936-9b46d4a15cc5"
      },
      "source": [
        "pd.concat([dataframe4, dataframe5], ignore_index=True)"
      ],
      "execution_count": null,
      "outputs": [
        {
          "data": {
            "text/html": [
              "<div>\n",
              "<style scoped>\n",
              "    .dataframe tbody tr th:only-of-type {\n",
              "        vertical-align: middle;\n",
              "    }\n",
              "\n",
              "    .dataframe tbody tr th {\n",
              "        vertical-align: top;\n",
              "    }\n",
              "\n",
              "    .dataframe thead th {\n",
              "        text-align: right;\n",
              "    }\n",
              "</style>\n",
              "<table border=\"1\" class=\"dataframe\">\n",
              "  <thead>\n",
              "    <tr style=\"text-align: right;\">\n",
              "      <th></th>\n",
              "      <th>배</th>\n",
              "      <th>사과</th>\n",
              "      <th>포도</th>\n",
              "      <th>딸기</th>\n",
              "      <th>복숭아</th>\n",
              "    </tr>\n",
              "  </thead>\n",
              "  <tbody>\n",
              "    <tr>\n",
              "      <th>0</th>\n",
              "      <td>102</td>\n",
              "      <td>332</td>\n",
              "      <td>402</td>\n",
              "      <td>756.0</td>\n",
              "      <td>32.0</td>\n",
              "    </tr>\n",
              "    <tr>\n",
              "      <th>1</th>\n",
              "      <td>99</td>\n",
              "      <td>392</td>\n",
              "      <td>497</td>\n",
              "      <td>741.0</td>\n",
              "      <td>70.0</td>\n",
              "    </tr>\n",
              "    <tr>\n",
              "      <th>2</th>\n",
              "      <td>80</td>\n",
              "      <td>391</td>\n",
              "      <td>306</td>\n",
              "      <td>794.0</td>\n",
              "      <td>26.0</td>\n",
              "    </tr>\n",
              "    <tr>\n",
              "      <th>3</th>\n",
              "      <td>30</td>\n",
              "      <td>295</td>\n",
              "      <td>681</td>\n",
              "      <td>772.0</td>\n",
              "      <td>154.0</td>\n",
              "    </tr>\n",
              "    <tr>\n",
              "      <th>4</th>\n",
              "      <td>143</td>\n",
              "      <td>374</td>\n",
              "      <td>573</td>\n",
              "      <td>703.0</td>\n",
              "      <td>201.0</td>\n",
              "    </tr>\n",
              "    <tr>\n",
              "      <th>5</th>\n",
              "      <td>26</td>\n",
              "      <td>333</td>\n",
              "      <td>777</td>\n",
              "      <td>NaN</td>\n",
              "      <td>NaN</td>\n",
              "    </tr>\n",
              "    <tr>\n",
              "      <th>6</th>\n",
              "      <td>21</td>\n",
              "      <td>282</td>\n",
              "      <td>821</td>\n",
              "      <td>NaN</td>\n",
              "      <td>NaN</td>\n",
              "    </tr>\n",
              "    <tr>\n",
              "      <th>7</th>\n",
              "      <td>30</td>\n",
              "      <td>300</td>\n",
              "      <td>200</td>\n",
              "      <td>100.0</td>\n",
              "      <td>200.0</td>\n",
              "    </tr>\n",
              "    <tr>\n",
              "      <th>8</th>\n",
              "      <td>40</td>\n",
              "      <td>400</td>\n",
              "      <td>300</td>\n",
              "      <td>150.0</td>\n",
              "      <td>240.0</td>\n",
              "    </tr>\n",
              "  </tbody>\n",
              "</table>\n",
              "</div>"
            ],
            "text/plain": [
              "     배   사과   포도     딸기    복숭아\n",
              "0  102  332  402  756.0   32.0\n",
              "1   99  392  497  741.0   70.0\n",
              "2   80  391  306  794.0   26.0\n",
              "3   30  295  681  772.0  154.0\n",
              "4  143  374  573  703.0  201.0\n",
              "5   26  333  777    NaN    NaN\n",
              "6   21  282  821    NaN    NaN\n",
              "7   30  300  200  100.0  200.0\n",
              "8   40  400  300  150.0  240.0"
            ]
          },
          "execution_count": 506,
          "metadata": {},
          "output_type": "execute_result"
        }
      ]
    },
    {
      "cell_type": "markdown",
      "metadata": {
        "id": "tUwpav-q2b-h"
      },
      "source": [
        "`axis=1`로 지정하면 열(오른쪽)로 추가합니다."
      ]
    },
    {
      "cell_type": "code",
      "metadata": {
        "colab": {
          "base_uri": "https://localhost:8080/",
          "height": 328
        },
        "id": "jFx5WqwD0Z8d",
        "outputId": "02f7c507-815e-4daa-c6ed-d8fc368198bf"
      },
      "source": [
        "pd.concat([dataframe4, dataframe5], axis=1)"
      ],
      "execution_count": null,
      "outputs": [
        {
          "data": {
            "text/html": [
              "<div>\n",
              "<style scoped>\n",
              "    .dataframe tbody tr th:only-of-type {\n",
              "        vertical-align: middle;\n",
              "    }\n",
              "\n",
              "    .dataframe tbody tr th {\n",
              "        vertical-align: top;\n",
              "    }\n",
              "\n",
              "    .dataframe thead th {\n",
              "        text-align: right;\n",
              "    }\n",
              "</style>\n",
              "<table border=\"1\" class=\"dataframe\">\n",
              "  <thead>\n",
              "    <tr style=\"text-align: right;\">\n",
              "      <th></th>\n",
              "      <th>배</th>\n",
              "      <th>사과</th>\n",
              "      <th>포도</th>\n",
              "      <th>딸기</th>\n",
              "      <th>복숭아</th>\n",
              "      <th>배</th>\n",
              "      <th>사과</th>\n",
              "      <th>포도</th>\n",
              "      <th>딸기</th>\n",
              "      <th>복숭아</th>\n",
              "    </tr>\n",
              "  </thead>\n",
              "  <tbody>\n",
              "    <tr>\n",
              "      <th>0</th>\n",
              "      <td>NaN</td>\n",
              "      <td>NaN</td>\n",
              "      <td>NaN</td>\n",
              "      <td>NaN</td>\n",
              "      <td>NaN</td>\n",
              "      <td>30.0</td>\n",
              "      <td>300.0</td>\n",
              "      <td>200.0</td>\n",
              "      <td>100.0</td>\n",
              "      <td>200.0</td>\n",
              "    </tr>\n",
              "    <tr>\n",
              "      <th>1</th>\n",
              "      <td>NaN</td>\n",
              "      <td>NaN</td>\n",
              "      <td>NaN</td>\n",
              "      <td>NaN</td>\n",
              "      <td>NaN</td>\n",
              "      <td>40.0</td>\n",
              "      <td>400.0</td>\n",
              "      <td>300.0</td>\n",
              "      <td>150.0</td>\n",
              "      <td>240.0</td>\n",
              "    </tr>\n",
              "    <tr>\n",
              "      <th>10월</th>\n",
              "      <td>21.0</td>\n",
              "      <td>282.0</td>\n",
              "      <td>821.0</td>\n",
              "      <td>NaN</td>\n",
              "      <td>NaN</td>\n",
              "      <td>NaN</td>\n",
              "      <td>NaN</td>\n",
              "      <td>NaN</td>\n",
              "      <td>NaN</td>\n",
              "      <td>NaN</td>\n",
              "    </tr>\n",
              "    <tr>\n",
              "      <th>4월</th>\n",
              "      <td>102.0</td>\n",
              "      <td>332.0</td>\n",
              "      <td>402.0</td>\n",
              "      <td>756.0</td>\n",
              "      <td>32.0</td>\n",
              "      <td>NaN</td>\n",
              "      <td>NaN</td>\n",
              "      <td>NaN</td>\n",
              "      <td>NaN</td>\n",
              "      <td>NaN</td>\n",
              "    </tr>\n",
              "    <tr>\n",
              "      <th>5월</th>\n",
              "      <td>99.0</td>\n",
              "      <td>392.0</td>\n",
              "      <td>497.0</td>\n",
              "      <td>741.0</td>\n",
              "      <td>70.0</td>\n",
              "      <td>NaN</td>\n",
              "      <td>NaN</td>\n",
              "      <td>NaN</td>\n",
              "      <td>NaN</td>\n",
              "      <td>NaN</td>\n",
              "    </tr>\n",
              "    <tr>\n",
              "      <th>6월</th>\n",
              "      <td>80.0</td>\n",
              "      <td>391.0</td>\n",
              "      <td>306.0</td>\n",
              "      <td>794.0</td>\n",
              "      <td>26.0</td>\n",
              "      <td>NaN</td>\n",
              "      <td>NaN</td>\n",
              "      <td>NaN</td>\n",
              "      <td>NaN</td>\n",
              "      <td>NaN</td>\n",
              "    </tr>\n",
              "    <tr>\n",
              "      <th>7월</th>\n",
              "      <td>30.0</td>\n",
              "      <td>295.0</td>\n",
              "      <td>681.0</td>\n",
              "      <td>772.0</td>\n",
              "      <td>154.0</td>\n",
              "      <td>NaN</td>\n",
              "      <td>NaN</td>\n",
              "      <td>NaN</td>\n",
              "      <td>NaN</td>\n",
              "      <td>NaN</td>\n",
              "    </tr>\n",
              "    <tr>\n",
              "      <th>8월</th>\n",
              "      <td>143.0</td>\n",
              "      <td>374.0</td>\n",
              "      <td>573.0</td>\n",
              "      <td>703.0</td>\n",
              "      <td>201.0</td>\n",
              "      <td>NaN</td>\n",
              "      <td>NaN</td>\n",
              "      <td>NaN</td>\n",
              "      <td>NaN</td>\n",
              "      <td>NaN</td>\n",
              "    </tr>\n",
              "    <tr>\n",
              "      <th>9월</th>\n",
              "      <td>26.0</td>\n",
              "      <td>333.0</td>\n",
              "      <td>777.0</td>\n",
              "      <td>NaN</td>\n",
              "      <td>NaN</td>\n",
              "      <td>NaN</td>\n",
              "      <td>NaN</td>\n",
              "      <td>NaN</td>\n",
              "      <td>NaN</td>\n",
              "      <td>NaN</td>\n",
              "    </tr>\n",
              "  </tbody>\n",
              "</table>\n",
              "</div>"
            ],
            "text/plain": [
              "         배     사과     포도     딸기    복숭아     배     사과     포도     딸기    복숭아\n",
              "0      NaN    NaN    NaN    NaN    NaN  30.0  300.0  200.0  100.0  200.0\n",
              "1      NaN    NaN    NaN    NaN    NaN  40.0  400.0  300.0  150.0  240.0\n",
              "10월   21.0  282.0  821.0    NaN    NaN   NaN    NaN    NaN    NaN    NaN\n",
              "4월   102.0  332.0  402.0  756.0   32.0   NaN    NaN    NaN    NaN    NaN\n",
              "5월    99.0  392.0  497.0  741.0   70.0   NaN    NaN    NaN    NaN    NaN\n",
              "6월    80.0  391.0  306.0  794.0   26.0   NaN    NaN    NaN    NaN    NaN\n",
              "7월    30.0  295.0  681.0  772.0  154.0   NaN    NaN    NaN    NaN    NaN\n",
              "8월   143.0  374.0  573.0  703.0  201.0   NaN    NaN    NaN    NaN    NaN\n",
              "9월    26.0  333.0  777.0    NaN    NaN   NaN    NaN    NaN    NaN    NaN"
            ]
          },
          "execution_count": 507,
          "metadata": {},
          "output_type": "execute_result"
        }
      ]
    },
    {
      "cell_type": "markdown",
      "metadata": {
        "id": "pPbbJbzD_cT-"
      },
      "source": [
        "`join` 매개변수에 `'inner'`를 인자로 전달하겠습니다. `axis=0`인 경우에는 공통된 열을 기준으로 교집합을 적용하고, `axis=1`인 경우에는 공통된 행 인덱스를 기준으로 교집합을 적용합니다."
      ]
    },
    {
      "cell_type": "code",
      "metadata": {
        "colab": {
          "base_uri": "https://localhost:8080/",
          "height": 328
        },
        "id": "EY1uQK4F_MaQ",
        "outputId": "691066b1-9e2f-4a0f-c3cc-1d603dd76daa"
      },
      "source": [
        "pd.concat([dataframe4, dataframe5], axis=0, join='inner')"
      ],
      "execution_count": null,
      "outputs": [
        {
          "data": {
            "text/html": [
              "<div>\n",
              "<style scoped>\n",
              "    .dataframe tbody tr th:only-of-type {\n",
              "        vertical-align: middle;\n",
              "    }\n",
              "\n",
              "    .dataframe tbody tr th {\n",
              "        vertical-align: top;\n",
              "    }\n",
              "\n",
              "    .dataframe thead th {\n",
              "        text-align: right;\n",
              "    }\n",
              "</style>\n",
              "<table border=\"1\" class=\"dataframe\">\n",
              "  <thead>\n",
              "    <tr style=\"text-align: right;\">\n",
              "      <th></th>\n",
              "      <th>배</th>\n",
              "      <th>사과</th>\n",
              "      <th>포도</th>\n",
              "      <th>딸기</th>\n",
              "      <th>복숭아</th>\n",
              "    </tr>\n",
              "  </thead>\n",
              "  <tbody>\n",
              "    <tr>\n",
              "      <th>4월</th>\n",
              "      <td>102</td>\n",
              "      <td>332</td>\n",
              "      <td>402</td>\n",
              "      <td>756.0</td>\n",
              "      <td>32.0</td>\n",
              "    </tr>\n",
              "    <tr>\n",
              "      <th>5월</th>\n",
              "      <td>99</td>\n",
              "      <td>392</td>\n",
              "      <td>497</td>\n",
              "      <td>741.0</td>\n",
              "      <td>70.0</td>\n",
              "    </tr>\n",
              "    <tr>\n",
              "      <th>6월</th>\n",
              "      <td>80</td>\n",
              "      <td>391</td>\n",
              "      <td>306</td>\n",
              "      <td>794.0</td>\n",
              "      <td>26.0</td>\n",
              "    </tr>\n",
              "    <tr>\n",
              "      <th>7월</th>\n",
              "      <td>30</td>\n",
              "      <td>295</td>\n",
              "      <td>681</td>\n",
              "      <td>772.0</td>\n",
              "      <td>154.0</td>\n",
              "    </tr>\n",
              "    <tr>\n",
              "      <th>8월</th>\n",
              "      <td>143</td>\n",
              "      <td>374</td>\n",
              "      <td>573</td>\n",
              "      <td>703.0</td>\n",
              "      <td>201.0</td>\n",
              "    </tr>\n",
              "    <tr>\n",
              "      <th>9월</th>\n",
              "      <td>26</td>\n",
              "      <td>333</td>\n",
              "      <td>777</td>\n",
              "      <td>NaN</td>\n",
              "      <td>NaN</td>\n",
              "    </tr>\n",
              "    <tr>\n",
              "      <th>10월</th>\n",
              "      <td>21</td>\n",
              "      <td>282</td>\n",
              "      <td>821</td>\n",
              "      <td>NaN</td>\n",
              "      <td>NaN</td>\n",
              "    </tr>\n",
              "    <tr>\n",
              "      <th>0</th>\n",
              "      <td>30</td>\n",
              "      <td>300</td>\n",
              "      <td>200</td>\n",
              "      <td>100.0</td>\n",
              "      <td>200.0</td>\n",
              "    </tr>\n",
              "    <tr>\n",
              "      <th>1</th>\n",
              "      <td>40</td>\n",
              "      <td>400</td>\n",
              "      <td>300</td>\n",
              "      <td>150.0</td>\n",
              "      <td>240.0</td>\n",
              "    </tr>\n",
              "  </tbody>\n",
              "</table>\n",
              "</div>"
            ],
            "text/plain": [
              "       배   사과   포도     딸기    복숭아\n",
              "4월   102  332  402  756.0   32.0\n",
              "5월    99  392  497  741.0   70.0\n",
              "6월    80  391  306  794.0   26.0\n",
              "7월    30  295  681  772.0  154.0\n",
              "8월   143  374  573  703.0  201.0\n",
              "9월    26  333  777    NaN    NaN\n",
              "10월   21  282  821    NaN    NaN\n",
              "0     30  300  200  100.0  200.0\n",
              "1     40  400  300  150.0  240.0"
            ]
          },
          "execution_count": 508,
          "metadata": {},
          "output_type": "execute_result"
        }
      ]
    },
    {
      "cell_type": "markdown",
      "metadata": {
        "id": "E1jIzFZuALAG"
      },
      "source": [
        "`axis=1`로 지정하겠습니다. `axis=1`이므로 행 인덱스를 기준으로 교집합을 적용합니다. 공통된 행 인덱스가 없으므로 아무 값도 추가되지 않습니다."
      ]
    },
    {
      "cell_type": "code",
      "metadata": {
        "colab": {
          "base_uri": "https://localhost:8080/",
          "height": 49
        },
        "id": "gj1v2dyq_-qD",
        "outputId": "48e6b6b3-7568-4adb-b14c-10b5871936f0"
      },
      "source": [
        "pd.concat([dataframe4, dataframe5], axis=1, join='inner')"
      ],
      "execution_count": null,
      "outputs": [
        {
          "data": {
            "text/html": [
              "<div>\n",
              "<style scoped>\n",
              "    .dataframe tbody tr th:only-of-type {\n",
              "        vertical-align: middle;\n",
              "    }\n",
              "\n",
              "    .dataframe tbody tr th {\n",
              "        vertical-align: top;\n",
              "    }\n",
              "\n",
              "    .dataframe thead th {\n",
              "        text-align: right;\n",
              "    }\n",
              "</style>\n",
              "<table border=\"1\" class=\"dataframe\">\n",
              "  <thead>\n",
              "    <tr style=\"text-align: right;\">\n",
              "      <th></th>\n",
              "      <th>배</th>\n",
              "      <th>사과</th>\n",
              "      <th>포도</th>\n",
              "      <th>딸기</th>\n",
              "      <th>복숭아</th>\n",
              "      <th>배</th>\n",
              "      <th>사과</th>\n",
              "      <th>포도</th>\n",
              "      <th>딸기</th>\n",
              "      <th>복숭아</th>\n",
              "    </tr>\n",
              "  </thead>\n",
              "  <tbody>\n",
              "  </tbody>\n",
              "</table>\n",
              "</div>"
            ],
            "text/plain": [
              "Empty DataFrame\n",
              "Columns: [배, 사과, 포도, 딸기, 복숭아, 배, 사과, 포도, 딸기, 복숭아]\n",
              "Index: []"
            ]
          },
          "execution_count": 509,
          "metadata": {},
          "output_type": "execute_result"
        }
      ]
    },
    {
      "cell_type": "markdown",
      "metadata": {
        "id": "-gtcW5DbAoYZ"
      },
      "source": [
        "예시를 들기 위해 `dataframe4_test` 데이터프레임을 만듭니다. 인덱스명을 지정하지 않겠습니다."
      ]
    },
    {
      "cell_type": "code",
      "metadata": {
        "colab": {
          "base_uri": "https://localhost:8080/",
          "height": 266
        },
        "id": "Z1c32OmNAnG7",
        "outputId": "74e7fb90-7687-44b2-faa0-4c37511e005c"
      },
      "source": [
        "dic_data5_noindex = {'사과': [332, 392, 391, 295, 374, 333, 282],\n",
        "             '배': [102, 99, 80, 30, 143, 26, 21],\n",
        "             '포도': [402, 497, 306, 681, 573, 777, 821],\n",
        "             '딸기': [756, 741, 794, 772, 703, np.nan, np.nan],\n",
        "             '복숭아': [32, 70, 26, 154, 201, np.nan, np.nan]}\n",
        "col_list2_noindex = ['배', '사과', '포도', '딸기', '복숭아']\n",
        "\n",
        "dataframe4_noindex = pd.DataFrame(dic_data5_noindex, columns=col_list2_noindex)\n",
        "dataframe4_noindex"
      ],
      "execution_count": null,
      "outputs": [
        {
          "data": {
            "text/html": [
              "<div>\n",
              "<style scoped>\n",
              "    .dataframe tbody tr th:only-of-type {\n",
              "        vertical-align: middle;\n",
              "    }\n",
              "\n",
              "    .dataframe tbody tr th {\n",
              "        vertical-align: top;\n",
              "    }\n",
              "\n",
              "    .dataframe thead th {\n",
              "        text-align: right;\n",
              "    }\n",
              "</style>\n",
              "<table border=\"1\" class=\"dataframe\">\n",
              "  <thead>\n",
              "    <tr style=\"text-align: right;\">\n",
              "      <th></th>\n",
              "      <th>배</th>\n",
              "      <th>사과</th>\n",
              "      <th>포도</th>\n",
              "      <th>딸기</th>\n",
              "      <th>복숭아</th>\n",
              "    </tr>\n",
              "  </thead>\n",
              "  <tbody>\n",
              "    <tr>\n",
              "      <th>0</th>\n",
              "      <td>102</td>\n",
              "      <td>332</td>\n",
              "      <td>402</td>\n",
              "      <td>756.0</td>\n",
              "      <td>32.0</td>\n",
              "    </tr>\n",
              "    <tr>\n",
              "      <th>1</th>\n",
              "      <td>99</td>\n",
              "      <td>392</td>\n",
              "      <td>497</td>\n",
              "      <td>741.0</td>\n",
              "      <td>70.0</td>\n",
              "    </tr>\n",
              "    <tr>\n",
              "      <th>2</th>\n",
              "      <td>80</td>\n",
              "      <td>391</td>\n",
              "      <td>306</td>\n",
              "      <td>794.0</td>\n",
              "      <td>26.0</td>\n",
              "    </tr>\n",
              "    <tr>\n",
              "      <th>3</th>\n",
              "      <td>30</td>\n",
              "      <td>295</td>\n",
              "      <td>681</td>\n",
              "      <td>772.0</td>\n",
              "      <td>154.0</td>\n",
              "    </tr>\n",
              "    <tr>\n",
              "      <th>4</th>\n",
              "      <td>143</td>\n",
              "      <td>374</td>\n",
              "      <td>573</td>\n",
              "      <td>703.0</td>\n",
              "      <td>201.0</td>\n",
              "    </tr>\n",
              "    <tr>\n",
              "      <th>5</th>\n",
              "      <td>26</td>\n",
              "      <td>333</td>\n",
              "      <td>777</td>\n",
              "      <td>NaN</td>\n",
              "      <td>NaN</td>\n",
              "    </tr>\n",
              "    <tr>\n",
              "      <th>6</th>\n",
              "      <td>21</td>\n",
              "      <td>282</td>\n",
              "      <td>821</td>\n",
              "      <td>NaN</td>\n",
              "      <td>NaN</td>\n",
              "    </tr>\n",
              "  </tbody>\n",
              "</table>\n",
              "</div>"
            ],
            "text/plain": [
              "     배   사과   포도     딸기    복숭아\n",
              "0  102  332  402  756.0   32.0\n",
              "1   99  392  497  741.0   70.0\n",
              "2   80  391  306  794.0   26.0\n",
              "3   30  295  681  772.0  154.0\n",
              "4  143  374  573  703.0  201.0\n",
              "5   26  333  777    NaN    NaN\n",
              "6   21  282  821    NaN    NaN"
            ]
          },
          "execution_count": 510,
          "metadata": {},
          "output_type": "execute_result"
        }
      ]
    },
    {
      "cell_type": "markdown",
      "metadata": {
        "id": "OHd2oU0SA9SU"
      },
      "source": [
        "다시 `axis=1`과 `join='inner'`를 지정합니다."
      ]
    },
    {
      "cell_type": "code",
      "metadata": {
        "colab": {
          "base_uri": "https://localhost:8080/",
          "height": 111
        },
        "id": "vm0tvPoeBGNL",
        "outputId": "f19baeb3-ba43-4c74-aa1d-a52325966396"
      },
      "source": [
        "pd.concat([dataframe4_noindex, dataframe5], axis=1, join='inner')"
      ],
      "execution_count": null,
      "outputs": [
        {
          "data": {
            "text/html": [
              "<div>\n",
              "<style scoped>\n",
              "    .dataframe tbody tr th:only-of-type {\n",
              "        vertical-align: middle;\n",
              "    }\n",
              "\n",
              "    .dataframe tbody tr th {\n",
              "        vertical-align: top;\n",
              "    }\n",
              "\n",
              "    .dataframe thead th {\n",
              "        text-align: right;\n",
              "    }\n",
              "</style>\n",
              "<table border=\"1\" class=\"dataframe\">\n",
              "  <thead>\n",
              "    <tr style=\"text-align: right;\">\n",
              "      <th></th>\n",
              "      <th>배</th>\n",
              "      <th>사과</th>\n",
              "      <th>포도</th>\n",
              "      <th>딸기</th>\n",
              "      <th>복숭아</th>\n",
              "      <th>배</th>\n",
              "      <th>사과</th>\n",
              "      <th>포도</th>\n",
              "      <th>딸기</th>\n",
              "      <th>복숭아</th>\n",
              "    </tr>\n",
              "  </thead>\n",
              "  <tbody>\n",
              "    <tr>\n",
              "      <th>0</th>\n",
              "      <td>102</td>\n",
              "      <td>332</td>\n",
              "      <td>402</td>\n",
              "      <td>756.0</td>\n",
              "      <td>32.0</td>\n",
              "      <td>30</td>\n",
              "      <td>300</td>\n",
              "      <td>200</td>\n",
              "      <td>100</td>\n",
              "      <td>200</td>\n",
              "    </tr>\n",
              "    <tr>\n",
              "      <th>1</th>\n",
              "      <td>99</td>\n",
              "      <td>392</td>\n",
              "      <td>497</td>\n",
              "      <td>741.0</td>\n",
              "      <td>70.0</td>\n",
              "      <td>40</td>\n",
              "      <td>400</td>\n",
              "      <td>300</td>\n",
              "      <td>150</td>\n",
              "      <td>240</td>\n",
              "    </tr>\n",
              "  </tbody>\n",
              "</table>\n",
              "</div>"
            ],
            "text/plain": [
              "     배   사과   포도     딸기   복숭아   배   사과   포도   딸기  복숭아\n",
              "0  102  332  402  756.0  32.0  30  300  200  100  200\n",
              "1   99  392  497  741.0  70.0  40  400  300  150  240"
            ]
          },
          "execution_count": 511,
          "metadata": {},
          "output_type": "execute_result"
        }
      ]
    },
    {
      "cell_type": "markdown",
      "metadata": {
        "id": "8uj56TTWLxbr"
      },
      "source": [
        "시리즈를 시리즈에, 시리즈를 데이터프레임에 합치겠습니다. 먼저 시리즈를 생성합니다."
      ]
    },
    {
      "cell_type": "code",
      "metadata": {
        "id": "3ri8r1SnL3Sz"
      },
      "source": [
        "test_series1 = pd.Series([11, 22], name='고추', index=[2, 3])\n",
        "test_series2 = pd.Series([33, 44, 55], name='배', index=[3, 4, 5])"
      ],
      "execution_count": 622,
      "outputs": []
    },
    {
      "cell_type": "markdown",
      "metadata": {
        "id": "BAP-R2m7Of_R"
      },
      "source": [
        "생성한 시리즈끼리 합치겠습니다."
      ]
    },
    {
      "cell_type": "code",
      "metadata": {
        "colab": {
          "base_uri": "https://localhost:8080/",
          "height": 173
        },
        "id": "u4Q5PqWrOjlN",
        "outputId": "8ddbbd2c-8f4b-4a70-e537-7f9f2ef78027"
      },
      "source": [
        "pd.concat([test_series1, test_series2], axis=1)"
      ],
      "execution_count": 630,
      "outputs": [
        {
          "output_type": "execute_result",
          "data": {
            "text/html": [
              "<div>\n",
              "<style scoped>\n",
              "    .dataframe tbody tr th:only-of-type {\n",
              "        vertical-align: middle;\n",
              "    }\n",
              "\n",
              "    .dataframe tbody tr th {\n",
              "        vertical-align: top;\n",
              "    }\n",
              "\n",
              "    .dataframe thead th {\n",
              "        text-align: right;\n",
              "    }\n",
              "</style>\n",
              "<table border=\"1\" class=\"dataframe\">\n",
              "  <thead>\n",
              "    <tr style=\"text-align: right;\">\n",
              "      <th></th>\n",
              "      <th>고추</th>\n",
              "      <th>배</th>\n",
              "    </tr>\n",
              "  </thead>\n",
              "  <tbody>\n",
              "    <tr>\n",
              "      <th>2</th>\n",
              "      <td>11.0</td>\n",
              "      <td>NaN</td>\n",
              "    </tr>\n",
              "    <tr>\n",
              "      <th>3</th>\n",
              "      <td>22.0</td>\n",
              "      <td>33.0</td>\n",
              "    </tr>\n",
              "    <tr>\n",
              "      <th>4</th>\n",
              "      <td>NaN</td>\n",
              "      <td>44.0</td>\n",
              "    </tr>\n",
              "    <tr>\n",
              "      <th>5</th>\n",
              "      <td>NaN</td>\n",
              "      <td>55.0</td>\n",
              "    </tr>\n",
              "  </tbody>\n",
              "</table>\n",
              "</div>"
            ],
            "text/plain": [
              "     고추     배\n",
              "2  11.0   NaN\n",
              "3  22.0  33.0\n",
              "4   NaN  44.0\n",
              "5   NaN  55.0"
            ]
          },
          "metadata": {},
          "execution_count": 630
        }
      ]
    },
    {
      "cell_type": "code",
      "metadata": {
        "colab": {
          "base_uri": "https://localhost:8080/",
          "height": 80
        },
        "id": "ClpAwx0hOuQv",
        "outputId": "0545f459-9401-45a9-fc8a-e207da61727b"
      },
      "source": [
        "pd.concat([test_series1, test_series2], axis=1, join='inner')"
      ],
      "execution_count": 631,
      "outputs": [
        {
          "output_type": "execute_result",
          "data": {
            "text/html": [
              "<div>\n",
              "<style scoped>\n",
              "    .dataframe tbody tr th:only-of-type {\n",
              "        vertical-align: middle;\n",
              "    }\n",
              "\n",
              "    .dataframe tbody tr th {\n",
              "        vertical-align: top;\n",
              "    }\n",
              "\n",
              "    .dataframe thead th {\n",
              "        text-align: right;\n",
              "    }\n",
              "</style>\n",
              "<table border=\"1\" class=\"dataframe\">\n",
              "  <thead>\n",
              "    <tr style=\"text-align: right;\">\n",
              "      <th></th>\n",
              "      <th>고추</th>\n",
              "      <th>배</th>\n",
              "    </tr>\n",
              "  </thead>\n",
              "  <tbody>\n",
              "    <tr>\n",
              "      <th>3</th>\n",
              "      <td>22</td>\n",
              "      <td>33</td>\n",
              "    </tr>\n",
              "  </tbody>\n",
              "</table>\n",
              "</div>"
            ],
            "text/plain": [
              "   고추   배\n",
              "3  22  33"
            ]
          },
          "metadata": {},
          "execution_count": 631
        }
      ]
    },
    {
      "cell_type": "code",
      "metadata": {
        "colab": {
          "base_uri": "https://localhost:8080/"
        },
        "id": "RgI_aa_lOyzi",
        "outputId": "d2fe073a-7590-4e98-e728-15a86890a07d"
      },
      "source": [
        "pd.concat([test_series1, test_series2], axis=0)"
      ],
      "execution_count": 632,
      "outputs": [
        {
          "output_type": "execute_result",
          "data": {
            "text/plain": [
              "2    11\n",
              "3    22\n",
              "3    33\n",
              "4    44\n",
              "5    55\n",
              "dtype: int64"
            ]
          },
          "metadata": {},
          "execution_count": 632
        }
      ]
    },
    {
      "cell_type": "code",
      "metadata": {
        "colab": {
          "base_uri": "https://localhost:8080/"
        },
        "id": "A_NeX2cQO2MZ",
        "outputId": "a9352134-5b4d-4c8b-9641-2437369c7172"
      },
      "source": [
        "pd.concat([test_series1, test_series2], axis=0, ignore_index=True)"
      ],
      "execution_count": 633,
      "outputs": [
        {
          "output_type": "execute_result",
          "data": {
            "text/plain": [
              "0    11\n",
              "1    22\n",
              "2    33\n",
              "3    44\n",
              "4    55\n",
              "dtype: int64"
            ]
          },
          "metadata": {},
          "execution_count": 633
        }
      ]
    },
    {
      "cell_type": "markdown",
      "metadata": {
        "id": "OSNE_cQfMVW-"
      },
      "source": [
        "생성한 시리즈를 데이터프레임에 합치겠습니다."
      ]
    },
    {
      "cell_type": "code",
      "metadata": {
        "colab": {
          "base_uri": "https://localhost:8080/",
          "height": 266
        },
        "id": "ZDON_Ja7Nd4d",
        "outputId": "c22d4b3b-a3a8-404b-dcc7-6cf7b9c6ca59"
      },
      "source": [
        "pd.concat([dataframe4_noindex, test_series1], axis=1)"
      ],
      "execution_count": 624,
      "outputs": [
        {
          "output_type": "execute_result",
          "data": {
            "text/html": [
              "<div>\n",
              "<style scoped>\n",
              "    .dataframe tbody tr th:only-of-type {\n",
              "        vertical-align: middle;\n",
              "    }\n",
              "\n",
              "    .dataframe tbody tr th {\n",
              "        vertical-align: top;\n",
              "    }\n",
              "\n",
              "    .dataframe thead th {\n",
              "        text-align: right;\n",
              "    }\n",
              "</style>\n",
              "<table border=\"1\" class=\"dataframe\">\n",
              "  <thead>\n",
              "    <tr style=\"text-align: right;\">\n",
              "      <th></th>\n",
              "      <th>배</th>\n",
              "      <th>사과</th>\n",
              "      <th>포도</th>\n",
              "      <th>딸기</th>\n",
              "      <th>복숭아</th>\n",
              "      <th>고추</th>\n",
              "    </tr>\n",
              "  </thead>\n",
              "  <tbody>\n",
              "    <tr>\n",
              "      <th>0</th>\n",
              "      <td>102</td>\n",
              "      <td>332</td>\n",
              "      <td>402</td>\n",
              "      <td>756.0</td>\n",
              "      <td>32.0</td>\n",
              "      <td>NaN</td>\n",
              "    </tr>\n",
              "    <tr>\n",
              "      <th>1</th>\n",
              "      <td>99</td>\n",
              "      <td>392</td>\n",
              "      <td>497</td>\n",
              "      <td>741.0</td>\n",
              "      <td>70.0</td>\n",
              "      <td>NaN</td>\n",
              "    </tr>\n",
              "    <tr>\n",
              "      <th>2</th>\n",
              "      <td>80</td>\n",
              "      <td>391</td>\n",
              "      <td>306</td>\n",
              "      <td>794.0</td>\n",
              "      <td>26.0</td>\n",
              "      <td>11.0</td>\n",
              "    </tr>\n",
              "    <tr>\n",
              "      <th>3</th>\n",
              "      <td>30</td>\n",
              "      <td>295</td>\n",
              "      <td>681</td>\n",
              "      <td>772.0</td>\n",
              "      <td>154.0</td>\n",
              "      <td>22.0</td>\n",
              "    </tr>\n",
              "    <tr>\n",
              "      <th>4</th>\n",
              "      <td>143</td>\n",
              "      <td>374</td>\n",
              "      <td>573</td>\n",
              "      <td>703.0</td>\n",
              "      <td>201.0</td>\n",
              "      <td>NaN</td>\n",
              "    </tr>\n",
              "    <tr>\n",
              "      <th>5</th>\n",
              "      <td>26</td>\n",
              "      <td>333</td>\n",
              "      <td>777</td>\n",
              "      <td>NaN</td>\n",
              "      <td>NaN</td>\n",
              "      <td>NaN</td>\n",
              "    </tr>\n",
              "    <tr>\n",
              "      <th>6</th>\n",
              "      <td>21</td>\n",
              "      <td>282</td>\n",
              "      <td>821</td>\n",
              "      <td>NaN</td>\n",
              "      <td>NaN</td>\n",
              "      <td>NaN</td>\n",
              "    </tr>\n",
              "  </tbody>\n",
              "</table>\n",
              "</div>"
            ],
            "text/plain": [
              "     배   사과   포도     딸기    복숭아    고추\n",
              "0  102  332  402  756.0   32.0   NaN\n",
              "1   99  392  497  741.0   70.0   NaN\n",
              "2   80  391  306  794.0   26.0  11.0\n",
              "3   30  295  681  772.0  154.0  22.0\n",
              "4  143  374  573  703.0  201.0   NaN\n",
              "5   26  333  777    NaN    NaN   NaN\n",
              "6   21  282  821    NaN    NaN   NaN"
            ]
          },
          "metadata": {},
          "execution_count": 624
        }
      ]
    },
    {
      "cell_type": "code",
      "metadata": {
        "colab": {
          "base_uri": "https://localhost:8080/",
          "height": 111
        },
        "id": "C38sEVqZMbwD",
        "outputId": "415f3b27-638a-46b2-e76b-22ed25c45187"
      },
      "source": [
        "pd.concat([dataframe4_noindex, test_series1], axis=1, join='inner')"
      ],
      "execution_count": 617,
      "outputs": [
        {
          "output_type": "execute_result",
          "data": {
            "text/html": [
              "<div>\n",
              "<style scoped>\n",
              "    .dataframe tbody tr th:only-of-type {\n",
              "        vertical-align: middle;\n",
              "    }\n",
              "\n",
              "    .dataframe tbody tr th {\n",
              "        vertical-align: top;\n",
              "    }\n",
              "\n",
              "    .dataframe thead th {\n",
              "        text-align: right;\n",
              "    }\n",
              "</style>\n",
              "<table border=\"1\" class=\"dataframe\">\n",
              "  <thead>\n",
              "    <tr style=\"text-align: right;\">\n",
              "      <th></th>\n",
              "      <th>배</th>\n",
              "      <th>사과</th>\n",
              "      <th>포도</th>\n",
              "      <th>딸기</th>\n",
              "      <th>복숭아</th>\n",
              "      <th>고추</th>\n",
              "    </tr>\n",
              "  </thead>\n",
              "  <tbody>\n",
              "    <tr>\n",
              "      <th>2</th>\n",
              "      <td>80</td>\n",
              "      <td>391</td>\n",
              "      <td>306</td>\n",
              "      <td>794.0</td>\n",
              "      <td>26.0</td>\n",
              "      <td>11</td>\n",
              "    </tr>\n",
              "    <tr>\n",
              "      <th>3</th>\n",
              "      <td>30</td>\n",
              "      <td>295</td>\n",
              "      <td>681</td>\n",
              "      <td>772.0</td>\n",
              "      <td>154.0</td>\n",
              "      <td>22</td>\n",
              "    </tr>\n",
              "  </tbody>\n",
              "</table>\n",
              "</div>"
            ],
            "text/plain": [
              "    배   사과   포도     딸기    복숭아  고추\n",
              "2  80  391  306  794.0   26.0  11\n",
              "3  30  295  681  772.0  154.0  22"
            ]
          },
          "metadata": {},
          "execution_count": 617
        }
      ]
    },
    {
      "cell_type": "code",
      "metadata": {
        "colab": {
          "base_uri": "https://localhost:8080/",
          "height": 328
        },
        "id": "QbTqdbn9NiYU",
        "outputId": "66874e0b-c907-45ec-b594-df9a84717eac"
      },
      "source": [
        "pd.concat([dataframe4_noindex, test_series1], axis=0)"
      ],
      "execution_count": 628,
      "outputs": [
        {
          "output_type": "execute_result",
          "data": {
            "text/html": [
              "<div>\n",
              "<style scoped>\n",
              "    .dataframe tbody tr th:only-of-type {\n",
              "        vertical-align: middle;\n",
              "    }\n",
              "\n",
              "    .dataframe tbody tr th {\n",
              "        vertical-align: top;\n",
              "    }\n",
              "\n",
              "    .dataframe thead th {\n",
              "        text-align: right;\n",
              "    }\n",
              "</style>\n",
              "<table border=\"1\" class=\"dataframe\">\n",
              "  <thead>\n",
              "    <tr style=\"text-align: right;\">\n",
              "      <th></th>\n",
              "      <th>0</th>\n",
              "      <th>딸기</th>\n",
              "      <th>배</th>\n",
              "      <th>복숭아</th>\n",
              "      <th>사과</th>\n",
              "      <th>포도</th>\n",
              "    </tr>\n",
              "  </thead>\n",
              "  <tbody>\n",
              "    <tr>\n",
              "      <th>0</th>\n",
              "      <td>NaN</td>\n",
              "      <td>756.0</td>\n",
              "      <td>102.0</td>\n",
              "      <td>32.0</td>\n",
              "      <td>332.0</td>\n",
              "      <td>402.0</td>\n",
              "    </tr>\n",
              "    <tr>\n",
              "      <th>1</th>\n",
              "      <td>NaN</td>\n",
              "      <td>741.0</td>\n",
              "      <td>99.0</td>\n",
              "      <td>70.0</td>\n",
              "      <td>392.0</td>\n",
              "      <td>497.0</td>\n",
              "    </tr>\n",
              "    <tr>\n",
              "      <th>2</th>\n",
              "      <td>NaN</td>\n",
              "      <td>794.0</td>\n",
              "      <td>80.0</td>\n",
              "      <td>26.0</td>\n",
              "      <td>391.0</td>\n",
              "      <td>306.0</td>\n",
              "    </tr>\n",
              "    <tr>\n",
              "      <th>3</th>\n",
              "      <td>NaN</td>\n",
              "      <td>772.0</td>\n",
              "      <td>30.0</td>\n",
              "      <td>154.0</td>\n",
              "      <td>295.0</td>\n",
              "      <td>681.0</td>\n",
              "    </tr>\n",
              "    <tr>\n",
              "      <th>4</th>\n",
              "      <td>NaN</td>\n",
              "      <td>703.0</td>\n",
              "      <td>143.0</td>\n",
              "      <td>201.0</td>\n",
              "      <td>374.0</td>\n",
              "      <td>573.0</td>\n",
              "    </tr>\n",
              "    <tr>\n",
              "      <th>5</th>\n",
              "      <td>NaN</td>\n",
              "      <td>NaN</td>\n",
              "      <td>26.0</td>\n",
              "      <td>NaN</td>\n",
              "      <td>333.0</td>\n",
              "      <td>777.0</td>\n",
              "    </tr>\n",
              "    <tr>\n",
              "      <th>6</th>\n",
              "      <td>NaN</td>\n",
              "      <td>NaN</td>\n",
              "      <td>21.0</td>\n",
              "      <td>NaN</td>\n",
              "      <td>282.0</td>\n",
              "      <td>821.0</td>\n",
              "    </tr>\n",
              "    <tr>\n",
              "      <th>2</th>\n",
              "      <td>11.0</td>\n",
              "      <td>NaN</td>\n",
              "      <td>NaN</td>\n",
              "      <td>NaN</td>\n",
              "      <td>NaN</td>\n",
              "      <td>NaN</td>\n",
              "    </tr>\n",
              "    <tr>\n",
              "      <th>3</th>\n",
              "      <td>22.0</td>\n",
              "      <td>NaN</td>\n",
              "      <td>NaN</td>\n",
              "      <td>NaN</td>\n",
              "      <td>NaN</td>\n",
              "      <td>NaN</td>\n",
              "    </tr>\n",
              "  </tbody>\n",
              "</table>\n",
              "</div>"
            ],
            "text/plain": [
              "      0     딸기      배    복숭아     사과     포도\n",
              "0   NaN  756.0  102.0   32.0  332.0  402.0\n",
              "1   NaN  741.0   99.0   70.0  392.0  497.0\n",
              "2   NaN  794.0   80.0   26.0  391.0  306.0\n",
              "3   NaN  772.0   30.0  154.0  295.0  681.0\n",
              "4   NaN  703.0  143.0  201.0  374.0  573.0\n",
              "5   NaN    NaN   26.0    NaN  333.0  777.0\n",
              "6   NaN    NaN   21.0    NaN  282.0  821.0\n",
              "2  11.0    NaN    NaN    NaN    NaN    NaN\n",
              "3  22.0    NaN    NaN    NaN    NaN    NaN"
            ]
          },
          "metadata": {},
          "execution_count": 628
        }
      ]
    },
    {
      "cell_type": "markdown",
      "metadata": {
        "id": "1A3vYfFtQqMZ"
      },
      "source": [
        "이제는 `join()` 함수를 사용하여 데이터프레임을 오른쪽으로 붙이겠습니다. 새로운 열을 가진 데이터프레임 `dataframe7`을 만들고 `dataframe4`의 오른쪽에 붙이겠습니다."
      ]
    },
    {
      "cell_type": "code",
      "metadata": {
        "colab": {
          "base_uri": "https://localhost:8080/",
          "height": 173
        },
        "id": "AudCHdsPR7Tf",
        "outputId": "89b50fb4-f3c4-4d27-d779-3e7f76678e4b"
      },
      "source": [
        "dataframe7 = pd.DataFrame({'바나나': [350, 240, 360, 380]})\n",
        "dataframe7"
      ],
      "execution_count": null,
      "outputs": [
        {
          "data": {
            "text/html": [
              "<div>\n",
              "<style scoped>\n",
              "    .dataframe tbody tr th:only-of-type {\n",
              "        vertical-align: middle;\n",
              "    }\n",
              "\n",
              "    .dataframe tbody tr th {\n",
              "        vertical-align: top;\n",
              "    }\n",
              "\n",
              "    .dataframe thead th {\n",
              "        text-align: right;\n",
              "    }\n",
              "</style>\n",
              "<table border=\"1\" class=\"dataframe\">\n",
              "  <thead>\n",
              "    <tr style=\"text-align: right;\">\n",
              "      <th></th>\n",
              "      <th>바나나</th>\n",
              "    </tr>\n",
              "  </thead>\n",
              "  <tbody>\n",
              "    <tr>\n",
              "      <th>0</th>\n",
              "      <td>350</td>\n",
              "    </tr>\n",
              "    <tr>\n",
              "      <th>1</th>\n",
              "      <td>240</td>\n",
              "    </tr>\n",
              "    <tr>\n",
              "      <th>2</th>\n",
              "      <td>360</td>\n",
              "    </tr>\n",
              "    <tr>\n",
              "      <th>3</th>\n",
              "      <td>380</td>\n",
              "    </tr>\n",
              "  </tbody>\n",
              "</table>\n",
              "</div>"
            ],
            "text/plain": [
              "   바나나\n",
              "0  350\n",
              "1  240\n",
              "2  360\n",
              "3  380"
            ]
          },
          "execution_count": 512,
          "metadata": {},
          "output_type": "execute_result"
        }
      ]
    },
    {
      "cell_type": "code",
      "metadata": {
        "colab": {
          "base_uri": "https://localhost:8080/",
          "height": 266
        },
        "id": "nz-AFBUISLIA",
        "outputId": "fc69fee5-d81f-46a7-af95-2c2e8a4bdbbb"
      },
      "source": [
        "dataframe4.join(dataframe7)"
      ],
      "execution_count": null,
      "outputs": [
        {
          "data": {
            "text/html": [
              "<div>\n",
              "<style scoped>\n",
              "    .dataframe tbody tr th:only-of-type {\n",
              "        vertical-align: middle;\n",
              "    }\n",
              "\n",
              "    .dataframe tbody tr th {\n",
              "        vertical-align: top;\n",
              "    }\n",
              "\n",
              "    .dataframe thead th {\n",
              "        text-align: right;\n",
              "    }\n",
              "</style>\n",
              "<table border=\"1\" class=\"dataframe\">\n",
              "  <thead>\n",
              "    <tr style=\"text-align: right;\">\n",
              "      <th></th>\n",
              "      <th>배</th>\n",
              "      <th>사과</th>\n",
              "      <th>포도</th>\n",
              "      <th>딸기</th>\n",
              "      <th>복숭아</th>\n",
              "      <th>바나나</th>\n",
              "    </tr>\n",
              "  </thead>\n",
              "  <tbody>\n",
              "    <tr>\n",
              "      <th>4월</th>\n",
              "      <td>102</td>\n",
              "      <td>332</td>\n",
              "      <td>402</td>\n",
              "      <td>756.0</td>\n",
              "      <td>32.0</td>\n",
              "      <td>NaN</td>\n",
              "    </tr>\n",
              "    <tr>\n",
              "      <th>5월</th>\n",
              "      <td>99</td>\n",
              "      <td>392</td>\n",
              "      <td>497</td>\n",
              "      <td>741.0</td>\n",
              "      <td>70.0</td>\n",
              "      <td>NaN</td>\n",
              "    </tr>\n",
              "    <tr>\n",
              "      <th>6월</th>\n",
              "      <td>80</td>\n",
              "      <td>391</td>\n",
              "      <td>306</td>\n",
              "      <td>794.0</td>\n",
              "      <td>26.0</td>\n",
              "      <td>NaN</td>\n",
              "    </tr>\n",
              "    <tr>\n",
              "      <th>7월</th>\n",
              "      <td>30</td>\n",
              "      <td>295</td>\n",
              "      <td>681</td>\n",
              "      <td>772.0</td>\n",
              "      <td>154.0</td>\n",
              "      <td>NaN</td>\n",
              "    </tr>\n",
              "    <tr>\n",
              "      <th>8월</th>\n",
              "      <td>143</td>\n",
              "      <td>374</td>\n",
              "      <td>573</td>\n",
              "      <td>703.0</td>\n",
              "      <td>201.0</td>\n",
              "      <td>NaN</td>\n",
              "    </tr>\n",
              "    <tr>\n",
              "      <th>9월</th>\n",
              "      <td>26</td>\n",
              "      <td>333</td>\n",
              "      <td>777</td>\n",
              "      <td>NaN</td>\n",
              "      <td>NaN</td>\n",
              "      <td>NaN</td>\n",
              "    </tr>\n",
              "    <tr>\n",
              "      <th>10월</th>\n",
              "      <td>21</td>\n",
              "      <td>282</td>\n",
              "      <td>821</td>\n",
              "      <td>NaN</td>\n",
              "      <td>NaN</td>\n",
              "      <td>NaN</td>\n",
              "    </tr>\n",
              "  </tbody>\n",
              "</table>\n",
              "</div>"
            ],
            "text/plain": [
              "       배   사과   포도     딸기    복숭아  바나나\n",
              "4월   102  332  402  756.0   32.0  NaN\n",
              "5월    99  392  497  741.0   70.0  NaN\n",
              "6월    80  391  306  794.0   26.0  NaN\n",
              "7월    30  295  681  772.0  154.0  NaN\n",
              "8월   143  374  573  703.0  201.0  NaN\n",
              "9월    26  333  777    NaN    NaN  NaN\n",
              "10월   21  282  821    NaN    NaN  NaN"
            ]
          },
          "execution_count": 513,
          "metadata": {},
          "output_type": "execute_result"
        }
      ]
    },
    {
      "cell_type": "markdown",
      "metadata": {
        "id": "j3NfYUKcSfJD"
      },
      "source": [
        "`join()` 함수는 인덱스가 일치하지 않으면 새로운 열을 통합할 수 없습니다. 인덱스가 일치하는 `dataframe8`을 만들어서 합치겠습니다."
      ]
    },
    {
      "cell_type": "code",
      "metadata": {
        "colab": {
          "base_uri": "https://localhost:8080/",
          "height": 328
        },
        "id": "CIKDo-0VStjc",
        "outputId": "343380d1-63fa-43b6-865b-c63d27bae30f"
      },
      "source": [
        "dataframe8 = dataframe4.append(dataframe6, ignore_index=True)\n",
        "dataframe8"
      ],
      "execution_count": null,
      "outputs": [
        {
          "data": {
            "text/html": [
              "<div>\n",
              "<style scoped>\n",
              "    .dataframe tbody tr th:only-of-type {\n",
              "        vertical-align: middle;\n",
              "    }\n",
              "\n",
              "    .dataframe tbody tr th {\n",
              "        vertical-align: top;\n",
              "    }\n",
              "\n",
              "    .dataframe thead th {\n",
              "        text-align: right;\n",
              "    }\n",
              "</style>\n",
              "<table border=\"1\" class=\"dataframe\">\n",
              "  <thead>\n",
              "    <tr style=\"text-align: right;\">\n",
              "      <th></th>\n",
              "      <th>배</th>\n",
              "      <th>사과</th>\n",
              "      <th>포도</th>\n",
              "      <th>딸기</th>\n",
              "      <th>복숭아</th>\n",
              "    </tr>\n",
              "  </thead>\n",
              "  <tbody>\n",
              "    <tr>\n",
              "      <th>0</th>\n",
              "      <td>102</td>\n",
              "      <td>332.0</td>\n",
              "      <td>402.0</td>\n",
              "      <td>756.0</td>\n",
              "      <td>32.0</td>\n",
              "    </tr>\n",
              "    <tr>\n",
              "      <th>1</th>\n",
              "      <td>99</td>\n",
              "      <td>392.0</td>\n",
              "      <td>497.0</td>\n",
              "      <td>741.0</td>\n",
              "      <td>70.0</td>\n",
              "    </tr>\n",
              "    <tr>\n",
              "      <th>2</th>\n",
              "      <td>80</td>\n",
              "      <td>391.0</td>\n",
              "      <td>306.0</td>\n",
              "      <td>794.0</td>\n",
              "      <td>26.0</td>\n",
              "    </tr>\n",
              "    <tr>\n",
              "      <th>3</th>\n",
              "      <td>30</td>\n",
              "      <td>295.0</td>\n",
              "      <td>681.0</td>\n",
              "      <td>772.0</td>\n",
              "      <td>154.0</td>\n",
              "    </tr>\n",
              "    <tr>\n",
              "      <th>4</th>\n",
              "      <td>143</td>\n",
              "      <td>374.0</td>\n",
              "      <td>573.0</td>\n",
              "      <td>703.0</td>\n",
              "      <td>201.0</td>\n",
              "    </tr>\n",
              "    <tr>\n",
              "      <th>5</th>\n",
              "      <td>26</td>\n",
              "      <td>333.0</td>\n",
              "      <td>777.0</td>\n",
              "      <td>NaN</td>\n",
              "      <td>NaN</td>\n",
              "    </tr>\n",
              "    <tr>\n",
              "      <th>6</th>\n",
              "      <td>21</td>\n",
              "      <td>282.0</td>\n",
              "      <td>821.0</td>\n",
              "      <td>NaN</td>\n",
              "      <td>NaN</td>\n",
              "    </tr>\n",
              "    <tr>\n",
              "      <th>7</th>\n",
              "      <td>10</td>\n",
              "      <td>NaN</td>\n",
              "      <td>NaN</td>\n",
              "      <td>NaN</td>\n",
              "      <td>NaN</td>\n",
              "    </tr>\n",
              "    <tr>\n",
              "      <th>8</th>\n",
              "      <td>20</td>\n",
              "      <td>NaN</td>\n",
              "      <td>NaN</td>\n",
              "      <td>NaN</td>\n",
              "      <td>NaN</td>\n",
              "    </tr>\n",
              "  </tbody>\n",
              "</table>\n",
              "</div>"
            ],
            "text/plain": [
              "     배     사과     포도     딸기    복숭아\n",
              "0  102  332.0  402.0  756.0   32.0\n",
              "1   99  392.0  497.0  741.0   70.0\n",
              "2   80  391.0  306.0  794.0   26.0\n",
              "3   30  295.0  681.0  772.0  154.0\n",
              "4  143  374.0  573.0  703.0  201.0\n",
              "5   26  333.0  777.0    NaN    NaN\n",
              "6   21  282.0  821.0    NaN    NaN\n",
              "7   10    NaN    NaN    NaN    NaN\n",
              "8   20    NaN    NaN    NaN    NaN"
            ]
          },
          "execution_count": 514,
          "metadata": {},
          "output_type": "execute_result"
        }
      ]
    },
    {
      "cell_type": "code",
      "metadata": {
        "colab": {
          "base_uri": "https://localhost:8080/",
          "height": 328
        },
        "id": "cW3aMbKuS0iQ",
        "outputId": "d3fd52a6-77c7-42e6-c73f-fe7e145e6d34"
      },
      "source": [
        "dataframe8.join(dataframe7)"
      ],
      "execution_count": null,
      "outputs": [
        {
          "data": {
            "text/html": [
              "<div>\n",
              "<style scoped>\n",
              "    .dataframe tbody tr th:only-of-type {\n",
              "        vertical-align: middle;\n",
              "    }\n",
              "\n",
              "    .dataframe tbody tr th {\n",
              "        vertical-align: top;\n",
              "    }\n",
              "\n",
              "    .dataframe thead th {\n",
              "        text-align: right;\n",
              "    }\n",
              "</style>\n",
              "<table border=\"1\" class=\"dataframe\">\n",
              "  <thead>\n",
              "    <tr style=\"text-align: right;\">\n",
              "      <th></th>\n",
              "      <th>배</th>\n",
              "      <th>사과</th>\n",
              "      <th>포도</th>\n",
              "      <th>딸기</th>\n",
              "      <th>복숭아</th>\n",
              "      <th>바나나</th>\n",
              "    </tr>\n",
              "  </thead>\n",
              "  <tbody>\n",
              "    <tr>\n",
              "      <th>0</th>\n",
              "      <td>102</td>\n",
              "      <td>332.0</td>\n",
              "      <td>402.0</td>\n",
              "      <td>756.0</td>\n",
              "      <td>32.0</td>\n",
              "      <td>350.0</td>\n",
              "    </tr>\n",
              "    <tr>\n",
              "      <th>1</th>\n",
              "      <td>99</td>\n",
              "      <td>392.0</td>\n",
              "      <td>497.0</td>\n",
              "      <td>741.0</td>\n",
              "      <td>70.0</td>\n",
              "      <td>240.0</td>\n",
              "    </tr>\n",
              "    <tr>\n",
              "      <th>2</th>\n",
              "      <td>80</td>\n",
              "      <td>391.0</td>\n",
              "      <td>306.0</td>\n",
              "      <td>794.0</td>\n",
              "      <td>26.0</td>\n",
              "      <td>360.0</td>\n",
              "    </tr>\n",
              "    <tr>\n",
              "      <th>3</th>\n",
              "      <td>30</td>\n",
              "      <td>295.0</td>\n",
              "      <td>681.0</td>\n",
              "      <td>772.0</td>\n",
              "      <td>154.0</td>\n",
              "      <td>380.0</td>\n",
              "    </tr>\n",
              "    <tr>\n",
              "      <th>4</th>\n",
              "      <td>143</td>\n",
              "      <td>374.0</td>\n",
              "      <td>573.0</td>\n",
              "      <td>703.0</td>\n",
              "      <td>201.0</td>\n",
              "      <td>NaN</td>\n",
              "    </tr>\n",
              "    <tr>\n",
              "      <th>5</th>\n",
              "      <td>26</td>\n",
              "      <td>333.0</td>\n",
              "      <td>777.0</td>\n",
              "      <td>NaN</td>\n",
              "      <td>NaN</td>\n",
              "      <td>NaN</td>\n",
              "    </tr>\n",
              "    <tr>\n",
              "      <th>6</th>\n",
              "      <td>21</td>\n",
              "      <td>282.0</td>\n",
              "      <td>821.0</td>\n",
              "      <td>NaN</td>\n",
              "      <td>NaN</td>\n",
              "      <td>NaN</td>\n",
              "    </tr>\n",
              "    <tr>\n",
              "      <th>7</th>\n",
              "      <td>10</td>\n",
              "      <td>NaN</td>\n",
              "      <td>NaN</td>\n",
              "      <td>NaN</td>\n",
              "      <td>NaN</td>\n",
              "      <td>NaN</td>\n",
              "    </tr>\n",
              "    <tr>\n",
              "      <th>8</th>\n",
              "      <td>20</td>\n",
              "      <td>NaN</td>\n",
              "      <td>NaN</td>\n",
              "      <td>NaN</td>\n",
              "      <td>NaN</td>\n",
              "      <td>NaN</td>\n",
              "    </tr>\n",
              "  </tbody>\n",
              "</table>\n",
              "</div>"
            ],
            "text/plain": [
              "     배     사과     포도     딸기    복숭아    바나나\n",
              "0  102  332.0  402.0  756.0   32.0  350.0\n",
              "1   99  392.0  497.0  741.0   70.0  240.0\n",
              "2   80  391.0  306.0  794.0   26.0  360.0\n",
              "3   30  295.0  681.0  772.0  154.0  380.0\n",
              "4  143  374.0  573.0  703.0  201.0    NaN\n",
              "5   26  333.0  777.0    NaN    NaN    NaN\n",
              "6   21  282.0  821.0    NaN    NaN    NaN\n",
              "7   10    NaN    NaN    NaN    NaN    NaN\n",
              "8   20    NaN    NaN    NaN    NaN    NaN"
            ]
          },
          "execution_count": 515,
          "metadata": {},
          "output_type": "execute_result"
        }
      ]
    },
    {
      "cell_type": "markdown",
      "metadata": {
        "id": "tiODLQx3S3sO"
      },
      "source": [
        "인덱스가 동일한 숫자에 맞춰서 바나나열이 추가됐습니다. 아래 데이터는 공백이므로 `NaN`으로 처리됐습니다. 다만 기존 데이터프레임의 인덱스를 유지하면서 데이터를 붙이고 싶으면 `index` 매개변수에 같은 인덱스를 지정하면 됩니다.\n",
        "\n",
        "먼저 `dataframe4`를 띄우겠습니다."
      ]
    },
    {
      "cell_type": "code",
      "metadata": {
        "colab": {
          "base_uri": "https://localhost:8080/",
          "height": 266
        },
        "id": "1GKIjNStTfOJ",
        "outputId": "d46aa1eb-7f00-4ef3-b047-0e59db893268"
      },
      "source": [
        "dataframe4"
      ],
      "execution_count": null,
      "outputs": [
        {
          "data": {
            "text/html": [
              "<div>\n",
              "<style scoped>\n",
              "    .dataframe tbody tr th:only-of-type {\n",
              "        vertical-align: middle;\n",
              "    }\n",
              "\n",
              "    .dataframe tbody tr th {\n",
              "        vertical-align: top;\n",
              "    }\n",
              "\n",
              "    .dataframe thead th {\n",
              "        text-align: right;\n",
              "    }\n",
              "</style>\n",
              "<table border=\"1\" class=\"dataframe\">\n",
              "  <thead>\n",
              "    <tr style=\"text-align: right;\">\n",
              "      <th></th>\n",
              "      <th>배</th>\n",
              "      <th>사과</th>\n",
              "      <th>포도</th>\n",
              "      <th>딸기</th>\n",
              "      <th>복숭아</th>\n",
              "    </tr>\n",
              "  </thead>\n",
              "  <tbody>\n",
              "    <tr>\n",
              "      <th>4월</th>\n",
              "      <td>102</td>\n",
              "      <td>332</td>\n",
              "      <td>402</td>\n",
              "      <td>756.0</td>\n",
              "      <td>32.0</td>\n",
              "    </tr>\n",
              "    <tr>\n",
              "      <th>5월</th>\n",
              "      <td>99</td>\n",
              "      <td>392</td>\n",
              "      <td>497</td>\n",
              "      <td>741.0</td>\n",
              "      <td>70.0</td>\n",
              "    </tr>\n",
              "    <tr>\n",
              "      <th>6월</th>\n",
              "      <td>80</td>\n",
              "      <td>391</td>\n",
              "      <td>306</td>\n",
              "      <td>794.0</td>\n",
              "      <td>26.0</td>\n",
              "    </tr>\n",
              "    <tr>\n",
              "      <th>7월</th>\n",
              "      <td>30</td>\n",
              "      <td>295</td>\n",
              "      <td>681</td>\n",
              "      <td>772.0</td>\n",
              "      <td>154.0</td>\n",
              "    </tr>\n",
              "    <tr>\n",
              "      <th>8월</th>\n",
              "      <td>143</td>\n",
              "      <td>374</td>\n",
              "      <td>573</td>\n",
              "      <td>703.0</td>\n",
              "      <td>201.0</td>\n",
              "    </tr>\n",
              "    <tr>\n",
              "      <th>9월</th>\n",
              "      <td>26</td>\n",
              "      <td>333</td>\n",
              "      <td>777</td>\n",
              "      <td>NaN</td>\n",
              "      <td>NaN</td>\n",
              "    </tr>\n",
              "    <tr>\n",
              "      <th>10월</th>\n",
              "      <td>21</td>\n",
              "      <td>282</td>\n",
              "      <td>821</td>\n",
              "      <td>NaN</td>\n",
              "      <td>NaN</td>\n",
              "    </tr>\n",
              "  </tbody>\n",
              "</table>\n",
              "</div>"
            ],
            "text/plain": [
              "       배   사과   포도     딸기    복숭아\n",
              "4월   102  332  402  756.0   32.0\n",
              "5월    99  392  497  741.0   70.0\n",
              "6월    80  391  306  794.0   26.0\n",
              "7월    30  295  681  772.0  154.0\n",
              "8월   143  374  573  703.0  201.0\n",
              "9월    26  333  777    NaN    NaN\n",
              "10월   21  282  821    NaN    NaN"
            ]
          },
          "execution_count": 516,
          "metadata": {},
          "output_type": "execute_result"
        }
      ]
    },
    {
      "cell_type": "markdown",
      "metadata": {
        "id": "xEtUvCmHUbND"
      },
      "source": [
        "`dataframe4`는 인덱스가 7개입니다. `dataframe10`의 '바나나' 열 데이터는 4개뿐이므로 라벨을 4개만 남겨야 합니다."
      ]
    },
    {
      "cell_type": "code",
      "metadata": {
        "id": "H0OhiXB9TmPE"
      },
      "source": [
        "index4 = ['5월', '6월', '8월', '10월']\n",
        "dataframe10 = pd.DataFrame({'바나나': [350, 240, 360, 380]}, index=index4)"
      ],
      "execution_count": null,
      "outputs": []
    },
    {
      "cell_type": "markdown",
      "metadata": {
        "id": "zdKqMdEWUYLM"
      },
      "source": [
        "이제 둘을 합치겠습니다. 인덱스 라벨이 유지되면서 인덱스 라벨과 일치된 데이터만 추가됩니다."
      ]
    },
    {
      "cell_type": "code",
      "metadata": {
        "colab": {
          "base_uri": "https://localhost:8080/",
          "height": 266
        },
        "id": "lHQ7zbH_VET9",
        "outputId": "8a3741df-b45f-4310-ab48-bd0ed6d66abe"
      },
      "source": [
        "dataframe4.join(dataframe10)"
      ],
      "execution_count": null,
      "outputs": [
        {
          "data": {
            "text/html": [
              "<div>\n",
              "<style scoped>\n",
              "    .dataframe tbody tr th:only-of-type {\n",
              "        vertical-align: middle;\n",
              "    }\n",
              "\n",
              "    .dataframe tbody tr th {\n",
              "        vertical-align: top;\n",
              "    }\n",
              "\n",
              "    .dataframe thead th {\n",
              "        text-align: right;\n",
              "    }\n",
              "</style>\n",
              "<table border=\"1\" class=\"dataframe\">\n",
              "  <thead>\n",
              "    <tr style=\"text-align: right;\">\n",
              "      <th></th>\n",
              "      <th>배</th>\n",
              "      <th>사과</th>\n",
              "      <th>포도</th>\n",
              "      <th>딸기</th>\n",
              "      <th>복숭아</th>\n",
              "      <th>바나나</th>\n",
              "    </tr>\n",
              "  </thead>\n",
              "  <tbody>\n",
              "    <tr>\n",
              "      <th>4월</th>\n",
              "      <td>102</td>\n",
              "      <td>332</td>\n",
              "      <td>402</td>\n",
              "      <td>756.0</td>\n",
              "      <td>32.0</td>\n",
              "      <td>NaN</td>\n",
              "    </tr>\n",
              "    <tr>\n",
              "      <th>5월</th>\n",
              "      <td>99</td>\n",
              "      <td>392</td>\n",
              "      <td>497</td>\n",
              "      <td>741.0</td>\n",
              "      <td>70.0</td>\n",
              "      <td>350.0</td>\n",
              "    </tr>\n",
              "    <tr>\n",
              "      <th>6월</th>\n",
              "      <td>80</td>\n",
              "      <td>391</td>\n",
              "      <td>306</td>\n",
              "      <td>794.0</td>\n",
              "      <td>26.0</td>\n",
              "      <td>240.0</td>\n",
              "    </tr>\n",
              "    <tr>\n",
              "      <th>7월</th>\n",
              "      <td>30</td>\n",
              "      <td>295</td>\n",
              "      <td>681</td>\n",
              "      <td>772.0</td>\n",
              "      <td>154.0</td>\n",
              "      <td>NaN</td>\n",
              "    </tr>\n",
              "    <tr>\n",
              "      <th>8월</th>\n",
              "      <td>143</td>\n",
              "      <td>374</td>\n",
              "      <td>573</td>\n",
              "      <td>703.0</td>\n",
              "      <td>201.0</td>\n",
              "      <td>360.0</td>\n",
              "    </tr>\n",
              "    <tr>\n",
              "      <th>9월</th>\n",
              "      <td>26</td>\n",
              "      <td>333</td>\n",
              "      <td>777</td>\n",
              "      <td>NaN</td>\n",
              "      <td>NaN</td>\n",
              "      <td>NaN</td>\n",
              "    </tr>\n",
              "    <tr>\n",
              "      <th>10월</th>\n",
              "      <td>21</td>\n",
              "      <td>282</td>\n",
              "      <td>821</td>\n",
              "      <td>NaN</td>\n",
              "      <td>NaN</td>\n",
              "      <td>380.0</td>\n",
              "    </tr>\n",
              "  </tbody>\n",
              "</table>\n",
              "</div>"
            ],
            "text/plain": [
              "       배   사과   포도     딸기    복숭아    바나나\n",
              "4월   102  332  402  756.0   32.0    NaN\n",
              "5월    99  392  497  741.0   70.0  350.0\n",
              "6월    80  391  306  794.0   26.0  240.0\n",
              "7월    30  295  681  772.0  154.0    NaN\n",
              "8월   143  374  573  703.0  201.0  360.0\n",
              "9월    26  333  777    NaN    NaN    NaN\n",
              "10월   21  282  821    NaN    NaN  380.0"
            ]
          },
          "execution_count": 518,
          "metadata": {},
          "output_type": "execute_result"
        }
      ]
    },
    {
      "cell_type": "markdown",
      "metadata": {
        "id": "UtTptZwEVwdN"
      },
      "source": [
        "`merge()` 함수를 사용하면 특정한 열을 기준으로 데이터를 붙일 방향을 설정해서 데이터를 붙일 수 있습니다. 방향 설정은 매개변수 `how`에 지정하며 기본값은 `right`인 오른쪽입니다.\n",
        "\n",
        "먼저 방향을 설정하지 않고 기본값인 오른쪽으로 데이터를 합치겠습니다. 새로운 데이터프레임인 `dataframe11`을 생성합니다."
      ]
    },
    {
      "cell_type": "code",
      "metadata": {
        "colab": {
          "base_uri": "https://localhost:8080/",
          "height": 142
        },
        "id": "RSMUaGTObkRR",
        "outputId": "766da54b-8fdf-44ab-cc06-2733385a3d3d"
      },
      "source": [
        "dataframe11 = pd.DataFrame({'판매점': ['SKT', 'KT', 'LG'],\n",
        "                            '휴대폰': [100, 200, 300],\n",
        "                            '집전화': [10, 20, 30]})\n",
        "dataframe11"
      ],
      "execution_count": null,
      "outputs": [
        {
          "data": {
            "text/html": [
              "<div>\n",
              "<style scoped>\n",
              "    .dataframe tbody tr th:only-of-type {\n",
              "        vertical-align: middle;\n",
              "    }\n",
              "\n",
              "    .dataframe tbody tr th {\n",
              "        vertical-align: top;\n",
              "    }\n",
              "\n",
              "    .dataframe thead th {\n",
              "        text-align: right;\n",
              "    }\n",
              "</style>\n",
              "<table border=\"1\" class=\"dataframe\">\n",
              "  <thead>\n",
              "    <tr style=\"text-align: right;\">\n",
              "      <th></th>\n",
              "      <th>판매점</th>\n",
              "      <th>휴대폰</th>\n",
              "      <th>집전화</th>\n",
              "    </tr>\n",
              "  </thead>\n",
              "  <tbody>\n",
              "    <tr>\n",
              "      <th>0</th>\n",
              "      <td>SKT</td>\n",
              "      <td>100</td>\n",
              "      <td>10</td>\n",
              "    </tr>\n",
              "    <tr>\n",
              "      <th>1</th>\n",
              "      <td>KT</td>\n",
              "      <td>200</td>\n",
              "      <td>20</td>\n",
              "    </tr>\n",
              "    <tr>\n",
              "      <th>2</th>\n",
              "      <td>LG</td>\n",
              "      <td>300</td>\n",
              "      <td>30</td>\n",
              "    </tr>\n",
              "  </tbody>\n",
              "</table>\n",
              "</div>"
            ],
            "text/plain": [
              "   판매점  휴대폰  집전화\n",
              "0  SKT  100   10\n",
              "1   KT  200   20\n",
              "2   LG  300   30"
            ]
          },
          "execution_count": 519,
          "metadata": {},
          "output_type": "execute_result"
        }
      ]
    },
    {
      "cell_type": "markdown",
      "metadata": {
        "id": "aPWGewWGcqiJ"
      },
      "source": [
        "`dataframe11`에 붙일 데이터프레임인 `dateframe12`를 생성하겠습니다."
      ]
    },
    {
      "cell_type": "code",
      "metadata": {
        "colab": {
          "base_uri": "https://localhost:8080/",
          "height": 142
        },
        "id": "lURO9BsScw5G",
        "outputId": "7fa8ff4e-933b-4fbc-a577-7735a9049354"
      },
      "source": [
        "dataframe12 = pd.DataFrame({'판매점': ['SKT', 'KT', 'LG'],\n",
        "                            '인터넷': [11, 22, 33]})\n",
        "dataframe12"
      ],
      "execution_count": null,
      "outputs": [
        {
          "data": {
            "text/html": [
              "<div>\n",
              "<style scoped>\n",
              "    .dataframe tbody tr th:only-of-type {\n",
              "        vertical-align: middle;\n",
              "    }\n",
              "\n",
              "    .dataframe tbody tr th {\n",
              "        vertical-align: top;\n",
              "    }\n",
              "\n",
              "    .dataframe thead th {\n",
              "        text-align: right;\n",
              "    }\n",
              "</style>\n",
              "<table border=\"1\" class=\"dataframe\">\n",
              "  <thead>\n",
              "    <tr style=\"text-align: right;\">\n",
              "      <th></th>\n",
              "      <th>판매점</th>\n",
              "      <th>인터넷</th>\n",
              "    </tr>\n",
              "  </thead>\n",
              "  <tbody>\n",
              "    <tr>\n",
              "      <th>0</th>\n",
              "      <td>SKT</td>\n",
              "      <td>11</td>\n",
              "    </tr>\n",
              "    <tr>\n",
              "      <th>1</th>\n",
              "      <td>KT</td>\n",
              "      <td>22</td>\n",
              "    </tr>\n",
              "    <tr>\n",
              "      <th>2</th>\n",
              "      <td>LG</td>\n",
              "      <td>33</td>\n",
              "    </tr>\n",
              "  </tbody>\n",
              "</table>\n",
              "</div>"
            ],
            "text/plain": [
              "   판매점  인터넷\n",
              "0  SKT   11\n",
              "1   KT   22\n",
              "2   LG   33"
            ]
          },
          "execution_count": 520,
          "metadata": {},
          "output_type": "execute_result"
        }
      ]
    },
    {
      "cell_type": "markdown",
      "metadata": {
        "id": "Js-7uDnsc-45"
      },
      "source": [
        "두 데이터프레임을 붙이겠습니다."
      ]
    },
    {
      "cell_type": "code",
      "metadata": {
        "colab": {
          "base_uri": "https://localhost:8080/",
          "height": 142
        },
        "id": "EnvvaNuJdBVf",
        "outputId": "d0fcd5fa-fcdd-4241-e894-817ee0d5afdd"
      },
      "source": [
        "dataframe11.merge(dataframe12)"
      ],
      "execution_count": null,
      "outputs": [
        {
          "data": {
            "text/html": [
              "<div>\n",
              "<style scoped>\n",
              "    .dataframe tbody tr th:only-of-type {\n",
              "        vertical-align: middle;\n",
              "    }\n",
              "\n",
              "    .dataframe tbody tr th {\n",
              "        vertical-align: top;\n",
              "    }\n",
              "\n",
              "    .dataframe thead th {\n",
              "        text-align: right;\n",
              "    }\n",
              "</style>\n",
              "<table border=\"1\" class=\"dataframe\">\n",
              "  <thead>\n",
              "    <tr style=\"text-align: right;\">\n",
              "      <th></th>\n",
              "      <th>판매점</th>\n",
              "      <th>휴대폰</th>\n",
              "      <th>집전화</th>\n",
              "      <th>인터넷</th>\n",
              "    </tr>\n",
              "  </thead>\n",
              "  <tbody>\n",
              "    <tr>\n",
              "      <th>0</th>\n",
              "      <td>SKT</td>\n",
              "      <td>100</td>\n",
              "      <td>10</td>\n",
              "      <td>11</td>\n",
              "    </tr>\n",
              "    <tr>\n",
              "      <th>1</th>\n",
              "      <td>KT</td>\n",
              "      <td>200</td>\n",
              "      <td>20</td>\n",
              "      <td>22</td>\n",
              "    </tr>\n",
              "    <tr>\n",
              "      <th>2</th>\n",
              "      <td>LG</td>\n",
              "      <td>300</td>\n",
              "      <td>30</td>\n",
              "      <td>33</td>\n",
              "    </tr>\n",
              "  </tbody>\n",
              "</table>\n",
              "</div>"
            ],
            "text/plain": [
              "   판매점  휴대폰  집전화  인터넷\n",
              "0  SKT  100   10   11\n",
              "1   KT  200   20   22\n",
              "2   LG  300   30   33"
            ]
          },
          "execution_count": 521,
          "metadata": {},
          "output_type": "execute_result"
        }
      ]
    },
    {
      "cell_type": "markdown",
      "metadata": {
        "id": "nI5Q7GNHdIQd"
      },
      "source": [
        "위 두 데이터프레임은 '판매점' 열이 동일하여 손쉽게 통합됐습니다. 반대로 특정한 열을 기준으로 데이터의 일부만 공통된다면 `merge()` 함수에 매개변수를 전달해야 합니다. 이에 해당하는 매개변수는 통합하는 방법을 지정하는 `how`와 통합 기준 열을 지정하는 `on`입니다.\n",
        "\n",
        "아래는 매개변수 `how`에 대한 값 목록입니다.\n",
        "\n",
        "- `left`: 왼쪽 데이터는 모두 선택하고, 지정한 열의 값에 데이터가 있는 오른쪽 데이터를 선택합니다.\n",
        "\n",
        "- `right`: 오른쪽 데이터는 모두 선택하고, 지정한 열의 값에 데이터가 있는 왼쪽 데이터를 선택합니다.\n",
        "\n",
        "- `inner`: 지정한 열을 기준으로 왼쪽과 오른쪽 데이터 중에 공통되는 데이터만 선택합니다. 기본값입니다.\n",
        "\n",
        "- `outer`: 지정한 열을 기준으로 왼쪽과 오른쪽 데이터 모두를 선택합니다."
      ]
    },
    {
      "cell_type": "markdown",
      "metadata": {
        "id": "i3ct1V4ony8n"
      },
      "source": [
        "매개변수에 대한 예시를 들겠습니다. 새로운 데이터프레임을 생성하겠습니다."
      ]
    },
    {
      "cell_type": "code",
      "metadata": {
        "colab": {
          "base_uri": "https://localhost:8080/",
          "height": 142
        },
        "id": "3RSOnOagpx7X",
        "outputId": "cbbe8147-29f6-4a63-d5b3-2b0b4537e33e"
      },
      "source": [
        "dataframe_seoul = pd.DataFrame({'기준': ['사과', '포도', '오이'],\n",
        "                               '서울': [1, 2, 3]})\n",
        "dataframe_seoul"
      ],
      "execution_count": null,
      "outputs": [
        {
          "data": {
            "text/html": [
              "<div>\n",
              "<style scoped>\n",
              "    .dataframe tbody tr th:only-of-type {\n",
              "        vertical-align: middle;\n",
              "    }\n",
              "\n",
              "    .dataframe tbody tr th {\n",
              "        vertical-align: top;\n",
              "    }\n",
              "\n",
              "    .dataframe thead th {\n",
              "        text-align: right;\n",
              "    }\n",
              "</style>\n",
              "<table border=\"1\" class=\"dataframe\">\n",
              "  <thead>\n",
              "    <tr style=\"text-align: right;\">\n",
              "      <th></th>\n",
              "      <th>기준</th>\n",
              "      <th>서울</th>\n",
              "    </tr>\n",
              "  </thead>\n",
              "  <tbody>\n",
              "    <tr>\n",
              "      <th>0</th>\n",
              "      <td>사과</td>\n",
              "      <td>1</td>\n",
              "    </tr>\n",
              "    <tr>\n",
              "      <th>1</th>\n",
              "      <td>포도</td>\n",
              "      <td>2</td>\n",
              "    </tr>\n",
              "    <tr>\n",
              "      <th>2</th>\n",
              "      <td>오이</td>\n",
              "      <td>3</td>\n",
              "    </tr>\n",
              "  </tbody>\n",
              "</table>\n",
              "</div>"
            ],
            "text/plain": [
              "   기준  서울\n",
              "0  사과   1\n",
              "1  포도   2\n",
              "2  오이   3"
            ]
          },
          "execution_count": 522,
          "metadata": {},
          "output_type": "execute_result"
        }
      ]
    },
    {
      "cell_type": "code",
      "metadata": {
        "colab": {
          "base_uri": "https://localhost:8080/",
          "height": 142
        },
        "id": "gEXLdF3dvGGk",
        "outputId": "b02257e2-6f7e-4ac6-ca6f-fadeeefb3f8b"
      },
      "source": [
        "dataframe_gyeonggi = pd.DataFrame({'기준': ['사과', '포도', '가지'],\n",
        "                                '경기': [7, 8, 9]})\n",
        "dataframe_gyeonggi"
      ],
      "execution_count": null,
      "outputs": [
        {
          "data": {
            "text/html": [
              "<div>\n",
              "<style scoped>\n",
              "    .dataframe tbody tr th:only-of-type {\n",
              "        vertical-align: middle;\n",
              "    }\n",
              "\n",
              "    .dataframe tbody tr th {\n",
              "        vertical-align: top;\n",
              "    }\n",
              "\n",
              "    .dataframe thead th {\n",
              "        text-align: right;\n",
              "    }\n",
              "</style>\n",
              "<table border=\"1\" class=\"dataframe\">\n",
              "  <thead>\n",
              "    <tr style=\"text-align: right;\">\n",
              "      <th></th>\n",
              "      <th>기준</th>\n",
              "      <th>경기</th>\n",
              "    </tr>\n",
              "  </thead>\n",
              "  <tbody>\n",
              "    <tr>\n",
              "      <th>0</th>\n",
              "      <td>사과</td>\n",
              "      <td>7</td>\n",
              "    </tr>\n",
              "    <tr>\n",
              "      <th>1</th>\n",
              "      <td>포도</td>\n",
              "      <td>8</td>\n",
              "    </tr>\n",
              "    <tr>\n",
              "      <th>2</th>\n",
              "      <td>가지</td>\n",
              "      <td>9</td>\n",
              "    </tr>\n",
              "  </tbody>\n",
              "</table>\n",
              "</div>"
            ],
            "text/plain": [
              "   기준  경기\n",
              "0  사과   7\n",
              "1  포도   8\n",
              "2  가지   9"
            ]
          },
          "execution_count": 523,
          "metadata": {},
          "output_type": "execute_result"
        }
      ]
    },
    {
      "cell_type": "markdown",
      "metadata": {
        "id": "Xcf16ZRQvYIS"
      },
      "source": [
        "먼저 `left`를 전달하겠습니다. 코드에서 왼쪽에 위치한 '서울' 데이터프레임을 모두 가져오고, 그 데이터프레임의 '기준' 값과 일치하는 '경기' 데이터프레임의 값을 합칩니다. '경기' 데이터프레임의 '기준' 열에는 '오이' 값이 없으므로 'NaN'으로 표시됩니다."
      ]
    },
    {
      "cell_type": "code",
      "metadata": {
        "colab": {
          "base_uri": "https://localhost:8080/",
          "height": 142
        },
        "id": "JHY0xKaAxYsp",
        "outputId": "ba12f65a-7e0d-4d70-e1f5-55cba040a869"
      },
      "source": [
        "dataframe_seoul.merge(dataframe_gyeonggi, how='left', on='기준')"
      ],
      "execution_count": null,
      "outputs": [
        {
          "data": {
            "text/html": [
              "<div>\n",
              "<style scoped>\n",
              "    .dataframe tbody tr th:only-of-type {\n",
              "        vertical-align: middle;\n",
              "    }\n",
              "\n",
              "    .dataframe tbody tr th {\n",
              "        vertical-align: top;\n",
              "    }\n",
              "\n",
              "    .dataframe thead th {\n",
              "        text-align: right;\n",
              "    }\n",
              "</style>\n",
              "<table border=\"1\" class=\"dataframe\">\n",
              "  <thead>\n",
              "    <tr style=\"text-align: right;\">\n",
              "      <th></th>\n",
              "      <th>기준</th>\n",
              "      <th>서울</th>\n",
              "      <th>경기</th>\n",
              "    </tr>\n",
              "  </thead>\n",
              "  <tbody>\n",
              "    <tr>\n",
              "      <th>0</th>\n",
              "      <td>사과</td>\n",
              "      <td>1</td>\n",
              "      <td>7.0</td>\n",
              "    </tr>\n",
              "    <tr>\n",
              "      <th>1</th>\n",
              "      <td>포도</td>\n",
              "      <td>2</td>\n",
              "      <td>8.0</td>\n",
              "    </tr>\n",
              "    <tr>\n",
              "      <th>2</th>\n",
              "      <td>오이</td>\n",
              "      <td>3</td>\n",
              "      <td>NaN</td>\n",
              "    </tr>\n",
              "  </tbody>\n",
              "</table>\n",
              "</div>"
            ],
            "text/plain": [
              "   기준  서울   경기\n",
              "0  사과   1  7.0\n",
              "1  포도   2  8.0\n",
              "2  오이   3  NaN"
            ]
          },
          "execution_count": 524,
          "metadata": {},
          "output_type": "execute_result"
        }
      ]
    },
    {
      "cell_type": "markdown",
      "metadata": {
        "id": "kb5Bcf7w6pGj"
      },
      "source": [
        "`right`를 전달하겠습니다. 코드에서 오른쪽에 위치한 '경기' 데이터프레임을 모두 가져오고, 그 데이터프레임의 '기준' 값과 일치하는 '서울' 데이터프레임의 값을 합칩니다. '서울' 데이터프레임의 '기준' 열에는 '가지' 값이 없으므로 'NaN'으로 표시됩니다."
      ]
    },
    {
      "cell_type": "code",
      "metadata": {
        "colab": {
          "base_uri": "https://localhost:8080/",
          "height": 142
        },
        "id": "G34XGIx166l1",
        "outputId": "eddf0770-3c96-4f69-852f-7f666d4d9aaa"
      },
      "source": [
        "dataframe_seoul.merge(dataframe_gyeonggi, how='right', on='기준')"
      ],
      "execution_count": null,
      "outputs": [
        {
          "data": {
            "text/html": [
              "<div>\n",
              "<style scoped>\n",
              "    .dataframe tbody tr th:only-of-type {\n",
              "        vertical-align: middle;\n",
              "    }\n",
              "\n",
              "    .dataframe tbody tr th {\n",
              "        vertical-align: top;\n",
              "    }\n",
              "\n",
              "    .dataframe thead th {\n",
              "        text-align: right;\n",
              "    }\n",
              "</style>\n",
              "<table border=\"1\" class=\"dataframe\">\n",
              "  <thead>\n",
              "    <tr style=\"text-align: right;\">\n",
              "      <th></th>\n",
              "      <th>기준</th>\n",
              "      <th>서울</th>\n",
              "      <th>경기</th>\n",
              "    </tr>\n",
              "  </thead>\n",
              "  <tbody>\n",
              "    <tr>\n",
              "      <th>0</th>\n",
              "      <td>사과</td>\n",
              "      <td>1.0</td>\n",
              "      <td>7</td>\n",
              "    </tr>\n",
              "    <tr>\n",
              "      <th>1</th>\n",
              "      <td>포도</td>\n",
              "      <td>2.0</td>\n",
              "      <td>8</td>\n",
              "    </tr>\n",
              "    <tr>\n",
              "      <th>2</th>\n",
              "      <td>가지</td>\n",
              "      <td>NaN</td>\n",
              "      <td>9</td>\n",
              "    </tr>\n",
              "  </tbody>\n",
              "</table>\n",
              "</div>"
            ],
            "text/plain": [
              "   기준   서울  경기\n",
              "0  사과  1.0   7\n",
              "1  포도  2.0   8\n",
              "2  가지  NaN   9"
            ]
          },
          "execution_count": 525,
          "metadata": {},
          "output_type": "execute_result"
        }
      ]
    },
    {
      "cell_type": "markdown",
      "metadata": {
        "id": "hO3ELZQb7ISy"
      },
      "source": [
        "`inner`를 전달하겠습니다. 두 데이터프레임의 '기준' 값 중에 공통되는 값만 표시합니다. '사과'와 '포도'만 공통됩니다."
      ]
    },
    {
      "cell_type": "code",
      "metadata": {
        "colab": {
          "base_uri": "https://localhost:8080/",
          "height": 111
        },
        "id": "3SuKZrTV7XXo",
        "outputId": "b9346ab2-2865-4670-f42c-6d4ba921b790"
      },
      "source": [
        "dataframe_seoul.merge(dataframe_gyeonggi, how='inner', on='기준')"
      ],
      "execution_count": null,
      "outputs": [
        {
          "data": {
            "text/html": [
              "<div>\n",
              "<style scoped>\n",
              "    .dataframe tbody tr th:only-of-type {\n",
              "        vertical-align: middle;\n",
              "    }\n",
              "\n",
              "    .dataframe tbody tr th {\n",
              "        vertical-align: top;\n",
              "    }\n",
              "\n",
              "    .dataframe thead th {\n",
              "        text-align: right;\n",
              "    }\n",
              "</style>\n",
              "<table border=\"1\" class=\"dataframe\">\n",
              "  <thead>\n",
              "    <tr style=\"text-align: right;\">\n",
              "      <th></th>\n",
              "      <th>기준</th>\n",
              "      <th>서울</th>\n",
              "      <th>경기</th>\n",
              "    </tr>\n",
              "  </thead>\n",
              "  <tbody>\n",
              "    <tr>\n",
              "      <th>0</th>\n",
              "      <td>사과</td>\n",
              "      <td>1</td>\n",
              "      <td>7</td>\n",
              "    </tr>\n",
              "    <tr>\n",
              "      <th>1</th>\n",
              "      <td>포도</td>\n",
              "      <td>2</td>\n",
              "      <td>8</td>\n",
              "    </tr>\n",
              "  </tbody>\n",
              "</table>\n",
              "</div>"
            ],
            "text/plain": [
              "   기준  서울  경기\n",
              "0  사과   1   7\n",
              "1  포도   2   8"
            ]
          },
          "execution_count": 526,
          "metadata": {},
          "output_type": "execute_result"
        }
      ]
    },
    {
      "cell_type": "markdown",
      "metadata": {
        "id": "RvIRuo9O7jXy"
      },
      "source": [
        "`outer`를 전달하겠습니다. 두 데이터프레임의 '기준' 값을 모두 합칩니다."
      ]
    },
    {
      "cell_type": "code",
      "metadata": {
        "colab": {
          "base_uri": "https://localhost:8080/",
          "height": 173
        },
        "id": "FL_J7MAW7uFd",
        "outputId": "33f69169-dc05-476a-e889-cbb7e08ca76d"
      },
      "source": [
        "dataframe_sg = dataframe_seoul.merge(dataframe_gyeonggi, how='outer', on='기준')\n",
        "dataframe_sg"
      ],
      "execution_count": null,
      "outputs": [
        {
          "data": {
            "text/html": [
              "<div>\n",
              "<style scoped>\n",
              "    .dataframe tbody tr th:only-of-type {\n",
              "        vertical-align: middle;\n",
              "    }\n",
              "\n",
              "    .dataframe tbody tr th {\n",
              "        vertical-align: top;\n",
              "    }\n",
              "\n",
              "    .dataframe thead th {\n",
              "        text-align: right;\n",
              "    }\n",
              "</style>\n",
              "<table border=\"1\" class=\"dataframe\">\n",
              "  <thead>\n",
              "    <tr style=\"text-align: right;\">\n",
              "      <th></th>\n",
              "      <th>기준</th>\n",
              "      <th>서울</th>\n",
              "      <th>경기</th>\n",
              "    </tr>\n",
              "  </thead>\n",
              "  <tbody>\n",
              "    <tr>\n",
              "      <th>0</th>\n",
              "      <td>사과</td>\n",
              "      <td>1.0</td>\n",
              "      <td>7.0</td>\n",
              "    </tr>\n",
              "    <tr>\n",
              "      <th>1</th>\n",
              "      <td>포도</td>\n",
              "      <td>2.0</td>\n",
              "      <td>8.0</td>\n",
              "    </tr>\n",
              "    <tr>\n",
              "      <th>2</th>\n",
              "      <td>오이</td>\n",
              "      <td>3.0</td>\n",
              "      <td>NaN</td>\n",
              "    </tr>\n",
              "    <tr>\n",
              "      <th>3</th>\n",
              "      <td>가지</td>\n",
              "      <td>NaN</td>\n",
              "      <td>9.0</td>\n",
              "    </tr>\n",
              "  </tbody>\n",
              "</table>\n",
              "</div>"
            ],
            "text/plain": [
              "   기준   서울   경기\n",
              "0  사과  1.0  7.0\n",
              "1  포도  2.0  8.0\n",
              "2  오이  3.0  NaN\n",
              "3  가지  NaN  9.0"
            ]
          },
          "execution_count": 527,
          "metadata": {},
          "output_type": "execute_result"
        }
      ]
    },
    {
      "cell_type": "markdown",
      "metadata": {
        "id": "EZt0jqH22o-c"
      },
      "source": [
        "## **2.6. 데이터 변경하기**"
      ]
    },
    {
      "cell_type": "markdown",
      "metadata": {
        "id": "vEMyblis2nmZ"
      },
      "source": [
        "`rename()` 메서드를 사용하면 인덱스나 열명을 바꿀 수 있습니다. 다만 기존 데이터프레임 객체를 완전히 바꾸는 것은 아닙니다. 기존 데이터프레임 객체를 완전히 바꾸려면 매개변수 `inplace`에 `True`를 인자로 전달합니다. 매개변수 `inplace`를 지정하지 않고 변경된 데이터프레임을 새로운 객체에 전달하는 방법도 있습니다.\n",
        "\n",
        "먼저 위에서 사용한 데이터프레임 `dataframe3` 을 다시 부르겠습니다."
      ]
    },
    {
      "cell_type": "code",
      "metadata": {
        "colab": {
          "base_uri": "https://localhost:8080/",
          "height": 204
        },
        "id": "QZJJH3tj5zI-",
        "outputId": "e2626cb9-ea4f-4724-8710-5c28f958a657"
      },
      "source": [
        "dic_data4 = {'사과': [332, 392, 391, 295, 374],\n",
        "             '배': [102, 99, 80, 30, 143],\n",
        "             '포도': [402, 497, 306, 681, 573]}\n",
        "col_list1 = ['포도', '사과', '배']\n",
        "index2 = ['4월', '5월', '6월', '7월', '8월']\n",
        "\n",
        "dataframe3 = pd.DataFrame(dic_data4, columns=col_list1, index=index2)\n",
        "dataframe3"
      ],
      "execution_count": null,
      "outputs": [
        {
          "data": {
            "text/html": [
              "<div>\n",
              "<style scoped>\n",
              "    .dataframe tbody tr th:only-of-type {\n",
              "        vertical-align: middle;\n",
              "    }\n",
              "\n",
              "    .dataframe tbody tr th {\n",
              "        vertical-align: top;\n",
              "    }\n",
              "\n",
              "    .dataframe thead th {\n",
              "        text-align: right;\n",
              "    }\n",
              "</style>\n",
              "<table border=\"1\" class=\"dataframe\">\n",
              "  <thead>\n",
              "    <tr style=\"text-align: right;\">\n",
              "      <th></th>\n",
              "      <th>포도</th>\n",
              "      <th>사과</th>\n",
              "      <th>배</th>\n",
              "    </tr>\n",
              "  </thead>\n",
              "  <tbody>\n",
              "    <tr>\n",
              "      <th>4월</th>\n",
              "      <td>402</td>\n",
              "      <td>332</td>\n",
              "      <td>102</td>\n",
              "    </tr>\n",
              "    <tr>\n",
              "      <th>5월</th>\n",
              "      <td>497</td>\n",
              "      <td>392</td>\n",
              "      <td>99</td>\n",
              "    </tr>\n",
              "    <tr>\n",
              "      <th>6월</th>\n",
              "      <td>306</td>\n",
              "      <td>391</td>\n",
              "      <td>80</td>\n",
              "    </tr>\n",
              "    <tr>\n",
              "      <th>7월</th>\n",
              "      <td>681</td>\n",
              "      <td>295</td>\n",
              "      <td>30</td>\n",
              "    </tr>\n",
              "    <tr>\n",
              "      <th>8월</th>\n",
              "      <td>573</td>\n",
              "      <td>374</td>\n",
              "      <td>143</td>\n",
              "    </tr>\n",
              "  </tbody>\n",
              "</table>\n",
              "</div>"
            ],
            "text/plain": [
              "     포도   사과    배\n",
              "4월  402  332  102\n",
              "5월  497  392   99\n",
              "6월  306  391   80\n",
              "7월  681  295   30\n",
              "8월  573  374  143"
            ]
          },
          "execution_count": 528,
          "metadata": {},
          "output_type": "execute_result"
        }
      ]
    },
    {
      "cell_type": "markdown",
      "metadata": {
        "id": "g_zDc7e44cq3"
      },
      "source": [
        "`rename()` 메서드를 사용해서 인덱스 값을 바꾸겠습니다."
      ]
    },
    {
      "cell_type": "code",
      "metadata": {
        "colab": {
          "base_uri": "https://localhost:8080/",
          "height": 204
        },
        "id": "YDUWGypP6-RF",
        "outputId": "f3c019ab-b048-468b-96ad-7027a1d5a382"
      },
      "source": [
        "dataframe3.rename(index={'4월':'사월', '5월':'오월'})"
      ],
      "execution_count": null,
      "outputs": [
        {
          "data": {
            "text/html": [
              "<div>\n",
              "<style scoped>\n",
              "    .dataframe tbody tr th:only-of-type {\n",
              "        vertical-align: middle;\n",
              "    }\n",
              "\n",
              "    .dataframe tbody tr th {\n",
              "        vertical-align: top;\n",
              "    }\n",
              "\n",
              "    .dataframe thead th {\n",
              "        text-align: right;\n",
              "    }\n",
              "</style>\n",
              "<table border=\"1\" class=\"dataframe\">\n",
              "  <thead>\n",
              "    <tr style=\"text-align: right;\">\n",
              "      <th></th>\n",
              "      <th>포도</th>\n",
              "      <th>사과</th>\n",
              "      <th>배</th>\n",
              "    </tr>\n",
              "  </thead>\n",
              "  <tbody>\n",
              "    <tr>\n",
              "      <th>사월</th>\n",
              "      <td>402</td>\n",
              "      <td>332</td>\n",
              "      <td>102</td>\n",
              "    </tr>\n",
              "    <tr>\n",
              "      <th>오월</th>\n",
              "      <td>497</td>\n",
              "      <td>392</td>\n",
              "      <td>99</td>\n",
              "    </tr>\n",
              "    <tr>\n",
              "      <th>6월</th>\n",
              "      <td>306</td>\n",
              "      <td>391</td>\n",
              "      <td>80</td>\n",
              "    </tr>\n",
              "    <tr>\n",
              "      <th>7월</th>\n",
              "      <td>681</td>\n",
              "      <td>295</td>\n",
              "      <td>30</td>\n",
              "    </tr>\n",
              "    <tr>\n",
              "      <th>8월</th>\n",
              "      <td>573</td>\n",
              "      <td>374</td>\n",
              "      <td>143</td>\n",
              "    </tr>\n",
              "  </tbody>\n",
              "</table>\n",
              "</div>"
            ],
            "text/plain": [
              "     포도   사과    배\n",
              "사월  402  332  102\n",
              "오월  497  392   99\n",
              "6월  306  391   80\n",
              "7월  681  295   30\n",
              "8월  573  374  143"
            ]
          },
          "execution_count": 529,
          "metadata": {},
          "output_type": "execute_result"
        }
      ]
    },
    {
      "cell_type": "markdown",
      "metadata": {
        "id": "MgcR1XfN7iNp"
      },
      "source": [
        "열명도 바꾸겠습니다. 위에서 인덱스 값을 바꾼 뒤에 `inplace=True`로 매개변수를 지정하지 않았으므로 데이터프레임 자체의 인덱스 값은 바뀌지 않았습니다. 이번에는 매개변수로 지정해서 데이터프레임 자체를 열명이 바뀐 상태로 완전히 바꾸겠습니다."
      ]
    },
    {
      "cell_type": "code",
      "metadata": {
        "colab": {
          "base_uri": "https://localhost:8080/",
          "height": 204
        },
        "id": "7zlJyJnR7lLv",
        "outputId": "d8e3034a-2442-412e-eea1-443c91bf32e3"
      },
      "source": [
        "dataframe3.rename(columns={'포도':'청포도', '사과':'밤'}, inplace=True)\n",
        "dataframe3"
      ],
      "execution_count": null,
      "outputs": [
        {
          "data": {
            "text/html": [
              "<div>\n",
              "<style scoped>\n",
              "    .dataframe tbody tr th:only-of-type {\n",
              "        vertical-align: middle;\n",
              "    }\n",
              "\n",
              "    .dataframe tbody tr th {\n",
              "        vertical-align: top;\n",
              "    }\n",
              "\n",
              "    .dataframe thead th {\n",
              "        text-align: right;\n",
              "    }\n",
              "</style>\n",
              "<table border=\"1\" class=\"dataframe\">\n",
              "  <thead>\n",
              "    <tr style=\"text-align: right;\">\n",
              "      <th></th>\n",
              "      <th>청포도</th>\n",
              "      <th>밤</th>\n",
              "      <th>배</th>\n",
              "    </tr>\n",
              "  </thead>\n",
              "  <tbody>\n",
              "    <tr>\n",
              "      <th>4월</th>\n",
              "      <td>402</td>\n",
              "      <td>332</td>\n",
              "      <td>102</td>\n",
              "    </tr>\n",
              "    <tr>\n",
              "      <th>5월</th>\n",
              "      <td>497</td>\n",
              "      <td>392</td>\n",
              "      <td>99</td>\n",
              "    </tr>\n",
              "    <tr>\n",
              "      <th>6월</th>\n",
              "      <td>306</td>\n",
              "      <td>391</td>\n",
              "      <td>80</td>\n",
              "    </tr>\n",
              "    <tr>\n",
              "      <th>7월</th>\n",
              "      <td>681</td>\n",
              "      <td>295</td>\n",
              "      <td>30</td>\n",
              "    </tr>\n",
              "    <tr>\n",
              "      <th>8월</th>\n",
              "      <td>573</td>\n",
              "      <td>374</td>\n",
              "      <td>143</td>\n",
              "    </tr>\n",
              "  </tbody>\n",
              "</table>\n",
              "</div>"
            ],
            "text/plain": [
              "    청포도    밤    배\n",
              "4월  402  332  102\n",
              "5월  497  392   99\n",
              "6월  306  391   80\n",
              "7월  681  295   30\n",
              "8월  573  374  143"
            ]
          },
          "execution_count": 530,
          "metadata": {},
          "output_type": "execute_result"
        }
      ]
    },
    {
      "cell_type": "markdown",
      "metadata": {
        "id": "ax9FFPynDJEr"
      },
      "source": [
        "`sorted()` 메서드를 사용해서 열명을 오름차순으로 정렬하겠습니다. 먼저 열명을 리스트로 만들고 객체에 전달합니다. 그리고 그 객체에 메서드를 적용합니다."
      ]
    },
    {
      "cell_type": "code",
      "metadata": {
        "colab": {
          "base_uri": "https://localhost:8080/"
        },
        "id": "Pq7i1sz5DQ43",
        "outputId": "cad57d2b-9142-4abb-a002-b3ba4c4704ed"
      },
      "source": [
        "dataframe3_col = list(dataframe3.columns.values)\n",
        "sorted_dataframe3_col = sorted(dataframe3_col)\n",
        "sorted_dataframe3_col"
      ],
      "execution_count": null,
      "outputs": [
        {
          "data": {
            "text/plain": [
              "['밤', '배', '청포도']"
            ]
          },
          "execution_count": 531,
          "metadata": {},
          "output_type": "execute_result"
        }
      ]
    },
    {
      "cell_type": "markdown",
      "metadata": {
        "id": "p3ZfrsfIFHNx"
      },
      "source": [
        "정렬된 열명 리스트를 데이터프레임에 그대로 전달합니다."
      ]
    },
    {
      "cell_type": "code",
      "metadata": {
        "colab": {
          "base_uri": "https://localhost:8080/",
          "height": 204
        },
        "id": "WO6KQStPELoS",
        "outputId": "fa2c9c56-8b23-4f3a-b2e9-e6a10babdf1e"
      },
      "source": [
        "dataframe3[sorted_dataframe3_col]"
      ],
      "execution_count": null,
      "outputs": [
        {
          "data": {
            "text/html": [
              "<div>\n",
              "<style scoped>\n",
              "    .dataframe tbody tr th:only-of-type {\n",
              "        vertical-align: middle;\n",
              "    }\n",
              "\n",
              "    .dataframe tbody tr th {\n",
              "        vertical-align: top;\n",
              "    }\n",
              "\n",
              "    .dataframe thead th {\n",
              "        text-align: right;\n",
              "    }\n",
              "</style>\n",
              "<table border=\"1\" class=\"dataframe\">\n",
              "  <thead>\n",
              "    <tr style=\"text-align: right;\">\n",
              "      <th></th>\n",
              "      <th>밤</th>\n",
              "      <th>배</th>\n",
              "      <th>청포도</th>\n",
              "    </tr>\n",
              "  </thead>\n",
              "  <tbody>\n",
              "    <tr>\n",
              "      <th>4월</th>\n",
              "      <td>332</td>\n",
              "      <td>102</td>\n",
              "      <td>402</td>\n",
              "    </tr>\n",
              "    <tr>\n",
              "      <th>5월</th>\n",
              "      <td>392</td>\n",
              "      <td>99</td>\n",
              "      <td>497</td>\n",
              "    </tr>\n",
              "    <tr>\n",
              "      <th>6월</th>\n",
              "      <td>391</td>\n",
              "      <td>80</td>\n",
              "      <td>306</td>\n",
              "    </tr>\n",
              "    <tr>\n",
              "      <th>7월</th>\n",
              "      <td>295</td>\n",
              "      <td>30</td>\n",
              "      <td>681</td>\n",
              "    </tr>\n",
              "    <tr>\n",
              "      <th>8월</th>\n",
              "      <td>374</td>\n",
              "      <td>143</td>\n",
              "      <td>573</td>\n",
              "    </tr>\n",
              "  </tbody>\n",
              "</table>\n",
              "</div>"
            ],
            "text/plain": [
              "      밤    배  청포도\n",
              "4월  332  102  402\n",
              "5월  392   99  497\n",
              "6월  391   80  306\n",
              "7월  295   30  681\n",
              "8월  374  143  573"
            ]
          },
          "execution_count": 532,
          "metadata": {},
          "output_type": "execute_result"
        }
      ]
    },
    {
      "cell_type": "markdown",
      "metadata": {
        "id": "x1HDnTlnFWii"
      },
      "source": [
        "`reversed()` 메서드는 리스트 내의 원소 순서를 역순으로 바꿉니다. 이번에는 객체를 생성하지 않고 데이터프레임에 그대로 전달하겠습니다."
      ]
    },
    {
      "cell_type": "code",
      "metadata": {
        "colab": {
          "base_uri": "https://localhost:8080/",
          "height": 204
        },
        "id": "88QWRXVnGAOw",
        "outputId": "7a6180ca-576c-42cc-d0eb-861e8af105e7"
      },
      "source": [
        "dataframe3[reversed(dataframe3_col)]"
      ],
      "execution_count": null,
      "outputs": [
        {
          "data": {
            "text/html": [
              "<div>\n",
              "<style scoped>\n",
              "    .dataframe tbody tr th:only-of-type {\n",
              "        vertical-align: middle;\n",
              "    }\n",
              "\n",
              "    .dataframe tbody tr th {\n",
              "        vertical-align: top;\n",
              "    }\n",
              "\n",
              "    .dataframe thead th {\n",
              "        text-align: right;\n",
              "    }\n",
              "</style>\n",
              "<table border=\"1\" class=\"dataframe\">\n",
              "  <thead>\n",
              "    <tr style=\"text-align: right;\">\n",
              "      <th></th>\n",
              "      <th>배</th>\n",
              "      <th>밤</th>\n",
              "      <th>청포도</th>\n",
              "    </tr>\n",
              "  </thead>\n",
              "  <tbody>\n",
              "    <tr>\n",
              "      <th>4월</th>\n",
              "      <td>102</td>\n",
              "      <td>332</td>\n",
              "      <td>402</td>\n",
              "    </tr>\n",
              "    <tr>\n",
              "      <th>5월</th>\n",
              "      <td>99</td>\n",
              "      <td>392</td>\n",
              "      <td>497</td>\n",
              "    </tr>\n",
              "    <tr>\n",
              "      <th>6월</th>\n",
              "      <td>80</td>\n",
              "      <td>391</td>\n",
              "      <td>306</td>\n",
              "    </tr>\n",
              "    <tr>\n",
              "      <th>7월</th>\n",
              "      <td>30</td>\n",
              "      <td>295</td>\n",
              "      <td>681</td>\n",
              "    </tr>\n",
              "    <tr>\n",
              "      <th>8월</th>\n",
              "      <td>143</td>\n",
              "      <td>374</td>\n",
              "      <td>573</td>\n",
              "    </tr>\n",
              "  </tbody>\n",
              "</table>\n",
              "</div>"
            ],
            "text/plain": [
              "      배    밤  청포도\n",
              "4월  102  332  402\n",
              "5월   99  392  497\n",
              "6월   80  391  306\n",
              "7월   30  295  681\n",
              "8월  143  374  573"
            ]
          },
          "execution_count": 533,
          "metadata": {},
          "output_type": "execute_result"
        }
      ]
    },
    {
      "cell_type": "markdown",
      "metadata": {
        "id": "bMChlOlyG8Vr"
      },
      "source": [
        "열 순서를 임의로 지정할 수 있습니다. 원하는 열명을 임의의 순서로 나열하면 됩니다."
      ]
    },
    {
      "cell_type": "code",
      "metadata": {
        "colab": {
          "base_uri": "https://localhost:8080/",
          "height": 204
        },
        "id": "918sL8MiHF2g",
        "outputId": "7f7e9469-6c37-48cb-edeb-163b4cfa6381"
      },
      "source": [
        "dataframe3[['밤', '청포도', '배']]"
      ],
      "execution_count": null,
      "outputs": [
        {
          "data": {
            "text/html": [
              "<div>\n",
              "<style scoped>\n",
              "    .dataframe tbody tr th:only-of-type {\n",
              "        vertical-align: middle;\n",
              "    }\n",
              "\n",
              "    .dataframe tbody tr th {\n",
              "        vertical-align: top;\n",
              "    }\n",
              "\n",
              "    .dataframe thead th {\n",
              "        text-align: right;\n",
              "    }\n",
              "</style>\n",
              "<table border=\"1\" class=\"dataframe\">\n",
              "  <thead>\n",
              "    <tr style=\"text-align: right;\">\n",
              "      <th></th>\n",
              "      <th>밤</th>\n",
              "      <th>청포도</th>\n",
              "      <th>배</th>\n",
              "    </tr>\n",
              "  </thead>\n",
              "  <tbody>\n",
              "    <tr>\n",
              "      <th>4월</th>\n",
              "      <td>332</td>\n",
              "      <td>402</td>\n",
              "      <td>102</td>\n",
              "    </tr>\n",
              "    <tr>\n",
              "      <th>5월</th>\n",
              "      <td>392</td>\n",
              "      <td>497</td>\n",
              "      <td>99</td>\n",
              "    </tr>\n",
              "    <tr>\n",
              "      <th>6월</th>\n",
              "      <td>391</td>\n",
              "      <td>306</td>\n",
              "      <td>80</td>\n",
              "    </tr>\n",
              "    <tr>\n",
              "      <th>7월</th>\n",
              "      <td>295</td>\n",
              "      <td>681</td>\n",
              "      <td>30</td>\n",
              "    </tr>\n",
              "    <tr>\n",
              "      <th>8월</th>\n",
              "      <td>374</td>\n",
              "      <td>573</td>\n",
              "      <td>143</td>\n",
              "    </tr>\n",
              "  </tbody>\n",
              "</table>\n",
              "</div>"
            ],
            "text/plain": [
              "      밤  청포도    배\n",
              "4월  332  402  102\n",
              "5월  392  497   99\n",
              "6월  391  306   80\n",
              "7월  295  681   30\n",
              "8월  374  573  143"
            ]
          },
          "execution_count": 534,
          "metadata": {},
          "output_type": "execute_result"
        }
      ]
    },
    {
      "cell_type": "markdown",
      "metadata": {
        "id": "JajKWuGoHtXA"
      },
      "source": [
        "이번에는 열을 분리하겠습니다. 먼저 새로운 데이터프레임을 만들겠습니다."
      ]
    },
    {
      "cell_type": "code",
      "metadata": {
        "colab": {
          "base_uri": "https://localhost:8080/",
          "height": 173
        },
        "id": "ks5etwuKKcOf",
        "outputId": "aa1d6e34-a933-4db9-fce8-957f5d9d7712"
      },
      "source": [
        "dic_data1 = {'입대일': ['2012-09-12', '2012-09-12', '2012-09-12', '2012-09-12'],\n",
        "            '군번': [20129948, 20129593, 20129302, 20129352],\n",
        "            '이름': ['이승민', '김대철', '장비호', '이진해'],\n",
        "            '보직': [20, 30, 10, 30]}\n",
        "dataframe_split_get = pd.DataFrame(dic_data1)\n",
        "dataframe_split_get"
      ],
      "execution_count": null,
      "outputs": [
        {
          "data": {
            "text/html": [
              "<div>\n",
              "<style scoped>\n",
              "    .dataframe tbody tr th:only-of-type {\n",
              "        vertical-align: middle;\n",
              "    }\n",
              "\n",
              "    .dataframe tbody tr th {\n",
              "        vertical-align: top;\n",
              "    }\n",
              "\n",
              "    .dataframe thead th {\n",
              "        text-align: right;\n",
              "    }\n",
              "</style>\n",
              "<table border=\"1\" class=\"dataframe\">\n",
              "  <thead>\n",
              "    <tr style=\"text-align: right;\">\n",
              "      <th></th>\n",
              "      <th>입대일</th>\n",
              "      <th>군번</th>\n",
              "      <th>이름</th>\n",
              "      <th>보직</th>\n",
              "    </tr>\n",
              "  </thead>\n",
              "  <tbody>\n",
              "    <tr>\n",
              "      <th>0</th>\n",
              "      <td>2012-09-12</td>\n",
              "      <td>20129948</td>\n",
              "      <td>이승민</td>\n",
              "      <td>20</td>\n",
              "    </tr>\n",
              "    <tr>\n",
              "      <th>1</th>\n",
              "      <td>2012-09-12</td>\n",
              "      <td>20129593</td>\n",
              "      <td>김대철</td>\n",
              "      <td>30</td>\n",
              "    </tr>\n",
              "    <tr>\n",
              "      <th>2</th>\n",
              "      <td>2012-09-12</td>\n",
              "      <td>20129302</td>\n",
              "      <td>장비호</td>\n",
              "      <td>10</td>\n",
              "    </tr>\n",
              "    <tr>\n",
              "      <th>3</th>\n",
              "      <td>2012-09-12</td>\n",
              "      <td>20129352</td>\n",
              "      <td>이진해</td>\n",
              "      <td>30</td>\n",
              "    </tr>\n",
              "  </tbody>\n",
              "</table>\n",
              "</div>"
            ],
            "text/plain": [
              "          입대일        군번   이름  보직\n",
              "0  2012-09-12  20129948  이승민  20\n",
              "1  2012-09-12  20129593  김대철  30\n",
              "2  2012-09-12  20129302  장비호  10\n",
              "3  2012-09-12  20129352  이진해  30"
            ]
          },
          "execution_count": 535,
          "metadata": {},
          "output_type": "execute_result"
        }
      ]
    },
    {
      "cell_type": "markdown",
      "metadata": {
        "id": "SlbHdzGxKwde"
      },
      "source": [
        "'입대일' 열의 데이터를 '연', '월', '일' 열로 나누겠습니다. 먼저 '입대일' 열 값의 데이터 타입을 확인합니다."
      ]
    },
    {
      "cell_type": "code",
      "metadata": {
        "colab": {
          "base_uri": "https://localhost:8080/"
        },
        "id": "OSDvG7LfLstB",
        "outputId": "8f72668b-fc6e-4f2e-ca64-e5acc08178ec"
      },
      "source": [
        "dataframe_split_get.dtypes"
      ],
      "execution_count": null,
      "outputs": [
        {
          "data": {
            "text/plain": [
              "입대일    object\n",
              "군번      int64\n",
              "이름     object\n",
              "보직      int64\n",
              "dtype: object"
            ]
          },
          "execution_count": 536,
          "metadata": {},
          "output_type": "execute_result"
        }
      ]
    },
    {
      "cell_type": "markdown",
      "metadata": {
        "id": "Eu5cG0OyMw1E"
      },
      "source": [
        "일반 문자열 타입입니다. 날짜형이라는 전제를 두고 '입대일' 열의 값을 문자열 타입으로 변경하는 코드를 작성하겠습니다."
      ]
    },
    {
      "cell_type": "code",
      "metadata": {
        "id": "wEQNXC5sMQKQ"
      },
      "source": [
        "dataframe_split_get['입대일'] = dataframe_split_get['입대일'].astype('str')"
      ],
      "execution_count": null,
      "outputs": []
    },
    {
      "cell_type": "markdown",
      "metadata": {
        "id": "onedmS-PM3Dv"
      },
      "source": [
        "문자열 타입으로 변경한 '입대일' 열의 값을 `split()` 메서드로 연, 월, 일로 나누겠습니다."
      ]
    },
    {
      "cell_type": "code",
      "metadata": {
        "colab": {
          "base_uri": "https://localhost:8080/"
        },
        "id": "R_9WHIu_Nzmw",
        "outputId": "21e7fd77-48dd-4057-f0c9-4b8d37a15ad4"
      },
      "source": [
        "dates = dataframe_split_get['입대일'].str.split('-')\n",
        "dates"
      ],
      "execution_count": null,
      "outputs": [
        {
          "data": {
            "text/plain": [
              "0    [2012, 09, 12]\n",
              "1    [2012, 09, 12]\n",
              "2    [2012, 09, 12]\n",
              "3    [2012, 09, 12]\n",
              "Name: 입대일, dtype: object"
            ]
          },
          "execution_count": 538,
          "metadata": {},
          "output_type": "execute_result"
        }
      ]
    },
    {
      "cell_type": "markdown",
      "metadata": {
        "id": "jeIeV9K7OAvM"
      },
      "source": [
        "'연', '월', '일' 열을 새로 만들고 분리된 데이터를 추가하겠습니다. `get()` 메서드를 사용해서 값을 전달하겠습니다. 인자로는 리스트 인덱스를 지정합니다."
      ]
    },
    {
      "cell_type": "code",
      "metadata": {
        "colab": {
          "base_uri": "https://localhost:8080/",
          "height": 173
        },
        "id": "hwjDMjUWORns",
        "outputId": "0e01808d-cf08-4bdc-9f63-58e0ad500833"
      },
      "source": [
        "dataframe_split_get['연'] = dates.str.get(0)\n",
        "dataframe_split_get['월'] = dates.str.get(1)\n",
        "dataframe_split_get['일'] = dates.str.get(2)\n",
        "dataframe_split_get"
      ],
      "execution_count": null,
      "outputs": [
        {
          "data": {
            "text/html": [
              "<div>\n",
              "<style scoped>\n",
              "    .dataframe tbody tr th:only-of-type {\n",
              "        vertical-align: middle;\n",
              "    }\n",
              "\n",
              "    .dataframe tbody tr th {\n",
              "        vertical-align: top;\n",
              "    }\n",
              "\n",
              "    .dataframe thead th {\n",
              "        text-align: right;\n",
              "    }\n",
              "</style>\n",
              "<table border=\"1\" class=\"dataframe\">\n",
              "  <thead>\n",
              "    <tr style=\"text-align: right;\">\n",
              "      <th></th>\n",
              "      <th>입대일</th>\n",
              "      <th>군번</th>\n",
              "      <th>이름</th>\n",
              "      <th>보직</th>\n",
              "      <th>연</th>\n",
              "      <th>월</th>\n",
              "      <th>일</th>\n",
              "    </tr>\n",
              "  </thead>\n",
              "  <tbody>\n",
              "    <tr>\n",
              "      <th>0</th>\n",
              "      <td>2012-09-12</td>\n",
              "      <td>20129948</td>\n",
              "      <td>이승민</td>\n",
              "      <td>20</td>\n",
              "      <td>2012</td>\n",
              "      <td>09</td>\n",
              "      <td>12</td>\n",
              "    </tr>\n",
              "    <tr>\n",
              "      <th>1</th>\n",
              "      <td>2012-09-12</td>\n",
              "      <td>20129593</td>\n",
              "      <td>김대철</td>\n",
              "      <td>30</td>\n",
              "      <td>2012</td>\n",
              "      <td>09</td>\n",
              "      <td>12</td>\n",
              "    </tr>\n",
              "    <tr>\n",
              "      <th>2</th>\n",
              "      <td>2012-09-12</td>\n",
              "      <td>20129302</td>\n",
              "      <td>장비호</td>\n",
              "      <td>10</td>\n",
              "      <td>2012</td>\n",
              "      <td>09</td>\n",
              "      <td>12</td>\n",
              "    </tr>\n",
              "    <tr>\n",
              "      <th>3</th>\n",
              "      <td>2012-09-12</td>\n",
              "      <td>20129352</td>\n",
              "      <td>이진해</td>\n",
              "      <td>30</td>\n",
              "      <td>2012</td>\n",
              "      <td>09</td>\n",
              "      <td>12</td>\n",
              "    </tr>\n",
              "  </tbody>\n",
              "</table>\n",
              "</div>"
            ],
            "text/plain": [
              "          입대일        군번   이름  보직     연   월   일\n",
              "0  2012-09-12  20129948  이승민  20  2012  09  12\n",
              "1  2012-09-12  20129593  김대철  30  2012  09  12\n",
              "2  2012-09-12  20129302  장비호  10  2012  09  12\n",
              "3  2012-09-12  20129352  이진해  30  2012  09  12"
            ]
          },
          "execution_count": 539,
          "metadata": {},
          "output_type": "execute_result"
        }
      ]
    },
    {
      "cell_type": "markdown",
      "metadata": {
        "id": "D1-vSs24-i1K"
      },
      "source": [
        "`drop()` 메서드를 사용하면 행과 열을 삭제할 수 있습니다. 매개변수 `axis`에 `0`을 지정하면(기본값이므로 지정하지 않아도 됩니다) 행을 삭제하고, `1`을 지정하면 열을 삭제합니다. `rename()` 메서드처럼 매개변수 `inplace`를 가지고 있으며 사용법은 동일합니다.\n",
        "\n",
        "`dataframe3` 데이터프레임으로 예시하겠습니다. 삭제 예시를 들기 위해 `dataframe3` 데이터프레임을 예시용 객체에 복제하겠습니다."
      ]
    },
    {
      "cell_type": "code",
      "metadata": {
        "colab": {
          "base_uri": "https://localhost:8080/",
          "height": 204
        },
        "id": "RnGr2lkl_IHW",
        "outputId": "679de61b-86b9-411b-9314-92696acc0f43"
      },
      "source": [
        "# `dataframe3.copy()` 형식으로도 복제할 수 있습니다.\n",
        "dataframe_drop = dataframe3[:]\n",
        "dataframe_drop"
      ],
      "execution_count": null,
      "outputs": [
        {
          "data": {
            "text/html": [
              "<div>\n",
              "<style scoped>\n",
              "    .dataframe tbody tr th:only-of-type {\n",
              "        vertical-align: middle;\n",
              "    }\n",
              "\n",
              "    .dataframe tbody tr th {\n",
              "        vertical-align: top;\n",
              "    }\n",
              "\n",
              "    .dataframe thead th {\n",
              "        text-align: right;\n",
              "    }\n",
              "</style>\n",
              "<table border=\"1\" class=\"dataframe\">\n",
              "  <thead>\n",
              "    <tr style=\"text-align: right;\">\n",
              "      <th></th>\n",
              "      <th>청포도</th>\n",
              "      <th>밤</th>\n",
              "      <th>배</th>\n",
              "    </tr>\n",
              "  </thead>\n",
              "  <tbody>\n",
              "    <tr>\n",
              "      <th>4월</th>\n",
              "      <td>402</td>\n",
              "      <td>332</td>\n",
              "      <td>102</td>\n",
              "    </tr>\n",
              "    <tr>\n",
              "      <th>5월</th>\n",
              "      <td>497</td>\n",
              "      <td>392</td>\n",
              "      <td>99</td>\n",
              "    </tr>\n",
              "    <tr>\n",
              "      <th>6월</th>\n",
              "      <td>306</td>\n",
              "      <td>391</td>\n",
              "      <td>80</td>\n",
              "    </tr>\n",
              "    <tr>\n",
              "      <th>7월</th>\n",
              "      <td>681</td>\n",
              "      <td>295</td>\n",
              "      <td>30</td>\n",
              "    </tr>\n",
              "    <tr>\n",
              "      <th>8월</th>\n",
              "      <td>573</td>\n",
              "      <td>374</td>\n",
              "      <td>143</td>\n",
              "    </tr>\n",
              "  </tbody>\n",
              "</table>\n",
              "</div>"
            ],
            "text/plain": [
              "    청포도    밤    배\n",
              "4월  402  332  102\n",
              "5월  497  392   99\n",
              "6월  306  391   80\n",
              "7월  681  295   30\n",
              "8월  573  374  143"
            ]
          },
          "execution_count": 540,
          "metadata": {},
          "output_type": "execute_result"
        }
      ]
    },
    {
      "cell_type": "markdown",
      "metadata": {
        "id": "yMe601H7CrHQ"
      },
      "source": [
        "'4월' 행을 삭제하겠습니다."
      ]
    },
    {
      "cell_type": "code",
      "metadata": {
        "colab": {
          "base_uri": "https://localhost:8080/",
          "height": 173
        },
        "id": "OSCwUeB2Cirl",
        "outputId": "862651df-574c-4d2b-cce6-a62f900ea0a5"
      },
      "source": [
        "dataframe_drop.drop('4월')"
      ],
      "execution_count": null,
      "outputs": [
        {
          "data": {
            "text/html": [
              "<div>\n",
              "<style scoped>\n",
              "    .dataframe tbody tr th:only-of-type {\n",
              "        vertical-align: middle;\n",
              "    }\n",
              "\n",
              "    .dataframe tbody tr th {\n",
              "        vertical-align: top;\n",
              "    }\n",
              "\n",
              "    .dataframe thead th {\n",
              "        text-align: right;\n",
              "    }\n",
              "</style>\n",
              "<table border=\"1\" class=\"dataframe\">\n",
              "  <thead>\n",
              "    <tr style=\"text-align: right;\">\n",
              "      <th></th>\n",
              "      <th>청포도</th>\n",
              "      <th>밤</th>\n",
              "      <th>배</th>\n",
              "    </tr>\n",
              "  </thead>\n",
              "  <tbody>\n",
              "    <tr>\n",
              "      <th>5월</th>\n",
              "      <td>497</td>\n",
              "      <td>392</td>\n",
              "      <td>99</td>\n",
              "    </tr>\n",
              "    <tr>\n",
              "      <th>6월</th>\n",
              "      <td>306</td>\n",
              "      <td>391</td>\n",
              "      <td>80</td>\n",
              "    </tr>\n",
              "    <tr>\n",
              "      <th>7월</th>\n",
              "      <td>681</td>\n",
              "      <td>295</td>\n",
              "      <td>30</td>\n",
              "    </tr>\n",
              "    <tr>\n",
              "      <th>8월</th>\n",
              "      <td>573</td>\n",
              "      <td>374</td>\n",
              "      <td>143</td>\n",
              "    </tr>\n",
              "  </tbody>\n",
              "</table>\n",
              "</div>"
            ],
            "text/plain": [
              "    청포도    밤    배\n",
              "5월  497  392   99\n",
              "6월  306  391   80\n",
              "7월  681  295   30\n",
              "8월  573  374  143"
            ]
          },
          "execution_count": 541,
          "metadata": {},
          "output_type": "execute_result"
        }
      ]
    },
    {
      "cell_type": "markdown",
      "metadata": {
        "id": "wNdahHdxDeub"
      },
      "source": [
        "'4월' 행과 '8월' 행을 삭제하겠습니다. 다수 원소는 리스트로 묶습니다."
      ]
    },
    {
      "cell_type": "code",
      "metadata": {
        "colab": {
          "base_uri": "https://localhost:8080/",
          "height": 142
        },
        "id": "Y_MAkTi4DgGP",
        "outputId": "aba1bae8-6cfa-4383-bfe3-de8f702f8f15"
      },
      "source": [
        "dataframe_drop.drop(['4월', '8월'])"
      ],
      "execution_count": null,
      "outputs": [
        {
          "data": {
            "text/html": [
              "<div>\n",
              "<style scoped>\n",
              "    .dataframe tbody tr th:only-of-type {\n",
              "        vertical-align: middle;\n",
              "    }\n",
              "\n",
              "    .dataframe tbody tr th {\n",
              "        vertical-align: top;\n",
              "    }\n",
              "\n",
              "    .dataframe thead th {\n",
              "        text-align: right;\n",
              "    }\n",
              "</style>\n",
              "<table border=\"1\" class=\"dataframe\">\n",
              "  <thead>\n",
              "    <tr style=\"text-align: right;\">\n",
              "      <th></th>\n",
              "      <th>청포도</th>\n",
              "      <th>밤</th>\n",
              "      <th>배</th>\n",
              "    </tr>\n",
              "  </thead>\n",
              "  <tbody>\n",
              "    <tr>\n",
              "      <th>5월</th>\n",
              "      <td>497</td>\n",
              "      <td>392</td>\n",
              "      <td>99</td>\n",
              "    </tr>\n",
              "    <tr>\n",
              "      <th>6월</th>\n",
              "      <td>306</td>\n",
              "      <td>391</td>\n",
              "      <td>80</td>\n",
              "    </tr>\n",
              "    <tr>\n",
              "      <th>7월</th>\n",
              "      <td>681</td>\n",
              "      <td>295</td>\n",
              "      <td>30</td>\n",
              "    </tr>\n",
              "  </tbody>\n",
              "</table>\n",
              "</div>"
            ],
            "text/plain": [
              "    청포도    밤   배\n",
              "5월  497  392  99\n",
              "6월  306  391  80\n",
              "7월  681  295  30"
            ]
          },
          "execution_count": 542,
          "metadata": {},
          "output_type": "execute_result"
        }
      ]
    },
    {
      "cell_type": "markdown",
      "metadata": {
        "id": "5JQ1smelCwzD"
      },
      "source": [
        "'배' 열을 삭제하겠습니다. 열을 삭제하려면 `axis` 매개변수에 `1`을 전달합니다."
      ]
    },
    {
      "cell_type": "code",
      "metadata": {
        "colab": {
          "base_uri": "https://localhost:8080/",
          "height": 204
        },
        "id": "p-F61hTqC0MG",
        "outputId": "67c004fb-433e-4412-f193-9a812b7ec987"
      },
      "source": [
        "dataframe_drop.drop('배', axis=1)"
      ],
      "execution_count": null,
      "outputs": [
        {
          "data": {
            "text/html": [
              "<div>\n",
              "<style scoped>\n",
              "    .dataframe tbody tr th:only-of-type {\n",
              "        vertical-align: middle;\n",
              "    }\n",
              "\n",
              "    .dataframe tbody tr th {\n",
              "        vertical-align: top;\n",
              "    }\n",
              "\n",
              "    .dataframe thead th {\n",
              "        text-align: right;\n",
              "    }\n",
              "</style>\n",
              "<table border=\"1\" class=\"dataframe\">\n",
              "  <thead>\n",
              "    <tr style=\"text-align: right;\">\n",
              "      <th></th>\n",
              "      <th>청포도</th>\n",
              "      <th>밤</th>\n",
              "    </tr>\n",
              "  </thead>\n",
              "  <tbody>\n",
              "    <tr>\n",
              "      <th>4월</th>\n",
              "      <td>402</td>\n",
              "      <td>332</td>\n",
              "    </tr>\n",
              "    <tr>\n",
              "      <th>5월</th>\n",
              "      <td>497</td>\n",
              "      <td>392</td>\n",
              "    </tr>\n",
              "    <tr>\n",
              "      <th>6월</th>\n",
              "      <td>306</td>\n",
              "      <td>391</td>\n",
              "    </tr>\n",
              "    <tr>\n",
              "      <th>7월</th>\n",
              "      <td>681</td>\n",
              "      <td>295</td>\n",
              "    </tr>\n",
              "    <tr>\n",
              "      <th>8월</th>\n",
              "      <td>573</td>\n",
              "      <td>374</td>\n",
              "    </tr>\n",
              "  </tbody>\n",
              "</table>\n",
              "</div>"
            ],
            "text/plain": [
              "    청포도    밤\n",
              "4월  402  332\n",
              "5월  497  392\n",
              "6월  306  391\n",
              "7월  681  295\n",
              "8월  573  374"
            ]
          },
          "execution_count": 543,
          "metadata": {},
          "output_type": "execute_result"
        }
      ]
    },
    {
      "cell_type": "markdown",
      "metadata": {
        "id": "4PH5HPb2VhW_"
      },
      "source": [
        "행과 열을 바꾸려면(전치하려면) `T` 메서드나 `transpose()` 메서드를 사용합니다. 물론 영구적으로 바뀌지 않고 메서드를 사용할 때만 바뀝니다. 객체에 넘겨주면 전치된 데이터 프레임을 유지할 수 있습니다. `dataframe3`으로 예시하겠습니다."
      ]
    },
    {
      "cell_type": "code",
      "metadata": {
        "colab": {
          "base_uri": "https://localhost:8080/",
          "height": 204
        },
        "id": "68rSDc1RVjpr",
        "outputId": "c05e008e-99d2-4e70-ae28-c82f2893cb91"
      },
      "source": [
        "dataframe3"
      ],
      "execution_count": null,
      "outputs": [
        {
          "data": {
            "text/html": [
              "<div>\n",
              "<style scoped>\n",
              "    .dataframe tbody tr th:only-of-type {\n",
              "        vertical-align: middle;\n",
              "    }\n",
              "\n",
              "    .dataframe tbody tr th {\n",
              "        vertical-align: top;\n",
              "    }\n",
              "\n",
              "    .dataframe thead th {\n",
              "        text-align: right;\n",
              "    }\n",
              "</style>\n",
              "<table border=\"1\" class=\"dataframe\">\n",
              "  <thead>\n",
              "    <tr style=\"text-align: right;\">\n",
              "      <th></th>\n",
              "      <th>청포도</th>\n",
              "      <th>밤</th>\n",
              "      <th>배</th>\n",
              "    </tr>\n",
              "  </thead>\n",
              "  <tbody>\n",
              "    <tr>\n",
              "      <th>4월</th>\n",
              "      <td>402</td>\n",
              "      <td>332</td>\n",
              "      <td>102</td>\n",
              "    </tr>\n",
              "    <tr>\n",
              "      <th>5월</th>\n",
              "      <td>497</td>\n",
              "      <td>392</td>\n",
              "      <td>99</td>\n",
              "    </tr>\n",
              "    <tr>\n",
              "      <th>6월</th>\n",
              "      <td>306</td>\n",
              "      <td>391</td>\n",
              "      <td>80</td>\n",
              "    </tr>\n",
              "    <tr>\n",
              "      <th>7월</th>\n",
              "      <td>681</td>\n",
              "      <td>295</td>\n",
              "      <td>30</td>\n",
              "    </tr>\n",
              "    <tr>\n",
              "      <th>8월</th>\n",
              "      <td>573</td>\n",
              "      <td>374</td>\n",
              "      <td>143</td>\n",
              "    </tr>\n",
              "  </tbody>\n",
              "</table>\n",
              "</div>"
            ],
            "text/plain": [
              "    청포도    밤    배\n",
              "4월  402  332  102\n",
              "5월  497  392   99\n",
              "6월  306  391   80\n",
              "7월  681  295   30\n",
              "8월  573  374  143"
            ]
          },
          "execution_count": 544,
          "metadata": {},
          "output_type": "execute_result"
        }
      ]
    },
    {
      "cell_type": "code",
      "metadata": {
        "colab": {
          "base_uri": "https://localhost:8080/",
          "height": 142
        },
        "id": "_eXrzVPBVcQB",
        "outputId": "a0b224dd-64e6-47ac-fc06-4a97f7f535d1"
      },
      "source": [
        "dataframe3.T"
      ],
      "execution_count": null,
      "outputs": [
        {
          "data": {
            "text/html": [
              "<div>\n",
              "<style scoped>\n",
              "    .dataframe tbody tr th:only-of-type {\n",
              "        vertical-align: middle;\n",
              "    }\n",
              "\n",
              "    .dataframe tbody tr th {\n",
              "        vertical-align: top;\n",
              "    }\n",
              "\n",
              "    .dataframe thead th {\n",
              "        text-align: right;\n",
              "    }\n",
              "</style>\n",
              "<table border=\"1\" class=\"dataframe\">\n",
              "  <thead>\n",
              "    <tr style=\"text-align: right;\">\n",
              "      <th></th>\n",
              "      <th>4월</th>\n",
              "      <th>5월</th>\n",
              "      <th>6월</th>\n",
              "      <th>7월</th>\n",
              "      <th>8월</th>\n",
              "    </tr>\n",
              "  </thead>\n",
              "  <tbody>\n",
              "    <tr>\n",
              "      <th>청포도</th>\n",
              "      <td>402</td>\n",
              "      <td>497</td>\n",
              "      <td>306</td>\n",
              "      <td>681</td>\n",
              "      <td>573</td>\n",
              "    </tr>\n",
              "    <tr>\n",
              "      <th>밤</th>\n",
              "      <td>332</td>\n",
              "      <td>392</td>\n",
              "      <td>391</td>\n",
              "      <td>295</td>\n",
              "      <td>374</td>\n",
              "    </tr>\n",
              "    <tr>\n",
              "      <th>배</th>\n",
              "      <td>102</td>\n",
              "      <td>99</td>\n",
              "      <td>80</td>\n",
              "      <td>30</td>\n",
              "      <td>143</td>\n",
              "    </tr>\n",
              "  </tbody>\n",
              "</table>\n",
              "</div>"
            ],
            "text/plain": [
              "      4월   5월   6월   7월   8월\n",
              "청포도  402  497  306  681  573\n",
              "밤    332  392  391  295  374\n",
              "배    102   99   80   30  143"
            ]
          },
          "execution_count": 545,
          "metadata": {},
          "output_type": "execute_result"
        }
      ]
    },
    {
      "cell_type": "code",
      "metadata": {
        "colab": {
          "base_uri": "https://localhost:8080/",
          "height": 142
        },
        "id": "K74VCR57t7FU",
        "outputId": "e888c8da-4e58-4897-ee2c-fdf9bcb3e49d"
      },
      "source": [
        "dataframe3.transpose()"
      ],
      "execution_count": null,
      "outputs": [
        {
          "data": {
            "text/html": [
              "<div>\n",
              "<style scoped>\n",
              "    .dataframe tbody tr th:only-of-type {\n",
              "        vertical-align: middle;\n",
              "    }\n",
              "\n",
              "    .dataframe tbody tr th {\n",
              "        vertical-align: top;\n",
              "    }\n",
              "\n",
              "    .dataframe thead th {\n",
              "        text-align: right;\n",
              "    }\n",
              "</style>\n",
              "<table border=\"1\" class=\"dataframe\">\n",
              "  <thead>\n",
              "    <tr style=\"text-align: right;\">\n",
              "      <th></th>\n",
              "      <th>4월</th>\n",
              "      <th>5월</th>\n",
              "      <th>6월</th>\n",
              "      <th>7월</th>\n",
              "      <th>8월</th>\n",
              "    </tr>\n",
              "  </thead>\n",
              "  <tbody>\n",
              "    <tr>\n",
              "      <th>청포도</th>\n",
              "      <td>402</td>\n",
              "      <td>497</td>\n",
              "      <td>306</td>\n",
              "      <td>681</td>\n",
              "      <td>573</td>\n",
              "    </tr>\n",
              "    <tr>\n",
              "      <th>밤</th>\n",
              "      <td>332</td>\n",
              "      <td>392</td>\n",
              "      <td>391</td>\n",
              "      <td>295</td>\n",
              "      <td>374</td>\n",
              "    </tr>\n",
              "    <tr>\n",
              "      <th>배</th>\n",
              "      <td>102</td>\n",
              "      <td>99</td>\n",
              "      <td>80</td>\n",
              "      <td>30</td>\n",
              "      <td>143</td>\n",
              "    </tr>\n",
              "  </tbody>\n",
              "</table>\n",
              "</div>"
            ],
            "text/plain": [
              "      4월   5월   6월   7월   8월\n",
              "청포도  402  497  306  681  573\n",
              "밤    332  392  391  295  374\n",
              "배    102   99   80   30  143"
            ]
          },
          "execution_count": 546,
          "metadata": {},
          "output_type": "execute_result"
        }
      ]
    },
    {
      "cell_type": "markdown",
      "metadata": {
        "id": "-Yz9PuWScOh8"
      },
      "source": [
        "이번에는 원소를 지정해서 값을 변경하겠습니다. 인덱싱과 슬라이싱 모두 사용할 수 있습니다. 먼저 `dataframe3` 데이터프레임을 복제한 객체를 만듭니다."
      ]
    },
    {
      "cell_type": "code",
      "metadata": {
        "colab": {
          "base_uri": "https://localhost:8080/",
          "height": 204
        },
        "id": "8tnGLS4ycYe_",
        "outputId": "fe57ff3e-ddc3-4055-d581-cc2cf164016a"
      },
      "source": [
        "dataframe3_trans = dataframe3[:]\n",
        "dataframe3_trans"
      ],
      "execution_count": null,
      "outputs": [
        {
          "data": {
            "text/html": [
              "<div>\n",
              "<style scoped>\n",
              "    .dataframe tbody tr th:only-of-type {\n",
              "        vertical-align: middle;\n",
              "    }\n",
              "\n",
              "    .dataframe tbody tr th {\n",
              "        vertical-align: top;\n",
              "    }\n",
              "\n",
              "    .dataframe thead th {\n",
              "        text-align: right;\n",
              "    }\n",
              "</style>\n",
              "<table border=\"1\" class=\"dataframe\">\n",
              "  <thead>\n",
              "    <tr style=\"text-align: right;\">\n",
              "      <th></th>\n",
              "      <th>청포도</th>\n",
              "      <th>밤</th>\n",
              "      <th>배</th>\n",
              "    </tr>\n",
              "  </thead>\n",
              "  <tbody>\n",
              "    <tr>\n",
              "      <th>4월</th>\n",
              "      <td>402</td>\n",
              "      <td>332</td>\n",
              "      <td>102</td>\n",
              "    </tr>\n",
              "    <tr>\n",
              "      <th>5월</th>\n",
              "      <td>497</td>\n",
              "      <td>392</td>\n",
              "      <td>99</td>\n",
              "    </tr>\n",
              "    <tr>\n",
              "      <th>6월</th>\n",
              "      <td>306</td>\n",
              "      <td>391</td>\n",
              "      <td>80</td>\n",
              "    </tr>\n",
              "    <tr>\n",
              "      <th>7월</th>\n",
              "      <td>681</td>\n",
              "      <td>295</td>\n",
              "      <td>30</td>\n",
              "    </tr>\n",
              "    <tr>\n",
              "      <th>8월</th>\n",
              "      <td>573</td>\n",
              "      <td>374</td>\n",
              "      <td>143</td>\n",
              "    </tr>\n",
              "  </tbody>\n",
              "</table>\n",
              "</div>"
            ],
            "text/plain": [
              "    청포도    밤    배\n",
              "4월  402  332  102\n",
              "5월  497  392   99\n",
              "6월  306  391   80\n",
              "7월  681  295   30\n",
              "8월  573  374  143"
            ]
          },
          "execution_count": 547,
          "metadata": {},
          "output_type": "execute_result"
        }
      ]
    },
    {
      "cell_type": "markdown",
      "metadata": {
        "id": "BCp3DuMaca6H"
      },
      "source": [
        "'4월' 행의 '청포도' 값을 바꾸겠습니다. 먼저 행부터 접근하겠습니다."
      ]
    },
    {
      "cell_type": "code",
      "metadata": {
        "colab": {
          "base_uri": "https://localhost:8080/",
          "height": 204
        },
        "id": "7tJ1pNmgcjd4",
        "outputId": "8a812186-1637-473b-ec41-53e7632c3833"
      },
      "source": [
        "dataframe3_trans.loc['4월', '청포도'] = 1\n",
        "dataframe3_trans"
      ],
      "execution_count": null,
      "outputs": [
        {
          "data": {
            "text/html": [
              "<div>\n",
              "<style scoped>\n",
              "    .dataframe tbody tr th:only-of-type {\n",
              "        vertical-align: middle;\n",
              "    }\n",
              "\n",
              "    .dataframe tbody tr th {\n",
              "        vertical-align: top;\n",
              "    }\n",
              "\n",
              "    .dataframe thead th {\n",
              "        text-align: right;\n",
              "    }\n",
              "</style>\n",
              "<table border=\"1\" class=\"dataframe\">\n",
              "  <thead>\n",
              "    <tr style=\"text-align: right;\">\n",
              "      <th></th>\n",
              "      <th>청포도</th>\n",
              "      <th>밤</th>\n",
              "      <th>배</th>\n",
              "    </tr>\n",
              "  </thead>\n",
              "  <tbody>\n",
              "    <tr>\n",
              "      <th>4월</th>\n",
              "      <td>1</td>\n",
              "      <td>332</td>\n",
              "      <td>102</td>\n",
              "    </tr>\n",
              "    <tr>\n",
              "      <th>5월</th>\n",
              "      <td>497</td>\n",
              "      <td>392</td>\n",
              "      <td>99</td>\n",
              "    </tr>\n",
              "    <tr>\n",
              "      <th>6월</th>\n",
              "      <td>306</td>\n",
              "      <td>391</td>\n",
              "      <td>80</td>\n",
              "    </tr>\n",
              "    <tr>\n",
              "      <th>7월</th>\n",
              "      <td>681</td>\n",
              "      <td>295</td>\n",
              "      <td>30</td>\n",
              "    </tr>\n",
              "    <tr>\n",
              "      <th>8월</th>\n",
              "      <td>573</td>\n",
              "      <td>374</td>\n",
              "      <td>143</td>\n",
              "    </tr>\n",
              "  </tbody>\n",
              "</table>\n",
              "</div>"
            ],
            "text/plain": [
              "    청포도    밤    배\n",
              "4월    1  332  102\n",
              "5월  497  392   99\n",
              "6월  306  391   80\n",
              "7월  681  295   30\n",
              "8월  573  374  143"
            ]
          },
          "execution_count": 548,
          "metadata": {},
          "output_type": "execute_result"
        }
      ]
    },
    {
      "cell_type": "code",
      "metadata": {
        "colab": {
          "base_uri": "https://localhost:8080/",
          "height": 204
        },
        "id": "rkU7Cg2VeI2m",
        "outputId": "4ef0483b-9958-4972-f1d4-bdef9424f9c9"
      },
      "source": [
        "dataframe3_trans.iloc[0, 0] = 2\n",
        "dataframe3_trans"
      ],
      "execution_count": null,
      "outputs": [
        {
          "data": {
            "text/html": [
              "<div>\n",
              "<style scoped>\n",
              "    .dataframe tbody tr th:only-of-type {\n",
              "        vertical-align: middle;\n",
              "    }\n",
              "\n",
              "    .dataframe tbody tr th {\n",
              "        vertical-align: top;\n",
              "    }\n",
              "\n",
              "    .dataframe thead th {\n",
              "        text-align: right;\n",
              "    }\n",
              "</style>\n",
              "<table border=\"1\" class=\"dataframe\">\n",
              "  <thead>\n",
              "    <tr style=\"text-align: right;\">\n",
              "      <th></th>\n",
              "      <th>청포도</th>\n",
              "      <th>밤</th>\n",
              "      <th>배</th>\n",
              "    </tr>\n",
              "  </thead>\n",
              "  <tbody>\n",
              "    <tr>\n",
              "      <th>4월</th>\n",
              "      <td>2</td>\n",
              "      <td>332</td>\n",
              "      <td>102</td>\n",
              "    </tr>\n",
              "    <tr>\n",
              "      <th>5월</th>\n",
              "      <td>497</td>\n",
              "      <td>392</td>\n",
              "      <td>99</td>\n",
              "    </tr>\n",
              "    <tr>\n",
              "      <th>6월</th>\n",
              "      <td>306</td>\n",
              "      <td>391</td>\n",
              "      <td>80</td>\n",
              "    </tr>\n",
              "    <tr>\n",
              "      <th>7월</th>\n",
              "      <td>681</td>\n",
              "      <td>295</td>\n",
              "      <td>30</td>\n",
              "    </tr>\n",
              "    <tr>\n",
              "      <th>8월</th>\n",
              "      <td>573</td>\n",
              "      <td>374</td>\n",
              "      <td>143</td>\n",
              "    </tr>\n",
              "  </tbody>\n",
              "</table>\n",
              "</div>"
            ],
            "text/plain": [
              "    청포도    밤    배\n",
              "4월    2  332  102\n",
              "5월  497  392   99\n",
              "6월  306  391   80\n",
              "7월  681  295   30\n",
              "8월  573  374  143"
            ]
          },
          "execution_count": 549,
          "metadata": {},
          "output_type": "execute_result"
        }
      ]
    },
    {
      "cell_type": "markdown",
      "metadata": {
        "id": "uaa46JdzfT42"
      },
      "source": [
        "'7월' 행과 '8월' 행의 '밤'과 '배' 값을 바꾸겠습니다. 먼저 행부터 접근하겠습니다."
      ]
    },
    {
      "cell_type": "code",
      "metadata": {
        "colab": {
          "base_uri": "https://localhost:8080/",
          "height": 204
        },
        "id": "PbAwz_UufgmC",
        "outputId": "dcc3d027-e677-45c4-a1b4-e2f96359dfe9"
      },
      "source": [
        "dataframe3_trans.loc[['7월', '8월'], ['밤', '배']] = 1\n",
        "dataframe3_trans"
      ],
      "execution_count": null,
      "outputs": [
        {
          "data": {
            "text/html": [
              "<div>\n",
              "<style scoped>\n",
              "    .dataframe tbody tr th:only-of-type {\n",
              "        vertical-align: middle;\n",
              "    }\n",
              "\n",
              "    .dataframe tbody tr th {\n",
              "        vertical-align: top;\n",
              "    }\n",
              "\n",
              "    .dataframe thead th {\n",
              "        text-align: right;\n",
              "    }\n",
              "</style>\n",
              "<table border=\"1\" class=\"dataframe\">\n",
              "  <thead>\n",
              "    <tr style=\"text-align: right;\">\n",
              "      <th></th>\n",
              "      <th>청포도</th>\n",
              "      <th>밤</th>\n",
              "      <th>배</th>\n",
              "    </tr>\n",
              "  </thead>\n",
              "  <tbody>\n",
              "    <tr>\n",
              "      <th>4월</th>\n",
              "      <td>2</td>\n",
              "      <td>332</td>\n",
              "      <td>102</td>\n",
              "    </tr>\n",
              "    <tr>\n",
              "      <th>5월</th>\n",
              "      <td>497</td>\n",
              "      <td>392</td>\n",
              "      <td>99</td>\n",
              "    </tr>\n",
              "    <tr>\n",
              "      <th>6월</th>\n",
              "      <td>306</td>\n",
              "      <td>391</td>\n",
              "      <td>80</td>\n",
              "    </tr>\n",
              "    <tr>\n",
              "      <th>7월</th>\n",
              "      <td>681</td>\n",
              "      <td>1</td>\n",
              "      <td>1</td>\n",
              "    </tr>\n",
              "    <tr>\n",
              "      <th>8월</th>\n",
              "      <td>573</td>\n",
              "      <td>1</td>\n",
              "      <td>1</td>\n",
              "    </tr>\n",
              "  </tbody>\n",
              "</table>\n",
              "</div>"
            ],
            "text/plain": [
              "    청포도    밤    배\n",
              "4월    2  332  102\n",
              "5월  497  392   99\n",
              "6월  306  391   80\n",
              "7월  681    1    1\n",
              "8월  573    1    1"
            ]
          },
          "execution_count": 550,
          "metadata": {},
          "output_type": "execute_result"
        }
      ]
    },
    {
      "cell_type": "code",
      "metadata": {
        "colab": {
          "base_uri": "https://localhost:8080/",
          "height": 204
        },
        "id": "s5Bt3Mk2gk6q",
        "outputId": "4d670336-9a76-4dc2-f1de-d0958445ad36"
      },
      "source": [
        "dataframe3_trans.iloc[[3, 4], [1, 2]] = 2\n",
        "dataframe3_trans"
      ],
      "execution_count": null,
      "outputs": [
        {
          "data": {
            "text/html": [
              "<div>\n",
              "<style scoped>\n",
              "    .dataframe tbody tr th:only-of-type {\n",
              "        vertical-align: middle;\n",
              "    }\n",
              "\n",
              "    .dataframe tbody tr th {\n",
              "        vertical-align: top;\n",
              "    }\n",
              "\n",
              "    .dataframe thead th {\n",
              "        text-align: right;\n",
              "    }\n",
              "</style>\n",
              "<table border=\"1\" class=\"dataframe\">\n",
              "  <thead>\n",
              "    <tr style=\"text-align: right;\">\n",
              "      <th></th>\n",
              "      <th>청포도</th>\n",
              "      <th>밤</th>\n",
              "      <th>배</th>\n",
              "    </tr>\n",
              "  </thead>\n",
              "  <tbody>\n",
              "    <tr>\n",
              "      <th>4월</th>\n",
              "      <td>2</td>\n",
              "      <td>332</td>\n",
              "      <td>102</td>\n",
              "    </tr>\n",
              "    <tr>\n",
              "      <th>5월</th>\n",
              "      <td>497</td>\n",
              "      <td>392</td>\n",
              "      <td>99</td>\n",
              "    </tr>\n",
              "    <tr>\n",
              "      <th>6월</th>\n",
              "      <td>306</td>\n",
              "      <td>391</td>\n",
              "      <td>80</td>\n",
              "    </tr>\n",
              "    <tr>\n",
              "      <th>7월</th>\n",
              "      <td>681</td>\n",
              "      <td>2</td>\n",
              "      <td>2</td>\n",
              "    </tr>\n",
              "    <tr>\n",
              "      <th>8월</th>\n",
              "      <td>573</td>\n",
              "      <td>2</td>\n",
              "      <td>2</td>\n",
              "    </tr>\n",
              "  </tbody>\n",
              "</table>\n",
              "</div>"
            ],
            "text/plain": [
              "    청포도    밤    배\n",
              "4월    2  332  102\n",
              "5월  497  392   99\n",
              "6월  306  391   80\n",
              "7월  681    2    2\n",
              "8월  573    2    2"
            ]
          },
          "execution_count": 551,
          "metadata": {},
          "output_type": "execute_result"
        }
      ]
    },
    {
      "cell_type": "code",
      "metadata": {
        "colab": {
          "base_uri": "https://localhost:8080/",
          "height": 204
        },
        "id": "b5gkKKlJgtxq",
        "outputId": "d9a4a691-02c0-46d0-dcae-b45340ad96b1"
      },
      "source": [
        "dataframe3_trans.iloc[3:, 1:] = 3\n",
        "dataframe3_trans"
      ],
      "execution_count": null,
      "outputs": [
        {
          "data": {
            "text/html": [
              "<div>\n",
              "<style scoped>\n",
              "    .dataframe tbody tr th:only-of-type {\n",
              "        vertical-align: middle;\n",
              "    }\n",
              "\n",
              "    .dataframe tbody tr th {\n",
              "        vertical-align: top;\n",
              "    }\n",
              "\n",
              "    .dataframe thead th {\n",
              "        text-align: right;\n",
              "    }\n",
              "</style>\n",
              "<table border=\"1\" class=\"dataframe\">\n",
              "  <thead>\n",
              "    <tr style=\"text-align: right;\">\n",
              "      <th></th>\n",
              "      <th>청포도</th>\n",
              "      <th>밤</th>\n",
              "      <th>배</th>\n",
              "    </tr>\n",
              "  </thead>\n",
              "  <tbody>\n",
              "    <tr>\n",
              "      <th>4월</th>\n",
              "      <td>2</td>\n",
              "      <td>332</td>\n",
              "      <td>102</td>\n",
              "    </tr>\n",
              "    <tr>\n",
              "      <th>5월</th>\n",
              "      <td>497</td>\n",
              "      <td>392</td>\n",
              "      <td>99</td>\n",
              "    </tr>\n",
              "    <tr>\n",
              "      <th>6월</th>\n",
              "      <td>306</td>\n",
              "      <td>391</td>\n",
              "      <td>80</td>\n",
              "    </tr>\n",
              "    <tr>\n",
              "      <th>7월</th>\n",
              "      <td>681</td>\n",
              "      <td>3</td>\n",
              "      <td>3</td>\n",
              "    </tr>\n",
              "    <tr>\n",
              "      <th>8월</th>\n",
              "      <td>573</td>\n",
              "      <td>3</td>\n",
              "      <td>3</td>\n",
              "    </tr>\n",
              "  </tbody>\n",
              "</table>\n",
              "</div>"
            ],
            "text/plain": [
              "    청포도    밤    배\n",
              "4월    2  332  102\n",
              "5월  497  392   99\n",
              "6월  306  391   80\n",
              "7월  681    3    3\n",
              "8월  573    3    3"
            ]
          },
          "execution_count": 552,
          "metadata": {},
          "output_type": "execute_result"
        }
      ]
    },
    {
      "cell_type": "markdown",
      "metadata": {
        "id": "pO-8SeDBeESv"
      },
      "source": [
        "이번에는 열부터 접근하겠습니다. '배' 열의 '4월' 값을 바꾸겠습니다."
      ]
    },
    {
      "cell_type": "code",
      "metadata": {
        "colab": {
          "base_uri": "https://localhost:8080/",
          "height": 204
        },
        "id": "rcaCEOUah_bf",
        "outputId": "d3bcd82e-ab0b-44ba-cf2b-73be2a225091"
      },
      "source": [
        "dataframe3_trans['배']['4월'] = 1\n",
        "dataframe3_trans"
      ],
      "execution_count": null,
      "outputs": [
        {
          "data": {
            "text/html": [
              "<div>\n",
              "<style scoped>\n",
              "    .dataframe tbody tr th:only-of-type {\n",
              "        vertical-align: middle;\n",
              "    }\n",
              "\n",
              "    .dataframe tbody tr th {\n",
              "        vertical-align: top;\n",
              "    }\n",
              "\n",
              "    .dataframe thead th {\n",
              "        text-align: right;\n",
              "    }\n",
              "</style>\n",
              "<table border=\"1\" class=\"dataframe\">\n",
              "  <thead>\n",
              "    <tr style=\"text-align: right;\">\n",
              "      <th></th>\n",
              "      <th>청포도</th>\n",
              "      <th>밤</th>\n",
              "      <th>배</th>\n",
              "    </tr>\n",
              "  </thead>\n",
              "  <tbody>\n",
              "    <tr>\n",
              "      <th>4월</th>\n",
              "      <td>2</td>\n",
              "      <td>332</td>\n",
              "      <td>1</td>\n",
              "    </tr>\n",
              "    <tr>\n",
              "      <th>5월</th>\n",
              "      <td>497</td>\n",
              "      <td>392</td>\n",
              "      <td>99</td>\n",
              "    </tr>\n",
              "    <tr>\n",
              "      <th>6월</th>\n",
              "      <td>306</td>\n",
              "      <td>391</td>\n",
              "      <td>80</td>\n",
              "    </tr>\n",
              "    <tr>\n",
              "      <th>7월</th>\n",
              "      <td>681</td>\n",
              "      <td>3</td>\n",
              "      <td>3</td>\n",
              "    </tr>\n",
              "    <tr>\n",
              "      <th>8월</th>\n",
              "      <td>573</td>\n",
              "      <td>3</td>\n",
              "      <td>3</td>\n",
              "    </tr>\n",
              "  </tbody>\n",
              "</table>\n",
              "</div>"
            ],
            "text/plain": [
              "    청포도    밤   배\n",
              "4월    2  332   1\n",
              "5월  497  392  99\n",
              "6월  306  391  80\n",
              "7월  681    3   3\n",
              "8월  573    3   3"
            ]
          },
          "execution_count": 553,
          "metadata": {},
          "output_type": "execute_result"
        }
      ]
    },
    {
      "cell_type": "code",
      "metadata": {
        "colab": {
          "base_uri": "https://localhost:8080/",
          "height": 204
        },
        "id": "cfrOhtyBjb2i",
        "outputId": "c3cf3324-401e-4043-ba4d-61eea90bf812"
      },
      "source": [
        "dataframe3_trans['배'][0] = 2\n",
        "dataframe3_trans"
      ],
      "execution_count": null,
      "outputs": [
        {
          "data": {
            "text/html": [
              "<div>\n",
              "<style scoped>\n",
              "    .dataframe tbody tr th:only-of-type {\n",
              "        vertical-align: middle;\n",
              "    }\n",
              "\n",
              "    .dataframe tbody tr th {\n",
              "        vertical-align: top;\n",
              "    }\n",
              "\n",
              "    .dataframe thead th {\n",
              "        text-align: right;\n",
              "    }\n",
              "</style>\n",
              "<table border=\"1\" class=\"dataframe\">\n",
              "  <thead>\n",
              "    <tr style=\"text-align: right;\">\n",
              "      <th></th>\n",
              "      <th>청포도</th>\n",
              "      <th>밤</th>\n",
              "      <th>배</th>\n",
              "    </tr>\n",
              "  </thead>\n",
              "  <tbody>\n",
              "    <tr>\n",
              "      <th>4월</th>\n",
              "      <td>2</td>\n",
              "      <td>332</td>\n",
              "      <td>2</td>\n",
              "    </tr>\n",
              "    <tr>\n",
              "      <th>5월</th>\n",
              "      <td>497</td>\n",
              "      <td>392</td>\n",
              "      <td>99</td>\n",
              "    </tr>\n",
              "    <tr>\n",
              "      <th>6월</th>\n",
              "      <td>306</td>\n",
              "      <td>391</td>\n",
              "      <td>80</td>\n",
              "    </tr>\n",
              "    <tr>\n",
              "      <th>7월</th>\n",
              "      <td>681</td>\n",
              "      <td>3</td>\n",
              "      <td>3</td>\n",
              "    </tr>\n",
              "    <tr>\n",
              "      <th>8월</th>\n",
              "      <td>573</td>\n",
              "      <td>3</td>\n",
              "      <td>3</td>\n",
              "    </tr>\n",
              "  </tbody>\n",
              "</table>\n",
              "</div>"
            ],
            "text/plain": [
              "    청포도    밤   배\n",
              "4월    2  332   2\n",
              "5월  497  392  99\n",
              "6월  306  391  80\n",
              "7월  681    3   3\n",
              "8월  573    3   3"
            ]
          },
          "execution_count": 554,
          "metadata": {},
          "output_type": "execute_result"
        }
      ]
    },
    {
      "cell_type": "markdown",
      "metadata": {
        "id": "EWI-n1CikNJn"
      },
      "source": [
        "'청포도' 열과 '배' 열의 '5월'과 '6월' 값을 바꾸겠습니다."
      ]
    },
    {
      "cell_type": "code",
      "metadata": {
        "colab": {
          "base_uri": "https://localhost:8080/",
          "height": 492
        },
        "id": "QpSrtoPikUeJ",
        "outputId": "77588ddb-67f6-4dbc-9ad8-247145d2356d"
      },
      "source": [
        "dataframe3_trans[['청포도', '배']][1:3] = 1\n",
        "dataframe3_trans"
      ],
      "execution_count": null,
      "outputs": [
        {
          "name": "stderr",
          "output_type": "stream",
          "text": [
            "/usr/local/lib/python3.7/dist-packages/ipykernel_launcher.py:1: SettingWithCopyWarning: \n",
            "A value is trying to be set on a copy of a slice from a DataFrame.\n",
            "Try using .loc[row_indexer,col_indexer] = value instead\n",
            "\n",
            "See the caveats in the documentation: https://pandas.pydata.org/pandas-docs/stable/user_guide/indexing.html#returning-a-view-versus-a-copy\n",
            "  \"\"\"Entry point for launching an IPython kernel.\n",
            "/usr/local/lib/python3.7/dist-packages/pandas/core/frame.py:3051: SettingWithCopyWarning: \n",
            "A value is trying to be set on a copy of a slice from a DataFrame\n",
            "\n",
            "See the caveats in the documentation: https://pandas.pydata.org/pandas-docs/stable/user_guide/indexing.html#returning-a-view-versus-a-copy\n",
            "  self.iloc._setitem_with_indexer(key, value)\n",
            "/usr/local/lib/python3.7/dist-packages/pandas/core/frame.py:3036: SettingWithCopyWarning: \n",
            "A value is trying to be set on a copy of a slice from a DataFrame\n",
            "\n",
            "See the caveats in the documentation: https://pandas.pydata.org/pandas-docs/stable/user_guide/indexing.html#returning-a-view-versus-a-copy\n",
            "  return self._setitem_slice(indexer, value)\n"
          ]
        },
        {
          "data": {
            "text/html": [
              "<div>\n",
              "<style scoped>\n",
              "    .dataframe tbody tr th:only-of-type {\n",
              "        vertical-align: middle;\n",
              "    }\n",
              "\n",
              "    .dataframe tbody tr th {\n",
              "        vertical-align: top;\n",
              "    }\n",
              "\n",
              "    .dataframe thead th {\n",
              "        text-align: right;\n",
              "    }\n",
              "</style>\n",
              "<table border=\"1\" class=\"dataframe\">\n",
              "  <thead>\n",
              "    <tr style=\"text-align: right;\">\n",
              "      <th></th>\n",
              "      <th>청포도</th>\n",
              "      <th>밤</th>\n",
              "      <th>배</th>\n",
              "    </tr>\n",
              "  </thead>\n",
              "  <tbody>\n",
              "    <tr>\n",
              "      <th>4월</th>\n",
              "      <td>2</td>\n",
              "      <td>332</td>\n",
              "      <td>2</td>\n",
              "    </tr>\n",
              "    <tr>\n",
              "      <th>5월</th>\n",
              "      <td>497</td>\n",
              "      <td>392</td>\n",
              "      <td>99</td>\n",
              "    </tr>\n",
              "    <tr>\n",
              "      <th>6월</th>\n",
              "      <td>306</td>\n",
              "      <td>391</td>\n",
              "      <td>80</td>\n",
              "    </tr>\n",
              "    <tr>\n",
              "      <th>7월</th>\n",
              "      <td>681</td>\n",
              "      <td>3</td>\n",
              "      <td>3</td>\n",
              "    </tr>\n",
              "    <tr>\n",
              "      <th>8월</th>\n",
              "      <td>573</td>\n",
              "      <td>3</td>\n",
              "      <td>3</td>\n",
              "    </tr>\n",
              "  </tbody>\n",
              "</table>\n",
              "</div>"
            ],
            "text/plain": [
              "    청포도    밤   배\n",
              "4월    2  332   2\n",
              "5월  497  392  99\n",
              "6월  306  391  80\n",
              "7월  681    3   3\n",
              "8월  573    3   3"
            ]
          },
          "execution_count": 555,
          "metadata": {},
          "output_type": "execute_result"
        }
      ]
    },
    {
      "cell_type": "markdown",
      "metadata": {
        "id": "HzlxZVmtn9lP"
      },
      "source": [
        "위 형식을 취하면 `loc[]` 메서드를 대신 사용하라고 나옵니다. 다수 열을 선택해서 다수 행 값을 출력하려면 위 형식을 취해도 괜찮지만, 값을 바꾸려면 `loc[]` 메서드나 `iloc[]` 메서드를 사용해야 합니다. 물론 열을 일일이 하나씩 지정해서 값을 바꾸는 방법도 있지만 비효율적입니다.\n",
        "\n",
        "따라서 다시 `loc[]` 함수를 사용하여 값을 바꾸겠습니다."
      ]
    },
    {
      "cell_type": "code",
      "metadata": {
        "colab": {
          "base_uri": "https://localhost:8080/",
          "height": 204
        },
        "id": "kbZMyxYboTfE",
        "outputId": "c8171e9f-1e4d-4f99-b25a-1535ac0f71c4"
      },
      "source": [
        "dataframe3_trans.loc['5월':'6월', ['청포도', '배']] = 1\n",
        "dataframe3_trans"
      ],
      "execution_count": null,
      "outputs": [
        {
          "data": {
            "text/html": [
              "<div>\n",
              "<style scoped>\n",
              "    .dataframe tbody tr th:only-of-type {\n",
              "        vertical-align: middle;\n",
              "    }\n",
              "\n",
              "    .dataframe tbody tr th {\n",
              "        vertical-align: top;\n",
              "    }\n",
              "\n",
              "    .dataframe thead th {\n",
              "        text-align: right;\n",
              "    }\n",
              "</style>\n",
              "<table border=\"1\" class=\"dataframe\">\n",
              "  <thead>\n",
              "    <tr style=\"text-align: right;\">\n",
              "      <th></th>\n",
              "      <th>청포도</th>\n",
              "      <th>밤</th>\n",
              "      <th>배</th>\n",
              "    </tr>\n",
              "  </thead>\n",
              "  <tbody>\n",
              "    <tr>\n",
              "      <th>4월</th>\n",
              "      <td>2</td>\n",
              "      <td>332</td>\n",
              "      <td>2</td>\n",
              "    </tr>\n",
              "    <tr>\n",
              "      <th>5월</th>\n",
              "      <td>1</td>\n",
              "      <td>392</td>\n",
              "      <td>1</td>\n",
              "    </tr>\n",
              "    <tr>\n",
              "      <th>6월</th>\n",
              "      <td>1</td>\n",
              "      <td>391</td>\n",
              "      <td>1</td>\n",
              "    </tr>\n",
              "    <tr>\n",
              "      <th>7월</th>\n",
              "      <td>681</td>\n",
              "      <td>3</td>\n",
              "      <td>3</td>\n",
              "    </tr>\n",
              "    <tr>\n",
              "      <th>8월</th>\n",
              "      <td>573</td>\n",
              "      <td>3</td>\n",
              "      <td>3</td>\n",
              "    </tr>\n",
              "  </tbody>\n",
              "</table>\n",
              "</div>"
            ],
            "text/plain": [
              "    청포도    밤  배\n",
              "4월    2  332  2\n",
              "5월    1  392  1\n",
              "6월    1  391  1\n",
              "7월  681    3  3\n",
              "8월  573    3  3"
            ]
          },
          "execution_count": 556,
          "metadata": {},
          "output_type": "execute_result"
        }
      ]
    },
    {
      "cell_type": "code",
      "metadata": {
        "colab": {
          "base_uri": "https://localhost:8080/",
          "height": 204
        },
        "id": "LJjhlXrtpByJ",
        "outputId": "3357982b-2b25-4888-ef89-95f989f62b92"
      },
      "source": [
        "dataframe3_trans.loc[['5월','6월'], ['청포도', '배']] = 2\n",
        "dataframe3_trans"
      ],
      "execution_count": null,
      "outputs": [
        {
          "data": {
            "text/html": [
              "<div>\n",
              "<style scoped>\n",
              "    .dataframe tbody tr th:only-of-type {\n",
              "        vertical-align: middle;\n",
              "    }\n",
              "\n",
              "    .dataframe tbody tr th {\n",
              "        vertical-align: top;\n",
              "    }\n",
              "\n",
              "    .dataframe thead th {\n",
              "        text-align: right;\n",
              "    }\n",
              "</style>\n",
              "<table border=\"1\" class=\"dataframe\">\n",
              "  <thead>\n",
              "    <tr style=\"text-align: right;\">\n",
              "      <th></th>\n",
              "      <th>청포도</th>\n",
              "      <th>밤</th>\n",
              "      <th>배</th>\n",
              "    </tr>\n",
              "  </thead>\n",
              "  <tbody>\n",
              "    <tr>\n",
              "      <th>4월</th>\n",
              "      <td>2</td>\n",
              "      <td>332</td>\n",
              "      <td>2</td>\n",
              "    </tr>\n",
              "    <tr>\n",
              "      <th>5월</th>\n",
              "      <td>2</td>\n",
              "      <td>392</td>\n",
              "      <td>2</td>\n",
              "    </tr>\n",
              "    <tr>\n",
              "      <th>6월</th>\n",
              "      <td>2</td>\n",
              "      <td>391</td>\n",
              "      <td>2</td>\n",
              "    </tr>\n",
              "    <tr>\n",
              "      <th>7월</th>\n",
              "      <td>681</td>\n",
              "      <td>3</td>\n",
              "      <td>3</td>\n",
              "    </tr>\n",
              "    <tr>\n",
              "      <th>8월</th>\n",
              "      <td>573</td>\n",
              "      <td>3</td>\n",
              "      <td>3</td>\n",
              "    </tr>\n",
              "  </tbody>\n",
              "</table>\n",
              "</div>"
            ],
            "text/plain": [
              "    청포도    밤  배\n",
              "4월    2  332  2\n",
              "5월    2  392  2\n",
              "6월    2  391  2\n",
              "7월  681    3  3\n",
              "8월  573    3  3"
            ]
          },
          "execution_count": 557,
          "metadata": {},
          "output_type": "execute_result"
        }
      ]
    },
    {
      "cell_type": "markdown",
      "metadata": {
        "id": "SEKPIpbvqCA5"
      },
      "source": [
        "이번에는 데이터프레임의 특정 열을 행 인덱스로 지정하겠습니다. 먼저 새로운 데이터프레임을 만듭니다."
      ]
    },
    {
      "cell_type": "code",
      "metadata": {
        "colab": {
          "base_uri": "https://localhost:8080/",
          "height": 204
        },
        "id": "ns_SfVc7qdkL",
        "outputId": "2d5a289f-8fc2-495e-ecd5-87940d30bd8e"
      },
      "source": [
        "dic_data5 = {'판매자': ['승원', '미경', '미니', '꼬맹', '거북'],\n",
        "             '사과': [332, 392, 391, 295, 374],\n",
        "             '배': [102, 99, 80, 30, 143],\n",
        "             '포도': [402, 497, 306, 681, 573]}\n",
        "col_list2 = ['판매자', '포도', '사과', '배']\n",
        "\n",
        "dataframe13 = pd.DataFrame(dic_data5, columns=col_list2)\n",
        "dataframe13"
      ],
      "execution_count": null,
      "outputs": [
        {
          "data": {
            "text/html": [
              "<div>\n",
              "<style scoped>\n",
              "    .dataframe tbody tr th:only-of-type {\n",
              "        vertical-align: middle;\n",
              "    }\n",
              "\n",
              "    .dataframe tbody tr th {\n",
              "        vertical-align: top;\n",
              "    }\n",
              "\n",
              "    .dataframe thead th {\n",
              "        text-align: right;\n",
              "    }\n",
              "</style>\n",
              "<table border=\"1\" class=\"dataframe\">\n",
              "  <thead>\n",
              "    <tr style=\"text-align: right;\">\n",
              "      <th></th>\n",
              "      <th>판매자</th>\n",
              "      <th>포도</th>\n",
              "      <th>사과</th>\n",
              "      <th>배</th>\n",
              "    </tr>\n",
              "  </thead>\n",
              "  <tbody>\n",
              "    <tr>\n",
              "      <th>0</th>\n",
              "      <td>승원</td>\n",
              "      <td>402</td>\n",
              "      <td>332</td>\n",
              "      <td>102</td>\n",
              "    </tr>\n",
              "    <tr>\n",
              "      <th>1</th>\n",
              "      <td>미경</td>\n",
              "      <td>497</td>\n",
              "      <td>392</td>\n",
              "      <td>99</td>\n",
              "    </tr>\n",
              "    <tr>\n",
              "      <th>2</th>\n",
              "      <td>미니</td>\n",
              "      <td>306</td>\n",
              "      <td>391</td>\n",
              "      <td>80</td>\n",
              "    </tr>\n",
              "    <tr>\n",
              "      <th>3</th>\n",
              "      <td>꼬맹</td>\n",
              "      <td>681</td>\n",
              "      <td>295</td>\n",
              "      <td>30</td>\n",
              "    </tr>\n",
              "    <tr>\n",
              "      <th>4</th>\n",
              "      <td>거북</td>\n",
              "      <td>573</td>\n",
              "      <td>374</td>\n",
              "      <td>143</td>\n",
              "    </tr>\n",
              "  </tbody>\n",
              "</table>\n",
              "</div>"
            ],
            "text/plain": [
              "  판매자   포도   사과    배\n",
              "0  승원  402  332  102\n",
              "1  미경  497  392   99\n",
              "2  미니  306  391   80\n",
              "3  꼬맹  681  295   30\n",
              "4  거북  573  374  143"
            ]
          },
          "execution_count": 558,
          "metadata": {},
          "output_type": "execute_result"
        }
      ]
    },
    {
      "cell_type": "markdown",
      "metadata": {
        "id": "9A-rgXbVrS6A"
      },
      "source": [
        "`set_index()` 메서드를 사용해서 '판매자' 열을 행 인덱스로 지정하겠습니다. 단 `inplace` 매개변수에 `True` 인자를 전달해야 객체 자체를 바꿉니다. 물론 새로운 객체에 전달한다면 매개변수를 지정하지 않아도 됩니다."
      ]
    },
    {
      "cell_type": "code",
      "metadata": {
        "colab": {
          "base_uri": "https://localhost:8080/",
          "height": 235
        },
        "id": "o2YG-4PprXEE",
        "outputId": "bd76f732-5165-4220-f3ca-31bf7e785538"
      },
      "source": [
        "dataframe13.set_index('판매자')"
      ],
      "execution_count": null,
      "outputs": [
        {
          "data": {
            "text/html": [
              "<div>\n",
              "<style scoped>\n",
              "    .dataframe tbody tr th:only-of-type {\n",
              "        vertical-align: middle;\n",
              "    }\n",
              "\n",
              "    .dataframe tbody tr th {\n",
              "        vertical-align: top;\n",
              "    }\n",
              "\n",
              "    .dataframe thead th {\n",
              "        text-align: right;\n",
              "    }\n",
              "</style>\n",
              "<table border=\"1\" class=\"dataframe\">\n",
              "  <thead>\n",
              "    <tr style=\"text-align: right;\">\n",
              "      <th></th>\n",
              "      <th>포도</th>\n",
              "      <th>사과</th>\n",
              "      <th>배</th>\n",
              "    </tr>\n",
              "    <tr>\n",
              "      <th>판매자</th>\n",
              "      <th></th>\n",
              "      <th></th>\n",
              "      <th></th>\n",
              "    </tr>\n",
              "  </thead>\n",
              "  <tbody>\n",
              "    <tr>\n",
              "      <th>승원</th>\n",
              "      <td>402</td>\n",
              "      <td>332</td>\n",
              "      <td>102</td>\n",
              "    </tr>\n",
              "    <tr>\n",
              "      <th>미경</th>\n",
              "      <td>497</td>\n",
              "      <td>392</td>\n",
              "      <td>99</td>\n",
              "    </tr>\n",
              "    <tr>\n",
              "      <th>미니</th>\n",
              "      <td>306</td>\n",
              "      <td>391</td>\n",
              "      <td>80</td>\n",
              "    </tr>\n",
              "    <tr>\n",
              "      <th>꼬맹</th>\n",
              "      <td>681</td>\n",
              "      <td>295</td>\n",
              "      <td>30</td>\n",
              "    </tr>\n",
              "    <tr>\n",
              "      <th>거북</th>\n",
              "      <td>573</td>\n",
              "      <td>374</td>\n",
              "      <td>143</td>\n",
              "    </tr>\n",
              "  </tbody>\n",
              "</table>\n",
              "</div>"
            ],
            "text/plain": [
              "      포도   사과    배\n",
              "판매자               \n",
              "승원   402  332  102\n",
              "미경   497  392   99\n",
              "미니   306  391   80\n",
              "꼬맹   681  295   30\n",
              "거북   573  374  143"
            ]
          },
          "execution_count": 559,
          "metadata": {},
          "output_type": "execute_result"
        }
      ]
    },
    {
      "cell_type": "code",
      "metadata": {
        "colab": {
          "base_uri": "https://localhost:8080/",
          "height": 235
        },
        "id": "iuNgJazUrl-F",
        "outputId": "e4893c3f-210b-4e69-bda0-02db1b7adc45"
      },
      "source": [
        "dataframe13.set_index(['판매자'])"
      ],
      "execution_count": null,
      "outputs": [
        {
          "data": {
            "text/html": [
              "<div>\n",
              "<style scoped>\n",
              "    .dataframe tbody tr th:only-of-type {\n",
              "        vertical-align: middle;\n",
              "    }\n",
              "\n",
              "    .dataframe tbody tr th {\n",
              "        vertical-align: top;\n",
              "    }\n",
              "\n",
              "    .dataframe thead th {\n",
              "        text-align: right;\n",
              "    }\n",
              "</style>\n",
              "<table border=\"1\" class=\"dataframe\">\n",
              "  <thead>\n",
              "    <tr style=\"text-align: right;\">\n",
              "      <th></th>\n",
              "      <th>포도</th>\n",
              "      <th>사과</th>\n",
              "      <th>배</th>\n",
              "    </tr>\n",
              "    <tr>\n",
              "      <th>판매자</th>\n",
              "      <th></th>\n",
              "      <th></th>\n",
              "      <th></th>\n",
              "    </tr>\n",
              "  </thead>\n",
              "  <tbody>\n",
              "    <tr>\n",
              "      <th>승원</th>\n",
              "      <td>402</td>\n",
              "      <td>332</td>\n",
              "      <td>102</td>\n",
              "    </tr>\n",
              "    <tr>\n",
              "      <th>미경</th>\n",
              "      <td>497</td>\n",
              "      <td>392</td>\n",
              "      <td>99</td>\n",
              "    </tr>\n",
              "    <tr>\n",
              "      <th>미니</th>\n",
              "      <td>306</td>\n",
              "      <td>391</td>\n",
              "      <td>80</td>\n",
              "    </tr>\n",
              "    <tr>\n",
              "      <th>꼬맹</th>\n",
              "      <td>681</td>\n",
              "      <td>295</td>\n",
              "      <td>30</td>\n",
              "    </tr>\n",
              "    <tr>\n",
              "      <th>거북</th>\n",
              "      <td>573</td>\n",
              "      <td>374</td>\n",
              "      <td>143</td>\n",
              "    </tr>\n",
              "  </tbody>\n",
              "</table>\n",
              "</div>"
            ],
            "text/plain": [
              "      포도   사과    배\n",
              "판매자               \n",
              "승원   402  332  102\n",
              "미경   497  392   99\n",
              "미니   306  391   80\n",
              "꼬맹   681  295   30\n",
              "거북   573  374  143"
            ]
          },
          "execution_count": 560,
          "metadata": {},
          "output_type": "execute_result"
        }
      ]
    },
    {
      "cell_type": "markdown",
      "metadata": {
        "id": "Whu0NLkJr-Jl"
      },
      "source": [
        "`inplace=True`로 매개변수를 지정하지 않았으므로 객체는 바뀌지 않습니다."
      ]
    },
    {
      "cell_type": "code",
      "metadata": {
        "colab": {
          "base_uri": "https://localhost:8080/",
          "height": 204
        },
        "id": "tlGgIW7Yr7zz",
        "outputId": "00a5d3b7-d878-4e26-f01b-c5679a6f068c"
      },
      "source": [
        "dataframe13"
      ],
      "execution_count": null,
      "outputs": [
        {
          "data": {
            "text/html": [
              "<div>\n",
              "<style scoped>\n",
              "    .dataframe tbody tr th:only-of-type {\n",
              "        vertical-align: middle;\n",
              "    }\n",
              "\n",
              "    .dataframe tbody tr th {\n",
              "        vertical-align: top;\n",
              "    }\n",
              "\n",
              "    .dataframe thead th {\n",
              "        text-align: right;\n",
              "    }\n",
              "</style>\n",
              "<table border=\"1\" class=\"dataframe\">\n",
              "  <thead>\n",
              "    <tr style=\"text-align: right;\">\n",
              "      <th></th>\n",
              "      <th>판매자</th>\n",
              "      <th>포도</th>\n",
              "      <th>사과</th>\n",
              "      <th>배</th>\n",
              "    </tr>\n",
              "  </thead>\n",
              "  <tbody>\n",
              "    <tr>\n",
              "      <th>0</th>\n",
              "      <td>승원</td>\n",
              "      <td>402</td>\n",
              "      <td>332</td>\n",
              "      <td>102</td>\n",
              "    </tr>\n",
              "    <tr>\n",
              "      <th>1</th>\n",
              "      <td>미경</td>\n",
              "      <td>497</td>\n",
              "      <td>392</td>\n",
              "      <td>99</td>\n",
              "    </tr>\n",
              "    <tr>\n",
              "      <th>2</th>\n",
              "      <td>미니</td>\n",
              "      <td>306</td>\n",
              "      <td>391</td>\n",
              "      <td>80</td>\n",
              "    </tr>\n",
              "    <tr>\n",
              "      <th>3</th>\n",
              "      <td>꼬맹</td>\n",
              "      <td>681</td>\n",
              "      <td>295</td>\n",
              "      <td>30</td>\n",
              "    </tr>\n",
              "    <tr>\n",
              "      <th>4</th>\n",
              "      <td>거북</td>\n",
              "      <td>573</td>\n",
              "      <td>374</td>\n",
              "      <td>143</td>\n",
              "    </tr>\n",
              "  </tbody>\n",
              "</table>\n",
              "</div>"
            ],
            "text/plain": [
              "  판매자   포도   사과    배\n",
              "0  승원  402  332  102\n",
              "1  미경  497  392   99\n",
              "2  미니  306  391   80\n",
              "3  꼬맹  681  295   30\n",
              "4  거북  573  374  143"
            ]
          },
          "execution_count": 561,
          "metadata": {},
          "output_type": "execute_result"
        }
      ]
    },
    {
      "cell_type": "markdown",
      "metadata": {
        "id": "D3OsfHTRs9y2"
      },
      "source": [
        "여러 열을 인덱스로 지정할 수도 있습니다. 이를 멀티인덱스라고 부릅니다. 주로 통계적 연산이 개입된 데이터프레임에 사용합니다(보강 예정)."
      ]
    },
    {
      "cell_type": "code",
      "metadata": {
        "colab": {
          "base_uri": "https://localhost:8080/",
          "height": 235
        },
        "id": "H0DfrUUutDNW",
        "outputId": "f3d264be-5a59-445e-ecb0-5aceae0c3236"
      },
      "source": [
        "dataframe13.set_index(['판매자', '사과'])"
      ],
      "execution_count": null,
      "outputs": [
        {
          "data": {
            "text/html": [
              "<div>\n",
              "<style scoped>\n",
              "    .dataframe tbody tr th:only-of-type {\n",
              "        vertical-align: middle;\n",
              "    }\n",
              "\n",
              "    .dataframe tbody tr th {\n",
              "        vertical-align: top;\n",
              "    }\n",
              "\n",
              "    .dataframe thead th {\n",
              "        text-align: right;\n",
              "    }\n",
              "</style>\n",
              "<table border=\"1\" class=\"dataframe\">\n",
              "  <thead>\n",
              "    <tr style=\"text-align: right;\">\n",
              "      <th></th>\n",
              "      <th></th>\n",
              "      <th>포도</th>\n",
              "      <th>배</th>\n",
              "    </tr>\n",
              "    <tr>\n",
              "      <th>판매자</th>\n",
              "      <th>사과</th>\n",
              "      <th></th>\n",
              "      <th></th>\n",
              "    </tr>\n",
              "  </thead>\n",
              "  <tbody>\n",
              "    <tr>\n",
              "      <th>승원</th>\n",
              "      <th>332</th>\n",
              "      <td>402</td>\n",
              "      <td>102</td>\n",
              "    </tr>\n",
              "    <tr>\n",
              "      <th>미경</th>\n",
              "      <th>392</th>\n",
              "      <td>497</td>\n",
              "      <td>99</td>\n",
              "    </tr>\n",
              "    <tr>\n",
              "      <th>미니</th>\n",
              "      <th>391</th>\n",
              "      <td>306</td>\n",
              "      <td>80</td>\n",
              "    </tr>\n",
              "    <tr>\n",
              "      <th>꼬맹</th>\n",
              "      <th>295</th>\n",
              "      <td>681</td>\n",
              "      <td>30</td>\n",
              "    </tr>\n",
              "    <tr>\n",
              "      <th>거북</th>\n",
              "      <th>374</th>\n",
              "      <td>573</td>\n",
              "      <td>143</td>\n",
              "    </tr>\n",
              "  </tbody>\n",
              "</table>\n",
              "</div>"
            ],
            "text/plain": [
              "          포도    배\n",
              "판매자 사과           \n",
              "승원  332  402  102\n",
              "미경  392  497   99\n",
              "미니  391  306   80\n",
              "꼬맹  295  681   30\n",
              "거북  374  573  143"
            ]
          },
          "execution_count": 562,
          "metadata": {},
          "output_type": "execute_result"
        }
      ]
    },
    {
      "cell_type": "markdown",
      "metadata": {
        "id": "bbTW2-fNxuMe"
      },
      "source": [
        "`reset_index()` 메서드를 사용하면 기본 인덱스로 초기화합니다. 먼저 새로운 데이터프레임 객체를 생성합니다."
      ]
    },
    {
      "cell_type": "code",
      "metadata": {
        "colab": {
          "base_uri": "https://localhost:8080/",
          "height": 235
        },
        "id": "4VuyLCaJyMDv",
        "outputId": "3c7df4e3-7c5f-493a-93e9-30613ae84020"
      },
      "source": [
        "dataframe13_reset = dataframe13.set_index(['판매자'])\n",
        "dataframe13_reset"
      ],
      "execution_count": null,
      "outputs": [
        {
          "data": {
            "text/html": [
              "<div>\n",
              "<style scoped>\n",
              "    .dataframe tbody tr th:only-of-type {\n",
              "        vertical-align: middle;\n",
              "    }\n",
              "\n",
              "    .dataframe tbody tr th {\n",
              "        vertical-align: top;\n",
              "    }\n",
              "\n",
              "    .dataframe thead th {\n",
              "        text-align: right;\n",
              "    }\n",
              "</style>\n",
              "<table border=\"1\" class=\"dataframe\">\n",
              "  <thead>\n",
              "    <tr style=\"text-align: right;\">\n",
              "      <th></th>\n",
              "      <th>포도</th>\n",
              "      <th>사과</th>\n",
              "      <th>배</th>\n",
              "    </tr>\n",
              "    <tr>\n",
              "      <th>판매자</th>\n",
              "      <th></th>\n",
              "      <th></th>\n",
              "      <th></th>\n",
              "    </tr>\n",
              "  </thead>\n",
              "  <tbody>\n",
              "    <tr>\n",
              "      <th>승원</th>\n",
              "      <td>402</td>\n",
              "      <td>332</td>\n",
              "      <td>102</td>\n",
              "    </tr>\n",
              "    <tr>\n",
              "      <th>미경</th>\n",
              "      <td>497</td>\n",
              "      <td>392</td>\n",
              "      <td>99</td>\n",
              "    </tr>\n",
              "    <tr>\n",
              "      <th>미니</th>\n",
              "      <td>306</td>\n",
              "      <td>391</td>\n",
              "      <td>80</td>\n",
              "    </tr>\n",
              "    <tr>\n",
              "      <th>꼬맹</th>\n",
              "      <td>681</td>\n",
              "      <td>295</td>\n",
              "      <td>30</td>\n",
              "    </tr>\n",
              "    <tr>\n",
              "      <th>거북</th>\n",
              "      <td>573</td>\n",
              "      <td>374</td>\n",
              "      <td>143</td>\n",
              "    </tr>\n",
              "  </tbody>\n",
              "</table>\n",
              "</div>"
            ],
            "text/plain": [
              "      포도   사과    배\n",
              "판매자               \n",
              "승원   402  332  102\n",
              "미경   497  392   99\n",
              "미니   306  391   80\n",
              "꼬맹   681  295   30\n",
              "거북   573  374  143"
            ]
          },
          "execution_count": 563,
          "metadata": {},
          "output_type": "execute_result"
        }
      ]
    },
    {
      "cell_type": "markdown",
      "metadata": {
        "id": "ZZSM9ynnytaq"
      },
      "source": [
        "'판매자' 열은 기존 열로 이동하고 인덱스는 정수형으로 바뀝니다. 아울러 'index' 열이 따로 생성됩니다."
      ]
    },
    {
      "cell_type": "code",
      "metadata": {
        "colab": {
          "base_uri": "https://localhost:8080/",
          "height": 204
        },
        "id": "kXXD9kb3yTnK",
        "outputId": "53d5cee9-3f11-48ac-f066-931d7a37de25"
      },
      "source": [
        "dataframe13.reset_index()"
      ],
      "execution_count": null,
      "outputs": [
        {
          "data": {
            "text/html": [
              "<div>\n",
              "<style scoped>\n",
              "    .dataframe tbody tr th:only-of-type {\n",
              "        vertical-align: middle;\n",
              "    }\n",
              "\n",
              "    .dataframe tbody tr th {\n",
              "        vertical-align: top;\n",
              "    }\n",
              "\n",
              "    .dataframe thead th {\n",
              "        text-align: right;\n",
              "    }\n",
              "</style>\n",
              "<table border=\"1\" class=\"dataframe\">\n",
              "  <thead>\n",
              "    <tr style=\"text-align: right;\">\n",
              "      <th></th>\n",
              "      <th>index</th>\n",
              "      <th>판매자</th>\n",
              "      <th>포도</th>\n",
              "      <th>사과</th>\n",
              "      <th>배</th>\n",
              "    </tr>\n",
              "  </thead>\n",
              "  <tbody>\n",
              "    <tr>\n",
              "      <th>0</th>\n",
              "      <td>0</td>\n",
              "      <td>승원</td>\n",
              "      <td>402</td>\n",
              "      <td>332</td>\n",
              "      <td>102</td>\n",
              "    </tr>\n",
              "    <tr>\n",
              "      <th>1</th>\n",
              "      <td>1</td>\n",
              "      <td>미경</td>\n",
              "      <td>497</td>\n",
              "      <td>392</td>\n",
              "      <td>99</td>\n",
              "    </tr>\n",
              "    <tr>\n",
              "      <th>2</th>\n",
              "      <td>2</td>\n",
              "      <td>미니</td>\n",
              "      <td>306</td>\n",
              "      <td>391</td>\n",
              "      <td>80</td>\n",
              "    </tr>\n",
              "    <tr>\n",
              "      <th>3</th>\n",
              "      <td>3</td>\n",
              "      <td>꼬맹</td>\n",
              "      <td>681</td>\n",
              "      <td>295</td>\n",
              "      <td>30</td>\n",
              "    </tr>\n",
              "    <tr>\n",
              "      <th>4</th>\n",
              "      <td>4</td>\n",
              "      <td>거북</td>\n",
              "      <td>573</td>\n",
              "      <td>374</td>\n",
              "      <td>143</td>\n",
              "    </tr>\n",
              "  </tbody>\n",
              "</table>\n",
              "</div>"
            ],
            "text/plain": [
              "   index 판매자   포도   사과    배\n",
              "0      0  승원  402  332  102\n",
              "1      1  미경  497  392   99\n",
              "2      2  미니  306  391   80\n",
              "3      3  꼬맹  681  295   30\n",
              "4      4  거북  573  374  143"
            ]
          },
          "execution_count": 564,
          "metadata": {},
          "output_type": "execute_result"
        }
      ]
    },
    {
      "cell_type": "markdown",
      "metadata": {
        "id": "RpMl79NzvNRY"
      },
      "source": [
        "`reindex()` 메서드를 사용해서 인덱스를 다시 지정할 수 있습니다. 먼저 '판매자' 열을 행 인덱스로 지정하고 새로운 객체에 넘기겠습니다."
      ]
    },
    {
      "cell_type": "code",
      "metadata": {
        "colab": {
          "base_uri": "https://localhost:8080/",
          "height": 235
        },
        "id": "ryMOY9ecvHuS",
        "outputId": "3c6e9ddd-5038-41aa-db4e-ec5f2cd668d8"
      },
      "source": [
        "dataframe13_reindex = dataframe13.set_index('판매자')\n",
        "dataframe13_reindex"
      ],
      "execution_count": null,
      "outputs": [
        {
          "data": {
            "text/html": [
              "<div>\n",
              "<style scoped>\n",
              "    .dataframe tbody tr th:only-of-type {\n",
              "        vertical-align: middle;\n",
              "    }\n",
              "\n",
              "    .dataframe tbody tr th {\n",
              "        vertical-align: top;\n",
              "    }\n",
              "\n",
              "    .dataframe thead th {\n",
              "        text-align: right;\n",
              "    }\n",
              "</style>\n",
              "<table border=\"1\" class=\"dataframe\">\n",
              "  <thead>\n",
              "    <tr style=\"text-align: right;\">\n",
              "      <th></th>\n",
              "      <th>포도</th>\n",
              "      <th>사과</th>\n",
              "      <th>배</th>\n",
              "    </tr>\n",
              "    <tr>\n",
              "      <th>판매자</th>\n",
              "      <th></th>\n",
              "      <th></th>\n",
              "      <th></th>\n",
              "    </tr>\n",
              "  </thead>\n",
              "  <tbody>\n",
              "    <tr>\n",
              "      <th>승원</th>\n",
              "      <td>402</td>\n",
              "      <td>332</td>\n",
              "      <td>102</td>\n",
              "    </tr>\n",
              "    <tr>\n",
              "      <th>미경</th>\n",
              "      <td>497</td>\n",
              "      <td>392</td>\n",
              "      <td>99</td>\n",
              "    </tr>\n",
              "    <tr>\n",
              "      <th>미니</th>\n",
              "      <td>306</td>\n",
              "      <td>391</td>\n",
              "      <td>80</td>\n",
              "    </tr>\n",
              "    <tr>\n",
              "      <th>꼬맹</th>\n",
              "      <td>681</td>\n",
              "      <td>295</td>\n",
              "      <td>30</td>\n",
              "    </tr>\n",
              "    <tr>\n",
              "      <th>거북</th>\n",
              "      <td>573</td>\n",
              "      <td>374</td>\n",
              "      <td>143</td>\n",
              "    </tr>\n",
              "  </tbody>\n",
              "</table>\n",
              "</div>"
            ],
            "text/plain": [
              "      포도   사과    배\n",
              "판매자               \n",
              "승원   402  332  102\n",
              "미경   497  392   99\n",
              "미니   306  391   80\n",
              "꼬맹   681  295   30\n",
              "거북   573  374  143"
            ]
          },
          "execution_count": 565,
          "metadata": {},
          "output_type": "execute_result"
        }
      ]
    },
    {
      "cell_type": "markdown",
      "metadata": {
        "id": "BbjPee2Lv_Dp"
      },
      "source": [
        "인덱스를 다시 지정하겠습니다. '철수'와 '영희'를 추가합니다."
      ]
    },
    {
      "cell_type": "code",
      "metadata": {
        "colab": {
          "base_uri": "https://localhost:8080/",
          "height": 297
        },
        "id": "QJrIgMgbwCyM",
        "outputId": "9d2f713d-90ef-4c40-e812-08afe6be6a31"
      },
      "source": [
        "new_index = ['승원', '미경', '미니', '꼬맹', '거북', '철수', '영희']\n",
        "dataframe13_reindex.reindex(new_index)"
      ],
      "execution_count": null,
      "outputs": [
        {
          "data": {
            "text/html": [
              "<div>\n",
              "<style scoped>\n",
              "    .dataframe tbody tr th:only-of-type {\n",
              "        vertical-align: middle;\n",
              "    }\n",
              "\n",
              "    .dataframe tbody tr th {\n",
              "        vertical-align: top;\n",
              "    }\n",
              "\n",
              "    .dataframe thead th {\n",
              "        text-align: right;\n",
              "    }\n",
              "</style>\n",
              "<table border=\"1\" class=\"dataframe\">\n",
              "  <thead>\n",
              "    <tr style=\"text-align: right;\">\n",
              "      <th></th>\n",
              "      <th>포도</th>\n",
              "      <th>사과</th>\n",
              "      <th>배</th>\n",
              "    </tr>\n",
              "    <tr>\n",
              "      <th>판매자</th>\n",
              "      <th></th>\n",
              "      <th></th>\n",
              "      <th></th>\n",
              "    </tr>\n",
              "  </thead>\n",
              "  <tbody>\n",
              "    <tr>\n",
              "      <th>승원</th>\n",
              "      <td>402.0</td>\n",
              "      <td>332.0</td>\n",
              "      <td>102.0</td>\n",
              "    </tr>\n",
              "    <tr>\n",
              "      <th>미경</th>\n",
              "      <td>497.0</td>\n",
              "      <td>392.0</td>\n",
              "      <td>99.0</td>\n",
              "    </tr>\n",
              "    <tr>\n",
              "      <th>미니</th>\n",
              "      <td>306.0</td>\n",
              "      <td>391.0</td>\n",
              "      <td>80.0</td>\n",
              "    </tr>\n",
              "    <tr>\n",
              "      <th>꼬맹</th>\n",
              "      <td>681.0</td>\n",
              "      <td>295.0</td>\n",
              "      <td>30.0</td>\n",
              "    </tr>\n",
              "    <tr>\n",
              "      <th>거북</th>\n",
              "      <td>573.0</td>\n",
              "      <td>374.0</td>\n",
              "      <td>143.0</td>\n",
              "    </tr>\n",
              "    <tr>\n",
              "      <th>철수</th>\n",
              "      <td>NaN</td>\n",
              "      <td>NaN</td>\n",
              "      <td>NaN</td>\n",
              "    </tr>\n",
              "    <tr>\n",
              "      <th>영희</th>\n",
              "      <td>NaN</td>\n",
              "      <td>NaN</td>\n",
              "      <td>NaN</td>\n",
              "    </tr>\n",
              "  </tbody>\n",
              "</table>\n",
              "</div>"
            ],
            "text/plain": [
              "        포도     사과      배\n",
              "판매자                     \n",
              "승원   402.0  332.0  102.0\n",
              "미경   497.0  392.0   99.0\n",
              "미니   306.0  391.0   80.0\n",
              "꼬맹   681.0  295.0   30.0\n",
              "거북   573.0  374.0  143.0\n",
              "철수     NaN    NaN    NaN\n",
              "영희     NaN    NaN    NaN"
            ]
          },
          "execution_count": 566,
          "metadata": {},
          "output_type": "execute_result"
        }
      ]
    },
    {
      "cell_type": "markdown",
      "metadata": {
        "id": "1IAWqdpexRQi"
      },
      "source": [
        "공백을 원하는 값으로 채울 수 있습니다. `fill_value` 매개변수에 원하는 값을 지정합니다."
      ]
    },
    {
      "cell_type": "code",
      "metadata": {
        "colab": {
          "base_uri": "https://localhost:8080/",
          "height": 297
        },
        "id": "PHWaQdf-xK9Q",
        "outputId": "d6f8dc88-a778-45a4-dd36-777b8e2b7f54"
      },
      "source": [
        "dataframe13_reindex.reindex(new_index, fill_value=150)"
      ],
      "execution_count": null,
      "outputs": [
        {
          "data": {
            "text/html": [
              "<div>\n",
              "<style scoped>\n",
              "    .dataframe tbody tr th:only-of-type {\n",
              "        vertical-align: middle;\n",
              "    }\n",
              "\n",
              "    .dataframe tbody tr th {\n",
              "        vertical-align: top;\n",
              "    }\n",
              "\n",
              "    .dataframe thead th {\n",
              "        text-align: right;\n",
              "    }\n",
              "</style>\n",
              "<table border=\"1\" class=\"dataframe\">\n",
              "  <thead>\n",
              "    <tr style=\"text-align: right;\">\n",
              "      <th></th>\n",
              "      <th>포도</th>\n",
              "      <th>사과</th>\n",
              "      <th>배</th>\n",
              "    </tr>\n",
              "    <tr>\n",
              "      <th>판매자</th>\n",
              "      <th></th>\n",
              "      <th></th>\n",
              "      <th></th>\n",
              "    </tr>\n",
              "  </thead>\n",
              "  <tbody>\n",
              "    <tr>\n",
              "      <th>승원</th>\n",
              "      <td>402</td>\n",
              "      <td>332</td>\n",
              "      <td>102</td>\n",
              "    </tr>\n",
              "    <tr>\n",
              "      <th>미경</th>\n",
              "      <td>497</td>\n",
              "      <td>392</td>\n",
              "      <td>99</td>\n",
              "    </tr>\n",
              "    <tr>\n",
              "      <th>미니</th>\n",
              "      <td>306</td>\n",
              "      <td>391</td>\n",
              "      <td>80</td>\n",
              "    </tr>\n",
              "    <tr>\n",
              "      <th>꼬맹</th>\n",
              "      <td>681</td>\n",
              "      <td>295</td>\n",
              "      <td>30</td>\n",
              "    </tr>\n",
              "    <tr>\n",
              "      <th>거북</th>\n",
              "      <td>573</td>\n",
              "      <td>374</td>\n",
              "      <td>143</td>\n",
              "    </tr>\n",
              "    <tr>\n",
              "      <th>철수</th>\n",
              "      <td>150</td>\n",
              "      <td>150</td>\n",
              "      <td>150</td>\n",
              "    </tr>\n",
              "    <tr>\n",
              "      <th>영희</th>\n",
              "      <td>150</td>\n",
              "      <td>150</td>\n",
              "      <td>150</td>\n",
              "    </tr>\n",
              "  </tbody>\n",
              "</table>\n",
              "</div>"
            ],
            "text/plain": [
              "      포도   사과    배\n",
              "판매자               \n",
              "승원   402  332  102\n",
              "미경   497  392   99\n",
              "미니   306  391   80\n",
              "꼬맹   681  295   30\n",
              "거북   573  374  143\n",
              "철수   150  150  150\n",
              "영희   150  150  150"
            ]
          },
          "execution_count": 567,
          "metadata": {},
          "output_type": "execute_result"
        }
      ]
    },
    {
      "cell_type": "markdown",
      "metadata": {
        "id": "LxOk151jzdRY"
      },
      "source": [
        "`sort_index()` 메서드를 사용하면 데이터프레임을 인덱스 숫자에 맞게 오름차순과 내림차순으로 정렬할 수 있습니다. `ascending` 매개변수에 `False` 값을 인자로 전달하면 내림차순으로 정렬합니다."
      ]
    },
    {
      "cell_type": "code",
      "metadata": {
        "colab": {
          "base_uri": "https://localhost:8080/",
          "height": 204
        },
        "id": "pBUR1J-Uz5er",
        "outputId": "f2c15b7a-5b83-4f14-d90e-393787267e09"
      },
      "source": [
        "dataframe13.sort_index(ascending=False)"
      ],
      "execution_count": null,
      "outputs": [
        {
          "data": {
            "text/html": [
              "<div>\n",
              "<style scoped>\n",
              "    .dataframe tbody tr th:only-of-type {\n",
              "        vertical-align: middle;\n",
              "    }\n",
              "\n",
              "    .dataframe tbody tr th {\n",
              "        vertical-align: top;\n",
              "    }\n",
              "\n",
              "    .dataframe thead th {\n",
              "        text-align: right;\n",
              "    }\n",
              "</style>\n",
              "<table border=\"1\" class=\"dataframe\">\n",
              "  <thead>\n",
              "    <tr style=\"text-align: right;\">\n",
              "      <th></th>\n",
              "      <th>판매자</th>\n",
              "      <th>포도</th>\n",
              "      <th>사과</th>\n",
              "      <th>배</th>\n",
              "    </tr>\n",
              "  </thead>\n",
              "  <tbody>\n",
              "    <tr>\n",
              "      <th>4</th>\n",
              "      <td>거북</td>\n",
              "      <td>573</td>\n",
              "      <td>374</td>\n",
              "      <td>143</td>\n",
              "    </tr>\n",
              "    <tr>\n",
              "      <th>3</th>\n",
              "      <td>꼬맹</td>\n",
              "      <td>681</td>\n",
              "      <td>295</td>\n",
              "      <td>30</td>\n",
              "    </tr>\n",
              "    <tr>\n",
              "      <th>2</th>\n",
              "      <td>미니</td>\n",
              "      <td>306</td>\n",
              "      <td>391</td>\n",
              "      <td>80</td>\n",
              "    </tr>\n",
              "    <tr>\n",
              "      <th>1</th>\n",
              "      <td>미경</td>\n",
              "      <td>497</td>\n",
              "      <td>392</td>\n",
              "      <td>99</td>\n",
              "    </tr>\n",
              "    <tr>\n",
              "      <th>0</th>\n",
              "      <td>승원</td>\n",
              "      <td>402</td>\n",
              "      <td>332</td>\n",
              "      <td>102</td>\n",
              "    </tr>\n",
              "  </tbody>\n",
              "</table>\n",
              "</div>"
            ],
            "text/plain": [
              "  판매자   포도   사과    배\n",
              "4  거북  573  374  143\n",
              "3  꼬맹  681  295   30\n",
              "2  미니  306  391   80\n",
              "1  미경  497  392   99\n",
              "0  승원  402  332  102"
            ]
          },
          "execution_count": 568,
          "metadata": {},
          "output_type": "execute_result"
        }
      ]
    },
    {
      "cell_type": "markdown",
      "metadata": {
        "id": "yPsMG_Sn0bdc"
      },
      "source": [
        "`sort_values()` 메서드를 사용하면 데이터프레임을 특정 열의 데이터를 기준으로 정렬할 수 있습니다. `ascending` 매개변수의 사용법은 `sort_index()` 메서드와 같고, 추가로 `by` 매개변수에 기준으로 삼을 열명을 값으로 전달합니다."
      ]
    },
    {
      "cell_type": "code",
      "metadata": {
        "colab": {
          "base_uri": "https://localhost:8080/",
          "height": 204
        },
        "id": "3Fj7rIfj031A",
        "outputId": "70a22f23-6566-4cc2-f7bc-f89a41a9982f"
      },
      "source": [
        "dataframe13.sort_values(ascending=False, by='포도')"
      ],
      "execution_count": null,
      "outputs": [
        {
          "data": {
            "text/html": [
              "<div>\n",
              "<style scoped>\n",
              "    .dataframe tbody tr th:only-of-type {\n",
              "        vertical-align: middle;\n",
              "    }\n",
              "\n",
              "    .dataframe tbody tr th {\n",
              "        vertical-align: top;\n",
              "    }\n",
              "\n",
              "    .dataframe thead th {\n",
              "        text-align: right;\n",
              "    }\n",
              "</style>\n",
              "<table border=\"1\" class=\"dataframe\">\n",
              "  <thead>\n",
              "    <tr style=\"text-align: right;\">\n",
              "      <th></th>\n",
              "      <th>판매자</th>\n",
              "      <th>포도</th>\n",
              "      <th>사과</th>\n",
              "      <th>배</th>\n",
              "    </tr>\n",
              "  </thead>\n",
              "  <tbody>\n",
              "    <tr>\n",
              "      <th>3</th>\n",
              "      <td>꼬맹</td>\n",
              "      <td>681</td>\n",
              "      <td>295</td>\n",
              "      <td>30</td>\n",
              "    </tr>\n",
              "    <tr>\n",
              "      <th>4</th>\n",
              "      <td>거북</td>\n",
              "      <td>573</td>\n",
              "      <td>374</td>\n",
              "      <td>143</td>\n",
              "    </tr>\n",
              "    <tr>\n",
              "      <th>1</th>\n",
              "      <td>미경</td>\n",
              "      <td>497</td>\n",
              "      <td>392</td>\n",
              "      <td>99</td>\n",
              "    </tr>\n",
              "    <tr>\n",
              "      <th>0</th>\n",
              "      <td>승원</td>\n",
              "      <td>402</td>\n",
              "      <td>332</td>\n",
              "      <td>102</td>\n",
              "    </tr>\n",
              "    <tr>\n",
              "      <th>2</th>\n",
              "      <td>미니</td>\n",
              "      <td>306</td>\n",
              "      <td>391</td>\n",
              "      <td>80</td>\n",
              "    </tr>\n",
              "  </tbody>\n",
              "</table>\n",
              "</div>"
            ],
            "text/plain": [
              "  판매자   포도   사과    배\n",
              "3  꼬맹  681  295   30\n",
              "4  거북  573  374  143\n",
              "1  미경  497  392   99\n",
              "0  승원  402  332  102\n",
              "2  미니  306  391   80"
            ]
          },
          "execution_count": 569,
          "metadata": {},
          "output_type": "execute_result"
        }
      ]
    },
    {
      "cell_type": "code",
      "metadata": {
        "colab": {
          "base_uri": "https://localhost:8080/",
          "height": 204
        },
        "id": "i9P2_SKp1Gij",
        "outputId": "0b367811-a719-4ead-ade6-f06b8c4d3295"
      },
      "source": [
        "dataframe13.sort_values(ascending=False, by='판매자')"
      ],
      "execution_count": null,
      "outputs": [
        {
          "data": {
            "text/html": [
              "<div>\n",
              "<style scoped>\n",
              "    .dataframe tbody tr th:only-of-type {\n",
              "        vertical-align: middle;\n",
              "    }\n",
              "\n",
              "    .dataframe tbody tr th {\n",
              "        vertical-align: top;\n",
              "    }\n",
              "\n",
              "    .dataframe thead th {\n",
              "        text-align: right;\n",
              "    }\n",
              "</style>\n",
              "<table border=\"1\" class=\"dataframe\">\n",
              "  <thead>\n",
              "    <tr style=\"text-align: right;\">\n",
              "      <th></th>\n",
              "      <th>판매자</th>\n",
              "      <th>포도</th>\n",
              "      <th>사과</th>\n",
              "      <th>배</th>\n",
              "    </tr>\n",
              "  </thead>\n",
              "  <tbody>\n",
              "    <tr>\n",
              "      <th>0</th>\n",
              "      <td>승원</td>\n",
              "      <td>402</td>\n",
              "      <td>332</td>\n",
              "      <td>102</td>\n",
              "    </tr>\n",
              "    <tr>\n",
              "      <th>2</th>\n",
              "      <td>미니</td>\n",
              "      <td>306</td>\n",
              "      <td>391</td>\n",
              "      <td>80</td>\n",
              "    </tr>\n",
              "    <tr>\n",
              "      <th>1</th>\n",
              "      <td>미경</td>\n",
              "      <td>497</td>\n",
              "      <td>392</td>\n",
              "      <td>99</td>\n",
              "    </tr>\n",
              "    <tr>\n",
              "      <th>3</th>\n",
              "      <td>꼬맹</td>\n",
              "      <td>681</td>\n",
              "      <td>295</td>\n",
              "      <td>30</td>\n",
              "    </tr>\n",
              "    <tr>\n",
              "      <th>4</th>\n",
              "      <td>거북</td>\n",
              "      <td>573</td>\n",
              "      <td>374</td>\n",
              "      <td>143</td>\n",
              "    </tr>\n",
              "  </tbody>\n",
              "</table>\n",
              "</div>"
            ],
            "text/plain": [
              "  판매자   포도   사과    배\n",
              "0  승원  402  332  102\n",
              "2  미니  306  391   80\n",
              "1  미경  497  392   99\n",
              "3  꼬맹  681  295   30\n",
              "4  거북  573  374  143"
            ]
          },
          "execution_count": 570,
          "metadata": {},
          "output_type": "execute_result"
        }
      ]
    },
    {
      "cell_type": "markdown",
      "metadata": {
        "id": "271tYqg5CFBB"
      },
      "source": [
        "## **2.7. 데이터 파일 읽기**"
      ]
    },
    {
      "cell_type": "markdown",
      "metadata": {
        "id": "1pQkVW3y8GXH"
      },
      "source": [
        "`read_csv()` 함수를 사용하면 표 데이터인 csv 파일을 읽어올 수 있습니다. csv란 comma-separated values의 약자이고, 데이터 필드가 쉼표(,)로 구분된 파일을 의미합니다. 확장자는 `.csv`이며 텍스트로만 구성된 파일입니다. 물론 `sep` 매개변수에 구분자 값을 지정하면 쉼표가 아닌 다른 구분자로 구분된 데이터도 읽어올 수 있습니다. 먼저 구글 드라이브를 임포트 하고 아래에서 예시로 설명하겠습니다."
      ]
    },
    {
      "cell_type": "code",
      "metadata": {
        "colab": {
          "base_uri": "https://localhost:8080/"
        },
        "id": "rq6BPhSwPTlI",
        "outputId": "88819cdf-d83a-4319-b8ce-f00473b4edfb"
      },
      "source": [
        "from google.colab import drive\n",
        "drive.mount('/content/gdrive/')"
      ],
      "execution_count": null,
      "outputs": [
        {
          "name": "stdout",
          "output_type": "stream",
          "text": [
            "Drive already mounted at /content/gdrive/; to attempt to forcibly remount, call drive.mount(\"/content/gdrive/\", force_remount=True).\n"
          ]
        }
      ]
    },
    {
      "cell_type": "code",
      "metadata": {
        "colab": {
          "base_uri": "https://localhost:8080/"
        },
        "id": "8VLxPb-9Pctu",
        "outputId": "1c31b42f-471f-4d79-f2db-ec83ae776536"
      },
      "source": [
        "cd /content/gdrive/MyDrive/Python_for_Data_Analytics_Science"
      ],
      "execution_count": null,
      "outputs": [
        {
          "name": "stdout",
          "output_type": "stream",
          "text": [
            "/content/gdrive/MyDrive/Python_for_Data_Analytics_Science\n"
          ]
        }
      ]
    },
    {
      "cell_type": "markdown",
      "metadata": {
        "id": "Vt6piOFkPf5P"
      },
      "source": [
        "csv 파일을 생성하겠습니다."
      ]
    },
    {
      "cell_type": "code",
      "metadata": {
        "colab": {
          "base_uri": "https://localhost:8080/"
        },
        "id": "7K7J-XauPsN6",
        "outputId": "5c472d88-b2fb-4984-b81f-2ec5d2f12e40"
      },
      "source": [
        "%%writefile /content/gdrive/MyDrive/Python_for_Data_Analytics_Science/test_csv.csv\n",
        "\n",
        "월, 사과, 배, 포도, 바나나\n",
        "1, 15, 26, 32, 76\n",
        "2, 30, 20, 36, 47\n",
        "3, 42, 91, 25, 63\n",
        "4, 29, 84, 37, 72\n",
        "5, 53, 67, 74, 23"
      ],
      "execution_count": null,
      "outputs": [
        {
          "name": "stdout",
          "output_type": "stream",
          "text": [
            "Overwriting /content/gdrive/MyDrive/Python_for_Data_Analytics_Science/test_csv.csv\n"
          ]
        }
      ]
    },
    {
      "cell_type": "markdown",
      "metadata": {
        "id": "gGSvNKh0QS_4"
      },
      "source": [
        "csv 파일을 읽겠습니다."
      ]
    },
    {
      "cell_type": "code",
      "metadata": {
        "colab": {
          "base_uri": "https://localhost:8080/",
          "height": 204
        },
        "id": "pxeP74-4QWlJ",
        "outputId": "63fe7f3b-b496-4eab-e57e-8dbb41ab1903"
      },
      "source": [
        "pd.read_csv('/content/gdrive/MyDrive/Python_for_Data_Analytics_Science/test_csv.csv')"
      ],
      "execution_count": null,
      "outputs": [
        {
          "data": {
            "text/html": [
              "<div>\n",
              "<style scoped>\n",
              "    .dataframe tbody tr th:only-of-type {\n",
              "        vertical-align: middle;\n",
              "    }\n",
              "\n",
              "    .dataframe tbody tr th {\n",
              "        vertical-align: top;\n",
              "    }\n",
              "\n",
              "    .dataframe thead th {\n",
              "        text-align: right;\n",
              "    }\n",
              "</style>\n",
              "<table border=\"1\" class=\"dataframe\">\n",
              "  <thead>\n",
              "    <tr style=\"text-align: right;\">\n",
              "      <th></th>\n",
              "      <th>월</th>\n",
              "      <th>사과</th>\n",
              "      <th>배</th>\n",
              "      <th>포도</th>\n",
              "      <th>바나나</th>\n",
              "    </tr>\n",
              "  </thead>\n",
              "  <tbody>\n",
              "    <tr>\n",
              "      <th>0</th>\n",
              "      <td>1</td>\n",
              "      <td>15</td>\n",
              "      <td>26</td>\n",
              "      <td>32</td>\n",
              "      <td>76</td>\n",
              "    </tr>\n",
              "    <tr>\n",
              "      <th>1</th>\n",
              "      <td>2</td>\n",
              "      <td>30</td>\n",
              "      <td>20</td>\n",
              "      <td>36</td>\n",
              "      <td>47</td>\n",
              "    </tr>\n",
              "    <tr>\n",
              "      <th>2</th>\n",
              "      <td>3</td>\n",
              "      <td>42</td>\n",
              "      <td>91</td>\n",
              "      <td>25</td>\n",
              "      <td>63</td>\n",
              "    </tr>\n",
              "    <tr>\n",
              "      <th>3</th>\n",
              "      <td>4</td>\n",
              "      <td>29</td>\n",
              "      <td>84</td>\n",
              "      <td>37</td>\n",
              "      <td>72</td>\n",
              "    </tr>\n",
              "    <tr>\n",
              "      <th>4</th>\n",
              "      <td>5</td>\n",
              "      <td>53</td>\n",
              "      <td>67</td>\n",
              "      <td>74</td>\n",
              "      <td>23</td>\n",
              "    </tr>\n",
              "  </tbody>\n",
              "</table>\n",
              "</div>"
            ],
            "text/plain": [
              "   월   사과   배   포도   바나나\n",
              "0  1   15  26   32    76\n",
              "1  2   30  20   36    47\n",
              "2  3   42  91   25    63\n",
              "3  4   29  84   37    72\n",
              "4  5   53  67   74    23"
            ]
          },
          "execution_count": 574,
          "metadata": {},
          "output_type": "execute_result"
        }
      ]
    },
    {
      "cell_type": "markdown",
      "metadata": {
        "id": "z1uwSWScRLj8"
      },
      "source": [
        "참고로 윈도우 메모장에서 파일을 생성하면 인코딩 형식은 'cp949'입니다. 반면에 파이썬으로 텍스트 파일을 생성하면 문자 인코딩 형식은 'utf-8'이 됩니다. 인코딩 형식이 다르므로 `read_csv()` 메서드의 `encoding` 매개변수에 인코딩 형식을 인자값으로 넘겨줘야 텍스트 파일을 제대로 읽을 수 있습니다."
      ]
    },
    {
      "cell_type": "markdown",
      "metadata": {
        "id": "C97BwOFmBsI3"
      },
      "source": [
        "만약 구분자가 공백이면 매개변수를 `sep=' '`로 지정합니다."
      ]
    },
    {
      "cell_type": "code",
      "metadata": {
        "colab": {
          "base_uri": "https://localhost:8080/"
        },
        "id": "f63yzgWTB1rN",
        "outputId": "e3c5c3b3-449c-4043-8c51-5c19a669feea"
      },
      "source": [
        "%%writefile /content/gdrive/MyDrive/Python_for_Data_Analytics_Science/test_csv1.csv\n",
        "\n",
        "월 사과 배 포도 바나나\n",
        "1 15 26 32 76\n",
        "2 30 20 36 47\n",
        "3 42 91 25 63\n",
        "4 29 84 37 72\n",
        "5 53 67 74 23"
      ],
      "execution_count": null,
      "outputs": [
        {
          "name": "stdout",
          "output_type": "stream",
          "text": [
            "Overwriting /content/gdrive/MyDrive/Python_for_Data_Analytics_Science/test_csv1.csv\n"
          ]
        }
      ]
    },
    {
      "cell_type": "code",
      "metadata": {
        "colab": {
          "base_uri": "https://localhost:8080/",
          "height": 204
        },
        "id": "u0YWVgG5Cg2Z",
        "outputId": "99d22807-f65f-47a0-9d1f-9bcdd85e7a8b"
      },
      "source": [
        "pd.read_csv('/content/gdrive/MyDrive/Python_for_Data_Analytics_Science/test_csv1.csv', sep=' ')"
      ],
      "execution_count": null,
      "outputs": [
        {
          "data": {
            "text/html": [
              "<div>\n",
              "<style scoped>\n",
              "    .dataframe tbody tr th:only-of-type {\n",
              "        vertical-align: middle;\n",
              "    }\n",
              "\n",
              "    .dataframe tbody tr th {\n",
              "        vertical-align: top;\n",
              "    }\n",
              "\n",
              "    .dataframe thead th {\n",
              "        text-align: right;\n",
              "    }\n",
              "</style>\n",
              "<table border=\"1\" class=\"dataframe\">\n",
              "  <thead>\n",
              "    <tr style=\"text-align: right;\">\n",
              "      <th></th>\n",
              "      <th>월</th>\n",
              "      <th>사과</th>\n",
              "      <th>배</th>\n",
              "      <th>포도</th>\n",
              "      <th>바나나</th>\n",
              "    </tr>\n",
              "  </thead>\n",
              "  <tbody>\n",
              "    <tr>\n",
              "      <th>0</th>\n",
              "      <td>1</td>\n",
              "      <td>15</td>\n",
              "      <td>26</td>\n",
              "      <td>32</td>\n",
              "      <td>76</td>\n",
              "    </tr>\n",
              "    <tr>\n",
              "      <th>1</th>\n",
              "      <td>2</td>\n",
              "      <td>30</td>\n",
              "      <td>20</td>\n",
              "      <td>36</td>\n",
              "      <td>47</td>\n",
              "    </tr>\n",
              "    <tr>\n",
              "      <th>2</th>\n",
              "      <td>3</td>\n",
              "      <td>42</td>\n",
              "      <td>91</td>\n",
              "      <td>25</td>\n",
              "      <td>63</td>\n",
              "    </tr>\n",
              "    <tr>\n",
              "      <th>3</th>\n",
              "      <td>4</td>\n",
              "      <td>29</td>\n",
              "      <td>84</td>\n",
              "      <td>37</td>\n",
              "      <td>72</td>\n",
              "    </tr>\n",
              "    <tr>\n",
              "      <th>4</th>\n",
              "      <td>5</td>\n",
              "      <td>53</td>\n",
              "      <td>67</td>\n",
              "      <td>74</td>\n",
              "      <td>23</td>\n",
              "    </tr>\n",
              "  </tbody>\n",
              "</table>\n",
              "</div>"
            ],
            "text/plain": [
              "   월  사과   배  포도  바나나\n",
              "0  1  15  26  32   76\n",
              "1  2  30  20  36   47\n",
              "2  3  42  91  25   63\n",
              "3  4  29  84  37   72\n",
              "4  5  53  67  74   23"
            ]
          },
          "execution_count": 576,
          "metadata": {},
          "output_type": "execute_result"
        }
      ]
    },
    {
      "cell_type": "markdown",
      "metadata": {
        "id": "bEJb1aGVCzUA"
      },
      "source": [
        "데이터를 읽을 때 열 하나를 인덱스로 지정할 수 있습니다. 매개변수 `index_col`에 특정 열을 인자로 전달하겠습니다."
      ]
    },
    {
      "cell_type": "code",
      "metadata": {
        "colab": {
          "base_uri": "https://localhost:8080/",
          "height": 235
        },
        "id": "NF4mnLmJDBE8",
        "outputId": "5e4d8a92-1d8d-4b1d-addb-c67147d66fb1"
      },
      "source": [
        "pd.read_csv('/content/gdrive/MyDrive/Python_for_Data_Analytics_Science/test_csv1.csv', sep=' ', index_col='월')"
      ],
      "execution_count": null,
      "outputs": [
        {
          "data": {
            "text/html": [
              "<div>\n",
              "<style scoped>\n",
              "    .dataframe tbody tr th:only-of-type {\n",
              "        vertical-align: middle;\n",
              "    }\n",
              "\n",
              "    .dataframe tbody tr th {\n",
              "        vertical-align: top;\n",
              "    }\n",
              "\n",
              "    .dataframe thead th {\n",
              "        text-align: right;\n",
              "    }\n",
              "</style>\n",
              "<table border=\"1\" class=\"dataframe\">\n",
              "  <thead>\n",
              "    <tr style=\"text-align: right;\">\n",
              "      <th></th>\n",
              "      <th>사과</th>\n",
              "      <th>배</th>\n",
              "      <th>포도</th>\n",
              "      <th>바나나</th>\n",
              "    </tr>\n",
              "    <tr>\n",
              "      <th>월</th>\n",
              "      <th></th>\n",
              "      <th></th>\n",
              "      <th></th>\n",
              "      <th></th>\n",
              "    </tr>\n",
              "  </thead>\n",
              "  <tbody>\n",
              "    <tr>\n",
              "      <th>1</th>\n",
              "      <td>15</td>\n",
              "      <td>26</td>\n",
              "      <td>32</td>\n",
              "      <td>76</td>\n",
              "    </tr>\n",
              "    <tr>\n",
              "      <th>2</th>\n",
              "      <td>30</td>\n",
              "      <td>20</td>\n",
              "      <td>36</td>\n",
              "      <td>47</td>\n",
              "    </tr>\n",
              "    <tr>\n",
              "      <th>3</th>\n",
              "      <td>42</td>\n",
              "      <td>91</td>\n",
              "      <td>25</td>\n",
              "      <td>63</td>\n",
              "    </tr>\n",
              "    <tr>\n",
              "      <th>4</th>\n",
              "      <td>29</td>\n",
              "      <td>84</td>\n",
              "      <td>37</td>\n",
              "      <td>72</td>\n",
              "    </tr>\n",
              "    <tr>\n",
              "      <th>5</th>\n",
              "      <td>53</td>\n",
              "      <td>67</td>\n",
              "      <td>74</td>\n",
              "      <td>23</td>\n",
              "    </tr>\n",
              "  </tbody>\n",
              "</table>\n",
              "</div>"
            ],
            "text/plain": [
              "   사과   배  포도  바나나\n",
              "월                 \n",
              "1  15  26  32   76\n",
              "2  30  20  36   47\n",
              "3  42  91  25   63\n",
              "4  29  84  37   72\n",
              "5  53  67  74   23"
            ]
          },
          "execution_count": 577,
          "metadata": {},
          "output_type": "execute_result"
        }
      ]
    },
    {
      "cell_type": "markdown",
      "metadata": {
        "id": "w7gwCJc4RdGH"
      },
      "source": [
        "## **2.8. 데이터 파일 쓰기**"
      ]
    },
    {
      "cell_type": "markdown",
      "metadata": {
        "id": "ZU-kn5YCDIZ6"
      },
      "source": [
        "`to_csv()` 메서드를 사용하면 데이터프레임을 텍스트 파일로 생성할 수 있습니다.\n",
        "\n",
        "먼저 위 데이터를 데이터프레임으로 생성하겠습니다."
      ]
    },
    {
      "cell_type": "code",
      "metadata": {
        "colab": {
          "base_uri": "https://localhost:8080/",
          "height": 235
        },
        "id": "fmc0tSifDWbg",
        "outputId": "5e664051-1420-4d70-8699-d5436790c238"
      },
      "source": [
        "dataframe_to_csv = pd.DataFrame({'사과': [15, 30, 42, 29, 53],\n",
        "                                 '배': [26, 20, 91, 84, 67],\n",
        "                                 '포도': [32, 36, 25, 37, 74],\n",
        "                                 '바나나': [76, 47, 63, 72, 23]}, index=[1, 2, 3, 4, 5])\n",
        "dataframe_to_csv.index.name = '월'\n",
        "dataframe_to_csv"
      ],
      "execution_count": null,
      "outputs": [
        {
          "data": {
            "text/html": [
              "<div>\n",
              "<style scoped>\n",
              "    .dataframe tbody tr th:only-of-type {\n",
              "        vertical-align: middle;\n",
              "    }\n",
              "\n",
              "    .dataframe tbody tr th {\n",
              "        vertical-align: top;\n",
              "    }\n",
              "\n",
              "    .dataframe thead th {\n",
              "        text-align: right;\n",
              "    }\n",
              "</style>\n",
              "<table border=\"1\" class=\"dataframe\">\n",
              "  <thead>\n",
              "    <tr style=\"text-align: right;\">\n",
              "      <th></th>\n",
              "      <th>사과</th>\n",
              "      <th>배</th>\n",
              "      <th>포도</th>\n",
              "      <th>바나나</th>\n",
              "    </tr>\n",
              "    <tr>\n",
              "      <th>월</th>\n",
              "      <th></th>\n",
              "      <th></th>\n",
              "      <th></th>\n",
              "      <th></th>\n",
              "    </tr>\n",
              "  </thead>\n",
              "  <tbody>\n",
              "    <tr>\n",
              "      <th>1</th>\n",
              "      <td>15</td>\n",
              "      <td>26</td>\n",
              "      <td>32</td>\n",
              "      <td>76</td>\n",
              "    </tr>\n",
              "    <tr>\n",
              "      <th>2</th>\n",
              "      <td>30</td>\n",
              "      <td>20</td>\n",
              "      <td>36</td>\n",
              "      <td>47</td>\n",
              "    </tr>\n",
              "    <tr>\n",
              "      <th>3</th>\n",
              "      <td>42</td>\n",
              "      <td>91</td>\n",
              "      <td>25</td>\n",
              "      <td>63</td>\n",
              "    </tr>\n",
              "    <tr>\n",
              "      <th>4</th>\n",
              "      <td>29</td>\n",
              "      <td>84</td>\n",
              "      <td>37</td>\n",
              "      <td>72</td>\n",
              "    </tr>\n",
              "    <tr>\n",
              "      <th>5</th>\n",
              "      <td>53</td>\n",
              "      <td>67</td>\n",
              "      <td>74</td>\n",
              "      <td>23</td>\n",
              "    </tr>\n",
              "  </tbody>\n",
              "</table>\n",
              "</div>"
            ],
            "text/plain": [
              "   사과   배  포도  바나나\n",
              "월                 \n",
              "1  15  26  32   76\n",
              "2  30  20  36   47\n",
              "3  42  91  25   63\n",
              "4  29  84  37   72\n",
              "5  53  67  74   23"
            ]
          },
          "execution_count": 578,
          "metadata": {},
          "output_type": "execute_result"
        }
      ]
    },
    {
      "cell_type": "markdown",
      "metadata": {
        "id": "Bt1Hz9ehETeo"
      },
      "source": [
        "바나나 열의 오른쪽에 모든 과일의 월 평균판매량 열을 추가하겠습니다. "
      ]
    },
    {
      "cell_type": "code",
      "metadata": {
        "colab": {
          "base_uri": "https://localhost:8080/",
          "height": 235
        },
        "id": "wG837BfpEb_r",
        "outputId": "a95d3c0e-8c7c-46cf-d78c-2bf6dd97e521"
      },
      "source": [
        "sum_sale = dataframe_to_csv['사과'] + dataframe_to_csv['배'] + dataframe_to_csv['포도'] + dataframe_to_csv['바나나']\n",
        "mean_sale = sum_sale/4\n",
        "mean_sale\n",
        "\n",
        "dataframe_to_csv['평균 판매량'] = mean_sale\n",
        "dataframe_to_csv"
      ],
      "execution_count": null,
      "outputs": [
        {
          "data": {
            "text/html": [
              "<div>\n",
              "<style scoped>\n",
              "    .dataframe tbody tr th:only-of-type {\n",
              "        vertical-align: middle;\n",
              "    }\n",
              "\n",
              "    .dataframe tbody tr th {\n",
              "        vertical-align: top;\n",
              "    }\n",
              "\n",
              "    .dataframe thead th {\n",
              "        text-align: right;\n",
              "    }\n",
              "</style>\n",
              "<table border=\"1\" class=\"dataframe\">\n",
              "  <thead>\n",
              "    <tr style=\"text-align: right;\">\n",
              "      <th></th>\n",
              "      <th>사과</th>\n",
              "      <th>배</th>\n",
              "      <th>포도</th>\n",
              "      <th>바나나</th>\n",
              "      <th>평균 판매량</th>\n",
              "    </tr>\n",
              "    <tr>\n",
              "      <th>월</th>\n",
              "      <th></th>\n",
              "      <th></th>\n",
              "      <th></th>\n",
              "      <th></th>\n",
              "      <th></th>\n",
              "    </tr>\n",
              "  </thead>\n",
              "  <tbody>\n",
              "    <tr>\n",
              "      <th>1</th>\n",
              "      <td>15</td>\n",
              "      <td>26</td>\n",
              "      <td>32</td>\n",
              "      <td>76</td>\n",
              "      <td>37.25</td>\n",
              "    </tr>\n",
              "    <tr>\n",
              "      <th>2</th>\n",
              "      <td>30</td>\n",
              "      <td>20</td>\n",
              "      <td>36</td>\n",
              "      <td>47</td>\n",
              "      <td>33.25</td>\n",
              "    </tr>\n",
              "    <tr>\n",
              "      <th>3</th>\n",
              "      <td>42</td>\n",
              "      <td>91</td>\n",
              "      <td>25</td>\n",
              "      <td>63</td>\n",
              "      <td>55.25</td>\n",
              "    </tr>\n",
              "    <tr>\n",
              "      <th>4</th>\n",
              "      <td>29</td>\n",
              "      <td>84</td>\n",
              "      <td>37</td>\n",
              "      <td>72</td>\n",
              "      <td>55.50</td>\n",
              "    </tr>\n",
              "    <tr>\n",
              "      <th>5</th>\n",
              "      <td>53</td>\n",
              "      <td>67</td>\n",
              "      <td>74</td>\n",
              "      <td>23</td>\n",
              "      <td>54.25</td>\n",
              "    </tr>\n",
              "  </tbody>\n",
              "</table>\n",
              "</div>"
            ],
            "text/plain": [
              "   사과   배  포도  바나나  평균 판매량\n",
              "월                         \n",
              "1  15  26  32   76   37.25\n",
              "2  30  20  36   47   33.25\n",
              "3  42  91  25   63   55.25\n",
              "4  29  84  37   72   55.50\n",
              "5  53  67  74   23   54.25"
            ]
          },
          "execution_count": 579,
          "metadata": {},
          "output_type": "execute_result"
        }
      ]
    },
    {
      "cell_type": "markdown",
      "metadata": {
        "id": "izvahv32GN-d"
      },
      "source": [
        "생성한 데이터프레임을 텍스트 파일로 저장하겠습니다. 구분자를 기본값인 쉼표가 아닌 공백으로 지정하고 문자는 `cp949`로 지정하겠습니다."
      ]
    },
    {
      "cell_type": "code",
      "metadata": {
        "id": "U8k4DokWGR9a"
      },
      "source": [
        "dataframe_to_csv.to_csv('/content/gdrive/MyDrive/Python_for_Data_Analytics_Science/to_csv1.csv', \n",
        "                        sep=' ', encoding='cp949')"
      ],
      "execution_count": null,
      "outputs": []
    },
    {
      "cell_type": "markdown",
      "metadata": {
        "id": "26wOdzZ1IdQR"
      },
      "source": [
        "# **3. Pandas 심화**"
      ]
    },
    {
      "cell_type": "markdown",
      "metadata": {
        "id": "B3_BpG9MEGCy"
      },
      "source": [
        "## **3.1. 함수 매핑 하기**"
      ]
    },
    {
      "cell_type": "markdown",
      "metadata": {
        "id": "QX728sCcISTq"
      },
      "source": [
        "함수 매핑(mapping)이란 직접 생성한 함수에 시리즈나 데이터프레임의 원소를 대응시키는 것을 의미합니다.\n",
        "\n",
        "먼저 함수를 생성하겠습니다."
      ]
    },
    {
      "cell_type": "code",
      "metadata": {
        "id": "plSFRhoDJnf7"
      },
      "source": [
        "def test_sub_10(a):\n",
        "    return a - 30\n",
        "\n",
        "def test_mul_ab(a, b):\n",
        "    return a * b\n",
        "\n",
        "def test_isnull(a):\n",
        "    return a.isnull()\n",
        "\n",
        "def test_sub_minmax(a):\n",
        "    return a.min() - a.max()"
      ],
      "execution_count": null,
      "outputs": []
    },
    {
      "cell_type": "markdown",
      "metadata": {
        "id": "SJFADfxXK5dl"
      },
      "source": [
        "함수를 적용할 데이터프레임을 생성하겠습니다."
      ]
    },
    {
      "cell_type": "code",
      "metadata": {
        "colab": {
          "base_uri": "https://localhost:8080/",
          "height": 204
        },
        "id": "IukEGaRPKVbl",
        "outputId": "1cb9b6f9-8dce-4dda-e4ec-5272099e481f"
      },
      "source": [
        "import pandas as pd\n",
        "\n",
        "dic_data6 = {'판매자': ['승원', '미경', '미니', '꼬맹', '거북'],\n",
        "             '사과': [10, 20, 30, 40, 50],\n",
        "             '배': [1, 2, 3, 4, 5],\n",
        "             '포도': [5, 6, 7, 8, 9]}\n",
        "col_list3 = ['판매자', '포도', '사과', '배']\n",
        "\n",
        "dataframe14 = pd.DataFrame(dic_data6, columns=col_list3)\n",
        "dataframe14"
      ],
      "execution_count": null,
      "outputs": [
        {
          "data": {
            "text/html": [
              "<div>\n",
              "<style scoped>\n",
              "    .dataframe tbody tr th:only-of-type {\n",
              "        vertical-align: middle;\n",
              "    }\n",
              "\n",
              "    .dataframe tbody tr th {\n",
              "        vertical-align: top;\n",
              "    }\n",
              "\n",
              "    .dataframe thead th {\n",
              "        text-align: right;\n",
              "    }\n",
              "</style>\n",
              "<table border=\"1\" class=\"dataframe\">\n",
              "  <thead>\n",
              "    <tr style=\"text-align: right;\">\n",
              "      <th></th>\n",
              "      <th>판매자</th>\n",
              "      <th>포도</th>\n",
              "      <th>사과</th>\n",
              "      <th>배</th>\n",
              "    </tr>\n",
              "  </thead>\n",
              "  <tbody>\n",
              "    <tr>\n",
              "      <th>0</th>\n",
              "      <td>승원</td>\n",
              "      <td>5</td>\n",
              "      <td>10</td>\n",
              "      <td>1</td>\n",
              "    </tr>\n",
              "    <tr>\n",
              "      <th>1</th>\n",
              "      <td>미경</td>\n",
              "      <td>6</td>\n",
              "      <td>20</td>\n",
              "      <td>2</td>\n",
              "    </tr>\n",
              "    <tr>\n",
              "      <th>2</th>\n",
              "      <td>미니</td>\n",
              "      <td>7</td>\n",
              "      <td>30</td>\n",
              "      <td>3</td>\n",
              "    </tr>\n",
              "    <tr>\n",
              "      <th>3</th>\n",
              "      <td>꼬맹</td>\n",
              "      <td>8</td>\n",
              "      <td>40</td>\n",
              "      <td>4</td>\n",
              "    </tr>\n",
              "    <tr>\n",
              "      <th>4</th>\n",
              "      <td>거북</td>\n",
              "      <td>9</td>\n",
              "      <td>50</td>\n",
              "      <td>5</td>\n",
              "    </tr>\n",
              "  </tbody>\n",
              "</table>\n",
              "</div>"
            ],
            "text/plain": [
              "  판매자  포도  사과  배\n",
              "0  승원   5  10  1\n",
              "1  미경   6  20  2\n",
              "2  미니   7  30  3\n",
              "3  꼬맹   8  40  4\n",
              "4  거북   9  50  5"
            ]
          },
          "execution_count": 582,
          "metadata": {},
          "output_type": "execute_result"
        }
      ]
    },
    {
      "cell_type": "markdown",
      "metadata": {
        "id": "unVAZ-zsL1WO"
      },
      "source": [
        "`apply()` 메서드를 사용해서 데이터프레임의 시리즈에 함수를 매핑 하겠습니다. 먼저 `test_sub_10()` 함수를 매핑 합니다."
      ]
    },
    {
      "cell_type": "code",
      "metadata": {
        "colab": {
          "base_uri": "https://localhost:8080/"
        },
        "id": "CEmrkInOLMRw",
        "outputId": "e95ff00d-ae22-45e8-ec4f-e5d14e9c3f98"
      },
      "source": [
        "dataframe14['포도'].apply(test_sub_10)"
      ],
      "execution_count": null,
      "outputs": [
        {
          "data": {
            "text/plain": [
              "0   -25\n",
              "1   -24\n",
              "2   -23\n",
              "3   -22\n",
              "4   -21\n",
              "Name: 포도, dtype: int64"
            ]
          },
          "execution_count": 583,
          "metadata": {},
          "output_type": "execute_result"
        }
      ]
    },
    {
      "cell_type": "code",
      "metadata": {
        "colab": {
          "base_uri": "https://localhost:8080/"
        },
        "id": "cAqL_iiDLvsT",
        "outputId": "0d36690c-f7cd-4f33-b23c-76db68c52ef9"
      },
      "source": [
        "dataframe14['사과'].apply(test_sub_10)"
      ],
      "execution_count": null,
      "outputs": [
        {
          "data": {
            "text/plain": [
              "0   -20\n",
              "1   -10\n",
              "2     0\n",
              "3    10\n",
              "4    20\n",
              "Name: 사과, dtype: int64"
            ]
          },
          "execution_count": 584,
          "metadata": {},
          "output_type": "execute_result"
        }
      ]
    },
    {
      "cell_type": "markdown",
      "metadata": {
        "id": "UL3Kd6-tPfkR"
      },
      "source": [
        "람다 함수를 사용할 수도 있습니다."
      ]
    },
    {
      "cell_type": "code",
      "metadata": {
        "colab": {
          "base_uri": "https://localhost:8080/"
        },
        "id": "_SlRvzEDPa8L",
        "outputId": "65fb051e-008b-4821-e712-07bf834da777"
      },
      "source": [
        "dataframe14['사과'].apply(lambda x : test_sub_10(x))"
      ],
      "execution_count": null,
      "outputs": [
        {
          "data": {
            "text/plain": [
              "0   -20\n",
              "1   -10\n",
              "2     0\n",
              "3    10\n",
              "4    20\n",
              "Name: 사과, dtype: int64"
            ]
          },
          "execution_count": 585,
          "metadata": {},
          "output_type": "execute_result"
        }
      ]
    },
    {
      "cell_type": "markdown",
      "metadata": {
        "id": "4Xc_PIdkMWcQ"
      },
      "source": [
        "다음으로 `test_mul_ab()` 함수를 매핑 하겠습니다. `b` 값은 따로 지정해야 합니다."
      ]
    },
    {
      "cell_type": "code",
      "metadata": {
        "colab": {
          "base_uri": "https://localhost:8080/"
        },
        "id": "eNgVrkINOc9l",
        "outputId": "f2493024-a4e0-4c0c-ecb0-82ab380d9314"
      },
      "source": [
        "dataframe14['사과'].apply(test_mul_ab, b=2)"
      ],
      "execution_count": null,
      "outputs": [
        {
          "data": {
            "text/plain": [
              "0     20\n",
              "1     40\n",
              "2     60\n",
              "3     80\n",
              "4    100\n",
              "Name: 사과, dtype: int64"
            ]
          },
          "execution_count": 586,
          "metadata": {},
          "output_type": "execute_result"
        }
      ]
    },
    {
      "cell_type": "markdown",
      "metadata": {
        "id": "WcqI6h1BOf0V"
      },
      "source": [
        "데이터프레임 전체를 매핑 하면 판매자 시리즈까지 적용됩니다. 열마다 적용되는 `axis=0` 형식의 매개변수는 기본값입니다. 따로 지정하지 않아도 됩니다."
      ]
    },
    {
      "cell_type": "code",
      "metadata": {
        "colab": {
          "base_uri": "https://localhost:8080/",
          "height": 204
        },
        "id": "pEtgJDgWMDJH",
        "outputId": "f61dba61-cc60-4057-c1f8-34090743ccb0"
      },
      "source": [
        "dataframe14.apply(test_mul_ab, b=2)"
      ],
      "execution_count": null,
      "outputs": [
        {
          "data": {
            "text/html": [
              "<div>\n",
              "<style scoped>\n",
              "    .dataframe tbody tr th:only-of-type {\n",
              "        vertical-align: middle;\n",
              "    }\n",
              "\n",
              "    .dataframe tbody tr th {\n",
              "        vertical-align: top;\n",
              "    }\n",
              "\n",
              "    .dataframe thead th {\n",
              "        text-align: right;\n",
              "    }\n",
              "</style>\n",
              "<table border=\"1\" class=\"dataframe\">\n",
              "  <thead>\n",
              "    <tr style=\"text-align: right;\">\n",
              "      <th></th>\n",
              "      <th>판매자</th>\n",
              "      <th>포도</th>\n",
              "      <th>사과</th>\n",
              "      <th>배</th>\n",
              "    </tr>\n",
              "  </thead>\n",
              "  <tbody>\n",
              "    <tr>\n",
              "      <th>0</th>\n",
              "      <td>승원승원</td>\n",
              "      <td>10</td>\n",
              "      <td>20</td>\n",
              "      <td>2</td>\n",
              "    </tr>\n",
              "    <tr>\n",
              "      <th>1</th>\n",
              "      <td>미경미경</td>\n",
              "      <td>12</td>\n",
              "      <td>40</td>\n",
              "      <td>4</td>\n",
              "    </tr>\n",
              "    <tr>\n",
              "      <th>2</th>\n",
              "      <td>미니미니</td>\n",
              "      <td>14</td>\n",
              "      <td>60</td>\n",
              "      <td>6</td>\n",
              "    </tr>\n",
              "    <tr>\n",
              "      <th>3</th>\n",
              "      <td>꼬맹꼬맹</td>\n",
              "      <td>16</td>\n",
              "      <td>80</td>\n",
              "      <td>8</td>\n",
              "    </tr>\n",
              "    <tr>\n",
              "      <th>4</th>\n",
              "      <td>거북거북</td>\n",
              "      <td>18</td>\n",
              "      <td>100</td>\n",
              "      <td>10</td>\n",
              "    </tr>\n",
              "  </tbody>\n",
              "</table>\n",
              "</div>"
            ],
            "text/plain": [
              "    판매자  포도   사과   배\n",
              "0  승원승원  10   20   2\n",
              "1  미경미경  12   40   4\n",
              "2  미니미니  14   60   6\n",
              "3  꼬맹꼬맹  16   80   8\n",
              "4  거북거북  18  100  10"
            ]
          },
          "execution_count": 587,
          "metadata": {},
          "output_type": "execute_result"
        }
      ]
    },
    {
      "cell_type": "markdown",
      "metadata": {
        "id": "1fIVatWeWBcJ"
      },
      "source": [
        "람다 함수로 `test_mul_ab` 함수를 적용하겠습니다. 원소 두 개를 전달하므로 'b'를 따로 지정하지 않아도 됩니다."
      ]
    },
    {
      "cell_type": "code",
      "metadata": {
        "colab": {
          "base_uri": "https://localhost:8080/"
        },
        "id": "5AT2js_3WB5S",
        "outputId": "d5c3391a-1ad9-4266-c48a-0e2f7221dfe8"
      },
      "source": [
        "dataframe14.apply(lambda x : test_mul_ab(x['포도'], x['사과']), axis=1)"
      ],
      "execution_count": null,
      "outputs": [
        {
          "data": {
            "text/plain": [
              "0     50\n",
              "1    120\n",
              "2    210\n",
              "3    320\n",
              "4    450\n",
              "dtype: int64"
            ]
          },
          "execution_count": 588,
          "metadata": {},
          "output_type": "execute_result"
        }
      ]
    },
    {
      "cell_type": "markdown",
      "metadata": {
        "id": "74FrEs9AfEvp"
      },
      "source": [
        "`test_isnull()` 함수를 적용하겠습니다. "
      ]
    },
    {
      "cell_type": "code",
      "metadata": {
        "colab": {
          "base_uri": "https://localhost:8080/",
          "height": 204
        },
        "id": "oEZ5uldSeO2B",
        "outputId": "e8d85376-c6f7-4df3-c538-d5c811a91583"
      },
      "source": [
        "dataframe14.apply(test_isnull)"
      ],
      "execution_count": null,
      "outputs": [
        {
          "data": {
            "text/html": [
              "<div>\n",
              "<style scoped>\n",
              "    .dataframe tbody tr th:only-of-type {\n",
              "        vertical-align: middle;\n",
              "    }\n",
              "\n",
              "    .dataframe tbody tr th {\n",
              "        vertical-align: top;\n",
              "    }\n",
              "\n",
              "    .dataframe thead th {\n",
              "        text-align: right;\n",
              "    }\n",
              "</style>\n",
              "<table border=\"1\" class=\"dataframe\">\n",
              "  <thead>\n",
              "    <tr style=\"text-align: right;\">\n",
              "      <th></th>\n",
              "      <th>판매자</th>\n",
              "      <th>포도</th>\n",
              "      <th>사과</th>\n",
              "      <th>배</th>\n",
              "    </tr>\n",
              "  </thead>\n",
              "  <tbody>\n",
              "    <tr>\n",
              "      <th>0</th>\n",
              "      <td>False</td>\n",
              "      <td>False</td>\n",
              "      <td>False</td>\n",
              "      <td>False</td>\n",
              "    </tr>\n",
              "    <tr>\n",
              "      <th>1</th>\n",
              "      <td>False</td>\n",
              "      <td>False</td>\n",
              "      <td>False</td>\n",
              "      <td>False</td>\n",
              "    </tr>\n",
              "    <tr>\n",
              "      <th>2</th>\n",
              "      <td>False</td>\n",
              "      <td>False</td>\n",
              "      <td>False</td>\n",
              "      <td>False</td>\n",
              "    </tr>\n",
              "    <tr>\n",
              "      <th>3</th>\n",
              "      <td>False</td>\n",
              "      <td>False</td>\n",
              "      <td>False</td>\n",
              "      <td>False</td>\n",
              "    </tr>\n",
              "    <tr>\n",
              "      <th>4</th>\n",
              "      <td>False</td>\n",
              "      <td>False</td>\n",
              "      <td>False</td>\n",
              "      <td>False</td>\n",
              "    </tr>\n",
              "  </tbody>\n",
              "</table>\n",
              "</div>"
            ],
            "text/plain": [
              "     판매자     포도     사과      배\n",
              "0  False  False  False  False\n",
              "1  False  False  False  False\n",
              "2  False  False  False  False\n",
              "3  False  False  False  False\n",
              "4  False  False  False  False"
            ]
          },
          "execution_count": 589,
          "metadata": {},
          "output_type": "execute_result"
        }
      ]
    },
    {
      "cell_type": "markdown",
      "metadata": {
        "id": "b9qI-Y9Sg2wc"
      },
      "source": [
        "`test_add_maxmin()` 함수를 적용하겠습니다."
      ]
    },
    {
      "cell_type": "code",
      "metadata": {
        "colab": {
          "base_uri": "https://localhost:8080/"
        },
        "id": "TiaCs9VvgNSQ",
        "outputId": "8efd3f97-f0c3-4599-8ca9-20784e859cab"
      },
      "source": [
        "dataframe14.loc[:, '포도':].apply(test_sub_minmax, axis=0)"
      ],
      "execution_count": null,
      "outputs": [
        {
          "data": {
            "text/plain": [
              "포도    -4\n",
              "사과   -40\n",
              "배     -4\n",
              "dtype: int64"
            ]
          },
          "execution_count": 590,
          "metadata": {},
          "output_type": "execute_result"
        }
      ]
    },
    {
      "cell_type": "markdown",
      "metadata": {
        "id": "GfOSXeajbNbG"
      },
      "source": [
        "`applymap()` 메서드는 데이터프레임 원소에 개별적으로 함수를 매핑하는 메서드입니다. 기실 데이터프레임에 `apply()` 메서드를 적용해도 작동합니다. 각 열(시리즈)에 개별적으로 적용되기 때문입니다. 다만 시리즈에 `applymap()` 메서드를 적용하면 작동하지 않습니다. 시리즈 객체는 `applymap()` 메서드를 가지고 있지 않습니다."
      ]
    },
    {
      "cell_type": "code",
      "metadata": {
        "colab": {
          "base_uri": "https://localhost:8080/",
          "height": 204
        },
        "id": "Y9fqDzW3ZIR5",
        "outputId": "a7c62c0d-5c9d-4e53-8186-0ef262a17bb5"
      },
      "source": [
        "# `test_sub_10` 함수는 숫자만 연산할 수 있으므로 '판매자' 열은 제외합니다.\n",
        "dataframe14.loc[:, '포도':].applymap(test_sub_10)"
      ],
      "execution_count": null,
      "outputs": [
        {
          "data": {
            "text/html": [
              "<div>\n",
              "<style scoped>\n",
              "    .dataframe tbody tr th:only-of-type {\n",
              "        vertical-align: middle;\n",
              "    }\n",
              "\n",
              "    .dataframe tbody tr th {\n",
              "        vertical-align: top;\n",
              "    }\n",
              "\n",
              "    .dataframe thead th {\n",
              "        text-align: right;\n",
              "    }\n",
              "</style>\n",
              "<table border=\"1\" class=\"dataframe\">\n",
              "  <thead>\n",
              "    <tr style=\"text-align: right;\">\n",
              "      <th></th>\n",
              "      <th>포도</th>\n",
              "      <th>사과</th>\n",
              "      <th>배</th>\n",
              "    </tr>\n",
              "  </thead>\n",
              "  <tbody>\n",
              "    <tr>\n",
              "      <th>0</th>\n",
              "      <td>-25</td>\n",
              "      <td>-20</td>\n",
              "      <td>-29</td>\n",
              "    </tr>\n",
              "    <tr>\n",
              "      <th>1</th>\n",
              "      <td>-24</td>\n",
              "      <td>-10</td>\n",
              "      <td>-28</td>\n",
              "    </tr>\n",
              "    <tr>\n",
              "      <th>2</th>\n",
              "      <td>-23</td>\n",
              "      <td>0</td>\n",
              "      <td>-27</td>\n",
              "    </tr>\n",
              "    <tr>\n",
              "      <th>3</th>\n",
              "      <td>-22</td>\n",
              "      <td>10</td>\n",
              "      <td>-26</td>\n",
              "    </tr>\n",
              "    <tr>\n",
              "      <th>4</th>\n",
              "      <td>-21</td>\n",
              "      <td>20</td>\n",
              "      <td>-25</td>\n",
              "    </tr>\n",
              "  </tbody>\n",
              "</table>\n",
              "</div>"
            ],
            "text/plain": [
              "   포도  사과   배\n",
              "0 -25 -20 -29\n",
              "1 -24 -10 -28\n",
              "2 -23   0 -27\n",
              "3 -22  10 -26\n",
              "4 -21  20 -25"
            ]
          },
          "execution_count": 591,
          "metadata": {},
          "output_type": "execute_result"
        }
      ]
    },
    {
      "cell_type": "markdown",
      "metadata": {
        "id": "LKjqaI5NW0gq"
      },
      "source": [
        "`pipe()` 메서드를 사용하면 데이터프레임 객체를 함수에 매핑 할 수 있습니다. 함수에 맞게 결과를 데이터프레임, 시리즈, 단일값으로 출력합니다.\n",
        "\n",
        "먼저 함수를 만들겠습니다."
      ]
    },
    {
      "cell_type": "code",
      "metadata": {
        "id": "-pn5qqZ8cZGR"
      },
      "source": [
        "# 열의 공백 개수를 시리즈로 반환합니다.\n",
        "def test_null_count_series(a):\n",
        "    return test_isnull(a).sum()\n",
        "\n",
        "# 데이터프레임의 공백 개수를 단일값으로 반환합니다.\n",
        "def test_null_count_val(a):\n",
        "    return test_null_count_series(a).sum()"
      ],
      "execution_count": null,
      "outputs": []
    },
    {
      "cell_type": "markdown",
      "metadata": {
        "id": "DPyeb2xu1CpL"
      },
      "source": [
        ""
      ]
    },
    {
      "cell_type": "code",
      "metadata": {
        "colab": {
          "base_uri": "https://localhost:8080/"
        },
        "id": "8roV8Fqoy639",
        "outputId": "9635e823-2113-4b95-a33a-0d8678e45ff7"
      },
      "source": [
        "dataframe14.apply(test_null_count_series)"
      ],
      "execution_count": null,
      "outputs": [
        {
          "data": {
            "text/plain": [
              "판매자    0\n",
              "포도     0\n",
              "사과     0\n",
              "배      0\n",
              "dtype: int64"
            ]
          },
          "execution_count": 593,
          "metadata": {},
          "output_type": "execute_result"
        }
      ]
    },
    {
      "cell_type": "code",
      "metadata": {
        "colab": {
          "base_uri": "https://localhost:8080/"
        },
        "id": "-Gp_a9yU09CU",
        "outputId": "626793a4-3e5f-4545-c8a5-8cf54a55acb1"
      },
      "source": [
        "dataframe14.pipe(test_null_count_val)"
      ],
      "execution_count": null,
      "outputs": [
        {
          "data": {
            "text/plain": [
              "0"
            ]
          },
          "execution_count": 594,
          "metadata": {},
          "output_type": "execute_result"
        }
      ]
    },
    {
      "cell_type": "markdown",
      "metadata": {
        "id": "lGQrptwFcRA7"
      },
      "source": [
        "기실 위 메서드 중에 가장 많이 사용하는 메서드는 `apply()`입니다. 다양한 형태로 값을 받을 수 있고 반환하는 형태도 넓기 때문입니다.\n",
        "\n",
        "위 메서드의 입력값과 출력값을 정리하면 아래와 같습니다.\n",
        "\n",
        "- `apply()`\n",
        "\n",
        " - 입력: 시리즈 원소   \n",
        " 출력값: 단일값, 시리즈\n",
        "\n",
        " - 입력: 시리즈 객체(데이터프레임 행 or 열)   \n",
        " 출력: 단일값, 시리즈, 데이터프레임\n",
        "\n",
        "- `applymap()`\n",
        "\n",
        " - 입력: 데이터프레임의 원소  \n",
        " 출력: 데이터프레임\n",
        "\n",
        "- `pipe()`\n",
        "\n",
        " - 입력: 데이터프레임 객체  \n",
        " 출력: 단일값, 시리즈, 데이터프레임"
      ]
    },
    {
      "cell_type": "markdown",
      "metadata": {
        "id": "Yr_IWfABFL3J"
      },
      "source": [
        "## **3.2. 필터링 하기**"
      ]
    },
    {
      "cell_type": "markdown",
      "metadata": {
        "id": "kqEDJ7Baf0Ws"
      },
      "source": [
        "특정한 조건식을 만족하는 원소만 따로 추출하겠습니다.\n",
        "\n",
        "먼저 불린 인덱싱(boolean indexing)입니다. 불린 인덱싱은 특정한 조건식에 대하여 각 원소에 부합하는지 참과 거짓으로 판별하고 `True`, `False`로 값을 얻습니다. 이 값들 중에 `True`에 해당하는 원소를 추출할 수 있습니다.\n",
        "\n",
        "먼저 예시에 사용할 데이터프레임을 가져오겠습니다. "
      ]
    },
    {
      "cell_type": "code",
      "metadata": {
        "colab": {
          "base_uri": "https://localhost:8080/",
          "height": 204
        },
        "id": "BS9OcKqVhmAc",
        "outputId": "8da75b35-3a81-4dce-f0c8-700831b1d1b8"
      },
      "source": [
        "dic_data5 = {'판매자': ['승원', '미경', '미니', '꼬맹', '거북'],\n",
        "             '사과': [332, 392, 391, 295, 374],\n",
        "             '배': [102, 99, 80, 30, 143],\n",
        "             '포도': [402, 497, 306, 681, 573]}\n",
        "col_list2 = ['판매자', '포도', '사과', '배']\n",
        "\n",
        "dataframe13 = pd.DataFrame(dic_data5, columns=col_list2)\n",
        "dataframe13"
      ],
      "execution_count": null,
      "outputs": [
        {
          "data": {
            "text/html": [
              "<div>\n",
              "<style scoped>\n",
              "    .dataframe tbody tr th:only-of-type {\n",
              "        vertical-align: middle;\n",
              "    }\n",
              "\n",
              "    .dataframe tbody tr th {\n",
              "        vertical-align: top;\n",
              "    }\n",
              "\n",
              "    .dataframe thead th {\n",
              "        text-align: right;\n",
              "    }\n",
              "</style>\n",
              "<table border=\"1\" class=\"dataframe\">\n",
              "  <thead>\n",
              "    <tr style=\"text-align: right;\">\n",
              "      <th></th>\n",
              "      <th>판매자</th>\n",
              "      <th>포도</th>\n",
              "      <th>사과</th>\n",
              "      <th>배</th>\n",
              "    </tr>\n",
              "  </thead>\n",
              "  <tbody>\n",
              "    <tr>\n",
              "      <th>0</th>\n",
              "      <td>승원</td>\n",
              "      <td>402</td>\n",
              "      <td>332</td>\n",
              "      <td>102</td>\n",
              "    </tr>\n",
              "    <tr>\n",
              "      <th>1</th>\n",
              "      <td>미경</td>\n",
              "      <td>497</td>\n",
              "      <td>392</td>\n",
              "      <td>99</td>\n",
              "    </tr>\n",
              "    <tr>\n",
              "      <th>2</th>\n",
              "      <td>미니</td>\n",
              "      <td>306</td>\n",
              "      <td>391</td>\n",
              "      <td>80</td>\n",
              "    </tr>\n",
              "    <tr>\n",
              "      <th>3</th>\n",
              "      <td>꼬맹</td>\n",
              "      <td>681</td>\n",
              "      <td>295</td>\n",
              "      <td>30</td>\n",
              "    </tr>\n",
              "    <tr>\n",
              "      <th>4</th>\n",
              "      <td>거북</td>\n",
              "      <td>573</td>\n",
              "      <td>374</td>\n",
              "      <td>143</td>\n",
              "    </tr>\n",
              "  </tbody>\n",
              "</table>\n",
              "</div>"
            ],
            "text/plain": [
              "  판매자   포도   사과    배\n",
              "0  승원  402  332  102\n",
              "1  미경  497  392   99\n",
              "2  미니  306  391   80\n",
              "3  꼬맹  681  295   30\n",
              "4  거북  573  374  143"
            ]
          },
          "execution_count": 595,
          "metadata": {},
          "output_type": "execute_result"
        }
      ]
    },
    {
      "cell_type": "markdown",
      "metadata": {
        "id": "tDdCJxPPjqcs"
      },
      "source": [
        "배를 50~100개만큼 판매한 판매자만 따로 추출하겠습니다."
      ]
    },
    {
      "cell_type": "code",
      "metadata": {
        "colab": {
          "base_uri": "https://localhost:8080/"
        },
        "id": "X_F2cdUwjzAh",
        "outputId": "b9ee2d03-2bd9-4894-a143-c08fb8bab6f2"
      },
      "source": [
        "dataframe13_bool1 = (dataframe13['배'] >= 50) & (dataframe13['배'] <= 100)\n",
        "dataframe13_bool1"
      ],
      "execution_count": null,
      "outputs": [
        {
          "data": {
            "text/plain": [
              "0    False\n",
              "1     True\n",
              "2     True\n",
              "3    False\n",
              "4    False\n",
              "Name: 배, dtype: bool"
            ]
          },
          "execution_count": 596,
          "metadata": {},
          "output_type": "execute_result"
        }
      ]
    },
    {
      "cell_type": "code",
      "metadata": {
        "colab": {
          "base_uri": "https://localhost:8080/"
        },
        "id": "ny3C6vj0pCIw",
        "outputId": "dedec787-becb-4c36-c153-960013edc0b2"
      },
      "source": [
        "dataframe13.loc[dataframe13_bool1, '판매자']"
      ],
      "execution_count": null,
      "outputs": [
        {
          "data": {
            "text/plain": [
              "1    미경\n",
              "2    미니\n",
              "Name: 판매자, dtype: object"
            ]
          },
          "execution_count": 597,
          "metadata": {},
          "output_type": "execute_result"
        }
      ]
    },
    {
      "cell_type": "markdown",
      "metadata": {
        "id": "vnmfkc6olGY4"
      },
      "source": [
        "데이터프레임 전체를 출력하려면 아래처럼 작성합니다."
      ]
    },
    {
      "cell_type": "code",
      "metadata": {
        "colab": {
          "base_uri": "https://localhost:8080/",
          "height": 111
        },
        "id": "eqsZJxpXlFLZ",
        "outputId": "a1fc5780-de64-45f6-c041-54e1e85657a7"
      },
      "source": [
        "# `dataframe13.loc[dataframe13_bool1, :]`도 가능합니다.\n",
        "dataframe13.loc[dataframe13_bool1]"
      ],
      "execution_count": null,
      "outputs": [
        {
          "data": {
            "text/html": [
              "<div>\n",
              "<style scoped>\n",
              "    .dataframe tbody tr th:only-of-type {\n",
              "        vertical-align: middle;\n",
              "    }\n",
              "\n",
              "    .dataframe tbody tr th {\n",
              "        vertical-align: top;\n",
              "    }\n",
              "\n",
              "    .dataframe thead th {\n",
              "        text-align: right;\n",
              "    }\n",
              "</style>\n",
              "<table border=\"1\" class=\"dataframe\">\n",
              "  <thead>\n",
              "    <tr style=\"text-align: right;\">\n",
              "      <th></th>\n",
              "      <th>판매자</th>\n",
              "      <th>포도</th>\n",
              "      <th>사과</th>\n",
              "      <th>배</th>\n",
              "    </tr>\n",
              "  </thead>\n",
              "  <tbody>\n",
              "    <tr>\n",
              "      <th>1</th>\n",
              "      <td>미경</td>\n",
              "      <td>497</td>\n",
              "      <td>392</td>\n",
              "      <td>99</td>\n",
              "    </tr>\n",
              "    <tr>\n",
              "      <th>2</th>\n",
              "      <td>미니</td>\n",
              "      <td>306</td>\n",
              "      <td>391</td>\n",
              "      <td>80</td>\n",
              "    </tr>\n",
              "  </tbody>\n",
              "</table>\n",
              "</div>"
            ],
            "text/plain": [
              "  판매자   포도   사과   배\n",
              "1  미경  497  392  99\n",
              "2  미니  306  391  80"
            ]
          },
          "execution_count": 598,
          "metadata": {},
          "output_type": "execute_result"
        }
      ]
    },
    {
      "cell_type": "markdown",
      "metadata": {
        "id": "j4jZibjLoRDl"
      },
      "source": [
        "포도 500개 이상을 판매했거나 사과 350개 이상을 판매한 판매자를 따로 추출하겠습니다."
      ]
    },
    {
      "cell_type": "code",
      "metadata": {
        "colab": {
          "background_save": true,
          "base_uri": "https://localhost:8080/"
        },
        "id": "Vx2XSPXGouPC",
        "outputId": "12de6c7b-68df-4aab-891a-2cd1a6d73e0a"
      },
      "source": [
        "dataframe13_bool2 = (dataframe13['포도'] >= 500) | (dataframe13['사과'] >= 350)\n",
        "dataframe13_bool2"
      ],
      "execution_count": null,
      "outputs": [
        {
          "data": {
            "text/plain": [
              "0    False\n",
              "1     True\n",
              "2     True\n",
              "3     True\n",
              "4     True\n",
              "dtype: bool"
            ]
          },
          "execution_count": null,
          "metadata": {},
          "output_type": "execute_result"
        }
      ]
    },
    {
      "cell_type": "code",
      "metadata": {
        "colab": {
          "background_save": true,
          "base_uri": "https://localhost:8080/"
        },
        "id": "aajxAZO3pPNR",
        "outputId": "38f917ad-7df5-40e2-f90d-9ce85da4c691"
      },
      "source": [
        "dataframe13.loc[dataframe13_bool2, '판매자']"
      ],
      "execution_count": null,
      "outputs": [
        {
          "data": {
            "text/plain": [
              "1    미경\n",
              "2    미니\n",
              "3    꼬맹\n",
              "4    거북\n",
              "Name: 판매자, dtype: object"
            ]
          },
          "execution_count": null,
          "metadata": {},
          "output_type": "execute_result"
        }
      ]
    },
    {
      "cell_type": "markdown",
      "metadata": {
        "id": "lOlDKYD2pjRH"
      },
      "source": [
        "이번에는 `isin()` 메서드를 사용하겠습니다. 이 메서드로 특정한 값을 가진 행을 추출할 수 있으며, OR(|)로 작동합니다. 포도가 306개이거나 573개인 행을 추출합니다."
      ]
    },
    {
      "cell_type": "code",
      "metadata": {
        "colab": {
          "background_save": true,
          "base_uri": "https://localhost:8080/",
          "height": 204
        },
        "id": "H4GoXLTGqVsp",
        "outputId": "94e431a4-9c20-47de-ce19-3ce9f089d55b"
      },
      "source": [
        "dataframe13"
      ],
      "execution_count": null,
      "outputs": [
        {
          "data": {
            "text/html": [
              "<div>\n",
              "<style scoped>\n",
              "    .dataframe tbody tr th:only-of-type {\n",
              "        vertical-align: middle;\n",
              "    }\n",
              "\n",
              "    .dataframe tbody tr th {\n",
              "        vertical-align: top;\n",
              "    }\n",
              "\n",
              "    .dataframe thead th {\n",
              "        text-align: right;\n",
              "    }\n",
              "</style>\n",
              "<table border=\"1\" class=\"dataframe\">\n",
              "  <thead>\n",
              "    <tr style=\"text-align: right;\">\n",
              "      <th></th>\n",
              "      <th>판매자</th>\n",
              "      <th>포도</th>\n",
              "      <th>사과</th>\n",
              "      <th>배</th>\n",
              "    </tr>\n",
              "  </thead>\n",
              "  <tbody>\n",
              "    <tr>\n",
              "      <th>0</th>\n",
              "      <td>승원</td>\n",
              "      <td>402</td>\n",
              "      <td>332</td>\n",
              "      <td>102</td>\n",
              "    </tr>\n",
              "    <tr>\n",
              "      <th>1</th>\n",
              "      <td>미경</td>\n",
              "      <td>497</td>\n",
              "      <td>392</td>\n",
              "      <td>99</td>\n",
              "    </tr>\n",
              "    <tr>\n",
              "      <th>2</th>\n",
              "      <td>미니</td>\n",
              "      <td>306</td>\n",
              "      <td>391</td>\n",
              "      <td>80</td>\n",
              "    </tr>\n",
              "    <tr>\n",
              "      <th>3</th>\n",
              "      <td>꼬맹</td>\n",
              "      <td>681</td>\n",
              "      <td>295</td>\n",
              "      <td>30</td>\n",
              "    </tr>\n",
              "    <tr>\n",
              "      <th>4</th>\n",
              "      <td>거북</td>\n",
              "      <td>573</td>\n",
              "      <td>374</td>\n",
              "      <td>143</td>\n",
              "    </tr>\n",
              "  </tbody>\n",
              "</table>\n",
              "</div>"
            ],
            "text/plain": [
              "  판매자   포도   사과    배\n",
              "0  승원  402  332  102\n",
              "1  미경  497  392   99\n",
              "2  미니  306  391   80\n",
              "3  꼬맹  681  295   30\n",
              "4  거북  573  374  143"
            ]
          },
          "execution_count": null,
          "metadata": {},
          "output_type": "execute_result"
        }
      ]
    },
    {
      "cell_type": "code",
      "metadata": {
        "colab": {
          "background_save": true,
          "base_uri": "https://localhost:8080/"
        },
        "id": "N-YUKoIAqyIN",
        "outputId": "6a6437a5-ab3d-4fd5-c9f1-ea6a9505c897"
      },
      "source": [
        "dataframe13_bool3 = dataframe13['포도'].isin([306, 573])\n",
        "dataframe13_bool3"
      ],
      "execution_count": null,
      "outputs": [
        {
          "data": {
            "text/plain": [
              "0    False\n",
              "1    False\n",
              "2     True\n",
              "3    False\n",
              "4     True\n",
              "Name: 포도, dtype: bool"
            ]
          },
          "execution_count": null,
          "metadata": {},
          "output_type": "execute_result"
        }
      ]
    },
    {
      "cell_type": "code",
      "metadata": {
        "colab": {
          "background_save": true,
          "base_uri": "https://localhost:8080/",
          "height": 111
        },
        "id": "Qf1nAtWdrZWk",
        "outputId": "2019e94f-36cd-41a7-8139-9e1c4bca3fba"
      },
      "source": [
        "dataframe13[dataframe13_bool3]"
      ],
      "execution_count": null,
      "outputs": [
        {
          "data": {
            "text/html": [
              "<div>\n",
              "<style scoped>\n",
              "    .dataframe tbody tr th:only-of-type {\n",
              "        vertical-align: middle;\n",
              "    }\n",
              "\n",
              "    .dataframe tbody tr th {\n",
              "        vertical-align: top;\n",
              "    }\n",
              "\n",
              "    .dataframe thead th {\n",
              "        text-align: right;\n",
              "    }\n",
              "</style>\n",
              "<table border=\"1\" class=\"dataframe\">\n",
              "  <thead>\n",
              "    <tr style=\"text-align: right;\">\n",
              "      <th></th>\n",
              "      <th>판매자</th>\n",
              "      <th>포도</th>\n",
              "      <th>사과</th>\n",
              "      <th>배</th>\n",
              "    </tr>\n",
              "  </thead>\n",
              "  <tbody>\n",
              "    <tr>\n",
              "      <th>2</th>\n",
              "      <td>미니</td>\n",
              "      <td>306</td>\n",
              "      <td>391</td>\n",
              "      <td>80</td>\n",
              "    </tr>\n",
              "    <tr>\n",
              "      <th>4</th>\n",
              "      <td>거북</td>\n",
              "      <td>573</td>\n",
              "      <td>374</td>\n",
              "      <td>143</td>\n",
              "    </tr>\n",
              "  </tbody>\n",
              "</table>\n",
              "</div>"
            ],
            "text/plain": [
              "  판매자   포도   사과    배\n",
              "2  미니  306  391   80\n",
              "4  거북  573  374  143"
            ]
          },
          "execution_count": null,
          "metadata": {},
          "output_type": "execute_result"
        }
      ]
    },
    {
      "cell_type": "markdown",
      "metadata": {
        "id": "R7E5CpCGFRAK"
      },
      "source": [
        "## **3.3. 그룹 연산 하기**"
      ]
    },
    {
      "cell_type": "markdown",
      "metadata": {
        "id": "kGPJxjiZGh9a"
      },
      "source": [
        "## **3.4. 피벗 활용하기**"
      ]
    }
  ]
}