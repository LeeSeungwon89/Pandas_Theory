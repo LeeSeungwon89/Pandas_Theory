{
  "nbformat": 4,
  "nbformat_minor": 0,
  "metadata": {
    "colab": {
      "name": "2. 데이터를 다루기 위한 파이썬 패키지.ipynb",
      "provenance": [],
      "collapsed_sections": [],
      "toc_visible": true,
      "authorship_tag": "ABX9TyOqMXtvf06Mi7D3KRs0celc",
      "include_colab_link": true
    },
    "kernelspec": {
      "name": "python3",
      "display_name": "Python 3"
    },
    "language_info": {
      "name": "python"
    }
  },
  "cells": [
    {
      "cell_type": "markdown",
      "metadata": {
        "id": "view-in-github",
        "colab_type": "text"
      },
      "source": [
        "<a href=\"https://colab.research.google.com/github/LeeSeungwon89/Python_for_Data_Analytics_Science/blob/main/2.%20%EB%8D%B0%EC%9D%B4%ED%84%B0%EB%A5%BC%20%EB%8B%A4%EB%A3%A8%EA%B8%B0%20%EC%9C%84%ED%95%9C%20%ED%8C%8C%EC%9D%B4%EC%8D%AC%20%ED%8C%A8%ED%82%A4%EC%A7%80.ipynb\" target=\"_parent\"><img src=\"https://colab.research.google.com/assets/colab-badge.svg\" alt=\"Open In Colab\"/></a>"
      ]
    },
    {
      "cell_type": "markdown",
      "metadata": {
        "id": "SMUQKDwrmEFa"
      },
      "source": [
        "# **1. Numpy**"
      ]
    },
    {
      "cell_type": "markdown",
      "metadata": {
        "id": "WxDwjUmB1-K5"
      },
      "source": [
        "넘파이는 데이터를 다루는 데 필수적인 패키지입니다. 과학적인 연산을 빠르고 쉽게 해줍니다. 아래에는 몇 가지 내용만 정리하겠습니다. 이외 구체적인 정보는 [넘파이 홈페이지](https://www.numpy.org)에 정리되어 있습니다."
      ]
    },
    {
      "cell_type": "markdown",
      "metadata": {
        "id": "zZRYD1Qn5iHF"
      },
      "source": [
        "## **1.1. 배열 만들기**"
      ]
    },
    {
      "cell_type": "markdown",
      "metadata": {
        "id": "96WyF1wW5n3b"
      },
      "source": [
        "배열을 만드는 방법은 여러가지가 있습니다. \n",
        "\n",
        "아래에서 예시로 설명하겠습니다. 먼저 시퀀스 데이터를 인자로 받고 배열 객체를 생성하는 방법입니다."
      ]
    },
    {
      "cell_type": "code",
      "metadata": {
        "colab": {
          "base_uri": "https://localhost:8080/"
        },
        "id": "rs7Ij00e5-sX",
        "outputId": "488ddb69-28cc-48d4-fba7-122559848bed"
      },
      "source": [
        "import numpy as np\n",
        "\n",
        "# 튜플도 가능하지만 주로 리스트를 사용합니다.\n",
        "# 정수만으로 구성된 리스트입니다.\n",
        "list_int = [0, 1, 2, 3, 4]\n",
        "np_int = np.array(list_int)\n",
        "print(np_int)\n",
        "np_int"
      ],
      "execution_count": 6,
      "outputs": [
        {
          "output_type": "stream",
          "name": "stdout",
          "text": [
            "[0 1 2 3 4]\n"
          ]
        },
        {
          "output_type": "execute_result",
          "data": {
            "text/plain": [
              "array([0, 1, 2, 3, 4])"
            ]
          },
          "metadata": {},
          "execution_count": 6
        }
      ]
    },
    {
      "cell_type": "markdown",
      "metadata": {
        "id": "WyEeeBmk9EzL"
      },
      "source": [
        "배열 속성을 확인합니다."
      ]
    },
    {
      "cell_type": "code",
      "metadata": {
        "colab": {
          "base_uri": "https://localhost:8080/"
        },
        "id": "xEzsW4yz9GiR",
        "outputId": "08c7b544-3ed6-4b57-9a71-709b9f0054bf"
      },
      "source": [
        "np_int.dtype"
      ],
      "execution_count": 14,
      "outputs": [
        {
          "output_type": "execute_result",
          "data": {
            "text/plain": [
              "dtype('int64')"
            ]
          },
          "metadata": {},
          "execution_count": 14
        }
      ]
    },
    {
      "cell_type": "markdown",
      "metadata": {
        "id": "lwqqL-mm6jfX"
      },
      "source": [
        "정수와 실수를 함께 포함시켜서 만들겠습니다. 이렇게 하면 모든 원소를 실수 형태로 출력합니다."
      ]
    },
    {
      "cell_type": "code",
      "metadata": {
        "colab": {
          "base_uri": "https://localhost:8080/"
        },
        "id": "X4eW5VEe6q4X",
        "outputId": "c45e6269-ea14-4b6e-8f82-cb30df96e182"
      },
      "source": [
        "list_combi = [0, 1.2, 3, 4.56, 7]\n",
        "np_combi = np.array(list_combi)\n",
        "np_combi"
      ],
      "execution_count": 15,
      "outputs": [
        {
          "output_type": "execute_result",
          "data": {
            "text/plain": [
              "array([0.  , 1.2 , 3.  , 4.56, 7.  ])"
            ]
          },
          "metadata": {},
          "execution_count": 15
        }
      ]
    },
    {
      "cell_type": "markdown",
      "metadata": {
        "id": "r_FYkDMs8-vl"
      },
      "source": [
        "배열 속성을 확인합니다."
      ]
    },
    {
      "cell_type": "code",
      "metadata": {
        "colab": {
          "base_uri": "https://localhost:8080/"
        },
        "id": "xQ0ZBbu-9Cz0",
        "outputId": "c1ad8f77-60cc-4664-f69a-81e9c1f3f1e7"
      },
      "source": [
        "np_combi.dtype"
      ],
      "execution_count": 13,
      "outputs": [
        {
          "output_type": "execute_result",
          "data": {
            "text/plain": [
              "dtype('float64')"
            ]
          },
          "metadata": {},
          "execution_count": 13
        }
      ]
    },
    {
      "cell_type": "markdown",
      "metadata": {
        "id": "gMHESu-18h1J"
      },
      "source": [
        "문자를 함께 포함시키겠습니다. 이렇게 하면 모든 원소를 문자로 간주하게 됩니다."
      ]
    },
    {
      "cell_type": "code",
      "metadata": {
        "colab": {
          "base_uri": "https://localhost:8080/"
        },
        "id": "vUBdmeYE8gOA",
        "outputId": "c5506094-0b93-4760-ffbd-80da9ba10616"
      },
      "source": [
        "list_str = [0, '일', 2.3, '사']\n",
        "np_str = np.array(list_str)\n",
        "np_str"
      ],
      "execution_count": 11,
      "outputs": [
        {
          "output_type": "execute_result",
          "data": {
            "text/plain": [
              "array(['0', '일', '2.3', '사'], dtype='<U21')"
            ]
          },
          "metadata": {},
          "execution_count": 11
        }
      ]
    },
    {
      "cell_type": "markdown",
      "metadata": {
        "id": "fy6lpxKR9MIC"
      },
      "source": [
        "배열 속성을 확인합니다. '<U21'는 유니코드 문자열을 의미합니다. 여기서 '21'은 문자 수가 최대 21개라는 점을 의미합니다."
      ]
    },
    {
      "cell_type": "code",
      "metadata": {
        "colab": {
          "base_uri": "https://localhost:8080/"
        },
        "id": "bM1LhHFG8JCz",
        "outputId": "97f76207-7ba4-42c4-9ff2-3f5fe9bd2594"
      },
      "source": [
        "np_str.dtype"
      ],
      "execution_count": 16,
      "outputs": [
        {
          "output_type": "execute_result",
          "data": {
            "text/plain": [
              "dtype('<U21')"
            ]
          },
          "metadata": {},
          "execution_count": 16
        }
      ]
    },
    {
      "cell_type": "markdown",
      "metadata": {
        "id": "nTYoJUke92Em"
      },
      "source": [
        "`np.array(리스트)` 형식으로 바로 배열 객체를 만들 수도 있습니다."
      ]
    },
    {
      "cell_type": "code",
      "metadata": {
        "colab": {
          "base_uri": "https://localhost:8080/"
        },
        "id": "gHNJFAuc-DqO",
        "outputId": "2effa442-8112-43e8-ba3e-7cb41af55daf"
      },
      "source": [
        "np_direct1 = np.array([0, 1, 2, 3, 4])\n",
        "np_direct1"
      ],
      "execution_count": 17,
      "outputs": [
        {
          "output_type": "execute_result",
          "data": {
            "text/plain": [
              "array([0, 1, 2, 3, 4])"
            ]
          },
          "metadata": {},
          "execution_count": 17
        }
      ]
    },
    {
      "cell_type": "code",
      "metadata": {
        "colab": {
          "base_uri": "https://localhost:8080/"
        },
        "id": "4w-ozdZ8-QyI",
        "outputId": "30c4cc15-3427-4cd5-ae02-5f28beba637a"
      },
      "source": [
        "np_direct2 = np.array([[0, 1, 2], [3, 4, 5], [6, 7, 8]])\n",
        "np_direct2"
      ],
      "execution_count": 19,
      "outputs": [
        {
          "output_type": "execute_result",
          "data": {
            "text/plain": [
              "array([[0, 1, 2],\n",
              "       [3, 4, 5],\n",
              "       [6, 7, 8]])"
            ]
          },
          "metadata": {},
          "execution_count": 19
        }
      ]
    },
    {
      "cell_type": "markdown",
      "metadata": {
        "id": "3yX-jv7jAY5N"
      },
      "source": [
        "범위를 지정해서 배열을 만들 수 있습니다. 파이썬 `range()` 함수와 유사하게 넘파이는 `arange()` 함수를 사용합니다."
      ]
    },
    {
      "cell_type": "code",
      "metadata": {
        "colab": {
          "base_uri": "https://localhost:8080/"
        },
        "id": "KCCfdRmuArfb",
        "outputId": "160c4eeb-ef30-4a3a-9bc4-1c41f46d57a4"
      },
      "source": [
        "np.arange(0, 10, 2)"
      ],
      "execution_count": 20,
      "outputs": [
        {
          "output_type": "execute_result",
          "data": {
            "text/plain": [
              "array([0, 2, 4, 6, 8])"
            ]
          },
          "metadata": {},
          "execution_count": 20
        }
      ]
    },
    {
      "cell_type": "code",
      "metadata": {
        "colab": {
          "base_uri": "https://localhost:8080/"
        },
        "id": "uwkZkKouAyrI",
        "outputId": "37feb9c8-2349-4962-e283-c5a21e156b4b"
      },
      "source": [
        "np.arange(0, 10)"
      ],
      "execution_count": 21,
      "outputs": [
        {
          "output_type": "execute_result",
          "data": {
            "text/plain": [
              "array([0, 1, 2, 3, 4, 5, 6, 7, 8, 9])"
            ]
          },
          "metadata": {},
          "execution_count": 21
        }
      ]
    },
    {
      "cell_type": "code",
      "metadata": {
        "colab": {
          "base_uri": "https://localhost:8080/"
        },
        "id": "FJJElwB1A1or",
        "outputId": "22b9919a-50b7-40fd-a1da-abf57251b18e"
      },
      "source": [
        "np.arange(10)"
      ],
      "execution_count": 22,
      "outputs": [
        {
          "output_type": "execute_result",
          "data": {
            "text/plain": [
              "array([0, 1, 2, 3, 4, 5, 6, 7, 8, 9])"
            ]
          },
          "metadata": {},
          "execution_count": 22
        }
      ]
    },
    {
      "cell_type": "markdown",
      "metadata": {
        "id": "jb1HbQmfBAq9"
      },
      "source": [
        "`arange()` 함수에 `reshape()` 함수를 더하면 행렬 형태로 변경할 수 있습니다."
      ]
    },
    {
      "cell_type": "code",
      "metadata": {
        "colab": {
          "base_uri": "https://localhost:8080/"
        },
        "id": "RLjuGEx_BKmM",
        "outputId": "ef36d03c-3b33-4d3f-d35c-c2008d924615"
      },
      "source": [
        "np.arange(8).reshape(4, 2)"
      ],
      "execution_count": 27,
      "outputs": [
        {
          "output_type": "execute_result",
          "data": {
            "text/plain": [
              "array([[0, 1],\n",
              "       [2, 3],\n",
              "       [4, 5],\n",
              "       [6, 7]])"
            ]
          },
          "metadata": {},
          "execution_count": 27
        }
      ]
    },
    {
      "cell_type": "markdown",
      "metadata": {
        "id": "QnjKCE3GBg5X"
      },
      "source": [
        "배열 형태를 확인하겠습니다. 참고로 1차원 배열은 `(원소 개수,)` 형태로 출력됩니다. 예컨대 원소 개수가 34개라면 `(34,)`로 출력됩니다."
      ]
    },
    {
      "cell_type": "code",
      "metadata": {
        "colab": {
          "base_uri": "https://localhost:8080/"
        },
        "id": "2JEHpo3ABlet",
        "outputId": "1553eb1a-d0ff-42b0-daf1-26dd914a3070"
      },
      "source": [
        "np_reshape = np.arange(8).reshape(4, 2)\n",
        "np_reshape.shape"
      ],
      "execution_count": 28,
      "outputs": [
        {
          "output_type": "execute_result",
          "data": {
            "text/plain": [
              "(4, 2)"
            ]
          },
          "metadata": {},
          "execution_count": 28
        }
      ]
    },
    {
      "cell_type": "markdown",
      "metadata": {
        "id": "nP3tiwWXFEOw"
      },
      "source": [
        "`linspace()` 함수를 사용하면 지정한 데이터 개수에 따라 배열을 만듭니다. 0부터 10까지 20개만큼 데이터를 만들겠습니다."
      ]
    },
    {
      "cell_type": "code",
      "metadata": {
        "colab": {
          "base_uri": "https://localhost:8080/"
        },
        "id": "hbalMFYRFMPb",
        "outputId": "eff93eab-ee45-498c-ad5d-62e35cadefcf"
      },
      "source": [
        "np.linspace(0, 10, 20)"
      ],
      "execution_count": 35,
      "outputs": [
        {
          "output_type": "execute_result",
          "data": {
            "text/plain": [
              "array([ 0.        ,  0.52631579,  1.05263158,  1.57894737,  2.10526316,\n",
              "        2.63157895,  3.15789474,  3.68421053,  4.21052632,  4.73684211,\n",
              "        5.26315789,  5.78947368,  6.31578947,  6.84210526,  7.36842105,\n",
              "        7.89473684,  8.42105263,  8.94736842,  9.47368421, 10.        ])"
            ]
          },
          "metadata": {},
          "execution_count": 35
        }
      ]
    },
    {
      "cell_type": "markdown",
      "metadata": {
        "id": "SJQCy03NF5p-"
      },
      "source": [
        "`zeros()` 함수는 0으로만 이루어진 배열을 만듭니다. `ones()` 함수는 1로만 이루어진 배열을 만듭니다. 사용법은 동일합니다."
      ]
    },
    {
      "cell_type": "code",
      "metadata": {
        "colab": {
          "base_uri": "https://localhost:8080/"
        },
        "id": "iz555Vl-GG1B",
        "outputId": "7e689f53-7da9-4e13-aeb4-470bedee975f"
      },
      "source": [
        "zeros_1 = np.zeros(5)\n",
        "print(zeros_1)\n",
        "print()\n",
        "# 2차원 배열을 만들려면 괄호로 한 번 더 묶어야 합니다.\n",
        "ones_2 = np.ones((5, 2))\n",
        "print(ones_2)"
      ],
      "execution_count": 42,
      "outputs": [
        {
          "output_type": "stream",
          "name": "stdout",
          "text": [
            "[0. 0. 0. 0. 0.]\n",
            "\n",
            "[[1. 1.]\n",
            " [1. 1.]\n",
            " [1. 1.]\n",
            " [1. 1.]\n",
            " [1. 1.]]\n"
          ]
        }
      ]
    },
    {
      "cell_type": "markdown",
      "metadata": {
        "id": "jiCJmFR8Gn97"
      },
      "source": [
        "`eye()` 함수는 단위행렬(Identity matrix)을 만듭니다. "
      ]
    },
    {
      "cell_type": "code",
      "metadata": {
        "colab": {
          "base_uri": "https://localhost:8080/"
        },
        "id": "BpfO1DUWGxye",
        "outputId": "f017c7d0-c546-442a-cea4-4188c89acef4"
      },
      "source": [
        "np.eye(5)"
      ],
      "execution_count": 43,
      "outputs": [
        {
          "output_type": "execute_result",
          "data": {
            "text/plain": [
              "array([[1., 0., 0., 0., 0.],\n",
              "       [0., 1., 0., 0., 0.],\n",
              "       [0., 0., 1., 0., 0.],\n",
              "       [0., 0., 0., 1., 0.],\n",
              "       [0., 0., 0., 0., 1.]])"
            ]
          },
          "metadata": {},
          "execution_count": 43
        }
      ]
    },
    {
      "cell_type": "markdown",
      "metadata": {
        "id": "63EwvedCHia0"
      },
      "source": [
        "`rand()` 함수와 `randint()` 함수는 각각 실수 난수와 정수 난수를 생성합니다. "
      ]
    },
    {
      "cell_type": "code",
      "metadata": {
        "colab": {
          "base_uri": "https://localhost:8080/"
        },
        "id": "ht2qcbhLH1aD",
        "outputId": "ca61fbf0-4d0f-4fbf-e043-c6bd8ae924af"
      },
      "source": [
        "rand1 = np.random.rand()\n",
        "print(rand1)\n",
        "print()\n",
        "# 2 x 4 배열을 생성합니다.\n",
        "rand2 = np.random.rand(2, 4)\n",
        "print(rand2)\n",
        "print()\n",
        "# 3차원 배열을 생성합니다.\n",
        "rand3 = np.random.rand(2, 4, 6)\n",
        "print(rand3)"
      ],
      "execution_count": 69,
      "outputs": [
        {
          "output_type": "stream",
          "name": "stdout",
          "text": [
            "0.19884466579499527\n",
            "\n",
            "[[0.65642217 0.18369044 0.60376356 0.01738299]\n",
            " [0.89602552 0.97285124 0.70748589 0.06241116]]\n",
            "\n",
            "[[[0.76690136 0.77666579 0.04057743 0.75138673 0.14797778 0.78578186]\n",
            "  [0.21363732 0.94565255 0.91026044 0.55706883 0.93916511 0.83596065]\n",
            "  [0.47787946 0.33234798 0.44733385 0.78318784 0.54010196 0.66069829]\n",
            "  [0.31374326 0.65819112 0.1753725  0.28124383 0.89746533 0.50984071]]\n",
            "\n",
            " [[0.63820608 0.8299006  0.16534547 0.74723002 0.23724899 0.19903946]\n",
            "  [0.24458734 0.47748053 0.29101498 0.05998284 0.35000939 0.38461406]\n",
            "  [0.31296745 0.75577557 0.63172866 0.66319998 0.58316396 0.10401554]\n",
            "  [0.43270658 0.5321851  0.04041258 0.03075386 0.2558525  0.12999194]]]\n"
          ]
        }
      ]
    },
    {
      "cell_type": "code",
      "metadata": {
        "colab": {
          "base_uri": "https://localhost:8080/"
        },
        "id": "l8L4vDYMJHtf",
        "outputId": "f573c54b-36dc-4db0-8857-f9f485125d42"
      },
      "source": [
        "# 5~10 사이의 정수 난수를 생성합니다.\n",
        "randint1 = np.random.randint(5, 10)\n",
        "print(randint1)\n",
        "print()\n",
        "# 0 ~ 10 사이의 정수 난수를 2 x 5 배열로 생성합니다.\n",
        "randint2 = np.random.randint(10, size=(2, 5))\n",
        "print(randint2)\n",
        "print()\n",
        "# 0 ~ 12 사이의 정수 난수를 3차원 배열로 생성합니다.\n",
        "randint3 = np.random.randint(12, size=(3, 2, 5))\n",
        "print(randint3)"
      ],
      "execution_count": 77,
      "outputs": [
        {
          "output_type": "stream",
          "name": "stdout",
          "text": [
            "7\n",
            "\n",
            "[[4 8 8 3 2]\n",
            " [8 8 5 7 4]]\n",
            "\n",
            "[[[ 0  3 10 10 10]\n",
            "  [ 7  1  5  8 11]]\n",
            "\n",
            " [[ 0  1 11 10  7]\n",
            "  [ 1  0  1 10 11]]\n",
            "\n",
            " [[ 7  4 11 10 10]\n",
            "  [ 6  5  1  6  8]]]\n"
          ]
        }
      ]
    },
    {
      "cell_type": "markdown",
      "metadata": {
        "id": "ceD5HVSLHV1D"
      },
      "source": [
        "## **1.2. 배열 타입 변환하기**"
      ]
    },
    {
      "cell_type": "markdown",
      "metadata": {
        "id": "Lm0l-YX5K6u2"
      },
      "source": [
        "넘파이 데이터의 형식은 아래와 같습니다.\n",
        "\n",
        "- 'i': 기호를 가진 정수(signed integer)\n",
        "\n",
        "- 'u': 기호가 없는 정수(unsigned integer)\n",
        "\n",
        "- 'f': 실수(floating-point)\n",
        "\n",
        "- 'c': 복소수(complex-floating point)\n",
        "\n",
        "- 'b': 불(bool)\n",
        "\n",
        "- 'O': 파이썬 객체(object)\n",
        "\n",
        "- 'U': 유니코드(unicode)\n",
        "\n",
        "- 'S' or 'a': 바이트 문자열(string)\n",
        "\n",
        "- 'M': 날짜(datetime)"
      ]
    },
    {
      "cell_type": "markdown",
      "metadata": {
        "id": "V0CDlVJlMDoL"
      },
      "source": [
        "`astype()` 함수를 사용하여 배열 타입(형)을 바꿀 수 있습니다. `astype()` 함수에 인자로 `int`(정수형), `float`(실수형), `str`(문자형) 중에 하나를 넣고 배열 형을 변환합니다."
      ]
    },
    {
      "cell_type": "code",
      "metadata": {
        "colab": {
          "base_uri": "https://localhost:8080/"
        },
        "id": "hcnO1oK6K5p5",
        "outputId": "a045aa3a-95f0-4089-bccc-ed78479bdcf0"
      },
      "source": [
        "np_str = np.array(['0.1', '2', '3.45', '6.7'])\n",
        "print(f'np_str의 타입은 {np_str.dtype}')\n",
        "# 실수 타입으로 변환합니다.\n",
        "np_astype_float = np_str.astype(float)\n",
        "print(f'np_astype_float의 타입은 {np_astype_float.dtype}')\n",
        "# 정수 타입으로 변환합니다. \n",
        "np_astype_int = np_astype_float.astype(int)\n",
        "print(f'np_astype_int의 타입은 {np_astype_int.dtype}, 원소는 {np_astype_int}')"
      ],
      "execution_count": 96,
      "outputs": [
        {
          "output_type": "stream",
          "name": "stdout",
          "text": [
            "np_str의 타입은 <U4\n",
            "np_astype_float의 타입은 float64\n",
            "np_astype_int의 타입은 int64, 원소는 [0 2 3 6]\n"
          ]
        }
      ]
    },
    {
      "cell_type": "markdown",
      "metadata": {
        "id": "MTKkSsjI_EMf"
      },
      "source": [
        "## **1.3. 배열 연산하기**"
      ]
    },
    {
      "cell_type": "markdown",
      "metadata": {
        "id": "ecT7htwK_H5z"
      },
      "source": [
        "## **1.4. 배열 인덱싱 하기**"
      ]
    },
    {
      "cell_type": "markdown",
      "metadata": {
        "id": "W9gI4BsD_OuX"
      },
      "source": [
        "## **1.5. 배열 슬라이싱 하기**"
      ]
    },
    {
      "cell_type": "markdown",
      "metadata": {
        "id": "60mywIYlmEI8"
      },
      "source": [
        "# **2. Pandas**"
      ]
    }
  ]
}