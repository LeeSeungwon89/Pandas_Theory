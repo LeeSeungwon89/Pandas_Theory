{
  "nbformat": 4,
  "nbformat_minor": 0,
  "metadata": {
    "colab": {
      "name": "2. 데이터를 다루기 위한 파이썬 패키지.ipynb",
      "provenance": [],
      "collapsed_sections": [],
      "toc_visible": true,
      "authorship_tag": "ABX9TyPBp+9H7VSp3kUa6DQA1zT/",
      "include_colab_link": true
    },
    "kernelspec": {
      "name": "python3",
      "display_name": "Python 3"
    },
    "language_info": {
      "name": "python"
    }
  },
  "cells": [
    {
      "cell_type": "markdown",
      "metadata": {
        "id": "view-in-github",
        "colab_type": "text"
      },
      "source": [
        "<a href=\"https://colab.research.google.com/github/LeeSeungwon89/Python_for_Data_Analytics_Science/blob/main/2.%20%EB%8D%B0%EC%9D%B4%ED%84%B0%EB%A5%BC%20%EB%8B%A4%EB%A3%A8%EA%B8%B0%20%EC%9C%84%ED%95%9C%20%ED%8C%8C%EC%9D%B4%EC%8D%AC%20%ED%8C%A8%ED%82%A4%EC%A7%80.ipynb\" target=\"_parent\"><img src=\"https://colab.research.google.com/assets/colab-badge.svg\" alt=\"Open In Colab\"/></a>"
      ]
    },
    {
      "cell_type": "markdown",
      "metadata": {
        "id": "SMUQKDwrmEFa"
      },
      "source": [
        "# **1. Numpy**"
      ]
    },
    {
      "cell_type": "markdown",
      "metadata": {
        "id": "WxDwjUmB1-K5"
      },
      "source": [
        "넘파이는 데이터를 다루는 데 필수적인 패키지입니다. 과학적인 연산을 빠르고 쉽게 해줍니다. 아래에는 몇 가지 내용만 정리하겠습니다. 이외 구체적인 정보는 [넘파이 홈페이지](https://www.numpy.org)에 정리되어 있습니다."
      ]
    },
    {
      "cell_type": "markdown",
      "metadata": {
        "id": "zZRYD1Qn5iHF"
      },
      "source": [
        "## **1.1. 배열 만들기**"
      ]
    },
    {
      "cell_type": "markdown",
      "metadata": {
        "id": "96WyF1wW5n3b"
      },
      "source": [
        "배열을 만드는 방법은 여러가지가 있습니다. \n",
        "\n",
        "아래에서 예시로 설명하겠습니다. 먼저 시퀀스 데이터를 인자로 받고 배열 객체를 생성하는 방법입니다."
      ]
    },
    {
      "cell_type": "code",
      "metadata": {
        "colab": {
          "base_uri": "https://localhost:8080/"
        },
        "id": "rs7Ij00e5-sX",
        "outputId": "6867ed2a-1685-4c94-b2f4-2c8b8e670654"
      },
      "source": [
        "import numpy as np\n",
        "# 튜플도 가능하지만 주로 리스트를 사용합니다.\n",
        "# 정수만으로 구성된 리스트입니다.\n",
        "list_int = [0, 1, 2, 3, 4]\n",
        "np_int = np.array(list_int)\n",
        "print(np_int)\n",
        "np_int"
      ],
      "execution_count": 1,
      "outputs": [
        {
          "output_type": "stream",
          "name": "stdout",
          "text": [
            "[0 1 2 3 4]\n"
          ]
        },
        {
          "output_type": "execute_result",
          "data": {
            "text/plain": [
              "array([0, 1, 2, 3, 4])"
            ]
          },
          "metadata": {},
          "execution_count": 1
        }
      ]
    },
    {
      "cell_type": "markdown",
      "metadata": {
        "id": "WyEeeBmk9EzL"
      },
      "source": [
        "배열 속성을 확인합니다."
      ]
    },
    {
      "cell_type": "code",
      "metadata": {
        "colab": {
          "base_uri": "https://localhost:8080/"
        },
        "id": "xEzsW4yz9GiR",
        "outputId": "70659aca-7182-4cce-c244-69bd5bf58022"
      },
      "source": [
        "np_int.dtype"
      ],
      "execution_count": 2,
      "outputs": [
        {
          "output_type": "execute_result",
          "data": {
            "text/plain": [
              "dtype('int64')"
            ]
          },
          "metadata": {},
          "execution_count": 2
        }
      ]
    },
    {
      "cell_type": "markdown",
      "metadata": {
        "id": "lwqqL-mm6jfX"
      },
      "source": [
        "정수와 실수를 함께 포함시켜서 만들겠습니다. 이렇게 하면 모든 원소를 실수 형태로 출력합니다."
      ]
    },
    {
      "cell_type": "code",
      "metadata": {
        "colab": {
          "base_uri": "https://localhost:8080/"
        },
        "id": "X4eW5VEe6q4X",
        "outputId": "16c16ca3-a781-4937-9b66-4bc77a0eabfa"
      },
      "source": [
        "list_combi = [0, 1.2, 3, 4.56, 7]\n",
        "np_combi = np.array(list_combi)\n",
        "np_combi"
      ],
      "execution_count": 3,
      "outputs": [
        {
          "output_type": "execute_result",
          "data": {
            "text/plain": [
              "array([0.  , 1.2 , 3.  , 4.56, 7.  ])"
            ]
          },
          "metadata": {},
          "execution_count": 3
        }
      ]
    },
    {
      "cell_type": "markdown",
      "metadata": {
        "id": "r_FYkDMs8-vl"
      },
      "source": [
        "배열 속성을 확인합니다."
      ]
    },
    {
      "cell_type": "code",
      "metadata": {
        "colab": {
          "base_uri": "https://localhost:8080/"
        },
        "id": "xQ0ZBbu-9Cz0",
        "outputId": "251b56ee-8ae5-4836-a520-8ce8b743c8bd"
      },
      "source": [
        "np_combi.dtype"
      ],
      "execution_count": 4,
      "outputs": [
        {
          "output_type": "execute_result",
          "data": {
            "text/plain": [
              "dtype('float64')"
            ]
          },
          "metadata": {},
          "execution_count": 4
        }
      ]
    },
    {
      "cell_type": "markdown",
      "metadata": {
        "id": "gMHESu-18h1J"
      },
      "source": [
        "문자를 함께 포함시키겠습니다. 이렇게 하면 모든 원소를 문자로 간주하게 됩니다."
      ]
    },
    {
      "cell_type": "code",
      "metadata": {
        "colab": {
          "base_uri": "https://localhost:8080/"
        },
        "id": "vUBdmeYE8gOA",
        "outputId": "4e688fe3-de20-4625-885d-5882bd2dd98f"
      },
      "source": [
        "list_str = [0, '일', 2.3, '사']\n",
        "np_str = np.array(list_str)\n",
        "np_str"
      ],
      "execution_count": 5,
      "outputs": [
        {
          "output_type": "execute_result",
          "data": {
            "text/plain": [
              "array(['0', '일', '2.3', '사'], dtype='<U21')"
            ]
          },
          "metadata": {},
          "execution_count": 5
        }
      ]
    },
    {
      "cell_type": "markdown",
      "metadata": {
        "id": "fy6lpxKR9MIC"
      },
      "source": [
        "배열 속성을 확인합니다. '<U21'는 유니코드 문자열을 의미합니다. 여기서 '21'은 문자 수가 최대 21개라는 점을 의미합니다."
      ]
    },
    {
      "cell_type": "code",
      "metadata": {
        "colab": {
          "base_uri": "https://localhost:8080/"
        },
        "id": "bM1LhHFG8JCz",
        "outputId": "66b51264-cba7-4d08-d2f1-39e66ebd8e5e"
      },
      "source": [
        "np_str.dtype"
      ],
      "execution_count": 6,
      "outputs": [
        {
          "output_type": "execute_result",
          "data": {
            "text/plain": [
              "dtype('<U21')"
            ]
          },
          "metadata": {},
          "execution_count": 6
        }
      ]
    },
    {
      "cell_type": "markdown",
      "metadata": {
        "id": "nTYoJUke92Em"
      },
      "source": [
        "`np.array(리스트)` 형식으로 바로 배열 객체를 만들 수도 있습니다."
      ]
    },
    {
      "cell_type": "code",
      "metadata": {
        "colab": {
          "base_uri": "https://localhost:8080/"
        },
        "id": "gHNJFAuc-DqO",
        "outputId": "da27420f-86c1-4e58-8c91-db5ca69c89b6"
      },
      "source": [
        "np_direct1 = np.array([0, 1, 2, 3, 4])\n",
        "np_direct1"
      ],
      "execution_count": 7,
      "outputs": [
        {
          "output_type": "execute_result",
          "data": {
            "text/plain": [
              "array([0, 1, 2, 3, 4])"
            ]
          },
          "metadata": {},
          "execution_count": 7
        }
      ]
    },
    {
      "cell_type": "code",
      "metadata": {
        "colab": {
          "base_uri": "https://localhost:8080/"
        },
        "id": "4w-ozdZ8-QyI",
        "outputId": "8bd14b33-d67c-4c81-ddf0-c1d9bb1ee0d4"
      },
      "source": [
        "np_direct2 = np.array([[0, 1, 2], [3, 4, 5], [6, 7, 8]])\n",
        "np_direct2"
      ],
      "execution_count": 8,
      "outputs": [
        {
          "output_type": "execute_result",
          "data": {
            "text/plain": [
              "array([[0, 1, 2],\n",
              "       [3, 4, 5],\n",
              "       [6, 7, 8]])"
            ]
          },
          "metadata": {},
          "execution_count": 8
        }
      ]
    },
    {
      "cell_type": "markdown",
      "metadata": {
        "id": "3yX-jv7jAY5N"
      },
      "source": [
        "범위를 지정해서 배열을 만들 수 있습니다. 파이썬 `range()` 함수와 유사하게 넘파이는 `arange()` 함수를 사용합니다."
      ]
    },
    {
      "cell_type": "code",
      "metadata": {
        "colab": {
          "base_uri": "https://localhost:8080/"
        },
        "id": "KCCfdRmuArfb",
        "outputId": "ebf3cc87-7dcf-4dd7-fb17-d0c7d12dd9ef"
      },
      "source": [
        "np.arange(0, 10, 2)"
      ],
      "execution_count": 9,
      "outputs": [
        {
          "output_type": "execute_result",
          "data": {
            "text/plain": [
              "array([0, 2, 4, 6, 8])"
            ]
          },
          "metadata": {},
          "execution_count": 9
        }
      ]
    },
    {
      "cell_type": "code",
      "metadata": {
        "colab": {
          "base_uri": "https://localhost:8080/"
        },
        "id": "uwkZkKouAyrI",
        "outputId": "d7a42955-d355-41f6-dbc6-c45b5455a269"
      },
      "source": [
        "np.arange(0, 10)"
      ],
      "execution_count": 10,
      "outputs": [
        {
          "output_type": "execute_result",
          "data": {
            "text/plain": [
              "array([0, 1, 2, 3, 4, 5, 6, 7, 8, 9])"
            ]
          },
          "metadata": {},
          "execution_count": 10
        }
      ]
    },
    {
      "cell_type": "code",
      "metadata": {
        "colab": {
          "base_uri": "https://localhost:8080/"
        },
        "id": "FJJElwB1A1or",
        "outputId": "3fdc3336-ca58-4a19-bb03-4245d2138b7b"
      },
      "source": [
        "np.arange(10)"
      ],
      "execution_count": 11,
      "outputs": [
        {
          "output_type": "execute_result",
          "data": {
            "text/plain": [
              "array([0, 1, 2, 3, 4, 5, 6, 7, 8, 9])"
            ]
          },
          "metadata": {},
          "execution_count": 11
        }
      ]
    },
    {
      "cell_type": "markdown",
      "metadata": {
        "id": "jb1HbQmfBAq9"
      },
      "source": [
        "`arange()` 함수에 `reshape()` 함수를 더하면 행렬 형태로 변경할 수 있습니다."
      ]
    },
    {
      "cell_type": "code",
      "metadata": {
        "colab": {
          "base_uri": "https://localhost:8080/"
        },
        "id": "RLjuGEx_BKmM",
        "outputId": "bf3793a8-f8c3-4975-92e7-13979fbc45de"
      },
      "source": [
        "np.arange(8).reshape(4, 2)"
      ],
      "execution_count": 12,
      "outputs": [
        {
          "output_type": "execute_result",
          "data": {
            "text/plain": [
              "array([[0, 1],\n",
              "       [2, 3],\n",
              "       [4, 5],\n",
              "       [6, 7]])"
            ]
          },
          "metadata": {},
          "execution_count": 12
        }
      ]
    },
    {
      "cell_type": "markdown",
      "metadata": {
        "id": "QnjKCE3GBg5X"
      },
      "source": [
        "배열 형태를 확인하겠습니다. 참고로 1차원 배열은 `(원소 개수,)` 형태로 출력됩니다. 예컨대 원소 개수가 34개라면 `(34,)`로 출력됩니다."
      ]
    },
    {
      "cell_type": "code",
      "metadata": {
        "colab": {
          "base_uri": "https://localhost:8080/"
        },
        "id": "2JEHpo3ABlet",
        "outputId": "61ecac53-ac4d-4241-d7d4-68f94a5df740"
      },
      "source": [
        "np_reshape = np.arange(8).reshape(4, 2)\n",
        "np_reshape.shape"
      ],
      "execution_count": 13,
      "outputs": [
        {
          "output_type": "execute_result",
          "data": {
            "text/plain": [
              "(4, 2)"
            ]
          },
          "metadata": {},
          "execution_count": 13
        }
      ]
    },
    {
      "cell_type": "markdown",
      "metadata": {
        "id": "nP3tiwWXFEOw"
      },
      "source": [
        "`linspace()` 함수를 사용하면 지정한 데이터 개수에 따라 배열을 만듭니다. 0부터 10까지 20개만큼 데이터를 만들겠습니다."
      ]
    },
    {
      "cell_type": "code",
      "metadata": {
        "colab": {
          "base_uri": "https://localhost:8080/"
        },
        "id": "hbalMFYRFMPb",
        "outputId": "22b34ad5-fa6b-44a8-9a40-a3b575f41952"
      },
      "source": [
        "np.linspace(0, 10, 20)"
      ],
      "execution_count": 14,
      "outputs": [
        {
          "output_type": "execute_result",
          "data": {
            "text/plain": [
              "array([ 0.        ,  0.52631579,  1.05263158,  1.57894737,  2.10526316,\n",
              "        2.63157895,  3.15789474,  3.68421053,  4.21052632,  4.73684211,\n",
              "        5.26315789,  5.78947368,  6.31578947,  6.84210526,  7.36842105,\n",
              "        7.89473684,  8.42105263,  8.94736842,  9.47368421, 10.        ])"
            ]
          },
          "metadata": {},
          "execution_count": 14
        }
      ]
    },
    {
      "cell_type": "markdown",
      "metadata": {
        "id": "SJQCy03NF5p-"
      },
      "source": [
        "`zeros()` 함수는 0으로만 이루어진 배열을 만듭니다. `ones()` 함수는 1로만 이루어진 배열을 만듭니다. 사용법은 동일합니다."
      ]
    },
    {
      "cell_type": "code",
      "metadata": {
        "colab": {
          "base_uri": "https://localhost:8080/"
        },
        "id": "iz555Vl-GG1B",
        "outputId": "149841e5-0793-41d0-c60e-88d2d2ec9cc3"
      },
      "source": [
        "zeros_1 = np.zeros(5)\n",
        "print(zeros_1)\n",
        "print()\n",
        "# 2차원 배열을 만들려면 괄호로 한 번 더 묶어야 합니다.\n",
        "ones_2 = np.ones((5, 2))\n",
        "print(ones_2)"
      ],
      "execution_count": 15,
      "outputs": [
        {
          "output_type": "stream",
          "name": "stdout",
          "text": [
            "[0. 0. 0. 0. 0.]\n",
            "\n",
            "[[1. 1.]\n",
            " [1. 1.]\n",
            " [1. 1.]\n",
            " [1. 1.]\n",
            " [1. 1.]]\n"
          ]
        }
      ]
    },
    {
      "cell_type": "markdown",
      "metadata": {
        "id": "jiCJmFR8Gn97"
      },
      "source": [
        "`eye()` 함수는 단위행렬(Identity matrix)을 만듭니다. "
      ]
    },
    {
      "cell_type": "code",
      "metadata": {
        "colab": {
          "base_uri": "https://localhost:8080/"
        },
        "id": "BpfO1DUWGxye",
        "outputId": "472d065a-7daf-40ee-8a73-5423b5e3bb94"
      },
      "source": [
        "np.eye(5)"
      ],
      "execution_count": 16,
      "outputs": [
        {
          "output_type": "execute_result",
          "data": {
            "text/plain": [
              "array([[1., 0., 0., 0., 0.],\n",
              "       [0., 1., 0., 0., 0.],\n",
              "       [0., 0., 1., 0., 0.],\n",
              "       [0., 0., 0., 1., 0.],\n",
              "       [0., 0., 0., 0., 1.]])"
            ]
          },
          "metadata": {},
          "execution_count": 16
        }
      ]
    },
    {
      "cell_type": "markdown",
      "metadata": {
        "id": "63EwvedCHia0"
      },
      "source": [
        "`rand()` 함수와 `randint()` 함수는 각각 실수 난수와 정수 난수를 생성합니다. "
      ]
    },
    {
      "cell_type": "code",
      "metadata": {
        "colab": {
          "base_uri": "https://localhost:8080/"
        },
        "id": "ht2qcbhLH1aD",
        "outputId": "24b88276-c7ac-47e5-9c04-b900c2828405"
      },
      "source": [
        "rand1 = np.random.rand()\n",
        "print(rand1)\n",
        "print()\n",
        "# 2 x 4 배열을 생성합니다.\n",
        "rand2 = np.random.rand(2, 4)\n",
        "print(rand2)\n",
        "print()\n",
        "# 3차원 배열을 생성합니다.\n",
        "rand3 = np.random.rand(2, 4, 6)\n",
        "print(rand3)"
      ],
      "execution_count": 17,
      "outputs": [
        {
          "output_type": "stream",
          "name": "stdout",
          "text": [
            "0.17473270219100412\n",
            "\n",
            "[[0.47471717 0.72565986 0.3783336  0.54439178]\n",
            " [0.6447838  0.15078314 0.01984312 0.3748551 ]]\n",
            "\n",
            "[[[2.28014531e-01 3.33118529e-01 5.07192742e-01 8.00181159e-01\n",
            "   2.85540772e-01 2.34185044e-01]\n",
            "  [8.49434330e-02 2.48054597e-01 8.38905628e-01 9.21888895e-01\n",
            "   9.91318558e-01 9.76375210e-01]\n",
            "  [1.01302603e-01 2.59383469e-01 1.91591222e-01 7.68883621e-01\n",
            "   8.82313217e-01 1.59993998e-01]\n",
            "  [9.02641701e-01 2.17889496e-01 4.49394861e-02 9.67852723e-01\n",
            "   3.52437161e-01 3.84297685e-01]]\n",
            "\n",
            " [[7.87425871e-01 4.07326998e-01 9.93916079e-02 2.16236529e-01\n",
            "   8.89240747e-01 6.48848253e-01]\n",
            "  [8.65416445e-01 5.56074797e-01 4.09001879e-01 7.62995994e-01\n",
            "   4.75565591e-01 7.06179522e-01]\n",
            "  [5.50049914e-01 7.66108388e-01 6.80763684e-01 1.72928208e-01\n",
            "   7.75120282e-04 4.75085879e-01]\n",
            "  [5.40446304e-01 4.74807094e-02 9.22097142e-01 2.67721885e-01\n",
            "   9.86542973e-01 6.16041311e-02]]]\n"
          ]
        }
      ]
    },
    {
      "cell_type": "code",
      "metadata": {
        "colab": {
          "base_uri": "https://localhost:8080/"
        },
        "id": "l8L4vDYMJHtf",
        "outputId": "2e563160-9e0e-4f53-b779-0c1364b27af9"
      },
      "source": [
        "# 5~10 사이의 정수 난수를 생성합니다.\n",
        "randint1 = np.random.randint(5, 10)\n",
        "print(randint1)\n",
        "print()\n",
        "# 0 ~ 10 사이의 정수 난수를 2 x 5 배열로 생성합니다.\n",
        "randint2 = np.random.randint(10, size=(2, 5))\n",
        "print(randint2)\n",
        "print()\n",
        "# 0 ~ 12 사이의 정수 난수를 3차원 배열로 생성합니다.\n",
        "randint3 = np.random.randint(12, size=(3, 2, 5))\n",
        "print(randint3)"
      ],
      "execution_count": 18,
      "outputs": [
        {
          "output_type": "stream",
          "name": "stdout",
          "text": [
            "9\n",
            "\n",
            "[[5 7 2 3 2]\n",
            " [0 1 8 1 2]]\n",
            "\n",
            "[[[ 4  7  0  5  4]\n",
            "  [ 7  5  1  5  0]]\n",
            "\n",
            " [[ 0  1  7 11  5]\n",
            "  [ 5  9  8 11  4]]\n",
            "\n",
            " [[ 9  4  2  4 10]\n",
            "  [11  3  6  9  5]]]\n"
          ]
        }
      ]
    },
    {
      "cell_type": "markdown",
      "metadata": {
        "id": "ceD5HVSLHV1D"
      },
      "source": [
        "## **1.2. 배열 타입 변환하기**"
      ]
    },
    {
      "cell_type": "markdown",
      "metadata": {
        "id": "Lm0l-YX5K6u2"
      },
      "source": [
        "넘파이 데이터의 형식은 아래와 같습니다.\n",
        "\n",
        "- 'i': 기호를 가진 정수(signed integer)\n",
        "\n",
        "- 'u': 기호가 없는 정수(unsigned integer)\n",
        "\n",
        "- 'f': 실수(floating-point)\n",
        "\n",
        "- 'c': 복소수(complex-floating point)\n",
        "\n",
        "- 'b': 불(bool)\n",
        "\n",
        "- 'O': 파이썬 객체(object)\n",
        "\n",
        "- 'U': 유니코드(unicode)\n",
        "\n",
        "- 'S' or 'a': 바이트 문자열(string)\n",
        "\n",
        "- 'M': 날짜(datetime)"
      ]
    },
    {
      "cell_type": "markdown",
      "metadata": {
        "id": "V0CDlVJlMDoL"
      },
      "source": [
        "`astype()` 함수를 사용하여 배열 타입(형)을 바꿀 수 있습니다. `astype()` 함수에 인자로 `int`(정수형), `float`(실수형), `str`(문자형) 중에 하나를 넣고 배열 형을 변환합니다."
      ]
    },
    {
      "cell_type": "code",
      "metadata": {
        "colab": {
          "base_uri": "https://localhost:8080/"
        },
        "id": "hcnO1oK6K5p5",
        "outputId": "3be5e974-31d8-4d0d-ec4e-b2cf6111a1c1"
      },
      "source": [
        "np_str = np.array(['0.1', '2', '3.45', '6.7'])\n",
        "print(f'np_str의 타입은 {np_str.dtype}')\n",
        "# 실수 타입으로 변환합니다.\n",
        "np_astype_float = np_str.astype(float)\n",
        "print(f'np_astype_float의 타입은 {np_astype_float.dtype}')\n",
        "# 정수 타입으로 변환합니다. \n",
        "np_astype_int = np_astype_float.astype(int)\n",
        "print(f'np_astype_int의 타입은 {np_astype_int.dtype}, 원소는 {np_astype_int}')"
      ],
      "execution_count": 19,
      "outputs": [
        {
          "output_type": "stream",
          "name": "stdout",
          "text": [
            "np_str의 타입은 <U4\n",
            "np_astype_float의 타입은 float64\n",
            "np_astype_int의 타입은 int64, 원소는 [0 2 3 6]\n"
          ]
        }
      ]
    },
    {
      "cell_type": "markdown",
      "metadata": {
        "id": "MTKkSsjI_EMf"
      },
      "source": [
        "## **1.3. 배열 연산하기**"
      ]
    },
    {
      "cell_type": "markdown",
      "metadata": {
        "id": "pIx0glSxUy0i"
      },
      "source": [
        "통계에 활용하는 여러 함수가 있습니다. 아래는 함수 목록입니다.\n",
        "\n",
        "- `sum()`: 합계\n",
        "\n",
        "- `mean()`: 평균\n",
        "\n",
        "- `std()`: 표준 편차\n",
        "\n",
        "- `var()`: 분산\n",
        "\n",
        "- `max()`: 최댓값\n",
        "\n",
        "- `min()`: 최솟값\n",
        "\n",
        "- `cumsum()`: 누적합\n",
        "\n",
        "- `cumprod()`: 누적곱"
      ]
    },
    {
      "cell_type": "markdown",
      "metadata": {
        "id": "nJmUkcsMWibY"
      },
      "source": [
        "배열을 생성하고 예시를 들겠습니다."
      ]
    },
    {
      "cell_type": "code",
      "metadata": {
        "colab": {
          "base_uri": "https://localhost:8080/"
        },
        "id": "bspnWWDZWgLo",
        "outputId": "4daa9aae-6274-44df-f522-0c865f757f42"
      },
      "source": [
        "arr_cal = np.arange(7)\n",
        "print(f'arr_cal: {arr_cal}')\n",
        "print(f'sum(): {arr_cal.sum()}')\n",
        "print(f'mean(): {arr_cal.mean()}')\n",
        "print(f'std(): {arr_cal.std()}')\n",
        "print(f'var(): {arr_cal.var()}')\n",
        "print(f'max(): {arr_cal.max()}')\n",
        "print(f'min(): {arr_cal.min()}')\n",
        "print(f'cumsum(): {arr_cal.cumsum()}')\n",
        "print(f'sumprod(): {arr_cal.cumprod()}')"
      ],
      "execution_count": 20,
      "outputs": [
        {
          "output_type": "stream",
          "name": "stdout",
          "text": [
            "arr_cal: [0 1 2 3 4 5 6]\n",
            "sum(): 21\n",
            "mean(): 3.0\n",
            "std(): 2.0\n",
            "var(): 4.0\n",
            "max(): 6\n",
            "min(): 0\n",
            "cumsum(): [ 0  1  3  6 10 15 21]\n",
            "sumprod(): [0 0 0 0 0 0 0]\n"
          ]
        }
      ]
    },
    {
      "cell_type": "markdown",
      "metadata": {
        "id": "-hJocXXbX7hz"
      },
      "source": [
        "선형 대수를 위한 행렬 연산을 수행하는 함수도 있습니다. 아래는 함수 목록입니다.\n",
        "\n",
        "- `dot()`: 행렬곱(matrix product)\n",
        "- `transpose()`: 전치 행렬(transpose matrix)\n",
        "- `linalg.inv()`: 역행렬(inverse matrix)\n",
        "- `linalg.det()`: 행렬식(determinant)"
      ]
    },
    {
      "cell_type": "markdown",
      "metadata": {
        "id": "eKJgAXK_awBM"
      },
      "source": [
        "2차원 배열을 생성하고 함수를 사용하겠습니다."
      ]
    },
    {
      "cell_type": "code",
      "metadata": {
        "colab": {
          "base_uri": "https://localhost:8080/"
        },
        "id": "3vvhvhR5a1Ve",
        "outputId": "9a175f4a-bb99-45aa-f027-7a48e4b39494"
      },
      "source": [
        "matrix1 = np.array([0, 1, 2, 3]).reshape(2, 2)\n",
        "matrix2 = np.array([1, 2, 3, 4]).reshape(2, 2)\n",
        "print('matrix1:')\n",
        "print(matrix1)\n",
        "print('matrix2:')\n",
        "print(matrix2)"
      ],
      "execution_count": 21,
      "outputs": [
        {
          "output_type": "stream",
          "name": "stdout",
          "text": [
            "matrix1:\n",
            "[[0 1]\n",
            " [2 3]]\n",
            "matrix2:\n",
            "[[1 2]\n",
            " [3 4]]\n"
          ]
        }
      ]
    },
    {
      "cell_type": "markdown",
      "metadata": {
        "id": "VGHAsg6SdXRZ"
      },
      "source": [
        "`dot()` 함수로 행렬곱을 구하겠습니다. 두 형식으로 쓸 수 있습니다."
      ]
    },
    {
      "cell_type": "code",
      "metadata": {
        "colab": {
          "base_uri": "https://localhost:8080/"
        },
        "id": "PJZL7iRzdReQ",
        "outputId": "70d0348c-a26b-4448-df34-c457cee07f0f"
      },
      "source": [
        "print('matrix1:')\n",
        "print(matrix1)\n",
        "print('matrix1.dot(matrix2):')\n",
        "print(matrix1.dot(matrix2))\n",
        "print('np.dot(matrix1, matrix2):')\n",
        "print(np.dot(matrix1, matrix2))"
      ],
      "execution_count": 22,
      "outputs": [
        {
          "output_type": "stream",
          "name": "stdout",
          "text": [
            "matrix1:\n",
            "[[0 1]\n",
            " [2 3]]\n",
            "matrix1.dot(matrix2):\n",
            "[[ 3  4]\n",
            " [11 16]]\n",
            "np.dot(matrix1, matrix2):\n",
            "[[ 3  4]\n",
            " [11 16]]\n"
          ]
        }
      ]
    },
    {
      "cell_type": "markdown",
      "metadata": {
        "id": "c6sRktheddDR"
      },
      "source": [
        "`transpose()` 함수로 전치 행렬을 만들겠습니다. 두 형식으로 쓸 수 있습니다."
      ]
    },
    {
      "cell_type": "code",
      "metadata": {
        "colab": {
          "base_uri": "https://localhost:8080/"
        },
        "id": "n9_QCcMEdRSs",
        "outputId": "6e8a37af-e4b0-4d81-847c-3083d6b78d2b"
      },
      "source": [
        "print('matrix1:')\n",
        "print(matrix1)\n",
        "print('matrix1.transpose():')\n",
        "print(matrix1.transpose())\n",
        "print('np.transpose(matrix1):')\n",
        "print(np.transpose(matrix1))"
      ],
      "execution_count": 23,
      "outputs": [
        {
          "output_type": "stream",
          "name": "stdout",
          "text": [
            "matrix1:\n",
            "[[0 1]\n",
            " [2 3]]\n",
            "matrix1.transpose():\n",
            "[[0 2]\n",
            " [1 3]]\n",
            "np.transpose(matrix1):\n",
            "[[0 2]\n",
            " [1 3]]\n"
          ]
        }
      ]
    },
    {
      "cell_type": "markdown",
      "metadata": {
        "id": "1NYa7ebAdhIQ"
      },
      "source": [
        "`linalg.inv()` 함수로 역행렬을 구하겠습니다."
      ]
    },
    {
      "cell_type": "code",
      "metadata": {
        "colab": {
          "base_uri": "https://localhost:8080/"
        },
        "id": "aeIHcQDMdPZm",
        "outputId": "7054c421-c0cc-44c4-a610-08ce6a6d7037"
      },
      "source": [
        "print('matrix1:')\n",
        "print(matrix1)\n",
        "print('np.linalg.inv(matrix1):')\n",
        "print(np.linalg.inv(matrix1))"
      ],
      "execution_count": 24,
      "outputs": [
        {
          "output_type": "stream",
          "name": "stdout",
          "text": [
            "matrix1:\n",
            "[[0 1]\n",
            " [2 3]]\n",
            "np.linalg.inv(matrix1):\n",
            "[[-1.5  0.5]\n",
            " [ 1.   0. ]]\n"
          ]
        }
      ]
    },
    {
      "cell_type": "markdown",
      "metadata": {
        "id": "PjBtqlndd_jR"
      },
      "source": [
        "`linalg.det()` 함수로 행렬식을 구하겠습니다."
      ]
    },
    {
      "cell_type": "code",
      "metadata": {
        "colab": {
          "base_uri": "https://localhost:8080/"
        },
        "id": "MLhX98GueEex",
        "outputId": "2ff8ff6b-efc1-4c9f-eb6c-e223a9150b19"
      },
      "source": [
        "print('matrix1:')\n",
        "print(matrix1)\n",
        "print('np.linalg.det(matrix1):')\n",
        "print(np.linalg.det(matrix1))"
      ],
      "execution_count": 25,
      "outputs": [
        {
          "output_type": "stream",
          "name": "stdout",
          "text": [
            "matrix1:\n",
            "[[0 1]\n",
            " [2 3]]\n",
            "np.linalg.det(matrix1):\n",
            "-2.0\n"
          ]
        }
      ]
    },
    {
      "cell_type": "markdown",
      "metadata": {
        "id": "ecT7htwK_H5z"
      },
      "source": [
        "## **1.4. 배열 인덱싱 하기**"
      ]
    },
    {
      "cell_type": "markdown",
      "metadata": {
        "id": "LWD_pqvbfz9b"
      },
      "source": [
        "배열을 인덱싱 할 때 조건에 부합하는 원소를 인덱싱 할 수 있습니다."
      ]
    },
    {
      "cell_type": "code",
      "metadata": {
        "colab": {
          "base_uri": "https://localhost:8080/"
        },
        "id": "r-R5bL4Qlr4p",
        "outputId": "d55d978d-dd94-4ec4-ac1c-4a52853f5ffc"
      },
      "source": [
        "list_indexing = np.arange(30)\n",
        "print(f'list_indexing > 15: {list_indexing[list_indexing > 15]}')\n",
        "print(f'list_indexing / 5 == 5: {list_indexing[list_indexing / 5 == 5]}')"
      ],
      "execution_count": 26,
      "outputs": [
        {
          "output_type": "stream",
          "name": "stdout",
          "text": [
            "list_indexing > 15: [16 17 18 19 20 21 22 23 24 25 26 27 28 29]\n",
            "list_indexing / 5 == 5: [25]\n"
          ]
        }
      ]
    },
    {
      "cell_type": "markdown",
      "metadata": {
        "id": "W9gI4BsD_OuX"
      },
      "source": [
        "## **1.5. 배열 슬라이싱 하기**"
      ]
    },
    {
      "cell_type": "markdown",
      "metadata": {
        "id": "zE09qUbwlixO"
      },
      "source": [
        "배열 슬라이싱은 간혹 끝 위치 숫자가 헷갈릴 수 있습니다. 반드시 끝 위치-1까지 슬라이싱 한다는 점을 유의해야 합니다.\n",
        "\n",
        "팁이라면 '끝 위치'에서 '시작 위치'를 뺀 값을 슬라이싱 할 개수로 여기고, 시작 위치에서 그 개수만큼 배열 슬라이싱 한다고 생각하면 수월합니다.\n",
        "\n",
        "아래 코드를 토대로 예시합니다."
      ]
    },
    {
      "cell_type": "code",
      "metadata": {
        "colab": {
          "base_uri": "https://localhost:8080/"
        },
        "id": "O7BXL-gSm3EX",
        "outputId": "dcc0461f-4bd9-4228-f467-dc7fa93cc182"
      },
      "source": [
        "example_slicing = np.array([0, 3, 6, 2, 10, 66, 21])\n",
        "example_slicing[2:5]"
      ],
      "execution_count": 28,
      "outputs": [
        {
          "output_type": "execute_result",
          "data": {
            "text/plain": [
              "array([ 6,  2, 10])"
            ]
          },
          "metadata": {},
          "execution_count": 28
        }
      ]
    },
    {
      "cell_type": "markdown",
      "metadata": {
        "id": "ZO9-_XHinDp1"
      },
      "source": [
        "2에서 4까지 원소가 반환됐습니다. 슬라이싱을 2:5만큼 했으므로 5(끝 위치) - 2(시작 위치) = 3(반환 개수)입니다. 2의 위치의 원소인 6을 포함하여 3개가 차례로 반환된 것입니다. "
      ]
    },
    {
      "cell_type": "markdown",
      "metadata": {
        "id": "60mywIYlmEI8"
      },
      "source": [
        "# **2. Pandas**"
      ]
    },
    {
      "cell_type": "markdown",
      "metadata": {
        "id": "wyQjRTXfkUQC"
      },
      "source": [
        "판다스는 데이터를 쉽게 처리할 수 있도록 특화된 라이브러리입니다. 자세한 내용은 [판다스 홈페이지](https://pandas.pydata.org)에 정리되어 있습니다."
      ]
    }
  ]
}