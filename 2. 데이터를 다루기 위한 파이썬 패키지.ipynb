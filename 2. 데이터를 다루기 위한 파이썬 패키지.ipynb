{
  "nbformat": 4,
  "nbformat_minor": 0,
  "metadata": {
    "colab": {
      "name": "2. 데이터를 다루기 위한 파이썬 패키지.ipynb",
      "provenance": [],
      "collapsed_sections": [],
      "toc_visible": true,
      "authorship_tag": "ABX9TyOYmWmBPakfrWM9r4JJp/to",
      "include_colab_link": true
    },
    "kernelspec": {
      "name": "python3",
      "display_name": "Python 3"
    },
    "language_info": {
      "name": "python"
    }
  },
  "cells": [
    {
      "cell_type": "markdown",
      "metadata": {
        "id": "view-in-github",
        "colab_type": "text"
      },
      "source": [
        "<a href=\"https://colab.research.google.com/github/LeeSeungwon89/Python_for_Data_Analytics_Science/blob/main/2.%20%EB%8D%B0%EC%9D%B4%ED%84%B0%EB%A5%BC%20%EB%8B%A4%EB%A3%A8%EA%B8%B0%20%EC%9C%84%ED%95%9C%20%ED%8C%8C%EC%9D%B4%EC%8D%AC%20%ED%8C%A8%ED%82%A4%EC%A7%80.ipynb\" target=\"_parent\"><img src=\"https://colab.research.google.com/assets/colab-badge.svg\" alt=\"Open In Colab\"/></a>"
      ]
    },
    {
      "cell_type": "markdown",
      "metadata": {
        "id": "SMUQKDwrmEFa"
      },
      "source": [
        "# **1. Numpy**"
      ]
    },
    {
      "cell_type": "markdown",
      "metadata": {
        "id": "WxDwjUmB1-K5"
      },
      "source": [
        "넘파이는 데이터를 다루는 데 필수적인 패키지입니다. 과학적인 연산을 빠르고 쉽게 해줍니다. 아래에는 몇 가지 내용만 정리하겠습니다. 이외 구체적인 정보는 [넘파이 홈페이지](https://www.numpy.org)에 정리되어 있습니다."
      ]
    },
    {
      "cell_type": "markdown",
      "metadata": {
        "id": "zZRYD1Qn5iHF"
      },
      "source": [
        "## **1.1. 배열 만들기**"
      ]
    },
    {
      "cell_type": "markdown",
      "metadata": {
        "id": "96WyF1wW5n3b"
      },
      "source": [
        "배열을 만드는 방법은 여러가지가 있습니다. \n",
        "\n",
        "아래에서 예시로 설명하겠습니다. 먼저 시퀀스 데이터를 인자로 받고 배열 객체를 생성하는 방법입니다."
      ]
    },
    {
      "cell_type": "code",
      "metadata": {
        "colab": {
          "base_uri": "https://localhost:8080/"
        },
        "id": "rs7Ij00e5-sX",
        "outputId": "2ed333fc-662b-4ced-9304-af6f31a84409"
      },
      "source": [
        "import numpy as np\n",
        "# 튜플도 가능하지만 주로 리스트를 사용합니다.\n",
        "# 정수만으로 구성된 리스트입니다.\n",
        "list_int = [0, 1, 2, 3, 4]\n",
        "np_int = np.array(list_int)\n",
        "print(np_int)\n",
        "np_int"
      ],
      "execution_count": 839,
      "outputs": [
        {
          "output_type": "stream",
          "name": "stdout",
          "text": [
            "[0 1 2 3 4]\n"
          ]
        },
        {
          "output_type": "execute_result",
          "data": {
            "text/plain": [
              "array([0, 1, 2, 3, 4])"
            ]
          },
          "metadata": {},
          "execution_count": 839
        }
      ]
    },
    {
      "cell_type": "markdown",
      "metadata": {
        "id": "WyEeeBmk9EzL"
      },
      "source": [
        "배열 속성을 확인합니다."
      ]
    },
    {
      "cell_type": "code",
      "metadata": {
        "colab": {
          "base_uri": "https://localhost:8080/"
        },
        "id": "xEzsW4yz9GiR",
        "outputId": "74dade31-f7d9-4996-c467-b5a68cd07742"
      },
      "source": [
        "np_int.dtype"
      ],
      "execution_count": 840,
      "outputs": [
        {
          "output_type": "execute_result",
          "data": {
            "text/plain": [
              "dtype('int64')"
            ]
          },
          "metadata": {},
          "execution_count": 840
        }
      ]
    },
    {
      "cell_type": "markdown",
      "metadata": {
        "id": "lwqqL-mm6jfX"
      },
      "source": [
        "정수와 실수를 함께 포함시켜서 만들겠습니다. 이렇게 하면 모든 원소를 실수 형태로 출력합니다."
      ]
    },
    {
      "cell_type": "code",
      "metadata": {
        "colab": {
          "base_uri": "https://localhost:8080/"
        },
        "id": "X4eW5VEe6q4X",
        "outputId": "34f525c6-3dfa-463a-95da-c682464f6310"
      },
      "source": [
        "list_combi = [0, 1.2, 3, 4.56, 7]\n",
        "np_combi = np.array(list_combi)\n",
        "np_combi"
      ],
      "execution_count": 841,
      "outputs": [
        {
          "output_type": "execute_result",
          "data": {
            "text/plain": [
              "array([0.  , 1.2 , 3.  , 4.56, 7.  ])"
            ]
          },
          "metadata": {},
          "execution_count": 841
        }
      ]
    },
    {
      "cell_type": "markdown",
      "metadata": {
        "id": "r_FYkDMs8-vl"
      },
      "source": [
        "배열 속성을 확인합니다."
      ]
    },
    {
      "cell_type": "code",
      "metadata": {
        "colab": {
          "base_uri": "https://localhost:8080/"
        },
        "id": "xQ0ZBbu-9Cz0",
        "outputId": "fd78ef8d-720d-4bac-f3e1-9eab5d4aad5f"
      },
      "source": [
        "np_combi.dtype"
      ],
      "execution_count": 842,
      "outputs": [
        {
          "output_type": "execute_result",
          "data": {
            "text/plain": [
              "dtype('float64')"
            ]
          },
          "metadata": {},
          "execution_count": 842
        }
      ]
    },
    {
      "cell_type": "markdown",
      "metadata": {
        "id": "gMHESu-18h1J"
      },
      "source": [
        "문자를 함께 포함시키겠습니다. 이렇게 하면 모든 원소를 문자로 간주하게 됩니다."
      ]
    },
    {
      "cell_type": "code",
      "metadata": {
        "colab": {
          "base_uri": "https://localhost:8080/"
        },
        "id": "vUBdmeYE8gOA",
        "outputId": "cdebd0f7-0e32-4b39-ca97-41b2fe935e24"
      },
      "source": [
        "list_str = [0, '일', 2.3, '사']\n",
        "np_str = np.array(list_str)\n",
        "np_str"
      ],
      "execution_count": 843,
      "outputs": [
        {
          "output_type": "execute_result",
          "data": {
            "text/plain": [
              "array(['0', '일', '2.3', '사'], dtype='<U21')"
            ]
          },
          "metadata": {},
          "execution_count": 843
        }
      ]
    },
    {
      "cell_type": "markdown",
      "metadata": {
        "id": "fy6lpxKR9MIC"
      },
      "source": [
        "배열 속성을 확인합니다. '<U21'는 유니코드 문자열을 의미합니다. 여기서 '21'은 문자 수가 최대 21개라는 점을 의미합니다."
      ]
    },
    {
      "cell_type": "code",
      "metadata": {
        "colab": {
          "base_uri": "https://localhost:8080/"
        },
        "id": "bM1LhHFG8JCz",
        "outputId": "59a9507b-874f-4eb0-b7a4-9cb30862ea21"
      },
      "source": [
        "np_str.dtype"
      ],
      "execution_count": 844,
      "outputs": [
        {
          "output_type": "execute_result",
          "data": {
            "text/plain": [
              "dtype('<U21')"
            ]
          },
          "metadata": {},
          "execution_count": 844
        }
      ]
    },
    {
      "cell_type": "markdown",
      "metadata": {
        "id": "nTYoJUke92Em"
      },
      "source": [
        "`np.array(리스트)` 형식으로 바로 배열 객체를 만들 수도 있습니다."
      ]
    },
    {
      "cell_type": "code",
      "metadata": {
        "colab": {
          "base_uri": "https://localhost:8080/"
        },
        "id": "gHNJFAuc-DqO",
        "outputId": "34433898-f0d2-4879-b849-873f5064182a"
      },
      "source": [
        "np_direct1 = np.array([0, 1, 2, 3, 4])\n",
        "np_direct1"
      ],
      "execution_count": 845,
      "outputs": [
        {
          "output_type": "execute_result",
          "data": {
            "text/plain": [
              "array([0, 1, 2, 3, 4])"
            ]
          },
          "metadata": {},
          "execution_count": 845
        }
      ]
    },
    {
      "cell_type": "code",
      "metadata": {
        "colab": {
          "base_uri": "https://localhost:8080/"
        },
        "id": "4w-ozdZ8-QyI",
        "outputId": "72064f27-e703-4038-e008-2b7aae58dc60"
      },
      "source": [
        "np_direct2 = np.array([[0, 1, 2], [3, 4, 5], [6, 7, 8]])\n",
        "np_direct2"
      ],
      "execution_count": 846,
      "outputs": [
        {
          "output_type": "execute_result",
          "data": {
            "text/plain": [
              "array([[0, 1, 2],\n",
              "       [3, 4, 5],\n",
              "       [6, 7, 8]])"
            ]
          },
          "metadata": {},
          "execution_count": 846
        }
      ]
    },
    {
      "cell_type": "markdown",
      "metadata": {
        "id": "3yX-jv7jAY5N"
      },
      "source": [
        "범위를 지정해서 배열을 만들 수 있습니다. 파이썬 `range()` 함수와 유사하게 넘파이는 `arange()` 함수를 사용합니다."
      ]
    },
    {
      "cell_type": "code",
      "metadata": {
        "colab": {
          "base_uri": "https://localhost:8080/"
        },
        "id": "KCCfdRmuArfb",
        "outputId": "716a86b6-abda-45ff-aeb0-91321a6ff374"
      },
      "source": [
        "np.arange(0, 10, 2)"
      ],
      "execution_count": 847,
      "outputs": [
        {
          "output_type": "execute_result",
          "data": {
            "text/plain": [
              "array([0, 2, 4, 6, 8])"
            ]
          },
          "metadata": {},
          "execution_count": 847
        }
      ]
    },
    {
      "cell_type": "code",
      "metadata": {
        "colab": {
          "base_uri": "https://localhost:8080/"
        },
        "id": "uwkZkKouAyrI",
        "outputId": "be0eb5d8-1755-411c-ae60-f7dd31caf6c5"
      },
      "source": [
        "np.arange(0, 10)"
      ],
      "execution_count": 848,
      "outputs": [
        {
          "output_type": "execute_result",
          "data": {
            "text/plain": [
              "array([0, 1, 2, 3, 4, 5, 6, 7, 8, 9])"
            ]
          },
          "metadata": {},
          "execution_count": 848
        }
      ]
    },
    {
      "cell_type": "code",
      "metadata": {
        "colab": {
          "base_uri": "https://localhost:8080/"
        },
        "id": "FJJElwB1A1or",
        "outputId": "b1e1eef4-0676-4abe-abdb-cdf3d9b8fe30"
      },
      "source": [
        "np.arange(10)"
      ],
      "execution_count": 849,
      "outputs": [
        {
          "output_type": "execute_result",
          "data": {
            "text/plain": [
              "array([0, 1, 2, 3, 4, 5, 6, 7, 8, 9])"
            ]
          },
          "metadata": {},
          "execution_count": 849
        }
      ]
    },
    {
      "cell_type": "markdown",
      "metadata": {
        "id": "jb1HbQmfBAq9"
      },
      "source": [
        "`arange()` 함수에 `reshape()` 함수를 더하면 행렬 형태로 변경할 수 있습니다."
      ]
    },
    {
      "cell_type": "code",
      "metadata": {
        "colab": {
          "base_uri": "https://localhost:8080/"
        },
        "id": "RLjuGEx_BKmM",
        "outputId": "7f60a3d9-64f2-4faa-fa9d-fc49ca57c4e1"
      },
      "source": [
        "np.arange(8).reshape(4, 2)"
      ],
      "execution_count": 850,
      "outputs": [
        {
          "output_type": "execute_result",
          "data": {
            "text/plain": [
              "array([[0, 1],\n",
              "       [2, 3],\n",
              "       [4, 5],\n",
              "       [6, 7]])"
            ]
          },
          "metadata": {},
          "execution_count": 850
        }
      ]
    },
    {
      "cell_type": "markdown",
      "metadata": {
        "id": "QnjKCE3GBg5X"
      },
      "source": [
        "배열 형태를 확인하겠습니다. 참고로 1차원 배열은 `(원소 개수,)` 형태로 출력됩니다. 예컨대 원소 개수가 34개라면 `(34,)`로 출력됩니다."
      ]
    },
    {
      "cell_type": "code",
      "metadata": {
        "colab": {
          "base_uri": "https://localhost:8080/"
        },
        "id": "2JEHpo3ABlet",
        "outputId": "b1c79f2c-d895-4aba-f4a6-9456fdf63a65"
      },
      "source": [
        "np_reshape = np.arange(8).reshape(4, 2)\n",
        "np_reshape.shape"
      ],
      "execution_count": 851,
      "outputs": [
        {
          "output_type": "execute_result",
          "data": {
            "text/plain": [
              "(4, 2)"
            ]
          },
          "metadata": {},
          "execution_count": 851
        }
      ]
    },
    {
      "cell_type": "markdown",
      "metadata": {
        "id": "nP3tiwWXFEOw"
      },
      "source": [
        "`linspace()` 함수를 사용하면 지정한 데이터 개수에 따라 배열을 만듭니다. 0부터 10까지 20개만큼 데이터를 만들겠습니다."
      ]
    },
    {
      "cell_type": "code",
      "metadata": {
        "colab": {
          "base_uri": "https://localhost:8080/"
        },
        "id": "hbalMFYRFMPb",
        "outputId": "253d83fb-3299-4ba2-cd4b-9027a85dfc83"
      },
      "source": [
        "np.linspace(0, 10, 20)"
      ],
      "execution_count": 852,
      "outputs": [
        {
          "output_type": "execute_result",
          "data": {
            "text/plain": [
              "array([ 0.        ,  0.52631579,  1.05263158,  1.57894737,  2.10526316,\n",
              "        2.63157895,  3.15789474,  3.68421053,  4.21052632,  4.73684211,\n",
              "        5.26315789,  5.78947368,  6.31578947,  6.84210526,  7.36842105,\n",
              "        7.89473684,  8.42105263,  8.94736842,  9.47368421, 10.        ])"
            ]
          },
          "metadata": {},
          "execution_count": 852
        }
      ]
    },
    {
      "cell_type": "markdown",
      "metadata": {
        "id": "SJQCy03NF5p-"
      },
      "source": [
        "`zeros()` 함수는 0으로만 이루어진 배열을 만듭니다. `ones()` 함수는 1로만 이루어진 배열을 만듭니다. 사용법은 동일합니다."
      ]
    },
    {
      "cell_type": "code",
      "metadata": {
        "colab": {
          "base_uri": "https://localhost:8080/"
        },
        "id": "iz555Vl-GG1B",
        "outputId": "ae653cdb-886c-4021-f54a-37698e95b0c4"
      },
      "source": [
        "zeros_1 = np.zeros(5)\n",
        "print(zeros_1)\n",
        "print()\n",
        "# 2차원 배열을 만들려면 괄호로 한 번 더 묶어야 합니다.\n",
        "ones_2 = np.ones((5, 2))\n",
        "print(ones_2)"
      ],
      "execution_count": 853,
      "outputs": [
        {
          "output_type": "stream",
          "name": "stdout",
          "text": [
            "[0. 0. 0. 0. 0.]\n",
            "\n",
            "[[1. 1.]\n",
            " [1. 1.]\n",
            " [1. 1.]\n",
            " [1. 1.]\n",
            " [1. 1.]]\n"
          ]
        }
      ]
    },
    {
      "cell_type": "markdown",
      "metadata": {
        "id": "jiCJmFR8Gn97"
      },
      "source": [
        "`eye()` 함수는 단위행렬(Identity matrix)을 만듭니다. "
      ]
    },
    {
      "cell_type": "code",
      "metadata": {
        "colab": {
          "base_uri": "https://localhost:8080/"
        },
        "id": "BpfO1DUWGxye",
        "outputId": "715f9e4d-6dcf-445f-eebd-390ea709c8a3"
      },
      "source": [
        "np.eye(5)"
      ],
      "execution_count": 854,
      "outputs": [
        {
          "output_type": "execute_result",
          "data": {
            "text/plain": [
              "array([[1., 0., 0., 0., 0.],\n",
              "       [0., 1., 0., 0., 0.],\n",
              "       [0., 0., 1., 0., 0.],\n",
              "       [0., 0., 0., 1., 0.],\n",
              "       [0., 0., 0., 0., 1.]])"
            ]
          },
          "metadata": {},
          "execution_count": 854
        }
      ]
    },
    {
      "cell_type": "markdown",
      "metadata": {
        "id": "63EwvedCHia0"
      },
      "source": [
        "`rand()` 함수와 `randint()` 함수는 각각 실수 난수와 정수 난수를 생성합니다. "
      ]
    },
    {
      "cell_type": "code",
      "metadata": {
        "colab": {
          "base_uri": "https://localhost:8080/"
        },
        "id": "ht2qcbhLH1aD",
        "outputId": "1f45520c-0f75-46e7-a34f-438932edb142"
      },
      "source": [
        "rand1 = np.random.rand()\n",
        "print(rand1)\n",
        "print()\n",
        "# 2 x 4 배열을 생성합니다.\n",
        "rand2 = np.random.rand(2, 4)\n",
        "print(rand2)\n",
        "print()\n",
        "# 3차원 배열을 생성합니다.\n",
        "rand3 = np.random.rand(2, 4, 6)\n",
        "print(rand3)"
      ],
      "execution_count": 855,
      "outputs": [
        {
          "output_type": "stream",
          "name": "stdout",
          "text": [
            "0.3371539956847063\n",
            "\n",
            "[[0.24654093 0.75230566 0.21828866 0.79393967]\n",
            " [0.07276806 0.26882003 0.47090666 0.41710546]]\n",
            "\n",
            "[[[0.05019751 0.5470666  0.68060757 0.69636153 0.58710551 0.89638674]\n",
            "  [0.75245676 0.58154741 0.79803665 0.08914516 0.36616294 0.28378496]\n",
            "  [0.20665386 0.70229489 0.28172687 0.71039725 0.73482037 0.80989807]\n",
            "  [0.43244919 0.44809586 0.44935049 0.35183976 0.4766903  0.3845799 ]]\n",
            "\n",
            " [[0.35261954 0.38765758 0.61894286 0.0594149  0.02735317 0.70213421]\n",
            "  [0.0188493  0.88297556 0.72155078 0.78863756 0.87123931 0.04428534]\n",
            "  [0.63707578 0.77995217 0.33795854 0.97696318 0.33350658 0.16241152]\n",
            "  [0.02881651 0.35564052 0.15663583 0.64888962 0.41614883 0.48456825]]]\n"
          ]
        }
      ]
    },
    {
      "cell_type": "code",
      "metadata": {
        "colab": {
          "base_uri": "https://localhost:8080/"
        },
        "id": "l8L4vDYMJHtf",
        "outputId": "570bad26-ab15-4e6e-c24d-f2853840f425"
      },
      "source": [
        "# 5~10 사이의 정수 난수를 생성합니다.\n",
        "randint1 = np.random.randint(5, 10)\n",
        "print(randint1)\n",
        "print()\n",
        "# 0 ~ 10 사이의 정수 난수를 2 x 5 배열로 생성합니다.\n",
        "randint2 = np.random.randint(10, size=(2, 5))\n",
        "print(randint2)\n",
        "print()\n",
        "# 0 ~ 12 사이의 정수 난수를 3차원 배열로 생성합니다.\n",
        "randint3 = np.random.randint(12, size=(3, 2, 5))\n",
        "print(randint3)"
      ],
      "execution_count": 856,
      "outputs": [
        {
          "output_type": "stream",
          "name": "stdout",
          "text": [
            "5\n",
            "\n",
            "[[5 1 6 4 2]\n",
            " [4 1 6 0 3]]\n",
            "\n",
            "[[[ 9 11 10  0 10]\n",
            "  [ 6  6  1  4  4]]\n",
            "\n",
            " [[ 6  7 10  9  8]\n",
            "  [ 1  7  2  8  7]]\n",
            "\n",
            " [[ 3  2 10  0  5]\n",
            "  [ 3  6  8  0  3]]]\n"
          ]
        }
      ]
    },
    {
      "cell_type": "markdown",
      "metadata": {
        "id": "ceD5HVSLHV1D"
      },
      "source": [
        "## **1.2. 배열 타입 변환하기**"
      ]
    },
    {
      "cell_type": "markdown",
      "metadata": {
        "id": "Lm0l-YX5K6u2"
      },
      "source": [
        "넘파이 데이터의 형식은 아래와 같습니다.\n",
        "\n",
        "- 'i': 기호를 가진 정수(signed integer)\n",
        "\n",
        "- 'u': 기호가 없는 정수(unsigned integer)\n",
        "\n",
        "- 'f': 실수(floating-point)\n",
        "\n",
        "- 'c': 복소수(complex-floating point)\n",
        "\n",
        "- 'b': 불(bool)\n",
        "\n",
        "- 'O': 파이썬 객체(object)\n",
        "\n",
        "- 'U': 유니코드(unicode)\n",
        "\n",
        "- 'S' or 'a': 바이트 문자열(string)\n",
        "\n",
        "- 'M': 날짜(datetime)"
      ]
    },
    {
      "cell_type": "markdown",
      "metadata": {
        "id": "V0CDlVJlMDoL"
      },
      "source": [
        "`astype()` 함수를 사용하여 배열 타입(형)을 바꿀 수 있습니다. `astype()` 함수에 인자로 `int`(정수형), `float`(실수형), `str`(문자형) 중에 하나를 넣고 배열 형을 변환합니다."
      ]
    },
    {
      "cell_type": "code",
      "metadata": {
        "colab": {
          "base_uri": "https://localhost:8080/"
        },
        "id": "hcnO1oK6K5p5",
        "outputId": "fc9b5537-c08a-4973-fd27-4b1726662c97"
      },
      "source": [
        "np_str = np.array(['0.1', '2', '3.45', '6.7'])\n",
        "print(f'np_str의 타입은 {np_str.dtype}')\n",
        "# 실수 타입으로 변환합니다.\n",
        "np_astype_float = np_str.astype(float)\n",
        "print(f'np_astype_float의 타입은 {np_astype_float.dtype}')\n",
        "# 정수 타입으로 변환합니다. \n",
        "np_astype_int = np_astype_float.astype(int)\n",
        "print(f'np_astype_int의 타입은 {np_astype_int.dtype}, 원소는 {np_astype_int}')"
      ],
      "execution_count": 857,
      "outputs": [
        {
          "output_type": "stream",
          "name": "stdout",
          "text": [
            "np_str의 타입은 <U4\n",
            "np_astype_float의 타입은 float64\n",
            "np_astype_int의 타입은 int64, 원소는 [0 2 3 6]\n"
          ]
        }
      ]
    },
    {
      "cell_type": "markdown",
      "metadata": {
        "id": "MTKkSsjI_EMf"
      },
      "source": [
        "## **1.3. 배열 연산하기**"
      ]
    },
    {
      "cell_type": "markdown",
      "metadata": {
        "id": "pIx0glSxUy0i"
      },
      "source": [
        "통계에 활용하는 여러 함수가 있습니다. 아래는 함수 목록입니다.\n",
        "\n",
        "- `sum()`: 합계\n",
        "\n",
        "- `mean()`: 평균\n",
        "\n",
        "- `std()`: 표준 편차\n",
        "\n",
        "- `var()`: 분산\n",
        "\n",
        "- `max()`: 최댓값\n",
        "\n",
        "- `min()`: 최솟값\n",
        "\n",
        "- `cumsum()`: 누적합\n",
        "\n",
        "- `cumprod()`: 누적곱"
      ]
    },
    {
      "cell_type": "markdown",
      "metadata": {
        "id": "nJmUkcsMWibY"
      },
      "source": [
        "배열을 생성하고 예시를 들겠습니다."
      ]
    },
    {
      "cell_type": "code",
      "metadata": {
        "colab": {
          "base_uri": "https://localhost:8080/"
        },
        "id": "bspnWWDZWgLo",
        "outputId": "2f1b4dd2-0f6f-4005-f60b-8a6666ebbce6"
      },
      "source": [
        "arr_cal = np.arange(7)\n",
        "print(f'arr_cal: {arr_cal}')\n",
        "print(f'sum(): {arr_cal.sum()}')\n",
        "print(f'mean(): {arr_cal.mean()}')\n",
        "print(f'std(): {arr_cal.std()}')\n",
        "print(f'var(): {arr_cal.var()}')\n",
        "print(f'max(): {arr_cal.max()}')\n",
        "print(f'min(): {arr_cal.min()}')\n",
        "print(f'cumsum(): {arr_cal.cumsum()}')\n",
        "print(f'sumprod(): {arr_cal.cumprod()}')"
      ],
      "execution_count": 858,
      "outputs": [
        {
          "output_type": "stream",
          "name": "stdout",
          "text": [
            "arr_cal: [0 1 2 3 4 5 6]\n",
            "sum(): 21\n",
            "mean(): 3.0\n",
            "std(): 2.0\n",
            "var(): 4.0\n",
            "max(): 6\n",
            "min(): 0\n",
            "cumsum(): [ 0  1  3  6 10 15 21]\n",
            "sumprod(): [0 0 0 0 0 0 0]\n"
          ]
        }
      ]
    },
    {
      "cell_type": "markdown",
      "metadata": {
        "id": "-hJocXXbX7hz"
      },
      "source": [
        "선형 대수를 위한 행렬 연산을 수행하는 함수도 있습니다. 아래는 함수 목록입니다.\n",
        "\n",
        "- `dot()`: 행렬곱(matrix product)\n",
        "- `transpose()`: 전치 행렬(transpose matrix)\n",
        "- `linalg.inv()`: 역행렬(inverse matrix)\n",
        "- `linalg.det()`: 행렬식(determinant)"
      ]
    },
    {
      "cell_type": "markdown",
      "metadata": {
        "id": "eKJgAXK_awBM"
      },
      "source": [
        "2차원 배열을 생성하고 함수를 사용하겠습니다."
      ]
    },
    {
      "cell_type": "code",
      "metadata": {
        "colab": {
          "base_uri": "https://localhost:8080/"
        },
        "id": "3vvhvhR5a1Ve",
        "outputId": "7d345d18-26e7-4dfe-f55b-1b7a8c3c3f3d"
      },
      "source": [
        "matrix1 = np.array([0, 1, 2, 3]).reshape(2, 2)\n",
        "matrix2 = np.array([1, 2, 3, 4]).reshape(2, 2)\n",
        "print('matrix1:')\n",
        "print(matrix1)\n",
        "print('matrix2:')\n",
        "print(matrix2)"
      ],
      "execution_count": 859,
      "outputs": [
        {
          "output_type": "stream",
          "name": "stdout",
          "text": [
            "matrix1:\n",
            "[[0 1]\n",
            " [2 3]]\n",
            "matrix2:\n",
            "[[1 2]\n",
            " [3 4]]\n"
          ]
        }
      ]
    },
    {
      "cell_type": "markdown",
      "metadata": {
        "id": "VGHAsg6SdXRZ"
      },
      "source": [
        "`dot()` 함수로 행렬곱을 구하겠습니다. 두 형식으로 쓸 수 있습니다."
      ]
    },
    {
      "cell_type": "code",
      "metadata": {
        "colab": {
          "base_uri": "https://localhost:8080/"
        },
        "id": "PJZL7iRzdReQ",
        "outputId": "f7068a92-956d-47c0-ae9a-fdbc7c354c5d"
      },
      "source": [
        "print('matrix1:')\n",
        "print(matrix1)\n",
        "print('matrix1.dot(matrix2):')\n",
        "print(matrix1.dot(matrix2))\n",
        "print('np.dot(matrix1, matrix2):')\n",
        "print(np.dot(matrix1, matrix2))"
      ],
      "execution_count": 860,
      "outputs": [
        {
          "output_type": "stream",
          "name": "stdout",
          "text": [
            "matrix1:\n",
            "[[0 1]\n",
            " [2 3]]\n",
            "matrix1.dot(matrix2):\n",
            "[[ 3  4]\n",
            " [11 16]]\n",
            "np.dot(matrix1, matrix2):\n",
            "[[ 3  4]\n",
            " [11 16]]\n"
          ]
        }
      ]
    },
    {
      "cell_type": "markdown",
      "metadata": {
        "id": "c6sRktheddDR"
      },
      "source": [
        "`transpose()` 함수로 전치 행렬을 만들겠습니다. 두 형식으로 쓸 수 있습니다."
      ]
    },
    {
      "cell_type": "code",
      "metadata": {
        "colab": {
          "base_uri": "https://localhost:8080/"
        },
        "id": "n9_QCcMEdRSs",
        "outputId": "3f56176a-852e-4719-c959-7e4af256a425"
      },
      "source": [
        "print('matrix1:')\n",
        "print(matrix1)\n",
        "print('matrix1.transpose():')\n",
        "print(matrix1.transpose())\n",
        "print('np.transpose(matrix1):')\n",
        "print(np.transpose(matrix1))"
      ],
      "execution_count": 861,
      "outputs": [
        {
          "output_type": "stream",
          "name": "stdout",
          "text": [
            "matrix1:\n",
            "[[0 1]\n",
            " [2 3]]\n",
            "matrix1.transpose():\n",
            "[[0 2]\n",
            " [1 3]]\n",
            "np.transpose(matrix1):\n",
            "[[0 2]\n",
            " [1 3]]\n"
          ]
        }
      ]
    },
    {
      "cell_type": "markdown",
      "metadata": {
        "id": "1NYa7ebAdhIQ"
      },
      "source": [
        "`linalg.inv()` 함수로 역행렬을 구하겠습니다."
      ]
    },
    {
      "cell_type": "code",
      "metadata": {
        "colab": {
          "base_uri": "https://localhost:8080/"
        },
        "id": "aeIHcQDMdPZm",
        "outputId": "2dc2d3b0-6787-4e44-aef6-2d158a12f594"
      },
      "source": [
        "print('matrix1:')\n",
        "print(matrix1)\n",
        "print('np.linalg.inv(matrix1):')\n",
        "print(np.linalg.inv(matrix1))"
      ],
      "execution_count": 862,
      "outputs": [
        {
          "output_type": "stream",
          "name": "stdout",
          "text": [
            "matrix1:\n",
            "[[0 1]\n",
            " [2 3]]\n",
            "np.linalg.inv(matrix1):\n",
            "[[-1.5  0.5]\n",
            " [ 1.   0. ]]\n"
          ]
        }
      ]
    },
    {
      "cell_type": "markdown",
      "metadata": {
        "id": "PjBtqlndd_jR"
      },
      "source": [
        "`linalg.det()` 함수로 행렬식을 구하겠습니다."
      ]
    },
    {
      "cell_type": "code",
      "metadata": {
        "colab": {
          "base_uri": "https://localhost:8080/"
        },
        "id": "MLhX98GueEex",
        "outputId": "18f56618-abf1-42a4-da84-fb81be6509f8"
      },
      "source": [
        "print('matrix1:')\n",
        "print(matrix1)\n",
        "print('np.linalg.det(matrix1):')\n",
        "print(np.linalg.det(matrix1))"
      ],
      "execution_count": 863,
      "outputs": [
        {
          "output_type": "stream",
          "name": "stdout",
          "text": [
            "matrix1:\n",
            "[[0 1]\n",
            " [2 3]]\n",
            "np.linalg.det(matrix1):\n",
            "-2.0\n"
          ]
        }
      ]
    },
    {
      "cell_type": "markdown",
      "metadata": {
        "id": "ecT7htwK_H5z"
      },
      "source": [
        "## **1.4. 배열 인덱싱 하기**"
      ]
    },
    {
      "cell_type": "markdown",
      "metadata": {
        "id": "LWD_pqvbfz9b"
      },
      "source": [
        "배열을 인덱싱 할 때 조건에 부합하는 원소를 인덱싱 할 수 있습니다."
      ]
    },
    {
      "cell_type": "code",
      "metadata": {
        "colab": {
          "base_uri": "https://localhost:8080/"
        },
        "id": "r-R5bL4Qlr4p",
        "outputId": "3723f282-093a-4d80-f2a8-952c4d52788d"
      },
      "source": [
        "list_indexing = np.arange(30)\n",
        "print(f'list_indexing > 15: {list_indexing[list_indexing > 15]}')\n",
        "print(f'list_indexing / 5 == 5: {list_indexing[list_indexing / 5 == 5]}')"
      ],
      "execution_count": 864,
      "outputs": [
        {
          "output_type": "stream",
          "name": "stdout",
          "text": [
            "list_indexing > 15: [16 17 18 19 20 21 22 23 24 25 26 27 28 29]\n",
            "list_indexing / 5 == 5: [25]\n"
          ]
        }
      ]
    },
    {
      "cell_type": "markdown",
      "metadata": {
        "id": "W9gI4BsD_OuX"
      },
      "source": [
        "## **1.5. 배열 슬라이싱 하기**"
      ]
    },
    {
      "cell_type": "markdown",
      "metadata": {
        "id": "zE09qUbwlixO"
      },
      "source": [
        "배열 슬라이싱은 간혹 끝 위치 숫자가 헷갈릴 수 있습니다. 반드시 끝 위치-1까지 슬라이싱 한다는 점을 유의해야 합니다.\n",
        "\n",
        "팁이라면 '끝 위치'에서 '시작 위치'를 뺀 값을 슬라이싱 할 개수로 여기고, 시작 위치에서 그 개수만큼 배열 슬라이싱 한다고 생각하면 수월합니다.\n",
        "\n",
        "아래 코드를 토대로 예시합니다."
      ]
    },
    {
      "cell_type": "code",
      "metadata": {
        "colab": {
          "base_uri": "https://localhost:8080/"
        },
        "id": "O7BXL-gSm3EX",
        "outputId": "63a8d0d1-f304-4d1a-8c94-30698d8588ca"
      },
      "source": [
        "example_slicing = np.array([0, 3, 6, 2, 10, 66, 21])\n",
        "example_slicing[2:5]"
      ],
      "execution_count": 865,
      "outputs": [
        {
          "output_type": "execute_result",
          "data": {
            "text/plain": [
              "array([ 6,  2, 10])"
            ]
          },
          "metadata": {},
          "execution_count": 865
        }
      ]
    },
    {
      "cell_type": "markdown",
      "metadata": {
        "id": "ZO9-_XHinDp1"
      },
      "source": [
        "2에서 4까지 원소가 반환됐습니다. 슬라이싱을 2:5만큼 했으므로 5(끝 위치) - 2(시작 위치) = 3(반환 개수)입니다. 2의 위치의 원소인 6을 포함하여 3개가 차례로 반환된 것입니다. "
      ]
    },
    {
      "cell_type": "markdown",
      "metadata": {
        "id": "60mywIYlmEI8"
      },
      "source": [
        "# **2. Pandas 기본**"
      ]
    },
    {
      "cell_type": "markdown",
      "metadata": {
        "id": "wyQjRTXfkUQC"
      },
      "source": [
        "판다스는 데이터를 쉽게 처리할 수 있도록 특화된 라이브러리입니다. 자세한 내용은 [판다스 홈페이지](https://pandas.pydata.org)에 정리되어 있습니다."
      ]
    },
    {
      "cell_type": "markdown",
      "metadata": {
        "id": "R1Woq0WsRxot"
      },
      "source": [
        "## **2.1. 데이터 구조 만들기**"
      ]
    },
    {
      "cell_type": "markdown",
      "metadata": {
        "id": "rgX-yGxZR915"
      },
      "source": [
        "`Series()` 메서드를 사용하여 라벨이 있는 1차원 데이터를 생성할 수 있습니다. 이 데이터의 형식은 'Series'이며 **열벡터(vector)**입니다.\n",
        "\n",
        "아래는 이에 대한 예시입니다. 숫자, 문자열, 공백을 함께 포함시키겠습니다. 여기서 공백은 넘파이의 공백을 나타내는 `np.nan` 형태로 취합니다. "
      ]
    },
    {
      "cell_type": "code",
      "metadata": {
        "colab": {
          "base_uri": "https://localhost:8080/"
        },
        "id": "nSifYt5SStKT",
        "outputId": "b23e8109-7e41-419d-bd0f-633dc599e748"
      },
      "source": [
        "import numpy as np\n",
        "import pandas as pd\n",
        "\n",
        "# 대부분 리스트를 사용합니다. \n",
        "series1 = pd.Series([11, 22, 'a', 'b', np.nan, 33])\n",
        "series1"
      ],
      "execution_count": 866,
      "outputs": [
        {
          "output_type": "execute_result",
          "data": {
            "text/plain": [
              "0     11\n",
              "1     22\n",
              "2      a\n",
              "3      b\n",
              "4    NaN\n",
              "5     33\n",
              "dtype: object"
            ]
          },
          "metadata": {},
          "execution_count": 866
        }
      ]
    },
    {
      "cell_type": "markdown",
      "metadata": {
        "id": "Bi1xySlkS_Ro"
      },
      "source": [
        "첫째 열의 라벨은 'index'입니다. 0부터 오름차순으로 부여되며 데이터의 순서를 의미합니다. 둘째 열은 'values'입니다. 데이터의 값을 의미합니다."
      ]
    },
    {
      "cell_type": "markdown",
      "metadata": {
        "id": "KZOT1NCpVLuc"
      },
      "source": [
        "이 데이터의 열을 따로 가져올 수 있습니다. 아래에서 예시하겠습니다."
      ]
    },
    {
      "cell_type": "code",
      "metadata": {
        "colab": {
          "base_uri": "https://localhost:8080/"
        },
        "id": "g4COcES-T7rB",
        "outputId": "96687173-947c-4523-ca53-cc86b11e6f58"
      },
      "source": [
        "series1.index"
      ],
      "execution_count": 867,
      "outputs": [
        {
          "output_type": "execute_result",
          "data": {
            "text/plain": [
              "RangeIndex(start=0, stop=6, step=1)"
            ]
          },
          "metadata": {},
          "execution_count": 867
        }
      ]
    },
    {
      "cell_type": "code",
      "metadata": {
        "colab": {
          "base_uri": "https://localhost:8080/"
        },
        "id": "C0VfQM3EvjsL",
        "outputId": "f5397e31-7fec-4c72-8a37-b2de25c57be3"
      },
      "source": [
        "series1.values"
      ],
      "execution_count": 868,
      "outputs": [
        {
          "output_type": "execute_result",
          "data": {
            "text/plain": [
              "array([11, 22, 'a', 'b', nan, 33], dtype=object)"
            ]
          },
          "metadata": {},
          "execution_count": 868
        }
      ]
    },
    {
      "cell_type": "markdown",
      "metadata": {
        "id": "6cFkNaD_UYD_"
      },
      "source": [
        "배열 형식은 넘파이입니다."
      ]
    },
    {
      "cell_type": "markdown",
      "metadata": {
        "id": "OCE1Wo3DVN7i"
      },
      "source": [
        "위에서는 인덱스가 0부터 오름차순으로 부여됐습니다. 원하는 인덱스를 따로 지정하려면 `index=리스트명`을 `Series()` 메서드에 전달합니다."
      ]
    },
    {
      "cell_type": "code",
      "metadata": {
        "colab": {
          "base_uri": "https://localhost:8080/"
        },
        "id": "N__2am4hVnCo",
        "outputId": "359a2a0b-182a-44c3-aae5-d8befbebee09"
      },
      "source": [
        "index1 = ['그저께', '어제', '오늘', '내일', '내일모레']\n",
        "series2 = pd.Series([50, 100, 20, np.nan, '휴식'], index=index1)\n",
        "series2"
      ],
      "execution_count": 869,
      "outputs": [
        {
          "output_type": "execute_result",
          "data": {
            "text/plain": [
              "그저께      50\n",
              "어제      100\n",
              "오늘       20\n",
              "내일      NaN\n",
              "내일모레     휴식\n",
              "dtype: object"
            ]
          },
          "metadata": {},
          "execution_count": 869
        }
      ]
    },
    {
      "cell_type": "markdown",
      "metadata": {
        "id": "YowXbgYgWSC6"
      },
      "source": [
        "딕셔너리 형식으로 인덱스(index)와 데이터(values)를 한 번에 입력할 수도 있습니다."
      ]
    },
    {
      "cell_type": "code",
      "metadata": {
        "colab": {
          "base_uri": "https://localhost:8080/"
        },
        "id": "QbY9GsXhWaia",
        "outputId": "05e1f83b-74fb-4db9-9575-ded916b89761"
      },
      "source": [
        "series3 = pd.Series({'자전거': 150, '신발': 20, '바지':10, '헬멧': 15})\n",
        "series3"
      ],
      "execution_count": 870,
      "outputs": [
        {
          "output_type": "execute_result",
          "data": {
            "text/plain": [
              "자전거    150\n",
              "신발      20\n",
              "바지      10\n",
              "헬멧      15\n",
              "dtype: int64"
            ]
          },
          "metadata": {},
          "execution_count": 870
        }
      ]
    },
    {
      "cell_type": "markdown",
      "metadata": {
        "id": "XPSGaC3AXFsA"
      },
      "source": [
        "`date_range()` 메서드는 지정한 기간만큼 날짜를 생성합니다. 날짜 형식은 'yyyy-mm-dd'로 지정하겠습니다. 추가로 'yyyy.mm.dd', 'yyyy/mm/dd', 'mm-dd-yyyy', 'mm.dd.yyyy', 'mm/dd/yyyy' 모두 가능합니다. 단 생성되는 날짜의 형식은 모두 'yyyy-mm-dd'입니다."
      ]
    },
    {
      "cell_type": "code",
      "metadata": {
        "colab": {
          "base_uri": "https://localhost:8080/"
        },
        "id": "pESzKYOEXO95",
        "outputId": "b9b89659-8a95-4f7a-9a29-d8e9306be633"
      },
      "source": [
        "print(pd.date_range(start='2021-10-04', end='2021-10-09'))\n",
        "# `periods` 매개변수에 값을 지정하면 기간만큼 날짜를 생성합니다.\n",
        "print(pd.date_range(start='2021-10-04', periods=6))"
      ],
      "execution_count": 871,
      "outputs": [
        {
          "output_type": "stream",
          "name": "stdout",
          "text": [
            "DatetimeIndex(['2021-10-04', '2021-10-05', '2021-10-06', '2021-10-07',\n",
            "               '2021-10-08', '2021-10-09'],\n",
            "              dtype='datetime64[ns]', freq='D')\n",
            "DatetimeIndex(['2021-10-04', '2021-10-05', '2021-10-06', '2021-10-07',\n",
            "               '2021-10-08', '2021-10-09'],\n",
            "              dtype='datetime64[ns]', freq='D')\n"
          ]
        }
      ]
    },
    {
      "cell_type": "markdown",
      "metadata": {
        "id": "201g5ldjZI9Y"
      },
      "source": [
        "`date_range()` 메서드의 매개변수인 `freq`에 값을 지정하면 원하는 주기로 날짜를 생성할 수 있습니다. 아래는 그 값의 목록입니다.\n",
        "\n",
        "- `D`: 하루(Day) 주기입니다. 이틀 주기로 생성하려면 `2D`입니다.\n",
        "\n",
        "- `B`: 업무일(Business day, 월~금) 주기입니다. `3B`도 가능합니다.\n",
        "\n",
        "- `W`: 일주일(Week) 주기입니다. 일요일 시작은 `W` 또는 `W-SUN`이며, 월요일 시작은 `W-MON`입니다.\n",
        "\n",
        "- `M`: 월말(Month end) 날짜 주기입니다. 한 달 주기는 `M`, 네 달 주기는 `4M`입니다.\n",
        "\n",
        "- `BM`: 업무 월말(Business month end) 날짜 주기입니다. `2BM`도 가능합니다.\n",
        "\n",
        "- `MS`: 월초(Month start) 날짜 주기입니다. 위 인자들처럼 `MS` 앞에 숫자를 붙일 수 있습니다.\n",
        "\n",
        "- `BMS`: 업무 월초(Business month start) 날짜 주기입니다. 똑같이 숫자를 붙일 수 있습니다. 이하 인자들도 같습니다.\n",
        "\n",
        "- `Q`: 분기말(Quater end) 날짜 주기입니다.\n",
        "\n",
        "- `BQ`: 업무 분기말(Business quater end) 날짜 주기입니다. \n",
        "\n",
        "- `QS`: 분기초(Quater start) 날짜 주기입니다. \n",
        "\n",
        "- `BQS`: 업무 분기초(Business quater start) 날짜 주기입니다.\n",
        "\n",
        "- `A`: 연말(Year end) 날짜 주기입니다.\n",
        "\n",
        "- `BA`: 업무 연말(Business year end) 날짜 주기입니다.\n",
        "\n",
        "- `AS`: 연초(Year start) 날짜 주기입니다.\n",
        "\n",
        "- `BAS`: 업무 연초(Business year start) 날짜 주기입니다.\n",
        "\n",
        "- `H`: 시간(Hour) 주기입니다.\n",
        "\n",
        "- `BH`: 업무 시간(Business hour) 주기입니다. 9:00 ~ 17:00를 기준으로 갖습니다.\n",
        "\n",
        "- `T`, `min`: 분(Minute) 주기입니다.\n",
        "\n",
        "- `S`: 초(Second) 주기입니다."
      ]
    },
    {
      "cell_type": "markdown",
      "metadata": {
        "id": "S4rbx676d6Os"
      },
      "source": [
        "아래에 몇 가지 예시를 들겠습니다. 먼저 다섯 날을 4일 간격으로 생성합니다."
      ]
    },
    {
      "cell_type": "code",
      "metadata": {
        "colab": {
          "base_uri": "https://localhost:8080/"
        },
        "id": "alRYo6ntd8Lv",
        "outputId": "4ac33534-ad77-46aa-c1df-914566610d6b"
      },
      "source": [
        "pd.date_range(start='2021-10-04', periods=5, freq='4D')"
      ],
      "execution_count": 872,
      "outputs": [
        {
          "output_type": "execute_result",
          "data": {
            "text/plain": [
              "DatetimeIndex(['2021-10-04', '2021-10-08', '2021-10-12', '2021-10-16',\n",
              "               '2021-10-20'],\n",
              "              dtype='datetime64[ns]', freq='4D')"
            ]
          },
          "metadata": {},
          "execution_count": 872
        }
      ]
    },
    {
      "cell_type": "markdown",
      "metadata": {
        "id": "QkFvFcwoeQ2C"
      },
      "source": [
        "3주일씩 증가시키겠습니다."
      ]
    },
    {
      "cell_type": "code",
      "metadata": {
        "colab": {
          "base_uri": "https://localhost:8080/"
        },
        "id": "HZKieY-WeP9C",
        "outputId": "c928e649-ac8f-4b4f-9c38-a02b556cd1c5"
      },
      "source": [
        "pd.date_range(start='2021-10-04', periods=5, freq='3W')"
      ],
      "execution_count": 873,
      "outputs": [
        {
          "output_type": "execute_result",
          "data": {
            "text/plain": [
              "DatetimeIndex(['2021-10-10', '2021-10-31', '2021-11-21', '2021-12-12',\n",
              "               '2022-01-02'],\n",
              "              dtype='datetime64[ns]', freq='3W-SUN')"
            ]
          },
          "metadata": {},
          "execution_count": 873
        }
      ]
    },
    {
      "cell_type": "markdown",
      "metadata": {
        "id": "XEw_NYe0en3U"
      },
      "source": [
        "업무일 월초 날짜를 생성하겠습니다."
      ]
    },
    {
      "cell_type": "code",
      "metadata": {
        "colab": {
          "base_uri": "https://localhost:8080/"
        },
        "id": "LcS6hHI8e4aA",
        "outputId": "ad7a1363-5d7f-4ec8-97e0-52281ffcd6ce"
      },
      "source": [
        "pd.date_range(start='2021-10-04', periods=5, freq='BMS')"
      ],
      "execution_count": 874,
      "outputs": [
        {
          "output_type": "execute_result",
          "data": {
            "text/plain": [
              "DatetimeIndex(['2021-11-01', '2021-12-01', '2022-01-03', '2022-02-01',\n",
              "               '2022-03-01'],\n",
              "              dtype='datetime64[ns]', freq='BMS')"
            ]
          },
          "metadata": {},
          "execution_count": 874
        }
      ]
    },
    {
      "cell_type": "markdown",
      "metadata": {
        "id": "y8sBKFyge-7n"
      },
      "source": [
        "업무일 월말 날짜를 두 달 간격으로 생성하겠습니다."
      ]
    },
    {
      "cell_type": "code",
      "metadata": {
        "colab": {
          "base_uri": "https://localhost:8080/"
        },
        "id": "VInBrkkkfBD0",
        "outputId": "c8b35345-d5bc-46ff-aaac-967928a5d8c5"
      },
      "source": [
        "pd.date_range(start='2021-10-04', periods=5, freq='2BM')"
      ],
      "execution_count": 875,
      "outputs": [
        {
          "output_type": "execute_result",
          "data": {
            "text/plain": [
              "DatetimeIndex(['2021-10-29', '2021-12-31', '2022-02-28', '2022-04-29',\n",
              "               '2022-06-30'],\n",
              "              dtype='datetime64[ns]', freq='2BM')"
            ]
          },
          "metadata": {},
          "execution_count": 875
        }
      ]
    },
    {
      "cell_type": "markdown",
      "metadata": {
        "id": "eg0l3JOlfSOb"
      },
      "source": [
        "업무일 분기초 날짜를 생성하겠습니다. "
      ]
    },
    {
      "cell_type": "code",
      "metadata": {
        "colab": {
          "base_uri": "https://localhost:8080/"
        },
        "id": "0-lZhYaefWAp",
        "outputId": "336f4d23-d743-4c41-f235-1c3b9c2c80e6"
      },
      "source": [
        "pd.date_range(start='2021-10-04', periods=5, freq='BQS')"
      ],
      "execution_count": 876,
      "outputs": [
        {
          "output_type": "execute_result",
          "data": {
            "text/plain": [
              "DatetimeIndex(['2022-01-03', '2022-04-01', '2022-07-01', '2022-10-03',\n",
              "               '2023-01-02'],\n",
              "              dtype='datetime64[ns]', freq='BQS-JAN')"
            ]
          },
          "metadata": {},
          "execution_count": 876
        }
      ]
    },
    {
      "cell_type": "markdown",
      "metadata": {
        "id": "CyKExbfCfyRm"
      },
      "source": [
        "내용을 응용하여 시리즈를 생성하겠습니다."
      ]
    },
    {
      "cell_type": "code",
      "metadata": {
        "colab": {
          "base_uri": "https://localhost:8080/"
        },
        "id": "LaZqDnqnf5BF",
        "outputId": "d32a6b38-6d9e-4ba4-8b0b-169b55843b2d"
      },
      "source": [
        "date_index = pd.date_range(start='2021-06-01', periods=5, freq='M')\n",
        "num_values = [100, 241, 213, 152, 656]\n",
        "pd.Series(num_values, index=date_index)"
      ],
      "execution_count": 877,
      "outputs": [
        {
          "output_type": "execute_result",
          "data": {
            "text/plain": [
              "2021-06-30    100\n",
              "2021-07-31    241\n",
              "2021-08-31    213\n",
              "2021-09-30    152\n",
              "2021-10-31    656\n",
              "Freq: M, dtype: int64"
            ]
          },
          "metadata": {},
          "execution_count": 877
        }
      ]
    },
    {
      "cell_type": "markdown",
      "metadata": {
        "id": "3vQ1voWOg8hn"
      },
      "source": [
        "위에서는 `Series()` 메서드를 사용해서 1차원 데이터 구조를 만들었습니다. `DataFrame()` 메서드는 2차원 데이터 구조를 만듭니다. 이 메서드도 첫 열에 인덱스를 숫자형 라벨로 자동으로 부여하지만, 차이점이라면 칼럼도 숫자형 라벨로 자동으로 부여합니다. 물론 인덱스와 칼럼 모두 라벨을 직접 지정할 수 있습니다. 이 데이터의 형식은 'DataFrame`이며, 여러 개의 열벡터들이 같은 행 인덱스를 기준으로 줄지어서 이어진 2차원 벡터 또는 **행렬(matrix)**입니다.\n",
        "\n",
        "먼저 간단하게 예시하겠습니다."
      ]
    },
    {
      "cell_type": "code",
      "metadata": {
        "colab": {
          "base_uri": "https://localhost:8080/",
          "height": 111
        },
        "id": "uEHeyncOhWoh",
        "outputId": "775b9feb-e5f3-4bd6-b7b9-c65a0a50b4c6"
      },
      "source": [
        "# 데이터 프레임을 생성하려면 2차원 리스트를 사용해야 합니다.\n",
        "pd.DataFrame([[11, 22, 33, 44], [55, 66, 77, 88]])"
      ],
      "execution_count": 878,
      "outputs": [
        {
          "output_type": "execute_result",
          "data": {
            "text/html": [
              "<div>\n",
              "<style scoped>\n",
              "    .dataframe tbody tr th:only-of-type {\n",
              "        vertical-align: middle;\n",
              "    }\n",
              "\n",
              "    .dataframe tbody tr th {\n",
              "        vertical-align: top;\n",
              "    }\n",
              "\n",
              "    .dataframe thead th {\n",
              "        text-align: right;\n",
              "    }\n",
              "</style>\n",
              "<table border=\"1\" class=\"dataframe\">\n",
              "  <thead>\n",
              "    <tr style=\"text-align: right;\">\n",
              "      <th></th>\n",
              "      <th>0</th>\n",
              "      <th>1</th>\n",
              "      <th>2</th>\n",
              "      <th>3</th>\n",
              "    </tr>\n",
              "  </thead>\n",
              "  <tbody>\n",
              "    <tr>\n",
              "      <th>0</th>\n",
              "      <td>11</td>\n",
              "      <td>22</td>\n",
              "      <td>33</td>\n",
              "      <td>44</td>\n",
              "    </tr>\n",
              "    <tr>\n",
              "      <th>1</th>\n",
              "      <td>55</td>\n",
              "      <td>66</td>\n",
              "      <td>77</td>\n",
              "      <td>88</td>\n",
              "    </tr>\n",
              "  </tbody>\n",
              "</table>\n",
              "</div>"
            ],
            "text/plain": [
              "    0   1   2   3\n",
              "0  11  22  33  44\n",
              "1  55  66  77  88"
            ]
          },
          "metadata": {},
          "execution_count": 878
        }
      ]
    },
    {
      "cell_type": "markdown",
      "metadata": {
        "id": "j3r_IzIViigU"
      },
      "source": [
        "넘파이 배열로도 values를 전달할 수 있습니다."
      ]
    },
    {
      "cell_type": "code",
      "metadata": {
        "colab": {
          "base_uri": "https://localhost:8080/",
          "height": 142
        },
        "id": "ka4O4pUWisgm",
        "outputId": "0d3c22d7-4d8d-44a0-f49a-2c05301311e0"
      },
      "source": [
        "np_nums = np.array([[11, 22, 33], [44, 55, 66], [77, 88, 99]])\n",
        "pd.DataFrame(np_nums)"
      ],
      "execution_count": 879,
      "outputs": [
        {
          "output_type": "execute_result",
          "data": {
            "text/html": [
              "<div>\n",
              "<style scoped>\n",
              "    .dataframe tbody tr th:only-of-type {\n",
              "        vertical-align: middle;\n",
              "    }\n",
              "\n",
              "    .dataframe tbody tr th {\n",
              "        vertical-align: top;\n",
              "    }\n",
              "\n",
              "    .dataframe thead th {\n",
              "        text-align: right;\n",
              "    }\n",
              "</style>\n",
              "<table border=\"1\" class=\"dataframe\">\n",
              "  <thead>\n",
              "    <tr style=\"text-align: right;\">\n",
              "      <th></th>\n",
              "      <th>0</th>\n",
              "      <th>1</th>\n",
              "      <th>2</th>\n",
              "    </tr>\n",
              "  </thead>\n",
              "  <tbody>\n",
              "    <tr>\n",
              "      <th>0</th>\n",
              "      <td>11</td>\n",
              "      <td>22</td>\n",
              "      <td>33</td>\n",
              "    </tr>\n",
              "    <tr>\n",
              "      <th>1</th>\n",
              "      <td>44</td>\n",
              "      <td>55</td>\n",
              "      <td>66</td>\n",
              "    </tr>\n",
              "    <tr>\n",
              "      <th>2</th>\n",
              "      <td>77</td>\n",
              "      <td>88</td>\n",
              "      <td>99</td>\n",
              "    </tr>\n",
              "  </tbody>\n",
              "</table>\n",
              "</div>"
            ],
            "text/plain": [
              "    0   1   2\n",
              "0  11  22  33\n",
              "1  44  55  66\n",
              "2  77  88  99"
            ]
          },
          "metadata": {},
          "execution_count": 879
        }
      ]
    },
    {
      "cell_type": "markdown",
      "metadata": {
        "id": "hRs6mJU6jHgx"
      },
      "source": [
        "인덱스와 칼럼명까지 함께 지정하여 데이터 프레임을 만들겠습니다."
      ]
    },
    {
      "cell_type": "code",
      "metadata": {
        "colab": {
          "base_uri": "https://localhost:8080/",
          "height": 142
        },
        "id": "4fQlEH25jMIs",
        "outputId": "e9d86de8-72f0-4f3e-96d4-e45d825207c9"
      },
      "source": [
        "np_nums1 = np.array([[42, 27, 54], [36, 75, 97], [33, 15, 26]])\n",
        "date_index = pd.date_range('2021-10-09', periods=3, freq='3H')\n",
        "col_list = ['사과', '배', '포도']\n",
        "pd.DataFrame(np_nums1, index=date_index, columns=col_list)"
      ],
      "execution_count": 880,
      "outputs": [
        {
          "output_type": "execute_result",
          "data": {
            "text/html": [
              "<div>\n",
              "<style scoped>\n",
              "    .dataframe tbody tr th:only-of-type {\n",
              "        vertical-align: middle;\n",
              "    }\n",
              "\n",
              "    .dataframe tbody tr th {\n",
              "        vertical-align: top;\n",
              "    }\n",
              "\n",
              "    .dataframe thead th {\n",
              "        text-align: right;\n",
              "    }\n",
              "</style>\n",
              "<table border=\"1\" class=\"dataframe\">\n",
              "  <thead>\n",
              "    <tr style=\"text-align: right;\">\n",
              "      <th></th>\n",
              "      <th>사과</th>\n",
              "      <th>배</th>\n",
              "      <th>포도</th>\n",
              "    </tr>\n",
              "  </thead>\n",
              "  <tbody>\n",
              "    <tr>\n",
              "      <th>2021-10-09 00:00:00</th>\n",
              "      <td>42</td>\n",
              "      <td>27</td>\n",
              "      <td>54</td>\n",
              "    </tr>\n",
              "    <tr>\n",
              "      <th>2021-10-09 03:00:00</th>\n",
              "      <td>36</td>\n",
              "      <td>75</td>\n",
              "      <td>97</td>\n",
              "    </tr>\n",
              "    <tr>\n",
              "      <th>2021-10-09 06:00:00</th>\n",
              "      <td>33</td>\n",
              "      <td>15</td>\n",
              "      <td>26</td>\n",
              "    </tr>\n",
              "  </tbody>\n",
              "</table>\n",
              "</div>"
            ],
            "text/plain": [
              "                     사과   배  포도\n",
              "2021-10-09 00:00:00  42  27  54\n",
              "2021-10-09 03:00:00  36  75  97\n",
              "2021-10-09 06:00:00  33  15  26"
            ]
          },
          "metadata": {},
          "execution_count": 880
        }
      ]
    },
    {
      "cell_type": "markdown",
      "metadata": {
        "id": "vlUdWYUv3zWM"
      },
      "source": [
        "딕셔너리로 데이터 프레임을 만들겠습니다."
      ]
    },
    {
      "cell_type": "code",
      "metadata": {
        "colab": {
          "base_uri": "https://localhost:8080/",
          "height": 173
        },
        "id": "2dM6sI8q33TW",
        "outputId": "02787d5f-2b07-419b-c14a-d43882db5166"
      },
      "source": [
        "dic_data1 = {'입대일': ['2012-09-12', '2012-09-12', '2012-09-12', '2012-09-12'],\n",
        "            '군번': [20129948, 20129593, 20129302, 20129352],\n",
        "            '이름': ['이승민', '김대철', '장비호', '이진해'],\n",
        "            '보직': [20, 30, 10, 30]}\n",
        "pd.DataFrame(dic_data1)"
      ],
      "execution_count": 881,
      "outputs": [
        {
          "output_type": "execute_result",
          "data": {
            "text/html": [
              "<div>\n",
              "<style scoped>\n",
              "    .dataframe tbody tr th:only-of-type {\n",
              "        vertical-align: middle;\n",
              "    }\n",
              "\n",
              "    .dataframe tbody tr th {\n",
              "        vertical-align: top;\n",
              "    }\n",
              "\n",
              "    .dataframe thead th {\n",
              "        text-align: right;\n",
              "    }\n",
              "</style>\n",
              "<table border=\"1\" class=\"dataframe\">\n",
              "  <thead>\n",
              "    <tr style=\"text-align: right;\">\n",
              "      <th></th>\n",
              "      <th>입대일</th>\n",
              "      <th>군번</th>\n",
              "      <th>이름</th>\n",
              "      <th>보직</th>\n",
              "    </tr>\n",
              "  </thead>\n",
              "  <tbody>\n",
              "    <tr>\n",
              "      <th>0</th>\n",
              "      <td>2012-09-12</td>\n",
              "      <td>20129948</td>\n",
              "      <td>이승민</td>\n",
              "      <td>20</td>\n",
              "    </tr>\n",
              "    <tr>\n",
              "      <th>1</th>\n",
              "      <td>2012-09-12</td>\n",
              "      <td>20129593</td>\n",
              "      <td>김대철</td>\n",
              "      <td>30</td>\n",
              "    </tr>\n",
              "    <tr>\n",
              "      <th>2</th>\n",
              "      <td>2012-09-12</td>\n",
              "      <td>20129302</td>\n",
              "      <td>장비호</td>\n",
              "      <td>10</td>\n",
              "    </tr>\n",
              "    <tr>\n",
              "      <th>3</th>\n",
              "      <td>2012-09-12</td>\n",
              "      <td>20129352</td>\n",
              "      <td>이진해</td>\n",
              "      <td>30</td>\n",
              "    </tr>\n",
              "  </tbody>\n",
              "</table>\n",
              "</div>"
            ],
            "text/plain": [
              "          입대일        군번   이름  보직\n",
              "0  2012-09-12  20129948  이승민  20\n",
              "1  2012-09-12  20129593  김대철  30\n",
              "2  2012-09-12  20129302  장비호  10\n",
              "3  2012-09-12  20129352  이진해  30"
            ]
          },
          "metadata": {},
          "execution_count": 881
        }
      ]
    },
    {
      "cell_type": "markdown",
      "metadata": {
        "id": "hrGrgrK55nRN"
      },
      "source": [
        "칼럼을 재정렬하겠습니다."
      ]
    },
    {
      "cell_type": "code",
      "metadata": {
        "colab": {
          "base_uri": "https://localhost:8080/",
          "height": 173
        },
        "id": "em2Yz2LP5pn9",
        "outputId": "affbb67f-3e4c-4090-faa7-5c87b8fd8f67"
      },
      "source": [
        "pd.DataFrame(dic_data1, columns=['군번', '입대일', '이름', '보직'])"
      ],
      "execution_count": 882,
      "outputs": [
        {
          "output_type": "execute_result",
          "data": {
            "text/html": [
              "<div>\n",
              "<style scoped>\n",
              "    .dataframe tbody tr th:only-of-type {\n",
              "        vertical-align: middle;\n",
              "    }\n",
              "\n",
              "    .dataframe tbody tr th {\n",
              "        vertical-align: top;\n",
              "    }\n",
              "\n",
              "    .dataframe thead th {\n",
              "        text-align: right;\n",
              "    }\n",
              "</style>\n",
              "<table border=\"1\" class=\"dataframe\">\n",
              "  <thead>\n",
              "    <tr style=\"text-align: right;\">\n",
              "      <th></th>\n",
              "      <th>군번</th>\n",
              "      <th>입대일</th>\n",
              "      <th>이름</th>\n",
              "      <th>보직</th>\n",
              "    </tr>\n",
              "  </thead>\n",
              "  <tbody>\n",
              "    <tr>\n",
              "      <th>0</th>\n",
              "      <td>20129948</td>\n",
              "      <td>2012-09-12</td>\n",
              "      <td>이승민</td>\n",
              "      <td>20</td>\n",
              "    </tr>\n",
              "    <tr>\n",
              "      <th>1</th>\n",
              "      <td>20129593</td>\n",
              "      <td>2012-09-12</td>\n",
              "      <td>김대철</td>\n",
              "      <td>30</td>\n",
              "    </tr>\n",
              "    <tr>\n",
              "      <th>2</th>\n",
              "      <td>20129302</td>\n",
              "      <td>2012-09-12</td>\n",
              "      <td>장비호</td>\n",
              "      <td>10</td>\n",
              "    </tr>\n",
              "    <tr>\n",
              "      <th>3</th>\n",
              "      <td>20129352</td>\n",
              "      <td>2012-09-12</td>\n",
              "      <td>이진해</td>\n",
              "      <td>30</td>\n",
              "    </tr>\n",
              "  </tbody>\n",
              "</table>\n",
              "</div>"
            ],
            "text/plain": [
              "         군번         입대일   이름  보직\n",
              "0  20129948  2012-09-12  이승민  20\n",
              "1  20129593  2012-09-12  김대철  30\n",
              "2  20129302  2012-09-12  장비호  10\n",
              "3  20129352  2012-09-12  이진해  30"
            ]
          },
          "metadata": {},
          "execution_count": 882
        }
      ]
    },
    {
      "cell_type": "markdown",
      "metadata": {
        "id": "IiL8ZLzY5-nI"
      },
      "source": [
        "## **2.2. 데이터 연산하기**"
      ]
    },
    {
      "cell_type": "markdown",
      "metadata": {
        "id": "Re9dQdVN6Roy"
      },
      "source": [
        "시리즈끼리 데이터를 연산할 수 있습니다. 단 연산할 대상이 없는 경우는 'NaN'(Not a Number)으로 처리됩니다."
      ]
    },
    {
      "cell_type": "code",
      "metadata": {
        "colab": {
          "base_uri": "https://localhost:8080/"
        },
        "id": "8KYJReT16DY4",
        "outputId": "ebafaf84-b80d-4e85-db63-9c5d009791f6"
      },
      "source": [
        "series4 = pd.Series(['영', 1, 2, 3])\n",
        "series5 = pd.Series([4, 5, 6, 7, 8])\n",
        "series4 * series5"
      ],
      "execution_count": 883,
      "outputs": [
        {
          "output_type": "execute_result",
          "data": {
            "text/plain": [
              "0    영영영영\n",
              "1       5\n",
              "2      12\n",
              "3      21\n",
              "4     NaN\n",
              "dtype: object"
            ]
          },
          "metadata": {},
          "execution_count": 883
        }
      ]
    },
    {
      "cell_type": "markdown",
      "metadata": {
        "id": "YbJ0hanI-804"
      },
      "source": [
        "'NaN'으로 처리되지 않도록 공백을 0으로 처리할 수 있습니다. 덧셈은 `add()`, 뺄셈은 `sub()`, 곱셈은 `mul()`, 나눗셈은 `div()` 메서드를 적용하되 매개변수 `fill_value`에 `0`을 지정합니다."
      ]
    },
    {
      "cell_type": "code",
      "metadata": {
        "colab": {
          "base_uri": "https://localhost:8080/"
        },
        "id": "isYncJbg_o90",
        "outputId": "d7147aa0-a891-4177-8c8b-610da6b42560"
      },
      "source": [
        "series6 = pd.Series([0, 1, 2, 3])\n",
        "series7 = pd.Series([4, 5, 6, 7, 8])\n",
        "\n",
        "series6.add(series7, fill_value=0)"
      ],
      "execution_count": 884,
      "outputs": [
        {
          "output_type": "execute_result",
          "data": {
            "text/plain": [
              "0     4.0\n",
              "1     6.0\n",
              "2     8.0\n",
              "3    10.0\n",
              "4     8.0\n",
              "dtype: float64"
            ]
          },
          "metadata": {},
          "execution_count": 884
        }
      ]
    },
    {
      "cell_type": "markdown",
      "metadata": {
        "id": "m-uRjA4j7EY0"
      },
      "source": [
        "데이터 프레임끼리도 연산이 가능합니다. 시리즈처럼 연산이 불가능한 경우는 'NaN'으로 처리됩니다."
      ]
    },
    {
      "cell_type": "code",
      "metadata": {
        "colab": {
          "base_uri": "https://localhost:8080/",
          "height": 173
        },
        "id": "1DaCV7_77LMa",
        "outputId": "76f2f3ee-356e-434d-c107-300ad3b2c08d"
      },
      "source": [
        "dic_data2 = {'a': [0, 1, 2],\n",
        "             'b': [3, 4, 5],\n",
        "             'c': [6, 7, 8]}\n",
        "dataframe1 = pd.DataFrame(dic_data2)\n",
        "\n",
        "dic_data3 = {'a': [10, 20, 30, 40],\n",
        "             'b': [50, 60, 70, 80],\n",
        "             'c': [90, 100, 110, 120]}\n",
        "dataframe2 = pd.DataFrame(dic_data3)\n",
        "dataframe1 + dataframe2"
      ],
      "execution_count": 885,
      "outputs": [
        {
          "output_type": "execute_result",
          "data": {
            "text/html": [
              "<div>\n",
              "<style scoped>\n",
              "    .dataframe tbody tr th:only-of-type {\n",
              "        vertical-align: middle;\n",
              "    }\n",
              "\n",
              "    .dataframe tbody tr th {\n",
              "        vertical-align: top;\n",
              "    }\n",
              "\n",
              "    .dataframe thead th {\n",
              "        text-align: right;\n",
              "    }\n",
              "</style>\n",
              "<table border=\"1\" class=\"dataframe\">\n",
              "  <thead>\n",
              "    <tr style=\"text-align: right;\">\n",
              "      <th></th>\n",
              "      <th>a</th>\n",
              "      <th>b</th>\n",
              "      <th>c</th>\n",
              "    </tr>\n",
              "  </thead>\n",
              "  <tbody>\n",
              "    <tr>\n",
              "      <th>0</th>\n",
              "      <td>10.0</td>\n",
              "      <td>53.0</td>\n",
              "      <td>96.0</td>\n",
              "    </tr>\n",
              "    <tr>\n",
              "      <th>1</th>\n",
              "      <td>21.0</td>\n",
              "      <td>64.0</td>\n",
              "      <td>107.0</td>\n",
              "    </tr>\n",
              "    <tr>\n",
              "      <th>2</th>\n",
              "      <td>32.0</td>\n",
              "      <td>75.0</td>\n",
              "      <td>118.0</td>\n",
              "    </tr>\n",
              "    <tr>\n",
              "      <th>3</th>\n",
              "      <td>NaN</td>\n",
              "      <td>NaN</td>\n",
              "      <td>NaN</td>\n",
              "    </tr>\n",
              "  </tbody>\n",
              "</table>\n",
              "</div>"
            ],
            "text/plain": [
              "      a     b      c\n",
              "0  10.0  53.0   96.0\n",
              "1  21.0  64.0  107.0\n",
              "2  32.0  75.0  118.0\n",
              "3   NaN   NaN    NaN"
            ]
          },
          "metadata": {},
          "execution_count": 885
        }
      ]
    },
    {
      "cell_type": "code",
      "metadata": {
        "colab": {
          "base_uri": "https://localhost:8080/",
          "height": 142
        },
        "id": "_QU5O1pNB95r",
        "outputId": "d19d5a47-415c-452a-a6f3-15c4ebe1a610"
      },
      "source": [
        "dataframe1 + 10"
      ],
      "execution_count": 886,
      "outputs": [
        {
          "output_type": "execute_result",
          "data": {
            "text/html": [
              "<div>\n",
              "<style scoped>\n",
              "    .dataframe tbody tr th:only-of-type {\n",
              "        vertical-align: middle;\n",
              "    }\n",
              "\n",
              "    .dataframe tbody tr th {\n",
              "        vertical-align: top;\n",
              "    }\n",
              "\n",
              "    .dataframe thead th {\n",
              "        text-align: right;\n",
              "    }\n",
              "</style>\n",
              "<table border=\"1\" class=\"dataframe\">\n",
              "  <thead>\n",
              "    <tr style=\"text-align: right;\">\n",
              "      <th></th>\n",
              "      <th>a</th>\n",
              "      <th>b</th>\n",
              "      <th>c</th>\n",
              "    </tr>\n",
              "  </thead>\n",
              "  <tbody>\n",
              "    <tr>\n",
              "      <th>0</th>\n",
              "      <td>10</td>\n",
              "      <td>13</td>\n",
              "      <td>16</td>\n",
              "    </tr>\n",
              "    <tr>\n",
              "      <th>1</th>\n",
              "      <td>11</td>\n",
              "      <td>14</td>\n",
              "      <td>17</td>\n",
              "    </tr>\n",
              "    <tr>\n",
              "      <th>2</th>\n",
              "      <td>12</td>\n",
              "      <td>15</td>\n",
              "      <td>18</td>\n",
              "    </tr>\n",
              "  </tbody>\n",
              "</table>\n",
              "</div>"
            ],
            "text/plain": [
              "    a   b   c\n",
              "0  10  13  16\n",
              "1  11  14  17\n",
              "2  12  15  18"
            ]
          },
          "metadata": {},
          "execution_count": 886
        }
      ]
    },
    {
      "cell_type": "markdown",
      "metadata": {
        "id": "a7Z3IGHP8mVE"
      },
      "source": [
        "넘파이와 비슷하게 통계 함수를 사용할 수 있습니다. 아래는 판다스에서 사용할 수 있는 몇 가지 함수 목록입니다.\n",
        "\n",
        "- `sum()`: 합계\n",
        "\n",
        "- `mean()`: 평균\n",
        "\n",
        "- `std()`: 표준 편차\n",
        "\n",
        "- `var()`: 분산\n",
        "\n",
        "- `max()`: 최댓값\n",
        "\n",
        "- `min()`: 최솟값\n",
        "\n",
        "- `cumsum()`: 누적합\n",
        "\n",
        "- `cumprod()`: 누적곱\n",
        "\n",
        "- `median()`: 중간값\n",
        "\n",
        "- `corr()`: 상관계수\n",
        "\n",
        "- `describe()`: 원소 개수, 평균, 표준 편차, 최솟값, 최댓값. 매개변수를 `include=all`로 지정하면 고유값 개수, 최빈값, 빈도수를 추가합니다."
      ]
    },
    {
      "cell_type": "markdown",
      "metadata": {
        "id": "7R81-o2v-PGT"
      },
      "source": [
        "`describe()` 함수에 대한 예시를 들겠습니다."
      ]
    },
    {
      "cell_type": "code",
      "metadata": {
        "colab": {
          "base_uri": "https://localhost:8080/",
          "height": 531
        },
        "id": "zpGWLi4I-UsC",
        "outputId": "b95949e0-cbd2-4f69-e62c-06ed596e156a"
      },
      "source": [
        "dic_data4 = {'사과': [332, 392, 391, 295, 374],\n",
        "             '배': [102, 99, 80, 30, 143],\n",
        "             '포도': [402, 497, 306, 681, 573]}\n",
        "col_list1 = ['포도', '사과', '배']\n",
        "index2 = ['4월', '5월', '6월', '7월', '8월']\n",
        "\n",
        "dataframe3 = pd.DataFrame(dic_data4, columns=col_list1, index=index2)\n",
        "\n",
        "print(dataframe3)\n",
        "print()\n",
        "\n",
        "print('평균')\n",
        "print(dataframe3.mean())\n",
        "print()\n",
        "\n",
        "# `display` 메서드를 사용하면 데이터 프레임 형태로 출력합니다.\n",
        "display(dataframe3.describe())"
      ],
      "execution_count": 887,
      "outputs": [
        {
          "output_type": "stream",
          "name": "stdout",
          "text": [
            "     포도   사과    배\n",
            "4월  402  332  102\n",
            "5월  497  392   99\n",
            "6월  306  391   80\n",
            "7월  681  295   30\n",
            "8월  573  374  143\n",
            "\n",
            "평균\n",
            "포도    491.8\n",
            "사과    356.8\n",
            "배      90.8\n",
            "dtype: float64\n",
            "\n"
          ]
        },
        {
          "output_type": "display_data",
          "data": {
            "text/html": [
              "<div>\n",
              "<style scoped>\n",
              "    .dataframe tbody tr th:only-of-type {\n",
              "        vertical-align: middle;\n",
              "    }\n",
              "\n",
              "    .dataframe tbody tr th {\n",
              "        vertical-align: top;\n",
              "    }\n",
              "\n",
              "    .dataframe thead th {\n",
              "        text-align: right;\n",
              "    }\n",
              "</style>\n",
              "<table border=\"1\" class=\"dataframe\">\n",
              "  <thead>\n",
              "    <tr style=\"text-align: right;\">\n",
              "      <th></th>\n",
              "      <th>포도</th>\n",
              "      <th>사과</th>\n",
              "      <th>배</th>\n",
              "    </tr>\n",
              "  </thead>\n",
              "  <tbody>\n",
              "    <tr>\n",
              "      <th>count</th>\n",
              "      <td>5.000000</td>\n",
              "      <td>5.00000</td>\n",
              "      <td>5.000000</td>\n",
              "    </tr>\n",
              "    <tr>\n",
              "      <th>mean</th>\n",
              "      <td>491.800000</td>\n",
              "      <td>356.80000</td>\n",
              "      <td>90.800000</td>\n",
              "    </tr>\n",
              "    <tr>\n",
              "      <th>std</th>\n",
              "      <td>145.776198</td>\n",
              "      <td>42.24571</td>\n",
              "      <td>41.020726</td>\n",
              "    </tr>\n",
              "    <tr>\n",
              "      <th>min</th>\n",
              "      <td>306.000000</td>\n",
              "      <td>295.00000</td>\n",
              "      <td>30.000000</td>\n",
              "    </tr>\n",
              "    <tr>\n",
              "      <th>25%</th>\n",
              "      <td>402.000000</td>\n",
              "      <td>332.00000</td>\n",
              "      <td>80.000000</td>\n",
              "    </tr>\n",
              "    <tr>\n",
              "      <th>50%</th>\n",
              "      <td>497.000000</td>\n",
              "      <td>374.00000</td>\n",
              "      <td>99.000000</td>\n",
              "    </tr>\n",
              "    <tr>\n",
              "      <th>75%</th>\n",
              "      <td>573.000000</td>\n",
              "      <td>391.00000</td>\n",
              "      <td>102.000000</td>\n",
              "    </tr>\n",
              "    <tr>\n",
              "      <th>max</th>\n",
              "      <td>681.000000</td>\n",
              "      <td>392.00000</td>\n",
              "      <td>143.000000</td>\n",
              "    </tr>\n",
              "  </tbody>\n",
              "</table>\n",
              "</div>"
            ],
            "text/plain": [
              "               포도         사과           배\n",
              "count    5.000000    5.00000    5.000000\n",
              "mean   491.800000  356.80000   90.800000\n",
              "std    145.776198   42.24571   41.020726\n",
              "min    306.000000  295.00000   30.000000\n",
              "25%    402.000000  332.00000   80.000000\n",
              "50%    497.000000  374.00000   99.000000\n",
              "75%    573.000000  391.00000  102.000000\n",
              "max    681.000000  392.00000  143.000000"
            ]
          },
          "metadata": {}
        }
      ]
    },
    {
      "cell_type": "markdown",
      "metadata": {
        "id": "9TKOdidUB9HA"
      },
      "source": [
        "## **2.3. 데이터 선택하기**"
      ]
    },
    {
      "cell_type": "markdown",
      "metadata": {
        "id": "lVIFkvbBDQ8L"
      },
      "source": [
        "먼저 데이터 프레임을 이전보다 크게 생성하겠습니다."
      ]
    },
    {
      "cell_type": "code",
      "metadata": {
        "colab": {
          "base_uri": "https://localhost:8080/",
          "height": 482
        },
        "id": "UADbqPpAFOEJ",
        "outputId": "477ddb86-d8bd-4e05-af8d-ebf68ed4b35e"
      },
      "source": [
        "dic_data5 = {'사과': [332, 392, 391, 295, 374, 333, 282],\n",
        "             '배': [102, 99, 80, 30, 143, 26, 21],\n",
        "             '포도': [402, 497, 306, 681, 573, 777, 821],\n",
        "             '딸기': [756, 741, 794, 772, 703, np.nan, np.nan],\n",
        "             '복숭아': [32, 70, 26, 154, 201, np.nan, np.nan]}\n",
        "col_list2 = ['배', '사과', '포도', '딸기', '복숭아']\n",
        "index3 = ['4월', '5월', '6월', '7월', '8월', '9월', '10월']\n",
        "\n",
        "dataframe4 = pd.DataFrame(dic_data5, columns=col_list2, index=index3)\n",
        "display(dataframe4)\n",
        "print()\n",
        "\n",
        "print(dataframe4.index)\n",
        "print()\n",
        "\n",
        "print(dataframe4.columns)\n",
        "print()\n",
        "\n",
        "print(dataframe4.values)"
      ],
      "execution_count": 888,
      "outputs": [
        {
          "output_type": "display_data",
          "data": {
            "text/html": [
              "<div>\n",
              "<style scoped>\n",
              "    .dataframe tbody tr th:only-of-type {\n",
              "        vertical-align: middle;\n",
              "    }\n",
              "\n",
              "    .dataframe tbody tr th {\n",
              "        vertical-align: top;\n",
              "    }\n",
              "\n",
              "    .dataframe thead th {\n",
              "        text-align: right;\n",
              "    }\n",
              "</style>\n",
              "<table border=\"1\" class=\"dataframe\">\n",
              "  <thead>\n",
              "    <tr style=\"text-align: right;\">\n",
              "      <th></th>\n",
              "      <th>배</th>\n",
              "      <th>사과</th>\n",
              "      <th>포도</th>\n",
              "      <th>딸기</th>\n",
              "      <th>복숭아</th>\n",
              "    </tr>\n",
              "  </thead>\n",
              "  <tbody>\n",
              "    <tr>\n",
              "      <th>4월</th>\n",
              "      <td>102</td>\n",
              "      <td>332</td>\n",
              "      <td>402</td>\n",
              "      <td>756.0</td>\n",
              "      <td>32.0</td>\n",
              "    </tr>\n",
              "    <tr>\n",
              "      <th>5월</th>\n",
              "      <td>99</td>\n",
              "      <td>392</td>\n",
              "      <td>497</td>\n",
              "      <td>741.0</td>\n",
              "      <td>70.0</td>\n",
              "    </tr>\n",
              "    <tr>\n",
              "      <th>6월</th>\n",
              "      <td>80</td>\n",
              "      <td>391</td>\n",
              "      <td>306</td>\n",
              "      <td>794.0</td>\n",
              "      <td>26.0</td>\n",
              "    </tr>\n",
              "    <tr>\n",
              "      <th>7월</th>\n",
              "      <td>30</td>\n",
              "      <td>295</td>\n",
              "      <td>681</td>\n",
              "      <td>772.0</td>\n",
              "      <td>154.0</td>\n",
              "    </tr>\n",
              "    <tr>\n",
              "      <th>8월</th>\n",
              "      <td>143</td>\n",
              "      <td>374</td>\n",
              "      <td>573</td>\n",
              "      <td>703.0</td>\n",
              "      <td>201.0</td>\n",
              "    </tr>\n",
              "    <tr>\n",
              "      <th>9월</th>\n",
              "      <td>26</td>\n",
              "      <td>333</td>\n",
              "      <td>777</td>\n",
              "      <td>NaN</td>\n",
              "      <td>NaN</td>\n",
              "    </tr>\n",
              "    <tr>\n",
              "      <th>10월</th>\n",
              "      <td>21</td>\n",
              "      <td>282</td>\n",
              "      <td>821</td>\n",
              "      <td>NaN</td>\n",
              "      <td>NaN</td>\n",
              "    </tr>\n",
              "  </tbody>\n",
              "</table>\n",
              "</div>"
            ],
            "text/plain": [
              "       배   사과   포도     딸기    복숭아\n",
              "4월   102  332  402  756.0   32.0\n",
              "5월    99  392  497  741.0   70.0\n",
              "6월    80  391  306  794.0   26.0\n",
              "7월    30  295  681  772.0  154.0\n",
              "8월   143  374  573  703.0  201.0\n",
              "9월    26  333  777    NaN    NaN\n",
              "10월   21  282  821    NaN    NaN"
            ]
          },
          "metadata": {}
        },
        {
          "output_type": "stream",
          "name": "stdout",
          "text": [
            "\n",
            "Index(['4월', '5월', '6월', '7월', '8월', '9월', '10월'], dtype='object')\n",
            "\n",
            "Index(['배', '사과', '포도', '딸기', '복숭아'], dtype='object')\n",
            "\n",
            "[[102. 332. 402. 756.  32.]\n",
            " [ 99. 392. 497. 741.  70.]\n",
            " [ 80. 391. 306. 794.  26.]\n",
            " [ 30. 295. 681. 772. 154.]\n",
            " [143. 374. 573. 703. 201.]\n",
            " [ 26. 333. 777.  nan  nan]\n",
            " [ 21. 282. 821.  nan  nan]]\n"
          ]
        }
      ]
    },
    {
      "cell_type": "markdown",
      "metadata": {
        "id": "Z6mpn8AEHP03"
      },
      "source": [
        "전체 데이터를 모두 선택하지 않고 앞과 뒤의 일부 데이터만 선택하려면 각각 `head()` 메서드와 `tail()` 메서드를 사용합니다. 괄호 안에 숫자를 인자로 지정하면 데이터가 숫자만큼 출력됩니다. 기본값은 `5`입니다."
      ]
    },
    {
      "cell_type": "code",
      "metadata": {
        "colab": {
          "base_uri": "https://localhost:8080/",
          "height": 204
        },
        "id": "KDSbA7hMHiJK",
        "outputId": "0c9e0d9f-cd31-4d71-c9c9-789ebed78237"
      },
      "source": [
        "dataframe4.head()"
      ],
      "execution_count": 889,
      "outputs": [
        {
          "output_type": "execute_result",
          "data": {
            "text/html": [
              "<div>\n",
              "<style scoped>\n",
              "    .dataframe tbody tr th:only-of-type {\n",
              "        vertical-align: middle;\n",
              "    }\n",
              "\n",
              "    .dataframe tbody tr th {\n",
              "        vertical-align: top;\n",
              "    }\n",
              "\n",
              "    .dataframe thead th {\n",
              "        text-align: right;\n",
              "    }\n",
              "</style>\n",
              "<table border=\"1\" class=\"dataframe\">\n",
              "  <thead>\n",
              "    <tr style=\"text-align: right;\">\n",
              "      <th></th>\n",
              "      <th>배</th>\n",
              "      <th>사과</th>\n",
              "      <th>포도</th>\n",
              "      <th>딸기</th>\n",
              "      <th>복숭아</th>\n",
              "    </tr>\n",
              "  </thead>\n",
              "  <tbody>\n",
              "    <tr>\n",
              "      <th>4월</th>\n",
              "      <td>102</td>\n",
              "      <td>332</td>\n",
              "      <td>402</td>\n",
              "      <td>756.0</td>\n",
              "      <td>32.0</td>\n",
              "    </tr>\n",
              "    <tr>\n",
              "      <th>5월</th>\n",
              "      <td>99</td>\n",
              "      <td>392</td>\n",
              "      <td>497</td>\n",
              "      <td>741.0</td>\n",
              "      <td>70.0</td>\n",
              "    </tr>\n",
              "    <tr>\n",
              "      <th>6월</th>\n",
              "      <td>80</td>\n",
              "      <td>391</td>\n",
              "      <td>306</td>\n",
              "      <td>794.0</td>\n",
              "      <td>26.0</td>\n",
              "    </tr>\n",
              "    <tr>\n",
              "      <th>7월</th>\n",
              "      <td>30</td>\n",
              "      <td>295</td>\n",
              "      <td>681</td>\n",
              "      <td>772.0</td>\n",
              "      <td>154.0</td>\n",
              "    </tr>\n",
              "    <tr>\n",
              "      <th>8월</th>\n",
              "      <td>143</td>\n",
              "      <td>374</td>\n",
              "      <td>573</td>\n",
              "      <td>703.0</td>\n",
              "      <td>201.0</td>\n",
              "    </tr>\n",
              "  </tbody>\n",
              "</table>\n",
              "</div>"
            ],
            "text/plain": [
              "      배   사과   포도     딸기    복숭아\n",
              "4월  102  332  402  756.0   32.0\n",
              "5월   99  392  497  741.0   70.0\n",
              "6월   80  391  306  794.0   26.0\n",
              "7월   30  295  681  772.0  154.0\n",
              "8월  143  374  573  703.0  201.0"
            ]
          },
          "metadata": {},
          "execution_count": 889
        }
      ]
    },
    {
      "cell_type": "code",
      "metadata": {
        "colab": {
          "base_uri": "https://localhost:8080/",
          "height": 142
        },
        "id": "CmLPI5pVHyd9",
        "outputId": "dc29204c-5de3-4091-87ac-a41cb2935332"
      },
      "source": [
        "dataframe4.tail(3)"
      ],
      "execution_count": 890,
      "outputs": [
        {
          "output_type": "execute_result",
          "data": {
            "text/html": [
              "<div>\n",
              "<style scoped>\n",
              "    .dataframe tbody tr th:only-of-type {\n",
              "        vertical-align: middle;\n",
              "    }\n",
              "\n",
              "    .dataframe tbody tr th {\n",
              "        vertical-align: top;\n",
              "    }\n",
              "\n",
              "    .dataframe thead th {\n",
              "        text-align: right;\n",
              "    }\n",
              "</style>\n",
              "<table border=\"1\" class=\"dataframe\">\n",
              "  <thead>\n",
              "    <tr style=\"text-align: right;\">\n",
              "      <th></th>\n",
              "      <th>배</th>\n",
              "      <th>사과</th>\n",
              "      <th>포도</th>\n",
              "      <th>딸기</th>\n",
              "      <th>복숭아</th>\n",
              "    </tr>\n",
              "  </thead>\n",
              "  <tbody>\n",
              "    <tr>\n",
              "      <th>8월</th>\n",
              "      <td>143</td>\n",
              "      <td>374</td>\n",
              "      <td>573</td>\n",
              "      <td>703.0</td>\n",
              "      <td>201.0</td>\n",
              "    </tr>\n",
              "    <tr>\n",
              "      <th>9월</th>\n",
              "      <td>26</td>\n",
              "      <td>333</td>\n",
              "      <td>777</td>\n",
              "      <td>NaN</td>\n",
              "      <td>NaN</td>\n",
              "    </tr>\n",
              "    <tr>\n",
              "      <th>10월</th>\n",
              "      <td>21</td>\n",
              "      <td>282</td>\n",
              "      <td>821</td>\n",
              "      <td>NaN</td>\n",
              "      <td>NaN</td>\n",
              "    </tr>\n",
              "  </tbody>\n",
              "</table>\n",
              "</div>"
            ],
            "text/plain": [
              "       배   사과   포도     딸기    복숭아\n",
              "8월   143  374  573  703.0  201.0\n",
              "9월    26  333  777    NaN    NaN\n",
              "10월   21  282  821    NaN    NaN"
            ]
          },
          "metadata": {},
          "execution_count": 890
        }
      ]
    },
    {
      "cell_type": "markdown",
      "metadata": {
        "id": "VfSOrQb2IPFv"
      },
      "source": [
        "원하는 행을 출력하려면 슬라이싱을 사용합니다."
      ]
    },
    {
      "cell_type": "code",
      "metadata": {
        "colab": {
          "base_uri": "https://localhost:8080/",
          "height": 173
        },
        "id": "AB2UXjp5IT4P",
        "outputId": "0282afbc-64f6-4ffb-db3b-fd7dec2ce368"
      },
      "source": [
        "dataframe4[2:6]"
      ],
      "execution_count": 891,
      "outputs": [
        {
          "output_type": "execute_result",
          "data": {
            "text/html": [
              "<div>\n",
              "<style scoped>\n",
              "    .dataframe tbody tr th:only-of-type {\n",
              "        vertical-align: middle;\n",
              "    }\n",
              "\n",
              "    .dataframe tbody tr th {\n",
              "        vertical-align: top;\n",
              "    }\n",
              "\n",
              "    .dataframe thead th {\n",
              "        text-align: right;\n",
              "    }\n",
              "</style>\n",
              "<table border=\"1\" class=\"dataframe\">\n",
              "  <thead>\n",
              "    <tr style=\"text-align: right;\">\n",
              "      <th></th>\n",
              "      <th>배</th>\n",
              "      <th>사과</th>\n",
              "      <th>포도</th>\n",
              "      <th>딸기</th>\n",
              "      <th>복숭아</th>\n",
              "    </tr>\n",
              "  </thead>\n",
              "  <tbody>\n",
              "    <tr>\n",
              "      <th>6월</th>\n",
              "      <td>80</td>\n",
              "      <td>391</td>\n",
              "      <td>306</td>\n",
              "      <td>794.0</td>\n",
              "      <td>26.0</td>\n",
              "    </tr>\n",
              "    <tr>\n",
              "      <th>7월</th>\n",
              "      <td>30</td>\n",
              "      <td>295</td>\n",
              "      <td>681</td>\n",
              "      <td>772.0</td>\n",
              "      <td>154.0</td>\n",
              "    </tr>\n",
              "    <tr>\n",
              "      <th>8월</th>\n",
              "      <td>143</td>\n",
              "      <td>374</td>\n",
              "      <td>573</td>\n",
              "      <td>703.0</td>\n",
              "      <td>201.0</td>\n",
              "    </tr>\n",
              "    <tr>\n",
              "      <th>9월</th>\n",
              "      <td>26</td>\n",
              "      <td>333</td>\n",
              "      <td>777</td>\n",
              "      <td>NaN</td>\n",
              "      <td>NaN</td>\n",
              "    </tr>\n",
              "  </tbody>\n",
              "</table>\n",
              "</div>"
            ],
            "text/plain": [
              "      배   사과   포도     딸기    복숭아\n",
              "6월   80  391  306  794.0   26.0\n",
              "7월   30  295  681  772.0  154.0\n",
              "8월  143  374  573  703.0  201.0\n",
              "9월   26  333  777    NaN    NaN"
            ]
          },
          "metadata": {},
          "execution_count": 891
        }
      ]
    },
    {
      "cell_type": "markdown",
      "metadata": {
        "id": "JPlAxtKlIiLD"
      },
      "source": [
        "`loc[]` 메서드에 인덱스명을 지정해서 해당하는 행만 인덱싱 할 수 있습니다."
      ]
    },
    {
      "cell_type": "code",
      "metadata": {
        "colab": {
          "base_uri": "https://localhost:8080/"
        },
        "id": "gfALC2_uIpyb",
        "outputId": "2fb2f8e4-3f6e-4306-8b3f-61d0a871ab10"
      },
      "source": [
        "dataframe4.loc['8월']"
      ],
      "execution_count": 892,
      "outputs": [
        {
          "output_type": "execute_result",
          "data": {
            "text/plain": [
              "배      143.0\n",
              "사과     374.0\n",
              "포도     573.0\n",
              "딸기     703.0\n",
              "복숭아    201.0\n",
              "Name: 8월, dtype: float64"
            ]
          },
          "metadata": {},
          "execution_count": 892
        }
      ]
    },
    {
      "cell_type": "markdown",
      "metadata": {
        "id": "ddmBnTETIIBw"
      },
      "source": [
        "`iloc[]` 메서드에는 위치 숫자를 지정합니다."
      ]
    },
    {
      "cell_type": "code",
      "metadata": {
        "colab": {
          "base_uri": "https://localhost:8080/"
        },
        "id": "0IC-31_UHS8e",
        "outputId": "e887a90c-e8a7-4003-f2a3-88267d92cac9"
      },
      "source": [
        "dataframe4.iloc[4]"
      ],
      "execution_count": 893,
      "outputs": [
        {
          "output_type": "execute_result",
          "data": {
            "text/plain": [
              "배      143.0\n",
              "사과     374.0\n",
              "포도     573.0\n",
              "딸기     703.0\n",
              "복숭아    201.0\n",
              "Name: 8월, dtype: float64"
            ]
          },
          "metadata": {},
          "execution_count": 893
        }
      ]
    },
    {
      "cell_type": "markdown",
      "metadata": {
        "id": "etQOV1KHIL2B"
      },
      "source": [
        "여러 행을 선택하겠습니다. 리스트로 한 번 더 묶습니다."
      ]
    },
    {
      "cell_type": "code",
      "metadata": {
        "colab": {
          "base_uri": "https://localhost:8080/",
          "height": 111
        },
        "id": "Zp-KAKaYIKrs",
        "outputId": "4654acb7-d1ec-4f70-8e75-df26a6a1298d"
      },
      "source": [
        "dataframe4.loc[['8월', '10월']]"
      ],
      "execution_count": 894,
      "outputs": [
        {
          "output_type": "execute_result",
          "data": {
            "text/html": [
              "<div>\n",
              "<style scoped>\n",
              "    .dataframe tbody tr th:only-of-type {\n",
              "        vertical-align: middle;\n",
              "    }\n",
              "\n",
              "    .dataframe tbody tr th {\n",
              "        vertical-align: top;\n",
              "    }\n",
              "\n",
              "    .dataframe thead th {\n",
              "        text-align: right;\n",
              "    }\n",
              "</style>\n",
              "<table border=\"1\" class=\"dataframe\">\n",
              "  <thead>\n",
              "    <tr style=\"text-align: right;\">\n",
              "      <th></th>\n",
              "      <th>배</th>\n",
              "      <th>사과</th>\n",
              "      <th>포도</th>\n",
              "      <th>딸기</th>\n",
              "      <th>복숭아</th>\n",
              "    </tr>\n",
              "  </thead>\n",
              "  <tbody>\n",
              "    <tr>\n",
              "      <th>8월</th>\n",
              "      <td>143</td>\n",
              "      <td>374</td>\n",
              "      <td>573</td>\n",
              "      <td>703.0</td>\n",
              "      <td>201.0</td>\n",
              "    </tr>\n",
              "    <tr>\n",
              "      <th>10월</th>\n",
              "      <td>21</td>\n",
              "      <td>282</td>\n",
              "      <td>821</td>\n",
              "      <td>NaN</td>\n",
              "      <td>NaN</td>\n",
              "    </tr>\n",
              "  </tbody>\n",
              "</table>\n",
              "</div>"
            ],
            "text/plain": [
              "       배   사과   포도     딸기    복숭아\n",
              "8월   143  374  573  703.0  201.0\n",
              "10월   21  282  821    NaN    NaN"
            ]
          },
          "metadata": {},
          "execution_count": 894
        }
      ]
    },
    {
      "cell_type": "code",
      "metadata": {
        "colab": {
          "base_uri": "https://localhost:8080/",
          "height": 111
        },
        "id": "kYW-6BbMIWh1",
        "outputId": "69e32703-3884-4eed-f45e-5c0936c7c01f"
      },
      "source": [
        "dataframe4.iloc[[4, 6]]"
      ],
      "execution_count": 895,
      "outputs": [
        {
          "output_type": "execute_result",
          "data": {
            "text/html": [
              "<div>\n",
              "<style scoped>\n",
              "    .dataframe tbody tr th:only-of-type {\n",
              "        vertical-align: middle;\n",
              "    }\n",
              "\n",
              "    .dataframe tbody tr th {\n",
              "        vertical-align: top;\n",
              "    }\n",
              "\n",
              "    .dataframe thead th {\n",
              "        text-align: right;\n",
              "    }\n",
              "</style>\n",
              "<table border=\"1\" class=\"dataframe\">\n",
              "  <thead>\n",
              "    <tr style=\"text-align: right;\">\n",
              "      <th></th>\n",
              "      <th>배</th>\n",
              "      <th>사과</th>\n",
              "      <th>포도</th>\n",
              "      <th>딸기</th>\n",
              "      <th>복숭아</th>\n",
              "    </tr>\n",
              "  </thead>\n",
              "  <tbody>\n",
              "    <tr>\n",
              "      <th>8월</th>\n",
              "      <td>143</td>\n",
              "      <td>374</td>\n",
              "      <td>573</td>\n",
              "      <td>703.0</td>\n",
              "      <td>201.0</td>\n",
              "    </tr>\n",
              "    <tr>\n",
              "      <th>10월</th>\n",
              "      <td>21</td>\n",
              "      <td>282</td>\n",
              "      <td>821</td>\n",
              "      <td>NaN</td>\n",
              "      <td>NaN</td>\n",
              "    </tr>\n",
              "  </tbody>\n",
              "</table>\n",
              "</div>"
            ],
            "text/plain": [
              "       배   사과   포도     딸기    복숭아\n",
              "8월   143  374  573  703.0  201.0\n",
              "10월   21  282  821    NaN    NaN"
            ]
          },
          "metadata": {},
          "execution_count": 895
        }
      ]
    },
    {
      "cell_type": "markdown",
      "metadata": {
        "id": "S-IlrXoaJL_5"
      },
      "source": [
        "`loc[]` 메서드로 인덱스를 슬라이싱 할 수도 있습니다. '8월'부터 마지막까지 가져오겠습니다. `iloc[]` 메서드도 사용법은 동일합니다."
      ]
    },
    {
      "cell_type": "code",
      "metadata": {
        "colab": {
          "base_uri": "https://localhost:8080/",
          "height": 142
        },
        "id": "k9ruhllpJYjU",
        "outputId": "290e2dab-9dbc-439b-894f-869fb0f472d2"
      },
      "source": [
        "dataframe4.loc['8월':]"
      ],
      "execution_count": 896,
      "outputs": [
        {
          "output_type": "execute_result",
          "data": {
            "text/html": [
              "<div>\n",
              "<style scoped>\n",
              "    .dataframe tbody tr th:only-of-type {\n",
              "        vertical-align: middle;\n",
              "    }\n",
              "\n",
              "    .dataframe tbody tr th {\n",
              "        vertical-align: top;\n",
              "    }\n",
              "\n",
              "    .dataframe thead th {\n",
              "        text-align: right;\n",
              "    }\n",
              "</style>\n",
              "<table border=\"1\" class=\"dataframe\">\n",
              "  <thead>\n",
              "    <tr style=\"text-align: right;\">\n",
              "      <th></th>\n",
              "      <th>배</th>\n",
              "      <th>사과</th>\n",
              "      <th>포도</th>\n",
              "      <th>딸기</th>\n",
              "      <th>복숭아</th>\n",
              "    </tr>\n",
              "  </thead>\n",
              "  <tbody>\n",
              "    <tr>\n",
              "      <th>8월</th>\n",
              "      <td>143</td>\n",
              "      <td>374</td>\n",
              "      <td>573</td>\n",
              "      <td>703.0</td>\n",
              "      <td>201.0</td>\n",
              "    </tr>\n",
              "    <tr>\n",
              "      <th>9월</th>\n",
              "      <td>26</td>\n",
              "      <td>333</td>\n",
              "      <td>777</td>\n",
              "      <td>NaN</td>\n",
              "      <td>NaN</td>\n",
              "    </tr>\n",
              "    <tr>\n",
              "      <th>10월</th>\n",
              "      <td>21</td>\n",
              "      <td>282</td>\n",
              "      <td>821</td>\n",
              "      <td>NaN</td>\n",
              "      <td>NaN</td>\n",
              "    </tr>\n",
              "  </tbody>\n",
              "</table>\n",
              "</div>"
            ],
            "text/plain": [
              "       배   사과   포도     딸기    복숭아\n",
              "8월   143  374  573  703.0  201.0\n",
              "9월    26  333  777    NaN    NaN\n",
              "10월   21  282  821    NaN    NaN"
            ]
          },
          "metadata": {},
          "execution_count": 896
        }
      ]
    },
    {
      "cell_type": "markdown",
      "metadata": {
        "id": "zklcjv0hKStk"
      },
      "source": [
        "`iloc[]` 메서드를 사용해서 슬라이싱 하겠습니다. 전체 데이터에 대하여 슬라이싱 간격을 `3`으로 지정하겠습니다."
      ]
    },
    {
      "cell_type": "code",
      "metadata": {
        "colab": {
          "base_uri": "https://localhost:8080/",
          "height": 142
        },
        "id": "c1MI0l7OKfrE",
        "outputId": "ef8e6368-a6ab-4855-d6df-5c6a3c07f4d6"
      },
      "source": [
        "dataframe4.iloc[::3]"
      ],
      "execution_count": 897,
      "outputs": [
        {
          "output_type": "execute_result",
          "data": {
            "text/html": [
              "<div>\n",
              "<style scoped>\n",
              "    .dataframe tbody tr th:only-of-type {\n",
              "        vertical-align: middle;\n",
              "    }\n",
              "\n",
              "    .dataframe tbody tr th {\n",
              "        vertical-align: top;\n",
              "    }\n",
              "\n",
              "    .dataframe thead th {\n",
              "        text-align: right;\n",
              "    }\n",
              "</style>\n",
              "<table border=\"1\" class=\"dataframe\">\n",
              "  <thead>\n",
              "    <tr style=\"text-align: right;\">\n",
              "      <th></th>\n",
              "      <th>배</th>\n",
              "      <th>사과</th>\n",
              "      <th>포도</th>\n",
              "      <th>딸기</th>\n",
              "      <th>복숭아</th>\n",
              "    </tr>\n",
              "  </thead>\n",
              "  <tbody>\n",
              "    <tr>\n",
              "      <th>4월</th>\n",
              "      <td>102</td>\n",
              "      <td>332</td>\n",
              "      <td>402</td>\n",
              "      <td>756.0</td>\n",
              "      <td>32.0</td>\n",
              "    </tr>\n",
              "    <tr>\n",
              "      <th>7월</th>\n",
              "      <td>30</td>\n",
              "      <td>295</td>\n",
              "      <td>681</td>\n",
              "      <td>772.0</td>\n",
              "      <td>154.0</td>\n",
              "    </tr>\n",
              "    <tr>\n",
              "      <th>10월</th>\n",
              "      <td>21</td>\n",
              "      <td>282</td>\n",
              "      <td>821</td>\n",
              "      <td>NaN</td>\n",
              "      <td>NaN</td>\n",
              "    </tr>\n",
              "  </tbody>\n",
              "</table>\n",
              "</div>"
            ],
            "text/plain": [
              "       배   사과   포도     딸기    복숭아\n",
              "4월   102  332  402  756.0   32.0\n",
              "7월    30  295  681  772.0  154.0\n",
              "10월   21  282  821    NaN    NaN"
            ]
          },
          "metadata": {},
          "execution_count": 897
        }
      ]
    },
    {
      "cell_type": "markdown",
      "metadata": {
        "id": "q6e3Fn6BKzum"
      },
      "source": [
        "슬라이싱 간격을 `-1`로 지정하면 데이터가 역순으로 출력됩니다."
      ]
    },
    {
      "cell_type": "code",
      "metadata": {
        "colab": {
          "base_uri": "https://localhost:8080/",
          "height": 266
        },
        "id": "vhA-9aeWK5E4",
        "outputId": "95594bea-6e52-4461-edc3-93ecea1b76b6"
      },
      "source": [
        "dataframe4.iloc[::-1]"
      ],
      "execution_count": 898,
      "outputs": [
        {
          "output_type": "execute_result",
          "data": {
            "text/html": [
              "<div>\n",
              "<style scoped>\n",
              "    .dataframe tbody tr th:only-of-type {\n",
              "        vertical-align: middle;\n",
              "    }\n",
              "\n",
              "    .dataframe tbody tr th {\n",
              "        vertical-align: top;\n",
              "    }\n",
              "\n",
              "    .dataframe thead th {\n",
              "        text-align: right;\n",
              "    }\n",
              "</style>\n",
              "<table border=\"1\" class=\"dataframe\">\n",
              "  <thead>\n",
              "    <tr style=\"text-align: right;\">\n",
              "      <th></th>\n",
              "      <th>배</th>\n",
              "      <th>사과</th>\n",
              "      <th>포도</th>\n",
              "      <th>딸기</th>\n",
              "      <th>복숭아</th>\n",
              "    </tr>\n",
              "  </thead>\n",
              "  <tbody>\n",
              "    <tr>\n",
              "      <th>10월</th>\n",
              "      <td>21</td>\n",
              "      <td>282</td>\n",
              "      <td>821</td>\n",
              "      <td>NaN</td>\n",
              "      <td>NaN</td>\n",
              "    </tr>\n",
              "    <tr>\n",
              "      <th>9월</th>\n",
              "      <td>26</td>\n",
              "      <td>333</td>\n",
              "      <td>777</td>\n",
              "      <td>NaN</td>\n",
              "      <td>NaN</td>\n",
              "    </tr>\n",
              "    <tr>\n",
              "      <th>8월</th>\n",
              "      <td>143</td>\n",
              "      <td>374</td>\n",
              "      <td>573</td>\n",
              "      <td>703.0</td>\n",
              "      <td>201.0</td>\n",
              "    </tr>\n",
              "    <tr>\n",
              "      <th>7월</th>\n",
              "      <td>30</td>\n",
              "      <td>295</td>\n",
              "      <td>681</td>\n",
              "      <td>772.0</td>\n",
              "      <td>154.0</td>\n",
              "    </tr>\n",
              "    <tr>\n",
              "      <th>6월</th>\n",
              "      <td>80</td>\n",
              "      <td>391</td>\n",
              "      <td>306</td>\n",
              "      <td>794.0</td>\n",
              "      <td>26.0</td>\n",
              "    </tr>\n",
              "    <tr>\n",
              "      <th>5월</th>\n",
              "      <td>99</td>\n",
              "      <td>392</td>\n",
              "      <td>497</td>\n",
              "      <td>741.0</td>\n",
              "      <td>70.0</td>\n",
              "    </tr>\n",
              "    <tr>\n",
              "      <th>4월</th>\n",
              "      <td>102</td>\n",
              "      <td>332</td>\n",
              "      <td>402</td>\n",
              "      <td>756.0</td>\n",
              "      <td>32.0</td>\n",
              "    </tr>\n",
              "  </tbody>\n",
              "</table>\n",
              "</div>"
            ],
            "text/plain": [
              "       배   사과   포도     딸기    복숭아\n",
              "10월   21  282  821    NaN    NaN\n",
              "9월    26  333  777    NaN    NaN\n",
              "8월   143  374  573  703.0  201.0\n",
              "7월    30  295  681  772.0  154.0\n",
              "6월    80  391  306  794.0   26.0\n",
              "5월    99  392  497  741.0   70.0\n",
              "4월   102  332  402  756.0   32.0"
            ]
          },
          "metadata": {},
          "execution_count": 898
        }
      ]
    },
    {
      "cell_type": "markdown",
      "metadata": {
        "id": "gTRJKBWtJn66"
      },
      "source": [
        "열을 하나만 가져오겠습니다. 두 가지 방법을 예시합니다. 참고로 행부터 참조하는 방식으로서 인덱스를 가져오려면 반드시 `loc[]` 메서드를 사용해야 합니다."
      ]
    },
    {
      "cell_type": "code",
      "metadata": {
        "colab": {
          "base_uri": "https://localhost:8080/"
        },
        "id": "K6jF7uvSJ09r",
        "outputId": "51aec411-004d-4cc7-c3d8-547237dc08d2"
      },
      "source": [
        "dataframe4['딸기']"
      ],
      "execution_count": 899,
      "outputs": [
        {
          "output_type": "execute_result",
          "data": {
            "text/plain": [
              "4월     756.0\n",
              "5월     741.0\n",
              "6월     794.0\n",
              "7월     772.0\n",
              "8월     703.0\n",
              "9월       NaN\n",
              "10월      NaN\n",
              "Name: 딸기, dtype: float64"
            ]
          },
          "metadata": {},
          "execution_count": 899
        }
      ]
    },
    {
      "cell_type": "code",
      "metadata": {
        "colab": {
          "base_uri": "https://localhost:8080/"
        },
        "id": "cIb4daA6JGR8",
        "outputId": "3a4245b7-1644-4be5-a8c6-d9b2317e921b"
      },
      "source": [
        "dataframe4.딸기"
      ],
      "execution_count": 900,
      "outputs": [
        {
          "output_type": "execute_result",
          "data": {
            "text/plain": [
              "4월     756.0\n",
              "5월     741.0\n",
              "6월     794.0\n",
              "7월     772.0\n",
              "8월     703.0\n",
              "9월       NaN\n",
              "10월      NaN\n",
              "Name: 딸기, dtype: float64"
            ]
          },
          "metadata": {},
          "execution_count": 900
        }
      ]
    },
    {
      "cell_type": "markdown",
      "metadata": {
        "id": "JL1eyVQvKJgZ"
      },
      "source": [
        "열을 두 개 가져오겠습니다. 다수의 원소는 리스트로 한 번 더 묶어야 합니다."
      ]
    },
    {
      "cell_type": "code",
      "metadata": {
        "colab": {
          "base_uri": "https://localhost:8080/",
          "height": 266
        },
        "id": "HsWjupAQKLqi",
        "outputId": "eeaec6bd-96a5-4213-a698-687907b126eb"
      },
      "source": [
        "dataframe4[['딸기', '포도']]"
      ],
      "execution_count": 901,
      "outputs": [
        {
          "output_type": "execute_result",
          "data": {
            "text/html": [
              "<div>\n",
              "<style scoped>\n",
              "    .dataframe tbody tr th:only-of-type {\n",
              "        vertical-align: middle;\n",
              "    }\n",
              "\n",
              "    .dataframe tbody tr th {\n",
              "        vertical-align: top;\n",
              "    }\n",
              "\n",
              "    .dataframe thead th {\n",
              "        text-align: right;\n",
              "    }\n",
              "</style>\n",
              "<table border=\"1\" class=\"dataframe\">\n",
              "  <thead>\n",
              "    <tr style=\"text-align: right;\">\n",
              "      <th></th>\n",
              "      <th>딸기</th>\n",
              "      <th>포도</th>\n",
              "    </tr>\n",
              "  </thead>\n",
              "  <tbody>\n",
              "    <tr>\n",
              "      <th>4월</th>\n",
              "      <td>756.0</td>\n",
              "      <td>402</td>\n",
              "    </tr>\n",
              "    <tr>\n",
              "      <th>5월</th>\n",
              "      <td>741.0</td>\n",
              "      <td>497</td>\n",
              "    </tr>\n",
              "    <tr>\n",
              "      <th>6월</th>\n",
              "      <td>794.0</td>\n",
              "      <td>306</td>\n",
              "    </tr>\n",
              "    <tr>\n",
              "      <th>7월</th>\n",
              "      <td>772.0</td>\n",
              "      <td>681</td>\n",
              "    </tr>\n",
              "    <tr>\n",
              "      <th>8월</th>\n",
              "      <td>703.0</td>\n",
              "      <td>573</td>\n",
              "    </tr>\n",
              "    <tr>\n",
              "      <th>9월</th>\n",
              "      <td>NaN</td>\n",
              "      <td>777</td>\n",
              "    </tr>\n",
              "    <tr>\n",
              "      <th>10월</th>\n",
              "      <td>NaN</td>\n",
              "      <td>821</td>\n",
              "    </tr>\n",
              "  </tbody>\n",
              "</table>\n",
              "</div>"
            ],
            "text/plain": [
              "        딸기   포도\n",
              "4월   756.0  402\n",
              "5월   741.0  497\n",
              "6월   794.0  306\n",
              "7월   772.0  681\n",
              "8월   703.0  573\n",
              "9월     NaN  777\n",
              "10월    NaN  821"
            ]
          },
          "metadata": {},
          "execution_count": 901
        }
      ]
    },
    {
      "cell_type": "markdown",
      "metadata": {
        "id": "Emp1vGQ8QyLq"
      },
      "source": [
        "이미 존재하는 데이터프레임의 열 순서를 바꾸려면 아래처럼 열을 리스트로 지정하고 객체로 넘겨주면 간단합니다. "
      ]
    },
    {
      "cell_type": "code",
      "metadata": {
        "colab": {
          "base_uri": "https://localhost:8080/",
          "height": 266
        },
        "id": "HqcWxde8QjZO",
        "outputId": "ada9f6bf-bb24-4166-daf1-d3486e2eda76"
      },
      "source": [
        "dataframe4_test = dataframe4[['딸기', '포도', '배', '사과', '복숭아']]\n",
        "dataframe4_test"
      ],
      "execution_count": 902,
      "outputs": [
        {
          "output_type": "execute_result",
          "data": {
            "text/html": [
              "<div>\n",
              "<style scoped>\n",
              "    .dataframe tbody tr th:only-of-type {\n",
              "        vertical-align: middle;\n",
              "    }\n",
              "\n",
              "    .dataframe tbody tr th {\n",
              "        vertical-align: top;\n",
              "    }\n",
              "\n",
              "    .dataframe thead th {\n",
              "        text-align: right;\n",
              "    }\n",
              "</style>\n",
              "<table border=\"1\" class=\"dataframe\">\n",
              "  <thead>\n",
              "    <tr style=\"text-align: right;\">\n",
              "      <th></th>\n",
              "      <th>딸기</th>\n",
              "      <th>포도</th>\n",
              "      <th>배</th>\n",
              "      <th>사과</th>\n",
              "      <th>복숭아</th>\n",
              "    </tr>\n",
              "  </thead>\n",
              "  <tbody>\n",
              "    <tr>\n",
              "      <th>4월</th>\n",
              "      <td>756.0</td>\n",
              "      <td>402</td>\n",
              "      <td>102</td>\n",
              "      <td>332</td>\n",
              "      <td>32.0</td>\n",
              "    </tr>\n",
              "    <tr>\n",
              "      <th>5월</th>\n",
              "      <td>741.0</td>\n",
              "      <td>497</td>\n",
              "      <td>99</td>\n",
              "      <td>392</td>\n",
              "      <td>70.0</td>\n",
              "    </tr>\n",
              "    <tr>\n",
              "      <th>6월</th>\n",
              "      <td>794.0</td>\n",
              "      <td>306</td>\n",
              "      <td>80</td>\n",
              "      <td>391</td>\n",
              "      <td>26.0</td>\n",
              "    </tr>\n",
              "    <tr>\n",
              "      <th>7월</th>\n",
              "      <td>772.0</td>\n",
              "      <td>681</td>\n",
              "      <td>30</td>\n",
              "      <td>295</td>\n",
              "      <td>154.0</td>\n",
              "    </tr>\n",
              "    <tr>\n",
              "      <th>8월</th>\n",
              "      <td>703.0</td>\n",
              "      <td>573</td>\n",
              "      <td>143</td>\n",
              "      <td>374</td>\n",
              "      <td>201.0</td>\n",
              "    </tr>\n",
              "    <tr>\n",
              "      <th>9월</th>\n",
              "      <td>NaN</td>\n",
              "      <td>777</td>\n",
              "      <td>26</td>\n",
              "      <td>333</td>\n",
              "      <td>NaN</td>\n",
              "    </tr>\n",
              "    <tr>\n",
              "      <th>10월</th>\n",
              "      <td>NaN</td>\n",
              "      <td>821</td>\n",
              "      <td>21</td>\n",
              "      <td>282</td>\n",
              "      <td>NaN</td>\n",
              "    </tr>\n",
              "  </tbody>\n",
              "</table>\n",
              "</div>"
            ],
            "text/plain": [
              "        딸기   포도    배   사과    복숭아\n",
              "4월   756.0  402  102  332   32.0\n",
              "5월   741.0  497   99  392   70.0\n",
              "6월   794.0  306   80  391   26.0\n",
              "7월   772.0  681   30  295  154.0\n",
              "8월   703.0  573  143  374  201.0\n",
              "9월     NaN  777   26  333    NaN\n",
              "10월    NaN  821   21  282    NaN"
            ]
          },
          "metadata": {},
          "execution_count": 902
        }
      ]
    },
    {
      "cell_type": "markdown",
      "metadata": {
        "id": "gQDlDeLmKbet"
      },
      "source": [
        "특정 열의 특정 값을 두 가지 형식으로 인덱싱 하겠습니다. '딸기' 열의 '5월' 값과 '9월' 값입니다."
      ]
    },
    {
      "cell_type": "code",
      "metadata": {
        "colab": {
          "base_uri": "https://localhost:8080/"
        },
        "id": "rwJUk47OKpDd",
        "outputId": "e94dafcd-6dc5-4f6d-fa56-b764ec3dd541"
      },
      "source": [
        "dataframe4['딸기'][['5월', '9월']]"
      ],
      "execution_count": 903,
      "outputs": [
        {
          "output_type": "execute_result",
          "data": {
            "text/plain": [
              "5월    741.0\n",
              "9월      NaN\n",
              "Name: 딸기, dtype: float64"
            ]
          },
          "metadata": {},
          "execution_count": 903
        }
      ]
    },
    {
      "cell_type": "code",
      "metadata": {
        "colab": {
          "base_uri": "https://localhost:8080/"
        },
        "id": "XsLQhON4OJpU",
        "outputId": "9174e963-a62b-4929-b3ae-ba2a175dc4ad"
      },
      "source": [
        "dataframe4['딸기'][[1, 5]]"
      ],
      "execution_count": 904,
      "outputs": [
        {
          "output_type": "execute_result",
          "data": {
            "text/plain": [
              "5월    741.0\n",
              "9월      NaN\n",
              "Name: 딸기, dtype: float64"
            ]
          },
          "metadata": {},
          "execution_count": 904
        }
      ]
    },
    {
      "cell_type": "markdown",
      "metadata": {
        "id": "9zvaTQxOLAUN"
      },
      "source": [
        "두 가지 형식으로 '딸기' 열의 '5월'부터 '9월'까지 슬라이싱 하겠습니다."
      ]
    },
    {
      "cell_type": "code",
      "metadata": {
        "colab": {
          "base_uri": "https://localhost:8080/"
        },
        "id": "GPGBuvVbK7PR",
        "outputId": "8811bc07-7070-4e16-a2ed-a6c478b0aab9"
      },
      "source": [
        "dataframe4['딸기']['5월':'9월']"
      ],
      "execution_count": 905,
      "outputs": [
        {
          "output_type": "execute_result",
          "data": {
            "text/plain": [
              "5월    741.0\n",
              "6월    794.0\n",
              "7월    772.0\n",
              "8월    703.0\n",
              "9월      NaN\n",
              "Name: 딸기, dtype: float64"
            ]
          },
          "metadata": {},
          "execution_count": 905
        }
      ]
    },
    {
      "cell_type": "code",
      "metadata": {
        "colab": {
          "base_uri": "https://localhost:8080/"
        },
        "id": "MBPNd2EKL_ho",
        "outputId": "54495572-57da-44b4-9901-d89fd9dcf320"
      },
      "source": [
        "dataframe4['딸기'][1:6]"
      ],
      "execution_count": 906,
      "outputs": [
        {
          "output_type": "execute_result",
          "data": {
            "text/plain": [
              "5월    741.0\n",
              "6월    794.0\n",
              "7월    772.0\n",
              "8월    703.0\n",
              "9월      NaN\n",
              "Name: 딸기, dtype: float64"
            ]
          },
          "metadata": {},
          "execution_count": 906
        }
      ]
    },
    {
      "cell_type": "markdown",
      "metadata": {
        "id": "1retwragMxM6"
      },
      "source": [
        "`loc[]` 메서드와 `iloc[]` 메서드를 사용하여 원하는 원소를 가져오겠습니다. 먼저 '7월' 행의 '딸기' 열을 가져오겠습니다."
      ]
    },
    {
      "cell_type": "code",
      "metadata": {
        "colab": {
          "base_uri": "https://localhost:8080/",
          "height": 266
        },
        "id": "jjuujvBPNo4-",
        "outputId": "e474ae26-cfd2-45e2-80a1-1fa0cd63f6e6"
      },
      "source": [
        "dataframe4"
      ],
      "execution_count": 907,
      "outputs": [
        {
          "output_type": "execute_result",
          "data": {
            "text/html": [
              "<div>\n",
              "<style scoped>\n",
              "    .dataframe tbody tr th:only-of-type {\n",
              "        vertical-align: middle;\n",
              "    }\n",
              "\n",
              "    .dataframe tbody tr th {\n",
              "        vertical-align: top;\n",
              "    }\n",
              "\n",
              "    .dataframe thead th {\n",
              "        text-align: right;\n",
              "    }\n",
              "</style>\n",
              "<table border=\"1\" class=\"dataframe\">\n",
              "  <thead>\n",
              "    <tr style=\"text-align: right;\">\n",
              "      <th></th>\n",
              "      <th>배</th>\n",
              "      <th>사과</th>\n",
              "      <th>포도</th>\n",
              "      <th>딸기</th>\n",
              "      <th>복숭아</th>\n",
              "    </tr>\n",
              "  </thead>\n",
              "  <tbody>\n",
              "    <tr>\n",
              "      <th>4월</th>\n",
              "      <td>102</td>\n",
              "      <td>332</td>\n",
              "      <td>402</td>\n",
              "      <td>756.0</td>\n",
              "      <td>32.0</td>\n",
              "    </tr>\n",
              "    <tr>\n",
              "      <th>5월</th>\n",
              "      <td>99</td>\n",
              "      <td>392</td>\n",
              "      <td>497</td>\n",
              "      <td>741.0</td>\n",
              "      <td>70.0</td>\n",
              "    </tr>\n",
              "    <tr>\n",
              "      <th>6월</th>\n",
              "      <td>80</td>\n",
              "      <td>391</td>\n",
              "      <td>306</td>\n",
              "      <td>794.0</td>\n",
              "      <td>26.0</td>\n",
              "    </tr>\n",
              "    <tr>\n",
              "      <th>7월</th>\n",
              "      <td>30</td>\n",
              "      <td>295</td>\n",
              "      <td>681</td>\n",
              "      <td>772.0</td>\n",
              "      <td>154.0</td>\n",
              "    </tr>\n",
              "    <tr>\n",
              "      <th>8월</th>\n",
              "      <td>143</td>\n",
              "      <td>374</td>\n",
              "      <td>573</td>\n",
              "      <td>703.0</td>\n",
              "      <td>201.0</td>\n",
              "    </tr>\n",
              "    <tr>\n",
              "      <th>9월</th>\n",
              "      <td>26</td>\n",
              "      <td>333</td>\n",
              "      <td>777</td>\n",
              "      <td>NaN</td>\n",
              "      <td>NaN</td>\n",
              "    </tr>\n",
              "    <tr>\n",
              "      <th>10월</th>\n",
              "      <td>21</td>\n",
              "      <td>282</td>\n",
              "      <td>821</td>\n",
              "      <td>NaN</td>\n",
              "      <td>NaN</td>\n",
              "    </tr>\n",
              "  </tbody>\n",
              "</table>\n",
              "</div>"
            ],
            "text/plain": [
              "       배   사과   포도     딸기    복숭아\n",
              "4월   102  332  402  756.0   32.0\n",
              "5월    99  392  497  741.0   70.0\n",
              "6월    80  391  306  794.0   26.0\n",
              "7월    30  295  681  772.0  154.0\n",
              "8월   143  374  573  703.0  201.0\n",
              "9월    26  333  777    NaN    NaN\n",
              "10월   21  282  821    NaN    NaN"
            ]
          },
          "metadata": {},
          "execution_count": 907
        }
      ]
    },
    {
      "cell_type": "code",
      "metadata": {
        "colab": {
          "base_uri": "https://localhost:8080/"
        },
        "id": "j-SSk32gMv4r",
        "outputId": "aa5770a9-3822-4226-80e2-9d920f909f19"
      },
      "source": [
        "dataframe4.loc['7월']['딸기']"
      ],
      "execution_count": 908,
      "outputs": [
        {
          "output_type": "execute_result",
          "data": {
            "text/plain": [
              "772.0"
            ]
          },
          "metadata": {},
          "execution_count": 908
        }
      ]
    },
    {
      "cell_type": "code",
      "metadata": {
        "colab": {
          "base_uri": "https://localhost:8080/"
        },
        "id": "AOcsPP99Mwx8",
        "outputId": "725f677a-bd00-4353-c193-74ea2fac5420"
      },
      "source": [
        "dataframe4.loc['7월', '딸기']"
      ],
      "execution_count": 909,
      "outputs": [
        {
          "output_type": "execute_result",
          "data": {
            "text/plain": [
              "772.0"
            ]
          },
          "metadata": {},
          "execution_count": 909
        }
      ]
    },
    {
      "cell_type": "code",
      "metadata": {
        "colab": {
          "base_uri": "https://localhost:8080/"
        },
        "id": "KXuKVruSNmRv",
        "outputId": "0a1f7136-5f5a-4001-987c-8030720d2793"
      },
      "source": [
        "dataframe4.iloc[3, 3]"
      ],
      "execution_count": 910,
      "outputs": [
        {
          "output_type": "execute_result",
          "data": {
            "text/plain": [
              "772.0"
            ]
          },
          "metadata": {},
          "execution_count": 910
        }
      ]
    },
    {
      "cell_type": "markdown",
      "metadata": {
        "id": "ev3PXAzzOL0e"
      },
      "source": [
        "여러 원소(시리즈)를 가져오겠습니다. '8월' 행의 '사과' 열과 '포도' 열을 가져오겠습니다."
      ]
    },
    {
      "cell_type": "code",
      "metadata": {
        "colab": {
          "base_uri": "https://localhost:8080/",
          "height": 266
        },
        "id": "DC1RNLY_P76z",
        "outputId": "1a19198e-e5c4-4b8b-f895-44bb9a72bffa"
      },
      "source": [
        "dataframe4"
      ],
      "execution_count": 911,
      "outputs": [
        {
          "output_type": "execute_result",
          "data": {
            "text/html": [
              "<div>\n",
              "<style scoped>\n",
              "    .dataframe tbody tr th:only-of-type {\n",
              "        vertical-align: middle;\n",
              "    }\n",
              "\n",
              "    .dataframe tbody tr th {\n",
              "        vertical-align: top;\n",
              "    }\n",
              "\n",
              "    .dataframe thead th {\n",
              "        text-align: right;\n",
              "    }\n",
              "</style>\n",
              "<table border=\"1\" class=\"dataframe\">\n",
              "  <thead>\n",
              "    <tr style=\"text-align: right;\">\n",
              "      <th></th>\n",
              "      <th>배</th>\n",
              "      <th>사과</th>\n",
              "      <th>포도</th>\n",
              "      <th>딸기</th>\n",
              "      <th>복숭아</th>\n",
              "    </tr>\n",
              "  </thead>\n",
              "  <tbody>\n",
              "    <tr>\n",
              "      <th>4월</th>\n",
              "      <td>102</td>\n",
              "      <td>332</td>\n",
              "      <td>402</td>\n",
              "      <td>756.0</td>\n",
              "      <td>32.0</td>\n",
              "    </tr>\n",
              "    <tr>\n",
              "      <th>5월</th>\n",
              "      <td>99</td>\n",
              "      <td>392</td>\n",
              "      <td>497</td>\n",
              "      <td>741.0</td>\n",
              "      <td>70.0</td>\n",
              "    </tr>\n",
              "    <tr>\n",
              "      <th>6월</th>\n",
              "      <td>80</td>\n",
              "      <td>391</td>\n",
              "      <td>306</td>\n",
              "      <td>794.0</td>\n",
              "      <td>26.0</td>\n",
              "    </tr>\n",
              "    <tr>\n",
              "      <th>7월</th>\n",
              "      <td>30</td>\n",
              "      <td>295</td>\n",
              "      <td>681</td>\n",
              "      <td>772.0</td>\n",
              "      <td>154.0</td>\n",
              "    </tr>\n",
              "    <tr>\n",
              "      <th>8월</th>\n",
              "      <td>143</td>\n",
              "      <td>374</td>\n",
              "      <td>573</td>\n",
              "      <td>703.0</td>\n",
              "      <td>201.0</td>\n",
              "    </tr>\n",
              "    <tr>\n",
              "      <th>9월</th>\n",
              "      <td>26</td>\n",
              "      <td>333</td>\n",
              "      <td>777</td>\n",
              "      <td>NaN</td>\n",
              "      <td>NaN</td>\n",
              "    </tr>\n",
              "    <tr>\n",
              "      <th>10월</th>\n",
              "      <td>21</td>\n",
              "      <td>282</td>\n",
              "      <td>821</td>\n",
              "      <td>NaN</td>\n",
              "      <td>NaN</td>\n",
              "    </tr>\n",
              "  </tbody>\n",
              "</table>\n",
              "</div>"
            ],
            "text/plain": [
              "       배   사과   포도     딸기    복숭아\n",
              "4월   102  332  402  756.0   32.0\n",
              "5월    99  392  497  741.0   70.0\n",
              "6월    80  391  306  794.0   26.0\n",
              "7월    30  295  681  772.0  154.0\n",
              "8월   143  374  573  703.0  201.0\n",
              "9월    26  333  777    NaN    NaN\n",
              "10월   21  282  821    NaN    NaN"
            ]
          },
          "metadata": {},
          "execution_count": 911
        }
      ]
    },
    {
      "cell_type": "code",
      "metadata": {
        "colab": {
          "base_uri": "https://localhost:8080/"
        },
        "id": "E6oDPLa7OmeA",
        "outputId": "a1df950f-324e-4707-e221-e09e7f89dae9"
      },
      "source": [
        "dataframe4.loc['8월', ['사과', '포도']]"
      ],
      "execution_count": 912,
      "outputs": [
        {
          "output_type": "execute_result",
          "data": {
            "text/plain": [
              "사과    374.0\n",
              "포도    573.0\n",
              "Name: 8월, dtype: float64"
            ]
          },
          "metadata": {},
          "execution_count": 912
        }
      ]
    },
    {
      "cell_type": "code",
      "metadata": {
        "colab": {
          "base_uri": "https://localhost:8080/"
        },
        "id": "5Q3EpcGXO1ue",
        "outputId": "9fed696a-f8f9-43d2-bf08-7cbac5b2918a"
      },
      "source": [
        "dataframe4.loc['8월', '사과':'포도']"
      ],
      "execution_count": 913,
      "outputs": [
        {
          "output_type": "execute_result",
          "data": {
            "text/plain": [
              "사과    374.0\n",
              "포도    573.0\n",
              "Name: 8월, dtype: float64"
            ]
          },
          "metadata": {},
          "execution_count": 913
        }
      ]
    },
    {
      "cell_type": "code",
      "metadata": {
        "colab": {
          "base_uri": "https://localhost:8080/"
        },
        "id": "-coRbhHtPGFI",
        "outputId": "11d99835-8a6b-4ad6-b50f-fc03828cfcc0"
      },
      "source": [
        "dataframe4.iloc[4, [1, 2]]"
      ],
      "execution_count": 914,
      "outputs": [
        {
          "output_type": "execute_result",
          "data": {
            "text/plain": [
              "사과    374.0\n",
              "포도    573.0\n",
              "Name: 8월, dtype: float64"
            ]
          },
          "metadata": {},
          "execution_count": 914
        }
      ]
    },
    {
      "cell_type": "code",
      "metadata": {
        "colab": {
          "base_uri": "https://localhost:8080/"
        },
        "id": "HciiSP2ZPF7g",
        "outputId": "5f042ffb-305f-4251-9b4d-dd144233eee5"
      },
      "source": [
        "dataframe4.iloc[4, 1:3]"
      ],
      "execution_count": 915,
      "outputs": [
        {
          "output_type": "execute_result",
          "data": {
            "text/plain": [
              "사과    374.0\n",
              "포도    573.0\n",
              "Name: 8월, dtype: float64"
            ]
          },
          "metadata": {},
          "execution_count": 915
        }
      ]
    },
    {
      "cell_type": "markdown",
      "metadata": {
        "id": "hE6yATBtQc8c"
      },
      "source": [
        "이번에는 '5월' 행과 '9월' 행의 '배' 값과 '복숭아' 값을 가져오겠습니다."
      ]
    },
    {
      "cell_type": "code",
      "metadata": {
        "colab": {
          "base_uri": "https://localhost:8080/",
          "height": 266
        },
        "id": "wIV1RtmuQbdi",
        "outputId": "42f2cfe3-0ae1-4a90-c691-013f0c119637"
      },
      "source": [
        "dataframe4"
      ],
      "execution_count": 916,
      "outputs": [
        {
          "output_type": "execute_result",
          "data": {
            "text/html": [
              "<div>\n",
              "<style scoped>\n",
              "    .dataframe tbody tr th:only-of-type {\n",
              "        vertical-align: middle;\n",
              "    }\n",
              "\n",
              "    .dataframe tbody tr th {\n",
              "        vertical-align: top;\n",
              "    }\n",
              "\n",
              "    .dataframe thead th {\n",
              "        text-align: right;\n",
              "    }\n",
              "</style>\n",
              "<table border=\"1\" class=\"dataframe\">\n",
              "  <thead>\n",
              "    <tr style=\"text-align: right;\">\n",
              "      <th></th>\n",
              "      <th>배</th>\n",
              "      <th>사과</th>\n",
              "      <th>포도</th>\n",
              "      <th>딸기</th>\n",
              "      <th>복숭아</th>\n",
              "    </tr>\n",
              "  </thead>\n",
              "  <tbody>\n",
              "    <tr>\n",
              "      <th>4월</th>\n",
              "      <td>102</td>\n",
              "      <td>332</td>\n",
              "      <td>402</td>\n",
              "      <td>756.0</td>\n",
              "      <td>32.0</td>\n",
              "    </tr>\n",
              "    <tr>\n",
              "      <th>5월</th>\n",
              "      <td>99</td>\n",
              "      <td>392</td>\n",
              "      <td>497</td>\n",
              "      <td>741.0</td>\n",
              "      <td>70.0</td>\n",
              "    </tr>\n",
              "    <tr>\n",
              "      <th>6월</th>\n",
              "      <td>80</td>\n",
              "      <td>391</td>\n",
              "      <td>306</td>\n",
              "      <td>794.0</td>\n",
              "      <td>26.0</td>\n",
              "    </tr>\n",
              "    <tr>\n",
              "      <th>7월</th>\n",
              "      <td>30</td>\n",
              "      <td>295</td>\n",
              "      <td>681</td>\n",
              "      <td>772.0</td>\n",
              "      <td>154.0</td>\n",
              "    </tr>\n",
              "    <tr>\n",
              "      <th>8월</th>\n",
              "      <td>143</td>\n",
              "      <td>374</td>\n",
              "      <td>573</td>\n",
              "      <td>703.0</td>\n",
              "      <td>201.0</td>\n",
              "    </tr>\n",
              "    <tr>\n",
              "      <th>9월</th>\n",
              "      <td>26</td>\n",
              "      <td>333</td>\n",
              "      <td>777</td>\n",
              "      <td>NaN</td>\n",
              "      <td>NaN</td>\n",
              "    </tr>\n",
              "    <tr>\n",
              "      <th>10월</th>\n",
              "      <td>21</td>\n",
              "      <td>282</td>\n",
              "      <td>821</td>\n",
              "      <td>NaN</td>\n",
              "      <td>NaN</td>\n",
              "    </tr>\n",
              "  </tbody>\n",
              "</table>\n",
              "</div>"
            ],
            "text/plain": [
              "       배   사과   포도     딸기    복숭아\n",
              "4월   102  332  402  756.0   32.0\n",
              "5월    99  392  497  741.0   70.0\n",
              "6월    80  391  306  794.0   26.0\n",
              "7월    30  295  681  772.0  154.0\n",
              "8월   143  374  573  703.0  201.0\n",
              "9월    26  333  777    NaN    NaN\n",
              "10월   21  282  821    NaN    NaN"
            ]
          },
          "metadata": {},
          "execution_count": 916
        }
      ]
    },
    {
      "cell_type": "code",
      "metadata": {
        "colab": {
          "base_uri": "https://localhost:8080/",
          "height": 111
        },
        "id": "JmM4YxScRUCL",
        "outputId": "3433f532-c398-4cd4-8b5b-52fcd2f0adfc"
      },
      "source": [
        "dataframe4.loc[['5월', '9월'], ['배', '복숭아']]"
      ],
      "execution_count": 917,
      "outputs": [
        {
          "output_type": "execute_result",
          "data": {
            "text/html": [
              "<div>\n",
              "<style scoped>\n",
              "    .dataframe tbody tr th:only-of-type {\n",
              "        vertical-align: middle;\n",
              "    }\n",
              "\n",
              "    .dataframe tbody tr th {\n",
              "        vertical-align: top;\n",
              "    }\n",
              "\n",
              "    .dataframe thead th {\n",
              "        text-align: right;\n",
              "    }\n",
              "</style>\n",
              "<table border=\"1\" class=\"dataframe\">\n",
              "  <thead>\n",
              "    <tr style=\"text-align: right;\">\n",
              "      <th></th>\n",
              "      <th>배</th>\n",
              "      <th>복숭아</th>\n",
              "    </tr>\n",
              "  </thead>\n",
              "  <tbody>\n",
              "    <tr>\n",
              "      <th>5월</th>\n",
              "      <td>99</td>\n",
              "      <td>70.0</td>\n",
              "    </tr>\n",
              "    <tr>\n",
              "      <th>9월</th>\n",
              "      <td>26</td>\n",
              "      <td>NaN</td>\n",
              "    </tr>\n",
              "  </tbody>\n",
              "</table>\n",
              "</div>"
            ],
            "text/plain": [
              "     배   복숭아\n",
              "5월  99  70.0\n",
              "9월  26   NaN"
            ]
          },
          "metadata": {},
          "execution_count": 917
        }
      ]
    },
    {
      "cell_type": "code",
      "metadata": {
        "colab": {
          "base_uri": "https://localhost:8080/",
          "height": 111
        },
        "id": "XGDEZQ3DRz4n",
        "outputId": "0dec64b2-0ca3-4c5b-a4c3-064df55b7973"
      },
      "source": [
        "dataframe4.iloc[[1, 5], [0, 4]]"
      ],
      "execution_count": 918,
      "outputs": [
        {
          "output_type": "execute_result",
          "data": {
            "text/html": [
              "<div>\n",
              "<style scoped>\n",
              "    .dataframe tbody tr th:only-of-type {\n",
              "        vertical-align: middle;\n",
              "    }\n",
              "\n",
              "    .dataframe tbody tr th {\n",
              "        vertical-align: top;\n",
              "    }\n",
              "\n",
              "    .dataframe thead th {\n",
              "        text-align: right;\n",
              "    }\n",
              "</style>\n",
              "<table border=\"1\" class=\"dataframe\">\n",
              "  <thead>\n",
              "    <tr style=\"text-align: right;\">\n",
              "      <th></th>\n",
              "      <th>배</th>\n",
              "      <th>복숭아</th>\n",
              "    </tr>\n",
              "  </thead>\n",
              "  <tbody>\n",
              "    <tr>\n",
              "      <th>5월</th>\n",
              "      <td>99</td>\n",
              "      <td>70.0</td>\n",
              "    </tr>\n",
              "    <tr>\n",
              "      <th>9월</th>\n",
              "      <td>26</td>\n",
              "      <td>NaN</td>\n",
              "    </tr>\n",
              "  </tbody>\n",
              "</table>\n",
              "</div>"
            ],
            "text/plain": [
              "     배   복숭아\n",
              "5월  99  70.0\n",
              "9월  26   NaN"
            ]
          },
          "metadata": {},
          "execution_count": 918
        }
      ]
    },
    {
      "cell_type": "markdown",
      "metadata": {
        "id": "Bea_U7J1Uh_9"
      },
      "source": [
        "## **2.4. 데이터 추가하기**"
      ]
    },
    {
      "cell_type": "markdown",
      "metadata": {
        "id": "Zu3Mqa1XUxYX"
      },
      "source": [
        "`dataframe4` 데이터프레임에 열을 추가하겠습니다. 먼저 `dataframe4` 데이터프레임을 복제합니다."
      ]
    },
    {
      "cell_type": "code",
      "metadata": {
        "colab": {
          "base_uri": "https://localhost:8080/",
          "height": 266
        },
        "id": "g7Oa-hYnZxSw",
        "outputId": "e11c620f-113e-44ac-9bc1-d558060586c0"
      },
      "source": [
        "dataframe4_add = dataframe4.copy()\n",
        "dataframe4_add"
      ],
      "execution_count": 919,
      "outputs": [
        {
          "output_type": "execute_result",
          "data": {
            "text/html": [
              "<div>\n",
              "<style scoped>\n",
              "    .dataframe tbody tr th:only-of-type {\n",
              "        vertical-align: middle;\n",
              "    }\n",
              "\n",
              "    .dataframe tbody tr th {\n",
              "        vertical-align: top;\n",
              "    }\n",
              "\n",
              "    .dataframe thead th {\n",
              "        text-align: right;\n",
              "    }\n",
              "</style>\n",
              "<table border=\"1\" class=\"dataframe\">\n",
              "  <thead>\n",
              "    <tr style=\"text-align: right;\">\n",
              "      <th></th>\n",
              "      <th>배</th>\n",
              "      <th>사과</th>\n",
              "      <th>포도</th>\n",
              "      <th>딸기</th>\n",
              "      <th>복숭아</th>\n",
              "    </tr>\n",
              "  </thead>\n",
              "  <tbody>\n",
              "    <tr>\n",
              "      <th>4월</th>\n",
              "      <td>102</td>\n",
              "      <td>332</td>\n",
              "      <td>402</td>\n",
              "      <td>756.0</td>\n",
              "      <td>32.0</td>\n",
              "    </tr>\n",
              "    <tr>\n",
              "      <th>5월</th>\n",
              "      <td>99</td>\n",
              "      <td>392</td>\n",
              "      <td>497</td>\n",
              "      <td>741.0</td>\n",
              "      <td>70.0</td>\n",
              "    </tr>\n",
              "    <tr>\n",
              "      <th>6월</th>\n",
              "      <td>80</td>\n",
              "      <td>391</td>\n",
              "      <td>306</td>\n",
              "      <td>794.0</td>\n",
              "      <td>26.0</td>\n",
              "    </tr>\n",
              "    <tr>\n",
              "      <th>7월</th>\n",
              "      <td>30</td>\n",
              "      <td>295</td>\n",
              "      <td>681</td>\n",
              "      <td>772.0</td>\n",
              "      <td>154.0</td>\n",
              "    </tr>\n",
              "    <tr>\n",
              "      <th>8월</th>\n",
              "      <td>143</td>\n",
              "      <td>374</td>\n",
              "      <td>573</td>\n",
              "      <td>703.0</td>\n",
              "      <td>201.0</td>\n",
              "    </tr>\n",
              "    <tr>\n",
              "      <th>9월</th>\n",
              "      <td>26</td>\n",
              "      <td>333</td>\n",
              "      <td>777</td>\n",
              "      <td>NaN</td>\n",
              "      <td>NaN</td>\n",
              "    </tr>\n",
              "    <tr>\n",
              "      <th>10월</th>\n",
              "      <td>21</td>\n",
              "      <td>282</td>\n",
              "      <td>821</td>\n",
              "      <td>NaN</td>\n",
              "      <td>NaN</td>\n",
              "    </tr>\n",
              "  </tbody>\n",
              "</table>\n",
              "</div>"
            ],
            "text/plain": [
              "       배   사과   포도     딸기    복숭아\n",
              "4월   102  332  402  756.0   32.0\n",
              "5월    99  392  497  741.0   70.0\n",
              "6월    80  391  306  794.0   26.0\n",
              "7월    30  295  681  772.0  154.0\n",
              "8월   143  374  573  703.0  201.0\n",
              "9월    26  333  777    NaN    NaN\n",
              "10월   21  282  821    NaN    NaN"
            ]
          },
          "metadata": {},
          "execution_count": 919
        }
      ]
    },
    {
      "cell_type": "markdown",
      "metadata": {
        "id": "P-MVurqAaZU6"
      },
      "source": [
        "복제한 `dataframe4_add` 데이터프레임에 '멜론' 열을 추가합니다."
      ]
    },
    {
      "cell_type": "code",
      "metadata": {
        "colab": {
          "base_uri": "https://localhost:8080/",
          "height": 266
        },
        "id": "E8iFv0fWZ8iG",
        "outputId": "76135acc-3fce-4756-e5ca-10d74459596d"
      },
      "source": [
        "dataframe4_add['멜론'] = 150\n",
        "dataframe4_add"
      ],
      "execution_count": 920,
      "outputs": [
        {
          "output_type": "execute_result",
          "data": {
            "text/html": [
              "<div>\n",
              "<style scoped>\n",
              "    .dataframe tbody tr th:only-of-type {\n",
              "        vertical-align: middle;\n",
              "    }\n",
              "\n",
              "    .dataframe tbody tr th {\n",
              "        vertical-align: top;\n",
              "    }\n",
              "\n",
              "    .dataframe thead th {\n",
              "        text-align: right;\n",
              "    }\n",
              "</style>\n",
              "<table border=\"1\" class=\"dataframe\">\n",
              "  <thead>\n",
              "    <tr style=\"text-align: right;\">\n",
              "      <th></th>\n",
              "      <th>배</th>\n",
              "      <th>사과</th>\n",
              "      <th>포도</th>\n",
              "      <th>딸기</th>\n",
              "      <th>복숭아</th>\n",
              "      <th>멜론</th>\n",
              "    </tr>\n",
              "  </thead>\n",
              "  <tbody>\n",
              "    <tr>\n",
              "      <th>4월</th>\n",
              "      <td>102</td>\n",
              "      <td>332</td>\n",
              "      <td>402</td>\n",
              "      <td>756.0</td>\n",
              "      <td>32.0</td>\n",
              "      <td>150</td>\n",
              "    </tr>\n",
              "    <tr>\n",
              "      <th>5월</th>\n",
              "      <td>99</td>\n",
              "      <td>392</td>\n",
              "      <td>497</td>\n",
              "      <td>741.0</td>\n",
              "      <td>70.0</td>\n",
              "      <td>150</td>\n",
              "    </tr>\n",
              "    <tr>\n",
              "      <th>6월</th>\n",
              "      <td>80</td>\n",
              "      <td>391</td>\n",
              "      <td>306</td>\n",
              "      <td>794.0</td>\n",
              "      <td>26.0</td>\n",
              "      <td>150</td>\n",
              "    </tr>\n",
              "    <tr>\n",
              "      <th>7월</th>\n",
              "      <td>30</td>\n",
              "      <td>295</td>\n",
              "      <td>681</td>\n",
              "      <td>772.0</td>\n",
              "      <td>154.0</td>\n",
              "      <td>150</td>\n",
              "    </tr>\n",
              "    <tr>\n",
              "      <th>8월</th>\n",
              "      <td>143</td>\n",
              "      <td>374</td>\n",
              "      <td>573</td>\n",
              "      <td>703.0</td>\n",
              "      <td>201.0</td>\n",
              "      <td>150</td>\n",
              "    </tr>\n",
              "    <tr>\n",
              "      <th>9월</th>\n",
              "      <td>26</td>\n",
              "      <td>333</td>\n",
              "      <td>777</td>\n",
              "      <td>NaN</td>\n",
              "      <td>NaN</td>\n",
              "      <td>150</td>\n",
              "    </tr>\n",
              "    <tr>\n",
              "      <th>10월</th>\n",
              "      <td>21</td>\n",
              "      <td>282</td>\n",
              "      <td>821</td>\n",
              "      <td>NaN</td>\n",
              "      <td>NaN</td>\n",
              "      <td>150</td>\n",
              "    </tr>\n",
              "  </tbody>\n",
              "</table>\n",
              "</div>"
            ],
            "text/plain": [
              "       배   사과   포도     딸기    복숭아   멜론\n",
              "4월   102  332  402  756.0   32.0  150\n",
              "5월    99  392  497  741.0   70.0  150\n",
              "6월    80  391  306  794.0   26.0  150\n",
              "7월    30  295  681  772.0  154.0  150\n",
              "8월   143  374  573  703.0  201.0  150\n",
              "9월    26  333  777    NaN    NaN  150\n",
              "10월   21  282  821    NaN    NaN  150"
            ]
          },
          "metadata": {},
          "execution_count": 920
        }
      ]
    },
    {
      "cell_type": "markdown",
      "metadata": {
        "id": "gYVucMIeasVv"
      },
      "source": [
        "다수의 열 값을 추가하려면 리스트로 전달합니다."
      ]
    },
    {
      "cell_type": "code",
      "metadata": {
        "colab": {
          "base_uri": "https://localhost:8080/",
          "height": 266
        },
        "id": "NBHDkBKraxN5",
        "outputId": "b035f6d9-afdb-43f3-f1e4-835a965194fd"
      },
      "source": [
        "dataframe4_add['망고'] = [100, 200, 300, 400, 500, 600, 700]\n",
        "dataframe4_add"
      ],
      "execution_count": 921,
      "outputs": [
        {
          "output_type": "execute_result",
          "data": {
            "text/html": [
              "<div>\n",
              "<style scoped>\n",
              "    .dataframe tbody tr th:only-of-type {\n",
              "        vertical-align: middle;\n",
              "    }\n",
              "\n",
              "    .dataframe tbody tr th {\n",
              "        vertical-align: top;\n",
              "    }\n",
              "\n",
              "    .dataframe thead th {\n",
              "        text-align: right;\n",
              "    }\n",
              "</style>\n",
              "<table border=\"1\" class=\"dataframe\">\n",
              "  <thead>\n",
              "    <tr style=\"text-align: right;\">\n",
              "      <th></th>\n",
              "      <th>배</th>\n",
              "      <th>사과</th>\n",
              "      <th>포도</th>\n",
              "      <th>딸기</th>\n",
              "      <th>복숭아</th>\n",
              "      <th>멜론</th>\n",
              "      <th>망고</th>\n",
              "    </tr>\n",
              "  </thead>\n",
              "  <tbody>\n",
              "    <tr>\n",
              "      <th>4월</th>\n",
              "      <td>102</td>\n",
              "      <td>332</td>\n",
              "      <td>402</td>\n",
              "      <td>756.0</td>\n",
              "      <td>32.0</td>\n",
              "      <td>150</td>\n",
              "      <td>100</td>\n",
              "    </tr>\n",
              "    <tr>\n",
              "      <th>5월</th>\n",
              "      <td>99</td>\n",
              "      <td>392</td>\n",
              "      <td>497</td>\n",
              "      <td>741.0</td>\n",
              "      <td>70.0</td>\n",
              "      <td>150</td>\n",
              "      <td>200</td>\n",
              "    </tr>\n",
              "    <tr>\n",
              "      <th>6월</th>\n",
              "      <td>80</td>\n",
              "      <td>391</td>\n",
              "      <td>306</td>\n",
              "      <td>794.0</td>\n",
              "      <td>26.0</td>\n",
              "      <td>150</td>\n",
              "      <td>300</td>\n",
              "    </tr>\n",
              "    <tr>\n",
              "      <th>7월</th>\n",
              "      <td>30</td>\n",
              "      <td>295</td>\n",
              "      <td>681</td>\n",
              "      <td>772.0</td>\n",
              "      <td>154.0</td>\n",
              "      <td>150</td>\n",
              "      <td>400</td>\n",
              "    </tr>\n",
              "    <tr>\n",
              "      <th>8월</th>\n",
              "      <td>143</td>\n",
              "      <td>374</td>\n",
              "      <td>573</td>\n",
              "      <td>703.0</td>\n",
              "      <td>201.0</td>\n",
              "      <td>150</td>\n",
              "      <td>500</td>\n",
              "    </tr>\n",
              "    <tr>\n",
              "      <th>9월</th>\n",
              "      <td>26</td>\n",
              "      <td>333</td>\n",
              "      <td>777</td>\n",
              "      <td>NaN</td>\n",
              "      <td>NaN</td>\n",
              "      <td>150</td>\n",
              "      <td>600</td>\n",
              "    </tr>\n",
              "    <tr>\n",
              "      <th>10월</th>\n",
              "      <td>21</td>\n",
              "      <td>282</td>\n",
              "      <td>821</td>\n",
              "      <td>NaN</td>\n",
              "      <td>NaN</td>\n",
              "      <td>150</td>\n",
              "      <td>700</td>\n",
              "    </tr>\n",
              "  </tbody>\n",
              "</table>\n",
              "</div>"
            ],
            "text/plain": [
              "       배   사과   포도     딸기    복숭아   멜론   망고\n",
              "4월   102  332  402  756.0   32.0  150  100\n",
              "5월    99  392  497  741.0   70.0  150  200\n",
              "6월    80  391  306  794.0   26.0  150  300\n",
              "7월    30  295  681  772.0  154.0  150  400\n",
              "8월   143  374  573  703.0  201.0  150  500\n",
              "9월    26  333  777    NaN    NaN  150  600\n",
              "10월   21  282  821    NaN    NaN  150  700"
            ]
          },
          "metadata": {},
          "execution_count": 921
        }
      ]
    },
    {
      "cell_type": "markdown",
      "metadata": {
        "id": "TPoYLtpRbAEM"
      },
      "source": [
        "다음으로 '11월' 행을 추가하겠습니다. 행을 추가하려면 반드시 `loc[]` 메서드 또는 `iloc[]` 메서드를 사용합니다."
      ]
    },
    {
      "cell_type": "code",
      "metadata": {
        "colab": {
          "base_uri": "https://localhost:8080/",
          "height": 297
        },
        "id": "uPi-G4U-bFvD",
        "outputId": "b044f877-006a-48dc-a71e-43eea803e3f0"
      },
      "source": [
        "dataframe4_add.loc['11월'] = 20\n",
        "dataframe4_add"
      ],
      "execution_count": 922,
      "outputs": [
        {
          "output_type": "execute_result",
          "data": {
            "text/html": [
              "<div>\n",
              "<style scoped>\n",
              "    .dataframe tbody tr th:only-of-type {\n",
              "        vertical-align: middle;\n",
              "    }\n",
              "\n",
              "    .dataframe tbody tr th {\n",
              "        vertical-align: top;\n",
              "    }\n",
              "\n",
              "    .dataframe thead th {\n",
              "        text-align: right;\n",
              "    }\n",
              "</style>\n",
              "<table border=\"1\" class=\"dataframe\">\n",
              "  <thead>\n",
              "    <tr style=\"text-align: right;\">\n",
              "      <th></th>\n",
              "      <th>배</th>\n",
              "      <th>사과</th>\n",
              "      <th>포도</th>\n",
              "      <th>딸기</th>\n",
              "      <th>복숭아</th>\n",
              "      <th>멜론</th>\n",
              "      <th>망고</th>\n",
              "    </tr>\n",
              "  </thead>\n",
              "  <tbody>\n",
              "    <tr>\n",
              "      <th>4월</th>\n",
              "      <td>102</td>\n",
              "      <td>332</td>\n",
              "      <td>402</td>\n",
              "      <td>756.0</td>\n",
              "      <td>32.0</td>\n",
              "      <td>150</td>\n",
              "      <td>100</td>\n",
              "    </tr>\n",
              "    <tr>\n",
              "      <th>5월</th>\n",
              "      <td>99</td>\n",
              "      <td>392</td>\n",
              "      <td>497</td>\n",
              "      <td>741.0</td>\n",
              "      <td>70.0</td>\n",
              "      <td>150</td>\n",
              "      <td>200</td>\n",
              "    </tr>\n",
              "    <tr>\n",
              "      <th>6월</th>\n",
              "      <td>80</td>\n",
              "      <td>391</td>\n",
              "      <td>306</td>\n",
              "      <td>794.0</td>\n",
              "      <td>26.0</td>\n",
              "      <td>150</td>\n",
              "      <td>300</td>\n",
              "    </tr>\n",
              "    <tr>\n",
              "      <th>7월</th>\n",
              "      <td>30</td>\n",
              "      <td>295</td>\n",
              "      <td>681</td>\n",
              "      <td>772.0</td>\n",
              "      <td>154.0</td>\n",
              "      <td>150</td>\n",
              "      <td>400</td>\n",
              "    </tr>\n",
              "    <tr>\n",
              "      <th>8월</th>\n",
              "      <td>143</td>\n",
              "      <td>374</td>\n",
              "      <td>573</td>\n",
              "      <td>703.0</td>\n",
              "      <td>201.0</td>\n",
              "      <td>150</td>\n",
              "      <td>500</td>\n",
              "    </tr>\n",
              "    <tr>\n",
              "      <th>9월</th>\n",
              "      <td>26</td>\n",
              "      <td>333</td>\n",
              "      <td>777</td>\n",
              "      <td>NaN</td>\n",
              "      <td>NaN</td>\n",
              "      <td>150</td>\n",
              "      <td>600</td>\n",
              "    </tr>\n",
              "    <tr>\n",
              "      <th>10월</th>\n",
              "      <td>21</td>\n",
              "      <td>282</td>\n",
              "      <td>821</td>\n",
              "      <td>NaN</td>\n",
              "      <td>NaN</td>\n",
              "      <td>150</td>\n",
              "      <td>700</td>\n",
              "    </tr>\n",
              "    <tr>\n",
              "      <th>11월</th>\n",
              "      <td>20</td>\n",
              "      <td>20</td>\n",
              "      <td>20</td>\n",
              "      <td>20.0</td>\n",
              "      <td>20.0</td>\n",
              "      <td>20</td>\n",
              "      <td>20</td>\n",
              "    </tr>\n",
              "  </tbody>\n",
              "</table>\n",
              "</div>"
            ],
            "text/plain": [
              "       배   사과   포도     딸기    복숭아   멜론   망고\n",
              "4월   102  332  402  756.0   32.0  150  100\n",
              "5월    99  392  497  741.0   70.0  150  200\n",
              "6월    80  391  306  794.0   26.0  150  300\n",
              "7월    30  295  681  772.0  154.0  150  400\n",
              "8월   143  374  573  703.0  201.0  150  500\n",
              "9월    26  333  777    NaN    NaN  150  600\n",
              "10월   21  282  821    NaN    NaN  150  700\n",
              "11월   20   20   20   20.0   20.0   20   20"
            ]
          },
          "metadata": {},
          "execution_count": 922
        }
      ]
    },
    {
      "cell_type": "markdown",
      "metadata": {
        "id": "w2sgB15sbqlB"
      },
      "source": [
        "'12월' 행에 각각 다른 값을 추가하겠습니다."
      ]
    },
    {
      "cell_type": "code",
      "metadata": {
        "colab": {
          "base_uri": "https://localhost:8080/",
          "height": 328
        },
        "id": "-Hgkuztbbodi",
        "outputId": "34db67eb-6782-456e-faa7-1e62f8410f44"
      },
      "source": [
        "dataframe4_add.loc['12월'] = [100, 200, 300, 400, 500, 600, 700]\n",
        "dataframe4_add"
      ],
      "execution_count": 923,
      "outputs": [
        {
          "output_type": "execute_result",
          "data": {
            "text/html": [
              "<div>\n",
              "<style scoped>\n",
              "    .dataframe tbody tr th:only-of-type {\n",
              "        vertical-align: middle;\n",
              "    }\n",
              "\n",
              "    .dataframe tbody tr th {\n",
              "        vertical-align: top;\n",
              "    }\n",
              "\n",
              "    .dataframe thead th {\n",
              "        text-align: right;\n",
              "    }\n",
              "</style>\n",
              "<table border=\"1\" class=\"dataframe\">\n",
              "  <thead>\n",
              "    <tr style=\"text-align: right;\">\n",
              "      <th></th>\n",
              "      <th>배</th>\n",
              "      <th>사과</th>\n",
              "      <th>포도</th>\n",
              "      <th>딸기</th>\n",
              "      <th>복숭아</th>\n",
              "      <th>멜론</th>\n",
              "      <th>망고</th>\n",
              "    </tr>\n",
              "  </thead>\n",
              "  <tbody>\n",
              "    <tr>\n",
              "      <th>4월</th>\n",
              "      <td>102</td>\n",
              "      <td>332</td>\n",
              "      <td>402</td>\n",
              "      <td>756.0</td>\n",
              "      <td>32.0</td>\n",
              "      <td>150</td>\n",
              "      <td>100</td>\n",
              "    </tr>\n",
              "    <tr>\n",
              "      <th>5월</th>\n",
              "      <td>99</td>\n",
              "      <td>392</td>\n",
              "      <td>497</td>\n",
              "      <td>741.0</td>\n",
              "      <td>70.0</td>\n",
              "      <td>150</td>\n",
              "      <td>200</td>\n",
              "    </tr>\n",
              "    <tr>\n",
              "      <th>6월</th>\n",
              "      <td>80</td>\n",
              "      <td>391</td>\n",
              "      <td>306</td>\n",
              "      <td>794.0</td>\n",
              "      <td>26.0</td>\n",
              "      <td>150</td>\n",
              "      <td>300</td>\n",
              "    </tr>\n",
              "    <tr>\n",
              "      <th>7월</th>\n",
              "      <td>30</td>\n",
              "      <td>295</td>\n",
              "      <td>681</td>\n",
              "      <td>772.0</td>\n",
              "      <td>154.0</td>\n",
              "      <td>150</td>\n",
              "      <td>400</td>\n",
              "    </tr>\n",
              "    <tr>\n",
              "      <th>8월</th>\n",
              "      <td>143</td>\n",
              "      <td>374</td>\n",
              "      <td>573</td>\n",
              "      <td>703.0</td>\n",
              "      <td>201.0</td>\n",
              "      <td>150</td>\n",
              "      <td>500</td>\n",
              "    </tr>\n",
              "    <tr>\n",
              "      <th>9월</th>\n",
              "      <td>26</td>\n",
              "      <td>333</td>\n",
              "      <td>777</td>\n",
              "      <td>NaN</td>\n",
              "      <td>NaN</td>\n",
              "      <td>150</td>\n",
              "      <td>600</td>\n",
              "    </tr>\n",
              "    <tr>\n",
              "      <th>10월</th>\n",
              "      <td>21</td>\n",
              "      <td>282</td>\n",
              "      <td>821</td>\n",
              "      <td>NaN</td>\n",
              "      <td>NaN</td>\n",
              "      <td>150</td>\n",
              "      <td>700</td>\n",
              "    </tr>\n",
              "    <tr>\n",
              "      <th>11월</th>\n",
              "      <td>20</td>\n",
              "      <td>20</td>\n",
              "      <td>20</td>\n",
              "      <td>20.0</td>\n",
              "      <td>20.0</td>\n",
              "      <td>20</td>\n",
              "      <td>20</td>\n",
              "    </tr>\n",
              "    <tr>\n",
              "      <th>12월</th>\n",
              "      <td>100</td>\n",
              "      <td>200</td>\n",
              "      <td>300</td>\n",
              "      <td>400.0</td>\n",
              "      <td>500.0</td>\n",
              "      <td>600</td>\n",
              "      <td>700</td>\n",
              "    </tr>\n",
              "  </tbody>\n",
              "</table>\n",
              "</div>"
            ],
            "text/plain": [
              "       배   사과   포도     딸기    복숭아   멜론   망고\n",
              "4월   102  332  402  756.0   32.0  150  100\n",
              "5월    99  392  497  741.0   70.0  150  200\n",
              "6월    80  391  306  794.0   26.0  150  300\n",
              "7월    30  295  681  772.0  154.0  150  400\n",
              "8월   143  374  573  703.0  201.0  150  500\n",
              "9월    26  333  777    NaN    NaN  150  600\n",
              "10월   21  282  821    NaN    NaN  150  700\n",
              "11월   20   20   20   20.0   20.0   20   20\n",
              "12월  100  200  300  400.0  500.0  600  700"
            ]
          },
          "metadata": {},
          "execution_count": 923
        }
      ]
    },
    {
      "cell_type": "markdown",
      "metadata": {
        "id": "m3M8m9vzCAe1"
      },
      "source": [
        "## **2.5. 데이터 합치기**"
      ]
    },
    {
      "cell_type": "markdown",
      "metadata": {
        "id": "aaEV85-CRkLB"
      },
      "source": [
        "먼저 데이터프레임의 아래로 데이터를 붙이겠습니다. 사용할 함수는 `append()`입니다. 먼저 `dataframe5`를 생성하고, `dataframe4`의 아래에 붙이겠습니다."
      ]
    },
    {
      "cell_type": "code",
      "metadata": {
        "colab": {
          "base_uri": "https://localhost:8080/",
          "height": 266
        },
        "id": "-PmRuKfGPGFe",
        "outputId": "8078546f-3abb-437d-b1e6-9453e057d224"
      },
      "source": [
        "dataframe4"
      ],
      "execution_count": 924,
      "outputs": [
        {
          "output_type": "execute_result",
          "data": {
            "text/html": [
              "<div>\n",
              "<style scoped>\n",
              "    .dataframe tbody tr th:only-of-type {\n",
              "        vertical-align: middle;\n",
              "    }\n",
              "\n",
              "    .dataframe tbody tr th {\n",
              "        vertical-align: top;\n",
              "    }\n",
              "\n",
              "    .dataframe thead th {\n",
              "        text-align: right;\n",
              "    }\n",
              "</style>\n",
              "<table border=\"1\" class=\"dataframe\">\n",
              "  <thead>\n",
              "    <tr style=\"text-align: right;\">\n",
              "      <th></th>\n",
              "      <th>배</th>\n",
              "      <th>사과</th>\n",
              "      <th>포도</th>\n",
              "      <th>딸기</th>\n",
              "      <th>복숭아</th>\n",
              "    </tr>\n",
              "  </thead>\n",
              "  <tbody>\n",
              "    <tr>\n",
              "      <th>4월</th>\n",
              "      <td>102</td>\n",
              "      <td>332</td>\n",
              "      <td>402</td>\n",
              "      <td>756.0</td>\n",
              "      <td>32.0</td>\n",
              "    </tr>\n",
              "    <tr>\n",
              "      <th>5월</th>\n",
              "      <td>99</td>\n",
              "      <td>392</td>\n",
              "      <td>497</td>\n",
              "      <td>741.0</td>\n",
              "      <td>70.0</td>\n",
              "    </tr>\n",
              "    <tr>\n",
              "      <th>6월</th>\n",
              "      <td>80</td>\n",
              "      <td>391</td>\n",
              "      <td>306</td>\n",
              "      <td>794.0</td>\n",
              "      <td>26.0</td>\n",
              "    </tr>\n",
              "    <tr>\n",
              "      <th>7월</th>\n",
              "      <td>30</td>\n",
              "      <td>295</td>\n",
              "      <td>681</td>\n",
              "      <td>772.0</td>\n",
              "      <td>154.0</td>\n",
              "    </tr>\n",
              "    <tr>\n",
              "      <th>8월</th>\n",
              "      <td>143</td>\n",
              "      <td>374</td>\n",
              "      <td>573</td>\n",
              "      <td>703.0</td>\n",
              "      <td>201.0</td>\n",
              "    </tr>\n",
              "    <tr>\n",
              "      <th>9월</th>\n",
              "      <td>26</td>\n",
              "      <td>333</td>\n",
              "      <td>777</td>\n",
              "      <td>NaN</td>\n",
              "      <td>NaN</td>\n",
              "    </tr>\n",
              "    <tr>\n",
              "      <th>10월</th>\n",
              "      <td>21</td>\n",
              "      <td>282</td>\n",
              "      <td>821</td>\n",
              "      <td>NaN</td>\n",
              "      <td>NaN</td>\n",
              "    </tr>\n",
              "  </tbody>\n",
              "</table>\n",
              "</div>"
            ],
            "text/plain": [
              "       배   사과   포도     딸기    복숭아\n",
              "4월   102  332  402  756.0   32.0\n",
              "5월    99  392  497  741.0   70.0\n",
              "6월    80  391  306  794.0   26.0\n",
              "7월    30  295  681  772.0  154.0\n",
              "8월   143  374  573  703.0  201.0\n",
              "9월    26  333  777    NaN    NaN\n",
              "10월   21  282  821    NaN    NaN"
            ]
          },
          "metadata": {},
          "execution_count": 924
        }
      ]
    },
    {
      "cell_type": "code",
      "metadata": {
        "colab": {
          "base_uri": "https://localhost:8080/",
          "height": 111
        },
        "id": "kWJjWO_LOqnv",
        "outputId": "4061a333-178b-4ce4-c91d-9fe8b59df696"
      },
      "source": [
        "dataframe5 = pd.DataFrame({'배':[30, 40],\n",
        "                           '사과': [300, 400],\n",
        "                           '포도': [200, 300],\n",
        "                           '딸기': [100, 150],\n",
        "                           '복숭아': [200, 240]})\n",
        "dataframe5"
      ],
      "execution_count": 925,
      "outputs": [
        {
          "output_type": "execute_result",
          "data": {
            "text/html": [
              "<div>\n",
              "<style scoped>\n",
              "    .dataframe tbody tr th:only-of-type {\n",
              "        vertical-align: middle;\n",
              "    }\n",
              "\n",
              "    .dataframe tbody tr th {\n",
              "        vertical-align: top;\n",
              "    }\n",
              "\n",
              "    .dataframe thead th {\n",
              "        text-align: right;\n",
              "    }\n",
              "</style>\n",
              "<table border=\"1\" class=\"dataframe\">\n",
              "  <thead>\n",
              "    <tr style=\"text-align: right;\">\n",
              "      <th></th>\n",
              "      <th>배</th>\n",
              "      <th>사과</th>\n",
              "      <th>포도</th>\n",
              "      <th>딸기</th>\n",
              "      <th>복숭아</th>\n",
              "    </tr>\n",
              "  </thead>\n",
              "  <tbody>\n",
              "    <tr>\n",
              "      <th>0</th>\n",
              "      <td>30</td>\n",
              "      <td>300</td>\n",
              "      <td>200</td>\n",
              "      <td>100</td>\n",
              "      <td>200</td>\n",
              "    </tr>\n",
              "    <tr>\n",
              "      <th>1</th>\n",
              "      <td>40</td>\n",
              "      <td>400</td>\n",
              "      <td>300</td>\n",
              "      <td>150</td>\n",
              "      <td>240</td>\n",
              "    </tr>\n",
              "  </tbody>\n",
              "</table>\n",
              "</div>"
            ],
            "text/plain": [
              "    배   사과   포도   딸기  복숭아\n",
              "0  30  300  200  100  200\n",
              "1  40  400  300  150  240"
            ]
          },
          "metadata": {},
          "execution_count": 925
        }
      ]
    },
    {
      "cell_type": "code",
      "metadata": {
        "colab": {
          "base_uri": "https://localhost:8080/",
          "height": 328
        },
        "id": "OPor1ulNP56n",
        "outputId": "59104248-3b73-4947-ecde-f0fd4074f192"
      },
      "source": [
        "dataframe4.append(dataframe5)"
      ],
      "execution_count": 926,
      "outputs": [
        {
          "output_type": "execute_result",
          "data": {
            "text/html": [
              "<div>\n",
              "<style scoped>\n",
              "    .dataframe tbody tr th:only-of-type {\n",
              "        vertical-align: middle;\n",
              "    }\n",
              "\n",
              "    .dataframe tbody tr th {\n",
              "        vertical-align: top;\n",
              "    }\n",
              "\n",
              "    .dataframe thead th {\n",
              "        text-align: right;\n",
              "    }\n",
              "</style>\n",
              "<table border=\"1\" class=\"dataframe\">\n",
              "  <thead>\n",
              "    <tr style=\"text-align: right;\">\n",
              "      <th></th>\n",
              "      <th>배</th>\n",
              "      <th>사과</th>\n",
              "      <th>포도</th>\n",
              "      <th>딸기</th>\n",
              "      <th>복숭아</th>\n",
              "    </tr>\n",
              "  </thead>\n",
              "  <tbody>\n",
              "    <tr>\n",
              "      <th>4월</th>\n",
              "      <td>102</td>\n",
              "      <td>332</td>\n",
              "      <td>402</td>\n",
              "      <td>756.0</td>\n",
              "      <td>32.0</td>\n",
              "    </tr>\n",
              "    <tr>\n",
              "      <th>5월</th>\n",
              "      <td>99</td>\n",
              "      <td>392</td>\n",
              "      <td>497</td>\n",
              "      <td>741.0</td>\n",
              "      <td>70.0</td>\n",
              "    </tr>\n",
              "    <tr>\n",
              "      <th>6월</th>\n",
              "      <td>80</td>\n",
              "      <td>391</td>\n",
              "      <td>306</td>\n",
              "      <td>794.0</td>\n",
              "      <td>26.0</td>\n",
              "    </tr>\n",
              "    <tr>\n",
              "      <th>7월</th>\n",
              "      <td>30</td>\n",
              "      <td>295</td>\n",
              "      <td>681</td>\n",
              "      <td>772.0</td>\n",
              "      <td>154.0</td>\n",
              "    </tr>\n",
              "    <tr>\n",
              "      <th>8월</th>\n",
              "      <td>143</td>\n",
              "      <td>374</td>\n",
              "      <td>573</td>\n",
              "      <td>703.0</td>\n",
              "      <td>201.0</td>\n",
              "    </tr>\n",
              "    <tr>\n",
              "      <th>9월</th>\n",
              "      <td>26</td>\n",
              "      <td>333</td>\n",
              "      <td>777</td>\n",
              "      <td>NaN</td>\n",
              "      <td>NaN</td>\n",
              "    </tr>\n",
              "    <tr>\n",
              "      <th>10월</th>\n",
              "      <td>21</td>\n",
              "      <td>282</td>\n",
              "      <td>821</td>\n",
              "      <td>NaN</td>\n",
              "      <td>NaN</td>\n",
              "    </tr>\n",
              "    <tr>\n",
              "      <th>0</th>\n",
              "      <td>30</td>\n",
              "      <td>300</td>\n",
              "      <td>200</td>\n",
              "      <td>100.0</td>\n",
              "      <td>200.0</td>\n",
              "    </tr>\n",
              "    <tr>\n",
              "      <th>1</th>\n",
              "      <td>40</td>\n",
              "      <td>400</td>\n",
              "      <td>300</td>\n",
              "      <td>150.0</td>\n",
              "      <td>240.0</td>\n",
              "    </tr>\n",
              "  </tbody>\n",
              "</table>\n",
              "</div>"
            ],
            "text/plain": [
              "       배   사과   포도     딸기    복숭아\n",
              "4월   102  332  402  756.0   32.0\n",
              "5월    99  392  497  741.0   70.0\n",
              "6월    80  391  306  794.0   26.0\n",
              "7월    30  295  681  772.0  154.0\n",
              "8월   143  374  573  703.0  201.0\n",
              "9월    26  333  777    NaN    NaN\n",
              "10월   21  282  821    NaN    NaN\n",
              "0     30  300  200  100.0  200.0\n",
              "1     40  400  300  150.0  240.0"
            ]
          },
          "metadata": {},
          "execution_count": 926
        }
      ]
    },
    {
      "cell_type": "markdown",
      "metadata": {
        "id": "yyRPhzV5QF8L"
      },
      "source": [
        "`append()` 함수의 `ignore_index` 매개변수에 `True` 인자를 지정하면 인덱스가 순서대로 통합됩니다."
      ]
    },
    {
      "cell_type": "code",
      "metadata": {
        "colab": {
          "base_uri": "https://localhost:8080/",
          "height": 328
        },
        "id": "MFAEqxJtQQsu",
        "outputId": "480d7e8d-f47e-4a25-a973-aaa62cd633de"
      },
      "source": [
        "dataframe4.append(dataframe5, ignore_index=True)"
      ],
      "execution_count": 927,
      "outputs": [
        {
          "output_type": "execute_result",
          "data": {
            "text/html": [
              "<div>\n",
              "<style scoped>\n",
              "    .dataframe tbody tr th:only-of-type {\n",
              "        vertical-align: middle;\n",
              "    }\n",
              "\n",
              "    .dataframe tbody tr th {\n",
              "        vertical-align: top;\n",
              "    }\n",
              "\n",
              "    .dataframe thead th {\n",
              "        text-align: right;\n",
              "    }\n",
              "</style>\n",
              "<table border=\"1\" class=\"dataframe\">\n",
              "  <thead>\n",
              "    <tr style=\"text-align: right;\">\n",
              "      <th></th>\n",
              "      <th>배</th>\n",
              "      <th>사과</th>\n",
              "      <th>포도</th>\n",
              "      <th>딸기</th>\n",
              "      <th>복숭아</th>\n",
              "    </tr>\n",
              "  </thead>\n",
              "  <tbody>\n",
              "    <tr>\n",
              "      <th>0</th>\n",
              "      <td>102</td>\n",
              "      <td>332</td>\n",
              "      <td>402</td>\n",
              "      <td>756.0</td>\n",
              "      <td>32.0</td>\n",
              "    </tr>\n",
              "    <tr>\n",
              "      <th>1</th>\n",
              "      <td>99</td>\n",
              "      <td>392</td>\n",
              "      <td>497</td>\n",
              "      <td>741.0</td>\n",
              "      <td>70.0</td>\n",
              "    </tr>\n",
              "    <tr>\n",
              "      <th>2</th>\n",
              "      <td>80</td>\n",
              "      <td>391</td>\n",
              "      <td>306</td>\n",
              "      <td>794.0</td>\n",
              "      <td>26.0</td>\n",
              "    </tr>\n",
              "    <tr>\n",
              "      <th>3</th>\n",
              "      <td>30</td>\n",
              "      <td>295</td>\n",
              "      <td>681</td>\n",
              "      <td>772.0</td>\n",
              "      <td>154.0</td>\n",
              "    </tr>\n",
              "    <tr>\n",
              "      <th>4</th>\n",
              "      <td>143</td>\n",
              "      <td>374</td>\n",
              "      <td>573</td>\n",
              "      <td>703.0</td>\n",
              "      <td>201.0</td>\n",
              "    </tr>\n",
              "    <tr>\n",
              "      <th>5</th>\n",
              "      <td>26</td>\n",
              "      <td>333</td>\n",
              "      <td>777</td>\n",
              "      <td>NaN</td>\n",
              "      <td>NaN</td>\n",
              "    </tr>\n",
              "    <tr>\n",
              "      <th>6</th>\n",
              "      <td>21</td>\n",
              "      <td>282</td>\n",
              "      <td>821</td>\n",
              "      <td>NaN</td>\n",
              "      <td>NaN</td>\n",
              "    </tr>\n",
              "    <tr>\n",
              "      <th>7</th>\n",
              "      <td>30</td>\n",
              "      <td>300</td>\n",
              "      <td>200</td>\n",
              "      <td>100.0</td>\n",
              "      <td>200.0</td>\n",
              "    </tr>\n",
              "    <tr>\n",
              "      <th>8</th>\n",
              "      <td>40</td>\n",
              "      <td>400</td>\n",
              "      <td>300</td>\n",
              "      <td>150.0</td>\n",
              "      <td>240.0</td>\n",
              "    </tr>\n",
              "  </tbody>\n",
              "</table>\n",
              "</div>"
            ],
            "text/plain": [
              "     배   사과   포도     딸기    복숭아\n",
              "0  102  332  402  756.0   32.0\n",
              "1   99  392  497  741.0   70.0\n",
              "2   80  391  306  794.0   26.0\n",
              "3   30  295  681  772.0  154.0\n",
              "4  143  374  573  703.0  201.0\n",
              "5   26  333  777    NaN    NaN\n",
              "6   21  282  821    NaN    NaN\n",
              "7   30  300  200  100.0  200.0\n",
              "8   40  400  300  150.0  240.0"
            ]
          },
          "metadata": {},
          "execution_count": 927
        }
      ]
    },
    {
      "cell_type": "markdown",
      "metadata": {
        "id": "HGvCLFgeQdxE"
      },
      "source": [
        "인덱스가 0부터 오름차순으로 부여됐지만 기존에 지정했던 'n월' 형식은 초기화됐습니다.  "
      ]
    },
    {
      "cell_type": "markdown",
      "metadata": {
        "id": "ql2oYVdoQrM1"
      },
      "source": [
        "만약 모든 열의 데이터를 합치지 않는다면 나머지 열의 데이터는 모두 `Nan`으로 표시됩니다."
      ]
    },
    {
      "cell_type": "code",
      "metadata": {
        "colab": {
          "base_uri": "https://localhost:8080/",
          "height": 328
        },
        "id": "KwjWSkpaQ2mm",
        "outputId": "9df3bad2-2d09-42a9-a000-5a806a09680b"
      },
      "source": [
        "dataframe6 = pd.DataFrame({'배': [10, 20]})\n",
        "dataframe4.append(dataframe6, ignore_index=True)"
      ],
      "execution_count": 928,
      "outputs": [
        {
          "output_type": "execute_result",
          "data": {
            "text/html": [
              "<div>\n",
              "<style scoped>\n",
              "    .dataframe tbody tr th:only-of-type {\n",
              "        vertical-align: middle;\n",
              "    }\n",
              "\n",
              "    .dataframe tbody tr th {\n",
              "        vertical-align: top;\n",
              "    }\n",
              "\n",
              "    .dataframe thead th {\n",
              "        text-align: right;\n",
              "    }\n",
              "</style>\n",
              "<table border=\"1\" class=\"dataframe\">\n",
              "  <thead>\n",
              "    <tr style=\"text-align: right;\">\n",
              "      <th></th>\n",
              "      <th>배</th>\n",
              "      <th>사과</th>\n",
              "      <th>포도</th>\n",
              "      <th>딸기</th>\n",
              "      <th>복숭아</th>\n",
              "    </tr>\n",
              "  </thead>\n",
              "  <tbody>\n",
              "    <tr>\n",
              "      <th>0</th>\n",
              "      <td>102</td>\n",
              "      <td>332.0</td>\n",
              "      <td>402.0</td>\n",
              "      <td>756.0</td>\n",
              "      <td>32.0</td>\n",
              "    </tr>\n",
              "    <tr>\n",
              "      <th>1</th>\n",
              "      <td>99</td>\n",
              "      <td>392.0</td>\n",
              "      <td>497.0</td>\n",
              "      <td>741.0</td>\n",
              "      <td>70.0</td>\n",
              "    </tr>\n",
              "    <tr>\n",
              "      <th>2</th>\n",
              "      <td>80</td>\n",
              "      <td>391.0</td>\n",
              "      <td>306.0</td>\n",
              "      <td>794.0</td>\n",
              "      <td>26.0</td>\n",
              "    </tr>\n",
              "    <tr>\n",
              "      <th>3</th>\n",
              "      <td>30</td>\n",
              "      <td>295.0</td>\n",
              "      <td>681.0</td>\n",
              "      <td>772.0</td>\n",
              "      <td>154.0</td>\n",
              "    </tr>\n",
              "    <tr>\n",
              "      <th>4</th>\n",
              "      <td>143</td>\n",
              "      <td>374.0</td>\n",
              "      <td>573.0</td>\n",
              "      <td>703.0</td>\n",
              "      <td>201.0</td>\n",
              "    </tr>\n",
              "    <tr>\n",
              "      <th>5</th>\n",
              "      <td>26</td>\n",
              "      <td>333.0</td>\n",
              "      <td>777.0</td>\n",
              "      <td>NaN</td>\n",
              "      <td>NaN</td>\n",
              "    </tr>\n",
              "    <tr>\n",
              "      <th>6</th>\n",
              "      <td>21</td>\n",
              "      <td>282.0</td>\n",
              "      <td>821.0</td>\n",
              "      <td>NaN</td>\n",
              "      <td>NaN</td>\n",
              "    </tr>\n",
              "    <tr>\n",
              "      <th>7</th>\n",
              "      <td>10</td>\n",
              "      <td>NaN</td>\n",
              "      <td>NaN</td>\n",
              "      <td>NaN</td>\n",
              "      <td>NaN</td>\n",
              "    </tr>\n",
              "    <tr>\n",
              "      <th>8</th>\n",
              "      <td>20</td>\n",
              "      <td>NaN</td>\n",
              "      <td>NaN</td>\n",
              "      <td>NaN</td>\n",
              "      <td>NaN</td>\n",
              "    </tr>\n",
              "  </tbody>\n",
              "</table>\n",
              "</div>"
            ],
            "text/plain": [
              "     배     사과     포도     딸기    복숭아\n",
              "0  102  332.0  402.0  756.0   32.0\n",
              "1   99  392.0  497.0  741.0   70.0\n",
              "2   80  391.0  306.0  794.0   26.0\n",
              "3   30  295.0  681.0  772.0  154.0\n",
              "4  143  374.0  573.0  703.0  201.0\n",
              "5   26  333.0  777.0    NaN    NaN\n",
              "6   21  282.0  821.0    NaN    NaN\n",
              "7   10    NaN    NaN    NaN    NaN\n",
              "8   20    NaN    NaN    NaN    NaN"
            ]
          },
          "metadata": {},
          "execution_count": 928
        }
      ]
    },
    {
      "cell_type": "markdown",
      "metadata": {
        "id": "1A3vYfFtQqMZ"
      },
      "source": [
        "이제는 `join()` 함수를 사용하여 데이터프레임을 오른쪽으로 붙이겠습니다. 새로운 열을 가진 데이터프레임 `dataframe7`을 만들고 `dataframe4`의 오른쪽에 붙이겠습니다."
      ]
    },
    {
      "cell_type": "code",
      "metadata": {
        "colab": {
          "base_uri": "https://localhost:8080/",
          "height": 173
        },
        "id": "AudCHdsPR7Tf",
        "outputId": "11decfc2-6c17-4da9-c26e-0fc594859adc"
      },
      "source": [
        "dataframe7 = pd.DataFrame({'바나나': [350, 240, 360, 380]})\n",
        "dataframe7"
      ],
      "execution_count": 929,
      "outputs": [
        {
          "output_type": "execute_result",
          "data": {
            "text/html": [
              "<div>\n",
              "<style scoped>\n",
              "    .dataframe tbody tr th:only-of-type {\n",
              "        vertical-align: middle;\n",
              "    }\n",
              "\n",
              "    .dataframe tbody tr th {\n",
              "        vertical-align: top;\n",
              "    }\n",
              "\n",
              "    .dataframe thead th {\n",
              "        text-align: right;\n",
              "    }\n",
              "</style>\n",
              "<table border=\"1\" class=\"dataframe\">\n",
              "  <thead>\n",
              "    <tr style=\"text-align: right;\">\n",
              "      <th></th>\n",
              "      <th>바나나</th>\n",
              "    </tr>\n",
              "  </thead>\n",
              "  <tbody>\n",
              "    <tr>\n",
              "      <th>0</th>\n",
              "      <td>350</td>\n",
              "    </tr>\n",
              "    <tr>\n",
              "      <th>1</th>\n",
              "      <td>240</td>\n",
              "    </tr>\n",
              "    <tr>\n",
              "      <th>2</th>\n",
              "      <td>360</td>\n",
              "    </tr>\n",
              "    <tr>\n",
              "      <th>3</th>\n",
              "      <td>380</td>\n",
              "    </tr>\n",
              "  </tbody>\n",
              "</table>\n",
              "</div>"
            ],
            "text/plain": [
              "   바나나\n",
              "0  350\n",
              "1  240\n",
              "2  360\n",
              "3  380"
            ]
          },
          "metadata": {},
          "execution_count": 929
        }
      ]
    },
    {
      "cell_type": "code",
      "metadata": {
        "colab": {
          "base_uri": "https://localhost:8080/",
          "height": 266
        },
        "id": "nz-AFBUISLIA",
        "outputId": "3f655d43-a1d6-42ed-9bec-68cbf4f222f0"
      },
      "source": [
        "dataframe4.join(dataframe7)"
      ],
      "execution_count": 930,
      "outputs": [
        {
          "output_type": "execute_result",
          "data": {
            "text/html": [
              "<div>\n",
              "<style scoped>\n",
              "    .dataframe tbody tr th:only-of-type {\n",
              "        vertical-align: middle;\n",
              "    }\n",
              "\n",
              "    .dataframe tbody tr th {\n",
              "        vertical-align: top;\n",
              "    }\n",
              "\n",
              "    .dataframe thead th {\n",
              "        text-align: right;\n",
              "    }\n",
              "</style>\n",
              "<table border=\"1\" class=\"dataframe\">\n",
              "  <thead>\n",
              "    <tr style=\"text-align: right;\">\n",
              "      <th></th>\n",
              "      <th>배</th>\n",
              "      <th>사과</th>\n",
              "      <th>포도</th>\n",
              "      <th>딸기</th>\n",
              "      <th>복숭아</th>\n",
              "      <th>바나나</th>\n",
              "    </tr>\n",
              "  </thead>\n",
              "  <tbody>\n",
              "    <tr>\n",
              "      <th>4월</th>\n",
              "      <td>102</td>\n",
              "      <td>332</td>\n",
              "      <td>402</td>\n",
              "      <td>756.0</td>\n",
              "      <td>32.0</td>\n",
              "      <td>NaN</td>\n",
              "    </tr>\n",
              "    <tr>\n",
              "      <th>5월</th>\n",
              "      <td>99</td>\n",
              "      <td>392</td>\n",
              "      <td>497</td>\n",
              "      <td>741.0</td>\n",
              "      <td>70.0</td>\n",
              "      <td>NaN</td>\n",
              "    </tr>\n",
              "    <tr>\n",
              "      <th>6월</th>\n",
              "      <td>80</td>\n",
              "      <td>391</td>\n",
              "      <td>306</td>\n",
              "      <td>794.0</td>\n",
              "      <td>26.0</td>\n",
              "      <td>NaN</td>\n",
              "    </tr>\n",
              "    <tr>\n",
              "      <th>7월</th>\n",
              "      <td>30</td>\n",
              "      <td>295</td>\n",
              "      <td>681</td>\n",
              "      <td>772.0</td>\n",
              "      <td>154.0</td>\n",
              "      <td>NaN</td>\n",
              "    </tr>\n",
              "    <tr>\n",
              "      <th>8월</th>\n",
              "      <td>143</td>\n",
              "      <td>374</td>\n",
              "      <td>573</td>\n",
              "      <td>703.0</td>\n",
              "      <td>201.0</td>\n",
              "      <td>NaN</td>\n",
              "    </tr>\n",
              "    <tr>\n",
              "      <th>9월</th>\n",
              "      <td>26</td>\n",
              "      <td>333</td>\n",
              "      <td>777</td>\n",
              "      <td>NaN</td>\n",
              "      <td>NaN</td>\n",
              "      <td>NaN</td>\n",
              "    </tr>\n",
              "    <tr>\n",
              "      <th>10월</th>\n",
              "      <td>21</td>\n",
              "      <td>282</td>\n",
              "      <td>821</td>\n",
              "      <td>NaN</td>\n",
              "      <td>NaN</td>\n",
              "      <td>NaN</td>\n",
              "    </tr>\n",
              "  </tbody>\n",
              "</table>\n",
              "</div>"
            ],
            "text/plain": [
              "       배   사과   포도     딸기    복숭아  바나나\n",
              "4월   102  332  402  756.0   32.0  NaN\n",
              "5월    99  392  497  741.0   70.0  NaN\n",
              "6월    80  391  306  794.0   26.0  NaN\n",
              "7월    30  295  681  772.0  154.0  NaN\n",
              "8월   143  374  573  703.0  201.0  NaN\n",
              "9월    26  333  777    NaN    NaN  NaN\n",
              "10월   21  282  821    NaN    NaN  NaN"
            ]
          },
          "metadata": {},
          "execution_count": 930
        }
      ]
    },
    {
      "cell_type": "markdown",
      "metadata": {
        "id": "j3NfYUKcSfJD"
      },
      "source": [
        "`join()` 함수는 인덱스가 일치하지 않으면 새로운 열을 통합할 수 없습니다. 인덱스가 일치하는 `dataframe8`을 만들어서 합치겠습니다."
      ]
    },
    {
      "cell_type": "code",
      "metadata": {
        "colab": {
          "base_uri": "https://localhost:8080/",
          "height": 328
        },
        "id": "CIKDo-0VStjc",
        "outputId": "1ac5a208-d154-4454-9e9b-bf3cb474fd75"
      },
      "source": [
        "dataframe8 = dataframe4.append(dataframe6, ignore_index=True)\n",
        "dataframe8"
      ],
      "execution_count": 931,
      "outputs": [
        {
          "output_type": "execute_result",
          "data": {
            "text/html": [
              "<div>\n",
              "<style scoped>\n",
              "    .dataframe tbody tr th:only-of-type {\n",
              "        vertical-align: middle;\n",
              "    }\n",
              "\n",
              "    .dataframe tbody tr th {\n",
              "        vertical-align: top;\n",
              "    }\n",
              "\n",
              "    .dataframe thead th {\n",
              "        text-align: right;\n",
              "    }\n",
              "</style>\n",
              "<table border=\"1\" class=\"dataframe\">\n",
              "  <thead>\n",
              "    <tr style=\"text-align: right;\">\n",
              "      <th></th>\n",
              "      <th>배</th>\n",
              "      <th>사과</th>\n",
              "      <th>포도</th>\n",
              "      <th>딸기</th>\n",
              "      <th>복숭아</th>\n",
              "    </tr>\n",
              "  </thead>\n",
              "  <tbody>\n",
              "    <tr>\n",
              "      <th>0</th>\n",
              "      <td>102</td>\n",
              "      <td>332.0</td>\n",
              "      <td>402.0</td>\n",
              "      <td>756.0</td>\n",
              "      <td>32.0</td>\n",
              "    </tr>\n",
              "    <tr>\n",
              "      <th>1</th>\n",
              "      <td>99</td>\n",
              "      <td>392.0</td>\n",
              "      <td>497.0</td>\n",
              "      <td>741.0</td>\n",
              "      <td>70.0</td>\n",
              "    </tr>\n",
              "    <tr>\n",
              "      <th>2</th>\n",
              "      <td>80</td>\n",
              "      <td>391.0</td>\n",
              "      <td>306.0</td>\n",
              "      <td>794.0</td>\n",
              "      <td>26.0</td>\n",
              "    </tr>\n",
              "    <tr>\n",
              "      <th>3</th>\n",
              "      <td>30</td>\n",
              "      <td>295.0</td>\n",
              "      <td>681.0</td>\n",
              "      <td>772.0</td>\n",
              "      <td>154.0</td>\n",
              "    </tr>\n",
              "    <tr>\n",
              "      <th>4</th>\n",
              "      <td>143</td>\n",
              "      <td>374.0</td>\n",
              "      <td>573.0</td>\n",
              "      <td>703.0</td>\n",
              "      <td>201.0</td>\n",
              "    </tr>\n",
              "    <tr>\n",
              "      <th>5</th>\n",
              "      <td>26</td>\n",
              "      <td>333.0</td>\n",
              "      <td>777.0</td>\n",
              "      <td>NaN</td>\n",
              "      <td>NaN</td>\n",
              "    </tr>\n",
              "    <tr>\n",
              "      <th>6</th>\n",
              "      <td>21</td>\n",
              "      <td>282.0</td>\n",
              "      <td>821.0</td>\n",
              "      <td>NaN</td>\n",
              "      <td>NaN</td>\n",
              "    </tr>\n",
              "    <tr>\n",
              "      <th>7</th>\n",
              "      <td>10</td>\n",
              "      <td>NaN</td>\n",
              "      <td>NaN</td>\n",
              "      <td>NaN</td>\n",
              "      <td>NaN</td>\n",
              "    </tr>\n",
              "    <tr>\n",
              "      <th>8</th>\n",
              "      <td>20</td>\n",
              "      <td>NaN</td>\n",
              "      <td>NaN</td>\n",
              "      <td>NaN</td>\n",
              "      <td>NaN</td>\n",
              "    </tr>\n",
              "  </tbody>\n",
              "</table>\n",
              "</div>"
            ],
            "text/plain": [
              "     배     사과     포도     딸기    복숭아\n",
              "0  102  332.0  402.0  756.0   32.0\n",
              "1   99  392.0  497.0  741.0   70.0\n",
              "2   80  391.0  306.0  794.0   26.0\n",
              "3   30  295.0  681.0  772.0  154.0\n",
              "4  143  374.0  573.0  703.0  201.0\n",
              "5   26  333.0  777.0    NaN    NaN\n",
              "6   21  282.0  821.0    NaN    NaN\n",
              "7   10    NaN    NaN    NaN    NaN\n",
              "8   20    NaN    NaN    NaN    NaN"
            ]
          },
          "metadata": {},
          "execution_count": 931
        }
      ]
    },
    {
      "cell_type": "code",
      "metadata": {
        "colab": {
          "base_uri": "https://localhost:8080/",
          "height": 328
        },
        "id": "cW3aMbKuS0iQ",
        "outputId": "e41bdcb6-8e87-42bf-f0d3-34a0af3c58e0"
      },
      "source": [
        "dataframe8.join(dataframe7)"
      ],
      "execution_count": 932,
      "outputs": [
        {
          "output_type": "execute_result",
          "data": {
            "text/html": [
              "<div>\n",
              "<style scoped>\n",
              "    .dataframe tbody tr th:only-of-type {\n",
              "        vertical-align: middle;\n",
              "    }\n",
              "\n",
              "    .dataframe tbody tr th {\n",
              "        vertical-align: top;\n",
              "    }\n",
              "\n",
              "    .dataframe thead th {\n",
              "        text-align: right;\n",
              "    }\n",
              "</style>\n",
              "<table border=\"1\" class=\"dataframe\">\n",
              "  <thead>\n",
              "    <tr style=\"text-align: right;\">\n",
              "      <th></th>\n",
              "      <th>배</th>\n",
              "      <th>사과</th>\n",
              "      <th>포도</th>\n",
              "      <th>딸기</th>\n",
              "      <th>복숭아</th>\n",
              "      <th>바나나</th>\n",
              "    </tr>\n",
              "  </thead>\n",
              "  <tbody>\n",
              "    <tr>\n",
              "      <th>0</th>\n",
              "      <td>102</td>\n",
              "      <td>332.0</td>\n",
              "      <td>402.0</td>\n",
              "      <td>756.0</td>\n",
              "      <td>32.0</td>\n",
              "      <td>350.0</td>\n",
              "    </tr>\n",
              "    <tr>\n",
              "      <th>1</th>\n",
              "      <td>99</td>\n",
              "      <td>392.0</td>\n",
              "      <td>497.0</td>\n",
              "      <td>741.0</td>\n",
              "      <td>70.0</td>\n",
              "      <td>240.0</td>\n",
              "    </tr>\n",
              "    <tr>\n",
              "      <th>2</th>\n",
              "      <td>80</td>\n",
              "      <td>391.0</td>\n",
              "      <td>306.0</td>\n",
              "      <td>794.0</td>\n",
              "      <td>26.0</td>\n",
              "      <td>360.0</td>\n",
              "    </tr>\n",
              "    <tr>\n",
              "      <th>3</th>\n",
              "      <td>30</td>\n",
              "      <td>295.0</td>\n",
              "      <td>681.0</td>\n",
              "      <td>772.0</td>\n",
              "      <td>154.0</td>\n",
              "      <td>380.0</td>\n",
              "    </tr>\n",
              "    <tr>\n",
              "      <th>4</th>\n",
              "      <td>143</td>\n",
              "      <td>374.0</td>\n",
              "      <td>573.0</td>\n",
              "      <td>703.0</td>\n",
              "      <td>201.0</td>\n",
              "      <td>NaN</td>\n",
              "    </tr>\n",
              "    <tr>\n",
              "      <th>5</th>\n",
              "      <td>26</td>\n",
              "      <td>333.0</td>\n",
              "      <td>777.0</td>\n",
              "      <td>NaN</td>\n",
              "      <td>NaN</td>\n",
              "      <td>NaN</td>\n",
              "    </tr>\n",
              "    <tr>\n",
              "      <th>6</th>\n",
              "      <td>21</td>\n",
              "      <td>282.0</td>\n",
              "      <td>821.0</td>\n",
              "      <td>NaN</td>\n",
              "      <td>NaN</td>\n",
              "      <td>NaN</td>\n",
              "    </tr>\n",
              "    <tr>\n",
              "      <th>7</th>\n",
              "      <td>10</td>\n",
              "      <td>NaN</td>\n",
              "      <td>NaN</td>\n",
              "      <td>NaN</td>\n",
              "      <td>NaN</td>\n",
              "      <td>NaN</td>\n",
              "    </tr>\n",
              "    <tr>\n",
              "      <th>8</th>\n",
              "      <td>20</td>\n",
              "      <td>NaN</td>\n",
              "      <td>NaN</td>\n",
              "      <td>NaN</td>\n",
              "      <td>NaN</td>\n",
              "      <td>NaN</td>\n",
              "    </tr>\n",
              "  </tbody>\n",
              "</table>\n",
              "</div>"
            ],
            "text/plain": [
              "     배     사과     포도     딸기    복숭아    바나나\n",
              "0  102  332.0  402.0  756.0   32.0  350.0\n",
              "1   99  392.0  497.0  741.0   70.0  240.0\n",
              "2   80  391.0  306.0  794.0   26.0  360.0\n",
              "3   30  295.0  681.0  772.0  154.0  380.0\n",
              "4  143  374.0  573.0  703.0  201.0    NaN\n",
              "5   26  333.0  777.0    NaN    NaN    NaN\n",
              "6   21  282.0  821.0    NaN    NaN    NaN\n",
              "7   10    NaN    NaN    NaN    NaN    NaN\n",
              "8   20    NaN    NaN    NaN    NaN    NaN"
            ]
          },
          "metadata": {},
          "execution_count": 932
        }
      ]
    },
    {
      "cell_type": "markdown",
      "metadata": {
        "id": "tiODLQx3S3sO"
      },
      "source": [
        "인덱스가 동일한 숫자에 맞춰서 바나나열이 추가됐습니다. 아래 데이터는 공백이므로 `NaN`으로 처리됐습니다. 다만 기존 데이터프레임의 인덱스를 유지하면서 데이터를 붙이고 싶으면 `index` 매개변수에 같은 인덱스를 지정하면 됩니다.\n",
        "\n",
        "먼저 `dataframe4`를 띄우겠습니다."
      ]
    },
    {
      "cell_type": "code",
      "metadata": {
        "colab": {
          "base_uri": "https://localhost:8080/",
          "height": 266
        },
        "id": "1GKIjNStTfOJ",
        "outputId": "22fac91e-1689-4f68-b777-f69cddf34e42"
      },
      "source": [
        "dataframe4"
      ],
      "execution_count": 933,
      "outputs": [
        {
          "output_type": "execute_result",
          "data": {
            "text/html": [
              "<div>\n",
              "<style scoped>\n",
              "    .dataframe tbody tr th:only-of-type {\n",
              "        vertical-align: middle;\n",
              "    }\n",
              "\n",
              "    .dataframe tbody tr th {\n",
              "        vertical-align: top;\n",
              "    }\n",
              "\n",
              "    .dataframe thead th {\n",
              "        text-align: right;\n",
              "    }\n",
              "</style>\n",
              "<table border=\"1\" class=\"dataframe\">\n",
              "  <thead>\n",
              "    <tr style=\"text-align: right;\">\n",
              "      <th></th>\n",
              "      <th>배</th>\n",
              "      <th>사과</th>\n",
              "      <th>포도</th>\n",
              "      <th>딸기</th>\n",
              "      <th>복숭아</th>\n",
              "    </tr>\n",
              "  </thead>\n",
              "  <tbody>\n",
              "    <tr>\n",
              "      <th>4월</th>\n",
              "      <td>102</td>\n",
              "      <td>332</td>\n",
              "      <td>402</td>\n",
              "      <td>756.0</td>\n",
              "      <td>32.0</td>\n",
              "    </tr>\n",
              "    <tr>\n",
              "      <th>5월</th>\n",
              "      <td>99</td>\n",
              "      <td>392</td>\n",
              "      <td>497</td>\n",
              "      <td>741.0</td>\n",
              "      <td>70.0</td>\n",
              "    </tr>\n",
              "    <tr>\n",
              "      <th>6월</th>\n",
              "      <td>80</td>\n",
              "      <td>391</td>\n",
              "      <td>306</td>\n",
              "      <td>794.0</td>\n",
              "      <td>26.0</td>\n",
              "    </tr>\n",
              "    <tr>\n",
              "      <th>7월</th>\n",
              "      <td>30</td>\n",
              "      <td>295</td>\n",
              "      <td>681</td>\n",
              "      <td>772.0</td>\n",
              "      <td>154.0</td>\n",
              "    </tr>\n",
              "    <tr>\n",
              "      <th>8월</th>\n",
              "      <td>143</td>\n",
              "      <td>374</td>\n",
              "      <td>573</td>\n",
              "      <td>703.0</td>\n",
              "      <td>201.0</td>\n",
              "    </tr>\n",
              "    <tr>\n",
              "      <th>9월</th>\n",
              "      <td>26</td>\n",
              "      <td>333</td>\n",
              "      <td>777</td>\n",
              "      <td>NaN</td>\n",
              "      <td>NaN</td>\n",
              "    </tr>\n",
              "    <tr>\n",
              "      <th>10월</th>\n",
              "      <td>21</td>\n",
              "      <td>282</td>\n",
              "      <td>821</td>\n",
              "      <td>NaN</td>\n",
              "      <td>NaN</td>\n",
              "    </tr>\n",
              "  </tbody>\n",
              "</table>\n",
              "</div>"
            ],
            "text/plain": [
              "       배   사과   포도     딸기    복숭아\n",
              "4월   102  332  402  756.0   32.0\n",
              "5월    99  392  497  741.0   70.0\n",
              "6월    80  391  306  794.0   26.0\n",
              "7월    30  295  681  772.0  154.0\n",
              "8월   143  374  573  703.0  201.0\n",
              "9월    26  333  777    NaN    NaN\n",
              "10월   21  282  821    NaN    NaN"
            ]
          },
          "metadata": {},
          "execution_count": 933
        }
      ]
    },
    {
      "cell_type": "markdown",
      "metadata": {
        "id": "xEtUvCmHUbND"
      },
      "source": [
        "`dataframe4`는 인덱스가 7개입니다. `dataframe10`의 '바나나' 열 데이터는 4개뿐이므로 라벨을 4개만 남겨야 합니다."
      ]
    },
    {
      "cell_type": "code",
      "metadata": {
        "id": "H0OhiXB9TmPE"
      },
      "source": [
        "index4 = ['5월', '6월', '8월', '10월']\n",
        "dataframe10 = pd.DataFrame({'바나나': [350, 240, 360, 380]}, index=index4)"
      ],
      "execution_count": 934,
      "outputs": []
    },
    {
      "cell_type": "markdown",
      "metadata": {
        "id": "zdKqMdEWUYLM"
      },
      "source": [
        "이제 둘을 합치겠습니다. 인덱스 라벨이 유지되면서 인덱스 라벨과 일치된 데이터만 추가됩니다."
      ]
    },
    {
      "cell_type": "code",
      "metadata": {
        "colab": {
          "base_uri": "https://localhost:8080/",
          "height": 266
        },
        "id": "lHQ7zbH_VET9",
        "outputId": "46be84be-17a7-49bc-f700-c7c67da01645"
      },
      "source": [
        "dataframe4.join(dataframe10)"
      ],
      "execution_count": 935,
      "outputs": [
        {
          "output_type": "execute_result",
          "data": {
            "text/html": [
              "<div>\n",
              "<style scoped>\n",
              "    .dataframe tbody tr th:only-of-type {\n",
              "        vertical-align: middle;\n",
              "    }\n",
              "\n",
              "    .dataframe tbody tr th {\n",
              "        vertical-align: top;\n",
              "    }\n",
              "\n",
              "    .dataframe thead th {\n",
              "        text-align: right;\n",
              "    }\n",
              "</style>\n",
              "<table border=\"1\" class=\"dataframe\">\n",
              "  <thead>\n",
              "    <tr style=\"text-align: right;\">\n",
              "      <th></th>\n",
              "      <th>배</th>\n",
              "      <th>사과</th>\n",
              "      <th>포도</th>\n",
              "      <th>딸기</th>\n",
              "      <th>복숭아</th>\n",
              "      <th>바나나</th>\n",
              "    </tr>\n",
              "  </thead>\n",
              "  <tbody>\n",
              "    <tr>\n",
              "      <th>4월</th>\n",
              "      <td>102</td>\n",
              "      <td>332</td>\n",
              "      <td>402</td>\n",
              "      <td>756.0</td>\n",
              "      <td>32.0</td>\n",
              "      <td>NaN</td>\n",
              "    </tr>\n",
              "    <tr>\n",
              "      <th>5월</th>\n",
              "      <td>99</td>\n",
              "      <td>392</td>\n",
              "      <td>497</td>\n",
              "      <td>741.0</td>\n",
              "      <td>70.0</td>\n",
              "      <td>350.0</td>\n",
              "    </tr>\n",
              "    <tr>\n",
              "      <th>6월</th>\n",
              "      <td>80</td>\n",
              "      <td>391</td>\n",
              "      <td>306</td>\n",
              "      <td>794.0</td>\n",
              "      <td>26.0</td>\n",
              "      <td>240.0</td>\n",
              "    </tr>\n",
              "    <tr>\n",
              "      <th>7월</th>\n",
              "      <td>30</td>\n",
              "      <td>295</td>\n",
              "      <td>681</td>\n",
              "      <td>772.0</td>\n",
              "      <td>154.0</td>\n",
              "      <td>NaN</td>\n",
              "    </tr>\n",
              "    <tr>\n",
              "      <th>8월</th>\n",
              "      <td>143</td>\n",
              "      <td>374</td>\n",
              "      <td>573</td>\n",
              "      <td>703.0</td>\n",
              "      <td>201.0</td>\n",
              "      <td>360.0</td>\n",
              "    </tr>\n",
              "    <tr>\n",
              "      <th>9월</th>\n",
              "      <td>26</td>\n",
              "      <td>333</td>\n",
              "      <td>777</td>\n",
              "      <td>NaN</td>\n",
              "      <td>NaN</td>\n",
              "      <td>NaN</td>\n",
              "    </tr>\n",
              "    <tr>\n",
              "      <th>10월</th>\n",
              "      <td>21</td>\n",
              "      <td>282</td>\n",
              "      <td>821</td>\n",
              "      <td>NaN</td>\n",
              "      <td>NaN</td>\n",
              "      <td>380.0</td>\n",
              "    </tr>\n",
              "  </tbody>\n",
              "</table>\n",
              "</div>"
            ],
            "text/plain": [
              "       배   사과   포도     딸기    복숭아    바나나\n",
              "4월   102  332  402  756.0   32.0    NaN\n",
              "5월    99  392  497  741.0   70.0  350.0\n",
              "6월    80  391  306  794.0   26.0  240.0\n",
              "7월    30  295  681  772.0  154.0    NaN\n",
              "8월   143  374  573  703.0  201.0  360.0\n",
              "9월    26  333  777    NaN    NaN    NaN\n",
              "10월   21  282  821    NaN    NaN  380.0"
            ]
          },
          "metadata": {},
          "execution_count": 935
        }
      ]
    },
    {
      "cell_type": "markdown",
      "metadata": {
        "id": "UtTptZwEVwdN"
      },
      "source": [
        "`merge()` 함수를 사용하면 특정한 열을 기준으로 데이터를 붙일 방향을 설정해서 데이터를 붙일 수 있습니다. 방향 설정은 매개변수 `how`에 지정하며 기본값은 `right`인 오른쪽입니다.\n",
        "\n",
        "먼저 방향을 설정하지 않고 기본값인 오른쪽으로 데이터를 합치겠습니다. 새로운 데이터프레임인 `dataframe11`을 생성합니다."
      ]
    },
    {
      "cell_type": "code",
      "metadata": {
        "colab": {
          "base_uri": "https://localhost:8080/",
          "height": 142
        },
        "id": "RSMUaGTObkRR",
        "outputId": "5b201015-ddad-49f1-dda8-74ee153919cf"
      },
      "source": [
        "dataframe11 = pd.DataFrame({'판매점': ['SKT', 'KT', 'LG'],\n",
        "                            '휴대폰': [100, 200, 300],\n",
        "                            '집전화': [10, 20, 30]})\n",
        "dataframe11"
      ],
      "execution_count": 936,
      "outputs": [
        {
          "output_type": "execute_result",
          "data": {
            "text/html": [
              "<div>\n",
              "<style scoped>\n",
              "    .dataframe tbody tr th:only-of-type {\n",
              "        vertical-align: middle;\n",
              "    }\n",
              "\n",
              "    .dataframe tbody tr th {\n",
              "        vertical-align: top;\n",
              "    }\n",
              "\n",
              "    .dataframe thead th {\n",
              "        text-align: right;\n",
              "    }\n",
              "</style>\n",
              "<table border=\"1\" class=\"dataframe\">\n",
              "  <thead>\n",
              "    <tr style=\"text-align: right;\">\n",
              "      <th></th>\n",
              "      <th>판매점</th>\n",
              "      <th>휴대폰</th>\n",
              "      <th>집전화</th>\n",
              "    </tr>\n",
              "  </thead>\n",
              "  <tbody>\n",
              "    <tr>\n",
              "      <th>0</th>\n",
              "      <td>SKT</td>\n",
              "      <td>100</td>\n",
              "      <td>10</td>\n",
              "    </tr>\n",
              "    <tr>\n",
              "      <th>1</th>\n",
              "      <td>KT</td>\n",
              "      <td>200</td>\n",
              "      <td>20</td>\n",
              "    </tr>\n",
              "    <tr>\n",
              "      <th>2</th>\n",
              "      <td>LG</td>\n",
              "      <td>300</td>\n",
              "      <td>30</td>\n",
              "    </tr>\n",
              "  </tbody>\n",
              "</table>\n",
              "</div>"
            ],
            "text/plain": [
              "   판매점  휴대폰  집전화\n",
              "0  SKT  100   10\n",
              "1   KT  200   20\n",
              "2   LG  300   30"
            ]
          },
          "metadata": {},
          "execution_count": 936
        }
      ]
    },
    {
      "cell_type": "markdown",
      "metadata": {
        "id": "aPWGewWGcqiJ"
      },
      "source": [
        "`dataframe11`에 붙일 데이터프레임인 `dateframe12`를 생성하겠습니다."
      ]
    },
    {
      "cell_type": "code",
      "metadata": {
        "colab": {
          "base_uri": "https://localhost:8080/",
          "height": 142
        },
        "id": "lURO9BsScw5G",
        "outputId": "45c708da-1bc4-4cc7-9973-f42557353035"
      },
      "source": [
        "dataframe12 = pd.DataFrame({'판매점': ['SKT', 'KT', 'LG'],\n",
        "                            '인터넷': [11, 22, 33]})\n",
        "dataframe12"
      ],
      "execution_count": 937,
      "outputs": [
        {
          "output_type": "execute_result",
          "data": {
            "text/html": [
              "<div>\n",
              "<style scoped>\n",
              "    .dataframe tbody tr th:only-of-type {\n",
              "        vertical-align: middle;\n",
              "    }\n",
              "\n",
              "    .dataframe tbody tr th {\n",
              "        vertical-align: top;\n",
              "    }\n",
              "\n",
              "    .dataframe thead th {\n",
              "        text-align: right;\n",
              "    }\n",
              "</style>\n",
              "<table border=\"1\" class=\"dataframe\">\n",
              "  <thead>\n",
              "    <tr style=\"text-align: right;\">\n",
              "      <th></th>\n",
              "      <th>판매점</th>\n",
              "      <th>인터넷</th>\n",
              "    </tr>\n",
              "  </thead>\n",
              "  <tbody>\n",
              "    <tr>\n",
              "      <th>0</th>\n",
              "      <td>SKT</td>\n",
              "      <td>11</td>\n",
              "    </tr>\n",
              "    <tr>\n",
              "      <th>1</th>\n",
              "      <td>KT</td>\n",
              "      <td>22</td>\n",
              "    </tr>\n",
              "    <tr>\n",
              "      <th>2</th>\n",
              "      <td>LG</td>\n",
              "      <td>33</td>\n",
              "    </tr>\n",
              "  </tbody>\n",
              "</table>\n",
              "</div>"
            ],
            "text/plain": [
              "   판매점  인터넷\n",
              "0  SKT   11\n",
              "1   KT   22\n",
              "2   LG   33"
            ]
          },
          "metadata": {},
          "execution_count": 937
        }
      ]
    },
    {
      "cell_type": "markdown",
      "metadata": {
        "id": "Js-7uDnsc-45"
      },
      "source": [
        "두 데이터프레임을 붙이겠습니다."
      ]
    },
    {
      "cell_type": "code",
      "metadata": {
        "colab": {
          "base_uri": "https://localhost:8080/",
          "height": 142
        },
        "id": "EnvvaNuJdBVf",
        "outputId": "b05d16a5-c085-4142-fb97-ec286264604a"
      },
      "source": [
        "dataframe11.merge(dataframe12)"
      ],
      "execution_count": 938,
      "outputs": [
        {
          "output_type": "execute_result",
          "data": {
            "text/html": [
              "<div>\n",
              "<style scoped>\n",
              "    .dataframe tbody tr th:only-of-type {\n",
              "        vertical-align: middle;\n",
              "    }\n",
              "\n",
              "    .dataframe tbody tr th {\n",
              "        vertical-align: top;\n",
              "    }\n",
              "\n",
              "    .dataframe thead th {\n",
              "        text-align: right;\n",
              "    }\n",
              "</style>\n",
              "<table border=\"1\" class=\"dataframe\">\n",
              "  <thead>\n",
              "    <tr style=\"text-align: right;\">\n",
              "      <th></th>\n",
              "      <th>판매점</th>\n",
              "      <th>휴대폰</th>\n",
              "      <th>집전화</th>\n",
              "      <th>인터넷</th>\n",
              "    </tr>\n",
              "  </thead>\n",
              "  <tbody>\n",
              "    <tr>\n",
              "      <th>0</th>\n",
              "      <td>SKT</td>\n",
              "      <td>100</td>\n",
              "      <td>10</td>\n",
              "      <td>11</td>\n",
              "    </tr>\n",
              "    <tr>\n",
              "      <th>1</th>\n",
              "      <td>KT</td>\n",
              "      <td>200</td>\n",
              "      <td>20</td>\n",
              "      <td>22</td>\n",
              "    </tr>\n",
              "    <tr>\n",
              "      <th>2</th>\n",
              "      <td>LG</td>\n",
              "      <td>300</td>\n",
              "      <td>30</td>\n",
              "      <td>33</td>\n",
              "    </tr>\n",
              "  </tbody>\n",
              "</table>\n",
              "</div>"
            ],
            "text/plain": [
              "   판매점  휴대폰  집전화  인터넷\n",
              "0  SKT  100   10   11\n",
              "1   KT  200   20   22\n",
              "2   LG  300   30   33"
            ]
          },
          "metadata": {},
          "execution_count": 938
        }
      ]
    },
    {
      "cell_type": "markdown",
      "metadata": {
        "id": "nI5Q7GNHdIQd"
      },
      "source": [
        "위 두 데이터프레임은 '판매점' 열이 동일하여 손쉽게 통합됐습니다. 반대로 특정한 열을 기준으로 데이터의 일부만 공통된다면 `merge()` 함수에 매개변수를 전달해야 합니다. 이에 해당하는 매개변수는 통합하는 방법을 지정하는 `how`와 통합 기준 열을 지정하는 `on`입니다.\n",
        "\n",
        "아래는 매개변수 `how`에 대한 값 목록입니다.\n",
        "\n",
        "- `left`: 왼쪽 데이터는 모두 선택하고, 지정한 열의 값에 데이터가 있는 오른쪽 데이터를 선택합니다.\n",
        "\n",
        "- `right`: 오른쪽 데이터는 모두 선택하고, 지정한 열의 값에 데이터가 있는 왼쪽 데이터를 선택합니다.\n",
        "\n",
        "- `inner`: 지정한 열을 기준으로 왼쪽과 오른쪽 데이터 중에 공통되는 데이터만 선택합니다. 기본값입니다.\n",
        "\n",
        "- `outer`: 지정한 열을 기준으로 왼쪽과 오른쪽 데이터 모두를 선택합니다."
      ]
    },
    {
      "cell_type": "markdown",
      "metadata": {
        "id": "i3ct1V4ony8n"
      },
      "source": [
        "매개변수에 대한 예시를 들겠습니다. 새로운 데이터프레임을 생성하겠습니다."
      ]
    },
    {
      "cell_type": "code",
      "metadata": {
        "colab": {
          "base_uri": "https://localhost:8080/",
          "height": 142
        },
        "id": "3RSOnOagpx7X",
        "outputId": "f418604a-c829-4e8e-937e-f23be669ebf1"
      },
      "source": [
        "dataframe_seoul = pd.DataFrame({'기준': ['사과', '포도', '오이'],\n",
        "                               '서울': [1, 2, 3]})\n",
        "dataframe_seoul"
      ],
      "execution_count": 939,
      "outputs": [
        {
          "output_type": "execute_result",
          "data": {
            "text/html": [
              "<div>\n",
              "<style scoped>\n",
              "    .dataframe tbody tr th:only-of-type {\n",
              "        vertical-align: middle;\n",
              "    }\n",
              "\n",
              "    .dataframe tbody tr th {\n",
              "        vertical-align: top;\n",
              "    }\n",
              "\n",
              "    .dataframe thead th {\n",
              "        text-align: right;\n",
              "    }\n",
              "</style>\n",
              "<table border=\"1\" class=\"dataframe\">\n",
              "  <thead>\n",
              "    <tr style=\"text-align: right;\">\n",
              "      <th></th>\n",
              "      <th>기준</th>\n",
              "      <th>서울</th>\n",
              "    </tr>\n",
              "  </thead>\n",
              "  <tbody>\n",
              "    <tr>\n",
              "      <th>0</th>\n",
              "      <td>사과</td>\n",
              "      <td>1</td>\n",
              "    </tr>\n",
              "    <tr>\n",
              "      <th>1</th>\n",
              "      <td>포도</td>\n",
              "      <td>2</td>\n",
              "    </tr>\n",
              "    <tr>\n",
              "      <th>2</th>\n",
              "      <td>오이</td>\n",
              "      <td>3</td>\n",
              "    </tr>\n",
              "  </tbody>\n",
              "</table>\n",
              "</div>"
            ],
            "text/plain": [
              "   기준  서울\n",
              "0  사과   1\n",
              "1  포도   2\n",
              "2  오이   3"
            ]
          },
          "metadata": {},
          "execution_count": 939
        }
      ]
    },
    {
      "cell_type": "code",
      "metadata": {
        "colab": {
          "base_uri": "https://localhost:8080/",
          "height": 142
        },
        "id": "gEXLdF3dvGGk",
        "outputId": "a6d709fb-48d7-48b7-b0f2-1cbbbfce069e"
      },
      "source": [
        "dataframe_gyeonggi = pd.DataFrame({'기준': ['사과', '포도', '가지'],\n",
        "                                '경기': [7, 8, 9]})\n",
        "dataframe_gyeonggi"
      ],
      "execution_count": 940,
      "outputs": [
        {
          "output_type": "execute_result",
          "data": {
            "text/html": [
              "<div>\n",
              "<style scoped>\n",
              "    .dataframe tbody tr th:only-of-type {\n",
              "        vertical-align: middle;\n",
              "    }\n",
              "\n",
              "    .dataframe tbody tr th {\n",
              "        vertical-align: top;\n",
              "    }\n",
              "\n",
              "    .dataframe thead th {\n",
              "        text-align: right;\n",
              "    }\n",
              "</style>\n",
              "<table border=\"1\" class=\"dataframe\">\n",
              "  <thead>\n",
              "    <tr style=\"text-align: right;\">\n",
              "      <th></th>\n",
              "      <th>기준</th>\n",
              "      <th>경기</th>\n",
              "    </tr>\n",
              "  </thead>\n",
              "  <tbody>\n",
              "    <tr>\n",
              "      <th>0</th>\n",
              "      <td>사과</td>\n",
              "      <td>7</td>\n",
              "    </tr>\n",
              "    <tr>\n",
              "      <th>1</th>\n",
              "      <td>포도</td>\n",
              "      <td>8</td>\n",
              "    </tr>\n",
              "    <tr>\n",
              "      <th>2</th>\n",
              "      <td>가지</td>\n",
              "      <td>9</td>\n",
              "    </tr>\n",
              "  </tbody>\n",
              "</table>\n",
              "</div>"
            ],
            "text/plain": [
              "   기준  경기\n",
              "0  사과   7\n",
              "1  포도   8\n",
              "2  가지   9"
            ]
          },
          "metadata": {},
          "execution_count": 940
        }
      ]
    },
    {
      "cell_type": "markdown",
      "metadata": {
        "id": "Xcf16ZRQvYIS"
      },
      "source": [
        "먼저 `left`를 전달하겠습니다. 코드에서 왼쪽에 위치한 '서울' 데이터프레임을 모두 가져오고, 그 데이터프레임의 '기준' 값과 일치하는 '경기' 데이터프레임의 값을 합칩니다. '경기' 데이터프레임의 '기준' 열에는 '오이' 값이 없으므로 'NaN'으로 표시됩니다."
      ]
    },
    {
      "cell_type": "code",
      "metadata": {
        "colab": {
          "base_uri": "https://localhost:8080/",
          "height": 142
        },
        "id": "JHY0xKaAxYsp",
        "outputId": "9a4ff181-1624-485d-d9aa-96d4dbc0f2ef"
      },
      "source": [
        "dataframe_seoul.merge(dataframe_gyeonggi, how='left', on='기준')"
      ],
      "execution_count": 941,
      "outputs": [
        {
          "output_type": "execute_result",
          "data": {
            "text/html": [
              "<div>\n",
              "<style scoped>\n",
              "    .dataframe tbody tr th:only-of-type {\n",
              "        vertical-align: middle;\n",
              "    }\n",
              "\n",
              "    .dataframe tbody tr th {\n",
              "        vertical-align: top;\n",
              "    }\n",
              "\n",
              "    .dataframe thead th {\n",
              "        text-align: right;\n",
              "    }\n",
              "</style>\n",
              "<table border=\"1\" class=\"dataframe\">\n",
              "  <thead>\n",
              "    <tr style=\"text-align: right;\">\n",
              "      <th></th>\n",
              "      <th>기준</th>\n",
              "      <th>서울</th>\n",
              "      <th>경기</th>\n",
              "    </tr>\n",
              "  </thead>\n",
              "  <tbody>\n",
              "    <tr>\n",
              "      <th>0</th>\n",
              "      <td>사과</td>\n",
              "      <td>1</td>\n",
              "      <td>7.0</td>\n",
              "    </tr>\n",
              "    <tr>\n",
              "      <th>1</th>\n",
              "      <td>포도</td>\n",
              "      <td>2</td>\n",
              "      <td>8.0</td>\n",
              "    </tr>\n",
              "    <tr>\n",
              "      <th>2</th>\n",
              "      <td>오이</td>\n",
              "      <td>3</td>\n",
              "      <td>NaN</td>\n",
              "    </tr>\n",
              "  </tbody>\n",
              "</table>\n",
              "</div>"
            ],
            "text/plain": [
              "   기준  서울   경기\n",
              "0  사과   1  7.0\n",
              "1  포도   2  8.0\n",
              "2  오이   3  NaN"
            ]
          },
          "metadata": {},
          "execution_count": 941
        }
      ]
    },
    {
      "cell_type": "markdown",
      "metadata": {
        "id": "kb5Bcf7w6pGj"
      },
      "source": [
        "`right`를 전달하겠습니다. 코드에서 오른쪽에 위치한 '경기' 데이터프레임을 모두 가져오고, 그 데이터프레임의 '기준' 값과 일치하는 '서울' 데이터프레임의 값을 합칩니다. '서울' 데이터프레임의 '기준' 열에는 '가지' 값이 없으므로 'NaN'으로 표시됩니다."
      ]
    },
    {
      "cell_type": "code",
      "metadata": {
        "colab": {
          "base_uri": "https://localhost:8080/",
          "height": 142
        },
        "id": "G34XGIx166l1",
        "outputId": "c3605ffa-1257-4a66-d7d3-5ffd19d44aa4"
      },
      "source": [
        "dataframe_seoul.merge(dataframe_gyeonggi, how='right', on='기준')"
      ],
      "execution_count": 942,
      "outputs": [
        {
          "output_type": "execute_result",
          "data": {
            "text/html": [
              "<div>\n",
              "<style scoped>\n",
              "    .dataframe tbody tr th:only-of-type {\n",
              "        vertical-align: middle;\n",
              "    }\n",
              "\n",
              "    .dataframe tbody tr th {\n",
              "        vertical-align: top;\n",
              "    }\n",
              "\n",
              "    .dataframe thead th {\n",
              "        text-align: right;\n",
              "    }\n",
              "</style>\n",
              "<table border=\"1\" class=\"dataframe\">\n",
              "  <thead>\n",
              "    <tr style=\"text-align: right;\">\n",
              "      <th></th>\n",
              "      <th>기준</th>\n",
              "      <th>서울</th>\n",
              "      <th>경기</th>\n",
              "    </tr>\n",
              "  </thead>\n",
              "  <tbody>\n",
              "    <tr>\n",
              "      <th>0</th>\n",
              "      <td>사과</td>\n",
              "      <td>1.0</td>\n",
              "      <td>7</td>\n",
              "    </tr>\n",
              "    <tr>\n",
              "      <th>1</th>\n",
              "      <td>포도</td>\n",
              "      <td>2.0</td>\n",
              "      <td>8</td>\n",
              "    </tr>\n",
              "    <tr>\n",
              "      <th>2</th>\n",
              "      <td>가지</td>\n",
              "      <td>NaN</td>\n",
              "      <td>9</td>\n",
              "    </tr>\n",
              "  </tbody>\n",
              "</table>\n",
              "</div>"
            ],
            "text/plain": [
              "   기준   서울  경기\n",
              "0  사과  1.0   7\n",
              "1  포도  2.0   8\n",
              "2  가지  NaN   9"
            ]
          },
          "metadata": {},
          "execution_count": 942
        }
      ]
    },
    {
      "cell_type": "markdown",
      "metadata": {
        "id": "hO3ELZQb7ISy"
      },
      "source": [
        "`inner`를 전달하겠습니다. 두 데이터프레임의 '기준' 값 중에 공통되는 값만 표시합니다. '사과'와 '포도'만 공통됩니다."
      ]
    },
    {
      "cell_type": "code",
      "metadata": {
        "colab": {
          "base_uri": "https://localhost:8080/",
          "height": 111
        },
        "id": "3SuKZrTV7XXo",
        "outputId": "7de429f2-4fc0-4990-93f2-24a1718c3876"
      },
      "source": [
        "dataframe_seoul.merge(dataframe_gyeonggi, how='inner', on='기준')"
      ],
      "execution_count": 943,
      "outputs": [
        {
          "output_type": "execute_result",
          "data": {
            "text/html": [
              "<div>\n",
              "<style scoped>\n",
              "    .dataframe tbody tr th:only-of-type {\n",
              "        vertical-align: middle;\n",
              "    }\n",
              "\n",
              "    .dataframe tbody tr th {\n",
              "        vertical-align: top;\n",
              "    }\n",
              "\n",
              "    .dataframe thead th {\n",
              "        text-align: right;\n",
              "    }\n",
              "</style>\n",
              "<table border=\"1\" class=\"dataframe\">\n",
              "  <thead>\n",
              "    <tr style=\"text-align: right;\">\n",
              "      <th></th>\n",
              "      <th>기준</th>\n",
              "      <th>서울</th>\n",
              "      <th>경기</th>\n",
              "    </tr>\n",
              "  </thead>\n",
              "  <tbody>\n",
              "    <tr>\n",
              "      <th>0</th>\n",
              "      <td>사과</td>\n",
              "      <td>1</td>\n",
              "      <td>7</td>\n",
              "    </tr>\n",
              "    <tr>\n",
              "      <th>1</th>\n",
              "      <td>포도</td>\n",
              "      <td>2</td>\n",
              "      <td>8</td>\n",
              "    </tr>\n",
              "  </tbody>\n",
              "</table>\n",
              "</div>"
            ],
            "text/plain": [
              "   기준  서울  경기\n",
              "0  사과   1   7\n",
              "1  포도   2   8"
            ]
          },
          "metadata": {},
          "execution_count": 943
        }
      ]
    },
    {
      "cell_type": "markdown",
      "metadata": {
        "id": "RvIRuo9O7jXy"
      },
      "source": [
        "`outer`를 전달하겠습니다. 두 데이터프레임의 '기준' 값을 모두 합칩니다."
      ]
    },
    {
      "cell_type": "code",
      "metadata": {
        "colab": {
          "base_uri": "https://localhost:8080/",
          "height": 173
        },
        "id": "FL_J7MAW7uFd",
        "outputId": "a992aa10-3c3e-43e8-e539-db232fe78f3a"
      },
      "source": [
        "dataframe_sg = dataframe_seoul.merge(dataframe_gyeonggi, how='outer', on='기준')\n",
        "dataframe_sg"
      ],
      "execution_count": 944,
      "outputs": [
        {
          "output_type": "execute_result",
          "data": {
            "text/html": [
              "<div>\n",
              "<style scoped>\n",
              "    .dataframe tbody tr th:only-of-type {\n",
              "        vertical-align: middle;\n",
              "    }\n",
              "\n",
              "    .dataframe tbody tr th {\n",
              "        vertical-align: top;\n",
              "    }\n",
              "\n",
              "    .dataframe thead th {\n",
              "        text-align: right;\n",
              "    }\n",
              "</style>\n",
              "<table border=\"1\" class=\"dataframe\">\n",
              "  <thead>\n",
              "    <tr style=\"text-align: right;\">\n",
              "      <th></th>\n",
              "      <th>기준</th>\n",
              "      <th>서울</th>\n",
              "      <th>경기</th>\n",
              "    </tr>\n",
              "  </thead>\n",
              "  <tbody>\n",
              "    <tr>\n",
              "      <th>0</th>\n",
              "      <td>사과</td>\n",
              "      <td>1.0</td>\n",
              "      <td>7.0</td>\n",
              "    </tr>\n",
              "    <tr>\n",
              "      <th>1</th>\n",
              "      <td>포도</td>\n",
              "      <td>2.0</td>\n",
              "      <td>8.0</td>\n",
              "    </tr>\n",
              "    <tr>\n",
              "      <th>2</th>\n",
              "      <td>오이</td>\n",
              "      <td>3.0</td>\n",
              "      <td>NaN</td>\n",
              "    </tr>\n",
              "    <tr>\n",
              "      <th>3</th>\n",
              "      <td>가지</td>\n",
              "      <td>NaN</td>\n",
              "      <td>9.0</td>\n",
              "    </tr>\n",
              "  </tbody>\n",
              "</table>\n",
              "</div>"
            ],
            "text/plain": [
              "   기준   서울   경기\n",
              "0  사과  1.0  7.0\n",
              "1  포도  2.0  8.0\n",
              "2  오이  3.0  NaN\n",
              "3  가지  NaN  9.0"
            ]
          },
          "metadata": {},
          "execution_count": 944
        }
      ]
    },
    {
      "cell_type": "markdown",
      "metadata": {
        "id": "EZt0jqH22o-c"
      },
      "source": [
        "## **2.6. 데이터 변경하기**"
      ]
    },
    {
      "cell_type": "markdown",
      "metadata": {
        "id": "vEMyblis2nmZ"
      },
      "source": [
        "`rename()` 메서드를 사용하면 인덱스나 열명을 바꿀 수 있습니다. 다만 기존 데이터프레임 객체를 완전히 바꾸는 것은 아닙니다. 기존 데이터프레임 객체를 완전히 바꾸려면 매개변수 `inplace`에 `True`를 인자로 전달합니다. 매개변수 `inplace`를 지정하지 않고 변경된 데이터프레임을 새로운 객체에 전달하는 방법도 있습니다.\n",
        "\n",
        "먼저 위에서 사용한 데이터프레임 `dataframe3` 을 다시 부르겠습니다."
      ]
    },
    {
      "cell_type": "code",
      "metadata": {
        "colab": {
          "base_uri": "https://localhost:8080/",
          "height": 204
        },
        "id": "QZJJH3tj5zI-",
        "outputId": "572061e4-b922-4140-ddbb-1d687d76569f"
      },
      "source": [
        "dic_data4 = {'사과': [332, 392, 391, 295, 374],\n",
        "             '배': [102, 99, 80, 30, 143],\n",
        "             '포도': [402, 497, 306, 681, 573]}\n",
        "col_list1 = ['포도', '사과', '배']\n",
        "index2 = ['4월', '5월', '6월', '7월', '8월']\n",
        "\n",
        "dataframe3 = pd.DataFrame(dic_data4, columns=col_list1, index=index2)\n",
        "dataframe3"
      ],
      "execution_count": 945,
      "outputs": [
        {
          "output_type": "execute_result",
          "data": {
            "text/html": [
              "<div>\n",
              "<style scoped>\n",
              "    .dataframe tbody tr th:only-of-type {\n",
              "        vertical-align: middle;\n",
              "    }\n",
              "\n",
              "    .dataframe tbody tr th {\n",
              "        vertical-align: top;\n",
              "    }\n",
              "\n",
              "    .dataframe thead th {\n",
              "        text-align: right;\n",
              "    }\n",
              "</style>\n",
              "<table border=\"1\" class=\"dataframe\">\n",
              "  <thead>\n",
              "    <tr style=\"text-align: right;\">\n",
              "      <th></th>\n",
              "      <th>포도</th>\n",
              "      <th>사과</th>\n",
              "      <th>배</th>\n",
              "    </tr>\n",
              "  </thead>\n",
              "  <tbody>\n",
              "    <tr>\n",
              "      <th>4월</th>\n",
              "      <td>402</td>\n",
              "      <td>332</td>\n",
              "      <td>102</td>\n",
              "    </tr>\n",
              "    <tr>\n",
              "      <th>5월</th>\n",
              "      <td>497</td>\n",
              "      <td>392</td>\n",
              "      <td>99</td>\n",
              "    </tr>\n",
              "    <tr>\n",
              "      <th>6월</th>\n",
              "      <td>306</td>\n",
              "      <td>391</td>\n",
              "      <td>80</td>\n",
              "    </tr>\n",
              "    <tr>\n",
              "      <th>7월</th>\n",
              "      <td>681</td>\n",
              "      <td>295</td>\n",
              "      <td>30</td>\n",
              "    </tr>\n",
              "    <tr>\n",
              "      <th>8월</th>\n",
              "      <td>573</td>\n",
              "      <td>374</td>\n",
              "      <td>143</td>\n",
              "    </tr>\n",
              "  </tbody>\n",
              "</table>\n",
              "</div>"
            ],
            "text/plain": [
              "     포도   사과    배\n",
              "4월  402  332  102\n",
              "5월  497  392   99\n",
              "6월  306  391   80\n",
              "7월  681  295   30\n",
              "8월  573  374  143"
            ]
          },
          "metadata": {},
          "execution_count": 945
        }
      ]
    },
    {
      "cell_type": "markdown",
      "metadata": {
        "id": "g_zDc7e44cq3"
      },
      "source": [
        "`rename()` 메서드를 사용해서 인덱스 값을 바꾸겠습니다."
      ]
    },
    {
      "cell_type": "code",
      "metadata": {
        "colab": {
          "base_uri": "https://localhost:8080/",
          "height": 204
        },
        "id": "YDUWGypP6-RF",
        "outputId": "b65a388a-9df2-4b72-d041-73aa413e4b1e"
      },
      "source": [
        "dataframe3.rename(index={'4월':'사월', '5월':'오월'})"
      ],
      "execution_count": 946,
      "outputs": [
        {
          "output_type": "execute_result",
          "data": {
            "text/html": [
              "<div>\n",
              "<style scoped>\n",
              "    .dataframe tbody tr th:only-of-type {\n",
              "        vertical-align: middle;\n",
              "    }\n",
              "\n",
              "    .dataframe tbody tr th {\n",
              "        vertical-align: top;\n",
              "    }\n",
              "\n",
              "    .dataframe thead th {\n",
              "        text-align: right;\n",
              "    }\n",
              "</style>\n",
              "<table border=\"1\" class=\"dataframe\">\n",
              "  <thead>\n",
              "    <tr style=\"text-align: right;\">\n",
              "      <th></th>\n",
              "      <th>포도</th>\n",
              "      <th>사과</th>\n",
              "      <th>배</th>\n",
              "    </tr>\n",
              "  </thead>\n",
              "  <tbody>\n",
              "    <tr>\n",
              "      <th>사월</th>\n",
              "      <td>402</td>\n",
              "      <td>332</td>\n",
              "      <td>102</td>\n",
              "    </tr>\n",
              "    <tr>\n",
              "      <th>오월</th>\n",
              "      <td>497</td>\n",
              "      <td>392</td>\n",
              "      <td>99</td>\n",
              "    </tr>\n",
              "    <tr>\n",
              "      <th>6월</th>\n",
              "      <td>306</td>\n",
              "      <td>391</td>\n",
              "      <td>80</td>\n",
              "    </tr>\n",
              "    <tr>\n",
              "      <th>7월</th>\n",
              "      <td>681</td>\n",
              "      <td>295</td>\n",
              "      <td>30</td>\n",
              "    </tr>\n",
              "    <tr>\n",
              "      <th>8월</th>\n",
              "      <td>573</td>\n",
              "      <td>374</td>\n",
              "      <td>143</td>\n",
              "    </tr>\n",
              "  </tbody>\n",
              "</table>\n",
              "</div>"
            ],
            "text/plain": [
              "     포도   사과    배\n",
              "사월  402  332  102\n",
              "오월  497  392   99\n",
              "6월  306  391   80\n",
              "7월  681  295   30\n",
              "8월  573  374  143"
            ]
          },
          "metadata": {},
          "execution_count": 946
        }
      ]
    },
    {
      "cell_type": "markdown",
      "metadata": {
        "id": "MgcR1XfN7iNp"
      },
      "source": [
        "열명도 바꾸겠습니다. 위에서 인덱스 값을 바꾼 뒤에 `inplace=True`로 매개변수를 지정하지 않았으므로 데이터프레임 자체의 인덱스 값은 바뀌지 않았습니다. 이번에는 매개변수로 지정해서 데이터프레임 자체를 열명이 바뀐 상태로 완전히 바꾸겠습니다."
      ]
    },
    {
      "cell_type": "code",
      "metadata": {
        "colab": {
          "base_uri": "https://localhost:8080/",
          "height": 204
        },
        "id": "7zlJyJnR7lLv",
        "outputId": "faf28a17-25c4-45ed-e6ed-c150c5581598"
      },
      "source": [
        "dataframe3.rename(columns={'포도':'청포도', '사과':'밤'}, inplace=True)\n",
        "dataframe3"
      ],
      "execution_count": 947,
      "outputs": [
        {
          "output_type": "execute_result",
          "data": {
            "text/html": [
              "<div>\n",
              "<style scoped>\n",
              "    .dataframe tbody tr th:only-of-type {\n",
              "        vertical-align: middle;\n",
              "    }\n",
              "\n",
              "    .dataframe tbody tr th {\n",
              "        vertical-align: top;\n",
              "    }\n",
              "\n",
              "    .dataframe thead th {\n",
              "        text-align: right;\n",
              "    }\n",
              "</style>\n",
              "<table border=\"1\" class=\"dataframe\">\n",
              "  <thead>\n",
              "    <tr style=\"text-align: right;\">\n",
              "      <th></th>\n",
              "      <th>청포도</th>\n",
              "      <th>밤</th>\n",
              "      <th>배</th>\n",
              "    </tr>\n",
              "  </thead>\n",
              "  <tbody>\n",
              "    <tr>\n",
              "      <th>4월</th>\n",
              "      <td>402</td>\n",
              "      <td>332</td>\n",
              "      <td>102</td>\n",
              "    </tr>\n",
              "    <tr>\n",
              "      <th>5월</th>\n",
              "      <td>497</td>\n",
              "      <td>392</td>\n",
              "      <td>99</td>\n",
              "    </tr>\n",
              "    <tr>\n",
              "      <th>6월</th>\n",
              "      <td>306</td>\n",
              "      <td>391</td>\n",
              "      <td>80</td>\n",
              "    </tr>\n",
              "    <tr>\n",
              "      <th>7월</th>\n",
              "      <td>681</td>\n",
              "      <td>295</td>\n",
              "      <td>30</td>\n",
              "    </tr>\n",
              "    <tr>\n",
              "      <th>8월</th>\n",
              "      <td>573</td>\n",
              "      <td>374</td>\n",
              "      <td>143</td>\n",
              "    </tr>\n",
              "  </tbody>\n",
              "</table>\n",
              "</div>"
            ],
            "text/plain": [
              "    청포도    밤    배\n",
              "4월  402  332  102\n",
              "5월  497  392   99\n",
              "6월  306  391   80\n",
              "7월  681  295   30\n",
              "8월  573  374  143"
            ]
          },
          "metadata": {},
          "execution_count": 947
        }
      ]
    },
    {
      "cell_type": "markdown",
      "metadata": {
        "id": "ax9FFPynDJEr"
      },
      "source": [
        "`sorted()` 메서드를 사용해서 열명을 오름차순으로 정렬하겠습니다. 먼저 열명을 리스트로 만들고 객체에 전달합니다. 그리고 그 객체에 메서드를 적용합니다."
      ]
    },
    {
      "cell_type": "code",
      "metadata": {
        "colab": {
          "base_uri": "https://localhost:8080/"
        },
        "id": "Pq7i1sz5DQ43",
        "outputId": "0265e267-a78b-4006-bfeb-ea49d17a9747"
      },
      "source": [
        "dataframe3_col = list(dataframe3.columns.values)\n",
        "sorted_dataframe3_col = sorted(dataframe3_col)\n",
        "sorted_dataframe3_col"
      ],
      "execution_count": 948,
      "outputs": [
        {
          "output_type": "execute_result",
          "data": {
            "text/plain": [
              "['밤', '배', '청포도']"
            ]
          },
          "metadata": {},
          "execution_count": 948
        }
      ]
    },
    {
      "cell_type": "markdown",
      "metadata": {
        "id": "p3ZfrsfIFHNx"
      },
      "source": [
        "정렬된 열명 리스트를 데이터프레임에 그대로 전달합니다."
      ]
    },
    {
      "cell_type": "code",
      "metadata": {
        "colab": {
          "base_uri": "https://localhost:8080/",
          "height": 204
        },
        "id": "WO6KQStPELoS",
        "outputId": "7e3a676a-efd1-4af8-d5de-65a5a3e2ac04"
      },
      "source": [
        "dataframe3[sorted_dataframe3_col]"
      ],
      "execution_count": 949,
      "outputs": [
        {
          "output_type": "execute_result",
          "data": {
            "text/html": [
              "<div>\n",
              "<style scoped>\n",
              "    .dataframe tbody tr th:only-of-type {\n",
              "        vertical-align: middle;\n",
              "    }\n",
              "\n",
              "    .dataframe tbody tr th {\n",
              "        vertical-align: top;\n",
              "    }\n",
              "\n",
              "    .dataframe thead th {\n",
              "        text-align: right;\n",
              "    }\n",
              "</style>\n",
              "<table border=\"1\" class=\"dataframe\">\n",
              "  <thead>\n",
              "    <tr style=\"text-align: right;\">\n",
              "      <th></th>\n",
              "      <th>밤</th>\n",
              "      <th>배</th>\n",
              "      <th>청포도</th>\n",
              "    </tr>\n",
              "  </thead>\n",
              "  <tbody>\n",
              "    <tr>\n",
              "      <th>4월</th>\n",
              "      <td>332</td>\n",
              "      <td>102</td>\n",
              "      <td>402</td>\n",
              "    </tr>\n",
              "    <tr>\n",
              "      <th>5월</th>\n",
              "      <td>392</td>\n",
              "      <td>99</td>\n",
              "      <td>497</td>\n",
              "    </tr>\n",
              "    <tr>\n",
              "      <th>6월</th>\n",
              "      <td>391</td>\n",
              "      <td>80</td>\n",
              "      <td>306</td>\n",
              "    </tr>\n",
              "    <tr>\n",
              "      <th>7월</th>\n",
              "      <td>295</td>\n",
              "      <td>30</td>\n",
              "      <td>681</td>\n",
              "    </tr>\n",
              "    <tr>\n",
              "      <th>8월</th>\n",
              "      <td>374</td>\n",
              "      <td>143</td>\n",
              "      <td>573</td>\n",
              "    </tr>\n",
              "  </tbody>\n",
              "</table>\n",
              "</div>"
            ],
            "text/plain": [
              "      밤    배  청포도\n",
              "4월  332  102  402\n",
              "5월  392   99  497\n",
              "6월  391   80  306\n",
              "7월  295   30  681\n",
              "8월  374  143  573"
            ]
          },
          "metadata": {},
          "execution_count": 949
        }
      ]
    },
    {
      "cell_type": "markdown",
      "metadata": {
        "id": "x1HDnTlnFWii"
      },
      "source": [
        "`reversed()` 메서드는 리스트 내의 원소 순서를 역순으로 바꿉니다. 이번에는 객체를 생성하지 않고 데이터프레임에 그대로 전달하겠습니다."
      ]
    },
    {
      "cell_type": "code",
      "metadata": {
        "colab": {
          "base_uri": "https://localhost:8080/",
          "height": 204
        },
        "id": "88QWRXVnGAOw",
        "outputId": "d8c728a1-c748-49c8-b46b-9439bb059964"
      },
      "source": [
        "dataframe3[reversed(dataframe3_col)]"
      ],
      "execution_count": 950,
      "outputs": [
        {
          "output_type": "execute_result",
          "data": {
            "text/html": [
              "<div>\n",
              "<style scoped>\n",
              "    .dataframe tbody tr th:only-of-type {\n",
              "        vertical-align: middle;\n",
              "    }\n",
              "\n",
              "    .dataframe tbody tr th {\n",
              "        vertical-align: top;\n",
              "    }\n",
              "\n",
              "    .dataframe thead th {\n",
              "        text-align: right;\n",
              "    }\n",
              "</style>\n",
              "<table border=\"1\" class=\"dataframe\">\n",
              "  <thead>\n",
              "    <tr style=\"text-align: right;\">\n",
              "      <th></th>\n",
              "      <th>배</th>\n",
              "      <th>밤</th>\n",
              "      <th>청포도</th>\n",
              "    </tr>\n",
              "  </thead>\n",
              "  <tbody>\n",
              "    <tr>\n",
              "      <th>4월</th>\n",
              "      <td>102</td>\n",
              "      <td>332</td>\n",
              "      <td>402</td>\n",
              "    </tr>\n",
              "    <tr>\n",
              "      <th>5월</th>\n",
              "      <td>99</td>\n",
              "      <td>392</td>\n",
              "      <td>497</td>\n",
              "    </tr>\n",
              "    <tr>\n",
              "      <th>6월</th>\n",
              "      <td>80</td>\n",
              "      <td>391</td>\n",
              "      <td>306</td>\n",
              "    </tr>\n",
              "    <tr>\n",
              "      <th>7월</th>\n",
              "      <td>30</td>\n",
              "      <td>295</td>\n",
              "      <td>681</td>\n",
              "    </tr>\n",
              "    <tr>\n",
              "      <th>8월</th>\n",
              "      <td>143</td>\n",
              "      <td>374</td>\n",
              "      <td>573</td>\n",
              "    </tr>\n",
              "  </tbody>\n",
              "</table>\n",
              "</div>"
            ],
            "text/plain": [
              "      배    밤  청포도\n",
              "4월  102  332  402\n",
              "5월   99  392  497\n",
              "6월   80  391  306\n",
              "7월   30  295  681\n",
              "8월  143  374  573"
            ]
          },
          "metadata": {},
          "execution_count": 950
        }
      ]
    },
    {
      "cell_type": "markdown",
      "metadata": {
        "id": "bMChlOlyG8Vr"
      },
      "source": [
        "열 순서를 임의로 지정할 수 있습니다. 원하는 열명을 임의의 순서로 나열하면 됩니다."
      ]
    },
    {
      "cell_type": "code",
      "metadata": {
        "colab": {
          "base_uri": "https://localhost:8080/",
          "height": 204
        },
        "id": "918sL8MiHF2g",
        "outputId": "874865c0-6964-4aa2-b0ba-4d01b75b81e9"
      },
      "source": [
        "dataframe3[['밤', '청포도', '배']]"
      ],
      "execution_count": 951,
      "outputs": [
        {
          "output_type": "execute_result",
          "data": {
            "text/html": [
              "<div>\n",
              "<style scoped>\n",
              "    .dataframe tbody tr th:only-of-type {\n",
              "        vertical-align: middle;\n",
              "    }\n",
              "\n",
              "    .dataframe tbody tr th {\n",
              "        vertical-align: top;\n",
              "    }\n",
              "\n",
              "    .dataframe thead th {\n",
              "        text-align: right;\n",
              "    }\n",
              "</style>\n",
              "<table border=\"1\" class=\"dataframe\">\n",
              "  <thead>\n",
              "    <tr style=\"text-align: right;\">\n",
              "      <th></th>\n",
              "      <th>밤</th>\n",
              "      <th>청포도</th>\n",
              "      <th>배</th>\n",
              "    </tr>\n",
              "  </thead>\n",
              "  <tbody>\n",
              "    <tr>\n",
              "      <th>4월</th>\n",
              "      <td>332</td>\n",
              "      <td>402</td>\n",
              "      <td>102</td>\n",
              "    </tr>\n",
              "    <tr>\n",
              "      <th>5월</th>\n",
              "      <td>392</td>\n",
              "      <td>497</td>\n",
              "      <td>99</td>\n",
              "    </tr>\n",
              "    <tr>\n",
              "      <th>6월</th>\n",
              "      <td>391</td>\n",
              "      <td>306</td>\n",
              "      <td>80</td>\n",
              "    </tr>\n",
              "    <tr>\n",
              "      <th>7월</th>\n",
              "      <td>295</td>\n",
              "      <td>681</td>\n",
              "      <td>30</td>\n",
              "    </tr>\n",
              "    <tr>\n",
              "      <th>8월</th>\n",
              "      <td>374</td>\n",
              "      <td>573</td>\n",
              "      <td>143</td>\n",
              "    </tr>\n",
              "  </tbody>\n",
              "</table>\n",
              "</div>"
            ],
            "text/plain": [
              "      밤  청포도    배\n",
              "4월  332  402  102\n",
              "5월  392  497   99\n",
              "6월  391  306   80\n",
              "7월  295  681   30\n",
              "8월  374  573  143"
            ]
          },
          "metadata": {},
          "execution_count": 951
        }
      ]
    },
    {
      "cell_type": "markdown",
      "metadata": {
        "id": "JajKWuGoHtXA"
      },
      "source": [
        "이번에는 열을 분리하겠습니다. 먼저 새로운 데이터프레임을 만들겠습니다."
      ]
    },
    {
      "cell_type": "code",
      "metadata": {
        "colab": {
          "base_uri": "https://localhost:8080/",
          "height": 173
        },
        "id": "ks5etwuKKcOf",
        "outputId": "eb2963f1-5882-47de-bbf2-4bc3b7ae69ad"
      },
      "source": [
        "dic_data1 = {'입대일': ['2012-09-12', '2012-09-12', '2012-09-12', '2012-09-12'],\n",
        "            '군번': [20129948, 20129593, 20129302, 20129352],\n",
        "            '이름': ['이승민', '김대철', '장비호', '이진해'],\n",
        "            '보직': [20, 30, 10, 30]}\n",
        "dataframe_split_get = pd.DataFrame(dic_data1)\n",
        "dataframe_split_get"
      ],
      "execution_count": 952,
      "outputs": [
        {
          "output_type": "execute_result",
          "data": {
            "text/html": [
              "<div>\n",
              "<style scoped>\n",
              "    .dataframe tbody tr th:only-of-type {\n",
              "        vertical-align: middle;\n",
              "    }\n",
              "\n",
              "    .dataframe tbody tr th {\n",
              "        vertical-align: top;\n",
              "    }\n",
              "\n",
              "    .dataframe thead th {\n",
              "        text-align: right;\n",
              "    }\n",
              "</style>\n",
              "<table border=\"1\" class=\"dataframe\">\n",
              "  <thead>\n",
              "    <tr style=\"text-align: right;\">\n",
              "      <th></th>\n",
              "      <th>입대일</th>\n",
              "      <th>군번</th>\n",
              "      <th>이름</th>\n",
              "      <th>보직</th>\n",
              "    </tr>\n",
              "  </thead>\n",
              "  <tbody>\n",
              "    <tr>\n",
              "      <th>0</th>\n",
              "      <td>2012-09-12</td>\n",
              "      <td>20129948</td>\n",
              "      <td>이승민</td>\n",
              "      <td>20</td>\n",
              "    </tr>\n",
              "    <tr>\n",
              "      <th>1</th>\n",
              "      <td>2012-09-12</td>\n",
              "      <td>20129593</td>\n",
              "      <td>김대철</td>\n",
              "      <td>30</td>\n",
              "    </tr>\n",
              "    <tr>\n",
              "      <th>2</th>\n",
              "      <td>2012-09-12</td>\n",
              "      <td>20129302</td>\n",
              "      <td>장비호</td>\n",
              "      <td>10</td>\n",
              "    </tr>\n",
              "    <tr>\n",
              "      <th>3</th>\n",
              "      <td>2012-09-12</td>\n",
              "      <td>20129352</td>\n",
              "      <td>이진해</td>\n",
              "      <td>30</td>\n",
              "    </tr>\n",
              "  </tbody>\n",
              "</table>\n",
              "</div>"
            ],
            "text/plain": [
              "          입대일        군번   이름  보직\n",
              "0  2012-09-12  20129948  이승민  20\n",
              "1  2012-09-12  20129593  김대철  30\n",
              "2  2012-09-12  20129302  장비호  10\n",
              "3  2012-09-12  20129352  이진해  30"
            ]
          },
          "metadata": {},
          "execution_count": 952
        }
      ]
    },
    {
      "cell_type": "markdown",
      "metadata": {
        "id": "SlbHdzGxKwde"
      },
      "source": [
        "'입대일' 열의 데이터를 '연', '월', '일' 열로 나누겠습니다. 먼저 '입대일' 열 값의 데이터 타입을 확인합니다."
      ]
    },
    {
      "cell_type": "code",
      "metadata": {
        "colab": {
          "base_uri": "https://localhost:8080/"
        },
        "id": "OSDvG7LfLstB",
        "outputId": "270bf6d7-3fc8-42ed-e074-f891e0bcf184"
      },
      "source": [
        "dataframe_split_get.dtypes"
      ],
      "execution_count": 953,
      "outputs": [
        {
          "output_type": "execute_result",
          "data": {
            "text/plain": [
              "입대일    object\n",
              "군번      int64\n",
              "이름     object\n",
              "보직      int64\n",
              "dtype: object"
            ]
          },
          "metadata": {},
          "execution_count": 953
        }
      ]
    },
    {
      "cell_type": "markdown",
      "metadata": {
        "id": "Eu5cG0OyMw1E"
      },
      "source": [
        "일반 문자열 타입입니다. 날짜형이라는 전제를 두고 '입대일' 열의 값을 문자열 타입으로 변경하는 코드를 작성하겠습니다."
      ]
    },
    {
      "cell_type": "code",
      "metadata": {
        "id": "wEQNXC5sMQKQ"
      },
      "source": [
        "dataframe_split_get['입대일'] = dataframe_split_get['입대일'].astype('str')"
      ],
      "execution_count": 954,
      "outputs": []
    },
    {
      "cell_type": "markdown",
      "metadata": {
        "id": "onedmS-PM3Dv"
      },
      "source": [
        "문자열 타입으로 변경한 '입대일' 열의 값을 `split()` 메서드로 연, 월, 일로 나누겠습니다."
      ]
    },
    {
      "cell_type": "code",
      "metadata": {
        "colab": {
          "base_uri": "https://localhost:8080/"
        },
        "id": "R_9WHIu_Nzmw",
        "outputId": "49331e3d-737a-4c78-f380-46f07e7dc23c"
      },
      "source": [
        "dates = dataframe_split_get['입대일'].str.split('-')\n",
        "dates"
      ],
      "execution_count": 955,
      "outputs": [
        {
          "output_type": "execute_result",
          "data": {
            "text/plain": [
              "0    [2012, 09, 12]\n",
              "1    [2012, 09, 12]\n",
              "2    [2012, 09, 12]\n",
              "3    [2012, 09, 12]\n",
              "Name: 입대일, dtype: object"
            ]
          },
          "metadata": {},
          "execution_count": 955
        }
      ]
    },
    {
      "cell_type": "markdown",
      "metadata": {
        "id": "jeIeV9K7OAvM"
      },
      "source": [
        "'연', '월', '일' 열을 새로 만들고 분리된 데이터를 추가하겠습니다. `get()` 메서드를 사용해서 값을 전달하겠습니다. 인자로는 리스트 인덱스를 지정합니다."
      ]
    },
    {
      "cell_type": "code",
      "metadata": {
        "colab": {
          "base_uri": "https://localhost:8080/",
          "height": 173
        },
        "id": "hwjDMjUWORns",
        "outputId": "61f97223-92a5-4cba-d871-a7ab40d97595"
      },
      "source": [
        "dataframe_split_get['연'] = dates.str.get(0)\n",
        "dataframe_split_get['월'] = dates.str.get(1)\n",
        "dataframe_split_get['일'] = dates.str.get(2)\n",
        "dataframe_split_get"
      ],
      "execution_count": 956,
      "outputs": [
        {
          "output_type": "execute_result",
          "data": {
            "text/html": [
              "<div>\n",
              "<style scoped>\n",
              "    .dataframe tbody tr th:only-of-type {\n",
              "        vertical-align: middle;\n",
              "    }\n",
              "\n",
              "    .dataframe tbody tr th {\n",
              "        vertical-align: top;\n",
              "    }\n",
              "\n",
              "    .dataframe thead th {\n",
              "        text-align: right;\n",
              "    }\n",
              "</style>\n",
              "<table border=\"1\" class=\"dataframe\">\n",
              "  <thead>\n",
              "    <tr style=\"text-align: right;\">\n",
              "      <th></th>\n",
              "      <th>입대일</th>\n",
              "      <th>군번</th>\n",
              "      <th>이름</th>\n",
              "      <th>보직</th>\n",
              "      <th>연</th>\n",
              "      <th>월</th>\n",
              "      <th>일</th>\n",
              "    </tr>\n",
              "  </thead>\n",
              "  <tbody>\n",
              "    <tr>\n",
              "      <th>0</th>\n",
              "      <td>2012-09-12</td>\n",
              "      <td>20129948</td>\n",
              "      <td>이승민</td>\n",
              "      <td>20</td>\n",
              "      <td>2012</td>\n",
              "      <td>09</td>\n",
              "      <td>12</td>\n",
              "    </tr>\n",
              "    <tr>\n",
              "      <th>1</th>\n",
              "      <td>2012-09-12</td>\n",
              "      <td>20129593</td>\n",
              "      <td>김대철</td>\n",
              "      <td>30</td>\n",
              "      <td>2012</td>\n",
              "      <td>09</td>\n",
              "      <td>12</td>\n",
              "    </tr>\n",
              "    <tr>\n",
              "      <th>2</th>\n",
              "      <td>2012-09-12</td>\n",
              "      <td>20129302</td>\n",
              "      <td>장비호</td>\n",
              "      <td>10</td>\n",
              "      <td>2012</td>\n",
              "      <td>09</td>\n",
              "      <td>12</td>\n",
              "    </tr>\n",
              "    <tr>\n",
              "      <th>3</th>\n",
              "      <td>2012-09-12</td>\n",
              "      <td>20129352</td>\n",
              "      <td>이진해</td>\n",
              "      <td>30</td>\n",
              "      <td>2012</td>\n",
              "      <td>09</td>\n",
              "      <td>12</td>\n",
              "    </tr>\n",
              "  </tbody>\n",
              "</table>\n",
              "</div>"
            ],
            "text/plain": [
              "          입대일        군번   이름  보직     연   월   일\n",
              "0  2012-09-12  20129948  이승민  20  2012  09  12\n",
              "1  2012-09-12  20129593  김대철  30  2012  09  12\n",
              "2  2012-09-12  20129302  장비호  10  2012  09  12\n",
              "3  2012-09-12  20129352  이진해  30  2012  09  12"
            ]
          },
          "metadata": {},
          "execution_count": 956
        }
      ]
    },
    {
      "cell_type": "markdown",
      "metadata": {
        "id": "D1-vSs24-i1K"
      },
      "source": [
        "`drop()` 메서드를 사용하면 행과 열을 삭제할 수 있습니다. 매개변수 `axis`에 `0`을 지정하면(기본값이므로 지정하지 않아도 됩니다) 행을 삭제하고, `1`을 지정하면 열을 삭제합니다. `rename()` 메서드처럼 매개변수 `inplace`를 가지고 있으며 사용법은 동일합니다.\n",
        "\n",
        "`dataframe3` 데이터프레임으로 예시하겠습니다. 삭제 예시를 들기 위해 `dataframe3` 데이터프레임을 예시용 객체에 복제하겠습니다."
      ]
    },
    {
      "cell_type": "code",
      "metadata": {
        "colab": {
          "base_uri": "https://localhost:8080/",
          "height": 204
        },
        "id": "RnGr2lkl_IHW",
        "outputId": "b6aadde2-9b9f-44ac-a883-41626c9932a0"
      },
      "source": [
        "# `dataframe3.copy()` 형식으로도 복제할 수 있습니다.\n",
        "dataframe_drop = dataframe3[:]\n",
        "dataframe_drop"
      ],
      "execution_count": 957,
      "outputs": [
        {
          "output_type": "execute_result",
          "data": {
            "text/html": [
              "<div>\n",
              "<style scoped>\n",
              "    .dataframe tbody tr th:only-of-type {\n",
              "        vertical-align: middle;\n",
              "    }\n",
              "\n",
              "    .dataframe tbody tr th {\n",
              "        vertical-align: top;\n",
              "    }\n",
              "\n",
              "    .dataframe thead th {\n",
              "        text-align: right;\n",
              "    }\n",
              "</style>\n",
              "<table border=\"1\" class=\"dataframe\">\n",
              "  <thead>\n",
              "    <tr style=\"text-align: right;\">\n",
              "      <th></th>\n",
              "      <th>청포도</th>\n",
              "      <th>밤</th>\n",
              "      <th>배</th>\n",
              "    </tr>\n",
              "  </thead>\n",
              "  <tbody>\n",
              "    <tr>\n",
              "      <th>4월</th>\n",
              "      <td>402</td>\n",
              "      <td>332</td>\n",
              "      <td>102</td>\n",
              "    </tr>\n",
              "    <tr>\n",
              "      <th>5월</th>\n",
              "      <td>497</td>\n",
              "      <td>392</td>\n",
              "      <td>99</td>\n",
              "    </tr>\n",
              "    <tr>\n",
              "      <th>6월</th>\n",
              "      <td>306</td>\n",
              "      <td>391</td>\n",
              "      <td>80</td>\n",
              "    </tr>\n",
              "    <tr>\n",
              "      <th>7월</th>\n",
              "      <td>681</td>\n",
              "      <td>295</td>\n",
              "      <td>30</td>\n",
              "    </tr>\n",
              "    <tr>\n",
              "      <th>8월</th>\n",
              "      <td>573</td>\n",
              "      <td>374</td>\n",
              "      <td>143</td>\n",
              "    </tr>\n",
              "  </tbody>\n",
              "</table>\n",
              "</div>"
            ],
            "text/plain": [
              "    청포도    밤    배\n",
              "4월  402  332  102\n",
              "5월  497  392   99\n",
              "6월  306  391   80\n",
              "7월  681  295   30\n",
              "8월  573  374  143"
            ]
          },
          "metadata": {},
          "execution_count": 957
        }
      ]
    },
    {
      "cell_type": "markdown",
      "metadata": {
        "id": "yMe601H7CrHQ"
      },
      "source": [
        "'4월' 행을 삭제하겠습니다."
      ]
    },
    {
      "cell_type": "code",
      "metadata": {
        "colab": {
          "base_uri": "https://localhost:8080/",
          "height": 173
        },
        "id": "OSCwUeB2Cirl",
        "outputId": "abb94859-7803-47c4-f487-619117984169"
      },
      "source": [
        "dataframe_drop.drop('4월')"
      ],
      "execution_count": 958,
      "outputs": [
        {
          "output_type": "execute_result",
          "data": {
            "text/html": [
              "<div>\n",
              "<style scoped>\n",
              "    .dataframe tbody tr th:only-of-type {\n",
              "        vertical-align: middle;\n",
              "    }\n",
              "\n",
              "    .dataframe tbody tr th {\n",
              "        vertical-align: top;\n",
              "    }\n",
              "\n",
              "    .dataframe thead th {\n",
              "        text-align: right;\n",
              "    }\n",
              "</style>\n",
              "<table border=\"1\" class=\"dataframe\">\n",
              "  <thead>\n",
              "    <tr style=\"text-align: right;\">\n",
              "      <th></th>\n",
              "      <th>청포도</th>\n",
              "      <th>밤</th>\n",
              "      <th>배</th>\n",
              "    </tr>\n",
              "  </thead>\n",
              "  <tbody>\n",
              "    <tr>\n",
              "      <th>5월</th>\n",
              "      <td>497</td>\n",
              "      <td>392</td>\n",
              "      <td>99</td>\n",
              "    </tr>\n",
              "    <tr>\n",
              "      <th>6월</th>\n",
              "      <td>306</td>\n",
              "      <td>391</td>\n",
              "      <td>80</td>\n",
              "    </tr>\n",
              "    <tr>\n",
              "      <th>7월</th>\n",
              "      <td>681</td>\n",
              "      <td>295</td>\n",
              "      <td>30</td>\n",
              "    </tr>\n",
              "    <tr>\n",
              "      <th>8월</th>\n",
              "      <td>573</td>\n",
              "      <td>374</td>\n",
              "      <td>143</td>\n",
              "    </tr>\n",
              "  </tbody>\n",
              "</table>\n",
              "</div>"
            ],
            "text/plain": [
              "    청포도    밤    배\n",
              "5월  497  392   99\n",
              "6월  306  391   80\n",
              "7월  681  295   30\n",
              "8월  573  374  143"
            ]
          },
          "metadata": {},
          "execution_count": 958
        }
      ]
    },
    {
      "cell_type": "markdown",
      "metadata": {
        "id": "wNdahHdxDeub"
      },
      "source": [
        "'4월' 행과 '8월' 행을 삭제하겠습니다. 다수 원소는 리스트로 묶습니다."
      ]
    },
    {
      "cell_type": "code",
      "metadata": {
        "colab": {
          "base_uri": "https://localhost:8080/",
          "height": 142
        },
        "id": "Y_MAkTi4DgGP",
        "outputId": "c6cd5da0-f832-4b2b-cc50-2539bfe7b69a"
      },
      "source": [
        "dataframe_drop.drop(['4월', '8월'])"
      ],
      "execution_count": 959,
      "outputs": [
        {
          "output_type": "execute_result",
          "data": {
            "text/html": [
              "<div>\n",
              "<style scoped>\n",
              "    .dataframe tbody tr th:only-of-type {\n",
              "        vertical-align: middle;\n",
              "    }\n",
              "\n",
              "    .dataframe tbody tr th {\n",
              "        vertical-align: top;\n",
              "    }\n",
              "\n",
              "    .dataframe thead th {\n",
              "        text-align: right;\n",
              "    }\n",
              "</style>\n",
              "<table border=\"1\" class=\"dataframe\">\n",
              "  <thead>\n",
              "    <tr style=\"text-align: right;\">\n",
              "      <th></th>\n",
              "      <th>청포도</th>\n",
              "      <th>밤</th>\n",
              "      <th>배</th>\n",
              "    </tr>\n",
              "  </thead>\n",
              "  <tbody>\n",
              "    <tr>\n",
              "      <th>5월</th>\n",
              "      <td>497</td>\n",
              "      <td>392</td>\n",
              "      <td>99</td>\n",
              "    </tr>\n",
              "    <tr>\n",
              "      <th>6월</th>\n",
              "      <td>306</td>\n",
              "      <td>391</td>\n",
              "      <td>80</td>\n",
              "    </tr>\n",
              "    <tr>\n",
              "      <th>7월</th>\n",
              "      <td>681</td>\n",
              "      <td>295</td>\n",
              "      <td>30</td>\n",
              "    </tr>\n",
              "  </tbody>\n",
              "</table>\n",
              "</div>"
            ],
            "text/plain": [
              "    청포도    밤   배\n",
              "5월  497  392  99\n",
              "6월  306  391  80\n",
              "7월  681  295  30"
            ]
          },
          "metadata": {},
          "execution_count": 959
        }
      ]
    },
    {
      "cell_type": "markdown",
      "metadata": {
        "id": "5JQ1smelCwzD"
      },
      "source": [
        "'배' 열을 삭제하겠습니다. 열을 삭제하려면 `axis` 매개변수에 `1`을 전달합니다."
      ]
    },
    {
      "cell_type": "code",
      "metadata": {
        "colab": {
          "base_uri": "https://localhost:8080/",
          "height": 204
        },
        "id": "p-F61hTqC0MG",
        "outputId": "52aa36dd-4e33-4bf2-b268-7767a294e36b"
      },
      "source": [
        "dataframe_drop.drop('배', axis=1)"
      ],
      "execution_count": 960,
      "outputs": [
        {
          "output_type": "execute_result",
          "data": {
            "text/html": [
              "<div>\n",
              "<style scoped>\n",
              "    .dataframe tbody tr th:only-of-type {\n",
              "        vertical-align: middle;\n",
              "    }\n",
              "\n",
              "    .dataframe tbody tr th {\n",
              "        vertical-align: top;\n",
              "    }\n",
              "\n",
              "    .dataframe thead th {\n",
              "        text-align: right;\n",
              "    }\n",
              "</style>\n",
              "<table border=\"1\" class=\"dataframe\">\n",
              "  <thead>\n",
              "    <tr style=\"text-align: right;\">\n",
              "      <th></th>\n",
              "      <th>청포도</th>\n",
              "      <th>밤</th>\n",
              "    </tr>\n",
              "  </thead>\n",
              "  <tbody>\n",
              "    <tr>\n",
              "      <th>4월</th>\n",
              "      <td>402</td>\n",
              "      <td>332</td>\n",
              "    </tr>\n",
              "    <tr>\n",
              "      <th>5월</th>\n",
              "      <td>497</td>\n",
              "      <td>392</td>\n",
              "    </tr>\n",
              "    <tr>\n",
              "      <th>6월</th>\n",
              "      <td>306</td>\n",
              "      <td>391</td>\n",
              "    </tr>\n",
              "    <tr>\n",
              "      <th>7월</th>\n",
              "      <td>681</td>\n",
              "      <td>295</td>\n",
              "    </tr>\n",
              "    <tr>\n",
              "      <th>8월</th>\n",
              "      <td>573</td>\n",
              "      <td>374</td>\n",
              "    </tr>\n",
              "  </tbody>\n",
              "</table>\n",
              "</div>"
            ],
            "text/plain": [
              "    청포도    밤\n",
              "4월  402  332\n",
              "5월  497  392\n",
              "6월  306  391\n",
              "7월  681  295\n",
              "8월  573  374"
            ]
          },
          "metadata": {},
          "execution_count": 960
        }
      ]
    },
    {
      "cell_type": "markdown",
      "metadata": {
        "id": "4PH5HPb2VhW_"
      },
      "source": [
        "행과 열을 바꾸려면(전치하려면) `T` 메서드나 `transpose()` 메서드를 사용합니다. 물론 영구적으로 바뀌지 않고 메서드를 사용할 때만 바뀝니다. 객체에 넘겨주면 전치된 데이터 프레임을 유지할 수 있습니다. `dataframe3`으로 예시하겠습니다."
      ]
    },
    {
      "cell_type": "code",
      "metadata": {
        "colab": {
          "base_uri": "https://localhost:8080/",
          "height": 204
        },
        "id": "68rSDc1RVjpr",
        "outputId": "d5d1b385-7842-4b59-d439-25819329f9f8"
      },
      "source": [
        "dataframe3"
      ],
      "execution_count": 961,
      "outputs": [
        {
          "output_type": "execute_result",
          "data": {
            "text/html": [
              "<div>\n",
              "<style scoped>\n",
              "    .dataframe tbody tr th:only-of-type {\n",
              "        vertical-align: middle;\n",
              "    }\n",
              "\n",
              "    .dataframe tbody tr th {\n",
              "        vertical-align: top;\n",
              "    }\n",
              "\n",
              "    .dataframe thead th {\n",
              "        text-align: right;\n",
              "    }\n",
              "</style>\n",
              "<table border=\"1\" class=\"dataframe\">\n",
              "  <thead>\n",
              "    <tr style=\"text-align: right;\">\n",
              "      <th></th>\n",
              "      <th>청포도</th>\n",
              "      <th>밤</th>\n",
              "      <th>배</th>\n",
              "    </tr>\n",
              "  </thead>\n",
              "  <tbody>\n",
              "    <tr>\n",
              "      <th>4월</th>\n",
              "      <td>402</td>\n",
              "      <td>332</td>\n",
              "      <td>102</td>\n",
              "    </tr>\n",
              "    <tr>\n",
              "      <th>5월</th>\n",
              "      <td>497</td>\n",
              "      <td>392</td>\n",
              "      <td>99</td>\n",
              "    </tr>\n",
              "    <tr>\n",
              "      <th>6월</th>\n",
              "      <td>306</td>\n",
              "      <td>391</td>\n",
              "      <td>80</td>\n",
              "    </tr>\n",
              "    <tr>\n",
              "      <th>7월</th>\n",
              "      <td>681</td>\n",
              "      <td>295</td>\n",
              "      <td>30</td>\n",
              "    </tr>\n",
              "    <tr>\n",
              "      <th>8월</th>\n",
              "      <td>573</td>\n",
              "      <td>374</td>\n",
              "      <td>143</td>\n",
              "    </tr>\n",
              "  </tbody>\n",
              "</table>\n",
              "</div>"
            ],
            "text/plain": [
              "    청포도    밤    배\n",
              "4월  402  332  102\n",
              "5월  497  392   99\n",
              "6월  306  391   80\n",
              "7월  681  295   30\n",
              "8월  573  374  143"
            ]
          },
          "metadata": {},
          "execution_count": 961
        }
      ]
    },
    {
      "cell_type": "code",
      "metadata": {
        "colab": {
          "base_uri": "https://localhost:8080/",
          "height": 142
        },
        "id": "_eXrzVPBVcQB",
        "outputId": "8a42d276-a2a2-4fa0-829d-7ca3bcf8adc3"
      },
      "source": [
        "dataframe3.T"
      ],
      "execution_count": 962,
      "outputs": [
        {
          "output_type": "execute_result",
          "data": {
            "text/html": [
              "<div>\n",
              "<style scoped>\n",
              "    .dataframe tbody tr th:only-of-type {\n",
              "        vertical-align: middle;\n",
              "    }\n",
              "\n",
              "    .dataframe tbody tr th {\n",
              "        vertical-align: top;\n",
              "    }\n",
              "\n",
              "    .dataframe thead th {\n",
              "        text-align: right;\n",
              "    }\n",
              "</style>\n",
              "<table border=\"1\" class=\"dataframe\">\n",
              "  <thead>\n",
              "    <tr style=\"text-align: right;\">\n",
              "      <th></th>\n",
              "      <th>4월</th>\n",
              "      <th>5월</th>\n",
              "      <th>6월</th>\n",
              "      <th>7월</th>\n",
              "      <th>8월</th>\n",
              "    </tr>\n",
              "  </thead>\n",
              "  <tbody>\n",
              "    <tr>\n",
              "      <th>청포도</th>\n",
              "      <td>402</td>\n",
              "      <td>497</td>\n",
              "      <td>306</td>\n",
              "      <td>681</td>\n",
              "      <td>573</td>\n",
              "    </tr>\n",
              "    <tr>\n",
              "      <th>밤</th>\n",
              "      <td>332</td>\n",
              "      <td>392</td>\n",
              "      <td>391</td>\n",
              "      <td>295</td>\n",
              "      <td>374</td>\n",
              "    </tr>\n",
              "    <tr>\n",
              "      <th>배</th>\n",
              "      <td>102</td>\n",
              "      <td>99</td>\n",
              "      <td>80</td>\n",
              "      <td>30</td>\n",
              "      <td>143</td>\n",
              "    </tr>\n",
              "  </tbody>\n",
              "</table>\n",
              "</div>"
            ],
            "text/plain": [
              "      4월   5월   6월   7월   8월\n",
              "청포도  402  497  306  681  573\n",
              "밤    332  392  391  295  374\n",
              "배    102   99   80   30  143"
            ]
          },
          "metadata": {},
          "execution_count": 962
        }
      ]
    },
    {
      "cell_type": "code",
      "metadata": {
        "colab": {
          "base_uri": "https://localhost:8080/",
          "height": 142
        },
        "id": "K74VCR57t7FU",
        "outputId": "1a68c209-3963-44f4-8c13-5b9f2e4dfc20"
      },
      "source": [
        "dataframe3.transpose()"
      ],
      "execution_count": 963,
      "outputs": [
        {
          "output_type": "execute_result",
          "data": {
            "text/html": [
              "<div>\n",
              "<style scoped>\n",
              "    .dataframe tbody tr th:only-of-type {\n",
              "        vertical-align: middle;\n",
              "    }\n",
              "\n",
              "    .dataframe tbody tr th {\n",
              "        vertical-align: top;\n",
              "    }\n",
              "\n",
              "    .dataframe thead th {\n",
              "        text-align: right;\n",
              "    }\n",
              "</style>\n",
              "<table border=\"1\" class=\"dataframe\">\n",
              "  <thead>\n",
              "    <tr style=\"text-align: right;\">\n",
              "      <th></th>\n",
              "      <th>4월</th>\n",
              "      <th>5월</th>\n",
              "      <th>6월</th>\n",
              "      <th>7월</th>\n",
              "      <th>8월</th>\n",
              "    </tr>\n",
              "  </thead>\n",
              "  <tbody>\n",
              "    <tr>\n",
              "      <th>청포도</th>\n",
              "      <td>402</td>\n",
              "      <td>497</td>\n",
              "      <td>306</td>\n",
              "      <td>681</td>\n",
              "      <td>573</td>\n",
              "    </tr>\n",
              "    <tr>\n",
              "      <th>밤</th>\n",
              "      <td>332</td>\n",
              "      <td>392</td>\n",
              "      <td>391</td>\n",
              "      <td>295</td>\n",
              "      <td>374</td>\n",
              "    </tr>\n",
              "    <tr>\n",
              "      <th>배</th>\n",
              "      <td>102</td>\n",
              "      <td>99</td>\n",
              "      <td>80</td>\n",
              "      <td>30</td>\n",
              "      <td>143</td>\n",
              "    </tr>\n",
              "  </tbody>\n",
              "</table>\n",
              "</div>"
            ],
            "text/plain": [
              "      4월   5월   6월   7월   8월\n",
              "청포도  402  497  306  681  573\n",
              "밤    332  392  391  295  374\n",
              "배    102   99   80   30  143"
            ]
          },
          "metadata": {},
          "execution_count": 963
        }
      ]
    },
    {
      "cell_type": "markdown",
      "metadata": {
        "id": "-Yz9PuWScOh8"
      },
      "source": [
        "이번에는 원소를 지정해서 값을 변경하겠습니다. 인덱싱과 슬라이싱 모두 사용할 수 있습니다. 먼저 `dataframe3` 데이터프레임을 복제한 객체를 만듭니다."
      ]
    },
    {
      "cell_type": "code",
      "metadata": {
        "colab": {
          "base_uri": "https://localhost:8080/",
          "height": 204
        },
        "id": "8tnGLS4ycYe_",
        "outputId": "587d951a-ec41-452e-835b-cffe26995009"
      },
      "source": [
        "dataframe3_trans = dataframe3[:]\n",
        "dataframe3_trans"
      ],
      "execution_count": 964,
      "outputs": [
        {
          "output_type": "execute_result",
          "data": {
            "text/html": [
              "<div>\n",
              "<style scoped>\n",
              "    .dataframe tbody tr th:only-of-type {\n",
              "        vertical-align: middle;\n",
              "    }\n",
              "\n",
              "    .dataframe tbody tr th {\n",
              "        vertical-align: top;\n",
              "    }\n",
              "\n",
              "    .dataframe thead th {\n",
              "        text-align: right;\n",
              "    }\n",
              "</style>\n",
              "<table border=\"1\" class=\"dataframe\">\n",
              "  <thead>\n",
              "    <tr style=\"text-align: right;\">\n",
              "      <th></th>\n",
              "      <th>청포도</th>\n",
              "      <th>밤</th>\n",
              "      <th>배</th>\n",
              "    </tr>\n",
              "  </thead>\n",
              "  <tbody>\n",
              "    <tr>\n",
              "      <th>4월</th>\n",
              "      <td>402</td>\n",
              "      <td>332</td>\n",
              "      <td>102</td>\n",
              "    </tr>\n",
              "    <tr>\n",
              "      <th>5월</th>\n",
              "      <td>497</td>\n",
              "      <td>392</td>\n",
              "      <td>99</td>\n",
              "    </tr>\n",
              "    <tr>\n",
              "      <th>6월</th>\n",
              "      <td>306</td>\n",
              "      <td>391</td>\n",
              "      <td>80</td>\n",
              "    </tr>\n",
              "    <tr>\n",
              "      <th>7월</th>\n",
              "      <td>681</td>\n",
              "      <td>295</td>\n",
              "      <td>30</td>\n",
              "    </tr>\n",
              "    <tr>\n",
              "      <th>8월</th>\n",
              "      <td>573</td>\n",
              "      <td>374</td>\n",
              "      <td>143</td>\n",
              "    </tr>\n",
              "  </tbody>\n",
              "</table>\n",
              "</div>"
            ],
            "text/plain": [
              "    청포도    밤    배\n",
              "4월  402  332  102\n",
              "5월  497  392   99\n",
              "6월  306  391   80\n",
              "7월  681  295   30\n",
              "8월  573  374  143"
            ]
          },
          "metadata": {},
          "execution_count": 964
        }
      ]
    },
    {
      "cell_type": "markdown",
      "metadata": {
        "id": "BCp3DuMaca6H"
      },
      "source": [
        "'4월' 행의 '청포도' 값을 바꾸겠습니다. 먼저 행부터 접근하겠습니다."
      ]
    },
    {
      "cell_type": "code",
      "metadata": {
        "colab": {
          "base_uri": "https://localhost:8080/",
          "height": 204
        },
        "id": "7tJ1pNmgcjd4",
        "outputId": "31d817f3-5ac8-4f8b-887b-401acbe35e2b"
      },
      "source": [
        "dataframe3_trans.loc['4월', '청포도'] = 1\n",
        "dataframe3_trans"
      ],
      "execution_count": 965,
      "outputs": [
        {
          "output_type": "execute_result",
          "data": {
            "text/html": [
              "<div>\n",
              "<style scoped>\n",
              "    .dataframe tbody tr th:only-of-type {\n",
              "        vertical-align: middle;\n",
              "    }\n",
              "\n",
              "    .dataframe tbody tr th {\n",
              "        vertical-align: top;\n",
              "    }\n",
              "\n",
              "    .dataframe thead th {\n",
              "        text-align: right;\n",
              "    }\n",
              "</style>\n",
              "<table border=\"1\" class=\"dataframe\">\n",
              "  <thead>\n",
              "    <tr style=\"text-align: right;\">\n",
              "      <th></th>\n",
              "      <th>청포도</th>\n",
              "      <th>밤</th>\n",
              "      <th>배</th>\n",
              "    </tr>\n",
              "  </thead>\n",
              "  <tbody>\n",
              "    <tr>\n",
              "      <th>4월</th>\n",
              "      <td>1</td>\n",
              "      <td>332</td>\n",
              "      <td>102</td>\n",
              "    </tr>\n",
              "    <tr>\n",
              "      <th>5월</th>\n",
              "      <td>497</td>\n",
              "      <td>392</td>\n",
              "      <td>99</td>\n",
              "    </tr>\n",
              "    <tr>\n",
              "      <th>6월</th>\n",
              "      <td>306</td>\n",
              "      <td>391</td>\n",
              "      <td>80</td>\n",
              "    </tr>\n",
              "    <tr>\n",
              "      <th>7월</th>\n",
              "      <td>681</td>\n",
              "      <td>295</td>\n",
              "      <td>30</td>\n",
              "    </tr>\n",
              "    <tr>\n",
              "      <th>8월</th>\n",
              "      <td>573</td>\n",
              "      <td>374</td>\n",
              "      <td>143</td>\n",
              "    </tr>\n",
              "  </tbody>\n",
              "</table>\n",
              "</div>"
            ],
            "text/plain": [
              "    청포도    밤    배\n",
              "4월    1  332  102\n",
              "5월  497  392   99\n",
              "6월  306  391   80\n",
              "7월  681  295   30\n",
              "8월  573  374  143"
            ]
          },
          "metadata": {},
          "execution_count": 965
        }
      ]
    },
    {
      "cell_type": "code",
      "metadata": {
        "colab": {
          "base_uri": "https://localhost:8080/",
          "height": 204
        },
        "id": "rkU7Cg2VeI2m",
        "outputId": "17a24be3-5f2c-477f-f4ed-2b3eb743a4b7"
      },
      "source": [
        "dataframe3_trans.iloc[0, 0] = 2\n",
        "dataframe3_trans"
      ],
      "execution_count": 966,
      "outputs": [
        {
          "output_type": "execute_result",
          "data": {
            "text/html": [
              "<div>\n",
              "<style scoped>\n",
              "    .dataframe tbody tr th:only-of-type {\n",
              "        vertical-align: middle;\n",
              "    }\n",
              "\n",
              "    .dataframe tbody tr th {\n",
              "        vertical-align: top;\n",
              "    }\n",
              "\n",
              "    .dataframe thead th {\n",
              "        text-align: right;\n",
              "    }\n",
              "</style>\n",
              "<table border=\"1\" class=\"dataframe\">\n",
              "  <thead>\n",
              "    <tr style=\"text-align: right;\">\n",
              "      <th></th>\n",
              "      <th>청포도</th>\n",
              "      <th>밤</th>\n",
              "      <th>배</th>\n",
              "    </tr>\n",
              "  </thead>\n",
              "  <tbody>\n",
              "    <tr>\n",
              "      <th>4월</th>\n",
              "      <td>2</td>\n",
              "      <td>332</td>\n",
              "      <td>102</td>\n",
              "    </tr>\n",
              "    <tr>\n",
              "      <th>5월</th>\n",
              "      <td>497</td>\n",
              "      <td>392</td>\n",
              "      <td>99</td>\n",
              "    </tr>\n",
              "    <tr>\n",
              "      <th>6월</th>\n",
              "      <td>306</td>\n",
              "      <td>391</td>\n",
              "      <td>80</td>\n",
              "    </tr>\n",
              "    <tr>\n",
              "      <th>7월</th>\n",
              "      <td>681</td>\n",
              "      <td>295</td>\n",
              "      <td>30</td>\n",
              "    </tr>\n",
              "    <tr>\n",
              "      <th>8월</th>\n",
              "      <td>573</td>\n",
              "      <td>374</td>\n",
              "      <td>143</td>\n",
              "    </tr>\n",
              "  </tbody>\n",
              "</table>\n",
              "</div>"
            ],
            "text/plain": [
              "    청포도    밤    배\n",
              "4월    2  332  102\n",
              "5월  497  392   99\n",
              "6월  306  391   80\n",
              "7월  681  295   30\n",
              "8월  573  374  143"
            ]
          },
          "metadata": {},
          "execution_count": 966
        }
      ]
    },
    {
      "cell_type": "markdown",
      "metadata": {
        "id": "uaa46JdzfT42"
      },
      "source": [
        "'7월' 행과 '8월' 행의 '밤'과 '배' 값을 바꾸겠습니다. 먼저 행부터 접근하겠습니다."
      ]
    },
    {
      "cell_type": "code",
      "metadata": {
        "colab": {
          "base_uri": "https://localhost:8080/",
          "height": 204
        },
        "id": "PbAwz_UufgmC",
        "outputId": "2ca524a9-4e73-4893-c84d-126864bbd0d1"
      },
      "source": [
        "dataframe3_trans.loc[['7월', '8월'], ['밤', '배']] = 1\n",
        "dataframe3_trans"
      ],
      "execution_count": 967,
      "outputs": [
        {
          "output_type": "execute_result",
          "data": {
            "text/html": [
              "<div>\n",
              "<style scoped>\n",
              "    .dataframe tbody tr th:only-of-type {\n",
              "        vertical-align: middle;\n",
              "    }\n",
              "\n",
              "    .dataframe tbody tr th {\n",
              "        vertical-align: top;\n",
              "    }\n",
              "\n",
              "    .dataframe thead th {\n",
              "        text-align: right;\n",
              "    }\n",
              "</style>\n",
              "<table border=\"1\" class=\"dataframe\">\n",
              "  <thead>\n",
              "    <tr style=\"text-align: right;\">\n",
              "      <th></th>\n",
              "      <th>청포도</th>\n",
              "      <th>밤</th>\n",
              "      <th>배</th>\n",
              "    </tr>\n",
              "  </thead>\n",
              "  <tbody>\n",
              "    <tr>\n",
              "      <th>4월</th>\n",
              "      <td>2</td>\n",
              "      <td>332</td>\n",
              "      <td>102</td>\n",
              "    </tr>\n",
              "    <tr>\n",
              "      <th>5월</th>\n",
              "      <td>497</td>\n",
              "      <td>392</td>\n",
              "      <td>99</td>\n",
              "    </tr>\n",
              "    <tr>\n",
              "      <th>6월</th>\n",
              "      <td>306</td>\n",
              "      <td>391</td>\n",
              "      <td>80</td>\n",
              "    </tr>\n",
              "    <tr>\n",
              "      <th>7월</th>\n",
              "      <td>681</td>\n",
              "      <td>1</td>\n",
              "      <td>1</td>\n",
              "    </tr>\n",
              "    <tr>\n",
              "      <th>8월</th>\n",
              "      <td>573</td>\n",
              "      <td>1</td>\n",
              "      <td>1</td>\n",
              "    </tr>\n",
              "  </tbody>\n",
              "</table>\n",
              "</div>"
            ],
            "text/plain": [
              "    청포도    밤    배\n",
              "4월    2  332  102\n",
              "5월  497  392   99\n",
              "6월  306  391   80\n",
              "7월  681    1    1\n",
              "8월  573    1    1"
            ]
          },
          "metadata": {},
          "execution_count": 967
        }
      ]
    },
    {
      "cell_type": "code",
      "metadata": {
        "colab": {
          "base_uri": "https://localhost:8080/",
          "height": 204
        },
        "id": "s5Bt3Mk2gk6q",
        "outputId": "e570878d-9842-4d35-f179-f06114e10c75"
      },
      "source": [
        "dataframe3_trans.iloc[[3, 4], [1, 2]] = 2\n",
        "dataframe3_trans"
      ],
      "execution_count": 968,
      "outputs": [
        {
          "output_type": "execute_result",
          "data": {
            "text/html": [
              "<div>\n",
              "<style scoped>\n",
              "    .dataframe tbody tr th:only-of-type {\n",
              "        vertical-align: middle;\n",
              "    }\n",
              "\n",
              "    .dataframe tbody tr th {\n",
              "        vertical-align: top;\n",
              "    }\n",
              "\n",
              "    .dataframe thead th {\n",
              "        text-align: right;\n",
              "    }\n",
              "</style>\n",
              "<table border=\"1\" class=\"dataframe\">\n",
              "  <thead>\n",
              "    <tr style=\"text-align: right;\">\n",
              "      <th></th>\n",
              "      <th>청포도</th>\n",
              "      <th>밤</th>\n",
              "      <th>배</th>\n",
              "    </tr>\n",
              "  </thead>\n",
              "  <tbody>\n",
              "    <tr>\n",
              "      <th>4월</th>\n",
              "      <td>2</td>\n",
              "      <td>332</td>\n",
              "      <td>102</td>\n",
              "    </tr>\n",
              "    <tr>\n",
              "      <th>5월</th>\n",
              "      <td>497</td>\n",
              "      <td>392</td>\n",
              "      <td>99</td>\n",
              "    </tr>\n",
              "    <tr>\n",
              "      <th>6월</th>\n",
              "      <td>306</td>\n",
              "      <td>391</td>\n",
              "      <td>80</td>\n",
              "    </tr>\n",
              "    <tr>\n",
              "      <th>7월</th>\n",
              "      <td>681</td>\n",
              "      <td>2</td>\n",
              "      <td>2</td>\n",
              "    </tr>\n",
              "    <tr>\n",
              "      <th>8월</th>\n",
              "      <td>573</td>\n",
              "      <td>2</td>\n",
              "      <td>2</td>\n",
              "    </tr>\n",
              "  </tbody>\n",
              "</table>\n",
              "</div>"
            ],
            "text/plain": [
              "    청포도    밤    배\n",
              "4월    2  332  102\n",
              "5월  497  392   99\n",
              "6월  306  391   80\n",
              "7월  681    2    2\n",
              "8월  573    2    2"
            ]
          },
          "metadata": {},
          "execution_count": 968
        }
      ]
    },
    {
      "cell_type": "code",
      "metadata": {
        "colab": {
          "base_uri": "https://localhost:8080/",
          "height": 204
        },
        "id": "b5gkKKlJgtxq",
        "outputId": "b62706fb-99fa-4be9-b184-3c8f5f6f4d50"
      },
      "source": [
        "dataframe3_trans.iloc[3:, 1:] = 3\n",
        "dataframe3_trans"
      ],
      "execution_count": 969,
      "outputs": [
        {
          "output_type": "execute_result",
          "data": {
            "text/html": [
              "<div>\n",
              "<style scoped>\n",
              "    .dataframe tbody tr th:only-of-type {\n",
              "        vertical-align: middle;\n",
              "    }\n",
              "\n",
              "    .dataframe tbody tr th {\n",
              "        vertical-align: top;\n",
              "    }\n",
              "\n",
              "    .dataframe thead th {\n",
              "        text-align: right;\n",
              "    }\n",
              "</style>\n",
              "<table border=\"1\" class=\"dataframe\">\n",
              "  <thead>\n",
              "    <tr style=\"text-align: right;\">\n",
              "      <th></th>\n",
              "      <th>청포도</th>\n",
              "      <th>밤</th>\n",
              "      <th>배</th>\n",
              "    </tr>\n",
              "  </thead>\n",
              "  <tbody>\n",
              "    <tr>\n",
              "      <th>4월</th>\n",
              "      <td>2</td>\n",
              "      <td>332</td>\n",
              "      <td>102</td>\n",
              "    </tr>\n",
              "    <tr>\n",
              "      <th>5월</th>\n",
              "      <td>497</td>\n",
              "      <td>392</td>\n",
              "      <td>99</td>\n",
              "    </tr>\n",
              "    <tr>\n",
              "      <th>6월</th>\n",
              "      <td>306</td>\n",
              "      <td>391</td>\n",
              "      <td>80</td>\n",
              "    </tr>\n",
              "    <tr>\n",
              "      <th>7월</th>\n",
              "      <td>681</td>\n",
              "      <td>3</td>\n",
              "      <td>3</td>\n",
              "    </tr>\n",
              "    <tr>\n",
              "      <th>8월</th>\n",
              "      <td>573</td>\n",
              "      <td>3</td>\n",
              "      <td>3</td>\n",
              "    </tr>\n",
              "  </tbody>\n",
              "</table>\n",
              "</div>"
            ],
            "text/plain": [
              "    청포도    밤    배\n",
              "4월    2  332  102\n",
              "5월  497  392   99\n",
              "6월  306  391   80\n",
              "7월  681    3    3\n",
              "8월  573    3    3"
            ]
          },
          "metadata": {},
          "execution_count": 969
        }
      ]
    },
    {
      "cell_type": "markdown",
      "metadata": {
        "id": "pO-8SeDBeESv"
      },
      "source": [
        "이번에는 열부터 접근하겠습니다. '배' 열의 '4월' 값을 바꾸겠습니다."
      ]
    },
    {
      "cell_type": "code",
      "metadata": {
        "colab": {
          "base_uri": "https://localhost:8080/",
          "height": 204
        },
        "id": "rcaCEOUah_bf",
        "outputId": "a6e8deb7-d277-45ba-9791-c84198e66df4"
      },
      "source": [
        "dataframe3_trans['배']['4월'] = 1\n",
        "dataframe3_trans"
      ],
      "execution_count": 970,
      "outputs": [
        {
          "output_type": "execute_result",
          "data": {
            "text/html": [
              "<div>\n",
              "<style scoped>\n",
              "    .dataframe tbody tr th:only-of-type {\n",
              "        vertical-align: middle;\n",
              "    }\n",
              "\n",
              "    .dataframe tbody tr th {\n",
              "        vertical-align: top;\n",
              "    }\n",
              "\n",
              "    .dataframe thead th {\n",
              "        text-align: right;\n",
              "    }\n",
              "</style>\n",
              "<table border=\"1\" class=\"dataframe\">\n",
              "  <thead>\n",
              "    <tr style=\"text-align: right;\">\n",
              "      <th></th>\n",
              "      <th>청포도</th>\n",
              "      <th>밤</th>\n",
              "      <th>배</th>\n",
              "    </tr>\n",
              "  </thead>\n",
              "  <tbody>\n",
              "    <tr>\n",
              "      <th>4월</th>\n",
              "      <td>2</td>\n",
              "      <td>332</td>\n",
              "      <td>1</td>\n",
              "    </tr>\n",
              "    <tr>\n",
              "      <th>5월</th>\n",
              "      <td>497</td>\n",
              "      <td>392</td>\n",
              "      <td>99</td>\n",
              "    </tr>\n",
              "    <tr>\n",
              "      <th>6월</th>\n",
              "      <td>306</td>\n",
              "      <td>391</td>\n",
              "      <td>80</td>\n",
              "    </tr>\n",
              "    <tr>\n",
              "      <th>7월</th>\n",
              "      <td>681</td>\n",
              "      <td>3</td>\n",
              "      <td>3</td>\n",
              "    </tr>\n",
              "    <tr>\n",
              "      <th>8월</th>\n",
              "      <td>573</td>\n",
              "      <td>3</td>\n",
              "      <td>3</td>\n",
              "    </tr>\n",
              "  </tbody>\n",
              "</table>\n",
              "</div>"
            ],
            "text/plain": [
              "    청포도    밤   배\n",
              "4월    2  332   1\n",
              "5월  497  392  99\n",
              "6월  306  391  80\n",
              "7월  681    3   3\n",
              "8월  573    3   3"
            ]
          },
          "metadata": {},
          "execution_count": 970
        }
      ]
    },
    {
      "cell_type": "code",
      "metadata": {
        "colab": {
          "base_uri": "https://localhost:8080/",
          "height": 204
        },
        "id": "cfrOhtyBjb2i",
        "outputId": "f06342c3-574b-42c4-da28-b0bc3695ee5c"
      },
      "source": [
        "dataframe3_trans['배'][0] = 2\n",
        "dataframe3_trans"
      ],
      "execution_count": 971,
      "outputs": [
        {
          "output_type": "execute_result",
          "data": {
            "text/html": [
              "<div>\n",
              "<style scoped>\n",
              "    .dataframe tbody tr th:only-of-type {\n",
              "        vertical-align: middle;\n",
              "    }\n",
              "\n",
              "    .dataframe tbody tr th {\n",
              "        vertical-align: top;\n",
              "    }\n",
              "\n",
              "    .dataframe thead th {\n",
              "        text-align: right;\n",
              "    }\n",
              "</style>\n",
              "<table border=\"1\" class=\"dataframe\">\n",
              "  <thead>\n",
              "    <tr style=\"text-align: right;\">\n",
              "      <th></th>\n",
              "      <th>청포도</th>\n",
              "      <th>밤</th>\n",
              "      <th>배</th>\n",
              "    </tr>\n",
              "  </thead>\n",
              "  <tbody>\n",
              "    <tr>\n",
              "      <th>4월</th>\n",
              "      <td>2</td>\n",
              "      <td>332</td>\n",
              "      <td>2</td>\n",
              "    </tr>\n",
              "    <tr>\n",
              "      <th>5월</th>\n",
              "      <td>497</td>\n",
              "      <td>392</td>\n",
              "      <td>99</td>\n",
              "    </tr>\n",
              "    <tr>\n",
              "      <th>6월</th>\n",
              "      <td>306</td>\n",
              "      <td>391</td>\n",
              "      <td>80</td>\n",
              "    </tr>\n",
              "    <tr>\n",
              "      <th>7월</th>\n",
              "      <td>681</td>\n",
              "      <td>3</td>\n",
              "      <td>3</td>\n",
              "    </tr>\n",
              "    <tr>\n",
              "      <th>8월</th>\n",
              "      <td>573</td>\n",
              "      <td>3</td>\n",
              "      <td>3</td>\n",
              "    </tr>\n",
              "  </tbody>\n",
              "</table>\n",
              "</div>"
            ],
            "text/plain": [
              "    청포도    밤   배\n",
              "4월    2  332   2\n",
              "5월  497  392  99\n",
              "6월  306  391  80\n",
              "7월  681    3   3\n",
              "8월  573    3   3"
            ]
          },
          "metadata": {},
          "execution_count": 971
        }
      ]
    },
    {
      "cell_type": "markdown",
      "metadata": {
        "id": "EWI-n1CikNJn"
      },
      "source": [
        "'청포도' 열과 '배' 열의 '5월'과 '6월' 값을 바꾸겠습니다."
      ]
    },
    {
      "cell_type": "code",
      "metadata": {
        "colab": {
          "base_uri": "https://localhost:8080/",
          "height": 492
        },
        "id": "QpSrtoPikUeJ",
        "outputId": "5c906191-1c26-456d-fee2-a1cf98d37641"
      },
      "source": [
        "dataframe3_trans[['청포도', '배']][1:3] = 1\n",
        "dataframe3_trans"
      ],
      "execution_count": 972,
      "outputs": [
        {
          "output_type": "stream",
          "name": "stderr",
          "text": [
            "/usr/local/lib/python3.7/dist-packages/ipykernel_launcher.py:1: SettingWithCopyWarning: \n",
            "A value is trying to be set on a copy of a slice from a DataFrame.\n",
            "Try using .loc[row_indexer,col_indexer] = value instead\n",
            "\n",
            "See the caveats in the documentation: https://pandas.pydata.org/pandas-docs/stable/user_guide/indexing.html#returning-a-view-versus-a-copy\n",
            "  \"\"\"Entry point for launching an IPython kernel.\n",
            "/usr/local/lib/python3.7/dist-packages/pandas/core/frame.py:3051: SettingWithCopyWarning: \n",
            "A value is trying to be set on a copy of a slice from a DataFrame\n",
            "\n",
            "See the caveats in the documentation: https://pandas.pydata.org/pandas-docs/stable/user_guide/indexing.html#returning-a-view-versus-a-copy\n",
            "  self.iloc._setitem_with_indexer(key, value)\n",
            "/usr/local/lib/python3.7/dist-packages/pandas/core/frame.py:3036: SettingWithCopyWarning: \n",
            "A value is trying to be set on a copy of a slice from a DataFrame\n",
            "\n",
            "See the caveats in the documentation: https://pandas.pydata.org/pandas-docs/stable/user_guide/indexing.html#returning-a-view-versus-a-copy\n",
            "  return self._setitem_slice(indexer, value)\n"
          ]
        },
        {
          "output_type": "execute_result",
          "data": {
            "text/html": [
              "<div>\n",
              "<style scoped>\n",
              "    .dataframe tbody tr th:only-of-type {\n",
              "        vertical-align: middle;\n",
              "    }\n",
              "\n",
              "    .dataframe tbody tr th {\n",
              "        vertical-align: top;\n",
              "    }\n",
              "\n",
              "    .dataframe thead th {\n",
              "        text-align: right;\n",
              "    }\n",
              "</style>\n",
              "<table border=\"1\" class=\"dataframe\">\n",
              "  <thead>\n",
              "    <tr style=\"text-align: right;\">\n",
              "      <th></th>\n",
              "      <th>청포도</th>\n",
              "      <th>밤</th>\n",
              "      <th>배</th>\n",
              "    </tr>\n",
              "  </thead>\n",
              "  <tbody>\n",
              "    <tr>\n",
              "      <th>4월</th>\n",
              "      <td>2</td>\n",
              "      <td>332</td>\n",
              "      <td>2</td>\n",
              "    </tr>\n",
              "    <tr>\n",
              "      <th>5월</th>\n",
              "      <td>497</td>\n",
              "      <td>392</td>\n",
              "      <td>99</td>\n",
              "    </tr>\n",
              "    <tr>\n",
              "      <th>6월</th>\n",
              "      <td>306</td>\n",
              "      <td>391</td>\n",
              "      <td>80</td>\n",
              "    </tr>\n",
              "    <tr>\n",
              "      <th>7월</th>\n",
              "      <td>681</td>\n",
              "      <td>3</td>\n",
              "      <td>3</td>\n",
              "    </tr>\n",
              "    <tr>\n",
              "      <th>8월</th>\n",
              "      <td>573</td>\n",
              "      <td>3</td>\n",
              "      <td>3</td>\n",
              "    </tr>\n",
              "  </tbody>\n",
              "</table>\n",
              "</div>"
            ],
            "text/plain": [
              "    청포도    밤   배\n",
              "4월    2  332   2\n",
              "5월  497  392  99\n",
              "6월  306  391  80\n",
              "7월  681    3   3\n",
              "8월  573    3   3"
            ]
          },
          "metadata": {},
          "execution_count": 972
        }
      ]
    },
    {
      "cell_type": "markdown",
      "metadata": {
        "id": "HzlxZVmtn9lP"
      },
      "source": [
        "위 형식을 취하면 `loc[]` 메서드를 대신 사용하라고 나옵니다. 다수 열을 선택해서 다수 행 값을 출력하려면 위 형식을 취해도 괜찮지만, 값을 바꾸려면 `loc[]` 메서드나 `iloc[]` 메서드를 사용해야 합니다. 물론 열을 일일이 하나씩 지정해서 값을 바꾸는 방법도 있지만 비효율적입니다.\n",
        "\n",
        "따라서 다시 `loc[]` 함수를 사용하여 값을 바꾸겠습니다."
      ]
    },
    {
      "cell_type": "code",
      "metadata": {
        "colab": {
          "base_uri": "https://localhost:8080/",
          "height": 204
        },
        "id": "kbZMyxYboTfE",
        "outputId": "c4314e35-ca33-4dd3-fc4a-0fad962fd8b0"
      },
      "source": [
        "dataframe3_trans.loc['5월':'6월', ['청포도', '배']] = 1\n",
        "dataframe3_trans"
      ],
      "execution_count": 973,
      "outputs": [
        {
          "output_type": "execute_result",
          "data": {
            "text/html": [
              "<div>\n",
              "<style scoped>\n",
              "    .dataframe tbody tr th:only-of-type {\n",
              "        vertical-align: middle;\n",
              "    }\n",
              "\n",
              "    .dataframe tbody tr th {\n",
              "        vertical-align: top;\n",
              "    }\n",
              "\n",
              "    .dataframe thead th {\n",
              "        text-align: right;\n",
              "    }\n",
              "</style>\n",
              "<table border=\"1\" class=\"dataframe\">\n",
              "  <thead>\n",
              "    <tr style=\"text-align: right;\">\n",
              "      <th></th>\n",
              "      <th>청포도</th>\n",
              "      <th>밤</th>\n",
              "      <th>배</th>\n",
              "    </tr>\n",
              "  </thead>\n",
              "  <tbody>\n",
              "    <tr>\n",
              "      <th>4월</th>\n",
              "      <td>2</td>\n",
              "      <td>332</td>\n",
              "      <td>2</td>\n",
              "    </tr>\n",
              "    <tr>\n",
              "      <th>5월</th>\n",
              "      <td>1</td>\n",
              "      <td>392</td>\n",
              "      <td>1</td>\n",
              "    </tr>\n",
              "    <tr>\n",
              "      <th>6월</th>\n",
              "      <td>1</td>\n",
              "      <td>391</td>\n",
              "      <td>1</td>\n",
              "    </tr>\n",
              "    <tr>\n",
              "      <th>7월</th>\n",
              "      <td>681</td>\n",
              "      <td>3</td>\n",
              "      <td>3</td>\n",
              "    </tr>\n",
              "    <tr>\n",
              "      <th>8월</th>\n",
              "      <td>573</td>\n",
              "      <td>3</td>\n",
              "      <td>3</td>\n",
              "    </tr>\n",
              "  </tbody>\n",
              "</table>\n",
              "</div>"
            ],
            "text/plain": [
              "    청포도    밤  배\n",
              "4월    2  332  2\n",
              "5월    1  392  1\n",
              "6월    1  391  1\n",
              "7월  681    3  3\n",
              "8월  573    3  3"
            ]
          },
          "metadata": {},
          "execution_count": 973
        }
      ]
    },
    {
      "cell_type": "code",
      "metadata": {
        "colab": {
          "base_uri": "https://localhost:8080/",
          "height": 204
        },
        "id": "LJjhlXrtpByJ",
        "outputId": "0e2a1be5-21e1-406d-b9fe-0f11a2b69225"
      },
      "source": [
        "dataframe3_trans.loc[['5월','6월'], ['청포도', '배']] = 2\n",
        "dataframe3_trans"
      ],
      "execution_count": 974,
      "outputs": [
        {
          "output_type": "execute_result",
          "data": {
            "text/html": [
              "<div>\n",
              "<style scoped>\n",
              "    .dataframe tbody tr th:only-of-type {\n",
              "        vertical-align: middle;\n",
              "    }\n",
              "\n",
              "    .dataframe tbody tr th {\n",
              "        vertical-align: top;\n",
              "    }\n",
              "\n",
              "    .dataframe thead th {\n",
              "        text-align: right;\n",
              "    }\n",
              "</style>\n",
              "<table border=\"1\" class=\"dataframe\">\n",
              "  <thead>\n",
              "    <tr style=\"text-align: right;\">\n",
              "      <th></th>\n",
              "      <th>청포도</th>\n",
              "      <th>밤</th>\n",
              "      <th>배</th>\n",
              "    </tr>\n",
              "  </thead>\n",
              "  <tbody>\n",
              "    <tr>\n",
              "      <th>4월</th>\n",
              "      <td>2</td>\n",
              "      <td>332</td>\n",
              "      <td>2</td>\n",
              "    </tr>\n",
              "    <tr>\n",
              "      <th>5월</th>\n",
              "      <td>2</td>\n",
              "      <td>392</td>\n",
              "      <td>2</td>\n",
              "    </tr>\n",
              "    <tr>\n",
              "      <th>6월</th>\n",
              "      <td>2</td>\n",
              "      <td>391</td>\n",
              "      <td>2</td>\n",
              "    </tr>\n",
              "    <tr>\n",
              "      <th>7월</th>\n",
              "      <td>681</td>\n",
              "      <td>3</td>\n",
              "      <td>3</td>\n",
              "    </tr>\n",
              "    <tr>\n",
              "      <th>8월</th>\n",
              "      <td>573</td>\n",
              "      <td>3</td>\n",
              "      <td>3</td>\n",
              "    </tr>\n",
              "  </tbody>\n",
              "</table>\n",
              "</div>"
            ],
            "text/plain": [
              "    청포도    밤  배\n",
              "4월    2  332  2\n",
              "5월    2  392  2\n",
              "6월    2  391  2\n",
              "7월  681    3  3\n",
              "8월  573    3  3"
            ]
          },
          "metadata": {},
          "execution_count": 974
        }
      ]
    },
    {
      "cell_type": "markdown",
      "metadata": {
        "id": "SEKPIpbvqCA5"
      },
      "source": [
        "이번에는 데이터프레임의 특정 열을 행 인덱스로 지정하겠습니다. 먼저 새로운 데이터프레임을 만듭니다."
      ]
    },
    {
      "cell_type": "code",
      "metadata": {
        "colab": {
          "base_uri": "https://localhost:8080/",
          "height": 204
        },
        "id": "ns_SfVc7qdkL",
        "outputId": "84ffd008-effc-4bbd-91d9-d52c63ad91e9"
      },
      "source": [
        "dic_data5 = {'판매자': ['승원', '미경', '미니', '꼬맹', '거북'],\n",
        "             '사과': [332, 392, 391, 295, 374],\n",
        "             '배': [102, 99, 80, 30, 143],\n",
        "             '포도': [402, 497, 306, 681, 573]}\n",
        "col_list2 = ['판매자', '포도', '사과', '배']\n",
        "\n",
        "dataframe13 = pd.DataFrame(dic_data5, columns=col_list2)\n",
        "dataframe13"
      ],
      "execution_count": 975,
      "outputs": [
        {
          "output_type": "execute_result",
          "data": {
            "text/html": [
              "<div>\n",
              "<style scoped>\n",
              "    .dataframe tbody tr th:only-of-type {\n",
              "        vertical-align: middle;\n",
              "    }\n",
              "\n",
              "    .dataframe tbody tr th {\n",
              "        vertical-align: top;\n",
              "    }\n",
              "\n",
              "    .dataframe thead th {\n",
              "        text-align: right;\n",
              "    }\n",
              "</style>\n",
              "<table border=\"1\" class=\"dataframe\">\n",
              "  <thead>\n",
              "    <tr style=\"text-align: right;\">\n",
              "      <th></th>\n",
              "      <th>판매자</th>\n",
              "      <th>포도</th>\n",
              "      <th>사과</th>\n",
              "      <th>배</th>\n",
              "    </tr>\n",
              "  </thead>\n",
              "  <tbody>\n",
              "    <tr>\n",
              "      <th>0</th>\n",
              "      <td>승원</td>\n",
              "      <td>402</td>\n",
              "      <td>332</td>\n",
              "      <td>102</td>\n",
              "    </tr>\n",
              "    <tr>\n",
              "      <th>1</th>\n",
              "      <td>미경</td>\n",
              "      <td>497</td>\n",
              "      <td>392</td>\n",
              "      <td>99</td>\n",
              "    </tr>\n",
              "    <tr>\n",
              "      <th>2</th>\n",
              "      <td>미니</td>\n",
              "      <td>306</td>\n",
              "      <td>391</td>\n",
              "      <td>80</td>\n",
              "    </tr>\n",
              "    <tr>\n",
              "      <th>3</th>\n",
              "      <td>꼬맹</td>\n",
              "      <td>681</td>\n",
              "      <td>295</td>\n",
              "      <td>30</td>\n",
              "    </tr>\n",
              "    <tr>\n",
              "      <th>4</th>\n",
              "      <td>거북</td>\n",
              "      <td>573</td>\n",
              "      <td>374</td>\n",
              "      <td>143</td>\n",
              "    </tr>\n",
              "  </tbody>\n",
              "</table>\n",
              "</div>"
            ],
            "text/plain": [
              "  판매자   포도   사과    배\n",
              "0  승원  402  332  102\n",
              "1  미경  497  392   99\n",
              "2  미니  306  391   80\n",
              "3  꼬맹  681  295   30\n",
              "4  거북  573  374  143"
            ]
          },
          "metadata": {},
          "execution_count": 975
        }
      ]
    },
    {
      "cell_type": "markdown",
      "metadata": {
        "id": "9A-rgXbVrS6A"
      },
      "source": [
        "`set_index()` 메서드를 사용해서 '판매자' 열을 행 인덱스로 지정하겠습니다. 단 `inplace` 매개변수에 `True` 인자를 전달해야 객체 자체를 바꿉니다. 물론 새로운 객체에 전달한다면 매개변수를 지정하지 않아도 됩니다."
      ]
    },
    {
      "cell_type": "code",
      "metadata": {
        "colab": {
          "base_uri": "https://localhost:8080/",
          "height": 235
        },
        "id": "o2YG-4PprXEE",
        "outputId": "dfb819a3-0ce9-4078-a1a2-2bb9bd1db6c9"
      },
      "source": [
        "dataframe13.set_index('판매자')"
      ],
      "execution_count": 976,
      "outputs": [
        {
          "output_type": "execute_result",
          "data": {
            "text/html": [
              "<div>\n",
              "<style scoped>\n",
              "    .dataframe tbody tr th:only-of-type {\n",
              "        vertical-align: middle;\n",
              "    }\n",
              "\n",
              "    .dataframe tbody tr th {\n",
              "        vertical-align: top;\n",
              "    }\n",
              "\n",
              "    .dataframe thead th {\n",
              "        text-align: right;\n",
              "    }\n",
              "</style>\n",
              "<table border=\"1\" class=\"dataframe\">\n",
              "  <thead>\n",
              "    <tr style=\"text-align: right;\">\n",
              "      <th></th>\n",
              "      <th>포도</th>\n",
              "      <th>사과</th>\n",
              "      <th>배</th>\n",
              "    </tr>\n",
              "    <tr>\n",
              "      <th>판매자</th>\n",
              "      <th></th>\n",
              "      <th></th>\n",
              "      <th></th>\n",
              "    </tr>\n",
              "  </thead>\n",
              "  <tbody>\n",
              "    <tr>\n",
              "      <th>승원</th>\n",
              "      <td>402</td>\n",
              "      <td>332</td>\n",
              "      <td>102</td>\n",
              "    </tr>\n",
              "    <tr>\n",
              "      <th>미경</th>\n",
              "      <td>497</td>\n",
              "      <td>392</td>\n",
              "      <td>99</td>\n",
              "    </tr>\n",
              "    <tr>\n",
              "      <th>미니</th>\n",
              "      <td>306</td>\n",
              "      <td>391</td>\n",
              "      <td>80</td>\n",
              "    </tr>\n",
              "    <tr>\n",
              "      <th>꼬맹</th>\n",
              "      <td>681</td>\n",
              "      <td>295</td>\n",
              "      <td>30</td>\n",
              "    </tr>\n",
              "    <tr>\n",
              "      <th>거북</th>\n",
              "      <td>573</td>\n",
              "      <td>374</td>\n",
              "      <td>143</td>\n",
              "    </tr>\n",
              "  </tbody>\n",
              "</table>\n",
              "</div>"
            ],
            "text/plain": [
              "      포도   사과    배\n",
              "판매자               \n",
              "승원   402  332  102\n",
              "미경   497  392   99\n",
              "미니   306  391   80\n",
              "꼬맹   681  295   30\n",
              "거북   573  374  143"
            ]
          },
          "metadata": {},
          "execution_count": 976
        }
      ]
    },
    {
      "cell_type": "code",
      "metadata": {
        "colab": {
          "base_uri": "https://localhost:8080/",
          "height": 235
        },
        "id": "iuNgJazUrl-F",
        "outputId": "774ef21b-253a-4870-967b-f3025917b2f8"
      },
      "source": [
        "dataframe13.set_index(['판매자'])"
      ],
      "execution_count": 977,
      "outputs": [
        {
          "output_type": "execute_result",
          "data": {
            "text/html": [
              "<div>\n",
              "<style scoped>\n",
              "    .dataframe tbody tr th:only-of-type {\n",
              "        vertical-align: middle;\n",
              "    }\n",
              "\n",
              "    .dataframe tbody tr th {\n",
              "        vertical-align: top;\n",
              "    }\n",
              "\n",
              "    .dataframe thead th {\n",
              "        text-align: right;\n",
              "    }\n",
              "</style>\n",
              "<table border=\"1\" class=\"dataframe\">\n",
              "  <thead>\n",
              "    <tr style=\"text-align: right;\">\n",
              "      <th></th>\n",
              "      <th>포도</th>\n",
              "      <th>사과</th>\n",
              "      <th>배</th>\n",
              "    </tr>\n",
              "    <tr>\n",
              "      <th>판매자</th>\n",
              "      <th></th>\n",
              "      <th></th>\n",
              "      <th></th>\n",
              "    </tr>\n",
              "  </thead>\n",
              "  <tbody>\n",
              "    <tr>\n",
              "      <th>승원</th>\n",
              "      <td>402</td>\n",
              "      <td>332</td>\n",
              "      <td>102</td>\n",
              "    </tr>\n",
              "    <tr>\n",
              "      <th>미경</th>\n",
              "      <td>497</td>\n",
              "      <td>392</td>\n",
              "      <td>99</td>\n",
              "    </tr>\n",
              "    <tr>\n",
              "      <th>미니</th>\n",
              "      <td>306</td>\n",
              "      <td>391</td>\n",
              "      <td>80</td>\n",
              "    </tr>\n",
              "    <tr>\n",
              "      <th>꼬맹</th>\n",
              "      <td>681</td>\n",
              "      <td>295</td>\n",
              "      <td>30</td>\n",
              "    </tr>\n",
              "    <tr>\n",
              "      <th>거북</th>\n",
              "      <td>573</td>\n",
              "      <td>374</td>\n",
              "      <td>143</td>\n",
              "    </tr>\n",
              "  </tbody>\n",
              "</table>\n",
              "</div>"
            ],
            "text/plain": [
              "      포도   사과    배\n",
              "판매자               \n",
              "승원   402  332  102\n",
              "미경   497  392   99\n",
              "미니   306  391   80\n",
              "꼬맹   681  295   30\n",
              "거북   573  374  143"
            ]
          },
          "metadata": {},
          "execution_count": 977
        }
      ]
    },
    {
      "cell_type": "markdown",
      "metadata": {
        "id": "Whu0NLkJr-Jl"
      },
      "source": [
        "`inplace=True`로 매개변수를 지정하지 않았으므로 객체는 바뀌지 않습니다."
      ]
    },
    {
      "cell_type": "code",
      "metadata": {
        "colab": {
          "base_uri": "https://localhost:8080/",
          "height": 204
        },
        "id": "tlGgIW7Yr7zz",
        "outputId": "c96772c0-26e0-4c79-d06e-f657ef5fc950"
      },
      "source": [
        "dataframe13"
      ],
      "execution_count": 978,
      "outputs": [
        {
          "output_type": "execute_result",
          "data": {
            "text/html": [
              "<div>\n",
              "<style scoped>\n",
              "    .dataframe tbody tr th:only-of-type {\n",
              "        vertical-align: middle;\n",
              "    }\n",
              "\n",
              "    .dataframe tbody tr th {\n",
              "        vertical-align: top;\n",
              "    }\n",
              "\n",
              "    .dataframe thead th {\n",
              "        text-align: right;\n",
              "    }\n",
              "</style>\n",
              "<table border=\"1\" class=\"dataframe\">\n",
              "  <thead>\n",
              "    <tr style=\"text-align: right;\">\n",
              "      <th></th>\n",
              "      <th>판매자</th>\n",
              "      <th>포도</th>\n",
              "      <th>사과</th>\n",
              "      <th>배</th>\n",
              "    </tr>\n",
              "  </thead>\n",
              "  <tbody>\n",
              "    <tr>\n",
              "      <th>0</th>\n",
              "      <td>승원</td>\n",
              "      <td>402</td>\n",
              "      <td>332</td>\n",
              "      <td>102</td>\n",
              "    </tr>\n",
              "    <tr>\n",
              "      <th>1</th>\n",
              "      <td>미경</td>\n",
              "      <td>497</td>\n",
              "      <td>392</td>\n",
              "      <td>99</td>\n",
              "    </tr>\n",
              "    <tr>\n",
              "      <th>2</th>\n",
              "      <td>미니</td>\n",
              "      <td>306</td>\n",
              "      <td>391</td>\n",
              "      <td>80</td>\n",
              "    </tr>\n",
              "    <tr>\n",
              "      <th>3</th>\n",
              "      <td>꼬맹</td>\n",
              "      <td>681</td>\n",
              "      <td>295</td>\n",
              "      <td>30</td>\n",
              "    </tr>\n",
              "    <tr>\n",
              "      <th>4</th>\n",
              "      <td>거북</td>\n",
              "      <td>573</td>\n",
              "      <td>374</td>\n",
              "      <td>143</td>\n",
              "    </tr>\n",
              "  </tbody>\n",
              "</table>\n",
              "</div>"
            ],
            "text/plain": [
              "  판매자   포도   사과    배\n",
              "0  승원  402  332  102\n",
              "1  미경  497  392   99\n",
              "2  미니  306  391   80\n",
              "3  꼬맹  681  295   30\n",
              "4  거북  573  374  143"
            ]
          },
          "metadata": {},
          "execution_count": 978
        }
      ]
    },
    {
      "cell_type": "markdown",
      "metadata": {
        "id": "D3OsfHTRs9y2"
      },
      "source": [
        "여러 열을 인덱스로 지정할 수도 있습니다. 이를 멀티인덱스라고 부릅니다. 주로 통계적 연산이 개입된 데이터프레임에 사용합니다(보강 예정)."
      ]
    },
    {
      "cell_type": "code",
      "metadata": {
        "colab": {
          "base_uri": "https://localhost:8080/",
          "height": 235
        },
        "id": "H0DfrUUutDNW",
        "outputId": "4eaf189a-4a9d-4393-b3e2-d1d1c2c078b7"
      },
      "source": [
        "dataframe13.set_index(['판매자', '사과'])"
      ],
      "execution_count": 979,
      "outputs": [
        {
          "output_type": "execute_result",
          "data": {
            "text/html": [
              "<div>\n",
              "<style scoped>\n",
              "    .dataframe tbody tr th:only-of-type {\n",
              "        vertical-align: middle;\n",
              "    }\n",
              "\n",
              "    .dataframe tbody tr th {\n",
              "        vertical-align: top;\n",
              "    }\n",
              "\n",
              "    .dataframe thead th {\n",
              "        text-align: right;\n",
              "    }\n",
              "</style>\n",
              "<table border=\"1\" class=\"dataframe\">\n",
              "  <thead>\n",
              "    <tr style=\"text-align: right;\">\n",
              "      <th></th>\n",
              "      <th></th>\n",
              "      <th>포도</th>\n",
              "      <th>배</th>\n",
              "    </tr>\n",
              "    <tr>\n",
              "      <th>판매자</th>\n",
              "      <th>사과</th>\n",
              "      <th></th>\n",
              "      <th></th>\n",
              "    </tr>\n",
              "  </thead>\n",
              "  <tbody>\n",
              "    <tr>\n",
              "      <th>승원</th>\n",
              "      <th>332</th>\n",
              "      <td>402</td>\n",
              "      <td>102</td>\n",
              "    </tr>\n",
              "    <tr>\n",
              "      <th>미경</th>\n",
              "      <th>392</th>\n",
              "      <td>497</td>\n",
              "      <td>99</td>\n",
              "    </tr>\n",
              "    <tr>\n",
              "      <th>미니</th>\n",
              "      <th>391</th>\n",
              "      <td>306</td>\n",
              "      <td>80</td>\n",
              "    </tr>\n",
              "    <tr>\n",
              "      <th>꼬맹</th>\n",
              "      <th>295</th>\n",
              "      <td>681</td>\n",
              "      <td>30</td>\n",
              "    </tr>\n",
              "    <tr>\n",
              "      <th>거북</th>\n",
              "      <th>374</th>\n",
              "      <td>573</td>\n",
              "      <td>143</td>\n",
              "    </tr>\n",
              "  </tbody>\n",
              "</table>\n",
              "</div>"
            ],
            "text/plain": [
              "          포도    배\n",
              "판매자 사과           \n",
              "승원  332  402  102\n",
              "미경  392  497   99\n",
              "미니  391  306   80\n",
              "꼬맹  295  681   30\n",
              "거북  374  573  143"
            ]
          },
          "metadata": {},
          "execution_count": 979
        }
      ]
    },
    {
      "cell_type": "markdown",
      "metadata": {
        "id": "bbTW2-fNxuMe"
      },
      "source": [
        "`reset_index()` 메서드를 사용하면 기본 인덱스로 초기화합니다. 먼저 새로운 데이터프레임 객체를 생성합니다."
      ]
    },
    {
      "cell_type": "code",
      "metadata": {
        "colab": {
          "base_uri": "https://localhost:8080/",
          "height": 235
        },
        "id": "4VuyLCaJyMDv",
        "outputId": "5d582b96-97d4-43f7-a4d4-6c9406b41776"
      },
      "source": [
        "dataframe13_reset = dataframe13.set_index(['판매자'])\n",
        "dataframe13_reset"
      ],
      "execution_count": 980,
      "outputs": [
        {
          "output_type": "execute_result",
          "data": {
            "text/html": [
              "<div>\n",
              "<style scoped>\n",
              "    .dataframe tbody tr th:only-of-type {\n",
              "        vertical-align: middle;\n",
              "    }\n",
              "\n",
              "    .dataframe tbody tr th {\n",
              "        vertical-align: top;\n",
              "    }\n",
              "\n",
              "    .dataframe thead th {\n",
              "        text-align: right;\n",
              "    }\n",
              "</style>\n",
              "<table border=\"1\" class=\"dataframe\">\n",
              "  <thead>\n",
              "    <tr style=\"text-align: right;\">\n",
              "      <th></th>\n",
              "      <th>포도</th>\n",
              "      <th>사과</th>\n",
              "      <th>배</th>\n",
              "    </tr>\n",
              "    <tr>\n",
              "      <th>판매자</th>\n",
              "      <th></th>\n",
              "      <th></th>\n",
              "      <th></th>\n",
              "    </tr>\n",
              "  </thead>\n",
              "  <tbody>\n",
              "    <tr>\n",
              "      <th>승원</th>\n",
              "      <td>402</td>\n",
              "      <td>332</td>\n",
              "      <td>102</td>\n",
              "    </tr>\n",
              "    <tr>\n",
              "      <th>미경</th>\n",
              "      <td>497</td>\n",
              "      <td>392</td>\n",
              "      <td>99</td>\n",
              "    </tr>\n",
              "    <tr>\n",
              "      <th>미니</th>\n",
              "      <td>306</td>\n",
              "      <td>391</td>\n",
              "      <td>80</td>\n",
              "    </tr>\n",
              "    <tr>\n",
              "      <th>꼬맹</th>\n",
              "      <td>681</td>\n",
              "      <td>295</td>\n",
              "      <td>30</td>\n",
              "    </tr>\n",
              "    <tr>\n",
              "      <th>거북</th>\n",
              "      <td>573</td>\n",
              "      <td>374</td>\n",
              "      <td>143</td>\n",
              "    </tr>\n",
              "  </tbody>\n",
              "</table>\n",
              "</div>"
            ],
            "text/plain": [
              "      포도   사과    배\n",
              "판매자               \n",
              "승원   402  332  102\n",
              "미경   497  392   99\n",
              "미니   306  391   80\n",
              "꼬맹   681  295   30\n",
              "거북   573  374  143"
            ]
          },
          "metadata": {},
          "execution_count": 980
        }
      ]
    },
    {
      "cell_type": "markdown",
      "metadata": {
        "id": "ZZSM9ynnytaq"
      },
      "source": [
        "'판매자' 열은 기존 열로 이동하고 인덱스는 정수형으로 바뀝니다. 아울러 'index' 열이 따로 생성됩니다."
      ]
    },
    {
      "cell_type": "code",
      "metadata": {
        "colab": {
          "base_uri": "https://localhost:8080/",
          "height": 204
        },
        "id": "kXXD9kb3yTnK",
        "outputId": "6889b4ec-6f3b-43e2-9dff-a856ce5ed69a"
      },
      "source": [
        "dataframe13.reset_index()"
      ],
      "execution_count": 981,
      "outputs": [
        {
          "output_type": "execute_result",
          "data": {
            "text/html": [
              "<div>\n",
              "<style scoped>\n",
              "    .dataframe tbody tr th:only-of-type {\n",
              "        vertical-align: middle;\n",
              "    }\n",
              "\n",
              "    .dataframe tbody tr th {\n",
              "        vertical-align: top;\n",
              "    }\n",
              "\n",
              "    .dataframe thead th {\n",
              "        text-align: right;\n",
              "    }\n",
              "</style>\n",
              "<table border=\"1\" class=\"dataframe\">\n",
              "  <thead>\n",
              "    <tr style=\"text-align: right;\">\n",
              "      <th></th>\n",
              "      <th>index</th>\n",
              "      <th>판매자</th>\n",
              "      <th>포도</th>\n",
              "      <th>사과</th>\n",
              "      <th>배</th>\n",
              "    </tr>\n",
              "  </thead>\n",
              "  <tbody>\n",
              "    <tr>\n",
              "      <th>0</th>\n",
              "      <td>0</td>\n",
              "      <td>승원</td>\n",
              "      <td>402</td>\n",
              "      <td>332</td>\n",
              "      <td>102</td>\n",
              "    </tr>\n",
              "    <tr>\n",
              "      <th>1</th>\n",
              "      <td>1</td>\n",
              "      <td>미경</td>\n",
              "      <td>497</td>\n",
              "      <td>392</td>\n",
              "      <td>99</td>\n",
              "    </tr>\n",
              "    <tr>\n",
              "      <th>2</th>\n",
              "      <td>2</td>\n",
              "      <td>미니</td>\n",
              "      <td>306</td>\n",
              "      <td>391</td>\n",
              "      <td>80</td>\n",
              "    </tr>\n",
              "    <tr>\n",
              "      <th>3</th>\n",
              "      <td>3</td>\n",
              "      <td>꼬맹</td>\n",
              "      <td>681</td>\n",
              "      <td>295</td>\n",
              "      <td>30</td>\n",
              "    </tr>\n",
              "    <tr>\n",
              "      <th>4</th>\n",
              "      <td>4</td>\n",
              "      <td>거북</td>\n",
              "      <td>573</td>\n",
              "      <td>374</td>\n",
              "      <td>143</td>\n",
              "    </tr>\n",
              "  </tbody>\n",
              "</table>\n",
              "</div>"
            ],
            "text/plain": [
              "   index 판매자   포도   사과    배\n",
              "0      0  승원  402  332  102\n",
              "1      1  미경  497  392   99\n",
              "2      2  미니  306  391   80\n",
              "3      3  꼬맹  681  295   30\n",
              "4      4  거북  573  374  143"
            ]
          },
          "metadata": {},
          "execution_count": 981
        }
      ]
    },
    {
      "cell_type": "markdown",
      "metadata": {
        "id": "RpMl79NzvNRY"
      },
      "source": [
        "`reindex()` 메서드를 사용해서 인덱스를 다시 지정할 수 있습니다. 먼저 '판매자' 열을 행 인덱스로 지정하고 새로운 객체에 넘기겠습니다."
      ]
    },
    {
      "cell_type": "code",
      "metadata": {
        "colab": {
          "base_uri": "https://localhost:8080/",
          "height": 235
        },
        "id": "ryMOY9ecvHuS",
        "outputId": "fc8517a0-d63f-4c18-aa5a-524babbbcdec"
      },
      "source": [
        "dataframe13_reindex = dataframe13.set_index('판매자')\n",
        "dataframe13_reindex"
      ],
      "execution_count": 982,
      "outputs": [
        {
          "output_type": "execute_result",
          "data": {
            "text/html": [
              "<div>\n",
              "<style scoped>\n",
              "    .dataframe tbody tr th:only-of-type {\n",
              "        vertical-align: middle;\n",
              "    }\n",
              "\n",
              "    .dataframe tbody tr th {\n",
              "        vertical-align: top;\n",
              "    }\n",
              "\n",
              "    .dataframe thead th {\n",
              "        text-align: right;\n",
              "    }\n",
              "</style>\n",
              "<table border=\"1\" class=\"dataframe\">\n",
              "  <thead>\n",
              "    <tr style=\"text-align: right;\">\n",
              "      <th></th>\n",
              "      <th>포도</th>\n",
              "      <th>사과</th>\n",
              "      <th>배</th>\n",
              "    </tr>\n",
              "    <tr>\n",
              "      <th>판매자</th>\n",
              "      <th></th>\n",
              "      <th></th>\n",
              "      <th></th>\n",
              "    </tr>\n",
              "  </thead>\n",
              "  <tbody>\n",
              "    <tr>\n",
              "      <th>승원</th>\n",
              "      <td>402</td>\n",
              "      <td>332</td>\n",
              "      <td>102</td>\n",
              "    </tr>\n",
              "    <tr>\n",
              "      <th>미경</th>\n",
              "      <td>497</td>\n",
              "      <td>392</td>\n",
              "      <td>99</td>\n",
              "    </tr>\n",
              "    <tr>\n",
              "      <th>미니</th>\n",
              "      <td>306</td>\n",
              "      <td>391</td>\n",
              "      <td>80</td>\n",
              "    </tr>\n",
              "    <tr>\n",
              "      <th>꼬맹</th>\n",
              "      <td>681</td>\n",
              "      <td>295</td>\n",
              "      <td>30</td>\n",
              "    </tr>\n",
              "    <tr>\n",
              "      <th>거북</th>\n",
              "      <td>573</td>\n",
              "      <td>374</td>\n",
              "      <td>143</td>\n",
              "    </tr>\n",
              "  </tbody>\n",
              "</table>\n",
              "</div>"
            ],
            "text/plain": [
              "      포도   사과    배\n",
              "판매자               \n",
              "승원   402  332  102\n",
              "미경   497  392   99\n",
              "미니   306  391   80\n",
              "꼬맹   681  295   30\n",
              "거북   573  374  143"
            ]
          },
          "metadata": {},
          "execution_count": 982
        }
      ]
    },
    {
      "cell_type": "markdown",
      "metadata": {
        "id": "BbjPee2Lv_Dp"
      },
      "source": [
        "인덱스를 다시 지정하겠습니다. '철수'와 '영희'를 추가합니다."
      ]
    },
    {
      "cell_type": "code",
      "metadata": {
        "colab": {
          "base_uri": "https://localhost:8080/",
          "height": 297
        },
        "id": "QJrIgMgbwCyM",
        "outputId": "c185a278-981e-4001-ce28-00c69243c57e"
      },
      "source": [
        "new_index = ['승원', '미경', '미니', '꼬맹', '거북', '철수', '영희']\n",
        "dataframe13_reindex.reindex(new_index)"
      ],
      "execution_count": 983,
      "outputs": [
        {
          "output_type": "execute_result",
          "data": {
            "text/html": [
              "<div>\n",
              "<style scoped>\n",
              "    .dataframe tbody tr th:only-of-type {\n",
              "        vertical-align: middle;\n",
              "    }\n",
              "\n",
              "    .dataframe tbody tr th {\n",
              "        vertical-align: top;\n",
              "    }\n",
              "\n",
              "    .dataframe thead th {\n",
              "        text-align: right;\n",
              "    }\n",
              "</style>\n",
              "<table border=\"1\" class=\"dataframe\">\n",
              "  <thead>\n",
              "    <tr style=\"text-align: right;\">\n",
              "      <th></th>\n",
              "      <th>포도</th>\n",
              "      <th>사과</th>\n",
              "      <th>배</th>\n",
              "    </tr>\n",
              "    <tr>\n",
              "      <th>판매자</th>\n",
              "      <th></th>\n",
              "      <th></th>\n",
              "      <th></th>\n",
              "    </tr>\n",
              "  </thead>\n",
              "  <tbody>\n",
              "    <tr>\n",
              "      <th>승원</th>\n",
              "      <td>402.0</td>\n",
              "      <td>332.0</td>\n",
              "      <td>102.0</td>\n",
              "    </tr>\n",
              "    <tr>\n",
              "      <th>미경</th>\n",
              "      <td>497.0</td>\n",
              "      <td>392.0</td>\n",
              "      <td>99.0</td>\n",
              "    </tr>\n",
              "    <tr>\n",
              "      <th>미니</th>\n",
              "      <td>306.0</td>\n",
              "      <td>391.0</td>\n",
              "      <td>80.0</td>\n",
              "    </tr>\n",
              "    <tr>\n",
              "      <th>꼬맹</th>\n",
              "      <td>681.0</td>\n",
              "      <td>295.0</td>\n",
              "      <td>30.0</td>\n",
              "    </tr>\n",
              "    <tr>\n",
              "      <th>거북</th>\n",
              "      <td>573.0</td>\n",
              "      <td>374.0</td>\n",
              "      <td>143.0</td>\n",
              "    </tr>\n",
              "    <tr>\n",
              "      <th>철수</th>\n",
              "      <td>NaN</td>\n",
              "      <td>NaN</td>\n",
              "      <td>NaN</td>\n",
              "    </tr>\n",
              "    <tr>\n",
              "      <th>영희</th>\n",
              "      <td>NaN</td>\n",
              "      <td>NaN</td>\n",
              "      <td>NaN</td>\n",
              "    </tr>\n",
              "  </tbody>\n",
              "</table>\n",
              "</div>"
            ],
            "text/plain": [
              "        포도     사과      배\n",
              "판매자                     \n",
              "승원   402.0  332.0  102.0\n",
              "미경   497.0  392.0   99.0\n",
              "미니   306.0  391.0   80.0\n",
              "꼬맹   681.0  295.0   30.0\n",
              "거북   573.0  374.0  143.0\n",
              "철수     NaN    NaN    NaN\n",
              "영희     NaN    NaN    NaN"
            ]
          },
          "metadata": {},
          "execution_count": 983
        }
      ]
    },
    {
      "cell_type": "markdown",
      "metadata": {
        "id": "1IAWqdpexRQi"
      },
      "source": [
        "공백을 원하는 값으로 채울 수 있습니다. `fill_value` 매개변수에 원하는 값을 지정합니다."
      ]
    },
    {
      "cell_type": "code",
      "metadata": {
        "colab": {
          "base_uri": "https://localhost:8080/",
          "height": 297
        },
        "id": "PHWaQdf-xK9Q",
        "outputId": "fff5e514-fa2d-495c-c201-39bb730fade7"
      },
      "source": [
        "dataframe13_reindex.reindex(new_index, fill_value=150)"
      ],
      "execution_count": 984,
      "outputs": [
        {
          "output_type": "execute_result",
          "data": {
            "text/html": [
              "<div>\n",
              "<style scoped>\n",
              "    .dataframe tbody tr th:only-of-type {\n",
              "        vertical-align: middle;\n",
              "    }\n",
              "\n",
              "    .dataframe tbody tr th {\n",
              "        vertical-align: top;\n",
              "    }\n",
              "\n",
              "    .dataframe thead th {\n",
              "        text-align: right;\n",
              "    }\n",
              "</style>\n",
              "<table border=\"1\" class=\"dataframe\">\n",
              "  <thead>\n",
              "    <tr style=\"text-align: right;\">\n",
              "      <th></th>\n",
              "      <th>포도</th>\n",
              "      <th>사과</th>\n",
              "      <th>배</th>\n",
              "    </tr>\n",
              "    <tr>\n",
              "      <th>판매자</th>\n",
              "      <th></th>\n",
              "      <th></th>\n",
              "      <th></th>\n",
              "    </tr>\n",
              "  </thead>\n",
              "  <tbody>\n",
              "    <tr>\n",
              "      <th>승원</th>\n",
              "      <td>402</td>\n",
              "      <td>332</td>\n",
              "      <td>102</td>\n",
              "    </tr>\n",
              "    <tr>\n",
              "      <th>미경</th>\n",
              "      <td>497</td>\n",
              "      <td>392</td>\n",
              "      <td>99</td>\n",
              "    </tr>\n",
              "    <tr>\n",
              "      <th>미니</th>\n",
              "      <td>306</td>\n",
              "      <td>391</td>\n",
              "      <td>80</td>\n",
              "    </tr>\n",
              "    <tr>\n",
              "      <th>꼬맹</th>\n",
              "      <td>681</td>\n",
              "      <td>295</td>\n",
              "      <td>30</td>\n",
              "    </tr>\n",
              "    <tr>\n",
              "      <th>거북</th>\n",
              "      <td>573</td>\n",
              "      <td>374</td>\n",
              "      <td>143</td>\n",
              "    </tr>\n",
              "    <tr>\n",
              "      <th>철수</th>\n",
              "      <td>150</td>\n",
              "      <td>150</td>\n",
              "      <td>150</td>\n",
              "    </tr>\n",
              "    <tr>\n",
              "      <th>영희</th>\n",
              "      <td>150</td>\n",
              "      <td>150</td>\n",
              "      <td>150</td>\n",
              "    </tr>\n",
              "  </tbody>\n",
              "</table>\n",
              "</div>"
            ],
            "text/plain": [
              "      포도   사과    배\n",
              "판매자               \n",
              "승원   402  332  102\n",
              "미경   497  392   99\n",
              "미니   306  391   80\n",
              "꼬맹   681  295   30\n",
              "거북   573  374  143\n",
              "철수   150  150  150\n",
              "영희   150  150  150"
            ]
          },
          "metadata": {},
          "execution_count": 984
        }
      ]
    },
    {
      "cell_type": "markdown",
      "metadata": {
        "id": "LxOk151jzdRY"
      },
      "source": [
        "`sort_index()` 메서드를 사용하면 데이터프레임을 인덱스 숫자에 맞게 오름차순과 내림차순으로 정렬할 수 있습니다. `ascending` 매개변수에 `False` 값을 인자로 전달하면 내림차순으로 정렬합니다."
      ]
    },
    {
      "cell_type": "code",
      "metadata": {
        "colab": {
          "base_uri": "https://localhost:8080/",
          "height": 204
        },
        "id": "pBUR1J-Uz5er",
        "outputId": "45acf557-afdb-453c-ee47-5f20c0891926"
      },
      "source": [
        "dataframe13.sort_index(ascending=False)"
      ],
      "execution_count": 985,
      "outputs": [
        {
          "output_type": "execute_result",
          "data": {
            "text/html": [
              "<div>\n",
              "<style scoped>\n",
              "    .dataframe tbody tr th:only-of-type {\n",
              "        vertical-align: middle;\n",
              "    }\n",
              "\n",
              "    .dataframe tbody tr th {\n",
              "        vertical-align: top;\n",
              "    }\n",
              "\n",
              "    .dataframe thead th {\n",
              "        text-align: right;\n",
              "    }\n",
              "</style>\n",
              "<table border=\"1\" class=\"dataframe\">\n",
              "  <thead>\n",
              "    <tr style=\"text-align: right;\">\n",
              "      <th></th>\n",
              "      <th>판매자</th>\n",
              "      <th>포도</th>\n",
              "      <th>사과</th>\n",
              "      <th>배</th>\n",
              "    </tr>\n",
              "  </thead>\n",
              "  <tbody>\n",
              "    <tr>\n",
              "      <th>4</th>\n",
              "      <td>거북</td>\n",
              "      <td>573</td>\n",
              "      <td>374</td>\n",
              "      <td>143</td>\n",
              "    </tr>\n",
              "    <tr>\n",
              "      <th>3</th>\n",
              "      <td>꼬맹</td>\n",
              "      <td>681</td>\n",
              "      <td>295</td>\n",
              "      <td>30</td>\n",
              "    </tr>\n",
              "    <tr>\n",
              "      <th>2</th>\n",
              "      <td>미니</td>\n",
              "      <td>306</td>\n",
              "      <td>391</td>\n",
              "      <td>80</td>\n",
              "    </tr>\n",
              "    <tr>\n",
              "      <th>1</th>\n",
              "      <td>미경</td>\n",
              "      <td>497</td>\n",
              "      <td>392</td>\n",
              "      <td>99</td>\n",
              "    </tr>\n",
              "    <tr>\n",
              "      <th>0</th>\n",
              "      <td>승원</td>\n",
              "      <td>402</td>\n",
              "      <td>332</td>\n",
              "      <td>102</td>\n",
              "    </tr>\n",
              "  </tbody>\n",
              "</table>\n",
              "</div>"
            ],
            "text/plain": [
              "  판매자   포도   사과    배\n",
              "4  거북  573  374  143\n",
              "3  꼬맹  681  295   30\n",
              "2  미니  306  391   80\n",
              "1  미경  497  392   99\n",
              "0  승원  402  332  102"
            ]
          },
          "metadata": {},
          "execution_count": 985
        }
      ]
    },
    {
      "cell_type": "markdown",
      "metadata": {
        "id": "yPsMG_Sn0bdc"
      },
      "source": [
        "`sort_values()` 메서드를 사용하면 데이터프레임을 특정 열의 데이터를 기준으로 정렬할 수 있습니다. `ascending` 매개변수의 사용법은 `sort_index()` 메서드와 같고, 추가로 `by` 매개변수에 기준으로 삼을 열명을 값으로 전달합니다."
      ]
    },
    {
      "cell_type": "code",
      "metadata": {
        "colab": {
          "base_uri": "https://localhost:8080/",
          "height": 204
        },
        "id": "3Fj7rIfj031A",
        "outputId": "268629b7-8427-439f-960f-4459caddeb49"
      },
      "source": [
        "dataframe13.sort_values(ascending=False, by='포도')"
      ],
      "execution_count": 986,
      "outputs": [
        {
          "output_type": "execute_result",
          "data": {
            "text/html": [
              "<div>\n",
              "<style scoped>\n",
              "    .dataframe tbody tr th:only-of-type {\n",
              "        vertical-align: middle;\n",
              "    }\n",
              "\n",
              "    .dataframe tbody tr th {\n",
              "        vertical-align: top;\n",
              "    }\n",
              "\n",
              "    .dataframe thead th {\n",
              "        text-align: right;\n",
              "    }\n",
              "</style>\n",
              "<table border=\"1\" class=\"dataframe\">\n",
              "  <thead>\n",
              "    <tr style=\"text-align: right;\">\n",
              "      <th></th>\n",
              "      <th>판매자</th>\n",
              "      <th>포도</th>\n",
              "      <th>사과</th>\n",
              "      <th>배</th>\n",
              "    </tr>\n",
              "  </thead>\n",
              "  <tbody>\n",
              "    <tr>\n",
              "      <th>3</th>\n",
              "      <td>꼬맹</td>\n",
              "      <td>681</td>\n",
              "      <td>295</td>\n",
              "      <td>30</td>\n",
              "    </tr>\n",
              "    <tr>\n",
              "      <th>4</th>\n",
              "      <td>거북</td>\n",
              "      <td>573</td>\n",
              "      <td>374</td>\n",
              "      <td>143</td>\n",
              "    </tr>\n",
              "    <tr>\n",
              "      <th>1</th>\n",
              "      <td>미경</td>\n",
              "      <td>497</td>\n",
              "      <td>392</td>\n",
              "      <td>99</td>\n",
              "    </tr>\n",
              "    <tr>\n",
              "      <th>0</th>\n",
              "      <td>승원</td>\n",
              "      <td>402</td>\n",
              "      <td>332</td>\n",
              "      <td>102</td>\n",
              "    </tr>\n",
              "    <tr>\n",
              "      <th>2</th>\n",
              "      <td>미니</td>\n",
              "      <td>306</td>\n",
              "      <td>391</td>\n",
              "      <td>80</td>\n",
              "    </tr>\n",
              "  </tbody>\n",
              "</table>\n",
              "</div>"
            ],
            "text/plain": [
              "  판매자   포도   사과    배\n",
              "3  꼬맹  681  295   30\n",
              "4  거북  573  374  143\n",
              "1  미경  497  392   99\n",
              "0  승원  402  332  102\n",
              "2  미니  306  391   80"
            ]
          },
          "metadata": {},
          "execution_count": 986
        }
      ]
    },
    {
      "cell_type": "code",
      "metadata": {
        "colab": {
          "base_uri": "https://localhost:8080/",
          "height": 204
        },
        "id": "i9P2_SKp1Gij",
        "outputId": "9895a07a-2f4f-434a-95e8-a61d020fb7d9"
      },
      "source": [
        "dataframe13.sort_values(ascending=False, by='판매자')"
      ],
      "execution_count": 987,
      "outputs": [
        {
          "output_type": "execute_result",
          "data": {
            "text/html": [
              "<div>\n",
              "<style scoped>\n",
              "    .dataframe tbody tr th:only-of-type {\n",
              "        vertical-align: middle;\n",
              "    }\n",
              "\n",
              "    .dataframe tbody tr th {\n",
              "        vertical-align: top;\n",
              "    }\n",
              "\n",
              "    .dataframe thead th {\n",
              "        text-align: right;\n",
              "    }\n",
              "</style>\n",
              "<table border=\"1\" class=\"dataframe\">\n",
              "  <thead>\n",
              "    <tr style=\"text-align: right;\">\n",
              "      <th></th>\n",
              "      <th>판매자</th>\n",
              "      <th>포도</th>\n",
              "      <th>사과</th>\n",
              "      <th>배</th>\n",
              "    </tr>\n",
              "  </thead>\n",
              "  <tbody>\n",
              "    <tr>\n",
              "      <th>0</th>\n",
              "      <td>승원</td>\n",
              "      <td>402</td>\n",
              "      <td>332</td>\n",
              "      <td>102</td>\n",
              "    </tr>\n",
              "    <tr>\n",
              "      <th>2</th>\n",
              "      <td>미니</td>\n",
              "      <td>306</td>\n",
              "      <td>391</td>\n",
              "      <td>80</td>\n",
              "    </tr>\n",
              "    <tr>\n",
              "      <th>1</th>\n",
              "      <td>미경</td>\n",
              "      <td>497</td>\n",
              "      <td>392</td>\n",
              "      <td>99</td>\n",
              "    </tr>\n",
              "    <tr>\n",
              "      <th>3</th>\n",
              "      <td>꼬맹</td>\n",
              "      <td>681</td>\n",
              "      <td>295</td>\n",
              "      <td>30</td>\n",
              "    </tr>\n",
              "    <tr>\n",
              "      <th>4</th>\n",
              "      <td>거북</td>\n",
              "      <td>573</td>\n",
              "      <td>374</td>\n",
              "      <td>143</td>\n",
              "    </tr>\n",
              "  </tbody>\n",
              "</table>\n",
              "</div>"
            ],
            "text/plain": [
              "  판매자   포도   사과    배\n",
              "0  승원  402  332  102\n",
              "2  미니  306  391   80\n",
              "1  미경  497  392   99\n",
              "3  꼬맹  681  295   30\n",
              "4  거북  573  374  143"
            ]
          },
          "metadata": {},
          "execution_count": 987
        }
      ]
    },
    {
      "cell_type": "markdown",
      "metadata": {
        "id": "271tYqg5CFBB"
      },
      "source": [
        "## **2.7. 데이터 파일 읽기**"
      ]
    },
    {
      "cell_type": "markdown",
      "metadata": {
        "id": "1pQkVW3y8GXH"
      },
      "source": [
        "`read_csv()` 함수를 사용하면 표 데이터인 csv 파일을 읽어올 수 있습니다. csv란 comma-separated values의 약자이고, 데이터 필드가 쉼표(,)로 구분된 파일을 의미합니다. 확장자는 `.csv`이며 텍스트로만 구성된 파일입니다. 물론 `sep` 매개변수에 구분자 값을 지정하면 쉼표가 아닌 다른 구분자로 구분된 데이터도 읽어올 수 있습니다. 먼저 구글 드라이브를 임포트 하고 아래에서 예시로 설명하겠습니다."
      ]
    },
    {
      "cell_type": "code",
      "metadata": {
        "colab": {
          "base_uri": "https://localhost:8080/"
        },
        "id": "rq6BPhSwPTlI",
        "outputId": "66befca7-5a92-442f-e85c-df07f40c6348"
      },
      "source": [
        "from google.colab import drive\n",
        "drive.mount('/content/gdrive/')"
      ],
      "execution_count": 988,
      "outputs": [
        {
          "output_type": "stream",
          "name": "stdout",
          "text": [
            "Drive already mounted at /content/gdrive/; to attempt to forcibly remount, call drive.mount(\"/content/gdrive/\", force_remount=True).\n"
          ]
        }
      ]
    },
    {
      "cell_type": "code",
      "metadata": {
        "colab": {
          "base_uri": "https://localhost:8080/"
        },
        "id": "8VLxPb-9Pctu",
        "outputId": "39fd71da-e3ee-4eaa-d211-c9a89ba65ee6"
      },
      "source": [
        "cd /content/gdrive/MyDrive/Python_for_Data_Analytics_Science"
      ],
      "execution_count": 989,
      "outputs": [
        {
          "output_type": "stream",
          "name": "stdout",
          "text": [
            "/content/gdrive/MyDrive/Python_for_Data_Analytics_Science\n"
          ]
        }
      ]
    },
    {
      "cell_type": "markdown",
      "metadata": {
        "id": "Vt6piOFkPf5P"
      },
      "source": [
        "csv 파일을 생성하겠습니다."
      ]
    },
    {
      "cell_type": "code",
      "metadata": {
        "colab": {
          "base_uri": "https://localhost:8080/"
        },
        "id": "7K7J-XauPsN6",
        "outputId": "a22840db-a4b6-462b-9764-29af03ec0d7e"
      },
      "source": [
        "%%writefile /content/gdrive/MyDrive/Python_for_Data_Analytics_Science/test_csv.csv\n",
        "\n",
        "월, 사과, 배, 포도, 바나나\n",
        "1, 15, 26, 32, 76\n",
        "2, 30, 20, 36, 47\n",
        "3, 42, 91, 25, 63\n",
        "4, 29, 84, 37, 72\n",
        "5, 53, 67, 74, 23"
      ],
      "execution_count": 990,
      "outputs": [
        {
          "output_type": "stream",
          "name": "stdout",
          "text": [
            "Overwriting /content/gdrive/MyDrive/Python_for_Data_Analytics_Science/test_csv.csv\n"
          ]
        }
      ]
    },
    {
      "cell_type": "markdown",
      "metadata": {
        "id": "gGSvNKh0QS_4"
      },
      "source": [
        "csv 파일을 읽겠습니다."
      ]
    },
    {
      "cell_type": "code",
      "metadata": {
        "colab": {
          "base_uri": "https://localhost:8080/",
          "height": 204
        },
        "id": "pxeP74-4QWlJ",
        "outputId": "b3d99e90-c356-491e-b34f-d0677ae2f6c7"
      },
      "source": [
        "pd.read_csv('/content/gdrive/MyDrive/Python_for_Data_Analytics_Science/test_csv.csv')"
      ],
      "execution_count": 991,
      "outputs": [
        {
          "output_type": "execute_result",
          "data": {
            "text/html": [
              "<div>\n",
              "<style scoped>\n",
              "    .dataframe tbody tr th:only-of-type {\n",
              "        vertical-align: middle;\n",
              "    }\n",
              "\n",
              "    .dataframe tbody tr th {\n",
              "        vertical-align: top;\n",
              "    }\n",
              "\n",
              "    .dataframe thead th {\n",
              "        text-align: right;\n",
              "    }\n",
              "</style>\n",
              "<table border=\"1\" class=\"dataframe\">\n",
              "  <thead>\n",
              "    <tr style=\"text-align: right;\">\n",
              "      <th></th>\n",
              "      <th>월</th>\n",
              "      <th>사과</th>\n",
              "      <th>배</th>\n",
              "      <th>포도</th>\n",
              "      <th>바나나</th>\n",
              "    </tr>\n",
              "  </thead>\n",
              "  <tbody>\n",
              "    <tr>\n",
              "      <th>0</th>\n",
              "      <td>1</td>\n",
              "      <td>15</td>\n",
              "      <td>26</td>\n",
              "      <td>32</td>\n",
              "      <td>76</td>\n",
              "    </tr>\n",
              "    <tr>\n",
              "      <th>1</th>\n",
              "      <td>2</td>\n",
              "      <td>30</td>\n",
              "      <td>20</td>\n",
              "      <td>36</td>\n",
              "      <td>47</td>\n",
              "    </tr>\n",
              "    <tr>\n",
              "      <th>2</th>\n",
              "      <td>3</td>\n",
              "      <td>42</td>\n",
              "      <td>91</td>\n",
              "      <td>25</td>\n",
              "      <td>63</td>\n",
              "    </tr>\n",
              "    <tr>\n",
              "      <th>3</th>\n",
              "      <td>4</td>\n",
              "      <td>29</td>\n",
              "      <td>84</td>\n",
              "      <td>37</td>\n",
              "      <td>72</td>\n",
              "    </tr>\n",
              "    <tr>\n",
              "      <th>4</th>\n",
              "      <td>5</td>\n",
              "      <td>53</td>\n",
              "      <td>67</td>\n",
              "      <td>74</td>\n",
              "      <td>23</td>\n",
              "    </tr>\n",
              "  </tbody>\n",
              "</table>\n",
              "</div>"
            ],
            "text/plain": [
              "   월   사과   배   포도   바나나\n",
              "0  1   15  26   32    76\n",
              "1  2   30  20   36    47\n",
              "2  3   42  91   25    63\n",
              "3  4   29  84   37    72\n",
              "4  5   53  67   74    23"
            ]
          },
          "metadata": {},
          "execution_count": 991
        }
      ]
    },
    {
      "cell_type": "markdown",
      "metadata": {
        "id": "z1uwSWScRLj8"
      },
      "source": [
        "참고로 윈도우 메모장에서 파일을 생성하면 인코딩 형식은 'cp949'입니다. 반면에 파이썬으로 텍스트 파일을 생성하면 문자 인코딩 형식은 'utf-8'이 됩니다. 인코딩 형식이 다르므로 `read_csv()` 메서드의 `encoding` 매개변수에 인코딩 형식을 인자값으로 넘겨줘야 텍스트 파일을 제대로 읽을 수 있습니다."
      ]
    },
    {
      "cell_type": "markdown",
      "metadata": {
        "id": "C97BwOFmBsI3"
      },
      "source": [
        "만약 구분자가 공백이면 매개변수를 `sep=' '`로 지정합니다."
      ]
    },
    {
      "cell_type": "code",
      "metadata": {
        "colab": {
          "base_uri": "https://localhost:8080/"
        },
        "id": "f63yzgWTB1rN",
        "outputId": "2f960e1f-f71c-4292-c5b7-17b203517593"
      },
      "source": [
        "%%writefile /content/gdrive/MyDrive/Python_for_Data_Analytics_Science/test_csv1.csv\n",
        "\n",
        "월 사과 배 포도 바나나\n",
        "1 15 26 32 76\n",
        "2 30 20 36 47\n",
        "3 42 91 25 63\n",
        "4 29 84 37 72\n",
        "5 53 67 74 23"
      ],
      "execution_count": 992,
      "outputs": [
        {
          "output_type": "stream",
          "name": "stdout",
          "text": [
            "Overwriting /content/gdrive/MyDrive/Python_for_Data_Analytics_Science/test_csv1.csv\n"
          ]
        }
      ]
    },
    {
      "cell_type": "code",
      "metadata": {
        "colab": {
          "base_uri": "https://localhost:8080/",
          "height": 204
        },
        "id": "u0YWVgG5Cg2Z",
        "outputId": "bb504fc5-a781-4ef7-e3c7-c27f6002ed6a"
      },
      "source": [
        "pd.read_csv('/content/gdrive/MyDrive/Python_for_Data_Analytics_Science/test_csv1.csv', sep=' ')"
      ],
      "execution_count": 993,
      "outputs": [
        {
          "output_type": "execute_result",
          "data": {
            "text/html": [
              "<div>\n",
              "<style scoped>\n",
              "    .dataframe tbody tr th:only-of-type {\n",
              "        vertical-align: middle;\n",
              "    }\n",
              "\n",
              "    .dataframe tbody tr th {\n",
              "        vertical-align: top;\n",
              "    }\n",
              "\n",
              "    .dataframe thead th {\n",
              "        text-align: right;\n",
              "    }\n",
              "</style>\n",
              "<table border=\"1\" class=\"dataframe\">\n",
              "  <thead>\n",
              "    <tr style=\"text-align: right;\">\n",
              "      <th></th>\n",
              "      <th>월</th>\n",
              "      <th>사과</th>\n",
              "      <th>배</th>\n",
              "      <th>포도</th>\n",
              "      <th>바나나</th>\n",
              "    </tr>\n",
              "  </thead>\n",
              "  <tbody>\n",
              "    <tr>\n",
              "      <th>0</th>\n",
              "      <td>1</td>\n",
              "      <td>15</td>\n",
              "      <td>26</td>\n",
              "      <td>32</td>\n",
              "      <td>76</td>\n",
              "    </tr>\n",
              "    <tr>\n",
              "      <th>1</th>\n",
              "      <td>2</td>\n",
              "      <td>30</td>\n",
              "      <td>20</td>\n",
              "      <td>36</td>\n",
              "      <td>47</td>\n",
              "    </tr>\n",
              "    <tr>\n",
              "      <th>2</th>\n",
              "      <td>3</td>\n",
              "      <td>42</td>\n",
              "      <td>91</td>\n",
              "      <td>25</td>\n",
              "      <td>63</td>\n",
              "    </tr>\n",
              "    <tr>\n",
              "      <th>3</th>\n",
              "      <td>4</td>\n",
              "      <td>29</td>\n",
              "      <td>84</td>\n",
              "      <td>37</td>\n",
              "      <td>72</td>\n",
              "    </tr>\n",
              "    <tr>\n",
              "      <th>4</th>\n",
              "      <td>5</td>\n",
              "      <td>53</td>\n",
              "      <td>67</td>\n",
              "      <td>74</td>\n",
              "      <td>23</td>\n",
              "    </tr>\n",
              "  </tbody>\n",
              "</table>\n",
              "</div>"
            ],
            "text/plain": [
              "   월  사과   배  포도  바나나\n",
              "0  1  15  26  32   76\n",
              "1  2  30  20  36   47\n",
              "2  3  42  91  25   63\n",
              "3  4  29  84  37   72\n",
              "4  5  53  67  74   23"
            ]
          },
          "metadata": {},
          "execution_count": 993
        }
      ]
    },
    {
      "cell_type": "markdown",
      "metadata": {
        "id": "bEJb1aGVCzUA"
      },
      "source": [
        "데이터를 읽을 때 열 하나를 인덱스로 지정할 수 있습니다. 매개변수 `index_col`에 특정 열을 인자로 전달하겠습니다."
      ]
    },
    {
      "cell_type": "code",
      "metadata": {
        "colab": {
          "base_uri": "https://localhost:8080/",
          "height": 235
        },
        "id": "NF4mnLmJDBE8",
        "outputId": "4cb48299-2d92-4682-9c04-53d70004d886"
      },
      "source": [
        "pd.read_csv('/content/gdrive/MyDrive/Python_for_Data_Analytics_Science/test_csv1.csv', sep=' ', index_col='월')"
      ],
      "execution_count": 994,
      "outputs": [
        {
          "output_type": "execute_result",
          "data": {
            "text/html": [
              "<div>\n",
              "<style scoped>\n",
              "    .dataframe tbody tr th:only-of-type {\n",
              "        vertical-align: middle;\n",
              "    }\n",
              "\n",
              "    .dataframe tbody tr th {\n",
              "        vertical-align: top;\n",
              "    }\n",
              "\n",
              "    .dataframe thead th {\n",
              "        text-align: right;\n",
              "    }\n",
              "</style>\n",
              "<table border=\"1\" class=\"dataframe\">\n",
              "  <thead>\n",
              "    <tr style=\"text-align: right;\">\n",
              "      <th></th>\n",
              "      <th>사과</th>\n",
              "      <th>배</th>\n",
              "      <th>포도</th>\n",
              "      <th>바나나</th>\n",
              "    </tr>\n",
              "    <tr>\n",
              "      <th>월</th>\n",
              "      <th></th>\n",
              "      <th></th>\n",
              "      <th></th>\n",
              "      <th></th>\n",
              "    </tr>\n",
              "  </thead>\n",
              "  <tbody>\n",
              "    <tr>\n",
              "      <th>1</th>\n",
              "      <td>15</td>\n",
              "      <td>26</td>\n",
              "      <td>32</td>\n",
              "      <td>76</td>\n",
              "    </tr>\n",
              "    <tr>\n",
              "      <th>2</th>\n",
              "      <td>30</td>\n",
              "      <td>20</td>\n",
              "      <td>36</td>\n",
              "      <td>47</td>\n",
              "    </tr>\n",
              "    <tr>\n",
              "      <th>3</th>\n",
              "      <td>42</td>\n",
              "      <td>91</td>\n",
              "      <td>25</td>\n",
              "      <td>63</td>\n",
              "    </tr>\n",
              "    <tr>\n",
              "      <th>4</th>\n",
              "      <td>29</td>\n",
              "      <td>84</td>\n",
              "      <td>37</td>\n",
              "      <td>72</td>\n",
              "    </tr>\n",
              "    <tr>\n",
              "      <th>5</th>\n",
              "      <td>53</td>\n",
              "      <td>67</td>\n",
              "      <td>74</td>\n",
              "      <td>23</td>\n",
              "    </tr>\n",
              "  </tbody>\n",
              "</table>\n",
              "</div>"
            ],
            "text/plain": [
              "   사과   배  포도  바나나\n",
              "월                 \n",
              "1  15  26  32   76\n",
              "2  30  20  36   47\n",
              "3  42  91  25   63\n",
              "4  29  84  37   72\n",
              "5  53  67  74   23"
            ]
          },
          "metadata": {},
          "execution_count": 994
        }
      ]
    },
    {
      "cell_type": "markdown",
      "metadata": {
        "id": "w7gwCJc4RdGH"
      },
      "source": [
        "## **2.8. 데이터 파일 쓰기**"
      ]
    },
    {
      "cell_type": "markdown",
      "metadata": {
        "id": "ZU-kn5YCDIZ6"
      },
      "source": [
        "`to_csv()` 메서드를 사용하면 데이터프레임을 텍스트 파일로 생성할 수 있습니다.\n",
        "\n",
        "먼저 위 데이터를 데이터프레임으로 생성하겠습니다."
      ]
    },
    {
      "cell_type": "code",
      "metadata": {
        "colab": {
          "base_uri": "https://localhost:8080/",
          "height": 235
        },
        "id": "fmc0tSifDWbg",
        "outputId": "b4637930-4f7e-4b93-837f-6973e0c65b81"
      },
      "source": [
        "dataframe_to_csv = pd.DataFrame({'사과': [15, 30, 42, 29, 53],\n",
        "                                 '배': [26, 20, 91, 84, 67],\n",
        "                                 '포도': [32, 36, 25, 37, 74],\n",
        "                                 '바나나': [76, 47, 63, 72, 23]}, index=[1, 2, 3, 4, 5])\n",
        "dataframe_to_csv.index.name = '월'\n",
        "dataframe_to_csv"
      ],
      "execution_count": 995,
      "outputs": [
        {
          "output_type": "execute_result",
          "data": {
            "text/html": [
              "<div>\n",
              "<style scoped>\n",
              "    .dataframe tbody tr th:only-of-type {\n",
              "        vertical-align: middle;\n",
              "    }\n",
              "\n",
              "    .dataframe tbody tr th {\n",
              "        vertical-align: top;\n",
              "    }\n",
              "\n",
              "    .dataframe thead th {\n",
              "        text-align: right;\n",
              "    }\n",
              "</style>\n",
              "<table border=\"1\" class=\"dataframe\">\n",
              "  <thead>\n",
              "    <tr style=\"text-align: right;\">\n",
              "      <th></th>\n",
              "      <th>사과</th>\n",
              "      <th>배</th>\n",
              "      <th>포도</th>\n",
              "      <th>바나나</th>\n",
              "    </tr>\n",
              "    <tr>\n",
              "      <th>월</th>\n",
              "      <th></th>\n",
              "      <th></th>\n",
              "      <th></th>\n",
              "      <th></th>\n",
              "    </tr>\n",
              "  </thead>\n",
              "  <tbody>\n",
              "    <tr>\n",
              "      <th>1</th>\n",
              "      <td>15</td>\n",
              "      <td>26</td>\n",
              "      <td>32</td>\n",
              "      <td>76</td>\n",
              "    </tr>\n",
              "    <tr>\n",
              "      <th>2</th>\n",
              "      <td>30</td>\n",
              "      <td>20</td>\n",
              "      <td>36</td>\n",
              "      <td>47</td>\n",
              "    </tr>\n",
              "    <tr>\n",
              "      <th>3</th>\n",
              "      <td>42</td>\n",
              "      <td>91</td>\n",
              "      <td>25</td>\n",
              "      <td>63</td>\n",
              "    </tr>\n",
              "    <tr>\n",
              "      <th>4</th>\n",
              "      <td>29</td>\n",
              "      <td>84</td>\n",
              "      <td>37</td>\n",
              "      <td>72</td>\n",
              "    </tr>\n",
              "    <tr>\n",
              "      <th>5</th>\n",
              "      <td>53</td>\n",
              "      <td>67</td>\n",
              "      <td>74</td>\n",
              "      <td>23</td>\n",
              "    </tr>\n",
              "  </tbody>\n",
              "</table>\n",
              "</div>"
            ],
            "text/plain": [
              "   사과   배  포도  바나나\n",
              "월                 \n",
              "1  15  26  32   76\n",
              "2  30  20  36   47\n",
              "3  42  91  25   63\n",
              "4  29  84  37   72\n",
              "5  53  67  74   23"
            ]
          },
          "metadata": {},
          "execution_count": 995
        }
      ]
    },
    {
      "cell_type": "markdown",
      "metadata": {
        "id": "Bt1Hz9ehETeo"
      },
      "source": [
        "바나나 열의 오른쪽에 모든 과일의 월 평균판매량 열을 추가하겠습니다. "
      ]
    },
    {
      "cell_type": "code",
      "metadata": {
        "colab": {
          "base_uri": "https://localhost:8080/",
          "height": 235
        },
        "id": "wG837BfpEb_r",
        "outputId": "e9b85b02-0887-4eda-95bb-39ffbb660531"
      },
      "source": [
        "sum_sale = dataframe_to_csv['사과'] + dataframe_to_csv['배'] + dataframe_to_csv['포도'] + dataframe_to_csv['바나나']\n",
        "mean_sale = sum_sale/4\n",
        "mean_sale\n",
        "\n",
        "dataframe_to_csv['평균 판매량'] = mean_sale\n",
        "dataframe_to_csv"
      ],
      "execution_count": 996,
      "outputs": [
        {
          "output_type": "execute_result",
          "data": {
            "text/html": [
              "<div>\n",
              "<style scoped>\n",
              "    .dataframe tbody tr th:only-of-type {\n",
              "        vertical-align: middle;\n",
              "    }\n",
              "\n",
              "    .dataframe tbody tr th {\n",
              "        vertical-align: top;\n",
              "    }\n",
              "\n",
              "    .dataframe thead th {\n",
              "        text-align: right;\n",
              "    }\n",
              "</style>\n",
              "<table border=\"1\" class=\"dataframe\">\n",
              "  <thead>\n",
              "    <tr style=\"text-align: right;\">\n",
              "      <th></th>\n",
              "      <th>사과</th>\n",
              "      <th>배</th>\n",
              "      <th>포도</th>\n",
              "      <th>바나나</th>\n",
              "      <th>평균 판매량</th>\n",
              "    </tr>\n",
              "    <tr>\n",
              "      <th>월</th>\n",
              "      <th></th>\n",
              "      <th></th>\n",
              "      <th></th>\n",
              "      <th></th>\n",
              "      <th></th>\n",
              "    </tr>\n",
              "  </thead>\n",
              "  <tbody>\n",
              "    <tr>\n",
              "      <th>1</th>\n",
              "      <td>15</td>\n",
              "      <td>26</td>\n",
              "      <td>32</td>\n",
              "      <td>76</td>\n",
              "      <td>37.25</td>\n",
              "    </tr>\n",
              "    <tr>\n",
              "      <th>2</th>\n",
              "      <td>30</td>\n",
              "      <td>20</td>\n",
              "      <td>36</td>\n",
              "      <td>47</td>\n",
              "      <td>33.25</td>\n",
              "    </tr>\n",
              "    <tr>\n",
              "      <th>3</th>\n",
              "      <td>42</td>\n",
              "      <td>91</td>\n",
              "      <td>25</td>\n",
              "      <td>63</td>\n",
              "      <td>55.25</td>\n",
              "    </tr>\n",
              "    <tr>\n",
              "      <th>4</th>\n",
              "      <td>29</td>\n",
              "      <td>84</td>\n",
              "      <td>37</td>\n",
              "      <td>72</td>\n",
              "      <td>55.50</td>\n",
              "    </tr>\n",
              "    <tr>\n",
              "      <th>5</th>\n",
              "      <td>53</td>\n",
              "      <td>67</td>\n",
              "      <td>74</td>\n",
              "      <td>23</td>\n",
              "      <td>54.25</td>\n",
              "    </tr>\n",
              "  </tbody>\n",
              "</table>\n",
              "</div>"
            ],
            "text/plain": [
              "   사과   배  포도  바나나  평균 판매량\n",
              "월                         \n",
              "1  15  26  32   76   37.25\n",
              "2  30  20  36   47   33.25\n",
              "3  42  91  25   63   55.25\n",
              "4  29  84  37   72   55.50\n",
              "5  53  67  74   23   54.25"
            ]
          },
          "metadata": {},
          "execution_count": 996
        }
      ]
    },
    {
      "cell_type": "markdown",
      "metadata": {
        "id": "izvahv32GN-d"
      },
      "source": [
        "생성한 데이터프레임을 텍스트 파일로 저장하겠습니다. 구분자를 기본값인 쉼표가 아닌 공백으로 지정하고 문자는 `cp949`로 지정하겠습니다."
      ]
    },
    {
      "cell_type": "code",
      "metadata": {
        "id": "U8k4DokWGR9a"
      },
      "source": [
        "dataframe_to_csv.to_csv('/content/gdrive/MyDrive/Python_for_Data_Analytics_Science/to_csv1.csv', \n",
        "                        sep=' ', encoding='cp949')"
      ],
      "execution_count": 997,
      "outputs": []
    },
    {
      "cell_type": "markdown",
      "metadata": {
        "id": "26wOdzZ1IdQR"
      },
      "source": [
        "# **3. Pandas 심화**"
      ]
    },
    {
      "cell_type": "markdown",
      "metadata": {
        "id": "B3_BpG9MEGCy"
      },
      "source": [
        "## **3.1. 함수 매핑 하기**"
      ]
    },
    {
      "cell_type": "markdown",
      "metadata": {
        "id": "QX728sCcISTq"
      },
      "source": [
        "함수 매핑(mapping)이란 직접 생성한 함수에 시리즈나 데이터프레임의 원소를 대응시키는 것을 의미합니다.\n",
        "\n",
        "먼저 함수를 생성하겠습니다."
      ]
    },
    {
      "cell_type": "code",
      "metadata": {
        "id": "plSFRhoDJnf7"
      },
      "source": [
        "def test_sub_10(a):\n",
        "    return a - 30\n",
        "\n",
        "def test_mul_ab(a, b):\n",
        "    return a * b\n",
        "\n",
        "def test_isnull(a):\n",
        "    return a.isnull()\n",
        "\n",
        "def test_sub_minmax(a):\n",
        "    return a.min() - a.max()"
      ],
      "execution_count": 998,
      "outputs": []
    },
    {
      "cell_type": "markdown",
      "metadata": {
        "id": "SJFADfxXK5dl"
      },
      "source": [
        "함수를 적용할 데이터프레임을 생성하겠습니다."
      ]
    },
    {
      "cell_type": "code",
      "metadata": {
        "colab": {
          "base_uri": "https://localhost:8080/",
          "height": 204
        },
        "id": "IukEGaRPKVbl",
        "outputId": "9765fbeb-e0a2-4302-ff08-8dd2c7614e0d"
      },
      "source": [
        "import pandas as pd\n",
        "\n",
        "dic_data6 = {'판매자': ['승원', '미경', '미니', '꼬맹', '거북'],\n",
        "             '사과': [10, 20, 30, 40, 50],\n",
        "             '배': [1, 2, 3, 4, 5],\n",
        "             '포도': [5, 6, 7, 8, 9]}\n",
        "col_list3 = ['판매자', '포도', '사과', '배']\n",
        "\n",
        "dataframe14 = pd.DataFrame(dic_data6, columns=col_list3)\n",
        "dataframe14"
      ],
      "execution_count": 999,
      "outputs": [
        {
          "output_type": "execute_result",
          "data": {
            "text/html": [
              "<div>\n",
              "<style scoped>\n",
              "    .dataframe tbody tr th:only-of-type {\n",
              "        vertical-align: middle;\n",
              "    }\n",
              "\n",
              "    .dataframe tbody tr th {\n",
              "        vertical-align: top;\n",
              "    }\n",
              "\n",
              "    .dataframe thead th {\n",
              "        text-align: right;\n",
              "    }\n",
              "</style>\n",
              "<table border=\"1\" class=\"dataframe\">\n",
              "  <thead>\n",
              "    <tr style=\"text-align: right;\">\n",
              "      <th></th>\n",
              "      <th>판매자</th>\n",
              "      <th>포도</th>\n",
              "      <th>사과</th>\n",
              "      <th>배</th>\n",
              "    </tr>\n",
              "  </thead>\n",
              "  <tbody>\n",
              "    <tr>\n",
              "      <th>0</th>\n",
              "      <td>승원</td>\n",
              "      <td>5</td>\n",
              "      <td>10</td>\n",
              "      <td>1</td>\n",
              "    </tr>\n",
              "    <tr>\n",
              "      <th>1</th>\n",
              "      <td>미경</td>\n",
              "      <td>6</td>\n",
              "      <td>20</td>\n",
              "      <td>2</td>\n",
              "    </tr>\n",
              "    <tr>\n",
              "      <th>2</th>\n",
              "      <td>미니</td>\n",
              "      <td>7</td>\n",
              "      <td>30</td>\n",
              "      <td>3</td>\n",
              "    </tr>\n",
              "    <tr>\n",
              "      <th>3</th>\n",
              "      <td>꼬맹</td>\n",
              "      <td>8</td>\n",
              "      <td>40</td>\n",
              "      <td>4</td>\n",
              "    </tr>\n",
              "    <tr>\n",
              "      <th>4</th>\n",
              "      <td>거북</td>\n",
              "      <td>9</td>\n",
              "      <td>50</td>\n",
              "      <td>5</td>\n",
              "    </tr>\n",
              "  </tbody>\n",
              "</table>\n",
              "</div>"
            ],
            "text/plain": [
              "  판매자  포도  사과  배\n",
              "0  승원   5  10  1\n",
              "1  미경   6  20  2\n",
              "2  미니   7  30  3\n",
              "3  꼬맹   8  40  4\n",
              "4  거북   9  50  5"
            ]
          },
          "metadata": {},
          "execution_count": 999
        }
      ]
    },
    {
      "cell_type": "markdown",
      "metadata": {
        "id": "unVAZ-zsL1WO"
      },
      "source": [
        "`apply()` 메서드를 사용해서 데이터프레임의 시리즈에 함수를 매핑 하겠습니다. 먼저 `test_sub_10()` 함수를 매핑 합니다."
      ]
    },
    {
      "cell_type": "code",
      "metadata": {
        "colab": {
          "base_uri": "https://localhost:8080/"
        },
        "id": "CEmrkInOLMRw",
        "outputId": "60c8a1c6-c557-4e2f-93df-ad6c2fc681e7"
      },
      "source": [
        "dataframe14['포도'].apply(test_sub_10)"
      ],
      "execution_count": 1000,
      "outputs": [
        {
          "output_type": "execute_result",
          "data": {
            "text/plain": [
              "0   -25\n",
              "1   -24\n",
              "2   -23\n",
              "3   -22\n",
              "4   -21\n",
              "Name: 포도, dtype: int64"
            ]
          },
          "metadata": {},
          "execution_count": 1000
        }
      ]
    },
    {
      "cell_type": "code",
      "metadata": {
        "colab": {
          "base_uri": "https://localhost:8080/"
        },
        "id": "cAqL_iiDLvsT",
        "outputId": "c56068bf-1114-47ec-ade7-9d5016c799da"
      },
      "source": [
        "dataframe14['사과'].apply(test_sub_10)"
      ],
      "execution_count": 1001,
      "outputs": [
        {
          "output_type": "execute_result",
          "data": {
            "text/plain": [
              "0   -20\n",
              "1   -10\n",
              "2     0\n",
              "3    10\n",
              "4    20\n",
              "Name: 사과, dtype: int64"
            ]
          },
          "metadata": {},
          "execution_count": 1001
        }
      ]
    },
    {
      "cell_type": "markdown",
      "metadata": {
        "id": "UL3Kd6-tPfkR"
      },
      "source": [
        "람다 함수를 사용할 수도 있습니다."
      ]
    },
    {
      "cell_type": "code",
      "metadata": {
        "colab": {
          "base_uri": "https://localhost:8080/"
        },
        "id": "_SlRvzEDPa8L",
        "outputId": "31dfa708-f91b-481a-e918-1b3e085bfb36"
      },
      "source": [
        "dataframe14['사과'].apply(lambda x : test_sub_10(x))"
      ],
      "execution_count": 1002,
      "outputs": [
        {
          "output_type": "execute_result",
          "data": {
            "text/plain": [
              "0   -20\n",
              "1   -10\n",
              "2     0\n",
              "3    10\n",
              "4    20\n",
              "Name: 사과, dtype: int64"
            ]
          },
          "metadata": {},
          "execution_count": 1002
        }
      ]
    },
    {
      "cell_type": "markdown",
      "metadata": {
        "id": "4Xc_PIdkMWcQ"
      },
      "source": [
        "다음으로 `test_mul_ab()` 함수를 매핑 하겠습니다. `b` 값은 따로 지정해야 합니다."
      ]
    },
    {
      "cell_type": "code",
      "metadata": {
        "colab": {
          "base_uri": "https://localhost:8080/"
        },
        "id": "eNgVrkINOc9l",
        "outputId": "c2229cf6-7c41-4eff-eb34-272b25780b3c"
      },
      "source": [
        "dataframe14['사과'].apply(test_mul_ab, b=2)"
      ],
      "execution_count": 1003,
      "outputs": [
        {
          "output_type": "execute_result",
          "data": {
            "text/plain": [
              "0     20\n",
              "1     40\n",
              "2     60\n",
              "3     80\n",
              "4    100\n",
              "Name: 사과, dtype: int64"
            ]
          },
          "metadata": {},
          "execution_count": 1003
        }
      ]
    },
    {
      "cell_type": "markdown",
      "metadata": {
        "id": "WcqI6h1BOf0V"
      },
      "source": [
        "데이터프레임 전체를 매핑 하면 판매자 시리즈까지 적용됩니다. 열마다 적용되는 `axis=0` 형식의 매개변수는 기본값입니다. 따로 지정하지 않아도 됩니다."
      ]
    },
    {
      "cell_type": "code",
      "metadata": {
        "colab": {
          "base_uri": "https://localhost:8080/",
          "height": 204
        },
        "id": "pEtgJDgWMDJH",
        "outputId": "656eb446-b2b9-4c3e-e709-455772dbc6b3"
      },
      "source": [
        "dataframe14.apply(test_mul_ab, b=2)"
      ],
      "execution_count": 1004,
      "outputs": [
        {
          "output_type": "execute_result",
          "data": {
            "text/html": [
              "<div>\n",
              "<style scoped>\n",
              "    .dataframe tbody tr th:only-of-type {\n",
              "        vertical-align: middle;\n",
              "    }\n",
              "\n",
              "    .dataframe tbody tr th {\n",
              "        vertical-align: top;\n",
              "    }\n",
              "\n",
              "    .dataframe thead th {\n",
              "        text-align: right;\n",
              "    }\n",
              "</style>\n",
              "<table border=\"1\" class=\"dataframe\">\n",
              "  <thead>\n",
              "    <tr style=\"text-align: right;\">\n",
              "      <th></th>\n",
              "      <th>판매자</th>\n",
              "      <th>포도</th>\n",
              "      <th>사과</th>\n",
              "      <th>배</th>\n",
              "    </tr>\n",
              "  </thead>\n",
              "  <tbody>\n",
              "    <tr>\n",
              "      <th>0</th>\n",
              "      <td>승원승원</td>\n",
              "      <td>10</td>\n",
              "      <td>20</td>\n",
              "      <td>2</td>\n",
              "    </tr>\n",
              "    <tr>\n",
              "      <th>1</th>\n",
              "      <td>미경미경</td>\n",
              "      <td>12</td>\n",
              "      <td>40</td>\n",
              "      <td>4</td>\n",
              "    </tr>\n",
              "    <tr>\n",
              "      <th>2</th>\n",
              "      <td>미니미니</td>\n",
              "      <td>14</td>\n",
              "      <td>60</td>\n",
              "      <td>6</td>\n",
              "    </tr>\n",
              "    <tr>\n",
              "      <th>3</th>\n",
              "      <td>꼬맹꼬맹</td>\n",
              "      <td>16</td>\n",
              "      <td>80</td>\n",
              "      <td>8</td>\n",
              "    </tr>\n",
              "    <tr>\n",
              "      <th>4</th>\n",
              "      <td>거북거북</td>\n",
              "      <td>18</td>\n",
              "      <td>100</td>\n",
              "      <td>10</td>\n",
              "    </tr>\n",
              "  </tbody>\n",
              "</table>\n",
              "</div>"
            ],
            "text/plain": [
              "    판매자  포도   사과   배\n",
              "0  승원승원  10   20   2\n",
              "1  미경미경  12   40   4\n",
              "2  미니미니  14   60   6\n",
              "3  꼬맹꼬맹  16   80   8\n",
              "4  거북거북  18  100  10"
            ]
          },
          "metadata": {},
          "execution_count": 1004
        }
      ]
    },
    {
      "cell_type": "markdown",
      "metadata": {
        "id": "1fIVatWeWBcJ"
      },
      "source": [
        "람다 함수로 `test_mul_ab` 함수를 적용하겠습니다. 원소 두 개를 전달하므로 'b'를 따로 지정하지 않아도 됩니다."
      ]
    },
    {
      "cell_type": "code",
      "metadata": {
        "colab": {
          "base_uri": "https://localhost:8080/"
        },
        "id": "5AT2js_3WB5S",
        "outputId": "bc57b94a-95bf-4d9d-9f35-456be3bd52b7"
      },
      "source": [
        "dataframe14.apply(lambda x : test_mul_ab(x['포도'], x['사과']), axis=1)"
      ],
      "execution_count": 1005,
      "outputs": [
        {
          "output_type": "execute_result",
          "data": {
            "text/plain": [
              "0     50\n",
              "1    120\n",
              "2    210\n",
              "3    320\n",
              "4    450\n",
              "dtype: int64"
            ]
          },
          "metadata": {},
          "execution_count": 1005
        }
      ]
    },
    {
      "cell_type": "markdown",
      "metadata": {
        "id": "74FrEs9AfEvp"
      },
      "source": [
        "`test_isnull()` 함수를 적용하겠습니다. "
      ]
    },
    {
      "cell_type": "code",
      "metadata": {
        "colab": {
          "base_uri": "https://localhost:8080/",
          "height": 204
        },
        "id": "oEZ5uldSeO2B",
        "outputId": "8245e370-da14-47bc-ad22-76d113a9c6e0"
      },
      "source": [
        "dataframe14.apply(test_isnull)"
      ],
      "execution_count": 1006,
      "outputs": [
        {
          "output_type": "execute_result",
          "data": {
            "text/html": [
              "<div>\n",
              "<style scoped>\n",
              "    .dataframe tbody tr th:only-of-type {\n",
              "        vertical-align: middle;\n",
              "    }\n",
              "\n",
              "    .dataframe tbody tr th {\n",
              "        vertical-align: top;\n",
              "    }\n",
              "\n",
              "    .dataframe thead th {\n",
              "        text-align: right;\n",
              "    }\n",
              "</style>\n",
              "<table border=\"1\" class=\"dataframe\">\n",
              "  <thead>\n",
              "    <tr style=\"text-align: right;\">\n",
              "      <th></th>\n",
              "      <th>판매자</th>\n",
              "      <th>포도</th>\n",
              "      <th>사과</th>\n",
              "      <th>배</th>\n",
              "    </tr>\n",
              "  </thead>\n",
              "  <tbody>\n",
              "    <tr>\n",
              "      <th>0</th>\n",
              "      <td>False</td>\n",
              "      <td>False</td>\n",
              "      <td>False</td>\n",
              "      <td>False</td>\n",
              "    </tr>\n",
              "    <tr>\n",
              "      <th>1</th>\n",
              "      <td>False</td>\n",
              "      <td>False</td>\n",
              "      <td>False</td>\n",
              "      <td>False</td>\n",
              "    </tr>\n",
              "    <tr>\n",
              "      <th>2</th>\n",
              "      <td>False</td>\n",
              "      <td>False</td>\n",
              "      <td>False</td>\n",
              "      <td>False</td>\n",
              "    </tr>\n",
              "    <tr>\n",
              "      <th>3</th>\n",
              "      <td>False</td>\n",
              "      <td>False</td>\n",
              "      <td>False</td>\n",
              "      <td>False</td>\n",
              "    </tr>\n",
              "    <tr>\n",
              "      <th>4</th>\n",
              "      <td>False</td>\n",
              "      <td>False</td>\n",
              "      <td>False</td>\n",
              "      <td>False</td>\n",
              "    </tr>\n",
              "  </tbody>\n",
              "</table>\n",
              "</div>"
            ],
            "text/plain": [
              "     판매자     포도     사과      배\n",
              "0  False  False  False  False\n",
              "1  False  False  False  False\n",
              "2  False  False  False  False\n",
              "3  False  False  False  False\n",
              "4  False  False  False  False"
            ]
          },
          "metadata": {},
          "execution_count": 1006
        }
      ]
    },
    {
      "cell_type": "markdown",
      "metadata": {
        "id": "b9qI-Y9Sg2wc"
      },
      "source": [
        "`test_add_maxmin()` 함수를 적용하겠습니다."
      ]
    },
    {
      "cell_type": "code",
      "metadata": {
        "colab": {
          "base_uri": "https://localhost:8080/"
        },
        "id": "TiaCs9VvgNSQ",
        "outputId": "f8f1791f-9ee9-4892-88e1-933183bee1c1"
      },
      "source": [
        "dataframe14.loc[:, '포도':].apply(test_sub_minmax, axis=0)"
      ],
      "execution_count": 1007,
      "outputs": [
        {
          "output_type": "execute_result",
          "data": {
            "text/plain": [
              "포도    -4\n",
              "사과   -40\n",
              "배     -4\n",
              "dtype: int64"
            ]
          },
          "metadata": {},
          "execution_count": 1007
        }
      ]
    },
    {
      "cell_type": "markdown",
      "metadata": {
        "id": "GfOSXeajbNbG"
      },
      "source": [
        "`applymap()` 메서드는 데이터프레임 원소에 개별적으로 함수를 매핑하는 메서드입니다. 기실 데이터프레임에 `apply()` 메서드를 적용해도 작동합니다. 각 열(시리즈)에 개별적으로 적용되기 때문입니다. 다만 시리즈에 `applymap()` 메서드를 적용하면 작동하지 않습니다. 시리즈 객체는 `applymap()` 메서드를 가지고 있지 않습니다."
      ]
    },
    {
      "cell_type": "code",
      "metadata": {
        "colab": {
          "base_uri": "https://localhost:8080/",
          "height": 204
        },
        "id": "Y9fqDzW3ZIR5",
        "outputId": "c9d21961-07d8-4f92-a2af-23d1d5a82be2"
      },
      "source": [
        "# `test_sub_10` 함수는 숫자만 연산할 수 있으므로 '판매자' 열은 제외합니다.\n",
        "dataframe14.loc[:, '포도':].applymap(test_sub_10)"
      ],
      "execution_count": 1008,
      "outputs": [
        {
          "output_type": "execute_result",
          "data": {
            "text/html": [
              "<div>\n",
              "<style scoped>\n",
              "    .dataframe tbody tr th:only-of-type {\n",
              "        vertical-align: middle;\n",
              "    }\n",
              "\n",
              "    .dataframe tbody tr th {\n",
              "        vertical-align: top;\n",
              "    }\n",
              "\n",
              "    .dataframe thead th {\n",
              "        text-align: right;\n",
              "    }\n",
              "</style>\n",
              "<table border=\"1\" class=\"dataframe\">\n",
              "  <thead>\n",
              "    <tr style=\"text-align: right;\">\n",
              "      <th></th>\n",
              "      <th>포도</th>\n",
              "      <th>사과</th>\n",
              "      <th>배</th>\n",
              "    </tr>\n",
              "  </thead>\n",
              "  <tbody>\n",
              "    <tr>\n",
              "      <th>0</th>\n",
              "      <td>-25</td>\n",
              "      <td>-20</td>\n",
              "      <td>-29</td>\n",
              "    </tr>\n",
              "    <tr>\n",
              "      <th>1</th>\n",
              "      <td>-24</td>\n",
              "      <td>-10</td>\n",
              "      <td>-28</td>\n",
              "    </tr>\n",
              "    <tr>\n",
              "      <th>2</th>\n",
              "      <td>-23</td>\n",
              "      <td>0</td>\n",
              "      <td>-27</td>\n",
              "    </tr>\n",
              "    <tr>\n",
              "      <th>3</th>\n",
              "      <td>-22</td>\n",
              "      <td>10</td>\n",
              "      <td>-26</td>\n",
              "    </tr>\n",
              "    <tr>\n",
              "      <th>4</th>\n",
              "      <td>-21</td>\n",
              "      <td>20</td>\n",
              "      <td>-25</td>\n",
              "    </tr>\n",
              "  </tbody>\n",
              "</table>\n",
              "</div>"
            ],
            "text/plain": [
              "   포도  사과   배\n",
              "0 -25 -20 -29\n",
              "1 -24 -10 -28\n",
              "2 -23   0 -27\n",
              "3 -22  10 -26\n",
              "4 -21  20 -25"
            ]
          },
          "metadata": {},
          "execution_count": 1008
        }
      ]
    },
    {
      "cell_type": "markdown",
      "metadata": {
        "id": "LKjqaI5NW0gq"
      },
      "source": [
        "`pipe()` 메서드를 사용하면 데이터프레임 객체를 함수에 매핑 할 수 있습니다. 함수에 맞게 결과를 데이터프레임, 시리즈, 단일값으로 출력합니다.\n",
        "\n",
        "먼저 함수를 만들겠습니다."
      ]
    },
    {
      "cell_type": "code",
      "metadata": {
        "id": "-pn5qqZ8cZGR"
      },
      "source": [
        "# 열의 공백 개수를 시리즈로 반환합니다.\n",
        "def test_null_count_series(a):\n",
        "    return test_isnull(a).sum()\n",
        "\n",
        "# 데이터프레임의 공백 개수를 단일값으로 반환합니다.\n",
        "def test_null_count_val(a):\n",
        "    return test_null_count_series(a).sum()"
      ],
      "execution_count": 1009,
      "outputs": []
    },
    {
      "cell_type": "markdown",
      "metadata": {
        "id": "DPyeb2xu1CpL"
      },
      "source": [
        ""
      ]
    },
    {
      "cell_type": "code",
      "metadata": {
        "colab": {
          "base_uri": "https://localhost:8080/"
        },
        "id": "8roV8Fqoy639",
        "outputId": "e2c26d15-ede0-44f1-b509-4659dd60d8db"
      },
      "source": [
        "dataframe14.apply(test_null_count_series)"
      ],
      "execution_count": 1010,
      "outputs": [
        {
          "output_type": "execute_result",
          "data": {
            "text/plain": [
              "판매자    0\n",
              "포도     0\n",
              "사과     0\n",
              "배      0\n",
              "dtype: int64"
            ]
          },
          "metadata": {},
          "execution_count": 1010
        }
      ]
    },
    {
      "cell_type": "code",
      "metadata": {
        "colab": {
          "base_uri": "https://localhost:8080/"
        },
        "id": "-Gp_a9yU09CU",
        "outputId": "fad169a0-3de3-4b64-edbd-ea7c437face8"
      },
      "source": [
        "dataframe14.pipe(test_null_count_val)"
      ],
      "execution_count": 1011,
      "outputs": [
        {
          "output_type": "execute_result",
          "data": {
            "text/plain": [
              "0"
            ]
          },
          "metadata": {},
          "execution_count": 1011
        }
      ]
    },
    {
      "cell_type": "markdown",
      "metadata": {
        "id": "lGQrptwFcRA7"
      },
      "source": [
        "기실 위 메서드 중에 가장 많이 사용하는 메서드는 `apply()`입니다. 다양한 형태로 값을 받을 수 있고 반환하는 형태도 넓기 때문입니다.\n",
        "\n",
        "위 메서드의 입력값과 출력값을 정리하면 아래와 같습니다.\n",
        "\n",
        "- `apply()`\n",
        "\n",
        " - 입력: 시리즈 원소   \n",
        " 출력값: 단일값, 시리즈\n",
        "\n",
        " - 입력: 시리즈 객체(데이터프레임 행 or 열)   \n",
        " 출력: 단일값, 시리즈, 데이터프레임\n",
        "\n",
        "- `applymap()`\n",
        "\n",
        " - 입력: 데이터프레임의 원소  \n",
        " 출력: 데이터프레임\n",
        "\n",
        "- `pipe()`\n",
        "\n",
        " - 입력: 데이터프레임 객체  \n",
        " 출력: 단일값, 시리즈, 데이터프레임"
      ]
    },
    {
      "cell_type": "markdown",
      "metadata": {
        "id": "Yr_IWfABFL3J"
      },
      "source": [
        "## **3.2. 필터링 하기**"
      ]
    },
    {
      "cell_type": "markdown",
      "metadata": {
        "id": "R7E5CpCGFRAK"
      },
      "source": [
        "## **3.3. 그룹 연산 하기**"
      ]
    },
    {
      "cell_type": "markdown",
      "metadata": {
        "id": "kGPJxjiZGh9a"
      },
      "source": [
        "## **3.4. 피벗 활용하기**"
      ]
    }
  ]
}