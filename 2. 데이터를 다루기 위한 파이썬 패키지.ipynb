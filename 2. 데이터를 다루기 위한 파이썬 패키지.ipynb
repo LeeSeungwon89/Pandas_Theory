{
  "nbformat": 4,
  "nbformat_minor": 0,
  "metadata": {
    "colab": {
      "name": "2. 데이터를 다루기 위한 파이썬 패키지.ipynb",
      "provenance": [],
      "collapsed_sections": [],
      "toc_visible": true,
      "authorship_tag": "ABX9TyPA9v/nL8G8Nh5tdLJS2SY0",
      "include_colab_link": true
    },
    "kernelspec": {
      "name": "python3",
      "display_name": "Python 3"
    },
    "language_info": {
      "name": "python"
    }
  },
  "cells": [
    {
      "cell_type": "markdown",
      "metadata": {
        "id": "view-in-github",
        "colab_type": "text"
      },
      "source": [
        "<a href=\"https://colab.research.google.com/github/LeeSeungwon89/Python_for_Data_Analytics_Science/blob/main/2.%20%EB%8D%B0%EC%9D%B4%ED%84%B0%EB%A5%BC%20%EB%8B%A4%EB%A3%A8%EA%B8%B0%20%EC%9C%84%ED%95%9C%20%ED%8C%8C%EC%9D%B4%EC%8D%AC%20%ED%8C%A8%ED%82%A4%EC%A7%80.ipynb\" target=\"_parent\"><img src=\"https://colab.research.google.com/assets/colab-badge.svg\" alt=\"Open In Colab\"/></a>"
      ]
    },
    {
      "cell_type": "markdown",
      "metadata": {
        "id": "SMUQKDwrmEFa"
      },
      "source": [
        "# **1. Numpy**"
      ]
    },
    {
      "cell_type": "markdown",
      "metadata": {
        "id": "WxDwjUmB1-K5"
      },
      "source": [
        "넘파이는 데이터를 다루는 데 필수적인 패키지입니다. 과학적인 연산을 빠르고 쉽게 해줍니다. 아래에는 몇 가지 내용만 정리하겠습니다. 이외 구체적인 정보는 [넘파이 홈페이지](https://www.numpy.org)에 정리되어 있습니다."
      ]
    },
    {
      "cell_type": "markdown",
      "metadata": {
        "id": "zZRYD1Qn5iHF"
      },
      "source": [
        "## **1.1. 배열 만들기**"
      ]
    },
    {
      "cell_type": "markdown",
      "metadata": {
        "id": "96WyF1wW5n3b"
      },
      "source": [
        "배열을 만드는 방법은 여러가지가 있습니다. \n",
        "\n",
        "아래에서 예시로 설명하겠습니다. 먼저 시퀀스 데이터를 인자로 받고 배열 객체를 생성하는 방법입니다."
      ]
    },
    {
      "cell_type": "code",
      "metadata": {
        "colab": {
          "base_uri": "https://localhost:8080/"
        },
        "id": "rs7Ij00e5-sX",
        "outputId": "df6adb7e-8edd-4ea8-f6dc-fe5e158b4061"
      },
      "source": [
        "import numpy as np\n",
        "# 튜플도 가능하지만 주로 리스트를 사용합니다.\n",
        "# 정수만으로 구성된 리스트입니다.\n",
        "list_int = [0, 1, 2, 3, 4]\n",
        "np_int = np.array(list_int)\n",
        "print(np_int)\n",
        "np_int"
      ],
      "execution_count": 4,
      "outputs": [
        {
          "output_type": "stream",
          "name": "stdout",
          "text": [
            "[0 1 2 3 4]\n"
          ]
        },
        {
          "output_type": "execute_result",
          "data": {
            "text/plain": [
              "array([0, 1, 2, 3, 4])"
            ]
          },
          "metadata": {},
          "execution_count": 4
        }
      ]
    },
    {
      "cell_type": "markdown",
      "metadata": {
        "id": "WyEeeBmk9EzL"
      },
      "source": [
        "배열 속성을 확인합니다."
      ]
    },
    {
      "cell_type": "code",
      "metadata": {
        "colab": {
          "base_uri": "https://localhost:8080/"
        },
        "id": "xEzsW4yz9GiR",
        "outputId": "675bd78f-089e-4047-8e3f-a1017af495d0"
      },
      "source": [
        "np_int.dtype"
      ],
      "execution_count": 5,
      "outputs": [
        {
          "output_type": "execute_result",
          "data": {
            "text/plain": [
              "dtype('int64')"
            ]
          },
          "metadata": {},
          "execution_count": 5
        }
      ]
    },
    {
      "cell_type": "markdown",
      "metadata": {
        "id": "lwqqL-mm6jfX"
      },
      "source": [
        "정수와 실수를 함께 포함시켜서 만들겠습니다. 이렇게 하면 모든 원소를 실수 형태로 출력합니다."
      ]
    },
    {
      "cell_type": "code",
      "metadata": {
        "colab": {
          "base_uri": "https://localhost:8080/"
        },
        "id": "X4eW5VEe6q4X",
        "outputId": "d307c08f-136f-4c6e-d494-2dd9bd78b3a7"
      },
      "source": [
        "list_combi = [0, 1.2, 3, 4.56, 7]\n",
        "np_combi = np.array(list_combi)\n",
        "np_combi"
      ],
      "execution_count": 6,
      "outputs": [
        {
          "output_type": "execute_result",
          "data": {
            "text/plain": [
              "array([0.  , 1.2 , 3.  , 4.56, 7.  ])"
            ]
          },
          "metadata": {},
          "execution_count": 6
        }
      ]
    },
    {
      "cell_type": "markdown",
      "metadata": {
        "id": "r_FYkDMs8-vl"
      },
      "source": [
        "배열 속성을 확인합니다."
      ]
    },
    {
      "cell_type": "code",
      "metadata": {
        "colab": {
          "base_uri": "https://localhost:8080/"
        },
        "id": "xQ0ZBbu-9Cz0",
        "outputId": "89fdbc13-1555-4f9d-a656-3ce09167b749"
      },
      "source": [
        "np_combi.dtype"
      ],
      "execution_count": 7,
      "outputs": [
        {
          "output_type": "execute_result",
          "data": {
            "text/plain": [
              "dtype('float64')"
            ]
          },
          "metadata": {},
          "execution_count": 7
        }
      ]
    },
    {
      "cell_type": "markdown",
      "metadata": {
        "id": "gMHESu-18h1J"
      },
      "source": [
        "문자를 함께 포함시키겠습니다. 이렇게 하면 모든 원소를 문자로 간주하게 됩니다."
      ]
    },
    {
      "cell_type": "code",
      "metadata": {
        "colab": {
          "base_uri": "https://localhost:8080/"
        },
        "id": "vUBdmeYE8gOA",
        "outputId": "6719dda5-29c3-4132-bed4-e9ab8ddac270"
      },
      "source": [
        "list_str = [0, '일', 2.3, '사']\n",
        "np_str = np.array(list_str)\n",
        "np_str"
      ],
      "execution_count": 8,
      "outputs": [
        {
          "output_type": "execute_result",
          "data": {
            "text/plain": [
              "array(['0', '일', '2.3', '사'], dtype='<U21')"
            ]
          },
          "metadata": {},
          "execution_count": 8
        }
      ]
    },
    {
      "cell_type": "markdown",
      "metadata": {
        "id": "fy6lpxKR9MIC"
      },
      "source": [
        "배열 속성을 확인합니다. '<U21'는 유니코드 문자열을 의미합니다. 여기서 '21'은 문자 수가 최대 21개라는 점을 의미합니다."
      ]
    },
    {
      "cell_type": "code",
      "metadata": {
        "colab": {
          "base_uri": "https://localhost:8080/"
        },
        "id": "bM1LhHFG8JCz",
        "outputId": "782ed0ee-ceae-4948-82b7-b934105c9e7a"
      },
      "source": [
        "np_str.dtype"
      ],
      "execution_count": 9,
      "outputs": [
        {
          "output_type": "execute_result",
          "data": {
            "text/plain": [
              "dtype('<U21')"
            ]
          },
          "metadata": {},
          "execution_count": 9
        }
      ]
    },
    {
      "cell_type": "markdown",
      "metadata": {
        "id": "nTYoJUke92Em"
      },
      "source": [
        "`np.array(리스트)` 형식으로 바로 배열 객체를 만들 수도 있습니다."
      ]
    },
    {
      "cell_type": "code",
      "metadata": {
        "colab": {
          "base_uri": "https://localhost:8080/"
        },
        "id": "gHNJFAuc-DqO",
        "outputId": "3592394d-8b60-4637-f60a-9425a5a90b25"
      },
      "source": [
        "np_direct1 = np.array([0, 1, 2, 3, 4])\n",
        "np_direct1"
      ],
      "execution_count": 10,
      "outputs": [
        {
          "output_type": "execute_result",
          "data": {
            "text/plain": [
              "array([0, 1, 2, 3, 4])"
            ]
          },
          "metadata": {},
          "execution_count": 10
        }
      ]
    },
    {
      "cell_type": "code",
      "metadata": {
        "colab": {
          "base_uri": "https://localhost:8080/"
        },
        "id": "4w-ozdZ8-QyI",
        "outputId": "01ffb390-a1ab-44b2-ef08-ca653466b2ce"
      },
      "source": [
        "np_direct2 = np.array([[0, 1, 2], [3, 4, 5], [6, 7, 8]])\n",
        "np_direct2"
      ],
      "execution_count": 11,
      "outputs": [
        {
          "output_type": "execute_result",
          "data": {
            "text/plain": [
              "array([[0, 1, 2],\n",
              "       [3, 4, 5],\n",
              "       [6, 7, 8]])"
            ]
          },
          "metadata": {},
          "execution_count": 11
        }
      ]
    },
    {
      "cell_type": "markdown",
      "metadata": {
        "id": "3yX-jv7jAY5N"
      },
      "source": [
        "범위를 지정해서 배열을 만들 수 있습니다. 파이썬 `range()` 함수와 유사하게 넘파이는 `arange()` 함수를 사용합니다."
      ]
    },
    {
      "cell_type": "code",
      "metadata": {
        "colab": {
          "base_uri": "https://localhost:8080/"
        },
        "id": "KCCfdRmuArfb",
        "outputId": "66762d42-f26e-4492-a8d9-75c6cc2e458c"
      },
      "source": [
        "np.arange(0, 10, 2)"
      ],
      "execution_count": 12,
      "outputs": [
        {
          "output_type": "execute_result",
          "data": {
            "text/plain": [
              "array([0, 2, 4, 6, 8])"
            ]
          },
          "metadata": {},
          "execution_count": 12
        }
      ]
    },
    {
      "cell_type": "code",
      "metadata": {
        "colab": {
          "base_uri": "https://localhost:8080/"
        },
        "id": "uwkZkKouAyrI",
        "outputId": "df8319f7-ffbe-44d9-b578-b67042b2797a"
      },
      "source": [
        "np.arange(0, 10)"
      ],
      "execution_count": 13,
      "outputs": [
        {
          "output_type": "execute_result",
          "data": {
            "text/plain": [
              "array([0, 1, 2, 3, 4, 5, 6, 7, 8, 9])"
            ]
          },
          "metadata": {},
          "execution_count": 13
        }
      ]
    },
    {
      "cell_type": "code",
      "metadata": {
        "colab": {
          "base_uri": "https://localhost:8080/"
        },
        "id": "FJJElwB1A1or",
        "outputId": "bc1e4068-65d7-47df-f604-77d3659258c9"
      },
      "source": [
        "np.arange(10)"
      ],
      "execution_count": 14,
      "outputs": [
        {
          "output_type": "execute_result",
          "data": {
            "text/plain": [
              "array([0, 1, 2, 3, 4, 5, 6, 7, 8, 9])"
            ]
          },
          "metadata": {},
          "execution_count": 14
        }
      ]
    },
    {
      "cell_type": "markdown",
      "metadata": {
        "id": "jb1HbQmfBAq9"
      },
      "source": [
        "`arange()` 함수에 `reshape()` 함수를 더하면 행렬 형태로 변경할 수 있습니다."
      ]
    },
    {
      "cell_type": "code",
      "metadata": {
        "colab": {
          "base_uri": "https://localhost:8080/"
        },
        "id": "RLjuGEx_BKmM",
        "outputId": "9e7762d1-ba9d-4090-f790-2310dfc0d926"
      },
      "source": [
        "np.arange(8).reshape(4, 2)"
      ],
      "execution_count": 15,
      "outputs": [
        {
          "output_type": "execute_result",
          "data": {
            "text/plain": [
              "array([[0, 1],\n",
              "       [2, 3],\n",
              "       [4, 5],\n",
              "       [6, 7]])"
            ]
          },
          "metadata": {},
          "execution_count": 15
        }
      ]
    },
    {
      "cell_type": "markdown",
      "metadata": {
        "id": "QnjKCE3GBg5X"
      },
      "source": [
        "배열 형태를 확인하겠습니다. 참고로 1차원 배열은 `(원소 개수,)` 형태로 출력됩니다. 예컨대 원소 개수가 34개라면 `(34,)`로 출력됩니다."
      ]
    },
    {
      "cell_type": "code",
      "metadata": {
        "colab": {
          "base_uri": "https://localhost:8080/"
        },
        "id": "2JEHpo3ABlet",
        "outputId": "7b994933-73a2-400d-ddc6-fbffb9e16eb0"
      },
      "source": [
        "np_reshape = np.arange(8).reshape(4, 2)\n",
        "np_reshape.shape"
      ],
      "execution_count": 16,
      "outputs": [
        {
          "output_type": "execute_result",
          "data": {
            "text/plain": [
              "(4, 2)"
            ]
          },
          "metadata": {},
          "execution_count": 16
        }
      ]
    },
    {
      "cell_type": "markdown",
      "metadata": {
        "id": "nP3tiwWXFEOw"
      },
      "source": [
        "`linspace()` 함수를 사용하면 지정한 데이터 개수에 따라 배열을 만듭니다. 0부터 10까지 20개만큼 데이터를 만들겠습니다."
      ]
    },
    {
      "cell_type": "code",
      "metadata": {
        "colab": {
          "base_uri": "https://localhost:8080/"
        },
        "id": "hbalMFYRFMPb",
        "outputId": "a20c4ab7-2b8b-4e25-9090-fd36809e9db3"
      },
      "source": [
        "np.linspace(0, 10, 20)"
      ],
      "execution_count": 17,
      "outputs": [
        {
          "output_type": "execute_result",
          "data": {
            "text/plain": [
              "array([ 0.        ,  0.52631579,  1.05263158,  1.57894737,  2.10526316,\n",
              "        2.63157895,  3.15789474,  3.68421053,  4.21052632,  4.73684211,\n",
              "        5.26315789,  5.78947368,  6.31578947,  6.84210526,  7.36842105,\n",
              "        7.89473684,  8.42105263,  8.94736842,  9.47368421, 10.        ])"
            ]
          },
          "metadata": {},
          "execution_count": 17
        }
      ]
    },
    {
      "cell_type": "markdown",
      "metadata": {
        "id": "SJQCy03NF5p-"
      },
      "source": [
        "`zeros()` 함수는 0으로만 이루어진 배열을 만듭니다. `ones()` 함수는 1로만 이루어진 배열을 만듭니다. 사용법은 동일합니다."
      ]
    },
    {
      "cell_type": "code",
      "metadata": {
        "colab": {
          "base_uri": "https://localhost:8080/"
        },
        "id": "iz555Vl-GG1B",
        "outputId": "7f55ba5c-4bd5-48a5-aee3-4ccff3f615b2"
      },
      "source": [
        "zeros_1 = np.zeros(5)\n",
        "print(zeros_1)\n",
        "print()\n",
        "# 2차원 배열을 만들려면 괄호로 한 번 더 묶어야 합니다.\n",
        "ones_2 = np.ones((5, 2))\n",
        "print(ones_2)"
      ],
      "execution_count": 18,
      "outputs": [
        {
          "output_type": "stream",
          "name": "stdout",
          "text": [
            "[0. 0. 0. 0. 0.]\n",
            "\n",
            "[[1. 1.]\n",
            " [1. 1.]\n",
            " [1. 1.]\n",
            " [1. 1.]\n",
            " [1. 1.]]\n"
          ]
        }
      ]
    },
    {
      "cell_type": "markdown",
      "metadata": {
        "id": "jiCJmFR8Gn97"
      },
      "source": [
        "`eye()` 함수는 단위행렬(Identity matrix)을 만듭니다. "
      ]
    },
    {
      "cell_type": "code",
      "metadata": {
        "colab": {
          "base_uri": "https://localhost:8080/"
        },
        "id": "BpfO1DUWGxye",
        "outputId": "b68062c8-0c33-4d83-f781-b4e12dd03895"
      },
      "source": [
        "np.eye(5)"
      ],
      "execution_count": 19,
      "outputs": [
        {
          "output_type": "execute_result",
          "data": {
            "text/plain": [
              "array([[1., 0., 0., 0., 0.],\n",
              "       [0., 1., 0., 0., 0.],\n",
              "       [0., 0., 1., 0., 0.],\n",
              "       [0., 0., 0., 1., 0.],\n",
              "       [0., 0., 0., 0., 1.]])"
            ]
          },
          "metadata": {},
          "execution_count": 19
        }
      ]
    },
    {
      "cell_type": "markdown",
      "metadata": {
        "id": "63EwvedCHia0"
      },
      "source": [
        "`rand()` 함수와 `randint()` 함수는 각각 실수 난수와 정수 난수를 생성합니다. "
      ]
    },
    {
      "cell_type": "code",
      "metadata": {
        "colab": {
          "base_uri": "https://localhost:8080/"
        },
        "id": "ht2qcbhLH1aD",
        "outputId": "6bb08d36-b17d-46d2-f7c0-1f7eaf33d5e2"
      },
      "source": [
        "rand1 = np.random.rand()\n",
        "print(rand1)\n",
        "print()\n",
        "# 2 x 4 배열을 생성합니다.\n",
        "rand2 = np.random.rand(2, 4)\n",
        "print(rand2)\n",
        "print()\n",
        "# 3차원 배열을 생성합니다.\n",
        "rand3 = np.random.rand(2, 4, 6)\n",
        "print(rand3)"
      ],
      "execution_count": 20,
      "outputs": [
        {
          "output_type": "stream",
          "name": "stdout",
          "text": [
            "0.39418378535077814\n",
            "\n",
            "[[0.16083627 0.51021134 0.48244004 0.21732367]\n",
            " [0.03719069 0.00930234 0.94358819 0.66763652]]\n",
            "\n",
            "[[[0.49371962 0.04852604 0.62977954 0.30063814 0.14484513 0.97235901]\n",
            "  [0.32808036 0.58644047 0.41630145 0.30675592 0.89146702 0.78716823]\n",
            "  [0.05333587 0.61222717 0.2604361  0.4256651  0.20526357 0.71027311]\n",
            "  [0.94233161 0.47064406 0.84896902 0.90468937 0.20706331 0.59097072]]\n",
            "\n",
            " [[0.52771252 0.63328809 0.57225555 0.35232864 0.92156216 0.69803275]\n",
            "  [0.47253042 0.61089816 0.53165783 0.47952069 0.72893094 0.76946449]\n",
            "  [0.22751226 0.75921183 0.7918204  0.43707473 0.46822245 0.90140375]\n",
            "  [0.12518976 0.17493537 0.84161028 0.47190151 0.10611642 0.11610691]]]\n"
          ]
        }
      ]
    },
    {
      "cell_type": "code",
      "metadata": {
        "colab": {
          "base_uri": "https://localhost:8080/"
        },
        "id": "l8L4vDYMJHtf",
        "outputId": "04aeeec2-68dd-48ad-a61b-6af82e9f95a8"
      },
      "source": [
        "# 5~10 사이의 정수 난수를 생성합니다.\n",
        "randint1 = np.random.randint(5, 10)\n",
        "print(randint1)\n",
        "print()\n",
        "# 0 ~ 10 사이의 정수 난수를 2 x 5 배열로 생성합니다.\n",
        "randint2 = np.random.randint(10, size=(2, 5))\n",
        "print(randint2)\n",
        "print()\n",
        "# 0 ~ 12 사이의 정수 난수를 3차원 배열로 생성합니다.\n",
        "randint3 = np.random.randint(12, size=(3, 2, 5))\n",
        "print(randint3)"
      ],
      "execution_count": 21,
      "outputs": [
        {
          "output_type": "stream",
          "name": "stdout",
          "text": [
            "7\n",
            "\n",
            "[[4 0 4 2 2]\n",
            " [7 2 0 9 1]]\n",
            "\n",
            "[[[ 9 10  2  4  1]\n",
            "  [ 1  6  9  0  3]]\n",
            "\n",
            " [[ 5  3  3  0  5]\n",
            "  [ 2  0  4  9  4]]\n",
            "\n",
            " [[ 7  1  9  7  2]\n",
            "  [ 0  0  4  7  9]]]\n"
          ]
        }
      ]
    },
    {
      "cell_type": "markdown",
      "metadata": {
        "id": "ceD5HVSLHV1D"
      },
      "source": [
        "## **1.2. 배열 타입 변환하기**"
      ]
    },
    {
      "cell_type": "markdown",
      "metadata": {
        "id": "Lm0l-YX5K6u2"
      },
      "source": [
        "넘파이 데이터의 형식은 아래와 같습니다.\n",
        "\n",
        "- 'i': 기호를 가진 정수(signed integer)\n",
        "\n",
        "- 'u': 기호가 없는 정수(unsigned integer)\n",
        "\n",
        "- 'f': 실수(floating-point)\n",
        "\n",
        "- 'c': 복소수(complex-floating point)\n",
        "\n",
        "- 'b': 불(bool)\n",
        "\n",
        "- 'O': 파이썬 객체(object)\n",
        "\n",
        "- 'U': 유니코드(unicode)\n",
        "\n",
        "- 'S' or 'a': 바이트 문자열(string)\n",
        "\n",
        "- 'M': 날짜(datetime)"
      ]
    },
    {
      "cell_type": "markdown",
      "metadata": {
        "id": "V0CDlVJlMDoL"
      },
      "source": [
        "`astype()` 함수를 사용하여 배열 타입(형)을 바꿀 수 있습니다. `astype()` 함수에 인자로 `int`(정수형), `float`(실수형), `str`(문자형) 중에 하나를 넣고 배열 형을 변환합니다."
      ]
    },
    {
      "cell_type": "code",
      "metadata": {
        "colab": {
          "base_uri": "https://localhost:8080/"
        },
        "id": "hcnO1oK6K5p5",
        "outputId": "06378b70-5aa5-4c77-d4aa-ba6cc3cadd9c"
      },
      "source": [
        "np_str = np.array(['0.1', '2', '3.45', '6.7'])\n",
        "print(f'np_str의 타입은 {np_str.dtype}')\n",
        "# 실수 타입으로 변환합니다.\n",
        "np_astype_float = np_str.astype(float)\n",
        "print(f'np_astype_float의 타입은 {np_astype_float.dtype}')\n",
        "# 정수 타입으로 변환합니다. \n",
        "np_astype_int = np_astype_float.astype(int)\n",
        "print(f'np_astype_int의 타입은 {np_astype_int.dtype}, 원소는 {np_astype_int}')"
      ],
      "execution_count": 22,
      "outputs": [
        {
          "output_type": "stream",
          "name": "stdout",
          "text": [
            "np_str의 타입은 <U4\n",
            "np_astype_float의 타입은 float64\n",
            "np_astype_int의 타입은 int64, 원소는 [0 2 3 6]\n"
          ]
        }
      ]
    },
    {
      "cell_type": "markdown",
      "metadata": {
        "id": "MTKkSsjI_EMf"
      },
      "source": [
        "## **1.3. 배열 연산하기**"
      ]
    },
    {
      "cell_type": "markdown",
      "metadata": {
        "id": "pIx0glSxUy0i"
      },
      "source": [
        "통계에 활용하는 여러 함수가 있습니다. 아래는 함수 목록입니다.\n",
        "\n",
        "- `sum()`: 합계\n",
        "\n",
        "- `mean()`: 평균\n",
        "\n",
        "- `std()`: 표준 편차\n",
        "\n",
        "- `var()`: 분산\n",
        "\n",
        "- `max()`: 최댓값\n",
        "\n",
        "- `min()`: 최솟값\n",
        "\n",
        "- `cumsum()`: 누적합\n",
        "\n",
        "- `cumprod()`: 누적곱"
      ]
    },
    {
      "cell_type": "markdown",
      "metadata": {
        "id": "nJmUkcsMWibY"
      },
      "source": [
        "배열을 생성하고 예시를 들겠습니다."
      ]
    },
    {
      "cell_type": "code",
      "metadata": {
        "colab": {
          "base_uri": "https://localhost:8080/"
        },
        "id": "bspnWWDZWgLo",
        "outputId": "6b23a305-a248-40af-f540-f4009924acf5"
      },
      "source": [
        "arr_cal = np.arange(7)\n",
        "print(f'arr_cal: {arr_cal}')\n",
        "print(f'sum(): {arr_cal.sum()}')\n",
        "print(f'mean(): {arr_cal.mean()}')\n",
        "print(f'std(): {arr_cal.std()}')\n",
        "print(f'var(): {arr_cal.var()}')\n",
        "print(f'max(): {arr_cal.max()}')\n",
        "print(f'min(): {arr_cal.min()}')\n",
        "print(f'cumsum(): {arr_cal.cumsum()}')\n",
        "print(f'sumprod(): {arr_cal.cumprod()}')"
      ],
      "execution_count": 23,
      "outputs": [
        {
          "output_type": "stream",
          "name": "stdout",
          "text": [
            "arr_cal: [0 1 2 3 4 5 6]\n",
            "sum(): 21\n",
            "mean(): 3.0\n",
            "std(): 2.0\n",
            "var(): 4.0\n",
            "max(): 6\n",
            "min(): 0\n",
            "cumsum(): [ 0  1  3  6 10 15 21]\n",
            "sumprod(): [0 0 0 0 0 0 0]\n"
          ]
        }
      ]
    },
    {
      "cell_type": "markdown",
      "metadata": {
        "id": "-hJocXXbX7hz"
      },
      "source": [
        "선형 대수를 위한 행렬 연산을 수행하는 함수도 있습니다. 아래는 함수 목록입니다.\n",
        "\n",
        "- `dot()`: 행렬곱(matrix product)\n",
        "- `transpose()`: 전치 행렬(transpose matrix)\n",
        "- `linalg.inv()`: 역행렬(inverse matrix)\n",
        "- `linalg.det()`: 행렬식(determinant)"
      ]
    },
    {
      "cell_type": "markdown",
      "metadata": {
        "id": "eKJgAXK_awBM"
      },
      "source": [
        "2차원 배열을 생성하고 함수를 사용하겠습니다."
      ]
    },
    {
      "cell_type": "code",
      "metadata": {
        "colab": {
          "base_uri": "https://localhost:8080/"
        },
        "id": "3vvhvhR5a1Ve",
        "outputId": "c6c59ea1-4a53-42fa-adf1-d6ee254956f0"
      },
      "source": [
        "matrix1 = np.array([0, 1, 2, 3]).reshape(2, 2)\n",
        "matrix2 = np.array([1, 2, 3, 4]).reshape(2, 2)\n",
        "print('matrix1:')\n",
        "print(matrix1)\n",
        "print('matrix2:')\n",
        "print(matrix2)"
      ],
      "execution_count": 24,
      "outputs": [
        {
          "output_type": "stream",
          "name": "stdout",
          "text": [
            "matrix1:\n",
            "[[0 1]\n",
            " [2 3]]\n",
            "matrix2:\n",
            "[[1 2]\n",
            " [3 4]]\n"
          ]
        }
      ]
    },
    {
      "cell_type": "markdown",
      "metadata": {
        "id": "VGHAsg6SdXRZ"
      },
      "source": [
        "`dot()` 함수로 행렬곱을 구하겠습니다. 두 형식으로 쓸 수 있습니다."
      ]
    },
    {
      "cell_type": "code",
      "metadata": {
        "colab": {
          "base_uri": "https://localhost:8080/"
        },
        "id": "PJZL7iRzdReQ",
        "outputId": "272ee269-1407-450a-8f71-8268b11e2e44"
      },
      "source": [
        "print('matrix1:')\n",
        "print(matrix1)\n",
        "print('matrix1.dot(matrix2):')\n",
        "print(matrix1.dot(matrix2))\n",
        "print('np.dot(matrix1, matrix2):')\n",
        "print(np.dot(matrix1, matrix2))"
      ],
      "execution_count": 25,
      "outputs": [
        {
          "output_type": "stream",
          "name": "stdout",
          "text": [
            "matrix1:\n",
            "[[0 1]\n",
            " [2 3]]\n",
            "matrix1.dot(matrix2):\n",
            "[[ 3  4]\n",
            " [11 16]]\n",
            "np.dot(matrix1, matrix2):\n",
            "[[ 3  4]\n",
            " [11 16]]\n"
          ]
        }
      ]
    },
    {
      "cell_type": "markdown",
      "metadata": {
        "id": "c6sRktheddDR"
      },
      "source": [
        "`transpose()` 함수로 전치 행렬을 만들겠습니다. 두 형식으로 쓸 수 있습니다."
      ]
    },
    {
      "cell_type": "code",
      "metadata": {
        "colab": {
          "base_uri": "https://localhost:8080/"
        },
        "id": "n9_QCcMEdRSs",
        "outputId": "25695b48-122a-4838-fae1-1af2c3b3f528"
      },
      "source": [
        "print('matrix1:')\n",
        "print(matrix1)\n",
        "print('matrix1.transpose():')\n",
        "print(matrix1.transpose())\n",
        "print('np.transpose(matrix1):')\n",
        "print(np.transpose(matrix1))"
      ],
      "execution_count": 26,
      "outputs": [
        {
          "output_type": "stream",
          "name": "stdout",
          "text": [
            "matrix1:\n",
            "[[0 1]\n",
            " [2 3]]\n",
            "matrix1.transpose():\n",
            "[[0 2]\n",
            " [1 3]]\n",
            "np.transpose(matrix1):\n",
            "[[0 2]\n",
            " [1 3]]\n"
          ]
        }
      ]
    },
    {
      "cell_type": "markdown",
      "metadata": {
        "id": "1NYa7ebAdhIQ"
      },
      "source": [
        "`linalg.inv()` 함수로 역행렬을 구하겠습니다."
      ]
    },
    {
      "cell_type": "code",
      "metadata": {
        "colab": {
          "base_uri": "https://localhost:8080/"
        },
        "id": "aeIHcQDMdPZm",
        "outputId": "fbfb7601-9183-4fa6-f940-f13696d740e2"
      },
      "source": [
        "print('matrix1:')\n",
        "print(matrix1)\n",
        "print('np.linalg.inv(matrix1):')\n",
        "print(np.linalg.inv(matrix1))"
      ],
      "execution_count": 27,
      "outputs": [
        {
          "output_type": "stream",
          "name": "stdout",
          "text": [
            "matrix1:\n",
            "[[0 1]\n",
            " [2 3]]\n",
            "np.linalg.inv(matrix1):\n",
            "[[-1.5  0.5]\n",
            " [ 1.   0. ]]\n"
          ]
        }
      ]
    },
    {
      "cell_type": "markdown",
      "metadata": {
        "id": "PjBtqlndd_jR"
      },
      "source": [
        "`linalg.det()` 함수로 행렬식을 구하겠습니다."
      ]
    },
    {
      "cell_type": "code",
      "metadata": {
        "colab": {
          "base_uri": "https://localhost:8080/"
        },
        "id": "MLhX98GueEex",
        "outputId": "af33d918-8ea0-48dd-af92-b3b0c256a99b"
      },
      "source": [
        "print('matrix1:')\n",
        "print(matrix1)\n",
        "print('np.linalg.det(matrix1):')\n",
        "print(np.linalg.det(matrix1))"
      ],
      "execution_count": 28,
      "outputs": [
        {
          "output_type": "stream",
          "name": "stdout",
          "text": [
            "matrix1:\n",
            "[[0 1]\n",
            " [2 3]]\n",
            "np.linalg.det(matrix1):\n",
            "-2.0\n"
          ]
        }
      ]
    },
    {
      "cell_type": "markdown",
      "metadata": {
        "id": "ecT7htwK_H5z"
      },
      "source": [
        "## **1.4. 배열 인덱싱 하기**"
      ]
    },
    {
      "cell_type": "markdown",
      "metadata": {
        "id": "LWD_pqvbfz9b"
      },
      "source": [
        "배열을 인덱싱 할 때 조건에 부합하는 원소를 인덱싱 할 수 있습니다."
      ]
    },
    {
      "cell_type": "code",
      "metadata": {
        "colab": {
          "base_uri": "https://localhost:8080/"
        },
        "id": "r-R5bL4Qlr4p",
        "outputId": "4a9d4d5d-b69c-44dc-967e-55f38d975841"
      },
      "source": [
        "list_indexing = np.arange(30)\n",
        "print(f'list_indexing > 15: {list_indexing[list_indexing > 15]}')\n",
        "print(f'list_indexing / 5 == 5: {list_indexing[list_indexing / 5 == 5]}')"
      ],
      "execution_count": 29,
      "outputs": [
        {
          "output_type": "stream",
          "name": "stdout",
          "text": [
            "list_indexing > 15: [16 17 18 19 20 21 22 23 24 25 26 27 28 29]\n",
            "list_indexing / 5 == 5: [25]\n"
          ]
        }
      ]
    },
    {
      "cell_type": "markdown",
      "metadata": {
        "id": "W9gI4BsD_OuX"
      },
      "source": [
        "## **1.5. 배열 슬라이싱 하기**"
      ]
    },
    {
      "cell_type": "markdown",
      "metadata": {
        "id": "zE09qUbwlixO"
      },
      "source": [
        "배열 슬라이싱은 간혹 끝 위치 숫자가 헷갈릴 수 있습니다. 반드시 끝 위치-1까지 슬라이싱 한다는 점을 유의해야 합니다.\n",
        "\n",
        "팁이라면 '끝 위치'에서 '시작 위치'를 뺀 값을 슬라이싱 할 개수로 여기고, 시작 위치에서 그 개수만큼 배열 슬라이싱 한다고 생각하면 수월합니다.\n",
        "\n",
        "아래 코드를 토대로 예시합니다."
      ]
    },
    {
      "cell_type": "code",
      "metadata": {
        "colab": {
          "base_uri": "https://localhost:8080/"
        },
        "id": "O7BXL-gSm3EX",
        "outputId": "933a6af1-6437-452a-8d63-04a2ee183f66"
      },
      "source": [
        "example_slicing = np.array([0, 3, 6, 2, 10, 66, 21])\n",
        "example_slicing[2:5]"
      ],
      "execution_count": 30,
      "outputs": [
        {
          "output_type": "execute_result",
          "data": {
            "text/plain": [
              "array([ 6,  2, 10])"
            ]
          },
          "metadata": {},
          "execution_count": 30
        }
      ]
    },
    {
      "cell_type": "markdown",
      "metadata": {
        "id": "ZO9-_XHinDp1"
      },
      "source": [
        "2에서 4까지 원소가 반환됐습니다. 슬라이싱을 2:5만큼 했으므로 5(끝 위치) - 2(시작 위치) = 3(반환 개수)입니다. 2의 위치의 원소인 6을 포함하여 3개가 차례로 반환된 것입니다. "
      ]
    },
    {
      "cell_type": "markdown",
      "metadata": {
        "id": "60mywIYlmEI8"
      },
      "source": [
        "# **2. Pandas**"
      ]
    },
    {
      "cell_type": "markdown",
      "metadata": {
        "id": "wyQjRTXfkUQC"
      },
      "source": [
        "판다스는 데이터를 쉽게 처리할 수 있도록 특화된 라이브러리입니다. 자세한 내용은 [판다스 홈페이지](https://pandas.pydata.org)에 정리되어 있습니다."
      ]
    },
    {
      "cell_type": "markdown",
      "metadata": {
        "id": "R1Woq0WsRxot"
      },
      "source": [
        "## **2.1. 데이터 구조 만들기**"
      ]
    },
    {
      "cell_type": "markdown",
      "metadata": {
        "id": "rgX-yGxZR915"
      },
      "source": [
        "`Series()` 메서드를 사용하여 라벨이 있는 1차원 데이터를 생성할 수 있습니다. 이 데이터의 형식은 'Series'입니다.\n",
        "\n",
        "아래는 이에 대한 예시입니다. 숫자, 문자열, 공백을 함께 포함시키겠습니다. 여기서 공백은 넘파이의 공백을 나타내는 `np.nan` 형태로 취합니다. "
      ]
    },
    {
      "cell_type": "code",
      "metadata": {
        "colab": {
          "base_uri": "https://localhost:8080/"
        },
        "id": "nSifYt5SStKT",
        "outputId": "d9770418-3e94-4857-ef1b-c6ffde60afc8"
      },
      "source": [
        "import numpy as np\n",
        "import pandas as pd\n",
        "\n",
        "# 대부분 리스트를 사용합니다. \n",
        "series1 = pd.Series([11, 22, 'a', 'b', np.nan, 33])\n",
        "series1"
      ],
      "execution_count": 31,
      "outputs": [
        {
          "output_type": "execute_result",
          "data": {
            "text/plain": [
              "0     11\n",
              "1     22\n",
              "2      a\n",
              "3      b\n",
              "4    NaN\n",
              "5     33\n",
              "dtype: object"
            ]
          },
          "metadata": {},
          "execution_count": 31
        }
      ]
    },
    {
      "cell_type": "markdown",
      "metadata": {
        "id": "Bi1xySlkS_Ro"
      },
      "source": [
        "첫째 열의 라벨은 'index'입니다. 0부터 오름차순으로 부여되며 데이터의 순서를 의미합니다. 둘째 열은 'values'입니다. 데이터의 값을 의미합니다."
      ]
    },
    {
      "cell_type": "markdown",
      "metadata": {
        "id": "KZOT1NCpVLuc"
      },
      "source": [
        "이 데이터의 열을 따로 가져올 수 있습니다. 아래에서 예시하겠습니다."
      ]
    },
    {
      "cell_type": "code",
      "metadata": {
        "colab": {
          "base_uri": "https://localhost:8080/"
        },
        "id": "g4COcES-T7rB",
        "outputId": "363925e3-766f-4cce-d724-b086907654fa"
      },
      "source": [
        "print(series1.index)\n",
        "# 배열 형식을 살피기 위해 `print()` 함수를 사용하지 않습니다.\n",
        "series1.values"
      ],
      "execution_count": 32,
      "outputs": [
        {
          "output_type": "stream",
          "name": "stdout",
          "text": [
            "RangeIndex(start=0, stop=6, step=1)\n"
          ]
        },
        {
          "output_type": "execute_result",
          "data": {
            "text/plain": [
              "array([11, 22, 'a', 'b', nan, 33], dtype=object)"
            ]
          },
          "metadata": {},
          "execution_count": 32
        }
      ]
    },
    {
      "cell_type": "markdown",
      "metadata": {
        "id": "6cFkNaD_UYD_"
      },
      "source": [
        "배열 형식은 넘파이입니다."
      ]
    },
    {
      "cell_type": "markdown",
      "metadata": {
        "id": "OCE1Wo3DVN7i"
      },
      "source": [
        "위에서는 인덱스가 0부터 오름차순으로 부여됐습니다. 원하는 인덱스를 따로 지정하려면 `index=리스트명`을 `Series()` 메서드에 전달합니다."
      ]
    },
    {
      "cell_type": "code",
      "metadata": {
        "colab": {
          "base_uri": "https://localhost:8080/"
        },
        "id": "N__2am4hVnCo",
        "outputId": "a7ae0f84-e1ae-4187-f7f2-c3e8d1aee236"
      },
      "source": [
        "index1 = ['그저께', '어제', '오늘', '내일', '내일모레']\n",
        "series2 = pd.Series([50, 100, 20, np.nan, '휴식'], index=index1)\n",
        "series2"
      ],
      "execution_count": 33,
      "outputs": [
        {
          "output_type": "execute_result",
          "data": {
            "text/plain": [
              "그저께      50\n",
              "어제      100\n",
              "오늘       20\n",
              "내일      NaN\n",
              "내일모레     휴식\n",
              "dtype: object"
            ]
          },
          "metadata": {},
          "execution_count": 33
        }
      ]
    },
    {
      "cell_type": "markdown",
      "metadata": {
        "id": "YowXbgYgWSC6"
      },
      "source": [
        "딕셔너리 형식으로 인덱스(index)와 데이터(values)를 한 번에 입력할 수도 있습니다."
      ]
    },
    {
      "cell_type": "code",
      "metadata": {
        "colab": {
          "base_uri": "https://localhost:8080/"
        },
        "id": "QbY9GsXhWaia",
        "outputId": "dcc23340-e9ec-4c05-c086-1deb498605f0"
      },
      "source": [
        "series3 = pd.Series({'자전거': 150, '신발': 20, '바지':10, '헬멧': 15})\n",
        "series3"
      ],
      "execution_count": 34,
      "outputs": [
        {
          "output_type": "execute_result",
          "data": {
            "text/plain": [
              "자전거    150\n",
              "신발      20\n",
              "바지      10\n",
              "헬멧      15\n",
              "dtype: int64"
            ]
          },
          "metadata": {},
          "execution_count": 34
        }
      ]
    },
    {
      "cell_type": "markdown",
      "metadata": {
        "id": "XPSGaC3AXFsA"
      },
      "source": [
        "`date_range()` 메서드는 지정한 기간만큼 날짜를 생성합니다. 날짜 형식은 'yyyy-mm-dd'로 지정하겠습니다. 추가로 'yyyy.mm.dd', 'yyyy/mm/dd', 'mm-dd-yyyy', 'mm.dd.yyyy', 'mm/dd/yyyy' 모두 가능합니다. 단 생성되는 날짜의 형식은 모두 'yyyy-mm-dd'입니다."
      ]
    },
    {
      "cell_type": "code",
      "metadata": {
        "colab": {
          "base_uri": "https://localhost:8080/"
        },
        "id": "pESzKYOEXO95",
        "outputId": "a0688c27-2983-4983-cfc4-6c6cb504fbc7"
      },
      "source": [
        "print(pd.date_range(start='2021-10-04', end='2021-10-09'))\n",
        "# `periods` 매개변수에 값을 지정하면 기간만큼 날짜를 생성합니다.\n",
        "print(pd.date_range(start='2021-10-04', periods=6))"
      ],
      "execution_count": 35,
      "outputs": [
        {
          "output_type": "stream",
          "name": "stdout",
          "text": [
            "DatetimeIndex(['2021-10-04', '2021-10-05', '2021-10-06', '2021-10-07',\n",
            "               '2021-10-08', '2021-10-09'],\n",
            "              dtype='datetime64[ns]', freq='D')\n",
            "DatetimeIndex(['2021-10-04', '2021-10-05', '2021-10-06', '2021-10-07',\n",
            "               '2021-10-08', '2021-10-09'],\n",
            "              dtype='datetime64[ns]', freq='D')\n"
          ]
        }
      ]
    },
    {
      "cell_type": "markdown",
      "metadata": {
        "id": "201g5ldjZI9Y"
      },
      "source": [
        "`date_range()` 메서드의 매개변수인 `freq`에 값을 지정하면 원하는 주기로 날짜를 생성할 수 있습니다. 아래는 그 값의 목록입니다.\n",
        "\n",
        "- `D`: 하루(Day) 주기입니다. 이틀 주기로 생성하려면 `2D`입니다.\n",
        "\n",
        "- `B`: 업무일(Business day, 월~금) 주기입니다. `3B`도 가능합니다.\n",
        "\n",
        "- `W`: 일주일(Week) 주기입니다. 일요일 시작은 `W` 또는 `W-SUN`이며, 월요일 시작은 `W-MON`입니다.\n",
        "\n",
        "- `M`: 월말(Month end) 날짜 주기입니다. 한 달 주기는 `M`, 네 달 주기는 `4M`입니다.\n",
        "\n",
        "- `BM`: 업무 월말(Business month end) 날짜 주기입니다. `2BM`도 가능합니다.\n",
        "\n",
        "- `MS`: 월초(Month start) 날짜 주기입니다. 위 인자들처럼 `MS` 앞에 숫자를 붙일 수 있습니다.\n",
        "\n",
        "- `BMS`: 업무 월초(Business month start) 날짜 주기입니다. 똑같이 숫자를 붙일 수 있습니다. 이하 인자들도 같습니다.\n",
        "\n",
        "- `Q`: 분기말(Quater end) 날짜 주기입니다.\n",
        "\n",
        "- `BQ`: 업무 분기말(Business quater end) 날짜 주기입니다. \n",
        "\n",
        "- `QS`: 분기초(Quater start) 날짜 주기입니다. \n",
        "\n",
        "- `BQS`: 업무 분기초(Business quater start) 날짜 주기입니다.\n",
        "\n",
        "- `A`: 연말(Year end) 날짜 주기입니다.\n",
        "\n",
        "- `BA`: 업무 연말(Business year end) 날짜 주기입니다.\n",
        "\n",
        "- `AS`: 연초(Year start) 날짜 주기입니다.\n",
        "\n",
        "- `BAS`: 업무 연초(Business year start) 날짜 주기입니다.\n",
        "\n",
        "- `H`: 시간(Hour) 주기입니다.\n",
        "\n",
        "- `BH`: 업무 시간(Business hour) 주기입니다. 9:00 ~ 17:00를 기준으로 갖습니다.\n",
        "\n",
        "- `T`, `min`: 분(Minute) 주기입니다.\n",
        "\n",
        "- `S`: 초(Second) 주기입니다."
      ]
    },
    {
      "cell_type": "markdown",
      "metadata": {
        "id": "S4rbx676d6Os"
      },
      "source": [
        "아래에 몇 가지 예시를 들겠습니다. 먼저 다섯 날을 4일 간격으로 생성합니다."
      ]
    },
    {
      "cell_type": "code",
      "metadata": {
        "colab": {
          "base_uri": "https://localhost:8080/"
        },
        "id": "alRYo6ntd8Lv",
        "outputId": "1c0d2099-7c1f-4310-fd38-ff67d645791d"
      },
      "source": [
        "pd.date_range(start='2021-10-04', periods=5, freq='4D')"
      ],
      "execution_count": 36,
      "outputs": [
        {
          "output_type": "execute_result",
          "data": {
            "text/plain": [
              "DatetimeIndex(['2021-10-04', '2021-10-08', '2021-10-12', '2021-10-16',\n",
              "               '2021-10-20'],\n",
              "              dtype='datetime64[ns]', freq='4D')"
            ]
          },
          "metadata": {},
          "execution_count": 36
        }
      ]
    },
    {
      "cell_type": "markdown",
      "metadata": {
        "id": "QkFvFcwoeQ2C"
      },
      "source": [
        "3주일씩 증가시키겠습니다."
      ]
    },
    {
      "cell_type": "code",
      "metadata": {
        "colab": {
          "base_uri": "https://localhost:8080/"
        },
        "id": "HZKieY-WeP9C",
        "outputId": "a49ab0d3-53ca-4233-b172-44878d04de70"
      },
      "source": [
        "pd.date_range(start='2021-10-04', periods=5, freq='3W')"
      ],
      "execution_count": 37,
      "outputs": [
        {
          "output_type": "execute_result",
          "data": {
            "text/plain": [
              "DatetimeIndex(['2021-10-10', '2021-10-31', '2021-11-21', '2021-12-12',\n",
              "               '2022-01-02'],\n",
              "              dtype='datetime64[ns]', freq='3W-SUN')"
            ]
          },
          "metadata": {},
          "execution_count": 37
        }
      ]
    },
    {
      "cell_type": "markdown",
      "metadata": {
        "id": "XEw_NYe0en3U"
      },
      "source": [
        "업무일 월초 날짜를 생성하겠습니다."
      ]
    },
    {
      "cell_type": "code",
      "metadata": {
        "colab": {
          "base_uri": "https://localhost:8080/"
        },
        "id": "LcS6hHI8e4aA",
        "outputId": "cf8b8752-1560-451c-a6fb-40b95f8f28ec"
      },
      "source": [
        "pd.date_range(start='2021-10-04', periods=5, freq='BMS')"
      ],
      "execution_count": 38,
      "outputs": [
        {
          "output_type": "execute_result",
          "data": {
            "text/plain": [
              "DatetimeIndex(['2021-11-01', '2021-12-01', '2022-01-03', '2022-02-01',\n",
              "               '2022-03-01'],\n",
              "              dtype='datetime64[ns]', freq='BMS')"
            ]
          },
          "metadata": {},
          "execution_count": 38
        }
      ]
    },
    {
      "cell_type": "markdown",
      "metadata": {
        "id": "y8sBKFyge-7n"
      },
      "source": [
        "업무일 월말 날짜를 두 달 간격으로 생성하겠습니다."
      ]
    },
    {
      "cell_type": "code",
      "metadata": {
        "colab": {
          "base_uri": "https://localhost:8080/"
        },
        "id": "VInBrkkkfBD0",
        "outputId": "8b1e78d6-1f0d-4038-c56b-ee33f130901b"
      },
      "source": [
        "pd.date_range(start='2021-10-04', periods=5, freq='2BM')"
      ],
      "execution_count": 39,
      "outputs": [
        {
          "output_type": "execute_result",
          "data": {
            "text/plain": [
              "DatetimeIndex(['2021-10-29', '2021-12-31', '2022-02-28', '2022-04-29',\n",
              "               '2022-06-30'],\n",
              "              dtype='datetime64[ns]', freq='2BM')"
            ]
          },
          "metadata": {},
          "execution_count": 39
        }
      ]
    },
    {
      "cell_type": "markdown",
      "metadata": {
        "id": "eg0l3JOlfSOb"
      },
      "source": [
        "업무일 분기초 날짜를 생성하겠습니다. "
      ]
    },
    {
      "cell_type": "code",
      "metadata": {
        "colab": {
          "base_uri": "https://localhost:8080/"
        },
        "id": "0-lZhYaefWAp",
        "outputId": "0e11387e-c306-480b-8050-706f2f511722"
      },
      "source": [
        "pd.date_range(start='2021-10-04', periods=5, freq='BQS')"
      ],
      "execution_count": 40,
      "outputs": [
        {
          "output_type": "execute_result",
          "data": {
            "text/plain": [
              "DatetimeIndex(['2022-01-03', '2022-04-01', '2022-07-01', '2022-10-03',\n",
              "               '2023-01-02'],\n",
              "              dtype='datetime64[ns]', freq='BQS-JAN')"
            ]
          },
          "metadata": {},
          "execution_count": 40
        }
      ]
    },
    {
      "cell_type": "markdown",
      "metadata": {
        "id": "CyKExbfCfyRm"
      },
      "source": [
        "내용을 응용하여 시리즈를 생성하겠습니다."
      ]
    },
    {
      "cell_type": "code",
      "metadata": {
        "colab": {
          "base_uri": "https://localhost:8080/"
        },
        "id": "LaZqDnqnf5BF",
        "outputId": "26e4f7a4-3b8d-4990-e776-2638b9a2830e"
      },
      "source": [
        "date_index = pd.date_range(start='2021-06-01', periods=5, freq='M')\n",
        "num_values = [100, 241, 213, 152, 656]\n",
        "pd.Series(num_values, index=date_index)"
      ],
      "execution_count": 41,
      "outputs": [
        {
          "output_type": "execute_result",
          "data": {
            "text/plain": [
              "2021-06-30    100\n",
              "2021-07-31    241\n",
              "2021-08-31    213\n",
              "2021-09-30    152\n",
              "2021-10-31    656\n",
              "Freq: M, dtype: int64"
            ]
          },
          "metadata": {},
          "execution_count": 41
        }
      ]
    },
    {
      "cell_type": "markdown",
      "metadata": {
        "id": "3vQ1voWOg8hn"
      },
      "source": [
        "위에서는 `Series()` 메서드를 사용해서 1차원 데이터 구조를 만들었습니다. `DataFrame()` 메서드는 2차원 데이터 구조를 만듭니다. 이 메서드도 첫 열에 인덱스를 숫자형 라벨로 자동으로 부여하지만, 차이점이라면 칼럼도 숫자형 라벨로 자동으로 부여합니다. 물론 인덱스와 칼럼 모두 라벨을 직접 지정할 수 있습니다.\n",
        "\n",
        "먼저 간단하게 예시하겠습니다."
      ]
    },
    {
      "cell_type": "code",
      "metadata": {
        "colab": {
          "base_uri": "https://localhost:8080/",
          "height": 111
        },
        "id": "uEHeyncOhWoh",
        "outputId": "67335b7d-9445-4554-bc79-2e8723b38ef0"
      },
      "source": [
        "# 데이터 프레임을 생성하려면 2차원 리스트를 사용해야 합니다.\n",
        "pd.DataFrame([[11, 22, 33, 44], [55, 66, 77, 88]])"
      ],
      "execution_count": 42,
      "outputs": [
        {
          "output_type": "execute_result",
          "data": {
            "text/html": [
              "<div>\n",
              "<style scoped>\n",
              "    .dataframe tbody tr th:only-of-type {\n",
              "        vertical-align: middle;\n",
              "    }\n",
              "\n",
              "    .dataframe tbody tr th {\n",
              "        vertical-align: top;\n",
              "    }\n",
              "\n",
              "    .dataframe thead th {\n",
              "        text-align: right;\n",
              "    }\n",
              "</style>\n",
              "<table border=\"1\" class=\"dataframe\">\n",
              "  <thead>\n",
              "    <tr style=\"text-align: right;\">\n",
              "      <th></th>\n",
              "      <th>0</th>\n",
              "      <th>1</th>\n",
              "      <th>2</th>\n",
              "      <th>3</th>\n",
              "    </tr>\n",
              "  </thead>\n",
              "  <tbody>\n",
              "    <tr>\n",
              "      <th>0</th>\n",
              "      <td>11</td>\n",
              "      <td>22</td>\n",
              "      <td>33</td>\n",
              "      <td>44</td>\n",
              "    </tr>\n",
              "    <tr>\n",
              "      <th>1</th>\n",
              "      <td>55</td>\n",
              "      <td>66</td>\n",
              "      <td>77</td>\n",
              "      <td>88</td>\n",
              "    </tr>\n",
              "  </tbody>\n",
              "</table>\n",
              "</div>"
            ],
            "text/plain": [
              "    0   1   2   3\n",
              "0  11  22  33  44\n",
              "1  55  66  77  88"
            ]
          },
          "metadata": {},
          "execution_count": 42
        }
      ]
    },
    {
      "cell_type": "markdown",
      "metadata": {
        "id": "j3r_IzIViigU"
      },
      "source": [
        "넘파이 배열로도 values를 전달할 수 있습니다."
      ]
    },
    {
      "cell_type": "code",
      "metadata": {
        "colab": {
          "base_uri": "https://localhost:8080/",
          "height": 142
        },
        "id": "ka4O4pUWisgm",
        "outputId": "1b651c60-590c-4555-c49c-4adab8f29f51"
      },
      "source": [
        "np_nums = np.array([[11, 22, 33], [44, 55, 66], [77, 88, 99]])\n",
        "pd.DataFrame(np_nums)"
      ],
      "execution_count": 43,
      "outputs": [
        {
          "output_type": "execute_result",
          "data": {
            "text/html": [
              "<div>\n",
              "<style scoped>\n",
              "    .dataframe tbody tr th:only-of-type {\n",
              "        vertical-align: middle;\n",
              "    }\n",
              "\n",
              "    .dataframe tbody tr th {\n",
              "        vertical-align: top;\n",
              "    }\n",
              "\n",
              "    .dataframe thead th {\n",
              "        text-align: right;\n",
              "    }\n",
              "</style>\n",
              "<table border=\"1\" class=\"dataframe\">\n",
              "  <thead>\n",
              "    <tr style=\"text-align: right;\">\n",
              "      <th></th>\n",
              "      <th>0</th>\n",
              "      <th>1</th>\n",
              "      <th>2</th>\n",
              "    </tr>\n",
              "  </thead>\n",
              "  <tbody>\n",
              "    <tr>\n",
              "      <th>0</th>\n",
              "      <td>11</td>\n",
              "      <td>22</td>\n",
              "      <td>33</td>\n",
              "    </tr>\n",
              "    <tr>\n",
              "      <th>1</th>\n",
              "      <td>44</td>\n",
              "      <td>55</td>\n",
              "      <td>66</td>\n",
              "    </tr>\n",
              "    <tr>\n",
              "      <th>2</th>\n",
              "      <td>77</td>\n",
              "      <td>88</td>\n",
              "      <td>99</td>\n",
              "    </tr>\n",
              "  </tbody>\n",
              "</table>\n",
              "</div>"
            ],
            "text/plain": [
              "    0   1   2\n",
              "0  11  22  33\n",
              "1  44  55  66\n",
              "2  77  88  99"
            ]
          },
          "metadata": {},
          "execution_count": 43
        }
      ]
    },
    {
      "cell_type": "markdown",
      "metadata": {
        "id": "hRs6mJU6jHgx"
      },
      "source": [
        "인덱스와 칼럼명까지 함께 지정하여 데이터 프레임을 만들겠습니다."
      ]
    },
    {
      "cell_type": "code",
      "metadata": {
        "colab": {
          "base_uri": "https://localhost:8080/",
          "height": 142
        },
        "id": "4fQlEH25jMIs",
        "outputId": "efd2bf32-83eb-4add-e138-4eb30361dbf0"
      },
      "source": [
        "np_nums1 = np.array([[42, 27, 54], [36, 75, 97], [33, 15, 26]])\n",
        "date_index = pd.date_range('2021-10-09', periods=3, freq='3H')\n",
        "col_list = ['사과', '배', '포도']\n",
        "pd.DataFrame(np_nums1, index=date_index, columns=col_list)"
      ],
      "execution_count": 44,
      "outputs": [
        {
          "output_type": "execute_result",
          "data": {
            "text/html": [
              "<div>\n",
              "<style scoped>\n",
              "    .dataframe tbody tr th:only-of-type {\n",
              "        vertical-align: middle;\n",
              "    }\n",
              "\n",
              "    .dataframe tbody tr th {\n",
              "        vertical-align: top;\n",
              "    }\n",
              "\n",
              "    .dataframe thead th {\n",
              "        text-align: right;\n",
              "    }\n",
              "</style>\n",
              "<table border=\"1\" class=\"dataframe\">\n",
              "  <thead>\n",
              "    <tr style=\"text-align: right;\">\n",
              "      <th></th>\n",
              "      <th>사과</th>\n",
              "      <th>배</th>\n",
              "      <th>포도</th>\n",
              "    </tr>\n",
              "  </thead>\n",
              "  <tbody>\n",
              "    <tr>\n",
              "      <th>2021-10-09 00:00:00</th>\n",
              "      <td>42</td>\n",
              "      <td>27</td>\n",
              "      <td>54</td>\n",
              "    </tr>\n",
              "    <tr>\n",
              "      <th>2021-10-09 03:00:00</th>\n",
              "      <td>36</td>\n",
              "      <td>75</td>\n",
              "      <td>97</td>\n",
              "    </tr>\n",
              "    <tr>\n",
              "      <th>2021-10-09 06:00:00</th>\n",
              "      <td>33</td>\n",
              "      <td>15</td>\n",
              "      <td>26</td>\n",
              "    </tr>\n",
              "  </tbody>\n",
              "</table>\n",
              "</div>"
            ],
            "text/plain": [
              "                     사과   배  포도\n",
              "2021-10-09 00:00:00  42  27  54\n",
              "2021-10-09 03:00:00  36  75  97\n",
              "2021-10-09 06:00:00  33  15  26"
            ]
          },
          "metadata": {},
          "execution_count": 44
        }
      ]
    },
    {
      "cell_type": "markdown",
      "metadata": {
        "id": "vlUdWYUv3zWM"
      },
      "source": [
        "딕셔너리로 데이터 프레임을 만들겠습니다."
      ]
    },
    {
      "cell_type": "code",
      "metadata": {
        "colab": {
          "base_uri": "https://localhost:8080/",
          "height": 173
        },
        "id": "2dM6sI8q33TW",
        "outputId": "590399f2-e545-41e5-9688-5b07f281c359"
      },
      "source": [
        "dic_data1 = {'입대일': ['2012-09-12', '2012-09-12', '2012-09-12', '2012-09-12'],\n",
        "            '군번': [20129948, 20129593, 20129302, 20129352],\n",
        "            '이름': ['이승민', '김대철', '장비호', '이진해'],\n",
        "            '보직': [20, 30, 10, 30]}\n",
        "pd.DataFrame(dic_data1)"
      ],
      "execution_count": 45,
      "outputs": [
        {
          "output_type": "execute_result",
          "data": {
            "text/html": [
              "<div>\n",
              "<style scoped>\n",
              "    .dataframe tbody tr th:only-of-type {\n",
              "        vertical-align: middle;\n",
              "    }\n",
              "\n",
              "    .dataframe tbody tr th {\n",
              "        vertical-align: top;\n",
              "    }\n",
              "\n",
              "    .dataframe thead th {\n",
              "        text-align: right;\n",
              "    }\n",
              "</style>\n",
              "<table border=\"1\" class=\"dataframe\">\n",
              "  <thead>\n",
              "    <tr style=\"text-align: right;\">\n",
              "      <th></th>\n",
              "      <th>입대일</th>\n",
              "      <th>군번</th>\n",
              "      <th>이름</th>\n",
              "      <th>보직</th>\n",
              "    </tr>\n",
              "  </thead>\n",
              "  <tbody>\n",
              "    <tr>\n",
              "      <th>0</th>\n",
              "      <td>2012-09-12</td>\n",
              "      <td>20129948</td>\n",
              "      <td>이승민</td>\n",
              "      <td>20</td>\n",
              "    </tr>\n",
              "    <tr>\n",
              "      <th>1</th>\n",
              "      <td>2012-09-12</td>\n",
              "      <td>20129593</td>\n",
              "      <td>김대철</td>\n",
              "      <td>30</td>\n",
              "    </tr>\n",
              "    <tr>\n",
              "      <th>2</th>\n",
              "      <td>2012-09-12</td>\n",
              "      <td>20129302</td>\n",
              "      <td>장비호</td>\n",
              "      <td>10</td>\n",
              "    </tr>\n",
              "    <tr>\n",
              "      <th>3</th>\n",
              "      <td>2012-09-12</td>\n",
              "      <td>20129352</td>\n",
              "      <td>이진해</td>\n",
              "      <td>30</td>\n",
              "    </tr>\n",
              "  </tbody>\n",
              "</table>\n",
              "</div>"
            ],
            "text/plain": [
              "          입대일        군번   이름  보직\n",
              "0  2012-09-12  20129948  이승민  20\n",
              "1  2012-09-12  20129593  김대철  30\n",
              "2  2012-09-12  20129302  장비호  10\n",
              "3  2012-09-12  20129352  이진해  30"
            ]
          },
          "metadata": {},
          "execution_count": 45
        }
      ]
    },
    {
      "cell_type": "markdown",
      "metadata": {
        "id": "hrGrgrK55nRN"
      },
      "source": [
        "칼럼을 재정렬하겠습니다."
      ]
    },
    {
      "cell_type": "code",
      "metadata": {
        "colab": {
          "base_uri": "https://localhost:8080/",
          "height": 173
        },
        "id": "em2Yz2LP5pn9",
        "outputId": "dcf253f0-c9a9-40c8-d01e-ed086fdd5174"
      },
      "source": [
        "pd.DataFrame(dic_data1, columns=['군번', '입대일', '이름', '보직'])"
      ],
      "execution_count": 46,
      "outputs": [
        {
          "output_type": "execute_result",
          "data": {
            "text/html": [
              "<div>\n",
              "<style scoped>\n",
              "    .dataframe tbody tr th:only-of-type {\n",
              "        vertical-align: middle;\n",
              "    }\n",
              "\n",
              "    .dataframe tbody tr th {\n",
              "        vertical-align: top;\n",
              "    }\n",
              "\n",
              "    .dataframe thead th {\n",
              "        text-align: right;\n",
              "    }\n",
              "</style>\n",
              "<table border=\"1\" class=\"dataframe\">\n",
              "  <thead>\n",
              "    <tr style=\"text-align: right;\">\n",
              "      <th></th>\n",
              "      <th>군번</th>\n",
              "      <th>입대일</th>\n",
              "      <th>이름</th>\n",
              "      <th>보직</th>\n",
              "    </tr>\n",
              "  </thead>\n",
              "  <tbody>\n",
              "    <tr>\n",
              "      <th>0</th>\n",
              "      <td>20129948</td>\n",
              "      <td>2012-09-12</td>\n",
              "      <td>이승민</td>\n",
              "      <td>20</td>\n",
              "    </tr>\n",
              "    <tr>\n",
              "      <th>1</th>\n",
              "      <td>20129593</td>\n",
              "      <td>2012-09-12</td>\n",
              "      <td>김대철</td>\n",
              "      <td>30</td>\n",
              "    </tr>\n",
              "    <tr>\n",
              "      <th>2</th>\n",
              "      <td>20129302</td>\n",
              "      <td>2012-09-12</td>\n",
              "      <td>장비호</td>\n",
              "      <td>10</td>\n",
              "    </tr>\n",
              "    <tr>\n",
              "      <th>3</th>\n",
              "      <td>20129352</td>\n",
              "      <td>2012-09-12</td>\n",
              "      <td>이진해</td>\n",
              "      <td>30</td>\n",
              "    </tr>\n",
              "  </tbody>\n",
              "</table>\n",
              "</div>"
            ],
            "text/plain": [
              "         군번         입대일   이름  보직\n",
              "0  20129948  2012-09-12  이승민  20\n",
              "1  20129593  2012-09-12  김대철  30\n",
              "2  20129302  2012-09-12  장비호  10\n",
              "3  20129352  2012-09-12  이진해  30"
            ]
          },
          "metadata": {},
          "execution_count": 46
        }
      ]
    },
    {
      "cell_type": "markdown",
      "metadata": {
        "id": "IiL8ZLzY5-nI"
      },
      "source": [
        "## **2.2. 데이터 연산하기**"
      ]
    },
    {
      "cell_type": "markdown",
      "metadata": {
        "id": "Re9dQdVN6Roy"
      },
      "source": [
        "시리즈끼리 데이터를 연산할 수 있습니다. 단 연산할 대상이 없는 경우는 'NaN'으로 처리됩니다."
      ]
    },
    {
      "cell_type": "code",
      "metadata": {
        "colab": {
          "base_uri": "https://localhost:8080/"
        },
        "id": "8KYJReT16DY4",
        "outputId": "6c3e4949-819c-40df-ffd1-7a8e55afc805"
      },
      "source": [
        "series4 = pd.Series(['영', 1, 2, 3])\n",
        "series5 = pd.Series([4, 5, 6, 7, 8])\n",
        "series4 * series5"
      ],
      "execution_count": 47,
      "outputs": [
        {
          "output_type": "execute_result",
          "data": {
            "text/plain": [
              "0    영영영영\n",
              "1       5\n",
              "2      12\n",
              "3      21\n",
              "4     NaN\n",
              "dtype: object"
            ]
          },
          "metadata": {},
          "execution_count": 47
        }
      ]
    },
    {
      "cell_type": "markdown",
      "metadata": {
        "id": "m-uRjA4j7EY0"
      },
      "source": [
        "데이터 프레임끼리도 연산이 가능합니다. 시리즈처럼 연산이 불가능한 경우는 'NaN'으로 처리됩니다."
      ]
    },
    {
      "cell_type": "code",
      "metadata": {
        "colab": {
          "base_uri": "https://localhost:8080/",
          "height": 173
        },
        "id": "1DaCV7_77LMa",
        "outputId": "e1f5a70c-a94f-4a7b-db43-1b3ad8eab471"
      },
      "source": [
        "dic_data2 = {'a': [0, 1, 2],\n",
        "             'b': [3, 4, 5],\n",
        "             'c': [6, 7, 8]}\n",
        "dataframe1 = pd.DataFrame(dic_data2)\n",
        "\n",
        "dic_data3 = {'a': [10, 20, 30, 40],\n",
        "             'b': [50, 60, 70, 80],\n",
        "             'c': [90, 100, 110, 120]}\n",
        "dataframe2 = pd.DataFrame(dic_data3)\n",
        "dataframe1 + dataframe2"
      ],
      "execution_count": 48,
      "outputs": [
        {
          "output_type": "execute_result",
          "data": {
            "text/html": [
              "<div>\n",
              "<style scoped>\n",
              "    .dataframe tbody tr th:only-of-type {\n",
              "        vertical-align: middle;\n",
              "    }\n",
              "\n",
              "    .dataframe tbody tr th {\n",
              "        vertical-align: top;\n",
              "    }\n",
              "\n",
              "    .dataframe thead th {\n",
              "        text-align: right;\n",
              "    }\n",
              "</style>\n",
              "<table border=\"1\" class=\"dataframe\">\n",
              "  <thead>\n",
              "    <tr style=\"text-align: right;\">\n",
              "      <th></th>\n",
              "      <th>a</th>\n",
              "      <th>b</th>\n",
              "      <th>c</th>\n",
              "    </tr>\n",
              "  </thead>\n",
              "  <tbody>\n",
              "    <tr>\n",
              "      <th>0</th>\n",
              "      <td>10.0</td>\n",
              "      <td>53.0</td>\n",
              "      <td>96.0</td>\n",
              "    </tr>\n",
              "    <tr>\n",
              "      <th>1</th>\n",
              "      <td>21.0</td>\n",
              "      <td>64.0</td>\n",
              "      <td>107.0</td>\n",
              "    </tr>\n",
              "    <tr>\n",
              "      <th>2</th>\n",
              "      <td>32.0</td>\n",
              "      <td>75.0</td>\n",
              "      <td>118.0</td>\n",
              "    </tr>\n",
              "    <tr>\n",
              "      <th>3</th>\n",
              "      <td>NaN</td>\n",
              "      <td>NaN</td>\n",
              "      <td>NaN</td>\n",
              "    </tr>\n",
              "  </tbody>\n",
              "</table>\n",
              "</div>"
            ],
            "text/plain": [
              "      a     b      c\n",
              "0  10.0  53.0   96.0\n",
              "1  21.0  64.0  107.0\n",
              "2  32.0  75.0  118.0\n",
              "3   NaN   NaN    NaN"
            ]
          },
          "metadata": {},
          "execution_count": 48
        }
      ]
    },
    {
      "cell_type": "markdown",
      "metadata": {
        "id": "a7Z3IGHP8mVE"
      },
      "source": [
        "넘파이와 비슷하게 통계 함수를 사용할 수 있습니다. 아래는 판다스에서 사용할 수 있는 몇 가지 함수 목록입니다.\n",
        "\n",
        "- `sum()`: 합계\n",
        "\n",
        "- `mean()`: 평균\n",
        "\n",
        "- `std()`: 표준 편차\n",
        "\n",
        "- `var()`: 분산\n",
        "\n",
        "- `max()`: 최댓값\n",
        "\n",
        "- `min()`: 최솟값\n",
        "\n",
        "- `cumsum()`: 누적합\n",
        "\n",
        "- `cumprod()`: 누적곱\n",
        "\n",
        "- `median()`: 중간값\n",
        "\n",
        "- `corr()`: 상관계수\n",
        "\n",
        "- `describe()`: 원소 개수, 평균, 표준 편차, 최솟값, 최댓값. 매개변수를 `include=all`로 지정하면 고유값 개수, 최빈값, 빈도수를 추가합니다."
      ]
    },
    {
      "cell_type": "markdown",
      "metadata": {
        "id": "7R81-o2v-PGT"
      },
      "source": [
        "`describe()` 함수에 대한 예시를 들겠습니다."
      ]
    },
    {
      "cell_type": "code",
      "metadata": {
        "colab": {
          "base_uri": "https://localhost:8080/",
          "height": 531
        },
        "id": "zpGWLi4I-UsC",
        "outputId": "e40dae61-9e00-46bc-bd37-bcbac156ec89"
      },
      "source": [
        "dic_data4 = {'사과': [332, 392, 391, 295, 374],\n",
        "             '배': [102, 99, 80, 30, 143],\n",
        "             '포도': [402, 497, 306, 681, 573]}\n",
        "col_list1 = ['포도', '사과', '배']\n",
        "index2 = ['4월', '5월', '6월', '7월', '8월']\n",
        "\n",
        "dataframe3 = pd.DataFrame(dic_data4, columns=col_list1, index=index2)\n",
        "\n",
        "print(dataframe3)\n",
        "print()\n",
        "\n",
        "print('평균')\n",
        "print(dataframe3.mean())\n",
        "print()\n",
        "\n",
        "# `display` 메서드를 사용하면 데이터 프레임 형태로 출력합니다.\n",
        "display(dataframe3.describe())"
      ],
      "execution_count": 49,
      "outputs": [
        {
          "output_type": "stream",
          "name": "stdout",
          "text": [
            "     포도   사과    배\n",
            "4월  402  332  102\n",
            "5월  497  392   99\n",
            "6월  306  391   80\n",
            "7월  681  295   30\n",
            "8월  573  374  143\n",
            "\n",
            "평균\n",
            "포도    491.8\n",
            "사과    356.8\n",
            "배      90.8\n",
            "dtype: float64\n",
            "\n"
          ]
        },
        {
          "output_type": "display_data",
          "data": {
            "text/html": [
              "<div>\n",
              "<style scoped>\n",
              "    .dataframe tbody tr th:only-of-type {\n",
              "        vertical-align: middle;\n",
              "    }\n",
              "\n",
              "    .dataframe tbody tr th {\n",
              "        vertical-align: top;\n",
              "    }\n",
              "\n",
              "    .dataframe thead th {\n",
              "        text-align: right;\n",
              "    }\n",
              "</style>\n",
              "<table border=\"1\" class=\"dataframe\">\n",
              "  <thead>\n",
              "    <tr style=\"text-align: right;\">\n",
              "      <th></th>\n",
              "      <th>포도</th>\n",
              "      <th>사과</th>\n",
              "      <th>배</th>\n",
              "    </tr>\n",
              "  </thead>\n",
              "  <tbody>\n",
              "    <tr>\n",
              "      <th>count</th>\n",
              "      <td>5.000000</td>\n",
              "      <td>5.00000</td>\n",
              "      <td>5.000000</td>\n",
              "    </tr>\n",
              "    <tr>\n",
              "      <th>mean</th>\n",
              "      <td>491.800000</td>\n",
              "      <td>356.80000</td>\n",
              "      <td>90.800000</td>\n",
              "    </tr>\n",
              "    <tr>\n",
              "      <th>std</th>\n",
              "      <td>145.776198</td>\n",
              "      <td>42.24571</td>\n",
              "      <td>41.020726</td>\n",
              "    </tr>\n",
              "    <tr>\n",
              "      <th>min</th>\n",
              "      <td>306.000000</td>\n",
              "      <td>295.00000</td>\n",
              "      <td>30.000000</td>\n",
              "    </tr>\n",
              "    <tr>\n",
              "      <th>25%</th>\n",
              "      <td>402.000000</td>\n",
              "      <td>332.00000</td>\n",
              "      <td>80.000000</td>\n",
              "    </tr>\n",
              "    <tr>\n",
              "      <th>50%</th>\n",
              "      <td>497.000000</td>\n",
              "      <td>374.00000</td>\n",
              "      <td>99.000000</td>\n",
              "    </tr>\n",
              "    <tr>\n",
              "      <th>75%</th>\n",
              "      <td>573.000000</td>\n",
              "      <td>391.00000</td>\n",
              "      <td>102.000000</td>\n",
              "    </tr>\n",
              "    <tr>\n",
              "      <th>max</th>\n",
              "      <td>681.000000</td>\n",
              "      <td>392.00000</td>\n",
              "      <td>143.000000</td>\n",
              "    </tr>\n",
              "  </tbody>\n",
              "</table>\n",
              "</div>"
            ],
            "text/plain": [
              "               포도         사과           배\n",
              "count    5.000000    5.00000    5.000000\n",
              "mean   491.800000  356.80000   90.800000\n",
              "std    145.776198   42.24571   41.020726\n",
              "min    306.000000  295.00000   30.000000\n",
              "25%    402.000000  332.00000   80.000000\n",
              "50%    497.000000  374.00000   99.000000\n",
              "75%    573.000000  391.00000  102.000000\n",
              "max    681.000000  392.00000  143.000000"
            ]
          },
          "metadata": {}
        }
      ]
    },
    {
      "cell_type": "markdown",
      "metadata": {
        "id": "9TKOdidUB9HA"
      },
      "source": [
        "## **2.3. 데이터 선택하기**"
      ]
    },
    {
      "cell_type": "markdown",
      "metadata": {
        "id": "lVIFkvbBDQ8L"
      },
      "source": [
        "먼저 데이터 프레임을 이전보다 크게 생성하겠습니다."
      ]
    },
    {
      "cell_type": "code",
      "metadata": {
        "colab": {
          "base_uri": "https://localhost:8080/",
          "height": 482
        },
        "id": "UADbqPpAFOEJ",
        "outputId": "876f51e0-00b0-42f7-b61d-151c717ea0ff"
      },
      "source": [
        "dic_data5 = {'사과': [332, 392, 391, 295, 374, 333, 282],\n",
        "             '배': [102, 99, 80, 30, 143, 26, 21],\n",
        "             '포도': [402, 497, 306, 681, 573, 777, 821],\n",
        "             '딸기': [756, 741, 794, 772, 703, np.nan, np.nan],\n",
        "             '복숭아': [32, 70, 26, 154, 201, np.nan, np.nan]}\n",
        "col_list2 = ['배', '사과', '포도', '딸기', '복숭아']\n",
        "index3 = ['4월', '5월', '6월', '7월', '8월', '9월', '10월']\n",
        "\n",
        "dataframe4 = pd.DataFrame(dic_data5, columns=col_list2, index=index3)\n",
        "display(dataframe4)\n",
        "print()\n",
        "\n",
        "print(dataframe4.index)\n",
        "print()\n",
        "\n",
        "print(dataframe4.columns)\n",
        "print()\n",
        "\n",
        "print(dataframe4.values)"
      ],
      "execution_count": 50,
      "outputs": [
        {
          "output_type": "display_data",
          "data": {
            "text/html": [
              "<div>\n",
              "<style scoped>\n",
              "    .dataframe tbody tr th:only-of-type {\n",
              "        vertical-align: middle;\n",
              "    }\n",
              "\n",
              "    .dataframe tbody tr th {\n",
              "        vertical-align: top;\n",
              "    }\n",
              "\n",
              "    .dataframe thead th {\n",
              "        text-align: right;\n",
              "    }\n",
              "</style>\n",
              "<table border=\"1\" class=\"dataframe\">\n",
              "  <thead>\n",
              "    <tr style=\"text-align: right;\">\n",
              "      <th></th>\n",
              "      <th>배</th>\n",
              "      <th>사과</th>\n",
              "      <th>포도</th>\n",
              "      <th>딸기</th>\n",
              "      <th>복숭아</th>\n",
              "    </tr>\n",
              "  </thead>\n",
              "  <tbody>\n",
              "    <tr>\n",
              "      <th>4월</th>\n",
              "      <td>102</td>\n",
              "      <td>332</td>\n",
              "      <td>402</td>\n",
              "      <td>756.0</td>\n",
              "      <td>32.0</td>\n",
              "    </tr>\n",
              "    <tr>\n",
              "      <th>5월</th>\n",
              "      <td>99</td>\n",
              "      <td>392</td>\n",
              "      <td>497</td>\n",
              "      <td>741.0</td>\n",
              "      <td>70.0</td>\n",
              "    </tr>\n",
              "    <tr>\n",
              "      <th>6월</th>\n",
              "      <td>80</td>\n",
              "      <td>391</td>\n",
              "      <td>306</td>\n",
              "      <td>794.0</td>\n",
              "      <td>26.0</td>\n",
              "    </tr>\n",
              "    <tr>\n",
              "      <th>7월</th>\n",
              "      <td>30</td>\n",
              "      <td>295</td>\n",
              "      <td>681</td>\n",
              "      <td>772.0</td>\n",
              "      <td>154.0</td>\n",
              "    </tr>\n",
              "    <tr>\n",
              "      <th>8월</th>\n",
              "      <td>143</td>\n",
              "      <td>374</td>\n",
              "      <td>573</td>\n",
              "      <td>703.0</td>\n",
              "      <td>201.0</td>\n",
              "    </tr>\n",
              "    <tr>\n",
              "      <th>9월</th>\n",
              "      <td>26</td>\n",
              "      <td>333</td>\n",
              "      <td>777</td>\n",
              "      <td>NaN</td>\n",
              "      <td>NaN</td>\n",
              "    </tr>\n",
              "    <tr>\n",
              "      <th>10월</th>\n",
              "      <td>21</td>\n",
              "      <td>282</td>\n",
              "      <td>821</td>\n",
              "      <td>NaN</td>\n",
              "      <td>NaN</td>\n",
              "    </tr>\n",
              "  </tbody>\n",
              "</table>\n",
              "</div>"
            ],
            "text/plain": [
              "       배   사과   포도     딸기    복숭아\n",
              "4월   102  332  402  756.0   32.0\n",
              "5월    99  392  497  741.0   70.0\n",
              "6월    80  391  306  794.0   26.0\n",
              "7월    30  295  681  772.0  154.0\n",
              "8월   143  374  573  703.0  201.0\n",
              "9월    26  333  777    NaN    NaN\n",
              "10월   21  282  821    NaN    NaN"
            ]
          },
          "metadata": {}
        },
        {
          "output_type": "stream",
          "name": "stdout",
          "text": [
            "\n",
            "Index(['4월', '5월', '6월', '7월', '8월', '9월', '10월'], dtype='object')\n",
            "\n",
            "Index(['배', '사과', '포도', '딸기', '복숭아'], dtype='object')\n",
            "\n",
            "[[102. 332. 402. 756.  32.]\n",
            " [ 99. 392. 497. 741.  70.]\n",
            " [ 80. 391. 306. 794.  26.]\n",
            " [ 30. 295. 681. 772. 154.]\n",
            " [143. 374. 573. 703. 201.]\n",
            " [ 26. 333. 777.  nan  nan]\n",
            " [ 21. 282. 821.  nan  nan]]\n"
          ]
        }
      ]
    },
    {
      "cell_type": "markdown",
      "metadata": {
        "id": "jp0_XLb7O9k1"
      },
      "source": [
        "행과 열을 바꾸려면 `T` 메서드를 사용합니다. 물론 영구적으로 바뀌지 않고 메서드를 사용할 때만 바뀝니다. 객체에 넘겨주면 전치된 데이터 프레임을 유지할 수 있습니다."
      ]
    },
    {
      "cell_type": "code",
      "metadata": {
        "colab": {
          "base_uri": "https://localhost:8080/",
          "height": 204
        },
        "id": "T0Wj0cFyPHP7",
        "outputId": "094d5f3f-c8a3-4611-bf34-6ebbfbf87233"
      },
      "source": [
        "dataframe4.T"
      ],
      "execution_count": 51,
      "outputs": [
        {
          "output_type": "execute_result",
          "data": {
            "text/html": [
              "<div>\n",
              "<style scoped>\n",
              "    .dataframe tbody tr th:only-of-type {\n",
              "        vertical-align: middle;\n",
              "    }\n",
              "\n",
              "    .dataframe tbody tr th {\n",
              "        vertical-align: top;\n",
              "    }\n",
              "\n",
              "    .dataframe thead th {\n",
              "        text-align: right;\n",
              "    }\n",
              "</style>\n",
              "<table border=\"1\" class=\"dataframe\">\n",
              "  <thead>\n",
              "    <tr style=\"text-align: right;\">\n",
              "      <th></th>\n",
              "      <th>4월</th>\n",
              "      <th>5월</th>\n",
              "      <th>6월</th>\n",
              "      <th>7월</th>\n",
              "      <th>8월</th>\n",
              "      <th>9월</th>\n",
              "      <th>10월</th>\n",
              "    </tr>\n",
              "  </thead>\n",
              "  <tbody>\n",
              "    <tr>\n",
              "      <th>배</th>\n",
              "      <td>102.0</td>\n",
              "      <td>99.0</td>\n",
              "      <td>80.0</td>\n",
              "      <td>30.0</td>\n",
              "      <td>143.0</td>\n",
              "      <td>26.0</td>\n",
              "      <td>21.0</td>\n",
              "    </tr>\n",
              "    <tr>\n",
              "      <th>사과</th>\n",
              "      <td>332.0</td>\n",
              "      <td>392.0</td>\n",
              "      <td>391.0</td>\n",
              "      <td>295.0</td>\n",
              "      <td>374.0</td>\n",
              "      <td>333.0</td>\n",
              "      <td>282.0</td>\n",
              "    </tr>\n",
              "    <tr>\n",
              "      <th>포도</th>\n",
              "      <td>402.0</td>\n",
              "      <td>497.0</td>\n",
              "      <td>306.0</td>\n",
              "      <td>681.0</td>\n",
              "      <td>573.0</td>\n",
              "      <td>777.0</td>\n",
              "      <td>821.0</td>\n",
              "    </tr>\n",
              "    <tr>\n",
              "      <th>딸기</th>\n",
              "      <td>756.0</td>\n",
              "      <td>741.0</td>\n",
              "      <td>794.0</td>\n",
              "      <td>772.0</td>\n",
              "      <td>703.0</td>\n",
              "      <td>NaN</td>\n",
              "      <td>NaN</td>\n",
              "    </tr>\n",
              "    <tr>\n",
              "      <th>복숭아</th>\n",
              "      <td>32.0</td>\n",
              "      <td>70.0</td>\n",
              "      <td>26.0</td>\n",
              "      <td>154.0</td>\n",
              "      <td>201.0</td>\n",
              "      <td>NaN</td>\n",
              "      <td>NaN</td>\n",
              "    </tr>\n",
              "  </tbody>\n",
              "</table>\n",
              "</div>"
            ],
            "text/plain": [
              "        4월     5월     6월     7월     8월     9월    10월\n",
              "배    102.0   99.0   80.0   30.0  143.0   26.0   21.0\n",
              "사과   332.0  392.0  391.0  295.0  374.0  333.0  282.0\n",
              "포도   402.0  497.0  306.0  681.0  573.0  777.0  821.0\n",
              "딸기   756.0  741.0  794.0  772.0  703.0    NaN    NaN\n",
              "복숭아   32.0   70.0   26.0  154.0  201.0    NaN    NaN"
            ]
          },
          "metadata": {},
          "execution_count": 51
        }
      ]
    },
    {
      "cell_type": "markdown",
      "metadata": {
        "id": "Z6mpn8AEHP03"
      },
      "source": [
        "전체 데이터를 모두 선택하지 않고 앞과 뒤의 일부 데이터만 선택하려면 각각 `head()` 메서드와 `tail()` 메서드를 사용합니다. 괄호 안에 숫자를 인자로 지정하면 데이터가 숫자만큼 출력됩니다. 기본값은 `5`입니다."
      ]
    },
    {
      "cell_type": "code",
      "metadata": {
        "colab": {
          "base_uri": "https://localhost:8080/",
          "height": 204
        },
        "id": "KDSbA7hMHiJK",
        "outputId": "7ff9ce4f-38c9-4fbd-e320-c8012dfdcb64"
      },
      "source": [
        "dataframe4.head()"
      ],
      "execution_count": 52,
      "outputs": [
        {
          "output_type": "execute_result",
          "data": {
            "text/html": [
              "<div>\n",
              "<style scoped>\n",
              "    .dataframe tbody tr th:only-of-type {\n",
              "        vertical-align: middle;\n",
              "    }\n",
              "\n",
              "    .dataframe tbody tr th {\n",
              "        vertical-align: top;\n",
              "    }\n",
              "\n",
              "    .dataframe thead th {\n",
              "        text-align: right;\n",
              "    }\n",
              "</style>\n",
              "<table border=\"1\" class=\"dataframe\">\n",
              "  <thead>\n",
              "    <tr style=\"text-align: right;\">\n",
              "      <th></th>\n",
              "      <th>배</th>\n",
              "      <th>사과</th>\n",
              "      <th>포도</th>\n",
              "      <th>딸기</th>\n",
              "      <th>복숭아</th>\n",
              "    </tr>\n",
              "  </thead>\n",
              "  <tbody>\n",
              "    <tr>\n",
              "      <th>4월</th>\n",
              "      <td>102</td>\n",
              "      <td>332</td>\n",
              "      <td>402</td>\n",
              "      <td>756.0</td>\n",
              "      <td>32.0</td>\n",
              "    </tr>\n",
              "    <tr>\n",
              "      <th>5월</th>\n",
              "      <td>99</td>\n",
              "      <td>392</td>\n",
              "      <td>497</td>\n",
              "      <td>741.0</td>\n",
              "      <td>70.0</td>\n",
              "    </tr>\n",
              "    <tr>\n",
              "      <th>6월</th>\n",
              "      <td>80</td>\n",
              "      <td>391</td>\n",
              "      <td>306</td>\n",
              "      <td>794.0</td>\n",
              "      <td>26.0</td>\n",
              "    </tr>\n",
              "    <tr>\n",
              "      <th>7월</th>\n",
              "      <td>30</td>\n",
              "      <td>295</td>\n",
              "      <td>681</td>\n",
              "      <td>772.0</td>\n",
              "      <td>154.0</td>\n",
              "    </tr>\n",
              "    <tr>\n",
              "      <th>8월</th>\n",
              "      <td>143</td>\n",
              "      <td>374</td>\n",
              "      <td>573</td>\n",
              "      <td>703.0</td>\n",
              "      <td>201.0</td>\n",
              "    </tr>\n",
              "  </tbody>\n",
              "</table>\n",
              "</div>"
            ],
            "text/plain": [
              "      배   사과   포도     딸기    복숭아\n",
              "4월  102  332  402  756.0   32.0\n",
              "5월   99  392  497  741.0   70.0\n",
              "6월   80  391  306  794.0   26.0\n",
              "7월   30  295  681  772.0  154.0\n",
              "8월  143  374  573  703.0  201.0"
            ]
          },
          "metadata": {},
          "execution_count": 52
        }
      ]
    },
    {
      "cell_type": "code",
      "metadata": {
        "colab": {
          "base_uri": "https://localhost:8080/",
          "height": 142
        },
        "id": "CmLPI5pVHyd9",
        "outputId": "2f7b4e3d-7e8f-4073-ca43-914808e4ff73"
      },
      "source": [
        "dataframe4.tail(3)"
      ],
      "execution_count": 53,
      "outputs": [
        {
          "output_type": "execute_result",
          "data": {
            "text/html": [
              "<div>\n",
              "<style scoped>\n",
              "    .dataframe tbody tr th:only-of-type {\n",
              "        vertical-align: middle;\n",
              "    }\n",
              "\n",
              "    .dataframe tbody tr th {\n",
              "        vertical-align: top;\n",
              "    }\n",
              "\n",
              "    .dataframe thead th {\n",
              "        text-align: right;\n",
              "    }\n",
              "</style>\n",
              "<table border=\"1\" class=\"dataframe\">\n",
              "  <thead>\n",
              "    <tr style=\"text-align: right;\">\n",
              "      <th></th>\n",
              "      <th>배</th>\n",
              "      <th>사과</th>\n",
              "      <th>포도</th>\n",
              "      <th>딸기</th>\n",
              "      <th>복숭아</th>\n",
              "    </tr>\n",
              "  </thead>\n",
              "  <tbody>\n",
              "    <tr>\n",
              "      <th>8월</th>\n",
              "      <td>143</td>\n",
              "      <td>374</td>\n",
              "      <td>573</td>\n",
              "      <td>703.0</td>\n",
              "      <td>201.0</td>\n",
              "    </tr>\n",
              "    <tr>\n",
              "      <th>9월</th>\n",
              "      <td>26</td>\n",
              "      <td>333</td>\n",
              "      <td>777</td>\n",
              "      <td>NaN</td>\n",
              "      <td>NaN</td>\n",
              "    </tr>\n",
              "    <tr>\n",
              "      <th>10월</th>\n",
              "      <td>21</td>\n",
              "      <td>282</td>\n",
              "      <td>821</td>\n",
              "      <td>NaN</td>\n",
              "      <td>NaN</td>\n",
              "    </tr>\n",
              "  </tbody>\n",
              "</table>\n",
              "</div>"
            ],
            "text/plain": [
              "       배   사과   포도     딸기    복숭아\n",
              "8월   143  374  573  703.0  201.0\n",
              "9월    26  333  777    NaN    NaN\n",
              "10월   21  282  821    NaN    NaN"
            ]
          },
          "metadata": {},
          "execution_count": 53
        }
      ]
    },
    {
      "cell_type": "markdown",
      "metadata": {
        "id": "VfSOrQb2IPFv"
      },
      "source": [
        "원하는 행을 출력하려면 슬라이싱을 사용합니다."
      ]
    },
    {
      "cell_type": "code",
      "metadata": {
        "colab": {
          "base_uri": "https://localhost:8080/",
          "height": 173
        },
        "id": "AB2UXjp5IT4P",
        "outputId": "ded4d2e0-e09f-43d7-e362-f2dda52c8be9"
      },
      "source": [
        "dataframe4[2:6]"
      ],
      "execution_count": 54,
      "outputs": [
        {
          "output_type": "execute_result",
          "data": {
            "text/html": [
              "<div>\n",
              "<style scoped>\n",
              "    .dataframe tbody tr th:only-of-type {\n",
              "        vertical-align: middle;\n",
              "    }\n",
              "\n",
              "    .dataframe tbody tr th {\n",
              "        vertical-align: top;\n",
              "    }\n",
              "\n",
              "    .dataframe thead th {\n",
              "        text-align: right;\n",
              "    }\n",
              "</style>\n",
              "<table border=\"1\" class=\"dataframe\">\n",
              "  <thead>\n",
              "    <tr style=\"text-align: right;\">\n",
              "      <th></th>\n",
              "      <th>배</th>\n",
              "      <th>사과</th>\n",
              "      <th>포도</th>\n",
              "      <th>딸기</th>\n",
              "      <th>복숭아</th>\n",
              "    </tr>\n",
              "  </thead>\n",
              "  <tbody>\n",
              "    <tr>\n",
              "      <th>6월</th>\n",
              "      <td>80</td>\n",
              "      <td>391</td>\n",
              "      <td>306</td>\n",
              "      <td>794.0</td>\n",
              "      <td>26.0</td>\n",
              "    </tr>\n",
              "    <tr>\n",
              "      <th>7월</th>\n",
              "      <td>30</td>\n",
              "      <td>295</td>\n",
              "      <td>681</td>\n",
              "      <td>772.0</td>\n",
              "      <td>154.0</td>\n",
              "    </tr>\n",
              "    <tr>\n",
              "      <th>8월</th>\n",
              "      <td>143</td>\n",
              "      <td>374</td>\n",
              "      <td>573</td>\n",
              "      <td>703.0</td>\n",
              "      <td>201.0</td>\n",
              "    </tr>\n",
              "    <tr>\n",
              "      <th>9월</th>\n",
              "      <td>26</td>\n",
              "      <td>333</td>\n",
              "      <td>777</td>\n",
              "      <td>NaN</td>\n",
              "      <td>NaN</td>\n",
              "    </tr>\n",
              "  </tbody>\n",
              "</table>\n",
              "</div>"
            ],
            "text/plain": [
              "      배   사과   포도     딸기    복숭아\n",
              "6월   80  391  306  794.0   26.0\n",
              "7월   30  295  681  772.0  154.0\n",
              "8월  143  374  573  703.0  201.0\n",
              "9월   26  333  777    NaN    NaN"
            ]
          },
          "metadata": {},
          "execution_count": 54
        }
      ]
    },
    {
      "cell_type": "markdown",
      "metadata": {
        "id": "JPlAxtKlIiLD"
      },
      "source": [
        "`loc[]` 메서드에 인덱스를 지정해서 해당하는 행만 가져올 수 있습니다."
      ]
    },
    {
      "cell_type": "code",
      "metadata": {
        "colab": {
          "base_uri": "https://localhost:8080/"
        },
        "id": "gfALC2_uIpyb",
        "outputId": "7f638ba8-6b08-4850-8afa-ce25ae3d65e4"
      },
      "source": [
        "dataframe4.loc['8월']"
      ],
      "execution_count": 55,
      "outputs": [
        {
          "output_type": "execute_result",
          "data": {
            "text/plain": [
              "배      143.0\n",
              "사과     374.0\n",
              "포도     573.0\n",
              "딸기     703.0\n",
              "복숭아    201.0\n",
              "Name: 8월, dtype: float64"
            ]
          },
          "metadata": {},
          "execution_count": 55
        }
      ]
    },
    {
      "cell_type": "markdown",
      "metadata": {
        "id": "S-IlrXoaJL_5"
      },
      "source": [
        "`loc[]` 메서드로 인덱스를 슬라이싱 할 수도 있습니다. '8월'부터 마지막까지 가져오겠습니다."
      ]
    },
    {
      "cell_type": "code",
      "metadata": {
        "colab": {
          "base_uri": "https://localhost:8080/",
          "height": 142
        },
        "id": "k9ruhllpJYjU",
        "outputId": "856e2a12-9cef-44da-9b73-50d27114f6b2"
      },
      "source": [
        "dataframe4.loc['8월':]"
      ],
      "execution_count": 56,
      "outputs": [
        {
          "output_type": "execute_result",
          "data": {
            "text/html": [
              "<div>\n",
              "<style scoped>\n",
              "    .dataframe tbody tr th:only-of-type {\n",
              "        vertical-align: middle;\n",
              "    }\n",
              "\n",
              "    .dataframe tbody tr th {\n",
              "        vertical-align: top;\n",
              "    }\n",
              "\n",
              "    .dataframe thead th {\n",
              "        text-align: right;\n",
              "    }\n",
              "</style>\n",
              "<table border=\"1\" class=\"dataframe\">\n",
              "  <thead>\n",
              "    <tr style=\"text-align: right;\">\n",
              "      <th></th>\n",
              "      <th>배</th>\n",
              "      <th>사과</th>\n",
              "      <th>포도</th>\n",
              "      <th>딸기</th>\n",
              "      <th>복숭아</th>\n",
              "    </tr>\n",
              "  </thead>\n",
              "  <tbody>\n",
              "    <tr>\n",
              "      <th>8월</th>\n",
              "      <td>143</td>\n",
              "      <td>374</td>\n",
              "      <td>573</td>\n",
              "      <td>703.0</td>\n",
              "      <td>201.0</td>\n",
              "    </tr>\n",
              "    <tr>\n",
              "      <th>9월</th>\n",
              "      <td>26</td>\n",
              "      <td>333</td>\n",
              "      <td>777</td>\n",
              "      <td>NaN</td>\n",
              "      <td>NaN</td>\n",
              "    </tr>\n",
              "    <tr>\n",
              "      <th>10월</th>\n",
              "      <td>21</td>\n",
              "      <td>282</td>\n",
              "      <td>821</td>\n",
              "      <td>NaN</td>\n",
              "      <td>NaN</td>\n",
              "    </tr>\n",
              "  </tbody>\n",
              "</table>\n",
              "</div>"
            ],
            "text/plain": [
              "       배   사과   포도     딸기    복숭아\n",
              "8월   143  374  573  703.0  201.0\n",
              "9월    26  333  777    NaN    NaN\n",
              "10월   21  282  821    NaN    NaN"
            ]
          },
          "metadata": {},
          "execution_count": 56
        }
      ]
    },
    {
      "cell_type": "markdown",
      "metadata": {
        "id": "NLLpwU1OMdDU"
      },
      "source": [
        "`loc[]` 메서드를 사용해서 두 가지 형식으로 원하는 값을 가져오겠습니다. '딸기' 열의 '7월' 값을 가져오겠습니다."
      ]
    },
    {
      "cell_type": "code",
      "metadata": {
        "colab": {
          "base_uri": "https://localhost:8080/"
        },
        "id": "I0G_LNZDMptC",
        "outputId": "38561551-7260-4ea4-af77-abb79e56d7b5"
      },
      "source": [
        "dataframe4.loc['7월']['딸기']"
      ],
      "execution_count": 57,
      "outputs": [
        {
          "output_type": "execute_result",
          "data": {
            "text/plain": [
              "772.0"
            ]
          },
          "metadata": {},
          "execution_count": 57
        }
      ]
    },
    {
      "cell_type": "code",
      "metadata": {
        "colab": {
          "base_uri": "https://localhost:8080/"
        },
        "id": "IomtIb4LMycO",
        "outputId": "570894b1-5da4-4e9d-d4fd-9cc2559690bf"
      },
      "source": [
        "dataframe4.loc['7월', '딸기']"
      ],
      "execution_count": 58,
      "outputs": [
        {
          "output_type": "execute_result",
          "data": {
            "text/plain": [
              "772.0"
            ]
          },
          "metadata": {},
          "execution_count": 58
        }
      ]
    },
    {
      "cell_type": "markdown",
      "metadata": {
        "id": "gTRJKBWtJn66"
      },
      "source": [
        "열을 하나만 가져오겠습니다. 참고로 인덱스를 가져오려면 반드시 `loc[]` 메서드를 사용해야 합니다."
      ]
    },
    {
      "cell_type": "code",
      "metadata": {
        "colab": {
          "base_uri": "https://localhost:8080/"
        },
        "id": "K6jF7uvSJ09r",
        "outputId": "e0f59306-c668-4657-d9a0-1b7164e98698"
      },
      "source": [
        "dataframe4['딸기']"
      ],
      "execution_count": 59,
      "outputs": [
        {
          "output_type": "execute_result",
          "data": {
            "text/plain": [
              "4월     756.0\n",
              "5월     741.0\n",
              "6월     794.0\n",
              "7월     772.0\n",
              "8월     703.0\n",
              "9월       NaN\n",
              "10월      NaN\n",
              "Name: 딸기, dtype: float64"
            ]
          },
          "metadata": {},
          "execution_count": 59
        }
      ]
    },
    {
      "cell_type": "markdown",
      "metadata": {
        "id": "JL1eyVQvKJgZ"
      },
      "source": [
        "열을 두 개 가져오겠습니다. 다수의 원소는 리스트로 한 번 더 묶어야 합니다."
      ]
    },
    {
      "cell_type": "code",
      "metadata": {
        "colab": {
          "base_uri": "https://localhost:8080/",
          "height": 266
        },
        "id": "HsWjupAQKLqi",
        "outputId": "992a6237-17ee-4640-db56-a0a55a4c244e"
      },
      "source": [
        "dataframe4[['딸기', '포도']]"
      ],
      "execution_count": 60,
      "outputs": [
        {
          "output_type": "execute_result",
          "data": {
            "text/html": [
              "<div>\n",
              "<style scoped>\n",
              "    .dataframe tbody tr th:only-of-type {\n",
              "        vertical-align: middle;\n",
              "    }\n",
              "\n",
              "    .dataframe tbody tr th {\n",
              "        vertical-align: top;\n",
              "    }\n",
              "\n",
              "    .dataframe thead th {\n",
              "        text-align: right;\n",
              "    }\n",
              "</style>\n",
              "<table border=\"1\" class=\"dataframe\">\n",
              "  <thead>\n",
              "    <tr style=\"text-align: right;\">\n",
              "      <th></th>\n",
              "      <th>딸기</th>\n",
              "      <th>포도</th>\n",
              "    </tr>\n",
              "  </thead>\n",
              "  <tbody>\n",
              "    <tr>\n",
              "      <th>4월</th>\n",
              "      <td>756.0</td>\n",
              "      <td>402</td>\n",
              "    </tr>\n",
              "    <tr>\n",
              "      <th>5월</th>\n",
              "      <td>741.0</td>\n",
              "      <td>497</td>\n",
              "    </tr>\n",
              "    <tr>\n",
              "      <th>6월</th>\n",
              "      <td>794.0</td>\n",
              "      <td>306</td>\n",
              "    </tr>\n",
              "    <tr>\n",
              "      <th>7월</th>\n",
              "      <td>772.0</td>\n",
              "      <td>681</td>\n",
              "    </tr>\n",
              "    <tr>\n",
              "      <th>8월</th>\n",
              "      <td>703.0</td>\n",
              "      <td>573</td>\n",
              "    </tr>\n",
              "    <tr>\n",
              "      <th>9월</th>\n",
              "      <td>NaN</td>\n",
              "      <td>777</td>\n",
              "    </tr>\n",
              "    <tr>\n",
              "      <th>10월</th>\n",
              "      <td>NaN</td>\n",
              "      <td>821</td>\n",
              "    </tr>\n",
              "  </tbody>\n",
              "</table>\n",
              "</div>"
            ],
            "text/plain": [
              "        딸기   포도\n",
              "4월   756.0  402\n",
              "5월   741.0  497\n",
              "6월   794.0  306\n",
              "7월   772.0  681\n",
              "8월   703.0  573\n",
              "9월     NaN  777\n",
              "10월    NaN  821"
            ]
          },
          "metadata": {},
          "execution_count": 60
        }
      ]
    },
    {
      "cell_type": "markdown",
      "metadata": {
        "id": "Emp1vGQ8QyLq"
      },
      "source": [
        "이미 존재하는 데이터프레임의 열 순서를 바꾸려면 아래처럼 열을 리스트로 지정하고 객체로 넘겨주면 간단합니다. "
      ]
    },
    {
      "cell_type": "code",
      "metadata": {
        "colab": {
          "base_uri": "https://localhost:8080/",
          "height": 266
        },
        "id": "HqcWxde8QjZO",
        "outputId": "851b4591-7de0-4547-980d-50d0416f9add"
      },
      "source": [
        "dataframe4_test = dataframe4[['딸기', '포도', '배', '사과', '복숭아']]\n",
        "dataframe4_test"
      ],
      "execution_count": 61,
      "outputs": [
        {
          "output_type": "execute_result",
          "data": {
            "text/html": [
              "<div>\n",
              "<style scoped>\n",
              "    .dataframe tbody tr th:only-of-type {\n",
              "        vertical-align: middle;\n",
              "    }\n",
              "\n",
              "    .dataframe tbody tr th {\n",
              "        vertical-align: top;\n",
              "    }\n",
              "\n",
              "    .dataframe thead th {\n",
              "        text-align: right;\n",
              "    }\n",
              "</style>\n",
              "<table border=\"1\" class=\"dataframe\">\n",
              "  <thead>\n",
              "    <tr style=\"text-align: right;\">\n",
              "      <th></th>\n",
              "      <th>딸기</th>\n",
              "      <th>포도</th>\n",
              "      <th>배</th>\n",
              "      <th>사과</th>\n",
              "      <th>복숭아</th>\n",
              "    </tr>\n",
              "  </thead>\n",
              "  <tbody>\n",
              "    <tr>\n",
              "      <th>4월</th>\n",
              "      <td>756.0</td>\n",
              "      <td>402</td>\n",
              "      <td>102</td>\n",
              "      <td>332</td>\n",
              "      <td>32.0</td>\n",
              "    </tr>\n",
              "    <tr>\n",
              "      <th>5월</th>\n",
              "      <td>741.0</td>\n",
              "      <td>497</td>\n",
              "      <td>99</td>\n",
              "      <td>392</td>\n",
              "      <td>70.0</td>\n",
              "    </tr>\n",
              "    <tr>\n",
              "      <th>6월</th>\n",
              "      <td>794.0</td>\n",
              "      <td>306</td>\n",
              "      <td>80</td>\n",
              "      <td>391</td>\n",
              "      <td>26.0</td>\n",
              "    </tr>\n",
              "    <tr>\n",
              "      <th>7월</th>\n",
              "      <td>772.0</td>\n",
              "      <td>681</td>\n",
              "      <td>30</td>\n",
              "      <td>295</td>\n",
              "      <td>154.0</td>\n",
              "    </tr>\n",
              "    <tr>\n",
              "      <th>8월</th>\n",
              "      <td>703.0</td>\n",
              "      <td>573</td>\n",
              "      <td>143</td>\n",
              "      <td>374</td>\n",
              "      <td>201.0</td>\n",
              "    </tr>\n",
              "    <tr>\n",
              "      <th>9월</th>\n",
              "      <td>NaN</td>\n",
              "      <td>777</td>\n",
              "      <td>26</td>\n",
              "      <td>333</td>\n",
              "      <td>NaN</td>\n",
              "    </tr>\n",
              "    <tr>\n",
              "      <th>10월</th>\n",
              "      <td>NaN</td>\n",
              "      <td>821</td>\n",
              "      <td>21</td>\n",
              "      <td>282</td>\n",
              "      <td>NaN</td>\n",
              "    </tr>\n",
              "  </tbody>\n",
              "</table>\n",
              "</div>"
            ],
            "text/plain": [
              "        딸기   포도    배   사과    복숭아\n",
              "4월   756.0  402  102  332   32.0\n",
              "5월   741.0  497   99  392   70.0\n",
              "6월   794.0  306   80  391   26.0\n",
              "7월   772.0  681   30  295  154.0\n",
              "8월   703.0  573  143  374  201.0\n",
              "9월     NaN  777   26  333    NaN\n",
              "10월    NaN  821   21  282    NaN"
            ]
          },
          "metadata": {},
          "execution_count": 61
        }
      ]
    },
    {
      "cell_type": "markdown",
      "metadata": {
        "id": "gQDlDeLmKbet"
      },
      "source": [
        "특정 열의 특정 값을 두 가지 형식으로 인덱싱 하겠습니다. '딸기' 열의 '5월' 값과 '9월' 값입니다."
      ]
    },
    {
      "cell_type": "code",
      "metadata": {
        "colab": {
          "base_uri": "https://localhost:8080/"
        },
        "id": "rwJUk47OKpDd",
        "outputId": "6bb6f67b-c036-4455-f18b-aec88abe0cd9"
      },
      "source": [
        "dataframe4['딸기'][['5월', '9월']]"
      ],
      "execution_count": 62,
      "outputs": [
        {
          "output_type": "execute_result",
          "data": {
            "text/plain": [
              "5월    741.0\n",
              "9월      NaN\n",
              "Name: 딸기, dtype: float64"
            ]
          },
          "metadata": {},
          "execution_count": 62
        }
      ]
    },
    {
      "cell_type": "code",
      "metadata": {
        "colab": {
          "base_uri": "https://localhost:8080/"
        },
        "id": "XsLQhON4OJpU",
        "outputId": "53609d5d-44ff-445d-a3ce-00838484c5a3"
      },
      "source": [
        "dataframe4['딸기'][[1, 5]]"
      ],
      "execution_count": 63,
      "outputs": [
        {
          "output_type": "execute_result",
          "data": {
            "text/plain": [
              "5월    741.0\n",
              "9월      NaN\n",
              "Name: 딸기, dtype: float64"
            ]
          },
          "metadata": {},
          "execution_count": 63
        }
      ]
    },
    {
      "cell_type": "markdown",
      "metadata": {
        "id": "9zvaTQxOLAUN"
      },
      "source": [
        "두 가지 형식으로 '딸기' 열의 '5월'부터 '9월'까지 슬라이싱 하겠습니다."
      ]
    },
    {
      "cell_type": "code",
      "metadata": {
        "colab": {
          "base_uri": "https://localhost:8080/"
        },
        "id": "GPGBuvVbK7PR",
        "outputId": "310358a5-49dc-42ba-8614-eedba66745f2"
      },
      "source": [
        "dataframe4['딸기']['5월':'9월']"
      ],
      "execution_count": 64,
      "outputs": [
        {
          "output_type": "execute_result",
          "data": {
            "text/plain": [
              "5월    741.0\n",
              "6월    794.0\n",
              "7월    772.0\n",
              "8월    703.0\n",
              "9월      NaN\n",
              "Name: 딸기, dtype: float64"
            ]
          },
          "metadata": {},
          "execution_count": 64
        }
      ]
    },
    {
      "cell_type": "code",
      "metadata": {
        "colab": {
          "base_uri": "https://localhost:8080/"
        },
        "id": "MBPNd2EKL_ho",
        "outputId": "8838abe6-e8b7-4409-caae-3e1b695b0c73"
      },
      "source": [
        "dataframe4['딸기'][1:6]"
      ],
      "execution_count": 65,
      "outputs": [
        {
          "output_type": "execute_result",
          "data": {
            "text/plain": [
              "5월    741.0\n",
              "6월    794.0\n",
              "7월    772.0\n",
              "8월    703.0\n",
              "9월      NaN\n",
              "Name: 딸기, dtype: float64"
            ]
          },
          "metadata": {},
          "execution_count": 65
        }
      ]
    },
    {
      "cell_type": "markdown",
      "metadata": {
        "id": "m3M8m9vzCAe1"
      },
      "source": [
        "## **2.4. 데이터 합치기**"
      ]
    },
    {
      "cell_type": "markdown",
      "metadata": {
        "id": "aaEV85-CRkLB"
      },
      "source": [
        "먼저 데이터프레임의 아래로 데이터를 붙이겠습니다. 사용할 함수는 `append()`입니다. 먼저 `dataframe5`를 생성하고, `dataframe4`의 아래에 붙이겠습니다."
      ]
    },
    {
      "cell_type": "code",
      "metadata": {
        "colab": {
          "base_uri": "https://localhost:8080/",
          "height": 266
        },
        "id": "-PmRuKfGPGFe",
        "outputId": "64f8d13a-7739-45bd-e797-fe0c30c0fc22"
      },
      "source": [
        "dataframe4"
      ],
      "execution_count": 66,
      "outputs": [
        {
          "output_type": "execute_result",
          "data": {
            "text/html": [
              "<div>\n",
              "<style scoped>\n",
              "    .dataframe tbody tr th:only-of-type {\n",
              "        vertical-align: middle;\n",
              "    }\n",
              "\n",
              "    .dataframe tbody tr th {\n",
              "        vertical-align: top;\n",
              "    }\n",
              "\n",
              "    .dataframe thead th {\n",
              "        text-align: right;\n",
              "    }\n",
              "</style>\n",
              "<table border=\"1\" class=\"dataframe\">\n",
              "  <thead>\n",
              "    <tr style=\"text-align: right;\">\n",
              "      <th></th>\n",
              "      <th>배</th>\n",
              "      <th>사과</th>\n",
              "      <th>포도</th>\n",
              "      <th>딸기</th>\n",
              "      <th>복숭아</th>\n",
              "    </tr>\n",
              "  </thead>\n",
              "  <tbody>\n",
              "    <tr>\n",
              "      <th>4월</th>\n",
              "      <td>102</td>\n",
              "      <td>332</td>\n",
              "      <td>402</td>\n",
              "      <td>756.0</td>\n",
              "      <td>32.0</td>\n",
              "    </tr>\n",
              "    <tr>\n",
              "      <th>5월</th>\n",
              "      <td>99</td>\n",
              "      <td>392</td>\n",
              "      <td>497</td>\n",
              "      <td>741.0</td>\n",
              "      <td>70.0</td>\n",
              "    </tr>\n",
              "    <tr>\n",
              "      <th>6월</th>\n",
              "      <td>80</td>\n",
              "      <td>391</td>\n",
              "      <td>306</td>\n",
              "      <td>794.0</td>\n",
              "      <td>26.0</td>\n",
              "    </tr>\n",
              "    <tr>\n",
              "      <th>7월</th>\n",
              "      <td>30</td>\n",
              "      <td>295</td>\n",
              "      <td>681</td>\n",
              "      <td>772.0</td>\n",
              "      <td>154.0</td>\n",
              "    </tr>\n",
              "    <tr>\n",
              "      <th>8월</th>\n",
              "      <td>143</td>\n",
              "      <td>374</td>\n",
              "      <td>573</td>\n",
              "      <td>703.0</td>\n",
              "      <td>201.0</td>\n",
              "    </tr>\n",
              "    <tr>\n",
              "      <th>9월</th>\n",
              "      <td>26</td>\n",
              "      <td>333</td>\n",
              "      <td>777</td>\n",
              "      <td>NaN</td>\n",
              "      <td>NaN</td>\n",
              "    </tr>\n",
              "    <tr>\n",
              "      <th>10월</th>\n",
              "      <td>21</td>\n",
              "      <td>282</td>\n",
              "      <td>821</td>\n",
              "      <td>NaN</td>\n",
              "      <td>NaN</td>\n",
              "    </tr>\n",
              "  </tbody>\n",
              "</table>\n",
              "</div>"
            ],
            "text/plain": [
              "       배   사과   포도     딸기    복숭아\n",
              "4월   102  332  402  756.0   32.0\n",
              "5월    99  392  497  741.0   70.0\n",
              "6월    80  391  306  794.0   26.0\n",
              "7월    30  295  681  772.0  154.0\n",
              "8월   143  374  573  703.0  201.0\n",
              "9월    26  333  777    NaN    NaN\n",
              "10월   21  282  821    NaN    NaN"
            ]
          },
          "metadata": {},
          "execution_count": 66
        }
      ]
    },
    {
      "cell_type": "code",
      "metadata": {
        "colab": {
          "base_uri": "https://localhost:8080/",
          "height": 111
        },
        "id": "kWJjWO_LOqnv",
        "outputId": "79b7bf79-8549-4de1-d426-87ac503be6f0"
      },
      "source": [
        "dataframe5 = pd.DataFrame({'배':[30, 40],\n",
        "                           '사과': [300, 400],\n",
        "                           '포도': [200, 300],\n",
        "                           '딸기': [100, 150],\n",
        "                           '복숭아': [200, 240]})\n",
        "dataframe5"
      ],
      "execution_count": 67,
      "outputs": [
        {
          "output_type": "execute_result",
          "data": {
            "text/html": [
              "<div>\n",
              "<style scoped>\n",
              "    .dataframe tbody tr th:only-of-type {\n",
              "        vertical-align: middle;\n",
              "    }\n",
              "\n",
              "    .dataframe tbody tr th {\n",
              "        vertical-align: top;\n",
              "    }\n",
              "\n",
              "    .dataframe thead th {\n",
              "        text-align: right;\n",
              "    }\n",
              "</style>\n",
              "<table border=\"1\" class=\"dataframe\">\n",
              "  <thead>\n",
              "    <tr style=\"text-align: right;\">\n",
              "      <th></th>\n",
              "      <th>배</th>\n",
              "      <th>사과</th>\n",
              "      <th>포도</th>\n",
              "      <th>딸기</th>\n",
              "      <th>복숭아</th>\n",
              "    </tr>\n",
              "  </thead>\n",
              "  <tbody>\n",
              "    <tr>\n",
              "      <th>0</th>\n",
              "      <td>30</td>\n",
              "      <td>300</td>\n",
              "      <td>200</td>\n",
              "      <td>100</td>\n",
              "      <td>200</td>\n",
              "    </tr>\n",
              "    <tr>\n",
              "      <th>1</th>\n",
              "      <td>40</td>\n",
              "      <td>400</td>\n",
              "      <td>300</td>\n",
              "      <td>150</td>\n",
              "      <td>240</td>\n",
              "    </tr>\n",
              "  </tbody>\n",
              "</table>\n",
              "</div>"
            ],
            "text/plain": [
              "    배   사과   포도   딸기  복숭아\n",
              "0  30  300  200  100  200\n",
              "1  40  400  300  150  240"
            ]
          },
          "metadata": {},
          "execution_count": 67
        }
      ]
    },
    {
      "cell_type": "code",
      "metadata": {
        "colab": {
          "base_uri": "https://localhost:8080/",
          "height": 328
        },
        "id": "OPor1ulNP56n",
        "outputId": "d0cd428e-c6e0-49b7-830b-55e2e9031bf5"
      },
      "source": [
        "dataframe4.append(dataframe5)"
      ],
      "execution_count": 68,
      "outputs": [
        {
          "output_type": "execute_result",
          "data": {
            "text/html": [
              "<div>\n",
              "<style scoped>\n",
              "    .dataframe tbody tr th:only-of-type {\n",
              "        vertical-align: middle;\n",
              "    }\n",
              "\n",
              "    .dataframe tbody tr th {\n",
              "        vertical-align: top;\n",
              "    }\n",
              "\n",
              "    .dataframe thead th {\n",
              "        text-align: right;\n",
              "    }\n",
              "</style>\n",
              "<table border=\"1\" class=\"dataframe\">\n",
              "  <thead>\n",
              "    <tr style=\"text-align: right;\">\n",
              "      <th></th>\n",
              "      <th>배</th>\n",
              "      <th>사과</th>\n",
              "      <th>포도</th>\n",
              "      <th>딸기</th>\n",
              "      <th>복숭아</th>\n",
              "    </tr>\n",
              "  </thead>\n",
              "  <tbody>\n",
              "    <tr>\n",
              "      <th>4월</th>\n",
              "      <td>102</td>\n",
              "      <td>332</td>\n",
              "      <td>402</td>\n",
              "      <td>756.0</td>\n",
              "      <td>32.0</td>\n",
              "    </tr>\n",
              "    <tr>\n",
              "      <th>5월</th>\n",
              "      <td>99</td>\n",
              "      <td>392</td>\n",
              "      <td>497</td>\n",
              "      <td>741.0</td>\n",
              "      <td>70.0</td>\n",
              "    </tr>\n",
              "    <tr>\n",
              "      <th>6월</th>\n",
              "      <td>80</td>\n",
              "      <td>391</td>\n",
              "      <td>306</td>\n",
              "      <td>794.0</td>\n",
              "      <td>26.0</td>\n",
              "    </tr>\n",
              "    <tr>\n",
              "      <th>7월</th>\n",
              "      <td>30</td>\n",
              "      <td>295</td>\n",
              "      <td>681</td>\n",
              "      <td>772.0</td>\n",
              "      <td>154.0</td>\n",
              "    </tr>\n",
              "    <tr>\n",
              "      <th>8월</th>\n",
              "      <td>143</td>\n",
              "      <td>374</td>\n",
              "      <td>573</td>\n",
              "      <td>703.0</td>\n",
              "      <td>201.0</td>\n",
              "    </tr>\n",
              "    <tr>\n",
              "      <th>9월</th>\n",
              "      <td>26</td>\n",
              "      <td>333</td>\n",
              "      <td>777</td>\n",
              "      <td>NaN</td>\n",
              "      <td>NaN</td>\n",
              "    </tr>\n",
              "    <tr>\n",
              "      <th>10월</th>\n",
              "      <td>21</td>\n",
              "      <td>282</td>\n",
              "      <td>821</td>\n",
              "      <td>NaN</td>\n",
              "      <td>NaN</td>\n",
              "    </tr>\n",
              "    <tr>\n",
              "      <th>0</th>\n",
              "      <td>30</td>\n",
              "      <td>300</td>\n",
              "      <td>200</td>\n",
              "      <td>100.0</td>\n",
              "      <td>200.0</td>\n",
              "    </tr>\n",
              "    <tr>\n",
              "      <th>1</th>\n",
              "      <td>40</td>\n",
              "      <td>400</td>\n",
              "      <td>300</td>\n",
              "      <td>150.0</td>\n",
              "      <td>240.0</td>\n",
              "    </tr>\n",
              "  </tbody>\n",
              "</table>\n",
              "</div>"
            ],
            "text/plain": [
              "       배   사과   포도     딸기    복숭아\n",
              "4월   102  332  402  756.0   32.0\n",
              "5월    99  392  497  741.0   70.0\n",
              "6월    80  391  306  794.0   26.0\n",
              "7월    30  295  681  772.0  154.0\n",
              "8월   143  374  573  703.0  201.0\n",
              "9월    26  333  777    NaN    NaN\n",
              "10월   21  282  821    NaN    NaN\n",
              "0     30  300  200  100.0  200.0\n",
              "1     40  400  300  150.0  240.0"
            ]
          },
          "metadata": {},
          "execution_count": 68
        }
      ]
    },
    {
      "cell_type": "markdown",
      "metadata": {
        "id": "yyRPhzV5QF8L"
      },
      "source": [
        "`append()` 함수의 `ignore_index` 매개변수에 `True` 인자를 지정하면 인덱스가 순서대로 통합됩니다."
      ]
    },
    {
      "cell_type": "code",
      "metadata": {
        "colab": {
          "base_uri": "https://localhost:8080/",
          "height": 328
        },
        "id": "MFAEqxJtQQsu",
        "outputId": "44eaa48e-47b4-40ba-8613-dc02f5b0cda4"
      },
      "source": [
        "dataframe4.append(dataframe5, ignore_index=True)"
      ],
      "execution_count": 69,
      "outputs": [
        {
          "output_type": "execute_result",
          "data": {
            "text/html": [
              "<div>\n",
              "<style scoped>\n",
              "    .dataframe tbody tr th:only-of-type {\n",
              "        vertical-align: middle;\n",
              "    }\n",
              "\n",
              "    .dataframe tbody tr th {\n",
              "        vertical-align: top;\n",
              "    }\n",
              "\n",
              "    .dataframe thead th {\n",
              "        text-align: right;\n",
              "    }\n",
              "</style>\n",
              "<table border=\"1\" class=\"dataframe\">\n",
              "  <thead>\n",
              "    <tr style=\"text-align: right;\">\n",
              "      <th></th>\n",
              "      <th>배</th>\n",
              "      <th>사과</th>\n",
              "      <th>포도</th>\n",
              "      <th>딸기</th>\n",
              "      <th>복숭아</th>\n",
              "    </tr>\n",
              "  </thead>\n",
              "  <tbody>\n",
              "    <tr>\n",
              "      <th>0</th>\n",
              "      <td>102</td>\n",
              "      <td>332</td>\n",
              "      <td>402</td>\n",
              "      <td>756.0</td>\n",
              "      <td>32.0</td>\n",
              "    </tr>\n",
              "    <tr>\n",
              "      <th>1</th>\n",
              "      <td>99</td>\n",
              "      <td>392</td>\n",
              "      <td>497</td>\n",
              "      <td>741.0</td>\n",
              "      <td>70.0</td>\n",
              "    </tr>\n",
              "    <tr>\n",
              "      <th>2</th>\n",
              "      <td>80</td>\n",
              "      <td>391</td>\n",
              "      <td>306</td>\n",
              "      <td>794.0</td>\n",
              "      <td>26.0</td>\n",
              "    </tr>\n",
              "    <tr>\n",
              "      <th>3</th>\n",
              "      <td>30</td>\n",
              "      <td>295</td>\n",
              "      <td>681</td>\n",
              "      <td>772.0</td>\n",
              "      <td>154.0</td>\n",
              "    </tr>\n",
              "    <tr>\n",
              "      <th>4</th>\n",
              "      <td>143</td>\n",
              "      <td>374</td>\n",
              "      <td>573</td>\n",
              "      <td>703.0</td>\n",
              "      <td>201.0</td>\n",
              "    </tr>\n",
              "    <tr>\n",
              "      <th>5</th>\n",
              "      <td>26</td>\n",
              "      <td>333</td>\n",
              "      <td>777</td>\n",
              "      <td>NaN</td>\n",
              "      <td>NaN</td>\n",
              "    </tr>\n",
              "    <tr>\n",
              "      <th>6</th>\n",
              "      <td>21</td>\n",
              "      <td>282</td>\n",
              "      <td>821</td>\n",
              "      <td>NaN</td>\n",
              "      <td>NaN</td>\n",
              "    </tr>\n",
              "    <tr>\n",
              "      <th>7</th>\n",
              "      <td>30</td>\n",
              "      <td>300</td>\n",
              "      <td>200</td>\n",
              "      <td>100.0</td>\n",
              "      <td>200.0</td>\n",
              "    </tr>\n",
              "    <tr>\n",
              "      <th>8</th>\n",
              "      <td>40</td>\n",
              "      <td>400</td>\n",
              "      <td>300</td>\n",
              "      <td>150.0</td>\n",
              "      <td>240.0</td>\n",
              "    </tr>\n",
              "  </tbody>\n",
              "</table>\n",
              "</div>"
            ],
            "text/plain": [
              "     배   사과   포도     딸기    복숭아\n",
              "0  102  332  402  756.0   32.0\n",
              "1   99  392  497  741.0   70.0\n",
              "2   80  391  306  794.0   26.0\n",
              "3   30  295  681  772.0  154.0\n",
              "4  143  374  573  703.0  201.0\n",
              "5   26  333  777    NaN    NaN\n",
              "6   21  282  821    NaN    NaN\n",
              "7   30  300  200  100.0  200.0\n",
              "8   40  400  300  150.0  240.0"
            ]
          },
          "metadata": {},
          "execution_count": 69
        }
      ]
    },
    {
      "cell_type": "markdown",
      "metadata": {
        "id": "HGvCLFgeQdxE"
      },
      "source": [
        "인덱스가 0부터 오름차순으로 부여됐지만 기존에 지정했던 'n월' 형식은 초기화됐습니다.  "
      ]
    },
    {
      "cell_type": "markdown",
      "metadata": {
        "id": "ql2oYVdoQrM1"
      },
      "source": [
        "만약 모든 열의 데이터를 합치지 않는다면 나머지 열의 데이터는 모두 `Nan`으로 표시됩니다."
      ]
    },
    {
      "cell_type": "code",
      "metadata": {
        "colab": {
          "base_uri": "https://localhost:8080/",
          "height": 328
        },
        "id": "KwjWSkpaQ2mm",
        "outputId": "54e9c7d1-45ea-4a07-f0e2-5f24e472e11f"
      },
      "source": [
        "dataframe6 = pd.DataFrame({'배': [10, 20]})\n",
        "dataframe4.append(dataframe6, ignore_index=True)"
      ],
      "execution_count": 70,
      "outputs": [
        {
          "output_type": "execute_result",
          "data": {
            "text/html": [
              "<div>\n",
              "<style scoped>\n",
              "    .dataframe tbody tr th:only-of-type {\n",
              "        vertical-align: middle;\n",
              "    }\n",
              "\n",
              "    .dataframe tbody tr th {\n",
              "        vertical-align: top;\n",
              "    }\n",
              "\n",
              "    .dataframe thead th {\n",
              "        text-align: right;\n",
              "    }\n",
              "</style>\n",
              "<table border=\"1\" class=\"dataframe\">\n",
              "  <thead>\n",
              "    <tr style=\"text-align: right;\">\n",
              "      <th></th>\n",
              "      <th>배</th>\n",
              "      <th>사과</th>\n",
              "      <th>포도</th>\n",
              "      <th>딸기</th>\n",
              "      <th>복숭아</th>\n",
              "    </tr>\n",
              "  </thead>\n",
              "  <tbody>\n",
              "    <tr>\n",
              "      <th>0</th>\n",
              "      <td>102</td>\n",
              "      <td>332.0</td>\n",
              "      <td>402.0</td>\n",
              "      <td>756.0</td>\n",
              "      <td>32.0</td>\n",
              "    </tr>\n",
              "    <tr>\n",
              "      <th>1</th>\n",
              "      <td>99</td>\n",
              "      <td>392.0</td>\n",
              "      <td>497.0</td>\n",
              "      <td>741.0</td>\n",
              "      <td>70.0</td>\n",
              "    </tr>\n",
              "    <tr>\n",
              "      <th>2</th>\n",
              "      <td>80</td>\n",
              "      <td>391.0</td>\n",
              "      <td>306.0</td>\n",
              "      <td>794.0</td>\n",
              "      <td>26.0</td>\n",
              "    </tr>\n",
              "    <tr>\n",
              "      <th>3</th>\n",
              "      <td>30</td>\n",
              "      <td>295.0</td>\n",
              "      <td>681.0</td>\n",
              "      <td>772.0</td>\n",
              "      <td>154.0</td>\n",
              "    </tr>\n",
              "    <tr>\n",
              "      <th>4</th>\n",
              "      <td>143</td>\n",
              "      <td>374.0</td>\n",
              "      <td>573.0</td>\n",
              "      <td>703.0</td>\n",
              "      <td>201.0</td>\n",
              "    </tr>\n",
              "    <tr>\n",
              "      <th>5</th>\n",
              "      <td>26</td>\n",
              "      <td>333.0</td>\n",
              "      <td>777.0</td>\n",
              "      <td>NaN</td>\n",
              "      <td>NaN</td>\n",
              "    </tr>\n",
              "    <tr>\n",
              "      <th>6</th>\n",
              "      <td>21</td>\n",
              "      <td>282.0</td>\n",
              "      <td>821.0</td>\n",
              "      <td>NaN</td>\n",
              "      <td>NaN</td>\n",
              "    </tr>\n",
              "    <tr>\n",
              "      <th>7</th>\n",
              "      <td>10</td>\n",
              "      <td>NaN</td>\n",
              "      <td>NaN</td>\n",
              "      <td>NaN</td>\n",
              "      <td>NaN</td>\n",
              "    </tr>\n",
              "    <tr>\n",
              "      <th>8</th>\n",
              "      <td>20</td>\n",
              "      <td>NaN</td>\n",
              "      <td>NaN</td>\n",
              "      <td>NaN</td>\n",
              "      <td>NaN</td>\n",
              "    </tr>\n",
              "  </tbody>\n",
              "</table>\n",
              "</div>"
            ],
            "text/plain": [
              "     배     사과     포도     딸기    복숭아\n",
              "0  102  332.0  402.0  756.0   32.0\n",
              "1   99  392.0  497.0  741.0   70.0\n",
              "2   80  391.0  306.0  794.0   26.0\n",
              "3   30  295.0  681.0  772.0  154.0\n",
              "4  143  374.0  573.0  703.0  201.0\n",
              "5   26  333.0  777.0    NaN    NaN\n",
              "6   21  282.0  821.0    NaN    NaN\n",
              "7   10    NaN    NaN    NaN    NaN\n",
              "8   20    NaN    NaN    NaN    NaN"
            ]
          },
          "metadata": {},
          "execution_count": 70
        }
      ]
    },
    {
      "cell_type": "markdown",
      "metadata": {
        "id": "1A3vYfFtQqMZ"
      },
      "source": [
        "이제는 `join()` 함수를 사용하여 데이터프레임을 오른쪽으로 붙이겠습니다. 새로운 열을 가진 데이터프레임 `dataframe7`을 만들고 `dataframe4`의 오른쪽에 붙이겠습니다."
      ]
    },
    {
      "cell_type": "code",
      "metadata": {
        "colab": {
          "base_uri": "https://localhost:8080/",
          "height": 173
        },
        "id": "AudCHdsPR7Tf",
        "outputId": "68981863-6b67-4045-87b8-074ea0e6573d"
      },
      "source": [
        "dataframe7 = pd.DataFrame({'바나나': [350, 240, 360, 380]})\n",
        "dataframe7"
      ],
      "execution_count": 71,
      "outputs": [
        {
          "output_type": "execute_result",
          "data": {
            "text/html": [
              "<div>\n",
              "<style scoped>\n",
              "    .dataframe tbody tr th:only-of-type {\n",
              "        vertical-align: middle;\n",
              "    }\n",
              "\n",
              "    .dataframe tbody tr th {\n",
              "        vertical-align: top;\n",
              "    }\n",
              "\n",
              "    .dataframe thead th {\n",
              "        text-align: right;\n",
              "    }\n",
              "</style>\n",
              "<table border=\"1\" class=\"dataframe\">\n",
              "  <thead>\n",
              "    <tr style=\"text-align: right;\">\n",
              "      <th></th>\n",
              "      <th>바나나</th>\n",
              "    </tr>\n",
              "  </thead>\n",
              "  <tbody>\n",
              "    <tr>\n",
              "      <th>0</th>\n",
              "      <td>350</td>\n",
              "    </tr>\n",
              "    <tr>\n",
              "      <th>1</th>\n",
              "      <td>240</td>\n",
              "    </tr>\n",
              "    <tr>\n",
              "      <th>2</th>\n",
              "      <td>360</td>\n",
              "    </tr>\n",
              "    <tr>\n",
              "      <th>3</th>\n",
              "      <td>380</td>\n",
              "    </tr>\n",
              "  </tbody>\n",
              "</table>\n",
              "</div>"
            ],
            "text/plain": [
              "   바나나\n",
              "0  350\n",
              "1  240\n",
              "2  360\n",
              "3  380"
            ]
          },
          "metadata": {},
          "execution_count": 71
        }
      ]
    },
    {
      "cell_type": "code",
      "metadata": {
        "colab": {
          "base_uri": "https://localhost:8080/",
          "height": 266
        },
        "id": "nz-AFBUISLIA",
        "outputId": "98237d7b-122a-42cb-ef58-a44a9d17950f"
      },
      "source": [
        "dataframe4.join(dataframe7)"
      ],
      "execution_count": 72,
      "outputs": [
        {
          "output_type": "execute_result",
          "data": {
            "text/html": [
              "<div>\n",
              "<style scoped>\n",
              "    .dataframe tbody tr th:only-of-type {\n",
              "        vertical-align: middle;\n",
              "    }\n",
              "\n",
              "    .dataframe tbody tr th {\n",
              "        vertical-align: top;\n",
              "    }\n",
              "\n",
              "    .dataframe thead th {\n",
              "        text-align: right;\n",
              "    }\n",
              "</style>\n",
              "<table border=\"1\" class=\"dataframe\">\n",
              "  <thead>\n",
              "    <tr style=\"text-align: right;\">\n",
              "      <th></th>\n",
              "      <th>배</th>\n",
              "      <th>사과</th>\n",
              "      <th>포도</th>\n",
              "      <th>딸기</th>\n",
              "      <th>복숭아</th>\n",
              "      <th>바나나</th>\n",
              "    </tr>\n",
              "  </thead>\n",
              "  <tbody>\n",
              "    <tr>\n",
              "      <th>4월</th>\n",
              "      <td>102</td>\n",
              "      <td>332</td>\n",
              "      <td>402</td>\n",
              "      <td>756.0</td>\n",
              "      <td>32.0</td>\n",
              "      <td>NaN</td>\n",
              "    </tr>\n",
              "    <tr>\n",
              "      <th>5월</th>\n",
              "      <td>99</td>\n",
              "      <td>392</td>\n",
              "      <td>497</td>\n",
              "      <td>741.0</td>\n",
              "      <td>70.0</td>\n",
              "      <td>NaN</td>\n",
              "    </tr>\n",
              "    <tr>\n",
              "      <th>6월</th>\n",
              "      <td>80</td>\n",
              "      <td>391</td>\n",
              "      <td>306</td>\n",
              "      <td>794.0</td>\n",
              "      <td>26.0</td>\n",
              "      <td>NaN</td>\n",
              "    </tr>\n",
              "    <tr>\n",
              "      <th>7월</th>\n",
              "      <td>30</td>\n",
              "      <td>295</td>\n",
              "      <td>681</td>\n",
              "      <td>772.0</td>\n",
              "      <td>154.0</td>\n",
              "      <td>NaN</td>\n",
              "    </tr>\n",
              "    <tr>\n",
              "      <th>8월</th>\n",
              "      <td>143</td>\n",
              "      <td>374</td>\n",
              "      <td>573</td>\n",
              "      <td>703.0</td>\n",
              "      <td>201.0</td>\n",
              "      <td>NaN</td>\n",
              "    </tr>\n",
              "    <tr>\n",
              "      <th>9월</th>\n",
              "      <td>26</td>\n",
              "      <td>333</td>\n",
              "      <td>777</td>\n",
              "      <td>NaN</td>\n",
              "      <td>NaN</td>\n",
              "      <td>NaN</td>\n",
              "    </tr>\n",
              "    <tr>\n",
              "      <th>10월</th>\n",
              "      <td>21</td>\n",
              "      <td>282</td>\n",
              "      <td>821</td>\n",
              "      <td>NaN</td>\n",
              "      <td>NaN</td>\n",
              "      <td>NaN</td>\n",
              "    </tr>\n",
              "  </tbody>\n",
              "</table>\n",
              "</div>"
            ],
            "text/plain": [
              "       배   사과   포도     딸기    복숭아  바나나\n",
              "4월   102  332  402  756.0   32.0  NaN\n",
              "5월    99  392  497  741.0   70.0  NaN\n",
              "6월    80  391  306  794.0   26.0  NaN\n",
              "7월    30  295  681  772.0  154.0  NaN\n",
              "8월   143  374  573  703.0  201.0  NaN\n",
              "9월    26  333  777    NaN    NaN  NaN\n",
              "10월   21  282  821    NaN    NaN  NaN"
            ]
          },
          "metadata": {},
          "execution_count": 72
        }
      ]
    },
    {
      "cell_type": "markdown",
      "metadata": {
        "id": "j3NfYUKcSfJD"
      },
      "source": [
        "`join()` 함수는 인덱스가 일치하지 않으면 새로운 열을 통합할 수 없습니다. 인덱스가 일치하는 `dataframe8`을 만들어서 합치겠습니다."
      ]
    },
    {
      "cell_type": "code",
      "metadata": {
        "colab": {
          "base_uri": "https://localhost:8080/",
          "height": 328
        },
        "id": "CIKDo-0VStjc",
        "outputId": "947c7fea-0fb0-4b7a-f879-862dfce7a56e"
      },
      "source": [
        "dataframe8 = dataframe4.append(dataframe6, ignore_index=True)\n",
        "dataframe8"
      ],
      "execution_count": 73,
      "outputs": [
        {
          "output_type": "execute_result",
          "data": {
            "text/html": [
              "<div>\n",
              "<style scoped>\n",
              "    .dataframe tbody tr th:only-of-type {\n",
              "        vertical-align: middle;\n",
              "    }\n",
              "\n",
              "    .dataframe tbody tr th {\n",
              "        vertical-align: top;\n",
              "    }\n",
              "\n",
              "    .dataframe thead th {\n",
              "        text-align: right;\n",
              "    }\n",
              "</style>\n",
              "<table border=\"1\" class=\"dataframe\">\n",
              "  <thead>\n",
              "    <tr style=\"text-align: right;\">\n",
              "      <th></th>\n",
              "      <th>배</th>\n",
              "      <th>사과</th>\n",
              "      <th>포도</th>\n",
              "      <th>딸기</th>\n",
              "      <th>복숭아</th>\n",
              "    </tr>\n",
              "  </thead>\n",
              "  <tbody>\n",
              "    <tr>\n",
              "      <th>0</th>\n",
              "      <td>102</td>\n",
              "      <td>332.0</td>\n",
              "      <td>402.0</td>\n",
              "      <td>756.0</td>\n",
              "      <td>32.0</td>\n",
              "    </tr>\n",
              "    <tr>\n",
              "      <th>1</th>\n",
              "      <td>99</td>\n",
              "      <td>392.0</td>\n",
              "      <td>497.0</td>\n",
              "      <td>741.0</td>\n",
              "      <td>70.0</td>\n",
              "    </tr>\n",
              "    <tr>\n",
              "      <th>2</th>\n",
              "      <td>80</td>\n",
              "      <td>391.0</td>\n",
              "      <td>306.0</td>\n",
              "      <td>794.0</td>\n",
              "      <td>26.0</td>\n",
              "    </tr>\n",
              "    <tr>\n",
              "      <th>3</th>\n",
              "      <td>30</td>\n",
              "      <td>295.0</td>\n",
              "      <td>681.0</td>\n",
              "      <td>772.0</td>\n",
              "      <td>154.0</td>\n",
              "    </tr>\n",
              "    <tr>\n",
              "      <th>4</th>\n",
              "      <td>143</td>\n",
              "      <td>374.0</td>\n",
              "      <td>573.0</td>\n",
              "      <td>703.0</td>\n",
              "      <td>201.0</td>\n",
              "    </tr>\n",
              "    <tr>\n",
              "      <th>5</th>\n",
              "      <td>26</td>\n",
              "      <td>333.0</td>\n",
              "      <td>777.0</td>\n",
              "      <td>NaN</td>\n",
              "      <td>NaN</td>\n",
              "    </tr>\n",
              "    <tr>\n",
              "      <th>6</th>\n",
              "      <td>21</td>\n",
              "      <td>282.0</td>\n",
              "      <td>821.0</td>\n",
              "      <td>NaN</td>\n",
              "      <td>NaN</td>\n",
              "    </tr>\n",
              "    <tr>\n",
              "      <th>7</th>\n",
              "      <td>10</td>\n",
              "      <td>NaN</td>\n",
              "      <td>NaN</td>\n",
              "      <td>NaN</td>\n",
              "      <td>NaN</td>\n",
              "    </tr>\n",
              "    <tr>\n",
              "      <th>8</th>\n",
              "      <td>20</td>\n",
              "      <td>NaN</td>\n",
              "      <td>NaN</td>\n",
              "      <td>NaN</td>\n",
              "      <td>NaN</td>\n",
              "    </tr>\n",
              "  </tbody>\n",
              "</table>\n",
              "</div>"
            ],
            "text/plain": [
              "     배     사과     포도     딸기    복숭아\n",
              "0  102  332.0  402.0  756.0   32.0\n",
              "1   99  392.0  497.0  741.0   70.0\n",
              "2   80  391.0  306.0  794.0   26.0\n",
              "3   30  295.0  681.0  772.0  154.0\n",
              "4  143  374.0  573.0  703.0  201.0\n",
              "5   26  333.0  777.0    NaN    NaN\n",
              "6   21  282.0  821.0    NaN    NaN\n",
              "7   10    NaN    NaN    NaN    NaN\n",
              "8   20    NaN    NaN    NaN    NaN"
            ]
          },
          "metadata": {},
          "execution_count": 73
        }
      ]
    },
    {
      "cell_type": "code",
      "metadata": {
        "colab": {
          "base_uri": "https://localhost:8080/",
          "height": 328
        },
        "id": "cW3aMbKuS0iQ",
        "outputId": "c8be7c46-d484-43ef-c3e9-15634ef0bd60"
      },
      "source": [
        "dataframe8.join(dataframe7)"
      ],
      "execution_count": 74,
      "outputs": [
        {
          "output_type": "execute_result",
          "data": {
            "text/html": [
              "<div>\n",
              "<style scoped>\n",
              "    .dataframe tbody tr th:only-of-type {\n",
              "        vertical-align: middle;\n",
              "    }\n",
              "\n",
              "    .dataframe tbody tr th {\n",
              "        vertical-align: top;\n",
              "    }\n",
              "\n",
              "    .dataframe thead th {\n",
              "        text-align: right;\n",
              "    }\n",
              "</style>\n",
              "<table border=\"1\" class=\"dataframe\">\n",
              "  <thead>\n",
              "    <tr style=\"text-align: right;\">\n",
              "      <th></th>\n",
              "      <th>배</th>\n",
              "      <th>사과</th>\n",
              "      <th>포도</th>\n",
              "      <th>딸기</th>\n",
              "      <th>복숭아</th>\n",
              "      <th>바나나</th>\n",
              "    </tr>\n",
              "  </thead>\n",
              "  <tbody>\n",
              "    <tr>\n",
              "      <th>0</th>\n",
              "      <td>102</td>\n",
              "      <td>332.0</td>\n",
              "      <td>402.0</td>\n",
              "      <td>756.0</td>\n",
              "      <td>32.0</td>\n",
              "      <td>350.0</td>\n",
              "    </tr>\n",
              "    <tr>\n",
              "      <th>1</th>\n",
              "      <td>99</td>\n",
              "      <td>392.0</td>\n",
              "      <td>497.0</td>\n",
              "      <td>741.0</td>\n",
              "      <td>70.0</td>\n",
              "      <td>240.0</td>\n",
              "    </tr>\n",
              "    <tr>\n",
              "      <th>2</th>\n",
              "      <td>80</td>\n",
              "      <td>391.0</td>\n",
              "      <td>306.0</td>\n",
              "      <td>794.0</td>\n",
              "      <td>26.0</td>\n",
              "      <td>360.0</td>\n",
              "    </tr>\n",
              "    <tr>\n",
              "      <th>3</th>\n",
              "      <td>30</td>\n",
              "      <td>295.0</td>\n",
              "      <td>681.0</td>\n",
              "      <td>772.0</td>\n",
              "      <td>154.0</td>\n",
              "      <td>380.0</td>\n",
              "    </tr>\n",
              "    <tr>\n",
              "      <th>4</th>\n",
              "      <td>143</td>\n",
              "      <td>374.0</td>\n",
              "      <td>573.0</td>\n",
              "      <td>703.0</td>\n",
              "      <td>201.0</td>\n",
              "      <td>NaN</td>\n",
              "    </tr>\n",
              "    <tr>\n",
              "      <th>5</th>\n",
              "      <td>26</td>\n",
              "      <td>333.0</td>\n",
              "      <td>777.0</td>\n",
              "      <td>NaN</td>\n",
              "      <td>NaN</td>\n",
              "      <td>NaN</td>\n",
              "    </tr>\n",
              "    <tr>\n",
              "      <th>6</th>\n",
              "      <td>21</td>\n",
              "      <td>282.0</td>\n",
              "      <td>821.0</td>\n",
              "      <td>NaN</td>\n",
              "      <td>NaN</td>\n",
              "      <td>NaN</td>\n",
              "    </tr>\n",
              "    <tr>\n",
              "      <th>7</th>\n",
              "      <td>10</td>\n",
              "      <td>NaN</td>\n",
              "      <td>NaN</td>\n",
              "      <td>NaN</td>\n",
              "      <td>NaN</td>\n",
              "      <td>NaN</td>\n",
              "    </tr>\n",
              "    <tr>\n",
              "      <th>8</th>\n",
              "      <td>20</td>\n",
              "      <td>NaN</td>\n",
              "      <td>NaN</td>\n",
              "      <td>NaN</td>\n",
              "      <td>NaN</td>\n",
              "      <td>NaN</td>\n",
              "    </tr>\n",
              "  </tbody>\n",
              "</table>\n",
              "</div>"
            ],
            "text/plain": [
              "     배     사과     포도     딸기    복숭아    바나나\n",
              "0  102  332.0  402.0  756.0   32.0  350.0\n",
              "1   99  392.0  497.0  741.0   70.0  240.0\n",
              "2   80  391.0  306.0  794.0   26.0  360.0\n",
              "3   30  295.0  681.0  772.0  154.0  380.0\n",
              "4  143  374.0  573.0  703.0  201.0    NaN\n",
              "5   26  333.0  777.0    NaN    NaN    NaN\n",
              "6   21  282.0  821.0    NaN    NaN    NaN\n",
              "7   10    NaN    NaN    NaN    NaN    NaN\n",
              "8   20    NaN    NaN    NaN    NaN    NaN"
            ]
          },
          "metadata": {},
          "execution_count": 74
        }
      ]
    },
    {
      "cell_type": "markdown",
      "metadata": {
        "id": "tiODLQx3S3sO"
      },
      "source": [
        "인덱스가 동일한 숫자에 맞춰서 바나나열이 추가됐습니다. 아래 데이터는 공백이므로 `NaN`으로 처리됐습니다. 다만 기존 데이터프레임의 인덱스를 유지하면서 데이터를 붙이고 싶으면 `index` 매개변수에 같은 인덱스를 지정하면 됩니다.\n",
        "\n",
        "먼저 `dataframe4`를 띄우겠습니다."
      ]
    },
    {
      "cell_type": "code",
      "metadata": {
        "colab": {
          "base_uri": "https://localhost:8080/",
          "height": 266
        },
        "id": "1GKIjNStTfOJ",
        "outputId": "c80aeb3b-794e-44e4-bf22-49a14b3eeeed"
      },
      "source": [
        "dataframe4"
      ],
      "execution_count": 75,
      "outputs": [
        {
          "output_type": "execute_result",
          "data": {
            "text/html": [
              "<div>\n",
              "<style scoped>\n",
              "    .dataframe tbody tr th:only-of-type {\n",
              "        vertical-align: middle;\n",
              "    }\n",
              "\n",
              "    .dataframe tbody tr th {\n",
              "        vertical-align: top;\n",
              "    }\n",
              "\n",
              "    .dataframe thead th {\n",
              "        text-align: right;\n",
              "    }\n",
              "</style>\n",
              "<table border=\"1\" class=\"dataframe\">\n",
              "  <thead>\n",
              "    <tr style=\"text-align: right;\">\n",
              "      <th></th>\n",
              "      <th>배</th>\n",
              "      <th>사과</th>\n",
              "      <th>포도</th>\n",
              "      <th>딸기</th>\n",
              "      <th>복숭아</th>\n",
              "    </tr>\n",
              "  </thead>\n",
              "  <tbody>\n",
              "    <tr>\n",
              "      <th>4월</th>\n",
              "      <td>102</td>\n",
              "      <td>332</td>\n",
              "      <td>402</td>\n",
              "      <td>756.0</td>\n",
              "      <td>32.0</td>\n",
              "    </tr>\n",
              "    <tr>\n",
              "      <th>5월</th>\n",
              "      <td>99</td>\n",
              "      <td>392</td>\n",
              "      <td>497</td>\n",
              "      <td>741.0</td>\n",
              "      <td>70.0</td>\n",
              "    </tr>\n",
              "    <tr>\n",
              "      <th>6월</th>\n",
              "      <td>80</td>\n",
              "      <td>391</td>\n",
              "      <td>306</td>\n",
              "      <td>794.0</td>\n",
              "      <td>26.0</td>\n",
              "    </tr>\n",
              "    <tr>\n",
              "      <th>7월</th>\n",
              "      <td>30</td>\n",
              "      <td>295</td>\n",
              "      <td>681</td>\n",
              "      <td>772.0</td>\n",
              "      <td>154.0</td>\n",
              "    </tr>\n",
              "    <tr>\n",
              "      <th>8월</th>\n",
              "      <td>143</td>\n",
              "      <td>374</td>\n",
              "      <td>573</td>\n",
              "      <td>703.0</td>\n",
              "      <td>201.0</td>\n",
              "    </tr>\n",
              "    <tr>\n",
              "      <th>9월</th>\n",
              "      <td>26</td>\n",
              "      <td>333</td>\n",
              "      <td>777</td>\n",
              "      <td>NaN</td>\n",
              "      <td>NaN</td>\n",
              "    </tr>\n",
              "    <tr>\n",
              "      <th>10월</th>\n",
              "      <td>21</td>\n",
              "      <td>282</td>\n",
              "      <td>821</td>\n",
              "      <td>NaN</td>\n",
              "      <td>NaN</td>\n",
              "    </tr>\n",
              "  </tbody>\n",
              "</table>\n",
              "</div>"
            ],
            "text/plain": [
              "       배   사과   포도     딸기    복숭아\n",
              "4월   102  332  402  756.0   32.0\n",
              "5월    99  392  497  741.0   70.0\n",
              "6월    80  391  306  794.0   26.0\n",
              "7월    30  295  681  772.0  154.0\n",
              "8월   143  374  573  703.0  201.0\n",
              "9월    26  333  777    NaN    NaN\n",
              "10월   21  282  821    NaN    NaN"
            ]
          },
          "metadata": {},
          "execution_count": 75
        }
      ]
    },
    {
      "cell_type": "markdown",
      "metadata": {
        "id": "xEtUvCmHUbND"
      },
      "source": [
        "`dataframe4`는 인덱스가 7개입니다. `dataframe10`의 '바나나' 열 데이터는 4개뿐이므로 라벨을 4개만 남겨야 합니다."
      ]
    },
    {
      "cell_type": "code",
      "metadata": {
        "id": "H0OhiXB9TmPE"
      },
      "source": [
        "index4 = ['5월', '6월', '8월', '10월']\n",
        "dataframe10 = pd.DataFrame({'바나나': [350, 240, 360, 380]}, index=index4)"
      ],
      "execution_count": 76,
      "outputs": []
    },
    {
      "cell_type": "markdown",
      "metadata": {
        "id": "zdKqMdEWUYLM"
      },
      "source": [
        "이제 둘을 합치겠습니다. 인덱스 라벨이 유지되면서 인덱스 라벨과 일치된 데이터만 추가됩니다."
      ]
    },
    {
      "cell_type": "code",
      "metadata": {
        "colab": {
          "base_uri": "https://localhost:8080/",
          "height": 266
        },
        "id": "lHQ7zbH_VET9",
        "outputId": "8abde6e9-d237-431a-b5c5-36cc0ff162ec"
      },
      "source": [
        "dataframe4.join(dataframe10)"
      ],
      "execution_count": 77,
      "outputs": [
        {
          "output_type": "execute_result",
          "data": {
            "text/html": [
              "<div>\n",
              "<style scoped>\n",
              "    .dataframe tbody tr th:only-of-type {\n",
              "        vertical-align: middle;\n",
              "    }\n",
              "\n",
              "    .dataframe tbody tr th {\n",
              "        vertical-align: top;\n",
              "    }\n",
              "\n",
              "    .dataframe thead th {\n",
              "        text-align: right;\n",
              "    }\n",
              "</style>\n",
              "<table border=\"1\" class=\"dataframe\">\n",
              "  <thead>\n",
              "    <tr style=\"text-align: right;\">\n",
              "      <th></th>\n",
              "      <th>배</th>\n",
              "      <th>사과</th>\n",
              "      <th>포도</th>\n",
              "      <th>딸기</th>\n",
              "      <th>복숭아</th>\n",
              "      <th>바나나</th>\n",
              "    </tr>\n",
              "  </thead>\n",
              "  <tbody>\n",
              "    <tr>\n",
              "      <th>4월</th>\n",
              "      <td>102</td>\n",
              "      <td>332</td>\n",
              "      <td>402</td>\n",
              "      <td>756.0</td>\n",
              "      <td>32.0</td>\n",
              "      <td>NaN</td>\n",
              "    </tr>\n",
              "    <tr>\n",
              "      <th>5월</th>\n",
              "      <td>99</td>\n",
              "      <td>392</td>\n",
              "      <td>497</td>\n",
              "      <td>741.0</td>\n",
              "      <td>70.0</td>\n",
              "      <td>350.0</td>\n",
              "    </tr>\n",
              "    <tr>\n",
              "      <th>6월</th>\n",
              "      <td>80</td>\n",
              "      <td>391</td>\n",
              "      <td>306</td>\n",
              "      <td>794.0</td>\n",
              "      <td>26.0</td>\n",
              "      <td>240.0</td>\n",
              "    </tr>\n",
              "    <tr>\n",
              "      <th>7월</th>\n",
              "      <td>30</td>\n",
              "      <td>295</td>\n",
              "      <td>681</td>\n",
              "      <td>772.0</td>\n",
              "      <td>154.0</td>\n",
              "      <td>NaN</td>\n",
              "    </tr>\n",
              "    <tr>\n",
              "      <th>8월</th>\n",
              "      <td>143</td>\n",
              "      <td>374</td>\n",
              "      <td>573</td>\n",
              "      <td>703.0</td>\n",
              "      <td>201.0</td>\n",
              "      <td>360.0</td>\n",
              "    </tr>\n",
              "    <tr>\n",
              "      <th>9월</th>\n",
              "      <td>26</td>\n",
              "      <td>333</td>\n",
              "      <td>777</td>\n",
              "      <td>NaN</td>\n",
              "      <td>NaN</td>\n",
              "      <td>NaN</td>\n",
              "    </tr>\n",
              "    <tr>\n",
              "      <th>10월</th>\n",
              "      <td>21</td>\n",
              "      <td>282</td>\n",
              "      <td>821</td>\n",
              "      <td>NaN</td>\n",
              "      <td>NaN</td>\n",
              "      <td>380.0</td>\n",
              "    </tr>\n",
              "  </tbody>\n",
              "</table>\n",
              "</div>"
            ],
            "text/plain": [
              "       배   사과   포도     딸기    복숭아    바나나\n",
              "4월   102  332  402  756.0   32.0    NaN\n",
              "5월    99  392  497  741.0   70.0  350.0\n",
              "6월    80  391  306  794.0   26.0  240.0\n",
              "7월    30  295  681  772.0  154.0    NaN\n",
              "8월   143  374  573  703.0  201.0  360.0\n",
              "9월    26  333  777    NaN    NaN    NaN\n",
              "10월   21  282  821    NaN    NaN  380.0"
            ]
          },
          "metadata": {},
          "execution_count": 77
        }
      ]
    },
    {
      "cell_type": "markdown",
      "metadata": {
        "id": "UtTptZwEVwdN"
      },
      "source": [
        "`merge()` 함수를 사용하면 특정한 열을 기준으로 데이터를 붙일 방향을 설정해서 데이터를 붙일 수 있습니다. 방향 설정은 매개변수 `how`에 지정하며 기본값은 `right`인 오른쪽입니다.\n",
        "\n",
        "먼저 방향을 설정하지 않고 기본값인 오른쪽으로 데이터를 합치겠습니다. 새로운 데이터프레임인 `dataframe11`을 생성합니다."
      ]
    },
    {
      "cell_type": "code",
      "metadata": {
        "colab": {
          "base_uri": "https://localhost:8080/",
          "height": 142
        },
        "id": "RSMUaGTObkRR",
        "outputId": "cd3daf31-036a-4028-f5cd-50b52dfa3d28"
      },
      "source": [
        "dataframe11 = pd.DataFrame({'판매점': ['SKT', 'KT', 'LG'],\n",
        "                            '휴대폰': [100, 200, 300],\n",
        "                            '집전화': [10, 20, 30]})\n",
        "dataframe11"
      ],
      "execution_count": 78,
      "outputs": [
        {
          "output_type": "execute_result",
          "data": {
            "text/html": [
              "<div>\n",
              "<style scoped>\n",
              "    .dataframe tbody tr th:only-of-type {\n",
              "        vertical-align: middle;\n",
              "    }\n",
              "\n",
              "    .dataframe tbody tr th {\n",
              "        vertical-align: top;\n",
              "    }\n",
              "\n",
              "    .dataframe thead th {\n",
              "        text-align: right;\n",
              "    }\n",
              "</style>\n",
              "<table border=\"1\" class=\"dataframe\">\n",
              "  <thead>\n",
              "    <tr style=\"text-align: right;\">\n",
              "      <th></th>\n",
              "      <th>판매점</th>\n",
              "      <th>휴대폰</th>\n",
              "      <th>집전화</th>\n",
              "    </tr>\n",
              "  </thead>\n",
              "  <tbody>\n",
              "    <tr>\n",
              "      <th>0</th>\n",
              "      <td>SKT</td>\n",
              "      <td>100</td>\n",
              "      <td>10</td>\n",
              "    </tr>\n",
              "    <tr>\n",
              "      <th>1</th>\n",
              "      <td>KT</td>\n",
              "      <td>200</td>\n",
              "      <td>20</td>\n",
              "    </tr>\n",
              "    <tr>\n",
              "      <th>2</th>\n",
              "      <td>LG</td>\n",
              "      <td>300</td>\n",
              "      <td>30</td>\n",
              "    </tr>\n",
              "  </tbody>\n",
              "</table>\n",
              "</div>"
            ],
            "text/plain": [
              "   판매점  휴대폰  집전화\n",
              "0  SKT  100   10\n",
              "1   KT  200   20\n",
              "2   LG  300   30"
            ]
          },
          "metadata": {},
          "execution_count": 78
        }
      ]
    },
    {
      "cell_type": "markdown",
      "metadata": {
        "id": "aPWGewWGcqiJ"
      },
      "source": [
        "`dataframe11`에 붙일 데이터프레임인 `dateframe12`를 생성하겠습니다."
      ]
    },
    {
      "cell_type": "code",
      "metadata": {
        "colab": {
          "base_uri": "https://localhost:8080/",
          "height": 142
        },
        "id": "lURO9BsScw5G",
        "outputId": "5f3ae306-d9df-4131-8485-ea30cff22e59"
      },
      "source": [
        "dataframe12 = pd.DataFrame({'판매점': ['SKT', 'KT', 'LG'],\n",
        "                            '인터넷': [11, 22, 33]})\n",
        "dataframe12"
      ],
      "execution_count": 79,
      "outputs": [
        {
          "output_type": "execute_result",
          "data": {
            "text/html": [
              "<div>\n",
              "<style scoped>\n",
              "    .dataframe tbody tr th:only-of-type {\n",
              "        vertical-align: middle;\n",
              "    }\n",
              "\n",
              "    .dataframe tbody tr th {\n",
              "        vertical-align: top;\n",
              "    }\n",
              "\n",
              "    .dataframe thead th {\n",
              "        text-align: right;\n",
              "    }\n",
              "</style>\n",
              "<table border=\"1\" class=\"dataframe\">\n",
              "  <thead>\n",
              "    <tr style=\"text-align: right;\">\n",
              "      <th></th>\n",
              "      <th>판매점</th>\n",
              "      <th>인터넷</th>\n",
              "    </tr>\n",
              "  </thead>\n",
              "  <tbody>\n",
              "    <tr>\n",
              "      <th>0</th>\n",
              "      <td>SKT</td>\n",
              "      <td>11</td>\n",
              "    </tr>\n",
              "    <tr>\n",
              "      <th>1</th>\n",
              "      <td>KT</td>\n",
              "      <td>22</td>\n",
              "    </tr>\n",
              "    <tr>\n",
              "      <th>2</th>\n",
              "      <td>LG</td>\n",
              "      <td>33</td>\n",
              "    </tr>\n",
              "  </tbody>\n",
              "</table>\n",
              "</div>"
            ],
            "text/plain": [
              "   판매점  인터넷\n",
              "0  SKT   11\n",
              "1   KT   22\n",
              "2   LG   33"
            ]
          },
          "metadata": {},
          "execution_count": 79
        }
      ]
    },
    {
      "cell_type": "markdown",
      "metadata": {
        "id": "Js-7uDnsc-45"
      },
      "source": [
        "두 데이터프레임을 붙이겠습니다."
      ]
    },
    {
      "cell_type": "code",
      "metadata": {
        "colab": {
          "base_uri": "https://localhost:8080/",
          "height": 142
        },
        "id": "EnvvaNuJdBVf",
        "outputId": "1db96df2-5a34-465f-da9b-723be62fb3a2"
      },
      "source": [
        "dataframe11.merge(dataframe12)"
      ],
      "execution_count": 80,
      "outputs": [
        {
          "output_type": "execute_result",
          "data": {
            "text/html": [
              "<div>\n",
              "<style scoped>\n",
              "    .dataframe tbody tr th:only-of-type {\n",
              "        vertical-align: middle;\n",
              "    }\n",
              "\n",
              "    .dataframe tbody tr th {\n",
              "        vertical-align: top;\n",
              "    }\n",
              "\n",
              "    .dataframe thead th {\n",
              "        text-align: right;\n",
              "    }\n",
              "</style>\n",
              "<table border=\"1\" class=\"dataframe\">\n",
              "  <thead>\n",
              "    <tr style=\"text-align: right;\">\n",
              "      <th></th>\n",
              "      <th>판매점</th>\n",
              "      <th>휴대폰</th>\n",
              "      <th>집전화</th>\n",
              "      <th>인터넷</th>\n",
              "    </tr>\n",
              "  </thead>\n",
              "  <tbody>\n",
              "    <tr>\n",
              "      <th>0</th>\n",
              "      <td>SKT</td>\n",
              "      <td>100</td>\n",
              "      <td>10</td>\n",
              "      <td>11</td>\n",
              "    </tr>\n",
              "    <tr>\n",
              "      <th>1</th>\n",
              "      <td>KT</td>\n",
              "      <td>200</td>\n",
              "      <td>20</td>\n",
              "      <td>22</td>\n",
              "    </tr>\n",
              "    <tr>\n",
              "      <th>2</th>\n",
              "      <td>LG</td>\n",
              "      <td>300</td>\n",
              "      <td>30</td>\n",
              "      <td>33</td>\n",
              "    </tr>\n",
              "  </tbody>\n",
              "</table>\n",
              "</div>"
            ],
            "text/plain": [
              "   판매점  휴대폰  집전화  인터넷\n",
              "0  SKT  100   10   11\n",
              "1   KT  200   20   22\n",
              "2   LG  300   30   33"
            ]
          },
          "metadata": {},
          "execution_count": 80
        }
      ]
    },
    {
      "cell_type": "markdown",
      "metadata": {
        "id": "nI5Q7GNHdIQd"
      },
      "source": [
        "위 두 데이터프레임은 '판매점' 열이 동일하여 손쉽게 통합됐습니다. 반대로 특정한 열을 기준으로 데이터의 일부만 공통된다면 `merge()` 함수에 매개변수를 전달해야 합니다. 이에 해당하는 매개변수는 통합하는 방법을 지정하는 `how`와 통합 기준 열을 지정하는 `on`입니다.\n",
        "\n",
        "아래는 매개변수 `how`에 대한 값 목록입니다.\n",
        "\n",
        "- `left`: 왼쪽 데이터는 모두 선택하고, 지정한 열의 값에 데이터가 있는 오른쪽 데이터를 선택합니다.\n",
        "\n",
        "- `right`: 오른쪽 데이터는 모두 선택하고, 지정한 열의 값에 데이터가 있는 왼쪽 데이터를 선택합니다.\n",
        "\n",
        "- `inner`: 지정한 열을 기준으로 왼쪽과 오른쪽 데이터 중에 공통되는 데이터만 선택합니다. 기본값입니다.\n",
        "\n",
        "- `outer`: 지정한 열을 기준으로 왼쪽과 오른쪽 데이터 모두를 선택합니다."
      ]
    },
    {
      "cell_type": "markdown",
      "metadata": {
        "id": "i3ct1V4ony8n"
      },
      "source": [
        "매개변수에 대한 예시를 들겠습니다. 새로운 데이터프레임을 생성하겠습니다."
      ]
    },
    {
      "cell_type": "code",
      "metadata": {
        "colab": {
          "base_uri": "https://localhost:8080/",
          "height": 142
        },
        "id": "3RSOnOagpx7X",
        "outputId": "cfa0751c-43da-43b0-bcb0-f1ffabf64d91"
      },
      "source": [
        "dataframe_seoul = pd.DataFrame({'기준': ['사과', '포도', '오이'],\n",
        "                               '서울': [1, 2, 3]})\n",
        "dataframe_seoul"
      ],
      "execution_count": 81,
      "outputs": [
        {
          "output_type": "execute_result",
          "data": {
            "text/html": [
              "<div>\n",
              "<style scoped>\n",
              "    .dataframe tbody tr th:only-of-type {\n",
              "        vertical-align: middle;\n",
              "    }\n",
              "\n",
              "    .dataframe tbody tr th {\n",
              "        vertical-align: top;\n",
              "    }\n",
              "\n",
              "    .dataframe thead th {\n",
              "        text-align: right;\n",
              "    }\n",
              "</style>\n",
              "<table border=\"1\" class=\"dataframe\">\n",
              "  <thead>\n",
              "    <tr style=\"text-align: right;\">\n",
              "      <th></th>\n",
              "      <th>기준</th>\n",
              "      <th>서울</th>\n",
              "    </tr>\n",
              "  </thead>\n",
              "  <tbody>\n",
              "    <tr>\n",
              "      <th>0</th>\n",
              "      <td>사과</td>\n",
              "      <td>1</td>\n",
              "    </tr>\n",
              "    <tr>\n",
              "      <th>1</th>\n",
              "      <td>포도</td>\n",
              "      <td>2</td>\n",
              "    </tr>\n",
              "    <tr>\n",
              "      <th>2</th>\n",
              "      <td>오이</td>\n",
              "      <td>3</td>\n",
              "    </tr>\n",
              "  </tbody>\n",
              "</table>\n",
              "</div>"
            ],
            "text/plain": [
              "   기준  서울\n",
              "0  사과   1\n",
              "1  포도   2\n",
              "2  오이   3"
            ]
          },
          "metadata": {},
          "execution_count": 81
        }
      ]
    },
    {
      "cell_type": "code",
      "metadata": {
        "colab": {
          "base_uri": "https://localhost:8080/",
          "height": 142
        },
        "id": "gEXLdF3dvGGk",
        "outputId": "f192d732-8738-4083-c45f-a5b06ec04b69"
      },
      "source": [
        "dataframe_gyeonggi = pd.DataFrame({'기준': ['사과', '포도', '가지'],\n",
        "                                '경기': [7, 8, 9]})\n",
        "dataframe_gyeonggi"
      ],
      "execution_count": 82,
      "outputs": [
        {
          "output_type": "execute_result",
          "data": {
            "text/html": [
              "<div>\n",
              "<style scoped>\n",
              "    .dataframe tbody tr th:only-of-type {\n",
              "        vertical-align: middle;\n",
              "    }\n",
              "\n",
              "    .dataframe tbody tr th {\n",
              "        vertical-align: top;\n",
              "    }\n",
              "\n",
              "    .dataframe thead th {\n",
              "        text-align: right;\n",
              "    }\n",
              "</style>\n",
              "<table border=\"1\" class=\"dataframe\">\n",
              "  <thead>\n",
              "    <tr style=\"text-align: right;\">\n",
              "      <th></th>\n",
              "      <th>기준</th>\n",
              "      <th>경기</th>\n",
              "    </tr>\n",
              "  </thead>\n",
              "  <tbody>\n",
              "    <tr>\n",
              "      <th>0</th>\n",
              "      <td>사과</td>\n",
              "      <td>7</td>\n",
              "    </tr>\n",
              "    <tr>\n",
              "      <th>1</th>\n",
              "      <td>포도</td>\n",
              "      <td>8</td>\n",
              "    </tr>\n",
              "    <tr>\n",
              "      <th>2</th>\n",
              "      <td>가지</td>\n",
              "      <td>9</td>\n",
              "    </tr>\n",
              "  </tbody>\n",
              "</table>\n",
              "</div>"
            ],
            "text/plain": [
              "   기준  경기\n",
              "0  사과   7\n",
              "1  포도   8\n",
              "2  가지   9"
            ]
          },
          "metadata": {},
          "execution_count": 82
        }
      ]
    },
    {
      "cell_type": "markdown",
      "metadata": {
        "id": "Xcf16ZRQvYIS"
      },
      "source": [
        "먼저 `left`를 전달하겠습니다. 코드에서 왼쪽에 위치한 '서울' 데이터프레임을 모두 가져오고, 그 데이터프레임의 '기준' 값과 일치하는 '경기' 데이터프레임의 값을 합칩니다. '경기' 데이터프레임의 '기준' 열에는 '오이' 값이 없으므로 'NaN'으로 표시됩니다."
      ]
    },
    {
      "cell_type": "code",
      "metadata": {
        "colab": {
          "base_uri": "https://localhost:8080/",
          "height": 142
        },
        "id": "JHY0xKaAxYsp",
        "outputId": "3388c52b-3da6-4e6f-831d-49bb2a37c0a0"
      },
      "source": [
        "dataframe_seoul.merge(dataframe_gyeonggi, how='left', on='기준')"
      ],
      "execution_count": 83,
      "outputs": [
        {
          "output_type": "execute_result",
          "data": {
            "text/html": [
              "<div>\n",
              "<style scoped>\n",
              "    .dataframe tbody tr th:only-of-type {\n",
              "        vertical-align: middle;\n",
              "    }\n",
              "\n",
              "    .dataframe tbody tr th {\n",
              "        vertical-align: top;\n",
              "    }\n",
              "\n",
              "    .dataframe thead th {\n",
              "        text-align: right;\n",
              "    }\n",
              "</style>\n",
              "<table border=\"1\" class=\"dataframe\">\n",
              "  <thead>\n",
              "    <tr style=\"text-align: right;\">\n",
              "      <th></th>\n",
              "      <th>기준</th>\n",
              "      <th>서울</th>\n",
              "      <th>경기</th>\n",
              "    </tr>\n",
              "  </thead>\n",
              "  <tbody>\n",
              "    <tr>\n",
              "      <th>0</th>\n",
              "      <td>사과</td>\n",
              "      <td>1</td>\n",
              "      <td>7.0</td>\n",
              "    </tr>\n",
              "    <tr>\n",
              "      <th>1</th>\n",
              "      <td>포도</td>\n",
              "      <td>2</td>\n",
              "      <td>8.0</td>\n",
              "    </tr>\n",
              "    <tr>\n",
              "      <th>2</th>\n",
              "      <td>오이</td>\n",
              "      <td>3</td>\n",
              "      <td>NaN</td>\n",
              "    </tr>\n",
              "  </tbody>\n",
              "</table>\n",
              "</div>"
            ],
            "text/plain": [
              "   기준  서울   경기\n",
              "0  사과   1  7.0\n",
              "1  포도   2  8.0\n",
              "2  오이   3  NaN"
            ]
          },
          "metadata": {},
          "execution_count": 83
        }
      ]
    },
    {
      "cell_type": "markdown",
      "metadata": {
        "id": "kb5Bcf7w6pGj"
      },
      "source": [
        "`right`를 전달하겠습니다. 코드에서 오른쪽에 위치한 '경기' 데이터프레임을 모두 가져오고, 그 데이터프레임의 '기준' 값과 일치하는 '서울' 데이터프레임의 값을 합칩니다. '서울' 데이터프레임의 '기준' 열에는 '가지' 값이 없으므로 'NaN'으로 표시됩니다."
      ]
    },
    {
      "cell_type": "code",
      "metadata": {
        "colab": {
          "base_uri": "https://localhost:8080/",
          "height": 142
        },
        "id": "G34XGIx166l1",
        "outputId": "e796f7e5-1009-4309-99c7-36db67e5456a"
      },
      "source": [
        "dataframe_seoul.merge(dataframe_gyeonggi, how='right', on='기준')"
      ],
      "execution_count": 84,
      "outputs": [
        {
          "output_type": "execute_result",
          "data": {
            "text/html": [
              "<div>\n",
              "<style scoped>\n",
              "    .dataframe tbody tr th:only-of-type {\n",
              "        vertical-align: middle;\n",
              "    }\n",
              "\n",
              "    .dataframe tbody tr th {\n",
              "        vertical-align: top;\n",
              "    }\n",
              "\n",
              "    .dataframe thead th {\n",
              "        text-align: right;\n",
              "    }\n",
              "</style>\n",
              "<table border=\"1\" class=\"dataframe\">\n",
              "  <thead>\n",
              "    <tr style=\"text-align: right;\">\n",
              "      <th></th>\n",
              "      <th>기준</th>\n",
              "      <th>서울</th>\n",
              "      <th>경기</th>\n",
              "    </tr>\n",
              "  </thead>\n",
              "  <tbody>\n",
              "    <tr>\n",
              "      <th>0</th>\n",
              "      <td>사과</td>\n",
              "      <td>1.0</td>\n",
              "      <td>7</td>\n",
              "    </tr>\n",
              "    <tr>\n",
              "      <th>1</th>\n",
              "      <td>포도</td>\n",
              "      <td>2.0</td>\n",
              "      <td>8</td>\n",
              "    </tr>\n",
              "    <tr>\n",
              "      <th>2</th>\n",
              "      <td>가지</td>\n",
              "      <td>NaN</td>\n",
              "      <td>9</td>\n",
              "    </tr>\n",
              "  </tbody>\n",
              "</table>\n",
              "</div>"
            ],
            "text/plain": [
              "   기준   서울  경기\n",
              "0  사과  1.0   7\n",
              "1  포도  2.0   8\n",
              "2  가지  NaN   9"
            ]
          },
          "metadata": {},
          "execution_count": 84
        }
      ]
    },
    {
      "cell_type": "markdown",
      "metadata": {
        "id": "hO3ELZQb7ISy"
      },
      "source": [
        "`inner`를 전달하겠습니다. 두 데이터프레임의 '기준' 값 중에 공통되는 값만 표시합니다. '사과'와 '포도'만 공통됩니다."
      ]
    },
    {
      "cell_type": "code",
      "metadata": {
        "colab": {
          "base_uri": "https://localhost:8080/",
          "height": 111
        },
        "id": "3SuKZrTV7XXo",
        "outputId": "48c549fd-5dce-4a55-ca59-a5f53e327055"
      },
      "source": [
        "dataframe_seoul.merge(dataframe_gyeonggi, how='inner', on='기준')"
      ],
      "execution_count": 85,
      "outputs": [
        {
          "output_type": "execute_result",
          "data": {
            "text/html": [
              "<div>\n",
              "<style scoped>\n",
              "    .dataframe tbody tr th:only-of-type {\n",
              "        vertical-align: middle;\n",
              "    }\n",
              "\n",
              "    .dataframe tbody tr th {\n",
              "        vertical-align: top;\n",
              "    }\n",
              "\n",
              "    .dataframe thead th {\n",
              "        text-align: right;\n",
              "    }\n",
              "</style>\n",
              "<table border=\"1\" class=\"dataframe\">\n",
              "  <thead>\n",
              "    <tr style=\"text-align: right;\">\n",
              "      <th></th>\n",
              "      <th>기준</th>\n",
              "      <th>서울</th>\n",
              "      <th>경기</th>\n",
              "    </tr>\n",
              "  </thead>\n",
              "  <tbody>\n",
              "    <tr>\n",
              "      <th>0</th>\n",
              "      <td>사과</td>\n",
              "      <td>1</td>\n",
              "      <td>7</td>\n",
              "    </tr>\n",
              "    <tr>\n",
              "      <th>1</th>\n",
              "      <td>포도</td>\n",
              "      <td>2</td>\n",
              "      <td>8</td>\n",
              "    </tr>\n",
              "  </tbody>\n",
              "</table>\n",
              "</div>"
            ],
            "text/plain": [
              "   기준  서울  경기\n",
              "0  사과   1   7\n",
              "1  포도   2   8"
            ]
          },
          "metadata": {},
          "execution_count": 85
        }
      ]
    },
    {
      "cell_type": "markdown",
      "metadata": {
        "id": "RvIRuo9O7jXy"
      },
      "source": [
        "`outer`를 전달하겠습니다. 두 데이터프레임의 '기준' 값을 모두 합칩니다."
      ]
    },
    {
      "cell_type": "code",
      "metadata": {
        "colab": {
          "base_uri": "https://localhost:8080/",
          "height": 173
        },
        "id": "FL_J7MAW7uFd",
        "outputId": "fd3c45b3-3f44-440b-cad5-2c3a0fc3cc8b"
      },
      "source": [
        "dataframe_seoul.merge(dataframe_gyeonggi, how='outer', on='기준')"
      ],
      "execution_count": 86,
      "outputs": [
        {
          "output_type": "execute_result",
          "data": {
            "text/html": [
              "<div>\n",
              "<style scoped>\n",
              "    .dataframe tbody tr th:only-of-type {\n",
              "        vertical-align: middle;\n",
              "    }\n",
              "\n",
              "    .dataframe tbody tr th {\n",
              "        vertical-align: top;\n",
              "    }\n",
              "\n",
              "    .dataframe thead th {\n",
              "        text-align: right;\n",
              "    }\n",
              "</style>\n",
              "<table border=\"1\" class=\"dataframe\">\n",
              "  <thead>\n",
              "    <tr style=\"text-align: right;\">\n",
              "      <th></th>\n",
              "      <th>기준</th>\n",
              "      <th>서울</th>\n",
              "      <th>경기</th>\n",
              "    </tr>\n",
              "  </thead>\n",
              "  <tbody>\n",
              "    <tr>\n",
              "      <th>0</th>\n",
              "      <td>사과</td>\n",
              "      <td>1.0</td>\n",
              "      <td>7.0</td>\n",
              "    </tr>\n",
              "    <tr>\n",
              "      <th>1</th>\n",
              "      <td>포도</td>\n",
              "      <td>2.0</td>\n",
              "      <td>8.0</td>\n",
              "    </tr>\n",
              "    <tr>\n",
              "      <th>2</th>\n",
              "      <td>오이</td>\n",
              "      <td>3.0</td>\n",
              "      <td>NaN</td>\n",
              "    </tr>\n",
              "    <tr>\n",
              "      <th>3</th>\n",
              "      <td>가지</td>\n",
              "      <td>NaN</td>\n",
              "      <td>9.0</td>\n",
              "    </tr>\n",
              "  </tbody>\n",
              "</table>\n",
              "</div>"
            ],
            "text/plain": [
              "   기준   서울   경기\n",
              "0  사과  1.0  7.0\n",
              "1  포도  2.0  8.0\n",
              "2  오이  3.0  NaN\n",
              "3  가지  NaN  9.0"
            ]
          },
          "metadata": {},
          "execution_count": 86
        }
      ]
    },
    {
      "cell_type": "markdown",
      "metadata": {
        "id": "271tYqg5CFBB"
      },
      "source": [
        "## **2.5. 데이터 파일 읽기**"
      ]
    },
    {
      "cell_type": "markdown",
      "metadata": {
        "id": "1pQkVW3y8GXH"
      },
      "source": [
        "`read_csv()` 함수를 사용하면 표 데이터인 csv 파일을 읽어올 수 있습니다. csv란 comma-separated values의 약자이고, 데이터 필드가 쉼표(,)로 구분된 파일을 의미합니다. 확장자는 `.csv`이며 텍스트로만 구성된 파일입니다. 물론 `sep` 매개변수에 구분자 값을 지정하면 쉼표가 아닌 다른 구분자로 구분된 데이터도 읽어올 수 있습니다. 먼저 구글 드라이브를 임포트 하고 아래에서 예시로 설명하겠습니다."
      ]
    },
    {
      "cell_type": "code",
      "metadata": {
        "colab": {
          "base_uri": "https://localhost:8080/"
        },
        "id": "rq6BPhSwPTlI",
        "outputId": "9645044c-0775-4631-9db9-fc93f975161d"
      },
      "source": [
        "from google.colab import drive\n",
        "drive.mount('/content/gdrive/')"
      ],
      "execution_count": 87,
      "outputs": [
        {
          "output_type": "stream",
          "name": "stdout",
          "text": [
            "Drive already mounted at /content/gdrive/; to attempt to forcibly remount, call drive.mount(\"/content/gdrive/\", force_remount=True).\n"
          ]
        }
      ]
    },
    {
      "cell_type": "code",
      "metadata": {
        "colab": {
          "base_uri": "https://localhost:8080/"
        },
        "id": "8VLxPb-9Pctu",
        "outputId": "42cea675-abb1-4c3a-f62d-62de9aa32883"
      },
      "source": [
        "cd /content/gdrive/MyDrive/Python_for_Data_Analytics_Science"
      ],
      "execution_count": 88,
      "outputs": [
        {
          "output_type": "stream",
          "name": "stdout",
          "text": [
            "/content/gdrive/MyDrive/Python_for_Data_Analytics_Science\n"
          ]
        }
      ]
    },
    {
      "cell_type": "markdown",
      "metadata": {
        "id": "Vt6piOFkPf5P"
      },
      "source": [
        "csv 파일을 생성하겠습니다."
      ]
    },
    {
      "cell_type": "code",
      "metadata": {
        "colab": {
          "base_uri": "https://localhost:8080/"
        },
        "id": "7K7J-XauPsN6",
        "outputId": "ce0c40bf-6ddf-4d0b-d1f3-bf01722e3542"
      },
      "source": [
        "%%writefile /content/gdrive/MyDrive/Python_for_Data_Analytics_Science/test_csv.test_csv\n",
        "\n",
        "월, 사과, 배, 포도, 바나나\n",
        "1, 15, 26, 32, 76\n",
        "2, 30, 20, 36, 47\n",
        "3, 42, 91, 25, 63\n",
        "4, 29, 84, 37, 72\n",
        "5, 53, 67, 74, 23"
      ],
      "execution_count": 93,
      "outputs": [
        {
          "output_type": "stream",
          "name": "stdout",
          "text": [
            "Overwriting /content/gdrive/MyDrive/Python_for_Data_Analytics_Science/test_csv.test_csv\n"
          ]
        }
      ]
    },
    {
      "cell_type": "markdown",
      "metadata": {
        "id": "gGSvNKh0QS_4"
      },
      "source": [
        "csv 파일을 읽겠습니다."
      ]
    },
    {
      "cell_type": "code",
      "metadata": {
        "colab": {
          "base_uri": "https://localhost:8080/",
          "height": 204
        },
        "id": "pxeP74-4QWlJ",
        "outputId": "70a44dfa-1895-4c66-abf8-63fc7a73efc3"
      },
      "source": [
        "pd.read_csv('/content/gdrive/MyDrive/Python_for_Data_Analytics_Science/test_csv.test_csv')"
      ],
      "execution_count": 94,
      "outputs": [
        {
          "output_type": "execute_result",
          "data": {
            "text/html": [
              "<div>\n",
              "<style scoped>\n",
              "    .dataframe tbody tr th:only-of-type {\n",
              "        vertical-align: middle;\n",
              "    }\n",
              "\n",
              "    .dataframe tbody tr th {\n",
              "        vertical-align: top;\n",
              "    }\n",
              "\n",
              "    .dataframe thead th {\n",
              "        text-align: right;\n",
              "    }\n",
              "</style>\n",
              "<table border=\"1\" class=\"dataframe\">\n",
              "  <thead>\n",
              "    <tr style=\"text-align: right;\">\n",
              "      <th></th>\n",
              "      <th>월</th>\n",
              "      <th>사과</th>\n",
              "      <th>배</th>\n",
              "      <th>포도</th>\n",
              "      <th>바나나</th>\n",
              "    </tr>\n",
              "  </thead>\n",
              "  <tbody>\n",
              "    <tr>\n",
              "      <th>0</th>\n",
              "      <td>1</td>\n",
              "      <td>15</td>\n",
              "      <td>26</td>\n",
              "      <td>32</td>\n",
              "      <td>76</td>\n",
              "    </tr>\n",
              "    <tr>\n",
              "      <th>1</th>\n",
              "      <td>2</td>\n",
              "      <td>30</td>\n",
              "      <td>20</td>\n",
              "      <td>36</td>\n",
              "      <td>47</td>\n",
              "    </tr>\n",
              "    <tr>\n",
              "      <th>2</th>\n",
              "      <td>3</td>\n",
              "      <td>42</td>\n",
              "      <td>91</td>\n",
              "      <td>25</td>\n",
              "      <td>63</td>\n",
              "    </tr>\n",
              "    <tr>\n",
              "      <th>3</th>\n",
              "      <td>4</td>\n",
              "      <td>29</td>\n",
              "      <td>84</td>\n",
              "      <td>37</td>\n",
              "      <td>72</td>\n",
              "    </tr>\n",
              "    <tr>\n",
              "      <th>4</th>\n",
              "      <td>5</td>\n",
              "      <td>53</td>\n",
              "      <td>67</td>\n",
              "      <td>74</td>\n",
              "      <td>23</td>\n",
              "    </tr>\n",
              "  </tbody>\n",
              "</table>\n",
              "</div>"
            ],
            "text/plain": [
              "   월   사과   배   포도   바나나\n",
              "0  1   15  26   32    76\n",
              "1  2   30  20   36    47\n",
              "2  3   42  91   25    63\n",
              "3  4   29  84   37    72\n",
              "4  5   53  67   74    23"
            ]
          },
          "metadata": {},
          "execution_count": 94
        }
      ]
    },
    {
      "cell_type": "markdown",
      "metadata": {
        "id": "w7gwCJc4RdGH"
      },
      "source": [
        "## **2.6. 데이터 파일 쓰기**"
      ]
    }
  ]
}