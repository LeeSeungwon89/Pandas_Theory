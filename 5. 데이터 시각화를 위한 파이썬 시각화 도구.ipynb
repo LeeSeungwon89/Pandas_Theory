{
  "nbformat": 4,
  "nbformat_minor": 0,
  "metadata": {
    "colab": {
      "name": "5. 데이터 시각화를 위한 파이썬 시각화 도구.ipynb",
      "provenance": [],
      "collapsed_sections": [],
      "toc_visible": true,
      "authorship_tag": "ABX9TyN03iLL+t0QhDbKmBcIDn5E",
      "include_colab_link": true
    },
    "kernelspec": {
      "name": "python3",
      "display_name": "Python 3"
    },
    "language_info": {
      "name": "python"
    }
  },
  "cells": [
    {
      "cell_type": "markdown",
      "metadata": {
        "id": "view-in-github",
        "colab_type": "text"
      },
      "source": [
        "<a href=\"https://colab.research.google.com/github/LeeSeungwon89/Python_for_Data_Analytics_Science/blob/main/5.%20%EB%8D%B0%EC%9D%B4%ED%84%B0%20%EC%8B%9C%EA%B0%81%ED%99%94%EB%A5%BC%20%EC%9C%84%ED%95%9C%20%ED%8C%8C%EC%9D%B4%EC%8D%AC%20%EC%8B%9C%EA%B0%81%ED%99%94%20%EB%8F%84%EA%B5%AC.ipynb\" target=\"_parent\"><img src=\"https://colab.research.google.com/assets/colab-badge.svg\" alt=\"Open In Colab\"/></a>"
      ]
    },
    {
      "cell_type": "markdown",
      "metadata": {
        "id": "5VTaZXIloC9o"
      },
      "source": [
        "# **1. Matplotlib**"
      ]
    },
    {
      "cell_type": "code",
      "metadata": {
        "id": "7KeRXf10fwJx"
      },
      "source": [
        "# 기본적인 라이브러리입니다.\n",
        "import time\n",
        "import datetime\n",
        "import random\n",
        "import math\n",
        "\n",
        "# 데이터 분석을 위한 라이브러리입니다.\n",
        "import numpy as np\n",
        "import pandas as pd\n",
        "import sklearn as sk\n",
        "\n",
        "# 수학 라이브러리입니다.\n",
        "import scipy as sp\n",
        "import statsmodels.api as sm\n",
        "\n",
        "# 웹 스크레이핑을 위한 라이브러리입니다\n",
        "import re\n",
        "import requests\n",
        "from bs4 import BeautifulSoup\n",
        "import os\n",
        "import json\n",
        "\n",
        "# 시각화 라이브러리입니다.\n",
        "import matplotlib as mpl\n",
        "import matplotlib.pylab as plb\n",
        "import matplotlib.pyplot as plt\n",
        "import seaborn as sns\n",
        "import folium\n",
        "\n",
        "# 시각화 자료를 바로 띄워줍니다.\n",
        "%matplotlib inline\n",
        "\n",
        "# 그래프에 retina를 지정합니다.\n",
        "%config InlineBackend.figure_format = 'retina'\n",
        "\n",
        "# 음수 부호를 깨지지 않도록 합니다.\n",
        "mpl.rc('axes', unicode_minus=False)"
      ],
      "execution_count": null,
      "outputs": []
    },
    {
      "cell_type": "markdown",
      "metadata": {
        "id": "pS1m3eoswPai"
      },
      "source": [
        "## **1.1. 선 그래프**"
      ]
    },
    {
      "cell_type": "markdown",
      "metadata": {
        "id": "hJBEcHZtwPYB"
      },
      "source": [
        "## **1.2. 산점도**"
      ]
    },
    {
      "cell_type": "markdown",
      "metadata": {
        "id": "KHppLKdvwPVy"
      },
      "source": [
        "## **1.3. 막대 그래프**"
      ]
    },
    {
      "cell_type": "markdown",
      "metadata": {
        "id": "20wrRtTowPTK"
      },
      "source": [
        "## **1.4. 히스토그램**"
      ]
    },
    {
      "cell_type": "markdown",
      "metadata": {
        "id": "QfbbIMjqwPQq"
      },
      "source": [
        "## **1.5. 파이 차트**"
      ]
    },
    {
      "cell_type": "markdown",
      "metadata": {
        "id": "BV00l1bSwPOR"
      },
      "source": [
        "## **1.6. 면적 그래프**"
      ]
    },
    {
      "cell_type": "markdown",
      "metadata": {
        "id": "x-TG1qRrw4bK"
      },
      "source": [
        "## **1.7. 박스 플롯**"
      ]
    },
    {
      "cell_type": "markdown",
      "metadata": {
        "id": "AI4rLw-foJAU"
      },
      "source": [
        "# **2. Seaborn**"
      ]
    },
    {
      "cell_type": "markdown",
      "metadata": {
        "id": "pV4k_nMdxAUq"
      },
      "source": [
        "## **2.1. 회귀선 산점도**"
      ]
    },
    {
      "cell_type": "markdown",
      "metadata": {
        "id": "o5di-Q-axLt4"
      },
      "source": [
        "## **2.2. 범주형 산점도**"
      ]
    },
    {
      "cell_type": "markdown",
      "metadata": {
        "id": "AaR1d0TcxQbn"
      },
      "source": [
        "## **2.3. 막대 그래프**"
      ]
    },
    {
      "cell_type": "markdown",
      "metadata": {
        "id": "ACgTEKe8xkNY"
      },
      "source": [
        "## **2.4. 빈도 그래프**"
      ]
    },
    {
      "cell_type": "markdown",
      "metadata": {
        "id": "RJU9n_hPxw5u"
      },
      "source": [
        "## **2.5. 히스토그램, 커널 밀도 그래프**"
      ]
    },
    {
      "cell_type": "markdown",
      "metadata": {
        "id": "JA21ZYIyx0Ga"
      },
      "source": [
        "## **2.6. 히트맵**"
      ]
    },
    {
      "cell_type": "markdown",
      "metadata": {
        "id": "gD3PVSWnx5p1"
      },
      "source": [
        "## **2.7. 조인트 그래프**"
      ]
    },
    {
      "cell_type": "markdown",
      "metadata": {
        "id": "HpSFpNUdx6yw"
      },
      "source": [
        "## **2.8. 박스 플롯, 바이올린 그래프**"
      ]
    },
    {
      "cell_type": "markdown",
      "metadata": {
        "id": "h97mYR0rx73E"
      },
      "source": [
        "## **2.9. 화면 그리드 분할**"
      ]
    },
    {
      "cell_type": "markdown",
      "metadata": {
        "id": "3323lNnkx9UH"
      },
      "source": [
        "## **2.10. 이변수 데이터 분포**"
      ]
    },
    {
      "cell_type": "markdown",
      "metadata": {
        "id": "X18yL-HhoqY_"
      },
      "source": [
        "# **3. Folium**"
      ]
    },
    {
      "cell_type": "markdown",
      "metadata": {
        "id": "IuKpcoCQzLp2"
      },
      "source": [
        "## **3.1. 지도 생성하기**"
      ]
    },
    {
      "cell_type": "markdown",
      "metadata": {
        "id": "hlDwy6pZzP_s"
      },
      "source": [
        "## **3.2. 스타일 적용하기**"
      ]
    },
    {
      "cell_type": "markdown",
      "metadata": {
        "id": "l48ipIdpzWHm"
      },
      "source": [
        "## **3.3. 마커 사용하기**"
      ]
    },
    {
      "cell_type": "markdown",
      "metadata": {
        "id": "Irm3h5awzaby"
      },
      "source": [
        "## **3.4. 단계 구분도 적용하기**"
      ]
    }
  ]
}