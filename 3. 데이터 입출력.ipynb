{
  "nbformat": 4,
  "nbformat_minor": 0,
  "metadata": {
    "colab": {
      "name": "3. 데이터 입출력.ipynb",
      "provenance": [],
      "collapsed_sections": [],
      "toc_visible": true,
      "authorship_tag": "ABX9TyMC+kmc9zzrdHNZsMwFR8hk",
      "include_colab_link": true
    },
    "kernelspec": {
      "name": "python3",
      "display_name": "Python 3"
    },
    "language_info": {
      "name": "python"
    }
  },
  "cells": [
    {
      "cell_type": "markdown",
      "metadata": {
        "id": "view-in-github",
        "colab_type": "text"
      },
      "source": [
        "<a href=\"https://colab.research.google.com/github/LeeSeungwon89/Python_for_Data_Analytics_Science/blob/main/3.%20%EB%8D%B0%EC%9D%B4%ED%84%B0%20%EC%9E%85%EC%B6%9C%EB%A0%A5.ipynb\" target=\"_parent\"><img src=\"https://colab.research.google.com/assets/colab-badge.svg\" alt=\"Open In Colab\"/></a>"
      ]
    },
    {
      "cell_type": "markdown",
      "metadata": {
        "id": "XXmoFAq1sTd3"
      },
      "source": [
        "# **1. 데이터 입출력 심화**"
      ]
    },
    {
      "cell_type": "markdown",
      "metadata": {
        "id": "GPWnEZ8taxFP"
      },
      "source": [
        "데이터 입출력은 전 챕터인 **2. 데이터를 다루기 위한 파이썬 패키지**에서 약간 다뤘습니다. 이번 챕터에서는 좀 더 다양한 파일 형식을 다루는 법을 정리하겠습니다. **데이터 분석을 위한 파이썬 철저 입문(최은석, 위키북스)**, **파이썬 머신러닝 판다스 데이터 분석(오승환, 정보문화사)**을 참고했습니다."
      ]
    },
    {
      "cell_type": "code",
      "metadata": {
        "colab": {
          "base_uri": "https://localhost:8080/"
        },
        "id": "7aeeg2lwg4t9",
        "outputId": "7d637609-2083-4287-eb15-0c8d3f483cd3"
      },
      "source": [
        "from google.colab import drive\n",
        "drive.mount('/content/gdrive/')"
      ],
      "execution_count": 1,
      "outputs": [
        {
          "output_type": "stream",
          "name": "stdout",
          "text": [
            "Mounted at /content/gdrive/\n"
          ]
        }
      ]
    },
    {
      "cell_type": "code",
      "metadata": {
        "colab": {
          "base_uri": "https://localhost:8080/"
        },
        "id": "Du43C7Keg9Qi",
        "outputId": "e3a3c353-6ab8-4957-9208-6a8edc3b82d2"
      },
      "source": [
        "cd /content/gdrive/MyDrive/Python_for_Data_Analytics_Science"
      ],
      "execution_count": 2,
      "outputs": [
        {
          "output_type": "stream",
          "name": "stdout",
          "text": [
            "/content/gdrive/MyDrive/Python_for_Data_Analytics_Science\n"
          ]
        }
      ]
    },
    {
      "cell_type": "code",
      "metadata": {
        "id": "7qyMN8QQhOA-"
      },
      "source": [
        "import pandas as pd"
      ],
      "execution_count": 3,
      "outputs": []
    },
    {
      "cell_type": "markdown",
      "metadata": {
        "id": "7tfveIMHuZIR"
      },
      "source": [
        "## **1.1. CSV**"
      ]
    },
    {
      "cell_type": "markdown",
      "metadata": {
        "id": "50PfQ6CdskMt"
      },
      "source": [
        "### **1.1.1. 파일 읽기**"
      ]
    },
    {
      "cell_type": "markdown",
      "metadata": {
        "id": "I8WKEKUEdTSq"
      },
      "source": [
        "`read_csv()` 메서드로 `csv` 파일을 읽습니다. 매개변수 `header`에 행 번호를 인자로 전달하면 해당하는 행을 열명으로 지정합니다. 기본값은 `0`이며 첫 번째 행을 열명으로 삼습니다. 아래에서 예시하겠습니다."
      ]
    },
    {
      "cell_type": "code",
      "metadata": {
        "colab": {
          "base_uri": "https://localhost:8080/",
          "height": 142
        },
        "id": "bz5db_xF5ZsI",
        "outputId": "b7e8f187-aa58-4fe4-c002-3db7fd776a33"
      },
      "source": [
        "file_path = '/content/gdrive/MyDrive/Python_for_Data_Analytics_Science/5674-833_4th/part2/read_csv_sample.csv'\n",
        "pd.read_csv(file_path)"
      ],
      "execution_count": 4,
      "outputs": [
        {
          "output_type": "execute_result",
          "data": {
            "text/html": [
              "<div>\n",
              "<style scoped>\n",
              "    .dataframe tbody tr th:only-of-type {\n",
              "        vertical-align: middle;\n",
              "    }\n",
              "\n",
              "    .dataframe tbody tr th {\n",
              "        vertical-align: top;\n",
              "    }\n",
              "\n",
              "    .dataframe thead th {\n",
              "        text-align: right;\n",
              "    }\n",
              "</style>\n",
              "<table border=\"1\" class=\"dataframe\">\n",
              "  <thead>\n",
              "    <tr style=\"text-align: right;\">\n",
              "      <th></th>\n",
              "      <th>c0</th>\n",
              "      <th>c1</th>\n",
              "      <th>c2</th>\n",
              "      <th>c3</th>\n",
              "    </tr>\n",
              "  </thead>\n",
              "  <tbody>\n",
              "    <tr>\n",
              "      <th>0</th>\n",
              "      <td>0</td>\n",
              "      <td>1</td>\n",
              "      <td>4</td>\n",
              "      <td>7</td>\n",
              "    </tr>\n",
              "    <tr>\n",
              "      <th>1</th>\n",
              "      <td>1</td>\n",
              "      <td>2</td>\n",
              "      <td>5</td>\n",
              "      <td>8</td>\n",
              "    </tr>\n",
              "    <tr>\n",
              "      <th>2</th>\n",
              "      <td>2</td>\n",
              "      <td>3</td>\n",
              "      <td>6</td>\n",
              "      <td>9</td>\n",
              "    </tr>\n",
              "  </tbody>\n",
              "</table>\n",
              "</div>"
            ],
            "text/plain": [
              "   c0  c1  c2  c3\n",
              "0   0   1   4   7\n",
              "1   1   2   5   8\n",
              "2   2   3   6   9"
            ]
          },
          "metadata": {},
          "execution_count": 4
        }
      ]
    },
    {
      "cell_type": "code",
      "metadata": {
        "colab": {
          "base_uri": "https://localhost:8080/",
          "height": 110
        },
        "id": "Cz2yLOrd9S6T",
        "outputId": "c12cfab0-32de-41a8-b958-96ca83e56e2e"
      },
      "source": [
        "pd.read_csv(file_path, header=1)"
      ],
      "execution_count": 5,
      "outputs": [
        {
          "output_type": "execute_result",
          "data": {
            "text/html": [
              "<div>\n",
              "<style scoped>\n",
              "    .dataframe tbody tr th:only-of-type {\n",
              "        vertical-align: middle;\n",
              "    }\n",
              "\n",
              "    .dataframe tbody tr th {\n",
              "        vertical-align: top;\n",
              "    }\n",
              "\n",
              "    .dataframe thead th {\n",
              "        text-align: right;\n",
              "    }\n",
              "</style>\n",
              "<table border=\"1\" class=\"dataframe\">\n",
              "  <thead>\n",
              "    <tr style=\"text-align: right;\">\n",
              "      <th></th>\n",
              "      <th>0</th>\n",
              "      <th>1</th>\n",
              "      <th>4</th>\n",
              "      <th>7</th>\n",
              "    </tr>\n",
              "  </thead>\n",
              "  <tbody>\n",
              "    <tr>\n",
              "      <th>0</th>\n",
              "      <td>1</td>\n",
              "      <td>2</td>\n",
              "      <td>5</td>\n",
              "      <td>8</td>\n",
              "    </tr>\n",
              "    <tr>\n",
              "      <th>1</th>\n",
              "      <td>2</td>\n",
              "      <td>3</td>\n",
              "      <td>6</td>\n",
              "      <td>9</td>\n",
              "    </tr>\n",
              "  </tbody>\n",
              "</table>\n",
              "</div>"
            ],
            "text/plain": [
              "   0  1  4  7\n",
              "0  1  2  5  8\n",
              "1  2  3  6  9"
            ]
          },
          "metadata": {},
          "execution_count": 5
        }
      ]
    },
    {
      "cell_type": "markdown",
      "metadata": {
        "id": "I6iRPNcb7uWj"
      },
      "source": [
        "`header=None`으로 지정하면 열로 지정되지 않습니다."
      ]
    },
    {
      "cell_type": "code",
      "metadata": {
        "colab": {
          "base_uri": "https://localhost:8080/",
          "height": 172
        },
        "id": "8CZwPVrZ5lKX",
        "outputId": "1d53910d-edc4-4721-86f8-0879cba8ff98"
      },
      "source": [
        "pd.read_csv(file_path, header=None)"
      ],
      "execution_count": 6,
      "outputs": [
        {
          "output_type": "execute_result",
          "data": {
            "text/html": [
              "<div>\n",
              "<style scoped>\n",
              "    .dataframe tbody tr th:only-of-type {\n",
              "        vertical-align: middle;\n",
              "    }\n",
              "\n",
              "    .dataframe tbody tr th {\n",
              "        vertical-align: top;\n",
              "    }\n",
              "\n",
              "    .dataframe thead th {\n",
              "        text-align: right;\n",
              "    }\n",
              "</style>\n",
              "<table border=\"1\" class=\"dataframe\">\n",
              "  <thead>\n",
              "    <tr style=\"text-align: right;\">\n",
              "      <th></th>\n",
              "      <th>0</th>\n",
              "      <th>1</th>\n",
              "      <th>2</th>\n",
              "      <th>3</th>\n",
              "    </tr>\n",
              "  </thead>\n",
              "  <tbody>\n",
              "    <tr>\n",
              "      <th>0</th>\n",
              "      <td>c0</td>\n",
              "      <td>c1</td>\n",
              "      <td>c2</td>\n",
              "      <td>c3</td>\n",
              "    </tr>\n",
              "    <tr>\n",
              "      <th>1</th>\n",
              "      <td>0</td>\n",
              "      <td>1</td>\n",
              "      <td>4</td>\n",
              "      <td>7</td>\n",
              "    </tr>\n",
              "    <tr>\n",
              "      <th>2</th>\n",
              "      <td>1</td>\n",
              "      <td>2</td>\n",
              "      <td>5</td>\n",
              "      <td>8</td>\n",
              "    </tr>\n",
              "    <tr>\n",
              "      <th>3</th>\n",
              "      <td>2</td>\n",
              "      <td>3</td>\n",
              "      <td>6</td>\n",
              "      <td>9</td>\n",
              "    </tr>\n",
              "  </tbody>\n",
              "</table>\n",
              "</div>"
            ],
            "text/plain": [
              "    0   1   2   3\n",
              "0  c0  c1  c2  c3\n",
              "1   0   1   4   7\n",
              "2   1   2   5   8\n",
              "3   2   3   6   9"
            ]
          },
          "metadata": {},
          "execution_count": 6
        }
      ]
    },
    {
      "cell_type": "markdown",
      "metadata": {
        "id": "OV9onm1I78of"
      },
      "source": [
        "매개변수 `index_col`의 기본값은 `None`입니다. 인덱스로 컬럼을 지정하지 않았다는 의미입니다."
      ]
    },
    {
      "cell_type": "code",
      "metadata": {
        "colab": {
          "base_uri": "https://localhost:8080/",
          "height": 142
        },
        "id": "61lOxWPa8aX2",
        "outputId": "0bf118b6-454f-4e9a-9947-dbb4a5a01117"
      },
      "source": [
        "pd.read_csv(file_path, index_col=None)"
      ],
      "execution_count": 7,
      "outputs": [
        {
          "output_type": "execute_result",
          "data": {
            "text/html": [
              "<div>\n",
              "<style scoped>\n",
              "    .dataframe tbody tr th:only-of-type {\n",
              "        vertical-align: middle;\n",
              "    }\n",
              "\n",
              "    .dataframe tbody tr th {\n",
              "        vertical-align: top;\n",
              "    }\n",
              "\n",
              "    .dataframe thead th {\n",
              "        text-align: right;\n",
              "    }\n",
              "</style>\n",
              "<table border=\"1\" class=\"dataframe\">\n",
              "  <thead>\n",
              "    <tr style=\"text-align: right;\">\n",
              "      <th></th>\n",
              "      <th>c0</th>\n",
              "      <th>c1</th>\n",
              "      <th>c2</th>\n",
              "      <th>c3</th>\n",
              "    </tr>\n",
              "  </thead>\n",
              "  <tbody>\n",
              "    <tr>\n",
              "      <th>0</th>\n",
              "      <td>0</td>\n",
              "      <td>1</td>\n",
              "      <td>4</td>\n",
              "      <td>7</td>\n",
              "    </tr>\n",
              "    <tr>\n",
              "      <th>1</th>\n",
              "      <td>1</td>\n",
              "      <td>2</td>\n",
              "      <td>5</td>\n",
              "      <td>8</td>\n",
              "    </tr>\n",
              "    <tr>\n",
              "      <th>2</th>\n",
              "      <td>2</td>\n",
              "      <td>3</td>\n",
              "      <td>6</td>\n",
              "      <td>9</td>\n",
              "    </tr>\n",
              "  </tbody>\n",
              "</table>\n",
              "</div>"
            ],
            "text/plain": [
              "   c0  c1  c2  c3\n",
              "0   0   1   4   7\n",
              "1   1   2   5   8\n",
              "2   2   3   6   9"
            ]
          },
          "metadata": {},
          "execution_count": 7
        }
      ]
    },
    {
      "cell_type": "markdown",
      "metadata": {
        "id": "57X6S1BC_Ww5"
      },
      "source": [
        "`index_col` 매개변수에 'c1' 열을 전달하겠습니다."
      ]
    },
    {
      "cell_type": "code",
      "metadata": {
        "colab": {
          "base_uri": "https://localhost:8080/",
          "height": 172
        },
        "id": "bVPz43L-_dyv",
        "outputId": "283511c2-8e14-425b-922b-d8cd25967218"
      },
      "source": [
        "pd.read_csv(file_path, index_col=['c1'])"
      ],
      "execution_count": 8,
      "outputs": [
        {
          "output_type": "execute_result",
          "data": {
            "text/html": [
              "<div>\n",
              "<style scoped>\n",
              "    .dataframe tbody tr th:only-of-type {\n",
              "        vertical-align: middle;\n",
              "    }\n",
              "\n",
              "    .dataframe tbody tr th {\n",
              "        vertical-align: top;\n",
              "    }\n",
              "\n",
              "    .dataframe thead th {\n",
              "        text-align: right;\n",
              "    }\n",
              "</style>\n",
              "<table border=\"1\" class=\"dataframe\">\n",
              "  <thead>\n",
              "    <tr style=\"text-align: right;\">\n",
              "      <th></th>\n",
              "      <th>c0</th>\n",
              "      <th>c2</th>\n",
              "      <th>c3</th>\n",
              "    </tr>\n",
              "    <tr>\n",
              "      <th>c1</th>\n",
              "      <th></th>\n",
              "      <th></th>\n",
              "      <th></th>\n",
              "    </tr>\n",
              "  </thead>\n",
              "  <tbody>\n",
              "    <tr>\n",
              "      <th>1</th>\n",
              "      <td>0</td>\n",
              "      <td>4</td>\n",
              "      <td>7</td>\n",
              "    </tr>\n",
              "    <tr>\n",
              "      <th>2</th>\n",
              "      <td>1</td>\n",
              "      <td>5</td>\n",
              "      <td>8</td>\n",
              "    </tr>\n",
              "    <tr>\n",
              "      <th>3</th>\n",
              "      <td>2</td>\n",
              "      <td>6</td>\n",
              "      <td>9</td>\n",
              "    </tr>\n",
              "  </tbody>\n",
              "</table>\n",
              "</div>"
            ],
            "text/plain": [
              "    c0  c2  c3\n",
              "c1            \n",
              "1    0   4   7\n",
              "2    1   5   8\n",
              "3    2   6   9"
            ]
          },
          "metadata": {},
          "execution_count": 8
        }
      ]
    },
    {
      "cell_type": "markdown",
      "metadata": {
        "id": "sW_P8-1q_tYK"
      },
      "source": [
        "다중으로 전달할 수도 있습니다."
      ]
    },
    {
      "cell_type": "code",
      "metadata": {
        "colab": {
          "base_uri": "https://localhost:8080/",
          "height": 172
        },
        "id": "jhFqkhRA_p5z",
        "outputId": "12ca3566-ef5f-4a07-a3d9-4e59482f5383"
      },
      "source": [
        "pd.read_csv(file_path, index_col=['c1', 'c0'])"
      ],
      "execution_count": 9,
      "outputs": [
        {
          "output_type": "execute_result",
          "data": {
            "text/html": [
              "<div>\n",
              "<style scoped>\n",
              "    .dataframe tbody tr th:only-of-type {\n",
              "        vertical-align: middle;\n",
              "    }\n",
              "\n",
              "    .dataframe tbody tr th {\n",
              "        vertical-align: top;\n",
              "    }\n",
              "\n",
              "    .dataframe thead th {\n",
              "        text-align: right;\n",
              "    }\n",
              "</style>\n",
              "<table border=\"1\" class=\"dataframe\">\n",
              "  <thead>\n",
              "    <tr style=\"text-align: right;\">\n",
              "      <th></th>\n",
              "      <th></th>\n",
              "      <th>c2</th>\n",
              "      <th>c3</th>\n",
              "    </tr>\n",
              "    <tr>\n",
              "      <th>c1</th>\n",
              "      <th>c0</th>\n",
              "      <th></th>\n",
              "      <th></th>\n",
              "    </tr>\n",
              "  </thead>\n",
              "  <tbody>\n",
              "    <tr>\n",
              "      <th>1</th>\n",
              "      <th>0</th>\n",
              "      <td>4</td>\n",
              "      <td>7</td>\n",
              "    </tr>\n",
              "    <tr>\n",
              "      <th>2</th>\n",
              "      <th>1</th>\n",
              "      <td>5</td>\n",
              "      <td>8</td>\n",
              "    </tr>\n",
              "    <tr>\n",
              "      <th>3</th>\n",
              "      <th>2</th>\n",
              "      <td>6</td>\n",
              "      <td>9</td>\n",
              "    </tr>\n",
              "  </tbody>\n",
              "</table>\n",
              "</div>"
            ],
            "text/plain": [
              "       c2  c3\n",
              "c1 c0        \n",
              "1  0    4   7\n",
              "2  1    5   8\n",
              "3  2    6   9"
            ]
          },
          "metadata": {},
          "execution_count": 9
        }
      ]
    },
    {
      "cell_type": "markdown",
      "metadata": {
        "id": "02e9jX1d_6Sj"
      },
      "source": [
        "몇 가지 주요 매개변수에 대한 목록은 아래와 같습니다.\n",
        "\n",
        "- `sep` or `delimiter`: 각각 데이터를 구분한 구분자를 전달합니다.\n",
        "\n",
        "- `names`: 열명으로 사용할 문자열 리스트를 전달합니다.\n",
        "\n",
        "- `skiprows`: 처음 몇 줄을 스킵할 것인지 설정합니다. 예컨대 `[0, 1]`로 지정하면 0행과 1행은 출력하지 않습니다.\n",
        "\n",
        "- `parse_dates`: 날짜 텍스트를 `datatime64` 형으로 바꿀지 설정합니다. 기본값은 `False`입니다.\n",
        "\n",
        "- `skip_footer`: 마지막 몇 줄을 스킵할 것인지 설정합니다.\n",
        "\n",
        "- `encoding`: 텍스트 인코딩 유형을 지정합니다."
      ]
    },
    {
      "cell_type": "markdown",
      "metadata": {
        "id": "dJhN8EfwuVFk"
      },
      "source": [
        "### **1.1.2. 파일 저장하기**"
      ]
    },
    {
      "cell_type": "markdown",
      "metadata": {
        "id": "TYQ4l0TMBfDp"
      },
      "source": [
        "`to_csv()` 메서드로 `csv` 파일로 저장할 수 있습니다."
      ]
    },
    {
      "cell_type": "code",
      "metadata": {
        "colab": {
          "base_uri": "https://localhost:8080/",
          "height": 142
        },
        "id": "vO7CFXbLBxXy",
        "outputId": "c7aa6346-0ba2-47c6-cddf-ffbf3ccc1bb0"
      },
      "source": [
        "csv_data = {'name': ['Jerry', 'Riah', 'Paul'],\n",
        "            'algol': ['A', 'A+', 'B'],\n",
        "            'basic': ['C', 'B', 'B+'],\n",
        "            'c++': ['B+', 'C', 'C+']}\n",
        "df_csv = pd.DataFrame(csv_data)\n",
        "df_csv"
      ],
      "execution_count": 10,
      "outputs": [
        {
          "output_type": "execute_result",
          "data": {
            "text/html": [
              "<div>\n",
              "<style scoped>\n",
              "    .dataframe tbody tr th:only-of-type {\n",
              "        vertical-align: middle;\n",
              "    }\n",
              "\n",
              "    .dataframe tbody tr th {\n",
              "        vertical-align: top;\n",
              "    }\n",
              "\n",
              "    .dataframe thead th {\n",
              "        text-align: right;\n",
              "    }\n",
              "</style>\n",
              "<table border=\"1\" class=\"dataframe\">\n",
              "  <thead>\n",
              "    <tr style=\"text-align: right;\">\n",
              "      <th></th>\n",
              "      <th>name</th>\n",
              "      <th>algol</th>\n",
              "      <th>basic</th>\n",
              "      <th>c++</th>\n",
              "    </tr>\n",
              "  </thead>\n",
              "  <tbody>\n",
              "    <tr>\n",
              "      <th>0</th>\n",
              "      <td>Jerry</td>\n",
              "      <td>A</td>\n",
              "      <td>C</td>\n",
              "      <td>B+</td>\n",
              "    </tr>\n",
              "    <tr>\n",
              "      <th>1</th>\n",
              "      <td>Riah</td>\n",
              "      <td>A+</td>\n",
              "      <td>B</td>\n",
              "      <td>C</td>\n",
              "    </tr>\n",
              "    <tr>\n",
              "      <th>2</th>\n",
              "      <td>Paul</td>\n",
              "      <td>B</td>\n",
              "      <td>B+</td>\n",
              "      <td>C+</td>\n",
              "    </tr>\n",
              "  </tbody>\n",
              "</table>\n",
              "</div>"
            ],
            "text/plain": [
              "    name algol basic c++\n",
              "0  Jerry     A     C  B+\n",
              "1   Riah    A+     B   C\n",
              "2   Paul     B    B+  C+"
            ]
          },
          "metadata": {},
          "execution_count": 10
        }
      ]
    },
    {
      "cell_type": "markdown",
      "metadata": {
        "id": "YhEXtUBRNAq7"
      },
      "source": [
        "인덱스를 'name'으로 지정하겠습니다."
      ]
    },
    {
      "cell_type": "code",
      "metadata": {
        "colab": {
          "base_uri": "https://localhost:8080/",
          "height": 172
        },
        "id": "tfWZlUpBM_6z",
        "outputId": "f7cefc96-2dfa-4571-eac2-5f2a8b6c4672"
      },
      "source": [
        "df_csv.set_index('name', inplace=True)\n",
        "df_csv"
      ],
      "execution_count": 11,
      "outputs": [
        {
          "output_type": "execute_result",
          "data": {
            "text/html": [
              "<div>\n",
              "<style scoped>\n",
              "    .dataframe tbody tr th:only-of-type {\n",
              "        vertical-align: middle;\n",
              "    }\n",
              "\n",
              "    .dataframe tbody tr th {\n",
              "        vertical-align: top;\n",
              "    }\n",
              "\n",
              "    .dataframe thead th {\n",
              "        text-align: right;\n",
              "    }\n",
              "</style>\n",
              "<table border=\"1\" class=\"dataframe\">\n",
              "  <thead>\n",
              "    <tr style=\"text-align: right;\">\n",
              "      <th></th>\n",
              "      <th>algol</th>\n",
              "      <th>basic</th>\n",
              "      <th>c++</th>\n",
              "    </tr>\n",
              "    <tr>\n",
              "      <th>name</th>\n",
              "      <th></th>\n",
              "      <th></th>\n",
              "      <th></th>\n",
              "    </tr>\n",
              "  </thead>\n",
              "  <tbody>\n",
              "    <tr>\n",
              "      <th>Jerry</th>\n",
              "      <td>A</td>\n",
              "      <td>C</td>\n",
              "      <td>B+</td>\n",
              "    </tr>\n",
              "    <tr>\n",
              "      <th>Riah</th>\n",
              "      <td>A+</td>\n",
              "      <td>B</td>\n",
              "      <td>C</td>\n",
              "    </tr>\n",
              "    <tr>\n",
              "      <th>Paul</th>\n",
              "      <td>B</td>\n",
              "      <td>B+</td>\n",
              "      <td>C+</td>\n",
              "    </tr>\n",
              "  </tbody>\n",
              "</table>\n",
              "</div>"
            ],
            "text/plain": [
              "      algol basic c++\n",
              "name                 \n",
              "Jerry     A     C  B+\n",
              "Riah     A+     B   C\n",
              "Paul      B    B+  C+"
            ]
          },
          "metadata": {},
          "execution_count": 11
        }
      ]
    },
    {
      "cell_type": "markdown",
      "metadata": {
        "id": "z6exOka5N4VI"
      },
      "source": [
        "`csv` 파일로 저장하겠습니다. `sep` 매개변수에 구분자를 공백(`' '`)으로 지정하고 `encoding` 매개변수에 문자형을 `'cp949'`로 지정하겠습니다."
      ]
    },
    {
      "cell_type": "code",
      "metadata": {
        "id": "Z8SrlO2rN8Pc"
      },
      "source": [
        "df_csv.to_csv('/content/gdrive/MyDrive/Python_for_Data_Analytics_Science/to_csv2.csv',\n",
        "              sep=',', encoding='cp949')"
      ],
      "execution_count": 12,
      "outputs": []
    },
    {
      "cell_type": "markdown",
      "metadata": {
        "id": "Dc9sGOhMuKco"
      },
      "source": [
        "## **1.2. 엑셀**"
      ]
    },
    {
      "cell_type": "markdown",
      "metadata": {
        "id": "Lcb42TQWskI1"
      },
      "source": [
        "### **1.2.1. 파일 읽기**"
      ]
    },
    {
      "cell_type": "markdown",
      "metadata": {
        "id": "yfXoCttnwzBa"
      },
      "source": [
        "`read_excel()` 메서드는 `read_csv()` 메서드와 사용법이 거의 같으며 모든 매개변수를 동일하게 가지고 있습니다. `engine` 매개변수의 경우 `xlsx` 파일이면 `openpyxl`을 인자로 지정하고, `xls` 파일이면 `xlrd`를 인자로 지정합니다."
      ]
    },
    {
      "cell_type": "code",
      "metadata": {
        "colab": {
          "base_uri": "https://localhost:8080/",
          "height": 632
        },
        "id": "aco2HjSV0jI7",
        "outputId": "7bb93aaa-b357-4085-f333-643f013fa9a9"
      },
      "source": [
        "file_path = '/content/gdrive/MyDrive/Python_for_Data_Analytics_Science/5674-833_4th/part2/남북한발전전력량.xlsx'\n",
        "pd.read_excel(file_path, engine='openpyxl')"
      ],
      "execution_count": 13,
      "outputs": [
        {
          "output_type": "execute_result",
          "data": {
            "text/html": [
              "<div>\n",
              "<style scoped>\n",
              "    .dataframe tbody tr th:only-of-type {\n",
              "        vertical-align: middle;\n",
              "    }\n",
              "\n",
              "    .dataframe tbody tr th {\n",
              "        vertical-align: top;\n",
              "    }\n",
              "\n",
              "    .dataframe thead th {\n",
              "        text-align: right;\n",
              "    }\n",
              "</style>\n",
              "<table border=\"1\" class=\"dataframe\">\n",
              "  <thead>\n",
              "    <tr style=\"text-align: right;\">\n",
              "      <th></th>\n",
              "      <th>전력량 (억㎾h)</th>\n",
              "      <th>발전 전력별</th>\n",
              "      <th>1990</th>\n",
              "      <th>1991</th>\n",
              "      <th>1992</th>\n",
              "      <th>1993</th>\n",
              "      <th>1994</th>\n",
              "      <th>1995</th>\n",
              "      <th>1996</th>\n",
              "      <th>1997</th>\n",
              "      <th>1998</th>\n",
              "      <th>1999</th>\n",
              "      <th>2000</th>\n",
              "      <th>2001</th>\n",
              "      <th>2002</th>\n",
              "      <th>2003</th>\n",
              "      <th>2004</th>\n",
              "      <th>2005</th>\n",
              "      <th>2006</th>\n",
              "      <th>2007</th>\n",
              "      <th>2008</th>\n",
              "      <th>2009</th>\n",
              "      <th>2010</th>\n",
              "      <th>2011</th>\n",
              "      <th>2012</th>\n",
              "      <th>2013</th>\n",
              "      <th>2014</th>\n",
              "      <th>2015</th>\n",
              "      <th>2016</th>\n",
              "    </tr>\n",
              "  </thead>\n",
              "  <tbody>\n",
              "    <tr>\n",
              "      <th>0</th>\n",
              "      <td>남한</td>\n",
              "      <td>합계</td>\n",
              "      <td>1077</td>\n",
              "      <td>1186</td>\n",
              "      <td>1310</td>\n",
              "      <td>1444</td>\n",
              "      <td>1650</td>\n",
              "      <td>1847</td>\n",
              "      <td>2055</td>\n",
              "      <td>2244</td>\n",
              "      <td>2153</td>\n",
              "      <td>2393</td>\n",
              "      <td>2664</td>\n",
              "      <td>2852</td>\n",
              "      <td>3065</td>\n",
              "      <td>3225</td>\n",
              "      <td>3421</td>\n",
              "      <td>3646</td>\n",
              "      <td>3812</td>\n",
              "      <td>4031</td>\n",
              "      <td>4224</td>\n",
              "      <td>4336</td>\n",
              "      <td>4747</td>\n",
              "      <td>4969</td>\n",
              "      <td>5096</td>\n",
              "      <td>5171</td>\n",
              "      <td>5220</td>\n",
              "      <td>5281</td>\n",
              "      <td>5404</td>\n",
              "    </tr>\n",
              "    <tr>\n",
              "      <th>1</th>\n",
              "      <td>NaN</td>\n",
              "      <td>수력</td>\n",
              "      <td>64</td>\n",
              "      <td>51</td>\n",
              "      <td>49</td>\n",
              "      <td>60</td>\n",
              "      <td>41</td>\n",
              "      <td>55</td>\n",
              "      <td>52</td>\n",
              "      <td>54</td>\n",
              "      <td>61</td>\n",
              "      <td>61</td>\n",
              "      <td>56</td>\n",
              "      <td>42</td>\n",
              "      <td>53</td>\n",
              "      <td>69</td>\n",
              "      <td>59</td>\n",
              "      <td>52</td>\n",
              "      <td>52</td>\n",
              "      <td>50</td>\n",
              "      <td>56</td>\n",
              "      <td>56</td>\n",
              "      <td>65</td>\n",
              "      <td>78</td>\n",
              "      <td>77</td>\n",
              "      <td>84</td>\n",
              "      <td>78</td>\n",
              "      <td>58</td>\n",
              "      <td>66</td>\n",
              "    </tr>\n",
              "    <tr>\n",
              "      <th>2</th>\n",
              "      <td>NaN</td>\n",
              "      <td>화력</td>\n",
              "      <td>484</td>\n",
              "      <td>573</td>\n",
              "      <td>696</td>\n",
              "      <td>803</td>\n",
              "      <td>1022</td>\n",
              "      <td>1122</td>\n",
              "      <td>1264</td>\n",
              "      <td>1420</td>\n",
              "      <td>1195</td>\n",
              "      <td>1302</td>\n",
              "      <td>1518</td>\n",
              "      <td>1689</td>\n",
              "      <td>1821</td>\n",
              "      <td>1859</td>\n",
              "      <td>2056</td>\n",
              "      <td>2127</td>\n",
              "      <td>2272</td>\n",
              "      <td>2551</td>\n",
              "      <td>2658</td>\n",
              "      <td>2802</td>\n",
              "      <td>3196</td>\n",
              "      <td>3343</td>\n",
              "      <td>3430</td>\n",
              "      <td>3581</td>\n",
              "      <td>3427</td>\n",
              "      <td>3402</td>\n",
              "      <td>3523</td>\n",
              "    </tr>\n",
              "    <tr>\n",
              "      <th>3</th>\n",
              "      <td>NaN</td>\n",
              "      <td>원자력</td>\n",
              "      <td>529</td>\n",
              "      <td>563</td>\n",
              "      <td>565</td>\n",
              "      <td>581</td>\n",
              "      <td>587</td>\n",
              "      <td>670</td>\n",
              "      <td>739</td>\n",
              "      <td>771</td>\n",
              "      <td>897</td>\n",
              "      <td>1031</td>\n",
              "      <td>1090</td>\n",
              "      <td>1121</td>\n",
              "      <td>1191</td>\n",
              "      <td>1297</td>\n",
              "      <td>1307</td>\n",
              "      <td>1468</td>\n",
              "      <td>1487</td>\n",
              "      <td>1429</td>\n",
              "      <td>1510</td>\n",
              "      <td>1478</td>\n",
              "      <td>1486</td>\n",
              "      <td>1547</td>\n",
              "      <td>1503</td>\n",
              "      <td>1388</td>\n",
              "      <td>1564</td>\n",
              "      <td>1648</td>\n",
              "      <td>1620</td>\n",
              "    </tr>\n",
              "    <tr>\n",
              "      <th>4</th>\n",
              "      <td>NaN</td>\n",
              "      <td>신재생</td>\n",
              "      <td>-</td>\n",
              "      <td>-</td>\n",
              "      <td>-</td>\n",
              "      <td>-</td>\n",
              "      <td>-</td>\n",
              "      <td>-</td>\n",
              "      <td>-</td>\n",
              "      <td>-</td>\n",
              "      <td>-</td>\n",
              "      <td>-</td>\n",
              "      <td>-</td>\n",
              "      <td>-</td>\n",
              "      <td>-</td>\n",
              "      <td>-</td>\n",
              "      <td>-</td>\n",
              "      <td>-</td>\n",
              "      <td>-</td>\n",
              "      <td>-</td>\n",
              "      <td>-</td>\n",
              "      <td>-</td>\n",
              "      <td>-</td>\n",
              "      <td>-</td>\n",
              "      <td>86</td>\n",
              "      <td>118</td>\n",
              "      <td>151</td>\n",
              "      <td>173</td>\n",
              "      <td>195</td>\n",
              "    </tr>\n",
              "    <tr>\n",
              "      <th>5</th>\n",
              "      <td>북한</td>\n",
              "      <td>합계</td>\n",
              "      <td>277</td>\n",
              "      <td>263</td>\n",
              "      <td>247</td>\n",
              "      <td>221</td>\n",
              "      <td>231</td>\n",
              "      <td>230</td>\n",
              "      <td>213</td>\n",
              "      <td>193</td>\n",
              "      <td>170</td>\n",
              "      <td>186</td>\n",
              "      <td>194</td>\n",
              "      <td>202</td>\n",
              "      <td>190</td>\n",
              "      <td>196</td>\n",
              "      <td>206</td>\n",
              "      <td>215</td>\n",
              "      <td>225</td>\n",
              "      <td>236</td>\n",
              "      <td>255</td>\n",
              "      <td>235</td>\n",
              "      <td>237</td>\n",
              "      <td>211</td>\n",
              "      <td>215</td>\n",
              "      <td>221</td>\n",
              "      <td>216</td>\n",
              "      <td>190</td>\n",
              "      <td>239</td>\n",
              "    </tr>\n",
              "    <tr>\n",
              "      <th>6</th>\n",
              "      <td>NaN</td>\n",
              "      <td>수력</td>\n",
              "      <td>156</td>\n",
              "      <td>150</td>\n",
              "      <td>142</td>\n",
              "      <td>133</td>\n",
              "      <td>138</td>\n",
              "      <td>142</td>\n",
              "      <td>125</td>\n",
              "      <td>107</td>\n",
              "      <td>102</td>\n",
              "      <td>103</td>\n",
              "      <td>102</td>\n",
              "      <td>106</td>\n",
              "      <td>106</td>\n",
              "      <td>117</td>\n",
              "      <td>125</td>\n",
              "      <td>131</td>\n",
              "      <td>126</td>\n",
              "      <td>133</td>\n",
              "      <td>141</td>\n",
              "      <td>125</td>\n",
              "      <td>134</td>\n",
              "      <td>132</td>\n",
              "      <td>135</td>\n",
              "      <td>139</td>\n",
              "      <td>130</td>\n",
              "      <td>100</td>\n",
              "      <td>128</td>\n",
              "    </tr>\n",
              "    <tr>\n",
              "      <th>7</th>\n",
              "      <td>NaN</td>\n",
              "      <td>화력</td>\n",
              "      <td>121</td>\n",
              "      <td>113</td>\n",
              "      <td>105</td>\n",
              "      <td>88</td>\n",
              "      <td>93</td>\n",
              "      <td>88</td>\n",
              "      <td>88</td>\n",
              "      <td>86</td>\n",
              "      <td>68</td>\n",
              "      <td>83</td>\n",
              "      <td>92</td>\n",
              "      <td>96</td>\n",
              "      <td>84</td>\n",
              "      <td>79</td>\n",
              "      <td>81</td>\n",
              "      <td>84</td>\n",
              "      <td>99</td>\n",
              "      <td>103</td>\n",
              "      <td>114</td>\n",
              "      <td>110</td>\n",
              "      <td>103</td>\n",
              "      <td>79</td>\n",
              "      <td>80</td>\n",
              "      <td>82</td>\n",
              "      <td>86</td>\n",
              "      <td>90</td>\n",
              "      <td>111</td>\n",
              "    </tr>\n",
              "    <tr>\n",
              "      <th>8</th>\n",
              "      <td>NaN</td>\n",
              "      <td>원자력</td>\n",
              "      <td>-</td>\n",
              "      <td>-</td>\n",
              "      <td>-</td>\n",
              "      <td>-</td>\n",
              "      <td>-</td>\n",
              "      <td>-</td>\n",
              "      <td>-</td>\n",
              "      <td>-</td>\n",
              "      <td>-</td>\n",
              "      <td>-</td>\n",
              "      <td>-</td>\n",
              "      <td>-</td>\n",
              "      <td>-</td>\n",
              "      <td>-</td>\n",
              "      <td>-</td>\n",
              "      <td>-</td>\n",
              "      <td>-</td>\n",
              "      <td>-</td>\n",
              "      <td>-</td>\n",
              "      <td>-</td>\n",
              "      <td>-</td>\n",
              "      <td>-</td>\n",
              "      <td>-</td>\n",
              "      <td>-</td>\n",
              "      <td>-</td>\n",
              "      <td>-</td>\n",
              "      <td>-</td>\n",
              "    </tr>\n",
              "  </tbody>\n",
              "</table>\n",
              "</div>"
            ],
            "text/plain": [
              "  전력량 (억㎾h) 발전 전력별  1990  1991  1992  1993  ...  2011  2012  2013  2014  2015  2016\n",
              "0        남한     합계  1077  1186  1310  1444  ...  4969  5096  5171  5220  5281  5404\n",
              "1       NaN     수력    64    51    49    60  ...    78    77    84    78    58    66\n",
              "2       NaN     화력   484   573   696   803  ...  3343  3430  3581  3427  3402  3523\n",
              "3       NaN    원자력   529   563   565   581  ...  1547  1503  1388  1564  1648  1620\n",
              "4       NaN    신재생     -     -     -     -  ...     -    86   118   151   173   195\n",
              "5        북한     합계   277   263   247   221  ...   211   215   221   216   190   239\n",
              "6       NaN     수력   156   150   142   133  ...   132   135   139   130   100   128\n",
              "7       NaN     화력   121   113   105    88  ...    79    80    82    86    90   111\n",
              "8       NaN    원자력     -     -     -     -  ...     -     -     -     -     -     -\n",
              "\n",
              "[9 rows x 29 columns]"
            ]
          },
          "metadata": {},
          "execution_count": 13
        }
      ]
    },
    {
      "cell_type": "markdown",
      "metadata": {
        "id": "E9SVhQkUule-"
      },
      "source": [
        "### **1.2.2. 파일 저장하기**"
      ]
    },
    {
      "cell_type": "markdown",
      "metadata": {
        "id": "7DLt3a3n01Rh"
      },
      "source": [
        "`to_excel()` 메서드를 사용하면 엑셀 파일로 저장합니다. `csv` 파일과 같은 방식으로 적용하겠습니다."
      ]
    },
    {
      "cell_type": "code",
      "metadata": {
        "colab": {
          "base_uri": "https://localhost:8080/",
          "height": 142
        },
        "id": "sD91VMwG1HHw",
        "outputId": "67c24c95-4cfe-400a-ced4-1e216062ab4f"
      },
      "source": [
        "excel_data = {'name': ['Jerry', 'Riah', 'Paul'],\n",
        "            'algol': ['A', 'A+', 'B'],\n",
        "            'basic': ['C', 'B', 'B+'],\n",
        "            'c++': ['B+', 'C', 'C+']}\n",
        "df_excel = pd.DataFrame(excel_data)\n",
        "df_excel"
      ],
      "execution_count": 14,
      "outputs": [
        {
          "output_type": "execute_result",
          "data": {
            "text/html": [
              "<div>\n",
              "<style scoped>\n",
              "    .dataframe tbody tr th:only-of-type {\n",
              "        vertical-align: middle;\n",
              "    }\n",
              "\n",
              "    .dataframe tbody tr th {\n",
              "        vertical-align: top;\n",
              "    }\n",
              "\n",
              "    .dataframe thead th {\n",
              "        text-align: right;\n",
              "    }\n",
              "</style>\n",
              "<table border=\"1\" class=\"dataframe\">\n",
              "  <thead>\n",
              "    <tr style=\"text-align: right;\">\n",
              "      <th></th>\n",
              "      <th>name</th>\n",
              "      <th>algol</th>\n",
              "      <th>basic</th>\n",
              "      <th>c++</th>\n",
              "    </tr>\n",
              "  </thead>\n",
              "  <tbody>\n",
              "    <tr>\n",
              "      <th>0</th>\n",
              "      <td>Jerry</td>\n",
              "      <td>A</td>\n",
              "      <td>C</td>\n",
              "      <td>B+</td>\n",
              "    </tr>\n",
              "    <tr>\n",
              "      <th>1</th>\n",
              "      <td>Riah</td>\n",
              "      <td>A+</td>\n",
              "      <td>B</td>\n",
              "      <td>C</td>\n",
              "    </tr>\n",
              "    <tr>\n",
              "      <th>2</th>\n",
              "      <td>Paul</td>\n",
              "      <td>B</td>\n",
              "      <td>B+</td>\n",
              "      <td>C+</td>\n",
              "    </tr>\n",
              "  </tbody>\n",
              "</table>\n",
              "</div>"
            ],
            "text/plain": [
              "    name algol basic c++\n",
              "0  Jerry     A     C  B+\n",
              "1   Riah    A+     B   C\n",
              "2   Paul     B    B+  C+"
            ]
          },
          "metadata": {},
          "execution_count": 14
        }
      ]
    },
    {
      "cell_type": "code",
      "metadata": {
        "colab": {
          "base_uri": "https://localhost:8080/",
          "height": 172
        },
        "id": "wMmiNdhs1jCT",
        "outputId": "eb08219a-d4d0-4997-d4c7-7a641d54bb99"
      },
      "source": [
        "df_excel.set_index('name', inplace=True)\n",
        "df_excel"
      ],
      "execution_count": 15,
      "outputs": [
        {
          "output_type": "execute_result",
          "data": {
            "text/html": [
              "<div>\n",
              "<style scoped>\n",
              "    .dataframe tbody tr th:only-of-type {\n",
              "        vertical-align: middle;\n",
              "    }\n",
              "\n",
              "    .dataframe tbody tr th {\n",
              "        vertical-align: top;\n",
              "    }\n",
              "\n",
              "    .dataframe thead th {\n",
              "        text-align: right;\n",
              "    }\n",
              "</style>\n",
              "<table border=\"1\" class=\"dataframe\">\n",
              "  <thead>\n",
              "    <tr style=\"text-align: right;\">\n",
              "      <th></th>\n",
              "      <th>algol</th>\n",
              "      <th>basic</th>\n",
              "      <th>c++</th>\n",
              "    </tr>\n",
              "    <tr>\n",
              "      <th>name</th>\n",
              "      <th></th>\n",
              "      <th></th>\n",
              "      <th></th>\n",
              "    </tr>\n",
              "  </thead>\n",
              "  <tbody>\n",
              "    <tr>\n",
              "      <th>Jerry</th>\n",
              "      <td>A</td>\n",
              "      <td>C</td>\n",
              "      <td>B+</td>\n",
              "    </tr>\n",
              "    <tr>\n",
              "      <th>Riah</th>\n",
              "      <td>A+</td>\n",
              "      <td>B</td>\n",
              "      <td>C</td>\n",
              "    </tr>\n",
              "    <tr>\n",
              "      <th>Paul</th>\n",
              "      <td>B</td>\n",
              "      <td>B+</td>\n",
              "      <td>C+</td>\n",
              "    </tr>\n",
              "  </tbody>\n",
              "</table>\n",
              "</div>"
            ],
            "text/plain": [
              "      algol basic c++\n",
              "name                 \n",
              "Jerry     A     C  B+\n",
              "Riah     A+     B   C\n",
              "Paul      B    B+  C+"
            ]
          },
          "metadata": {},
          "execution_count": 15
        }
      ]
    },
    {
      "cell_type": "code",
      "metadata": {
        "id": "23Z7K5Xi1pvN"
      },
      "source": [
        "df_excel.to_excel('/content/gdrive/MyDrive/Python_for_Data_Analytics_Science/to_excel.xlsx')"
      ],
      "execution_count": 16,
      "outputs": []
    },
    {
      "cell_type": "markdown",
      "metadata": {
        "id": "-EcnKzha8mfT"
      },
      "source": [
        "여러 데이터프레임을 엑셀 파일 하나에 저장할 수 있습니다. 먼저 데이터프레임을 두 개 만들겠습니다."
      ]
    },
    {
      "cell_type": "code",
      "metadata": {
        "id": "Je2edWx58mJw"
      },
      "source": [
        "excel_data1 = {'name': ['Jerry', 'Riah', 'Paul'],\n",
        "            'algol': ['A', 'A+', 'B'],\n",
        "            'basic': ['C', 'B', 'B+'],\n",
        "            'c++': ['B+', 'C', 'C+']}\n",
        "\n",
        "excel_data2 = {'c0': [1, 2, 3],\n",
        "               'c1': [4, 5, 6],\n",
        "               'c2': [7, 8, 9],\n",
        "               'c3': [10, 11, 12],\n",
        "               'c4': [13, 14, 15]}\n",
        "\n",
        "df1_excel = pd.DataFrame(excel_data1)\n",
        "df1_excel.set_index('name', inplace=True)\n",
        "\n",
        "df2_excel = pd.DataFrame(excel_data2)\n",
        "df2_excel.set_index('c0', inplace=True)"
      ],
      "execution_count": 17,
      "outputs": []
    },
    {
      "cell_type": "markdown",
      "metadata": {
        "id": "vnGu1PltFxwA"
      },
      "source": [
        "두 데이터프레임을 두 시트에 각각 저장하겠습니다."
      ]
    },
    {
      "cell_type": "code",
      "metadata": {
        "id": "JAoMxUxpF6_q"
      },
      "source": [
        "test_excelwriter = pd.ExcelWriter('/content/gdrive/MyDrive/Python_for_Data_Analytics_Science/excelwriter.xlsx')\n",
        "df1_excel.to_excel(test_excelwriter, sheet_name='sheet1')\n",
        "df2_excel.to_excel(test_excelwriter, sheet_name='sheet2')\n",
        "test_excelwriter.save()"
      ],
      "execution_count": 18,
      "outputs": []
    },
    {
      "cell_type": "markdown",
      "metadata": {
        "id": "DBPi55gpskFN"
      },
      "source": [
        "## **1.3. JSON**"
      ]
    },
    {
      "cell_type": "markdown",
      "metadata": {
        "id": "FnlfaELeux_9"
      },
      "source": [
        "### **1.3.1. 파일 읽기**"
      ]
    },
    {
      "cell_type": "code",
      "metadata": {
        "colab": {
          "base_uri": "https://localhost:8080/",
          "height": 142
        },
        "id": "37tr2pUs7CLs",
        "outputId": "3e85700b-5701-4436-eee7-8be95b799e4c"
      },
      "source": [
        "file_path = '/content/gdrive/MyDrive/Python_for_Data_Analytics_Science/5674-833_4th/part2/read_json_sample.json'\n",
        "df_json = pd.read_json(file_path)\n",
        "df_json"
      ],
      "execution_count": 19,
      "outputs": [
        {
          "output_type": "execute_result",
          "data": {
            "text/html": [
              "<div>\n",
              "<style scoped>\n",
              "    .dataframe tbody tr th:only-of-type {\n",
              "        vertical-align: middle;\n",
              "    }\n",
              "\n",
              "    .dataframe tbody tr th {\n",
              "        vertical-align: top;\n",
              "    }\n",
              "\n",
              "    .dataframe thead th {\n",
              "        text-align: right;\n",
              "    }\n",
              "</style>\n",
              "<table border=\"1\" class=\"dataframe\">\n",
              "  <thead>\n",
              "    <tr style=\"text-align: right;\">\n",
              "      <th></th>\n",
              "      <th>name</th>\n",
              "      <th>year</th>\n",
              "      <th>developer</th>\n",
              "      <th>opensource</th>\n",
              "    </tr>\n",
              "  </thead>\n",
              "  <tbody>\n",
              "    <tr>\n",
              "      <th>pandas</th>\n",
              "      <td></td>\n",
              "      <td>2008</td>\n",
              "      <td>Wes Mckinneye</td>\n",
              "      <td>True</td>\n",
              "    </tr>\n",
              "    <tr>\n",
              "      <th>NumPy</th>\n",
              "      <td></td>\n",
              "      <td>2006</td>\n",
              "      <td>Travis Oliphant</td>\n",
              "      <td>True</td>\n",
              "    </tr>\n",
              "    <tr>\n",
              "      <th>matplotlib</th>\n",
              "      <td></td>\n",
              "      <td>2003</td>\n",
              "      <td>John D. Hunter</td>\n",
              "      <td>True</td>\n",
              "    </tr>\n",
              "  </tbody>\n",
              "</table>\n",
              "</div>"
            ],
            "text/plain": [
              "           name  year        developer opensource\n",
              "pandas           2008    Wes Mckinneye       True\n",
              "NumPy            2006  Travis Oliphant       True\n",
              "matplotlib       2003   John D. Hunter       True"
            ]
          },
          "metadata": {},
          "execution_count": 19
        }
      ]
    },
    {
      "cell_type": "markdown",
      "metadata": {
        "id": "iKQIZe5uux9c"
      },
      "source": [
        "### **1.3.2. 파일 저장하기**"
      ]
    },
    {
      "cell_type": "code",
      "metadata": {
        "colab": {
          "base_uri": "https://localhost:8080/",
          "height": 142
        },
        "id": "P2st_yo37GCB",
        "outputId": "3eca7d3f-e36d-4f51-9990-60807e58a851"
      },
      "source": [
        "json_data = {'name': ['Jerry', 'Riah', 'Paul'],\n",
        "            'algol': ['A', 'A+', 'B'],\n",
        "            'basic': ['C', 'B', 'B+'],\n",
        "            'c++': ['B+', 'C', 'C+']}\n",
        "df_json = pd.DataFrame(json_data)\n",
        "df_json"
      ],
      "execution_count": 20,
      "outputs": [
        {
          "output_type": "execute_result",
          "data": {
            "text/html": [
              "<div>\n",
              "<style scoped>\n",
              "    .dataframe tbody tr th:only-of-type {\n",
              "        vertical-align: middle;\n",
              "    }\n",
              "\n",
              "    .dataframe tbody tr th {\n",
              "        vertical-align: top;\n",
              "    }\n",
              "\n",
              "    .dataframe thead th {\n",
              "        text-align: right;\n",
              "    }\n",
              "</style>\n",
              "<table border=\"1\" class=\"dataframe\">\n",
              "  <thead>\n",
              "    <tr style=\"text-align: right;\">\n",
              "      <th></th>\n",
              "      <th>name</th>\n",
              "      <th>algol</th>\n",
              "      <th>basic</th>\n",
              "      <th>c++</th>\n",
              "    </tr>\n",
              "  </thead>\n",
              "  <tbody>\n",
              "    <tr>\n",
              "      <th>0</th>\n",
              "      <td>Jerry</td>\n",
              "      <td>A</td>\n",
              "      <td>C</td>\n",
              "      <td>B+</td>\n",
              "    </tr>\n",
              "    <tr>\n",
              "      <th>1</th>\n",
              "      <td>Riah</td>\n",
              "      <td>A+</td>\n",
              "      <td>B</td>\n",
              "      <td>C</td>\n",
              "    </tr>\n",
              "    <tr>\n",
              "      <th>2</th>\n",
              "      <td>Paul</td>\n",
              "      <td>B</td>\n",
              "      <td>B+</td>\n",
              "      <td>C+</td>\n",
              "    </tr>\n",
              "  </tbody>\n",
              "</table>\n",
              "</div>"
            ],
            "text/plain": [
              "    name algol basic c++\n",
              "0  Jerry     A     C  B+\n",
              "1   Riah    A+     B   C\n",
              "2   Paul     B    B+  C+"
            ]
          },
          "metadata": {},
          "execution_count": 20
        }
      ]
    },
    {
      "cell_type": "code",
      "metadata": {
        "colab": {
          "base_uri": "https://localhost:8080/",
          "height": 172
        },
        "id": "tqN4ip0B7MAS",
        "outputId": "1fe72123-b31b-481c-d6ae-117ff3e6b487"
      },
      "source": [
        "df_json.set_index('name', inplace=True)\n",
        "df_json"
      ],
      "execution_count": 21,
      "outputs": [
        {
          "output_type": "execute_result",
          "data": {
            "text/html": [
              "<div>\n",
              "<style scoped>\n",
              "    .dataframe tbody tr th:only-of-type {\n",
              "        vertical-align: middle;\n",
              "    }\n",
              "\n",
              "    .dataframe tbody tr th {\n",
              "        vertical-align: top;\n",
              "    }\n",
              "\n",
              "    .dataframe thead th {\n",
              "        text-align: right;\n",
              "    }\n",
              "</style>\n",
              "<table border=\"1\" class=\"dataframe\">\n",
              "  <thead>\n",
              "    <tr style=\"text-align: right;\">\n",
              "      <th></th>\n",
              "      <th>algol</th>\n",
              "      <th>basic</th>\n",
              "      <th>c++</th>\n",
              "    </tr>\n",
              "    <tr>\n",
              "      <th>name</th>\n",
              "      <th></th>\n",
              "      <th></th>\n",
              "      <th></th>\n",
              "    </tr>\n",
              "  </thead>\n",
              "  <tbody>\n",
              "    <tr>\n",
              "      <th>Jerry</th>\n",
              "      <td>A</td>\n",
              "      <td>C</td>\n",
              "      <td>B+</td>\n",
              "    </tr>\n",
              "    <tr>\n",
              "      <th>Riah</th>\n",
              "      <td>A+</td>\n",
              "      <td>B</td>\n",
              "      <td>C</td>\n",
              "    </tr>\n",
              "    <tr>\n",
              "      <th>Paul</th>\n",
              "      <td>B</td>\n",
              "      <td>B+</td>\n",
              "      <td>C+</td>\n",
              "    </tr>\n",
              "  </tbody>\n",
              "</table>\n",
              "</div>"
            ],
            "text/plain": [
              "      algol basic c++\n",
              "name                 \n",
              "Jerry     A     C  B+\n",
              "Riah     A+     B   C\n",
              "Paul      B    B+  C+"
            ]
          },
          "metadata": {},
          "execution_count": 21
        }
      ]
    },
    {
      "cell_type": "code",
      "metadata": {
        "id": "H57JxJb07Ny9"
      },
      "source": [
        "df_json.to_json('/content/gdrive/MyDrive/Python_for_Data_Analytics_Science/to_json.json')"
      ],
      "execution_count": 22,
      "outputs": []
    },
    {
      "cell_type": "markdown",
      "metadata": {
        "id": "mrLu_hQVu8lA"
      },
      "source": [
        "## **1.4. 웹**"
      ]
    },
    {
      "cell_type": "markdown",
      "metadata": {
        "id": "LwIg6BhhskB1"
      },
      "source": [
        "### **1.4.1. 표 가져오기**"
      ]
    },
    {
      "cell_type": "markdown",
      "metadata": {
        "id": "khFwiF-yUhqI"
      },
      "source": [
        "`read_html()` 메서드는 HTML 웹 페이지의 `<table>` 태그에서 표 형식 데이터를 데이터프레임으로 변환합니다. 이 표 데이터를 파싱(parsing) 하려면 HTML 웹 페이지 주소를 따옴표 안에 입력합니다. 아래에서 예시하겠습니다."
      ]
    },
    {
      "cell_type": "code",
      "metadata": {
        "colab": {
          "base_uri": "https://localhost:8080/"
        },
        "id": "ig9EeOqPbaZ6",
        "outputId": "3981fb4e-7fec-4a4c-bdb9-1dca6e3ab3dd"
      },
      "source": [
        "url = '/content/gdrive/MyDrive/Python_for_Data_Analytics_Science/5674-833_4th/part2/sample.html'\n",
        "tables_html = pd.read_html(url)\n",
        "# `read_html()` 메서드로 데이터프레임을 출력하면\n",
        "# 여러 데이터프레임이 리스트에 담겨서 출력됩니다.\n",
        "tables_html"
      ],
      "execution_count": 23,
      "outputs": [
        {
          "output_type": "execute_result",
          "data": {
            "text/plain": [
              "[   Unnamed: 0  c0  c1  c2  c3\n",
              " 0           0   0   1   4   7\n",
              " 1           1   1   2   5   8\n",
              " 2           2   2   3   6   9,\n",
              "          name  year        developer  opensource\n",
              " 0       NumPy  2006  Travis Oliphant        True\n",
              " 1  matplotlib  2003   John D. Hunter        True\n",
              " 2      pandas  2008    Wes Mckinneye        True]"
            ]
          },
          "metadata": {},
          "execution_count": 23
        }
      ]
    },
    {
      "cell_type": "markdown",
      "metadata": {
        "id": "_Ik6nIEpcGrl"
      },
      "source": [
        "표 개수를 확인하겠습니다."
      ]
    },
    {
      "cell_type": "code",
      "metadata": {
        "colab": {
          "base_uri": "https://localhost:8080/"
        },
        "id": "zX6A9e8LcTIZ",
        "outputId": "1fa737f9-47cf-49a6-848a-183f2ab9805b"
      },
      "source": [
        "len(tables_html)"
      ],
      "execution_count": 24,
      "outputs": [
        {
          "output_type": "execute_result",
          "data": {
            "text/plain": [
              "2"
            ]
          },
          "metadata": {},
          "execution_count": 24
        }
      ]
    },
    {
      "cell_type": "markdown",
      "metadata": {
        "id": "O-unqV8ucWig"
      },
      "source": [
        "두 개의 표를 출력하겠습니다."
      ]
    },
    {
      "cell_type": "code",
      "metadata": {
        "colab": {
          "base_uri": "https://localhost:8080/"
        },
        "id": "z8x9V8t6cjkx",
        "outputId": "670be025-f6cc-4f71-c1b4-658970d296e9"
      },
      "source": [
        "print(tables_html[0])\n",
        "print()\n",
        "print(tables_html[1])"
      ],
      "execution_count": 25,
      "outputs": [
        {
          "output_type": "stream",
          "name": "stdout",
          "text": [
            "   Unnamed: 0  c0  c1  c2  c3\n",
            "0           0   0   1   4   7\n",
            "1           1   1   2   5   8\n",
            "2           2   2   3   6   9\n",
            "\n",
            "         name  year        developer  opensource\n",
            "0       NumPy  2006  Travis Oliphant        True\n",
            "1  matplotlib  2003   John D. Hunter        True\n",
            "2      pandas  2008    Wes Mckinneye        True\n"
          ]
        }
      ]
    },
    {
      "cell_type": "markdown",
      "metadata": {
        "id": "R0LX_1Yactgs"
      },
      "source": [
        "이번에는 두 개의 표를 반복(iteration)하면서 출력하겠습니다."
      ]
    },
    {
      "cell_type": "code",
      "metadata": {
        "colab": {
          "base_uri": "https://localhost:8080/"
        },
        "id": "iuik4KordjbU",
        "outputId": "3c87c42a-8832-4711-bdc9-e9107a89dee8"
      },
      "source": [
        "for i in range(len(tables_html)):\n",
        "    print(f'{i+1}번째 데이터프레임')\n",
        "    print(tables_html[i])\n",
        "    print()"
      ],
      "execution_count": 26,
      "outputs": [
        {
          "output_type": "stream",
          "name": "stdout",
          "text": [
            "1번째 데이터프레임\n",
            "   Unnamed: 0  c0  c1  c2  c3\n",
            "0           0   0   1   4   7\n",
            "1           1   1   2   5   8\n",
            "2           2   2   3   6   9\n",
            "\n",
            "2번째 데이터프레임\n",
            "         name  year        developer  opensource\n",
            "0       NumPy  2006  Travis Oliphant        True\n",
            "1  matplotlib  2003   John D. Hunter        True\n",
            "2      pandas  2008    Wes Mckinneye        True\n",
            "\n"
          ]
        }
      ]
    },
    {
      "cell_type": "markdown",
      "metadata": {
        "id": "kp-DGf3UeFa3"
      },
      "source": [
        "이제 2번째 데이터프레임에 행 인덱스를 'name' 열로 지정하겠습니다."
      ]
    },
    {
      "cell_type": "code",
      "metadata": {
        "colab": {
          "base_uri": "https://localhost:8080/"
        },
        "id": "ToxpkGRneNA0",
        "outputId": "08b8cc46-3822-4943-e163-402b9e9b9d94"
      },
      "source": [
        "df_html = tables_html[1]\n",
        "df_html.set_index(['name'], inplace=True)\n",
        "print(df_html)"
      ],
      "execution_count": 27,
      "outputs": [
        {
          "output_type": "stream",
          "name": "stdout",
          "text": [
            "            year        developer  opensource\n",
            "name                                         \n",
            "NumPy       2006  Travis Oliphant        True\n",
            "matplotlib  2003   John D. Hunter        True\n",
            "pandas      2008    Wes Mckinneye        True\n"
          ]
        }
      ]
    },
    {
      "cell_type": "markdown",
      "metadata": {
        "id": "HZ4L30pptHMu"
      },
      "source": [
        "### **1.4.2. 웹 스크래핑 하기**"
      ]
    },
    {
      "cell_type": "code",
      "metadata": {
        "id": "n95uwwA-liGA"
      },
      "source": [
        "from bs4 import BeautifulSoup\n",
        "import requests\n",
        "import re"
      ],
      "execution_count": 28,
      "outputs": []
    },
    {
      "cell_type": "code",
      "metadata": {
        "id": "gvONpCHymJ0i"
      },
      "source": [
        "url = 'https://en.wikipedia.org/wiki/List_of_American_exchange-traded_funds'\n",
        "resp = requests.get(url)\n",
        "soup = BeautifulSoup(resp.text, 'lxml')\n",
        "rows = soup.select('div > ul > li')"
      ],
      "execution_count": 31,
      "outputs": []
    },
    {
      "cell_type": "markdown",
      "metadata": {
        "id": "zNK0H_U6tZzf"
      },
      "source": [
        "### **1.4.3. API로 데이터 가져오기**"
      ]
    }
  ]
}