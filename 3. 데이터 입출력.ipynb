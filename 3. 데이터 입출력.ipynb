{
  "nbformat": 4,
  "nbformat_minor": 0,
  "metadata": {
    "colab": {
      "name": "3. 데이터 입출력.ipynb",
      "provenance": [],
      "collapsed_sections": [],
      "toc_visible": true,
      "authorship_tag": "ABX9TyMvtZKIxtlxrWQWfOBMPM1/",
      "include_colab_link": true
    },
    "kernelspec": {
      "name": "python3",
      "display_name": "Python 3"
    },
    "language_info": {
      "name": "python"
    }
  },
  "cells": [
    {
      "cell_type": "markdown",
      "metadata": {
        "id": "view-in-github",
        "colab_type": "text"
      },
      "source": [
        "<a href=\"https://colab.research.google.com/github/LeeSeungwon89/Python_for_Data_Analytics_Science/blob/main/3.%20%EB%8D%B0%EC%9D%B4%ED%84%B0%20%EC%9E%85%EC%B6%9C%EB%A0%A5.ipynb\" target=\"_parent\"><img src=\"https://colab.research.google.com/assets/colab-badge.svg\" alt=\"Open In Colab\"/></a>"
      ]
    },
    {
      "cell_type": "markdown",
      "metadata": {
        "id": "XXmoFAq1sTd3"
      },
      "source": [
        "# **1. 데이터 입출력 심화**"
      ]
    },
    {
      "cell_type": "markdown",
      "metadata": {
        "id": "Dc9sGOhMuKco"
      },
      "source": [
        "## **1.1. 엑셀**"
      ]
    },
    {
      "cell_type": "markdown",
      "metadata": {
        "id": "50PfQ6CdskMt"
      },
      "source": [
        "### **1.1.1. 파일 읽기**"
      ]
    },
    {
      "cell_type": "markdown",
      "metadata": {
        "id": "dJhN8EfwuVFk"
      },
      "source": [
        "### **1.1.2. 파일 저장하기**"
      ]
    },
    {
      "cell_type": "markdown",
      "metadata": {
        "id": "7tfveIMHuZIR"
      },
      "source": [
        "## **1.2. CSV**"
      ]
    },
    {
      "cell_type": "markdown",
      "metadata": {
        "id": "Lcb42TQWskI1"
      },
      "source": [
        "### **1.2.1. 파일 읽기**"
      ]
    },
    {
      "cell_type": "markdown",
      "metadata": {
        "id": "E9SVhQkUule-"
      },
      "source": [
        "### **1.2.2. 파일 저장하기**"
      ]
    },
    {
      "cell_type": "markdown",
      "metadata": {
        "id": "DBPi55gpskFN"
      },
      "source": [
        "## **1.3. JSON**"
      ]
    },
    {
      "cell_type": "markdown",
      "metadata": {
        "id": "FnlfaELeux_9"
      },
      "source": [
        "### **1.3.1. 파일 읽기**"
      ]
    },
    {
      "cell_type": "markdown",
      "metadata": {
        "id": "iKQIZe5uux9c"
      },
      "source": [
        "### **1.3.2. 파일 저장하기**"
      ]
    },
    {
      "cell_type": "markdown",
      "metadata": {
        "id": "mrLu_hQVu8lA"
      },
      "source": [
        "## **1.4. 웹**"
      ]
    },
    {
      "cell_type": "markdown",
      "metadata": {
        "id": "LwIg6BhhskB1"
      },
      "source": [
        "### **1.4.1. 표 가져오기**"
      ]
    },
    {
      "cell_type": "markdown",
      "metadata": {
        "id": "HZ4L30pptHMu"
      },
      "source": [
        "### **1.4.2. 웹 스크래핑 하기**"
      ]
    },
    {
      "cell_type": "markdown",
      "metadata": {
        "id": "zNK0H_U6tZzf"
      },
      "source": [
        "### **1.4.3. API로 데이터 가져오기**"
      ]
    }
  ]
}