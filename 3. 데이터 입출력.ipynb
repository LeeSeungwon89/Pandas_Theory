{
  "nbformat": 4,
  "nbformat_minor": 0,
  "metadata": {
    "colab": {
      "name": "3. 데이터 입출력.ipynb",
      "provenance": [],
      "collapsed_sections": [],
      "authorship_tag": "ABX9TyODPyyD8il7uftrN5IyYHZo",
      "include_colab_link": true
    },
    "kernelspec": {
      "name": "python3",
      "display_name": "Python 3"
    },
    "language_info": {
      "name": "python"
    }
  },
  "cells": [
    {
      "cell_type": "markdown",
      "metadata": {
        "id": "view-in-github",
        "colab_type": "text"
      },
      "source": [
        "<a href=\"https://colab.research.google.com/github/LeeSeungwon89/Python_for_Data_Analytics_Science/blob/main/3.%20%EB%8D%B0%EC%9D%B4%ED%84%B0%20%EC%9E%85%EC%B6%9C%EB%A0%A5.ipynb\" target=\"_parent\"><img src=\"https://colab.research.google.com/assets/colab-badge.svg\" alt=\"Open In Colab\"/></a>"
      ]
    },
    {
      "cell_type": "markdown",
      "metadata": {
        "id": "XXmoFAq1sTd3"
      },
      "source": [
        "# **1. 데이터 입출력 심화**"
      ]
    },
    {
      "cell_type": "markdown",
      "metadata": {
        "id": "GPWnEZ8taxFP"
      },
      "source": [
        "데이터 입출력은 전 챕터인 **2. 데이터를 다루기 위한 파이썬 패키지**에서 약간 다뤘습니다. 이번 챕터에서는 좀 더 다양한 파일 형식을 다루는 법을 정리하겠습니다. **데이터 분석을 위한 파이썬 철저 입문(최은석, 위키북스)**, **파이썬 머신러닝 판다스 데이터 분석(오승환, 정보문화사)**을 참고했습니다."
      ]
    },
    {
      "cell_type": "code",
      "metadata": {
        "colab": {
          "base_uri": "https://localhost:8080/"
        },
        "id": "7aeeg2lwg4t9",
        "outputId": "81bc649f-d773-4632-e57e-2aa892768615"
      },
      "source": [
        "from google.colab import drive\n",
        "drive.mount('/content/gdrive/')"
      ],
      "execution_count": 2,
      "outputs": [
        {
          "output_type": "stream",
          "name": "stdout",
          "text": [
            "Mounted at /content/gdrive/\n"
          ]
        }
      ]
    },
    {
      "cell_type": "code",
      "metadata": {
        "colab": {
          "base_uri": "https://localhost:8080/"
        },
        "id": "Du43C7Keg9Qi",
        "outputId": "53953acf-efa0-4613-9609-584975345a5f"
      },
      "source": [
        "cd /content/gdrive/MyDrive/Python_for_Data_Analytics_Science"
      ],
      "execution_count": 3,
      "outputs": [
        {
          "output_type": "stream",
          "name": "stdout",
          "text": [
            "/content/gdrive/MyDrive/Python_for_Data_Analytics_Science\n"
          ]
        }
      ]
    },
    {
      "cell_type": "code",
      "metadata": {
        "id": "7qyMN8QQhOA-"
      },
      "source": [
        "import pandas as pd"
      ],
      "execution_count": 4,
      "outputs": []
    },
    {
      "cell_type": "markdown",
      "metadata": {
        "id": "7tfveIMHuZIR"
      },
      "source": [
        "## **1.1. CSV**"
      ]
    },
    {
      "cell_type": "markdown",
      "metadata": {
        "id": "50PfQ6CdskMt"
      },
      "source": [
        "### **1.1.1. 파일 읽기**"
      ]
    },
    {
      "cell_type": "markdown",
      "metadata": {
        "id": "I8WKEKUEdTSq"
      },
      "source": [
        "`read_csv()` 메서드로 `csv` 파일을 읽습니다. 매개변수 `header`에 행 번호를 인자로 전달하면 해당하는 행을 열명으로 지정합니다. 기본값은 `0`이며 첫 번째 행을 열명으로 삼습니다. 아래에서 예시하겠습니다."
      ]
    },
    {
      "cell_type": "code",
      "metadata": {
        "colab": {
          "base_uri": "https://localhost:8080/",
          "height": 142
        },
        "id": "bz5db_xF5ZsI",
        "outputId": "a45be91b-33a4-466f-853a-4e3c7b4a5b41"
      },
      "source": [
        "file_path = '/content/gdrive/MyDrive/Python_for_Data_Analytics_Science/5674-833_4th/part2/read_csv_sample.csv'\n",
        "pd.read_csv(file_path)"
      ],
      "execution_count": 5,
      "outputs": [
        {
          "output_type": "execute_result",
          "data": {
            "text/html": [
              "<div>\n",
              "<style scoped>\n",
              "    .dataframe tbody tr th:only-of-type {\n",
              "        vertical-align: middle;\n",
              "    }\n",
              "\n",
              "    .dataframe tbody tr th {\n",
              "        vertical-align: top;\n",
              "    }\n",
              "\n",
              "    .dataframe thead th {\n",
              "        text-align: right;\n",
              "    }\n",
              "</style>\n",
              "<table border=\"1\" class=\"dataframe\">\n",
              "  <thead>\n",
              "    <tr style=\"text-align: right;\">\n",
              "      <th></th>\n",
              "      <th>c0</th>\n",
              "      <th>c1</th>\n",
              "      <th>c2</th>\n",
              "      <th>c3</th>\n",
              "    </tr>\n",
              "  </thead>\n",
              "  <tbody>\n",
              "    <tr>\n",
              "      <th>0</th>\n",
              "      <td>0</td>\n",
              "      <td>1</td>\n",
              "      <td>4</td>\n",
              "      <td>7</td>\n",
              "    </tr>\n",
              "    <tr>\n",
              "      <th>1</th>\n",
              "      <td>1</td>\n",
              "      <td>2</td>\n",
              "      <td>5</td>\n",
              "      <td>8</td>\n",
              "    </tr>\n",
              "    <tr>\n",
              "      <th>2</th>\n",
              "      <td>2</td>\n",
              "      <td>3</td>\n",
              "      <td>6</td>\n",
              "      <td>9</td>\n",
              "    </tr>\n",
              "  </tbody>\n",
              "</table>\n",
              "</div>"
            ],
            "text/plain": [
              "   c0  c1  c2  c3\n",
              "0   0   1   4   7\n",
              "1   1   2   5   8\n",
              "2   2   3   6   9"
            ]
          },
          "metadata": {},
          "execution_count": 5
        }
      ]
    },
    {
      "cell_type": "code",
      "metadata": {
        "colab": {
          "base_uri": "https://localhost:8080/",
          "height": 111
        },
        "id": "Cz2yLOrd9S6T",
        "outputId": "55791c9d-f9e9-4a66-aacf-db80719b5696"
      },
      "source": [
        "pd.read_csv(file_path, header=1)"
      ],
      "execution_count": 6,
      "outputs": [
        {
          "output_type": "execute_result",
          "data": {
            "text/html": [
              "<div>\n",
              "<style scoped>\n",
              "    .dataframe tbody tr th:only-of-type {\n",
              "        vertical-align: middle;\n",
              "    }\n",
              "\n",
              "    .dataframe tbody tr th {\n",
              "        vertical-align: top;\n",
              "    }\n",
              "\n",
              "    .dataframe thead th {\n",
              "        text-align: right;\n",
              "    }\n",
              "</style>\n",
              "<table border=\"1\" class=\"dataframe\">\n",
              "  <thead>\n",
              "    <tr style=\"text-align: right;\">\n",
              "      <th></th>\n",
              "      <th>0</th>\n",
              "      <th>1</th>\n",
              "      <th>4</th>\n",
              "      <th>7</th>\n",
              "    </tr>\n",
              "  </thead>\n",
              "  <tbody>\n",
              "    <tr>\n",
              "      <th>0</th>\n",
              "      <td>1</td>\n",
              "      <td>2</td>\n",
              "      <td>5</td>\n",
              "      <td>8</td>\n",
              "    </tr>\n",
              "    <tr>\n",
              "      <th>1</th>\n",
              "      <td>2</td>\n",
              "      <td>3</td>\n",
              "      <td>6</td>\n",
              "      <td>9</td>\n",
              "    </tr>\n",
              "  </tbody>\n",
              "</table>\n",
              "</div>"
            ],
            "text/plain": [
              "   0  1  4  7\n",
              "0  1  2  5  8\n",
              "1  2  3  6  9"
            ]
          },
          "metadata": {},
          "execution_count": 6
        }
      ]
    },
    {
      "cell_type": "markdown",
      "metadata": {
        "id": "I6iRPNcb7uWj"
      },
      "source": [
        "`header=None`으로 지정하면 열로 지정되지 않습니다."
      ]
    },
    {
      "cell_type": "code",
      "metadata": {
        "colab": {
          "base_uri": "https://localhost:8080/",
          "height": 173
        },
        "id": "8CZwPVrZ5lKX",
        "outputId": "7efb22c1-a32f-47b6-9537-a0480280e74a"
      },
      "source": [
        "pd.read_csv(file_path, header=None)"
      ],
      "execution_count": 7,
      "outputs": [
        {
          "output_type": "execute_result",
          "data": {
            "text/html": [
              "<div>\n",
              "<style scoped>\n",
              "    .dataframe tbody tr th:only-of-type {\n",
              "        vertical-align: middle;\n",
              "    }\n",
              "\n",
              "    .dataframe tbody tr th {\n",
              "        vertical-align: top;\n",
              "    }\n",
              "\n",
              "    .dataframe thead th {\n",
              "        text-align: right;\n",
              "    }\n",
              "</style>\n",
              "<table border=\"1\" class=\"dataframe\">\n",
              "  <thead>\n",
              "    <tr style=\"text-align: right;\">\n",
              "      <th></th>\n",
              "      <th>0</th>\n",
              "      <th>1</th>\n",
              "      <th>2</th>\n",
              "      <th>3</th>\n",
              "    </tr>\n",
              "  </thead>\n",
              "  <tbody>\n",
              "    <tr>\n",
              "      <th>0</th>\n",
              "      <td>c0</td>\n",
              "      <td>c1</td>\n",
              "      <td>c2</td>\n",
              "      <td>c3</td>\n",
              "    </tr>\n",
              "    <tr>\n",
              "      <th>1</th>\n",
              "      <td>0</td>\n",
              "      <td>1</td>\n",
              "      <td>4</td>\n",
              "      <td>7</td>\n",
              "    </tr>\n",
              "    <tr>\n",
              "      <th>2</th>\n",
              "      <td>1</td>\n",
              "      <td>2</td>\n",
              "      <td>5</td>\n",
              "      <td>8</td>\n",
              "    </tr>\n",
              "    <tr>\n",
              "      <th>3</th>\n",
              "      <td>2</td>\n",
              "      <td>3</td>\n",
              "      <td>6</td>\n",
              "      <td>9</td>\n",
              "    </tr>\n",
              "  </tbody>\n",
              "</table>\n",
              "</div>"
            ],
            "text/plain": [
              "    0   1   2   3\n",
              "0  c0  c1  c2  c3\n",
              "1   0   1   4   7\n",
              "2   1   2   5   8\n",
              "3   2   3   6   9"
            ]
          },
          "metadata": {},
          "execution_count": 7
        }
      ]
    },
    {
      "cell_type": "markdown",
      "metadata": {
        "id": "OV9onm1I78of"
      },
      "source": [
        "매개변수 `index_col`의 기본값은 `None`입니다. 인덱스로 컬럼을 지정하지 않았다는 의미입니다."
      ]
    },
    {
      "cell_type": "code",
      "metadata": {
        "colab": {
          "base_uri": "https://localhost:8080/",
          "height": 142
        },
        "id": "61lOxWPa8aX2",
        "outputId": "a417c443-cd17-47c4-8035-c8bbb6b9e77a"
      },
      "source": [
        "pd.read_csv(file_path, index_col=None)"
      ],
      "execution_count": 8,
      "outputs": [
        {
          "output_type": "execute_result",
          "data": {
            "text/html": [
              "<div>\n",
              "<style scoped>\n",
              "    .dataframe tbody tr th:only-of-type {\n",
              "        vertical-align: middle;\n",
              "    }\n",
              "\n",
              "    .dataframe tbody tr th {\n",
              "        vertical-align: top;\n",
              "    }\n",
              "\n",
              "    .dataframe thead th {\n",
              "        text-align: right;\n",
              "    }\n",
              "</style>\n",
              "<table border=\"1\" class=\"dataframe\">\n",
              "  <thead>\n",
              "    <tr style=\"text-align: right;\">\n",
              "      <th></th>\n",
              "      <th>c0</th>\n",
              "      <th>c1</th>\n",
              "      <th>c2</th>\n",
              "      <th>c3</th>\n",
              "    </tr>\n",
              "  </thead>\n",
              "  <tbody>\n",
              "    <tr>\n",
              "      <th>0</th>\n",
              "      <td>0</td>\n",
              "      <td>1</td>\n",
              "      <td>4</td>\n",
              "      <td>7</td>\n",
              "    </tr>\n",
              "    <tr>\n",
              "      <th>1</th>\n",
              "      <td>1</td>\n",
              "      <td>2</td>\n",
              "      <td>5</td>\n",
              "      <td>8</td>\n",
              "    </tr>\n",
              "    <tr>\n",
              "      <th>2</th>\n",
              "      <td>2</td>\n",
              "      <td>3</td>\n",
              "      <td>6</td>\n",
              "      <td>9</td>\n",
              "    </tr>\n",
              "  </tbody>\n",
              "</table>\n",
              "</div>"
            ],
            "text/plain": [
              "   c0  c1  c2  c3\n",
              "0   0   1   4   7\n",
              "1   1   2   5   8\n",
              "2   2   3   6   9"
            ]
          },
          "metadata": {},
          "execution_count": 8
        }
      ]
    },
    {
      "cell_type": "markdown",
      "metadata": {
        "id": "57X6S1BC_Ww5"
      },
      "source": [
        "`index_col` 매개변수에 'c1' 열을 전달하겠습니다."
      ]
    },
    {
      "cell_type": "code",
      "metadata": {
        "colab": {
          "base_uri": "https://localhost:8080/",
          "height": 173
        },
        "id": "bVPz43L-_dyv",
        "outputId": "a7f7ea73-75b6-4bdc-8b04-ff58598fe7a2"
      },
      "source": [
        "pd.read_csv(file_path, index_col=['c1'])"
      ],
      "execution_count": 9,
      "outputs": [
        {
          "output_type": "execute_result",
          "data": {
            "text/html": [
              "<div>\n",
              "<style scoped>\n",
              "    .dataframe tbody tr th:only-of-type {\n",
              "        vertical-align: middle;\n",
              "    }\n",
              "\n",
              "    .dataframe tbody tr th {\n",
              "        vertical-align: top;\n",
              "    }\n",
              "\n",
              "    .dataframe thead th {\n",
              "        text-align: right;\n",
              "    }\n",
              "</style>\n",
              "<table border=\"1\" class=\"dataframe\">\n",
              "  <thead>\n",
              "    <tr style=\"text-align: right;\">\n",
              "      <th></th>\n",
              "      <th>c0</th>\n",
              "      <th>c2</th>\n",
              "      <th>c3</th>\n",
              "    </tr>\n",
              "    <tr>\n",
              "      <th>c1</th>\n",
              "      <th></th>\n",
              "      <th></th>\n",
              "      <th></th>\n",
              "    </tr>\n",
              "  </thead>\n",
              "  <tbody>\n",
              "    <tr>\n",
              "      <th>1</th>\n",
              "      <td>0</td>\n",
              "      <td>4</td>\n",
              "      <td>7</td>\n",
              "    </tr>\n",
              "    <tr>\n",
              "      <th>2</th>\n",
              "      <td>1</td>\n",
              "      <td>5</td>\n",
              "      <td>8</td>\n",
              "    </tr>\n",
              "    <tr>\n",
              "      <th>3</th>\n",
              "      <td>2</td>\n",
              "      <td>6</td>\n",
              "      <td>9</td>\n",
              "    </tr>\n",
              "  </tbody>\n",
              "</table>\n",
              "</div>"
            ],
            "text/plain": [
              "    c0  c2  c3\n",
              "c1            \n",
              "1    0   4   7\n",
              "2    1   5   8\n",
              "3    2   6   9"
            ]
          },
          "metadata": {},
          "execution_count": 9
        }
      ]
    },
    {
      "cell_type": "markdown",
      "metadata": {
        "id": "sW_P8-1q_tYK"
      },
      "source": [
        "다중으로 전달할 수도 있습니다."
      ]
    },
    {
      "cell_type": "code",
      "metadata": {
        "colab": {
          "base_uri": "https://localhost:8080/",
          "height": 173
        },
        "id": "jhFqkhRA_p5z",
        "outputId": "5371dedd-2990-4189-ad1b-4568e199d2cb"
      },
      "source": [
        "pd.read_csv(file_path, index_col=['c1', 'c0'])"
      ],
      "execution_count": 10,
      "outputs": [
        {
          "output_type": "execute_result",
          "data": {
            "text/html": [
              "<div>\n",
              "<style scoped>\n",
              "    .dataframe tbody tr th:only-of-type {\n",
              "        vertical-align: middle;\n",
              "    }\n",
              "\n",
              "    .dataframe tbody tr th {\n",
              "        vertical-align: top;\n",
              "    }\n",
              "\n",
              "    .dataframe thead th {\n",
              "        text-align: right;\n",
              "    }\n",
              "</style>\n",
              "<table border=\"1\" class=\"dataframe\">\n",
              "  <thead>\n",
              "    <tr style=\"text-align: right;\">\n",
              "      <th></th>\n",
              "      <th></th>\n",
              "      <th>c2</th>\n",
              "      <th>c3</th>\n",
              "    </tr>\n",
              "    <tr>\n",
              "      <th>c1</th>\n",
              "      <th>c0</th>\n",
              "      <th></th>\n",
              "      <th></th>\n",
              "    </tr>\n",
              "  </thead>\n",
              "  <tbody>\n",
              "    <tr>\n",
              "      <th>1</th>\n",
              "      <th>0</th>\n",
              "      <td>4</td>\n",
              "      <td>7</td>\n",
              "    </tr>\n",
              "    <tr>\n",
              "      <th>2</th>\n",
              "      <th>1</th>\n",
              "      <td>5</td>\n",
              "      <td>8</td>\n",
              "    </tr>\n",
              "    <tr>\n",
              "      <th>3</th>\n",
              "      <th>2</th>\n",
              "      <td>6</td>\n",
              "      <td>9</td>\n",
              "    </tr>\n",
              "  </tbody>\n",
              "</table>\n",
              "</div>"
            ],
            "text/plain": [
              "       c2  c3\n",
              "c1 c0        \n",
              "1  0    4   7\n",
              "2  1    5   8\n",
              "3  2    6   9"
            ]
          },
          "metadata": {},
          "execution_count": 10
        }
      ]
    },
    {
      "cell_type": "markdown",
      "metadata": {
        "id": "02e9jX1d_6Sj"
      },
      "source": [
        "몇 가지 주요 매개변수에 대한 목록은 아래와 같습니다.\n",
        "\n",
        "- `sep` or `delimiter`: 각각 데이터를 구분한 구분자를 전달합니다.\n",
        "\n",
        "- `names`: 열명으로 사용할 문자열 리스트를 전달합니다.\n",
        "\n",
        "- `skiprows`: 처음 몇 줄을 스킵할 것인지 설정합니다. 예컨대 `[0, 1]`로 지정하면 0행과 1행은 출력하지 않습니다.\n",
        "\n",
        "- `parse_dates`: 날짜 텍스트를 `datatime64` 형으로 바꿀지 설정합니다. 기본값은 `False`입니다.\n",
        "\n",
        "- `skip_footer`: 마지막 몇 줄을 스킵할 것인지 설정합니다.\n",
        "\n",
        "- `encoding`: 텍스트 인코딩 유형을 지정합니다."
      ]
    },
    {
      "cell_type": "markdown",
      "metadata": {
        "id": "dJhN8EfwuVFk"
      },
      "source": [
        "### **1.1.2. 파일 저장하기**"
      ]
    },
    {
      "cell_type": "markdown",
      "metadata": {
        "id": "TYQ4l0TMBfDp"
      },
      "source": [
        "`to_csv()` 메서드로 `csv` 파일로 저장할 수 있습니다."
      ]
    },
    {
      "cell_type": "code",
      "metadata": {
        "colab": {
          "base_uri": "https://localhost:8080/",
          "height": 142
        },
        "id": "vO7CFXbLBxXy",
        "outputId": "d084199b-466d-4db7-dd6b-cc913c071681"
      },
      "source": [
        "csv_data = {'name': ['Jerry', 'Riah', 'Paul'],\n",
        "            'algol': ['A', 'A+', 'B'],\n",
        "            'basic': ['C', 'B', 'B+'],\n",
        "            'c++': ['B+', 'C', 'C+']}\n",
        "df_csv = pd.DataFrame(csv_data)\n",
        "df_csv"
      ],
      "execution_count": 11,
      "outputs": [
        {
          "output_type": "execute_result",
          "data": {
            "text/html": [
              "<div>\n",
              "<style scoped>\n",
              "    .dataframe tbody tr th:only-of-type {\n",
              "        vertical-align: middle;\n",
              "    }\n",
              "\n",
              "    .dataframe tbody tr th {\n",
              "        vertical-align: top;\n",
              "    }\n",
              "\n",
              "    .dataframe thead th {\n",
              "        text-align: right;\n",
              "    }\n",
              "</style>\n",
              "<table border=\"1\" class=\"dataframe\">\n",
              "  <thead>\n",
              "    <tr style=\"text-align: right;\">\n",
              "      <th></th>\n",
              "      <th>name</th>\n",
              "      <th>algol</th>\n",
              "      <th>basic</th>\n",
              "      <th>c++</th>\n",
              "    </tr>\n",
              "  </thead>\n",
              "  <tbody>\n",
              "    <tr>\n",
              "      <th>0</th>\n",
              "      <td>Jerry</td>\n",
              "      <td>A</td>\n",
              "      <td>C</td>\n",
              "      <td>B+</td>\n",
              "    </tr>\n",
              "    <tr>\n",
              "      <th>1</th>\n",
              "      <td>Riah</td>\n",
              "      <td>A+</td>\n",
              "      <td>B</td>\n",
              "      <td>C</td>\n",
              "    </tr>\n",
              "    <tr>\n",
              "      <th>2</th>\n",
              "      <td>Paul</td>\n",
              "      <td>B</td>\n",
              "      <td>B+</td>\n",
              "      <td>C+</td>\n",
              "    </tr>\n",
              "  </tbody>\n",
              "</table>\n",
              "</div>"
            ],
            "text/plain": [
              "    name algol basic c++\n",
              "0  Jerry     A     C  B+\n",
              "1   Riah    A+     B   C\n",
              "2   Paul     B    B+  C+"
            ]
          },
          "metadata": {},
          "execution_count": 11
        }
      ]
    },
    {
      "cell_type": "markdown",
      "metadata": {
        "id": "YhEXtUBRNAq7"
      },
      "source": [
        "인덱스를 'name'으로 지정하겠습니다."
      ]
    },
    {
      "cell_type": "code",
      "metadata": {
        "colab": {
          "base_uri": "https://localhost:8080/",
          "height": 173
        },
        "id": "tfWZlUpBM_6z",
        "outputId": "f1e7e779-03da-42bf-e1c2-bd053c2ababa"
      },
      "source": [
        "df_csv.set_index('name', inplace=True)\n",
        "df_csv"
      ],
      "execution_count": 12,
      "outputs": [
        {
          "output_type": "execute_result",
          "data": {
            "text/html": [
              "<div>\n",
              "<style scoped>\n",
              "    .dataframe tbody tr th:only-of-type {\n",
              "        vertical-align: middle;\n",
              "    }\n",
              "\n",
              "    .dataframe tbody tr th {\n",
              "        vertical-align: top;\n",
              "    }\n",
              "\n",
              "    .dataframe thead th {\n",
              "        text-align: right;\n",
              "    }\n",
              "</style>\n",
              "<table border=\"1\" class=\"dataframe\">\n",
              "  <thead>\n",
              "    <tr style=\"text-align: right;\">\n",
              "      <th></th>\n",
              "      <th>algol</th>\n",
              "      <th>basic</th>\n",
              "      <th>c++</th>\n",
              "    </tr>\n",
              "    <tr>\n",
              "      <th>name</th>\n",
              "      <th></th>\n",
              "      <th></th>\n",
              "      <th></th>\n",
              "    </tr>\n",
              "  </thead>\n",
              "  <tbody>\n",
              "    <tr>\n",
              "      <th>Jerry</th>\n",
              "      <td>A</td>\n",
              "      <td>C</td>\n",
              "      <td>B+</td>\n",
              "    </tr>\n",
              "    <tr>\n",
              "      <th>Riah</th>\n",
              "      <td>A+</td>\n",
              "      <td>B</td>\n",
              "      <td>C</td>\n",
              "    </tr>\n",
              "    <tr>\n",
              "      <th>Paul</th>\n",
              "      <td>B</td>\n",
              "      <td>B+</td>\n",
              "      <td>C+</td>\n",
              "    </tr>\n",
              "  </tbody>\n",
              "</table>\n",
              "</div>"
            ],
            "text/plain": [
              "      algol basic c++\n",
              "name                 \n",
              "Jerry     A     C  B+\n",
              "Riah     A+     B   C\n",
              "Paul      B    B+  C+"
            ]
          },
          "metadata": {},
          "execution_count": 12
        }
      ]
    },
    {
      "cell_type": "markdown",
      "metadata": {
        "id": "z6exOka5N4VI"
      },
      "source": [
        "`csv` 파일로 저장하겠습니다. `sep` 매개변수에 구분자를 공백(`' '`)으로 지정하고 `encoding` 매개변수에 문자형을 `'cp949'`로 지정하겠습니다."
      ]
    },
    {
      "cell_type": "code",
      "metadata": {
        "id": "Z8SrlO2rN8Pc"
      },
      "source": [
        "df_csv.to_csv('/content/gdrive/MyDrive/Python_for_Data_Analytics_Science/to_csv2.csv',\n",
        "              sep=',', encoding='cp949')"
      ],
      "execution_count": 13,
      "outputs": []
    },
    {
      "cell_type": "markdown",
      "metadata": {
        "id": "Dc9sGOhMuKco"
      },
      "source": [
        "## **1.2. 엑셀**"
      ]
    },
    {
      "cell_type": "markdown",
      "metadata": {
        "id": "Lcb42TQWskI1"
      },
      "source": [
        "### **1.2.1. 파일 읽기**"
      ]
    },
    {
      "cell_type": "markdown",
      "metadata": {
        "id": "yfXoCttnwzBa"
      },
      "source": [
        "`read_excel()` 메서드는 `read_csv()` 메서드와 사용법이 거의 같으며 모든 매개변수를 동일하게 가지고 있습니다. `engine` 매개변수의 경우 `xlsx` 파일이면 `openpyxl`을 인자로 지정하고, `xls` 파일이면 `xlrd`를 인자로 지정합니다."
      ]
    },
    {
      "cell_type": "code",
      "metadata": {
        "colab": {
          "base_uri": "https://localhost:8080/",
          "height": 637
        },
        "id": "aco2HjSV0jI7",
        "outputId": "c2c708bf-bc68-4e39-842b-6d41a44b55c3"
      },
      "source": [
        "file_path = '/content/gdrive/MyDrive/Python_for_Data_Analytics_Science/5674-833_4th/part2/남북한발전전력량.xlsx'\n",
        "pd.read_excel(file_path, engine='openpyxl')"
      ],
      "execution_count": 14,
      "outputs": [
        {
          "output_type": "execute_result",
          "data": {
            "text/html": [
              "<div>\n",
              "<style scoped>\n",
              "    .dataframe tbody tr th:only-of-type {\n",
              "        vertical-align: middle;\n",
              "    }\n",
              "\n",
              "    .dataframe tbody tr th {\n",
              "        vertical-align: top;\n",
              "    }\n",
              "\n",
              "    .dataframe thead th {\n",
              "        text-align: right;\n",
              "    }\n",
              "</style>\n",
              "<table border=\"1\" class=\"dataframe\">\n",
              "  <thead>\n",
              "    <tr style=\"text-align: right;\">\n",
              "      <th></th>\n",
              "      <th>전력량 (억㎾h)</th>\n",
              "      <th>발전 전력별</th>\n",
              "      <th>1990</th>\n",
              "      <th>1991</th>\n",
              "      <th>1992</th>\n",
              "      <th>1993</th>\n",
              "      <th>1994</th>\n",
              "      <th>1995</th>\n",
              "      <th>1996</th>\n",
              "      <th>1997</th>\n",
              "      <th>1998</th>\n",
              "      <th>1999</th>\n",
              "      <th>2000</th>\n",
              "      <th>2001</th>\n",
              "      <th>2002</th>\n",
              "      <th>2003</th>\n",
              "      <th>2004</th>\n",
              "      <th>2005</th>\n",
              "      <th>2006</th>\n",
              "      <th>2007</th>\n",
              "      <th>2008</th>\n",
              "      <th>2009</th>\n",
              "      <th>2010</th>\n",
              "      <th>2011</th>\n",
              "      <th>2012</th>\n",
              "      <th>2013</th>\n",
              "      <th>2014</th>\n",
              "      <th>2015</th>\n",
              "      <th>2016</th>\n",
              "    </tr>\n",
              "  </thead>\n",
              "  <tbody>\n",
              "    <tr>\n",
              "      <th>0</th>\n",
              "      <td>남한</td>\n",
              "      <td>합계</td>\n",
              "      <td>1077</td>\n",
              "      <td>1186</td>\n",
              "      <td>1310</td>\n",
              "      <td>1444</td>\n",
              "      <td>1650</td>\n",
              "      <td>1847</td>\n",
              "      <td>2055</td>\n",
              "      <td>2244</td>\n",
              "      <td>2153</td>\n",
              "      <td>2393</td>\n",
              "      <td>2664</td>\n",
              "      <td>2852</td>\n",
              "      <td>3065</td>\n",
              "      <td>3225</td>\n",
              "      <td>3421</td>\n",
              "      <td>3646</td>\n",
              "      <td>3812</td>\n",
              "      <td>4031</td>\n",
              "      <td>4224</td>\n",
              "      <td>4336</td>\n",
              "      <td>4747</td>\n",
              "      <td>4969</td>\n",
              "      <td>5096</td>\n",
              "      <td>5171</td>\n",
              "      <td>5220</td>\n",
              "      <td>5281</td>\n",
              "      <td>5404</td>\n",
              "    </tr>\n",
              "    <tr>\n",
              "      <th>1</th>\n",
              "      <td>NaN</td>\n",
              "      <td>수력</td>\n",
              "      <td>64</td>\n",
              "      <td>51</td>\n",
              "      <td>49</td>\n",
              "      <td>60</td>\n",
              "      <td>41</td>\n",
              "      <td>55</td>\n",
              "      <td>52</td>\n",
              "      <td>54</td>\n",
              "      <td>61</td>\n",
              "      <td>61</td>\n",
              "      <td>56</td>\n",
              "      <td>42</td>\n",
              "      <td>53</td>\n",
              "      <td>69</td>\n",
              "      <td>59</td>\n",
              "      <td>52</td>\n",
              "      <td>52</td>\n",
              "      <td>50</td>\n",
              "      <td>56</td>\n",
              "      <td>56</td>\n",
              "      <td>65</td>\n",
              "      <td>78</td>\n",
              "      <td>77</td>\n",
              "      <td>84</td>\n",
              "      <td>78</td>\n",
              "      <td>58</td>\n",
              "      <td>66</td>\n",
              "    </tr>\n",
              "    <tr>\n",
              "      <th>2</th>\n",
              "      <td>NaN</td>\n",
              "      <td>화력</td>\n",
              "      <td>484</td>\n",
              "      <td>573</td>\n",
              "      <td>696</td>\n",
              "      <td>803</td>\n",
              "      <td>1022</td>\n",
              "      <td>1122</td>\n",
              "      <td>1264</td>\n",
              "      <td>1420</td>\n",
              "      <td>1195</td>\n",
              "      <td>1302</td>\n",
              "      <td>1518</td>\n",
              "      <td>1689</td>\n",
              "      <td>1821</td>\n",
              "      <td>1859</td>\n",
              "      <td>2056</td>\n",
              "      <td>2127</td>\n",
              "      <td>2272</td>\n",
              "      <td>2551</td>\n",
              "      <td>2658</td>\n",
              "      <td>2802</td>\n",
              "      <td>3196</td>\n",
              "      <td>3343</td>\n",
              "      <td>3430</td>\n",
              "      <td>3581</td>\n",
              "      <td>3427</td>\n",
              "      <td>3402</td>\n",
              "      <td>3523</td>\n",
              "    </tr>\n",
              "    <tr>\n",
              "      <th>3</th>\n",
              "      <td>NaN</td>\n",
              "      <td>원자력</td>\n",
              "      <td>529</td>\n",
              "      <td>563</td>\n",
              "      <td>565</td>\n",
              "      <td>581</td>\n",
              "      <td>587</td>\n",
              "      <td>670</td>\n",
              "      <td>739</td>\n",
              "      <td>771</td>\n",
              "      <td>897</td>\n",
              "      <td>1031</td>\n",
              "      <td>1090</td>\n",
              "      <td>1121</td>\n",
              "      <td>1191</td>\n",
              "      <td>1297</td>\n",
              "      <td>1307</td>\n",
              "      <td>1468</td>\n",
              "      <td>1487</td>\n",
              "      <td>1429</td>\n",
              "      <td>1510</td>\n",
              "      <td>1478</td>\n",
              "      <td>1486</td>\n",
              "      <td>1547</td>\n",
              "      <td>1503</td>\n",
              "      <td>1388</td>\n",
              "      <td>1564</td>\n",
              "      <td>1648</td>\n",
              "      <td>1620</td>\n",
              "    </tr>\n",
              "    <tr>\n",
              "      <th>4</th>\n",
              "      <td>NaN</td>\n",
              "      <td>신재생</td>\n",
              "      <td>-</td>\n",
              "      <td>-</td>\n",
              "      <td>-</td>\n",
              "      <td>-</td>\n",
              "      <td>-</td>\n",
              "      <td>-</td>\n",
              "      <td>-</td>\n",
              "      <td>-</td>\n",
              "      <td>-</td>\n",
              "      <td>-</td>\n",
              "      <td>-</td>\n",
              "      <td>-</td>\n",
              "      <td>-</td>\n",
              "      <td>-</td>\n",
              "      <td>-</td>\n",
              "      <td>-</td>\n",
              "      <td>-</td>\n",
              "      <td>-</td>\n",
              "      <td>-</td>\n",
              "      <td>-</td>\n",
              "      <td>-</td>\n",
              "      <td>-</td>\n",
              "      <td>86</td>\n",
              "      <td>118</td>\n",
              "      <td>151</td>\n",
              "      <td>173</td>\n",
              "      <td>195</td>\n",
              "    </tr>\n",
              "    <tr>\n",
              "      <th>5</th>\n",
              "      <td>북한</td>\n",
              "      <td>합계</td>\n",
              "      <td>277</td>\n",
              "      <td>263</td>\n",
              "      <td>247</td>\n",
              "      <td>221</td>\n",
              "      <td>231</td>\n",
              "      <td>230</td>\n",
              "      <td>213</td>\n",
              "      <td>193</td>\n",
              "      <td>170</td>\n",
              "      <td>186</td>\n",
              "      <td>194</td>\n",
              "      <td>202</td>\n",
              "      <td>190</td>\n",
              "      <td>196</td>\n",
              "      <td>206</td>\n",
              "      <td>215</td>\n",
              "      <td>225</td>\n",
              "      <td>236</td>\n",
              "      <td>255</td>\n",
              "      <td>235</td>\n",
              "      <td>237</td>\n",
              "      <td>211</td>\n",
              "      <td>215</td>\n",
              "      <td>221</td>\n",
              "      <td>216</td>\n",
              "      <td>190</td>\n",
              "      <td>239</td>\n",
              "    </tr>\n",
              "    <tr>\n",
              "      <th>6</th>\n",
              "      <td>NaN</td>\n",
              "      <td>수력</td>\n",
              "      <td>156</td>\n",
              "      <td>150</td>\n",
              "      <td>142</td>\n",
              "      <td>133</td>\n",
              "      <td>138</td>\n",
              "      <td>142</td>\n",
              "      <td>125</td>\n",
              "      <td>107</td>\n",
              "      <td>102</td>\n",
              "      <td>103</td>\n",
              "      <td>102</td>\n",
              "      <td>106</td>\n",
              "      <td>106</td>\n",
              "      <td>117</td>\n",
              "      <td>125</td>\n",
              "      <td>131</td>\n",
              "      <td>126</td>\n",
              "      <td>133</td>\n",
              "      <td>141</td>\n",
              "      <td>125</td>\n",
              "      <td>134</td>\n",
              "      <td>132</td>\n",
              "      <td>135</td>\n",
              "      <td>139</td>\n",
              "      <td>130</td>\n",
              "      <td>100</td>\n",
              "      <td>128</td>\n",
              "    </tr>\n",
              "    <tr>\n",
              "      <th>7</th>\n",
              "      <td>NaN</td>\n",
              "      <td>화력</td>\n",
              "      <td>121</td>\n",
              "      <td>113</td>\n",
              "      <td>105</td>\n",
              "      <td>88</td>\n",
              "      <td>93</td>\n",
              "      <td>88</td>\n",
              "      <td>88</td>\n",
              "      <td>86</td>\n",
              "      <td>68</td>\n",
              "      <td>83</td>\n",
              "      <td>92</td>\n",
              "      <td>96</td>\n",
              "      <td>84</td>\n",
              "      <td>79</td>\n",
              "      <td>81</td>\n",
              "      <td>84</td>\n",
              "      <td>99</td>\n",
              "      <td>103</td>\n",
              "      <td>114</td>\n",
              "      <td>110</td>\n",
              "      <td>103</td>\n",
              "      <td>79</td>\n",
              "      <td>80</td>\n",
              "      <td>82</td>\n",
              "      <td>86</td>\n",
              "      <td>90</td>\n",
              "      <td>111</td>\n",
              "    </tr>\n",
              "    <tr>\n",
              "      <th>8</th>\n",
              "      <td>NaN</td>\n",
              "      <td>원자력</td>\n",
              "      <td>-</td>\n",
              "      <td>-</td>\n",
              "      <td>-</td>\n",
              "      <td>-</td>\n",
              "      <td>-</td>\n",
              "      <td>-</td>\n",
              "      <td>-</td>\n",
              "      <td>-</td>\n",
              "      <td>-</td>\n",
              "      <td>-</td>\n",
              "      <td>-</td>\n",
              "      <td>-</td>\n",
              "      <td>-</td>\n",
              "      <td>-</td>\n",
              "      <td>-</td>\n",
              "      <td>-</td>\n",
              "      <td>-</td>\n",
              "      <td>-</td>\n",
              "      <td>-</td>\n",
              "      <td>-</td>\n",
              "      <td>-</td>\n",
              "      <td>-</td>\n",
              "      <td>-</td>\n",
              "      <td>-</td>\n",
              "      <td>-</td>\n",
              "      <td>-</td>\n",
              "      <td>-</td>\n",
              "    </tr>\n",
              "  </tbody>\n",
              "</table>\n",
              "</div>"
            ],
            "text/plain": [
              "  전력량 (억㎾h) 발전 전력별  1990  1991  1992  1993  ...  2011  2012  2013  2014  2015  2016\n",
              "0        남한     합계  1077  1186  1310  1444  ...  4969  5096  5171  5220  5281  5404\n",
              "1       NaN     수력    64    51    49    60  ...    78    77    84    78    58    66\n",
              "2       NaN     화력   484   573   696   803  ...  3343  3430  3581  3427  3402  3523\n",
              "3       NaN    원자력   529   563   565   581  ...  1547  1503  1388  1564  1648  1620\n",
              "4       NaN    신재생     -     -     -     -  ...     -    86   118   151   173   195\n",
              "5        북한     합계   277   263   247   221  ...   211   215   221   216   190   239\n",
              "6       NaN     수력   156   150   142   133  ...   132   135   139   130   100   128\n",
              "7       NaN     화력   121   113   105    88  ...    79    80    82    86    90   111\n",
              "8       NaN    원자력     -     -     -     -  ...     -     -     -     -     -     -\n",
              "\n",
              "[9 rows x 29 columns]"
            ]
          },
          "metadata": {},
          "execution_count": 14
        }
      ]
    },
    {
      "cell_type": "markdown",
      "metadata": {
        "id": "RjCZiW8yoB37"
      },
      "source": [
        "이번에는 직접 생성한 엑셀 파일의 두 번째 시트인 '3월 판매량'을 읽겠습니다. `sheet_name` 매개변수에 `시트 순서 - 1`인 `1`로 지정하거나 시트명인 `'3월 판매량'`을 지정합니다."
      ]
    },
    {
      "cell_type": "code",
      "metadata": {
        "colab": {
          "base_uri": "https://localhost:8080/",
          "height": 204
        },
        "id": "XhtJAtyAojmh",
        "outputId": "8b94513b-a277-416a-b626-f9e8ee25a0d0"
      },
      "source": [
        "file_path = '/content/gdrive/MyDrive/Python_for_Data_Analytics_Science/직원별 판매량.xlsx'\n",
        "pd.read_excel(file_path, sheet_name=1)"
      ],
      "execution_count": 15,
      "outputs": [
        {
          "output_type": "execute_result",
          "data": {
            "text/html": [
              "<div>\n",
              "<style scoped>\n",
              "    .dataframe tbody tr th:only-of-type {\n",
              "        vertical-align: middle;\n",
              "    }\n",
              "\n",
              "    .dataframe tbody tr th {\n",
              "        vertical-align: top;\n",
              "    }\n",
              "\n",
              "    .dataframe thead th {\n",
              "        text-align: right;\n",
              "    }\n",
              "</style>\n",
              "<table border=\"1\" class=\"dataframe\">\n",
              "  <thead>\n",
              "    <tr style=\"text-align: right;\">\n",
              "      <th></th>\n",
              "      <th>성명</th>\n",
              "      <th>마우스</th>\n",
              "      <th>키보드</th>\n",
              "      <th>모니터</th>\n",
              "      <th>스피커</th>\n",
              "    </tr>\n",
              "  </thead>\n",
              "  <tbody>\n",
              "    <tr>\n",
              "      <th>0</th>\n",
              "      <td>임정섭</td>\n",
              "      <td>63</td>\n",
              "      <td>72</td>\n",
              "      <td>37</td>\n",
              "      <td>83</td>\n",
              "    </tr>\n",
              "    <tr>\n",
              "      <th>1</th>\n",
              "      <td>박종인</td>\n",
              "      <td>48</td>\n",
              "      <td>11</td>\n",
              "      <td>54</td>\n",
              "      <td>21</td>\n",
              "    </tr>\n",
              "    <tr>\n",
              "      <th>2</th>\n",
              "      <td>강원희</td>\n",
              "      <td>69</td>\n",
              "      <td>32</td>\n",
              "      <td>46</td>\n",
              "      <td>24</td>\n",
              "    </tr>\n",
              "    <tr>\n",
              "      <th>3</th>\n",
              "      <td>최중규</td>\n",
              "      <td>68</td>\n",
              "      <td>27</td>\n",
              "      <td>23</td>\n",
              "      <td>52</td>\n",
              "    </tr>\n",
              "    <tr>\n",
              "      <th>4</th>\n",
              "      <td>이한정</td>\n",
              "      <td>84</td>\n",
              "      <td>57</td>\n",
              "      <td>16</td>\n",
              "      <td>85</td>\n",
              "    </tr>\n",
              "  </tbody>\n",
              "</table>\n",
              "</div>"
            ],
            "text/plain": [
              "    성명  마우스  키보드  모니터  스피커\n",
              "0  임정섭   63   72   37   83\n",
              "1  박종인   48   11   54   21\n",
              "2  강원희   69   32   46   24\n",
              "3  최중규   68   27   23   52\n",
              "4  이한정   84   57   16   85"
            ]
          },
          "metadata": {},
          "execution_count": 15
        }
      ]
    },
    {
      "cell_type": "markdown",
      "metadata": {
        "id": "E9SVhQkUule-"
      },
      "source": [
        "### **1.2.2. 파일 저장하기**"
      ]
    },
    {
      "cell_type": "markdown",
      "metadata": {
        "id": "7DLt3a3n01Rh"
      },
      "source": [
        "`to_excel()` 메서드를 사용하면 엑셀 파일로 저장합니다. `csv` 파일과 같은 방식으로 적용하겠습니다."
      ]
    },
    {
      "cell_type": "code",
      "metadata": {
        "colab": {
          "base_uri": "https://localhost:8080/",
          "height": 142
        },
        "id": "sD91VMwG1HHw",
        "outputId": "d8e22fbc-de9f-47ed-aac1-03672b702726"
      },
      "source": [
        "excel_data = {'name': ['Jerry', 'Riah', 'Paul'],\n",
        "            'algol': ['A', 'A+', 'B'],\n",
        "            'basic': ['C', 'B', 'B+'],\n",
        "            'c++': ['B+', 'C', 'C+']}\n",
        "df_excel = pd.DataFrame(excel_data)\n",
        "df_excel"
      ],
      "execution_count": 16,
      "outputs": [
        {
          "output_type": "execute_result",
          "data": {
            "text/html": [
              "<div>\n",
              "<style scoped>\n",
              "    .dataframe tbody tr th:only-of-type {\n",
              "        vertical-align: middle;\n",
              "    }\n",
              "\n",
              "    .dataframe tbody tr th {\n",
              "        vertical-align: top;\n",
              "    }\n",
              "\n",
              "    .dataframe thead th {\n",
              "        text-align: right;\n",
              "    }\n",
              "</style>\n",
              "<table border=\"1\" class=\"dataframe\">\n",
              "  <thead>\n",
              "    <tr style=\"text-align: right;\">\n",
              "      <th></th>\n",
              "      <th>name</th>\n",
              "      <th>algol</th>\n",
              "      <th>basic</th>\n",
              "      <th>c++</th>\n",
              "    </tr>\n",
              "  </thead>\n",
              "  <tbody>\n",
              "    <tr>\n",
              "      <th>0</th>\n",
              "      <td>Jerry</td>\n",
              "      <td>A</td>\n",
              "      <td>C</td>\n",
              "      <td>B+</td>\n",
              "    </tr>\n",
              "    <tr>\n",
              "      <th>1</th>\n",
              "      <td>Riah</td>\n",
              "      <td>A+</td>\n",
              "      <td>B</td>\n",
              "      <td>C</td>\n",
              "    </tr>\n",
              "    <tr>\n",
              "      <th>2</th>\n",
              "      <td>Paul</td>\n",
              "      <td>B</td>\n",
              "      <td>B+</td>\n",
              "      <td>C+</td>\n",
              "    </tr>\n",
              "  </tbody>\n",
              "</table>\n",
              "</div>"
            ],
            "text/plain": [
              "    name algol basic c++\n",
              "0  Jerry     A     C  B+\n",
              "1   Riah    A+     B   C\n",
              "2   Paul     B    B+  C+"
            ]
          },
          "metadata": {},
          "execution_count": 16
        }
      ]
    },
    {
      "cell_type": "code",
      "metadata": {
        "colab": {
          "base_uri": "https://localhost:8080/",
          "height": 173
        },
        "id": "wMmiNdhs1jCT",
        "outputId": "1510eb7b-d767-493c-8ddb-c833a38e587a"
      },
      "source": [
        "df_excel.set_index('name', inplace=True)\n",
        "df_excel"
      ],
      "execution_count": 17,
      "outputs": [
        {
          "output_type": "execute_result",
          "data": {
            "text/html": [
              "<div>\n",
              "<style scoped>\n",
              "    .dataframe tbody tr th:only-of-type {\n",
              "        vertical-align: middle;\n",
              "    }\n",
              "\n",
              "    .dataframe tbody tr th {\n",
              "        vertical-align: top;\n",
              "    }\n",
              "\n",
              "    .dataframe thead th {\n",
              "        text-align: right;\n",
              "    }\n",
              "</style>\n",
              "<table border=\"1\" class=\"dataframe\">\n",
              "  <thead>\n",
              "    <tr style=\"text-align: right;\">\n",
              "      <th></th>\n",
              "      <th>algol</th>\n",
              "      <th>basic</th>\n",
              "      <th>c++</th>\n",
              "    </tr>\n",
              "    <tr>\n",
              "      <th>name</th>\n",
              "      <th></th>\n",
              "      <th></th>\n",
              "      <th></th>\n",
              "    </tr>\n",
              "  </thead>\n",
              "  <tbody>\n",
              "    <tr>\n",
              "      <th>Jerry</th>\n",
              "      <td>A</td>\n",
              "      <td>C</td>\n",
              "      <td>B+</td>\n",
              "    </tr>\n",
              "    <tr>\n",
              "      <th>Riah</th>\n",
              "      <td>A+</td>\n",
              "      <td>B</td>\n",
              "      <td>C</td>\n",
              "    </tr>\n",
              "    <tr>\n",
              "      <th>Paul</th>\n",
              "      <td>B</td>\n",
              "      <td>B+</td>\n",
              "      <td>C+</td>\n",
              "    </tr>\n",
              "  </tbody>\n",
              "</table>\n",
              "</div>"
            ],
            "text/plain": [
              "      algol basic c++\n",
              "name                 \n",
              "Jerry     A     C  B+\n",
              "Riah     A+     B   C\n",
              "Paul      B    B+  C+"
            ]
          },
          "metadata": {},
          "execution_count": 17
        }
      ]
    },
    {
      "cell_type": "code",
      "metadata": {
        "id": "23Z7K5Xi1pvN"
      },
      "source": [
        "df_excel.to_excel('/content/gdrive/MyDrive/Python_for_Data_Analytics_Science/to_excel.xlsx')"
      ],
      "execution_count": 18,
      "outputs": []
    },
    {
      "cell_type": "markdown",
      "metadata": {
        "id": "-EcnKzha8mfT"
      },
      "source": [
        "여러 데이터프레임을 엑셀 파일 하나에 저장할 수 있습니다. 먼저 데이터프레임을 두 개 만들겠습니다."
      ]
    },
    {
      "cell_type": "code",
      "metadata": {
        "id": "Je2edWx58mJw"
      },
      "source": [
        "excel_data1 = {'name': ['Jerry', 'Riah', 'Paul'],\n",
        "            'algol': ['A', 'A+', 'B'],\n",
        "            'basic': ['C', 'B', 'B+'],\n",
        "            'c++': ['B+', 'C', 'C+']}\n",
        "\n",
        "excel_data2 = {'c0': [1, 2, 3],\n",
        "               'c1': [4, 5, 6],\n",
        "               'c2': [7, 8, 9],\n",
        "               'c3': [10, 11, 12],\n",
        "               'c4': [13, 14, 15]}\n",
        "\n",
        "df1_excel = pd.DataFrame(excel_data1)\n",
        "df1_excel.set_index('name', inplace=True)\n",
        "\n",
        "df2_excel = pd.DataFrame(excel_data2)\n",
        "df2_excel.set_index('c0', inplace=True)"
      ],
      "execution_count": 19,
      "outputs": []
    },
    {
      "cell_type": "markdown",
      "metadata": {
        "id": "vnGu1PltFxwA"
      },
      "source": [
        "두 데이터프레임을 두 시트에 각각 저장하겠습니다."
      ]
    },
    {
      "cell_type": "code",
      "metadata": {
        "id": "JAoMxUxpF6_q"
      },
      "source": [
        "test_excelwriter = pd.ExcelWriter('/content/gdrive/MyDrive/Python_for_Data_Analytics_Science/excelwriter.xlsx')\n",
        "df1_excel.to_excel(test_excelwriter, sheet_name='sheet1')\n",
        "df2_excel.to_excel(test_excelwriter, sheet_name='sheet2')\n",
        "test_excelwriter.save()"
      ],
      "execution_count": 20,
      "outputs": []
    },
    {
      "cell_type": "markdown",
      "metadata": {
        "id": "_99MA_MCXFm-"
      },
      "source": [
        "### **1.2.3. 파일 통합하기**"
      ]
    },
    {
      "cell_type": "markdown",
      "metadata": {
        "id": "wEX4IVO9XKJ1"
      },
      "source": [
        "엑셀 파일의 개수가 적으면 엑셀 파일을 수작업으로 통합하기 수월하지만 개수가 많으면 쉽지 않습니다. 파이썬을 사용하면 파일 개수가 많더라도 손쉽게 통합할 수 있습니다. 아래는 데이터를 효율적으로 처리하기 위해 데이터를 생성할 때 신경써야 할 몇 가지 요소입니다. 엑셀을 포함하여 다른 모든 형식의 데이터 파일에도 적용됩니다. \n",
        "\n",
        "- 열 머리글(header)은 한 줄로 만듭니다.\n",
        "\n",
        "- 열 머릿글과 데이터 입력 부분에 셀을 병합하지 않습니다.\n",
        "\n",
        "- 셀 하나에 숫자와 단위를 함께 쓰지 않습니다.\n",
        "\n",
        "- 열 하나에 입력한 데이터 형식은 모두 같아야 합니다.\n",
        "\n",
        "- 데이터를 여러 시트로 나누지 않고 최대한 한 시트에 넣습니다."
      ]
    },
    {
      "cell_type": "markdown",
      "metadata": {
        "id": "XwBcjxSnbRTA"
      },
      "source": [
        "아래 예시를 통해 파일을 통합하는 과정을 살피겠습니다. 먼저 임의로 생성한 파일을 리스트로 묶고 객체로 넘깁니다."
      ]
    },
    {
      "cell_type": "code",
      "metadata": {
        "id": "mP8KdCrWbNNb"
      },
      "source": [
        "ex_f = ['/content/gdrive/MyDrive/Python_for_Data_Analytics_Science/수확량_김의종.xlsx',\n",
        "        '/content/gdrive/MyDrive/Python_for_Data_Analytics_Science/수확량_유지민.xlsx',\n",
        "        '/content/gdrive/MyDrive/Python_for_Data_Analytics_Science/수확량_이승원.xlsx']"
      ],
      "execution_count": 21,
      "outputs": []
    },
    {
      "cell_type": "markdown",
      "metadata": {
        "id": "jNeYbv-qvvMH"
      },
      "source": [
        "빈 데이터프레임 객체를 생성하고, `excel_files` 객체의 엑셀 파일을 하나씩 꺼내서 엑셀로 읽습니다. 그리고 빈 데이터프레임에 `append()` 메서드로 엑셀 파일을 하나씩 추가합니다."
      ]
    },
    {
      "cell_type": "code",
      "metadata": {
        "colab": {
          "base_uri": "https://localhost:8080/",
          "height": 328
        },
        "id": "rcfjurJYupLq",
        "outputId": "caf0623d-0524-46ef-e516-1536a035ce91"
      },
      "source": [
        "df_all_ex_f = pd.DataFrame()\n",
        "\n",
        "for i in ex_f:\n",
        "    df_ex_f = pd.read_excel(i)\n",
        "    df_all_ex_f = df_all_ex_f.append(df_ex_f)\n",
        "\n",
        "df_all_ex_f"
      ],
      "execution_count": 22,
      "outputs": [
        {
          "output_type": "execute_result",
          "data": {
            "text/html": [
              "<div>\n",
              "<style scoped>\n",
              "    .dataframe tbody tr th:only-of-type {\n",
              "        vertical-align: middle;\n",
              "    }\n",
              "\n",
              "    .dataframe tbody tr th {\n",
              "        vertical-align: top;\n",
              "    }\n",
              "\n",
              "    .dataframe thead th {\n",
              "        text-align: right;\n",
              "    }\n",
              "</style>\n",
              "<table border=\"1\" class=\"dataframe\">\n",
              "  <thead>\n",
              "    <tr style=\"text-align: right;\">\n",
              "      <th></th>\n",
              "      <th>과일명</th>\n",
              "      <th>재배인</th>\n",
              "      <th>품질</th>\n",
              "      <th>18년</th>\n",
              "      <th>19년</th>\n",
              "      <th>20년</th>\n",
              "    </tr>\n",
              "  </thead>\n",
              "  <tbody>\n",
              "    <tr>\n",
              "      <th>0</th>\n",
              "      <td>사과</td>\n",
              "      <td>김의종</td>\n",
              "      <td>중</td>\n",
              "      <td>87</td>\n",
              "      <td>52</td>\n",
              "      <td>24</td>\n",
              "    </tr>\n",
              "    <tr>\n",
              "      <th>1</th>\n",
              "      <td>딸기</td>\n",
              "      <td>김의종</td>\n",
              "      <td>상</td>\n",
              "      <td>73</td>\n",
              "      <td>16</td>\n",
              "      <td>51</td>\n",
              "    </tr>\n",
              "    <tr>\n",
              "      <th>2</th>\n",
              "      <td>포도</td>\n",
              "      <td>김의종</td>\n",
              "      <td>상</td>\n",
              "      <td>43</td>\n",
              "      <td>78</td>\n",
              "      <td>56</td>\n",
              "    </tr>\n",
              "    <tr>\n",
              "      <th>0</th>\n",
              "      <td>사과</td>\n",
              "      <td>유지민</td>\n",
              "      <td>하</td>\n",
              "      <td>62</td>\n",
              "      <td>32</td>\n",
              "      <td>23</td>\n",
              "    </tr>\n",
              "    <tr>\n",
              "      <th>1</th>\n",
              "      <td>딸기</td>\n",
              "      <td>유지민</td>\n",
              "      <td>중</td>\n",
              "      <td>6</td>\n",
              "      <td>54</td>\n",
              "      <td>61</td>\n",
              "    </tr>\n",
              "    <tr>\n",
              "      <th>2</th>\n",
              "      <td>포도</td>\n",
              "      <td>유지민</td>\n",
              "      <td>상</td>\n",
              "      <td>85</td>\n",
              "      <td>8</td>\n",
              "      <td>90</td>\n",
              "    </tr>\n",
              "    <tr>\n",
              "      <th>0</th>\n",
              "      <td>사과</td>\n",
              "      <td>이승원</td>\n",
              "      <td>상</td>\n",
              "      <td>15</td>\n",
              "      <td>83</td>\n",
              "      <td>52</td>\n",
              "    </tr>\n",
              "    <tr>\n",
              "      <th>1</th>\n",
              "      <td>딸기</td>\n",
              "      <td>이승원</td>\n",
              "      <td>중</td>\n",
              "      <td>62</td>\n",
              "      <td>31</td>\n",
              "      <td>74</td>\n",
              "    </tr>\n",
              "    <tr>\n",
              "      <th>2</th>\n",
              "      <td>포도</td>\n",
              "      <td>이승원</td>\n",
              "      <td>상</td>\n",
              "      <td>34</td>\n",
              "      <td>78</td>\n",
              "      <td>83</td>\n",
              "    </tr>\n",
              "  </tbody>\n",
              "</table>\n",
              "</div>"
            ],
            "text/plain": [
              "  과일명  재배인 품질  18년  19년  20년\n",
              "0  사과  김의종  중   87   52   24\n",
              "1  딸기  김의종  상   73   16   51\n",
              "2  포도  김의종  상   43   78   56\n",
              "0  사과  유지민  하   62   32   23\n",
              "1  딸기  유지민  중    6   54   61\n",
              "2  포도  유지민  상   85    8   90\n",
              "0  사과  이승원  상   15   83   52\n",
              "1  딸기  이승원  중   62   31   74\n",
              "2  포도  이승원  상   34   78   83"
            ]
          },
          "metadata": {},
          "execution_count": 22
        }
      ]
    },
    {
      "cell_type": "markdown",
      "metadata": {
        "id": "yXFXd21ROAdH"
      },
      "source": [
        "인덱스가 오름차순으로 부여되지 않았습니다. 매개변수를 `ignore_index=True`로 지정하겠습니다."
      ]
    },
    {
      "cell_type": "code",
      "metadata": {
        "colab": {
          "base_uri": "https://localhost:8080/",
          "height": 328
        },
        "id": "xcZs_7jvOS10",
        "outputId": "dd1c83ee-cf60-4d56-dfd9-56c864b9a9db"
      },
      "source": [
        "df_all_ex_f = pd.DataFrame()\n",
        "\n",
        "for i in ex_f:\n",
        "    df_ex_f = pd.read_excel(i)\n",
        "    df_all_ex_f = df_all_ex_f.append(df_ex_f, ignore_index=True)\n",
        "\n",
        "df_all_ex_f"
      ],
      "execution_count": 23,
      "outputs": [
        {
          "output_type": "execute_result",
          "data": {
            "text/html": [
              "<div>\n",
              "<style scoped>\n",
              "    .dataframe tbody tr th:only-of-type {\n",
              "        vertical-align: middle;\n",
              "    }\n",
              "\n",
              "    .dataframe tbody tr th {\n",
              "        vertical-align: top;\n",
              "    }\n",
              "\n",
              "    .dataframe thead th {\n",
              "        text-align: right;\n",
              "    }\n",
              "</style>\n",
              "<table border=\"1\" class=\"dataframe\">\n",
              "  <thead>\n",
              "    <tr style=\"text-align: right;\">\n",
              "      <th></th>\n",
              "      <th>과일명</th>\n",
              "      <th>재배인</th>\n",
              "      <th>품질</th>\n",
              "      <th>18년</th>\n",
              "      <th>19년</th>\n",
              "      <th>20년</th>\n",
              "    </tr>\n",
              "  </thead>\n",
              "  <tbody>\n",
              "    <tr>\n",
              "      <th>0</th>\n",
              "      <td>사과</td>\n",
              "      <td>김의종</td>\n",
              "      <td>중</td>\n",
              "      <td>87</td>\n",
              "      <td>52</td>\n",
              "      <td>24</td>\n",
              "    </tr>\n",
              "    <tr>\n",
              "      <th>1</th>\n",
              "      <td>딸기</td>\n",
              "      <td>김의종</td>\n",
              "      <td>상</td>\n",
              "      <td>73</td>\n",
              "      <td>16</td>\n",
              "      <td>51</td>\n",
              "    </tr>\n",
              "    <tr>\n",
              "      <th>2</th>\n",
              "      <td>포도</td>\n",
              "      <td>김의종</td>\n",
              "      <td>상</td>\n",
              "      <td>43</td>\n",
              "      <td>78</td>\n",
              "      <td>56</td>\n",
              "    </tr>\n",
              "    <tr>\n",
              "      <th>3</th>\n",
              "      <td>사과</td>\n",
              "      <td>유지민</td>\n",
              "      <td>하</td>\n",
              "      <td>62</td>\n",
              "      <td>32</td>\n",
              "      <td>23</td>\n",
              "    </tr>\n",
              "    <tr>\n",
              "      <th>4</th>\n",
              "      <td>딸기</td>\n",
              "      <td>유지민</td>\n",
              "      <td>중</td>\n",
              "      <td>6</td>\n",
              "      <td>54</td>\n",
              "      <td>61</td>\n",
              "    </tr>\n",
              "    <tr>\n",
              "      <th>5</th>\n",
              "      <td>포도</td>\n",
              "      <td>유지민</td>\n",
              "      <td>상</td>\n",
              "      <td>85</td>\n",
              "      <td>8</td>\n",
              "      <td>90</td>\n",
              "    </tr>\n",
              "    <tr>\n",
              "      <th>6</th>\n",
              "      <td>사과</td>\n",
              "      <td>이승원</td>\n",
              "      <td>상</td>\n",
              "      <td>15</td>\n",
              "      <td>83</td>\n",
              "      <td>52</td>\n",
              "    </tr>\n",
              "    <tr>\n",
              "      <th>7</th>\n",
              "      <td>딸기</td>\n",
              "      <td>이승원</td>\n",
              "      <td>중</td>\n",
              "      <td>62</td>\n",
              "      <td>31</td>\n",
              "      <td>74</td>\n",
              "    </tr>\n",
              "    <tr>\n",
              "      <th>8</th>\n",
              "      <td>포도</td>\n",
              "      <td>이승원</td>\n",
              "      <td>상</td>\n",
              "      <td>34</td>\n",
              "      <td>78</td>\n",
              "      <td>83</td>\n",
              "    </tr>\n",
              "  </tbody>\n",
              "</table>\n",
              "</div>"
            ],
            "text/plain": [
              "  과일명  재배인 품질  18년  19년  20년\n",
              "0  사과  김의종  중   87   52   24\n",
              "1  딸기  김의종  상   73   16   51\n",
              "2  포도  김의종  상   43   78   56\n",
              "3  사과  유지민  하   62   32   23\n",
              "4  딸기  유지민  중    6   54   61\n",
              "5  포도  유지민  상   85    8   90\n",
              "6  사과  이승원  상   15   83   52\n",
              "7  딸기  이승원  중   62   31   74\n",
              "8  포도  이승원  상   34   78   83"
            ]
          },
          "metadata": {},
          "execution_count": 23
        }
      ]
    },
    {
      "cell_type": "markdown",
      "metadata": {
        "id": "Gw1PtS7Oq_ux"
      },
      "source": [
        "해당 파일은 3개뿐이므로 개별적으로 입력하기 쉽지만 파일 수가 많으면 간단치 않습니다. 여러 파일의 이름을 위 파일들의 이름처럼 같은 형식으로 통일하고(이름만 다르게 하고) 한꺼번에 여러 파일을 가져오려면 `glob` 모듈을 활용합니다. `glob` 모듈은 `*`과 `?`를 사용하여 문자열을 긁어옵니다. `*`은 길이와 무관하게 모든 문자열을 의미하고, `?`는 한 글자로 된 모든 문자열을 의미합니다.\n",
        "\n",
        "아래는 이 모듈에 대한 예시입니다. "
      ]
    },
    {
      "cell_type": "code",
      "metadata": {
        "colab": {
          "base_uri": "https://localhost:8080/"
        },
        "id": "1rdz3i8BrxNL",
        "outputId": "391d557b-c0e6-47fe-9b41-3ed5e3b03441"
      },
      "source": [
        "import glob\n",
        "\n",
        "# `glob` 모듈의 `glob` 클래스를 부릅니다.\n",
        "# 주소는 그대로 나열하고 '*'를 사용하여 모든 문자열을 가져옵니다.\n",
        "glob.glob('/content/gdrive/MyDrive/Python_for_Data_Analytics_Science/수확량_*.xlsx')"
      ],
      "execution_count": 24,
      "outputs": [
        {
          "output_type": "execute_result",
          "data": {
            "text/plain": [
              "['/content/gdrive/MyDrive/Python_for_Data_Analytics_Science/수확량_이승원.xlsx',\n",
              " '/content/gdrive/MyDrive/Python_for_Data_Analytics_Science/수확량_유지민.xlsx',\n",
              " '/content/gdrive/MyDrive/Python_for_Data_Analytics_Science/수확량_김의종.xlsx']"
            ]
          },
          "metadata": {},
          "execution_count": 24
        }
      ]
    },
    {
      "cell_type": "markdown",
      "metadata": {
        "id": "A3HFegSdv4bT"
      },
      "source": [
        "### **추가. 정규 표현식**"
      ]
    },
    {
      "cell_type": "markdown",
      "metadata": {
        "id": "Sls4dEjgt8Xq"
      },
      "source": [
        "만약 파일명이 통일되지 않았거나 파일 수가 많아서 모든 파일명을 통일하기 어렵다면 [`re`](https://docs.python.org/3/howto/regex.html) 모듈로 정규 표현식을 활용할 수 있습니다. 정규 표현식은 매우 중요한 개념이므로 추가 파트를 만들었습니다.\n",
        "\n",
        "정규 표현식이란 규칙을 지닌 문자열 집합을 표현하는 데 사용하는 형식 언어이며, 문자열 검색과 치환 용도로 활용됩니다.\n",
        "\n",
        "정규 표현식에 사용하는 기호를 [메타문자](https://naudhizb.tistory.com/857)라고 부릅니다. POSIX의 정규 표현식과 POSIX 정규 표현식에서 확장된 Perl 방식의 PCRE가 대표적인 정규 표현식입니다. 이외에도 여러 정규 표현식이 있고 차이점도 존재하지만 대체적으로 비슷한 형식입니다.\n",
        "\n",
        "아래는 몇 가지 정규 표현식 방법입니다. 먼저 [메타문자 예시](https://codetorial.net/python/regular_expression/regex_metacharacters.html)를 살펴보는 편이 좋습니다. 아래 예시는 `findall()` 메서드에 기반합니다.\n",
        "\n",
        "- `\\`: 앞에 오는 문자를 특수 문자, 리터럴, 역참조, 8진수 이스케이프로 표현합니다.\n",
        "  - `\\\\`: **\\**\n",
        "  - `\\}`: **}**\n",
        "\n",
        "- `^x`: x의 시작 부분에서 위치를 찾습니다.\n",
        "  - `^ab`: **a**bcde\n",
        "\n",
        "- `x$`: x의 끝 부분에서 위치를 찾습니다.\n",
        "  - `e$`: cak**e**\n",
        "\n",
        "- `x{n}`: x를 n번만큼 반복합니다. `{n,}`는 n번 이상 반복합니다.\n",
        "  - `ca{3}n`: **caaan**\n",
        "\n",
        "- `x{n, m}`: x를 n과 m 사이만큼 반복합니다.\n",
        "  - `ca{2, 3}n`: **caan**, **caaan**\n",
        "\n",
        "- `x*` == `x{0,}`: x를 0개 이상 찾습니다.\n",
        "  - `ab*`: **ab**, **aaabb**, **abbb**\n",
        "  - `ab*c`: **abc**, **ac**, **aabbbc**\n",
        "\n",
        "- `x+` == `x{1,}`: x를 1개 이상 찾습니다.\n",
        "  - `Le+`: **Le**, **Lee**, **Leee**\n",
        "\n",
        "- `x?` == `x{0, 1}`: x를 0개나 1개만큼 찾습니다.\n",
        "  - `ca?n`: **can**, **cn**\n",
        "\n",
        "- `.`: 줄바꿈 문자를 제외한 모든 문자입니다.\n",
        "  - `.n`: **an** egg, **in** a box\n",
        "  - `.*`: 아무 문자도 없거나 임의의 문자가 1회 이상 반복되는 문자열을 찾습니다.\n",
        "  - `^ab.*`: ab로 시작(`^`)하는 모든 문자열을 찾습니다.\n",
        "  - `.+`: 모든 문자열을 찾습니다.\n",
        "  - `r.*e`: r로 시작하고 e로 끝나는 임의의 문자열을 찾습니다.\n",
        "  - `ab.`: ab로 시작하는 모든 세 문자를 찾습니다.\n",
        "\n",
        "- `(x)`: x를 체크하고, 체크한 값을 변수로 저장합니다.\n",
        "  - `(b..)(a..)`: **box**, **ace**\n",
        "\n",
        "- `(?:x)`: x를 체크하고, 체크한 값을 변수로 저장하지 않습니다.\n",
        "  - `(?:b..)(a..)`: **ace**\n",
        "\n",
        "- `x(?=y)`: x와 일치한 y의 시작 위치에서 검색할 문자열을 찾습니다.\n",
        "  - `amazing(?=grace|star)`: **amazinggrace**, **amazingstar**\n",
        "\n",
        "- `x(?!y)`: x와 불일치한 y의 시작 위치에서 검색할 문자열을 찾습니다.\n",
        "  - `amazing(?!star)`: **amazinggrace**, **amazing grace**\n",
        "\n",
        "- `[xyz]`: 문자 집합이나 괄호로 묶인 문자 중에 하나를 찾습니다.\n",
        "  - `[abcd]`: gr**ace**\n",
        "\n",
        "- `[^xyz]`: 음수 문자 집합, 괄호로 묶이지 않은 문자를 찾습니다.\n",
        "  - `[^a-z]`: **T**his is **S**parta.\n",
        "\n",
        "- `[x-y]`: x와 y 범위에서 문자를 찾습니다.\n",
        "  - `[a-i]`: T**his** **i**s Sp**a**rt**a**.\n",
        "\n",
        "- `[^x-y]`: 음의 문자 범위, x와 y 범위에 해당하지 않은 문자를 찾습니다.\n",
        "  - `[A-Z]`: T**his** **is** S**parta**.\n",
        "\n",
        "- `[^x|y]`: x와 y를 제외한 모든 문자를 찾습니다.\n",
        "\n",
        "- `[\\b]`: 백스페이스를 의미합니다.\n",
        "\n",
        "- `[-]`: '-'가 문자로 인식되려면 첫 번째나 마지막에 위치해야 합니다.\n",
        "\n",
        "- `[[]`: '['가 문자로 인식되려면 첫 번째나 '^' 다음에 위치해야 합니다.\n",
        "\n",
        "- `x|y`: x 또는 y를 찾습니다.\n",
        "  - `g|star`: **g**, **star**\n",
        "  - `(g|s)tar`: **gtar**, **star**\n",
        "\n",
        "- `x\\b`: 단어와 공백 사이의 문자 위치를 찾습니다.\n",
        "  - `ce\\b`: gra**ce**, kacet\n",
        "\n",
        "- `x\\B`: `\\b`가 아닌 모든 문자 위치를 찾습니다.\n",
        "  - `ce\\B`: grace, ka**ce**t\n",
        "\n",
        "- `\\cx`: 문자로 표시된 제어 문자를 찾습니다.\n",
        "  - `\\cM`: Control-M 또는 캐리지 리턴 문자\n",
        "\n",
        "- `\\A`: 문자열의 시작 위치를 찾습니다.\n",
        "\n",
        "- `\\z`: 문자열의 끝 위치를 찾습니다.\n",
        "\n",
        "- `\\d` == `[0-9]`: 숫자를 찾습니다.\n",
        "\n",
        "- `\\D` == `[^0-9]`: 숫자가 아닌 문자를 찾습니다.\n",
        "\n",
        "- `\\f` == `\\xOc`, `\\cL`: 용지 공급 문자를 찾습니다.\n",
        "\n",
        "- `\\n` == `\\xOc`, `\\cJ`: 줄 바꿈 문자를 찾습니다.\n",
        "\n",
        "- `\\r` == `xOd`, `\\cM`: 캐리지 리턴 문자를 찾습니다.\n",
        "\n",
        "- `\\s` == `[\\f\\n\\r\\t\\v]`: 공백, 탭, 용지 공급 등을 비롯한 모든 공백 문자를 찾습니다.\n",
        "\n",
        "- `\\S` == `[^\\f\\n\\r\\t\\v]`: `\\s`와 반대 개념으로 공백이 아닌 문자를 찾습니다.\n",
        "\n",
        "- `\\t` == `\\x09`, `\\cL`: 탭 문자를 찾습니다.\n",
        "\n",
        "- `\\v` == `x09`, `cK`: 세로 탭 문자를 찾습니다.\n",
        "\n",
        "- `\\w` == `[A-Za-z0-9_]`: 밑줄을 포함한 모든 문자를 찾습니다.\n",
        "\n",
        "- `\\W` = `[^A-Za-z0-9_]`: 비단어 문자를 찾습니다.\n",
        "\n",
        "- `\\0`: 널 문자를 찾습니다.\n",
        "\n",
        "- `\\xn`: 16진수 이스케이프 값인 n을 찾습니다. ASCII 코드가 정규식에 사용될 수 있습니다.\n",
        "  - `\\x41`: **A**\n",
        "  - `\\x041`: **\\x04 & 1**\n",
        "\n",
        "- `[:alnum]` == `[A-Za-z0-9]`: 알파벳과 숫자입니다.\n",
        "\n",
        "- `[:alpha:]` == `[A-Za-z]`: 알파벳입니다.\n",
        "\n",
        "- `[:black:]` == `[/t]`: 공백과 탭입니다.\n",
        "\n",
        "- `[:cntrl:]` == `[\\x00-\\x1F\\x7f]`: 컨트롤 문자를 의미합니다.\n",
        "\n",
        "- `[가-힣]`: 전체 한글입니다.\n",
        "\n",
        "플래그 종류는 아래와 같습니다.\n",
        "\n",
        "- `g`: 전체를 검색합니다.\n",
        "\n",
        "- `i`: 대소문자를 무시합니다.\n",
        "\n",
        "- `m`: 전체 줄을 검색합니다.\n",
        "\n",
        "- `s`: 전체 줄을 한 줄처럼 일치할 때까지 검색합니다.\n",
        "\n",
        "- `y`: 현재 위치부터 검색합니다."
      ]
    },
    {
      "cell_type": "markdown",
      "metadata": {
        "id": "1FUnwY9XYDxv"
      },
      "source": [
        "정규 표현식으로 파일을 찾는 방법을 설명하기 전에, 먼저 아래 문자열에서 문자열이나 특정 문자가 존재하는지 여부와 위치를 확인하는 방법을 예시하겠습니다."
      ]
    },
    {
      "cell_type": "code",
      "metadata": {
        "colab": {
          "base_uri": "https://localhost:8080/"
        },
        "id": "-ZOfvMl2xjBP",
        "outputId": "22b71677-c257-4f4d-9e7f-193a067cf9f9"
      },
      "source": [
        "'95' in 'bcvxas1q'"
      ],
      "execution_count": 25,
      "outputs": [
        {
          "output_type": "execute_result",
          "data": {
            "text/plain": [
              "False"
            ]
          },
          "metadata": {},
          "execution_count": 25
        }
      ]
    },
    {
      "cell_type": "code",
      "metadata": {
        "colab": {
          "base_uri": "https://localhost:8080/"
        },
        "id": "QLUPui31xxvt",
        "outputId": "0b9bb9cd-7a40-46c1-a460-9eff50a3be09"
      },
      "source": [
        "'95' in 'bcvxas1q956'"
      ],
      "execution_count": 26,
      "outputs": [
        {
          "output_type": "execute_result",
          "data": {
            "text/plain": [
              "True"
            ]
          },
          "metadata": {},
          "execution_count": 26
        }
      ]
    },
    {
      "cell_type": "markdown",
      "metadata": {
        "id": "vdKTXHBN0r3A"
      },
      "source": [
        "`find()` 메서드와 `index()` 메서드는 매우 유사합니다. 처음 위치한 문자열을 찾습니다. `('찾는 문자열'[, 시작위치[, 끝위치]])` 형식입니다. 차이점은 아래와 같습니다.\n",
        "\n",
        "- `find()`\n",
        "\n",
        "  - 찾는 문자열이 없으면 `-1`을 출력합니다.\n",
        "\n",
        "  - 문자열만 가능합니다. 리스트, 튜플, 딕셔너리와 사용할 수 없습니다. \n",
        "\n",
        "- `index()`\n",
        "\n",
        "  - 찾는 문자열이 없으면 `AttributeError`가 뜹니다.\n",
        "\n",
        "  - 문자열, 리스트, 튜플과 사용할 수 있습니다. 딕셔너리와는 사용할 수 없습니다. "
      ]
    },
    {
      "cell_type": "code",
      "metadata": {
        "colab": {
          "base_uri": "https://localhost:8080/"
        },
        "id": "EAIi6ErwyEfy",
        "outputId": "ab816922-4456-4f2d-e3e2-c8b09fc016db"
      },
      "source": [
        "str1 = 'sadg135asd'\n",
        "print(\"find('s'):\", str1.find('s'))\n",
        "print(\"find('asd'):\", str1.find('asd'))\n",
        "print(\"find('s', 3):\", str1.find('s', 3))\n",
        "print(\"find('c'):\", str1.find('c'))"
      ],
      "execution_count": 27,
      "outputs": [
        {
          "output_type": "stream",
          "name": "stdout",
          "text": [
            "find('s'): 0\n",
            "find('asd'): 7\n",
            "find('s', 3): 8\n",
            "find('c'): -1\n"
          ]
        }
      ]
    },
    {
      "cell_type": "code",
      "metadata": {
        "colab": {
          "base_uri": "https://localhost:8080/"
        },
        "id": "GaNX8v5D0MQZ",
        "outputId": "2fd48383-6554-44e6-8dd9-b917d8aca111"
      },
      "source": [
        "# `find()` 메서드와 동일한 결괏값입니다. 찾을 값이 없으면 애러가 납니다.\n",
        "print(str1.index('s'))\n",
        "print(str1.index('asd'))\n",
        "print(str1.index('s', 3))\n",
        "# print(str1.index('c'))"
      ],
      "execution_count": 28,
      "outputs": [
        {
          "output_type": "stream",
          "name": "stdout",
          "text": [
            "0\n",
            "7\n",
            "8\n"
          ]
        }
      ]
    },
    {
      "cell_type": "markdown",
      "metadata": {
        "id": "G94BkVWEFsPc"
      },
      "source": [
        "만약 정수만 찾는다면 위 형식으로는 불가능합니다. 여기서 정규 표현식을 활용하면 원하는 값을 찾을 수 있습니다. `findall()` 메서드는 `(패턴, 패턴을 적용할 대상)` 형식으로 인자를 지정해서 사용합니다. 패턴을 적용할 대상을 기준으로 패턴에 따른 값을 도출합니다. 해당 메서드는 [메타문자 예제](https://codetorial.net/python/regular_expression/regex_metacharacters.html)에 명쾌한 설명으로 예시되어 있습니다."
      ]
    },
    {
      "cell_type": "code",
      "metadata": {
        "colab": {
          "base_uri": "https://localhost:8080/"
        },
        "id": "37NR-NmwUjyl",
        "outputId": "f5922b89-56d3-47c7-a18e-fd11cc9b7fbd"
      },
      "source": [
        "import re\n",
        "\n",
        "# 정수를 찾되 문자열은 하나씩 찾습니다.\n",
        "print(re.findall('\\d', 'asdgnkj512f6hjk72'))\n",
        "# 정수를 찾되 문자열이 1개 이상 덩어리로 나열되게(`+`) 찾습니다.\n",
        "print(re.findall('\\d+', 'asdgnkj512f6hjk72'))"
      ],
      "execution_count": 29,
      "outputs": [
        {
          "output_type": "stream",
          "name": "stdout",
          "text": [
            "['5', '1', '2', '6', '7', '2']\n",
            "['512', '6', '72']\n"
          ]
        }
      ]
    },
    {
      "cell_type": "markdown",
      "metadata": {
        "id": "G0c6L_vhqQjb"
      },
      "source": [
        "이제 `re` 모듈이 가진 메서드들을 하나씩 살피겠습니다.\n",
        "\n",
        "먼저 `match(패턴, 문자열[, 플래그])` 메서드는 문자열 첫 부분부터 살펴서 패턴과 일치하는지 확인합니다."
      ]
    },
    {
      "cell_type": "code",
      "metadata": {
        "colab": {
          "base_uri": "https://localhost:8080/"
        },
        "id": "boKxEEHKqmEY",
        "outputId": "f7c5c5e8-a616-44de-97db-395ac0ff33d0"
      },
      "source": [
        "print(re.match('a', 'abc'))\n",
        "print(re.match('ab', 'abc'))\n",
        "print(re.match('abc', 'abc'))\n",
        "print(re.match('b', 'abc'))"
      ],
      "execution_count": 51,
      "outputs": [
        {
          "output_type": "stream",
          "name": "stdout",
          "text": [
            "<re.Match object; span=(0, 1), match='a'>\n",
            "<re.Match object; span=(0, 2), match='ab'>\n",
            "<re.Match object; span=(0, 3), match='abc'>\n",
            "None\n"
          ]
        }
      ]
    },
    {
      "cell_type": "markdown",
      "metadata": {
        "id": "w9zumsT3rq_h"
      },
      "source": [
        "첫 부분이 일치하지 않는 'b'는 `None`으로 출력됐습니다."
      ]
    },
    {
      "cell_type": "markdown",
      "metadata": {
        "id": "iDb3LYOMwvoU"
      },
      "source": [
        "`fullmatch(패턴, 문자열[, 플래그])` 메서드는 패턴이 문자열 전체와 정확하게 일치하는지 확인합니다."
      ]
    },
    {
      "cell_type": "code",
      "metadata": {
        "colab": {
          "base_uri": "https://localhost:8080/"
        },
        "id": "Ym6vhimvxBw1",
        "outputId": "90927feb-d3c2-4d97-f6a7-cceacd65ed76"
      },
      "source": [
        "print(re.fullmatch('aabbaabb', 'aabbaabb'))\n",
        "print(re.fullmatch('aabbaabb', 'aabbaabb123'))"
      ],
      "execution_count": 70,
      "outputs": [
        {
          "output_type": "stream",
          "name": "stdout",
          "text": [
            "<re.Match object; span=(0, 8), match='aabbaabb'>\n",
            "None\n"
          ]
        }
      ]
    },
    {
      "cell_type": "markdown",
      "metadata": {
        "id": "Bc2LGi6DtGDf"
      },
      "source": [
        "`search(패턴, 문자열[, 플래그])` 메서드는 `match()` 메서드와 달리 문자열의 첫 부분이 불일치해도 무관합니다. 전체 문자열 중에 하나만 일치해도 결괏값을 출력합니다. 정규식에 가장 많이 활용되는 메서드이기도 합니다. "
      ]
    },
    {
      "cell_type": "code",
      "metadata": {
        "colab": {
          "base_uri": "https://localhost:8080/"
        },
        "id": "SigK-yhCtXRE",
        "outputId": "ed77f6e3-6ae6-4cb6-85ef-8164f1f70d3c"
      },
      "source": [
        "print(re.search('b', 'abc'))"
      ],
      "execution_count": 52,
      "outputs": [
        {
          "output_type": "stream",
          "name": "stdout",
          "text": [
            "<re.Match object; span=(1, 2), match='b'>\n"
          ]
        }
      ]
    },
    {
      "cell_type": "markdown",
      "metadata": {
        "id": "QWGBFgBLtuiS"
      },
      "source": [
        "`findall(패턴, 문자열[, 플래그])` 메서드는 문자열에 맞는 패턴에 대한 결괏값을 리스트로 반환합니다. 위 [메타문자 예시](https://codetorial.net/python/regular_expression/regex_metacharacters.html)에서 이 메서드를 사용했습니다."
      ]
    },
    {
      "cell_type": "code",
      "metadata": {
        "colab": {
          "base_uri": "https://localhost:8080/"
        },
        "id": "lhVSjFm0uWgp",
        "outputId": "7249b122-2189-4039-d02e-9d11b4c0aedd"
      },
      "source": [
        "print(re.findall('a', 'ab'))\n",
        "print(re.findall('a', 'abaa'))\n",
        "print(re.findall('aa', 'aaaa'))\n",
        "print(re.findall('aa', 'aaaaa'))\n",
        "print(re.findall('\\d', 'asdg32fd6rg777ae'))\n",
        "print(re.findall('\\d+', 'asdg32fd6rg777ae'))\n",
        "print(re.findall('\\D+', 'asdg32fd6rg777ae'))"
      ],
      "execution_count": 62,
      "outputs": [
        {
          "output_type": "stream",
          "name": "stdout",
          "text": [
            "['a']\n",
            "['a', 'a', 'a']\n",
            "['aa', 'aa']\n",
            "['aa', 'aa']\n",
            "['3', '2', '6', '7', '7', '7']\n",
            "['32', '6', '777']\n",
            "['asdg', 'fd', 'rg', 'ae']\n"
          ]
        }
      ]
    },
    {
      "cell_type": "markdown",
      "metadata": {
        "id": "zD4z_pUKvC5r"
      },
      "source": [
        "`finditer(패턴, 문자열[, 플래그])` 메서드는 `findall()` 메서드와 달리 iterator 형식으로 출력합니다. `Match object`를 여러번 출력하므로 for문을 통해 출력값을 얻어야 합니다. 패턴과 일치하는 문자열의 위치를 파악하는 데 자주 쓰입니다."
      ]
    },
    {
      "cell_type": "code",
      "metadata": {
        "colab": {
          "base_uri": "https://localhost:8080/"
        },
        "id": "QJ9oTR-nvO2n",
        "outputId": "bc216b74-1c49-4ce8-f60e-159065e3b893"
      },
      "source": [
        "print(re.finditer('a', 'ababa'))"
      ],
      "execution_count": 65,
      "outputs": [
        {
          "output_type": "stream",
          "name": "stdout",
          "text": [
            "<callable_iterator object at 0x7fa2d2908a90>\n"
          ]
        }
      ]
    },
    {
      "cell_type": "code",
      "metadata": {
        "colab": {
          "base_uri": "https://localhost:8080/"
        },
        "id": "TWc2T7gpvgdl",
        "outputId": "fbb85971-8083-4f90-dc03-8118ead29860"
      },
      "source": [
        "test_fi = re.finditer('a', 'ababa')\n",
        "for i in test_fi:\n",
        "    print(i)"
      ],
      "execution_count": 66,
      "outputs": [
        {
          "output_type": "stream",
          "name": "stdout",
          "text": [
            "<re.Match object; span=(0, 1), match='a'>\n",
            "<re.Match object; span=(2, 3), match='a'>\n",
            "<re.Match object; span=(4, 5), match='a'>\n"
          ]
        }
      ]
    },
    {
      "cell_type": "markdown",
      "metadata": {
        "id": "KpClQZjd0Cux"
      },
      "source": [
        "`split(패턴, 문자열[, 쪼갤 횟수, 플래그])` 메서드는 패턴이 문자열과 일치하면 그 일치하는 부분부터 쪼개서(split) 리스트로 반환합니다. 패턴을 구분자로 간주한다고 생각하면 쉽습니다. 쪼갤 양(maxsplit)은 최대 몇 번까지 나눌 것인지 설정하는 매개변수입니다. 0 이면 모든 문자열을 나누고, 0보다 크면 그 횟수만큼만 나누고 남은 문자열은 그대로 반환됩니다."
      ]
    },
    {
      "cell_type": "code",
      "metadata": {
        "colab": {
          "base_uri": "https://localhost:8080/"
        },
        "id": "NitTbHrg1AkH",
        "outputId": "69e0d206-4606-41ef-dab6-f5741b585fdb"
      },
      "source": [
        "print(re.split('a', 'ababab'))"
      ],
      "execution_count": 119,
      "outputs": [
        {
          "output_type": "stream",
          "name": "stdout",
          "text": [
            "['', 'b', 'b', 'b']\n"
          ]
        }
      ]
    },
    {
      "cell_type": "markdown",
      "metadata": {
        "id": "m3GIFwaN_spQ"
      },
      "source": [
        "패턴 'a'를 구분자로 삼았습니다. 'ababab'에서 처음 문자는 패턴인 'a'입니다. 이 경우 출력되는 첫 값은 ''입니다. 처음 문자가 패턴이 아니면 공백값으로 출력되지 않습니다."
      ]
    },
    {
      "cell_type": "code",
      "metadata": {
        "colab": {
          "base_uri": "https://localhost:8080/"
        },
        "id": "jjfE-1dpAF5D",
        "outputId": "9cb7c570-2877-4294-fb33-ba21f5b2b81c"
      },
      "source": [
        "print(re.split('a', '1ababab'))"
      ],
      "execution_count": 120,
      "outputs": [
        {
          "output_type": "stream",
          "name": "stdout",
          "text": [
            "['1', 'b', 'b', 'b']\n"
          ]
        }
      ]
    },
    {
      "cell_type": "markdown",
      "metadata": {
        "id": "warro_WLAJh4"
      },
      "source": [
        "쪼갤 횟수를 설정하겠습니다. 구분자를 횟수만큼만 적용합니다. 횟수만큼 쪼개면 나머지 값은 그대로 출력됩니다."
      ]
    },
    {
      "cell_type": "code",
      "metadata": {
        "colab": {
          "base_uri": "https://localhost:8080/"
        },
        "id": "_xnw45Q3AQRb",
        "outputId": "75c7f63e-f2cd-4784-9036-5d0f26295a6b"
      },
      "source": [
        "print(re.split('a', '1ababab', 1))\n",
        "print(re.split('a', '1ababab', 2))\n",
        "print(re.split('a', '1ababab', 3))"
      ],
      "execution_count": 124,
      "outputs": [
        {
          "output_type": "stream",
          "name": "stdout",
          "text": [
            "['1', 'babab']\n",
            "['1', 'b', 'bab']\n",
            "['1', 'b', 'b', 'b']\n",
            "['1', 'b', 'b', 'b']\n"
          ]
        }
      ]
    },
    {
      "cell_type": "markdown",
      "metadata": {
        "id": "7IvvCuWjAkt6"
      },
      "source": [
        "`sub(패턴, 바꿀 문자열, 문자열[, 최대 교체 횟수, 플래그])` 메서드는 문자열에 대한 패턴을 바꿀 문자열로 교체합니다. "
      ]
    },
    {
      "cell_type": "code",
      "metadata": {
        "colab": {
          "base_uri": "https://localhost:8080/"
        },
        "id": "Y1lDmKa_CQ20",
        "outputId": "d86424a7-7e93-4450-d3bb-4dd2aca16296"
      },
      "source": [
        "print(re.sub('a', '77', 'abcdabcd'))\n",
        "print(re.sub('a', '77', 'abcdabcd', 1))"
      ],
      "execution_count": 129,
      "outputs": [
        {
          "output_type": "stream",
          "name": "stdout",
          "text": [
            "77bcd77bcd\n",
            "77bcdabcd\n"
          ]
        }
      ]
    },
    {
      "cell_type": "markdown",
      "metadata": {
        "id": "ProRFpWICxqJ"
      },
      "source": [
        "`subn(패턴, 바꿀 문자열, 문자열[, 최대 교체 횟수, 플래그])` 메서드는 `sub()` 메서드와 거의 같습니다. 다만 매칭 횟수가 함께 출력됩니다."
      ]
    },
    {
      "cell_type": "code",
      "metadata": {
        "colab": {
          "base_uri": "https://localhost:8080/"
        },
        "id": "52VtdxTTDzvw",
        "outputId": "5e83aa07-a3b3-4a15-a9aa-d167a5527deb"
      },
      "source": [
        "print(re.subn('a', '77', 'abcdabcd'))"
      ],
      "execution_count": 131,
      "outputs": [
        {
          "output_type": "stream",
          "name": "stdout",
          "text": [
            "('77bcd77bcd', 2)\n"
          ]
        }
      ]
    },
    {
      "cell_type": "markdown",
      "metadata": {
        "id": "tKWEkWMRD7TT"
      },
      "source": [
        "`compile(패턴[, 플래그])` 메서드는 패턴을 정규식 객체로 반환합니다. 정규식은 컴파일이라는 무거운 계산 과정을 거칩니다. 모듈에서 메서드를 계속 가져오면 컴파일 계산을 반복해야 합니다. 아울러 동일한 정규식 패턴을 반복문에서 사용하면 성능상 부담이 큽니다. 여기서 `compile()` 메서드는 유용하게 사용됩니다."
      ]
    },
    {
      "cell_type": "code",
      "metadata": {
        "colab": {
          "base_uri": "https://localhost:8080/"
        },
        "id": "58NxRbfLGSQB",
        "outputId": "b2aceb8a-21e4-4329-89b7-ed4dd2299cbf"
      },
      "source": [
        "a_com = re.compile('a')\n",
        "\n",
        "print(a_com.sub('77', 'abcdabcd'))\n",
        "print(a_com.split('babcdabcd'))"
      ],
      "execution_count": 139,
      "outputs": [
        {
          "output_type": "stream",
          "name": "stdout",
          "text": [
            "77bcd77bcd\n",
            "['b', 'bcd', 'bcd']\n"
          ]
        }
      ]
    },
    {
      "cell_type": "markdown",
      "metadata": {
        "id": "PvlJB0vTIbrp"
      },
      "source": [
        "`purge()` 메서드는 `compile()` 메서드로 생성한 객체가 저장된 캐시를 초기화(제거)합니다."
      ]
    },
    {
      "cell_type": "code",
      "metadata": {
        "id": "P-h9oStaImFk"
      },
      "source": [
        "re.purge()"
      ],
      "execution_count": 142,
      "outputs": []
    },
    {
      "cell_type": "markdown",
      "metadata": {
        "id": "3Tk7RnmQKGQj"
      },
      "source": [
        "`escape(패턴)` 메서드는 패턴에 특수문자가 있으면 백슬래시를 붙입니다."
      ]
    },
    {
      "cell_type": "code",
      "metadata": {
        "colab": {
          "base_uri": "https://localhost:8080/",
          "height": 35
        },
        "id": "TdiNRY3AKRNt",
        "outputId": "9f8427b5-841e-4472-8882-9d4710acb9ca"
      },
      "source": [
        "re.escape('() #$^*-+[]{}|?.')"
      ],
      "execution_count": 185,
      "outputs": [
        {
          "output_type": "execute_result",
          "data": {
            "application/vnd.google.colaboratory.intrinsic+json": {
              "type": "string"
            },
            "text/plain": [
              "'\\\\(\\\\)\\\\ \\\\#\\\\$\\\\^\\\\*\\\\-\\\\+\\\\[\\\\]\\\\{\\\\}\\\\|\\\\?\\\\.'"
            ]
          },
          "metadata": {},
          "execution_count": 185
        }
      ]
    },
    {
      "cell_type": "markdown",
      "metadata": {
        "id": "03sG4-6iNlnj"
      },
      "source": [
        "위에서 `Match object` 형식으로 출력되는 메서드들을 설명했습니다. 이 형식에서 원하는 정보만 가져올 수 있는 방법은 `Match object` 형식과 관련된 메서드를 적용하는 것입니다.\n",
        "\n",
        "먼저 `group()` 메서드입니다. 패턴에 일치하는 문자열을 추출합니다."
      ]
    },
    {
      "cell_type": "code",
      "metadata": {
        "colab": {
          "base_uri": "https://localhost:8080/",
          "height": 35
        },
        "id": "lekZK9iJOtVQ",
        "outputId": "1d3d5ccf-05e9-4b82-8ba6-0752d1457bd8"
      },
      "source": [
        "a_sch = re.match('a', 'abca')\n",
        "\n",
        "a_sch.group()"
      ],
      "execution_count": 209,
      "outputs": [
        {
          "output_type": "execute_result",
          "data": {
            "application/vnd.google.colaboratory.intrinsic+json": {
              "type": "string"
            },
            "text/plain": [
              "'a'"
            ]
          },
          "metadata": {},
          "execution_count": 209
        }
      ]
    },
    {
      "cell_type": "markdown",
      "metadata": {
        "id": "fJQJhQ0gPnoz"
      },
      "source": [
        "`start()` 메서드는 문자열에서 패턴이 일치하는 처음 위치를 반환합니다."
      ]
    },
    {
      "cell_type": "code",
      "metadata": {
        "colab": {
          "base_uri": "https://localhost:8080/"
        },
        "id": "EyqRUZIxPTpX",
        "outputId": "2cc0238c-7c32-4865-8de8-b96002e18848"
      },
      "source": [
        "a_sch.start()"
      ],
      "execution_count": 210,
      "outputs": [
        {
          "output_type": "execute_result",
          "data": {
            "text/plain": [
              "0"
            ]
          },
          "metadata": {},
          "execution_count": 210
        }
      ]
    },
    {
      "cell_type": "markdown",
      "metadata": {
        "id": "yNIcsT-kP0dB"
      },
      "source": [
        "`end()` 메서드는 문자열에서 패턴이 일치하는 마지막 위치를 반환합니다."
      ]
    },
    {
      "cell_type": "code",
      "metadata": {
        "colab": {
          "base_uri": "https://localhost:8080/"
        },
        "id": "QYGlLvoWPXAl",
        "outputId": "ca0401c5-c238-4be3-810e-3a7c1abe7447"
      },
      "source": [
        "a_sch.end()"
      ],
      "execution_count": 211,
      "outputs": [
        {
          "output_type": "execute_result",
          "data": {
            "text/plain": [
              "1"
            ]
          },
          "metadata": {},
          "execution_count": 211
        }
      ]
    },
    {
      "cell_type": "markdown",
      "metadata": {
        "id": "CnB4M5H9QY3x"
      },
      "source": [
        "`span()` 메서드는 범위입니다."
      ]
    },
    {
      "cell_type": "code",
      "metadata": {
        "colab": {
          "base_uri": "https://localhost:8080/"
        },
        "id": "KSdoCS02Pb_p",
        "outputId": "4f3919a7-b253-4f05-a8fd-0355594a761f"
      },
      "source": [
        "a_sch.span()"
      ],
      "execution_count": 212,
      "outputs": [
        {
          "output_type": "execute_result",
          "data": {
            "text/plain": [
              "(0, 1)"
            ]
          },
          "metadata": {},
          "execution_count": 212
        }
      ]
    },
    {
      "cell_type": "markdown",
      "metadata": {
        "id": "DBPi55gpskFN"
      },
      "source": [
        "## **1.3. JSON**"
      ]
    },
    {
      "cell_type": "markdown",
      "metadata": {
        "id": "FnlfaELeux_9"
      },
      "source": [
        "### **1.3.1. 파일 읽기**"
      ]
    },
    {
      "cell_type": "code",
      "metadata": {
        "colab": {
          "base_uri": "https://localhost:8080/",
          "height": 142
        },
        "id": "37tr2pUs7CLs",
        "outputId": "8f6d766d-bc2b-4e3c-edf3-c9ddacc7cec4"
      },
      "source": [
        "file_path = '/content/gdrive/MyDrive/Python_for_Data_Analytics_Science/5674-833_4th/part2/read_json_sample.json'\n",
        "df_json = pd.read_json(file_path)\n",
        "df_json"
      ],
      "execution_count": 31,
      "outputs": [
        {
          "output_type": "execute_result",
          "data": {
            "text/html": [
              "<div>\n",
              "<style scoped>\n",
              "    .dataframe tbody tr th:only-of-type {\n",
              "        vertical-align: middle;\n",
              "    }\n",
              "\n",
              "    .dataframe tbody tr th {\n",
              "        vertical-align: top;\n",
              "    }\n",
              "\n",
              "    .dataframe thead th {\n",
              "        text-align: right;\n",
              "    }\n",
              "</style>\n",
              "<table border=\"1\" class=\"dataframe\">\n",
              "  <thead>\n",
              "    <tr style=\"text-align: right;\">\n",
              "      <th></th>\n",
              "      <th>name</th>\n",
              "      <th>year</th>\n",
              "      <th>developer</th>\n",
              "      <th>opensource</th>\n",
              "    </tr>\n",
              "  </thead>\n",
              "  <tbody>\n",
              "    <tr>\n",
              "      <th>pandas</th>\n",
              "      <td></td>\n",
              "      <td>2008</td>\n",
              "      <td>Wes Mckinneye</td>\n",
              "      <td>True</td>\n",
              "    </tr>\n",
              "    <tr>\n",
              "      <th>NumPy</th>\n",
              "      <td></td>\n",
              "      <td>2006</td>\n",
              "      <td>Travis Oliphant</td>\n",
              "      <td>True</td>\n",
              "    </tr>\n",
              "    <tr>\n",
              "      <th>matplotlib</th>\n",
              "      <td></td>\n",
              "      <td>2003</td>\n",
              "      <td>John D. Hunter</td>\n",
              "      <td>True</td>\n",
              "    </tr>\n",
              "  </tbody>\n",
              "</table>\n",
              "</div>"
            ],
            "text/plain": [
              "           name  year        developer opensource\n",
              "pandas           2008    Wes Mckinneye       True\n",
              "NumPy            2006  Travis Oliphant       True\n",
              "matplotlib       2003   John D. Hunter       True"
            ]
          },
          "metadata": {},
          "execution_count": 31
        }
      ]
    },
    {
      "cell_type": "markdown",
      "metadata": {
        "id": "iKQIZe5uux9c"
      },
      "source": [
        "### **1.3.2. 파일 저장하기**"
      ]
    },
    {
      "cell_type": "code",
      "metadata": {
        "colab": {
          "base_uri": "https://localhost:8080/",
          "height": 142
        },
        "id": "P2st_yo37GCB",
        "outputId": "95c96b19-3980-4ea8-c103-905dfc82cacb"
      },
      "source": [
        "json_data = {'name': ['Jerry', 'Riah', 'Paul'],\n",
        "            'algol': ['A', 'A+', 'B'],\n",
        "            'basic': ['C', 'B', 'B+'],\n",
        "            'c++': ['B+', 'C', 'C+']}\n",
        "df_json = pd.DataFrame(json_data)\n",
        "df_json"
      ],
      "execution_count": 32,
      "outputs": [
        {
          "output_type": "execute_result",
          "data": {
            "text/html": [
              "<div>\n",
              "<style scoped>\n",
              "    .dataframe tbody tr th:only-of-type {\n",
              "        vertical-align: middle;\n",
              "    }\n",
              "\n",
              "    .dataframe tbody tr th {\n",
              "        vertical-align: top;\n",
              "    }\n",
              "\n",
              "    .dataframe thead th {\n",
              "        text-align: right;\n",
              "    }\n",
              "</style>\n",
              "<table border=\"1\" class=\"dataframe\">\n",
              "  <thead>\n",
              "    <tr style=\"text-align: right;\">\n",
              "      <th></th>\n",
              "      <th>name</th>\n",
              "      <th>algol</th>\n",
              "      <th>basic</th>\n",
              "      <th>c++</th>\n",
              "    </tr>\n",
              "  </thead>\n",
              "  <tbody>\n",
              "    <tr>\n",
              "      <th>0</th>\n",
              "      <td>Jerry</td>\n",
              "      <td>A</td>\n",
              "      <td>C</td>\n",
              "      <td>B+</td>\n",
              "    </tr>\n",
              "    <tr>\n",
              "      <th>1</th>\n",
              "      <td>Riah</td>\n",
              "      <td>A+</td>\n",
              "      <td>B</td>\n",
              "      <td>C</td>\n",
              "    </tr>\n",
              "    <tr>\n",
              "      <th>2</th>\n",
              "      <td>Paul</td>\n",
              "      <td>B</td>\n",
              "      <td>B+</td>\n",
              "      <td>C+</td>\n",
              "    </tr>\n",
              "  </tbody>\n",
              "</table>\n",
              "</div>"
            ],
            "text/plain": [
              "    name algol basic c++\n",
              "0  Jerry     A     C  B+\n",
              "1   Riah    A+     B   C\n",
              "2   Paul     B    B+  C+"
            ]
          },
          "metadata": {},
          "execution_count": 32
        }
      ]
    },
    {
      "cell_type": "code",
      "metadata": {
        "colab": {
          "base_uri": "https://localhost:8080/",
          "height": 173
        },
        "id": "tqN4ip0B7MAS",
        "outputId": "5920fadf-2a47-4c57-93d9-cea90e7ed1cf"
      },
      "source": [
        "df_json.set_index('name', inplace=True)\n",
        "df_json"
      ],
      "execution_count": 33,
      "outputs": [
        {
          "output_type": "execute_result",
          "data": {
            "text/html": [
              "<div>\n",
              "<style scoped>\n",
              "    .dataframe tbody tr th:only-of-type {\n",
              "        vertical-align: middle;\n",
              "    }\n",
              "\n",
              "    .dataframe tbody tr th {\n",
              "        vertical-align: top;\n",
              "    }\n",
              "\n",
              "    .dataframe thead th {\n",
              "        text-align: right;\n",
              "    }\n",
              "</style>\n",
              "<table border=\"1\" class=\"dataframe\">\n",
              "  <thead>\n",
              "    <tr style=\"text-align: right;\">\n",
              "      <th></th>\n",
              "      <th>algol</th>\n",
              "      <th>basic</th>\n",
              "      <th>c++</th>\n",
              "    </tr>\n",
              "    <tr>\n",
              "      <th>name</th>\n",
              "      <th></th>\n",
              "      <th></th>\n",
              "      <th></th>\n",
              "    </tr>\n",
              "  </thead>\n",
              "  <tbody>\n",
              "    <tr>\n",
              "      <th>Jerry</th>\n",
              "      <td>A</td>\n",
              "      <td>C</td>\n",
              "      <td>B+</td>\n",
              "    </tr>\n",
              "    <tr>\n",
              "      <th>Riah</th>\n",
              "      <td>A+</td>\n",
              "      <td>B</td>\n",
              "      <td>C</td>\n",
              "    </tr>\n",
              "    <tr>\n",
              "      <th>Paul</th>\n",
              "      <td>B</td>\n",
              "      <td>B+</td>\n",
              "      <td>C+</td>\n",
              "    </tr>\n",
              "  </tbody>\n",
              "</table>\n",
              "</div>"
            ],
            "text/plain": [
              "      algol basic c++\n",
              "name                 \n",
              "Jerry     A     C  B+\n",
              "Riah     A+     B   C\n",
              "Paul      B    B+  C+"
            ]
          },
          "metadata": {},
          "execution_count": 33
        }
      ]
    },
    {
      "cell_type": "code",
      "metadata": {
        "id": "H57JxJb07Ny9"
      },
      "source": [
        "df_json.to_json('/content/gdrive/MyDrive/Python_for_Data_Analytics_Science/to_json.json')"
      ],
      "execution_count": 34,
      "outputs": []
    },
    {
      "cell_type": "markdown",
      "metadata": {
        "id": "mrLu_hQVu8lA"
      },
      "source": [
        "## **1.4. 웹**"
      ]
    },
    {
      "cell_type": "markdown",
      "metadata": {
        "id": "LwIg6BhhskB1"
      },
      "source": [
        "### **1.4.1. 표 가져오기**"
      ]
    },
    {
      "cell_type": "markdown",
      "metadata": {
        "id": "khFwiF-yUhqI"
      },
      "source": [
        "`read_html()` 메서드는 HTML 웹 페이지의 `<table>` 태그에서 표 형식 데이터를 데이터프레임으로 변환합니다. 이 표 데이터를 파싱(parsing) 하려면 HTML 웹 페이지 주소를 따옴표 안에 입력합니다. 아래에서 예시하겠습니다."
      ]
    },
    {
      "cell_type": "code",
      "metadata": {
        "colab": {
          "base_uri": "https://localhost:8080/"
        },
        "id": "ig9EeOqPbaZ6",
        "outputId": "4431fd14-038c-426b-e062-a21e01939aae"
      },
      "source": [
        "url = '/content/gdrive/MyDrive/Python_for_Data_Analytics_Science/5674-833_4th/part2/sample.html'\n",
        "tables_html = pd.read_html(url)\n",
        "# `read_html()` 메서드로 데이터프레임을 출력하면\n",
        "# 여러 데이터프레임이 리스트에 담겨서 출력됩니다.\n",
        "tables_html"
      ],
      "execution_count": 35,
      "outputs": [
        {
          "output_type": "execute_result",
          "data": {
            "text/plain": [
              "[   Unnamed: 0  c0  c1  c2  c3\n",
              " 0           0   0   1   4   7\n",
              " 1           1   1   2   5   8\n",
              " 2           2   2   3   6   9,\n",
              "          name  year        developer  opensource\n",
              " 0       NumPy  2006  Travis Oliphant        True\n",
              " 1  matplotlib  2003   John D. Hunter        True\n",
              " 2      pandas  2008    Wes Mckinneye        True]"
            ]
          },
          "metadata": {},
          "execution_count": 35
        }
      ]
    },
    {
      "cell_type": "markdown",
      "metadata": {
        "id": "_Ik6nIEpcGrl"
      },
      "source": [
        "표 개수를 확인하겠습니다."
      ]
    },
    {
      "cell_type": "code",
      "metadata": {
        "colab": {
          "base_uri": "https://localhost:8080/"
        },
        "id": "zX6A9e8LcTIZ",
        "outputId": "06a03a5c-566b-4b7f-d5cf-fc0f0b5125b3"
      },
      "source": [
        "len(tables_html)"
      ],
      "execution_count": 36,
      "outputs": [
        {
          "output_type": "execute_result",
          "data": {
            "text/plain": [
              "2"
            ]
          },
          "metadata": {},
          "execution_count": 36
        }
      ]
    },
    {
      "cell_type": "markdown",
      "metadata": {
        "id": "O-unqV8ucWig"
      },
      "source": [
        "두 개의 표를 출력하겠습니다."
      ]
    },
    {
      "cell_type": "code",
      "metadata": {
        "colab": {
          "base_uri": "https://localhost:8080/"
        },
        "id": "z8x9V8t6cjkx",
        "outputId": "3d187803-d076-475c-e18d-ba0a7295280b"
      },
      "source": [
        "print(tables_html[0])\n",
        "print()\n",
        "print(tables_html[1])"
      ],
      "execution_count": 37,
      "outputs": [
        {
          "output_type": "stream",
          "name": "stdout",
          "text": [
            "   Unnamed: 0  c0  c1  c2  c3\n",
            "0           0   0   1   4   7\n",
            "1           1   1   2   5   8\n",
            "2           2   2   3   6   9\n",
            "\n",
            "         name  year        developer  opensource\n",
            "0       NumPy  2006  Travis Oliphant        True\n",
            "1  matplotlib  2003   John D. Hunter        True\n",
            "2      pandas  2008    Wes Mckinneye        True\n"
          ]
        }
      ]
    },
    {
      "cell_type": "markdown",
      "metadata": {
        "id": "R0LX_1Yactgs"
      },
      "source": [
        "이번에는 두 개의 표를 반복(iteration)하면서 출력하겠습니다."
      ]
    },
    {
      "cell_type": "code",
      "metadata": {
        "colab": {
          "base_uri": "https://localhost:8080/"
        },
        "id": "iuik4KordjbU",
        "outputId": "2e96cff8-c5b1-4b39-cb65-08ce76c06fd2"
      },
      "source": [
        "for i in range(len(tables_html)):\n",
        "    print(f'{i+1}번째 데이터프레임')\n",
        "    print(tables_html[i])\n",
        "    print()"
      ],
      "execution_count": 38,
      "outputs": [
        {
          "output_type": "stream",
          "name": "stdout",
          "text": [
            "1번째 데이터프레임\n",
            "   Unnamed: 0  c0  c1  c2  c3\n",
            "0           0   0   1   4   7\n",
            "1           1   1   2   5   8\n",
            "2           2   2   3   6   9\n",
            "\n",
            "2번째 데이터프레임\n",
            "         name  year        developer  opensource\n",
            "0       NumPy  2006  Travis Oliphant        True\n",
            "1  matplotlib  2003   John D. Hunter        True\n",
            "2      pandas  2008    Wes Mckinneye        True\n",
            "\n"
          ]
        }
      ]
    },
    {
      "cell_type": "markdown",
      "metadata": {
        "id": "kp-DGf3UeFa3"
      },
      "source": [
        "이제 2번째 데이터프레임에 행 인덱스를 'name' 열로 지정하겠습니다."
      ]
    },
    {
      "cell_type": "code",
      "metadata": {
        "colab": {
          "base_uri": "https://localhost:8080/"
        },
        "id": "ToxpkGRneNA0",
        "outputId": "bc2467da-6874-4504-f62c-3f90e2c9ff5c"
      },
      "source": [
        "df_html = tables_html[1]\n",
        "df_html.set_index(['name'], inplace=True)\n",
        "print(df_html)"
      ],
      "execution_count": 39,
      "outputs": [
        {
          "output_type": "stream",
          "name": "stdout",
          "text": [
            "            year        developer  opensource\n",
            "name                                         \n",
            "NumPy       2006  Travis Oliphant        True\n",
            "matplotlib  2003   John D. Hunter        True\n",
            "pandas      2008    Wes Mckinneye        True\n"
          ]
        }
      ]
    },
    {
      "cell_type": "markdown",
      "metadata": {
        "id": "HZ4L30pptHMu"
      },
      "source": [
        "### **1.4.2. 웹 스크래핑 하기**"
      ]
    },
    {
      "cell_type": "markdown",
      "metadata": {
        "id": "xMWttZcungvd"
      },
      "source": [
        "`BeautifulSoup`와 같은 웹 스크래핑 도구로 수집한 데이터를 데이터프레임으로 정리할 수 있습니다. 스크래핑한 내용을 리스트, 딕셔너리 등으로 정리하고 `DataFrame()` 메서드에 전달하면 데이터프레임으로 변환됩니다(설명 보강 예정입니다)."
      ]
    },
    {
      "cell_type": "code",
      "metadata": {
        "id": "n95uwwA-liGA"
      },
      "source": [
        "from bs4 import BeautifulSoup\n",
        "import requests\n",
        "import re"
      ],
      "execution_count": 40,
      "outputs": []
    },
    {
      "cell_type": "code",
      "metadata": {
        "id": "gvONpCHymJ0i"
      },
      "source": [
        "url = 'https://en.wikipedia.org/wiki/List_of_American_exchange-traded_funds'\n",
        "resp = requests.get(url)\n",
        "soup = BeautifulSoup(resp.text, 'lxml')\n",
        "rows = soup.select('div > ul > li')"
      ],
      "execution_count": 41,
      "outputs": []
    },
    {
      "cell_type": "code",
      "metadata": {
        "colab": {
          "base_uri": "https://localhost:8080/",
          "height": 315
        },
        "id": "nd16kh6upu49",
        "outputId": "ccda8a18-15db-4f54-837a-04309c3d859f"
      },
      "source": [
        "# 딕셔너리에 정리하기 위해 빈 딕셔너리를 만듭니다.\n",
        "etfs = {}\n",
        "for row in rows:\n",
        "\n",
        "    try:\n",
        "        etf_name = re.findall('^(.*) \\(NYSE', row.text)\n",
        "        etf_market = re.findall('\\((.*)\\|', row.text)\n",
        "        etf_ticker = re.findall('NYSE Arca\\|(.*)\\)', row.text)\n",
        "\n",
        "        if (len(etf_ticker) > 0) & (len(etf_market) > 0) & (len(etf_name) > 0):\n",
        "            etfs[etf_ticker[0]] = [etf_market[0], etf_name[0]]\n",
        "\n",
        "    except AttributeError as err:\n",
        "        pass\n",
        "\n",
        "print(etfs)\n",
        "print()\n",
        "\n",
        "df_etfs = pd.DataFrame(etfs)\n",
        "df_etfs"
      ],
      "execution_count": 42,
      "outputs": [
        {
          "output_type": "stream",
          "name": "stdout",
          "text": [
            "{'DIA': ['NYSE Arca', 'DIAMONDS Trust, Series 1'], 'RSP': ['NYSE Arca', 'Guggenheim S&P 500 Equal Weight'], 'IOO': ['NYSE Arca', 'iShares S&P Global 100 Index'], 'IVV': ['NYSE Arca', 'iShares S&P 500 Index'], 'SPY': ['NYSE Arca', 'SPDR S&P 500'], 'VOO': ['NYSE Arca', 'Vanguard S&P 500'], 'IWM': ['NYSE Arca', 'iShares Russell 2000 Index'], 'OEF': ['NYSE Arca', 'iShares S&P 100 Index'], 'CVY': ['NYSE Arca', 'Guggenheim Multi-Asset Income'], 'RPG': ['NYSE Arca', 'Guggenheim S&P 500 Pure Growth ETF'], 'RPV': ['NYSE Arca', 'Guggenheim S&P 500 Pure Value ETF'], 'IWB': ['NYSE Arca', 'iShares Russell 1000 Index'], 'PKW': ['NYSE Arca', 'PowerShares Buyback Achievers'], 'PRF': ['NYSE Arca', 'PowerShares FTSE RAFI US 1000'], 'SPLV': ['NYSE Arca', 'PowerShares S&P 500 Low Volatility'], 'SCHX': ['NYSE Arca', 'Schwab US Large-Cap ETF'], 'SCHD': ['NYSE Arca', 'Schwab US Dividend Equity ETF'], 'FNDX': ['NYSE Arca', 'Schwab Fundamental U.S. Large Company Index ETF'], 'SDY': ['NYSE Arca', 'SPDR S&P Dividend ETF'], 'VV': ['NYSE Arca', 'Vanguard Large-Cap'], 'MGC': ['NYSE Arca', 'Vanguard Mega-Cap 300'], 'VONE': ['NYSE Arca', 'Vanguard Russell 1000'], 'VIG': ['NYSE Arca', 'Vanguard Dividend Appreciation'], 'VYM': ['NYSE Arca', 'Vanguard High Dividend Yield'], 'DTN': ['NYSE Arca', 'WisdomTree Dividend ex-Financials'], 'DLN': ['NYSE Arca', 'WisdomTree LargeCap Dividend'], 'MDY': ['NYSE Arca', 'MidCap SPDR'], 'DVY': ['NYSE Arca', 'iShares Select Dividend'], 'IWR': ['NYSE Arca', 'iShares Russell Midcap Index'], 'IJH': ['NYSE Arca', 'iShares S&P MidCap 400 Index'], 'PDP': ['NYSE Arca', 'PowerShares DWA Mom Port'], 'SCHM': ['NYSE Arca', 'Schwab US Mid-Cap'], 'IVOO': ['NYSE Arca', 'Vanguard S&P Mid-Cap 400'], 'VO': ['NYSE Arca', 'Vanguard Mid-Cap'], 'VXF': ['NYSE Arca', 'Vanguard Extended Market'], 'DON': ['NYSE Arca', 'WisdomTree MidCap Dividend ETF'], 'IWC': ['NYSE Arca', 'iShares Micro-Cap'], 'IJR': ['NYSE Arca', 'iShares S&P SmallCap 600 Index'], 'SCHA': ['NYSE Arca', 'Schwab US Small-Cap ETF'], 'FNDA': ['NYSE Arca', 'Schwab Fundamental U.S. Small Company Index ETF'], 'VIOO': ['NYSE Arca', 'Vanguard S&P Small-Cap 600'], 'VB': ['NYSE Arca', 'Vanguard Small-Cap'], 'VTWO': ['NYSE Arca', 'Vanguard Russell 2000'], 'EEB': ['NYSE Arca', 'Claymore/BNY BRIC'], 'ECON': ['NYSE Arca', 'EGShares Emerging Markets Consumer'], 'IDV': ['NYSE Arca', 'iShares International Select Div'], 'BKF': ['NYSE Arca', 'iShares MSCI BRIC Index'], 'EFA': ['NYSE Arca', 'iShares MSCI EAFE Index'], 'SCZ': ['NYSE Arca', 'iShares MSCI EAFE Small-Cap'], 'EEM': ['NYSE Arca', 'iShares MSCI Emerging Markets Index'], 'PID': ['NYSE Arca', 'PowerShares Intl Dividend Achievers'], 'SCHC': ['NYSE Arca', 'Schwab International Small-Cap Equity'], 'SCHE': ['NYSE Arca', 'Schwab Emerging Markets Equity ETF'], 'SCHF': ['NYSE Arca', 'Schwab International Equity ETF'], 'FNDF': ['NYSE Arca', 'Schwab Fundamental International Large Company Index ETF'], 'FNDC': ['NYSE Arca', 'Schwab Fundamental International Small Company Index ETF'], 'FNDE': ['NYSE Arca', 'Schwab Fundamental Emerging Markets Large Company Index ETF'], 'DWX': ['NYSE Arca', 'SPDR S&P International Dividend'], 'VEA': ['NYSE Arca', 'Vanguard MSCI EAFE'], 'VWO': ['NYSE Arca', 'Vanguard MSCI Emerging Markets'], 'VXUS': ['NYSE Arca', 'Vanguard Total International Stock'], 'VEU': ['NYSE Arca', 'Vanguard FTSE All-World ex-US'], 'VSS': ['NYSE Arca', 'Vanguard FTSE All-World ex-US Small-Cap'], 'DEM': ['NYSE Arca', 'WisdomTree Emerging Markets Equity Inc'], 'DGS': ['NYSE Arca', 'WisdomTree Emerging Mkts SmallCap Div'], 'EZU': ['NYSE Arca', 'iShares MSCI EMU Index'], 'EPP': ['NYSE Arca', 'iShares MSCI Pacific ex-Japan'], 'IEV': ['NYSE Arca', 'iShares S&P Europe 350 Index'], 'ILF': ['NYSE Arca', 'iShares S&P Latin America 40 Index'], 'FEZ': ['NYSE Arca', 'SPDR EURO STOXX 50'], 'VGK': ['NYSE Arca', 'Vanguard MSCI Europe'], 'VPL': ['NYSE Arca', 'Vanguard MSCI Pacific'], 'HEDJ': ['NYSE Arca', 'WisdomTree Europe Hedged Equity ETF'], 'DFE': ['NYSE Arca', 'WisdomTree Europe SmallCap Dividend'], 'AND': ['NYSE Arca', 'Global X FTSE Andean 40 ETF'], 'GXF': ['NYSE Arca', 'Global X FTSE Nordic Region ETF'], 'EWA': ['NYSE Arca', 'iShares MSCI Australia Index'], 'EWC': ['NYSE Arca', 'iShares MSCI Canada Index'], 'EWG': ['NYSE Arca', 'iShares MSCI German Index'], 'EIS': ['NYSE Arca', 'iShares MSCI Israel ETF'], 'EWI': ['NYSE Arca', 'iShares MSCI Italy Capped'], 'EWJ': ['NYSE Arca', 'iShares MSCI Japan Index'], 'EWY': ['NYSE Arca', 'iShares MSCI Korea Index'], 'EWD': ['NYSE Arca', 'iShares MSCI Sweden Index'], 'EWL': ['NYSE Arca', 'iShares MSCI Switzerland Capped'], 'EWP': ['NYSE Arca', 'iShares MSCI Spain Capped'], 'EWU': ['NYSE Arca', 'iShares MSCI United Kingdom Index'], 'DXJ': ['NYSE Arca', 'WisdomTree Japan Hedged Equity'], 'NORW': ['NYSE Arca', 'Global X FTSE Norway 30 ETF'], 'INDF': ['NYSE Arca', 'Nifty India Financials ETF'], 'EWZ': ['NYSE Arca', 'iShares MSCI Brazil Index'], 'FXI': ['NYSE Arca', 'iShares FTSE/Xinhua China 25 Index'], 'EWH': ['NYSE Arca', 'iShares MSCI Hong Kong Index'], 'EWW': ['NYSE Arca', 'iShares MSCI Mexico Index'], 'EPHE': ['NYSE Arca', 'iShares MSCI Philippines Index'], 'RSX': ['NYSE Arca', 'Market Vectors Russia ETF'], 'EWS': ['NYSE Arca', 'iShares MSCI Singapore Index'], 'EWM': ['NYSE Arca', 'iShares MSCI Malaysia Index'], 'EWT': ['NYSE Arca', 'iShares MSCI Taiwan Index'], 'EPI': ['NYSE Arca', 'WisdomTree India Earnings ETF'], 'ARGT': ['NYSE Arca', 'Global X FTSE Argentina 20 ETF'], 'BRAF': ['NYSE Arca', 'Global X Brazil Financials ETF'], 'BRAQ': ['NYSE Arca', 'Global X Brazil Consumer ETF'], 'BRAZ': ['NYSE Arca', 'Global X Brazil Mid Cap ETF'], 'GXG': ['NYSE Arca', 'Global X FTSE Colombia 20 ETF'], 'XLY': ['NYSE Arca', 'Consumer Discretionary Select Sector SPDR'], 'IYC': ['NYSE Arca', 'iShares Dow Jones US Consumer Services'], 'ITB': ['NYSE Arca', 'iShares US Home Construction'], 'XHB': ['NYSE Arca', 'SPDR S&P Homebuilders ETF'], 'VCR': ['NYSE Arca', 'Vanguard Consumer Discretionary'], 'XLP': ['NYSE Arca', 'Consumer Staples Select Sector SPDR'], 'IYK': ['NYSE Arca', 'iShares Dow Jones US Consumer Goods'], 'VDC': ['NYSE Arca', 'Vanguard Consumer Staples'], 'AMLP': ['NYSE Arca', 'ALPS Alerian MLP ETF'], 'XLE': ['NYSE Arca', 'Energy Select Sector SPDR'], 'IYE': ['NYSE Arca', 'iShares Dow Jones US Energy'], 'IGE': ['NYSE Arca', 'iShares North American Natural Resources'], 'OIH': ['NYSE Arca', 'Market Vectors Oil Services ETF'], 'XOP': ['NYSE Arca', 'SPDR S&P Oil & Gas Explor & Prod ETF'], 'VDE': ['NYSE Arca', 'Vanguard Energy'], 'ESPO': ['NYSE Arca', 'VanEck Vectors Video Gaming and eSports ETF'], 'XLF': ['NYSE Arca', 'Financial Select Sector SPDR'], 'IYF': ['NYSE Arca', 'iShares Dow Jones US Financial'], 'KBE': ['NYSE Arca', 'SPDR S&P Bank ETF'], 'KRE': ['NYSE Arca', 'SPDR S&P Regional Banking ETF'], 'VFH': ['NYSE Arca', 'Vanguard Financials'], 'FXH': ['NYSE Arca', 'First Trust Health Care AlphaDEX'], 'FBT': ['NYSE Arca', 'First Trust NYSE Arca Biotech Index'], 'XLV': ['NYSE Arca', 'Health Care Select Sector SPDR'], 'IYH': ['NYSE Arca', 'iShares Dow Jones US Health Care'], 'PJP': ['NYSE Arca', 'PowerShares Dynamic Pharmaceuticals'], 'XBI': ['NYSE Arca', 'SPDR S&P Biotech ETF'], 'VHT': ['NYSE Arca', 'Vanguard Health Care'], 'XLI': ['NYSE Arca', 'Industrial Select Sector SPDR'], 'IYJ': ['NYSE Arca', 'iShares Dow Jones US Industrial'], 'VIS': ['NYSE Arca', 'Vanguard Industrials'], 'XLB': ['NYSE Arca', 'Materials Select Sector SPDR'], 'IYM': ['NYSE Arca', 'iShares Dow Jones US Materials'], 'GDX': ['NYSE Arca', 'Market Vectors Gold Miners ETF'], 'GDXJ': ['NYSE Arca', 'Market Vectors Junior Gold Miners ETF'], 'VAW': ['NYSE Arca', 'Vanguard Materials'], 'FDN': ['NYSE Arca', 'First Trust Dow Jones Internet Index'], 'XLK': ['NYSE Arca', 'Technology Select Sector SPDR'], 'IYW': ['NYSE Arca', 'iShares Dow Jones US Technology'], 'IGV': ['NYSE Arca', 'iShares North American Tech-Software'], 'VGT': ['NYSE Arca', 'Vanguard Information Technology'], 'IYZ': ['NYSE Arca', 'iShares Dow Jones US Telecommunications'], 'VOX': ['NYSE Arca', 'Vanguard Telecommunication Services'], 'XLU': ['NYSE Arca', 'Utilities Select Sector SPDR'], 'IDU': ['NYSE Arca', 'iShares Dow Jones US Utilities'], 'VPU': ['NYSE Arca', 'Vanguard Utilities'], 'IPD': ['NYSE Arca', 'SPDR S&P International Consumer Discretionary'], 'RXI': ['NYSE Arca', 'iShares S&P Global Consumer Discretionary'], 'IPS': ['NYSE Arca', 'SPDR S&P International Consumer Staples'], 'KXI': ['NYSE Arca', 'iShares S&P Global Consumer Staples'], 'IPW': ['NYSE Arca', 'SPDR S&P International Energy'], 'IXC': ['NYSE Arca', 'iShares S&P Global Energy'], 'IPF': ['NYSE Arca', 'SPDR S&P International Financial'], 'IXG': ['NYSE Arca', 'iShares S&P Global Financial'], 'IRY': ['NYSE Arca', 'SPDR S&P International Health Care'], 'IXJ': ['NYSE Arca', 'iShares S&P Global Healthcare'], 'IPN': ['NYSE Arca', 'SPDR S&P International Industrial'], 'EXI': ['NYSE Arca', 'iShares S&P Global Industrials'], 'GUNR': ['NYSE Arca', 'FlexShares Mstar Gbl Upstrm Nat Res ETF'], 'IRV': ['NYSE Arca', 'SPDR S&P International Materials'], 'MXI': ['NYSE Arca', 'iShares S7P Global Materials'], 'IPK': ['NYSE Arca', 'SPDR S&P International Technology'], 'IXN': ['NYSE Arca', 'iShares S&P Global Technology'], 'IST': ['NYSE Arca', 'SPDR S&P International Telecommunications'], 'IXP': ['NYSE Arca', 'iShares S&P Global Telecommunications'], 'IPU': ['NYSE Arca', 'SPDR S&P International Utilities'], 'JXI': ['NYSE Arca', 'iShares S&P Global Utilities'], 'HYLD': ['NYSE Arca', 'AdvisorShares Peritus High Yield ETF'], 'TDTT': ['NYSE Arca', 'FlexShares iBoxx 3Yr Target Dur TIPS ETF'], 'CSJ': ['NYSE Arca', 'iShares 1-3 Year Credit Bond'], 'IEI': ['NYSE Arca', 'iShares 3-7 Year Treasury Bond'], 'AGG': ['NYSE Arca', 'iShares Core U.S. Aggregate Bond'], 'SHY': ['NYSE Arca', 'iShares Barclays 1-3 Year Treasury Bond'], 'TIP': ['NYSE Arca', 'iShares Barclays TIPS Bond'], 'HYG': ['NYSE Arca', 'iShares iBoxx $ High Yield Corp Bond'], 'LQD': ['NYSE Arca', 'iShares iBoxx $ Invest Grade Corp Bond'], 'IEF': ['NYSE Arca', 'iShares Barclays 7-10 Year Treasury'], 'TLT': ['NYSE Arca', 'iShares Barclays 20+ Year Treas Bond'], 'FLOT': ['NYSE Arca', 'iShares Floating Rate Bond'], 'CIU': ['NYSE Arca', 'iShares Intermediate Credit Bd'], 'GVI': ['NYSE Arca', 'iShares Intm Government/Credit Bond'], 'EMB': ['NYSE Arca', 'iShares JPMorgan USD Emerg Markets Bond'], 'MBB': ['NYSE Arca', 'iShares MBS'], 'MUB': ['NYSE Arca', 'iShares National AMT-Free Muni Bond'], 'SHV': ['NYSE Arca', 'iShares Short Treasury Bond'], 'HYD': ['NYSE Arca', 'Market Vectors High-Yield Muni ETF'], 'HYS': ['NYSE Arca', 'PIMCO 0-5 Year High Yld Corp Bd Idx ETF'], 'STPZ': ['NYSE Arca', 'PIMCO 1-5 Year US TIPS Index ETF'], 'MINT': ['NYSE Arca', 'PIMCO Enhanced Short Duration ETF'], 'BOND': ['NYSE Arca', 'PIMCO Total Return ETF'], 'PCY': ['NYSE Arca', 'PowerShares Emerging Mkts Sovereign Debt'], 'BKLN': ['NYSE Arca', 'PowerShares Senior Loan Port'], 'SCHZ': ['NYSE Arca', 'Schwab US Aggregate Bond'], 'SCHP': ['NYSE Arca', 'Schwab US TIPS'], 'SCHO': ['NYSE Arca', 'Schwab Short-Term US Treasury'], 'SCHR': ['NYSE Arca', 'Schwab Intermediate-Term US Treasury'], 'JNK': ['NYSE Arca', 'SPDR Barclays Capital High Yield Bond ETF'], 'BIL': ['NYSE Arca', 'SPDR Barclays 1-3 Month T-Bill'], 'SCPB': ['NYSE Arca', 'SPDR Barclays Capital Short Term Corp Bd'], 'BWX': ['NYSE Arca', 'SPDR Barclays International Treasury Bd'], 'SJNK': ['NYSE Arca', 'SPDR Barclays Short Term Hi Yld Bd ETF'], 'TFI': ['NYSE Arca', 'SPDR Nuveen Barclays Capital Muni Bond'], 'SHM': ['NYSE Arca', 'SPDR Nuveen Barclays Capital S/T Muni Bd'], 'EDV': ['NYSE Arca', 'Vanguard Extended Duration Treasury'], 'BIV': ['NYSE Arca', 'Vanguard Intermediate-Term Bond'], 'VCIT': ['NYSE Arca', 'Vanguard Intermediate-Term Corporate Bond'], 'VGIT': ['NYSE Arca', 'Vanguard Intermediate-Term Government Bond'], 'BLV': ['NYSE Arca', 'Vanguard Long-Term Bond'], 'VCLT': ['NYSE Arca', 'Vanguard Long-Term Corporate Bond'], 'VGLT': ['NYSE Arca', 'Vanguard Long-Term Government Bond'], 'VMBS': ['NYSE Arca', 'Vanguard Mortgage-Backed Securities'], 'BSV': ['NYSE Arca', 'Vanguard Short-Term Bond'], 'VCSH': ['NYSE Arca', 'Vanguard Short-Term Corporate Bond'], 'VGSH': ['NYSE Arca', 'Vanguard Short-Term Government Bond'], 'BND': ['NYSE Arca', 'Vanguard Total Bond Market'], 'RJI': ['NYSE Arca', 'ELEMENTS Rogers International Commodity Index ETN'], 'DJP': ['NYSE Arca', 'iPath Dow Jones-UBS Commodity Idx TR ETN'], 'GSG': ['NYSE Arca', 'iShares S&P GSCI Commodity-Indexed Trust'], 'DBC': ['NYSE Arca', 'PowerShares DB Commodity Idx Trking Fund'], 'RJA': ['NYSE Arca', 'ELEMENTS Rogers Agriculture ETN'], 'JJA': ['NYSE Arca', 'iPath Dow Jones-UBS Agriculture ETN'], 'DBA': ['NYSE Arca', 'PowerShares DB Agriculture'], 'RJN': ['NYSE Arca', 'ELEMENTS Rogers Energy ETN'], 'OIL': ['NYSE Arca', 'iPath Dow Jones-UBS Crude Oil ETN'], 'GAZ': ['NYSE Arca', 'iPath Dow Jones-UBS Natural Gas ETN'], 'UNG': ['NYSE Arca', 'United States Natural Gas Fund'], 'USO': ['NYSE Arca', 'United States Oil Fund'], 'RJZ': ['NYSE Arca', 'ELEMENTS Rogers Metal ETN'], 'JJM': ['NYSE Arca', 'iPath Dow Jones-UBS Industrial Metals ETN'], 'DBB': ['NYSE Arca', 'PowerShares DB Base Metals'], 'SGOL': ['NYSE Arca', 'ETFS Physical Swiss Gold Shares'], 'IAU': ['NYSE Arca', 'iShares Gold Trust'], 'GLD': ['NYSE Arca', 'SPDR Gold Shares'], 'SIVR': ['NYSE Arca', 'ETFS Physical Silver Shares'], 'SLV': ['NYSE Arca', 'iShares Silver Trust'], 'PALL': ['NYSE Arca', 'ETFS Physical Palladium Shares'], 'PPLT': ['NYSE Arca', 'ETFS Physical Platinum Shares'], 'ICF': ['NYSE Arca', 'iShares Cohen & Steers Realty Majors'], 'IFAS': ['NYSE Arca', 'iShares Dow Jones Asia Real Estate'], 'IFEU': ['NYSE Arca', 'iShares Dow Jones Europe Real Estate'], 'IYR': ['NYSE Arca', 'iShares Dow Jones US Real Estate'], 'REM': ['NYSE Arca', 'iShares Mortgage Real Estate Capped'], 'SCHH': ['NYSE Arca', 'Schwab US REIT'], 'RWO': ['NYSE Arca', 'SPDR Dow Jones Global Real Estate'], 'RWX': ['NYSE Arca', 'SPDR Dow Jones Intl Real Estate'], 'RWR': ['NYSE Arca', 'SPDR Dow Jones REIT ETF'], 'WREI': ['NYSE Arca', 'Wilshire US REIT ETF'], 'VNQ': ['NYSE Arca', 'Vanguard Real Estate'], 'VNQI': ['NYSE Arca', 'Vanguard Global ex-US Real Estate'], 'HDGE': ['NYSE Arca', 'AdvisorShares Ranger Equity Bear ETF'], 'HDGI': ['NYSE Arca', 'AdvisorShares Athena International Bear ETF'], 'DOG': ['NYSE Arca', 'ProShares Short Dow 30'], 'SH': ['NYSE Arca', 'ProShares Short S&P 500'], 'MYY': ['NYSE Arca', 'ProShares Short S&P MidCap 400'], 'SBB': ['NYSE Arca', 'ProShares Short S&P SmallCap 600'], 'PSQ': ['NYSE Arca', 'ProShares Short Nasdaq 100'], 'RWM': ['NYSE Arca', 'ProShares Short Russell 2000'], 'EFZ': ['NYSE Arca', 'ProShares Short MSCI EAFE'], 'FBGX': ['NYSE Arca', 'UBS AG FI Enhanced Large Cap Growth 2x ETF'], 'FLGE': ['NYSE Arca', 'Credit Suisse FI Large Cap Growth Enhanced ETF'], 'MIDU': ['NYSE Arca', 'Direxion Daily Mid Cap Bull 3x ETF'], 'SPUU': ['NYSE Arca', 'Direxion Daily S&P 500 Bull 2x ETF'], 'SPXL': ['NYSE Arca', 'Direxion Daily S&P 500 Bull 3x ETF'], 'ERX': ['NYSE Arca', 'Direxion Energy Bull 3x ETF'], 'FAS': ['NYSE Arca', 'Direxion Financials Bull 3x ETF'], 'BGU': ['NYSE Arca', 'Direxion Large Cap Bull 3x'], 'TNA': ['NYSE Arca', 'Direxion Small Cap Bull 3x'], 'DDM': ['NYSE Arca', 'ProShares Ultra Dow 30'], 'QLD': ['NYSE Arca', 'ProShares Ultra NASDAQ-100'], 'UWM': ['NYSE Arca', 'ProShares Ultra Russell 2000'], 'SSO': ['NYSE Arca', 'ProShares Ultra S&P 500'], 'UPRO': ['NYSE Arca', 'ProShares S&P 500 3x'], 'SDS': ['NYSE Arca', 'UltraShort S&P 500 ProShares 2x'], 'SPXU': ['NYSE Arca', 'ProShares S&P 500 Direxionshares Bear 3x ETF'], 'TZA': ['NYSE Arca', 'Direxion Russell 2000 Direxionshares Bear 3x ETF'], 'SQQQ': ['NYSE Arca', 'UltraPro Short QQQ'], 'QID': ['NYSE Arca', 'UltraShort NASDAQ-100 ProShares  2X'], 'SKF': ['NYSE Arca', 'UltraShort Financials ProShares'], 'TWM': ['NYSE Arca', 'UltraShort Russell 2000 ProShares'], 'DXD': ['NYSE Arca', 'UltraShort Dow 30 ProShares'], 'SRS': ['NYSE Arca', 'UltraShort Real Estate ProShares'], 'MZZ': ['NYSE Arca', 'UltraShort MidCap 400 ProShares'], 'DUG': ['NYSE Arca', 'UltraShort Oil & Gas ProShares'], 'BGZ': ['NYSE Arca', 'Direxion Large Cap Bear 3x ETF'], 'ERY': ['NYSE Arca', 'Direxion Energy Bear 3x ETF'], 'FAZ': ['NYSE Arca', 'Direxion Financials Bear 3x ETF'], 'AADR': ['NYSE Arca', 'AdvisorShares WCM/BNY Mellon Focused Growth ADR ETF'], 'ACCU': ['NYSE Arca', 'AdvisorShares Accuvest Global Opportunities ETF'], 'DBIZ': ['NYSE Arca', 'AdvisorShares Pring Turner Business Cycle ETF'], 'EPRO': ['NYSE Arca', 'AdvisorShares EquityPro ETF'], 'FWDB': ['NYSE Arca', 'AdvisorShares Madrona Global Bond ETF'], 'FWDD': ['NYSE Arca', 'AdvisorShares Madrona Domestic ETF'], 'FWDI': ['NYSE Arca', 'AdvisorShares Madrona International ETF'], 'GEUR': ['NYSE Arca', 'AdvisorShares Gartman Gold/Euro ETF'], 'GGBP': ['NYSE Arca', 'AdvisorShares Gartman Gold/British Pound ETF'], 'GIVE': ['NYSE Arca', 'AdvisorShares Global Echo ETF'], 'GLDE': ['NYSE Arca', 'AdvisorShares International Gold ETF'], 'GYEN': ['NYSE Arca', 'AdvisorShares Gartman Gold/Yen ETF'], 'GTAA': ['NYSE Arca', 'AdvisorShares Cambria Global Tactical ETF'], 'HOLD': ['NYSE Arca', 'AdvisorShares Sage Core Reserves ETF'], 'MATH': ['NYSE Arca', 'AdvisorShares Meidell Tactical Advantage ETF'], 'MINC': ['NYSE Arca', 'AdvisorShares Newfleet Multi-Sector Income ETF'], 'QEH': ['NYSE Arca', 'AdvisorShares QAM Equity Hedge ETF'], 'TTFS': ['NYSE Arca', 'AdvisorShares TrimTabs Float Shrink ETF'], 'VEGA': ['NYSE Arca', 'AdvisorShares STAR Global Buy-Write ETF'], 'YPRO': ['NYSE Arca', 'AdvisorShares YieldPro ETF'], 'RIGS': ['NYSE Arca', 'Riverfront Strategic Income Fund'], 'DIVO': ['NYSE Arca', 'Amplify Enhanced Dividend Income ETF'], 'CNBS': ['NYSE Arca', 'Amplify Seymour Cannabis ETF'], 'BLOK': ['NYSE Arca', 'Amplify Transformational Data Sharing ETF'], 'ARKG': ['NYSE Arca', 'ARK Genomic Revolution Multi-Sector ETF'], 'ARKQ': ['NYSE Arca', 'ARK Industrial Innovation ETF'], 'ARKW': ['NYSE Arca', 'ARK Next Generation Internet ETF'], 'ARKK': ['NYSE Arca', 'ARK Innovation ETF'], 'ARKF': ['NYSE Arca', 'ARK Fintech Innovation ETF'], 'ARKX': ['NYSE Arca', 'ARK Space Exploration & Innovation ETF'], 'SYLD': ['NYSE Arca', 'Cambria Shareholder Yield ETF'], 'GMMB': ['NYSE Arca', 'Columbia Intermediate Municipal Bond ETF'], 'GMTB': ['NYSE Arca', 'Columbia Core Bond ETF'], 'GVT': ['NYSE Arca', 'Columbia Select Large Cap Value ETF'], 'RPX': ['NYSE Arca', 'Columbia Large Cap Growth ETF'], 'RWG': ['NYSE Arca', 'Columbia Select Large Cap Growth ETF'], 'EMLP': ['NYSE Arca', 'First Trust North American Energy Infrastructure Fund'], 'FMB': ['NYSE Arca', 'First Trust Managed Municipal ETF'], 'FMF': ['NYSE Arca', 'First Trust Morningstar Managed Futures Strategy Fund'], 'FPE': ['NYSE Arca', 'First Trust Preferred Securities and Income ETF'], 'FTGS': ['NYSE Arca', 'First Trust Global Tactical Commodity Strategy Fund'], 'FTHI': ['NYSE Arca', 'First Trust High Income ETF'], 'FTLB': ['NYSE Arca', 'First Trust Low Beta Income ETF'], 'FTSL': ['NYSE Arca', 'First Trust Senior Loan ETF'], 'HYLS': ['NYSE Arca', 'First Trust Tactical High Yield ETF'], 'RAVI': ['NYSE Arca', 'Flexshares Ready Access Variable Income Fund'], 'FTSD': ['NYSE Arca', 'Franklin Short Duration US Government ETF'], 'GSY': ['NYSE Arca', 'Guggenheim Enhanced Short Duration Bond ETF'], 'HECO': ['NYSE Arca', 'Huntington EcoLogical Strategy ETF'], 'HUSE': ['NYSE Arca', 'Huntington U.S. Equity Rotation Strategy ETF'], 'ICSH': ['NYSE Arca', 'iShares Liquidity Income ETF'], 'IEIL': ['NYSE Arca', 'iShares Enhanced International Large-Cap ETF'], 'IEIS': ['NYSE Arca', 'iShares Enhanced International Small-Cap ETF'], 'IELG': ['NYSE Arca', 'iShares Enhanced U.S. Large-Cap ETF'], 'IESM': ['NYSE Arca', 'iShares Enhanced U.S. Small-Cap ETF'], 'NEAR': ['NYSE Arca', 'iShares Short Maturity Bond ETF'], 'BABZ': ['NYSE Arca', 'PIMCO Build America Bond Strategy'], 'DI': ['NYSE Arca', 'PIMCO Diversified Income ETF'], 'FORX': ['NYSE Arca', 'PIMCO Foreign Currency Strategy ETF'], 'ILB': ['NYSE Arca', 'PIMCO Global Advantage Inflation-Linked Bond Strategy'], 'LDUR': ['NYSE Arca', 'PIMCO Low Duration ETF'], 'MUNI': ['NYSE Arca', 'PIMCO Intermediate Muni Bond Strategy ETF'], 'SMMU': ['NYSE Arca', 'PIMCO Short Term Muni Bond Strategy ETF'], 'CHNA': ['NYSE Arca', 'PowerShares China-A Share Portfolio'], 'LALT': ['NYSE Arca', 'PowerShares Multi-Strategy Alternative Portfolio'], 'PHDG': ['NYSE Arca', 'S&P 500 Downside Hedged Portfolio'], 'PSR': ['NYSE Arca', 'Active U.S. Real Estate Fund ETF'], 'ONEF': ['NYSE Arca', 'Russell Equity ETF'], 'GAL': ['NYSE Arca', 'SPDR SSgA Global Allocation'], 'INKM': ['NYSE Arca', 'SPDR SSgA Income Allocation'], 'RLY': ['NYSE Arca', 'SPDR SSgA Multi-Asset Real Return'], 'SYE': ['NYSE Arca', 'SPDR MFS Systematic Core Equity ETF'], 'SYG': ['NYSE Arca', 'SPDR MFS Systematic Growth Equity ETF'], 'SYV': ['NYSE Arca', 'SPDR MFS Systematic Value Equity ETF'], 'SRLN': ['NYSE Arca', 'SPDR Blackstone/GSO Senior Loan ETF'], 'ULST': ['NYSE Arca', 'SPDR SSgA Ultra Short Term Bond ETF'], 'ALD': ['NYSE Arca', 'WisdomTree Asia Local Debt'], 'AUNZ': ['NYSE Arca', 'WisdomTree Australia & New Zealand Debt Fund'], 'BZF': ['NYSE Arca', 'WisdomTree Dreyfus Brazilian Real Fund'], 'CCX': ['NYSE Arca', 'WisdomTree Commodity Currency'], 'CEW': ['NYSE Arca', 'WisdomTree Dreyfus Emerging Currency'], 'CRDT': ['NYSE Arca', 'WisdomTree Strategic Corporate Bond Fund'], 'CYB': ['NYSE Arca', 'WisdomTree Dreyfus Chinese Yuan'], 'ELD': ['NYSE Arca', 'WisdomTree Emerging Markets Local Debts Fund'], 'EMCB': ['NYSE Arca', 'WisdomTree Emerging Markets Corporate Bond Fund'], 'EU': ['NYSE Arca', 'WisdomTree Euro Debt Fund'], 'ICB': ['NYSE Arca', 'WisdomTree Dreyfus Indian Rupee'], 'RRF': ['NYSE Arca', 'WisdomTree Global Real Return'], 'USDU': ['NYSE Arca', 'WisdomTree Bloomberg U.S. Dollar Bullish Fund'], 'WDTI': ['NYSE Arca', 'WisdomTree Managed Futures Strategy Fund']}\n",
            "\n"
          ]
        },
        {
          "output_type": "execute_result",
          "data": {
            "text/html": [
              "<div>\n",
              "<style scoped>\n",
              "    .dataframe tbody tr th:only-of-type {\n",
              "        vertical-align: middle;\n",
              "    }\n",
              "\n",
              "    .dataframe tbody tr th {\n",
              "        vertical-align: top;\n",
              "    }\n",
              "\n",
              "    .dataframe thead th {\n",
              "        text-align: right;\n",
              "    }\n",
              "</style>\n",
              "<table border=\"1\" class=\"dataframe\">\n",
              "  <thead>\n",
              "    <tr style=\"text-align: right;\">\n",
              "      <th></th>\n",
              "      <th>DIA</th>\n",
              "      <th>RSP</th>\n",
              "      <th>IOO</th>\n",
              "      <th>IVV</th>\n",
              "      <th>SPY</th>\n",
              "      <th>VOO</th>\n",
              "      <th>IWM</th>\n",
              "      <th>OEF</th>\n",
              "      <th>CVY</th>\n",
              "      <th>RPG</th>\n",
              "      <th>RPV</th>\n",
              "      <th>IWB</th>\n",
              "      <th>PKW</th>\n",
              "      <th>PRF</th>\n",
              "      <th>SPLV</th>\n",
              "      <th>SCHX</th>\n",
              "      <th>SCHD</th>\n",
              "      <th>FNDX</th>\n",
              "      <th>SDY</th>\n",
              "      <th>VV</th>\n",
              "      <th>MGC</th>\n",
              "      <th>VONE</th>\n",
              "      <th>VIG</th>\n",
              "      <th>VYM</th>\n",
              "      <th>DTN</th>\n",
              "      <th>DLN</th>\n",
              "      <th>MDY</th>\n",
              "      <th>DVY</th>\n",
              "      <th>IWR</th>\n",
              "      <th>IJH</th>\n",
              "      <th>PDP</th>\n",
              "      <th>SCHM</th>\n",
              "      <th>IVOO</th>\n",
              "      <th>VO</th>\n",
              "      <th>VXF</th>\n",
              "      <th>DON</th>\n",
              "      <th>IWC</th>\n",
              "      <th>IJR</th>\n",
              "      <th>SCHA</th>\n",
              "      <th>FNDA</th>\n",
              "      <th>...</th>\n",
              "      <th>ICSH</th>\n",
              "      <th>IEIL</th>\n",
              "      <th>IEIS</th>\n",
              "      <th>IELG</th>\n",
              "      <th>IESM</th>\n",
              "      <th>NEAR</th>\n",
              "      <th>BABZ</th>\n",
              "      <th>DI</th>\n",
              "      <th>FORX</th>\n",
              "      <th>ILB</th>\n",
              "      <th>LDUR</th>\n",
              "      <th>MUNI</th>\n",
              "      <th>SMMU</th>\n",
              "      <th>CHNA</th>\n",
              "      <th>LALT</th>\n",
              "      <th>PHDG</th>\n",
              "      <th>PSR</th>\n",
              "      <th>ONEF</th>\n",
              "      <th>GAL</th>\n",
              "      <th>INKM</th>\n",
              "      <th>RLY</th>\n",
              "      <th>SYE</th>\n",
              "      <th>SYG</th>\n",
              "      <th>SYV</th>\n",
              "      <th>SRLN</th>\n",
              "      <th>ULST</th>\n",
              "      <th>ALD</th>\n",
              "      <th>AUNZ</th>\n",
              "      <th>BZF</th>\n",
              "      <th>CCX</th>\n",
              "      <th>CEW</th>\n",
              "      <th>CRDT</th>\n",
              "      <th>CYB</th>\n",
              "      <th>ELD</th>\n",
              "      <th>EMCB</th>\n",
              "      <th>EU</th>\n",
              "      <th>ICB</th>\n",
              "      <th>RRF</th>\n",
              "      <th>USDU</th>\n",
              "      <th>WDTI</th>\n",
              "    </tr>\n",
              "  </thead>\n",
              "  <tbody>\n",
              "    <tr>\n",
              "      <th>0</th>\n",
              "      <td>NYSE Arca</td>\n",
              "      <td>NYSE Arca</td>\n",
              "      <td>NYSE Arca</td>\n",
              "      <td>NYSE Arca</td>\n",
              "      <td>NYSE Arca</td>\n",
              "      <td>NYSE Arca</td>\n",
              "      <td>NYSE Arca</td>\n",
              "      <td>NYSE Arca</td>\n",
              "      <td>NYSE Arca</td>\n",
              "      <td>NYSE Arca</td>\n",
              "      <td>NYSE Arca</td>\n",
              "      <td>NYSE Arca</td>\n",
              "      <td>NYSE Arca</td>\n",
              "      <td>NYSE Arca</td>\n",
              "      <td>NYSE Arca</td>\n",
              "      <td>NYSE Arca</td>\n",
              "      <td>NYSE Arca</td>\n",
              "      <td>NYSE Arca</td>\n",
              "      <td>NYSE Arca</td>\n",
              "      <td>NYSE Arca</td>\n",
              "      <td>NYSE Arca</td>\n",
              "      <td>NYSE Arca</td>\n",
              "      <td>NYSE Arca</td>\n",
              "      <td>NYSE Arca</td>\n",
              "      <td>NYSE Arca</td>\n",
              "      <td>NYSE Arca</td>\n",
              "      <td>NYSE Arca</td>\n",
              "      <td>NYSE Arca</td>\n",
              "      <td>NYSE Arca</td>\n",
              "      <td>NYSE Arca</td>\n",
              "      <td>NYSE Arca</td>\n",
              "      <td>NYSE Arca</td>\n",
              "      <td>NYSE Arca</td>\n",
              "      <td>NYSE Arca</td>\n",
              "      <td>NYSE Arca</td>\n",
              "      <td>NYSE Arca</td>\n",
              "      <td>NYSE Arca</td>\n",
              "      <td>NYSE Arca</td>\n",
              "      <td>NYSE Arca</td>\n",
              "      <td>NYSE Arca</td>\n",
              "      <td>...</td>\n",
              "      <td>NYSE Arca</td>\n",
              "      <td>NYSE Arca</td>\n",
              "      <td>NYSE Arca</td>\n",
              "      <td>NYSE Arca</td>\n",
              "      <td>NYSE Arca</td>\n",
              "      <td>NYSE Arca</td>\n",
              "      <td>NYSE Arca</td>\n",
              "      <td>NYSE Arca</td>\n",
              "      <td>NYSE Arca</td>\n",
              "      <td>NYSE Arca</td>\n",
              "      <td>NYSE Arca</td>\n",
              "      <td>NYSE Arca</td>\n",
              "      <td>NYSE Arca</td>\n",
              "      <td>NYSE Arca</td>\n",
              "      <td>NYSE Arca</td>\n",
              "      <td>NYSE Arca</td>\n",
              "      <td>NYSE Arca</td>\n",
              "      <td>NYSE Arca</td>\n",
              "      <td>NYSE Arca</td>\n",
              "      <td>NYSE Arca</td>\n",
              "      <td>NYSE Arca</td>\n",
              "      <td>NYSE Arca</td>\n",
              "      <td>NYSE Arca</td>\n",
              "      <td>NYSE Arca</td>\n",
              "      <td>NYSE Arca</td>\n",
              "      <td>NYSE Arca</td>\n",
              "      <td>NYSE Arca</td>\n",
              "      <td>NYSE Arca</td>\n",
              "      <td>NYSE Arca</td>\n",
              "      <td>NYSE Arca</td>\n",
              "      <td>NYSE Arca</td>\n",
              "      <td>NYSE Arca</td>\n",
              "      <td>NYSE Arca</td>\n",
              "      <td>NYSE Arca</td>\n",
              "      <td>NYSE Arca</td>\n",
              "      <td>NYSE Arca</td>\n",
              "      <td>NYSE Arca</td>\n",
              "      <td>NYSE Arca</td>\n",
              "      <td>NYSE Arca</td>\n",
              "      <td>NYSE Arca</td>\n",
              "    </tr>\n",
              "    <tr>\n",
              "      <th>1</th>\n",
              "      <td>DIAMONDS Trust, Series 1</td>\n",
              "      <td>Guggenheim S&amp;P 500 Equal Weight</td>\n",
              "      <td>iShares S&amp;P Global 100 Index</td>\n",
              "      <td>iShares S&amp;P 500 Index</td>\n",
              "      <td>SPDR S&amp;P 500</td>\n",
              "      <td>Vanguard S&amp;P 500</td>\n",
              "      <td>iShares Russell 2000 Index</td>\n",
              "      <td>iShares S&amp;P 100 Index</td>\n",
              "      <td>Guggenheim Multi-Asset Income</td>\n",
              "      <td>Guggenheim S&amp;P 500 Pure Growth ETF</td>\n",
              "      <td>Guggenheim S&amp;P 500 Pure Value ETF</td>\n",
              "      <td>iShares Russell 1000 Index</td>\n",
              "      <td>PowerShares Buyback Achievers</td>\n",
              "      <td>PowerShares FTSE RAFI US 1000</td>\n",
              "      <td>PowerShares S&amp;P 500 Low Volatility</td>\n",
              "      <td>Schwab US Large-Cap ETF</td>\n",
              "      <td>Schwab US Dividend Equity ETF</td>\n",
              "      <td>Schwab Fundamental U.S. Large Company Index ETF</td>\n",
              "      <td>SPDR S&amp;P Dividend ETF</td>\n",
              "      <td>Vanguard Large-Cap</td>\n",
              "      <td>Vanguard Mega-Cap 300</td>\n",
              "      <td>Vanguard Russell 1000</td>\n",
              "      <td>Vanguard Dividend Appreciation</td>\n",
              "      <td>Vanguard High Dividend Yield</td>\n",
              "      <td>WisdomTree Dividend ex-Financials</td>\n",
              "      <td>WisdomTree LargeCap Dividend</td>\n",
              "      <td>MidCap SPDR</td>\n",
              "      <td>iShares Select Dividend</td>\n",
              "      <td>iShares Russell Midcap Index</td>\n",
              "      <td>iShares S&amp;P MidCap 400 Index</td>\n",
              "      <td>PowerShares DWA Mom Port</td>\n",
              "      <td>Schwab US Mid-Cap</td>\n",
              "      <td>Vanguard S&amp;P Mid-Cap 400</td>\n",
              "      <td>Vanguard Mid-Cap</td>\n",
              "      <td>Vanguard Extended Market</td>\n",
              "      <td>WisdomTree MidCap Dividend ETF</td>\n",
              "      <td>iShares Micro-Cap</td>\n",
              "      <td>iShares S&amp;P SmallCap 600 Index</td>\n",
              "      <td>Schwab US Small-Cap ETF</td>\n",
              "      <td>Schwab Fundamental U.S. Small Company Index ETF</td>\n",
              "      <td>...</td>\n",
              "      <td>iShares Liquidity Income ETF</td>\n",
              "      <td>iShares Enhanced International Large-Cap ETF</td>\n",
              "      <td>iShares Enhanced International Small-Cap ETF</td>\n",
              "      <td>iShares Enhanced U.S. Large-Cap ETF</td>\n",
              "      <td>iShares Enhanced U.S. Small-Cap ETF</td>\n",
              "      <td>iShares Short Maturity Bond ETF</td>\n",
              "      <td>PIMCO Build America Bond Strategy</td>\n",
              "      <td>PIMCO Diversified Income ETF</td>\n",
              "      <td>PIMCO Foreign Currency Strategy ETF</td>\n",
              "      <td>PIMCO Global Advantage Inflation-Linked Bond S...</td>\n",
              "      <td>PIMCO Low Duration ETF</td>\n",
              "      <td>PIMCO Intermediate Muni Bond Strategy ETF</td>\n",
              "      <td>PIMCO Short Term Muni Bond Strategy ETF</td>\n",
              "      <td>PowerShares China-A Share Portfolio</td>\n",
              "      <td>PowerShares Multi-Strategy Alternative Portfolio</td>\n",
              "      <td>S&amp;P 500 Downside Hedged Portfolio</td>\n",
              "      <td>Active U.S. Real Estate Fund ETF</td>\n",
              "      <td>Russell Equity ETF</td>\n",
              "      <td>SPDR SSgA Global Allocation</td>\n",
              "      <td>SPDR SSgA Income Allocation</td>\n",
              "      <td>SPDR SSgA Multi-Asset Real Return</td>\n",
              "      <td>SPDR MFS Systematic Core Equity ETF</td>\n",
              "      <td>SPDR MFS Systematic Growth Equity ETF</td>\n",
              "      <td>SPDR MFS Systematic Value Equity ETF</td>\n",
              "      <td>SPDR Blackstone/GSO Senior Loan ETF</td>\n",
              "      <td>SPDR SSgA Ultra Short Term Bond ETF</td>\n",
              "      <td>WisdomTree Asia Local Debt</td>\n",
              "      <td>WisdomTree Australia &amp; New Zealand Debt Fund</td>\n",
              "      <td>WisdomTree Dreyfus Brazilian Real Fund</td>\n",
              "      <td>WisdomTree Commodity Currency</td>\n",
              "      <td>WisdomTree Dreyfus Emerging Currency</td>\n",
              "      <td>WisdomTree Strategic Corporate Bond Fund</td>\n",
              "      <td>WisdomTree Dreyfus Chinese Yuan</td>\n",
              "      <td>WisdomTree Emerging Markets Local Debts Fund</td>\n",
              "      <td>WisdomTree Emerging Markets Corporate Bond Fund</td>\n",
              "      <td>WisdomTree Euro Debt Fund</td>\n",
              "      <td>WisdomTree Dreyfus Indian Rupee</td>\n",
              "      <td>WisdomTree Global Real Return</td>\n",
              "      <td>WisdomTree Bloomberg U.S. Dollar Bullish Fund</td>\n",
              "      <td>WisdomTree Managed Futures Strategy Fund</td>\n",
              "    </tr>\n",
              "  </tbody>\n",
              "</table>\n",
              "<p>2 rows × 381 columns</p>\n",
              "</div>"
            ],
            "text/plain": [
              "                        DIA  ...                                      WDTI\n",
              "0                 NYSE Arca  ...                                 NYSE Arca\n",
              "1  DIAMONDS Trust, Series 1  ...  WisdomTree Managed Futures Strategy Fund\n",
              "\n",
              "[2 rows x 381 columns]"
            ]
          },
          "metadata": {},
          "execution_count": 42
        }
      ]
    },
    {
      "cell_type": "markdown",
      "metadata": {
        "id": "IIMWibQLrc8-"
      },
      "source": [
        "딕셔너리 키는 열명이고, ETF 거래 코드인 `etf_ticker`는 데이터프레임의 열명입니다. 리스트는 열 데이터입니다. 열 개수 378개는 ETF 펀드 데이터 378개를 데이터프레임으로 변환한 것입니다."
      ]
    },
    {
      "cell_type": "markdown",
      "metadata": {
        "id": "zNK0H_U6tZzf"
      },
      "source": [
        "### **1.4.3. API로 데이터 가져오기**"
      ]
    }
  ]
}