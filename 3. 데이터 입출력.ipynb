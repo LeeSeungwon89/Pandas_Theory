{
  "nbformat": 4,
  "nbformat_minor": 0,
  "metadata": {
    "colab": {
      "name": "3. 데이터 입출력.ipynb",
      "provenance": [],
      "collapsed_sections": [],
      "toc_visible": true,
      "authorship_tag": "ABX9TyOcCt3vSa9IX2U4NtyKpu6P",
      "include_colab_link": true
    },
    "kernelspec": {
      "name": "python3",
      "display_name": "Python 3"
    },
    "language_info": {
      "name": "python"
    }
  },
  "cells": [
    {
      "cell_type": "markdown",
      "metadata": {
        "id": "view-in-github",
        "colab_type": "text"
      },
      "source": [
        "<a href=\"https://colab.research.google.com/github/LeeSeungwon89/Python_for_Data_Analytics_Science/blob/main/3.%20%EB%8D%B0%EC%9D%B4%ED%84%B0%20%EC%9E%85%EC%B6%9C%EB%A0%A5.ipynb\" target=\"_parent\"><img src=\"https://colab.research.google.com/assets/colab-badge.svg\" alt=\"Open In Colab\"/></a>"
      ]
    },
    {
      "cell_type": "markdown",
      "metadata": {
        "id": "XXmoFAq1sTd3"
      },
      "source": [
        "# **1. 데이터 입출력 심화**"
      ]
    },
    {
      "cell_type": "markdown",
      "metadata": {
        "id": "GPWnEZ8taxFP"
      },
      "source": [
        "데이터 입출력은 전 챕터인 **2. 데이터를 다루기 위한 파이썬 패키지**에서 약간 다뤘습니다. 이번 챕터에서는 좀 더 다양한 데이터 형식을 다루는 법과 웹 데이터를 다루는 법을 정리하겠습니다. 각종 서적, 인터넷 정보, **데이터 분석을 위한 파이썬 철저 입문(최은석, 위키북스)**, **파이썬 머신러닝 판다스 데이터 분석(오승환, 정보문화사)**을 참고했습니다."
      ]
    },
    {
      "cell_type": "code",
      "metadata": {
        "id": "7aeeg2lwg4t9",
        "colab": {
          "base_uri": "https://localhost:8080/"
        },
        "outputId": "cdcb5ccc-f4ad-4b30-c35e-94033abd87c6"
      },
      "source": [
        "from google.colab import drive\n",
        "drive.mount('/content/gdrive/')"
      ],
      "execution_count": 1,
      "outputs": [
        {
          "output_type": "stream",
          "name": "stdout",
          "text": [
            "Mounted at /content/gdrive/\n"
          ]
        }
      ]
    },
    {
      "cell_type": "code",
      "metadata": {
        "colab": {
          "base_uri": "https://localhost:8080/"
        },
        "id": "Du43C7Keg9Qi",
        "outputId": "7d788e2c-4e19-46ec-fbdb-e02e195076ae"
      },
      "source": [
        "cd /content/gdrive/MyDrive/Python_for_Data_Analytics_Science"
      ],
      "execution_count": null,
      "outputs": [
        {
          "output_type": "stream",
          "name": "stdout",
          "text": [
            "/content/gdrive/MyDrive/Python_for_Data_Analytics_Science\n"
          ]
        }
      ]
    },
    {
      "cell_type": "markdown",
      "metadata": {
        "id": "W_I82O30_yYu"
      },
      "source": [
        "데이터 분석을 시작하기 전에 먼저 필수적인 라이브러리를 호출해놓고 시작하면 편리합니다. 아래는 관련 목록입니다."
      ]
    },
    {
      "cell_type": "code",
      "metadata": {
        "id": "7qyMN8QQhOA-",
        "colab": {
          "base_uri": "https://localhost:8080/"
        },
        "outputId": "9bcef86b-8753-447d-b950-62fe6f0a2a4e"
      },
      "source": [
        "# 기본적인 라이브러리입니다.\n",
        "import time\n",
        "import random\n",
        "import math\n",
        "\n",
        "# 데이터 분석을 위한 라이브러리입니다.\n",
        "import numpy as np\n",
        "import pandas as pd\n",
        "\n",
        "# 수학 라이브러리입니다.\n",
        "import scipy as sp\n",
        "import statsmodels.api as sm\n",
        "\n",
        "# 웹 스크레이핑을 위한 라이브러리입니다\n",
        "import re\n",
        "import requests\n",
        "from bs4 import BeautifulSoup\n",
        "import os\n",
        "import json\n",
        "\n",
        "# 시각화 라이브러리입니다.\n",
        "import matplotlib as mpl\n",
        "import matplotlib.pylab as plb\n",
        "import matplotlib.pyplot as plt\n",
        "import sklearn as sk\n",
        "import seaborn as sns\n",
        "\n",
        "# 시각화 자료를 바로 띄워줍니다.\n",
        "%matplotlib inline\n",
        "\n",
        "# 그래프에 retina를 지정합니다.\n",
        "%config InlineBackend.figure_format = 'retina'\n",
        "\n",
        "# 음수 부호를 깨지지 않도록 합니다.\n",
        "mpl.rc('axes', unicode_minus=False)"
      ],
      "execution_count": 2,
      "outputs": [
        {
          "output_type": "stream",
          "name": "stderr",
          "text": [
            "/usr/local/lib/python3.7/dist-packages/statsmodels/tools/_testing.py:19: FutureWarning: pandas.util.testing is deprecated. Use the functions in the public API at pandas.testing instead.\n",
            "  import pandas.util.testing as tm\n"
          ]
        }
      ]
    },
    {
      "cell_type": "markdown",
      "metadata": {
        "id": "7tfveIMHuZIR"
      },
      "source": [
        "## **1.1. CSV**"
      ]
    },
    {
      "cell_type": "markdown",
      "metadata": {
        "id": "50PfQ6CdskMt"
      },
      "source": [
        "### **1.1.1. 파일 읽기**"
      ]
    },
    {
      "cell_type": "markdown",
      "metadata": {
        "id": "I8WKEKUEdTSq"
      },
      "source": [
        "`read_csv()` 메서드로 `csv` 파일을 읽습니다. 매개변수 `header`에 행 번호를 인자로 전달하면 해당하는 행을 열명으로 지정합니다. 기본값은 `0`이며 첫 번째 행을 열명으로 삼습니다. 아래에서 예시하겠습니다."
      ]
    },
    {
      "cell_type": "code",
      "metadata": {
        "colab": {
          "base_uri": "https://localhost:8080/",
          "height": 141
        },
        "id": "bz5db_xF5ZsI",
        "outputId": "3adaa21f-37fa-4302-d807-6505387e5648"
      },
      "source": [
        "file_path = '/content/gdrive/MyDrive/Python_for_Data_Analytics_Science/5674-833_4th/part2/read_csv_sample.csv'\n",
        "pd.read_csv(file_path)"
      ],
      "execution_count": null,
      "outputs": [
        {
          "output_type": "execute_result",
          "data": {
            "text/html": [
              "<div>\n",
              "<style scoped>\n",
              "    .dataframe tbody tr th:only-of-type {\n",
              "        vertical-align: middle;\n",
              "    }\n",
              "\n",
              "    .dataframe tbody tr th {\n",
              "        vertical-align: top;\n",
              "    }\n",
              "\n",
              "    .dataframe thead th {\n",
              "        text-align: right;\n",
              "    }\n",
              "</style>\n",
              "<table border=\"1\" class=\"dataframe\">\n",
              "  <thead>\n",
              "    <tr style=\"text-align: right;\">\n",
              "      <th></th>\n",
              "      <th>c0</th>\n",
              "      <th>c1</th>\n",
              "      <th>c2</th>\n",
              "      <th>c3</th>\n",
              "    </tr>\n",
              "  </thead>\n",
              "  <tbody>\n",
              "    <tr>\n",
              "      <th>0</th>\n",
              "      <td>0</td>\n",
              "      <td>1</td>\n",
              "      <td>4</td>\n",
              "      <td>7</td>\n",
              "    </tr>\n",
              "    <tr>\n",
              "      <th>1</th>\n",
              "      <td>1</td>\n",
              "      <td>2</td>\n",
              "      <td>5</td>\n",
              "      <td>8</td>\n",
              "    </tr>\n",
              "    <tr>\n",
              "      <th>2</th>\n",
              "      <td>2</td>\n",
              "      <td>3</td>\n",
              "      <td>6</td>\n",
              "      <td>9</td>\n",
              "    </tr>\n",
              "  </tbody>\n",
              "</table>\n",
              "</div>"
            ],
            "text/plain": [
              "   c0  c1  c2  c3\n",
              "0   0   1   4   7\n",
              "1   1   2   5   8\n",
              "2   2   3   6   9"
            ]
          },
          "metadata": {},
          "execution_count": 4
        }
      ]
    },
    {
      "cell_type": "code",
      "metadata": {
        "colab": {
          "base_uri": "https://localhost:8080/",
          "height": 111
        },
        "id": "Cz2yLOrd9S6T",
        "outputId": "3af66a3a-ac28-4692-c622-c06c2f25aa0a"
      },
      "source": [
        "pd.read_csv(file_path, header=1)"
      ],
      "execution_count": null,
      "outputs": [
        {
          "output_type": "execute_result",
          "data": {
            "text/html": [
              "<div>\n",
              "<style scoped>\n",
              "    .dataframe tbody tr th:only-of-type {\n",
              "        vertical-align: middle;\n",
              "    }\n",
              "\n",
              "    .dataframe tbody tr th {\n",
              "        vertical-align: top;\n",
              "    }\n",
              "\n",
              "    .dataframe thead th {\n",
              "        text-align: right;\n",
              "    }\n",
              "</style>\n",
              "<table border=\"1\" class=\"dataframe\">\n",
              "  <thead>\n",
              "    <tr style=\"text-align: right;\">\n",
              "      <th></th>\n",
              "      <th>0</th>\n",
              "      <th>1</th>\n",
              "      <th>4</th>\n",
              "      <th>7</th>\n",
              "    </tr>\n",
              "  </thead>\n",
              "  <tbody>\n",
              "    <tr>\n",
              "      <th>0</th>\n",
              "      <td>1</td>\n",
              "      <td>2</td>\n",
              "      <td>5</td>\n",
              "      <td>8</td>\n",
              "    </tr>\n",
              "    <tr>\n",
              "      <th>1</th>\n",
              "      <td>2</td>\n",
              "      <td>3</td>\n",
              "      <td>6</td>\n",
              "      <td>9</td>\n",
              "    </tr>\n",
              "  </tbody>\n",
              "</table>\n",
              "</div>"
            ],
            "text/plain": [
              "   0  1  4  7\n",
              "0  1  2  5  8\n",
              "1  2  3  6  9"
            ]
          },
          "metadata": {},
          "execution_count": 5
        }
      ]
    },
    {
      "cell_type": "markdown",
      "metadata": {
        "id": "I6iRPNcb7uWj"
      },
      "source": [
        "`header=None`으로 지정하면 열로 지정되지 않습니다."
      ]
    },
    {
      "cell_type": "code",
      "metadata": {
        "colab": {
          "base_uri": "https://localhost:8080/",
          "height": 172
        },
        "id": "8CZwPVrZ5lKX",
        "outputId": "159910f6-ac1a-46da-953d-6fa72e6c4a04"
      },
      "source": [
        "pd.read_csv(file_path, header=None)"
      ],
      "execution_count": null,
      "outputs": [
        {
          "output_type": "execute_result",
          "data": {
            "text/html": [
              "<div>\n",
              "<style scoped>\n",
              "    .dataframe tbody tr th:only-of-type {\n",
              "        vertical-align: middle;\n",
              "    }\n",
              "\n",
              "    .dataframe tbody tr th {\n",
              "        vertical-align: top;\n",
              "    }\n",
              "\n",
              "    .dataframe thead th {\n",
              "        text-align: right;\n",
              "    }\n",
              "</style>\n",
              "<table border=\"1\" class=\"dataframe\">\n",
              "  <thead>\n",
              "    <tr style=\"text-align: right;\">\n",
              "      <th></th>\n",
              "      <th>0</th>\n",
              "      <th>1</th>\n",
              "      <th>2</th>\n",
              "      <th>3</th>\n",
              "    </tr>\n",
              "  </thead>\n",
              "  <tbody>\n",
              "    <tr>\n",
              "      <th>0</th>\n",
              "      <td>c0</td>\n",
              "      <td>c1</td>\n",
              "      <td>c2</td>\n",
              "      <td>c3</td>\n",
              "    </tr>\n",
              "    <tr>\n",
              "      <th>1</th>\n",
              "      <td>0</td>\n",
              "      <td>1</td>\n",
              "      <td>4</td>\n",
              "      <td>7</td>\n",
              "    </tr>\n",
              "    <tr>\n",
              "      <th>2</th>\n",
              "      <td>1</td>\n",
              "      <td>2</td>\n",
              "      <td>5</td>\n",
              "      <td>8</td>\n",
              "    </tr>\n",
              "    <tr>\n",
              "      <th>3</th>\n",
              "      <td>2</td>\n",
              "      <td>3</td>\n",
              "      <td>6</td>\n",
              "      <td>9</td>\n",
              "    </tr>\n",
              "  </tbody>\n",
              "</table>\n",
              "</div>"
            ],
            "text/plain": [
              "    0   1   2   3\n",
              "0  c0  c1  c2  c3\n",
              "1   0   1   4   7\n",
              "2   1   2   5   8\n",
              "3   2   3   6   9"
            ]
          },
          "metadata": {},
          "execution_count": 6
        }
      ]
    },
    {
      "cell_type": "markdown",
      "metadata": {
        "id": "OV9onm1I78of"
      },
      "source": [
        "매개변수 `index_col`의 기본값은 `None`입니다. 인덱스로 컬럼을 지정하지 않았다는 의미입니다."
      ]
    },
    {
      "cell_type": "code",
      "metadata": {
        "colab": {
          "base_uri": "https://localhost:8080/",
          "height": 141
        },
        "id": "61lOxWPa8aX2",
        "outputId": "ce3f03fd-d053-4b33-b646-ce401314f155"
      },
      "source": [
        "pd.read_csv(file_path, index_col=None)"
      ],
      "execution_count": null,
      "outputs": [
        {
          "output_type": "execute_result",
          "data": {
            "text/html": [
              "<div>\n",
              "<style scoped>\n",
              "    .dataframe tbody tr th:only-of-type {\n",
              "        vertical-align: middle;\n",
              "    }\n",
              "\n",
              "    .dataframe tbody tr th {\n",
              "        vertical-align: top;\n",
              "    }\n",
              "\n",
              "    .dataframe thead th {\n",
              "        text-align: right;\n",
              "    }\n",
              "</style>\n",
              "<table border=\"1\" class=\"dataframe\">\n",
              "  <thead>\n",
              "    <tr style=\"text-align: right;\">\n",
              "      <th></th>\n",
              "      <th>c0</th>\n",
              "      <th>c1</th>\n",
              "      <th>c2</th>\n",
              "      <th>c3</th>\n",
              "    </tr>\n",
              "  </thead>\n",
              "  <tbody>\n",
              "    <tr>\n",
              "      <th>0</th>\n",
              "      <td>0</td>\n",
              "      <td>1</td>\n",
              "      <td>4</td>\n",
              "      <td>7</td>\n",
              "    </tr>\n",
              "    <tr>\n",
              "      <th>1</th>\n",
              "      <td>1</td>\n",
              "      <td>2</td>\n",
              "      <td>5</td>\n",
              "      <td>8</td>\n",
              "    </tr>\n",
              "    <tr>\n",
              "      <th>2</th>\n",
              "      <td>2</td>\n",
              "      <td>3</td>\n",
              "      <td>6</td>\n",
              "      <td>9</td>\n",
              "    </tr>\n",
              "  </tbody>\n",
              "</table>\n",
              "</div>"
            ],
            "text/plain": [
              "   c0  c1  c2  c3\n",
              "0   0   1   4   7\n",
              "1   1   2   5   8\n",
              "2   2   3   6   9"
            ]
          },
          "metadata": {},
          "execution_count": 7
        }
      ]
    },
    {
      "cell_type": "markdown",
      "metadata": {
        "id": "57X6S1BC_Ww5"
      },
      "source": [
        "`index_col` 매개변수에 'c1' 열을 전달하겠습니다."
      ]
    },
    {
      "cell_type": "code",
      "metadata": {
        "colab": {
          "base_uri": "https://localhost:8080/",
          "height": 172
        },
        "id": "bVPz43L-_dyv",
        "outputId": "fffb4f82-b68a-41bf-9471-c9b6518f607c"
      },
      "source": [
        "pd.read_csv(file_path, index_col=['c1'])"
      ],
      "execution_count": null,
      "outputs": [
        {
          "output_type": "execute_result",
          "data": {
            "text/html": [
              "<div>\n",
              "<style scoped>\n",
              "    .dataframe tbody tr th:only-of-type {\n",
              "        vertical-align: middle;\n",
              "    }\n",
              "\n",
              "    .dataframe tbody tr th {\n",
              "        vertical-align: top;\n",
              "    }\n",
              "\n",
              "    .dataframe thead th {\n",
              "        text-align: right;\n",
              "    }\n",
              "</style>\n",
              "<table border=\"1\" class=\"dataframe\">\n",
              "  <thead>\n",
              "    <tr style=\"text-align: right;\">\n",
              "      <th></th>\n",
              "      <th>c0</th>\n",
              "      <th>c2</th>\n",
              "      <th>c3</th>\n",
              "    </tr>\n",
              "    <tr>\n",
              "      <th>c1</th>\n",
              "      <th></th>\n",
              "      <th></th>\n",
              "      <th></th>\n",
              "    </tr>\n",
              "  </thead>\n",
              "  <tbody>\n",
              "    <tr>\n",
              "      <th>1</th>\n",
              "      <td>0</td>\n",
              "      <td>4</td>\n",
              "      <td>7</td>\n",
              "    </tr>\n",
              "    <tr>\n",
              "      <th>2</th>\n",
              "      <td>1</td>\n",
              "      <td>5</td>\n",
              "      <td>8</td>\n",
              "    </tr>\n",
              "    <tr>\n",
              "      <th>3</th>\n",
              "      <td>2</td>\n",
              "      <td>6</td>\n",
              "      <td>9</td>\n",
              "    </tr>\n",
              "  </tbody>\n",
              "</table>\n",
              "</div>"
            ],
            "text/plain": [
              "    c0  c2  c3\n",
              "c1            \n",
              "1    0   4   7\n",
              "2    1   5   8\n",
              "3    2   6   9"
            ]
          },
          "metadata": {},
          "execution_count": 8
        }
      ]
    },
    {
      "cell_type": "markdown",
      "metadata": {
        "id": "sW_P8-1q_tYK"
      },
      "source": [
        "다중으로 전달할 수도 있습니다."
      ]
    },
    {
      "cell_type": "code",
      "metadata": {
        "colab": {
          "base_uri": "https://localhost:8080/",
          "height": 172
        },
        "id": "jhFqkhRA_p5z",
        "outputId": "8992510c-adf8-4b73-ed8a-d9fcf4fbe8de"
      },
      "source": [
        "pd.read_csv(file_path, index_col=['c1', 'c0'])"
      ],
      "execution_count": null,
      "outputs": [
        {
          "output_type": "execute_result",
          "data": {
            "text/html": [
              "<div>\n",
              "<style scoped>\n",
              "    .dataframe tbody tr th:only-of-type {\n",
              "        vertical-align: middle;\n",
              "    }\n",
              "\n",
              "    .dataframe tbody tr th {\n",
              "        vertical-align: top;\n",
              "    }\n",
              "\n",
              "    .dataframe thead th {\n",
              "        text-align: right;\n",
              "    }\n",
              "</style>\n",
              "<table border=\"1\" class=\"dataframe\">\n",
              "  <thead>\n",
              "    <tr style=\"text-align: right;\">\n",
              "      <th></th>\n",
              "      <th></th>\n",
              "      <th>c2</th>\n",
              "      <th>c3</th>\n",
              "    </tr>\n",
              "    <tr>\n",
              "      <th>c1</th>\n",
              "      <th>c0</th>\n",
              "      <th></th>\n",
              "      <th></th>\n",
              "    </tr>\n",
              "  </thead>\n",
              "  <tbody>\n",
              "    <tr>\n",
              "      <th>1</th>\n",
              "      <th>0</th>\n",
              "      <td>4</td>\n",
              "      <td>7</td>\n",
              "    </tr>\n",
              "    <tr>\n",
              "      <th>2</th>\n",
              "      <th>1</th>\n",
              "      <td>5</td>\n",
              "      <td>8</td>\n",
              "    </tr>\n",
              "    <tr>\n",
              "      <th>3</th>\n",
              "      <th>2</th>\n",
              "      <td>6</td>\n",
              "      <td>9</td>\n",
              "    </tr>\n",
              "  </tbody>\n",
              "</table>\n",
              "</div>"
            ],
            "text/plain": [
              "       c2  c3\n",
              "c1 c0        \n",
              "1  0    4   7\n",
              "2  1    5   8\n",
              "3  2    6   9"
            ]
          },
          "metadata": {},
          "execution_count": 9
        }
      ]
    },
    {
      "cell_type": "markdown",
      "metadata": {
        "id": "02e9jX1d_6Sj"
      },
      "source": [
        "몇 가지 주요 매개변수에 대한 목록은 아래와 같습니다.\n",
        "\n",
        "- `sep` or `delimiter`: 각각 데이터를 구분한 구분자를 전달합니다.\n",
        "\n",
        "- `names`: 열명으로 사용할 문자열 리스트를 전달합니다.\n",
        "\n",
        "- `skiprows`: 처음 몇 줄을 스킵할 것인지 설정합니다. 예컨대 `[0, 1]`로 지정하면 0행과 1행은 출력하지 않습니다.\n",
        "\n",
        "- `parse_dates`: 날짜 텍스트를 `datatime64` 형으로 바꿀지 설정합니다. 기본값은 `False`입니다.\n",
        "\n",
        "- `skip_footer`: 마지막 몇 줄을 스킵할 것인지 설정합니다.\n",
        "\n",
        "- `encoding`: 텍스트 인코딩 유형을 지정합니다."
      ]
    },
    {
      "cell_type": "markdown",
      "metadata": {
        "id": "dJhN8EfwuVFk"
      },
      "source": [
        "### **1.1.2. 파일 저장하기**"
      ]
    },
    {
      "cell_type": "markdown",
      "metadata": {
        "id": "TYQ4l0TMBfDp"
      },
      "source": [
        "`to_csv()` 메서드로 `csv` 파일로 저장할 수 있습니다."
      ]
    },
    {
      "cell_type": "code",
      "metadata": {
        "colab": {
          "base_uri": "https://localhost:8080/",
          "height": 141
        },
        "id": "vO7CFXbLBxXy",
        "outputId": "3ab5c670-a517-4978-a333-d788cb4682bd"
      },
      "source": [
        "csv_data = {'name': ['Jerry', 'Riah', 'Paul'],\n",
        "            'algol': ['A', 'A+', 'B'],\n",
        "            'basic': ['C', 'B', 'B+'],\n",
        "            'c++': ['B+', 'C', 'C+']}\n",
        "df_csv = pd.DataFrame(csv_data)\n",
        "df_csv"
      ],
      "execution_count": null,
      "outputs": [
        {
          "output_type": "execute_result",
          "data": {
            "text/html": [
              "<div>\n",
              "<style scoped>\n",
              "    .dataframe tbody tr th:only-of-type {\n",
              "        vertical-align: middle;\n",
              "    }\n",
              "\n",
              "    .dataframe tbody tr th {\n",
              "        vertical-align: top;\n",
              "    }\n",
              "\n",
              "    .dataframe thead th {\n",
              "        text-align: right;\n",
              "    }\n",
              "</style>\n",
              "<table border=\"1\" class=\"dataframe\">\n",
              "  <thead>\n",
              "    <tr style=\"text-align: right;\">\n",
              "      <th></th>\n",
              "      <th>name</th>\n",
              "      <th>algol</th>\n",
              "      <th>basic</th>\n",
              "      <th>c++</th>\n",
              "    </tr>\n",
              "  </thead>\n",
              "  <tbody>\n",
              "    <tr>\n",
              "      <th>0</th>\n",
              "      <td>Jerry</td>\n",
              "      <td>A</td>\n",
              "      <td>C</td>\n",
              "      <td>B+</td>\n",
              "    </tr>\n",
              "    <tr>\n",
              "      <th>1</th>\n",
              "      <td>Riah</td>\n",
              "      <td>A+</td>\n",
              "      <td>B</td>\n",
              "      <td>C</td>\n",
              "    </tr>\n",
              "    <tr>\n",
              "      <th>2</th>\n",
              "      <td>Paul</td>\n",
              "      <td>B</td>\n",
              "      <td>B+</td>\n",
              "      <td>C+</td>\n",
              "    </tr>\n",
              "  </tbody>\n",
              "</table>\n",
              "</div>"
            ],
            "text/plain": [
              "    name algol basic c++\n",
              "0  Jerry     A     C  B+\n",
              "1   Riah    A+     B   C\n",
              "2   Paul     B    B+  C+"
            ]
          },
          "metadata": {},
          "execution_count": 10
        }
      ]
    },
    {
      "cell_type": "markdown",
      "metadata": {
        "id": "YhEXtUBRNAq7"
      },
      "source": [
        "인덱스를 'name'으로 지정하겠습니다."
      ]
    },
    {
      "cell_type": "code",
      "metadata": {
        "colab": {
          "base_uri": "https://localhost:8080/",
          "height": 172
        },
        "id": "tfWZlUpBM_6z",
        "outputId": "ea8b4c39-783a-4264-915c-7ce9e95d8870"
      },
      "source": [
        "df_csv.set_index('name', inplace=True)\n",
        "df_csv"
      ],
      "execution_count": null,
      "outputs": [
        {
          "output_type": "execute_result",
          "data": {
            "text/html": [
              "<div>\n",
              "<style scoped>\n",
              "    .dataframe tbody tr th:only-of-type {\n",
              "        vertical-align: middle;\n",
              "    }\n",
              "\n",
              "    .dataframe tbody tr th {\n",
              "        vertical-align: top;\n",
              "    }\n",
              "\n",
              "    .dataframe thead th {\n",
              "        text-align: right;\n",
              "    }\n",
              "</style>\n",
              "<table border=\"1\" class=\"dataframe\">\n",
              "  <thead>\n",
              "    <tr style=\"text-align: right;\">\n",
              "      <th></th>\n",
              "      <th>algol</th>\n",
              "      <th>basic</th>\n",
              "      <th>c++</th>\n",
              "    </tr>\n",
              "    <tr>\n",
              "      <th>name</th>\n",
              "      <th></th>\n",
              "      <th></th>\n",
              "      <th></th>\n",
              "    </tr>\n",
              "  </thead>\n",
              "  <tbody>\n",
              "    <tr>\n",
              "      <th>Jerry</th>\n",
              "      <td>A</td>\n",
              "      <td>C</td>\n",
              "      <td>B+</td>\n",
              "    </tr>\n",
              "    <tr>\n",
              "      <th>Riah</th>\n",
              "      <td>A+</td>\n",
              "      <td>B</td>\n",
              "      <td>C</td>\n",
              "    </tr>\n",
              "    <tr>\n",
              "      <th>Paul</th>\n",
              "      <td>B</td>\n",
              "      <td>B+</td>\n",
              "      <td>C+</td>\n",
              "    </tr>\n",
              "  </tbody>\n",
              "</table>\n",
              "</div>"
            ],
            "text/plain": [
              "      algol basic c++\n",
              "name                 \n",
              "Jerry     A     C  B+\n",
              "Riah     A+     B   C\n",
              "Paul      B    B+  C+"
            ]
          },
          "metadata": {},
          "execution_count": 11
        }
      ]
    },
    {
      "cell_type": "markdown",
      "metadata": {
        "id": "z6exOka5N4VI"
      },
      "source": [
        "`csv` 파일로 저장하겠습니다. `sep` 매개변수에 구분자를 공백(`' '`)으로 지정하고 `encoding` 매개변수에 문자형을 `'cp949'`로 지정하겠습니다."
      ]
    },
    {
      "cell_type": "code",
      "metadata": {
        "id": "Z8SrlO2rN8Pc"
      },
      "source": [
        "df_csv.to_csv('/content/gdrive/MyDrive/Python_for_Data_Analytics_Science/to_csv2.csv',\n",
        "              sep=',', encoding='cp949')"
      ],
      "execution_count": null,
      "outputs": []
    },
    {
      "cell_type": "markdown",
      "metadata": {
        "id": "Dc9sGOhMuKco"
      },
      "source": [
        "## **1.2. 엑셀**"
      ]
    },
    {
      "cell_type": "markdown",
      "metadata": {
        "id": "Lcb42TQWskI1"
      },
      "source": [
        "### **1.2.1. 파일 읽기**"
      ]
    },
    {
      "cell_type": "markdown",
      "metadata": {
        "id": "yfXoCttnwzBa"
      },
      "source": [
        "`read_excel()` 메서드는 `read_csv()` 메서드와 사용법이 거의 같으며 모든 매개변수를 동일하게 가지고 있습니다. `engine` 매개변수의 경우 `xlsx` 파일이면 `openpyxl`을 인자로 지정하고, `xls` 파일이면 `xlrd`를 인자로 지정합니다."
      ]
    },
    {
      "cell_type": "code",
      "metadata": {
        "colab": {
          "base_uri": "https://localhost:8080/",
          "height": 634
        },
        "id": "aco2HjSV0jI7",
        "outputId": "44c64913-cde2-47d4-c59b-8b14fc72a79c"
      },
      "source": [
        "file_path = '/content/gdrive/MyDrive/Python_for_Data_Analytics_Science/5674-833_4th/part2/남북한발전전력량.xlsx'\n",
        "pd.read_excel(file_path, engine='openpyxl')"
      ],
      "execution_count": null,
      "outputs": [
        {
          "output_type": "execute_result",
          "data": {
            "text/html": [
              "<div>\n",
              "<style scoped>\n",
              "    .dataframe tbody tr th:only-of-type {\n",
              "        vertical-align: middle;\n",
              "    }\n",
              "\n",
              "    .dataframe tbody tr th {\n",
              "        vertical-align: top;\n",
              "    }\n",
              "\n",
              "    .dataframe thead th {\n",
              "        text-align: right;\n",
              "    }\n",
              "</style>\n",
              "<table border=\"1\" class=\"dataframe\">\n",
              "  <thead>\n",
              "    <tr style=\"text-align: right;\">\n",
              "      <th></th>\n",
              "      <th>전력량 (억㎾h)</th>\n",
              "      <th>발전 전력별</th>\n",
              "      <th>1990</th>\n",
              "      <th>1991</th>\n",
              "      <th>1992</th>\n",
              "      <th>1993</th>\n",
              "      <th>1994</th>\n",
              "      <th>1995</th>\n",
              "      <th>1996</th>\n",
              "      <th>1997</th>\n",
              "      <th>1998</th>\n",
              "      <th>1999</th>\n",
              "      <th>2000</th>\n",
              "      <th>2001</th>\n",
              "      <th>2002</th>\n",
              "      <th>2003</th>\n",
              "      <th>2004</th>\n",
              "      <th>2005</th>\n",
              "      <th>2006</th>\n",
              "      <th>2007</th>\n",
              "      <th>2008</th>\n",
              "      <th>2009</th>\n",
              "      <th>2010</th>\n",
              "      <th>2011</th>\n",
              "      <th>2012</th>\n",
              "      <th>2013</th>\n",
              "      <th>2014</th>\n",
              "      <th>2015</th>\n",
              "      <th>2016</th>\n",
              "    </tr>\n",
              "  </thead>\n",
              "  <tbody>\n",
              "    <tr>\n",
              "      <th>0</th>\n",
              "      <td>남한</td>\n",
              "      <td>합계</td>\n",
              "      <td>1077</td>\n",
              "      <td>1186</td>\n",
              "      <td>1310</td>\n",
              "      <td>1444</td>\n",
              "      <td>1650</td>\n",
              "      <td>1847</td>\n",
              "      <td>2055</td>\n",
              "      <td>2244</td>\n",
              "      <td>2153</td>\n",
              "      <td>2393</td>\n",
              "      <td>2664</td>\n",
              "      <td>2852</td>\n",
              "      <td>3065</td>\n",
              "      <td>3225</td>\n",
              "      <td>3421</td>\n",
              "      <td>3646</td>\n",
              "      <td>3812</td>\n",
              "      <td>4031</td>\n",
              "      <td>4224</td>\n",
              "      <td>4336</td>\n",
              "      <td>4747</td>\n",
              "      <td>4969</td>\n",
              "      <td>5096</td>\n",
              "      <td>5171</td>\n",
              "      <td>5220</td>\n",
              "      <td>5281</td>\n",
              "      <td>5404</td>\n",
              "    </tr>\n",
              "    <tr>\n",
              "      <th>1</th>\n",
              "      <td>NaN</td>\n",
              "      <td>수력</td>\n",
              "      <td>64</td>\n",
              "      <td>51</td>\n",
              "      <td>49</td>\n",
              "      <td>60</td>\n",
              "      <td>41</td>\n",
              "      <td>55</td>\n",
              "      <td>52</td>\n",
              "      <td>54</td>\n",
              "      <td>61</td>\n",
              "      <td>61</td>\n",
              "      <td>56</td>\n",
              "      <td>42</td>\n",
              "      <td>53</td>\n",
              "      <td>69</td>\n",
              "      <td>59</td>\n",
              "      <td>52</td>\n",
              "      <td>52</td>\n",
              "      <td>50</td>\n",
              "      <td>56</td>\n",
              "      <td>56</td>\n",
              "      <td>65</td>\n",
              "      <td>78</td>\n",
              "      <td>77</td>\n",
              "      <td>84</td>\n",
              "      <td>78</td>\n",
              "      <td>58</td>\n",
              "      <td>66</td>\n",
              "    </tr>\n",
              "    <tr>\n",
              "      <th>2</th>\n",
              "      <td>NaN</td>\n",
              "      <td>화력</td>\n",
              "      <td>484</td>\n",
              "      <td>573</td>\n",
              "      <td>696</td>\n",
              "      <td>803</td>\n",
              "      <td>1022</td>\n",
              "      <td>1122</td>\n",
              "      <td>1264</td>\n",
              "      <td>1420</td>\n",
              "      <td>1195</td>\n",
              "      <td>1302</td>\n",
              "      <td>1518</td>\n",
              "      <td>1689</td>\n",
              "      <td>1821</td>\n",
              "      <td>1859</td>\n",
              "      <td>2056</td>\n",
              "      <td>2127</td>\n",
              "      <td>2272</td>\n",
              "      <td>2551</td>\n",
              "      <td>2658</td>\n",
              "      <td>2802</td>\n",
              "      <td>3196</td>\n",
              "      <td>3343</td>\n",
              "      <td>3430</td>\n",
              "      <td>3581</td>\n",
              "      <td>3427</td>\n",
              "      <td>3402</td>\n",
              "      <td>3523</td>\n",
              "    </tr>\n",
              "    <tr>\n",
              "      <th>3</th>\n",
              "      <td>NaN</td>\n",
              "      <td>원자력</td>\n",
              "      <td>529</td>\n",
              "      <td>563</td>\n",
              "      <td>565</td>\n",
              "      <td>581</td>\n",
              "      <td>587</td>\n",
              "      <td>670</td>\n",
              "      <td>739</td>\n",
              "      <td>771</td>\n",
              "      <td>897</td>\n",
              "      <td>1031</td>\n",
              "      <td>1090</td>\n",
              "      <td>1121</td>\n",
              "      <td>1191</td>\n",
              "      <td>1297</td>\n",
              "      <td>1307</td>\n",
              "      <td>1468</td>\n",
              "      <td>1487</td>\n",
              "      <td>1429</td>\n",
              "      <td>1510</td>\n",
              "      <td>1478</td>\n",
              "      <td>1486</td>\n",
              "      <td>1547</td>\n",
              "      <td>1503</td>\n",
              "      <td>1388</td>\n",
              "      <td>1564</td>\n",
              "      <td>1648</td>\n",
              "      <td>1620</td>\n",
              "    </tr>\n",
              "    <tr>\n",
              "      <th>4</th>\n",
              "      <td>NaN</td>\n",
              "      <td>신재생</td>\n",
              "      <td>-</td>\n",
              "      <td>-</td>\n",
              "      <td>-</td>\n",
              "      <td>-</td>\n",
              "      <td>-</td>\n",
              "      <td>-</td>\n",
              "      <td>-</td>\n",
              "      <td>-</td>\n",
              "      <td>-</td>\n",
              "      <td>-</td>\n",
              "      <td>-</td>\n",
              "      <td>-</td>\n",
              "      <td>-</td>\n",
              "      <td>-</td>\n",
              "      <td>-</td>\n",
              "      <td>-</td>\n",
              "      <td>-</td>\n",
              "      <td>-</td>\n",
              "      <td>-</td>\n",
              "      <td>-</td>\n",
              "      <td>-</td>\n",
              "      <td>-</td>\n",
              "      <td>86</td>\n",
              "      <td>118</td>\n",
              "      <td>151</td>\n",
              "      <td>173</td>\n",
              "      <td>195</td>\n",
              "    </tr>\n",
              "    <tr>\n",
              "      <th>5</th>\n",
              "      <td>북한</td>\n",
              "      <td>합계</td>\n",
              "      <td>277</td>\n",
              "      <td>263</td>\n",
              "      <td>247</td>\n",
              "      <td>221</td>\n",
              "      <td>231</td>\n",
              "      <td>230</td>\n",
              "      <td>213</td>\n",
              "      <td>193</td>\n",
              "      <td>170</td>\n",
              "      <td>186</td>\n",
              "      <td>194</td>\n",
              "      <td>202</td>\n",
              "      <td>190</td>\n",
              "      <td>196</td>\n",
              "      <td>206</td>\n",
              "      <td>215</td>\n",
              "      <td>225</td>\n",
              "      <td>236</td>\n",
              "      <td>255</td>\n",
              "      <td>235</td>\n",
              "      <td>237</td>\n",
              "      <td>211</td>\n",
              "      <td>215</td>\n",
              "      <td>221</td>\n",
              "      <td>216</td>\n",
              "      <td>190</td>\n",
              "      <td>239</td>\n",
              "    </tr>\n",
              "    <tr>\n",
              "      <th>6</th>\n",
              "      <td>NaN</td>\n",
              "      <td>수력</td>\n",
              "      <td>156</td>\n",
              "      <td>150</td>\n",
              "      <td>142</td>\n",
              "      <td>133</td>\n",
              "      <td>138</td>\n",
              "      <td>142</td>\n",
              "      <td>125</td>\n",
              "      <td>107</td>\n",
              "      <td>102</td>\n",
              "      <td>103</td>\n",
              "      <td>102</td>\n",
              "      <td>106</td>\n",
              "      <td>106</td>\n",
              "      <td>117</td>\n",
              "      <td>125</td>\n",
              "      <td>131</td>\n",
              "      <td>126</td>\n",
              "      <td>133</td>\n",
              "      <td>141</td>\n",
              "      <td>125</td>\n",
              "      <td>134</td>\n",
              "      <td>132</td>\n",
              "      <td>135</td>\n",
              "      <td>139</td>\n",
              "      <td>130</td>\n",
              "      <td>100</td>\n",
              "      <td>128</td>\n",
              "    </tr>\n",
              "    <tr>\n",
              "      <th>7</th>\n",
              "      <td>NaN</td>\n",
              "      <td>화력</td>\n",
              "      <td>121</td>\n",
              "      <td>113</td>\n",
              "      <td>105</td>\n",
              "      <td>88</td>\n",
              "      <td>93</td>\n",
              "      <td>88</td>\n",
              "      <td>88</td>\n",
              "      <td>86</td>\n",
              "      <td>68</td>\n",
              "      <td>83</td>\n",
              "      <td>92</td>\n",
              "      <td>96</td>\n",
              "      <td>84</td>\n",
              "      <td>79</td>\n",
              "      <td>81</td>\n",
              "      <td>84</td>\n",
              "      <td>99</td>\n",
              "      <td>103</td>\n",
              "      <td>114</td>\n",
              "      <td>110</td>\n",
              "      <td>103</td>\n",
              "      <td>79</td>\n",
              "      <td>80</td>\n",
              "      <td>82</td>\n",
              "      <td>86</td>\n",
              "      <td>90</td>\n",
              "      <td>111</td>\n",
              "    </tr>\n",
              "    <tr>\n",
              "      <th>8</th>\n",
              "      <td>NaN</td>\n",
              "      <td>원자력</td>\n",
              "      <td>-</td>\n",
              "      <td>-</td>\n",
              "      <td>-</td>\n",
              "      <td>-</td>\n",
              "      <td>-</td>\n",
              "      <td>-</td>\n",
              "      <td>-</td>\n",
              "      <td>-</td>\n",
              "      <td>-</td>\n",
              "      <td>-</td>\n",
              "      <td>-</td>\n",
              "      <td>-</td>\n",
              "      <td>-</td>\n",
              "      <td>-</td>\n",
              "      <td>-</td>\n",
              "      <td>-</td>\n",
              "      <td>-</td>\n",
              "      <td>-</td>\n",
              "      <td>-</td>\n",
              "      <td>-</td>\n",
              "      <td>-</td>\n",
              "      <td>-</td>\n",
              "      <td>-</td>\n",
              "      <td>-</td>\n",
              "      <td>-</td>\n",
              "      <td>-</td>\n",
              "      <td>-</td>\n",
              "    </tr>\n",
              "  </tbody>\n",
              "</table>\n",
              "</div>"
            ],
            "text/plain": [
              "  전력량 (억㎾h) 발전 전력별  1990  1991  1992  1993  ...  2011  2012  2013  2014  2015  2016\n",
              "0        남한     합계  1077  1186  1310  1444  ...  4969  5096  5171  5220  5281  5404\n",
              "1       NaN     수력    64    51    49    60  ...    78    77    84    78    58    66\n",
              "2       NaN     화력   484   573   696   803  ...  3343  3430  3581  3427  3402  3523\n",
              "3       NaN    원자력   529   563   565   581  ...  1547  1503  1388  1564  1648  1620\n",
              "4       NaN    신재생     -     -     -     -  ...     -    86   118   151   173   195\n",
              "5        북한     합계   277   263   247   221  ...   211   215   221   216   190   239\n",
              "6       NaN     수력   156   150   142   133  ...   132   135   139   130   100   128\n",
              "7       NaN     화력   121   113   105    88  ...    79    80    82    86    90   111\n",
              "8       NaN    원자력     -     -     -     -  ...     -     -     -     -     -     -\n",
              "\n",
              "[9 rows x 29 columns]"
            ]
          },
          "metadata": {},
          "execution_count": 13
        }
      ]
    },
    {
      "cell_type": "markdown",
      "metadata": {
        "id": "RjCZiW8yoB37"
      },
      "source": [
        "이번에는 직접 생성한 엑셀 파일의 두 번째 시트인 '3월 판매량'을 읽겠습니다. `sheet_name` 매개변수에 `시트 순서 - 1`인 `1`로 지정하거나 시트명인 `'3월 판매량'`을 지정합니다."
      ]
    },
    {
      "cell_type": "code",
      "metadata": {
        "colab": {
          "base_uri": "https://localhost:8080/",
          "height": 204
        },
        "id": "XhtJAtyAojmh",
        "outputId": "f53f306e-aa9c-467b-9403-ff36596732d1"
      },
      "source": [
        "file_path = '/content/gdrive/MyDrive/Python_for_Data_Analytics_Science/직원별 판매량.xlsx'\n",
        "pd.read_excel(file_path, sheet_name=1)"
      ],
      "execution_count": null,
      "outputs": [
        {
          "output_type": "execute_result",
          "data": {
            "text/html": [
              "<div>\n",
              "<style scoped>\n",
              "    .dataframe tbody tr th:only-of-type {\n",
              "        vertical-align: middle;\n",
              "    }\n",
              "\n",
              "    .dataframe tbody tr th {\n",
              "        vertical-align: top;\n",
              "    }\n",
              "\n",
              "    .dataframe thead th {\n",
              "        text-align: right;\n",
              "    }\n",
              "</style>\n",
              "<table border=\"1\" class=\"dataframe\">\n",
              "  <thead>\n",
              "    <tr style=\"text-align: right;\">\n",
              "      <th></th>\n",
              "      <th>성명</th>\n",
              "      <th>마우스</th>\n",
              "      <th>키보드</th>\n",
              "      <th>모니터</th>\n",
              "      <th>스피커</th>\n",
              "    </tr>\n",
              "  </thead>\n",
              "  <tbody>\n",
              "    <tr>\n",
              "      <th>0</th>\n",
              "      <td>임정섭</td>\n",
              "      <td>63</td>\n",
              "      <td>72</td>\n",
              "      <td>37</td>\n",
              "      <td>83</td>\n",
              "    </tr>\n",
              "    <tr>\n",
              "      <th>1</th>\n",
              "      <td>박종인</td>\n",
              "      <td>48</td>\n",
              "      <td>11</td>\n",
              "      <td>54</td>\n",
              "      <td>21</td>\n",
              "    </tr>\n",
              "    <tr>\n",
              "      <th>2</th>\n",
              "      <td>강원희</td>\n",
              "      <td>69</td>\n",
              "      <td>32</td>\n",
              "      <td>46</td>\n",
              "      <td>24</td>\n",
              "    </tr>\n",
              "    <tr>\n",
              "      <th>3</th>\n",
              "      <td>최중규</td>\n",
              "      <td>68</td>\n",
              "      <td>27</td>\n",
              "      <td>23</td>\n",
              "      <td>52</td>\n",
              "    </tr>\n",
              "    <tr>\n",
              "      <th>4</th>\n",
              "      <td>이한정</td>\n",
              "      <td>84</td>\n",
              "      <td>57</td>\n",
              "      <td>16</td>\n",
              "      <td>85</td>\n",
              "    </tr>\n",
              "  </tbody>\n",
              "</table>\n",
              "</div>"
            ],
            "text/plain": [
              "    성명  마우스  키보드  모니터  스피커\n",
              "0  임정섭   63   72   37   83\n",
              "1  박종인   48   11   54   21\n",
              "2  강원희   69   32   46   24\n",
              "3  최중규   68   27   23   52\n",
              "4  이한정   84   57   16   85"
            ]
          },
          "metadata": {},
          "execution_count": 14
        }
      ]
    },
    {
      "cell_type": "markdown",
      "metadata": {
        "id": "E9SVhQkUule-"
      },
      "source": [
        "### **1.2.2. 파일 저장하기**"
      ]
    },
    {
      "cell_type": "markdown",
      "metadata": {
        "id": "7DLt3a3n01Rh"
      },
      "source": [
        "`to_excel()` 메서드를 사용하면 엑셀 파일로 저장합니다. `csv` 파일과 같은 방식으로 적용하겠습니다."
      ]
    },
    {
      "cell_type": "code",
      "metadata": {
        "colab": {
          "base_uri": "https://localhost:8080/",
          "height": 141
        },
        "id": "sD91VMwG1HHw",
        "outputId": "48cc9ff5-e4ab-41c4-b4b9-3ff44bb40d30"
      },
      "source": [
        "excel_data = {'name': ['Jerry', 'Riah', 'Paul'],\n",
        "            'algol': ['A', 'A+', 'B'],\n",
        "            'basic': ['C', 'B', 'B+'],\n",
        "            'c++': ['B+', 'C', 'C+']}\n",
        "df_excel = pd.DataFrame(excel_data)\n",
        "df_excel"
      ],
      "execution_count": null,
      "outputs": [
        {
          "output_type": "execute_result",
          "data": {
            "text/html": [
              "<div>\n",
              "<style scoped>\n",
              "    .dataframe tbody tr th:only-of-type {\n",
              "        vertical-align: middle;\n",
              "    }\n",
              "\n",
              "    .dataframe tbody tr th {\n",
              "        vertical-align: top;\n",
              "    }\n",
              "\n",
              "    .dataframe thead th {\n",
              "        text-align: right;\n",
              "    }\n",
              "</style>\n",
              "<table border=\"1\" class=\"dataframe\">\n",
              "  <thead>\n",
              "    <tr style=\"text-align: right;\">\n",
              "      <th></th>\n",
              "      <th>name</th>\n",
              "      <th>algol</th>\n",
              "      <th>basic</th>\n",
              "      <th>c++</th>\n",
              "    </tr>\n",
              "  </thead>\n",
              "  <tbody>\n",
              "    <tr>\n",
              "      <th>0</th>\n",
              "      <td>Jerry</td>\n",
              "      <td>A</td>\n",
              "      <td>C</td>\n",
              "      <td>B+</td>\n",
              "    </tr>\n",
              "    <tr>\n",
              "      <th>1</th>\n",
              "      <td>Riah</td>\n",
              "      <td>A+</td>\n",
              "      <td>B</td>\n",
              "      <td>C</td>\n",
              "    </tr>\n",
              "    <tr>\n",
              "      <th>2</th>\n",
              "      <td>Paul</td>\n",
              "      <td>B</td>\n",
              "      <td>B+</td>\n",
              "      <td>C+</td>\n",
              "    </tr>\n",
              "  </tbody>\n",
              "</table>\n",
              "</div>"
            ],
            "text/plain": [
              "    name algol basic c++\n",
              "0  Jerry     A     C  B+\n",
              "1   Riah    A+     B   C\n",
              "2   Paul     B    B+  C+"
            ]
          },
          "metadata": {},
          "execution_count": 15
        }
      ]
    },
    {
      "cell_type": "code",
      "metadata": {
        "colab": {
          "base_uri": "https://localhost:8080/",
          "height": 172
        },
        "id": "wMmiNdhs1jCT",
        "outputId": "89079b6e-5bd3-47ac-fb69-4d4cf9d01aff"
      },
      "source": [
        "df_excel.set_index('name', inplace=True)\n",
        "df_excel"
      ],
      "execution_count": null,
      "outputs": [
        {
          "output_type": "execute_result",
          "data": {
            "text/html": [
              "<div>\n",
              "<style scoped>\n",
              "    .dataframe tbody tr th:only-of-type {\n",
              "        vertical-align: middle;\n",
              "    }\n",
              "\n",
              "    .dataframe tbody tr th {\n",
              "        vertical-align: top;\n",
              "    }\n",
              "\n",
              "    .dataframe thead th {\n",
              "        text-align: right;\n",
              "    }\n",
              "</style>\n",
              "<table border=\"1\" class=\"dataframe\">\n",
              "  <thead>\n",
              "    <tr style=\"text-align: right;\">\n",
              "      <th></th>\n",
              "      <th>algol</th>\n",
              "      <th>basic</th>\n",
              "      <th>c++</th>\n",
              "    </tr>\n",
              "    <tr>\n",
              "      <th>name</th>\n",
              "      <th></th>\n",
              "      <th></th>\n",
              "      <th></th>\n",
              "    </tr>\n",
              "  </thead>\n",
              "  <tbody>\n",
              "    <tr>\n",
              "      <th>Jerry</th>\n",
              "      <td>A</td>\n",
              "      <td>C</td>\n",
              "      <td>B+</td>\n",
              "    </tr>\n",
              "    <tr>\n",
              "      <th>Riah</th>\n",
              "      <td>A+</td>\n",
              "      <td>B</td>\n",
              "      <td>C</td>\n",
              "    </tr>\n",
              "    <tr>\n",
              "      <th>Paul</th>\n",
              "      <td>B</td>\n",
              "      <td>B+</td>\n",
              "      <td>C+</td>\n",
              "    </tr>\n",
              "  </tbody>\n",
              "</table>\n",
              "</div>"
            ],
            "text/plain": [
              "      algol basic c++\n",
              "name                 \n",
              "Jerry     A     C  B+\n",
              "Riah     A+     B   C\n",
              "Paul      B    B+  C+"
            ]
          },
          "metadata": {},
          "execution_count": 16
        }
      ]
    },
    {
      "cell_type": "code",
      "metadata": {
        "id": "23Z7K5Xi1pvN"
      },
      "source": [
        "df_excel.to_excel('/content/gdrive/MyDrive/Python_for_Data_Analytics_Science/to_excel.xlsx')"
      ],
      "execution_count": null,
      "outputs": []
    },
    {
      "cell_type": "markdown",
      "metadata": {
        "id": "-EcnKzha8mfT"
      },
      "source": [
        "여러 데이터프레임을 엑셀 파일 하나에 저장할 수 있습니다. 먼저 데이터프레임을 두 개 만들겠습니다."
      ]
    },
    {
      "cell_type": "code",
      "metadata": {
        "id": "Je2edWx58mJw"
      },
      "source": [
        "excel_data1 = {'name': ['Jerry', 'Riah', 'Paul'],\n",
        "            'algol': ['A', 'A+', 'B'],\n",
        "            'basic': ['C', 'B', 'B+'],\n",
        "            'c++': ['B+', 'C', 'C+']}\n",
        "\n",
        "excel_data2 = {'c0': [1, 2, 3],\n",
        "               'c1': [4, 5, 6],\n",
        "               'c2': [7, 8, 9],\n",
        "               'c3': [10, 11, 12],\n",
        "               'c4': [13, 14, 15]}\n",
        "\n",
        "df1_excel = pd.DataFrame(excel_data1)\n",
        "df1_excel.set_index('name', inplace=True)\n",
        "\n",
        "df2_excel = pd.DataFrame(excel_data2)\n",
        "df2_excel.set_index('c0', inplace=True)"
      ],
      "execution_count": null,
      "outputs": []
    },
    {
      "cell_type": "markdown",
      "metadata": {
        "id": "vnGu1PltFxwA"
      },
      "source": [
        "두 데이터프레임을 두 시트에 각각 저장하겠습니다."
      ]
    },
    {
      "cell_type": "code",
      "metadata": {
        "id": "JAoMxUxpF6_q"
      },
      "source": [
        "test_excelwriter = pd.ExcelWriter('/content/gdrive/MyDrive/Python_for_Data_Analytics_Science/excelwriter.xlsx')\n",
        "df1_excel.to_excel(test_excelwriter, sheet_name='sheet1')\n",
        "df2_excel.to_excel(test_excelwriter, sheet_name='sheet2')\n",
        "test_excelwriter.save()"
      ],
      "execution_count": null,
      "outputs": []
    },
    {
      "cell_type": "markdown",
      "metadata": {
        "id": "_99MA_MCXFm-"
      },
      "source": [
        "### **1.2.3. 파일 통합하기**"
      ]
    },
    {
      "cell_type": "markdown",
      "metadata": {
        "id": "wEX4IVO9XKJ1"
      },
      "source": [
        "엑셀 파일의 개수가 적으면 엑셀 파일을 수작업으로 통합하기 수월하지만 개수가 많으면 쉽지 않습니다. 파이썬을 사용하면 파일 개수가 많더라도 손쉽게 통합할 수 있습니다. 아래는 데이터를 효율적으로 처리하기 위해 데이터를 생성할 때 신경써야 할 몇 가지 요소입니다. 엑셀을 포함하여 다른 모든 형식의 데이터 파일에도 적용됩니다. \n",
        "\n",
        "- 열 머리글(header)은 한 줄로 만듭니다.\n",
        "\n",
        "- 열 머릿글과 데이터 입력 부분에 셀을 병합하지 않습니다.\n",
        "\n",
        "- 셀 하나에 숫자와 단위를 함께 쓰지 않습니다.\n",
        "\n",
        "- 열 하나에 입력한 데이터 형식은 모두 같아야 합니다.\n",
        "\n",
        "- 데이터를 여러 시트로 나누지 않고 최대한 한 시트에 넣습니다."
      ]
    },
    {
      "cell_type": "markdown",
      "metadata": {
        "id": "XwBcjxSnbRTA"
      },
      "source": [
        "아래 예시를 통해 파일을 통합하는 과정을 살피겠습니다. 먼저 임의로 생성한 파일을 리스트로 묶고 객체로 넘깁니다."
      ]
    },
    {
      "cell_type": "code",
      "metadata": {
        "id": "mP8KdCrWbNNb"
      },
      "source": [
        "ex_f = ['/content/gdrive/MyDrive/Python_for_Data_Analytics_Science/수확량_김의종.xlsx',\n",
        "        '/content/gdrive/MyDrive/Python_for_Data_Analytics_Science/수확량_유지민.xlsx',\n",
        "        '/content/gdrive/MyDrive/Python_for_Data_Analytics_Science/수확량_이승원.xlsx']"
      ],
      "execution_count": null,
      "outputs": []
    },
    {
      "cell_type": "markdown",
      "metadata": {
        "id": "jNeYbv-qvvMH"
      },
      "source": [
        "빈 데이터프레임 객체를 생성하고, `excel_files` 객체의 엑셀 파일을 하나씩 꺼내서 엑셀로 읽습니다. 그리고 빈 데이터프레임에 `append()` 메서드로 엑셀 파일을 하나씩 추가합니다."
      ]
    },
    {
      "cell_type": "code",
      "metadata": {
        "colab": {
          "base_uri": "https://localhost:8080/",
          "height": 327
        },
        "id": "rcfjurJYupLq",
        "outputId": "b461a583-c833-46e6-f5e5-2bcedb6082e7"
      },
      "source": [
        "df_all_ex_f1 = pd.DataFrame()\n",
        "\n",
        "for i in ex_f:\n",
        "    df_ex_f = pd.read_excel(i)\n",
        "    df_all_ex_f1 = df_all_ex_f1.append(df_ex_f)\n",
        "\n",
        "df_all_ex_f1"
      ],
      "execution_count": null,
      "outputs": [
        {
          "output_type": "execute_result",
          "data": {
            "text/html": [
              "<div>\n",
              "<style scoped>\n",
              "    .dataframe tbody tr th:only-of-type {\n",
              "        vertical-align: middle;\n",
              "    }\n",
              "\n",
              "    .dataframe tbody tr th {\n",
              "        vertical-align: top;\n",
              "    }\n",
              "\n",
              "    .dataframe thead th {\n",
              "        text-align: right;\n",
              "    }\n",
              "</style>\n",
              "<table border=\"1\" class=\"dataframe\">\n",
              "  <thead>\n",
              "    <tr style=\"text-align: right;\">\n",
              "      <th></th>\n",
              "      <th>과일명</th>\n",
              "      <th>재배인</th>\n",
              "      <th>품질</th>\n",
              "      <th>18년</th>\n",
              "      <th>19년</th>\n",
              "      <th>20년</th>\n",
              "    </tr>\n",
              "  </thead>\n",
              "  <tbody>\n",
              "    <tr>\n",
              "      <th>0</th>\n",
              "      <td>사과</td>\n",
              "      <td>김의종</td>\n",
              "      <td>중</td>\n",
              "      <td>87</td>\n",
              "      <td>52</td>\n",
              "      <td>24</td>\n",
              "    </tr>\n",
              "    <tr>\n",
              "      <th>1</th>\n",
              "      <td>딸기</td>\n",
              "      <td>김의종</td>\n",
              "      <td>상</td>\n",
              "      <td>73</td>\n",
              "      <td>16</td>\n",
              "      <td>51</td>\n",
              "    </tr>\n",
              "    <tr>\n",
              "      <th>2</th>\n",
              "      <td>포도</td>\n",
              "      <td>김의종</td>\n",
              "      <td>상</td>\n",
              "      <td>43</td>\n",
              "      <td>16</td>\n",
              "      <td>56</td>\n",
              "    </tr>\n",
              "    <tr>\n",
              "      <th>0</th>\n",
              "      <td>사과</td>\n",
              "      <td>유지민</td>\n",
              "      <td>중</td>\n",
              "      <td>62</td>\n",
              "      <td>93</td>\n",
              "      <td>60</td>\n",
              "    </tr>\n",
              "    <tr>\n",
              "      <th>1</th>\n",
              "      <td>딸기</td>\n",
              "      <td>유지민</td>\n",
              "      <td>상</td>\n",
              "      <td>52</td>\n",
              "      <td>41</td>\n",
              "      <td>45</td>\n",
              "    </tr>\n",
              "    <tr>\n",
              "      <th>2</th>\n",
              "      <td>포도</td>\n",
              "      <td>유지민</td>\n",
              "      <td>상</td>\n",
              "      <td>46</td>\n",
              "      <td>37</td>\n",
              "      <td>8</td>\n",
              "    </tr>\n",
              "    <tr>\n",
              "      <th>0</th>\n",
              "      <td>사과</td>\n",
              "      <td>이승원</td>\n",
              "      <td>중</td>\n",
              "      <td>39</td>\n",
              "      <td>67</td>\n",
              "      <td>23</td>\n",
              "    </tr>\n",
              "    <tr>\n",
              "      <th>1</th>\n",
              "      <td>딸기</td>\n",
              "      <td>이승원</td>\n",
              "      <td>상</td>\n",
              "      <td>79</td>\n",
              "      <td>16</td>\n",
              "      <td>51</td>\n",
              "    </tr>\n",
              "    <tr>\n",
              "      <th>2</th>\n",
              "      <td>포도</td>\n",
              "      <td>이승원</td>\n",
              "      <td>상</td>\n",
              "      <td>94</td>\n",
              "      <td>23</td>\n",
              "      <td>72</td>\n",
              "    </tr>\n",
              "  </tbody>\n",
              "</table>\n",
              "</div>"
            ],
            "text/plain": [
              "  과일명  재배인 품질  18년  19년  20년\n",
              "0  사과  김의종  중   87   52   24\n",
              "1  딸기  김의종  상   73   16   51\n",
              "2  포도  김의종  상   43   16   56\n",
              "0  사과  유지민  중   62   93   60\n",
              "1  딸기  유지민  상   52   41   45\n",
              "2  포도  유지민  상   46   37    8\n",
              "0  사과  이승원  중   39   67   23\n",
              "1  딸기  이승원  상   79   16   51\n",
              "2  포도  이승원  상   94   23   72"
            ]
          },
          "metadata": {},
          "execution_count": 21
        }
      ]
    },
    {
      "cell_type": "markdown",
      "metadata": {
        "id": "yXFXd21ROAdH"
      },
      "source": [
        "인덱스가 오름차순으로 부여되지 않았습니다. 매개변수를 `ignore_index=True`로 지정하겠습니다."
      ]
    },
    {
      "cell_type": "code",
      "metadata": {
        "colab": {
          "base_uri": "https://localhost:8080/",
          "height": 327
        },
        "id": "xcZs_7jvOS10",
        "outputId": "fb870f9f-41ad-4a6f-ff19-48624958d0dd"
      },
      "source": [
        "df_all_ex_f2 = pd.DataFrame()\n",
        "\n",
        "for i in ex_f:\n",
        "    df_ex_f = pd.read_excel(i)\n",
        "    df_all_ex_f2 = df_all_ex_f2.append(df_ex_f, ignore_index=True)\n",
        "\n",
        "df_all_ex_f2"
      ],
      "execution_count": null,
      "outputs": [
        {
          "output_type": "execute_result",
          "data": {
            "text/html": [
              "<div>\n",
              "<style scoped>\n",
              "    .dataframe tbody tr th:only-of-type {\n",
              "        vertical-align: middle;\n",
              "    }\n",
              "\n",
              "    .dataframe tbody tr th {\n",
              "        vertical-align: top;\n",
              "    }\n",
              "\n",
              "    .dataframe thead th {\n",
              "        text-align: right;\n",
              "    }\n",
              "</style>\n",
              "<table border=\"1\" class=\"dataframe\">\n",
              "  <thead>\n",
              "    <tr style=\"text-align: right;\">\n",
              "      <th></th>\n",
              "      <th>과일명</th>\n",
              "      <th>재배인</th>\n",
              "      <th>품질</th>\n",
              "      <th>18년</th>\n",
              "      <th>19년</th>\n",
              "      <th>20년</th>\n",
              "    </tr>\n",
              "  </thead>\n",
              "  <tbody>\n",
              "    <tr>\n",
              "      <th>0</th>\n",
              "      <td>사과</td>\n",
              "      <td>김의종</td>\n",
              "      <td>중</td>\n",
              "      <td>87</td>\n",
              "      <td>52</td>\n",
              "      <td>24</td>\n",
              "    </tr>\n",
              "    <tr>\n",
              "      <th>1</th>\n",
              "      <td>딸기</td>\n",
              "      <td>김의종</td>\n",
              "      <td>상</td>\n",
              "      <td>73</td>\n",
              "      <td>16</td>\n",
              "      <td>51</td>\n",
              "    </tr>\n",
              "    <tr>\n",
              "      <th>2</th>\n",
              "      <td>포도</td>\n",
              "      <td>김의종</td>\n",
              "      <td>상</td>\n",
              "      <td>43</td>\n",
              "      <td>16</td>\n",
              "      <td>56</td>\n",
              "    </tr>\n",
              "    <tr>\n",
              "      <th>3</th>\n",
              "      <td>사과</td>\n",
              "      <td>유지민</td>\n",
              "      <td>중</td>\n",
              "      <td>62</td>\n",
              "      <td>93</td>\n",
              "      <td>60</td>\n",
              "    </tr>\n",
              "    <tr>\n",
              "      <th>4</th>\n",
              "      <td>딸기</td>\n",
              "      <td>유지민</td>\n",
              "      <td>상</td>\n",
              "      <td>52</td>\n",
              "      <td>41</td>\n",
              "      <td>45</td>\n",
              "    </tr>\n",
              "    <tr>\n",
              "      <th>5</th>\n",
              "      <td>포도</td>\n",
              "      <td>유지민</td>\n",
              "      <td>상</td>\n",
              "      <td>46</td>\n",
              "      <td>37</td>\n",
              "      <td>8</td>\n",
              "    </tr>\n",
              "    <tr>\n",
              "      <th>6</th>\n",
              "      <td>사과</td>\n",
              "      <td>이승원</td>\n",
              "      <td>중</td>\n",
              "      <td>39</td>\n",
              "      <td>67</td>\n",
              "      <td>23</td>\n",
              "    </tr>\n",
              "    <tr>\n",
              "      <th>7</th>\n",
              "      <td>딸기</td>\n",
              "      <td>이승원</td>\n",
              "      <td>상</td>\n",
              "      <td>79</td>\n",
              "      <td>16</td>\n",
              "      <td>51</td>\n",
              "    </tr>\n",
              "    <tr>\n",
              "      <th>8</th>\n",
              "      <td>포도</td>\n",
              "      <td>이승원</td>\n",
              "      <td>상</td>\n",
              "      <td>94</td>\n",
              "      <td>23</td>\n",
              "      <td>72</td>\n",
              "    </tr>\n",
              "  </tbody>\n",
              "</table>\n",
              "</div>"
            ],
            "text/plain": [
              "  과일명  재배인 품질  18년  19년  20년\n",
              "0  사과  김의종  중   87   52   24\n",
              "1  딸기  김의종  상   73   16   51\n",
              "2  포도  김의종  상   43   16   56\n",
              "3  사과  유지민  중   62   93   60\n",
              "4  딸기  유지민  상   52   41   45\n",
              "5  포도  유지민  상   46   37    8\n",
              "6  사과  이승원  중   39   67   23\n",
              "7  딸기  이승원  상   79   16   51\n",
              "8  포도  이승원  상   94   23   72"
            ]
          },
          "metadata": {},
          "execution_count": 22
        }
      ]
    },
    {
      "cell_type": "markdown",
      "metadata": {
        "id": "Gw1PtS7Oq_ux"
      },
      "source": [
        "해당 파일은 3개뿐이므로 개별적으로 입력하기 쉽지만 파일 수가 많으면 간단치 않습니다. 여러 파일의 이름을 위 파일들의 이름처럼 같은 형식으로 통일하고(이름만 다르게 하고) 한꺼번에 여러 파일을 가져오려면 [`glob`](https://docs.python.org/ko/3/library/glob.html?highlight=glob#module-glob) 모듈을 활용합니다. `glob` 모듈은 `*`과 `?`를 사용하여 문자열을 긁어옵니다. 와일드카드라고 불리우는 이 기호 중에 `*`은 길이와 무관하게 모든 문자열을 의미하고, `?`는 한 글자로 된 모든 문자열을 의미합니다.\n",
        "\n",
        "아래는 이 모듈에 대한 예시입니다. "
      ]
    },
    {
      "cell_type": "code",
      "metadata": {
        "colab": {
          "base_uri": "https://localhost:8080/"
        },
        "id": "1rdz3i8BrxNL",
        "outputId": "47c32a3f-51cb-4736-98d0-088dec877ba8"
      },
      "source": [
        "import glob\n",
        "\n",
        "# `glob` 모듈의 `glob` 클래스를 부릅니다.\n",
        "# 주소는 그대로 나열하고 '*'를 사용하여 모든 문자열을 가져옵니다.\n",
        "glob.glob('/content/gdrive/MyDrive/Python_for_Data_Analytics_Science/수확량_*.xlsx')"
      ],
      "execution_count": null,
      "outputs": [
        {
          "output_type": "execute_result",
          "data": {
            "text/plain": [
              "['/content/gdrive/MyDrive/Python_for_Data_Analytics_Science/수확량_김의종.xlsx',\n",
              " '/content/gdrive/MyDrive/Python_for_Data_Analytics_Science/수확량_유지민.xlsx',\n",
              " '/content/gdrive/MyDrive/Python_for_Data_Analytics_Science/수확량_이승원.xlsx']"
            ]
          },
          "metadata": {},
          "execution_count": 23
        }
      ]
    },
    {
      "cell_type": "markdown",
      "metadata": {
        "id": "JB4frFlBm31O"
      },
      "source": [
        "위 코드를 사용하여 데이터프레임 하나로 합치겠습니다."
      ]
    },
    {
      "cell_type": "code",
      "metadata": {
        "colab": {
          "base_uri": "https://localhost:8080/",
          "height": 327
        },
        "id": "968Y05Lgndjh",
        "outputId": "733f7dd0-77aa-4f6f-9b22-20f27633cffc"
      },
      "source": [
        "glob_ex_f = glob.glob('/content/gdrive/MyDrive/Python_for_Data_Analytics_Science/수확량_*.xlsx')\n",
        "\n",
        "df_all_ex_f3 = pd.DataFrame()\n",
        "\n",
        "for i in glob_ex_f:\n",
        "    df_ex_f = pd.read_excel(i)\n",
        "    df_all_ex_f3 = df_all_ex_f3.append(df_ex_f, ignore_index=True)\n",
        "\n",
        "df_all_ex_f3"
      ],
      "execution_count": null,
      "outputs": [
        {
          "output_type": "execute_result",
          "data": {
            "text/html": [
              "<div>\n",
              "<style scoped>\n",
              "    .dataframe tbody tr th:only-of-type {\n",
              "        vertical-align: middle;\n",
              "    }\n",
              "\n",
              "    .dataframe tbody tr th {\n",
              "        vertical-align: top;\n",
              "    }\n",
              "\n",
              "    .dataframe thead th {\n",
              "        text-align: right;\n",
              "    }\n",
              "</style>\n",
              "<table border=\"1\" class=\"dataframe\">\n",
              "  <thead>\n",
              "    <tr style=\"text-align: right;\">\n",
              "      <th></th>\n",
              "      <th>과일명</th>\n",
              "      <th>재배인</th>\n",
              "      <th>품질</th>\n",
              "      <th>18년</th>\n",
              "      <th>19년</th>\n",
              "      <th>20년</th>\n",
              "    </tr>\n",
              "  </thead>\n",
              "  <tbody>\n",
              "    <tr>\n",
              "      <th>0</th>\n",
              "      <td>사과</td>\n",
              "      <td>김의종</td>\n",
              "      <td>중</td>\n",
              "      <td>87</td>\n",
              "      <td>52</td>\n",
              "      <td>24</td>\n",
              "    </tr>\n",
              "    <tr>\n",
              "      <th>1</th>\n",
              "      <td>딸기</td>\n",
              "      <td>김의종</td>\n",
              "      <td>상</td>\n",
              "      <td>73</td>\n",
              "      <td>16</td>\n",
              "      <td>51</td>\n",
              "    </tr>\n",
              "    <tr>\n",
              "      <th>2</th>\n",
              "      <td>포도</td>\n",
              "      <td>김의종</td>\n",
              "      <td>상</td>\n",
              "      <td>43</td>\n",
              "      <td>16</td>\n",
              "      <td>56</td>\n",
              "    </tr>\n",
              "    <tr>\n",
              "      <th>3</th>\n",
              "      <td>사과</td>\n",
              "      <td>유지민</td>\n",
              "      <td>중</td>\n",
              "      <td>62</td>\n",
              "      <td>93</td>\n",
              "      <td>60</td>\n",
              "    </tr>\n",
              "    <tr>\n",
              "      <th>4</th>\n",
              "      <td>딸기</td>\n",
              "      <td>유지민</td>\n",
              "      <td>상</td>\n",
              "      <td>52</td>\n",
              "      <td>41</td>\n",
              "      <td>45</td>\n",
              "    </tr>\n",
              "    <tr>\n",
              "      <th>5</th>\n",
              "      <td>포도</td>\n",
              "      <td>유지민</td>\n",
              "      <td>상</td>\n",
              "      <td>46</td>\n",
              "      <td>37</td>\n",
              "      <td>8</td>\n",
              "    </tr>\n",
              "    <tr>\n",
              "      <th>6</th>\n",
              "      <td>사과</td>\n",
              "      <td>이승원</td>\n",
              "      <td>중</td>\n",
              "      <td>39</td>\n",
              "      <td>67</td>\n",
              "      <td>23</td>\n",
              "    </tr>\n",
              "    <tr>\n",
              "      <th>7</th>\n",
              "      <td>딸기</td>\n",
              "      <td>이승원</td>\n",
              "      <td>상</td>\n",
              "      <td>79</td>\n",
              "      <td>16</td>\n",
              "      <td>51</td>\n",
              "    </tr>\n",
              "    <tr>\n",
              "      <th>8</th>\n",
              "      <td>포도</td>\n",
              "      <td>이승원</td>\n",
              "      <td>상</td>\n",
              "      <td>94</td>\n",
              "      <td>23</td>\n",
              "      <td>72</td>\n",
              "    </tr>\n",
              "  </tbody>\n",
              "</table>\n",
              "</div>"
            ],
            "text/plain": [
              "  과일명  재배인 품질  18년  19년  20년\n",
              "0  사과  김의종  중   87   52   24\n",
              "1  딸기  김의종  상   73   16   51\n",
              "2  포도  김의종  상   43   16   56\n",
              "3  사과  유지민  중   62   93   60\n",
              "4  딸기  유지민  상   52   41   45\n",
              "5  포도  유지민  상   46   37    8\n",
              "6  사과  이승원  중   39   67   23\n",
              "7  딸기  이승원  상   79   16   51\n",
              "8  포도  이승원  상   94   23   72"
            ]
          },
          "metadata": {},
          "execution_count": 24
        }
      ]
    },
    {
      "cell_type": "markdown",
      "metadata": {
        "id": "ogvomoneoVDf"
      },
      "source": [
        "통합한 데이터프레임을 엑셀 파일로 저장하겠습니다."
      ]
    },
    {
      "cell_type": "code",
      "metadata": {
        "colab": {
          "base_uri": "https://localhost:8080/"
        },
        "id": "1VtBJMaDoYhF",
        "outputId": "660e39f5-15b0-4f77-a7f6-da707c595822"
      },
      "source": [
        "# 파일명 객체를 만듭니다.\n",
        "ex_file_name = '/content/gdrive/MyDrive/Python_for_Data_Analytics_Science/수확량_통합.xlsx'\n",
        "# `ExcelWriter()` 객체를 만듭니다.\n",
        "ex_total_file_writer = pd.ExcelWriter(ex_file_name)\n",
        "# 데이터프레임 객체를`to_excel(`ExcelWriter()` 객체)`로 엑셀화합니다.\n",
        "df_all_ex_f3.to_excel(ex_total_file_writer, index=False, sheet_name='수확량_통합_최종')\n",
        "# 최종적으로 저장합니다.\n",
        "ex_total_file_writer.save()\n",
        "\n",
        "glob.glob('/content/gdrive/MyDrive/Python_for_Data_Analytics_Science/수확량_통합.xlsx')"
      ],
      "execution_count": null,
      "outputs": [
        {
          "output_type": "execute_result",
          "data": {
            "text/plain": [
              "['/content/gdrive/MyDrive/Python_for_Data_Analytics_Science/수확량_통합.xlsx']"
            ]
          },
          "metadata": {},
          "execution_count": 25
        }
      ]
    },
    {
      "cell_type": "markdown",
      "metadata": {
        "id": "A3HFegSdv4bT"
      },
      "source": [
        "### **추가. 정규 표현식**"
      ]
    },
    {
      "cell_type": "markdown",
      "metadata": {
        "id": "Sls4dEjgt8Xq"
      },
      "source": [
        "만약 파일명이 통일되지 않았거나 파일 수가 많아서 모든 파일명을 통일하기 어렵다면 [`re`](https://docs.python.org/ko/3/library/re.html#) 모듈로 [정규 표현식](https://docs.python.org/ko/3/howto/regex.html)을 활용할 수 있습니다. 정규 표현식은 매우 중요한 개념이므로 추가 파트를 만들었습니다.\n",
        "\n",
        "정규 표현식이란 규칙을 지닌 문자열 집합을 표현하는 데 사용하는 형식 언어이며, 문자열 검색과 치환 용도로 활용됩니다.\n",
        "\n",
        "정규 표현식에 사용하는 기호를 [메타문자](https://naudhizb.tistory.com/857)라고 부릅니다. POSIX의 정규 표현식과 POSIX 정규 표현식에서 확장된 Perl 방식의 PCRE가 대표적인 정규 표현식입니다. 이외에도 여러 정규 표현식이 있고 차이점도 존재하지만 대체적으로 비슷한 형식입니다.\n",
        "\n",
        "아래는 몇 가지 정규 표현식 방법입니다. 먼저 [메타문자 예시](https://codetorial.net/python/regular_expression/regex_metacharacters.html)를 살펴보는 편이 좋습니다. 아래 예시는 `findall()` 메서드에 기반합니다.\n",
        "\n",
        "- `\\`: 앞에 오는 문자를 특수 문자, 리터럴, 역참조, 8진수 이스케이프로 표현합니다.\n",
        "  - `\\\\`: **\\**\n",
        "  - `\\}`: **}**\n",
        "\n",
        "- `^x`: x의 시작 부분에서 위치를 찾습니다.\n",
        "  - `^ab`: **a**bcde\n",
        "\n",
        "- `x$`: x의 끝 부분에서 위치를 찾습니다.\n",
        "  - `e$`: cak**e**\n",
        "\n",
        "- `x{n}`: x를 n번만큼 반복합니다. `{n,}`는 n번 이상 반복합니다.\n",
        "  - `ca{3}n`: **caaan**\n",
        "\n",
        "- `x{n, m}`: x를 n과 m 사이만큼 반복합니다.\n",
        "  - `ca{2, 3}n`: **caan**, **caaan**\n",
        "\n",
        "- `x*` == `x{0,}`: x를 0개 이상 찾습니다.\n",
        "  - `ab*`: **ab**, **aaabb**, **abbb**\n",
        "  - `ab*c`: **abc**, **ac**, **aabbbc**\n",
        "\n",
        "- `x+` == `x{1,}`: x를 1개 이상 찾습니다.\n",
        "  - `Le+`: **Le**, **Lee**, **Leee**\n",
        "\n",
        "- `x?` == `x{0, 1}`: x를 0개나 1개만큼 찾습니다.\n",
        "  - `ca?n`: **can**, **cn**\n",
        "\n",
        "- `.`: 줄바꿈 문자를 제외한 모든 문자입니다.\n",
        "  - `.n`: **an** egg, **in** a box\n",
        "  - `.*`: 아무 문자도 없거나 임의의 문자가 1회 이상 반복되는 문자열을 찾습니다.\n",
        "  - `^ab.*`: ab로 시작(`^`)하는 모든 문자열을 찾습니다.\n",
        "  - `.+`: 모든 문자열을 찾습니다.\n",
        "  - `r.*e`: r로 시작하고 e로 끝나는 임의의 문자열을 찾습니다.\n",
        "  - `ab.`: ab로 시작하는 모든 세 문자를 찾습니다.\n",
        "\n",
        "- `(x)`: x를 체크하고, 체크한 값을 변수로 저장합니다.\n",
        "  - `(b..)(a..)`: **box**, **ace**\n",
        "\n",
        "- `(?:x)`: x를 체크하고, 체크한 값을 변수로 저장하지 않습니다.\n",
        "  - `(?:b..)(a..)`: **ace**\n",
        "\n",
        "- `x(?=y)`: x와 일치한 y의 시작 위치에서 검색할 문자열을 찾습니다.\n",
        "  - `amazing(?=grace|star)`: **amazinggrace**, **amazingstar**\n",
        "\n",
        "- `x(?!y)`: x와 불일치한 y의 시작 위치에서 검색할 문자열을 찾습니다.\n",
        "  - `amazing(?!star)`: **amazinggrace**, **amazing grace**\n",
        "\n",
        "- `[xyz]`: 문자 집합이나 괄호로 묶인 문자 중에 하나를 찾습니다.\n",
        "  - `[abcd]`: gr**ace**\n",
        "\n",
        "- `[^xyz]`: 음수 문자 집합, 괄호로 묶이지 않은 문자를 찾습니다.\n",
        "  - `[^a-z]`: **T**his is **S**parta.\n",
        "\n",
        "- `[x-y]`: x와 y 범위에서 문자를 찾습니다.\n",
        "  - `[a-i]`: T**his** **i**s Sp**a**rt**a**.\n",
        "\n",
        "- `[^x-y]`: 음의 문자 범위, x와 y 범위에 해당하지 않은 문자를 찾습니다.\n",
        "  - `[A-Z]`: T**his** **is** S**parta**.\n",
        "\n",
        "- `[^x|y]`: x와 y를 제외한 모든 문자를 찾습니다.\n",
        "\n",
        "- `[\\b]`: 백스페이스를 의미합니다.\n",
        "\n",
        "- `[-]`: '-'가 문자로 인식되려면 첫 번째나 마지막에 위치해야 합니다.\n",
        "\n",
        "- `[[]`: '['가 문자로 인식되려면 첫 번째나 '^' 다음에 위치해야 합니다.\n",
        "\n",
        "- `x|y`: x 또는 y를 찾습니다.\n",
        "  - `g|star`: **g**, **star**\n",
        "  - `(g|s)tar`: **gtar**, **star**\n",
        "\n",
        "- `x\\b`: 단어와 공백 사이의 문자 위치를 찾습니다.\n",
        "  - `ce\\b`: gra**ce**, kacet\n",
        "\n",
        "- `x\\B`: `\\b`가 아닌 모든 문자 위치를 찾습니다.\n",
        "  - `ce\\B`: grace, ka**ce**t\n",
        "\n",
        "- `\\cx`: 문자로 표시된 제어 문자를 찾습니다.\n",
        "  - `\\cM`: Control-M 또는 캐리지 리턴 문자\n",
        "\n",
        "- `\\A`: 문자열의 시작 위치를 찾습니다.\n",
        "\n",
        "- `\\z`: 문자열의 끝 위치를 찾습니다.\n",
        "\n",
        "- `\\d` == `[0-9]`: 숫자를 찾습니다.\n",
        "\n",
        "- `\\D` == `[^0-9]`: 숫자가 아닌 문자를 찾습니다.\n",
        "\n",
        "- `\\f` == `\\xOc`, `\\cL`: 용지 공급 문자를 찾습니다.\n",
        "\n",
        "- `\\n` == `\\xOc`, `\\cJ`: 줄 바꿈 문자를 찾습니다.\n",
        "\n",
        "- `\\r` == `xOd`, `\\cM`: 캐리지 리턴 문자를 찾습니다.\n",
        "\n",
        "- `\\s` == `[\\f\\n\\r\\t\\v]`: 공백, 탭, 용지 공급 등을 비롯한 모든 공백 문자를 찾습니다.\n",
        "\n",
        "- `\\S` == `[^\\f\\n\\r\\t\\v]`: `\\s`와 반대 개념으로 공백이 아닌 문자를 찾습니다.\n",
        "\n",
        "- `\\t` == `\\x09`, `\\cL`: 탭 문자를 찾습니다.\n",
        "\n",
        "- `\\v` == `x09`, `cK`: 세로 탭 문자를 찾습니다.\n",
        "\n",
        "- `\\w` == `[A-Za-z0-9_]`: 밑줄을 포함한 모든 문자를 찾습니다.\n",
        "\n",
        "- `\\W` = `[^A-Za-z0-9_]`: 비단어 문자를 찾습니다.\n",
        "\n",
        "- `\\0`: 널 문자를 찾습니다.\n",
        "\n",
        "- `\\xn`: 16진수 이스케이프 값인 n을 찾습니다. ASCII 코드가 정규식에 사용될 수 있습니다.\n",
        "  - `\\x41`: **A**\n",
        "  - `\\x041`: **\\x04 & 1**\n",
        "\n",
        "- `[:alnum]` == `[A-Za-z0-9]`: 알파벳과 숫자입니다.\n",
        "\n",
        "- `[:alpha:]` == `[A-Za-z]`: 알파벳입니다.\n",
        "\n",
        "- `[:black:]` == `[/t]`: 공백과 탭입니다.\n",
        "\n",
        "- `[:cntrl:]` == `[\\x00-\\x1F\\x7f]`: 컨트롤 문자를 의미합니다.\n",
        "\n",
        "- `[가-힣]`: 전체 한글입니다.\n",
        "\n",
        "플래그는 아래와 같습니다. 여러 플래그를 지정하려면 `|`를 사용합니다.\n",
        "\n",
        "- `g`: 전체를 검색합니다.\n",
        "\n",
        "- `i`: 대소문자를 무시합니다.\n",
        "\n",
        "- `m`: 전체 줄을 검색합니다.\n",
        "\n",
        "- `s`: 전체 줄을 한 줄처럼 일치할 때까지 검색합니다.\n",
        "\n",
        "- `y`: 현재 위치부터 검색합니다."
      ]
    },
    {
      "cell_type": "markdown",
      "metadata": {
        "id": "1FUnwY9XYDxv"
      },
      "source": [
        "정규 표현식으로 파일을 찾는 방법을 설명하기 전에, 먼저 아래 문자열에서 문자열이나 특정 문자가 존재하는지 여부와 위치를 확인하는 방법을 예시하겠습니다."
      ]
    },
    {
      "cell_type": "code",
      "metadata": {
        "colab": {
          "base_uri": "https://localhost:8080/"
        },
        "id": "-ZOfvMl2xjBP",
        "outputId": "24ad8983-d40f-4f1e-87df-bbe460f84983"
      },
      "source": [
        "'95' in 'bcvxas1q'"
      ],
      "execution_count": null,
      "outputs": [
        {
          "output_type": "execute_result",
          "data": {
            "text/plain": [
              "False"
            ]
          },
          "metadata": {},
          "execution_count": 26
        }
      ]
    },
    {
      "cell_type": "code",
      "metadata": {
        "colab": {
          "base_uri": "https://localhost:8080/"
        },
        "id": "QLUPui31xxvt",
        "outputId": "d04e3649-3603-43fb-b7ca-8ddd49c8aafb"
      },
      "source": [
        "'95' in 'bcvxas1q956'"
      ],
      "execution_count": null,
      "outputs": [
        {
          "output_type": "execute_result",
          "data": {
            "text/plain": [
              "True"
            ]
          },
          "metadata": {},
          "execution_count": 27
        }
      ]
    },
    {
      "cell_type": "markdown",
      "metadata": {
        "id": "vdKTXHBN0r3A"
      },
      "source": [
        "`find()` 메서드와 `index()` 메서드는 매우 유사합니다. 처음 위치한 문자열을 찾습니다. `('찾는 문자열'[, 시작위치[, 끝위치]])` 형식입니다. 차이점은 아래와 같습니다.\n",
        "\n",
        "- `find()`\n",
        "\n",
        "  - 찾는 문자열이 없으면 `-1`을 출력합니다.\n",
        "\n",
        "  - 문자열만 가능합니다. 리스트, 튜플, 딕셔너리와 사용할 수 없습니다. \n",
        "\n",
        "- `index()`\n",
        "\n",
        "  - 찾는 문자열이 없으면 `AttributeError`가 뜹니다.\n",
        "\n",
        "  - 문자열, 리스트, 튜플과 사용할 수 있습니다. 딕셔너리와는 사용할 수 없습니다. "
      ]
    },
    {
      "cell_type": "code",
      "metadata": {
        "colab": {
          "base_uri": "https://localhost:8080/"
        },
        "id": "EAIi6ErwyEfy",
        "outputId": "00d4f967-1a73-4a82-b094-5f1a37db6121"
      },
      "source": [
        "str1 = 'sadg135asd'\n",
        "print(\"find('s'):\", str1.find('s'))\n",
        "print(\"find('asd'):\", str1.find('asd'))\n",
        "print(\"find('s', 3):\", str1.find('s', 3))\n",
        "print(\"find('c'):\", str1.find('c'))"
      ],
      "execution_count": null,
      "outputs": [
        {
          "output_type": "stream",
          "name": "stdout",
          "text": [
            "find('s'): 0\n",
            "find('asd'): 7\n",
            "find('s', 3): 8\n",
            "find('c'): -1\n"
          ]
        }
      ]
    },
    {
      "cell_type": "code",
      "metadata": {
        "colab": {
          "base_uri": "https://localhost:8080/"
        },
        "id": "GaNX8v5D0MQZ",
        "outputId": "9af15415-0e8b-4fbf-a0c1-adf9bc090474"
      },
      "source": [
        "# `find()` 메서드와 동일한 결괏값입니다. 찾을 값이 없으면 애러가 납니다.\n",
        "print(str1.index('s'))\n",
        "print(str1.index('asd'))\n",
        "print(str1.index('s', 3))\n",
        "# print(str1.index('c'))"
      ],
      "execution_count": null,
      "outputs": [
        {
          "output_type": "stream",
          "name": "stdout",
          "text": [
            "0\n",
            "7\n",
            "8\n"
          ]
        }
      ]
    },
    {
      "cell_type": "markdown",
      "metadata": {
        "id": "G94BkVWEFsPc"
      },
      "source": [
        "만약 정수만 찾는다면 위 형식으로는 불가능합니다. 여기서 정규 표현식을 활용하면 원하는 값을 찾을 수 있습니다. `findall()` 메서드는 `(패턴, 패턴을 적용할 대상)` 형식으로 인자를 지정해서 사용합니다. 패턴을 적용할 대상을 기준으로 패턴에 따른 값을 도출합니다. 해당 메서드는 [메타문자 예제](https://codetorial.net/python/regular_expression/regex_metacharacters.html)에 명쾌한 설명으로 예시되어 있습니다."
      ]
    },
    {
      "cell_type": "code",
      "metadata": {
        "colab": {
          "base_uri": "https://localhost:8080/"
        },
        "id": "37NR-NmwUjyl",
        "outputId": "3f24e8c2-28ee-441a-811b-82bef5c4d53a"
      },
      "source": [
        "import re\n",
        "\n",
        "# 정수를 찾되 문자열은 하나씩 찾습니다.\n",
        "print(re.findall('\\d', 'asdgnkj512f6hjk72'))\n",
        "# 정수를 찾되 문자열이 1개 이상 덩어리로 나열되게(`+`) 찾습니다.\n",
        "print(re.findall('\\d+', 'asdgnkj512f6hjk72'))"
      ],
      "execution_count": null,
      "outputs": [
        {
          "output_type": "stream",
          "name": "stdout",
          "text": [
            "['5', '1', '2', '6', '7', '2']\n",
            "['512', '6', '72']\n"
          ]
        }
      ]
    },
    {
      "cell_type": "markdown",
      "metadata": {
        "id": "G0c6L_vhqQjb"
      },
      "source": [
        "이제 `re` 모듈이 가진 메서드들을 하나씩 살피겠습니다.\n",
        "\n",
        "먼저 `match(패턴, 문자열[, 플래그])` 메서드는 문자열 첫 부분부터 살펴서 패턴과 일치하는지 확인합니다."
      ]
    },
    {
      "cell_type": "code",
      "metadata": {
        "colab": {
          "base_uri": "https://localhost:8080/"
        },
        "id": "boKxEEHKqmEY",
        "outputId": "8ad51f7e-baa8-4ee7-8e13-ea702749fd8d"
      },
      "source": [
        "print(re.match('a', 'abc'))\n",
        "print(re.match('ab', 'abc'))\n",
        "print(re.match('abc', 'abc'))\n",
        "print(re.match('b', 'abc'))"
      ],
      "execution_count": null,
      "outputs": [
        {
          "output_type": "stream",
          "name": "stdout",
          "text": [
            "<re.Match object; span=(0, 1), match='a'>\n",
            "<re.Match object; span=(0, 2), match='ab'>\n",
            "<re.Match object; span=(0, 3), match='abc'>\n",
            "None\n"
          ]
        }
      ]
    },
    {
      "cell_type": "markdown",
      "metadata": {
        "id": "w9zumsT3rq_h"
      },
      "source": [
        "첫 부분이 일치하지 않는 'b'는 `None`으로 출력됐습니다."
      ]
    },
    {
      "cell_type": "markdown",
      "metadata": {
        "id": "iDb3LYOMwvoU"
      },
      "source": [
        "`fullmatch(패턴, 문자열[, 플래그])` 메서드는 패턴이 문자열 전체와 정확하게 일치하는지 확인합니다."
      ]
    },
    {
      "cell_type": "code",
      "metadata": {
        "colab": {
          "base_uri": "https://localhost:8080/"
        },
        "id": "Ym6vhimvxBw1",
        "outputId": "bc24ec37-39be-4013-a832-218b8742cab9"
      },
      "source": [
        "print(re.fullmatch('aabbaabb', 'aabbaabb'))\n",
        "print(re.fullmatch('aabbaabb', 'aabbaabb123'))"
      ],
      "execution_count": null,
      "outputs": [
        {
          "output_type": "stream",
          "name": "stdout",
          "text": [
            "<re.Match object; span=(0, 8), match='aabbaabb'>\n",
            "None\n"
          ]
        }
      ]
    },
    {
      "cell_type": "markdown",
      "metadata": {
        "id": "Bc2LGi6DtGDf"
      },
      "source": [
        "`search(패턴, 문자열[, 플래그])` 메서드는 `match()` 메서드와 달리 문자열의 첫 부분이 불일치해도 무관합니다. 전체 문자열 중에 하나만 일치해도 결괏값을 출력합니다. 정규식에 가장 많이 활용되는 메서드이기도 합니다. "
      ]
    },
    {
      "cell_type": "code",
      "metadata": {
        "colab": {
          "base_uri": "https://localhost:8080/"
        },
        "id": "SigK-yhCtXRE",
        "outputId": "916c998b-cd55-412b-cb85-6db7b2b92b3e"
      },
      "source": [
        "print(re.search('b', 'abc'))"
      ],
      "execution_count": null,
      "outputs": [
        {
          "output_type": "stream",
          "name": "stdout",
          "text": [
            "<re.Match object; span=(1, 2), match='b'>\n"
          ]
        }
      ]
    },
    {
      "cell_type": "markdown",
      "metadata": {
        "id": "QWGBFgBLtuiS"
      },
      "source": [
        "`findall(패턴, 문자열[, 플래그])` 메서드는 문자열에 맞는 패턴에 대한 결괏값을 리스트로 반환합니다. 위 [메타문자 예시](https://codetorial.net/python/regular_expression/regex_metacharacters.html)에서 이 메서드를 사용했습니다."
      ]
    },
    {
      "cell_type": "code",
      "metadata": {
        "colab": {
          "base_uri": "https://localhost:8080/"
        },
        "id": "lhVSjFm0uWgp",
        "outputId": "4873c2e4-cbf5-4645-8edb-d3dbc103e66b"
      },
      "source": [
        "print(re.findall('a', 'ab'))\n",
        "print(re.findall('a', 'abaa'))\n",
        "print(re.findall('aa', 'aaaa'))\n",
        "print(re.findall('aa', 'aaaaa'))\n",
        "print(re.findall('\\d', 'asdg32fd6rg777ae'))\n",
        "print(re.findall('\\d+', 'asdg32fd6rg777ae'))\n",
        "print(re.findall('\\D+', 'asdg32fd6rg777ae'))"
      ],
      "execution_count": null,
      "outputs": [
        {
          "output_type": "stream",
          "name": "stdout",
          "text": [
            "['a']\n",
            "['a', 'a', 'a']\n",
            "['aa', 'aa']\n",
            "['aa', 'aa']\n",
            "['3', '2', '6', '7', '7', '7']\n",
            "['32', '6', '777']\n",
            "['asdg', 'fd', 'rg', 'ae']\n"
          ]
        }
      ]
    },
    {
      "cell_type": "markdown",
      "metadata": {
        "id": "zD4z_pUKvC5r"
      },
      "source": [
        "`finditer(패턴, 문자열[, 플래그])` 메서드는 `findall()` 메서드와 달리 iterator 형식으로 출력합니다. `Match object`를 여러번 출력하므로 for문을 통해 출력값을 얻어야 합니다. 패턴과 일치하는 문자열의 위치를 파악하는 데 자주 쓰입니다."
      ]
    },
    {
      "cell_type": "code",
      "metadata": {
        "colab": {
          "base_uri": "https://localhost:8080/"
        },
        "id": "QJ9oTR-nvO2n",
        "outputId": "10a15ad4-64c9-40a5-a420-03f601b9744f"
      },
      "source": [
        "print(re.finditer('a', 'ababa'))"
      ],
      "execution_count": null,
      "outputs": [
        {
          "output_type": "stream",
          "name": "stdout",
          "text": [
            "<callable_iterator object at 0x7fea9fa32f50>\n"
          ]
        }
      ]
    },
    {
      "cell_type": "code",
      "metadata": {
        "colab": {
          "base_uri": "https://localhost:8080/"
        },
        "id": "TWc2T7gpvgdl",
        "outputId": "5d1614dc-a11d-4796-cfa7-2f07bd145d36"
      },
      "source": [
        "test_fi = re.finditer('a', 'ababa')\n",
        "for i in test_fi:\n",
        "    print(i)"
      ],
      "execution_count": null,
      "outputs": [
        {
          "output_type": "stream",
          "name": "stdout",
          "text": [
            "<re.Match object; span=(0, 1), match='a'>\n",
            "<re.Match object; span=(2, 3), match='a'>\n",
            "<re.Match object; span=(4, 5), match='a'>\n"
          ]
        }
      ]
    },
    {
      "cell_type": "markdown",
      "metadata": {
        "id": "KpClQZjd0Cux"
      },
      "source": [
        "`split(패턴, 문자열[, 쪼갤 횟수, 플래그])` 메서드는 패턴이 문자열과 일치하면 그 일치하는 부분부터 쪼개서(split) 리스트로 반환합니다. 패턴을 구분자로 간주한다고 생각하면 쉽습니다. 쪼갤 양(maxsplit)은 최대 몇 번까지 나눌 것인지 설정하는 매개변수입니다. 0 이면 모든 문자열을 나누고, 0보다 크면 그 횟수만큼만 나누고 남은 문자열은 그대로 반환됩니다."
      ]
    },
    {
      "cell_type": "code",
      "metadata": {
        "colab": {
          "base_uri": "https://localhost:8080/"
        },
        "id": "NitTbHrg1AkH",
        "outputId": "88dc7a3a-3de7-41ab-e356-73be96033a5c"
      },
      "source": [
        "print(re.split('a', 'ababab'))"
      ],
      "execution_count": null,
      "outputs": [
        {
          "output_type": "stream",
          "name": "stdout",
          "text": [
            "['', 'b', 'b', 'b']\n"
          ]
        }
      ]
    },
    {
      "cell_type": "markdown",
      "metadata": {
        "id": "m3GIFwaN_spQ"
      },
      "source": [
        "패턴 'a'를 구분자로 삼았습니다. 'ababab'에서 처음 문자는 패턴인 'a'입니다. 이 경우 출력되는 첫 값은 ''입니다. 처음 문자가 패턴이 아니면 공백값으로 출력되지 않습니다."
      ]
    },
    {
      "cell_type": "code",
      "metadata": {
        "colab": {
          "base_uri": "https://localhost:8080/"
        },
        "id": "jjfE-1dpAF5D",
        "outputId": "882f9fc8-a7e4-4e07-a94d-de1fe225d4a5"
      },
      "source": [
        "print(re.split('a', '1ababab'))"
      ],
      "execution_count": null,
      "outputs": [
        {
          "output_type": "stream",
          "name": "stdout",
          "text": [
            "['1', 'b', 'b', 'b']\n"
          ]
        }
      ]
    },
    {
      "cell_type": "markdown",
      "metadata": {
        "id": "warro_WLAJh4"
      },
      "source": [
        "쪼갤 횟수를 설정하겠습니다. 구분자를 횟수만큼만 적용합니다. 횟수만큼 쪼개면 나머지 값은 그대로 출력됩니다."
      ]
    },
    {
      "cell_type": "code",
      "metadata": {
        "colab": {
          "base_uri": "https://localhost:8080/"
        },
        "id": "_xnw45Q3AQRb",
        "outputId": "5794772a-89a9-4864-9fda-04d3587f1a44"
      },
      "source": [
        "print(re.split('a', '1ababab', 1))\n",
        "print(re.split('a', '1ababab', 2))\n",
        "print(re.split('a', '1ababab', 3))"
      ],
      "execution_count": null,
      "outputs": [
        {
          "output_type": "stream",
          "name": "stdout",
          "text": [
            "['1', 'babab']\n",
            "['1', 'b', 'bab']\n",
            "['1', 'b', 'b', 'b']\n"
          ]
        }
      ]
    },
    {
      "cell_type": "markdown",
      "metadata": {
        "id": "7IvvCuWjAkt6"
      },
      "source": [
        "`sub(패턴, 바꿀 문자열, 문자열[, 최대 교체 횟수, 플래그])` 메서드는 문자열에 대한 패턴을 바꿀 문자열로 교체합니다. "
      ]
    },
    {
      "cell_type": "code",
      "metadata": {
        "colab": {
          "base_uri": "https://localhost:8080/"
        },
        "id": "Y1lDmKa_CQ20",
        "outputId": "53af402a-b6c9-4b1d-e700-8e17c5db2c19"
      },
      "source": [
        "print(re.sub('a', '77', 'abcdabcd'))\n",
        "print(re.sub('a', '77', 'abcdabcd', 1))"
      ],
      "execution_count": null,
      "outputs": [
        {
          "output_type": "stream",
          "name": "stdout",
          "text": [
            "77bcd77bcd\n",
            "77bcdabcd\n"
          ]
        }
      ]
    },
    {
      "cell_type": "markdown",
      "metadata": {
        "id": "ProRFpWICxqJ"
      },
      "source": [
        "`subn(패턴, 바꿀 문자열, 문자열[, 최대 교체 횟수, 플래그])` 메서드는 `sub()` 메서드와 거의 같습니다. 다만 매칭 횟수가 함께 출력됩니다."
      ]
    },
    {
      "cell_type": "code",
      "metadata": {
        "colab": {
          "base_uri": "https://localhost:8080/"
        },
        "id": "52VtdxTTDzvw",
        "outputId": "e1ec4b05-e0a6-41e7-eb59-aa161f36c111"
      },
      "source": [
        "print(re.subn('a', '77', 'abcdabcd'))"
      ],
      "execution_count": null,
      "outputs": [
        {
          "output_type": "stream",
          "name": "stdout",
          "text": [
            "('77bcd77bcd', 2)\n"
          ]
        }
      ]
    },
    {
      "cell_type": "markdown",
      "metadata": {
        "id": "tKWEkWMRD7TT"
      },
      "source": [
        "`compile(패턴[, 플래그])` 메서드는 패턴을 정규식 객체로 반환합니다. 정규식은 컴파일이라는 무거운 계산 과정을 거칩니다. 모듈에서 메서드를 계속 가져오면 컴파일 계산을 반복해야 합니다. 아울러 동일한 정규식 패턴을 반복문에서 사용하면 성능상 부담이 큽니다. 여기서 `compile()` 메서드는 유용하게 사용됩니다."
      ]
    },
    {
      "cell_type": "code",
      "metadata": {
        "colab": {
          "base_uri": "https://localhost:8080/"
        },
        "id": "58NxRbfLGSQB",
        "outputId": "170a6dbb-91d6-462b-c34c-58f7b3c7bb4e"
      },
      "source": [
        "a_com = re.compile('a')\n",
        "\n",
        "print(a_com.sub('77', 'abcdabcd'))\n",
        "print(a_com.split('babcdabcd'))"
      ],
      "execution_count": null,
      "outputs": [
        {
          "output_type": "stream",
          "name": "stdout",
          "text": [
            "77bcd77bcd\n",
            "['b', 'bcd', 'bcd']\n"
          ]
        }
      ]
    },
    {
      "cell_type": "markdown",
      "metadata": {
        "id": "PvlJB0vTIbrp"
      },
      "source": [
        "`purge()` 메서드는 `compile()` 메서드로 생성한 객체가 저장된 캐시를 초기화(제거)합니다."
      ]
    },
    {
      "cell_type": "code",
      "metadata": {
        "id": "P-h9oStaImFk"
      },
      "source": [
        "re.purge()"
      ],
      "execution_count": null,
      "outputs": []
    },
    {
      "cell_type": "markdown",
      "metadata": {
        "id": "3Tk7RnmQKGQj"
      },
      "source": [
        "`escape(패턴)` 메서드는 패턴에 특수문자가 있으면 백슬래시를 붙입니다."
      ]
    },
    {
      "cell_type": "code",
      "metadata": {
        "colab": {
          "base_uri": "https://localhost:8080/",
          "height": 35
        },
        "id": "TdiNRY3AKRNt",
        "outputId": "b9cd411c-7837-40e4-c341-2379a13cd842"
      },
      "source": [
        "re.escape('() #$^*-+[]{}|?.')"
      ],
      "execution_count": null,
      "outputs": [
        {
          "output_type": "execute_result",
          "data": {
            "application/vnd.google.colaboratory.intrinsic+json": {
              "type": "string"
            },
            "text/plain": [
              "'\\\\(\\\\)\\\\ \\\\#\\\\$\\\\^\\\\*\\\\-\\\\+\\\\[\\\\]\\\\{\\\\}\\\\|\\\\?\\\\.'"
            ]
          },
          "metadata": {},
          "execution_count": 44
        }
      ]
    },
    {
      "cell_type": "markdown",
      "metadata": {
        "id": "03sG4-6iNlnj"
      },
      "source": [
        "위에서 `Match object` 형식으로 출력되는 메서드들을 설명했습니다. 이 형식에서 원하는 정보만 가져올 수 있는 방법은 `Match object` 형식과 관련된 메서드를 적용하는 것입니다.\n",
        "\n",
        "먼저 `group()` 메서드입니다. 패턴에 일치하는 문자열을 추출합니다."
      ]
    },
    {
      "cell_type": "code",
      "metadata": {
        "colab": {
          "base_uri": "https://localhost:8080/",
          "height": 35
        },
        "id": "lekZK9iJOtVQ",
        "outputId": "5fb23031-cc4a-4e4e-d1ed-2f30b37f3783"
      },
      "source": [
        "a_sch = re.match('a', 'abca')\n",
        "\n",
        "a_sch.group()"
      ],
      "execution_count": null,
      "outputs": [
        {
          "output_type": "execute_result",
          "data": {
            "application/vnd.google.colaboratory.intrinsic+json": {
              "type": "string"
            },
            "text/plain": [
              "'a'"
            ]
          },
          "metadata": {},
          "execution_count": 45
        }
      ]
    },
    {
      "cell_type": "markdown",
      "metadata": {
        "id": "fJQJhQ0gPnoz"
      },
      "source": [
        "`start()` 메서드는 문자열에서 패턴이 일치하는 처음 위치를 반환합니다."
      ]
    },
    {
      "cell_type": "code",
      "metadata": {
        "colab": {
          "base_uri": "https://localhost:8080/"
        },
        "id": "EyqRUZIxPTpX",
        "outputId": "7311c348-4a11-4985-829d-df0fba39f8b5"
      },
      "source": [
        "a_sch.start()"
      ],
      "execution_count": null,
      "outputs": [
        {
          "output_type": "execute_result",
          "data": {
            "text/plain": [
              "0"
            ]
          },
          "metadata": {},
          "execution_count": 46
        }
      ]
    },
    {
      "cell_type": "markdown",
      "metadata": {
        "id": "yNIcsT-kP0dB"
      },
      "source": [
        "`end()` 메서드는 문자열에서 패턴이 일치하는 마지막 위치를 반환합니다."
      ]
    },
    {
      "cell_type": "code",
      "metadata": {
        "colab": {
          "base_uri": "https://localhost:8080/"
        },
        "id": "QYGlLvoWPXAl",
        "outputId": "650f6653-c62c-4dfa-b25f-243569505509"
      },
      "source": [
        "a_sch.end()"
      ],
      "execution_count": null,
      "outputs": [
        {
          "output_type": "execute_result",
          "data": {
            "text/plain": [
              "1"
            ]
          },
          "metadata": {},
          "execution_count": 47
        }
      ]
    },
    {
      "cell_type": "markdown",
      "metadata": {
        "id": "CnB4M5H9QY3x"
      },
      "source": [
        "`span()` 메서드는 범위입니다."
      ]
    },
    {
      "cell_type": "code",
      "metadata": {
        "colab": {
          "base_uri": "https://localhost:8080/"
        },
        "id": "KSdoCS02Pb_p",
        "outputId": "46ca67cc-4282-4441-93d3-ba85156683de"
      },
      "source": [
        "a_sch.span()"
      ],
      "execution_count": null,
      "outputs": [
        {
          "output_type": "execute_result",
          "data": {
            "text/plain": [
              "(0, 1)"
            ]
          },
          "metadata": {},
          "execution_count": 48
        }
      ]
    },
    {
      "cell_type": "markdown",
      "metadata": {
        "id": "XgH2SGUwR6mh"
      },
      "source": [
        "소괄호 형태로 패턴을 묶어서 탐색하는 경우에는 `group(숫자)` 메서드와 `groups()` 메서드를 활용할 수 있습니다. 반드시 소괄호로 묶은 형태여야 합니다. 휴대폰 번호를 예시로 들겠습니다."
      ]
    },
    {
      "cell_type": "code",
      "metadata": {
        "colab": {
          "base_uri": "https://localhost:8080/"
        },
        "id": "Lghnyv3VSzkI",
        "outputId": "96411d41-e314-42cc-ac3f-ea1cc72c7493"
      },
      "source": [
        "s_num_mat1 = re.match('(\\d{3})-(\\d{4})-(\\d{4})', '010-1111-2222')\n",
        "\n",
        "# `0`은 생략할 수 있습니다.\n",
        "print(s_num_mat1.group(0))\n",
        "print(s_num_mat1.group(1))\n",
        "print(s_num_mat1.group(2))\n",
        "print(s_num_mat1.group(3))\n",
        "print(s_num_mat1.groups())"
      ],
      "execution_count": null,
      "outputs": [
        {
          "output_type": "stream",
          "name": "stdout",
          "text": [
            "010-1111-2222\n",
            "010\n",
            "1111\n",
            "2222\n",
            "('010', '1111', '2222')\n"
          ]
        }
      ]
    },
    {
      "cell_type": "markdown",
      "metadata": {
        "id": "Fp3sVGKRW17H"
      },
      "source": [
        "소괄호를 제거해서 적용하겠습니다. 소괄호로 묶지 않으면 그룹이 1개입니다."
      ]
    },
    {
      "cell_type": "code",
      "metadata": {
        "colab": {
          "base_uri": "https://localhost:8080/"
        },
        "id": "G5GKodAIXCtv",
        "outputId": "4af577dc-c796-4a52-da51-f1d1aacfe309"
      },
      "source": [
        "s_num_mat2 = re.match('\\d{3}-\\d{4}-\\d{4}', '010-1111-2222')\n",
        "\n",
        "# 그룹이 1개이므로 첫 번째 그룹을 의미하는 `group(1)`은 애러입니다.\n",
        "print(s_num_mat2.group())\n",
        "# 여러 그룹이 아니므로 `groups()`는 무의미한 메서드입니다.\n",
        "print(s_num_mat2.groups())"
      ],
      "execution_count": null,
      "outputs": [
        {
          "output_type": "stream",
          "name": "stdout",
          "text": [
            "010-1111-2222\n",
            "()\n"
          ]
        }
      ]
    },
    {
      "cell_type": "markdown",
      "metadata": {
        "id": "gLOj9Ou9XoTJ"
      },
      "source": [
        "`groupdict()` 메서드는 지정한 문자열에 맞게 키로 출력되고, 값은 패턴에 따라 출력됩니다. `dict`는 딕셔너리를 의미하므로 세트 형식으로 출력합니다. 지정한 문자열을 적용하려면 `?P<문자열>` 형식을 패턴 왼쪽에 붙입니다. 소괄호는 필수입니다."
      ]
    },
    {
      "cell_type": "code",
      "metadata": {
        "colab": {
          "base_uri": "https://localhost:8080/"
        },
        "id": "MmYCIx61ZLzw",
        "outputId": "dd3aa8a2-795b-474b-960e-f3cdda89a5e0"
      },
      "source": [
        "s_num_mat3 = re.match('(?P<공통>\\d{3})-(?P<중간번호>\\d{4})-(?P<끝번호>\\d{4})', '010-1111-2222')\n",
        "\n",
        "print(s_num_mat3)\n",
        "print(s_num_mat3.group())\n",
        "print(s_num_mat3.group(1))\n",
        "print(s_num_mat3.group(2))\n",
        "print(s_num_mat3.group(3))\n",
        "print(s_num_mat3.groups())\n",
        "print(s_num_mat3.groupdict())"
      ],
      "execution_count": null,
      "outputs": [
        {
          "output_type": "stream",
          "name": "stdout",
          "text": [
            "<re.Match object; span=(0, 13), match='010-1111-2222'>\n",
            "010-1111-2222\n",
            "010\n",
            "1111\n",
            "2222\n",
            "('010', '1111', '2222')\n",
            "{'공통': '010', '중간번호': '1111', '끝번호': '2222'}\n"
          ]
        }
      ]
    },
    {
      "cell_type": "markdown",
      "metadata": {
        "id": "KEK16RKQg3c-"
      },
      "source": [
        "추가 개념은 [링크](https://blog.naver.com/PostView.nhn?blogId=dudwo567890&logNo=130162403749)를 참고하시기 바랍니다."
      ]
    },
    {
      "cell_type": "markdown",
      "metadata": {
        "id": "faJogKqmrzWf"
      },
      "source": [
        "### **1.2.4. 파일 수정하기**"
      ]
    },
    {
      "cell_type": "markdown",
      "metadata": {
        "id": "Q7aIG85DsV7-"
      },
      "source": [
        "데이터가 많으면 파이썬으로 쉽게 수정할 수 있습니다. 데이터프레임을 수정하는 방법은 이전 챕터인 **2. 파이썬을 다루기 위한 파이썬 패키지**의 판다스 파트에서 다뤘지만 다시 한 번 간단하게 예시하겠습니다.\n",
        "\n",
        "먼저 엑셀 파일을 데이터프레임으로 부릅니다."
      ]
    },
    {
      "cell_type": "code",
      "metadata": {
        "colab": {
          "base_uri": "https://localhost:8080/",
          "height": 141
        },
        "id": "UW7Fou2osUj3",
        "outputId": "93e81b31-8c89-42af-fa9f-bc8596e42f45"
      },
      "source": [
        "df_lsw = pd.read_excel('/content/gdrive/MyDrive/Python_for_Data_Analytics_Science/수확량_이승원.xlsx')\n",
        "df_lsw"
      ],
      "execution_count": null,
      "outputs": [
        {
          "output_type": "execute_result",
          "data": {
            "text/html": [
              "<div>\n",
              "<style scoped>\n",
              "    .dataframe tbody tr th:only-of-type {\n",
              "        vertical-align: middle;\n",
              "    }\n",
              "\n",
              "    .dataframe tbody tr th {\n",
              "        vertical-align: top;\n",
              "    }\n",
              "\n",
              "    .dataframe thead th {\n",
              "        text-align: right;\n",
              "    }\n",
              "</style>\n",
              "<table border=\"1\" class=\"dataframe\">\n",
              "  <thead>\n",
              "    <tr style=\"text-align: right;\">\n",
              "      <th></th>\n",
              "      <th>과일명</th>\n",
              "      <th>재배인</th>\n",
              "      <th>품질</th>\n",
              "      <th>18년</th>\n",
              "      <th>19년</th>\n",
              "      <th>20년</th>\n",
              "    </tr>\n",
              "  </thead>\n",
              "  <tbody>\n",
              "    <tr>\n",
              "      <th>0</th>\n",
              "      <td>사과</td>\n",
              "      <td>이승원</td>\n",
              "      <td>중</td>\n",
              "      <td>39</td>\n",
              "      <td>67</td>\n",
              "      <td>23</td>\n",
              "    </tr>\n",
              "    <tr>\n",
              "      <th>1</th>\n",
              "      <td>딸기</td>\n",
              "      <td>이승원</td>\n",
              "      <td>상</td>\n",
              "      <td>79</td>\n",
              "      <td>16</td>\n",
              "      <td>51</td>\n",
              "    </tr>\n",
              "    <tr>\n",
              "      <th>2</th>\n",
              "      <td>포도</td>\n",
              "      <td>이승원</td>\n",
              "      <td>상</td>\n",
              "      <td>94</td>\n",
              "      <td>23</td>\n",
              "      <td>72</td>\n",
              "    </tr>\n",
              "  </tbody>\n",
              "</table>\n",
              "</div>"
            ],
            "text/plain": [
              "  과일명  재배인 품질  18년  19년  20년\n",
              "0  사과  이승원  중   39   67   23\n",
              "1  딸기  이승원  상   79   16   51\n",
              "2  포도  이승원  상   94   23   72"
            ]
          },
          "metadata": {},
          "execution_count": 52
        }
      ]
    },
    {
      "cell_type": "markdown",
      "metadata": {
        "id": "I5LdwdLFuG6T"
      },
      "source": [
        "값을 하나만 바꾸겠습니다."
      ]
    },
    {
      "cell_type": "code",
      "metadata": {
        "colab": {
          "base_uri": "https://localhost:8080/",
          "height": 141
        },
        "id": "9OcRRHCWt0N4",
        "outputId": "70615683-dee1-4462-cb5e-142728958ee1"
      },
      "source": [
        "df_lsw.loc[0, '19년'] = 77\n",
        "df_lsw"
      ],
      "execution_count": null,
      "outputs": [
        {
          "output_type": "execute_result",
          "data": {
            "text/html": [
              "<div>\n",
              "<style scoped>\n",
              "    .dataframe tbody tr th:only-of-type {\n",
              "        vertical-align: middle;\n",
              "    }\n",
              "\n",
              "    .dataframe tbody tr th {\n",
              "        vertical-align: top;\n",
              "    }\n",
              "\n",
              "    .dataframe thead th {\n",
              "        text-align: right;\n",
              "    }\n",
              "</style>\n",
              "<table border=\"1\" class=\"dataframe\">\n",
              "  <thead>\n",
              "    <tr style=\"text-align: right;\">\n",
              "      <th></th>\n",
              "      <th>과일명</th>\n",
              "      <th>재배인</th>\n",
              "      <th>품질</th>\n",
              "      <th>18년</th>\n",
              "      <th>19년</th>\n",
              "      <th>20년</th>\n",
              "    </tr>\n",
              "  </thead>\n",
              "  <tbody>\n",
              "    <tr>\n",
              "      <th>0</th>\n",
              "      <td>사과</td>\n",
              "      <td>이승원</td>\n",
              "      <td>중</td>\n",
              "      <td>39</td>\n",
              "      <td>77</td>\n",
              "      <td>23</td>\n",
              "    </tr>\n",
              "    <tr>\n",
              "      <th>1</th>\n",
              "      <td>딸기</td>\n",
              "      <td>이승원</td>\n",
              "      <td>상</td>\n",
              "      <td>79</td>\n",
              "      <td>16</td>\n",
              "      <td>51</td>\n",
              "    </tr>\n",
              "    <tr>\n",
              "      <th>2</th>\n",
              "      <td>포도</td>\n",
              "      <td>이승원</td>\n",
              "      <td>상</td>\n",
              "      <td>94</td>\n",
              "      <td>23</td>\n",
              "      <td>72</td>\n",
              "    </tr>\n",
              "  </tbody>\n",
              "</table>\n",
              "</div>"
            ],
            "text/plain": [
              "  과일명  재배인 품질  18년  19년  20년\n",
              "0  사과  이승원  중   39   77   23\n",
              "1  딸기  이승원  상   79   16   51\n",
              "2  포도  이승원  상   94   23   72"
            ]
          },
          "metadata": {},
          "execution_count": 53
        }
      ]
    },
    {
      "cell_type": "markdown",
      "metadata": {
        "id": "aWDxFqIouLvf"
      },
      "source": [
        "행을 하나 추가하겠습니다."
      ]
    },
    {
      "cell_type": "code",
      "metadata": {
        "colab": {
          "base_uri": "https://localhost:8080/",
          "height": 172
        },
        "id": "2qap8Bx_uQNO",
        "outputId": "ed9fe628-8071-431c-f4f9-8821cdc8e3bd"
      },
      "source": [
        "df_lsw.loc[3, '과일명'] = '멜론'\n",
        "df_lsw.loc[3, '재배인'] = '이승원'\n",
        "df_lsw"
      ],
      "execution_count": null,
      "outputs": [
        {
          "output_type": "execute_result",
          "data": {
            "text/html": [
              "<div>\n",
              "<style scoped>\n",
              "    .dataframe tbody tr th:only-of-type {\n",
              "        vertical-align: middle;\n",
              "    }\n",
              "\n",
              "    .dataframe tbody tr th {\n",
              "        vertical-align: top;\n",
              "    }\n",
              "\n",
              "    .dataframe thead th {\n",
              "        text-align: right;\n",
              "    }\n",
              "</style>\n",
              "<table border=\"1\" class=\"dataframe\">\n",
              "  <thead>\n",
              "    <tr style=\"text-align: right;\">\n",
              "      <th></th>\n",
              "      <th>과일명</th>\n",
              "      <th>재배인</th>\n",
              "      <th>품질</th>\n",
              "      <th>18년</th>\n",
              "      <th>19년</th>\n",
              "      <th>20년</th>\n",
              "    </tr>\n",
              "  </thead>\n",
              "  <tbody>\n",
              "    <tr>\n",
              "      <th>0</th>\n",
              "      <td>사과</td>\n",
              "      <td>이승원</td>\n",
              "      <td>중</td>\n",
              "      <td>39.0</td>\n",
              "      <td>77.0</td>\n",
              "      <td>23.0</td>\n",
              "    </tr>\n",
              "    <tr>\n",
              "      <th>1</th>\n",
              "      <td>딸기</td>\n",
              "      <td>이승원</td>\n",
              "      <td>상</td>\n",
              "      <td>79.0</td>\n",
              "      <td>16.0</td>\n",
              "      <td>51.0</td>\n",
              "    </tr>\n",
              "    <tr>\n",
              "      <th>2</th>\n",
              "      <td>포도</td>\n",
              "      <td>이승원</td>\n",
              "      <td>상</td>\n",
              "      <td>94.0</td>\n",
              "      <td>23.0</td>\n",
              "      <td>72.0</td>\n",
              "    </tr>\n",
              "    <tr>\n",
              "      <th>3</th>\n",
              "      <td>멜론</td>\n",
              "      <td>이승원</td>\n",
              "      <td>NaN</td>\n",
              "      <td>NaN</td>\n",
              "      <td>NaN</td>\n",
              "      <td>NaN</td>\n",
              "    </tr>\n",
              "  </tbody>\n",
              "</table>\n",
              "</div>"
            ],
            "text/plain": [
              "  과일명  재배인   품질   18년   19년   20년\n",
              "0  사과  이승원    중  39.0  77.0  23.0\n",
              "1  딸기  이승원    상  79.0  16.0  51.0\n",
              "2  포도  이승원    상  94.0  23.0  72.0\n",
              "3  멜론  이승원  NaN   NaN   NaN   NaN"
            ]
          },
          "metadata": {},
          "execution_count": 54
        }
      ]
    },
    {
      "cell_type": "markdown",
      "metadata": {
        "id": "uUjwYWFtvAir"
      },
      "source": [
        "재배인열의 모든 값을 바꾸겠습니다."
      ]
    },
    {
      "cell_type": "code",
      "metadata": {
        "colab": {
          "base_uri": "https://localhost:8080/",
          "height": 172
        },
        "id": "TK39s1RGvR30",
        "outputId": "163ce1da-9214-4b9f-b917-8375179a126b"
      },
      "source": [
        "df_lsw['재배인'] = '이승순'\n",
        "df_lsw"
      ],
      "execution_count": null,
      "outputs": [
        {
          "output_type": "execute_result",
          "data": {
            "text/html": [
              "<div>\n",
              "<style scoped>\n",
              "    .dataframe tbody tr th:only-of-type {\n",
              "        vertical-align: middle;\n",
              "    }\n",
              "\n",
              "    .dataframe tbody tr th {\n",
              "        vertical-align: top;\n",
              "    }\n",
              "\n",
              "    .dataframe thead th {\n",
              "        text-align: right;\n",
              "    }\n",
              "</style>\n",
              "<table border=\"1\" class=\"dataframe\">\n",
              "  <thead>\n",
              "    <tr style=\"text-align: right;\">\n",
              "      <th></th>\n",
              "      <th>과일명</th>\n",
              "      <th>재배인</th>\n",
              "      <th>품질</th>\n",
              "      <th>18년</th>\n",
              "      <th>19년</th>\n",
              "      <th>20년</th>\n",
              "    </tr>\n",
              "  </thead>\n",
              "  <tbody>\n",
              "    <tr>\n",
              "      <th>0</th>\n",
              "      <td>사과</td>\n",
              "      <td>이승순</td>\n",
              "      <td>중</td>\n",
              "      <td>39.0</td>\n",
              "      <td>77.0</td>\n",
              "      <td>23.0</td>\n",
              "    </tr>\n",
              "    <tr>\n",
              "      <th>1</th>\n",
              "      <td>딸기</td>\n",
              "      <td>이승순</td>\n",
              "      <td>상</td>\n",
              "      <td>79.0</td>\n",
              "      <td>16.0</td>\n",
              "      <td>51.0</td>\n",
              "    </tr>\n",
              "    <tr>\n",
              "      <th>2</th>\n",
              "      <td>포도</td>\n",
              "      <td>이승순</td>\n",
              "      <td>상</td>\n",
              "      <td>94.0</td>\n",
              "      <td>23.0</td>\n",
              "      <td>72.0</td>\n",
              "    </tr>\n",
              "    <tr>\n",
              "      <th>3</th>\n",
              "      <td>멜론</td>\n",
              "      <td>이승순</td>\n",
              "      <td>NaN</td>\n",
              "      <td>NaN</td>\n",
              "      <td>NaN</td>\n",
              "      <td>NaN</td>\n",
              "    </tr>\n",
              "  </tbody>\n",
              "</table>\n",
              "</div>"
            ],
            "text/plain": [
              "  과일명  재배인   품질   18년   19년   20년\n",
              "0  사과  이승순    중  39.0  77.0  23.0\n",
              "1  딸기  이승순    상  79.0  16.0  51.0\n",
              "2  포도  이승순    상  94.0  23.0  72.0\n",
              "3  멜론  이승순  NaN   NaN   NaN   NaN"
            ]
          },
          "metadata": {},
          "execution_count": 55
        }
      ]
    },
    {
      "cell_type": "markdown",
      "metadata": {
        "id": "l-qVjBv3vaew"
      },
      "source": [
        "변경한 데이터프레임을 엑셀 파일로 저장하겠습니다."
      ]
    },
    {
      "cell_type": "code",
      "metadata": {
        "colab": {
          "base_uri": "https://localhost:8080/"
        },
        "id": "-HULRoO2vd1J",
        "outputId": "abec48cb-64fe-43fb-cdb9-64f7a09e0a98"
      },
      "source": [
        "# 파일명이 같으면 덮어씁니다.\n",
        "ex_file_name = '/content/gdrive/MyDrive/Python_for_Data_Analytics_Science/수확량_이승원.xlsx'\n",
        "ex_file_writer = pd.ExcelWriter(ex_file_name)\n",
        "df_lsw.to_excel(ex_file_writer, index=False)\n",
        "ex_file_writer.save()\n",
        "\n",
        "glob.glob(ex_file_name)"
      ],
      "execution_count": null,
      "outputs": [
        {
          "output_type": "execute_result",
          "data": {
            "text/plain": [
              "['/content/gdrive/MyDrive/Python_for_Data_Analytics_Science/수확량_이승원.xlsx']"
            ]
          },
          "metadata": {},
          "execution_count": 56
        }
      ]
    },
    {
      "cell_type": "markdown",
      "metadata": {
        "id": "s9HBDDICwiEU"
      },
      "source": [
        "여러 엑셀 파일의 데이터를 수정하는 방법을 설명하겠습니다. `re` 모듈과 메타문자를 사용할 예정입니다.\n",
        "\n",
        "여기서는 `sub()` 메서드만 활용하겠습니다. 먼저 파일명을 바꾸겠습니다."
      ]
    },
    {
      "cell_type": "code",
      "metadata": {
        "colab": {
          "base_uri": "https://localhost:8080/",
          "height": 35
        },
        "id": "4BN54IbbcnKS",
        "outputId": "3ce00449-09b0-4738-edb9-4fae2fd7da50"
      },
      "source": [
        "import re\n",
        "\n",
        "ex_file_name = '/content/gdrive/MyDrive/Python_for_Data_Analytics_Science/수확량_이승원.xlsx'\n",
        "\n",
        "# 객체에만 넘기고 파일 자체에 변화를 주지는 않았으므로 파일명이 완전히 바뀌진 않습니다.\n",
        "# 그대로 '수확량_이승원.xlsx'입니다.\n",
        "new_name = re.sub('.xlsx', '2.xlsx', ex_file_name)\n",
        "new_name"
      ],
      "execution_count": null,
      "outputs": [
        {
          "output_type": "execute_result",
          "data": {
            "application/vnd.google.colaboratory.intrinsic+json": {
              "type": "string"
            },
            "text/plain": [
              "'/content/gdrive/MyDrive/Python_for_Data_Analytics_Science/수확량_이승원2.xlsx'"
            ]
          },
          "metadata": {},
          "execution_count": 57
        }
      ]
    },
    {
      "cell_type": "markdown",
      "metadata": {
        "id": "VieAHnx1gIiH"
      },
      "source": [
        "'유지민', '김의종', '이승순'으로 된 재배인을 '유지광', '김의관', '이승철'로 바꾸고 파일명을 바꾸겠습니다. 일단 모든 파일을 읽습니다."
      ]
    },
    {
      "cell_type": "code",
      "metadata": {
        "colab": {
          "base_uri": "https://localhost:8080/"
        },
        "id": "R5vi4iQmghvJ",
        "outputId": "72a04582-a396-4d57-928a-de2ed3db0581"
      },
      "source": [
        "# 파일명을 '수확량_???.xlsx'로 지정해서 '수확량_통합.xlsx' 파일을 제외하려고 했으나\n",
        "# '*'만 적용되고 '?'는 적용되지 않았습니다. 이유는 알 수 없었습니다.\n",
        "# 따라서 '수확량_???.xlsx'에 해당하는 파일만 for문으로 부르겠습니다.\n",
        "ex_files = glob.glob('/content/gdrive/MyDrive/Python_for_Data_Analytics_Science/수확량_*.xlsx')\n",
        "ex_name_files = ex_files[0:3]\n",
        "ex_name_files"
      ],
      "execution_count": null,
      "outputs": [
        {
          "output_type": "execute_result",
          "data": {
            "text/plain": [
              "['/content/gdrive/MyDrive/Python_for_Data_Analytics_Science/수확량_김의종.xlsx',\n",
              " '/content/gdrive/MyDrive/Python_for_Data_Analytics_Science/수확량_유지민.xlsx',\n",
              " '/content/gdrive/MyDrive/Python_for_Data_Analytics_Science/수확량_이승원.xlsx']"
            ]
          },
          "metadata": {},
          "execution_count": 58
        }
      ]
    },
    {
      "cell_type": "code",
      "metadata": {
        "colab": {
          "base_uri": "https://localhost:8080/"
        },
        "id": "5-2vdJahwoZF",
        "outputId": "31e033e9-d838-422d-b22c-d3da87937a9d"
      },
      "source": [
        "for f in ex_name_files:\n",
        "    df = pd.read_excel(f)\n",
        "\n",
        "    # 이름을 변경하고, 기존 파일명을 바꾸겠습니다.\n",
        "    if (df.loc[0, '재배인'] == '유지민'):\n",
        "        df['재배인'] = '유지광'\n",
        "        new_file_name = re.sub('유지민', '유지광', f)\n",
        "        print(new_file_name)\n",
        "    elif (df.loc[0, '재배인'] == '김의종'):\n",
        "        df['재배인'] = '김의관'\n",
        "        new_file_name = re.sub('김의종', '김의관', f)\n",
        "        print(new_file_name)\n",
        "    elif (df.loc[0, '재배인'] == '이승순'):\n",
        "        df['재배인'] = '이승철'\n",
        "        new_file_name = re.sub('이승원', '이승철', f)\n",
        "        print(new_file_name)\n",
        "\n",
        "    # 엑셀 파일로 저장하겠습니다.\n",
        "    new_ex_file = pd.ExcelWriter(new_file_name)\n",
        "    df.to_excel(new_ex_file, index=False)\n",
        "    new_ex_file.save()"
      ],
      "execution_count": null,
      "outputs": [
        {
          "output_type": "stream",
          "name": "stdout",
          "text": [
            "/content/gdrive/MyDrive/Python_for_Data_Analytics_Science/수확량_김의관.xlsx\n",
            "/content/gdrive/MyDrive/Python_for_Data_Analytics_Science/수확량_유지광.xlsx\n",
            "/content/gdrive/MyDrive/Python_for_Data_Analytics_Science/수확량_이승철.xlsx\n"
          ]
        }
      ]
    },
    {
      "cell_type": "code",
      "metadata": {
        "colab": {
          "base_uri": "https://localhost:8080/"
        },
        "id": "nsY1cghe1rcF",
        "outputId": "84c6a0f1-9b1d-4a3d-ebe5-ca09bd8a8da3"
      },
      "source": [
        "new_ex_files = glob.glob('/content/gdrive/MyDrive/Python_for_Data_Analytics_Science/수확량_*.xlsx')\n",
        "new_ex_files"
      ],
      "execution_count": null,
      "outputs": [
        {
          "output_type": "execute_result",
          "data": {
            "text/plain": [
              "['/content/gdrive/MyDrive/Python_for_Data_Analytics_Science/수확량_김의종.xlsx',\n",
              " '/content/gdrive/MyDrive/Python_for_Data_Analytics_Science/수확량_유지민.xlsx',\n",
              " '/content/gdrive/MyDrive/Python_for_Data_Analytics_Science/수확량_이승원.xlsx',\n",
              " '/content/gdrive/MyDrive/Python_for_Data_Analytics_Science/수확량_통합.xlsx',\n",
              " '/content/gdrive/MyDrive/Python_for_Data_Analytics_Science/수확량_김의관.xlsx',\n",
              " '/content/gdrive/MyDrive/Python_for_Data_Analytics_Science/수확량_유지광.xlsx',\n",
              " '/content/gdrive/MyDrive/Python_for_Data_Analytics_Science/수확량_이승철.xlsx']"
            ]
          },
          "metadata": {},
          "execution_count": 60
        }
      ]
    },
    {
      "cell_type": "markdown",
      "metadata": {
        "id": "DCTHeWd0Al65"
      },
      "source": [
        "### **1.2.5. 데이터 필터링하기**"
      ]
    },
    {
      "cell_type": "markdown",
      "metadata": {
        "id": "nAF9jOfABnGw"
      },
      "source": [
        "활용할 파일은 '수확량_통합.xlsx'입니다."
      ]
    },
    {
      "cell_type": "code",
      "metadata": {
        "colab": {
          "base_uri": "https://localhost:8080/",
          "height": 327
        },
        "id": "dt5UrrOxB4qf",
        "outputId": "fa71faa5-2193-4514-ba10-626e96263d1a"
      },
      "source": [
        "df = pd.read_excel('/content/gdrive/MyDrive/Python_for_Data_Analytics_Science/수확량_통합.xlsx')\n",
        "df"
      ],
      "execution_count": null,
      "outputs": [
        {
          "output_type": "execute_result",
          "data": {
            "text/html": [
              "<div>\n",
              "<style scoped>\n",
              "    .dataframe tbody tr th:only-of-type {\n",
              "        vertical-align: middle;\n",
              "    }\n",
              "\n",
              "    .dataframe tbody tr th {\n",
              "        vertical-align: top;\n",
              "    }\n",
              "\n",
              "    .dataframe thead th {\n",
              "        text-align: right;\n",
              "    }\n",
              "</style>\n",
              "<table border=\"1\" class=\"dataframe\">\n",
              "  <thead>\n",
              "    <tr style=\"text-align: right;\">\n",
              "      <th></th>\n",
              "      <th>과일명</th>\n",
              "      <th>재배인</th>\n",
              "      <th>품질</th>\n",
              "      <th>18년</th>\n",
              "      <th>19년</th>\n",
              "      <th>20년</th>\n",
              "    </tr>\n",
              "  </thead>\n",
              "  <tbody>\n",
              "    <tr>\n",
              "      <th>0</th>\n",
              "      <td>사과</td>\n",
              "      <td>김의종</td>\n",
              "      <td>중</td>\n",
              "      <td>87</td>\n",
              "      <td>52</td>\n",
              "      <td>24</td>\n",
              "    </tr>\n",
              "    <tr>\n",
              "      <th>1</th>\n",
              "      <td>딸기</td>\n",
              "      <td>김의종</td>\n",
              "      <td>상</td>\n",
              "      <td>73</td>\n",
              "      <td>16</td>\n",
              "      <td>51</td>\n",
              "    </tr>\n",
              "    <tr>\n",
              "      <th>2</th>\n",
              "      <td>포도</td>\n",
              "      <td>김의종</td>\n",
              "      <td>상</td>\n",
              "      <td>43</td>\n",
              "      <td>16</td>\n",
              "      <td>56</td>\n",
              "    </tr>\n",
              "    <tr>\n",
              "      <th>3</th>\n",
              "      <td>사과</td>\n",
              "      <td>유지민</td>\n",
              "      <td>중</td>\n",
              "      <td>62</td>\n",
              "      <td>93</td>\n",
              "      <td>60</td>\n",
              "    </tr>\n",
              "    <tr>\n",
              "      <th>4</th>\n",
              "      <td>딸기</td>\n",
              "      <td>유지민</td>\n",
              "      <td>상</td>\n",
              "      <td>52</td>\n",
              "      <td>41</td>\n",
              "      <td>45</td>\n",
              "    </tr>\n",
              "    <tr>\n",
              "      <th>5</th>\n",
              "      <td>포도</td>\n",
              "      <td>유지민</td>\n",
              "      <td>상</td>\n",
              "      <td>46</td>\n",
              "      <td>37</td>\n",
              "      <td>8</td>\n",
              "    </tr>\n",
              "    <tr>\n",
              "      <th>6</th>\n",
              "      <td>사과</td>\n",
              "      <td>이승원</td>\n",
              "      <td>중</td>\n",
              "      <td>39</td>\n",
              "      <td>67</td>\n",
              "      <td>23</td>\n",
              "    </tr>\n",
              "    <tr>\n",
              "      <th>7</th>\n",
              "      <td>딸기</td>\n",
              "      <td>이승원</td>\n",
              "      <td>상</td>\n",
              "      <td>79</td>\n",
              "      <td>16</td>\n",
              "      <td>51</td>\n",
              "    </tr>\n",
              "    <tr>\n",
              "      <th>8</th>\n",
              "      <td>포도</td>\n",
              "      <td>이승원</td>\n",
              "      <td>상</td>\n",
              "      <td>94</td>\n",
              "      <td>23</td>\n",
              "      <td>72</td>\n",
              "    </tr>\n",
              "  </tbody>\n",
              "</table>\n",
              "</div>"
            ],
            "text/plain": [
              "  과일명  재배인 품질  18년  19년  20년\n",
              "0  사과  김의종  중   87   52   24\n",
              "1  딸기  김의종  상   73   16   51\n",
              "2  포도  김의종  상   43   16   56\n",
              "3  사과  유지민  중   62   93   60\n",
              "4  딸기  유지민  상   52   41   45\n",
              "5  포도  유지민  상   46   37    8\n",
              "6  사과  이승원  중   39   67   23\n",
              "7  딸기  이승원  상   79   16   51\n",
              "8  포도  이승원  상   94   23   72"
            ]
          },
          "metadata": {},
          "execution_count": 61
        }
      ]
    },
    {
      "cell_type": "markdown",
      "metadata": {
        "id": "DyzNByV9CH0u"
      },
      "source": [
        "'과일명' 열만 추출하겠습니다."
      ]
    },
    {
      "cell_type": "code",
      "metadata": {
        "colab": {
          "base_uri": "https://localhost:8080/"
        },
        "id": "ioaIebyYCDWW",
        "outputId": "eb9edda7-44b1-4e2c-c352-acd3176cdcc0"
      },
      "source": [
        "df['과일명']"
      ],
      "execution_count": null,
      "outputs": [
        {
          "output_type": "execute_result",
          "data": {
            "text/plain": [
              "0    사과\n",
              "1    딸기\n",
              "2    포도\n",
              "3    사과\n",
              "4    딸기\n",
              "5    포도\n",
              "6    사과\n",
              "7    딸기\n",
              "8    포도\n",
              "Name: 과일명, dtype: object"
            ]
          },
          "metadata": {},
          "execution_count": 62
        }
      ]
    },
    {
      "cell_type": "markdown",
      "metadata": {
        "id": "ZIa_Z4JjCSYu"
      },
      "source": [
        "'과일명' 열에 '사과'가 있는지 확인하겠습니다."
      ]
    },
    {
      "cell_type": "code",
      "metadata": {
        "colab": {
          "base_uri": "https://localhost:8080/"
        },
        "id": "4R4FEjIPCNZn",
        "outputId": "34525ca9-2a98-4e87-bc6c-8ea859f1fb65"
      },
      "source": [
        "df['과일명'] == '사과'"
      ],
      "execution_count": null,
      "outputs": [
        {
          "output_type": "execute_result",
          "data": {
            "text/plain": [
              "0     True\n",
              "1    False\n",
              "2    False\n",
              "3     True\n",
              "4    False\n",
              "5    False\n",
              "6     True\n",
              "7    False\n",
              "8    False\n",
              "Name: 과일명, dtype: bool"
            ]
          },
          "metadata": {},
          "execution_count": 63
        }
      ]
    },
    {
      "cell_type": "markdown",
      "metadata": {
        "id": "rrum5z5pCcCx"
      },
      "source": [
        "불 타입으로 출력됩니다. 이를 기존 데이터프레임에 적용하면 '사과'만 포함된 행이 골라집니다. `df[조건]` 형식이며 불리언 인덱싱 방식입니다. 다른 방법이라면 `isin()` 메서드를 사용하는 것입니다. 이 메서드에는 반드시 리스트를 전달해야 합니다."
      ]
    },
    {
      "cell_type": "code",
      "metadata": {
        "colab": {
          "base_uri": "https://localhost:8080/",
          "height": 141
        },
        "id": "dyM05XwOMeXg",
        "outputId": "218fc376-8147-482e-b415-967f6aa52be2"
      },
      "source": [
        "df[df['과일명'] == '사과']"
      ],
      "execution_count": null,
      "outputs": [
        {
          "output_type": "execute_result",
          "data": {
            "text/html": [
              "<div>\n",
              "<style scoped>\n",
              "    .dataframe tbody tr th:only-of-type {\n",
              "        vertical-align: middle;\n",
              "    }\n",
              "\n",
              "    .dataframe tbody tr th {\n",
              "        vertical-align: top;\n",
              "    }\n",
              "\n",
              "    .dataframe thead th {\n",
              "        text-align: right;\n",
              "    }\n",
              "</style>\n",
              "<table border=\"1\" class=\"dataframe\">\n",
              "  <thead>\n",
              "    <tr style=\"text-align: right;\">\n",
              "      <th></th>\n",
              "      <th>과일명</th>\n",
              "      <th>재배인</th>\n",
              "      <th>품질</th>\n",
              "      <th>18년</th>\n",
              "      <th>19년</th>\n",
              "      <th>20년</th>\n",
              "    </tr>\n",
              "  </thead>\n",
              "  <tbody>\n",
              "    <tr>\n",
              "      <th>0</th>\n",
              "      <td>사과</td>\n",
              "      <td>김의종</td>\n",
              "      <td>중</td>\n",
              "      <td>87</td>\n",
              "      <td>52</td>\n",
              "      <td>24</td>\n",
              "    </tr>\n",
              "    <tr>\n",
              "      <th>3</th>\n",
              "      <td>사과</td>\n",
              "      <td>유지민</td>\n",
              "      <td>중</td>\n",
              "      <td>62</td>\n",
              "      <td>93</td>\n",
              "      <td>60</td>\n",
              "    </tr>\n",
              "    <tr>\n",
              "      <th>6</th>\n",
              "      <td>사과</td>\n",
              "      <td>이승원</td>\n",
              "      <td>중</td>\n",
              "      <td>39</td>\n",
              "      <td>67</td>\n",
              "      <td>23</td>\n",
              "    </tr>\n",
              "  </tbody>\n",
              "</table>\n",
              "</div>"
            ],
            "text/plain": [
              "  과일명  재배인 품질  18년  19년  20년\n",
              "0  사과  김의종  중   87   52   24\n",
              "3  사과  유지민  중   62   93   60\n",
              "6  사과  이승원  중   39   67   23"
            ]
          },
          "metadata": {},
          "execution_count": 66
        }
      ]
    },
    {
      "cell_type": "code",
      "metadata": {
        "colab": {
          "base_uri": "https://localhost:8080/",
          "height": 235
        },
        "id": "iaD3MJc6C7H7",
        "outputId": "055ed23c-8b26-4a46-e88a-2266ddaa513f"
      },
      "source": [
        "df[(df['과일명'] == '사과') | (df['과일명'] == '딸기')]"
      ],
      "execution_count": null,
      "outputs": [
        {
          "output_type": "execute_result",
          "data": {
            "text/html": [
              "<div>\n",
              "<style scoped>\n",
              "    .dataframe tbody tr th:only-of-type {\n",
              "        vertical-align: middle;\n",
              "    }\n",
              "\n",
              "    .dataframe tbody tr th {\n",
              "        vertical-align: top;\n",
              "    }\n",
              "\n",
              "    .dataframe thead th {\n",
              "        text-align: right;\n",
              "    }\n",
              "</style>\n",
              "<table border=\"1\" class=\"dataframe\">\n",
              "  <thead>\n",
              "    <tr style=\"text-align: right;\">\n",
              "      <th></th>\n",
              "      <th>과일명</th>\n",
              "      <th>재배인</th>\n",
              "      <th>품질</th>\n",
              "      <th>18년</th>\n",
              "      <th>19년</th>\n",
              "      <th>20년</th>\n",
              "    </tr>\n",
              "  </thead>\n",
              "  <tbody>\n",
              "    <tr>\n",
              "      <th>0</th>\n",
              "      <td>사과</td>\n",
              "      <td>김의종</td>\n",
              "      <td>중</td>\n",
              "      <td>87</td>\n",
              "      <td>52</td>\n",
              "      <td>24</td>\n",
              "    </tr>\n",
              "    <tr>\n",
              "      <th>1</th>\n",
              "      <td>딸기</td>\n",
              "      <td>김의종</td>\n",
              "      <td>상</td>\n",
              "      <td>73</td>\n",
              "      <td>16</td>\n",
              "      <td>51</td>\n",
              "    </tr>\n",
              "    <tr>\n",
              "      <th>3</th>\n",
              "      <td>사과</td>\n",
              "      <td>유지민</td>\n",
              "      <td>중</td>\n",
              "      <td>62</td>\n",
              "      <td>93</td>\n",
              "      <td>60</td>\n",
              "    </tr>\n",
              "    <tr>\n",
              "      <th>4</th>\n",
              "      <td>딸기</td>\n",
              "      <td>유지민</td>\n",
              "      <td>상</td>\n",
              "      <td>52</td>\n",
              "      <td>41</td>\n",
              "      <td>45</td>\n",
              "    </tr>\n",
              "    <tr>\n",
              "      <th>6</th>\n",
              "      <td>사과</td>\n",
              "      <td>이승원</td>\n",
              "      <td>중</td>\n",
              "      <td>39</td>\n",
              "      <td>67</td>\n",
              "      <td>23</td>\n",
              "    </tr>\n",
              "    <tr>\n",
              "      <th>7</th>\n",
              "      <td>딸기</td>\n",
              "      <td>이승원</td>\n",
              "      <td>상</td>\n",
              "      <td>79</td>\n",
              "      <td>16</td>\n",
              "      <td>51</td>\n",
              "    </tr>\n",
              "  </tbody>\n",
              "</table>\n",
              "</div>"
            ],
            "text/plain": [
              "  과일명  재배인 품질  18년  19년  20년\n",
              "0  사과  김의종  중   87   52   24\n",
              "1  딸기  김의종  상   73   16   51\n",
              "3  사과  유지민  중   62   93   60\n",
              "4  딸기  유지민  상   52   41   45\n",
              "6  사과  이승원  중   39   67   23\n",
              "7  딸기  이승원  상   79   16   51"
            ]
          },
          "metadata": {},
          "execution_count": 64
        }
      ]
    },
    {
      "cell_type": "code",
      "metadata": {
        "colab": {
          "base_uri": "https://localhost:8080/",
          "height": 80
        },
        "id": "Kck_HT-GMvPB",
        "outputId": "48aa0e96-d639-4e78-9182-ac34dc1719a6"
      },
      "source": [
        "df[(df['과일명'] == '사과') & (df['18년'] > 70)]"
      ],
      "execution_count": null,
      "outputs": [
        {
          "output_type": "execute_result",
          "data": {
            "text/html": [
              "<div>\n",
              "<style scoped>\n",
              "    .dataframe tbody tr th:only-of-type {\n",
              "        vertical-align: middle;\n",
              "    }\n",
              "\n",
              "    .dataframe tbody tr th {\n",
              "        vertical-align: top;\n",
              "    }\n",
              "\n",
              "    .dataframe thead th {\n",
              "        text-align: right;\n",
              "    }\n",
              "</style>\n",
              "<table border=\"1\" class=\"dataframe\">\n",
              "  <thead>\n",
              "    <tr style=\"text-align: right;\">\n",
              "      <th></th>\n",
              "      <th>과일명</th>\n",
              "      <th>재배인</th>\n",
              "      <th>품질</th>\n",
              "      <th>18년</th>\n",
              "      <th>19년</th>\n",
              "      <th>20년</th>\n",
              "    </tr>\n",
              "  </thead>\n",
              "  <tbody>\n",
              "    <tr>\n",
              "      <th>0</th>\n",
              "      <td>사과</td>\n",
              "      <td>김의종</td>\n",
              "      <td>중</td>\n",
              "      <td>87</td>\n",
              "      <td>52</td>\n",
              "      <td>24</td>\n",
              "    </tr>\n",
              "  </tbody>\n",
              "</table>\n",
              "</div>"
            ],
            "text/plain": [
              "  과일명  재배인 품질  18년  19년  20년\n",
              "0  사과  김의종  중   87   52   24"
            ]
          },
          "metadata": {},
          "execution_count": 65
        }
      ]
    },
    {
      "cell_type": "code",
      "metadata": {
        "colab": {
          "base_uri": "https://localhost:8080/",
          "height": 141
        },
        "id": "3l05jVK-DV3L",
        "outputId": "9929bfdd-736e-4367-91cc-baf0ccf02b4b"
      },
      "source": [
        "# `isin()` 메서드에 단일값을 전달하더라도 반드시 리스트 형태로 넘겨야 합니다.\n",
        "df[df['과일명'].isin(['사과'])]"
      ],
      "execution_count": null,
      "outputs": [
        {
          "output_type": "execute_result",
          "data": {
            "text/html": [
              "<div>\n",
              "<style scoped>\n",
              "    .dataframe tbody tr th:only-of-type {\n",
              "        vertical-align: middle;\n",
              "    }\n",
              "\n",
              "    .dataframe tbody tr th {\n",
              "        vertical-align: top;\n",
              "    }\n",
              "\n",
              "    .dataframe thead th {\n",
              "        text-align: right;\n",
              "    }\n",
              "</style>\n",
              "<table border=\"1\" class=\"dataframe\">\n",
              "  <thead>\n",
              "    <tr style=\"text-align: right;\">\n",
              "      <th></th>\n",
              "      <th>과일명</th>\n",
              "      <th>재배인</th>\n",
              "      <th>품질</th>\n",
              "      <th>18년</th>\n",
              "      <th>19년</th>\n",
              "      <th>20년</th>\n",
              "    </tr>\n",
              "  </thead>\n",
              "  <tbody>\n",
              "    <tr>\n",
              "      <th>0</th>\n",
              "      <td>사과</td>\n",
              "      <td>김의종</td>\n",
              "      <td>중</td>\n",
              "      <td>87</td>\n",
              "      <td>52</td>\n",
              "      <td>24</td>\n",
              "    </tr>\n",
              "    <tr>\n",
              "      <th>3</th>\n",
              "      <td>사과</td>\n",
              "      <td>유지민</td>\n",
              "      <td>중</td>\n",
              "      <td>62</td>\n",
              "      <td>93</td>\n",
              "      <td>60</td>\n",
              "    </tr>\n",
              "    <tr>\n",
              "      <th>6</th>\n",
              "      <td>사과</td>\n",
              "      <td>이승원</td>\n",
              "      <td>중</td>\n",
              "      <td>39</td>\n",
              "      <td>67</td>\n",
              "      <td>23</td>\n",
              "    </tr>\n",
              "  </tbody>\n",
              "</table>\n",
              "</div>"
            ],
            "text/plain": [
              "  과일명  재배인 품질  18년  19년  20년\n",
              "0  사과  김의종  중   87   52   24\n",
              "3  사과  유지민  중   62   93   60\n",
              "6  사과  이승원  중   39   67   23"
            ]
          },
          "metadata": {},
          "execution_count": 67
        }
      ]
    },
    {
      "cell_type": "code",
      "metadata": {
        "colab": {
          "base_uri": "https://localhost:8080/",
          "height": 235
        },
        "id": "XupmHjGvLOP7",
        "outputId": "a53b22a4-44fd-45c4-cdb5-8c2c9488f76a"
      },
      "source": [
        "df[df['과일명'].isin(['사과', '딸기'])]"
      ],
      "execution_count": null,
      "outputs": [
        {
          "output_type": "execute_result",
          "data": {
            "text/html": [
              "<div>\n",
              "<style scoped>\n",
              "    .dataframe tbody tr th:only-of-type {\n",
              "        vertical-align: middle;\n",
              "    }\n",
              "\n",
              "    .dataframe tbody tr th {\n",
              "        vertical-align: top;\n",
              "    }\n",
              "\n",
              "    .dataframe thead th {\n",
              "        text-align: right;\n",
              "    }\n",
              "</style>\n",
              "<table border=\"1\" class=\"dataframe\">\n",
              "  <thead>\n",
              "    <tr style=\"text-align: right;\">\n",
              "      <th></th>\n",
              "      <th>과일명</th>\n",
              "      <th>재배인</th>\n",
              "      <th>품질</th>\n",
              "      <th>18년</th>\n",
              "      <th>19년</th>\n",
              "      <th>20년</th>\n",
              "    </tr>\n",
              "  </thead>\n",
              "  <tbody>\n",
              "    <tr>\n",
              "      <th>0</th>\n",
              "      <td>사과</td>\n",
              "      <td>김의종</td>\n",
              "      <td>중</td>\n",
              "      <td>87</td>\n",
              "      <td>52</td>\n",
              "      <td>24</td>\n",
              "    </tr>\n",
              "    <tr>\n",
              "      <th>1</th>\n",
              "      <td>딸기</td>\n",
              "      <td>김의종</td>\n",
              "      <td>상</td>\n",
              "      <td>73</td>\n",
              "      <td>16</td>\n",
              "      <td>51</td>\n",
              "    </tr>\n",
              "    <tr>\n",
              "      <th>3</th>\n",
              "      <td>사과</td>\n",
              "      <td>유지민</td>\n",
              "      <td>중</td>\n",
              "      <td>62</td>\n",
              "      <td>93</td>\n",
              "      <td>60</td>\n",
              "    </tr>\n",
              "    <tr>\n",
              "      <th>4</th>\n",
              "      <td>딸기</td>\n",
              "      <td>유지민</td>\n",
              "      <td>상</td>\n",
              "      <td>52</td>\n",
              "      <td>41</td>\n",
              "      <td>45</td>\n",
              "    </tr>\n",
              "    <tr>\n",
              "      <th>6</th>\n",
              "      <td>사과</td>\n",
              "      <td>이승원</td>\n",
              "      <td>중</td>\n",
              "      <td>39</td>\n",
              "      <td>67</td>\n",
              "      <td>23</td>\n",
              "    </tr>\n",
              "    <tr>\n",
              "      <th>7</th>\n",
              "      <td>딸기</td>\n",
              "      <td>이승원</td>\n",
              "      <td>상</td>\n",
              "      <td>79</td>\n",
              "      <td>16</td>\n",
              "      <td>51</td>\n",
              "    </tr>\n",
              "  </tbody>\n",
              "</table>\n",
              "</div>"
            ],
            "text/plain": [
              "  과일명  재배인 품질  18년  19년  20년\n",
              "0  사과  김의종  중   87   52   24\n",
              "1  딸기  김의종  상   73   16   51\n",
              "3  사과  유지민  중   62   93   60\n",
              "4  딸기  유지민  상   52   41   45\n",
              "6  사과  이승원  중   39   67   23\n",
              "7  딸기  이승원  상   79   16   51"
            ]
          },
          "metadata": {},
          "execution_count": 80
        }
      ]
    },
    {
      "cell_type": "code",
      "metadata": {
        "colab": {
          "base_uri": "https://localhost:8080/",
          "height": 172
        },
        "id": "U_9QQA1VPBSE",
        "outputId": "95232b07-43fd-4a43-c845-4d08dd208f3e"
      },
      "source": [
        "df[(df['과일명'].isin(['사과', '딸기'])) & (df['18년'] > 60)]"
      ],
      "execution_count": null,
      "outputs": [
        {
          "output_type": "execute_result",
          "data": {
            "text/html": [
              "<div>\n",
              "<style scoped>\n",
              "    .dataframe tbody tr th:only-of-type {\n",
              "        vertical-align: middle;\n",
              "    }\n",
              "\n",
              "    .dataframe tbody tr th {\n",
              "        vertical-align: top;\n",
              "    }\n",
              "\n",
              "    .dataframe thead th {\n",
              "        text-align: right;\n",
              "    }\n",
              "</style>\n",
              "<table border=\"1\" class=\"dataframe\">\n",
              "  <thead>\n",
              "    <tr style=\"text-align: right;\">\n",
              "      <th></th>\n",
              "      <th>과일명</th>\n",
              "      <th>재배인</th>\n",
              "      <th>품질</th>\n",
              "      <th>18년</th>\n",
              "      <th>19년</th>\n",
              "      <th>20년</th>\n",
              "    </tr>\n",
              "  </thead>\n",
              "  <tbody>\n",
              "    <tr>\n",
              "      <th>0</th>\n",
              "      <td>사과</td>\n",
              "      <td>김의종</td>\n",
              "      <td>중</td>\n",
              "      <td>87</td>\n",
              "      <td>52</td>\n",
              "      <td>24</td>\n",
              "    </tr>\n",
              "    <tr>\n",
              "      <th>1</th>\n",
              "      <td>딸기</td>\n",
              "      <td>김의종</td>\n",
              "      <td>상</td>\n",
              "      <td>73</td>\n",
              "      <td>16</td>\n",
              "      <td>51</td>\n",
              "    </tr>\n",
              "    <tr>\n",
              "      <th>3</th>\n",
              "      <td>사과</td>\n",
              "      <td>유지민</td>\n",
              "      <td>중</td>\n",
              "      <td>62</td>\n",
              "      <td>93</td>\n",
              "      <td>60</td>\n",
              "    </tr>\n",
              "    <tr>\n",
              "      <th>7</th>\n",
              "      <td>딸기</td>\n",
              "      <td>이승원</td>\n",
              "      <td>상</td>\n",
              "      <td>79</td>\n",
              "      <td>16</td>\n",
              "      <td>51</td>\n",
              "    </tr>\n",
              "  </tbody>\n",
              "</table>\n",
              "</div>"
            ],
            "text/plain": [
              "  과일명  재배인 품질  18년  19년  20년\n",
              "0  사과  김의종  중   87   52   24\n",
              "1  딸기  김의종  상   73   16   51\n",
              "3  사과  유지민  중   62   93   60\n",
              "7  딸기  이승원  상   79   16   51"
            ]
          },
          "metadata": {},
          "execution_count": 83
        }
      ]
    },
    {
      "cell_type": "markdown",
      "metadata": {
        "id": "D7Z7h1McWIKl"
      },
      "source": [
        "'18년', '19년' 열을 제외하고 선택하겠습니다."
      ]
    },
    {
      "cell_type": "code",
      "metadata": {
        "colab": {
          "base_uri": "https://localhost:8080/",
          "height": 327
        },
        "id": "kVj4NjuhWSxQ",
        "outputId": "fd08e399-6821-40f0-ab76-dc5ce653dd96"
      },
      "source": [
        "df[['과일명', '재배인', '품질', '20년']]"
      ],
      "execution_count": null,
      "outputs": [
        {
          "output_type": "execute_result",
          "data": {
            "text/html": [
              "<div>\n",
              "<style scoped>\n",
              "    .dataframe tbody tr th:only-of-type {\n",
              "        vertical-align: middle;\n",
              "    }\n",
              "\n",
              "    .dataframe tbody tr th {\n",
              "        vertical-align: top;\n",
              "    }\n",
              "\n",
              "    .dataframe thead th {\n",
              "        text-align: right;\n",
              "    }\n",
              "</style>\n",
              "<table border=\"1\" class=\"dataframe\">\n",
              "  <thead>\n",
              "    <tr style=\"text-align: right;\">\n",
              "      <th></th>\n",
              "      <th>과일명</th>\n",
              "      <th>재배인</th>\n",
              "      <th>품질</th>\n",
              "      <th>20년</th>\n",
              "    </tr>\n",
              "  </thead>\n",
              "  <tbody>\n",
              "    <tr>\n",
              "      <th>0</th>\n",
              "      <td>사과</td>\n",
              "      <td>김의종</td>\n",
              "      <td>중</td>\n",
              "      <td>24</td>\n",
              "    </tr>\n",
              "    <tr>\n",
              "      <th>1</th>\n",
              "      <td>딸기</td>\n",
              "      <td>김의종</td>\n",
              "      <td>상</td>\n",
              "      <td>51</td>\n",
              "    </tr>\n",
              "    <tr>\n",
              "      <th>2</th>\n",
              "      <td>포도</td>\n",
              "      <td>김의종</td>\n",
              "      <td>상</td>\n",
              "      <td>56</td>\n",
              "    </tr>\n",
              "    <tr>\n",
              "      <th>3</th>\n",
              "      <td>사과</td>\n",
              "      <td>유지민</td>\n",
              "      <td>중</td>\n",
              "      <td>60</td>\n",
              "    </tr>\n",
              "    <tr>\n",
              "      <th>4</th>\n",
              "      <td>딸기</td>\n",
              "      <td>유지민</td>\n",
              "      <td>상</td>\n",
              "      <td>45</td>\n",
              "    </tr>\n",
              "    <tr>\n",
              "      <th>5</th>\n",
              "      <td>포도</td>\n",
              "      <td>유지민</td>\n",
              "      <td>상</td>\n",
              "      <td>8</td>\n",
              "    </tr>\n",
              "    <tr>\n",
              "      <th>6</th>\n",
              "      <td>사과</td>\n",
              "      <td>이승원</td>\n",
              "      <td>중</td>\n",
              "      <td>23</td>\n",
              "    </tr>\n",
              "    <tr>\n",
              "      <th>7</th>\n",
              "      <td>딸기</td>\n",
              "      <td>이승원</td>\n",
              "      <td>상</td>\n",
              "      <td>51</td>\n",
              "    </tr>\n",
              "    <tr>\n",
              "      <th>8</th>\n",
              "      <td>포도</td>\n",
              "      <td>이승원</td>\n",
              "      <td>상</td>\n",
              "      <td>72</td>\n",
              "    </tr>\n",
              "  </tbody>\n",
              "</table>\n",
              "</div>"
            ],
            "text/plain": [
              "  과일명  재배인 품질  20년\n",
              "0  사과  김의종  중   24\n",
              "1  딸기  김의종  상   51\n",
              "2  포도  김의종  상   56\n",
              "3  사과  유지민  중   60\n",
              "4  딸기  유지민  상   45\n",
              "5  포도  유지민  상    8\n",
              "6  사과  이승원  중   23\n",
              "7  딸기  이승원  상   51\n",
              "8  포도  이승원  상   72"
            ]
          },
          "metadata": {},
          "execution_count": 86
        }
      ]
    },
    {
      "cell_type": "code",
      "metadata": {
        "colab": {
          "base_uri": "https://localhost:8080/",
          "height": 327
        },
        "id": "nP5BClJGWb34",
        "outputId": "ae1ea8b8-28fc-4066-915f-ac429d2a3f97"
      },
      "source": [
        "df.iloc[:, [0, 1, 2, 5]]"
      ],
      "execution_count": null,
      "outputs": [
        {
          "output_type": "execute_result",
          "data": {
            "text/html": [
              "<div>\n",
              "<style scoped>\n",
              "    .dataframe tbody tr th:only-of-type {\n",
              "        vertical-align: middle;\n",
              "    }\n",
              "\n",
              "    .dataframe tbody tr th {\n",
              "        vertical-align: top;\n",
              "    }\n",
              "\n",
              "    .dataframe thead th {\n",
              "        text-align: right;\n",
              "    }\n",
              "</style>\n",
              "<table border=\"1\" class=\"dataframe\">\n",
              "  <thead>\n",
              "    <tr style=\"text-align: right;\">\n",
              "      <th></th>\n",
              "      <th>과일명</th>\n",
              "      <th>재배인</th>\n",
              "      <th>품질</th>\n",
              "      <th>20년</th>\n",
              "    </tr>\n",
              "  </thead>\n",
              "  <tbody>\n",
              "    <tr>\n",
              "      <th>0</th>\n",
              "      <td>사과</td>\n",
              "      <td>김의종</td>\n",
              "      <td>중</td>\n",
              "      <td>24</td>\n",
              "    </tr>\n",
              "    <tr>\n",
              "      <th>1</th>\n",
              "      <td>딸기</td>\n",
              "      <td>김의종</td>\n",
              "      <td>상</td>\n",
              "      <td>51</td>\n",
              "    </tr>\n",
              "    <tr>\n",
              "      <th>2</th>\n",
              "      <td>포도</td>\n",
              "      <td>김의종</td>\n",
              "      <td>상</td>\n",
              "      <td>56</td>\n",
              "    </tr>\n",
              "    <tr>\n",
              "      <th>3</th>\n",
              "      <td>사과</td>\n",
              "      <td>유지민</td>\n",
              "      <td>중</td>\n",
              "      <td>60</td>\n",
              "    </tr>\n",
              "    <tr>\n",
              "      <th>4</th>\n",
              "      <td>딸기</td>\n",
              "      <td>유지민</td>\n",
              "      <td>상</td>\n",
              "      <td>45</td>\n",
              "    </tr>\n",
              "    <tr>\n",
              "      <th>5</th>\n",
              "      <td>포도</td>\n",
              "      <td>유지민</td>\n",
              "      <td>상</td>\n",
              "      <td>8</td>\n",
              "    </tr>\n",
              "    <tr>\n",
              "      <th>6</th>\n",
              "      <td>사과</td>\n",
              "      <td>이승원</td>\n",
              "      <td>중</td>\n",
              "      <td>23</td>\n",
              "    </tr>\n",
              "    <tr>\n",
              "      <th>7</th>\n",
              "      <td>딸기</td>\n",
              "      <td>이승원</td>\n",
              "      <td>상</td>\n",
              "      <td>51</td>\n",
              "    </tr>\n",
              "    <tr>\n",
              "      <th>8</th>\n",
              "      <td>포도</td>\n",
              "      <td>이승원</td>\n",
              "      <td>상</td>\n",
              "      <td>72</td>\n",
              "    </tr>\n",
              "  </tbody>\n",
              "</table>\n",
              "</div>"
            ],
            "text/plain": [
              "  과일명  재배인 품질  20년\n",
              "0  사과  김의종  중   24\n",
              "1  딸기  김의종  상   51\n",
              "2  포도  김의종  상   56\n",
              "3  사과  유지민  중   60\n",
              "4  딸기  유지민  상   45\n",
              "5  포도  유지민  상    8\n",
              "6  사과  이승원  중   23\n",
              "7  딸기  이승원  상   51\n",
              "8  포도  이승원  상   72"
            ]
          },
          "metadata": {},
          "execution_count": 85
        }
      ]
    },
    {
      "cell_type": "code",
      "metadata": {
        "colab": {
          "base_uri": "https://localhost:8080/",
          "height": 141
        },
        "id": "JzmP8qR9cXdQ",
        "outputId": "5d061e47-9587-4122-ddf1-5634dc593cbd"
      },
      "source": [
        "df.iloc[6:9, [0, 1, 2, 5]]"
      ],
      "execution_count": null,
      "outputs": [
        {
          "output_type": "execute_result",
          "data": {
            "text/html": [
              "<div>\n",
              "<style scoped>\n",
              "    .dataframe tbody tr th:only-of-type {\n",
              "        vertical-align: middle;\n",
              "    }\n",
              "\n",
              "    .dataframe tbody tr th {\n",
              "        vertical-align: top;\n",
              "    }\n",
              "\n",
              "    .dataframe thead th {\n",
              "        text-align: right;\n",
              "    }\n",
              "</style>\n",
              "<table border=\"1\" class=\"dataframe\">\n",
              "  <thead>\n",
              "    <tr style=\"text-align: right;\">\n",
              "      <th></th>\n",
              "      <th>과일명</th>\n",
              "      <th>재배인</th>\n",
              "      <th>품질</th>\n",
              "      <th>20년</th>\n",
              "    </tr>\n",
              "  </thead>\n",
              "  <tbody>\n",
              "    <tr>\n",
              "      <th>6</th>\n",
              "      <td>사과</td>\n",
              "      <td>이승원</td>\n",
              "      <td>중</td>\n",
              "      <td>23</td>\n",
              "    </tr>\n",
              "    <tr>\n",
              "      <th>7</th>\n",
              "      <td>딸기</td>\n",
              "      <td>이승원</td>\n",
              "      <td>상</td>\n",
              "      <td>51</td>\n",
              "    </tr>\n",
              "    <tr>\n",
              "      <th>8</th>\n",
              "      <td>포도</td>\n",
              "      <td>이승원</td>\n",
              "      <td>상</td>\n",
              "      <td>72</td>\n",
              "    </tr>\n",
              "  </tbody>\n",
              "</table>\n",
              "</div>"
            ],
            "text/plain": [
              "  과일명  재배인 품질  20년\n",
              "6  사과  이승원  중   23\n",
              "7  딸기  이승원  상   51\n",
              "8  포도  이승원  상   72"
            ]
          },
          "metadata": {},
          "execution_count": 113
        }
      ]
    },
    {
      "cell_type": "code",
      "metadata": {
        "colab": {
          "base_uri": "https://localhost:8080/",
          "height": 141
        },
        "id": "7JIfdy8UXDk_",
        "outputId": "cbc9ab99-0efa-4f8c-e9c2-4ff5a21545cc"
      },
      "source": [
        "df.loc[df['재배인'].isin(['이승원']), ['과일명', '재배인', '품질', '20년']]"
      ],
      "execution_count": null,
      "outputs": [
        {
          "output_type": "execute_result",
          "data": {
            "text/html": [
              "<div>\n",
              "<style scoped>\n",
              "    .dataframe tbody tr th:only-of-type {\n",
              "        vertical-align: middle;\n",
              "    }\n",
              "\n",
              "    .dataframe tbody tr th {\n",
              "        vertical-align: top;\n",
              "    }\n",
              "\n",
              "    .dataframe thead th {\n",
              "        text-align: right;\n",
              "    }\n",
              "</style>\n",
              "<table border=\"1\" class=\"dataframe\">\n",
              "  <thead>\n",
              "    <tr style=\"text-align: right;\">\n",
              "      <th></th>\n",
              "      <th>과일명</th>\n",
              "      <th>재배인</th>\n",
              "      <th>품질</th>\n",
              "      <th>20년</th>\n",
              "    </tr>\n",
              "  </thead>\n",
              "  <tbody>\n",
              "    <tr>\n",
              "      <th>6</th>\n",
              "      <td>사과</td>\n",
              "      <td>이승원</td>\n",
              "      <td>중</td>\n",
              "      <td>23</td>\n",
              "    </tr>\n",
              "    <tr>\n",
              "      <th>7</th>\n",
              "      <td>딸기</td>\n",
              "      <td>이승원</td>\n",
              "      <td>상</td>\n",
              "      <td>51</td>\n",
              "    </tr>\n",
              "    <tr>\n",
              "      <th>8</th>\n",
              "      <td>포도</td>\n",
              "      <td>이승원</td>\n",
              "      <td>상</td>\n",
              "      <td>72</td>\n",
              "    </tr>\n",
              "  </tbody>\n",
              "</table>\n",
              "</div>"
            ],
            "text/plain": [
              "  과일명  재배인 품질  20년\n",
              "6  사과  이승원  중   23\n",
              "7  딸기  이승원  상   51\n",
              "8  포도  이승원  상   72"
            ]
          },
          "metadata": {},
          "execution_count": 107
        }
      ]
    },
    {
      "cell_type": "code",
      "metadata": {
        "colab": {
          "base_uri": "https://localhost:8080/",
          "height": 141
        },
        "id": "3wInIqNia_hY",
        "outputId": "a333701d-5ce3-453e-a922-2872d5877dec"
      },
      "source": [
        "df[df['재배인'].isin(['이승원'])][['과일명', '재배인', '품질', '20년']]"
      ],
      "execution_count": null,
      "outputs": [
        {
          "output_type": "execute_result",
          "data": {
            "text/html": [
              "<div>\n",
              "<style scoped>\n",
              "    .dataframe tbody tr th:only-of-type {\n",
              "        vertical-align: middle;\n",
              "    }\n",
              "\n",
              "    .dataframe tbody tr th {\n",
              "        vertical-align: top;\n",
              "    }\n",
              "\n",
              "    .dataframe thead th {\n",
              "        text-align: right;\n",
              "    }\n",
              "</style>\n",
              "<table border=\"1\" class=\"dataframe\">\n",
              "  <thead>\n",
              "    <tr style=\"text-align: right;\">\n",
              "      <th></th>\n",
              "      <th>과일명</th>\n",
              "      <th>재배인</th>\n",
              "      <th>품질</th>\n",
              "      <th>20년</th>\n",
              "    </tr>\n",
              "  </thead>\n",
              "  <tbody>\n",
              "    <tr>\n",
              "      <th>6</th>\n",
              "      <td>사과</td>\n",
              "      <td>이승원</td>\n",
              "      <td>중</td>\n",
              "      <td>23</td>\n",
              "    </tr>\n",
              "    <tr>\n",
              "      <th>7</th>\n",
              "      <td>딸기</td>\n",
              "      <td>이승원</td>\n",
              "      <td>상</td>\n",
              "      <td>51</td>\n",
              "    </tr>\n",
              "    <tr>\n",
              "      <th>8</th>\n",
              "      <td>포도</td>\n",
              "      <td>이승원</td>\n",
              "      <td>상</td>\n",
              "      <td>72</td>\n",
              "    </tr>\n",
              "  </tbody>\n",
              "</table>\n",
              "</div>"
            ],
            "text/plain": [
              "  과일명  재배인 품질  20년\n",
              "6  사과  이승원  중   23\n",
              "7  딸기  이승원  상   51\n",
              "8  포도  이승원  상   72"
            ]
          },
          "metadata": {},
          "execution_count": 109
        }
      ]
    },
    {
      "cell_type": "markdown",
      "metadata": {
        "id": "b7d2qDbgdvvH"
      },
      "source": [
        "### **1.2.6. 데이터 연산하기**"
      ]
    },
    {
      "cell_type": "markdown",
      "metadata": {
        "id": "HBgXJ1SBd2lJ"
      },
      "source": [
        "**2. 데이터를 다루기 위한 파이썬 패키지** 챕터의 판다스 파트에서 다뤘던 내용을 간단하게 적용하겠습니다."
      ]
    },
    {
      "cell_type": "code",
      "metadata": {
        "colab": {
          "base_uri": "https://localhost:8080/",
          "height": 327
        },
        "id": "5wKVz8wzeeBt",
        "outputId": "b7da8681-11e6-4240-e72e-9b1ea12e1a17"
      },
      "source": [
        "df"
      ],
      "execution_count": null,
      "outputs": [
        {
          "output_type": "execute_result",
          "data": {
            "text/html": [
              "<div>\n",
              "<style scoped>\n",
              "    .dataframe tbody tr th:only-of-type {\n",
              "        vertical-align: middle;\n",
              "    }\n",
              "\n",
              "    .dataframe tbody tr th {\n",
              "        vertical-align: top;\n",
              "    }\n",
              "\n",
              "    .dataframe thead th {\n",
              "        text-align: right;\n",
              "    }\n",
              "</style>\n",
              "<table border=\"1\" class=\"dataframe\">\n",
              "  <thead>\n",
              "    <tr style=\"text-align: right;\">\n",
              "      <th></th>\n",
              "      <th>과일명</th>\n",
              "      <th>재배인</th>\n",
              "      <th>품질</th>\n",
              "      <th>18년</th>\n",
              "      <th>19년</th>\n",
              "      <th>20년</th>\n",
              "    </tr>\n",
              "  </thead>\n",
              "  <tbody>\n",
              "    <tr>\n",
              "      <th>0</th>\n",
              "      <td>사과</td>\n",
              "      <td>김의종</td>\n",
              "      <td>중</td>\n",
              "      <td>87</td>\n",
              "      <td>52</td>\n",
              "      <td>24</td>\n",
              "    </tr>\n",
              "    <tr>\n",
              "      <th>1</th>\n",
              "      <td>딸기</td>\n",
              "      <td>김의종</td>\n",
              "      <td>상</td>\n",
              "      <td>73</td>\n",
              "      <td>16</td>\n",
              "      <td>51</td>\n",
              "    </tr>\n",
              "    <tr>\n",
              "      <th>2</th>\n",
              "      <td>포도</td>\n",
              "      <td>김의종</td>\n",
              "      <td>상</td>\n",
              "      <td>43</td>\n",
              "      <td>16</td>\n",
              "      <td>56</td>\n",
              "    </tr>\n",
              "    <tr>\n",
              "      <th>3</th>\n",
              "      <td>사과</td>\n",
              "      <td>유지민</td>\n",
              "      <td>중</td>\n",
              "      <td>62</td>\n",
              "      <td>93</td>\n",
              "      <td>60</td>\n",
              "    </tr>\n",
              "    <tr>\n",
              "      <th>4</th>\n",
              "      <td>딸기</td>\n",
              "      <td>유지민</td>\n",
              "      <td>상</td>\n",
              "      <td>52</td>\n",
              "      <td>41</td>\n",
              "      <td>45</td>\n",
              "    </tr>\n",
              "    <tr>\n",
              "      <th>5</th>\n",
              "      <td>포도</td>\n",
              "      <td>유지민</td>\n",
              "      <td>상</td>\n",
              "      <td>46</td>\n",
              "      <td>37</td>\n",
              "      <td>8</td>\n",
              "    </tr>\n",
              "    <tr>\n",
              "      <th>6</th>\n",
              "      <td>사과</td>\n",
              "      <td>이승원</td>\n",
              "      <td>중</td>\n",
              "      <td>39</td>\n",
              "      <td>67</td>\n",
              "      <td>23</td>\n",
              "    </tr>\n",
              "    <tr>\n",
              "      <th>7</th>\n",
              "      <td>딸기</td>\n",
              "      <td>이승원</td>\n",
              "      <td>상</td>\n",
              "      <td>79</td>\n",
              "      <td>16</td>\n",
              "      <td>51</td>\n",
              "    </tr>\n",
              "    <tr>\n",
              "      <th>8</th>\n",
              "      <td>포도</td>\n",
              "      <td>이승원</td>\n",
              "      <td>상</td>\n",
              "      <td>94</td>\n",
              "      <td>23</td>\n",
              "      <td>72</td>\n",
              "    </tr>\n",
              "  </tbody>\n",
              "</table>\n",
              "</div>"
            ],
            "text/plain": [
              "  과일명  재배인 품질  18년  19년  20년\n",
              "0  사과  김의종  중   87   52   24\n",
              "1  딸기  김의종  상   73   16   51\n",
              "2  포도  김의종  상   43   16   56\n",
              "3  사과  유지민  중   62   93   60\n",
              "4  딸기  유지민  상   52   41   45\n",
              "5  포도  유지민  상   46   37    8\n",
              "6  사과  이승원  중   39   67   23\n",
              "7  딸기  이승원  상   79   16   51\n",
              "8  포도  이승원  상   94   23   72"
            ]
          },
          "metadata": {},
          "execution_count": 251
        }
      ]
    },
    {
      "cell_type": "markdown",
      "metadata": {
        "id": "kvYAw21hi549"
      },
      "source": [
        "'사과'의 '총재배량'을 구하겠습니다."
      ]
    },
    {
      "cell_type": "code",
      "metadata": {
        "colab": {
          "base_uri": "https://localhost:8080/"
        },
        "id": "g8LuNJJ_hJpY",
        "outputId": "7eda542a-cd2f-4a03-88a1-c66a96345c18"
      },
      "source": [
        "df_app = df[df['과일명'] == '사과']\n",
        "print(df_app.sum())\n",
        "print()\n",
        "print(df_app.sum(axis=1))"
      ],
      "execution_count": null,
      "outputs": [
        {
          "output_type": "stream",
          "name": "stdout",
          "text": [
            "과일명       사과사과사과\n",
            "재배인    김의종유지민이승원\n",
            "품질           중중중\n",
            "18년          188\n",
            "19년          212\n",
            "20년          107\n",
            "dtype: object\n",
            "\n",
            "0    163\n",
            "3    215\n",
            "6    129\n",
            "dtype: int64\n"
          ]
        }
      ]
    },
    {
      "cell_type": "code",
      "metadata": {
        "colab": {
          "base_uri": "https://localhost:8080/",
          "height": 141
        },
        "id": "Y1j3Ovy9iAYp",
        "outputId": "64c9739a-63d2-4eac-c9ce-5978395abc92"
      },
      "source": [
        "df_app_sum1 = pd.DataFrame(df_app.sum(axis=1), columns=['총재배량'])\n",
        "df_app_sum1"
      ],
      "execution_count": null,
      "outputs": [
        {
          "output_type": "execute_result",
          "data": {
            "text/html": [
              "<div>\n",
              "<style scoped>\n",
              "    .dataframe tbody tr th:only-of-type {\n",
              "        vertical-align: middle;\n",
              "    }\n",
              "\n",
              "    .dataframe tbody tr th {\n",
              "        vertical-align: top;\n",
              "    }\n",
              "\n",
              "    .dataframe thead th {\n",
              "        text-align: right;\n",
              "    }\n",
              "</style>\n",
              "<table border=\"1\" class=\"dataframe\">\n",
              "  <thead>\n",
              "    <tr style=\"text-align: right;\">\n",
              "      <th></th>\n",
              "      <th>총재배량</th>\n",
              "    </tr>\n",
              "  </thead>\n",
              "  <tbody>\n",
              "    <tr>\n",
              "      <th>0</th>\n",
              "      <td>163</td>\n",
              "    </tr>\n",
              "    <tr>\n",
              "      <th>3</th>\n",
              "      <td>215</td>\n",
              "    </tr>\n",
              "    <tr>\n",
              "      <th>6</th>\n",
              "      <td>129</td>\n",
              "    </tr>\n",
              "  </tbody>\n",
              "</table>\n",
              "</div>"
            ],
            "text/plain": [
              "   총재배량\n",
              "0   163\n",
              "3   215\n",
              "6   129"
            ]
          },
          "metadata": {},
          "execution_count": 253
        }
      ]
    },
    {
      "cell_type": "markdown",
      "metadata": {
        "id": "WiCfXxMIj86-"
      },
      "source": [
        "`join()` 메서드를 사용하여 데이터프레임을 합치겠습니다."
      ]
    },
    {
      "cell_type": "code",
      "metadata": {
        "colab": {
          "base_uri": "https://localhost:8080/",
          "height": 141
        },
        "id": "GrS68cYyivxy",
        "outputId": "3fce59a3-adff-4fcc-abfd-7e544481dd69"
      },
      "source": [
        "df_app_join = df_app.join(df_app_sum)\n",
        "df_app_join"
      ],
      "execution_count": null,
      "outputs": [
        {
          "output_type": "execute_result",
          "data": {
            "text/html": [
              "<div>\n",
              "<style scoped>\n",
              "    .dataframe tbody tr th:only-of-type {\n",
              "        vertical-align: middle;\n",
              "    }\n",
              "\n",
              "    .dataframe tbody tr th {\n",
              "        vertical-align: top;\n",
              "    }\n",
              "\n",
              "    .dataframe thead th {\n",
              "        text-align: right;\n",
              "    }\n",
              "</style>\n",
              "<table border=\"1\" class=\"dataframe\">\n",
              "  <thead>\n",
              "    <tr style=\"text-align: right;\">\n",
              "      <th></th>\n",
              "      <th>과일명</th>\n",
              "      <th>재배인</th>\n",
              "      <th>품질</th>\n",
              "      <th>18년</th>\n",
              "      <th>19년</th>\n",
              "      <th>20년</th>\n",
              "      <th>총재배량</th>\n",
              "    </tr>\n",
              "  </thead>\n",
              "  <tbody>\n",
              "    <tr>\n",
              "      <th>0</th>\n",
              "      <td>사과</td>\n",
              "      <td>김의종</td>\n",
              "      <td>중</td>\n",
              "      <td>87</td>\n",
              "      <td>52</td>\n",
              "      <td>24</td>\n",
              "      <td>163</td>\n",
              "    </tr>\n",
              "    <tr>\n",
              "      <th>3</th>\n",
              "      <td>사과</td>\n",
              "      <td>유지민</td>\n",
              "      <td>중</td>\n",
              "      <td>62</td>\n",
              "      <td>93</td>\n",
              "      <td>60</td>\n",
              "      <td>215</td>\n",
              "    </tr>\n",
              "    <tr>\n",
              "      <th>6</th>\n",
              "      <td>사과</td>\n",
              "      <td>이승원</td>\n",
              "      <td>중</td>\n",
              "      <td>39</td>\n",
              "      <td>67</td>\n",
              "      <td>23</td>\n",
              "      <td>129</td>\n",
              "    </tr>\n",
              "  </tbody>\n",
              "</table>\n",
              "</div>"
            ],
            "text/plain": [
              "  과일명  재배인 품질  18년  19년  20년  총재배량\n",
              "0  사과  김의종  중   87   52   24   163\n",
              "3  사과  유지민  중   62   93   60   215\n",
              "6  사과  이승원  중   39   67   23   129"
            ]
          },
          "metadata": {},
          "execution_count": 254
        }
      ]
    },
    {
      "cell_type": "markdown",
      "metadata": {
        "id": "7CSZLv5MkfqI"
      },
      "source": [
        "`sort_values()` 메서드를 사용하여 '총재배량'을 기준으로 내림차순 정렬을 지정하겠습니다."
      ]
    },
    {
      "cell_type": "code",
      "metadata": {
        "colab": {
          "base_uri": "https://localhost:8080/",
          "height": 141
        },
        "id": "LfJTbSJKjgWO",
        "outputId": "d1054d15-badc-447d-80be-2229211912e6"
      },
      "source": [
        "df_app_join = df_app_join.sort_values(by='총재배량', ascending=False)\n",
        "df_app_join"
      ],
      "execution_count": null,
      "outputs": [
        {
          "output_type": "execute_result",
          "data": {
            "text/html": [
              "<div>\n",
              "<style scoped>\n",
              "    .dataframe tbody tr th:only-of-type {\n",
              "        vertical-align: middle;\n",
              "    }\n",
              "\n",
              "    .dataframe tbody tr th {\n",
              "        vertical-align: top;\n",
              "    }\n",
              "\n",
              "    .dataframe thead th {\n",
              "        text-align: right;\n",
              "    }\n",
              "</style>\n",
              "<table border=\"1\" class=\"dataframe\">\n",
              "  <thead>\n",
              "    <tr style=\"text-align: right;\">\n",
              "      <th></th>\n",
              "      <th>과일명</th>\n",
              "      <th>재배인</th>\n",
              "      <th>품질</th>\n",
              "      <th>18년</th>\n",
              "      <th>19년</th>\n",
              "      <th>20년</th>\n",
              "      <th>총재배량</th>\n",
              "    </tr>\n",
              "  </thead>\n",
              "  <tbody>\n",
              "    <tr>\n",
              "      <th>3</th>\n",
              "      <td>사과</td>\n",
              "      <td>유지민</td>\n",
              "      <td>중</td>\n",
              "      <td>62</td>\n",
              "      <td>93</td>\n",
              "      <td>60</td>\n",
              "      <td>215</td>\n",
              "    </tr>\n",
              "    <tr>\n",
              "      <th>0</th>\n",
              "      <td>사과</td>\n",
              "      <td>김의종</td>\n",
              "      <td>중</td>\n",
              "      <td>87</td>\n",
              "      <td>52</td>\n",
              "      <td>24</td>\n",
              "      <td>163</td>\n",
              "    </tr>\n",
              "    <tr>\n",
              "      <th>6</th>\n",
              "      <td>사과</td>\n",
              "      <td>이승원</td>\n",
              "      <td>중</td>\n",
              "      <td>39</td>\n",
              "      <td>67</td>\n",
              "      <td>23</td>\n",
              "      <td>129</td>\n",
              "    </tr>\n",
              "  </tbody>\n",
              "</table>\n",
              "</div>"
            ],
            "text/plain": [
              "  과일명  재배인 품질  18년  19년  20년  총재배량\n",
              "3  사과  유지민  중   62   93   60   215\n",
              "0  사과  김의종  중   87   52   24   163\n",
              "6  사과  이승원  중   39   67   23   129"
            ]
          },
          "metadata": {},
          "execution_count": 255
        }
      ]
    },
    {
      "cell_type": "markdown",
      "metadata": {
        "id": "EUHuJdSWk8Kc"
      },
      "source": [
        "다음은 열 합계량을 구하겠습니다."
      ]
    },
    {
      "cell_type": "code",
      "metadata": {
        "colab": {
          "base_uri": "https://localhost:8080/",
          "height": 235
        },
        "id": "dhTwOE70oxHo",
        "outputId": "d49cd638-2be8-4c09-fd90-d9d614f9fb97"
      },
      "source": [
        "df_app_sum2 = pd.DataFrame(df_app.sum(), columns=['연재배량'])\n",
        "df_app_sum2"
      ],
      "execution_count": null,
      "outputs": [
        {
          "output_type": "execute_result",
          "data": {
            "text/html": [
              "<div>\n",
              "<style scoped>\n",
              "    .dataframe tbody tr th:only-of-type {\n",
              "        vertical-align: middle;\n",
              "    }\n",
              "\n",
              "    .dataframe tbody tr th {\n",
              "        vertical-align: top;\n",
              "    }\n",
              "\n",
              "    .dataframe thead th {\n",
              "        text-align: right;\n",
              "    }\n",
              "</style>\n",
              "<table border=\"1\" class=\"dataframe\">\n",
              "  <thead>\n",
              "    <tr style=\"text-align: right;\">\n",
              "      <th></th>\n",
              "      <th>연재배량</th>\n",
              "    </tr>\n",
              "  </thead>\n",
              "  <tbody>\n",
              "    <tr>\n",
              "      <th>과일명</th>\n",
              "      <td>사과사과사과</td>\n",
              "    </tr>\n",
              "    <tr>\n",
              "      <th>재배인</th>\n",
              "      <td>김의종유지민이승원</td>\n",
              "    </tr>\n",
              "    <tr>\n",
              "      <th>품질</th>\n",
              "      <td>중중중</td>\n",
              "    </tr>\n",
              "    <tr>\n",
              "      <th>18년</th>\n",
              "      <td>188</td>\n",
              "    </tr>\n",
              "    <tr>\n",
              "      <th>19년</th>\n",
              "      <td>212</td>\n",
              "    </tr>\n",
              "    <tr>\n",
              "      <th>20년</th>\n",
              "      <td>107</td>\n",
              "    </tr>\n",
              "  </tbody>\n",
              "</table>\n",
              "</div>"
            ],
            "text/plain": [
              "          연재배량\n",
              "과일명     사과사과사과\n",
              "재배인  김의종유지민이승원\n",
              "품질         중중중\n",
              "18년        188\n",
              "19년        212\n",
              "20년        107"
            ]
          },
          "metadata": {},
          "execution_count": 256
        }
      ]
    },
    {
      "cell_type": "markdown",
      "metadata": {
        "id": "zauClK9opqv-"
      },
      "source": [
        "데이터프레임에 알맞게 합치기 위해 데이터프레임을 전치시킵니다."
      ]
    },
    {
      "cell_type": "code",
      "metadata": {
        "colab": {
          "base_uri": "https://localhost:8080/",
          "height": 80
        },
        "id": "uo6hY5xrsa3g",
        "outputId": "6a8ff30d-05db-470f-e7eb-520e2667eb9a"
      },
      "source": [
        "df_app_sum2_t = df_app_sum2.T\n",
        "df_app_sum2_t"
      ],
      "execution_count": null,
      "outputs": [
        {
          "output_type": "execute_result",
          "data": {
            "text/html": [
              "<div>\n",
              "<style scoped>\n",
              "    .dataframe tbody tr th:only-of-type {\n",
              "        vertical-align: middle;\n",
              "    }\n",
              "\n",
              "    .dataframe tbody tr th {\n",
              "        vertical-align: top;\n",
              "    }\n",
              "\n",
              "    .dataframe thead th {\n",
              "        text-align: right;\n",
              "    }\n",
              "</style>\n",
              "<table border=\"1\" class=\"dataframe\">\n",
              "  <thead>\n",
              "    <tr style=\"text-align: right;\">\n",
              "      <th></th>\n",
              "      <th>과일명</th>\n",
              "      <th>재배인</th>\n",
              "      <th>품질</th>\n",
              "      <th>18년</th>\n",
              "      <th>19년</th>\n",
              "      <th>20년</th>\n",
              "    </tr>\n",
              "  </thead>\n",
              "  <tbody>\n",
              "    <tr>\n",
              "      <th>연재배량</th>\n",
              "      <td>사과사과사과</td>\n",
              "      <td>김의종유지민이승원</td>\n",
              "      <td>중중중</td>\n",
              "      <td>188</td>\n",
              "      <td>212</td>\n",
              "      <td>107</td>\n",
              "    </tr>\n",
              "  </tbody>\n",
              "</table>\n",
              "</div>"
            ],
            "text/plain": [
              "         과일명        재배인   품질  18년  19년  20년\n",
              "연재배량  사과사과사과  김의종유지민이승원  중중중  188  212  107"
            ]
          },
          "metadata": {},
          "execution_count": 257
        }
      ]
    },
    {
      "cell_type": "markdown",
      "metadata": {
        "id": "toWdBS6bspPW"
      },
      "source": [
        "데이터프레임과 합칩니다. `append()` 메서드를 사용해서 이번에는 행으로 합치겠습니다."
      ]
    },
    {
      "cell_type": "code",
      "metadata": {
        "colab": {
          "base_uri": "https://localhost:8080/",
          "height": 172
        },
        "id": "IBL-6D4esq2P",
        "outputId": "6ead42e4-0fb2-4080-be09-64bed1273588"
      },
      "source": [
        "df_app_append = df_app_join.append(df_app_sum2_t)\n",
        "df_app_append"
      ],
      "execution_count": null,
      "outputs": [
        {
          "output_type": "execute_result",
          "data": {
            "text/html": [
              "<div>\n",
              "<style scoped>\n",
              "    .dataframe tbody tr th:only-of-type {\n",
              "        vertical-align: middle;\n",
              "    }\n",
              "\n",
              "    .dataframe tbody tr th {\n",
              "        vertical-align: top;\n",
              "    }\n",
              "\n",
              "    .dataframe thead th {\n",
              "        text-align: right;\n",
              "    }\n",
              "</style>\n",
              "<table border=\"1\" class=\"dataframe\">\n",
              "  <thead>\n",
              "    <tr style=\"text-align: right;\">\n",
              "      <th></th>\n",
              "      <th>과일명</th>\n",
              "      <th>재배인</th>\n",
              "      <th>품질</th>\n",
              "      <th>18년</th>\n",
              "      <th>19년</th>\n",
              "      <th>20년</th>\n",
              "      <th>총재배량</th>\n",
              "    </tr>\n",
              "  </thead>\n",
              "  <tbody>\n",
              "    <tr>\n",
              "      <th>3</th>\n",
              "      <td>사과</td>\n",
              "      <td>유지민</td>\n",
              "      <td>중</td>\n",
              "      <td>62</td>\n",
              "      <td>93</td>\n",
              "      <td>60</td>\n",
              "      <td>215.0</td>\n",
              "    </tr>\n",
              "    <tr>\n",
              "      <th>0</th>\n",
              "      <td>사과</td>\n",
              "      <td>김의종</td>\n",
              "      <td>중</td>\n",
              "      <td>87</td>\n",
              "      <td>52</td>\n",
              "      <td>24</td>\n",
              "      <td>163.0</td>\n",
              "    </tr>\n",
              "    <tr>\n",
              "      <th>6</th>\n",
              "      <td>사과</td>\n",
              "      <td>이승원</td>\n",
              "      <td>중</td>\n",
              "      <td>39</td>\n",
              "      <td>67</td>\n",
              "      <td>23</td>\n",
              "      <td>129.0</td>\n",
              "    </tr>\n",
              "    <tr>\n",
              "      <th>연재배량</th>\n",
              "      <td>사과사과사과</td>\n",
              "      <td>김의종유지민이승원</td>\n",
              "      <td>중중중</td>\n",
              "      <td>188</td>\n",
              "      <td>212</td>\n",
              "      <td>107</td>\n",
              "      <td>NaN</td>\n",
              "    </tr>\n",
              "  </tbody>\n",
              "</table>\n",
              "</div>"
            ],
            "text/plain": [
              "         과일명        재배인   품질  18년  19년  20년   총재배량\n",
              "3         사과        유지민    중   62   93   60  215.0\n",
              "0         사과        김의종    중   87   52   24  163.0\n",
              "6         사과        이승원    중   39   67   23  129.0\n",
              "연재배량  사과사과사과  김의종유지민이승원  중중중  188  212  107    NaN"
            ]
          },
          "metadata": {},
          "execution_count": 258
        }
      ]
    },
    {
      "cell_type": "markdown",
      "metadata": {
        "id": "8aLb8Dwotu-l"
      },
      "source": [
        "맨 아래 행의 부적절한 값을 바꾸겠습니다."
      ]
    },
    {
      "cell_type": "code",
      "metadata": {
        "colab": {
          "base_uri": "https://localhost:8080/",
          "height": 172
        },
        "id": "1mFJAJ3Gt4by",
        "outputId": "e61996c1-78b6-410b-c8e9-83b4df302a39"
      },
      "source": [
        "df_app_append.loc['연재배량', '과일명'] = '사과'\n",
        "df_app_append.loc['연재배량', '재배인'] = '전체'\n",
        "df_app_append.loc['연재배량', '품질'] = '중'\n",
        "df_app_append.loc['연재배량', '총재배량'] = df_app_append['총재배량'].sum()\n",
        "df_app_append"
      ],
      "execution_count": null,
      "outputs": [
        {
          "output_type": "execute_result",
          "data": {
            "text/html": [
              "<div>\n",
              "<style scoped>\n",
              "    .dataframe tbody tr th:only-of-type {\n",
              "        vertical-align: middle;\n",
              "    }\n",
              "\n",
              "    .dataframe tbody tr th {\n",
              "        vertical-align: top;\n",
              "    }\n",
              "\n",
              "    .dataframe thead th {\n",
              "        text-align: right;\n",
              "    }\n",
              "</style>\n",
              "<table border=\"1\" class=\"dataframe\">\n",
              "  <thead>\n",
              "    <tr style=\"text-align: right;\">\n",
              "      <th></th>\n",
              "      <th>과일명</th>\n",
              "      <th>재배인</th>\n",
              "      <th>품질</th>\n",
              "      <th>18년</th>\n",
              "      <th>19년</th>\n",
              "      <th>20년</th>\n",
              "      <th>총재배량</th>\n",
              "    </tr>\n",
              "  </thead>\n",
              "  <tbody>\n",
              "    <tr>\n",
              "      <th>3</th>\n",
              "      <td>사과</td>\n",
              "      <td>유지민</td>\n",
              "      <td>중</td>\n",
              "      <td>62</td>\n",
              "      <td>93</td>\n",
              "      <td>60</td>\n",
              "      <td>215.0</td>\n",
              "    </tr>\n",
              "    <tr>\n",
              "      <th>0</th>\n",
              "      <td>사과</td>\n",
              "      <td>김의종</td>\n",
              "      <td>중</td>\n",
              "      <td>87</td>\n",
              "      <td>52</td>\n",
              "      <td>24</td>\n",
              "      <td>163.0</td>\n",
              "    </tr>\n",
              "    <tr>\n",
              "      <th>6</th>\n",
              "      <td>사과</td>\n",
              "      <td>이승원</td>\n",
              "      <td>중</td>\n",
              "      <td>39</td>\n",
              "      <td>67</td>\n",
              "      <td>23</td>\n",
              "      <td>129.0</td>\n",
              "    </tr>\n",
              "    <tr>\n",
              "      <th>연재배량</th>\n",
              "      <td>사과</td>\n",
              "      <td>전체</td>\n",
              "      <td>중</td>\n",
              "      <td>188</td>\n",
              "      <td>212</td>\n",
              "      <td>107</td>\n",
              "      <td>507.0</td>\n",
              "    </tr>\n",
              "  </tbody>\n",
              "</table>\n",
              "</div>"
            ],
            "text/plain": [
              "     과일명  재배인 품질  18년  19년  20년   총재배량\n",
              "3     사과  유지민  중   62   93   60  215.0\n",
              "0     사과  김의종  중   87   52   24  163.0\n",
              "6     사과  이승원  중   39   67   23  129.0\n",
              "연재배량  사과   전체  중  188  212  107  507.0"
            ]
          },
          "metadata": {},
          "execution_count": 259
        }
      ]
    },
    {
      "cell_type": "markdown",
      "metadata": {
        "id": "sQnFMRDinyRc"
      },
      "source": [
        "### **1.2.7. 데이터 시각화하기**"
      ]
    },
    {
      "cell_type": "markdown",
      "metadata": {
        "id": "yH1gaTS2pK6J"
      },
      "source": [
        "엑셀 데이터를 시각화하는 방법은 두 가지가 있습니다. 하나는 파이썬으로 생성한 그래프를 엑셀 파일에 추가하는 방법이고, 다른 하나는 엑셀 차트를 파이썬으로 만드는 방법입니다.\n",
        "\n",
        "먼저 파이썬으로 그래프를 생성하고 엑셀 파일에 추가하는 방법을 설명하겠습니다."
      ]
    },
    {
      "cell_type": "code",
      "metadata": {
        "colab": {
          "base_uri": "https://localhost:8080/",
          "height": 359
        },
        "id": "oZczRjUXsRKi",
        "outputId": "632948c6-d7a4-4d8c-e62e-ab9264747e1c"
      },
      "source": [
        "import pandas as pd\n",
        "import matplotlib.pyplot as plt\n",
        "\n",
        "dict_sp = {'second': [1, 2, 3, 4, 5, 6, 7, 8, 9],\n",
        "          'Car A': [7, 15, 25, 31, 37, 43, 32, 23, 42],\n",
        "          'Car B': [5, 13, 21, 27, 16, 29, 41, 37, 5],\n",
        "           'Car C': [39, 36, 30, 21, 25, 10, 17, 20, 22]}\n",
        "\n",
        "# 열을 데이터프레임의 index로 지정하려면 딕셔너리의 키를 지정합니다.\n",
        "# 데이터프레임의 열을 지정할 때는 열명만 지정합니다.\n",
        "df = pd.DataFrame(dict_sp, index=dict_sp['second'], columns=['Car A', 'Car B', 'Car C'])\n",
        "df.index.name = 'second'\n",
        "df"
      ],
      "execution_count": null,
      "outputs": [
        {
          "output_type": "execute_result",
          "data": {
            "text/html": [
              "<div>\n",
              "<style scoped>\n",
              "    .dataframe tbody tr th:only-of-type {\n",
              "        vertical-align: middle;\n",
              "    }\n",
              "\n",
              "    .dataframe tbody tr th {\n",
              "        vertical-align: top;\n",
              "    }\n",
              "\n",
              "    .dataframe thead th {\n",
              "        text-align: right;\n",
              "    }\n",
              "</style>\n",
              "<table border=\"1\" class=\"dataframe\">\n",
              "  <thead>\n",
              "    <tr style=\"text-align: right;\">\n",
              "      <th></th>\n",
              "      <th>Car A</th>\n",
              "      <th>Car B</th>\n",
              "      <th>Car C</th>\n",
              "    </tr>\n",
              "    <tr>\n",
              "      <th>second</th>\n",
              "      <th></th>\n",
              "      <th></th>\n",
              "      <th></th>\n",
              "    </tr>\n",
              "  </thead>\n",
              "  <tbody>\n",
              "    <tr>\n",
              "      <th>1</th>\n",
              "      <td>7</td>\n",
              "      <td>5</td>\n",
              "      <td>39</td>\n",
              "    </tr>\n",
              "    <tr>\n",
              "      <th>2</th>\n",
              "      <td>15</td>\n",
              "      <td>13</td>\n",
              "      <td>36</td>\n",
              "    </tr>\n",
              "    <tr>\n",
              "      <th>3</th>\n",
              "      <td>25</td>\n",
              "      <td>21</td>\n",
              "      <td>30</td>\n",
              "    </tr>\n",
              "    <tr>\n",
              "      <th>4</th>\n",
              "      <td>31</td>\n",
              "      <td>27</td>\n",
              "      <td>21</td>\n",
              "    </tr>\n",
              "    <tr>\n",
              "      <th>5</th>\n",
              "      <td>37</td>\n",
              "      <td>16</td>\n",
              "      <td>25</td>\n",
              "    </tr>\n",
              "    <tr>\n",
              "      <th>6</th>\n",
              "      <td>43</td>\n",
              "      <td>29</td>\n",
              "      <td>10</td>\n",
              "    </tr>\n",
              "    <tr>\n",
              "      <th>7</th>\n",
              "      <td>32</td>\n",
              "      <td>41</td>\n",
              "      <td>17</td>\n",
              "    </tr>\n",
              "    <tr>\n",
              "      <th>8</th>\n",
              "      <td>23</td>\n",
              "      <td>37</td>\n",
              "      <td>20</td>\n",
              "    </tr>\n",
              "    <tr>\n",
              "      <th>9</th>\n",
              "      <td>42</td>\n",
              "      <td>5</td>\n",
              "      <td>22</td>\n",
              "    </tr>\n",
              "  </tbody>\n",
              "</table>\n",
              "</div>"
            ],
            "text/plain": [
              "        Car A  Car B  Car C\n",
              "second                     \n",
              "1           7      5     39\n",
              "2          15     13     36\n",
              "3          25     21     30\n",
              "4          31     27     21\n",
              "5          37     16     25\n",
              "6          43     29     10\n",
              "7          32     41     17\n",
              "8          23     37     20\n",
              "9          42      5     22"
            ]
          },
          "metadata": {},
          "execution_count": 14
        }
      ]
    },
    {
      "cell_type": "markdown",
      "metadata": {
        "id": "il0XJrSYkHM6"
      },
      "source": [
        "[맷플롯립](https://matplotlib.org/2.1.1/api/_as_gen/matplotlib.pyplot.plot.html)은 **5. 데이터 시각화를 위한 파이썬 시각화 도구**에서 추가로 다룰 예정입니다. 여기서는 서적 내용을 기반으로 변형을 거친 간단한 예제만 살피겠습니다."
      ]
    },
    {
      "cell_type": "code",
      "metadata": {
        "id": "WMpvav3yyIkW",
        "colab": {
          "base_uri": "https://localhost:8080/",
          "height": 295
        },
        "outputId": "018e778e-372a-4b99-9667-aca38f0f5dcb"
      },
      "source": [
        "# 아래는 판다스의 메서드이지만 맷플롯립을 기반으로 쓰는 것입니다.\n",
        "# `style` 파라미터의 인자는 맷플롯립에서 사용하는 선 스타일과 동일하게 쓰입니다.\n",
        "# 다만 일반 맷플롯립과는 달리 `색 선 마커` 형식으로 아래처럼 붙여서 한번에 지정합니다. \n",
        "speed_plot = df.plot(grid=True, style=['k-*', '-o', '-^'], title='Speed by time')\n",
        "speed_plot.set_ylabel('Speed')\n",
        "\n",
        "image_file = '/content/gdrive/MyDrive/Python_for_Data_Analytics_Science/초별 속도.png'\n",
        "plt.savefig(image_file, dpi=400)\n",
        "\n",
        "plt.show()"
      ],
      "execution_count": null,
      "outputs": [
        {
          "output_type": "display_data",
          "data": {
            "image/png": "[encoded data removed]",
            "text/plain": [
              "<Figure size 432x288 with 1 Axes>"
            ]
          },
          "metadata": {
            "needs_background": "light"
          }
        }
      ]
    },
    {
      "cell_type": "markdown",
      "metadata": {
        "id": "MRXo2Zo68kD4"
      },
      "source": [
        "판다스 `ExcelWriter()` 메서드로 `engine=xlsxwriter`를 사용하려면 따로 설치해야 합니다. [xlsxwriter](https://xlsxwriter.readthedocs.io/working_with_pandas.html)를 클릭하면 더 많은 설명을 볼 수 있습니다."
      ]
    },
    {
      "cell_type": "code",
      "metadata": {
        "colab": {
          "base_uri": "https://localhost:8080/"
        },
        "id": "fFvPvTpf5FJK",
        "outputId": "f84244e9-3e8b-45d0-a210-e34791b7b05d"
      },
      "source": [
        "pip install xlsxwriter"
      ],
      "execution_count": null,
      "outputs": [
        {
          "output_type": "stream",
          "name": "stdout",
          "text": [
            "Collecting xlsxwriter\n",
            "  Downloading XlsxWriter-3.0.1-py3-none-any.whl (148 kB)\n",
            "\u001b[?25l\r\u001b[K     |██▏                             | 10 kB 25.5 MB/s eta 0:00:01\r\u001b[K     |████▍                           | 20 kB 10.0 MB/s eta 0:00:01\r\u001b[K     |██████▋                         | 30 kB 8.4 MB/s eta 0:00:01\r\u001b[K     |████████▉                       | 40 kB 7.9 MB/s eta 0:00:01\r\u001b[K     |███████████                     | 51 kB 4.1 MB/s eta 0:00:01\r\u001b[K     |█████████████▏                  | 61 kB 4.3 MB/s eta 0:00:01\r\u001b[K     |███████████████▍                | 71 kB 4.7 MB/s eta 0:00:01\r\u001b[K     |█████████████████▋              | 81 kB 5.2 MB/s eta 0:00:01\r\u001b[K     |███████████████████▉            | 92 kB 3.9 MB/s eta 0:00:01\r\u001b[K     |██████████████████████          | 102 kB 4.1 MB/s eta 0:00:01\r\u001b[K     |████████████████████████▎       | 112 kB 4.1 MB/s eta 0:00:01\r\u001b[K     |██████████████████████████▍     | 122 kB 4.1 MB/s eta 0:00:01\r\u001b[K     |████████████████████████████▋   | 133 kB 4.1 MB/s eta 0:00:01\r\u001b[K     |██████████████████████████████▉ | 143 kB 4.1 MB/s eta 0:00:01\r\u001b[K     |████████████████████████████████| 148 kB 4.1 MB/s \n",
            "\u001b[?25hInstalling collected packages: xlsxwriter\n",
            "Successfully installed xlsxwriter-3.0.1\n"
          ]
        }
      ]
    },
    {
      "cell_type": "code",
      "metadata": {
        "id": "NBYT7d55iT09"
      },
      "source": [
        "# 파일 경로와 파일명을 지정합니다.\n",
        "excel_file = '/content/gdrive/MyDrive/Python_for_Data_Analytics_Science/초별 속도.xlsx'\n",
        "\n",
        "# `ExcelWriter()` 메서드를 객체로 생성합니다.\n",
        "excel_writer = pd.ExcelWriter(excel_file, engine='xlsxwriter')\n",
        "\n",
        "# 데이터프레임을 엑셀 형식으로 파일화합니다.\n",
        "df.to_excel(excel_writer, index=True, sheet_name='sheet1')\n",
        "\n",
        "# 워크시트를 객체화합니다.\n",
        "worksheet = excel_writer.sheets['sheet1']\n",
        "\n",
        "# `insert_image()` 메서드로 워크시트에 이미지를 넣습니다.\n",
        "# '(11, 1, image_file, {'x_scale': 0.5, 'y_scale': 0.5})'도 가능합니다.\n",
        "worksheet.insert_image('A11', image_file, {'x_scale': 0.5, 'y_scale': 0.5})\n",
        "\n",
        "# 최종적으로 저장합니다.\n",
        "excel_writer.save()"
      ],
      "execution_count": null,
      "outputs": []
    },
    {
      "cell_type": "markdown",
      "metadata": {
        "id": "sudCrr_EGSYL"
      },
      "source": [
        "이번에는 엑셀 차트를 파이썬으로 만드는 방법을 설명하겠습니다."
      ]
    },
    {
      "cell_type": "markdown",
      "metadata": {
        "id": "TFpPzPsxPmWE"
      },
      "source": [
        "지정할 수 있는 차트 유형은 아래와 같습니다. 더 자세한 설명은 [`add_chart()`](https://xlsxwriter.readthedocs.io/chart.html) 링크를 참고 바랍니다.\n",
        "\n",
        "- `area`: 영역형\n",
        "\n",
        "- `bar`: 가로 막대형\n",
        "\n",
        "- `column`: 세로 막대형\n",
        "\n",
        "- `line`: 꺾은 선형\n",
        "\n",
        "- `pie`: 원형\n",
        "\n",
        "- `doughtnut`: 도넛형\n",
        "\n",
        "- `scatter`: 분산형\n",
        "\n",
        "- `stock`: 주식형\n",
        "\n",
        "- `radar`: 방사형"
      ]
    },
    {
      "cell_type": "code",
      "metadata": {
        "id": "LWq4hPH7HUoO"
      },
      "source": [
        "# 먼저 `ExcelWriter()` 메서드의 객체를 만듭니다.\n",
        "excel_file = '/content/gdrive/MyDrive/Python_for_Data_Analytics_Science/초별 속도 차트.xlsx'\n",
        "excel_writer = pd.ExcelWriter(excel_file, engine='xlsxwriter')\n",
        "\n",
        "# 데이터프레임을 엑셀화합니다.\n",
        "df.to_excel(excel_writer, index=True, sheet_name='sheet1')\n",
        "\n",
        "# `excel_writer` 객체로 워크북 객체와 워크시트 객체를 만듭니다.\n",
        "workbook = excel_writer.book\n",
        "worksheet = excel_writer.sheets['sheet1']\n",
        "\n",
        "# 차트 객체를 생성합니다. 타입은 선형입니다.\n",
        "chart = workbook.add_chart({'type': 'line'})\n",
        "\n",
        "# 차트 객체에 데이터를 적용합니다.\n",
        "chart.add_series({'values': '=sheet1!$B$2:$B$10',\n",
        "                  'categories': '=sheet1!$A$2:$A$10',\n",
        "                  'name': '=sheet1!$B$1'})\n",
        "chart.add_series({'values': '=sheet1!$C$2:$C$10',\n",
        "                  'categories': '=sheet1!$B$2:$B$10',\n",
        "                  'name': '=sheet1!$C$1'})\n",
        "chart.add_series({'values': '=sheet1!$D$2:$D$10',\n",
        "                  'categories': '=sheet1!$C$2:$C$10',\n",
        "                  'name': '=sheet1!$D$1'})\n",
        "\n",
        "# 차트명, 범례명을 지정합니다.\n",
        "chart.set_title({'name': 'speed by time'})\n",
        "chart.set_x_axis({'name': 'scond'})\n",
        "chart.set_y_axis({'name': 'speed'})\n",
        "\n",
        "# 워크시트에 차트를 삽입합니다.\n",
        "worksheet.insert_chart('A11', chart)\n",
        "\n",
        "excel_writer.save()"
      ],
      "execution_count": null,
      "outputs": []
    },
    {
      "cell_type": "markdown",
      "metadata": {
        "id": "DBPi55gpskFN"
      },
      "source": [
        "## **1.3. JSON**"
      ]
    },
    {
      "cell_type": "markdown",
      "metadata": {
        "id": "btjHqmX2uVVY"
      },
      "source": [
        "### **1.3.1. JSON 기본 개념**"
      ]
    },
    {
      "cell_type": "markdown",
      "metadata": {
        "id": "BYRdQYz6jdlH"
      },
      "source": [
        "[**JSON(JavaScript Object Notation)**](http://www.json.org/json-ko.html/)은 웹 서버가 데이터를 요청한 클라이언트에게 데이터를 제공하도록 구조화된 텍스트 형식입니다. 대부분 프로그래밍 언어에서 사용할 수 있습니다. JSON에 대해 쉽게 설명하는 이 [링크](http://tcpschool.com/json/intro)를 참고하시기 바랍니다. \n",
        "\n",
        "아래에 간단한 JSON 형식을 예시하겠습니다.\n",
        "```\n",
        "{\n",
        "    \"성명\": \"이승원\",\n",
        "    \"나이\": 33,\n",
        "    \"신체정보\": {\n",
        "        \"키\": 177,\n",
        "        \"몸무게\": \"비밀\",\n",
        "        \"허리둘레\": \"비밀\",\n",
        "        \"지병\": \"없음\"\n",
        "    },\n",
        "    \"취미\": [\n",
        "        \"음악 감상하기\",\n",
        "        \"노래 부르기\",\n",
        "        \"노닥거리기\",\n",
        "        \"게임하기\",\n",
        "        \"자전거 타기\",\n",
        "        \"먹기\",\n",
        "        \"등등\"\n",
        "    ],\n",
        "    \"자격사항\": [\n",
        "        {\n",
        "        \"cn\": 1,\n",
        "        \"자격명\": \"정보처리기사\"\n",
        "        },\n",
        "        {\n",
        "        \"cn\": 2,\n",
        "        \"자격명\": \"물류관리사\"\n",
        "        }\n",
        "    ]\n",
        "}\n",
        "```\n",
        "데이터 집합 하나를 객체(Object)로 부르며 중괄호(`{}`)로 묶입니다. 이 객체 내에는 여러 쌍이 존재하는데 예를 들면 `\"성명\": \"이승원\"`과 `\"나이\": 33`과 같은 쌍이 존재합니다. 각 쌍은 쉼표(`,`)로 구분합니다. `\"신체정보\"`에는 여러 쌍으로 구성된 객체 하나가 존재합니다. `\"취미\"`에는 대괄호(`[]`)로 묶인 배열이 있는데 쌍 데이터가 아닌 단일값입니다. 물론 `\"자격사항\"`처럼 배열 내에 단일값이 아닌 여러 객체가 존재할 수도 있습니다. \n",
        "\n",
        "[JSON Viewer](http://jsonviewer.stack.hu/)를 활용하면 구성 요소를 알아보기 쉽습니다. 더불어 [JSONLint](http://jsonlint.com/)를 활용하면 JSON 데이터가 올바르게 구성되었는지 확인할 수 있습니다."
      ]
    },
    {
      "cell_type": "markdown",
      "metadata": {
        "id": "6vj7Hj0zz2X5"
      },
      "source": [
        "### **1.3.2. 데이터 타입 변환하기**"
      ]
    },
    {
      "cell_type": "markdown",
      "metadata": {
        "id": "KgnJFLsn1SOY"
      },
      "source": [
        "`json` 라이브러리를 사용하여 딕셔너리 타입인 파이썬 데이터를 JSON 데이터, 또는 그 반대로 변환할 수 있습니다. 위에서 예시한 JSON 데이터를 사용하겠습니다."
      ]
    },
    {
      "cell_type": "code",
      "metadata": {
        "id": "uhV8TSZnGwXo"
      },
      "source": [
        "import json"
      ],
      "execution_count": null,
      "outputs": []
    },
    {
      "cell_type": "code",
      "metadata": {
        "id": "YZIVPR0K1ocU"
      },
      "source": [
        "dict_lsw = {\n",
        "    \"성명\": \"이승원\",\n",
        "    \"나이\": 33,\n",
        "    \"신체정보\": {\n",
        "        \"키\": 177,\n",
        "        \"몸무게\": \"비밀\",\n",
        "        \"허리둘레\": \"비밀\",\n",
        "        \"지병\": \"없음\"\n",
        "    },\n",
        "    \"취미\": [\n",
        "        \"음악 감상하기\",\n",
        "        \"노래 부르기\",\n",
        "        \"노닥거리기\",\n",
        "        \"게임하기\",\n",
        "        \"자전거 타기\",\n",
        "        \"먹기\",\n",
        "        \"등등\"\n",
        "    ],\n",
        "    \"자격사항\": [\n",
        "        {\n",
        "        \"cn\": 1,\n",
        "        \"자격명\": \"정보처리기사\"\n",
        "        },\n",
        "        {\n",
        "        \"cn\": 2,\n",
        "        \"자격명\": \"물류관리사\"\n",
        "        }\n",
        "    ]\n",
        "}"
      ],
      "execution_count": null,
      "outputs": []
    },
    {
      "cell_type": "markdown",
      "metadata": {
        "id": "OIHoQw2_2S9T"
      },
      "source": [
        "데이터 타입을 확인하겠습니다."
      ]
    },
    {
      "cell_type": "code",
      "metadata": {
        "colab": {
          "base_uri": "https://localhost:8080/"
        },
        "id": "4EZYsDXj2R4p",
        "outputId": "a0a238d7-5c26-4995-c3fc-957da39e958d"
      },
      "source": [
        "type(dict_lsw)"
      ],
      "execution_count": null,
      "outputs": [
        {
          "output_type": "execute_result",
          "data": {
            "text/plain": [
              "dict"
            ]
          },
          "metadata": {},
          "execution_count": 29
        }
      ]
    },
    {
      "cell_type": "markdown",
      "metadata": {
        "id": "OuZP9Zsq2o2O"
      },
      "source": [
        "`json.dumps()` 메서드를 사용하여 dict 타입 데이터를 JSON 데이터로 변환하겠습니다."
      ]
    },
    {
      "cell_type": "code",
      "metadata": {
        "colab": {
          "base_uri": "https://localhost:8080/",
          "height": 71
        },
        "id": "2Yq4v5vS2W9a",
        "outputId": "a82fbcf8-53eb-43be-a235-fe9b17a44048"
      },
      "source": [
        "json_lsw = json.dumps(dict_lsw)\n",
        "json_lsw"
      ],
      "execution_count": null,
      "outputs": [
        {
          "output_type": "execute_result",
          "data": {
            "application/vnd.google.colaboratory.intrinsic+json": {
              "type": "string"
            },
            "text/plain": [
              "'{\"\\\\uc131\\\\uba85\": \"\\\\uc774\\\\uc2b9\\\\uc6d0\", \"\\\\ub098\\\\uc774\": 33, \"\\\\uc2e0\\\\uccb4\\\\uc815\\\\ubcf4\": {\"\\\\ud0a4\": 177, \"\\\\ubab8\\\\ubb34\\\\uac8c\": \"\\\\ube44\\\\ubc00\", \"\\\\ud5c8\\\\ub9ac\\\\ub458\\\\ub808\": \"\\\\ube44\\\\ubc00\", \"\\\\uc9c0\\\\ubcd1\": \"\\\\uc5c6\\\\uc74c\"}, \"\\\\ucde8\\\\ubbf8\": [\"\\\\uc74c\\\\uc545 \\\\uac10\\\\uc0c1\\\\ud558\\\\uae30\", \"\\\\ub178\\\\ub798 \\\\ubd80\\\\ub974\\\\uae30\", \"\\\\ub178\\\\ub2e5\\\\uac70\\\\ub9ac\\\\uae30\", \"\\\\uac8c\\\\uc784\\\\ud558\\\\uae30\", \"\\\\uc790\\\\uc804\\\\uac70 \\\\ud0c0\\\\uae30\", \"\\\\uba39\\\\uae30\", \"\\\\ub4f1\\\\ub4f1\"], \"\\\\uc790\\\\uaca9\\\\uc0ac\\\\ud56d\": [{\"cn\": 1, \"\\\\uc790\\\\uaca9\\\\uba85\": \"\\\\uc815\\\\ubcf4\\\\ucc98\\\\ub9ac\\\\uae30\\\\uc0ac\"}, {\"cn\": 2, \"\\\\uc790\\\\uaca9\\\\uba85\": \"\\\\ubb3c\\\\ub958\\\\uad00\\\\ub9ac\\\\uc0ac\"}]}'"
            ]
          },
          "metadata": {},
          "execution_count": 30
        }
      ]
    },
    {
      "cell_type": "markdown",
      "metadata": {
        "id": "vIh-20Yb2xAs"
      },
      "source": [
        "데이터 타입을 확인하겠습니다."
      ]
    },
    {
      "cell_type": "code",
      "metadata": {
        "colab": {
          "base_uri": "https://localhost:8080/"
        },
        "id": "IEaquPZs2zri",
        "outputId": "7c477ace-d05b-4320-f9ec-895b546e34ca"
      },
      "source": [
        "type(json_lsw)"
      ],
      "execution_count": null,
      "outputs": [
        {
          "output_type": "execute_result",
          "data": {
            "text/plain": [
              "str"
            ]
          },
          "metadata": {},
          "execution_count": 31
        }
      ]
    },
    {
      "cell_type": "markdown",
      "metadata": {
        "id": "CqmJEjEt29_a"
      },
      "source": [
        "`json_lsw` 객체에 저장된 데이터 타입은 문자열이며, 한글 대신 아스키코드로, 들여쓰기는 되지 않은 상태로 구성되어 있습니다. 한글과 들여쓰기를 적용하기 위해 매개변수(파라미터) 몇 가지를 추가하겠습니다. `indent`는 몇 칸만큼 들여쓸지 숫자를 인자로 전달하는 매개변수이며 기본값은 `None`입니다. `sort_keys`는 키를 기준으로 오름차순 정렬 여부를 지정하는 매개변수이며 기본값은 `False`입니다. `ensure_ascii`는 아스키코드로 출력할지 여부를 지정하는 매개변수이며 기본값은 `True`입니다. "
      ]
    },
    {
      "cell_type": "code",
      "metadata": {
        "colab": {
          "base_uri": "https://localhost:8080/"
        },
        "id": "m5Y3lWMx3YX6",
        "outputId": "8e37a4f7-b684-43a2-99e5-6287c8c5e773"
      },
      "source": [
        "json_lsw = json.dumps(dict_lsw, indent=3, sort_keys=False, ensure_ascii=False)\n",
        "print(json_lsw)"
      ],
      "execution_count": null,
      "outputs": [
        {
          "output_type": "stream",
          "name": "stdout",
          "text": [
            "{\n",
            "   \"성명\": \"이승원\",\n",
            "   \"나이\": 33,\n",
            "   \"신체정보\": {\n",
            "      \"키\": 177,\n",
            "      \"몸무게\": \"비밀\",\n",
            "      \"허리둘레\": \"비밀\",\n",
            "      \"지병\": \"없음\"\n",
            "   },\n",
            "   \"취미\": [\n",
            "      \"음악 감상하기\",\n",
            "      \"노래 부르기\",\n",
            "      \"노닥거리기\",\n",
            "      \"게임하기\",\n",
            "      \"자전거 타기\",\n",
            "      \"먹기\",\n",
            "      \"등등\"\n",
            "   ],\n",
            "   \"자격사항\": [\n",
            "      {\n",
            "         \"cn\": 1,\n",
            "         \"자격명\": \"정보처리기사\"\n",
            "      },\n",
            "      {\n",
            "         \"cn\": 2,\n",
            "         \"자격명\": \"물류관리사\"\n",
            "      }\n",
            "   ]\n",
            "}\n"
          ]
        }
      ]
    },
    {
      "cell_type": "markdown",
      "metadata": {
        "id": "O6iMvQwm5VbP"
      },
      "source": [
        "이번에는 `json.loads()`를 사용하여 JSON 데이터를 dict 타입 데이터로 변환하겠습니다. "
      ]
    },
    {
      "cell_type": "code",
      "metadata": {
        "colab": {
          "base_uri": "https://localhost:8080/"
        },
        "id": "xYtN9Tgs56Yt",
        "outputId": "745f3970-1e5b-4ae6-8e7d-6584716552db"
      },
      "source": [
        "dict_lsw = json.loads(json_lsw)\n",
        "dict_lsw"
      ],
      "execution_count": null,
      "outputs": [
        {
          "output_type": "execute_result",
          "data": {
            "text/plain": [
              "{'나이': 33,\n",
              " '성명': '이승원',\n",
              " '신체정보': {'몸무게': '비밀', '지병': '없음', '키': 177, '허리둘레': '비밀'},\n",
              " '자격사항': [{'cn': 1, '자격명': '정보처리기사'}, {'cn': 2, '자격명': '물류관리사'}],\n",
              " '취미': ['음악 감상하기', '노래 부르기', '노닥거리기', '게임하기', '자전거 타기', '먹기', '등등']}"
            ]
          },
          "metadata": {},
          "execution_count": 33
        }
      ]
    },
    {
      "cell_type": "markdown",
      "metadata": {
        "id": "qBIoTxzQ7d9E"
      },
      "source": [
        "타입을 확인하겠습니다."
      ]
    },
    {
      "cell_type": "code",
      "metadata": {
        "colab": {
          "base_uri": "https://localhost:8080/"
        },
        "id": "vlw187jg7gVJ",
        "outputId": "448787f0-0f03-48a4-a87c-31fb9d8ad826"
      },
      "source": [
        "type(dict_lsw)"
      ],
      "execution_count": null,
      "outputs": [
        {
          "output_type": "execute_result",
          "data": {
            "text/plain": [
              "dict"
            ]
          },
          "metadata": {},
          "execution_count": 34
        }
      ]
    },
    {
      "cell_type": "markdown",
      "metadata": {
        "id": "q3O-eX5OUvrx"
      },
      "source": [
        "### **1.3.3. 데이터 인덱싱 하기**"
      ]
    },
    {
      "cell_type": "markdown",
      "metadata": {
        "id": "5q-t2so98TmM"
      },
      "source": [
        "인덱싱 하는 방법은 동일합니다."
      ]
    },
    {
      "cell_type": "code",
      "metadata": {
        "colab": {
          "base_uri": "https://localhost:8080/",
          "height": 35
        },
        "id": "QxSJi4wp7lAi",
        "outputId": "522f253f-8425-48e4-c84d-549d7be22402"
      },
      "source": [
        "dict_lsw['신체정보']['몸무게']"
      ],
      "execution_count": null,
      "outputs": [
        {
          "output_type": "execute_result",
          "data": {
            "application/vnd.google.colaboratory.intrinsic+json": {
              "type": "string"
            },
            "text/plain": [
              "'비밀'"
            ]
          },
          "metadata": {},
          "execution_count": 38
        }
      ]
    },
    {
      "cell_type": "markdown",
      "metadata": {
        "id": "G449P0CB8sFF"
      },
      "source": [
        "다만 딕셔너리 안의 리스트 안의 딕셔너리는 아래처럼 인덱싱 해야 합니다."
      ]
    },
    {
      "cell_type": "code",
      "metadata": {
        "colab": {
          "base_uri": "https://localhost:8080/",
          "height": 35
        },
        "id": "G7QJFbuY7uho",
        "outputId": "fba6c799-e8c4-4608-94dd-d9262313e9ac"
      },
      "source": [
        "dict_lsw['자격사항'][0]['자격명']"
      ],
      "execution_count": null,
      "outputs": [
        {
          "output_type": "execute_result",
          "data": {
            "application/vnd.google.colaboratory.intrinsic+json": {
              "type": "string"
            },
            "text/plain": [
              "'정보처리기사'"
            ]
          },
          "metadata": {},
          "execution_count": 45
        }
      ]
    },
    {
      "cell_type": "markdown",
      "metadata": {
        "id": "FnlfaELeux_9"
      },
      "source": [
        "### **1.3.4. 파일 읽기**"
      ]
    },
    {
      "cell_type": "markdown",
      "metadata": {
        "id": "Dur6lU_-0wSs"
      },
      "source": [
        "판다스의 `read_json()` 메서드로 JSON 데이터를 데이터프레임으로 읽겠습니다."
      ]
    },
    {
      "cell_type": "code",
      "metadata": {
        "id": "37tr2pUs7CLs",
        "colab": {
          "base_uri": "https://localhost:8080/",
          "height": 142
        },
        "outputId": "69fd84c0-7aa3-4747-ebeb-c4860c1681f3"
      },
      "source": [
        "file_path = '/content/gdrive/MyDrive/Python_for_Data_Analytics_Science/5674-833_4th/part2/read_json_sample.json'\n",
        "df_json = pd.read_json(file_path)\n",
        "df_json"
      ],
      "execution_count": null,
      "outputs": [
        {
          "output_type": "execute_result",
          "data": {
            "text/html": [
              "<div>\n",
              "<style scoped>\n",
              "    .dataframe tbody tr th:only-of-type {\n",
              "        vertical-align: middle;\n",
              "    }\n",
              "\n",
              "    .dataframe tbody tr th {\n",
              "        vertical-align: top;\n",
              "    }\n",
              "\n",
              "    .dataframe thead th {\n",
              "        text-align: right;\n",
              "    }\n",
              "</style>\n",
              "<table border=\"1\" class=\"dataframe\">\n",
              "  <thead>\n",
              "    <tr style=\"text-align: right;\">\n",
              "      <th></th>\n",
              "      <th>name</th>\n",
              "      <th>year</th>\n",
              "      <th>developer</th>\n",
              "      <th>opensource</th>\n",
              "    </tr>\n",
              "  </thead>\n",
              "  <tbody>\n",
              "    <tr>\n",
              "      <th>pandas</th>\n",
              "      <td></td>\n",
              "      <td>2008</td>\n",
              "      <td>Wes Mckinneye</td>\n",
              "      <td>True</td>\n",
              "    </tr>\n",
              "    <tr>\n",
              "      <th>NumPy</th>\n",
              "      <td></td>\n",
              "      <td>2006</td>\n",
              "      <td>Travis Oliphant</td>\n",
              "      <td>True</td>\n",
              "    </tr>\n",
              "    <tr>\n",
              "      <th>matplotlib</th>\n",
              "      <td></td>\n",
              "      <td>2003</td>\n",
              "      <td>John D. Hunter</td>\n",
              "      <td>True</td>\n",
              "    </tr>\n",
              "  </tbody>\n",
              "</table>\n",
              "</div>"
            ],
            "text/plain": [
              "           name  year        developer opensource\n",
              "pandas           2008    Wes Mckinneye       True\n",
              "NumPy            2006  Travis Oliphant       True\n",
              "matplotlib       2003   John D. Hunter       True"
            ]
          },
          "metadata": {},
          "execution_count": 35
        }
      ]
    },
    {
      "cell_type": "markdown",
      "metadata": {
        "id": "iKQIZe5uux9c"
      },
      "source": [
        "### **1.3.5. 파일 저장하기**"
      ]
    },
    {
      "cell_type": "markdown",
      "metadata": {
        "id": "KzpwOHeL1Av-"
      },
      "source": [
        "딕셔너리 타입인 파이썬 데이터를 JSON 데이터로 저장하겠습니다."
      ]
    },
    {
      "cell_type": "code",
      "metadata": {
        "id": "P2st_yo37GCB",
        "colab": {
          "base_uri": "https://localhost:8080/",
          "height": 142
        },
        "outputId": "62fb31be-b17c-4b46-a271-109a57300a2e"
      },
      "source": [
        "json_data = {'name': ['Jerry', 'Riah', 'Paul'],\n",
        "            'algol': ['A', 'A+', 'B'],\n",
        "            'basic': ['C', 'B', 'B+'],\n",
        "            'c++': ['B+', 'C', 'C+']}\n",
        "df_json = pd.DataFrame(json_data)\n",
        "df_json"
      ],
      "execution_count": null,
      "outputs": [
        {
          "output_type": "execute_result",
          "data": {
            "text/html": [
              "<div>\n",
              "<style scoped>\n",
              "    .dataframe tbody tr th:only-of-type {\n",
              "        vertical-align: middle;\n",
              "    }\n",
              "\n",
              "    .dataframe tbody tr th {\n",
              "        vertical-align: top;\n",
              "    }\n",
              "\n",
              "    .dataframe thead th {\n",
              "        text-align: right;\n",
              "    }\n",
              "</style>\n",
              "<table border=\"1\" class=\"dataframe\">\n",
              "  <thead>\n",
              "    <tr style=\"text-align: right;\">\n",
              "      <th></th>\n",
              "      <th>name</th>\n",
              "      <th>algol</th>\n",
              "      <th>basic</th>\n",
              "      <th>c++</th>\n",
              "    </tr>\n",
              "  </thead>\n",
              "  <tbody>\n",
              "    <tr>\n",
              "      <th>0</th>\n",
              "      <td>Jerry</td>\n",
              "      <td>A</td>\n",
              "      <td>C</td>\n",
              "      <td>B+</td>\n",
              "    </tr>\n",
              "    <tr>\n",
              "      <th>1</th>\n",
              "      <td>Riah</td>\n",
              "      <td>A+</td>\n",
              "      <td>B</td>\n",
              "      <td>C</td>\n",
              "    </tr>\n",
              "    <tr>\n",
              "      <th>2</th>\n",
              "      <td>Paul</td>\n",
              "      <td>B</td>\n",
              "      <td>B+</td>\n",
              "      <td>C+</td>\n",
              "    </tr>\n",
              "  </tbody>\n",
              "</table>\n",
              "</div>"
            ],
            "text/plain": [
              "    name algol basic c++\n",
              "0  Jerry     A     C  B+\n",
              "1   Riah    A+     B   C\n",
              "2   Paul     B    B+  C+"
            ]
          },
          "metadata": {},
          "execution_count": 36
        }
      ]
    },
    {
      "cell_type": "code",
      "metadata": {
        "id": "tqN4ip0B7MAS",
        "colab": {
          "base_uri": "https://localhost:8080/",
          "height": 173
        },
        "outputId": "7c1166da-2015-4481-f415-7334883b7b3a"
      },
      "source": [
        "df_json.set_index('name', inplace=True)\n",
        "df_json"
      ],
      "execution_count": null,
      "outputs": [
        {
          "output_type": "execute_result",
          "data": {
            "text/html": [
              "<div>\n",
              "<style scoped>\n",
              "    .dataframe tbody tr th:only-of-type {\n",
              "        vertical-align: middle;\n",
              "    }\n",
              "\n",
              "    .dataframe tbody tr th {\n",
              "        vertical-align: top;\n",
              "    }\n",
              "\n",
              "    .dataframe thead th {\n",
              "        text-align: right;\n",
              "    }\n",
              "</style>\n",
              "<table border=\"1\" class=\"dataframe\">\n",
              "  <thead>\n",
              "    <tr style=\"text-align: right;\">\n",
              "      <th></th>\n",
              "      <th>algol</th>\n",
              "      <th>basic</th>\n",
              "      <th>c++</th>\n",
              "    </tr>\n",
              "    <tr>\n",
              "      <th>name</th>\n",
              "      <th></th>\n",
              "      <th></th>\n",
              "      <th></th>\n",
              "    </tr>\n",
              "  </thead>\n",
              "  <tbody>\n",
              "    <tr>\n",
              "      <th>Jerry</th>\n",
              "      <td>A</td>\n",
              "      <td>C</td>\n",
              "      <td>B+</td>\n",
              "    </tr>\n",
              "    <tr>\n",
              "      <th>Riah</th>\n",
              "      <td>A+</td>\n",
              "      <td>B</td>\n",
              "      <td>C</td>\n",
              "    </tr>\n",
              "    <tr>\n",
              "      <th>Paul</th>\n",
              "      <td>B</td>\n",
              "      <td>B+</td>\n",
              "      <td>C+</td>\n",
              "    </tr>\n",
              "  </tbody>\n",
              "</table>\n",
              "</div>"
            ],
            "text/plain": [
              "      algol basic c++\n",
              "name                 \n",
              "Jerry     A     C  B+\n",
              "Riah     A+     B   C\n",
              "Paul      B    B+  C+"
            ]
          },
          "metadata": {},
          "execution_count": 37
        }
      ]
    },
    {
      "cell_type": "code",
      "metadata": {
        "id": "H57JxJb07Ny9"
      },
      "source": [
        "df_json.to_json('/content/gdrive/MyDrive/Python_for_Data_Analytics_Science/to_json.json')"
      ],
      "execution_count": null,
      "outputs": []
    },
    {
      "cell_type": "markdown",
      "metadata": {
        "id": "5o2wNM14Abzg"
      },
      "source": [
        "## **1.4. XML**"
      ]
    },
    {
      "cell_type": "markdown",
      "metadata": {
        "id": "K0E_5VpMEkkZ"
      },
      "source": [
        "### **1.4.1. XML 기본 개념**"
      ]
    },
    {
      "cell_type": "markdown",
      "metadata": {
        "id": "W85GXW7WCNLt"
      },
      "source": [
        "[**XML(Extensible Markup Language)**](http://tcpschool.com/xml/intro)은 데이터를 저장하고 전달할 목적으로 만든 다목적 마크업 언어입니다. XML에 대하여 이해하려면 **HTML(HyperText Markup Language)** 언어에 대한 사전 지식이 필요합니다(**1.5.2.2. HTML 기본 개념** 파트를 참고하시기 바랍니다). XML은 JSON보다 이전에 나왔지만 여전히 자주 사용됩니다. 다만 아래에서 다룰 예정인 웹 API의 응답 데이터로는 JSON이 더 자주 사용됩니다.\n",
        "\n",
        "아래는 XML 데이터의 예시입니다. JSON 데이터의 예시를 XML 데이터로 변환하겠습니다.\n",
        "\n",
        "```\n",
        "<?xml version=\"1.0\" encoding=\"UTF-8\" ?>\n",
        "<지원자정보>\n",
        "    <성명>이승원</성명>\n",
        "    <나이>33</나이>\n",
        "    <신체정보>\n",
        "    <!--지병을 제외하면 전부 거짓말입니다.-->\n",
        "        <키 unit=\"cm\">177</키>\n",
        "        <몸무게 unit=\"kg\">70</몸무게>\n",
        "        <허리둘레 unit=\"inch\">34</허리둘레>\n",
        "        <지병>없음</지병>\n",
        "    </신체정보>\n",
        "    <취미>음악 감상하기</취미>\n",
        "    <취미>노래 부르기</취미>\n",
        "    <취미>노닥거리기</취미>\n",
        "    <취미>게임하기</취미>\n",
        "    <취미>자전거 타기</취미>\n",
        "    <취미>먹기</취미>\n",
        "    <취미>등등</취미>\n",
        "    <자격사항>\n",
        "        <cn>1</cn>\n",
        "        <자격명>정보처리기사</자격명>\n",
        "    </자격사항>\n",
        "    <자격사항>\n",
        "        <cn>2</cn>\n",
        "        <자격명>물류관리사</자격명>\n",
        "    </자격사항>\n",
        "</지원자정보>\n",
        "```\n",
        "`<?xml version=\"1.0\" encoding=\"UTF-8\" ?>`는 XML문을 선언하는 부분이며 XML 해석기가 참고하는 정보입니다.  `<!--지병을 제외하면 전부 거짓말입니다.-->` 부분은 주석입니다. 시작 태그와 끝 태그(`<성명></성명>`) 사이(`이승원`)는 요소(Element)입니다. `<키 unit=\"cm\">`처럼 태그에 속성을 지정할 수 있습니다."
      ]
    },
    {
      "cell_type": "markdown",
      "metadata": {
        "id": "NJaYX8EIEtT-"
      },
      "source": [
        "### **1.4.2. 데이터 타입 변환하기**"
      ]
    },
    {
      "cell_type": "markdown",
      "metadata": {
        "id": "In7V02x4RTA3"
      },
      "source": [
        "[`xmltodict`](https://pypi.org/project/xmltodict) 라이브러리를 사용하여 XML 데이터를 dict 타입 데이터로 변환할 수 있습니다. "
      ]
    },
    {
      "cell_type": "code",
      "metadata": {
        "colab": {
          "base_uri": "https://localhost:8080/"
        },
        "id": "UjJieUVgRtv5",
        "outputId": "6cf4dc19-9e47-43fc-a482-08fda2bd2321"
      },
      "source": [
        "pip install xmltodict"
      ],
      "execution_count": null,
      "outputs": [
        {
          "output_type": "stream",
          "name": "stdout",
          "text": [
            "Collecting xmltodict\n",
            "  Downloading xmltodict-0.12.0-py2.py3-none-any.whl (9.2 kB)\n",
            "Installing collected packages: xmltodict\n",
            "Successfully installed xmltodict-0.12.0\n"
          ]
        }
      ]
    },
    {
      "cell_type": "code",
      "metadata": {
        "id": "tnP8DinPSBhB"
      },
      "source": [
        "import xmltodict"
      ],
      "execution_count": null,
      "outputs": []
    },
    {
      "cell_type": "markdown",
      "metadata": {
        "id": "BR0Dem66Slqy"
      },
      "source": [
        "먼저 XML 데이터를 가진 객체를 생성하겠습니다."
      ]
    },
    {
      "cell_type": "code",
      "metadata": {
        "colab": {
          "base_uri": "https://localhost:8080/"
        },
        "id": "BH9L0Id7SC8H",
        "outputId": "9eaa079b-77c8-4747-e46d-fb2cdc76cfbb"
      },
      "source": [
        "xml_lsw = '''<?xml version=\"1.0\" encoding=\"UTF-8\" ?>\n",
        "<지원자정보>\n",
        "    <성명>이승원</성명>\n",
        "    <나이>33</나이>\n",
        "    <신체정보>\n",
        "    <!--지병을 제외하면 전부 거짓말입니다.-->\n",
        "        <키 unit=\"cm\">177</키>\n",
        "        <몸무게 unit=\"kg\">70</몸무게>\n",
        "        <허리둘레 unit=\"inch\">34</허리둘레>\n",
        "        <지병>없음</지병>\n",
        "    </신체정보>\n",
        "    <취미>음악 감상하기</취미>\n",
        "    <취미>노래 부르기</취미>\n",
        "    <취미>노닥거리기</취미>\n",
        "    <취미>게임하기</취미>\n",
        "    <취미>자전거 타기</취미>\n",
        "    <취미>먹기</취미>\n",
        "    <취미>등등</취미>\n",
        "    <자격사항>\n",
        "        <cn>1</cn>\n",
        "        <자격명>정보처리기사</자격명>\n",
        "    </자격사항>\n",
        "    <자격사항>\n",
        "        <cn>2</cn>\n",
        "        <자격명>물류관리사</자격명>\n",
        "    </자격사항>\n",
        "</지원자정보>'''\n",
        "print(xml_lsw)"
      ],
      "execution_count": null,
      "outputs": [
        {
          "output_type": "stream",
          "name": "stdout",
          "text": [
            "<?xml version=\"1.0\" encoding=\"UTF-8\" ?>\n",
            "<지원자정보>\n",
            "    <성명>이승원</성명>\n",
            "    <나이>33</나이>\n",
            "    <신체정보>\n",
            "    <!--지병을 제외하면 전부 거짓말입니다.-->\n",
            "        <키 unit=\"cm\">177</키>\n",
            "        <몸무게 unit=\"kg\">70</몸무게>\n",
            "        <허리둘레 unit=\"inch\">34</허리둘레>\n",
            "        <지병>없음</지병>\n",
            "    </신체정보>\n",
            "    <취미>음악 감상하기</취미>\n",
            "    <취미>노래 부르기</취미>\n",
            "    <취미>노닥거리기</취미>\n",
            "    <취미>게임하기</취미>\n",
            "    <취미>자전거 타기</취미>\n",
            "    <취미>먹기</취미>\n",
            "    <취미>등등</취미>\n",
            "    <자격사항>\n",
            "        <cn>1</cn>\n",
            "        <자격명>정보처리기사</자격명>\n",
            "    </자격사항>\n",
            "    <자격사항>\n",
            "        <cn>2</cn>\n",
            "        <자격명>물류관리사</자격명>\n",
            "    </자격사항>\n",
            "</지원자정보>\n"
          ]
        }
      ]
    },
    {
      "cell_type": "markdown",
      "metadata": {
        "id": "_zS6SHjYVgXH"
      },
      "source": [
        "`xmltodict.parse()` 메서드를 사용하여 XML 데이터를 dict 타입 데이터로 변환하겠습니다. 매개변수 `xml_attribs`는 dict 타입으로 변환할 때 xml 데이터의 속성(예컨대 `unit=\"cm\"`)을 출력할지 여부를 결정합니다. 기본값은 `True`이며 태그의 속성과 문자열은 아래처럼 출력됩니다. `False`로 지정하면 속성은 출력되지 않습니다.\n",
        "\n",
        "먼저 `False`로 지정하겠습니다."
      ]
    },
    {
      "cell_type": "code",
      "metadata": {
        "colab": {
          "base_uri": "https://localhost:8080/"
        },
        "id": "53Uo0lWkUQF4",
        "outputId": "14c6e890-f30d-4c91-b90d-7711e283d4e6"
      },
      "source": [
        "dict_lsw = xmltodict.parse(xml_lsw, xml_attribs=False)\n",
        "dict_lsw"
      ],
      "execution_count": null,
      "outputs": [
        {
          "output_type": "execute_result",
          "data": {
            "text/plain": [
              "OrderedDict([('지원자정보',\n",
              "              OrderedDict([('성명', '이승원'),\n",
              "                           ('나이', '33'),\n",
              "                           ('신체정보',\n",
              "                            OrderedDict([('키', '177'),\n",
              "                                         ('몸무게', '70'),\n",
              "                                         ('허리둘레', '34'),\n",
              "                                         ('지병', '없음')])),\n",
              "                           ('취미',\n",
              "                            ['음악 감상하기',\n",
              "                             '노래 부르기',\n",
              "                             '노닥거리기',\n",
              "                             '게임하기',\n",
              "                             '자전거 타기',\n",
              "                             '먹기',\n",
              "                             '등등']),\n",
              "                           ('자격사항',\n",
              "                            [OrderedDict([('cn', '1'), ('자격명', '정보처리기사')]),\n",
              "                             OrderedDict([('cn', '2'),\n",
              "                                          ('자격명', '물류관리사')])])]))])"
            ]
          },
          "metadata": {},
          "execution_count": 62
        }
      ]
    },
    {
      "cell_type": "markdown",
      "metadata": {
        "id": "HeDqIaVeXhVE"
      },
      "source": [
        "`True`로 지정하겠습니다."
      ]
    },
    {
      "cell_type": "code",
      "metadata": {
        "colab": {
          "base_uri": "https://localhost:8080/"
        },
        "id": "z-cSHR7RS6N5",
        "outputId": "e0dd98b2-255d-4356-85cb-7e2a373d0349"
      },
      "source": [
        "dict_lsw = xmltodict.parse(xml_lsw, xml_attribs=True)\n",
        "dict_lsw"
      ],
      "execution_count": null,
      "outputs": [
        {
          "output_type": "execute_result",
          "data": {
            "text/plain": [
              "OrderedDict([('지원자정보',\n",
              "              OrderedDict([('성명', '이승원'),\n",
              "                           ('나이', '33'),\n",
              "                           ('신체정보',\n",
              "                            OrderedDict([('키',\n",
              "                                          OrderedDict([('@unit', 'cm'),\n",
              "                                                       ('#text', '177')])),\n",
              "                                         ('몸무게',\n",
              "                                          OrderedDict([('@unit', 'kg'),\n",
              "                                                       ('#text', '70')])),\n",
              "                                         ('허리둘레',\n",
              "                                          OrderedDict([('@unit', 'inch'),\n",
              "                                                       ('#text', '34')])),\n",
              "                                         ('지병', '없음')])),\n",
              "                           ('취미',\n",
              "                            ['음악 감상하기',\n",
              "                             '노래 부르기',\n",
              "                             '노닥거리기',\n",
              "                             '게임하기',\n",
              "                             '자전거 타기',\n",
              "                             '먹기',\n",
              "                             '등등']),\n",
              "                           ('자격사항',\n",
              "                            [OrderedDict([('cn', '1'), ('자격명', '정보처리기사')]),\n",
              "                             OrderedDict([('cn', '2'),\n",
              "                                          ('자격명', '물류관리사')])])]))])"
            ]
          },
          "metadata": {},
          "execution_count": 66
        }
      ]
    },
    {
      "cell_type": "markdown",
      "metadata": {
        "id": "GHuLT5yAYLpq"
      },
      "source": [
        "`키`, `몸무게`, `허리둘레`의 속성은 `'@unit'`, 문자열은 `'#text'` 형식으로 출력됐습니다. "
      ]
    },
    {
      "cell_type": "markdown",
      "metadata": {
        "id": "JH6AJYd_XvPD"
      },
      "source": [
        "데이터 타입을 확인하겠습니다."
      ]
    },
    {
      "cell_type": "code",
      "metadata": {
        "colab": {
          "base_uri": "https://localhost:8080/"
        },
        "id": "dcQqZU_aXndj",
        "outputId": "47779503-5c5b-494c-9f8e-5cec03763242"
      },
      "source": [
        "type(dict_lsw)"
      ],
      "execution_count": null,
      "outputs": [
        {
          "output_type": "execute_result",
          "data": {
            "text/plain": [
              "collections.OrderedDict"
            ]
          },
          "metadata": {},
          "execution_count": 64
        }
      ]
    },
    {
      "cell_type": "markdown",
      "metadata": {
        "id": "ZdBfrGbpX2E6"
      },
      "source": [
        "`OrderedDict` 타입은 입력한 순서에 따라 순서를 취하는 dict 타입입니다."
      ]
    },
    {
      "cell_type": "markdown",
      "metadata": {
        "id": "JpynIK7tVDqW"
      },
      "source": [
        "### **1.4.3. 데이터 인덱싱 하기**"
      ]
    },
    {
      "cell_type": "markdown",
      "metadata": {
        "id": "pq8VvivUY-N9"
      },
      "source": [
        "인덱싱 하는 방법은 동일합니다."
      ]
    },
    {
      "cell_type": "code",
      "metadata": {
        "colab": {
          "base_uri": "https://localhost:8080/",
          "height": 35
        },
        "id": "C9aRvaqLYq11",
        "outputId": "2bd8eb7b-a20d-4d57-82c0-737a06eaceef"
      },
      "source": [
        "dict_lsw['지원자정보']['성명']"
      ],
      "execution_count": null,
      "outputs": [
        {
          "output_type": "execute_result",
          "data": {
            "application/vnd.google.colaboratory.intrinsic+json": {
              "type": "string"
            },
            "text/plain": [
              "'이승원'"
            ]
          },
          "metadata": {},
          "execution_count": 71
        }
      ]
    },
    {
      "cell_type": "code",
      "metadata": {
        "colab": {
          "base_uri": "https://localhost:8080/"
        },
        "id": "eXDA-krKY4yP",
        "outputId": "1e78df00-aee8-4fac-81aa-849265ef3993"
      },
      "source": [
        "dict_lsw['지원자정보']['신체정보']"
      ],
      "execution_count": null,
      "outputs": [
        {
          "output_type": "execute_result",
          "data": {
            "text/plain": [
              "OrderedDict([('키', OrderedDict([('@unit', 'cm'), ('#text', '177')])),\n",
              "             ('몸무게', OrderedDict([('@unit', 'kg'), ('#text', '70')])),\n",
              "             ('허리둘레', OrderedDict([('@unit', 'inch'), ('#text', '34')])),\n",
              "             ('지병', '없음')])"
            ]
          },
          "metadata": {},
          "execution_count": 72
        }
      ]
    },
    {
      "cell_type": "code",
      "metadata": {
        "colab": {
          "base_uri": "https://localhost:8080/"
        },
        "id": "i5n3LcJxZOS6",
        "outputId": "82e32480-961c-4031-dc49-82265a430100"
      },
      "source": [
        "dict_lsw['지원자정보']['신체정보']['키']"
      ],
      "execution_count": null,
      "outputs": [
        {
          "output_type": "execute_result",
          "data": {
            "text/plain": [
              "OrderedDict([('@unit', 'cm'), ('#text', '177')])"
            ]
          },
          "metadata": {},
          "execution_count": 75
        }
      ]
    },
    {
      "cell_type": "code",
      "metadata": {
        "colab": {
          "base_uri": "https://localhost:8080/",
          "height": 35
        },
        "id": "K02WBhhKZUC8",
        "outputId": "01ddf4ed-2f73-4a10-c5b4-900dc74c205f"
      },
      "source": [
        "dict_lsw['지원자정보']['신체정보']['키']['@unit']"
      ],
      "execution_count": null,
      "outputs": [
        {
          "output_type": "execute_result",
          "data": {
            "application/vnd.google.colaboratory.intrinsic+json": {
              "type": "string"
            },
            "text/plain": [
              "'cm'"
            ]
          },
          "metadata": {},
          "execution_count": 76
        }
      ]
    },
    {
      "cell_type": "code",
      "metadata": {
        "colab": {
          "base_uri": "https://localhost:8080/",
          "height": 35
        },
        "id": "f9FPY133ZbSB",
        "outputId": "ac28d2d7-c022-4a5a-b341-e79ec50bccd7"
      },
      "source": [
        "dict_lsw['지원자정보']['신체정보']['키']['#text']"
      ],
      "execution_count": null,
      "outputs": [
        {
          "output_type": "execute_result",
          "data": {
            "application/vnd.google.colaboratory.intrinsic+json": {
              "type": "string"
            },
            "text/plain": [
              "'177'"
            ]
          },
          "metadata": {},
          "execution_count": 77
        }
      ]
    },
    {
      "cell_type": "code",
      "metadata": {
        "colab": {
          "base_uri": "https://localhost:8080/"
        },
        "id": "NENl8oR1ZE8t",
        "outputId": "34c14a64-c170-4b5b-b706-2ab92255d6a2"
      },
      "source": [
        "dict_lsw['지원자정보']['취미']"
      ],
      "execution_count": null,
      "outputs": [
        {
          "output_type": "execute_result",
          "data": {
            "text/plain": [
              "['음악 감상하기', '노래 부르기', '노닥거리기', '게임하기', '자전거 타기', '먹기', '등등']"
            ]
          },
          "metadata": {},
          "execution_count": 73
        }
      ]
    },
    {
      "cell_type": "code",
      "metadata": {
        "colab": {
          "base_uri": "https://localhost:8080/",
          "height": 35
        },
        "id": "C7C7KB3iZiUM",
        "outputId": "30b51ae0-5ace-43f7-ab7d-3dbf4dee0312"
      },
      "source": [
        "dict_lsw['지원자정보']['취미'][1]"
      ],
      "execution_count": null,
      "outputs": [
        {
          "output_type": "execute_result",
          "data": {
            "application/vnd.google.colaboratory.intrinsic+json": {
              "type": "string"
            },
            "text/plain": [
              "'노래 부르기'"
            ]
          },
          "metadata": {},
          "execution_count": 79
        }
      ]
    },
    {
      "cell_type": "code",
      "metadata": {
        "colab": {
          "base_uri": "https://localhost:8080/"
        },
        "id": "TwPbrWGXZkxr",
        "outputId": "e3e3d0e0-1bbc-4d51-b85a-030a82ec186c"
      },
      "source": [
        "dict_lsw['지원자정보']['자격사항'][0]"
      ],
      "execution_count": null,
      "outputs": [
        {
          "output_type": "execute_result",
          "data": {
            "text/plain": [
              "OrderedDict([('cn', '1'), ('자격명', '정보처리기사')])"
            ]
          },
          "metadata": {},
          "execution_count": 82
        }
      ]
    },
    {
      "cell_type": "code",
      "metadata": {
        "colab": {
          "base_uri": "https://localhost:8080/",
          "height": 35
        },
        "id": "bYX09H9hZ4wK",
        "outputId": "ddad763b-c96f-4222-d84a-91117392a815"
      },
      "source": [
        "dict_lsw['지원자정보']['자격사항'][0]['자격명']"
      ],
      "execution_count": null,
      "outputs": [
        {
          "output_type": "execute_result",
          "data": {
            "application/vnd.google.colaboratory.intrinsic+json": {
              "type": "string"
            },
            "text/plain": [
              "'정보처리기사'"
            ]
          },
          "metadata": {},
          "execution_count": 87
        }
      ]
    },
    {
      "cell_type": "markdown",
      "metadata": {
        "id": "mrLu_hQVu8lA"
      },
      "source": [
        "## **1.5. 웹**"
      ]
    },
    {
      "cell_type": "markdown",
      "metadata": {
        "id": "LwIg6BhhskB1"
      },
      "source": [
        "### **1.5.1. 표 가져오기**"
      ]
    },
    {
      "cell_type": "markdown",
      "metadata": {
        "id": "khFwiF-yUhqI"
      },
      "source": [
        "`read_html()` 메서드는 HTML 웹 페이지의 `<table>` 태그에서 표 형식 데이터를 데이터프레임으로 변환합니다. 이 표 데이터를 파싱(parsing) 하려면 HTML 웹 페이지 주소를 따옴표 안에 입력합니다. 아래에서 예시하겠습니다."
      ]
    },
    {
      "cell_type": "code",
      "metadata": {
        "id": "ig9EeOqPbaZ6",
        "colab": {
          "base_uri": "https://localhost:8080/"
        },
        "outputId": "8244279a-e68c-46a6-838d-b00e1b72f7e5"
      },
      "source": [
        "url = '/content/gdrive/MyDrive/Python_for_Data_Analytics_Science/5674-833_4th/part2/sample.html'\n",
        "tables_html = pd.read_html(url)\n",
        "# `read_html()` 메서드로 데이터프레임을 출력하면\n",
        "# 여러 데이터프레임이 리스트에 담겨서 출력됩니다.\n",
        "tables_html"
      ],
      "execution_count": null,
      "outputs": [
        {
          "output_type": "execute_result",
          "data": {
            "text/plain": [
              "[   Unnamed: 0  c0  c1  c2  c3\n",
              " 0           0   0   1   4   7\n",
              " 1           1   1   2   5   8\n",
              " 2           2   2   3   6   9,\n",
              "          name  year        developer  opensource\n",
              " 0       NumPy  2006  Travis Oliphant        True\n",
              " 1  matplotlib  2003   John D. Hunter        True\n",
              " 2      pandas  2008    Wes Mckinneye        True]"
            ]
          },
          "metadata": {},
          "execution_count": 3
        }
      ]
    },
    {
      "cell_type": "markdown",
      "metadata": {
        "id": "_Ik6nIEpcGrl"
      },
      "source": [
        "표 개수를 확인하겠습니다."
      ]
    },
    {
      "cell_type": "code",
      "metadata": {
        "id": "zX6A9e8LcTIZ",
        "colab": {
          "base_uri": "https://localhost:8080/"
        },
        "outputId": "9b81ee3a-c881-4bd5-f869-78dc89e214a7"
      },
      "source": [
        "len(tables_html)"
      ],
      "execution_count": null,
      "outputs": [
        {
          "output_type": "execute_result",
          "data": {
            "text/plain": [
              "2"
            ]
          },
          "metadata": {},
          "execution_count": 4
        }
      ]
    },
    {
      "cell_type": "markdown",
      "metadata": {
        "id": "O-unqV8ucWig"
      },
      "source": [
        "두 개의 표를 출력하겠습니다."
      ]
    },
    {
      "cell_type": "code",
      "metadata": {
        "id": "z8x9V8t6cjkx",
        "colab": {
          "base_uri": "https://localhost:8080/"
        },
        "outputId": "7a2bb958-674d-4df2-fbb8-ce6969f7039a"
      },
      "source": [
        "print(tables_html[0])\n",
        "print()\n",
        "print(tables_html[1])"
      ],
      "execution_count": null,
      "outputs": [
        {
          "output_type": "stream",
          "name": "stdout",
          "text": [
            "   Unnamed: 0  c0  c1  c2  c3\n",
            "0           0   0   1   4   7\n",
            "1           1   1   2   5   8\n",
            "2           2   2   3   6   9\n",
            "\n",
            "         name  year        developer  opensource\n",
            "0       NumPy  2006  Travis Oliphant        True\n",
            "1  matplotlib  2003   John D. Hunter        True\n",
            "2      pandas  2008    Wes Mckinneye        True\n"
          ]
        }
      ]
    },
    {
      "cell_type": "markdown",
      "metadata": {
        "id": "R0LX_1Yactgs"
      },
      "source": [
        "이번에는 두 개의 표를 반복(iteration)하면서 출력하겠습니다."
      ]
    },
    {
      "cell_type": "code",
      "metadata": {
        "id": "iuik4KordjbU",
        "colab": {
          "base_uri": "https://localhost:8080/"
        },
        "outputId": "2164e3cf-5b96-4d12-bd4e-204e3d341241"
      },
      "source": [
        "for i in range(len(tables_html)):\n",
        "    print(f'{i+1}번째 데이터프레임')\n",
        "    print(tables_html[i])\n",
        "    print()"
      ],
      "execution_count": null,
      "outputs": [
        {
          "output_type": "stream",
          "name": "stdout",
          "text": [
            "1번째 데이터프레임\n",
            "   Unnamed: 0  c0  c1  c2  c3\n",
            "0           0   0   1   4   7\n",
            "1           1   1   2   5   8\n",
            "2           2   2   3   6   9\n",
            "\n",
            "2번째 데이터프레임\n",
            "         name  year        developer  opensource\n",
            "0       NumPy  2006  Travis Oliphant        True\n",
            "1  matplotlib  2003   John D. Hunter        True\n",
            "2      pandas  2008    Wes Mckinneye        True\n",
            "\n"
          ]
        }
      ]
    },
    {
      "cell_type": "markdown",
      "metadata": {
        "id": "kp-DGf3UeFa3"
      },
      "source": [
        "이제 2번째 데이터프레임에 행 인덱스를 'name' 열로 지정하겠습니다."
      ]
    },
    {
      "cell_type": "code",
      "metadata": {
        "id": "ToxpkGRneNA0",
        "colab": {
          "base_uri": "https://localhost:8080/"
        },
        "outputId": "a0b2323a-979c-4245-e9fb-96bb0eafaaa4"
      },
      "source": [
        "df_html = tables_html[1]\n",
        "df_html.set_index(['name'], inplace=True)\n",
        "print(df_html)"
      ],
      "execution_count": null,
      "outputs": [
        {
          "output_type": "stream",
          "name": "stdout",
          "text": [
            "            year        developer  opensource\n",
            "name                                         \n",
            "NumPy       2006  Travis Oliphant        True\n",
            "matplotlib  2003   John D. Hunter        True\n",
            "pandas      2008    Wes Mckinneye        True\n"
          ]
        }
      ]
    },
    {
      "cell_type": "markdown",
      "metadata": {
        "id": "HZ4L30pptHMu"
      },
      "source": [
        "### **1.5.2. 웹 스크레이핑 하기**"
      ]
    },
    {
      "cell_type": "markdown",
      "metadata": {
        "id": "vR5-ajyghMRx"
      },
      "source": [
        "기실 **웹 크롤링(Web crawling)**과 **웹 스크레이핑(Web scraping)**은 구분 없이 쓰이는 표현이지만 흔히 쓰이는 표현은 웹 크롤링입니다. 엄밀히 구분하자면 웹 크롤링은 사이트의 전체 코드를 긁어와서 복제하는 것을 의미하고, 웹 스크레이핑은 특정 데이터만 추출하는 것을 의미합니다. 다시 말하면 웹 크롤링으로 웹 정보를 탐색하고, 그 웹 정보 중에 원하는 정보만 웹 스크레이핑 하는 것입니다. 여기서는 웹 스크레이핑이라는 표현을 사용하겠습니다.\n",
        "\n",
        "웹 스크레이핑을 할 때 몇 가지 주의할 사항이 있습니다.\n",
        "\n",
        "- 특정한 사이트에 자주 접근하면 서버에 큰 부담을 줍니다. 이런 부담을 덜고자 사이트 대부분은 수 초에서 수십 초만큼 지나야 접근을 허용하도록 설정되어 있습니다. 이런 방침에 반하도록 접근을 시도하면 접근이 차단될 수 있습니다.\n",
        "\n",
        "- 저작권을 침해하지 않도록 주의해야 합니다.\n",
        "\n",
        "- 사이트 내용이 지속적으로 변할 수 있으므로 특정 웹 스크레이핑 작업에 적용하던 개별 코드를 지속적으로 살펴야 합니다."
      ]
    },
    {
      "cell_type": "markdown",
      "metadata": {
        "id": "s_iQ7RbnKkBT"
      },
      "source": [
        "#### **1.5.2.1. 사이트 접속 및 정보 검색하기**"
      ]
    },
    {
      "cell_type": "markdown",
      "metadata": {
        "id": "aGaIwfQvMwE6"
      },
      "source": [
        "`webbrowser` 모듈을 사용해서 특정 사이트에 접속할 수 있습니다. 단, 이 모듈은 로컬 환경(주피터 노트북, 파이참, VS)에서는 사용할 수 있으나, 코랩은 가상 환경이므로 정책상 사용할 수 없습니다. 코랩에서 브라우저를 제어하는 ​​유일한 방법은 아래 코드로 Javascript를 사용하는 것입니다."
      ]
    },
    {
      "cell_type": "code",
      "metadata": {
        "id": "XKRTwEYENfjH",
        "colab": {
          "base_uri": "https://localhost:8080/",
          "height": 16
        },
        "outputId": "d1aebadc-2998-45dd-fd65-29fcb1bd4b8e"
      },
      "source": [
        "%%javascript\n",
        "window.open(\"http://naver.com\", '_blank');"
      ],
      "execution_count": null,
      "outputs": [
        {
          "output_type": "display_data",
          "data": {
            "application/javascript": [
              "window.open(\"http://naver.com\", '_blank');"
            ],
            "text/plain": [
              "<IPython.core.display.Javascript object>"
            ]
          },
          "metadata": {}
        }
      ]
    },
    {
      "cell_type": "markdown",
      "metadata": {
        "id": "kE1NY8fENpzG"
      },
      "source": [
        "사용할 수 없는 모듈이지만 일단 코드는 작성하겠습니다. 이 코드는 **데이터 분석을 위한 파이썬 철저 입문**에 있는 코드를 그대로 가져왔습니다. 정상적으로 작동하면 `True`가 출력되지만 코랩에서는 막혀있으므로 `False`가 뜹니다."
      ]
    },
    {
      "cell_type": "code",
      "metadata": {
        "colab": {
          "base_uri": "https://localhost:8080/"
        },
        "id": "5691Rqu2Kt_H",
        "outputId": "03b34846-feae-47b1-ccc9-87f1ec17c2fe"
      },
      "source": [
        "import webbrowser as wb\n",
        "\n",
        "url = 'www.google.com'\n",
        "wb.open(url)"
      ],
      "execution_count": null,
      "outputs": [
        {
          "output_type": "execute_result",
          "data": {
            "text/plain": [
              "False"
            ]
          },
          "metadata": {},
          "execution_count": 3
        }
      ]
    },
    {
      "cell_type": "markdown",
      "metadata": {
        "id": "4EBsV9ElOeQv"
      },
      "source": [
        "특정 검색어를 바로 검색하려면 아래 코드를 실행합니다. 다만 이 역시도 `False`가 출력됩니다."
      ]
    },
    {
      "cell_type": "code",
      "metadata": {
        "colab": {
          "base_uri": "https://localhost:8080/"
        },
        "id": "BAW5g01gN8z5",
        "outputId": "483da2f2-198f-49ad-8bc0-71e82d75be66"
      },
      "source": [
        "naver_search_url = 'http://search.naver.com/search.naver?query='\n",
        "search_word = '파이썬'\n",
        "url = naver_search_url + search_word\n",
        "\n",
        "wb.open(url)"
      ],
      "execution_count": null,
      "outputs": [
        {
          "output_type": "execute_result",
          "data": {
            "text/plain": [
              "False"
            ]
          },
          "metadata": {},
          "execution_count": 4
        }
      ]
    },
    {
      "cell_type": "markdown",
      "metadata": {
        "id": "QcNkBQw8Os-_"
      },
      "source": [
        "구글에서 검색하는 코드도 있습니다. 이 또한 `False`입니다."
      ]
    },
    {
      "cell_type": "code",
      "metadata": {
        "colab": {
          "base_uri": "https://localhost:8080/"
        },
        "id": "hIwxKqQdOsoI",
        "outputId": "0862080e-bbe8-40aa-c23a-2aa6138bf820"
      },
      "source": [
        "google_url = 'www.google.com/#q='\n",
        "search_word = 'python'\n",
        "url = google_url + search_word\n",
        "\n",
        "wb.open(url)"
      ],
      "execution_count": null,
      "outputs": [
        {
          "output_type": "execute_result",
          "data": {
            "text/plain": [
              "False"
            ]
          },
          "metadata": {},
          "execution_count": 5
        }
      ]
    },
    {
      "cell_type": "markdown",
      "metadata": {
        "id": "RZ8x9jgNPPla"
      },
      "source": [
        "여러 사이트에 접속하는 방법도 있습니다. 반복문을 사용합니다."
      ]
    },
    {
      "cell_type": "code",
      "metadata": {
        "id": "aj582OwmPXjp"
      },
      "source": [
        "urls = ['www.naver.com', 'www.daum.net', 'www.google.com']\n",
        "\n",
        "for url in urls:\n",
        "    wb.open_new(url)"
      ],
      "execution_count": null,
      "outputs": []
    },
    {
      "cell_type": "markdown",
      "metadata": {
        "id": "6SPhfoo4Puqt"
      },
      "source": [
        "여러 검색어를 한꺼번에 출력하는 방법은 아래와 같습니다."
      ]
    },
    {
      "cell_type": "code",
      "metadata": {
        "id": "nnDfL4FbPzZ8"
      },
      "source": [
        "google_url = 'www.google.com/#q='\n",
        "search_words = ['python web scraping', 'python webbrowser']\n",
        "\n",
        "for search_word in search_words:\n",
        "    wb.open_new(google_url+search_word)"
      ],
      "execution_count": null,
      "outputs": []
    },
    {
      "cell_type": "markdown",
      "metadata": {
        "id": "SyAhbwJMQiaP"
      },
      "source": [
        "#### **1.5.2.2. HTML 기본 개념**"
      ]
    },
    {
      "cell_type": "markdown",
      "metadata": {
        "id": "frCbvww3ROZn"
      },
      "source": [
        "웹 스크레이핑을 하려면 먼저 웹 페이지를 구성하는 언어인 **HTML**에 대한 사전 지식을 갖춰야 합니다. 자세한 내용은 [링크1](http://tcpschool.com/html/intro)과 [링크2](https://velog.io/@ljinsk3/HTML-%EA%B8%B0%EC%B4%88-%EB%82%B4%EC%9A%A9-%EC%A0%95%EB%A6%AC#1-html-basic-tags-useful)를 참고 바랍니다.\n",
        "\n",
        "- **HTML(HyperText Markup Language)**: 웹 페이지를 구조적으로 구성하는 언어입니다.\n",
        "\n",
        "- **HTTP(HyperText Transfer Protocol)**: HTML 문서가 가진 정보를 교환하도록 생성한 전송 규약(프로토콜)입니다.\n",
        "\n",
        "- **Web Page**: HTML로 구성된 웹상의 개별 문서입니다. 여러 웹 페이지로 웹 사이트 하나를 구성합니다.\n",
        "\n",
        "- **클라이언트(Client)**: 컴퓨터, 스마트폰 등 웹 사이트에 접속하는 기기입니다.\n",
        "\n",
        "- **서버(Server, Web Server)**: 웹 사이트를 운영하는 시스템입니다.\n",
        "\n",
        "위 용어들을 토대로 정보가 오고 가는 과정을 쉽게 설명하겠습니다.\n",
        "\n",
        "1. 클라이언트가 웹 브라우저로 서버에 접속합니다.\n",
        "\n",
        "2. HTTP 형식으로 특정 정보를 요청(Request)합니다. \n",
        "\n",
        "3. 서버는 HTTP 형식으로 응답(Respond)하여 특정 정보를 담은 HTML 파일을 전송합니다.\n",
        "\n",
        "4. HTML 파일을 전송 받은 클라이언트의 웹 브라우저는 이를 해석하여 사용자가 알아보기 좋은 형태로 변환합니다."
      ]
    },
    {
      "cell_type": "markdown",
      "metadata": {
        "id": "E-6_kTXGq1It"
      },
      "source": [
        "HTML 기본 구조에 대해 설명하겠습니다. 자세한 설명은 아니지만 웹 스크레이핑에 필수적인 요소만 살피겠습니다. 더 자세한 내용은 구글(구교수)과 함께 하시기 바랍니다.\n",
        "\n",
        "- **태그(Tag)**: `<>`로 이루어진 부분입니다. **시작 태그**와 **끝 태그**(`/`가 먼저 위치한 태그)로 나뉩니다.\n",
        "\n",
        "- **속성(Attribute)**: 시작 태그 안에 부가적인 정보를 제공합니다.\n",
        "\n",
        "- **요소(Element)**: 시작 태그와 끝 태그, 이 둘의 안에 포함된 내용 전체를 의미합니다.\n",
        "\n",
        "아래 코드는 기본적인 예제입니다. 주석으로 설명을 보태겠습니다. 실제로 파일을 실행시킬 땐 주석 부분을 지워야 출력 화면에 주석이 표시되지 않습니다. HTML의 주석은 `<!-- 내용 -->` 형식입니다."
      ]
    },
    {
      "cell_type": "code",
      "metadata": {
        "colab": {
          "base_uri": "https://localhost:8080/"
        },
        "id": "WkVD_qA9rMi9",
        "outputId": "d0abbd29-0d4e-41e9-a40a-4c1d4965a918"
      },
      "source": [
        "# 마술명령어로 HTML 코드를 저장합니다.\n",
        "%%writefile /content/gdrive/MyDrive/Python_for_Data_Analytics_Science/HTML_ex.html\n",
        "\n",
        "# HTML을 명시하는 DTD(Document Type Definition)입니다.\n",
        "# HTMl 문서라고 선언하는 것입니다.\n",
        "<!doctype html>\n",
        "\n",
        "<html>\n",
        "    <head>\n",
        "        <meta charset='utf-8'>\n",
        "        <title>식재료 정보</title>\n",
        "    </head>\n",
        "    <body>\n",
        "        <h1>식재료 정보</h1>\n",
        "        # `id=''`라는 태그 속성 없이 `<p>`로만 작성해도 출력됩니다.\n",
        "        # 다만 이 태그 속성은 웹 페이지에서 특정한 정보를 추출하는 데 중요한 정보입니다.\n",
        "        # 이 속성을 통해 데이터를 쉽게 얻을 수 있습니다.\n",
        "        <p id='ingredient'>취나물</p>\n",
        "        <p id='origin'>충북</p>\n",
        "        <p id='farmer'>이승원</p>\n",
        "        <p id='date'>2021년 10월 31일</p>\n",
        "    </body>\n",
        "</html>"
      ],
      "execution_count": null,
      "outputs": [
        {
          "output_type": "stream",
          "name": "stdout",
          "text": [
            "Overwriting /content/gdrive/MyDrive/Python_for_Data_Analytics_Science/HTML_ex.html\n"
          ]
        }
      ]
    },
    {
      "cell_type": "markdown",
      "metadata": {
        "id": "eLADbW0VKF5x"
      },
      "source": [
        "#### **1.5.2.3. 웹스크레이핑 관련 모듈 활용하기**"
      ]
    },
    {
      "cell_type": "markdown",
      "metadata": {
        "id": "MnqZ04rzH9tY"
      },
      "source": [
        "파이썬으로 웹 페이지 소스 코드를 가져오려면 [`request`](http://docs.python-requests.org/en/latest/) 모듈의 `get()` 메서드를 사용합니다. "
      ]
    },
    {
      "cell_type": "code",
      "metadata": {
        "colab": {
          "base_uri": "https://localhost:8080/"
        },
        "id": "onAWqDonetnr",
        "outputId": "e6712a18-5675-401f-e33d-f804f1ae1c1e"
      },
      "source": [
        "r = requests.get('http://www.daum.net')\n",
        "r"
      ],
      "execution_count": null,
      "outputs": [
        {
          "output_type": "execute_result",
          "data": {
            "text/plain": [
              "<Response [200]>"
            ]
          },
          "metadata": {},
          "execution_count": 9
        }
      ]
    },
    {
      "cell_type": "markdown",
      "metadata": {
        "id": "ejAvHwAiIp6d"
      },
      "source": [
        "`r.text[]` 형식으로 소스 코드를 출력할 수 있습니다. 소스 코드 길이가 매우 기므로 299번째 텍스트까지만 출력하겠습니다."
      ]
    },
    {
      "cell_type": "code",
      "metadata": {
        "colab": {
          "base_uri": "https://localhost:8080/",
          "height": 53
        },
        "id": "3TIjbgemIvOz",
        "outputId": "dad2e3c9-4780-4fca-ed0f-61833d66e2a1"
      },
      "source": [
        "r.text[0:300]"
      ],
      "execution_count": null,
      "outputs": [
        {
          "output_type": "execute_result",
          "data": {
            "application/vnd.google.colaboratory.intrinsic+json": {
              "type": "string"
            },
            "text/plain": [
              "'<!DOCTYPE html>\\n<html lang=\"ko\" class=\"\">\\n<head>\\n<meta charset=\"utf-8\"/>\\n<meta http-equiv=\"x-ua-compatible\" content=\"IE=edge\" />\\n<title>Daum</title>\\n<meta property=\"og:url\" content=\"https://www.daum.net/\">\\n<meta property=\"og:type\" content=\"website\">\\n<meta property=\"og:title\" content=\"Daum\">\\n<meta pr'"
            ]
          },
          "metadata": {},
          "execution_count": 10
        }
      ]
    },
    {
      "cell_type": "markdown",
      "metadata": {
        "id": "g5uCpLs5JoPF"
      },
      "source": [
        "위 과정을 한꺼번에 수행할 수 있습니다."
      ]
    },
    {
      "cell_type": "code",
      "metadata": {
        "colab": {
          "base_uri": "https://localhost:8080/",
          "height": 53
        },
        "id": "P5GVbmsOJqaC",
        "outputId": "1277290a-bae8-4ffd-8823-cc79628d1dc9"
      },
      "source": [
        "html = requests.get('http://www.daum.net').text\n",
        "html[0:300]"
      ],
      "execution_count": null,
      "outputs": [
        {
          "output_type": "execute_result",
          "data": {
            "application/vnd.google.colaboratory.intrinsic+json": {
              "type": "string"
            },
            "text/plain": [
              "'<!DOCTYPE html>\\n<html lang=\"ko\" class=\"\">\\n<head>\\n<meta charset=\"utf-8\"/>\\n<meta http-equiv=\"x-ua-compatible\" content=\"IE=edge\" />\\n<title>Daum</title>\\n<meta property=\"og:url\" content=\"https://www.daum.net/\">\\n<meta property=\"og:type\" content=\"website\">\\n<meta property=\"og:title\" content=\"Daum\">\\n<meta pr'"
            ]
          },
          "metadata": {},
          "execution_count": 11
        }
      ]
    },
    {
      "cell_type": "markdown",
      "metadata": {
        "id": "o2X24_04NJ_7"
      },
      "source": [
        "가져온 HTML 코드를 분석하려면 파싱(Parsing) 작업을 거쳐야 합니다. 파싱이란 특정 요소별로 HTML 코드를 분류하는 것을 의미합니다. 여기서 [`BeautifulSoup`](https://www.crummy.com/software/BeautifulSoup/bs4/doc/) 모듈을 사용하면 파싱 작업을 수월하게 수행할 수 있습니다. "
      ]
    },
    {
      "cell_type": "code",
      "metadata": {
        "colab": {
          "base_uri": "https://localhost:8080/"
        },
        "id": "CqKv4b4eOO5U",
        "outputId": "2d102237-75f5-4fc1-d0d4-4a916b7a9943"
      },
      "source": [
        "html = '''<html><body><div><span>\\\n",
        "<a href=http://www.daum.net>daum</a>\\\n",
        "<a href=http://www.nate.com>naver</a>\\\n",
        "<a href=http://www.google.com>google</a>\\\n",
        "</span></div></body></html>'''\n",
        "\n",
        "# 'lxml은 HTML 소스를 파싱하는 파서(Parser)입니다.\n",
        "soup = BeautifulSoup(html, 'lxml')\n",
        "# 깔끔하게 출력하기 위해 `prettify()` 메서드를 사용합니다.\n",
        "print(soup.prettify())"
      ],
      "execution_count": null,
      "outputs": [
        {
          "output_type": "stream",
          "name": "stdout",
          "text": [
            "<html>\n",
            " <body>\n",
            "  <div>\n",
            "   <span>\n",
            "    <a href=\"http://www.daum.net\">\n",
            "     daum\n",
            "    </a>\n",
            "    <a href=\"http://www.nate.com\">\n",
            "     naver\n",
            "    </a>\n",
            "    <a href=\"http://www.google.com\">\n",
            "     google\n",
            "    </a>\n",
            "   </span>\n",
            "  </div>\n",
            " </body>\n",
            "</html>\n"
          ]
        }
      ]
    },
    {
      "cell_type": "markdown",
      "metadata": {
        "id": "onD7Us_7PjYM"
      },
      "source": [
        "첫 태그의 첫 요소를 찾겠습니다."
      ]
    },
    {
      "cell_type": "code",
      "metadata": {
        "colab": {
          "base_uri": "https://localhost:8080/"
        },
        "id": "quZYtzniPf6f",
        "outputId": "85f5eac7-d5a4-427a-c718-31f9f12cfaf0"
      },
      "source": [
        "soup.find('a')"
      ],
      "execution_count": null,
      "outputs": [
        {
          "output_type": "execute_result",
          "data": {
            "text/plain": [
              "<a href=\"http://www.daum.net\">daum</a>"
            ]
          },
          "metadata": {},
          "execution_count": 13
        }
      ]
    },
    {
      "cell_type": "markdown",
      "metadata": {
        "id": "csoJmZ_eQRL-"
      },
      "source": [
        "태그의 텍스트만 추출하겠습니다."
      ]
    },
    {
      "cell_type": "code",
      "metadata": {
        "colab": {
          "base_uri": "https://localhost:8080/",
          "height": 35
        },
        "id": "uvYOtrHuQDU9",
        "outputId": "de029a8f-136d-42d8-d577-25773ee16bf8"
      },
      "source": [
        "soup.find('a').get_text()"
      ],
      "execution_count": null,
      "outputs": [
        {
          "output_type": "execute_result",
          "data": {
            "application/vnd.google.colaboratory.intrinsic+json": {
              "type": "string"
            },
            "text/plain": [
              "'daum'"
            ]
          },
          "metadata": {},
          "execution_count": 14
        }
      ]
    },
    {
      "cell_type": "markdown",
      "metadata": {
        "id": "00_2OTwEP8NL"
      },
      "source": [
        "모든 태그의 요소를 찾겠습니다."
      ]
    },
    {
      "cell_type": "code",
      "metadata": {
        "colab": {
          "base_uri": "https://localhost:8080/"
        },
        "id": "eKGaPiR2nwS_",
        "outputId": "81c8efbf-73ea-499c-e992-f1e29255caed"
      },
      "source": [
        "soup.find_all('a')"
      ],
      "execution_count": null,
      "outputs": [
        {
          "output_type": "execute_result",
          "data": {
            "text/plain": [
              "[<a href=\"http://www.daum.net\">daum</a>,\n",
              " <a href=\"http://www.nate.com\">naver</a>,\n",
              " <a href=\"http://www.google.com\">google</a>]"
            ]
          },
          "metadata": {},
          "execution_count": 15
        }
      ]
    },
    {
      "cell_type": "markdown",
      "metadata": {
        "id": "GbiuEIwcn3nj"
      },
      "source": [
        "모든 태그의 텍스트를 추출하겠습니다. 참고로 `get_text()` 메서드는 단일값에만 적용할 수 있고 리스트 형태에는 적용할 수 없습니다. 반복문으로 하나씩 적용해야 합니다."
      ]
    },
    {
      "cell_type": "code",
      "metadata": {
        "colab": {
          "base_uri": "https://localhost:8080/"
        },
        "id": "1-V-5f0SoCR4",
        "outputId": "76ebb730-7ffe-41d8-debe-e5d22392c6ef"
      },
      "source": [
        "site_names = soup.find_all('a')\n",
        "for site_name in site_names:\n",
        "    print(site_name.get_text())"
      ],
      "execution_count": null,
      "outputs": [
        {
          "output_type": "stream",
          "name": "stdout",
          "text": [
            "daum\n",
            "naver\n",
            "google\n"
          ]
        }
      ]
    },
    {
      "cell_type": "markdown",
      "metadata": {
        "id": "uNh5eKfDuKuP"
      },
      "source": [
        "다른 예시를 통해 설명을 이어가겠습니다. 새로운 HTML문 객체를 생성하겠습니다."
      ]
    },
    {
      "cell_type": "code",
      "metadata": {
        "id": "aXO1uNBbqB24"
      },
      "source": [
        "html2 = '''\n",
        "<html>\n",
        "    <head>\n",
        "        <meta charset='utf-8'>\n",
        "        <title>식재료 정보</title>\n",
        "    </head>\n",
        "    <body>\n",
        "        <h1>식재료 정보</h1>\n",
        "        <p id='ingredient'>취나물</p>\n",
        "        <p id='origin'>충북</p>\n",
        "        <p id='farmer'>이승원</p>\n",
        "        <p id='date'>2021년 10월 31일</p>\n",
        "\n",
        "        <p id='ingredient'>콩나물</p>\n",
        "        <p id='origin'>서울</p>\n",
        "        <p id='farmer'>이순신</p>\n",
        "        <p id='date'>2021년 11월 1일</p>\n",
        "    </body>\n",
        "</html>\n",
        "'''\n",
        "\n",
        "soup2 = BeautifulSoup(html2, 'lxml')"
      ],
      "execution_count": null,
      "outputs": []
    },
    {
      "cell_type": "markdown",
      "metadata": {
        "id": "xgQ5rbVeuw1m"
      },
      "source": [
        "아래처럼 원하는 요소만 가져올 수 있습니다."
      ]
    },
    {
      "cell_type": "code",
      "metadata": {
        "colab": {
          "base_uri": "https://localhost:8080/"
        },
        "id": "lr4H5NOssDkN",
        "outputId": "558d71a6-b8d5-4dba-c38c-bb0077155f94"
      },
      "source": [
        "print(soup2.title)\n",
        "print()\n",
        "print(soup2.body)\n",
        "print()\n",
        "print(soup2.body.h1)"
      ],
      "execution_count": null,
      "outputs": [
        {
          "output_type": "stream",
          "name": "stdout",
          "text": [
            "<title>식재료 정보</title>\n",
            "\n",
            "<body>\n",
            "<h1>식재료 정보</h1>\n",
            "<p id=\"ingredient\">취나물</p>\n",
            "<p id=\"origin\">충북</p>\n",
            "<p id=\"farmer\">이승원</p>\n",
            "<p id=\"date\">2021년 10월 31일</p>\n",
            "<p id=\"ingredient\">콩나물</p>\n",
            "<p id=\"origin\">서울</p>\n",
            "<p id=\"farmer\">이순신</p>\n",
            "<p id=\"date\">2021년 11월 1일</p>\n",
            "</body>\n",
            "\n",
            "<h1>식재료 정보</h1>\n"
          ]
        }
      ]
    },
    {
      "cell_type": "code",
      "metadata": {
        "colab": {
          "base_uri": "https://localhost:8080/"
        },
        "id": "X1incYdru1uL",
        "outputId": "a7042de0-0189-4669-e46e-5afeb8b69d0c"
      },
      "source": [
        "print(soup2.find('p', {'id': 'origin'}))\n",
        "print()\n",
        "print(soup2.find_all('p', {'id': 'origin'}))"
      ],
      "execution_count": null,
      "outputs": [
        {
          "output_type": "stream",
          "name": "stdout",
          "text": [
            "<p id=\"origin\">충북</p>\n",
            "\n",
            "[<p id=\"origin\">충북</p>, <p id=\"origin\">서울</p>]\n"
          ]
        }
      ]
    },
    {
      "cell_type": "markdown",
      "metadata": {
        "id": "ZTtImOZYwiJ9"
      },
      "source": [
        "원하는 요소를 텍스트로 가져올 수 있습니다. 방식은 위에서 반복문으로 예시한 내용과 같습니다."
      ]
    },
    {
      "cell_type": "code",
      "metadata": {
        "colab": {
          "base_uri": "https://localhost:8080/"
        },
        "id": "Zh_2TDGBwpNZ",
        "outputId": "52faa161-9d89-41c6-b075-334d39b72002"
      },
      "source": [
        "farmers = soup2.find_all('p', {'id': 'farmer'})\n",
        "origins = soup2.find_all('p', {'id': 'origin'})\n",
        "for farmer, origin in zip(farmers, origins):\n",
        "    print(farmer.get_text() + ':' + origin.get_text())"
      ],
      "execution_count": null,
      "outputs": [
        {
          "output_type": "stream",
          "name": "stdout",
          "text": [
            "이승원:충북\n",
            "이순신:서울\n"
          ]
        }
      ]
    },
    {
      "cell_type": "markdown",
      "metadata": {
        "id": "S3P6FHjBH042"
      },
      "source": [
        "**CSS(Cascading Style Sheets)** 선택자(Selector)를 사용하여 요소를 찾을 수도 있습니다.CSS는 시각적으로 스타일을 꾸밀 목적으로 사용하는 언어입니다. 주로 HTML과 함께 사용하여 웹 페이지를 구성합니다. HTML는 웹 페이지 구조를 잡는 데 쓰이고, CSS는 객체의 글꼴, 배경색, 크기 등 여러 스타일을 잡는 데 쓰입니다.\n",
        "\n",
        "아래에서 예시하겠습니다. `select()` 메서드에 대한 설명은 아래에서 지속하겠습니다."
      ]
    },
    {
      "cell_type": "code",
      "metadata": {
        "colab": {
          "base_uri": "https://localhost:8080/"
        },
        "id": "h9P6DOR6Ijc8",
        "outputId": "5ddbbc55-6f5f-4da1-bc1a-8df4184b8df2"
      },
      "source": [
        "soup2.select('body h1')"
      ],
      "execution_count": null,
      "outputs": [
        {
          "output_type": "execute_result",
          "data": {
            "text/plain": [
              "[<h1>식재료 정보</h1>]"
            ]
          },
          "metadata": {},
          "execution_count": 21
        }
      ]
    },
    {
      "cell_type": "code",
      "metadata": {
        "colab": {
          "base_uri": "https://localhost:8080/"
        },
        "id": "igOS3TzFIt5e",
        "outputId": "7450d74f-9903-4152-9647-4990a44cabd6"
      },
      "source": [
        "# `p`는 `body`에만 위치하므로 `body`를 생략하고 `p`만 선언해도 됩니다. \n",
        "soup2.select('body p')"
      ],
      "execution_count": null,
      "outputs": [
        {
          "output_type": "execute_result",
          "data": {
            "text/plain": [
              "[<p id=\"ingredient\">취나물</p>,\n",
              " <p id=\"origin\">충북</p>,\n",
              " <p id=\"farmer\">이승원</p>,\n",
              " <p id=\"date\">2021년 10월 31일</p>,\n",
              " <p id=\"ingredient\">콩나물</p>,\n",
              " <p id=\"origin\">서울</p>,\n",
              " <p id=\"farmer\">이순신</p>,\n",
              " <p id=\"date\">2021년 11월 1일</p>]"
            ]
          },
          "metadata": {},
          "execution_count": 22
        }
      ]
    },
    {
      "cell_type": "markdown",
      "metadata": {
        "id": "PB5qB4SVJNHi"
      },
      "source": [
        "`select()` 메서드에 태그 내 속성과 속성값을 지정하여 요소를 추출할 수 있습니다. 지정하는 형식은 아래와 같습니다. class라면 `태그.class의 속성값` 형식을 취하고, id라면 `태그#id의 속성값` 형식을 취합니다. 자세한 설명은 [링크](https://pythonblog.co.kr/coding/11/)를 참고하시기 바랍니다.\n",
        "\n",
        "먼저 클래스 속성을 추가한 HTML 소스를 생성하고 구글 드라이브에 저장하겠습니다."
      ]
    },
    {
      "cell_type": "code",
      "metadata": {
        "colab": {
          "base_uri": "https://localhost:8080/"
        },
        "id": "2IbCvvKFLB2c",
        "outputId": "76c28519-26f6-4563-c3c4-0daf8b77c6b8"
      },
      "source": [
        "%%writefile /content/gdrive/MyDrive/Python_for_Data_Analytics_Science/HTML_ex2.html\n",
        "<!doctype html>\n",
        "<html>\n",
        "    <head>\n",
        "        <meta charset='utf-8'>\n",
        "        <title>식재료 정보</title>\n",
        "    </head>\n",
        "    <body>\n",
        "        <p id='title'><b>취나물</b></p>\n",
        "        <p id='info_list'>취나물 정보를 담은 페이지 목록입니다.</p>\n",
        "        <a href='https://terms.naver.com/entry.naver?docId=1993522&cid=48180&categoryId=48248' \n",
        "        class='portal' id='naver'>네이버</a><br>\n",
        "        <a href='https://100.daum.net/encyclopedia/view/68XX12300146' \n",
        "        class='portal' id='daum'>다음</a><br>\n",
        "        <a href='https://ko.wikipedia.org/wiki/%EC%B7%A8%EB%82%98%EB%AC%BC' \n",
        "        class='encyclopedia' id='wiki'>위키백과</a>\n",
        "    </body>\n",
        "</html>"
      ],
      "execution_count": null,
      "outputs": [
        {
          "output_type": "stream",
          "name": "stdout",
          "text": [
            "Overwriting /content/gdrive/MyDrive/Python_for_Data_Analytics_Science/HTML_ex2.html\n"
          ]
        }
      ]
    },
    {
      "cell_type": "markdown",
      "metadata": {
        "id": "dKs1MFdGPRwT"
      },
      "source": [
        "저장한 파일을 변수에 할당하겠습니다."
      ]
    },
    {
      "cell_type": "code",
      "metadata": {
        "colab": {
          "base_uri": "https://localhost:8080/"
        },
        "id": "guxRRQ43PUzQ",
        "outputId": "4cc2544f-9878-4d7b-c8d4-8c8069cc43e5"
      },
      "source": [
        "with open('/content/gdrive/MyDrive/Python_for_Data_Analytics_Science/HTML_ex2.html', encoding='utf-8') as f:\n",
        "    html3 = f.read()\n",
        "\n",
        "soup3 = BeautifulSoup(html3, 'lxml')\n",
        "print(soup3.prettify())"
      ],
      "execution_count": null,
      "outputs": [
        {
          "output_type": "stream",
          "name": "stdout",
          "text": [
            "<!DOCTYPE html>\n",
            "<html>\n",
            " <head>\n",
            "  <meta charset=\"utf-8\"/>\n",
            "  <title>\n",
            "   식재료 정보\n",
            "  </title>\n",
            " </head>\n",
            " <body>\n",
            "  <p id=\"title\">\n",
            "   <b>\n",
            "    취나물\n",
            "   </b>\n",
            "  </p>\n",
            "  <p id=\"info_list\">\n",
            "   취나물 정보를 담은 페이지 목록입니다.\n",
            "  </p>\n",
            "  <a class=\"portal\" href=\"https://terms.naver.com/entry.naver?docId=1993522&amp;cid=48180&amp;categoryId=48248\" id=\"naver\">\n",
            "   네이버\n",
            "  </a>\n",
            "  <br/>\n",
            "  <a class=\"portal\" href=\"https://100.daum.net/encyclopedia/view/68XX12300146\" id=\"daum\">\n",
            "   다음\n",
            "  </a>\n",
            "  <br/>\n",
            "  <a class=\"encyclopedia\" href=\"https://ko.wikipedia.org/wiki/%EC%B7%A8%EB%82%98%EB%AC%BC\" id=\"wiki\">\n",
            "   위키백과\n",
            "  </a>\n",
            " </body>\n",
            "</html>\n"
          ]
        }
      ]
    },
    {
      "cell_type": "markdown",
      "metadata": {
        "id": "g5HBQ7TVSCyZ"
      },
      "source": [
        "요소를 추출하겠습니다."
      ]
    },
    {
      "cell_type": "code",
      "metadata": {
        "colab": {
          "base_uri": "https://localhost:8080/"
        },
        "id": "7vYTb8bVQllM",
        "outputId": "2eed864b-6bb8-4e96-b77b-0911f4683def"
      },
      "source": [
        "soup3.select('p')"
      ],
      "execution_count": null,
      "outputs": [
        {
          "output_type": "execute_result",
          "data": {
            "text/plain": [
              "[<p id=\"title\"><b>취나물</b></p>, <p id=\"info_list\">취나물 정보를 담은 페이지 목록입니다.</p>]"
            ]
          },
          "metadata": {},
          "execution_count": 25
        }
      ]
    },
    {
      "cell_type": "code",
      "metadata": {
        "colab": {
          "base_uri": "https://localhost:8080/"
        },
        "id": "hQR_oEUARPmf",
        "outputId": "657151c9-f4e6-4c39-de8a-451d93993f04"
      },
      "source": [
        "soup3.select('p#title')"
      ],
      "execution_count": null,
      "outputs": [
        {
          "output_type": "execute_result",
          "data": {
            "text/plain": [
              "[<p id=\"title\"><b>취나물</b></p>]"
            ]
          },
          "metadata": {},
          "execution_count": 26
        }
      ]
    },
    {
      "cell_type": "code",
      "metadata": {
        "colab": {
          "base_uri": "https://localhost:8080/"
        },
        "id": "Xqtg2nOGQ7Xv",
        "outputId": "dd9f0968-61db-441b-de19-a91414ce56e7"
      },
      "source": [
        "soup3.select('a')"
      ],
      "execution_count": null,
      "outputs": [
        {
          "output_type": "execute_result",
          "data": {
            "text/plain": [
              "[<a class=\"portal\" href=\"https://terms.naver.com/entry.naver?docId=1993522&amp;cid=48180&amp;categoryId=48248\" id=\"naver\">네이버</a>,\n",
              " <a class=\"portal\" href=\"https://100.daum.net/encyclopedia/view/68XX12300146\" id=\"daum\">다음</a>,\n",
              " <a class=\"encyclopedia\" href=\"https://ko.wikipedia.org/wiki/%EC%B7%A8%EB%82%98%EB%AC%BC\" id=\"wiki\">위키백과</a>]"
            ]
          },
          "metadata": {},
          "execution_count": 27
        }
      ]
    },
    {
      "cell_type": "code",
      "metadata": {
        "colab": {
          "base_uri": "https://localhost:8080/"
        },
        "id": "plMdZervRokj",
        "outputId": "ba5bd5c6-94ad-4b41-ac55-97b1446b020a"
      },
      "source": [
        "soup3.select('a.portal')"
      ],
      "execution_count": null,
      "outputs": [
        {
          "output_type": "execute_result",
          "data": {
            "text/plain": [
              "[<a class=\"portal\" href=\"https://terms.naver.com/entry.naver?docId=1993522&amp;cid=48180&amp;categoryId=48248\" id=\"naver\">네이버</a>,\n",
              " <a class=\"portal\" href=\"https://100.daum.net/encyclopedia/view/68XX12300146\" id=\"daum\">다음</a>]"
            ]
          },
          "metadata": {},
          "execution_count": 28
        }
      ]
    },
    {
      "cell_type": "code",
      "metadata": {
        "colab": {
          "base_uri": "https://localhost:8080/"
        },
        "id": "_RFklIN_RsFa",
        "outputId": "454d41ea-e1cf-416b-bc70-783d719f7a11"
      },
      "source": [
        "soup3.select('a#daum')"
      ],
      "execution_count": null,
      "outputs": [
        {
          "output_type": "execute_result",
          "data": {
            "text/plain": [
              "[<a class=\"portal\" href=\"https://100.daum.net/encyclopedia/view/68XX12300146\" id=\"daum\">다음</a>]"
            ]
          },
          "metadata": {},
          "execution_count": 29
        }
      ]
    },
    {
      "cell_type": "code",
      "metadata": {
        "colab": {
          "base_uri": "https://localhost:8080/"
        },
        "id": "rrC9WeVtSx24",
        "outputId": "66905c41-388a-4f34-f568-93abc63215cc"
      },
      "source": [
        "info_list = soup3.select('a')\n",
        "for info in info_list:\n",
        "    print(info.get_text())"
      ],
      "execution_count": null,
      "outputs": [
        {
          "output_type": "stream",
          "name": "stdout",
          "text": [
            "네이버\n",
            "다음\n",
            "위키백과\n"
          ]
        }
      ]
    },
    {
      "cell_type": "markdown",
      "metadata": {
        "id": "GfdFcDW8a76m"
      },
      "source": [
        "줄 바꿈 기능을 활용하여 가독성을 제고할 수 있습니다. 먼저 새로운 HTML 파일을 생성하겠습니다. `</br>`은 줄바꿈을 의미합니다."
      ]
    },
    {
      "cell_type": "code",
      "metadata": {
        "colab": {
          "base_uri": "https://localhost:8080/"
        },
        "id": "2-QYT3YCDFwf",
        "outputId": "fdf9b96f-b474-4ab8-c34f-e1dcd8b80910"
      },
      "source": [
        "%%writefile /content/gdrive/MyDrive/Python_for_Data_Analytics_Science/HTML_ex3.html\n",
        "\n",
        "<!doctype html>\n",
        "<html>\n",
        "    <head>\n",
        "        <meta charset='utf-8'>\n",
        "        <title>누구나 꼰대일 수 있다.</title>\n",
        "    </head>\n",
        "    <body>\n",
        "        <p id='title'><b>꼰대란 무엇인가</b></p>\n",
        "        <p id='explanation'>1. 자신의 경험을 일반화해서 남에게 일방적으로 강요한다.<br/>2. 자신의 생각과 주장이 항상 옳다고 생각한다.<br/>3. 지위가 낮거나 나이가 어린 사람에게 귄위적으로 행동한다.<br/>4. 갑질을 습관적으로 행한다.<br/>5. 사적인 질문을 서슴없이 한다.</p>\n",
        "        <p id='title'><b>꼰대에서 탈출하는 법</b></p>\n",
        "        <p id='explanation'>1. 내 인생과 상대의 인생은 엄연히 다르므로 어떤 주제든 일반화하지 않는다.<br/>2. 내 생각과 주장이 항상 옳지 않을 수 있다는 가치관을 갖는다.<br/>3. 권위를 버리고 존중하며 소통하는 습관을 갖는다.<br/>4. 사적인 질문을 하지 않는다.<br/>5. 추억팔이를 하지 않는다.<br/>6. 말하기보다 많이 듣는다.<br/>7. 조언 대신 공감한다.<br/>8. 말 대신 먼저 행동한다.</p>\n",
        "    </body>\n",
        "</html>"
      ],
      "execution_count": null,
      "outputs": [
        {
          "output_type": "stream",
          "name": "stdout",
          "text": [
            "Overwriting /content/gdrive/MyDrive/Python_for_Data_Analytics_Science/HTML_ex3.html\n"
          ]
        }
      ]
    },
    {
      "cell_type": "markdown",
      "metadata": {
        "id": "Vm1dHgbvQ7az"
      },
      "source": [
        "HTML문을 읽고 객체에 할당하겠습니다."
      ]
    },
    {
      "cell_type": "code",
      "metadata": {
        "colab": {
          "base_uri": "https://localhost:8080/"
        },
        "id": "6YsHFFarInMH",
        "outputId": "0a048301-2b53-41e5-a680-5d7d35330d13"
      },
      "source": [
        "with open('/content/gdrive/MyDrive/Python_for_Data_Analytics_Science/HTML_ex3.html',\n",
        "          encoding='utf-8') as f:\n",
        "    html4 = f.read()\n",
        "\n",
        "soup4 = BeautifulSoup(html4, 'lxml')\n",
        "print(soup4.prettify())"
      ],
      "execution_count": null,
      "outputs": [
        {
          "output_type": "stream",
          "name": "stdout",
          "text": [
            "<!DOCTYPE html>\n",
            "<html>\n",
            " <head>\n",
            "  <meta charset=\"utf-8\"/>\n",
            "  <title>\n",
            "   누구나 꼰대일 수 있다.\n",
            "  </title>\n",
            " </head>\n",
            " <body>\n",
            "  <p id=\"title\">\n",
            "   <b>\n",
            "    꼰대란 무엇인가\n",
            "   </b>\n",
            "  </p>\n",
            "  <p id=\"explanation\">\n",
            "   1. 자신의 경험을 일반화해서 남에게 일방적으로 강요한다.\n",
            "   <br/>\n",
            "   2. 자신의 생각과 주장이 항상 옳다고 생각한다.\n",
            "   <br/>\n",
            "   3. 지위가 낮거나 나이가 어린 사람에게 귄위적으로 행동한다.\n",
            "   <br/>\n",
            "   4. 갑질을 습관적으로 행한다.\n",
            "   <br/>\n",
            "   5. 사적인 질문을 서슴없이 한다.\n",
            "  </p>\n",
            "  <p id=\"title\">\n",
            "   <b>\n",
            "    꼰대에서 탈출하는 법\n",
            "   </b>\n",
            "  </p>\n",
            "  <p id=\"explanation\">\n",
            "   1. 내 인생과 상대의 인생은 엄연히 다르므로 어떤 주제든 일반화하지 않는다.\n",
            "   <br/>\n",
            "   2. 내 생각과 주장이 항상 옳지 않을 수 있다는 가치관을 갖는다.\n",
            "   <br/>\n",
            "   3. 권위를 버리고 존중하며 소통하는 습관을 갖는다.\n",
            "   <br/>\n",
            "   4. 사적인 질문을 하지 않는다.\n",
            "   <br/>\n",
            "   5. 추억팔이를 하지 않는다.\n",
            "   <br/>\n",
            "   6. 말하기보다 많이 듣는다.\n",
            "   <br/>\n",
            "   7. 조언 대신 공감한다.\n",
            "   <br/>\n",
            "   8. 말 대신 먼저 행동한다.\n",
            "  </p>\n",
            " </body>\n",
            "</html>\n"
          ]
        }
      ]
    },
    {
      "cell_type": "markdown",
      "metadata": {
        "id": "2MTLZ1NEToMA"
      },
      "source": [
        "요소를 찾아서 객체에 할당하고 텍스트만 출력하겠습니다."
      ]
    },
    {
      "cell_type": "code",
      "metadata": {
        "colab": {
          "base_uri": "https://localhost:8080/"
        },
        "id": "EEUFS67TQ5-K",
        "outputId": "e22f1e25-7ee9-435a-f95a-01b715d70067"
      },
      "source": [
        "title = soup4.find('p', {'id': 'title'})\n",
        "explanations = soup4.find_all('p', {'id': 'explanation'})\n",
        "\n",
        "print(title.get_text())\n",
        "for explanation in explanations:\n",
        "    print(explanation.get_text())"
      ],
      "execution_count": null,
      "outputs": [
        {
          "output_type": "stream",
          "name": "stdout",
          "text": [
            "꼰대란 무엇인가\n",
            "1. 자신의 경험을 일반화해서 남에게 일방적으로 강요한다.2. 자신의 생각과 주장이 항상 옳다고 생각한다.3. 지위가 낮거나 나이가 어린 사람에게 귄위적으로 행동한다.4. 갑질을 습관적으로 행한다.5. 사적인 질문을 서슴없이 한다.\n",
            "1. 내 인생과 상대의 인생은 엄연히 다르므로 어떤 주제든 일반화하지 않는다.2. 내 생각과 주장이 항상 옳지 않을 수 있다는 가치관을 갖는다.3. 권위를 버리고 존중하며 소통하는 습관을 갖는다.4. 사적인 질문을 하지 않는다.5. 추억팔이를 하지 않는다.6. 말하기보다 많이 듣는다.7. 조언 대신 공감한다.8. 말 대신 먼저 행동한다.\n"
          ]
        }
      ]
    },
    {
      "cell_type": "markdown",
      "metadata": {
        "id": "dVBk9E_BTvK3"
      },
      "source": [
        "`</br>`로 지정했던 줄바꿈이 적용되지 않고 그대로 출력됐습니다. `replace_with()` 메서드를 활용하여 기존 태그나 문자열을 변경할 수 있습니다. 여기서는 `</br>` 태그를 `/n`으로 바꿀 필요가 있습니다.\n",
        "\n",
        "먼저 예시 차원에서 `soup4` 객체에 `find()` 메서드를 적용하여 `explanation1` 객체에 할당하겠습니다. 위에서 예시한 방법과 다른 점은 없습니다."
      ]
    },
    {
      "cell_type": "code",
      "metadata": {
        "colab": {
          "base_uri": "https://localhost:8080/"
        },
        "id": "v9z7cz0wUUnd",
        "outputId": "78a1753c-6657-45fb-ff10-ee4522f2a16f"
      },
      "source": [
        "soup4 = BeautifulSoup(html4, 'lxml')\n",
        "explanation1 = soup4.find('p', {'id': 'explanation'})\n",
        "print(explanation1)"
      ],
      "execution_count": null,
      "outputs": [
        {
          "output_type": "stream",
          "name": "stdout",
          "text": [
            "<p id=\"explanation\">1. 자신의 경험을 일반화해서 남에게 일방적으로 강요한다.<br/>2. 자신의 생각과 주장이 항상 옳다고 생각한다.<br/>3. 지위가 낮거나 나이가 어린 사람에게 귄위적으로 행동한다.<br/>4. 갑질을 습관적으로 행한다.<br/>5. 사적인 질문을 서슴없이 한다.</p>\n"
          ]
        }
      ]
    },
    {
      "cell_type": "markdown",
      "metadata": {
        "id": "BdIVJnhiaHG7"
      },
      "source": [
        "`find()` 메서드를 사용했으므로 첫 번째 'explanation'만 출력됐습니다. `<br/>` 태그를 찾겠습니다."
      ]
    },
    {
      "cell_type": "code",
      "metadata": {
        "colab": {
          "base_uri": "https://localhost:8080/"
        },
        "id": "EORv-FZwWNkx",
        "outputId": "34407a80-7934-4904-8b24-eb1c2843105d"
      },
      "source": [
        "explanation_br = explanation1.find('br')\n",
        "print(explanation_br)"
      ],
      "execution_count": null,
      "outputs": [
        {
          "output_type": "stream",
          "name": "stdout",
          "text": [
            "<br/>\n"
          ]
        }
      ]
    },
    {
      "cell_type": "markdown",
      "metadata": {
        "id": "gMMp9EKVYL_8"
      },
      "source": [
        "`find()` 메서드를 사용했으므로 여러 `<br/>` 태그 중에 하나만 출력됐습니다. 일단 `<br/>` 태그를 `\\n`으로 바꾸겠습니다."
      ]
    },
    {
      "cell_type": "code",
      "metadata": {
        "colab": {
          "base_uri": "https://localhost:8080/"
        },
        "id": "Ne0MTBt0YSlG",
        "outputId": "6469e707-2c95-47ca-d9d3-d38e9f86cf67"
      },
      "source": [
        "explanation_br.replace_with('\\n')\n",
        "print(explanation1)"
      ],
      "execution_count": null,
      "outputs": [
        {
          "output_type": "stream",
          "name": "stdout",
          "text": [
            "<p id=\"explanation\">1. 자신의 경험을 일반화해서 남에게 일방적으로 강요한다.\n",
            "2. 자신의 생각과 주장이 항상 옳다고 생각한다.<br/>3. 지위가 낮거나 나이가 어린 사람에게 귄위적으로 행동한다.<br/>4. 갑질을 습관적으로 행한다.<br/>5. 사적인 질문을 서슴없이 한다.</p>\n"
          ]
        }
      ]
    },
    {
      "cell_type": "markdown",
      "metadata": {
        "id": "v7DDlLAQasYy"
      },
      "source": [
        "태그가 하나만 출력됐으므로 개행문자로 바뀐 태그는 하나뿐입니다. 전체 태그를 바꾸겠습니다."
      ]
    },
    {
      "cell_type": "code",
      "metadata": {
        "colab": {
          "base_uri": "https://localhost:8080/"
        },
        "id": "SYbxBJ8Qa9g_",
        "outputId": "66a9cbb1-3ee8-48cd-9e3b-8a32482cdc56"
      },
      "source": [
        "explanation_br = explanation1.find_all('br')\n",
        "\n",
        "for br in explanation_br:\n",
        "    br.replace_with('\\n')\n",
        "print(explanation1)"
      ],
      "execution_count": null,
      "outputs": [
        {
          "output_type": "stream",
          "name": "stdout",
          "text": [
            "<p id=\"explanation\">1. 자신의 경험을 일반화해서 남에게 일방적으로 강요한다.\n",
            "2. 자신의 생각과 주장이 항상 옳다고 생각한다.\n",
            "3. 지위가 낮거나 나이가 어린 사람에게 귄위적으로 행동한다.\n",
            "4. 갑질을 습관적으로 행한다.\n",
            "5. 사적인 질문을 서슴없이 한다.</p>\n"
          ]
        }
      ]
    },
    {
      "cell_type": "markdown",
      "metadata": {
        "id": "1_6TI_2Ub84D"
      },
      "source": [
        "위와 같이 `<br/>` 태그 전체를 개행문자로 바꾸는 기능을 함수로 생성하겠습니다."
      ]
    },
    {
      "cell_type": "code",
      "metadata": {
        "id": "5CU1fVujcNkr"
      },
      "source": [
        "def br_to_n(soup_html):\n",
        "    brs = soup_html.find_all('br')\n",
        "    for br in brs:\n",
        "        br.replace_with('\\n')\n",
        "    return soup_html"
      ],
      "execution_count": null,
      "outputs": []
    },
    {
      "cell_type": "markdown",
      "metadata": {
        "id": "SoZ7U3_GdAJ2"
      },
      "source": [
        "생성한 `br_to_n` 함수를 적용해서 모든 `<br/>` 태그를 바꾸겠습니다."
      ]
    },
    {
      "cell_type": "code",
      "metadata": {
        "colab": {
          "base_uri": "https://localhost:8080/"
        },
        "id": "jMQ4lZpMddLm",
        "outputId": "aec27ddb-cb8d-4977-d995-6d8c534050a7"
      },
      "source": [
        "br_to_n(soup4)"
      ],
      "execution_count": null,
      "outputs": [
        {
          "output_type": "execute_result",
          "data": {
            "text/plain": [
              "<!DOCTYPE html>\n",
              "<html>\n",
              "<head>\n",
              "<meta charset=\"utf-8\"/>\n",
              "<title>누구나 꼰대일 수 있다.</title>\n",
              "</head>\n",
              "<body>\n",
              "<p id=\"title\"><b>꼰대란 무엇인가</b></p>\n",
              "<p id=\"explanation\">1. 자신의 경험을 일반화해서 남에게 일방적으로 강요한다.\n",
              "2. 자신의 생각과 주장이 항상 옳다고 생각한다.\n",
              "3. 지위가 낮거나 나이가 어린 사람에게 귄위적으로 행동한다.\n",
              "4. 갑질을 습관적으로 행한다.\n",
              "5. 사적인 질문을 서슴없이 한다.</p>\n",
              "<p id=\"title\"><b>꼰대에서 탈출하는 법</b></p>\n",
              "<p id=\"explanation\">1. 내 인생과 상대의 인생은 엄연히 다르므로 어떤 주제든 일반화하지 않는다.\n",
              "2. 내 생각과 주장이 항상 옳지 않을 수 있다는 가치관을 갖는다.\n",
              "3. 권위를 버리고 존중하며 소통하는 습관을 갖는다.\n",
              "4. 사적인 질문을 하지 않는다.\n",
              "5. 추억팔이를 하지 않는다.\n",
              "6. 말하기보다 많이 듣는다.\n",
              "7. 조언 대신 공감한다.\n",
              "8. 말 대신 먼저 행동한다.</p>\n",
              "</body>\n",
              "</html>"
            ]
          },
          "metadata": {},
          "execution_count": 39
        }
      ]
    },
    {
      "cell_type": "markdown",
      "metadata": {
        "id": "TOujB3AidriO"
      },
      "source": [
        "텍스트만 모아서 출력하겠습니다."
      ]
    },
    {
      "cell_type": "code",
      "metadata": {
        "colab": {
          "base_uri": "https://localhost:8080/"
        },
        "id": "diyl66JmduDP",
        "outputId": "d023abbc-bcc4-46c1-d844-14e35248563f"
      },
      "source": [
        "titles = soup4.find_all('p', {'id': 'title'})\n",
        "explanations = soup4.find_all('p', {'id': 'explanation'})\n",
        "\n",
        "for title, explanation in zip(titles, explanations):\n",
        "    print(title.get_text())\n",
        "    print()\n",
        "    explanation_n = br_to_n(explanation)\n",
        "    print(explanation_n.get_text())\n",
        "    print()"
      ],
      "execution_count": null,
      "outputs": [
        {
          "output_type": "stream",
          "name": "stdout",
          "text": [
            "꼰대란 무엇인가\n",
            "\n",
            "1. 자신의 경험을 일반화해서 남에게 일방적으로 강요한다.\n",
            "2. 자신의 생각과 주장이 항상 옳다고 생각한다.\n",
            "3. 지위가 낮거나 나이가 어린 사람에게 귄위적으로 행동한다.\n",
            "4. 갑질을 습관적으로 행한다.\n",
            "5. 사적인 질문을 서슴없이 한다.\n",
            "\n",
            "꼰대에서 탈출하는 법\n",
            "\n",
            "1. 내 인생과 상대의 인생은 엄연히 다르므로 어떤 주제든 일반화하지 않는다.\n",
            "2. 내 생각과 주장이 항상 옳지 않을 수 있다는 가치관을 갖는다.\n",
            "3. 권위를 버리고 존중하며 소통하는 습관을 갖는다.\n",
            "4. 사적인 질문을 하지 않는다.\n",
            "5. 추억팔이를 하지 않는다.\n",
            "6. 말하기보다 많이 듣는다.\n",
            "7. 조언 대신 공감한다.\n",
            "8. 말 대신 먼저 행동한다.\n",
            "\n"
          ]
        }
      ]
    },
    {
      "cell_type": "markdown",
      "metadata": {
        "id": "HgaYewl7Kzc3"
      },
      "source": [
        "#### **1.5.2.4. 예제**"
      ]
    },
    {
      "cell_type": "markdown",
      "metadata": {
        "id": "wiFX_3O6mgnA"
      },
      "source": [
        "**데이터 분석을 위한 파이썬 철저 입문(최은석, 위키북스)**를 참고하여 웹 스크레이핑을 시도하겠습니다.\n",
        "\n",
        "먼저 웹 사이트 순위를 목록화한 [알렉사](https://www.alexa.com/topsites/countries/KR) 사이트에서 한국 웹 사이트 순위 목록을 가져오겠습니다.\n",
        "\n",
        "순위 목록 중에 'Google.com'을 검사하면 `<p>` 태그 내에 `<a>`로 이뤄져 있습니다. 그 아래 사이트들도 동일한 스타일로 구성되어 있습니다. `BeautifulSoup` 모듈의 `select()` 메서드를 활용해서 해당하는 요소만 출력해야 합니다. 인자는 `p a`로 전달합니다.\n",
        "\n",
        "일단 HTML 문을 가져오고, 순위 목록을 가져오겠습니다."
      ]
    },
    {
      "cell_type": "code",
      "metadata": {
        "colab": {
          "base_uri": "https://localhost:8080/"
        },
        "id": "Y1cOT9kTLBhM",
        "outputId": "ec5f04cc-979d-42d7-9589-e871914ed913"
      },
      "source": [
        "url = 'https://www.alexa.com/topsites/countries/KR'\n",
        "# `request.get()` 형식으로 해당 주소의 HTML을 가져옵니다.\n",
        "html_website_ranking = requests.get(url).text\n",
        "soup_website_ranking = BeautifulSoup(html_website_ranking, 'lxml')\n",
        "\n",
        "# 'p' 태그의 요소 내에서 a 태그의 요소를 찾습니다.\n",
        "website_ranking = soup_website_ranking.select('p a')\n",
        "len(website_ranking)"
      ],
      "execution_count": null,
      "outputs": [
        {
          "output_type": "execute_result",
          "data": {
            "text/plain": [
              "51"
            ]
          },
          "metadata": {},
          "execution_count": 41
        }
      ]
    },
    {
      "cell_type": "code",
      "metadata": {
        "colab": {
          "base_uri": "https://localhost:8080/"
        },
        "id": "qHMPUNZYPr1b",
        "outputId": "9acb58b3-ee02-42fb-88bd-debfedf6f242"
      },
      "source": [
        "website_ranking[:5]"
      ],
      "execution_count": null,
      "outputs": [
        {
          "output_type": "execute_result",
          "data": {
            "text/plain": [
              "[<a href=\"https://support.alexa.com/hc/en-us/articles/200444340\" target=\"_blank\">this explanation</a>,\n",
              " <a href=\"/siteinfo/google.com\">Google.com</a>,\n",
              " <a href=\"/siteinfo/naver.com\">Naver.com</a>,\n",
              " <a href=\"/siteinfo/youtube.com\">Youtube.com</a>,\n",
              " <a href=\"/siteinfo/daum.net\">Daum.net</a>]"
            ]
          },
          "metadata": {},
          "execution_count": 42
        }
      ]
    },
    {
      "cell_type": "markdown",
      "metadata": {
        "id": "xvOG0GOCOL9Z"
      },
      "source": [
        "출력 결과를 보면 총 51개 항목으로 이뤄진 리스트입니다. 첫 번째 항목은 사이트 항목이 아닙니다. 두 번째 항목부터 51번째 항목까지 사이트입니다. 따라서 첫 번째 항목만 제외하고 마지막 항목까지 선택해서 활용해야 합니다.\n",
        "\n",
        "위에서 강조했듯이 `get_text()` 메서드는 단일값에만 적용할 수 있습니다. 리스트 형태에는 적용할 수 없습니다. 반복문을 통해 하나씩 적용해야 합니다."
      ]
    },
    {
      "cell_type": "code",
      "metadata": {
        "colab": {
          "base_uri": "https://localhost:8080/"
        },
        "id": "emByjjnGPvZF",
        "outputId": "b8e18f51-73b2-43a2-f572-8cc8365481c2"
      },
      "source": [
        "# 리스트 컴프리헨션을 활용합니다.\n",
        "website_ranking_address = [website_ranking_element.get_text() for website_ranking_element in website_ranking[1:]]\n",
        "website_ranking_address[:5]"
      ],
      "execution_count": null,
      "outputs": [
        {
          "output_type": "execute_result",
          "data": {
            "text/plain": [
              "['Google.com', 'Naver.com', 'Youtube.com', 'Daum.net', 'Tistory.com']"
            ]
          },
          "metadata": {},
          "execution_count": 43
        }
      ]
    },
    {
      "cell_type": "code",
      "metadata": {
        "colab": {
          "base_uri": "https://localhost:8080/"
        },
        "id": "tmficRz5TIe7",
        "outputId": "7576e9fe-0d90-4181-c367-4ed6d505be1b"
      },
      "source": [
        "for i in range(10):\n",
        "    print(f'{i+1}위: {website_ranking_address[i]}')"
      ],
      "execution_count": null,
      "outputs": [
        {
          "output_type": "stream",
          "name": "stdout",
          "text": [
            "1위: Google.com\n",
            "2위: Naver.com\n",
            "3위: Youtube.com\n",
            "4위: Daum.net\n",
            "5위: Tistory.com\n",
            "6위: Kakao.com\n",
            "7위: Tmall.com\n",
            "8위: Coupang.com\n",
            "9위: Google.co.kr\n",
            "10위: Amazon.com\n"
          ]
        }
      ]
    },
    {
      "cell_type": "markdown",
      "metadata": {
        "id": "ZQnXfcHTTxwI"
      },
      "source": [
        "데이터프레임으로 만들겠습니다."
      ]
    },
    {
      "cell_type": "code",
      "metadata": {
        "colab": {
          "base_uri": "https://localhost:8080/",
          "height": 204
        },
        "id": "_G0-vF6DT0LE",
        "outputId": "ea9a03e1-0b3e-4839-982c-784f5429d0a8"
      },
      "source": [
        "dict_website_ranking = {'website': website_ranking_address}\n",
        "index = range(1, len(website_ranking_address)+1)\n",
        "df = pd.DataFrame(dict_website_ranking, index=index)\n",
        "df[:5]"
      ],
      "execution_count": null,
      "outputs": [
        {
          "output_type": "execute_result",
          "data": {
            "text/html": [
              "<div>\n",
              "<style scoped>\n",
              "    .dataframe tbody tr th:only-of-type {\n",
              "        vertical-align: middle;\n",
              "    }\n",
              "\n",
              "    .dataframe tbody tr th {\n",
              "        vertical-align: top;\n",
              "    }\n",
              "\n",
              "    .dataframe thead th {\n",
              "        text-align: right;\n",
              "    }\n",
              "</style>\n",
              "<table border=\"1\" class=\"dataframe\">\n",
              "  <thead>\n",
              "    <tr style=\"text-align: right;\">\n",
              "      <th></th>\n",
              "      <th>website</th>\n",
              "    </tr>\n",
              "  </thead>\n",
              "  <tbody>\n",
              "    <tr>\n",
              "      <th>1</th>\n",
              "      <td>Google.com</td>\n",
              "    </tr>\n",
              "    <tr>\n",
              "      <th>2</th>\n",
              "      <td>Naver.com</td>\n",
              "    </tr>\n",
              "    <tr>\n",
              "      <th>3</th>\n",
              "      <td>Youtube.com</td>\n",
              "    </tr>\n",
              "    <tr>\n",
              "      <th>4</th>\n",
              "      <td>Daum.net</td>\n",
              "    </tr>\n",
              "    <tr>\n",
              "      <th>5</th>\n",
              "      <td>Tistory.com</td>\n",
              "    </tr>\n",
              "  </tbody>\n",
              "</table>\n",
              "</div>"
            ],
            "text/plain": [
              "       website\n",
              "1   Google.com\n",
              "2    Naver.com\n",
              "3  Youtube.com\n",
              "4     Daum.net\n",
              "5  Tistory.com"
            ]
          },
          "metadata": {},
          "execution_count": 45
        }
      ]
    },
    {
      "cell_type": "markdown",
      "metadata": {
        "id": "MlFKnsBHW1x3"
      },
      "source": [
        "이번에는 음악 사이트 멜론(melon)에서 실시간 음악 순위를 가져오겠습니다. "
      ]
    },
    {
      "cell_type": "code",
      "metadata": {
        "colab": {
          "base_uri": "https://localhost:8080/"
        },
        "id": "yBMBUQDmZnnw",
        "outputId": "c86de141-da44-49ed-dbf5-2dcac08aca46"
      },
      "source": [
        "url = 'https://www.melon.com/chart/index.htm'\n",
        "html = requests.get(url).text\n",
        "soup = BeautifulSoup(html, 'lxml')\n",
        "soup"
      ],
      "execution_count": null,
      "outputs": [
        {
          "output_type": "execute_result",
          "data": {
            "text/plain": [
              ""
            ]
          },
          "metadata": {},
          "execution_count": 46
        }
      ]
    },
    {
      "cell_type": "markdown",
      "metadata": {
        "id": "rHdBa4po-pDz"
      },
      "source": [
        "아무것도 출력되지 않습니다. 무분별한 접근을 막기 위한 조치로 사료합니다. 취할 수 있는 조치는 헤더에 컴퓨터가 아닌 사용자라는 사실을 전달하는 것입니다. 자신의 헤더 확인 주소인 'm.avalon.co.kr/check.html'를 직접 주소창에 붙여넣고 접속합니다. 사용 중인 브라우저에 해당하는 헤더를 복사하고 아래 코드로 지정합니다."
      ]
    },
    {
      "cell_type": "code",
      "metadata": {
        "id": "E1OQHny1DF5c"
      },
      "source": [
        "header = {'User-Agent': 'Chrome/95.0.4638.54'}\n",
        "html = requests.get(url, headers=header).text\n",
        "soup = BeautifulSoup(html, 'lxml')\n",
        "# `soup` 객체에 담긴 내용이 많으므로 출력하지 않겠습니다."
      ],
      "execution_count": null,
      "outputs": []
    },
    {
      "cell_type": "markdown",
      "metadata": {
        "id": "rllT_aos5S8I"
      },
      "source": [
        "곡명을 가져오겠습니다. 두 가지 방법이 있습니다. `select()` 메서드를 사용하는 방법과 `find_all()` 메서드를 사용하는 방법입니다.\n",
        "\n",
        "먼저 `select()` 메서드를 사용하겠습니다. 곡명은 `<div>` 태그의 `class`가 `ellipsis rank01`인 부분입니다. 주목할 부분이라면 `ellipsis rank01`은 띄어쓰기가 있으므로 메서드가 제대로 인식되지 않습니다. 띄어쓰기 대신 `.`을 사용하면 `ellipsis rank01`로 인식됩니다."
      ]
    },
    {
      "cell_type": "code",
      "metadata": {
        "colab": {
          "base_uri": "https://localhost:8080/"
        },
        "id": "ik65fi1GadWJ",
        "outputId": "206476db-1eb4-4913-a43d-0c9e40786db4"
      },
      "source": [
        "titles = soup.select('div.ellipsis.rank01')\n",
        "titles[:5]"
      ],
      "execution_count": null,
      "outputs": [
        {
          "output_type": "execute_result",
          "data": {
            "text/plain": [
              "[<div class=\"ellipsis rank01\"><span>\n",
              " <a href=\"javascript:melon.play.playSong('1000002721',34215822);\" title=\"쉬어 (Feat. MINO) (Prod. GRAY) 재생\">쉬어 (Feat. MINO) (Prod. GRAY)</a>\n",
              " </span></div>, <div class=\"ellipsis rank01\"><span>\n",
              " <a href=\"javascript:melon.play.playSong('1000002721',34101563);\" title=\"strawberry moon 재생\">strawberry moon</a>\n",
              " </span></div>, <div class=\"ellipsis rank01\"><span>\n",
              " <a href=\"javascript:melon.play.playSong('1000002721',34215821);\" title=\"Wake Up (Prod. 코드 쿤스트) 재생\">Wake Up (Prod. 코드 쿤스트)</a>\n",
              " </span></div>, <div class=\"ellipsis rank01\"><span>\n",
              " <a href=\"javascript:melon.play.playSong('1000002721',34041584);\" title=\"Savage 재생\">Savage</a>\n",
              " </span></div>, <div class=\"ellipsis rank01\"><span>\n",
              " <a href=\"javascript:melon.play.playSong('1000002721',34061322);\" title=\"사랑은 늘 도망가 재생\">사랑은 늘 도망가</a>\n",
              " </span></div>]"
            ]
          },
          "metadata": {},
          "execution_count": 48
        }
      ]
    },
    {
      "cell_type": "markdown",
      "metadata": {
        "id": "-ePIjw2BfMYe"
      },
      "source": [
        "다음은 `find_all()` 메서드를 사용하는 방법입니다. 상황에 맞게 적당한 메서드를 골라서 사용하면 됩니다."
      ]
    },
    {
      "cell_type": "code",
      "metadata": {
        "colab": {
          "base_uri": "https://localhost:8080/"
        },
        "id": "TE834gtB5Z3p",
        "outputId": "0cc8739c-4a14-4e59-f006-fd19f4b2b454"
      },
      "source": [
        "titles = soup.find_all('div', {'class': 'ellipsis rank01'})\n",
        "titles[:5]"
      ],
      "execution_count": null,
      "outputs": [
        {
          "output_type": "execute_result",
          "data": {
            "text/plain": [
              "[<div class=\"ellipsis rank01\"><span>\n",
              " <a href=\"javascript:melon.play.playSong('1000002721',34215822);\" title=\"쉬어 (Feat. MINO) (Prod. GRAY) 재생\">쉬어 (Feat. MINO) (Prod. GRAY)</a>\n",
              " </span></div>, <div class=\"ellipsis rank01\"><span>\n",
              " <a href=\"javascript:melon.play.playSong('1000002721',34101563);\" title=\"strawberry moon 재생\">strawberry moon</a>\n",
              " </span></div>, <div class=\"ellipsis rank01\"><span>\n",
              " <a href=\"javascript:melon.play.playSong('1000002721',34215821);\" title=\"Wake Up (Prod. 코드 쿤스트) 재생\">Wake Up (Prod. 코드 쿤스트)</a>\n",
              " </span></div>, <div class=\"ellipsis rank01\"><span>\n",
              " <a href=\"javascript:melon.play.playSong('1000002721',34041584);\" title=\"Savage 재생\">Savage</a>\n",
              " </span></div>, <div class=\"ellipsis rank01\"><span>\n",
              " <a href=\"javascript:melon.play.playSong('1000002721',34061322);\" title=\"사랑은 늘 도망가 재생\">사랑은 늘 도망가</a>\n",
              " </span></div>]"
            ]
          },
          "metadata": {},
          "execution_count": 49
        }
      ]
    },
    {
      "cell_type": "markdown",
      "metadata": {
        "id": "Xwxbx7Vafus2"
      },
      "source": [
        "위에서 `get_text()` 메서드는 리스트에 적용되지 않는다고 설명했습니다. 반복문을 활용하여 항목을 하나씩 적용해야 합니다."
      ]
    },
    {
      "cell_type": "code",
      "metadata": {
        "colab": {
          "base_uri": "https://localhost:8080/"
        },
        "id": "ZIG-3siv_TIO",
        "outputId": "36d7ce60-d2b5-40c9-e4f4-109b4e6d931b"
      },
      "source": [
        "for title in titles[:5]:\n",
        "    print(title.find('a').get_text())"
      ],
      "execution_count": null,
      "outputs": [
        {
          "output_type": "stream",
          "name": "stdout",
          "text": [
            "쉬어 (Feat. MINO) (Prod. GRAY)\n",
            "strawberry moon\n",
            "Wake Up (Prod. 코드 쿤스트)\n",
            "Savage\n",
            "사랑은 늘 도망가\n"
          ]
        }
      ]
    },
    {
      "cell_type": "markdown",
      "metadata": {
        "id": "CP3iAMd0ith1"
      },
      "source": [
        "리스트 컴프리헨션으로도 적용할 수 있습니다. 개행문자 `\\n`이 곡명의 양쪽에 붙어서 출력되므로 `replace()` 메서드를 사용하여 제거하겠습니다."
      ]
    },
    {
      "cell_type": "code",
      "metadata": {
        "colab": {
          "base_uri": "https://localhost:8080/"
        },
        "id": "kp18ixpggWxC",
        "outputId": "7dbfa039-be03-4950-d7b1-71b0c2d212ad"
      },
      "source": [
        "titles_lc = [title.get_text() for title in titles]\n",
        "titles_lc[:5]"
      ],
      "execution_count": null,
      "outputs": [
        {
          "output_type": "execute_result",
          "data": {
            "text/plain": [
              "['\\n쉬어 (Feat. MINO) (Prod. GRAY)\\n',\n",
              " '\\nstrawberry moon\\n',\n",
              " '\\nWake Up (Prod. 코드 쿤스트)\\n',\n",
              " '\\nSavage\\n',\n",
              " '\\n사랑은 늘 도망가\\n']"
            ]
          },
          "metadata": {},
          "execution_count": 51
        }
      ]
    },
    {
      "cell_type": "code",
      "metadata": {
        "colab": {
          "base_uri": "https://localhost:8080/"
        },
        "id": "Ab4QM9lxkZow",
        "outputId": "5e8a5eec-1b94-4df4-dd39-a125d36a1070"
      },
      "source": [
        "titles_lc = [title.get_text().replace('\\n', '') for title in titles]\n",
        "for title in titles_lc[:5]:\n",
        "    print(title)"
      ],
      "execution_count": null,
      "outputs": [
        {
          "output_type": "stream",
          "name": "stdout",
          "text": [
            "쉬어 (Feat. MINO) (Prod. GRAY)\n",
            "strawberry moon\n",
            "Wake Up (Prod. 코드 쿤스트)\n",
            "Savage\n",
            "사랑은 늘 도망가\n"
          ]
        }
      ]
    },
    {
      "cell_type": "markdown",
      "metadata": {
        "id": "UJYY45n1-LdK"
      },
      "source": [
        "`strip()` 메서드를 사용해도 같습니다."
      ]
    },
    {
      "cell_type": "code",
      "metadata": {
        "colab": {
          "base_uri": "https://localhost:8080/"
        },
        "id": "DONP08AJ-I8o",
        "outputId": "b9fa6ac6-3983-45b1-e70a-8e907180bbef"
      },
      "source": [
        "titles_lc = [title.get_text().strip() for title in titles]\n",
        "for title in titles_lc[:5]:\n",
        "    print(title)"
      ],
      "execution_count": null,
      "outputs": [
        {
          "output_type": "stream",
          "name": "stdout",
          "text": [
            "쉬어 (Feat. MINO) (Prod. GRAY)\n",
            "strawberry moon\n",
            "Wake Up (Prod. 코드 쿤스트)\n",
            "Savage\n",
            "사랑은 늘 도망가\n"
          ]
        }
      ]
    },
    {
      "cell_type": "markdown",
      "metadata": {
        "id": "wR4TAo5mvjlL"
      },
      "source": [
        "가수명과 앨범명도 같은 방식으로 가져오면 됩니다. 클래스는 각각 `ellipsis rank02`, `ellipsis rank03`로 부여되어 있습니다.\n",
        "\n",
        "위에서 다룬 내용을 토대로 실시간 차트를 6시간마다 가져오는 함수를 생성하겠습니다. 이 함수는 차트 데이터를 누적하여 csv 파일로 저장할 것입니다.\n",
        "\n",
        "먼저 함수 생성에 필요한 모듈을 임포트 하겠습니다. "
      ]
    },
    {
      "cell_type": "code",
      "metadata": {
        "id": "S1uS3t-D0clW"
      },
      "source": [
        "from datetime import datetime\n",
        "import os\n",
        "import threading\n",
        "import time"
      ],
      "execution_count": null,
      "outputs": []
    },
    {
      "cell_type": "markdown",
      "metadata": {
        "id": "CE-oMbwysBI4"
      },
      "source": [
        "`os` 모듈의 `os`는 'operating System'의 약자입니다. 운영체제의 여러 기능을 파이썬에서 수행할 수 있습니다."
      ]
    },
    {
      "cell_type": "code",
      "metadata": {
        "colab": {
          "base_uri": "https://localhost:8080/"
        },
        "id": "iGKO7wYRqpX-",
        "outputId": "f52d8679-0bfa-4c65-a5e6-008a254144ad"
      },
      "source": [
        "# 현재 경로를 확인합니다.\n",
        "print(os.getcwd())\n",
        "# 파일과 디렉토리 목록을 확인합니다.\n",
        "print(os.listdir())\n",
        "print(os.listdir('gdrive/MyDrive/Python_for_Data_Analytics_Science'))"
      ],
      "execution_count": null,
      "outputs": [
        {
          "output_type": "stream",
          "name": "stdout",
          "text": [
            "/content\n",
            "['.config', 'gdrive', 'sample_data']\n",
            "['__pycache__', 'test_packages', 'test.txt', 'test2.txt', 'for_plus5.txt', 'with_subtract4.txt', 'fruits_sales.txt', 'test_module.py', '5674-833_4th', 'test_csv.csv', 'to_csv1.csv', 'test_csv1.csv', '직원별 판매량.xlsx', '수확량_김의종.xlsx', '수확량_유지민.xlsx', '수확량_통합.xlsx', '수확량_김의관.xlsx', '수확량_유지광.xlsx', '수확량_이승철.xlsx', 'to_csv2.csv', '수확량_이승원.xlsx', 'excelwriter.xlsx', 'to_excel.xlsx', '초별 속도.png', '초별 속도.xlsx', 'to_json.json', '초별 속도 차트.xlsx', 'img_download', 'HTML_ex.html', 'HTML_ex2.html', 'HTML_ex3.html', 'melon_chart.csv']\n"
          ]
        }
      ]
    },
    {
      "cell_type": "markdown",
      "metadata": {
        "id": "5aSz4g0otnmj"
      },
      "source": [
        "확장자가 'xlsx'로 끝나는 파일만 출력하겠습니다. `endwith()` 메서드에 끝나는 문자열을 지정합니다."
      ]
    },
    {
      "cell_type": "code",
      "metadata": {
        "colab": {
          "base_uri": "https://localhost:8080/"
        },
        "id": "EqSIncAwtSo4",
        "outputId": "0b8b0914-5e67-4e51-d742-8009aaf61fb9"
      },
      "source": [
        "for xlsx in os.listdir('gdrive/MyDrive/Python_for_Data_Analytics_Science'):\n",
        "        if xlsx.endswith('xlsx'):\n",
        "                print(xlsx)"
      ],
      "execution_count": null,
      "outputs": [
        {
          "output_type": "stream",
          "name": "stdout",
          "text": [
            "직원별 판매량.xlsx\n",
            "수확량_김의종.xlsx\n",
            "수확량_유지민.xlsx\n",
            "수확량_통합.xlsx\n",
            "수확량_김의관.xlsx\n",
            "수확량_유지광.xlsx\n",
            "수확량_이승철.xlsx\n",
            "수확량_이승원.xlsx\n",
            "excelwriter.xlsx\n",
            "to_excel.xlsx\n",
            "초별 속도.xlsx\n",
            "초별 속도 차트.xlsx\n"
          ]
        }
      ]
    },
    {
      "cell_type": "markdown",
      "metadata": {
        "id": "MDhGMxNDulER"
      },
      "source": [
        "`threding` 모듈은 스레드를 생성하는 모듈입니다. [링크](https://wikidocs.net/82581)를 참고 바랍니다.\n",
        "\n",
        "이제 실시간 차트를 6시간마다 가져오는 함수를 생성하겠습니다."
      ]
    },
    {
      "cell_type": "code",
      "metadata": {
        "id": "p7KZAKzo2JYG"
      },
      "source": [
        "def melon_chart_to_csv():\n",
        "\n",
        "    header = {'User-Agent': 'Chrome/95.0.4638.54'}\n",
        "    html = requests.get(url, headers=header).text\n",
        "    soup = BeautifulSoup(html, 'lxml')\n",
        "\n",
        "    titles = soup.select('div.ellipsis.rank01')\n",
        "    artists = soup.select('div.ellipsis.rank02')\n",
        "    albums = soup.select('div.ellipsis.rank03')\n",
        "\n",
        "    date_all = []\n",
        "    ranking_all = []\n",
        "    title_all = []\n",
        "    artist_all = []\n",
        "    album_all = []\n",
        "\n",
        "    for i in range(1, 101):\n",
        "        ranking_all.append(i)\n",
        "        date_all.append(datetime.today().strftime('%Y-%m-%d'))\n",
        "\n",
        "    for title in titles:\n",
        "        title_all.append(title.find('a').get_text())\n",
        "\n",
        "    for artist in artists:\n",
        "        artist_all.append(artist.find('a').get_text())\n",
        "\n",
        "    for album in albums:\n",
        "        album_all.append(album.find('a').get_text())\n",
        "\n",
        "    df = pd.DataFrame([date_all, ranking_all, title_all, artist_all, album_all],\n",
        "                      index=['date', 'rank', 'title', 'artist', 'singer'])\n",
        "    # 행 기준으로 데이터가 입력되므로 열로 입력되도록 전치합니다.\n",
        "    df = df.T\n",
        "    # 같은 파일이 존재하지 않으면 파일을 생성합니다.\n",
        "    if not os.path.exists('/content/gdrive/MyDrive/Python_for_Data_Analytics_Science/melon_chart.csv'):\n",
        "        df.to_csv('/content/gdrive/MyDrive/Python_for_Data_Analytics_Science/melon_chart.csv',\n",
        "                  index=False, mode='w', encoding='utf-8')\n",
        "    # 추가 모드인 `a`로 파일을 엽니다. 같은 파일이 없으면 사실상 w 인자와 동일합니다.\n",
        "    else:\n",
        "        df.to_csv('/content/gdrive/MyDrive/Python_for_Data_Analytics_Science/melon_chart.csv',\n",
        "                  index=False, mode='a', encoding='utf-8', header=False)\n",
        "    # 6시간(21600초)마다 함수를 실행합니다.\n",
        "    threading.Timer(21600, melon_chart_to_csv).start()\n",
        "\n",
        "melon_chart_to_csv()"
      ],
      "execution_count": null,
      "outputs": []
    },
    {
      "cell_type": "markdown",
      "metadata": {
        "id": "gVHRn4oxNxtT"
      },
      "source": [
        "다음 예제는 **파이썬 머신러닝 판다스 데이터 분석(오승환, 정보문화사)**을 참고했습니다. 미국 상장 지수 펀드에 대한 설명을 담은 위키피디아 페이지를 웹 스크레이핑 하겠습니다."
      ]
    },
    {
      "cell_type": "code",
      "metadata": {
        "id": "gvONpCHymJ0i",
        "colab": {
          "base_uri": "https://localhost:8080/"
        },
        "outputId": "b8f19c40-dc90-4057-b7e9-3eb2364f4303"
      },
      "source": [
        "url = 'https://en.wikipedia.org/wiki/List_of_American_exchange-traded_funds'\n",
        "html = requests.get(url).text\n",
        "soup = BeautifulSoup(html, 'lxml')\n",
        "# 부모와 자식간의 태그를 조회합니다. 좁혀 들어가는 방식입니다. `<li>` 태그의 요소를 검색합니다.\n",
        "rows = soup.select('div > ul > li')\n",
        "rows[:5]"
      ],
      "execution_count": null,
      "outputs": [
        {
          "output_type": "execute_result",
          "data": {
            "text/plain": [
              "[<li>iShares Core S&amp;P Total US Stock Mkt (<a href=\"/wiki/NYSE_Arca\" title=\"NYSE Arca\">NYSE Arca</a>: <a class=\"external text\" href=\"https://www.nyse.com/quote/ARCX:ITOT\" rel=\"nofollow\">ITOT</a>)</li>,\n",
              " <li>iShares MSCI ACWI Index (<a href=\"/wiki/Nasdaq\" title=\"Nasdaq\">Nasdaq</a>: <a class=\"external text\" href=\"https://www.nasdaq.com/symbol/acwi\" rel=\"nofollow\">ACWI</a>)</li>,\n",
              " <li>iShares <a class=\"mw-redirect\" href=\"/wiki/Russell_3000\" title=\"Russell 3000\">Russell 3000</a> Index (<a href=\"/wiki/NYSE_Arca\" title=\"NYSE Arca\">NYSE Arca</a>: <a class=\"external text\" href=\"https://www.nyse.com/quote/ARCX:IWV\" rel=\"nofollow\">IWV</a>)</li>,\n",
              " <li>Schwab US Broad Market ETF (<a href=\"/wiki/NYSE_Arca\" title=\"NYSE Arca\">NYSE Arca</a>: <a class=\"external text\" href=\"https://www.nyse.com/quote/ARCX:SCHB\" rel=\"nofollow\">SCHB</a>)</li>,\n",
              " <li>Schwab Fundamental U.S. Broad Market Index ETF (<a href=\"/wiki/NYSE_Arca\" title=\"NYSE Arca\">NYSE Arca</a>: <a class=\"external text\" href=\"https://www.nyse.com/quote/ARCX:FNDB\" rel=\"nofollow\">FNDB</a>)</li>]"
            ]
          },
          "metadata": {},
          "execution_count": 58
        }
      ]
    },
    {
      "cell_type": "code",
      "metadata": {
        "id": "nd16kh6upu49",
        "colab": {
          "base_uri": "https://localhost:8080/",
          "height": 476
        },
        "outputId": "834ceb39-14da-40b9-9b6b-c25d7a28753b"
      },
      "source": [
        "# 딕셔너리에 정리하기 위해 빈 딕셔너리를 만듭니다.\n",
        "etfs = {}\n",
        "\n",
        "for row in rows:\n",
        "    # 메타문자 파트를 참고하시기 바랍니다.\n",
        "    # `findall()` 메서드를 토대로 지정한 패턴을 문자열에 지정합니다.\n",
        "    try:\n",
        "        etf_name = re.findall('^(.*) \\(NYSE', row.text)\n",
        "        etf_market = re.findall('\\((.*)\\|', row.text)\n",
        "        etf_ticker = re.findall('NYSE Arca\\|(.*)\\)', row.text)\n",
        "\n",
        "        if (len(etf_ticker) > 0) & (len(etf_market) > 0) & (len(etf_name) > 0):\n",
        "            etfs[etf_ticker[0]] = [etf_market[0], etf_name[0]]\n",
        "\n",
        "    except AttributeError as err:\n",
        "        pass\n",
        "\n",
        "print(etfs)\n",
        "print()\n",
        "\n",
        "df_etfs = pd.DataFrame(etfs)\n",
        "# 전치하여 열 기준으로 데이터가 출력되도록 합니다.\n",
        "df_etfs.T"
      ],
      "execution_count": null,
      "outputs": [
        {
          "output_type": "stream",
          "name": "stdout",
          "text": [
            "{'DIA': ['NYSE Arca', 'DIAMONDS Trust, Series 1'], 'RSP': ['NYSE Arca', 'Guggenheim S&P 500 Equal Weight'], 'IOO': ['NYSE Arca', 'iShares S&P Global 100 Index'], 'IVV': ['NYSE Arca', 'iShares S&P 500 Index'], 'SPY': ['NYSE Arca', 'SPDR S&P 500'], 'VOO': ['NYSE Arca', 'Vanguard S&P 500'], 'IWM': ['NYSE Arca', 'iShares Russell 2000 Index'], 'OEF': ['NYSE Arca', 'iShares S&P 100 Index'], 'CVY': ['NYSE Arca', 'Guggenheim Multi-Asset Income'], 'RPG': ['NYSE Arca', 'Guggenheim S&P 500 Pure Growth ETF'], 'RPV': ['NYSE Arca', 'Guggenheim S&P 500 Pure Value ETF'], 'IWB': ['NYSE Arca', 'iShares Russell 1000 Index'], 'PKW': ['NYSE Arca', 'PowerShares Buyback Achievers'], 'PRF': ['NYSE Arca', 'PowerShares FTSE RAFI US 1000'], 'SPLV': ['NYSE Arca', 'PowerShares S&P 500 Low Volatility'], 'SCHX': ['NYSE Arca', 'Schwab US Large-Cap ETF'], 'SCHD': ['NYSE Arca', 'Schwab US Dividend Equity ETF'], 'FNDX': ['NYSE Arca', 'Schwab Fundamental U.S. Large Company Index ETF'], 'SDY': ['NYSE Arca', 'SPDR S&P Dividend ETF'], 'VV': ['NYSE Arca', 'Vanguard Large-Cap'], 'MGC': ['NYSE Arca', 'Vanguard Mega-Cap 300'], 'VONE': ['NYSE Arca', 'Vanguard Russell 1000'], 'VIG': ['NYSE Arca', 'Vanguard Dividend Appreciation'], 'VYM': ['NYSE Arca', 'Vanguard High Dividend Yield'], 'DTN': ['NYSE Arca', 'WisdomTree Dividend ex-Financials'], 'DLN': ['NYSE Arca', 'WisdomTree LargeCap Dividend'], 'MDY': ['NYSE Arca', 'MidCap SPDR'], 'DVY': ['NYSE Arca', 'iShares Select Dividend'], 'IWR': ['NYSE Arca', 'iShares Russell Midcap Index'], 'IJH': ['NYSE Arca', 'iShares S&P MidCap 400 Index'], 'PDP': ['NYSE Arca', 'PowerShares DWA Mom Port'], 'SCHM': ['NYSE Arca', 'Schwab US Mid-Cap'], 'IVOO': ['NYSE Arca', 'Vanguard S&P Mid-Cap 400'], 'VO': ['NYSE Arca', 'Vanguard Mid-Cap'], 'VXF': ['NYSE Arca', 'Vanguard Extended Market'], 'DON': ['NYSE Arca', 'WisdomTree MidCap Dividend ETF'], 'IWC': ['NYSE Arca', 'iShares Micro-Cap'], 'IJR': ['NYSE Arca', 'iShares S&P SmallCap 600 Index'], 'SCHA': ['NYSE Arca', 'Schwab US Small-Cap ETF'], 'FNDA': ['NYSE Arca', 'Schwab Fundamental U.S. Small Company Index ETF'], 'VIOO': ['NYSE Arca', 'Vanguard S&P Small-Cap 600'], 'VB': ['NYSE Arca', 'Vanguard Small-Cap'], 'VTWO': ['NYSE Arca', 'Vanguard Russell 2000'], 'EEB': ['NYSE Arca', 'Claymore/BNY BRIC'], 'ECON': ['NYSE Arca', 'EGShares Emerging Markets Consumer'], 'IDV': ['NYSE Arca', 'iShares International Select Div'], 'BKF': ['NYSE Arca', 'iShares MSCI BRIC Index'], 'EFA': ['NYSE Arca', 'iShares MSCI EAFE Index'], 'SCZ': ['NYSE Arca', 'iShares MSCI EAFE Small-Cap'], 'EEM': ['NYSE Arca', 'iShares MSCI Emerging Markets Index'], 'PID': ['NYSE Arca', 'PowerShares Intl Dividend Achievers'], 'SCHC': ['NYSE Arca', 'Schwab International Small-Cap Equity'], 'SCHE': ['NYSE Arca', 'Schwab Emerging Markets Equity ETF'], 'SCHF': ['NYSE Arca', 'Schwab International Equity ETF'], 'FNDF': ['NYSE Arca', 'Schwab Fundamental International Large Company Index ETF'], 'FNDC': ['NYSE Arca', 'Schwab Fundamental International Small Company Index ETF'], 'FNDE': ['NYSE Arca', 'Schwab Fundamental Emerging Markets Large Company Index ETF'], 'DWX': ['NYSE Arca', 'SPDR S&P International Dividend'], 'VEA': ['NYSE Arca', 'Vanguard MSCI EAFE'], 'VWO': ['NYSE Arca', 'Vanguard MSCI Emerging Markets'], 'VXUS': ['NYSE Arca', 'Vanguard Total International Stock'], 'VEU': ['NYSE Arca', 'Vanguard FTSE All-World ex-US'], 'VSS': ['NYSE Arca', 'Vanguard FTSE All-World ex-US Small-Cap'], 'DEM': ['NYSE Arca', 'WisdomTree Emerging Markets Equity Inc'], 'DGS': ['NYSE Arca', 'WisdomTree Emerging Mkts SmallCap Div'], 'EZU': ['NYSE Arca', 'iShares MSCI EMU Index'], 'EPP': ['NYSE Arca', 'iShares MSCI Pacific ex-Japan'], 'IEV': ['NYSE Arca', 'iShares S&P Europe 350 Index'], 'ILF': ['NYSE Arca', 'iShares S&P Latin America 40 Index'], 'FEZ': ['NYSE Arca', 'SPDR EURO STOXX 50'], 'VGK': ['NYSE Arca', 'Vanguard MSCI Europe'], 'VPL': ['NYSE Arca', 'Vanguard MSCI Pacific'], 'HEDJ': ['NYSE Arca', 'WisdomTree Europe Hedged Equity ETF'], 'DFE': ['NYSE Arca', 'WisdomTree Europe SmallCap Dividend'], 'AND': ['NYSE Arca', 'Global X FTSE Andean 40 ETF'], 'GXF': ['NYSE Arca', 'Global X FTSE Nordic Region ETF'], 'EWA': ['NYSE Arca', 'iShares MSCI Australia Index'], 'EWC': ['NYSE Arca', 'iShares MSCI Canada Index'], 'EWG': ['NYSE Arca', 'iShares MSCI German Index'], 'EIS': ['NYSE Arca', 'iShares MSCI Israel ETF'], 'EWI': ['NYSE Arca', 'iShares MSCI Italy Capped'], 'EWJ': ['NYSE Arca', 'iShares MSCI Japan Index'], 'EWY': ['NYSE Arca', 'iShares MSCI Korea Index'], 'EWD': ['NYSE Arca', 'iShares MSCI Sweden Index'], 'EWL': ['NYSE Arca', 'iShares MSCI Switzerland Capped'], 'EWP': ['NYSE Arca', 'iShares MSCI Spain Capped'], 'EWU': ['NYSE Arca', 'iShares MSCI United Kingdom Index'], 'DXJ': ['NYSE Arca', 'WisdomTree Japan Hedged Equity'], 'NORW': ['NYSE Arca', 'Global X FTSE Norway 30 ETF'], 'INDF': ['NYSE Arca', 'Nifty India Financials ETF'], 'EWZ': ['NYSE Arca', 'iShares MSCI Brazil Index'], 'FXI': ['NYSE Arca', 'iShares FTSE/Xinhua China 25 Index'], 'EWH': ['NYSE Arca', 'iShares MSCI Hong Kong Index'], 'EWW': ['NYSE Arca', 'iShares MSCI Mexico Index'], 'EPHE': ['NYSE Arca', 'iShares MSCI Philippines Index'], 'RSX': ['NYSE Arca', 'Market Vectors Russia ETF'], 'EWS': ['NYSE Arca', 'iShares MSCI Singapore Index'], 'EWM': ['NYSE Arca', 'iShares MSCI Malaysia Index'], 'EWT': ['NYSE Arca', 'iShares MSCI Taiwan Index'], 'EPI': ['NYSE Arca', 'WisdomTree India Earnings ETF'], 'ARGT': ['NYSE Arca', 'Global X FTSE Argentina 20 ETF'], 'BRAF': ['NYSE Arca', 'Global X Brazil Financials ETF'], 'BRAQ': ['NYSE Arca', 'Global X Brazil Consumer ETF'], 'BRAZ': ['NYSE Arca', 'Global X Brazil Mid Cap ETF'], 'GXG': ['NYSE Arca', 'Global X FTSE Colombia 20 ETF'], 'XLY': ['NYSE Arca', 'Consumer Discretionary Select Sector SPDR'], 'IYC': ['NYSE Arca', 'iShares Dow Jones US Consumer Services'], 'ITB': ['NYSE Arca', 'iShares US Home Construction'], 'XHB': ['NYSE Arca', 'SPDR S&P Homebuilders ETF'], 'VCR': ['NYSE Arca', 'Vanguard Consumer Discretionary'], 'XLP': ['NYSE Arca', 'Consumer Staples Select Sector SPDR'], 'IYK': ['NYSE Arca', 'iShares Dow Jones US Consumer Goods'], 'VDC': ['NYSE Arca', 'Vanguard Consumer Staples'], 'AMLP': ['NYSE Arca', 'ALPS Alerian MLP ETF'], 'XLE': ['NYSE Arca', 'Energy Select Sector SPDR'], 'IYE': ['NYSE Arca', 'iShares Dow Jones US Energy'], 'IGE': ['NYSE Arca', 'iShares North American Natural Resources'], 'OIH': ['NYSE Arca', 'Market Vectors Oil Services ETF'], 'XOP': ['NYSE Arca', 'SPDR S&P Oil & Gas Explor & Prod ETF'], 'VDE': ['NYSE Arca', 'Vanguard Energy'], 'ESPO': ['NYSE Arca', 'VanEck Vectors Video Gaming and eSports ETF'], 'XLF': ['NYSE Arca', 'Financial Select Sector SPDR'], 'IYF': ['NYSE Arca', 'iShares Dow Jones US Financial'], 'KBE': ['NYSE Arca', 'SPDR S&P Bank ETF'], 'KRE': ['NYSE Arca', 'SPDR S&P Regional Banking ETF'], 'VFH': ['NYSE Arca', 'Vanguard Financials'], 'FXH': ['NYSE Arca', 'First Trust Health Care AlphaDEX'], 'FBT': ['NYSE Arca', 'First Trust NYSE Arca Biotech Index'], 'XLV': ['NYSE Arca', 'Health Care Select Sector SPDR'], 'IYH': ['NYSE Arca', 'iShares Dow Jones US Health Care'], 'PJP': ['NYSE Arca', 'PowerShares Dynamic Pharmaceuticals'], 'XBI': ['NYSE Arca', 'SPDR S&P Biotech ETF'], 'VHT': ['NYSE Arca', 'Vanguard Health Care'], 'XLI': ['NYSE Arca', 'Industrial Select Sector SPDR'], 'IYJ': ['NYSE Arca', 'iShares Dow Jones US Industrial'], 'VIS': ['NYSE Arca', 'Vanguard Industrials'], 'XLB': ['NYSE Arca', 'Materials Select Sector SPDR'], 'IYM': ['NYSE Arca', 'iShares Dow Jones US Materials'], 'GDX': ['NYSE Arca', 'Market Vectors Gold Miners ETF'], 'GDXJ': ['NYSE Arca', 'Market Vectors Junior Gold Miners ETF'], 'VAW': ['NYSE Arca', 'Vanguard Materials'], 'FDN': ['NYSE Arca', 'First Trust Dow Jones Internet Index'], 'XLK': ['NYSE Arca', 'Technology Select Sector SPDR'], 'IYW': ['NYSE Arca', 'iShares Dow Jones US Technology'], 'IGV': ['NYSE Arca', 'iShares North American Tech-Software'], 'VGT': ['NYSE Arca', 'Vanguard Information Technology'], 'IYZ': ['NYSE Arca', 'iShares Dow Jones US Telecommunications'], 'VOX': ['NYSE Arca', 'Vanguard Telecommunication Services'], 'XLU': ['NYSE Arca', 'Utilities Select Sector SPDR'], 'IDU': ['NYSE Arca', 'iShares Dow Jones US Utilities'], 'VPU': ['NYSE Arca', 'Vanguard Utilities'], 'IPD': ['NYSE Arca', 'SPDR S&P International Consumer Discretionary'], 'RXI': ['NYSE Arca', 'iShares S&P Global Consumer Discretionary'], 'IPS': ['NYSE Arca', 'SPDR S&P International Consumer Staples'], 'KXI': ['NYSE Arca', 'iShares S&P Global Consumer Staples'], 'IPW': ['NYSE Arca', 'SPDR S&P International Energy'], 'IXC': ['NYSE Arca', 'iShares S&P Global Energy'], 'IPF': ['NYSE Arca', 'SPDR S&P International Financial'], 'IXG': ['NYSE Arca', 'iShares S&P Global Financial'], 'IRY': ['NYSE Arca', 'SPDR S&P International Health Care'], 'IXJ': ['NYSE Arca', 'iShares S&P Global Healthcare'], 'IPN': ['NYSE Arca', 'SPDR S&P International Industrial'], 'EXI': ['NYSE Arca', 'iShares S&P Global Industrials'], 'GUNR': ['NYSE Arca', 'FlexShares Mstar Gbl Upstrm Nat Res ETF'], 'IRV': ['NYSE Arca', 'SPDR S&P International Materials'], 'MXI': ['NYSE Arca', 'iShares S7P Global Materials'], 'IPK': ['NYSE Arca', 'SPDR S&P International Technology'], 'IXN': ['NYSE Arca', 'iShares S&P Global Technology'], 'IST': ['NYSE Arca', 'SPDR S&P International Telecommunications'], 'IXP': ['NYSE Arca', 'iShares S&P Global Telecommunications'], 'IPU': ['NYSE Arca', 'SPDR S&P International Utilities'], 'JXI': ['NYSE Arca', 'iShares S&P Global Utilities'], 'HYLD': ['NYSE Arca', 'AdvisorShares Peritus High Yield ETF'], 'TDTT': ['NYSE Arca', 'FlexShares iBoxx 3Yr Target Dur TIPS ETF'], 'CSJ': ['NYSE Arca', 'iShares 1-3 Year Credit Bond'], 'IEI': ['NYSE Arca', 'iShares 3-7 Year Treasury Bond'], 'AGG': ['NYSE Arca', 'iShares Core U.S. Aggregate Bond'], 'SHY': ['NYSE Arca', 'iShares Barclays 1-3 Year Treasury Bond'], 'TIP': ['NYSE Arca', 'iShares Barclays TIPS Bond'], 'HYG': ['NYSE Arca', 'iShares iBoxx $ High Yield Corp Bond'], 'LQD': ['NYSE Arca', 'iShares iBoxx $ Invest Grade Corp Bond'], 'IEF': ['NYSE Arca', 'iShares Barclays 7-10 Year Treasury'], 'TLT': ['NYSE Arca', 'iShares Barclays 20+ Year Treas Bond'], 'FLOT': ['NYSE Arca', 'iShares Floating Rate Bond'], 'CIU': ['NYSE Arca', 'iShares Intermediate Credit Bd'], 'GVI': ['NYSE Arca', 'iShares Intm Government/Credit Bond'], 'EMB': ['NYSE Arca', 'iShares JPMorgan USD Emerg Markets Bond'], 'MBB': ['NYSE Arca', 'iShares MBS'], 'MUB': ['NYSE Arca', 'iShares National AMT-Free Muni Bond'], 'SHV': ['NYSE Arca', 'iShares Short Treasury Bond'], 'HYD': ['NYSE Arca', 'Market Vectors High-Yield Muni ETF'], 'HYS': ['NYSE Arca', 'PIMCO 0-5 Year High Yld Corp Bd Idx ETF'], 'STPZ': ['NYSE Arca', 'PIMCO 1-5 Year US TIPS Index ETF'], 'MINT': ['NYSE Arca', 'PIMCO Enhanced Short Duration ETF'], 'BOND': ['NYSE Arca', 'PIMCO Total Return ETF'], 'PCY': ['NYSE Arca', 'PowerShares Emerging Mkts Sovereign Debt'], 'BKLN': ['NYSE Arca', 'PowerShares Senior Loan Port'], 'SCHZ': ['NYSE Arca', 'Schwab US Aggregate Bond'], 'SCHP': ['NYSE Arca', 'Schwab US TIPS'], 'SCHO': ['NYSE Arca', 'Schwab Short-Term US Treasury'], 'SCHR': ['NYSE Arca', 'Schwab Intermediate-Term US Treasury'], 'JNK': ['NYSE Arca', 'SPDR Barclays Capital High Yield Bond ETF'], 'BIL': ['NYSE Arca', 'SPDR Barclays 1-3 Month T-Bill'], 'SCPB': ['NYSE Arca', 'SPDR Barclays Capital Short Term Corp Bd'], 'BWX': ['NYSE Arca', 'SPDR Barclays International Treasury Bd'], 'SJNK': ['NYSE Arca', 'SPDR Barclays Short Term Hi Yld Bd ETF'], 'TFI': ['NYSE Arca', 'SPDR Nuveen Barclays Capital Muni Bond'], 'SHM': ['NYSE Arca', 'SPDR Nuveen Barclays Capital S/T Muni Bd'], 'EDV': ['NYSE Arca', 'Vanguard Extended Duration Treasury'], 'BIV': ['NYSE Arca', 'Vanguard Intermediate-Term Bond'], 'VCIT': ['NYSE Arca', 'Vanguard Intermediate-Term Corporate Bond'], 'VGIT': ['NYSE Arca', 'Vanguard Intermediate-Term Government Bond'], 'BLV': ['NYSE Arca', 'Vanguard Long-Term Bond'], 'VCLT': ['NYSE Arca', 'Vanguard Long-Term Corporate Bond'], 'VGLT': ['NYSE Arca', 'Vanguard Long-Term Government Bond'], 'VMBS': ['NYSE Arca', 'Vanguard Mortgage-Backed Securities'], 'BSV': ['NYSE Arca', 'Vanguard Short-Term Bond'], 'VCSH': ['NYSE Arca', 'Vanguard Short-Term Corporate Bond'], 'VGSH': ['NYSE Arca', 'Vanguard Short-Term Government Bond'], 'BND': ['NYSE Arca', 'Vanguard Total Bond Market'], 'RJI': ['NYSE Arca', 'ELEMENTS Rogers International Commodity Index ETN'], 'DJP': ['NYSE Arca', 'iPath Dow Jones-UBS Commodity Idx TR ETN'], 'GSG': ['NYSE Arca', 'iShares S&P GSCI Commodity-Indexed Trust'], 'DBC': ['NYSE Arca', 'PowerShares DB Commodity Idx Trking Fund'], 'RJA': ['NYSE Arca', 'ELEMENTS Rogers Agriculture ETN'], 'JJA': ['NYSE Arca', 'iPath Dow Jones-UBS Agriculture ETN'], 'DBA': ['NYSE Arca', 'PowerShares DB Agriculture'], 'RJN': ['NYSE Arca', 'ELEMENTS Rogers Energy ETN'], 'OIL': ['NYSE Arca', 'iPath Dow Jones-UBS Crude Oil ETN'], 'GAZ': ['NYSE Arca', 'iPath Dow Jones-UBS Natural Gas ETN'], 'UNG': ['NYSE Arca', 'United States Natural Gas Fund'], 'USO': ['NYSE Arca', 'United States Oil Fund'], 'RJZ': ['NYSE Arca', 'ELEMENTS Rogers Metal ETN'], 'JJM': ['NYSE Arca', 'iPath Dow Jones-UBS Industrial Metals ETN'], 'DBB': ['NYSE Arca', 'PowerShares DB Base Metals'], 'SGOL': ['NYSE Arca', 'ETFS Physical Swiss Gold Shares'], 'IAU': ['NYSE Arca', 'iShares Gold Trust'], 'GLD': ['NYSE Arca', 'SPDR Gold Shares'], 'SIVR': ['NYSE Arca', 'ETFS Physical Silver Shares'], 'SLV': ['NYSE Arca', 'iShares Silver Trust'], 'PALL': ['NYSE Arca', 'ETFS Physical Palladium Shares'], 'PPLT': ['NYSE Arca', 'ETFS Physical Platinum Shares'], 'ICF': ['NYSE Arca', 'iShares Cohen & Steers Realty Majors'], 'IFAS': ['NYSE Arca', 'iShares Dow Jones Asia Real Estate'], 'IFEU': ['NYSE Arca', 'iShares Dow Jones Europe Real Estate'], 'IYR': ['NYSE Arca', 'iShares Dow Jones US Real Estate'], 'REM': ['NYSE Arca', 'iShares Mortgage Real Estate Capped'], 'SCHH': ['NYSE Arca', 'Schwab US REIT'], 'RWO': ['NYSE Arca', 'SPDR Dow Jones Global Real Estate'], 'RWX': ['NYSE Arca', 'SPDR Dow Jones Intl Real Estate'], 'RWR': ['NYSE Arca', 'SPDR Dow Jones REIT ETF'], 'WREI': ['NYSE Arca', 'Wilshire US REIT ETF'], 'VNQ': ['NYSE Arca', 'Vanguard Real Estate'], 'VNQI': ['NYSE Arca', 'Vanguard Global ex-US Real Estate'], 'HDGE': ['NYSE Arca', 'AdvisorShares Ranger Equity Bear ETF'], 'HDGI': ['NYSE Arca', 'AdvisorShares Athena International Bear ETF'], 'DOG': ['NYSE Arca', 'ProShares Short Dow 30'], 'SH': ['NYSE Arca', 'ProShares Short S&P 500'], 'MYY': ['NYSE Arca', 'ProShares Short S&P MidCap 400'], 'SBB': ['NYSE Arca', 'ProShares Short S&P SmallCap 600'], 'PSQ': ['NYSE Arca', 'ProShares Short Nasdaq 100'], 'RWM': ['NYSE Arca', 'ProShares Short Russell 2000'], 'EFZ': ['NYSE Arca', 'ProShares Short MSCI EAFE'], 'FBGX': ['NYSE Arca', 'UBS AG FI Enhanced Large Cap Growth 2x ETF'], 'FLGE': ['NYSE Arca', 'Credit Suisse FI Large Cap Growth Enhanced ETF'], 'MIDU': ['NYSE Arca', 'Direxion Daily Mid Cap Bull 3x ETF'], 'SPUU': ['NYSE Arca', 'Direxion Daily S&P 500 Bull 2x ETF'], 'SPXL': ['NYSE Arca', 'Direxion Daily S&P 500 Bull 3x ETF'], 'ERX': ['NYSE Arca', 'Direxion Energy Bull 3x ETF'], 'FAS': ['NYSE Arca', 'Direxion Financials Bull 3x ETF'], 'BGU': ['NYSE Arca', 'Direxion Large Cap Bull 3x'], 'TNA': ['NYSE Arca', 'Direxion Small Cap Bull 3x'], 'DDM': ['NYSE Arca', 'ProShares Ultra Dow 30'], 'QLD': ['NYSE Arca', 'ProShares Ultra NASDAQ-100'], 'UWM': ['NYSE Arca', 'ProShares Ultra Russell 2000'], 'SSO': ['NYSE Arca', 'ProShares Ultra S&P 500'], 'UPRO': ['NYSE Arca', 'ProShares S&P 500 3x'], 'SDS': ['NYSE Arca', 'UltraShort S&P 500 ProShares 2x'], 'SPXU': ['NYSE Arca', 'ProShares S&P 500 Direxionshares Bear 3x ETF'], 'TZA': ['NYSE Arca', 'Direxion Russell 2000 Direxionshares Bear 3x ETF'], 'SQQQ': ['NYSE Arca', 'UltraPro Short QQQ'], 'QID': ['NYSE Arca', 'UltraShort NASDAQ-100 ProShares  2X'], 'SKF': ['NYSE Arca', 'UltraShort Financials ProShares'], 'TWM': ['NYSE Arca', 'UltraShort Russell 2000 ProShares'], 'DXD': ['NYSE Arca', 'UltraShort Dow 30 ProShares'], 'SRS': ['NYSE Arca', 'UltraShort Real Estate ProShares'], 'MZZ': ['NYSE Arca', 'UltraShort MidCap 400 ProShares'], 'DUG': ['NYSE Arca', 'UltraShort Oil & Gas ProShares'], 'BGZ': ['NYSE Arca', 'Direxion Large Cap Bear 3x ETF'], 'ERY': ['NYSE Arca', 'Direxion Energy Bear 3x ETF'], 'FAZ': ['NYSE Arca', 'Direxion Financials Bear 3x ETF'], 'AADR': ['NYSE Arca', 'AdvisorShares WCM/BNY Mellon Focused Growth ADR ETF'], 'ACCU': ['NYSE Arca', 'AdvisorShares Accuvest Global Opportunities ETF'], 'DBIZ': ['NYSE Arca', 'AdvisorShares Pring Turner Business Cycle ETF'], 'EPRO': ['NYSE Arca', 'AdvisorShares EquityPro ETF'], 'FWDB': ['NYSE Arca', 'AdvisorShares Madrona Global Bond ETF'], 'FWDD': ['NYSE Arca', 'AdvisorShares Madrona Domestic ETF'], 'FWDI': ['NYSE Arca', 'AdvisorShares Madrona International ETF'], 'GEUR': ['NYSE Arca', 'AdvisorShares Gartman Gold/Euro ETF'], 'GGBP': ['NYSE Arca', 'AdvisorShares Gartman Gold/British Pound ETF'], 'GIVE': ['NYSE Arca', 'AdvisorShares Global Echo ETF'], 'GLDE': ['NYSE Arca', 'AdvisorShares International Gold ETF'], 'GYEN': ['NYSE Arca', 'AdvisorShares Gartman Gold/Yen ETF'], 'GTAA': ['NYSE Arca', 'AdvisorShares Cambria Global Tactical ETF'], 'HOLD': ['NYSE Arca', 'AdvisorShares Sage Core Reserves ETF'], 'MATH': ['NYSE Arca', 'AdvisorShares Meidell Tactical Advantage ETF'], 'MINC': ['NYSE Arca', 'AdvisorShares Newfleet Multi-Sector Income ETF'], 'QEH': ['NYSE Arca', 'AdvisorShares QAM Equity Hedge ETF'], 'TTFS': ['NYSE Arca', 'AdvisorShares TrimTabs Float Shrink ETF'], 'VEGA': ['NYSE Arca', 'AdvisorShares STAR Global Buy-Write ETF'], 'YPRO': ['NYSE Arca', 'AdvisorShares YieldPro ETF'], 'RIGS': ['NYSE Arca', 'Riverfront Strategic Income Fund'], 'DIVO': ['NYSE Arca', 'Amplify Enhanced Dividend Income ETF'], 'CNBS': ['NYSE Arca', 'Amplify Seymour Cannabis ETF'], 'BLOK': ['NYSE Arca', 'Amplify Transformational Data Sharing ETF'], 'ARKG': ['NYSE Arca', 'ARK Genomic Revolution Multi-Sector ETF'], 'ARKQ': ['NYSE Arca', 'ARK Industrial Innovation ETF'], 'ARKW': ['NYSE Arca', 'ARK Next Generation Internet ETF'], 'ARKK': ['NYSE Arca', 'ARK Innovation ETF'], 'ARKF': ['NYSE Arca', 'ARK Fintech Innovation ETF'], 'ARKX': ['NYSE Arca', 'ARK Space Exploration & Innovation ETF'], 'SYLD': ['NYSE Arca', 'Cambria Shareholder Yield ETF'], 'GMMB': ['NYSE Arca', 'Columbia Intermediate Municipal Bond ETF'], 'GMTB': ['NYSE Arca', 'Columbia Core Bond ETF'], 'GVT': ['NYSE Arca', 'Columbia Select Large Cap Value ETF'], 'RPX': ['NYSE Arca', 'Columbia Large Cap Growth ETF'], 'RWG': ['NYSE Arca', 'Columbia Select Large Cap Growth ETF'], 'EMLP': ['NYSE Arca', 'First Trust North American Energy Infrastructure Fund'], 'FMB': ['NYSE Arca', 'First Trust Managed Municipal ETF'], 'FMF': ['NYSE Arca', 'First Trust Morningstar Managed Futures Strategy Fund'], 'FPE': ['NYSE Arca', 'First Trust Preferred Securities and Income ETF'], 'FTGS': ['NYSE Arca', 'First Trust Global Tactical Commodity Strategy Fund'], 'FTHI': ['NYSE Arca', 'First Trust High Income ETF'], 'FTLB': ['NYSE Arca', 'First Trust Low Beta Income ETF'], 'FTSL': ['NYSE Arca', 'First Trust Senior Loan ETF'], 'HYLS': ['NYSE Arca', 'First Trust Tactical High Yield ETF'], 'RAVI': ['NYSE Arca', 'Flexshares Ready Access Variable Income Fund'], 'FTSD': ['NYSE Arca', 'Franklin Short Duration US Government ETF'], 'GSY': ['NYSE Arca', 'Guggenheim Enhanced Short Duration Bond ETF'], 'HECO': ['NYSE Arca', 'Huntington EcoLogical Strategy ETF'], 'HUSE': ['NYSE Arca', 'Huntington U.S. Equity Rotation Strategy ETF'], 'ICSH': ['NYSE Arca', 'iShares Liquidity Income ETF'], 'IEIL': ['NYSE Arca', 'iShares Enhanced International Large-Cap ETF'], 'IEIS': ['NYSE Arca', 'iShares Enhanced International Small-Cap ETF'], 'IELG': ['NYSE Arca', 'iShares Enhanced U.S. Large-Cap ETF'], 'IESM': ['NYSE Arca', 'iShares Enhanced U.S. Small-Cap ETF'], 'NEAR': ['NYSE Arca', 'iShares Short Maturity Bond ETF'], 'BABZ': ['NYSE Arca', 'PIMCO Build America Bond Strategy'], 'DI': ['NYSE Arca', 'PIMCO Diversified Income ETF'], 'FORX': ['NYSE Arca', 'PIMCO Foreign Currency Strategy ETF'], 'ILB': ['NYSE Arca', 'PIMCO Global Advantage Inflation-Linked Bond Strategy'], 'LDUR': ['NYSE Arca', 'PIMCO Low Duration ETF'], 'MUNI': ['NYSE Arca', 'PIMCO Intermediate Muni Bond Strategy ETF'], 'SMMU': ['NYSE Arca', 'PIMCO Short Term Muni Bond Strategy ETF'], 'CHNA': ['NYSE Arca', 'PowerShares China-A Share Portfolio'], 'LALT': ['NYSE Arca', 'PowerShares Multi-Strategy Alternative Portfolio'], 'PHDG': ['NYSE Arca', 'S&P 500 Downside Hedged Portfolio'], 'PSR': ['NYSE Arca', 'Active U.S. Real Estate Fund ETF'], 'ONEF': ['NYSE Arca', 'Russell Equity ETF'], 'GAL': ['NYSE Arca', 'SPDR SSgA Global Allocation'], 'INKM': ['NYSE Arca', 'SPDR SSgA Income Allocation'], 'RLY': ['NYSE Arca', 'SPDR SSgA Multi-Asset Real Return'], 'SYE': ['NYSE Arca', 'SPDR MFS Systematic Core Equity ETF'], 'SYG': ['NYSE Arca', 'SPDR MFS Systematic Growth Equity ETF'], 'SYV': ['NYSE Arca', 'SPDR MFS Systematic Value Equity ETF'], 'SRLN': ['NYSE Arca', 'SPDR Blackstone/GSO Senior Loan ETF'], 'ULST': ['NYSE Arca', 'SPDR SSgA Ultra Short Term Bond ETF'], 'ALD': ['NYSE Arca', 'WisdomTree Asia Local Debt'], 'AUNZ': ['NYSE Arca', 'WisdomTree Australia & New Zealand Debt Fund'], 'BZF': ['NYSE Arca', 'WisdomTree Dreyfus Brazilian Real Fund'], 'CCX': ['NYSE Arca', 'WisdomTree Commodity Currency'], 'CEW': ['NYSE Arca', 'WisdomTree Dreyfus Emerging Currency'], 'CRDT': ['NYSE Arca', 'WisdomTree Strategic Corporate Bond Fund'], 'CYB': ['NYSE Arca', 'WisdomTree Dreyfus Chinese Yuan'], 'ELD': ['NYSE Arca', 'WisdomTree Emerging Markets Local Debts Fund'], 'EMCB': ['NYSE Arca', 'WisdomTree Emerging Markets Corporate Bond Fund'], 'EU': ['NYSE Arca', 'WisdomTree Euro Debt Fund'], 'ICB': ['NYSE Arca', 'WisdomTree Dreyfus Indian Rupee'], 'RRF': ['NYSE Arca', 'WisdomTree Global Real Return'], 'USDU': ['NYSE Arca', 'WisdomTree Bloomberg U.S. Dollar Bullish Fund'], 'WDTI': ['NYSE Arca', 'WisdomTree Managed Futures Strategy Fund']}\n",
            "\n"
          ]
        },
        {
          "output_type": "execute_result",
          "data": {
            "text/html": [
              "<div>\n",
              "<style scoped>\n",
              "    .dataframe tbody tr th:only-of-type {\n",
              "        vertical-align: middle;\n",
              "    }\n",
              "\n",
              "    .dataframe tbody tr th {\n",
              "        vertical-align: top;\n",
              "    }\n",
              "\n",
              "    .dataframe thead th {\n",
              "        text-align: right;\n",
              "    }\n",
              "</style>\n",
              "<table border=\"1\" class=\"dataframe\">\n",
              "  <thead>\n",
              "    <tr style=\"text-align: right;\">\n",
              "      <th></th>\n",
              "      <th>0</th>\n",
              "      <th>1</th>\n",
              "    </tr>\n",
              "  </thead>\n",
              "  <tbody>\n",
              "    <tr>\n",
              "      <th>DIA</th>\n",
              "      <td>NYSE Arca</td>\n",
              "      <td>DIAMONDS Trust, Series 1</td>\n",
              "    </tr>\n",
              "    <tr>\n",
              "      <th>RSP</th>\n",
              "      <td>NYSE Arca</td>\n",
              "      <td>Guggenheim S&amp;P 500 Equal Weight</td>\n",
              "    </tr>\n",
              "    <tr>\n",
              "      <th>IOO</th>\n",
              "      <td>NYSE Arca</td>\n",
              "      <td>iShares S&amp;P Global 100 Index</td>\n",
              "    </tr>\n",
              "    <tr>\n",
              "      <th>IVV</th>\n",
              "      <td>NYSE Arca</td>\n",
              "      <td>iShares S&amp;P 500 Index</td>\n",
              "    </tr>\n",
              "    <tr>\n",
              "      <th>SPY</th>\n",
              "      <td>NYSE Arca</td>\n",
              "      <td>SPDR S&amp;P 500</td>\n",
              "    </tr>\n",
              "    <tr>\n",
              "      <th>...</th>\n",
              "      <td>...</td>\n",
              "      <td>...</td>\n",
              "    </tr>\n",
              "    <tr>\n",
              "      <th>EU</th>\n",
              "      <td>NYSE Arca</td>\n",
              "      <td>WisdomTree Euro Debt Fund</td>\n",
              "    </tr>\n",
              "    <tr>\n",
              "      <th>ICB</th>\n",
              "      <td>NYSE Arca</td>\n",
              "      <td>WisdomTree Dreyfus Indian Rupee</td>\n",
              "    </tr>\n",
              "    <tr>\n",
              "      <th>RRF</th>\n",
              "      <td>NYSE Arca</td>\n",
              "      <td>WisdomTree Global Real Return</td>\n",
              "    </tr>\n",
              "    <tr>\n",
              "      <th>USDU</th>\n",
              "      <td>NYSE Arca</td>\n",
              "      <td>WisdomTree Bloomberg U.S. Dollar Bullish Fund</td>\n",
              "    </tr>\n",
              "    <tr>\n",
              "      <th>WDTI</th>\n",
              "      <td>NYSE Arca</td>\n",
              "      <td>WisdomTree Managed Futures Strategy Fund</td>\n",
              "    </tr>\n",
              "  </tbody>\n",
              "</table>\n",
              "<p>381 rows × 2 columns</p>\n",
              "</div>"
            ],
            "text/plain": [
              "              0                                              1\n",
              "DIA   NYSE Arca                       DIAMONDS Trust, Series 1\n",
              "RSP   NYSE Arca                Guggenheim S&P 500 Equal Weight\n",
              "IOO   NYSE Arca                   iShares S&P Global 100 Index\n",
              "IVV   NYSE Arca                          iShares S&P 500 Index\n",
              "SPY   NYSE Arca                                   SPDR S&P 500\n",
              "...         ...                                            ...\n",
              "EU    NYSE Arca                      WisdomTree Euro Debt Fund\n",
              "ICB   NYSE Arca                WisdomTree Dreyfus Indian Rupee\n",
              "RRF   NYSE Arca                  WisdomTree Global Real Return\n",
              "USDU  NYSE Arca  WisdomTree Bloomberg U.S. Dollar Bullish Fund\n",
              "WDTI  NYSE Arca       WisdomTree Managed Futures Strategy Fund\n",
              "\n",
              "[381 rows x 2 columns]"
            ]
          },
          "metadata": {},
          "execution_count": 59
        }
      ]
    },
    {
      "cell_type": "markdown",
      "metadata": {
        "id": "IIMWibQLrc8-"
      },
      "source": [
        "딕셔너리 키는 열명이고, ETF 거래 코드인 `etf_ticker`는 데이터프레임의 열명입니다. 리스트는 열 데이터입니다. 열 개수 378개는 ETF 펀드 데이터 378개를 데이터프레임으로 변환한 것입니다."
      ]
    },
    {
      "cell_type": "markdown",
      "metadata": {
        "id": "F_3lqRXvAhfx"
      },
      "source": [
        "지금부터는 웹 페이지에서 이미지를 가져오겠습니다. 가져올 이미지는 구글 검색 페이지의 GOOGLE 이미지입니다."
      ]
    },
    {
      "cell_type": "code",
      "metadata": {
        "colab": {
          "base_uri": "https://localhost:8080/"
        },
        "id": "WeihDblPAyOs",
        "outputId": "166b7e82-3a4c-420e-e642-3b9a0211f254"
      },
      "source": [
        "url = 'https://www.google.com/images/branding/googlelogo/1x/googlelogo_light_color_272x92dp.png'\n",
        "img_html = requests.get(url)\n",
        "# 이미지를 가져오므로 `.text`를 쓰지 않습니다.\n",
        "img_html"
      ],
      "execution_count": null,
      "outputs": [
        {
          "output_type": "execute_result",
          "data": {
            "text/plain": [
              "<Response [200]>"
            ]
          },
          "metadata": {},
          "execution_count": 60
        }
      ]
    },
    {
      "cell_type": "markdown",
      "metadata": {
        "id": "HM_YsDkqBbiP"
      },
      "source": [
        "이미지명을 확인하려면 `os` 모듈의 `path.basename()` 메서드를 사용합니다. 이 메서드는 파일 이름만 추출합니다."
      ]
    },
    {
      "cell_type": "code",
      "metadata": {
        "colab": {
          "base_uri": "https://localhost:8080/",
          "height": 35
        },
        "id": "X3GXp3eEBRhc",
        "outputId": "9eea79f0-7b0c-46b8-9243-a89654fd2471"
      },
      "source": [
        "img_name = os.path.basename(url)\n",
        "img_name"
      ],
      "execution_count": null,
      "outputs": [
        {
          "output_type": "execute_result",
          "data": {
            "application/vnd.google.colaboratory.intrinsic+json": {
              "type": "string"
            },
            "text/plain": [
              "'googlelogo_light_color_272x92dp.png'"
            ]
          },
          "metadata": {},
          "execution_count": 61
        }
      ]
    },
    {
      "cell_type": "markdown",
      "metadata": {
        "id": "bjvHL0-Mt56e"
      },
      "source": [
        "`makedirs()` 메서드로 폴더를 생성할 수 있습니다. 이 폴더에 이미지를 다운로드할 예정입니다."
      ]
    },
    {
      "cell_type": "code",
      "metadata": {
        "id": "BXURZSUTIzoI"
      },
      "source": [
        "folder = '/content/gdrive/MyDrive/Python_for_Data_Analytics_Science/img_download'\n",
        "\n",
        "if not os.path.exists(folder):\n",
        "    os.makedirs(folder)"
      ],
      "execution_count": null,
      "outputs": []
    },
    {
      "cell_type": "markdown",
      "metadata": {
        "id": "T5KVsPF4ua1q"
      },
      "source": [
        "`join(폴더명, 이미지 파일명)` 메서드로 이미지 파일의 전체 경로를 지정하겠습니다."
      ]
    },
    {
      "cell_type": "code",
      "metadata": {
        "colab": {
          "base_uri": "https://localhost:8080/",
          "height": 35
        },
        "id": "J5na52H7uO-V",
        "outputId": "232e4a85-f376-47ff-fee0-79b45268a3ae"
      },
      "source": [
        "img_path = os.path.join(folder, img_name)\n",
        "img_path"
      ],
      "execution_count": null,
      "outputs": [
        {
          "output_type": "execute_result",
          "data": {
            "application/vnd.google.colaboratory.intrinsic+json": {
              "type": "string"
            },
            "text/plain": [
              "'/content/gdrive/MyDrive/Python_for_Data_Analytics_Science/img_download/googlelogo_light_color_272x92dp.png'"
            ]
          },
          "metadata": {},
          "execution_count": 63
        }
      ]
    },
    {
      "cell_type": "markdown",
      "metadata": {
        "id": "ReVRHaQHvIWY"
      },
      "source": [
        "이미지 파일을 저장하기 전에 먼저 `open()` 메서드로 파일을 열어야 합니다. 아울러 메서드의 옵션을 `mode='wb'`로 지정하여 쓰기 모드, 바이너리 파일 모드로 전환해야 합니다. 바이너리 파일 모드로 지정하는 이유는 저장할 파일 유형이 이미지이기 때문입니다."
      ]
    },
    {
      "cell_type": "code",
      "metadata": {
        "id": "_21IKpcxu83C"
      },
      "source": [
        "img_file = open(img_path, 'wb')"
      ],
      "execution_count": null,
      "outputs": []
    },
    {
      "cell_type": "markdown",
      "metadata": {
        "id": "0IAReP-P1VT-"
      },
      "source": [
        "`requests` 라이브러리의 `iter_content(chunk_size)` 형식으로 이미지를 `chunk_size`만큼 나눠서 다운로드하겠습니다. 여기서 `chunk_size`는 바이트 단위입니다. 1000000bytes로 지정하겠습니다. "
      ]
    },
    {
      "cell_type": "code",
      "metadata": {
        "id": "LDCDKnAyvxld"
      },
      "source": [
        "chunk_size = 1000000\n",
        "# 웹 페이지의 파일 주소에 접속하여 1000000만큼 반복하면서 씁니다.\n",
        "for chunk in img_html.iter_content(chunk_size):\n",
        "    # 연 파일에 씁니다.\n",
        "    img_file.write(chunk)\n",
        "# 다운로드를 마친 후에 파일을 닫습니다.\n",
        "img_file.close()"
      ],
      "execution_count": null,
      "outputs": []
    },
    {
      "cell_type": "code",
      "metadata": {
        "colab": {
          "base_uri": "https://localhost:8080/"
        },
        "id": "qFZE4FkowTDj",
        "outputId": "47f9f085-1332-4e2f-90f5-8f8631135402"
      },
      "source": [
        "os.listdir(folder)"
      ],
      "execution_count": null,
      "outputs": [
        {
          "output_type": "execute_result",
          "data": {
            "text/plain": [
              "['googlelogo_light_color_272x92dp.png',\n",
              " 'd7efcd60-8f33-43dc-9456-c4b8b97d3eb7.jpg',\n",
              " '42ff3f16-d02b-486d-b1ec-8e63ee5040de.jpg',\n",
              " 'ig-457412929912468645_335871692.jpg',\n",
              " '0517a780-97e5-46aa-a205-a3e3a6009d53.jpg',\n",
              " 'b6ddd713-799e-4b63-8ee0-0a829adfeb26.jpg',\n",
              " 'fb42dab3-75fe-48a7-a7b2-986405831c67.jpg',\n",
              " 'e053d1d5-bbb0-4fe6-bf43-e673de856c24.jpg',\n",
              " 'dbd9fa3b-238b-47b1-8e20-c05400cbe921.jpg',\n",
              " 'e39f2cb1-0ff1-40d0-957f-ff23174b6447.jpg',\n",
              " '46e253a5-7c18-4d0a-b68b-b795052a76e8.jpg',\n",
              " 'abb75992-b058-472f-b1ef-449ab1592a81.jpg',\n",
              " 'bdc73711-3ab3-4091-92b5-43f9ba8da512.jpg',\n",
              " '5d6090e9-b0e2-4d1c-8b2c-640bf69c54bd.jpg',\n",
              " 'd2466c75-b103-4bfd-bc5d-bc34569b4371.jpg',\n",
              " 'b2983fe0-ee94-430b-b3eb-86397552aa0d.jpg',\n",
              " '807ea021-fcc3-49c3-8521-d575bad63977.jpg',\n",
              " '43900f42-675a-4e04-8f45-ae570e72d978.jpg',\n",
              " '45b4892e-ac9c-4b07-b30e-f5ea38e626ed.jpg',\n",
              " '5f44a0ef-7e22-4de5-8cc3-f9f8f2d119db.jpg',\n",
              " '47e07a0c-b60f-41cb-a8f2-377a61451309.jpg',\n",
              " '20fc0229-ccdd-42b5-9a82-d335075f4ecd.jpg',\n",
              " '7bf6df93-accc-4d78-98b9-822cec4d9f76.jpg',\n",
              " 'c1f7e823-d36d-4f7b-b6a3-612805a1ba10.jpg',\n",
              " '13842742-e2bb-4222-a759-69391323fa44.jpg',\n",
              " '010e9633-4a4d-41b0-ae81-d46cc02b2b0f.jpg',\n",
              " '63b64e59-cc01-4f51-afeb-7001f9a2fe26.jpg',\n",
              " '84ffecc6-d126-4d44-82f9-03cb371c9de3.jpg',\n",
              " '240406cf-bd06-43b5-bf4b-2edeecb0a778.jpg',\n",
              " 'bdba0209-0838-492f-a177-3b4da703f7d3.jpg',\n",
              " '4c45e9f4-f5f4-4737-9db1-5ce30ad76a15.jpg',\n",
              " '94d82f31-3391-48df-9a68-567e9b1830de.jpg',\n",
              " '3e748ed4-70cc-48b7-aed6-68e43ae03cbd.jpg',\n",
              " '717b8543-d6d4-43c4-8008-2ff00b384ed4.jpg',\n",
              " '0264bfb2-7f61-4cc1-9488-7b78841c8ed3.jpg',\n",
              " 'chevron--dark-3249e701709efe479955dcc78fa2328550612739a0496b308d0d7e260fcf89da.svg',\n",
              " 'reshot-logo--mark-cc49363ac3f7876f854286af4266ead51a7ff9e0fa12f30677c9e758d43dd0d1.svg',\n",
              " 'f1034f91-9e27-4d3e-a430-416d9f2ce421.jpg',\n",
              " 'f43db0c8-1103-4e9a-8468-b62b96106c81.jpg',\n",
              " '66d3d38a-795a-455b-ac13-21bbdd5aa211.jpg',\n",
              " 'c83ab3e5-d02a-4a08-9d6d-54e0840010d7.jpg',\n",
              " 'f89ffa07-60e4-46b8-b328-e05d7cec7f1e.jpg',\n",
              " '60a86b1e-1132-4897-bbde-5582a24b2a1c.jpg',\n",
              " '2de1b1b3-3ccd-4e41-8566-0128c3ccf3e3.jpg',\n",
              " '8da8d84e-b93f-467f-9ca7-611fb5662f7d.jpg',\n",
              " 'b949d5a5-3403-4bb4-8b92-f341c9c09296.jpg',\n",
              " 'ec9f9270-4b2c-456c-b8bf-fb9f5745b6d0.jpg',\n",
              " '1d5b98fc-6af2-4809-af3d-124177d60cd5.jpg',\n",
              " '9afe788e-7d31-40a1-b57c-f9d871640dfe.jpg',\n",
              " '83f49d94-a18e-4818-872b-821235466d27.jpg',\n",
              " 'd54264c2-8e52-429a-b57d-d52de68f12bf.jpg',\n",
              " '6efa778e-6a52-4e8b-97b8-54c5fc735a6b.jpg',\n",
              " 'dada69f0-540a-4559-8124-bc41e8a51272.jpg']"
            ]
          },
          "metadata": {},
          "execution_count": 66
        }
      ]
    },
    {
      "cell_type": "markdown",
      "metadata": {
        "id": "3NKJa5N4o-fg"
      },
      "source": [
        "여러 이미지를 한꺼번에 받는 방법을 살피겠습니다. [리샷](www.reshot.com) 사이트에서 한 페이지에 모여있는 여러 이미지를 다운로드하겠습니다.\n",
        "\n",
        "먼저 이미지가 속해있는 태그와 요소를 가져옵니다."
      ]
    },
    {
      "cell_type": "code",
      "metadata": {
        "colab": {
          "base_uri": "https://localhost:8080/"
        },
        "id": "tDOJIUvvqWLk",
        "outputId": "d7da7d32-a12f-4fb9-949f-b4a65dfa7979"
      },
      "source": [
        "url = 'https://www.reshot.com/free-stock-photos/dog/'\n",
        "html = requests.get(url).text\n",
        "soup = BeautifulSoup(html, 'lxml')\n",
        "img_html_elements = soup.select('a img')\n",
        "img_html_elements[:5]"
      ],
      "execution_count": null,
      "outputs": [
        {
          "output_type": "execute_result",
          "data": {
            "text/plain": [
              "[<img alt=\"Reshot\" height=\"33\" src=\"https://www.reshot.com/build/reshot-logo--mark-cc49363ac3f7876f854286af4266ead51a7ff9e0fa12f30677c9e758d43dd0d1.svg\" title=\"Reshot\" width=\"46\"/>,\n",
              " <img alt=\"Dog Waiting\" class=\"photos-item-card__image\" height=\"1993\" loading=\"lazy\" src=\"https://res.cloudinary.com/twenty20/private_images/t_reshot-400/v1521838682/photosp/d7efcd60-8f33-43dc-9456-c4b8b97d3eb7/d7efcd60-8f33-43dc-9456-c4b8b97d3eb7.jpg\" width=\"2492\"/>,\n",
              " <img alt=\"Red dog\" class=\"photos-item-card__image\" height=\"2305\" loading=\"lazy\" src=\"https://res.cloudinary.com/twenty20/private_images/t_reshot-400/v1521838680/photosp/dbd9fa3b-238b-47b1-8e20-c05400cbe921/dbd9fa3b-238b-47b1-8e20-c05400cbe921.jpg\" width=\"2026\"/>,\n",
              " <img alt=\"Why not make the dog pose, if all else fails. Found abandoned couch outside Point Lobos State Reserve, south if Carmel on Highway 1.\" class=\"photos-item-card__image\" height=\"2346\" loading=\"lazy\" src=\"https://res.cloudinary.com/twenty20/private_images/t_reshot-400/v1521838661/photosp/e053d1d5-bbb0-4fe6-bf43-e673de856c24/e053d1d5-bbb0-4fe6-bf43-e673de856c24.jpg\" width=\"2346\"/>,\n",
              " <img alt=\"This photo was taken of a shop in Madrid, New Mexico.\" class=\"photos-item-card__image\" height=\"2128\" loading=\"lazy\" src=\"https://res.cloudinary.com/twenty20/private_images/t_reshot-400/v1521838660/photosp/fb42dab3-75fe-48a7-a7b2-986405831c67/fb42dab3-75fe-48a7-a7b2-986405831c67.jpg\" width=\"2926\"/>]"
            ]
          },
          "metadata": {},
          "execution_count": 67
        }
      ]
    },
    {
      "cell_type": "markdown",
      "metadata": {
        "id": "HWM7SNlnFBKt"
      },
      "source": [
        "태그의 'src' 속성에 이미지 주소가 있습니다. 첫 번째 속성의 주소를 확인하면 개 이미지가 아닙니다. 이 이미지를 제외한 개 이미지의 주소만 가져와야 합니다. 일단 두 번째 줄부터 이어지는 개 이미지 주소 중에 하나만 가져오겠습니다.주소를 가져오는 방법은 두 가지입니다. "
      ]
    },
    {
      "cell_type": "code",
      "metadata": {
        "colab": {
          "base_uri": "https://localhost:8080/",
          "height": 35
        },
        "id": "t2M0Nr6h6amg",
        "outputId": "b72e2620-1ea0-4808-dfa4-9e9e7475a070"
      },
      "source": [
        "# `get()` 메서드에 속성을 전달합니다.\n",
        "img_url = img_html_elements[1].get('src')\n",
        "img_url"
      ],
      "execution_count": null,
      "outputs": [
        {
          "output_type": "execute_result",
          "data": {
            "application/vnd.google.colaboratory.intrinsic+json": {
              "type": "string"
            },
            "text/plain": [
              "'https://res.cloudinary.com/twenty20/private_images/t_reshot-400/v1521838682/photosp/d7efcd60-8f33-43dc-9456-c4b8b97d3eb7/d7efcd60-8f33-43dc-9456-c4b8b97d3eb7.jpg'"
            ]
          },
          "metadata": {},
          "execution_count": 68
        }
      ]
    },
    {
      "cell_type": "code",
      "metadata": {
        "colab": {
          "base_uri": "https://localhost:8080/",
          "height": 35
        },
        "id": "zcSmZuh-En9z",
        "outputId": "c70db4fd-7af5-4bf5-a643-43c76a085ef4"
      },
      "source": [
        "# 리스트 인덱싱으로 속성을 전달합니다.\n",
        "img_url = img_html_elements[1]['src']\n",
        "img_url"
      ],
      "execution_count": null,
      "outputs": [
        {
          "output_type": "execute_result",
          "data": {
            "application/vnd.google.colaboratory.intrinsic+json": {
              "type": "string"
            },
            "text/plain": [
              "'https://res.cloudinary.com/twenty20/private_images/t_reshot-400/v1521838682/photosp/d7efcd60-8f33-43dc-9456-c4b8b97d3eb7/d7efcd60-8f33-43dc-9456-c4b8b97d3eb7.jpg'"
            ]
          },
          "metadata": {},
          "execution_count": 69
        }
      ]
    },
    {
      "cell_type": "markdown",
      "metadata": {
        "id": "YAvQ9l1ujf6S"
      },
      "source": [
        "다시 `requests.get()` 메서드로 html문을 가져옵니다."
      ]
    },
    {
      "cell_type": "code",
      "metadata": {
        "id": "hKR5TKzdjRCO"
      },
      "source": [
        "img_html = requests.get(img_url)"
      ],
      "execution_count": null,
      "outputs": []
    },
    {
      "cell_type": "markdown",
      "metadata": {
        "id": "RN7Mkt4CKD8S"
      },
      "source": [
        "이미지의 url을 추출한 다음 과정은 위에서 예시한 과정과 동일합니다."
      ]
    },
    {
      "cell_type": "code",
      "metadata": {
        "id": "2OkWEzR3I3b8"
      },
      "source": [
        "folder = '/content/gdrive/MyDrive/Python_for_Data_Analytics_Science/img_download'\n",
        "img_name = os.path.basename(img_url)\n",
        "img_path = os.path.join(folder, img_name)\n",
        "img_file = open(img_path, 'wb')\n",
        "\n",
        "chunk_size = 1000000\n",
        "\n",
        "for chunk in img_html.iter_content(chunk_size):\n",
        "    img_file.write(chunk)\n",
        "\n",
        "img_file.close()"
      ],
      "execution_count": null,
      "outputs": []
    },
    {
      "cell_type": "markdown",
      "metadata": {
        "id": "zWTPcSFvkru9"
      },
      "source": [
        "이제 함수를 2개 만들어서 여러 이미지를 한꺼번에 다운 받겠습니다.\n",
        "\n",
        "첫 번째 함수는 이미지 주소를 추출하는 함수입니다."
      ]
    },
    {
      "cell_type": "code",
      "metadata": {
        "id": "Icm0XEKQfq69"
      },
      "source": [
        "def get_img_url(url):\n",
        "\n",
        "    html = requests.get(url).text\n",
        "    soup = BeautifulSoup(html, 'lxml')\n",
        "    img_html_elements = soup.select('a img')\n",
        "\n",
        "    # 가져온 HTML문이 있을 경우에 한하여 url을 추출합니다. 이중 부정문입니다.\n",
        "    if (img_html_elements != None):\n",
        "        img_urls = []\n",
        "        for img_html_element in img_html_elements[1:]:\n",
        "            img_urls.append(img_html_element['src'])\n",
        "        return img_urls\n",
        "    else:\n",
        "        return None   "
      ],
      "execution_count": null,
      "outputs": []
    },
    {
      "cell_type": "markdown",
      "metadata": {
        "id": "0mRdTeHZpo9H"
      },
      "source": [
        "두 번째 함수는 폴더를 지정하고 이미지를 다운로드하는 함수입니다."
      ]
    },
    {
      "cell_type": "code",
      "metadata": {
        "id": "YYOClacjpoUb"
      },
      "source": [
        "def img_down(folder, img_url):\n",
        "    # 바로 위에서 생성한 첫 번째 함수처럼 HTML문 존재 여부를 묻는 이중 부정문을 사용합니다.\n",
        "    if (img_url != None):\n",
        "        img_html = requests.get(img_url)\n",
        "        img_name = os.path.basename(img_url)\n",
        "        img_path = os.path.join(folder, img_name)\n",
        "        img_file = open(img_path, 'wb')\n",
        "\n",
        "        chunk_size = 1000000\n",
        "        for chunk in img_html.iter_content(chunk_size):\n",
        "            img_file.write(chunk)\n",
        "            img_file.close()\n",
        "        print(f'{img_name} 다운로드가 완료되었습니다.')\n",
        "    else:\n",
        "        print('다운로드할 이미지가 없습니다.')     "
      ],
      "execution_count": null,
      "outputs": []
    },
    {
      "cell_type": "markdown",
      "metadata": {
        "id": "2x5PHe_Kp7XK"
      },
      "source": [
        "생성한 함수를 활용해서 여러 이미지를 다운 받겠습니다."
      ]
    },
    {
      "cell_type": "code",
      "metadata": {
        "colab": {
          "base_uri": "https://localhost:8080/"
        },
        "id": "eI5nY2DAp_xn",
        "outputId": "2aaacc02-a5fd-4958-a13d-36fd94c512be"
      },
      "source": [
        "url = 'https://www.reshot.com/free-stock-photos/dog/'\n",
        "folder = '/content/gdrive/MyDrive/Python_for_Data_Analytics_Science/img_download'\n",
        "# 첫 번째 함수에 사이트 url을 적용합니다.\n",
        "img_urls = get_img_url(url)\n",
        "# 두 번째 함수에 다운로드할 폴더 경로와 이미지 url을 전달합니다.\n",
        "for d in range(len(img_urls)):\n",
        "    img_down(folder, img_urls[d])"
      ],
      "execution_count": null,
      "outputs": [
        {
          "output_type": "stream",
          "name": "stdout",
          "text": [
            "d7efcd60-8f33-43dc-9456-c4b8b97d3eb7.jpg 다운로드가 완료되었습니다.\n",
            "dbd9fa3b-238b-47b1-8e20-c05400cbe921.jpg 다운로드가 완료되었습니다.\n",
            "e053d1d5-bbb0-4fe6-bf43-e673de856c24.jpg 다운로드가 완료되었습니다.\n",
            "fb42dab3-75fe-48a7-a7b2-986405831c67.jpg 다운로드가 완료되었습니다.\n",
            "0517a780-97e5-46aa-a205-a3e3a6009d53.jpg 다운로드가 완료되었습니다.\n",
            "42ff3f16-d02b-486d-b1ec-8e63ee5040de.jpg 다운로드가 완료되었습니다.\n",
            "ig-457412929912468645_335871692.jpg 다운로드가 완료되었습니다.\n",
            "b6ddd713-799e-4b63-8ee0-0a829adfeb26.jpg 다운로드가 완료되었습니다.\n",
            "46e253a5-7c18-4d0a-b68b-b795052a76e8.jpg 다운로드가 완료되었습니다.\n",
            "e39f2cb1-0ff1-40d0-957f-ff23174b6447.jpg 다운로드가 완료되었습니다.\n",
            "abb75992-b058-472f-b1ef-449ab1592a81.jpg 다운로드가 완료되었습니다.\n",
            "bdc73711-3ab3-4091-92b5-43f9ba8da512.jpg 다운로드가 완료되었습니다.\n",
            "5d6090e9-b0e2-4d1c-8b2c-640bf69c54bd.jpg 다운로드가 완료되었습니다.\n",
            "d2466c75-b103-4bfd-bc5d-bc34569b4371.jpg 다운로드가 완료되었습니다.\n",
            "b2983fe0-ee94-430b-b3eb-86397552aa0d.jpg 다운로드가 완료되었습니다.\n",
            "807ea021-fcc3-49c3-8521-d575bad63977.jpg 다운로드가 완료되었습니다.\n",
            "43900f42-675a-4e04-8f45-ae570e72d978.jpg 다운로드가 완료되었습니다.\n",
            "45b4892e-ac9c-4b07-b30e-f5ea38e626ed.jpg 다운로드가 완료되었습니다.\n",
            "5f44a0ef-7e22-4de5-8cc3-f9f8f2d119db.jpg 다운로드가 완료되었습니다.\n",
            "47e07a0c-b60f-41cb-a8f2-377a61451309.jpg 다운로드가 완료되었습니다.\n",
            "7bf6df93-accc-4d78-98b9-822cec4d9f76.jpg 다운로드가 완료되었습니다.\n",
            "20fc0229-ccdd-42b5-9a82-d335075f4ecd.jpg 다운로드가 완료되었습니다.\n",
            "c1f7e823-d36d-4f7b-b6a3-612805a1ba10.jpg 다운로드가 완료되었습니다.\n",
            "13842742-e2bb-4222-a759-69391323fa44.jpg 다운로드가 완료되었습니다.\n",
            "010e9633-4a4d-41b0-ae81-d46cc02b2b0f.jpg 다운로드가 완료되었습니다.\n",
            "63b64e59-cc01-4f51-afeb-7001f9a2fe26.jpg 다운로드가 완료되었습니다.\n",
            "240406cf-bd06-43b5-bf4b-2edeecb0a778.jpg 다운로드가 완료되었습니다.\n",
            "84ffecc6-d126-4d44-82f9-03cb371c9de3.jpg 다운로드가 완료되었습니다.\n",
            "bdba0209-0838-492f-a177-3b4da703f7d3.jpg 다운로드가 완료되었습니다.\n",
            "4c45e9f4-f5f4-4737-9db1-5ce30ad76a15.jpg 다운로드가 완료되었습니다.\n",
            "94d82f31-3391-48df-9a68-567e9b1830de.jpg 다운로드가 완료되었습니다.\n",
            "3e748ed4-70cc-48b7-aed6-68e43ae03cbd.jpg 다운로드가 완료되었습니다.\n",
            "0264bfb2-7f61-4cc1-9488-7b78841c8ed3.jpg 다운로드가 완료되었습니다.\n",
            "717b8543-d6d4-43c4-8008-2ff00b384ed4.jpg 다운로드가 완료되었습니다.\n",
            "f1034f91-9e27-4d3e-a430-416d9f2ce421.jpg 다운로드가 완료되었습니다.\n",
            "f43db0c8-1103-4e9a-8468-b62b96106c81.jpg 다운로드가 완료되었습니다.\n",
            "66d3d38a-795a-455b-ac13-21bbdd5aa211.jpg 다운로드가 완료되었습니다.\n",
            "c83ab3e5-d02a-4a08-9d6d-54e0840010d7.jpg 다운로드가 완료되었습니다.\n",
            "f89ffa07-60e4-46b8-b328-e05d7cec7f1e.jpg 다운로드가 완료되었습니다.\n",
            "60a86b1e-1132-4897-bbde-5582a24b2a1c.jpg 다운로드가 완료되었습니다.\n",
            "2de1b1b3-3ccd-4e41-8566-0128c3ccf3e3.jpg 다운로드가 완료되었습니다.\n",
            "8da8d84e-b93f-467f-9ca7-611fb5662f7d.jpg 다운로드가 완료되었습니다.\n",
            "b949d5a5-3403-4bb4-8b92-f341c9c09296.jpg 다운로드가 완료되었습니다.\n",
            "ec9f9270-4b2c-456c-b8bf-fb9f5745b6d0.jpg 다운로드가 완료되었습니다.\n",
            "1d5b98fc-6af2-4809-af3d-124177d60cd5.jpg 다운로드가 완료되었습니다.\n",
            "9afe788e-7d31-40a1-b57c-f9d871640dfe.jpg 다운로드가 완료되었습니다.\n",
            "83f49d94-a18e-4818-872b-821235466d27.jpg 다운로드가 완료되었습니다.\n",
            "d54264c2-8e52-429a-b57d-d52de68f12bf.jpg 다운로드가 완료되었습니다.\n",
            "6efa778e-6a52-4e8b-97b8-54c5fc735a6b.jpg 다운로드가 완료되었습니다.\n",
            "dada69f0-540a-4559-8124-bc41e8a51272.jpg 다운로드가 완료되었습니다.\n",
            "chevron--dark-3249e701709efe479955dcc78fa2328550612739a0496b308d0d7e260fcf89da.svg 다운로드가 완료되었습니다.\n",
            "reshot-logo--mark-cc49363ac3f7876f854286af4266ead51a7ff9e0fa12f30677c9e758d43dd0d1.svg 다운로드가 완료되었습니다.\n"
          ]
        }
      ]
    },
    {
      "cell_type": "markdown",
      "metadata": {
        "id": "zNK0H_U6tZzf"
      },
      "source": [
        "### **1.5.3. API로 데이터 가져오기** (보강 중)"
      ]
    },
    {
      "cell_type": "markdown",
      "metadata": {
        "id": "g4cfieaKeOGZ"
      },
      "source": [
        "#### **1.5.3.1. 웹 API 기본 개념**"
      ]
    },
    {
      "cell_type": "markdown",
      "metadata": {
        "id": "JFyUXCj0tDzX"
      },
      "source": [
        "**웹 API(Application Programming Interface)**를 활용하면 HTML문을 분석하지 않고도 웹 서버에서 데이터를 얻을 수 있습니다.\n",
        "\n",
        "- **API**: 운영체제나 프로그래밍 언어가 제공하는 기능을 제어할 수 있게 만든 인터페이스입니다. 파일 제어, 창 제어, 화상 처리, 문자 제어 등을 위한 인터페이스를 제공합니다.\n",
        "\n",
        "- **웹 API**: 웹 애플리케이션 개발을 할 때 다른 서비스에 요청을 보내고 응답을 받기 위해 정의된 명세입니다. 다시 말하면 웹 서버가 웹으로 연결된 다른 기기들과 데이터를 공유하기 위해 제공하는 API입니다. 특정 웹 사이트에서 제공하는 API 목록을 담은 [사이트](https://www.programmableweb.com/category/all/apis)도 있습니다. 아래는 웹 API의 종류입니다.\n",
        "\n",
        " - **REST(Representational State Transfer) API**: 대부분 웹 API에서 지원합니다. 기존에 존재하는 데이터를 공유하는 데 사용되고, 데이터를 공유하면 연결이 끊어집니다.\n",
        "\n",
        " - **Streaming API**: 발생 예정인 이벤트를 등록하고, 그 등록된 이벤트가 발생하면 데이터를 갱신(Update)한 후에 응답합니다. 연결을 끊기 전까지 연결이 지속됩니다."
      ]
    },
    {
      "cell_type": "markdown",
      "metadata": {
        "id": "CgZoHl_TeVIl"
      },
      "source": [
        "#### **1.5.3.2. 웹 API 인증 방식**"
      ]
    },
    {
      "cell_type": "markdown",
      "metadata": {
        "id": "ypipjU0AeYo0"
      },
      "source": [
        "웹 API를 사용할 때는 일반적으로 인증하는 절차를 거칩니다. 대부분 **OAuth** 인증 방식을 채택합니다. **OAuth**는 API 키(Key), 접속 토큰(Access Token), 그리고 이 둘의 비밀번호로 애플리케이션별 인증을 거치는 방식입니다. API 키만 필요하거나 모두 필요하기도 합니다."
      ]
    },
    {
      "cell_type": "markdown",
      "metadata": {
        "id": "EIUcjBHODMvo"
      },
      "source": [
        "#### **1.5.3.3. URL에 경로와 매개변수 결합하기**"
      ]
    },
    {
      "cell_type": "markdown",
      "metadata": {
        "id": "TOBYm4gEIOrm"
      },
      "source": [
        "REST API로부터 데이터를 받으려면 `requests` 라이브러리를 사용해야 합니다. 다만 기존 사용 절차와 차이가 있다면 URL뿐만 아니라 API 같은 매개변수를 추가해야 합니다. 예컨대 날씨 정보를 가져오려면 자신이 위치한 좌표를 입력하고, JSON이나 XML을 선택하여 받을 데이터 형식을 지정해야 할 수 있습니다.\n",
        "\n",
        "먼저 URL에 경로를 결합하겠습니다. 아래처럼 문자열을 연결해서 URL을 만드는 방법은 하위 경로만 변화하는 경우에 유용하게 사용할 수 있습니다. "
      ]
    },
    {
      "cell_type": "code",
      "metadata": {
        "colab": {
          "base_uri": "https://localhost:8080/"
        },
        "id": "v6JyXOMaINlI",
        "outputId": "e4559f91-5028-48b3-e70a-8a19e4f21b6f"
      },
      "source": [
        "url_github = 'https://api.github.com/'\n",
        "direction = 'events'\n",
        "url = url_github + direction\n",
        "print(url)"
      ],
      "execution_count": 3,
      "outputs": [
        {
          "output_type": "stream",
          "name": "stdout",
          "text": [
            "https://api.github.com/events\n"
          ]
        }
      ]
    },
    {
      "cell_type": "markdown",
      "metadata": {
        "id": "uMyh_YuHKeTV"
      },
      "source": [
        "반복문을 통해 여러 하위 경로를 결합할 수 있습니다."
      ]
    },
    {
      "cell_type": "code",
      "metadata": {
        "colab": {
          "base_uri": "https://localhost:8080/"
        },
        "id": "pTG01TIRK6Rk",
        "outputId": "39cf5f7c-b8df-4ff9-a4cd-5d3823a8f1bf"
      },
      "source": [
        "directions = ['events', 'user', 'emails']\n",
        "\n",
        "for direction in directions:\n",
        "    url_github_direction = url_github + direction\n",
        "    r = requests.get(url_github_direction)\n",
        "    # `url` 속성을 선언하면 주소만 출력됩니다.\n",
        "    print(r.url)"
      ],
      "execution_count": 4,
      "outputs": [
        {
          "output_type": "stream",
          "name": "stdout",
          "text": [
            "https://api.github.com/events\n",
            "https://api.github.com/user\n",
            "https://api.github.com/emails\n"
          ]
        }
      ]
    },
    {
      "cell_type": "markdown",
      "metadata": {
        "id": "RldOih_UjJ7M"
      },
      "source": [
        "다음은 URL에 매개변수를 결합하겠습니다. 웹 API에 데이터를 요청할 때 URL의 뒤에 매개변수를 결합해서 보내는 경우도 있습니다. 여기서 매개변수는 키와 값으로 이뤄져 있습니다. 예컨대 경로가 합쳐진 URL이 `http://abc.org/get`일 때 키와 값이 합쳐지면 `http://abc.org/get?key=value`이 됩니다. `?`는 시작위치, `key`는 키, `value`는 값입니다. 매개변수가 2개 이상이면 매개변수 사이가 `&`로 묶여서 `http://abc.org/get?key1=value1&key2=value2`이 됩니다.\n",
        "\n",
        "아래 예시 코드는 날씨 데이터를 제공하는 웹 API에 매개변수인 API 키, 위도, 경도, 단위의 키와 값을 전달한 URL 생성 과정입니다. 먼저 [openweathermap](https://openweathermap.org/) 사이트에서 회원가입을 합니다. 그리고 [API 모음 페이지](https://openweathermap.org/api)에서 원하는 데이터에 해당하는 'API doc'을 클릭하면 코드 형식과 파라미터를 설명하는 페이지가 열립니다. 이 페이지에서 제시하는 코드 형식에 `{API key}`라는 부분을 클릭하면 고유 API key를 발급 받을 수 있습니다. 'By geographic coordinates(지리적 좌표별)'을 선택하여 간단하게 예시하겠습니다."
      ]
    },
    {
      "cell_type": "code",
      "metadata": {
        "colab": {
          "base_uri": "https://localhost:8080/"
        },
        "id": "JvP-rPoXEaOC",
        "outputId": "6c7c4db7-8ec5-45bd-86ea-7ec57a86846e"
      },
      "source": [
        "lat = '37.370208'\n",
        "lon = '127.145094'\n",
        "api_key = '43bed61dc881b0e6803fec3206238547'\n",
        "unit = 'metric'\n",
        "\n",
        "url = 'http://api.openweathermap.org/data/2.5/weather'\n",
        "# `%s`는 string을 의미합니다.\n",
        "# `%(lat, lon, api_key, unit)`은 `%s` 부분에 순서대로 매치되는 요소를 의미합니다.\n",
        "parameter = '?lat=%s&lon=%s&appid=%s&units=%s'%(lat, lon, api_key, unit)\n",
        "url_para = url + parameter\n",
        "r = requests.get(url_para)\n",
        "\n",
        "print(r.url)"
      ],
      "execution_count": 5,
      "outputs": [
        {
          "output_type": "stream",
          "name": "stdout",
          "text": [
            "http://api.openweathermap.org/data/2.5/weather?lat=37.370208&lon=127.145094&appid=43bed61dc881b0e6803fec3206238547&units=metric\n"
          ]
        }
      ]
    },
    {
      "cell_type": "markdown",
      "metadata": {
        "id": "CME0mTHQC9R8"
      },
      "source": [
        "출력된 URL에 정보가 담겨 있습니다.\n",
        "\n",
        "딕셔너리 타입으로도 URL을 생성할 수 있습니다. 위 코드와 같은 정보를 가져옵니다. 아래에 예시하겠습니다."
      ]
    },
    {
      "cell_type": "code",
      "metadata": {
        "colab": {
          "base_uri": "https://localhost:8080/"
        },
        "id": "p9robwSLDTQQ",
        "outputId": "6720f19a-cd2e-43e1-b0d5-b543fcbcbf3d"
      },
      "source": [
        "lat = '37.370208'\n",
        "lon = '127.145094'\n",
        "api_key = '43bed61dc881b0e6803fec3206238547'\n",
        "unit = 'metric'\n",
        "\n",
        "url = 'http://api.openweathermap.org/data/2.5/weather'\n",
        "parameter = {'lat': lat, 'lon': lon, 'appid': api_key, 'units': unit}\n",
        "r = requests.get(url, params = parameter)\n",
        "print(r.url)"
      ],
      "execution_count": 6,
      "outputs": [
        {
          "output_type": "stream",
          "name": "stdout",
          "text": [
            "http://api.openweathermap.org/data/2.5/weather?lat=37.370208&lon=127.145094&appid=43bed61dc881b0e6803fec3206238547&units=metric\n"
          ]
        }
      ]
    },
    {
      "cell_type": "markdown",
      "metadata": {
        "id": "RxHAY34bFFxM"
      },
      "source": [
        "#### **1.5.3.4. URL 인코딩과 디코딩**"
      ]
    },
    {
      "cell_type": "markdown",
      "metadata": {
        "id": "cQRQ7sLqFPlV"
      },
      "source": [
        "**URL 인코딩(퍼센트 인코딩(Percent-encoding))**은 URL에 사용하는 문자를 인코딩하는 방법을 의미하며, 알파벳, 숫자, 기호 몇 가지를 제외한 나머지를 16진수 값으로 인코딩(변환)합니다. 예컨대 `/`는 `%2F`로 변환합니다. `requests.get()` 메서드를 사용할 경우 URL 인코딩은 자동으로 이뤄지지만, 이와 달리 URL 인코딩이 이뤄진 상태로 API key가 제공되기도 합니다. 반드시 `requests.utils.unquote()` 메서드를 사용하여 본래 API key로 만드는 디코딩 작업을 거쳐야 합니다.\n",
        "\n",
        "아래는 [공공데이터포털](https://www.data.go.kr/)에서 [한국환경공단_전기자동차 충전소 정보](https://www.data.go.kr/tcs/dss/selectApiDataDetailView.do?publicDataPk=15076352) 데이터를 개발 계정으로 활용 신청하여 받은 API key입니다. 인코딩 된 것과 디코딩 된 것 중에 인코딩 된 API key를 가져오겠습니다."
      ]
    },
    {
      "cell_type": "code",
      "metadata": {
        "colab": {
          "base_uri": "https://localhost:8080/",
          "height": 36
        },
        "id": "KPy4bkPaH0Tt",
        "outputId": "1bc0006e-291a-4980-ec04-28a32326b289"
      },
      "source": [
        "api_key = 'nR8wtCPIy97oR8fYhcNPMDdMpOMUUl%2BeF7hbNMEVkkyw0%2FjyGhwTZFm8fyPBxMqqK7kl%2B8zm2DarQ6Qu1vOEKQ%3D%3D'\n",
        "\n",
        "api_key_decode = requests.utils.unquote(api_key)\n",
        "\n",
        "api_key_decode"
      ],
      "execution_count": 7,
      "outputs": [
        {
          "output_type": "execute_result",
          "data": {
            "application/vnd.google.colaboratory.intrinsic+json": {
              "type": "string"
            },
            "text/plain": [
              "'nR8wtCPIy97oR8fYhcNPMDdMpOMUUl+eF7hbNMEVkkyw0/jyGhwTZFm8fyPBxMqqK7kl+8zm2DarQ6Qu1vOEKQ=='"
            ]
          },
          "metadata": {},
          "execution_count": 7
        }
      ]
    },
    {
      "cell_type": "code",
      "metadata": {
        "colab": {
          "base_uri": "https://localhost:8080/"
        },
        "id": "YxaxyahzkSAn",
        "outputId": "cca03986-e106-438e-d672-38ecc5ad7b34"
      },
      "source": [
        "url = 'http://apis.data.go.kr/B552584/EvCharger/getChargerInfo'\n",
        "params ={'serviceKey' : api_key_decode, 'pageNo' : '1200', 'numOfRows' : '10', 'zcode': 11}\n",
        "\n",
        "response = requests.get(url, params=params)\n",
        "print(response.url)"
      ],
      "execution_count": 8,
      "outputs": [
        {
          "output_type": "stream",
          "name": "stdout",
          "text": [
            "http://apis.data.go.kr/B552584/EvCharger/getChargerInfo?serviceKey=nR8wtCPIy97oR8fYhcNPMDdMpOMUUl%2BeF7hbNMEVkkyw0%2FjyGhwTZFm8fyPBxMqqK7kl%2B8zm2DarQ6Qu1vOEKQ%3D%3D&pageNo=1200&numOfRows=10&zcode=11\n"
          ]
        }
      ]
    },
    {
      "cell_type": "markdown",
      "metadata": {
        "id": "1JBn6YVgDl6c"
      },
      "source": [
        "#### **1.5.3.5. 예제**"
      ]
    },
    {
      "cell_type": "markdown",
      "metadata": {
        "id": "jacWWp-Jzt49"
      },
      "source": [
        "사이트에 따라서는 API key를 요구하지 않고 데이터를 제공하는 곳도 있습니다. 먼저 API key를 요구하지 않는 사이트에서 데이터를 가져오겠습니다.\n",
        "\n",
        "첫 번째 예제는 국제 우주 정거장의 현재 위치 정보 데이터입니다. [Open Notify](http://open-notify.org/)에서 제공하는 웹 API를 활용하겠습니다. JSON 데이터로 응답 받을 것입니다."
      ]
    },
    {
      "cell_type": "code",
      "metadata": {
        "colab": {
          "base_uri": "https://localhost:8080/",
          "height": 36
        },
        "id": "0IvwZ2oo1V20",
        "outputId": "56170ddf-d81c-4d35-f6e0-78c2056f31a6"
      },
      "source": [
        "url = 'http://api.open-notify.org/iss-now.json'\n",
        "\n",
        "response = requests.get(url)\n",
        "response.text"
      ],
      "execution_count": 9,
      "outputs": [
        {
          "output_type": "execute_result",
          "data": {
            "application/vnd.google.colaboratory.intrinsic+json": {
              "type": "string"
            },
            "text/plain": [
              "'{\"timestamp\": 1636866823, \"message\": \"success\", \"iss_position\": {\"longitude\": \"88.5637\", \"latitude\": \"-51.1668\"}}'"
            ]
          },
          "metadata": {},
          "execution_count": 9
        }
      ]
    },
    {
      "cell_type": "markdown",
      "metadata": {
        "id": "ThNQGt-s4cpI"
      },
      "source": [
        "응답 받은 JSON 데이터를 dict 타입 데이터로 만들겠습니다. 2가지 방법을 제시하겠습니다. 후자가 더 간편한 방법입니다."
      ]
    },
    {
      "cell_type": "code",
      "metadata": {
        "colab": {
          "base_uri": "https://localhost:8080/"
        },
        "id": "gQDhBEav3z2b",
        "outputId": "00e5bda8-eff2-41d5-fc44-ab4cefec343c"
      },
      "source": [
        "dict_space_station = json.loads(response.text)\n",
        "dict_space_station"
      ],
      "execution_count": 10,
      "outputs": [
        {
          "output_type": "execute_result",
          "data": {
            "text/plain": [
              "{'iss_position': {'latitude': '-51.1668', 'longitude': '88.5637'},\n",
              " 'message': 'success',\n",
              " 'timestamp': 1636866823}"
            ]
          },
          "metadata": {},
          "execution_count": 10
        }
      ]
    },
    {
      "cell_type": "code",
      "metadata": {
        "colab": {
          "base_uri": "https://localhost:8080/"
        },
        "id": "RyApts5E4nJY",
        "outputId": "bc100cc2-d67f-4de6-fce7-5f95b32893e6"
      },
      "source": [
        "dict_space_station = response.json()\n",
        "dict_space_station"
      ],
      "execution_count": 11,
      "outputs": [
        {
          "output_type": "execute_result",
          "data": {
            "text/plain": [
              "{'iss_position': {'latitude': '-51.1668', 'longitude': '88.5637'},\n",
              " 'message': 'success',\n",
              " 'timestamp': 1636866823}"
            ]
          },
          "metadata": {},
          "execution_count": 11
        }
      ]
    },
    {
      "cell_type": "markdown",
      "metadata": {
        "id": "pIckQeTH5AQM"
      },
      "source": [
        "3초마다 위치 정보를 갱신하는 코드를 생성하겠습니다."
      ]
    },
    {
      "cell_type": "code",
      "metadata": {
        "colab": {
          "base_uri": "https://localhost:8080/"
        },
        "id": "XjeErMbh5Gdy",
        "outputId": "8c5d458c-5048-48ea-87d9-7d78fc7a20a2"
      },
      "source": [
        "url = 'http://api.open-notify.org/iss-now.json'\n",
        "\n",
        "def Iss_Position(url):\n",
        "    dict_space_station = requests.get(url).json()\n",
        "    return dict_space_station['iss_position']\n",
        "\n",
        "for n in range(5):\n",
        "    print(Iss_Position(url))\n",
        "    time.sleep(3)"
      ],
      "execution_count": 12,
      "outputs": [
        {
          "output_type": "stream",
          "name": "stdout",
          "text": [
            "{'longitude': '88.5637', 'latitude': '-51.1668'}\n",
            "{'longitude': '88.9060', 'latitude': '-51.1980'}\n",
            "{'longitude': '89.2977', 'latitude': '-51.2324'}\n",
            "{'longitude': '89.6411', 'latitude': '-51.2614'}\n",
            "{'longitude': '89.9356', 'latitude': '-51.2853'}\n"
          ]
        }
      ]
    },
    {
      "cell_type": "markdown",
      "metadata": {
        "id": "TgkgfqYu7V2_"
      },
      "source": [
        "두 번째 예제로 국가 정보 데이터를 가져오겠습니다. [REST Countries](https://restcountries.co.kr/)에서 제공하는 웹 API를 활용하겠습니다."
      ]
    },
    {
      "cell_type": "code",
      "metadata": {
        "colab": {
          "base_uri": "https://localhost:8080/"
        },
        "id": "Nl2HciSM9RAU",
        "outputId": "944197af-b883-4616-b8a9-3bc9eb3e9d2b"
      },
      "source": [
        "url = 'https://restcountries.com/v3.1/name/South Korea'\n",
        "response = requests.get(url)\n",
        "list_korea = response.json()\n",
        "list_korea"
      ],
      "execution_count": 13,
      "outputs": [
        {
          "output_type": "execute_result",
          "data": {
            "text/plain": [
              "[{'altSpellings': ['KR',\n",
              "   'Korea, Republic of',\n",
              "   'Republic of Korea',\n",
              "   '남한',\n",
              "   '남조선'],\n",
              "  'area': 100210.0,\n",
              "  'borders': ['PRK'],\n",
              "  'capital': ['Seoul'],\n",
              "  'capitalInfo': {'latlng': [37.55, 126.98]},\n",
              "  'car': {'side': 'right', 'signs': ['ROK']},\n",
              "  'cca2': 'KR',\n",
              "  'cca3': 'KOR',\n",
              "  'ccn3': '410',\n",
              "  'cioc': 'KOR',\n",
              "  'coatOfArms': {'png': 'https://mainfacts.com/media/images/coats_of_arms/kr.png',\n",
              "   'svg': 'https://mainfacts.com/media/images/coats_of_arms/kr.svg'},\n",
              "  'continents': ['Asia'],\n",
              "  'currencies': {'KRW': {'name': 'South Korean won', 'symbol': '₩'}},\n",
              "  'demonyms': {'eng': {'f': 'South Korean', 'm': 'South Korean'},\n",
              "   'fra': {'f': 'Sud-coréenne', 'm': 'Sud-coréen'}},\n",
              "  'fifa': 'KOR',\n",
              "  'flag': '🇰🇷',\n",
              "  'flags': {'png': 'https://flagcdn.com/w320/kr.png',\n",
              "   'svg': 'https://flagcdn.com/kr.svg'},\n",
              "  'gini': {'2016': 31.4},\n",
              "  'idd': {'root': '+8', 'suffixes': ['2']},\n",
              "  'independent': True,\n",
              "  'landlocked': False,\n",
              "  'languages': {'kor': 'Korean'},\n",
              "  'latlng': [37.0, 127.5],\n",
              "  'maps': {'googleMaps': 'https://goo.gl/maps/7ecjaJXefjAQhxjGA',\n",
              "   'openStreetMaps': 'https://www.openstreetmap.org/relation/307756'},\n",
              "  'name': {'common': 'South Korea',\n",
              "   'nativeName': {'kor': {'common': '한국', 'official': '대한민국'}},\n",
              "   'official': 'Republic of Korea'},\n",
              "  'population': 51780579,\n",
              "  'postalCode': {'format': 'SEOUL ###-###', 'regex': '^(?:SEOUL)*(\\\\d{6})$'},\n",
              "  'region': 'Asia',\n",
              "  'startOfWeek': 'monday',\n",
              "  'status': 'officially-assigned',\n",
              "  'subregion': 'Eastern Asia',\n",
              "  'timezones': ['UTC+09:00'],\n",
              "  'tld': ['.kr', '.한국'],\n",
              "  'translations': {'ara': {'common': 'كوريا الجنوبية',\n",
              "    'official': 'جمهورية كوريا'},\n",
              "   'ces': {'common': 'Jižní Korea', 'official': 'Korejská republika'},\n",
              "   'cym': {'common': 'South Korea', 'official': 'Republic of Korea'},\n",
              "   'deu': {'common': 'Südkorea', 'official': 'Republik Korea'},\n",
              "   'est': {'common': 'Lõuna-Korea', 'official': 'Korea Vabariik'},\n",
              "   'fin': {'common': 'Etelä-Korea', 'official': 'Korean tasavalta'},\n",
              "   'fra': {'common': 'Corée du Sud', 'official': 'République de Corée'},\n",
              "   'hrv': {'common': 'Južna Koreja', 'official': 'Republika Koreja'},\n",
              "   'hun': {'common': 'Dél-Korea', 'official': 'Koreai Köztársaság'},\n",
              "   'ita': {'common': 'Corea del Sud', 'official': 'Repubblica di Corea'},\n",
              "   'jpn': {'common': '韓国', 'official': '大韓民国'},\n",
              "   'kor': {'common': '한국', 'official': '대한민국'},\n",
              "   'nld': {'common': 'Zuid-Korea', 'official': 'Republiek Korea'},\n",
              "   'per': {'common': 'کرهٔ جنوبی', 'official': 'جمهوری کره'},\n",
              "   'pol': {'common': 'Korea Południowa', 'official': 'Republika Korei'},\n",
              "   'por': {'common': 'Coreia do Sul', 'official': 'República da Coreia'},\n",
              "   'rus': {'common': 'Южная Корея', 'official': 'Республика Корея'},\n",
              "   'slk': {'common': 'Južná Kórea', 'official': 'Kórejská republika'},\n",
              "   'spa': {'common': 'Corea del Sur', 'official': 'República de Corea'},\n",
              "   'swe': {'common': 'Sydkorea', 'official': 'Republiken Korea'},\n",
              "   'urd': {'common': 'جنوبی کوریا', 'official': 'جمہوریہ کوریا '},\n",
              "   'zho': {'common': '韩国', 'official': '大韩民国'}},\n",
              "  'unMember': True}]"
            ]
          },
          "metadata": {},
          "execution_count": 13
        }
      ]
    },
    {
      "cell_type": "markdown",
      "metadata": {
        "id": "T-o4Eijk_WTM"
      },
      "source": [
        "국가의 인구를 출력하는 함수를 생성하겠습니다."
      ]
    },
    {
      "cell_type": "code",
      "metadata": {
        "colab": {
          "base_uri": "https://localhost:8080/"
        },
        "id": "g6Map-ij_zBn",
        "outputId": "91e29022-3f79-4c5f-bd8b-19d6ff4e4bc1"
      },
      "source": [
        "def population(country):\n",
        "    url = 'https://restcountries.com/v3.1/name/'\n",
        "    url_country = url + country\n",
        "    list_country = requests.get(url_country).json()\n",
        "    return list_country[0]['population']\n",
        "\n",
        "countries = ['South Korea', 'United States of America', 'Japan']\n",
        "\n",
        "for country in countries:\n",
        "    print(f'{country}: {population(country)}명')"
      ],
      "execution_count": 14,
      "outputs": [
        {
          "output_type": "stream",
          "name": "stdout",
          "text": [
            "South Korea: 51780579명\n",
            "United States of America: 329484123명\n",
            "Japan: 125836021명\n"
          ]
        }
      ]
    },
    {
      "cell_type": "markdown",
      "metadata": {
        "id": "gbjKO3sFwuZL"
      },
      "source": [
        "이번에는 API key를 사용하는 예제를 살피겠습니다. 첫 번째 예제는 트위터에서 API key를 이용하여 데이터를 가져오거나 트윗을 올리는 과정입니다.\n",
        "\n",
        "우선 트위터 계정으로 [Twitter Apps](https://apps.twitter.com) 사이트에 접속하여 애플리케이션을 생성하고 API key, API Key Secret, Bearer Token을 발급 받습니다. 그리고 나서 아래와 같이 tweepy 라이브러리를 설치합니다."
      ]
    },
    {
      "cell_type": "code",
      "metadata": {
        "colab": {
          "base_uri": "https://localhost:8080/"
        },
        "id": "zW4LzIS04XSQ",
        "outputId": "3b04a098-a3b6-4da5-a9aa-eceaaf1b486e"
      },
      "source": [
        "pip install tweepy"
      ],
      "execution_count": 15,
      "outputs": [
        {
          "output_type": "stream",
          "name": "stdout",
          "text": [
            "Requirement already satisfied: tweepy in /usr/local/lib/python3.7/dist-packages (3.10.0)\n",
            "Requirement already satisfied: six>=1.10.0 in /usr/local/lib/python3.7/dist-packages (from tweepy) (1.15.0)\n",
            "Requirement already satisfied: requests-oauthlib>=0.7.0 in /usr/local/lib/python3.7/dist-packages (from tweepy) (1.3.0)\n",
            "Requirement already satisfied: requests[socks]>=2.11.1 in /usr/local/lib/python3.7/dist-packages (from tweepy) (2.23.0)\n",
            "Requirement already satisfied: oauthlib>=3.0.0 in /usr/local/lib/python3.7/dist-packages (from requests-oauthlib>=0.7.0->tweepy) (3.1.1)\n",
            "Requirement already satisfied: idna<3,>=2.5 in /usr/local/lib/python3.7/dist-packages (from requests[socks]>=2.11.1->tweepy) (2.10)\n",
            "Requirement already satisfied: chardet<4,>=3.0.2 in /usr/local/lib/python3.7/dist-packages (from requests[socks]>=2.11.1->tweepy) (3.0.4)\n",
            "Requirement already satisfied: certifi>=2017.4.17 in /usr/local/lib/python3.7/dist-packages (from requests[socks]>=2.11.1->tweepy) (2021.10.8)\n",
            "Requirement already satisfied: urllib3!=1.25.0,!=1.25.1,<1.26,>=1.21.1 in /usr/local/lib/python3.7/dist-packages (from requests[socks]>=2.11.1->tweepy) (1.24.3)\n",
            "Requirement already satisfied: PySocks!=1.5.7,>=1.5.6 in /usr/local/lib/python3.7/dist-packages (from requests[socks]>=2.11.1->tweepy) (1.7.1)\n"
          ]
        }
      ]
    },
    {
      "cell_type": "code",
      "metadata": {
        "id": "sbY-EANT6cHz"
      },
      "source": [
        "import tweepy"
      ],
      "execution_count": 16,
      "outputs": []
    },
    {
      "cell_type": "markdown",
      "metadata": {
        "id": "bxLEBdhc5Per"
      },
      "source": [
        "API key, API key Secret, Access Token, Access Token Secret을 인스턴스로 만들겠습니다."
      ]
    },
    {
      "cell_type": "code",
      "metadata": {
        "id": "Zr8KRKgk5oHA"
      },
      "source": [
        "api_key = 'ZaVBXcKILqJxy9Zv02CSJVah3'\n",
        "api_key_secret = 'ux7oO7k6S1opAlZ4sTHDsItotVbKqiG1bue4KzMPD2CLDgmVGo'\n",
        "token = '1381212247586840577-GmKRqu0SAjFN2iR1hR14oM7rnx3oRj'\n",
        "token_secret = 'jnzxkwROCrEvlPKo6oxNZdy3mjJ5isNMYcW5RqhO9Adlc'"
      ],
      "execution_count": 17,
      "outputs": []
    },
    {
      "cell_type": "markdown",
      "metadata": {
        "id": "s3CdANGp573E"
      },
      "source": [
        "OAuth 인증 과정을 거치겠습니다. 먼저 인증 결과를 객체로 넘기고, 그 객체를 `set_access_token()` 메서드로 적용해서 API 클래스의 객체를 생성할 준비를 합니다. "
      ]
    },
    {
      "cell_type": "code",
      "metadata": {
        "id": "sgw3WwhJ6DpF"
      },
      "source": [
        "oauth = tweepy.OAuthHandler(api_key, api_key_secret)\n",
        "oauth.set_access_token(token, token_secret)"
      ],
      "execution_count": 18,
      "outputs": []
    },
    {
      "cell_type": "markdown",
      "metadata": {
        "id": "EaNCDpNN8juY"
      },
      "source": [
        "`tweepy.API()` 메서드에 인증 결과를 담은 객체를 넘겨서 객체를 생성합니다. API 클래스의 객체입니다."
      ]
    },
    {
      "cell_type": "code",
      "metadata": {
        "colab": {
          "base_uri": "https://localhost:8080/"
        },
        "id": "p-vwtemB9dj8",
        "outputId": "21416084-1a9c-4c2f-e97a-c52392682946"
      },
      "source": [
        "api = tweepy.API(oauth)\n",
        "api.me()"
      ],
      "execution_count": 19,
      "outputs": [
        {
          "output_type": "execute_result",
          "data": {
            "text/plain": [
              "User(_api=<tweepy.api.API object at 0x7f50bfd53190>, _json={'id': 1381212247586840577, 'id_str': '1381212247586840577', 'name': '이승원', 'screen_name': 'oZLw2bimZ6HXsOY', 'location': '', 'profile_location': None, 'description': '도남', 'url': None, 'entities': {'description': {'urls': []}}, 'protected': False, 'followers_count': 0, 'friends_count': 0, 'listed_count': 0, 'created_at': 'Sun Apr 11 11:47:25 +0000 2021', 'favourites_count': 0, 'utc_offset': None, 'time_zone': None, 'geo_enabled': False, 'verified': False, 'statuses_count': 0, 'lang': None, 'contributors_enabled': False, 'is_translator': False, 'is_translation_enabled': False, 'profile_background_color': 'F5F8FA', 'profile_background_image_url': None, 'profile_background_image_url_https': None, 'profile_background_tile': False, 'profile_image_url': 'http://abs.twimg.com/sticky/default_profile_images/default_profile_normal.png', 'profile_image_url_https': 'https://abs.twimg.com/sticky/default_profile_images/default_profile_normal.png', 'profile_link_color': '1DA1F2', 'profile_sidebar_border_color': 'C0DEED', 'profile_sidebar_fill_color': 'DDEEF6', 'profile_text_color': '333333', 'profile_use_background_image': True, 'has_extended_profile': True, 'default_profile': True, 'default_profile_image': True, 'following': False, 'follow_request_sent': False, 'notifications': False, 'translator_type': 'none', 'withheld_in_countries': [], 'suspended': False, 'needs_phone_verification': False}, id=1381212247586840577, id_str='1381212247586840577', name='이승원', screen_name='oZLw2bimZ6HXsOY', location='', profile_location=None, description='도남', url=None, entities={'description': {'urls': []}}, protected=False, followers_count=0, friends_count=0, listed_count=0, created_at=datetime.datetime(2021, 4, 11, 11, 47, 25), favourites_count=0, utc_offset=None, time_zone=None, geo_enabled=False, verified=False, statuses_count=0, lang=None, contributors_enabled=False, is_translator=False, is_translation_enabled=False, profile_background_color='F5F8FA', profile_background_image_url=None, profile_background_image_url_https=None, profile_background_tile=False, profile_image_url='http://abs.twimg.com/sticky/default_profile_images/default_profile_normal.png', profile_image_url_https='https://abs.twimg.com/sticky/default_profile_images/default_profile_normal.png', profile_link_color='1DA1F2', profile_sidebar_border_color='C0DEED', profile_sidebar_fill_color='DDEEF6', profile_text_color='333333', profile_use_background_image=True, has_extended_profile=True, default_profile=True, default_profile_image=True, following=False, follow_request_sent=False, notifications=False, translator_type='none', withheld_in_countries=[], suspended=False, needs_phone_verification=False)"
            ]
          },
          "metadata": {},
          "execution_count": 19
        }
      ]
    },
    {
      "cell_type": "markdown",
      "metadata": {
        "id": "AVg-PDk39F1W"
      },
      "source": [
        "사용자 이름을 확인하여 올바르게 인증되었는지 여부를 살피겠습니다."
      ]
    },
    {
      "cell_type": "code",
      "metadata": {
        "colab": {
          "base_uri": "https://localhost:8080/",
          "height": 36
        },
        "id": "eW_UY2kT9Ww7",
        "outputId": "16c5a7cc-d566-4769-d22b-c4efa5927b4a"
      },
      "source": [
        "api.me().name"
      ],
      "execution_count": 20,
      "outputs": [
        {
          "output_type": "execute_result",
          "data": {
            "application/vnd.google.colaboratory.intrinsic+json": {
              "type": "string"
            },
            "text/plain": [
              "'이승원'"
            ]
          },
          "metadata": {},
          "execution_count": 20
        }
      ]
    }
  ]
}