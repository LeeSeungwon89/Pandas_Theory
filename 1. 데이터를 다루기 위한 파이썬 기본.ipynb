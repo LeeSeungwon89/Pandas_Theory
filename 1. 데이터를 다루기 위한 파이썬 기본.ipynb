{
  "nbformat": 4,
  "nbformat_minor": 0,
  "metadata": {
    "colab": {
      "name": "1. 데이터를 다루기 위한 파이썬 기본.ipynb",
      "provenance": [],
      "collapsed_sections": [],
      "toc_visible": true,
      "authorship_tag": "ABX9TyOHwfDi9L2jZEN1nF0P1wIu",
      "include_colab_link": true
    },
    "kernelspec": {
      "name": "python3",
      "display_name": "Python 3"
    },
    "language_info": {
      "name": "python"
    }
  },
  "cells": [
    {
      "cell_type": "markdown",
      "metadata": {
        "id": "view-in-github",
        "colab_type": "text"
      },
      "source": [
        "<a href=\"https://colab.research.google.com/github/LeeSeungwon89/Python_for_Data_Analytics_Science/blob/main/1.%20%EB%8D%B0%EC%9D%B4%ED%84%B0%EB%A5%BC%20%EB%8B%A4%EB%A3%A8%EA%B8%B0%20%EC%9C%84%ED%95%9C%20%ED%8C%8C%EC%9D%B4%EC%8D%AC%20%EA%B8%B0%EB%B3%B8.ipynb\" target=\"_parent\"><img src=\"https://colab.research.google.com/assets/colab-badge.svg\" alt=\"Open In Colab\"/></a>"
      ]
    },
    {
      "cell_type": "markdown",
      "metadata": {
        "id": "XPkykKHOYc7y"
      },
      "source": [
        "# **1. 연산자 기호**"
      ]
    },
    {
      "cell_type": "markdown",
      "metadata": {
        "id": "eSERvlKeRlAD"
      },
      "source": [
        "## **1.1. 몫**"
      ]
    },
    {
      "cell_type": "markdown",
      "metadata": {
        "id": "pJzYlc6OYvwo"
      },
      "source": [
        "몫은 '//'를 사용하여 구합니다."
      ]
    },
    {
      "cell_type": "code",
      "metadata": {
        "colab": {
          "base_uri": "https://localhost:8080/"
        },
        "id": "tTnj8MxgYxqY",
        "outputId": "ea412158-7d24-4cbf-bcb1-78cdc83ccc05"
      },
      "source": [
        "11 // 5"
      ],
      "execution_count": null,
      "outputs": [
        {
          "output_type": "execute_result",
          "data": {
            "text/plain": [
              "2"
            ]
          },
          "metadata": {},
          "execution_count": 1
        }
      ]
    },
    {
      "cell_type": "markdown",
      "metadata": {
        "id": "tDtsa7EzRoqb"
      },
      "source": [
        "## **1.2. 나머지**"
      ]
    },
    {
      "cell_type": "markdown",
      "metadata": {
        "id": "pyI_mtJcZE9v"
      },
      "source": [
        "나머지는 '%'를 사용하여 구합니다."
      ]
    },
    {
      "cell_type": "code",
      "metadata": {
        "colab": {
          "base_uri": "https://localhost:8080/"
        },
        "id": "5CQvTjI0YMyR",
        "outputId": "bd2a0c15-604b-453c-a231-962c8be2fd36"
      },
      "source": [
        "11 % 5"
      ],
      "execution_count": null,
      "outputs": [
        {
          "output_type": "execute_result",
          "data": {
            "text/plain": [
              "1"
            ]
          },
          "metadata": {},
          "execution_count": 2
        }
      ]
    },
    {
      "cell_type": "markdown",
      "metadata": {
        "id": "akdhp74030MU"
      },
      "source": [
        "## **1.3. 함수로 몫과 나머지 구하기**"
      ]
    },
    {
      "cell_type": "code",
      "metadata": {
        "colab": {
          "base_uri": "https://localhost:8080/"
        },
        "id": "S1e6b6Rt35U-",
        "outputId": "5188478b-fdee-459c-ded7-a667394c9602"
      },
      "source": [
        "divmod(11, 5)"
      ],
      "execution_count": null,
      "outputs": [
        {
          "output_type": "execute_result",
          "data": {
            "text/plain": [
              "(2, 1)"
            ]
          },
          "metadata": {},
          "execution_count": 1
        }
      ]
    },
    {
      "cell_type": "markdown",
      "metadata": {
        "id": "Rxsww0RAZQO-"
      },
      "source": [
        "# **2. 과학적인 표기법**"
      ]
    },
    {
      "cell_type": "markdown",
      "metadata": {
        "id": "WPerzE8nZSQv"
      },
      "source": [
        "매우 큰 수나 작은 수를 다루려면 10의 거듭제곱을 나타내는 'e$n$'으로 입력할 수 있습니다. '$n$'은 정수이며 양수, 음수, 0 모두 가능합니다."
      ]
    },
    {
      "cell_type": "markdown",
      "metadata": {
        "id": "Sx6zBpeEbMyd"
      },
      "source": [
        "$4 \\times 10^7$"
      ]
    },
    {
      "cell_type": "code",
      "metadata": {
        "colab": {
          "base_uri": "https://localhost:8080/"
        },
        "id": "YzDjpsfqZ0Cn",
        "outputId": "e1c59fa4-5141-4a9b-a485-3a4b00cc2c69"
      },
      "source": [
        "4e7"
      ],
      "execution_count": null,
      "outputs": [
        {
          "output_type": "execute_result",
          "data": {
            "text/plain": [
              "40000000.0"
            ]
          },
          "metadata": {},
          "execution_count": 3
        }
      ]
    },
    {
      "cell_type": "markdown",
      "metadata": {
        "id": "htdIo-Ayb4QE"
      },
      "source": [
        "$2 \\times 10^{15}$"
      ]
    },
    {
      "cell_type": "code",
      "metadata": {
        "colab": {
          "base_uri": "https://localhost:8080/"
        },
        "id": "ukTaZFuib8m0",
        "outputId": "e1bea74f-3976-4cba-ecce-02b457805a36"
      },
      "source": [
        "2e15"
      ],
      "execution_count": null,
      "outputs": [
        {
          "output_type": "execute_result",
          "data": {
            "text/plain": [
              "2000000000000000.0"
            ]
          },
          "metadata": {},
          "execution_count": 4
        }
      ]
    },
    {
      "cell_type": "markdown",
      "metadata": {
        "id": "9zA51D8QcX2C"
      },
      "source": [
        "10의 15승까지 숫자로 표시됩니다."
      ]
    },
    {
      "cell_type": "markdown",
      "metadata": {
        "id": "IiU7bgcRbk0T"
      },
      "source": [
        "$6 \\times 10^{16}$"
      ]
    },
    {
      "cell_type": "code",
      "metadata": {
        "colab": {
          "base_uri": "https://localhost:8080/"
        },
        "id": "4XgDSGKNbDqH",
        "outputId": "0b0efa02-9330-4d42-ea84-1bebabd3ec9b"
      },
      "source": [
        "6e16"
      ],
      "execution_count": null,
      "outputs": [
        {
          "output_type": "execute_result",
          "data": {
            "text/plain": [
              "6e+16"
            ]
          },
          "metadata": {},
          "execution_count": 5
        }
      ]
    },
    {
      "cell_type": "markdown",
      "metadata": {
        "id": "L2Mhh8ujcNrx"
      },
      "source": [
        "10의 16승부터 과학적인 표기법으로 표시됩니다."
      ]
    },
    {
      "cell_type": "markdown",
      "metadata": {
        "id": "ysVct0LScAfe"
      },
      "source": [
        "$6 \\times 10^{17}$"
      ]
    },
    {
      "cell_type": "code",
      "metadata": {
        "colab": {
          "base_uri": "https://localhost:8080/"
        },
        "id": "OCNKSov7bvRi",
        "outputId": "704dbbfa-b1e0-43a2-d8a1-a35ddf711937"
      },
      "source": [
        "6e17"
      ],
      "execution_count": null,
      "outputs": [
        {
          "output_type": "execute_result",
          "data": {
            "text/plain": [
              "6e+17"
            ]
          },
          "metadata": {},
          "execution_count": 6
        }
      ]
    },
    {
      "cell_type": "markdown",
      "metadata": {
        "id": "Vfz9crFZchQ4"
      },
      "source": [
        "$4 \\times 10^{-1}$"
      ]
    },
    {
      "cell_type": "code",
      "metadata": {
        "colab": {
          "base_uri": "https://localhost:8080/"
        },
        "id": "ViqRHpxIcg0U",
        "outputId": "466baa97-22ec-4738-c12f-b0c21d8a95d8"
      },
      "source": [
        "4e-1"
      ],
      "execution_count": null,
      "outputs": [
        {
          "output_type": "execute_result",
          "data": {
            "text/plain": [
              "0.4"
            ]
          },
          "metadata": {},
          "execution_count": 7
        }
      ]
    },
    {
      "cell_type": "markdown",
      "metadata": {
        "id": "IEYkmMq-cvFn"
      },
      "source": [
        "$4 \\times 10^{-4}$"
      ]
    },
    {
      "cell_type": "code",
      "metadata": {
        "colab": {
          "base_uri": "https://localhost:8080/"
        },
        "id": "oiavyhHwcyzk",
        "outputId": "379301cc-7b54-408b-df2b-6e6d2dd4dd17"
      },
      "source": [
        "4e-4"
      ],
      "execution_count": null,
      "outputs": [
        {
          "output_type": "execute_result",
          "data": {
            "text/plain": [
              "0.0004"
            ]
          },
          "metadata": {},
          "execution_count": 8
        }
      ]
    },
    {
      "cell_type": "markdown",
      "metadata": {
        "id": "EKjnudgAdFxP"
      },
      "source": [
        "10의 -4승까지 숫자로 표시됩니다."
      ]
    },
    {
      "cell_type": "markdown",
      "metadata": {
        "id": "S0OKwuOVc0i7"
      },
      "source": [
        "$4 \\times 10^{-5}$"
      ]
    },
    {
      "cell_type": "code",
      "metadata": {
        "colab": {
          "base_uri": "https://localhost:8080/"
        },
        "id": "hQExXRu4c198",
        "outputId": "380b5ccf-fdaf-4954-9c2f-23972dbf2536"
      },
      "source": [
        "4e-5"
      ],
      "execution_count": null,
      "outputs": [
        {
          "output_type": "execute_result",
          "data": {
            "text/plain": [
              "4e-05"
            ]
          },
          "metadata": {},
          "execution_count": 9
        }
      ]
    },
    {
      "cell_type": "markdown",
      "metadata": {
        "id": "t4FjncZwdJFJ"
      },
      "source": [
        "10의 -5승부터는 과학적인 표기법으로 표시됩니다."
      ]
    },
    {
      "cell_type": "markdown",
      "metadata": {
        "id": "_yrFtmq9dg2J"
      },
      "source": [
        "$4 \\times 10^{-6}$"
      ]
    },
    {
      "cell_type": "code",
      "metadata": {
        "colab": {
          "base_uri": "https://localhost:8080/"
        },
        "id": "sQ0L5pvcdgah",
        "outputId": "abc0f7e2-7a21-424b-b60f-0e91211a9cf3"
      },
      "source": [
        "4e-6"
      ],
      "execution_count": null,
      "outputs": [
        {
          "output_type": "execute_result",
          "data": {
            "text/plain": [
              "4e-06"
            ]
          },
          "metadata": {},
          "execution_count": 10
        }
      ]
    },
    {
      "cell_type": "markdown",
      "metadata": {
        "id": "gFkg8yegdj4h"
      },
      "source": [
        "# **3. 진법과 진수**"
      ]
    },
    {
      "cell_type": "markdown",
      "metadata": {
        "id": "HzujSYiAcPtT"
      },
      "source": [
        "파이썬은 10진법 외에 2진법, 8진법, 16진법을 지원합니다. 16진법은 {0 ~ 9, a, b, c, d, e, f}로 표현됩니다.\n",
        "\n",
        "2진수를 입력하려면 '0b', 8진수를 입력하려면 '0o', 16진수를 입력하려면 '0x'를 숫자 앞에 붙입니다.\n",
        "\n",
        "간단하게 17을 예로 들겠습니다. 해당하는 진법의 함수도 포함합니다."
      ]
    },
    {
      "cell_type": "markdown",
      "metadata": {
        "id": "vYvSXqpJfK91"
      },
      "source": [
        "10진법"
      ]
    },
    {
      "cell_type": "code",
      "metadata": {
        "colab": {
          "base_uri": "https://localhost:8080/"
        },
        "id": "9nEARaIsfB-0",
        "outputId": "9383a09e-3287-47d5-b58a-a5a4227e71e8"
      },
      "source": [
        "17"
      ],
      "execution_count": null,
      "outputs": [
        {
          "output_type": "execute_result",
          "data": {
            "text/plain": [
              "17"
            ]
          },
          "metadata": {},
          "execution_count": 11
        }
      ]
    },
    {
      "cell_type": "markdown",
      "metadata": {
        "id": "At7w4OaPfNHA"
      },
      "source": [
        "2진법"
      ]
    },
    {
      "cell_type": "code",
      "metadata": {
        "colab": {
          "base_uri": "https://localhost:8080/"
        },
        "id": "9-LnmA41fCud",
        "outputId": "bfe0db37-3995-447a-ac00-15e2b20e4a25"
      },
      "source": [
        "0b10001"
      ],
      "execution_count": null,
      "outputs": [
        {
          "output_type": "execute_result",
          "data": {
            "text/plain": [
              "17"
            ]
          },
          "metadata": {},
          "execution_count": 12
        }
      ]
    },
    {
      "cell_type": "code",
      "metadata": {
        "colab": {
          "base_uri": "https://localhost:8080/",
          "height": 35
        },
        "id": "fLOL_tRqfbUB",
        "outputId": "a7e95a5f-eb2f-4834-f4b4-04caaebd5f22"
      },
      "source": [
        "bin(17)"
      ],
      "execution_count": null,
      "outputs": [
        {
          "output_type": "execute_result",
          "data": {
            "application/vnd.google.colaboratory.intrinsic+json": {
              "type": "string"
            },
            "text/plain": [
              "'0b10001'"
            ]
          },
          "metadata": {},
          "execution_count": 13
        }
      ]
    },
    {
      "cell_type": "markdown",
      "metadata": {
        "id": "SsfXD_QbfPe_"
      },
      "source": [
        "8진법"
      ]
    },
    {
      "cell_type": "code",
      "metadata": {
        "colab": {
          "base_uri": "https://localhost:8080/"
        },
        "id": "Obr4s0MNfGDM",
        "outputId": "3c5b6e34-e694-4a70-b109-ed21818b6d95"
      },
      "source": [
        "0o21"
      ],
      "execution_count": null,
      "outputs": [
        {
          "output_type": "execute_result",
          "data": {
            "text/plain": [
              "17"
            ]
          },
          "metadata": {},
          "execution_count": 14
        }
      ]
    },
    {
      "cell_type": "code",
      "metadata": {
        "colab": {
          "base_uri": "https://localhost:8080/",
          "height": 35
        },
        "id": "PyUblwG-fe_K",
        "outputId": "b599a6ba-d3e1-4e32-a530-ab87f39b1927"
      },
      "source": [
        "oct(17)"
      ],
      "execution_count": null,
      "outputs": [
        {
          "output_type": "execute_result",
          "data": {
            "application/vnd.google.colaboratory.intrinsic+json": {
              "type": "string"
            },
            "text/plain": [
              "'0o21'"
            ]
          },
          "metadata": {},
          "execution_count": 15
        }
      ]
    },
    {
      "cell_type": "markdown",
      "metadata": {
        "id": "Pfe1O90-fSFn"
      },
      "source": [
        "16진법"
      ]
    },
    {
      "cell_type": "code",
      "metadata": {
        "colab": {
          "base_uri": "https://localhost:8080/"
        },
        "id": "KqxBPSDrfIxQ",
        "outputId": "fdcb3a8e-915a-44e9-c9c4-54b600973104"
      },
      "source": [
        "0x11"
      ],
      "execution_count": null,
      "outputs": [
        {
          "output_type": "execute_result",
          "data": {
            "text/plain": [
              "17"
            ]
          },
          "metadata": {},
          "execution_count": 16
        }
      ]
    },
    {
      "cell_type": "code",
      "metadata": {
        "colab": {
          "base_uri": "https://localhost:8080/",
          "height": 35
        },
        "id": "B3w3zG9VfhCj",
        "outputId": "78fa9c38-9b4e-42c7-b3eb-a154604c75c3"
      },
      "source": [
        "hex(17)"
      ],
      "execution_count": null,
      "outputs": [
        {
          "output_type": "execute_result",
          "data": {
            "application/vnd.google.colaboratory.intrinsic+json": {
              "type": "string"
            },
            "text/plain": [
              "'0x11'"
            ]
          },
          "metadata": {},
          "execution_count": 17
        }
      ]
    },
    {
      "cell_type": "markdown",
      "metadata": {
        "id": "Up13hB84gTrF"
      },
      "source": [
        "참고로 함수로 출력된 결과는 문자열이므로 산술 연산에 적용되지 않습니다. "
      ]
    },
    {
      "cell_type": "markdown",
      "metadata": {
        "id": "pkQDjHMKgvek"
      },
      "source": [
        "# **4. 변수명 생성 규칙**"
      ]
    },
    {
      "cell_type": "markdown",
      "metadata": {
        "id": "fS8fJXr8cSy9"
      },
      "source": [
        "변수명을 지정할 때는 규칙을 잘 지켜야 합니다.\n",
        "\n",
        "간과할 수 있는 규칙은 아래와 같습니다.\n",
        "\n",
        "- 문자, 숫자, 언더라인(_)을 사용합니다. 다만 보통의 경우는 언더라인으로 시작하는 변수명은 지정할 수는 있지만 일반적으로 구성하지 않습니다. \n",
        "\n",
        "- 숫자로 시작하는 변수명은 가능하지 않습니다.   \n",
        "예컨대 '2apple'은 불가능합니다.\n",
        "\n",
        "- 밑줄이 아닌 기호는 변수명에 들어갈 수 없습니다.   \n",
        "예컨대 'apple&', 'bana@na', '$peach' 같은 기호들입니다.\n",
        "\n",
        "- 예약어는 변수명으로 사용할 수 없습니다. 예약어란 `True`, `False`, `def`, `if`, `for`처럼 이미 지정되어 코딩에 쓰이는 표현을 의미합니다.   \n",
        "예컨대 `if = 4 + 3`으로 지정하면 에러가 납니다."
      ]
    },
    {
      "cell_type": "markdown",
      "metadata": {
        "id": "BJIKiUR8ka4j"
      },
      "source": [
        "# **5. 문자열**"
      ]
    },
    {
      "cell_type": "markdown",
      "metadata": {
        "id": "VsYx4ySycVJo"
      },
      "source": [
        "문자열에 큰따옴표(\")와 작은따옴표(') 모두를 포함하거나, 여러 행의 문자열을 나열하거나, 문자열을 입력한 상태 그대로 출력하려면 문자열 전체를 큰따옴표 세 개나 작은따옴표 세 개로 감쌉니다."
      ]
    },
    {
      "cell_type": "code",
      "metadata": {
        "colab": {
          "base_uri": "https://localhost:8080/"
        },
        "id": "TkA9G5tvb2Jr",
        "outputId": "8e066e3d-ed92-466a-f119-ca92faeec238"
      },
      "source": [
        "string = '''문자열에 큰따옴표(\")와 작은따옴표(') 모두를 포함하거나,\n",
        "여러 행의 문장을 나열하거나,\n",
        "문장을 입력한 상태 그대로 출력하려면\n",
        "문자열 전체를 큰따옴표 세 개나 작은따옴표 세 개로 감쌉니다.'''\n",
        "print(string)"
      ],
      "execution_count": null,
      "outputs": [
        {
          "output_type": "stream",
          "name": "stdout",
          "text": [
            "문자열에 큰따옴표(\")와 작은따옴표(') 모두를 포함하거나,\n",
            "여러 행의 문장을 나열하거나,\n",
            "문장을 입력한 상태 그대로 출력하려면\n",
            "문자열 전체를 큰따옴표 세 개나 작은따옴표 세 개로 감쌉니다.\n"
          ]
        }
      ]
    },
    {
      "cell_type": "markdown",
      "metadata": {
        "id": "NqtkJUDbS0Jx"
      },
      "source": [
        "## **5.1. 부분 문자열로 나누기**"
      ]
    },
    {
      "cell_type": "markdown",
      "metadata": {
        "id": "hsBUG-HQTCmG"
      },
      "source": [
        "기존 문자열을 부분으로 나눠서 리스트화하려면 `split()` 함수를 사용합니다."
      ]
    },
    {
      "cell_type": "code",
      "metadata": {
        "colab": {
          "base_uri": "https://localhost:8080/"
        },
        "id": "Nlflocj_TLjP",
        "outputId": "636e6908-955d-4d88-ac81-1eeb61085a5a"
      },
      "source": [
        "colors = 'red, blue, yellow, pink'\n",
        "colors.split()"
      ],
      "execution_count": null,
      "outputs": [
        {
          "output_type": "execute_result",
          "data": {
            "text/plain": [
              "['red,', 'blue,', 'yellow,', 'pink']"
            ]
          },
          "metadata": {},
          "execution_count": 19
        }
      ]
    },
    {
      "cell_type": "markdown",
      "metadata": {
        "id": "z4CC3_k7UWt3"
      },
      "source": [
        "변수에 할당하지 않고 바로 전달해도 됩니다."
      ]
    },
    {
      "cell_type": "code",
      "metadata": {
        "colab": {
          "base_uri": "https://localhost:8080/"
        },
        "id": "mBQvDH_nUYV8",
        "outputId": "c87d75e6-93c0-48ff-a261-d52de2e3ef62"
      },
      "source": [
        "'red, blue, yellow, pink'.split()"
      ],
      "execution_count": null,
      "outputs": [
        {
          "output_type": "execute_result",
          "data": {
            "text/plain": [
              "['red,', 'blue,', 'yellow,', 'pink']"
            ]
          },
          "metadata": {},
          "execution_count": 20
        }
      ]
    },
    {
      "cell_type": "markdown",
      "metadata": {
        "id": "ajdkEd1fTm9o"
      },
      "source": [
        "'red,'처럼 쉼표(,)까지 하나의 부분으로 처리됐습니다. 여기에서 `split()` 함수에 `sep` 매개변수를 `','`로 지정하면 쉼표는 제외하고 처리합니다. `sep` 매개변수의 sep는 seperator(구분자)의 약자입니다. 참고로 `sep`를 생략하고 `','`만 지정한 `split(',')`도 가능합니다."
      ]
    },
    {
      "cell_type": "code",
      "metadata": {
        "colab": {
          "base_uri": "https://localhost:8080/"
        },
        "id": "JMi-sk78UBtn",
        "outputId": "e845b551-9ac0-4b65-acbd-4ac4354d98f6"
      },
      "source": [
        "colors.split(sep=',')"
      ],
      "execution_count": null,
      "outputs": [
        {
          "output_type": "execute_result",
          "data": {
            "text/plain": [
              "['red', ' blue', ' yellow', ' pink']"
            ]
          },
          "metadata": {},
          "execution_count": 21
        }
      ]
    },
    {
      "cell_type": "markdown",
      "metadata": {
        "id": "lTwGPSaPVmjo"
      },
      "source": [
        "공백으로 구분된 경우에도 적용할 수 있습니다. 인자를 `' '`로 지정해도 되고 안 해도 괜찮습니다. 다만 한 칸 공백이 아닌 모든 종류의 공백의 경우는 인자로 아무것도 지정하지 않아야 합니다."
      ]
    },
    {
      "cell_type": "code",
      "metadata": {
        "colab": {
          "base_uri": "https://localhost:8080/"
        },
        "id": "Xv8z5_htV7gH",
        "outputId": "7a5b851c-2f5b-48e4-9afc-bef988c5082a"
      },
      "source": [
        "colors_blank = 'red blue yellow pink'\n",
        "colors_blank.split()"
      ],
      "execution_count": null,
      "outputs": [
        {
          "output_type": "execute_result",
          "data": {
            "text/plain": [
              "['red', 'blue', 'yellow', 'pink']"
            ]
          },
          "metadata": {},
          "execution_count": 22
        }
      ]
    },
    {
      "cell_type": "code",
      "metadata": {
        "colab": {
          "base_uri": "https://localhost:8080/"
        },
        "id": "5GaM3NH0Wnb_",
        "outputId": "d4aab023-c256-4c59-a87a-cfb18bd36e9b"
      },
      "source": [
        "colors_blank_f = 'red   blue  yellow \\n pink   \\n\\n\\n'\n",
        "colors_blank.split()"
      ],
      "execution_count": null,
      "outputs": [
        {
          "output_type": "execute_result",
          "data": {
            "text/plain": [
              "['red', 'blue', 'yellow', 'pink']"
            ]
          },
          "metadata": {},
          "execution_count": 23
        }
      ]
    },
    {
      "cell_type": "markdown",
      "metadata": {
        "id": "VFzKfGgfW3Dk"
      },
      "source": [
        "`maxsplit` 매개변수에 값을 지정해서 원하는 만큼 분리할 수 있습니다."
      ]
    },
    {
      "cell_type": "code",
      "metadata": {
        "colab": {
          "base_uri": "https://localhost:8080/"
        },
        "id": "y7Sa4tS1GpEs",
        "outputId": "9c9c1045-e4c9-4e02-dd12-4250e1c66238"
      },
      "source": [
        "colors = 'red blue yellow pink'\n",
        "print(colors.split(maxsplit=1))\n",
        "print(colors.split(maxsplit=2))"
      ],
      "execution_count": null,
      "outputs": [
        {
          "output_type": "stream",
          "name": "stdout",
          "text": [
            "['red', 'blue yellow pink']\n",
            "['red', 'blue', 'yellow pink']\n"
          ]
        }
      ]
    },
    {
      "cell_type": "markdown",
      "metadata": {
        "id": "0DQQXDn1HJHD"
      },
      "source": [
        "`maxsplit` 매개변수와 `sep` 매개변수에 값을 지정하면 전화번호를 분리하는 데 유용합니다."
      ]
    },
    {
      "cell_type": "code",
      "metadata": {
        "colab": {
          "base_uri": "https://localhost:8080/"
        },
        "id": "CLrl2fgDHXJO",
        "outputId": "aa091af0-9bde-4299-beef-eec86a856113"
      },
      "source": [
        "p_num = '+82-031-1234-5678'\n",
        "split_p_num = p_num.split('-')\n",
        "print(\"'-' 사용:\", split_p_num)\n",
        "split_p_num = p_num.split('-', maxsplit=1)\n",
        "print(\"'-'와 maxsplit=1 사용:\", split_p_num)\n",
        "print('집 전화번호: {}'.format(split_p_num[1]))"
      ],
      "execution_count": null,
      "outputs": [
        {
          "output_type": "stream",
          "name": "stdout",
          "text": [
            "'-' 사용: ['+82', '031', '1234', '5678']\n",
            "'-'와 maxsplit=1 사용: ['+82', '031-1234-5678']\n",
            "집 전화번호: 031-1234-5678\n"
          ]
        }
      ]
    },
    {
      "cell_type": "markdown",
      "metadata": {
        "id": "YbTGCJaBIjwq"
      },
      "source": [
        "## **5.2. 문자열 삭제하기**"
      ]
    },
    {
      "cell_type": "markdown",
      "metadata": {
        "id": "6v0BQX4cIoTs"
      },
      "source": [
        "[링크 텍스트](https://)앞과 뒤 공백이나 개행열을 삭제하려면 `strip()` 함수를 사용합니다. 'strip'의 사전적 의미는 '벗겨내기'이므로, 이 함수는 앞뒤의 바깥 원소부터 하나씩 삭제합니다.\n",
        "\n",
        "아래 예시로 설명을 이어갑니다. "
      ]
    },
    {
      "cell_type": "markdown",
      "metadata": {
        "id": "4cJ7lMrpiA-p"
      },
      "source": [
        "함수 안에 삭제하려는 문자를 넣습니다. 그러면 앞뒤의 모든 해당 문자를 삭제합니다."
      ]
    },
    {
      "cell_type": "code",
      "metadata": {
        "colab": {
          "base_uri": "https://localhost:8080/",
          "height": 35
        },
        "id": "P8k8xvefL_qu",
        "outputId": "8ccad678-7f82-4b1d-a966-2a165bbf05da"
      },
      "source": [
        "strip1 = 'gggabcdefgggggggg' \n",
        "strip1.strip('g')"
      ],
      "execution_count": null,
      "outputs": [
        {
          "output_type": "execute_result",
          "data": {
            "application/vnd.google.colaboratory.intrinsic+json": {
              "type": "string"
            },
            "text/plain": [
              "'abcdef'"
            ]
          },
          "metadata": {},
          "execution_count": 26
        }
      ]
    },
    {
      "cell_type": "markdown",
      "metadata": {
        "id": "nLdEWA3ENEqp"
      },
      "source": [
        "다만 아래와 같은 형태는 앞의 'g'만 삭제합니다. 뒤에 'h'가 있으므로 'g'까지 접근하지 못합니다."
      ]
    },
    {
      "cell_type": "code",
      "metadata": {
        "colab": {
          "base_uri": "https://localhost:8080/",
          "height": 35
        },
        "id": "hgjQup-DNcRu",
        "outputId": "ffc9e1f6-fdd2-445a-f6a0-0c08b3127c16"
      },
      "source": [
        "strip2 = 'gggabcdefgggggggghh'\n",
        "strip2.strip('g')"
      ],
      "execution_count": null,
      "outputs": [
        {
          "output_type": "execute_result",
          "data": {
            "application/vnd.google.colaboratory.intrinsic+json": {
              "type": "string"
            },
            "text/plain": [
              "'abcdefgggggggghh'"
            ]
          },
          "metadata": {},
          "execution_count": 27
        }
      ]
    },
    {
      "cell_type": "markdown",
      "metadata": {
        "id": "1baTXtkNNlXz"
      },
      "source": [
        "이 상황에서는 'h'를 삭제하고 'g'를 삭제하면 됩니다."
      ]
    },
    {
      "cell_type": "code",
      "metadata": {
        "colab": {
          "base_uri": "https://localhost:8080/"
        },
        "id": "kP87gLTlNuym",
        "outputId": "3c3eecaf-ee39-4e92-d12a-5c58a653b3cd"
      },
      "source": [
        "strip2 = 'gggabcdefgggggggghh'\n",
        "# 순서는 무관합니다.\n",
        "print(strip2.strip('gh'))\n",
        "print(strip2.strip('hg'))"
      ],
      "execution_count": null,
      "outputs": [
        {
          "output_type": "stream",
          "name": "stdout",
          "text": [
            "abcdef\n",
            "abcdef\n"
          ]
        }
      ]
    },
    {
      "cell_type": "markdown",
      "metadata": {
        "id": "_mNql1mdOAX8"
      },
      "source": [
        "'f'만 남기겠습니다. 'f'까지 접근하려면 'f' 주변의 모든 원소를 하나씩 `strip()` 함수에 포함시켜야 합니다."
      ]
    },
    {
      "cell_type": "code",
      "metadata": {
        "colab": {
          "base_uri": "https://localhost:8080/"
        },
        "id": "wMIWDhsQODXR",
        "outputId": "989c8862-9f3a-4a41-cdbd-5b824d79d268"
      },
      "source": [
        "strip3 = '!@#$%gggabc   !@#$%defggg gggg     ghh  \\n'\n",
        "# '\\n'을 제외하고 벗겨내면 앞만 벗겨내고 뒤는 벗겨내지 못합니다.\n",
        "print(strip3.strip('@$#%!badcegh '))\n",
        "# '\\n'을 포함시키면 뒤까지 벗겨냅니다.\n",
        "print(strip3.strip('@$#%!badcegh \\n'))"
      ],
      "execution_count": null,
      "outputs": [
        {
          "output_type": "stream",
          "name": "stdout",
          "text": [
            "fggg gggg     ghh  \n",
            "\n",
            "f\n"
          ]
        }
      ]
    },
    {
      "cell_type": "markdown",
      "metadata": {
        "id": "9YzBfoyijWx6"
      },
      "source": [
        "공백과 개행문자(\\n)를 제거하려면 `strip()` 함수 내에 값을 생략해도 됩니다."
      ]
    },
    {
      "cell_type": "code",
      "metadata": {
        "colab": {
          "base_uri": "https://localhost:8080/",
          "height": 35
        },
        "id": "Fs19ft5bjfc7",
        "outputId": "f5d289e4-4243-4600-8023-adc7e27d5a6c"
      },
      "source": [
        "strip4 = '  apple\\n  \\n\\n'\n",
        "strip4.strip()"
      ],
      "execution_count": null,
      "outputs": [
        {
          "output_type": "execute_result",
          "data": {
            "application/vnd.google.colaboratory.intrinsic+json": {
              "type": "string"
            },
            "text/plain": [
              "'apple'"
            ]
          },
          "metadata": {},
          "execution_count": 30
        }
      ]
    },
    {
      "cell_type": "markdown",
      "metadata": {
        "id": "SGLJza5RjzrU"
      },
      "source": [
        "참고로 `lstrip()` 함수는 문자열 왼쪽, `rstrip()` 함수는 문자열 오른쪽을 삭제합니다. 예시는 생략합니다."
      ]
    },
    {
      "cell_type": "markdown",
      "metadata": {
        "id": "8VOMK0Wrki4N"
      },
      "source": [
        "`split()` 함수와 `strip()` 함수를 함께 사용해서 앞 뒤 공백이 불규칙적으로 배열된 원소들의 리스트를 정돈하겠습니다."
      ]
    },
    {
      "cell_type": "code",
      "metadata": {
        "colab": {
          "base_uri": "https://localhost:8080/"
        },
        "id": "N6RVHA0fli5Q",
        "outputId": "b2cd61df-4ac1-479f-cefd-871165a721ba"
      },
      "source": [
        "fruits = '  apple, banana  ,   grape   ,  strawberry, pear   '\n",
        "fruits_list = fruits.split(',')\n",
        "print(fruits_list)"
      ],
      "execution_count": null,
      "outputs": [
        {
          "output_type": "stream",
          "name": "stdout",
          "text": [
            "['  apple', ' banana  ', '   grape   ', '  strawberry', ' pear   ']\n"
          ]
        }
      ]
    },
    {
      "cell_type": "code",
      "metadata": {
        "colab": {
          "base_uri": "https://localhost:8080/"
        },
        "id": "XMo3X1ZtmBwR",
        "outputId": "92c21c90-c0be-443d-fd32-214c3fd15e30"
      },
      "source": [
        "fruits_list_fin = []\n",
        "\n",
        "for fruits in fruits_list:\n",
        "    fruits_strip = fruits.strip()\n",
        "    # `append()` 함수는 오른쪽(마지막)에 원소를 추가하는 함수입니다.\n",
        "    # 자세한 설명은 리스트 파트에서 정리합니다.\n",
        "    fruits_list_fin.append(fruits_strip)\n",
        "\n",
        "print(fruits_list_fin) "
      ],
      "execution_count": null,
      "outputs": [
        {
          "output_type": "stream",
          "name": "stdout",
          "text": [
            "['apple', 'banana', 'grape', 'strawberry', 'pear']\n"
          ]
        }
      ]
    },
    {
      "cell_type": "markdown",
      "metadata": {
        "id": "UXKS_nW-m9Xm"
      },
      "source": [
        "## **5.3. 문자열 연결하기**"
      ]
    },
    {
      "cell_type": "markdown",
      "metadata": {
        "id": "H65pYISdnBAm"
      },
      "source": [
        "문자열을 연결하는 방법은 '+' 연산자를 사용하는 방법과 `join()` 함수를 사용하는 방법이 있습니다.\n",
        "\n",
        "먼저 '+' 연산자를 사용하는 방법에 대한 예시입니다."
      ]
    },
    {
      "cell_type": "code",
      "metadata": {
        "colab": {
          "base_uri": "https://localhost:8080/"
        },
        "id": "4ZlYPZFlnRdj",
        "outputId": "784a2672-542b-4174-9cf4-1fc219530e41"
      },
      "source": [
        " fruits = ['apple', 'banana', 'grape', 'strawberry', 'pear']\n",
        " favorite = '는 내가 제일 좋아하는 과일이지.'\n",
        " print(fruits[3] + favorite)"
      ],
      "execution_count": null,
      "outputs": [
        {
          "output_type": "stream",
          "name": "stdout",
          "text": [
            "strawberry는 내가 제일 좋아하는 과일이지.\n"
          ]
        }
      ]
    },
    {
      "cell_type": "markdown",
      "metadata": {
        "id": "awAU-cOGoFQe"
      },
      "source": [
        "`join()` 함수를 사용하면 리스트의 모든 원소를 연결할 수 있습니다."
      ]
    },
    {
      "cell_type": "code",
      "metadata": {
        "colab": {
          "base_uri": "https://localhost:8080/",
          "height": 35
        },
        "id": "B76FvuuGoMqF",
        "outputId": "c2c222ab-8a08-4c15-ea94-6dd788e36865"
      },
      "source": [
        "favorites = '를 좋아하고, '\n",
        "favorites.join(fruits)"
      ],
      "execution_count": null,
      "outputs": [
        {
          "output_type": "execute_result",
          "data": {
            "application/vnd.google.colaboratory.intrinsic+json": {
              "type": "string"
            },
            "text/plain": [
              "'apple를 좋아하고, banana를 좋아하고, grape를 좋아하고, strawberry를 좋아하고, pear'"
            ]
          },
          "metadata": {},
          "execution_count": 34
        }
      ]
    },
    {
      "cell_type": "markdown",
      "metadata": {
        "id": "xgGnGFvBooEy"
      },
      "source": [
        "마지막 원소에는 '를 좋아하고, '라는 문자열이 연결되지 않았습니다. 마지막 원소이므로 다음 원소를 이을 필요가 없습니다. 문장을 마무리하기 위해 '+' 연산자를 사용하여 '를 좋아하지.'를 연결하겠습니다."
      ]
    },
    {
      "cell_type": "code",
      "metadata": {
        "colab": {
          "base_uri": "https://localhost:8080/",
          "height": 35
        },
        "id": "PIMoQ55qp7-1",
        "outputId": "791785fb-ecc6-4f6d-ddf7-c2651624bef6"
      },
      "source": [
        " favorites.join(fruits) + '를 좋아하지.'"
      ],
      "execution_count": null,
      "outputs": [
        {
          "output_type": "execute_result",
          "data": {
            "application/vnd.google.colaboratory.intrinsic+json": {
              "type": "string"
            },
            "text/plain": [
              "'apple를 좋아하고, banana를 좋아하고, grape를 좋아하고, strawberry를 좋아하고, pear를 좋아하지.'"
            ]
          },
          "metadata": {},
          "execution_count": 35
        }
      ]
    },
    {
      "cell_type": "markdown",
      "metadata": {
        "id": "1hR7n-qgqCMP"
      },
      "source": [
        "`join()` 함수와 관련된 몇 가지 예를 더 들겠습니다."
      ]
    },
    {
      "cell_type": "code",
      "metadata": {
        "colab": {
          "base_uri": "https://localhost:8080/"
        },
        "id": "Fnut4pAYo9Mz",
        "outputId": "783453ff-6ae4-4597-8d74-24122d0b8ae4"
      },
      "source": [
        "loc = ['경기도', '성남시', '분당구', '정자일로']\n",
        "blank = ' '\n",
        "print(blank.join(loc))\n",
        "print(' '.join(loc))"
      ],
      "execution_count": null,
      "outputs": [
        {
          "output_type": "stream",
          "name": "stdout",
          "text": [
            "경기도 성남시 분당구 정자일로\n",
            "경기도 성남시 분당구 정자일로\n"
          ]
        }
      ]
    },
    {
      "cell_type": "markdown",
      "metadata": {
        "id": "8jBnjCOUpdnn"
      },
      "source": [
        "## **5.4. 문자열 검색하기**"
      ]
    },
    {
      "cell_type": "markdown",
      "metadata": {
        "id": "OspOmQrN9Vsf"
      },
      "source": [
        "`find()` 함수를 사용하여 지정한 문자열과 일치하는 처음 문자열의 시작 위치를 알 수 있습니다. "
      ]
    },
    {
      "cell_type": "code",
      "metadata": {
        "colab": {
          "base_uri": "https://localhost:8080/"
        },
        "id": "tUcN1LWrtV0P",
        "outputId": "e7f84773-b61d-454b-fa0e-478765a0f03e"
      },
      "source": [
        "string_love = 'I love you. You love me. Wow!'\n",
        "print('I의 처음 위치:', string_love.find('I'))\n",
        "print('공백의 처음 위치:', string_love.find(' '))\n",
        "print('l의 처음 위치:', string_love.find('l'))\n",
        "print('lo의 처음 위치:', string_love.find('lo'))\n",
        "# 처음 발견하는 'o'의 위치를 반환합니다.\n",
        "print('o의 처음 위치:', string_love.find('o'))\n",
        "print('y의 처음 위치:', string_love.find('y'))\n",
        "print('you의 처음 위치:', string_love.find('you'))"
      ],
      "execution_count": null,
      "outputs": [
        {
          "output_type": "stream",
          "name": "stdout",
          "text": [
            "I의 처음 위치: 0\n",
            "공백의 처음 위치: 1\n",
            "l의 처음 위치: 2\n",
            "lo의 처음 위치: 2\n",
            "o의 처음 위치: 3\n",
            "y의 처음 위치: 7\n",
            "you의 처음 위치: 7\n"
          ]
        }
      ]
    },
    {
      "cell_type": "markdown",
      "metadata": {
        "id": "hieeos1Dx3WR"
      },
      "source": [
        "검색 범위의 시작 위치와 끝 위치를 지정할 수도 있습니다. 끝 위치 - 1까지 검색하며, 단어 검색에 실패하면 -1을 반환합니다."
      ]
    },
    {
      "cell_type": "code",
      "metadata": {
        "colab": {
          "base_uri": "https://localhost:8080/"
        },
        "id": "btOmlO6tyDXC",
        "outputId": "e8d5b021-84e6-4ea6-9331-6196e96bc1ee"
      },
      "source": [
        "string_love = 'I love you. You love me. Wow!'\n",
        "print(\"7 ~ 49 중에 첫 'love'의 위치는?\", string_love.find('love', 7, 50))\n",
        "print(\"0 ~ 49 중에 첫 'love'의 위치는?\", string_love.find('love', 0, 50))\n",
        "# 끝 위치를 생략하거나 '-1'을 지정하면 문자열 끝의 위치를 의미합니다.\n",
        "print(\"7 ~ 끝 중에 첫 'love'의 위치는?\", string_love.find('love', 7))\n",
        "print(\"7 ~ 끝(-1) 중에 첫 'love'의 위치는?\", string_love.find('love', 7, -1))\n",
        "# 아무것도 찾지 못하면 -1을 반환합니다.\n",
        "print(\"못 찾았군요?\", string_love.find('love', 17))"
      ],
      "execution_count": null,
      "outputs": [
        {
          "output_type": "stream",
          "name": "stdout",
          "text": [
            "7 ~ 49 중에 첫 'love'의 위치는? 16\n",
            "0 ~ 49 중에 첫 'love'의 위치는? 2\n",
            "7 ~ 끝 중에 첫 'love'의 위치는? 16\n",
            "7 ~ 끝(-1) 중에 첫 'love'의 위치는? 16\n",
            "못 찾았군요? -1\n"
          ]
        }
      ]
    },
    {
      "cell_type": "markdown",
      "metadata": {
        "id": "AWa39YFk6I3U"
      },
      "source": [
        "문자열에서 검색 대상인 문자열의 등장 횟수는 `count()` 함수로 출력할 수 있습니다. 이 함수 역시 검색 범위의 시작 위치와 끝 위치를 지정할 수 있습니다."
      ]
    },
    {
      "cell_type": "code",
      "metadata": {
        "colab": {
          "base_uri": "https://localhost:8080/"
        },
        "id": "jpM9aUcl6fXp",
        "outputId": "8bb67e84-26d8-4c8a-9f76-6cb0400b6809"
      },
      "source": [
        "string_love = 'I love you. You love me. Wow!'\n",
        "print(\"'love'의 개수는 몇 개?\", string_love.count('love'))\n",
        "print(\"'love'의 개수는 몇 개?\", string_love.count('love', 3))\n",
        "print(\"'o'의 개수는 몇 개?\", string_love.count('o'))\n",
        "print(\"'o'의 개수는 몇 개?\", string_love.count('o', 5, 10))\n",
        "print(\"'e'의 개수는 몇 개?\", string_love.count('e', 23))"
      ],
      "execution_count": null,
      "outputs": [
        {
          "output_type": "stream",
          "name": "stdout",
          "text": [
            "'love'의 개수는 몇 개? 2\n",
            "'love'의 개수는 몇 개? 1\n",
            "'o'의 개수는 몇 개? 5\n",
            "'o'의 개수는 몇 개? 1\n",
            "'e'의 개수는 몇 개? 0\n"
          ]
        }
      ]
    },
    {
      "cell_type": "markdown",
      "metadata": {
        "id": "Ko782Gm-71PX"
      },
      "source": [
        "`startswith()` 함수와 `endswith()` 함수로 각각 시작과 끝의 문자열이 지정한 문자열과 같은지 True와 False로 알 수 있습니다."
      ]
    },
    {
      "cell_type": "code",
      "metadata": {
        "colab": {
          "base_uri": "https://localhost:8080/"
        },
        "id": "9y5RLaqb8jFm",
        "outputId": "c62275ac-abda-4548-ff27-4a722322f9f7"
      },
      "source": [
        "string_love = 'I love you. You love me. Wow!'\n",
        "print(\"'I'로 시작?\", string_love.startswith('I'))\n",
        "print(\"'love'로 시작?\", string_love.startswith('Iove'))\n",
        "print(\"'!'로 끝?\", string_love.endswith('!'))\n",
        "print(\"' '로 끝?\", string_love.endswith(' '))"
      ],
      "execution_count": null,
      "outputs": [
        {
          "output_type": "stream",
          "name": "stdout",
          "text": [
            "'I'로 시작? True\n",
            "'love'로 시작? False\n",
            "'!'로 끝? True\n",
            "' '로 끝? False\n"
          ]
        }
      ]
    },
    {
      "cell_type": "markdown",
      "metadata": {
        "id": "D-uPCDQ0qaLp"
      },
      "source": [
        "## **5.5. 문자열 변경하기**"
      ]
    },
    {
      "cell_type": "markdown",
      "metadata": {
        "id": "YIkwEcXi9vq7"
      },
      "source": [
        "`replace()` 함수로 지정한 문자열로 변경할 수 있습니다.\n",
        "\n",
        "형식은 아래와 같습니다.\n",
        "\n",
        "`문자열.replace('바꿀 문자열', '새로운 문자열'[, 횟수])`\n",
        "\n",
        "여기에서 횟수는 생략할 수 있습니다."
      ]
    },
    {
      "cell_type": "code",
      "metadata": {
        "colab": {
          "base_uri": "https://localhost:8080/"
        },
        "id": "vwG6XwkV93XA",
        "outputId": "992b8242-9f87-4750-d590-c99bb34fbfe8"
      },
      "source": [
        "string_love1 = 'I love you. You love me. We love you. What?'\n",
        "print(string_love1.replace('love', 'hate'))\n",
        "print(string_love1.replace('love', 'hate', 2))"
      ],
      "execution_count": null,
      "outputs": [
        {
          "output_type": "stream",
          "name": "stdout",
          "text": [
            "I hate you. You hate me. We hate you. What?\n",
            "I hate you. You hate me. We love you. What?\n"
          ]
        }
      ]
    },
    {
      "cell_type": "markdown",
      "metadata": {
        "id": "lc4h8bN1_NpV"
      },
      "source": [
        "문자열을 삭제할 때도 `replace()` 함수를 활용할 수 있습니다. "
      ]
    },
    {
      "cell_type": "code",
      "metadata": {
        "colab": {
          "base_uri": "https://localhost:8080/"
        },
        "id": "lFhAfYSj_Tgc",
        "outputId": "c1383475-1179-4f06-d57b-832f98a3243b"
      },
      "source": [
        "string_love_del = '-I; -love; -you.;'\n",
        "\n",
        "string_love_del1 = string_love_del.replace('-', '')\n",
        "print(\"'-'를 제거하면:\", string_love_del1)\n",
        "\n",
        "string_love_del2 = string_love_del1.replace(';', '')\n",
        "print(\"';'를 제거하면:\", string_love_del2)"
      ],
      "execution_count": null,
      "outputs": [
        {
          "output_type": "stream",
          "name": "stdout",
          "text": [
            "'-'를 제거하면: I; love; you.;\n",
            "';'를 제거하면: I love you.\n"
          ]
        }
      ]
    },
    {
      "cell_type": "markdown",
      "metadata": {
        "id": "_PCnLhcNAd9o"
      },
      "source": [
        "대소문자로 바꾸려면 각각 `upper()` 함수와 `lower()` 함수를 사용합니다."
      ]
    },
    {
      "cell_type": "code",
      "metadata": {
        "colab": {
          "base_uri": "https://localhost:8080/"
        },
        "id": "mlNpu-OyAkou",
        "outputId": "e7fd9291-cadc-4a8f-8df1-579cf3086158"
      },
      "source": [
        "print(string_love.upper())\n",
        "print(string_love.lower())"
      ],
      "execution_count": null,
      "outputs": [
        {
          "output_type": "stream",
          "name": "stdout",
          "text": [
            "I LOVE YOU. YOU LOVE ME. WOW!\n",
            "i love you. you love me. wow!\n"
          ]
        }
      ]
    },
    {
      "cell_type": "markdown",
      "metadata": {
        "id": "731fGWa7qhy3"
      },
      "source": [
        "## **5.6. 문자열 확인하기**"
      ]
    },
    {
      "cell_type": "markdown",
      "metadata": {
        "id": "BawumUTqBAZ1"
      },
      "source": [
        "문자열의 구성 요소를 확인하는 방법에 대해 설명합니다. \n",
        "\n",
        "아래는 관련된 함수의 목록입니다. 모든 형식은 `문자열.함수`입니다.\n",
        "\n",
        "- `isdigit()`: 숫자로만 구성되었는지 여부를 확인합니다.\n",
        "\n",
        "- `isalnum()`: 문자와 숫자로만 구성되었는지 여부를 확인합니다. 특수 문자나 공백이 포함되면 False입니다.\n",
        "\n",
        "- `isalpha()`: 문자로만 구성되었는지 여부를 확인합니다.\n",
        "\n",
        "- `isupper()`, `islower()`: 로마자 대문자, 로마자 소문자로만 구성되었는지 여부를 확인합니다.\n",
        "\n",
        "- `isspace()`: 공백으로만 구성되었는지 여부를 확인합니다."
      ]
    },
    {
      "cell_type": "markdown",
      "metadata": {
        "id": "T2uFAf9jCrU3"
      },
      "source": [
        "몇 가지 예시를 듭니다."
      ]
    },
    {
      "cell_type": "code",
      "metadata": {
        "colab": {
          "base_uri": "https://localhost:8080/"
        },
        "id": "BZmVHpdtCotV",
        "outputId": "0cea7708-e217-4114-98c5-96f374cf7415"
      },
      "source": [
        "print(\"'love'는 숫자로만 구성되었는가?\", 'love'.isdigit())\n",
        "print(\"'love'는 문자로만 구성되었는가?\",'love'.isalpha())\n",
        "print(\"'love'는 대문자로만 구성되었는가?\",'love'.isupper())\n",
        "print(\"'love'는 소문자로만 구성되었는가?\",'love'.islower())\n",
        "print(\"'love'는 문자와 숫자로만 구성되었는가?\", 'love'.isalnum())\n",
        "print(\"'My love'는 문자와 숫자로만 구성되었는가?\", 'My love'.isalnum())\n",
        "print(\"'My love!!'는 문자와 숫자로만 구성되었는가?\", 'My love!!'.isalnum())"
      ],
      "execution_count": null,
      "outputs": [
        {
          "output_type": "stream",
          "name": "stdout",
          "text": [
            "'love'는 숫자로만 구성되었는가? False\n",
            "'love'는 문자로만 구성되었는가? True\n",
            "'love'는 대문자로만 구성되었는가? False\n",
            "'love'는 소문자로만 구성되었는가? True\n",
            "'love'는 문자와 숫자로만 구성되었는가? True\n",
            "'My love'는 문자와 숫자로만 구성되었는가? False\n",
            "'My love!!'는 문자와 숫자로만 구성되었는가? False\n"
          ]
        }
      ]
    },
    {
      "cell_type": "markdown",
      "metadata": {
        "id": "_97pf-8ncgp4"
      },
      "source": [
        "# **6. 리스트**\n",
        "\n",
        "\n"
      ]
    },
    {
      "cell_type": "markdown",
      "metadata": {
        "id": "-45TXzdkR83v"
      },
      "source": [
        "## **6.1. 인덱싱**"
      ]
    },
    {
      "cell_type": "markdown",
      "metadata": {
        "id": "8k45lV6mcZa4"
      },
      "source": [
        "리스트에서 인덱스의 범위를 지정해서 항목 일부만 가져오는 방법을 설명하겠습니다. \n",
        "\n",
        "```\n",
        "리스트[start:end]\n",
        "리스트[start:end:step]\n",
        "```   \n",
        "\n",
        "파이썬은 숫자 1이 아닌 숫자 0을 지정하면 첫 번째 원소부터 가져옵니다. 따라서 start부터 end-1까지 원소를 가져오게 됩니다. start를 생략하면 0으로 간주하고, end를 생략하면 마지막 숫자로 간주합니다. 추가로 step를 지정하면 증가하는 정도(지정한 숫자)만큼 건너뛰면서 원소를 가져옵니다. 음수로 지정하면 역순으로 가져옵니다."
      ]
    },
    {
      "cell_type": "code",
      "metadata": {
        "colab": {
          "base_uri": "https://localhost:8080/"
        },
        "id": "hMI1gm2GkeWr",
        "outputId": "7f342321-9b74-455f-877e-e5da0bc2c69e"
      },
      "source": [
        "a = [0, 1, 2, 3, 4, 5, 6, 7, 8, 9]\n",
        "print('a[0:4]:', a[0:4])\n",
        "print('a[3:9]:', a[3:9])\n",
        "print('a[:5]:', a[:5])\n",
        "print('a[5:]:', a[5:])\n",
        "print('a[::2]:', a[::2])\n",
        "print('a[::3]:', a[::3])\n",
        "print('a[::-1]:', a[::-1])\n",
        "print('a[6::-1]:', a[6::-1])\n",
        "print('a[:5:-1]:', a[:5:-1])"
      ],
      "execution_count": null,
      "outputs": [
        {
          "output_type": "stream",
          "name": "stdout",
          "text": [
            "a[0:4]: [0, 1, 2, 3]\n",
            "a[3:9]: [3, 4, 5, 6, 7, 8]\n",
            "a[:5]: [0, 1, 2, 3, 4]\n",
            "a[5:]: [5, 6, 7, 8, 9]\n",
            "a[::2]: [0, 2, 4, 6, 8]\n",
            "a[::3]: [0, 3, 6, 9]\n",
            "a[::-1]: [9, 8, 7, 6, 5, 4, 3, 2, 1, 0]\n",
            "a[6::-1]: [6, 5, 4, 3, 2, 1, 0]\n",
            "a[:5:-1]: [9, 8, 7, 6]\n"
          ]
        }
      ]
    },
    {
      "cell_type": "markdown",
      "metadata": {
        "id": "nYllbFnISDLt"
      },
      "source": [
        "## **6.2. 원소 삭제하기**"
      ]
    },
    {
      "cell_type": "markdown",
      "metadata": {
        "id": "ixKf7tpwqWLK"
      },
      "source": [
        "인덱스가 i인 원소를 제거하려면 `del 리스트명[i]`를 코딩합니다."
      ]
    },
    {
      "cell_type": "code",
      "metadata": {
        "colab": {
          "base_uri": "https://localhost:8080/"
        },
        "id": "u-bXDbM9qtVZ",
        "outputId": "77a1aa40-0222-4ef5-d8f9-68aea46a66e9"
      },
      "source": [
        "del a[4]\n",
        "print(a)"
      ],
      "execution_count": null,
      "outputs": [
        {
          "output_type": "stream",
          "name": "stdout",
          "text": [
            "[0, 1, 2, 3, 5, 6, 7, 8, 9]\n"
          ]
        }
      ]
    },
    {
      "cell_type": "markdown",
      "metadata": {
        "id": "M0tFqasLSyYP"
      },
      "source": [
        "## **6.3. 원소 존재 여부 확인하기**"
      ]
    },
    {
      "cell_type": "markdown",
      "metadata": {
        "id": "IvjdVon-rkNL"
      },
      "source": [
        "리스트에 원소가 존재하는지 여부를 확인하려면 `원소 in 리스트명`을 코딩합니다. 원소가 존재하면 True, 존재하지 않으면 False입니다."
      ]
    },
    {
      "cell_type": "code",
      "metadata": {
        "colab": {
          "base_uri": "https://localhost:8080/"
        },
        "id": "_iWQkPIWr5jt",
        "outputId": "a733b3f0-df59-426f-a9fd-ad8be5991383"
      },
      "source": [
        "b = [0, 1, 2, 3]\n",
        "print('3?', 3 in b)\n",
        "print('4?', 4 in b)"
      ],
      "execution_count": null,
      "outputs": [
        {
          "output_type": "stream",
          "name": "stdout",
          "text": [
            "3? True\n",
            "4? False\n"
          ]
        }
      ]
    },
    {
      "cell_type": "markdown",
      "metadata": {
        "id": "NcrDYORcSw5t"
      },
      "source": [
        "## **6.4. 리스트 함수 적용하기**"
      ]
    },
    {
      "cell_type": "markdown",
      "metadata": {
        "id": "yhm6PEmcswzb"
      },
      "source": [
        "리스트와 관련된 함수를 설명합니다. 리스트에 추가, 삽입, 삭제, 반환, 정렬을 수행할 수 있습니다.\n",
        "\n",
        "아래는 함수 목록입니다.\n",
        "\n",
        "- `append()`: 원소 하나를 마지막에 추가합니다. `리스트.append('원소명')` 형식입니다.\n",
        "\n",
        "- `extend()`: 원소 여러 개를 마지막에 추가합니다. `리스트.extend('원소명', '원소명', ...)` 형식입니다.\n",
        "\n",
        "- `insert()`: 특정 위치에 원소를 삽입합니다. `리스트.insert(삽입 위치, '원소명')` 형식입니다.\n",
        "\n",
        "- `remove()`: 입력값과 일치하는 첫 원소를 삭제합니다. `리스트.remove('원소명')` 형식입니다.\n",
        "\n",
        "- `pop()`: 마지막 원소를 제거하고 반환합니다. `리스트.pop()` 형식입니다.\n",
        "\n",
        "- `index()`: 인자와 일치하는 처음 원소의 위치를 반환합니다. `객체명 = 리스트.index('원소명')` 형식입니다.\n",
        "\n",
        "- `count()`: 인자와 일치하는 원소의 개수를 반환합니다. `객체명 = 리스트.count('원소명')` 형식입니다.\n",
        "\n",
        "- `sort()`: 원소를 순방향으로 정렬합니다. `리스트.sort()` 형식입니다.\n",
        "\n",
        "- `reverse()`: 원소를 역순으로 정렬합니다. `리스트.reverse()` 형식입니다."
      ]
    },
    {
      "cell_type": "markdown",
      "metadata": {
        "id": "BabOvW3NIHrV"
      },
      "source": [
        "`append()` 함수의 예시입니다."
      ]
    },
    {
      "cell_type": "code",
      "metadata": {
        "colab": {
          "base_uri": "https://localhost:8080/"
        },
        "id": "ngC51qUcIPpn",
        "outputId": "2136f707-e34c-40e4-e8f2-8e8f90407c7e"
      },
      "source": [
        "fruits = ['apple', 'banana', 'peach', 'grape']\n",
        "print(fruits)\n",
        "fruits.append('pear')\n",
        "print(\"fruits.append('pear'):\", fruits)"
      ],
      "execution_count": null,
      "outputs": [
        {
          "output_type": "stream",
          "name": "stdout",
          "text": [
            "['apple', 'banana', 'peach', 'grape']\n",
            "fruits.append('pear'): ['apple', 'banana', 'peach', 'grape', 'pear']\n"
          ]
        }
      ]
    },
    {
      "cell_type": "markdown",
      "metadata": {
        "id": "n9fcr8D6JQUW"
      },
      "source": [
        "`extend()` 함수의 예시입니다."
      ]
    },
    {
      "cell_type": "code",
      "metadata": {
        "colab": {
          "base_uri": "https://localhost:8080/"
        },
        "id": "vZeZVyt0JTEj",
        "outputId": "cb66ef2f-1135-4185-d2f5-b0983788ce48"
      },
      "source": [
        "fruits = ['apple', 'banana', 'peach', 'grape']\n",
        "print(fruits)\n",
        "# 리스트로 묶어서 지정해야 합니다.\n",
        "fruits.extend(['pear', 'strawberry'])\n",
        "print(\"fruits.extend(['pear', 'strawberry']):\", fruits)"
      ],
      "execution_count": null,
      "outputs": [
        {
          "output_type": "stream",
          "name": "stdout",
          "text": [
            "['apple', 'banana', 'peach', 'grape']\n",
            "fruits.extend(['pear', 'strawberry']): ['apple', 'banana', 'peach', 'grape', 'pear', 'strawberry']\n"
          ]
        }
      ]
    },
    {
      "cell_type": "markdown",
      "metadata": {
        "id": "Lbo1DPY5IyIF"
      },
      "source": [
        "`insert()` 함수의 예시입니다."
      ]
    },
    {
      "cell_type": "code",
      "metadata": {
        "colab": {
          "base_uri": "https://localhost:8080/"
        },
        "id": "FpsmGdoEI1DD",
        "outputId": "00988e6a-e084-459a-8159-af513c2ac9f9"
      },
      "source": [
        "fruits = ['apple', 'banana', 'peach', 'grape']\n",
        "print(fruits)\n",
        "fruits.insert(0, 'pear')\n",
        "print(\"fruits.insert(0, 'pear')\", fruits)"
      ],
      "execution_count": null,
      "outputs": [
        {
          "output_type": "stream",
          "name": "stdout",
          "text": [
            "['apple', 'banana', 'peach', 'grape']\n",
            "fruits.insert(0, 'pear') ['pear', 'apple', 'banana', 'peach', 'grape']\n"
          ]
        }
      ]
    },
    {
      "cell_type": "markdown",
      "metadata": {
        "id": "IqtPWUMIJKqv"
      },
      "source": [
        "`index()` 함수와 `count()` 함수의 예시입니다."
      ]
    },
    {
      "cell_type": "code",
      "metadata": {
        "colab": {
          "base_uri": "https://localhost:8080/"
        },
        "id": "doEAfUKyI-qC",
        "outputId": "42040371-5b5a-4de6-909f-f281f824efab"
      },
      "source": [
        "fruits_index = fruits.index('peach')\n",
        "print(\"fruits.index('peach'):\", fruits_index)\n",
        "fruits_count = fruits.count('peach')\n",
        "print(\"fruits.count('peach'):\", fruits_count)"
      ],
      "execution_count": null,
      "outputs": [
        {
          "output_type": "stream",
          "name": "stdout",
          "text": [
            "fruits.index('peach'): 3\n",
            "fruits.count('peach'): 1\n"
          ]
        }
      ]
    },
    {
      "cell_type": "markdown",
      "metadata": {
        "id": "qvvRHZbhP6Te"
      },
      "source": [
        "# **7. 튜플**"
      ]
    },
    {
      "cell_type": "markdown",
      "metadata": {
        "id": "CyVJZwV7cff0"
      },
      "source": [
        "튜플은 리스트와 비슷하지만 차이점이 하나 있습니다. 튜플은 한 번 생성하면 추가, 삭제, 변경할 수 없습니다. 따라서 리스트에서 사용하는 함수 중에 원소를 추가, 삭제, 변경하지 않는 함수만 사용할 수 있습니다. 즉 `index()`, `count()` 함수를 사용할 수 있습니다."
      ]
    },
    {
      "cell_type": "markdown",
      "metadata": {
        "id": "qhBjtGjdTE_W"
      },
      "source": [
        "## **7.1. 원소가 하나인 튜플 생성하기**"
      ]
    },
    {
      "cell_type": "markdown",
      "metadata": {
        "id": "p6EIA9a5QWop"
      },
      "source": [
        "원소(인자)를 하나만 가진 튜플을 생성하는 방법을 설명합니다. 튜플이 원소를 하나만 가지려면 원소를 입력하고 뒤에 ','를 붙여야 합니다."
      ]
    },
    {
      "cell_type": "code",
      "metadata": {
        "colab": {
          "base_uri": "https://localhost:8080/"
        },
        "id": "2EBrqHq0Qo8W",
        "outputId": "5ab6c654-3cc6-4186-fbc5-88f429b607a2"
      },
      "source": [
        "tuple1 = (16,)\n",
        "print(tuple1)\n",
        "tuple2 = 16,\n",
        "print(tuple2)"
      ],
      "execution_count": null,
      "outputs": [
        {
          "output_type": "stream",
          "name": "stdout",
          "text": [
            "(16,)\n",
            "(16,)\n"
          ]
        }
      ]
    },
    {
      "cell_type": "markdown",
      "metadata": {
        "id": "uOcYQ6O1RUmw"
      },
      "source": [
        "# **8. 세트**"
      ]
    },
    {
      "cell_type": "markdown",
      "metadata": {
        "id": "HMYX9eWLci4E"
      },
      "source": [
        "세트는 수학의 집합 개념을 실현할 목적으로 만들었습니다. 리스트와 튜플과 유사하며, 리스트에서 쓰이는 함수를 적용할 수 있습니다. 차이점이라면 데이터에 순서가 존재하지 않고 데이터가 중복될 수 없습니다. 아울러 집합과 관련된 개념인 합집합, 차집합, 교집합을 구하는 함수를 사용할 수 있습니다. "
      ]
    },
    {
      "cell_type": "markdown",
      "metadata": {
        "id": "Dg8lH_LxU7n2"
      },
      "source": [
        "## **8.1. 데이터 중복 불가**"
      ]
    },
    {
      "cell_type": "markdown",
      "metadata": {
        "id": "52f6RRe7Ub87"
      },
      "source": [
        "세트에는 데이터가 중복될 수 없습니다."
      ]
    },
    {
      "cell_type": "code",
      "metadata": {
        "colab": {
          "base_uri": "https://localhost:8080/"
        },
        "id": "0enpo9upUnM0",
        "outputId": "4e33a6c5-fa9a-4864-e9a8-d788387dd766"
      },
      "source": [
        "set_1 = {0, 1, 2, 3}\n",
        "print(set_1)\n",
        "set_2 = {0, 0, 1, 1, 2, 3}\n",
        "print(set_2)"
      ],
      "execution_count": null,
      "outputs": [
        {
          "output_type": "stream",
          "name": "stdout",
          "text": [
            "{0, 1, 2, 3}\n",
            "{0, 1, 2, 3}\n"
          ]
        }
      ]
    },
    {
      "cell_type": "markdown",
      "metadata": {
        "id": "I3v9zayOVDNV"
      },
      "source": [
        "## **8.2. 집합 관련 함수 적용하기**"
      ]
    },
    {
      "cell_type": "markdown",
      "metadata": {
        "id": "gvtv2874cmnp"
      },
      "source": [
        "세트1(set1)과 세트2(set2)가 존재한다고 가정하겠습니다.\n",
        "\n",
        "아래는 집합 관련 함수 목록입니다. 형식은 `set1.함수(set2)`입니다.\n",
        "\n",
        "- `union()`: 합집합\n",
        "\n",
        "- `difference()`: 차집합\n",
        "\n",
        "- `intersection()`: 교집합"
      ]
    },
    {
      "cell_type": "markdown",
      "metadata": {
        "id": "CeU5N7nQWMjq"
      },
      "source": [
        "`intersection()` 함수만 예시합니다. 모든 함수는 형식이 같습니다."
      ]
    },
    {
      "cell_type": "code",
      "metadata": {
        "colab": {
          "base_uri": "https://localhost:8080/"
        },
        "id": "6aiOw2-1Ws3q",
        "outputId": "17117f65-6390-4898-85a1-db858c66a464"
      },
      "source": [
        "set1 = {0, 1, 2, 3, 4, 5}\n",
        "set2 = {0, 2, 4, 6}\n",
        "set1.intersection(set2)"
      ],
      "execution_count": null,
      "outputs": [
        {
          "output_type": "execute_result",
          "data": {
            "text/plain": [
              "{0, 2, 4}"
            ]
          },
          "metadata": {},
          "execution_count": 54
        }
      ]
    },
    {
      "cell_type": "markdown",
      "metadata": {
        "id": "rB5PQK0_XMkc"
      },
      "source": [
        "## **8.3. 연산자를 이용하여 집합 구하기**"
      ]
    },
    {
      "cell_type": "markdown",
      "metadata": {
        "id": "i4fwKQ7qcot6"
      },
      "source": [
        "함수가 아닌 연산자만으로 각 집합을 구할 수 있습니다. 합집합은 '|'로, 차집합은 '-'로, 교집합은 '&'로 구합니다."
      ]
    },
    {
      "cell_type": "markdown",
      "metadata": {
        "id": "9lbWYt-OX6Bn"
      },
      "source": [
        "합집합에 대한 예시입니다."
      ]
    },
    {
      "cell_type": "code",
      "metadata": {
        "colab": {
          "base_uri": "https://localhost:8080/"
        },
        "id": "KL-feahFYAi3",
        "outputId": "22ab2c8e-10fa-453e-8e82-da6449afe822"
      },
      "source": [
        "set1 | set2"
      ],
      "execution_count": null,
      "outputs": [
        {
          "output_type": "execute_result",
          "data": {
            "text/plain": [
              "{0, 1, 2, 3, 4, 5, 6}"
            ]
          },
          "metadata": {},
          "execution_count": 55
        }
      ]
    },
    {
      "cell_type": "markdown",
      "metadata": {
        "id": "Napv2QUGYI8d"
      },
      "source": [
        "## **8.4. 타입 변환하기**"
      ]
    },
    {
      "cell_type": "markdown",
      "metadata": {
        "id": "7rfpoBfycqzS"
      },
      "source": [
        "리스트와 튜플과 세트는 각 타입을 변환할 수 있습니다. 다만 함수를 적용했을 때 기존 타입이 변하지는 않습니다. 변환 타입을 유지하려면 따로 객체에 지정해야 합니다.\n",
        "\n",
        "아래는 변환할 타입에 대한 함수 목록입니다.\n",
        "\n",
        "- `객체명 = list(변환 대상)`: 리스트로 변환합니다.\n",
        "\n",
        "- `객체명 = tuple(변환 대상)`: 튜플로 변환합니다.\n",
        "\n",
        "- `객체명 = set(변환 대상)`: 세트로 변환합니다."
      ]
    },
    {
      "cell_type": "code",
      "metadata": {
        "colab": {
          "base_uri": "https://localhost:8080/"
        },
        "id": "QcPEddHjZFbZ",
        "outputId": "4f8c0108-4880-4a5b-d22c-c1c3f2e0518d"
      },
      "source": [
        "type(set1)"
      ],
      "execution_count": null,
      "outputs": [
        {
          "output_type": "execute_result",
          "data": {
            "text/plain": [
              "set"
            ]
          },
          "metadata": {},
          "execution_count": 56
        }
      ]
    },
    {
      "cell_type": "code",
      "metadata": {
        "colab": {
          "base_uri": "https://localhost:8080/"
        },
        "id": "LF2W3YjnaEpw",
        "outputId": "9c12b732-a898-4420-b1dc-f25e2287ac2d"
      },
      "source": [
        "list(set1)"
      ],
      "execution_count": null,
      "outputs": [
        {
          "output_type": "execute_result",
          "data": {
            "text/plain": [
              "[0, 1, 2, 3, 4, 5]"
            ]
          },
          "metadata": {},
          "execution_count": 57
        }
      ]
    },
    {
      "cell_type": "code",
      "metadata": {
        "colab": {
          "base_uri": "https://localhost:8080/"
        },
        "id": "qZ5Mp2l0aIaR",
        "outputId": "df7277bf-66d7-4fcf-fb03-b38810e1c76c"
      },
      "source": [
        "type(set1)"
      ],
      "execution_count": null,
      "outputs": [
        {
          "output_type": "execute_result",
          "data": {
            "text/plain": [
              "set"
            ]
          },
          "metadata": {},
          "execution_count": 58
        }
      ]
    },
    {
      "cell_type": "markdown",
      "metadata": {
        "id": "uIUUb4e-aMKa"
      },
      "source": [
        "세트 타입을 리스트 함수를 사용해서 리스트로 출력했지만 여전히 'set1'은 세트 타입입니다."
      ]
    },
    {
      "cell_type": "markdown",
      "metadata": {
        "id": "CZwjIulgaU4Y"
      },
      "source": [
        "리스트 타입으로 유지하려면 객체를 따로 생성해서 출력값을 옮겨야 합니다."
      ]
    },
    {
      "cell_type": "code",
      "metadata": {
        "colab": {
          "base_uri": "https://localhost:8080/"
        },
        "id": "F7LpltjjZd2_",
        "outputId": "ff6ff397-005a-4646-edaf-41c9ddfeb922"
      },
      "source": [
        "set_to_list = list(set1)\n",
        "type(set_to_list)"
      ],
      "execution_count": null,
      "outputs": [
        {
          "output_type": "execute_result",
          "data": {
            "text/plain": [
              "list"
            ]
          },
          "metadata": {},
          "execution_count": 59
        }
      ]
    },
    {
      "cell_type": "markdown",
      "metadata": {
        "id": "WXgKGALPapgU"
      },
      "source": [
        "# **9. 딕셔너리**"
      ]
    },
    {
      "cell_type": "markdown",
      "metadata": {
        "id": "k_vpBPNactu-"
      },
      "source": [
        "일반 사전은 표제어와 설명이 한 짝으로 구성되며, 표제어를 찾으면 설명을 볼 수 있습니다. 같은 이치로 파이썬 딕셔너리는 키(key)와 값(value)으로 대응하고, 키를 찾으면 값을 확인할 수 있습니다. 따라서 딕셔너리를 인덱싱 하려면 키를 이용합니다. 키는 숫자나 문자열이고, 값은 모든 타입입니다.\n",
        "\n",
        "아래는 딕셔너리의 형식입니다.\n",
        "\n",
        "```\n",
        "dict = {key1: value1, key2: value2, key3: value3}\n",
        "```"
      ]
    },
    {
      "cell_type": "markdown",
      "metadata": {
        "id": "pEPwKjCndod5"
      },
      "source": [
        "## **9.1. 딕셔너리 생성하기**"
      ]
    },
    {
      "cell_type": "markdown",
      "metadata": {
        "id": "py3O9T0wcv-j"
      },
      "source": [
        "한국 내 지역명을 예시로 딕셔너리를 생성합니다."
      ]
    },
    {
      "cell_type": "code",
      "metadata": {
        "colab": {
          "base_uri": "https://localhost:8080/"
        },
        "id": "aQjucxA_eVOb",
        "outputId": "713b6775-80ef-4f7b-cebe-3ab822d09a2f"
      },
      "source": [
        "loc_dict = {'서울': '종로', '경기': '분당', '인천': '부평', '충남': '논산'}\n",
        "loc_dict"
      ],
      "execution_count": null,
      "outputs": [
        {
          "output_type": "execute_result",
          "data": {
            "text/plain": [
              "{'경기': '분당', '서울': '종로', '인천': '부평', '충남': '논산'}"
            ]
          },
          "metadata": {},
          "execution_count": 60
        }
      ]
    },
    {
      "cell_type": "markdown",
      "metadata": {
        "id": "dstG2dqdfKrX"
      },
      "source": [
        "입력 순서와 다르게 출력됐습니다. 딕셔너리는 순서가 중요하지 않습니다. 입력 순서를 그대로 출력하려면 `print()` 메서드를 붙여줍니다."
      ]
    },
    {
      "cell_type": "code",
      "metadata": {
        "colab": {
          "base_uri": "https://localhost:8080/"
        },
        "id": "k4L0sWEafp6z",
        "outputId": "1e3d509f-abbe-43a6-9bee-ef08be3639fa"
      },
      "source": [
        "print(loc_dict)"
      ],
      "execution_count": null,
      "outputs": [
        {
          "output_type": "stream",
          "name": "stdout",
          "text": [
            "{'서울': '종로', '경기': '분당', '인천': '부평', '충남': '논산'}\n"
          ]
        }
      ]
    },
    {
      "cell_type": "markdown",
      "metadata": {
        "id": "uPuF74ynhd-V"
      },
      "source": [
        "값은 모든 타입이 가능하다고 명시했습니다. 예컨대 리스트 형태도 가능합니다. "
      ]
    },
    {
      "cell_type": "code",
      "metadata": {
        "colab": {
          "base_uri": "https://localhost:8080/"
        },
        "id": "13_Zgolbhl7O",
        "outputId": "a88c5cbb-59bd-497d-ba83-125f15cb8d76"
      },
      "source": [
        "num_dict = {0: [1, 2, 3], 4: [5, 6, 7], 8: [9, 10, 11]}\n",
        "num_dict"
      ],
      "execution_count": null,
      "outputs": [
        {
          "output_type": "execute_result",
          "data": {
            "text/plain": [
              "{0: [1, 2, 3], 4: [5, 6, 7], 8: [9, 10, 11]}"
            ]
          },
          "metadata": {},
          "execution_count": 62
        }
      ]
    },
    {
      "cell_type": "markdown",
      "metadata": {
        "id": "L1UIGS0aiBfD"
      },
      "source": [
        "여러 타입이 복잡하게 혼재될 수도 있습니다."
      ]
    },
    {
      "cell_type": "code",
      "metadata": {
        "colab": {
          "base_uri": "https://localhost:8080/"
        },
        "id": "-lw6fR8fiF4M",
        "outputId": "5d0015c4-3641-45a5-c31f-e9dd2163fd4e"
      },
      "source": [
        "complicated_dict = {0: 1, 2: [3, 4, 5], 'six': (7, 8),\n",
        "                    'sub_num_dict': {0: 1, 2: (3, 4), 'five': [6, 7]},\n",
        "                    'nine': 'finished'}\n",
        "print(complicated_dict)"
      ],
      "execution_count": null,
      "outputs": [
        {
          "output_type": "stream",
          "name": "stdout",
          "text": [
            "{0: 1, 2: [3, 4, 5], 'six': (7, 8), 'sub_num_dict': {0: 1, 2: (3, 4), 'five': [6, 7]}, 'nine': 'finished'}\n"
          ]
        }
      ]
    },
    {
      "cell_type": "markdown",
      "metadata": {
        "id": "AVAfj9OhfwNp"
      },
      "source": [
        "## **9.2. 키를 지정하여 값을 출력하기**"
      ]
    },
    {
      "cell_type": "markdown",
      "metadata": {
        "id": "L9jPAkSccyQv"
      },
      "source": [
        "바로 위에서 복잡하게 생성한 'complicated_dict' 딕셔너리를 리스트로 지정하여 해당하는 값을 출력하겠습니다."
      ]
    },
    {
      "cell_type": "code",
      "metadata": {
        "colab": {
          "base_uri": "https://localhost:8080/"
        },
        "id": "nog8R8Ldf9JK",
        "outputId": "5057d259-97f6-46a7-a78f-b426b264b07d"
      },
      "source": [
        "complicated_dict['sub_num_dict']"
      ],
      "execution_count": null,
      "outputs": [
        {
          "output_type": "execute_result",
          "data": {
            "text/plain": [
              "{0: 1, 2: (3, 4), 'five': [6, 7]}"
            ]
          },
          "metadata": {},
          "execution_count": 64
        }
      ]
    },
    {
      "cell_type": "markdown",
      "metadata": {
        "id": "GKaObjHkkQ7a"
      },
      "source": [
        "## **9.3. 데이터 추가하기**"
      ]
    },
    {
      "cell_type": "markdown",
      "metadata": {
        "id": "jWH2Vtdscz_h"
      },
      "source": [
        "지속해서 'complicated_dict' 딕셔너리를 사용합니다. 딕셔너리에 값을 추가하려면 `딕셔너리[key] = value` 형태를 사용합니다.\n",
        "\n",
        "아래 코드로 예시합니다."
      ]
    },
    {
      "cell_type": "code",
      "metadata": {
        "colab": {
          "base_uri": "https://localhost:8080/"
        },
        "id": "VBiXg1JMk7vk",
        "outputId": "c5b4a427-b1b0-4700-cf79-89eb228e02b5"
      },
      "source": [
        "# `'complicated_dict' 딕셔너리에 'ten'이라는 키를 생성하고\n",
        "# [11, 12]`를 짝짓는다고 생각하면 이해하기에 한결 편리합니다.\n",
        "complicated_dict['ten'] = [11, 12]\n",
        "print(complicated_dict)"
      ],
      "execution_count": null,
      "outputs": [
        {
          "output_type": "stream",
          "name": "stdout",
          "text": [
            "{0: 1, 2: [3, 4, 5], 'six': (7, 8), 'sub_num_dict': {0: 1, 2: (3, 4), 'five': [6, 7]}, 'nine': 'finished', 'ten': [11, 12]}\n"
          ]
        }
      ]
    },
    {
      "cell_type": "markdown",
      "metadata": {
        "id": "lyGrVyxSlpfE"
      },
      "source": [
        "## **9.4. 데이터 수정하기**"
      ]
    },
    {
      "cell_type": "markdown",
      "metadata": {
        "id": "ZvnM4ImMc16q"
      },
      "source": [
        "'complicated_dict' 딕셔너리에 있는 기존의 값을 수정할 때도 값을 추가하는 방식인 `딕셔너리[key] = value` 형태를 사용합니다.\n",
        "\n",
        "아래 코드로 예시합니다."
      ]
    },
    {
      "cell_type": "code",
      "metadata": {
        "colab": {
          "base_uri": "https://localhost:8080/"
        },
        "id": "sY5nCtrOmEpW",
        "outputId": "487cd67b-7176-4097-ca3d-a8ac67ff5202"
      },
      "source": [
        "complicated_dict['sub_num_dict'] = {0: 1, 2: 3}\n",
        "print(complicated_dict)"
      ],
      "execution_count": null,
      "outputs": [
        {
          "output_type": "stream",
          "name": "stdout",
          "text": [
            "{0: 1, 2: [3, 4, 5], 'six': (7, 8), 'sub_num_dict': {0: 1, 2: 3}, 'nine': 'finished', 'ten': [11, 12]}\n"
          ]
        }
      ]
    },
    {
      "cell_type": "markdown",
      "metadata": {
        "id": "rQM-qEdPmgaL"
      },
      "source": [
        "## **9.5. 데이터 삭제하기**"
      ]
    },
    {
      "cell_type": "markdown",
      "metadata": {
        "id": "zzgrKclwc3vW"
      },
      "source": [
        "'complicated_dict' 딕셔너리에 있는 값을 삭제하려면 `del 딕셔너리[key]` 형태를 사용합니다. 키에 해당하는 값이 키와 함께 삭제됩니다.\n",
        "\n",
        "아래 코드로 예시합니다."
      ]
    },
    {
      "cell_type": "code",
      "metadata": {
        "colab": {
          "base_uri": "https://localhost:8080/"
        },
        "id": "RS_h_LJJm5wl",
        "outputId": "ed79199e-ab88-4902-bf7c-f3282a4640c1"
      },
      "source": [
        "del complicated_dict['sub_num_dict']\n",
        "print(complicated_dict)"
      ],
      "execution_count": null,
      "outputs": [
        {
          "output_type": "stream",
          "name": "stdout",
          "text": [
            "{0: 1, 2: [3, 4, 5], 'six': (7, 8), 'nine': 'finished', 'ten': [11, 12]}\n"
          ]
        }
      ]
    },
    {
      "cell_type": "markdown",
      "metadata": {
        "id": "0wV6xhuCnLG0"
      },
      "source": [
        "## **9.6. 딕셔너리 함수 적용하기**"
      ]
    },
    {
      "cell_type": "markdown",
      "metadata": {
        "id": "q_HLSOrDc6Ch"
      },
      "source": [
        "딕셔너리도 전용 함수가 있습니다. 형식은 `딕셔너리.함수()`입니다.\n",
        "\n",
        "아래는 딕셔너리 전용 함수 목록을 예시로 풀어낸 형식입니다.\n",
        "\n",
        "- `complicated_dict.keys()`: 모든 키를 리스트로 출력합니다.\n",
        "\n",
        "- `complicated_dict.values()`: 모든 값을 리스트로 출력합니다.\n",
        "\n",
        "- `complicated_dict.items()`: 키와 값의 짝을 리스트 안에 튜플로 출력합니다.\n",
        "\n",
        "- `complicated_dict.update(loc_dict)`: 딕셔너리에 다른 딕셔너리가 가진 데이터를 추가합니다.\n",
        "\n",
        "- `complicated_dict.clear()`: 모든 원소를 삭제합니다."
      ]
    },
    {
      "cell_type": "markdown",
      "metadata": {
        "id": "cE7Jmgycz6YR"
      },
      "source": [
        "`key()` 함수에 대한 예시입니다."
      ]
    },
    {
      "cell_type": "code",
      "metadata": {
        "colab": {
          "base_uri": "https://localhost:8080/"
        },
        "id": "MRWhSV1L7Ygl",
        "outputId": "278c1e76-8b21-4cac-8920-adc302126453"
      },
      "source": [
        "print(complicated_dict)\n",
        "print(complicated_dict.keys())"
      ],
      "execution_count": null,
      "outputs": [
        {
          "output_type": "stream",
          "name": "stdout",
          "text": [
            "{0: 1, 2: [3, 4, 5], 'six': (7, 8), 'nine': 'finished', 'ten': [11, 12]}\n",
            "dict_keys([0, 2, 'six', 'nine', 'ten'])\n"
          ]
        }
      ]
    },
    {
      "cell_type": "markdown",
      "metadata": {
        "id": "W36nToM17hQP"
      },
      "source": [
        "`values()` 함수에 대한 예시입니다."
      ]
    },
    {
      "cell_type": "code",
      "metadata": {
        "colab": {
          "base_uri": "https://localhost:8080/"
        },
        "id": "9PC160uL7ka3",
        "outputId": "f6be8756-0a76-4906-cdb4-7b9c7fd3d82e"
      },
      "source": [
        "print(complicated_dict)\n",
        "print(complicated_dict.values())"
      ],
      "execution_count": null,
      "outputs": [
        {
          "output_type": "stream",
          "name": "stdout",
          "text": [
            "{0: 1, 2: [3, 4, 5], 'six': (7, 8), 'nine': 'finished', 'ten': [11, 12]}\n",
            "dict_values([1, [3, 4, 5], (7, 8), 'finished', [11, 12]])\n"
          ]
        }
      ]
    },
    {
      "cell_type": "markdown",
      "metadata": {
        "id": "yk3h22PX7yCi"
      },
      "source": [
        "`items()` 함수에 대한 예시입니다. 리스트에 튜플로 키와 값이 묶입니다."
      ]
    },
    {
      "cell_type": "code",
      "metadata": {
        "colab": {
          "base_uri": "https://localhost:8080/"
        },
        "id": "eKuKLoe571FV",
        "outputId": "51adf2a7-1802-4fcb-a2a9-de81bcb4f833"
      },
      "source": [
        "print(complicated_dict)\n",
        "print(complicated_dict.items())"
      ],
      "execution_count": null,
      "outputs": [
        {
          "output_type": "stream",
          "name": "stdout",
          "text": [
            "{0: 1, 2: [3, 4, 5], 'six': (7, 8), 'nine': 'finished', 'ten': [11, 12]}\n",
            "dict_items([(0, 1), (2, [3, 4, 5]), ('six', (7, 8)), ('nine', 'finished'), ('ten', [11, 12])])\n"
          ]
        }
      ]
    },
    {
      "cell_type": "markdown",
      "metadata": {
        "id": "M3bwYjiO8KnJ"
      },
      "source": [
        "데이터를 분석할 때는 일반적으로 리스트를 사용하는 경우가 많습니다. 리스트로 변환하는 작업에 능숙해야 합니다. \n",
        "\n",
        "아래는 이를 예시한 코드입니다."
      ]
    },
    {
      "cell_type": "code",
      "metadata": {
        "colab": {
          "base_uri": "https://localhost:8080/"
        },
        "id": "QqbPT8Uy8q2C",
        "outputId": "59eee569-41fb-4723-81b2-a849abc55926"
      },
      "source": [
        "print(list(complicated_dict.keys()))\n",
        "print(list(complicated_dict.values()))\n",
        "print(list(complicated_dict.items()))"
      ],
      "execution_count": null,
      "outputs": [
        {
          "output_type": "stream",
          "name": "stdout",
          "text": [
            "[0, 2, 'six', 'nine', 'ten']\n",
            "[1, [3, 4, 5], (7, 8), 'finished', [11, 12]]\n",
            "[(0, 1), (2, [3, 4, 5]), ('six', (7, 8)), ('nine', 'finished'), ('ten', [11, 12])]\n"
          ]
        }
      ]
    },
    {
      "cell_type": "markdown",
      "metadata": {
        "id": "vyhHNaw29B1p"
      },
      "source": [
        "`update()` 함수에 대한 예시입니다."
      ]
    },
    {
      "cell_type": "code",
      "metadata": {
        "colab": {
          "base_uri": "https://localhost:8080/"
        },
        "id": "G6S-dH_a9Eqf",
        "outputId": "a6895569-4b12-4d46-b871-94a258501a2b"
      },
      "source": [
        "complicated_dict.update(loc_dict)\n",
        "print(complicated_dict)"
      ],
      "execution_count": null,
      "outputs": [
        {
          "output_type": "stream",
          "name": "stdout",
          "text": [
            "{0: 1, 2: [3, 4, 5], 'six': (7, 8), 'nine': 'finished', 'ten': [11, 12], '서울': '종로', '경기': '분당', '인천': '부평', '충남': '논산'}\n"
          ]
        }
      ]
    },
    {
      "cell_type": "markdown",
      "metadata": {
        "id": "qLySqiF29To1"
      },
      "source": [
        "`clear()` 함수를 사용하면 세트 형태는 남고 모든 데이터가 삭제됩니다. 타입 또한 여전히 세트입니다."
      ]
    },
    {
      "cell_type": "code",
      "metadata": {
        "colab": {
          "base_uri": "https://localhost:8080/"
        },
        "id": "C7gIeXx29amE",
        "outputId": "9c8960e9-6044-4c6f-a138-a19dc5b3e415"
      },
      "source": [
        "complicated_dict.clear()\n",
        "print(complicated_dict)\n",
        "type(complicated_dict)"
      ],
      "execution_count": null,
      "outputs": [
        {
          "output_type": "stream",
          "name": "stdout",
          "text": [
            "{}\n"
          ]
        },
        {
          "output_type": "execute_result",
          "data": {
            "text/plain": [
              "dict"
            ]
          },
          "metadata": {},
          "execution_count": 73
        }
      ]
    },
    {
      "cell_type": "markdown",
      "metadata": {
        "id": "Vu0XeaF9-ElY"
      },
      "source": [
        "# **10. 제어문**"
      ]
    },
    {
      "cell_type": "markdown",
      "metadata": {
        "id": "RkAxBuI6c8tr"
      },
      "source": [
        "제어문은 조건문과 반복문으로 나뉩니다. 말그대로 조건문은 조건에 따라 다른 명령을 수행하도록 작성한 코드이고, 반복문은 특정 명령을 반복하도록 작성한 코드입니다. 이 두 문형은 매우 밀접한 관계이므로 주로 혼합하여 구성합니다."
      ]
    },
    {
      "cell_type": "markdown",
      "metadata": {
        "id": "JfDIZTSn_CKJ"
      },
      "source": [
        "## **10.1. pass 활용하기**\n"
      ]
    },
    {
      "cell_type": "markdown",
      "metadata": {
        "id": "0RC2ei-Kc-ht"
      },
      "source": [
        "코딩하는 과정 중에 `pass`를 활용하면 큰 도움이 됩니다. 초기 단계에 전체적인 코드 틀을 형성하면서 `pass`를 활용하고, 세세하게 코딩하는 단계에서 `pass`를 제거해가며 코드 전체를 완성하는 것입니다. 기실 틀만 잡고 아무 코드가 없는 상태에서는 애러가 발생하기 마련입니다. 이를 `pass`가 방지하는 것입니다.\n",
        "\n",
        "아래는 설명에 대한 예시입니다.\n"
      ]
    },
    {
      "cell_type": "code",
      "metadata": {
        "id": "Fm3OqVXUDYYy"
      },
      "source": [
        "a = 100\n",
        "if a > 190:\n",
        "    pass\n",
        "elif 100 <= a < 190:\n",
        "    pass\n",
        "else:\n",
        "    pass"
      ],
      "execution_count": null,
      "outputs": []
    },
    {
      "cell_type": "markdown",
      "metadata": {
        "id": "9pLFYhfMEVed"
      },
      "source": [
        "## **10.2. range() 함수 적용하기**"
      ]
    },
    {
      "cell_type": "markdown",
      "metadata": {
        "id": "7cpO5B4SdAkk"
      },
      "source": [
        "`range()` 함수는 for문에서 자주 사용합니다. 형식은 `range(시작, 끝, 단계)`이며, 인덱싱처럼 끝은 끝-1입니다. 지정한 끝의 전까지만 범위를 지정합니다."
      ]
    },
    {
      "cell_type": "code",
      "metadata": {
        "colab": {
          "base_uri": "https://localhost:8080/"
        },
        "id": "YXXaJrD5itGE",
        "outputId": "5d2a8ecd-1c89-4ad6-b8fa-7b574236ea76"
      },
      "source": [
        "for i in range(0, 6, 2):\n",
        "    print(i)"
      ],
      "execution_count": null,
      "outputs": [
        {
          "output_type": "stream",
          "name": "stdout",
          "text": [
            "0\n",
            "2\n",
            "4\n"
          ]
        }
      ]
    },
    {
      "cell_type": "markdown",
      "metadata": {
        "id": "GRzZo427kO33"
      },
      "source": [
        "`range(시작, 끝, 단계)` 형식에서 시작과 단계를 생략하면 끝만 남습니다. 여기서 시작과 단계는 각각 0과 1로 간주합니다."
      ]
    },
    {
      "cell_type": "code",
      "metadata": {
        "colab": {
          "base_uri": "https://localhost:8080/"
        },
        "id": "BiuKWlpvkfIG",
        "outputId": "1be30156-3719-436c-9840-95d3bb0e2252"
      },
      "source": [
        "for i in range(8):\n",
        "    print(i)"
      ],
      "execution_count": null,
      "outputs": [
        {
          "output_type": "stream",
          "name": "stdout",
          "text": [
            "0\n",
            "1\n",
            "2\n",
            "3\n",
            "4\n",
            "5\n",
            "6\n",
            "7\n"
          ]
        }
      ]
    },
    {
      "cell_type": "markdown",
      "metadata": {
        "id": "y-BcVsDvhphl"
      },
      "source": [
        "`range()` 함수로 결과를 출력하려면 `list()` 함수를 사용해야 합니다."
      ]
    },
    {
      "cell_type": "code",
      "metadata": {
        "colab": {
          "base_uri": "https://localhost:8080/"
        },
        "id": "PG_7EnTKh4RV",
        "outputId": "9f7a3a06-dcef-4f35-ab49-67a417df12a5"
      },
      "source": [
        "print(range(0, 6, 2))"
      ],
      "execution_count": null,
      "outputs": [
        {
          "output_type": "stream",
          "name": "stdout",
          "text": [
            "range(0, 6, 2)\n"
          ]
        }
      ]
    },
    {
      "cell_type": "markdown",
      "metadata": {
        "id": "_7eY1isZiZMC"
      },
      "source": [
        "`range(0, 6, 2)`이라는 형태로 출력됐습니다. 원소를 출력하려면 `list()` 함수로 묶어야 합니다."
      ]
    },
    {
      "cell_type": "code",
      "metadata": {
        "colab": {
          "base_uri": "https://localhost:8080/"
        },
        "id": "i-_9xzgrijI8",
        "outputId": "e6111fd0-b7b4-40ca-b383-9985e57fb55f"
      },
      "source": [
        "list(range(0, 6, 2))"
      ],
      "execution_count": null,
      "outputs": [
        {
          "output_type": "execute_result",
          "data": {
            "text/plain": [
              "[0, 2, 4]"
            ]
          },
          "metadata": {},
          "execution_count": 78
        }
      ]
    },
    {
      "cell_type": "markdown",
      "metadata": {
        "id": "NtcbuU_hk0sm"
      },
      "source": [
        "## **10.3. zip() 함수 적용하기**"
      ]
    },
    {
      "cell_type": "markdown",
      "metadata": {
        "id": "jRDhKNOSdDQV"
      },
      "source": [
        "`zip()` 함수는 여러 리스트의 값을 하나로 묶는 데에 사용할 수 있습니다.\n",
        "\n",
        "아래 코드로 설명합니다."
      ]
    },
    {
      "cell_type": "code",
      "metadata": {
        "colab": {
          "base_uri": "https://localhost:8080/"
        },
        "id": "wcsuyTlvnLus",
        "outputId": "8911e94d-02bb-4660-fbc5-14275ad48acb"
      },
      "source": [
        "fruits = ['banana', 'apple', 'grape', 'strawberry']\n",
        "names = ['승원', '미니', '꼬맹', '철수']\n",
        "\n",
        "for fruits, names in zip(fruits, names):\n",
        "    print(fruits, names)"
      ],
      "execution_count": null,
      "outputs": [
        {
          "output_type": "stream",
          "name": "stdout",
          "text": [
            "banana 승원\n",
            "apple 미니\n",
            "grape 꼬맹\n",
            "strawberry 철수\n"
          ]
        }
      ]
    },
    {
      "cell_type": "markdown",
      "metadata": {
        "id": "9VQ-HjaypiEB"
      },
      "source": [
        "## **10.4. while문**"
      ]
    },
    {
      "cell_type": "markdown",
      "metadata": {
        "id": "CR1HaIJadFQe"
      },
      "source": [
        "for문이 단순하게 반복만 수행하는 형태라면, while문은 조건에 따라 반복하고 멈추는 형태입니다.\n",
        "\n",
        "아래는 while문에 대한 예시입니다."
      ]
    },
    {
      "cell_type": "code",
      "metadata": {
        "colab": {
          "base_uri": "https://localhost:8080/"
        },
        "id": "nXknbfyqp-HX",
        "outputId": "46ce5254-a4c5-4a68-d9ae-744906bc786c"
      },
      "source": [
        "i = 0\n",
        "sum = 0\n",
        "\n",
        "while (sum < 10):\n",
        "    i = i + 1\n",
        "    sum = sum + i\n",
        "    print(i, sum)"
      ],
      "execution_count": null,
      "outputs": [
        {
          "output_type": "stream",
          "name": "stdout",
          "text": [
            "1 1\n",
            "2 3\n",
            "3 6\n",
            "4 10\n"
          ]
        }
      ]
    },
    {
      "cell_type": "markdown",
      "metadata": {
        "id": "HTyZFsvkqmG-"
      },
      "source": [
        "무한으로 반복하게 하려면 조건을 항상 참인 `True`로 지정합니다."
      ]
    },
    {
      "cell_type": "code",
      "metadata": {
        "id": "Tg6cRW_BqtN0"
      },
      "source": [
        "# 주석으로 처리합니다.\n",
        "# while True:\n",
        "#     print('infinite')"
      ],
      "execution_count": null,
      "outputs": []
    },
    {
      "cell_type": "markdown",
      "metadata": {
        "id": "W42FK0x3rAJq"
      },
      "source": [
        "## **10.5. continue와 break으로 제어하기**"
      ]
    },
    {
      "cell_type": "markdown",
      "metadata": {
        "id": "dogK5-LMdH7f"
      },
      "source": [
        "continue는 처음으로 돌아가서 반복을 수행하고, break은 반복문을 빠져나옵니다.\n",
        "\n",
        "먼저 continue에 대한 예시입니다."
      ]
    },
    {
      "cell_type": "code",
      "metadata": {
        "colab": {
          "base_uri": "https://localhost:8080/"
        },
        "id": "LdF4zjCdrivB",
        "outputId": "775b96a4-4124-4437-a2b3-9b7b9f23034e"
      },
      "source": [
        "for i in range(6):\n",
        "    if i == 3:\n",
        "        continue\n",
        "    print(i)"
      ],
      "execution_count": null,
      "outputs": [
        {
          "output_type": "stream",
          "name": "stdout",
          "text": [
            "0\n",
            "1\n",
            "2\n",
            "4\n",
            "5\n"
          ]
        }
      ]
    },
    {
      "cell_type": "markdown",
      "metadata": {
        "id": "WyGlKbQYr4Jr"
      },
      "source": [
        "3만 빼놓고 출력했습니다.\n",
        "\n",
        "다음은 break에 대한 예시입니다."
      ]
    },
    {
      "cell_type": "code",
      "metadata": {
        "colab": {
          "base_uri": "https://localhost:8080/"
        },
        "id": "Q3msWh6PsDhW",
        "outputId": "6c3565de-b2a4-4294-f24c-648eb5e22bab"
      },
      "source": [
        "for i in range(6):\n",
        "    if i > 4:\n",
        "        break\n",
        "    print(i)"
      ],
      "execution_count": null,
      "outputs": [
        {
          "output_type": "stream",
          "name": "stdout",
          "text": [
            "0\n",
            "1\n",
            "2\n",
            "3\n",
            "4\n"
          ]
        }
      ]
    },
    {
      "cell_type": "markdown",
      "metadata": {
        "id": "9MBjzIkksOaU"
      },
      "source": [
        "'i'가 4보다 크므로 빠져나왔습니다.\n",
        "\n",
        "continue와 break을 모두 사용하겠습니다."
      ]
    },
    {
      "cell_type": "code",
      "metadata": {
        "colab": {
          "base_uri": "https://localhost:8080/"
        },
        "id": "_BrCfAJ-sgWk",
        "outputId": "3f510b07-6342-447c-d9d7-1b4ba15707bc"
      },
      "source": [
        "i = 0\n",
        "\n",
        "while True:\n",
        "    i = i + 1\n",
        "    if i == 3:\n",
        "        print(\"it's 3.\")\n",
        "        continue\n",
        "    if i > 6:\n",
        "        break\n",
        "    print(i)"
      ],
      "execution_count": null,
      "outputs": [
        {
          "output_type": "stream",
          "name": "stdout",
          "text": [
            "1\n",
            "2\n",
            "it's 3.\n",
            "4\n",
            "5\n",
            "6\n"
          ]
        }
      ]
    },
    {
      "cell_type": "markdown",
      "metadata": {
        "id": "zMJMBcNZXHd7"
      },
      "source": [
        "## **10.6. 리스트 컴프리헨션**"
      ]
    },
    {
      "cell_type": "markdown",
      "metadata": {
        "id": "WOqPXV94dNED"
      },
      "source": [
        "리스트 컴프리헨션(comprehension)은 리스트 안에 코드가 들어있는 것을 의미합니다(컴프리헨션의 사전적 의미는 이해, '포함'입니다). 리스트 안에 반복문이 들어있으면 반복문을 한 줄로 작성할 수 있습니다.\n",
        "\n",
        "형식은 아래와 같습니다.\n",
        "```\n",
        "[반복 실행문 for 반복 변수 in 반복 범위]\n",
        "```\n",
        "형식에 대한 예시를 들겠습니다."
      ]
    },
    {
      "cell_type": "code",
      "metadata": {
        "colab": {
          "base_uri": "https://localhost:8080/"
        },
        "id": "q3nbsKlrYGtf",
        "outputId": "a78fb600-8941-4106-e403-6559cd6cd1f8"
      },
      "source": [
        "num = [1, 2, 3, 4, 5]\n",
        "list_comprehension1 = [i * 3 for i in num]\n",
        "print(list_comprehension1)"
      ],
      "execution_count": null,
      "outputs": [
        {
          "output_type": "stream",
          "name": "stdout",
          "text": [
            "[3, 6, 9, 12, 15]\n"
          ]
        }
      ]
    },
    {
      "cell_type": "markdown",
      "metadata": {
        "id": "zD2Hf53iY9ZL"
      },
      "source": [
        "반복문에 조건을 부여할 수도 있습니다.\n",
        "\n",
        "형식은 아래와 같습니다.\n",
        "\n",
        "```\n",
        "[반복 실행문 for 반복 변수 in 반복 범위 if 조건]\n",
        "```\n",
        "\n",
        "형식에 대한 예시를 듭니다."
      ]
    },
    {
      "cell_type": "code",
      "metadata": {
        "colab": {
          "base_uri": "https://localhost:8080/"
        },
        "id": "uQZowpztZBrG",
        "outputId": "3d9c0a76-17a8-41bd-f03e-f835a017f458"
      },
      "source": [
        "list_comprehension2 = [i * 3 for i in num if i > 2]\n",
        "print(list_comprehension2)"
      ],
      "execution_count": null,
      "outputs": [
        {
          "output_type": "stream",
          "name": "stdout",
          "text": [
            "[9, 12, 15]\n"
          ]
        }
      ]
    },
    {
      "cell_type": "markdown",
      "metadata": {
        "id": "DNSygqbxagk-"
      },
      "source": [
        "# **11. 입출력**"
      ]
    },
    {
      "cell_type": "markdown",
      "metadata": {
        "id": "kZtE8k3ea6Uj"
      },
      "source": [
        "## **11.1. 출력**"
      ]
    },
    {
      "cell_type": "markdown",
      "metadata": {
        "id": "14R4Zq1_deTa"
      },
      "source": [
        "예시하면서 설명합니다.\n",
        "\n",
        "콤마로 구분하면 원소가 한 칸씩 띈 상태로 출력됩니다.\n",
        "\n",
        "매개변수 `sep`에 문자열을 지정하면 빈칸 대신 다른 형태를 넣을 수 있습니다.\n",
        "\n",
        "빈칸을 붙이려면 더하기 연산자를 사용합니다.\n",
        "\n",
        "콤마와 더하기는 함께 사용할 수 있습니다."
      ]
    },
    {
      "cell_type": "code",
      "metadata": {
        "colab": {
          "base_uri": "https://localhost:8080/"
        },
        "id": "WpL3FW1tdUJ_",
        "outputId": "88957dce-95e9-42ae-9b14-160a715019ba"
      },
      "source": [
        "print('콤마 사용:', 'ab', 'cd', 'ef', 'gh')\n",
        "print('sep 사용: ', 'ab', 'cd', 'ef', 'gh', sep='^')\n",
        "print('더하기 사용:', 'ab'+'cd'+'ef'+'gh')\n",
        "print('혼합 사용', 'ab' + 'cd', 'ef' + 'gh')"
      ],
      "execution_count": null,
      "outputs": [
        {
          "output_type": "stream",
          "name": "stdout",
          "text": [
            "콤마 사용: ab cd ef gh\n",
            "sep 사용: ^ab^cd^ef^gh\n",
            "더하기 사용: abcdefgh\n",
            "혼합 사용 abcd efgh\n"
          ]
        }
      ]
    },
    {
      "cell_type": "markdown",
      "metadata": {
        "id": "QZygXkkbfu4R"
      },
      "source": [
        "`end` 매개변수는 두 줄로 출력된 결과를 한 줄로 출력하게 합니다."
      ]
    },
    {
      "cell_type": "code",
      "metadata": {
        "colab": {
          "base_uri": "https://localhost:8080/"
        },
        "id": "hmNp19vgf802",
        "outputId": "11e84e08-8128-48f0-880f-aaadceee59aa"
      },
      "source": [
        "print('This is')\n",
        "print('Sparta')\n",
        "print()\n",
        "print('This is', end=' just ')\n",
        "print('Sparta')"
      ],
      "execution_count": null,
      "outputs": [
        {
          "output_type": "stream",
          "name": "stdout",
          "text": [
            "This is\n",
            "Sparta\n",
            "\n",
            "This is just Sparta\n"
          ]
        }
      ]
    },
    {
      "cell_type": "markdown",
      "metadata": {
        "id": "_Th_nuLdhBa1"
      },
      "source": [
        "'%' 연산자를 이용한 각종 출력 방식을 설명합니다.\n",
        "\n",
        "예시를 들면서 설명하겠습니다."
      ]
    },
    {
      "cell_type": "code",
      "metadata": {
        "colab": {
          "base_uri": "https://localhost:8080/"
        },
        "id": "fGpWZZwshgNU",
        "outputId": "57e90dd9-4a15-4c87-8d1f-33492a3af288"
      },
      "source": [
        "dog = '개'\n",
        "print('지나가는 %s가 웃어!' %dog)"
      ],
      "execution_count": null,
      "outputs": [
        {
          "output_type": "stream",
          "name": "stdout",
          "text": [
            "지나가는 개가 웃어!\n"
          ]
        }
      ]
    },
    {
      "cell_type": "markdown",
      "metadata": {
        "id": "rYBh4J9oh8jS"
      },
      "source": [
        "데이터가 문자 타입이라면 `%s`, 실수 타입이라면 `%f`, 정수 타입이라면 `%d`로 지정합니다. 위 코드는 문자 타입이므로 `%s`입니다."
      ]
    },
    {
      "cell_type": "markdown",
      "metadata": {
        "id": "FzkALtYQiVuK"
      },
      "source": [
        "데이터가 다수여도 적용할 수 있습니다. \n",
        "\n",
        "이에 대한 예시입니다."
      ]
    },
    {
      "cell_type": "code",
      "metadata": {
        "colab": {
          "base_uri": "https://localhost:8080/"
        },
        "id": "fG12C0C9ie44",
        "outputId": "014e28f4-c7c2-4002-a58a-f2a24b469c25"
      },
      "source": [
        "dogs = '몰티즈', '푸들', 2\n",
        "print('지나가는 %s랑 %s %d마리가 웃어!' %dogs)\n",
        "print('지나가는 %s랑 %s %s마리가 웃어!' %dogs)\n",
        "print('지나가는 %s랑 %s %f마리가 웃어!' %dogs)"
      ],
      "execution_count": null,
      "outputs": [
        {
          "output_type": "stream",
          "name": "stdout",
          "text": [
            "지나가는 몰티즈랑 푸들 2마리가 웃어!\n",
            "지나가는 몰티즈랑 푸들 2마리가 웃어!\n",
            "지나가는 몰티즈랑 푸들 2.000000마리가 웃어!\n"
          ]
        }
      ]
    },
    {
      "cell_type": "markdown",
      "metadata": {
        "id": "zlXVitv-l3ux"
      },
      "source": [
        "`format()` 메서드를 이용해서 문자열을 출력할 수도 있습니다.\n",
        "\n",
        "예시로 설명하겠습니다."
      ]
    },
    {
      "cell_type": "code",
      "metadata": {
        "colab": {
          "base_uri": "https://localhost:8080/"
        },
        "id": "cv3jB8DtZKVG",
        "outputId": "5a3c9f6c-e366-419a-e441-9342b769c17e"
      },
      "source": [
        "my_country = 'korea'\n",
        "your_country = 'USA'\n",
        "print(\"I'm in {0}, You're in {1}.\".format(my_country, your_country))"
      ],
      "execution_count": null,
      "outputs": [
        {
          "output_type": "stream",
          "name": "stdout",
          "text": [
            "I'm in korea, You're in USA.\n"
          ]
        }
      ]
    },
    {
      "cell_type": "markdown",
      "metadata": {
        "id": "WO1T3J8ua0ry"
      },
      "source": [
        "여러 문자열을 한꺼번에 출력할 수도 있고, 하나만 선택해서 출력할 수도 있습니다."
      ]
    },
    {
      "cell_type": "code",
      "metadata": {
        "colab": {
          "base_uri": "https://localhost:8080/"
        },
        "id": "lewIc9FPayKb",
        "outputId": "87a154be-c779-46c6-9f33-c81aeb1c67f6"
      },
      "source": [
        "colors = ['red', 'blue', 'yellow', 'skyblue']\n",
        "print('I have {0}.'.format(colors))\n",
        "print('My favorite color is {0}.'.format(colors[0]))\n",
        "print('Your favorite color is {0}.'.format(colors[3]))"
      ],
      "execution_count": null,
      "outputs": [
        {
          "output_type": "stream",
          "name": "stdout",
          "text": [
            "I have ['red', 'blue', 'yellow', 'skyblue'].\n",
            "My favorite color is red.\n",
            "Your favorite color is skyblue.\n"
          ]
        }
      ]
    },
    {
      "cell_type": "markdown",
      "metadata": {
        "id": "H3_XSeg-bWP2"
      },
      "source": [
        "출력할 객체의 데이터를 지정할 수도 있습니다."
      ]
    },
    {
      "cell_type": "code",
      "metadata": {
        "colab": {
          "base_uri": "https://localhost:8080/"
        },
        "id": "vZAFNFkzbZg_",
        "outputId": "9f023a27-d2f2-4535-f12a-9eb47ec19dc6"
      },
      "source": [
        "my_country = 'korea'\n",
        "your_country = 'USA'\n",
        "colors = ['red', 'blue', 'yellow', 'skyblue']\n",
        "print(\"I'm in {0}. My favorite colors are {2}, {3}.\".\n",
        "      format(my_country, your_country, colors[0], colors[1]))"
      ],
      "execution_count": null,
      "outputs": [
        {
          "output_type": "stream",
          "name": "stdout",
          "text": [
            "I'm in korea. My favorite colors are red, blue.\n"
          ]
        }
      ]
    },
    {
      "cell_type": "markdown",
      "metadata": {
        "id": "nn_UFaCNcPqk"
      },
      "source": [
        "`{숫자}` 형태가 아닌 `{}` 형태로도 지정할 수 있습니다. 순차적으로 데이터를 출력합니다."
      ]
    },
    {
      "cell_type": "code",
      "metadata": {
        "colab": {
          "base_uri": "https://localhost:8080/"
        },
        "id": "gioP4wKIcYjK",
        "outputId": "a4020ab8-a36e-4256-d16c-0d81b58b3e49"
      },
      "source": [
        "print(\"I'm in {}, You're in {}.\".format(my_country, your_country))"
      ],
      "execution_count": null,
      "outputs": [
        {
          "output_type": "stream",
          "name": "stdout",
          "text": [
            "I'm in korea, You're in USA.\n"
          ]
        }
      ]
    },
    {
      "cell_type": "markdown",
      "metadata": {
        "id": "4a7tXTGScqRP"
      },
      "source": [
        "문자열뿐만 아니라 숫자인 데이터도 출력할 수 있습니다. 설명은 생략합니다.\n",
        "\n",
        "다만 숫자를 출력할 때는 형식을 지정할 수 있습니다.\n",
        "\n",
        "아래는 먼저 정수에 대한 예시입니다.\n",
        "\n",
        "`{N:nd}` 형식으로 정수를 출력합니다. `N`은 데이터의 위치, `n`은 공백칸의 개수입니다. 공백칸수에 해당하는 숫자가 클수록 공백이 커집니다."
      ]
    },
    {
      "cell_type": "code",
      "metadata": {
        "colab": {
          "base_uri": "https://localhost:8080/"
        },
        "id": "bPwwMc8OeMcT",
        "outputId": "159f8f4e-6202-49f3-9530-361d1c5344f8"
      },
      "source": [
        "num_d = 6\n",
        "print('공백칸 수를 지정해볼까? {0:1d}'.format(num_d))\n",
        "print('공백칸 수를 지정해볼까? {0:2d}'.format(num_d))\n",
        "print('공백칸 수를 지정해볼까? {0:7d}'.format(num_d))"
      ],
      "execution_count": null,
      "outputs": [
        {
          "output_type": "stream",
          "name": "stdout",
          "text": [
            "공백칸 수를 지정해볼까? 6\n",
            "공백칸 수를 지정해볼까?  6\n",
            "공백칸 수를 지정해볼까?       6\n"
          ]
        }
      ]
    },
    {
      "cell_type": "markdown",
      "metadata": {
        "id": "9-M_QzGde3n2"
      },
      "source": [
        "공백 대신 숫자 0을 채우는 방법도 있습니다. `{N:0nd}` 형식을 취합니다. 숫자 `n`을 지정하여 공백 대신 0의 개수를 채웁니다."
      ]
    },
    {
      "cell_type": "code",
      "metadata": {
        "colab": {
          "base_uri": "https://localhost:8080/"
        },
        "id": "m-f9tvwjfgQo",
        "outputId": "fd252f85-d7ad-4443-9dd1-212b1882719a"
      },
      "source": [
        "print('0으로 공백을 채워..{0:04d}'.format(num_d))\n",
        "print('0으로 공백을 채워..{0:09d}'.format(num_d))"
      ],
      "execution_count": null,
      "outputs": [
        {
          "output_type": "stream",
          "name": "stdout",
          "text": [
            "0으로 공백을 채워..0006\n",
            "0으로 공백을 채워..000000006\n"
          ]
        }
      ]
    },
    {
      "cell_type": "markdown",
      "metadata": {
        "id": "og1kW_umfhNx"
      },
      "source": [
        "`{N:>nd}`와 `{N:<nd}`는 각각 오른쪽 정렬과 왼쪽 정렬입니다. `n`은 공백칸의 개수입니다."
      ]
    },
    {
      "cell_type": "code",
      "metadata": {
        "colab": {
          "base_uri": "https://localhost:8080/"
        },
        "id": "TcIB8vpOgJm9",
        "outputId": "830a47cf-2217-4b68-8834-596d4db1bbc4"
      },
      "source": [
        "print('숫자를 정렬할 거야.{0:>5d}..완료!'.format(num_d))\n",
        "print('숫자를 정렬할 거야.{0:<5d}..완료!'.format(num_d))"
      ],
      "execution_count": null,
      "outputs": [
        {
          "output_type": "stream",
          "name": "stdout",
          "text": [
            "숫자를 정렬할 거야.    6..완료!\n",
            "숫자를 정렬할 거야.6    ..완료!\n"
          ]
        }
      ]
    },
    {
      "cell_type": "markdown",
      "metadata": {
        "id": "FSuahtKviNnx"
      },
      "source": [
        "숫자를 진수 형태로도 출력할 수 있습니다.\n",
        "\n",
        "아래에서 예시하겠습니다."
      ]
    },
    {
      "cell_type": "code",
      "metadata": {
        "colab": {
          "base_uri": "https://localhost:8080/"
        },
        "id": "h9hj-zWoiapA",
        "outputId": "75cf606e-151c-49ad-e8a3-f6ecc9fbc443"
      },
      "source": [
        "two = 2\n",
        "eight = 8\n",
        "sixteen = 16\n",
        "print('2의 진수는 {:#x}'.format(two))\n",
        "print('2의 진수는 (#을 생략하면) {:x}'.format(two))\n",
        "print('8의 진수는 {:#o}'.format(eight))\n",
        "print('8의 진수는 (#을 생략하면) {:o}'.format(eight))\n",
        "print('16의 진수는 {:#b}'.format(sixteen))\n",
        "print('16의 진수는 (#을 생략하면) {:b}'.format(sixteen))"
      ],
      "execution_count": null,
      "outputs": [
        {
          "output_type": "stream",
          "name": "stdout",
          "text": [
            "2의 진수는 0x2\n",
            "2의 진수는 (#을 생략하면) 2\n",
            "8의 진수는 0o10\n",
            "8의 진수는 (#을 생략하면) 10\n",
            "16의 진수는 0b10000\n",
            "16의 진수는 (#을 생략하면) 10000\n"
          ]
        }
      ]
    },
    {
      "cell_type": "markdown",
      "metadata": {
        "id": "gEsO7XxtjUSN"
      },
      "source": [
        "예시 그대로입니다.\n",
        "\n",
        "아래는 실수에 대한 예시입니다.\n",
        "\n",
        "`{N:.nf}` 형식입니다. `n`에 소수점 자리 수를 지정할 수 있습니다. "
      ]
    },
    {
      "cell_type": "code",
      "metadata": {
        "colab": {
          "base_uri": "https://localhost:8080/"
        },
        "id": "UazBNO7ljpL4",
        "outputId": "a12a77a7-029e-4a2c-9ed2-dab6ee3e8df5"
      },
      "source": [
        "num_f = 123.4567\n",
        "print('소수점 몇 째 자리까지 출력할까? {:.2f}'.format(num_f))\n",
        "print('소수점 몇 째 자리까지 출력할까? {:.3f}'.format(num_f))\n",
        "print('소수점 몇 째 자리까지 출력할까? {:.4f}'.format(num_f))"
      ],
      "execution_count": null,
      "outputs": [
        {
          "output_type": "stream",
          "name": "stdout",
          "text": [
            "소수점 몇 째 자리까지 출력할까? 123.46\n",
            "소수점 몇 째 자리까지 출력할까? 123.457\n",
            "소수점 몇 째 자리까지 출력할까? 123.4567\n"
          ]
        }
      ]
    },
    {
      "cell_type": "markdown",
      "metadata": {
        "id": "APgoRBztkzxW"
      },
      "source": [
        "아래는 각종 숫자 출력 방식입니다.\n",
        "\n",
        "먼저 `{N:.n%}` 형식으로 소수점을 지정하고 퍼센트를 붙일 수 있습니다."
      ]
    },
    {
      "cell_type": "code",
      "metadata": {
        "colab": {
          "base_uri": "https://localhost:8080/"
        },
        "id": "ozCIOeeIlJ2v",
        "outputId": "454cadca-642f-4efd-95a0-02b55a6cc0ef"
      },
      "source": [
        "print('퍼센트를 붙이자. {:.0%}'.format(num_f))\n",
        "print('퍼센트를 붙이자. {:.1%}'.format(num_f))\n",
        "print('퍼센트를 붙이자. {:.2%}'.format(num_f))\n",
        "print('퍼센트를 붙이자. {:.4%}'.format(num_f))"
      ],
      "execution_count": null,
      "outputs": [
        {
          "output_type": "stream",
          "name": "stdout",
          "text": [
            "퍼센트를 붙이자. 12346%\n",
            "퍼센트를 붙이자. 12345.7%\n",
            "퍼센트를 붙이자. 12345.67%\n",
            "퍼센트를 붙이자. 12345.6700%\n"
          ]
        }
      ]
    },
    {
      "cell_type": "markdown",
      "metadata": {
        "id": "HEbaweW7lmWl"
      },
      "source": [
        "','를 3칸마다 붙일 수 있습니다. `{N:,}` 형식입니다."
      ]
    },
    {
      "cell_type": "code",
      "metadata": {
        "colab": {
          "base_uri": "https://localhost:8080/"
        },
        "id": "0J5SQiZlm8zX",
        "outputId": "a6ce0909-8921-40d1-e92e-256639632f8d"
      },
      "source": [
        "num_money = 97000000\n",
        "print('금액에 붙이는 쉼표를 달자. {:,}$'.format(num_money))"
      ],
      "execution_count": null,
      "outputs": [
        {
          "output_type": "stream",
          "name": "stdout",
          "text": [
            "금액에 붙이는 쉼표를 달자. 97,000,000$\n"
          ]
        }
      ]
    },
    {
      "cell_type": "markdown",
      "metadata": {
        "id": "R8PI0wdDn4A1"
      },
      "source": [
        "지수로 표현할 수 있습니다. 형식은 `{:.ne}`이고, 소수점 자리 수는 `n`에 지정합니다. "
      ]
    },
    {
      "cell_type": "code",
      "metadata": {
        "colab": {
          "base_uri": "https://localhost:8080/"
        },
        "id": "u12MA-6NoULR",
        "outputId": "997dabf6-050f-4faa-ec8b-d003ec00676c"
      },
      "source": [
        "num_e = 8530000000\n",
        "print('지수로 표현하면? {:.1e}'.format(num_e))\n",
        "print('지수로 표현하면? {:.2e}'.format(num_e))\n",
        "print('지수로 표현하면? {:.4e}'.format(num_e))"
      ],
      "execution_count": null,
      "outputs": [
        {
          "output_type": "stream",
          "name": "stdout",
          "text": [
            "지수로 표현하면? 8.5e+09\n",
            "지수로 표현하면? 8.53e+09\n",
            "지수로 표현하면? 8.5300e+09\n"
          ]
        }
      ]
    },
    {
      "cell_type": "markdown",
      "metadata": {
        "id": "-ysE-URmgpXG"
      },
      "source": [
        "## **11.2. 입력**"
      ]
    },
    {
      "cell_type": "markdown",
      "metadata": {
        "id": "UZyokR9Mrbpu"
      },
      "source": [
        "직접 데이터를 입력하는 함수는 `input()`입니다. `객체명 = input(데이터)` 형식으로 쓰입니다. 숫자나 문자열 모두 입력할 수 있습니다."
      ]
    },
    {
      "cell_type": "code",
      "metadata": {
        "colab": {
          "base_uri": "https://localhost:8080/"
        },
        "id": "aQ4cG0CnrohZ",
        "outputId": "8c813d01-79b3-436c-f4ba-47caaffb04e6"
      },
      "source": [
        "input_data = input('주문하시겠어요? ')\n",
        "print('주문하신 메뉴는 {}입니다.'.format(input_data))"
      ],
      "execution_count": null,
      "outputs": [
        {
          "output_type": "stream",
          "name": "stdout",
          "text": [
            "주문하시겠어요? 아메리카노\n",
            "주문하신 메뉴는 아메리카노입니다.\n"
          ]
        }
      ]
    },
    {
      "cell_type": "markdown",
      "metadata": {
        "id": "pu1dHAK6sfGy"
      },
      "source": [
        "숫자를 입력해서 연산 작업을 할 수도 있습니다. 이때 입력한 숫자는 문자형로 인식되므로, 연산 작업을 수행하려면 객체를 숫자형으로 변환하기 위해 정수로 바꾸는 `int()` 함수 또는 실수로 바꾸는 `float()` 함수로 묶어서 숫자로 바꿔야 합니다."
      ]
    },
    {
      "cell_type": "code",
      "metadata": {
        "colab": {
          "base_uri": "https://localhost:8080/"
        },
        "id": "EHEbvT9zsea5",
        "outputId": "80d70443-3d81-49f9-e3f6-86f42f687115"
      },
      "source": [
        "input_data = input('데이터를 입력하세요.')\n",
        "final_data = int(input_data) + 5\n",
        "print('최종 데이터는 {}입니다'.format(final_data))"
      ],
      "execution_count": null,
      "outputs": [
        {
          "output_type": "stream",
          "name": "stdout",
          "text": [
            "데이터를 입력하세요.3\n",
            "최종 데이터는 8입니다\n"
          ]
        }
      ]
    },
    {
      "cell_type": "markdown",
      "metadata": {
        "id": "yYOfoE_Rpx-K"
      },
      "source": [
        "# **12. 파일 다루기 기본**"
      ]
    },
    {
      "cell_type": "markdown",
      "metadata": {
        "id": "RmVzLzPgubKO"
      },
      "source": [
        "## **12.1. 파일 열기**\n",
        "\n",
        "`open()` 함수를 사용해서 파일을 열 수 있습니다.\n",
        "\n",
        "형식은 아래와 같습니다.\n",
        "\n",
        "`file = open('파일이름', '파일열기속성')`\n",
        "\n",
        "`파일열기속성`에 포함되는 목록은 아래와 같습니다.\n",
        "\n",
        "- `r`: 읽기 모드로 파일을 엽니다. `파일열기속성`을 지정하지 않았을 때 기본값으로 지정되는 인자입니다.\n",
        "\n",
        "- `w`: 쓰기 모드로 파일을 엽니다. 파일명이 같은 파일이 존재하면 기존 내용은 자동으로 삭제됩니다. `x` 인자의 경우는 파일명이 같은 파일이 존재하면 오류가 납니다.\n",
        "\n",
        "- `a`: 추가 모드로 파일을 엽니다. 파일명이 같은 파일이 없으면 사실상 `w` 인자와 동일합니다.\n",
        "\n",
        "- `t`: 텍스트 모드로 파일을 엽니다. 기본적으로 지정되는 인자입니다.\n",
        "\n",
        "- `b`: 바이너리 모드로 파일을 엽니다.\n",
        "\n",
        "정리하자면 `파일열기속성`에 아무것도 지정하지 않으면 `rt`로 자동으로 지정되는 것입니다. `w`만 지정한다면 자동으로 `wt`로 지정됩니다. 여러 속성을 혼합해서 지정할 수도 있는데, 예를 들면 `rb`이며 `br`도 가능합니다. \n",
        "\n",
        "아래 코드에서 예시합니다."
      ]
    },
    {
      "cell_type": "code",
      "metadata": {
        "colab": {
          "base_uri": "https://localhost:8080/",
          "height": 191
        },
        "id": "E-wI34nzwS4G",
        "outputId": "6ddf6137-3c4d-43f8-959f-63e7bcc19f50"
      },
      "source": [
        "# 임의로 지정한 파일명입니다. 불러 올 파일이 없으므로 오류가 납니다.\n",
        "test_file = open('my_favorite', 'rb')"
      ],
      "execution_count": null,
      "outputs": [
        {
          "output_type": "error",
          "ename": "FileNotFoundError",
          "evalue": "ignored",
          "traceback": [
            "\u001b[0;31m---------------------------------------------------------------------------\u001b[0m",
            "\u001b[0;31mFileNotFoundError\u001b[0m                         Traceback (most recent call last)",
            "\u001b[0;32m<ipython-input-105-d505086273aa>\u001b[0m in \u001b[0;36m<module>\u001b[0;34m()\u001b[0m\n\u001b[1;32m      1\u001b[0m \u001b[0;31m# 임의로 지정한 파일명입니다. 불러 올 파일이 없으므로 오류가 납니다.\u001b[0m\u001b[0;34m\u001b[0m\u001b[0;34m\u001b[0m\u001b[0;34m\u001b[0m\u001b[0m\n\u001b[0;32m----> 2\u001b[0;31m \u001b[0mtest_file\u001b[0m \u001b[0;34m=\u001b[0m \u001b[0mopen\u001b[0m\u001b[0;34m(\u001b[0m\u001b[0;34m'my_favorite'\u001b[0m\u001b[0;34m,\u001b[0m \u001b[0;34m'rb'\u001b[0m\u001b[0;34m)\u001b[0m\u001b[0;34m\u001b[0m\u001b[0;34m\u001b[0m\u001b[0m\n\u001b[0m",
            "\u001b[0;31mFileNotFoundError\u001b[0m: [Errno 2] No such file or directory: 'my_favorite'"
          ]
        }
      ]
    },
    {
      "cell_type": "markdown",
      "metadata": {
        "id": "9N6WAIhzxnc9"
      },
      "source": [
        "## **12.2. 파일 쓰기**"
      ]
    },
    {
      "cell_type": "markdown",
      "metadata": {
        "id": "8GE_HULIxsJL"
      },
      "source": [
        "파일을 연 후에 쓰기 작업을 수행할 수 있습니다. 단, 쓰기 작업을 수행하려면 파일을 `w` 형식으로 열어야 합니다.\n",
        "\n",
        "아래는 파일을 쓰고 닫는 형식입니다.\n",
        "\n",
        "```\n",
        "file.write(데이터)\n",
        "file.close()\n",
        "```"
      ]
    },
    {
      "cell_type": "markdown",
      "metadata": {
        "id": "A-IQ2NQCzrTj"
      },
      "source": [
        "예시를 들기 위해 구글 드라이브와 연동합니다."
      ]
    },
    {
      "cell_type": "code",
      "metadata": {
        "colab": {
          "base_uri": "https://localhost:8080/"
        },
        "id": "KlHhOE96zo5J",
        "outputId": "1128a211-fa03-44ec-b76b-bee9fb62c553"
      },
      "source": [
        "from google.colab import drive\n",
        "drive.mount('/content/gdrive/')"
      ],
      "execution_count": null,
      "outputs": [
        {
          "output_type": "stream",
          "name": "stdout",
          "text": [
            "Mounted at /content/gdrive/\n"
          ]
        }
      ]
    },
    {
      "cell_type": "markdown",
      "metadata": {
        "id": "PF1OcQHW0MPw"
      },
      "source": [
        "파일을 쓰고 저장하기 위해 경로를 잡습니다."
      ]
    },
    {
      "cell_type": "code",
      "metadata": {
        "colab": {
          "base_uri": "https://localhost:8080/"
        },
        "id": "-em2LzF00K1p",
        "outputId": "e5028741-a0cc-456e-e96f-b4eb700578f4"
      },
      "source": [
        "cd /content/gdrive/MyDrive/Python_for_Data_Analytics_Science"
      ],
      "execution_count": null,
      "outputs": [
        {
          "output_type": "stream",
          "name": "stdout",
          "text": [
            "/content/gdrive/MyDrive/Python_for_Data_Analytics_Science\n"
          ]
        }
      ]
    },
    {
      "cell_type": "markdown",
      "metadata": {
        "id": "Pggc9nB20dhc"
      },
      "source": [
        "파일 쓰기에 대한 예시입니다. 지정된 경로에 해당 파일이 저장됩니다."
      ]
    },
    {
      "cell_type": "code",
      "metadata": {
        "id": "XmSTEEGP0iCt"
      },
      "source": [
        "test_file = open('test.txt','w')\n",
        "test_file.write('Test text')\n",
        "test_file.close()"
      ],
      "execution_count": null,
      "outputs": []
    },
    {
      "cell_type": "markdown",
      "metadata": {
        "id": "DfxVCgZz1jV3"
      },
      "source": [
        "## **12.3. 파일 읽기**"
      ]
    },
    {
      "cell_type": "markdown",
      "metadata": {
        "id": "6lNd9eaC2TOh"
      },
      "source": [
        "위에서 생성한 'test.txt'을 읽겠습니다."
      ]
    },
    {
      "cell_type": "code",
      "metadata": {
        "colab": {
          "base_uri": "https://localhost:8080/"
        },
        "id": "chCI-va52Z3f",
        "outputId": "1d72489c-a4f0-4402-bbfd-e2bd6343b5d0"
      },
      "source": [
        "# 기본값이 `r`이므로 따로 지정하지 않아도 괜찮습니다.\n",
        "test_file = open('test.txt')\n",
        "read_file = test_file.read()\n",
        "test_file.close()\n",
        "print(read_file)"
      ],
      "execution_count": null,
      "outputs": [
        {
          "output_type": "stream",
          "name": "stdout",
          "text": [
            "Test text\n"
          ]
        }
      ]
    },
    {
      "cell_type": "markdown",
      "metadata": {
        "id": "GNrxBAvl3ByP"
      },
      "source": [
        "## **12.4. 반복문으로 파일 쓰기**"
      ]
    },
    {
      "cell_type": "markdown",
      "metadata": {
        "id": "Meoiv6um3hmk"
      },
      "source": [
        "먼저 for문으로 문자열을 작성하는 법을 설명합니다.\n",
        "\n",
        "아래는 5 + 0 = 5부터 5 + 7 = 12까지 줄을 바꿔서 파일에 텍스트를 쓰는 for문입니다."
      ]
    },
    {
      "cell_type": "code",
      "metadata": {
        "id": "FQ8zqYa33xkh"
      },
      "source": [
        "file = open('for_plus5.txt', 'w')\n",
        "for num in range(8):\n",
        "    plus5 = '5 + {} = {}\\n'.format(num, num+5)\n",
        "    file.write(plus5)\n",
        "file.close()"
      ],
      "execution_count": null,
      "outputs": []
    },
    {
      "cell_type": "markdown",
      "metadata": {
        "id": "pkOKS21i6W3q"
      },
      "source": [
        "## **12.5. 반복문으로 파일 읽기**"
      ]
    },
    {
      "cell_type": "markdown",
      "metadata": {
        "id": "1gkIMHOK6dXJ"
      },
      "source": [
        "파일 내용을 한 줄씩 읽으려면 `readline()` 함수나 `readlines()` 함수를 사용합니다.\n",
        "\n",
        "- `readline()`: 문자열 한 줄을 읽습니다. \n",
        "\n",
        "- `readlines()`: 전체 문자열을 읽고 한 줄씩 쉼표로 구분되는 리스트로 바꿉니다."
      ]
    },
    {
      "cell_type": "markdown",
      "metadata": {
        "id": "UfkJ-66S7GHd"
      },
      "source": [
        "먼저 `readline()` 함수에 대한 예시입니다."
      ]
    },
    {
      "cell_type": "code",
      "metadata": {
        "colab": {
          "base_uri": "https://localhost:8080/"
        },
        "id": "og7B4NYi7ItR",
        "outputId": "d4545c39-1739-477e-fceb-9248c898ca6a"
      },
      "source": [
        "file = open('for_plus5.txt')\n",
        "line1 = file.readline()\n",
        "line2 = file.readline()\n",
        "line3 = file.readline()\n",
        "line4 = file.readline()\n",
        "file.close()\n",
        "print(line1)\n",
        "print(line2)\n",
        "print(line3)"
      ],
      "execution_count": null,
      "outputs": [
        {
          "output_type": "stream",
          "name": "stdout",
          "text": [
            "5 + 0 = 5\n",
            "\n",
            "5 + 1 = 6\n",
            "\n",
            "5 + 2 = 7\n",
            "\n"
          ]
        }
      ]
    },
    {
      "cell_type": "markdown",
      "metadata": {
        "id": "52eJK21m758T"
      },
      "source": [
        "위에서 개행 문자로 `\\n`을 지정했기 때문에 한 줄씩 개행되면서 문자열이 출력됐습니다. 개행되지 않도록 출력하려면 `end=''`로 매개변수르 지정합니다. `''`는 빈칸이므로 빈 문자열은 읽지 않도록 조치하는 것입니다."
      ]
    },
    {
      "cell_type": "code",
      "metadata": {
        "colab": {
          "base_uri": "https://localhost:8080/"
        },
        "id": "m5KYYm0I8PbN",
        "outputId": "c4195c46-ff6e-4325-ac2a-87f02f89f93d"
      },
      "source": [
        "print(line1, end='')\n",
        "print(line2, end='')\n",
        "print(line3, end='')"
      ],
      "execution_count": null,
      "outputs": [
        {
          "output_type": "stream",
          "name": "stdout",
          "text": [
            "5 + 0 = 5\n",
            "5 + 1 = 6\n",
            "5 + 2 = 7\n"
          ]
        }
      ]
    },
    {
      "cell_type": "markdown",
      "metadata": {
        "id": "aYWTP5IMA3Fp"
      },
      "source": [
        "while문으로 파일을 읽겠습니다. 위처럼 빈 문자열을 읽지 않도록 지정하겠습니다."
      ]
    },
    {
      "cell_type": "code",
      "metadata": {
        "colab": {
          "base_uri": "https://localhost:8080/"
        },
        "id": "XATGiGohBQ5M",
        "outputId": "2cada9f5-9baf-4b2a-db1b-2760da1500f1"
      },
      "source": [
        "file = open('for_plus5.txt')\n",
        "line = file.readline()\n",
        "# line이 False이면 빈 문자열이므로 해당 문자열은 생략하고 출력하지 않습니다.\n",
        "while line:\n",
        "    print(line, end='')\n",
        "    line = file.readline()\n",
        "file.close()"
      ],
      "execution_count": null,
      "outputs": [
        {
          "output_type": "stream",
          "name": "stdout",
          "text": [
            "5 + 0 = 5\n",
            "5 + 1 = 6\n",
            "5 + 2 = 7\n",
            "5 + 3 = 8\n",
            "5 + 4 = 9\n",
            "5 + 5 = 10\n",
            "5 + 6 = 11\n",
            "5 + 7 = 12\n"
          ]
        }
      ]
    },
    {
      "cell_type": "markdown",
      "metadata": {
        "id": "TXmtMzStCMt_"
      },
      "source": [
        "`readlines()` 함수에 대한 예시입니다. 리스트 형태로 구성되며 한 줄씩 원소로 갖습니다."
      ]
    },
    {
      "cell_type": "code",
      "metadata": {
        "colab": {
          "base_uri": "https://localhost:8080/"
        },
        "id": "3dcWfhVFCRxg",
        "outputId": "6674fdd2-0c8e-46ca-a12f-1e056271fc74"
      },
      "source": [
        "file = open('for_plus5.txt')\n",
        "lines = file.readlines()\n",
        "file.close()\n",
        "print(lines)"
      ],
      "execution_count": null,
      "outputs": [
        {
          "output_type": "stream",
          "name": "stdout",
          "text": [
            "['5 + 0 = 5\\n', '5 + 1 = 6\\n', '5 + 2 = 7\\n', '5 + 3 = 8\\n', '5 + 4 = 9\\n', '5 + 5 = 10\\n', '5 + 6 = 11\\n', '5 + 7 = 12\\n']\n"
          ]
        }
      ]
    },
    {
      "cell_type": "markdown",
      "metadata": {
        "id": "tuIC0U2_Cnio"
      },
      "source": [
        "리스트에 할당된 원소인 문자열을 빈 문자열을 제외하고 출력하려면 for문으로도 처리할 수 있습니다. "
      ]
    },
    {
      "cell_type": "code",
      "metadata": {
        "colab": {
          "base_uri": "https://localhost:8080/"
        },
        "id": "6d8FMzliCwLd",
        "outputId": "bcc2e813-d2ad-4f0f-a3ea-7a99ba7e5231"
      },
      "source": [
        "file = open('for_plus5.txt')\n",
        "lines = file.readlines()\n",
        "file.close()\n",
        "for line in lines:\n",
        "    print(line, end='')"
      ],
      "execution_count": null,
      "outputs": [
        {
          "output_type": "stream",
          "name": "stdout",
          "text": [
            "5 + 0 = 5\n",
            "5 + 1 = 6\n",
            "5 + 2 = 7\n",
            "5 + 3 = 8\n",
            "5 + 4 = 9\n",
            "5 + 5 = 10\n",
            "5 + 6 = 11\n",
            "5 + 7 = 12\n"
          ]
        }
      ]
    },
    {
      "cell_type": "markdown",
      "metadata": {
        "id": "X0xJ2kdoF39Z"
      },
      "source": [
        "위 코드에서 더 축약할 수도 있습니다. 'lines' 객체에 문자열을 지정하지 않고 바로 for문으로 넘깁니다."
      ]
    },
    {
      "cell_type": "code",
      "metadata": {
        "colab": {
          "base_uri": "https://localhost:8080/"
        },
        "id": "Ksoavo8bF6n9",
        "outputId": "aef552e9-20bf-46b5-ca6b-3a28c61b8e5f"
      },
      "source": [
        "file = open('for_plus5.txt')\n",
        "for line in file.readlines():\n",
        "    print(line, end='')\n",
        "file.close()"
      ],
      "execution_count": null,
      "outputs": [
        {
          "output_type": "stream",
          "name": "stdout",
          "text": [
            "5 + 0 = 5\n",
            "5 + 1 = 6\n",
            "5 + 2 = 7\n",
            "5 + 3 = 8\n",
            "5 + 4 = 9\n",
            "5 + 5 = 10\n",
            "5 + 6 = 11\n",
            "5 + 7 = 12\n"
          ]
        }
      ]
    },
    {
      "cell_type": "markdown",
      "metadata": {
        "id": "Yec5NI2uFr9r"
      },
      "source": [
        "위 코드에서 'file' 객체만 입력하는 것으로 갈음할 수도 있습니다. 'file' 객체는 `readlines()` 함수로 처리한 리스트 형태의 원소가 담겨있기 때문입니다."
      ]
    },
    {
      "cell_type": "code",
      "metadata": {
        "colab": {
          "base_uri": "https://localhost:8080/"
        },
        "id": "kFNa6nQtGptj",
        "outputId": "67a886f0-0e9f-406f-f153-6242bcdcd087"
      },
      "source": [
        "file = open('for_plus5.txt')\n",
        "for line in file:\n",
        "    print(line, end='')\n",
        "file.close()"
      ],
      "execution_count": null,
      "outputs": [
        {
          "output_type": "stream",
          "name": "stdout",
          "text": [
            "5 + 0 = 5\n",
            "5 + 1 = 6\n",
            "5 + 2 = 7\n",
            "5 + 3 = 8\n",
            "5 + 4 = 9\n",
            "5 + 5 = 10\n",
            "5 + 6 = 11\n",
            "5 + 7 = 12\n"
          ]
        }
      ]
    },
    {
      "cell_type": "markdown",
      "metadata": {
        "id": "jD7muj_DHZ_g"
      },
      "source": [
        "## **12.6. with문으로 파일 쓰고 읽기**"
      ]
    },
    {
      "cell_type": "markdown",
      "metadata": {
        "id": "jt3TzagNJI_R"
      },
      "source": [
        "with문은 위에서 하나씩 지정했던 읽고 닫는 과정을 스스로 처리합니다. 따로 `close()` 메서드를 지정할 필요가 없습니다.\n",
        "\n",
        "코드 형식은 아래와 같습니다.\n",
        "\n",
        "```\n",
        "with open('파일명', '파일열기속성') as f\n",
        "```\n",
        "\n",
        "파일에 데이터를 쓸 경우의 형식은 아래와 같습니다.\n",
        "\n",
        "```\n",
        "with open('파일명', '파일열기속성') as f:\n",
        "    f.write(데이터)\n",
        "```\n",
        "\n",
        "\n"
      ]
    },
    {
      "cell_type": "markdown",
      "metadata": {
        "id": "f8S05_v2NFqA"
      },
      "source": [
        "파일을 읽는 경우의 형식은 아래와 같습니다.\n",
        "\n",
        "```\n",
        "with open('파일명', '파일열기속성') as f:\n",
        "    file_data = f.read()\n",
        "```"
      ]
    },
    {
      "cell_type": "markdown",
      "metadata": {
        "id": "9IXpPkP-NeUF"
      },
      "source": [
        "with문을 사용하는 예시입니다. 먼저 파일을 생성해서 텍스트를 추가하겠습니다."
      ]
    },
    {
      "cell_type": "code",
      "metadata": {
        "id": "cnw6flNRNl1o"
      },
      "source": [
        "with open('test2.txt', 'w') as f:\n",
        "    f.write(\"Ok. It's 'with' power.\\n\")\n",
        "    f.write(\"So powerful 'with'.\\n\")"
      ],
      "execution_count": null,
      "outputs": []
    },
    {
      "cell_type": "markdown",
      "metadata": {
        "id": "-C2qlNF-Oc1T"
      },
      "source": [
        "생성한 텍스트 파일을 읽겠습니다."
      ]
    },
    {
      "cell_type": "code",
      "metadata": {
        "colab": {
          "base_uri": "https://localhost:8080/"
        },
        "id": "elod2iXPOiZ0",
        "outputId": "de83a7b4-185a-4795-9454-10237ccb4902"
      },
      "source": [
        "with open('test2.txt') as f:\n",
        "    with_power = f.read()\n",
        "    print(with_power)"
      ],
      "execution_count": null,
      "outputs": [
        {
          "output_type": "stream",
          "name": "stdout",
          "text": [
            "Ok. It's 'with' power.\n",
            "So powerful 'with'.\n",
            "\n"
          ]
        }
      ]
    },
    {
      "cell_type": "markdown",
      "metadata": {
        "id": "LVuu3aUkOyLv"
      },
      "source": [
        "with문과 반복문을 함께 사용하겠습니다. 이번에는 빼기 연산을 반복하는 파일을 만듭니다."
      ]
    },
    {
      "cell_type": "code",
      "metadata": {
        "id": "LYU71UQ3O8FU"
      },
      "source": [
        "with open('with_subtract4.txt', 'w') as f:\n",
        "    for i in range(12):\n",
        "        subtract4 = '4 - {} = {}\\n'.format(i, 4 - i)\n",
        "        f.write(subtract4)"
      ],
      "execution_count": null,
      "outputs": []
    },
    {
      "cell_type": "markdown",
      "metadata": {
        "id": "NkTQcGY_P_-n"
      },
      "source": [
        "생성한 파일을 읽습니다. 위에서처럼 빈 문자열은 읽지 않습니다."
      ]
    },
    {
      "cell_type": "code",
      "metadata": {
        "colab": {
          "base_uri": "https://localhost:8080/"
        },
        "id": "_0-jfvaiQHGk",
        "outputId": "ac4f05eb-691c-4676-fe97-c037b30bf1c5"
      },
      "source": [
        "with open('with_subtract4.txt') as f:\n",
        "    for line in f:\n",
        "        print(line, end='')"
      ],
      "execution_count": null,
      "outputs": [
        {
          "output_type": "stream",
          "name": "stdout",
          "text": [
            "4 - 0 = 4\n",
            "4 - 1 = 3\n",
            "4 - 2 = 2\n",
            "4 - 3 = 1\n",
            "4 - 4 = 0\n",
            "4 - 5 = -1\n",
            "4 - 6 = -2\n",
            "4 - 7 = -3\n",
            "4 - 8 = -4\n",
            "4 - 9 = -5\n",
            "4 - 10 = -6\n",
            "4 - 11 = -7\n"
          ]
        }
      ]
    },
    {
      "cell_type": "markdown",
      "metadata": {
        "id": "7yX_yLRAQpFS"
      },
      "source": [
        "# **13. 텍스트 파일 다루기**"
      ]
    },
    {
      "cell_type": "markdown",
      "metadata": {
        "id": "SNZJI6azKmBa"
      },
      "source": [
        "먼저 텍스트 파일을 생성하여 구글 드라이브의 폴더에 저장하겠습니다."
      ]
    },
    {
      "cell_type": "code",
      "metadata": {
        "id": "UKxhct1QKqH_"
      },
      "source": [
        "with open('fruits_sales.txt', 'w') as f:\n",
        "    f.write(\"date  banana  apple  grape  strawberry\\n\")\n",
        "    f.write(\"9.26.   16     32     11        62\\n\")\n",
        "    f.write(\"9.27.   18     22     36        9\\n\")\n",
        "    f.write(\"9.28.   12     31     28        53\\n\")\n",
        "    f.write(\"9.29.   54     23     21        8\\n\")"
      ],
      "execution_count": null,
      "outputs": []
    },
    {
      "cell_type": "markdown",
      "metadata": {
        "id": "-dZjBzOtOMW2"
      },
      "source": [
        "저장한 텍스트 파일을 읽습니다."
      ]
    },
    {
      "cell_type": "code",
      "metadata": {
        "colab": {
          "base_uri": "https://localhost:8080/"
        },
        "id": "yXBnp4F9L8u2",
        "outputId": "ca715294-0310-453e-b0eb-5fa8db762c09"
      },
      "source": [
        "with open('fruits_sales.txt') as f:\n",
        "    fruits_sales = f.read()\n",
        "    print(fruits_sales)"
      ],
      "execution_count": null,
      "outputs": [
        {
          "output_type": "stream",
          "name": "stdout",
          "text": [
            "date  banana  apple  grape  strawberry\n",
            "9.26.   16     32     11        62\n",
            "9.27.   18     22     36        9\n",
            "9.28.   12     31     28        53\n",
            "9.29.   54     23     21        8\n",
            "\n"
          ]
        }
      ]
    },
    {
      "cell_type": "markdown",
      "metadata": {
        "id": "nVDVP3lhOpej"
      },
      "source": [
        "텍스트 파일의 첫 줄을 읽습니다."
      ]
    },
    {
      "cell_type": "code",
      "metadata": {
        "colab": {
          "base_uri": "https://localhost:8080/"
        },
        "id": "kBdIROmW9XMD",
        "outputId": "3d048c19-7b60-408c-8e45-553d40142065"
      },
      "source": [
        "with open('fruits_sales.txt') as f:\n",
        "    fruits_sales_line1 = f.readline()\n",
        "    print(fruits_sales_line1)"
      ],
      "execution_count": null,
      "outputs": [
        {
          "output_type": "stream",
          "name": "stdout",
          "text": [
            "date  banana  apple  grape  strawberry\n",
            "\n"
          ]
        }
      ]
    },
    {
      "cell_type": "markdown",
      "metadata": {
        "id": "O0A_1StQ9hD4"
      },
      "source": [
        "공백과 개행열을 제거하고 리스트로 만듭니다."
      ]
    },
    {
      "cell_type": "code",
      "metadata": {
        "colab": {
          "base_uri": "https://localhost:8080/"
        },
        "id": "YIZvQrBZ9nJD",
        "outputId": "fdb8fd52-8f0d-4d84-b45d-a67075a3e7a9"
      },
      "source": [
        "print(fruits_sales_line1.split())"
      ],
      "execution_count": null,
      "outputs": [
        {
          "output_type": "stream",
          "name": "stdout",
          "text": [
            "['date', 'banana', 'apple', 'grape', 'strawberry']\n"
          ]
        }
      ]
    },
    {
      "cell_type": "markdown",
      "metadata": {
        "id": "Q5WZAHAn-JEh"
      },
      "source": [
        "for문을 사용해서 두 번째 줄부터 마지막 줄까지 첫 줄처럼 리스트로 출력하겠습니다. 먼저 첫 줄을 떼서 변수에 넘기는 작업이 선행되어야 합니다. 그리고나서 두 번째 줄부터 마지막 줄까지 for문으로 한 줄씩 출력합니다."
      ]
    },
    {
      "cell_type": "code",
      "metadata": {
        "colab": {
          "base_uri": "https://localhost:8080/"
        },
        "id": "BEOuB9Tl-PVb",
        "outputId": "b86dc631-90ec-42b1-e15e-79fb3b67b281"
      },
      "source": [
        "with open('fruits_sales.txt') as f:\n",
        "    fruits_sales_line1 = f.readline()\n",
        "    fruits_sales_line1.split()\n",
        "    for line in f:\n",
        "        fruits_line_list = line.split()\n",
        "        print(fruits_line_list)"
      ],
      "execution_count": null,
      "outputs": [
        {
          "output_type": "stream",
          "name": "stdout",
          "text": [
            "['9.26.', '16', '32', '11', '62']\n",
            "['9.27.', '18', '22', '36', '9']\n",
            "['9.28.', '12', '31', '28', '53']\n",
            "['9.29.', '54', '23', '21', '8']\n"
          ]
        }
      ]
    },
    {
      "cell_type": "markdown",
      "metadata": {
        "id": "rdpmKDKGw20i"
      },
      "source": [
        "리스트로 출력하는 것뿐만 아니라 새로 생성한 리스트에 원소들을 저장하겠습니다. 원소들은 숫자로 입력된 상태지만 형식은 문자열(string)입니다. 데이터 분석을 위해서는 `int()` 함수를 사용하여 숫자로 변환해야 합니다.\n",
        "\n",
        "아래 코드로 전체적인 과정을 정리하고 내용을 추가하겠습니다."
      ]
    },
    {
      "cell_type": "code",
      "metadata": {
        "colab": {
          "base_uri": "https://localhost:8080/"
        },
        "id": "in60y-PFxja-",
        "outputId": "089316cc-c73d-48fe-e989-f3ea7c44a1d9"
      },
      "source": [
        "with open('fruits_sales.txt') as f:\n",
        "    fruits_sales_line1 = f.readline()\n",
        "    fruits_sales_line1_split = fruits_sales_line1.split()\n",
        "\n",
        "    date = []\n",
        "    banana = []\n",
        "    apple = []\n",
        "    grape = []\n",
        "    strawberry = []\n",
        "\n",
        "    for line in f:\n",
        "        fruits_sales_list = line.split()\n",
        "        date.append(fruits_sales_list[0])\n",
        "        banana.append(int(fruits_sales_list[1]))\n",
        "        apple.append(int(fruits_sales_list[2]))\n",
        "        grape.append(int(fruits_sales_list[3]))\n",
        "        strawberry.append(int(fruits_sales_list[4]))\n",
        "\n",
        "    print('첫 줄:', fruits_sales_line1_split)\n",
        "    print('판매일자: {}'.format(date))\n",
        "    print('{} 판매량: {}'.format(fruits_sales_line1_split[1], banana))\n",
        "    print('{} 판매량: {}'.format(fruits_sales_line1_split[2], apple))\n",
        "    print('{} 판매량: {}'.format(fruits_sales_line1_split[3], grape))\n",
        "    print('{} 판매량: {}'.format(fruits_sales_line1_split[4], strawberry))"
      ],
      "execution_count": null,
      "outputs": [
        {
          "output_type": "stream",
          "name": "stdout",
          "text": [
            "첫 줄: ['date', 'banana', 'apple', 'grape', 'strawberry']\n",
            "판매일자: ['9.26.', '9.27.', '9.28.', '9.29.']\n",
            "banana 판매량: [16, 18, 12, 54]\n",
            "apple 판매량: [32, 22, 31, 23]\n",
            "grape 판매량: [11, 36, 28, 21]\n",
            "strawberry 판매량: [62, 9, 53, 8]\n"
          ]
        }
      ]
    },
    {
      "cell_type": "markdown",
      "metadata": {
        "id": "EhGcr52m17c1"
      },
      "source": [
        "위의 변수들을 토대로 총 판매량과 평균 판매량을 구하겠습니다. 평균을 구하는 다양한 방법은 [링크](https://blockdmask.tistory.com/559)를 참고하시기 바랍니다."
      ]
    },
    {
      "cell_type": "code",
      "metadata": {
        "colab": {
          "base_uri": "https://localhost:8080/"
        },
        "id": "05VEqD3q2PRB",
        "outputId": "4a409042-680c-4eca-cc38-3ea1c4ed89be"
      },
      "source": [
        "banana_sum = sum(banana)\n",
        "apple_sum = sum(apple)\n",
        "grape_sum = sum(grape)\n",
        "strawberry_sum = sum(strawberry)\n",
        "sum_list = [banana_sum, apple_sum, grape_sum, strawberry_sum]\n",
        "\n",
        "banana_mean = banana_sum/len(banana)\n",
        "apple_mean = apple_sum/len(apple)\n",
        "grape_mean = grape_sum/len(grape)\n",
        "strawberry_mean = strawberry_sum/len(strawberry)\n",
        "mean_list = [banana_mean, apple_mean, grape_mean, strawberry_mean]\n",
        "\n",
        "for i in range(len(sum_list)):\n",
        "    print('{} 총 판매량: {}개\\n      평균 판매량: {}개'.format(fruits_sales_line1_split[i+1],\n",
        "                                                    sum_list[i], int(mean_list[i])))"
      ],
      "execution_count": null,
      "outputs": [
        {
          "output_type": "stream",
          "name": "stdout",
          "text": [
            "banana 총 판매량: 100개\n",
            "      평균 판매량: 25개\n",
            "apple 총 판매량: 108개\n",
            "      평균 판매량: 27개\n",
            "grape 총 판매량: 96개\n",
            "      평균 판매량: 24개\n",
            "strawberry 총 판매량: 132개\n",
            "      평균 판매량: 33개\n"
          ]
        }
      ]
    },
    {
      "cell_type": "markdown",
      "metadata": {
        "id": "nid0k9usGCDX"
      },
      "source": [
        "코드를 아래처럼 더 짧게 작성할 수도 있습니다."
      ]
    },
    {
      "cell_type": "code",
      "metadata": {
        "colab": {
          "base_uri": "https://localhost:8080/"
        },
        "id": "YuH6rGXCGAFK",
        "outputId": "de1819b8-ff3b-4084-ed74-2042a380bbad"
      },
      "source": [
        "fruits_list = [banana, apple, grape, strawberry]\n",
        "\n",
        "for i in range(len(fruits_sales_line1_split)-1):\n",
        "    print('{} 총 판매량: {}개\\n      평균 판매량: {}개'.format(fruits_sales_line1_split[i+1],\n",
        "                                                    sum(fruits_list[i]), int(sum(fruits_list[i])/len(fruits_list[i]))))"
      ],
      "execution_count": null,
      "outputs": [
        {
          "output_type": "stream",
          "name": "stdout",
          "text": [
            "banana 총 판매량: 100개\n",
            "      평균 판매량: 25개\n",
            "apple 총 판매량: 108개\n",
            "      평균 판매량: 27개\n",
            "grape 총 판매량: 96개\n",
            "      평균 판매량: 24개\n",
            "strawberry 총 판매량: 132개\n",
            "      평균 판매량: 33개\n"
          ]
        }
      ]
    },
    {
      "cell_type": "markdown",
      "metadata": {
        "id": "mvgBFseLY1GE"
      },
      "source": [
        "# **14. 함수**"
      ]
    },
    {
      "cell_type": "markdown",
      "metadata": {
        "id": "zcHdi-c0cv15"
      },
      "source": [
        "## **14.1. 전역 변수와 지역 변수**"
      ]
    },
    {
      "cell_type": "markdown",
      "metadata": {
        "id": "-6JZ51-vc4TF"
      },
      "source": [
        "전역 변수(global variable)는 전체 코드에서 사용할 수 있는 코드이고, 지역 변수(local variable)는 함수가 호출될 때만 사용할 수 있는 코드입니다.\n",
        "\n",
        "아래 코드로 설명합니다."
      ]
    },
    {
      "cell_type": "code",
      "metadata": {
        "id": "DqN3XuOydZ7f"
      },
      "source": [
        "# 전역 변수입니다 .\n",
        "a = 11\n",
        "\n",
        "def function1():\n",
        "    # 지역 변수입니다. function1() 함수에만 적용되는 변수입니다.\n",
        "    a = 55\n",
        "    # format 대신 f로도 표현할 수 있습니다.\n",
        "    print(f'`function1` 함수의 지역 변수는 a = {a}입니다.')\n",
        "\n",
        "def function2():\n",
        "    # 지역 변수를 지정하지 않으면 전역 변수가 적용됩니다.\n",
        "    print(f'`function2` 함수의 전역 변수는 a = {a}입니다.')\n",
        "\n",
        "# 이 함수를 호출하면 전역 변수가 변경됩니다.\n",
        "def function3():\n",
        "    # 기존에 지정된 전역 변수를 `global 전역변수명`으로 선언해서 변경합니다.\n",
        "    global a\n",
        "    a = 77\n",
        "    print(f'`function3` 함수의 전역 변수는 a = {a}입니다.')"
      ],
      "execution_count": null,
      "outputs": []
    },
    {
      "cell_type": "code",
      "metadata": {
        "colab": {
          "base_uri": "https://localhost:8080/"
        },
        "id": "YMdSf3DGFEn_",
        "outputId": "d8463422-3def-4ec6-f3e6-5929ce5cd0cc"
      },
      "source": [
        "function1()\n",
        "function2()\n",
        "print(f'전역 변수는 a = {a}')"
      ],
      "execution_count": null,
      "outputs": [
        {
          "output_type": "stream",
          "name": "stdout",
          "text": [
            "`function1` 함수의 지역 변수는 a = 55입니다.\n",
            "`function2` 함수의 전역 변수는 a = 11입니다.\n",
            "전역 변수는 a = 11\n"
          ]
        }
      ]
    },
    {
      "cell_type": "code",
      "metadata": {
        "colab": {
          "base_uri": "https://localhost:8080/"
        },
        "id": "u3nzLeRSHPCI",
        "outputId": "d8fc042f-69b1-494d-f44f-e78b2439bffb"
      },
      "source": [
        "function3()\n",
        "print(f'`function3` 함수로 변경된 전역 변수는 a = {a}입니다.')\n",
        "function2()"
      ],
      "execution_count": null,
      "outputs": [
        {
          "output_type": "stream",
          "name": "stdout",
          "text": [
            "`function3` 함수의 전역 변수는 a = 77입니다.\n",
            "`function3` 함수로 변경된 전역 변수는 a = 77입니다.\n",
            "`function2` 함수의 전역 변수는 a = 77입니다.\n"
          ]
        }
      ]
    },
    {
      "cell_type": "markdown",
      "metadata": {
        "id": "WCxQrO7OIPgB"
      },
      "source": [
        "## **14.2. 람다 함수**"
      ]
    },
    {
      "cell_type": "markdown",
      "metadata": {
        "id": "qnUL-EedJUNG"
      },
      "source": [
        "람다(lambda) 함수는 한 줄로 구성된 함수입니다.\n",
        "\n",
        "기본 형식은 아래와 같습니다.\n",
        "\n",
        "`lambda 인자 = 함수식`\n",
        "\n",
        "이 형식에서 인자는 여러 개를 지정할 수 있습니다. 인자 구분은 쉼표(,)로 합니다.\n",
        "\n",
        "아래 코드들을 토대로 여러 사용 방식을 예시합니다."
      ]
    },
    {
      "cell_type": "code",
      "metadata": {
        "colab": {
          "base_uri": "https://localhost:8080/"
        },
        "id": "hcE1po81IUUi",
        "outputId": "69994d36-95f4-4a31-94a4-7dc03009ba4d"
      },
      "source": [
        "lambda x : x * 8 (2)"
      ],
      "execution_count": null,
      "outputs": [
        {
          "output_type": "execute_result",
          "data": {
            "text/plain": [
              "<function __main__.<lambda>>"
            ]
          },
          "metadata": {},
          "execution_count": 28
        }
      ]
    },
    {
      "cell_type": "markdown",
      "metadata": {
        "id": "in9gQ9tuL4dq"
      },
      "source": [
        "괄호로 묶으면 값이 출력됩니다."
      ]
    },
    {
      "cell_type": "code",
      "metadata": {
        "colab": {
          "base_uri": "https://localhost:8080/"
        },
        "id": "NF8Iq91TL7Vn",
        "outputId": "f31d2a35-37d0-40d3-c1a7-d433079b2ef6"
      },
      "source": [
        "(lambda x : x * 8) (2)"
      ],
      "execution_count": null,
      "outputs": [
        {
          "output_type": "execute_result",
          "data": {
            "text/plain": [
              "16"
            ]
          },
          "metadata": {},
          "execution_count": 30
        }
      ]
    },
    {
      "cell_type": "markdown",
      "metadata": {
        "id": "-T7cPAnCL2n-"
      },
      "source": [
        "변수에 할당해서 사용할 수도 있습니다."
      ]
    },
    {
      "cell_type": "code",
      "metadata": {
        "colab": {
          "base_uri": "https://localhost:8080/"
        },
        "id": "UMRRNR8LMFsX",
        "outputId": "a93cbbdd-cd7d-4de0-d92f-4ea814b00799"
      },
      "source": [
        "lambda_times = lambda x : x * 8\n",
        "lambda_times(4)"
      ],
      "execution_count": null,
      "outputs": [
        {
          "output_type": "execute_result",
          "data": {
            "text/plain": [
              "32"
            ]
          },
          "metadata": {},
          "execution_count": 35
        }
      ]
    },
    {
      "cell_type": "markdown",
      "metadata": {
        "id": "dfoLwQfZMbzW"
      },
      "source": [
        "여러 인자를 활용할 수도 있습니다."
      ]
    },
    {
      "cell_type": "code",
      "metadata": {
        "colab": {
          "base_uri": "https://localhost:8080/"
        },
        "id": "1IReXU4iMbXN",
        "outputId": "f3c19f78-ec29-430c-f85c-ac3aa25f3ce9"
      },
      "source": [
        "lambda_tps = lambda x, y, z : x * y + z\n",
        "lambda_tps(5, 4, 5)"
      ],
      "execution_count": null,
      "outputs": [
        {
          "output_type": "execute_result",
          "data": {
            "text/plain": [
              "25"
            ]
          },
          "metadata": {},
          "execution_count": 41
        }
      ]
    },
    {
      "cell_type": "markdown",
      "metadata": {
        "id": "dtMDaLHgTCLI"
      },
      "source": [
        "## **14.3. bool 함수**"
      ]
    },
    {
      "cell_type": "markdown",
      "metadata": {
        "id": "Ph302usGRQMT"
      },
      "source": [
        "아래와 같은 조건에 따라 True와 False 중에 하나를 출력하는 함수입니다."
      ]
    },
    {
      "cell_type": "markdown",
      "metadata": {
        "id": "_ZoTSs3oTIk4"
      },
      "source": [
        "빈칸(None)이면 False를 출력합니다. 공백(' ')은 빈칸이 아니라 엄연히 문자열입니다."
      ]
    },
    {
      "cell_type": "code",
      "metadata": {
        "colab": {
          "base_uri": "https://localhost:8080/"
        },
        "id": "571gbzo3UVuT",
        "outputId": "91af4732-dc88-41d3-f87e-8c782ceb4e56"
      },
      "source": [
        "print(f\"`bool('')`는 빈칸이므로 {bool('')}입니다.\")\n",
        "print(f\"`bool(None)`는 빈칸이므로 {bool(None)}입니다.\")\n",
        "print(f\"`bool(' ')`는 공백이므로 {bool(' ')}입니다.\")"
      ],
      "execution_count": null,
      "outputs": [
        {
          "output_type": "stream",
          "name": "stdout",
          "text": [
            "`bool('')`는 빈칸이므로 False입니다.\n",
            "`bool(None)`는 빈칸이므로 False입니다.\n",
            "`bool(' ')`는 공백이므로 True입니다.\n"
          ]
        }
      ]
    },
    {
      "cell_type": "markdown",
      "metadata": {
        "id": "DbQxxDF8VeIZ"
      },
      "source": [
        "숫자가 0이면 False를 출력합니다."
      ]
    },
    {
      "cell_type": "code",
      "metadata": {
        "colab": {
          "base_uri": "https://localhost:8080/"
        },
        "id": "R1cuPBjJVhoh",
        "outputId": "26e7b832-10c5-4257-b09b-09038e83d98a"
      },
      "source": [
        "print(f\"`bool(0)`는 0이므로 {bool(0)}입니다.\")"
      ],
      "execution_count": null,
      "outputs": [
        {
          "output_type": "stream",
          "name": "stdout",
          "text": [
            "`bool(0)`는 0이므로 False입니다.\n"
          ]
        }
      ]
    },
    {
      "cell_type": "markdown",
      "metadata": {
        "id": "fSwahL5nV4cL"
      },
      "source": [
        "리스트와 튜플, 세트를 변수로 할당하여 적용할 수 있습니다. 원소가 존재하면 True입니다.\n",
        "\n",
        "아래 코드는 원소가 없는 빈칸이므로 False를 출력합니다."
      ]
    },
    {
      "cell_type": "code",
      "metadata": {
        "colab": {
          "base_uri": "https://localhost:8080/"
        },
        "id": "iYt_GgdZWCSf",
        "outputId": "99aa7274-0a85-4919-90dc-2f5381cc222b"
      },
      "source": [
        "a = []\n",
        "b = ()\n",
        "c = {}\n",
        "print(bool(a))\n",
        "print(bool(b))\n",
        "print(bool(c))"
      ],
      "execution_count": null,
      "outputs": [
        {
          "output_type": "stream",
          "name": "stdout",
          "text": [
            "False\n",
            "False\n",
            "False\n"
          ]
        }
      ]
    },
    {
      "cell_type": "markdown",
      "metadata": {
        "id": "DbESO1C9WZCC"
      },
      "source": [
        "리스트, 튜플, 세트에 여러 개의 원소를 가지면 0이나 빈칸을 포함하더라도 True를 출력합니다."
      ]
    },
    {
      "cell_type": "code",
      "metadata": {
        "colab": {
          "base_uri": "https://localhost:8080/"
        },
        "id": "nx5J5-ZOWT6C",
        "outputId": "3bf6458b-e549-42a4-e534-030e22b6e88b"
      },
      "source": [
        "a = [0, 1]\n",
        "b = ('', 1)\n",
        "print(bool(a))\n",
        "print(bool(b))"
      ],
      "execution_count": null,
      "outputs": [
        {
          "output_type": "stream",
          "name": "stdout",
          "text": [
            "True\n",
            "True\n"
          ]
        }
      ]
    },
    {
      "cell_type": "markdown",
      "metadata": {
        "id": "3IM5a9TrZOBR"
      },
      "source": [
        "`bool()` 함수를 사용한 간단한 예시입니다."
      ]
    },
    {
      "cell_type": "code",
      "metadata": {
        "id": "z6555DKUZSx3"
      },
      "source": [
        "def favorite_fruits(fruits):\n",
        "    # True인 경우에 수행합니다.\n",
        "    if bool(fruits):\n",
        "        print(f'좋아하는 과일은 {fruits}입니다.')\n",
        "    # False인 경우에 수행합니다.\n",
        "    else:\n",
        "        print('값을 입력하세요.')"
      ],
      "execution_count": null,
      "outputs": []
    },
    {
      "cell_type": "code",
      "metadata": {
        "colab": {
          "base_uri": "https://localhost:8080/"
        },
        "id": "wAU-PVC1bhqU",
        "outputId": "22df123f-9711-480d-ad5b-9f14c5278ed5"
      },
      "source": [
        "favorite_fruits('딸기')"
      ],
      "execution_count": null,
      "outputs": [
        {
          "output_type": "stream",
          "name": "stdout",
          "text": [
            "좋아하는 과일은 딸기입니다.\n"
          ]
        }
      ]
    },
    {
      "cell_type": "code",
      "metadata": {
        "colab": {
          "base_uri": "https://localhost:8080/"
        },
        "id": "k2fosQsYbj9H",
        "outputId": "f900476d-2709-4f6a-f3fd-5e00c668b265"
      },
      "source": [
        "favorite_fruits('')"
      ],
      "execution_count": null,
      "outputs": [
        {
          "output_type": "stream",
          "name": "stdout",
          "text": [
            "값을 입력하세요.\n"
          ]
        }
      ]
    },
    {
      "cell_type": "markdown",
      "metadata": {
        "id": "P_ZuJm9jJ_MI"
      },
      "source": [
        "# **15. 클래스**"
      ]
    },
    {
      "cell_type": "markdown",
      "metadata": {
        "id": "qk4v7R6x8FER"
      },
      "source": [
        "클래스에 대한 개념은 위에서 정리한 개념들처럼 기초적인 내용은 제외했습니다. 주로 코드를 통해 예시하는 방식으로 설명할 예정입니다.\n",
        "\n",
        "코드를 예시하기 전에 몇 가지 필요한 내용을 목록으로 나열하겠습니다. 난해한 내용은 아닙니다.\n",
        "\n",
        "- **클래스**는 객체를 만들기 위한 기본 틀이고, **객체**는 이 틀을 바탕으로 생성된 결과물입니다. 종종 이 둘을 붕어빵 틀과 붕어빵으로 비유하곤 합니다. 이 붕어빵 틀에 팥이나 치즈나 피자를 넣으면 각각 팥붕어빵, 치즈붕어빵, 피자붕어빵이 됩니다. 객체에 포함된 변수에 값을 다르게 할당하면 객체의 속성이 달라지고, 각각 다른 속성을 가진 객체가 되는 것과 같은 이치입니다. 참고로 객체는 클래스의 인스턴스(instance)라고 부릅니다. instance의 의미는 경우, 예 등입니다. 클래스가 특정 객체를 만든 특정 경우나 예 정도로 생각할 수 있습니다.\n",
        "\n",
        "- 클래스명은 가독성을 추구하고자 로마자 알파벳 대문자로 시작합니다. 예를 들면 'Fruits', 'TestFruits' 같은 형태입니다. 물론 객체는 소문자로 이뤄집니다.\n",
        "\n",
        "- 코드 예시로 다시 설명하겠지만 클래스에서 정의한 함수에 처음 부여하는 인자는 `self`입니다. `self`는 객체를 생성하고 나서 자신을 참조하는 데 사용하는 인자입니다. 함수 대부분에 `self` 인자를 부여합니다.\n",
        "\n",
        "- 함수와 메서드(method)는 종종 용어를 사용할 때 혼동을 일으키곤 합니다. 결론적으로 말하면 두 용어를 구분하지 않고 사용해도 괜찮습니다. 클래스에서 정의한 함수를 객체에 넘겨주고 사용할 때는 메서드(method)라고 합니다. 그러나 클래스에서 정의한 함수 자체를 메서드라고 부르기도 합니다. 따라서 메서드는 함수이고, 함수는 메서드입니다."
      ]
    },
    {
      "cell_type": "markdown",
      "metadata": {
        "id": "jHCqldapDT-v"
      },
      "source": [
        "간단한 클래스를 생성해보겠습니다. 헬기를 클래스로 만들겠습니다.\n",
        "\n",
        "먼저 헬기 클래스에 몇 가지 함수를 포함시킵니다."
      ]
    },
    {
      "cell_type": "code",
      "metadata": {
        "id": "ism64IYZGWc8"
      },
      "source": [
        "class Helicopter():\n",
        "\n",
        "    def go(self, speed):\n",
        "        print(f'헬리콥터는 {speed}Km/h로 비행합니다.')\n",
        "\n",
        "    def turn(self, direction):\n",
        "        print(f'헬리콥터는 {direction} 방향으로 비행합니다.')\n",
        "\n",
        "    def stop(self):\n",
        "        print(f'{self.use} 용도인 {self.color}색 헬리콥터는 비행하다가 멈춥니다.')\n",
        "\n",
        "# 클래스의 객체(인스턴스)를 생성합니다.\n",
        "# 클래스를 객체에 넘겨주는 방식을 취합니다.\n",
        "my_helicopter1 = Helicopter()\n",
        "\n",
        "# 객체에 속성값을 부여합니다. 'color'와 'kind'는 클래스에서 지정한 변수입니다.\n",
        "# 이 변수에 속성값을 부여하는 것입니다.\n",
        "my_helicopter1.color = 'dark green'\n",
        "my_helicopter1.use = 'battle'"
      ],
      "execution_count": 22,
      "outputs": []
    },
    {
      "cell_type": "markdown",
      "metadata": {
        "id": "i5x5DobLJZaD"
      },
      "source": [
        "객체의 속성값을 확인하겠습니다."
      ]
    },
    {
      "cell_type": "code",
      "metadata": {
        "colab": {
          "base_uri": "https://localhost:8080/"
        },
        "id": "i0zJF8uMNfkR",
        "outputId": "f354f164-086c-478f-a0d1-48a01a4abac0"
      },
      "source": [
        "print(f'my_helicopter1의 색상은 {my_helicopter1.color}입니다.')\n",
        "print(f'my_helicopter1의 용도는 {my_helicopter1.use}입니다.')"
      ],
      "execution_count": 20,
      "outputs": [
        {
          "output_type": "stream",
          "name": "stdout",
          "text": [
            "my_helicopter1의 색상은 dark green입니다.\n",
            "my_helicopter1의 용도는 battle입니다.\n"
          ]
        }
      ]
    },
    {
      "cell_type": "markdown",
      "metadata": {
        "id": "y-3etYk3OEEh"
      },
      "source": [
        "객체의 메서드를 호출하겠습니다."
      ]
    },
    {
      "cell_type": "code",
      "metadata": {
        "colab": {
          "base_uri": "https://localhost:8080/"
        },
        "id": "4WfuJR2uORvh",
        "outputId": "fa443e16-0613-48ed-8f05-72f029715760"
      },
      "source": [
        "my_helicopter1.go(100)\n",
        "my_helicopter1.turn('left')\n",
        "my_helicopter1.stop()"
      ],
      "execution_count": 23,
      "outputs": [
        {
          "output_type": "stream",
          "name": "stdout",
          "text": [
            "헬리콥터는 100Km/h로 비행합니다.\n",
            "헬리콥터는 left 방향으로 비행합니다.\n",
            "battle 용도인 dark green색 헬리콥터는 비행하다가 멈춥니다.\n"
          ]
        }
      ]
    },
    {
      "cell_type": "markdown",
      "metadata": {
        "id": "SsvUj3BCKHpQ"
      },
      "source": [
        "# **16. 모듈**"
      ]
    }
  ]
}