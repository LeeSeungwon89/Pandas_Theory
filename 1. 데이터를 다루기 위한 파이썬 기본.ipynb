{
  "nbformat": 4,
  "nbformat_minor": 0,
  "metadata": {
    "colab": {
      "name": "1. 데이터를 다루기 위한 파이썬 기본.ipynb",
      "provenance": [],
      "collapsed_sections": [],
      "toc_visible": true,
      "authorship_tag": "ABX9TyNtqhk+IIDIm66I2/vnvjjR",
      "include_colab_link": true
    },
    "kernelspec": {
      "name": "python3",
      "display_name": "Python 3"
    },
    "language_info": {
      "name": "python"
    }
  },
  "cells": [
    {
      "cell_type": "markdown",
      "metadata": {
        "id": "view-in-github",
        "colab_type": "text"
      },
      "source": [
        "<a href=\"https://colab.research.google.com/github/LeeSeungwon89/Python_for_Data_Analytics_Science/blob/main/1.%20%EB%8D%B0%EC%9D%B4%ED%84%B0%EB%A5%BC%20%EB%8B%A4%EB%A3%A8%EA%B8%B0%20%EC%9C%84%ED%95%9C%20%ED%8C%8C%EC%9D%B4%EC%8D%AC%20%EA%B8%B0%EB%B3%B8.ipynb\" target=\"_parent\"><img src=\"https://colab.research.google.com/assets/colab-badge.svg\" alt=\"Open In Colab\"/></a>"
      ]
    },
    {
      "cell_type": "markdown",
      "metadata": {
        "id": "XPkykKHOYc7y"
      },
      "source": [
        "# **1. 연산자 기호**"
      ]
    },
    {
      "cell_type": "markdown",
      "metadata": {
        "id": "eSERvlKeRlAD"
      },
      "source": [
        "## **1.1. 몫**"
      ]
    },
    {
      "cell_type": "markdown",
      "metadata": {
        "id": "pJzYlc6OYvwo"
      },
      "source": [
        "몫은 `//`를 사용하여 구합니다."
      ]
    },
    {
      "cell_type": "code",
      "metadata": {
        "colab": {
          "base_uri": "https://localhost:8080/"
        },
        "id": "tTnj8MxgYxqY",
        "outputId": "3f1a8c18-4656-4512-98e8-f1766b657c9e"
      },
      "source": [
        "11 // 5"
      ],
      "execution_count": null,
      "outputs": [
        {
          "output_type": "execute_result",
          "data": {
            "text/plain": [
              "2"
            ]
          },
          "metadata": {},
          "execution_count": 1
        }
      ]
    },
    {
      "cell_type": "markdown",
      "metadata": {
        "id": "tDtsa7EzRoqb"
      },
      "source": [
        "## **1.2. 나머지**"
      ]
    },
    {
      "cell_type": "markdown",
      "metadata": {
        "id": "pyI_mtJcZE9v"
      },
      "source": [
        "나머지는 `%`를 사용하여 구합니다."
      ]
    },
    {
      "cell_type": "code",
      "metadata": {
        "colab": {
          "base_uri": "https://localhost:8080/"
        },
        "id": "5CQvTjI0YMyR",
        "outputId": "0695b6e4-9455-4aca-e148-d362aa1adfc2"
      },
      "source": [
        "11 % 5"
      ],
      "execution_count": null,
      "outputs": [
        {
          "output_type": "execute_result",
          "data": {
            "text/plain": [
              "1"
            ]
          },
          "metadata": {},
          "execution_count": 2
        }
      ]
    },
    {
      "cell_type": "markdown",
      "metadata": {
        "id": "akdhp74030MU"
      },
      "source": [
        "## **1.3. 함수로 몫과 나머지 구하기**"
      ]
    },
    {
      "cell_type": "markdown",
      "source": [
        "참고로 함수에 대한 설명을 확인하려면 `help()` 함수 내에 함수명을 지정합니다."
      ],
      "metadata": {
        "id": "2gL909OAjMHx"
      }
    },
    {
      "cell_type": "code",
      "source": [
        "help(divmod)"
      ],
      "metadata": {
        "colab": {
          "base_uri": "https://localhost:8080/"
        },
        "id": "Qc-kQWUOjLqW",
        "outputId": "3073429e-4aa2-4c10-f391-68e67264f00c"
      },
      "execution_count": null,
      "outputs": [
        {
          "output_type": "stream",
          "name": "stdout",
          "text": [
            "Help on built-in function divmod in module builtins:\n",
            "\n",
            "divmod(x, y, /)\n",
            "    Return the tuple (x//y, x%y).  Invariant: div*y + mod == x.\n",
            "\n"
          ]
        }
      ]
    },
    {
      "cell_type": "code",
      "metadata": {
        "colab": {
          "base_uri": "https://localhost:8080/"
        },
        "id": "S1e6b6Rt35U-",
        "outputId": "fc564f0a-9085-452a-f9cd-c48fe398d56f"
      },
      "source": [
        "divmod(11, 5)"
      ],
      "execution_count": null,
      "outputs": [
        {
          "output_type": "execute_result",
          "data": {
            "text/plain": [
              "(2, 1)"
            ]
          },
          "metadata": {},
          "execution_count": 3
        }
      ]
    },
    {
      "cell_type": "markdown",
      "metadata": {
        "id": "Rxsww0RAZQO-"
      },
      "source": [
        "# **2. 과학적인 표기법**"
      ]
    },
    {
      "cell_type": "markdown",
      "metadata": {
        "id": "WPerzE8nZSQv"
      },
      "source": [
        "매우 큰 수나 작은 수를 다루려면 10의 거듭제곱을 나타내는 e$n$으로 입력할 수 있습니다. $n$은 정수이며 양수, 음수, $0$ 모두 가능합니다."
      ]
    },
    {
      "cell_type": "markdown",
      "metadata": {
        "id": "Sx6zBpeEbMyd"
      },
      "source": [
        "$4 \\times 10^7$"
      ]
    },
    {
      "cell_type": "code",
      "metadata": {
        "colab": {
          "base_uri": "https://localhost:8080/"
        },
        "id": "YzDjpsfqZ0Cn",
        "outputId": "34e3fe61-aec0-4256-be23-70ecdbaefc10"
      },
      "source": [
        "4e7"
      ],
      "execution_count": null,
      "outputs": [
        {
          "output_type": "execute_result",
          "data": {
            "text/plain": [
              "40000000.0"
            ]
          },
          "metadata": {},
          "execution_count": 4
        }
      ]
    },
    {
      "cell_type": "markdown",
      "metadata": {
        "id": "htdIo-Ayb4QE"
      },
      "source": [
        "$2 \\times 10^{15}$"
      ]
    },
    {
      "cell_type": "code",
      "metadata": {
        "colab": {
          "base_uri": "https://localhost:8080/"
        },
        "id": "ukTaZFuib8m0",
        "outputId": "65162a6b-9431-43ad-ee76-50be482c8e35"
      },
      "source": [
        "2e15"
      ],
      "execution_count": null,
      "outputs": [
        {
          "output_type": "execute_result",
          "data": {
            "text/plain": [
              "2000000000000000.0"
            ]
          },
          "metadata": {},
          "execution_count": 5
        }
      ]
    },
    {
      "cell_type": "markdown",
      "metadata": {
        "id": "9zA51D8QcX2C"
      },
      "source": [
        "$10$의 $15$승까지 숫자로 표시됩니다."
      ]
    },
    {
      "cell_type": "markdown",
      "metadata": {
        "id": "IiU7bgcRbk0T"
      },
      "source": [
        "$6 \\times 10^{16}$"
      ]
    },
    {
      "cell_type": "code",
      "metadata": {
        "colab": {
          "base_uri": "https://localhost:8080/"
        },
        "id": "4XgDSGKNbDqH",
        "outputId": "af54d9be-de6d-4ce3-cd51-8363d216916a"
      },
      "source": [
        "6e16"
      ],
      "execution_count": null,
      "outputs": [
        {
          "output_type": "execute_result",
          "data": {
            "text/plain": [
              "6e+16"
            ]
          },
          "metadata": {},
          "execution_count": 6
        }
      ]
    },
    {
      "cell_type": "markdown",
      "metadata": {
        "id": "L2Mhh8ujcNrx"
      },
      "source": [
        "$10$의 $16$승부터 과학적인 표기법으로 표시됩니다."
      ]
    },
    {
      "cell_type": "markdown",
      "metadata": {
        "id": "ysVct0LScAfe"
      },
      "source": [
        "$6 \\times 10^{17}$"
      ]
    },
    {
      "cell_type": "code",
      "metadata": {
        "colab": {
          "base_uri": "https://localhost:8080/"
        },
        "id": "OCNKSov7bvRi",
        "outputId": "4feeb8c8-2ac3-41cb-d8b9-50b99508ca76"
      },
      "source": [
        "6e17"
      ],
      "execution_count": null,
      "outputs": [
        {
          "output_type": "execute_result",
          "data": {
            "text/plain": [
              "6e+17"
            ]
          },
          "metadata": {},
          "execution_count": 7
        }
      ]
    },
    {
      "cell_type": "markdown",
      "metadata": {
        "id": "Vfz9crFZchQ4"
      },
      "source": [
        "$4 \\times 10^{-1}$"
      ]
    },
    {
      "cell_type": "code",
      "metadata": {
        "colab": {
          "base_uri": "https://localhost:8080/"
        },
        "id": "ViqRHpxIcg0U",
        "outputId": "1bbbecc5-521f-44f3-84ae-133d14aeaaa5"
      },
      "source": [
        "4e-1"
      ],
      "execution_count": null,
      "outputs": [
        {
          "output_type": "execute_result",
          "data": {
            "text/plain": [
              "0.4"
            ]
          },
          "metadata": {},
          "execution_count": 8
        }
      ]
    },
    {
      "cell_type": "markdown",
      "metadata": {
        "id": "IEYkmMq-cvFn"
      },
      "source": [
        "$4 \\times 10^{-4}$"
      ]
    },
    {
      "cell_type": "code",
      "metadata": {
        "colab": {
          "base_uri": "https://localhost:8080/"
        },
        "id": "oiavyhHwcyzk",
        "outputId": "7ec53b0d-17a4-4fce-af41-7b8cc15006cc"
      },
      "source": [
        "4e-4"
      ],
      "execution_count": null,
      "outputs": [
        {
          "output_type": "execute_result",
          "data": {
            "text/plain": [
              "0.0004"
            ]
          },
          "metadata": {},
          "execution_count": 9
        }
      ]
    },
    {
      "cell_type": "markdown",
      "metadata": {
        "id": "EKjnudgAdFxP"
      },
      "source": [
        "$10$의 $-4$승까지 숫자로 표시됩니다."
      ]
    },
    {
      "cell_type": "markdown",
      "metadata": {
        "id": "S0OKwuOVc0i7"
      },
      "source": [
        "$4 \\times 10^{-5}$"
      ]
    },
    {
      "cell_type": "code",
      "metadata": {
        "colab": {
          "base_uri": "https://localhost:8080/"
        },
        "id": "hQExXRu4c198",
        "outputId": "266ce8f3-fa15-4b4a-c54a-6652ccfe67c5"
      },
      "source": [
        "4e-5"
      ],
      "execution_count": null,
      "outputs": [
        {
          "output_type": "execute_result",
          "data": {
            "text/plain": [
              "4e-05"
            ]
          },
          "metadata": {},
          "execution_count": 10
        }
      ]
    },
    {
      "cell_type": "markdown",
      "metadata": {
        "id": "t4FjncZwdJFJ"
      },
      "source": [
        "$10$의 $-5$승부터는 과학적인 표기법으로 표시됩니다."
      ]
    },
    {
      "cell_type": "markdown",
      "metadata": {
        "id": "_yrFtmq9dg2J"
      },
      "source": [
        "$4 \\times 10^{-6}$"
      ]
    },
    {
      "cell_type": "code",
      "metadata": {
        "colab": {
          "base_uri": "https://localhost:8080/"
        },
        "id": "sQ0L5pvcdgah",
        "outputId": "82e10412-7065-4491-f2fe-3367d1ef2588"
      },
      "source": [
        "4e-6"
      ],
      "execution_count": null,
      "outputs": [
        {
          "output_type": "execute_result",
          "data": {
            "text/plain": [
              "4e-06"
            ]
          },
          "metadata": {},
          "execution_count": 11
        }
      ]
    },
    {
      "cell_type": "markdown",
      "metadata": {
        "id": "gFkg8yegdj4h"
      },
      "source": [
        "# **3. 진법과 진수**"
      ]
    },
    {
      "cell_type": "markdown",
      "metadata": {
        "id": "HzujSYiAcPtT"
      },
      "source": [
        "파이썬은 10진법 외에 2진법, 8진법, 16진법을 지원합니다. 16진법은 {0 ~ 9, a, b, c, d, e, f}로 표현됩니다.\n",
        "\n",
        "2진수를 입력하려면 `0b`, 8진수를 입력하려면 `0o`, 16진수를 입력하려면 `0x`를 숫자 앞에 붙입니다.\n",
        "\n",
        "간단하게 17을 예로 들겠습니다. 해당하는 진법의 함수도 포함합니다."
      ]
    },
    {
      "cell_type": "markdown",
      "metadata": {
        "id": "vYvSXqpJfK91"
      },
      "source": [
        "10진법"
      ]
    },
    {
      "cell_type": "code",
      "metadata": {
        "colab": {
          "base_uri": "https://localhost:8080/"
        },
        "id": "9nEARaIsfB-0",
        "outputId": "8c2cac77-ddf7-4560-be2c-6f2d7e5b145e"
      },
      "source": [
        "17"
      ],
      "execution_count": null,
      "outputs": [
        {
          "output_type": "execute_result",
          "data": {
            "text/plain": [
              "17"
            ]
          },
          "metadata": {},
          "execution_count": 12
        }
      ]
    },
    {
      "cell_type": "markdown",
      "metadata": {
        "id": "At7w4OaPfNHA"
      },
      "source": [
        "2진법"
      ]
    },
    {
      "cell_type": "code",
      "metadata": {
        "colab": {
          "base_uri": "https://localhost:8080/"
        },
        "id": "9-LnmA41fCud",
        "outputId": "94622183-d336-462e-e15e-bd3f27a78ec1"
      },
      "source": [
        "0b10001"
      ],
      "execution_count": null,
      "outputs": [
        {
          "output_type": "execute_result",
          "data": {
            "text/plain": [
              "17"
            ]
          },
          "metadata": {},
          "execution_count": 13
        }
      ]
    },
    {
      "cell_type": "code",
      "metadata": {
        "colab": {
          "base_uri": "https://localhost:8080/",
          "height": 35
        },
        "id": "fLOL_tRqfbUB",
        "outputId": "0a76b2e8-c649-4316-9833-a35c9021d341"
      },
      "source": [
        "bin(17)"
      ],
      "execution_count": null,
      "outputs": [
        {
          "output_type": "execute_result",
          "data": {
            "application/vnd.google.colaboratory.intrinsic+json": {
              "type": "string"
            },
            "text/plain": [
              "'0b10001'"
            ]
          },
          "metadata": {},
          "execution_count": 14
        }
      ]
    },
    {
      "cell_type": "markdown",
      "metadata": {
        "id": "SsfXD_QbfPe_"
      },
      "source": [
        "8진법"
      ]
    },
    {
      "cell_type": "code",
      "metadata": {
        "colab": {
          "base_uri": "https://localhost:8080/"
        },
        "id": "Obr4s0MNfGDM",
        "outputId": "a7d6abeb-d314-4cc8-f737-78fad6f03bfc"
      },
      "source": [
        "0o21"
      ],
      "execution_count": null,
      "outputs": [
        {
          "output_type": "execute_result",
          "data": {
            "text/plain": [
              "17"
            ]
          },
          "metadata": {},
          "execution_count": 15
        }
      ]
    },
    {
      "cell_type": "code",
      "metadata": {
        "colab": {
          "base_uri": "https://localhost:8080/",
          "height": 35
        },
        "id": "PyUblwG-fe_K",
        "outputId": "b23b789c-f601-4346-9ee5-135114290a00"
      },
      "source": [
        "oct(17)"
      ],
      "execution_count": null,
      "outputs": [
        {
          "output_type": "execute_result",
          "data": {
            "application/vnd.google.colaboratory.intrinsic+json": {
              "type": "string"
            },
            "text/plain": [
              "'0o21'"
            ]
          },
          "metadata": {},
          "execution_count": 16
        }
      ]
    },
    {
      "cell_type": "markdown",
      "metadata": {
        "id": "Pfe1O90-fSFn"
      },
      "source": [
        "16진법"
      ]
    },
    {
      "cell_type": "code",
      "metadata": {
        "colab": {
          "base_uri": "https://localhost:8080/"
        },
        "id": "KqxBPSDrfIxQ",
        "outputId": "4b1beeff-6e9d-48bd-aec2-4f3f7bb07b24"
      },
      "source": [
        "0x11"
      ],
      "execution_count": null,
      "outputs": [
        {
          "output_type": "execute_result",
          "data": {
            "text/plain": [
              "17"
            ]
          },
          "metadata": {},
          "execution_count": 17
        }
      ]
    },
    {
      "cell_type": "code",
      "metadata": {
        "colab": {
          "base_uri": "https://localhost:8080/",
          "height": 35
        },
        "id": "B3w3zG9VfhCj",
        "outputId": "d9222453-4d58-4eda-b4ae-6a7014f402ab"
      },
      "source": [
        "hex(17)"
      ],
      "execution_count": null,
      "outputs": [
        {
          "output_type": "execute_result",
          "data": {
            "application/vnd.google.colaboratory.intrinsic+json": {
              "type": "string"
            },
            "text/plain": [
              "'0x11'"
            ]
          },
          "metadata": {},
          "execution_count": 18
        }
      ]
    },
    {
      "cell_type": "markdown",
      "metadata": {
        "id": "Up13hB84gTrF"
      },
      "source": [
        "참고로 함수로 출력된 결과는 문자열이므로 산술 연산에 적용되지 않습니다. "
      ]
    },
    {
      "cell_type": "markdown",
      "metadata": {
        "id": "pkQDjHMKgvek"
      },
      "source": [
        "# **4. 변수명 생성 규칙**"
      ]
    },
    {
      "cell_type": "markdown",
      "metadata": {
        "id": "fS8fJXr8cSy9"
      },
      "source": [
        "변수(= 객체, 인스턴스, variable)명을 지정할 때는 아래 규칙을 잘 지켜야 합니다. \n",
        "\n",
        "- 문자, 숫자, 언더라인(_)을 사용합니다. 다만 보통의 경우 언더라인으로 시작하는 변수명을 지정할 수는 있지만 일반적으로는 구성하지 않습니다. 아울러 영문자는 (가능하면 최대한) 대문자는 사용하지 않고 소문자만 사용합니다.\n",
        "\n",
        "- 숫자로 시작하는 변수명은 가능하지 않습니다. 예컨대 '2apple'은 불가능합니다.\n",
        "\n",
        "- 밑줄이 아닌 기호는 변수명에 들어갈 수 없습니다. 예컨대 'apple&', 'bana@na', '$peach' 같은 기호들입니다.\n",
        "\n",
        "- 예약어는 변수명으로 사용할 수 없습니다. 예약어란 `True`, `False`, `def`, `if`, `for`처럼 이미 지정되어 코딩에 쓰이는 표현을 의미합니다. 예컨대 `if = 4 + 3`으로 지정하면 에러가 납니다.\n",
        "\n",
        "- 변수명은 뱀처럼 생긴 **스네이크케이스(snake_case)** 형식을 취하여 명명합니다. 첫 글자가 영어 소문자이고 언더바 `_`를 사용한 형태입니다. `snakecase`나 `snake case` 아닌 `snake_case`로 명명합니다. 공백을 언더바 `_`로 대체하는 것입니다. 참고로 아래에서 다룰 클래스의 경우 **캐멀케이스(CamalCase)** 형식을 취하여 명명합니다.\n",
        "\n",
        "추가적인 내용은 [식별자를 다룬 링크](https://wikidocs.net/20559)과 [변수, 상수, 리터럴을 다룬 링크](https://wikidocs.net/20562)를 참고하시면 좋습니다."
      ]
    },
    {
      "cell_type": "markdown",
      "metadata": {
        "id": "BJIKiUR8ka4j"
      },
      "source": [
        "# **5. 문자열**"
      ]
    },
    {
      "cell_type": "markdown",
      "source": [
        "## **5.1. 따옴표, 이스케이프 문자 사용하기**"
      ],
      "metadata": {
        "id": "waAdLdfY5PVC"
      }
    },
    {
      "cell_type": "markdown",
      "metadata": {
        "id": "VsYx4ySycVJo"
      },
      "source": [
        "문자열에 큰따옴표(\")와 작은따옴표(') 모두를 포함하거나, 여러 행의 문자열을 나열하거나, 문자열을 입력한 상태 그대로 출력하려면 문자열 전체를 큰따옴표 세 개나 작은따옴표 세 개로 감쌉니다. 아울러 `print()` 함수에 문자열을 `''`로 묶으면 `\"\"`가 포함된 문자열을 출력할 수 있고, `\"\"`로 묶으면 `''`가 포함된 문자열을 출력할 수 있습니다."
      ]
    },
    {
      "cell_type": "code",
      "metadata": {
        "colab": {
          "base_uri": "https://localhost:8080/"
        },
        "id": "TkA9G5tvb2Jr",
        "outputId": "7312c04f-e625-4843-e546-6a18b1c2314a"
      },
      "source": [
        "string = '''문자열에 큰따옴표(\")와 작은따옴표(') 모두를 포함하거나,\n",
        "여러 행의 문장을 나열하거나,\n",
        "문장을 입력한 상태 그대로 출력하려면\n",
        "문자열 전체를 큰따옴표 세 개나 작은따옴표 세 개로 감쌉니다.'''\n",
        "print(string)"
      ],
      "execution_count": null,
      "outputs": [
        {
          "output_type": "stream",
          "name": "stdout",
          "text": [
            "문자열에 큰따옴표(\")와 작은따옴표(') 모두를 포함하거나,\n",
            "여러 행의 문장을 나열하거나,\n",
            "문장을 입력한 상태 그대로 출력하려면\n",
            "문자열 전체를 큰따옴표 세 개나 작은따옴표 세 개로 감쌉니다.\n"
          ]
        }
      ]
    },
    {
      "cell_type": "code",
      "source": [
        "string = \"\"\"문자열에 큰따옴표(\")와 작은따옴표(') 모두를 포함하거나,\n",
        "여러 행의 문장을 나열하거나,\n",
        "문장을 입력한 상태 그대로 출력하려면\n",
        "문자열 전체를 큰따옴표 세 개나 작은따옴표 세 개로 감쌉니다.\"\"\"\n",
        "print(string)"
      ],
      "metadata": {
        "colab": {
          "base_uri": "https://localhost:8080/"
        },
        "id": "aP2hqRPZaI08",
        "outputId": "6bf60f14-71b0-4bca-b665-e3ed34a92a5c"
      },
      "execution_count": null,
      "outputs": [
        {
          "output_type": "stream",
          "name": "stdout",
          "text": [
            "문자열에 큰따옴표(\")와 작은따옴표(') 모두를 포함하거나,\n",
            "여러 행의 문장을 나열하거나,\n",
            "문장을 입력한 상태 그대로 출력하려면\n",
            "문자열 전체를 큰따옴표 세 개나 작은따옴표 세 개로 감쌉니다.\n"
          ]
        }
      ]
    },
    {
      "cell_type": "code",
      "source": [
        "print('작은 따옴표를 사용하면 \"반갑습니다.\"를 출력할 수 있습니다.')"
      ],
      "metadata": {
        "colab": {
          "base_uri": "https://localhost:8080/"
        },
        "id": "r_4B3A8ZcyoU",
        "outputId": "e3e4a947-d635-4541-bf6c-78461248c400"
      },
      "execution_count": null,
      "outputs": [
        {
          "output_type": "stream",
          "name": "stdout",
          "text": [
            "작은 따옴표를 사용하면 \"반갑습니다.\"를 출력할 수 있습니다.\n"
          ]
        }
      ]
    },
    {
      "cell_type": "code",
      "source": [
        "print(\"큰 따옴표를 사용하면 '반갑습니다.'를 출력할 수 있습니다.\")"
      ],
      "metadata": {
        "colab": {
          "base_uri": "https://localhost:8080/"
        },
        "id": "JhAriYMVc7cn",
        "outputId": "e7de541d-66c0-440b-bd71-ff967333d8b1"
      },
      "execution_count": null,
      "outputs": [
        {
          "output_type": "stream",
          "name": "stdout",
          "text": [
            "큰 따옴표를 사용하면 '반갑습니다.'를 출력할 수 있습니다.\n"
          ]
        }
      ]
    },
    {
      "cell_type": "markdown",
      "source": [
        "문자열이 길어서 코드가 길어질 때는 문자열을 여러 문자열로 나누고 각 문자열을 따옴표로 묶습니다. 아울러 따옴표 전체를 괄호로 묶습니다."
      ],
      "metadata": {
        "id": "BlCT1Y-Kb3y7"
      }
    },
    {
      "cell_type": "code",
      "source": [
        "string = (\n",
        "    '긴 문자열을 한 줄로 입력하려면 '\n",
        "    '이렇게 문자열을 여러 줄로 나누어서 따로 묶고 '\n",
        "    '괄호로 묶습니다.'\n",
        ")\n",
        "\n",
        "print(string)"
      ],
      "metadata": {
        "colab": {
          "base_uri": "https://localhost:8080/"
        },
        "id": "YuwtCeMtbPEh",
        "outputId": "d98a1adf-854d-42e0-873d-67041cb9b891"
      },
      "execution_count": null,
      "outputs": [
        {
          "output_type": "stream",
          "name": "stdout",
          "text": [
            "긴 문자열을 한 줄로 입력하려면 이렇게 문자열을 여러 줄로 나누어서 따로 묶고 괄호로 묶습니다.\n"
          ]
        }
      ]
    },
    {
      "cell_type": "markdown",
      "source": [
        "이스케이프 문자인 `\\`를 사용하여 `\\'`를 취하면 `'`를, `\\\"`를 취하면 `\"`를 출력합니다. 문자열을 묶은 기호와 무관하게 작동합니다."
      ],
      "metadata": {
        "id": "hMvB4-g4bvT5"
      }
    },
    {
      "cell_type": "code",
      "source": [
        "print('이스케이프 문자를 사용하여 \\'파이썬 기본입니다.\\'를 출력할 수 있습니다.')"
      ],
      "metadata": {
        "colab": {
          "base_uri": "https://localhost:8080/"
        },
        "id": "1vUg5bkZbKYd",
        "outputId": "d8723471-2170-4aac-c321-64e18b4032dc"
      },
      "execution_count": null,
      "outputs": [
        {
          "output_type": "stream",
          "name": "stdout",
          "text": [
            "이스케이프 문자를 사용하여 '파이썬 기본입니다.'를 출력할 수 있습니다.\n"
          ]
        }
      ]
    },
    {
      "cell_type": "markdown",
      "source": [
        "이스케이프 문자인 `\\`를 사용하여 `\\n`을 취하면 줄바꿈을, `\\t`를 사용하면 탭을 합니다."
      ],
      "metadata": {
        "id": "t5mHT0YkbaQ6"
      }
    },
    {
      "cell_type": "code",
      "source": [
        "print('이스케이프 문자를 사용하여\\n줄바꿈을 할 수 있습니다.')\n",
        "print()\n",
        "print('이스케이프 문자를 사용하여\\t탭을 할 수 있습니다.')"
      ],
      "metadata": {
        "colab": {
          "base_uri": "https://localhost:8080/"
        },
        "id": "1rZ_Gfkjat4x",
        "outputId": "11d456ab-0f31-4536-8fc4-0437a862e929"
      },
      "execution_count": null,
      "outputs": [
        {
          "output_type": "stream",
          "name": "stdout",
          "text": [
            "이스케이프 문자를 사용하여\n",
            "줄바꿈을 할 수 있습니다.\n",
            "\n",
            "이스케이프 문자를 사용하여\t탭을 할 수 있습니다.\n"
          ]
        }
      ]
    },
    {
      "cell_type": "markdown",
      "metadata": {
        "id": "NqtkJUDbS0Jx"
      },
      "source": [
        "## **5.2. 부분 문자열로 나누기**"
      ]
    },
    {
      "cell_type": "markdown",
      "metadata": {
        "id": "hsBUG-HQTCmG"
      },
      "source": [
        "기존 문자열을 부분으로 나눠서 리스트화하려면 `split()` 함수를 사용합니다."
      ]
    },
    {
      "cell_type": "code",
      "metadata": {
        "colab": {
          "base_uri": "https://localhost:8080/"
        },
        "id": "Nlflocj_TLjP",
        "outputId": "cbde0f4b-1c15-4d4d-b205-18a9ac3d5c7c"
      },
      "source": [
        "colors = 'red, blue, yellow, pink'\n",
        "colors.split()"
      ],
      "execution_count": null,
      "outputs": [
        {
          "output_type": "execute_result",
          "data": {
            "text/plain": [
              "['red,', 'blue,', 'yellow,', 'pink']"
            ]
          },
          "metadata": {},
          "execution_count": 20
        }
      ]
    },
    {
      "cell_type": "markdown",
      "metadata": {
        "id": "z4CC3_k7UWt3"
      },
      "source": [
        "변수에 할당하지 않고 바로 전달해도 됩니다."
      ]
    },
    {
      "cell_type": "code",
      "metadata": {
        "colab": {
          "base_uri": "https://localhost:8080/"
        },
        "id": "mBQvDH_nUYV8",
        "outputId": "92098b69-d7ae-4b3d-e298-e2a48e077200"
      },
      "source": [
        "'red, blue, yellow, pink'.split()"
      ],
      "execution_count": null,
      "outputs": [
        {
          "output_type": "execute_result",
          "data": {
            "text/plain": [
              "['red,', 'blue,', 'yellow,', 'pink']"
            ]
          },
          "metadata": {},
          "execution_count": 21
        }
      ]
    },
    {
      "cell_type": "markdown",
      "metadata": {
        "id": "ajdkEd1fTm9o"
      },
      "source": [
        "`red,`처럼 쉼표(,)까지 하나의 부분으로 처리됐습니다. 여기에서 `split()` 함수에 `sep` 매개변수를 `','`로 지정하면 쉼표는 제외하고 처리합니다. `sep` 매개변수의 sep는 seperator(구분자)의 약자입니다. 참고로 `sep`를 생략하고 `','`만 지정한 `split(',')`도 가능합니다."
      ]
    },
    {
      "cell_type": "code",
      "metadata": {
        "colab": {
          "base_uri": "https://localhost:8080/"
        },
        "id": "JMi-sk78UBtn",
        "outputId": "f8a4ac1d-3f53-4bab-aba6-2ba23ed40083"
      },
      "source": [
        "colors.split(sep=',')"
      ],
      "execution_count": null,
      "outputs": [
        {
          "output_type": "execute_result",
          "data": {
            "text/plain": [
              "['red', ' blue', ' yellow', ' pink']"
            ]
          },
          "metadata": {},
          "execution_count": 22
        }
      ]
    },
    {
      "cell_type": "markdown",
      "metadata": {
        "id": "lTwGPSaPVmjo"
      },
      "source": [
        "공백으로 구분된 경우에도 적용할 수 있습니다. 인자를 `' '`로 지정해도 되고 안 해도 괜찮습니다. 다만 한 칸 공백이 아닌 모든 종류의 공백의 경우는 인자로 아무것도 지정하지 않아야 합니다."
      ]
    },
    {
      "cell_type": "code",
      "metadata": {
        "colab": {
          "base_uri": "https://localhost:8080/"
        },
        "id": "Xv8z5_htV7gH",
        "outputId": "b09cad72-6c02-4b30-af57-e2f3f9c12fa0"
      },
      "source": [
        "colors_blank = 'red blue yellow pink'\n",
        "colors_blank.split()"
      ],
      "execution_count": null,
      "outputs": [
        {
          "output_type": "execute_result",
          "data": {
            "text/plain": [
              "['red', 'blue', 'yellow', 'pink']"
            ]
          },
          "metadata": {},
          "execution_count": 23
        }
      ]
    },
    {
      "cell_type": "code",
      "metadata": {
        "colab": {
          "base_uri": "https://localhost:8080/"
        },
        "id": "5GaM3NH0Wnb_",
        "outputId": "5117db42-2249-4adf-e06a-378278848965"
      },
      "source": [
        "colors_blank_f = 'red   blue  yellow \\n pink   \\n\\n\\n'\n",
        "colors_blank.split()"
      ],
      "execution_count": null,
      "outputs": [
        {
          "output_type": "execute_result",
          "data": {
            "text/plain": [
              "['red', 'blue', 'yellow', 'pink']"
            ]
          },
          "metadata": {},
          "execution_count": 24
        }
      ]
    },
    {
      "cell_type": "markdown",
      "metadata": {
        "id": "VFzKfGgfW3Dk"
      },
      "source": [
        "`maxsplit` 매개변수에 값을 지정해서 원하는 만큼 분리할 수 있습니다."
      ]
    },
    {
      "cell_type": "code",
      "metadata": {
        "colab": {
          "base_uri": "https://localhost:8080/"
        },
        "id": "y7Sa4tS1GpEs",
        "outputId": "e7f17747-6f13-4ff4-b096-e39f290ab382"
      },
      "source": [
        "colors = 'red blue yellow pink'\n",
        "print(colors.split(maxsplit=1))\n",
        "print(colors.split(maxsplit=2))"
      ],
      "execution_count": null,
      "outputs": [
        {
          "output_type": "stream",
          "name": "stdout",
          "text": [
            "['red', 'blue yellow pink']\n",
            "['red', 'blue', 'yellow pink']\n"
          ]
        }
      ]
    },
    {
      "cell_type": "markdown",
      "metadata": {
        "id": "0DQQXDn1HJHD"
      },
      "source": [
        "`maxsplit` 매개변수와 `sep` 매개변수에 값을 지정하면 전화번호를 분리하는 데 유용합니다."
      ]
    },
    {
      "cell_type": "code",
      "metadata": {
        "colab": {
          "base_uri": "https://localhost:8080/"
        },
        "id": "CLrl2fgDHXJO",
        "outputId": "45c05f42-c130-4a4b-cc3c-bc42adfa1047"
      },
      "source": [
        "p_num = '+82-031-1234-5678'\n",
        "split_p_num = p_num.split('-')\n",
        "print(\"'-' 사용:\", split_p_num)\n",
        "split_p_num = p_num.split('-', maxsplit=1)\n",
        "print(\"'-'와 maxsplit=1 사용:\", split_p_num)\n",
        "print('집 전화번호: {}'.format(split_p_num[1]))"
      ],
      "execution_count": null,
      "outputs": [
        {
          "output_type": "stream",
          "name": "stdout",
          "text": [
            "'-' 사용: ['+82', '031', '1234', '5678']\n",
            "'-'와 maxsplit=1 사용: ['+82', '031-1234-5678']\n",
            "집 전화번호: 031-1234-5678\n"
          ]
        }
      ]
    },
    {
      "cell_type": "markdown",
      "metadata": {
        "id": "YbTGCJaBIjwq"
      },
      "source": [
        "## **5.3. 문자열 삭제하기**"
      ]
    },
    {
      "cell_type": "markdown",
      "metadata": {
        "id": "6v0BQX4cIoTs"
      },
      "source": [
        "문자열의 앞과 뒤 공백이나 개행열을 삭제하려면 `strip()` 함수를 사용합니다. 'strip'의 사전적 의미는 '벗겨내기'이므로, 이 함수는 앞뒤의 바깥 원소부터 하나씩 삭제합니다.\n",
        "\n",
        "아래 예시로 설명을 이어갑니다. "
      ]
    },
    {
      "cell_type": "markdown",
      "source": [
        "문자열 양옆의 공백을 제거하려면 `strip()` 함수를 바로 적용합니다."
      ],
      "metadata": {
        "id": "tx6BSdYcEqsE"
      }
    },
    {
      "cell_type": "code",
      "source": [
        "strip = '''\n",
        "    어서 오세요. \n",
        "여기는 대한민국 서울입니다.\n",
        "'''\n",
        "print(strip.strip())"
      ],
      "metadata": {
        "colab": {
          "base_uri": "https://localhost:8080/"
        },
        "id": "1hFomDVbEn2c",
        "outputId": "44f7bd18-6f0b-46cc-9645-bde73ff0f812"
      },
      "execution_count": null,
      "outputs": [
        {
          "output_type": "stream",
          "name": "stdout",
          "text": [
            "어서 오세요. \n",
            "여기는 대한민국 서울입니다.\n"
          ]
        }
      ]
    },
    {
      "cell_type": "markdown",
      "metadata": {
        "id": "4cJ7lMrpiA-p"
      },
      "source": [
        "함수 안에 삭제하려는 문자를 넣으면 앞뒤의 모든 해당 문자를 삭제합니다."
      ]
    },
    {
      "cell_type": "code",
      "metadata": {
        "colab": {
          "base_uri": "https://localhost:8080/"
        },
        "id": "P8k8xvefL_qu",
        "outputId": "54ab56cd-8574-4048-b5f5-5fed793ee40f"
      },
      "source": [
        "strip1 = 'gggabcdefgggggggg' \n",
        "print(strip1.strip('g'))"
      ],
      "execution_count": null,
      "outputs": [
        {
          "output_type": "stream",
          "name": "stdout",
          "text": [
            "abcdef\n"
          ]
        }
      ]
    },
    {
      "cell_type": "markdown",
      "metadata": {
        "id": "nLdEWA3ENEqp"
      },
      "source": [
        "다만 아래와 같은 형태는 앞의 `g`만 삭제합니다. 뒤에 `h`가 있으므로 `g`까지 접근하지 못합니다."
      ]
    },
    {
      "cell_type": "code",
      "metadata": {
        "colab": {
          "base_uri": "https://localhost:8080/"
        },
        "id": "hgjQup-DNcRu",
        "outputId": "0e2651da-83c3-4caa-b8b8-6befb5a785ee"
      },
      "source": [
        "strip2 = 'gggabcdefgggggggghh'\n",
        "print(strip2.strip('g'))"
      ],
      "execution_count": null,
      "outputs": [
        {
          "output_type": "stream",
          "name": "stdout",
          "text": [
            "abcdefgggggggghh\n"
          ]
        }
      ]
    },
    {
      "cell_type": "markdown",
      "metadata": {
        "id": "1baTXtkNNlXz"
      },
      "source": [
        "이 상황에서는 `h`를 삭제하고 `g`를 삭제하면 됩니다."
      ]
    },
    {
      "cell_type": "code",
      "metadata": {
        "colab": {
          "base_uri": "https://localhost:8080/"
        },
        "id": "kP87gLTlNuym",
        "outputId": "92e5d054-18ef-4de7-8ffd-cc5d81952d76"
      },
      "source": [
        "strip2 = 'gggabcdefgggggggghh'\n",
        "# 순서는 무관합니다.\n",
        "print(strip2.strip('gh'))\n",
        "print(strip2.strip('hg'))"
      ],
      "execution_count": null,
      "outputs": [
        {
          "output_type": "stream",
          "name": "stdout",
          "text": [
            "abcdef\n",
            "abcdef\n"
          ]
        }
      ]
    },
    {
      "cell_type": "markdown",
      "metadata": {
        "id": "_mNql1mdOAX8"
      },
      "source": [
        "`f`만 남기겠습니다. `f`까지 접근하려면 `f` 주변의 모든 원소를 하나씩 `strip()` 함수에 포함시켜야 합니다."
      ]
    },
    {
      "cell_type": "code",
      "metadata": {
        "colab": {
          "base_uri": "https://localhost:8080/"
        },
        "id": "wMIWDhsQODXR",
        "outputId": "6b8a222e-e611-4bb2-fe19-40f1216bd9d6"
      },
      "source": [
        "strip3 = '!@#$%gggabc   !@#$%defggg gggg     ghh  \\n'\n",
        "# '\\n'을 제외하고 벗겨내면 앞만 벗겨내고 뒤는 벗겨내지 못합니다.\n",
        "print(strip3.strip('@$#%!badcegh '))\n",
        "# '\\n'을 포함시키면 뒤까지 벗겨냅니다.\n",
        "print(strip3.strip('@$#%!badcegh \\n'))"
      ],
      "execution_count": null,
      "outputs": [
        {
          "output_type": "stream",
          "name": "stdout",
          "text": [
            "fggg gggg     ghh  \n",
            "\n",
            "f\n"
          ]
        }
      ]
    },
    {
      "cell_type": "markdown",
      "metadata": {
        "id": "9YzBfoyijWx6"
      },
      "source": [
        "공백과 개행문자(`\\n`)를 제거하려면 `strip()` 함수 내에 값을 생략해도 됩니다."
      ]
    },
    {
      "cell_type": "code",
      "metadata": {
        "colab": {
          "base_uri": "https://localhost:8080/"
        },
        "id": "Fs19ft5bjfc7",
        "outputId": "6d3fbd27-10d2-411a-cea9-81eeb81d1527"
      },
      "source": [
        "strip4 = '  apple\\n  \\n\\n'\n",
        "print(strip4.strip())"
      ],
      "execution_count": null,
      "outputs": [
        {
          "output_type": "stream",
          "name": "stdout",
          "text": [
            "apple\n"
          ]
        }
      ]
    },
    {
      "cell_type": "markdown",
      "metadata": {
        "id": "SGLJza5RjzrU"
      },
      "source": [
        "참고로 `lstrip()` 함수는 문자열 왼쪽, `rstrip()` 함수는 문자열 오른쪽을 삭제합니다. 예시는 생략합니다."
      ]
    },
    {
      "cell_type": "markdown",
      "metadata": {
        "id": "8VOMK0Wrki4N"
      },
      "source": [
        "`split()` 함수와 `strip()` 함수를 함께 사용해서 앞 뒤 공백이 불규칙적으로 배열된 원소들의 리스트를 정돈하겠습니다."
      ]
    },
    {
      "cell_type": "code",
      "metadata": {
        "colab": {
          "base_uri": "https://localhost:8080/"
        },
        "id": "N6RVHA0fli5Q",
        "outputId": "cd543bcd-4ddc-4eb7-8bdd-c64157c91a92"
      },
      "source": [
        "fruits = '  apple, banana  ,   grape   ,  strawberry, pear   '\n",
        "fruits_list = fruits.split(',')\n",
        "print(fruits_list)"
      ],
      "execution_count": null,
      "outputs": [
        {
          "output_type": "stream",
          "name": "stdout",
          "text": [
            "['  apple', ' banana  ', '   grape   ', '  strawberry', ' pear   ']\n"
          ]
        }
      ]
    },
    {
      "cell_type": "code",
      "metadata": {
        "colab": {
          "base_uri": "https://localhost:8080/"
        },
        "id": "XMo3X1ZtmBwR",
        "outputId": "7d3aa79b-b07c-45de-e68c-5c21d0799efb"
      },
      "source": [
        "fruits_list_fin = []\n",
        "\n",
        "for fruits in fruits_list:\n",
        "    fruits_strip = fruits.strip()\n",
        "    # `append()` 함수는 오른쪽(마지막)에 원소를 추가하는 함수입니다.\n",
        "    # 자세한 설명은 리스트 파트에서 정리합니다.\n",
        "    fruits_list_fin.append(fruits_strip)\n",
        "\n",
        "print(fruits_list_fin) "
      ],
      "execution_count": null,
      "outputs": [
        {
          "output_type": "stream",
          "name": "stdout",
          "text": [
            "['apple', 'banana', 'grape', 'strawberry', 'pear']\n"
          ]
        }
      ]
    },
    {
      "cell_type": "markdown",
      "metadata": {
        "id": "UXKS_nW-m9Xm"
      },
      "source": [
        "## **5.4. 문자열 연결하기**"
      ]
    },
    {
      "cell_type": "markdown",
      "metadata": {
        "id": "H65pYISdnBAm"
      },
      "source": [
        "문자열을 연결하는 방법은 `+` 연산자를 사용하는 방법과 `join()` 함수를 사용하는 방법이 있습니다.\n",
        "\n",
        "먼저 `+` 연산자를 사용하는 방법에 대한 예시입니다."
      ]
    },
    {
      "cell_type": "code",
      "metadata": {
        "colab": {
          "base_uri": "https://localhost:8080/"
        },
        "id": "4ZlYPZFlnRdj",
        "outputId": "dc35a66c-1f1e-4117-96ff-5d35f705702d"
      },
      "source": [
        " fruits = ['apple', 'banana', 'grape', 'strawberry', 'pear']\n",
        " favorite = '는 내가 제일 좋아하는 과일이지.'\n",
        " print(fruits[3] + favorite)"
      ],
      "execution_count": null,
      "outputs": [
        {
          "output_type": "stream",
          "name": "stdout",
          "text": [
            "strawberry는 내가 제일 좋아하는 과일이지.\n"
          ]
        }
      ]
    },
    {
      "cell_type": "markdown",
      "metadata": {
        "id": "awAU-cOGoFQe"
      },
      "source": [
        "`join()` 함수를 사용하면 리스트의 모든 원소를 연결할 수 있습니다."
      ]
    },
    {
      "cell_type": "code",
      "metadata": {
        "colab": {
          "base_uri": "https://localhost:8080/",
          "height": 35
        },
        "id": "B76FvuuGoMqF",
        "outputId": "bd63464d-4ccf-44d9-fe8e-227987086dbc"
      },
      "source": [
        "favorites = '를 좋아하고, '\n",
        "favorites.join(fruits)"
      ],
      "execution_count": null,
      "outputs": [
        {
          "output_type": "execute_result",
          "data": {
            "application/vnd.google.colaboratory.intrinsic+json": {
              "type": "string"
            },
            "text/plain": [
              "'apple를 좋아하고, banana를 좋아하고, grape를 좋아하고, strawberry를 좋아하고, pear'"
            ]
          },
          "metadata": {},
          "execution_count": 35
        }
      ]
    },
    {
      "cell_type": "markdown",
      "metadata": {
        "id": "xgGnGFvBooEy"
      },
      "source": [
        "마지막 원소에는 `를 좋아하고, `라는 문자열이 연결되지 않았습니다. 마지막 원소이므로 다음 원소를 이을 필요가 없습니다. 문장을 마무리하기 위해 `+` 연산자를 사용하여 `를 좋아하지.`를 연결하겠습니다."
      ]
    },
    {
      "cell_type": "code",
      "metadata": {
        "colab": {
          "base_uri": "https://localhost:8080/",
          "height": 35
        },
        "id": "PIMoQ55qp7-1",
        "outputId": "edcfdd73-372b-40a2-cbe0-2af16757933a"
      },
      "source": [
        " favorites.join(fruits) + '를 좋아하지.'"
      ],
      "execution_count": null,
      "outputs": [
        {
          "output_type": "execute_result",
          "data": {
            "application/vnd.google.colaboratory.intrinsic+json": {
              "type": "string"
            },
            "text/plain": [
              "'apple를 좋아하고, banana를 좋아하고, grape를 좋아하고, strawberry를 좋아하고, pear를 좋아하지.'"
            ]
          },
          "metadata": {},
          "execution_count": 36
        }
      ]
    },
    {
      "cell_type": "markdown",
      "metadata": {
        "id": "1hR7n-qgqCMP"
      },
      "source": [
        "`join()` 함수와 관련된 몇 가지 예를 더 들겠습니다."
      ]
    },
    {
      "cell_type": "code",
      "metadata": {
        "colab": {
          "base_uri": "https://localhost:8080/"
        },
        "id": "Fnut4pAYo9Mz",
        "outputId": "bafe8428-ee93-4fd1-b87a-809507189580"
      },
      "source": [
        "loc = ['경기도', '성남시', '분당구', '정자일로']\n",
        "blank = ' '\n",
        "print(blank.join(loc))\n",
        "print(' '.join(loc))"
      ],
      "execution_count": null,
      "outputs": [
        {
          "output_type": "stream",
          "name": "stdout",
          "text": [
            "경기도 성남시 분당구 정자일로\n",
            "경기도 성남시 분당구 정자일로\n"
          ]
        }
      ]
    },
    {
      "cell_type": "markdown",
      "source": [
        "`\\n`를 사용하여 줄바꿈도 가능합니다. 예시는 생략하겠습니다."
      ],
      "metadata": {
        "id": "2eU72uaXeCuy"
      }
    },
    {
      "cell_type": "markdown",
      "metadata": {
        "id": "8jBnjCOUpdnn"
      },
      "source": [
        "## **5.5. 문자열 검색하기**"
      ]
    },
    {
      "cell_type": "markdown",
      "metadata": {
        "id": "OspOmQrN9Vsf"
      },
      "source": [
        "`find()` 함수를 사용하여 지정한 문자열과 일치하는 처음 문자열의 시작 위치를 알 수 있습니다. "
      ]
    },
    {
      "cell_type": "code",
      "metadata": {
        "colab": {
          "base_uri": "https://localhost:8080/"
        },
        "id": "tUcN1LWrtV0P",
        "outputId": "65464ff9-caa7-4c47-c0c8-a1b6c6231af4"
      },
      "source": [
        "string_love = 'I love you. You love me. Wow!'\n",
        "print('I의 처음 위치:', string_love.find('I'))\n",
        "print('공백의 처음 위치:', string_love.find(' '))\n",
        "print('l의 처음 위치:', string_love.find('l'))\n",
        "print('lo의 처음 위치:', string_love.find('lo'))\n",
        "# 처음 발견하는 'o'의 위치를 반환합니다.\n",
        "print('o의 처음 위치:', string_love.find('o'))\n",
        "print('y의 처음 위치:', string_love.find('y'))\n",
        "print('you의 처음 위치:', string_love.find('you'))"
      ],
      "execution_count": null,
      "outputs": [
        {
          "output_type": "stream",
          "name": "stdout",
          "text": [
            "I의 처음 위치: 0\n",
            "공백의 처음 위치: 1\n",
            "l의 처음 위치: 2\n",
            "lo의 처음 위치: 2\n",
            "o의 처음 위치: 3\n",
            "y의 처음 위치: 7\n",
            "you의 처음 위치: 7\n"
          ]
        }
      ]
    },
    {
      "cell_type": "markdown",
      "metadata": {
        "id": "hieeos1Dx3WR"
      },
      "source": [
        "검색 범위의 시작 위치와 끝 위치를 지정할 수도 있습니다. `끝 위치 - 1`까지 검색하며, 단어 검색에 실패하면 `-1`을 반환합니다."
      ]
    },
    {
      "cell_type": "code",
      "metadata": {
        "colab": {
          "base_uri": "https://localhost:8080/"
        },
        "id": "btOmlO6tyDXC",
        "outputId": "4555b79d-1c76-425e-b87e-27f24a7ffa9e"
      },
      "source": [
        "string_love = 'I love you. You love me. Wow!'\n",
        "print(\"7 ~ 49 중에 첫 'love'의 위치는?\", string_love.find('love', 7, 50))\n",
        "print(\"0 ~ 49 중에 첫 'love'의 위치는?\", string_love.find('love', 0, 50))\n",
        "# 끝 위치를 생략하거나 '-1'을 지정하면 문자열 끝의 위치를 의미합니다.\n",
        "print(\"7 ~ 끝 중에 첫 'love'의 위치는?\", string_love.find('love', 7))\n",
        "print(\"7 ~ 끝(-1) 중에 첫 'love'의 위치는?\", string_love.find('love', 7, -1))\n",
        "# 아무것도 찾지 못하면 -1을 반환합니다.\n",
        "print(\"못 찾았군요?\", string_love.find('love', 17))"
      ],
      "execution_count": null,
      "outputs": [
        {
          "output_type": "stream",
          "name": "stdout",
          "text": [
            "7 ~ 49 중에 첫 'love'의 위치는? 16\n",
            "0 ~ 49 중에 첫 'love'의 위치는? 2\n",
            "7 ~ 끝 중에 첫 'love'의 위치는? 16\n",
            "7 ~ 끝(-1) 중에 첫 'love'의 위치는? 16\n",
            "못 찾았군요? -1\n"
          ]
        }
      ]
    },
    {
      "cell_type": "markdown",
      "metadata": {
        "id": "AWa39YFk6I3U"
      },
      "source": [
        "문자열에서 검색 대상인 문자열의 등장 횟수는 `count()` 함수로 출력할 수 있습니다. 이 함수 역시 검색 범위의 시작 위치와 끝 위치를 지정할 수 있습니다."
      ]
    },
    {
      "cell_type": "code",
      "metadata": {
        "colab": {
          "base_uri": "https://localhost:8080/"
        },
        "id": "jpM9aUcl6fXp",
        "outputId": "9c2dda09-20a0-4930-88fc-0a5a112b4016"
      },
      "source": [
        "string_love = 'I love you. You love me. Wow!'\n",
        "print(\"'love'의 개수는 몇 개?\", string_love.count('love'))\n",
        "print(\"'love'의 개수는 몇 개?\", string_love.count('love', 3))\n",
        "print(\"'o'의 개수는 몇 개?\", string_love.count('o'))\n",
        "print(\"'o'의 개수는 몇 개?\", string_love.count('o', 5, 10))\n",
        "print(\"'e'의 개수는 몇 개?\", string_love.count('e', 23))"
      ],
      "execution_count": null,
      "outputs": [
        {
          "output_type": "stream",
          "name": "stdout",
          "text": [
            "'love'의 개수는 몇 개? 2\n",
            "'love'의 개수는 몇 개? 1\n",
            "'o'의 개수는 몇 개? 5\n",
            "'o'의 개수는 몇 개? 1\n",
            "'e'의 개수는 몇 개? 0\n"
          ]
        }
      ]
    },
    {
      "cell_type": "markdown",
      "metadata": {
        "id": "Ko782Gm-71PX"
      },
      "source": [
        "`startswith()` 함수와 `endswith()` 함수로 각각 시작과 끝의 문자열이 지정한 문자열과 같은지 `True`와 `False`로 알 수 있습니다."
      ]
    },
    {
      "cell_type": "code",
      "metadata": {
        "colab": {
          "base_uri": "https://localhost:8080/"
        },
        "id": "9y5RLaqb8jFm",
        "outputId": "d434a8d6-e370-46be-b9d0-bfe571a83b67"
      },
      "source": [
        "string_love = 'I love you. You love me. Wow!'\n",
        "print(\"'I'로 시작?\", string_love.startswith('I'))\n",
        "print(\"'love'로 시작?\", string_love.startswith('Iove'))\n",
        "print(\"'!'로 끝?\", string_love.endswith('!'))\n",
        "print(\"' '로 끝?\", string_love.endswith(' '))"
      ],
      "execution_count": null,
      "outputs": [
        {
          "output_type": "stream",
          "name": "stdout",
          "text": [
            "'I'로 시작? True\n",
            "'love'로 시작? False\n",
            "'!'로 끝? True\n",
            "' '로 끝? False\n"
          ]
        }
      ]
    },
    {
      "cell_type": "markdown",
      "metadata": {
        "id": "D-uPCDQ0qaLp"
      },
      "source": [
        "## **5.6. 문자열 변경하기**"
      ]
    },
    {
      "cell_type": "markdown",
      "metadata": {
        "id": "YIkwEcXi9vq7"
      },
      "source": [
        "`replace()` 함수로 지정한 문자열로 변경할 수 있습니다.\n",
        "\n",
        "형식은 아래와 같습니다.\n",
        "\n",
        "`문자열.replace('바꿀 문자열', '새로운 문자열'[, 횟수])`\n",
        "\n",
        "여기에서 횟수는 생략할 수 있습니다."
      ]
    },
    {
      "cell_type": "code",
      "metadata": {
        "colab": {
          "base_uri": "https://localhost:8080/"
        },
        "id": "vwG6XwkV93XA",
        "outputId": "28c19d97-dee5-4522-a70f-3f5ee3b8d846"
      },
      "source": [
        "string_love1 = 'I love you. You love me. We love you. What?'\n",
        "print(string_love1.replace('love', 'hate'))\n",
        "print(string_love1.replace('love', 'hate', 2))"
      ],
      "execution_count": null,
      "outputs": [
        {
          "output_type": "stream",
          "name": "stdout",
          "text": [
            "I hate you. You hate me. We hate you. What?\n",
            "I hate you. You hate me. We love you. What?\n"
          ]
        }
      ]
    },
    {
      "cell_type": "markdown",
      "metadata": {
        "id": "lc4h8bN1_NpV"
      },
      "source": [
        "문자열을 삭제할 때도 `replace()` 함수를 활용할 수 있습니다. "
      ]
    },
    {
      "cell_type": "code",
      "metadata": {
        "colab": {
          "base_uri": "https://localhost:8080/"
        },
        "id": "lFhAfYSj_Tgc",
        "outputId": "043abf34-d6db-4501-e653-f566dc743ce2"
      },
      "source": [
        "string_love_del = '-I; -love; -you.;'\n",
        "\n",
        "string_love_del1 = string_love_del.replace('-', '')\n",
        "print(\"'-'를 제거하면:\", string_love_del1)\n",
        "\n",
        "string_love_del2 = string_love_del1.replace(';', '')\n",
        "print(\"';'를 제거하면:\", string_love_del2)"
      ],
      "execution_count": null,
      "outputs": [
        {
          "output_type": "stream",
          "name": "stdout",
          "text": [
            "'-'를 제거하면: I; love; you.;\n",
            "';'를 제거하면: I love you.\n"
          ]
        }
      ]
    },
    {
      "cell_type": "markdown",
      "metadata": {
        "id": "_PCnLhcNAd9o"
      },
      "source": [
        "대소문자로 바꾸려면 각각 `upper()` 함수와 `lower()` 함수를 사용합니다."
      ]
    },
    {
      "cell_type": "code",
      "metadata": {
        "colab": {
          "base_uri": "https://localhost:8080/"
        },
        "id": "mlNpu-OyAkou",
        "outputId": "166471d1-60e9-4001-d1f5-3ffd1bf60cb6"
      },
      "source": [
        "print(string_love.upper())\n",
        "print(string_love.lower())"
      ],
      "execution_count": null,
      "outputs": [
        {
          "output_type": "stream",
          "name": "stdout",
          "text": [
            "I LOVE YOU. YOU LOVE ME. WOW!\n",
            "i love you. you love me. wow!\n"
          ]
        }
      ]
    },
    {
      "cell_type": "markdown",
      "source": [
        "`input()` 함수에 숫자를 지정하면 숫자가 문자 타입으로 출력됩니다. 문자 타입을 숫자 타입으로 변경하려면 `int()` 함수와 `float()` 함수를 사용합니다."
      ],
      "metadata": {
        "id": "SJRRJ_cT6YN6"
      }
    },
    {
      "cell_type": "code",
      "source": [
        "string = input('숫자를 입력하세요.')\n",
        "int_string = int(string)\n",
        "float_string = float(string)\n",
        "print(f'정수로 변환하면 {int_string}입니다.')\n",
        "print(f'실수 또는 부동소수점으로 변환하면 {float_string}입니다.')"
      ],
      "metadata": {
        "colab": {
          "base_uri": "https://localhost:8080/"
        },
        "id": "DWybO4C65jTf",
        "outputId": "bd2cf7c3-c1a0-430b-c0fa-5ce9c2aa4df5"
      },
      "execution_count": null,
      "outputs": [
        {
          "output_type": "stream",
          "name": "stdout",
          "text": [
            "숫자를 입력하세요.3\n",
            "정수로 변환하면 3입니다.\n",
            "실수 또는 부동소수점으로 변환하면 3.0입니다.\n"
          ]
        }
      ]
    },
    {
      "cell_type": "markdown",
      "source": [
        "숫자 타입을 문자 타입으로 변경하려면 `str()` 함수를 사용합니다. 예시는 생략합니다."
      ],
      "metadata": {
        "id": "MEUD0a_D7ULg"
      }
    },
    {
      "cell_type": "markdown",
      "metadata": {
        "id": "731fGWa7qhy3"
      },
      "source": [
        "## **5.7. 문자열 확인하기**"
      ]
    },
    {
      "cell_type": "markdown",
      "metadata": {
        "id": "BawumUTqBAZ1"
      },
      "source": [
        "문자열의 구성 요소를 확인하는 방법에 대해 설명합니다.\n",
        "\n",
        "아래는 관련된 함수의 목록입니다. 모든 형식은 `문자열.함수`입니다.\n",
        "\n",
        "- `isdigit()`: 숫자로만 구성되었는지 여부를 확인합니다.\n",
        "\n",
        "- `isalnum()`: 문자와 숫자로만 구성되었는지 여부를 확인합니다. 특수 문자나 공백이 포함되면 False입니다.\n",
        "\n",
        "- `isalpha()`: 문자로만 구성되었는지 여부를 확인합니다.\n",
        "\n",
        "- `isupper()`, `islower()`: 로마자 대문자, 로마자 소문자로만 구성되었는지 여부를 확인합니다.\n",
        "\n",
        "- `isspace()`: 공백으로만 구성되었는지 여부를 확인합니다."
      ]
    },
    {
      "cell_type": "markdown",
      "metadata": {
        "id": "T2uFAf9jCrU3"
      },
      "source": [
        "몇 가지 예시를 듭니다."
      ]
    },
    {
      "cell_type": "code",
      "metadata": {
        "colab": {
          "base_uri": "https://localhost:8080/"
        },
        "id": "BZmVHpdtCotV",
        "outputId": "555a359a-60f6-4b2d-db45-b37e158f5322"
      },
      "source": [
        "print(\"'love'는 숫자로만 구성되었는가?\", 'love'.isdigit())\n",
        "print(\"'love'는 문자로만 구성되었는가?\",'love'.isalpha())\n",
        "print(\"'love'는 대문자로만 구성되었는가?\",'love'.isupper())\n",
        "print(\"'love'는 소문자로만 구성되었는가?\",'love'.islower())\n",
        "print(\"'love'는 문자와 숫자로만 구성되었는가?\", 'love'.isalnum())\n",
        "print(\"'My love'는 문자와 숫자로만 구성되었는가?\", 'My love'.isalnum())\n",
        "print(\"'My love!!'는 문자와 숫자로만 구성되었는가?\", 'My love!!'.isalnum())"
      ],
      "execution_count": null,
      "outputs": [
        {
          "output_type": "stream",
          "name": "stdout",
          "text": [
            "'love'는 숫자로만 구성되었는가? False\n",
            "'love'는 문자로만 구성되었는가? True\n",
            "'love'는 대문자로만 구성되었는가? False\n",
            "'love'는 소문자로만 구성되었는가? True\n",
            "'love'는 문자와 숫자로만 구성되었는가? True\n",
            "'My love'는 문자와 숫자로만 구성되었는가? False\n",
            "'My love!!'는 문자와 숫자로만 구성되었는가? False\n"
          ]
        }
      ]
    },
    {
      "cell_type": "markdown",
      "metadata": {
        "id": "_97pf-8ncgp4"
      },
      "source": [
        "# **6. 리스트**\n",
        "\n",
        "\n"
      ]
    },
    {
      "cell_type": "markdown",
      "metadata": {
        "id": "-45TXzdkR83v"
      },
      "source": [
        "## **6.1. 인덱싱**"
      ]
    },
    {
      "cell_type": "markdown",
      "metadata": {
        "id": "8k45lV6mcZa4"
      },
      "source": [
        "리스트에서 인덱스의 범위를 지정해서 항목 일부만 가져오는 방법을 설명하겠습니다.\n",
        "\n",
        "```\n",
        "리스트[start:end]\n",
        "리스트[start:end:step]\n",
        "```   \n",
        "\n",
        "파이썬은 숫자 `1`이 아닌 숫자 `0`을 지정하면 첫 번째 원소부터 가져옵니다. 따라서 `start`부터 `end-1`까지 원소를 가져오게 됩니다. `start`를 생략하면 `0`으로 간주하고, `end`를 생략하면 마지막 숫자로 간주합니다. 추가로 `step`를 지정하면 증가하는 정도(지정한 숫자)만큼 건너뛰면서 원소를 가져옵니다. 음수로 지정하면 역순으로 가져옵니다."
      ]
    },
    {
      "cell_type": "code",
      "metadata": {
        "colab": {
          "base_uri": "https://localhost:8080/"
        },
        "id": "hMI1gm2GkeWr",
        "outputId": "3dd56c68-f5ee-47b9-844f-b9e74397bef3"
      },
      "source": [
        "a = [0, 1, 2, 3, 4, 5, 6, 7, 8, 9]\n",
        "print('a[0:4]:', a[0:4])\n",
        "print('a[3:9]:', a[3:9])\n",
        "print('a[:5]:', a[:5])\n",
        "print('a[5:]:', a[5:])\n",
        "print('a[::2]:', a[::2])\n",
        "print('a[::3]:', a[::3])\n",
        "print('a[::-1]:', a[::-1])\n",
        "print('a[6::-1]:', a[6::-1])\n",
        "print('a[:5:-1]:', a[:5:-1])"
      ],
      "execution_count": null,
      "outputs": [
        {
          "output_type": "stream",
          "name": "stdout",
          "text": [
            "a[0:4]: [0, 1, 2, 3]\n",
            "a[3:9]: [3, 4, 5, 6, 7, 8]\n",
            "a[:5]: [0, 1, 2, 3, 4]\n",
            "a[5:]: [5, 6, 7, 8, 9]\n",
            "a[::2]: [0, 2, 4, 6, 8]\n",
            "a[::3]: [0, 3, 6, 9]\n",
            "a[::-1]: [9, 8, 7, 6, 5, 4, 3, 2, 1, 0]\n",
            "a[6::-1]: [6, 5, 4, 3, 2, 1, 0]\n",
            "a[:5:-1]: [9, 8, 7, 6]\n"
          ]
        }
      ]
    },
    {
      "cell_type": "markdown",
      "metadata": {
        "id": "nYllbFnISDLt"
      },
      "source": [
        "## **6.2. 원소 삭제하기**"
      ]
    },
    {
      "cell_type": "markdown",
      "metadata": {
        "id": "ixKf7tpwqWLK"
      },
      "source": [
        "인덱스가 `i`인 원소를 제거하려면 `del 리스트명[i]` 형식을 취합니다. 다른 방법은 아래에서 추가로 설명하겠습니다."
      ]
    },
    {
      "cell_type": "code",
      "metadata": {
        "colab": {
          "base_uri": "https://localhost:8080/"
        },
        "id": "u-bXDbM9qtVZ",
        "outputId": "7fd50a57-8def-48ac-8caa-961060c4d7db"
      },
      "source": [
        "del a[4]\n",
        "print(a)"
      ],
      "execution_count": null,
      "outputs": [
        {
          "output_type": "stream",
          "name": "stdout",
          "text": [
            "[0, 1, 2, 3, 5, 6, 7, 8, 9]\n"
          ]
        }
      ]
    },
    {
      "cell_type": "markdown",
      "metadata": {
        "id": "M0tFqasLSyYP"
      },
      "source": [
        "## **6.3. 원소 존재 여부 확인하기**"
      ]
    },
    {
      "cell_type": "markdown",
      "metadata": {
        "id": "IvjdVon-rkNL"
      },
      "source": [
        "리스트에 원소가 존재하는지 여부를 확인하려면 `원소 in 리스트명` 형식을 취합니다. 원소가 존재하면 `True`, 존재하지 않으면 `False`입니다."
      ]
    },
    {
      "cell_type": "code",
      "metadata": {
        "colab": {
          "base_uri": "https://localhost:8080/"
        },
        "id": "_iWQkPIWr5jt",
        "outputId": "03e25311-b8fa-44f1-baf6-fcfd61c5dc1f"
      },
      "source": [
        "b = [0, 1, 2, 3]\n",
        "print('3?', 3 in b)\n",
        "print('4?', 4 in b)"
      ],
      "execution_count": null,
      "outputs": [
        {
          "output_type": "stream",
          "name": "stdout",
          "text": [
            "3? True\n",
            "4? False\n"
          ]
        }
      ]
    },
    {
      "cell_type": "markdown",
      "source": [
        "반대의 경우는 `원소 not in 리스트명` 형식을 취합니다."
      ],
      "metadata": {
        "id": "LVJyvRiy0Zr8"
      }
    },
    {
      "cell_type": "code",
      "source": [
        "b = [0, 1, 2, 3]\n",
        "print('3?', 3 not in b)\n",
        "print('4?', 4 not in b)"
      ],
      "metadata": {
        "colab": {
          "base_uri": "https://localhost:8080/"
        },
        "id": "3oV1aBqy0WTu",
        "outputId": "fa30d3ab-4e37-4a8e-bfc4-ae812f2fffb4"
      },
      "execution_count": null,
      "outputs": [
        {
          "output_type": "stream",
          "name": "stdout",
          "text": [
            "3? False\n",
            "4? True\n"
          ]
        }
      ]
    },
    {
      "cell_type": "markdown",
      "metadata": {
        "id": "NcrDYORcSw5t"
      },
      "source": [
        "## **6.4. 리스트 함수 적용하기**"
      ]
    },
    {
      "cell_type": "markdown",
      "metadata": {
        "id": "yhm6PEmcswzb"
      },
      "source": [
        "리스트와 관련된 함수를 설명합니다. 리스트에 추가, 삽입, 삭제, 반환, 정렬을 수행할 수 있습니다.\n",
        "\n",
        "아래는 함수 목록입니다.\n",
        "\n",
        "- 원소 추가 함수\n",
        "\n",
        "    - `append()`: 원소 하나를 마지막에 추가합니다. `리스트.append('원소명')` 형식입니다.\n",
        "\n",
        "    - `extend()`: 원소 여러 개를 마지막에 추가합니다. `리스트.extend('원소명', '원소명', ...)` 형식입니다.\n",
        "\n",
        "    - `insert()`: 특정 위치에 원소를 삽입합니다. `리스트.insert(삽입 위치, '원소명')` 형식입니다.\n",
        "\n",
        "- 원소 삭제 함수\n",
        "\n",
        "    - `remove()`: 입력값과 일치하는 첫 원소를 삭제합니다. `리스트.remove('원소명')` 형식입니다.\n",
        "\n",
        "    - `pop()`: 마지막 원소를 제거하고 반환합니다. `리스트.pop()` 형식입니다.\n",
        "\n",
        "    - `clear()`: 모든 원소를 제거합니다. `리스트.clear()` 형식입니다.\n",
        "\n",
        "- 기타 함수\n",
        "\n",
        "    - `index()`: 인자와 일치하는 처음 원소의 위치를 반환합니다. `리스트.index('원소명')` 형식입니다.\n",
        "\n",
        "    - `enumerate()`: 리스트에 포함된 원소의 위치를 확인할 수 있습니다. `enumerate(리스트)` 형식입니다.\n",
        "\n",
        "    - `count()`: 인자와 일치하는 원소의 개수를 반환합니다. `리스트.count('원소명')` 형식입니다.\n",
        "\n",
        "    - `sort()`: 원소를 순방향으로 정렬합니다. `리스트.sort()` 형식입니다.\n",
        "\n",
        "    - `reversed()`: 원소를 역순으로 정렬합니다. `리스트.reversed()` 형식입니다."
      ]
    },
    {
      "cell_type": "markdown",
      "metadata": {
        "id": "BabOvW3NIHrV"
      },
      "source": [
        "몇 가지 함수를 예시하겠습니다. 먼저 `append()` 함수의 예시입니다."
      ]
    },
    {
      "cell_type": "code",
      "metadata": {
        "colab": {
          "base_uri": "https://localhost:8080/"
        },
        "id": "ngC51qUcIPpn",
        "outputId": "f1f01709-c6bf-4b9c-9ffd-bd104cf60500"
      },
      "source": [
        "fruits = ['apple', 'banana', 'peach', 'grape']\n",
        "print(fruits)\n",
        "fruits.append('pear')\n",
        "print(\"fruits.append('pear'):\", fruits)"
      ],
      "execution_count": null,
      "outputs": [
        {
          "output_type": "stream",
          "name": "stdout",
          "text": [
            "['apple', 'banana', 'peach', 'grape']\n",
            "fruits.append('pear'): ['apple', 'banana', 'peach', 'grape', 'pear']\n"
          ]
        }
      ]
    },
    {
      "cell_type": "markdown",
      "metadata": {
        "id": "n9fcr8D6JQUW"
      },
      "source": [
        "`extend()` 함수의 예시입니다."
      ]
    },
    {
      "cell_type": "code",
      "metadata": {
        "colab": {
          "base_uri": "https://localhost:8080/"
        },
        "id": "vZeZVyt0JTEj",
        "outputId": "115e1876-1f0b-45d7-c156-6a39d2fb173a"
      },
      "source": [
        "fruits = ['apple', 'banana', 'peach', 'grape']\n",
        "print(fruits)\n",
        "# 리스트로 묶어서 지정해야 합니다.\n",
        "fruits.extend(['pear', 'strawberry'])\n",
        "print(\"fruits.extend(['pear', 'strawberry']):\", fruits)"
      ],
      "execution_count": null,
      "outputs": [
        {
          "output_type": "stream",
          "name": "stdout",
          "text": [
            "['apple', 'banana', 'peach', 'grape']\n",
            "fruits.extend(['pear', 'strawberry']): ['apple', 'banana', 'peach', 'grape', 'pear', 'strawberry']\n"
          ]
        }
      ]
    },
    {
      "cell_type": "markdown",
      "metadata": {
        "id": "Lbo1DPY5IyIF"
      },
      "source": [
        "`insert()` 함수의 예시입니다."
      ]
    },
    {
      "cell_type": "code",
      "metadata": {
        "colab": {
          "base_uri": "https://localhost:8080/"
        },
        "id": "FpsmGdoEI1DD",
        "outputId": "9ee3345a-862b-45e0-acb0-5bd2f656746e"
      },
      "source": [
        "fruits = ['apple', 'banana', 'peach', 'grape']\n",
        "print(fruits)\n",
        "fruits.insert(0, 'pear')\n",
        "print(\"fruits.insert(0, 'pear')\", fruits)"
      ],
      "execution_count": null,
      "outputs": [
        {
          "output_type": "stream",
          "name": "stdout",
          "text": [
            "['apple', 'banana', 'peach', 'grape']\n",
            "fruits.insert(0, 'pear') ['pear', 'apple', 'banana', 'peach', 'grape']\n"
          ]
        }
      ]
    },
    {
      "cell_type": "markdown",
      "source": [
        "이처럼 원본에 영향을 주는(변화를 일으키는) 함수를 **파괴적** 함수라고 부릅니다. "
      ],
      "metadata": {
        "id": "Ozh-U2_mxMbN"
      }
    },
    {
      "cell_type": "markdown",
      "metadata": {
        "id": "IqtPWUMIJKqv"
      },
      "source": [
        "다음은 `index()` 함수와 `count()` 함수의 예시입니다."
      ]
    },
    {
      "cell_type": "code",
      "metadata": {
        "colab": {
          "base_uri": "https://localhost:8080/"
        },
        "id": "doEAfUKyI-qC",
        "outputId": "e74c6b8c-524d-4408-b3b3-f22c6bacc932"
      },
      "source": [
        "fruits_index = fruits.index('peach')\n",
        "print(\"fruits.index('peach'):\", fruits_index)\n",
        "fruits_count = fruits.count('peach')\n",
        "print(\"fruits.count('peach'):\", fruits_count)"
      ],
      "execution_count": null,
      "outputs": [
        {
          "output_type": "stream",
          "name": "stdout",
          "text": [
            "fruits.index('peach'): 3\n",
            "fruits.count('peach'): 1\n"
          ]
        }
      ]
    },
    {
      "cell_type": "markdown",
      "source": [
        "참고로 `enumerate()` 함수를 for문과 사용하면 리스트에 포함된 원소의 위치를 확인할 수 있습니다. 먼저 리스트에 함수만 적용하겠습니다."
      ],
      "metadata": {
        "id": "dMLlvJUJ-_hU"
      }
    },
    {
      "cell_type": "code",
      "source": [
        "fruits = ['pear', 'apple', 'banana', 'peach', 'grape']\n",
        "\n",
        "print(enumerate(fruits))    # 반복문으로 꺼내지 않은 상태에서는 객체로만 존재합니다."
      ],
      "metadata": {
        "colab": {
          "base_uri": "https://localhost:8080/"
        },
        "id": "TzjDmgbZ_CF-",
        "outputId": "f6e15a15-2f02-47ac-bb2d-f0025d1ae7a4"
      },
      "execution_count": null,
      "outputs": [
        {
          "output_type": "stream",
          "name": "stdout",
          "text": [
            "<enumerate object at 0x7fb56e5be500>\n"
          ]
        }
      ]
    },
    {
      "cell_type": "markdown",
      "source": [
        "리스트로 만드는 함수인 `list()`를 객체에 적용하면 인덱스와 원소가 함께 출력됩니다."
      ],
      "metadata": {
        "id": "DUmRg3Vi_2fJ"
      }
    },
    {
      "cell_type": "code",
      "source": [
        "print(list(enumerate(fruits)))"
      ],
      "metadata": {
        "colab": {
          "base_uri": "https://localhost:8080/"
        },
        "id": "YghPEGL8_t5m",
        "outputId": "1a543e39-1643-403d-9c11-da577b5a7d1b"
      },
      "execution_count": null,
      "outputs": [
        {
          "output_type": "stream",
          "name": "stdout",
          "text": [
            "[(0, 'pear'), (1, 'apple'), (2, 'banana'), (3, 'peach'), (4, 'grape')]\n"
          ]
        }
      ]
    },
    {
      "cell_type": "markdown",
      "source": [
        "각 인덱스에 해당하는 원소가 인덱스와 함께 튜플 형식(다음 파트인 **7. 튜플**에서 다룹니다)으로 출력됐습니다. 이렇게 원소가 두 개로 나뉘었으므로 for문에서 반복하여 꺼낼 원소는 두 개입니다."
      ],
      "metadata": {
        "id": "mWUi_LuvAYyF"
      }
    },
    {
      "cell_type": "code",
      "source": [
        "for index, value in enumerate(fruits):\n",
        "    print(f'인덱스 {index}의 과일은 {value}입니다.')"
      ],
      "metadata": {
        "colab": {
          "base_uri": "https://localhost:8080/"
        },
        "id": "O29e4XKKAUXh",
        "outputId": "977263bb-f97f-477c-c133-bc8e3ff6ce0f"
      },
      "execution_count": null,
      "outputs": [
        {
          "output_type": "stream",
          "name": "stdout",
          "text": [
            "인덱스 0의 과일은 pear입니다.\n",
            "인덱스 1의 과일은 apple입니다.\n",
            "인덱스 2의 과일은 banana입니다.\n",
            "인덱스 3의 과일은 peach입니다.\n",
            "인덱스 4의 과일은 grape입니다.\n"
          ]
        }
      ]
    },
    {
      "cell_type": "markdown",
      "metadata": {
        "id": "qvvRHZbhP6Te"
      },
      "source": [
        "# **7. 튜플**"
      ]
    },
    {
      "cell_type": "markdown",
      "metadata": {
        "id": "CyVJZwV7cff0"
      },
      "source": [
        "튜플은 리스트와 비슷하지만 차이점이 하나 있습니다. 튜플은 한 번 생성하면 추가, 삭제, 변경할 수 없습니다. 따라서 리스트에서 사용하는 함수 중에 원소를 추가, 삭제, 변경하지 않는 함수만 사용할 수 있습니다. 즉 `index()`, `count()` 함수를 사용할 수 있습니다."
      ]
    },
    {
      "cell_type": "markdown",
      "metadata": {
        "id": "qhBjtGjdTE_W"
      },
      "source": [
        "## **7.1. 원소가 하나인 튜플 생성하기**"
      ]
    },
    {
      "cell_type": "markdown",
      "metadata": {
        "id": "p6EIA9a5QWop"
      },
      "source": [
        "원소(인자)를 하나만 가진 튜플을 생성하는 방법을 설명합니다. 튜플이 원소를 하나만 가지려면 원소를 입력하고 뒤에 `,`를 붙여야 합니다."
      ]
    },
    {
      "cell_type": "code",
      "metadata": {
        "colab": {
          "base_uri": "https://localhost:8080/"
        },
        "id": "2EBrqHq0Qo8W",
        "outputId": "4ccf2aec-c745-46e4-e9bb-41902899c7af"
      },
      "source": [
        "tuple1 = (16,)\n",
        "print(tuple1)\n",
        "tuple2 = 16,\n",
        "print(tuple2)"
      ],
      "execution_count": null,
      "outputs": [
        {
          "output_type": "stream",
          "name": "stdout",
          "text": [
            "(16,)\n",
            "(16,)\n"
          ]
        }
      ]
    },
    {
      "cell_type": "markdown",
      "source": [
        "## **7.2. 괄호가 없는 튜플 사용하기**"
      ],
      "metadata": {
        "id": "R4Vkuppv0LYK"
      }
    },
    {
      "cell_type": "markdown",
      "source": [
        "아래와 같은 형식으로 변수를 선언하고 값을 할당할 수 있습니다."
      ],
      "metadata": {
        "id": "BTxa19lf0vMW"
      }
    },
    {
      "cell_type": "code",
      "source": [
        "[a, b] = [1, 2]\n",
        "(c, d) = (3, 4)\n",
        "\n",
        "print(a)\n",
        "print(b)\n",
        "print(c)\n",
        "print(d)"
      ],
      "metadata": {
        "colab": {
          "base_uri": "https://localhost:8080/"
        },
        "id": "ThOsmvuM0jiN",
        "outputId": "cf34b264-1cea-4f1a-fb50-dbf7fac54bf6"
      },
      "execution_count": null,
      "outputs": [
        {
          "output_type": "stream",
          "name": "stdout",
          "text": [
            "1\n",
            "2\n",
            "3\n",
            "4\n"
          ]
        }
      ]
    },
    {
      "cell_type": "markdown",
      "source": [
        "아래처럼 괄호를 생략해도 값을 할당할 수 있습니다."
      ],
      "metadata": {
        "id": "-kyyAZjz03cf"
      }
    },
    {
      "cell_type": "code",
      "source": [
        "[a, b] = 11, 22\n",
        "(c, d) = 33, 44\n",
        "\n",
        "print(a)\n",
        "print(b)\n",
        "print(c)\n",
        "print(d)"
      ],
      "metadata": {
        "colab": {
          "base_uri": "https://localhost:8080/"
        },
        "id": "RrougVR306EZ",
        "outputId": "b634c2ca-4ea7-423e-d9ca-e182c2703390"
      },
      "execution_count": null,
      "outputs": [
        {
          "output_type": "stream",
          "name": "stdout",
          "text": [
            "11\n",
            "22\n",
            "33\n",
            "44\n"
          ]
        }
      ]
    },
    {
      "cell_type": "markdown",
      "source": [
        "여러 값을 괄호 없이 전달하면 변수에 할당되면서 튜플 형태가 됩니다. 다시 말하면 괄호를 생략해도 튜플로 인식됩니다."
      ],
      "metadata": {
        "id": "q3weRZ_z1tn-"
      }
    },
    {
      "cell_type": "code",
      "source": [
        "test_tuple = 1, 2, 3, 4\n",
        "print(test_tuple)"
      ],
      "metadata": {
        "colab": {
          "base_uri": "https://localhost:8080/"
        },
        "id": "Zr7PmrZF1mpJ",
        "outputId": "a1f2e89c-6ef4-4d67-af57-9cac3fd5ed33"
      },
      "execution_count": null,
      "outputs": [
        {
          "output_type": "stream",
          "name": "stdout",
          "text": [
            "(1, 2, 3, 4)\n"
          ]
        }
      ]
    },
    {
      "cell_type": "code",
      "source": [
        "a, b, c, d = 5, 6, 7, 8\n",
        "print(a, b, c, d)"
      ],
      "metadata": {
        "colab": {
          "base_uri": "https://localhost:8080/"
        },
        "id": "KrG69Qk_2A-S",
        "outputId": "1ab7bf8a-1939-4011-c83e-0434e997927c"
      },
      "execution_count": null,
      "outputs": [
        {
          "output_type": "stream",
          "name": "stdout",
          "text": [
            "5 6 7 8\n"
          ]
        }
      ]
    },
    {
      "cell_type": "markdown",
      "source": [
        "각 변수의 값을 변수끼리 대응해서 바꿀수도 있습니다."
      ],
      "metadata": {
        "id": "J_QTXgNg2gEq"
      }
    },
    {
      "cell_type": "code",
      "source": [
        "a, b = 1, 2\n",
        "a, b = b, a\n",
        "print(a)\n",
        "print(b)"
      ],
      "metadata": {
        "colab": {
          "base_uri": "https://localhost:8080/"
        },
        "id": "gpWOb73z2Xoe",
        "outputId": "3839ed65-dc9c-42cb-9767-79492a3e1f4a"
      },
      "execution_count": null,
      "outputs": [
        {
          "output_type": "stream",
          "name": "stdout",
          "text": [
            "2\n",
            "1\n"
          ]
        }
      ]
    },
    {
      "cell_type": "markdown",
      "source": [
        "몫과 나머지를 튜플 형태로 리턴하는 `divmod()` 함수를 아래처럼 변수에 할당해서 출력할 수 있습니다."
      ],
      "metadata": {
        "id": "SdmY7_Yk4XwE"
      }
    },
    {
      "cell_type": "code",
      "source": [
        "a, b = divmod(11, 5)\n",
        "print(a)\n",
        "print(b)"
      ],
      "metadata": {
        "colab": {
          "base_uri": "https://localhost:8080/"
        },
        "id": "Oeuu9XiI4Os0",
        "outputId": "c3c11b60-f10d-4b0f-c0d9-805d5247ff85"
      },
      "execution_count": null,
      "outputs": [
        {
          "output_type": "stream",
          "name": "stdout",
          "text": [
            "2\n",
            "1\n"
          ]
        }
      ]
    },
    {
      "cell_type": "markdown",
      "metadata": {
        "id": "uOcYQ6O1RUmw"
      },
      "source": [
        "# **8. 세트**"
      ]
    },
    {
      "cell_type": "markdown",
      "metadata": {
        "id": "HMYX9eWLci4E"
      },
      "source": [
        "세트는 수학의 집합 개념을 실현할 목적으로 만들었습니다. 리스트와 튜플과 유사하며, 리스트에서 쓰이는 함수를 적용할 수 있습니다. 차이점이라면 데이터에 순서가 존재하지 않고 데이터가 중복될 수 없습니다. 아울러 집합과 관련된 개념인 합집합, 차집합, 교집합을 구하는 함수를 사용할 수 있습니다. "
      ]
    },
    {
      "cell_type": "markdown",
      "metadata": {
        "id": "Dg8lH_LxU7n2"
      },
      "source": [
        "## **8.1. 데이터 중복 불가**"
      ]
    },
    {
      "cell_type": "markdown",
      "metadata": {
        "id": "52f6RRe7Ub87"
      },
      "source": [
        "세트에는 데이터가 중복될 수 없습니다."
      ]
    },
    {
      "cell_type": "code",
      "metadata": {
        "colab": {
          "base_uri": "https://localhost:8080/"
        },
        "id": "0enpo9upUnM0",
        "outputId": "cfebe636-a0cc-4ad6-ecd1-cfe78957d2a7"
      },
      "source": [
        "set_1 = {0, 1, 2, 3}\n",
        "print(set_1)\n",
        "set_2 = {0, 0, 1, 1, 2, 3}\n",
        "print(set_2)"
      ],
      "execution_count": null,
      "outputs": [
        {
          "output_type": "stream",
          "name": "stdout",
          "text": [
            "{0, 1, 2, 3}\n",
            "{0, 1, 2, 3}\n"
          ]
        }
      ]
    },
    {
      "cell_type": "markdown",
      "metadata": {
        "id": "I3v9zayOVDNV"
      },
      "source": [
        "## **8.2. 집합 관련 함수 적용하기**"
      ]
    },
    {
      "cell_type": "markdown",
      "metadata": {
        "id": "gvtv2874cmnp"
      },
      "source": [
        "세트1(set1)과 세트2(set2)가 존재한다고 가정하겠습니다.\n",
        "\n",
        "아래는 집합 관련 함수 목록입니다. 형식은 `set1.함수(set2)`입니다.\n",
        "\n",
        "- `union()`: 합집합\n",
        "\n",
        "- `difference()`: 차집합\n",
        "\n",
        "- `intersection()`: 교집합"
      ]
    },
    {
      "cell_type": "markdown",
      "metadata": {
        "id": "CeU5N7nQWMjq"
      },
      "source": [
        "`intersection()` 함수만 예시합니다. 모든 함수는 형식이 같습니다."
      ]
    },
    {
      "cell_type": "code",
      "metadata": {
        "colab": {
          "base_uri": "https://localhost:8080/"
        },
        "id": "6aiOw2-1Ws3q",
        "outputId": "f43cef29-e1cf-42b8-fed7-0dc6431a25ba"
      },
      "source": [
        "set1 = {0, 1, 2, 3, 4, 5}\n",
        "set2 = {0, 2, 4, 6}\n",
        "set1.intersection(set2)"
      ],
      "execution_count": null,
      "outputs": [
        {
          "output_type": "execute_result",
          "data": {
            "text/plain": [
              "{0, 2, 4}"
            ]
          },
          "metadata": {},
          "execution_count": 55
        }
      ]
    },
    {
      "cell_type": "markdown",
      "metadata": {
        "id": "rB5PQK0_XMkc"
      },
      "source": [
        "## **8.3. 연산자를 이용하여 집합 구하기**"
      ]
    },
    {
      "cell_type": "markdown",
      "metadata": {
        "id": "i4fwKQ7qcot6"
      },
      "source": [
        "함수가 아닌 연산자만으로 각 집합을 구할 수 있습니다. 합집합은 `|`로, 차집합은 `-`로, 교집합은 `&`로 구합니다."
      ]
    },
    {
      "cell_type": "markdown",
      "metadata": {
        "id": "9lbWYt-OX6Bn"
      },
      "source": [
        "합집합에 대한 예시입니다."
      ]
    },
    {
      "cell_type": "code",
      "metadata": {
        "colab": {
          "base_uri": "https://localhost:8080/"
        },
        "id": "KL-feahFYAi3",
        "outputId": "8d3db193-9279-4e09-ebf3-7722c1f17dd0"
      },
      "source": [
        "set1 | set2"
      ],
      "execution_count": null,
      "outputs": [
        {
          "output_type": "execute_result",
          "data": {
            "text/plain": [
              "{0, 1, 2, 3, 4, 5, 6}"
            ]
          },
          "metadata": {},
          "execution_count": 56
        }
      ]
    },
    {
      "cell_type": "markdown",
      "metadata": {
        "id": "Napv2QUGYI8d"
      },
      "source": [
        "## **8.4. 타입 변환하기**"
      ]
    },
    {
      "cell_type": "markdown",
      "metadata": {
        "id": "7rfpoBfycqzS"
      },
      "source": [
        "리스트와 튜플과 세트는 각 타입을 변환할 수 있습니다. 다만 함수를 적용했을 때 기존 타입이 변하지는 않습니다. 변환 타입을 유지하려면 따로 객체에 지정해야 합니다.\n",
        "\n",
        "아래는 변환할 타입에 대한 함수 목록입니다.\n",
        "\n",
        "- `객체명 = list(변환 대상)`: 리스트로 변환합니다.\n",
        "\n",
        "- `객체명 = tuple(변환 대상)`: 튜플로 변환합니다.\n",
        "\n",
        "- `객체명 = set(변환 대상)`: 세트로 변환합니다."
      ]
    },
    {
      "cell_type": "code",
      "metadata": {
        "colab": {
          "base_uri": "https://localhost:8080/"
        },
        "id": "QcPEddHjZFbZ",
        "outputId": "28251710-0965-4b58-b16d-cf596171667e"
      },
      "source": [
        "type(set1)"
      ],
      "execution_count": null,
      "outputs": [
        {
          "output_type": "execute_result",
          "data": {
            "text/plain": [
              "set"
            ]
          },
          "metadata": {},
          "execution_count": 57
        }
      ]
    },
    {
      "cell_type": "code",
      "metadata": {
        "colab": {
          "base_uri": "https://localhost:8080/"
        },
        "id": "LF2W3YjnaEpw",
        "outputId": "4ffdfb1a-a44d-4bae-b914-b8104e2ac587"
      },
      "source": [
        "list(set1)"
      ],
      "execution_count": null,
      "outputs": [
        {
          "output_type": "execute_result",
          "data": {
            "text/plain": [
              "[0, 1, 2, 3, 4, 5]"
            ]
          },
          "metadata": {},
          "execution_count": 58
        }
      ]
    },
    {
      "cell_type": "code",
      "metadata": {
        "colab": {
          "base_uri": "https://localhost:8080/"
        },
        "id": "qZ5Mp2l0aIaR",
        "outputId": "def357d6-dd9a-4a83-ab23-b3098a4cea97"
      },
      "source": [
        "type(set1)"
      ],
      "execution_count": null,
      "outputs": [
        {
          "output_type": "execute_result",
          "data": {
            "text/plain": [
              "set"
            ]
          },
          "metadata": {},
          "execution_count": 59
        }
      ]
    },
    {
      "cell_type": "markdown",
      "metadata": {
        "id": "uIUUb4e-aMKa"
      },
      "source": [
        "세트 타입을 리스트 함수를 사용해서 리스트로 출력했지만 여전히 `set1`은 세트 타입입니다."
      ]
    },
    {
      "cell_type": "markdown",
      "metadata": {
        "id": "CZwjIulgaU4Y"
      },
      "source": [
        "리스트 타입으로 유지하려면 객체를 따로 생성해서 출력값을 옮겨야 합니다."
      ]
    },
    {
      "cell_type": "code",
      "metadata": {
        "colab": {
          "base_uri": "https://localhost:8080/"
        },
        "id": "F7LpltjjZd2_",
        "outputId": "822ae57d-718a-45a6-c37e-b93d024c2210"
      },
      "source": [
        "set_to_list = list(set1)\n",
        "type(set_to_list)"
      ],
      "execution_count": null,
      "outputs": [
        {
          "output_type": "execute_result",
          "data": {
            "text/plain": [
              "list"
            ]
          },
          "metadata": {},
          "execution_count": 60
        }
      ]
    },
    {
      "cell_type": "markdown",
      "metadata": {
        "id": "WXgKGALPapgU"
      },
      "source": [
        "# **9. 딕셔너리**"
      ]
    },
    {
      "cell_type": "markdown",
      "metadata": {
        "id": "k_vpBPNactu-"
      },
      "source": [
        "일반 사전은 표제어와 설명이 한 짝으로 구성되며, 표제어를 찾으면 설명을 볼 수 있습니다. 같은 이치로 파이썬 딕셔너리는 **키(key)**와 **값(value)**으로 대응하고, 키를 찾으면 값을 확인할 수 있습니다. 따라서 딕셔너리를 인덱싱 하려면 키를 이용합니다. 키는 숫자나 문자열이고, 값은 모든 타입입니다.\n",
        "\n",
        "아래는 딕셔너리의 형식입니다.\n",
        "\n",
        "```\n",
        "dict = {key1: value1, key2: value2, key3: value3}\n",
        "```"
      ]
    },
    {
      "cell_type": "markdown",
      "metadata": {
        "id": "pEPwKjCndod5"
      },
      "source": [
        "## **9.1. 딕셔너리 생성하기**"
      ]
    },
    {
      "cell_type": "markdown",
      "metadata": {
        "id": "py3O9T0wcv-j"
      },
      "source": [
        "한국 내 지역명을 예시로 딕셔너리를 생성합니다."
      ]
    },
    {
      "cell_type": "code",
      "metadata": {
        "colab": {
          "base_uri": "https://localhost:8080/"
        },
        "id": "aQjucxA_eVOb",
        "outputId": "96185eef-5212-41fd-bdae-a40623063a15"
      },
      "source": [
        "loc_dict = {'서울': '종로', '경기': '분당', '인천': '부평', '충남': '논산'}\n",
        "loc_dict"
      ],
      "execution_count": null,
      "outputs": [
        {
          "output_type": "execute_result",
          "data": {
            "text/plain": [
              "{'경기': '분당', '서울': '종로', '인천': '부평', '충남': '논산'}"
            ]
          },
          "metadata": {},
          "execution_count": 61
        }
      ]
    },
    {
      "cell_type": "markdown",
      "metadata": {
        "id": "dstG2dqdfKrX"
      },
      "source": [
        "입력 순서와 다르게 출력됐습니다. 딕셔너리는 순서가 중요하지 않습니다. 입력 순서를 그대로 출력하려면 `print()` 함수를 붙여줍니다."
      ]
    },
    {
      "cell_type": "code",
      "metadata": {
        "colab": {
          "base_uri": "https://localhost:8080/"
        },
        "id": "k4L0sWEafp6z",
        "outputId": "41f7d849-c835-4bcb-dd33-9e414e612a66"
      },
      "source": [
        "print(loc_dict)"
      ],
      "execution_count": null,
      "outputs": [
        {
          "output_type": "stream",
          "name": "stdout",
          "text": [
            "{'서울': '종로', '경기': '분당', '인천': '부평', '충남': '논산'}\n"
          ]
        }
      ]
    },
    {
      "cell_type": "markdown",
      "metadata": {
        "id": "uPuF74ynhd-V"
      },
      "source": [
        "값은 모든 타입이 가능하다고 명시했었습니다. 예컨대 리스트 형태도 가능합니다."
      ]
    },
    {
      "cell_type": "code",
      "metadata": {
        "colab": {
          "base_uri": "https://localhost:8080/"
        },
        "id": "13_Zgolbhl7O",
        "outputId": "498cc452-48f7-41af-845d-6e92bff580bc"
      },
      "source": [
        "num_dict = {0: [1, 2, 3], 4: [5, 6, 7], 8: [9, 10, 11]}\n",
        "num_dict"
      ],
      "execution_count": null,
      "outputs": [
        {
          "output_type": "execute_result",
          "data": {
            "text/plain": [
              "{0: [1, 2, 3], 4: [5, 6, 7], 8: [9, 10, 11]}"
            ]
          },
          "metadata": {},
          "execution_count": 63
        }
      ]
    },
    {
      "cell_type": "markdown",
      "metadata": {
        "id": "L1UIGS0aiBfD"
      },
      "source": [
        "여러 타입이 복잡하게 혼재될 수도 있습니다."
      ]
    },
    {
      "cell_type": "code",
      "metadata": {
        "colab": {
          "base_uri": "https://localhost:8080/"
        },
        "id": "-lw6fR8fiF4M",
        "outputId": "32c29e98-2189-413f-ac2a-7aee11671fe7"
      },
      "source": [
        "complicated_dict = {0: 1, 2: [3, 4, 5], 'six': (7, 8),\n",
        "                    'sub_num_dict': {0: 1, 2: (3, 4), 'five': [6, 7]},\n",
        "                    'nine': 'finished'}\n",
        "print(complicated_dict)"
      ],
      "execution_count": null,
      "outputs": [
        {
          "output_type": "stream",
          "name": "stdout",
          "text": [
            "{0: 1, 2: [3, 4, 5], 'six': (7, 8), 'sub_num_dict': {0: 1, 2: (3, 4), 'five': [6, 7]}, 'nine': 'finished'}\n"
          ]
        }
      ]
    },
    {
      "cell_type": "markdown",
      "metadata": {
        "id": "AVAfj9OhfwNp"
      },
      "source": [
        "## **9.2. 키를 지정하여 값을 출력하기**"
      ]
    },
    {
      "cell_type": "markdown",
      "metadata": {
        "id": "L9jPAkSccyQv"
      },
      "source": [
        "바로 위에서 복잡하게 생성한 `complicated_dict` 딕셔너리를 리스트로 지정하여 해당하는 값을 출력하겠습니다."
      ]
    },
    {
      "cell_type": "code",
      "metadata": {
        "colab": {
          "base_uri": "https://localhost:8080/"
        },
        "id": "nog8R8Ldf9JK",
        "outputId": "7d7f3aab-9ac5-4a34-d46a-a37570ed8a2b"
      },
      "source": [
        "complicated_dict['sub_num_dict']"
      ],
      "execution_count": null,
      "outputs": [
        {
          "output_type": "execute_result",
          "data": {
            "text/plain": [
              "{0: 1, 2: (3, 4), 'five': [6, 7]}"
            ]
          },
          "metadata": {},
          "execution_count": 52
        }
      ]
    },
    {
      "cell_type": "markdown",
      "metadata": {
        "id": "GKaObjHkkQ7a"
      },
      "source": [
        "## **9.3. 데이터 추가하기**"
      ]
    },
    {
      "cell_type": "markdown",
      "metadata": {
        "id": "jWH2Vtdscz_h"
      },
      "source": [
        "지속해서 `complicated_dict` 딕셔너리를 사용합니다. 딕셔너리에 값을 추가하려면 `딕셔너리[key] = value` 형태를 사용합니다.\n",
        "\n",
        "아래 코드로 예시합니다."
      ]
    },
    {
      "cell_type": "code",
      "metadata": {
        "colab": {
          "base_uri": "https://localhost:8080/"
        },
        "id": "VBiXg1JMk7vk",
        "outputId": "8e1b8fb0-dfca-41e5-810e-89e869032ff9"
      },
      "source": [
        "# `'complicated_dict' 딕셔너리에 'ten'이라는 키를 생성하고\n",
        "# [11, 12]`를 짝짓는다고 생각하면 이해하기에 한결 편리합니다.\n",
        "complicated_dict['ten'] = [11, 12]\n",
        "print(complicated_dict)"
      ],
      "execution_count": null,
      "outputs": [
        {
          "output_type": "stream",
          "name": "stdout",
          "text": [
            "{0: 1, 2: [3, 4, 5], 'six': (7, 8), 'sub_num_dict': {0: 1, 2: (3, 4), 'five': [6, 7]}, 'nine': 'finished', 'ten': [11, 12]}\n"
          ]
        }
      ]
    },
    {
      "cell_type": "markdown",
      "metadata": {
        "id": "lyGrVyxSlpfE"
      },
      "source": [
        "## **9.4. 데이터 수정하기**"
      ]
    },
    {
      "cell_type": "markdown",
      "metadata": {
        "id": "ZvnM4ImMc16q"
      },
      "source": [
        "`complicated_dict` 딕셔너리에 있는 기존의 값을 수정할 때도 값을 추가하는 방식인 `딕셔너리[key] = value` 형태를 사용합니다.\n",
        "\n",
        "아래 코드로 예시합니다."
      ]
    },
    {
      "cell_type": "code",
      "metadata": {
        "colab": {
          "base_uri": "https://localhost:8080/"
        },
        "id": "sY5nCtrOmEpW",
        "outputId": "5bdb9ae7-2de6-47ca-820c-18ff79e43336"
      },
      "source": [
        "complicated_dict['sub_num_dict'] = {0: 1, 2: 3}\n",
        "print(complicated_dict)"
      ],
      "execution_count": null,
      "outputs": [
        {
          "output_type": "stream",
          "name": "stdout",
          "text": [
            "{0: 1, 2: [3, 4, 5], 'six': (7, 8), 'sub_num_dict': {0: 1, 2: 3}, 'nine': 'finished', 'ten': [11, 12]}\n"
          ]
        }
      ]
    },
    {
      "cell_type": "markdown",
      "metadata": {
        "id": "rQM-qEdPmgaL"
      },
      "source": [
        "## **9.5. 데이터 삭제하기**"
      ]
    },
    {
      "cell_type": "markdown",
      "metadata": {
        "id": "zzgrKclwc3vW"
      },
      "source": [
        "`complicated_dict` 딕셔너리에 있는 값을 삭제하려면 `del 딕셔너리[key]` 형태를 사용합니다. 키에 해당하는 값이 키와 함께 삭제됩니다.\n",
        "\n",
        "아래 코드로 예시합니다."
      ]
    },
    {
      "cell_type": "code",
      "metadata": {
        "colab": {
          "base_uri": "https://localhost:8080/"
        },
        "id": "RS_h_LJJm5wl",
        "outputId": "6ba8f81e-a395-4ffd-b2e6-8e7814676ecf"
      },
      "source": [
        "del complicated_dict['sub_num_dict']\n",
        "print(complicated_dict)"
      ],
      "execution_count": null,
      "outputs": [
        {
          "output_type": "stream",
          "name": "stdout",
          "text": [
            "{0: 1, 2: [3, 4, 5], 'six': (7, 8), 'nine': 'finished', 'ten': [11, 12]}\n"
          ]
        }
      ]
    },
    {
      "cell_type": "markdown",
      "metadata": {
        "id": "0wV6xhuCnLG0"
      },
      "source": [
        "## **9.6. 딕셔너리 함수 적용하기**"
      ]
    },
    {
      "cell_type": "markdown",
      "metadata": {
        "id": "q_HLSOrDc6Ch"
      },
      "source": [
        "딕셔너리도 전용 함수가 있습니다. 형식은 `딕셔너리.함수()`입니다.\n",
        "\n",
        "아래는 딕셔너리 전용 함수 목록을 예시로 풀어낸 형식입니다.\n",
        "\n",
        "- `complicated_dict.keys()`: 모든 키를 리스트로 출력합니다.\n",
        "\n",
        "- `complicated_dict.values()`: 모든 값을 리스트로 출력합니다.\n",
        "\n",
        "- `complicated_dict.items()`: 키와 값의 짝을 리스트 안에 튜플로 출력합니다.\n",
        "\n",
        "- `complicated_dict.update(loc_dict)`: 딕셔너리에 다른 딕셔너리가 가진 데이터를 추가합니다.\n",
        "\n",
        "- `complicated_dict.clear()`: 모든 원소를 삭제합니다."
      ]
    },
    {
      "cell_type": "markdown",
      "metadata": {
        "id": "cE7Jmgycz6YR"
      },
      "source": [
        "`key()` 함수에 대한 예시입니다."
      ]
    },
    {
      "cell_type": "code",
      "metadata": {
        "colab": {
          "base_uri": "https://localhost:8080/"
        },
        "id": "MRWhSV1L7Ygl",
        "outputId": "3ac97ca4-f426-440d-f5f0-a0a94377dc5d"
      },
      "source": [
        "print(complicated_dict)\n",
        "print(complicated_dict.keys())"
      ],
      "execution_count": null,
      "outputs": [
        {
          "output_type": "stream",
          "name": "stdout",
          "text": [
            "{0: 1, 2: [3, 4, 5], 'six': (7, 8), 'nine': 'finished', 'ten': [11, 12]}\n",
            "dict_keys([0, 2, 'six', 'nine', 'ten'])\n"
          ]
        }
      ]
    },
    {
      "cell_type": "markdown",
      "metadata": {
        "id": "W36nToM17hQP"
      },
      "source": [
        "`values()` 함수에 대한 예시입니다."
      ]
    },
    {
      "cell_type": "code",
      "metadata": {
        "colab": {
          "base_uri": "https://localhost:8080/"
        },
        "id": "9PC160uL7ka3",
        "outputId": "2114a55d-84ca-4dec-c006-b94e4b8bf157"
      },
      "source": [
        "print(complicated_dict)\n",
        "print(complicated_dict.values())"
      ],
      "execution_count": null,
      "outputs": [
        {
          "output_type": "stream",
          "name": "stdout",
          "text": [
            "{0: 1, 2: [3, 4, 5], 'six': (7, 8), 'nine': 'finished', 'ten': [11, 12]}\n",
            "dict_values([1, [3, 4, 5], (7, 8), 'finished', [11, 12]])\n"
          ]
        }
      ]
    },
    {
      "cell_type": "markdown",
      "metadata": {
        "id": "yk3h22PX7yCi"
      },
      "source": [
        "`items()` 함수에 대한 예시입니다. 리스트에 튜플로 키와 값이 묶입니다."
      ]
    },
    {
      "cell_type": "code",
      "metadata": {
        "colab": {
          "base_uri": "https://localhost:8080/"
        },
        "id": "eKuKLoe571FV",
        "outputId": "21f9b73d-278f-453f-b06f-6d8d1a5fa6a6"
      },
      "source": [
        "print(complicated_dict)\n",
        "print(complicated_dict.items())"
      ],
      "execution_count": null,
      "outputs": [
        {
          "output_type": "stream",
          "name": "stdout",
          "text": [
            "{0: 1, 2: [3, 4, 5], 'six': (7, 8), 'nine': 'finished', 'ten': [11, 12]}\n",
            "dict_items([(0, 1), (2, [3, 4, 5]), ('six', (7, 8)), ('nine', 'finished'), ('ten', [11, 12])])\n"
          ]
        }
      ]
    },
    {
      "cell_type": "markdown",
      "source": [
        "for문과 `items()` 함수를 조합하면 키와 값을 출력할 수 있습니다."
      ],
      "metadata": {
        "id": "M_5sD0ocGORX"
      }
    },
    {
      "cell_type": "code",
      "source": [
        "for key, value in complicated_dict.items():\n",
        "    print(f'complicated_dict[{key}]: {value}')"
      ],
      "metadata": {
        "colab": {
          "base_uri": "https://localhost:8080/"
        },
        "id": "Qfefbe15GbPJ",
        "outputId": "513d9d6c-ef93-4dc0-8c8c-c7642a11c071"
      },
      "execution_count": null,
      "outputs": [
        {
          "output_type": "stream",
          "name": "stdout",
          "text": [
            "complicated_dict[0]: 1\n",
            "complicated_dict[2]: [3, 4, 5]\n",
            "complicated_dict[six]: (7, 8)\n",
            "complicated_dict[nine]: finished\n",
            "complicated_dict[ten]: [11, 12]\n"
          ]
        }
      ]
    },
    {
      "cell_type": "markdown",
      "metadata": {
        "id": "M3bwYjiO8KnJ"
      },
      "source": [
        "데이터를 분석할 때는 일반적으로 리스트를 사용하는 경우가 많습니다. 리스트로 변환하는 작업에 능숙해야 합니다. 아래는 이에 대한 예시입니다."
      ]
    },
    {
      "cell_type": "code",
      "metadata": {
        "colab": {
          "base_uri": "https://localhost:8080/"
        },
        "id": "QqbPT8Uy8q2C",
        "outputId": "7fcec955-9c28-432b-bf88-f681ff34992e"
      },
      "source": [
        "print(list(complicated_dict.keys()))\n",
        "print(list(complicated_dict.values()))\n",
        "print(list(complicated_dict.items()))"
      ],
      "execution_count": null,
      "outputs": [
        {
          "output_type": "stream",
          "name": "stdout",
          "text": [
            "[0, 2, 'six', 'nine', 'ten']\n",
            "[1, [3, 4, 5], (7, 8), 'finished', [11, 12]]\n",
            "[(0, 1), (2, [3, 4, 5]), ('six', (7, 8)), ('nine', 'finished'), ('ten', [11, 12])]\n"
          ]
        }
      ]
    },
    {
      "cell_type": "markdown",
      "metadata": {
        "id": "vyhHNaw29B1p"
      },
      "source": [
        "`update()` 함수에 대한 예시입니다."
      ]
    },
    {
      "cell_type": "code",
      "metadata": {
        "colab": {
          "base_uri": "https://localhost:8080/"
        },
        "id": "G6S-dH_a9Eqf",
        "outputId": "4f9670b6-597e-4dd4-fe71-dffaae264a28"
      },
      "source": [
        "complicated_dict.update(loc_dict)\n",
        "print(complicated_dict)"
      ],
      "execution_count": null,
      "outputs": [
        {
          "output_type": "stream",
          "name": "stdout",
          "text": [
            "{0: 1, 2: [3, 4, 5], 'six': (7, 8), 'nine': 'finished', 'ten': [11, 12], '서울': '종로', '경기': '분당', '인천': '부평', '충남': '논산'}\n"
          ]
        }
      ]
    },
    {
      "cell_type": "markdown",
      "metadata": {
        "id": "qLySqiF29To1"
      },
      "source": [
        "`clear()` 함수를 사용하면 세트 형태는 남고 모든 데이터가 삭제됩니다. 타입 또한 여전히 세트입니다."
      ]
    },
    {
      "cell_type": "code",
      "metadata": {
        "colab": {
          "base_uri": "https://localhost:8080/"
        },
        "id": "C7gIeXx29amE",
        "outputId": "1fd9d852-df61-4595-b1db-fcb2d591b1db"
      },
      "source": [
        "complicated_dict.clear()\n",
        "print(complicated_dict)\n",
        "type(complicated_dict)"
      ],
      "execution_count": null,
      "outputs": [
        {
          "output_type": "stream",
          "name": "stdout",
          "text": [
            "{}\n"
          ]
        },
        {
          "output_type": "execute_result",
          "data": {
            "text/plain": [
              "dict"
            ]
          },
          "metadata": {},
          "execution_count": 74
        }
      ]
    },
    {
      "cell_type": "markdown",
      "metadata": {
        "id": "Vu0XeaF9-ElY"
      },
      "source": [
        "# **10. 제어문**"
      ]
    },
    {
      "cell_type": "markdown",
      "metadata": {
        "id": "RkAxBuI6c8tr"
      },
      "source": [
        "제어문은 조건문과 반복문으로 나뉩니다. 말그대로 조건문은 조건에 따라 다른 명령을 수행하도록 작성한 코드이고, 반복문은 특정 명령을 반복하도록 작성한 코드입니다. 이 두 문형은 매우 밀접한 관계이므로 주로 혼합하여 구성합니다."
      ]
    },
    {
      "cell_type": "markdown",
      "metadata": {
        "id": "JfDIZTSn_CKJ"
      },
      "source": [
        "## **10.1. pass 활용하기**\n"
      ]
    },
    {
      "cell_type": "markdown",
      "metadata": {
        "id": "0RC2ei-Kc-ht"
      },
      "source": [
        "코딩하는 과정 중에 `pass`를 활용하면 큰 도움이 됩니다. 초기 단계에 전체적인 코드 틀을 형성하면서 `pass`를 활용하고, 세세하게 코딩하는 단계에서 `pass`를 제거해가며 코드 전체를 완성하는 것입니다. 기실 틀만 잡고 아무 코드가 없는 상태에서는 애러가 발생하기 마련입니다. 이를 `pass`가 방지하는 것입니다.\n",
        "\n",
        "아래는 설명에 대한 예시입니다.\n"
      ]
    },
    {
      "cell_type": "code",
      "metadata": {
        "id": "Fm3OqVXUDYYy"
      },
      "source": [
        "a = 100\n",
        "if a > 190:\n",
        "    pass\n",
        "elif 100 <= a < 190:\n",
        "    pass\n",
        "else:\n",
        "    pass"
      ],
      "execution_count": null,
      "outputs": []
    },
    {
      "cell_type": "markdown",
      "source": [
        "참고로 `raise`와 `NotImplementedError`를 함께 사용하여 `raise NotImplementedError`를 명시하면 미개발된 부분을 가리키는 오류를 출력할 수 있습니다."
      ],
      "metadata": {
        "id": "40ruMILDOQ7A"
      }
    },
    {
      "cell_type": "code",
      "source": [
        "num = input()\n",
        "num = int(num)\n",
        "\n",
        "if num > 5000:\n",
        "    raise NotImplementedError\n",
        "elif num > 10000:\n",
        "    raise NotImplementedError\n",
        "else:\n",
        "    raise NotImplementedError"
      ],
      "metadata": {
        "colab": {
          "base_uri": "https://localhost:8080/",
          "height": 252
        },
        "id": "JgMu9SKUSnjH",
        "outputId": "b1d1a01f-10a8-45ec-a3f2-d1e498e9cc19"
      },
      "execution_count": null,
      "outputs": [
        {
          "name": "stdout",
          "output_type": "stream",
          "text": [
            "15000\n"
          ]
        },
        {
          "output_type": "error",
          "ename": "NotImplementedError",
          "evalue": "ignored",
          "traceback": [
            "\u001b[0;31m---------------------------------------------------------------------------\u001b[0m",
            "\u001b[0;31mNotImplementedError\u001b[0m                       Traceback (most recent call last)",
            "\u001b[0;32m<ipython-input-2-fe1106958e69>\u001b[0m in \u001b[0;36m<module>\u001b[0;34m()\u001b[0m\n\u001b[1;32m      3\u001b[0m \u001b[0;34m\u001b[0m\u001b[0m\n\u001b[1;32m      4\u001b[0m \u001b[0;32mif\u001b[0m \u001b[0mnum\u001b[0m \u001b[0;34m>\u001b[0m \u001b[0;36m5000\u001b[0m\u001b[0;34m:\u001b[0m\u001b[0;34m\u001b[0m\u001b[0;34m\u001b[0m\u001b[0m\n\u001b[0;32m----> 5\u001b[0;31m     \u001b[0;32mraise\u001b[0m \u001b[0mNotImplementedError\u001b[0m\u001b[0;34m\u001b[0m\u001b[0;34m\u001b[0m\u001b[0m\n\u001b[0m\u001b[1;32m      6\u001b[0m \u001b[0;32melif\u001b[0m \u001b[0mnum\u001b[0m \u001b[0;34m>\u001b[0m \u001b[0;36m10000\u001b[0m\u001b[0;34m:\u001b[0m\u001b[0;34m\u001b[0m\u001b[0;34m\u001b[0m\u001b[0m\n\u001b[1;32m      7\u001b[0m     \u001b[0;32mraise\u001b[0m \u001b[0mNotImplementedError\u001b[0m\u001b[0;34m\u001b[0m\u001b[0;34m\u001b[0m\u001b[0m\n",
            "\u001b[0;31mNotImplementedError\u001b[0m: "
          ]
        }
      ]
    },
    {
      "cell_type": "markdown",
      "metadata": {
        "id": "9pLFYhfMEVed"
      },
      "source": [
        "## **10.2. range() 함수 적용하기**"
      ]
    },
    {
      "cell_type": "markdown",
      "metadata": {
        "id": "7cpO5B4SdAkk"
      },
      "source": [
        "`range()` 함수는 for문에서 자주 사용합니다. 형식은 `range(시작, 끝, 단계)`이며, 인덱싱처럼 끝은 `끝-1`입니다. 지정한 끝의 전까지만 범위를 지정합니다."
      ]
    },
    {
      "cell_type": "code",
      "metadata": {
        "colab": {
          "base_uri": "https://localhost:8080/"
        },
        "id": "YXXaJrD5itGE",
        "outputId": "92197cfe-dffe-49f0-ee17-234ef9dc6ddf"
      },
      "source": [
        "for i in range(0, 6, 2):\n",
        "    print(i)"
      ],
      "execution_count": null,
      "outputs": [
        {
          "output_type": "stream",
          "name": "stdout",
          "text": [
            "0\n",
            "2\n",
            "4\n"
          ]
        }
      ]
    },
    {
      "cell_type": "markdown",
      "metadata": {
        "id": "GRzZo427kO33"
      },
      "source": [
        "`range(시작, 끝, 단계)` 형식에서 시작과 단계를 생략하면 끝만 남습니다. 여기서 시작과 단계는 각각 0과 1로 간주합니다."
      ]
    },
    {
      "cell_type": "code",
      "metadata": {
        "colab": {
          "base_uri": "https://localhost:8080/"
        },
        "id": "BiuKWlpvkfIG",
        "outputId": "48679efe-08b6-4480-b245-1a848cea3572"
      },
      "source": [
        "for i in range(8):\n",
        "    print(i)"
      ],
      "execution_count": null,
      "outputs": [
        {
          "output_type": "stream",
          "name": "stdout",
          "text": [
            "0\n",
            "1\n",
            "2\n",
            "3\n",
            "4\n",
            "5\n",
            "6\n",
            "7\n"
          ]
        }
      ]
    },
    {
      "cell_type": "markdown",
      "metadata": {
        "id": "y-BcVsDvhphl"
      },
      "source": [
        "`range()` 함수로 결과를 출력하려면 `list()` 함수를 사용해야 합니다. 먼저 `list()` 함수를 사용하지 않고 출력하겠습니다."
      ]
    },
    {
      "cell_type": "code",
      "metadata": {
        "colab": {
          "base_uri": "https://localhost:8080/"
        },
        "id": "PG_7EnTKh4RV",
        "outputId": "ec62b87b-4db1-47b4-ba81-561b859799be"
      },
      "source": [
        "print(range(0, 6, 2))"
      ],
      "execution_count": null,
      "outputs": [
        {
          "output_type": "stream",
          "name": "stdout",
          "text": [
            "range(0, 6, 2)\n"
          ]
        }
      ]
    },
    {
      "cell_type": "markdown",
      "metadata": {
        "id": "_7eY1isZiZMC"
      },
      "source": [
        "`range(0, 6, 2)`로 출력됐습니다. 원소를 출력하려면 `list()` 함수로 묶어야 합니다."
      ]
    },
    {
      "cell_type": "code",
      "metadata": {
        "colab": {
          "base_uri": "https://localhost:8080/"
        },
        "id": "i-_9xzgrijI8",
        "outputId": "b10939ec-7726-4069-bd0f-e351f3ea84f0"
      },
      "source": [
        "list(range(0, 6, 2))"
      ],
      "execution_count": null,
      "outputs": [
        {
          "output_type": "execute_result",
          "data": {
            "text/plain": [
              "[0, 2, 4]"
            ]
          },
          "metadata": {},
          "execution_count": 79
        }
      ]
    },
    {
      "cell_type": "markdown",
      "source": [
        "역순으로 범위를 지정하려면 -1을 사용하거나 `reversed()` 함수를 사용합니다."
      ],
      "metadata": {
        "id": "_ur295zvLlKp"
      }
    },
    {
      "cell_type": "code",
      "source": [
        "print(list(range(5, -1, -1)))\n",
        "print(list(reversed(range(6))))"
      ],
      "metadata": {
        "colab": {
          "base_uri": "https://localhost:8080/"
        },
        "id": "Mo4tUz6ILzum",
        "outputId": "e20818a4-4dfe-4d04-82f3-907371d6c9e9"
      },
      "execution_count": null,
      "outputs": [
        {
          "output_type": "stream",
          "name": "stdout",
          "text": [
            "[5, 4, 3, 2, 1, 0]\n",
            "[5, 4, 3, 2, 1, 0]\n"
          ]
        }
      ]
    },
    {
      "cell_type": "markdown",
      "metadata": {
        "id": "NtcbuU_hk0sm"
      },
      "source": [
        "## **10.3. zip() 함수 적용하기**"
      ]
    },
    {
      "cell_type": "markdown",
      "metadata": {
        "id": "jRDhKNOSdDQV"
      },
      "source": [
        "`zip()` 함수는 여러 리스트의 값을 하나로 묶는 데에 사용할 수 있습니다.\n",
        "\n",
        "아래 코드로 설명합니다."
      ]
    },
    {
      "cell_type": "code",
      "metadata": {
        "colab": {
          "base_uri": "https://localhost:8080/"
        },
        "id": "wcsuyTlvnLus",
        "outputId": "96706fcb-8b98-4029-f924-fc3d595f6811"
      },
      "source": [
        "fruits = ['banana', 'apple', 'grape', 'strawberry']\n",
        "names = ['승원', '미니', '꼬맹', '철수']\n",
        "\n",
        "for fruits, names in zip(fruits, names):\n",
        "    print(fruits, names)"
      ],
      "execution_count": null,
      "outputs": [
        {
          "output_type": "stream",
          "name": "stdout",
          "text": [
            "banana 승원\n",
            "apple 미니\n",
            "grape 꼬맹\n",
            "strawberry 철수\n"
          ]
        }
      ]
    },
    {
      "cell_type": "markdown",
      "metadata": {
        "id": "9VQ-HjaypiEB"
      },
      "source": [
        "## **10.4. while문**"
      ]
    },
    {
      "cell_type": "markdown",
      "metadata": {
        "id": "CR1HaIJadFQe"
      },
      "source": [
        "for문이 단순하게 반복만 수행하는 형태라면, while문은 조건에 따라 반복하고 멈추는 형태입니다.\n",
        "\n",
        "아래는 while문에 대한 예시입니다."
      ]
    },
    {
      "cell_type": "code",
      "metadata": {
        "colab": {
          "base_uri": "https://localhost:8080/"
        },
        "id": "nXknbfyqp-HX",
        "outputId": "a398322e-ae9d-48bd-ebc5-82f8b29eb403"
      },
      "source": [
        "i = 0\n",
        "# 예를 들고자 변수명을 `sum`으로 지정했을 뿐입니다.\n",
        "# 실제로 sum은 함수 `sum()`이 존재하므로 올바르지 않은 변수명입니다.\n",
        "sum = 0\n",
        "\n",
        "while sum < 10:\n",
        "    i = i + 1\n",
        "    sum = sum + i\n",
        "    print(i, sum)\n",
        "\n",
        "# 바르지 않게 지정한 변수명을 가진 변수를 삭제하겠습니다.\n",
        "del sum"
      ],
      "execution_count": null,
      "outputs": [
        {
          "output_type": "stream",
          "name": "stdout",
          "text": [
            "1 1\n",
            "2 3\n",
            "3 6\n",
            "4 10\n"
          ]
        }
      ]
    },
    {
      "cell_type": "markdown",
      "metadata": {
        "id": "HTyZFsvkqmG-"
      },
      "source": [
        "무한으로 반복하게 하려면 조건을 항상 참인 `True`로 지정합니다."
      ]
    },
    {
      "cell_type": "code",
      "metadata": {
        "id": "Tg6cRW_BqtN0"
      },
      "source": [
        "# 주석으로 처리합니다.\n",
        "# while True:\n",
        "#     print('infinite')"
      ],
      "execution_count": null,
      "outputs": []
    },
    {
      "cell_type": "markdown",
      "source": [
        "특정된 모든 값을 제거하려면 while문과 리스트의 `remove()` 함수를 함께 사용합니다."
      ],
      "metadata": {
        "id": "DjAHSm5fOOqw"
      }
    },
    {
      "cell_type": "code",
      "source": [
        "num_list = [1, 2, 3, 1, 2, 3, 1, 2, 3]\n",
        "num = 3\n",
        "\n",
        "while num in num_list:\n",
        "    num_list.remove(num)\n",
        "\n",
        "print(num_list)"
      ],
      "metadata": {
        "colab": {
          "base_uri": "https://localhost:8080/"
        },
        "id": "zsCFPu58alrE",
        "outputId": "e8fb58f8-8a9f-4935-b9fe-d6dc4e6ec69d"
      },
      "execution_count": null,
      "outputs": [
        {
          "output_type": "stream",
          "name": "stdout",
          "text": [
            "[1, 2, 1, 2, 1, 2]\n"
          ]
        }
      ]
    },
    {
      "cell_type": "markdown",
      "source": [
        "특정 시간동안 컴퓨터가 반복하는 작업 횟수를 출력하겠습니다. while문과 **유닉스 타임(unix time)**을 활용합니다. 유닉스 타임이란 1970년 1월 1일 0시 0분 0초를 기준으로 현재까지 몇 초만큼 흘렀는지 정수로 표현한 것입니다. `time` 모듈의 `time` 메서드를 사용하면 현재까지 몇 초만큼 흘렀는지 출력할 수 있습니다."
      ],
      "metadata": {
        "id": "cRgsSz0mpmKj"
      }
    },
    {
      "cell_type": "code",
      "source": [
        "help(time.time)"
      ],
      "metadata": {
        "colab": {
          "base_uri": "https://localhost:8080/"
        },
        "id": "KwckJwfaqZwJ",
        "outputId": "41f94865-1ac4-4606-8ae1-fa98f1b5f5f7"
      },
      "execution_count": null,
      "outputs": [
        {
          "output_type": "stream",
          "name": "stdout",
          "text": [
            "Help on built-in function time in module time:\n",
            "\n",
            "time(...)\n",
            "    time() -> floating point number\n",
            "    \n",
            "    Return the current time in seconds since the Epoch.\n",
            "    Fractions of a second may be present if the system clock provides them.\n",
            "\n"
          ]
        }
      ]
    },
    {
      "cell_type": "code",
      "source": [
        "time.time()"
      ],
      "metadata": {
        "colab": {
          "base_uri": "https://localhost:8080/"
        },
        "id": "TpXBdRsxrY28",
        "outputId": "cf8aeb81-e02f-4705-cfd8-30fb9d9877b4"
      },
      "execution_count": null,
      "outputs": [
        {
          "output_type": "execute_result",
          "data": {
            "text/plain": [
              "1640672133.9952896"
            ]
          },
          "metadata": {},
          "execution_count": 21
        }
      ]
    },
    {
      "cell_type": "code",
      "source": [
        "# `time` 모듈을 호출합니다.\n",
        "import time\n",
        "\n",
        "# 반복 횟수는 0부터 시작합니다.\n",
        "number = 0\n",
        "# 현재 유닉스 타임에 3초를 더합니다. \n",
        "time_3 = time.time() + 3\n",
        "\n",
        "# 3초를 더한 유닉스 타임보다 작으면 `number`에 반복횟수 1을 더합니다.\n",
        "while time.time() < time_3:\n",
        "    number += 1\n",
        "\n",
        "print(f'3초간 {number}회 반복합니다.')"
      ],
      "metadata": {
        "colab": {
          "base_uri": "https://localhost:8080/"
        },
        "id": "4h2KdyejoYjZ",
        "outputId": "b0d2e31f-ef88-4c4a-ef1d-d3678a112235"
      },
      "execution_count": null,
      "outputs": [
        {
          "output_type": "stream",
          "name": "stdout",
          "text": [
            "3초간 13809945회 반복합니다.\n"
          ]
        }
      ]
    },
    {
      "cell_type": "markdown",
      "source": [
        "컴퓨터의 처리 속도에 따라 반복하는 횟수가 다르게 출력됩니다."
      ],
      "metadata": {
        "id": "eC56uVMdJVX_"
      }
    },
    {
      "cell_type": "markdown",
      "metadata": {
        "id": "W42FK0x3rAJq"
      },
      "source": [
        "## **10.5. continue와 break으로 제어하기**"
      ]
    },
    {
      "cell_type": "markdown",
      "metadata": {
        "id": "dogK5-LMdH7f"
      },
      "source": [
        "`continue`는 처음으로 돌아가서 반복을 수행하고, `break`은 반복문을 빠져나옵니다.\n",
        "\n",
        "먼저 `continue`에 대한 예시입니다."
      ]
    },
    {
      "cell_type": "code",
      "metadata": {
        "colab": {
          "base_uri": "https://localhost:8080/"
        },
        "id": "LdF4zjCdrivB",
        "outputId": "a5ea3ddc-2bef-4cb9-eeec-29fd3054f5c8"
      },
      "source": [
        "for i in range(6):\n",
        "    if i == 3:\n",
        "        continue\n",
        "    print(i)"
      ],
      "execution_count": null,
      "outputs": [
        {
          "output_type": "stream",
          "name": "stdout",
          "text": [
            "0\n",
            "1\n",
            "2\n",
            "4\n",
            "5\n"
          ]
        }
      ]
    },
    {
      "cell_type": "markdown",
      "metadata": {
        "id": "WyGlKbQYr4Jr"
      },
      "source": [
        "`i == 3`이면 처음으로 돌아가서 다시 반복을 수행합니다. 따라서 3만 빼놓고 출력했습니다.\n",
        "\n",
        "다른 예제입니다."
      ]
    },
    {
      "cell_type": "code",
      "source": [
        "numbers = [1, 4, 7, 2, 10, 19, 21, 94]\n",
        "\n",
        "for number in numbers:\n",
        "    if number > 20:\n",
        "        continue\n",
        "    print(number)"
      ],
      "metadata": {
        "colab": {
          "base_uri": "https://localhost:8080/"
        },
        "id": "DpKRt_viWp8c",
        "outputId": "a8a3068e-a0ce-4d1d-858f-439b41063a65"
      },
      "execution_count": null,
      "outputs": [
        {
          "output_type": "stream",
          "name": "stdout",
          "text": [
            "1\n",
            "4\n",
            "7\n",
            "2\n",
            "10\n",
            "19\n"
          ]
        }
      ]
    },
    {
      "cell_type": "markdown",
      "source": [
        "20보다 큰 수를 제외하고 모두 출력됐습니다.\n",
        "\n",
        "다음은 `break`에 대한 예시입니다."
      ],
      "metadata": {
        "id": "Y2-dJyKAWju2"
      }
    },
    {
      "cell_type": "code",
      "metadata": {
        "colab": {
          "base_uri": "https://localhost:8080/"
        },
        "id": "Q3msWh6PsDhW",
        "outputId": "14061f03-3125-49a2-d170-1795a103d0f7"
      },
      "source": [
        "for i in range(6):\n",
        "    if i > 4:\n",
        "        break\n",
        "    print(i)"
      ],
      "execution_count": null,
      "outputs": [
        {
          "output_type": "stream",
          "name": "stdout",
          "text": [
            "0\n",
            "1\n",
            "2\n",
            "3\n",
            "4\n"
          ]
        }
      ]
    },
    {
      "cell_type": "markdown",
      "source": [
        "`i > 4`이므로 4까지만 출력하고 빠져나왔습니다.\n",
        "\n",
        "`break`을 사용하여 무한으로 반복하는 while문을 만들겠습니다. "
      ],
      "metadata": {
        "id": "IBk0h-6ALQ3v"
      }
    },
    {
      "cell_type": "code",
      "source": [
        "i = 0\n",
        "\n",
        "while True:\n",
        "    print(f'반복 횟수는 {i}번입니다.')\n",
        "    i = i + 1\n",
        "    y_or_n = input('계속하시겠습니까? (y/n): ')\n",
        "    if y_or_n in ['N', 'n']:\n",
        "        print('종료합니다.')\n",
        "        break"
      ],
      "metadata": {
        "colab": {
          "base_uri": "https://localhost:8080/"
        },
        "id": "DmelkxuZKQzv",
        "outputId": "47023896-433c-4bcb-9abc-eaa515091dbb"
      },
      "execution_count": null,
      "outputs": [
        {
          "output_type": "stream",
          "name": "stdout",
          "text": [
            "반복 횟수는 0번입니다.\n",
            "계속하시겠습니까? (y/n): y\n",
            "반복 횟수는 1번입니다.\n",
            "계속하시겠습니까? (y/n): y\n",
            "반복 횟수는 2번입니다.\n",
            "계속하시겠습니까? (y/n): y\n",
            "반복 횟수는 3번입니다.\n",
            "계속하시겠습니까? (y/n): n\n",
            "종료합니다.\n"
          ]
        }
      ]
    },
    {
      "cell_type": "markdown",
      "metadata": {
        "id": "9MBjzIkksOaU"
      },
      "source": [
        "`continue`와 `break`을 모두 사용하겠습니다."
      ]
    },
    {
      "cell_type": "code",
      "metadata": {
        "colab": {
          "base_uri": "https://localhost:8080/"
        },
        "id": "_BrCfAJ-sgWk",
        "outputId": "a9b8fbbc-af81-4e71-c576-4ba4fc2cbaef"
      },
      "source": [
        "i = 0\n",
        "\n",
        "while True:\n",
        "    i = i + 1\n",
        "    if i == 3:\n",
        "        print(\"it's 3.\")\n",
        "        continue\n",
        "    if i > 6:\n",
        "        break\n",
        "    print(i)"
      ],
      "execution_count": null,
      "outputs": [
        {
          "output_type": "stream",
          "name": "stdout",
          "text": [
            "1\n",
            "2\n",
            "it's 3.\n",
            "4\n",
            "5\n",
            "6\n"
          ]
        }
      ]
    },
    {
      "cell_type": "markdown",
      "metadata": {
        "id": "zMJMBcNZXHd7"
      },
      "source": [
        "## **10.6. 리스트 내포**"
      ]
    },
    {
      "cell_type": "markdown",
      "metadata": {
        "id": "WOqPXV94dNED"
      },
      "source": [
        "**리스트 내포(list comprehension)**은 리스트 안에 코드가 들어있는 것을 의미합니다(comprehension의 사전적 의미는 이해, '포함'입니다). 리스트 안에 반복문이 들어있으면 반복문을 한 줄로 작성할 수 있습니다.\n",
        "\n",
        "형식은 아래와 같습니다.\n",
        "\n",
        "```\n",
        "[반복 실행문 for 반복 변수 in 반복할 수 있는 것]\n",
        "```\n",
        "\n",
        "리스트 내포의 예시를 들겠습니다."
      ]
    },
    {
      "cell_type": "code",
      "metadata": {
        "colab": {
          "base_uri": "https://localhost:8080/"
        },
        "id": "q3nbsKlrYGtf",
        "outputId": "6c7ae9a9-9f6e-4286-bffa-ea0c80059e7d"
      },
      "source": [
        "num = [1, 2, 3, 4, 5]\n",
        "list_comprehension1 = [i * 3 for i in num]\n",
        "\n",
        "print(list_comprehension1)"
      ],
      "execution_count": null,
      "outputs": [
        {
          "output_type": "stream",
          "name": "stdout",
          "text": [
            "[3, 6, 9, 12, 15]\n"
          ]
        }
      ]
    },
    {
      "cell_type": "markdown",
      "metadata": {
        "id": "zD2Hf53iY9ZL"
      },
      "source": [
        "반복문에 조건을 부여할 수도 있습니다.\n",
        "\n",
        "형식은 아래와 같습니다.\n",
        "\n",
        "```\n",
        "[반복 실행문 for 반복 변수 in 반복할 수 있는 것 if 조건]\n",
        "```\n",
        "\n",
        "형식에 대한 예시를 듭니다."
      ]
    },
    {
      "cell_type": "code",
      "metadata": {
        "colab": {
          "base_uri": "https://localhost:8080/"
        },
        "id": "uQZowpztZBrG",
        "outputId": "ccd7719a-a56f-4913-c9bf-8d20896404cd"
      },
      "source": [
        "list_comprehension2 = [i * 3 for i in num if i > 2]\n",
        "\n",
        "print(list_comprehension2)"
      ],
      "execution_count": null,
      "outputs": [
        {
          "output_type": "stream",
          "name": "stdout",
          "text": [
            "[9, 12, 15]\n"
          ]
        }
      ]
    },
    {
      "cell_type": "markdown",
      "source": [
        "참고로 위 형식에서 '반복할 수 있는 것'을 **이터러블(iterable)**이라고 하며, 원소를 하나씩 꺼낼 수 있는 객체를 의미합니다. 리스트, 딕셔너리, 문자열 튜플, 함수를 적용한 객체(예컨대 `reversed()`, `enumerate()`) 등은 이터러블입니다.\n",
        "\n",
        "더불어 `next()` 함수로 요소를 하나씩 꺼낼 수 있는 것을 **이터레이터(iterator)**라고 합니다. for문으로 반복할 때마다 `next()` 함수를 지속적으로 사용하면서 이터레이터를 꺼내는 것입니다."
      ],
      "metadata": {
        "id": "0WwvOMDHgYZD"
      }
    },
    {
      "cell_type": "code",
      "source": [
        "nums = [1, 2, 3, 4, 5]\n",
        "reversed_nums = reversed(nums)\n",
        "enumerate_nums = enumerate(nums)\n",
        "\n",
        "print(reversed_nums)\n",
        "print(next(reversed_nums))\n",
        "print(next(reversed_nums))\n",
        "print(next(reversed_nums))\n",
        "print(next(reversed_nums))\n",
        "print(next(reversed_nums))\n",
        "\n",
        "print()\n",
        "\n",
        "print(enumerate_nums)\n",
        "print(next(enumerate_nums))\n",
        "print(next(enumerate_nums))\n",
        "print(next(enumerate_nums))\n",
        "print(next(enumerate_nums))\n",
        "print(next(enumerate_nums))"
      ],
      "metadata": {
        "colab": {
          "base_uri": "https://localhost:8080/"
        },
        "id": "oFB4BBVNgkV2",
        "outputId": "dba95357-a6f7-4478-916d-37e581686db0"
      },
      "execution_count": null,
      "outputs": [
        {
          "output_type": "stream",
          "name": "stdout",
          "text": [
            "<list_reverseiterator object at 0x7fb5728f3410>\n",
            "5\n",
            "4\n",
            "3\n",
            "2\n",
            "1\n",
            "\n",
            "<enumerate object at 0x7fb56e5e34b0>\n",
            "(0, 1)\n",
            "(1, 2)\n",
            "(2, 3)\n",
            "(3, 4)\n",
            "(4, 5)\n"
          ]
        }
      ]
    },
    {
      "cell_type": "markdown",
      "metadata": {
        "id": "DNSygqbxagk-"
      },
      "source": [
        "# **11. 입출력**"
      ]
    },
    {
      "cell_type": "markdown",
      "metadata": {
        "id": "kZtE8k3ea6Uj"
      },
      "source": [
        "## **11.1. 출력**"
      ]
    },
    {
      "cell_type": "markdown",
      "metadata": {
        "id": "14R4Zq1_deTa"
      },
      "source": [
        "예시하면서 설명합니다.\n",
        "\n",
        "콤마로 구분하면 원소가 한 칸씩 띈 상태로 출력됩니다.\n",
        "\n",
        "매개변수 `sep`에 문자열을 지정하면 빈칸 대신 다른 형태를 넣을 수 있습니다.\n",
        "\n",
        "빈칸을 붙이려면 더하기 연산자를 사용합니다.\n",
        "\n",
        "콤마와 더하기는 함께 사용할 수 있습니다."
      ]
    },
    {
      "cell_type": "code",
      "metadata": {
        "colab": {
          "base_uri": "https://localhost:8080/"
        },
        "id": "WpL3FW1tdUJ_",
        "outputId": "70c44c61-354a-4201-e968-2a1685875f38"
      },
      "source": [
        "print('콤마 사용:', 'ab', 'cd', 'ef', 'gh')\n",
        "print('sep 사용: ', 'ab', 'cd', 'ef', 'gh', sep='^')\n",
        "print('더하기 사용:', 'ab'+'cd'+'ef'+'gh')\n",
        "print('혼합 사용', 'ab' + 'cd', 'ef' + 'gh')"
      ],
      "execution_count": null,
      "outputs": [
        {
          "output_type": "stream",
          "name": "stdout",
          "text": [
            "콤마 사용: ab cd ef gh\n",
            "sep 사용: ^ab^cd^ef^gh\n",
            "더하기 사용: abcdefgh\n",
            "혼합 사용 abcd efgh\n"
          ]
        }
      ]
    },
    {
      "cell_type": "markdown",
      "metadata": {
        "id": "QZygXkkbfu4R"
      },
      "source": [
        "`end` 매개변수는 두 줄로 출력된 결과를 한 줄로 출력하게 합니다."
      ]
    },
    {
      "cell_type": "code",
      "metadata": {
        "colab": {
          "base_uri": "https://localhost:8080/"
        },
        "id": "hmNp19vgf802",
        "outputId": "02646309-af06-4b83-e3d0-e768b0aeb712"
      },
      "source": [
        "print('This is')\n",
        "print('Sparta')\n",
        "print()\n",
        "print('This is', end=' just ')\n",
        "print('Sparta')"
      ],
      "execution_count": null,
      "outputs": [
        {
          "output_type": "stream",
          "name": "stdout",
          "text": [
            "This is\n",
            "Sparta\n",
            "\n",
            "This is just Sparta\n"
          ]
        }
      ]
    },
    {
      "cell_type": "markdown",
      "metadata": {
        "id": "_Th_nuLdhBa1"
      },
      "source": [
        "`%` 연산자를 이용한 각종 출력 방식을 설명합니다.\n",
        "\n",
        "예시를 들면서 설명하겠습니다."
      ]
    },
    {
      "cell_type": "code",
      "metadata": {
        "colab": {
          "base_uri": "https://localhost:8080/"
        },
        "id": "fGpWZZwshgNU",
        "outputId": "380a6274-b047-4465-b9e8-d89f6bb1a484"
      },
      "source": [
        "dog = '개'\n",
        "print('지나가는 %s가 웃어!' %dog)"
      ],
      "execution_count": null,
      "outputs": [
        {
          "output_type": "stream",
          "name": "stdout",
          "text": [
            "지나가는 개가 웃어!\n"
          ]
        }
      ]
    },
    {
      "cell_type": "markdown",
      "metadata": {
        "id": "rYBh4J9oh8jS"
      },
      "source": [
        "데이터가 문자 타입이라면 `%s`, 실수 타입이라면 `%f`, 정수 타입이라면 `%d`로 지정합니다. 위 코드는 문자 타입이므로 `%s`입니다."
      ]
    },
    {
      "cell_type": "markdown",
      "metadata": {
        "id": "FzkALtYQiVuK"
      },
      "source": [
        "데이터가 다수여도 적용할 수 있습니다. \n",
        "\n",
        "이에 대한 예시입니다."
      ]
    },
    {
      "cell_type": "code",
      "metadata": {
        "colab": {
          "base_uri": "https://localhost:8080/"
        },
        "id": "fG12C0C9ie44",
        "outputId": "c983abb4-e55f-4963-aac0-3bfe307f4fc9"
      },
      "source": [
        "dogs = '몰티즈', '푸들', 2\n",
        "print('지나가는 %s랑 %s %d마리가 웃어!' %dogs)\n",
        "print('지나가는 %s랑 %s %s마리가 웃어!' %dogs)\n",
        "print('지나가는 %s랑 %s %f마리가 웃어!' %dogs)"
      ],
      "execution_count": null,
      "outputs": [
        {
          "output_type": "stream",
          "name": "stdout",
          "text": [
            "지나가는 몰티즈랑 푸들 2마리가 웃어!\n",
            "지나가는 몰티즈랑 푸들 2마리가 웃어!\n",
            "지나가는 몰티즈랑 푸들 2.000000마리가 웃어!\n"
          ]
        }
      ]
    },
    {
      "cell_type": "markdown",
      "metadata": {
        "id": "zlXVitv-l3ux"
      },
      "source": [
        "`format()` 메서드를 이용해서 문자열을 출력할 수도 있습니다.\n",
        "\n",
        "예시로 설명하겠습니다."
      ]
    },
    {
      "cell_type": "code",
      "metadata": {
        "colab": {
          "base_uri": "https://localhost:8080/"
        },
        "id": "cv3jB8DtZKVG",
        "outputId": "e9338575-e0dc-4cc2-b59c-0a82feee0cf2"
      },
      "source": [
        "my_country = 'korea'\n",
        "your_country = 'USA'\n",
        "print(\"I'm in {0}, You're in {1}.\".format(my_country, your_country))"
      ],
      "execution_count": null,
      "outputs": [
        {
          "output_type": "stream",
          "name": "stdout",
          "text": [
            "I'm in korea, You're in USA.\n"
          ]
        }
      ]
    },
    {
      "cell_type": "markdown",
      "metadata": {
        "id": "WO1T3J8ua0ry"
      },
      "source": [
        "여러 문자열을 한꺼번에 출력할 수도 있고, 하나만 선택해서 출력할 수도 있습니다."
      ]
    },
    {
      "cell_type": "code",
      "metadata": {
        "colab": {
          "base_uri": "https://localhost:8080/"
        },
        "id": "lewIc9FPayKb",
        "outputId": "034f48c0-2390-4dd6-b000-40d1b88eb633"
      },
      "source": [
        "colors = ['red', 'blue', 'yellow', 'skyblue']\n",
        "print('I have {0}.'.format(colors))\n",
        "print('My favorite color is {0}.'.format(colors[0]))\n",
        "print('Your favorite color is {0}.'.format(colors[3]))"
      ],
      "execution_count": null,
      "outputs": [
        {
          "output_type": "stream",
          "name": "stdout",
          "text": [
            "I have ['red', 'blue', 'yellow', 'skyblue'].\n",
            "My favorite color is red.\n",
            "Your favorite color is skyblue.\n"
          ]
        }
      ]
    },
    {
      "cell_type": "markdown",
      "metadata": {
        "id": "H3_XSeg-bWP2"
      },
      "source": [
        "출력할 객체의 데이터를 지정할 수도 있습니다."
      ]
    },
    {
      "cell_type": "code",
      "metadata": {
        "colab": {
          "base_uri": "https://localhost:8080/"
        },
        "id": "vZAFNFkzbZg_",
        "outputId": "2ddf8c56-26b7-403d-8a81-0537df703358"
      },
      "source": [
        "my_country = 'korea'\n",
        "your_country = 'USA'\n",
        "colors = ['red', 'blue', 'yellow', 'skyblue']\n",
        "print(\"I'm in {0}. My favorite colors are {2}, {3}.\".\n",
        "      format(my_country, your_country, colors[0], colors[1]))"
      ],
      "execution_count": null,
      "outputs": [
        {
          "output_type": "stream",
          "name": "stdout",
          "text": [
            "I'm in korea. My favorite colors are red, blue.\n"
          ]
        }
      ]
    },
    {
      "cell_type": "markdown",
      "metadata": {
        "id": "nn_UFaCNcPqk"
      },
      "source": [
        "`{숫자}` 형태가 아닌 `{}` 형태로도 지정할 수 있습니다. 순차적으로 데이터를 출력합니다."
      ]
    },
    {
      "cell_type": "code",
      "metadata": {
        "colab": {
          "base_uri": "https://localhost:8080/"
        },
        "id": "gioP4wKIcYjK",
        "outputId": "1f65065b-fd99-4ed1-9fb5-9a1afdf8755d"
      },
      "source": [
        "print(\"I'm in {}, You're in {}.\".format(my_country, your_country))"
      ],
      "execution_count": null,
      "outputs": [
        {
          "output_type": "stream",
          "name": "stdout",
          "text": [
            "I'm in korea, You're in USA.\n"
          ]
        }
      ]
    },
    {
      "cell_type": "markdown",
      "metadata": {
        "id": "4a7tXTGScqRP"
      },
      "source": [
        "문자열뿐만 아니라 숫자인 데이터도 출력할 수 있습니다. 설명은 생략합니다.\n",
        "\n",
        "다만 숫자를 출력할 때는 형식을 지정할 수 있습니다.\n",
        "\n",
        "아래는 먼저 정수에 대한 예시입니다.\n",
        "\n",
        "`{N:nd}` 형식으로 정수를 출력합니다. `N`은 데이터의 위치, `n`은 공백칸의 개수입니다. 공백칸수에 해당하는 숫자가 클수록 공백이 커집니다."
      ]
    },
    {
      "cell_type": "code",
      "metadata": {
        "colab": {
          "base_uri": "https://localhost:8080/"
        },
        "id": "bPwwMc8OeMcT",
        "outputId": "0e630e5d-aaf1-4d01-ddb9-3884157d21a5"
      },
      "source": [
        "num_d = 6\n",
        "print('공백칸 수를 지정해볼까? {0:1d}'.format(num_d))\n",
        "print('공백칸 수를 지정해볼까? {0:2d}'.format(num_d))\n",
        "print('공백칸 수를 지정해볼까? {0:7d}'.format(num_d))"
      ],
      "execution_count": null,
      "outputs": [
        {
          "output_type": "stream",
          "name": "stdout",
          "text": [
            "공백칸 수를 지정해볼까? 6\n",
            "공백칸 수를 지정해볼까?  6\n",
            "공백칸 수를 지정해볼까?       6\n"
          ]
        }
      ]
    },
    {
      "cell_type": "markdown",
      "metadata": {
        "id": "9-M_QzGde3n2"
      },
      "source": [
        "공백 대신 숫자 0을 채우는 방법도 있습니다. `{N:0nd}` 형식을 취합니다. 숫자 `n`을 지정하여 공백 대신 0의 개수를 채웁니다."
      ]
    },
    {
      "cell_type": "code",
      "metadata": {
        "colab": {
          "base_uri": "https://localhost:8080/"
        },
        "id": "m-f9tvwjfgQo",
        "outputId": "14cc0221-a8ff-4188-e690-90ddf245bc44"
      },
      "source": [
        "print('0으로 공백을 채워..{0:04d}'.format(num_d))\n",
        "print('0으로 공백을 채워..{0:09d}'.format(num_d))"
      ],
      "execution_count": null,
      "outputs": [
        {
          "output_type": "stream",
          "name": "stdout",
          "text": [
            "0으로 공백을 채워..0006\n",
            "0으로 공백을 채워..000000006\n"
          ]
        }
      ]
    },
    {
      "cell_type": "markdown",
      "metadata": {
        "id": "og1kW_umfhNx"
      },
      "source": [
        "`{N:>nd}`와 `{N:<nd}`는 각각 오른쪽 정렬과 왼쪽 정렬입니다. `n`은 공백칸의 개수입니다."
      ]
    },
    {
      "cell_type": "code",
      "metadata": {
        "colab": {
          "base_uri": "https://localhost:8080/"
        },
        "id": "TcIB8vpOgJm9",
        "outputId": "eb412126-63c6-4bfe-b4fb-c0c2777d81c3"
      },
      "source": [
        "print('숫자를 정렬할 거야.{0:>5d}..완료!'.format(num_d))\n",
        "print('숫자를 정렬할 거야.{0:<5d}..완료!'.format(num_d))"
      ],
      "execution_count": null,
      "outputs": [
        {
          "output_type": "stream",
          "name": "stdout",
          "text": [
            "숫자를 정렬할 거야.    6..완료!\n",
            "숫자를 정렬할 거야.6    ..완료!\n"
          ]
        }
      ]
    },
    {
      "cell_type": "markdown",
      "metadata": {
        "id": "FSuahtKviNnx"
      },
      "source": [
        "숫자를 진수 형태로도 출력할 수 있습니다.\n",
        "\n",
        "아래에서 예시하겠습니다."
      ]
    },
    {
      "cell_type": "code",
      "metadata": {
        "colab": {
          "base_uri": "https://localhost:8080/"
        },
        "id": "h9hj-zWoiapA",
        "outputId": "9c087c7d-be07-4e3d-8fb2-4e423d403664"
      },
      "source": [
        "two = 2\n",
        "eight = 8\n",
        "sixteen = 16\n",
        "print('2의 진수는 {:#x}'.format(two))\n",
        "print('2의 진수는 (#을 생략하면) {:x}'.format(two))\n",
        "print('8의 진수는 {:#o}'.format(eight))\n",
        "print('8의 진수는 (#을 생략하면) {:o}'.format(eight))\n",
        "print('16의 진수는 {:#b}'.format(sixteen))\n",
        "print('16의 진수는 (#을 생략하면) {:b}'.format(sixteen))"
      ],
      "execution_count": null,
      "outputs": [
        {
          "output_type": "stream",
          "name": "stdout",
          "text": [
            "2의 진수는 0x2\n",
            "2의 진수는 (#을 생략하면) 2\n",
            "8의 진수는 0o10\n",
            "8의 진수는 (#을 생략하면) 10\n",
            "16의 진수는 0b10000\n",
            "16의 진수는 (#을 생략하면) 10000\n"
          ]
        }
      ]
    },
    {
      "cell_type": "markdown",
      "metadata": {
        "id": "gEsO7XxtjUSN"
      },
      "source": [
        "예시 그대로입니다.\n",
        "\n",
        "아래는 실수에 대한 예시입니다.\n",
        "\n",
        "`{N:.nf}` 형식입니다. `n`에 소수점 자리 수를 지정할 수 있습니다. "
      ]
    },
    {
      "cell_type": "code",
      "metadata": {
        "colab": {
          "base_uri": "https://localhost:8080/"
        },
        "id": "UazBNO7ljpL4",
        "outputId": "61bda04a-fda6-480e-d0d5-627bf4d00c46"
      },
      "source": [
        "num_f = 123.4567\n",
        "print('소수점 몇 째 자리까지 출력할까? {:.2f}'.format(num_f))\n",
        "print('소수점 몇 째 자리까지 출력할까? {:.3f}'.format(num_f))\n",
        "print('소수점 몇 째 자리까지 출력할까? {:.4f}'.format(num_f))"
      ],
      "execution_count": null,
      "outputs": [
        {
          "output_type": "stream",
          "name": "stdout",
          "text": [
            "소수점 몇 째 자리까지 출력할까? 123.46\n",
            "소수점 몇 째 자리까지 출력할까? 123.457\n",
            "소수점 몇 째 자리까지 출력할까? 123.4567\n"
          ]
        }
      ]
    },
    {
      "cell_type": "markdown",
      "metadata": {
        "id": "APgoRBztkzxW"
      },
      "source": [
        "아래는 각종 숫자 출력 방식입니다.\n",
        "\n",
        "먼저 `{N:.n%}` 형식으로 소수점을 지정하고 퍼센트를 붙일 수 있습니다."
      ]
    },
    {
      "cell_type": "code",
      "metadata": {
        "colab": {
          "base_uri": "https://localhost:8080/"
        },
        "id": "ozCIOeeIlJ2v",
        "outputId": "4fa4cfeb-1c21-4193-d2fb-44dfdfb5b464"
      },
      "source": [
        "print('퍼센트를 붙이자. {:.0%}'.format(num_f))\n",
        "print('퍼센트를 붙이자. {:.1%}'.format(num_f))\n",
        "print('퍼센트를 붙이자. {:.2%}'.format(num_f))\n",
        "print('퍼센트를 붙이자. {:.4%}'.format(num_f))"
      ],
      "execution_count": null,
      "outputs": [
        {
          "output_type": "stream",
          "name": "stdout",
          "text": [
            "퍼센트를 붙이자. 12346%\n",
            "퍼센트를 붙이자. 12345.7%\n",
            "퍼센트를 붙이자. 12345.67%\n",
            "퍼센트를 붙이자. 12345.6700%\n"
          ]
        }
      ]
    },
    {
      "cell_type": "markdown",
      "metadata": {
        "id": "HEbaweW7lmWl"
      },
      "source": [
        "`,`를 3칸마다 붙일 수 있습니다. `{N:,}` 형식입니다."
      ]
    },
    {
      "cell_type": "code",
      "metadata": {
        "colab": {
          "base_uri": "https://localhost:8080/"
        },
        "id": "0J5SQiZlm8zX",
        "outputId": "93a8096c-95f3-4772-dcbe-41cc0daba15a"
      },
      "source": [
        "num_money = 97000000\n",
        "print('금액에 붙이는 쉼표를 달자. {:,}$'.format(num_money))"
      ],
      "execution_count": null,
      "outputs": [
        {
          "output_type": "stream",
          "name": "stdout",
          "text": [
            "금액에 붙이는 쉼표를 달자. 97,000,000$\n"
          ]
        }
      ]
    },
    {
      "cell_type": "markdown",
      "metadata": {
        "id": "R8PI0wdDn4A1"
      },
      "source": [
        "지수로 표현할 수 있습니다. 형식은 `{:.ne}`이고, 소수점 자리 수는 `n`에 지정합니다. "
      ]
    },
    {
      "cell_type": "code",
      "metadata": {
        "colab": {
          "base_uri": "https://localhost:8080/"
        },
        "id": "u12MA-6NoULR",
        "outputId": "15afd7fc-072c-45f8-8b82-a0e8481508f9"
      },
      "source": [
        "num_e = 8530000000\n",
        "print('지수로 표현하면? {:.1e}'.format(num_e))\n",
        "print('지수로 표현하면? {:.2e}'.format(num_e))\n",
        "print('지수로 표현하면? {:.4e}'.format(num_e))"
      ],
      "execution_count": null,
      "outputs": [
        {
          "output_type": "stream",
          "name": "stdout",
          "text": [
            "지수로 표현하면? 8.5e+09\n",
            "지수로 표현하면? 8.53e+09\n",
            "지수로 표현하면? 8.5300e+09\n"
          ]
        }
      ]
    },
    {
      "cell_type": "markdown",
      "metadata": {
        "id": "-ysE-URmgpXG"
      },
      "source": [
        "## **11.2. 입력**"
      ]
    },
    {
      "cell_type": "markdown",
      "metadata": {
        "id": "UZyokR9Mrbpu"
      },
      "source": [
        "직접 데이터를 입력하는 함수는 `input()`입니다. `객체명 = input(데이터)` 형식으로 쓰입니다. 숫자나 문자열 모두 입력할 수 있습니다."
      ]
    },
    {
      "cell_type": "code",
      "metadata": {
        "colab": {
          "base_uri": "https://localhost:8080/"
        },
        "id": "aQ4cG0CnrohZ",
        "outputId": "eedb2bb0-8e98-43d0-fcf4-ac65910d4488"
      },
      "source": [
        "input_data = input('무엇을 주문하시겠어요? ')\n",
        "print('주문하신 메뉴는 {}입니다.'.format(input_data))"
      ],
      "execution_count": null,
      "outputs": [
        {
          "output_type": "stream",
          "name": "stdout",
          "text": [
            "무엇을 주문하시겠어요? 아메리카노\n",
            "주문하신 메뉴는 아메리카노입니다.\n"
          ]
        }
      ]
    },
    {
      "cell_type": "markdown",
      "metadata": {
        "id": "pu1dHAK6sfGy"
      },
      "source": [
        "숫자를 입력해서 연산 작업을 할 수도 있습니다. 이때 입력한 숫자는 문자형로 인식되므로, 연산 작업을 수행하려면 객체를 숫자형으로 변환하기 위해 정수로 바꾸는 `int()` 함수 또는 실수로 바꾸는 `float()` 함수로 묶어서 숫자로 바꿔야 합니다."
      ]
    },
    {
      "cell_type": "code",
      "metadata": {
        "colab": {
          "base_uri": "https://localhost:8080/"
        },
        "id": "EHEbvT9zsea5",
        "outputId": "8fd1af73-9115-4e19-ac8a-ff50dbb9bc6d"
      },
      "source": [
        "input_data = input('데이터를 입력하세요.')\n",
        "final_data = int(input_data) + 5\n",
        "print('최종 데이터는 {}입니다'.format(final_data))"
      ],
      "execution_count": null,
      "outputs": [
        {
          "output_type": "stream",
          "name": "stdout",
          "text": [
            "데이터를 입력하세요.16\n",
            "최종 데이터는 21입니다\n"
          ]
        }
      ]
    },
    {
      "cell_type": "markdown",
      "metadata": {
        "id": "yYOfoE_Rpx-K"
      },
      "source": [
        "# **12. 파일 다루기 기본**"
      ]
    },
    {
      "cell_type": "markdown",
      "metadata": {
        "id": "RmVzLzPgubKO"
      },
      "source": [
        "## **12.1. 파일 열기**\n",
        "\n",
        "`open()` 함수를 사용해서 파일을 열 수 있습니다.\n",
        "\n",
        "형식은 아래와 같습니다.\n",
        "\n",
        "`file = open('파일이름', '파일열기속성')`\n",
        "\n",
        "`파일열기속성`에 포함되는 목록은 아래와 같습니다.\n",
        "\n",
        "- `r`: 읽기 모드로 파일을 엽니다. `파일열기속성`을 지정하지 않았을 때 기본값으로 지정되는 인자입니다.\n",
        "\n",
        "- `w`: 쓰기 모드로 파일을 엽니다. 파일명이 같은 파일이 존재하면 기존 내용은 자동으로 삭제됩니다. `x` 인자의 경우는 파일명이 같은 파일이 존재하면 오류가 납니다.\n",
        "\n",
        "- `a`: 추가 모드로 파일을 엽니다. 파일명이 같은 파일이 없으면 사실상 `w` 인자와 동일합니다.\n",
        "\n",
        "- `t`: 텍스트 모드로 파일을 엽니다. 기본적으로 지정되는 인자입니다.\n",
        "\n",
        "- `b`: 바이너리 모드로 파일을 엽니다.\n",
        "\n",
        "정리하자면 `파일열기속성`에 아무것도 지정하지 않으면 `rt`로 자동으로 지정되는 것입니다. `w`만 지정한다면 자동으로 `wt`로 지정됩니다. 여러 속성을 혼합해서 지정할 수도 있는데, 예를 들면 `rb`이며 `br`도 가능합니다. \n",
        "\n",
        "아래 코드에서 예시합니다."
      ]
    },
    {
      "cell_type": "code",
      "metadata": {
        "id": "E-wI34nzwS4G"
      },
      "source": [
        "# 임의로 지정한 파일명입니다. 불러 올 파일이 없으므로 오류가 납니다.\n",
        "# test_file = open('my_favorite', 'rb')"
      ],
      "execution_count": null,
      "outputs": []
    },
    {
      "cell_type": "markdown",
      "metadata": {
        "id": "9N6WAIhzxnc9"
      },
      "source": [
        "## **12.2. 파일 쓰기**"
      ]
    },
    {
      "cell_type": "markdown",
      "metadata": {
        "id": "8GE_HULIxsJL"
      },
      "source": [
        "파일을 연 후에 쓰기 작업을 수행할 수 있습니다. 단, 쓰기 작업을 수행하려면 파일을 `w` 형식으로 열어야 합니다.\n",
        "\n",
        "아래는 파일을 쓰고 닫는 형식입니다.\n",
        "\n",
        "```\n",
        "file.write(데이터)\n",
        "file.close()\n",
        "```"
      ]
    },
    {
      "cell_type": "markdown",
      "metadata": {
        "id": "A-IQ2NQCzrTj"
      },
      "source": [
        "예시를 들기 위해 구글 드라이브와 연동합니다."
      ]
    },
    {
      "cell_type": "code",
      "metadata": {
        "colab": {
          "base_uri": "https://localhost:8080/"
        },
        "id": "KlHhOE96zo5J",
        "outputId": "40e6d832-30cf-4119-eaed-25562d2860d1"
      },
      "source": [
        "from google.colab import drive\n",
        "drive.mount('/content/gdrive/')"
      ],
      "execution_count": null,
      "outputs": [
        {
          "output_type": "stream",
          "name": "stdout",
          "text": [
            "Mounted at /content/gdrive/\n"
          ]
        }
      ]
    },
    {
      "cell_type": "markdown",
      "metadata": {
        "id": "PF1OcQHW0MPw"
      },
      "source": [
        "파일을 쓰고 저장하기 위해 경로를 잡습니다."
      ]
    },
    {
      "cell_type": "code",
      "metadata": {
        "colab": {
          "base_uri": "https://localhost:8080/"
        },
        "id": "-em2LzF00K1p",
        "outputId": "18497f10-bff7-4447-8f76-003927870ef8"
      },
      "source": [
        "cd /content/gdrive/MyDrive/Python_for_Data_Analytics_Science"
      ],
      "execution_count": null,
      "outputs": [
        {
          "output_type": "stream",
          "name": "stdout",
          "text": [
            "/content/gdrive/MyDrive/Python_for_Data_Analytics_Science\n"
          ]
        }
      ]
    },
    {
      "cell_type": "markdown",
      "metadata": {
        "id": "Pggc9nB20dhc"
      },
      "source": [
        "파일 쓰기에 대한 예시입니다. 지정된 경로에 해당 파일이 저장됩니다."
      ]
    },
    {
      "cell_type": "code",
      "metadata": {
        "id": "XmSTEEGP0iCt"
      },
      "source": [
        "test_file = open('test.txt','w')\n",
        "test_file.write('Test text')\n",
        "test_file.close()"
      ],
      "execution_count": null,
      "outputs": []
    },
    {
      "cell_type": "markdown",
      "source": [
        "참고로 파일이 닫혔는지 확인하려면 `file.closed`를 사용합니다."
      ],
      "metadata": {
        "id": "tyiDQshvBP6X"
      }
    },
    {
      "cell_type": "markdown",
      "metadata": {
        "id": "DfxVCgZz1jV3"
      },
      "source": [
        "## **12.3. 파일 읽기**"
      ]
    },
    {
      "cell_type": "markdown",
      "metadata": {
        "id": "6lNd9eaC2TOh"
      },
      "source": [
        "위에서 생성한 `test.txt`을 읽겠습니다."
      ]
    },
    {
      "cell_type": "code",
      "metadata": {
        "colab": {
          "base_uri": "https://localhost:8080/"
        },
        "id": "chCI-va52Z3f",
        "outputId": "d29cd319-7f39-4799-d204-f7cef43b5412"
      },
      "source": [
        "# 기본값이 `r`이므로 따로 지정하지 않아도 괜찮습니다.\n",
        "test_file = open('test.txt')\n",
        "read_file = test_file.read()\n",
        "test_file.close()\n",
        "print(read_file)"
      ],
      "execution_count": null,
      "outputs": [
        {
          "output_type": "stream",
          "name": "stdout",
          "text": [
            "Test text\n"
          ]
        }
      ]
    },
    {
      "cell_type": "markdown",
      "metadata": {
        "id": "GNrxBAvl3ByP"
      },
      "source": [
        "## **12.4. 반복문으로 파일 쓰기**"
      ]
    },
    {
      "cell_type": "markdown",
      "metadata": {
        "id": "Meoiv6um3hmk"
      },
      "source": [
        "먼저 for문으로 문자열을 작성하는 법을 설명합니다.\n",
        "\n",
        "아래는 $5 + 0 = 5$부터 $5 + 7 = 12$까지 줄을 바꿔서 파일에 텍스트를 쓰는 for문입니다."
      ]
    },
    {
      "cell_type": "code",
      "metadata": {
        "id": "FQ8zqYa33xkh"
      },
      "source": [
        "file = open('for_plus5.txt', 'w')\n",
        "for num in range(8):\n",
        "    plus5 = '5 + {} = {}\\n'.format(num, num+5)\n",
        "    file.write(plus5)\n",
        "file.close()"
      ],
      "execution_count": null,
      "outputs": []
    },
    {
      "cell_type": "markdown",
      "metadata": {
        "id": "pkOKS21i6W3q"
      },
      "source": [
        "## **12.5. 반복문으로 파일 읽기**"
      ]
    },
    {
      "cell_type": "markdown",
      "metadata": {
        "id": "1gkIMHOK6dXJ"
      },
      "source": [
        "파일 내용을 한 줄씩 읽으려면 `readline()` 함수나 `readlines()` 함수를 사용합니다.\n",
        "\n",
        "- `readline()`: 문자열 한 줄을 읽습니다. \n",
        "\n",
        "- `readlines()`: 전체 문자열을 읽고 한 줄씩 쉼표로 구분되는 리스트로 바꿉니다."
      ]
    },
    {
      "cell_type": "markdown",
      "metadata": {
        "id": "UfkJ-66S7GHd"
      },
      "source": [
        "먼저 `readline()` 함수에 대한 예시입니다."
      ]
    },
    {
      "cell_type": "code",
      "metadata": {
        "colab": {
          "base_uri": "https://localhost:8080/"
        },
        "id": "og7B4NYi7ItR",
        "outputId": "1a5fada1-c552-4909-948f-07648290ad2b"
      },
      "source": [
        "file = open('for_plus5.txt')\n",
        "line1 = file.readline()\n",
        "line2 = file.readline()\n",
        "line3 = file.readline()\n",
        "line4 = file.readline()\n",
        "file.close()\n",
        "print(line1)\n",
        "print(line2)\n",
        "print(line3)"
      ],
      "execution_count": null,
      "outputs": [
        {
          "output_type": "stream",
          "name": "stdout",
          "text": [
            "5 + 0 = 5\n",
            "\n",
            "5 + 1 = 6\n",
            "\n",
            "5 + 2 = 7\n",
            "\n"
          ]
        }
      ]
    },
    {
      "cell_type": "markdown",
      "metadata": {
        "id": "52eJK21m758T"
      },
      "source": [
        "위에서 개행 문자로 `\\n`을 지정했기 때문에 한 줄씩 개행되면서 문자열이 출력됐습니다. 개행되지 않도록 출력하려면 `end=''`로 매개변수르 지정합니다. `''`는 빈칸이므로 빈 문자열은 읽지 않도록 조치하는 것입니다."
      ]
    },
    {
      "cell_type": "code",
      "metadata": {
        "colab": {
          "base_uri": "https://localhost:8080/"
        },
        "id": "m5KYYm0I8PbN",
        "outputId": "d0b45ef9-56af-4753-cda7-2453ebaffc26"
      },
      "source": [
        "print(line1, end='')\n",
        "print(line2, end='')\n",
        "print(line3, end='')"
      ],
      "execution_count": null,
      "outputs": [
        {
          "output_type": "stream",
          "name": "stdout",
          "text": [
            "5 + 0 = 5\n",
            "5 + 1 = 6\n",
            "5 + 2 = 7\n"
          ]
        }
      ]
    },
    {
      "cell_type": "markdown",
      "metadata": {
        "id": "aYWTP5IMA3Fp"
      },
      "source": [
        "while문으로 파일을 읽겠습니다. 위처럼 빈 문자열을 읽지 않도록 지정하겠습니다."
      ]
    },
    {
      "cell_type": "code",
      "metadata": {
        "colab": {
          "base_uri": "https://localhost:8080/"
        },
        "id": "XATGiGohBQ5M",
        "outputId": "d6fe7ca7-086b-4ab7-c8a5-612b7b1ff97b"
      },
      "source": [
        "file = open('for_plus5.txt')\n",
        "line = file.readline()\n",
        "# line이 False이면 빈 문자열이므로 해당 문자열은 생략하고 출력하지 않습니다.\n",
        "while line:\n",
        "    print(line, end='')\n",
        "    line = file.readline()\n",
        "file.close()"
      ],
      "execution_count": null,
      "outputs": [
        {
          "output_type": "stream",
          "name": "stdout",
          "text": [
            "5 + 0 = 5\n",
            "5 + 1 = 6\n",
            "5 + 2 = 7\n",
            "5 + 3 = 8\n",
            "5 + 4 = 9\n",
            "5 + 5 = 10\n",
            "5 + 6 = 11\n",
            "5 + 7 = 12\n"
          ]
        }
      ]
    },
    {
      "cell_type": "markdown",
      "metadata": {
        "id": "TXmtMzStCMt_"
      },
      "source": [
        "`readlines()` 함수에 대한 예시입니다. 리스트 형태로 구성되며 한 줄씩 원소로 갖습니다."
      ]
    },
    {
      "cell_type": "code",
      "metadata": {
        "colab": {
          "base_uri": "https://localhost:8080/"
        },
        "id": "3dcWfhVFCRxg",
        "outputId": "3a2073c4-cc7e-428c-d055-b6f3db7f9eb6"
      },
      "source": [
        "file = open('for_plus5.txt')\n",
        "lines = file.readlines()\n",
        "file.close()\n",
        "print(lines)"
      ],
      "execution_count": null,
      "outputs": [
        {
          "output_type": "stream",
          "name": "stdout",
          "text": [
            "['5 + 0 = 5\\n', '5 + 1 = 6\\n', '5 + 2 = 7\\n', '5 + 3 = 8\\n', '5 + 4 = 9\\n', '5 + 5 = 10\\n', '5 + 6 = 11\\n', '5 + 7 = 12\\n']\n"
          ]
        }
      ]
    },
    {
      "cell_type": "markdown",
      "metadata": {
        "id": "tuIC0U2_Cnio"
      },
      "source": [
        "리스트에 할당된 원소인 문자열을 빈 문자열을 제외하고 출력하려면 for문으로도 처리할 수 있습니다. "
      ]
    },
    {
      "cell_type": "code",
      "metadata": {
        "colab": {
          "base_uri": "https://localhost:8080/"
        },
        "id": "6d8FMzliCwLd",
        "outputId": "d7f9b1c6-ec2f-4557-b4b6-fcaf15876767"
      },
      "source": [
        "file = open('for_plus5.txt')\n",
        "lines = file.readlines()\n",
        "file.close()\n",
        "for line in lines:\n",
        "    print(line, end='')"
      ],
      "execution_count": null,
      "outputs": [
        {
          "output_type": "stream",
          "name": "stdout",
          "text": [
            "5 + 0 = 5\n",
            "5 + 1 = 6\n",
            "5 + 2 = 7\n",
            "5 + 3 = 8\n",
            "5 + 4 = 9\n",
            "5 + 5 = 10\n",
            "5 + 6 = 11\n",
            "5 + 7 = 12\n"
          ]
        }
      ]
    },
    {
      "cell_type": "markdown",
      "metadata": {
        "id": "X0xJ2kdoF39Z"
      },
      "source": [
        "위 코드에서 더 축약할 수도 있습니다. `lines` 객체에 문자열을 지정하지 않고 바로 for문으로 넘깁니다."
      ]
    },
    {
      "cell_type": "code",
      "metadata": {
        "colab": {
          "base_uri": "https://localhost:8080/"
        },
        "id": "Ksoavo8bF6n9",
        "outputId": "44a31f21-19ff-448d-eb3a-367043fc99cc"
      },
      "source": [
        "file = open('for_plus5.txt')\n",
        "for line in file.readlines():\n",
        "    print(line, end='')\n",
        "file.close()"
      ],
      "execution_count": null,
      "outputs": [
        {
          "output_type": "stream",
          "name": "stdout",
          "text": [
            "5 + 0 = 5\n",
            "5 + 1 = 6\n",
            "5 + 2 = 7\n",
            "5 + 3 = 8\n",
            "5 + 4 = 9\n",
            "5 + 5 = 10\n",
            "5 + 6 = 11\n",
            "5 + 7 = 12\n"
          ]
        }
      ]
    },
    {
      "cell_type": "markdown",
      "metadata": {
        "id": "Yec5NI2uFr9r"
      },
      "source": [
        "위 코드에서 `file` 객체만 입력하는 것으로 갈음할 수도 있습니다. `file` 객체는 `readlines()` 함수로 처리한 리스트 형태의 원소가 담겨있기 때문입니다."
      ]
    },
    {
      "cell_type": "code",
      "metadata": {
        "colab": {
          "base_uri": "https://localhost:8080/"
        },
        "id": "kFNa6nQtGptj",
        "outputId": "1882077a-7049-43d9-fd63-5f5cb4db3e04"
      },
      "source": [
        "file = open('for_plus5.txt')\n",
        "for line in file:\n",
        "    print(line, end='')\n",
        "file.close()"
      ],
      "execution_count": null,
      "outputs": [
        {
          "output_type": "stream",
          "name": "stdout",
          "text": [
            "5 + 0 = 5\n",
            "5 + 1 = 6\n",
            "5 + 2 = 7\n",
            "5 + 3 = 8\n",
            "5 + 4 = 9\n",
            "5 + 5 = 10\n",
            "5 + 6 = 11\n",
            "5 + 7 = 12\n"
          ]
        }
      ]
    },
    {
      "cell_type": "markdown",
      "metadata": {
        "id": "jD7muj_DHZ_g"
      },
      "source": [
        "## **12.6. with문으로 파일 쓰고 읽기**"
      ]
    },
    {
      "cell_type": "markdown",
      "metadata": {
        "id": "jt3TzagNJI_R"
      },
      "source": [
        "with문은 위에서 하나씩 지정했던 읽고 닫는 과정을 스스로 처리합니다. 따로 `close()` 함수를 지정할 필요가 없습니다. 프로그램이 외부 파일과 네트워크 등과 통하려면 데이터가 흐르는 길인 **스트림(stream)**을 만들어야 합니다. 이 스트림을 열고 닫는 과정에서 발생할 수 있는 실수를 줄이고자 with문을 사용합니다.\n",
        "\n",
        "코드 형식은 아래와 같습니다.\n",
        "\n",
        "```\n",
        "with open('파일명', '파일열기속성') as f\n",
        "```\n",
        "\n",
        "파일에 데이터를 쓸 경우의 형식은 아래와 같습니다.\n",
        "\n",
        "```\n",
        "with open('파일명', '파일열기속성') as f:\n",
        "    f.write(데이터)\n",
        "```\n",
        "\n",
        "\n"
      ]
    },
    {
      "cell_type": "markdown",
      "metadata": {
        "id": "f8S05_v2NFqA"
      },
      "source": [
        "파일을 읽는 경우의 형식은 아래와 같습니다.\n",
        "\n",
        "```\n",
        "with open('파일명', '파일열기속성') as f:\n",
        "    file_data = f.read()\n",
        "```"
      ]
    },
    {
      "cell_type": "markdown",
      "metadata": {
        "id": "9IXpPkP-NeUF"
      },
      "source": [
        "with문을 사용하는 예시입니다. 먼저 파일을 생성해서 텍스트를 추가하겠습니다."
      ]
    },
    {
      "cell_type": "code",
      "metadata": {
        "id": "cnw6flNRNl1o"
      },
      "source": [
        "with open('test2.txt', 'w') as f:\n",
        "    f.write(\"Ok. It's 'with' power.\\n\")\n",
        "    f.write(\"So powerful 'with'.\\n\")"
      ],
      "execution_count": null,
      "outputs": []
    },
    {
      "cell_type": "markdown",
      "metadata": {
        "id": "-C2qlNF-Oc1T"
      },
      "source": [
        "생성한 텍스트 파일을 읽겠습니다."
      ]
    },
    {
      "cell_type": "code",
      "metadata": {
        "colab": {
          "base_uri": "https://localhost:8080/"
        },
        "id": "elod2iXPOiZ0",
        "outputId": "cdbf7c70-c9bb-4803-f54d-9b6d1f29a198"
      },
      "source": [
        "with open('test2.txt') as f:\n",
        "    with_power = f.read()\n",
        "    print(with_power)"
      ],
      "execution_count": null,
      "outputs": [
        {
          "output_type": "stream",
          "name": "stdout",
          "text": [
            "Ok. It's 'with' power.\n",
            "So powerful 'with'.\n",
            "\n"
          ]
        }
      ]
    },
    {
      "cell_type": "markdown",
      "metadata": {
        "id": "LVuu3aUkOyLv"
      },
      "source": [
        "with문과 반복문을 함께 사용하겠습니다. 이번에는 빼기 연산을 반복하는 파일을 만듭니다."
      ]
    },
    {
      "cell_type": "code",
      "metadata": {
        "id": "LYU71UQ3O8FU"
      },
      "source": [
        "with open('with_subtract4.txt', 'w') as f:\n",
        "    for i in range(12):\n",
        "        subtract4 = '4 - {} = {}\\n'.format(i, 4 - i)\n",
        "        f.write(subtract4)"
      ],
      "execution_count": null,
      "outputs": []
    },
    {
      "cell_type": "markdown",
      "metadata": {
        "id": "NkTQcGY_P_-n"
      },
      "source": [
        "생성한 파일을 읽습니다. 위에서처럼 빈 문자열은 읽지 않습니다."
      ]
    },
    {
      "cell_type": "code",
      "metadata": {
        "colab": {
          "base_uri": "https://localhost:8080/"
        },
        "id": "_0-jfvaiQHGk",
        "outputId": "6c178dec-f2ca-43a3-8348-76bebfd92b1c"
      },
      "source": [
        "with open('with_subtract4.txt') as f:\n",
        "    for line in f:\n",
        "        print(line, end='')"
      ],
      "execution_count": null,
      "outputs": [
        {
          "output_type": "stream",
          "name": "stdout",
          "text": [
            "4 - 0 = 4\n",
            "4 - 1 = 3\n",
            "4 - 2 = 2\n",
            "4 - 3 = 1\n",
            "4 - 4 = 0\n",
            "4 - 5 = -1\n",
            "4 - 6 = -2\n",
            "4 - 7 = -3\n",
            "4 - 8 = -4\n",
            "4 - 9 = -5\n",
            "4 - 10 = -6\n",
            "4 - 11 = -7\n"
          ]
        }
      ]
    },
    {
      "cell_type": "markdown",
      "source": [
        "이번에는 임의로 아무개들의 정보를 만들고, 브로카 변법을 적용하여 적정 체중을 구하겠습니다. 먼저 아무개들의 정보를 만듭니다."
      ],
      "metadata": {
        "id": "ygX0dDWCnIat"
      }
    },
    {
      "cell_type": "code",
      "source": [
        "import random\n",
        "\n",
        "first_name = list('김구기고나노라마박반복배이안윤인지전진')\n",
        "name_words = list('가계교규균다도두로루리모무민봉부세서소순아오우유주준태희')\n",
        "\n",
        "with open('/content/gdrive/MyDrive/Python_for_Data_Analytics_Science/members.txt', 'w') as f:\n",
        "    for i in range(10):\n",
        "        name = random.choice(first_name) + random.choice(name_words) + random.choice(name_words)\n",
        "        age = random.randint(20, 40)\n",
        "        height = random.randrange(150, 200)\n",
        "        weight = random.randrange(40, 100)\n",
        "        f.write('{}, {}, {}, {}\\n'.format(name, age, height, weight))"
      ],
      "metadata": {
        "id": "1wWNpxeuZWnY"
      },
      "execution_count": null,
      "outputs": []
    },
    {
      "cell_type": "markdown",
      "source": [
        "브로카 변법을 적용하여 적정 체중을 구하겠습니다. 공식은 코드와 같으며 크게 중요하지 않습니다."
      ],
      "metadata": {
        "id": "8z0rQupgpDW9"
      }
    },
    {
      "cell_type": "code",
      "source": [
        "with open('/content/gdrive/MyDrive/Python_for_Data_Analytics_Science/members.txt', 'r') as f:\n",
        "    for line in f:\n",
        "        (name, age, height, weight) = line.strip().split(', ')\n",
        "        \n",
        "        # 각각 원소에 문제가 있으면 통과합니다.\n",
        "        if (not name) or (not age) or (not weight) or (not height):\n",
        "            continue\n",
        "        if int(height) < 150:\n",
        "            proper_weight = int(height) - 100\n",
        "        elif int(height) < 160:\n",
        "            proper_weight = (int(height) - 150) / 2 + 50\n",
        "        else:\n",
        "            proper_weight = (int(height) - 100) * 0.9\n",
        "\n",
        "        if int(weight) < proper_weight:\n",
        "            condition = '더 먹어!'\n",
        "        elif int(weight) == proper_weight:\n",
        "            condition = '그럴리가?'\n",
        "        else:\n",
        "            condition = '그만 먹어..'\n",
        "        \n",
        "        print('\\n'.join(['성명: {}', '연령: {}', '키: {}', '체중: {}', '수치: {}', '조언: {}']).\n",
        "              format(name, age, height, weight, round(proper_weight, 1), condition))\n",
        "        print()"
      ],
      "metadata": {
        "colab": {
          "base_uri": "https://localhost:8080/"
        },
        "id": "9Vs2gO4sfYTk",
        "outputId": "bf582423-7a01-47af-9c96-4b5683a9dc80"
      },
      "execution_count": null,
      "outputs": [
        {
          "output_type": "stream",
          "name": "stdout",
          "text": [
            "성명: 고도주\n",
            "연령: 30\n",
            "키: 167\n",
            "체중: 44\n",
            "수치: 60.3\n",
            "조언: 더 먹어!\n",
            "\n",
            "성명: 이우리\n",
            "연령: 34\n",
            "키: 196\n",
            "체중: 65\n",
            "수치: 86.4\n",
            "조언: 더 먹어!\n",
            "\n",
            "성명: 안무무\n",
            "연령: 35\n",
            "키: 184\n",
            "체중: 55\n",
            "수치: 75.6\n",
            "조언: 더 먹어!\n",
            "\n",
            "성명: 나가무\n",
            "연령: 21\n",
            "키: 179\n",
            "체중: 97\n",
            "수치: 71.1\n",
            "조언: 그만 먹어..\n",
            "\n",
            "성명: 기규우\n",
            "연령: 40\n",
            "키: 161\n",
            "체중: 90\n",
            "수치: 54.9\n",
            "조언: 그만 먹어..\n",
            "\n",
            "성명: 구로다\n",
            "연령: 21\n",
            "키: 173\n",
            "체중: 64\n",
            "수치: 65.7\n",
            "조언: 더 먹어!\n",
            "\n",
            "성명: 이무도\n",
            "연령: 39\n",
            "키: 158\n",
            "체중: 46\n",
            "수치: 54.0\n",
            "조언: 더 먹어!\n",
            "\n",
            "성명: 윤희주\n",
            "연령: 34\n",
            "키: 192\n",
            "체중: 77\n",
            "수치: 82.8\n",
            "조언: 더 먹어!\n",
            "\n",
            "성명: 박두희\n",
            "연령: 35\n",
            "키: 159\n",
            "체중: 57\n",
            "수치: 54.5\n",
            "조언: 그만 먹어..\n",
            "\n",
            "성명: 윤도루\n",
            "연령: 35\n",
            "키: 165\n",
            "체중: 77\n",
            "수치: 58.5\n",
            "조언: 그만 먹어..\n",
            "\n"
          ]
        }
      ]
    },
    {
      "cell_type": "markdown",
      "metadata": {
        "id": "7yX_yLRAQpFS"
      },
      "source": [
        "# **13. 텍스트 파일 다루기**"
      ]
    },
    {
      "cell_type": "markdown",
      "metadata": {
        "id": "SNZJI6azKmBa"
      },
      "source": [
        "먼저 텍스트 파일을 생성하여 구글 드라이브의 폴더에 저장하겠습니다."
      ]
    },
    {
      "cell_type": "code",
      "metadata": {
        "id": "UKxhct1QKqH_"
      },
      "source": [
        "with open('fruits_sales.txt', 'w') as f:\n",
        "    f.write(\"date  banana  apple  grape  strawberry\\n\")\n",
        "    f.write(\"9.26.   16     32     11        62\\n\")\n",
        "    f.write(\"9.27.   18     22     36        9\\n\")\n",
        "    f.write(\"9.28.   12     31     28        53\\n\")\n",
        "    f.write(\"9.29.   54     23     21        8\\n\")"
      ],
      "execution_count": null,
      "outputs": []
    },
    {
      "cell_type": "markdown",
      "metadata": {
        "id": "-dZjBzOtOMW2"
      },
      "source": [
        "저장한 텍스트 파일을 읽습니다."
      ]
    },
    {
      "cell_type": "code",
      "metadata": {
        "colab": {
          "base_uri": "https://localhost:8080/"
        },
        "id": "yXBnp4F9L8u2",
        "outputId": "971b8790-a23a-413a-f628-cecb79af60c4"
      },
      "source": [
        "with open('fruits_sales.txt') as f:\n",
        "    fruits_sales = f.read()\n",
        "    print(fruits_sales)"
      ],
      "execution_count": null,
      "outputs": [
        {
          "output_type": "stream",
          "name": "stdout",
          "text": [
            "date  banana  apple  grape  strawberry\n",
            "9.26.   16     32     11        62\n",
            "9.27.   18     22     36        9\n",
            "9.28.   12     31     28        53\n",
            "9.29.   54     23     21        8\n",
            "\n"
          ]
        }
      ]
    },
    {
      "cell_type": "markdown",
      "metadata": {
        "id": "nVDVP3lhOpej"
      },
      "source": [
        "텍스트 파일의 첫 줄을 읽습니다."
      ]
    },
    {
      "cell_type": "code",
      "metadata": {
        "colab": {
          "base_uri": "https://localhost:8080/"
        },
        "id": "kBdIROmW9XMD",
        "outputId": "6d24f274-d0ba-40bc-bd21-42c230c2e06f"
      },
      "source": [
        "with open('fruits_sales.txt') as f:\n",
        "    fruits_sales_line1 = f.readline()\n",
        "    print(fruits_sales_line1)"
      ],
      "execution_count": null,
      "outputs": [
        {
          "output_type": "stream",
          "name": "stdout",
          "text": [
            "date  banana  apple  grape  strawberry\n",
            "\n"
          ]
        }
      ]
    },
    {
      "cell_type": "markdown",
      "metadata": {
        "id": "O0A_1StQ9hD4"
      },
      "source": [
        "공백과 개행열을 제거하고 리스트로 만듭니다."
      ]
    },
    {
      "cell_type": "code",
      "metadata": {
        "colab": {
          "base_uri": "https://localhost:8080/"
        },
        "id": "YIZvQrBZ9nJD",
        "outputId": "6cbd9c0a-a953-4424-ae4c-38b4ce3cf855"
      },
      "source": [
        "print(fruits_sales_line1.split())"
      ],
      "execution_count": null,
      "outputs": [
        {
          "output_type": "stream",
          "name": "stdout",
          "text": [
            "['date', 'banana', 'apple', 'grape', 'strawberry']\n"
          ]
        }
      ]
    },
    {
      "cell_type": "markdown",
      "metadata": {
        "id": "Q5WZAHAn-JEh"
      },
      "source": [
        "for문을 사용해서 두 번째 줄부터 마지막 줄까지 첫 줄처럼 리스트로 출력하겠습니다. 먼저 첫 줄을 떼서 변수에 넘기는 작업이 선행되어야 합니다. 그리고나서 두 번째 줄부터 마지막 줄까지 for문으로 한 줄씩 출력합니다."
      ]
    },
    {
      "cell_type": "code",
      "metadata": {
        "colab": {
          "base_uri": "https://localhost:8080/"
        },
        "id": "BEOuB9Tl-PVb",
        "outputId": "44a87521-40f6-4ee3-fd56-8210d49eeb83"
      },
      "source": [
        "with open('fruits_sales.txt') as f:\n",
        "    fruits_sales_line1 = f.readline()\n",
        "    fruits_sales_line1.split()\n",
        "    for line in f:\n",
        "        fruits_line_list = line.split()\n",
        "        print(fruits_line_list)"
      ],
      "execution_count": null,
      "outputs": [
        {
          "output_type": "stream",
          "name": "stdout",
          "text": [
            "['9.26.', '16', '32', '11', '62']\n",
            "['9.27.', '18', '22', '36', '9']\n",
            "['9.28.', '12', '31', '28', '53']\n",
            "['9.29.', '54', '23', '21', '8']\n"
          ]
        }
      ]
    },
    {
      "cell_type": "markdown",
      "metadata": {
        "id": "rdpmKDKGw20i"
      },
      "source": [
        "리스트로 출력하는 것뿐만 아니라 새로 생성한 리스트에 원소들을 저장하겠습니다. 원소들은 숫자로 입력된 상태지만 형식은 문자열(string)입니다. 데이터 분석을 위해서는 `int()` 함수를 사용하여 숫자로 변환해야 합니다.\n",
        "\n",
        "아래 코드로 전체적인 과정을 정리하고 내용을 추가하겠습니다."
      ]
    },
    {
      "cell_type": "code",
      "metadata": {
        "colab": {
          "base_uri": "https://localhost:8080/"
        },
        "id": "in60y-PFxja-",
        "outputId": "27e8b4ef-b781-431f-f199-1bb963eef92c"
      },
      "source": [
        "with open('fruits_sales.txt') as f:\n",
        "    fruits_sales_line1 = f.readline()\n",
        "    fruits_sales_line1_split = fruits_sales_line1.split()\n",
        "\n",
        "    date = []\n",
        "    banana = []\n",
        "    apple = []\n",
        "    grape = []\n",
        "    strawberry = []\n",
        "\n",
        "    for line in f:\n",
        "        fruits_sales_list = line.split()\n",
        "        date.append(fruits_sales_list[0])\n",
        "        banana.append(int(fruits_sales_list[1]))\n",
        "        apple.append(int(fruits_sales_list[2]))\n",
        "        grape.append(int(fruits_sales_list[3]))\n",
        "        strawberry.append(int(fruits_sales_list[4]))\n",
        "\n",
        "    print('첫 줄:', fruits_sales_line1_split)\n",
        "    print('판매일자: {}'.format(date))\n",
        "    print('{} 판매량: {}'.format(fruits_sales_line1_split[1], banana))\n",
        "    print('{} 판매량: {}'.format(fruits_sales_line1_split[2], apple))\n",
        "    print('{} 판매량: {}'.format(fruits_sales_line1_split[3], grape))\n",
        "    print('{} 판매량: {}'.format(fruits_sales_line1_split[4], strawberry))"
      ],
      "execution_count": null,
      "outputs": [
        {
          "output_type": "stream",
          "name": "stdout",
          "text": [
            "첫 줄: ['date', 'banana', 'apple', 'grape', 'strawberry']\n",
            "판매일자: ['9.26.', '9.27.', '9.28.', '9.29.']\n",
            "banana 판매량: [16, 18, 12, 54]\n",
            "apple 판매량: [32, 22, 31, 23]\n",
            "grape 판매량: [11, 36, 28, 21]\n",
            "strawberry 판매량: [62, 9, 53, 8]\n"
          ]
        }
      ]
    },
    {
      "cell_type": "markdown",
      "metadata": {
        "id": "EhGcr52m17c1"
      },
      "source": [
        "위의 변수들을 토대로 총 판매량과 평균 판매량을 구하겠습니다. 평균을 구하는 다양한 방법은 [링크](https://blockdmask.tistory.com/559)를 참고하시기 바랍니다."
      ]
    },
    {
      "cell_type": "code",
      "metadata": {
        "colab": {
          "base_uri": "https://localhost:8080/"
        },
        "id": "05VEqD3q2PRB",
        "outputId": "5558f73e-e813-46b8-a679-a766a66946b7"
      },
      "source": [
        "banana_sum = sum(banana)\n",
        "apple_sum = sum(apple)\n",
        "grape_sum = sum(grape)\n",
        "strawberry_sum = sum(strawberry)\n",
        "sum_list = [banana_sum, apple_sum, grape_sum, strawberry_sum]\n",
        "\n",
        "banana_mean = banana_sum/len(banana)\n",
        "apple_mean = apple_sum/len(apple)\n",
        "grape_mean = grape_sum/len(grape)\n",
        "strawberry_mean = strawberry_sum/len(strawberry)\n",
        "mean_list = [banana_mean, apple_mean, grape_mean, strawberry_mean]\n",
        "\n",
        "for i in range(len(sum_list)):\n",
        "    print('{} 총 판매량: {}개\\n      평균 판매량: {}개'.format(fruits_sales_line1_split[i+1],\n",
        "                                                    sum_list[i], int(mean_list[i])))"
      ],
      "execution_count": null,
      "outputs": [
        {
          "output_type": "stream",
          "name": "stdout",
          "text": [
            "banana 총 판매량: 100개\n",
            "      평균 판매량: 25개\n",
            "apple 총 판매량: 108개\n",
            "      평균 판매량: 27개\n",
            "grape 총 판매량: 96개\n",
            "      평균 판매량: 24개\n",
            "strawberry 총 판매량: 132개\n",
            "      평균 판매량: 33개\n"
          ]
        }
      ]
    },
    {
      "cell_type": "markdown",
      "metadata": {
        "id": "nid0k9usGCDX"
      },
      "source": [
        "코드를 아래처럼 더 짧게 작성할 수도 있습니다."
      ]
    },
    {
      "cell_type": "code",
      "metadata": {
        "id": "YuH6rGXCGAFK",
        "colab": {
          "base_uri": "https://localhost:8080/"
        },
        "outputId": "8ca4c66d-f7c3-4173-f714-3adb73ce3b7d"
      },
      "source": [
        "fruits_list = [banana, apple, grape, strawberry]\n",
        "\n",
        "for i in range(len(fruits_sales_line1_split)-1):\n",
        "    print('{} 총 판매량: {}개\\n      평균 판매량: {}개'.format(fruits_sales_line1_split[i+1],\n",
        "                                                    sum(fruits_list[i]), int(sum(fruits_list[i])/len(fruits_list[i]))))"
      ],
      "execution_count": null,
      "outputs": [
        {
          "output_type": "stream",
          "name": "stdout",
          "text": [
            "banana 총 판매량: 100개\n",
            "      평균 판매량: 25개\n",
            "apple 총 판매량: 108개\n",
            "      평균 판매량: 27개\n",
            "grape 총 판매량: 96개\n",
            "      평균 판매량: 24개\n",
            "strawberry 총 판매량: 132개\n",
            "      평균 판매량: 33개\n"
          ]
        }
      ]
    },
    {
      "cell_type": "markdown",
      "metadata": {
        "id": "mvgBFseLY1GE"
      },
      "source": [
        "# **14. 함수**"
      ]
    },
    {
      "cell_type": "markdown",
      "source": [
        "## **14.1. 함수의 기본적 형태**"
      ],
      "metadata": {
        "id": "7cOf0jSPxdoO"
      }
    },
    {
      "cell_type": "markdown",
      "source": [
        "함수는 아래와 같은 형태로 이루어져 있습니다.\n",
        "\n",
        "```\n",
        "def 함수명(매개변수):\n",
        "    처리하는 내용\n",
        "```\n",
        "\n",
        "여기서 `def`는 'definition'의 약자이고, 함수명은 스네이크케이스 형식을 취합니다. 매개변수는 하나일수도, 여러 개일 수도 있습니다.\n",
        "\n",
        "기본적인 함수 형태를 코드로 작성하면 아래와 같습니다."
      ],
      "metadata": {
        "id": "x_r2jlFKu3pD"
      }
    },
    {
      "cell_type": "code",
      "source": [
        "def bye_n_c_u():\n",
        "    print('즐거웠어!')\n",
        "    print('다음에 또 보자!')\n",
        "    print('잘 지내!')\n",
        "\n",
        "bye_n_c_u()"
      ],
      "metadata": {
        "colab": {
          "base_uri": "https://localhost:8080/"
        },
        "id": "zkM39Pezw6F7",
        "outputId": "04fad671-2062-4611-b39f-1944e901b665"
      },
      "execution_count": null,
      "outputs": [
        {
          "output_type": "stream",
          "name": "stdout",
          "text": [
            "즐거웠어!\n",
            "다음에 또 보자!\n",
            "잘 지내!\n"
          ]
        }
      ]
    },
    {
      "cell_type": "markdown",
      "source": [
        "## **14.2. 매개변수**"
      ],
      "metadata": {
        "id": "6nmoEb07v2a5"
      }
    },
    {
      "cell_type": "markdown",
      "source": [
        "매개변수는 3가지 종류로 나뉩니다. **가변 매개변수**, **기본 매개변수**, **키워드 매개변수**입니다. 파이썬에 기본적으로 빌트인 된 모듈의 함수인 `print()`를 예시로 살피겠습니다. `help()` 함수에 `print()` 함수를 전달하면 관련 정보를 확인할 수 있습니다. 함수명만 전달하고 괄호는 제외해야 합니다."
      ],
      "metadata": {
        "id": "VY2bqohov7jo"
      }
    },
    {
      "cell_type": "code",
      "source": [
        "help(print)"
      ],
      "metadata": {
        "colab": {
          "base_uri": "https://localhost:8080/"
        },
        "id": "4StUDEAUx171",
        "outputId": "67d81135-80bc-4d30-fc3d-cb282221da82"
      },
      "execution_count": null,
      "outputs": [
        {
          "output_type": "stream",
          "name": "stdout",
          "text": [
            "Help on built-in function print in module builtins:\n",
            "\n",
            "print(...)\n",
            "    print(value, ..., sep=' ', end='\\n', file=sys.stdout, flush=False)\n",
            "    \n",
            "    Prints the values to a stream, or to sys.stdout by default.\n",
            "    Optional keyword arguments:\n",
            "    file:  a file-like object (stream); defaults to the current sys.stdout.\n",
            "    sep:   string inserted between values, default a space.\n",
            "    end:   string appended after the last value, default a newline.\n",
            "    flush: whether to forcibly flush the stream.\n",
            "\n"
          ]
        }
      ]
    },
    {
      "cell_type": "markdown",
      "source": [
        "`value, ..., sep=' ', end='\\n', file=sys.stdout, flush=False`가 모두 `print()` 함수의 매개변수입니다. 함수의 옵션이라고 말하기도 합니다.\n",
        "\n",
        "만약 어떤 함수를 선언(생성)할 때 매개변수를 지정하려면 아래처럼 괄호 안에 매개변수를 위치시킵니다.\n",
        "\n",
        "```\n",
        "def 함수명(매개변수, 매개변수, ...)\n",
        "    처리하는 내용\n",
        "```\n",
        "\n",
        "설명을 위해 임의로 함수 하나를 선언하겠습니다."
      ],
      "metadata": {
        "id": "mE69u576MZzV"
      }
    },
    {
      "cell_type": "code",
      "source": [
        "def print_value(value, time):\n",
        "    for i in range(time):\n",
        "        print(f\"함수에 입력한 값은 '{value}'이며, {i + 1}번째 출력입니다.\")\n",
        "    print(f\"총 {time}번 출력했습니다.\")\n",
        "\n",
        "print_value('이게 맞아?', 3)"
      ],
      "metadata": {
        "colab": {
          "base_uri": "https://localhost:8080/"
        },
        "id": "A74yfkxQU0hC",
        "outputId": "a49dba8e-2654-4ee9-936e-cc46c4b997d1"
      },
      "execution_count": null,
      "outputs": [
        {
          "output_type": "stream",
          "name": "stdout",
          "text": [
            "함수에 입력한 값은 '이게 맞아?'이며, 1번째 출력입니다.\n",
            "함수에 입력한 값은 '이게 맞아?'이며, 2번째 출력입니다.\n",
            "함수에 입력한 값은 '이게 맞아?'이며, 3번째 출력입니다.\n",
            "총 3번 출력했습니다.\n"
          ]
        }
      ]
    },
    {
      "cell_type": "markdown",
      "source": [
        "`value`와 `time`은 매개변수입니다. 함수를 호출할 때 각 매개변수의 위치에 맞게 값을 지정하면 함수에 제대로 전달되어 처리됩니다. 그러나 `value`와 `time`처럼 매개변수 2개에 대응하지 않게 적거나 더 많은 값을 지정하면 아래처럼 오류가 발생합니다."
      ],
      "metadata": {
        "id": "Hl_pPiUjdfMG"
      }
    },
    {
      "cell_type": "code",
      "source": [
        "print_value('이게 맞아?')"
      ],
      "metadata": {
        "colab": {
          "base_uri": "https://localhost:8080/",
          "height": 165
        },
        "id": "Srzf2LjSeWNA",
        "outputId": "464ca0da-60bc-4fb5-c034-04e90f95b832"
      },
      "execution_count": null,
      "outputs": [
        {
          "output_type": "error",
          "ename": "TypeError",
          "evalue": "ignored",
          "traceback": [
            "\u001b[0;31m---------------------------------------------------------------------------\u001b[0m",
            "\u001b[0;31mTypeError\u001b[0m                                 Traceback (most recent call last)",
            "\u001b[0;32m<ipython-input-18-e8a0fb443708>\u001b[0m in \u001b[0;36m<module>\u001b[0;34m()\u001b[0m\n\u001b[0;32m----> 1\u001b[0;31m \u001b[0mprint_value\u001b[0m\u001b[0;34m(\u001b[0m\u001b[0;34m'이게 맞아?'\u001b[0m\u001b[0;34m)\u001b[0m\u001b[0;34m\u001b[0m\u001b[0;34m\u001b[0m\u001b[0m\n\u001b[0m",
            "\u001b[0;31mTypeError\u001b[0m: print_value() missing 1 required positional argument: 'time'"
          ]
        }
      ]
    },
    {
      "cell_type": "code",
      "source": [
        "print_value('이게 맞아?', 3, 5)"
      ],
      "metadata": {
        "colab": {
          "base_uri": "https://localhost:8080/",
          "height": 165
        },
        "id": "VwaCq7uMeJT-",
        "outputId": "0ed50933-7d1b-4053-ac58-e380131bc9a2"
      },
      "execution_count": null,
      "outputs": [
        {
          "output_type": "error",
          "ename": "TypeError",
          "evalue": "ignored",
          "traceback": [
            "\u001b[0;31m---------------------------------------------------------------------------\u001b[0m",
            "\u001b[0;31mTypeError\u001b[0m                                 Traceback (most recent call last)",
            "\u001b[0;32m<ipython-input-17-b0f3abff49e8>\u001b[0m in \u001b[0;36m<module>\u001b[0;34m()\u001b[0m\n\u001b[0;32m----> 1\u001b[0;31m \u001b[0mprint_value\u001b[0m\u001b[0;34m(\u001b[0m\u001b[0;34m'이게 맞아?'\u001b[0m\u001b[0;34m,\u001b[0m \u001b[0;36m3\u001b[0m\u001b[0;34m,\u001b[0m \u001b[0;36m5\u001b[0m\u001b[0;34m)\u001b[0m\u001b[0;34m\u001b[0m\u001b[0;34m\u001b[0m\u001b[0m\n\u001b[0m",
            "\u001b[0;31mTypeError\u001b[0m: print_value() takes 2 positional arguments but 3 were given"
          ]
        }
      ]
    },
    {
      "cell_type": "markdown",
      "source": [
        "두 경우 모두 `TypeError` 오류가 출력됐습니다. 전자 오류의 이유는 `print_value() missing 1 required positional argument: 'time'`입니다. 매개변수 하나(`time`)를 덜 지정했다는 의미입니다.\n",
        "\n",
        "후자 오류의 이유는 `print_value() takes 2 positional arguments but 3 were given`입니다. 매개변수 2개를 지정해야 하는데 3개를 지정했다는 의미입니다."
      ],
      "metadata": {
        "id": "FV0JQBDpePoD"
      }
    },
    {
      "cell_type": "markdown",
      "source": [
        "### **14.2.1. 가변 매개변수**"
      ],
      "metadata": {
        "id": "sTt-_FR8TXTB"
      }
    },
    {
      "cell_type": "markdown",
      "source": [
        "다시 `print()` 함수를 예시로 설명을 이어가겠습니다."
      ],
      "metadata": {
        "id": "ILX_B2SQhXjs"
      }
    },
    {
      "cell_type": "code",
      "source": [
        "help(print)"
      ],
      "metadata": {
        "colab": {
          "base_uri": "https://localhost:8080/"
        },
        "id": "JqEO_6YQhhV8",
        "outputId": "4d19b6ca-560f-48de-bee9-c758558d0ccd"
      },
      "execution_count": null,
      "outputs": [
        {
          "output_type": "stream",
          "name": "stdout",
          "text": [
            "Help on built-in function print in module builtins:\n",
            "\n",
            "print(...)\n",
            "    print(value, ..., sep=' ', end='\\n', file=sys.stdout, flush=False)\n",
            "    \n",
            "    Prints the values to a stream, or to sys.stdout by default.\n",
            "    Optional keyword arguments:\n",
            "    file:  a file-like object (stream); defaults to the current sys.stdout.\n",
            "    sep:   string inserted between values, default a space.\n",
            "    end:   string appended after the last value, default a newline.\n",
            "    flush: whether to forcibly flush the stream.\n",
            "\n"
          ]
        }
      ]
    },
    {
      "cell_type": "code",
      "source": [
        "print('여러', '매개변수(값)를', '지정할 수', '있습니다.')"
      ],
      "metadata": {
        "colab": {
          "base_uri": "https://localhost:8080/"
        },
        "id": "0BXo3avIjNMn",
        "outputId": "1099cc73-d792-4a16-89be-0db6f35bd1e6"
      },
      "execution_count": null,
      "outputs": [
        {
          "output_type": "stream",
          "name": "stdout",
          "text": [
            "여러 값을 지정할 수 있습니다.\n"
          ]
        }
      ]
    },
    {
      "cell_type": "markdown",
      "source": [
        "`print()` 함수에는 여러 매개변수(값)를 지정할 수 있습니다. 이처럼 여러 매개변수를 지정할 수 있는 매개변수를 **가변 매개변수**라고 부릅니다. '가변'은 '변할 수 있다'라는 것을 의미합니다.\n",
        "\n",
        "가변 매개변수를 받는 함수는 아래 구조를 갖습니다.\n",
        "\n",
        "```\n",
        "def 함수명(매개변수, 매개변수, ..., *가변 매개변수):\n",
        "    처리하는 내용\n",
        "```\n",
        "\n",
        "이 구조에서 주목해야 할 점은 일반 매개변수를 가변 매개변수 뒤에 위치시킬 수 없고, 가변 매개변수는 항상 하나만 사용할 수 있다는 것입니다. 쉽게 말하면 가변 매개변수는 항상 맨뒤에 위치해야 하고, 여러 개의 가변 매개변수는 사용할 수 없습니다.\n",
        "\n",
        "```\n",
        "<잘못된 구조 1>\n",
        "def 함수명(*가변 매개변수, 매개변수, 매개변수, ...):\n",
        "    처리하는 내용\n",
        "```\n",
        "\n",
        "```\n",
        "<잘못된 구조 2>\n",
        "def 함수명(매개변수, 매개변수, ..., *가변 매개변수, *가변 매개변수):\n",
        "    처리하는 내용\n",
        "```\n",
        "\n",
        "위 구조가 잘못된 이유를 설명하기 위해 임의의 함수를 선언하겠습니다."
      ],
      "metadata": {
        "id": "C-FdUTcsjUrO"
      }
    },
    {
      "cell_type": "code",
      "source": [
        "# 가변 매개변수 위치를 맨뒤로 넘깁니다. \n",
        "def print_value(time, *values):\n",
        "    for i in range(time):\n",
        "        print(f\"함수에 입력한 값은 '{values}'이며, {i + 1}번째 출력입니다.\")\n",
        "    print(f\"총 {time}번 출력했습니다.\")\n",
        "\n",
        "print_value(3, '이게 맞아?', '이게 맞아요?', '정말?')"
      ],
      "metadata": {
        "colab": {
          "base_uri": "https://localhost:8080/"
        },
        "id": "vFbcUAR5X0RL",
        "outputId": "500569e8-7d16-493b-d064-c46d104bed99"
      },
      "execution_count": null,
      "outputs": [
        {
          "output_type": "stream",
          "name": "stdout",
          "text": [
            "함수에 입력한 값은 '('이게 맞아?', '이게 맞아요?', '정말?')'이며, 1번째 출력입니다.\n",
            "함수에 입력한 값은 '('이게 맞아?', '이게 맞아요?', '정말?')'이며, 2번째 출력입니다.\n",
            "함수에 입력한 값은 '('이게 맞아?', '이게 맞아요?', '정말?')'이며, 3번째 출력입니다.\n",
            "총 3번 출력했습니다.\n"
          ]
        }
      ]
    },
    {
      "cell_type": "markdown",
      "source": [
        "입력한 가변 매개변수들이 튜플 형태로 출력됐습니다. 값을 개별적으로 출력하려면 for문을 추가합니다. "
      ],
      "metadata": {
        "id": "VVy8xZQYjldz"
      }
    },
    {
      "cell_type": "code",
      "source": [
        "def print_value(time, *values):\n",
        "    for i in range(time):\n",
        "        for value in values:\n",
        "            print(f\"함수에 입력한 값 중 하나는 '{value}'이며, {i + 1}번째 출력입니다.\")\n",
        "    print(f\"총 {time}번 출력했습니다.\")\n",
        "\n",
        "print_value(3, '이게 맞아?', '이게 맞아요?', '정말?')"
      ],
      "metadata": {
        "colab": {
          "base_uri": "https://localhost:8080/"
        },
        "id": "dkkqV8z3kubM",
        "outputId": "6f71b963-2e07-4b24-967d-19130031cb48"
      },
      "execution_count": null,
      "outputs": [
        {
          "output_type": "stream",
          "name": "stdout",
          "text": [
            "함수에 입력한 값 중 하나는 '이게 맞아?'이며, 1번째 출력입니다.\n",
            "함수에 입력한 값 중 하나는 '이게 맞아요?'이며, 1번째 출력입니다.\n",
            "함수에 입력한 값 중 하나는 '정말?'이며, 1번째 출력입니다.\n",
            "함수에 입력한 값 중 하나는 '이게 맞아?'이며, 2번째 출력입니다.\n",
            "함수에 입력한 값 중 하나는 '이게 맞아요?'이며, 2번째 출력입니다.\n",
            "함수에 입력한 값 중 하나는 '정말?'이며, 2번째 출력입니다.\n",
            "함수에 입력한 값 중 하나는 '이게 맞아?'이며, 3번째 출력입니다.\n",
            "함수에 입력한 값 중 하나는 '이게 맞아요?'이며, 3번째 출력입니다.\n",
            "함수에 입력한 값 중 하나는 '정말?'이며, 3번째 출력입니다.\n",
            "총 3번 출력했습니다.\n"
          ]
        }
      ]
    },
    {
      "cell_type": "markdown",
      "source": [
        "만약 매개변수 위치를 `print_value(*values, time)`으로 선언했다면 함수 입장에서는 `*values`가 어디까지인지 구분할 수 없습니다. 예컨대 `print_value('이게 맞아?', '이게 맞아요?', '정말?', 3)` 형태로 전달했다면 모든 값을 가변 매개변수로 인식하므로 `time` 매개변수로 받아야 할 값이 무엇인지 명확하게 정의하기 어렵습니다. 따라서 가변 매개변수는 일반 매개변수 앞(왼쪽)에 올 수 없도록 규제됩니다."
      ],
      "metadata": {
        "id": "d9qE-KR3mMlp"
      }
    },
    {
      "cell_type": "markdown",
      "source": [
        "### **14.2.2. 기본 매개변수**"
      ],
      "metadata": {
        "id": "QViCSnR9Tdwg"
      }
    },
    {
      "cell_type": "markdown",
      "source": [
        "`print()` 함수의 정보를 다시 불러오겠습니다."
      ],
      "metadata": {
        "id": "NqUcm4cTqSVN"
      }
    },
    {
      "cell_type": "code",
      "source": [
        "help(print)"
      ],
      "metadata": {
        "colab": {
          "base_uri": "https://localhost:8080/"
        },
        "id": "yLRe7lBLqZWq",
        "outputId": "8e36b5d1-c668-41c1-9e61-4738d9dd6237"
      },
      "execution_count": null,
      "outputs": [
        {
          "output_type": "stream",
          "name": "stdout",
          "text": [
            "Help on built-in function print in module builtins:\n",
            "\n",
            "print(...)\n",
            "    print(value, ..., sep=' ', end='\\n', file=sys.stdout, flush=False)\n",
            "    \n",
            "    Prints the values to a stream, or to sys.stdout by default.\n",
            "    Optional keyword arguments:\n",
            "    file:  a file-like object (stream); defaults to the current sys.stdout.\n",
            "    sep:   string inserted between values, default a space.\n",
            "    end:   string appended after the last value, default a newline.\n",
            "    flush: whether to forcibly flush the stream.\n",
            "\n"
          ]
        }
      ]
    },
    {
      "cell_type": "markdown",
      "source": [
        "위에서 서술했듯이 `print()` 함수의 매개변수인 `value`는 가변 매개변수입니다. 이 가변 매개변수가 다른 매개변수들의 맨 앞에 위치했으므로, '가변 매개변수는 일반 매개변수의 앞에 위치할 수 없다'라는 규칙을 위반한 것으로 보일 수 있습니다.\n",
        "\n",
        "여기서 중요한 개념 하나를 인지해야 합니다. 가변 매개변수는 일반 매개변수의 앞에는 절대로 위치할 수 없으나, `sep=' ', end='\\n', file=sys.stdout, flush=False`처럼 값이 기본적으로 지정된 **기본 매개변수**(들)의 앞에는 위치할 수 있습니다. 물론 가변 매개변수의 단일 형태인 일반 매개변수도 기본 매개변수(들)의 앞에 위치할 수 있습니다. 일반 매개변수나 가변 매개변수가 기본 매개변수의 앞에 위치하더라도 기본 매개변수는 값이 기본적으로 지정된 형태이므로 함수 입장에서는 전달 받은 값을 혼동할 이유가 없습니다.\n",
        "\n",
        "가변 매개변수와 기본 매개변수가 포함된 함수 하나를 선언하겠습니다."
      ],
      "metadata": {
        "id": "XMUWHbdVqdpo"
      }
    },
    {
      "cell_type": "code",
      "source": [
        "# 먼저 가변 매개변수를 앞에 위치시킵니다.\n",
        "# 일반 매개변수를 뒤에 위치시키고 값을 지정하여 기본 매개변수로 변환합니다.\n",
        "def print_value(*values, time=2):\n",
        "    for i in range(time):\n",
        "        for value in values:\n",
        "            print(f\"함수에 입력한 값 중 하나는 '{value}'이며, {i + 1}번째 출력입니다.\")\n",
        "    print(f\"총 {time}번씩 출력했습니다.\")\n",
        "\n",
        "print_value('이게 맞아?', '이게 맞아요?', '정말?')"
      ],
      "metadata": {
        "colab": {
          "base_uri": "https://localhost:8080/"
        },
        "id": "XvKxbqyat2iG",
        "outputId": "dd5c7894-cb70-40e2-d6ad-8badd22ce0c9"
      },
      "execution_count": null,
      "outputs": [
        {
          "output_type": "stream",
          "name": "stdout",
          "text": [
            "함수에 입력한 값 중 하나는 '이게 맞아?'이며, 1번째 출력입니다.\n",
            "함수에 입력한 값 중 하나는 '이게 맞아요?'이며, 1번째 출력입니다.\n",
            "함수에 입력한 값 중 하나는 '정말?'이며, 1번째 출력입니다.\n",
            "함수에 입력한 값 중 하나는 '이게 맞아?'이며, 2번째 출력입니다.\n",
            "함수에 입력한 값 중 하나는 '이게 맞아요?'이며, 2번째 출력입니다.\n",
            "함수에 입력한 값 중 하나는 '정말?'이며, 2번째 출력입니다.\n",
            "총 2번씩 출력했습니다.\n"
          ]
        }
      ]
    },
    {
      "cell_type": "markdown",
      "source": [
        "함수에 전달한 값을 정상적으로 인식했습니다. `time` 매개변수에 값을 굳이 지정하지 않더라도 미리 지정된 값을 토대로 함수가 작동합니다. 다만 기본 매개변수의 위치를 임의로 가변 매개변수 앞에 위치시키면 오류가 발생합니다."
      ],
      "metadata": {
        "id": "oQ1JPOR7uUP8"
      }
    },
    {
      "cell_type": "code",
      "source": [
        "print_value(time=2, '이게 맞아?', '이게 맞아요?', '정말?')"
      ],
      "metadata": {
        "colab": {
          "base_uri": "https://localhost:8080/",
          "height": 131
        },
        "id": "FOrWOy46uy5m",
        "outputId": "7d775560-0305-4e12-ac6f-ae232be40230"
      },
      "execution_count": null,
      "outputs": [
        {
          "output_type": "error",
          "ename": "SyntaxError",
          "evalue": "ignored",
          "traceback": [
            "\u001b[0;36m  File \u001b[0;32m\"<ipython-input-34-ed6efba2513e>\"\u001b[0;36m, line \u001b[0;32m1\u001b[0m\n\u001b[0;31m    print_value(time=2, '이게 맞아?', '이게 맞아요?', '정말?')\u001b[0m\n\u001b[0m                       ^\u001b[0m\n\u001b[0;31mSyntaxError\u001b[0m\u001b[0;31m:\u001b[0m positional argument follows keyword argument\n"
          ]
        }
      ]
    },
    {
      "cell_type": "markdown",
      "source": [
        "물론 기본 매개변수간 위치는 임의로 바꿔도 괜찮습니다. `print()` 함수로 예시하겠습니다. 기본 매개변수들의 본래 위치는 `sep=' ', end='\\n', file=sys.stdout, flush=False`입니다."
      ],
      "metadata": {
        "id": "NXSpYxQmvGPH"
      }
    },
    {
      "cell_type": "code",
      "source": [
        "print('파이썬', '참', '쉽죠?', '아니요', end='\\n', sep=' ')"
      ],
      "metadata": {
        "colab": {
          "base_uri": "https://localhost:8080/"
        },
        "id": "WjPSHhMSvSAh",
        "outputId": "2288c05b-9df0-4b86-bae1-59f0cf026775"
      },
      "execution_count": null,
      "outputs": [
        {
          "output_type": "stream",
          "name": "stdout",
          "text": [
            "파이썬 참 쉽죠? 아니요\n"
          ]
        }
      ]
    },
    {
      "cell_type": "markdown",
      "source": [
        "기본 매개변수의 순서는 임의로 바꿔도 정상적으로 작동합니다.\n",
        "\n",
        "참고로 기본 매개변수는 일반 매개변수나 가변 매개변수 앞에 절대로 위치시킬 수 없습니다. 만약 `print_value(time=2, *values)` 형식으로 함수를 선언했다면, `print_value('이게 맞아?')` 형식으로 함수를 호출할 때 기본 매개변수인 `time=2`의 값을 `time='이게 맞아?'`로 인식하게 됩니다. 이런 혼동을 피할 목적으로 일반 매개변수나 가변 매개변수의 앞에 기본 매개변수가 올 수 없도록 규제됩니다."
      ],
      "metadata": {
        "id": "v99gLhnLvrd5"
      }
    },
    {
      "cell_type": "markdown",
      "source": [
        "### **14.2.3. 키워드 매개변수**"
      ],
      "metadata": {
        "id": "sotXznUj75AA"
      }
    },
    {
      "cell_type": "markdown",
      "source": [
        "기본 매개변수에 다른 값을 지정하려면 아래 형식을 취합니다. "
      ],
      "metadata": {
        "id": "PDZYmrFs7K_v"
      }
    },
    {
      "cell_type": "code",
      "source": [
        "help(print)"
      ],
      "metadata": {
        "colab": {
          "base_uri": "https://localhost:8080/"
        },
        "id": "y95LiDaMCjOh",
        "outputId": "989dfe0c-d85b-4749-b93c-0bdecdf7945d"
      },
      "execution_count": null,
      "outputs": [
        {
          "output_type": "stream",
          "name": "stdout",
          "text": [
            "Help on built-in function print in module builtins:\n",
            "\n",
            "print(...)\n",
            "    print(value, ..., sep=' ', end='\\n', file=sys.stdout, flush=False)\n",
            "    \n",
            "    Prints the values to a stream, or to sys.stdout by default.\n",
            "    Optional keyword arguments:\n",
            "    file:  a file-like object (stream); defaults to the current sys.stdout.\n",
            "    sep:   string inserted between values, default a space.\n",
            "    end:   string appended after the last value, default a newline.\n",
            "    flush: whether to forcibly flush the stream.\n",
            "\n"
          ]
        }
      ]
    },
    {
      "cell_type": "code",
      "source": [
        "print('파이썬', '참', '쉽죠?', '생각보단 아니요', sep='..', end='!!')"
      ],
      "metadata": {
        "colab": {
          "base_uri": "https://localhost:8080/"
        },
        "id": "f7tvyL6p8Qoj",
        "outputId": "e14521e2-118c-4e04-ef61-96dd5c02909e"
      },
      "execution_count": null,
      "outputs": [
        {
          "output_type": "stream",
          "name": "stdout",
          "text": [
            "파이썬..참..쉽죠?..생각보단 아니요!!"
          ]
        }
      ]
    },
    {
      "cell_type": "markdown",
      "source": [
        "이렇게 기본 매개변수들을 활용하여 매개변수명과 값을 직접 지정한 것을 **키워드 매개변수**라고 합니다. 물론 일반 매개변수도 키워드 매개변수로 지정할 수 있습니다. 예시를 위해 간단한 함수 하나를 선언하겠습니다."
      ],
      "metadata": {
        "id": "eMR8LNMx7QkL"
      }
    },
    {
      "cell_type": "code",
      "source": [
        "# `value`는 일반 매개변수, `who='너'`와 `time=2`는 기본 매개변수입니다.\n",
        "def is_it_easy(value, who='너', time=2):\n",
        "    for i in range(time):\n",
        "        print(f'\\'{who}\\'에게 \\\"{value}\\\" 라고 {i + 1}번째 물었다.')"
      ],
      "metadata": {
        "id": "faGVg20T8oZ1"
      },
      "execution_count": null,
      "outputs": []
    },
    {
      "cell_type": "markdown",
      "source": [
        "기본 매개변수인 `who='너'`와 `time=2`를 키워드 매개변수로 바꿔서 지정하겠습니다. "
      ],
      "metadata": {
        "id": "dCW47py1AdvS"
      }
    },
    {
      "cell_type": "code",
      "source": [
        "is_it_easy('파이썬 참 쉽죠?', who='나 스스로', time=4)"
      ],
      "metadata": {
        "colab": {
          "base_uri": "https://localhost:8080/"
        },
        "id": "K1RzvKiR_G5g",
        "outputId": "6c87bfd1-4bb9-48f3-f549-b372725956db"
      },
      "execution_count": null,
      "outputs": [
        {
          "output_type": "stream",
          "name": "stdout",
          "text": [
            "'나 스스로'에게 \"파이썬 참 쉽죠?\" 라고 1번째 물었다.\n",
            "'나 스스로'에게 \"파이썬 참 쉽죠?\" 라고 2번째 물었다.\n",
            "'나 스스로'에게 \"파이썬 참 쉽죠?\" 라고 3번째 물었다.\n",
            "'나 스스로'에게 \"파이썬 참 쉽죠?\" 라고 4번째 물었다.\n"
          ]
        }
      ]
    },
    {
      "cell_type": "markdown",
      "source": [
        "일반 매개변수인 `value`를 키워드 매개변수로 지정할 수 있습니다."
      ],
      "metadata": {
        "id": "f9vrQNm2AtHZ"
      }
    },
    {
      "cell_type": "code",
      "source": [
        "is_it_easy(value='파이썬 참 쉽죠?', time=3)"
      ],
      "metadata": {
        "colab": {
          "base_uri": "https://localhost:8080/"
        },
        "id": "I3LhH_KpAHlP",
        "outputId": "122e2f0b-90d8-4e0d-d8ba-4790650486f9"
      },
      "execution_count": null,
      "outputs": [
        {
          "output_type": "stream",
          "name": "stdout",
          "text": [
            "'너'에게 \"파이썬 참 쉽죠?\" 라고 1번째 물었다.\n",
            "'너'에게 \"파이썬 참 쉽죠?\" 라고 2번째 물었다.\n",
            "'너'에게 \"파이썬 참 쉽죠?\" 라고 3번째 물었다.\n"
          ]
        }
      ]
    },
    {
      "cell_type": "markdown",
      "source": [
        "매개변수 3개 모두 키워드 매개변수로 지정하면 순서를 바꿔도 문제가 없습니다."
      ],
      "metadata": {
        "id": "JGWf8qCaBDLV"
      }
    },
    {
      "cell_type": "code",
      "source": [
        "is_it_easy(who='비전공자들', value='파이썬 참 쉽죠?', time=5)"
      ],
      "metadata": {
        "colab": {
          "base_uri": "https://localhost:8080/"
        },
        "id": "Ym7sk_0nBGby",
        "outputId": "2d580ca6-38d4-44de-96ff-f8c672151113"
      },
      "execution_count": null,
      "outputs": [
        {
          "output_type": "stream",
          "name": "stdout",
          "text": [
            "'비전공자들'에게 \"파이썬 참 쉽죠?\" 라고 1번째 물었다.\n",
            "'비전공자들'에게 \"파이썬 참 쉽죠?\" 라고 2번째 물었다.\n",
            "'비전공자들'에게 \"파이썬 참 쉽죠?\" 라고 3번째 물었다.\n",
            "'비전공자들'에게 \"파이썬 참 쉽죠?\" 라고 4번째 물었다.\n",
            "'비전공자들'에게 \"파이썬 참 쉽죠?\" 라고 5번째 물었다.\n"
          ]
        }
      ]
    },
    {
      "cell_type": "markdown",
      "source": [
        "다만 일반 매개변수인 `value`를 키워드 매개변수로 지정하지 않으면 매개변수 위치를 바꿨을 때 오류가 발생합니다."
      ],
      "metadata": {
        "id": "bGynTajsDFH-"
      }
    },
    {
      "cell_type": "code",
      "source": [
        "is_it_easy(who='나', '파이썬 참 쉽죠?', time=3)"
      ],
      "metadata": {
        "colab": {
          "base_uri": "https://localhost:8080/",
          "height": 131
        },
        "id": "zf3a9DsYA8m0",
        "outputId": "db5d19a7-2898-4291-ddb6-e42c1eed853e"
      },
      "execution_count": null,
      "outputs": [
        {
          "output_type": "error",
          "ename": "SyntaxError",
          "evalue": "ignored",
          "traceback": [
            "\u001b[0;36m  File \u001b[0;32m\"<ipython-input-108-c37cb43e982b>\"\u001b[0;36m, line \u001b[0;32m1\u001b[0m\n\u001b[0;31m    is_it_easy(who='나', '파이썬 참 쉽죠?', time=3)\u001b[0m\n\u001b[0m                         ^\u001b[0m\n\u001b[0;31mSyntaxError\u001b[0m\u001b[0;31m:\u001b[0m positional argument follows keyword argument\n"
          ]
        }
      ]
    },
    {
      "cell_type": "markdown",
      "source": [
        "## **14.3. 리턴**"
      ],
      "metadata": {
        "id": "GcbCrXelTyAr"
      }
    },
    {
      "cell_type": "markdown",
      "source": [
        "함수 내에 선언할 수 있는 **리턴(return)**은 함수를 끝내는 위치를 의미합니다. 함수를 끝내고 함수의 처음 위치로 되돌아가라는 의미이기도 합니다.\n",
        "\n",
        "임의의 함수를 선언하겠습니다."
      ],
      "metadata": {
        "id": "93uhGOzgifVk"
      }
    },
    {
      "cell_type": "code",
      "source": [
        "def my_return_func():\n",
        "    print('여기까지만 출력합니다.')\n",
        "    return\n",
        "    print('출력되지 않는 부분입니다.')"
      ],
      "metadata": {
        "id": "hVKnqk_Ji7jf"
      },
      "execution_count": null,
      "outputs": []
    },
    {
      "cell_type": "code",
      "source": [
        "my_return_func()"
      ],
      "metadata": {
        "colab": {
          "base_uri": "https://localhost:8080/"
        },
        "id": "qXDrJbgpjZLT",
        "outputId": "f49f1966-7bd6-4878-f70d-5691440fee08"
      },
      "execution_count": null,
      "outputs": [
        {
          "output_type": "stream",
          "name": "stdout",
          "text": [
            "여기까지만 출력합니다.\n"
          ]
        }
      ]
    },
    {
      "cell_type": "markdown",
      "source": [
        "중간에 `return`이 있으므로 '여기까지만 출력합니다.'만 출력하고 함수를 종료했습니다. 이렇게 함수를 호출하여 최종적으로 도출한 결괏값을 **리턴값(return value)**라고 부릅니다.\n",
        "\n",
        "`return` 뒤(오른쪽)에 자료가 위치해있다면 해당 자료를 출력하고 함수를 종료합니다."
      ],
      "metadata": {
        "id": "Yp20e_a_jfMp"
      }
    },
    {
      "cell_type": "code",
      "source": [
        "def my_return_func():\n",
        "    print('여기까지만 출력합니다.')\n",
        "    return 680932\n",
        "    print('출력되지 않는 부분입니다.')"
      ],
      "metadata": {
        "id": "xygi8uEgk9Vg"
      },
      "execution_count": null,
      "outputs": []
    },
    {
      "cell_type": "code",
      "source": [
        "my_return_func()"
      ],
      "metadata": {
        "colab": {
          "base_uri": "https://localhost:8080/"
        },
        "id": "W-JAX1BplD_6",
        "outputId": "972e20a1-74fb-493d-eeff-26ad4230bac0"
      },
      "execution_count": null,
      "outputs": [
        {
          "output_type": "stream",
          "name": "stdout",
          "text": [
            "여기까지만 출력합니다.\n"
          ]
        },
        {
          "output_type": "execute_result",
          "data": {
            "text/plain": [
              "680932"
            ]
          },
          "metadata": {},
          "execution_count": 6
        }
      ]
    },
    {
      "cell_type": "markdown",
      "source": [
        "`return` 뒤가 공백이면(자료가 없으면) 아무것도 출력하지 않습니다. 이는 `None`과 같으며 리턴값이 없다는 것을 의미합니다."
      ],
      "metadata": {
        "id": "YmHkCS9bliKx"
      }
    },
    {
      "cell_type": "code",
      "source": [
        "def my_return_func():\n",
        "    return"
      ],
      "metadata": {
        "id": "iEWD7BkAlZqz"
      },
      "execution_count": null,
      "outputs": []
    },
    {
      "cell_type": "code",
      "source": [
        "my_return_func()"
      ],
      "metadata": {
        "id": "T4nC5V9Vldxj"
      },
      "execution_count": null,
      "outputs": []
    },
    {
      "cell_type": "code",
      "source": [
        "print(my_return_func())"
      ],
      "metadata": {
        "colab": {
          "base_uri": "https://localhost:8080/"
        },
        "id": "zaZ7Wg2mZA8X",
        "outputId": "606a24c3-7f04-40b6-abd9-b2875cfda1b4"
      },
      "execution_count": null,
      "outputs": [
        {
          "output_type": "stream",
          "name": "stdout",
          "text": [
            "None\n"
          ]
        }
      ]
    },
    {
      "cell_type": "markdown",
      "source": [
        "예시를 위해 시작 숫자부터 끝 숫자까지 더하는 함수를 선언하겠습니다."
      ],
      "metadata": {
        "id": "PBzU1EazbvIP"
      }
    },
    {
      "cell_type": "code",
      "source": [
        "def total_sum(start, end, step):\n",
        "    total = 0\n",
        "    for i in range(start, end + 1, step):\n",
        "        total += i\n",
        "    return total"
      ],
      "metadata": {
        "id": "1s-56OZvZdw-"
      },
      "execution_count": null,
      "outputs": []
    },
    {
      "cell_type": "markdown",
      "source": [
        "100까지 전부 더하겠습니다."
      ],
      "metadata": {
        "id": "w7xj-nd7cFgF"
      }
    },
    {
      "cell_type": "code",
      "source": [
        "total_sum(0, 100, 1)"
      ],
      "metadata": {
        "colab": {
          "base_uri": "https://localhost:8080/"
        },
        "id": "J-jhZ_vVapB_",
        "outputId": "7b4fd533-cef9-4ecc-9aaf-455f8ea73c18"
      },
      "execution_count": null,
      "outputs": [
        {
          "output_type": "execute_result",
          "data": {
            "text/plain": [
              "5050"
            ]
          },
          "metadata": {},
          "execution_count": 36
        }
      ]
    },
    {
      "cell_type": "markdown",
      "source": [
        "50부터 500까지 5씩 간격을 두고 전부 더하겠습니다."
      ],
      "metadata": {
        "id": "OcXlOZ_vcHEm"
      }
    },
    {
      "cell_type": "code",
      "source": [
        "total_sum(50, 500, 5)"
      ],
      "metadata": {
        "colab": {
          "base_uri": "https://localhost:8080/"
        },
        "id": "n8qfZarOaqke",
        "outputId": "82a4755e-7043-4aa1-e413-ffb7685f2420"
      },
      "execution_count": null,
      "outputs": [
        {
          "output_type": "execute_result",
          "data": {
            "text/plain": [
              "25025"
            ]
          },
          "metadata": {},
          "execution_count": 38
        }
      ]
    },
    {
      "cell_type": "markdown",
      "source": [
        "이번에는 기본 매개변수를 지정하여 시작 숫자부터 끝 숫자까지 더하는 함수를 선언하겠습니다."
      ],
      "metadata": {
        "id": "VUZ9Rq9FcLxS"
      }
    },
    {
      "cell_type": "code",
      "source": [
        "def total_sum_step(start=0, end=1000, step=2):\n",
        "    total = 0\n",
        "    for i in range(start, end + 1, step):\n",
        "        total += i\n",
        "    return total"
      ],
      "metadata": {
        "id": "WC9dXGR8aUXc"
      },
      "execution_count": null,
      "outputs": []
    },
    {
      "cell_type": "markdown",
      "source": [
        "기본 매개변수만으로 함수를 호출하겠습니다."
      ],
      "metadata": {
        "id": "mor5NyC-cVYi"
      }
    },
    {
      "cell_type": "code",
      "source": [
        "total_sum_step()"
      ],
      "metadata": {
        "colab": {
          "base_uri": "https://localhost:8080/"
        },
        "id": "SnC2ABG2a1cV",
        "outputId": "80d452f3-33aa-4416-f33b-4740ca69e53c"
      },
      "execution_count": null,
      "outputs": [
        {
          "output_type": "execute_result",
          "data": {
            "text/plain": [
              "250500"
            ]
          },
          "metadata": {},
          "execution_count": 27
        }
      ]
    },
    {
      "cell_type": "markdown",
      "source": [
        "기본 매개변수에 순서대로 값을 지정하여 매개변수를 조정하겠습니다."
      ],
      "metadata": {
        "id": "kA0L3wFec9a4"
      }
    },
    {
      "cell_type": "code",
      "source": [
        "total_sum_step(0, 100, 1)"
      ],
      "metadata": {
        "colab": {
          "base_uri": "https://localhost:8080/"
        },
        "id": "Lf7_6yoNbgcr",
        "outputId": "e8080ddd-8bab-4f1f-c13e-296c307d09eb"
      },
      "execution_count": null,
      "outputs": [
        {
          "output_type": "execute_result",
          "data": {
            "text/plain": [
              "5050"
            ]
          },
          "metadata": {},
          "execution_count": 28
        }
      ]
    },
    {
      "cell_type": "markdown",
      "source": [
        "기본 매개변수 하나만 키워드 매개변수로 조정하겠습니다."
      ],
      "metadata": {
        "id": "inXGPED0dGAt"
      }
    },
    {
      "cell_type": "code",
      "source": [
        "total_sum_step(end=2000)"
      ],
      "metadata": {
        "colab": {
          "base_uri": "https://localhost:8080/"
        },
        "id": "_AZTaEphblBc",
        "outputId": "4153ebaf-1454-4f90-a278-a35a4997c734"
      },
      "execution_count": null,
      "outputs": [
        {
          "output_type": "execute_result",
          "data": {
            "text/plain": [
              "1001000"
            ]
          },
          "metadata": {},
          "execution_count": 29
        }
      ]
    },
    {
      "cell_type": "markdown",
      "source": [
        "기본 매개변수 둘을 키워드 매개변수로 조정하겠습니다."
      ],
      "metadata": {
        "id": "wD-typKOdJzW"
      }
    },
    {
      "cell_type": "code",
      "source": [
        "total_sum_step(end=2000, step=5)"
      ],
      "metadata": {
        "colab": {
          "base_uri": "https://localhost:8080/"
        },
        "id": "t-Ixuf_BboNl",
        "outputId": "a274eb49-4dcd-48f9-efab-d457fbd3a194"
      },
      "execution_count": null,
      "outputs": [
        {
          "output_type": "execute_result",
          "data": {
            "text/plain": [
              "401000"
            ]
          },
          "metadata": {},
          "execution_count": 30
        }
      ]
    },
    {
      "cell_type": "markdown",
      "source": [
        "이번에는 가변 매개변수를 받아서 전체 값을 곱하는 함수를 선언하겠습니다."
      ],
      "metadata": {
        "id": "DZ5w4zRhl8Yl"
      }
    },
    {
      "cell_type": "code",
      "source": [
        "def total_mul(*values):\n",
        "    total = 1\n",
        "    for value in values:\n",
        "        total *= value\n",
        "    return total"
      ],
      "metadata": {
        "id": "DVsku2_ZmE4u"
      },
      "execution_count": null,
      "outputs": []
    },
    {
      "cell_type": "markdown",
      "source": [
        "1부터 10까지 모든 값을 곱하겠습니다."
      ],
      "metadata": {
        "id": "gKKx4jNSoDMk"
      }
    },
    {
      "cell_type": "code",
      "source": [
        "total_mul(1, 2, 3, 4, 5, 6, 7, 8, 9, 10)"
      ],
      "metadata": {
        "colab": {
          "base_uri": "https://localhost:8080/"
        },
        "id": "HcjrN9UWmjSc",
        "outputId": "0bcdf8ca-73e5-41f7-8af3-e62bc58776bd"
      },
      "execution_count": null,
      "outputs": [
        {
          "output_type": "execute_result",
          "data": {
            "text/plain": [
              "3628800"
            ]
          },
          "metadata": {},
          "execution_count": 41
        }
      ]
    },
    {
      "cell_type": "markdown",
      "source": [
        "1부터 10까지 곱하는 것은 팩토리얼인 $10!$과 같습니다. 팩토리얼을 구하는 함수를 새로 선언하여 계산하겠습니다."
      ],
      "metadata": {
        "id": "Tp594tVhofAx"
      }
    },
    {
      "cell_type": "code",
      "source": [
        "def factorial(num):\n",
        "    total = 1\n",
        "    for i in range(1, num + 1, 1):    # 1부터 num까지 반복합니다.\n",
        "        total *= i\n",
        "    return total"
      ],
      "metadata": {
        "id": "3A8JHwbaoISu"
      },
      "execution_count": null,
      "outputs": []
    },
    {
      "cell_type": "code",
      "source": [
        "factorial(10)"
      ],
      "metadata": {
        "colab": {
          "base_uri": "https://localhost:8080/"
        },
        "id": "0WQ0DJ-VoXde",
        "outputId": "8ee9879f-95d0-4320-f984-3c156901c52a"
      },
      "execution_count": null,
      "outputs": [
        {
          "output_type": "execute_result",
          "data": {
            "text/plain": [
              "3628800"
            ]
          },
          "metadata": {},
          "execution_count": 47
        }
      ]
    },
    {
      "cell_type": "markdown",
      "source": [
        "재귀함수를 사용한다면 아래처럼 함수를 선언할 수도 있습니다."
      ],
      "metadata": {
        "id": "8kxAzgNZpaXq"
      }
    },
    {
      "cell_type": "code",
      "source": [
        "def factorial(num):\n",
        "    # `num`이 0이면 1을 출력합니다.\n",
        "    if num == 0:\n",
        "        return 1\n",
        "    # `num`이 0이 아니면 재귀 표현인 num * (num - 1)을 취합니다.\n",
        "    else:\n",
        "        return num * factorial(num - 1)"
      ],
      "metadata": {
        "id": "HAQsuiLjpfXn"
      },
      "execution_count": null,
      "outputs": []
    },
    {
      "cell_type": "code",
      "source": [
        "factorial(10)"
      ],
      "metadata": {
        "colab": {
          "base_uri": "https://localhost:8080/"
        },
        "id": "EdmIBj1Xp0HA",
        "outputId": "b4cd8a92-bf3a-4b80-e58c-81ffb5459dfd"
      },
      "execution_count": null,
      "outputs": [
        {
          "output_type": "execute_result",
          "data": {
            "text/plain": [
              "3628800"
            ]
          },
          "metadata": {},
          "execution_count": 49
        }
      ]
    },
    {
      "cell_type": "markdown",
      "source": [
        "이번에는 파보나치 수를 구하는 함수를 선언하겠습니다. 파보나치 수열은 계산 횟수가 점점 많아지게 되므로 컴퓨터의 처리 시간이 오래 걸립니다."
      ],
      "metadata": {
        "id": "uge7yENleEjX"
      }
    },
    {
      "cell_type": "code",
      "source": [
        "def fibonacci(num):\n",
        "    if num == 1:\n",
        "        return 1\n",
        "    if num == 2:\n",
        "        return 2\n",
        "    else:\n",
        "        return fibonacci(num - 1) + fibonacci(num - 2)"
      ],
      "metadata": {
        "id": "cL_AVXYfOuBV"
      },
      "execution_count": null,
      "outputs": []
    },
    {
      "cell_type": "markdown",
      "source": [
        "30번째 파보나치 수를 구하겠습니다."
      ],
      "metadata": {
        "id": "uGnDpHwMenga"
      }
    },
    {
      "cell_type": "code",
      "source": [
        "fibonacci(30)"
      ],
      "metadata": {
        "colab": {
          "base_uri": "https://localhost:8080/"
        },
        "id": "krPKwNzIO_2V",
        "outputId": "590d8523-407f-4160-fd3f-9f072cfa8555"
      },
      "execution_count": null,
      "outputs": [
        {
          "output_type": "execute_result",
          "data": {
            "text/plain": [
              "1346269"
            ]
          },
          "metadata": {},
          "execution_count": 13
        }
      ]
    },
    {
      "cell_type": "markdown",
      "source": [
        "파보나치 수를 구하는 함수는 아래 전역 변수와 지역 변수 파트에서 추가로 설명하겠습니다."
      ],
      "metadata": {
        "id": "S_ospJwletUG"
      }
    },
    {
      "cell_type": "markdown",
      "metadata": {
        "id": "zcHdi-c0cv15"
      },
      "source": [
        "## **14.4. 전역 변수와 지역 변수**"
      ]
    },
    {
      "cell_type": "markdown",
      "metadata": {
        "id": "-6JZ51-vc4TF"
      },
      "source": [
        "**전역 변수(global variable)**는 전체 코드에서 사용할 수 있는 코드이고, **지역 변수(local variable)**는 함수가 호출될 때만 사용할 수 있는 코드입니다.\n",
        "\n",
        "아래 코드로 설명합니다."
      ]
    },
    {
      "cell_type": "code",
      "metadata": {
        "id": "DqN3XuOydZ7f"
      },
      "source": [
        "# 전역 변수입니다 .\n",
        "a = 11\n",
        "\n",
        "def function1():\n",
        "    # 지역 변수입니다. function1() 함수에만 적용되는 변수입니다.\n",
        "    a = 55\n",
        "    print(f'`function1` 함수의 지역 변수는 a = {a}입니다.')\n",
        "\n",
        "def function2():\n",
        "    # 지역 변수를 지정하지 않으면 전역 변수가 적용됩니다.\n",
        "    print(f'`function2` 함수의 전역 변수는 a = {a}입니다.')\n",
        "\n",
        "# 이 함수를 호출하면 전역 변수가 변경됩니다.\n",
        "def function3():\n",
        "    # 기존에 지정된 전역 변수를 `global 전역변수명`으로 선언해서 변경합니다.\n",
        "    global a\n",
        "    a = 77\n",
        "    print(f'`function3` 함수의 전역 변수는 a = {a}입니다.')"
      ],
      "execution_count": null,
      "outputs": []
    },
    {
      "cell_type": "code",
      "metadata": {
        "id": "YMdSf3DGFEn_",
        "colab": {
          "base_uri": "https://localhost:8080/"
        },
        "outputId": "7279de17-fac1-4fb0-db42-045f573b04ab"
      },
      "source": [
        "function1()\n",
        "function2()\n",
        "print(f'전역 변수는 a = {a}')"
      ],
      "execution_count": null,
      "outputs": [
        {
          "output_type": "stream",
          "name": "stdout",
          "text": [
            "`function1` 함수의 지역 변수는 a = 55입니다.\n",
            "`function2` 함수의 전역 변수는 a = 11입니다.\n",
            "전역 변수는 a = 11\n"
          ]
        }
      ]
    },
    {
      "cell_type": "code",
      "metadata": {
        "id": "u3nzLeRSHPCI",
        "colab": {
          "base_uri": "https://localhost:8080/"
        },
        "outputId": "1451cb65-8202-41a6-c1c4-daf5e01dba3c"
      },
      "source": [
        "function3()\n",
        "print(f'`function3` 함수로 변경된 전역 변수는 a = {a}입니다.')\n",
        "function2()"
      ],
      "execution_count": null,
      "outputs": [
        {
          "output_type": "stream",
          "name": "stdout",
          "text": [
            "`function3` 함수의 전역 변수는 a = 77입니다.\n",
            "`function3` 함수로 변경된 전역 변수는 a = 77입니다.\n",
            "`function2` 함수의 전역 변수는 a = 77입니다.\n"
          ]
        }
      ]
    },
    {
      "cell_type": "markdown",
      "source": [
        "전 파트에서 파보나치 수를 구하는 함수를 가져오겠습니다. 추가할 점이라면 전역 변수로 `count`를 선언하고, 함수 내에서 기존에 존재하는 전역 변수 `count`를 `global count`로 선언하여 전역 변수로 변환하겠습니다."
      ],
      "metadata": {
        "id": "FH5Vw6hm7C3G"
      }
    },
    {
      "cell_type": "code",
      "source": [
        "count = 0\n",
        "\n",
        "def fibonacci(num):\n",
        "    print(f'{num}번째 파보나치 수를 구합니다.')\n",
        "    global count\n",
        "    count += 1\n",
        "    if num == 1:\n",
        "        return 1\n",
        "    if num == 2:\n",
        "        return 2\n",
        "    else:\n",
        "        return fibonacci(num - 1) + fibonacci(num - 2)"
      ],
      "metadata": {
        "id": "Cy4iJ4X6Pg8Q"
      },
      "execution_count": null,
      "outputs": []
    },
    {
      "cell_type": "code",
      "source": [
        "print(f'{fibonacci(7)}입니다.')\n",
        "print(f'{count}번 더했습니다.')"
      ],
      "metadata": {
        "colab": {
          "base_uri": "https://localhost:8080/"
        },
        "id": "D8SAud_iQELv",
        "outputId": "300d3dc6-b662-4561-ba9b-71765f55b46c"
      },
      "execution_count": null,
      "outputs": [
        {
          "output_type": "stream",
          "name": "stdout",
          "text": [
            "7번째 파보나치 수를 구합니다.\n",
            "6번째 파보나치 수를 구합니다.\n",
            "5번째 파보나치 수를 구합니다.\n",
            "4번째 파보나치 수를 구합니다.\n",
            "3번째 파보나치 수를 구합니다.\n",
            "2번째 파보나치 수를 구합니다.\n",
            "1번째 파보나치 수를 구합니다.\n",
            "2번째 파보나치 수를 구합니다.\n",
            "3번째 파보나치 수를 구합니다.\n",
            "2번째 파보나치 수를 구합니다.\n",
            "1번째 파보나치 수를 구합니다.\n",
            "4번째 파보나치 수를 구합니다.\n",
            "3번째 파보나치 수를 구합니다.\n",
            "2번째 파보나치 수를 구합니다.\n",
            "1번째 파보나치 수를 구합니다.\n",
            "2번째 파보나치 수를 구합니다.\n",
            "5번째 파보나치 수를 구합니다.\n",
            "4번째 파보나치 수를 구합니다.\n",
            "3번째 파보나치 수를 구합니다.\n",
            "2번째 파보나치 수를 구합니다.\n",
            "1번째 파보나치 수를 구합니다.\n",
            "2번째 파보나치 수를 구합니다.\n",
            "3번째 파보나치 수를 구합니다.\n",
            "2번째 파보나치 수를 구합니다.\n",
            "1번째 파보나치 수를 구합니다.\n",
            "21입니다.\n",
            "25번 더했습니다.\n"
          ]
        }
      ]
    },
    {
      "cell_type": "markdown",
      "source": [
        "만약 젼역 변수인 `count`를 `global count`로 바꾸지 않는다면 아래와 같은 오류를 출력합니다."
      ],
      "metadata": {
        "id": "AZ0fKWrH8XsA"
      }
    },
    {
      "cell_type": "code",
      "source": [
        "count = 0\n",
        "\n",
        "def fibonacci(num):\n",
        "    print(f'{num}번째 파보나치 수를 구합니다.')\n",
        "    # global count\n",
        "    count += 1\n",
        "    if num == 1:\n",
        "        return 1\n",
        "    if num == 2:\n",
        "        return 2\n",
        "    else:\n",
        "        return fibonacci(num - 1) + fibonacci(num - 2)"
      ],
      "metadata": {
        "id": "hRqQCluZ8YhS"
      },
      "execution_count": null,
      "outputs": []
    },
    {
      "cell_type": "code",
      "source": [
        "print(f'{fibonacci(7)}입니다.')\n",
        "print(f'{count}번 더했습니다.')"
      ],
      "metadata": {
        "colab": {
          "base_uri": "https://localhost:8080/",
          "height": 321
        },
        "id": "upDzKJez8e1k",
        "outputId": "06955bf0-e54a-45e5-91af-786f2f211d0f"
      },
      "execution_count": null,
      "outputs": [
        {
          "output_type": "stream",
          "name": "stdout",
          "text": [
            "7번째 파보나치 수를 구합니다.\n"
          ]
        },
        {
          "output_type": "error",
          "ename": "UnboundLocalError",
          "evalue": "ignored",
          "traceback": [
            "\u001b[0;31m---------------------------------------------------------------------------\u001b[0m",
            "\u001b[0;31mUnboundLocalError\u001b[0m                         Traceback (most recent call last)",
            "\u001b[0;32m<ipython-input-8-34295c79f5f0>\u001b[0m in \u001b[0;36m<module>\u001b[0;34m()\u001b[0m\n\u001b[0;32m----> 1\u001b[0;31m \u001b[0mprint\u001b[0m\u001b[0;34m(\u001b[0m\u001b[0;34mf'{fibonacci(7)}입니다.'\u001b[0m\u001b[0;34m)\u001b[0m\u001b[0;34m\u001b[0m\u001b[0;34m\u001b[0m\u001b[0m\n\u001b[0m\u001b[1;32m      2\u001b[0m \u001b[0mprint\u001b[0m\u001b[0;34m(\u001b[0m\u001b[0;34mf'{count}번 더했습니다.'\u001b[0m\u001b[0;34m)\u001b[0m\u001b[0;34m\u001b[0m\u001b[0;34m\u001b[0m\u001b[0m\n",
            "\u001b[0;32m<ipython-input-7-8229a657c2f4>\u001b[0m in \u001b[0;36mfibonacci\u001b[0;34m(num)\u001b[0m\n\u001b[1;32m      4\u001b[0m     \u001b[0mprint\u001b[0m\u001b[0;34m(\u001b[0m\u001b[0;34mf'{num}번째 파보나치 수를 구합니다.'\u001b[0m\u001b[0;34m)\u001b[0m\u001b[0;34m\u001b[0m\u001b[0;34m\u001b[0m\u001b[0m\n\u001b[1;32m      5\u001b[0m     \u001b[0;31m# global count\u001b[0m\u001b[0;34m\u001b[0m\u001b[0;34m\u001b[0m\u001b[0;34m\u001b[0m\u001b[0m\n\u001b[0;32m----> 6\u001b[0;31m     \u001b[0mcount\u001b[0m \u001b[0;34m+=\u001b[0m \u001b[0;36m1\u001b[0m\u001b[0;34m\u001b[0m\u001b[0;34m\u001b[0m\u001b[0m\n\u001b[0m\u001b[1;32m      7\u001b[0m     \u001b[0;32mif\u001b[0m \u001b[0mnum\u001b[0m \u001b[0;34m==\u001b[0m \u001b[0;36m1\u001b[0m\u001b[0;34m:\u001b[0m\u001b[0;34m\u001b[0m\u001b[0;34m\u001b[0m\u001b[0m\n\u001b[1;32m      8\u001b[0m         \u001b[0;32mreturn\u001b[0m \u001b[0;36m1\u001b[0m\u001b[0;34m\u001b[0m\u001b[0;34m\u001b[0m\u001b[0m\n",
            "\u001b[0;31mUnboundLocalError\u001b[0m: local variable 'count' referenced before assignment"
          ]
        }
      ]
    },
    {
      "cell_type": "markdown",
      "source": [
        "'할당 전에 참조된 지역 변수 `count`'라는 오류 메시지가 출력됐습니다. 이 오류 메시지에서 알 수 있듯이 함수 내에서는 전역 변수를 참조(전역 변수에 접근)할 수 없습니다. 함수 내에서 전역 변수를 참조하려면 반드시 `global count`로 선언하여 `count`가 전역 변수라는 점을 강조해야 합니다."
      ],
      "metadata": {
        "id": "MQHTibGd9FjA"
      }
    },
    {
      "cell_type": "markdown",
      "source": [
        "## **14.5. 메모**"
      ],
      "metadata": {
        "id": "WzTs1MVaDBTY"
      }
    },
    {
      "cell_type": "markdown",
      "source": [
        "먼저 새로운 함수를 선언하겠습니다. 파보나치 수를 구하는 함수이지만 위에서 예시했던 함수와는 다른 형태입니다."
      ],
      "metadata": {
        "id": "sOMmBoa2DIbg"
      }
    },
    {
      "cell_type": "code",
      "source": [
        "dict = {1: 1, 2: 1}\n",
        "\n",
        "def fibonacci(num):\n",
        "    # 딕셔너리에 숫자가 있다면 그대로 리턴합니다.\n",
        "    if num in dict:\n",
        "        return dict[num]\n",
        "    # 딕셔너리에 숫자가 없다면 파보나치 공식을 취합니다.\n",
        "    else:\n",
        "        total = fibonacci(num - 1) + fibonacci(num - 2)\n",
        "        dict[num] = total\n",
        "        return dict[num]"
      ],
      "metadata": {
        "id": "dEe9L9ZCDSr5"
      },
      "execution_count": null,
      "outputs": []
    },
    {
      "cell_type": "code",
      "source": [
        "fibonacci(100)"
      ],
      "metadata": {
        "colab": {
          "base_uri": "https://localhost:8080/"
        },
        "id": "X_OnIK7eE22f",
        "outputId": "79bc58b0-37a8-4866-ead2-925ddb7b8d55"
      },
      "execution_count": null,
      "outputs": [
        {
          "output_type": "execute_result",
          "data": {
            "text/plain": [
              "354224848179261915075"
            ]
          },
          "metadata": {},
          "execution_count": 28
        }
      ]
    },
    {
      "cell_type": "markdown",
      "source": [
        "한 번 계산한 값을 딕셔너리에 저장(**메모**)하면서 연산을 이어가는 함수입니다. **메모화**는 memoization을 의미합니다. 이전에 선언했던 파보나치 수를 구하는 함수는 100까지 구할 때 계산 속도가 매우 느렸지만, 위 함수는 반복적인 연산을 줄이고 한 번만 계산하도록 값을 메모한 덕분에 계산 속도가 매우 빨라졌습니다.\n",
        "\n",
        "참고로 **조기 리턴(early returns)** 방식으로 작성할 수도 있습니다. 들여쓰기를 줄이고자 사용하는 방법입니다."
      ],
      "metadata": {
        "id": "9Bnu0LEGGYT2"
      }
    },
    {
      "cell_type": "code",
      "source": [
        "dict = {1: 1, 2: 1}\n",
        "\n",
        "def fibonacci(num):\n",
        "    if num in dict:\n",
        "        return dict[num]\n",
        "    # `else`를 제거했습니다.\n",
        "    total = fibonacci(num - 1) + fibonacci(num - 2)\n",
        "    dict[num] = total\n",
        "    return dict[num]"
      ],
      "metadata": {
        "id": "Y0SF_OvuKdHs"
      },
      "execution_count": null,
      "outputs": []
    },
    {
      "cell_type": "markdown",
      "metadata": {
        "id": "WCxQrO7OIPgB"
      },
      "source": [
        "## **14.6. 람다**"
      ]
    },
    {
      "cell_type": "markdown",
      "source": [
        "**람다**를 설명하기 전에 먼저 함수를 5번 실행하는 함수를 선언하고 임의의 함수를 매개변수로 전달하겠습니다. 프로그래밍에서 자주 사용하는 방식입니다."
      ],
      "metadata": {
        "id": "BP5RwJUNhPby"
      }
    },
    {
      "cell_type": "code",
      "source": [
        "def func_call_5(func):\n",
        "    for i in range(5):\n",
        "        func()\n",
        "\n",
        "def what():\n",
        "    print('뭐라고?')"
      ],
      "metadata": {
        "id": "T4O-7zZ8hdsq"
      },
      "execution_count": null,
      "outputs": []
    },
    {
      "cell_type": "code",
      "source": [
        "func_call_5(what)"
      ],
      "metadata": {
        "colab": {
          "base_uri": "https://localhost:8080/"
        },
        "id": "DWkh7c0Bhrlt",
        "outputId": "58eb599c-30c1-4454-9747-b2954a5c66e4"
      },
      "execution_count": null,
      "outputs": [
        {
          "output_type": "stream",
          "name": "stdout",
          "text": [
            "뭐라고?\n",
            "뭐라고?\n",
            "뭐라고?\n",
            "뭐라고?\n",
            "뭐라고?\n"
          ]
        }
      ]
    },
    {
      "cell_type": "markdown",
      "source": [
        "`func_call_5` 함수에 함수를 전달하면 5번 실행됩니다. 이렇게 매개변수로 함수를 전달하는 함수 중에 `filter()` 함수와 `map()` 함수가 있습니다. \n",
        "\n",
        "먼저 `filter(함수, 리스트)`는 리스트의 원소를 함수에 넣고 `True`에 해당하는 값을 리턴합니다."
      ],
      "metadata": {
        "id": "Uz4ugRiUjcst"
      }
    },
    {
      "cell_type": "code",
      "source": [
        "def up_7(num):\n",
        "    return num > 7\n",
        "\n",
        "num_list = [1, 4, 8, 3, 9, 2]\n",
        "\n",
        "return_value = filter(up_7, num_list)\n",
        "\n",
        "print(return_value)\n",
        "print(list(return_value))"
      ],
      "metadata": {
        "colab": {
          "base_uri": "https://localhost:8080/"
        },
        "id": "R6yWICPImGQm",
        "outputId": "e1ae5e12-a855-4738-e1ed-7de562cd56b0"
      },
      "execution_count": null,
      "outputs": [
        {
          "output_type": "stream",
          "name": "stdout",
          "text": [
            "<filter object at 0x7fd838fc9b90>\n",
            "[8, 9]\n"
          ]
        }
      ]
    },
    {
      "cell_type": "markdown",
      "source": [
        "첫 번째 출력값은 `<filter object at 0x7fd838fc9b90>`입니다. 위 리스트 내포 파트에서 이터레이터에 대해 설명했습니다. 이터레이터를 만드는 코드를 **제너레이터(generator)**라고 하며, `filter object`는 제너레이터 객체입니다.\n",
        "\n",
        "제너레이터에 대한 설명을 좀 더 보강하겠습니다. 임의의 함수를 선언하고 호출하겠습니다."
      ],
      "metadata": {
        "id": "nu7RS_ibmrJA"
      }
    },
    {
      "cell_type": "code",
      "source": [
        "def test_generator():\n",
        "    print('함수를 호출했습니다.')"
      ],
      "metadata": {
        "id": "s-T8N7gYt1JP"
      },
      "execution_count": null,
      "outputs": []
    },
    {
      "cell_type": "code",
      "source": [
        "print('1')\n",
        "test_generator()\n",
        "print('2')"
      ],
      "metadata": {
        "colab": {
          "base_uri": "https://localhost:8080/"
        },
        "id": "OKpxoqSkubya",
        "outputId": "1662dad3-3bbd-4bad-c4b3-f0869e2a6720"
      },
      "execution_count": null,
      "outputs": [
        {
          "output_type": "stream",
          "name": "stdout",
          "text": [
            "1\n",
            "함수를 호출했습니다.\n",
            "2\n"
          ]
        }
      ]
    },
    {
      "cell_type": "markdown",
      "source": [
        "별 문제 없이 함수가 호출됐습니다. 이번에는 함수를 제너레이터 함수로 만드는 `yield` 키워드를 추가하겠습니다."
      ],
      "metadata": {
        "id": "klUplUUCvogL"
      }
    },
    {
      "cell_type": "code",
      "source": [
        "def test_generator():\n",
        "    print('함수를 호출했습니다.')\n",
        "    yield 'test_generator'"
      ],
      "metadata": {
        "id": "3Im8_8T6vN1e"
      },
      "execution_count": null,
      "outputs": []
    },
    {
      "cell_type": "code",
      "source": [
        "print('1')\n",
        "test_generator()\n",
        "print('2')"
      ],
      "metadata": {
        "colab": {
          "base_uri": "https://localhost:8080/"
        },
        "id": "UYBHtM5NvV8f",
        "outputId": "b159e209-d780-4c9a-dea9-30acbfe7833a"
      },
      "execution_count": null,
      "outputs": [
        {
          "output_type": "stream",
          "name": "stdout",
          "text": [
            "1\n",
            "2\n"
          ]
        }
      ]
    },
    {
      "cell_type": "markdown",
      "source": [
        "함수를 호출했지만 '함수를 호출했습니다.'라는 문자열이 출력되지 않았습니다. `print()` 함수로 함수를 감싸서 실행해보겠습니다."
      ],
      "metadata": {
        "id": "2hguHTFWv3ZA"
      }
    },
    {
      "cell_type": "code",
      "source": [
        "print('1')\n",
        "print(test_generator())\n",
        "print('2')"
      ],
      "metadata": {
        "colab": {
          "base_uri": "https://localhost:8080/"
        },
        "id": "UIK5wRrZvYpU",
        "outputId": "c2391aa3-19fd-4720-ff5e-cfbc2629de03"
      },
      "execution_count": null,
      "outputs": [
        {
          "output_type": "stream",
          "name": "stdout",
          "text": [
            "1\n",
            "<generator object test_generator at 0x7fd838f43bd0>\n",
            "2\n"
          ]
        }
      ]
    },
    {
      "cell_type": "markdown",
      "source": [
        "`<generator object test_generator at 0x7fd838f43bd0>`라는 제너레이터 객체가 출력됐습니다. 이 제너레이터 객체는 `next()` 함수를 사용해서 함수를 실행합니다. "
      ],
      "metadata": {
        "id": "QZO98DrYuLX9"
      }
    },
    {
      "cell_type": "code",
      "source": [
        "a = next(test_generator())\n",
        "\n",
        "print('1')\n",
        "print(a)\n",
        "print('2')"
      ],
      "metadata": {
        "colab": {
          "base_uri": "https://localhost:8080/"
        },
        "id": "qHAkAtKG0VVk",
        "outputId": "09854a45-8c21-456e-de73-8bdaddaecb7b"
      },
      "execution_count": null,
      "outputs": [
        {
          "output_type": "stream",
          "name": "stdout",
          "text": [
            "함수를 호출했습니다.\n",
            "1\n",
            "test_generator\n",
            "2\n"
          ]
        }
      ]
    },
    {
      "cell_type": "markdown",
      "source": [
        "`a = next(test_generator())`로 변수 `a`에 할당했는데 `함수를 호출했습니다.`가 출력됐습니다. 아울러 `print(a)`로 변수를 출력했는데 `yield` 뒤의 `test_generator`가 출력됐습니다. 좀 더 살피기 위해 함수를 더 길게 선언하겠습니다."
      ],
      "metadata": {
        "id": "tX6kEp3f0pss"
      }
    },
    {
      "cell_type": "code",
      "source": [
        "def test_generator():\n",
        "    print('함수를 첫 번째로 호출했습니다.')\n",
        "    yield 'test_generator1'\n",
        "    print('함수를 두 번째로 호출했습니다.')\n",
        "    yield 'test_generator2'\n",
        "    print('함수를 세 번째로 호출했습니다.')\n",
        "    yield 'test_generator3'\n",
        "    print('함수를 네 번째로 호출했습니다.')\n",
        "    yield 'test_generator4'"
      ],
      "metadata": {
        "id": "oSgxtZIy1PP3"
      },
      "execution_count": null,
      "outputs": []
    },
    {
      "cell_type": "markdown",
      "source": [
        "함수를 호출하겠습니다. `yield`가 4번 선언됐으므로 총 4번을 호출하겠습니다."
      ],
      "metadata": {
        "id": "t8Q6dlxW3K4n"
      }
    },
    {
      "cell_type": "code",
      "source": [
        "output = test_generator()\n",
        "\n",
        "a = next(output)\n",
        "print(a)\n",
        "print('다음은?')\n",
        "b = next(output)\n",
        "print(b)\n",
        "print('다음은?')\n",
        "c = next(output)\n",
        "print(c)\n",
        "print('다음은?')\n",
        "d = next(output)\n",
        "print(d)"
      ],
      "metadata": {
        "colab": {
          "base_uri": "https://localhost:8080/"
        },
        "id": "PtfeP6AM2IrK",
        "outputId": "f912e17b-5cb3-4b72-a9b6-5cb427b950cb"
      },
      "execution_count": null,
      "outputs": [
        {
          "output_type": "stream",
          "name": "stdout",
          "text": [
            "함수를 첫 번째로 호출했습니다.\n",
            "test_generator1\n",
            "다음은?\n",
            "함수를 두 번째로 호출했습니다.\n",
            "test_generator2\n",
            "다음은?\n",
            "함수를 세 번째로 호출했습니다.\n",
            "test_generator3\n",
            "다음은?\n",
            "함수를 네 번째로 호출했습니다.\n",
            "test_generator4\n"
          ]
        }
      ]
    },
    {
      "cell_type": "markdown",
      "source": [
        "함수를 다섯 번째로 호출하면 `yield`가 없으므로 `StopIteration` 애러가 출력됩니다."
      ],
      "metadata": {
        "id": "a3ltlo8y3TUS"
      }
    },
    {
      "cell_type": "code",
      "source": [
        "e = next(output)\n",
        "print(e)"
      ],
      "metadata": {
        "colab": {
          "base_uri": "https://localhost:8080/",
          "height": 182
        },
        "id": "UKayAIwf3E7N",
        "outputId": "963ca27d-d746-49ce-dd63-9383bf5957e1"
      },
      "execution_count": null,
      "outputs": [
        {
          "output_type": "error",
          "ename": "StopIteration",
          "evalue": "ignored",
          "traceback": [
            "\u001b[0;31m---------------------------------------------------------------------------\u001b[0m",
            "\u001b[0;31mStopIteration\u001b[0m                             Traceback (most recent call last)",
            "\u001b[0;32m<ipython-input-38-39799d3c6835>\u001b[0m in \u001b[0;36m<module>\u001b[0;34m()\u001b[0m\n\u001b[0;32m----> 1\u001b[0;31m \u001b[0me\u001b[0m \u001b[0;34m=\u001b[0m \u001b[0mnext\u001b[0m\u001b[0;34m(\u001b[0m\u001b[0moutput\u001b[0m\u001b[0;34m)\u001b[0m\u001b[0;34m\u001b[0m\u001b[0;34m\u001b[0m\u001b[0m\n\u001b[0m\u001b[1;32m      2\u001b[0m \u001b[0mprint\u001b[0m\u001b[0;34m(\u001b[0m\u001b[0me\u001b[0m\u001b[0;34m)\u001b[0m\u001b[0;34m\u001b[0m\u001b[0;34m\u001b[0m\u001b[0m\n",
            "\u001b[0;31mStopIteration\u001b[0m: "
          ]
        }
      ]
    },
    {
      "cell_type": "markdown",
      "source": [
        "이처럼 이터레이터 객체와 제너레이터 객체는 완전히 같진 않지만 코드를 하나씩 실행한다는 차원에서 비슷한 면이 많습니다. "
      ],
      "metadata": {
        "id": "o5m3JpJf4DTL"
      }
    },
    {
      "cell_type": "markdown",
      "source": [
        "다시 `map(함수, 리스트)`에 대한 설명을 이어가겠습니다. 이 함수는 리스트의 원소를 함수에 적용하면 리턴값으로 리스트를 다시 생성합니다."
      ],
      "metadata": {
        "id": "DCywsBN9ls0u"
      }
    },
    {
      "cell_type": "code",
      "source": [
        "def square_num(num):\n",
        "    return num**2\n",
        "\n",
        "num_list = [1, 4, 8, 3, 9, 2]\n",
        "\n",
        "return_list = map(square_num, num_list)\n",
        "print(return_list)\n",
        "list(return_list)"
      ],
      "metadata": {
        "colab": {
          "base_uri": "https://localhost:8080/"
        },
        "id": "Nv1Ssify5hcF",
        "outputId": "7a2ce18d-67a0-4ea6-903b-d065f287466b"
      },
      "execution_count": null,
      "outputs": [
        {
          "output_type": "stream",
          "name": "stdout",
          "text": [
            "<map object at 0x7fd838ede3d0>\n"
          ]
        },
        {
          "output_type": "execute_result",
          "data": {
            "text/plain": [
              "[1, 16, 64, 9, 81, 4]"
            ]
          },
          "metadata": {},
          "execution_count": 52
        }
      ]
    },
    {
      "cell_type": "markdown",
      "source": [
        "`<map object at 0x7fd838ede3d0>`도 제너레이터 객체입니다. \n",
        "\n",
        "기실 이렇게 함수를 매개변수로 직접 전달하는 일은 코드 길이가 길어지므로 매우 비효율적입니다. 따라서 간단하게 함수를 선언하는 방안으로 **람다(lambda)**를 활용합니다. **람다(lambda) 함수**는 한 줄로 구성된 함수입니다. 기본 형식은 아래와 같습니다.\n",
        "\n",
        "`lambda 매개변수 = 함수식`\n",
        "\n",
        "이 형식에서 매개변수는 여러 개를 지정할 수 있습니다. 매개변수 구분은 쉼표(`,`)로 합니다. 아래 코드들을 토대로 여러 사용 방식을 예시하겠습니다."
      ],
      "metadata": {
        "id": "GE7SYH7m8C6j"
      }
    },
    {
      "cell_type": "code",
      "metadata": {
        "id": "hcE1po81IUUi",
        "colab": {
          "base_uri": "https://localhost:8080/"
        },
        "outputId": "1ae97925-c0d0-4eb3-8d65-a29a34f2f724"
      },
      "source": [
        "lambda x : x * 8 (2)"
      ],
      "execution_count": null,
      "outputs": [
        {
          "output_type": "execute_result",
          "data": {
            "text/plain": [
              "<function __main__.<lambda>>"
            ]
          },
          "metadata": {},
          "execution_count": 134
        }
      ]
    },
    {
      "cell_type": "markdown",
      "metadata": {
        "id": "in9gQ9tuL4dq"
      },
      "source": [
        "괄호로 묶으면 리턴값을 출력합니다."
      ]
    },
    {
      "cell_type": "code",
      "metadata": {
        "id": "NF8Iq91TL7Vn",
        "colab": {
          "base_uri": "https://localhost:8080/"
        },
        "outputId": "3876beae-8fdb-44f3-ff81-ffc1818cb47d"
      },
      "source": [
        "(lambda x : x * 8) (2)"
      ],
      "execution_count": null,
      "outputs": [
        {
          "output_type": "execute_result",
          "data": {
            "text/plain": [
              "16"
            ]
          },
          "metadata": {},
          "execution_count": 135
        }
      ]
    },
    {
      "cell_type": "markdown",
      "metadata": {
        "id": "-T7cPAnCL2n-"
      },
      "source": [
        "변수에 할당해서 사용할 수도 있습니다."
      ]
    },
    {
      "cell_type": "code",
      "metadata": {
        "id": "UMRRNR8LMFsX",
        "colab": {
          "base_uri": "https://localhost:8080/"
        },
        "outputId": "e5fa2144-f0d3-41ba-d0a3-8c2520757e30"
      },
      "source": [
        "lambda_times_8 = lambda x : x * 8\n",
        "lambda_times_8(4)"
      ],
      "execution_count": null,
      "outputs": [
        {
          "output_type": "execute_result",
          "data": {
            "text/plain": [
              "32"
            ]
          },
          "metadata": {},
          "execution_count": 136
        }
      ]
    },
    {
      "cell_type": "markdown",
      "metadata": {
        "id": "dfoLwQfZMbzW"
      },
      "source": [
        "여러 매개변수를 활용할 수도 있습니다."
      ]
    },
    {
      "cell_type": "code",
      "metadata": {
        "id": "1IReXU4iMbXN",
        "colab": {
          "base_uri": "https://localhost:8080/"
        },
        "outputId": "8e2a5a3b-e769-4a8b-c63a-7cb7c782cfd6"
      },
      "source": [
        "lambda_xyz = lambda x, y, z : x * y + z\n",
        "lambda_xyz(5, 4, 5)"
      ],
      "execution_count": null,
      "outputs": [
        {
          "output_type": "execute_result",
          "data": {
            "text/plain": [
              "25"
            ]
          },
          "metadata": {},
          "execution_count": 137
        }
      ]
    },
    {
      "cell_type": "markdown",
      "source": [
        "위에서 `def`로 선언한 함수들을 람다 함수로 선언하겠습니다."
      ],
      "metadata": {
        "id": "KE14QUvl-GF4"
      }
    },
    {
      "cell_type": "code",
      "source": [
        "# def up_7(num):\n",
        "#     return num > 7\n",
        "\n",
        "up_7 = lambda x: x > 7\n",
        "\n",
        "num_list = [1, 4, 8, 3, 9, 2]\n",
        "\n",
        "return_value = filter(up_7, num_list)\n",
        "\n",
        "print(return_value)\n",
        "print(list(return_value))"
      ],
      "metadata": {
        "colab": {
          "base_uri": "https://localhost:8080/"
        },
        "id": "jACzqKGC9p2G",
        "outputId": "fccf1862-f5e3-4135-aa09-6a709bf5baa3"
      },
      "execution_count": null,
      "outputs": [
        {
          "output_type": "stream",
          "name": "stdout",
          "text": [
            "<filter object at 0x7fd838ed3550>\n",
            "[8, 9]\n"
          ]
        }
      ]
    },
    {
      "cell_type": "code",
      "source": [
        "# def square_num(num):\n",
        "#     return num**2\n",
        "\n",
        "square_num = lambda x: x**2\n",
        "\n",
        "num_list = [1, 4, 8, 3, 9, 2]\n",
        "\n",
        "return_list = map(square_num, num_list)\n",
        "print(return_list)\n",
        "list(return_list)"
      ],
      "metadata": {
        "colab": {
          "base_uri": "https://localhost:8080/"
        },
        "id": "E-8SJdQR9r_I",
        "outputId": "ab805439-4d18-44e8-f244-f679cb365b45"
      },
      "execution_count": null,
      "outputs": [
        {
          "output_type": "stream",
          "name": "stdout",
          "text": [
            "<map object at 0x7fd838eed510>\n"
          ]
        },
        {
          "output_type": "execute_result",
          "data": {
            "text/plain": [
              "[1, 16, 64, 9, 81, 4]"
            ]
          },
          "metadata": {},
          "execution_count": 54
        }
      ]
    },
    {
      "cell_type": "markdown",
      "source": [
        "람다 함수를 매개변수로 바로 전달해도 좋습니다."
      ],
      "metadata": {
        "id": "qxI8cB8A_KYR"
      }
    },
    {
      "cell_type": "code",
      "source": [
        "num_list = [1, 4, 8, 3, 9, 2]\n",
        "\n",
        "return_value = filter(lambda x: x > 7, num_list)\n",
        "\n",
        "print(return_value)\n",
        "print(list(return_value))"
      ],
      "metadata": {
        "colab": {
          "base_uri": "https://localhost:8080/"
        },
        "id": "znxcCxNz_VnU",
        "outputId": "4b4d3791-e780-4694-e17c-b86b8667dfe0"
      },
      "execution_count": null,
      "outputs": [
        {
          "output_type": "stream",
          "name": "stdout",
          "text": [
            "<filter object at 0x7fd838f74e10>\n",
            "[8, 9]\n"
          ]
        }
      ]
    },
    {
      "cell_type": "code",
      "source": [
        "num_list = [1, 4, 8, 3, 9, 2]\n",
        "\n",
        "return_list = map(lambda x: x**2, num_list)\n",
        "print(return_list)\n",
        "list(return_list)"
      ],
      "metadata": {
        "colab": {
          "base_uri": "https://localhost:8080/"
        },
        "id": "8Qcw-SAL_XkL",
        "outputId": "c25828a4-a63a-434c-dd31-e461b2ae6adb"
      },
      "execution_count": null,
      "outputs": [
        {
          "output_type": "stream",
          "name": "stdout",
          "text": [
            "<map object at 0x7fd838fb8810>\n"
          ]
        },
        {
          "output_type": "execute_result",
          "data": {
            "text/plain": [
              "[1, 16, 64, 9, 81, 4]"
            ]
          },
          "metadata": {},
          "execution_count": 56
        }
      ]
    },
    {
      "cell_type": "markdown",
      "metadata": {
        "id": "dtMDaLHgTCLI"
      },
      "source": [
        "## **14.7. bool 함수**"
      ]
    },
    {
      "cell_type": "markdown",
      "metadata": {
        "id": "Ph302usGRQMT"
      },
      "source": [
        "아래와 같은 조건에 따라 `True`와 `False` 중에 하나를 출력하는 함수입니다."
      ]
    },
    {
      "cell_type": "markdown",
      "metadata": {
        "id": "_ZoTSs3oTIk4"
      },
      "source": [
        "빈칸(None)이면 False를 출력합니다. 공백(`' '`)은 빈칸이 아니라 엄연히 문자열입니다."
      ]
    },
    {
      "cell_type": "code",
      "metadata": {
        "id": "571gbzo3UVuT",
        "colab": {
          "base_uri": "https://localhost:8080/"
        },
        "outputId": "c2857c38-9b49-440a-c60e-5ea3d7a9eb44"
      },
      "source": [
        "print(f\"`bool('')`는 빈칸이므로 {bool('')}입니다.\")\n",
        "print(f\"`bool(None)`는 빈칸이므로 {bool(None)}입니다.\")\n",
        "print(f\"`bool(' ')`는 공백이므로 {bool(' ')}입니다.\")"
      ],
      "execution_count": null,
      "outputs": [
        {
          "output_type": "stream",
          "name": "stdout",
          "text": [
            "`bool('')`는 빈칸이므로 False입니다.\n",
            "`bool(None)`는 빈칸이므로 False입니다.\n",
            "`bool(' ')`는 공백이므로 True입니다.\n"
          ]
        }
      ]
    },
    {
      "cell_type": "markdown",
      "metadata": {
        "id": "DbQxxDF8VeIZ"
      },
      "source": [
        "숫자가 0이면 False를 출력합니다."
      ]
    },
    {
      "cell_type": "code",
      "metadata": {
        "id": "R1cuPBjJVhoh",
        "colab": {
          "base_uri": "https://localhost:8080/"
        },
        "outputId": "a6a8588d-934d-48c1-da0b-2b13302e4eb0"
      },
      "source": [
        "print(f\"`bool(0)`는 0이므로 {bool(0)}입니다.\")"
      ],
      "execution_count": null,
      "outputs": [
        {
          "output_type": "stream",
          "name": "stdout",
          "text": [
            "`bool(0)`는 0이므로 False입니다.\n"
          ]
        }
      ]
    },
    {
      "cell_type": "markdown",
      "metadata": {
        "id": "fSwahL5nV4cL"
      },
      "source": [
        "리스트와 튜플, 세트를 변수로 할당하여 적용할 수 있습니다. 원소가 존재하면 `True`입니다.\n",
        "\n",
        "아래 코드는 원소가 없는 빈칸이므로 `False`를 출력합니다."
      ]
    },
    {
      "cell_type": "code",
      "metadata": {
        "id": "iYt_GgdZWCSf",
        "colab": {
          "base_uri": "https://localhost:8080/"
        },
        "outputId": "53d31e00-9a94-4d53-bc09-f05370eef1c2"
      },
      "source": [
        "a = []\n",
        "b = ()\n",
        "c = {}\n",
        "print(bool(a))\n",
        "print(bool(b))\n",
        "print(bool(c))"
      ],
      "execution_count": null,
      "outputs": [
        {
          "output_type": "stream",
          "name": "stdout",
          "text": [
            "False\n",
            "False\n",
            "False\n"
          ]
        }
      ]
    },
    {
      "cell_type": "markdown",
      "metadata": {
        "id": "DbESO1C9WZCC"
      },
      "source": [
        "리스트, 튜플, 세트에 여러 개의 원소를 가지면 `0`이나 `''`을 포함하더라도 `True`를 출력합니다."
      ]
    },
    {
      "cell_type": "code",
      "metadata": {
        "id": "nx5J5-ZOWT6C",
        "colab": {
          "base_uri": "https://localhost:8080/"
        },
        "outputId": "feb6535b-9bf8-4dc3-c0d7-07a70219e369"
      },
      "source": [
        "a = [0, 1]\n",
        "b = ('', 1)\n",
        "print(bool(a))\n",
        "print(bool(b))"
      ],
      "execution_count": null,
      "outputs": [
        {
          "output_type": "stream",
          "name": "stdout",
          "text": [
            "True\n",
            "True\n"
          ]
        }
      ]
    },
    {
      "cell_type": "markdown",
      "metadata": {
        "id": "3IM5a9TrZOBR"
      },
      "source": [
        "`bool()` 함수를 사용한 간단한 예시입니다."
      ]
    },
    {
      "cell_type": "code",
      "metadata": {
        "id": "z6555DKUZSx3"
      },
      "source": [
        "def favorite_fruits(fruits):\n",
        "    # True인 경우에 수행합니다.\n",
        "    if bool(fruits):\n",
        "        print(f'좋아하는 과일은 {fruits}입니다.')\n",
        "    # False인 경우에 수행합니다.\n",
        "    else:\n",
        "        print('값을 입력하세요.')"
      ],
      "execution_count": null,
      "outputs": []
    },
    {
      "cell_type": "code",
      "metadata": {
        "id": "wAU-PVC1bhqU",
        "colab": {
          "base_uri": "https://localhost:8080/"
        },
        "outputId": "c187c4fc-c4ff-4bec-d3ea-0947edb30157"
      },
      "source": [
        "favorite_fruits('딸기')"
      ],
      "execution_count": null,
      "outputs": [
        {
          "output_type": "stream",
          "name": "stdout",
          "text": [
            "좋아하는 과일은 딸기입니다.\n"
          ]
        }
      ]
    },
    {
      "cell_type": "code",
      "metadata": {
        "id": "k2fosQsYbj9H",
        "colab": {
          "base_uri": "https://localhost:8080/"
        },
        "outputId": "5d957cb0-4db4-47cc-e35f-9939621a76cc"
      },
      "source": [
        "favorite_fruits('')"
      ],
      "execution_count": null,
      "outputs": [
        {
          "output_type": "stream",
          "name": "stdout",
          "text": [
            "값을 입력하세요.\n"
          ]
        }
      ]
    },
    {
      "cell_type": "markdown",
      "source": [
        "# **15. 구문 오류 및 예외**"
      ],
      "metadata": {
        "id": "0iSkGBZ25zyW"
      }
    },
    {
      "cell_type": "markdown",
      "source": [
        "오류는 두 종류가 있습니다. 프로그램 실행 전에 발생하는 오류인 **구문 오류(syntax error)**, 실행 후에 발생하는 오류인 **예외(exception)**입니다. 예외는 **런타임 오류(runtime error)**라고도 합니다."
      ],
      "metadata": {
        "id": "BHgMmyUl7nUm"
      }
    },
    {
      "cell_type": "markdown",
      "source": [
        "## **15.1. 구문 오류**"
      ],
      "metadata": {
        "id": "cXWOejIb8Xmh"
      }
    },
    {
      "cell_type": "markdown",
      "source": [
        "구문 오류는 코드 자체에 문제가 있어서 프로그램을 실행할 수 없는 오류입니다."
      ],
      "metadata": {
        "id": "l0-fQYKG8cg7"
      }
    },
    {
      "cell_type": "code",
      "source": [
        "# 괄호를 닫지 않겠습니다.\n",
        "print('구문 오류의 예입니다.'"
      ],
      "metadata": {
        "colab": {
          "base_uri": "https://localhost:8080/",
          "height": 134
        },
        "id": "nKOG7uY_8a8Z",
        "outputId": "832d4507-335c-4466-f8ef-f678327df992"
      },
      "execution_count": null,
      "outputs": [
        {
          "output_type": "error",
          "ename": "SyntaxError",
          "evalue": "ignored",
          "traceback": [
            "\u001b[0;36m  File \u001b[0;32m\"<ipython-input-13-66df6bfd0bdb>\"\u001b[0;36m, line \u001b[0;32m1\u001b[0m\n\u001b[0;31m    print('구문 오류의 예입니다.'\u001b[0m\n\u001b[0m                        ^\u001b[0m\n\u001b[0;31mSyntaxError\u001b[0m\u001b[0;31m:\u001b[0m unexpected EOF while parsing\n"
          ]
        }
      ]
    },
    {
      "cell_type": "markdown",
      "source": [
        "`SyntaxError`가 발생했습니다. 구문에 문제가 있어서 코드를 실행할 수 없다는 의미입니다. 프로그램을 실행하려면 코드를 바르게 고쳐야 합니다."
      ],
      "metadata": {
        "id": "GH6AkYH89UCt"
      }
    },
    {
      "cell_type": "markdown",
      "source": [
        "## **15.2. 예외**"
      ],
      "metadata": {
        "id": "c3Dvt3dF98wm"
      }
    },
    {
      "cell_type": "markdown",
      "source": [
        "예외는 프로그램을 실행하는 중에 발생하는 오류입니다."
      ],
      "metadata": {
        "id": "z52ePIZd-AIz"
      }
    },
    {
      "cell_type": "code",
      "source": [
        "print('예외의 예입니다.')\n",
        "print(a)    # 변수 `a`는 정의되지 않았습니다."
      ],
      "metadata": {
        "colab": {
          "base_uri": "https://localhost:8080/",
          "height": 208
        },
        "id": "cejmmY-s9_ES",
        "outputId": "a54e6da8-3399-45cf-ab32-ae8f1a340347"
      },
      "execution_count": null,
      "outputs": [
        {
          "output_type": "stream",
          "name": "stdout",
          "text": [
            "예외의 예입니다.\n"
          ]
        },
        {
          "output_type": "error",
          "ename": "NameError",
          "evalue": "ignored",
          "traceback": [
            "\u001b[0;31m---------------------------------------------------------------------------\u001b[0m",
            "\u001b[0;31mNameError\u001b[0m                                 Traceback (most recent call last)",
            "\u001b[0;32m<ipython-input-14-680ce801a1dc>\u001b[0m in \u001b[0;36m<module>\u001b[0;34m()\u001b[0m\n\u001b[1;32m      1\u001b[0m \u001b[0mprint\u001b[0m\u001b[0;34m(\u001b[0m\u001b[0;34m'예외의 예입니다.'\u001b[0m\u001b[0;34m)\u001b[0m\u001b[0;34m\u001b[0m\u001b[0;34m\u001b[0m\u001b[0m\n\u001b[0;32m----> 2\u001b[0;31m \u001b[0mprint\u001b[0m\u001b[0;34m(\u001b[0m\u001b[0ma\u001b[0m\u001b[0;34m)\u001b[0m\u001b[0;34m\u001b[0m\u001b[0;34m\u001b[0m\u001b[0m\n\u001b[0m",
            "\u001b[0;31mNameError\u001b[0m: name 'a' is not defined"
          ]
        }
      ]
    },
    {
      "cell_type": "markdown",
      "source": [
        "`NameError`가 발생했습니다. 첫 번째 줄은 바르게 실행됐으나, 두 번째 줄은 정의되지 않은 변수 `a`를 출력하려 했으므로 예외가 발생했습니다."
      ],
      "metadata": {
        "id": "7ErJVcjU-RY9"
      }
    },
    {
      "cell_type": "markdown",
      "source": [
        "### **15.2.1. 예외 처리**"
      ],
      "metadata": {
        "id": "D_7ux6ZQ_EQA"
      }
    },
    {
      "cell_type": "markdown",
      "source": [
        "예외를 해결하는 작업을 **예외 처리(exception handling)**라고 합니다. 조건문을 사용하거나 try문을 사용하여 예외 처리를 할 수 있습니다.\n",
        "\n",
        "먼저 임의의 코드로 예시하겠습니다."
      ],
      "metadata": {
        "id": "CmrjOff9_KDG"
      }
    },
    {
      "cell_type": "code",
      "source": [
        "cost_input = int(input('금액을 정수로 입력하세요.'))\n",
        "\n",
        "print('1일: ', cost_input)\n",
        "print('30일: ', cost_input * 30)\n",
        "print('365일: ', cost_input * 365)"
      ],
      "metadata": {
        "colab": {
          "base_uri": "https://localhost:8080/"
        },
        "id": "WDOFCoze_IBL",
        "outputId": "e1259d23-9a8f-4e53-c1e3-0e0dba34ac3b"
      },
      "execution_count": null,
      "outputs": [
        {
          "output_type": "stream",
          "name": "stdout",
          "text": [
            "금액을 정수로 입력하세요.5000\n",
            "1일:  5000\n",
            "30일:  150000\n",
            "365일:  1825000\n"
          ]
        }
      ]
    },
    {
      "cell_type": "markdown",
      "source": [
        "만약 정수를 입력하지 않는다면 예외가 발생합니다."
      ],
      "metadata": {
        "id": "8nTqWlcYBwek"
      }
    },
    {
      "cell_type": "code",
      "source": [
        "cost_input = int(input('금액을 정수로 입력하세요. -> '))\n",
        "\n",
        "print('1일: ', cost_input)\n",
        "print('30일: ', cost_input * 30)\n",
        "print('365일: ', cost_input * 365)"
      ],
      "metadata": {
        "colab": {
          "base_uri": "https://localhost:8080/",
          "height": 263
        },
        "id": "zZ3dZP6QB1fB",
        "outputId": "6f286c51-6488-4d9c-d2ef-412b9a303800"
      },
      "execution_count": null,
      "outputs": [
        {
          "name": "stdout",
          "output_type": "stream",
          "text": [
            "금액을 정수로 입력하세요. -> 5000.0\n"
          ]
        },
        {
          "output_type": "error",
          "ename": "ValueError",
          "evalue": "ignored",
          "traceback": [
            "\u001b[0;31m---------------------------------------------------------------------------\u001b[0m",
            "\u001b[0;31mValueError\u001b[0m                                Traceback (most recent call last)",
            "\u001b[0;32m<ipython-input-27-bb3cb93c01d2>\u001b[0m in \u001b[0;36m<module>\u001b[0;34m()\u001b[0m\n\u001b[0;32m----> 1\u001b[0;31m \u001b[0mcost_input\u001b[0m \u001b[0;34m=\u001b[0m \u001b[0mint\u001b[0m\u001b[0;34m(\u001b[0m\u001b[0minput\u001b[0m\u001b[0;34m(\u001b[0m\u001b[0;34m'금액을 정수로 입력하세요. -> '\u001b[0m\u001b[0;34m)\u001b[0m\u001b[0;34m)\u001b[0m\u001b[0;34m\u001b[0m\u001b[0;34m\u001b[0m\u001b[0m\n\u001b[0m\u001b[1;32m      2\u001b[0m \u001b[0;34m\u001b[0m\u001b[0m\n\u001b[1;32m      3\u001b[0m \u001b[0mprint\u001b[0m\u001b[0;34m(\u001b[0m\u001b[0;34m'1일: '\u001b[0m\u001b[0;34m,\u001b[0m \u001b[0mcost_input\u001b[0m\u001b[0;34m)\u001b[0m\u001b[0;34m\u001b[0m\u001b[0;34m\u001b[0m\u001b[0m\n\u001b[1;32m      4\u001b[0m \u001b[0mprint\u001b[0m\u001b[0;34m(\u001b[0m\u001b[0;34m'30일: '\u001b[0m\u001b[0;34m,\u001b[0m \u001b[0mcost_input\u001b[0m \u001b[0;34m*\u001b[0m \u001b[0;36m30\u001b[0m\u001b[0;34m)\u001b[0m\u001b[0;34m\u001b[0m\u001b[0;34m\u001b[0m\u001b[0m\n\u001b[1;32m      5\u001b[0m \u001b[0mprint\u001b[0m\u001b[0;34m(\u001b[0m\u001b[0;34m'365일: '\u001b[0m\u001b[0;34m,\u001b[0m \u001b[0mcost_input\u001b[0m \u001b[0;34m*\u001b[0m \u001b[0;36m365\u001b[0m\u001b[0;34m)\u001b[0m\u001b[0;34m\u001b[0m\u001b[0;34m\u001b[0m\u001b[0m\n",
            "\u001b[0;31mValueError\u001b[0m: invalid literal for int() with base 10: '5000.0'"
          ]
        }
      ]
    },
    {
      "cell_type": "markdown",
      "source": [
        "#### **15.2.1.1. 조건문 사용하기**"
      ],
      "metadata": {
        "id": "V9L7xWpRFpIc"
      }
    },
    {
      "cell_type": "markdown",
      "source": [
        "먼저 조건문으로 예외를 처리하겠습니다. `isdigit()` 함수를 통해 입력 받은 값을 우선 거르겠습니다."
      ],
      "metadata": {
        "id": "8Ut5skT5DNw-"
      }
    },
    {
      "cell_type": "code",
      "source": [
        "first_cost_input = input('금액을 정수로 입력하세요. -> ')\n",
        "\n",
        "if first_cost_input.isdigit():\n",
        "    cost_input = int(first_cost_input)\n",
        "    print('1일: ', cost_input)\n",
        "    print('30일: ', cost_input * 30)\n",
        "    print('365일: ', cost_input * 365)\n",
        "else:\n",
        "    print('금액을 정수로 입력하세요.')"
      ],
      "metadata": {
        "colab": {
          "base_uri": "https://localhost:8080/"
        },
        "id": "ch2CWeAgCECI",
        "outputId": "dbae3481-8d94-4bfd-8015-4d739ed6ebf3"
      },
      "execution_count": null,
      "outputs": [
        {
          "output_type": "stream",
          "name": "stdout",
          "text": [
            "금액을 정수로 입력하세요. -> 5000.0\n",
            "금액을 정수로 입력하세요.\n"
          ]
        }
      ]
    },
    {
      "cell_type": "markdown",
      "source": [
        "정수가 아니므로 프로그램이 종료되었습니다. "
      ],
      "metadata": {
        "id": "qnjGWnDaF5r4"
      }
    },
    {
      "cell_type": "markdown",
      "source": [
        "#### **15.2.1.2. try except문 사용하기**"
      ],
      "metadata": {
        "id": "BETyA6LNF27Y"
      }
    },
    {
      "cell_type": "markdown",
      "source": [
        "try except문으로 예외를 처리하겠습니다. 형식은 아래와 같습니다.\n",
        "\n",
        "```\n",
        "try:\n",
        "    예외가 발생할 수 있는 내용\n",
        "except:\n",
        "    예외가 발생했을 때 실행할 내용\n",
        "```\n",
        "\n",
        "참고로 try except문은 조건문보다 속도가 느린 편이지만 본래 파이썬이라는 언어는 속도가 느리므로 쉬운 코드 작성을 위해 사용할 가치가 충분한 구문 형식입니다.\n",
        "\n",
        "위에서 예시한 코드를 try except문으로 치환하겠습니다."
      ],
      "metadata": {
        "id": "MFalwAwPEN68"
      }
    },
    {
      "cell_type": "code",
      "source": [
        "try:\n",
        "    cost_input = int(input('금액을 정수로 입력하세요. -> '))\n",
        "    print('1일: ', cost_input)\n",
        "    print('30일: ', cost_input * 30)\n",
        "    print('365일: ', cost_input * 365)\n",
        "except:\n",
        "    print('금액을 정수로 입력하세요.')"
      ],
      "metadata": {
        "colab": {
          "base_uri": "https://localhost:8080/"
        },
        "id": "9ojvjTgeGPlr",
        "outputId": "100d8a80-7628-48ac-cc9b-ed5bd0a79b6e"
      },
      "execution_count": null,
      "outputs": [
        {
          "output_type": "stream",
          "name": "stdout",
          "text": [
            "금액을 정수로 입력하세요. -> 싫어요.\n",
            "금액을 정수로 입력하세요.\n"
          ]
        }
      ]
    },
    {
      "cell_type": "markdown",
      "source": [
        "except문에 아무것도 없으면 구문 오류가 발생합니다."
      ],
      "metadata": {
        "id": "tD53WMD7G_7n"
      }
    },
    {
      "cell_type": "code",
      "source": [
        "try:\n",
        "    cost_input = int(input('금액을 정수로 입력하세요. -> '))\n",
        "    print('1일: ', cost_input)\n",
        "    print('30일: ', cost_input * 30)\n",
        "    print('365일: ', cost_input * 365)\n",
        "except:"
      ],
      "metadata": {
        "colab": {
          "base_uri": "https://localhost:8080/",
          "height": 134
        },
        "id": "6RtYOpkczzH4",
        "outputId": "17c75434-f0fe-486a-eae0-d71dccfe9f05"
      },
      "execution_count": null,
      "outputs": [
        {
          "output_type": "error",
          "ename": "SyntaxError",
          "evalue": "ignored",
          "traceback": [
            "\u001b[0;36m  File \u001b[0;32m\"<ipython-input-4-886973447601>\"\u001b[0;36m, line \u001b[0;32m6\u001b[0m\n\u001b[0;31m    except:\u001b[0m\n\u001b[0m           ^\u001b[0m\n\u001b[0;31mSyntaxError\u001b[0m\u001b[0;31m:\u001b[0m unexpected EOF while parsing\n"
          ]
        }
      ]
    },
    {
      "cell_type": "markdown",
      "source": [
        "이를 방지할 목적으로 `pass`를 넣으면 예외가 발생했을 때 아무 일도 일어나지 않습니다. "
      ],
      "metadata": {
        "id": "4-WuHV-B29zK"
      }
    },
    {
      "cell_type": "code",
      "source": [
        "try:\n",
        "    cost_input = int(input('금액을 정수로 입력하세요. -> '))\n",
        "    print('1일: ', cost_input)\n",
        "    print('30일: ', cost_input * 30)\n",
        "    print('365일: ', cost_input * 365)\n",
        "except:\n",
        "    pass"
      ],
      "metadata": {
        "colab": {
          "base_uri": "https://localhost:8080/"
        },
        "id": "qHH4MZJPz-eb",
        "outputId": "af242989-4369-403f-bb97-f1f86f9ae4e0"
      },
      "execution_count": null,
      "outputs": [
        {
          "name": "stdout",
          "output_type": "stream",
          "text": [
            "금액을 정수로 입력하세요. -> 이천\n"
          ]
        }
      ]
    },
    {
      "cell_type": "markdown",
      "source": [
        "임의의 함수를 새로 선언하고 except문에 `pass`를 넣겠습니다."
      ],
      "metadata": {
        "id": "EkcX_Utz0j-q"
      }
    },
    {
      "cell_type": "code",
      "source": [
        "first_list = ['32', '73', '84.2', '데이터', '9', '원소', 1]\n",
        "list_nums = []\n",
        "\n",
        "for element in first_list:\n",
        "    try:\n",
        "        int(element)    # 예외가 발생하면 처리하지 않습니다.\n",
        "        list_nums.append(element)    # 예외가 발생하지 않으면 처리합니다.\n",
        "    except:\n",
        "        pass\n",
        "\n",
        "print(f'{first_list}에 있는 정수는 {list_nums}입니다.')"
      ],
      "metadata": {
        "colab": {
          "base_uri": "https://localhost:8080/"
        },
        "id": "tBkLVGoVIDsk",
        "outputId": "e49b31bf-e44d-4586-9d03-6ca17578935d"
      },
      "execution_count": null,
      "outputs": [
        {
          "output_type": "stream",
          "name": "stdout",
          "text": [
            "['32', '73', '84.2', '데이터', '9', '원소', 1]에 있는 정수는 ['32', '73', '9', 1]입니다.\n"
          ]
        }
      ]
    },
    {
      "cell_type": "markdown",
      "source": [
        "#### **15.2.1.3. try except else문 사용하기**"
      ],
      "metadata": {
        "id": "my2ARcMA5qrD"
      }
    },
    {
      "cell_type": "markdown",
      "source": [
        "try except else문으로 예외를 처리하겠습니다. 형식은 아래와 같습니다.\n",
        "\n",
        "```\n",
        "try:\n",
        "    예외가 발생할 수 있는 내용\n",
        "except:\n",
        "    예외가 발생했을 때 실행할 내용\n",
        "else:\n",
        "    예외가 발생하지 않았을 때 실행할 내용\n",
        "```\n",
        "\n",
        "예외가 발생할 수 있는 내용만 try문에 넣고 다른 모든 내용은 else문에 위치시킵니다. 다만 굳이 else에 넣지 않고 try except문처럼 모든 내용을 try문에 넣어도 문제가 없습니다. else문은 코드가 깔끔해 보일 목적으로 사용할 뿐입니다.\n",
        "\n",
        "예시를 위한 코드입니다."
      ],
      "metadata": {
        "id": "Cb1TdFJC57tp"
      }
    },
    {
      "cell_type": "code",
      "source": [
        "try:\n",
        "    cost_input = int(input('금액을 정수로 입력하세요. -> '))\n",
        "except:\n",
        "    print('금액을 정수로 입력하세요.')\n",
        "else:\n",
        "    print('1일: ', cost_input)\n",
        "    print('30일: ', cost_input * 30)\n",
        "    print('365일: ', cost_input * 365)"
      ],
      "metadata": {
        "colab": {
          "base_uri": "https://localhost:8080/"
        },
        "id": "HCiUYV0l7obL",
        "outputId": "91a5ac83-184d-4cd1-8302-7b750a9e38a8"
      },
      "execution_count": null,
      "outputs": [
        {
          "output_type": "stream",
          "name": "stdout",
          "text": [
            "금액을 정수로 입력하세요. -> 칠십\n",
            "금액을 정수로 입력하세요.\n"
          ]
        }
      ]
    },
    {
      "cell_type": "markdown",
      "source": [
        "#### **15.2.1.3. finally문 사용하기**"
      ],
      "metadata": {
        "id": "Ixyb5GnH8Kde"
      }
    },
    {
      "cell_type": "markdown",
      "source": [
        "finally문은 가장 마지막 부분에서 사용할 수 있습니다. 형식은 아래와 같습니다.\n",
        "\n",
        "```\n",
        "try:\n",
        "    예외가 발생할 수 있는 내용\n",
        "except:\n",
        "    예외가 발생했을 때 실행할 내용\n",
        "else:\n",
        "    예외가 발생하지 않았을 때 실행할 내용\n",
        "finally:\n",
        "    무조건 실행할 내용\n",
        "```\n",
        "\n",
        "예외 발생 여부와 무관하게 무조건 실행시킨다는 의미입니다. "
      ],
      "metadata": {
        "id": "CfyT3dmj8O9t"
      }
    },
    {
      "cell_type": "code",
      "source": [
        "try:\n",
        "    cost_input = int(input('금액을 정수로 입력하세요. -> '))\n",
        "    print('1일: ', cost_input)\n",
        "    print('30일: ', cost_input * 30)\n",
        "    print('365일: ', cost_input * 365)\n",
        "except:\n",
        "    print('금액을 정수로 입력하세요.')\n",
        "else:\n",
        "    print('정상적으로 입력했습니다.')\n",
        "finally:\n",
        "    print('프로그램을 종료합니다.')"
      ],
      "metadata": {
        "colab": {
          "base_uri": "https://localhost:8080/"
        },
        "id": "0shhBkZN-XGx",
        "outputId": "986ffe5d-3cf0-436e-e09c-7997055c0a7d"
      },
      "execution_count": null,
      "outputs": [
        {
          "output_type": "stream",
          "name": "stdout",
          "text": [
            "금액을 정수로 입력하세요. -> 5000\n",
            "1일:  5000\n",
            "30일:  150000\n",
            "365일:  1825000\n",
            "정상적으로 입력했습니다.\n",
            "프로그램을 종료합니다.\n"
          ]
        }
      ]
    },
    {
      "cell_type": "code",
      "source": [
        "try:\n",
        "    cost_input = int(input('금액을 정수로 입력하세요. -> '))\n",
        "    print('1일: ', cost_input)\n",
        "    print('30일: ', cost_input * 30)\n",
        "    print('365일: ', cost_input * 365)\n",
        "except:\n",
        "    print('금액을 정수로 입력하세요.')\n",
        "else:\n",
        "    print('정상적으로 입력했습니다.')\n",
        "finally:\n",
        "    print('프로그램을 종료합니다.')"
      ],
      "metadata": {
        "colab": {
          "base_uri": "https://localhost:8080/"
        },
        "id": "UwCVIAOU-zAE",
        "outputId": "2c0f4893-14d4-472d-e235-a45850979c09"
      },
      "execution_count": null,
      "outputs": [
        {
          "output_type": "stream",
          "name": "stdout",
          "text": [
            "금액을 정수로 입력하세요. -> 오천\n",
            "금액을 정수로 입력하세요.\n",
            "프로그램을 종료합니다.\n"
          ]
        }
      ]
    },
    {
      "cell_type": "markdown",
      "source": [
        "try, except, else, finally문을 사용할 땐 아래 조합만 가능합니다. 대부분 try문은 except문과 함께 쓰입니다. 아래 조합 외에는 구문 오류가 발생합니다.\n",
        "\n",
        "* try except\n",
        "\n",
        "* try except else\n",
        "\n",
        "* try except finally\n",
        "\n",
        "* try except else finally\n",
        "\n",
        "* try finally"
      ],
      "metadata": {
        "id": "hJG9Ns6S_cx0"
      }
    },
    {
      "cell_type": "markdown",
      "source": [
        "fanally문은 반복문이나 함수 내에 위치할 때 매우 효율적입니다. 먼저 아래에 임의의 함수를 선언하겠습니다."
      ],
      "metadata": {
        "id": "jS2ufGNd_aHa"
      }
    },
    {
      "cell_type": "code",
      "source": [
        "def return_finally():\n",
        "    print('return_finally() 함수를 호출했습니다.')\n",
        "    try:\n",
        "        print('try문을 실행했습니다.')\n",
        "        return\n",
        "        print('return 아래입니다.')\n",
        "    except:\n",
        "        print('except문을 실행했습니다.')\n",
        "    else:\n",
        "        print('else문을 실행했습니다.')\n",
        "    finally:\n",
        "        print('finally문을 실행했습니다.')\n",
        "    print('return_finally() 함수의 마지막 라인입니다.')\n",
        "\n",
        "return_finally()"
      ],
      "metadata": {
        "colab": {
          "base_uri": "https://localhost:8080/"
        },
        "id": "p_R8cJTazEfQ",
        "outputId": "ef3f6b2a-9277-42cc-ce84-8574a997baf3"
      },
      "execution_count": null,
      "outputs": [
        {
          "output_type": "stream",
          "name": "stdout",
          "text": [
            "return_finally() 함수를 호출했습니다.\n",
            "try문을 실행했습니다.\n",
            "finally문을 실행했습니다.\n"
          ]
        }
      ]
    },
    {
      "cell_type": "markdown",
      "source": [
        "try문 내에 위치한 return을 통해 중간에서 함수를 종료했지만 finally문은 그대로 실행됐습니다. 이런 작동 방식을 토대로 파일을 처리하는 코드를 작성할 때 finally문을 종종 사용합니다. try문에서 return을 통해 함수를 종료해도 파일이 무조건 닫히도록 구성하는 것입니다. 아래 코드로 예시하겠습니다."
      ],
      "metadata": {
        "id": "T_aqetLB-M2e"
      }
    },
    {
      "cell_type": "code",
      "source": [
        "def write_close_file(filename, text):\n",
        "    try:\n",
        "        file = open(filename, 'w')\n",
        "        # 처리할 여러 내용을 이 라인에 위치시킵니다. 현재는 내용을 생략했습니다.\n",
        "        return\n",
        "        file.write(text)\n",
        "    except Exception as exception:    # 아래에서 다룰 `Exception` 클래스입니다. 예외가 발생하면 작동합니다.\n",
        "        print(exception)\n",
        "    finally:\n",
        "        file.close()\n",
        "\n",
        "write_close_file('/content/gdrive/MyDrive/Python_for_Data_Analytics_Science/test_text.txt', '테스트 텍스트')"
      ],
      "metadata": {
        "id": "T8YwapdxAGEg"
      },
      "execution_count": null,
      "outputs": []
    },
    {
      "cell_type": "markdown",
      "source": [
        "함수 중간에 return을 통해 함수를 종료할 때마다 `file.close()`를 위치시키면 매우 비효율적입니다. finally문에 한 번만 위치시키면 충분합니다.\n",
        "\n",
        "아울러 반복문에서 break로 빠져 나가는 경우에도 finally문은 실행됩니다. 아래 코드로 예시하겠습니다."
      ],
      "metadata": {
        "id": "U2UMXc6-CGwR"
      }
    },
    {
      "cell_type": "code",
      "source": [
        "print('프로그램을 실행했습니다.')\n",
        "\n",
        "while True:\n",
        "    try:\n",
        "        print('try문을 실행했습니다.')\n",
        "        break\n",
        "        print('break 아래입니다.')\n",
        "    except:\n",
        "        print('except문을 실행했습니다.')\n",
        "    finally:\n",
        "        print('finally문을 실행했습니다.')\n",
        "    print('반복문의 마지막 라인입니다.')\n",
        "print('프로그램을 종료했습니다.')"
      ],
      "metadata": {
        "colab": {
          "base_uri": "https://localhost:8080/"
        },
        "id": "mq-O4Z4fDwWn",
        "outputId": "6c7e1d96-453a-4401-b651-d24d87b0fd88"
      },
      "execution_count": null,
      "outputs": [
        {
          "output_type": "stream",
          "name": "stdout",
          "text": [
            "프로그램을 실행했습니다.\n",
            "try문을 실행했습니다.\n",
            "finally문을 실행했습니다.\n",
            "프로그램을 종료했습니다.\n"
          ]
        }
      ]
    },
    {
      "cell_type": "markdown",
      "source": [
        "### **15.2.2. 예외 객체**"
      ],
      "metadata": {
        "id": "wj9KJGZCHBy6"
      }
    },
    {
      "cell_type": "markdown",
      "source": [
        "예외가 발생하면 예외 정보가 **예외 객체(exception object)**에 저장됩니다. 형식은 아래와 같습니다.\n",
        "\n",
        "```\n",
        "try:\n",
        "    예외가 발생할 수 있는 내용\n",
        "except 예외 종류 as 예외 객체로 설정할 변수명:\n",
        "    예외가 발생했을 때 실행할 내용\n",
        "```\n",
        "\n",
        "아래 코드로 설명을 이어가겠습니다."
      ],
      "metadata": {
        "id": "y_KWcafGWbqz"
      }
    },
    {
      "cell_type": "code",
      "source": [
        "try:\n",
        "    cost_input = int(input('금액을 정수로 입력하세요. -> '))\n",
        "    print('1일: ', cost_input)\n",
        "    print('30일: ', cost_input * 30)\n",
        "    print('365일: ', cost_input * 365)\n",
        "except Exception as exception:\n",
        "    print(f'예외 객체 자료형(예외 종류): {type(exception)}')\n",
        "    print(f'예외 내용(원인): {exception}')\n",
        "    print('금액을 정수로 입력하세요.')"
      ],
      "metadata": {
        "colab": {
          "base_uri": "https://localhost:8080/"
        },
        "id": "brSMCv_vXI1A",
        "outputId": "6288917e-12a7-43ad-ff0b-eb2353fad42a"
      },
      "execution_count": null,
      "outputs": [
        {
          "output_type": "stream",
          "name": "stdout",
          "text": [
            "금액을 정수로 입력하세요. -> 오천\n",
            "예외 객체 자료형(예외 종류): <class 'ValueError'>\n",
            "예외 내용(원인): invalid literal for int() with base 10: '오천'\n",
            "금액을 정수로 입력하세요.\n"
          ]
        }
      ]
    },
    {
      "cell_type": "markdown",
      "source": [
        "`Exception` 클래스는 모든 예외를 아우르는 클래스로, 발생할 수 있는 모든 예외 종류를 예외 객체에 저장시킵니다. 위 코드처럼 예외가 저장된 예외 객체를 활용하여 프로그램 오류를 개선하는 데 활용할 수 있습니다."
      ],
      "metadata": {
        "id": "XM0JQVLCYod7"
      }
    },
    {
      "cell_type": "markdown",
      "source": [
        "### **15.2.3. 예외 해결하기**"
      ],
      "metadata": {
        "id": "pTE5w9wKHvCp"
      }
    },
    {
      "cell_type": "markdown",
      "source": [
        "예외 객체를 활용하여 각종 예외를 해결하는 방법으로는 `Exception` 클래스뿐만 아니라 여러 예외 클래스를 직접 선언해도 좋습니다. 예외 처리 구문이 포함된 임의의 함수를 선언하여 예외를 발생시켜 보겠습니다."
      ],
      "metadata": {
        "id": "UuFo33ryrSa9"
      }
    },
    {
      "cell_type": "code",
      "source": [
        "def index_num():\n",
        "\n",
        "    temporary_list = ['32', '73', '84.2', '데이터', '9', '원소', 1]\n",
        "\n",
        "    try:\n",
        "        input_num = int(input('정수를 입력하여 인덱스를 지정하세요. -> '))\n",
        "        print(f'{input_num}번째 원소는 {temporary_list[input_num]}입니다.')\n",
        "    # 첫 번째 예외입니다.\n",
        "    except ValueError as exception:\n",
        "        print(f'예외 객체 자료형(예외 종류): {type(exception)}')\n",
        "        print(f'예외 원인: {exception}')\n",
        "        print('정수를 입력하세요.')\n",
        "    # 두 번째 예외입니다.\n",
        "    except IndexError as exception:\n",
        "        print(f'예외 객체 자료형(예외 종류): {type(exception)}')\n",
        "        print(f'예외 원인: {exception}')\n",
        "        print('범위에서 벗어난 인덱스입니다.')\n",
        "    # 첫 번째와 두 번째 예외 외 예외입니다. `Exception` 클래스를 사용합니다.\n",
        "    except Exception as exception:\n",
        "        print(f'예외 객체 자료형(예외 종류): {type(exception)}')\n",
        "        print(f'예외 원인: {exception}')\n",
        "        print('예기치 못한 예외입니다.')"
      ],
      "metadata": {
        "id": "26auFYwfaCNm"
      },
      "execution_count": null,
      "outputs": []
    },
    {
      "cell_type": "markdown",
      "source": [
        "먼저 `ValueError`를 발생시켜 보겠습니다."
      ],
      "metadata": {
        "id": "zNcVtmUTvm6R"
      }
    },
    {
      "cell_type": "code",
      "source": [
        "index_num()"
      ],
      "metadata": {
        "colab": {
          "base_uri": "https://localhost:8080/"
        },
        "id": "pe2cDMUIo3ZK",
        "outputId": "f1fb2a6a-55d2-4d02-c972-456ba975d7f9"
      },
      "execution_count": null,
      "outputs": [
        {
          "output_type": "stream",
          "name": "stdout",
          "text": [
            "정수를 입력하여 인덱스를 지정하세요. -> 싫은데용?\n",
            "예외 객체 자료형(예외 종류): <class 'ValueError'>\n",
            "예외 원인: invalid literal for int() with base 10: '싫은데용?'\n",
            "정수를 입력하세요.\n"
          ]
        }
      ]
    },
    {
      "cell_type": "markdown",
      "source": [
        "이번엔 `IndexError`를 발생시켜 보겠습니다."
      ],
      "metadata": {
        "id": "QZ20rFIdvzxk"
      }
    },
    {
      "cell_type": "code",
      "source": [
        "index_num()"
      ],
      "metadata": {
        "colab": {
          "base_uri": "https://localhost:8080/"
        },
        "id": "wyuqf5zkoKTw",
        "outputId": "18fb70b6-dece-4523-d679-05d4fd478c7f"
      },
      "execution_count": null,
      "outputs": [
        {
          "output_type": "stream",
          "name": "stdout",
          "text": [
            "정수를 입력하여 인덱스를 지정하세요. -> 100\n",
            "예외 객체 자료형(예외 종류): <class 'IndexError'>\n",
            "예외 원인: list index out of range\n",
            "범위에서 벗어난 인덱스입니다.\n"
          ]
        }
      ]
    },
    {
      "cell_type": "markdown",
      "source": [
        "마지막으로 첫 번째, 두 번째 예외가 아닌 다른 예외를 발생시켜 보겠습니다. 마지막 예외에 선언한 `Exception` 클래스를 작동시키는 것입니다. 바로 위에서 선언했던 함수에 강제로 예외를 발생시키는 라인을 추가하겠습니다."
      ],
      "metadata": {
        "id": "ZGHt1mAfv8pV"
      }
    },
    {
      "cell_type": "code",
      "source": [
        "def index_num_except():\n",
        "\n",
        "    temporary_list = ['32', '73', '84.2', '데이터', '9', '원소', 1]\n",
        "\n",
        "    try:\n",
        "        input_num = int(input('정수를 입력하여 인덱스를 지정하세요. -> '))\n",
        "        print(f'{input_num}번째 원소는 {temporary_list[input_num]}입니다.')\n",
        "        # 예외를 강제로 발생시킵니다.\n",
        "        예기치못한.예외발생()\n",
        "    except ValueError as exception:\n",
        "        print(f'예외 객체 자료형(예외 종류): {type(exception)}')\n",
        "        print(f'예외 원인: {exception}')\n",
        "        print('정수를 입력하세요.')\n",
        "    except IndexError as exception:\n",
        "        print(f'예외 객체 자료형(예외 종류): {type(exception)}')\n",
        "        print(f'예외 원인: {exception}')\n",
        "        print('범위에서 벗어난 인덱스입니다.')\n",
        "    except Exception as exception:\n",
        "        print(f'예외 객체 자료형(예외 종류): {type(exception)}')\n",
        "        print(f'예외 원인: {exception}')\n",
        "        print('예기치 못한 예외입니다.')"
      ],
      "metadata": {
        "id": "9HsC1-kiqUFy"
      },
      "execution_count": null,
      "outputs": []
    },
    {
      "cell_type": "code",
      "source": [
        "index_num_except()"
      ],
      "metadata": {
        "colab": {
          "base_uri": "https://localhost:8080/"
        },
        "id": "7dZQDI77qeSl",
        "outputId": "f25cf54a-7de0-4b8d-ba5d-7075f1d69407"
      },
      "execution_count": null,
      "outputs": [
        {
          "output_type": "stream",
          "name": "stdout",
          "text": [
            "정수를 입력하여 인덱스를 지정하세요. -> 2\n",
            "2번째 원소는 84.2입니다.\n",
            "예외 객체 자료형(예외 종류): <class 'NameError'>\n",
            "예외 원인: name '예기치못한' is not defined\n",
            "예기치 못한 예외입니다.\n"
          ]
        }
      ]
    },
    {
      "cell_type": "markdown",
      "source": [
        "허용 범위에 적합한 정수를 입력했으나 `NameError`가 발생됐습니다. `예기치못한`이라는 변수는 없기 때문입니다. 프로그래밍 작업 중에 모든 오류를 파악하기는 쉽지 않습니다. 마지막 라인에 `Exception` 클래스를 선언하여 프로그램이 죽지 않도록 조치하는 습관을 들이는 편이 좋습니다. \n",
        "\n",
        "참고로 구현되지 않은 부분은 raise문을 사용하여 예외를 강제로 발생시키는 방법도 있습니다. 예는 아래와 같습니다.\n",
        "\n",
        "```\n",
        "<구현되지 않은 예외>\n",
        "raise NotImplementedError('블라블라')\n",
        "\n",
        "<기타 예외>\n",
        "raise ValueError('블라블라')\n",
        "```"
      ],
      "metadata": {
        "id": "72Ygp2HmxgMq"
      }
    },
    {
      "cell_type": "markdown",
      "metadata": {
        "id": "P_ZuJm9jJ_MI"
      },
      "source": [
        "# **16. 클래스**"
      ]
    },
    {
      "cell_type": "markdown",
      "metadata": {
        "id": "qk4v7R6x8FER"
      },
      "source": [
        "**클래스**에 대한 기초적인 개념은 제외하겠습니다. 주로 코드를 통해 예시하는 방식으로 설명할 예정입니다.\n",
        "\n",
        "코드를 예시하기 전에 몇 가지 짚어야 할 내용을 목록으로 나열하겠습니다.\n",
        "\n",
        "- **클래스**는 객체를 만들기 위한 기본 틀이고, **객체**는 이 틀을 바탕으로 생성된 결과물입니다. 종종 이 둘을 붕어빵 틀과 붕어빵으로 비유하곤 합니다. 이 붕어빵 틀에 팥이나 치즈나 피자를 넣으면 각각 팥붕어빵, 치즈붕어빵, 피자붕어빵이 됩니다. 객체에 포함된 변수에 값을 다르게 할당하면 객체의 속성이 달라지고, 각각 다른 속성을 가진 객체가 되는 것과 같은 이치입니다. 참고로 객체는 클래스의 **인스턴스(instance)**라고 부릅니다. instance의 의미는 경우, 예 등입니다. 클래스가 특정 객체를 만든 특정 경우나 예 정도로 생각할 수 있습니다. 단순화하면 **객체 = 인스턴스 = 변수**입니다.\n",
        "\n",
        "- 클래스명은 가독성을 추구하고자 로마자 알파벳 대문자로 시작합니다. 예를 들면 `Fruits`, `TestFruits` 같은 형태입니다. 물론 객체는 소문자로 이뤄집니다.\n",
        "\n",
        "- 코드 예시로 다시 설명하겠지만 클래스에서 정의한 함수에 처음 부여하는 인자는 `self`입니다. `self`는 객체를 생성하고 나서 객체 자신을 참조하는 데 사용하는 인자입니다. 함수 대부분에(기실 모든 함수에) `self` 인자를 부여합니다.\n",
        "\n",
        "- **함수**와 **메서드(method)**는 종종 용어를 사용할 때 혼동을 일으키곤 하지만 두 용어를 구분하지 않고 사용해도 괜찮습니다. 모듈이나 클래스에서 정의한 함수를 객체에 넘겨주고 사용할 때는 메서드(method)라고 하지만, 모듈이나 클래스에서 정의한 함수 자체를 메서드라고 부르기도 합니다. 따라서 메서드는 함수이고, 함수는 메서드입니다. 엄밀히 고려하자면 메서드보다 (전부 아우르는) 상위 개념은 함수입니다. 함수의 하위 개념이 메서드인 것입니다. 기실 파이썬에서는 **맴버 함수(member function)** 또는 **인스턴스 함수(instance function)**라는 표현을 많이 사용하지만 함수나 메서드로 사용해도 무관합니다.\n",
        "\n",
        "- 클래스명은 **캐멀케이스(CamelCase)** 형식으로 짓습니다. 캐멀(Camel)은 낙타를 의미합니다. 예를 들면 `CamelCase`처럼 단어의 첫 글자를 대문자로 지정합니다.\n",
        "\n",
        "- **추상화(abstraction)**란 프로그램에서 필요한 요소만을 사용하여 객체를 표현하는 것을 의미합니다. 더 포괄적인 개념이라면 복잡한 자료, 모듈, 시스템 등에서 핵심 개념이나 기능을 간추려 내는 것입니다. "
      ]
    },
    {
      "cell_type": "markdown",
      "metadata": {
        "id": "tsFcRSlNTU6W"
      },
      "source": [
        "## **16.1. 클래스 및 객체 생성하기**"
      ]
    },
    {
      "cell_type": "markdown",
      "metadata": {
        "id": "jHCqldapDT-v"
      },
      "source": [
        "간단한 클래스를 생성해보겠습니다. 클래스는 헬기의 속도, 이동 방향, 멈춤, 재출발 메서드를 가집니다.\n",
        "\n",
        "헬기 클래스에 몇 가지 메서드를 포함시킵니다."
      ]
    },
    {
      "cell_type": "code",
      "metadata": {
        "id": "ism64IYZGWc8"
      },
      "source": [
        "class Helicopter():\n",
        "\n",
        "    def go(self, speed):\n",
        "        print(f'헬기는 {speed}Km/h로 비행합니다.')\n",
        "\n",
        "    def turn(self, direction):\n",
        "        print(f'헬기는 {direction} 방향으로 비행합니다.')\n",
        "\n",
        "    def stop(self):\n",
        "        print(f'{self.use} 용도인 {self.color}색 헬기는 비행하다가 멈춥니다.')\n",
        "\n",
        "    def restart(self):\n",
        "        print('멈췄던 헬기가 다시 이동합니다.')"
      ],
      "execution_count": null,
      "outputs": []
    },
    {
      "cell_type": "markdown",
      "metadata": {
        "id": "ZZMmnndhUMwj"
      },
      "source": [
        "클래스의 객체(인스턴스)를 생성하고(선언하고), 생성한 객체에 속성값을 부여하겠습니다."
      ]
    },
    {
      "cell_type": "code",
      "metadata": {
        "id": "8rpWeo3MUNcE"
      },
      "source": [
        "# 클래스의 객체(인스턴스)를 생성합니다.\n",
        "# 클래스를 객체에 넘겨주는 방식을 취합니다.\n",
        "# `Helicopter()`를 생성자 함수라고 부릅니다. \n",
        "my_helicopter1 = Helicopter()\n",
        "# 객체에 속성값을 부여합니다. 'color'와 'use'는 위 클래스에서 지정한 변수입니다.\n",
        "# 이 변수들에 속성값을 부여하는 것입니다.\n",
        "my_helicopter1.color = 'dark green'\n",
        "my_helicopter1.use = 'battle'"
      ],
      "execution_count": null,
      "outputs": []
    },
    {
      "cell_type": "markdown",
      "metadata": {
        "id": "i5x5DobLJZaD"
      },
      "source": [
        "객체의 속성값을 확인하겠습니다. 속성값을 확인하는 방법은 `객체명.변수명`입니다."
      ]
    },
    {
      "cell_type": "code",
      "metadata": {
        "id": "i0zJF8uMNfkR",
        "colab": {
          "base_uri": "https://localhost:8080/"
        },
        "outputId": "8edabe00-63a5-4ded-b57d-73059f2272ce"
      },
      "source": [
        "print(f'my_helicopter1의 색상은 {my_helicopter1.color}입니다.')\n",
        "print(f'my_helicopter1의 용도는 {my_helicopter1.use}입니다.')"
      ],
      "execution_count": null,
      "outputs": [
        {
          "output_type": "stream",
          "name": "stdout",
          "text": [
            "my_helicopter1의 색상은 dark green입니다.\n",
            "my_helicopter1의 용도는 battle입니다.\n"
          ]
        }
      ]
    },
    {
      "cell_type": "markdown",
      "metadata": {
        "id": "YncLFNpKTf40"
      },
      "source": [
        "## **16.2. 메서드 호출하기**"
      ]
    },
    {
      "cell_type": "markdown",
      "metadata": {
        "id": "y-3etYk3OEEh"
      },
      "source": [
        "객체의 메서드를 호출하겠습니다. 메서드를 호출하는 방법은 `객체명.메서드명`입니다. 속성값을 확인하는 방법과 같습니다."
      ]
    },
    {
      "cell_type": "code",
      "metadata": {
        "id": "4WfuJR2uORvh",
        "colab": {
          "base_uri": "https://localhost:8080/"
        },
        "outputId": "1e160494-a1c2-4c28-e234-d352f06b88b5"
      },
      "source": [
        "my_helicopter1.go(100)\n",
        "my_helicopter1.turn('left')\n",
        "my_helicopter1.stop()\n",
        "my_helicopter1.restart()"
      ],
      "execution_count": null,
      "outputs": [
        {
          "output_type": "stream",
          "name": "stdout",
          "text": [
            "헬기는 100Km/h로 비행합니다.\n",
            "헬기는 left 방향으로 비행합니다.\n",
            "battle 용도인 dark green색 헬기는 비행하다가 멈춥니다.\n",
            "멈췄던 헬기가 다시 이동합니다.\n"
          ]
        }
      ]
    },
    {
      "cell_type": "markdown",
      "metadata": {
        "id": "7sbE9gzrRKXp"
      },
      "source": [
        "다른 객체를 생성해서 적용하겠습니다."
      ]
    },
    {
      "cell_type": "code",
      "metadata": {
        "id": "bz5w418tRPez",
        "colab": {
          "base_uri": "https://localhost:8080/"
        },
        "outputId": "ef5aa7b3-f794-4458-f1f9-e7c0e9d2204b"
      },
      "source": [
        "my_helicopter2 = Helicopter()\n",
        "my_helicopter2.color = 'blue'\n",
        "my_helicopter2.use = 'travel'\n",
        "\n",
        "my_helicopter2.go(90)\n",
        "my_helicopter2.turn('straight')\n",
        "my_helicopter2.stop()\n",
        "my_helicopter2.restart()"
      ],
      "execution_count": null,
      "outputs": [
        {
          "output_type": "stream",
          "name": "stdout",
          "text": [
            "헬기는 90Km/h로 비행합니다.\n",
            "헬기는 straight 방향으로 비행합니다.\n",
            "travel 용도인 blue색 헬기는 비행하다가 멈춥니다.\n",
            "멈췄던 헬기가 다시 이동합니다.\n"
          ]
        }
      ]
    },
    {
      "cell_type": "markdown",
      "metadata": {
        "id": "TzsSffM2VOwD"
      },
      "source": [
        "## **16.3. 객체 초기화하기**"
      ]
    },
    {
      "cell_type": "markdown",
      "metadata": {
        "id": "IG4He5FZVwu3"
      },
      "source": [
        "위에서 객체에 속성값을 부여하는 과정은 아래와 같았습니다.\n",
        "```\n",
        "my_helicopter2 = Helicopter()\n",
        "my_helicopter2.color = 'blue'\n",
        "my_helicopter2.use = 'travel'\n",
        "```\n",
        "여기에서 아래 코드처럼 속성값을 더 간략하게 부여할 수 있는 방법이 있습니다.\n",
        "```\n",
        "my_helicopter2 = Helicopter('blue', 'travel')\n",
        "```\n",
        "클래스의 변수인 `color`와 `use`에 입력한 속성값을 그대로 전달합니다. 한 줄에 객체명과 속성값만 바꾸는 방식입니다.\n",
        "\n",
        "다만 이 방식을 사용하려면 클래스를 선언할 때 **초기화 함수**인 `__init__`을 구현해야 합니다. 이 함수는 객체를 생성할 때 자동으로 실행됩니다."
      ]
    },
    {
      "cell_type": "markdown",
      "metadata": {
        "id": "1rVnOmwFXlX0"
      },
      "source": [
        "기존 헬기 클래스 코드에 `__init__` 함수를 포함시키겠습니다."
      ]
    },
    {
      "cell_type": "code",
      "metadata": {
        "id": "hXdC6MPhXmY3"
      },
      "source": [
        "class Helicopter():\n",
        "\n",
        "    def __init__(self, color, use):\n",
        "        self.color = color\n",
        "        self.use = use\n",
        "\n",
        "    def go(self, speed):\n",
        "        print(f'헬기는 {speed}Km/h로 비행합니다.')\n",
        "\n",
        "    def turn(self, direction):\n",
        "        print(f'헬기는 {direction} 방향으로 비행합니다.')\n",
        "\n",
        "    def stop(self):\n",
        "        print(f'{self.use} 용도인 {self.color}색 헬기는 비행하다가 멈춥니다.')\n",
        "\n",
        "    def restart(self):\n",
        "        print('멈췄던 헬기가 다시 이동합니다.')"
      ],
      "execution_count": null,
      "outputs": []
    },
    {
      "cell_type": "markdown",
      "metadata": {
        "id": "pUiMDgR1Y9s6"
      },
      "source": [
        "새로운 객체를 생성해서 적용하겠습니다."
      ]
    },
    {
      "cell_type": "code",
      "metadata": {
        "id": "ncGiTATgZBH0",
        "colab": {
          "base_uri": "https://localhost:8080/"
        },
        "outputId": "76b66655-5baa-43d4-83df-5988704af7ac"
      },
      "source": [
        "my_helicopter3 = Helicopter('White', 'Emergency services')\n",
        "print(f'my_helicopter3의 색상은 {my_helicopter3.color}입니다.')\n",
        "print(f'my_helicopter3의 용도는 {my_helicopter3.use}입니다.')\n",
        "\n",
        "my_helicopter3.go(110)\n",
        "my_helicopter3.turn('right')\n",
        "my_helicopter3.stop()\n",
        "my_helicopter3.restart()"
      ],
      "execution_count": null,
      "outputs": [
        {
          "output_type": "stream",
          "name": "stdout",
          "text": [
            "my_helicopter3의 색상은 White입니다.\n",
            "my_helicopter3의 용도는 Emergency services입니다.\n",
            "헬기는 110Km/h로 비행합니다.\n",
            "헬기는 right 방향으로 비행합니다.\n",
            "Emergency services 용도인 White색 헬기는 비행하다가 멈춥니다.\n",
            "멈췄던 헬기가 다시 이동합니다.\n"
          ]
        }
      ]
    },
    {
      "cell_type": "markdown",
      "source": [
        "참고로 `__del__`이라는 **소멸자 함수**도 있습니다. 객체가 소멸될 때 호출되는 함수입니다. 사용법은 초기화 함수와 같습니다. 자주 사용하는 기능은 아닙니다. class Character:\n",
        "    def __init__(self, kind, level, attack, hp, mp):\n",
        "        self.kind = kind\n",
        "        self.level = level\n",
        "        self.attack = attack\n",
        "        self.hp = hp\n",
        "        self.mp = mpclass Character:\n",
        "    def __init__(self, kind, level, attack, hp, mp):\n",
        "        self.kind = kind\n",
        "        self.level = level\n",
        "        self.attack = attack\n",
        "        self.hp = hp\n",
        "        self.mp = mpclass Character:\n",
        "    def __init__(self, kind, level, attack, hp, mp):\n",
        "        self.kind = kind\n",
        "        self.level = level\n",
        "        self.attack = attack\n",
        "        self.hp = hp\n",
        "        self.mp = mpclass Character:\n",
        "    def __init__(self, kind, level, attack, hp, mp):\n",
        "        self.kind = kind\n",
        "        self.level = level\n",
        "        self.attack = attack\n",
        "        self.hp = hp\n",
        "        self.mp = mpclass Character:\n",
        "    def __init__(self, kind, level, attack, hp, mp):\n",
        "        self.kind = kind\n",
        "        self.level = level\n",
        "        self.attack = attack\n",
        "        self.hp = hp\n",
        "        self.mp = mpclass Character:\n",
        "    def __init__(self, kind, level, attack, hp, mp):\n",
        "        self.kind = kind\n",
        "        self.level = level\n",
        "        self.attack = attack\n",
        "        self.hp = hp\n",
        "        self.mp = mpccccasdasㄹㄴㅁㄻsdsfasgasdfaddddasfasfasgfafffff"
      ],
      "metadata": {
        "id": "XiXXRQ9TBpw5"
      }
    },
    {
      "cell_type": "markdown",
      "metadata": {
        "id": "kocmRm17dYQf"
      },
      "source": [
        "## **16.4. 각종 변수**"
      ]
    },
    {
      "cell_type": "markdown",
      "metadata": {
        "id": "nJ4XsPbOfILc"
      },
      "source": [
        "클래스의 변수는 위치에 따라 기능과 용도가 다릅니다."
      ]
    },
    {
      "cell_type": "markdown",
      "metadata": {
        "id": "H0dST2DLeK7T"
      },
      "source": [
        "### **16.4.1. 클래스 변수**"
      ]
    },
    {
      "cell_type": "markdown",
      "metadata": {
        "id": "tI2EzZmUlFwW"
      },
      "source": [
        "**클래스 변수(class variable)**는 클래스 내에서 함수 바깥에 위치한 변수입니다. 모든 인스턴스가 사용할 수 있는 변수입니다.\n",
        "\n",
        "아래에서 코드로 예시하겠습니다."
      ]
    },
    {
      "cell_type": "code",
      "metadata": {
        "id": "7-0SQJEJgCXa"
      },
      "source": [
        "class Helicopter():\n",
        "\n",
        "    # 클래스 변수를 생성합니다. 함수 바깥에 위치합니다.\n",
        "    helicopter_count = 0\n",
        "\n",
        "    def __init__(self, color, use):\n",
        "        self.color = color\n",
        "        self.use = use\n",
        "        # 클래스 변수를 사용하여 1을 더해 나갑니다.\n",
        "        # 반드시 `클래스명.변수명`으로 지정해야 합니다.\n",
        "        Helicopter.helicopter_count = Helicopter.helicopter_count + 1\n",
        "\n",
        "    def go(self, speed):\n",
        "        print(f'헬기는 {speed}Km/h로 비행합니다.')\n",
        "\n",
        "    def turn(self, direction):\n",
        "        print(f'헬기는 {direction} 방향으로 비행합니다.')\n",
        "\n",
        "    def stop(self):\n",
        "        print(f'{self.use} 용도인 {self.color}색 헬기는 비행하다가 멈춥니다.')\n",
        "\n",
        "    def restart(self):\n",
        "        print('멈췄던 헬기가 다시 이동합니다.')"
      ],
      "execution_count": null,
      "outputs": []
    },
    {
      "cell_type": "markdown",
      "metadata": {
        "id": "HI3zDG9jg-Gj"
      },
      "source": [
        "헬기 객체 두 대를 더 생성하겠습니다. 그리고 클래스 변수로 추가한 헬기 대수를 확인하겠습니다."
      ]
    },
    {
      "cell_type": "code",
      "metadata": {
        "id": "YGbngGc1hD5C",
        "colab": {
          "base_uri": "https://localhost:8080/"
        },
        "outputId": "ed9dc4b9-a28f-4daf-b123-d015f988a6c0"
      },
      "source": [
        "my_helicopter4 = Helicopter('red', 'firefighting')\n",
        "print(f'보유한 헬기 대수는 {my_helicopter4.helicopter_count}입니다.')"
      ],
      "execution_count": null,
      "outputs": [
        {
          "output_type": "stream",
          "name": "stdout",
          "text": [
            "보유한 헬기 대수는 1입니다.\n"
          ]
        }
      ]
    },
    {
      "cell_type": "code",
      "metadata": {
        "id": "TTLV62z-jOVA",
        "colab": {
          "base_uri": "https://localhost:8080/"
        },
        "outputId": "8db234f4-bc1a-4fdc-c42a-e999cbcb096d"
      },
      "source": [
        "my_helicopter5 = Helicopter('green', 'environment management')\n",
        "print(f'보유한 헬기 대수는 {my_helicopter5.helicopter_count}입니다.')"
      ],
      "execution_count": null,
      "outputs": [
        {
          "output_type": "stream",
          "name": "stdout",
          "text": [
            "보유한 헬기 대수는 2입니다.\n"
          ]
        }
      ]
    },
    {
      "cell_type": "markdown",
      "metadata": {
        "id": "sANWx7ZmeOHU"
      },
      "source": [
        "### **16.4.2. 인스턴스 변수**"
      ]
    },
    {
      "cell_type": "markdown",
      "metadata": {
        "id": "PbYgXrx1lDAb"
      },
      "source": [
        "**인스턴스 변수(instance variable)**는 클래스 내에서 함수 안에 위치한 변수입니다. 클래스 변수와 인스턴스 변수는 별개로 사용됩니다. 아울러 생성한 객체에 해당되는 속성값만 가집니다.\n",
        "\n",
        "아래 코드에서 인스턴스 변수를 표시하겠습니다. 상세한 설명은 생략합니다."
      ]
    },
    {
      "cell_type": "code",
      "metadata": {
        "id": "bpf7yAhxk51c"
      },
      "source": [
        "class Helicopter():\n",
        "\n",
        "    # 클래스 변수입니다.\n",
        "    helicopter_count = 0\n",
        "\n",
        "    # 인스턴스 변수인 `color`와 `use`입니다.\n",
        "    # 객체를 생성하면 지정한 속성값은 초기화됩니다.\n",
        "    def __init__(self, color, use):\n",
        "        self.color = color\n",
        "        self.use = use\n",
        "        Helicopter.helicopter_count = Helicopter.helicopter_count + 1\n",
        "\n",
        "    def go(self, speed):\n",
        "        print(f'헬기는 {speed}Km/h로 비행합니다.')\n",
        "\n",
        "    def turn(self, direction):\n",
        "        print(f'헬기는 {direction} 방향으로 비행합니다.')\n",
        "\n",
        "    def stop(self):\n",
        "        print(f'{self.use} 용도인 {self.color}색 헬기는 비행하다가 멈춥니다.')\n",
        "\n",
        "    def restart(self):\n",
        "        print('멈췄던 헬기가 다시 이동합니다.')"
      ],
      "execution_count": null,
      "outputs": []
    },
    {
      "cell_type": "markdown",
      "metadata": {
        "id": "VN1qhhNqd85R"
      },
      "source": [
        "## **16.5. 각종 메서드**"
      ]
    },
    {
      "cell_type": "markdown",
      "metadata": {
        "id": "rhq96UJtCo4R"
      },
      "source": [
        "메서드는 세 가지 종류입니다. 아래 파트에서 코드로 설명합니다."
      ]
    },
    {
      "cell_type": "markdown",
      "metadata": {
        "id": "hF6jKj-VeXca"
      },
      "source": [
        "### **16.5.1. 인스턴스 메서드**"
      ]
    },
    {
      "cell_type": "markdown",
      "metadata": {
        "id": "Z3O4pLb5CvqN"
      },
      "source": [
        "**인스턴스 메서드(instance method)**는 위에서 생성한 클래스에 속해있는 모든 메서드입니다. 객체가 개별적으로 호출하는 함수입니다.\n",
        "\n",
        "추가로 `execution_of_duty`라는 인스턴스 메서드를 기존에 지정한 인스턴스 변수와 인스턴스 메서드와 접목하여 생성하겠습니다.\n",
        "\n",
        "아래 코드에서 주석으로 설명합니다."
      ]
    },
    {
      "cell_type": "code",
      "metadata": {
        "id": "YU1IyjeYDCsY"
      },
      "source": [
        "class Helicopter():\n",
        "\n",
        "    helicopter_count = 0\n",
        "\n",
        "    # 인스턴스 메서드입니다. 초기화 함수도 인스턴스 메서드입니다.\n",
        "    def __init__(self, color, use):\n",
        "        self.color = color\n",
        "        self.use = use\n",
        "        Helicopter.helicopter_count = Helicopter.helicopter_count + 1\n",
        "    # 인스턴스 메서드입니다.\n",
        "    def go(self, speed):\n",
        "        # 새로 생성할 인스턴스 메서드에서 사용할 인스턴스 변수를 생성합니다.\n",
        "        self.speed = speed\n",
        "        print(f'헬기는 {speed}Km/h로 비행합니다.')\n",
        "    # 인스턴스 메서드입니다.\n",
        "    def turn(self, direction):\n",
        "        print(f'헬기는 {direction} 방향으로 비행합니다.')\n",
        "    # 인스턴스 메서드입니다.\n",
        "    def stop(self):\n",
        "        print(f'{self.use} 용도인 {self.color}색 헬기는 비행하다가 멈춥니다.')\n",
        "    # 인스턴스 메서드입니다.\n",
        "    def restart(self):\n",
        "        print('멈췄던 헬기가 다시 이동합니다.')\n",
        "\n",
        "    # 새로운 인스턴스 메서드를 생성합니다.\n",
        "    def execution_of_duty(self):\n",
        "        print(f'{self.use} 임무 수행을 시작합니다.')\n",
        "        # 인스턴스 메서드 안에 기존에 지정한 인스턴스 메서드를 포함시킵니다.\n",
        "        self.go(self.speed)\n",
        "        self.stop()\n",
        "        self.restart()"
      ],
      "execution_count": null,
      "outputs": []
    },
    {
      "cell_type": "code",
      "metadata": {
        "id": "IbluCyEHOCIp",
        "colab": {
          "base_uri": "https://localhost:8080/"
        },
        "outputId": "1968441e-25f4-44bf-af1a-9d4428b5bd42"
      },
      "source": [
        "my_helicopter6 = Helicopter('yellow', 'business')\n",
        "my_helicopter6.go(90)\n",
        "my_helicopter6.execution_of_duty()"
      ],
      "execution_count": null,
      "outputs": [
        {
          "output_type": "stream",
          "name": "stdout",
          "text": [
            "헬기는 90Km/h로 비행합니다.\n",
            "business 임무 수행을 시작합니다.\n",
            "헬기는 90Km/h로 비행합니다.\n",
            "business 용도인 yellow색 헬기는 비행하다가 멈춥니다.\n",
            "멈췄던 헬기가 다시 이동합니다.\n"
          ]
        }
      ]
    },
    {
      "cell_type": "markdown",
      "metadata": {
        "id": "3NpyKZrBWB1v"
      },
      "source": [
        "새로 생성한 인스턴스 메서드를 호출했더니 기존 인스턴스 메서드들도 함께 호출됐습니다."
      ]
    },
    {
      "cell_type": "markdown",
      "metadata": {
        "id": "Ei1LBqBieavz"
      },
      "source": [
        "### **16.5.2. 정적 메서드**"
      ]
    },
    {
      "cell_type": "markdown",
      "metadata": {
        "id": "sxvusdEqWQM0"
      },
      "source": [
        "**정적 메서드(static method)**는 클래스와 객체와 전혀 무관하게 작동하는 메서드입니다. 'static'은 '고정된, 정지 상태의'를 의미합니다. 즉 클래스 안에서 독립적으로 고정된 상태로 생각할 수 있습니다.\n",
        "\n",
        "정적 메서드에는 몇 가지 특징이 있습니다. 클래스 안에 위치하지만 `self` 인자를 사용하지 않습니다. 아울러 정적 메서드 구역에서는 인스턴스 메서드와 인스턴스 변수에 접근할 수 없습니다.\n",
        "\n",
        "정적 메서드를 선언하려면 **데코레이터(Decorator)**인 `@staticmethod`를 함수 위에 지정합니다. \n",
        "\n",
        "아래 코드로 예시합니다."
      ]
    },
    {
      "cell_type": "code",
      "metadata": {
        "id": "Lf6TEuNraGYX"
      },
      "source": [
        "class Helicopter():\n",
        "\n",
        "    helicopter_count = 0\n",
        "\n",
        "    # 정적 메서드를 지정합니다. `self` 인자는 지정하지 않습니다.\n",
        "    @staticmethod\n",
        "    def country(producing_country):\n",
        "        if producing_country == 'Republic of Korea':\n",
        "            print('대한민국에서 생산되었습니다.')\n",
        "        elif producing_country == 'USA':\n",
        "            print('미국에서 생산되었습니다.')\n",
        "        else:\n",
        "            print(f'{producing_country}에서 생산되었습니다.')\n",
        "            \n",
        "    def __init__(self, color, use):\n",
        "        self.color = color\n",
        "        self.use = use\n",
        "        Helicopter.helicopter_count = Helicopter.helicopter_count + 1\n",
        "\n",
        "    def go(self, speed):\n",
        "        self.speed = speed\n",
        "        print(f'헬기는 {speed}Km/h로 비행합니다.')\n",
        "\n",
        "    def turn(self, direction):\n",
        "        print(f'헬기는 {direction} 방향으로 비행합니다.')\n",
        "\n",
        "    def stop(self):\n",
        "        print(f'{self.use} 용도인 {self.color}색 헬기는 비행하다가 멈춥니다.')\n",
        "\n",
        "    def restart(self):\n",
        "        print('멈췄던 헬기가 다시 이동합니다.')\n",
        "\n",
        "    def execution_of_duty(self):\n",
        "        print(f'{self.use} 임무 수행을 시작합니다.')\n",
        "        self.go(self.speed)\n",
        "        self.stop()\n",
        "        self.restart()"
      ],
      "execution_count": null,
      "outputs": []
    },
    {
      "cell_type": "markdown",
      "metadata": {
        "id": "fHXlCSmGfKyx"
      },
      "source": [
        "`self` 인자를 지정하지 않았으므로 인스턴스로 함수를 호출할 수 없습니다. `클래스명.정적메서드명()`으로만 정적 메서드를 호출할 수 있습니다."
      ]
    },
    {
      "cell_type": "code",
      "metadata": {
        "id": "3QNuYlarfDFi",
        "colab": {
          "base_uri": "https://localhost:8080/"
        },
        "outputId": "d8c385b8-40b7-44bc-d3a6-0fd2b278a75d"
      },
      "source": [
        "Helicopter.country('Republic of Korea')\n",
        "Helicopter.country('Germany')"
      ],
      "execution_count": null,
      "outputs": [
        {
          "output_type": "stream",
          "name": "stdout",
          "text": [
            "대한민국에서 생산되었습니다.\n",
            "Germany에서 생산되었습니다.\n"
          ]
        }
      ]
    },
    {
      "cell_type": "markdown",
      "metadata": {
        "id": "CKrU3F8VeeQY"
      },
      "source": [
        "### **16.5.3. 클래스 메서드**"
      ]
    },
    {
      "cell_type": "markdown",
      "metadata": {
        "id": "RnEhsBhpjSnw"
      },
      "source": [
        "**클래스 메서드(class method)**는 클래스를 관리하는 데 주로 사용하며, 기존에 지정한 클래스 변수를 사용하기 위한 메서드이기도 합니다.\n",
        "\n",
        "`self` 인자 대신 `cls` 인자를 지정합니다. 클래스를 의미하는 `cls` 인자로 클래스 변수에 접근할 수 있습니다.\n",
        "\n",
        "정적 메서드처럼 클래스 메서드 또한 데코레이터를 지정해야 합니다. `@classmethod`로 함수 위에 지정합니다.\n",
        "\n",
        "아래 코드에 클래스 메서드를 지정하겠습니다."
      ]
    },
    {
      "cell_type": "code",
      "metadata": {
        "id": "2UpllO8Kj5YB"
      },
      "source": [
        "class Helicopter():\n",
        "\n",
        "    # 클래스 변수입니다. 이 변수를 사용하기 위해 클래스 메서드를 지정하겠습니다.\n",
        "    helicopter_count = 0\n",
        "\n",
        "    # 클래스 메서드를 생성합니다. 인자로 `cls`를 지정합니다.\n",
        "    @classmethod\n",
        "    def count(cls):\n",
        "        print(f'보유한 헬기의 대수는 {cls.helicopter_count}대입니다.')\n",
        "\n",
        "    @staticmethod\n",
        "    def country(producing_country):\n",
        "        if producing_country == 'Republic of Korea':\n",
        "            print('대한민국에서 생산되었습니다.')\n",
        "        elif producing_country == 'USA':\n",
        "            print('미국에서 생산되었습니다.')\n",
        "        else:\n",
        "            print(f'{producing_country}에서 생산되었습니다.')\n",
        "\n",
        "    def __init__(self, color, use):\n",
        "        self.color = color\n",
        "        self.use = use\n",
        "        Helicopter.helicopter_count = Helicopter.helicopter_count + 1\n",
        "\n",
        "    def go(self, speed):\n",
        "        self.speed = speed\n",
        "        print(f'헬기는 {speed}Km/h로 비행합니다.')\n",
        "\n",
        "    def turn(self, direction):\n",
        "        print(f'헬기는 {direction} 방향으로 비행합니다.')\n",
        "\n",
        "    def stop(self):\n",
        "        print(f'{self.use} 용도인 {self.color}색 헬기는 비행하다가 멈춥니다.')\n",
        "\n",
        "    def restart(self):\n",
        "        print('멈췄던 헬기가 다시 이동합니다.')\n",
        "\n",
        "    def execution_of_duty(self):\n",
        "        print(f'{self.use} 임무 수행을 시작합니다.')\n",
        "        self.go(self.speed)\n",
        "        self.stop()\n",
        "        self.restart()"
      ],
      "execution_count": null,
      "outputs": []
    },
    {
      "cell_type": "markdown",
      "metadata": {
        "id": "ZzhM3lXmllc-"
      },
      "source": [
        "클래스 메서드를 호출하려면 `클래스명.클래스메서드명()` 형식을 취합니다."
      ]
    },
    {
      "cell_type": "code",
      "metadata": {
        "id": "qx4o165zl-Jj",
        "colab": {
          "base_uri": "https://localhost:8080/"
        },
        "outputId": "f0a19d47-e0ac-4fe9-c974-4aa63cf1d020"
      },
      "source": [
        "Helicopter.count()"
      ],
      "execution_count": null,
      "outputs": [
        {
          "output_type": "stream",
          "name": "stdout",
          "text": [
            "보유한 헬기의 대수는 0대입니다.\n"
          ]
        }
      ]
    },
    {
      "cell_type": "markdown",
      "metadata": {
        "id": "iZXitifBmCsY"
      },
      "source": [
        "지금까지 클래스를 새로 선언하면서 내용을 추가했습니다. 클래스를 새로 선언하면 기존에 생성됐던 인스턴스는 모두 초기화됩니다.\n",
        "\n",
        "모든 인스턴스를 가져오겠습니다."
      ]
    },
    {
      "cell_type": "code",
      "metadata": {
        "id": "PeKMEDofmXgT"
      },
      "source": [
        "my_helicopter1 = Helicopter('Dark green', 'Battle')\n",
        "my_helicopter2 = Helicopter('Blue', 'travel')\n",
        "my_helicopter3 = Helicopter('White', 'Emergency services')\n",
        "my_helicopter4 = Helicopter('red', 'firefighting')\n",
        "my_helicopter5 = Helicopter('green', 'environment management')\n",
        "my_helicopter6 = Helicopter('yellow', 'business')"
      ],
      "execution_count": null,
      "outputs": []
    },
    {
      "cell_type": "markdown",
      "metadata": {
        "id": "sN6d5qXLm_yv"
      },
      "source": [
        "다시 클래스 메서드를 호출합니다."
      ]
    },
    {
      "cell_type": "code",
      "metadata": {
        "id": "R5WgWh7XnC0T",
        "colab": {
          "base_uri": "https://localhost:8080/"
        },
        "outputId": "276e9fce-a80f-4a08-e558-567c8b9b9a24"
      },
      "source": [
        "Helicopter.count()"
      ],
      "execution_count": null,
      "outputs": [
        {
          "output_type": "stream",
          "name": "stdout",
          "text": [
            "보유한 헬기의 대수는 6대입니다.\n"
          ]
        }
      ]
    },
    {
      "cell_type": "markdown",
      "metadata": {
        "id": "q3wIKkTXesfN"
      },
      "source": [
        "## **16.6. 클래스 상속**"
      ]
    },
    {
      "cell_type": "markdown",
      "metadata": {
        "id": "r-QGWv5Qqm8M"
      },
      "source": [
        "이미 생성한 클래스에서 선언한 메서드와 변수를 새 클래스로 가져와서 사용하도록(상속하도록) 지정할 수 있습니다. 여기서 이미 생성한 클래스란 메서드와 변수를 넘겨주는(상속해주는) **부모 클래스(=상위 클래스, 슈퍼 클래스)**, 새 클래스란 메서드와 변수를 가져와서 사용하는(상속하는) **자식 클래스(=하위 클래스, 서브 클래스)**를 의미합니다. 다시 말하면 자식 클래스는 부모 클래스가 가진 메서드와 변수를 가져와서 사용하도록 새로 생성하는 클래스입니다.\n",
        "\n",
        "아래 코드를 통해 예시하겠습니다. 먼저 기존에 생성한 부모 클래스입니다."
      ]
    },
    {
      "cell_type": "code",
      "metadata": {
        "id": "iQjRWCHLtn7T"
      },
      "source": [
        "class Helicopter():\n",
        "\n",
        "    helicopter_count = 0\n",
        "\n",
        "    @classmethod\n",
        "    def count(cls):\n",
        "        print(f'보유한 헬기의 대수는 {cls.helicopter_count}대입니다.')\n",
        "\n",
        "    @staticmethod\n",
        "    def country(producing_country):\n",
        "        if producing_country == 'Republic of Korea':\n",
        "            print('대한민국에서 생산되었습니다.')\n",
        "        elif producing_country == 'USA':\n",
        "            print('미국에서 생산되었습니다.')\n",
        "        else:\n",
        "            print(f'{producing_country}에서 생산되었습니다.')\n",
        "\n",
        "    def __init__(self, color, use):\n",
        "        self.color = color\n",
        "        self.use = use\n",
        "        Helicopter.helicopter_count = Helicopter.helicopter_count + 1\n",
        "\n",
        "    def go(self, speed):\n",
        "        self.speed = speed\n",
        "        print(f'헬기는 {speed}Km/h로 비행합니다.')\n",
        "\n",
        "    def turn(self, direction):\n",
        "        print(f'헬기는 {direction} 방향으로 비행합니다.')\n",
        "\n",
        "    def stop(self):\n",
        "        print(f'{self.use} 용도인 {self.color}색 헬기는 비행하다가 멈춥니다.')\n",
        "\n",
        "    def restart(self):\n",
        "        print('멈췄던 헬기가 다시 이동합니다.')\n",
        "\n",
        "    def execution_of_duty(self):\n",
        "        print(f'{self.use} 임무 수행을 시작합니다.')\n",
        "        self.go(self.speed)\n",
        "        self.stop()\n",
        "        self.restart()"
      ],
      "execution_count": null,
      "outputs": []
    },
    {
      "cell_type": "markdown",
      "metadata": {
        "id": "QAnuS48Yu3HH"
      },
      "source": [
        "### **16.6.1. 자식 클래스 생성하기**"
      ]
    },
    {
      "cell_type": "markdown",
      "metadata": {
        "id": "6FouUsZKtuE7"
      },
      "source": [
        "자식 클래스를 생성하겠습니다. 자식 클래스명은 수륙양용 헬기를 의미하는 `Amphibious`입니다."
      ]
    },
    {
      "cell_type": "code",
      "metadata": {
        "id": "l9NXsq72uKbf"
      },
      "source": [
        "# 자식 클래스에 부모 클래스를 인자로 지정합니다.\n",
        "class AmphbiousHelicopter(Helicopter):\n",
        "    # 초기화 함수의 인자에 부모 클래스에서 사용한 변수인 `color`, `use`를 지정하고\n",
        "    # 자식 클래스에서 사용할 `location`이라는 변수를 추가로 지정합니다.\n",
        "    def __init__(self, color, use, size):\n",
        "        # 부모 클래스에서 사용하는 초기화를 그대로 사용합니다.\n",
        "        # `super().__init__(color, use) 또한 사용할 수 있는 형식입니다.\n",
        "        # `super()`를 사용할 때는 `self` 인자를 포함시키지 않습니다.\n",
        "        Helicopter.__init__(self, color, use)\n",
        "        self.size = size\n",
        "    \n",
        "    def water_landing(self):\n",
        "        print(f'{self.color} 색상인 {self.size} 크기의 {self.use}용 헬기가 물에 착륙합니다.')\n",
        "\n",
        "    def ground_landing(self):\n",
        "        print(f'{self.color} 색상인 {self.size} 크기의 {self.use}용 헬기가 물에 착륙합니다.')"
      ],
      "execution_count": null,
      "outputs": []
    },
    {
      "cell_type": "markdown",
      "metadata": {
        "id": "ytj3afhk4CKo"
      },
      "source": [
        "`mro()` 메서드를 사용하여 상속 관계를 확인하겠습니다. `클래스명.mro()` 형식으로 사용합니다."
      ]
    },
    {
      "cell_type": "code",
      "metadata": {
        "id": "yOdhRPmL4UeU",
        "colab": {
          "base_uri": "https://localhost:8080/"
        },
        "outputId": "234ea68c-4899-4e4c-b934-1b0e334745c0"
      },
      "source": [
        "AmphbiousHelicopter.mro()"
      ],
      "execution_count": null,
      "outputs": [
        {
          "output_type": "execute_result",
          "data": {
            "text/plain": [
              "[__main__.AmphbiousHelicopter, __main__.Helicopter, object]"
            ]
          },
          "metadata": {},
          "execution_count": 166
        }
      ]
    },
    {
      "cell_type": "markdown",
      "metadata": {
        "id": "2fg4dsAzuzcO"
      },
      "source": [
        "### **16.6.2. 자식 클래스의 인스턴스**"
      ]
    },
    {
      "cell_type": "markdown",
      "metadata": {
        "id": "393sac_Px42a"
      },
      "source": [
        "자식 클래스의 인스턴스를 생성하여 메서드를 호출하겠습니다."
      ]
    },
    {
      "cell_type": "code",
      "metadata": {
        "id": "CI4dX-NEx4Pm",
        "colab": {
          "base_uri": "https://localhost:8080/"
        },
        "outputId": "fdf9555a-20bb-48bf-a446-ba785fbc617a"
      },
      "source": [
        "my_helicopter7 = AmphbiousHelicopter('rainbow', 'toy', 'big')\n",
        "my_helicopter7.go(20)\n",
        "my_helicopter7.turn('back')\n",
        "my_helicopter7.stop()\n",
        "my_helicopter7.restart()\n",
        "print()\n",
        "my_helicopter7.execution_of_duty()\n",
        "print()\n",
        "my_helicopter7.water_landing()\n",
        "my_helicopter7.ground_landing()"
      ],
      "execution_count": null,
      "outputs": [
        {
          "output_type": "stream",
          "name": "stdout",
          "text": [
            "헬기는 20Km/h로 비행합니다.\n",
            "헬기는 back 방향으로 비행합니다.\n",
            "toy 용도인 rainbow색 헬기는 비행하다가 멈춥니다.\n",
            "멈췄던 헬기가 다시 이동합니다.\n",
            "\n",
            "toy 임무 수행을 시작합니다.\n",
            "헬기는 20Km/h로 비행합니다.\n",
            "toy 용도인 rainbow색 헬기는 비행하다가 멈춥니다.\n",
            "멈췄던 헬기가 다시 이동합니다.\n",
            "\n",
            "rainbow 색상인 big 크기의 toy용 헬기가 물에 착륙합니다.\n",
            "rainbow 색상인 big 크기의 toy용 헬기가 물에 착륙합니다.\n"
          ]
        }
      ]
    },
    {
      "cell_type": "markdown",
      "metadata": {
        "id": "s7Tcm0Q72VJm"
      },
      "source": [
        "### **16.6.3. 메서드 오버라이딩**"
      ]
    },
    {
      "cell_type": "markdown",
      "metadata": {
        "id": "YeG35fDL1f8x"
      },
      "source": [
        "참고로 부모 클래스의 메서드명과 자식 클래스의 메서드명이 같은 경우에는 자식 클래스의 메서드가 수행됩니다. 이를 **메서드 오버라이딩 (Method overriding)**이라고 부릅니다.\n",
        "\n",
        "물론 부모 클래스의 메서드도 호출하고, 자식 클래스의 메서드도 함께 호출하는 방법이 있습니다. `super().함수명`을 지정하면 부모 클래스의 메서드와 자식 클래스의 메서드를 모두 호출합니다. 예시는 생략하겠습니다."
      ]
    },
    {
      "cell_type": "markdown",
      "metadata": {
        "id": "wqTpS9-s2iyp"
      },
      "source": [
        "### **16.6.4. 다중 상속**"
      ]
    },
    {
      "cell_type": "markdown",
      "metadata": {
        "id": "HCksOdr-2l4H"
      },
      "source": [
        "**다중 상속**이란 말그대로 자식 클래스가 여러 부모 클래스의 메서드와 변수를 상속하는 것을 의미합니다.\n",
        "\n",
        "아래는 형식에 대한 간단한 예시입니다.\n",
        "\n",
        "```\n",
        "# 첫 번째 부모 클래스입니다.\n",
        "class Helicopter1():\n",
        ".\n",
        ".\n",
        ".\n",
        "# 두 번째 부모 클래스입니다.\n",
        "class Helicopter2():\n",
        ".\n",
        ".\n",
        ".\n",
        "# 자식 클래스입니다. 두 부모 클래스를 인자로 지정합니다.\n",
        "class AmphbiousHelicopter(Helicopter1, Helicopter2):\n",
        ".\n",
        ".\n",
        ".\n",
        "```"
      ]
    },
    {
      "cell_type": "markdown",
      "source": [
        "## **16.7. 클래스 보충(보강 중)**"
      ],
      "metadata": {
        "id": "pFpOMrRYgVaU"
      }
    },
    {
      "cell_type": "markdown",
      "source": [
        "위에서 다룬 내용들을 토대로 보충 내용을 추가하겠습니다.\n",
        "\n",
        "예시로 게임 캐릭터 관리 프로그램을 만들어 보겠습니다. 먼저 객체를 선언하겠습니다."
      ],
      "metadata": {
        "id": "59UCQUG6grP6"
      }
    },
    {
      "cell_type": "code",
      "source": [
        "characters = [\n",
        "              {'kind': 'warrior', 'level': 10, 'attack': 100, 'hp': 100, 'mp': 30},\n",
        "              {'kind': 'stone', 'level': 10, 'attack': 50, 'hp': 150, 'mp': 30},\n",
        "              {'kind': 'killer', 'level': 10, 'attack': 150, 'hp': 50, 'mp': 50},\n",
        "              {'kind': 'archer', 'level': 10, 'attack': 120, 'hp': 80, 'mp': 70},\n",
        "              {'kind': 'gunner', 'level': 10, 'attack': 140, 'hp': 60, 'mp': 70}\n",
        "]\n",
        "\n",
        "print('kind', 'DPS', 'HPL', 'MPA', sep='\\t')\n",
        "\n",
        "for character in characters:\n",
        "    dps = round(character['attack'] / 60, 1)\n",
        "    hp_per_level = round(character['hp'] / character['level'], 1)\n",
        "    mp_per_attack = round(character['mp'] / character['attack'], 1)\n",
        "    \n",
        "    print(character['kind'], dps, hp_per_level, mp_per_attack, sep='\\t')"
      ],
      "metadata": {
        "colab": {
          "base_uri": "https://localhost:8080/"
        },
        "id": "G18xsaEdhotg",
        "outputId": "e38c2cc1-765c-44e9-ca4d-8ea77461d09b"
      },
      "execution_count": 10,
      "outputs": [
        {
          "output_type": "stream",
          "name": "stdout",
          "text": [
            "type\tDPS\tHPL\tMPA\n",
            "warrior\t1.7\t10.0\t0.3\n",
            "stone\t0.8\t15.0\t0.6\n",
            "killer\t2.5\t5.0\t0.3\n",
            "archer\t2.0\t8.0\t0.6\n",
            "gunner\t2.3\t6.0\t0.5\n"
          ]
        }
      ]
    },
    {
      "cell_type": "markdown",
      "source": [
        "이렇게 객체를 일일이 선언하는 작업은 번거롭고 비효율적입니다. 딕셔너리를 생성하는 함수를 선언하겠습니다."
      ],
      "metadata": {
        "id": "vkamFkUTo5-e"
      }
    },
    {
      "cell_type": "code",
      "source": [
        "def characters_call(kind, level, attack, hp, mp):\n",
        "    return {'kind': kind, 'level': level, 'attack': attack, 'hp': hp, 'mp': mp}"
      ],
      "metadata": {
        "id": "4RUx9Mz4pBvF"
      },
      "execution_count": 11,
      "outputs": []
    },
    {
      "cell_type": "markdown",
      "source": [
        "리스트에 함수를 그대로 호출하여 객체를 선언하겠습니다."
      ],
      "metadata": {
        "id": "EwG38esvqbWr"
      }
    },
    {
      "cell_type": "code",
      "source": [
        "characters = [\n",
        "              characters_call('warrior', 10, 100, 100, 30),\n",
        "              characters_call('stone', 10, 50, 150, 30),\n",
        "              characters_call('killer', 10, 150, 50, 50),\n",
        "              characters_call('archer', 10, 120, 80, 70),\n",
        "              characters_call('gunner', 10, 140, 60, 70)\n",
        "]\n",
        "\n",
        "print('kind', 'DPS', 'HPL', 'MPA', sep='\\t')\n",
        "\n",
        "for character in characters:\n",
        "    dps = round(character['attack'] / 60, 1)\n",
        "    hp_per_level = round(character['hp'] / character['level'], 1)\n",
        "    mp_per_attack = round(character['mp'] / character['attack'], 1)\n",
        "    \n",
        "    print(character['kind'], dps, hp_per_level, mp_per_attack, sep='\\t')"
      ],
      "metadata": {
        "colab": {
          "base_uri": "https://localhost:8080/"
        },
        "id": "OobZbr9Opb8k",
        "outputId": "bdfab940-74e8-4465-e2ae-d48deab1f90c"
      },
      "execution_count": 15,
      "outputs": [
        {
          "output_type": "stream",
          "name": "stdout",
          "text": [
            "type\tDPS\tHPL\tMPA\n",
            "warrior\t1.7\t10.0\t0.3\n",
            "stone\t0.8\t15.0\t0.6\n",
            "killer\t2.5\t5.0\t0.3\n",
            "archer\t2.0\t8.0\t0.6\n",
            "gunner\t2.3\t6.0\t0.5\n"
          ]
        }
      ]
    },
    {
      "cell_type": "markdown",
      "source": [
        "이번엔 모든 계산식을 함수로 선언하겠습니다."
      ],
      "metadata": {
        "id": "sWncpqI4uGjt"
      }
    },
    {
      "cell_type": "code",
      "source": [
        "def characters_call(kind, level, attack, hp, mp):\n",
        "    return {'kind': kind, 'level': level, 'attack': attack, 'hp': hp, 'mp': mp}\n",
        "\n",
        "def get_dps(character):\n",
        "    return round(character['attack'] / 60, 1)\n",
        "\n",
        "def get_hpl(character):\n",
        "    return round(character['hp'] / character['level'], 1)\n",
        "\n",
        "def get_mpa(character):\n",
        "    return round(character['mp'] / character['attack'], 1)\n",
        "\n",
        "def character_print(character):\n",
        "    return '{}\\t{}\\t{}\\t{}'.format(character['kind'],\n",
        "                                   get_dps(character),\n",
        "                                   get_hpl(character),\n",
        "                                   get_mpa(character))"
      ],
      "metadata": {
        "id": "wzJkxJOVqxFv"
      },
      "execution_count": 18,
      "outputs": []
    },
    {
      "cell_type": "markdown",
      "source": [
        "함수를 호출하여 같은 결과를 출력하겠습니다."
      ],
      "metadata": {
        "id": "oYrSWT5HuPgx"
      }
    },
    {
      "cell_type": "code",
      "source": [
        "characters = [\n",
        "              characters_call('warrior', 10, 100, 100, 30),\n",
        "              characters_call('stone', 10, 50, 150, 30),\n",
        "              characters_call('killer', 10, 150, 50, 50),\n",
        "              characters_call('archer', 10, 120, 80, 70),\n",
        "              characters_call('gunner', 10, 140, 60, 70)\n",
        "]\n",
        "\n",
        "print('type', 'DPS', 'HPL', 'MPA', sep='\\t')\n",
        "\n",
        "for character in characters:\n",
        "    print(character_print(character))"
      ],
      "metadata": {
        "colab": {
          "base_uri": "https://localhost:8080/"
        },
        "id": "0SE38WwWtM1O",
        "outputId": "3401d0ed-fd02-46d9-a8df-00e0b69debae"
      },
      "execution_count": 19,
      "outputs": [
        {
          "output_type": "stream",
          "name": "stdout",
          "text": [
            "type\tDPS\tHPL\tMPA\n",
            "warrior\t1.7\t10.0\t0.3\n",
            "stone\t0.8\t15.0\t0.6\n",
            "killer\t2.5\t5.0\t0.3\n",
            "archer\t2.0\t8.0\t0.6\n",
            "gunner\t2.3\t6.0\t0.5\n"
          ]
        }
      ]
    },
    {
      "cell_type": "markdown",
      "source": [
        "클래스를 생성하고 생성자 함수를 호출하여 객체를 만들겠습니다."
      ],
      "metadata": {
        "id": "FubejT_j09hp"
      }
    },
    {
      "cell_type": "code",
      "source": [
        "class Character:\n",
        "    def __init__(self, kind, level, attack, hp, mp):\n",
        "        self.kind = kind\n",
        "        self.level = level\n",
        "        self.attack = attack\n",
        "        self.hp = hp\n",
        "        self.mp = mp"
      ],
      "metadata": {
        "id": "LLGASixQ3_VV"
      },
      "execution_count": 29,
      "outputs": []
    },
    {
      "cell_type": "code",
      "source": [
        "characters = [\n",
        "              Character('warrior', 10, 100, 100, 30),\n",
        "              Character('stone', 10, 50, 150, 30),\n",
        "              Character('killer', 10, 150, 50, 50),\n",
        "              Character('archer', 10, 120, 80, 70),\n",
        "              Character('gunner', 10, 140, 60, 70)\n",
        "]\n",
        "\n",
        "print(characters)\n",
        "print(characters[0].kind)\n",
        "print(characters[1].kind)\n",
        "print(characters[2].kind)\n",
        "print(characters[3].kind)\n",
        "print(characters[4].kind)"
      ],
      "metadata": {
        "colab": {
          "base_uri": "https://localhost:8080/"
        },
        "id": "UiTcPPQJ4gEc",
        "outputId": "a4cbe6ac-4632-4185-d8b5-bc6e1852eda5"
      },
      "execution_count": 31,
      "outputs": [
        {
          "output_type": "stream",
          "name": "stdout",
          "text": [
            "[<__main__.Character object at 0x7fbfbf66f710>, <__main__.Character object at 0x7fbfbf66f450>, <__main__.Character object at 0x7fbfbf66fe50>, <__main__.Character object at 0x7fbfbf66f6d0>, <__main__.Character object at 0x7fbfbf66f390>]\n",
            "warrior\n",
            "stone\n",
            "killer\n",
            "archer\n",
            "gunner\n"
          ]
        }
      ]
    },
    {
      "cell_type": "markdown",
      "metadata": {
        "id": "SsvUj3BCKHpQ"
      },
      "source": [
        "# **17. 모듈**"
      ]
    },
    {
      "cell_type": "markdown",
      "metadata": {
        "id": "wArgXyz94yGi"
      },
      "source": [
        "파이썬 코드를 작성하고 파일로 저장한 파일을 **모듈(Module)**이라고 부릅니다. 여러 코드에서 언제든 불러서 재사용할 수 있는 도구이며 여러 클래스와 메서드, 변수를 가졌습니다. 모듈은 사용자가 직접 작성하여 마련한 **외부 모듈**과 전문가에 의해 발명되어 기본으로 내장된 **표준 모듈**로 나뉩니다.\n",
        "\n",
        "모듈을 사용하는 데에는 이점이 있습니다. 먼저 코드를 작성하고 관리하기에 편리합니다. 특히 복잡하고 긴 코드의 경우 기능별로 나눠서 구현하기 좋습니다. 공동으로 작업하는 경우에는 모듈별로 설계한 후에 전체 모듈을 통합하는 과정을 거칩니다. 각자가 맡은 파트에 집중할 수 있으므로 작업 효율성을 도모할 수 있습니다.\n",
        "\n",
        "위에서 서술했듯이 모듈 내에 포함된 함수 또한 메서드라고 부릅니다. 물론 함수와 구분하여 표현할 필요는 없습니다. 파이썬은 모듈 내에 함수가 포함되어 있는 구조이므로 함수는 곧 메서드입니다.\n",
        "\n",
        "설치된 모듈을 확인하겠습니다."
      ]
    },
    {
      "cell_type": "code",
      "source": [
        "pip list"
      ],
      "metadata": {
        "colab": {
          "base_uri": "https://localhost:8080/"
        },
        "id": "fIXdr-iJqUsE",
        "outputId": "0694f3fe-08f5-4fdd-9df7-dfe3ce70fa61"
      },
      "execution_count": 3,
      "outputs": [
        {
          "output_type": "stream",
          "name": "stdout",
          "text": [
            "Package                       Version\n",
            "----------------------------- --------------\n",
            "absl-py                       0.12.0\n",
            "alabaster                     0.7.12\n",
            "albumentations                0.1.12\n",
            "altair                        4.1.0\n",
            "appdirs                       1.4.4\n",
            "argcomplete                   1.12.3\n",
            "argon2-cffi                   21.3.0\n",
            "argon2-cffi-bindings          21.2.0\n",
            "arviz                         0.11.4\n",
            "astor                         0.8.1\n",
            "astropy                       4.3.1\n",
            "astunparse                    1.6.3\n",
            "atari-py                      0.2.9\n",
            "atomicwrites                  1.4.0\n",
            "attrs                         21.2.0\n",
            "audioread                     2.1.9\n",
            "autograd                      1.3\n",
            "Babel                         2.9.1\n",
            "backcall                      0.2.0\n",
            "beautifulsoup4                4.6.3\n",
            "bleach                        4.1.0\n",
            "blis                          0.4.1\n",
            "bokeh                         2.3.3\n",
            "Bottleneck                    1.3.2\n",
            "branca                        0.4.2\n",
            "bs4                           0.0.1\n",
            "CacheControl                  0.12.10\n",
            "cached-property               1.5.2\n",
            "cachetools                    4.2.4\n",
            "catalogue                     1.0.0\n",
            "certifi                       2021.10.8\n",
            "cffi                          1.15.0\n",
            "cftime                        1.5.1.1\n",
            "chardet                       3.0.4\n",
            "charset-normalizer            2.0.9\n",
            "click                         7.1.2\n",
            "cloudpickle                   1.3.0\n",
            "cmake                         3.12.0\n",
            "cmdstanpy                     0.9.5\n",
            "colorcet                      2.0.6\n",
            "colorlover                    0.3.0\n",
            "community                     1.0.0b1\n",
            "contextlib2                   0.5.5\n",
            "convertdate                   2.3.2\n",
            "coverage                      3.7.1\n",
            "coveralls                     0.5\n",
            "crcmod                        1.7\n",
            "cufflinks                     0.17.3\n",
            "cvxopt                        1.2.7\n",
            "cvxpy                         1.0.31\n",
            "cycler                        0.11.0\n",
            "cymem                         2.0.6\n",
            "Cython                        0.29.24\n",
            "daft                          0.0.4\n",
            "dask                          2.12.0\n",
            "datascience                   0.10.6\n",
            "debugpy                       1.0.0\n",
            "decorator                     4.4.2\n",
            "defusedxml                    0.7.1\n",
            "descartes                     1.1.0\n",
            "dill                          0.3.4\n",
            "distributed                   1.25.3\n",
            "dlib                          19.18.0\n",
            "dm-tree                       0.1.6\n",
            "docopt                        0.6.2\n",
            "docutils                      0.17.1\n",
            "dopamine-rl                   1.0.5\n",
            "earthengine-api               0.1.290\n",
            "easydict                      1.9\n",
            "ecos                          2.0.7.post1\n",
            "editdistance                  0.5.3\n",
            "en-core-web-sm                2.2.5\n",
            "entrypoints                   0.3\n",
            "ephem                         4.1\n",
            "et-xmlfile                    1.1.0\n",
            "fa2                           0.3.5\n",
            "fastai                        1.0.61\n",
            "fastdtw                       0.3.4\n",
            "fastprogress                  1.0.0\n",
            "fastrlock                     0.8\n",
            "fbprophet                     0.7.1\n",
            "feather-format                0.4.1\n",
            "filelock                      3.4.0\n",
            "firebase-admin                4.4.0\n",
            "fix-yahoo-finance             0.0.22\n",
            "Flask                         1.1.4\n",
            "flatbuffers                   2.0\n",
            "folium                        0.8.3\n",
            "future                        0.16.0\n",
            "gast                          0.4.0\n",
            "GDAL                          2.2.2\n",
            "gdown                         3.6.4\n",
            "gensim                        3.6.0\n",
            "geographiclib                 1.52\n",
            "geopy                         1.17.0\n",
            "gin-config                    0.5.0\n",
            "glob2                         0.7\n",
            "google                        2.0.3\n",
            "google-api-core               1.26.3\n",
            "google-api-python-client      1.12.8\n",
            "google-auth                   1.35.0\n",
            "google-auth-httplib2          0.0.4\n",
            "google-auth-oauthlib          0.4.6\n",
            "google-cloud-bigquery         1.21.0\n",
            "google-cloud-bigquery-storage 1.1.0\n",
            "google-cloud-core             1.0.3\n",
            "google-cloud-datastore        1.8.0\n",
            "google-cloud-firestore        1.7.0\n",
            "google-cloud-language         1.2.0\n",
            "google-cloud-storage          1.18.1\n",
            "google-cloud-translate        1.5.0\n",
            "google-colab                  1.0.0\n",
            "google-pasta                  0.2.0\n",
            "google-resumable-media        0.4.1\n",
            "googleapis-common-protos      1.53.0\n",
            "googledrivedownloader         0.4\n",
            "graphviz                      0.10.1\n",
            "greenlet                      1.1.2\n",
            "grpcio                        1.42.0\n",
            "gspread                       3.0.1\n",
            "gspread-dataframe             3.0.8\n",
            "gym                           0.17.3\n",
            "h5py                          3.1.0\n",
            "HeapDict                      1.0.1\n",
            "hijri-converter               2.2.2\n",
            "holidays                      0.10.5.2\n",
            "holoviews                     1.14.6\n",
            "html5lib                      1.0.1\n",
            "httpimport                    0.5.18\n",
            "httplib2                      0.17.4\n",
            "httplib2shim                  0.0.3\n",
            "humanize                      0.5.1\n",
            "hyperopt                      0.1.2\n",
            "ideep4py                      2.0.0.post3\n",
            "idna                          2.10\n",
            "imageio                       2.4.1\n",
            "imagesize                     1.3.0\n",
            "imbalanced-learn              0.8.1\n",
            "imblearn                      0.0\n",
            "imgaug                        0.2.9\n",
            "importlib-metadata            4.8.2\n",
            "importlib-resources           5.4.0\n",
            "imutils                       0.5.4\n",
            "inflect                       2.1.0\n",
            "iniconfig                     1.1.1\n",
            "intel-openmp                  2021.4.0\n",
            "intervaltree                  2.1.0\n",
            "ipykernel                     4.10.1\n",
            "ipython                       5.5.0\n",
            "ipython-genutils              0.2.0\n",
            "ipython-sql                   0.3.9\n",
            "ipywidgets                    7.6.5\n",
            "itsdangerous                  1.1.0\n",
            "jax                           0.2.25\n",
            "jaxlib                        0.1.71+cuda111\n",
            "jdcal                         1.4.1\n",
            "jedi                          0.18.1\n",
            "jieba                         0.42.1\n",
            "Jinja2                        2.11.3\n",
            "joblib                        1.1.0\n",
            "jpeg4py                       0.1.4\n",
            "jsonschema                    2.6.0\n",
            "jupyter                       1.0.0\n",
            "jupyter-client                5.3.5\n",
            "jupyter-console               5.2.0\n",
            "jupyter-core                  4.9.1\n",
            "jupyterlab-pygments           0.1.2\n",
            "jupyterlab-widgets            1.0.2\n",
            "kaggle                        1.5.12\n",
            "kapre                         0.3.6\n",
            "keras                         2.7.0\n",
            "Keras-Preprocessing           1.1.2\n",
            "keras-vis                     0.4.1\n",
            "kiwisolver                    1.3.2\n",
            "korean-lunar-calendar         0.2.1\n",
            "libclang                      12.0.0\n",
            "librosa                       0.8.1\n",
            "lightgbm                      2.2.3\n",
            "llvmlite                      0.34.0\n",
            "lmdb                          0.99\n",
            "LunarCalendar                 0.0.9\n",
            "lxml                          4.2.6\n",
            "Markdown                      3.3.6\n",
            "MarkupSafe                    2.0.1\n",
            "matplotlib                    3.2.2\n",
            "matplotlib-inline             0.1.3\n",
            "matplotlib-venn               0.11.6\n",
            "missingno                     0.5.0\n",
            "mistune                       0.8.4\n",
            "mizani                        0.6.0\n",
            "mkl                           2019.0\n",
            "mlxtend                       0.14.0\n",
            "more-itertools                8.12.0\n",
            "moviepy                       0.2.3.5\n",
            "mpmath                        1.2.1\n",
            "msgpack                       1.0.3\n",
            "multiprocess                  0.70.12.2\n",
            "multitasking                  0.0.10\n",
            "murmurhash                    1.0.6\n",
            "music21                       5.5.0\n",
            "natsort                       5.5.0\n",
            "nbclient                      0.5.9\n",
            "nbconvert                     5.6.1\n",
            "nbformat                      5.1.3\n",
            "nest-asyncio                  1.5.4\n",
            "netCDF4                       1.5.8\n",
            "networkx                      2.6.3\n",
            "nibabel                       3.0.2\n",
            "nltk                          3.2.5\n",
            "notebook                      5.3.1\n",
            "numba                         0.51.2\n",
            "numexpr                       2.7.3\n",
            "numpy                         1.19.5\n",
            "nvidia-ml-py3                 7.352.0\n",
            "oauth2client                  4.1.3\n",
            "oauthlib                      3.1.1\n",
            "okgrade                       0.4.3\n",
            "opencv-contrib-python         4.1.2.30\n",
            "opencv-python                 4.1.2.30\n",
            "openpyxl                      2.5.9\n",
            "opt-einsum                    3.3.0\n",
            "osqp                          0.6.2.post0\n",
            "packaging                     21.3\n",
            "palettable                    3.3.0\n",
            "pandas                        1.1.5\n",
            "pandas-datareader             0.9.0\n",
            "pandas-gbq                    0.13.3\n",
            "pandas-profiling              1.4.1\n",
            "pandocfilters                 1.5.0\n",
            "panel                         0.12.1\n",
            "param                         1.12.0\n",
            "parso                         0.8.3\n",
            "pathlib                       1.0.1\n",
            "patsy                         0.5.2\n",
            "pep517                        0.12.0\n",
            "pexpect                       4.8.0\n",
            "pickleshare                   0.7.5\n",
            "Pillow                        7.1.2\n",
            "pip                           21.1.3\n",
            "pip-tools                     6.2.0\n",
            "plac                          1.1.3\n",
            "plotly                        4.4.1\n",
            "plotnine                      0.6.0\n",
            "pluggy                        0.7.1\n",
            "pooch                         1.5.2\n",
            "portpicker                    1.3.9\n",
            "prefetch-generator            1.0.1\n",
            "preshed                       3.0.6\n",
            "prettytable                   2.4.0\n",
            "progressbar2                  3.38.0\n",
            "prometheus-client             0.12.0\n",
            "promise                       2.3\n",
            "prompt-toolkit                1.0.18\n",
            "protobuf                      3.17.3\n",
            "psutil                        5.4.8\n",
            "psycopg2                      2.7.6.1\n",
            "ptyprocess                    0.7.0\n",
            "py                            1.11.0\n",
            "pyarrow                       3.0.0\n",
            "pyasn1                        0.4.8\n",
            "pyasn1-modules                0.2.8\n",
            "pycocotools                   2.0.3\n",
            "pycparser                     2.21\n",
            "pyct                          0.4.8\n",
            "pydata-google-auth            1.2.0\n",
            "pydot                         1.3.0\n",
            "pydot-ng                      2.0.0\n",
            "pydotplus                     2.0.2\n",
            "PyDrive                       1.3.1\n",
            "pyemd                         0.5.1\n",
            "pyerfa                        2.0.0.1\n",
            "pyglet                        1.5.0\n",
            "Pygments                      2.6.1\n",
            "pygobject                     3.26.1\n",
            "pymc3                         3.11.4\n",
            "PyMeeus                       0.5.11\n",
            "pymongo                       3.12.1\n",
            "pymystem3                     0.2.0\n",
            "PyOpenGL                      3.1.5\n",
            "pyparsing                     3.0.6\n",
            "pyrsistent                    0.18.0\n",
            "pysndfile                     1.3.8\n",
            "PySocks                       1.7.1\n",
            "pystan                        2.19.1.1\n",
            "pytest                        3.6.4\n",
            "python-apt                    0.0.0\n",
            "python-chess                  0.23.11\n",
            "python-dateutil               2.8.2\n",
            "python-louvain                0.15\n",
            "python-slugify                5.0.2\n",
            "python-utils                  2.5.6\n",
            "pytz                          2018.9\n",
            "pyviz-comms                   2.1.0\n",
            "PyWavelets                    1.2.0\n",
            "PyYAML                        3.13\n",
            "pyzmq                         22.3.0\n",
            "qdldl                         0.1.5.post0\n",
            "qtconsole                     5.2.2\n",
            "QtPy                          2.0.0\n",
            "regex                         2019.12.20\n",
            "requests                      2.23.0\n",
            "requests-oauthlib             1.3.0\n",
            "resampy                       0.2.2\n",
            "retrying                      1.3.3\n",
            "rpy2                          3.4.5\n",
            "rsa                           4.8\n",
            "scikit-image                  0.18.3\n",
            "scikit-learn                  1.0.1\n",
            "scipy                         1.4.1\n",
            "screen-resolution-extra       0.0.0\n",
            "scs                           2.1.4\n",
            "seaborn                       0.11.2\n",
            "semver                        2.13.0\n",
            "Send2Trash                    1.8.0\n",
            "setuptools                    57.4.0\n",
            "setuptools-git                1.2\n",
            "Shapely                       1.8.0\n",
            "simplegeneric                 0.8.1\n",
            "six                           1.15.0\n",
            "sklearn                       0.0\n",
            "sklearn-pandas                1.8.0\n",
            "smart-open                    5.2.1\n",
            "snowballstemmer               2.2.0\n",
            "sortedcontainers              2.4.0\n",
            "SoundFile                     0.10.3.post1\n",
            "spacy                         2.2.4\n",
            "Sphinx                        1.8.6\n",
            "sphinxcontrib-serializinghtml 1.1.5\n",
            "sphinxcontrib-websupport      1.2.4\n",
            "SQLAlchemy                    1.4.27\n",
            "sqlparse                      0.4.2\n",
            "srsly                         1.0.5\n",
            "statsmodels                   0.10.2\n",
            "sympy                         1.7.1\n",
            "tables                        3.4.4\n",
            "tabulate                      0.8.9\n",
            "tblib                         1.7.0\n",
            "tensorboard                   2.7.0\n",
            "tensorboard-data-server       0.6.1\n",
            "tensorboard-plugin-wit        1.8.0\n",
            "tensorflow                    2.7.0\n",
            "tensorflow-datasets           4.0.1\n",
            "tensorflow-estimator          2.7.0\n",
            "tensorflow-gcs-config         2.7.0\n",
            "tensorflow-hub                0.12.0\n",
            "tensorflow-io-gcs-filesystem  0.22.0\n",
            "tensorflow-metadata           1.4.0\n",
            "tensorflow-probability        0.15.0\n",
            "termcolor                     1.1.0\n",
            "terminado                     0.12.1\n",
            "testpath                      0.5.0\n",
            "text-unidecode                1.3\n",
            "textblob                      0.15.3\n",
            "Theano-PyMC                   1.1.2\n",
            "thinc                         7.4.0\n",
            "threadpoolctl                 3.0.0\n",
            "tifffile                      2021.11.2\n",
            "toml                          0.10.2\n",
            "tomli                         1.2.2\n",
            "toolz                         0.11.2\n",
            "torch                         1.10.0+cu111\n",
            "torchaudio                    0.10.0+cu111\n",
            "torchsummary                  1.5.1\n",
            "torchtext                     0.11.0\n",
            "torchvision                   0.11.1+cu111\n",
            "tornado                       5.1.1\n",
            "tqdm                          4.62.3\n",
            "traitlets                     5.1.1\n",
            "tweepy                        3.10.0\n",
            "typeguard                     2.7.1\n",
            "typing-extensions             3.10.0.2\n",
            "tzlocal                       1.5.1\n",
            "uritemplate                   3.0.1\n",
            "urllib3                       1.24.3\n",
            "vega-datasets                 0.9.0\n",
            "wasabi                        0.8.2\n",
            "wcwidth                       0.2.5\n",
            "webencodings                  0.5.1\n",
            "Werkzeug                      1.0.1\n",
            "wheel                         0.37.0\n",
            "widgetsnbextension            3.5.2\n",
            "wordcloud                     1.5.0\n",
            "wrapt                         1.13.3\n",
            "xarray                        0.18.2\n",
            "xgboost                       0.90\n",
            "xkit                          0.0.0\n",
            "xlrd                          1.1.0\n",
            "xlwt                          1.3.0\n",
            "yellowbrick                   1.3.post1\n",
            "zict                          2.0.0\n",
            "zipp                          3.6.0\n"
          ]
        }
      ]
    },
    {
      "cell_type": "code",
      "source": [
        "pip show xgboost"
      ],
      "metadata": {
        "colab": {
          "base_uri": "https://localhost:8080/"
        },
        "id": "NV1lub1pqxCW",
        "outputId": "310caa02-cacc-4b92-96ec-36c59d2a4689"
      },
      "execution_count": 5,
      "outputs": [
        {
          "output_type": "stream",
          "name": "stdout",
          "text": [
            "Name: xgboost\n",
            "Version: 0.90\n",
            "Summary: XGBoost Python Package\n",
            "Home-page: https://github.com/dmlc/xgboost\n",
            "Author: None\n",
            "Author-email: None\n",
            "License: Apache-2.0\n",
            "Location: /usr/local/lib/python3.7/dist-packages\n",
            "Requires: scipy, numpy\n",
            "Required-by: \n"
          ]
        }
      ]
    },
    {
      "cell_type": "markdown",
      "metadata": {
        "id": "bsBJR5Rztf9h"
      },
      "source": [
        "## **17.1. 표준 모듈**"
      ]
    },
    {
      "cell_type": "markdown",
      "metadata": {
        "id": "wlgCWpsrtkEP"
      },
      "source": [
        "파이썬은 기본적으로 유용한 여러 모듈을 제공합니다. 이 중에 몇 가지 모듈만 살필 예정입니다. 각종 모듈은 [파이썬 표준 라이브러리](https://docs.python.org/3.6/library)에 구체적으로 설명되어 있습니다."
      ]
    },
    {
      "cell_type": "markdown",
      "source": [
        "### **17.1.1. 수학 모듈**"
      ],
      "metadata": {
        "id": "UxK9cqkhASSo"
      }
    },
    {
      "cell_type": "markdown",
      "source": [
        "수학은 `math` 모듈로 구현되어 있습니다. 모듈은 `import` 명령어로 부릅니다. 참고로 import의 사전적 의미는 수입(하다), '불러오다'입니다. 모듈을 임포트하면 여러 형식으로 사용할 수 있습니다. 여러 형식은 아래와 같습니다.\n",
        "\n",
        "```\n",
        "import 모듈\n",
        "모듈.클래스()\n",
        "모듈.메서드()\n",
        "모듈.변수\n",
        "```\n",
        "\n",
        "먼저 `math` 모듈을 부르겠습니다."
      ],
      "metadata": {
        "id": "Re4r7QHGBFMD"
      }
    },
    {
      "cell_type": "code",
      "source": [
        "import math"
      ],
      "metadata": {
        "id": "GJmZ22hTBM8J"
      },
      "execution_count": null,
      "outputs": []
    },
    {
      "cell_type": "markdown",
      "source": [
        "모듈이 가진 메서드와 변수를 확인하려면 `math.`를 입력합니다. 함수와 변수의 리스트가 자동으로 뜹니다. `help(math)`를 선언하면 모듈에 대한 자세한 정보를 확인할 수 있습니다."
      ],
      "metadata": {
        "id": "gfRQ55O0B_CM"
      }
    },
    {
      "cell_type": "code",
      "source": [
        "math."
      ],
      "metadata": {
        "id": "siaDjAOhBP9H"
      },
      "execution_count": null,
      "outputs": []
    },
    {
      "cell_type": "code",
      "source": [
        "help(math)"
      ],
      "metadata": {
        "colab": {
          "base_uri": "https://localhost:8080/"
        },
        "id": "aNotsGSJC7Jz",
        "outputId": "7a71cccb-704c-45fa-b4a2-6d97d520e28e"
      },
      "execution_count": null,
      "outputs": [
        {
          "output_type": "stream",
          "name": "stdout",
          "text": [
            "Help on built-in module math:\n",
            "\n",
            "NAME\n",
            "    math\n",
            "\n",
            "DESCRIPTION\n",
            "    This module provides access to the mathematical functions\n",
            "    defined by the C standard.\n",
            "\n",
            "FUNCTIONS\n",
            "    acos(x, /)\n",
            "        Return the arc cosine (measured in radians) of x.\n",
            "    \n",
            "    acosh(x, /)\n",
            "        Return the inverse hyperbolic cosine of x.\n",
            "    \n",
            "    asin(x, /)\n",
            "        Return the arc sine (measured in radians) of x.\n",
            "    \n",
            "    asinh(x, /)\n",
            "        Return the inverse hyperbolic sine of x.\n",
            "    \n",
            "    atan(x, /)\n",
            "        Return the arc tangent (measured in radians) of x.\n",
            "    \n",
            "    atan2(y, x, /)\n",
            "        Return the arc tangent (measured in radians) of y/x.\n",
            "        \n",
            "        Unlike atan(y/x), the signs of both x and y are considered.\n",
            "    \n",
            "    atanh(x, /)\n",
            "        Return the inverse hyperbolic tangent of x.\n",
            "    \n",
            "    ceil(x, /)\n",
            "        Return the ceiling of x as an Integral.\n",
            "        \n",
            "        This is the smallest integer >= x.\n",
            "    \n",
            "    copysign(x, y, /)\n",
            "        Return a float with the magnitude (absolute value) of x but the sign of y.\n",
            "        \n",
            "        On platforms that support signed zeros, copysign(1.0, -0.0)\n",
            "        returns -1.0.\n",
            "    \n",
            "    cos(x, /)\n",
            "        Return the cosine of x (measured in radians).\n",
            "    \n",
            "    cosh(x, /)\n",
            "        Return the hyperbolic cosine of x.\n",
            "    \n",
            "    degrees(x, /)\n",
            "        Convert angle x from radians to degrees.\n",
            "    \n",
            "    erf(x, /)\n",
            "        Error function at x.\n",
            "    \n",
            "    erfc(x, /)\n",
            "        Complementary error function at x.\n",
            "    \n",
            "    exp(x, /)\n",
            "        Return e raised to the power of x.\n",
            "    \n",
            "    expm1(x, /)\n",
            "        Return exp(x)-1.\n",
            "        \n",
            "        This function avoids the loss of precision involved in the direct evaluation of exp(x)-1 for small x.\n",
            "    \n",
            "    fabs(x, /)\n",
            "        Return the absolute value of the float x.\n",
            "    \n",
            "    factorial(x, /)\n",
            "        Find x!.\n",
            "        \n",
            "        Raise a ValueError if x is negative or non-integral.\n",
            "    \n",
            "    floor(x, /)\n",
            "        Return the floor of x as an Integral.\n",
            "        \n",
            "        This is the largest integer <= x.\n",
            "    \n",
            "    fmod(x, y, /)\n",
            "        Return fmod(x, y), according to platform C.\n",
            "        \n",
            "        x % y may differ.\n",
            "    \n",
            "    frexp(x, /)\n",
            "        Return the mantissa and exponent of x, as pair (m, e).\n",
            "        \n",
            "        m is a float and e is an int, such that x = m * 2.**e.\n",
            "        If x is 0, m and e are both 0.  Else 0.5 <= abs(m) < 1.0.\n",
            "    \n",
            "    fsum(seq, /)\n",
            "        Return an accurate floating point sum of values in the iterable seq.\n",
            "        \n",
            "        Assumes IEEE-754 floating point arithmetic.\n",
            "    \n",
            "    gamma(x, /)\n",
            "        Gamma function at x.\n",
            "    \n",
            "    gcd(x, y, /)\n",
            "        greatest common divisor of x and y\n",
            "    \n",
            "    hypot(x, y, /)\n",
            "        Return the Euclidean distance, sqrt(x*x + y*y).\n",
            "    \n",
            "    isclose(a, b, *, rel_tol=1e-09, abs_tol=0.0)\n",
            "        Determine whether two floating point numbers are close in value.\n",
            "        \n",
            "          rel_tol\n",
            "            maximum difference for being considered \"close\", relative to the\n",
            "            magnitude of the input values\n",
            "          abs_tol\n",
            "            maximum difference for being considered \"close\", regardless of the\n",
            "            magnitude of the input values\n",
            "        \n",
            "        Return True if a is close in value to b, and False otherwise.\n",
            "        \n",
            "        For the values to be considered close, the difference between them\n",
            "        must be smaller than at least one of the tolerances.\n",
            "        \n",
            "        -inf, inf and NaN behave similarly to the IEEE 754 Standard.  That\n",
            "        is, NaN is not close to anything, even itself.  inf and -inf are\n",
            "        only close to themselves.\n",
            "    \n",
            "    isfinite(x, /)\n",
            "        Return True if x is neither an infinity nor a NaN, and False otherwise.\n",
            "    \n",
            "    isinf(x, /)\n",
            "        Return True if x is a positive or negative infinity, and False otherwise.\n",
            "    \n",
            "    isnan(x, /)\n",
            "        Return True if x is a NaN (not a number), and False otherwise.\n",
            "    \n",
            "    ldexp(x, i, /)\n",
            "        Return x * (2**i).\n",
            "        \n",
            "        This is essentially the inverse of frexp().\n",
            "    \n",
            "    lgamma(x, /)\n",
            "        Natural logarithm of absolute value of Gamma function at x.\n",
            "    \n",
            "    log(...)\n",
            "        log(x, [base=math.e])\n",
            "        Return the logarithm of x to the given base.\n",
            "        \n",
            "        If the base not specified, returns the natural logarithm (base e) of x.\n",
            "    \n",
            "    log10(x, /)\n",
            "        Return the base 10 logarithm of x.\n",
            "    \n",
            "    log1p(x, /)\n",
            "        Return the natural logarithm of 1+x (base e).\n",
            "        \n",
            "        The result is computed in a way which is accurate for x near zero.\n",
            "    \n",
            "    log2(x, /)\n",
            "        Return the base 2 logarithm of x.\n",
            "    \n",
            "    modf(x, /)\n",
            "        Return the fractional and integer parts of x.\n",
            "        \n",
            "        Both results carry the sign of x and are floats.\n",
            "    \n",
            "    pow(x, y, /)\n",
            "        Return x**y (x to the power of y).\n",
            "    \n",
            "    radians(x, /)\n",
            "        Convert angle x from degrees to radians.\n",
            "    \n",
            "    remainder(x, y, /)\n",
            "        Difference between x and the closest integer multiple of y.\n",
            "        \n",
            "        Return x - n*y where n*y is the closest integer multiple of y.\n",
            "        In the case where x is exactly halfway between two multiples of\n",
            "        y, the nearest even value of n is used. The result is always exact.\n",
            "    \n",
            "    sin(x, /)\n",
            "        Return the sine of x (measured in radians).\n",
            "    \n",
            "    sinh(x, /)\n",
            "        Return the hyperbolic sine of x.\n",
            "    \n",
            "    sqrt(x, /)\n",
            "        Return the square root of x.\n",
            "    \n",
            "    tan(x, /)\n",
            "        Return the tangent of x (measured in radians).\n",
            "    \n",
            "    tanh(x, /)\n",
            "        Return the hyperbolic tangent of x.\n",
            "    \n",
            "    trunc(x, /)\n",
            "        Truncates the Real x to the nearest Integral toward 0.\n",
            "        \n",
            "        Uses the __trunc__ magic method.\n",
            "\n",
            "DATA\n",
            "    e = 2.718281828459045\n",
            "    inf = inf\n",
            "    nan = nan\n",
            "    pi = 3.141592653589793\n",
            "    tau = 6.283185307179586\n",
            "\n",
            "FILE\n",
            "    (built-in)\n",
            "\n",
            "\n"
          ]
        }
      ]
    },
    {
      "cell_type": "markdown",
      "source": [
        "몇 가지 메서드를 사용해보겠습니다."
      ],
      "metadata": {
        "id": "da-iNlhdCRvp"
      }
    },
    {
      "cell_type": "code",
      "source": [
        "print(f'math.ceil(5.6): {math.ceil(5.6)}')\n",
        "print(f'math.floor(5.6): {math.floor(5.6)}')\n",
        "print(f'math.log(2): {math.log(2)}')\n",
        "print(f'math.log2(2): {math.log2(2)}')\n",
        "print(f'math.log10(2): {math.log10(2)}')"
      ],
      "metadata": {
        "colab": {
          "base_uri": "https://localhost:8080/"
        },
        "id": "l2AbZwweDVI4",
        "outputId": "535b0a76-8f4d-4f4d-e0be-c4fc8c890bc0"
      },
      "execution_count": null,
      "outputs": [
        {
          "output_type": "stream",
          "name": "stdout",
          "text": [
            "math.ceil(5.6): 6\n",
            "math.floor(5.6): 5\n",
            "math.log(2): 0.6931471805599453\n",
            "math.log2(2): 1.0\n",
            "math.log10(2): 0.3010299956639812\n"
          ]
        }
      ]
    },
    {
      "cell_type": "markdown",
      "source": [
        "모듈이 가진 모든 도구를 사용하는 것은 아닙니다. 필요한 도구만 편리하게 사용하려면 아래 형식을 취하여 필요한 도구만 개별적으로 호출합니다.\n",
        "\n",
        "```\n",
        "from 모듈 import 필요한 클래스 or 메서드 or 변수\n",
        "```\n",
        "\n",
        "에컨대 이렇게 개별적으로 호출해두면 `모듈.메서드()`처럼 꼭 `모듈.`을 붙이지 않고 바로 `메서드()`로 선언해도 메서드를 사용할 수 있습니다. "
      ],
      "metadata": {
        "id": "DtMYWxuhFCqo"
      }
    },
    {
      "cell_type": "code",
      "source": [
        "from math import sin, cos, tan\n",
        "\n",
        "print(f'sin(1): {sin(1)}')\n",
        "print(f'cos(1): {cos(1)}')\n",
        "print(f'tan(1): {tan(1)}')"
      ],
      "metadata": {
        "colab": {
          "base_uri": "https://localhost:8080/"
        },
        "id": "g5BFW7l0GA1Q",
        "outputId": "54c1bb4b-9958-4dcd-895a-f2c629c1cece"
      },
      "execution_count": null,
      "outputs": [
        {
          "output_type": "stream",
          "name": "stdout",
          "text": [
            "sin(1): 0.8414709848078965\n",
            "cos(1): 0.5403023058681398\n",
            "tan(1): 1.5574077246549023\n"
          ]
        }
      ]
    },
    {
      "cell_type": "markdown",
      "source": [
        "다만 아래처럼 `*`로 선언하여 전체를 호출하는 경우는 식별자명이 충돌할 수 있으므로 자제하는 편이 낫습니다.\n",
        "\n",
        "```\n",
        "from 모듈 import *\n",
        "```\n",
        "\n",
        "모듈명이 길거나 다른 식별자와 충돌하는 경우에는 `as`를 붙여서 임의로 식별자를 지정하여 사용할 수 있습니다.\n",
        "\n",
        "```\n",
        "import 모듈 as 임의의 식별자\n",
        "```"
      ],
      "metadata": {
        "id": "HkM8i5TBGlJq"
      }
    },
    {
      "cell_type": "code",
      "source": [
        "import math as m\n",
        "\n",
        "print(f'm.sin(1): {m.sin(1)}')\n",
        "print(f'm.cos(1): {m.cos(1)}')\n",
        "print(f'm.tan(1): {m.tan(1)}')"
      ],
      "metadata": {
        "colab": {
          "base_uri": "https://localhost:8080/"
        },
        "id": "RhhMmAbUHPCc",
        "outputId": "b001ccf6-93b2-498e-9c9b-18ad74aeab76"
      },
      "execution_count": null,
      "outputs": [
        {
          "output_type": "stream",
          "name": "stdout",
          "text": [
            "m.sin(1): 0.8414709848078965\n",
            "m.cos(1): 0.5403023058681398\n",
            "m.tan(1): 1.5574077246549023\n"
          ]
        }
      ]
    },
    {
      "cell_type": "markdown",
      "metadata": {
        "id": "7h0r1dRXu09S"
      },
      "source": [
        "### **17.1.2. 난수 모듈**"
      ]
    },
    {
      "cell_type": "markdown",
      "metadata": {
        "id": "CEkeRFtg1Td4"
      },
      "source": [
        "임의의 숫자를 **난수(random number)**라고 부릅니다. `random` 모듈이 가진 메서드로 여러 형태의 난수를 생성할 수 있습니다. 물론 항목도 생성할 수 있습니다."
      ]
    },
    {
      "cell_type": "markdown",
      "metadata": {
        "id": "6rHwb50h1mRE"
      },
      "source": [
        "먼저 난수 모듈을 임포트 합니다."
      ]
    },
    {
      "cell_type": "code",
      "metadata": {
        "id": "_fTN6MIi1qem"
      },
      "source": [
        "import random"
      ],
      "execution_count": null,
      "outputs": []
    },
    {
      "cell_type": "code",
      "source": [
        "# 출력 내용이 기므로 주석으로 처리합니다.\n",
        "# help(random)"
      ],
      "metadata": {
        "id": "FYwIVUSTHmxA"
      },
      "execution_count": null,
      "outputs": []
    },
    {
      "cell_type": "markdown",
      "metadata": {
        "id": "8hqWbrvu1zkw"
      },
      "source": [
        "`random` 모듈이 가진 여러 메서드 중에 주로 사용하는 메서드는 아래와 같습니다.\n",
        "\n",
        "- `random()`: 0.0과 1.0 사이의 임의의 실수를 생성합니다. 형식은 `random.random()`입니다.\n",
        "\n",
        "- `randint(시작, 끝)`: 시작과 끝 사이의 임의의 정수를 생성합니다. 형식은 `random.randint(시작, 끝)`입니다.\n",
        "\n",
        "- `randrange([시작,] 끝 [,단계])`: 시작과 끝 사이에서 단계에 맞게 임의의 정수를 생성합니다. 시작과 단계는 생략할 수 있습니다. 형식은 `random.randrange(([시작,] 끝 [,단계])`입니다.\n",
        "\n",
        "- `choice([항목1, 항목2, ..., 항목n])`: 지정한 항목 중에 임의의 항목을 생성합니다. 형식은 `random.choice([항목1, 항목2, ..., 항목n])`입니다.\n",
        "\n",
        "- `sample([모집단 숫자들], 개수)`: 리스트로 이뤄진 모집단 숫자들에서 개수만큼 생성합니다. 형식은 `random.sample([모집단 숫자들], 개수)`입니다."
      ]
    },
    {
      "cell_type": "markdown",
      "metadata": {
        "id": "VwQQjPCH5cBD"
      },
      "source": [
        "몇 가지 메서드를 사용해보겠습니다."
      ]
    },
    {
      "cell_type": "code",
      "source": [
        "from random import randint, randrange, choice, sample"
      ],
      "metadata": {
        "id": "coHPBxDlJgo2"
      },
      "execution_count": null,
      "outputs": []
    },
    {
      "cell_type": "code",
      "metadata": {
        "colab": {
          "base_uri": "https://localhost:8080/"
        },
        "id": "CMv4xFT94-IB",
        "outputId": "8d5d9f3c-b457-4ddb-f66b-b30d33790165"
      },
      "source": [
        "print(f'randint(0, 8): {randint(0, 8)}')\n",
        "print(f'randrange(0, 10, 2): {randrange(0, 10, 2)}')\n",
        "print(f'choice([\"사과\", \"바나나\", \"포도\", 4, 5, 6]): {choice([\"사과\", \"바나나\", \"포도\", 4, 5, 6])}')\n",
        "print(f'sample([1, 2, 3, \"사과\", \"바나나\", \"포도\"], 4): {sample([1, 2, 3, \"사과\", \"바나나\", \"포도\"], 4)}')"
      ],
      "execution_count": null,
      "outputs": [
        {
          "output_type": "stream",
          "name": "stdout",
          "text": [
            "randint(0, 8): 5\n",
            "randrange(0, 10, 2): 4\n",
            "choice([\"사과\", \"바나나\", \"포도\", 4, 5, 6]): 6\n",
            "sample([1, 2, 3, \"사과\", \"바나나\", \"포도\"], 4): [1, '사과', '바나나', '포도']\n"
          ]
        }
      ]
    },
    {
      "cell_type": "markdown",
      "metadata": {
        "id": "kybC7kP77vxc"
      },
      "source": [
        "### **17.1.3. 날짜 및 시간 모듈**"
      ]
    },
    {
      "cell_type": "markdown",
      "metadata": {
        "id": "D2IwPcXq76Jx"
      },
      "source": [
        "`datetime` 모듈은 날짜와 시간과 관련된 모듈입니다. 날짜를 다루는 `date` 클래스, 시간을 다루는 `time` 클래스, 둘 모두를 다루는 `datetime` 클래스를 가집니다. \n",
        "\n",
        "형식은 아래와 같습니다.\n",
        "\n",
        "```\n",
        "import datetime\n",
        "\n",
        "date_cls = datetime.date(year, month, day)\n",
        "time_cls = datetime.time(hour, minute, second)\n",
        "datetime_cls = datetime.datetime(year, month, day, hour, minute, second)\n",
        "```\n",
        "\n",
        "`datetime` 모듈이 가진 `date` 클래스와 `time` 클래스를 호출해서 변수에 지정했습니다. 각 클래스는 개별적으로 속성을 가집니다. 여기서 속성은 괄호 안의 속성명을 그대로 가지고, 각 클래스는 클래스 메서드를 가집니다. 관련 설명은 아래에서 예시로 들겠습니다."
      ]
    },
    {
      "cell_type": "code",
      "source": [
        "import datetime"
      ],
      "metadata": {
        "id": "uoc_umuJW9KS"
      },
      "execution_count": null,
      "outputs": []
    },
    {
      "cell_type": "code",
      "source": [
        "# 출력 내용이 기므로 주석으로 처리합니다.\n",
        "# help(datetime)"
      ],
      "metadata": {
        "id": "sTQuDMnCXACl"
      },
      "execution_count": null,
      "outputs": []
    },
    {
      "cell_type": "markdown",
      "metadata": {
        "id": "ZaOqIKj2GXBF"
      },
      "source": [
        "#### **17.1.3.1. 날짜 클래스**"
      ]
    },
    {
      "cell_type": "markdown",
      "metadata": {
        "id": "e-nnOlT_AQ8G"
      },
      "source": [
        "먼저 변수에 클래스를 넘기는 방법으로 사용하는 방식입니다. `date` 클래스입니다."
      ]
    },
    {
      "cell_type": "code",
      "metadata": {
        "colab": {
          "base_uri": "https://localhost:8080/"
        },
        "id": "zvpb7rg4_oFZ",
        "outputId": "29f90e08-9ca7-4a23-e46e-ffd1fa9aae60"
      },
      "source": [
        "date_211005 = datetime.date(2021, 10, 5)\n",
        "print(f'datetime.date(2021, 10, 5): {date_211005}')"
      ],
      "execution_count": null,
      "outputs": [
        {
          "output_type": "stream",
          "name": "stdout",
          "text": [
            "datetime.date(2021, 10, 5): 2021-10-05\n"
          ]
        }
      ]
    },
    {
      "cell_type": "markdown",
      "metadata": {
        "id": "Ks8AWXr7Adbu"
      },
      "source": [
        "클래스의 속성을 따로 호출할 수도 있습니다."
      ]
    },
    {
      "cell_type": "code",
      "metadata": {
        "colab": {
          "base_uri": "https://localhost:8080/"
        },
        "id": "dDiagEW1AiXq",
        "outputId": "95aafb03-89f1-4c25-b7f5-97a85ad9f215"
      },
      "source": [
        "print(f'datetime.date({date_211005.year}, {date_211005.month}, {date_211005.day})')"
      ],
      "execution_count": null,
      "outputs": [
        {
          "output_type": "stream",
          "name": "stdout",
          "text": [
            "datetime.date(2021, 10, 5)\n"
          ]
        }
      ]
    },
    {
      "cell_type": "markdown",
      "metadata": {
        "id": "tZ1_lAchA50T"
      },
      "source": [
        "`date` 클래스로 생성한 변수를 이용하여 변수 간 일수 차이를 구할 수 있습니다."
      ]
    },
    {
      "cell_type": "code",
      "metadata": {
        "colab": {
          "base_uri": "https://localhost:8080/"
        },
        "id": "vYtMpC8WBuAD",
        "outputId": "2b9ce588-128c-4f5e-c5cf-acf79b922593"
      },
      "source": [
        "date_211005 = datetime.date(2021, 10, 5)\n",
        "date_140416 = datetime.date(2014, 4, 16)\n",
        "print(date_211005 - date_140416)\n",
        "print(date_140416 - date_211005)"
      ],
      "execution_count": null,
      "outputs": [
        {
          "output_type": "stream",
          "name": "stdout",
          "text": [
            "2729 days, 0:00:00\n",
            "-2729 days, 0:00:00\n"
          ]
        }
      ]
    },
    {
      "cell_type": "markdown",
      "metadata": {
        "id": "8sirwW_dCo9A"
      },
      "source": [
        "연산을 마친 후에는 데이터 타입이 바뀝니다. 데이터 타입은 클래스입니다."
      ]
    },
    {
      "cell_type": "code",
      "metadata": {
        "colab": {
          "base_uri": "https://localhost:8080/"
        },
        "id": "EFdYgtX9DK6L",
        "outputId": "3e84f9dc-11ad-4b06-ad24-b4beb60c744c"
      },
      "source": [
        "type(date_140416)"
      ],
      "execution_count": null,
      "outputs": [
        {
          "output_type": "execute_result",
          "data": {
            "text/plain": [
              "datetime.date"
            ]
          },
          "metadata": {},
          "execution_count": 6
        }
      ]
    },
    {
      "cell_type": "markdown",
      "metadata": {
        "id": "K33MdJnlEi63"
      },
      "source": [
        "`timedelta` 또한 클래스입니다."
      ]
    },
    {
      "cell_type": "code",
      "metadata": {
        "colab": {
          "base_uri": "https://localhost:8080/"
        },
        "id": "FgS-RdRPC18-",
        "outputId": "88de5535-3772-4fe5-90e6-cc1fddf8ab1a"
      },
      "source": [
        "date_diff = date_211005 - date_140416\n",
        "type(date_diff)"
      ],
      "execution_count": null,
      "outputs": [
        {
          "output_type": "execute_result",
          "data": {
            "text/plain": [
              "datetime.timedelta"
            ]
          },
          "metadata": {},
          "execution_count": 187
        }
      ]
    },
    {
      "cell_type": "markdown",
      "metadata": {
        "id": "QsP9xIjSD7hy"
      },
      "source": [
        "시간을 제외하고 숫자만 출력하려면 `timedelta` 클래스가 가진 `days` 속성을 선언합니다."
      ]
    },
    {
      "cell_type": "code",
      "metadata": {
        "colab": {
          "base_uri": "https://localhost:8080/"
        },
        "id": "NWUqOeoZEw-x",
        "outputId": "a6214eff-c763-457e-f128-c706220ed2fa"
      },
      "source": [
        "date_diff.days"
      ],
      "execution_count": null,
      "outputs": [
        {
          "output_type": "execute_result",
          "data": {
            "text/plain": [
              "2729"
            ]
          },
          "metadata": {},
          "execution_count": 188
        }
      ]
    },
    {
      "cell_type": "markdown",
      "metadata": {
        "id": "trdJbyOEE20A"
      },
      "source": [
        "오늘 날짜를 출력하려면 `date` 클래스의 `today()` 메서드를 호출합니다."
      ]
    },
    {
      "cell_type": "code",
      "metadata": {
        "colab": {
          "base_uri": "https://localhost:8080/"
        },
        "id": "qkUCFE4EFEhF",
        "outputId": "975700dd-27f7-4e5a-9cf1-f4df5f2d3636"
      },
      "source": [
        "print(f'Today is {datetime.date.today()}')"
      ],
      "execution_count": null,
      "outputs": [
        {
          "output_type": "stream",
          "name": "stdout",
          "text": [
            "Today is 2021-10-08\n"
          ]
        }
      ]
    },
    {
      "cell_type": "markdown",
      "metadata": {
        "id": "Riy9kWUCGe75"
      },
      "source": [
        "#### **17.1.3.2. 시간 클래스**"
      ]
    },
    {
      "cell_type": "markdown",
      "metadata": {
        "id": "c-jxcXHUGv6p"
      },
      "source": [
        "`time` 클래스에 대한 예시입니다."
      ]
    },
    {
      "cell_type": "code",
      "metadata": {
        "colab": {
          "base_uri": "https://localhost:8080/"
        },
        "id": "r7jE3mQXGpnQ",
        "outputId": "351a0af2-51cb-403b-eebd-528b8794d921"
      },
      "source": [
        "time_195804 = datetime.time(19, 58, 4)\n",
        "print(f'datetime.time(19, 58, 4): {time_195804}')"
      ],
      "execution_count": null,
      "outputs": [
        {
          "output_type": "stream",
          "name": "stdout",
          "text": [
            "datetime.time(19, 58, 4): 19:58:04\n"
          ]
        }
      ]
    },
    {
      "cell_type": "markdown",
      "metadata": {
        "id": "bt4Xxjr7HRsc"
      },
      "source": [
        "`date` 클래스처럼 클래스가 가진 속성을 개별적으로 호출할 수 있습니다. 다만 `time` 클래스는 `date` 클래스처럼 빼기 연산은 지원하지 않습니다."
      ]
    },
    {
      "cell_type": "code",
      "metadata": {
        "colab": {
          "base_uri": "https://localhost:8080/"
        },
        "id": "fAYw-kLbHY3X",
        "outputId": "f60bfc5b-0751-473a-90c8-7f31f45cea70"
      },
      "source": [
        "print(f'datetime.time({time_195804.hour}, {time_195804.minute}, {time_195804.second})')"
      ],
      "execution_count": null,
      "outputs": [
        {
          "output_type": "stream",
          "name": "stdout",
          "text": [
            "datetime.time(19, 58, 4)\n"
          ]
        }
      ]
    },
    {
      "cell_type": "markdown",
      "metadata": {
        "id": "BPoFRER4M-CF"
      },
      "source": [
        "참고로 `timedate` 모듈의 `time` 클래스와는 무관한, `time` 모듈의 `sleep()` 메서드는 특정 시간 동안 코드 진행을 멈추는 데 활용하는 유용한 메서드입니다."
      ]
    },
    {
      "cell_type": "code",
      "source": [
        "import time\n",
        "\n",
        "print('3초간 처리를 멈춥니다.')\n",
        "time.sleep(3)\n",
        "print('완료되었습니다.')"
      ],
      "metadata": {
        "colab": {
          "base_uri": "https://localhost:8080/"
        },
        "id": "VFyVtF9qJHts",
        "outputId": "fc9e36e4-062f-430f-9bf1-b2f85649d834"
      },
      "execution_count": null,
      "outputs": [
        {
          "output_type": "stream",
          "name": "stdout",
          "text": [
            "3초간 처리를 멈춥니다.\n",
            "완료되었습니다.\n"
          ]
        }
      ]
    },
    {
      "cell_type": "markdown",
      "metadata": {
        "id": "bxop9nr-MtUl"
      },
      "source": [
        "#### **17.1.3.3. 날짜 시간 클래스**"
      ]
    },
    {
      "cell_type": "markdown",
      "metadata": {
        "id": "DaViCv0XNJOg"
      },
      "source": [
        "`datetime` 클래스는 날짜와 시간 모두를 나타냅니다. 사용법은 위에서 설명한 두 클래스와 같습니다. 다만 현재 시각을 구하려면 `now()` 메서드를 사용해야 합니다."
      ]
    },
    {
      "cell_type": "code",
      "metadata": {
        "colab": {
          "base_uri": "https://localhost:8080/"
        },
        "id": "MlnYqBXWNNEk",
        "outputId": "317ce8f9-10d5-4387-bc08-2f7012f2c293"
      },
      "source": [
        "now = datetime.datetime.now()\n",
        "print(now)\n",
        "type(now)"
      ],
      "execution_count": null,
      "outputs": [
        {
          "output_type": "stream",
          "name": "stdout",
          "text": [
            "2022-01-07 14:45:22.295700\n"
          ]
        },
        {
          "output_type": "execute_result",
          "data": {
            "text/plain": [
              "datetime.datetime"
            ]
          },
          "metadata": {},
          "execution_count": 7
        }
      ]
    },
    {
      "cell_type": "markdown",
      "metadata": {
        "id": "V6Y-uyeTN1u5"
      },
      "source": [
        "현재 시각을 개별적으로 출력할 수도 있습니다. 방법은 두 가지입니다. 하나는 속성을 사용하는 방법이고, 다른 하나는 `{:%Y-%m-%d %H:%M:%S}` 형식을 사용하는 방법입니다. 구분 기호는 다르게 지정할 수 있습니다.\n",
        "\n",
        "아래에서 예시하겠습니다."
      ]
    },
    {
      "cell_type": "code",
      "metadata": {
        "colab": {
          "base_uri": "https://localhost:8080/"
        },
        "id": "DjUEVelUOJQQ",
        "outputId": "f430875f-d209-45a4-f2ae-9c245cb48312"
      },
      "source": [
        "print(f\"Now is {now.year}-{now.month}-{now.day} {now.hour}:{now.minute}:{now.second}\")\n",
        "print('Now is {:%Y-%m-%d %H:%M:%S}'.format(now))\n",
        "print('Now is {:%Y.%m.%d. %H/%M/%S}'.format(now))"
      ],
      "execution_count": null,
      "outputs": [
        {
          "output_type": "stream",
          "name": "stdout",
          "text": [
            "Now is 2022-1-7 14:45:22\n",
            "Now is 2022-01-07 14:45:22\n",
            "Now is 2022.01.07. 14/45/22\n"
          ]
        }
      ]
    },
    {
      "cell_type": "markdown",
      "source": [
        "`strftime()` 메서드를 사용하는 방법도 있습니다."
      ],
      "metadata": {
        "id": "WreVLrluATvV"
      }
    },
    {
      "cell_type": "code",
      "source": [
        "now = datetime.datetime.now()\n",
        "# # 각 원소를 매개변수로 지정하기 위해\n",
        "# `format(*'년월일시분초')`에서 문자열 앞에 `*`을 붙입니다.\n",
        "now_strftime = now.strftime('%Y{} %m{} %d{} %H{} %M{} %S{}').format(*'년월일시분초')\n",
        "print(now_strftime)"
      ],
      "metadata": {
        "colab": {
          "base_uri": "https://localhost:8080/"
        },
        "id": "QMBHYAGC_kye",
        "outputId": "010dab06-6e09-4cf1-ccce-324221f20063"
      },
      "execution_count": null,
      "outputs": [
        {
          "output_type": "stream",
          "name": "stdout",
          "text": [
            "2022년 01월 07일 14시 45분 57초\n"
          ]
        }
      ]
    },
    {
      "cell_type": "markdown",
      "metadata": {
        "id": "EYnFAei7RSdS"
      },
      "source": [
        "`datetime` 클래스는 `date` 클래스처럼 빼기 연산을 지원합니다. 연산하면 `timedelta` 클래스로 바뀝니다."
      ]
    },
    {
      "cell_type": "code",
      "metadata": {
        "colab": {
          "base_uri": "https://localhost:8080/"
        },
        "id": "az5PRdN0SAnN",
        "outputId": "47c0d7bc-681b-4c9f-9ab1-2ce23add5576"
      },
      "source": [
        "my_birthday = datetime.datetime(1989, 6, 23, 18, 30, 0)\n",
        "print(f'오늘까지 {now - my_birthday}만큼 살았습니다.')\n",
        "\n",
        "I_live = now - my_birthday\n",
        "print(f'오늘까지 {I_live.days}일만큼 살았습니다.')\n",
        "print(f'Type is {type(I_live)}.')"
      ],
      "execution_count": null,
      "outputs": [
        {
          "output_type": "stream",
          "name": "stdout",
          "text": [
            "오늘까지 11885 days, 20:15:22.295700만큼 살았습니다.\n",
            "오늘까지 11885일만큼 살았습니다.\n",
            "Type is <class 'datetime.timedelta'>.\n"
          ]
        }
      ]
    },
    {
      "cell_type": "markdown",
      "source": [
        "현재에서 1주 1일 1시간 1분 1초 후의 날짜와 시간을 구하겠습니다."
      ],
      "metadata": {
        "id": "j15wuQYqDm41"
      }
    },
    {
      "cell_type": "code",
      "source": [
        "now = datetime.datetime.now()\n",
        "after = now + datetime.timedelta(weeks=1, days=1, hours=1, minutes=1, seconds=1)\n",
        "\n",
        "print(after.strftime('%Y{} %m{} %d{} %H{} %M{} %S{}').format(*'년월일시분초'))"
      ],
      "metadata": {
        "colab": {
          "base_uri": "https://localhost:8080/"
        },
        "id": "IL5rQOscC03K",
        "outputId": "a3677fb7-65f0-493f-faed-d3fa2d9321d7"
      },
      "execution_count": null,
      "outputs": [
        {
          "output_type": "stream",
          "name": "stdout",
          "text": [
            "2022년 01월 15일 16시 02분 30초\n"
          ]
        }
      ]
    },
    {
      "cell_type": "markdown",
      "source": [
        "다만 `timedelta()` 메서드는 얼마큼 이후 날짜와 시간을 구하는 기능은 없으므로 `replace()` 함수를 활용하여 값을 교체합니다."
      ],
      "metadata": {
        "id": "PiWvHEQkD02P"
      }
    },
    {
      "cell_type": "code",
      "source": [
        "plus_5_years = now.replace(year=(now.year + 5))\n",
        "print(plus_5_years.strftime('%Y{} %m{} %d{} %H{} %M{} %S{}').format(*'년월일시분초'))"
      ],
      "metadata": {
        "colab": {
          "base_uri": "https://localhost:8080/"
        },
        "id": "IzFR0slTGobL",
        "outputId": "ba010512-19c2-4223-ce70-448345b443ee"
      },
      "execution_count": null,
      "outputs": [
        {
          "output_type": "stream",
          "name": "stdout",
          "text": [
            "2027년 01월 07일 15시 01분 29초\n"
          ]
        }
      ]
    },
    {
      "cell_type": "markdown",
      "metadata": {
        "id": "oESa3fFKT2ta"
      },
      "source": [
        "### **17.1.4. 달력 모듈**"
      ]
    },
    {
      "cell_type": "markdown",
      "metadata": {
        "id": "u0ISmkXauSh4"
      },
      "source": [
        "달력 모듈은 몇 가지 예시로 간단하게 설명하겠습니다."
      ]
    },
    {
      "cell_type": "markdown",
      "metadata": {
        "id": "C2zffczOudxZ"
      },
      "source": [
        "먼저 `calendar` 모듈을 부른 후에 `calendar` 메서드를 사용하여 2021년을 출력하겠습니다."
      ]
    },
    {
      "cell_type": "code",
      "metadata": {
        "colab": {
          "base_uri": "https://localhost:8080/"
        },
        "id": "b5-foEYIusv4",
        "outputId": "80750ed9-7a97-48cd-a6d1-9dc272c5eb91"
      },
      "source": [
        "import calendar\n",
        "\n",
        "print(calendar.calendar(2021))"
      ],
      "execution_count": null,
      "outputs": [
        {
          "output_type": "stream",
          "name": "stdout",
          "text": [
            "                                  2021\n",
            "\n",
            "      January                   February                   March\n",
            "Mo Tu We Th Fr Sa Su      Mo Tu We Th Fr Sa Su      Mo Tu We Th Fr Sa Su\n",
            "             1  2  3       1  2  3  4  5  6  7       1  2  3  4  5  6  7\n",
            " 4  5  6  7  8  9 10       8  9 10 11 12 13 14       8  9 10 11 12 13 14\n",
            "11 12 13 14 15 16 17      15 16 17 18 19 20 21      15 16 17 18 19 20 21\n",
            "18 19 20 21 22 23 24      22 23 24 25 26 27 28      22 23 24 25 26 27 28\n",
            "25 26 27 28 29 30 31                                29 30 31\n",
            "\n",
            "       April                      May                       June\n",
            "Mo Tu We Th Fr Sa Su      Mo Tu We Th Fr Sa Su      Mo Tu We Th Fr Sa Su\n",
            "          1  2  3  4                      1  2          1  2  3  4  5  6\n",
            " 5  6  7  8  9 10 11       3  4  5  6  7  8  9       7  8  9 10 11 12 13\n",
            "12 13 14 15 16 17 18      10 11 12 13 14 15 16      14 15 16 17 18 19 20\n",
            "19 20 21 22 23 24 25      17 18 19 20 21 22 23      21 22 23 24 25 26 27\n",
            "26 27 28 29 30            24 25 26 27 28 29 30      28 29 30\n",
            "                          31\n",
            "\n",
            "        July                     August                  September\n",
            "Mo Tu We Th Fr Sa Su      Mo Tu We Th Fr Sa Su      Mo Tu We Th Fr Sa Su\n",
            "          1  2  3  4                         1             1  2  3  4  5\n",
            " 5  6  7  8  9 10 11       2  3  4  5  6  7  8       6  7  8  9 10 11 12\n",
            "12 13 14 15 16 17 18       9 10 11 12 13 14 15      13 14 15 16 17 18 19\n",
            "19 20 21 22 23 24 25      16 17 18 19 20 21 22      20 21 22 23 24 25 26\n",
            "26 27 28 29 30 31         23 24 25 26 27 28 29      27 28 29 30\n",
            "                          30 31\n",
            "\n",
            "      October                   November                  December\n",
            "Mo Tu We Th Fr Sa Su      Mo Tu We Th Fr Sa Su      Mo Tu We Th Fr Sa Su\n",
            "             1  2  3       1  2  3  4  5  6  7             1  2  3  4  5\n",
            " 4  5  6  7  8  9 10       8  9 10 11 12 13 14       6  7  8  9 10 11 12\n",
            "11 12 13 14 15 16 17      15 16 17 18 19 20 21      13 14 15 16 17 18 19\n",
            "18 19 20 21 22 23 24      22 23 24 25 26 27 28      20 21 22 23 24 25 26\n",
            "25 26 27 28 29 30 31      29 30                     27 28 29 30 31\n",
            "\n"
          ]
        }
      ]
    },
    {
      "cell_type": "markdown",
      "metadata": {
        "id": "ubQoZBevvUKt"
      },
      "source": [
        "매개변수 `m`에 값을 부여하여 한 줄에 출력되는 달을 변경하겠습니다."
      ]
    },
    {
      "cell_type": "code",
      "metadata": {
        "colab": {
          "base_uri": "https://localhost:8080/"
        },
        "id": "TdEYPzt3vL3m",
        "outputId": "8ed00fdc-df1f-45ec-90b4-36c38a86984c"
      },
      "source": [
        "print(calendar.calendar(2021, m=5))"
      ],
      "execution_count": null,
      "outputs": [
        {
          "output_type": "stream",
          "name": "stdout",
          "text": [
            "                                                            2021\n",
            "\n",
            "      January                   February                   March                     April                      May\n",
            "Mo Tu We Th Fr Sa Su      Mo Tu We Th Fr Sa Su      Mo Tu We Th Fr Sa Su      Mo Tu We Th Fr Sa Su      Mo Tu We Th Fr Sa Su\n",
            "             1  2  3       1  2  3  4  5  6  7       1  2  3  4  5  6  7                1  2  3  4                      1  2\n",
            " 4  5  6  7  8  9 10       8  9 10 11 12 13 14       8  9 10 11 12 13 14       5  6  7  8  9 10 11       3  4  5  6  7  8  9\n",
            "11 12 13 14 15 16 17      15 16 17 18 19 20 21      15 16 17 18 19 20 21      12 13 14 15 16 17 18      10 11 12 13 14 15 16\n",
            "18 19 20 21 22 23 24      22 23 24 25 26 27 28      22 23 24 25 26 27 28      19 20 21 22 23 24 25      17 18 19 20 21 22 23\n",
            "25 26 27 28 29 30 31                                29 30 31                  26 27 28 29 30            24 25 26 27 28 29 30\n",
            "                                                                                                        31\n",
            "\n",
            "        June                      July                     August                  September                  October\n",
            "Mo Tu We Th Fr Sa Su      Mo Tu We Th Fr Sa Su      Mo Tu We Th Fr Sa Su      Mo Tu We Th Fr Sa Su      Mo Tu We Th Fr Sa Su\n",
            "    1  2  3  4  5  6                1  2  3  4                         1             1  2  3  4  5                   1  2  3\n",
            " 7  8  9 10 11 12 13       5  6  7  8  9 10 11       2  3  4  5  6  7  8       6  7  8  9 10 11 12       4  5  6  7  8  9 10\n",
            "14 15 16 17 18 19 20      12 13 14 15 16 17 18       9 10 11 12 13 14 15      13 14 15 16 17 18 19      11 12 13 14 15 16 17\n",
            "21 22 23 24 25 26 27      19 20 21 22 23 24 25      16 17 18 19 20 21 22      20 21 22 23 24 25 26      18 19 20 21 22 23 24\n",
            "28 29 30                  26 27 28 29 30 31         23 24 25 26 27 28 29      27 28 29 30               25 26 27 28 29 30 31\n",
            "                                                    30 31\n",
            "\n",
            "      November                  December\n",
            "Mo Tu We Th Fr Sa Su      Mo Tu We Th Fr Sa Su\n",
            " 1  2  3  4  5  6  7             1  2  3  4  5\n",
            " 8  9 10 11 12 13 14       6  7  8  9 10 11 12\n",
            "15 16 17 18 19 20 21      13 14 15 16 17 18 19\n",
            "22 23 24 25 26 27 28      20 21 22 23 24 25 26\n",
            "29 30                     27 28 29 30 31\n",
            "\n"
          ]
        }
      ]
    },
    {
      "cell_type": "markdown",
      "metadata": {
        "id": "BsyCofFDvcPH"
      },
      "source": [
        "`month()` 함수를 사용하면 월만 표시합니다."
      ]
    },
    {
      "cell_type": "code",
      "metadata": {
        "colab": {
          "base_uri": "https://localhost:8080/"
        },
        "id": "4YIQcYJCaGxo",
        "outputId": "43b6469c-c15d-46ec-f415-0f40053d2de7"
      },
      "source": [
        "print(calendar.month(2021, 10))"
      ],
      "execution_count": null,
      "outputs": [
        {
          "output_type": "stream",
          "name": "stdout",
          "text": [
            "    October 2021\n",
            "Mo Tu We Th Fr Sa Su\n",
            "             1  2  3\n",
            " 4  5  6  7  8  9 10\n",
            "11 12 13 14 15 16 17\n",
            "18 19 20 21 22 23 24\n",
            "25 26 27 28 29 30 31\n",
            "\n"
          ]
        }
      ]
    },
    {
      "cell_type": "markdown",
      "metadata": {
        "id": "vJmEDgUzaOOe"
      },
      "source": [
        "`monthrange()` 함수를 사용하면 특정한 달의 1일의 요일과 날짜 수를 표시합니다. 요일은 숫자로 표현되는데 월요일은 `0`, 화요일은 `1`, 수요일은 `2` ... 일요일은 `6`입니다."
      ]
    },
    {
      "cell_type": "code",
      "metadata": {
        "colab": {
          "base_uri": "https://localhost:8080/"
        },
        "id": "IbGZnDWfa32z",
        "outputId": "c0326e56-0ae7-4299-f7d0-f0d73b0df569"
      },
      "source": [
        "print(calendar.monthrange(2021, 10))"
      ],
      "execution_count": null,
      "outputs": [
        {
          "output_type": "stream",
          "name": "stdout",
          "text": [
            "(4, 31)\n"
          ]
        }
      ]
    },
    {
      "cell_type": "markdown",
      "metadata": {
        "id": "-ZwIeTmu0nfY"
      },
      "source": [
        "`firstweekday()` 함수를 사용하면 일주일의 시작 요일을 구할 수 있습니다. 기본값은 월요일인 `0`입니다."
      ]
    },
    {
      "cell_type": "code",
      "metadata": {
        "colab": {
          "base_uri": "https://localhost:8080/"
        },
        "id": "YaJxYupM1Ke1",
        "outputId": "98ff757d-0299-43bf-d625-2f76df042e5e"
      },
      "source": [
        "calendar.firstweekday()"
      ],
      "execution_count": null,
      "outputs": [
        {
          "output_type": "execute_result",
          "data": {
            "text/plain": [
              "0"
            ]
          },
          "metadata": {},
          "execution_count": 199
        }
      ]
    },
    {
      "cell_type": "markdown",
      "metadata": {
        "id": "yWTwpcpY1gHS"
      },
      "source": [
        "`firstweekday()` 함수에서 월요일을 주의 시작 요일로 표현합니다. 이 시작 요일을 바꾸려면 `setfirstweekday(요일을 나타내는 숫자)` 함수를 사용합니다. 요일을 나타내는 숫자 대신 `calendar.SUNDAY` 형식으로 인자를 지정할 수 있습니다."
      ]
    },
    {
      "cell_type": "code",
      "metadata": {
        "colab": {
          "base_uri": "https://localhost:8080/"
        },
        "id": "a8ECEc9i2sHc",
        "outputId": "6ec36bea-b52f-4cf7-9d95-ebc8c57f9bc1"
      },
      "source": [
        "calendar.setfirstweekday(6) # 또는 `calendar.SUNDAY`로 지정합니다.\n",
        "print(calendar.month(2021, 10))\n",
        "print(f'달력에서 첫 주의 시작을 0인 월요일에서 {calendar.firstweekday()}인 일요일로 바꿉니다.')"
      ],
      "execution_count": null,
      "outputs": [
        {
          "output_type": "stream",
          "name": "stdout",
          "text": [
            "    October 2021\n",
            "Su Mo Tu We Th Fr Sa\n",
            "                1  2\n",
            " 3  4  5  6  7  8  9\n",
            "10 11 12 13 14 15 16\n",
            "17 18 19 20 21 22 23\n",
            "24 25 26 27 28 29 30\n",
            "31\n",
            "\n",
            "달력에서 첫 주의 시작을 0인 월요일에서 6인 일요일로 바꿉니다.\n"
          ]
        }
      ]
    },
    {
      "cell_type": "markdown",
      "metadata": {
        "id": "mw8M_TnK4Vj0"
      },
      "source": [
        "`weekday()` 함수는 날짜에 해당하는 요일을 숫자로 출력합니다."
      ]
    },
    {
      "cell_type": "code",
      "metadata": {
        "colab": {
          "base_uri": "https://localhost:8080/"
        },
        "id": "aR88BJiu4NZ_",
        "outputId": "fa280534-19d6-400e-8785-42cfde4fa5a5"
      },
      "source": [
        "print(calendar.weekday(2021, 10, 5))"
      ],
      "execution_count": null,
      "outputs": [
        {
          "output_type": "stream",
          "name": "stdout",
          "text": [
            "1\n"
          ]
        }
      ]
    },
    {
      "cell_type": "markdown",
      "metadata": {
        "id": "P539THIhQYmt"
      },
      "source": [
        "`isleap()` 함수는 윤년인 해인지 여부를 출력합니다. 윤년이면 `True`입니다."
      ]
    },
    {
      "cell_type": "code",
      "metadata": {
        "colab": {
          "base_uri": "https://localhost:8080/"
        },
        "id": "RI48KTlpRI7A",
        "outputId": "a3ae8fd9-531d-4168-d9c4-c1efa7f1ec13"
      },
      "source": [
        "print(calendar.isleap(2021))\n",
        "print(calendar.isleap(2020))\n",
        "print(calendar.isleap(2019))\n",
        "print(calendar.isleap(2018))"
      ],
      "execution_count": null,
      "outputs": [
        {
          "output_type": "stream",
          "name": "stdout",
          "text": [
            "False\n",
            "True\n",
            "False\n",
            "False\n"
          ]
        }
      ]
    },
    {
      "cell_type": "markdown",
      "source": [
        "### **17.1.5. 시스템 정보 모듈**"
      ],
      "metadata": {
        "id": "06texCNp9UWH"
      }
    },
    {
      "cell_type": "markdown",
      "source": [
        "`sys` 모듈은 시스템 정보를 가진 모듈입니다. 명령 매개변수를 다룰 때 사용합니다."
      ],
      "metadata": {
        "id": "UXS-zE-FJxC4"
      }
    },
    {
      "cell_type": "code",
      "source": [
        "import sys"
      ],
      "metadata": {
        "id": "vmc4k77hKfY5"
      },
      "execution_count": null,
      "outputs": []
    },
    {
      "cell_type": "code",
      "source": [
        "# 출력 내용이 기므로 주석으로 처리합니다.\n",
        "# help(sys)"
      ],
      "metadata": {
        "id": "cGRMAM_jKvC0"
      },
      "execution_count": null,
      "outputs": []
    },
    {
      "cell_type": "markdown",
      "source": [
        "명령 매개변수만 확인하겠습니다. 자세한 내용은 [링크](https://wikidocs.net/33)를 참고하시기 바랍니다."
      ],
      "metadata": {
        "id": "z5ktdy7jLQr7"
      }
    },
    {
      "cell_type": "code",
      "source": [
        "print(f'sys.argv: {sys.argv}')"
      ],
      "metadata": {
        "colab": {
          "base_uri": "https://localhost:8080/"
        },
        "id": "pw28iVjMLNl3",
        "outputId": "6fd2b4e2-d34e-4e5d-a2ae-2c16a9b50c81"
      },
      "execution_count": null,
      "outputs": [
        {
          "output_type": "stream",
          "name": "stdout",
          "text": [
            "sys.argv: ['/usr/local/lib/python3.7/dist-packages/ipykernel_launcher.py', '-f', '/root/.local/share/jupyter/runtime/kernel-e83efef2-0ea5-4b3a-acec-777cdbdc1067.json']\n"
          ]
        }
      ]
    },
    {
      "cell_type": "markdown",
      "source": [
        "### **17.1.6. 운영체제 기능 모듈**"
      ],
      "metadata": {
        "id": "fK0ervdTKOq_"
      }
    },
    {
      "cell_type": "markdown",
      "source": [
        "`os` 모듈은 운영체제 기능을 가진 모듈입니다. 폴더 생성, 제거, 확인 등 운영체제와 관련된 모든 일을 할 수 있습니다."
      ],
      "metadata": {
        "id": "WesJu7U-Mj8l"
      }
    },
    {
      "cell_type": "code",
      "source": [
        "import os"
      ],
      "metadata": {
        "id": "mugGIbXRMw8Q"
      },
      "execution_count": null,
      "outputs": []
    },
    {
      "cell_type": "code",
      "source": [
        "# 출력 내용이 기므로 주석으로 처리합니다.\n",
        "# help(os)"
      ],
      "metadata": {
        "id": "ts2cfw0QMzK0"
      },
      "execution_count": null,
      "outputs": []
    },
    {
      "cell_type": "markdown",
      "source": [
        "몇 가지 메서드와 변수를 사용해보겠습니다."
      ],
      "metadata": {
        "id": "saJnIkOROoAX"
      }
    },
    {
      "cell_type": "code",
      "source": [
        "print(f'운영체제: {os.name}')\n",
        "print(f'현재 폴더: {os.getcwd()}')\n",
        "print(f'폴더 내 데이터: {os.listdir()}')"
      ],
      "metadata": {
        "colab": {
          "base_uri": "https://localhost:8080/"
        },
        "id": "bacvpcaZOqKK",
        "outputId": "79e546b8-32b5-445a-e582-af71f11fdbca"
      },
      "execution_count": null,
      "outputs": [
        {
          "output_type": "stream",
          "name": "stdout",
          "text": [
            "운영체제: posix\n",
            "현재 폴더: /content\n",
            "폴더 내 데이터: ['.config', 'gdrive', 'sample_data']\n"
          ]
        }
      ]
    },
    {
      "cell_type": "code",
      "source": [
        "# 폴더를 생성합니다.\n",
        "os.mkdir('temporary_folder')\n",
        "\n",
        "# 폴더를 삭제합니다. 단, 폴더가 비어있어야 제거할 수 있습니다.\n",
        "os.rmdir('temporary_folder')"
      ],
      "metadata": {
        "id": "jBfDD4y4PmaM"
      },
      "execution_count": null,
      "outputs": []
    },
    {
      "cell_type": "code",
      "source": [
        "# 파일을 생성하여 문자열을 작성합니다.\n",
        "with open('temporary_file.txt', 'w') as f:\n",
        "    f.write(\"It's just test.\")\n",
        "\n",
        "# 파일명을 바꿉니다.\n",
        "os.rename('temporary_file.txt', 'tem_file.txt')\n",
        "\n",
        "# 파일을 삭제합니다.\n",
        "os.remove('tem_file.txt')"
      ],
      "metadata": {
        "id": "uaeHEfnnP6Nu"
      },
      "execution_count": null,
      "outputs": []
    },
    {
      "cell_type": "code",
      "source": [
        "# 시스템 명령어를 실행합니다.\n",
        "os.system('dir')"
      ],
      "metadata": {
        "colab": {
          "base_uri": "https://localhost:8080/"
        },
        "id": "1ZpMnV7NRy2E",
        "outputId": "ebba8465-8e60-4078-b079-b9559bdd4833"
      },
      "execution_count": null,
      "outputs": [
        {
          "output_type": "execute_result",
          "data": {
            "text/plain": [
              "0"
            ]
          },
          "metadata": {},
          "execution_count": 100
        }
      ]
    },
    {
      "cell_type": "markdown",
      "source": [
        "`os.listdir()` 메서드와 `os.path.isdir()` 메서드를 사용하면 특정 디렉터리를 읽고 파일 디렉터리인지 확인할 수 있습니다."
      ],
      "metadata": {
        "id": "Tg8W7IoFpyzE"
      }
    },
    {
      "cell_type": "code",
      "source": [
        "dir_list = os.listdir('.')\n",
        "print(f'os.listdir(): {dir_list}')\n",
        "print()\n",
        "\n",
        "for path in dir_list:\n",
        "    if os.path.isdir(path):\n",
        "        print(f'폴더: {path}')\n",
        "    else:\n",
        "        print(f'파일: {path}')"
      ],
      "metadata": {
        "colab": {
          "base_uri": "https://localhost:8080/"
        },
        "id": "aT5QpQmon81T",
        "outputId": "3132cc62-7eea-4370-e23a-7f559304bf96"
      },
      "execution_count": null,
      "outputs": [
        {
          "output_type": "stream",
          "name": "stdout",
          "text": [
            "os.listdir(): ['.config', 'gdrive', 'sample_data']\n",
            "\n",
            "폴더: .config\n",
            "폴더: gdrive\n",
            "폴더: sample_data\n"
          ]
        }
      ]
    },
    {
      "cell_type": "markdown",
      "source": [
        "폴더 내부에 있는 모든 파일을 탐색하려면 재귀 함수 구성으로 작성할 수 있습니다."
      ],
      "metadata": {
        "id": "XqcSvqJ-rcNk"
      }
    },
    {
      "cell_type": "code",
      "source": [
        "def read_folder(path):\n",
        "\n",
        "    dir_list = os.listdir(path)\n",
        "\n",
        "    for element in dir_list:\n",
        "        if os.path.isdir(element):\n",
        "            read_folder(element)\n",
        "        else:\n",
        "            print(f'파일: {element}')\n",
        "\n",
        "read_folder('.')"
      ],
      "metadata": {
        "colab": {
          "base_uri": "https://localhost:8080/"
        },
        "id": "quNvqx-bpN5F",
        "outputId": "9ff0b12b-7829-4508-94a8-4a6bbfee1c66"
      },
      "execution_count": null,
      "outputs": [
        {
          "output_type": "stream",
          "name": "stdout",
          "text": [
            "파일: .last_survey_prompt.yaml\n",
            "파일: .last_opt_in_prompt.yaml\n",
            "파일: config_sentinel\n",
            "파일: .last_update_check.json\n",
            "파일: gce\n",
            "파일: logs\n",
            "파일: active_config\n",
            "파일: configurations\n",
            "파일: MyDrive\n",
            "파일: .file-revisions-by-id\n",
            "파일: .shortcut-targets-by-id\n",
            "파일: .Trash-0\n",
            "파일: anscombe.json\n",
            "파일: README.md\n",
            "파일: mnist_test.csv\n",
            "파일: california_housing_train.csv\n",
            "파일: california_housing_test.csv\n",
            "파일: mnist_train_small.csv\n"
          ]
        }
      ]
    },
    {
      "cell_type": "markdown",
      "source": [
        "### **17.1.7. URL 모듈**"
      ],
      "metadata": {
        "id": "5NRz2K-hKUKF"
      }
    },
    {
      "cell_type": "markdown",
      "source": [
        "`urllib` 패키지는 URL을 다루는 데 쓰입니다. 모듈을 한 데 모아 놓은 것을 패키지라고 합니다. 패키지는 다음 파트에서 다룹니다."
      ],
      "metadata": {
        "id": "lWJ52gvtKNnv"
      }
    },
    {
      "cell_type": "code",
      "source": [
        "import urllib\n",
        "\n",
        "help(urllib)"
      ],
      "metadata": {
        "colab": {
          "base_uri": "https://localhost:8080/"
        },
        "id": "L-qYtNebKyca",
        "outputId": "166d18ca-f31d-4bde-e836-5f6413f0581e"
      },
      "execution_count": null,
      "outputs": [
        {
          "output_type": "stream",
          "name": "stdout",
          "text": [
            "Help on package urllib:\n",
            "\n",
            "NAME\n",
            "    urllib\n",
            "\n",
            "MODULE REFERENCE\n",
            "    https://docs.python.org/3.7/library/urllib\n",
            "    \n",
            "    The following documentation is automatically generated from the Python\n",
            "    source files.  It may be incomplete, incorrect or include features that\n",
            "    are considered implementation detail and may vary between Python\n",
            "    implementations.  When in doubt, consult the module reference at the\n",
            "    location listed above.\n",
            "\n",
            "PACKAGE CONTENTS\n",
            "    error\n",
            "    parse\n",
            "    request\n",
            "    response\n",
            "    robotparser\n",
            "\n",
            "FILE\n",
            "    /usr/lib/python3.7/urllib/__init__.py\n",
            "\n",
            "\n"
          ]
        }
      ]
    },
    {
      "cell_type": "markdown",
      "source": [
        "`urllib` 패키지에 `error`, `parse`, `request`, `response`, `robotparser`가 콘텐츠로 존재합니다. 이 모든 콘텐츠를 `help()` 함수로 살펴보면 클래스와 메서드가 아닌 모듈이라는 점을 알 수 있습니다.  "
      ],
      "metadata": {
        "id": "F-rgtXVjLu_r"
      }
    },
    {
      "cell_type": "code",
      "source": [
        "# 긴 내용이므로 주석으로 처리합니다.\n",
        "# help(error)\n",
        "# help(parse)\n",
        "# help(request)\n",
        "# help(response)\n",
        "# help(robotparser)"
      ],
      "metadata": {
        "id": "BcL046UBOdZo"
      },
      "execution_count": null,
      "outputs": []
    },
    {
      "cell_type": "markdown",
      "source": [
        "`urllib` 패키지의 `request` 모듈을 임포트 하고, `request` 모듈이 가진 `urlopen` 메서드를 활용하겠습니다. 이 메서드로 URL 주소의 페이지를 열고, `read()` 메서드로 웹 페이지 내용을 읽습니다."
      ],
      "metadata": {
        "id": "6v6ZmJ0VQOlH"
      }
    },
    {
      "cell_type": "code",
      "source": [
        "from urllib import request\n",
        "\n",
        "naver_url = request.urlopen('https://www.naver.com/')\n",
        "result = naver_url.read()\n",
        "\n",
        "print(result)"
      ],
      "metadata": {
        "colab": {
          "base_uri": "https://localhost:8080/"
        },
        "id": "TDH8TS4wKc-6",
        "outputId": "5b7da6ba-6cfb-4fda-f018-ccce7f84ae1c"
      },
      "execution_count": null,
      "outputs": [
        {
          "output_type": "stream",
          "name": "stdout",
          "text": [
            "b'\\n<!doctype html>                          <html lang=\"ko\" data-dark=\"false\"> <head> <meta charset=\"utf-8\"> <title>NAVER</title> <meta http-equiv=\"X-UA-Compatible\" content=\"IE=edge\"> <meta name=\"viewport\" content=\"width=1190\"> <meta name=\"apple-mobile-web-app-title\" content=\"NAVER\"/> <meta name=\"robots\" content=\"index,nofollow\"/> <meta name=\"description\" content=\"\\xeb\\x84\\xa4\\xec\\x9d\\xb4\\xeb\\xb2\\x84 \\xeb\\xa9\\x94\\xec\\x9d\\xb8\\xec\\x97\\x90\\xec\\x84\\x9c \\xeb\\x8b\\xa4\\xec\\x96\\x91\\xed\\x95\\x9c \\xec\\xa0\\x95\\xeb\\xb3\\xb4\\xec\\x99\\x80 \\xec\\x9c\\xa0\\xec\\x9a\\xa9\\xed\\x95\\x9c \\xec\\xbb\\xa8\\xed\\x85\\x90\\xec\\xb8\\xa0\\xeb\\xa5\\xbc \\xeb\\xa7\\x8c\\xeb\\x82\\x98 \\xeb\\xb3\\xb4\\xec\\x84\\xb8\\xec\\x9a\\x94\"/> <meta property=\"og:title\" content=\"\\xeb\\x84\\xa4\\xec\\x9d\\xb4\\xeb\\xb2\\x84\"> <meta property=\"og:url\" content=\"https://www.naver.com/\"> <meta property=\"og:image\" content=\"https://s.pstatic.net/static/www/mobile/edit/2016/0705/mobile_212852414260.png\"> <meta property=\"og:description\" content=\"\\xeb\\x84\\xa4\\xec\\x9d\\xb4\\xeb\\xb2\\x84 \\xeb\\xa9\\x94\\xec\\x9d\\xb8\\xec\\x97\\x90\\xec\\x84\\x9c \\xeb\\x8b\\xa4\\xec\\x96\\x91\\xed\\x95\\x9c \\xec\\xa0\\x95\\xeb\\xb3\\xb4\\xec\\x99\\x80 \\xec\\x9c\\xa0\\xec\\x9a\\xa9\\xed\\x95\\x9c \\xec\\xbb\\xa8\\xed\\x85\\x90\\xec\\xb8\\xa0\\xeb\\xa5\\xbc \\xeb\\xa7\\x8c\\xeb\\x82\\x98 \\xeb\\xb3\\xb4\\xec\\x84\\xb8\\xec\\x9a\\x94\"/> <meta name=\"twitter:card\" content=\"summary\"> <meta name=\"twitter:title\" content=\"\"> <meta name=\"twitter:url\" content=\"https://www.naver.com/\"> <meta name=\"twitter:image\" content=\"https://s.pstatic.net/static/www/mobile/edit/2016/0705/mobile_212852414260.png\"> <meta name=\"twitter:description\" content=\"\\xeb\\x84\\xa4\\xec\\x9d\\xb4\\xeb\\xb2\\x84 \\xeb\\xa9\\x94\\xec\\x9d\\xb8\\xec\\x97\\x90\\xec\\x84\\x9c \\xeb\\x8b\\xa4\\xec\\x96\\x91\\xed\\x95\\x9c \\xec\\xa0\\x95\\xeb\\xb3\\xb4\\xec\\x99\\x80 \\xec\\x9c\\xa0\\xec\\x9a\\xa9\\xed\\x95\\x9c \\xec\\xbb\\xa8\\xed\\x85\\x90\\xec\\xb8\\xa0\\xeb\\xa5\\xbc \\xeb\\xa7\\x8c\\xeb\\x82\\x98 \\xeb\\xb3\\xb4\\xec\\x84\\xb8\\xec\\x9a\\x94\"/>  <link rel=\"stylesheet\" href=\"https://pm.pstatic.net/dist/css/nmain.20220106.css\"> <link rel=\"stylesheet\" href=\"https://ssl.pstatic.net/sstatic/search/pc/css/sp_autocomplete_210318.css\"> <link rel=\"shortcut icon\" type=\"image/x-icon\" href=\"/favicon.ico?1\"/>  <link rel=\"apple-touch-icon\" sizes=\"114x114\" href=\"https://s.pstatic.net/static/www/u/2014/0328/mma_204243574.png\"/> <link rel=\"apple-touch-icon\" href=\"https://s.pstatic.net/static/www/u/2014/0328/mma_20432863.png\"/> <script>window.nmain=window.nmain||{},window.nmain.supportFlicking=!1;var nsc=\"navertop.v4\",ua=navigator.userAgent,useIeJSFlag=\"1\";window.nmain.isIE=\"0\"===useIeJSFlag,document.getElementsByTagName(\"html\")[0].setAttribute(\"data-useragent\",ua),window.nmain.isIE&&(Object.create=function(n){function e(){}return e.prototype=n,new e})</script> <script>var darkmode= false;window.naver_corp_da=window.naver_corp_da||{main:{}},window.naver_corp_da.main=window.naver_corp_da.main||{},window.naver_corp_da.main.darkmode=darkmode,window.gladsdk=window.gladsdk||{cmd:[]},window.gladsdk.cmd.push((function(){window.gladsdk.setHostMeta(\"theme\",darkmode?\"dark\":\"light\")})),window.ndpsdk=window.ndpsdk||{cmd:[],polyfill:{cmd:[]}},window.ndpsdk.cmd.push((function(){window.ndpsdk.setHostMeta(\"theme\",darkmode?\"dark\":\"light\")}))</script>  <script async src=\"https://ssl.pstatic.net/tveta/libs/glad/prod/gfp-core.js\"></script> <script async src=\"https://ssl.pstatic.net/tveta/libs/ndpsdk/prod/ndp-loader.js\"></script>  <script> window.nmain.gv = {  isLogin: false,\\nuseId: null,   daInfo: {\"ANIMAL\":{\"menu\":\"ANIMAL\",\"childMenu\":\"\",\"adType\":\"singleDom\",\"multiDomAdUrl\":\"\",\"multiDomUnit\":\"\",\"infoList\":[{\"adposId\":\"1000161\",\"singleDomAdUrl\":\"https://siape.veta.naver.com/fxshow\",\"param\":{\"da_dom_id\":\"p_main_animal_1\",\"tb\":\"ANIMAL_1\",\"unit\":\"SU10567\",\"calp\":\"-\"},\"type\":{\"position\":\"abs\",\"positionIndex\":4,\"subject\":\"contents\"},\"dom\":null},{\"adposId\":\"1000162\",\"singleDomAdUrl\":\"https://siape.veta.naver.com/fxshow\",\"param\":{\"da_dom_id\":\"p_main_animal_2\",\"tb\":\"ANIMAL_1\",\"unit\":\"SU10568\",\"calp\":\"-\"},\"type\":{\"position\":\"abs\",\"positionIndex\":8,\"subject\":\"contents\"},\"dom\":null}]},\"BEAUTY\":{\"menu\":\"BEAUTY\",\"childMenu\":\"\",\"adType\":\"singleDom\",\"multiDomAdUrl\":\"\",\"multiDomUnit\":\"\",\"infoList\":[{\"adposId\":\"1000163\",\"singleDomAdUrl\":\"https://siape.veta.naver.com/fxshow\",\"param\":{\"da_dom_id\":\"p_main_beauty_1\",\"tb\":\"BEAUTY_1\",\"unit\":\"SU10595\",\"calp\":\"-\"},\"type\":{\"position\":\"abs\",\"positionIndex\":4,\"subject\":\"contents\"},\"dom\":null},{\"adposId\":\"1000164\",\"singleDomAdUrl\":\"https://siape.veta.naver.com/fxshow\",\"param\":{\"da_dom_id\":\"p_main_beauty_2\",\"tb\":\"BEAUTY_1\",\"unit\":\"SU10596\",\"calp\":\"-\"},\"type\":{\"position\":\"abs\",\"positionIndex\":8,\"subject\":\"contents\"},\"dom\":null}]},\"BUSINESS\":{\"menu\":\"BUSINESS\",\"childMenu\":\"\",\"adType\":\"singleDom\",\"multiDomAdUrl\":\"\",\"multiDomUnit\":\"\",\"infoList\":[{\"adposId\":\"1000165\",\"singleDomAdUrl\":\"https://siape.veta.naver.com/fxshow\",\"param\":{\"da_dom_id\":\"p_main_business_1\",\"tb\":\"BUSINESS_1\",\"unit\":\"SU10577\",\"calp\":\"-\"},\"type\":{\"position\":\"abs\",\"positionIndex\":4,\"subject\":\"contents\"},\"dom\":null},{\"adposId\":\"1000166\",\"singleDomAdUrl\":\"https://siape.veta.naver.com/fxshow\",\"param\":{\"da_dom_id\":\"p_main_business_2\",\"tb\":\"BUSINESS_1\",\"unit\":\"SU10578\",\"calp\":\"-\"},\"type\":{\"position\":\"abs\",\"positionIndex\":8,\"subject\":\"contents\"},\"dom\":null}]},\"CARGAME\":{\"menu\":\"CARGAME\",\"childMenu\":\"\",\"adType\":\"singleDom\",\"multiDomAdUrl\":\"\",\"multiDomUnit\":\"\",\"infoList\":[{\"adposId\":\"1000167\",\"singleDomAdUrl\":\"https://siape.veta.naver.com/fxshow\",\"param\":{\"da_dom_id\":\"p_main_cargame_1\",\"tb\":\"CARGAME_1\",\"unit\":\"SU10587\",\"calp\":\"-\"},\"type\":{\"position\":\"abs\",\"positionIndex\":4,\"subject\":\"contents\"},\"dom\":null},{\"adposId\":\"1000168\",\"singleDomAdUrl\":\"https://siape.veta.naver.com/fxshow\",\"param\":{\"da_dom_id\":\"p_main_cargame_2\",\"tb\":\"CARGAME_1\",\"unit\":\"SU10588\",\"calp\":\"-\"},\"type\":{\"position\":\"abs\",\"positionIndex\":8,\"subject\":\"contents\"},\"dom\":null}]},\"CHINA\":{\"menu\":\"CHINA\",\"childMenu\":\"\",\"adType\":\"singleDom\",\"multiDomAdUrl\":\"\",\"multiDomUnit\":\"\",\"infoList\":[{\"adposId\":\"1000169\",\"singleDomAdUrl\":\"https://siape.veta.naver.com/fxshow\",\"param\":{\"da_dom_id\":\"p_main_china_1\",\"tb\":\"CHINA_1\",\"unit\":\"SU10591\",\"calp\":\"-\"},\"type\":{\"position\":\"abs\",\"positionIndex\":4,\"subject\":\"contents\"},\"dom\":null},{\"adposId\":\"1000170\",\"singleDomAdUrl\":\"https://siape.veta.naver.com/fxshow\",\"param\":{\"da_dom_id\":\"p_main_china_2\",\"tb\":\"CHINA_1\",\"unit\":\"SU10592\",\"calp\":\"-\"},\"type\":{\"position\":\"abs\",\"positionIndex\":8,\"subject\":\"contents\"},\"dom\":null}]},\"DESIGN\":{\"menu\":\"DESIGN\",\"childMenu\":\"\",\"adType\":\"singleDom\",\"multiDomAdUrl\":\"\",\"multiDomUnit\":\"\",\"infoList\":[{\"adposId\":\"1000171\",\"singleDomAdUrl\":\"https://siape.veta.naver.com/fxshow\",\"param\":{\"da_dom_id\":\"p_main_design_1\",\"tb\":\"DESIGN_1\",\"unit\":\"SU10569\",\"calp\":\"-\"},\"type\":{\"position\":\"abs\",\"positionIndex\":4,\"subject\":\"contents\"},\"dom\":null},{\"adposId\":\"1000172\",\"singleDomAdUrl\":\"https://siape.veta.naver.com/fxshow\",\"param\":{\"da_dom_id\":\"p_main_design_2\",\"tb\":\"DESIGN_1\",\"unit\":\"SU10570\",\"calp\":\"-\"},\"type\":{\"position\":\"abs\",\"positionIndex\":8,\"subject\":\"contents\"},\"dom\":null}]},\"FARM\":{\"menu\":\"FARM\",\"childMenu\":\"\",\"adType\":\"singleDom\",\"multiDomAdUrl\":\"\",\"multiDomUnit\":\"\",\"infoList\":[{\"adposId\":\"1000173\",\"singleDomAdUrl\":\"https://siape.veta.naver.com/fxshow\",\"param\":{\"da_dom_id\":\"p_main_farm_1\",\"tb\":\"FARM_1\",\"unit\":\"SU10561\",\"calp\":\"-\"},\"type\":{\"position\":\"abs\",\"positionIndex\":4,\"subject\":\"contents\"},\"dom\":null},{\"adposId\":\"1000174\",\"singleDomAdUrl\":\"https://siape.veta.naver.com/fxshow\",\"param\":{\"da_dom_id\":\"p_main_farm_2\",\"tb\":\"FARM_1\",\"unit\":\"SU10562\",\"calp\":\"-\"},\"type\":{\"position\":\"abs\",\"positionIndex\":8,\"subject\":\"contents\"},\"dom\":null}]},\"FINANCE\":{\"menu\":\"FINANCE\",\"childMenu\":\"\",\"adType\":\"singleDom\",\"multiDomAdUrl\":\"\",\"multiDomUnit\":\"\",\"infoList\":[{\"adposId\":\"1000175\",\"singleDomAdUrl\":\"https://siape.veta.naver.com/fxshow\",\"param\":{\"da_dom_id\":\"p_main_finance_1\",\"tb\":\"FINANCE_1\",\"unit\":\"SU10563\",\"calp\":\"-\"},\"type\":{\"position\":\"abs\",\"positionIndex\":4,\"subject\":\"contents\"},\"dom\":null},{\"adposId\":\"1000176\",\"singleDomAdUrl\":\"https://siape.veta.naver.com/fxshow\",\"param\":{\"da_dom_id\":\"p_main_finance_2\",\"tb\":\"FINANCE_1\",\"unit\":\"SU10564\",\"calp\":\"-\"},\"type\":{\"position\":\"abs\",\"positionIndex\":8,\"subject\":\"contents\"},\"dom\":null}]},\"ITTECH\":{\"menu\":\"ITTECH\",\"childMenu\":\"\",\"adType\":\"singleDom\",\"multiDomAdUrl\":\"\",\"multiDomUnit\":\"\",\"infoList\":[{\"adposId\":\"1000177\",\"singleDomAdUrl\":\"https://siape.veta.naver.com/fxshow\",\"param\":{\"da_dom_id\":\"p_main_ittech_1\",\"tb\":\"ITTECH_1\",\"unit\":\"SU10593\",\"calp\":\"-\"},\"type\":{\"position\":\"abs\",\"positionIndex\":4,\"subject\":\"contents\"},\"dom\":null},{\"adposId\":\"1000178\",\"singleDomAdUrl\":\"https://siape.veta.naver.com/fxshow\",\"param\":{\"da_dom_id\":\"p_main_ittech_2\",\"tb\":\"ITTECH_1\",\"unit\":\"SU10594\",\"calp\":\"-\"},\"type\":{\"position\":\"abs\",\"positionIndex\":8,\"subject\":\"contents\"},\"dom\":null}]},\"JOB\":{\"menu\":\"JOB\",\"childMenu\":\"\",\"adType\":\"singleDom\",\"multiDomAdUrl\":\"\",\"multiDomUnit\":\"\",\"infoList\":[{\"adposId\":\"1000179\",\"singleDomAdUrl\":\"https://siape.veta.naver.com/fxshow\",\"param\":{\"da_dom_id\":\"p_main_job_1\",\"tb\":\"JOB_1\",\"unit\":\"SU10589\",\"calp\":\"-\"},\"type\":{\"position\":\"abs\",\"positionIndex\":4,\"subject\":\"contents\"},\"dom\":null},{\"adposId\":\"1000180\",\"singleDomAdUrl\":\"https://siape.veta.naver.com/fxshow\",\"param\":{\"da_dom_id\":\"p_main_job_2\",\"tb\":\"JOB_1\",\"unit\":\"SU10590\",\"calp\":\"-\"},\"type\":{\"position\":\"abs\",\"positionIndex\":8,\"subject\":\"contents\"},\"dom\":null}]},\"LAW\":{\"menu\":\"LAW\",\"childMenu\":\"\",\"adType\":\"singleDom\",\"multiDomAdUrl\":\"\",\"multiDomUnit\":\"\",\"infoList\":[{\"adposId\":\"1000181\",\"singleDomAdUrl\":\"https://siape.veta.naver.com/fxshow\",\"param\":{\"da_dom_id\":\"p_main_law_1\",\"tb\":\"LAW_1\",\"unit\":\"SU10573\",\"calp\":\"-\"},\"type\":{\"position\":\"abs\",\"positionIndex\":4,\"subject\":\"contents\"},\"dom\":null},{\"adposId\":\"1000182\",\"singleDomAdUrl\":\"https://siape.veta.naver.com/fxshow\",\"param\":{\"da_dom_id\":\"p_main_law_2\",\"tb\":\"LAW_1\",\"unit\":\"SU10574\",\"calp\":\"-\"},\"type\":{\"position\":\"abs\",\"positionIndex\":8,\"subject\":\"contents\"},\"dom\":null}]},\"LIVING\":{\"menu\":\"LIVING\",\"childMenu\":\"\",\"adType\":\"singleDom\",\"multiDomAdUrl\":\"\",\"multiDomUnit\":\"\",\"infoList\":[{\"adposId\":\"1000183\",\"singleDomAdUrl\":\"https://siape.veta.naver.com/fxshow\",\"param\":{\"da_dom_id\":\"p_main_living_1\",\"tb\":\"LIVING_1\",\"unit\":\"SU10597\",\"calp\":\"-\"},\"type\":{\"position\":\"abs\",\"positionIndex\":4,\"subject\":\"contents\"},\"dom\":null},{\"adposId\":\"1000184\",\"singleDomAdUrl\":\"https://siape.veta.naver.com/fxshow\",\"param\":{\"da_dom_id\":\"p_main_living_2\",\"tb\":\"LIVING_1\",\"unit\":\"SU10606\",\"calp\":\"-\"},\"type\":{\"position\":\"abs\",\"positionIndex\":8,\"subject\":\"contents\"},\"dom\":null}]},\"LIVINGHOME\":{\"menu\":\"LIVINGHOME\",\"childMenu\":\"\",\"adType\":\"singleDom\",\"multiDomAdUrl\":\"\",\"multiDomUnit\":\"\",\"infoList\":[{\"adposId\":\"1000185\",\"singleDomAdUrl\":\"https://siape.veta.naver.com/fxshow\",\"param\":{\"da_dom_id\":\"p_main_livinghome_1\",\"tb\":\"LIVINGHOME_1\",\"unit\":\"SU10571\",\"calp\":\"-\"},\"type\":{\"position\":\"abs\",\"positionIndex\":4,\"subject\":\"contents\"},\"dom\":null},{\"adposId\":\"1000186\",\"singleDomAdUrl\":\"https://siape.veta.naver.com/fxshow\",\"param\":{\"da_dom_id\":\"p_main_livinghome_2\",\"tb\":\"LIVINGHOME_1\",\"unit\":\"SU10572\",\"calp\":\"-\"},\"type\":{\"position\":\"abs\",\"positionIndex\":8,\"subject\":\"contents\"},\"dom\":null}]},\"MOMKIDS\":{\"menu\":\"MOMKIDS\",\"childMenu\":\"\",\"adType\":\"singleDom\",\"multiDomAdUrl\":\"\",\"multiDomUnit\":\"\",\"infoList\":[{\"adposId\":\"1000187\",\"singleDomAdUrl\":\"https://siape.veta.naver.com/fxshow\",\"param\":{\"da_dom_id\":\"p_main_momkids_1\",\"tb\":\"MOMKIDS_1\",\"unit\":\"SU10575\",\"calp\":\"-\"},\"type\":{\"position\":\"abs\",\"positionIndex\":4,\"subject\":\"contents\"},\"dom\":null},{\"adposId\":\"1000188\",\"singleDomAdUrl\":\"https://siape.veta.naver.com/fxshow\",\"param\":{\"da_dom_id\":\"p_main_momkids_2\",\"tb\":\"MOMKIDS_1\",\"unit\":\"SU10576\",\"calp\":\"-\"},\"type\":{\"position\":\"abs\",\"positionIndex\":8,\"subject\":\"contents\"},\"dom\":null}]},\"MOVIE\":{\"menu\":\"MOVIE\",\"childMenu\":\"\",\"adType\":\"singleDom\",\"multiDomAdUrl\":\"\",\"multiDomUnit\":\"\",\"infoList\":[{\"adposId\":\"1000189\",\"singleDomAdUrl\":\"https://siape.veta.naver.com/fxshow\",\"param\":{\"da_dom_id\":\"p_main_movie_1\",\"tb\":\"MOVIE_1\",\"unit\":\"SU10585\",\"calp\":\"-\"},\"type\":{\"position\":\"abs\",\"positionIndex\":4,\"subject\":\"contents\"},\"dom\":null},{\"adposId\":\"1000190\",\"singleDomAdUrl\":\"https://siape.veta.naver.com/fxshow\",\"param\":{\"da_dom_id\":\"p_main_movie_2\",\"tb\":\"MOVIE_1\",\"unit\":\"SU10586\",\"calp\":\"-\"},\"type\":{\"position\":\"abs\",\"positionIndex\":8,\"subject\":\"contents\"},\"dom\":null}]},\"SCHOOL\":{\"menu\":\"SCHOOL\",\"childMenu\":\"\",\"adType\":\"singleDom\",\"multiDomAdUrl\":\"\",\"multiDomUnit\":\"\",\"infoList\":[{\"adposId\":\"1000191\",\"singleDomAdUrl\":\"https://siape.veta.naver.com/fxshow\",\"param\":{\"da_dom_id\":\"p_main_school_1\",\"tb\":\"SCHOOL_1\",\"unit\":\"SU10579\",\"calp\":\"-\"},\"type\":{\"position\":\"abs\",\"positionIndex\":4,\"subject\":\"contents\"},\"dom\":null},{\"adposId\":\"1000192\",\"singleDomAdUrl\":\"https://siape.veta.naver.com/fxshow\",\"param\":{\"da_dom_id\":\"p_main_school_2\",\"tb\":\"SCHOOL_1\",\"unit\":\"SU10580\",\"calp\":\"-\"},\"type\":{\"position\":\"abs\",\"positionIndex\":8,\"subject\":\"contents\"},\"dom\":null}]},\"SHOW\":{\"menu\":\"SHOW\",\"childMenu\":\"\",\"adType\":\"singleDom\",\"multiDomAdUrl\":\"\",\"multiDomUnit\":\"\",\"infoList\":[{\"adposId\":\"1000193\",\"singleDomAdUrl\":\"https://siape.veta.naver.com/fxshow\",\"param\":{\"da_dom_id\":\"p_main_show_1\",\"tb\":\"SHOW_1\",\"unit\":\"SU10565\",\"calp\":\"-\"},\"type\":{\"position\":\"abs\",\"positionIndex\":4,\"subject\":\"contents\"},\"dom\":null},{\"adposId\":\"1000194\",\"singleDomAdUrl\":\"https://siape.veta.naver.com/fxshow\",\"param\":{\"da_dom_id\":\"p_main_show_2\",\"tb\":\"SHOW_1\",\"unit\":\"SU10566\",\"calp\":\"-\"},\"type\":{\"position\":\"abs\",\"positionIndex\":8,\"subject\":\"contents\"},\"dom\":null}]},\"TRAVEL\":{\"menu\":\"TRAVEL\",\"childMenu\":\"\",\"adType\":\"singleDom\",\"multiDomAdUrl\":\"\",\"multiDomUnit\":\"\",\"infoList\":[{\"adposId\":\"1000195\",\"singleDomAdUrl\":\"https://siape.veta.naver.com/fxshow\",\"param\":{\"da_dom_id\":\"p_main_travel_1\",\"tb\":\"TRAVEL_1\",\"unit\":\"SU10581\",\"calp\":\"-\"},\"type\":{\"position\":\"abs\",\"positionIndex\":4,\"subject\":\"contents\"},\"dom\":null},{\"adposId\":\"1000196\",\"singleDomAdUrl\":\"https://siape.veta.naver.com/fxshow\",\"param\":{\"da_dom_id\":\"p_main_travel_2\",\"tb\":\"TRAVEL_1\",\"unit\":\"SU10582\",\"calp\":\"-\"},\"type\":{\"position\":\"abs\",\"positionIndex\":8,\"subject\":\"contents\"},\"dom\":null}]},\"WEDDING\":{\"menu\":\"WEDDING\",\"childMenu\":\"\",\"adType\":\"singleDom\",\"multiDomAdUrl\":\"\",\"multiDomUnit\":\"\",\"infoList\":[{\"adposId\":\"1000197\",\"singleDomAdUrl\":\"https://siape.veta.naver.com/fxshow\",\"param\":{\"da_dom_id\":\"p_main_wedding_1\",\"tb\":\"WEDDING_1\",\"unit\":\"SU10583\",\"calp\":\"-\"},\"type\":{\"position\":\"abs\",\"positionIndex\":4,\"subject\":\"contents\"},\"dom\":null},{\"adposId\":\"1000198\",\"singleDomAdUrl\":\"https://siape.veta.naver.com/fxshow\",\"param\":{\"da_dom_id\":\"p_main_wedding_2\",\"tb\":\"WEDDING_1\",\"unit\":\"SU10584\",\"calp\":\"-\"},\"type\":{\"position\":\"abs\",\"positionIndex\":8,\"subject\":\"contents\"},\"dom\":null}]}},\\nsvt: 20220108010111,\\n}; </script> <script> window.nmain.newsstand = {\\nrcode: \\'(none)\\',\\nnewsCastSubsInfo: \\'\\',\\nnewsStandSubsInfo: \\'\\'\\n};\\nwindow.etc = {  };\\nwindow.svr = \"<!--cvweb01-->\"; </script> <script src=\"https://ssl.pstatic.net/tveta/libs/assets/js/pc/main/min/pc.veta.core.min.js\" defer=\"defer\"></script>   <script src=\"https://pm.pstatic.net/dist/js/external.424737be.js?o=www\" type=\"text/javascript\" crossorigin=\"anonymous\" defer=\"defer\"></script> <script src=\"https://pm.pstatic.net/dist/js/preload.5875f4cb.js?o=www\" type=\"text/javascript\" crossorigin=\"anonymous\" defer=\"defer\"></script> <script src=\"https://pm.pstatic.net/dist/js/polyfill.0b1e66f9.js?o=www\" type=\"text/javascript\" crossorigin=\"anonymous\" defer=\"defer\"></script>  <script src=\"https://pm.pstatic.net/dist/js/vendors~more~nmain~notice~search~sidebar_notice.29c38b59.js?o=www\" type=\"text/javascript\" crossorigin=\"anonymous\" defer=\"defer\"></script>   <script src=\"https://pm.pstatic.net/dist/js/search.42b2ccb4.js?o=www\" type=\"text/javascript\" crossorigin=\"anonymous\" defer=\"defer\"></script>  <script src=\"https://pm.pstatic.net/dist/js/vendors~more~nmain~sidebar_notice.2d20790b.js?o=www\" type=\"text/javascript\" crossorigin=\"anonymous\" defer=\"defer\"></script> <script src=\"https://pm.pstatic.net/dist/js/nmain.3e57d655.js?o=www\" type=\"text/javascript\" crossorigin=\"anonymous\" defer=\"defer\"></script> <style>:root{color-scheme:light}#_nx_kbd .setkorhelp a{display:none}</style> </head> <body> <div id=\"u_skip\"> <a href=\"#newsstand\"><span>\\xeb\\x89\\xb4\\xec\\x8a\\xa4\\xec\\x8a\\xa4\\xed\\x83\\xa0\\xeb\\x93\\x9c \\xeb\\xb0\\x94\\xeb\\xa1\\x9c\\xea\\xb0\\x80\\xea\\xb8\\xb0</span></a> <a href=\"#themecast\"><span>\\xec\\xa3\\xbc\\xec\\xa0\\x9c\\xeb\\xb3\\x84\\xec\\xba\\x90\\xec\\x8a\\xa4\\xed\\x8a\\xb8 \\xeb\\xb0\\x94\\xeb\\xa1\\x9c\\xea\\xb0\\x80\\xea\\xb8\\xb0</span></a> <a href=\"#timesquare\"><span>\\xed\\x83\\x80\\xec\\x9e\\x84\\xec\\x8a\\xa4\\xed\\x80\\x98\\xec\\x96\\xb4 \\xeb\\xb0\\x94\\xeb\\xa1\\x9c\\xea\\xb0\\x80\\xea\\xb8\\xb0</span></a> <a href=\"#shopcast\"><span>\\xec\\x87\\xbc\\xed\\x95\\x91\\xec\\xba\\x90\\xec\\x8a\\xa4\\xed\\x8a\\xb8 \\xeb\\xb0\\x94\\xeb\\xa1\\x9c\\xea\\xb0\\x80\\xea\\xb8\\xb0</span></a> <a href=\"#account\"><span>\\xeb\\xa1\\x9c\\xea\\xb7\\xb8\\xec\\x9d\\xb8 \\xeb\\xb0\\x94\\xeb\\xa1\\x9c\\xea\\xb0\\x80\\xea\\xb8\\xb0</span></a> </div> <div id=\"wrap\">         \\n<style>._1syGnXOL{padding-right:18px;font-size:14px;line-height:0;letter-spacing:-.25px;color:#000}._1syGnXOL span,._1syGnXOL strong{line-height:49px}._1syGnXOL:before{display:inline-block;content:\"\";vertical-align:top;background-image:url(https://static-whale.pstatic.net/main/sprite-20211123@2x.png);background-repeat:no-repeat;background-size:116px 112px;width:18px;height:18px;margin:16px 8px 0 0;background-position:-98px 0}[data-useragent*=\"MSIE 8\"] ._1syGnXOL:before{background-image:url(https://static-whale.pstatic.net/main/sprite-20211123.png)}._1syGnXOL._3dsvmZg2:before{background-position:-47px -85px}._1syGnXOL._1NBFx1WK:before{width:20px;height:20px;margin:15px 8px 0 0;background-position:-21px -89px}._1syGnXOL._2mcQEKCd:before{width:22px;height:22px;margin:14px 7px 0 0;background-position:-47px -63px}._1syGnXOL._36slsKuJ:before{width:21px;height:49px;margin:0 14px 0 0;background-position:0 -63px}._1syGnXOL._3di88A4c{padding-right:12px;font-size:17px}._1syGnXOL._3di88A4c:before{content:none}._1syGnXOL ._19K4X1CD{text-decoration:underline}._2aeXMlrb{display:inline-block;position:relative;font-size:12px;height:49px;width:78px;text-decoration:none;color:#fff;font-weight:700;letter-spacing:-.5px;vertical-align:top}._2aeXMlrb span{text-align:center;margin:9px 0;height:31px;display:block;line-height:31px;border-radius:15px}._2aeXMlrb span:before{display:inline-block;content:\"\";vertical-align:top;background-image:url(https://static-whale.pstatic.net/main/sprite-20211123@2x.png);background-repeat:no-repeat;background-size:116px 112px}[data-useragent*=\"MSIE 8\"] ._2aeXMlrb span:before{background-image:url(https://static-whale.pstatic.net/main/sprite-20211123.png)}._2aeXMlrb.BMgpjddw{font-size:11px;width:94px}._2aeXMlrb.BMgpjddw span:before{margin:9px 3px 0 0;width:17px;height:13px;background-position:-89px -63px}._3h-N8T9V{position:absolute;top:0;left:0;right:0;bottom:0;background:rgba(0,0,0,0)}._1KncATpM{display:inline-block;content:\"\";vertical-align:top;background-image:url(https://static-whale.pstatic.net/main/sprite-20211123@2x.png);background-repeat:no-repeat;background-size:116px 112px;margin-top:14px;float:left;width:98px;height:21px;background-position:0 -21px}[data-useragent*=\"MSIE 8\"] ._1KncATpM{background-image:url(https://static-whale.pstatic.net/main/sprite-20211123.png)}._1KncATpM._2v3uxv2x{background-position:0 0}._1KncATpM._1yl_Ow6o{background-position:0 -42px}._20PYt6lT{font-size:11px;height:49px;cursor:pointer;position:absolute;top:0;right:0;color:#666;opacity:.7}._20PYt6lT:after{width:15px;height:15px;margin-left:4px;background-position:-98px -33px;display:inline-block;content:\"\";vertical-align:top;background-image:url(https://static-whale.pstatic.net/main/sprite-20211123@2x.png);background-repeat:no-repeat;background-size:116px 112px}[data-useragent*=\"MSIE 8\"] ._20PYt6lT:after{background-image:url(https://static-whale.pstatic.net/main/sprite-20211123.png)}._20PYt6lT._39oMCV2N:after{background-position:-98px -18px}._20PYt6lT._3MOWOORv{color:#c3c2c2}._20PYt6lT._3MOWOORv:after{background-position:-80px -85px}._20PYt6lT._3wm5EzmJ{color:#fff}._20PYt6lT._3wm5EzmJ:after{background-position:-65px -85px}._1hiMWemA{height:49px}._1hiMWemA .tY_u8r23{position:relative;width:1130px;margin:0 auto}._1hiMWemA .tY_u8r23 a{text-decoration:none}._1hiMWemA._23U_6TM_{position:relative}._1hiMWemA._23U_6TM_:after{position:absolute;z-index:1;content:\"\";display:block;width:100%;height:1px;bottom:0;background-color:rgba(0,0,0,.050980392156862744)}</style>\\n<div\\nid=\"NM_TOP_BANNER\"\\ndata-clk-prefix=\"top\"\\nclass=\"_1hiMWemA\"\\nstyle=\"background-color: #736eff\"\\n>\\n<div class=\"tY_u8r23\">\\n<a\\nclass=\"_3h-N8T9V\"\\nhref=\"https://whale.naver.com/banner/details/translate/?=main&wpid=RydDy7\"\\ndata-clk=\"dropbanner1b\"\\n></a\\n><i class=\"_1KncATpM _1yl_Ow6o\"><span class=\"blind\">NAVER whale</span></i\\n><img\\nsrc=\"https://static-whale.pstatic.net/main/img_translate_v2@2x.png\"\\nwidth=\"180\"\\nheight=\"49\"\\nalt=\"\"\\nstyle=\"padding-left: 90px\"\\n/><span\\nclass=\"_1syGnXOL _3di88A4c\"\\ndata-clk=\"dropbanner1b\"\\nstyle=\"padding-right: 20px; color: white; padding-left: 20px\"\\n><strong style=\"color: #fffe15\">\\xeb\\x8b\\xa8\\xec\\x96\\xb4 \\xeb\\xb3\\xb5\\xeb\\xb6\\x99 \\xec\\x97\\x86\\xec\\x9d\\xb4 \\xeb\\xb2\\x88\\xec\\x97\\xad, \\xec\\xa7\\x84\\xec\\xa7\\x9c \\xea\\xbf\\x80! </strong\\n><span>\\xec\\x9b\\xa8\\xec\\x9d\\xbc \\xec\\x82\\xac\\xec\\x9a\\xa9\\xec\\x9e\\x90 \\xeb\\xaa\\xa9\\xec\\x86\\x8c\\xeb\\xa6\\xac\\xec\\x9e\\x85\\xeb\\x8b\\x88\\xeb\\x8b\\xa4.</span></span\\n><a\\nhref=\"https://installer-whale.pstatic.net/downloads/banner/RydDy7/WhaleSetup.exe\"\\nclass=\"_2aeXMlrb BMgpjddw\"\\nid=\"NM_whale_download_btn\"\\ndata-clk=\"dropdownload1b\"\\n><span style=\"background-color: #2b24d3\">\\xeb\\x8b\\xa4\\xec\\x9a\\xb4\\xeb\\xa1\\x9c\\xeb\\x93\\x9c</span></a\\n><button\\ntype=\"button\"\\ndata-ui-cookie-exp-days=\"3\"\\ndata-ui-cookie-key=\"NM_TOP_PROMOTION\"\\ndata-ui-cookie-value=\"1\"\\ndata-ui-hide-target=\"#NM_TOP_BANNER\"\\ndata-clk=\"dropclose1b\"\\nclass=\"_20PYt6lT _3wm5EzmJ\"\\n>\\n3\\xec\\x9d\\xbc \\xeb\\x8f\\x99\\xec\\x95\\x88 \\xeb\\xb3\\xb4\\xec\\xa7\\x80 \\xec\\x95\\x8a\\xea\\xb8\\xb0\\n</button>\\n</div>\\n</div>  <div id=\"header\" role=\"banner\">\\n\\n\\n\\n\\n\\n\\n\\n\\n<div class=\"special_bg\">\\n<div class=\"group_flex\">\\n<div class=\"logo_area\">\\n<h1 class=\"logo_default\">\\n<a href=\"/\" class=\"logo_naver\" data-clk=\"top.logo\"\\n><span class=\"blind\">\\xeb\\x84\\xa4\\xec\\x9d\\xb4\\xeb\\xb2\\x84</span></a\\n>\\n</h1>\\n</div>\\n<div class=\"service_area\">\\n<a id=\"NM_set_home_btn\" href=\"https://help.naver.com/support/welcomePage/guide.help\" class=\"link_set\" data-clk=\"top.mkhome\">\\xeb\\x84\\xa4\\xec\\x9d\\xb4\\xeb\\xb2\\x84\\xeb\\xa5\\xbc \\xec\\x8b\\x9c\\xec\\x9e\\x91\\xed\\x8e\\x98\\xec\\x9d\\xb4\\xec\\xa7\\x80\\xeb\\xa1\\x9c</a>\\n<i class=\"sa_bar\"></i>\\n<a href=\"https://jr.naver.com\" class=\"link_jrnaver\" data-clk=\"top.jrnaver\"><i class=\"ico_jrnaver\"></i><span class=\"blind\">\\xec\\xa5\\xac\\xeb\\x8b\\x88\\xec\\x96\\xb4\\xeb\\x84\\xa4\\xec\\x9d\\xb4\\xeb\\xb2\\x84</span></a>\\n<a href=\"https://happybean.naver.com\" class=\"link_happybin\" data-clk=\"top.happybean\"><i class=\"ico_happybin\"></i><span class=\"blind\">\\xed\\x95\\xb4\\xed\\x94\\xbc\\xeb\\xb9\\x88</span></a>\\n</div>\\n\\n<div id=\"search\" class=\"search_area\" data-clk-prefix=\"sch\">\\n<form id=\"sform\" name=\"sform\" action=\"https://search.naver.com/search.naver\" method=\"get\" role=\"search\">\\n<fieldset>\\n<legend class=\"blind\">\\xea\\xb2\\x80\\xec\\x83\\x89</legend>\\n<select id=\"where\" name=\"where\" title=\"\\xea\\xb2\\x80\\xec\\x83\\x89 \\xeb\\xb2\\x94\\xec\\x9c\\x84 \\xec\\x84\\xa0\\xed\\x83\\x9d\" class=\"blind\">\\n<option value=\"nexearch\" selected=\"selected\">\\xed\\x86\\xb5\\xed\\x95\\xa9\\xea\\xb2\\x80\\xec\\x83\\x89</option><option value=\"post\">\\xeb\\xb8\\x94\\xeb\\xa1\\x9c\\xea\\xb7\\xb8</option><option value=\"cafeblog\">\\xec\\xb9\\xb4\\xed\\x8e\\x98</option><option value=\"cafe\">- \\xec\\xb9\\xb4\\xed\\x8e\\x98\\xeb\\xaa\\x85</option><option value=\"article\">- \\xec\\xb9\\xb4\\xed\\x8e\\x98\\xea\\xb8\\x80</option><option value=\"kin\">\\xec\\xa7\\x80\\xec\\x8b\\x9diN</option><option value=\"news\">\\xeb\\x89\\xb4\\xec\\x8a\\xa4</option><option value=\"web\">\\xec\\x82\\xac\\xec\\x9d\\xb4\\xed\\x8a\\xb8</option><option value=\"category\">- \\xec\\xb9\\xb4\\xed\\x85\\x8c\\xea\\xb3\\xa0\\xeb\\xa6\\xac</option><option value=\"site\">- \\xec\\x82\\xac\\xec\\x9d\\xb4\\xed\\x8a\\xb8</option><option value=\"movie\">\\xec\\x98\\x81\\xed\\x99\\x94</option><option value=\"webkr\">\\xec\\x9b\\xb9\\xeb\\xac\\xb8\\xec\\x84\\x9c</option><option value=\"dic\">\\xec\\x82\\xac\\xec\\xa0\\x84</option><option value=\"100\">- \\xeb\\xb0\\xb1\\xea\\xb3\\xbc\\xec\\x82\\xac\\xec\\xa0\\x84</option><option value=\"endic\">- \\xec\\x98\\x81\\xec\\x96\\xb4\\xec\\x82\\xac\\xec\\xa0\\x84</option><option value=\"eedic\">- \\xec\\x98\\x81\\xec\\x98\\x81\\xec\\x82\\xac\\xec\\xa0\\x84</option><option value=\"krdic\">- \\xea\\xb5\\xad\\xec\\x96\\xb4\\xec\\x82\\xac\\xec\\xa0\\x84</option><option value=\"jpdic\">- \\xec\\x9d\\xbc\\xeb\\xb3\\xb8\\xec\\x96\\xb4\\xec\\x82\\xac\\xec\\xa0\\x84</option><option value=\"hanja\">- \\xed\\x95\\x9c\\xec\\x9e\\x90\\xec\\x82\\xac\\xec\\xa0\\x84</option><option value=\"terms\">- \\xec\\x9a\\xa9\\xec\\x96\\xb4\\xec\\x82\\xac\\xec\\xa0\\x84</option><option value=\"book\">\\xec\\xb1\\x85</option><option value=\"music\">\\xec\\x9d\\x8c\\xec\\x95\\x85</option><option value=\"doc\">\\xec\\xa0\\x84\\xeb\\xac\\xb8\\xec\\x9e\\x90\\xeb\\xa3\\x8c</option><option value=\"shop\">\\xec\\x87\\xbc\\xed\\x95\\x91</option><option value=\"local\">\\xec\\xa7\\x80\\xec\\x97\\xad</option><option value=\"video\">\\xeb\\x8f\\x99\\xec\\x98\\x81\\xec\\x83\\x81</option><option value=\"image\">\\xec\\x9d\\xb4\\xeb\\xaf\\xb8\\xec\\xa7\\x80</option><option value=\"mypc\">\\xeb\\x82\\xb4PC</option><optgroup label=\"\\xec\\x8a\\xa4\\xeb\\xa7\\x88\\xed\\x8a\\xb8 \\xed\\x8c\\x8c\\xec\\x9d\\xb8\\xeb\\x8d\\x94\"><option value=\"movie\">\\xec\\x98\\x81\\xed\\x99\\x94</option><option value=\"auto\">\\xec\\x9e\\x90\\xeb\\x8f\\x99\\xec\\xb0\\xa8</option><option value=\"game\">\\xea\\xb2\\x8c\\xec\\x9e\\x84</option><option value=\"health\">\\xea\\xb1\\xb4\\xea\\xb0\\x95</option><option value=\"people\">\\xec\\x9d\\xb8\\xeb\\xac\\xbc</option></optgroup><optgroup label=\"\\xeb\\x84\\xa4\\xec\\x9d\\xb4\\xeb\\xb2\\x84 \\xeb\\x9e\\xa9\"><option>\\xea\\xb8\\x8d\\xec\\xa0\\x95\\xeb\\xb6\\x80\\xec\\xa0\\x95\\xea\\xb2\\x80\\xec\\x83\\x89</option></optgroup>\\n</select>\\n<input type=\"hidden\" id=\"sm\" name=\"sm\" value=\"top_hty\" />\\n<input type=\"hidden\" id=\"fbm\" name=\"fbm\" value=\"0\" />\\n<input type=\"hidden\" id=\"acr\" name=\"acr\" value=\"\" disabled=\"disabled\" />\\n<input type=\"hidden\" id=\"acq\" name=\"acq\" value=\"\" disabled=\"disabled\" />\\n<input type=\"hidden\" id=\"qdt\" name=\"qdt\" value=\"\" disabled=\"disabled\" />\\n<input type=\"hidden\" id=\"ie\" name=\"ie\" value=\"utf8\" />\\n<input type=\"hidden\" id=\"acir\" name=\"acir\" value=\"\" disabled=\"disabled\" />\\n<input type=\"hidden\" id=\"os\" name=\"os\" value=\"\" disabled=\"disabled\" />\\n<input type=\"hidden\" id=\"bid\" name=\"bid\" value=\"\" disabled=\"disabled\" />\\n<input type=\"hidden\" id=\"pkid\" name=\"pkid\" value=\"\" disabled=\"disabled\" />\\n<input type=\"hidden\" id=\"eid\" name=\"eid\" value=\"\" disabled=\"disabled\" />\\n<input type=\"hidden\" id=\"mra\" name=\"mra\" value=\"\" disabled=\"disabled\" />\\n\\n\\n\\n<div class=\"green_window\" style=\\'\\'>\\n<!-- [AU] data-atcmp-element \\xec\\x97\\x90 \\xed\\x95\\xb4\\xeb\\x8b\\xb9\\xed\\x95\\x98\\xeb\\x8a\\x94 attribute\\xeb\\xa5\\xbc \\xec\\xb6\\x94\\xea\\xb0\\x80\\xed\\x95\\xb4\\xec\\xa3\\xbc\\xec\\x84\\xb8\\xec\\x9a\\x94. -->\\n<input id=\"query\" name=\"query\" type=\"text\" title=\"\\xea\\xb2\\x80\\xec\\x83\\x89\\xec\\x96\\xb4 \\xec\\x9e\\x85\\xeb\\xa0\\xa5\" maxlength=\"255\" class=\"input_text\" tabindex=\"1\" accesskey=\"s\" style=\"ime-mode:active;\" autocomplete=\"off\"  placeholder=\"\\xea\\xb2\\x80\\xec\\x83\\x89\\xec\\x96\\xb4\\xeb\\xa5\\xbc \\xec\\x9e\\x85\\xeb\\xa0\\xa5\\xed\\x95\\xb4 \\xec\\xa3\\xbc\\xec\\x84\\xb8\\xec\\x9a\\x94.\" onclick=\"document.getElementById(\\'fbm\\').value=1;\" value=\"\" data-atcmp-element>\\n</div>\\n<button id=\"search_btn\" type=\"submit\" title=\"\\xea\\xb2\\x80\\xec\\x83\\x89\" tabindex=\"3\" class=\"btn_submit\" onclick=\"window.nclick(this,\\'sch.action\\',\\'\\',\\'\\',event);\" style=\\'\\'>\\n<span class=\"blind\">\\xea\\xb2\\x80\\xec\\x83\\x89</span>\\n<span class=\"ico_search_submit\"></span>\\n</button>\\n</fieldset>\\n</form>\\n<!-- \\xed\\x95\\x9c\\xea\\xb8\\x80\\xec\\x9e\\x85\\xeb\\xa0\\xa5\\xea\\xb8\\xb0 -->\\n<a href=\"#\" id=\"ke_kbd_btn\" role=\"button\" class=\"btn_keyboard\" onclick=\"return false;\"><span class=\"blind\">\\xed\\x95\\x9c\\xea\\xb8\\x80 \\xec\\x9e\\x85\\xeb\\xa0\\xa5\\xea\\xb8\\xb0</span><span class=\"ico_keyboard\"></span></a>\\n<div id=\"_nx_kbd\" style=\"display:none;\"></div>\\n<div class=\"autocomplete\">\\n<!-- \\xec\\x9e\\x90\\xeb\\x8f\\x99\\xec\\x99\\x84\\xec\\x84\\xb1 \\xec\\x97\\xb4\\xeb\\xa6\\xb0 \\xea\\xb2\\xbd\\xec\\x9a\\xb0 fold \\xed\\x81\\xb4\\xeb\\x9e\\x98\\xec\\x8a\\xa4 \\xec\\xb6\\x94\\xea\\xb0\\x80, \\xeb\\x94\\xa4\\xeb\\x93\\x9c\\xec\\x9d\\xb8 \\xea\\xb2\\xbd\\xec\\x9a\\xb0 dim \\xec\\xb6\\x94\\xea\\xb0\\x80 -->\\n<a href=\"#\" role=\"button\" id=\"nautocomplete\" tabindex=\"2\" class=\"btn_arw _btn_arw fold\" aria-pressed=\"false\" data-atcmp-element><span class=\"blind\">\\xec\\x9e\\x90\\xeb\\x8f\\x99\\xec\\x99\\x84\\xec\\x84\\xb1 \\xeb\\xa0\\x88\\xec\\x9d\\xb4\\xec\\x96\\xb4</span><span class=\"ico_arr\"></span></a>\\n</div>\\n<!-- \\xec\\x9e\\x90\\xeb\\x8f\\x99\\xec\\x99\\x84\\xec\\x84\\xb1\\xeb\\xa0\\x88\\xec\\x9d\\xb4\\xec\\x96\\xb4 -->\\n<div id=\"autoFrame\" class=\"reatcmp\" style=\"display: none;\">\\n<!-- [AU] data-atcmp-element attribute\\xeb\\xa5\\xbc \\xec\\xb6\\x94\\xea\\xb0\\x80\\xed\\x95\\xb4\\xec\\xa3\\xbc\\xec\\x84\\xb8\\xec\\x9a\\x94. -->\\n<div class=\"ly_atcmp\" data-atcmp-element>\\n<div class=\"api_atcmp_wrap\">\\n<!-- \\xec\\xb5\\x9c\\xea\\xb7\\xbc\\xea\\xb2\\x80\\xec\\x83\\x89\\xec\\x96\\xb4 -->\\n<!-- [AU] _recent_layer \\xed\\x81\\xb4\\xeb\\x9e\\x98\\xec\\x8a\\xa4\\xeb\\xa5\\xbc \\xec\\xb6\\x94\\xea\\xb0\\x80\\xed\\x95\\xb4\\xec\\xa3\\xbc\\xec\\x84\\xb8\\xec\\x9a\\x94. -->\\n<div class=\"atcmp_fixer _recent_layer\" style=\"display:none;\">\\n<!-- [AU] _recent_header \\xed\\x81\\xb4\\xeb\\x9e\\x98\\xec\\x8a\\xa4\\xeb\\xa5\\xbc \\xec\\xb6\\x94\\xea\\xb0\\x80\\xed\\x95\\xb4\\xec\\xa3\\xbc\\xec\\x84\\xb8\\xec\\x9a\\x94. -->\\n<div class=\"atcmp_header _recent_header\">\\n<strong class=\"tit\">\\xec\\xb5\\x9c\\xea\\xb7\\xbc\\xea\\xb2\\x80\\xec\\x83\\x89\\xec\\x96\\xb4</strong>\\n<div class=\"option\">\\n<!-- [AU] _delAll \\xed\\x81\\xb4\\xeb\\x9e\\x98\\xec\\x8a\\xa4\\xeb\\xa5\\xbc \\xec\\xb6\\x94\\xea\\xb0\\x80\\xed\\x95\\xb4\\xec\\xa3\\xbc\\xec\\x84\\xb8\\xec\\x9a\\x94. -->\\n<a role=\"button\" href=\"#\" class=\"item _delAll\" aria-pressed=\"false\">\\xec\\xa0\\x84\\xec\\xb2\\xb4\\xec\\x82\\xad\\xec\\xa0\\x9c</a>\\n</div>\\n</div>\\n<div class=\"atcmp_container\">\\n<!-- [AU] _recent \\xed\\x81\\xb4\\xeb\\x9e\\x98\\xec\\x8a\\xa4\\xeb\\xa5\\xbc \\xec\\xb6\\x94\\xea\\xb0\\x80\\xed\\x95\\xb4\\xec\\xa3\\xbc\\xec\\x84\\xb8\\xec\\x9a\\x94. -->\\n<ul class=\"kwd_lst _recent\">\\n<!-- \\xec\\xb5\\x9c\\xea\\xb7\\xbc\\xea\\xb2\\x80\\xec\\x83\\x89\\xec\\x96\\xb4 \\xed\\x85\\x9c\\xed\\x94\\x8c\\xeb\\xa6\\xbf -->\\n<!-- [AU] _item \\xed\\x81\\xb4\\xeb\\x9e\\x98\\xec\\x8a\\xa4\\xeb\\xa5\\xbc \\xec\\xb6\\x94\\xea\\xb0\\x80\\xed\\x95\\xb4\\xec\\xa3\\xbc\\xec\\x84\\xb8\\xec\\x9a\\x94. -->\\n<!-- [AU] data-template-type=\"history\" data-keyword=\"@in_txt@\" attribute\\xeb\\xa5\\xbc \\xec\\xb6\\x94\\xea\\xb0\\x80\\xed\\x95\\xb4\\xec\\xa3\\xbc\\xec\\x84\\xb8\\xec\\x9a\\x94. -->\\n<li class=\"item _item\" data-rank=\"@rank@\" data-template-type=\"history\" data-keyword=\"@in_txt@\">\\n<a href=\"#\" class=\"kwd\">\\n<span class=\"fix\"><span class=\"common_ico_kwd\"><i class=\"imsc ico_search\"></i></span><span>@txt@</span></span>\\n</a>\\n<span class=\"etc\">\\n<em class=\"date\">@date@.</em>\\n<!-- [AU] _del \\xed\\x81\\xb4\\xeb\\x9e\\x98\\xec\\x8a\\xa4\\xeb\\xa5\\xbc \\xec\\xb6\\x94\\xea\\xb0\\x80\\xed\\x95\\xb4\\xec\\xa3\\xbc\\xec\\x84\\xb8\\xec\\x9a\\x94. -->\\n<a href=\"#\" role=\"button\" class=\"bt_item _del\" aria-pressed=\"false\"><i class=\"imsc ico_del\">\\xec\\x82\\xad\\xec\\xa0\\x9c</i></a>\\n</span>\\n</li>\\n</ul>\\n<!-- [D] \\xea\\xb2\\x80\\xec\\x83\\x89\\xec\\x96\\xb4 \\xec\\xa0\\x80\\xec\\x9e\\xa5 \\xea\\xba\\xbc\\xec\\xa7\\x84 \\xea\\xb2\\xbd\\xec\\x9a\\xb0 atcmp_fixer\\xec\\x97\\x90 type_off \\xec\\xb6\\x94\\xea\\xb0\\x80 -->\\n<!-- [AU] _offMsg \\xed\\x81\\xb4\\xeb\\x9e\\x98\\xec\\x8a\\xa4\\xeb\\xa5\\xbc \\xec\\xb6\\x94\\xea\\xb0\\x80\\xed\\x95\\xb4\\xec\\xa3\\xbc\\xec\\x84\\xb8\\xec\\x9a\\x94. -->\\n<div class=\"kwd_info kwd_off _offMsg\" style=\"display: none;\">\\xea\\xb2\\x80\\xec\\x83\\x89\\xec\\x96\\xb4 \\xec\\xa0\\x80\\xec\\x9e\\xa5 \\xea\\xb8\\xb0\\xeb\\x8a\\xa5\\xec\\x9d\\xb4 \\xea\\xba\\xbc\\xec\\xa0\\xb8 \\xec\\x9e\\x88\\xec\\x8a\\xb5\\xeb\\x8b\\x88\\xeb\\x8b\\xa4.<br><span class=\"kwd_dsc\">\\xec\\x84\\xa4\\xec\\xa0\\x95\\xec\\x9d\\xb4 \\xec\\xb4\\x88\\xea\\xb8\\xb0\\xed\\x99\\x94 \\xeb\\x90\\x9c\\xeb\\x8b\\xa4\\xeb\\xa9\\xb4 <a href=\"https://help.naver.com/support/alias/search/word/word_29.naver\" class=\"kwd_help\" data-clk=\"sly.help\" target=\"_blank\">\\xeb\\x8f\\x84\\xec\\x9b\\x80\\xeb\\xa7\\x90</a>\\xec\\x9d\\x84 \\xed\\x99\\x95\\xec\\x9d\\xb8\\xed\\x95\\xb4\\xec\\xa3\\xbc\\xec\\x84\\xb8\\xec\\x9a\\x94.</span></div>\\n<!-- [D] \\xea\\xb2\\x80\\xec\\x83\\x89\\xec\\x96\\xb4 \\xeb\\x82\\xb4\\xec\\x97\\xad \\xec\\x97\\x86\\xeb\\x8a\\x94 \\xea\\xb2\\xbd\\xec\\x9a\\xb0 atcmp_fixer\\xec\\x97\\x90 type_off \\xec\\xb6\\x94\\xea\\xb0\\x80 -->\\n<!-- [AU] _recentNone \\xed\\x81\\xb4\\xeb\\x9e\\x98\\xec\\x8a\\xa4\\xeb\\xa5\\xbc \\xec\\xb6\\x94\\xea\\xb0\\x80\\xed\\x95\\xb4\\xec\\xa3\\xbc\\xec\\x84\\xb8\\xec\\x9a\\x94. -->\\n<div class=\"kwd_info kwd_none _recentNone\" style=\"display: none;\">\\xec\\xb5\\x9c\\xea\\xb7\\xbc \\xea\\xb2\\x80\\xec\\x83\\x89\\xec\\x96\\xb4 \\xeb\\x82\\xb4\\xec\\x97\\xad\\xec\\x9d\\xb4 \\xec\\x97\\x86\\xec\\x8a\\xb5\\xeb\\x8b\\x88\\xeb\\x8b\\xa4.<br><span class=\"kwd_dsc\">\\xec\\x84\\xa4\\xec\\xa0\\x95\\xec\\x9d\\xb4 \\xec\\xb4\\x88\\xea\\xb8\\xb0\\xed\\x99\\x94 \\xeb\\x90\\x9c\\xeb\\x8b\\xa4\\xeb\\xa9\\xb4 <a href=\"https://help.naver.com/support/alias/search/word/word_29.naver\" class=\"kwd_help\" data-clk=\"sly.help\" target=\"_blank\">\\xeb\\x8f\\x84\\xec\\x9b\\x80\\xeb\\xa7\\x90</a>\\xec\\x9d\\x84 \\xed\\x99\\x95\\xec\\x9d\\xb8\\xed\\x95\\xb4\\xec\\xa3\\xbc\\xec\\x84\\xb8\\xec\\x9a\\x94.</span></div>\\n</div>\\n<div class=\"atcmp_footer\">\\n<span class=\"side_opt_area\">\\n<span class=\"opt_item\"><a href=\"https://help.naver.com/support/service/main.help?serviceNo=605&amp;categoryNo=1991\" data-clk=\"sly.help\" target=\"_blank\">\\xeb\\x8f\\x84\\xec\\x9b\\x80\\xeb\\xa7\\x90</a></span>\\n</span>\\n<span class=\"rside_opt_area\">\\n<span class=\"opt_item\">\\n<!-- [AU] _keywordOnOff \\xed\\x81\\xb4\\xeb\\x9e\\x98\\xec\\x8a\\xa4\\xeb\\xa5\\xbc \\xec\\xb6\\x94\\xea\\xb0\\x80\\xed\\x95\\xb4\\xec\\xa3\\xbc\\xec\\x84\\xb8\\xec\\x9a\\x94. -->\\n<a href=\"#\" class=\"close _keywordOnOff\">\\xec\\x9e\\x90\\xeb\\x8f\\x99\\xec\\xa0\\x80\\xec\\x9e\\xa5 \\xeb\\x81\\x84\\xea\\xb8\\xb0</a>\\n</span>\\n</span>\\n</div>\\n</div>\\n<!-- \\xec\\x9e\\x90\\xeb\\x8f\\x99\\xec\\x99\\x84\\xec\\x84\\xb1 -->\\n<!-- [AU] _atcmp_layer \\xed\\x81\\xb4\\xeb\\x9e\\x98\\xec\\x8a\\xa4\\xeb\\xa5\\xbc \\xec\\xb6\\x94\\xea\\xb0\\x80\\xed\\x95\\xb4\\xec\\xa3\\xbc\\xec\\x84\\xb8\\xec\\x9a\\x94. -->\\n<div class=\"atcmp_fixer _atcmp_layer\" style=\"display:none;\">\\n<!-- [AU] _words \\xed\\x81\\xb4\\xeb\\x9e\\x98\\xec\\x8a\\xa4\\xeb\\xa5\\xbc \\xec\\xb6\\x94\\xea\\xb0\\x80\\xed\\x95\\xb4\\xec\\xa3\\xbc\\xec\\x84\\xb8\\xec\\x9a\\x94. -->\\n<div class=\"atcmp_container _words\">\\n<!-- \\xec\\xa0\\x95\\xeb\\x8b\\xb5\\xed\\x98\\x95 \\xed\\x85\\x9c\\xed\\x94\\x8c\\xeb\\xa6\\xbf : \\xeb\\xa1\\x9c\\xeb\\x98\\x90\\xeb\\x8b\\xb9\\xec\\xb2\\xa8\\xeb\\xb2\\x88\\xed\\x98\\xb8 -->\\n<!-- [AU] _answer \\xed\\x81\\xb4\\xeb\\x9e\\x98\\xec\\x8a\\xa4\\xeb\\xa5\\xbc \\xec\\xb6\\x94\\xea\\xb0\\x80\\xed\\x95\\xb4\\xec\\xa3\\xbc\\xec\\x84\\xb8\\xec\\x9a\\x94. -->\\n<!-- [AU] data-template-type=\"answer_3\" data-code=\"@code@\" data-keyword=\"@1@\" attribute\\xeb\\xa5\\xbc \\xec\\xb6\\x94\\xea\\xb0\\x80\\xed\\x95\\xb4\\xec\\xa3\\xbc\\xec\\x84\\xb8\\xec\\x9a\\x94. -->\\n<div class=\"atcmp_correct type_lotto _answer\" data-template-type=\"answer_3\" data-code=\"@code@\" data-keyword=\"@1@\">\\n<a href=\"#\" class=\"link_item\">\\n<span class=\"common_ico_kwd\"><i class=\"imsc ico_search\"></i></span>\\n<div class=\"dsc_area\">\\n<span class=\"tit\">@5@\\xed\\x9a\\x8c\\xec\\xb0\\xa8 \\xeb\\x8b\\xb9\\xec\\xb2\\xa8\\xeb\\xb2\\x88\\xed\\x98\\xb8</span>\\n<span class=\"dsc\">\\n<span class=\"item\">\\xec\\xb6\\x94\\xec\\xb2\\xa8 @13@.</span><span class=\"item\">\\xec\\xa7\\x80\\xea\\xb8\\x89\\xea\\xb8\\xb0\\xed\\x95\\x9c 1\\xeb\\x85\\x84</span>\\n</span>\\n</div>\\n<span class=\"etc_area\">\\n<span class=\"etc lotto\">\\n<em class=\"n@6@\">@6@</em><em class=\"n@7@\">@7@</em><em class=\"n@8@\">@8@</em><em class=\"n@9@\">@9@</em><em class=\"n@10@\">@10@</em><em class=\"n@11@\">@11@</em><em class=\"imsc_bf bonus n@12@\">@12@</em>\\n</span>\\n</span>\\n</a>\\n</div>\\n<!-- \\xec\\xa0\\x95\\xeb\\x8b\\xb5\\xed\\x98\\x95 \\xed\\x85\\x9c\\xed\\x94\\x8c\\xeb\\xa6\\xbf : \\xed\\x99\\x98\\xec\\x9c\\xa8 -->\\n<!-- [AU] _answer \\xed\\x81\\xb4\\xeb\\x9e\\x98\\xec\\x8a\\xa4\\xeb\\xa5\\xbc \\xec\\xb6\\x94\\xea\\xb0\\x80\\xed\\x95\\xb4\\xec\\xa3\\xbc\\xec\\x84\\xb8\\xec\\x9a\\x94. -->\\n<!-- [AU] data-template-type=\"answer_9\" data-code=\"@code@\" data-keyword=\"@1@\" attribute\\xeb\\xa5\\xbc \\xec\\xb6\\x94\\xea\\xb0\\x80\\xed\\x95\\xb4\\xec\\xa3\\xbc\\xec\\x84\\xb8\\xec\\x9a\\x94. -->\\n<div class=\"atcmp_correct type_exchange _answer\" data-template-type=\"answer_9\" data-code=\"@code@\" data-keyword=\"@1@\">\\n<!-- [D] \\xec\\x83\\x81\\xec\\x8a\\xb9 up, \\xed\\x95\\x98\\xeb\\x9d\\xbd down \\xec\\xb6\\x94\\xea\\xb0\\x80 -->\\n<a href=\"#\" class=\"link_item @11@\">\\n<!-- [D] \\xea\\xb5\\xad\\xea\\xb0\\x80\\xeb\\xb3\\x84 class \\xea\\xb0\\x80\\xeb\\x82\\x98\\xeb\\x8b\\xa4\\xec\\x88\\x9c\\nZAR \\xeb\\x82\\xa8\\xec\\x95\\x84\\xed\\x94\\x84\\xeb\\xa6\\xac\\xec\\xb9\\xb4 \\xea\\xb3\\xb5\\xed\\x99\\x94\\xea\\xb5\\xad\\nNPR \\xeb\\x84\\xa4\\xed\\x8c\\x94\\nNOK \\xeb\\x85\\xb8\\xeb\\xa5\\xb4\\xec\\x9b\\xa8\\xec\\x9d\\xb4\\nNZD \\xeb\\x89\\xb4\\xec\\xa7\\x88\\xeb\\x9e\\x9c\\xeb\\x93\\x9c\\nTWD \\xeb\\x8c\\x80\\xeb\\xa7\\x8c\\nDKK \\xeb\\x8d\\xb4\\xeb\\xa7\\x88\\xed\\x81\\xac\\nRUB \\xeb\\x9f\\xac\\xec\\x8b\\x9c\\xec\\x95\\x84\\nMOP \\xeb\\xa7\\x88\\xec\\xb9\\xb4\\xec\\x98\\xa4\\nMYR \\xeb\\xa7\\x90\\xeb\\xa0\\x88\\xec\\x9d\\xb4\\xec\\x8b\\x9c\\xec\\x95\\x84\\nMXN \\xeb\\xa9\\x95\\xec\\x8b\\x9c\\xec\\xbd\\x94\\nMNT \\xeb\\xaa\\xbd\\xea\\xb3\\xa8\\nUSD \\xeb\\xaf\\xb8\\xea\\xb5\\xad\\nBHD \\xeb\\xb0\\x94\\xeb\\xa0\\x88\\xec\\x9d\\xb8\\nBDT \\xeb\\xb0\\xa9\\xea\\xb8\\x80\\xeb\\x9d\\xbc\\xeb\\x8d\\xb0\\xec\\x8b\\x9c\\nVND \\xeb\\xb2\\xa0\\xed\\x8a\\xb8\\xeb\\x82\\xa8\\nBRL \\xeb\\xb8\\x8c\\xeb\\x9d\\xbc\\xec\\xa7\\x88\\nSAR \\xec\\x82\\xac\\xec\\x9a\\xb0\\xeb\\x94\\x94\\xec\\x95\\x84\\xeb\\x9d\\xbc\\xeb\\xb9\\x84\\xec\\x95\\x84\\nSEK \\xec\\x8a\\xa4\\xec\\x9b\\xa8\\xeb\\x8d\\xb4\\nCHF \\xec\\x8a\\xa4\\xec\\x9c\\x84\\xec\\x8a\\xa4\\nSGD \\xec\\x8b\\xb1\\xea\\xb0\\x80\\xed\\x8f\\xac\\xeb\\xa5\\xb4\\nAED \\xec\\x95\\x84\\xeb\\x9e\\x8d\\xec\\x97\\x90\\xeb\\xaf\\xb8\\xeb\\xa6\\xac\\xed\\x8a\\xb8\\nGBP \\xec\\x98\\x81\\xea\\xb5\\xad\\nEUR \\xec\\x9c\\xa0\\xeb\\x9f\\xbd\\xec\\x97\\xb0\\xed\\x95\\xa9\\nILS \\xec\\x9d\\xb4\\xec\\x8a\\xa4\\xeb\\x9d\\xbc\\xec\\x97\\x98\\nEGP \\xec\\x9d\\xb4\\xec\\xa7\\x91\\xed\\x8a\\xb8\\nINR \\xec\\x9d\\xb8\\xeb\\x8f\\x84\\nIDR \\xec\\x9d\\xb8\\xeb\\x8f\\x84\\xeb\\x84\\xa4\\xec\\x8b\\x9c\\xec\\x95\\x84\\nJPY \\xec\\x9d\\xbc\\xeb\\xb3\\xb8\\nCNY \\xec\\xa4\\x91\\xea\\xb5\\xad\\nCZK \\xec\\xb2\\xb4\\xec\\xbd\\x94\\nCLP \\xec\\xb9\\xa0\\xeb\\xa0\\x88\\nKZT \\xec\\xb9\\xb4\\xec\\x9e\\x90\\xed\\x9d\\x90\\xec\\x8a\\xa4\\xed\\x83\\x84\\nQAR \\xec\\xb9\\xb4\\xed\\x83\\x80\\xeb\\xa5\\xb4\\nCAD \\xec\\xba\\x90\\xeb\\x82\\x98\\xeb\\x8b\\xa4\\nKWD \\xec\\xbf\\xa0\\xec\\x9b\\xa8\\xec\\x9d\\xb4\\xed\\x8a\\xb8\\nTHB \\xed\\x83\\x9c\\xea\\xb5\\xad\\nTRY \\xed\\x84\\xb0\\xed\\x82\\xa4\\nPKR \\xed\\x8c\\x8c\\xed\\x82\\xa4\\xec\\x8a\\xa4\\xed\\x83\\x84\\nPLN \\xed\\x8f\\xb4\\xeb\\x9e\\x80\\xeb\\x93\\x9c\\nPHP \\xed\\x95\\x84\\xeb\\xa6\\xac\\xed\\x95\\x80\\nHUF \\xed\\x97\\x9d\\xea\\xb0\\x80\\xeb\\xa6\\xac\\nAUD \\xed\\x98\\xb8\\xec\\xa3\\xbc\\nHKD \\xed\\x99\\x8d\\xec\\xbd\\xa9\\n-->\\n<span class=\"common_ico_kwd\"><i class=\"imsc ico @12@\">@14@</i></span>\\n<div class=\"dsc_area\">\\n<span class=\"tit\">@txt@<span class=\"sub\">@currency@</span></span>\\n<span class=\"dsc\">\\n<span class=\"item\"><i class=\"imsc ico_arr\"></i>@8@(@9@%)</span>\\n</span>\\n</div>\\n<span class=\"etc_area\">\\n<span class=\"etc\"><em class=\"num\">@6@</em>\\xec\\x9b\\x90</span>\\n</span>\\n</a>\\n</div>\\n<!-- \\xec\\xa0\\x95\\xeb\\x8b\\xb5\\xed\\x98\\x95 \\xed\\x85\\x9c\\xed\\x94\\x8c\\xeb\\xa6\\xbf : \\xeb\\x82\\xa0\\xec\\x94\\xa8(\\xea\\xb5\\xad\\xeb\\x82\\xb411, \\xed\\x95\\xb4\\xec\\x99\\xb812) -->\\n<!-- [AU] _answer \\xed\\x81\\xb4\\xeb\\x9e\\x98\\xec\\x8a\\xa4\\xeb\\xa5\\xbc \\xec\\xb6\\x94\\xea\\xb0\\x80\\xed\\x95\\xb4\\xec\\xa3\\xbc\\xec\\x84\\xb8\\xec\\x9a\\x94. -->\\n<!-- [AU] data-template-type=\"answer_11\" data-code=\"@code@\" data-keyword=\"@1@\" attribute\\xeb\\xa5\\xbc \\xec\\xb6\\x94\\xea\\xb0\\x80\\xed\\x95\\xb4\\xec\\xa3\\xbc\\xec\\x84\\xb8\\xec\\x9a\\x94. -->\\n<div class=\"atcmp_correct type_weather _answer\" data-template-type=\"answer_11\" data-code=\"@code@\" data-keyword=\"@1@\">\\n<!-- [D] \\xec\\x83\\x81\\xec\\x8a\\xb9 up, \\xed\\x95\\x98\\xeb\\x9d\\xbd down \\xec\\xb6\\x94\\xea\\xb0\\x80 -->\\n<a href=\"#\" class=\"link_item @12@\">\\n<span class=\"common_ico_kwd\"><i class=\"imsc ico_search\"></i></span>\\n<div class=\"dsc_area\">\\n<span class=\"tit\">@txt@</span>\\n<span class=\"dsc\">\\n<span class=\"item\">@7@, @message@</span>\\n</span>\\n</div>\\n<span class=\"etc_area\">\\n<span class=\"etc\">\\n<!-- [D] \\xeb\\x82\\xa0\\xec\\x94\\xa8\\xeb\\xb3\\x84 class\\nico1 \\xeb\\xa7\\x91\\xec\\x9d\\x8c(\\xeb\\x82\\xae)\\nico2 \\xeb\\xa7\\x91\\xec\\x9d\\x8c(\\xeb\\xb0\\xa4)\\nico3 \\xea\\xb5\\xac\\xeb\\xa6\\x84\\xec\\xa1\\xb0\\xea\\xb8\\x88(\\xeb\\x82\\xae)\\nico4 \\xea\\xb5\\xac\\xeb\\xa6\\x84\\xec\\xa1\\xb0\\xea\\xb8\\x88(\\xeb\\xb0\\xa4)\\nico5 \\xea\\xb5\\xac\\xeb\\xa6\\x84\\xeb\\xa7\\x8e\\xec\\x9d\\x8c(\\xeb\\x82\\xae)\\nico6 \\xea\\xb5\\xac\\xeb\\xa6\\x84\\xeb\\xa7\\x8e\\xec\\x9d\\x8c(\\xeb\\xb0\\xa4)\\nico7 \\xed\\x9d\\x90\\xeb\\xa6\\xbc\\nico8 \\xec\\x95\\xbd\\xed\\x95\\x9c\\xeb\\xb9\\x84\\nico9 \\xeb\\xb9\\x84\\nico10 \\xea\\xb0\\x95\\xed\\x95\\x9c\\xeb\\xb9\\x84\\nico11 \\xec\\x95\\xbd\\xed\\x95\\x9c\\xeb\\x88\\x88\\nico12 \\xeb\\x88\\x88\\nico13 \\xea\\xb0\\x95\\xed\\x95\\x9c\\xeb\\x88\\x88\\nico14 \\xec\\xa7\\x84\\xeb\\x88\\x88\\xea\\xb9\\xa8\\xeb\\xb9\\x84\\nico15 \\xec\\x86\\x8c\\xeb\\x82\\x98\\xea\\xb8\\xb0\\nico16 \\xec\\x95\\x88\\xea\\xb0\\x9c\\nico17 \\xec\\x86\\x8c\\xeb\\x82\\x99\\xeb\\x88\\x88\\nico18 \\xeb\\xb2\\x88\\xea\\xb0\\x9c\\xeb\\x87\\x8c\\xec\\x9a\\xb0\\nico19 \\xec\\x9a\\xb0\\xeb\\xb0\\x95\\nico20 \\xed\\x99\\xa9\\xec\\x82\\xac\\nico21 \\xeb\\xb9\\x84\\xeb\\x98\\x90\\xeb\\x8a\\x94\\xeb\\x88\\x88\\nico22 \\xea\\xb0\\x80\\xeb\\x81\\x94\\xeb\\xb9\\x84\\nico23 \\xea\\xb0\\x80\\xeb\\x81\\x94\\xeb\\x88\\x88\\nico24 \\xea\\xb0\\x80\\xeb\\x81\\x94\\xeb\\xb9\\x84\\xeb\\x98\\x90\\xeb\\x8a\\x94\\xeb\\x88\\x88\\nico25 \\xed\\x9d\\x90\\xeb\\xa6\\xb0\\xed\\x9b\\x84\\xea\\xb0\\xac\\nico26 \\xeb\\x87\\x8c\\xec\\x9a\\xb0\\xed\\x9b\\x84\\xea\\xb0\\xac\\nico27 \\xeb\\xb9\\x84\\xed\\x9b\\x84\\xea\\xb0\\xac\\nico28 \\xeb\\x88\\x88\\xed\\x9b\\x84\\xea\\xb0\\xac\\nico29 \\xed\\x9d\\x90\\xeb\\xa0\\xa4\\xec\\xa0\\xb8\\xeb\\xb9\\x84\\nico30 \\xed\\x9d\\x90\\xeb\\xa0\\xa4\\xec\\xa0\\xb8\\xeb\\x88\\x88\\n-->\\n<span class=\"ico_weather\"><i class=\"imsc ico ico@iconNo@\">@7@</i></span>\\n<em class=\"degree\">@8@<sup class=\"celsius\">\\xc2\\xb0</sup></em>\\n</span>\\n</span>\\n</a>\\n</div>\\n<!-- \\xec\\xa0\\x95\\xeb\\x8b\\xb5\\xed\\x98\\x95 \\xed\\x85\\x9c\\xed\\x94\\x8c\\xeb\\xa6\\xbf : \\xec\\x82\\xac\\xec\\x9d\\xb4\\xed\\x8a\\xb8 \\xeb\\xb0\\x94\\xeb\\xa1\\x9c\\xea\\xb0\\x80\\xea\\xb8\\xb0 -->\\n<!-- [AU] _answer \\xed\\x81\\xb4\\xeb\\x9e\\x98\\xec\\x8a\\xa4\\xeb\\xa5\\xbc \\xec\\xb6\\x94\\xea\\xb0\\x80\\xed\\x95\\xb4\\xec\\xa3\\xbc\\xec\\x84\\xb8\\xec\\x9a\\x94. -->\\n<!-- [AU] data-template-type=\"answer_17\" data-code=\"@code@\" data-keyword=\"@1@\" attribute\\xeb\\xa5\\xbc \\xec\\xb6\\x94\\xea\\xb0\\x80\\xed\\x95\\xb4\\xec\\xa3\\xbc\\xec\\x84\\xb8\\xec\\x9a\\x94. -->\\n<div class=\"atcmp_correct type_site _answer\" data-template-type=\"answer_17\" data-code=\"@code@\" data-keyword=\"@1@\">\\n<a href=\"@5@\" class=\"link_item\" target=\"_blank\">\\n<span class=\"common_ico_kwd\"><i class=\"imsc ico_url\"></i></span>\\n<div class=\"dsc_area\">\\n<span class=\"tit\">@txt@</span>\\n<span class=\"dsc\">\\n<span class=\"item\">@5@</span>\\n</span>\\n</div>\\n<span class=\"etc_area\">\\n<span class=\"etc\">\\xeb\\xb0\\x94\\xeb\\xa1\\x9c\\xea\\xb0\\x80\\xea\\xb8\\xb0</span>\\n</span>\\n</a>\\n</div>\\n<!-- [AU] _kwd_list \\xed\\x81\\xb4\\xeb\\x9e\\x98\\xec\\x8a\\xa4\\xeb\\xa5\\xbc \\xec\\xb6\\x94\\xea\\xb0\\x80\\xed\\x95\\xb4\\xec\\xa3\\xbc\\xec\\x84\\xb8\\xec\\x9a\\x94. -->\\n<ul class=\"kwd_lst _kwd_list\">\\n<!-- [AU] \\xec\\x9e\\x90\\xeb\\x8f\\x99\\xec\\x99\\x84\\xec\\x84\\xb1 \\xea\\xb2\\x80\\xec\\x83\\x89\\xec\\x96\\xb4 \\xed\\x85\\x9c\\xed\\x94\\x8c\\xeb\\xa6\\xbf -->\\n<!-- [AU] _item \\xed\\x81\\xb4\\xeb\\x9e\\x98\\xec\\x8a\\xa4\\xeb\\xa5\\xbc \\xec\\xb6\\x94\\xea\\xb0\\x80\\xed\\x95\\xb4\\xec\\xa3\\xbc\\xec\\x84\\xb8\\xec\\x9a\\x94. -->\\n<!-- [AU] data-rank=\"@rank@\" data-template-type=\"suggestion\" data-keyword=\"@in_txt@\" attribute\\xeb\\xa5\\xbc \\xec\\xb6\\x94\\xea\\xb0\\x80\\xed\\x95\\xb4\\xec\\xa3\\xbc\\xec\\x84\\xb8\\xec\\x9a\\x94. -->\\n<li class=\"item _item\" data-rank=\"@rank@\" data-template-type=\"suggestion\" data-keyword=\"@in_txt@\">\\n<a href=\"#\" class=\"kwd\">\\n<span class=\"fix\"><span class=\"common_ico_kwd\"><i class=\"imsc ico_search\"></i></span>@txt@</span>\\n</a>\\n<span class=\"etc\">\\n<a href=\"#\" role=\"button\" class=\"bt_item _add\" aria-pressed=\"false\"><i class=\"imsc ico_insert\">\\xec\\xb6\\x94\\xea\\xb0\\x80</i></a>\\n</span>\\n</li>\\n<!-- [AU] \\xec\\xb5\\x9c\\xea\\xb7\\xbc\\xea\\xb2\\x80\\xec\\x83\\x89\\xec\\x96\\xb4 \\xed\\x85\\x9c\\xed\\x94\\x8c\\xeb\\xa6\\xbf -->\\n<!-- [AU] _item \\xed\\x81\\xb4\\xeb\\x9e\\x98\\xec\\x8a\\xa4\\xeb\\xa5\\xbc \\xec\\xb6\\x94\\xea\\xb0\\x80\\xed\\x95\\xb4\\xec\\xa3\\xbc\\xec\\x84\\xb8\\xec\\x9a\\x94. -->\\n<!-- [AU] data-rank=\"@rank@\" data-template-type=\"history\" data-keyword=\"@in_txt@\" attribute\\xeb\\xa5\\xbc \\xec\\xb6\\x94\\xea\\xb0\\x80\\xed\\x95\\xb4\\xec\\xa3\\xbc\\xec\\x84\\xb8\\xec\\x9a\\x94. -->\\n<li class=\"item has_correct _item\" data-rank=\"@rank@\" data-template-type=\"history\" data-keyword=\"@in_txt@\">\\n<a href=\"#\" class=\"kwd\">\\n<span class=\"fix\"><span class=\"common_ico_kwd\"><i class=\"imsc ico_search\"></i></span>@txt@</span>\\n</a>\\n<span class=\"etc\">\\n<!-- \\xec\\xb5\\x9c\\xea\\xb7\\xbc\\xea\\xb2\\x80\\xec\\x83\\x89\\xec\\x96\\xb4 \\xec\\x9e\\x88\\xec\\x9c\\xbc\\xeb\\xa9\\xb4 \\xeb\\x82\\xa0\\xec\\xa7\\x9c \\xed\\x91\\x9c\\xec\\x8b\\x9c -->\\n<em class=\"date\">@date@.</em>\\n<a href=\"#\" role=\"button\" class=\"bt_item _add\" aria-pressed=\"false\"><i class=\"imsc ico_insert\">\\xec\\xb6\\x94\\xea\\xb0\\x80</i></a>\\n</span>\\n</li>\\n</ul>\\n<!-- [AU] \\xeb\\xac\\xb8\\xeb\\xa7\\xa5\\xea\\xb2\\x80\\xec\\x83\\x89 \\xed\\x85\\x9c\\xed\\x94\\x8c\\xeb\\xa6\\xbf -->\\n<!-- [AU] _item \\xed\\x81\\xb4\\xeb\\x9e\\x98\\xec\\x8a\\xa4\\xeb\\xa5\\xbc \\xec\\xb6\\x94\\xea\\xb0\\x80\\xed\\x95\\xb4\\xec\\xa3\\xbc\\xec\\x84\\xb8\\xec\\x9a\\x94. -->\\n<!-- [AU] data-rank=\"@rank@\" data-template-type=\"intend\" data-keyword=\"@transQuery@\" attribute\\xeb\\xa5\\xbc \\xec\\xb6\\x94\\xea\\xb0\\x80\\xed\\x95\\xb4\\xec\\xa3\\xbc\\xec\\x84\\xb8\\xec\\x9a\\x94. -->\\n<li class=\"item has_correct _item\" data-rank=\"@rank@\" data-intend-rank=\"@intendRank@\" data-template-type=\"intend\" data-keyword=\"@transQuery@\">\\n<a href=\"#\" class=\"kwd\">\\n<span class=\"fix\"><span class=\"common_ico_kwd\"><i class=\"imsc ico_search\"></i></span>@query@ <span class=\"context\">@intend@</span></span>\\n</a>\\n<span class=\"etc\">\\n<a href=\"#\" role=\"button\" class=\"bt_item _add\" aria-pressed=\"false\"><i class=\"imsc ico_insert\">\\xec\\xb6\\x94\\xea\\xb0\\x80</i></a>\\n</span>\\n</li>\\n<!-- [D] \\xec\\x84\\xa0\\xea\\xb1\\xb0\\xec\\x95\\x88\\xeb\\x82\\xb4\\xeb\\xac\\xb8\\xea\\xb5\\xac -->\\n<!-- [AU] _alert \\xed\\x81\\xb4\\xeb\\x9e\\x98\\xec\\x8a\\xa4\\xeb\\xa5\\xbc \\xec\\xb6\\x94\\xea\\xb0\\x80\\xed\\x95\\xb4\\xec\\xa3\\xbc\\xec\\x84\\xb8\\xec\\x9a\\x94. -->\\n<div class=\"atcmp_alert _alert\">\\n<div class=\"dsc_election\">\\n<p class=\"dsc\">\\n<i class=\"imsc ico_election\"></i><span class=\"_alert_passage\"></span>\\n</p>\\n<span class=\"dsc_inner\">\\n<!-- [AU] _alert_passage2 \\xed\\x81\\xb4\\xeb\\x9e\\x98\\xec\\x8a\\xa4\\xeb\\xa5\\xbc \\xec\\xb6\\x94\\xea\\xb0\\x80\\xed\\x95\\xb4\\xec\\xa3\\xbc\\xec\\x84\\xb8\\xec\\x9a\\x94. -->\\n<span class=\"_alert_passage2\"></span>\\n<!-- [AU] _alert_link \\xed\\x81\\xb4\\xeb\\x9e\\x98\\xec\\x8a\\xa4\\xeb\\xa5\\xbc \\xec\\xb6\\x94\\xea\\xb0\\x80\\xed\\x95\\xb4\\xec\\xa3\\xbc\\xec\\x84\\xb8\\xec\\x9a\\x94. -->\\n<a href=\"#\" class=\"link _alert_link\" target=\"_blank\">\\xec\\x9e\\x90\\xec\\x84\\xb8\\xed\\x9e\\x88\\xeb\\xb3\\xb4\\xea\\xb8\\xb0</a>\\n</span>\\n</div>\\n</div>\\n<!-- [AU] _plus \\xed\\x81\\xb4\\xeb\\x9e\\x98\\xec\\x8a\\xa4\\xeb\\xa5\\xbc \\xec\\xb6\\x94\\xea\\xb0\\x80\\xed\\x95\\xb4\\xec\\xa3\\xbc\\xec\\x84\\xb8\\xec\\x9a\\x94. -->\\n<div class=\"atcmp_plus _plus\">\\n<div class=\"dsc_plus\">\\n<a href=\"https://help.naver.com/support/alias/search/word/word_16.naver\" class=\"link_dsc\" data-clk=\"sug.cxhelp\" target=\"_blank\">\\xea\\xb4\\x80\\xec\\x8b\\xac\\xec\\x82\\xac\\xeb\\xa5\\xbc \\xeb\\xb0\\x98\\xec\\x98\\x81\\xed\\x95\\x9c \\xec\\xbb\\xa8\\xed\\x85\\x8d\\xec\\x8a\\xa4\\xed\\x8a\\xb8 \\xec\\x9e\\x90\\xeb\\x8f\\x99\\xec\\x99\\x84\\xec\\x84\\xb1<i class=\"imsc ico_help\">\\xeb\\x8f\\x84\\xec\\x9b\\x80\\xeb\\xa7\\x90</i></a>\\n</div>\\n<div class=\"switch\">\\n<!-- [D] \\xec\\x84\\xa0\\xed\\x83\\x9d\\xec\\x8b\\x9c aria-pressed=\"ture/false\" -->\\n<!-- [AU] _plus_btn \\xed\\x81\\xb4\\xeb\\x9e\\x98\\xec\\x8a\\xa4\\xeb\\xa5\\xbc \\xec\\xb6\\x94\\xea\\xb0\\x80\\xed\\x95\\xb4\\xec\\xa3\\xbc\\xec\\x84\\xb8\\xec\\x9a\\x94. -->\\n<a role=\"button\" href=\"#\" class=\"bt_switch active _plus_btn\" aria-pressed=\"false\"><i class=\"imsc ico_option\">\\xec\\xbb\\xa8\\xed\\x85\\x8d\\xec\\x8a\\xa4\\xed\\x8a\\xb8 \\xec\\x9e\\x90\\xeb\\x8f\\x99\\xec\\x99\\x84\\xec\\x84\\xb1</i></a>\\n</div>\\n<!-- [AU] _plus_layer \\xed\\x81\\xb4\\xeb\\x9e\\x98\\xec\\x8a\\xa4\\xeb\\xa5\\xbc \\xec\\xb6\\x94\\xea\\xb0\\x80\\xed\\x95\\xb4\\xec\\xa3\\xbc\\xec\\x84\\xb8\\xec\\x9a\\x94. -->\\n<div class=\"layer_plus _plus_layer\">\\n<strong class=\"tit\">\\xec\\xbb\\xa8\\xed\\x85\\x8d\\xec\\x8a\\xa4\\xed\\x8a\\xb8 \\xec\\x9e\\x90\\xeb\\x8f\\x99\\xec\\x99\\x84\\xec\\x84\\xb1</strong>\\n<!-- [AU] _plus_layer_isloggedin \\xed\\x81\\xb4\\xeb\\x9e\\x98\\xec\\x8a\\xa4\\xeb\\xa5\\xbc \\xec\\xb6\\x94\\xea\\xb0\\x80\\xed\\x95\\xb4\\xec\\xa3\\xbc\\xec\\x84\\xb8\\xec\\x9a\\x94. -->\\n<!-- [AU] style=\"display:none\" \\xec\\xb6\\x94\\xea\\xb0\\x80\\xed\\x95\\xb4\\xec\\xa3\\xbc\\xec\\x84\\xb8\\xec\\x9a\\x94. -->\\n<div class=\"_plus_layer_isloggedin\" style=\"display:none\">\\n<p class=\"dsc\">ON/OFF \\xec\\x84\\xa4\\xec\\xa0\\x95\\xec\\x9d\\x80<br>\\xed\\x95\\xb4\\xeb\\x8b\\xb9\\xea\\xb8\\xb0\\xea\\xb8\\xb0(\\xeb\\xb8\\x8c\\xeb\\x9d\\xbc\\xec\\x9a\\xb0\\xec\\xa0\\x80)\\xec\\x97\\x90 \\xec\\xa0\\x80\\xec\\x9e\\xa5\\xeb\\x90\\xa9\\xeb\\x8b\\x88\\xeb\\x8b\\xa4.</p>\\n<div class=\"btn_area\">\\n<a href=\"https://help.naver.com/support/alias/search/word/word_16.naver\" class=\"btn btn_view\" data-clk=\"sug.cxlink\" target=\"_blank\">\\xec\\x9e\\x90\\xec\\x84\\xb8\\xed\\x9e\\x88</a>\\n</div>\\n</div>\\n<!-- [AU] _plus_layer_isnotloggedin \\xed\\x81\\xb4\\xeb\\x9e\\x98\\xec\\x8a\\xa4\\xeb\\xa5\\xbc \\xec\\xb6\\x94\\xea\\xb0\\x80\\xed\\x95\\xb4\\xec\\xa3\\xbc\\xec\\x84\\xb8\\xec\\x9a\\x94. -->\\n<!-- [AU] style=\"display:none\" \\xec\\xb6\\x94\\xea\\xb0\\x80\\xed\\x95\\xb4\\xec\\xa3\\xbc\\xec\\x84\\xb8\\xec\\x9a\\x94. -->\\n<div class=\"_plus_layer_isnotloggedin\" style=\"display:none\">\\n<p class=\"dsc\"><em class=\"txt\">\\xeb\\x8f\\x99\\xec\\x9d\\xbc\\xed\\x95\\x9c \\xec\\x8b\\x9c\\xea\\xb0\\x84\\xeb\\x8c\\x80/\\xec\\x97\\xb0\\xeb\\xa0\\xb9/\\xeb\\x82\\xa8\\xeb\\x85\\x80\\xeb\\xb3\\x84</em> \\xec\\x82\\xac\\xec\\x9a\\xa9\\xec\\x9e\\x90 \\xea\\xb7\\xb8\\xeb\\xa3\\xb9\\xec\\x9d\\x98<br>\\xea\\xb4\\x80\\xec\\x8b\\xac\\xec\\x82\\xac\\xec\\x97\\x90 \\xeb\\xa7\\x9e\\xec\\xb6\\xb0 \\xec\\x9e\\x90\\xeb\\x8f\\x99\\xec\\x99\\x84\\xec\\x84\\xb1\\xec\\x9d\\x84 \\xec\\xa0\\x9c\\xea\\xb3\\xb5\\xed\\x95\\xa9\\xeb\\x8b\\x88\\xeb\\x8b\\xa4.</p>\\n<div class=\"btn_area\">\\n<a href=\"https://nid.naver.com/nidlogin.login\" class=\"btn btn_login\" data-clk=\"sug.cxlogin\">\\xeb\\xa1\\x9c\\xea\\xb7\\xb8\\xec\\x9d\\xb8</a>\\n<a href=\"https://help.naver.com/support/alias/search/word/word_16.naver\" class=\"btn btn_view\" data-clk=\"sug.cxlink\" target=\"_blank\">\\xec\\x9e\\x90\\xec\\x84\\xb8\\xed\\x9e\\x88</a>\\n</div>\\n</div>\\n<!-- [AU] _plus_layer_close \\xed\\x81\\xb4\\xeb\\x9e\\x98\\xec\\x8a\\xa4\\xeb\\xa5\\xbc \\xec\\xb6\\x94\\xea\\xb0\\x80\\xed\\x95\\xb4\\xec\\xa3\\xbc\\xec\\x84\\xb8\\xec\\x9a\\x94. -->\\n<a href=\"#\" role=\"button\" class=\"btn_close _plus_layer_close\"><i class=\"imsc ico_close\">\\xec\\xbb\\xa8\\xed\\x85\\x8d\\xec\\x8a\\xa4\\xed\\x8a\\xb8 \\xec\\x9e\\x90\\xeb\\x8f\\x99\\xec\\x99\\x84\\xec\\x84\\xb1 \\xeb\\xa0\\x88\\xec\\x9d\\xb4\\xec\\x96\\xb4 \\xeb\\x8b\\xab\\xea\\xb8\\xb0</i></a>\\n</div>\\n</div>\\n</div>\\n<div class=\"atcmp_footer\">\\n<span class=\"side_opt_area\">\\n<span class=\"opt_item\"><a href=\"https://help.naver.com/support/service/main.help?serviceNo=605&categoryNo=1987\" data-clk=\"sug.help\" target=\"_blank\">\\xeb\\x8f\\x84\\xec\\x9b\\x80\\xeb\\xa7\\x90</a></span>\\n<span class=\"opt_item\"><a href=\"https://help.naver.com/support/contents/contents.help?serviceNo=605&categoryNo=18215\" class=\"report\" data-clk=\"sug.report\" target=\"_blank\">\\xec\\x8b\\xa0\\xea\\xb3\\xa0</a></span>\\n</span>\\n<span class=\"rside_opt_area\">\\n<span class=\"opt_item\">\\n<!-- [AU] _suggestOnOff \\xed\\x81\\xb4\\xeb\\x9e\\x98\\xec\\x8a\\xa4\\xeb\\xa5\\xbc \\xec\\xb6\\x94\\xea\\xb0\\x80\\xed\\x95\\xb4\\xec\\xa3\\xbc\\xec\\x84\\xb8\\xec\\x9a\\x94. -->\\n<a href=\"#\" class=\"close _suggestOnOff\">\\xec\\x9e\\x90\\xeb\\x8f\\x99\\xec\\x99\\x84\\xec\\x84\\xb1 \\xeb\\x81\\x84\\xea\\xb8\\xb0</a>\\n</span>\\n</span>\\n</div>\\n</div>\\n</div>\\n</div>\\n</div>\\n</div>\\n\\n</div>\\n</div>\\n\\n<!--EMPTY-->\\n<div id=\"gnb\">\\n<div id=\"NM_FAVORITE\" class=\"gnb_inner\">\\n<div class=\"group_nav\">\\n<ul class=\"list_nav type_fix\">\\n<li class=\"nav_item\">\\n<a href=\"https://mail.naver.com/\" class=\"nav\" data-clk=\"svc.mail\"><i class=\"ico_mail\"></i>\\xeb\\xa9\\x94\\xec\\x9d\\xbc</a>\\n</li>\\n<li class=\"nav_item\"><a href=\"https://section.cafe.naver.com/\" class=\"nav\" data-clk=\"svc.cafe\">\\xec\\xb9\\xb4\\xed\\x8e\\x98</a></li>\\n<li class=\"nav_item\"><a href=\"https://section.blog.naver.com/\" class=\"nav\" data-clk=\"svc.blog\">\\xeb\\xb8\\x94\\xeb\\xa1\\x9c\\xea\\xb7\\xb8</a></li>\\n<li class=\"nav_item\"><a href=\"https://kin.naver.com/\" class=\"nav\" data-clk=\"svc.kin\">\\xec\\xa7\\x80\\xec\\x8b\\x9diN</a></li>\\n<li class=\"nav_item\"><a href=\"https://shopping.naver.com/\" class=\"nav shop\" data-clk=\"svc.shopping\"><span class=\"blind\">\\xec\\x87\\xbc\\xed\\x95\\x91</span></a></li>\\n<li class=\"nav_item\"><a href=\"https://shoppinglive.naver.com/home\" class=\"nav shoplive\"\\ndata-clk=\"svc.shoppinglive\"><span class=\"blind\">\\xec\\x87\\xbc\\xed\\x95\\x91LIVE</span></a></li>\\n<li class=\"nav_item\"><a href=\"https://order.pay.naver.com/home\" class=\"nav\" data-clk=\"svc.pay\">Pay</a></li>\\n<li class=\"nav_item\">\\n<a href=\"https://tv.naver.com/\" class=\"nav\" data-clk=\"svc.tvcast\"><i class=\"ico_tv\"></i>TV</a>\\n</li>\\n</ul>\\n<ul\\nclass=\"list_nav NM_FAVORITE_LIST\"\\n>\\n<li class=\"nav_item\"><a href=\"https://dict.naver.com/\" class=\"nav\" data-clk=\"svc.dic\">\\xec\\x82\\xac\\xec\\xa0\\x84</a></li>\\n<li class=\"nav_item\"><a href=\"https://news.naver.com/\" class=\"nav\" data-clk=\"svc.news\">\\xeb\\x89\\xb4\\xec\\x8a\\xa4</a></li>\\n<li class=\"nav_item\"><a href=\"https://finance.naver.com/\" class=\"nav\" data-clk=\"svc.stock\">\\xec\\xa6\\x9d\\xea\\xb6\\x8c</a></li>\\n<li class=\"nav_item\"><a href=\"https://land.naver.com/\" class=\"nav\" data-clk=\"svc.land\">\\xeb\\xb6\\x80\\xeb\\x8f\\x99\\xec\\x82\\xb0</a></li>\\n<li class=\"nav_item\"><a href=\"https://map.naver.com/\" class=\"nav\" data-clk=\"svc.map\">\\xec\\xa7\\x80\\xeb\\x8f\\x84</a></li>\\n<li class=\"nav_item\"><a href=\"https://vibe.naver.com/\" class=\"nav\" data-clk=\"svc.vibe\">VIBE</a></li>\\n<li class=\"nav_item\"><a href=\"https://book.naver.com/\" class=\"nav\" data-clk=\"svc.book\">\\xec\\xb1\\x85</a></li>\\n<li class=\"nav_item\"><a href=\"https://comic.naver.com/\" class=\"nav\" data-clk=\"svc.webtoon\">\\xec\\x9b\\xb9\\xed\\x88\\xb0</a></li>\\n\\n</ul>\\n<ul class=\"list_nav type_empty\" style=\"display: none;\"></ul>\\n<a href=\"#\" role=\"button\" class=\"btn_more\" data-clk=\"svc.more\">\\xeb\\x8d\\x94\\xeb\\xb3\\xb4\\xea\\xb8\\xb0</a>\\n<div class=\"ly_btn_area\">\\n<a href=\"more.html\" class=\"btn NM_FAVORITE_ALL\" data-clk=\"map.svcmore\">\\xec\\x84\\x9c\\xeb\\xb9\\x84\\xec\\x8a\\xa4 \\xec\\xa0\\x84\\xec\\xb2\\xb4\\xeb\\xb3\\xb4\\xea\\xb8\\xb0</a>\\n<a href=\"#\" role=\"button\" class=\"btn btn_set\" data-clk=\"map.edit\">\\xeb\\xa9\\x94\\xeb\\x89\\xb4\\xec\\x84\\xa4\\xec\\xa0\\x95</a>\\n<a href=\"#\" role=\"button\" class=\"btn btn_reset\" data-clk=\"edt.reset\">\\xec\\xb4\\x88\\xea\\xb8\\xb0\\xed\\x99\\x94</a>\\n<a href=\"#\" role=\"button\" class=\"btn btn_save\" data-clk=\"edt.save\">\\xec\\xa0\\x80\\xec\\x9e\\xa5</a>\\n</div>\\n</div>\\n<div id=\"NM_WEATHER\" class=\"group_weather\">\\n<div>\\n<a data-clk=\"squ.weat\" href=\"https://weather.naver.com/today/WDJPN00047\" class=\"weather_area ico_w01\">\\n<div class=\"current_box\">\\n<strong class=\"current\" aria-label=\"\\xed\\x98\\x84\\xec\\x9e\\xac\\xea\\xb8\\xb0\\xec\\x98\\xa8\">2.0\\xc2\\xb0</strong><strong class=\"state\">\\xeb\\xa7\\x91\\xec\\x9d\\x8c(\\xeb\\x82\\xae)</strong>\\n</div>\\n<div class=\"degree_box\">\\n<span class=\"min\" aria-label=\"\\xec\\xb5\\x9c\\xec\\xa0\\x80\\xea\\xb8\\xb0\\xec\\x98\\xa8\">7.0\\xc2\\xb0</span><span class=\"max\" aria-label=\"\\xec\\xb5\\x9c\\xea\\xb3\\xa0\\xea\\xb8\\xb0\\xec\\x98\\xa8\">7.0\\xc2\\xb0</span>\\n</div>\\n<span class=\"location\">\\xeb\\x8f\\x84\\xec\\xbf\\x84</span>\\n</a>\\n</div>\\n</div>\\n</div>\\n<div class=\"ly_service\">\\n<div class=\"group_service NM_FAVORITE_ALL_LY\"></div>\\n<div class=\"group_service NM_FAVORITE_EDIT_LY\" style=\"display: none;\"></div>\\n</div>\\n</div>\\n</div>\\n <div id=\"container\" role=\"main\"> <div style=\"position:relative;width:1130px;margin:0 auto;z-index:11\"> <div id=\"da_top\"></div> <div id=\"da_expwide\"></div> </div> <div id=\"NM_INT_LEFT\" class=\"column_left\"> <div id=\"veta_top\"> <div id=\"veta_top_inner\" style=\"height:135px\"> </div> <span class=\"veta_bd_t\"></span> <span class=\"veta_bd_b\"></span> <span class=\"veta_bd_l\"></span> <span class=\"veta_bd_r\"></span> </div> <div id=\"newsstand\" class=\"sc_newscast\"> <h2 class=\"blind\">\\xeb\\x89\\xb4\\xec\\x8a\\xa4\\xec\\x8a\\xa4\\xed\\x83\\xa0\\xeb\\x93\\x9c</h2> <div id=\"NM_NEWSSTAND_HEADER\" class=\"group_issue\" data-clk-prefix=\"ncy\"> <div class=\"issue_area\"> <a class=\"link_media\" href=\"https://news.naver.com/main/list.naver?mode=LPOD&mid=sec&sid1=001&sid2=140&oid=001&isYeonhapFlash=Y\" data-clk=\"newsflash\">\\xec\\x97\\xb0\\xed\\x95\\xa9\\xeb\\x89\\xb4\\xec\\x8a\\xa4</a> <div id=\"NM_ONELINE_ROLLING\" class=\"list_issue\" data-nm-ui=\"rolling\"> <div><a href=\"https://news.naver.com/main/list.naver?mode=LPOD&mid=sec&sid1=001&sid2=140&oid=001&isYeonhapFlash=Y&aid=0012904775\" class=\"issue\" data-clk=\"quickarticle\">\\xec\\x9c\\xa0\\xed\\x9a\\xa8\\xed\\x95\\x9c \\xec\\x88\\x98\\xeb\\x8b\\xa8 vs \\xea\\xb8\\xb0\\xeb\\xb3\\xb8\\xea\\xb6\\x8c \\xec\\xb9\\xa8\\xed\\x95\\xb4\\xe2\\x80\\xa6\\xeb\\xb0\\xa9\\xec\\x97\\xad\\xed\\x8c\\xa8\\xec\\x8a\\xa4 \\xec\\x9a\\xb4\\xeb\\xaa\\x85 \\xec\\x9d\\xb4\\xeb\\xa5\\xb4\\xeb\\xa9\\xb4 \\xeb\\x8b\\xa4\\xec\\x9d\\x8c\\xec\\xa3\\xbc \\xea\\xb2\\xb0\\xeb\\xa1\\xa0</a></div>\\n<div><a href=\"https://news.naver.com/main/list.naver?mode=LPOD&mid=sec&sid1=001&sid2=140&oid=001&isYeonhapFlash=Y&aid=0012904785\" class=\"issue\" data-clk=\"quickarticle\">\"\\xec\\x9d\\xb4\\xec\\x9e\\xac\\xeb\\xaa\\x85 36% \\xec\\x9c\\xa4\\xec\\x84\\x9d\\xec\\x97\\xb4 26%\\xe2\\x80\\xa6\\xe5\\xae\\x89, 15% \\xec\\xb0\\x8d\\xea\\xb3\\xa0 \\xed\\x98\\xb8\\xea\\xb0\\x90\\xeb\\x8f\\x84 1\\xec\\x9c\\x84\"</a></div>\\n<div><a href=\"https://news.naver.com/main/list.naver?mode=LPOD&mid=sec&sid1=001&sid2=140&oid=001&isYeonhapFlash=Y&aid=0012904911\" class=\"issue\" data-clk=\"quickarticle\">\\xec\\x9d\\xb4\\xec\\x9e\\xac\\xeb\\xaa\\x85 \"\\xec\\x95\\x84\\xeb\\xb9\\xa0 \\xec\\x9c\\xa1\\xec\\x95\\x84\\xed\\x9c\\xb4\\xec\\xa7\\x81\\xeb\\x8f\\x84 \\xeb\\x8a\\x98\\xeb\\xa0\\xa4\\xec\\x95\\xbc\\xe2\\x80\\xa6\\xeb\\xb6\\x80\\xeb\\xaa\\xa8\\xea\\xb0\\x80 \\xea\\xb3\\xb5\\xed\\x8f\\x89\\xed\\x95\\x98\\xea\\xb2\\x8c \\xec\\xb1\\x85\\xec\\x9e\\x84\"</a></div>\\n<div><a href=\"https://news.naver.com/main/list.naver?mode=LPOD&mid=sec&sid1=001&sid2=140&oid=001&isYeonhapFlash=Y&aid=0012904918\" class=\"issue\" data-clk=\"quickarticle\">\\xec\\x9c\\xa4\\xec\\x84\\x9d\\xec\\x97\\xb4 \"\\xec\\x97\\xac\\xec\\x84\\xb1\\xea\\xb0\\x80\\xec\\xa1\\xb1\\xeb\\xb6\\x80 \\xed\\x8f\\x90\\xec\\xa7\\x80\" \\xeb\\x94\\xb1 \\xec\\x9d\\xbc\\xea\\xb3\\xb1\\xea\\xb8\\x80\\xec\\x9e\\x90 SNS\\xe2\\x80\\xa6\\'\\xec\\x9d\\xb4\\xeb\\x8c\\x80\\xeb\\x82\\xa8\\' \\xea\\xb3\\xb5\\xeb\\x9e\\xb5</a></div>\\n<div><a href=\"https://news.naver.com/main/list.naver?mode=LPOD&mid=sec&sid1=001&sid2=140&oid=001&isYeonhapFlash=Y&aid=0012904849\" class=\"issue\" data-clk=\"quickarticle\">\\xec\\x9d\\xb4\\xec\\xa4\\x80\\xec\\x84\\x9d \"\\xea\\xb9\\x80\\xec\\xa2\\x85\\xec\\x9d\\xb8 \\xeb\\xb3\\xb5\\xea\\xb7\\x80\\xea\\xb8\\xb0\\xed\\x9a\\x8c \\xeb\\xa7\\x8c\\xeb\\x93\\xa4\\xec\\x96\\xb4\\xeb\\xb3\\xb4\\xea\\xb2\\xa0\\xeb\\x8b\\xa4\\xe2\\x80\\xa6\\xe5\\xae\\x89\\xec\\xa7\\x80\\xec\\xa7\\x80\\xec\\x9c\\xa8, \\xec\\x9d\\xbc\\xec\\x8b\\x9c\\xec\\xa0\\x81 \\xec\\x83\\x81\\xec\\x8a\\xb9\"</a></div>\\n<div><a href=\"https://news.naver.com/main/list.naver?mode=LPOD&mid=sec&sid1=001&sid2=140&oid=001&isYeonhapFlash=Y&aid=0012904734\" class=\"issue\" data-clk=\"quickarticle\">\\xeb\\xb6\\x81 \\xeb\\xaf\\xb8\\xec\\x82\\xac\\xec\\x9d\\xbc \\'\\xea\\xb7\\xb9\\xec\\xb4\\x88\\xec\\x9d\\x8c\\xec\\x86\\x8d\\' \\xec\\x95\\x84\\xeb\\x8b\\x88\\xeb\\x9d\\xbc\\xeb\\x8a\\x94 \\xe8\\xbb\\x8d\\xe2\\x80\\xa6\"\\xeb\\xaa\\xa8\\xec\\x96\\x91\\xc2\\xb7\\xec\\x86\\x8d\\xeb\\x8f\\x84\\xea\\xb0\\x80 \\xea\\xb8\\xb0\\xeb\\x8f\\x99\\xed\\x98\\x95 \\xed\\x83\\x84\\xeb\\x8f\\x84\"</a></div>\\n<div><a href=\"https://news.naver.com/main/list.naver?mode=LPOD&mid=sec&sid1=001&sid2=140&oid=001&isYeonhapFlash=Y&aid=0012904921\" class=\"issue\" data-clk=\"quickarticle\">\\xea\\xb2\\xbd\\xec\\xb0\\xb0, \\xed\\x8f\\x89\\xed\\x83\\x9d \\xea\\xb3\\xb5\\xec\\x82\\xac\\xec\\x9e\\xa5 \\xed\\x99\\x94\\xec\\x9e\\xac \\xec\\x82\\xac\\xea\\xb3\\xa0 \\xea\\xb0\\x95\\xec\\xa0\\x9c\\xec\\x88\\x98\\xec\\x82\\xac\\xe2\\x80\\xa6\\xec\\x8b\\x9c\\xea\\xb3\\xb5\\xec\\x82\\xac \\xeb\\x93\\xb1 \\xec\\x95\\x95\\xec\\x88\\x98\\xec\\x88\\x98\\xec\\x83\\x89</a></div>\\n<div><a href=\"https://news.naver.com/main/list.naver?mode=LPOD&mid=sec&sid1=001&sid2=140&oid=001&isYeonhapFlash=Y&aid=0012904696\" class=\"issue\" data-clk=\"quickarticle\">\\xec\\xa0\\x95\\xec\\x9a\\xa9\\xec\\xa7\\x84 \"\\xea\\xb2\\x80\\xec\\xb0\\xb0\\xec\\x97\\x90 \\xed\\x86\\xb5\\xec\\x8b\\xa0\\xec\\xa1\\xb0\\xed\\x9a\\x8c \\xeb\\x8b\\xb9\\xed\\x96\\x88\\xeb\\x8b\\xa4\"\\xe2\\x80\\xa6SNS\\xec\\x97\\x90 \\xed\\x99\\x95\\xec\\x9d\\xb8\\xec\\x84\\x9c \\xec\\xa7\\x81\\xec\\xa0\\x91 \\xea\\xb3\\xb5\\xea\\xb0\\x9c</a></div>\\n<div><a href=\"https://news.naver.com/main/list.naver?mode=LPOD&mid=sec&sid1=001&sid2=140&oid=001&isYeonhapFlash=Y&aid=0012904784\" class=\"issue\" data-clk=\"quickarticle\">50\\xec\\x96\\xb5\\xec\\x94\\xa9 \\xeb\\x91\\x90\\xeb\\xb2\\x88 \\xeb\\xba\\x90\\xeb\\x8b\\xa4\\xea\\xb0\\x80 \\xec\\x9b\\x90\\xec\\x83\\x81\\xeb\\xb3\\xb5\\xea\\xb5\\xac\\xe2\\x80\\xa6\\xec\\x98\\xa4\\xec\\x8a\\xa4\\xed\\x85\\x9c \\xed\\x9a\\xa1\\xeb\\xa0\\xb9 \\xec\\xa0\\x84\\xec\\xa1\\xb0 \\xec\\x9e\\x88\\xec\\x97\\x88\\xeb\\x8b\\xa4</a></div>\\n<div><a href=\"https://news.naver.com/main/list.naver?mode=LPOD&mid=sec&sid1=001&sid2=140&oid=001&isYeonhapFlash=Y&aid=0012904913\" class=\"issue\" data-clk=\"quickarticle\">\\xec\\x98\\xa4\\xed\\x9b\\x84 9\\xec\\x8b\\x9c\\xea\\xb9\\x8c\\xec\\xa7\\x80 \\xec\\xa0\\x84\\xea\\xb5\\xad\\xec\\x84\\x9c 2\\xec\\xb2\\x9c984\\xeb\\xaa\\x85 \\xed\\x99\\x95\\xec\\xa7\\x84\\xe2\\x80\\xa6\\xec\\x96\\xb4\\xec\\xa0\\x9c\\xeb\\xb3\\xb4\\xeb\\x8b\\xa4 312\\xeb\\xaa\\x85 \\xec\\xa0\\x81\\xec\\x96\\xb4</a></div> </div> </div> <div class=\"direct_area\"> <a href=\"http://news.naver.com/\" class=\"link_news\" data-clk=\"newshome\">\\xeb\\x89\\xb4\\xec\\x8a\\xa4\\xed\\x99\\x88</a>\\n<a href=\"http://entertain.naver.com/home\" class=\"link_direct\" data-clk=\"entertainment\">\\xec\\x97\\xb0\\xec\\x98\\x88</a>\\n<a href=\"http://sports.news.naver.com/\" class=\"link_direct\" data-clk=\"sports\">\\xec\\x8a\\xa4\\xed\\x8f\\xac\\xec\\xb8\\xa0</a>\\n<a href=\"http://news.naver.com/main/main.nhn?mode=LSD&mid=shm&sid1=101\" class=\"link_direct\" data-clk=\"economy\">\\xea\\xb2\\xbd\\xec\\xa0\\x9c</a> </div> </div>        <div id=\"NM_NEWSSTAND_TITLE\" class=\"group_title\" data-clk-prefix=\"nsd\"> <a href=\"http://newsstand.naver.com/\" class=\"link_newsstand\" data-clk=\"title\" target=\"_blank\">\\xeb\\x89\\xb4\\xec\\x8a\\xa4\\xec\\x8a\\xa4\\xed\\x83\\xa0\\xeb\\x93\\x9c</a> <div id=\"NM_NEWSSTAND_data_buttons\" class=\"sort_area\">  <a href=\"#\" role=\"button\" data-type=\"my\" data-clk=\"my\" class=\"btn_sort\">\\xea\\xb5\\xac\\xeb\\x8f\\x85\\xed\\x95\\x9c \\xec\\x96\\xb8\\xeb\\xa1\\xa0\\xec\\x82\\xac</a> <a href=\"#\" role=\"button\" data-type=\"all\" data-clk=\"all\" class=\"btn_sort sort_on\">\\xec\\xa0\\x84\\xec\\xb2\\xb4\\xec\\x96\\xb8\\xeb\\xa1\\xa0\\xec\\x82\\xac</a>  </div> <div id=\"NM_NEWSSTAND_view_buttons\" class=\"set_area\">  <a href=\"#\" role=\"button\" data-type=\"list\" data-clk=\"articleview\" class=\"btn_set\"> <i class=\"ico_list\"><span class=\"blind\">\\xeb\\xa6\\xac\\xec\\x8a\\xa4\\xed\\x8a\\xb8\\xed\\x98\\x95</span></i></a> <a href=\"#\" role=\"button\" data-type=\"thumb\" data-clk=\"pressview\" class=\"btn_set set_on\"> <i class=\"ico_tile\"><span class=\"blind\">\\xec\\x8d\\xb8\\xeb\\x84\\xa4\\xec\\x9d\\xbc\\xed\\x98\\x95</span></i></a>  <a href=\"http://newsstand.naver.com/config.html\" class=\"btn_set\" data-clk=\"set\" target=\"_blank\"> <i class=\"ico_set\"><span class=\"blind\">\\xec\\x84\\xa4\\xec\\xa0\\x95</span></i></a> </div> </div> <div id=\"NM_NEWSSTAND_VIEW_CONTAINER\" style=\"position:relative\"> <div id=\"NM_NEWSSTAND_DEFAULT_LIST\" class=\"group_news\" style=\"display:none\" data-clk-prefix=\"nsd_all\"> <a href=\"#\" role=\"button\" class=\"pm_btn_prev_l _NM_NEWSSTAND_LIST_prev_btn\" data-clk-custom=\"prev\"><i class=\"ico_btn\"><span class=\"blind\">\\xec\\x9d\\xb4\\xec\\xa0\\x84</span></i></a> <a href=\"#\" role=\"button\" class=\"pm_btn_next_l _NM_NEWSSTAND_LIST_next_btn\" data-clk-custom=\"next\"><i class=\"ico_btn\"><span class=\"blind\">\\xeb\\x8b\\xa4\\xec\\x9d\\x8c</span></i></a> <div class=\"list_view\"> <div class=\"option_area\"> <div class=\"list_option_wrap\"> <ul class=\"list_option\"> <li class=\"option_item\" data-cateid=\"ct2\"><a href=\"#\" class=\"option\" data-clk=\"daei\">\\xec\\xa2\\x85\\xed\\x95\\xa9/\\xea\\xb2\\xbd\\xec\\xa0\\x9c</a></li> <li class=\"option_item\" data-cateid=\"ct3\"><a href=\"#\" class=\"option\" data-clk=\"dtvcom\">\\xeb\\xb0\\xa9\\xec\\x86\\xa1/\\xed\\x86\\xb5\\xec\\x8b\\xa0</a></li> <li class=\"option_item\" data-cateid=\"ct4\"><a href=\"#\" class=\"option\" data-clk=\"dit\">IT</a></li> <li class=\"option_item\" data-cateid=\"ct5\"><a href=\"#\" class=\"option\" data-clk=\"deng\">\\xec\\x98\\x81\\xec\\x9e\\x90\\xec\\xa7\\x80</a></li> <li class=\"option_item\" data-cateid=\"ct6\"><a href=\"#\" class=\"option\" data-clk=\"dsporent\">\\xec\\x8a\\xa4\\xed\\x8f\\xac\\xec\\xb8\\xa0/\\xec\\x97\\xb0\\xec\\x98\\x88</a></li> <li class=\"option_item\" data-cateid=\"ct7\"><a href=\"#\" class=\"option\" data-clk=\"dmagtec\">\\xeb\\xa7\\xa4\\xea\\xb1\\xb0\\xec\\xa7\\x84/\\xec\\xa0\\x84\\xeb\\xac\\xb8\\xec\\xa7\\x80</a></li> <li class=\"option_item\" data-cateid=\"ct8\"><a href=\"#\" class=\"option\" data-clk=\"dloc\">\\xec\\xa7\\x80\\xec\\x97\\xad</a></li> </ul> </div> </div> <div class=\"_NM_NEWSSTAND_ARTICLE_CONTAINER\" data-clk-sub=\"*a\"></div> </div> <div class=\"ly_popup NM_NEWSSTAND_POPUP NM_NEWSSTAND_invalid\" style=\"display:none\" data-clk-sub=\"*a\"> <a href=\"#\" role=\"button\" class=\"btn_close NM_NEWSSTAND_POPUP_CLOSE\"><i class=\"ico_close\"></i><span class=\"blind\">\\xeb\\x8b\\xab\\xea\\xb8\\xb0</span></a> <p class=\"popup_msg\">\\xed\\x95\\xb4\\xeb\\x8b\\xb9 \\xec\\x96\\xb8\\xeb\\xa1\\xa0\\xec\\x82\\xac \\xec\\x82\\xac\\xec\\xa0\\x95\\xec\\x9c\\xbc\\xeb\\xa1\\x9c \\xec\\xa0\\x91\\xea\\xb7\\xbc\\xec\\x9d\\xb4 \\xec\\xa0\\x9c\\xed\\x95\\x9c\\xeb\\x90\\xa9\\xeb\\x8b\\x88\\xeb\\x8b\\xa4.</p> <div class=\"popup_btn\"> <a href=\"#\" role=\"button\" class=\"btn_confirm NM_NEWSSTAND_POPUP_CLOSE\">\\xed\\x99\\x95\\xec\\x9d\\xb8</a> </div> </div> <div class=\"ly_popup NM_NEWSSTAND_POPUP NM_NEWSSTAND_undescribe_confirm\" style=\"display:none\" data-clk-sub=\"*a\"> <a href=\"#\" role=\"button\" class=\"btn_close NM_NEWSSTAND_POPUP_CLOSE\" data-clk=\"usclose\"><i class=\"ico_close\"></i><span class=\"blind\">\\xeb\\x8b\\xab\\xea\\xb8\\xb0</span></a> <p class=\"popup_msg\"><strong class=\"NM_NEWSSTAND_POPUP_PNAME\"></strong>\\xec\\x9d\\x84(\\xeb\\xa5\\xbc)<br>\\xea\\xb5\\xac\\xeb\\x8f\\x85\\xed\\x95\\xb4\\xec\\xa7\\x80 \\xed\\x95\\x98\\xec\\x8b\\x9c\\xea\\xb2\\xa0\\xec\\x8a\\xb5\\xeb\\x8b\\x88\\xea\\xb9\\x8c?</p> <div class=\"popup_btn\"> <a href=\"#\" role=\"button\" class=\"btn_confirm NM_NEWSSTAND_POPUP_CONFIRM\" data-clk=\"usdone\">\\xed\\x99\\x95\\xec\\x9d\\xb8</a> <a href=\"#\" role=\"button\" class=\"btn_confirm NM_NEWSSTAND_POPUP_CLOSE\" data-clk=\"uscancel\">\\xec\\xb7\\xa8\\xec\\x86\\x8c</a> </div> </div> <div class=\"ly_toast NM_NEWSSTAND_TOAST\" style=\"display:none\"> <p class=\"toast_msg\">\\xea\\xb5\\xac\\xeb\\x8f\\x85\\xed\\x95\\x9c \\xec\\x96\\xb8\\xeb\\xa1\\xa0\\xec\\x82\\xac\\xec\\x97\\x90 \\xec\\xb6\\x94\\xea\\xb0\\x80\\xeb\\x90\\x98\\xec\\x97\\x88\\xec\\x8a\\xb5\\xeb\\x8b\\x88\\xeb\\x8b\\xa4.</p> </div> </div>   <div id=\"NM_NEWSSTAND_DEFAULT_THUMB\" class=\"group_news\" style=\"display:block\" data-clk-prefix=\"nsd_all\"> <a href=\"#\" role=\"button\" class=\"pm_btn_prev_l _NM_UI_PAGE_PREV\" data-clk-custom=\"prev\"><i class=\"ico_btn\"><span class=\"blind\">\\xec\\x9d\\xb4\\xec\\xa0\\x84</span></i></a> <a href=\"#\" role=\"button\" class=\"pm_btn_next_l _NM_UI_PAGE_NEXT\" data-clk-custom=\"next\"><i class=\"ico_btn\"><span class=\"blind\">\\xeb\\x8b\\xa4\\xec\\x9d\\x8c</span></i></a> <div class=\"_NM_UI_PAGE_CONTAINER\" style=\"height:100%;overflow:hidden\" data-clk-sub=\"*p\">   <div style=\"width: 750px; float: left;\">\\n<div class=\"tile_view\">\\n<div class=\"frame_area\">\\n<i class=\"line to_right1\"></i>\\n<i class=\"line to_right2\"></i>\\n<i class=\"line to_right3\"></i>\\n<i class=\"line to_bottom1\"></i>\\n<i class=\"line to_bottom2\"></i>\\n<i class=\"line to_bottom3\"></i>\\n<i class=\"line to_bottom4\"></i>\\n<i class=\"line to_bottom5\"></i>\\n</div>\\n<div class=\"thumb_area\">\\n<div\\nclass=\"thumb_box _NM_NEWSSTAND_THUMB _NM_NEWSSTAND_THUMB_press_valid\"\\ndata-pid=\"031\"\\n>\\n<a href=\"#\" class=\"thumb\">\\n<img\\nsrc=\"https://s.pstatic.net/static/newsstand/2020/logo/light/0604/031.png\"\\nheight=\"20\"\\nalt=\"\\xec\\x95\\x84\\xec\\x9d\\xb4\\xeb\\x89\\xb4\\xec\\x8a\\xa424\"\\nclass=\"news_logo\"\\n/>\\n<span class=\"thumb_dim\"></span\\n></a>\\n<div class=\"popup_wrap\">\\n<a\\nhref=\"#\"\\nrole=\"button\"\\nclass=\"btn_popup _NM_NEWSSTAND_THUMB_subscribe_press\"\\ndata-pid=\"031\"\\ndata-clk=\"sub\"\\n>\\xea\\xb5\\xac\\xeb\\x8f\\x85</a\\n>\\n<a\\nhref=\"#\"\\nrole=\"button\"\\nclass=\"btn_popup _NM_NEWSSTAND_THUMB_unsubscribe_press\"\\ndata-pid=\"031\"\\ndata-clk=\"unsub\"\\n>\\xed\\x95\\xb4\\xec\\xa7\\x80</a\\n>\\n<a\\nhref=\"http://newsstand.naver.com/?list=&pcode=031\"\\ntarget=\"_blank\"\\nclass=\"btn_popup\"\\ndata-clk=\"logo\"\\ndata-pid=\"031\"\\n>\\xea\\xb8\\xb0\\xec\\x82\\xac\\xeb\\xb3\\xb4\\xea\\xb8\\xb0</a\\n>\\n</div>\\n</div>\\n<div\\nclass=\"thumb_box _NM_NEWSSTAND_THUMB _NM_NEWSSTAND_THUMB_press_valid\"\\ndata-pid=\"117\"\\n>\\n<a href=\"#\" class=\"thumb\">\\n<img\\nsrc=\"https://s.pstatic.net/static/newsstand/2020/logo/light/0604/117.png\"\\nheight=\"20\"\\nalt=\"\\xeb\\xa7\\x88\\xec\\x9d\\xb4\\xeb\\x8d\\xb0\\xec\\x9d\\xbc\\xeb\\xa6\\xac\"\\nclass=\"news_logo\"\\n/>\\n<span class=\"thumb_dim\"></span\\n></a>\\n<div class=\"popup_wrap\">\\n<a\\nhref=\"#\"\\nrole=\"button\"\\nclass=\"btn_popup _NM_NEWSSTAND_THUMB_subscribe_press\"\\ndata-pid=\"117\"\\ndata-clk=\"sub\"\\n>\\xea\\xb5\\xac\\xeb\\x8f\\x85</a\\n>\\n<a\\nhref=\"#\"\\nrole=\"button\"\\nclass=\"btn_popup _NM_NEWSSTAND_THUMB_unsubscribe_press\"\\ndata-pid=\"117\"\\ndata-clk=\"unsub\"\\n>\\xed\\x95\\xb4\\xec\\xa7\\x80</a\\n>\\n<a\\nhref=\"http://newsstand.naver.com/?list=&pcode=117\"\\ntarget=\"_blank\"\\nclass=\"btn_popup\"\\ndata-clk=\"logo\"\\ndata-pid=\"117\"\\n>\\xea\\xb8\\xb0\\xec\\x82\\xac\\xeb\\xb3\\xb4\\xea\\xb8\\xb0</a\\n>\\n</div>\\n</div>\\n<div\\nclass=\"thumb_box _NM_NEWSSTAND_THUMB _NM_NEWSSTAND_THUMB_press_valid\"\\ndata-pid=\"327\"\\n>\\n<a href=\"#\" class=\"thumb\">\\n<img\\nsrc=\"https://s.pstatic.net/static/newsstand/2020/logo/light/0604/327.png\"\\nheight=\"20\"\\nalt=\"\\xeb\\x89\\xb4\\xeb\\x8d\\xb0\\xec\\x9d\\xbc\\xeb\\xa6\\xac\"\\nclass=\"news_logo\"\\n/>\\n<span class=\"thumb_dim\"></span\\n></a>\\n<div class=\"popup_wrap\">\\n<a\\nhref=\"#\"\\nrole=\"button\"\\nclass=\"btn_popup _NM_NEWSSTAND_THUMB_subscribe_press\"\\ndata-pid=\"327\"\\ndata-clk=\"sub\"\\n>\\xea\\xb5\\xac\\xeb\\x8f\\x85</a\\n>\\n<a\\nhref=\"#\"\\nrole=\"button\"\\nclass=\"btn_popup _NM_NEWSSTAND_THUMB_unsubscribe_press\"\\ndata-pid=\"327\"\\ndata-clk=\"unsub\"\\n>\\xed\\x95\\xb4\\xec\\xa7\\x80</a\\n>\\n<a\\nhref=\"http://newsstand.naver.com/?list=&pcode=327\"\\ntarget=\"_blank\"\\nclass=\"btn_popup\"\\ndata-clk=\"logo\"\\ndata-pid=\"327\"\\n>\\xea\\xb8\\xb0\\xec\\x82\\xac\\xeb\\xb3\\xb4\\xea\\xb8\\xb0</a\\n>\\n</div>\\n</div>\\n<div\\nclass=\"thumb_box _NM_NEWSSTAND_THUMB _NM_NEWSSTAND_THUMB_press_valid\"\\ndata-pid=\"052\"\\n>\\n<a href=\"#\" class=\"thumb\">\\n<img\\nsrc=\"https://s.pstatic.net/static/newsstand/2020/logo/light/0604/052.png\"\\nheight=\"20\"\\nalt=\"YTN\"\\nclass=\"news_logo\"\\n/>\\n<span class=\"thumb_dim\"></span\\n></a>\\n<div class=\"popup_wrap\">\\n<a\\nhref=\"#\"\\nrole=\"button\"\\nclass=\"btn_popup _NM_NEWSSTAND_THUMB_subscribe_press\"\\ndata-pid=\"052\"\\ndata-clk=\"sub\"\\n>\\xea\\xb5\\xac\\xeb\\x8f\\x85</a\\n>\\n<a\\nhref=\"#\"\\nrole=\"button\"\\nclass=\"btn_popup _NM_NEWSSTAND_THUMB_unsubscribe_press\"\\ndata-pid=\"052\"\\ndata-clk=\"unsub\"\\n>\\xed\\x95\\xb4\\xec\\xa7\\x80</a\\n>\\n<a\\nhref=\"http://newsstand.naver.com/?list=&pcode=052\"\\ntarget=\"_blank\"\\nclass=\"btn_popup\"\\ndata-clk=\"logo\"\\ndata-pid=\"052\"\\n>\\xea\\xb8\\xb0\\xec\\x82\\xac\\xeb\\xb3\\xb4\\xea\\xb8\\xb0</a\\n>\\n</div>\\n</div>\\n<div\\nclass=\"thumb_box _NM_NEWSSTAND_THUMB _NM_NEWSSTAND_THUMB_press_valid\"\\ndata-pid=\"241\"\\n>\\n<a href=\"#\" class=\"thumb\">\\n<img\\nsrc=\"https://s.pstatic.net/static/newsstand/2020/logo/light/0604/241.png\"\\nheight=\"20\"\\nalt=\"\\xec\\x9d\\xbc\\xea\\xb0\\x84\\xec\\x8a\\xa4\\xed\\x8f\\xac\\xec\\xb8\\xa0\"\\nclass=\"news_logo\"\\n/>\\n<span class=\"thumb_dim\"></span\\n></a>\\n<div class=\"popup_wrap\">\\n<a\\nhref=\"#\"\\nrole=\"button\"\\nclass=\"btn_popup _NM_NEWSSTAND_THUMB_subscribe_press\"\\ndata-pid=\"241\"\\ndata-clk=\"sub\"\\n>\\xea\\xb5\\xac\\xeb\\x8f\\x85</a\\n>\\n<a\\nhref=\"#\"\\nrole=\"button\"\\nclass=\"btn_popup _NM_NEWSSTAND_THUMB_unsubscribe_press\"\\ndata-pid=\"241\"\\ndata-clk=\"unsub\"\\n>\\xed\\x95\\xb4\\xec\\xa7\\x80</a\\n>\\n<a\\nhref=\"http://newsstand.naver.com/?list=&pcode=241\"\\ntarget=\"_blank\"\\nclass=\"btn_popup\"\\ndata-clk=\"logo\"\\ndata-pid=\"241\"\\n>\\xea\\xb8\\xb0\\xec\\x82\\xac\\xeb\\xb3\\xb4\\xea\\xb8\\xb0</a\\n>\\n</div>\\n</div>\\n<div\\nclass=\"thumb_box _NM_NEWSSTAND_THUMB _NM_NEWSSTAND_THUMB_press_valid\"\\ndata-pid=\"047\"\\n>\\n<a href=\"#\" class=\"thumb\">\\n<img\\nsrc=\"https://s.pstatic.net/static/newsstand/2020/logo/light/0604/047.png\"\\nheight=\"20\"\\nalt=\"\\xec\\x98\\xa4\\xeb\\xa7\\x88\\xec\\x9d\\xb4\\xeb\\x89\\xb4\\xec\\x8a\\xa4\"\\nclass=\"news_logo\"\\n/>\\n<span class=\"thumb_dim\"></span\\n></a>\\n<div class=\"popup_wrap\">\\n<a\\nhref=\"#\"\\nrole=\"button\"\\nclass=\"btn_popup _NM_NEWSSTAND_THUMB_subscribe_press\"\\ndata-pid=\"047\"\\ndata-clk=\"sub\"\\n>\\xea\\xb5\\xac\\xeb\\x8f\\x85</a\\n>\\n<a\\nhref=\"#\"\\nrole=\"button\"\\nclass=\"btn_popup _NM_NEWSSTAND_THUMB_unsubscribe_press\"\\ndata-pid=\"047\"\\ndata-clk=\"unsub\"\\n>\\xed\\x95\\xb4\\xec\\xa7\\x80</a\\n>\\n<a\\nhref=\"http://newsstand.naver.com/?list=&pcode=047\"\\ntarget=\"_blank\"\\nclass=\"btn_popup\"\\ndata-clk=\"logo\"\\ndata-pid=\"047\"\\n>\\xea\\xb8\\xb0\\xec\\x82\\xac\\xeb\\xb3\\xb4\\xea\\xb8\\xb0</a\\n>\\n</div>\\n</div>\\n<div\\nclass=\"thumb_box _NM_NEWSSTAND_THUMB _NM_NEWSSTAND_THUMB_press_valid\"\\ndata-pid=\"022\"\\n>\\n<a href=\"#\" class=\"thumb\">\\n<img\\nsrc=\"https://s.pstatic.net/static/newsstand/2020/logo/light/0604/022.png\"\\nheight=\"20\"\\nalt=\"\\xec\\x84\\xb8\\xea\\xb3\\x84\\xec\\x9d\\xbc\\xeb\\xb3\\xb4\"\\nclass=\"news_logo\"\\n/>\\n<span class=\"thumb_dim\"></span\\n></a>\\n<div class=\"popup_wrap\">\\n<a\\nhref=\"#\"\\nrole=\"button\"\\nclass=\"btn_popup _NM_NEWSSTAND_THUMB_subscribe_press\"\\ndata-pid=\"022\"\\ndata-clk=\"sub\"\\n>\\xea\\xb5\\xac\\xeb\\x8f\\x85</a\\n>\\n<a\\nhref=\"#\"\\nrole=\"button\"\\nclass=\"btn_popup _NM_NEWSSTAND_THUMB_unsubscribe_press\"\\ndata-pid=\"022\"\\ndata-clk=\"unsub\"\\n>\\xed\\x95\\xb4\\xec\\xa7\\x80</a\\n>\\n<a\\nhref=\"http://newsstand.naver.com/?list=&pcode=022\"\\ntarget=\"_blank\"\\nclass=\"btn_popup\"\\ndata-clk=\"logo\"\\ndata-pid=\"022\"\\n>\\xea\\xb8\\xb0\\xec\\x82\\xac\\xeb\\xb3\\xb4\\xea\\xb8\\xb0</a\\n>\\n</div>\\n</div>\\n<div\\nclass=\"thumb_box _NM_NEWSSTAND_THUMB _NM_NEWSSTAND_THUMB_press_valid\"\\ndata-pid=\"032\"\\n>\\n<a href=\"#\" class=\"thumb\">\\n<img\\nsrc=\"https://s.pstatic.net/static/newsstand/2020/logo/light/0604/032.png\"\\nheight=\"20\"\\nalt=\"\\xea\\xb2\\xbd\\xed\\x96\\xa5\\xec\\x8b\\xa0\\xeb\\xac\\xb8\"\\nclass=\"news_logo\"\\n/>\\n<span class=\"thumb_dim\"></span\\n></a>\\n<div class=\"popup_wrap\">\\n<a\\nhref=\"#\"\\nrole=\"button\"\\nclass=\"btn_popup _NM_NEWSSTAND_THUMB_subscribe_press\"\\ndata-pid=\"032\"\\ndata-clk=\"sub\"\\n>\\xea\\xb5\\xac\\xeb\\x8f\\x85</a\\n>\\n<a\\nhref=\"#\"\\nrole=\"button\"\\nclass=\"btn_popup _NM_NEWSSTAND_THUMB_unsubscribe_press\"\\ndata-pid=\"032\"\\ndata-clk=\"unsub\"\\n>\\xed\\x95\\xb4\\xec\\xa7\\x80</a\\n>\\n<a\\nhref=\"http://newsstand.naver.com/?list=&pcode=032\"\\ntarget=\"_blank\"\\nclass=\"btn_popup\"\\ndata-clk=\"logo\"\\ndata-pid=\"032\"\\n>\\xea\\xb8\\xb0\\xec\\x82\\xac\\xeb\\xb3\\xb4\\xea\\xb8\\xb0</a\\n>\\n</div>\\n</div>\\n<div\\nclass=\"thumb_box _NM_NEWSSTAND_THUMB _NM_NEWSSTAND_THUMB_press_valid\"\\ndata-pid=\"308\"\\n>\\n<a href=\"#\" class=\"thumb\">\\n<img\\nsrc=\"https://s.pstatic.net/static/newsstand/2020/logo/light/0604/308.png\"\\nheight=\"20\"\\nalt=\"\\xec\\x8b\\x9c\\xec\\x82\\xac\\xec\\x9d\\xb8\"\\nclass=\"news_logo\"\\n/>\\n<span class=\"thumb_dim\"></span\\n></a>\\n<div class=\"popup_wrap\">\\n<a\\nhref=\"#\"\\nrole=\"button\"\\nclass=\"btn_popup _NM_NEWSSTAND_THUMB_subscribe_press\"\\ndata-pid=\"308\"\\ndata-clk=\"sub\"\\n>\\xea\\xb5\\xac\\xeb\\x8f\\x85</a\\n>\\n<a\\nhref=\"#\"\\nrole=\"button\"\\nclass=\"btn_popup _NM_NEWSSTAND_THUMB_unsubscribe_press\"\\ndata-pid=\"308\"\\ndata-clk=\"unsub\"\\n>\\xed\\x95\\xb4\\xec\\xa7\\x80</a\\n>\\n<a\\nhref=\"http://newsstand.naver.com/?list=&pcode=308\"\\ntarget=\"_blank\"\\nclass=\"btn_popup\"\\ndata-clk=\"logo\"\\ndata-pid=\"308\"\\n>\\xea\\xb8\\xb0\\xec\\x82\\xac\\xeb\\xb3\\xb4\\xea\\xb8\\xb0</a\\n>\\n</div>\\n</div>\\n<div\\nclass=\"thumb_box _NM_NEWSSTAND_THUMB _NM_NEWSSTAND_THUMB_press_valid\"\\ndata-pid=\"055\"\\n>\\n<a href=\"#\" class=\"thumb\">\\n<img\\nsrc=\"https://s.pstatic.net/static/newsstand/2020/logo/light/0604/055.png\"\\nheight=\"20\"\\nalt=\"SBS\"\\nclass=\"news_logo\"\\n/>\\n<span class=\"thumb_dim\"></span\\n></a>\\n<div class=\"popup_wrap\">\\n<a\\nhref=\"#\"\\nrole=\"button\"\\nclass=\"btn_popup _NM_NEWSSTAND_THUMB_subscribe_press\"\\ndata-pid=\"055\"\\ndata-clk=\"sub\"\\n>\\xea\\xb5\\xac\\xeb\\x8f\\x85</a\\n>\\n<a\\nhref=\"#\"\\nrole=\"button\"\\nclass=\"btn_popup _NM_NEWSSTAND_THUMB_unsubscribe_press\"\\ndata-pid=\"055\"\\ndata-clk=\"unsub\"\\n>\\xed\\x95\\xb4\\xec\\xa7\\x80</a\\n>\\n<a\\nhref=\"http://newsstand.naver.com/?list=&pcode=055\"\\ntarget=\"_blank\"\\nclass=\"btn_popup\"\\ndata-clk=\"logo\"\\ndata-pid=\"055\"\\n>\\xea\\xb8\\xb0\\xec\\x82\\xac\\xeb\\xb3\\xb4\\xea\\xb8\\xb0</a\\n>\\n</div>\\n</div>\\n<div\\nclass=\"thumb_box _NM_NEWSSTAND_THUMB _NM_NEWSSTAND_THUMB_press_valid\"\\ndata-pid=\"020\"\\n>\\n<a href=\"#\" class=\"thumb\">\\n<img\\nsrc=\"https://s.pstatic.net/static/newsstand/2020/logo/light/0604/020.png\"\\nheight=\"20\"\\nalt=\"\\xeb\\x8f\\x99\\xec\\x95\\x84\\xec\\x9d\\xbc\\xeb\\xb3\\xb4\"\\nclass=\"news_logo\"\\n/>\\n<span class=\"thumb_dim\"></span\\n></a>\\n<div class=\"popup_wrap\">\\n<a\\nhref=\"#\"\\nrole=\"button\"\\nclass=\"btn_popup _NM_NEWSSTAND_THUMB_subscribe_press\"\\ndata-pid=\"020\"\\ndata-clk=\"sub\"\\n>\\xea\\xb5\\xac\\xeb\\x8f\\x85</a\\n>\\n<a\\nhref=\"#\"\\nrole=\"button\"\\nclass=\"btn_popup _NM_NEWSSTAND_THUMB_unsubscribe_press\"\\ndata-pid=\"020\"\\ndata-clk=\"unsub\"\\n>\\xed\\x95\\xb4\\xec\\xa7\\x80</a\\n>\\n<a\\nhref=\"http://newsstand.naver.com/?list=&pcode=020\"\\ntarget=\"_blank\"\\nclass=\"btn_popup\"\\ndata-clk=\"logo\"\\ndata-pid=\"020\"\\n>\\xea\\xb8\\xb0\\xec\\x82\\xac\\xeb\\xb3\\xb4\\xea\\xb8\\xb0</a\\n>\\n</div>\\n</div>\\n<div\\nclass=\"thumb_box _NM_NEWSSTAND_THUMB _NM_NEWSSTAND_THUMB_press_valid\"\\ndata-pid=\"008\"\\n>\\n<a href=\"#\" class=\"thumb\">\\n<img\\nsrc=\"https://s.pstatic.net/static/newsstand/2020/logo/light/0604/008.png\"\\nheight=\"20\"\\nalt=\"\\xeb\\xa8\\xb8\\xeb\\x8b\\x88\\xed\\x88\\xac\\xeb\\x8d\\xb0\\xec\\x9d\\xb4\"\\nclass=\"news_logo\"\\n/>\\n<span class=\"thumb_dim\"></span\\n></a>\\n<div class=\"popup_wrap\">\\n<a\\nhref=\"#\"\\nrole=\"button\"\\nclass=\"btn_popup _NM_NEWSSTAND_THUMB_subscribe_press\"\\ndata-pid=\"008\"\\ndata-clk=\"sub\"\\n>\\xea\\xb5\\xac\\xeb\\x8f\\x85</a\\n>\\n<a\\nhref=\"#\"\\nrole=\"button\"\\nclass=\"btn_popup _NM_NEWSSTAND_THUMB_unsubscribe_press\"\\ndata-pid=\"008\"\\ndata-clk=\"unsub\"\\n>\\xed\\x95\\xb4\\xec\\xa7\\x80</a\\n>\\n<a\\nhref=\"http://newsstand.naver.com/?list=&pcode=008\"\\ntarget=\"_blank\"\\nclass=\"btn_popup\"\\ndata-clk=\"logo\"\\ndata-pid=\"008\"\\n>\\xea\\xb8\\xb0\\xec\\x82\\xac\\xeb\\xb3\\xb4\\xea\\xb8\\xb0</a\\n>\\n</div>\\n</div>\\n<div\\nclass=\"thumb_box _NM_NEWSSTAND_THUMB _NM_NEWSSTAND_THUMB_press_valid\"\\ndata-pid=\"021\"\\n>\\n<a href=\"#\" class=\"thumb\">\\n<img\\nsrc=\"https://s.pstatic.net/static/newsstand/2020/logo/light/0604/021.png\"\\nheight=\"20\"\\nalt=\"\\xeb\\xac\\xb8\\xed\\x99\\x94\\xec\\x9d\\xbc\\xeb\\xb3\\xb4\"\\nclass=\"news_logo\"\\n/>\\n<span class=\"thumb_dim\"></span\\n></a>\\n<div class=\"popup_wrap\">\\n<a\\nhref=\"#\"\\nrole=\"button\"\\nclass=\"btn_popup _NM_NEWSSTAND_THUMB_subscribe_press\"\\ndata-pid=\"021\"\\ndata-clk=\"sub\"\\n>\\xea\\xb5\\xac\\xeb\\x8f\\x85</a\\n>\\n<a\\nhref=\"#\"\\nrole=\"button\"\\nclass=\"btn_popup _NM_NEWSSTAND_THUMB_unsubscribe_press\"\\ndata-pid=\"021\"\\ndata-clk=\"unsub\"\\n>\\xed\\x95\\xb4\\xec\\xa7\\x80</a\\n>\\n<a\\nhref=\"http://newsstand.naver.com/?list=&pcode=021\"\\ntarget=\"_blank\"\\nclass=\"btn_popup\"\\ndata-clk=\"logo\"\\ndata-pid=\"021\"\\n>\\xea\\xb8\\xb0\\xec\\x82\\xac\\xeb\\xb3\\xb4\\xea\\xb8\\xb0</a\\n>\\n</div>\\n</div>\\n<div\\nclass=\"thumb_box _NM_NEWSSTAND_THUMB _NM_NEWSSTAND_THUMB_press_valid\"\\ndata-pid=\"314\"\\n>\\n<a href=\"#\" class=\"thumb\">\\n<img\\nsrc=\"https://s.pstatic.net/static/newsstand/2020/logo/light/0604/314.png\"\\nheight=\"20\"\\nalt=\"\\xec\\x8a\\xa4\\xed\\x8f\\xac\\xec\\xb8\\xa0\\xeb\\x8f\\x99\\xec\\x95\\x84\"\\nclass=\"news_logo\"\\n/>\\n<span class=\"thumb_dim\"></span\\n></a>\\n<div class=\"popup_wrap\">\\n<a\\nhref=\"#\"\\nrole=\"button\"\\nclass=\"btn_popup _NM_NEWSSTAND_THUMB_subscribe_press\"\\ndata-pid=\"314\"\\ndata-clk=\"sub\"\\n>\\xea\\xb5\\xac\\xeb\\x8f\\x85</a\\n>\\n<a\\nhref=\"#\"\\nrole=\"button\"\\nclass=\"btn_popup _NM_NEWSSTAND_THUMB_unsubscribe_press\"\\ndata-pid=\"314\"\\ndata-clk=\"unsub\"\\n>\\xed\\x95\\xb4\\xec\\xa7\\x80</a\\n>\\n<a\\nhref=\"http://newsstand.naver.com/?list=&pcode=314\"\\ntarget=\"_blank\"\\nclass=\"btn_popup\"\\ndata-clk=\"logo\"\\ndata-pid=\"314\"\\n>\\xea\\xb8\\xb0\\xec\\x82\\xac\\xeb\\xb3\\xb4\\xea\\xb8\\xb0</a\\n>\\n</div>\\n</div>\\n<div\\nclass=\"thumb_box _NM_NEWSSTAND_THUMB _NM_NEWSSTAND_THUMB_press_valid\"\\ndata-pid=\"006\"\\n>\\n<a href=\"#\" class=\"thumb\">\\n<img\\nsrc=\"https://s.pstatic.net/static/newsstand/2020/logo/light/0604/006.png\"\\nheight=\"20\"\\nalt=\"\\xeb\\xaf\\xb8\\xeb\\x94\\x94\\xec\\x96\\xb4\\xec\\x98\\xa4\\xeb\\x8a\\x98\"\\nclass=\"news_logo\"\\n/>\\n<span class=\"thumb_dim\"></span\\n></a>\\n<div class=\"popup_wrap\">\\n<a\\nhref=\"#\"\\nrole=\"button\"\\nclass=\"btn_popup _NM_NEWSSTAND_THUMB_subscribe_press\"\\ndata-pid=\"006\"\\ndata-clk=\"sub\"\\n>\\xea\\xb5\\xac\\xeb\\x8f\\x85</a\\n>\\n<a\\nhref=\"#\"\\nrole=\"button\"\\nclass=\"btn_popup _NM_NEWSSTAND_THUMB_unsubscribe_press\"\\ndata-pid=\"006\"\\ndata-clk=\"unsub\"\\n>\\xed\\x95\\xb4\\xec\\xa7\\x80</a\\n>\\n<a\\nhref=\"http://newsstand.naver.com/?list=&pcode=006\"\\ntarget=\"_blank\"\\nclass=\"btn_popup\"\\ndata-clk=\"logo\"\\ndata-pid=\"006\"\\n>\\xea\\xb8\\xb0\\xec\\x82\\xac\\xeb\\xb3\\xb4\\xea\\xb8\\xb0</a\\n>\\n</div>\\n</div>\\n<div\\nclass=\"thumb_box _NM_NEWSSTAND_THUMB _NM_NEWSSTAND_THUMB_press_valid\"\\ndata-pid=\"087\"\\n>\\n<a href=\"#\" class=\"thumb\">\\n<img\\nsrc=\"https://s.pstatic.net/static/newsstand/2020/logo/light/0604/087.png\"\\nheight=\"20\"\\nalt=\"\\xea\\xb0\\x95\\xec\\x9b\\x90\\xec\\x9d\\xbc\\xeb\\xb3\\xb4\"\\nclass=\"news_logo\"\\n/>\\n<span class=\"thumb_dim\"></span\\n></a>\\n<div class=\"popup_wrap\">\\n<a\\nhref=\"#\"\\nrole=\"button\"\\nclass=\"btn_popup _NM_NEWSSTAND_THUMB_subscribe_press\"\\ndata-pid=\"087\"\\ndata-clk=\"sub\"\\n>\\xea\\xb5\\xac\\xeb\\x8f\\x85</a\\n>\\n<a\\nhref=\"#\"\\nrole=\"button\"\\nclass=\"btn_popup _NM_NEWSSTAND_THUMB_unsubscribe_press\"\\ndata-pid=\"087\"\\ndata-clk=\"unsub\"\\n>\\xed\\x95\\xb4\\xec\\xa7\\x80</a\\n>\\n<a\\nhref=\"http://newsstand.naver.com/?list=&pcode=087\"\\ntarget=\"_blank\"\\nclass=\"btn_popup\"\\ndata-clk=\"logo\"\\ndata-pid=\"087\"\\n>\\xea\\xb8\\xb0\\xec\\x82\\xac\\xeb\\xb3\\xb4\\xea\\xb8\\xb0</a\\n>\\n</div>\\n</div>\\n<div\\nclass=\"thumb_box _NM_NEWSSTAND_THUMB _NM_NEWSSTAND_THUMB_press_valid\"\\ndata-pid=\"389\"\\n>\\n<a href=\"#\" class=\"thumb\">\\n<img\\nsrc=\"https://s.pstatic.net/static/newsstand/2020/logo/light/0604/389.png\"\\nheight=\"20\"\\nalt=\"\\xec\\xa0\\x9c\\xec\\xa3\\xbc\\xeb\\x8f\\x84\\xeb\\xaf\\xbc\\xec\\x9d\\xbc\\xeb\\xb3\\xb4\"\\nclass=\"news_logo\"\\n/>\\n<span class=\"thumb_dim\"></span\\n></a>\\n<div class=\"popup_wrap\">\\n<a\\nhref=\"#\"\\nrole=\"button\"\\nclass=\"btn_popup _NM_NEWSSTAND_THUMB_subscribe_press\"\\ndata-pid=\"389\"\\ndata-clk=\"sub\"\\n>\\xea\\xb5\\xac\\xeb\\x8f\\x85</a\\n>\\n<a\\nhref=\"#\"\\nrole=\"button\"\\nclass=\"btn_popup _NM_NEWSSTAND_THUMB_unsubscribe_press\"\\ndata-pid=\"389\"\\ndata-clk=\"unsub\"\\n>\\xed\\x95\\xb4\\xec\\xa7\\x80</a\\n>\\n<a\\nhref=\"http://newsstand.naver.com/?list=&pcode=389\"\\ntarget=\"_blank\"\\nclass=\"btn_popup\"\\ndata-clk=\"logo\"\\ndata-pid=\"389\"\\n>\\xea\\xb8\\xb0\\xec\\x82\\xac\\xeb\\xb3\\xb4\\xea\\xb8\\xb0</a\\n>\\n</div>\\n</div>\\n<div\\nclass=\"thumb_box _NM_NEWSSTAND_THUMB _NM_NEWSSTAND_THUMB_press_valid\"\\ndata-pid=\"332\"\\n>\\n<a href=\"#\" class=\"thumb\">\\n<img\\nsrc=\"https://s.pstatic.net/static/newsstand/2020/logo/light/0604/332.png\"\\nheight=\"20\"\\nalt=\"\\xea\\xb5\\xad\\xec\\xa0\\x9c\\xec\\x8b\\xa0\\xeb\\xac\\xb8\"\\nclass=\"news_logo\"\\n/>\\n<span class=\"thumb_dim\"></span\\n></a>\\n<div class=\"popup_wrap\">\\n<a\\nhref=\"#\"\\nrole=\"button\"\\nclass=\"btn_popup _NM_NEWSSTAND_THUMB_subscribe_press\"\\ndata-pid=\"332\"\\ndata-clk=\"sub\"\\n>\\xea\\xb5\\xac\\xeb\\x8f\\x85</a\\n>\\n<a\\nhref=\"#\"\\nrole=\"button\"\\nclass=\"btn_popup _NM_NEWSSTAND_THUMB_unsubscribe_press\"\\ndata-pid=\"332\"\\ndata-clk=\"unsub\"\\n>\\xed\\x95\\xb4\\xec\\xa7\\x80</a\\n>\\n<a\\nhref=\"http://newsstand.naver.com/?list=&pcode=332\"\\ntarget=\"_blank\"\\nclass=\"btn_popup\"\\ndata-clk=\"logo\"\\ndata-pid=\"332\"\\n>\\xea\\xb8\\xb0\\xec\\x82\\xac\\xeb\\xb3\\xb4\\xea\\xb8\\xb0</a\\n>\\n</div>\\n</div>\\n<div\\nclass=\"thumb_box _NM_NEWSSTAND_THUMB _NM_NEWSSTAND_THUMB_press_valid\"\\ndata-pid=\"995\"\\n>\\n<a href=\"#\" class=\"thumb\">\\n<img\\nsrc=\"https://s.pstatic.net/static/newsstand/up/2021/1112/nsd10248812.png\"\\nheight=\"20\"\\nalt=\"\\xeb\\x89\\xb4\\xec\\x8a\\xa4\\xed\\x8f\\xac\\xec\\x8a\\xa4\\xed\\x8a\\xb8\"\\nclass=\"news_logo\"\\n/>\\n<span class=\"thumb_dim\"></span\\n></a>\\n<div class=\"popup_wrap\">\\n<a\\nhref=\"#\"\\nrole=\"button\"\\nclass=\"btn_popup _NM_NEWSSTAND_THUMB_subscribe_press\"\\ndata-pid=\"995\"\\ndata-clk=\"sub\"\\n>\\xea\\xb5\\xac\\xeb\\x8f\\x85</a\\n>\\n<a\\nhref=\"#\"\\nrole=\"button\"\\nclass=\"btn_popup _NM_NEWSSTAND_THUMB_unsubscribe_press\"\\ndata-pid=\"995\"\\ndata-clk=\"unsub\"\\n>\\xed\\x95\\xb4\\xec\\xa7\\x80</a\\n>\\n<a\\nhref=\"http://newsstand.naver.com/?list=&pcode=995\"\\ntarget=\"_blank\"\\nclass=\"btn_popup\"\\ndata-clk=\"logo\"\\ndata-pid=\"995\"\\n>\\xea\\xb8\\xb0\\xec\\x82\\xac\\xeb\\xb3\\xb4\\xea\\xb8\\xb0</a\\n>\\n</div>\\n</div>\\n<div\\nclass=\"thumb_box _NM_NEWSSTAND_THUMB _NM_NEWSSTAND_THUMB_press_valid\"\\ndata-pid=\"943\"\\n>\\n<a href=\"#\" class=\"thumb\">\\n<img\\nsrc=\"https://s.pstatic.net/static/newsstand/up/2021/0329/nsd101654480.png\"\\nheight=\"20\"\\nalt=\"\\xeb\\xb9\\x84\\xec\\xa6\\x88\\xeb\\x8b\\x88\\xec\\x8a\\xa4\\xec\\x9b\\x8c\\xec\\xb9\\x98\"\\nclass=\"news_logo\"\\n/>\\n<span class=\"thumb_dim\"></span\\n></a>\\n<div class=\"popup_wrap\">\\n<a\\nhref=\"#\"\\nrole=\"button\"\\nclass=\"btn_popup _NM_NEWSSTAND_THUMB_subscribe_press\"\\ndata-pid=\"943\"\\ndata-clk=\"sub\"\\n>\\xea\\xb5\\xac\\xeb\\x8f\\x85</a\\n>\\n<a\\nhref=\"#\"\\nrole=\"button\"\\nclass=\"btn_popup _NM_NEWSSTAND_THUMB_unsubscribe_press\"\\ndata-pid=\"943\"\\ndata-clk=\"unsub\"\\n>\\xed\\x95\\xb4\\xec\\xa7\\x80</a\\n>\\n<a\\nhref=\"http://newsstand.naver.com/?list=&pcode=943\"\\ntarget=\"_blank\"\\nclass=\"btn_popup\"\\ndata-clk=\"logo\"\\ndata-pid=\"943\"\\n>\\xea\\xb8\\xb0\\xec\\x82\\xac\\xeb\\xb3\\xb4\\xea\\xb8\\xb0</a\\n>\\n</div>\\n</div>\\n<div\\nclass=\"thumb_box _NM_NEWSSTAND_THUMB _NM_NEWSSTAND_THUMB_press_valid\"\\ndata-pid=\"822\"\\n>\\n<a href=\"#\" class=\"thumb\">\\n<img\\nsrc=\"https://s.pstatic.net/static/newsstand/up/2020/0730/nsd13728808.png\"\\nheight=\"20\"\\nalt=\"\\xed\\x94\\x84\\xeb\\x9d\\xbc\\xec\\x9e\\x84\\xea\\xb2\\xbd\\xec\\xa0\\x9c\"\\nclass=\"news_logo\"\\n/>\\n<span class=\"thumb_dim\"></span\\n></a>\\n<div class=\"popup_wrap\">\\n<a\\nhref=\"#\"\\nrole=\"button\"\\nclass=\"btn_popup _NM_NEWSSTAND_THUMB_subscribe_press\"\\ndata-pid=\"822\"\\ndata-clk=\"sub\"\\n>\\xea\\xb5\\xac\\xeb\\x8f\\x85</a\\n>\\n<a\\nhref=\"#\"\\nrole=\"button\"\\nclass=\"btn_popup _NM_NEWSSTAND_THUMB_unsubscribe_press\"\\ndata-pid=\"822\"\\ndata-clk=\"unsub\"\\n>\\xed\\x95\\xb4\\xec\\xa7\\x80</a\\n>\\n<a\\nhref=\"http://newsstand.naver.com/?list=&pcode=822\"\\ntarget=\"_blank\"\\nclass=\"btn_popup\"\\ndata-clk=\"logo\"\\ndata-pid=\"822\"\\n>\\xea\\xb8\\xb0\\xec\\x82\\xac\\xeb\\xb3\\xb4\\xea\\xb8\\xb0</a\\n>\\n</div>\\n</div>\\n<div\\nclass=\"thumb_box _NM_NEWSSTAND_THUMB _NM_NEWSSTAND_THUMB_press_valid\"\\ndata-pid=\"906\"\\n>\\n<a href=\"#\" class=\"thumb\">\\n<img\\nsrc=\"https://s.pstatic.net/static/newsstand/2020/logo/light/0604/906.png\"\\nheight=\"20\"\\nalt=\"KNN\"\\nclass=\"news_logo\"\\n/>\\n<span class=\"thumb_dim\"></span\\n></a>\\n<div class=\"popup_wrap\">\\n<a\\nhref=\"#\"\\nrole=\"button\"\\nclass=\"btn_popup _NM_NEWSSTAND_THUMB_subscribe_press\"\\ndata-pid=\"906\"\\ndata-clk=\"sub\"\\n>\\xea\\xb5\\xac\\xeb\\x8f\\x85</a\\n>\\n<a\\nhref=\"#\"\\nrole=\"button\"\\nclass=\"btn_popup _NM_NEWSSTAND_THUMB_unsubscribe_press\"\\ndata-pid=\"906\"\\ndata-clk=\"unsub\"\\n>\\xed\\x95\\xb4\\xec\\xa7\\x80</a\\n>\\n<a\\nhref=\"http://newsstand.naver.com/?list=&pcode=906\"\\ntarget=\"_blank\"\\nclass=\"btn_popup\"\\ndata-clk=\"logo\"\\ndata-pid=\"906\"\\n>\\xea\\xb8\\xb0\\xec\\x82\\xac\\xeb\\xb3\\xb4\\xea\\xb8\\xb0</a\\n>\\n</div>\\n</div>\\n<div\\nclass=\"thumb_box _NM_NEWSSTAND_THUMB _NM_NEWSSTAND_THUMB_press_valid\"\\ndata-pid=\"477\"\\n>\\n<a href=\"#\" class=\"thumb\">\\n<img\\nsrc=\"https://s.pstatic.net/static/newsstand/up/2021/1130/nsd10159718.png\"\\nheight=\"20\"\\nalt=\"\\xec\\x8a\\xa4\\xed\\x8f\\xac\\xed\\x8b\\xb0\\xeb\\xb9\\x84\\xeb\\x89\\xb4\\xec\\x8a\\xa4\"\\nclass=\"news_logo\"\\n/>\\n<span class=\"thumb_dim\"></span\\n></a>\\n<div class=\"popup_wrap\">\\n<a\\nhref=\"#\"\\nrole=\"button\"\\nclass=\"btn_popup _NM_NEWSSTAND_THUMB_subscribe_press\"\\ndata-pid=\"477\"\\ndata-clk=\"sub\"\\n>\\xea\\xb5\\xac\\xeb\\x8f\\x85</a\\n>\\n<a\\nhref=\"#\"\\nrole=\"button\"\\nclass=\"btn_popup _NM_NEWSSTAND_THUMB_unsubscribe_press\"\\ndata-pid=\"477\"\\ndata-clk=\"unsub\"\\n>\\xed\\x95\\xb4\\xec\\xa7\\x80</a\\n>\\n<a\\nhref=\"http://newsstand.naver.com/?list=&pcode=477\"\\ntarget=\"_blank\"\\nclass=\"btn_popup\"\\ndata-clk=\"logo\"\\ndata-pid=\"477\"\\n>\\xea\\xb8\\xb0\\xec\\x82\\xac\\xeb\\xb3\\xb4\\xea\\xb8\\xb0</a\\n>\\n</div>\\n</div>\\n<div\\nclass=\"thumb_box _NM_NEWSSTAND_THUMB _NM_NEWSSTAND_THUMB_press_valid\"\\ndata-pid=\"813\"\\n>\\n<a href=\"#\" class=\"thumb\">\\n<img\\nsrc=\"https://s.pstatic.net/static/newsstand/up/2020/1228/nsd102538785.png\"\\nheight=\"20\"\\nalt=\"\\xec\\x9d\\xb4\\xec\\xbd\\x94\\xeb\\x85\\xb8\\xeb\\xaf\\xb9\\xeb\\xa6\\xac\\xeb\\xb7\\xb0\"\\nclass=\"news_logo\"\\n/>\\n<span class=\"thumb_dim\"></span\\n></a>\\n<div class=\"popup_wrap\">\\n<a\\nhref=\"#\"\\nrole=\"button\"\\nclass=\"btn_popup _NM_NEWSSTAND_THUMB_subscribe_press\"\\ndata-pid=\"813\"\\ndata-clk=\"sub\"\\n>\\xea\\xb5\\xac\\xeb\\x8f\\x85</a\\n>\\n<a\\nhref=\"#\"\\nrole=\"button\"\\nclass=\"btn_popup _NM_NEWSSTAND_THUMB_unsubscribe_press\"\\ndata-pid=\"813\"\\ndata-clk=\"unsub\"\\n>\\xed\\x95\\xb4\\xec\\xa7\\x80</a\\n>\\n<a\\nhref=\"http://newsstand.naver.com/?list=&pcode=813\"\\ntarget=\"_blank\"\\nclass=\"btn_popup\"\\ndata-clk=\"logo\"\\ndata-pid=\"813\"\\n>\\xea\\xb8\\xb0\\xec\\x82\\xac\\xeb\\xb3\\xb4\\xea\\xb8\\xb0</a\\n>\\n</div>\\n</div>\\n</div>\\n</div>\\n</div>\\n  </div> <div class=\"ly_popup NM_NEWSSTAND_POPUP NM_NEWSSTAND_invalid\" style=\"display:none\"> <a href=\"#\" role=\"button\" class=\"btn_close NM_NEWSSTAND_POPUP_CLOSE\"><i class=\"ico_close\"></i><span class=\"blind\">\\xeb\\x8b\\xab\\xea\\xb8\\xb0</span></a> <p class=\"popup_msg\">\\xed\\x95\\xb4\\xeb\\x8b\\xb9 \\xec\\x96\\xb8\\xeb\\xa1\\xa0\\xec\\x82\\xac \\xec\\x82\\xac\\xec\\xa0\\x95\\xec\\x9c\\xbc\\xeb\\xa1\\x9c \\xec\\xa0\\x91\\xea\\xb7\\xbc\\xec\\x9d\\xb4 \\xec\\xa0\\x9c\\xed\\x95\\x9c\\xeb\\x90\\xa9\\xeb\\x8b\\x88\\xeb\\x8b\\xa4.</p> <div class=\"popup_btn\"> <a href=\"#\" role=\"button\" class=\"btn_confirm NM_NEWSSTAND_POPUP_CLOSE\">\\xed\\x99\\x95\\xec\\x9d\\xb8</a> </div> </div> <div class=\"ly_popup NM_NEWSSTAND_POPUP NM_NEWSSTAND_undescribe_confirm\" style=\"display:none\" data-clk-sub=\"*a\"> <a href=\"#\" role=\"button\" class=\"btn_close NM_NEWSSTAND_POPUP_CLOSE\" data-clk=\"usclose\"><i class=\"ico_close\"></i><span class=\"blind\">\\xeb\\x8b\\xab\\xea\\xb8\\xb0</span></a> <p class=\"popup_msg\"><strong class=\"NM_NEWSSTAND_POPUP_PNAME\"></strong>\\xec\\x9d\\x84(\\xeb\\xa5\\xbc)<br/>\\xea\\xb5\\xac\\xeb\\x8f\\x85\\xed\\x95\\xb4\\xec\\xa7\\x80 \\xed\\x95\\x98\\xec\\x8b\\x9c\\xea\\xb2\\xa0\\xec\\x8a\\xb5\\xeb\\x8b\\x88\\xea\\xb9\\x8c?</p> <div class=\"popup_btn\"> <a href=\"#\" role=\"button\" class=\"btn_confirm NM_NEWSSTAND_POPUP_CONFIRM\" data-clk=\"usdone\">\\xed\\x99\\x95\\xec\\x9d\\xb8</a> <a href=\"#\" role=\"button\" class=\"btn_confirm NM_NEWSSTAND_POPUP_CLOSE\" data-clk=\"uscancel\">\\xec\\xb7\\xa8\\xec\\x86\\x8c</a> </div> </div> <div class=\"ly_toast NM_NEWSSTAND_TOAST\" style=\"display:none\"> <p class=\"toast_msg\">\\xea\\xb5\\xac\\xeb\\x8f\\x85\\xed\\x95\\x9c \\xec\\x96\\xb8\\xeb\\xa1\\xa0\\xec\\x82\\xac\\xec\\x97\\x90 \\xec\\xb6\\x94\\xea\\xb0\\x80\\xeb\\x90\\x98\\xec\\x97\\x88\\xec\\x8a\\xb5\\xeb\\x8b\\x88\\xeb\\x8b\\xa4.</p> </div> </div> <div id=\"NM_NEWSSTAND_MY_LIST\" class=\"group_news\" style=\"display:none\" data-clk-prefix=\"nsd_myn\"> <a href=\"#\" role=\"button\" class=\"pm_btn_prev_l _NM_NEWSSTAND_LIST_prev_btn\" data-clk-custom=\"prev\"><i class=\"ico_btn\"></i><span class=\"blind\">\\xec\\x9d\\xb4\\xec\\xa0\\x84</span></a> <a href=\"#\" role=\"button\" class=\"pm_btn_next_l _NM_NEWSSTAND_LIST_next_btn\" data-clk-custom=\"next\"><i class=\"ico_btn\"></i><span class=\"blind\">\\xeb\\x8b\\xa4\\xec\\x9d\\x8c</span><span class=\"blind\">\\xeb\\x8b\\xa4\\xec\\x9d\\x8c</span></a> <div class=\"list_view\"> <div class=\"option_area\"> <div class=\"list_option_wrap\"> <ul class=\"list_option _NM_NEWSSTAND_MY_presslist\"> <!-- nvpaperlist:empty --> </ul> </div> </div> <div class=\"_NM_NEWSSTAND_ARTICLE_CONTAINER\" data-clk-sub=\"*a\">  </div> </div> <div class=\"ly_popup NM_NEWSSTAND_POPUP NM_NEWSSTAND_invalid\" style=\"display:none\"> <a href=\"#\" role=\"button\" class=\"btn_close NM_NEWSSTAND_POPUP_CLOSE\"><i class=\"ico_close\"></i><span class=\"blind\">\\xeb\\x8b\\xab\\xea\\xb8\\xb0</span></a> <p class=\"popup_msg\">\\xed\\x95\\xb4\\xeb\\x8b\\xb9 \\xec\\x96\\xb8\\xeb\\xa1\\xa0\\xec\\x82\\xac \\xec\\x82\\xac\\xec\\xa0\\x95\\xec\\x9c\\xbc\\xeb\\xa1\\x9c \\xec\\xa0\\x91\\xea\\xb7\\xbc\\xec\\x9d\\xb4 \\xec\\x9d\\xbc\\xec\\x8b\\x9c \\xec\\xa0\\x9c\\xed\\x95\\x9c\\xeb\\x90\\xa9\\xeb\\x8b\\x88\\xeb\\x8b\\xa4.</p> <div class=\"popup_btn\"> <a href=\"#\" role=\"button\" class=\"btn_confirm NM_NEWSSTAND_POPUP_CLOSE\">\\xed\\x99\\x95\\xec\\x9d\\xb8</a> </div> </div> <div class=\"ly_popup NM_NEWSSTAND_POPUP NM_NEWSSTAND_undescribe_confirm\" style=\"display:none\" data-clk-sub=\"*a\"> <a href=\"#\" role=\"button\" class=\"btn_close NM_NEWSSTAND_POPUP_CLOSE\" data-clk=\"usclose\"><i class=\"ico_close\"></i><span class=\"blind\">\\xeb\\x8b\\xab\\xea\\xb8\\xb0</span></a> <p class=\"popup_msg\"><strong class=\"NM_NEWSSTAND_POPUP_PNAME\"></strong>\\xec\\x9d\\x84(\\xeb\\xa5\\xbc)<br>\\xea\\xb5\\xac\\xeb\\x8f\\x85\\xed\\x95\\xb4\\xec\\xa7\\x80 \\xed\\x95\\x98\\xec\\x8b\\x9c\\xea\\xb2\\xa0\\xec\\x8a\\xb5\\xeb\\x8b\\x88\\xea\\xb9\\x8c?</p> <div class=\"popup_btn\"> <a href=\"#\" role=\"button\" class=\"btn_confirm NM_NEWSSTAND_POPUP_CONFIRM\" data-clk=\"usdone\">\\xed\\x99\\x95\\xec\\x9d\\xb8</a> <a href=\"#\" role=\"button\" class=\"btn_confirm NM_NEWSSTAND_POPUP_CLOSE\" data-clk=\"uscancel\">\\xec\\xb7\\xa8\\xec\\x86\\x8c</a> </div> </div> </div> <div id=\"NM_NEWSSTAND_MY_THUMB\" class=\"group_news\" style=\"display:none\" data-clk-prefix=\"nsd_myn\"> <a href=\"#\" role=\"button\" class=\"pm_btn_prev_l _NM_UI_PAGE_PREV\" data-clk-custom=\"prev\"><i class=\"ico_btn\"><span class=\"blind\">\\xec\\x9d\\xb4\\xec\\xa0\\x84</span></i></a> <a href=\"#\" role=\"button\" class=\"pm_btn_next_l _NM_UI_PAGE_NEXT\" data-clk-custom=\"next\"><i class=\"ico_btn\"><span class=\"blind\">\\xeb\\x8b\\xa4\\xec\\x9d\\x8c</span></i></a> <div class=\"_NM_UI_PAGE_CONTAINER\" data-clk-sub=\"*p\"></div> <div class=\"ly_popup NM_NEWSSTAND_POPUP NM_NEWSSTAND_invalid\" style=\"display:none\"> <a href=\"#\" role=\"button\" class=\"btn_close NM_NEWSSTAND_POPUP_CLOSE\"><i class=\"ico_close\"></i><span class=\"blind\">\\xeb\\x8b\\xab\\xea\\xb8\\xb0</span></a> <p class=\"popup_msg\">\\xed\\x95\\xb4\\xeb\\x8b\\xb9 \\xec\\x96\\xb8\\xeb\\xa1\\xa0\\xec\\x82\\xac \\xec\\x82\\xac\\xec\\xa0\\x95\\xec\\x9c\\xbc\\xeb\\xa1\\x9c \\xec\\xa0\\x91\\xea\\xb7\\xbc\\xec\\x9d\\xb4 \\xec\\xa0\\x9c\\xed\\x95\\x9c\\xeb\\x90\\xa9\\xeb\\x8b\\x88\\xeb\\x8b\\xa4.</p> <div class=\"popup_btn\"> <a href=\"#\" role=\"button\" class=\"btn_confirm NM_NEWSSTAND_POPUP_CLOSE\">\\xed\\x99\\x95\\xec\\x9d\\xb8</a> </div> </div> <div class=\"ly_popup NM_NEWSSTAND_POPUP NM_NEWSSTAND_undescribe_confirm\" style=\"display:none\" data-clk-sub=\"*a\"> <a href=\"#\" role=\"button\" class=\"btn_close NM_NEWSSTAND_POPUP_CLOSE\" data-clk=\"usclose\"><i class=\"ico_close\"></i><span class=\"blind\">\\xeb\\x8b\\xab\\xea\\xb8\\xb0</span></a> <p class=\"popup_msg\"><strong class=\"NM_NEWSSTAND_POPUP_PNAME\"></strong>\\xec\\x9d\\x84(\\xeb\\xa5\\xbc)<br>\\xea\\xb5\\xac\\xeb\\x8f\\x85\\xed\\x95\\xb4\\xec\\xa7\\x80 \\xed\\x95\\x98\\xec\\x8b\\x9c\\xea\\xb2\\xa0\\xec\\x8a\\xb5\\xeb\\x8b\\x88\\xea\\xb9\\x8c?</p> <div class=\"popup_btn\"> <a href=\"#\" role=\"button\" class=\"btn_confirm NM_NEWSSTAND_POPUP_CONFIRM\" data-clk=\"usdone\">\\xed\\x99\\x95\\xec\\x9d\\xb8</a> <a href=\"#\" role=\"button\" class=\"btn_confirm NM_NEWSSTAND_POPUP_CLOSE\" data-clk=\"uscancel\">\\xec\\xb7\\xa8\\xec\\x86\\x8c</a> </div> </div> </div> <div id=\"NM_NEWSSTAND_MY_EMPTY\" class=\"group_news\" style=\"display:none\"> <div class=\"error_view\"> <div class=\"error_area\"> <strong class=\"error_msg\">\\xea\\xb5\\xac\\xeb\\x8f\\x85\\xed\\x95\\x9c \\xec\\x96\\xb8\\xeb\\xa1\\xa0\\xec\\x82\\xac\\xea\\xb0\\x80 \\xec\\x97\\x86\\xec\\x8a\\xb5\\xeb\\x8b\\x88\\xeb\\x8b\\xa4.</strong> <p class=\"dsc_msg\">\\xec\\x96\\xb8\\xeb\\xa1\\xa0\\xec\\x82\\xac \\xea\\xb5\\xac\\xeb\\x8f\\x85 \\xec\\x84\\xa4\\xec\\xa0\\x95\\xec\\x97\\x90\\xec\\x84\\x9c \\xea\\xb4\\x80\\xec\\x8b\\xac\\xec\\x9e\\x88\\xeb\\x8a\\x94 \\xec\\x96\\xb8\\xeb\\xa1\\xa0\\xec\\x82\\xac\\xeb\\xa5\\xbc \\xea\\xb5\\xac\\xeb\\x8f\\x85\\xed\\x95\\x98\\xec\\x8b\\x9c\\xeb\\xa9\\xb4<br>\\xec\\x96\\xb8\\xeb\\xa1\\xa0\\xec\\x82\\xac\\xea\\xb0\\x80 \\xec\\xa7\\x81\\xec\\xa0\\x91 \\xed\\x8e\\xb8\\xec\\xa7\\x91\\xed\\x95\\x9c \\xeb\\x89\\xb4\\xec\\x8a\\xa4\\xeb\\x93\\xa4\\xec\\x9d\\x84 \\xeb\\x84\\xa4\\xec\\x9d\\xb4\\xeb\\xb2\\x84 \\xed\\x99\\x88\\xec\\x97\\x90\\xec\\x84\\x9c \\xeb\\xb0\\x94\\xeb\\xa1\\x9c \\xeb\\xb3\\xb4\\xec\\x8b\\xa4 \\xec\\x88\\x98 \\xec\\x9e\\x88\\xec\\x8a\\xb5\\xeb\\x8b\\x88\\xeb\\x8b\\xa4.</p> <a href=\"http://newsstand.naver.com/config.html\" class=\"link_redirect\" target=\"_blank\">\\xec\\x96\\xb8\\xeb\\xa1\\xa0\\xec\\x82\\xac \\xea\\xb5\\xac\\xeb\\x8f\\x85 \\xec\\x84\\xa4\\xec\\xa0\\x95\\xed\\x95\\x98\\xea\\xb8\\xb0</a> </div> </div> </div> </div> </div> <!-- EMPTY --> <div id=\"NM_THEMECAST_CONTENTS_CONTAINER\"> <div id=\"themecast\" class=\"sc_themecast id_gameapp\" >\\n\\t<h2 class=\"blind\">\\xec\\xa3\\xbc\\xec\\xa0\\x9c\\xeb\\xb3\\x84 \\xec\\xba\\x90\\xec\\x8a\\xa4\\xed\\x8a\\xb8</h2>\\n\\t<div class=\"theme_head\">\\n\\t\\t<div class=\"group_title\">\\n\\t<div class=\"title_area\">\\n\\t\\t<strong class=\"title\">\\xec\\x98\\xa4\\xeb\\x8a\\x98 \\xec\\x9d\\xbd\\xec\\x9d\\x84\\xeb\\xa7\\x8c\\xed\\x95\\x9c \\xea\\xb8\\x80</strong><span class=\"dsc\">\\xec\\xa3\\xbc\\xec\\xa0\\x9c\\xeb\\xb3\\x84\\xeb\\xa1\\x9c \\xeb\\xb6\\x84\\xeb\\xa5\\x98\\xeb\\x90\\x9c \\xeb\\x8b\\xa4\\xec\\x96\\x91\\xed\\x95\\x9c \\xea\\xb8\\x80 \\xeb\\xaa\\xa8\\xec\\x9d\\x8c</span>\\n\\t</div>\\n\\t<div class=\"info_area\">\\n\\t\\t\\n\\t\\t\\t<span class=\"info\"><strong class=\"new\">973</strong> \\xea\\xb0\\x9c\\xec\\x9d\\x98 \\xea\\xb8\\x80</span>\\n\\t\\t\\n\\t\\t<a id=\"NM_THEME_EDIT_SET\" href=\"#\" role=\"button\" class=\"btn_set\" data-clk=\"tca.like\">\\xea\\xb4\\x80\\xec\\x8b\\xac\\xec\\xa3\\xbc\\xec\\xa0\\x9c \\xec\\x84\\xa4\\xec\\xa0\\x95</a>\\n\\t</div>\\n</div>\\n<div id=\"NM_THEME_CATE_GROUPS\" class=\"group_category\" data-demo-key=\"default\">\\n\\t<div class=\"main_category\">\\n\\t\\t<a href=\"#\" role=\"button\" class=\"pm_btn_prev NM_THEME_PREV\" data-clk=\"tct.prev\" style=\"display: none;\">\\n\\t\\t\\t<i class=\"ico_btn\"><span class=\"blind\">\\xec\\x9d\\xb4\\xec\\xa0\\x84</span></i>\\n\\t\\t</a>\\n\\t\\t<a href=\"#\" role=\"button\" class=\"pm_btn_next NM_THEME_NEXT\" data-clk=\"tct.next\" style=\"display: none;\">\\n\\t\\t\\t<i class=\"ico_btn\"><span class=\"blind\">\\xeb\\x8b\\xa4\\xec\\x9d\\x8c</span></i>\\n\\t\\t</a>\\n\\t\\t<div id=\"NM_THEME_CATE_FLICK\" class=\"_NM_UI_PAGE_CONTAINER\" style=\"height: 49px; overflow: hidden;\">\\n\\t\\t\\t\\n\\t\\t\\t\\t<div style=\"width: 750px;\">\\n\\t\\t\\t\\t\\t<ul class=\"list_category\" role=\"tablist\">\\n\\t\\t\\t\\t\\t\\t\\n\\t\\t\\t\\t\\t\\t\\t<li class=\"category_item\" role=\"presentation\">\\n\\t\\t\\t\\t\\t\\t\\t\\t\\n\\t\\t\\t\\t\\t\\t\\t\\t\\n\\t\\t\\t\\t\\t\\t\\t\\t<a href=\"#\" role=\"tab\" class=\"_NM_THEME_CATE tab id_enter\"\\n\\t\\t\\t\\t\\t\\t\\t\\t   aria-selected=\"false\"\\n\\t\\t\\t\\t\\t\\t\\t\\t   data-clk=\"tct.tvc\" data-panel-code=\"ENTER\">\\xec\\x97\\x94\\xed\\x84\\xb0</a>\\n\\t\\t\\t\\t\\t\\t\\t</li>\\n\\t\\t\\t\\t\\t\\t\\n\\t\\t\\t\\t\\t\\t\\t<li class=\"category_item\" role=\"presentation\">\\n\\t\\t\\t\\t\\t\\t\\t\\t\\n\\t\\t\\t\\t\\t\\t\\t\\t\\n\\t\\t\\t\\t\\t\\t\\t\\t<a href=\"#\" role=\"tab\" class=\"_NM_THEME_CATE tab id_sports\"\\n\\t\\t\\t\\t\\t\\t\\t\\t   aria-selected=\"false\"\\n\\t\\t\\t\\t\\t\\t\\t\\t   data-clk=\"tct.spo\" data-panel-code=\"SPORTS\">\\xec\\x8a\\xa4\\xed\\x8f\\xac\\xec\\xb8\\xa0</a>\\n\\t\\t\\t\\t\\t\\t\\t</li>\\n\\t\\t\\t\\t\\t\\t\\n\\t\\t\\t\\t\\t\\t\\t<li class=\"category_item\" role=\"presentation\">\\n\\t\\t\\t\\t\\t\\t\\t\\t\\n\\t\\t\\t\\t\\t\\t\\t\\t\\n\\t\\t\\t\\t\\t\\t\\t\\t<a href=\"#\" role=\"tab\" class=\"_NM_THEME_CATE tab id_cargame\"\\n\\t\\t\\t\\t\\t\\t\\t\\t   aria-selected=\"false\"\\n\\t\\t\\t\\t\\t\\t\\t\\t   data-clk=\"tct.aut\" data-panel-code=\"CARGAME\">\\xec\\x9e\\x90\\xeb\\x8f\\x99\\xec\\xb0\\xa8</a>\\n\\t\\t\\t\\t\\t\\t\\t</li>\\n\\t\\t\\t\\t\\t\\t\\n\\t\\t\\t\\t\\t\\t\\t<li class=\"category_item\" role=\"presentation\">\\n\\t\\t\\t\\t\\t\\t\\t\\t\\n\\t\\t\\t\\t\\t\\t\\t\\t\\n\\t\\t\\t\\t\\t\\t\\t\\t<a href=\"#\" role=\"tab\" class=\"_NM_THEME_CATE tab id_bboom\"\\n\\t\\t\\t\\t\\t\\t\\t\\t   aria-selected=\"false\"\\n\\t\\t\\t\\t\\t\\t\\t\\t   data-clk=\"tct.web\" data-panel-code=\"BBOOM\">\\xec\\x9b\\xb9\\xed\\x88\\xb0</a>\\n\\t\\t\\t\\t\\t\\t\\t</li>\\n\\t\\t\\t\\t\\t\\t\\n\\t\\t\\t\\t\\t\\t\\t<li class=\"category_item\" role=\"presentation\">\\n\\t\\t\\t\\t\\t\\t\\t\\t\\n\\t\\t\\t\\t\\t\\t\\t\\t\\n\\t\\t\\t\\t\\t\\t\\t\\t<a href=\"#\" role=\"tab\" class=\"_NM_THEME_CATE tab id_finance\"\\n\\t\\t\\t\\t\\t\\t\\t\\t   aria-selected=\"false\"\\n\\t\\t\\t\\t\\t\\t\\t\\t   data-clk=\"tct.fin\" data-panel-code=\"FINANCE\">\\xea\\xb2\\xbd\\xec\\xa0\\x9cM</a>\\n\\t\\t\\t\\t\\t\\t\\t</li>\\n\\t\\t\\t\\t\\t\\t\\n\\t\\t\\t\\t\\t\\t\\t<li class=\"category_item\" role=\"presentation\">\\n\\t\\t\\t\\t\\t\\t\\t\\t\\n\\t\\t\\t\\t\\t\\t\\t\\t\\n\\t\\t\\t\\t\\t\\t\\t\\t<a href=\"#\" role=\"tab\" class=\"_NM_THEME_CATE tab id_myfeed\"\\n\\t\\t\\t\\t\\t\\t\\t\\t   aria-selected=\"false\"\\n\\t\\t\\t\\t\\t\\t\\t\\t   data-clk=\"tct.sub\" data-panel-code=\"MYFEED\">MY\\xea\\xb5\\xac\\xeb\\x8f\\x85</a>\\n\\t\\t\\t\\t\\t\\t\\t</li>\\n\\t\\t\\t\\t\\t\\t\\n\\t\\t\\t\\t\\t\\t\\t<li class=\"category_item\" role=\"presentation\">\\n\\t\\t\\t\\t\\t\\t\\t\\t\\n\\t\\t\\t\\t\\t\\t\\t\\t\\n\\t\\t\\t\\t\\t\\t\\t\\t<a href=\"#\" role=\"tab\" class=\"_NM_THEME_CATE tab id_living\"\\n\\t\\t\\t\\t\\t\\t\\t\\t   aria-selected=\"false\"\\n\\t\\t\\t\\t\\t\\t\\t\\t   data-clk=\"tct.fod\" data-panel-code=\"LIVING\">\\xeb\\xa0\\x88\\xec\\x8b\\x9c\\xed\\x94\\xbc</a>\\n\\t\\t\\t\\t\\t\\t\\t</li>\\n\\t\\t\\t\\t\\t\\t\\n\\t\\t\\t\\t\\t\\t\\t<li class=\"category_item\" role=\"presentation\">\\n\\t\\t\\t\\t\\t\\t\\t\\t\\n\\t\\t\\t\\t\\t\\t\\t\\t\\n\\t\\t\\t\\t\\t\\t\\t\\t<a href=\"#\" role=\"tab\" class=\"_NM_THEME_CATE tab id_gameapp\"\\n\\t\\t\\t\\t\\t\\t\\t\\t   aria-selected=\"true\"\\n\\t\\t\\t\\t\\t\\t\\t\\t   data-clk=\"tct.gam\" data-panel-code=\"GAMEAPP\">\\xea\\xb2\\x8c\\xec\\x9e\\x84</a>\\n\\t\\t\\t\\t\\t\\t\\t</li>\\n\\t\\t\\t\\t\\t\\t\\n\\t\\t\\t\\t\\t</ul>\\n\\t\\t\\t\\t</div>\\n\\t\\t\\t\\n\\t\\t\\t\\t<div style=\"width: 750px;\">\\n\\t\\t\\t\\t\\t<ul class=\"list_category\" role=\"tablist\">\\n\\t\\t\\t\\t\\t\\t\\n\\t\\t\\t\\t\\t\\t\\t<li class=\"category_item\" role=\"presentation\">\\n\\t\\t\\t\\t\\t\\t\\t\\t\\n\\t\\t\\t\\t\\t\\t\\t\\t\\n\\t\\t\\t\\t\\t\\t\\t\\t<a href=\"#\" role=\"tab\" class=\"_NM_THEME_CATE tab id_science\"\\n\\t\\t\\t\\t\\t\\t\\t\\t   aria-selected=\"false\"\\n\\t\\t\\t\\t\\t\\t\\t\\t   data-clk=\"tct.sci\" data-panel-code=\"SCIENCE\">\\xea\\xb3\\xbc\\xed\\x95\\x99</a>\\n\\t\\t\\t\\t\\t\\t\\t</li>\\n\\t\\t\\t\\t\\t\\t\\n\\t\\t\\t\\t\\t\\t\\t<li class=\"category_item\" role=\"presentation\">\\n\\t\\t\\t\\t\\t\\t\\t\\t\\n\\t\\t\\t\\t\\t\\t\\t\\t\\n\\t\\t\\t\\t\\t\\t\\t\\t<a href=\"#\" role=\"tab\" class=\"_NM_THEME_CATE tab id_livinghome\"\\n\\t\\t\\t\\t\\t\\t\\t\\t   aria-selected=\"false\"\\n\\t\\t\\t\\t\\t\\t\\t\\t   data-clk=\"tct.lif\" data-panel-code=\"LIVINGHOME\">\\xeb\\xa6\\xac\\xeb\\xb9\\x99</a>\\n\\t\\t\\t\\t\\t\\t\\t</li>\\n\\t\\t\\t\\t\\t\\t\\n\\t\\t\\t\\t\\t\\t\\t<li class=\"category_item\" role=\"presentation\">\\n\\t\\t\\t\\t\\t\\t\\t\\t\\n\\t\\t\\t\\t\\t\\t\\t\\t\\n\\t\\t\\t\\t\\t\\t\\t\\t<a href=\"#\" role=\"tab\" class=\"_NM_THEME_CATE tab id_health\"\\n\\t\\t\\t\\t\\t\\t\\t\\t   aria-selected=\"false\"\\n\\t\\t\\t\\t\\t\\t\\t\\t   data-clk=\"tct.hea\" data-panel-code=\"HEALTH\">\\xea\\xb1\\xb4\\xea\\xb0\\x95</a>\\n\\t\\t\\t\\t\\t\\t\\t</li>\\n\\t\\t\\t\\t\\t\\t\\n\\t\\t\\t\\t\\t\\t\\t<li class=\"category_item\" role=\"presentation\">\\n\\t\\t\\t\\t\\t\\t\\t\\t\\n\\t\\t\\t\\t\\t\\t\\t\\t\\n\\t\\t\\t\\t\\t\\t\\t\\t<a href=\"#\" role=\"tab\" class=\"_NM_THEME_CATE tab id_culture\"\\n\\t\\t\\t\\t\\t\\t\\t\\t   aria-selected=\"false\"\\n\\t\\t\\t\\t\\t\\t\\t\\t   data-clk=\"tct.bok\" data-panel-code=\"CULTURE\">\\xec\\xb1\\x85\\xeb\\xb0\\xa9</a>\\n\\t\\t\\t\\t\\t\\t\\t</li>\\n\\t\\t\\t\\t\\t\\t\\n\\t\\t\\t\\t\\t\\t\\t<li class=\"category_item\" role=\"presentation\">\\n\\t\\t\\t\\t\\t\\t\\t\\t\\n\\t\\t\\t\\t\\t\\t\\t\\t\\n\\t\\t\\t\\t\\t\\t\\t\\t<a href=\"#\" role=\"tab\" class=\"_NM_THEME_CATE tab id_momkids\"\\n\\t\\t\\t\\t\\t\\t\\t\\t   aria-selected=\"false\"\\n\\t\\t\\t\\t\\t\\t\\t\\t   data-clk=\"tct.mom\" data-panel-code=\"MOMKIDS\">\\xeb\\xb6\\x80\\xeb\\xaa\\xa8i</a>\\n\\t\\t\\t\\t\\t\\t\\t</li>\\n\\t\\t\\t\\t\\t\\t\\n\\t\\t\\t\\t\\t\\t\\t<li class=\"category_item\" role=\"presentation\">\\n\\t\\t\\t\\t\\t\\t\\t\\t\\n\\t\\t\\t\\t\\t\\t\\t\\t\\n\\t\\t\\t\\t\\t\\t\\t\\t<a href=\"#\" role=\"tab\" class=\"_NM_THEME_CATE tab id_beauty\"\\n\\t\\t\\t\\t\\t\\t\\t\\t   aria-selected=\"false\"\\n\\t\\t\\t\\t\\t\\t\\t\\t   data-clk=\"tct.bty\" data-panel-code=\"BEAUTY\">\\xed\\x8c\\xa8\\xec\\x85\\x98\\xeb\\xb7\\xb0\\xed\\x8b\\xb0</a>\\n\\t\\t\\t\\t\\t\\t\\t</li>\\n\\t\\t\\t\\t\\t\\t\\n\\t\\t\\t\\t\\t\\t\\t<li class=\"category_item\" role=\"presentation\">\\n\\t\\t\\t\\t\\t\\t\\t\\t\\n\\t\\t\\t\\t\\t\\t\\t\\t\\n\\t\\t\\t\\t\\t\\t\\t\\t<a href=\"#\" role=\"tab\" class=\"_NM_THEME_CATE tab id_with\"\\n\\t\\t\\t\\t\\t\\t\\t\\t   aria-selected=\"false\"\\n\\t\\t\\t\\t\\t\\t\\t\\t   data-clk=\"tct.pub\" data-panel-code=\"WITH\">\\xed\\x95\\xa8\\xea\\xbb\\x98N</a>\\n\\t\\t\\t\\t\\t\\t\\t</li>\\n\\t\\t\\t\\t\\t\\t\\n\\t\\t\\t\\t\\t</ul>\\n\\t\\t\\t\\t</div>\\n\\t\\t\\t\\n\\t\\t</div>\\n\\t</div>\\n</div>\\n\\n\\t</div>\\n\\t<div id=\"NM_THEME_CONTAINER\" class=\"theme_cont\" data-panel-code=\"GAMEAPP\" data-parent-code=\"\">\\n\\t\\t<div class=\"group_notice\">\\n\\t<div class=\"notice_area\">\\n\\t\\t\\n\\t\\t\\t\\n\\t\\t\\t\\t<a href=\"https://blog.naver.com/navergame/222611596089\" class=\"link_more\" target=\"_blank\">\\xec\\x9e\\x90\\xec\\x84\\xb8\\xed\\x9e\\x88\\xeb\\xb3\\xb4\\xea\\xb8\\xb0</a>\\n\\t\\t\\t\\n\\t\\t\\t\\n\\t\\t\\n\\t\\t\\n\\t\\t<div class=\"notice_box\">\\n\\t\\t\\t<strong class=\"badge_notice\">\\xea\\xb3\\xb5\\xec\\xa7\\x80</strong>\\n\\t\\t\\t\\n\\t\\t\\t\\t<p class=\"notice\"><strong class=\"highlight\">1\\xec\\x9b\\x94 27\\xec\\x9d\\xbc</strong> \\xea\\xb2\\x8c\\xec\\x9e\\x84 \\xec\\xa3\\xbc\\xec\\xa0\\x9c\\xed\\x8c\\x90 \\xec\\x84\\x9c\\xeb\\xb9\\x84\\xec\\x8a\\xa4\\xea\\xb0\\x80 <strong class=\"highlight\">\\xec\\xa2\\x85\\xeb\\xa3\\x8c</strong>\\xeb\\x90\\xa0 \\xec\\x98\\x88\\xec\\xa0\\x95\\xec\\x9e\\x85\\xeb\\x8b\\x88\\xeb\\x8b\\xa4.</p>\\n\\t\\t\\t\\n\\t\\t\\t\\n\\t\\t</div>\\n\\t\\t\\n\\t</div>\\n</div>\\n\\n<div class=\"group_theme\" data-block-id=\"\" data-block-code=\"PC-THEME-GAMEAPP-MOBILE-RANKING-DEFAULT-0\" data-block-type=\"MATERIALS\" data-template-code=\"MOBILE-RANKING-LIST\"\\n\\n\\t data-da=\"container\"\\n\\t data-index=\"\"\\n     data-page=\"1\"\\n\\t >\\n\\n\\t<div class=\"list_theme_wrap\">\\n\\t\\t<ul class=\"list_theme\">\\n\\t\\t\\t\\n\\t\\t\\t\\t<li class=\"theme_item\" data-gdid=\"CAS_dd51f643-6ed8-11ec-8dd3-b9f9a9849572\" data-da-position=\"true\">\\n\\t\\t\\t\\t\\t<a href=\"https://post.naver.com/viewer/postView.naver?volumeNo&#x3D;33024338&amp;memberNo&#x3D;6272246\" class=\"theme_thumb\" data-clk=\"tcc_gam.list1cont1\" target=\"_blank\">\\n\\t\\t\\t\\t\\t\\t<img src=\"https://s.pstatic.net/dthumb.phinf/?src&#x3D;%22https%3A%2F%2Fs.pstatic.net%2Fstatic%2Fwww%2Fmobile%2Fedit%2F20220106_1095%2Fupload_1641463915377qrPAC.jpg%22&amp;type&#x3D;nf340_228\" data-src=\"https://s.pstatic.net/dthumb.phinf/?src&#x3D;%22https%3A%2F%2Fs.pstatic.net%2Fstatic%2Fwww%2Fmobile%2Fedit%2F20220106_1095%2Fupload_1641463915377qrPAC.jpg%22&amp;type&#x3D;nf340_228\" alt=\"\\xea\\xb0\\x88\\xeb\\x9d\\xbd\\xed\\x8b\\xb0\\xec\\xbd\\x94, \\xeb\\x8f\\x99\\xed\\x99\\x94 \\xec\\x86\\x8d \\xec\\xba\\x90\\xeb\\xa6\\xad\\xed\\x84\\xb0 \\xeb\\x93\\xb1\\xec\\x9e\\xa5! \\xeb\\xb9\\xa8\\xea\\xb0\\x84\\xeb\\xa7\\x9d\\xed\\x86\\xa0 \\xec\\xbd\\x94\\xec\\x8a\\xa4\\xed\\x94\\x84\\xeb\\xa0\\x88!\" width=\"170\" height=\"114\" onerror=\"this.outerHTML=\\'<span class=\\\\\\'pm_noimg\\\\\\'><span class=\\\\\\'noimg_text\\\\\\'>\\xec\\x9d\\xb4\\xeb\\xaf\\xb8\\xec\\xa7\\x80 \\xec\\xa4\\x80\\xeb\\xb9\\x84\\xec\\xa4\\x91</span></span>\\'\">\\n\\t\\t\\t\\t\\t\\t<span class=\"thumb_bd\"></span>\\n                        \\n\\t\\t\\t\\t\\t</a>\\n\\t\\t\\t\\t\\t<a href=\"https://post.naver.com/viewer/postView.naver?volumeNo&#x3D;33024338&amp;memberNo&#x3D;6272246\" class=\"theme_info\" data-clk=\"tcc_gam.list1cont1\" target=\"_blank\">\\n\\t\\t\\t\\t\\t\\t<em class=\"theme_category\"> \\xea\\xb2\\x8c\\xec\\x9e\\x84</em>\\n\\t\\t\\t\\t\\t\\t<strong class=\"title elss\">\\xea\\xb0\\x88\\xeb\\x9d\\xbd\\xed\\x8b\\xb0\\xec\\xbd\\x94, \\xeb\\x8f\\x99\\xed\\x99\\x94 \\xec\\x86\\x8d \\xec\\xba\\x90\\xeb\\xa6\\xad\\xed\\x84\\xb0 \\xeb\\x93\\xb1\\xec\\x9e\\xa5! \\xeb\\xb9\\xa8\\xea\\xb0\\x84\\xeb\\xa7\\x9d\\xed\\x86\\xa0 \\xec\\xbd\\x94\\xec\\x8a\\xa4\\xed\\x94\\x84\\xeb\\xa0\\x88!</strong>\\n                        <p class=\"desc\">\\xec\\x95\\x88\\xeb\\x85\\x95\\xed\\x95\\x98\\xec\\x84\\xb8\\xec\\x9a\\x94! RZ COS\\xec\\x9e\\x85\\xeb\\x8b\\x88\\xeb\\x8b\\xa4! \\xec\\x9d\\xb4\\xeb\\xb2\\x88 \\xec\\xa3\\xbc RZ COS \\xed\\x8f\\xac\\xec\\x8a\\xa4\\xed\\x8a\\xb8\\xeb\\x8a\\x94 \\xea\\xb0\\x88\\xeb\\x9d\\xbd\\xed\\x8b\\xb0\\xec\\xbd\\x94 \\xec\\xbd\\x94\\xec\\x8a\\xa4\\xed\\x94\\x84\\xeb\\xa0\\x88\\xeb\\xa1\\x9c \\xec\\x9d\\xb8\\xec\\x82\\xac\\xeb\\x93\\x9c\\xeb\\xa6\\xbd\\xeb\\x8b\\x88\\xeb\\x8b\\xa4.\\xea\\xb0\\x88\\xeb\\x9d\\xbd\\xed\\x8b\\xb0\\xec\\xbd\\x94 GALACTICOS\\xea\\xb0\\x88\\xeb\\x9d\\xbd\\xed\\x8b\\xb0\\xec\\xbd\\x94\\xeb\\x8a\\x94 \\xec\\x9d\\xb4\\xed\\x8e\\x80\\xec\\xbb\\xb4\\xed\\x8d\\xbc\\xeb\\x8b\\x88\\xec\\x97\\x90\\xec\\x84\\x9c \\xec\\x84\\x9c\\xeb\\xb9\\x84\\xec\\x8a\\xa4 \\xec\\x98\\x88\\xec\\xa0\\x95\\xec\\x9d\\xb8 \\xeb\\x8f\\x99\\xed\\x99\\x94\\xed\\x92\\x8d \\xeb\\xaa\\xa8\\xeb\\xb0\\x94\\xec\\x9d\\xbc MMORPG\\xec\\x9d\\xb8\\xeb\\x8d\\xb0\\xec\\x9a\\x94! \\xeb\\x8f\\x99\\xec\\x8b\\xac\\xec\\x9d\\x84 \\xec\\x9e\\x90\\xea\\xb7\\xb9\\xed\\x95\\x98\\xeb\\x8a\\x94 \\xeb\\x8f\\x99\\xed\\x99\\x94 \\xec\\x86\\x8d \\xec\\xba\\x90\\xeb\\xa6\\xad\\xed\\x84\\xb0\\xec\\x99\\x80 \\xed\\x95\\xa8\\xea\\xbb\\x98 \\xeb\\xaa\\xa8\\xed\\x97\\x98\\xec\\x9d\\x84 \\xec\\xa6\\x90\\xea\\xb8\\xb8 \\xec\\x88\\x98 \\xec\\x9e\\x88\\xeb\\x8a\\x94 MMORPG\\xec\\x9e\\x85\\xeb\\x8b\\x88\\xeb\\x8b\\xa4. \\xec\\x95\\x84\\xea\\xb8\\xb0\\xec\\x9e\\x90\\xea\\xb8\\xb0\\xed\\x95\\x9c \\xeb\\xb0\\xb0\\xea\\xb2\\xbd\\xea\\xb3\\xbc \\xec\\x9d\\xb5\\xec\\x88\\x99\\xed\\x95\\x9c \\xeb\\x8f\\x99\\xed\\x99\\x94 \\xec\\x86\\x8d \\xec\\xba\\x90\\xeb\\xa6\\xad\\xed\\x84\\xb0\\xeb\\xa5\\xbc \\xea\\xb8\\xb0\\xeb\\xb0\\x98\\xec\\x9c\\xbc\\xeb\\xa1\\x9c \\xed\\x95\\x9c \\xea\\xb2\\x8c\\xec\\x9e\\x84\\xec\\x84\\xb1\\xec\\x9c\\xbc\\xeb\\xa1\\x9c \\xed\\x98\\xb8\\xec\\x9d\\x91\\xec\\x9d\\x84 \\xec\\x96\\xbb\\xea\\xb3\\xa0 \\xec\\x9e\\x88\\xec\\x8a\\xb5</p>\\n\\t\\t\\t\\t\\t\\t<div class=\"source_box\">\\n\\t\\t\\t\\t\\t\\t\\t<span class=\"date\">1\\xec\\xa3\\xbc\\xec\\x9d\\xbc \\xec\\xa0\\x84</span>\\n\\t\\t\\t\\t\\t\\t\\t<span class=\"source\">\\n                                \\n                                <span class=\"source_inner\">RZ COS</span>\\n                            </span>\\n\\t\\t\\t\\t\\t\\t</div>\\n\\t\\t\\t\\t\\t</a>\\n\\t\\t\\t\\t</li>\\n\\t\\t\\t\\n\\t\\t\\t\\t<li class=\"theme_item\" data-gdid=\"CAS_dd51f642-6ed8-11ec-8dd3-57fc126ed8c4\" data-da-position=\"true\">\\n\\t\\t\\t\\t\\t<a href=\"https://post.naver.com/viewer/postView.naver?volumeNo&#x3D;33036195&amp;memberNo&#x3D;11878375\" class=\"theme_thumb\" data-clk=\"tcc_gam.list1cont2\" target=\"_blank\">\\n\\t\\t\\t\\t\\t\\t<img src=\"https://s.pstatic.net/dthumb.phinf/?src&#x3D;%22https%3A%2F%2Fs.pstatic.net%2Fstatic%2Fwww%2Fmobile%2Fedit%2F20220106_1095%2Fupload_1641463893246bY2kv.jpg%22&amp;type&#x3D;nf340_228\" data-src=\"https://s.pstatic.net/dthumb.phinf/?src&#x3D;%22https%3A%2F%2Fs.pstatic.net%2Fstatic%2Fwww%2Fmobile%2Fedit%2F20220106_1095%2Fupload_1641463893246bY2kv.jpg%22&amp;type&#x3D;nf340_228\" alt=\"\\xec\\x97\\xb0\\xeb\\xa7\\x90 \\xea\\xb2\\xb0\\xec\\x82\\xb0! \\xeb\\xa0\\x88\\xed\\x8a\\xb8\\xeb\\xa1\\x9c \\xea\\xb2\\x8c\\xec\\x9d\\xb4\\xeb\\xa8\\xb8\\xeb\\x93\\xa4\\xec\\x9d\\xb4 2021\\xeb\\x85\\x84\\xec\\x97\\x90 \\xea\\xb0\\x80\\xec\\x9e\\xa5 \\xec\\xa2\\x8b\\xec\\x95\\x84\\xed\\x96\\x88\\xeb\\x8d\\x98 \\xec\\xa3\\xbc\\xec\\xa0\\x9c\\xeb\\x8a\\x94?!?\" width=\"170\" height=\"114\" onerror=\"this.outerHTML=\\'<span class=\\\\\\'pm_noimg\\\\\\'><span class=\\\\\\'noimg_text\\\\\\'>\\xec\\x9d\\xb4\\xeb\\xaf\\xb8\\xec\\xa7\\x80 \\xec\\xa4\\x80\\xeb\\xb9\\x84\\xec\\xa4\\x91</span></span>\\'\">\\n\\t\\t\\t\\t\\t\\t<span class=\"thumb_bd\"></span>\\n                        \\n\\t\\t\\t\\t\\t</a>\\n\\t\\t\\t\\t\\t<a href=\"https://post.naver.com/viewer/postView.naver?volumeNo&#x3D;33036195&amp;memberNo&#x3D;11878375\" class=\"theme_info\" data-clk=\"tcc_gam.list1cont2\" target=\"_blank\">\\n\\t\\t\\t\\t\\t\\t<em class=\"theme_category\"> \\xea\\xb2\\x8c\\xec\\x9e\\x84</em>\\n\\t\\t\\t\\t\\t\\t<strong class=\"title elss\">\\xec\\x97\\xb0\\xeb\\xa7\\x90 \\xea\\xb2\\xb0\\xec\\x82\\xb0! \\xeb\\xa0\\x88\\xed\\x8a\\xb8\\xeb\\xa1\\x9c \\xea\\xb2\\x8c\\xec\\x9d\\xb4\\xeb\\xa8\\xb8\\xeb\\x93\\xa4\\xec\\x9d\\xb4 2021\\xeb\\x85\\x84\\xec\\x97\\x90 \\xea\\xb0\\x80\\xec\\x9e\\xa5 \\xec\\xa2\\x8b\\xec\\x95\\x84\\xed\\x96\\x88\\xeb\\x8d\\x98 \\xec\\xa3\\xbc\\xec\\xa0\\x9c\\xeb\\x8a\\x94?!?</strong>\\n                        <p class=\"desc\">\\xec\\x95\\x88\\xeb\\x85\\x95\\xed\\x95\\x98\\xec\\x84\\xb8\\xec\\x9a\\x94! [\\xea\\xb2\\x9c\\xeb\\x8d\\x95 \\xec\\x97\\xb0\\xea\\xb5\\xac\\xec\\x86\\x8c]\\xeb\\xa5\\xbc \\xec\\x9a\\xb4\\xec\\x98\\x81\\xed\\x95\\x98\\xea\\xb3\\xa0 \\xec\\x9e\\x88\\xeb\\x8a\\x94 \\xec\\xa1\\xb0\\xea\\xb8\\xb0\\xec\\x9e\\x90\\xec\\x9e\\x85\\xeb\\x8b\\x88\\xeb\\x8b\\xa4. \\xec\\x9d\\xb4\\xeb\\xb2\\x88\\xec\\x97\\x90\\xeb\\x8f\\x84 \\xeb\\xa0\\x88\\xed\\x8a\\xb8\\xeb\\xa1\\x9c \\xea\\xb2\\x8c\\xec\\x9e\\x84 \\xec\\xa0\\x84\\xeb\\xac\\xb8\\xea\\xb0\\x80\\xec\\x9d\\xb4\\xec\\x8b\\xa0 \\xea\\xb2\\x80\\xeb\\x96\\xa0 \\xeb\\x8b\\x98\\xec\\x9d\\x84 \\xeb\\xaa\\xa8\\xec\\x85\\xa8\\xec\\x8a\\xb5\\xeb\\x8b\\x88\\xeb\\x8b\\xa4. \\xec\\x9d\\xb4\\xeb\\xb2\\x88 \\xec\\x8b\\x9c\\xea\\xb0\\x84\\xec\\x97\\x90\\xeb\\x8a\\x94 2021\\xeb\\x85\\x84 \\xeb\\xa7\\x88\\xec\\xa7\\x80\\xeb\\xa7\\x89 \\xec\\xa3\\xbc\\xec\\xa0\\x9c\\xeb\\xa1\\x9c, \\xeb\\xa0\\x88\\xed\\x8a\\xb8\\xeb\\xa1\\x9c \\xea\\xb2\\x8c\\xec\\x9d\\xb4\\xeb\\xa8\\xb8\\xeb\\x93\\xa4\\xec\\x9d\\xb4 \\xea\\xb0\\x80\\xec\\x9e\\xa5 \\xea\\xb4\\x80\\xec\\x8b\\xac\\xec\\x9d\\x84 \\xea\\xb0\\x80\\xec\\xa1\\x8c\\xeb\\x8d\\x98 \\xec\\xa3\\xbc\\xec\\xa0\\x9c\\xea\\xb0\\x80 \\xeb\\xac\\xb4\\xec\\x97\\x87\\xec\\x9d\\xb4\\xec\\x97\\x88\\xeb\\x8a\\x94\\xec\\xa7\\x80 \\xec\\x82\\xb4\\xed\\x8e\\xb4\\xeb\\xb3\\xb4\\xeb\\x8f\\x84\\xeb\\xa1\\x9d \\xed\\x95\\x98\\xea\\xb2\\xa0\\xec\\x8a\\xb5\\xeb\\x8b\\x88\\xeb\\x8b\\xa4. [2021\\xeb\\x85\\x84 \\xec\\x97\\xb0\\xeb\\xa7\\x90 \\xeb\\xa7\\x88\\xec\\xa7\\x80\\xeb\\xa7\\x89, 1\\xeb\\x85\\x84\\xec\\x9d\\x84 \\xeb\\x8f\\x8c\\xec\\x95\\x84\\xeb\\xb3\\xb4\\xeb\\x8b\\xa4!]\\xec\\xa1\\xb0\\xea\\xb8\\xb0\\xec\\x9e\\x90 : \\xec\\x95\\x88\\xeb\\x85\\x95\\xed\\x95\\x98\\xec\\x84\\xb8\\xec\\x9a\\x94 \\xea\\xb2\\x80\\xeb\\x96\\xa0\\xeb\\x8b\\x98, \\xec\\xa1\\xb0\\xea\\xb8\\xb0\\xec\\x9e\\x90\\xec\\x9e\\x85\\xeb\\x8b\\x88\\xeb\\x8b\\xa4. 2021\\xeb\\x85\\x84\\xeb\\x8f\\x84 \\xeb\\xa7\\x88\\xec\\xa7\\x80\\xeb\\xa7\\x89\\xec\\x9d\\xb4\\xea\\xb5\\xb0\\xec\\x9a\\x94. \\xeb\\xac\\xbc\\xeb\\xa1\\xa0 </p>\\n\\t\\t\\t\\t\\t\\t<div class=\"source_box\">\\n\\t\\t\\t\\t\\t\\t\\t<span class=\"date\">1\\xec\\xa3\\xbc\\xec\\x9d\\xbc \\xec\\xa0\\x84</span>\\n\\t\\t\\t\\t\\t\\t\\t<span class=\"source\">\\n                                \\n                                <span class=\"source_inner\">\\xea\\xb2\\x8c\\xec\\x9e\\x84\\xeb\\x8f\\x99\\xec\\x95\\x84</span>\\n                            </span>\\n\\t\\t\\t\\t\\t\\t</div>\\n\\t\\t\\t\\t\\t</a>\\n\\t\\t\\t\\t</li>\\n\\t\\t\\t\\n\\t\\t\\t\\t<li class=\"theme_item\" data-gdid=\"CAS_dd51f644-6ed8-11ec-8dd3-c1d2ec6ba4d6\" data-da-position=\"true\">\\n\\t\\t\\t\\t\\t<a href=\"https://post.naver.com/viewer/postView.naver?volumeNo&#x3D;33074580&amp;memberNo&#x3D;31380582\" class=\"theme_thumb\" data-clk=\"tcc_gam.list1cont3\" target=\"_blank\">\\n\\t\\t\\t\\t\\t\\t<img src=\"https://s.pstatic.net/dthumb.phinf/?src&#x3D;%22https%3A%2F%2Fs.pstatic.net%2Fstatic%2Fwww%2Fmobile%2Fedit%2F20220106_1095%2Fupload_1641463940618sLQNA.jpg%22&amp;type&#x3D;nf340_228\" data-src=\"https://s.pstatic.net/dthumb.phinf/?src&#x3D;%22https%3A%2F%2Fs.pstatic.net%2Fstatic%2Fwww%2Fmobile%2Fedit%2F20220106_1095%2Fupload_1641463940618sLQNA.jpg%22&amp;type&#x3D;nf340_228\" alt=\"\\xec\\x9e\\x84\\xec\\x9d\\xb8\\xeb\\x85\\x84 \\xec\\x8b\\x9c\\xec\\x9e\\x91\\xea\\xb3\\xbc \\xed\\x95\\xa8\\xea\\xbb\\x98 \\xec\\xa2\\x81\\xed\\x98\\x80\\xec\\xa7\\x84 \\xeb\\xb6\\x80\\xeb\\xac\\xb8\\xeb\\xb3\\x84 TOP 3 \\xea\\xb0\\x84\\xea\\xb2\\xa9\" width=\"170\" height=\"114\" onerror=\"this.outerHTML=\\'<span class=\\\\\\'pm_noimg\\\\\\'><span class=\\\\\\'noimg_text\\\\\\'>\\xec\\x9d\\xb4\\xeb\\xaf\\xb8\\xec\\xa7\\x80 \\xec\\xa4\\x80\\xeb\\xb9\\x84\\xec\\xa4\\x91</span></span>\\'\">\\n\\t\\t\\t\\t\\t\\t<span class=\"thumb_bd\"></span>\\n                        \\n\\t\\t\\t\\t\\t</a>\\n\\t\\t\\t\\t\\t<a href=\"https://post.naver.com/viewer/postView.naver?volumeNo&#x3D;33074580&amp;memberNo&#x3D;31380582\" class=\"theme_info\" data-clk=\"tcc_gam.list1cont3\" target=\"_blank\">\\n\\t\\t\\t\\t\\t\\t<em class=\"theme_category\"> \\xea\\xb2\\x8c\\xec\\x9e\\x84</em>\\n\\t\\t\\t\\t\\t\\t<strong class=\"title elss\">\\xec\\x9e\\x84\\xec\\x9d\\xb8\\xeb\\x85\\x84 \\xec\\x8b\\x9c\\xec\\x9e\\x91\\xea\\xb3\\xbc \\xed\\x95\\xa8\\xea\\xbb\\x98 \\xec\\xa2\\x81\\xed\\x98\\x80\\xec\\xa7\\x84 \\xeb\\xb6\\x80\\xeb\\xac\\xb8\\xeb\\xb3\\x84 TOP 3 \\xea\\xb0\\x84\\xea\\xb2\\xa9</strong>\\n                        <p class=\"desc\">\\xe2\\x80\\x98\\xea\\xb2\\x8c\\xec\\x9e\\x84\\xed\\x95\\xa0 \\xeb\\x95\\x90! \\xea\\xb5\\xad\\xeb\\xaf\\xbc\\xed\\x8a\\xb8\\xeb\\xa6\\xac\\xe2\\x80\\x99\\xec\\x9d\\x98 2022\\xeb\\x85\\x84 1\\xec\\x9b\\x94 1\\xec\\xa3\\xbc\\xec\\xb0\\xa8 \\xeb\\xb9\\x85\\xeb\\x8d\\xb0\\xec\\x9d\\xb4\\xed\\x84\\xb0 \\xea\\xb2\\x8c\\xec\\x9e\\x84\\xec\\x88\\x9c\\xec\\x9c\\x84\\xec\\x9e\\x85\\xeb\\x8b\\x88\\xeb\\x8b\\xa4. \\xea\\xb5\\xad\\xeb\\xaf\\xbc\\xed\\x8a\\xb8\\xeb\\xa6\\xac\\xeb\\x8a\\x94 \\xeb\\xa7\\xa4\\xec\\xa3\\xbc \\xeb\\x84\\xa4\\xec\\x9d\\xb4\\xeb\\xb2\\x84\\xec\\x99\\x80 \\xea\\xb5\\xac\\xea\\xb8\\x80\\xec\\x9d\\x84 \\xeb\\xb9\\x84\\xeb\\xa1\\xaf\\xed\\x95\\x9c \\xed\\x8f\\xac\\xed\\x84\\xb8 \\xec\\x82\\xac\\xec\\x9d\\xb4\\xed\\x8a\\xb8\\xec\\x9d\\x98 \\xea\\xb2\\x80\\xec\\x83\\x89 \\xeb\\xb9\\x85\\xeb\\x8d\\xb0\\xec\\x9d\\xb4\\xed\\x84\\xb0\\xeb\\xa1\\x9c \\xea\\xb2\\x8c\\xec\\x9e\\x84 \\xec\\x88\\x9c\\xec\\x9c\\x84\\xeb\\xa5\\xbc \\xec\\xa0\\x9c\\xea\\xb3\\xb5\\xed\\x95\\xa9\\xeb\\x8b\\x88\\xeb\\x8b\\xa4. \\xec\\x9d\\xb4\\xeb\\xb2\\x88 \\xec\\xa3\\xbc\\xec\\x97\\x90\\xeb\\x8a\\x94 \\xea\\xb2\\x8c\\xec\\x9d\\xb4\\xeb\\xa8\\xb8\\xeb\\x93\\xa4\\xec\\x9d\\xb4 \\xec\\x96\\xb4\\xeb\\x96\\xa4 \\xea\\xb2\\x8c\\xec\\x9e\\x84\\xec\\x9d\\x98 \\xec\\xa0\\x95\\xeb\\xb3\\xb4\\xeb\\xa5\\xbc \\xeb\\xa7\\x8e\\xec\\x9d\\xb4 \\xec\\xb0\\xbe\\xec\\x95\\x84\\xeb\\xb3\\xb4\\xec\\x95\\x98\\xeb\\x8a\\x94\\xec\\xa7\\x80 \\xed\\x99\\x95\\xec\\x9d\\xb8\\xed\\x95\\xb4 \\xeb\\xb3\\xb4\\xec\\x8b\\x9c\\xea\\xb8\\xb0 \\xeb\\xb0\\x94\\xeb\\x9e\\x8d\\xeb\\x8b\\x88\\xeb\\x8b\\xa4.\\xeb\\xaa\\xa8\\xeb\\xb0\\x94\\xec\\x9d\\xbc \\xe2\\x80\\x93 \\xe2\\x80\\x98\\xeb\\xa6\\xac\\xeb\\x8b\\x88\\xec\\xa7\\x80W\\xe2\\x80\\x99 \\xec\\xa3\\xbc\\xec\\xb6\\xa4\\xec\\x95\\x88\\xeb\\x85\\x95\\xed\\x95\\x98\\xec\\x84\\xb8\\xec\\x9a\\x94. 2022\\xeb\\x85\\x84\\xec\\x9d\\x98</p>\\n\\t\\t\\t\\t\\t\\t<div class=\"source_box\">\\n\\t\\t\\t\\t\\t\\t\\t<span class=\"date\">\\xec\\x96\\xb4\\xec\\xa0\\x9c</span>\\n\\t\\t\\t\\t\\t\\t\\t<span class=\"source\">\\n                                \\n                                <span class=\"source_inner\">\\xea\\xb5\\xad\\xeb\\xaf\\xbc\\xed\\x8a\\xb8\\xeb\\xa6\\xac</span>\\n                            </span>\\n\\t\\t\\t\\t\\t\\t</div>\\n\\t\\t\\t\\t\\t</a>\\n\\t\\t\\t\\t</li>\\n\\t\\t\\t\\n\\t\\t\\t\\t<li class=\"theme_item\" data-gdid=\"CAS_dd51f645-6ed8-11ec-8dd3-598bf9c93a2c\" data-da-position=\"true\">\\n\\t\\t\\t\\t\\t<a href=\"https://post.naver.com/viewer/postView.naver?volumeNo&#x3D;33039701&amp;memberNo&#x3D;2380229\" class=\"theme_thumb\" data-clk=\"tcc_gam.list1cont4\" target=\"_blank\">\\n\\t\\t\\t\\t\\t\\t<img src=\"https://s.pstatic.net/dthumb.phinf/?src&#x3D;%22https%3A%2F%2Fs.pstatic.net%2Fstatic%2Fwww%2Fmobile%2Fedit%2F20220106_1095%2Fupload_1641464165807TvEEZ.png%22&amp;type&#x3D;nf340_228\" data-src=\"https://s.pstatic.net/dthumb.phinf/?src&#x3D;%22https%3A%2F%2Fs.pstatic.net%2Fstatic%2Fwww%2Fmobile%2Fedit%2F20220106_1095%2Fupload_1641464165807TvEEZ.png%22&amp;type&#x3D;nf340_228\" alt=\"\\xeb\\xaa\\xac\\xec\\x8a\\xa4\\xed\\x84\\xb0\\xed\\x97\\x8c\\xed\\x84\\xb0 \\xeb\\x9d\\xbc\\xec\\x9d\\xb4\\xec\\xa6\\x88 - \\xed\\x83\\x80\\xeb\\xa7\\x88\\xeb\\xaf\\xb8\\xec\\xb8\\xa0\\xeb\\x84\\xa4 #2\" width=\"170\" height=\"114\" onerror=\"this.outerHTML=\\'<span class=\\\\\\'pm_noimg\\\\\\'><span class=\\\\\\'noimg_text\\\\\\'>\\xec\\x9d\\xb4\\xeb\\xaf\\xb8\\xec\\xa7\\x80 \\xec\\xa4\\x80\\xeb\\xb9\\x84\\xec\\xa4\\x91</span></span>\\'\">\\n\\t\\t\\t\\t\\t\\t<span class=\"thumb_bd\"></span>\\n                        \\n\\t\\t\\t\\t\\t</a>\\n\\t\\t\\t\\t\\t<a href=\"https://post.naver.com/viewer/postView.naver?volumeNo&#x3D;33039701&amp;memberNo&#x3D;2380229\" class=\"theme_info\" data-clk=\"tcc_gam.list1cont4\" target=\"_blank\">\\n\\t\\t\\t\\t\\t\\t<em class=\"theme_category\"> \\xea\\xb2\\x8c\\xec\\x9e\\x84</em>\\n\\t\\t\\t\\t\\t\\t<strong class=\"title elss\">\\xeb\\xaa\\xac\\xec\\x8a\\xa4\\xed\\x84\\xb0\\xed\\x97\\x8c\\xed\\x84\\xb0 \\xeb\\x9d\\xbc\\xec\\x9d\\xb4\\xec\\xa6\\x88 - \\xed\\x83\\x80\\xeb\\xa7\\x88\\xeb\\xaf\\xb8\\xec\\xb8\\xa0\\xeb\\x84\\xa4 #2</strong>\\n                        <p class=\"desc\">\\xec\\x9e\\x91\\xea\\xb0\\x80\\xec\\x9d\\x98 \\xeb\\xa7\\x90 \\xec\\x9d\\xb4\\xeb\\xb2\\x88\\xec\\xa3\\xbc \\xec\\xbb\\xa8\\xeb\\x94\\x94\\xec\\x85\\x98\\xec\\x9d\\xb4 \\xec\\xa2\\x8b\\xec\\xa7\\x80 \\xec\\x95\\x8a\\xec\\x95\\x84\\xec\\x84\\x9c \\xeb\\xb6\\x84\\xeb\\x9f\\x89\\xec\\x9d\\xb4 \\xec\\xa0\\x81\\xec\\x8a\\xb5\\xeb\\x8b\\x88\\xeb\\x8b\\xa4 \\xec\\xa3\\x84\\xec\\x86\\xa1\\xed\\x95\\xa9\\xeb\\x8b\\x88\\xeb\\x8b\\xa4. \\xeb\\x8b\\xa4\\xec\\x9d\\x8c\\xec\\xa3\\xbc\\xec\\x97\\x90 \\xeb\\xb6\\x84\\xeb\\x9f\\x89 \\xeb\\xa7\\x8e\\xec\\x9d\\xb4 \\xea\\xb0\\x80\\xec\\xa0\\xb8\\xec\\x98\\xa4\\xea\\xb2\\xa0\\xec\\x8a\\xb5\\xeb\\x8b\\x88\\xeb\\x8b\\xa4. \\xea\\xb7\\xb8\\xea\\xb1\\xb4 \\xea\\xb7\\xb8\\xeb\\xa0\\x87\\xea\\xb3\\xa0 \\xec\\xa7\\x80\\xeb\\x82\\x9c\\xec\\xa3\\xbc\\xec\\x97\\x90 \\xec\\xb0\\xa8\\xec\\x95\\xa1\\xec\\x9c\\xbc\\xeb\\xa1\\x9c \\xeb\\xb0\\x9c\\xed\\x8c\\x8c\\xeb\\xa3\\xa8\\xed\\x81\\xac 0\\xeb\\xb6\\x84\\xec\\xb9\\xa8 \\xec\\x9d\\xb8\\xec\\xa6\\x9d\\xec\\x83\\xb7\\xec\\x9d\\x84 \\xec\\x98\\xac\\xeb\\xa0\\xb8\\xeb\\x8a\\x94\\xeb\\x8d\\xb0 \\xec\\x95\\x8c\\xec\\x95\\x84\\xeb\\xb4\\x90\\xec\\xa3\\xbc\\xeb\\x8a\\x94 \\xeb\\xb6\\x84\\xec\\x9d\\xb4 \\xec\\xa0\\x81\\xec\\x96\\xb4\\xec\\x84\\x9c \\xec\\x84\\xad\\xec\\x84\\xad\\xed\\x95\\x98\\xeb\\x8d\\x94\\xea\\xb5\\xb0\\xec\\x9a\\x94. \\xea\\xb3\\xa0\\xec\\x83\\x9d\\xed\\x95\\xb4\\xec\\x84\\x9c \\xec\\xb0\\x8d\\xec\\x9d\\x80 \\xec\\x9d\\xb8\\xec\\xa6\\x9d\\xec\\x83\\xb7\\xec\\x9d\\xb4\\xeb\\x8b\\x88 \\xec\\x97\\x8e\\xeb\\x93\\x9c\\xeb\\xa0\\xa4\\xec\\x84\\x9c\\xeb\\x9d\\xbc\\xeb\\x8f\\x84 \\xec\\xa0\\x88 \\xeb\\xb0\\x9b\\xec\\x95\\x84\\xec\\x95\\xbc \\xea\\xb2\\xa0\\xec\\x8a\\xb5\\xeb\\x8b\\x88\\xeb\\x8b\\xa4. \\xec\\xb9\\xad\\xec\\xb0\\xac\\xed\\x95\\xb4\\xec\\xa3\\xbc\\xec\\x84\\xb8\\xec\\x9a\\x94.</p>\\n\\t\\t\\t\\t\\t\\t<div class=\"source_box\">\\n\\t\\t\\t\\t\\t\\t\\t<span class=\"date\">2\\xec\\x9d\\xbc \\xec\\xa0\\x84</span>\\n\\t\\t\\t\\t\\t\\t\\t<span class=\"source\">\\n                                \\n                                <span class=\"source_inner\">\\xeb\\x91\\x90\\xed\\x88\\xb0</span>\\n                            </span>\\n\\t\\t\\t\\t\\t\\t</div>\\n\\t\\t\\t\\t\\t</a>\\n\\t\\t\\t\\t</li>\\n\\t\\t\\t\\n\\t\\t\\t\\t<li class=\"theme_item\" data-gdid=\"CAS_dd51f647-6ed8-11ec-8dd3-15ae5da0518b\" data-da-position=\"true\">\\n\\t\\t\\t\\t\\t<a href=\"https://post.naver.com/viewer/postView.naver?volumeNo&#x3D;33035859&amp;memberNo&#x3D;3395565\" class=\"theme_thumb\" data-clk=\"tcc_gam.list1cont5\" target=\"_blank\">\\n\\t\\t\\t\\t\\t\\t<img src=\"https://s.pstatic.net/dthumb.phinf/?src&#x3D;%22https%3A%2F%2Fs.pstatic.net%2Fstatic%2Fwww%2Fmobile%2Fedit%2F20220106_1095%2Fupload_1641464144706rpiOj.jpg%22&amp;type&#x3D;nf340_228\" data-src=\"https://s.pstatic.net/dthumb.phinf/?src&#x3D;%22https%3A%2F%2Fs.pstatic.net%2Fstatic%2Fwww%2Fmobile%2Fedit%2F20220106_1095%2Fupload_1641464144706rpiOj.jpg%22&amp;type&#x3D;nf340_228\" alt=\"\\xeb\\x82\\x98\\xeb\\x8a\\x94 \\xeb\\x84\\xa4\\xea\\xb0\\x80 \\xec\\xa7\\x80\\xeb\\x82\\x9c \\xec\\x97\\xac\\xeb\\xa6\\x84\\xec\\x97\\x90 \\xed\\x95\\x9c \\xec\\x9d\\xbc\\xec\\x9d\\x84 \\xec\\x95\\x8c\\xea\\xb3\\xa0 \\xec\\x9e\\x88\\xeb\\x8b\\xa4\" width=\"170\" height=\"114\" onerror=\"this.outerHTML=\\'<span class=\\\\\\'pm_noimg\\\\\\'><span class=\\\\\\'noimg_text\\\\\\'>\\xec\\x9d\\xb4\\xeb\\xaf\\xb8\\xec\\xa7\\x80 \\xec\\xa4\\x80\\xeb\\xb9\\x84\\xec\\xa4\\x91</span></span>\\'\">\\n\\t\\t\\t\\t\\t\\t<span class=\"thumb_bd\"></span>\\n                        \\n\\t\\t\\t\\t\\t</a>\\n\\t\\t\\t\\t\\t<a href=\"https://post.naver.com/viewer/postView.naver?volumeNo&#x3D;33035859&amp;memberNo&#x3D;3395565\" class=\"theme_info\" data-clk=\"tcc_gam.list1cont5\" target=\"_blank\">\\n\\t\\t\\t\\t\\t\\t<em class=\"theme_category\"> \\xea\\xb2\\x8c\\xec\\x9e\\x84</em>\\n\\t\\t\\t\\t\\t\\t<strong class=\"title elss\">\\xeb\\x82\\x98\\xeb\\x8a\\x94 \\xeb\\x84\\xa4\\xea\\xb0\\x80 \\xec\\xa7\\x80\\xeb\\x82\\x9c \\xec\\x97\\xac\\xeb\\xa6\\x84\\xec\\x97\\x90 \\xed\\x95\\x9c \\xec\\x9d\\xbc\\xec\\x9d\\x84 \\xec\\x95\\x8c\\xea\\xb3\\xa0 \\xec\\x9e\\x88\\xeb\\x8b\\xa4</strong>\\n                        <p class=\"desc\">\\xeb\\xaa\\xa8\\xeb\\x8f\\x99\\xec\\x88\\xb2 \\xed\\x94\\x84\\xeb\\xa0\\x8c\\xec\\xa6\\x88 35\\xed\\x99\\x94 - \\xeb\\x82\\x98\\xeb\\x8a\\x94 \\xeb\\x84\\xa4\\xea\\xb0\\x80 \\xec\\xa7\\x80\\xeb\\x82\\x9c \\xec\\x97\\xac\\xeb\\xa6\\x84\\xec\\x97\\x90 \\xed\\x95\\x9c \\xec\\x9d\\xbc\\xec\\x9d\\x84 \\xec\\x95\\x8c\\xea\\xb3\\xa0 \\xec\\x9e\\x88\\xeb\\x8b\\xa4\\xea\\xb0\\x80\\xeb\\x81\\x94 \\xec\\xa3\\xbc\\xeb\\xaf\\xbc\\xeb\\x93\\xa4\\xec\\x9d\\xb4 \\xeb\\xb3\\xb4\\xeb\\x82\\xb4\\xec\\xa3\\xbc\\xeb\\x8a\\x94 \\xed\\x8e\\xb8\\xec\\xa7\\x80\\xeb\\x82\\x98 \\xec\\x84\\xa0\\xeb\\xac\\xbc\\xec\\x97\\x90 \\xea\\xb0\\x90\\xeb\\x8f\\x99\\xec\\x9d\\x84 \\xeb\\xb0\\x9b\\xec\\x9d\\x84\\xeb\\x95\\x8c\\xea\\xb0\\x80 \\xec\\x9e\\x88\\xec\\x96\\xb4\\xec\\x9a\\x94\\xec\\xa0\\x80\\xec\\x9d\\x98 \\xec\\x83\\x81\\xed\\x99\\xa9\\xec\\x9d\\x84 \\xec\\x95\\x8c\\xea\\xb3\\xa0 \\xeb\\xb3\\xb4\\xeb\\x82\\xb8 \\xea\\xb2\\x83\\xec\\x9d\\x80 \\xec\\x95\\x84\\xeb\\x8b\\x88\\xec\\x97\\x88\\xea\\xb2\\xa0\\xec\\xa7\\x80\\xeb\\xa7\\x8c \\xec\\x9c\\x84\\xeb\\xa1\\x9c\\xea\\xb0\\x80 \\xeb\\x90\\x98\\xec\\x96\\xb4\\xec\\xa4\\x84 \\xeb\\x95\\x8c\\xeb\\x8f\\x84 \\xec\\x9e\\x88\\xea\\xb3\\xa0, \\xed\\x9e\\x98\\xec\\x9d\\xb4 \\xeb\\x82\\x98\\xea\\xb2\\x8c \\xed\\x95\\xb4\\xec\\xa3\\xbc\\xea\\xb8\\xb0\\xeb\\x8f\\x84 \\xed\\x95\\x98\\xec\\xa7\\x80\\xec\\x9a\\x94\\xec\\x9d\\xb4\\xeb\\x9f\\xb0 \\xec\\x86\\x8c\\xec\\x86\\x8c\\xed\\x95\\x9c \\xed\\x9e\\x90\\xeb\\xa7\\x81\\xec\\x9d\\xb4 \\xeb\\xaa\\xa8\\xeb\\x8f\\x99\\xec\\x88\\xb2\\xec\\x9d\\x98 \\xeb\\xa7\\xa4\\xeb\\xa0\\xa5\\xec\\x9d\\xb4 \\xec\\x95\\x84\\xeb\\x8b\\x90\\xea\\xb9\\x8c\\xec\\x9a\\x94?</p>\\n\\t\\t\\t\\t\\t\\t<div class=\"source_box\">\\n\\t\\t\\t\\t\\t\\t\\t<span class=\"date\">\\xec\\x96\\xb4\\xec\\xa0\\x9c</span>\\n\\t\\t\\t\\t\\t\\t\\t<span class=\"source\">\\n                                \\n                                <span class=\"source_inner\">\\xea\\xb8\\xb0\\xec\\x96\\xb5\\xec\\x9d\\x98\\xeb\\xa9\\x94\\xeb\\xaa\\xa8\\xeb\\xa6\\xac</span>\\n                            </span>\\n\\t\\t\\t\\t\\t\\t</div>\\n\\t\\t\\t\\t\\t</a>\\n\\t\\t\\t\\t</li>\\n\\t\\t\\t\\n\\t\\t</ul>\\n\\t</div>\\n</div>\\n<div class=\"group_theme\" data-block-id=\"\" data-block-code=\"PC-THEME-GAMEAPP-MOBILE-RANKING-DEFAULT-1\" data-block-type=\"MATERIALS\" data-template-code=\"MOBILE-RANKING-LIST\"\\n\\n\\t data-da=\"container\"\\n\\t data-index=\"\"\\n     data-page=\"1\"\\n\\t >\\n\\n\\t<div class=\"list_theme_wrap\">\\n\\t\\t<ul class=\"list_theme\">\\n\\t\\t\\t\\n\\t\\t\\t\\t<li class=\"theme_item\" data-gdid=\"CAS_e5d9b04b-6ed9-11ec-8dd3-a9cbbcbecf17\" data-da-position=\"true\">\\n\\t\\t\\t\\t\\t<a href=\"https://post.naver.com/viewer/postView.naver?volumeNo&#x3D;33037579&amp;memberNo&#x3D;3147730\" class=\"theme_thumb\" data-clk=\"tcc_gam.list2cont1\" target=\"_blank\">\\n\\t\\t\\t\\t\\t\\t<img src=\"https://s.pstatic.net/dthumb.phinf/?src&#x3D;%22https%3A%2F%2Fs.pstatic.net%2Fstatic%2Fwww%2Fmobile%2Fedit%2F20220106_1095%2Fupload_1641464244014CmR40.jpg%22&amp;type&#x3D;nf340_228\" data-src=\"https://s.pstatic.net/dthumb.phinf/?src&#x3D;%22https%3A%2F%2Fs.pstatic.net%2Fstatic%2Fwww%2Fmobile%2Fedit%2F20220106_1095%2Fupload_1641464244014CmR40.jpg%22&amp;type&#x3D;nf340_228\" alt=\"&#x27;\\xec\\x98\\xa8 \\xeb\\x9f\\xac\\xec\\x89\\xac&#x27;\" width=\"170\" height=\"114\" onerror=\"this.outerHTML=\\'<span class=\\\\\\'pm_noimg\\\\\\'><span class=\\\\\\'noimg_text\\\\\\'>\\xec\\x9d\\xb4\\xeb\\xaf\\xb8\\xec\\xa7\\x80 \\xec\\xa4\\x80\\xeb\\xb9\\x84\\xec\\xa4\\x91</span></span>\\'\">\\n\\t\\t\\t\\t\\t\\t<span class=\"thumb_bd\"></span>\\n                        \\n\\t\\t\\t\\t\\t</a>\\n\\t\\t\\t\\t\\t<a href=\"https://post.naver.com/viewer/postView.naver?volumeNo&#x3D;33037579&amp;memberNo&#x3D;3147730\" class=\"theme_info\" data-clk=\"tcc_gam.list2cont1\" target=\"_blank\">\\n\\t\\t\\t\\t\\t\\t<em class=\"theme_category\"> \\xea\\xb2\\x8c\\xec\\x9e\\x84</em>\\n\\t\\t\\t\\t\\t\\t<strong class=\"title elss\">\\'\\xec\\x98\\xa8 \\xeb\\x9f\\xac\\xec\\x89\\xac\\'</strong>\\n                        <p class=\"desc\">\\xec\\xb5\\x9c\\xea\\xb7\\xbc \\xec\\x97\\x85\\xeb\\x8d\\xb0\\xec\\x9d\\xb4\\xed\\x8a\\xb8\\xeb\\xa1\\x9c \\xeb\\xaa\\xa8\\xeb\\x91\\x90\\xec\\x9d\\x98 \\xea\\xb4\\x80\\xec\\x8b\\xac\\xec\\x9d\\x84 \\xeb\\xaa\\xa8\\xec\\x9d\\x80 &#x27;\\xeb\\x94\\x94\\xec\\x98\\xa4&#x27;\\xec\\x97\\x85\\xeb\\x8d\\xb0\\xec\\x9d\\xb4\\xed\\x8a\\xb8\\xec\\x99\\x80\\xec\\xa0\\x84 \\xec\\xba\\x90\\xeb\\xa6\\xad\\xed\\x84\\xb0 \\xeb\\x8d\\x98\\xec\\xa0\\x84 \\xeb\\xb0\\xb8\\xeb\\x9f\\xb0\\xec\\x8a\\xa4 \\xed\\x8c\\xa8\\xec\\xb9\\x98\\xea\\xb0\\x80 \\xec\\x9e\\x88\\xec\\x97\\x88\\xec\\x8a\\xb5\\xeb\\x8b\\x88\\xeb\\x8b\\xa4!!\\xec\\xb2\\x98\\xec\\x9d\\x8c\\xec\\x97\\x90\\xeb\\x8a\\x94 \\xeb\\x94\\x94\\xec\\x98\\xa4\\xea\\xb0\\x80 \\xec\\x97\\x85\\xeb\\x8d\\xb0\\xec\\x9d\\xb4\\xed\\x8a\\xb8 \\xed\\x95\\x98\\xeb\\x8a\\x94\\xea\\xb5\\xac\\xeb\\x82\\x98 \\xe3\\x85\\x8e\\xe3\\x85\\x8e \\xed\\x95\\x98\\xea\\xb3\\xa0 \\xeb\\x94\\x94\\xec\\x98\\xa4\\xec\\x9d\\x98 \\xec\\x95\\x85\\xeb\\xaa\\x85\\xec\\x9d\\x84 \\xec\\xa2\\x80 \\xea\\xb7\\xb8\\xeb\\xa0\\xa4\\xeb\\xb3\\xbc\\xea\\xb9\\x8c \\xed\\x96\\x88\\xeb\\x8a\\x94\\xeb\\x8d\\xb0\\xec\\x97\\x84\\xec\\xb2\\xad\\xeb\\x82\\x98\\xea\\xb2\\x8c \\xed\\x95\\x98\\xed\\x96\\xa5\\xec\\x9d\\x84 \\xeb\\x8b\\xb9\\xed\\x95\\xb4\\xec\\x84\\x9c \\xec\\x99\\x94\\xeb\\x8d\\x94\\xeb\\x9d\\xbc\\xea\\xb3\\xa0\\xec\\x9a\\x94.............. (\\xeb\\xb3\\xb5\\xec\\x9e\\xa1 \\xeb\\xaf\\xb8\\xeb\\xac\\x98\\xed\\x95\\x9c \\xea\\xb0\\x90\\xec\\xa0\\x95)\\xea\\xb7\\xb8 \\xeb\\xa7\\x90\\xea\\xb3\\xa0\\xeb\\x8f\\x84 \\xec\\xa0\\x84 \\xec\\xba\\x90\\xeb\\xa6\\xad\\xed\\x84\\xb0\\xeb\\x8f\\x84 \\xeb\\x8d\\x98\\xec\\xa0\\x84 \\xeb\\xb0\\xb8\\xed\\x8c\\xa8\\xeb\\xa5\\xbc \\xeb\\xb0\\x9b\\xec\\x95\\x98\\xea\\xb8\\xb0 \\xeb\\x95\\x8c\\xeb\\xac\\xb8\\xec\\x97\\x90 \\xeb\\xa7\\x8e\\xec\\x9d\\x80 \\xeb\\xb6\\x80\\xeb\\xb6\\x84\\xec\\x97\\x90\\xec\\x84\\x9c \\xeb\\xb3\\x80\\xeb\\x8f\\x99\\xec\\x9d\\xb4 \\xec\\x9e\\x88\\xec\\x97\\x88\\xeb\\x8a\\x94\\xeb\\x8d\\xb0\\xed\\x95\\xb4\\xec\\xa3\\xbc\\xeb\\x8b\\x88\\xea\\xb9\\x8c \\xeb\\x98\\x90 \\xea\\xb8\\xb0\\xec\\x81\\x98\\xea\\xb8\\xb4 \\xed\\x95\\x9c\\xeb\\x8d\\xb0(\\xea\\xb7\\xb8\\xeb\\x9e\\x98</p>\\n\\t\\t\\t\\t\\t\\t<div class=\"source_box\">\\n\\t\\t\\t\\t\\t\\t\\t<span class=\"date\">\\xec\\x96\\xb4\\xec\\xa0\\x9c</span>\\n\\t\\t\\t\\t\\t\\t\\t<span class=\"source\">\\n                                \\n                                <span class=\"source_inner\">\\xeb\\x8f\\x84\\xeb\\xa6\\xac\\xeb\\x8f\\x84\\xeb\\xa6\\xac</span>\\n                            </span>\\n\\t\\t\\t\\t\\t\\t</div>\\n\\t\\t\\t\\t\\t</a>\\n\\t\\t\\t\\t</li>\\n\\t\\t\\t\\n\\t\\t\\t\\t<li class=\"theme_item\" data-gdid=\"CAS_267d6e1b-6e0c-11ec-b7dd-990a32e04d92\" data-da-position=\"true\">\\n\\t\\t\\t\\t\\t<a href=\"https://post.naver.com/viewer/postView.naver?volumeNo&#x3D;33039119&amp;memberNo&#x3D;36978476\" class=\"theme_thumb\" data-clk=\"tcc_gam.list2cont2\" target=\"_blank\">\\n\\t\\t\\t\\t\\t\\t<img src=\"https://s.pstatic.net/dthumb.phinf/?src&#x3D;%22https%3A%2F%2Fs.pstatic.net%2Fstatic%2Fwww%2Fmobile%2Fedit%2F20220105_1095%2Fupload_1641375966754jRSYt.jpg%22&amp;type&#x3D;nf340_228\" data-src=\"https://s.pstatic.net/dthumb.phinf/?src&#x3D;%22https%3A%2F%2Fs.pstatic.net%2Fstatic%2Fwww%2Fmobile%2Fedit%2F20220105_1095%2Fupload_1641375966754jRSYt.jpg%22&amp;type&#x3D;nf340_228\" alt=\"\\xeb\\x8f\\x84\\xec\\x82\\xac\\xeb\\x8a\\x94 \\xeb\\xac\\xb4\\xec\\x97\\x87\\xec\\x9d\\xb4\\xeb\\x83\\x90- \\xeb\\x9d\\xbc\\xea\\xb7\\xb8\\xeb\\x82\\x98\\xeb\\xa1\\x9c\\xed\\x81\\xac \\xec\\x98\\xa8\\xeb\\x9d\\xbc\\xec\\x9d\\xb8 &#x27;\\xec\\x98\\x81\\xeb\\x8f\\x84\\xec\\x82\\xac&#x27; \\xec\\xbd\\x94\\xec\\x8a\\xa4\\xed\\x94\\x84\\xeb\\xa0\\x88\" width=\"170\" height=\"114\" onerror=\"this.outerHTML=\\'<span class=\\\\\\'pm_noimg\\\\\\'><span class=\\\\\\'noimg_text\\\\\\'>\\xec\\x9d\\xb4\\xeb\\xaf\\xb8\\xec\\xa7\\x80 \\xec\\xa4\\x80\\xeb\\xb9\\x84\\xec\\xa4\\x91</span></span>\\'\">\\n\\t\\t\\t\\t\\t\\t<span class=\"thumb_bd\"></span>\\n                        \\n\\t\\t\\t\\t\\t</a>\\n\\t\\t\\t\\t\\t<a href=\"https://post.naver.com/viewer/postView.naver?volumeNo&#x3D;33039119&amp;memberNo&#x3D;36978476\" class=\"theme_info\" data-clk=\"tcc_gam.list2cont2\" target=\"_blank\">\\n\\t\\t\\t\\t\\t\\t<em class=\"theme_category\"> \\xea\\xb2\\x8c\\xec\\x9e\\x84</em>\\n\\t\\t\\t\\t\\t\\t<strong class=\"title elss\">\\xeb\\x8f\\x84\\xec\\x82\\xac\\xeb\\x8a\\x94 \\xeb\\xac\\xb4\\xec\\x97\\x87\\xec\\x9d\\xb4\\xeb\\x83\\x90- \\xeb\\x9d\\xbc\\xea\\xb7\\xb8\\xeb\\x82\\x98\\xeb\\xa1\\x9c\\xed\\x81\\xac \\xec\\x98\\xa8\\xeb\\x9d\\xbc\\xec\\x9d\\xb8 \\'\\xec\\x98\\x81\\xeb\\x8f\\x84\\xec\\x82\\xac\\' \\xec\\xbd\\x94\\xec\\x8a\\xa4\\xed\\x94\\x84\\xeb\\xa0\\x88</strong>\\n                        <p class=\"desc\">\\xec\\x95\\x88\\xeb\\x85\\x95\\xed\\x95\\x98\\xec\\x84\\xb8\\xec\\x9a\\x94 Team HARA \\xec\\x9e\\x85\\xeb\\x8b\\x88\\xeb\\x8b\\xa4 \\xec\\x98\\xa4\\xeb\\x8a\\x98 \\xec\\x86\\x8c\\xea\\xb0\\x9c \\xed\\x95\\xb4 \\xeb\\x93\\x9c\\xeb\\xa6\\xb4 \\xea\\xb2\\x8c\\xec\\x9e\\x84\\xec\\x9d\\x80 \\xec\\xb6\\x94\\xec\\x96\\xb5\\xec\\x9d\\xb4 \\xec\\x82\\xb4\\xec\\x95\\x84 \\xec\\x88\\xa8\\xec\\x89\\xac\\xeb\\x8a\\x94 MMORPG \\xeb\\x9d\\xbc\\xea\\xb7\\xb8\\xeb\\x82\\x98\\xeb\\xa1\\x9c\\xed\\x81\\xac \\xec\\x98\\xa8\\xeb\\x9d\\xbc\\xec\\x9d\\xb8 \\xec\\x9e\\x85\\xeb\\x8b\\x88\\xeb\\x8b\\xa42000\\xeb\\x85\\x84 \\xec\\xb4\\x88\\xeb\\xb6\\x80\\xed\\x84\\xb0 \\xec\\xa7\\x80\\xea\\xb8\\x88\\xea\\xb9\\x8c\\xec\\xa7\\x80 \\xeb\\xa7\\x8e\\xec\\x9d\\x80 \\xec\\xb6\\x94\\xec\\x96\\xb5\\xec\\x9d\\x84 \\xeb\\xa7\\x8c\\xeb\\x93\\xa4\\xec\\x96\\xb4 \\xeb\\x82\\xb4\\xea\\xb3\\xa0 \\xec\\x9e\\x88\\xeb\\x8a\\x94 \\xeb\\x9d\\xbc\\xea\\xb7\\xb8\\xeb\\x82\\x98\\xeb\\xa1\\x9c\\xed\\x81\\xac \\xec\\x98\\xa8\\xeb\\x9d\\xbc\\xec\\x9d\\xb8\\xec\\x97\\xb0\\xeb\\xa7\\x90 \\xeb\\xa7\\x9e\\xec\\x9d\\xb4 \\xec\\x9d\\xb4\\xeb\\xb2\\xa4\\xed\\x8a\\xb8\\xeb\\x8f\\x84 \\xed\\x95\\x9c\\xec\\xb0\\xbd\\xec\\x9d\\xb8 RO\\xec\\x9d\\xb8\\xeb\\x8d\\xb0\\xec\\x9a\\x94!\\xeb\\xa7\\x90\\xeb\\x9e\\x91\\xeb\\x8f\\x84 \\xed\\x8c\\xa8\\xec\\x85\\x98\\xec\\x8a\\xa4\\xed\\x86\\xa4 12\\xec\\x9b\\x94 \\xec\\x9d\\x98\\xec\\x83\\x81\\xec\\x9d\\xb4 \\xec\\x9e\\x85\\xea\\xb3\\xa0\\xeb\\x90\\x98\\xec\\x97\\x88\\xeb\\x8b\\xa4\\xeb\\x8a\\x94 \\xec\\x86\\x8c\\xec\\x8b\\x9d\\xec\\x9d\\xb4\\xeb\\x8b\\x88 \\xea\\xbc\\xad \\xec\\xb1\\x99\\xea\\xb8\\xb0\\xec\\x9e\\x90\\xea\\xb5\\xac\\xec\\x9a\\x94!\\xec\\x98\\xa4\\xeb\\x8a\\x98 \\xec\\x86\\x8c\\xea\\xb0\\x9c \\xed\\x95\\xb4\\xeb\\x93\\x9c\\xeb\\xa6\\xac\\xeb\\x8a\\x94 \\xeb\\x9d\\xbc\\xea\\xb7\\xb8\\xec\\x9d\\x98 \\xec\\xa7\\x81\\xec\\x97\\x85\\xec\\x9d\\x80 \\xec\\xb2\\x9c\\xed\\x95\\x98\\xeb\\xa5\\xbc \\xec\\x86\\x8d\\xec\\x97\\xac\\xeb\\xb2\\x84\\xeb\\xa6\\xac\\xeb\\x8a\\x94 \\xeb\\x8f\\x84\\xec\\x88\\xa0\\xec\\x9d\\x98 \\xec\\xa0\\x84\\xeb\\xac\\xb8</p>\\n\\t\\t\\t\\t\\t\\t<div class=\"source_box\">\\n\\t\\t\\t\\t\\t\\t\\t<span class=\"date\">1\\xec\\xa3\\xbc\\xec\\x9d\\xbc \\xec\\xa0\\x84</span>\\n\\t\\t\\t\\t\\t\\t\\t<span class=\"source\">\\n                                \\n                                <span class=\"source_inner\">TeamHARA</span>\\n                            </span>\\n\\t\\t\\t\\t\\t\\t</div>\\n\\t\\t\\t\\t\\t</a>\\n\\t\\t\\t\\t</li>\\n\\t\\t\\t\\n\\t\\t\\t\\t<li class=\"theme_item\" data-gdid=\"CAS_267d6e1a-6e0c-11ec-b7dd-276d5381c32b\" data-da-position=\"true\">\\n\\t\\t\\t\\t\\t<a href=\"https://post.naver.com/viewer/postView.naver?volumeNo&#x3D;33040989&amp;memberNo&#x3D;17350801\" class=\"theme_thumb\" data-clk=\"tcc_gam.list2cont3\" target=\"_blank\">\\n\\t\\t\\t\\t\\t\\t<img src=\"https://s.pstatic.net/dthumb.phinf/?src&#x3D;%22https%3A%2F%2Fs.pstatic.net%2Fstatic%2Fwww%2Fmobile%2Fedit%2F20220105_1095%2Fupload_16413760960236AyTy.jpg%22&amp;type&#x3D;nf340_228\" data-src=\"https://s.pstatic.net/dthumb.phinf/?src&#x3D;%22https%3A%2F%2Fs.pstatic.net%2Fstatic%2Fwww%2Fmobile%2Fedit%2F20220105_1095%2Fupload_16413760960236AyTy.jpg%22&amp;type&#x3D;nf340_228\" alt=\"\\xec\\x9c\\xa0\\xeb\\xa3\\x8c \\xea\\xb0\\x80\\xec\\xb1\\xa0\\xea\\xb0\\x80 \\xec\\x82\\xac\\xeb\\x9d\\xbc\\xec\\xa7\\x84 \\xeb\\x8b\\x8c\\xed\\x85\\x90\\xeb\\x8f\\x84 \\xec\\x8a\\xa4\\xec\\x9c\\x84\\xec\\xb9\\x98 \\xea\\xb2\\x8c\\xec\\x9e\\x84\" width=\"170\" height=\"114\" onerror=\"this.outerHTML=\\'<span class=\\\\\\'pm_noimg\\\\\\'><span class=\\\\\\'noimg_text\\\\\\'>\\xec\\x9d\\xb4\\xeb\\xaf\\xb8\\xec\\xa7\\x80 \\xec\\xa4\\x80\\xeb\\xb9\\x84\\xec\\xa4\\x91</span></span>\\'\">\\n\\t\\t\\t\\t\\t\\t<span class=\"thumb_bd\"></span>\\n                        \\n\\t\\t\\t\\t\\t</a>\\n\\t\\t\\t\\t\\t<a href=\"https://post.naver.com/viewer/postView.naver?volumeNo&#x3D;33040989&amp;memberNo&#x3D;17350801\" class=\"theme_info\" data-clk=\"tcc_gam.list2cont3\" target=\"_blank\">\\n\\t\\t\\t\\t\\t\\t<em class=\"theme_category\"> \\xea\\xb2\\x8c\\xec\\x9e\\x84</em>\\n\\t\\t\\t\\t\\t\\t<strong class=\"title elss\">\\xec\\x9c\\xa0\\xeb\\xa3\\x8c \\xea\\xb0\\x80\\xec\\xb1\\xa0\\xea\\xb0\\x80 \\xec\\x82\\xac\\xeb\\x9d\\xbc\\xec\\xa7\\x84 \\xeb\\x8b\\x8c\\xed\\x85\\x90\\xeb\\x8f\\x84 \\xec\\x8a\\xa4\\xec\\x9c\\x84\\xec\\xb9\\x98 \\xea\\xb2\\x8c\\xec\\x9e\\x84</strong>\\n                        <p class=\"desc\">\\xeb\\x83\\xa5\\xec\\xbd\\x94 \\xeb\\x8c\\x80\\xec\\xa0\\x84\\xec\\x9f\\x81\\xec\\x9d\\xb4\\xeb\\x9d\\xbc\\xeb\\x8a\\x94 \\xeb\\xaa\\xa8\\xeb\\xb0\\x94\\xec\\x9d\\xbc \\xea\\xb2\\x8c\\xec\\x9e\\x84\\xec\\x9d\\xb4 \\xec\\x9e\\x88\\xec\\x8a\\xb5\\xeb\\x8b\\x88\\xeb\\x8b\\xa4. \\xea\\xb5\\xac\\xea\\xb8\\x80 \\xed\\x94\\x8c\\xeb\\xa0\\x88\\xec\\x9d\\xb4 \\xeb\\xa7\\xa4\\xec\\xb6\\x9c \\xec\\x88\\x9c\\xec\\x9c\\x84 50\\xec\\x9c\\x84\\xea\\xb6\\x8c \\xec\\xa0\\x95\\xeb\\x8f\\x84\\xeb\\xa5\\xbc \\xec\\x9c\\xa0\\xec\\xa7\\x80 \\xec\\xa4\\x91\\xec\\x9d\\xb4\\xeb\\xa9\\xb0, \\xed\\x95\\x98\\xeb\\x8a\\x94 \\xec\\x9c\\xa0\\xec\\xa0\\x80\\xeb\\x93\\xa4\\xec\\x9d\\x80 \\xea\\xb0\\x9c\\xeb\\xb0\\x9c\\xec\\x82\\xac \\xec\\x9a\\x95\\xeb\\x8f\\x84 \\xea\\xbd\\xa4 \\xed\\x95\\xa0 \\xec\\xa0\\x95\\xeb\\x8f\\x84\\xec\\x9d\\x98 \\xea\\xb0\\x80\\xec\\xb1\\xa0 \\xec\\x8b\\x9c\\xec\\x8a\\xa4\\xed\\x85\\x9c\\xec\\x9d\\xb4 \\xec\\x9e\\x88\\xec\\xa3\\xa0. \\xec\\x9d\\xb4\\xeb\\x9f\\xb0 \\xea\\xb2\\x8c\\xec\\x9e\\x84\\xec\\x9d\\xb4 \\xeb\\x8b\\x8c\\xed\\x85\\x90\\xeb\\x8f\\x84 \\xec\\x8a\\xa4\\xec\\x9c\\x84\\xec\\xb9\\x98 \\xeb\\xb2\\x84\\xec\\xa0\\x84\\xec\\x9d\\x84 \\xec\\xb6\\x9c\\xec\\x8b\\x9c\\xed\\x95\\x98\\xeb\\xa9\\xb0 &#x27;\\xec\\xb6\\x94\\xea\\xb0\\x80 \\xea\\xb3\\xbc\\xea\\xb8\\x88\\xec\\x9d\\xb4 \\xec\\x9d\\xbc\\xec\\xa0\\x88 \\xec\\x97\\x86\\xeb\\x8b\\xa4&#x27;\\xea\\xb3\\xa0 \\xeb\\xb0\\x9d\\xed\\x98\\x80 \\xeb\\x88\\x88\\xea\\xb8\\xb8\\xec\\x9d\\x84 \\xeb\\x81\\x8c\\xec\\x97\\x88\\xeb\\x8a\\x94\\xeb\\x8d\\xb0\\xec\\x9a\\x94. \\xec\\x9d\\xb4\\xea\\xb2\\x8c \\xea\\xb3\\xbc\\xec\\x97\\xb0 \\xec\\xa7\\x84\\xec\\xa7\\x9c\\xec\\x9d\\xb8\\xec\\xa7\\x80 \\xed\\x99\\x95\\xec\\x9d\\xb8\\xed\\x95\\xb4 \\xeb\\xb3\\xb4\\xea\\xb3\\xa0 \\xec\\x99\\x94\\xec\\x8a\\xb5\\xeb\\x8b\\x88\\xeb\\x8b\\xa4.\\xea\\xb2\\x8c\\xec\\x9e\\x84 \\xed\\x94\\x8c\\xeb\\xa0\\x88\\xec\\x9d\\xb4 \\xeb\\xb0\\xa9\\xeb\\xb2\\x95\\xec\\x9e\\xa5\\xeb\\xa5\\xb4\\xeb\\x8a\\x94 \\xec\\xa4\\x84\\xeb\\x8b\\xa4\\xeb\\xa6\\xac\\xea\\xb8\\xb0\\xec\\x8b\\x9d \\xeb\\x94\\x94\\xed\\x8e\\x9c\\xec\\x8a\\xa4 \\xea\\xb2\\x8c\\xec\\x9e\\x84\\xec\\x9d\\xb4\\xec\\x97\\x90\\xec\\x9a\\x94. \\xeb\\x8f\\x88\\xec\\x9d\\xb4 \\xeb\\xaa\\xa8</p>\\n\\t\\t\\t\\t\\t\\t<div class=\"source_box\">\\n\\t\\t\\t\\t\\t\\t\\t<span class=\"date\">1\\xec\\xa3\\xbc\\xec\\x9d\\xbc \\xec\\xa0\\x84</span>\\n\\t\\t\\t\\t\\t\\t\\t<span class=\"source\">\\n                                \\n                                <span class=\"source_inner\">\\xeb\\x84\\xa4\\xec\\x98\\xa4\\xed\\x95\\x84</span>\\n                            </span>\\n\\t\\t\\t\\t\\t\\t</div>\\n\\t\\t\\t\\t\\t</a>\\n\\t\\t\\t\\t</li>\\n\\t\\t\\t\\n\\t\\t\\t\\t<li class=\"theme_item\" data-gdid=\"CAS_267d6e1f-6e0c-11ec-b7dd-8bf0b5d953b6\" data-da-position=\"true\">\\n\\t\\t\\t\\t\\t<a href=\"https://post.naver.com/viewer/postView.naver?volumeNo&#x3D;33036777&amp;memberNo&#x3D;11710666\" class=\"theme_thumb\" data-clk=\"tcc_gam.list2cont4\" target=\"_blank\">\\n\\t\\t\\t\\t\\t\\t<img src=\"https://s.pstatic.net/dthumb.phinf/?src&#x3D;%22https%3A%2F%2Fs.pstatic.net%2Fstatic%2Fwww%2Fmobile%2Fedit%2F20220105_1095%2Fupload_1641376286794qAUrD.jpg%22&amp;type&#x3D;nf340_228\" data-src=\"https://s.pstatic.net/dthumb.phinf/?src&#x3D;%22https%3A%2F%2Fs.pstatic.net%2Fstatic%2Fwww%2Fmobile%2Fedit%2F20220105_1095%2Fupload_1641376286794qAUrD.jpg%22&amp;type&#x3D;nf340_228\" alt=\"&quot;\\xed\\x99\\x95\\xeb\\xa5\\xa0\\xed\\x98\\x95 \\xec\\x95\\x84\\xec\\x9d\\xb4\\xed\\x85\\x9c\\xec\\x9d\\x98 \\xec\\x9a\\xb4\\xeb\\xaa\\x85\\xec\\x9d\\x80?&quot;, 2022\\xeb\\x85\\x84 \\xed\\x95\\x9c\\xea\\xb5\\xad \\xea\\xb2\\x8c\\xec\\x9e\\x84 \\xec\\x96\\xb4\\xeb\\x94\\x94\\xeb\\xa1\\x9c \\xea\\xb0\\x80\\xeb\\x8a\\x94\\xea\\xb0\\x80?\" width=\"170\" height=\"114\" onerror=\"this.outerHTML=\\'<span class=\\\\\\'pm_noimg\\\\\\'><span class=\\\\\\'noimg_text\\\\\\'>\\xec\\x9d\\xb4\\xeb\\xaf\\xb8\\xec\\xa7\\x80 \\xec\\xa4\\x80\\xeb\\xb9\\x84\\xec\\xa4\\x91</span></span>\\'\">\\n\\t\\t\\t\\t\\t\\t<span class=\"thumb_bd\"></span>\\n                        \\n\\t\\t\\t\\t\\t</a>\\n\\t\\t\\t\\t\\t<a href=\"https://post.naver.com/viewer/postView.naver?volumeNo&#x3D;33036777&amp;memberNo&#x3D;11710666\" class=\"theme_info\" data-clk=\"tcc_gam.list2cont4\" target=\"_blank\">\\n\\t\\t\\t\\t\\t\\t<em class=\"theme_category\"> \\xea\\xb2\\x8c\\xec\\x9e\\x84</em>\\n\\t\\t\\t\\t\\t\\t<strong class=\"title elss\">\"\\xed\\x99\\x95\\xeb\\xa5\\xa0\\xed\\x98\\x95 \\xec\\x95\\x84\\xec\\x9d\\xb4\\xed\\x85\\x9c\\xec\\x9d\\x98 \\xec\\x9a\\xb4\\xeb\\xaa\\x85\\xec\\x9d\\x80?\", 2022\\xeb\\x85\\x84 \\xed\\x95\\x9c\\xea\\xb5\\xad \\xea\\xb2\\x8c\\xec\\x9e\\x84 \\xec\\x96\\xb4\\xeb\\x94\\x94\\xeb\\xa1\\x9c \\xea\\xb0\\x80\\xeb\\x8a\\x94\\xea\\xb0\\x80?</strong>\\n                        <p class=\"desc\">\\xec\\xbd\\x94\\xeb\\xa1\\x9c\\xeb\\x82\\x9819\\xeb\\xa1\\x9c \\xeb\\xaa\\xa8\\xec\\x9e\\x84\\xec\\x9d\\xb4 \\xed\\x9e\\x98\\xeb\\x93\\xa4\\xec\\x97\\x88\\xeb\\x8d\\x98 2021\\xeb\\x85\\x84, \\xea\\xb2\\x8c\\xec\\x9e\\x84\\xec\\x9d\\x80 \\xec\\x9a\\xb0\\xeb\\xa6\\xac\\xec\\x97\\x90\\xea\\xb2\\x8c \\xed\\x81\\xb0 \\xec\\x9c\\x84\\xec\\x95\\x88\\xea\\xb1\\xb0\\xeb\\xa6\\xac\\xec\\x98\\x80\\xeb\\x8b\\xa4. \\xec\\x82\\xac\\xeb\\x9e\\x8c\\xeb\\x93\\xa4\\xec\\x9d\\x80 \\xea\\xb2\\x8c\\xec\\x9e\\x84\\xec\\x9c\\xbc\\xeb\\xa1\\x9c \\xeb\\xac\\xb4\\xeb\\xa3\\x8c\\xed\\x95\\x9c \\xec\\x8b\\x9c\\xea\\xb0\\x84\\xec\\x9d\\x84 \\xeb\\x8b\\xac\\xeb\\x9e\\xac\\xea\\xb3\\xa0 \\xea\\xb2\\x8c\\xec\\x9e\\x84\\xec\\x86\\x8d\\xec\\x97\\x90\\xec\\x84\\x9c \\xeb\\x8b\\xa4\\xeb\\xa5\\xb8 \\xec\\x82\\xac\\xeb\\x9e\\x8c\\xeb\\x93\\xa4\\xea\\xb3\\xbc \\xec\\x86\\x8c\\xed\\x86\\xb5\\xed\\x95\\x98\\xea\\xb8\\xb0\\xeb\\x8f\\x84 \\xed\\x96\\x88\\xeb\\x8b\\xa4. \\xea\\xb7\\xb8\\xeb\\x9f\\xbc\\xec\\x97\\x90\\xeb\\x8f\\x84 \\xeb\\xb6\\x88\\xea\\xb5\\xac\\xed\\x95\\x98\\xea\\xb3\\xa0 2021\\xeb\\x85\\x84\\xec\\x9d\\x80 \\xeb\\xb6\\x84\\xeb\\x85\\xb8\\xeb\\xa5\\xbc \\xec\\x8b\\xa4\\xec\\x9d\\x80 \\xed\\x8a\\xb8\\xeb\\x9f\\xad \\xed\\x96\\x89\\xeb\\xa0\\xac\\xec\\x9d\\xb4 \\xea\\xb0\\x9c\\xeb\\xb0\\x9c\\xec\\x82\\xac\\xeb\\xa5\\xbc \\xed\\x96\\xa5\\xed\\x96\\x88\\xea\\xb3\\xa0 \\xea\\xb0\\x9c\\xeb\\xb0\\x9c \\xec\\x88\\x98\\xec\\x9e\\xa5\\xeb\\x93\\xa4\\xec\\x9d\\x80 \\xec\\x97\\xb0\\xec\\x9d\\xbc \\xed\\x97\\x88\\xeb\\xa6\\xac\\xeb\\xa5\\xbc \\xec\\x88\\x99\\xec\\x98\\x80\\xeb\\x8b\\xa4. P2E\\xea\\xb2\\x8c\\xec\\x9e\\x84\\xec\\x9d\\x98 \\xeb\\x93\\xb1\\xec\\x9e\\xa5\\xec\\x9d\\x80 \\xec\\x83\\x88\\xeb\\xa1\\x9c\\xec\\x9a\\xb4 \\xec\\x8b\\x9c\\xec\\x9e\\xa5\\xec\\x9d\\x84 \\xec\\x97\\xb4\\xec\\x97\\x88\\xec\\xa7\\x80\\xeb\\xa7\\x8c \\xec\\x82\\xac\\xed\\x96\\x89\\xec\\x84\\xb1 \\xeb\\x85\\xbc\\xeb\\x9e\\x80\\xec\\x9d\\xb4 \\xeb\\x81\\x8a\\xec\\x9d\\xb4\\xec\\xa7\\x80 \\xec\\x95\\x8a\\xec\\x9c\\xbc\\xeb\\xa9\\xb0 \\xeb\\xaf\\xb8\\xeb\\x9e\\x98 \\xec\\x82\\xb0\\xec\\x97\\x85\\xec\\x9d\\xb8\\xea\\xb0\\x80 \\xeb\\x98\\x90\\xeb\\x8b\\xa4\\xeb\\xa5\\xb8 </p>\\n\\t\\t\\t\\t\\t\\t<div class=\"source_box\">\\n\\t\\t\\t\\t\\t\\t\\t<span class=\"date\">1\\xec\\xa3\\xbc\\xec\\x9d\\xbc \\xec\\xa0\\x84</span>\\n\\t\\t\\t\\t\\t\\t\\t<span class=\"source\">\\n                                \\n                                <span class=\"source_inner\">\\xea\\xb2\\x8c\\xec\\x9e\\x84\\xec\\x96\\xb4\\xeb\\xb0\\x94\\xec\\x9b\\x83</span>\\n                            </span>\\n\\t\\t\\t\\t\\t\\t</div>\\n\\t\\t\\t\\t\\t</a>\\n\\t\\t\\t\\t</li>\\n\\t\\t\\t\\n\\t\\t\\t\\t<li class=\"theme_item\" data-gdid=\"CAS_267d6e1d-6e0c-11ec-b7dd-6984331069f0\" data-da-position=\"true\">\\n\\t\\t\\t\\t\\t<a href=\"https://post.naver.com/viewer/postView.naver?volumeNo&#x3D;33062183&amp;memberNo&#x3D;11542122\" class=\"theme_thumb\" data-clk=\"tcc_gam.list2cont5\" target=\"_blank\">\\n\\t\\t\\t\\t\\t\\t<img src=\"https://s.pstatic.net/dthumb.phinf/?src&#x3D;%22https%3A%2F%2Fs.pstatic.net%2Fstatic%2Fwww%2Fmobile%2Fedit%2F20220105_1095%2Fupload_1641376186334LhQjm.jpg%22&amp;type&#x3D;nf340_228\" data-src=\"https://s.pstatic.net/dthumb.phinf/?src&#x3D;%22https%3A%2F%2Fs.pstatic.net%2Fstatic%2Fwww%2Fmobile%2Fedit%2F20220105_1095%2Fupload_1641376186334LhQjm.jpg%22&amp;type&#x3D;nf340_228\" alt=\"22\\xed\\x99\\x94. \\xed\\x98\\xb8\\xeb\\x9e\\x91\\xec\\x9d\\xb4\\xea\\xb0\\x80 \\xeb\\xac\\xb4\\xec\\x88\\xa0\\xed\\x95\\x98\\xeb\\x8a\\x94 \\xea\\xb2\\x8c\\xec\\x9e\\x84\" width=\"170\" height=\"114\" onerror=\"this.outerHTML=\\'<span class=\\\\\\'pm_noimg\\\\\\'><span class=\\\\\\'noimg_text\\\\\\'>\\xec\\x9d\\xb4\\xeb\\xaf\\xb8\\xec\\xa7\\x80 \\xec\\xa4\\x80\\xeb\\xb9\\x84\\xec\\xa4\\x91</span></span>\\'\">\\n\\t\\t\\t\\t\\t\\t<span class=\"thumb_bd\"></span>\\n                        \\n\\t\\t\\t\\t\\t</a>\\n\\t\\t\\t\\t\\t<a href=\"https://post.naver.com/viewer/postView.naver?volumeNo&#x3D;33062183&amp;memberNo&#x3D;11542122\" class=\"theme_info\" data-clk=\"tcc_gam.list2cont5\" target=\"_blank\">\\n\\t\\t\\t\\t\\t\\t<em class=\"theme_category\"> \\xea\\xb2\\x8c\\xec\\x9e\\x84</em>\\n\\t\\t\\t\\t\\t\\t<strong class=\"title elss\">22\\xed\\x99\\x94. \\xed\\x98\\xb8\\xeb\\x9e\\x91\\xec\\x9d\\xb4\\xea\\xb0\\x80 \\xeb\\xac\\xb4\\xec\\x88\\xa0\\xed\\x95\\x98\\xeb\\x8a\\x94 \\xea\\xb2\\x8c\\xec\\x9e\\x84</strong>\\n                        <p class=\"desc\">\\xec\\x95\\x88\\xeb\\x85\\x95\\xed\\x95\\x98\\xec\\x84\\xb8\\xec\\x9a\\x94, \\xec\\x97\\xac\\xeb\\x9f\\xac\\xeb\\xb6\\x84. \\xea\\xb2\\x8c\\xec\\x9e\\x84\\xec\\xb0\\x8d\\xeb\\xa8\\xb9 22\\xed\\x99\\x94\\xec\\x9e\\x85\\xeb\\x8b\\x88\\xeb\\x8b\\xa4. \\xec\\x9d\\xb4\\xeb\\xb2\\x88 \\xed\\x99\\x94\\xeb\\x8a\\x94 2022 \\xec\\x9e\\x84\\xec\\x9d\\xb8\\xeb\\x85\\x84\\xec\\x97\\x90 \\xeb\\xa7\\x9e\\xec\\xb6\\x94\\xec\\x96\\xb4 \\xec\\x84\\xa0\\xed\\x83\\x9d\\xed\\x95\\x9c \\xea\\xb2\\x8c\\xec\\x9e\\x84\\xec\\x9c\\xbc\\xeb\\xa1\\x9c \\xea\\xb0\\x9c\\xea\\xb7\\xb8 \\xec\\x9a\\x94\\xec\\x86\\x8c, \\xea\\xb8\\xb0\\xec\\x8a\\xb9\\xec\\xa0\\x84\\xea\\xb2\\xb0 \\xec\\x8a\\xa4\\xed\\x86\\xa0\\xeb\\xa6\\xac, \\xec\\x96\\xb4\\xec\\x9a\\xb8\\xeb\\xa6\\xac\\xeb\\x8a\\x94 BGM\\xea\\xb9\\x8c\\xec\\xa7\\x80 3\\xeb\\xb0\\x95\\xec\\x9e\\x90\\xeb\\xa5\\xbc \\xea\\xb3\\xa0\\xeb\\xa3\\xa8 \\xea\\xb0\\x96\\xec\\xb6\\x98 TRPG \\xea\\xb2\\x8c\\xec\\x9e\\x84 \\xed\\x99\\x98\\xec\\x84\\xb8\\xec\\xb7\\xa8\\xed\\x98\\xb8\\xec\\xa0\\x84\\xec\\x9e\\x85\\xeb\\x8b\\x88\\xeb\\x8b\\xa4. \\xec\\x9e\\xac\\xeb\\xaf\\xb8\\xec\\x9e\\x88\\xea\\xb2\\x8c \\xeb\\xb4\\x90\\xec\\xa3\\xbc\\xec\\x84\\xb8\\xec\\x9a\\x94~! \\xea\\xb0\\x90\\xec\\x82\\xac\\xed\\x95\\xa9\\xeb\\x8b\\x88\\xeb\\x8b\\xa4. ----------------------------------------------------------------------</p>\\n\\t\\t\\t\\t\\t\\t<div class=\"source_box\">\\n\\t\\t\\t\\t\\t\\t\\t<span class=\"date\">3\\xec\\x9d\\xbc \\xec\\xa0\\x84</span>\\n\\t\\t\\t\\t\\t\\t\\t<span class=\"source\">\\n                                \\n                                <span class=\"source_inner\">\\xec\\x8c\\x80\\xec\\x8b\\xa0</span>\\n                            </span>\\n\\t\\t\\t\\t\\t\\t</div>\\n\\t\\t\\t\\t\\t</a>\\n\\t\\t\\t\\t</li>\\n\\t\\t\\t\\n\\t\\t</ul>\\n\\t</div>\\n</div>\\n<div class=\"group_theme\" data-block-id=\"\" data-block-code=\"PC-THEME-GAMEAPP-MOBILE-RANKING-DEFAULT-2\" data-block-type=\"MATERIALS\" data-template-code=\"MOBILE-RANKING-LIST\"\\n\\n\\t data-da=\"container\"\\n\\t data-index=\"\"\\n     data-page=\"2\"\\n\\t style=\"display:none\">\\n\\n\\t<div class=\"list_theme_wrap\">\\n\\t\\t<ul class=\"list_theme\">\\n\\t\\t\\t\\n\\t\\t\\t\\t<li class=\"theme_item\" data-gdid=\"CAS_267d6e1e-6e0c-11ec-b7dd-e56705b3736c\" data-da-position=\"true\">\\n\\t\\t\\t\\t\\t<a href=\"https://post.naver.com/viewer/postView.naver?volumeNo&#x3D;33054366&amp;memberNo&#x3D;4704108\" class=\"theme_thumb\" data-clk=\"tcc_gam.list3cont1\" target=\"_blank\">\\n\\t\\t\\t\\t\\t\\t<img  data-src=\"https://s.pstatic.net/dthumb.phinf/?src&#x3D;%22https%3A%2F%2Fs.pstatic.net%2Fstatic%2Fwww%2Fmobile%2Fedit%2F20220105_1095%2Fupload_1641376251079JDeMJ.jpg%22&amp;type&#x3D;nf340_228\" alt=\"e\\xec\\x8a\\xa4\\xed\\x8f\\xac\\xec\\xb8\\xa0 \\xec\\x8a\\xa4\\xed\\x82\\xa8 &amp; \\xec\\x9d\\xb8\\xea\\xb2\\x8c\\xec\\x9e\\x84 \\xec\\x83\\x81\\xed\\x92\\x88 \\xec\\x9d\\xb4\\xeb\\xaa\\xa8\\xec\\xa0\\x80\\xeb\\xaa\\xa8\" width=\"170\" height=\"114\" onerror=\"this.outerHTML=\\'<span class=\\\\\\'pm_noimg\\\\\\'><span class=\\\\\\'noimg_text\\\\\\'>\\xec\\x9d\\xb4\\xeb\\xaf\\xb8\\xec\\xa7\\x80 \\xec\\xa4\\x80\\xeb\\xb9\\x84\\xec\\xa4\\x91</span></span>\\'\">\\n\\t\\t\\t\\t\\t\\t<span class=\"thumb_bd\"></span>\\n                        \\n\\t\\t\\t\\t\\t</a>\\n\\t\\t\\t\\t\\t<a href=\"https://post.naver.com/viewer/postView.naver?volumeNo&#x3D;33054366&amp;memberNo&#x3D;4704108\" class=\"theme_info\" data-clk=\"tcc_gam.list3cont1\" target=\"_blank\">\\n\\t\\t\\t\\t\\t\\t<em class=\"theme_category\"> \\xea\\xb2\\x8c\\xec\\x9e\\x84</em>\\n\\t\\t\\t\\t\\t\\t<strong class=\"title elss\">e\\xec\\x8a\\xa4\\xed\\x8f\\xac\\xec\\xb8\\xa0 \\xec\\x8a\\xa4\\xed\\x82\\xa8 & \\xec\\x9d\\xb8\\xea\\xb2\\x8c\\xec\\x9e\\x84 \\xec\\x83\\x81\\xed\\x92\\x88 \\xec\\x9d\\xb4\\xeb\\xaa\\xa8\\xec\\xa0\\x80\\xeb\\xaa\\xa8</strong>\\n                        <p class=\"desc\">\\xeb\\xb0\\x98\\xea\\xb0\\x91\\xec\\x8a\\xb5\\xeb\\x8b\\x88\\xeb\\x8b\\xa4. Periodista \\xec\\x9e\\x85\\xeb\\x8b\\x88\\xeb\\x8b\\xa4. 2022\\xeb\\x85\\x84 \\xec\\x83\\x88\\xed\\x95\\xb4\\xea\\xb0\\x80 \\xeb\\xb0\\x9d\\xec\\x95\\x98\\xec\\x8a\\xb5\\xeb\\x8b\\x88\\xeb\\x8b\\xa4. e\\xec\\x8a\\xa4\\xed\\x8f\\xac\\xec\\xb8\\xa0 \\xed\\x8c\\xac \\xec\\x97\\xac\\xeb\\x9f\\xac\\xeb\\xb6\\x84\\xea\\xbb\\x98\\xec\\x84\\x9c \\xea\\xb8\\xb0\\xeb\\x8c\\x80\\xed\\x95\\x98\\xec\\x8b\\x9c\\xeb\\x8a\\x94 e\\xec\\x8a\\xa4\\xed\\x8f\\xac\\xec\\xb8\\xa0 \\xec\\x83\\x81\\xed\\x92\\x88\\xec\\x9d\\x80 \\xeb\\xac\\xb4\\xec\\x97\\x87\\xec\\x9d\\xb8\\xea\\xb0\\x80\\xec\\x9a\\x94? \\xeb\\xb2\\x8c\\xec\\x8d\\xa8\\xeb\\xb6\\x80\\xed\\x84\\xb0 \\xec\\x83\\x88\\xeb\\xa1\\x9c\\xec\\x9a\\xb4 \\xec\\x8b\\x9c\\xec\\xa6\\x8c\\xec\\x9d\\x98 \\xec\\x9c\\xa0\\xeb\\x8b\\x88\\xed\\x8f\\xbc\\xea\\xb3\\xbc \\xec\\x9d\\x98\\xeb\\xa5\\x98\\xeb\\xa5\\xbc \\xea\\xb8\\xb0\\xeb\\x8c\\x80\\xed\\x95\\x98\\xeb\\xa9\\xb4\\xec\\x84\\x9c 2022\\xeb\\x85\\x84\\xec\\x9d\\x84 \\xeb\\xa7\\x9e\\xec\\x9d\\xb4\\xed\\x95\\x9c \\xea\\xb0\\x80\\xec\\x9a\\xb4\\xeb\\x8d\\xb0 \\xed\\x98\\x84\\xec\\x9e\\xac \\xeb\\xa1\\xa4 e\\xec\\x8a\\xa4\\xed\\x8f\\xac\\xec\\xb8\\xa0 \\xed\\x8c\\xac \\xec\\x97\\xac\\xeb\\x9f\\xac\\xeb\\xb6\\x84\\xea\\xbb\\x98\\xec\\x84\\x9c \\xec\\x9d\\xb4\\xeb\\xaa\\xa9\\xec\\x9d\\x84 \\xec\\xa7\\x91\\xec\\xa4\\x91\\xec\\x8b\\x9c\\xed\\x82\\xa4\\xea\\xb2\\x8c \\xeb\\xa7\\x8c\\xeb\\x93\\x9c\\xeb\\x8a\\x94 \\xec\\x83\\x81\\xed\\x92\\x88\\xec\\x9d\\xb4 \\xec\\x9e\\x88\\xeb\\x8b\\xa4\\xeb\\xa9\\xb4 \\xeb\\xa6\\xac\\xea\\xb7\\xb8 \\xec\\x98\\xa4\\xeb\\xb8\\x8c \\xeb\\xa0\\x88\\xec\\xa0\\x84\\xeb\\x93\\x9c \\xec\\x9b\\x94\\xeb\\x93\\x9c \\xec\\xb1\\x94\\xed\\x94\\xbc\\xec\\x96\\xb8\\xec\\x8b\\xad \\xec\\x9a\\xb0\\xec\\x8a\\xb9 \\xec\\x8a\\xa4\\xed\\x82\\xa8\\xec\\x9d\\x84 \\xea\\xb8\\xb0\\xeb\\x8c\\x80\\xed\\x95\\x98\\xec\\x8b\\x9c\\xeb\\x8a\\x94 \\xeb\\xb6\\x84\\xeb\\x93\\xa4\\xec\\x9d\\xb4 \\xea\\xb3\\x84\\xec\\x8b\\xa4\\xea\\xb2\\x81\\xeb\\x8b\\x88\\xeb\\x8b\\xa4. </p>\\n\\t\\t\\t\\t\\t\\t<div class=\"source_box\">\\n\\t\\t\\t\\t\\t\\t\\t<span class=\"date\">3\\xec\\x9d\\xbc \\xec\\xa0\\x84</span>\\n\\t\\t\\t\\t\\t\\t\\t<span class=\"source\">\\n                                \\n                                <span class=\"source_inner\">Periodista</span>\\n                            </span>\\n\\t\\t\\t\\t\\t\\t</div>\\n\\t\\t\\t\\t\\t</a>\\n\\t\\t\\t\\t</li>\\n\\t\\t\\t\\n\\t\\t\\t\\t<li class=\"theme_item\" data-gdid=\"CAS_954ad95d-6d34-11ec-b7dd-552620271ab8\" data-da-position=\"true\">\\n\\t\\t\\t\\t\\t<a href=\"https://post.naver.com/viewer/postView.naver?volumeNo&#x3D;33059977&amp;memberNo&#x3D;22394856\" class=\"theme_thumb\" data-clk=\"tcc_gam.list3cont2\" target=\"_blank\">\\n\\t\\t\\t\\t\\t\\t<img  data-src=\"https://s.pstatic.net/dthumb.phinf/?src&#x3D;%22https%3A%2F%2Fs.pstatic.net%2Fstatic%2Fwww%2Fmobile%2Fedit%2F20220104_1095%2Fupload_1641289096776a4nSw.jpg%22&amp;type&#x3D;nf340_228\" alt=\"\\xec\\xa3\\xbc\\xec\\x95\\x84\\xeb\\x8b\\x98\\xec\\x9d\\x98 \\xec\\x95\\x84\\xeb\\xa5\\xb4\\xeb\\xaf\\xb8\\xec\\x95\\x84:\\xec\\x9a\\xb4\\xeb\\xaa\\x85\\xec\\x9d\\x98\\xec\\x8b\\xa0 \\xec\\x9d\\xb4\\xec\\x8b\\x9c\\xec\\x8a\\xa4 \\xec\\xbd\\x94\\xec\\x8a\\xa4\\xed\\x94\\x84\\xeb\\xa0\\x88\" width=\"170\" height=\"114\" onerror=\"this.outerHTML=\\'<span class=\\\\\\'pm_noimg\\\\\\'><span class=\\\\\\'noimg_text\\\\\\'>\\xec\\x9d\\xb4\\xeb\\xaf\\xb8\\xec\\xa7\\x80 \\xec\\xa4\\x80\\xeb\\xb9\\x84\\xec\\xa4\\x91</span></span>\\'\">\\n\\t\\t\\t\\t\\t\\t<span class=\"thumb_bd\"></span>\\n                        \\n\\t\\t\\t\\t\\t</a>\\n\\t\\t\\t\\t\\t<a href=\"https://post.naver.com/viewer/postView.naver?volumeNo&#x3D;33059977&amp;memberNo&#x3D;22394856\" class=\"theme_info\" data-clk=\"tcc_gam.list3cont2\" target=\"_blank\">\\n\\t\\t\\t\\t\\t\\t<em class=\"theme_category\"> \\xea\\xb2\\x8c\\xec\\x9e\\x84</em>\\n\\t\\t\\t\\t\\t\\t<strong class=\"title elss\">\\xec\\xa3\\xbc\\xec\\x95\\x84\\xeb\\x8b\\x98\\xec\\x9d\\x98 \\xec\\x95\\x84\\xeb\\xa5\\xb4\\xeb\\xaf\\xb8\\xec\\x95\\x84:\\xec\\x9a\\xb4\\xeb\\xaa\\x85\\xec\\x9d\\x98\\xec\\x8b\\xa0 \\xec\\x9d\\xb4\\xec\\x8b\\x9c\\xec\\x8a\\xa4 \\xec\\xbd\\x94\\xec\\x8a\\xa4\\xed\\x94\\x84\\xeb\\xa0\\x88</strong>\\n                        <p class=\"desc\">\\xec\\xba\\x90\\xeb\\xa6\\xad\\xed\\x84\\xb0 : \\xec\\x95\\x84\\xeb\\xa5\\xb4\\xeb\\xaf\\xb8\\xec\\x95\\x84 : \\xec\\x9a\\xb4\\xeb\\xaa\\x85\\xec\\x9d\\x98 \\xec\\x8b\\xa0 \\xec\\x9d\\xb4\\xec\\x8b\\x9c\\xec\\x8a\\xa4 Coser : \\xec\\xa3\\xbc\\xec\\x95\\x84\\xec\\x95\\x88\\xeb\\x85\\x95\\xed\\x95\\x98\\xec\\x84\\xb8\\xec\\x9a\\x94. cosis\\xec\\x95\\x8c\\xed\\x8a\\xb8\\xeb\\xa3\\xa8\\xec\\xa5\\xac \\xec\\x9e\\x85\\xeb\\x8b\\x88\\xeb\\x8b\\xa4. \\xec\\x9d\\xb4\\xeb\\xb2\\x88 \\xec\\xa3\\xbc \\xed\\x8f\\xac\\xec\\x8a\\xa4\\xed\\x8a\\xb8\\xeb\\x8a\\x94 \\xec\\xa0\\x95\\xeb\\xa7\\x90\\xeb\\xa1\\x9c \\xec\\x97\\xb4\\xeb\\xa0\\xac\\xed\\x95\\x9c \\xec\\x84\\xb1\\xec\\x9b\\x90\\xec\\x9d\\x84 \\xeb\\xb3\\xb4\\xec\\x97\\xac\\xec\\xa3\\xbc\\xec\\x85\\xa8\\xeb\\x8d\\x98 \\xec\\x95\\x84\\xeb\\xa5\\xb4\\xeb\\xaf\\xb8\\xec\\x95\\x84:\\xec\\x9a\\xb4\\xeb\\xaa\\x85\\xec\\x9d\\x98 \\xec\\x8b\\xa0 \\xea\\xb0\\x80\\xec\\x9d\\xb4\\xec\\x95\\x84 \\xec\\xbd\\x94\\xec\\x8a\\xa4\\xed\\x94\\x84\\xeb\\xa0\\x88\\xec\\x97\\x90 \\xec\\x9d\\xb4\\xec\\x9d\\x80 2\\xeb\\xb2\\x88\\xec\\xa7\\xb8 \\xec\\x95\\x84\\xeb\\xa5\\xb4\\xeb\\xaf\\xb8\\xec\\x95\\x84:\\xec\\x9a\\xb4\\xeb\\xaa\\x85\\xec\\x9d\\x98 \\xec\\x8b\\xa0 \\xec\\xbd\\x94\\xec\\x8a\\xa4\\xed\\x94\\x84\\xeb\\xa0\\x88! \\xec\\x84\\xb9\\xec\\x8b\\x9c \\xec\\x97\\xac\\xec\\x8b\\xa0\\xec\\x9d\\xb4\\xeb\\x9d\\xbc\\xea\\xb3\\xa0 \\xeb\\xb6\\x88\\xeb\\x9f\\xac\\xeb\\x8f\\x84 \\xea\\xb3\\xbc\\xec\\x96\\xb8\\xec\\x9d\\xb4 \\xec\\x95\\x84\\xeb\\x8b\\x8c \\xec\\xa3\\xbc\\xec\\x95\\x84\\xeb\\x8b\\x98\\xec\\x9d\\x98!\\xec\\x95\\x84\\xeb\\xa5\\xb4\\xeb\\xaf\\xb8\\xec\\x95\\x84:\\xec\\x9a\\xb4\\xeb\\xaa\\x85\\xec\\x9d\\x98 \\xec\\x8b\\xa0 \\xec\\x9d\\xb4\\xec\\x8b\\x9c\\xec\\x8a\\xa4 \\xec\\xbd\\x94\\xec\\x8a\\xa4\\xed\\x94\\x84\\xeb\\xa0\\x88\\xec\\x9e\\x85\\xeb\\x8b\\x88\\xeb\\x8b\\xa4.&#x27;\\xec\\x95\\x84\\xeb\\xa5\\xb4\\xeb\\xaf\\xb8\\xec\\x95\\x84 : \\xec\\x9a\\xb4\\xeb\\xaa\\x85\\xec\\x9d\\x98 \\xec\\x8b\\xa0 &#x27; \\xec\\x9d\\xb4 \\xeb\\xac\\xb4\\xec\\x97\\x88\\xec\\x9d\\xb8\\xea\\xb0\\x80\\xec\\x9a\\x94?</p>\\n\\t\\t\\t\\t\\t\\t<div class=\"source_box\">\\n\\t\\t\\t\\t\\t\\t\\t<span class=\"date\">3\\xec\\x9d\\xbc \\xec\\xa0\\x84</span>\\n\\t\\t\\t\\t\\t\\t\\t<span class=\"source\">\\n                                \\n                                <span class=\"source_inner\">Cosis</span>\\n                            </span>\\n\\t\\t\\t\\t\\t\\t</div>\\n\\t\\t\\t\\t\\t</a>\\n\\t\\t\\t\\t</li>\\n\\t\\t\\t\\n\\t\\t\\t\\t<li class=\"theme_item\" data-gdid=\"CAS_954ad961-6d34-11ec-b7dd-29e1cc5e9dbf\" data-da-position=\"true\">\\n\\t\\t\\t\\t\\t<a href=\"https://post.naver.com/viewer/postView.naver?volumeNo&#x3D;33064453&amp;memberNo&#x3D;54930552\" class=\"theme_thumb\" data-clk=\"tcc_gam.list3cont3\" target=\"_blank\">\\n\\t\\t\\t\\t\\t\\t<img  data-src=\"https://s.pstatic.net/dthumb.phinf/?src&#x3D;%22https%3A%2F%2Fs.pstatic.net%2Fstatic%2Fwww%2Fmobile%2Fedit%2F20220104_1095%2Fupload_1641289593069UpZ4S.jpg%22&amp;type&#x3D;nf340_228\" alt=\"\\xeb\\xb8\\x94\\xeb\\xa3\\xa8 \\xec\\x95\\x84\\xec\\xb9\\xb4\\xec\\x9d\\xb4\\xeb\\xb8\\x8c #3\" width=\"170\" height=\"114\" onerror=\"this.outerHTML=\\'<span class=\\\\\\'pm_noimg\\\\\\'><span class=\\\\\\'noimg_text\\\\\\'>\\xec\\x9d\\xb4\\xeb\\xaf\\xb8\\xec\\xa7\\x80 \\xec\\xa4\\x80\\xeb\\xb9\\x84\\xec\\xa4\\x91</span></span>\\'\">\\n\\t\\t\\t\\t\\t\\t<span class=\"thumb_bd\"></span>\\n                        \\n\\t\\t\\t\\t\\t</a>\\n\\t\\t\\t\\t\\t<a href=\"https://post.naver.com/viewer/postView.naver?volumeNo&#x3D;33064453&amp;memberNo&#x3D;54930552\" class=\"theme_info\" data-clk=\"tcc_gam.list3cont3\" target=\"_blank\">\\n\\t\\t\\t\\t\\t\\t<em class=\"theme_category\"> \\xea\\xb2\\x8c\\xec\\x9e\\x84</em>\\n\\t\\t\\t\\t\\t\\t<strong class=\"title elss\">\\xeb\\xb8\\x94\\xeb\\xa3\\xa8 \\xec\\x95\\x84\\xec\\xb9\\xb4\\xec\\x9d\\xb4\\xeb\\xb8\\x8c #3</strong>\\n                        <p class=\"desc\">\\xec\\x9e\\x91\\xea\\xb0\\x80\\xec\\x9d\\x98 \\xed\\x95\\x9c \\xeb\\xa7\\x88\\xeb\\x94\\x94: \\xed\\x95\\x99\\xec\\x83\\x9d\\xeb\\x93\\xa4\\xec\\x97\\x90\\xea\\xb2\\x8c\\xeb\\x8a\\x94 \\xec\\x97\\xad\\xed\\x95\\xa0\\xea\\xb5\\xb0 \\xeb\\xa7\\x90\\xea\\xb3\\xa0\\xeb\\x8f\\x84 \\xec\\xa7\\x80\\xed\\x98\\x95\\xec\\x97\\x90 \\xeb\\x94\\xb0\\xeb\\xa5\\xb8 \\xec\\x83\\x81\\xec\\x84\\xb1\\xec\\x9d\\xb4 \\xec\\x9e\\x88\\xeb\\x8b\\xa4\\xea\\xb3\\xa0 \\xed\\x95\\xa9\\xeb\\x8b\\x88\\xeb\\x8b\\xa4. \\xec\\xa0\\x80\\xeb\\xa5\\xbc \\xed\\x95\\x99\\xec\\x83\\x9d\\xec\\x9c\\xbc\\xeb\\xa1\\x9c \\xec\\xb9\\x98\\xec\\x9e\\x90\\xeb\\xa9\\xb4\\xe2\\x80\\xa6 \\xec\\x8b\\xa4\\xeb\\x82\\xb4\\xec\\xa0\\x84\\xec\\x97\\x90 \\xed\\x8a\\xb9\\xed\\x99\\x94\\xeb\\x90\\x9c \\xec\\x82\\xac\\xeb\\x9e\\x8c\\xea\\xb0\\x99\\xeb\\x84\\xa4\\xec\\x9a\\x94 :) \\xec\\x97\\xac\\xeb\\x9f\\xac\\xeb\\xb6\\x84\\xec\\x9d\\x80 \\xec\\x8a\\xa4\\xec\\x8a\\xa4\\xeb\\xa1\\x9c \\xec\\x96\\xb4\\xeb\\x96\\xa4 \\xec\\x83\\x81\\xec\\x84\\xb1\\xec\\x9d\\x98 \\xed\\x95\\x99\\xec\\x83\\x9d\\xec\\x9d\\xb4\\xeb\\x9d\\xbc\\xea\\xb3\\xa0 \\xec\\x83\\x9d\\xea\\xb0\\x81\\xed\\x95\\x98\\xec\\x8b\\x9c\\xeb\\x82\\x98\\xec\\x9a\\x94? \\xec\\x98\\xa4\\xeb\\x8a\\x98\\xeb\\x8f\\x84 \\xec\\x9e\\xac\\xeb\\xb0\\x8c\\xea\\xb2\\x8c \\xeb\\xb4\\x90\\xec\\xa3\\xbc\\xec\\x85\\x94\\xec\\x84\\x9c \\xea\\xb0\\x90\\xec\\x82\\xac\\xeb\\x93\\x9c\\xeb\\xa6\\xbd\\xeb\\x8b\\x88\\xeb\\x8b\\xa4!</p>\\n\\t\\t\\t\\t\\t\\t<div class=\"source_box\">\\n\\t\\t\\t\\t\\t\\t\\t<span class=\"date\">3\\xec\\x9d\\xbc \\xec\\xa0\\x84</span>\\n\\t\\t\\t\\t\\t\\t\\t<span class=\"source\">\\n                                \\n                                <span class=\"source_inner\">\\xec\\x8a\\xa4\\xec\\xbd\\x9c\\xeb\\x9d\\xbc</span>\\n                            </span>\\n\\t\\t\\t\\t\\t\\t</div>\\n\\t\\t\\t\\t\\t</a>\\n\\t\\t\\t\\t</li>\\n\\t\\t\\t\\n\\t\\t\\t\\t<li class=\"theme_item\" data-gdid=\"CAS_954ad95c-6d34-11ec-b7dd-e15b0b6829f3\" data-da-position=\"true\">\\n\\t\\t\\t\\t\\t<a href=\"https://post.naver.com/viewer/postView.naver?volumeNo&#x3D;33038988&amp;memberNo&#x3D;31380582\" class=\"theme_thumb\" data-clk=\"tcc_gam.list3cont4\" target=\"_blank\">\\n\\t\\t\\t\\t\\t\\t<img  data-src=\"https://s.pstatic.net/dthumb.phinf/?src&#x3D;%22https%3A%2F%2Fs.pstatic.net%2Fstatic%2Fwww%2Fmobile%2Fedit%2F20220104_1095%2Fupload_1641289058887XZ9iy.jpg%22&amp;type&#x3D;nf340_228\" alt=\"\\xeb\\xb2\\xa0\\xec\\x9d\\xb8\\xec\\x9d\\xb4 \\xec\\x95\\x84\\xec\\xa7\\x80\\xeb\\xa5\\xb4 \\xeb\\xb2\\xbd\\xec\\x97\\x90 \\xeb\\xa8\\xb8\\xeb\\xa6\\xac \\xec\\xbf\\xb5\\xed\\x95\\xb4\\xec\\xaa\\x84\" width=\"170\" height=\"114\" onerror=\"this.outerHTML=\\'<span class=\\\\\\'pm_noimg\\\\\\'><span class=\\\\\\'noimg_text\\\\\\'>\\xec\\x9d\\xb4\\xeb\\xaf\\xb8\\xec\\xa7\\x80 \\xec\\xa4\\x80\\xeb\\xb9\\x84\\xec\\xa4\\x91</span></span>\\'\">\\n\\t\\t\\t\\t\\t\\t<span class=\"thumb_bd\"></span>\\n                        \\n\\t\\t\\t\\t\\t</a>\\n\\t\\t\\t\\t\\t<a href=\"https://post.naver.com/viewer/postView.naver?volumeNo&#x3D;33038988&amp;memberNo&#x3D;31380582\" class=\"theme_info\" data-clk=\"tcc_gam.list3cont4\" target=\"_blank\">\\n\\t\\t\\t\\t\\t\\t<em class=\"theme_category\"> \\xea\\xb2\\x8c\\xec\\x9e\\x84</em>\\n\\t\\t\\t\\t\\t\\t<strong class=\"title elss\">\\xeb\\xb2\\xa0\\xec\\x9d\\xb8\\xec\\x9d\\xb4 \\xec\\x95\\x84\\xec\\xa7\\x80\\xeb\\xa5\\xb4 \\xeb\\xb2\\xbd\\xec\\x97\\x90 \\xeb\\xa8\\xb8\\xeb\\xa6\\xac \\xec\\xbf\\xb5\\xed\\x95\\xb4\\xec\\xaa\\x84</strong>\\n                        <p class=\"desc\">\\xec\\xa7\\x80\\xeb\\x82\\x9c \\xeb\\xa6\\xac\\xea\\xb7\\xb8 \\xec\\x98\\xa4\\xeb\\xb8\\x8c \\xeb\\xa0\\x88\\xec\\xa0\\x84\\xeb\\x93\\x9c \\xeb\\xa9\\x94\\xec\\xb9\\xb4\\xec\\x8b\\xa4\\xed\\x97\\x98\\xec\\x8b\\xa4\\xec\\x97\\x90\\xec\\x84\\xa0 \\xeb\\x8f\\x8c\\xed\\x92\\x8d\\xec\\x9c\\xbc\\xeb\\xa1\\x9c \\xec\\xb1\\x94\\xed\\x94\\xbc\\xec\\x96\\xb8\\xec\\x9d\\xb4 \\xec\\x83\\x9d\\xec\\x84\\xb1\\xed\\x95\\x9c \\xec\\xa7\\x80\\xed\\x98\\x95\\xec\\xa7\\x80\\xeb\\xac\\xbc\\xec\\x9d\\x84 \\xeb\\x84\\x98\\xeb\\x8a\\x94 \\xec\\x8b\\xa4\\xed\\x97\\x98\\xec\\x9d\\x84 \\xec\\xa7\\x84\\xed\\x96\\x89\\xed\\x96\\x88\\xec\\x97\\x88\\xeb\\x8b\\xa4. \\xea\\xb7\\xb8\\xeb\\xa6\\xac\\xea\\xb3\\xa0 \\xea\\xb0\\x99\\xec\\x9d\\x80 \\xed\\x8c\\x80\\xec\\x9d\\xb4 \\xec\\x9e\\x90\\xec\\x9c\\xa0\\xeb\\xa1\\xad\\xea\\xb2\\x8c \\xed\\x86\\xb5\\xea\\xb3\\xbc\\xed\\x95\\xa0 \\xec\\x88\\x98 \\xec\\x9e\\x88\\xeb\\x8a\\x94 \\xec\\x95\\x84\\xea\\xb5\\xb0 \\xec\\x95\\x84\\xec\\xa7\\x80\\xeb\\xa5\\xb4\\xea\\xb0\\x80 \\xec\\x83\\x9d\\xec\\x84\\xb1\\xed\\x95\\x9c \\xed\\x99\\xa9\\xec\\xa0\\x9c\\xec\\x9d\\x98 \\xec\\xa7\\x84\\xec\\x98\\x81\\xec\\x9d\\x84 \\xeb\\x8f\\x8c\\xed\\x92\\x8d\\xea\\xb3\\xbc \\xeb\\xa7\\x88\\xeb\\xb2\\x95\\xea\\xb3\\xb5\\xed\\x95\\x99 \\xeb\\xa1\\x9c\\xec\\xbc\\x93 \\xeb\\xb2\\xa8\\xed\\x8a\\xb8\\xeb\\xa1\\x9c \\xec\\xa7\\x80\\xeb\\x82\\x98\\xec\\xb9\\xa0 \\xec\\x88\\x98 \\xec\\x97\\x86\\xeb\\x8b\\xa4\\xeb\\x8a\\x94 \\xec\\x9d\\xb4\\xec\\x83\\x81\\xed\\x95\\x9c \\xec\\x82\\xac\\xec\\x8b\\xa4\\xec\\x9d\\x84 \\xec\\x95\\x8c\\xec\\x95\\x98\\xeb\\x8b\\xa4. \\xeb\\xb9\\x84\\xec\\x8a\\xb7\\xed\\x95\\x9c \\xec\\x84\\xb1\\xeb\\x8a\\xa5\\xec\\x9d\\x84 \\xea\\xb0\\x80\\xec\\xa7\\x84 \\xec\\x9a\\x94\\xeb\\xa6\\xad \\xeb\\xa7\\x9d\\xec\\x9e\\x90\\xec\\x9d\\x98 \\xec\\xa7\\x84\\xec\\x9d\\x80 \\xed\\x86\\xb5\\xea\\xb3\\xbc\\xed\\x95\\xa0 \\xec\\x88\\x98 \\xec\\x9e\\x88\\xec\\x97\\x88\\xeb\\x8a\\x94\\xeb\\x8d\\xb0 \\xeb\\xa7\\x90\\xec\\x9d\\xb4\\xeb\\x8b\\xa4. \\xea\\xb7\\xb8\\xeb\\x9f\\xb0\\xeb\\x8d\\xb0 \\xec\\x8b\\xa4\\xec\\xa0\\x9c \\xea\\xb2\\x8c\\xec\\x9e\\x84\\xec\\x9d\\x84 \\xed\\x94\\x8c\\xeb\\xa0\\x88\\xec\\x9d\\xb4 \\xeb\\x8f\\x84\\xec\\xa4\\x91 \\xed\\x95\\x9c \\xea\\xb0\\x80\\xec\\xa7\\x80 \\xeb\\x8d\\x94 </p>\\n\\t\\t\\t\\t\\t\\t<div class=\"source_box\">\\n\\t\\t\\t\\t\\t\\t\\t<span class=\"date\">1\\xec\\xa3\\xbc\\xec\\x9d\\xbc \\xec\\xa0\\x84</span>\\n\\t\\t\\t\\t\\t\\t\\t<span class=\"source\">\\n                                \\n                                <span class=\"source_inner\">\\xea\\xb5\\xad\\xeb\\xaf\\xbc\\xed\\x8a\\xb8\\xeb\\xa6\\xac</span>\\n                            </span>\\n\\t\\t\\t\\t\\t\\t</div>\\n\\t\\t\\t\\t\\t</a>\\n\\t\\t\\t\\t</li>\\n\\t\\t\\t\\n\\t\\t\\t\\t<li class=\"theme_item\" data-gdid=\"CAS_954ad95f-6d34-11ec-b7dd-0fdbdd1394ef\" data-da-position=\"true\">\\n\\t\\t\\t\\t\\t<a href=\"https://post.naver.com/viewer/postView.naver?volumeNo&#x3D;33035892&amp;memberNo&#x3D;1166780\" class=\"theme_thumb\" data-clk=\"tcc_gam.list3cont5\" target=\"_blank\">\\n\\t\\t\\t\\t\\t\\t<img  data-src=\"https://s.pstatic.net/dthumb.phinf/?src&#x3D;%22https%3A%2F%2Fs.pstatic.net%2Fstatic%2Fwww%2Fmobile%2Fedit%2F20220104_1095%2Fupload_1641289325845E8OPT.png%22&amp;type&#x3D;nf340_228\" alt=\"\\xec\\x88\\xa8\\xea\\xb2\\xa8\\xeb\\x91\\x94 \\xec\\x9a\\x95\\xeb\\xa7\\x9d\" width=\"170\" height=\"114\" onerror=\"this.outerHTML=\\'<span class=\\\\\\'pm_noimg\\\\\\'><span class=\\\\\\'noimg_text\\\\\\'>\\xec\\x9d\\xb4\\xeb\\xaf\\xb8\\xec\\xa7\\x80 \\xec\\xa4\\x80\\xeb\\xb9\\x84\\xec\\xa4\\x91</span></span>\\'\">\\n\\t\\t\\t\\t\\t\\t<span class=\"thumb_bd\"></span>\\n                        \\n\\t\\t\\t\\t\\t</a>\\n\\t\\t\\t\\t\\t<a href=\"https://post.naver.com/viewer/postView.naver?volumeNo&#x3D;33035892&amp;memberNo&#x3D;1166780\" class=\"theme_info\" data-clk=\"tcc_gam.list3cont5\" target=\"_blank\">\\n\\t\\t\\t\\t\\t\\t<em class=\"theme_category\"> \\xea\\xb2\\x8c\\xec\\x9e\\x84</em>\\n\\t\\t\\t\\t\\t\\t<strong class=\"title elss\">\\xec\\x88\\xa8\\xea\\xb2\\xa8\\xeb\\x91\\x94 \\xec\\x9a\\x95\\xeb\\xa7\\x9d</strong>\\n                        <p class=\"desc\">\\xec\\x9b\\x90\\xed\\x8c\\x90\\xec\\x97\\x90 \\xec\\x96\\xb4\\xec\\x9a\\xb8\\xeb\\xa6\\xac\\xea\\xb2\\x8c \\xec\\xa0\\x9c\\xeb\\x84\\xa4\\xec\\x8b\\x9c\\xec\\x8a\\xa4 \\xeb\\x9e\\xa8\\xed\\x8c\\x8c\\xeb\\xa6\\xac\\xec\\x98\\xa8 \\xea\\xb0\\x99\\xec\\x9d\\x80 \\xea\\xb1\\xb8 \\xec\\x83\\x9d\\xea\\xb0\\x81\\xed\\x96\\x88\\xec\\xa7\\x80\\xeb\\xa7\\x8c \\xea\\xb7\\xb8\\xeb\\x83\\xa5 \\xea\\xb7\\xbc\\xeb\\xb3\\xb8 \\xec\\x9a\\xa9\\xec\\x9e\\x90\\xeb\\xac\\xbc\\xec\\x9d\\x84 \\xeb\\x94\\xb0\\xeb\\xa5\\xb4\\xea\\xb8\\xb0\\xeb\\xa1\\x9c \\xed\\x96\\x88\\xec\\x8a\\xb5\\xeb\\x8b\\x88\\xeb\\x8b\\xa4.2\\xeb\\x85\\x84\\xec\\x97\\x90 \\xea\\xb1\\xb8\\xec\\xb9\\x9c \\xed\\x97\\x98\\xeb\\x82\\x9c\\xed\\x95\\x9c \\xec\\x8b\\x9c\\xeb\\xa0\\xa8\\xec\\x9d\\xb4 \\xeb\\x81\\x9d\\xeb\\x82\\x98\\xea\\xb3\\xa0, \\xec\\x9d\\xb4\\xec\\xa0\\x9c \\xec\\x83\\x88\\xeb\\xa1\\x9c\\xec\\x9a\\xb4 \\xea\\xb3\\xa0\\xeb\\x82\\x9c\\xec\\x9d\\xb4 \\xec\\xb0\\xbe\\xec\\x95\\x84\\xec\\x98\\xa8 \\xeb\\x82\\x98\\xec\\x9d\\xb4\\xed\\x8a\\xb8\\xec\\x95\\xa4\\xec\\xa0\\xa4[\\xec\\x82\\xac\\xec\\x9d\\xb4\\xed\\x81\\xb4\\xeb\\xa1\\xad\\xec\\x8a\\xa4 \\xed\\x94\\x84\\xeb\\xa6\\xb0\\xec\\x84\\xb8\\xec\\x8a\\xa4] \\xeb\\xac\\xbc\\xec\\x9d\\x84 \\xeb\\xbf\\x9c\\xec\\x9c\\xbc\\xeb\\xa9\\xb0 \\xed\\x99\\x94\\xeb\\xa0\\xa4\\xed\\x95\\x98\\xea\\xb2\\x8c \\xeb\\x93\\xb1\\xec\\x9e\\xa5\\xeb\\xb9\\x99\\xeb\\xa3\\xa1\\xec\\x96\\xb8\\xeb\\x8b\\x88\\xeb\\xa5\\xbc \\xeb\\xb3\\xb4\\xea\\xb3\\xa0 \\xea\\xb8\\xb0\\xec\\x81\\xa8\\xec\\x97\\x90 \\xeb\\x92\\xa4\\xeb\\xa1\\x9c \\xeb\\x84\\x98\\xec\\x96\\xb4\\xea\\xb0\\x94\\xeb\\x8d\\x98, \\xec\\xa2\\x8c\\xec\\x9a\\xb0\\xec\\xa2\\x8c\\xec\\x9d\\x98 \\xea\\xb1\\xb4\\xea\\xb0\\x95\\xec\\x9d\\x84 \\xec\\x83\\x9d\\xea\\xb0\\x81\\xed\\x95\\x9c \\xec\\x84\\x9c\\xed\\x8f\\xac\\xed\\x8a\\xb8\\xeb\\x88\\x88\\xeb\\xac\\xbc\\xec\\xa0\\x90\\xec\\x9d\\xb4 \\xec\\x98\\xa4\\xeb\\xa5\\xb8\\xec\\xaa\\xbd\\xec\\x9d\\xb4\\xeb\\x93\\xa0 \\xec\\x99\\xbc\\xec\\xaa\\xbd\\xec\\x9d\\xb4\\xeb\\x93\\xa0 \\xec\\xbc\\x88\\xeb\\xb2\\xa0\\xeb\\x8a\\x94 \\xea\\xb7\\x80\\xec\\x97\\xbd\\xec\\x8a\\xb5\\xeb\\x8b\\x88\\xeb\\x8b\\xa4. \\xec\\x97\\xac\\xeb\\x9f\\xac\\xeb\\xb6\\x84 \\xeb\\x8d\\x95\\xec\\x97\\x90 \\xec\\x98\\xac\\xed\\x95\\xb4\\xeb\\x8f\\x84 \\xeb\\xac\\xb4\\xec\\x82\\xac\\xed\\x9e\\x88 \\xeb\\x9d\\xbc\\xec\\x8a\\xa4</p>\\n\\t\\t\\t\\t\\t\\t<div class=\"source_box\">\\n\\t\\t\\t\\t\\t\\t\\t<span class=\"date\">1\\xec\\xa3\\xbc\\xec\\x9d\\xbc \\xec\\xa0\\x84</span>\\n\\t\\t\\t\\t\\t\\t\\t<span class=\"source\">\\n                                \\n                                <span class=\"source_inner\">\\xeb\\x85\\xb8\\xeb\\x8f\\x998\\xed\\x98\\xb8</span>\\n                            </span>\\n\\t\\t\\t\\t\\t\\t</div>\\n\\t\\t\\t\\t\\t</a>\\n\\t\\t\\t\\t</li>\\n\\t\\t\\t\\n\\t\\t</ul>\\n\\t</div>\\n</div>\\n<div class=\"group_theme\" data-block-id=\"\" data-block-code=\"PC-THEME-GAMEAPP-MOBILE-RANKING-DEFAULT-3\" data-block-type=\"MATERIALS\" data-template-code=\"MOBILE-RANKING-LIST\"\\n\\n\\t data-da=\"container\"\\n\\t data-index=\"\"\\n     data-page=\"2\"\\n\\t style=\"display:none\">\\n\\n\\t<div class=\"list_theme_wrap\">\\n\\t\\t<ul class=\"list_theme\">\\n\\t\\t\\t\\n\\t\\t\\t\\t<li class=\"theme_item\" data-gdid=\"CAS_954ad95e-6d34-11ec-b7dd-7f294324b0d8\" data-da-position=\"true\">\\n\\t\\t\\t\\t\\t<a href=\"https://post.naver.com/viewer/postView.naver?volumeNo&#x3D;33064153&amp;memberNo&#x3D;4505449&amp;navigationType&#x3D;push\" class=\"theme_thumb\" data-clk=\"tcc_gam.list4cont1\" target=\"_blank\">\\n\\t\\t\\t\\t\\t\\t<img  data-src=\"https://s.pstatic.net/dthumb.phinf/?src&#x3D;%22https%3A%2F%2Fs.pstatic.net%2Fstatic%2Fwww%2Fmobile%2Fedit%2F20220104_1095%2Fupload_1641289236104YqtOp.jpg%22&amp;type&#x3D;nf340_228\" alt=\"\\xea\\xb7\\xb8\\xec\\x97\\x90\\xea\\xb2\\x8c\\xeb\\x8f\\x84 \\xec\\xa0\\x8a\\xec\\x9d\\x80 \\xec\\x8b\\x9c\\xec\\xa0\\x88\\xec\\x9d\\xb4 \\xec\\x9e\\x88\\xeb\\x8b\\xa4 \\xe2\\x80\\x98\\xec\\x85\\x9c\\xeb\\xa1\\x9d \\xed\\x99\\x88\\xec\\xa6\\x88: \\xec\\xb1\\x95\\xed\\x84\\xb0 \\xec\\x9b\\x90\\xe2\\x80\\x99 \\xec\\x85\\x9c\\xeb\\xa1\\x9d\" width=\"170\" height=\"114\" onerror=\"this.outerHTML=\\'<span class=\\\\\\'pm_noimg\\\\\\'><span class=\\\\\\'noimg_text\\\\\\'>\\xec\\x9d\\xb4\\xeb\\xaf\\xb8\\xec\\xa7\\x80 \\xec\\xa4\\x80\\xeb\\xb9\\x84\\xec\\xa4\\x91</span></span>\\'\">\\n\\t\\t\\t\\t\\t\\t<span class=\"thumb_bd\"></span>\\n                        \\n\\t\\t\\t\\t\\t</a>\\n\\t\\t\\t\\t\\t<a href=\"https://post.naver.com/viewer/postView.naver?volumeNo&#x3D;33064153&amp;memberNo&#x3D;4505449&amp;navigationType&#x3D;push\" class=\"theme_info\" data-clk=\"tcc_gam.list4cont1\" target=\"_blank\">\\n\\t\\t\\t\\t\\t\\t<em class=\"theme_category\"> \\xea\\xb2\\x8c\\xec\\x9e\\x84</em>\\n\\t\\t\\t\\t\\t\\t<strong class=\"title elss\">\\xea\\xb7\\xb8\\xec\\x97\\x90\\xea\\xb2\\x8c\\xeb\\x8f\\x84 \\xec\\xa0\\x8a\\xec\\x9d\\x80 \\xec\\x8b\\x9c\\xec\\xa0\\x88\\xec\\x9d\\xb4 \\xec\\x9e\\x88\\xeb\\x8b\\xa4 \\xe2\\x80\\x98\\xec\\x85\\x9c\\xeb\\xa1\\x9d \\xed\\x99\\x88\\xec\\xa6\\x88: \\xec\\xb1\\x95\\xed\\x84\\xb0 \\xec\\x9b\\x90\\xe2\\x80\\x99 \\xec\\x85\\x9c\\xeb\\xa1\\x9d</strong>\\n                        <p class=\"desc\">1887\\xeb\\x85\\x84, \\xec\\x98\\x81\\xea\\xb5\\xad\\xec\\x9d\\x98 \\xec\\x97\\xb0\\xea\\xb0\\x84 \\xec\\x9e\\xa1\\xec\\xa7\\x80 \\xeb\\xb9\\x84\\xed\\x8a\\xbc \\xec\\x95\\xa0\\xeb\\x89\\xb4\\xec\\x96\\xbc \\xed\\x81\\xac\\xeb\\xa6\\xac\\xec\\x8a\\xa4\\xeb\\xa7\\x88\\xec\\x8a\\xa4 \\xed\\x98\\xb8\\xec\\x97\\x90 \\xeb\\xb0\\x9c\\xed\\x91\\x9c\\xeb\\x90\\x9c \\xe2\\x80\\x98A Study in Scarlet(\\xec\\xa3\\xbc\\xed\\x99\\x8d\\xec\\x83\\x89 \\xec\\x97\\xb0\\xea\\xb5\\xac)\\xe2\\x80\\x99\\xec\\x9d\\xb4\\xeb\\x9d\\xbc\\xeb\\x8a\\x94 \\xec\\x86\\x8c\\xec\\x84\\xa4\\xec\\x9d\\x84 \\xed\\x86\\xb5\\xed\\x95\\xb4 \\xec\\x84\\xb8\\xec\\x83\\x81\\xec\\x97\\x90 \\xed\\x83\\x9c\\xec\\x96\\xb4\\xeb\\x82\\x9c \\xeb\\xb6\\x88\\xec\\x84\\xb8\\xec\\xb6\\x9c\\xec\\x9d\\x98 \\xeb\\xaa\\x85\\xed\\x83\\x90\\xec\\xa0\\x95, \\xec\\x85\\x9c\\xeb\\xa1\\x9d \\xed\\x99\\x88\\xec\\xa6\\x88. \\xec\\x9d\\xb8\\xea\\xb0\\x84\\xec\\x9d\\xb4 \\xeb\\xa7\\x8c\\xeb\\x93\\xa4\\xec\\x96\\xb4\\xeb\\x82\\xb8 \\xea\\xb0\\x80\\xec\\x83\\x81\\xec\\x9d\\x98 \\xec\\xba\\x90\\xeb\\xa6\\xad\\xed\\x84\\xb0\\xeb\\xa1\\x9c\\xec\\x84\\x9c\\xeb\\x8a\\x94 \\xec\\x95\\x84\\xeb\\xa7\\x88 \\xea\\xb0\\x80\\xec\\x9e\\xa5 \\xec\\x9c\\xa0\\xeb\\xaa\\x85\\xed\\x95\\x98\\xea\\xb3\\xa0\\xeb\\x8f\\x84 \\xec\\x82\\xac\\xeb\\x9e\\x8c\\xeb\\x93\\xa4\\xec\\x9d\\x98 \\xed\\x9d\\xa5\\xeb\\xaf\\xb8\\xeb\\xa5\\xbc \\xeb\\x8f\\x8b\\xec\\x9a\\xb0\\xeb\\x8a\\x94 \\xeb\\x8b\\xa4\\xec\\x84\\xaf \\xec\\x86\\x90\\xea\\xb0\\x80\\xeb\\x9d\\xbd \\xec\\x95\\x88\\xec\\x97\\x90 \\xeb\\x93\\xa4 \\xec\\xba\\x90\\xeb\\xa6\\xad\\xed\\x84\\xb0\\xec\\x9d\\xbc \\xea\\xb2\\x81\\xeb\\x8b\\x88\\xeb\\x8b\\xa4. \\xeb\\xb3\\x84\\xeb\\x8b\\xa4\\xeb\\xa5\\xb8 \\xeb\\xb6\\x80\\xec\\x97\\xb0\\xec\\x84\\xa4\\xeb\\xaa\\x85\\xec\\x9d\\xb4 \\xed\\x95\\x84\\xec\\x9a\\x94</p>\\n\\t\\t\\t\\t\\t\\t<div class=\"source_box\">\\n\\t\\t\\t\\t\\t\\t\\t<span class=\"date\">3\\xec\\x9d\\xbc \\xec\\xa0\\x84</span>\\n\\t\\t\\t\\t\\t\\t\\t<span class=\"source\">\\n                                \\n                                <span class=\"source_inner\">PNN</span>\\n                            </span>\\n\\t\\t\\t\\t\\t\\t</div>\\n\\t\\t\\t\\t\\t</a>\\n\\t\\t\\t\\t</li>\\n\\t\\t\\t\\n\\t\\t\\t\\t<li class=\"theme_item\" data-gdid=\"CAS_954ad960-6d34-11ec-b7dd-3b9ede571a2d\" data-da-position=\"true\">\\n\\t\\t\\t\\t\\t<a href=\"https://post.naver.com/viewer/postView.naver?volumeNo&#x3D;33043212&amp;memberNo&#x3D;46963459\" class=\"theme_thumb\" data-clk=\"tcc_gam.list4cont2\" target=\"_blank\">\\n\\t\\t\\t\\t\\t\\t<img  data-src=\"https://s.pstatic.net/dthumb.phinf/?src&#x3D;%22https%3A%2F%2Fs.pstatic.net%2Fstatic%2Fwww%2Fmobile%2Fedit%2F20220104_1095%2Fupload_1641289607454Wr00s.jpg%22&amp;type&#x3D;nf340_228\" alt=\"\\xec\\x83\\x88\\xed\\x95\\xb4 \\xec\\xb6\\x95\\xed\\x95\\x98\\xed\\x95\\xb4!\\xeb\\xb9\\x84\\xeb\\xa8\\xb8\\xec\\x8b\\xa0\\xea\\xb1\\xb4 2.022 \" width=\"170\" height=\"114\" onerror=\"this.outerHTML=\\'<span class=\\\\\\'pm_noimg\\\\\\'><span class=\\\\\\'noimg_text\\\\\\'>\\xec\\x9d\\xb4\\xeb\\xaf\\xb8\\xec\\xa7\\x80 \\xec\\xa4\\x80\\xeb\\xb9\\x84\\xec\\xa4\\x91</span></span>\\'\">\\n\\t\\t\\t\\t\\t\\t<span class=\"thumb_bd\"></span>\\n                        \\n\\t\\t\\t\\t\\t</a>\\n\\t\\t\\t\\t\\t<a href=\"https://post.naver.com/viewer/postView.naver?volumeNo&#x3D;33043212&amp;memberNo&#x3D;46963459\" class=\"theme_info\" data-clk=\"tcc_gam.list4cont2\" target=\"_blank\">\\n\\t\\t\\t\\t\\t\\t<em class=\"theme_category\"> \\xea\\xb2\\x8c\\xec\\x9e\\x84</em>\\n\\t\\t\\t\\t\\t\\t<strong class=\"title elss\">\\xec\\x83\\x88\\xed\\x95\\xb4 \\xec\\xb6\\x95\\xed\\x95\\x98\\xed\\x95\\xb4!\\xeb\\xb9\\x84\\xeb\\xa8\\xb8\\xec\\x8b\\xa0\\xea\\xb1\\xb4 2.022 </strong>\\n                        <p class=\"desc\">2022 \\xec\\x83\\x88\\xed\\x95\\xb4\\xea\\xb0\\x80 \\xeb\\xb0\\x9d\\xec\\x95\\x98\\xec\\x8a\\xb5\\xeb\\x8b\\x88\\xeb\\x8b\\xa4, \\xed\\x8e\\x91\\xed\\x8e\\x91! \\xed\\x97\\xa4\\xeb\\xb9\\x84 \\xeb\\xa8\\xb8\\xec\\x8b\\xa0\\xea\\xb1\\xb4 2.0 \\xeb\\xaa\\xa8\\xeb\\x93\\x9c\\xec\\x95\\xbc\\xeb\\xa7\\x90\\xeb\\xa1\\x9c \\xec\\x83\\x88\\xed\\x95\\xb4\\xec\\x97\\x90 \\xeb\\x8c\\x80\\xed\\x95\\x9c \\xea\\xb8\\xb0\\xeb\\x8c\\x80\\xea\\xb0\\x90\\xec\\x97\\x90 \\xeb\\x94\\xb1 \\xeb\\xa7\\x9e\\xeb\\x8a\\x94 \\xeb\\xaa\\xa8\\xeb\\x93\\x9c\\xea\\xb0\\x80 \\xec\\x95\\x84\\xeb\\x8b\\x90\\xea\\xb9\\x8c\\xec\\x9a\\x94. \\xec\\xa7\\x80\\xeb\\x82\\x9c \\xed\\x95\\xb4\\xec\\x9d\\x98 \\xeb\\x82\\xa1\\xec\\x9d\\x80 \\xea\\xb2\\x83\\xeb\\x93\\xa4\\xec\\x9d\\x84 \\xeb\\x8b\\xa4 \\xed\\x8f\\xad\\xed\\x8c\\x8c\\xed\\x95\\x98\\xea\\xb3\\xa0 \\xec\\x83\\x88\\xeb\\xa1\\xad\\xea\\xb2\\x8c \\xec\\x9e\\xac\\xea\\xb1\\xb4\\xed\\x95\\x98\\xeb\\x8a\\x94 \\xeb\\x8a\\x90\\xeb\\x82\\x8c\\xec\\x9d\\xb4 \\xeb\\x93\\xad\\xeb\\x8b\\x88\\xeb\\x8b\\xa4. \\xec\\x82\\xac\\xec\\x8b\\xa4 \\xeb\\xa9\\xb0\\xec\\xb9\\xa0 \\xec\\xa0\\x84 \\xec\\x98\\xa4\\xeb\\xa5\\xb8\\xec\\x86\\x90\\xec\\x97\\x90 \\xea\\xb3\\xa8\\xec\\xa0\\x88\\xec\\x83\\x81\\xec\\x9d\\x84 \\xec\\x9e\\x85\\xec\\x97\\x88\\xeb\\x8a\\x94\\xeb\\x8d\\xb0\\xec\\x9a\\x94, \\xec\\x95\\xa1\\xeb\\x95\\x9c\\xec\\x9d\\x84 \\xed\\x96\\x88\\xeb\\x8b\\xa4\\xea\\xb3\\xa0 \\xec\\x83\\x9d\\xea\\xb0\\x81\\xed\\x95\\x98\\xea\\xb3\\xa0 \\xec\\x83\\x88\\xed\\x95\\xb4\\xec\\x97\\x94 \\xec\\xa0\\x95\\xeb\\xa7\\x90 \\xeb\\xb0\\x95\\xec\\x82\\xb4\\xeb\\x82\\x98\\xea\\xb2\\x8c \\xec\\xa6\\x90\\xea\\xb1\\xb0\\xec\\x9a\\xb4 \\xec\\x9d\\xbc\\xeb\\xa7\\x8c \\xeb\\x82\\xa8\\xec\\x95\\x98\\xec\\x9c\\xbc\\xeb\\xa6\\xac\\xeb\\x9d\\xbc \\xeb\\xaf\\xbf\\xeb\\x8a\\x94 \\xec\\xa4\\x91\\xec\\x9e\\x85\\xeb\\x8b\\x88\\xeb\\x8b\\xa4. (\\xea\\xb7\\xb8 \\xec\\x99\\x80\\xec\\xa4\\x91 \\xeb\\xaa\\xa8\\xeb\\xb0\\xb0\\xea\\xb0\\x80 \\xea\\xb0\\x80\\xeb\\x8a\\xa5\\xed\\x95\\x9c \\xec\\x97\\x84\\xec\\xa7\\x80 \\xea\\xb2\\x80\\xec\\xa7\\x80\\xeb\\xa7\\x8c \\xeb\\xa9\\x80</p>\\n\\t\\t\\t\\t\\t\\t<div class=\"source_box\">\\n\\t\\t\\t\\t\\t\\t\\t<span class=\"date\">5\\xec\\x9d\\xbc \\xec\\xa0\\x84</span>\\n\\t\\t\\t\\t\\t\\t\\t<span class=\"source\">\\n                                \\n                                <span class=\"source_inner\">\\xec\\x9e\\xbf\\xeb\\x8d\\x94\\xeb\\xaf\\xb8\\xec\\x96\\xb4\\xec\\xba\\xa3</span>\\n                            </span>\\n\\t\\t\\t\\t\\t\\t</div>\\n\\t\\t\\t\\t\\t</a>\\n\\t\\t\\t\\t</li>\\n\\t\\t\\t\\n\\t\\t\\t\\t<li class=\"theme_item\" data-gdid=\"CAS_5d87f30f-6c40-11ec-b7dd-b39a98e30629\" data-da-position=\"true\">\\n\\t\\t\\t\\t\\t<a href=\"https://post.naver.com/viewer/postView.naver?volumeNo&#x3D;33034606&amp;memberNo&#x3D;38332596\" class=\"theme_thumb\" data-clk=\"tcc_gam.list4cont3\" target=\"_blank\">\\n\\t\\t\\t\\t\\t\\t<img  data-src=\"https://s.pstatic.net/dthumb.phinf/?src&#x3D;%22https%3A%2F%2Fs.pstatic.net%2Fstatic%2Fwww%2Fmobile%2Fedit%2F20220103_1095%2Fupload_16411786775532OutB.jpg%22&amp;type&#x3D;nf340_228\" alt=\"[PION] \\xea\\xb0\\x80\\xec\\x9e\\xa5 \\xea\\xb1\\xb0\\xeb\\x8c\\x80\\xed\\x95\\x98\\xea\\xb3\\xa0 \\xec\\x95\\x84\\xeb\\xa6\\x84\\xeb\\x8b\\xa4\\xec\\x9a\\xb4 \\xeb\\xb1\\x80\\xed\\x8c\\x8c\\xec\\x9d\\xb4\\xec\\x96\\xb4\\xeb\\x93\\xa4 \\xe2\\x80\\x93 RE : 8 \\xeb\\x93\\x9c\\xeb\\xaf\\xb8\\xed\\x8a\\xb8\\xeb\\xa6\\xac\\xec\\x8a\\xa4\\xec\\xbf\\xa0 \\xea\\xb0\\x80\\xeb\\xac\\xb8 \\xec\\xbd\\x94\\xec\\x8a\\xa4\\xed\\x94\\x84\\xeb\\xa0\\x88\" width=\"170\" height=\"114\" onerror=\"this.outerHTML=\\'<span class=\\\\\\'pm_noimg\\\\\\'><span class=\\\\\\'noimg_text\\\\\\'>\\xec\\x9d\\xb4\\xeb\\xaf\\xb8\\xec\\xa7\\x80 \\xec\\xa4\\x80\\xeb\\xb9\\x84\\xec\\xa4\\x91</span></span>\\'\">\\n\\t\\t\\t\\t\\t\\t<span class=\"thumb_bd\"></span>\\n                        \\n\\t\\t\\t\\t\\t</a>\\n\\t\\t\\t\\t\\t<a href=\"https://post.naver.com/viewer/postView.naver?volumeNo&#x3D;33034606&amp;memberNo&#x3D;38332596\" class=\"theme_info\" data-clk=\"tcc_gam.list4cont3\" target=\"_blank\">\\n\\t\\t\\t\\t\\t\\t<em class=\"theme_category\"> \\xea\\xb2\\x8c\\xec\\x9e\\x84</em>\\n\\t\\t\\t\\t\\t\\t<strong class=\"title elss\">[PION] \\xea\\xb0\\x80\\xec\\x9e\\xa5 \\xea\\xb1\\xb0\\xeb\\x8c\\x80\\xed\\x95\\x98\\xea\\xb3\\xa0 \\xec\\x95\\x84\\xeb\\xa6\\x84\\xeb\\x8b\\xa4\\xec\\x9a\\xb4 \\xeb\\xb1\\x80\\xed\\x8c\\x8c\\xec\\x9d\\xb4\\xec\\x96\\xb4\\xeb\\x93\\xa4 \\xe2\\x80\\x93 RE : 8 \\xeb\\x93\\x9c\\xeb\\xaf\\xb8\\xed\\x8a\\xb8\\xeb\\xa6\\xac\\xec\\x8a\\xa4\\xec\\xbf\\xa0 \\xea\\xb0\\x80\\xeb\\xac\\xb8 \\xec\\xbd\\x94\\xec\\x8a\\xa4\\xed\\x94\\x84\\xeb\\xa0\\x88</strong>\\n                        <p class=\"desc\">\\xe2\\x80\\x98\\xec\\xa0\\x9c \\xec\\x82\\xac\\xeb\\x9e\\x91\\xec\\x8a\\xa4\\xeb\\x9f\\xac\\xec\\x9a\\xb4 \\xeb\\x94\\xb8\\xeb\\x93\\xa4\\xec\\x9d\\xb4\\xeb\\x9d\\xbc\\xeb\\xa9\\xb4.. \\xec\\xa0\\x80 \\xec\\x99\\xb8\\xec\\xa7\\x80\\xec\\x9d\\xb8\\xec\\x9c\\xbc\\xeb\\xa1\\x9c \\xec\\xa6\\x90\\xea\\xb2\\x81\\xea\\xb2\\x8c \\xed\\x95\\xb4 \\xeb\\x93\\x9c\\xeb\\xa6\\xb4 \\xec\\x88\\x98 \\xec\\x9e\\x88\\xec\\x9d\\x84 \\xea\\xb2\\x81\\xeb\\x8b\\x88\\xeb\\x8b\\xa4.\\xe2\\x80\\x99 \\xe2\\x80\\x98\\xec\\xa0\\x80\\xed\\x9d\\xac \\xeb\\x93\\x9c\\xeb\\xaf\\xb8\\xed\\x8a\\xb8\\xeb\\xa6\\xac\\xec\\x8a\\xa4\\xec\\xbf\\xa0 \\xea\\xb0\\x80\\xeb\\xa5\\xbc \\xeb\\xaf\\xbf\\xea\\xb3\\xa0 \\xeb\\xa7\\xa1\\xea\\xb2\\xa8\\xec\\xa3\\xbc\\xec\\x8b\\x9c\\xeb\\xa9\\xb4 \\xec\\xa0\\x80\\xec\\x99\\x80 \\xec\\xa0\\x9c \\xeb\\x94\\xb8\\xeb\\x93\\xa4\\xec\\x9d\\xb4 \\xec\\xa0\\x80 \\xeb\\x82\\xa8\\xec\\x9e\\x90\\xec\\x9d\\x98 \\xed\\x94\\xbc\\xeb\\xa1\\x9c \\xeb\\xa7\\x8c\\xeb\\x93\\xa0 \\xec\\xb5\\x9c\\xea\\xb3\\xa0\\xec\\x9d\\x98 \\xed\\x95\\x9c \\xec\\x9e\\x94\\xec\\x9d\\x84 \\xeb\\xb0\\x94\\xec\\xb9\\x98\\xea\\xb2\\xa0\\xec\\x8a\\xb5\\xeb\\x8b\\x88\\xeb\\x8b\\xa4.\\xe2\\x80\\x99 \\xec\\x95\\x88\\xeb\\x85\\x95\\xed\\x95\\x98\\xec\\x84\\xb8\\xec\\x9a\\x94~ \\xec\\x97\\xac\\xeb\\x9f\\xac\\xeb\\xb6\\x84. \\xec\\x98\\xa4\\xeb\\x9e\\x9c\\xeb\\xa7\\x8c\\xec\\x97\\x90 Acrown \\xed\\x8f\\xac\\xec\\x8a\\xa4\\xed\\x8a\\xb8\\xeb\\xa5\\xbc \\xeb\\xb9\\x8c\\xeb\\xa0\\xa4\\xec\\x84\\x9c \\xec\\x9d\\xb8\\xec\\x82\\xac \\xeb\\x93\\x9c\\xeb\\xa6\\xac\\xeb\\x8a\\x94 \\xed\\x94\\xbc\\xec\\x98\\xa8 \\xec\\x9e\\x85\\xeb\\x8b\\x88\\xeb\\x8b\\xa4.\\xec\\x9d\\xb4\\xeb\\xb2\\x88\\xec\\x97\\x90 \\xec\\x86\\x8c\\xea\\xb0\\x9c\\xed\\x95\\xb4 \\xeb\\x93\\x9c\\xeb\\xa6\\xb4 \\xec\\x9e\\x91\\xed\\x92\\x88\\xec\\x9d\\x80 \\xec\\xb6\\x9c\\xec\\x8b\\x9c \\xeb\\x8b\\xb9\\xec\\x8b\\x9c \\xea\\xb5\\xad</p>\\n\\t\\t\\t\\t\\t\\t<div class=\"source_box\">\\n\\t\\t\\t\\t\\t\\t\\t<span class=\"date\">1\\xec\\xa3\\xbc\\xec\\x9d\\xbc \\xec\\xa0\\x84</span>\\n\\t\\t\\t\\t\\t\\t\\t<span class=\"source\">\\n                                \\n                                <span class=\"source_inner\">\\xec\\x97\\x90\\xec\\x9d\\xb4\\xed\\x81\\xac\\xeb\\x9d\\xbc\\xec\\x9a\\xb4</span>\\n                            </span>\\n\\t\\t\\t\\t\\t\\t</div>\\n\\t\\t\\t\\t\\t</a>\\n\\t\\t\\t\\t</li>\\n\\t\\t\\t\\n\\t\\t\\t\\t<li class=\"theme_item\" data-gdid=\"CAS_5d87f312-6c40-11ec-b7dd-630948c22211\" data-da-position=\"true\">\\n\\t\\t\\t\\t\\t<a href=\"https://post.naver.com/viewer/postView.naver?volumeNo&#x3D;33039241&amp;memberNo&#x3D;49631020\" class=\"theme_thumb\" data-clk=\"tcc_gam.list4cont4\" target=\"_blank\">\\n\\t\\t\\t\\t\\t\\t<img  data-src=\"https://s.pstatic.net/dthumb.phinf/?src&#x3D;%22https%3A%2F%2Fs.pstatic.net%2Fstatic%2Fwww%2Fmobile%2Fedit%2F20220103_1095%2Fupload_1641178877480uv68X.jpg%22&amp;type&#x3D;nf340_228\" alt=\"2022\\xeb\\x85\\x84 1\\xec\\x9b\\x94 \\xeb\\x8c\\x80\\xec\\x9e\\x91 \\xea\\xb2\\x8c\\xec\\x9e\\x84 \\xec\\x8a\\xa4\\xed\\x8c\\x80 \\xeb\\x9f\\xac\\xec\\x8b\\x9c \\xe2\\x80\\x98\\xeb\\xaa\\xac\\xed\\x97\\x8c\\xe2\\x80\\x99, \\xe2\\x80\\x98\\xea\\xb0\\x93\\xec\\x98\\xa4\\xeb\\xb8\\x8c\\xec\\x9b\\x8c\\xe2\\x80\\x99, \\xe2\\x80\\x98\\xeb\\xa0\\x88\\xec\\x8b\\x9d\\xe2\\x80\\x99 \\xec\\xb6\\x9c\\xea\\xb2\\xa9\\xec\\x98\\x88\\xea\\xb3\\xa0\" width=\"170\" height=\"114\" onerror=\"this.outerHTML=\\'<span class=\\\\\\'pm_noimg\\\\\\'><span class=\\\\\\'noimg_text\\\\\\'>\\xec\\x9d\\xb4\\xeb\\xaf\\xb8\\xec\\xa7\\x80 \\xec\\xa4\\x80\\xeb\\xb9\\x84\\xec\\xa4\\x91</span></span>\\'\">\\n\\t\\t\\t\\t\\t\\t<span class=\"thumb_bd\"></span>\\n                        \\n\\t\\t\\t\\t\\t</a>\\n\\t\\t\\t\\t\\t<a href=\"https://post.naver.com/viewer/postView.naver?volumeNo&#x3D;33039241&amp;memberNo&#x3D;49631020\" class=\"theme_info\" data-clk=\"tcc_gam.list4cont4\" target=\"_blank\">\\n\\t\\t\\t\\t\\t\\t<em class=\"theme_category\"> \\xea\\xb2\\x8c\\xec\\x9e\\x84</em>\\n\\t\\t\\t\\t\\t\\t<strong class=\"title elss\">2022\\xeb\\x85\\x84 1\\xec\\x9b\\x94 \\xeb\\x8c\\x80\\xec\\x9e\\x91 \\xea\\xb2\\x8c\\xec\\x9e\\x84 \\xec\\x8a\\xa4\\xed\\x8c\\x80 \\xeb\\x9f\\xac\\xec\\x8b\\x9c \\xe2\\x80\\x98\\xeb\\xaa\\xac\\xed\\x97\\x8c\\xe2\\x80\\x99, \\xe2\\x80\\x98\\xea\\xb0\\x93\\xec\\x98\\xa4\\xeb\\xb8\\x8c\\xec\\x9b\\x8c\\xe2\\x80\\x99, \\xe2\\x80\\x98\\xeb\\xa0\\x88\\xec\\x8b\\x9d\\xe2\\x80\\x99 \\xec\\xb6\\x9c\\xea\\xb2\\xa9\\xec\\x98\\x88\\xea\\xb3\\xa0</strong>\\n                        <p class=\"desc\">\\xea\\xb2\\x8c\\xec\\x9d\\xb4\\xeb\\xa8\\xb8\\xeb\\x93\\xa4\\xec\\x97\\x90\\xea\\xb2\\x8c 2022\\xeb\\x85\\x84\\xec\\x9d\\x80 \\xed\\x96\\x89\\xeb\\xb3\\xb5\\xed\\x95\\x9c \\xed\\x95\\x9c \\xed\\x95\\xb4\\xea\\xb0\\x80 \\xeb\\x90\\xa0 \\xea\\xb2\\x83\\xec\\x9e\\x84\\xec\\x9d\\xb4 \\xed\\x8b\\x80\\xeb\\xa6\\xbc\\xec\\x9d\\xb4 \\xec\\x97\\x86\\xeb\\x8b\\xa4. \\xec\\x97\\xad\\xec\\x82\\xac\\xec\\x83\\x81 \\xec\\x9c\\xa0\\xeb\\xa1\\x80\\xec\\x97\\x86\\xec\\x9d\\x84\\xeb\\xa7\\x8c\\xed\\x95\\x9c \\xeb\\x8c\\x80\\xec\\x9e\\x91 \\xeb\\x9d\\xbc\\xec\\x9d\\xb8\\xec\\x97\\x85\\xeb\\x93\\xa4\\xec\\x9d\\xb4 \\xeb\\x8c\\x80\\xea\\xb1\\xb0 \\xeb\\xb0\\x9c\\xeb\\xa7\\xa4\\xeb\\x90\\x98\\xeb\\x8a\\x94 \\xec\\x8b\\x9c\\xea\\xb8\\xb0\\xea\\xb0\\x80 \\xeb\\x90\\xa0 \\xec\\xa0\\x84\\xeb\\xa7\\x9d\\xec\\x9d\\xb4\\xeb\\x8b\\xa4. \\xeb\\xa7\\xa4 \\xeb\\x8b\\xac\\xeb\\xa7\\x88\\xeb\\x8b\\xa4 \\xea\\xb8\\xb0\\xeb\\x8c\\x80\\xec\\x9e\\x91\\xeb\\x93\\xa4\\xec\\x9d\\xb4 \\xec\\xb6\\x9c\\xec\\x8b\\x9c\\xeb\\x90\\xa0 \\xec\\x98\\x88\\xec\\xa0\\x95\\xec\\x9d\\xb4\\xeb\\x8b\\xa4. \\xeb\\xa9\\xb4\\xeb\\xa9\\xb4\\xec\\x9d\\x84 \\xec\\x82\\xb4\\xed\\x8e\\xb4\\xeb\\xb3\\xb4\\xeb\\xa9\\xb4 \\xea\\xb1\\xb0\\xeb\\xa5\\xbc \\xed\\x83\\x80\\xec\\x84\\xa0\\xec\\x9d\\xb4 \\xeb\\xa7\\x88\\xeb\\x95\\x85\\xec\\xb9\\x98 \\xec\\x95\\x8a\\xeb\\x8b\\xa4. \\xec\\x9a\\xb0\\xec\\x84\\xa0 \\xeb\\xa7\\x9d\\xec\\x9e\\x90\\xeb\\x93\\xa4\\xec\\x9d\\xb4 \\xeb\\xaa\\xa9\\xeb\\x86\\x93\\xec\\x95\\x84 \\xea\\xb8\\xb0\\xeb\\x8b\\xa4\\xeb\\xa6\\xac\\xea\\xb3\\xa0 \\xec\\x9e\\x88\\xeb\\x8a\\x94 \\xea\\xb2\\x8c\\xec\\x9e\\x84 \\xe2\\x80\\x98\\xec\\x97\\x98\\xeb\\x93\\xa0\\xeb\\xa7\\x81\\xe2\\x80\\x99\\xec\\x9d\\xb4 \\xec\\x98\\xa4\\xeb\\x8a\\x94 2\\xec\\x9b\\x94 25\\xec\\x9d\\xbc \\xeb\\xb0\\x9c\\xeb\\xa7\\xa4\\xeb\\x90\\xa0 \\xec\\x98\\x88\\xec\\xa0\\x95\\xec\\x9d\\xb4\\xeb\\x8b\\xa4. \\xec\\x9d\\xb4\\xeb\\x8a\\x94 \\xec\\x9d\\x98\\xec\\x8b\\xac\\xed\\x95\\xa0 \\xec\\x97\\xac\\xec\\xa7\\x80 \\xec\\x97\\x86\\xeb\\x8a\\x94 \\xec\\x9b\\x90\\xed\\x94\\xbd</p>\\n\\t\\t\\t\\t\\t\\t<div class=\"source_box\">\\n\\t\\t\\t\\t\\t\\t\\t<span class=\"date\">4\\xec\\x9d\\xbc \\xec\\xa0\\x84</span>\\n\\t\\t\\t\\t\\t\\t\\t<span class=\"source\">\\n                                \\n                                <span class=\"source_inner\">\\xea\\xb2\\xbd\\xed\\x96\\xa5\\xea\\xb2\\x8c\\xec\\x9e\\x84\\xec\\x8a\\xa4</span>\\n                            </span>\\n\\t\\t\\t\\t\\t\\t</div>\\n\\t\\t\\t\\t\\t</a>\\n\\t\\t\\t\\t</li>\\n\\t\\t\\t\\n\\t\\t\\t\\t<li class=\"theme_item\" data-gdid=\"CAS_e0b05bc8-6c8f-11ec-b7dd-a12cc94beffb\" data-da-position=\"true\">\\n\\t\\t\\t\\t\\t<a href=\"https://post.naver.com/viewer/postView.naver?volumeNo&#x3D;33057976&amp;memberNo&#x3D;11878364\" class=\"theme_thumb\" data-clk=\"tcc_gam.list4cont5\" target=\"_blank\">\\n\\t\\t\\t\\t\\t\\t<img  data-src=\"https://s.pstatic.net/dthumb.phinf/?src&#x3D;%22https%3A%2F%2Fs.pstatic.net%2Fstatic%2Fwww%2Fmobile%2Fedit%2F20220103_1095%2Fupload_16412124902634TRiG.jpg%22&amp;type&#x3D;nf340_228\" alt=\"AMD \\xeb\\xa6\\xac\\xec\\x82\\xac \\xec\\x88\\x98\\xea\\xb0\\x80 \\xec\\xa7\\x80\\xea\\xb2\\xa8\\xec\\x9a\\xb4 \\xea\\xb2\\x8c\\xec\\x9e\\x84\\xea\\xb8\\xb0 \\xeb\\xb6\\x80\\xec\\xa1\\xb1 \\xec\\x82\\xac\\xed\\x83\\x9c\\xeb\\xa5\\xbc &#x27;\\xea\\xb5\\xac\\xec\\x9b\\x90&#x27;\\xed\\x95\\xa0 \\xec\\x88\\x98 \\xec\\x9e\\x88\\xec\\x9d\\x84\\xea\\xb9\\x8c?\" width=\"170\" height=\"114\" onerror=\"this.outerHTML=\\'<span class=\\\\\\'pm_noimg\\\\\\'><span class=\\\\\\'noimg_text\\\\\\'>\\xec\\x9d\\xb4\\xeb\\xaf\\xb8\\xec\\xa7\\x80 \\xec\\xa4\\x80\\xeb\\xb9\\x84\\xec\\xa4\\x91</span></span>\\'\">\\n\\t\\t\\t\\t\\t\\t<span class=\"thumb_bd\"></span>\\n                        \\n\\t\\t\\t\\t\\t</a>\\n\\t\\t\\t\\t\\t<a href=\"https://post.naver.com/viewer/postView.naver?volumeNo&#x3D;33057976&amp;memberNo&#x3D;11878364\" class=\"theme_info\" data-clk=\"tcc_gam.list4cont5\" target=\"_blank\">\\n\\t\\t\\t\\t\\t\\t<em class=\"theme_category\"> \\xea\\xb2\\x8c\\xec\\x9e\\x84</em>\\n\\t\\t\\t\\t\\t\\t<strong class=\"title elss\">AMD \\xeb\\xa6\\xac\\xec\\x82\\xac \\xec\\x88\\x98\\xea\\xb0\\x80 \\xec\\xa7\\x80\\xea\\xb2\\xa8\\xec\\x9a\\xb4 \\xea\\xb2\\x8c\\xec\\x9e\\x84\\xea\\xb8\\xb0 \\xeb\\xb6\\x80\\xec\\xa1\\xb1 \\xec\\x82\\xac\\xed\\x83\\x9c\\xeb\\xa5\\xbc \\'\\xea\\xb5\\xac\\xec\\x9b\\x90\\'\\xed\\x95\\xa0 \\xec\\x88\\x98 \\xec\\x9e\\x88\\xec\\x9d\\x84\\xea\\xb9\\x8c?</strong>\\n                        <p class=\"desc\">\\xec\\x9d\\xb4\\xeb\\xaf\\xb8 \\xeb\\xaa\\x87 \\xeb\\xb2\\x88 \\xec\\xa7\\x80\\xec\\xa0\\x81\\xed\\x96\\x88\\xec\\xa7\\x80\\xeb\\xa7\\x8c, \\xea\\xb0\\x80\\xec\\xa0\\x95\\xec\\x9a\\xa9 \\xea\\xb2\\x8c\\xec\\x9e\\x84\\xea\\xb8\\xb0\\xec\\x9d\\x98 \\xea\\xb3\\xb5\\xea\\xb8\\x89 \\xeb\\xb6\\x80\\xec\\xa1\\xb1 \\xeb\\xac\\xb8\\xec\\xa0\\x9c\\xeb\\x8a\\x94 \\xea\\xb2\\x8c\\xec\\x9d\\xb4\\xeb\\xa8\\xb8\\xeb\\xa5\\xbc \\xeb\\x84\\x88\\xeb\\xac\\xb4\\xeb\\x82\\x98 \\xea\\xb3\\xa0\\xed\\x86\\xb5\\xec\\x8a\\xa4\\xeb\\x9f\\xbd\\xea\\xb2\\x8c \\xed\\x95\\x98\\xea\\xb3\\xa0 \\xec\\x9e\\x88\\xeb\\x8b\\xa4. \\xec\\x86\\x8c\\xeb\\x8b\\x88 \\xe2\\x80\\x98\\xed\\x94\\x8c\\xeb\\xa0\\x88\\xec\\x9d\\xb4\\xec\\x8a\\xa4\\xed\\x85\\x8c\\xec\\x9d\\xb4\\xec\\x85\\x985\\xe2\\x80\\x99\\xeb\\x82\\x98 \\xeb\\xa7\\x88\\xec\\x9d\\xb4\\xed\\x81\\xac\\xeb\\xa1\\x9c\\xec\\x86\\x8c\\xed\\x94\\x84\\xed\\x8a\\xb8 \\xe2\\x80\\x98\\xec\\x97\\x91\\xec\\x8a\\xa4\\xeb\\xb0\\x95\\xec\\x8a\\xa4 \\xec\\x8b\\x9c\\xeb\\xa6\\xac\\xec\\xa6\\x88 X\\xe2\\x80\\x99\\xeb\\xa5\\xbc \\xea\\xb5\\xac\\xec\\x9e\\x85\\xed\\x95\\x98\\xea\\xb3\\xa0 \\xec\\x8b\\xb6\\xeb\\x8b\\xa4\\xeb\\xa9\\xb4 \\xec\\x9b\\x83\\xeb\\x8f\\x88\\xec\\x9d\\x84 \\xec\\xa3\\xbc\\xea\\xb3\\xa0 \\xeb\\xb9\\x84\\xec\\x8b\\xbc \\xea\\xb0\\x80\\xea\\xb2\\xa9\\xec\\x97\\x90 \\xea\\xb5\\xac\\xec\\x9e\\x85\\xed\\x95\\x98\\xea\\xb1\\xb0\\xeb\\x82\\x98, \\xec\\x86\\x8c\\xeb\\x9f\\x89\\xec\\x9c\\xbc\\xeb\\xa1\\x9c \\xec\\xb0\\x94\\xeb\\x81\\x94\\xec\\xb0\\x94\\xeb\\x81\\x94 \\xed\\x92\\x80\\xeb\\xa6\\xac\\xeb\\x8a\\x94 \\xeb\\xac\\xbc\\xeb\\x9f\\x89\\xec\\x97\\x90 \\xe2\\x80\\x98\\xeb\\x8b\\xb9\\xec\\xb2\\xa8\\xe2\\x80\\x99\\xeb\\x90\\x98\\xeb\\x8a\\x94 \\xed\\x96\\x89\\xec\\x9a\\xb4\\xec\\x9d\\xb4 \\xeb\\x94\\xb0\\xeb\\x9d\\xbc\\xec\\x95\\xbc \\xed\\x95\\x9c\\xeb\\x8b\\xa4. \\xec\\x8b\\xac\\xec\\xa7\\x80\\xec\\x96\\xb4 &amp;</p>\\n\\t\\t\\t\\t\\t\\t<div class=\"source_box\">\\n\\t\\t\\t\\t\\t\\t\\t<span class=\"date\">4\\xec\\x9d\\xbc \\xec\\xa0\\x84</span>\\n\\t\\t\\t\\t\\t\\t\\t<span class=\"source\">\\n                                \\n                                <span class=\"source_inner\">\\xeb\\xb2\\xa0\\xec\\x96\\xb4\\xed\\x95\\x84\\xeb\\x93\\x9c</span>\\n                            </span>\\n\\t\\t\\t\\t\\t\\t</div>\\n\\t\\t\\t\\t\\t</a>\\n\\t\\t\\t\\t</li>\\n\\t\\t\\t\\n\\t\\t</ul>\\n\\t</div>\\n</div>\\n<div class=\"group_theme\" data-block-id=\"\" data-block-code=\"PC-THEME-GAMEAPP-MOBILE-RANKING-DEFAULT-4\" data-block-type=\"MATERIALS\" data-template-code=\"MOBILE-RANKING-LIST\"\\n\\n\\t data-da=\"container\"\\n\\t data-index=\"\"\\n     data-page=\"3\"\\n\\t style=\"display:none\">\\n\\n\\t<div class=\"list_theme_wrap\">\\n\\t\\t<ul class=\"list_theme\">\\n\\t\\t\\t\\n\\t\\t\\t\\t<li class=\"theme_item\" data-gdid=\"CAS_5d87f310-6c40-11ec-b7dd-a5644d6857e6\" data-da-position=\"true\">\\n\\t\\t\\t\\t\\t<a href=\"https://post.naver.com/viewer/postView.naver?volumeNo&#x3D;33041543&amp;memberNo&#x3D;28045346\" class=\"theme_thumb\" data-clk=\"tcc_gam.list5cont1\" target=\"_blank\">\\n\\t\\t\\t\\t\\t\\t<img  data-src=\"https://s.pstatic.net/dthumb.phinf/?src&#x3D;%22https%3A%2F%2Fs.pstatic.net%2Fstatic%2Fwww%2Fmobile%2Fedit%2F20220103_1095%2Fupload_1641178766809EkbKg.jpg%22&amp;type&#x3D;nf340_228\" alt=\"LCK \\xec\\x8a\\xa4\\xed\\x86\\xa0\\xeb\\xb8\\x8c\\xeb\\xa6\\xac\\xea\\xb7\\xb8 \\xec\\xa0\\x95\\xeb\\xa6\\xac\" width=\"170\" height=\"114\" onerror=\"this.outerHTML=\\'<span class=\\\\\\'pm_noimg\\\\\\'><span class=\\\\\\'noimg_text\\\\\\'>\\xec\\x9d\\xb4\\xeb\\xaf\\xb8\\xec\\xa7\\x80 \\xec\\xa4\\x80\\xeb\\xb9\\x84\\xec\\xa4\\x91</span></span>\\'\">\\n\\t\\t\\t\\t\\t\\t<span class=\"thumb_bd\"></span>\\n                        \\n\\t\\t\\t\\t\\t</a>\\n\\t\\t\\t\\t\\t<a href=\"https://post.naver.com/viewer/postView.naver?volumeNo&#x3D;33041543&amp;memberNo&#x3D;28045346\" class=\"theme_info\" data-clk=\"tcc_gam.list5cont1\" target=\"_blank\">\\n\\t\\t\\t\\t\\t\\t<em class=\"theme_category\"> \\xea\\xb2\\x8c\\xec\\x9e\\x84</em>\\n\\t\\t\\t\\t\\t\\t<strong class=\"title elss\">LCK \\xec\\x8a\\xa4\\xed\\x86\\xa0\\xeb\\xb8\\x8c\\xeb\\xa6\\xac\\xea\\xb7\\xb8 \\xec\\xa0\\x95\\xeb\\xa6\\xac</strong>\\n                        <p class=\"desc\">\\xec\\xa4\\x91\\xea\\xb5\\xad\\xec\\x9d\\x98 \\xea\\xb2\\x8c\\xec\\x9e\\x84 \\xea\\xb7\\x9c\\xec\\xa0\\x9c, \\xec\\x95\\x84\\xec\\x8b\\x9c\\xec\\x95\\x88 \\xea\\xb2\\x8c\\xec\\x9e\\x84 \\xeb\\x93\\xb1\\xec\\x9c\\xbc\\xeb\\xa1\\x9c \\xed\\x95\\xb4\\xec\\x99\\xb8 \\xeb\\xa6\\xac\\xea\\xb1\\xb0\\xeb\\x93\\xa4\\xec\\x9d\\xb4 LCK\\xeb\\xa1\\x9c \\xeb\\xa6\\xac\\xed\\x84\\xb4\\xed\\x95\\xb4 \\xec\\x84\\xa0\\xec\\x88\\x98 \\xed\\x92\\x80\\xec\\x9d\\xb4 \\xec\\x83\\x81\\xeb\\x8b\\xb9\\xed\\x95\\x9c \\xec\\x8a\\xa4\\xed\\x86\\xa0\\xeb\\xb8\\x8c\\xeb\\xa6\\xac\\xea\\xb7\\xb8\\xec\\x98\\x80\\xec\\x8a\\xb5\\xeb\\x8b\\x88\\xeb\\x8b\\xa4. \\xed\\x95\\x98\\xec\\x9c\\x84\\xea\\xb6\\x8c 3\\xec\\x9d\\xb8\\xeb\\xb0\\xa9\\xea\\xb3\\xbc 1\\xed\\x99\\xa9\\xec\\x9d\\xb4 \\xec\\x98\\x88\\xec\\x83\\x81\\xeb\\x90\\x98\\xeb\\x8a\\x94 GEN\\xeb\\xa5\\xbc \\xec\\xa0\\x9c\\xec\\x99\\xb8\\xed\\x95\\x98\\xea\\xb3\\xa4 \\xec\\x84\\x9c\\xeb\\xa1\\x9c \\xed\\x95\\xa0\\xeb\\xa7\\x8c\\xed\\x95\\x98\\xeb\\x8b\\xa4\\xea\\xb3\\xa0 \\xec\\x83\\x9d\\xea\\xb0\\x81\\xed\\x95\\xa0 \\xeb\\x93\\xaf\\xed\\x95\\x98\\xeb\\x84\\xa4\\xec\\x9a\\x94. \\xeb\\xac\\xbc\\xeb\\xa1\\xa0 \\xec\\x96\\xb8\\xec\\xa0\\x9c\\xeb\\x82\\x98 \\xec\\x98\\x88\\xec\\x83\\x81\\xeb\\x8c\\x80\\xeb\\xa1\\x9c \\xed\\x9d\\x98\\xeb\\x9f\\xac\\xea\\xb0\\x80\\xeb\\x8a\\x94 \\xea\\xb1\\xb4 \\xec\\x9e\\xac\\xeb\\xaf\\xb8\\xec\\x97\\x86\\xea\\xb8\\xb0\\xec\\x97\\x90, \\xed\\x95\\x98\\xec\\x9c\\x84\\xea\\xb6\\x8c\\xec\\x9d\\x98 \\xeb\\xb0\\x98\\xeb\\x9e\\x80\\xec\\x9d\\x84 \\xea\\xb8\\xb0\\xeb\\x8c\\x80\\xed\\x95\\xb4 \\xeb\\xb4\\x85\\xeb\\x8b\\x88\\xeb\\x8b\\xa4.</p>\\n\\t\\t\\t\\t\\t\\t<div class=\"source_box\">\\n\\t\\t\\t\\t\\t\\t\\t<span class=\"date\">4\\xec\\x9d\\xbc \\xec\\xa0\\x84</span>\\n\\t\\t\\t\\t\\t\\t\\t<span class=\"source\">\\n                                \\n                                <span class=\"source_inner\">RedHorN</span>\\n                            </span>\\n\\t\\t\\t\\t\\t\\t</div>\\n\\t\\t\\t\\t\\t</a>\\n\\t\\t\\t\\t</li>\\n\\t\\t\\t\\n\\t\\t\\t\\t<li class=\"theme_item\" data-gdid=\"CAS_e0b05bc9-6c8f-11ec-b7dd-27fc04a23933\" data-da-position=\"true\">\\n\\t\\t\\t\\t\\t<a href=\"https://post.naver.com/viewer/postView.naver?volumeNo&#x3D;33058210&amp;memberNo&#x3D;32578972\" class=\"theme_thumb\" data-clk=\"tcc_gam.list5cont2\" target=\"_blank\">\\n\\t\\t\\t\\t\\t\\t<img  data-src=\"https://s.pstatic.net/dthumb.phinf/?src&#x3D;%22https%3A%2F%2Fs.pstatic.net%2Fstatic%2Fwww%2Fmobile%2Fedit%2F20220103_1095%2Fupload_1641212571700sLAXq.jpg%22&amp;type&#x3D;nf340_228\" alt=\"\\xed\\x8a\\xb9\\xec\\x9d\\xb4\\xed\\x95\\x9c \\xeb\\xaa\\xa8\\xed\\x8b\\xb0\\xeb\\xb8\\x8c\\xeb\\xa5\\xbc \\xec\\xa7\\x80\\xeb\\x8b\\x8c \\xed\\x99\\x94\\xec\\x84\\x9d \\xed\\x8f\\xac\\xec\\xbc\\x93\\xeb\\xaa\\xac\" width=\"170\" height=\"114\" onerror=\"this.outerHTML=\\'<span class=\\\\\\'pm_noimg\\\\\\'><span class=\\\\\\'noimg_text\\\\\\'>\\xec\\x9d\\xb4\\xeb\\xaf\\xb8\\xec\\xa7\\x80 \\xec\\xa4\\x80\\xeb\\xb9\\x84\\xec\\xa4\\x91</span></span>\\'\">\\n\\t\\t\\t\\t\\t\\t<span class=\"thumb_bd\"></span>\\n                        \\n\\t\\t\\t\\t\\t</a>\\n\\t\\t\\t\\t\\t<a href=\"https://post.naver.com/viewer/postView.naver?volumeNo&#x3D;33058210&amp;memberNo&#x3D;32578972\" class=\"theme_info\" data-clk=\"tcc_gam.list5cont2\" target=\"_blank\">\\n\\t\\t\\t\\t\\t\\t<em class=\"theme_category\"> \\xea\\xb2\\x8c\\xec\\x9e\\x84</em>\\n\\t\\t\\t\\t\\t\\t<strong class=\"title elss\">\\xed\\x8a\\xb9\\xec\\x9d\\xb4\\xed\\x95\\x9c \\xeb\\xaa\\xa8\\xed\\x8b\\xb0\\xeb\\xb8\\x8c\\xeb\\xa5\\xbc \\xec\\xa7\\x80\\xeb\\x8b\\x8c \\xed\\x99\\x94\\xec\\x84\\x9d \\xed\\x8f\\xac\\xec\\xbc\\x93\\xeb\\xaa\\xac</strong>\\n                        <p class=\"desc\">\\xed\\x8f\\xac\\xec\\xbc\\x93\\xeb\\xaa\\xac \\xec\\x84\\xb8\\xea\\xb3\\x84\\xec\\x9d\\x98 \\xed\\x99\\x94\\xec\\x84\\x9d\\xec\\x9d\\x80 \\xec\\x83\\x81\\xeb\\x8b\\xb9\\xed\\x9e\\x88 \\xec\\x9e\\xac\\xeb\\xaf\\xb8\\xec\\x9e\\x88\\xec\\x8a\\xb5\\xeb\\x8b\\x88\\xeb\\x8b\\xa4. \\xea\\xb7\\xb8\\xec\\xa0\\x80 \\xea\\xb3\\xa0\\xeb\\x8c\\x80\\xec\\x97\\x90 \\xec\\xa1\\xb4\\xec\\x9e\\xac\\xed\\x96\\x88\\xeb\\x8d\\x98 \\xec\\x83\\x9d\\xeb\\xac\\xbc\\xec\\x9d\\x98 \\xed\\x9d\\x94\\xec\\xa0\\x81\\xec\\x9d\\xb4 \\xeb\\x8f\\x8c\\xec\\x97\\x90 \\xeb\\x82\\xa8\\xec\\x95\\x84\\xec\\x9e\\x88\\xeb\\x8a\\x94 \\xea\\xb2\\x83\\xec\\x9d\\xb4 \\xec\\x95\\x84\\xeb\\x8b\\x88\\xeb\\x9d\\xbc \\xea\\xb0\\x81\\xea\\xb0\\x81\\xec\\x9d\\x98 \\xed\\x99\\x94\\xec\\x84\\x9d\\xec\\x9d\\x84 \\xeb\\xb3\\xb5\\xec\\x9b\\x90\\xed\\x95\\x98\\xeb\\xa9\\xb4 \\xec\\x9d\\xb4\\xeb\\xaf\\xb8 \\xeb\\xa9\\xb8\\xec\\xa2\\x85\\xed\\x95\\x9c \\xed\\x8f\\xac\\xec\\xbc\\x93\\xeb\\xaa\\xac\\xec\\x9d\\xb4 \\xec\\x83\\x88\\xeb\\xa1\\xad\\xea\\xb2\\x8c \\xed\\x83\\x84\\xec\\x83\\x9d\\xed\\x95\\x98\\xeb\\x8a\\x94\\xeb\\x8d\\xb0\\xec\\x9a\\x94. \\xec\\x9d\\xb4\\xeb\\x9f\\xac\\xed\\x95\\x9c \\xec\\x84\\xa4\\xec\\xa0\\x95\\xec\\x9d\\x80 \\xed\\x8f\\xac\\xec\\xbc\\x93\\xeb\\xaa\\xac \\xec\\x88\\x98\\xec\\xa7\\x91\\xec\\x9d\\x84 \\xeb\\x8b\\xa4\\xec\\xb1\\x84\\xeb\\xa1\\xad\\xea\\xb2\\x8c \\xed\\x95\\xb4\\xec\\xa3\\xbc\\xeb\\x8a\\x94 \\xeb\\xa7\\xa4\\xec\\x9a\\xb0 \\xec\\x9e\\xac\\xeb\\xaf\\xb8\\xec\\x9e\\x88\\xeb\\x8a\\x94 \\xec\\x8b\\x9c\\xec\\x8a\\xa4\\xed\\x85\\x9c\\xec\\x9d\\xb4 \\xec\\x95\\x84\\xeb\\x8b\\x90 \\xec\\x88\\x98 \\xec\\x97\\x86\\xec\\x8a\\xb5\\xeb\\x8b\\x88\\xeb\\x8b\\xa4.\\xeb\\x8b\\xb9\\xec\\x97\\xb0\\xed\\x95\\x9c \\xec\\x9d\\xb4\\xec\\x95\\xbc\\xea\\xb8\\xb0\\xec\\xa7\\x80\\xeb\\xa7\\x8c \\xec\\x9d\\xb4\\xeb\\x9f\\xac\\xed\\x95\\x9c \\xec\\x8b\\x9c\\xec\\x8a\\xa4\\xed\\x85\\x9c \\xeb\\x8d\\x95\\xeb\\xb6\\x84\\xec\\x97\\x90 \\xed\\x99\\x94\\xec\\x84\\x9d \\xed\\x8f\\xac\\xec\\xbc\\x93\\xeb\\xaa\\xac\\xec\\x9d\\x80 \\xec\\x86\\x90\\xec\\x97\\x90 \\xeb\\x84\\xa3\\xea\\xb8\\xb0\\xea\\xb0\\x80 \\xeb\\xa7\\xa4\\xec\\x9a\\xb0 \\xec\\x96\\xb4\\xeb\\xa0\\xa4\\xec\\x9b\\xa0\\xea\\xb3\\xa0 \\xec\\x83\\x81\\xeb\\x8b\\xb9\\xed\\x9e\\x88 \\xeb\\xa7\\xa4\\xeb\\xa0\\xa5\\xec\\xa0\\x81\\xec\\x9d\\xb8 \\xec\\x84\\xa4\\xec\\xa0\\x95</p>\\n\\t\\t\\t\\t\\t\\t<div class=\"source_box\">\\n\\t\\t\\t\\t\\t\\t\\t<span class=\"date\">4\\xec\\x9d\\xbc \\xec\\xa0\\x84</span>\\n\\t\\t\\t\\t\\t\\t\\t<span class=\"source\">\\n                                \\n                                <span class=\"source_inner\">\\xea\\xb3\\xa0\\xeb\\xb6\\x81\\xec\\x86\\x90</span>\\n                            </span>\\n\\t\\t\\t\\t\\t\\t</div>\\n\\t\\t\\t\\t\\t</a>\\n\\t\\t\\t\\t</li>\\n\\t\\t\\t\\n\\t\\t\\t\\t<li class=\"theme_item\" data-gdid=\"CAS_5d87f311-6c40-11ec-b7dd-bfa608404406\" data-da-position=\"true\">\\n\\t\\t\\t\\t\\t<a href=\"https://post.naver.com/viewer/postView.naver?volumeNo&#x3D;33055135&amp;memberNo&#x3D;11415974\" class=\"theme_thumb\" data-clk=\"tcc_gam.list5cont3\" target=\"_blank\">\\n\\t\\t\\t\\t\\t\\t<img  data-src=\"https://s.pstatic.net/dthumb.phinf/?src&#x3D;%22https%3A%2F%2Fs.pstatic.net%2Fstatic%2Fwww%2Fmobile%2Fedit%2F20220103_1095%2Fupload_1641178828151OvQR1.jpg%22&amp;type&#x3D;nf340_228\" alt=\"\\xec\\xb4\\x88\\xeb\\xb3\\xb4\\xec\\x9e\\x90\\xeb\\xa5\\xbc \\xec\\x9c\\x84\\xed\\x95\\x9c \\xec\\x82\\xb0\\xec\\x86\\x8c \\xeb\\xaf\\xb8\\xed\\x8f\\xac\\xed\\x95\\xa8 \\xea\\xb2\\x8c\\xec\\x9e\\x84\\xed\\x8c\\x81\" width=\"170\" height=\"114\" onerror=\"this.outerHTML=\\'<span class=\\\\\\'pm_noimg\\\\\\'><span class=\\\\\\'noimg_text\\\\\\'>\\xec\\x9d\\xb4\\xeb\\xaf\\xb8\\xec\\xa7\\x80 \\xec\\xa4\\x80\\xeb\\xb9\\x84\\xec\\xa4\\x91</span></span>\\'\">\\n\\t\\t\\t\\t\\t\\t<span class=\"thumb_bd\"></span>\\n                        \\n\\t\\t\\t\\t\\t</a>\\n\\t\\t\\t\\t\\t<a href=\"https://post.naver.com/viewer/postView.naver?volumeNo&#x3D;33055135&amp;memberNo&#x3D;11415974\" class=\"theme_info\" data-clk=\"tcc_gam.list5cont3\" target=\"_blank\">\\n\\t\\t\\t\\t\\t\\t<em class=\"theme_category\"> \\xea\\xb2\\x8c\\xec\\x9e\\x84</em>\\n\\t\\t\\t\\t\\t\\t<strong class=\"title elss\">\\xec\\xb4\\x88\\xeb\\xb3\\xb4\\xec\\x9e\\x90\\xeb\\xa5\\xbc \\xec\\x9c\\x84\\xed\\x95\\x9c \\xec\\x82\\xb0\\xec\\x86\\x8c \\xeb\\xaf\\xb8\\xed\\x8f\\xac\\xed\\x95\\xa8 \\xea\\xb2\\x8c\\xec\\x9e\\x84\\xed\\x8c\\x81</strong>\\n                        <p class=\"desc\">\\xec\\x9d\\xb4\\xeb\\xb2\\x88\\xec\\x97\\x90\\xeb\\x8a\\x94 \\xec\\x82\\xb0\\xec\\x86\\x8c \\xeb\\xaf\\xb8\\xed\\x8f\\xac\\xed\\x95\\xa8\\xec\\x9d\\x98 \\xea\\xb2\\x8c\\xec\\x9e\\x84 \\xed\\x8c\\x81\\xeb\\x93\\xa4\\xec\\x9d\\x84 \\xec\\x98\\xac\\xeb\\xa0\\xa4\\xeb\\xb3\\xb4\\xeb\\x8f\\x84\\xeb\\xa1\\x9d \\xed\\x95\\x98\\xea\\xb2\\xa0\\xec\\x8a\\xb5\\xeb\\x8b\\x88\\xeb\\x8b\\xa4. \\xec\\x83\\x9d\\xea\\xb0\\x81\\xed\\x95\\x9c \\xed\\x8c\\x81\\xec\\x9d\\x80 \\xec\\x9d\\xb4\\xea\\xb2\\x83\\xeb\\xb3\\xb4\\xeb\\x8b\\xa4 \\xeb\\x8d\\x94 \\xeb\\xa7\\x8e\\xec\\x95\\x98\\xeb\\x8a\\x94\\xeb\\x8d\\xb0 \\xea\\xb2\\x8c\\xec\\x9e\\x84\\xec\\x9d\\x84 \\xed\\x95\\x98\\xeb\\x8b\\xa4\\xeb\\xb3\\xb4\\xeb\\x8b\\x88 \\xec\\xa2\\x80\\xeb\\x8d\\x94 \\xed\\x9a\\xa8\\xec\\x9c\\xa8\\xec\\xa0\\x81\\xec\\x9d\\xb8 \\xeb\\xb0\\xa9\\xeb\\xb2\\x95\\xec\\x9d\\xb4 \\xec\\x83\\x9d\\xea\\xb0\\x81\\xeb\\x82\\x98\\xea\\xb1\\xb0\\xeb\\x82\\x98 \\xea\\xb2\\xbd\\xec\\x9a\\xb0\\xec\\x97\\x90 \\xeb\\x94\\xb0\\xeb\\x9d\\xbc\\xec\\x84\\x9c\\xeb\\x8a\\x94 \\xeb\\x84\\x88\\xeb\\xac\\xb4 \\xeb\\xb3\\xb5\\xec\\x9e\\xa1\\xed\\x95\\x9c\\xea\\xb2\\x83\\xeb\\x93\\xa4\\xec\\x9d\\x80 \\xec\\xa0\\x9c\\xec\\x99\\xb8 \\xed\\x95\\x98\\xeb\\x8b\\xa4\\xeb\\xb3\\xb4\\xeb\\x8b\\x88 \\xec\\xa0\\x95\\xeb\\xa6\\xac\\xea\\xb0\\x80 \\xeb\\x90\\x9c \\xed\\x8c\\x81\\xec\\x9d\\xb4 \\xec\\x83\\x9d\\xea\\xb0\\x81\\xeb\\xb3\\xb4\\xeb\\x8b\\xa4 \\xeb\\xa7\\x8e\\xec\\xa7\\x80\\xea\\xb0\\x80 \\xec\\x95\\x8a\\xeb\\x84\\xa4\\xec\\x9a\\x94 \\xec\\xa0\\x95\\xeb\\xa6\\xac\\xea\\xb0\\x80 \\xeb\\x90\\x98\\xeb\\x8a\\x94\\xeb\\x8d\\xb0\\xeb\\xa1\\x9c \\xeb\\x82\\x98\\xeb\\xa8\\xb8\\xec\\xa7\\x80 \\xed\\x8c\\x81\\xeb\\x93\\xa4\\xeb\\x8f\\x84 \\xec\\x98\\xac\\xeb\\xa6\\xac\\xeb\\x8f\\x84\\xeb\\xa1\\x9d \\xed\\x95\\x98\\xea\\xb2\\xa0\\xec\\x8a\\xb5\\xeb\\x8b\\x88\\xeb\\x8b\\xa4.\\xeb\\xaf\\xb8\\xec\\x95\\xbd\\xed\\x95\\x9c \\xec\\x8b\\x9c\\xec\\x9e\\x91\\xec\\xb2\\x98\\xec\\x9d\\x8c\\xec\\x97\\x90 3\\xeb\\xaa\\x85\\xec\\x9d\\x98 \\xeb\\xb3\\xb5\\xec\\xa0\\x9c\\xec\\xb2\\xb4\\xeb\\xa5\\xbc \\xeb\\xbd\\x91\\xea\\xb3\\xa0 \\xec\\x8b\\x9c\\xec\\x9e\\x91\\xed\\x95\\xb4\\xec\\x95\\xbc \\xed\\x95\\x98\\xeb\\x8a\\x94\\xeb\\x8d\\xb0 \\xea\\xb0\\x9c\\xec\\x9d\\xb8\\xec\\xa0\\x81\\xec\\x9d\\xb8 \\xec\\xb6\\x94\\xec\\xb2\\x9c\\xec\\x9d\\x80 \\xec\\x97\\xb0\\xea\\xb5\\xac, </p>\\n\\t\\t\\t\\t\\t\\t<div class=\"source_box\">\\n\\t\\t\\t\\t\\t\\t\\t<span class=\"date\">4\\xec\\x9d\\xbc \\xec\\xa0\\x84</span>\\n\\t\\t\\t\\t\\t\\t\\t<span class=\"source\">\\n                                \\n                                <span class=\"source_inner\">\\xec\\xa0\\x95\\xec\\x96\\xb4\\xeb\\xa6\\xac</span>\\n                            </span>\\n\\t\\t\\t\\t\\t\\t</div>\\n\\t\\t\\t\\t\\t</a>\\n\\t\\t\\t\\t</li>\\n\\t\\t\\t\\n\\t\\t\\t\\t<li class=\"theme_item\" data-gdid=\"CAS_5d87f313-6c40-11ec-b7dd-c7fbfdcb393a\" data-da-position=\"true\">\\n\\t\\t\\t\\t\\t<a href=\"https://post.naver.com/viewer/postView.naver?volumeNo&#x3D;33035370&amp;memberNo&#x3D;54614911\" class=\"theme_thumb\" data-clk=\"tcc_gam.list5cont4\" target=\"_blank\">\\n\\t\\t\\t\\t\\t\\t<img  data-src=\"https://s.pstatic.net/dthumb.phinf/?src&#x3D;%22https%3A%2F%2Fs.pstatic.net%2Fstatic%2Fwww%2Fmobile%2Fedit%2F20220103_1095%2Fupload_1641178940377Q17mj.jpg%22&amp;type&#x3D;nf340_228\" alt=\"1\\xea\\xb8\\xb0 21\\xed\\x99\\x94. \\xeb\\x8f\\x99\\xeb\\xac\\xbc\\xeb\\x93\\xa4\\xec\\x9d\\xb4 \\xec\\xa7\\x80\\xeb\\xb0\\xa9\\xec\\x84\\xa0\\xea\\xb1\\xb0 \\xed\\x95\\x98\\xeb\\x8a\\x94 \\xeb\\xa7\\x8c\\xed\\x99\\x94 (\\xe4\\xb8\\x8b)\" width=\"170\" height=\"114\" onerror=\"this.outerHTML=\\'<span class=\\\\\\'pm_noimg\\\\\\'><span class=\\\\\\'noimg_text\\\\\\'>\\xec\\x9d\\xb4\\xeb\\xaf\\xb8\\xec\\xa7\\x80 \\xec\\xa4\\x80\\xeb\\xb9\\x84\\xec\\xa4\\x91</span></span>\\'\">\\n\\t\\t\\t\\t\\t\\t<span class=\"thumb_bd\"></span>\\n                        \\n\\t\\t\\t\\t\\t</a>\\n\\t\\t\\t\\t\\t<a href=\"https://post.naver.com/viewer/postView.naver?volumeNo&#x3D;33035370&amp;memberNo&#x3D;54614911\" class=\"theme_info\" data-clk=\"tcc_gam.list5cont4\" target=\"_blank\">\\n\\t\\t\\t\\t\\t\\t<em class=\"theme_category\"> \\xea\\xb2\\x8c\\xec\\x9e\\x84</em>\\n\\t\\t\\t\\t\\t\\t<strong class=\"title elss\">1\\xea\\xb8\\xb0 21\\xed\\x99\\x94. \\xeb\\x8f\\x99\\xeb\\xac\\xbc\\xeb\\x93\\xa4\\xec\\x9d\\xb4 \\xec\\xa7\\x80\\xeb\\xb0\\xa9\\xec\\x84\\xa0\\xea\\xb1\\xb0 \\xed\\x95\\x98\\xeb\\x8a\\x94 \\xeb\\xa7\\x8c\\xed\\x99\\x94 (\\xe4\\xb8\\x8b)</strong>\\n                        <p class=\"desc\">\\xec\\x9c\\xa0\\xed\\x8a\\x9c\\xeb\\xb8\\x8c \\xea\\xb5\\xac\\xeb\\x8f\\x85\\xec\\x9e\\x90 150\\xeb\\xa7\\x8c\\xeb\\xaa\\x85 \\xec\\xa0\\x84\\xec\\x84\\xa4\\xec\\x9d\\x98 \\xeb\\xb3\\x91\\xeb\\xa7\\x9b \\xec\\xa7\\xa4\\xed\\x88\\xb0! \\xec\\xb5\\x9c\\xea\\xb3\\xa0 \\xec\\x9d\\xb8\\xea\\xb8\\xb0 \\xec\\x8b\\x9c\\xeb\\xa6\\xac\\xec\\xa6\\x88\\xec\\x9d\\xb8 \\xec\\xa7\\x90\\xec\\x8a\\xb9\\xec\\xb9\\x9c\\xea\\xb5\\xac\\xeb\\x93\\xa4\\xec\\x9d\\xb4 \\xeb\\x93\\x9c\\xeb\\x94\\x94\\xec\\x96\\xb4 \\xeb\\xaa\\xa8\\xeb\\xb0\\x94\\xec\\x9d\\xbc \\xea\\xb2\\x8c\\xec\\x9e\\x84\\xec\\x9c\\xbc\\xeb\\xa1\\x9c \\xec\\xb6\\x9c\\xec\\x8b\\x9c \\xeb\\x90\\x98\\xec\\x97\\x88\\xec\\x8a\\xb5\\xeb\\x8b\\x88\\xeb\\x8b\\xa4! \\xec\\xa7\\x80\\xea\\xb8\\x88 \\xec\\x95\\x84\\xeb\\x9e\\x98 \\xeb\\xa7\\x81\\xed\\x81\\xac\\xeb\\xa5\\xbc \\xed\\x86\\xb5\\xed\\x95\\x98\\xec\\x97\\xac \\xea\\xb5\\xac\\xea\\xb8\\x80 \\xed\\x94\\x8c\\xeb\\xa0\\x88\\xec\\x9d\\xb4 \\xec\\x8a\\xa4\\xed\\x86\\xa0\\xec\\x96\\xb4\\xec\\x97\\x90\\xec\\x84\\x9c \\xec\\xa7\\x90\\xec\\x8a\\xb9\\xec\\xb9\\x9c\\xea\\xb5\\xac\\xeb\\x93\\xa4M\\xec\\x9d\\x84 \\xeb\\x8b\\xa4\\xec\\x9a\\xb4 \\xeb\\xb0\\x9b\\xec\\x9c\\xbc\\xec\\x84\\xb8\\xec\\x9a\\x94! [ \\xec\\xa7\\x90\\xec\\x8a\\xb9\\xec\\xb9\\x9c\\xea\\xb5\\xac\\xeb\\x93\\xa4M \\xeb\\x8b\\xa4\\xec\\x9a\\xb4\\xeb\\xb0\\x9b\\xec\\x9c\\xbc\\xeb\\x9f\\xac \\xea\\xb3\\xa0\\xea\\xb3\\xa0\\xec\\x94\\xbd! ]\\xec\\x9b\\xb9\\xed\\x88\\xb0\\xeb\\xa7\\x8c\\xed\\x81\\xbc\\xec\\x9d\\xb4\\xeb\\x82\\x98 \\xec\\x9e\\xac\\xeb\\xb0\\x8c\\xeb\\x8a\\x94 \\xec\\xa7\\xa4\\xed\\x88\\xb0 \\xec\\x98\\x81\\xec\\x83\\x81 \\xec\\x8b\\x9c\\xeb\\xa6\\xac\\xec\\xa6\\x88\\xeb\\x8f\\x84 \\xed\\x95\\xa8\\xea\\xbb\\x98 \\xec\\x8b\\x9c\\xec\\xb2\\xad\\xed\\x95\\xb4\\xec\\xa3\\xbc\\xec\\x84\\xb8\\xec\\x9a\\x94!</p>\\n\\t\\t\\t\\t\\t\\t<div class=\"source_box\">\\n\\t\\t\\t\\t\\t\\t\\t<span class=\"date\">1\\xec\\xa3\\xbc\\xec\\x9d\\xbc \\xec\\xa0\\x84</span>\\n\\t\\t\\t\\t\\t\\t\\t<span class=\"source\">\\n                                \\n                                <span class=\"source_inner\">\\xec\\xa7\\x90\\xec\\x8a\\xb9\\xec\\xb9\\x9c\\xea\\xb5\\xac\\xeb\\x93\\xa4M</span>\\n                            </span>\\n\\t\\t\\t\\t\\t\\t</div>\\n\\t\\t\\t\\t\\t</a>\\n\\t\\t\\t\\t</li>\\n\\t\\t\\t\\n\\t\\t\\t\\t<li class=\"theme_item\" data-gdid=\"CAS_a7ca82c9-69fa-11ec-b7dd-81056c2104d1\" data-da-position=\"true\">\\n\\t\\t\\t\\t\\t<a href=\"https://post.naver.com/viewer/postView.naver?volumeNo&#x3D;33043638&amp;memberNo&#x3D;19803452\" class=\"theme_thumb\" data-clk=\"tcc_gam.list5cont5\" target=\"_blank\">\\n\\t\\t\\t\\t\\t\\t<img  data-src=\"https://s.pstatic.net/dthumb.phinf/?src&#x3D;%22https%3A%2F%2Fs.pstatic.net%2Fstatic%2Fwww%2Fmobile%2Fedit%2F20211231_1095%2Fupload_16409302669585pfTH.png%22&amp;type&#x3D;nf340_228\" alt=\"\\xec\\x8b\\xa4\\xec\\xa0\\x9c\\xeb\\xa1\\x9c \\xec\\x9e\\x88\\xec\\x9c\\xbc\\xeb\\xa9\\xb4 \\xec\\x9c\\xa0\\xec\\x9a\\xa9\\xed\\x95\\xa0 \\xec\\x95\\x84\\xec\\x9d\\xb4\\xed\\x85\\x9c\\xeb\\x93\\xa4\" width=\"170\" height=\"114\" onerror=\"this.outerHTML=\\'<span class=\\\\\\'pm_noimg\\\\\\'><span class=\\\\\\'noimg_text\\\\\\'>\\xec\\x9d\\xb4\\xeb\\xaf\\xb8\\xec\\xa7\\x80 \\xec\\xa4\\x80\\xeb\\xb9\\x84\\xec\\xa4\\x91</span></span>\\'\">\\n\\t\\t\\t\\t\\t\\t<span class=\"thumb_bd\"></span>\\n                        \\n\\t\\t\\t\\t\\t</a>\\n\\t\\t\\t\\t\\t<a href=\"https://post.naver.com/viewer/postView.naver?volumeNo&#x3D;33043638&amp;memberNo&#x3D;19803452\" class=\"theme_info\" data-clk=\"tcc_gam.list5cont5\" target=\"_blank\">\\n\\t\\t\\t\\t\\t\\t<em class=\"theme_category\"> \\xea\\xb2\\x8c\\xec\\x9e\\x84</em>\\n\\t\\t\\t\\t\\t\\t<strong class=\"title elss\">\\xec\\x8b\\xa4\\xec\\xa0\\x9c\\xeb\\xa1\\x9c \\xec\\x9e\\x88\\xec\\x9c\\xbc\\xeb\\xa9\\xb4 \\xec\\x9c\\xa0\\xec\\x9a\\xa9\\xed\\x95\\xa0 \\xec\\x95\\x84\\xec\\x9d\\xb4\\xed\\x85\\x9c\\xeb\\x93\\xa4</strong>\\n                        <p class=\"desc\">\\xec\\xb9\\x9c\\xea\\xb5\\xac\\xeb\\x9e\\x91 \\xea\\xb0\\x80\\xeb\\xb3\\x8d\\xea\\xb2\\x8c \\xec\\x9d\\xb4\\xec\\x95\\xbc\\xea\\xb8\\xb0\\xed\\x95\\x98\\xeb\\x8b\\xa4 \\xec\\xa7\\x84\\xec\\xa7\\x80\\xed\\x95\\x98\\xea\\xb2\\x8c \\xec\\x96\\xb4\\xeb\\x96\\xa4 \\xec\\x95\\x84\\xec\\x9d\\xb4\\xed\\x85\\x9c\\xec\\x9d\\xb4 \\xec\\x8b\\xa4\\xec\\xa1\\xb4\\xed\\x95\\x98\\xeb\\xa9\\xb4 \\xec\\xa2\\x8b\\xec\\x9d\\x84\\xec\\xa7\\x80 \\xed\\x86\\xa0\\xeb\\xa1\\xa0\\xed\\x95\\x98\\xeb\\x8b\\xa4\\xea\\xb0\\x80 \\xeb\\x82\\x98\\xec\\x98\\xa8 \\xeb\\xa7\\x8c\\xed\\x99\\x94\\xec\\x9e\\x85\\xeb\\x8b\\x88\\xeb\\x8b\\xa4. \\xec\\xb0\\xb8 \\xeb\\xb9\\x84\\xed\\x98\\x84\\xec\\x8b\\xa4\\xec\\xa0\\x81\\xec\\x9d\\xb4\\xea\\xb3\\xa0 \\xeb\\xa7\\x90\\xeb\\x8f\\x84 \\xec\\x95\\x88\\xeb\\x90\\x98\\xeb\\x8a\\x94 \\xea\\xb1\\xb0 \\xec\\x95\\x84\\xeb\\x8a\\x94\\xeb\\x8d\\xb0, \\xec\\x9d\\xb4\\xeb\\x9f\\xb0 \\xec\\xa3\\xbc\\xec\\xa0\\x9c\\xeb\\xa1\\x9c \\xec\\x9d\\xb4\\xec\\x95\\xbc\\xea\\xb8\\xb0\\xed\\x95\\x98\\xeb\\x8a\\x94 \\xea\\xb1\\xb4 \\xec\\x99\\x9c \\xec\\x9d\\xb4\\xeb\\xa0\\x87\\xea\\xb2\\x8c \\xec\\xa6\\x90\\xea\\xb1\\xb0\\xec\\x9a\\xb8\\xea\\xb9\\x8c\\xec\\x9a\\x94\\xe3\\x85\\x8b\\xe3\\x85\\x8b\\xe3\\x85\\x8b\\xe3\\x85\\x8b ------------------ \\xec\\x98\\xa4\\xeb\\x8a\\x98\\xeb\\x8f\\x84 \\xeb\\xb4\\x90\\xec\\xa3\\xbc\\xec\\x85\\x94\\xec\\x84\\x9c \\xea\\xb0\\x90\\xec\\x82\\xac\\xed\\x95\\xa9\\xeb\\x8b\\x88\\xeb\\x8b\\xa4! \\xeb\\x8b\\xa4\\xec\\x9d\\x8c \\xec\\xa3\\xbc\\xec\\x97\\x90 \\xeb\\x98\\x90 \\xeb\\xb4\\x90\\xec\\x9a\\x94~</p>\\n\\t\\t\\t\\t\\t\\t<div class=\"source_box\">\\n\\t\\t\\t\\t\\t\\t\\t<span class=\"date\">1\\xec\\xa3\\xbc\\xec\\x9d\\xbc \\xec\\xa0\\x84</span>\\n\\t\\t\\t\\t\\t\\t\\t<span class=\"source\">\\n                                \\n                                <span class=\"source_inner\">\\xeb\\x8f\\x88\\xeb\\xaf\\xb8\\xeb\\x8b\\x88</span>\\n                            </span>\\n\\t\\t\\t\\t\\t\\t</div>\\n\\t\\t\\t\\t\\t</a>\\n\\t\\t\\t\\t</li>\\n\\t\\t\\t\\n\\t\\t</ul>\\n\\t</div>\\n</div>\\n<div class=\"group_theme\" data-block-id=\"\" data-block-code=\"PC-THEME-GAMEAPP-MOBILE-RANKING-DEFAULT-5\" data-block-type=\"MATERIALS\" data-template-code=\"MOBILE-RANKING-LIST\"\\n\\n\\t data-da=\"container\"\\n\\t data-index=\"\"\\n     data-page=\"3\"\\n\\t style=\"display:none\">\\n\\n\\t<div class=\"list_theme_wrap\">\\n\\t\\t<ul class=\"list_theme\">\\n\\t\\t\\t\\n\\t\\t\\t\\t<li class=\"theme_item\" data-gdid=\"CAS_a7ca82cc-69fa-11ec-b7dd-ada82c8d24f3\" data-da-position=\"true\">\\n\\t\\t\\t\\t\\t<a href=\"https://post.naver.com/viewer/postView.naver?volumeNo&#x3D;33036895&amp;memberNo&#x3D;24985926\" class=\"theme_thumb\" data-clk=\"tcc_gam.list6cont1\" target=\"_blank\">\\n\\t\\t\\t\\t\\t\\t<img  data-src=\"https://s.pstatic.net/dthumb.phinf/?src&#x3D;%22https%3A%2F%2Fs.pstatic.net%2Fstatic%2Fwww%2Fmobile%2Fedit%2F20211231_1095%2Fupload_1640930331758fkyJS.jpg%22&amp;type&#x3D;nf340_228\" alt=\"\\xec\\x9d\\xb4\\xea\\xb2\\x8c... 1\\xec\\x9d\\xb8 \\xea\\xb0\\x9c\\xeb\\xb0\\x9c \\xed\\x80\\x84\\xeb\\xa6\\xac\\xed\\x8b\\xb0? &#x27;\\xeb\\xb8\\x8c\\xeb\\x9d\\xbc\\xec\\x9d\\xb4\\xed\\x8a\\xb8 \\xeb\\xa9\\x94\\xeb\\xaa\\xa8\\xeb\\xa6\\xac: \\xec\\x9d\\xb8\\xed\\x94\\xbc\\xeb\\x8b\\x88\\xed\\x8a\\xb8&#x27;\" width=\"170\" height=\"114\" onerror=\"this.outerHTML=\\'<span class=\\\\\\'pm_noimg\\\\\\'><span class=\\\\\\'noimg_text\\\\\\'>\\xec\\x9d\\xb4\\xeb\\xaf\\xb8\\xec\\xa7\\x80 \\xec\\xa4\\x80\\xeb\\xb9\\x84\\xec\\xa4\\x91</span></span>\\'\">\\n\\t\\t\\t\\t\\t\\t<span class=\"thumb_bd\"></span>\\n                        \\n\\t\\t\\t\\t\\t</a>\\n\\t\\t\\t\\t\\t<a href=\"https://post.naver.com/viewer/postView.naver?volumeNo&#x3D;33036895&amp;memberNo&#x3D;24985926\" class=\"theme_info\" data-clk=\"tcc_gam.list6cont1\" target=\"_blank\">\\n\\t\\t\\t\\t\\t\\t<em class=\"theme_category\"> \\xea\\xb2\\x8c\\xec\\x9e\\x84</em>\\n\\t\\t\\t\\t\\t\\t<strong class=\"title elss\">\\xec\\x9d\\xb4\\xea\\xb2\\x8c... 1\\xec\\x9d\\xb8 \\xea\\xb0\\x9c\\xeb\\xb0\\x9c \\xed\\x80\\x84\\xeb\\xa6\\xac\\xed\\x8b\\xb0? \\'\\xeb\\xb8\\x8c\\xeb\\x9d\\xbc\\xec\\x9d\\xb4\\xed\\x8a\\xb8 \\xeb\\xa9\\x94\\xeb\\xaa\\xa8\\xeb\\xa6\\xac: \\xec\\x9d\\xb8\\xed\\x94\\xbc\\xeb\\x8b\\x88\\xed\\x8a\\xb8\\'</strong>\\n                        <p class=\"desc\">\\xec\\x84\\xb8\\xec\\x83\\x81\\xec\\x9d\\x80 \\xeb\\x84\\x93\\xea\\xb3\\xa0 \\xea\\xb2\\x8c\\xec\\x9e\\x84\\xec\\x9d\\x80 \\xeb\\xa7\\x8e\\xec\\x8a\\xb5\\xeb\\x8b\\x88\\xeb\\x8b\\xa4. \\xec\\xa0\\x95\\xeb\\xb3\\xb4\\xea\\xb0\\x80 \\xeb\\x84\\x98\\xec\\xb3\\x90\\xeb\\x82\\x98\\xeb\\x8a\\x94 \\xec\\x8b\\x9c\\xeb\\x8c\\x80, 15\\xeb\\x85\\x84 \\xec\\x97\\xad\\xec\\x82\\xac\\xec\\x9d\\x98 \\xea\\xb2\\x8c\\xec\\x9e\\x84 \\xec\\xa0\\x84\\xeb\\xac\\xb8\\xec\\xa7\\x80 \\xeb\\x94\\x94\\xec\\x8a\\xa4\\xec\\x9d\\xb4\\xec\\xa6\\x88\\xea\\xb2\\x8c\\xec\\x9e\\x84\\xec\\x97\\x90\\xec\\x84\\x9c \\xec\\x96\\xb4\\xeb\\x96\\xa4 \\xea\\xb2\\x8c\\xec\\x9e\\x84\\xec\\x9d\\xb4 \\xeb\\xa7\\x9b\\xec\\x9e\\x88\\xeb\\x8a\\x94\\xec\\xa7\\x80, \\xeb\\xa7\\x9b\\xec\\x97\\x86\\xeb\\x8a\\x94\\xec\\xa7\\x80 \\xeb\\x8c\\x80\\xec\\x8b\\xa0 \\xec\\xb0\\x8d\\xec\\x96\\xb4\\xeb\\xa8\\xb9\\xec\\x96\\xb4\\xeb\\x93\\x9c\\xeb\\xa6\\xbd\\xeb\\x8b\\x88\\xeb\\x8b\\xa4. \\xeb\\xb0\\xa5\\xeb\\xa8\\xb9\\xea\\xb3\\xa0 \\xea\\xb2\\x8c\\xec\\x9e\\x84\\xeb\\xa7\\x8c \\xed\\x95\\x98\\xeb\\x8a\\x94 TIG \\xea\\xb8\\xb0\\xec\\x9e\\x90\\xeb\\x93\\xa4\\xec\\x9d\\xb4 \\xec\\xa7\\xa7\\xea\\xb3\\xa0 \\xea\\xb5\\xb5\\xea\\xb3\\xa0 \\xec\\x89\\xbd\\xea\\xb2\\x8c \\xec\\x97\\xac\\xeb\\x9f\\xac\\xeb\\xb6\\x84\\xea\\xbb\\x98 \\xec\\xa0\\x84\\xed\\x95\\xb4\\xeb\\x93\\x9c\\xeb\\xa6\\xbd\\xeb\\x8b\\x88\\xeb\\x8b\\xa4. TIG \\xed\\x8d\\xbc\\xec\\x8a\\xa4\\xed\\x8a\\xb8\\xeb\\xa3\\xa9!&quot;\\xec\\xa7\\x84\\xec\\xa7\\x9c 1\\xec\\x9d\\xb8 \\xea\\xb0\\x9c\\xeb\\xb0\\x9c \\xeb\\xa7\\x9e\\xec\\x95\\x84\\xec\\x9a\\x94?&quot; 2019\\xeb\\x85\\x84 1\\xec\\x9b\\x94, \\xec\\x8a\\xa4\\xed\\x8c\\x80\\xec\\x97\\x90\\xec\\x84\\x9c \\xeb\\x88\\x88\\xea\\xb8\\xb8\\xec\\x9d\\x84 \\xeb\\x81\\x88 \\xed\\x95\\x9c \\xec\\xa4\\x91\\xea\\xb5\\xad \\xea\\xb0\\x9c\\xeb\\xb0\\x9c\\xec\\x9e\\x90\\xec\\x9d\\x98 \\xea\\xb2\\x8c\\xec\\x9e\\x84\\xec\\x9d\\xb4 \\xec\\x9e\\x88\\xeb\\x8b\\xa4.</p>\\n\\t\\t\\t\\t\\t\\t<div class=\"source_box\">\\n\\t\\t\\t\\t\\t\\t\\t<span class=\"date\">1\\xec\\xa3\\xbc\\xec\\x9d\\xbc \\xec\\xa0\\x84</span>\\n\\t\\t\\t\\t\\t\\t\\t<span class=\"source\">\\n                                \\n                                <span class=\"source_inner\">\\xeb\\x94\\x94\\xec\\x8a\\xa4\\xec\\x9d\\xb4\\xec\\xa6\\x88\\xea\\xb2\\x8c\\xec\\x9e\\x84</span>\\n                            </span>\\n\\t\\t\\t\\t\\t\\t</div>\\n\\t\\t\\t\\t\\t</a>\\n\\t\\t\\t\\t</li>\\n\\t\\t\\t\\n\\t\\t\\t\\t<li class=\"theme_item\" data-gdid=\"CAS_a7ca5bb8-69fa-11ec-b7dd-739478d6edb8\" data-da-position=\"true\">\\n\\t\\t\\t\\t\\t<a href=\"https://post.naver.com/viewer/postView.naver?volumeNo&#x3D;33040565\" class=\"theme_thumb\" data-clk=\"tcc_gam.list6cont2\" target=\"_blank\">\\n\\t\\t\\t\\t\\t\\t<img  data-src=\"https://s.pstatic.net/dthumb.phinf/?src&#x3D;%22https%3A%2F%2Fs.pstatic.net%2Fstatic%2Fwww%2Fmobile%2Fedit%2F20211231_1095%2Fupload_1640930213418wgnNm.jpg%22&amp;type&#x3D;nf340_228\" alt=\"\\xec\\x8b\\xa0\\xea\\xb7\\x9c IP \\xea\\xb0\\x80\\xeb\\x93\\x9d! 2022\\xeb\\x85\\x84 \\xed\\x95\\x9c\\xea\\xb5\\xad \\xea\\xb2\\x8c\\xec\\x9e\\x84\\xec\\x82\\xac \\xea\\xb8\\xb0\\xeb\\x8c\\x80\\xec\\x9e\\x91\" width=\"170\" height=\"114\" onerror=\"this.outerHTML=\\'<span class=\\\\\\'pm_noimg\\\\\\'><span class=\\\\\\'noimg_text\\\\\\'>\\xec\\x9d\\xb4\\xeb\\xaf\\xb8\\xec\\xa7\\x80 \\xec\\xa4\\x80\\xeb\\xb9\\x84\\xec\\xa4\\x91</span></span>\\'\">\\n\\t\\t\\t\\t\\t\\t<span class=\"thumb_bd\"></span>\\n                        \\n\\t\\t\\t\\t\\t</a>\\n\\t\\t\\t\\t\\t<a href=\"https://post.naver.com/viewer/postView.naver?volumeNo&#x3D;33040565\" class=\"theme_info\" data-clk=\"tcc_gam.list6cont2\" target=\"_blank\">\\n\\t\\t\\t\\t\\t\\t<em class=\"theme_category\"> \\xea\\xb2\\x8c\\xec\\x9e\\x84</em>\\n\\t\\t\\t\\t\\t\\t<strong class=\"title elss\">\\xec\\x8b\\xa0\\xea\\xb7\\x9c IP \\xea\\xb0\\x80\\xeb\\x93\\x9d! 2022\\xeb\\x85\\x84 \\xed\\x95\\x9c\\xea\\xb5\\xad \\xea\\xb2\\x8c\\xec\\x9e\\x84\\xec\\x82\\xac \\xea\\xb8\\xb0\\xeb\\x8c\\x80\\xec\\x9e\\x91</strong>\\n                        <p class=\"desc\">\\xec\\x8b\\xa0\\xec\\xb6\\x95\\xeb\\x85\\x84\\xec\\x9d\\xb4 \\xec\\xa7\\x80\\xeb\\x82\\x98\\xea\\xb3\\xa0 \\xec\\x9e\\x84\\xec\\x9d\\xb8\\xeb\\x85\\x84\\xec\\x9d\\xb4 \\xec\\x8b\\x9c\\xec\\x9e\\x91\\xeb\\x90\\x90\\xec\\x8a\\xb5\\xeb\\x8b\\x88\\xeb\\x8b\\xa4. 2021\\xeb\\x85\\x84 \\xed\\x95\\x9c \\xed\\x95\\xb4 \\xeb\\x8f\\x99\\xec\\x95\\x88 \\xeb\\x8b\\xa4\\xec\\x96\\x91\\xed\\x95\\x9c \\xea\\xb2\\x8c\\xec\\x9e\\x84\\xec\\x9d\\xb4 \\xec\\xb6\\x9c\\xec\\x8b\\x9c\\xeb\\x90\\x90\\xea\\xb3\\xa0, \\xeb\\x8b\\xa4\\xea\\xb0\\x80\\xec\\x98\\xac 2022\\xeb\\x85\\x84 \\xed\\x95\\x9c \\xed\\x95\\xb4\\xec\\x97\\x90\\xeb\\x8f\\x84 \\xeb\\x98\\x90 \\xeb\\x8b\\xa4\\xec\\x96\\x91\\xed\\x95\\x9c \\xea\\xb2\\x8c\\xec\\x9e\\x84\\xec\\x9d\\xb4 \\xec\\xb6\\x9c\\xec\\x8b\\x9c\\xeb\\x90\\xa0 \\xec\\x98\\x88\\xec\\xa0\\x95\\xec\\x9e\\x85\\xeb\\x8b\\x88\\xeb\\x8b\\xa4. \\xec\\x82\\xac\\xec\\x8b\\xa4 \\xea\\xb2\\x8c\\xec\\x9e\\x84\\xea\\xb3\\x84 \\xed\\x9d\\x90\\xeb\\xa6\\x84\\xec\\x9d\\x84 \\xed\\x8c\\x8c\\xec\\x95\\x85\\xed\\x95\\x98\\xea\\xb3\\xa0 \\xec\\x9e\\x88\\xeb\\x8a\\x94 \\xea\\xb2\\x8c\\xec\\x9d\\xb4\\xeb\\xa8\\xb8\\xeb\\x93\\xa4\\xec\\x9d\\xb4\\xeb\\x9d\\xbc\\xeb\\xa9\\xb4 \\xec\\x96\\xb4\\xeb\\xa0\\xb5\\xec\\xa7\\x80 \\xec\\x95\\x8a\\xea\\xb2\\x8c 2022\\xeb\\x85\\x84\\xec\\x97\\x90 \\xec\\xb6\\x9c\\xec\\x8b\\x9c\\xeb\\x90\\xa0 \\xea\\xb2\\x8c\\xec\\x9e\\x84\\xeb\\x93\\xa4\\xec\\x9d\\x84 \\xeb\\xaf\\xb8\\xeb\\xa3\\xa8\\xec\\x96\\xb4 \\xec\\xa7\\x90\\xec\\x9e\\x91\\xed\\x95\\xa0 \\xec\\x88\\x98 \\xec\\x9e\\x88\\xec\\x8a\\xb5\\xeb\\x8b\\x88\\xeb\\x8b\\xa4. \\xec\\x9d\\xb4\\xeb\\xaf\\xb8 \\xec\\xa7\\x80\\xec\\x8a\\xa4\\xed\\x83\\x80\\xeb\\xa5\\xbc \\xeb\\xb9\\x84\\xeb\\xa1\\xaf\\xed\\x95\\x9c \\xeb\\x8b\\xa4\\xec\\x96\\x91\\xed\\x95\\x9c \\xea\\xb2\\x8c\\xec\\x9e\\x84 \\xed\\x96\\x89\\xec\\x82\\xac\\xec\\x99\\x80 \\xea\\xb2\\x8c\\xec\\x9e\\x84\\xec\\x82\\xac \\xec\\x9e\\x90\\xec\\xb2\\xb4 \\xec\\x98\\xa8\\xeb\\x9d\\xbc\\xec\\x9d\\xb8 \\xec\\x87\\xbc\\xec\\xbc\\x80\\xec\\x9d\\xb4\\xec\\x8a\\xa4 \\xeb\\x93\\xb1\\xec\\x9c\\xbc\\xeb\\xa1\\x9c \\xec\\x8b\\xa0\\xec\\x9e\\x91\\xec\\x97\\x90 \\xeb\\x8c\\x80</p>\\n\\t\\t\\t\\t\\t\\t<div class=\"source_box\">\\n\\t\\t\\t\\t\\t\\t\\t<span class=\"date\">1\\xec\\xa3\\xbc\\xec\\x9d\\xbc \\xec\\xa0\\x84</span>\\n\\t\\t\\t\\t\\t\\t\\t<span class=\"source\">\\n                                \\n                                <span class=\"source_inner\">\\xea\\xb2\\x8c\\xec\\x9e\\x84\\xec\\xa1\\xb0\\xec\\x84\\xa0</span>\\n                            </span>\\n\\t\\t\\t\\t\\t\\t</div>\\n\\t\\t\\t\\t\\t</a>\\n\\t\\t\\t\\t</li>\\n\\t\\t\\t\\n\\t\\t\\t\\t<li class=\"theme_item\" data-gdid=\"CAS_a7ca5bb7-69fa-11ec-b7dd-11526782994f\" data-da-position=\"true\">\\n\\t\\t\\t\\t\\t<a href=\"https://post.naver.com/viewer/postView.naver?volumeNo&#x3D;32998234&amp;memberNo&#x3D;2038467\" class=\"theme_thumb\" data-clk=\"tcc_gam.list6cont3\" target=\"_blank\">\\n\\t\\t\\t\\t\\t\\t<img  data-src=\"https://s.pstatic.net/dthumb.phinf/?src&#x3D;%22https%3A%2F%2Fs.pstatic.net%2Fstatic%2Fwww%2Fmobile%2Fedit%2F20211231_1095%2Fupload_1640930194661XX064.jpg%22&amp;type&#x3D;nf340_228\" alt=\"\\xec\\xa0\\x84\\xed\\x95\\x98\\xec\\xa7\\x80 \\xeb\\xaa\\xbb\\xed\\x95\\x9c \\xec\\x88\\x98\\xec\\xb7\\xa8\\xec\\x9d\\xb8\\xeb\\xb6\\x88\\xeb\\xaa\\x85\\xec\\x9d\\x98 \\xed\\x8e\\xb8\\xec\\xa7\\x80.. \\xea\\xb0\\x80\\xeb\\x94\\x94\\xec\\x96\\xb8 \\xed\\x85\\x8c\\xec\\x9d\\xbc\\xec\\xa6\\x88 &#x27;\\xeb\\xaf\\xb8\\xeb\\x9e\\x98\\xea\\xb3\\xb5\\xec\\xa3\\xbc&#x27; \\xec\\xbd\\x94\\xec\\x8a\\xa4\\xed\\x94\\x84\\xeb\\xa0\\x88\" width=\"170\" height=\"114\" onerror=\"this.outerHTML=\\'<span class=\\\\\\'pm_noimg\\\\\\'><span class=\\\\\\'noimg_text\\\\\\'>\\xec\\x9d\\xb4\\xeb\\xaf\\xb8\\xec\\xa7\\x80 \\xec\\xa4\\x80\\xeb\\xb9\\x84\\xec\\xa4\\x91</span></span>\\'\">\\n\\t\\t\\t\\t\\t\\t<span class=\"thumb_bd\"></span>\\n                        \\n\\t\\t\\t\\t\\t</a>\\n\\t\\t\\t\\t\\t<a href=\"https://post.naver.com/viewer/postView.naver?volumeNo&#x3D;32998234&amp;memberNo&#x3D;2038467\" class=\"theme_info\" data-clk=\"tcc_gam.list6cont3\" target=\"_blank\">\\n\\t\\t\\t\\t\\t\\t<em class=\"theme_category\"> \\xea\\xb2\\x8c\\xec\\x9e\\x84</em>\\n\\t\\t\\t\\t\\t\\t<strong class=\"title elss\">\\xec\\xa0\\x84\\xed\\x95\\x98\\xec\\xa7\\x80 \\xeb\\xaa\\xbb\\xed\\x95\\x9c \\xec\\x88\\x98\\xec\\xb7\\xa8\\xec\\x9d\\xb8\\xeb\\xb6\\x88\\xeb\\xaa\\x85\\xec\\x9d\\x98 \\xed\\x8e\\xb8\\xec\\xa7\\x80.. \\xea\\xb0\\x80\\xeb\\x94\\x94\\xec\\x96\\xb8 \\xed\\x85\\x8c\\xec\\x9d\\xbc\\xec\\xa6\\x88 \\'\\xeb\\xaf\\xb8\\xeb\\x9e\\x98\\xea\\xb3\\xb5\\xec\\xa3\\xbc\\' \\xec\\xbd\\x94\\xec\\x8a\\xa4\\xed\\x94\\x84\\xeb\\xa0\\x88</strong>\\n                        <p class=\"desc\">\\xec\\x95\\x88\\xeb\\x85\\x95\\xed\\x95\\x98\\xec\\x84\\xb8\\xec\\x9a\\x94 Team CSL \\xec\\x9e\\x85\\xeb\\x8b\\x88\\xeb\\x8b\\xa4 \\xec\\x96\\xb4\\xeb\\x8a\\x90\\xeb\\x8d\\xa7 \\xec\\xa0\\x95\\xeb\\xa7\\x90\\xeb\\xa1\\x9c \\xeb\\x8b\\xa4\\xec\\x82\\xac\\xeb\\x8b\\xa4\\xeb\\x82\\x9c\\xed\\x96\\x88\\xeb\\x8d\\x98 2021\\xeb\\x85\\x84\\xec\\x9d\\xb4 \\xeb\\xa7\\x88\\xec\\xa7\\x80\\xeb\\xa7\\x89\\xec\\x9d\\x84 \\xed\\x96\\xa5\\xed\\x95\\xb4 \\xea\\xb0\\x80\\xea\\xb3\\xa0 \\xec\\x9e\\x88\\xec\\x8a\\xb5\\xeb\\x8b\\x88\\xeb\\x8b\\xa4.\\xec\\x98\\xa4\\xeb\\x8a\\x98 \\xec\\x86\\x8c\\xea\\xb0\\x9c \\xed\\x95\\xb4 \\xeb\\x93\\x9c\\xeb\\xa6\\xb4 \\xea\\xb2\\x8c\\xec\\x9e\\x84\\xec\\x9d\\x80 \\xeb\\x9d\\xb5\\xec\\x9e\\x91 \\xec\\x96\\xb4\\xeb\\x93\\x9c\\xeb\\xb2\\xa4\\xec\\xb3\\x90 \\xea\\xb2\\x8c\\xec\\x9e\\x84 \\xea\\xb0\\x80\\xeb\\x94\\x94\\xec\\x96\\xb8 \\xed\\x85\\x8c\\xec\\x9d\\xbc\\xec\\xa6\\x88 \\xec\\x9e\\x85\\xeb\\x8b\\x88\\xeb\\x8b\\xa4\\xeb\\xa7\\x9d\\xea\\xb5\\xad\\xec\\x9d\\x98 \\xea\\xb3\\xb5\\xec\\xa3\\xbc\\xec\\x99\\x80 \\xec\\x8b\\xa0\\xec\\xb0\\xb8 \\xea\\xb8\\xb0\\xec\\x82\\xac\\xea\\xb0\\x80 \\xec\\xa0\\x84\\xec\\x84\\xa4\\xec\\x9d\\x98 \\xea\\xb2\\x80\\xec\\x9d\\x84 \\xec\\xb0\\xbe\\xec\\x95\\x84 \\xeb\\x96\\xa0\\xeb\\x82\\x98\\xeb\\x8a\\x94 \\xeb\\xaa\\xa8\\xed\\x97\\x98 \\xec\\x9a\\xa9\\xec\\x82\\xac \\xec\\xbc\\x80\\xec\\x9d\\xb4\\xeb\\x93\\xa0\\xec\\x9d\\xb4 \\xec\\x84\\xb8\\xec\\x83\\x81\\xec\\x9d\\x84 \\xea\\xb5\\xac\\xed\\x95\\x98\\xea\\xb3\\xa0, 500\\xeb\\x85\\x84\\xec\\x9d\\xb4 \\xed\\x9d\\x98\\xeb\\xa0\\x80\\xeb\\x8b\\xa4. \\xeb\\xa7\\x88\\xec\\x99\\x95\\xec\\x9d\\x98 \\xec\\x86\\x90\\xec\\x97\\x90 \\xeb\\x96\\xa8\\xec\\x96\\xb4\\xec\\xa1\\x8c\\xeb\\x8d\\x98 \\xec\\xba\\x94\\xed\\x84\\xb0\\xeb\\xb2\\xa0\\xeb\\xa6\\xac \\xec\\x99\\x95\\xea\\xb5\\xad\\xeb\\x8f\\x84 \\xec\\xa0\\x90\\xec\\xa0\\x90 \\xeb\\xb3\\xb8\\xeb\\x9e\\x98\\xec\\x9d\\x98 \\xeb\\xaa\\xa8\\xec\\x8a\\xb5\\xec\\x9d\\x84 \\xeb\\x90\\x98\\xec\\xb0\\xbe\\xec\\x95\\x84 \\xea\\xb0\\x94\\xeb\\x8b\\xa4. \\xed\\x95\\x98\\xec\\xa7\\x80\\xeb\\xa7\\x8c \\xed\\x8f\\x89\\xed\\x99\\x94</p>\\n\\t\\t\\t\\t\\t\\t<div class=\"source_box\">\\n\\t\\t\\t\\t\\t\\t\\t<span class=\"date\">1\\xec\\xa3\\xbc\\xec\\x9d\\xbc \\xec\\xa0\\x84</span>\\n\\t\\t\\t\\t\\t\\t\\t<span class=\"source\">\\n                                \\n                                <span class=\"source_inner\">TeamCSL</span>\\n                            </span>\\n\\t\\t\\t\\t\\t\\t</div>\\n\\t\\t\\t\\t\\t</a>\\n\\t\\t\\t\\t</li>\\n\\t\\t\\t\\n\\t\\t\\t\\t<li class=\"theme_item\" data-gdid=\"CAS_a7ca82cb-69fa-11ec-b7dd-b9124a748a34\" data-da-position=\"true\">\\n\\t\\t\\t\\t\\t<a href=\"https://post.naver.com/viewer/postView.naver?volumeNo&#x3D;33041788&amp;memberNo&#x3D;30365873\" class=\"theme_thumb\" data-clk=\"tcc_gam.list6cont4\" target=\"_blank\">\\n\\t\\t\\t\\t\\t\\t<img  data-src=\"https://s.pstatic.net/dthumb.phinf/?src&#x3D;%22https%3A%2F%2Fs.pstatic.net%2Fstatic%2Fwww%2Fmobile%2Fedit%2F20211231_1095%2Fupload_1640930311854i7EyK.jpg%22&amp;type&#x3D;nf340_228\" alt=\"\\xeb\\xac\\xb4\\xec\\x97\\x87\\xec\\x9d\\xb4\\xeb\\x93\\xa0 \\xea\\xb3\\xa8\\xeb\\x9d\\xbc\\xeb\\xb3\\xb4\\xec\\x84\\xb8\\xec\\x9a\\x94\" width=\"170\" height=\"114\" onerror=\"this.outerHTML=\\'<span class=\\\\\\'pm_noimg\\\\\\'><span class=\\\\\\'noimg_text\\\\\\'>\\xec\\x9d\\xb4\\xeb\\xaf\\xb8\\xec\\xa7\\x80 \\xec\\xa4\\x80\\xeb\\xb9\\x84\\xec\\xa4\\x91</span></span>\\'\">\\n\\t\\t\\t\\t\\t\\t<span class=\"thumb_bd\"></span>\\n                        \\n\\t\\t\\t\\t\\t</a>\\n\\t\\t\\t\\t\\t<a href=\"https://post.naver.com/viewer/postView.naver?volumeNo&#x3D;33041788&amp;memberNo&#x3D;30365873\" class=\"theme_info\" data-clk=\"tcc_gam.list6cont4\" target=\"_blank\">\\n\\t\\t\\t\\t\\t\\t<em class=\"theme_category\"> \\xea\\xb2\\x8c\\xec\\x9e\\x84</em>\\n\\t\\t\\t\\t\\t\\t<strong class=\"title elss\">\\xeb\\xac\\xb4\\xec\\x97\\x87\\xec\\x9d\\xb4\\xeb\\x93\\xa0 \\xea\\xb3\\xa8\\xeb\\x9d\\xbc\\xeb\\xb3\\xb4\\xec\\x84\\xb8\\xec\\x9a\\x94</strong>\\n                        <p class=\"desc\">\\xec\\x98\\x88\\xec\\xa0\\x84 \\xed\\x8f\\xac\\xec\\x8a\\xa4\\xed\\x8a\\xb8\\xec\\x97\\x90\\xec\\x84\\x9c \\xec\\x9d\\xb4\\xec\\x95\\xbc\\xea\\xb8\\xb0\\xed\\x96\\x88\\xeb\\x93\\xaf\\xec\\x9d\\xb4, \\xeb\\x8c\\x80\\xeb\\xb6\\x80\\xeb\\xb6\\x84\\xec\\x9d\\x98 \\xea\\xb2\\x8c\\xec\\x9e\\x84\\xec\\x97\\x90\\xec\\x84\\x9c \\xec\\x84\\xa0\\xed\\x83\\x9d\\xec\\xa7\\x80\\xeb\\x9e\\x80 \\xec\\x88\\x98\\xec\\xa7\\x91 \\xec\\x9a\\x94\\xec\\x86\\x8c\\xeb\\x82\\x98 \\xec\\xa0\\x95\\xeb\\x8b\\xb5\\xec\\xb0\\x8d\\xea\\xb8\\xb0\\xec\\x97\\x90 \\xea\\xb0\\x80\\xea\\xb9\\x9d\\xec\\x8a\\xb5\\xeb\\x8b\\x88\\xeb\\x8b\\xa4. \\xea\\xb7\\xb8\\xeb\\x9f\\xb0\\xeb\\x8d\\xb0 \\xed\\x8c\\xa8\\xec\\x8a\\xa4\\xed\\x8c\\x8c\\xec\\x9d\\xb8\\xeb\\x8d\\x94\\xeb\\x8a\\x94 \\xec\\x95\\x84\\xec\\xa3\\xbc \\xec\\x98\\xa4\\xeb\\x9e\\x9c\\xeb\\xa7\\x8c\\xec\\x97\\x90 \\xec\\x84\\xa0\\xed\\x83\\x9d\\xea\\xb3\\xbc \\xea\\xb2\\xb0\\xea\\xb3\\xbc\\xec\\x97\\x90 \\xea\\xb9\\x8a\\xea\\xb2\\x8c \\xeb\\xaa\\xb0\\xec\\x9e\\x85\\xed\\x95\\xa0 \\xec\\x88\\x98 \\xec\\x9e\\x88\\xec\\x97\\x88\\xeb\\x8d\\x98 \\xea\\xb2\\x8c\\xec\\x9e\\x84\\xec\\x9d\\xb4\\xec\\x97\\x88\\xec\\x96\\xb4\\xec\\x9a\\x94. \\xeb\\xac\\xbc\\xeb\\xa1\\xa0 \\xea\\xb7\\xb8 \\xea\\xb3\\xbc\\xec\\xa0\\x95\\xec\\x9d\\x80 \\xec\\xb9\\x98\\xeb\\xaa\\x85\\xec\\xa0\\x81\\xec\\x9d\\xb8 \\xeb\\xb2\\x84\\xea\\xb7\\xb8, \\xea\\xb3\\xb5\\xeb\\x9e\\xb5\\xeb\\xb3\\xb4\\xea\\xb3\\xa0\\xec\\x8b\\xb6\\xea\\xb2\\x8c \\xeb\\xa7\\x8c\\xeb\\x93\\x9c\\xeb\\x8a\\x94 \\xeb\\x8d\\x94\\xeb\\x9f\\xac\\xec\\x9a\\xb4 \\xed\\x8d\\xbc\\xec\\xa6\\x90, \\xeb\\xaa\\x85\\xeb\\xb0\\xb1\\xed\\x95\\x98\\xea\\xb2\\x8c \\xeb\\x8d\\x9c \\xec\\xa0\\x95\\xeb\\x8f\\x88\\xeb\\x90\\x9c \\xeb\\xb9\\x8c\\xeb\\x93\\x9c\\xec\\x8b\\x9c\\xec\\x8a\\xa4\\xed\\x85\\x9c, \\xec\\xa3\\xbc\\xec\\x82\\xac\\xec\\x9c\\x84 \\xeb\\xa3\\xb0 \\xec\\x9e\\x90\\xec\\xb2\\xb4\\xec\\x9d\\x98 \\xec\\xa7\\x84\\xec\\x9e\\x85\\xec\\x9e\\xa5\\xeb\\xb2\\xbd, \\xea\\xb8\\x80\\xeb\\xa1\\x9c \\xeb\\x95\\x8c\\xec\\x9a\\xb0\\xeb\\x8a\\x94 \\xec\\x97\\xb0\\xec\\xb6\\x9c, \\xec\\x9b\\x90\\xec\\x9e\\x91\\xec\\x9c\\xbc\\xeb\\xa1\\x9c\\xeb\\xb6\\x80\\xed\\x84\\xb0 \\xec\\x8f\\x9f\\xec\\x95\\x84\\xec\\xa7\\x80\\xeb\\x8a\\x94 \\xec\\x82\\xb0\\xeb\\x8d\\x94\\xeb\\xaf\\xb8\\xea\\xb0\\x99\\xec\\x9d\\x80 </p>\\n\\t\\t\\t\\t\\t\\t<div class=\"source_box\">\\n\\t\\t\\t\\t\\t\\t\\t<span class=\"date\">1\\xec\\xa3\\xbc\\xec\\x9d\\xbc \\xec\\xa0\\x84</span>\\n\\t\\t\\t\\t\\t\\t\\t<span class=\"source\">\\n                                \\n                                <span class=\"source_inner\">\\xed\\x95\\x98\\xec\\x96\\x80\\xec\\xa5\\x90</span>\\n                            </span>\\n\\t\\t\\t\\t\\t\\t</div>\\n\\t\\t\\t\\t\\t</a>\\n\\t\\t\\t\\t</li>\\n\\t\\t\\t\\n\\t\\t\\t\\t<li class=\"theme_item\" data-gdid=\"CAS_a7ca82ca-69fa-11ec-b7dd-87d1376e36bb\" data-da-position=\"true\">\\n\\t\\t\\t\\t\\t<a href=\"https://post.naver.com/viewer/postView.naver?volumeNo&#x3D;33036096&amp;memberNo&#x3D;34059480\" class=\"theme_thumb\" data-clk=\"tcc_gam.list6cont5\" target=\"_blank\">\\n\\t\\t\\t\\t\\t\\t<img  data-src=\"https://s.pstatic.net/dthumb.phinf/?src&#x3D;%22https%3A%2F%2Fs.pstatic.net%2Fstatic%2Fwww%2Fmobile%2Fedit%2F20211231_1095%2Fupload_1640930380830NWXvX.jpg%22&amp;type&#x3D;nf340_228\" alt=\"\\xe2\\x80\\x98\\xec\\x8d\\xac\\xeb\\x8d\\x94 \\xed\\x8b\\xb0\\xec\\x96\\xb4\\xec\\x9b\\x90\\xe2\\x80\\x99 \\xed\\x83\\x91\\xeb\\x8b\\xa4\\xec\\x9a\\xb4 \\xec\\x8b\\x9c\\xec\\xa0\\x90\\xec\\x97\\x90 \\xeb\\x8b\\xb4\\xea\\xb8\\xb4 \\xec\\xa0\\x84\\xec\\x88\\xa0\\xec\\x9e\\x91\\xec\\xa0\\x84\\xec\\x9d\\x98 \\xea\\xb8\\xb4\\xec\\x9e\\xa5\\xea\\xb0\\x90\" width=\"170\" height=\"114\" onerror=\"this.outerHTML=\\'<span class=\\\\\\'pm_noimg\\\\\\'><span class=\\\\\\'noimg_text\\\\\\'>\\xec\\x9d\\xb4\\xeb\\xaf\\xb8\\xec\\xa7\\x80 \\xec\\xa4\\x80\\xeb\\xb9\\x84\\xec\\xa4\\x91</span></span>\\'\">\\n\\t\\t\\t\\t\\t\\t<span class=\"thumb_bd\"></span>\\n                        \\n\\t\\t\\t\\t\\t</a>\\n\\t\\t\\t\\t\\t<a href=\"https://post.naver.com/viewer/postView.naver?volumeNo&#x3D;33036096&amp;memberNo&#x3D;34059480\" class=\"theme_info\" data-clk=\"tcc_gam.list6cont5\" target=\"_blank\">\\n\\t\\t\\t\\t\\t\\t<em class=\"theme_category\"> \\xea\\xb2\\x8c\\xec\\x9e\\x84</em>\\n\\t\\t\\t\\t\\t\\t<strong class=\"title elss\">\\xe2\\x80\\x98\\xec\\x8d\\xac\\xeb\\x8d\\x94 \\xed\\x8b\\xb0\\xec\\x96\\xb4\\xec\\x9b\\x90\\xe2\\x80\\x99 \\xed\\x83\\x91\\xeb\\x8b\\xa4\\xec\\x9a\\xb4 \\xec\\x8b\\x9c\\xec\\xa0\\x90\\xec\\x97\\x90 \\xeb\\x8b\\xb4\\xea\\xb8\\xb4 \\xec\\xa0\\x84\\xec\\x88\\xa0\\xec\\x9e\\x91\\xec\\xa0\\x84\\xec\\x9d\\x98 \\xea\\xb8\\xb4\\xec\\x9e\\xa5\\xea\\xb0\\x90</strong>\\n                        <p class=\"desc\">\\xec\\x9c\\x84\\xed\\x97\\x98\\xed\\x95\\x9c \\xec\\x9e\\x91\\xec\\xa0\\x84\\xec\\x9d\\x84 \\xec\\x88\\x98\\xed\\x96\\x89\\xed\\x95\\x98\\xeb\\x8a\\x94 \\xed\\x8a\\xb9\\xec\\x88\\x98\\xeb\\xb6\\x80\\xeb\\x8c\\x80\\xeb\\x8a\\x94 \\xea\\xb2\\x8c\\xec\\x9e\\x84\\xec\\x9d\\x98 \\xec\\xa2\\x8b\\xec\\x9d\\x80 \\xec\\x86\\x8c\\xec\\x9e\\xac\\xeb\\x8b\\xa4. \\xec\\x86\\x8c\\xec\\x88\\x98\\xec\\x9d\\x98 \\xeb\\xb3\\x91\\xeb\\xa0\\xa5\\xec\\x9c\\xbc\\xeb\\xa1\\x9c \\xec\\x96\\xb4\\xeb\\xa0\\xa4\\xec\\x9a\\xb4 \\xec\\x9e\\x84\\xeb\\xac\\xb4\\xeb\\xa5\\xbc \\xec\\x88\\x98\\xed\\x96\\x89\\xed\\x95\\x98\\xeb\\x8a\\x94 \\xea\\xb3\\xbc\\xec\\xa0\\x95\\xec\\x9d\\x80 \\xea\\xb8\\xb4\\xec\\x9e\\xa5\\xea\\xb0\\x90\\xea\\xb3\\xbc \\xec\\x9e\\xac\\xeb\\xaf\\xb8\\xeb\\xa5\\xbc \\xed\\x91\\x9c\\xed\\x98\\x84\\xed\\x95\\x98\\xea\\xb8\\xb0 \\xec\\x95\\x8c\\xeb\\xa7\\x9e\\xeb\\x8b\\xa4. \\xec\\x9d\\xb4\\xeb\\xa5\\xbc \\xec\\xa6\\x9d\\xeb\\xaa\\x85\\xed\\x95\\x98\\xeb\\x93\\xaf \\xea\\xb2\\x8c\\xec\\x9e\\x84\\xec\\x9d\\x98 \\xec\\x8b\\x9c\\xec\\x9e\\x91\\xeb\\xb6\\x80\\xed\\x84\\xb0 \\xeb\\x8b\\xa4\\xec\\x96\\x91\\xed\\x95\\x9c \\xeb\\xb0\\xa9\\xec\\x8b\\x9d\\xec\\x9c\\xbc\\xeb\\xa1\\x9c \\xed\\x95\\xb4\\xec\\x84\\x9d\\xeb\\x90\\x9c \\xea\\xb2\\x8c\\xec\\x9e\\x84\\xeb\\x93\\xa4\\xec\\x9d\\xb4 \\xec\\xb6\\x9c\\xec\\x8b\\x9c\\xeb\\x90\\x90\\xea\\xb3\\xa0, \\xea\\xb0\\x80\\xeb\\x81\\x94 \\xed\\x98\\x84\\xec\\x8b\\xa4\\xec\\x9d\\x98 \\xec\\x9e\\x91\\xec\\xa0\\x84\\xec\\x9d\\x84 \\xec\\x9e\\xac\\xed\\x98\\x84\\xed\\x95\\x98\\xeb\\x8a\\x94 \\xea\\xb3\\xa0\\xeb\\x82\\x9c\\xec\\x9d\\xb4\\xeb\\x8f\\x84 \\xea\\xb2\\x8c\\xec\\x9e\\x84\\xec\\x9d\\xb4 \\xeb\\x93\\xb1\\xec\\x9e\\xa5\\xed\\x95\\x9c\\xeb\\x8b\\xa4. \\xec\\xa7\\x80\\xeb\\x82\\x9c 7\\xec\\x9d\\xbc \\xed\\x81\\xac\\xeb\\x9e\\x98\\xed\\x94\\x84\\xed\\x86\\xa4\\xec\\x9d\\xb4 \\xea\\xb8\\x80\\xeb\\xa1\\x9c\\xeb\\xb2\\x8c \\xec\\xb6\\x9c\\xec\\x8b\\x9c\\xed\\x95\\x9c \\xe2\\x80\\x98\\xec\\x8d\\xac\\xeb\\x8d\\x94 \\xed\\x8b\\xb0\\xec\\x96\\xb4\\xec\\x9b\\x90(Thunder Tier O</p>\\n\\t\\t\\t\\t\\t\\t<div class=\"source_box\">\\n\\t\\t\\t\\t\\t\\t\\t<span class=\"date\">1\\xec\\xa3\\xbc\\xec\\x9d\\xbc \\xec\\xa0\\x84</span>\\n\\t\\t\\t\\t\\t\\t\\t<span class=\"source\">\\n                                \\n                                <span class=\"source_inner\">GAMEVU</span>\\n                            </span>\\n\\t\\t\\t\\t\\t\\t</div>\\n\\t\\t\\t\\t\\t</a>\\n\\t\\t\\t\\t</li>\\n\\t\\t\\t\\n\\t\\t</ul>\\n\\t</div>\\n</div>\\n<div class=\"group_theme\" data-block-id=\"\" data-block-code=\"PC-THEME-GAMEAPP-MOBILE-RANKING-DEFAULT-6\" data-block-type=\"MATERIALS\" data-template-code=\"MOBILE-RANKING-LIST\"\\n\\n\\t data-da=\"container\"\\n\\t data-index=\"\"\\n     data-page=\"4\"\\n\\t style=\"display:none\">\\n\\n\\t<div class=\"list_theme_wrap\">\\n\\t\\t<ul class=\"list_theme\">\\n\\t\\t\\t\\n\\t\\t\\t\\t<li class=\"theme_item\" data-gdid=\"CAS_a7ca82cd-69fa-11ec-b7dd-23db98dd5f1c\" data-da-position=\"true\">\\n\\t\\t\\t\\t\\t<a href=\"https://post.naver.com/viewer/postView.naver?volumeNo&#x3D;33041013&amp;memberNo&#x3D;7447804\" class=\"theme_thumb\" data-clk=\"tcc_gam.list7cont1\" target=\"_blank\">\\n\\t\\t\\t\\t\\t\\t<img  data-src=\"https://s.pstatic.net/dthumb.phinf/?src&#x3D;%22https%3A%2F%2Fs.pstatic.net%2Fstatic%2Fwww%2Fmobile%2Fedit%2F20211231_1095%2Fupload_1640930360925YwLF0.png%22&amp;type&#x3D;nf340_228\" alt=\"\\xec\\xa6\\x90\\xea\\xb8\\xb0\\xeb\\x8a\\x94 \\xec\\x9e\\x90\\xea\\xb0\\x80 \\xec\\x8a\\xb9\\xeb\\xa6\\xac\\xec\\x9e\\x90\\xeb\\x8b\\xa4 \" width=\"170\" height=\"114\" onerror=\"this.outerHTML=\\'<span class=\\\\\\'pm_noimg\\\\\\'><span class=\\\\\\'noimg_text\\\\\\'>\\xec\\x9d\\xb4\\xeb\\xaf\\xb8\\xec\\xa7\\x80 \\xec\\xa4\\x80\\xeb\\xb9\\x84\\xec\\xa4\\x91</span></span>\\'\">\\n\\t\\t\\t\\t\\t\\t<span class=\"thumb_bd\"></span>\\n                        \\n\\t\\t\\t\\t\\t</a>\\n\\t\\t\\t\\t\\t<a href=\"https://post.naver.com/viewer/postView.naver?volumeNo&#x3D;33041013&amp;memberNo&#x3D;7447804\" class=\"theme_info\" data-clk=\"tcc_gam.list7cont1\" target=\"_blank\">\\n\\t\\t\\t\\t\\t\\t<em class=\"theme_category\"> \\xea\\xb2\\x8c\\xec\\x9e\\x84</em>\\n\\t\\t\\t\\t\\t\\t<strong class=\"title elss\">\\xec\\xa6\\x90\\xea\\xb8\\xb0\\xeb\\x8a\\x94 \\xec\\x9e\\x90\\xea\\xb0\\x80 \\xec\\x8a\\xb9\\xeb\\xa6\\xac\\xec\\x9e\\x90\\xeb\\x8b\\xa4 </strong>\\n                        <p class=\"desc\">\\xec\\xa7\\x80\\xeb\\x82\\x9c \\xec\\x9d\\xbc\\xec\\x9a\\x94\\xec\\x9d\\xbc\\xec\\x97\\x90 \\xec\\xa7\\x84\\xed\\x96\\x89\\xed\\x95\\x9c 2021\\xec\\x97\\xb0\\xeb\\xa7\\x90 \\xed\\x8c\\x8c\\xed\\x8a\\xb8\\xeb\\x84\\x88 \\xeb\\x8c\\x80\\xec\\xa0\\x84 \\xec\\x97\\x90\\xed\\x94\\xbc\\xec\\x86\\x8c\\xeb\\x93\\x9c\\xec\\x9e\\x85\\xeb\\x8b\\x88\\xeb\\x8b\\xa4\\xed\\x95\\x9c \\xeb\\x9d\\xbc\\xec\\x9a\\xb4\\xeb\\x93\\x9c\\xeb\\x8f\\x84 \\xec\\x9d\\xb4\\xea\\xb8\\xb0\\xec\\xa7\\x80 \\xeb\\xaa\\xbb\\xed\\x96\\x88\\xec\\xa7\\x80\\xeb\\xa7\\x8c \\xea\\xb7\\xb8\\xeb\\x9e\\x98\\xeb\\x8f\\x84 \\xec\\xa6\\x90\\xea\\xb1\\xb0\\xec\\x9b\\xa0\\xec\\x8a\\xb5\\xeb\\x8b\\x88\\xeb\\x8b\\xa4....\\xe3\\x85\\x8e\\xec\\x98\\xac\\xed\\x95\\xb4\\xeb\\x8f\\x84 \\xeb\\xb2\\x8c\\xec\\x8d\\xa8 \\xeb\\xa7\\x88\\xec\\xa7\\x80\\xeb\\xa7\\x89\\xec\\x9d\\xb4\\xeb\\x84\\xa4\\xec\\x9a\\x94.....2022\\xeb\\x85\\x84 \\xeb\\xaa\\xa8\\xeb\\x91\\x90 \\xed\\x96\\x89\\xeb\\xb3\\xb5\\xed\\x95\\x9c \\xec\\x9d\\xbc\\xeb\\xa7\\x8c \\xea\\xb0\\x80\\xeb\\x93\\x9d\\xed\\x95\\x98\\xea\\xb8\\xb8!!</p>\\n\\t\\t\\t\\t\\t\\t<div class=\"source_box\">\\n\\t\\t\\t\\t\\t\\t\\t<span class=\"date\">1\\xec\\xa3\\xbc\\xec\\x9d\\xbc \\xec\\xa0\\x84</span>\\n\\t\\t\\t\\t\\t\\t\\t<span class=\"source\">\\n                                \\n                                <span class=\"source_inner\">\\xec\\x98\\xa4\\xec\\x95\\xbc OYA</span>\\n                            </span>\\n\\t\\t\\t\\t\\t\\t</div>\\n\\t\\t\\t\\t\\t</a>\\n\\t\\t\\t\\t</li>\\n\\t\\t\\t\\n\\t\\t\\t\\t<li class=\"theme_item\" data-gdid=\"CAS_a524b723-69fa-11ec-b7dd-9bf7ca2dce53\" data-da-position=\"true\">\\n\\t\\t\\t\\t\\t<a href=\"https://post.naver.com/viewer/postView.naver?volumeNo&#x3D;33039770&amp;memberNo&#x3D;17350801\" class=\"theme_thumb\" data-clk=\"tcc_gam.list7cont2\" target=\"_blank\">\\n\\t\\t\\t\\t\\t\\t<img  data-src=\"https://s.pstatic.net/dthumb.phinf/?src&#x3D;%22https%3A%2F%2Fs.pstatic.net%2Fstatic%2Fwww%2Fmobile%2Fedit%2F20211231_1095%2Fupload_1640930017428EI2BF.png%22&amp;type&#x3D;nf340_228\" alt=\"\\xeb\\xaf\\xb8\\xec\\x86\\x8c\\xeb\\x85\\x80 \\xed\\x94\\xbc\\xea\\xb7\\x9c\\xec\\x96\\xb4\\xec\\x97\\x90 \\xec\\xa7\\x84\\xec\\x8b\\xac\\xec\\x9d\\xb8 \\xed\\x95\\x9c\\xea\\xb5\\xad \\xea\\xb2\\x8c\\xec\\x9e\\x84\\xec\\x82\\xac \\xeb\\x93\\xb1\\xec\\x9e\\xa5\" width=\"170\" height=\"114\" onerror=\"this.outerHTML=\\'<span class=\\\\\\'pm_noimg\\\\\\'><span class=\\\\\\'noimg_text\\\\\\'>\\xec\\x9d\\xb4\\xeb\\xaf\\xb8\\xec\\xa7\\x80 \\xec\\xa4\\x80\\xeb\\xb9\\x84\\xec\\xa4\\x91</span></span>\\'\">\\n\\t\\t\\t\\t\\t\\t<span class=\"thumb_bd\"></span>\\n                        \\n\\t\\t\\t\\t\\t</a>\\n\\t\\t\\t\\t\\t<a href=\"https://post.naver.com/viewer/postView.naver?volumeNo&#x3D;33039770&amp;memberNo&#x3D;17350801\" class=\"theme_info\" data-clk=\"tcc_gam.list7cont2\" target=\"_blank\">\\n\\t\\t\\t\\t\\t\\t<em class=\"theme_category\"> \\xea\\xb2\\x8c\\xec\\x9e\\x84</em>\\n\\t\\t\\t\\t\\t\\t<strong class=\"title elss\">\\xeb\\xaf\\xb8\\xec\\x86\\x8c\\xeb\\x85\\x80 \\xed\\x94\\xbc\\xea\\xb7\\x9c\\xec\\x96\\xb4\\xec\\x97\\x90 \\xec\\xa7\\x84\\xec\\x8b\\xac\\xec\\x9d\\xb8 \\xed\\x95\\x9c\\xea\\xb5\\xad \\xea\\xb2\\x8c\\xec\\x9e\\x84\\xec\\x82\\xac \\xeb\\x93\\xb1\\xec\\x9e\\xa5</strong>\\n                        <p class=\"desc\">12\\xec\\x9b\\x94 \\xea\\xb2\\x8c\\xec\\x9e\\x84 \\xec\\xba\\x90\\xeb\\xa6\\xad\\xed\\x84\\xb0 \\xed\\x94\\xbc\\xea\\xb7\\x9c\\xec\\x96\\xb4 \\xec\\xa0\\x95\\xeb\\xa6\\xac2021\\xeb\\x85\\x84\\xec\\x9d\\x84 \\xeb\\xa7\\x88\\xeb\\xac\\xb4\\xeb\\xa6\\xac\\xed\\x95\\x9c \\xea\\xb2\\x8c\\xec\\x9e\\x84 \\xec\\xba\\x90\\xeb\\xa6\\xad\\xed\\x84\\xb0 \\xed\\x94\\xbc\\xea\\xb7\\x9c\\xec\\x96\\xb4 \\xec\\x8b\\xa0\\xec\\x83\\x81\\xeb\\x93\\xa4\\xec\\x9d\\x84 \\xec\\xa0\\x95\\xeb\\xa6\\xac\\xed\\x95\\xb4 \\xeb\\xb3\\xbc\\xea\\xb9\\x8c \\xed\\x95\\xa9\\xeb\\x8b\\x88\\xeb\\x8b\\xa4. 12\\xec\\x9b\\x94\\xec\\x9d\\x98 \\xed\\x8a\\xb9\\xec\\xa7\\x95\\xec\\x9d\\xb4\\xeb\\x9d\\xbc\\xeb\\xa9\\xb4 \\xec\\x88\\x98\\xec\\x83\\x81\\xed\\x95\\xa0 \\xec\\xa0\\x95\\xeb\\x8f\\x84\\xeb\\xa1\\x9c \\xed\\x94\\xbc\\xea\\xb7\\x9c\\xec\\x96\\xb4 \\xec\\xa0\\x9c\\xec\\x9e\\x91\\xec\\x97\\x90 \\xec\\xa7\\x84\\xec\\x8b\\xac\\xec\\x9d\\x84 \\xeb\\xb3\\xb4\\xec\\x9d\\xb4\\xeb\\x8a\\x94 \\xed\\x95\\x9c\\xea\\xb5\\xad \\xea\\xb0\\x9c\\xeb\\xb0\\x9c\\xec\\x82\\xac\\xea\\xb0\\x80 \\xec\\x9e\\x88\\xec\\x97\\x88\\xeb\\x8b\\xa4\\xeb\\x8a\\x94 \\xec\\xa0\\x90\\xec\\x9d\\xb8\\xeb\\x8d\\xb0\\xec\\x9a\\x94. \\xec\\x83\\x98\\xed\\x94\\x8c\\xec\\x83\\xb7\\xeb\\xa7\\x8c \\xeb\\xb3\\xb4\\xeb\\xa9\\xb4 \\xed\\x80\\x84\\xeb\\xa6\\xac\\xed\\x8b\\xb0\\xea\\xb0\\x80 \\xeb\\xa7\\xa4\\xec\\x9a\\xb0 \\xeb\\x9b\\xb0\\xec\\x96\\xb4\\xeb\\x82\\xa9\\xeb\\x8b\\x88\\xeb\\x8b\\xa4. \\xeb\\xb0\\x94\\xeb\\xa1\\x9c \\xea\\xb5\\xac\\xea\\xb2\\xbd\\xed\\x95\\xb4 \\xeb\\xb3\\xb4\\xec\\x84\\xb8\\xec\\x9a\\x94.\\xeb\\xb8\\x94\\xeb\\xa3\\xa8\\xec\\x95\\x84\\xec\\xb9\\xb4\\xec\\x9d\\xb4\\xeb\\xb8\\x8c\\xea\\xb0\\x80\\xea\\xb2\\xa9: 14,700\\xec\\x97\\x94 \\xec\\xb6\\x9c\\xec\\x8b\\x9c\\xec\\x9d\\xbc: 2022\\xeb\\x85\\x84 11\\xec\\x9b\\x94 \\xec\\xa0\\x9c\\xec\\x9e\\x91\\xec\\x82\\xac: AniGift \\xeb\\xb8\\x94\\xeb\\xa3\\xa8\\xec\\x95\\x84\\xec\\xb9\\xb4\\xec\\x9d\\xb4\\xeb\\xb8\\x8c\\xec\\x9d\\x98 \\xeb\\x8c\\x80</p>\\n\\t\\t\\t\\t\\t\\t<div class=\"source_box\">\\n\\t\\t\\t\\t\\t\\t\\t<span class=\"date\">1\\xec\\xa3\\xbc\\xec\\x9d\\xbc \\xec\\xa0\\x84</span>\\n\\t\\t\\t\\t\\t\\t\\t<span class=\"source\">\\n                                \\n                                <span class=\"source_inner\">\\xeb\\x84\\xa4\\xec\\x98\\xa4\\xed\\x95\\x84</span>\\n                            </span>\\n\\t\\t\\t\\t\\t\\t</div>\\n\\t\\t\\t\\t\\t</a>\\n\\t\\t\\t\\t</li>\\n\\t\\t\\t\\n\\t\\t\\t\\t<li class=\"theme_item\" data-gdid=\"CAS_a524b724-69fa-11ec-b7dd-652b13689340\" data-da-position=\"true\">\\n\\t\\t\\t\\t\\t<a href=\"https://post.naver.com/viewer/postView.naver?volumeNo&#x3D;33022702&amp;memberNo&#x3D;41061885\" class=\"theme_thumb\" data-clk=\"tcc_gam.list7cont3\" target=\"_blank\">\\n\\t\\t\\t\\t\\t\\t<img  data-src=\"https://s.pstatic.net/dthumb.phinf/?src&#x3D;%22https%3A%2F%2Fs.pstatic.net%2Fstatic%2Fwww%2Fmobile%2Fedit%2F20211231_1095%2Fupload_1640930075511voiMi.jpg%22&amp;type&#x3D;nf340_228\" alt=\"\\xea\\xb2\\x8c\\xec\\x9e\\x84 &lt;\\xec\\x9b\\x90\\xec\\x8b\\xa0&gt; \\xeb\\xa6\\xac\\xec\\x9b\\x94\\xec\\x9d\\x98 \\xec\\x88\\x98\\xed\\x98\\xb8\\xec\\x9e\\x90 \\xea\\xb0\\x90\\xec\\x9a\\xb0 \\xec\\xbd\\x94\\xec\\x8a\\xa4\\xed\\x94\\x84\\xeb\\xa0\\x88\" width=\"170\" height=\"114\" onerror=\"this.outerHTML=\\'<span class=\\\\\\'pm_noimg\\\\\\'><span class=\\\\\\'noimg_text\\\\\\'>\\xec\\x9d\\xb4\\xeb\\xaf\\xb8\\xec\\xa7\\x80 \\xec\\xa4\\x80\\xeb\\xb9\\x84\\xec\\xa4\\x91</span></span>\\'\">\\n\\t\\t\\t\\t\\t\\t<span class=\"thumb_bd\"></span>\\n                        \\n\\t\\t\\t\\t\\t</a>\\n\\t\\t\\t\\t\\t<a href=\"https://post.naver.com/viewer/postView.naver?volumeNo&#x3D;33022702&amp;memberNo&#x3D;41061885\" class=\"theme_info\" data-clk=\"tcc_gam.list7cont3\" target=\"_blank\">\\n\\t\\t\\t\\t\\t\\t<em class=\"theme_category\"> \\xea\\xb2\\x8c\\xec\\x9e\\x84</em>\\n\\t\\t\\t\\t\\t\\t<strong class=\"title elss\">\\xea\\xb2\\x8c\\xec\\x9e\\x84 <\\xec\\x9b\\x90\\xec\\x8b\\xa0> \\xeb\\xa6\\xac\\xec\\x9b\\x94\\xec\\x9d\\x98 \\xec\\x88\\x98\\xed\\x98\\xb8\\xec\\x9e\\x90 \\xea\\xb0\\x90\\xec\\x9a\\xb0 \\xec\\xbd\\x94\\xec\\x8a\\xa4\\xed\\x94\\x84\\xeb\\xa0\\x88</strong>\\n                        <p class=\"desc\">\\xec\\x95\\x88\\xeb\\x85\\x95\\xed\\x95\\x98\\xec\\x84\\xb8\\xec\\x9a\\x94 \\xec\\x9d\\x80\\xeb\\xac\\x98\\xec\\x97\\x90\\xec\\x9a\\x94~\\xeb\\xb6\\x80\\xec\\xa9\\x8d\\xec\\x9d\\xb4\\xeb\\x82\\x98 \\xec\\xb6\\x94\\xec\\x9b\\x8c\\xec\\xa7\\x84 \\xeb\\x82\\xa0\\xec\\x94\\xa8\\xeb\\x95\\x9c\\xec\\x97\\x90 \\xec\\xb4\\xac\\xec\\x98\\x81\\xea\\xb0\\x80\\xea\\xb8\\xb0\\xeb\\x8f\\x84 \\xeb\\xb6\\x80\\xeb\\x8b\\xb4\\xec\\x8a\\xa4\\xeb\\x9f\\xac\\xec\\x9b\\x8c\\xec\\xa7\\x84\\xea\\xb2\\x83 \\xea\\xb0\\x99\\xec\\x95\\x84\\xec\\x9a\\x94~ \\xed\\x95\\x98\\xec\\xa7\\x80\\xeb\\xa7\\x8c!! \\xea\\xb7\\xb8\\xeb\\x9e\\x98\\xeb\\x8f\\x84 \\xec\\xb4\\xac\\xec\\x98\\x81 \\xea\\xb0\\x80\\xeb\\x8a\\x94 \\xec\\xbd\\x94\\xec\\x8a\\xa4\\xec\\x96\\xb4 \\xec\\x9d\\x80\\xeb\\xac\\x98\\xec\\x9e\\x85\\xeb\\x8b\\x88\\xeb\\x8b\\xa4!\\xea\\xb7\\xb8\\xeb\\x9f\\xac\\xea\\xb3\\xa0\\xeb\\xb3\\xb4\\xeb\\x8b\\x88 \\xea\\xbd\\xa4 \\xec\\x98\\xa4\\xeb\\x9e\\x9c\\xeb\\xa7\\x8c\\xec\\x97\\x90 CosNB\\xec\\x97\\x90 \\xec\\xbd\\x94\\xec\\x8a\\xa4\\xed\\x94\\x84\\xeb\\xa0\\x88\\xeb\\xa5\\xbc \\xec\\x86\\x8c\\xea\\xb0\\x9c\\xed\\x95\\x98\\xeb\\x8a\\x94 \\xea\\xb2\\x83 \\xea\\xb0\\x99\\xeb\\x84\\xa4\\xec\\x9a\\x94^^ \\xec\\x98\\xa4\\xeb\\x8a\\x98 \\xec\\x86\\x8c\\xea\\xb0\\x9c\\xed\\x95\\xb4\\xeb\\x93\\x9c\\xeb\\xa6\\xb4 \\xec\\xa0\\x80\\xec\\x9d\\x98 \\xec\\xbd\\x94\\xec\\x8a\\xa4\\xed\\x94\\x84\\xeb\\xa0\\x88\\xeb\\x8a\\x94 \\xeb\\xb0\\x94\\xeb\\xa1\\x9c \\xea\\xb2\\x8c\\xec\\x9e\\x84&lt;\\xec\\x9b\\x90\\xec\\x8b\\xa0&gt;\\xec\\x9d\\x98 \\xea\\xb0\\x90\\xec\\x9a\\xb0 \\xec\\x9e\\x85\\xeb\\x8b\\x88\\xeb\\x8b\\xa4~ (\\xec\\x85\\x80\\xec\\xb9\\xb4\\xeb\\xa1\\x9c \\xec\\x9d\\xb4\\xeb\\xaf\\xb8 \\xeb\\x88\\x88\\xec\\xb9\\x98\\xec\\xb1\\x84\\xec\\x85\\xa8\\xec\\xa3\\xa0?)\\xea\\xb7\\x80\\xec\\x97\\xac\\xec\\x9a\\xb4 \\xec\\x99\\xb8\\xeb\\xaa\\xa8\\xeb\\x9d\\xbc \\xea\\xb7\\xb8\\xeb\\x9f\\xb0\\xec\\xa7\\x80 \\xeb\\xa7\\x8e\\xec\\x9d\\x80 \\xeb\\xb6\\x84\\xeb\\x93\\xa4\\xec\\x97\\x90\\xea\\xb2\\x8c \\xec\\x82\\xac\\xeb\\x9e\\x91\\xeb\\xb0\\x9b\\xeb\\x8a\\x94 </p>\\n\\t\\t\\t\\t\\t\\t<div class=\"source_box\">\\n\\t\\t\\t\\t\\t\\t\\t<span class=\"date\">1\\xec\\xa3\\xbc\\xec\\x9d\\xbc \\xec\\xa0\\x84</span>\\n\\t\\t\\t\\t\\t\\t\\t<span class=\"source\">\\n                                \\n                                <span class=\"source_inner\">CosNB</span>\\n                            </span>\\n\\t\\t\\t\\t\\t\\t</div>\\n\\t\\t\\t\\t\\t</a>\\n\\t\\t\\t\\t</li>\\n\\t\\t\\t\\n\\t\\t\\t\\t<li class=\"theme_item\" data-gdid=\"CAS_a524b720-69fa-11ec-b7dd-dd563b7fe0ac\" data-da-position=\"true\">\\n\\t\\t\\t\\t\\t<a href=\"https://post.naver.com/viewer/postView.naver?volumeNo&#x3D;32986630&amp;memberNo&#x3D;5533664\" class=\"theme_thumb\" data-clk=\"tcc_gam.list7cont4\" target=\"_blank\">\\n\\t\\t\\t\\t\\t\\t<img  data-src=\"https://s.pstatic.net/dthumb.phinf/?src&#x3D;%22https%3A%2F%2Fs.pstatic.net%2Fstatic%2Fwww%2Fmobile%2Fedit%2F20211231_1095%2Fupload_1640930158120VaODx.jpg%22&amp;type&#x3D;nf340_228\" alt=\"\\xed\\x99\\x94\\xeb\\xa0\\xa4\\xed\\x95\\xa8\\xec\\x9d\\x98 \\xeb\\x81\\x9d! \\xeb\\x94\\x94\\xec\\x95\\x84\\xeb\\xb8\\x94\\xeb\\xa1\\x9c2 \\xeb\\xa0\\x88\\xec\\xa0\\x80\\xeb\\xa0\\x89\\xec\\x85\\x98 \\xed\\x83\\x80\\xec\\x9d\\xb4\\xed\\x83\\x84 \\xec\\x9e\\x90\\xeb\\xb2\\xa8\\xeb\\xa7\\x88 \\xec\\x84\\xb8\\xed\\x8c\\x85\" width=\"170\" height=\"114\" onerror=\"this.outerHTML=\\'<span class=\\\\\\'pm_noimg\\\\\\'><span class=\\\\\\'noimg_text\\\\\\'>\\xec\\x9d\\xb4\\xeb\\xaf\\xb8\\xec\\xa7\\x80 \\xec\\xa4\\x80\\xeb\\xb9\\x84\\xec\\xa4\\x91</span></span>\\'\">\\n\\t\\t\\t\\t\\t\\t<span class=\"thumb_bd\"></span>\\n                        \\n\\t\\t\\t\\t\\t</a>\\n\\t\\t\\t\\t\\t<a href=\"https://post.naver.com/viewer/postView.naver?volumeNo&#x3D;32986630&amp;memberNo&#x3D;5533664\" class=\"theme_info\" data-clk=\"tcc_gam.list7cont4\" target=\"_blank\">\\n\\t\\t\\t\\t\\t\\t<em class=\"theme_category\"> \\xea\\xb2\\x8c\\xec\\x9e\\x84</em>\\n\\t\\t\\t\\t\\t\\t<strong class=\"title elss\">\\xed\\x99\\x94\\xeb\\xa0\\xa4\\xed\\x95\\xa8\\xec\\x9d\\x98 \\xeb\\x81\\x9d! \\xeb\\x94\\x94\\xec\\x95\\x84\\xeb\\xb8\\x94\\xeb\\xa1\\x9c2 \\xeb\\xa0\\x88\\xec\\xa0\\x80\\xeb\\xa0\\x89\\xec\\x85\\x98 \\xed\\x83\\x80\\xec\\x9d\\xb4\\xed\\x83\\x84 \\xec\\x9e\\x90\\xeb\\xb2\\xa8\\xeb\\xa7\\x88 \\xec\\x84\\xb8\\xed\\x8c\\x85</strong>\\n                        <p class=\"desc\">\\xeb\\x94\\x94\\xec\\x95\\x84\\xeb\\xb8\\x94\\xeb\\xa1\\x9c \\xec\\x9e\\xa5\\xed\\x8c\\xa8\\xeb\\x93\\x9c / \\xeb\\xa8\\xb8\\xea\\xb7\\xb8\\xec\\xbb\\xb5\\xec\\x9d\\x84 \\xea\\xb0\\x80\\xec\\xa7\\x80\\xea\\xb3\\xa0 \\xec\\x8b\\xb6\\xec\\x9d\\x80 \\xec\\x9c\\xa0\\xec\\xa0\\x80\\xeb\\x93\\xa4\\xec\\x9d\\xb4\\xeb\\x9d\\xbc\\xeb\\xa9\\xb4 \\xea\\xb2\\x8c\\xec\\x9e\\x84 \\xeb\\x9d\\xbc\\xec\\x9a\\xb4\\xec\\xa7\\x80\\xeb\\xa1\\x9c \\xeb\\xaa\\xa8\\xec\\x97\\xac\\xeb\\x9d\\xbc~&quot;\\xeb\\xac\\xb4\\xeb\\xac\\xb4\\xeb\\xac\\xb4 \\xeb\\xac\\xb4\\xeb\\xac\\xb4 \\xeb\\xac\\xb4\\xeb\\xac\\xb4\\xeb\\xac\\xb4~&quot; &quot;\\xed\\x88\\xad.. \\xec\\xb4\\xa4\\xeb\\xa5\\xb4\\xeb\\xa5\\xb4\\xeb\\xa5\\xb4\\xeb\\xa5\\xb4\\xeb\\xa5\\xb4\\xeb\\xa5\\xb4\\xeb\\xa5\\xb4\\xeb\\xa5\\xb4\\xeb\\xa5\\xb4\\xeb\\xa5\\xb4\\xeb\\xa5\\xb4&quot; \\xeb\\xa7\\x8e\\xec\\x9d\\x80 \\xec\\x9c\\xa0\\xec\\xa0\\x80\\xeb\\x93\\xa4\\xec\\x9d\\xb4 \\xec\\xb5\\x9c\\xec\\x86\\x8c \\xed\\x95\\x9c\\xeb\\xb2\\x88 \\xec\\x9d\\xb4\\xec\\x83\\x81\\xec\\x9d\\x80 \\xeb\\xb3\\xb8 \\xeb\\x94\\x94\\xec\\x95\\x84\\xeb\\xb8\\x94\\xeb\\xa1\\x9c2 \\xec\\xb9\\xb4\\xec\\x9a\\xb0\\xeb\\xb0\\xa9\\xec\\x9d\\x84 \\xec\\x93\\xb8\\xec\\x96\\xb4\\xeb\\xb2\\x84\\xeb\\xa6\\xac\\xeb\\x8a\\x94 \\xec\\x9e\\x90\\xeb\\xb2\\xa8\\xeb\\xa7\\x88\\xec\\x9d\\x98 \\xed\\x99\\x94\\xeb\\xa0\\xa4\\xed\\x95\\x9c \\xec\\x8a\\xa4\\xed\\x82\\xac\\xec\\x9d\\x80 \\xec\\xa7\\x80\\xea\\xb8\\x88\\xeb\\x8f\\x84 \\xea\\xb5\\x89\\xec\\x9e\\xa5\\xed\\x9e\\x88 \\xec\\x9d\\xb8\\xea\\xb8\\xb0\\xea\\xb0\\x80 \\xeb\\xa7\\x8e\\xeb\\x8b\\xa4. \\xea\\xb7\\xb8\\xeb\\x9e\\x98\\xec\\x84\\x9c \\xec\\xb5\\x9c\\xea\\xb7\\xbc \\xed\\x95\\x84\\xec\\x9e\\x90\\xeb\\x8f\\x84 \\xea\\xb8\\xb8\\xeb\\x93\\x9c\\xec\\x9b\\x90\\xec\\x9d\\x84 \\xed\\x86\\xb5\\xed\\x95\\xb4 \\xec\\x9e\\x90\\xeb\\xb2\\xa8\\xeb\\xa7\\x88\\xeb\\xa5\\xbc \\xed\\x95\\x9c\\xeb\\xb2\\x88 \\xea\\xb2\\xbd\\xed\\x97\\x98\\xed\\x95\\xb4 \\xeb\\xb3\\xbc \\xec\\x88\\x98 \\xec\\x9e\\x88\\xec\\x97\\x88\\xeb\\x8a\\x94\\xeb\\x8d\\xb0</p>\\n\\t\\t\\t\\t\\t\\t<div class=\"source_box\">\\n\\t\\t\\t\\t\\t\\t\\t<span class=\"date\">2\\xec\\xa3\\xbc\\xec\\x9d\\xbc \\xec\\xa0\\x84</span>\\n\\t\\t\\t\\t\\t\\t\\t<span class=\"source\">\\n                                \\n                                <span class=\"source_inner\">\\xec\\x8f\\xa0\\xed\\x82\\xb4\\xec\\x9d\\x98 \\xea\\xb2\\x8c\\xec\\x9e\\x84 \\xed\\x86\\xa0\\xed\\x81\\xac</span>\\n                            </span>\\n\\t\\t\\t\\t\\t\\t</div>\\n\\t\\t\\t\\t\\t</a>\\n\\t\\t\\t\\t</li>\\n\\t\\t\\t\\n\\t\\t\\t\\t<li class=\"theme_item\" data-gdid=\"CAS_a524b725-69fa-11ec-b7dd-cd80fe0fdf07\" data-da-position=\"true\">\\n\\t\\t\\t\\t\\t<a href=\"https://post.naver.com/viewer/postView.naver?volumeNo&#x3D;33024714&amp;memberNo&#x3D;1966129\" class=\"theme_thumb\" data-clk=\"tcc_gam.list7cont5\" target=\"_blank\">\\n\\t\\t\\t\\t\\t\\t<img  data-src=\"https://s.pstatic.net/dthumb.phinf/?src&#x3D;%22https%3A%2F%2Fs.pstatic.net%2Fstatic%2Fwww%2Fmobile%2Fedit%2F20211231_1095%2Fupload_16409301083239XTox.jpg%22&amp;type&#x3D;nf340_228\" alt=\"\\xec\\x9d\\xb8\\xeb\\xa5\\x98\\xeb\\xa5\\xbc \\xea\\xb4\\xb4\\xeb\\xa1\\xad\\xed\\x98\\x80 \\xec\\x99\\x94\\xea\\xb3\\xa0, \\xec\\xa7\\x80\\xea\\xb8\\x88\\xeb\\x8f\\x84 \\xea\\xb4\\xb4\\xeb\\xa1\\xad\\xed\\x9e\\x88\\xea\\xb3\\xa0 \\xec\\x9e\\x88\\xeb\\x8a\\x94 \\xec\\xa0\\x84\\xec\\x97\\xbc\\xeb\\xb3\\x91\\xea\\xb3\\xbc \\xea\\xb0\\x90\\xec\\x97\\xbc\\xeb\\xb3\\x91\" width=\"170\" height=\"114\" onerror=\"this.outerHTML=\\'<span class=\\\\\\'pm_noimg\\\\\\'><span class=\\\\\\'noimg_text\\\\\\'>\\xec\\x9d\\xb4\\xeb\\xaf\\xb8\\xec\\xa7\\x80 \\xec\\xa4\\x80\\xeb\\xb9\\x84\\xec\\xa4\\x91</span></span>\\'\">\\n\\t\\t\\t\\t\\t\\t<span class=\"thumb_bd\"></span>\\n                        \\n\\t\\t\\t\\t\\t</a>\\n\\t\\t\\t\\t\\t<a href=\"https://post.naver.com/viewer/postView.naver?volumeNo&#x3D;33024714&amp;memberNo&#x3D;1966129\" class=\"theme_info\" data-clk=\"tcc_gam.list7cont5\" target=\"_blank\">\\n\\t\\t\\t\\t\\t\\t<em class=\"theme_category\"> \\xea\\xb2\\x8c\\xec\\x9e\\x84</em>\\n\\t\\t\\t\\t\\t\\t<strong class=\"title elss\">\\xec\\x9d\\xb8\\xeb\\xa5\\x98\\xeb\\xa5\\xbc \\xea\\xb4\\xb4\\xeb\\xa1\\xad\\xed\\x98\\x80 \\xec\\x99\\x94\\xea\\xb3\\xa0, \\xec\\xa7\\x80\\xea\\xb8\\x88\\xeb\\x8f\\x84 \\xea\\xb4\\xb4\\xeb\\xa1\\xad\\xed\\x9e\\x88\\xea\\xb3\\xa0 \\xec\\x9e\\x88\\xeb\\x8a\\x94 \\xec\\xa0\\x84\\xec\\x97\\xbc\\xeb\\xb3\\x91\\xea\\xb3\\xbc \\xea\\xb0\\x90\\xec\\x97\\xbc\\xeb\\xb3\\x91</strong>\\n                        <p class=\"desc\">\\xeb\\xb0\\x98\\xea\\xb0\\x91\\xec\\x8a\\xb5\\xeb\\x8b\\x88\\xeb\\x8b\\xa4 \\xec\\x82\\xac\\xec\\x8b\\xa0\\xec\\xb2\\xad\\xeb\\xa3\\xa1\\xec\\x9e\\x85\\xeb\\x8b\\x88\\xeb\\x8b\\xa4. \\xec\\x9d\\xb4\\xec\\xa0\\x9c 2021\\xeb\\x85\\x84\\xeb\\x8f\\x84 \\xeb\\x81\\x9d\\xec\\x9e\\x85\\xeb\\x8b\\x88\\xeb\\x8b\\xa4. \\xec\\x9b\\x90\\xeb\\x9e\\x98\\xeb\\x8a\\x94 \\xec\\x83\\x88\\xeb\\xa1\\x9c\\xec\\x9a\\xb4 \\xeb\\xa7\\x88\\xec\\x9d\\x8c\\xea\\xb3\\xbc \\xec\\x83\\x88\\xeb\\xa1\\x9c\\xec\\x9a\\xb4 \\xed\\x9d\\xac\\xeb\\xa7\\x9d, \\xea\\xb8\\xb0\\xeb\\x8c\\x80\\xeb\\xa5\\xbc \\xea\\xb0\\x80\\xec\\xa7\\x80\\xea\\xb3\\xa0 \\xed\\x99\\x9c\\xea\\xb8\\xb0\\xec\\xb0\\xac 2022\\xeb\\x85\\x84\\xec\\x9d\\x84 \\xec\\x8b\\x9c\\xec\\x9e\\x91\\xed\\x95\\xb4\\xec\\x95\\xbc \\xed\\x95\\x98\\xeb\\x8a\\x94 \\xea\\xb2\\x83\\xec\\x9d\\xb4 \\xec\\x82\\xac\\xec\\x8b\\xa4\\xec\\x9d\\xb4\\xeb\\x82\\x98, \\xed\\x98\\x84\\xec\\x9e\\xac\\xeb\\xa1\\x9c\\xec\\x84\\x9c\\xeb\\x8a\\x94 \\xec\\xa0\\x84 \\xec\\x84\\xb8\\xea\\xb3\\x84\\xea\\xb0\\x80 \\xea\\xb7\\xb8\\xeb\\xa0\\x87\\xec\\xa7\\x80 \\xeb\\xaa\\xbb\\xed\\x95\\x9c \\xec\\x83\\x81\\xed\\x99\\xa9\\xec\\x9e\\x85\\xeb\\x8b\\x88\\xeb\\x8b\\xa4. \\xec\\x9d\\xb4\\xec\\x9c\\xa0\\xeb\\x8a\\x94 \\xec\\x97\\xac\\xeb\\x9f\\xac\\xeb\\xb6\\x84 \\xeb\\xaa\\xa8\\xeb\\x91\\x90\\xea\\xb0\\x80 \\xec\\x9e\\x98 \\xec\\x95\\x8c\\xea\\xb3\\xa0 \\xec\\x9e\\x88\\xeb\\x93\\xaf\\xec\\x9d\\xb4 \\xec\\xbd\\x94\\xeb\\xa1\\x9c\\xeb\\x82\\x9819 \\xeb\\xb0\\x94\\xec\\x9d\\xb4\\xeb\\x9f\\xac\\xec\\x8a\\xa4 \\xeb\\x95\\x8c\\xeb\\xac\\xb8\\xec\\x9e\\x85\\xeb\\x8b\\x88\\xeb\\x8b\\xa4. \\xec\\x9d\\xb8\\xeb\\xa5\\x98\\xeb\\x8a\\x94 \\xec\\x98\\xa4\\xeb\\x9e\\x9c \\xec\\x84\\xb8\\xec\\x9b\\x94 \\xeb\\x8f\\x99\\xec\\x95\\x88 \\xeb\\xb0\\x94\\xec\\x9d\\xb4\\xeb\\x9f\\xac\\xec\\x8a\\xa4\\xec\\x99\\x80 \\xec\\xa0\\x84\\xec\\x97\\xbc\\xeb\\xb3\\x91 &amp; \\xea\\xb0\\x90\\xec\\x97\\xbc\\xeb\\xb3\\x91\\xec\\x9c\\xbc\\xeb\\xa1\\x9c \\xec\\x9d\\xb8\\xed\\x95\\xb4 \\xea\\xb3\\xa0\\xed\\x86\\xb5\\xec\\x9d\\x84 \\xeb\\xb0\\x9b\\xec\\x95\\x84\\xec\\x99\\x94\\xec\\x8a\\xb5\\xeb\\x8b\\x88\\xeb\\x8b\\xa4</p>\\n\\t\\t\\t\\t\\t\\t<div class=\"source_box\">\\n\\t\\t\\t\\t\\t\\t\\t<span class=\"date\">1\\xec\\xa3\\xbc\\xec\\x9d\\xbc \\xec\\xa0\\x84</span>\\n\\t\\t\\t\\t\\t\\t\\t<span class=\"source\">\\n                                \\n                                <span class=\"source_inner\">\\xec\\x82\\xac\\xec\\x8b\\xa0\\xec\\xb2\\xad\\xeb\\xa3\\xa1</span>\\n                            </span>\\n\\t\\t\\t\\t\\t\\t</div>\\n\\t\\t\\t\\t\\t</a>\\n\\t\\t\\t\\t</li>\\n\\t\\t\\t\\n\\t\\t</ul>\\n\\t</div>\\n</div>\\n<div class=\"group_theme\" data-block-id=\"\" data-block-code=\"PC-THEME-GAMEAPP-MOBILE-RANKING-DEFAULT-7\" data-block-type=\"MATERIALS\" data-template-code=\"MOBILE-RANKING-LIST\"\\n\\n\\t data-da=\"container\"\\n\\t data-index=\"\"\\n     data-page=\"4\"\\n\\t style=\"display:none\">\\n\\n\\t<div class=\"list_theme_wrap\">\\n\\t\\t<ul class=\"list_theme\">\\n\\t\\t\\t\\n\\t\\t\\t\\t<li class=\"theme_item\" data-gdid=\"CAS_a524b721-69fa-11ec-b7dd-db3b446256fd\" data-da-position=\"true\">\\n\\t\\t\\t\\t\\t<a href=\"https://post.naver.com/viewer/postView.naver?volumeNo&#x3D;33041125&amp;memberNo&#x3D;11542122\" class=\"theme_thumb\" data-clk=\"tcc_gam.list8cont1\" target=\"_blank\">\\n\\t\\t\\t\\t\\t\\t<img  data-src=\"https://s.pstatic.net/dthumb.phinf/?src&#x3D;%22https%3A%2F%2Fs.pstatic.net%2Fstatic%2Fwww%2Fmobile%2Fedit%2F20211231_1095%2Fupload_16409299568983EwN1.jpg%22&amp;type&#x3D;nf340_228\" alt=\"\\xeb\\x82\\x98\\xec\\x84\\x9c\\xec\\x8a\\xa4\\xec\\x99\\x80 \\xec\\xa7\\x95\\xed\\x81\\xac\\xec\\x8a\\xa4\" width=\"170\" height=\"114\" onerror=\"this.outerHTML=\\'<span class=\\\\\\'pm_noimg\\\\\\'><span class=\\\\\\'noimg_text\\\\\\'>\\xec\\x9d\\xb4\\xeb\\xaf\\xb8\\xec\\xa7\\x80 \\xec\\xa4\\x80\\xeb\\xb9\\x84\\xec\\xa4\\x91</span></span>\\'\">\\n\\t\\t\\t\\t\\t\\t<span class=\"thumb_bd\"></span>\\n                        \\n\\t\\t\\t\\t\\t</a>\\n\\t\\t\\t\\t\\t<a href=\"https://post.naver.com/viewer/postView.naver?volumeNo&#x3D;33041125&amp;memberNo&#x3D;11542122\" class=\"theme_info\" data-clk=\"tcc_gam.list8cont1\" target=\"_blank\">\\n\\t\\t\\t\\t\\t\\t<em class=\"theme_category\"> \\xea\\xb2\\x8c\\xec\\x9e\\x84</em>\\n\\t\\t\\t\\t\\t\\t<strong class=\"title elss\">\\xeb\\x82\\x98\\xec\\x84\\x9c\\xec\\x8a\\xa4\\xec\\x99\\x80 \\xec\\xa7\\x95\\xed\\x81\\xac\\xec\\x8a\\xa4</strong>\\n                        <p class=\"desc\">\\xec\\xa7\\x95\\xed\\x81\\xac\\xec\\x8a\\xa4\\xea\\xb0\\x80 \\xec\\xa7\\x95\\xec\\xa7\\x95\\xea\\xb1\\xb0\\xeb\\xa0\\xa4\\xec\\x9a\\x94. \\xeb\\xb2\\x8c\\xec\\x8d\\xa8 108\\xed\\x99\\x94\\xea\\xb0\\x80 \\xeb\\x90\\x98\\xec\\x97\\x88\\xeb\\x84\\xa4\\xec\\x9a\\x94. \\xec\\x97\\xac\\xeb\\x9f\\xac\\xeb\\xb6\\x84 \\xeb\\x8d\\x95\\xeb\\xb6\\x84\\xec\\x9e\\x85\\xeb\\x8b\\x88\\xeb\\x8b\\xa4. \\xea\\xb0\\x90\\xec\\x82\\xac\\xed\\x95\\xa9\\xeb\\x8b\\x88\\xeb\\x8b\\xa4(_ _) \\xec\\xa7\\x95\\xed\\x81\\xac\\xec\\x8a\\xa4\\xeb\\x8a\\x94 \\xec\\x98\\xa4\\xeb\\x8a\\x98\\xeb\\x8f\\x84... \\xea\\xb7\\xb8\\xeb\\xa6\\xac\\xea\\xb3\\xa0 \\xeb\\x82\\x98\\xec\\x84\\x9c\\xec\\x8a\\xa4 Q\\xeb\\x8a\\x94 \\xeb\\xaa\\xa8\\xeb\\x91\\x90\\xec\\x97\\x90\\xea\\xb2\\x8c \\xed\\x8f\\x89\\xeb\\x93\\xb1\\xed\\x95\\xa9\\xeb\\x8b\\x88\\xeb\\x8b\\xa4. 2022\\xeb\\x85\\x84\\xec\\x9d\\xb4\\xeb\\x84\\xa4\\xec\\x9a\\x94. \\xec\\x97\\xac\\xeb\\x9f\\xac\\xeb\\xb6\\x84 \\xec\\x83\\x88\\xed\\x95\\xb4 \\xeb\\xb3\\xb5 \\xeb\\xa7\\x8e\\xec\\x9d\\xb4 \\xeb\\xb0\\x9b\\xec\\x9c\\xbc\\xec\\x8b\\x9c\\xea\\xb3\\xa0... \\xec\\xbd\\x94\\xeb\\xa1\\x9c\\xeb\\x82\\x98 \\xec\\xa1\\xb0\\xec\\x8b\\xac\\xed\\x95\\x98\\xec\\x8b\\x9c\\xea\\xb3\\xa0... \\xec\\x9d\\xb4\\xeb\\xb2\\x88 \\xec\\xa3\\xbc\\xeb\\x8f\\x84 \\xec\\x9e\\xac\\xeb\\xaf\\xb8\\xec\\x9e\\x88\\xea\\xb2\\x8c \\xeb\\xb4\\x90\\xec\\xa3\\xbc\\xec\\x84\\xb8\\xec\\x9a\\x94~! -----------------------------------------------</p>\\n\\t\\t\\t\\t\\t\\t<div class=\"source_box\">\\n\\t\\t\\t\\t\\t\\t\\t<span class=\"date\">1\\xec\\xa3\\xbc\\xec\\x9d\\xbc \\xec\\xa0\\x84</span>\\n\\t\\t\\t\\t\\t\\t\\t<span class=\"source\">\\n                                \\n                                <span class=\"source_inner\">\\xec\\x8c\\x80\\xec\\x8b\\xa0</span>\\n                            </span>\\n\\t\\t\\t\\t\\t\\t</div>\\n\\t\\t\\t\\t\\t</a>\\n\\t\\t\\t\\t</li>\\n\\t\\t\\t\\n\\t\\t\\t\\t<li class=\"theme_item\" data-gdid=\"CAS_a524b71f-69fa-11ec-b7dd-efa1ee509891\" data-da-position=\"true\">\\n\\t\\t\\t\\t\\t<a href=\"https://post.naver.com/viewer/postView.naver?volumeNo&#x3D;33040677&amp;memberNo&#x3D;4505449\" class=\"theme_thumb\" data-clk=\"tcc_gam.list8cont2\" target=\"_blank\">\\n\\t\\t\\t\\t\\t\\t<img  data-src=\"https://s.pstatic.net/dthumb.phinf/?src&#x3D;%22https%3A%2F%2Fs.pstatic.net%2Fstatic%2Fwww%2Fmobile%2Fedit%2F20211231_1095%2Fupload_1640929883520WcKwG.jpg%22&amp;type&#x3D;nf340_228\" alt=\"2022\\xeb\\x85\\x84\\xec\\x9d\\x80 \\xea\\xb4\\x9c\\xec\\xb0\\xae\\xec\\x9d\\x84\\xea\\xb9\\x8c? PC\\xeb\\xb0\\xa9 \\xec\\x97\\x85\\xec\\xa3\\xbc\\xeb\\x93\\xa4\\xec\\x9d\\x98 \\xec\\x9e\\x84\\xec\\x9d\\xb8\\xeb\\x85\\x84 \\xec\\x86\\x8c\\xeb\\xa7\\x9d \\xec\\xb9\\xb4\\xeb\\x93\\x9c\" width=\"170\" height=\"114\" onerror=\"this.outerHTML=\\'<span class=\\\\\\'pm_noimg\\\\\\'><span class=\\\\\\'noimg_text\\\\\\'>\\xec\\x9d\\xb4\\xeb\\xaf\\xb8\\xec\\xa7\\x80 \\xec\\xa4\\x80\\xeb\\xb9\\x84\\xec\\xa4\\x91</span></span>\\'\">\\n\\t\\t\\t\\t\\t\\t<span class=\"thumb_bd\"></span>\\n                        \\n\\t\\t\\t\\t\\t</a>\\n\\t\\t\\t\\t\\t<a href=\"https://post.naver.com/viewer/postView.naver?volumeNo&#x3D;33040677&amp;memberNo&#x3D;4505449\" class=\"theme_info\" data-clk=\"tcc_gam.list8cont2\" target=\"_blank\">\\n\\t\\t\\t\\t\\t\\t<em class=\"theme_category\"> \\xea\\xb2\\x8c\\xec\\x9e\\x84</em>\\n\\t\\t\\t\\t\\t\\t<strong class=\"title elss\">2022\\xeb\\x85\\x84\\xec\\x9d\\x80 \\xea\\xb4\\x9c\\xec\\xb0\\xae\\xec\\x9d\\x84\\xea\\xb9\\x8c? PC\\xeb\\xb0\\xa9 \\xec\\x97\\x85\\xec\\xa3\\xbc\\xeb\\x93\\xa4\\xec\\x9d\\x98 \\xec\\x9e\\x84\\xec\\x9d\\xb8\\xeb\\x85\\x84 \\xec\\x86\\x8c\\xeb\\xa7\\x9d \\xec\\xb9\\xb4\\xeb\\x93\\x9c</strong>\\n                        <p class=\"desc\">\\xeb\\x8b\\xa4\\xec\\x82\\xac\\xeb\\x8b\\xa4\\xeb\\x82\\x9c\\xed\\x96\\x88\\xeb\\x8d\\x98 2021\\xeb\\x85\\x84\\xeb\\x8f\\x84 \\xeb\\x81\\x9d\\xeb\\x82\\x98\\xea\\xb3\\xa0, \\xec\\x96\\xb4\\xeb\\x8a\\x90\\xeb\\x8d\\xa7 2022\\xeb\\x85\\x84\\xec\\x9d\\x84 \\xec\\x95\\x9e\\xeb\\x91\\x90\\xea\\xb3\\xa0 \\xec\\x9e\\x88\\xec\\x8a\\xb5\\xeb\\x8b\\x88\\xeb\\x8b\\xa4. \\xec\\xa7\\x80\\xeb\\x82\\x9c \\xea\\xb2\\xb0\\xec\\x82\\xb0 \\xea\\xb8\\xb0\\xec\\x82\\xac\\xec\\x97\\x90\\xec\\x84\\x9c\\xeb\\x8f\\x84 \\xec\\x96\\xb8\\xea\\xb8\\x89\\xed\\x96\\x88\\xec\\xa7\\x80\\xeb\\xa7\\x8c, \\xec\\x95\\x84\\xeb\\xac\\xb4\\xeb\\x9e\\x98\\xeb\\x8f\\x84 \\xec\\x89\\xbd\\xea\\xb2\\x8c \\xec\\xa4\\x84\\xec\\x96\\xb4\\xeb\\x93\\xa4\\xec\\xa7\\x80 \\xec\\x95\\x8a\\xeb\\x8a\\x94 \\xec\\xbd\\x94\\xeb\\xa1\\x9c\\xeb\\x82\\x9819 \\xed\\x99\\x95\\xec\\x82\\xb0\\xec\\x84\\xb8\\xeb\\xa1\\x9c \\xec\\x9d\\xb8\\xed\\x95\\xb4 PC\\xeb\\xb0\\xa9 \\xec\\x97\\x85\\xea\\xb3\\x84\\xec\\x97\\x90\\xea\\xb2\\x8c\\xeb\\x8a\\x94 \\xec\\x9e\\x91\\xeb\\x85\\x84\\xea\\xb3\\xbc \\xeb\\xa7\\x88\\xec\\xb0\\xac\\xea\\xb0\\x80\\xec\\xa7\\x80\\xeb\\xa1\\x9c \\xed\\x9e\\x98\\xeb\\x93\\xa0 \\xec\\x8b\\x9c\\xea\\xb8\\xb0\\xeb\\xa5\\xbc \\xeb\\xb3\\xb4\\xeb\\x83\\x88\\xec\\xa3\\xa0. \\xec\\x95\\x84\\xeb\\x8b\\x88, \\xec\\x96\\xb4\\xec\\xa9\\x8c\\xeb\\xa9\\xb4 \\xec\\x9e\\x91\\xeb\\x85\\x84\\xeb\\xb3\\xb4\\xeb\\x8b\\xa4 \\xeb\\x8d\\x94 \\xed\\x9e\\x98\\xeb\\x93\\xa4\\xec\\x97\\x88\\xeb\\x8b\\xa4\\xeb\\x8a\\x94 \\xeb\\xa7\\x90\\xec\\x9d\\xb4 \\xec\\x96\\xb4\\xec\\x9a\\xb8\\xeb\\xa6\\xb4\\xec\\xa7\\x80\\xeb\\x8f\\x84 \\xeb\\xaa\\xa8\\xeb\\xa6\\x85\\xeb\\x8b\\x88\\xeb\\x8b\\xa4.\\xec\\x8b\\xa4\\xec\\xa0\\x9c\\xeb\\xa1\\x9c, \\xec\\xbd\\x94\\xeb\\xa1\\x9c\\xeb\\x82\\x9819 \\xed\\x99\\x95\\xec\\x82\\xb0\\xec\\x84\\xb8\\xeb\\x8a\\x94 \\xeb\\xb0\\xb1\\xec\\x8b\\xa0 \\xec\\xa0\\x91\\xec\\xa2\\x85\\xec\\x97\\x90\\xeb\\x8f\\x84 \\xeb\\xb6\\x88\\xea\\xb5\\xac\\xed\\x95\\x98\\xea\\xb3\\xa0 \\xec\\x9d\\xbc\\xec\\x9d\\xbc \\xed\\x99\\x95\\xec\\xa7\\x84\\xec\\x9e\\x90 \\xec\\x88\\x98 5,000\\xeb\\xaa\\x85</p>\\n\\t\\t\\t\\t\\t\\t<div class=\"source_box\">\\n\\t\\t\\t\\t\\t\\t\\t<span class=\"date\">1\\xec\\xa3\\xbc\\xec\\x9d\\xbc \\xec\\xa0\\x84</span>\\n\\t\\t\\t\\t\\t\\t\\t<span class=\"source\">\\n                                \\n                                <span class=\"source_inner\">PNN</span>\\n                            </span>\\n\\t\\t\\t\\t\\t\\t</div>\\n\\t\\t\\t\\t\\t</a>\\n\\t\\t\\t\\t</li>\\n\\t\\t\\t\\n\\t\\t\\t\\t<li class=\"theme_item\" data-gdid=\"CAS_617fbb85-69e9-11ec-9428-b9277fb0e47e\" data-da-position=\"true\">\\n\\t\\t\\t\\t\\t<a href=\"https://post.naver.com/viewer/postView.naver?volumeNo&#x3D;33009539&amp;memberNo&#x3D;52480150\" class=\"theme_thumb\" data-clk=\"tcc_gam.list8cont3\" target=\"_blank\">\\n\\t\\t\\t\\t\\t\\t<img  data-src=\"https://s.pstatic.net/dthumb.phinf/?src&#x3D;%22https%3A%2F%2Fs.pstatic.net%2Fstatic%2Fwww%2Fmobile%2Fedit%2F20211231_1095%2Fupload_1640929699401wY8vu.png%22&amp;type&#x3D;nf340_228\" alt=\"\\xec\\x8b\\x9c\\xea\\xb5\\xad \\xeb\\x95\\x8c\\xeb\\xac\\xb8\\xec\\x97\\x90 \\xec\\xb0\\xb8\\xec\\xa0\\x84 \\xeb\\xb6\\x88\\xea\\xb0\\x80? \\xeb\\xb0\\x94\\xec\\x9d\\xb4\\xeb\\x9f\\xac\\xec\\x8a\\xa4 \\xec\\xbb\\xa8\\xec\\x85\\x89\\xec\\x9d\\x98 \\xea\\xb3\\xa0\\xeb\\xa3\\xa1(?) \\xea\\xb3\\xa0\\xec\\x96\\xb4 \\xeb\\xa7\\x88\\xea\\xb0\\x80\\xeb\\x9d\\xbc\" width=\"170\" height=\"114\" onerror=\"this.outerHTML=\\'<span class=\\\\\\'pm_noimg\\\\\\'><span class=\\\\\\'noimg_text\\\\\\'>\\xec\\x9d\\xb4\\xeb\\xaf\\xb8\\xec\\xa7\\x80 \\xec\\xa4\\x80\\xeb\\xb9\\x84\\xec\\xa4\\x91</span></span>\\'\">\\n\\t\\t\\t\\t\\t\\t<span class=\"thumb_bd\"></span>\\n                        \\n\\t\\t\\t\\t\\t</a>\\n\\t\\t\\t\\t\\t<a href=\"https://post.naver.com/viewer/postView.naver?volumeNo&#x3D;33009539&amp;memberNo&#x3D;52480150\" class=\"theme_info\" data-clk=\"tcc_gam.list8cont3\" target=\"_blank\">\\n\\t\\t\\t\\t\\t\\t<em class=\"theme_category\"> \\xea\\xb2\\x8c\\xec\\x9e\\x84</em>\\n\\t\\t\\t\\t\\t\\t<strong class=\"title elss\">\\xec\\x8b\\x9c\\xea\\xb5\\xad \\xeb\\x95\\x8c\\xeb\\xac\\xb8\\xec\\x97\\x90 \\xec\\xb0\\xb8\\xec\\xa0\\x84 \\xeb\\xb6\\x88\\xea\\xb0\\x80? \\xeb\\xb0\\x94\\xec\\x9d\\xb4\\xeb\\x9f\\xac\\xec\\x8a\\xa4 \\xec\\xbb\\xa8\\xec\\x85\\x89\\xec\\x9d\\x98 \\xea\\xb3\\xa0\\xeb\\xa3\\xa1(?) \\xea\\xb3\\xa0\\xec\\x96\\xb4 \\xeb\\xa7\\x88\\xea\\xb0\\x80\\xeb\\x9d\\xbc</strong>\\n                        <p class=\"desc\">\\xec\\x95\\x88\\xeb\\x85\\x95\\xed\\x95\\x98\\xec\\x84\\xb8\\xec\\x9a\\x94 \\xed\\x84\\xb8\\xeb\\xa7\\xa8\\xec\\x9e\\x85\\xeb\\x8b\\x88\\xeb\\x8b\\xa4.\\xec\\x98\\xa4\\xeb\\x8a\\x98\\xec\\x9d\\x80 \\xec\\xa2\\x80 \\xed\\x8a\\xb9\\xec\\x9d\\xb4\\xed\\x95\\x9c \\xeb\\xaa\\xac\\xec\\x8a\\xa4\\xed\\x84\\xb0\\xec\\x97\\x90 \\xeb\\x8c\\x80\\xed\\x95\\xb4 \\xec\\x95\\x8c\\xec\\x95\\x84\\xeb\\xb3\\xb4\\xea\\xb2\\xa0\\xec\\x8a\\xb5\\xeb\\x8b\\x88\\xeb\\x8b\\xa4.\\xeb\\xaa\\xac\\xed\\x97\\x8c4\\xec\\x9d\\x98 \\xea\\xb0\\x84\\xed\\x8c\\x90\\xeb\\xaa\\xb9\\xec\\x9c\\xbc\\xeb\\xa1\\x9c \\xec\\xb2\\x98\\xec\\x9d\\x8c \\xeb\\x93\\xb1\\xec\\x9e\\xa5\\xed\\x96\\x88\\xea\\xb3\\xa0 \\xec\\x8a\\xa4\\xed\\x86\\xa0\\xeb\\xa6\\xac\\xeb\\x82\\x98 \\xec\\xa0\\x84\\xed\\x88\\xac\\xec\\x97\\x90\\xec\\x84\\x9c\\xec\\x9d\\x98 \\xec\\x9e\\x84\\xed\\x8c\\xa9\\xed\\x8a\\xb8 \\xeb\\x95\\x8c\\xeb\\xac\\xb8\\xec\\x97\\x90 \\xea\\xb5\\x89\\xec\\x9e\\xa5\\xed\\x95\\x9c \\xec\\x9d\\xb8\\xea\\xb8\\xb0\\xeb\\xa5\\xbc \\xec\\x9e\\x90\\xeb\\x9e\\x91\\xed\\x95\\xa8\\xec\\x97\\x90\\xeb\\x8f\\x84 \\xeb\\xb6\\x88\\xea\\xb5\\xac\\xed\\x95\\x98\\xea\\xb3\\xa0 \\xea\\xbd\\xa4 \\xec\\x98\\xa4\\xeb\\x9e\\xab\\xeb\\x8f\\x99\\xec\\x95\\x88 \\xec\\xb0\\xb8\\xec\\xa0\\x84 \\xea\\xb8\\xb0\\xeb\\xaf\\xb8\\xea\\xb0\\x80 \\xeb\\xb3\\xb4\\xec\\x9d\\xb4\\xec\\xa7\\x80 \\xec\\x95\\x8a\\xeb\\x8a\\x94 \\xeb\\xaa\\xac\\xec\\x8a\\xa4\\xed\\x84\\xb0\\xec\\x9d\\xb8\\xeb\\x8d\\xb0\\xec\\x9a\\x94.\\xeb\\xb0\\x94\\xeb\\xa1\\x9c \\xed\\x9d\\x91\\xec\\x8b\\x9d\\xeb\\xa3\\xa1 \\xea\\xb3\\xa0\\xec\\x96\\xb4 \\xeb\\xa7\\x88\\xea\\xb0\\x80\\xeb\\x9d\\xbc\\xec\\x9e\\x85\\xeb\\x8b\\x88\\xeb\\x8b\\xa4. \\xea\\xb3\\xa0\\xec\\x96\\xb4 \\xeb\\xa7\\x88\\xea\\xb0\\x80\\xeb\\x9d\\xbc\\xeb\\x8a\\x94 \\xec\\xb2\\xab \\xeb\\x93\\xb1\\xec\\x9e\\xa5\\xed\\x95\\x9c \\xeb\\xaa\\xac\\xed\\x97\\x8c4 \\xec\\x8a\\xa4\\xed\\x86\\xa0\\xeb\\xa6\\xac\\xec\\x97\\x90\\xec\\x84\\x9c\\xeb\\xb6\\x80\\xed\\x84\\xb0 \\xeb\\x82\\xa8\\xeb\\x8b\\xa4\\xeb\\xa5\\xb8 \\xec\\x9e\\x84\\xed\\x8c\\xa9\\xed\\x8a\\xb8\\xeb\\xa5\\xbc \\xec\\x84\\xa0\\xeb\\xb3\\xb4\\xec\\x9d\\xb8 \\xeb\\xaa\\xac\\xec\\x8a\\xa4\\xed\\x84\\xb0\\xec\\x98\\x80\\xec\\x8a\\xb5\\xeb\\x8b\\x88\\xeb\\x8b\\xa4.\\xeb\\xaa\\xac\\xed\\x97\\x8c \\xec\\x8b\\x9c\\xeb\\xa6\\xac\\xec\\xa6\\x88\\xec\\x97\\x90 \\xec\\x8a\\xa4\\xed\\x86\\xa0\\xeb\\xa6\\xac\\xeb\\x9d\\xbc</p>\\n\\t\\t\\t\\t\\t\\t<div class=\"source_box\">\\n\\t\\t\\t\\t\\t\\t\\t<span class=\"date\">1\\xec\\xa3\\xbc\\xec\\x9d\\xbc \\xec\\xa0\\x84</span>\\n\\t\\t\\t\\t\\t\\t\\t<span class=\"source\">\\n                                \\n                                <span class=\"source_inner\">Tulman</span>\\n                            </span>\\n\\t\\t\\t\\t\\t\\t</div>\\n\\t\\t\\t\\t\\t</a>\\n\\t\\t\\t\\t</li>\\n\\t\\t\\t\\n\\t\\t\\t\\t<li class=\"theme_item\" data-gdid=\"CAS_617fbb81-69e9-11ec-9428-a1e565183cfa\" data-da-position=\"true\">\\n\\t\\t\\t\\t\\t<a href=\"https://post.naver.com/viewer/postView.naver?volumeNo&#x3D;32993434&amp;memberNo&#x3D;37183350&amp;navigationType&#x3D;push\" class=\"theme_thumb\" data-clk=\"tcc_gam.list8cont4\" target=\"_blank\">\\n\\t\\t\\t\\t\\t\\t<img  data-src=\"https://s.pstatic.net/dthumb.phinf/?src&#x3D;%22https%3A%2F%2Fs.pstatic.net%2Fstatic%2Fwww%2Fmobile%2Fedit%2F20211231_1095%2Fupload_1640929538024Nze2q.jpg%22&amp;type&#x3D;nf340_228\" alt=\"\\xeb\\xa6\\xac\\xea\\xb7\\xb8\\xec\\x98\\xa4\\xeb\\xb8\\x8c\\xeb\\xa0\\x88\\xec\\xa0\\x84\\xeb\\x93\\x9c \\xeb\\xb3\\x84\\xec\\x88\\x98\\xed\\x98\\xb8\\xec\\x9e\\x90 \\xed\\x94\\x84\\xeb\\xa0\\x88\\xec\\x8a\\xa4\\xed\\x8b\\xb0\\xec\\xa7\\x80 &#x27;\\xec\\x86\\x8c\\xeb\\x9d\\xbc\\xec\\xb9\\xb4&#x27; \\xec\\xbd\\x94\\xec\\x8a\\xa4\\xed\\x94\\x84\\xeb\\xa0\\x88\" width=\"170\" height=\"114\" onerror=\"this.outerHTML=\\'<span class=\\\\\\'pm_noimg\\\\\\'><span class=\\\\\\'noimg_text\\\\\\'>\\xec\\x9d\\xb4\\xeb\\xaf\\xb8\\xec\\xa7\\x80 \\xec\\xa4\\x80\\xeb\\xb9\\x84\\xec\\xa4\\x91</span></span>\\'\">\\n\\t\\t\\t\\t\\t\\t<span class=\"thumb_bd\"></span>\\n                        \\n\\t\\t\\t\\t\\t</a>\\n\\t\\t\\t\\t\\t<a href=\"https://post.naver.com/viewer/postView.naver?volumeNo&#x3D;32993434&amp;memberNo&#x3D;37183350&amp;navigationType&#x3D;push\" class=\"theme_info\" data-clk=\"tcc_gam.list8cont4\" target=\"_blank\">\\n\\t\\t\\t\\t\\t\\t<em class=\"theme_category\"> \\xea\\xb2\\x8c\\xec\\x9e\\x84</em>\\n\\t\\t\\t\\t\\t\\t<strong class=\"title elss\">\\xeb\\xa6\\xac\\xea\\xb7\\xb8\\xec\\x98\\xa4\\xeb\\xb8\\x8c\\xeb\\xa0\\x88\\xec\\xa0\\x84\\xeb\\x93\\x9c \\xeb\\xb3\\x84\\xec\\x88\\x98\\xed\\x98\\xb8\\xec\\x9e\\x90 \\xed\\x94\\x84\\xeb\\xa0\\x88\\xec\\x8a\\xa4\\xed\\x8b\\xb0\\xec\\xa7\\x80 \\'\\xec\\x86\\x8c\\xeb\\x9d\\xbc\\xec\\xb9\\xb4\\' \\xec\\xbd\\x94\\xec\\x8a\\xa4\\xed\\x94\\x84\\xeb\\xa0\\x88</strong>\\n                        <p class=\"desc\">\\xec\\x95\\x88\\xeb\\x85\\x95\\xed\\x95\\x98\\xec\\x84\\xb8\\xec\\x9a\\x94. \\xd9\\xa9( \\xe1\\x90\\x9b )\\xd9\\x88 \\xed\\x8b\\xb0\\xed\\x8b\\xb0\\xed\\x81\\xb4\\xec\\x9d\\x84 \\xec\\x82\\xac\\xeb\\x9e\\x91\\xed\\x95\\xb4 \\xec\\xa3\\xbc\\xec\\x8b\\x9c\\xeb\\x8a\\x94 \\xea\\xb5\\xac\\xeb\\x8f\\x85\\xec\\x9e\\x90 \\xec\\x97\\xac\\xeb\\x9f\\xac\\xeb\\xb6\\x84\\xeb\\x93\\xa4 \\xea\\xb7\\xb8\\xeb\\x8f\\x99\\xec\\x95\\x88 \\xec\\x9e\\x98 \\xec\\xa7\\x80\\xeb\\x82\\xb4\\xec\\x85\\xa8\\xec\\x9d\\x84\\xea\\xb9\\x8c\\xec\\x9a\\x94? \\xec\\x9d\\xb4\\xeb\\xb2\\x88 \\xec\\xa3\\xbc \\xed\\x8b\\xb0\\xed\\x8b\\xb0\\xed\\x81\\xb4 \\xed\\x8f\\xac\\xec\\x8a\\xa4\\xed\\x8c\\x85 \\xec\\xa3\\xbc\\xec\\x9d\\xb8\\xea\\xb3\\xb5\\xec\\x9d\\x80 \\xec\\xa0\\x80, \\xeb\\xaa\\xb0\\xeb\\xa6\\xac\\xec\\x9e\\x85\\xeb\\x8b\\x88\\xeb\\x8b\\xa4! \\xec\\xbd\\x94\\xeb\\xa1\\x9c\\xeb\\x82\\x98\\xea\\xb0\\x80 \\xea\\xb2\\xa9\\xec\\x83\\x81\\xeb\\x90\\x98\\xec\\x96\\xb4\\xec\\x84\\x9c \\xec\\xa7\\x91\\xec\\x97\\x90\\xeb\\xa7\\x8c \\xec\\x9e\\x88\\xeb\\x8a\\x94 \\xec\\x8b\\x9c\\xea\\xb0\\x84\\xec\\x9d\\xb4 \\xeb\\x8d\\x94 \\xea\\xb8\\xb8\\xec\\x96\\xb4\\xec\\xa7\\x80\\xea\\xb3\\xa0 \\xec\\x9e\\x88\\xeb\\x8a\\x94\\xeb\\x8d\\xb0\\xec\\x9a\\x94 \\xec\\x97\\xac\\xeb\\x9f\\xac\\xeb\\xb6\\x84\\xec\\x9d\\x80 \\xec\\x96\\xb4\\xeb\\x96\\xbb\\xea\\xb2\\x8c \\xec\\xa7\\x80\\xeb\\x82\\xb4\\xea\\xb3\\xa0 \\xea\\xb3\\x84\\xec\\x8b\\x9c\\xeb\\x82\\x98\\xec\\x9a\\x94? \\xeb\\xb2\\x8c\\xec\\x8d\\xa8 \\xea\\xb2\\xa8\\xec\\x9a\\xb8\\xec\\x9d\\xb4 \\xec\\x99\\x94\\xeb\\x8d\\x94\\xeb\\x9d\\xbc\\xea\\xb3\\xa0\\xec\\x9a\\x94 \\xeb\\xaa\\xa8\\xeb\\x91\\x90\\xeb\\x93\\xa4 \\xea\\xb0\\x90\\xea\\xb8\\xb0\\xeb\\x8f\\x84 \\xec\\xa1\\xb0\\xec\\x8b\\xac\\xed\\x95\\x98\\xec\\x8b\\x9c\\xea\\xb3\\xa0 \\xeb\\x94\\xb0\\xeb\\x93\\xaf\\xed\\x95\\x98\\xea\\xb2\\x8c \\xea\\xbb\\xb4\\xec\\x9e\\x85\\xec\\x9d\\x8d\\xec\\x8b\\x9c\\xeb\\x8b\\xa4! \\xec\\x9e\\x90, \\xea\\xb7\\xb8\\xeb\\x9f\\xbc \\xec\\x9d\\xb4\\xeb\\xb2\\x88\\xec\\x97\\x94 \\xec\\x96\\xb4\\xeb\\x96\\xa4 \\xec\\xbd\\x94\\xec\\x8a\\xa4\\xed\\x94\\x84\\xeb\\xa0\\x88\\xea\\xb0\\x80 \\xec\\xa4\\x80\\xeb\\xb9\\x84</p>\\n\\t\\t\\t\\t\\t\\t<div class=\"source_box\">\\n\\t\\t\\t\\t\\t\\t\\t<span class=\"date\">2\\xec\\xa3\\xbc\\xec\\x9d\\xbc \\xec\\xa0\\x84</span>\\n\\t\\t\\t\\t\\t\\t\\t<span class=\"source\">\\n                                \\n                                <span class=\"source_inner\">\\xed\\x8b\\xb0\\xed\\x8b\\xb0\\xed\\x81\\xb4</span>\\n                            </span>\\n\\t\\t\\t\\t\\t\\t</div>\\n\\t\\t\\t\\t\\t</a>\\n\\t\\t\\t\\t</li>\\n\\t\\t\\t\\n\\t\\t\\t\\t<li class=\"theme_item\" data-gdid=\"CAS_617fbb87-69e9-11ec-9428-c7f1c256336a\" data-da-position=\"true\">\\n\\t\\t\\t\\t\\t<a href=\"https://post.naver.com/viewer/postView.naver?volumeNo&#x3D;33036532&amp;memberNo&#x3D;34059480&amp;navigationType&#x3D;push\" class=\"theme_thumb\" data-clk=\"tcc_gam.list8cont5\" target=\"_blank\">\\n\\t\\t\\t\\t\\t\\t<img  data-src=\"https://s.pstatic.net/dthumb.phinf/?src&#x3D;%22https%3A%2F%2Fs.pstatic.net%2Fstatic%2Fwww%2Fmobile%2Fedit%2F20211231_1095%2Fupload_1640929835577zCdcC.jpg%22&amp;type&#x3D;nf340_228\" alt=\"\\xe2\\x80\\x98\\xec\\x84\\x9c\\xeb\\x93\\xa0\\xec\\x96\\xb4\\xed\\x83\\x9d\\xe2\\x80\\x99 \\xea\\xb8\\xb0\\xed\\x9a\\x8d\\xed\\x8c\\x80\\xec\\x9e\\xa5\\xec\\x9d\\x98 \\xec\\xa1\\xb0\\xec\\x96\\xb8, \\xe2\\x80\\x9c\\xea\\xb2\\x8c\\xec\\x9e\\x84\\xec\\x9d\\x84 \\xec\\x82\\xac\\xeb\\x9e\\x91\\xed\\x95\\x98\\xea\\xb3\\xa0 \\xec\\x83\\x9d\\xea\\xb0\\x81\\xec\\x9d\\x84 \\xec\\xa0\\x95\\xeb\\xa6\\xac\\xed\\x95\\x98\\xeb\\x8a\\x94 \\xea\\xb8\\xb0\\xed\\x9a\\x8d\\xec\\x9e\\x90\\xea\\xb0\\x80 \\xeb\\x90\\x98\\xea\\xb8\\xb8\\xe2\\x80\\x9d\" width=\"170\" height=\"114\" onerror=\"this.outerHTML=\\'<span class=\\\\\\'pm_noimg\\\\\\'><span class=\\\\\\'noimg_text\\\\\\'>\\xec\\x9d\\xb4\\xeb\\xaf\\xb8\\xec\\xa7\\x80 \\xec\\xa4\\x80\\xeb\\xb9\\x84\\xec\\xa4\\x91</span></span>\\'\">\\n\\t\\t\\t\\t\\t\\t<span class=\"thumb_bd\"></span>\\n                        \\n\\t\\t\\t\\t\\t</a>\\n\\t\\t\\t\\t\\t<a href=\"https://post.naver.com/viewer/postView.naver?volumeNo&#x3D;33036532&amp;memberNo&#x3D;34059480&amp;navigationType&#x3D;push\" class=\"theme_info\" data-clk=\"tcc_gam.list8cont5\" target=\"_blank\">\\n\\t\\t\\t\\t\\t\\t<em class=\"theme_category\"> \\xea\\xb2\\x8c\\xec\\x9e\\x84</em>\\n\\t\\t\\t\\t\\t\\t<strong class=\"title elss\">\\xe2\\x80\\x98\\xec\\x84\\x9c\\xeb\\x93\\xa0\\xec\\x96\\xb4\\xed\\x83\\x9d\\xe2\\x80\\x99 \\xea\\xb8\\xb0\\xed\\x9a\\x8d\\xed\\x8c\\x80\\xec\\x9e\\xa5\\xec\\x9d\\x98 \\xec\\xa1\\xb0\\xec\\x96\\xb8, \\xe2\\x80\\x9c\\xea\\xb2\\x8c\\xec\\x9e\\x84\\xec\\x9d\\x84 \\xec\\x82\\xac\\xeb\\x9e\\x91\\xed\\x95\\x98\\xea\\xb3\\xa0 \\xec\\x83\\x9d\\xea\\xb0\\x81\\xec\\x9d\\x84 \\xec\\xa0\\x95\\xeb\\xa6\\xac\\xed\\x95\\x98\\xeb\\x8a\\x94 \\xea\\xb8\\xb0\\xed\\x9a\\x8d\\xec\\x9e\\x90\\xea\\xb0\\x80 \\xeb\\x90\\x98\\xea\\xb8\\xb8\\xe2\\x80\\x9d</strong>\\n                        <p class=\"desc\">\\xe2\\x80\\x98\\xec\\x84\\x9c\\xeb\\x93\\xa0\\xec\\x96\\xb4\\xed\\x83\\x9d\\xe2\\x80\\x99\\xec\\x9d\\x80 \\xec\\xa7\\x80\\xeb\\x82\\x9c 2005\\xeb\\x85\\x84 8\\xec\\x9b\\x94\\xec\\x97\\x90 \\xec\\xb6\\x9c\\xec\\x8b\\x9c\\xeb\\x90\\x98\\xec\\x96\\xb4 \\xed\\x98\\x84\\xec\\x9e\\xac\\xea\\xb9\\x8c\\xec\\xa7\\x80 16\\xeb\\x85\\x84\\xec\\xa7\\xb8 \\xec\\x84\\x9c\\xeb\\xb9\\x84\\xec\\x8a\\xa4\\xeb\\xa5\\xbc \\xec\\x9d\\xb4\\xec\\x96\\xb4\\xec\\x98\\xa4\\xea\\xb3\\xa0 \\xec\\x9e\\x88\\xeb\\x8a\\x94 \\xec\\x9e\\xa5\\xec\\x88\\x98 FPS \\xea\\xb2\\x8c\\xec\\x9e\\x84 \\xec\\xa4\\x91 \\xed\\x95\\x98\\xeb\\x82\\x98\\xeb\\x8b\\xa4. \\xeb\\xb9\\x84\\xec\\x8a\\xb7\\xed\\x95\\x9c \\xec\\x8b\\x9c\\xea\\xb8\\xb0\\xec\\x97\\x90 \\xe2\\x80\\x98\\xed\\x81\\xac\\xeb\\xa1\\x9c\\xec\\x8a\\xa4\\xed\\x8c\\x8c\\xec\\x9d\\xb4\\xec\\x96\\xb4\\xe2\\x80\\x99, \\xe2\\x80\\x98\\xec\\x8a\\xa4\\xed\\x8e\\x98\\xec\\x85\\x9c\\xed\\x8f\\xac\\xec\\x8a\\xa4\\xe2\\x80\\x99, \\xe2\\x80\\x98\\xec\\x95\\x84\\xeb\\xb0\\x94\\xe2\\x80\\x99 \\xeb\\x93\\xb1 \\xea\\xb2\\xbd\\xec\\x9f\\x81 \\xea\\xb2\\x8c\\xec\\x9e\\x84\\xec\\x9d\\xb4 \\xec\\x9e\\x88\\xec\\x97\\x88\\xec\\xa7\\x80\\xeb\\xa7\\x8c, \\xed\\x98\\x84\\xec\\x9e\\xac \\xea\\xb8\\xb0\\xec\\xa4\\x80\\xec\\x9c\\xbc\\xeb\\xa1\\xa0 \\xea\\xb5\\xad\\xeb\\x82\\xb4\\xec\\x97\\x90\\xec\\x84\\xa0 \\xec\\x84\\x9c\\xeb\\xb9\\x84\\xec\\x8a\\xa4 \\xeb\\xaa\\x85\\xeb\\xa7\\xa5\\xec\\x9d\\x84 \\xec\\x9c\\xa0\\xec\\xa7\\x80\\xed\\x95\\x98\\xeb\\x8a\\x94 \\xec\\x88\\x98\\xec\\xa4\\x80\\xec\\x9d\\xb4\\xeb\\x8b\\xa4. \\xec\\x9d\\xb4\\xed\\x9b\\x84 &amp;lsq</p>\\n\\t\\t\\t\\t\\t\\t<div class=\"source_box\">\\n\\t\\t\\t\\t\\t\\t\\t<span class=\"date\">1\\xec\\xa3\\xbc\\xec\\x9d\\xbc \\xec\\xa0\\x84</span>\\n\\t\\t\\t\\t\\t\\t\\t<span class=\"source\">\\n                                \\n                                <span class=\"source_inner\">GAMEVU</span>\\n                            </span>\\n\\t\\t\\t\\t\\t\\t</div>\\n\\t\\t\\t\\t\\t</a>\\n\\t\\t\\t\\t</li>\\n\\t\\t\\t\\n\\t\\t</ul>\\n\\t</div>\\n</div>\\n<div class=\"group_theme\" data-block-id=\"\" data-block-code=\"PC-THEME-GAMEAPP-MOBILE-RANKING-DEFAULT-8\" data-block-type=\"MATERIALS\" data-template-code=\"MOBILE-RANKING-LIST\"\\n\\n\\t data-da=\"container\"\\n\\t data-index=\"\"\\n     data-page=\"5\"\\n\\t style=\"display:none\">\\n\\n\\t<div class=\"list_theme_wrap\">\\n\\t\\t<ul class=\"list_theme\">\\n\\t\\t\\t\\n\\t\\t\\t\\t<li class=\"theme_item\" data-gdid=\"CAS_617fbb82-69e9-11ec-9428-7bb5d6f2f34b\" data-da-position=\"true\">\\n\\t\\t\\t\\t\\t<a href=\"https://post.naver.com/viewer/postView.naver?volumeNo&#x3D;33033101&amp;memberNo&#x3D;11710666\" class=\"theme_thumb\" data-clk=\"tcc_gam.list9cont1\" target=\"_blank\">\\n\\t\\t\\t\\t\\t\\t<img  data-src=\"https://s.pstatic.net/dthumb.phinf/?src&#x3D;%22https%3A%2F%2Fs.pstatic.net%2Fstatic%2Fwww%2Fmobile%2Fedit%2F20211231_1095%2Fupload_1640929589287IUWie.png%22&amp;type&#x3D;nf340_228\" alt=\"&#x27;\\xeb\\xa9\\x94\\xea\\xb0\\x80 \\xeb\\x85\\xb9\\xeb\\x8b\\xa4\\xec\\x9a\\xb4&#x27;, \\xed\\x94\\xbc\\xec\\xa7\\x80\\xec\\xbb\\xac \\xed\\x95\\x84\\xec\\x9a\\x94 \\xec\\x97\\x86\\xeb\\x8a\\x94 \\xed\\x84\\xb4 \\xeb\\xb0\\xa9\\xec\\x8b\\x9d \\xea\\xb2\\xa9\\xed\\x88\\xac\\xea\\xb2\\x8c\\xec\\x9e\\x84\" width=\"170\" height=\"114\" onerror=\"this.outerHTML=\\'<span class=\\\\\\'pm_noimg\\\\\\'><span class=\\\\\\'noimg_text\\\\\\'>\\xec\\x9d\\xb4\\xeb\\xaf\\xb8\\xec\\xa7\\x80 \\xec\\xa4\\x80\\xeb\\xb9\\x84\\xec\\xa4\\x91</span></span>\\'\">\\n\\t\\t\\t\\t\\t\\t<span class=\"thumb_bd\"></span>\\n                        \\n\\t\\t\\t\\t\\t</a>\\n\\t\\t\\t\\t\\t<a href=\"https://post.naver.com/viewer/postView.naver?volumeNo&#x3D;33033101&amp;memberNo&#x3D;11710666\" class=\"theme_info\" data-clk=\"tcc_gam.list9cont1\" target=\"_blank\">\\n\\t\\t\\t\\t\\t\\t<em class=\"theme_category\"> \\xea\\xb2\\x8c\\xec\\x9e\\x84</em>\\n\\t\\t\\t\\t\\t\\t<strong class=\"title elss\">\\'\\xeb\\xa9\\x94\\xea\\xb0\\x80 \\xeb\\x85\\xb9\\xeb\\x8b\\xa4\\xec\\x9a\\xb4\\', \\xed\\x94\\xbc\\xec\\xa7\\x80\\xec\\xbb\\xac \\xed\\x95\\x84\\xec\\x9a\\x94 \\xec\\x97\\x86\\xeb\\x8a\\x94 \\xed\\x84\\xb4 \\xeb\\xb0\\xa9\\xec\\x8b\\x9d \\xea\\xb2\\xa9\\xed\\x88\\xac\\xea\\xb2\\x8c\\xec\\x9e\\x84</strong>\\n                        <p class=\"desc\">\\xec\\x89\\xb4 \\xec\\x83\\x88 \\xec\\x97\\x86\\xec\\x9d\\xb4 \\xea\\xb3\\xb5\\xeb\\xb0\\xa9\\xec\\x9d\\xb4 \\xec\\x98\\xa4\\xea\\xb3\\xa0 \\xea\\xb0\\x80\\xeb\\x8a\\x94 \\xec\\x86\\x8d\\xeb\\x8f\\x84\\xea\\xb0\\x90 \\xec\\x9e\\x88\\xeb\\x8a\\x94 \\xec\\xa0\\x84\\xed\\x88\\xac\\xeb\\x8a\\x94 \\xea\\xb2\\xa9\\xed\\x88\\xac\\xea\\xb2\\x8c\\xec\\x9e\\x84\\xec\\x9d\\x98 \\xec\\x9e\\xac\\xeb\\xaf\\xb8 \\xec\\x9a\\x94\\xec\\x86\\x8c\\xec\\x9d\\xb4\\xec\\xa7\\x80\\xeb\\xa7\\x8c, \\xed\\x95\\x9c\\xed\\x8e\\xb8\\xec\\x9c\\xbc\\xeb\\xa1\\x9c\\xeb\\x8a\\x94 \\xec\\x8b\\xa0\\xea\\xb7\\x9c \\xec\\x9c\\xa0\\xec\\x9e\\x85\\xec\\x9d\\x84 \\xeb\\xa7\\x89\\xeb\\x8a\\x94 \\xec\\x9a\\x94\\xec\\x86\\x8c\\xec\\x9d\\xb4\\xea\\xb8\\xb0\\xeb\\x8f\\x84 \\xed\\x95\\xa9\\xeb\\x8b\\x88\\xeb\\x8b\\xa4. \\xec\\x8b\\xa4\\xec\\xa0\\x9c\\xeb\\xa1\\x9c \\xec\\x95\\x84\\xeb\\xac\\xb4\\xeb\\xa6\\xac \\xec\\x9c\\xa0\\xec\\x9a\\xa9\\xed\\x95\\x9c \\xea\\xb3\\xb5\\xea\\xb2\\xa9 \\xea\\xb8\\xb0\\xec\\x88\\xa0\\xec\\x9d\\xb4\\xeb\\x9d\\xbc\\xeb\\x8f\\x84 \\xec\\xa0\\x81\\xec\\xa0\\x88\\xed\\x95\\x9c \\xec\\x8b\\x9c\\xec\\xa0\\x90\\xec\\x97\\x90 \\xec\\x82\\xac\\xec\\x9a\\xa9\\xed\\x95\\x98\\xec\\xa7\\x80 \\xec\\x95\\x8a\\xec\\x9c\\xbc\\xeb\\xa9\\xb4 \\xec\\x83\\x81\\xeb\\x8c\\x80\\xeb\\xa5\\xbc \\xea\\xb3\\xb5\\xea\\xb2\\xa9\\xed\\x95\\x98\\xec\\xa7\\x80 \\xeb\\xaa\\xbb\\xed\\x95\\xa9\\xeb\\x8b\\x88\\xeb\\x8b\\xa4. \\xea\\xb2\\xa9\\xed\\x88\\xac\\xea\\xb2\\x8c\\xec\\x9e\\x84\\xec\\x9d\\x84 \\xeb\\xa7\\x89 \\xec\\x8b\\x9c\\xec\\x9e\\x91\\xed\\x95\\x98\\xeb\\x8a\\x94 \\xea\\xb2\\x8c\\xec\\x9d\\xb4\\xeb\\xa8\\xb8\\xec\\x97\\x90\\xea\\xb2\\x8c\\xeb\\x8a\\x94 &#x27;\\xec\\x9d\\xb4 \\xec\\xba\\x90\\xeb\\xa6\\xad\\xed\\x84\\xb0\\xeb\\x8a\\x94 \\xec\\x9d\\xb4 \\xea\\xb8\\xb0\\xec\\x88\\xa0\\xeb\\xa7\\x8c \\xec\\x93\\xb0\\xeb\\xa9\\xb4 \\xeb\\x90\\xa8&#x27;\\xea\\xb3\\xbc \\xea\\xb0\\x99\\xec\\x9d\\x80 \\xec\\xa1\\xb0\\xec\\x96\\xb8\\xeb\\x8f\\x84 \\xec\\x88\\x9c\\xec\\xa0\\x84\\xed\\x9e\\x88 \\xea\\xb2\\xa9\\xed\\x88\\xac\\xea\\xb2\\x8c\\xec\\x9d\\xb4\\xeb\\xa8\\xb8 \\xec\\x9e\\x85\\xec\\x9e\\xa5\\xec\\x97\\x90\\xec\\x84\\x9c\\xeb\\xa7\\x8c \\xec\\x83\\x9d\\xea\\xb0\\x81\\xed\\x95\\x9c \\xec\\x9d\\xb4\\xec\\x95\\xbc\\xea\\xb8\\xb0\\xeb\\x9d\\xbc\\xeb\\x8a\\x94 \\xea\\xb2\\x83\\xec\\x9d\\xb4</p>\\n\\t\\t\\t\\t\\t\\t<div class=\"source_box\">\\n\\t\\t\\t\\t\\t\\t\\t<span class=\"date\">1\\xec\\xa3\\xbc\\xec\\x9d\\xbc \\xec\\xa0\\x84</span>\\n\\t\\t\\t\\t\\t\\t\\t<span class=\"source\">\\n                                \\n                                <span class=\"source_inner\">\\xea\\xb2\\x8c\\xec\\x9e\\x84\\xec\\x96\\xb4\\xeb\\xb0\\x94\\xec\\x9b\\x83</span>\\n                            </span>\\n\\t\\t\\t\\t\\t\\t</div>\\n\\t\\t\\t\\t\\t</a>\\n\\t\\t\\t\\t</li>\\n\\t\\t\\t\\n\\t\\t\\t\\t<li class=\"theme_item\" data-gdid=\"CAS_617fbb83-69e9-11ec-9428-b368aadabc43\" data-da-position=\"true\">\\n\\t\\t\\t\\t\\t<a href=\"https://post.naver.com/viewer/postView.naver?volumeNo&#x3D;33041010&amp;memberNo&#x3D;160403&amp;navigationType&#x3D;push\" class=\"theme_thumb\" data-clk=\"tcc_gam.list9cont2\" target=\"_blank\">\\n\\t\\t\\t\\t\\t\\t<img  data-src=\"https://s.pstatic.net/dthumb.phinf/?src&#x3D;%22https%3A%2F%2Fs.pstatic.net%2Fstatic%2Fwww%2Fmobile%2Fedit%2F20211231_1095%2Fupload_1640929621045PdeDS.png%22&amp;type&#x3D;nf340_228\" alt=\"2021\\xeb\\x85\\x84 \\xeb\\x81\\x97! &#x27;1\\xed\\x99\\x94\\xeb\\xa1\\x9c \\xeb\\x81\\x97! \\xea\\xb2\\x8c\\xec\\x9e\\x84\\xeb\\xa6\\xac\\xeb\\xb7\\xb0&#x27; \\xec\\x97\\xb0\\xeb\\xa7\\x90 \\xec\\xa0\\x95\\xec\\x82\\xb0\" width=\"170\" height=\"114\" onerror=\"this.outerHTML=\\'<span class=\\\\\\'pm_noimg\\\\\\'><span class=\\\\\\'noimg_text\\\\\\'>\\xec\\x9d\\xb4\\xeb\\xaf\\xb8\\xec\\xa7\\x80 \\xec\\xa4\\x80\\xeb\\xb9\\x84\\xec\\xa4\\x91</span></span>\\'\">\\n\\t\\t\\t\\t\\t\\t<span class=\"thumb_bd\"></span>\\n                        \\n\\t\\t\\t\\t\\t</a>\\n\\t\\t\\t\\t\\t<a href=\"https://post.naver.com/viewer/postView.naver?volumeNo&#x3D;33041010&amp;memberNo&#x3D;160403&amp;navigationType&#x3D;push\" class=\"theme_info\" data-clk=\"tcc_gam.list9cont2\" target=\"_blank\">\\n\\t\\t\\t\\t\\t\\t<em class=\"theme_category\"> \\xea\\xb2\\x8c\\xec\\x9e\\x84</em>\\n\\t\\t\\t\\t\\t\\t<strong class=\"title elss\">2021\\xeb\\x85\\x84 \\xeb\\x81\\x97! \\'1\\xed\\x99\\x94\\xeb\\xa1\\x9c \\xeb\\x81\\x97! \\xea\\xb2\\x8c\\xec\\x9e\\x84\\xeb\\xa6\\xac\\xeb\\xb7\\xb0\\' \\xec\\x97\\xb0\\xeb\\xa7\\x90 \\xec\\xa0\\x95\\xec\\x82\\xb0</strong>\\n                        <p class=\"desc\">2021\\xeb\\x85\\x84 \\xeb\\x81\\x97! [1\\xed\\x99\\x94\\xeb\\xa1\\x9c \\xeb\\x81\\x97! \\xea\\xb2\\x8c\\xec\\x9e\\x84\\xeb\\xa6\\xac\\xeb\\xb7\\xb0] \\xec\\x97\\xb0\\xeb\\xa7\\x90 \\xec\\xa0\\x95\\xec\\x82\\xb0 \\xec\\x95\\x88\\xeb\\x85\\x95\\xed\\x95\\x98\\xec\\x84\\xb8\\xec\\x9a\\x94 \\xed\\x81\\xac\\xeb\\xa1\\x9c\\xec\\x9d\\xb4\\xec\\xb3\\x90 \\xec\\x9e\\x85\\xeb\\x8b\\x88\\xeb\\x8b\\xa4. \\xeb\\x84\\xa4\\xec\\x9d\\xb4\\xeb\\xb2\\x84 \\xea\\xb2\\x8c\\xec\\x9e\\x84\\xed\\x8c\\x90\\xec\\x9d\\x84 \\xec\\x97\\xb0\\xec\\x9e\\xac\\xed\\x95\\x9c\\xec\\xa7\\x80\\xeb\\x8f\\x84. \\xec\\x95\\xbd 1\\xeb\\x85\\x84 8\\xea\\xb0\\x9c\\xec\\x9b\\x94 \\xec\\xa0\\x95\\xeb\\x8f\\x84 \\xec\\xa7\\x80\\xeb\\x82\\xac\\xeb\\x84\\xa4\\xec\\x9a\\x94. \\xea\\xb8\\xb8\\xeb\\x8b\\xa4\\xeb\\xa9\\xb4 \\xea\\xb8\\xb8\\xea\\xb3\\xa0, \\xec\\xa7\\xa7\\xeb\\x8b\\xa4\\xeb\\xa9\\xb4 \\xec\\xa7\\xa7\\xec\\x9d\\x80 \\xea\\xb7\\xb8\\xeb\\x9f\\xb0 \\xec\\x88\\x9c\\xea\\xb0\\x84\\xeb\\x93\\xa4\\xec\\x9d\\x84 \\xea\\xb8\\xb0\\xec\\x96\\xb5\\xed\\x95\\x98\\xea\\xb3\\xa0\\xec\\x9e\\x90 \\xec\\x9d\\xb4 \\xea\\xb8\\x80\\xec\\x9d\\x84 \\xeb\\x82\\xa8\\xea\\xb9\\x81\\xeb\\x8b\\x88\\xeb\\x8b\\xa4. \\xea\\xb2\\x8c\\xec\\x9e\\x84\\xeb\\x8f\\x84 \\xea\\xb7\\xb8\\xeb\\xa0\\x87\\xea\\xb3\\xa0, \\xec\\x84\\xb8\\xea\\xb0\\x84\\xeb\\x8f\\x84 \\xea\\xb7\\xb8\\xeb\\xa0\\x87\\xea\\xb3\\xa0. \\xeb\\x8b\\xa4\\xec\\x8b\\x9c\\xeb\\x8a\\x94 \\xeb\\x8f\\x8c\\xec\\x95\\x84\\xec\\x98\\xa4\\xec\\xa7\\x80 \\xec\\x95\\x8a\\xec\\x9d\\x84 \\xec\\x9d\\xb4\\xeb\\x82\\xa0\\xec\\x9d\\x84 \\xea\\xb8\\xb0\\xec\\x95\\xbd\\xed\\x95\\x98\\xeb\\xa9\\xb0. 2021\\xeb\\x85\\x84\\xeb\\x8f\\x84 1\\xec\\x9b\\x94 1\\xec\\x9d\\xbc~ 12\\xec\\x9b\\x94 28\\xec\\x9d\\xbc\\xec\\x9d\\x84 \\xea\\xb8\\xb0\\xec\\xa4\\x80\\xec\\x9c\\xbc\\xeb\\xa1\\x9c \\xec\\x9e\\x91\\xec\\x84\\xb1\\xed\\x95\\x9c \\xed\\x8f\\xac\\xec\\x8a\\xa4\\xed\\x8a\\xb8\\xeb\\xa5\\xbc \\xeb\\xaa\\x87 \\xea\\xb0\\x80\\xec\\xa7\\x80</p>\\n\\t\\t\\t\\t\\t\\t<div class=\"source_box\">\\n\\t\\t\\t\\t\\t\\t\\t<span class=\"date\">1\\xec\\xa3\\xbc\\xec\\x9d\\xbc \\xec\\xa0\\x84</span>\\n\\t\\t\\t\\t\\t\\t\\t<span class=\"source\">\\n                                \\n                                <span class=\"source_inner\">\\xed\\x81\\xac\\xeb\\xa1\\x9c\\xec\\x9d\\xb4\\xec\\xb3\\x90</span>\\n                            </span>\\n\\t\\t\\t\\t\\t\\t</div>\\n\\t\\t\\t\\t\\t</a>\\n\\t\\t\\t\\t</li>\\n\\t\\t\\t\\n\\t\\t\\t\\t<li class=\"theme_item\" data-gdid=\"CAS_d1490216-6947-11ec-b693-23ca11f99b74\" data-da-position=\"true\">\\n\\t\\t\\t\\t\\t<a href=\"https://post.naver.com/viewer/postView.naver?volumeNo&#x3D;32994585&amp;memberNo&#x3D;6272246\" class=\"theme_thumb\" data-clk=\"tcc_gam.list9cont3\" target=\"_blank\">\\n\\t\\t\\t\\t\\t\\t<img  data-src=\"https://s.pstatic.net/dthumb.phinf/?src&#x3D;%22https%3A%2F%2Fs.pstatic.net%2Fstatic%2Fwww%2Fmobile%2Fedit%2F20211230_1095%2Fupload_1640851908408bqd8H.jpg%22&amp;type&#x3D;nf340_228\" alt=\"&quot;\\xeb\\x84\\xa4 \\xed\\x94\\xbc\\xeb\\x8a\\x94 \\xeb\\x82\\xb4 \\xea\\xb1\\xb0\\xec\\x95\\xbc. \\xec\\x9e\\x8a\\xec\\xa7\\x80 \\xeb\\xa7\\x90\\xeb\\x9d\\xbc\\xea\\xb3\\xa0.&quot; \\xea\\xb0\\x80\\xeb\\x94\\x94\\xec\\x96\\xb8\\xed\\x85\\x8c\\xec\\x9d\\xbc\\xec\\xa6\\x88 \\xec\\xb9\\xb4\\xeb\\xa6\\xac\\xeb\\x82\\x98 \\xec\\xbd\\x94\\xec\\x8a\\xa4\\xed\\x94\\x84\\xeb\\xa0\\x88\" width=\"170\" height=\"114\" onerror=\"this.outerHTML=\\'<span class=\\\\\\'pm_noimg\\\\\\'><span class=\\\\\\'noimg_text\\\\\\'>\\xec\\x9d\\xb4\\xeb\\xaf\\xb8\\xec\\xa7\\x80 \\xec\\xa4\\x80\\xeb\\xb9\\x84\\xec\\xa4\\x91</span></span>\\'\">\\n\\t\\t\\t\\t\\t\\t<span class=\"thumb_bd\"></span>\\n                        \\n\\t\\t\\t\\t\\t</a>\\n\\t\\t\\t\\t\\t<a href=\"https://post.naver.com/viewer/postView.naver?volumeNo&#x3D;32994585&amp;memberNo&#x3D;6272246\" class=\"theme_info\" data-clk=\"tcc_gam.list9cont3\" target=\"_blank\">\\n\\t\\t\\t\\t\\t\\t<em class=\"theme_category\"> \\xea\\xb2\\x8c\\xec\\x9e\\x84</em>\\n\\t\\t\\t\\t\\t\\t<strong class=\"title elss\">\"\\xeb\\x84\\xa4 \\xed\\x94\\xbc\\xeb\\x8a\\x94 \\xeb\\x82\\xb4 \\xea\\xb1\\xb0\\xec\\x95\\xbc. \\xec\\x9e\\x8a\\xec\\xa7\\x80 \\xeb\\xa7\\x90\\xeb\\x9d\\xbc\\xea\\xb3\\xa0.\" \\xea\\xb0\\x80\\xeb\\x94\\x94\\xec\\x96\\xb8\\xed\\x85\\x8c\\xec\\x9d\\xbc\\xec\\xa6\\x88 \\xec\\xb9\\xb4\\xeb\\xa6\\xac\\xeb\\x82\\x98 \\xec\\xbd\\x94\\xec\\x8a\\xa4\\xed\\x94\\x84\\xeb\\xa0\\x88</strong>\\n                        <p class=\"desc\">\\xec\\x95\\x88\\xeb\\x85\\x95\\xed\\x95\\x98\\xec\\x84\\xb8\\xec\\x9a\\x94. RZ COS\\xec\\x9e\\x85\\xeb\\x8b\\x88\\xeb\\x8b\\xa4. \\xec\\x9d\\xb4\\xeb\\xb2\\x88 \\xec\\xa3\\xbc RZ COS \\xed\\x8f\\xac\\xec\\x8a\\xa4\\xed\\x8a\\xb8\\xeb\\x8a\\x94 \\xea\\xb0\\x80\\xeb\\x94\\x94\\xec\\x96\\xb8 \\xed\\x85\\x8c\\xec\\x9d\\xbc\\xec\\xa6\\x88 \\xec\\xb9\\xb4\\xeb\\xa6\\xac\\xeb\\x82\\x98 \\xec\\xbd\\x94\\xec\\x8a\\xa4\\xed\\x94\\x84\\xeb\\xa0\\x88\\xeb\\xa1\\x9c \\xec\\x9d\\xb8\\xec\\x82\\xac\\xeb\\x93\\x9c\\xeb\\xa6\\xbd\\xeb\\x8b\\x88\\xeb\\x8b\\xa4!\\xea\\xb0\\x80\\xeb\\x94\\x94\\xec\\x96\\xb8 \\xed\\x85\\x8c\\xec\\x9d\\xbc\\xec\\xa6\\x88 GUARDIAN TALES\\xeb\\xa7\\x9d\\xea\\xb5\\xad\\xec\\x9d\\x98 \\xea\\xb3\\xb5\\xec\\xa3\\xbc\\xec\\x99\\x80 \\xec\\x8b\\xa0\\xec\\xb0\\xb8 \\xea\\xb8\\xb0\\xec\\x82\\xac\\xea\\xb0\\x80 \\xec\\xa0\\x84\\xec\\x84\\xa4\\xec\\x9d\\x98 \\xea\\xb2\\x80\\xec\\x9d\\x84 \\xec\\xb0\\xbe\\xec\\x95\\x84 \\xeb\\x96\\xa0\\xeb\\x82\\x98\\xeb\\x8a\\x94 \\xeb\\xaa\\xa8\\xed\\x97\\x98. \\xec\\x9a\\xa9\\xec\\x82\\xac \\xec\\xbc\\x80\\xec\\x9d\\xb4\\xeb\\x93\\xa0\\xec\\x9d\\xb4 \\xec\\x84\\xb8\\xec\\x83\\x81\\xec\\x9d\\x84 \\xea\\xb5\\xac\\xed\\x95\\x98\\xea\\xb3\\xa0, 500\\xeb\\x85\\x84\\xec\\x9d\\xb4 \\xed\\x9d\\x98\\xeb\\xa0\\x80\\xeb\\x8b\\xa4. \\xeb\\xa7\\x88\\xec\\x99\\x95\\xec\\x9d\\x98 \\xec\\x86\\x90\\xec\\x97\\x90 \\xeb\\x96\\xa8\\xec\\x96\\xb4\\xec\\xa1\\x8c\\xeb\\x8d\\x98 \\xec\\xba\\x94\\xed\\x84\\xb0\\xeb\\xb2\\xa0\\xeb\\xa6\\xac \\xec\\x99\\x95\\xea\\xb5\\xad\\xeb\\x8f\\x84 \\xec\\xa0\\x90\\xec\\xa0\\x90 \\xeb\\xb3\\xb8\\xeb\\x9e\\x98\\xec\\x9d\\x98 \\xeb\\xaa\\xa8\\xec\\x8a\\xb5\\xec\\x9d\\x84 \\xeb\\x90\\x98\\xec\\xb0\\xbe\\xec\\x95\\x84 \\xea\\xb0\\x94\\xeb\\x8b\\xa4. \\xed\\x95\\x98\\xec\\xa7\\x80\\xeb\\xa7\\x8c \\xed\\x8f\\x89\\xed\\x99\\x94\\xec\\x9d\\x98 \\xec\\x88\\x9c\\xea\\xb0\\x84\\xeb\\x8f\\x84 \\xec\\x9e\\xa0\\xec\\x8b\\x9c, \\xec\\xa0\\x95</p>\\n\\t\\t\\t\\t\\t\\t<div class=\"source_box\">\\n\\t\\t\\t\\t\\t\\t\\t<span class=\"date\">1\\xec\\xa3\\xbc\\xec\\x9d\\xbc \\xec\\xa0\\x84</span>\\n\\t\\t\\t\\t\\t\\t\\t<span class=\"source\">\\n                                \\n                                <span class=\"source_inner\">RZ COS</span>\\n                            </span>\\n\\t\\t\\t\\t\\t\\t</div>\\n\\t\\t\\t\\t\\t</a>\\n\\t\\t\\t\\t</li>\\n\\t\\t\\t\\n\\t\\t\\t\\t<li class=\"theme_item\" data-gdid=\"CAS_d1490219-6947-11ec-b693-377cce85307b\" data-da-position=\"true\">\\n\\t\\t\\t\\t\\t<a href=\"https://post.naver.com/viewer/postView.naver?volumeNo&#x3D;32989405&amp;memberNo&#x3D;16857771\" class=\"theme_thumb\" data-clk=\"tcc_gam.list9cont4\" target=\"_blank\">\\n\\t\\t\\t\\t\\t\\t<img  data-src=\"https://s.pstatic.net/dthumb.phinf/?src&#x3D;%22https%3A%2F%2Fs.pstatic.net%2Fstatic%2Fwww%2Fmobile%2Fedit%2F20211230_1095%2Fupload_1640852132359F2X21.jpg%22&amp;type&#x3D;nf340_228\" alt=\"21&#x27; BEST \\xeb\\xac\\xb4\\xeb\\xa3\\x8c\\xea\\xb2\\x8c\\xec\\x9e\\x84&amp;NEW \\xec\\x9c\\xa0\\xeb\\xa3\\x8c\\xea\\xb2\\x8c\\xec\\x9e\\x84\" width=\"170\" height=\"114\" onerror=\"this.outerHTML=\\'<span class=\\\\\\'pm_noimg\\\\\\'><span class=\\\\\\'noimg_text\\\\\\'>\\xec\\x9d\\xb4\\xeb\\xaf\\xb8\\xec\\xa7\\x80 \\xec\\xa4\\x80\\xeb\\xb9\\x84\\xec\\xa4\\x91</span></span>\\'\">\\n\\t\\t\\t\\t\\t\\t<span class=\"thumb_bd\"></span>\\n                        \\n\\t\\t\\t\\t\\t</a>\\n\\t\\t\\t\\t\\t<a href=\"https://post.naver.com/viewer/postView.naver?volumeNo&#x3D;32989405&amp;memberNo&#x3D;16857771\" class=\"theme_info\" data-clk=\"tcc_gam.list9cont4\" target=\"_blank\">\\n\\t\\t\\t\\t\\t\\t<em class=\"theme_category\"> \\xea\\xb2\\x8c\\xec\\x9e\\x84</em>\\n\\t\\t\\t\\t\\t\\t<strong class=\"title elss\">21\\' BEST \\xeb\\xac\\xb4\\xeb\\xa3\\x8c\\xea\\xb2\\x8c\\xec\\x9e\\x84&NEW \\xec\\x9c\\xa0\\xeb\\xa3\\x8c\\xea\\xb2\\x8c\\xec\\x9e\\x84</strong>\\n                        <p class=\"desc\">\\xec\\x97\\x90\\xed\\x94\\xbd\\xea\\xb2\\x8c\\xec\\x9e\\x84\\xec\\xa6\\x88 \\xec\\x8a\\xa4\\xed\\x86\\xa0\\xec\\x96\\xb4\\xea\\xb0\\x80 \\xec\\xb2\\xab \\xec\\xb6\\x9c\\xeb\\xb2\\x94\\xed\\x95\\x9c \\xec\\x9d\\xb4\\xed\\x9b\\x84 \\xec\\xa7\\x80\\xea\\xb8\\x88\\xea\\xb9\\x8c\\xec\\xa7\\x80 \\xec\\x9d\\xb4\\xec\\x9a\\xa9\\xed\\x95\\xb4\\xec\\x98\\xa8 \\xeb\\xb6\\x84\\xeb\\x93\\xa4\\xec\\x9d\\xb4 \\xea\\xb3\\x84\\xec\\x8b\\x9c\\xeb\\x8b\\xa4\\xeb\\xa9\\xb4, &#x27;\\xea\\xb2\\x8c\\xec\\x9e\\x84 \\xec\\x88\\x98\\xec\\xa7\\x91\\xea\\xb0\\x80&#x27; \\xec\\xb9\\xad\\xed\\x98\\xb8 \\xed\\x95\\x98\\xeb\\x82\\x98\\xec\\xaf\\xa4\\xec\\x9d\\x80 \\xed\\x9a\\x8d\\xeb\\x93\\x9d\\xed\\x95\\x98\\xec\\x85\\xa8\\xec\\x9c\\xbc\\xeb\\xa6\\xac\\xeb\\x9d\\xbc \\xec\\x83\\x9d\\xea\\xb0\\x81\\xec\\x9d\\xb4 \\xeb\\x93\\xad\\xeb\\x8b\\x88\\xeb\\x8b\\xa4. \\xec\\xa0\\x80 \\xec\\x97\\xad\\xec\\x8b\\x9c 2\\xeb\\x85\\x84 \\xea\\xb0\\x80\\xea\\xb9\\x8c\\xec\\x9d\\xb4 \\xec\\x9d\\xb4\\xec\\x9a\\xa9\\xed\\x95\\xb4\\xec\\x98\\xa4\\xea\\xb3\\xa0 \\xec\\x9e\\x88\\xeb\\x8a\\x94\\xeb\\x8d\\xb0, \\xec\\x86\\x94\\xec\\xa7\\x81\\xed\\x9e\\x88 \\xeb\\xa7\\x90\\xec\\x94\\x80\\xeb\\x93\\x9c\\xeb\\xa6\\xac\\xeb\\xa9\\xb4 \\xeb\\x82\\xb4\\xeb\\x8f\\x88\\xeb\\x82\\xb4\\xec\\x82\\xb0 \\xea\\xb5\\xac\\xeb\\xa7\\xa4\\xed\\x95\\x9c \\xea\\xb2\\x8c\\xec\\x9e\\x84\\xeb\\x93\\xa4\\xeb\\xb3\\xb4\\xeb\\x8b\\xa4 \\xeb\\xac\\xb4\\xeb\\xa3\\x8c\\xeb\\xa1\\x9c \\xeb\\xb0\\x9b\\xec\\x9d\\x80 \\xea\\xb2\\x8c\\xec\\x9e\\x84\\xeb\\x93\\xa4\\xec\\x9d\\xb4 \\xeb\\xb0\\xb0\\xeb\\x8a\\x94 \\xeb\\x8d\\x94 \\xeb\\xa7\\x8e\\xec\\x8a\\xb5\\xeb\\x8b\\x88\\xeb\\x8b\\xa4. \\xea\\xbe\\xb8\\xec\\xa4\\x80\\xed\\x9e\\x88 \\xeb\\xb0\\x9b\\xec\\x95\\x84\\xeb\\x86\\x93\\xeb\\x8b\\xa4\\xeb\\xb3\\xb4\\xeb\\xa9\\xb4 &#x27;\\xec\\x9d\\xb4\\xea\\xb1\\xb8 \\xec\\x96\\xb8\\xec\\xa0\\x9c \\xeb\\x8b\\xa4\\xed\\x95\\xb4\\xeb\\xb3\\xb4\\xeb\\x82\\x98&#x27; \\xec\\x9d\\xb4\\xeb\\x94\\xb0\\xea\\xb8\\x88\\xec\\x94\\xa9 \\xed\\x96\\x89\\xeb\\xb3\\xb5\\xed\\x95\\x9c \\xea\\xb3\\xa0\\xeb\\xaf\\xbc\\xec\\x97\\x90 \\xeb\\xb9\\xa0\\xec\\xa7\\x80\\xea\\xb3\\xa4 \\xed\\x95\\xa9\\xeb\\x8b\\x88\\xeb\\x8b\\xa4. \\xeb\\xac\\xb4\\xeb\\xa3\\x8c \\xea\\xb3\\xa0\\xeb\\xb4\\x89\\xeb\\xb0\\xa5\\xec\\x9d\\x84 \\xeb\\xa7\\xa4</p>\\n\\t\\t\\t\\t\\t\\t<div class=\"source_box\">\\n\\t\\t\\t\\t\\t\\t\\t<span class=\"date\">2\\xec\\xa3\\xbc\\xec\\x9d\\xbc \\xec\\xa0\\x84</span>\\n\\t\\t\\t\\t\\t\\t\\t<span class=\"source\">\\n                                \\n                                <span class=\"source_inner\">G\\xec\\xa1\\xb0\\xec\\xbb\\xa4</span>\\n                            </span>\\n\\t\\t\\t\\t\\t\\t</div>\\n\\t\\t\\t\\t\\t</a>\\n\\t\\t\\t\\t</li>\\n\\t\\t\\t\\n\\t\\t\\t\\t<li class=\"theme_item\" data-gdid=\"CAS_d1490217-6947-11ec-b693-113caa660908\" data-da-position=\"true\">\\n\\t\\t\\t\\t\\t<a href=\"https://post.naver.com/viewer/postView.naver?volumeNo&#x3D;33036081&amp;memberNo&#x3D;31380582\" class=\"theme_thumb\" data-clk=\"tcc_gam.list9cont5\" target=\"_blank\">\\n\\t\\t\\t\\t\\t\\t<img  data-src=\"https://s.pstatic.net/dthumb.phinf/?src&#x3D;%22https%3A%2F%2Fs.pstatic.net%2Fstatic%2Fwww%2Fmobile%2Fedit%2F20211230_1095%2Fupload_1640851973384XSPuj.jpg%22&amp;type&#x3D;nf340_228\" alt=\"\\xed\\x99\\x94\\xec\\xa0\\x9c\\xec\\x99\\x80 \\xea\\xb8\\xb0\\xeb\\x8c\\x80\\xea\\xb0\\x90 \\xeb\\xaa\\xa8\\xeb\\x91\\x90 \\xec\\x9e\\xa1\\xec\\x9d\\x80 \\xe2\\x80\\x98\\xeb\\xa1\\x9c\\xec\\x95\\x84-\\xeb\\x8d\\x98\\xed\\x8c\\x8c\\xe2\\x80\\x99\\xec\\x9d\\x98 \\xec\\x87\\xbc\\xec\\xbc\\x80\\xec\\x9d\\xb4\\xec\\x8a\\xa4\" width=\"170\" height=\"114\" onerror=\"this.outerHTML=\\'<span class=\\\\\\'pm_noimg\\\\\\'><span class=\\\\\\'noimg_text\\\\\\'>\\xec\\x9d\\xb4\\xeb\\xaf\\xb8\\xec\\xa7\\x80 \\xec\\xa4\\x80\\xeb\\xb9\\x84\\xec\\xa4\\x91</span></span>\\'\">\\n\\t\\t\\t\\t\\t\\t<span class=\"thumb_bd\"></span>\\n                        \\n\\t\\t\\t\\t\\t</a>\\n\\t\\t\\t\\t\\t<a href=\"https://post.naver.com/viewer/postView.naver?volumeNo&#x3D;33036081&amp;memberNo&#x3D;31380582\" class=\"theme_info\" data-clk=\"tcc_gam.list9cont5\" target=\"_blank\">\\n\\t\\t\\t\\t\\t\\t<em class=\"theme_category\"> \\xea\\xb2\\x8c\\xec\\x9e\\x84</em>\\n\\t\\t\\t\\t\\t\\t<strong class=\"title elss\">\\xed\\x99\\x94\\xec\\xa0\\x9c\\xec\\x99\\x80 \\xea\\xb8\\xb0\\xeb\\x8c\\x80\\xea\\xb0\\x90 \\xeb\\xaa\\xa8\\xeb\\x91\\x90 \\xec\\x9e\\xa1\\xec\\x9d\\x80 \\xe2\\x80\\x98\\xeb\\xa1\\x9c\\xec\\x95\\x84-\\xeb\\x8d\\x98\\xed\\x8c\\x8c\\xe2\\x80\\x99\\xec\\x9d\\x98 \\xec\\x87\\xbc\\xec\\xbc\\x80\\xec\\x9d\\xb4\\xec\\x8a\\xa4</strong>\\n                        <p class=\"desc\">\\xe2\\x80\\x98\\xea\\xb2\\x8c\\xec\\x9e\\x84\\xed\\x95\\xa0 \\xeb\\x95\\x90! \\xea\\xb5\\xad\\xeb\\xaf\\xbc\\xed\\x8a\\xb8\\xeb\\xa6\\xac\\xe2\\x80\\x99\\xec\\x9d\\x98 2021\\xeb\\x85\\x84 12\\xec\\x9b\\x94 5\\xec\\xa3\\xbc\\xec\\xb0\\xa8 \\xeb\\xb9\\x85\\xeb\\x8d\\xb0\\xec\\x9d\\xb4\\xed\\x84\\xb0 \\xea\\xb2\\x8c\\xec\\x9e\\x84\\xec\\x88\\x9c\\xec\\x9c\\x84\\xec\\x9e\\x85\\xeb\\x8b\\x88\\xeb\\x8b\\xa4. \\xea\\xb5\\xad\\xeb\\xaf\\xbc\\xed\\x8a\\xb8\\xeb\\xa6\\xac\\xeb\\x8a\\x94 \\xeb\\xa7\\xa4\\xec\\xa3\\xbc \\xeb\\x84\\xa4\\xec\\x9d\\xb4\\xeb\\xb2\\x84\\xec\\x99\\x80 \\xea\\xb5\\xac\\xea\\xb8\\x80\\xec\\x9d\\x84 \\xeb\\xb9\\x84\\xeb\\xa1\\xaf\\xed\\x95\\x9c \\xed\\x8f\\xac\\xed\\x84\\xb8 \\xec\\x82\\xac\\xec\\x9d\\xb4\\xed\\x8a\\xb8\\xec\\x9d\\x98 \\xea\\xb2\\x80\\xec\\x83\\x89 \\xeb\\xb9\\x85\\xeb\\x8d\\xb0\\xec\\x9d\\xb4\\xed\\x84\\xb0\\xeb\\xa1\\x9c \\xea\\xb2\\x8c\\xec\\x9e\\x84 \\xec\\x88\\x9c\\xec\\x9c\\x84\\xeb\\xa5\\xbc \\xec\\xa0\\x9c\\xea\\xb3\\xb5\\xed\\x95\\xa9\\xeb\\x8b\\x88\\xeb\\x8b\\xa4. \\xec\\x9d\\xb4\\xeb\\xb2\\x88 \\xec\\xa3\\xbc\\xec\\x97\\x90\\xeb\\x8a\\x94 \\xea\\xb2\\x8c\\xec\\x9d\\xb4\\xeb\\xa8\\xb8\\xeb\\x93\\xa4\\xec\\x9d\\xb4 \\xec\\x96\\xb4\\xeb\\x96\\xa4 \\xea\\xb2\\x8c\\xec\\x9e\\x84\\xec\\x9d\\x98 \\xec\\xa0\\x95\\xeb\\xb3\\xb4\\xeb\\xa5\\xbc \\xeb\\xa7\\x8e\\xec\\x9d\\xb4 \\xec\\xb0\\xbe\\xec\\x95\\x84\\xeb\\xb3\\xb4\\xec\\x95\\x98\\xeb\\x8a\\x94\\xec\\xa7\\x80 \\xed\\x99\\x95\\xec\\x9d\\xb8\\xed\\x95\\xb4 \\xeb\\xb3\\xb4\\xec\\x8b\\x9c\\xea\\xb8\\xb0 \\xeb\\xb0\\x94\\xeb\\x9e\\x8d\\xeb\\x8b\\x88\\xeb\\x8b\\xa4.\\xeb\\xaa\\xa8\\xeb\\xb0\\x94\\xec\\x9d\\xbc \\xe2\\x80\\x93 \\xec\\x9e\\xa0\\xec\\x9e\\xa0\\xed\\x95\\x98\\xea\\xb2\\x8c \\xed\\x95\\x9c \\xed\\x95\\xb4 \\xeb\\xa7\\x88\\xeb\\xac\\xb4\\xeb\\xa6\\xac\\xec\\x95\\x88\\xeb\\x85\\x95\\xed\\x95\\x98\\xec\\x84\\xb8\\xec\\x9a\\x94. 2021\\xeb\\x85\\x84\\xec\\x9d\\x98 \\xeb\\xa7\\x88\\xec\\xa7\\x80\\xeb\\xa7\\x89 \\xec\\xa3\\xbc\\xea\\xb0\\x84 </p>\\n\\t\\t\\t\\t\\t\\t<div class=\"source_box\">\\n\\t\\t\\t\\t\\t\\t\\t<span class=\"date\">1\\xec\\xa3\\xbc\\xec\\x9d\\xbc \\xec\\xa0\\x84</span>\\n\\t\\t\\t\\t\\t\\t\\t<span class=\"source\">\\n                                \\n                                <span class=\"source_inner\">\\xea\\xb5\\xad\\xeb\\xaf\\xbc\\xed\\x8a\\xb8\\xeb\\xa6\\xac</span>\\n                            </span>\\n\\t\\t\\t\\t\\t\\t</div>\\n\\t\\t\\t\\t\\t</a>\\n\\t\\t\\t\\t</li>\\n\\t\\t\\t\\n\\t\\t</ul>\\n\\t</div>\\n</div>\\n<div class=\"group_theme\" data-block-id=\"\" data-block-code=\"PC-THEME-GAMEAPP-MOBILE-RANKING-DEFAULT-9\" data-block-type=\"MATERIALS\" data-template-code=\"MOBILE-RANKING-LIST\"\\n\\n\\t data-da=\"container\"\\n\\t data-index=\"\"\\n     data-page=\"5\"\\n\\t style=\"display:none\">\\n\\n\\t<div class=\"list_theme_wrap\">\\n\\t\\t<ul class=\"list_theme\">\\n\\t\\t\\t\\n\\t\\t\\t\\t<li class=\"theme_item\" data-gdid=\"CAS_d1490215-6947-11ec-b693-37d6a9efd1d4\" data-da-position=\"true\">\\n\\t\\t\\t\\t\\t<a href=\"https://post.naver.com/viewer/postView.naver?volumeNo&#x3D;33000933&amp;memberNo&#x3D;11878375\" class=\"theme_thumb\" data-clk=\"tcc_gam.list10cont1\" target=\"_blank\">\\n\\t\\t\\t\\t\\t\\t<img  data-src=\"https://s.pstatic.net/dthumb.phinf/?src&#x3D;%22https%3A%2F%2Fs.pstatic.net%2Fstatic%2Fwww%2Fmobile%2Fedit%2F20211230_1095%2Fupload_1640874702425YjD2t.jpg%22&amp;type&#x3D;nf340_228\" alt=\"\\xed\\x95\\x9c\\xea\\xb5\\xad \\xeb\\x8c\\x80\\xec\\xa0\\x84\\xea\\xb2\\xa9\\xed\\x88\\xac \\xea\\xb2\\x8c\\xec\\x9e\\x84\\xec\\x9d\\x98 \\xeb\\xa7\\x88\\xec\\xa7\\x80\\xeb\\xa7\\x89 \\xec\\x9e\\x90\\xec\\xa1\\xb4\\xec\\x8b\\xac &#x27;\\xea\\xb7\\xb9\\xec\\xb4\\x88\\xed\\x98\\xb8\\xea\\xb6\\x8c&#x27;!, \\xeb\\xb9\\x85\\xec\\xbd\\xa4\\xec\\x9d\\xb4 \\xeb\\x8b\\xa4\\xec\\x8b\\x9c \\xeb\\xb6\\x80\\xed\\x99\\x9c\\xed\\x95\\x9c\\xeb\\x8b\\xa4!\" width=\"170\" height=\"114\" onerror=\"this.outerHTML=\\'<span class=\\\\\\'pm_noimg\\\\\\'><span class=\\\\\\'noimg_text\\\\\\'>\\xec\\x9d\\xb4\\xeb\\xaf\\xb8\\xec\\xa7\\x80 \\xec\\xa4\\x80\\xeb\\xb9\\x84\\xec\\xa4\\x91</span></span>\\'\">\\n\\t\\t\\t\\t\\t\\t<span class=\"thumb_bd\"></span>\\n                        \\n\\t\\t\\t\\t\\t</a>\\n\\t\\t\\t\\t\\t<a href=\"https://post.naver.com/viewer/postView.naver?volumeNo&#x3D;33000933&amp;memberNo&#x3D;11878375\" class=\"theme_info\" data-clk=\"tcc_gam.list10cont1\" target=\"_blank\">\\n\\t\\t\\t\\t\\t\\t<em class=\"theme_category\"> \\xea\\xb2\\x8c\\xec\\x9e\\x84</em>\\n\\t\\t\\t\\t\\t\\t<strong class=\"title elss\">\\xed\\x95\\x9c\\xea\\xb5\\xad \\xeb\\x8c\\x80\\xec\\xa0\\x84\\xea\\xb2\\xa9\\xed\\x88\\xac \\xea\\xb2\\x8c\\xec\\x9e\\x84\\xec\\x9d\\x98 \\xeb\\xa7\\x88\\xec\\xa7\\x80\\xeb\\xa7\\x89 \\xec\\x9e\\x90\\xec\\xa1\\xb4\\xec\\x8b\\xac \\'\\xea\\xb7\\xb9\\xec\\xb4\\x88\\xed\\x98\\xb8\\xea\\xb6\\x8c\\'!, \\xeb\\xb9\\x85\\xec\\xbd\\xa4\\xec\\x9d\\xb4 \\xeb\\x8b\\xa4\\xec\\x8b\\x9c \\xeb\\xb6\\x80\\xed\\x99\\x9c\\xed\\x95\\x9c\\xeb\\x8b\\xa4!</strong>\\n                        <p class=\"desc\">\\xec\\x95\\x88\\xeb\\x85\\x95\\xed\\x95\\x98\\xec\\x84\\xb8\\xec\\x9a\\x94! [\\xea\\xb2\\x9c\\xeb\\x8d\\x95 \\xec\\x97\\xb0\\xea\\xb5\\xac\\xec\\x86\\x8c]\\xeb\\xa5\\xbc \\xec\\x9a\\xb4\\xec\\x98\\x81\\xed\\x95\\x98\\xea\\xb3\\xa0 \\xec\\x9e\\x88\\xeb\\x8a\\x94 \\xec\\xa1\\xb0\\xea\\xb8\\xb0\\xec\\x9e\\x90\\xec\\x9e\\x85\\xeb\\x8b\\x88\\xeb\\x8b\\xa4. \\xec\\x9d\\xb4\\xeb\\xb2\\x88\\xec\\x97\\x90\\xeb\\x8f\\x84 \\xeb\\xa0\\x88\\xed\\x8a\\xb8\\xeb\\xa1\\x9c \\xea\\xb2\\x8c\\xec\\x9e\\x84 \\xec\\xa0\\x84\\xeb\\xac\\xb8\\xea\\xb0\\x80\\xec\\x9d\\xb4\\xec\\x8b\\xa0 \\xea\\xb2\\x80\\xeb\\x96\\xa0 \\xeb\\x8b\\x98\\xec\\x9d\\x84 \\xeb\\xaa\\xa8\\xec\\x85\\xa8\\xec\\x8a\\xb5\\xeb\\x8b\\x88\\xeb\\x8b\\xa4. \\xec\\x9d\\xb4\\xeb\\xb2\\x88 \\xec\\x8b\\x9c\\xea\\xb0\\x84\\xec\\x97\\x90\\xeb\\x8a\\x94 \\xec\\xb5\\x9c\\xea\\xb7\\xbc 30\\xec\\xa3\\xbc\\xeb\\x85\\x84\\xec\\x9c\\xbc\\xeb\\xa1\\x9c \\xeb\\xb6\\x80\\xed\\x99\\x9c\\xec\\x9d\\x98 \\xec\\x9b\\x80\\xec\\xa7\\x81\\xec\\x9e\\x84\\xec\\x9d\\x84 \\xeb\\xb3\\xb4\\xec\\x9d\\xb4\\xea\\xb3\\xa0 \\xec\\x9e\\x88\\xeb\\x8a\\x94 \\xeb\\xb9\\x85\\xec\\xbd\\xa4\\xec\\x9d\\x98 \\xec\\x9c\\xa0\\xeb\\xaa\\x85 \\xea\\xb2\\xa9\\xed\\x88\\xac \\xea\\xb2\\x8c\\xec\\x9e\\x84, &#x27;\\xea\\xb7\\xb9\\xec\\xb4\\x88\\xed\\x98\\xb8\\xea\\xb6\\x8c&#x27;\\xec\\x97\\x90 \\xeb\\x8c\\x80\\xed\\x95\\xb4 \\xec\\x82\\xb4\\xed\\x8e\\xb4\\xeb\\xb3\\xb4\\xeb\\x8f\\x84\\xeb\\xa1\\x9d \\xed\\x95\\x98\\xea\\xb2\\xa0\\xec\\x8a\\xb5\\xeb\\x8b\\x88\\xeb\\x8b\\xa4. [\\xea\\xb7\\xb9\\xec\\xb4\\x88\\xed\\x98\\xb8\\xea\\xb6\\x8c\\xec\\x9d\\x84 \\xec\\x95\\x84\\xeb\\x8a\\x94 \\xeb\\x8b\\xb9\\xec\\x8b\\xa0\\xec\\x9d\\x80, \\xec\\xa7\\x84\\xec\\x84\\xb1 \\xeb\\xa0\\x88\\xed\\x8a\\xb8\\xeb\\xa1\\x9c \\xea\\xb2\\x8c\\xec\\x9d\\xb4\\xeb\\xa8\\xb8!]\\xec\\xa1\\xb0\\xea\\xb8\\xb0\\xec\\x9e\\x90 : \\xec\\x95\\x88\\xeb\\x85\\x95\\xed\\x95\\x98\\xec\\x84\\xb8\\xec\\x9a\\x94 \\xea\\xb2\\x80\\xeb\\x96\\xa0\\xeb\\x8b\\x98, \\xec\\xa1\\xb0\\xea\\xb8\\xb0\\xec\\x9e\\x90\\xec\\x9e\\x85\\xeb\\x8b\\x88\\xeb\\x8b\\xa4. \\xec\\x9d\\xb4\\xeb\\xb2\\x88 \\xec\\x8b\\x9c\\xea\\xb0\\x84\\xec\\x97\\x90\\xeb\\x8a\\x94 \\xeb\\x98\\x90 \\xed\\x8a\\xb9\\xeb\\xb3\\x84</p>\\n\\t\\t\\t\\t\\t\\t<div class=\"source_box\">\\n\\t\\t\\t\\t\\t\\t\\t<span class=\"date\">2\\xec\\xa3\\xbc\\xec\\x9d\\xbc \\xec\\xa0\\x84</span>\\n\\t\\t\\t\\t\\t\\t\\t<span class=\"source\">\\n                                \\n                                <span class=\"source_inner\">\\xea\\xb2\\x8c\\xec\\x9e\\x84\\xeb\\x8f\\x99\\xec\\x95\\x84</span>\\n                            </span>\\n\\t\\t\\t\\t\\t\\t</div>\\n\\t\\t\\t\\t\\t</a>\\n\\t\\t\\t\\t</li>\\n\\t\\t\\t\\n\\t\\t\\t\\t<li class=\"theme_item\" data-gdid=\"CAS_d1490218-6947-11ec-b693-19edb1dec509\" data-da-position=\"true\">\\n\\t\\t\\t\\t\\t<a href=\"https://post.naver.com/viewer/postView.naver?volumeNo&#x3D;33000119&amp;memberNo&#x3D;2380229\" class=\"theme_thumb\" data-clk=\"tcc_gam.list10cont2\" target=\"_blank\">\\n\\t\\t\\t\\t\\t\\t<img  data-src=\"https://s.pstatic.net/dthumb.phinf/?src&#x3D;%22https%3A%2F%2Fs.pstatic.net%2Fstatic%2Fwww%2Fmobile%2Fedit%2F20211230_1095%2Fupload_1640852077013rmaRH.jpg%22&amp;type&#x3D;nf340_228\" alt=\"149\\xed\\x99\\x94. \\xeb\\xaa\\xac\\xec\\x8a\\xa4\\xed\\x84\\xb0\\xed\\x97\\x8c\\xed\\x84\\xb0 \\xeb\\x9d\\xbc\\xec\\x9d\\xb4\\xec\\xa6\\x88 - \\xed\\x83\\x80\\xeb\\xa7\\x88\\xeb\\xaf\\xb8\\xec\\xb8\\xa0\\xeb\\x84\\xa4 #1\" width=\"170\" height=\"114\" onerror=\"this.outerHTML=\\'<span class=\\\\\\'pm_noimg\\\\\\'><span class=\\\\\\'noimg_text\\\\\\'>\\xec\\x9d\\xb4\\xeb\\xaf\\xb8\\xec\\xa7\\x80 \\xec\\xa4\\x80\\xeb\\xb9\\x84\\xec\\xa4\\x91</span></span>\\'\">\\n\\t\\t\\t\\t\\t\\t<span class=\"thumb_bd\"></span>\\n                        \\n\\t\\t\\t\\t\\t</a>\\n\\t\\t\\t\\t\\t<a href=\"https://post.naver.com/viewer/postView.naver?volumeNo&#x3D;33000119&amp;memberNo&#x3D;2380229\" class=\"theme_info\" data-clk=\"tcc_gam.list10cont2\" target=\"_blank\">\\n\\t\\t\\t\\t\\t\\t<em class=\"theme_category\"> \\xea\\xb2\\x8c\\xec\\x9e\\x84</em>\\n\\t\\t\\t\\t\\t\\t<strong class=\"title elss\">149\\xed\\x99\\x94. \\xeb\\xaa\\xac\\xec\\x8a\\xa4\\xed\\x84\\xb0\\xed\\x97\\x8c\\xed\\x84\\xb0 \\xeb\\x9d\\xbc\\xec\\x9d\\xb4\\xec\\xa6\\x88 - \\xed\\x83\\x80\\xeb\\xa7\\x88\\xeb\\xaf\\xb8\\xec\\xb8\\xa0\\xeb\\x84\\xa4 #1</strong>\\n                        <p class=\"desc\">\\xec\\x9e\\x91\\xea\\xb0\\x80\\xec\\x9d\\x98 \\xeb\\xa7\\x90\\xec\\xa7\\x80\\xea\\xb8\\x88\\xec\\x9d\\x80 \\xeb\\x9d\\xbc\\xec\\x9d\\xb4\\xec\\xa6\\x88 \\xec\\xb0\\xa8\\xec\\xa7\\x80\\xec\\x95\\xa1\\xec\\x8a\\xa4 \\xea\\xb8\\xb0\\xeb\\xb3\\xb8\\xec\\x9d\\x80 \\xec\\x9e\\x98 \\xeb\\xb0\\xb0\\xec\\x9b\\xa0\\xec\\x9c\\xbc\\xeb\\x8b\\x88, \\xec\\xa0\\x80\\xec\\x99\\x80 \\xec\\xb0\\xa8\\xec\\xa7\\x80\\xec\\x95\\xa1\\xec\\x8a\\xa4\\xec\\x97\\x90 \\xeb\\x8c\\x80\\xed\\x95\\x9c \\xea\\xb1\\xb1\\xec\\xa0\\x95\\xec\\x9d\\x80 \\xec\\xa0\\x91\\xec\\x96\\xb4\\xeb\\x91\\x90\\xec\\x85\\x94\\xeb\\x8f\\x84 \\xeb\\x90\\xa9\\xeb\\x8b\\x88\\xeb\\x8b\\xa4. \\xec\\x97\\xac\\xeb\\x9f\\xac\\xeb\\xb6\\x84\\xeb\\x8f\\x84 \\xea\\xb7\\x80\\xec\\xa1\\xb1\\xeb\\xac\\xb4\\xea\\xb8\\xb0 \\xec\\xb0\\xa8\\xec\\xa7\\x80\\xec\\x95\\xa1\\xec\\x8a\\xa4 \\xed\\x95\\x9c\\xeb\\xb2\\x88 \\xed\\x95\\xb4\\xeb\\xb3\\xb4\\xec\\x84\\xb8\\xec\\x9a\\x94 \\xea\\xb0\\x9c\\xea\\xbf\\x80\\xec\\x9e\\xbc\\xec\\x9e\\x84.</p>\\n\\t\\t\\t\\t\\t\\t<div class=\"source_box\">\\n\\t\\t\\t\\t\\t\\t\\t<span class=\"date\">1\\xec\\xa3\\xbc\\xec\\x9d\\xbc \\xec\\xa0\\x84</span>\\n\\t\\t\\t\\t\\t\\t\\t<span class=\"source\">\\n                                \\n                                <span class=\"source_inner\">\\xeb\\x91\\x90\\xed\\x88\\xb0</span>\\n                            </span>\\n\\t\\t\\t\\t\\t\\t</div>\\n\\t\\t\\t\\t\\t</a>\\n\\t\\t\\t\\t</li>\\n\\t\\t\\t\\n\\t\\t\\t\\t<li class=\"theme_item\" data-gdid=\"CAS_d149021b-6947-11ec-b693-c3a5bb854c0b\" data-da-position=\"true\">\\n\\t\\t\\t\\t\\t<a href=\"https://post.naver.com/viewer/postView.naver?volumeNo&#x3D;33000908&amp;memberNo&#x3D;3147730\" class=\"theme_thumb\" data-clk=\"tcc_gam.list10cont3\" target=\"_blank\">\\n\\t\\t\\t\\t\\t\\t<img  data-src=\"https://s.pstatic.net/dthumb.phinf/?src&#x3D;%22https%3A%2F%2Fs.pstatic.net%2Fstatic%2Fwww%2Fmobile%2Fedit%2F20211230_1095%2Fupload_1640852269613A89pf.jpg%22&amp;type&#x3D;nf340_228\" alt=\"10\\xed\\x99\\x94. \\xec\\xa0\\x9c\\xea\\xb0\\x80 \\xeb\\x89\\xb4\\xeb\\xb9\\x84\\xec\\x9d\\xb8\\xeb\\x8d\\xb0 \\xeb\\xac\\xb4\\xec\\x8a\\xa8 \\xec\\xba\\x90\\xeb\\xa6\\xad\\xed\\x84\\xb0\\xeb\\xb6\\x80\\xed\\x84\\xb0 \\xed\\x82\\xa4\\xec\\x9a\\xb8\\xea\\xb9\\x8c\\xec\\x9a\\x94\" width=\"170\" height=\"114\" onerror=\"this.outerHTML=\\'<span class=\\\\\\'pm_noimg\\\\\\'><span class=\\\\\\'noimg_text\\\\\\'>\\xec\\x9d\\xb4\\xeb\\xaf\\xb8\\xec\\xa7\\x80 \\xec\\xa4\\x80\\xeb\\xb9\\x84\\xec\\xa4\\x91</span></span>\\'\">\\n\\t\\t\\t\\t\\t\\t<span class=\"thumb_bd\"></span>\\n                        \\n\\t\\t\\t\\t\\t</a>\\n\\t\\t\\t\\t\\t<a href=\"https://post.naver.com/viewer/postView.naver?volumeNo&#x3D;33000908&amp;memberNo&#x3D;3147730\" class=\"theme_info\" data-clk=\"tcc_gam.list10cont3\" target=\"_blank\">\\n\\t\\t\\t\\t\\t\\t<em class=\"theme_category\"> \\xea\\xb2\\x8c\\xec\\x9e\\x84</em>\\n\\t\\t\\t\\t\\t\\t<strong class=\"title elss\">10\\xed\\x99\\x94. \\xec\\xa0\\x9c\\xea\\xb0\\x80 \\xeb\\x89\\xb4\\xeb\\xb9\\x84\\xec\\x9d\\xb8\\xeb\\x8d\\xb0 \\xeb\\xac\\xb4\\xec\\x8a\\xa8 \\xec\\xba\\x90\\xeb\\xa6\\xad\\xed\\x84\\xb0\\xeb\\xb6\\x80\\xed\\x84\\xb0 \\xed\\x82\\xa4\\xec\\x9a\\xb8\\xea\\xb9\\x8c\\xec\\x9a\\x94</strong>\\n                        <p class=\"desc\">\\xec\\x98\\xa4\\xeb\\x8a\\x98\\xec\\x9d\\x98 \\xec\\xa3\\xbc\\xec\\xa0\\x9c\\xeb\\x8a\\x94 &#x27;\\xec\\xba\\x90\\xeb\\xa6\\xad\\xed\\x84\\xb0 \\xec\\xb6\\x94\\xec\\xb2\\x9c&#x27;\\xec\\x9e\\x85\\xeb\\x8b\\x88\\xeb\\x8b\\xa4!!! \\xea\\xb7\\xb8.. \\xea\\xb7\\xb8\\xeb\\x9f\\xb0\\xeb\\x8d\\xb0.. \\xec\\xa0\\x9c\\xea\\xb0\\x80 \\xed\\x98\\xb9\\xec\\x8b\\x9c\\xeb\\x82\\x98 \\xed\\x95\\xb4\\xec\\x84\\x9c \\xeb\\xaf\\xb8\\xeb\\xa6\\xac \\xeb\\xa7\\x90\\xec\\x94\\x80\\xeb\\x93\\x9c\\xeb\\xa6\\xac\\xeb\\xa9\\xb4 \\xec\\xa0\\x9c\\xea\\xb0\\x80 \\xec\\x84\\xb8\\xec\\x9d\\xb4\\xeb\\xb8\\x8c \\xec\\x9b\\x90\\xea\\xb3\\xa0 \\xec\\x8b\\x9d\\xec\\x9c\\xbc\\xeb\\xa1\\x9c(?) \\xec\\xa7\\x84\\xec\\x9e\\x91 \\xec\\xa4\\x80\\xeb\\xb9\\x84\\xed\\x95\\xb4\\xeb\\x86\\x93\\xec\\x9d\\x80 \\xeb\\x82\\xb4\\xec\\x9a\\xa9\\xec\\x9d\\xb8\\xeb\\x8d\\xb0 \\xec\\x9d\\xb4\\xeb\\x9f\\xb4\\xec\\x88\\x98\\xea\\xb0\\x80.. \\xea\\xb7\\xb8 \\xec\\x82\\xac\\xec\\x9d\\xb4\\xec\\x97\\x90 (\\xeb\\x8d\\x98\\xec\\xa0\\x84) \\xeb\\xb0\\xb8\\xed\\x8c\\xa8\\xea\\xb0\\x80 \\xeb\\x90\\x98\\xec\\x97\\x88\\xeb\\x8d\\x94\\xeb\\x9d\\xbc\\xea\\xb3\\xa0\\xec\\x9a\\x94!!!! \\xec\\xa7\\x80\\xea\\xb8\\x88\\xec\\x9d\\x80 \\xeb\\x94\\x94\\xec\\x98\\xa4\\xea\\xb0\\x80 \\xea\\xb5\\x89\\xec\\x9e\\xa5\\xed\\x9e\\x88.. \\xec\\xa0\\x80\\xed\\x8f\\x89\\xea\\xb0\\x80 \\xeb\\xb0\\x9b\\xea\\xb3\\xa0\\xec\\x9e\\x88\\xec\\x8a\\xb5\\xeb\\x8b\\x88\\xeb\\x8b\\xa4.. \\xeb\\xa1\\x9c\\xeb\\x82\\x9c\\xea\\xb3\\xbc \\xea\\xb0\\x99\\xec\\x9d\\x80 \\xea\\xb0\\x95\\xec\\xba\\x90\\xea\\xb0\\x80 \\xed\\x95\\x98\\xed\\x96\\xa5\\xeb\\x90\\x98\\xea\\xb8\\xb0\\xeb\\x8f\\x84 \\xed\\x96\\x88\\xec\\xa3\\xa0 (\\xec\\x9d\\xb4 \\xeb\\x82\\xb4\\xec\\x9a\\xa9\\xec\\x9d\\x80 \\xeb\\x94\\x94\\xec\\x98\\xa4 \\xec\\x97\\x85\\xeb\\x8d\\xb0\\xec\\x9d\\xb4\\xed\\x8a\\xb8 \\xec\\xa0\\x84\\xec\\x97\\x90</p>\\n\\t\\t\\t\\t\\t\\t<div class=\"source_box\">\\n\\t\\t\\t\\t\\t\\t\\t<span class=\"date\">1\\xec\\xa3\\xbc\\xec\\x9d\\xbc \\xec\\xa0\\x84</span>\\n\\t\\t\\t\\t\\t\\t\\t<span class=\"source\">\\n                                \\n                                <span class=\"source_inner\">\\xeb\\x8f\\x84\\xeb\\xa6\\xac\\xeb\\x8f\\x84\\xeb\\xa6\\xac</span>\\n                            </span>\\n\\t\\t\\t\\t\\t\\t</div>\\n\\t\\t\\t\\t\\t</a>\\n\\t\\t\\t\\t</li>\\n\\t\\t\\t\\n\\t\\t\\t\\t<li class=\"theme_item\" data-gdid=\"CAS_27e438fc-6949-11ec-b693-7dcebdb4879c\" data-da-position=\"true\">\\n\\t\\t\\t\\t\\t<a href=\"https://post.naver.com/viewer/postView.naver?volumeNo&#x3D;32571071&amp;memberNo&#x3D;40601392&amp;navigationType&#x3D;push\" class=\"theme_thumb\" data-clk=\"tcc_gam.list10cont4\" target=\"_blank\">\\n\\t\\t\\t\\t\\t\\t<img  data-src=\"https://s.pstatic.net/dthumb.phinf/?src&#x3D;%22https%3A%2F%2Fs.pstatic.net%2Fstatic%2Fwww%2Fmobile%2Fedit%2F20211230_1095%2Fupload_16408523206288E146.jpg%22&amp;type&#x3D;nf340_228\" alt=\"\\xec\\xb6\\x94\\xec\\x96\\xb5\\xec\\x9d\\x80 \\xeb\\xb6\\x88\\xed\\x83\\x9c\\xec\\x9a\\xb0\\xea\\xb8\\xb0 \\xec\\x89\\xbd\\xec\\xa7\\x80 \\xec\\x95\\x8a\\xeb\\x8b\\xa4. Bonfire Peaks\" width=\"170\" height=\"114\" onerror=\"this.outerHTML=\\'<span class=\\\\\\'pm_noimg\\\\\\'><span class=\\\\\\'noimg_text\\\\\\'>\\xec\\x9d\\xb4\\xeb\\xaf\\xb8\\xec\\xa7\\x80 \\xec\\xa4\\x80\\xeb\\xb9\\x84\\xec\\xa4\\x91</span></span>\\'\">\\n\\t\\t\\t\\t\\t\\t<span class=\"thumb_bd\"></span>\\n                        \\n\\t\\t\\t\\t\\t</a>\\n\\t\\t\\t\\t\\t<a href=\"https://post.naver.com/viewer/postView.naver?volumeNo&#x3D;32571071&amp;memberNo&#x3D;40601392&amp;navigationType&#x3D;push\" class=\"theme_info\" data-clk=\"tcc_gam.list10cont4\" target=\"_blank\">\\n\\t\\t\\t\\t\\t\\t<em class=\"theme_category\"> \\xea\\xb2\\x8c\\xec\\x9e\\x84</em>\\n\\t\\t\\t\\t\\t\\t<strong class=\"title elss\">\\xec\\xb6\\x94\\xec\\x96\\xb5\\xec\\x9d\\x80 \\xeb\\xb6\\x88\\xed\\x83\\x9c\\xec\\x9a\\xb0\\xea\\xb8\\xb0 \\xec\\x89\\xbd\\xec\\xa7\\x80 \\xec\\x95\\x8a\\xeb\\x8b\\xa4. Bonfire Peaks</strong>\\n                        <p class=\"desc\">\\xec\\x9a\\xb0\\xec\\x84\\xa0 \\xec\\x98\\xa4\\xeb\\x8a\\x98 \\xec\\x86\\x8c\\xea\\xb0\\x9c\\xed\\x95\\xb4\\xeb\\x93\\x9c\\xeb\\xa6\\xb4 \\xea\\xb2\\x8c\\xec\\x9e\\x84\\xec\\x97\\x90 \\xeb\\x8c\\x80\\xed\\x95\\xb4\\xec\\x84\\x9c \\xec\\x9d\\xb4\\xec\\x95\\xbc\\xea\\xb8\\xb0\\xed\\x95\\x98\\xea\\xb8\\xb0 \\xec\\xa0\\x84\\xec\\x97\\x90, \\xe2\\x80\\x9c\\xec\\x86\\x8c\\xec\\xbd\\x94\\xeb\\xb0\\x98\\xe2\\x80\\x9d\\xec\\x9d\\xb4\\xeb\\x9d\\xbc\\xea\\xb3\\xa0 \\xed\\x95\\x98\\xeb\\x8a\\x94 \\xec\\x9e\\xa5\\xeb\\xa5\\xb4\\xec\\x97\\x90 \\xeb\\x8c\\x80\\xed\\x95\\xb4\\xec\\x84\\x9c \\xeb\\xa8\\xbc\\xec\\xa0\\x80 \\xec\\x84\\xa4\\xeb\\xaa\\x85\\xed\\x95\\xa0 \\xed\\x95\\x84\\xec\\x9a\\x94\\xea\\xb0\\x80 \\xec\\x9e\\x88\\xec\\x9d\\x84 \\xea\\xb2\\x83 \\xea\\xb0\\x99\\xea\\xb5\\xb0\\xec\\x9a\\x94. \\xec\\xa0\\x80 \\xea\\xb0\\x99\\xec\\x9d\\x80 \\xec\\x98\\xa4\\xeb\\x9e\\x9c \\xea\\xb2\\x8c\\xec\\x9d\\xb4\\xeb\\xa8\\xb8\\xeb\\x93\\xa4\\xec\\x97\\x90\\xea\\xb2\\x8c\\xeb\\x8a\\x94 \\xe2\\x80\\x9c\\xec\\x86\\x8c\\xec\\xbd\\x94\\xeb\\xb0\\x98\\xe2\\x80\\x9d\\xec\\x9d\\xb4\\xeb\\x9d\\xbc\\xeb\\x8a\\x94 \\xec\\x9e\\xa5\\xeb\\xa5\\xb4\\xeb\\xa7\\x8c \\xeb\\x93\\xa4\\xec\\x96\\xb4\\xeb\\x8f\\x84 \\xeb\\xac\\xb4\\xec\\x97\\x87\\xec\\x9d\\xb8\\xec\\xa7\\x80 \\xec\\x95\\x84\\xec\\x8b\\x9c\\xeb\\x8a\\x94 \\xeb\\xb6\\x84\\xeb\\x8f\\x84 \\xea\\xb3\\x84\\xec\\x8b\\x9c\\xea\\xb2\\xa0\\xec\\xa7\\x80\\xeb\\xa7\\x8c, \\xeb\\xaa\\xa8\\xeb\\xa5\\xb8\\xeb\\x8b\\xa4\\xeb\\xa9\\xb4 \\xec\\xa1\\xb0\\xea\\xb8\\x88 \\xeb\\x8d\\x94 \\xec\\x8b\\x9c\\xea\\xb0\\x84\\xec\\x9d\\x84 \\xed\\x9d\\x98\\xeb\\xa0\\xa4 \\xe2\\x80\\x9c\\xed\\x91\\xb8\\xec\\x8b\\x9c\\xed\\x91\\xb8\\xec\\x8b\\x9c\\xe2\\x80\\x9d \\xeb\\x9d\\xbc\\xea\\xb3\\xa0 \\xed\\x95\\x98\\xeb\\xa9\\xb4 \\xec\\xa1\\xb0\\xea\\xb8\\x88 \\xeb\\x8d\\x94 \\xec\\x95\\x84\\xec\\x8b\\x9c\\xeb\\x8a\\x94 \\xeb\\xb6\\x84\\xec\\x9d\\xb4 \\xeb\\x8a\\x98\\xec\\x96\\xb4\\xeb\\x82\\xa0 \\xea\\xb2\\x83 \\xea\\xb0\\x99\\xeb\\x84\\xa4\\xec\\x9a\\x94. \\xeb\\xa7\\x9e\\xec\\x8a\\xb5\\xeb\\x8b\\x88\\xeb\\x8b\\xa4. \\xec\\xa2\\x81\\xeb\\x94\\x94 \\xec\\xa2\\x81\\xec\\x9d\\x80 \\xea\\xb3\\xb5\\xea\\xb0\\x84\\xec\\x86\\x8d\\xec\\x97\\x90\\xec\\x84\\x9c \\xec\\x83\\x81\\xec\\x9e\\x90\\xeb\\xa5\\xbc \\xec\\x98\\xae\\xea\\xb8\\xb0</p>\\n\\t\\t\\t\\t\\t\\t<div class=\"source_box\">\\n\\t\\t\\t\\t\\t\\t\\t<span class=\"date\">2\\xea\\xb0\\x9c\\xec\\x9b\\x94 \\xec\\xa0\\x84</span>\\n\\t\\t\\t\\t\\t\\t\\t<span class=\"source\">\\n                                \\n                                <span class=\"source_inner\">\\xec\\x9d\\xb8\\xeb\\x94\\x94\\xec\\xbb\\xa4\\xeb\\x84\\xa5\\xed\\x8a\\xb8</span>\\n                            </span>\\n\\t\\t\\t\\t\\t\\t</div>\\n\\t\\t\\t\\t\\t</a>\\n\\t\\t\\t\\t</li>\\n\\t\\t\\t\\n\\t\\t\\t\\t<li class=\"theme_item\" data-gdid=\"CAS_d149021a-6947-11ec-b693-050beb0de9f1\" data-da-position=\"true\">\\n\\t\\t\\t\\t\\t<a href=\"https://post.naver.com/viewer/postView.naver?volumeNo&#x3D;32995208&amp;memberNo&#x3D;3395565\" class=\"theme_thumb\" data-clk=\"tcc_gam.list10cont5\" target=\"_blank\">\\n\\t\\t\\t\\t\\t\\t<img  data-src=\"https://s.pstatic.net/dthumb.phinf/?src&#x3D;%22https%3A%2F%2Fs.pstatic.net%2Fstatic%2Fwww%2Fmobile%2Fedit%2F20211230_1095%2Fupload_1640852196090UIvPO.jpg%22&amp;type&#x3D;nf340_228\" alt=\"34\\xed\\x99\\x94. \\xea\\xb3\\xa4\\xec\\xb6\\xa9\\xec\\xb1\\x84\\xec\\xa7\\x91\\xeb\\x8c\\x80\\xed\\x9a\\x8c\\xeb\\xa5\\xbc \\xec\\x8b\\x9c\\xec\\x9e\\x91~\\xed\\x95\\x98\\xea\\xb2\\xa0\\xec\\x8a\\xb5\\xeb\\x8b\\x88\\xeb\\x8b\\xa4!\" width=\"170\" height=\"114\" onerror=\"this.outerHTML=\\'<span class=\\\\\\'pm_noimg\\\\\\'><span class=\\\\\\'noimg_text\\\\\\'>\\xec\\x9d\\xb4\\xeb\\xaf\\xb8\\xec\\xa7\\x80 \\xec\\xa4\\x80\\xeb\\xb9\\x84\\xec\\xa4\\x91</span></span>\\'\">\\n\\t\\t\\t\\t\\t\\t<span class=\"thumb_bd\"></span>\\n                        \\n\\t\\t\\t\\t\\t</a>\\n\\t\\t\\t\\t\\t<a href=\"https://post.naver.com/viewer/postView.naver?volumeNo&#x3D;32995208&amp;memberNo&#x3D;3395565\" class=\"theme_info\" data-clk=\"tcc_gam.list10cont5\" target=\"_blank\">\\n\\t\\t\\t\\t\\t\\t<em class=\"theme_category\"> \\xea\\xb2\\x8c\\xec\\x9e\\x84</em>\\n\\t\\t\\t\\t\\t\\t<strong class=\"title elss\">34\\xed\\x99\\x94. \\xea\\xb3\\xa4\\xec\\xb6\\xa9\\xec\\xb1\\x84\\xec\\xa7\\x91\\xeb\\x8c\\x80\\xed\\x9a\\x8c\\xeb\\xa5\\xbc \\xec\\x8b\\x9c\\xec\\x9e\\x91~\\xed\\x95\\x98\\xea\\xb2\\xa0\\xec\\x8a\\xb5\\xeb\\x8b\\x88\\xeb\\x8b\\xa4!</strong>\\n                        <p class=\"desc\">\\xeb\\xaa\\xa8\\xeb\\x8f\\x99\\xec\\x88\\xb2 \\xed\\x94\\x84\\xeb\\xa0\\x8c\\xec\\xa6\\x88 34\\xed\\x99\\x94 - \\xea\\xb3\\xa4\\xec\\xb6\\xa9\\xec\\xb1\\x84\\xec\\xa7\\x91\\xeb\\x8c\\x80\\xed\\x9a\\x8c\\xeb\\xa5\\xbc \\xec\\x8b\\x9c\\xec\\x9e\\x91~\\xed\\x95\\x98\\xea\\xb2\\xa0\\xec\\x8a\\xb5\\xeb\\x8b\\x88\\xeb\\x8b\\xa4!\\xec\\x97\\xac\\xeb\\xa6\\x84\\xec\\x97\\x90\\xeb\\xa7\\x8c \\xed\\x95\\xa0 \\xec\\x88\\x98 \\xec\\x9e\\x88\\xeb\\x8a\\x94 \\xec\\x9d\\xb4\\xeb\\xb2\\xa4\\xed\\x8a\\xb8\\xeb\\xa5\\xbc \\xec\\x97\\xb0\\xeb\\xa7\\x90\\xec\\x97\\x90 \\xeb\\xb3\\xb4\\xeb\\x8a\\x94 \\xec\\x9d\\xb4 \\xea\\xb8\\xb0\\xeb\\xb6\\x84\\xec\\x9d\\xb4\\xeb\\x9e\\x80.. ... \\xeb\\x82\\xa8\\xeb\\xb0\\x98\\xea\\xb5\\xac \\xec\\x8b\\x9c\\xec\\xa0\\x90\\xec\\x9c\\xbc\\xeb\\xa1\\x9c \\xeb\\xb3\\xb8\\xeb\\x8b\\xa4\\xeb\\xa9\\xb4 \\xec\\x96\\xb4\\xeb\\x96\\xa8\\xea\\xb9\\x8c\\xec\\x9a\\x94?!</p>\\n\\t\\t\\t\\t\\t\\t<div class=\"source_box\">\\n\\t\\t\\t\\t\\t\\t\\t<span class=\"date\">1\\xec\\xa3\\xbc\\xec\\x9d\\xbc \\xec\\xa0\\x84</span>\\n\\t\\t\\t\\t\\t\\t\\t<span class=\"source\">\\n                                \\n                                <span class=\"source_inner\">\\xea\\xb8\\xb0\\xec\\x96\\xb5\\xec\\x9d\\x98\\xeb\\xa9\\x94\\xeb\\xaa\\xa8\\xeb\\xa6\\xac</span>\\n                            </span>\\n\\t\\t\\t\\t\\t\\t</div>\\n\\t\\t\\t\\t\\t</a>\\n\\t\\t\\t\\t</li>\\n\\t\\t\\t\\n\\t\\t</ul>\\n\\t</div>\\n</div>\\n\\n\\n\\n\\n\\t<div class=\"btn_more_wrap\">\\n\\t\\t<button type=\"button\" class=\"btn_more\" data-clk-custom=\"tcc_gam.more\" data-next-page=\"2\"><i class=\"ico_more\"></i>\\xec\\x83\\x88\\xeb\\xa1\\x9c\\xec\\x9a\\xb4 \\xea\\xb8\\x80 \\xeb\\x8d\\x94\\xeb\\xb3\\xb4\\xea\\xb8\\xb0</button>\\n\\t</div>\\n\\n\\n<div class=\"NM_THEME_META\" style=\"display: none\" data-panel-code=\"GAMEAPP\" data-parent-code=\"\"></div>\\n\\n\\t</div>\\n</div>\\n </div> </div> <div id=\"NM_INT_RIGHT\" class=\"column_right\"> <div class=\"column_fix_wrap\"> <div id=\"da_brand\"></div> \\n\\n\\n\\n\\n<div id=\"account\" class=\"sc_login\">\\n<h2 class=\"blind\">Sign in</h2>\\n<p class=\"login_msg\">Connect with people</p>\\n<a href=\"https://nid.naver.com/nidlogin.login?mode=form&url=https%3A%2F%2Fwww.naver.com\" class=\"link_login\" data-clk=\"log_off.login\"><i class=\"ico_naver\"><span class=\"blind\">NAVER</span></i>Sign in</a>\\n<div class=\"sub_area\">\\n<div class=\"look_box\">\\n<a href=\"https://nid.naver.com/user/help.nhn?todo=idinquiry\" class=\"link_look\" data-clk=\"log_off.searchid\">Forgot Username</a>\\n<a href=\"https://nid.naver.com/nidreminder.form\" class=\"link_look\" data-clk=\"log_off.searchpass\">Password</a>\\n</div>\\n<a href=\"https://nid.naver.com/nidregister.form?url=https%3A%2F%2Fwww.naver.com\" class=\"link_join\" data-clk=\"log_off.registration\">Sign up</a>\\n</div>\\n</div>\\n\\n\\n\\n <div id=\"timesquare\" class=\"sc_timesquare\"> <h2 class=\"blind\">\\xed\\x83\\x80\\xec\\x9e\\x84\\xec\\x8a\\xa4\\xed\\x80\\x98\\xec\\x96\\xb4</h2> <div class=\"card_wrap\">\\n<div class=\"card_nav\">\\n<a href=\"#\" role=\"button\" class=\"btn_nav btn_prev\" data-clk=\"squ.pre\"><span class=\"blind\">\\xec\\x9d\\xb4\\xec\\xa0\\x84</span></a>\\n<a href=\"#\" role=\"button\" class=\"btn_nav btn_next\" data-clk=\"squ.next\"><span class=\"blind\">\\xeb\\x8b\\xa4\\xec\\x9d\\x8c</span></a>\\n</div>\\n<div id=\"NM_TS_ROLLING_WRAP\" style=\"height: 100%;\">\\n<div>\\n<a href=\"https://search.naver.com/search.naver?sm=top_hty&amp;fbm=0&amp;ie=utf8&amp;query=%EC%BD%94%EB%A1%9C%EB%82%9819\" class=\"card_news\" data-clk=\"squ.line3\"><i class=\"news_badge\">\\xec\\x9d\\xb4\\xec\\x8a\\x88</i><span class=\"news\">\\xec\\xbd\\x94\\xeb\\xa1\\x9c\\xeb\\x82\\x98\\xeb\\xb0\\x94\\xec\\x9d\\xb4\\xeb\\x9f\\xac\\xec\\x8a\\xa4\\xea\\xb0\\x90\\xec\\x97\\xbc\\xec\\xa6\\x9d-19 \\xed\\x98\\x84\\xed\\x99\\xa9</span></a>\\n</div>\\n<div>\\n<a href=\"https://campaign.naver.com/collect_v2/?target=https%3A%2F%2Fcampaign.naver.com%2Fnaverapp%2Fqrpass&pcode=Naver_loginbottom_1&event_id=qr\" class=\"card_notice\" data-clk=\"squ.covidqrcheckin\"><span class=\"notice\"><i class=\"ico_qrcode\"></i><strong>\\xec\\x89\\xac\\xec\\x9a\\xb4 \\xeb\\xb0\\xa9\\xec\\x97\\xad\\xed\\x8c\\xa8\\xec\\x8a\\xa4</strong>\\xeb\\xa5\\xbc \\xec\\x9c\\x84\\xed\\x95\\x9c <strong>\\xeb\\xb0\\x94\\xeb\\xa1\\x9c\\xea\\xb0\\x80\\xea\\xb8\\xb0 \\xec\\x84\\xa4\\xec\\xb9\\x98</strong> \\xec\\x95\\x88\\xeb\\x82\\xb4</span></a>\\n</div>\\n<div>\\n<a href=\"https://finance.naver.com/world/sise.nhn?symbol=DJI@DJI\" class=\"card_stock \" data-clk=\"squ.dawoo\">\\n<strong class=\"stock_title\">\\xec\\xa6\\x9d\\xec\\x8b\\x9c</strong>\\n<div class=\"stock_box\">\\n<em class=\"name\">\\xeb\\x8b\\xa4\\xec\\x9a\\xb0</em>\\n<strong class=\"current\">36,170.99</strong>\\n<span class=\"rate rate_down\">65.48 -0.18%</span>\\n</div>\\n</a>\\n</div>\\n<div>\\n<a href=\"https://finance.naver.com/world/sise.nhn?symbol=NAS@IXIC\" class=\"card_stock \" data-clk=\"squ.nasdak\">\\n<strong class=\"stock_title\">\\xec\\xa6\\x9d\\xec\\x8b\\x9c</strong>\\n<div class=\"stock_box\">\\n<em class=\"name\">\\xeb\\x82\\x98\\xec\\x8a\\xa4\\xeb\\x8b\\xa5</em>\\n<strong class=\"current\">14,942.55</strong>\\n<span class=\"rate rate_down\">138.31 -0.92%</span>\\n</div>\\n</a>\\n</div>\\n<div>\\n<a href=\"https://finance.naver.com/marketindex/exchangeDetail.nhn?marketindexCd=FX_USDKRW\" class=\"card_stock type_exchange\" data-clk=\"squ.usd\">\\n<strong class=\"stock_title\">\\xed\\x99\\x98\\xec\\x9c\\xa8</strong>\\n<div class=\"stock_box\">\\n<em class=\"name\">USD</em>\\n<strong class=\"current\">1,204.00</strong>\\n<span class=\"rate rate_up\">0.50 +0.04%</span>\\n</div>\\n</a>\\n</div>\\n</div>\\n</div> <!-- EMPTY --> </div> <div id=\"veta_branding\"> <div id=\"veta_branding_inner\" style=\"width:350px;height:200px\"> </div> <span class=\"veta_bd_t\"></span> <span class=\"veta_bd_b\"></span> <span class=\"veta_bd_l\"></span> <span class=\"veta_bd_r\"></span> </div> <div id=\"shopcast\" class=\"sc_shopcast\"> <iframe id=\"shopcast_iframe\" data-iframe-src=\"/shoppingbox/shoppingboxnew/main.nhn?domain=N\" title=\"\\xec\\x87\\xbc\\xed\\x95\\x91\\xec\\xba\\x90\\xec\\x8a\\xa4\\xed\\x8a\\xb8\" width=\"350\" height=\"1539\" marginheight=\"0\" marginwidth=\"0\" scrolling=\"no\" frameborder=\"0\"></iframe> </div> </div> </div> <a id=\"NM_scroll_top_btn\" href=\"#wrap\" class=\"content_top\"><span class=\"blind\">TOP</span></a> <button id=\"NM_darkmode_btn\" type=\"button\" role=\"button\" class=\"btn_theme\" aria-pressed=\"false\"  > <span class=\"blind\">\\xeb\\x9d\\xbc\\xec\\x9d\\xb4\\xed\\x8a\\xb8 \\xeb\\xaa\\xa8\\xeb\\x93\\x9c\\xeb\\xa1\\x9c \\xeb\\xb3\\xb4\\xea\\xb8\\xb0</span> </button> </div> <div id=\"footer\" role=\"contentinfo\"> <div class=\"footer_inner\"> <div id=\"NM-FOOTER-AD\" class=\"banner_area\"> <div class=\"da_box_wrap\"> <div id=\"da_public_left\"> </div> <div id=\"da_public_right\"> </div> <div id=\"veta_time2\"> </div> </div> </div> <div class=\"notice_area\" data-clk-prefix=\"ntc\"> <div class=\"notice_box\"> <h3 class=\"title\"><a href=\"https://www.naver.com/NOTICE\">\\xea\\xb3\\xb5\\xec\\xa7\\x80\\xec\\x82\\xac\\xed\\x95\\xad</a> </h3> <!-- EMPTY --> </div> <a href=\"more.html\" class=\"link_all\" data-clk=\"svcmap\">\\xec\\x84\\x9c\\xeb\\xb9\\x84\\xec\\x8a\\xa4 \\xec\\xa0\\x84\\xec\\xb2\\xb4\\xeb\\xb3\\xb4\\xea\\xb8\\xb0</a> </div> <div class=\"aside_area\"> <div class=\"partner_box_wrap\"> <div class=\"partner_box\" data-clk-prefix=\"crt\"> <h3 class=\"title\">Creators</h3> <a href=\"https://www.navercorp.com/service/creators\" class=\"link_partner\" data-clk=\"creator\">\\xed\\x81\\xac\\xeb\\xa6\\xac\\xec\\x97\\x90\\xec\\x9d\\xb4\\xed\\x84\\xb0</a> <a href=\"https://www.navercorp.com/service/business\" class=\"link_partner\" data-clk=\"smbusiness\">\\xec\\x8a\\xa4\\xeb\\xaa\\xb0\\xeb\\xb9\\x84\\xec\\xa6\\x88\\xeb\\x8b\\x88\\xec\\x8a\\xa4</a> </div> <div class=\"partner_box\" data-clk-prefix=\"crt\"> <h3 class=\"title\">Partners</h3> <a href=\"https://campaign.naver.com/smefullcare/online/\" class=\"link_partner\" data-clk=\"sme\">SME \\xed\\x92\\x80\\xec\\xbc\\x80\\xec\\x96\\xb4 \\xec\\x8b\\x9c\\xec\\x8a\\xa4\\xed\\x85\\x9c</a> <a href=\"https://business.naver.com/service.html\" class=\"link_partner\" data-clk=\"service\">\\xeb\\xb9\\x84\\xec\\xa6\\x88\\xeb\\x8b\\x88\\xec\\x8a\\xa4 \\xc2\\xb7 \\xea\\xb4\\x91\\xea\\xb3\\xa0</a> <a href=\"https://sell.storefarm.naver.com/#/home/about\" class=\"link_partner\" data-clk=\"store\">\\xec\\x8a\\xa4\\xed\\x86\\xa0\\xec\\x96\\xb4 \\xea\\xb0\\x9c\\xec\\x84\\xa4</a> <a href=\"https://smartplace.naver.com\" class=\"link_partner\" data-clk=\"place\">\\xec\\xa7\\x80\\xec\\x97\\xad\\xec\\x97\\x85\\xec\\xb2\\xb4 \\xeb\\x93\\xb1\\xeb\\xa1\\x9d</a> <a href=\"https://expert.naver.com/expert/introduction?tab=guide#join\" class=\"link_partner\" data-clk=\"expert\">\\xec\\x97\\x91\\xec\\x8a\\xa4\\xed\\x8d\\xbc\\xed\\x8a\\xb8 \\xeb\\x93\\xb1\\xeb\\xa1\\x9d</a> </div> <div class=\"partner_box\" data-clk-prefix=\"crt\"> <h3 class=\"title\">Developers</h3> <a href=\"https://developers.naver.com\" class=\"link_partner\" data-clk=\"center\">\\xeb\\x84\\xa4\\xec\\x9d\\xb4\\xeb\\xb2\\x84 \\xea\\xb0\\x9c\\xeb\\xb0\\x9c\\xec\\x9e\\x90 \\xec\\x84\\xbc\\xed\\x84\\xb0</a> <a href=\"https://developers.naver.com/docs/common/openapiguide/#/apilist.md\" class=\"link_partner\" data-clk=\"openapi\">\\xec\\x98\\xa4\\xed\\x94\\x88 API</a> <a href=\"https://naver.github.io\" class=\"link_partner\" data-clk=\"opensource\">\\xec\\x98\\xa4\\xed\\x94\\x88\\xec\\x86\\x8c\\xec\\x8a\\xa4</a> <a href=\"https://d2.naver.com\" class=\"link_partner\" data-clk=\"d2\">\\xeb\\x84\\xa4\\xec\\x9d\\xb4\\xeb\\xb2\\x84 D2</a> <a href=\"http://d2startup.com\" class=\"link_partner\" data-clk=\"naverD2SF\">\\xeb\\x84\\xa4\\xec\\x9d\\xb4\\xeb\\xb2\\x84 D2SF</a> <a href=\"https://www.naverlabs.com\" class=\"link_partner\" data-clk=\"labs\">\\xeb\\x84\\xa4\\xec\\x9d\\xb4\\xeb\\xb2\\x84 \\xeb\\x9e\\xa9\\xec\\x8a\\xa4</a> </div> </div> <div class=\"service_box_wrap\"> <div class=\"service_box\" data-clk-prefix=\"wbd\"> <a href=\"http://whale.naver.com/\" class=\"service_logo\" data-clk=\"bt\"> <img src=\"data:image/png;base64,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\" alt=\"\\xec\\x9b\\xa8\\xec\\x9d\\xbc\" width=\"48\" height=\"48\"> </a> <div class=\"service_info\"> <strong class=\"title\">\\xec\\x9b\\xa8\\xec\\x9d\\xbc \\xeb\\xb8\\x8c\\xeb\\x9d\\xbc\\xec\\x9a\\xb0\\xec\\xa0\\x80</strong> <a href=\"http://whale.naver.com/\" class=\"dsc\" data-clk=\"bt\">\\xeb\\x8b\\xa4\\xec\\x9a\\xb4\\xeb\\xb0\\x9b\\xea\\xb8\\xb0</a> </div> </div> <div class=\"service_box\" data-clk-prefix=\"prj\"> <a href=\"https://search.naver.com/search.naver?where=nexearch&sm=top_hty&fbm=1&ie=utf8&query=%ED%94%84%EB%A1%9C%EC%A0%9D%ED%8A%B8%EA%BD%83\" class=\"service_logo\" data-clk=\"link\"> <img src=\"data:image/png;base64,iVBORw0KGgoAAAANSUhEUgAAAF4AAABkCAMAAAA47XeXAAAAgVBMVEUAAADN5PdGm99Gm99Gm99Gm99Gm95Gm99Gm99Gm99Gm99Gm99Gm99Gm99Gm99Gm99Gm99Gm99Gm99Gm99Gm99Gm99Gm99Gmt9Gm99Gm99Gm99Gm95Gm99Gm99Gm95Gm99Hm99Gm99Gm9/////3+/5cp+LO5PfR5/fO5fdcp+P7/f/zv5GhAAAAInRSTlMA/v7vH9u5qJNgGwb6l8a9uqF9WFUyLxYMCtbVmLCwe4OCj8gzEgAAA0NJREFUaN7NmmFz4iAQhkkwMTHGWrWtWvWuq8mF+/8/8Ey2nb0OhSwQZnw+MHQ7pbjAy2s2gsuiLPJMLpcyy4tyISZltnmHbxw3MzEVr/MUNNL5q5iCt2ccXCN9fhPB7CQYkTsRRlWDlboSAexzGCHfC28OKxhldfDOzBMwePLNTw0sauHFFphshQcLCUwkaQRfXYBPSkrEUBdv3jezcXXhw1ciUhc+fCUidQlH7qzqEk5d2dQlnHxvU5dwVgdXdSGclaiGyamt6hLO1qIu4ZASzcFE092SBprk1jagulvXAAw/qb5N7m176xQYmOPoLymYaK/X65/PNhlagE6LGUhfRM8FjNzuf/73//bHmInzoJEpjMyeWpp9RzGz/PT6+QvMNO2Q+67PPeYZY5h7jDVg5OM+/BGikd13JfDAj/Ad1WLMyEyUwKPT00ypN1GKAljQJtFiFgqRe86eYhbWIvPPPR5d+9pKiIgUwKNJdHXBvW9jyRye1EWLWYfnJcd141Byspizz7gbUyWDuqiW0v15D9g3ZgF86JwyKUgUHJaATUmS5rsEdkkTZLjZS8Alw+skFr8Nl6H6uosShaKOp3Zo+/jgFTDe+wcSfv0yFGfQaLX7tDO0reXOPRuMCG4Q11Y3IiYblWgzS7R+h31qdRtlGB7zikeUckz+AB3a8FuMqD7Cd2nhUHLOEIkLubQIkEuLxIdwEwUy3HyXxsbgPMJcGuGox+TSIugxuTQ+KHIaAS5N92eIIuMT5tJoPfHy5q9yKoXLelLuKRri0mjMQdhwTPw6Sv8pzKXhFyhNilEwkSCXRrnAnaPnJdyl0UrqXircpeHVglnv+62K4NJo3lFcGmWd79KO7OQoXAE8XNO6tIQGxj7fpfHTwk8RubQLWEGvgTNGKzj01fixunCMCCYcvSSlaFwUyKVx86J3bczpUR3zimq1LqdosAUbJF54ar+uk5Gju436mPTk8ZAXFdO93HRYTesUVgf3B+y0XdxLfdVputmfKp/iBtNjyl3c0kzUwtJIWewIPvAL9LOyWLsV9WAps3VRzh6hJBm3oOqsRKfHLGYzS/GP+iLBuBKdqkd+iWPkFZTHf4Em4us/uhI5qss/6zK5u8+AXpwAAAAASUVORK5CYII=\" alt=\"\\xea\\xbd\\x83\" width=\"47\" height=\"50\"> </a> <div class=\"service_info\"> <strong class=\"title\">\\xed\\x94\\x84\\xeb\\xa1\\x9c\\xec\\xa0\\x9d\\xed\\x8a\\xb8 \\xea\\xbd\\x83</strong> <a href=\"https://search.naver.com/search.naver?where=nexearch&sm=top_hty&fbm=1&ie=utf8&query=%ED%94%84%EB%A1%9C%EC%A0%9D%ED%8A%B8%EA%BD%83\" class=\"dsc\" data-clk=\"link\">\\xeb\\xb0\\x94\\xeb\\xa1\\x9c\\xea\\xb0\\x80\\xea\\xb8\\xb0</a> </div> </div> </div> </div> <div class=\"corp_area\" data-clk-prefix=\"plc\"> <h3 class=\"blind\">\\xeb\\x84\\xa4\\xec\\x9d\\xb4\\xeb\\xb2\\x84 \\xec\\xa0\\x95\\xec\\xb1\\x85 \\xeb\\xb0\\x8f \\xec\\x95\\xbd\\xea\\xb4\\x80</h3> <ul class=\"list_corp\"> <li class=\"corp_item\"><a href=\"https://www.navercorp.com\" data-clk=\"intronhn\">\\xed\\x9a\\x8c\\xec\\x82\\xac\\xec\\x86\\x8c\\xea\\xb0\\x9c</a></li> <li class=\"corp_item\"><a href=\"https://recruit.navercorp.com/naver/recruitMain\" data-clk=\"recruit\">\\xec\\x9d\\xb8\\xec\\x9e\\xac\\xec\\xb1\\x84\\xec\\x9a\\xa9</a></li> <li class=\"corp_item\"><a href=\"https://www.navercorp.com/naver/proposalGuide\" data-clk=\"contact\">\\xec\\xa0\\x9c\\xed\\x9c\\xb4\\xec\\xa0\\x9c\\xec\\x95\\x88</a></li> <li class=\"corp_item\"><a href=\"/policy/service.html\" data-clk=\"service\">\\xec\\x9d\\xb4\\xec\\x9a\\xa9\\xec\\x95\\xbd\\xea\\xb4\\x80</a></li> <li class=\"corp_item\"><a href=\"/policy/privacy.html\" data-clk=\"privacy\"><strong>\\xea\\xb0\\x9c\\xec\\x9d\\xb8\\xec\\xa0\\x95\\xeb\\xb3\\xb4\\xec\\xb2\\x98\\xeb\\xa6\\xac\\xeb\\xb0\\xa9\\xec\\xb9\\xa8</strong></a></li> <li class=\"corp_item\"><a href=\"/policy/youthpolicy.html\" data-clk=\"youth\">\\xec\\xb2\\xad\\xec\\x86\\x8c\\xeb\\x85\\x84\\xeb\\xb3\\xb4\\xed\\x98\\xb8\\xec\\xa0\\x95\\xec\\xb1\\x85</a></li> <li class=\"corp_item\"><a href=\"/policy/spamcheck.html\" data-clk=\"policy\">\\xeb\\x84\\xa4\\xec\\x9d\\xb4\\xeb\\xb2\\x84 \\xec\\xa0\\x95\\xec\\xb1\\x85</a></li> <li class=\"corp_item\"><a href=\"https://help.naver.com/\" data-clk=\"helpcenter\">\\xea\\xb3\\xa0\\xea\\xb0\\x9d\\xec\\x84\\xbc\\xed\\x84\\xb0</a></li> </ul> <address class=\"addr\"><a href=\"https://www.navercorp.com\" target=\"_blank\" data-clk=\"nhn\">\\xe2\\x93\\x92 NAVER Corp.</a></address> </div> </div> </div> </div> <div id=\"adscript\" style=\"display:none\"></div> </body> </html>\\n'\n"
          ]
        }
      ]
    },
    {
      "cell_type": "markdown",
      "source": [
        "## **17.2. 외부 모듈**"
      ],
      "metadata": {
        "id": "PltNxTkL9NEl"
      }
    },
    {
      "cell_type": "markdown",
      "source": [
        "사람들이 직접 만들어서 배포하는 모듈을 **외부 모듈**이라고 합니다. **넘파이(Numpy)**, **판다스(Pandas)**, **사이킷런(scikit-learn)**, **맷플롯립(Matplotlib)**, **텐서플로우(Tensorflow)**, **플라스크(Flask)**, **장고(Django)** 등 많은 종류의 외부 모듈이 존재합니다. 기실 명확한 명칭이라면 모듈보다는 패키지가 더 적확한 표현입니다. 물론 구분하지 않고 써도 무관합니다.\n",
        "\n",
        "모듈은 `라이브러리(library)`와 `프레임워크(framework)`로 나뉩니다. 라이브러리는 정상적으로 제어하는 모듈이고, 프레임워크는 제어 역전이 발생하는 모듈입니다. 현업에서는 둘을 구분하지 않고 사용합니다. 라이브러리와 프레임워크의 차이점은 [링크](https://m.blog.naver.com/dktmrorl/222121510562)를 참고하시기 바랍니다.\n",
        "\n",
        "모듈을 설정하는 형식은 아래와 같습니다.\n",
        "\n",
        "```\n",
        "pip install 모듈명\n",
        "```\n",
        "\n",
        "여기서 사용하는 `pip`는 패키지입니다. 자세한 내용은 [링크](https://pip.pypa.io/en/stable/user_guide/#installing-packages)를 참조하시기 바랍니다."
      ],
      "metadata": {
        "id": "0YYsIkAzw052"
      }
    },
    {
      "cell_type": "code",
      "source": [
        "import pip\n",
        "\n",
        "help(pip)"
      ],
      "metadata": {
        "colab": {
          "base_uri": "https://localhost:8080/"
        },
        "id": "x4TBKLnx2S2c",
        "outputId": "4ca545ef-c0b8-4811-bc4b-42732bf19028"
      },
      "execution_count": null,
      "outputs": [
        {
          "output_type": "stream",
          "name": "stdout",
          "text": [
            "Help on package pip:\n",
            "\n",
            "NAME\n",
            "    pip\n",
            "\n",
            "PACKAGE CONTENTS\n",
            "    __main__\n",
            "    _internal (package)\n",
            "    _vendor (package)\n",
            "\n",
            "FUNCTIONS\n",
            "    main(args=None)\n",
            "        This is an internal API only meant for use by pip's own console scripts.\n",
            "        \n",
            "        For additional details, see https://github.com/pypa/pip/issues/7498.\n",
            "\n",
            "DATA\n",
            "    List = typing.List\n",
            "    Optional = typing.Optional\n",
            "\n",
            "VERSION\n",
            "    21.1.3\n",
            "\n",
            "FILE\n",
            "    /usr/local/lib/python3.7/dist-packages/pip/__init__.py\n",
            "\n",
            "\n"
          ]
        }
      ]
    },
    {
      "cell_type": "markdown",
      "source": [
        "데이터 분석에 필요한 모듈은 **2. 데이터를 다루기 위한 파이썬 패키지**에서 상세하게 다루겠습니다. "
      ],
      "metadata": {
        "id": "DkHLk-G7yAue"
      }
    },
    {
      "cell_type": "markdown",
      "metadata": {
        "id": "_HPsmpz5kyNK"
      },
      "source": [
        "## **17.3. 모듈 생성하기**"
      ]
    },
    {
      "cell_type": "markdown",
      "metadata": {
        "id": "4k2bTts5k5Na"
      },
      "source": [
        "모듈은 코드를 작성한 후에 `모듈명.py` 파일로 저장합니다.\n",
        "\n",
        "먼저 **IPython**에 있는 **내장 마술 명령어(magic command)**인 `%%writefile`에 대해 설명하겠습니다. 이 명령어로 코드를 파일로 저장할 수 있습니다. 예시는 아래와 같습니다.\n",
        "\n",
        "```\n",
        "%%writefile -a 파일명.py\n",
        "코드 내용\n",
        "```\n",
        "\n",
        "여기서 `-a`를 지정하면 기존 파일 내용의 뒤에 내용을 추가하고, 지정하지 않으면 같은 파일명을 가진 파일에 내용을 덮어씁니다.\n",
        "\n",
        "다음은 `%load` 명령어를 사용해서 코드 파일을 불러오는 방법입니다.\n",
        "\n",
        "```\n",
        "%load 파일명.py\n",
        "```\n",
        "\n",
        "마지막으로 `%run` 명령어를 사용해서 코드 파일을 실행하는 방법입니다.\n",
        "\n",
        "```\n",
        "%run 파일명.py\n",
        "```"
      ]
    },
    {
      "cell_type": "markdown",
      "metadata": {
        "id": "N-fRtd5esE3T"
      },
      "source": [
        "이제 간단한 모듈을 작성하겠습니다. 기존에 경로를 설정했던 '/content/gdrive/MyDrive/Python_for_Data_Analytics_Science'에 저장하겠습니다."
      ]
    },
    {
      "cell_type": "code",
      "metadata": {
        "colab": {
          "base_uri": "https://localhost:8080/"
        },
        "id": "mnMS0ydfsaeQ",
        "outputId": "6ac27f5c-7dd2-414d-9b0d-f66718771729"
      },
      "source": [
        "# `-a`를 지정하지 않겠습니다. \n",
        "%%writefile /content/gdrive/MyDrive/Python_for_Data_Analytics_Science/test_module.py\n",
        "\n",
        "def test_print():\n",
        "    return 'Is it test?'\n",
        "\n",
        "a = 15\n",
        "b = 30\n",
        "\n",
        "def test_num(c):\n",
        "    return a + b * c"
      ],
      "execution_count": null,
      "outputs": [
        {
          "output_type": "stream",
          "name": "stdout",
          "text": [
            "Overwriting /content/gdrive/MyDrive/Python_for_Data_Analytics_Science/test_module.py\n"
          ]
        }
      ]
    },
    {
      "cell_type": "markdown",
      "metadata": {
        "id": "F9HdD8Axs_rw"
      },
      "source": [
        "파일을 확인하겠습니다. `!type` 명령어를 사용합니다."
      ]
    },
    {
      "cell_type": "code",
      "metadata": {
        "colab": {
          "base_uri": "https://localhost:8080/"
        },
        "id": "Ng9iVFALtDqd",
        "outputId": "23973a77-3cee-4f61-cd73-7b0bc4d2ce31"
      },
      "source": [
        "!type /content/gdrive/MyDrive/Python_for_Data_Analytics_Science/test_module.py"
      ],
      "execution_count": null,
      "outputs": [
        {
          "output_type": "stream",
          "name": "stdout",
          "text": [
            "/content/gdrive/MyDrive/Python_for_Data_Analytics_Science/test_module.py is /content/gdrive/MyDrive/Python_for_Data_Analytics_Science/test_module.py\n"
          ]
        }
      ]
    },
    {
      "cell_type": "markdown",
      "metadata": {
        "id": "k-2aBLOdtQyI"
      },
      "source": [
        "### **17.3.1. 모듈 임포트 하기**"
      ]
    },
    {
      "cell_type": "markdown",
      "metadata": {
        "id": "RMIBy9wz1h6e"
      },
      "source": [
        "모듈이 가진 클래스, 메서드, 변수는 `dir(모듈명)` 형식으로 확인할 수 있습니다. 먼저 모듈을 임포트 하고 클래스와 메서드, 변수를 확인하겠습니다."
      ]
    },
    {
      "cell_type": "code",
      "source": [
        "cd /content/gdrive/MyDrive/Python_for_Data_Analytics_Science"
      ],
      "metadata": {
        "colab": {
          "base_uri": "https://localhost:8080/"
        },
        "id": "RSMTXAEIxG94",
        "outputId": "0f497ac5-a19c-4873-af8f-c2e26ddb6679"
      },
      "execution_count": null,
      "outputs": [
        {
          "output_type": "stream",
          "name": "stdout",
          "text": [
            "/content/gdrive/MyDrive/Python_for_Data_Analytics_Science\n"
          ]
        }
      ]
    },
    {
      "cell_type": "code",
      "metadata": {
        "colab": {
          "base_uri": "https://localhost:8080/"
        },
        "id": "F_pZ7vx91eya",
        "outputId": "250399bf-7a09-49dd-d623-03914ce9f975"
      },
      "source": [
        "import test_module\n",
        "\n",
        "dir(test_module)"
      ],
      "execution_count": null,
      "outputs": [
        {
          "output_type": "execute_result",
          "data": {
            "text/plain": [
              "['__builtins__',\n",
              " '__cached__',\n",
              " '__doc__',\n",
              " '__file__',\n",
              " '__loader__',\n",
              " '__name__',\n",
              " '__package__',\n",
              " '__spec__',\n",
              " 'a',\n",
              " 'b',\n",
              " 'test_num',\n",
              " 'test_print']"
            ]
          },
          "metadata": {},
          "execution_count": 5
        }
      ]
    },
    {
      "cell_type": "markdown",
      "metadata": {
        "id": "H0xOEmuDtUmb"
      },
      "source": [
        "위에서 생성한 `test_module` 모듈의 함수와 변수를 호출하겠습니다."
      ]
    },
    {
      "cell_type": "code",
      "metadata": {
        "colab": {
          "base_uri": "https://localhost:8080/"
        },
        "id": "CRzahpKhuhlT",
        "outputId": "34e6a371-2684-4d31-d68b-bea6f5088593"
      },
      "source": [
        "print(f\"'test_print()' 함수를 호출하면 {test_module.test_print()}가 출력됩니다.\")\n",
        "print(f\"'test_sum()' 함수를 호출하면 {test_module.test_num(5)}가 출력됩니다.\")\n",
        "print(f\"'a' 변수를 호출하면 {test_module.a}가 출력됩니다.\")\n",
        "print(f\"'b' 변수를 호출하면 {test_module.b}가 출력됩니다.\")"
      ],
      "execution_count": null,
      "outputs": [
        {
          "output_type": "stream",
          "name": "stdout",
          "text": [
            "'test_print()' 함수를 호출하면 Is it test?가 출력됩니다.\n",
            "'test_sum()' 함수를 호출하면 165가 출력됩니다.\n",
            "'a' 변수를 호출하면 15가 출력됩니다.\n",
            "'b' 변수를 호출하면 30가 출력됩니다.\n"
          ]
        }
      ]
    },
    {
      "cell_type": "markdown",
      "metadata": {
        "id": "0dpuqE7e2Blu"
      },
      "source": [
        "간단한 예시를 하나만 들겠습니다."
      ]
    },
    {
      "cell_type": "code",
      "metadata": {
        "colab": {
          "base_uri": "https://localhost:8080/"
        },
        "id": "4Nmk01WW2D8z",
        "outputId": "e8113dae-9ab4-45ee-d6f9-49097614cd1c"
      },
      "source": [
        "# 두 요소를 임포트 하겠습니다.\n",
        "from test_module import test_print, b\n",
        "\n",
        "print(test_print())\n",
        "print(b)"
      ],
      "execution_count": null,
      "outputs": [
        {
          "output_type": "stream",
          "name": "stdout",
          "text": [
            "Is it test?\n",
            "30\n"
          ]
        }
      ]
    },
    {
      "cell_type": "markdown",
      "metadata": {
        "id": "4RFhPt0f3I2j"
      },
      "source": [
        "여러 다른 모듈이 각각 가진 요소(클래스, 함수, 변수)를 임포트 할 경우에 요소의 이름이 동일하면 가장 마지막 줄에서 선언한 요소만 사용할 수 있습니다. 마지막 줄보다 전에 선언한 요소는 마지막 줄에서 선언한 요소에 의해 뒤로 밀려나므로 사용할 수 없습니다.\n",
        "\n",
        "예컨대 `test_module1` 모듈의 `test_print` 함수를 선언하고, 그 다음 줄에서 `test_module2` 모듈의 `test_print` 함수를 선언하면, `test_module1` 모듈의 `test_print` 함수는 사용할 수 없습니다. `test_module2` 모듈의 `test_print` 함수만 사용할 수 있습니다."
      ]
    },
    {
      "cell_type": "markdown",
      "metadata": {
        "id": "C3kXAs9Xf7gb"
      },
      "source": [
        "참고로 요소를 임포트 할 때 별칭을 지정해서 사용할 수도 있습니다. 형식은 아래와 같습니다.\n",
        "\n",
        "```\n",
        "from test_module import test_print as tp\n",
        "from test_module import test_num as tn\n",
        "\n",
        "print(tp())\n",
        "print(tn(6))\n",
        "```\n"
      ]
    },
    {
      "cell_type": "markdown",
      "metadata": {
        "id": "d49uz9bHhRcw"
      },
      "source": [
        "### **17.3.2. 모듈 바로 실행하기**"
      ]
    },
    {
      "cell_type": "markdown",
      "metadata": {
        "id": "7mlKRQ4ShmX_"
      },
      "source": [
        "모듈을 임포트 하지 않고 바로 실행할 수 있습니다. `%run` 명령어를 사용하면 모듈을 바로 실행할 수 있습니다.\n",
        "\n",
        "예시는 아래와 같습니다."
      ]
    },
    {
      "cell_type": "code",
      "metadata": {
        "colab": {
          "base_uri": "https://localhost:8080/"
        },
        "id": "vO64tu45h-S4",
        "outputId": "c8a98ad1-390d-4ada-99c5-157e2a4bbad7"
      },
      "source": [
        "%%writefile /content/gdrive/MyDrive/Python_for_Data_Analytics_Science/test_module.py\n",
        "\n",
        "# 기존에 생성했던 `test_module` 모듈입니다.\n",
        "def test_print():\n",
        "    return 'Is it test?'\n",
        "\n",
        "a = 15\n",
        "b = 30\n",
        "\n",
        "def test_num(c):\n",
        "    return a + b * c\n",
        "\n",
        "# 단 이 모듈은 메서드와 변수만 선언되었고 출력하는 메서드는 선언하지 않았습니다.\n",
        "# 메서드가 바로 실행될 수 있도록 두 메서드를 추가합니다. 물론 테스트용입니다. \n",
        "print(test_print())\n",
        "print(test_num(5))"
      ],
      "execution_count": null,
      "outputs": [
        {
          "output_type": "stream",
          "name": "stdout",
          "text": [
            "Overwriting /content/gdrive/MyDrive/Python_for_Data_Analytics_Science/test_module.py\n"
          ]
        }
      ]
    },
    {
      "cell_type": "code",
      "metadata": {
        "colab": {
          "base_uri": "https://localhost:8080/"
        },
        "id": "zRKmmDgkis8I",
        "outputId": "16b386b5-b7b1-41e9-c1a3-292f5ac6e35c"
      },
      "source": [
        "%run /content/gdrive/MyDrive/Python_for_Data_Analytics_Science/test_module.py"
      ],
      "execution_count": null,
      "outputs": [
        {
          "output_type": "stream",
          "name": "stdout",
          "text": [
            "Is it test?\n",
            "165\n"
          ]
        }
      ]
    },
    {
      "cell_type": "markdown",
      "metadata": {
        "id": "00_P3mBemIg8"
      },
      "source": [
        "모듈이 바로 실행됐습니다. 다만 위 모듈의 마지막 줄에 추가한 두 메서드는 테스트용이므로 실제 애플리케이션에서는 반드시 삭제해야 합니다.\n",
        "\n",
        "물론 이 작업을 일일이 수행하지 않으면서 코드를 유지할 수 있는 방법이 있습니다. 모듈을 실제로 사용하는 경우와 테스트용으로 사용하는 경우를 구분지어서 필요에 따라 사용하도록 `if __name__ == \"main__\":` 형식을 붙입니다. 아래에서 이 형식을 사용해보겠습니다.\n",
        "\n",
        "파이썬은 `__name__` 변수를 사용할 수 있습니다. 이 변수에 무엇이 들어있는지 확인하겠습니다."
      ]
    },
    {
      "cell_type": "code",
      "source": [
        "print(__name__)"
      ],
      "metadata": {
        "colab": {
          "base_uri": "https://localhost:8080/"
        },
        "id": "Xc33HveBurWS",
        "outputId": "00326157-d4bf-4994-fcc0-6b27e12bbb4e"
      },
      "execution_count": null,
      "outputs": [
        {
          "output_type": "stream",
          "name": "stdout",
          "text": [
            "__main__\n"
          ]
        }
      ]
    },
    {
      "cell_type": "markdown",
      "source": [
        "`__main__`이 들어있습니다. 프로그래밍 언어에서 프로그램으로 진입하는 지점을 **엔트리 포인트(entry point)**라고 부릅니다. 출력된 결과처럼 **메인(main)**이라고 부르기도 합니다. 엔트리포인트 내부에서 `__name__`은 `__main__`인 것입니다.\n",
        "\n",
        "엔트리포인트 내부가 아닌 모듈 내부에서 `__name__`은 무엇을 출력하는지 확인하겠습니다. `main` 모듈을 생성하겠습니다."
      ],
      "metadata": {
        "id": "FTd-Wy4Vux6s"
      }
    },
    {
      "cell_type": "code",
      "source": [
        "%%writefile /content/gdrive/MyDrive/Python_for_Data_Analytics_Science/main.py\n",
        "\n",
        "import test_module\n",
        "\n",
        "print(__name__)"
      ],
      "metadata": {
        "colab": {
          "base_uri": "https://localhost:8080/"
        },
        "id": "XxCO1kywxbhr",
        "outputId": "f615769d-b75f-4100-846a-402c33158b62"
      },
      "execution_count": null,
      "outputs": [
        {
          "output_type": "stream",
          "name": "stdout",
          "text": [
            "Overwriting /content/gdrive/MyDrive/Python_for_Data_Analytics_Science/main.py\n"
          ]
        }
      ]
    },
    {
      "cell_type": "markdown",
      "source": [
        "`main` 모듈을 임포트 하겠습니다."
      ],
      "metadata": {
        "id": "2967527MClIg"
      }
    },
    {
      "cell_type": "code",
      "source": [
        "import main"
      ],
      "metadata": {
        "colab": {
          "base_uri": "https://localhost:8080/"
        },
        "id": "ygKr-fW3yARt",
        "outputId": "9f154599-00fb-426d-e4f9-4fec256a206a"
      },
      "execution_count": null,
      "outputs": [
        {
          "output_type": "stream",
          "name": "stdout",
          "text": [
            "main\n"
          ]
        }
      ]
    },
    {
      "cell_type": "markdown",
      "source": [
        "모듈명인 `main`이 들어있습니다. 모듈 내에 `__name__`을 선언하면 모듈명을 출력합니다.\n",
        "\n",
        "이제 `if __name__ == \"main__\":` 형식을 사용해보겠습니다. 모듈에 이 형식을 추가하겠습니다."
      ],
      "metadata": {
        "id": "7BAUM4tnCpze"
      }
    },
    {
      "cell_type": "code",
      "metadata": {
        "colab": {
          "base_uri": "https://localhost:8080/"
        },
        "id": "EgoBY98cjCN_",
        "outputId": "6d06196f-3276-45d6-ce36-00b8c521aa7a"
      },
      "source": [
        "%%writefile /content/gdrive/MyDrive/Python_for_Data_Analytics_Science/test_module.py\n",
        "\n",
        "def test_print():\n",
        "    return 'Is it test?'\n",
        "\n",
        "a = 15\n",
        "b = 30\n",
        "\n",
        "def test_num(c):\n",
        "    return a + b * c\n",
        "\n",
        "if __name__ == \"__main__\":\n",
        "    print('모듈을 테스트합니다.')\n",
        "    print(test_print())\n",
        "    print(test_num(5))"
      ],
      "execution_count": null,
      "outputs": [
        {
          "output_type": "stream",
          "name": "stdout",
          "text": [
            "Overwriting /content/gdrive/MyDrive/Python_for_Data_Analytics_Science/test_module.py\n"
          ]
        }
      ]
    },
    {
      "cell_type": "markdown",
      "metadata": {
        "id": "WBJFiZg7oVDn"
      },
      "source": [
        "이제 다시 모듈을 바로 실행하겠습니다."
      ]
    },
    {
      "cell_type": "code",
      "metadata": {
        "colab": {
          "base_uri": "https://localhost:8080/"
        },
        "id": "Yg2A39SYoZ6m",
        "outputId": "9a65745d-ed14-4346-ca36-53a746e73512"
      },
      "source": [
        "%run /content/gdrive/MyDrive/Python_for_Data_Analytics_Science/test_module.py"
      ],
      "execution_count": null,
      "outputs": [
        {
          "output_type": "stream",
          "name": "stdout",
          "text": [
            "모듈을 테스트합니다.\n",
            "Is it test?\n",
            "165\n"
          ]
        }
      ]
    },
    {
      "cell_type": "markdown",
      "metadata": {
        "id": "k7cm9_VCohJQ"
      },
      "source": [
        "`%run` 명령어를 선언하여 모듈을 바로 실행했으므로 추가한 내용이 그대로 출력됐습니다.\n",
        "\n",
        "이번에는 모듈을 임포트 하겠습니다."
      ]
    },
    {
      "cell_type": "code",
      "metadata": {
        "id": "FGjH-gF7ocKq"
      },
      "source": [
        "import test_module"
      ],
      "execution_count": null,
      "outputs": []
    },
    {
      "cell_type": "markdown",
      "metadata": {
        "id": "LeUPtGarpJMD"
      },
      "source": [
        "아무것도 출력되지 않았습니다. `if __name__ == \"main__\":` 형식을 추가하였으므로 모듈을 임포트 해도 바로 실행되지 않습니다. `__name__` 객체가 모듈명인 `test_module`과 일치하지 않기 때문입니다. 즉, 현재 파일이 엔트리 포인트로 실행되는지 모듈로 실행되는지 여부를 알 수 있습니다.\n",
        "\n",
        "엔트리 포인트로 실행하기 위해 새 모듈을 생성하겠습니다."
      ]
    },
    {
      "cell_type": "code",
      "source": [
        "%%writefile /content/gdrive/MyDrive/Python_for_Data_Analytics_Science/test_module_main.py\n",
        "\n",
        "import test_module as tm\n",
        "\n",
        "print(tm.test_print())\n",
        "print(tm.a)\n",
        "print(tm.b)\n",
        "print(tm.test_num(5))"
      ],
      "metadata": {
        "colab": {
          "base_uri": "https://localhost:8080/"
        },
        "id": "K_u1a1EZFNUl",
        "outputId": "4b420cfd-5e0f-47b9-e5ba-7992c5451f85"
      },
      "execution_count": null,
      "outputs": [
        {
          "output_type": "stream",
          "name": "stdout",
          "text": [
            "Overwriting /content/gdrive/MyDrive/Python_for_Data_Analytics_Science/test_module_main.py\n"
          ]
        }
      ]
    },
    {
      "cell_type": "markdown",
      "source": [
        "새 모듈을 임포트 하겠습니다."
      ],
      "metadata": {
        "id": "lo8TjcRNGJOp"
      }
    },
    {
      "cell_type": "code",
      "source": [
        "import test_module_main"
      ],
      "metadata": {
        "colab": {
          "base_uri": "https://localhost:8080/"
        },
        "id": "4qfwYEHUF2vU",
        "outputId": "88f52d76-1668-4881-c97f-92e3ae0a045b"
      },
      "execution_count": null,
      "outputs": [
        {
          "output_type": "stream",
          "name": "stdout",
          "text": [
            "Is it test?\n",
            "15\n",
            "30\n",
            "165\n"
          ]
        }
      ]
    },
    {
      "cell_type": "markdown",
      "metadata": {
        "id": "UcJdB-Cwhe6L"
      },
      "source": [
        "### **17.3.3. 모듈 임포트 후 실행하기**"
      ]
    },
    {
      "cell_type": "markdown",
      "metadata": {
        "id": "rBCaKeGfq6ao"
      },
      "source": [
        "모듈을 임포트 해서 실행하도록 구분하려면 위에서 추가한 if문에 `else` 조건을 추가합니다."
      ]
    },
    {
      "cell_type": "code",
      "metadata": {
        "colab": {
          "base_uri": "https://localhost:8080/"
        },
        "id": "pvJQVHWlrO8z",
        "outputId": "f71235ec-8fc2-4790-cf50-b1420494ac8c"
      },
      "source": [
        "%%writefile /content/gdrive/MyDrive/Python_for_Data_Analytics_Science/test_module.py\n",
        "\n",
        "def test_print():\n",
        "    return 'Is it test?'\n",
        "\n",
        "a = 15\n",
        "b = 30\n",
        "\n",
        "def test_num(c):\n",
        "    return a + b * c\n",
        "\n",
        "if __name__ == \"__main__\":\n",
        "    print('모듈을 테스트합니다.')\n",
        "    print(test_print())\n",
        "    print(test_num(5))\n",
        "else:\n",
        "    print('임포트 되었습니다. 모듈을 직접 실행합니다.')"
      ],
      "execution_count": null,
      "outputs": [
        {
          "output_type": "stream",
          "name": "stdout",
          "text": [
            "Overwriting /content/gdrive/MyDrive/Python_for_Data_Analytics_Science/test_module.py\n"
          ]
        }
      ]
    },
    {
      "cell_type": "code",
      "metadata": {
        "colab": {
          "base_uri": "https://localhost:8080/"
        },
        "id": "4GgpoSFqrhbX",
        "outputId": "4cb55516-88bb-49fd-f243-b2ba605666df"
      },
      "source": [
        "%run /content/gdrive/MyDrive/Python_for_Data_Analytics_Science/test_module.py"
      ],
      "execution_count": null,
      "outputs": [
        {
          "output_type": "stream",
          "name": "stdout",
          "text": [
            "모듈을 테스트합니다.\n",
            "Is it test?\n",
            "165\n"
          ]
        }
      ]
    },
    {
      "cell_type": "code",
      "metadata": {
        "id": "3-7S14cwri8D"
      },
      "source": [
        "import test_module"
      ],
      "execution_count": null,
      "outputs": []
    },
    {
      "cell_type": "markdown",
      "source": [
        "사실 모듈을 위 방식으로 임포트 하면 '임포트 되었습니다. 모듈을 직접 실행합니다.'가 출력되어야 하지만 출력되지 않았습니다. 해당 모듈을 한 번만이라도 선언하면 뒤에서 같은 모듈을 다시 선언해도 모듈의 수정된 내용을 반영하지 않습니다. '임포트 되었습니다. 모듈을 직접 실행합니다.'가 출력되게 하려면 모든 커널을 초기화하고 재시작해야 합니다."
      ],
      "metadata": {
        "id": "gGSgvdOl_alc"
      }
    },
    {
      "cell_type": "markdown",
      "metadata": {
        "id": "688jQoaLvJ2o"
      },
      "source": [
        "# **18. 패키지**"
      ]
    },
    {
      "cell_type": "markdown",
      "metadata": {
        "id": "TeASZz-zRu8m"
      },
      "source": [
        "여러 모듈을 한데 모아 놓은 것을 **패키지(pakage)**라고 부릅니다. 수많은 모듈을 모아서 패키지로 생성하면 코드를 효율적으로 다룰 수 있습니다.\n",
        "\n",
        "아래는 `helicopter`라는 이름을 가진 패키지의 구조에 대한 예시입니다.\n",
        "\n",
        "```\n",
        "\\--helicopter\n",
        "   |   __init__.py\n",
        "   |\n",
        "   +---go\n",
        "   |      go_up.py\n",
        "   |      go_down.py\n",
        "   |      go_right.py\n",
        "   |      go_left.py\n",
        "   |      __init__.py\n",
        "   |\n",
        "   +---stop\n",
        "   |      take_off.py\n",
        "   |      land.py\n",
        "   |      __init__.py\n",
        "   |\n",
        "   \\---inspect\n",
        "          full_check.py\n",
        "          part_check.py\n",
        "          __init__.py\n",
        "```\n",
        "\n",
        "패키지인 `helicopter`는 폴더 형식으로 구성됩니다. 이 패키지(폴더)안에 여러 폴더와 파일(모듈)이 포함되어 있습니다. 먼저 `helicopter` 폴더에 `__init__.py` 파일이 들어있고, `go`, `stop`, `inspect` 폴더에 각각 다른 파일(모듈)과 `__init__.py` 파일이 들어있습니다.\n",
        "\n",
        "각 폴더에 들어있는 `__init__.py` 파일은 패키지의 일부를 나타냅니다. 이 파일 안에 패키지 초기화 코드를 포함시킬 수도 있고 공백 파일로 형성할 수도 있습니다. 아울러 `__all__`이라는 이름을 가진 리스트를 포함시키는데, 이 리스트에 지정한 모듈들은 `from 패키지명 import *`로 모든 모듈을 임포트 할 때 전부 임포트 할 수 있도록 합니다. 아래 형식처럼 사용합니다.\n",
        "\n",
        "```\n",
        "__all__ = ['go_up', 'go_down', 'go_right', 'go_left', 'take_off', ..., 'part_check']\n",
        "\n",
        "# 선택 사항으로써 출력 문자열을 지정할 수도 있습니다.\n",
        "print('모든 패키지를 임포트 했습니다.')\n",
        "```\n",
        "\n",
        "`__init__.py` 파일은 파이썬 버전이 업그레이드되면서 불필요하게 된 파일이지만 하위 호환성을 고려하여 해당 파일을 꼭 생성하는 편이 현명합니다. "
      ]
    },
    {
      "cell_type": "markdown",
      "metadata": {
        "id": "0pmwaJmQSVb8"
      },
      "source": [
        "## **18.1. 패키지 생성하기**"
      ]
    },
    {
      "cell_type": "markdown",
      "metadata": {
        "id": "uiZ1Z5HgXUtw"
      },
      "source": [
        "위에서 예시한 `helicopter` 패키지를 생성하겠습니다. 먼저 구글 드라이브의 `/content/gdrive/MyDrive/Python_for_Data_Analytics_Science` 폴더에 `test_packages` 폴더를 생성하겠습니다."
      ]
    },
    {
      "cell_type": "code",
      "metadata": {
        "id": "pJfuxmjYmQbp",
        "colab": {
          "base_uri": "https://localhost:8080/"
        },
        "outputId": "eb602c28-4b6e-4bb5-d05b-cef8c5a3e8ad"
      },
      "source": [
        "mkdir /content/gdrive/MyDrive/Python_for_Data_Analytics_Science/test_packages"
      ],
      "execution_count": null,
      "outputs": [
        {
          "output_type": "stream",
          "name": "stdout",
          "text": [
            "mkdir: cannot create directory ‘/content/gdrive/MyDrive/Python_for_Data_Analytics_Science/test_packages’: File exists\n"
          ]
        }
      ]
    },
    {
      "cell_type": "markdown",
      "metadata": {
        "id": "aOsAW0VYfoYF"
      },
      "source": [
        "`test_packages` 폴더 안에 `helicopter` 폴더를 생성하겠습니다."
      ]
    },
    {
      "cell_type": "code",
      "metadata": {
        "id": "P5LFNn3JdrFv",
        "colab": {
          "base_uri": "https://localhost:8080/"
        },
        "outputId": "5e73c335-a66f-44aa-b242-cc5c20b86a4f"
      },
      "source": [
        "mkdir /content/gdrive/MyDrive/Python_for_Data_Analytics_Science/test_packages/helicopter"
      ],
      "execution_count": null,
      "outputs": [
        {
          "output_type": "stream",
          "name": "stdout",
          "text": [
            "mkdir: cannot create directory ‘/content/gdrive/MyDrive/Python_for_Data_Analytics_Science/test_packages/helicopter’: File exists\n"
          ]
        }
      ]
    },
    {
      "cell_type": "markdown",
      "metadata": {
        "id": "MqCsftAef4it"
      },
      "source": [
        "이제 `helicopter` 폴더 안에 `__init__.py` 파일을 생성하겠습니다. 예시이므로 공백 파일로 생성하겠습니다. 아래에 주석으로 `#None`이라고 달아뒀습니다. 아무 내용도 넣지 않으면 매직 명령어가 작동하지 않습니다."
      ]
    },
    {
      "cell_type": "code",
      "metadata": {
        "colab": {
          "base_uri": "https://localhost:8080/"
        },
        "id": "z2SmX7rAgPWe",
        "outputId": "95d3918c-426b-4fcd-a9eb-9d29e7dbc920"
      },
      "source": [
        "%%writefile /content/gdrive/MyDrive/Python_for_Data_Analytics_Science/test_packages/helicopter/__init__.py\n",
        "# None"
      ],
      "execution_count": null,
      "outputs": [
        {
          "output_type": "stream",
          "name": "stdout",
          "text": [
            "Overwriting /content/gdrive/MyDrive/Python_for_Data_Analytics_Science/test_packages/helicopter/__init__.py\n"
          ]
        }
      ]
    },
    {
      "cell_type": "markdown",
      "metadata": {
        "id": "I6AZNQlNn8a7"
      },
      "source": [
        "`helicopter` 폴더 안에 `go` 폴더를 만들고 `__init__.py` 파일을 생성하겠습니다. 이 파일 역시 공백 파일입니다."
      ]
    },
    {
      "cell_type": "code",
      "metadata": {
        "id": "hQTVVWwNhXT5",
        "colab": {
          "base_uri": "https://localhost:8080/"
        },
        "outputId": "e6ab0c8c-ad98-4ed3-9ff3-2e7564b46724"
      },
      "source": [
        "mkdir /content/gdrive/MyDrive/Python_for_Data_Analytics_Science/test_packages/helicopter/go"
      ],
      "execution_count": null,
      "outputs": [
        {
          "output_type": "stream",
          "name": "stdout",
          "text": [
            "mkdir: cannot create directory ‘/content/gdrive/MyDrive/Python_for_Data_Analytics_Science/test_packages/helicopter/go’: File exists\n"
          ]
        }
      ]
    },
    {
      "cell_type": "code",
      "metadata": {
        "colab": {
          "base_uri": "https://localhost:8080/"
        },
        "id": "cmnoo_40ha9r",
        "outputId": "40332aaa-7577-4559-ed2a-07fcfb90871d"
      },
      "source": [
        "%%writefile /content/gdrive/MyDrive/Python_for_Data_Analytics_Science/test_packages/helicopter/go/__init__.py\n",
        "# None"
      ],
      "execution_count": null,
      "outputs": [
        {
          "output_type": "stream",
          "name": "stdout",
          "text": [
            "Overwriting /content/gdrive/MyDrive/Python_for_Data_Analytics_Science/test_packages/helicopter/go/__init__.py\n"
          ]
        }
      ]
    },
    {
      "cell_type": "markdown",
      "metadata": {
        "id": "FYju8AC4o9MM"
      },
      "source": [
        "이제 `go` 폴더 안에 파일을 만들겠습니다. `go_up.py` 파일과 `go_down.py` 파일만 만들겠습니다. 이 파일들은 `go` 폴더 안에 분류한 모듈입니다."
      ]
    },
    {
      "cell_type": "code",
      "metadata": {
        "colab": {
          "base_uri": "https://localhost:8080/"
        },
        "id": "Zs3likj1n5pz",
        "outputId": "8f787e43-31d6-4761-b44e-26669154d330"
      },
      "source": [
        "%%writefile /content/gdrive/MyDrive/Python_for_Data_Analytics_Science/test_packages/helicopter/go/go_up.py\n",
        "\n",
        "def go_up_fast():\n",
        "    print('고도를 빠르게 올립니다.')\n",
        "\n",
        "def go_up_slow():\n",
        "    print('고도를 천천히 올립니다.')"
      ],
      "execution_count": null,
      "outputs": [
        {
          "output_type": "stream",
          "name": "stdout",
          "text": [
            "Overwriting /content/gdrive/MyDrive/Python_for_Data_Analytics_Science/test_packages/helicopter/go/go_up.py\n"
          ]
        }
      ]
    },
    {
      "cell_type": "code",
      "metadata": {
        "colab": {
          "base_uri": "https://localhost:8080/"
        },
        "id": "wOxx0dYM0hBB",
        "outputId": "145f69b0-67a1-4519-9cbb-bc0808b98e40"
      },
      "source": [
        "%%writefile /content/gdrive/MyDrive/Python_for_Data_Analytics_Science/test_packages/helicopter/go/go_down.py\n",
        "\n",
        "def go_down_fast():\n",
        "    print('고도를 빠르게 내립니다.')\n",
        "\n",
        "def go_down_slow():\n",
        "    print('고도를 천천히 내립니다.')"
      ],
      "execution_count": null,
      "outputs": [
        {
          "output_type": "stream",
          "name": "stdout",
          "text": [
            "Overwriting /content/gdrive/MyDrive/Python_for_Data_Analytics_Science/test_packages/helicopter/go/go_down.py\n"
          ]
        }
      ]
    },
    {
      "cell_type": "markdown",
      "metadata": {
        "id": "VU9irIW5SdkP"
      },
      "source": [
        "## **18.2. 패키지 사용하기**"
      ]
    },
    {
      "cell_type": "markdown",
      "metadata": {
        "id": "MgVvezOGteUd"
      },
      "source": [
        "패키지의 모듈, 클래스, 메서드, 함수를 호출하는 방법은 기존 방법과 같습니다. 폴더 내 모듈을 임포트 하려면 `import 패키지명.폴더명.모듈명` 형식으로 선언하면 됩니다. 마찬가지로 모듈 내 클래스를 호출하려면 `import 패키지명.폴더명.모듈명.클래스명`을 선언합니다.\n",
        "\n",
        "아래에 몇 가지 예제를 들겠습니다. 먼저 `go_up` 모듈을 임포트 하고 두 메서드를 실행하겠습니다."
      ]
    },
    {
      "cell_type": "code",
      "metadata": {
        "colab": {
          "base_uri": "https://localhost:8080/"
        },
        "id": "sW9mTv9DuQVx",
        "outputId": "fb854eb2-bcb5-4aa0-f24c-96d1ee06446f"
      },
      "source": [
        "import test_packages.helicopter.go.go_up\n",
        "\n",
        "test_packages.helicopter.go.go_up.go_up_fast()\n",
        "test_packages.helicopter.go.go_up.go_up_slow()"
      ],
      "execution_count": null,
      "outputs": [
        {
          "output_type": "stream",
          "name": "stdout",
          "text": [
            "고도를 빠르게 올립니다.\n",
            "고도를 천천히 올립니다.\n"
          ]
        }
      ]
    },
    {
      "cell_type": "markdown",
      "metadata": {
        "id": "8Qfhb6O1v_iO"
      },
      "source": [
        "메서드까지 접근하여 호출하는 코드가 매우 길게 늘어집니다. 이런 경우에는 `from 패키지명 또는 폴더명 import 임포트할 것` 형식으로 짧게 서술할 수 있습니다."
      ]
    },
    {
      "cell_type": "code",
      "metadata": {
        "colab": {
          "base_uri": "https://localhost:8080/"
        },
        "id": "OSxRXDPiwik_",
        "outputId": "ba806fa8-eac6-45da-eb41-d87d67daad09"
      },
      "source": [
        "from test_packages.helicopter.go import go_up\n",
        "\n",
        "go_up.go_up_fast()"
      ],
      "execution_count": null,
      "outputs": [
        {
          "output_type": "stream",
          "name": "stdout",
          "text": [
            "고도를 빠르게 올립니다.\n"
          ]
        }
      ]
    },
    {
      "cell_type": "markdown",
      "metadata": {
        "id": "T24fShMUy0wG"
      },
      "source": [
        "메서드만 코드로 작성해서 호출하겠습니다."
      ]
    },
    {
      "cell_type": "code",
      "metadata": {
        "colab": {
          "base_uri": "https://localhost:8080/"
        },
        "id": "smr6QSnfy6tM",
        "outputId": "cb609777-a543-4a4e-f5e2-3a664212ed4e"
      },
      "source": [
        "from test_packages.helicopter.go.go_up import go_up_fast\n",
        "go_up_fast()"
      ],
      "execution_count": null,
      "outputs": [
        {
          "output_type": "stream",
          "name": "stdout",
          "text": [
            "고도를 빠르게 올립니다.\n"
          ]
        }
      ]
    },
    {
      "cell_type": "markdown",
      "metadata": {
        "id": "WqEI_duQzMMd"
      },
      "source": [
        "모든 메서드를 호출하려면 `import *` 형식을 취합니다. 필요한 메서드만 호출하려면 `import 메서드명, 메서드명, ..., 메서드명` 형식을 취합니다."
      ]
    },
    {
      "cell_type": "code",
      "metadata": {
        "id": "wfVKwky7zWP_"
      },
      "source": [
        "# 모든 메서드를 선언합니다.\n",
        "from test_packages.helicopter.go.go_up import *\n",
        "\n",
        "# 필요한 메서드만 선언합니다.\n",
        "from test_packages.helicopter.go.go_up import go_up_fast, go_up_slow"
      ],
      "execution_count": null,
      "outputs": []
    },
    {
      "cell_type": "markdown",
      "metadata": {
        "id": "_HUGJ7Tr0G4A"
      },
      "source": [
        "참고로 모듈, 클래스, 메서드, 변수 모두 `as 별칭` 형식으로 별칭을 붙일 수 있습니다. 이는 위에서 다뤘던 내용이므로 생략하겠습니다."
      ]
    },
    {
      "cell_type": "markdown",
      "metadata": {
        "id": "UX2byMPV0bJ-"
      },
      "source": [
        "# **연습문제 풀이**"
      ]
    },
    {
      "cell_type": "markdown",
      "source": [
        "* 리스트에 포함된 숫자들을 홀수와 짝수로 나누고 자릿수를 출력하세요.\n",
        "\n",
        "```\n",
        "<출력 결과>\n",
        "홀수 1135는 4자릿수입니다.\n",
        "홀수 223는 3자릿수입니다.\n",
        "짝수 734는 3자릿수입니다.\n",
        "짝수 112는 3자릿수입니다.\n",
        "짝수 704는 3자릿수입니다.\n",
        "짝수 98는 2자릿수입니다.\n",
        "```"
      ],
      "metadata": {
        "id": "kTZw0RtKlYO8"
      }
    },
    {
      "cell_type": "code",
      "source": [
        "# 제시문\n",
        "list_of_numbers = [1135, 223, 734, 112, 704, 98]"
      ],
      "metadata": {
        "id": "CRUqgYF5oX1Y"
      },
      "execution_count": null,
      "outputs": []
    },
    {
      "cell_type": "code",
      "source": [
        "# 답안\n",
        "for number in numbers:\n",
        "    if number % 2 == 1:\n",
        "        print(f'홀수 {number}는 {len(str(number))}자릿수입니다.')\n",
        "    else:\n",
        "        print(f'짝수 {number}는 {len(str(number))}자릿수입니다.')"
      ],
      "metadata": {
        "colab": {
          "base_uri": "https://localhost:8080/"
        },
        "id": "BlCQHAbilq-8",
        "outputId": "2a386db2-0aa4-4ace-a248-a74df37ec99d"
      },
      "execution_count": null,
      "outputs": [
        {
          "output_type": "stream",
          "name": "stdout",
          "text": [
            "홀수 1135는 4자릿수입니다.\n",
            "홀수 223는 3자릿수입니다.\n",
            "짝수 734는 3자릿수입니다.\n",
            "짝수 112는 3자릿수입니다.\n",
            "짝수 704는 3자릿수입니다.\n",
            "짝수 98는 2자릿수입니다.\n"
          ]
        }
      ]
    },
    {
      "cell_type": "markdown",
      "source": [
        "\n",
        "\n",
        "---\n",
        "\n"
      ],
      "metadata": {
        "id": "f2etN6ZAwQ7s"
      }
    },
    {
      "cell_type": "markdown",
      "source": [
        "* 리스트에 포함된 숫자들을 세로로 출력하세요.\n",
        "\n",
        "```\n",
        "<출력 결과>\n",
        "1\n",
        "2\n",
        "3\n",
        "4\n",
        "5\n",
        "6\n",
        "7\n",
        "```"
      ],
      "metadata": {
        "id": "cOdiG0gRgG61"
      }
    },
    {
      "cell_type": "code",
      "source": [
        "# 제시문\n",
        "list_of_lists = [\n",
        "               [1, 2],\n",
        "               [3, 4, 5],\n",
        "               [6, 7]\n",
        "]"
      ],
      "metadata": {
        "id": "bOGKdWyQocuc"
      },
      "execution_count": null,
      "outputs": []
    },
    {
      "cell_type": "code",
      "source": [
        "# 답안\n",
        "for nums in list_of_lists:\n",
        "    for num in nums:\n",
        "        print(num)"
      ],
      "metadata": {
        "colab": {
          "base_uri": "https://localhost:8080/"
        },
        "id": "fRumU0jEgP7Z",
        "outputId": "ea7782b8-01d9-4590-fcc7-4cb654382126"
      },
      "execution_count": null,
      "outputs": [
        {
          "output_type": "stream",
          "name": "stdout",
          "text": [
            "1\n",
            "2\n",
            "3\n",
            "4\n",
            "5\n",
            "6\n",
            "7\n"
          ]
        }
      ]
    },
    {
      "cell_type": "markdown",
      "source": [
        "---"
      ],
      "metadata": {
        "id": "5hYuPFAKwUiL"
      }
    },
    {
      "cell_type": "markdown",
      "source": [
        "* 리스트를 출력하세요.\n",
        "\n",
        "```\n",
        "<출력 결과>\n",
        "[[1, 5, 9], [2, 6, 10], [3, 7, 11], [4, 8, 12]]\n",
        "```"
      ],
      "metadata": {
        "id": "peTbW0chjrsv"
      }
    },
    {
      "cell_type": "code",
      "source": [
        "# 제시문\n",
        "numbers = [1, 2, 3, 4, 5, 6, 7, 8, 9, 10, 11, 12]\n",
        "list_of_lists = [[], [], [], []]"
      ],
      "metadata": {
        "id": "-B52MCcWof4d"
      },
      "execution_count": null,
      "outputs": []
    },
    {
      "cell_type": "code",
      "source": [
        "# 답안\n",
        "for number in numbers:\n",
        "    list_of_lists[(number + 3) % 4].append(number)\n",
        "\n",
        "print(list_of_lists)"
      ],
      "metadata": {
        "colab": {
          "base_uri": "https://localhost:8080/"
        },
        "id": "qKdl2glth-gE",
        "outputId": "67cae169-6f90-42c3-a98f-c698927ad42d"
      },
      "execution_count": null,
      "outputs": [
        {
          "output_type": "stream",
          "name": "stdout",
          "text": [
            "[[1, 5, 9], [2, 6, 10], [3, 7, 11], [4, 8, 12]]\n"
          ]
        }
      ]
    },
    {
      "cell_type": "markdown",
      "source": [
        "\n",
        "\n",
        "---\n",
        "\n"
      ],
      "metadata": {
        "id": "ecudN4LwwYu5"
      }
    },
    {
      "cell_type": "markdown",
      "source": [
        "* 리스트에 포함된 딕셔너리에서 정보를 출력하세요.\n",
        "\n",
        "```\n",
        "<출력결과>\n",
        "# 내가 좋아하는 게임 시리즈\n",
        "1. 슈퍼마리오 시리즈(닌텐도)\n",
        "2. 젤다의 전설 시리즈(닌텐도)\n",
        "3. 소닉 시리즈(세가)\n",
        "4. 삼국지 시리즈(코에이)\n",
        "5. 스타크래프트 시리즈(블리자드)\n",
        "```"
      ],
      "metadata": {
        "id": "bPRbL9d0ony8"
      }
    },
    {
      "cell_type": "code",
      "source": [
        "# 제시문\n",
        "list_of_games = [\n",
        "         {'name': '슈퍼마리오', 'brand': '닌텐도'},\n",
        "         {'name': '젤다의 전설', 'brand': '닌텐도'},\n",
        "         {'name': '소닉', 'brand': '세가'},\n",
        "         {'name': '삼국지', 'brand': '코에이'},\n",
        "         {'name': '스타크래프트', 'brand': '블리자드'}\n",
        "]"
      ],
      "metadata": {
        "id": "BOPBrxfVpp75"
      },
      "execution_count": null,
      "outputs": []
    },
    {
      "cell_type": "code",
      "source": [
        "# 답안\n",
        "print_order = 1\n",
        "\n",
        "for games in list_of_games:\n",
        "    print(f\"{print_order}. {games['name']} 시리즈({games['brand']})\")\n",
        "    print_order += 1"
      ],
      "metadata": {
        "colab": {
          "base_uri": "https://localhost:8080/"
        },
        "id": "6J7CnVeIqoa1",
        "outputId": "f394334c-6e0b-4516-c705-2b95da98990b"
      },
      "execution_count": null,
      "outputs": [
        {
          "output_type": "stream",
          "name": "stdout",
          "text": [
            "1. 슈퍼마리오 시리즈(닌텐도)\n",
            "2. 젤다의 전설 시리즈(닌텐도)\n",
            "3. 소닉 시리즈(세가)\n",
            "4. 삼국지 시리즈(코에이)\n",
            "5. 스타크래프트 시리즈(블리자드)\n"
          ]
        }
      ]
    },
    {
      "cell_type": "markdown",
      "source": [
        "\n",
        "\n",
        "---\n",
        "\n"
      ],
      "metadata": {
        "id": "7ohuSz9_waKK"
      }
    },
    {
      "cell_type": "markdown",
      "source": [
        "* 리스트에 포함된 숫자의 개수를 딕셔너리 형식으로 출력하세요.\n",
        "\n",
        "```\n",
        "<출력 결과>\n",
        "{1: 3, 2: 3, 3: 2, 4: 4, 5: 4, 7: 2, 9: 2, 8: 3}\n",
        "```"
      ],
      "metadata": {
        "id": "Joyh3gByge1Y"
      }
    },
    {
      "cell_type": "code",
      "source": [
        "# 제시문\n",
        "numbers = [1, 2, 3, 4, 5, 7, 9, 4, 5, 2, 3, 5, 4, 9, 8, 8, 8, 5, 1, 1, 4, 2, 7]\n",
        "dict_numbers_count = {}"
      ],
      "metadata": {
        "id": "_2SQb017oh83"
      },
      "execution_count": null,
      "outputs": []
    },
    {
      "cell_type": "code",
      "source": [
        "# 답안\n",
        "for number in numbers:\n",
        "    if number in dict_numbers_count:\n",
        "        dict_numbers_count[number] = dict_numbers_count[number] + 1\n",
        "    else:\n",
        "        dict_numbers_count[number] = 1\n",
        "\n",
        "print(dict_numbers_count)"
      ],
      "metadata": {
        "colab": {
          "base_uri": "https://localhost:8080/"
        },
        "id": "WI5FO9o1gEpC",
        "outputId": "5030a319-37a2-475f-8167-9d4009a23011"
      },
      "execution_count": null,
      "outputs": [
        {
          "output_type": "stream",
          "name": "stdout",
          "text": [
            "{1: 3, 2: 3, 3: 2, 4: 4, 5: 4, 7: 2, 9: 2, 8: 3}\n"
          ]
        }
      ]
    },
    {
      "cell_type": "markdown",
      "source": [
        "\n",
        "\n",
        "---\n",
        "\n"
      ],
      "metadata": {
        "id": "1ZAiyba-wbqc"
      }
    },
    {
      "cell_type": "markdown",
      "source": [
        "* 딕셔너리에 포함된 내용을 아래 형식으로 출력하세요.\n",
        "\n",
        "```\n",
        "<출력 결과>\n",
        "* name: mj-1000\n",
        "* P-day: 2021-8-14\n",
        "* price: 15000\n",
        "* bar: aluminum\n",
        "* tongs: steel\n",
        "* use: home\n",
        "* use: craft\n",
        "* use: industrial\n",
        "```"
      ],
      "metadata": {
        "id": "SmM5m3hPz8H2"
      }
    },
    {
      "cell_type": "code",
      "source": [
        "# 제시문\n",
        "our_product = {\n",
        "    'name': 'mj-1000',\n",
        "    'P-day': '2021-8-14',\n",
        "    'price': 15000,\n",
        "    'component':{\n",
        "        'bar': 'aluminum',\n",
        "        'tongs': 'steel'\n",
        "        },\n",
        "    'use': ['home', 'craft', 'industrial']\n",
        "    }"
      ],
      "metadata": {
        "id": "-cZpchmeoSwX"
      },
      "execution_count": null,
      "outputs": []
    },
    {
      "cell_type": "code",
      "source": [
        "# 답안\n",
        "for key in our_product:\n",
        "    if type(our_product[key]) == str:\n",
        "        print(f'* {key}: {our_product[key]}')\n",
        "    elif type(our_product[key]) == int:\n",
        "        print(f'* {key}: {our_product[key]}')\n",
        "    elif type(our_product[key]) == dict:\n",
        "        for inner_key in our_product[key]:\n",
        "            print(f'* {inner_key}: {our_product[key][inner_key]}')\n",
        "    elif type(our_product[key]) == list:\n",
        "        for inner_key in our_product[key]:\n",
        "            print(f'* {key}: {inner_key}')"
      ],
      "metadata": {
        "colab": {
          "base_uri": "https://localhost:8080/"
        },
        "id": "bLEV5vTMzBm9",
        "outputId": "291f6974-0567-4779-c098-552923c2df0b"
      },
      "execution_count": null,
      "outputs": [
        {
          "output_type": "stream",
          "name": "stdout",
          "text": [
            "* name: mj-1000\n",
            "* P-day: 2021-8-14\n",
            "* price: 15000\n",
            "* bar: aluminum\n",
            "* tongs: steel\n",
            "* use: home\n",
            "* use: craft\n",
            "* use: industrial\n"
          ]
        }
      ]
    },
    {
      "cell_type": "markdown",
      "source": [
        "\n",
        "\n",
        "---\n",
        "\n"
      ],
      "metadata": {
        "id": "fRpueUp5wdau"
      }
    },
    {
      "cell_type": "markdown",
      "source": [
        "* 두 리스트를 사용하여 새로운 딕셔너리를 만들고 아래처럼 출력하세요. 첫 번째 리스트는 키를 의미하고, 두 번째 리스트는 값을 의미합니다.\n",
        "\n",
        "```\n",
        "<출력 결과>\n",
        "{'theme': 'health', 'date': '2021-12-24', 'grade': 'A', 'price': 25000}\n",
        "```"
      ],
      "metadata": {
        "id": "N_DPJ2fYaMTr"
      }
    },
    {
      "cell_type": "code",
      "source": [
        "# 제시문\n",
        "list_of_keys = ['theme', 'date', 'grade', 'price']\n",
        "list_of_values = ['health', '2021-12-24', 'A', 25000]\n",
        "book = {}"
      ],
      "metadata": {
        "id": "0zozfr0QafmF"
      },
      "execution_count": null,
      "outputs": []
    },
    {
      "cell_type": "code",
      "source": [
        "# 답안\n",
        "for i in range(0, len(list_of_keys)):\n",
        "    book[list_of_keys[i]] = list_of_values[i]\n",
        "\n",
        "print(book)"
      ],
      "metadata": {
        "colab": {
          "base_uri": "https://localhost:8080/"
        },
        "id": "-ziP1Y_bq3AE",
        "outputId": "b46825ad-abf9-4b12-9cc7-fb8ba4b56f2a"
      },
      "execution_count": null,
      "outputs": [
        {
          "output_type": "stream",
          "name": "stdout",
          "text": [
            "{'theme': 'health', 'date': '2021-12-24', 'grade': 'A', 'price': 25000}\n"
          ]
        }
      ]
    },
    {
      "cell_type": "markdown",
      "source": [
        "\n",
        "\n",
        "---\n",
        "\n"
      ],
      "metadata": {
        "id": "g-8fWkuDweiI"
      }
    },
    {
      "cell_type": "markdown",
      "source": [
        "* 1부터 숫자를 하나씩 차례로 더하면 아래와 같습니다.\n",
        "\n",
        "$$1$$\n",
        "\n",
        "$$1 + 2 = 3$$\n",
        "\n",
        "$$1 + 2 + 3 = 6$$\n",
        "\n",
        "$$\\vdots$$\n",
        "\n",
        "$$1 + 2 + \\cdots + 174 = 15051$$\n",
        "\n",
        "출력 결과는 아래와 같습니다. \n",
        "\n",
        "```\n",
        "<출력 결과>\n",
        "174까지 더하면 15000을 넘습니다. 모두 더한 값은 15051입니다.\n",
        "```\n",
        "\n",
        "위와 같은 출력 결과를 도출하기 위해 while문을 사용하여 코드를 작성하세요."
      ],
      "metadata": {
        "id": "5s6GTfGFeqWG"
      }
    },
    {
      "cell_type": "code",
      "source": [
        "# 제시문\n",
        "goal_num = 15000\n",
        "i = 1\n",
        "sum_num = 0"
      ],
      "metadata": {
        "id": "7_uk6MKyv86N"
      },
      "execution_count": null,
      "outputs": []
    },
    {
      "cell_type": "code",
      "source": [
        "# 답안\n",
        "while sum_num < goal_num:    # 더한 값이 넘어야 할 목푯값보다 작으면 반복합니다.\n",
        "    sum_num += i    # 더한 값에 더할 값을 더해 나갑니다.\n",
        "    i += 1    # 더할 값을 1씩 증가시킵니다.\n",
        "\n",
        "print(f'{i}까지 더하면 {goal_num}을 넘습니다. 모두 더한 값은 {sum_num}입니다.')"
      ],
      "metadata": {
        "colab": {
          "base_uri": "https://localhost:8080/"
        },
        "id": "Qxj_NelSg-Ge",
        "outputId": "581c218f-0bc8-4af8-f1ed-4d3fc01c2a94"
      },
      "execution_count": null,
      "outputs": [
        {
          "output_type": "stream",
          "name": "stdout",
          "text": [
            "174까지 더하면 15000을 넘습니다. 모두 더한 값은 15051입니다.\n"
          ]
        }
      ]
    },
    {
      "cell_type": "markdown",
      "source": [
        "\n",
        "\n",
        "---\n",
        "\n"
      ],
      "metadata": {
        "id": "GCpZOOK7wgZo"
      }
    },
    {
      "cell_type": "markdown",
      "source": [
        "* 1 ~ 1300까지 숫자 중에 두 수를 곱해서 최댓값이 되는 경우를 코드로 구현하세요. 출력 결과는 아래와 같습니다.\n",
        "\n",
        "```\n",
        "650와 650를 곱하면 최댓값 422500가 도출됩니다.\n",
        "```"
      ],
      "metadata": {
        "id": "00ouA3dgqQOx"
      }
    },
    {
      "cell_type": "code",
      "source": [
        "# 제시문\n",
        "max_num = 0\n",
        "a = 0\n",
        "b = 0"
      ],
      "metadata": {
        "id": "iJrn58YewDMV"
      },
      "execution_count": null,
      "outputs": []
    },
    {
      "cell_type": "code",
      "source": [
        "# 답안\n",
        "for num_1 in range(1, 1300 // 2 + 1):\n",
        "    num_2 = 1300 - num_1\n",
        "    multiplied_num = num_1 * num_2\n",
        "    if max_num < multiplied_num:\n",
        "        a = num_1\n",
        "        b = num_2\n",
        "        max_num = multiplied_num\n",
        "\n",
        "print(f'{a}와 {b}를 곱하면 최댓값 {max_num}가 도출됩니다.')"
      ],
      "metadata": {
        "colab": {
          "base_uri": "https://localhost:8080/"
        },
        "id": "QZKZmlHqqq-O",
        "outputId": "5cfc3325-32f3-42e4-edfe-c75f633a6641"
      },
      "execution_count": null,
      "outputs": [
        {
          "output_type": "stream",
          "name": "stdout",
          "text": [
            "650와 650를 곱하면 최댓값 422500가 도출됩니다.\n"
          ]
        }
      ]
    },
    {
      "cell_type": "markdown",
      "source": [
        "\n",
        "\n",
        "---\n",
        "\n"
      ],
      "metadata": {
        "id": "_1gLgy5Kwhne"
      }
    },
    {
      "cell_type": "markdown",
      "source": [
        "* 200 ~ 500 사이에 있는 숫자 중에 8진수로 변환하면 7이 두 개씩 포함된 숫자를 찾고, 그 숫자들의 총합을 구하여 10진수로 출력하세요(2진수: `{:b}`, 8진수: `{:o}`, 16진수: `{:x}`).\n",
        "\n",
        "```\n",
        "<출력 결과>\n",
        "* 255: 377\n",
        "* 319: 477\n",
        "* 383: 577\n",
        "* 447: 677\n",
        "* 455: 707\n",
        "* 463: 717\n",
        "* 471: 727\n",
        "* 479: 737\n",
        "* 487: 747\n",
        "* 495: 757\n",
        "* total sum: 4254\n",
        "```"
      ],
      "metadata": {
        "id": "W-AaID12yZuG"
      }
    },
    {
      "cell_type": "code",
      "source": [
        "# 답안\n",
        "pick_num = [n for n in range(200, 501) if '{:o}'.format(n).count('7') == 2]\n",
        "\n",
        "for n in pick_num:\n",
        "    print('* {}: {}'.format(n, '{:o}'.format(n)))\n",
        "    \n",
        "print(f'* total sum: {sum(output)}')"
      ],
      "metadata": {
        "colab": {
          "base_uri": "https://localhost:8080/"
        },
        "id": "SLj05H_qynS-",
        "outputId": "2bab7b21-e97e-4e08-9b95-715375e5bc8a"
      },
      "execution_count": null,
      "outputs": [
        {
          "output_type": "stream",
          "name": "stdout",
          "text": [
            "* 255: 377\n",
            "* 319: 477\n",
            "* 383: 577\n",
            "* 447: 677\n",
            "* 455: 707\n",
            "* 463: 717\n",
            "* 471: 727\n",
            "* 479: 737\n",
            "* 487: 747\n",
            "* 495: 757\n",
            "* total sum: 4254\n"
          ]
        }
      ]
    },
    {
      "cell_type": "markdown",
      "source": [
        "\n",
        "\n",
        "---\n",
        "\n"
      ],
      "metadata": {
        "id": "qc385Uat2Jpw"
      }
    },
    {
      "cell_type": "markdown",
      "source": [
        "* 중첩된 리스트 `test_list`를 1차원으로 펼치는 함수를 재귀 함수로 선언하세요. 중첩된 리스트를 펼치는 작업을 평탄화(flatten)라고 합니다.\n",
        "\n",
        "```\n",
        "<출력 결과>\n",
        "[1, 2, 3, 4, 5, 6, 7, 8, 9, 10, 11, 12]\n",
        "```"
      ],
      "metadata": {
        "id": "OGGxuREsvnTw"
      }
    },
    {
      "cell_type": "code",
      "source": [
        "# 제시문\n",
        "test_list = [[1, 2], 3, 4, [5, 6, [7, 8], [9, 10, 11, 12]]]"
      ],
      "metadata": {
        "id": "BBRW_11IwJjG"
      },
      "execution_count": null,
      "outputs": []
    },
    {
      "cell_type": "code",
      "source": [
        "# 답안\n",
        "def flatten_list(list_input):\n",
        "    added_list = []\n",
        "    for element in list_input:\n",
        "        if type(element) == list:\n",
        "            added_list += flatten_list(element)\n",
        "        else:\n",
        "            added_list.append(element)\n",
        "    return added_list"
      ],
      "metadata": {
        "id": "CqRAR_8uwiaj"
      },
      "execution_count": null,
      "outputs": []
    },
    {
      "cell_type": "code",
      "source": [
        "flatten_list(test_list)"
      ],
      "metadata": {
        "colab": {
          "base_uri": "https://localhost:8080/"
        },
        "id": "0JOj62EYxy0I",
        "outputId": "fd600781-6952-42d3-dd5e-de4822527dc9"
      },
      "execution_count": null,
      "outputs": [
        {
          "output_type": "execute_result",
          "data": {
            "text/plain": [
              "[1, 2, 3, 4, 5, 6, 7, 8, 9, 10, 11, 12]"
            ]
          },
          "metadata": {},
          "execution_count": 12
        }
      ]
    },
    {
      "cell_type": "markdown",
      "source": [
        "\n",
        "\n",
        "---\n",
        "\n"
      ],
      "metadata": {
        "id": "NhHUdB8ixpMX"
      }
    },
    {
      "cell_type": "markdown",
      "source": [
        "* 아래 출력 결과와 동일하게 출력하세요. 단, `join()` 함수를 필수로 사용하세요.\n",
        "\n",
        "```\n",
        "<출력 결과>\n",
        "1 - 2 - 3 - 4 - 5 - 6 - 7 - 8\n",
        "```"
      ],
      "metadata": {
        "id": "01VnrBoE2AUl"
      }
    },
    {
      "cell_type": "code",
      "source": [
        "# 제시문\n",
        "nums = [1, 2, 3, 4, 5, 6, 7, 8]"
      ],
      "metadata": {
        "id": "FaBnzDHB27Oe"
      },
      "execution_count": null,
      "outputs": []
    },
    {
      "cell_type": "code",
      "source": [
        "# 답안\n",
        "bar = ' - '\n",
        "print(bar.join(map(str, nums)))"
      ],
      "metadata": {
        "colab": {
          "base_uri": "https://localhost:8080/"
        },
        "id": "KRo-laBq2Bq3",
        "outputId": "37cb9473-1183-4fef-f89b-80e5f1b3541a"
      },
      "execution_count": null,
      "outputs": [
        {
          "output_type": "stream",
          "name": "stdout",
          "text": [
            "1 - 2 - 3 - 4 - 5 - 6 - 7 - 8\n"
          ]
        }
      ]
    },
    {
      "cell_type": "markdown",
      "source": [
        "\n",
        "\n",
        "---\n",
        "\n"
      ],
      "metadata": {
        "id": "2R7649NH3XnE"
      }
    },
    {
      "cell_type": "markdown",
      "source": [
        "* 각 문제에서 요구하는 수를 추출하세요."
      ],
      "metadata": {
        "id": "2rNw6pxm4og8"
      }
    },
    {
      "cell_type": "code",
      "source": [
        "# 제시문\n",
        "nums = list(range(1, 101))"
      ],
      "metadata": {
        "id": "FCfLx2XO3e6G"
      },
      "execution_count": null,
      "outputs": []
    },
    {
      "cell_type": "markdown",
      "source": [
        "* 짝수만 추출하세요."
      ],
      "metadata": {
        "id": "PdIfK0RB3ZCh"
      }
    },
    {
      "cell_type": "code",
      "source": [
        "print(list(filter(lambda x: x % 2 == 0, nums)))\n",
        "print()"
      ],
      "metadata": {
        "colab": {
          "base_uri": "https://localhost:8080/"
        },
        "id": "8kN4xya43kWx",
        "outputId": "8aba419f-4e61-42ee-c61e-c1659335446a"
      },
      "execution_count": null,
      "outputs": [
        {
          "output_type": "stream",
          "name": "stdout",
          "text": [
            "[2, 4, 6, 8, 10, 12, 14, 16, 18, 20, 22, 24, 26, 28, 30, 32, 34, 36, 38, 40, 42, 44, 46, 48, 50, 52, 54, 56, 58, 60, 62, 64, 66, 68, 70, 72, 74, 76, 78, 80, 82, 84, 86, 88, 90, 92, 94, 96, 98, 100]\n",
            "\n"
          ]
        }
      ]
    },
    {
      "cell_type": "markdown",
      "source": [
        "* 10이상 21미만의 수를 추출하세요."
      ],
      "metadata": {
        "id": "pmbci1h34VOV"
      }
    },
    {
      "cell_type": "code",
      "source": [
        "# 답안\n",
        "print(list(filter(lambda x: 10 <= x < 21, nums)))\n",
        "print()"
      ],
      "metadata": {
        "colab": {
          "base_uri": "https://localhost:8080/"
        },
        "id": "CCHajvun4FXW",
        "outputId": "07a52fce-431a-4140-9034-eec934e44ec1"
      },
      "execution_count": null,
      "outputs": [
        {
          "output_type": "stream",
          "name": "stdout",
          "text": [
            "[10, 11, 12, 13, 14, 15, 16, 17, 18, 19, 20]\n",
            "\n"
          ]
        }
      ]
    },
    {
      "cell_type": "markdown",
      "source": [
        "* 세제곱해서 1000미만인 수를 출력하세요."
      ],
      "metadata": {
        "id": "JqQBKcpE4dnC"
      }
    },
    {
      "cell_type": "code",
      "source": [
        "# 답안\n",
        "print(list(filter(lambda x: x**3 < 1000, nums)))\n",
        "print()"
      ],
      "metadata": {
        "colab": {
          "base_uri": "https://localhost:8080/"
        },
        "id": "AtTUnIib4Hvb",
        "outputId": "86110501-a60b-4f2c-e4bf-953fb6735cda"
      },
      "execution_count": null,
      "outputs": [
        {
          "output_type": "stream",
          "name": "stdout",
          "text": [
            "[1, 2, 3, 4, 5, 6, 7, 8, 9]\n",
            "\n"
          ]
        }
      ]
    },
    {
      "cell_type": "markdown",
      "source": [
        "\n",
        "\n",
        "---\n",
        "\n"
      ],
      "metadata": {
        "id": "tRGaHFKy5KIl"
      }
    }
  ]
}