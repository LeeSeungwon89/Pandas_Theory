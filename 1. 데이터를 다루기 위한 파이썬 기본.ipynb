{
  "nbformat": 4,
  "nbformat_minor": 0,
  "metadata": {
    "colab": {
      "name": "1. 데이터를 다루기 위한 파이썬 기본.ipynb",
      "provenance": [],
      "collapsed_sections": [],
      "toc_visible": true,
      "authorship_tag": "ABX9TyMyMFOSHIc/MQiQXz7iktsG",
      "include_colab_link": true
    },
    "kernelspec": {
      "name": "python3",
      "display_name": "Python 3"
    },
    "language_info": {
      "name": "python"
    }
  },
  "cells": [
    {
      "cell_type": "markdown",
      "metadata": {
        "id": "view-in-github",
        "colab_type": "text"
      },
      "source": [
        "<a href=\"https://colab.research.google.com/github/LeeSeungwon89/Python_for_Data_Analytics_Science/blob/main/1.%20%EB%8D%B0%EC%9D%B4%ED%84%B0%EB%A5%BC%20%EB%8B%A4%EB%A3%A8%EA%B8%B0%20%EC%9C%84%ED%95%9C%20%ED%8C%8C%EC%9D%B4%EC%8D%AC%20%EA%B8%B0%EB%B3%B8.ipynb\" target=\"_parent\"><img src=\"https://colab.research.google.com/assets/colab-badge.svg\" alt=\"Open In Colab\"/></a>"
      ]
    },
    {
      "cell_type": "markdown",
      "metadata": {
        "id": "XPkykKHOYc7y"
      },
      "source": [
        "# **1. 연산자 기호**"
      ]
    },
    {
      "cell_type": "markdown",
      "metadata": {
        "id": "eSERvlKeRlAD"
      },
      "source": [
        "## **1.1. 몫**"
      ]
    },
    {
      "cell_type": "markdown",
      "metadata": {
        "id": "pJzYlc6OYvwo"
      },
      "source": [
        "몫은 '//'를 사용하여 구합니다."
      ]
    },
    {
      "cell_type": "code",
      "metadata": {
        "colab": {
          "base_uri": "https://localhost:8080/"
        },
        "id": "tTnj8MxgYxqY",
        "outputId": "3f1a8c18-4656-4512-98e8-f1766b657c9e"
      },
      "source": [
        "11 // 5"
      ],
      "execution_count": null,
      "outputs": [
        {
          "output_type": "execute_result",
          "data": {
            "text/plain": [
              "2"
            ]
          },
          "metadata": {},
          "execution_count": 1
        }
      ]
    },
    {
      "cell_type": "markdown",
      "metadata": {
        "id": "tDtsa7EzRoqb"
      },
      "source": [
        "## **1.2. 나머지**"
      ]
    },
    {
      "cell_type": "markdown",
      "metadata": {
        "id": "pyI_mtJcZE9v"
      },
      "source": [
        "나머지는 '%'를 사용하여 구합니다."
      ]
    },
    {
      "cell_type": "code",
      "metadata": {
        "colab": {
          "base_uri": "https://localhost:8080/"
        },
        "id": "5CQvTjI0YMyR",
        "outputId": "0695b6e4-9455-4aca-e148-d362aa1adfc2"
      },
      "source": [
        "11 % 5"
      ],
      "execution_count": null,
      "outputs": [
        {
          "output_type": "execute_result",
          "data": {
            "text/plain": [
              "1"
            ]
          },
          "metadata": {},
          "execution_count": 2
        }
      ]
    },
    {
      "cell_type": "markdown",
      "metadata": {
        "id": "akdhp74030MU"
      },
      "source": [
        "## **1.3. 함수로 몫과 나머지 구하기**"
      ]
    },
    {
      "cell_type": "markdown",
      "source": [
        "참고로 함수에 대한 설명을 확인하려면 `help()` 함수 내에 함수명을 지정합니다."
      ],
      "metadata": {
        "id": "2gL909OAjMHx"
      }
    },
    {
      "cell_type": "code",
      "source": [
        "help(divmod)"
      ],
      "metadata": {
        "colab": {
          "base_uri": "https://localhost:8080/"
        },
        "id": "Qc-kQWUOjLqW",
        "outputId": "3073429e-4aa2-4c10-f391-68e67264f00c"
      },
      "execution_count": null,
      "outputs": [
        {
          "output_type": "stream",
          "name": "stdout",
          "text": [
            "Help on built-in function divmod in module builtins:\n",
            "\n",
            "divmod(x, y, /)\n",
            "    Return the tuple (x//y, x%y).  Invariant: div*y + mod == x.\n",
            "\n"
          ]
        }
      ]
    },
    {
      "cell_type": "code",
      "metadata": {
        "colab": {
          "base_uri": "https://localhost:8080/"
        },
        "id": "S1e6b6Rt35U-",
        "outputId": "fc564f0a-9085-452a-f9cd-c48fe398d56f"
      },
      "source": [
        "divmod(11, 5)"
      ],
      "execution_count": null,
      "outputs": [
        {
          "output_type": "execute_result",
          "data": {
            "text/plain": [
              "(2, 1)"
            ]
          },
          "metadata": {},
          "execution_count": 3
        }
      ]
    },
    {
      "cell_type": "markdown",
      "metadata": {
        "id": "Rxsww0RAZQO-"
      },
      "source": [
        "# **2. 과학적인 표기법**"
      ]
    },
    {
      "cell_type": "markdown",
      "metadata": {
        "id": "WPerzE8nZSQv"
      },
      "source": [
        "매우 큰 수나 작은 수를 다루려면 10의 거듭제곱을 나타내는 'e$n$'으로 입력할 수 있습니다. '$n$'은 정수이며 양수, 음수, 0 모두 가능합니다."
      ]
    },
    {
      "cell_type": "markdown",
      "metadata": {
        "id": "Sx6zBpeEbMyd"
      },
      "source": [
        "$4 \\times 10^7$"
      ]
    },
    {
      "cell_type": "code",
      "metadata": {
        "colab": {
          "base_uri": "https://localhost:8080/"
        },
        "id": "YzDjpsfqZ0Cn",
        "outputId": "34e3fe61-aec0-4256-be23-70ecdbaefc10"
      },
      "source": [
        "4e7"
      ],
      "execution_count": null,
      "outputs": [
        {
          "output_type": "execute_result",
          "data": {
            "text/plain": [
              "40000000.0"
            ]
          },
          "metadata": {},
          "execution_count": 4
        }
      ]
    },
    {
      "cell_type": "markdown",
      "metadata": {
        "id": "htdIo-Ayb4QE"
      },
      "source": [
        "$2 \\times 10^{15}$"
      ]
    },
    {
      "cell_type": "code",
      "metadata": {
        "colab": {
          "base_uri": "https://localhost:8080/"
        },
        "id": "ukTaZFuib8m0",
        "outputId": "65162a6b-9431-43ad-ee76-50be482c8e35"
      },
      "source": [
        "2e15"
      ],
      "execution_count": null,
      "outputs": [
        {
          "output_type": "execute_result",
          "data": {
            "text/plain": [
              "2000000000000000.0"
            ]
          },
          "metadata": {},
          "execution_count": 5
        }
      ]
    },
    {
      "cell_type": "markdown",
      "metadata": {
        "id": "9zA51D8QcX2C"
      },
      "source": [
        "10의 15승까지 숫자로 표시됩니다."
      ]
    },
    {
      "cell_type": "markdown",
      "metadata": {
        "id": "IiU7bgcRbk0T"
      },
      "source": [
        "$6 \\times 10^{16}$"
      ]
    },
    {
      "cell_type": "code",
      "metadata": {
        "colab": {
          "base_uri": "https://localhost:8080/"
        },
        "id": "4XgDSGKNbDqH",
        "outputId": "af54d9be-de6d-4ce3-cd51-8363d216916a"
      },
      "source": [
        "6e16"
      ],
      "execution_count": null,
      "outputs": [
        {
          "output_type": "execute_result",
          "data": {
            "text/plain": [
              "6e+16"
            ]
          },
          "metadata": {},
          "execution_count": 6
        }
      ]
    },
    {
      "cell_type": "markdown",
      "metadata": {
        "id": "L2Mhh8ujcNrx"
      },
      "source": [
        "10의 16승부터 과학적인 표기법으로 표시됩니다."
      ]
    },
    {
      "cell_type": "markdown",
      "metadata": {
        "id": "ysVct0LScAfe"
      },
      "source": [
        "$6 \\times 10^{17}$"
      ]
    },
    {
      "cell_type": "code",
      "metadata": {
        "colab": {
          "base_uri": "https://localhost:8080/"
        },
        "id": "OCNKSov7bvRi",
        "outputId": "4feeb8c8-2ac3-41cb-d8b9-50b99508ca76"
      },
      "source": [
        "6e17"
      ],
      "execution_count": null,
      "outputs": [
        {
          "output_type": "execute_result",
          "data": {
            "text/plain": [
              "6e+17"
            ]
          },
          "metadata": {},
          "execution_count": 7
        }
      ]
    },
    {
      "cell_type": "markdown",
      "metadata": {
        "id": "Vfz9crFZchQ4"
      },
      "source": [
        "$4 \\times 10^{-1}$"
      ]
    },
    {
      "cell_type": "code",
      "metadata": {
        "colab": {
          "base_uri": "https://localhost:8080/"
        },
        "id": "ViqRHpxIcg0U",
        "outputId": "1bbbecc5-521f-44f3-84ae-133d14aeaaa5"
      },
      "source": [
        "4e-1"
      ],
      "execution_count": null,
      "outputs": [
        {
          "output_type": "execute_result",
          "data": {
            "text/plain": [
              "0.4"
            ]
          },
          "metadata": {},
          "execution_count": 8
        }
      ]
    },
    {
      "cell_type": "markdown",
      "metadata": {
        "id": "IEYkmMq-cvFn"
      },
      "source": [
        "$4 \\times 10^{-4}$"
      ]
    },
    {
      "cell_type": "code",
      "metadata": {
        "colab": {
          "base_uri": "https://localhost:8080/"
        },
        "id": "oiavyhHwcyzk",
        "outputId": "7ec53b0d-17a4-4fce-af41-7b8cc15006cc"
      },
      "source": [
        "4e-4"
      ],
      "execution_count": null,
      "outputs": [
        {
          "output_type": "execute_result",
          "data": {
            "text/plain": [
              "0.0004"
            ]
          },
          "metadata": {},
          "execution_count": 9
        }
      ]
    },
    {
      "cell_type": "markdown",
      "metadata": {
        "id": "EKjnudgAdFxP"
      },
      "source": [
        "10의 -4승까지 숫자로 표시됩니다."
      ]
    },
    {
      "cell_type": "markdown",
      "metadata": {
        "id": "S0OKwuOVc0i7"
      },
      "source": [
        "$4 \\times 10^{-5}$"
      ]
    },
    {
      "cell_type": "code",
      "metadata": {
        "colab": {
          "base_uri": "https://localhost:8080/"
        },
        "id": "hQExXRu4c198",
        "outputId": "266ce8f3-fa15-4b4a-c54a-6652ccfe67c5"
      },
      "source": [
        "4e-5"
      ],
      "execution_count": null,
      "outputs": [
        {
          "output_type": "execute_result",
          "data": {
            "text/plain": [
              "4e-05"
            ]
          },
          "metadata": {},
          "execution_count": 10
        }
      ]
    },
    {
      "cell_type": "markdown",
      "metadata": {
        "id": "t4FjncZwdJFJ"
      },
      "source": [
        "10의 -5승부터는 과학적인 표기법으로 표시됩니다."
      ]
    },
    {
      "cell_type": "markdown",
      "metadata": {
        "id": "_yrFtmq9dg2J"
      },
      "source": [
        "$4 \\times 10^{-6}$"
      ]
    },
    {
      "cell_type": "code",
      "metadata": {
        "colab": {
          "base_uri": "https://localhost:8080/"
        },
        "id": "sQ0L5pvcdgah",
        "outputId": "82e10412-7065-4491-f2fe-3367d1ef2588"
      },
      "source": [
        "4e-6"
      ],
      "execution_count": null,
      "outputs": [
        {
          "output_type": "execute_result",
          "data": {
            "text/plain": [
              "4e-06"
            ]
          },
          "metadata": {},
          "execution_count": 11
        }
      ]
    },
    {
      "cell_type": "markdown",
      "metadata": {
        "id": "gFkg8yegdj4h"
      },
      "source": [
        "# **3. 진법과 진수**"
      ]
    },
    {
      "cell_type": "markdown",
      "metadata": {
        "id": "HzujSYiAcPtT"
      },
      "source": [
        "파이썬은 10진법 외에 2진법, 8진법, 16진법을 지원합니다. 16진법은 {0 ~ 9, a, b, c, d, e, f}로 표현됩니다.\n",
        "\n",
        "2진수를 입력하려면 '0b', 8진수를 입력하려면 '0o', 16진수를 입력하려면 '0x'를 숫자 앞에 붙입니다.\n",
        "\n",
        "간단하게 17을 예로 들겠습니다. 해당하는 진법의 함수도 포함합니다."
      ]
    },
    {
      "cell_type": "markdown",
      "metadata": {
        "id": "vYvSXqpJfK91"
      },
      "source": [
        "10진법"
      ]
    },
    {
      "cell_type": "code",
      "metadata": {
        "colab": {
          "base_uri": "https://localhost:8080/"
        },
        "id": "9nEARaIsfB-0",
        "outputId": "8c2cac77-ddf7-4560-be2c-6f2d7e5b145e"
      },
      "source": [
        "17"
      ],
      "execution_count": null,
      "outputs": [
        {
          "output_type": "execute_result",
          "data": {
            "text/plain": [
              "17"
            ]
          },
          "metadata": {},
          "execution_count": 12
        }
      ]
    },
    {
      "cell_type": "markdown",
      "metadata": {
        "id": "At7w4OaPfNHA"
      },
      "source": [
        "2진법"
      ]
    },
    {
      "cell_type": "code",
      "metadata": {
        "colab": {
          "base_uri": "https://localhost:8080/"
        },
        "id": "9-LnmA41fCud",
        "outputId": "94622183-d336-462e-e15e-bd3f27a78ec1"
      },
      "source": [
        "0b10001"
      ],
      "execution_count": null,
      "outputs": [
        {
          "output_type": "execute_result",
          "data": {
            "text/plain": [
              "17"
            ]
          },
          "metadata": {},
          "execution_count": 13
        }
      ]
    },
    {
      "cell_type": "code",
      "metadata": {
        "colab": {
          "base_uri": "https://localhost:8080/",
          "height": 35
        },
        "id": "fLOL_tRqfbUB",
        "outputId": "0a76b2e8-c649-4316-9833-a35c9021d341"
      },
      "source": [
        "bin(17)"
      ],
      "execution_count": null,
      "outputs": [
        {
          "output_type": "execute_result",
          "data": {
            "application/vnd.google.colaboratory.intrinsic+json": {
              "type": "string"
            },
            "text/plain": [
              "'0b10001'"
            ]
          },
          "metadata": {},
          "execution_count": 14
        }
      ]
    },
    {
      "cell_type": "markdown",
      "metadata": {
        "id": "SsfXD_QbfPe_"
      },
      "source": [
        "8진법"
      ]
    },
    {
      "cell_type": "code",
      "metadata": {
        "colab": {
          "base_uri": "https://localhost:8080/"
        },
        "id": "Obr4s0MNfGDM",
        "outputId": "a7d6abeb-d314-4cc8-f737-78fad6f03bfc"
      },
      "source": [
        "0o21"
      ],
      "execution_count": null,
      "outputs": [
        {
          "output_type": "execute_result",
          "data": {
            "text/plain": [
              "17"
            ]
          },
          "metadata": {},
          "execution_count": 15
        }
      ]
    },
    {
      "cell_type": "code",
      "metadata": {
        "colab": {
          "base_uri": "https://localhost:8080/",
          "height": 35
        },
        "id": "PyUblwG-fe_K",
        "outputId": "b23b789c-f601-4346-9ee5-135114290a00"
      },
      "source": [
        "oct(17)"
      ],
      "execution_count": null,
      "outputs": [
        {
          "output_type": "execute_result",
          "data": {
            "application/vnd.google.colaboratory.intrinsic+json": {
              "type": "string"
            },
            "text/plain": [
              "'0o21'"
            ]
          },
          "metadata": {},
          "execution_count": 16
        }
      ]
    },
    {
      "cell_type": "markdown",
      "metadata": {
        "id": "Pfe1O90-fSFn"
      },
      "source": [
        "16진법"
      ]
    },
    {
      "cell_type": "code",
      "metadata": {
        "colab": {
          "base_uri": "https://localhost:8080/"
        },
        "id": "KqxBPSDrfIxQ",
        "outputId": "4b1beeff-6e9d-48bd-aec2-4f3f7bb07b24"
      },
      "source": [
        "0x11"
      ],
      "execution_count": null,
      "outputs": [
        {
          "output_type": "execute_result",
          "data": {
            "text/plain": [
              "17"
            ]
          },
          "metadata": {},
          "execution_count": 17
        }
      ]
    },
    {
      "cell_type": "code",
      "metadata": {
        "colab": {
          "base_uri": "https://localhost:8080/",
          "height": 35
        },
        "id": "B3w3zG9VfhCj",
        "outputId": "d9222453-4d58-4eda-b4ae-6a7014f402ab"
      },
      "source": [
        "hex(17)"
      ],
      "execution_count": null,
      "outputs": [
        {
          "output_type": "execute_result",
          "data": {
            "application/vnd.google.colaboratory.intrinsic+json": {
              "type": "string"
            },
            "text/plain": [
              "'0x11'"
            ]
          },
          "metadata": {},
          "execution_count": 18
        }
      ]
    },
    {
      "cell_type": "markdown",
      "metadata": {
        "id": "Up13hB84gTrF"
      },
      "source": [
        "참고로 함수로 출력된 결과는 문자열이므로 산술 연산에 적용되지 않습니다. "
      ]
    },
    {
      "cell_type": "markdown",
      "metadata": {
        "id": "pkQDjHMKgvek"
      },
      "source": [
        "# **4. 변수명 생성 규칙**"
      ]
    },
    {
      "cell_type": "markdown",
      "metadata": {
        "id": "fS8fJXr8cSy9"
      },
      "source": [
        "변수명을 지정할 때는 규칙을 잘 지켜야 합니다.\n",
        "\n",
        "간과할 수 있는 규칙은 아래와 같습니다.\n",
        "\n",
        "- 문자, 숫자, 언더라인(_)을 사용합니다. 다만 보통의 경우는 언더라인으로 시작하는 변수명은 지정할 수는 있지만 일반적으로 구성하지 않습니다. 아울러 영문자는 (가능하면 최대한) 대문자는 사용하지 않고 소문자만 사용합니다.\n",
        "\n",
        "- 숫자로 시작하는 변수명은 가능하지 않습니다. 예컨대 '2apple'은 불가능합니다.\n",
        "\n",
        "- 밑줄이 아닌 기호는 변수명에 들어갈 수 없습니다. 예컨대 'apple&', 'bana@na', '$peach' 같은 기호들입니다.\n",
        "\n",
        "- 예약어는 변수명으로 사용할 수 없습니다. 예약어란 `True`, `False`, `def`, `if`, `for`처럼 이미 지정되어 코딩에 쓰이는 표현을 의미합니다. 예컨대 `if = 4 + 3`으로 지정하면 에러가 납니다.\n",
        "\n",
        "- 변수명은 뱀처럼 생긴 스네이크케이스(snake_case) 형식을 취하여 명명합니다. 첫 글자가 영어 소문자이고 언더바 `_`를 사용한 형태입니다. `snakecase`나 `snake case` 아닌 `snake_case`로 명명합니다. 공백을 언더바 `_`로 대체하는 것입니다."
      ]
    },
    {
      "cell_type": "markdown",
      "metadata": {
        "id": "BJIKiUR8ka4j"
      },
      "source": [
        "# **5. 문자열**"
      ]
    },
    {
      "cell_type": "markdown",
      "source": [
        "## **5.1. 따옴표, 이스케이프 문자 사용하기**"
      ],
      "metadata": {
        "id": "waAdLdfY5PVC"
      }
    },
    {
      "cell_type": "markdown",
      "metadata": {
        "id": "VsYx4ySycVJo"
      },
      "source": [
        "문자열에 큰따옴표(\")와 작은따옴표(') 모두를 포함하거나, 여러 행의 문자열을 나열하거나, 문자열을 입력한 상태 그대로 출력하려면 문자열 전체를 큰따옴표 세 개나 작은따옴표 세 개로 감쌉니다. 아울러 `print()` 함수에 문자열을 `''`로 묶으면 `\"\"`가 포함된 문자열을 출력할 수 있고, `\"\"`로 묶으면 `''`가 포함된 문자열을 출력할 수 있습니다."
      ]
    },
    {
      "cell_type": "code",
      "metadata": {
        "colab": {
          "base_uri": "https://localhost:8080/"
        },
        "id": "TkA9G5tvb2Jr",
        "outputId": "7312c04f-e625-4843-e546-6a18b1c2314a"
      },
      "source": [
        "string = '''문자열에 큰따옴표(\")와 작은따옴표(') 모두를 포함하거나,\n",
        "여러 행의 문장을 나열하거나,\n",
        "문장을 입력한 상태 그대로 출력하려면\n",
        "문자열 전체를 큰따옴표 세 개나 작은따옴표 세 개로 감쌉니다.'''\n",
        "print(string)"
      ],
      "execution_count": null,
      "outputs": [
        {
          "output_type": "stream",
          "name": "stdout",
          "text": [
            "문자열에 큰따옴표(\")와 작은따옴표(') 모두를 포함하거나,\n",
            "여러 행의 문장을 나열하거나,\n",
            "문장을 입력한 상태 그대로 출력하려면\n",
            "문자열 전체를 큰따옴표 세 개나 작은따옴표 세 개로 감쌉니다.\n"
          ]
        }
      ]
    },
    {
      "cell_type": "code",
      "source": [
        "string = \"\"\"문자열에 큰따옴표(\")와 작은따옴표(') 모두를 포함하거나,\n",
        "여러 행의 문장을 나열하거나,\n",
        "문장을 입력한 상태 그대로 출력하려면\n",
        "문자열 전체를 큰따옴표 세 개나 작은따옴표 세 개로 감쌉니다.\"\"\"\n",
        "print(string)"
      ],
      "metadata": {
        "colab": {
          "base_uri": "https://localhost:8080/"
        },
        "id": "aP2hqRPZaI08",
        "outputId": "6bf60f14-71b0-4bca-b665-e3ed34a92a5c"
      },
      "execution_count": null,
      "outputs": [
        {
          "output_type": "stream",
          "name": "stdout",
          "text": [
            "문자열에 큰따옴표(\")와 작은따옴표(') 모두를 포함하거나,\n",
            "여러 행의 문장을 나열하거나,\n",
            "문장을 입력한 상태 그대로 출력하려면\n",
            "문자열 전체를 큰따옴표 세 개나 작은따옴표 세 개로 감쌉니다.\n"
          ]
        }
      ]
    },
    {
      "cell_type": "code",
      "source": [
        "print('작은 따옴표를 사용하면 \"반갑습니다.\"를 출력할 수 있습니다.')"
      ],
      "metadata": {
        "colab": {
          "base_uri": "https://localhost:8080/"
        },
        "id": "r_4B3A8ZcyoU",
        "outputId": "e3e4a947-d635-4541-bf6c-78461248c400"
      },
      "execution_count": null,
      "outputs": [
        {
          "output_type": "stream",
          "name": "stdout",
          "text": [
            "작은 따옴표를 사용하면 \"반갑습니다.\"를 출력할 수 있습니다.\n"
          ]
        }
      ]
    },
    {
      "cell_type": "code",
      "source": [
        "print(\"큰 따옴표를 사용하면 '반갑습니다.'를 출력할 수 있습니다.\")"
      ],
      "metadata": {
        "colab": {
          "base_uri": "https://localhost:8080/"
        },
        "id": "JhAriYMVc7cn",
        "outputId": "e7de541d-66c0-440b-bd71-ff967333d8b1"
      },
      "execution_count": null,
      "outputs": [
        {
          "output_type": "stream",
          "name": "stdout",
          "text": [
            "큰 따옴표를 사용하면 '반갑습니다.'를 출력할 수 있습니다.\n"
          ]
        }
      ]
    },
    {
      "cell_type": "markdown",
      "source": [
        "이스케이프 문자인 `\\`를 사용하여 `\\'`를 취하면 `'`를, `\\\"`를 취하면 `\"`를 출력합니다. 문자열을 묶은 기호와 무관하게 작동합니다."
      ],
      "metadata": {
        "id": "hMvB4-g4bvT5"
      }
    },
    {
      "cell_type": "code",
      "source": [
        "print('이스케이프 문자를 사용하여 \\'파이썬 기본입니다.\\'를 출력할 수 있습니다.')"
      ],
      "metadata": {
        "colab": {
          "base_uri": "https://localhost:8080/"
        },
        "id": "1vUg5bkZbKYd",
        "outputId": "d8723471-2170-4aac-c321-64e18b4032dc"
      },
      "execution_count": null,
      "outputs": [
        {
          "output_type": "stream",
          "name": "stdout",
          "text": [
            "이스케이프 문자를 사용하여 '파이썬 기본입니다.'를 출력할 수 있습니다.\n"
          ]
        }
      ]
    },
    {
      "cell_type": "markdown",
      "source": [
        "이스케이프 문자인 `\\`를 사용하여 `\\n`을 취하면 줄바꿈을, `\\t`를 사용하면 탭을 합니다."
      ],
      "metadata": {
        "id": "t5mHT0YkbaQ6"
      }
    },
    {
      "cell_type": "code",
      "source": [
        "print('이스케이프 문자를 사용하여\\n줄바꿈을 할 수 있습니다.')\n",
        "print()\n",
        "print('이스케이프 문자를 사용하여\\t탭을 할 수 있습니다.')"
      ],
      "metadata": {
        "colab": {
          "base_uri": "https://localhost:8080/"
        },
        "id": "1rZ_Gfkjat4x",
        "outputId": "11d456ab-0f31-4536-8fc4-0437a862e929"
      },
      "execution_count": null,
      "outputs": [
        {
          "output_type": "stream",
          "name": "stdout",
          "text": [
            "이스케이프 문자를 사용하여\n",
            "줄바꿈을 할 수 있습니다.\n",
            "\n",
            "이스케이프 문자를 사용하여\t탭을 할 수 있습니다.\n"
          ]
        }
      ]
    },
    {
      "cell_type": "markdown",
      "metadata": {
        "id": "NqtkJUDbS0Jx"
      },
      "source": [
        "## **5.2. 부분 문자열로 나누기**"
      ]
    },
    {
      "cell_type": "markdown",
      "metadata": {
        "id": "hsBUG-HQTCmG"
      },
      "source": [
        "기존 문자열을 부분으로 나눠서 리스트화하려면 `split()` 함수를 사용합니다."
      ]
    },
    {
      "cell_type": "code",
      "metadata": {
        "colab": {
          "base_uri": "https://localhost:8080/"
        },
        "id": "Nlflocj_TLjP",
        "outputId": "cbde0f4b-1c15-4d4d-b205-18a9ac3d5c7c"
      },
      "source": [
        "colors = 'red, blue, yellow, pink'\n",
        "colors.split()"
      ],
      "execution_count": null,
      "outputs": [
        {
          "output_type": "execute_result",
          "data": {
            "text/plain": [
              "['red,', 'blue,', 'yellow,', 'pink']"
            ]
          },
          "metadata": {},
          "execution_count": 20
        }
      ]
    },
    {
      "cell_type": "markdown",
      "metadata": {
        "id": "z4CC3_k7UWt3"
      },
      "source": [
        "변수에 할당하지 않고 바로 전달해도 됩니다."
      ]
    },
    {
      "cell_type": "code",
      "metadata": {
        "colab": {
          "base_uri": "https://localhost:8080/"
        },
        "id": "mBQvDH_nUYV8",
        "outputId": "92098b69-d7ae-4b3d-e298-e2a48e077200"
      },
      "source": [
        "'red, blue, yellow, pink'.split()"
      ],
      "execution_count": null,
      "outputs": [
        {
          "output_type": "execute_result",
          "data": {
            "text/plain": [
              "['red,', 'blue,', 'yellow,', 'pink']"
            ]
          },
          "metadata": {},
          "execution_count": 21
        }
      ]
    },
    {
      "cell_type": "markdown",
      "metadata": {
        "id": "ajdkEd1fTm9o"
      },
      "source": [
        "'red,'처럼 쉼표(,)까지 하나의 부분으로 처리됐습니다. 여기에서 `split()` 함수에 `sep` 매개변수를 `','`로 지정하면 쉼표는 제외하고 처리합니다. `sep` 매개변수의 sep는 seperator(구분자)의 약자입니다. 참고로 `sep`를 생략하고 `','`만 지정한 `split(',')`도 가능합니다."
      ]
    },
    {
      "cell_type": "code",
      "metadata": {
        "colab": {
          "base_uri": "https://localhost:8080/"
        },
        "id": "JMi-sk78UBtn",
        "outputId": "f8a4ac1d-3f53-4bab-aba6-2ba23ed40083"
      },
      "source": [
        "colors.split(sep=',')"
      ],
      "execution_count": null,
      "outputs": [
        {
          "output_type": "execute_result",
          "data": {
            "text/plain": [
              "['red', ' blue', ' yellow', ' pink']"
            ]
          },
          "metadata": {},
          "execution_count": 22
        }
      ]
    },
    {
      "cell_type": "markdown",
      "metadata": {
        "id": "lTwGPSaPVmjo"
      },
      "source": [
        "공백으로 구분된 경우에도 적용할 수 있습니다. 인자를 `' '`로 지정해도 되고 안 해도 괜찮습니다. 다만 한 칸 공백이 아닌 모든 종류의 공백의 경우는 인자로 아무것도 지정하지 않아야 합니다."
      ]
    },
    {
      "cell_type": "code",
      "metadata": {
        "colab": {
          "base_uri": "https://localhost:8080/"
        },
        "id": "Xv8z5_htV7gH",
        "outputId": "b09cad72-6c02-4b30-af57-e2f3f9c12fa0"
      },
      "source": [
        "colors_blank = 'red blue yellow pink'\n",
        "colors_blank.split()"
      ],
      "execution_count": null,
      "outputs": [
        {
          "output_type": "execute_result",
          "data": {
            "text/plain": [
              "['red', 'blue', 'yellow', 'pink']"
            ]
          },
          "metadata": {},
          "execution_count": 23
        }
      ]
    },
    {
      "cell_type": "code",
      "metadata": {
        "colab": {
          "base_uri": "https://localhost:8080/"
        },
        "id": "5GaM3NH0Wnb_",
        "outputId": "5117db42-2249-4adf-e06a-378278848965"
      },
      "source": [
        "colors_blank_f = 'red   blue  yellow \\n pink   \\n\\n\\n'\n",
        "colors_blank.split()"
      ],
      "execution_count": null,
      "outputs": [
        {
          "output_type": "execute_result",
          "data": {
            "text/plain": [
              "['red', 'blue', 'yellow', 'pink']"
            ]
          },
          "metadata": {},
          "execution_count": 24
        }
      ]
    },
    {
      "cell_type": "markdown",
      "metadata": {
        "id": "VFzKfGgfW3Dk"
      },
      "source": [
        "`maxsplit` 매개변수에 값을 지정해서 원하는 만큼 분리할 수 있습니다."
      ]
    },
    {
      "cell_type": "code",
      "metadata": {
        "colab": {
          "base_uri": "https://localhost:8080/"
        },
        "id": "y7Sa4tS1GpEs",
        "outputId": "e7f17747-6f13-4ff4-b096-e39f290ab382"
      },
      "source": [
        "colors = 'red blue yellow pink'\n",
        "print(colors.split(maxsplit=1))\n",
        "print(colors.split(maxsplit=2))"
      ],
      "execution_count": null,
      "outputs": [
        {
          "output_type": "stream",
          "name": "stdout",
          "text": [
            "['red', 'blue yellow pink']\n",
            "['red', 'blue', 'yellow pink']\n"
          ]
        }
      ]
    },
    {
      "cell_type": "markdown",
      "metadata": {
        "id": "0DQQXDn1HJHD"
      },
      "source": [
        "`maxsplit` 매개변수와 `sep` 매개변수에 값을 지정하면 전화번호를 분리하는 데 유용합니다."
      ]
    },
    {
      "cell_type": "code",
      "metadata": {
        "colab": {
          "base_uri": "https://localhost:8080/"
        },
        "id": "CLrl2fgDHXJO",
        "outputId": "45c05f42-c130-4a4b-cc3c-bc42adfa1047"
      },
      "source": [
        "p_num = '+82-031-1234-5678'\n",
        "split_p_num = p_num.split('-')\n",
        "print(\"'-' 사용:\", split_p_num)\n",
        "split_p_num = p_num.split('-', maxsplit=1)\n",
        "print(\"'-'와 maxsplit=1 사용:\", split_p_num)\n",
        "print('집 전화번호: {}'.format(split_p_num[1]))"
      ],
      "execution_count": null,
      "outputs": [
        {
          "output_type": "stream",
          "name": "stdout",
          "text": [
            "'-' 사용: ['+82', '031', '1234', '5678']\n",
            "'-'와 maxsplit=1 사용: ['+82', '031-1234-5678']\n",
            "집 전화번호: 031-1234-5678\n"
          ]
        }
      ]
    },
    {
      "cell_type": "markdown",
      "metadata": {
        "id": "YbTGCJaBIjwq"
      },
      "source": [
        "## **5.3. 문자열 삭제하기**"
      ]
    },
    {
      "cell_type": "markdown",
      "metadata": {
        "id": "6v0BQX4cIoTs"
      },
      "source": [
        "문자열의 앞과 뒤 공백이나 개행열을 삭제하려면 `strip()` 함수를 사용합니다. 'strip'의 사전적 의미는 '벗겨내기'이므로, 이 함수는 앞뒤의 바깥 원소부터 하나씩 삭제합니다.\n",
        "\n",
        "아래 예시로 설명을 이어갑니다. "
      ]
    },
    {
      "cell_type": "markdown",
      "source": [
        "문자열 양옆의 공백을 제거하려면 `strip()` 함수를 바로 적용합니다."
      ],
      "metadata": {
        "id": "tx6BSdYcEqsE"
      }
    },
    {
      "cell_type": "code",
      "source": [
        "strip = '''\n",
        "    어서 오세요. \n",
        "여기는 대한민국 서울입니다.\n",
        "'''\n",
        "print(strip.strip())"
      ],
      "metadata": {
        "colab": {
          "base_uri": "https://localhost:8080/"
        },
        "id": "1hFomDVbEn2c",
        "outputId": "44f7bd18-6f0b-46cc-9645-bde73ff0f812"
      },
      "execution_count": null,
      "outputs": [
        {
          "output_type": "stream",
          "name": "stdout",
          "text": [
            "어서 오세요. \n",
            "여기는 대한민국 서울입니다.\n"
          ]
        }
      ]
    },
    {
      "cell_type": "markdown",
      "metadata": {
        "id": "4cJ7lMrpiA-p"
      },
      "source": [
        "함수 안에 삭제하려는 문자를 넣으면 앞뒤의 모든 해당 문자를 삭제합니다."
      ]
    },
    {
      "cell_type": "code",
      "metadata": {
        "colab": {
          "base_uri": "https://localhost:8080/"
        },
        "id": "P8k8xvefL_qu",
        "outputId": "54ab56cd-8574-4048-b5f5-5fed793ee40f"
      },
      "source": [
        "strip1 = 'gggabcdefgggggggg' \n",
        "print(strip1.strip('g'))"
      ],
      "execution_count": null,
      "outputs": [
        {
          "output_type": "stream",
          "name": "stdout",
          "text": [
            "abcdef\n"
          ]
        }
      ]
    },
    {
      "cell_type": "markdown",
      "metadata": {
        "id": "nLdEWA3ENEqp"
      },
      "source": [
        "다만 아래와 같은 형태는 앞의 'g'만 삭제합니다. 뒤에 'h'가 있으므로 'g'까지 접근하지 못합니다."
      ]
    },
    {
      "cell_type": "code",
      "metadata": {
        "colab": {
          "base_uri": "https://localhost:8080/"
        },
        "id": "hgjQup-DNcRu",
        "outputId": "0e2651da-83c3-4caa-b8b8-6befb5a785ee"
      },
      "source": [
        "strip2 = 'gggabcdefgggggggghh'\n",
        "print(strip2.strip('g'))"
      ],
      "execution_count": null,
      "outputs": [
        {
          "output_type": "stream",
          "name": "stdout",
          "text": [
            "abcdefgggggggghh\n"
          ]
        }
      ]
    },
    {
      "cell_type": "markdown",
      "metadata": {
        "id": "1baTXtkNNlXz"
      },
      "source": [
        "이 상황에서는 'h'를 삭제하고 'g'를 삭제하면 됩니다."
      ]
    },
    {
      "cell_type": "code",
      "metadata": {
        "colab": {
          "base_uri": "https://localhost:8080/"
        },
        "id": "kP87gLTlNuym",
        "outputId": "92e5d054-18ef-4de7-8ffd-cc5d81952d76"
      },
      "source": [
        "strip2 = 'gggabcdefgggggggghh'\n",
        "# 순서는 무관합니다.\n",
        "print(strip2.strip('gh'))\n",
        "print(strip2.strip('hg'))"
      ],
      "execution_count": null,
      "outputs": [
        {
          "output_type": "stream",
          "name": "stdout",
          "text": [
            "abcdef\n",
            "abcdef\n"
          ]
        }
      ]
    },
    {
      "cell_type": "markdown",
      "metadata": {
        "id": "_mNql1mdOAX8"
      },
      "source": [
        "'f'만 남기겠습니다. 'f'까지 접근하려면 'f' 주변의 모든 원소를 하나씩 `strip()` 함수에 포함시켜야 합니다."
      ]
    },
    {
      "cell_type": "code",
      "metadata": {
        "colab": {
          "base_uri": "https://localhost:8080/"
        },
        "id": "wMIWDhsQODXR",
        "outputId": "6b8a222e-e611-4bb2-fe19-40f1216bd9d6"
      },
      "source": [
        "strip3 = '!@#$%gggabc   !@#$%defggg gggg     ghh  \\n'\n",
        "# '\\n'을 제외하고 벗겨내면 앞만 벗겨내고 뒤는 벗겨내지 못합니다.\n",
        "print(strip3.strip('@$#%!badcegh '))\n",
        "# '\\n'을 포함시키면 뒤까지 벗겨냅니다.\n",
        "print(strip3.strip('@$#%!badcegh \\n'))"
      ],
      "execution_count": null,
      "outputs": [
        {
          "output_type": "stream",
          "name": "stdout",
          "text": [
            "fggg gggg     ghh  \n",
            "\n",
            "f\n"
          ]
        }
      ]
    },
    {
      "cell_type": "markdown",
      "metadata": {
        "id": "9YzBfoyijWx6"
      },
      "source": [
        "공백과 개행문자(`\\n`)를 제거하려면 `strip()` 함수 내에 값을 생략해도 됩니다."
      ]
    },
    {
      "cell_type": "code",
      "metadata": {
        "colab": {
          "base_uri": "https://localhost:8080/"
        },
        "id": "Fs19ft5bjfc7",
        "outputId": "6d3fbd27-10d2-411a-cea9-81eeb81d1527"
      },
      "source": [
        "strip4 = '  apple\\n  \\n\\n'\n",
        "print(strip4.strip())"
      ],
      "execution_count": null,
      "outputs": [
        {
          "output_type": "stream",
          "name": "stdout",
          "text": [
            "apple\n"
          ]
        }
      ]
    },
    {
      "cell_type": "markdown",
      "metadata": {
        "id": "SGLJza5RjzrU"
      },
      "source": [
        "참고로 `lstrip()` 함수는 문자열 왼쪽, `rstrip()` 함수는 문자열 오른쪽을 삭제합니다. 예시는 생략합니다."
      ]
    },
    {
      "cell_type": "markdown",
      "metadata": {
        "id": "8VOMK0Wrki4N"
      },
      "source": [
        "`split()` 함수와 `strip()` 함수를 함께 사용해서 앞 뒤 공백이 불규칙적으로 배열된 원소들의 리스트를 정돈하겠습니다."
      ]
    },
    {
      "cell_type": "code",
      "metadata": {
        "colab": {
          "base_uri": "https://localhost:8080/"
        },
        "id": "N6RVHA0fli5Q",
        "outputId": "cd543bcd-4ddc-4eb7-8bdd-c64157c91a92"
      },
      "source": [
        "fruits = '  apple, banana  ,   grape   ,  strawberry, pear   '\n",
        "fruits_list = fruits.split(',')\n",
        "print(fruits_list)"
      ],
      "execution_count": null,
      "outputs": [
        {
          "output_type": "stream",
          "name": "stdout",
          "text": [
            "['  apple', ' banana  ', '   grape   ', '  strawberry', ' pear   ']\n"
          ]
        }
      ]
    },
    {
      "cell_type": "code",
      "metadata": {
        "colab": {
          "base_uri": "https://localhost:8080/"
        },
        "id": "XMo3X1ZtmBwR",
        "outputId": "7d3aa79b-b07c-45de-e68c-5c21d0799efb"
      },
      "source": [
        "fruits_list_fin = []\n",
        "\n",
        "for fruits in fruits_list:\n",
        "    fruits_strip = fruits.strip()\n",
        "    # `append()` 함수는 오른쪽(마지막)에 원소를 추가하는 함수입니다.\n",
        "    # 자세한 설명은 리스트 파트에서 정리합니다.\n",
        "    fruits_list_fin.append(fruits_strip)\n",
        "\n",
        "print(fruits_list_fin) "
      ],
      "execution_count": null,
      "outputs": [
        {
          "output_type": "stream",
          "name": "stdout",
          "text": [
            "['apple', 'banana', 'grape', 'strawberry', 'pear']\n"
          ]
        }
      ]
    },
    {
      "cell_type": "markdown",
      "metadata": {
        "id": "UXKS_nW-m9Xm"
      },
      "source": [
        "## **5.4. 문자열 연결하기**"
      ]
    },
    {
      "cell_type": "markdown",
      "metadata": {
        "id": "H65pYISdnBAm"
      },
      "source": [
        "문자열을 연결하는 방법은 '+' 연산자를 사용하는 방법과 `join()` 함수를 사용하는 방법이 있습니다.\n",
        "\n",
        "먼저 '+' 연산자를 사용하는 방법에 대한 예시입니다."
      ]
    },
    {
      "cell_type": "code",
      "metadata": {
        "colab": {
          "base_uri": "https://localhost:8080/"
        },
        "id": "4ZlYPZFlnRdj",
        "outputId": "dc35a66c-1f1e-4117-96ff-5d35f705702d"
      },
      "source": [
        " fruits = ['apple', 'banana', 'grape', 'strawberry', 'pear']\n",
        " favorite = '는 내가 제일 좋아하는 과일이지.'\n",
        " print(fruits[3] + favorite)"
      ],
      "execution_count": null,
      "outputs": [
        {
          "output_type": "stream",
          "name": "stdout",
          "text": [
            "strawberry는 내가 제일 좋아하는 과일이지.\n"
          ]
        }
      ]
    },
    {
      "cell_type": "markdown",
      "metadata": {
        "id": "awAU-cOGoFQe"
      },
      "source": [
        "`join()` 함수를 사용하면 리스트의 모든 원소를 연결할 수 있습니다."
      ]
    },
    {
      "cell_type": "code",
      "metadata": {
        "colab": {
          "base_uri": "https://localhost:8080/",
          "height": 35
        },
        "id": "B76FvuuGoMqF",
        "outputId": "bd63464d-4ccf-44d9-fe8e-227987086dbc"
      },
      "source": [
        "favorites = '를 좋아하고, '\n",
        "favorites.join(fruits)"
      ],
      "execution_count": null,
      "outputs": [
        {
          "output_type": "execute_result",
          "data": {
            "application/vnd.google.colaboratory.intrinsic+json": {
              "type": "string"
            },
            "text/plain": [
              "'apple를 좋아하고, banana를 좋아하고, grape를 좋아하고, strawberry를 좋아하고, pear'"
            ]
          },
          "metadata": {},
          "execution_count": 35
        }
      ]
    },
    {
      "cell_type": "markdown",
      "metadata": {
        "id": "xgGnGFvBooEy"
      },
      "source": [
        "마지막 원소에는 '를 좋아하고, '라는 문자열이 연결되지 않았습니다. 마지막 원소이므로 다음 원소를 이을 필요가 없습니다. 문장을 마무리하기 위해 '+' 연산자를 사용하여 '를 좋아하지.'를 연결하겠습니다."
      ]
    },
    {
      "cell_type": "code",
      "metadata": {
        "colab": {
          "base_uri": "https://localhost:8080/",
          "height": 35
        },
        "id": "PIMoQ55qp7-1",
        "outputId": "edcfdd73-372b-40a2-cbe0-2af16757933a"
      },
      "source": [
        " favorites.join(fruits) + '를 좋아하지.'"
      ],
      "execution_count": null,
      "outputs": [
        {
          "output_type": "execute_result",
          "data": {
            "application/vnd.google.colaboratory.intrinsic+json": {
              "type": "string"
            },
            "text/plain": [
              "'apple를 좋아하고, banana를 좋아하고, grape를 좋아하고, strawberry를 좋아하고, pear를 좋아하지.'"
            ]
          },
          "metadata": {},
          "execution_count": 36
        }
      ]
    },
    {
      "cell_type": "markdown",
      "metadata": {
        "id": "1hR7n-qgqCMP"
      },
      "source": [
        "`join()` 함수와 관련된 몇 가지 예를 더 들겠습니다."
      ]
    },
    {
      "cell_type": "code",
      "metadata": {
        "colab": {
          "base_uri": "https://localhost:8080/"
        },
        "id": "Fnut4pAYo9Mz",
        "outputId": "bafe8428-ee93-4fd1-b87a-809507189580"
      },
      "source": [
        "loc = ['경기도', '성남시', '분당구', '정자일로']\n",
        "blank = ' '\n",
        "print(blank.join(loc))\n",
        "print(' '.join(loc))"
      ],
      "execution_count": null,
      "outputs": [
        {
          "output_type": "stream",
          "name": "stdout",
          "text": [
            "경기도 성남시 분당구 정자일로\n",
            "경기도 성남시 분당구 정자일로\n"
          ]
        }
      ]
    },
    {
      "cell_type": "markdown",
      "metadata": {
        "id": "8jBnjCOUpdnn"
      },
      "source": [
        "## **5.5. 문자열 검색하기**"
      ]
    },
    {
      "cell_type": "markdown",
      "metadata": {
        "id": "OspOmQrN9Vsf"
      },
      "source": [
        "`find()` 함수를 사용하여 지정한 문자열과 일치하는 처음 문자열의 시작 위치를 알 수 있습니다. "
      ]
    },
    {
      "cell_type": "code",
      "metadata": {
        "colab": {
          "base_uri": "https://localhost:8080/"
        },
        "id": "tUcN1LWrtV0P",
        "outputId": "65464ff9-caa7-4c47-c0c8-a1b6c6231af4"
      },
      "source": [
        "string_love = 'I love you. You love me. Wow!'\n",
        "print('I의 처음 위치:', string_love.find('I'))\n",
        "print('공백의 처음 위치:', string_love.find(' '))\n",
        "print('l의 처음 위치:', string_love.find('l'))\n",
        "print('lo의 처음 위치:', string_love.find('lo'))\n",
        "# 처음 발견하는 'o'의 위치를 반환합니다.\n",
        "print('o의 처음 위치:', string_love.find('o'))\n",
        "print('y의 처음 위치:', string_love.find('y'))\n",
        "print('you의 처음 위치:', string_love.find('you'))"
      ],
      "execution_count": null,
      "outputs": [
        {
          "output_type": "stream",
          "name": "stdout",
          "text": [
            "I의 처음 위치: 0\n",
            "공백의 처음 위치: 1\n",
            "l의 처음 위치: 2\n",
            "lo의 처음 위치: 2\n",
            "o의 처음 위치: 3\n",
            "y의 처음 위치: 7\n",
            "you의 처음 위치: 7\n"
          ]
        }
      ]
    },
    {
      "cell_type": "markdown",
      "metadata": {
        "id": "hieeos1Dx3WR"
      },
      "source": [
        "검색 범위의 시작 위치와 끝 위치를 지정할 수도 있습니다. 끝 위치 - 1까지 검색하며, 단어 검색에 실패하면 -1을 반환합니다."
      ]
    },
    {
      "cell_type": "code",
      "metadata": {
        "colab": {
          "base_uri": "https://localhost:8080/"
        },
        "id": "btOmlO6tyDXC",
        "outputId": "4555b79d-1c76-425e-b87e-27f24a7ffa9e"
      },
      "source": [
        "string_love = 'I love you. You love me. Wow!'\n",
        "print(\"7 ~ 49 중에 첫 'love'의 위치는?\", string_love.find('love', 7, 50))\n",
        "print(\"0 ~ 49 중에 첫 'love'의 위치는?\", string_love.find('love', 0, 50))\n",
        "# 끝 위치를 생략하거나 '-1'을 지정하면 문자열 끝의 위치를 의미합니다.\n",
        "print(\"7 ~ 끝 중에 첫 'love'의 위치는?\", string_love.find('love', 7))\n",
        "print(\"7 ~ 끝(-1) 중에 첫 'love'의 위치는?\", string_love.find('love', 7, -1))\n",
        "# 아무것도 찾지 못하면 -1을 반환합니다.\n",
        "print(\"못 찾았군요?\", string_love.find('love', 17))"
      ],
      "execution_count": null,
      "outputs": [
        {
          "output_type": "stream",
          "name": "stdout",
          "text": [
            "7 ~ 49 중에 첫 'love'의 위치는? 16\n",
            "0 ~ 49 중에 첫 'love'의 위치는? 2\n",
            "7 ~ 끝 중에 첫 'love'의 위치는? 16\n",
            "7 ~ 끝(-1) 중에 첫 'love'의 위치는? 16\n",
            "못 찾았군요? -1\n"
          ]
        }
      ]
    },
    {
      "cell_type": "markdown",
      "metadata": {
        "id": "AWa39YFk6I3U"
      },
      "source": [
        "문자열에서 검색 대상인 문자열의 등장 횟수는 `count()` 함수로 출력할 수 있습니다. 이 함수 역시 검색 범위의 시작 위치와 끝 위치를 지정할 수 있습니다."
      ]
    },
    {
      "cell_type": "code",
      "metadata": {
        "colab": {
          "base_uri": "https://localhost:8080/"
        },
        "id": "jpM9aUcl6fXp",
        "outputId": "9c2dda09-20a0-4930-88fc-0a5a112b4016"
      },
      "source": [
        "string_love = 'I love you. You love me. Wow!'\n",
        "print(\"'love'의 개수는 몇 개?\", string_love.count('love'))\n",
        "print(\"'love'의 개수는 몇 개?\", string_love.count('love', 3))\n",
        "print(\"'o'의 개수는 몇 개?\", string_love.count('o'))\n",
        "print(\"'o'의 개수는 몇 개?\", string_love.count('o', 5, 10))\n",
        "print(\"'e'의 개수는 몇 개?\", string_love.count('e', 23))"
      ],
      "execution_count": null,
      "outputs": [
        {
          "output_type": "stream",
          "name": "stdout",
          "text": [
            "'love'의 개수는 몇 개? 2\n",
            "'love'의 개수는 몇 개? 1\n",
            "'o'의 개수는 몇 개? 5\n",
            "'o'의 개수는 몇 개? 1\n",
            "'e'의 개수는 몇 개? 0\n"
          ]
        }
      ]
    },
    {
      "cell_type": "markdown",
      "metadata": {
        "id": "Ko782Gm-71PX"
      },
      "source": [
        "`startswith()` 함수와 `endswith()` 함수로 각각 시작과 끝의 문자열이 지정한 문자열과 같은지 True와 False로 알 수 있습니다."
      ]
    },
    {
      "cell_type": "code",
      "metadata": {
        "colab": {
          "base_uri": "https://localhost:8080/"
        },
        "id": "9y5RLaqb8jFm",
        "outputId": "d434a8d6-e370-46be-b9d0-bfe571a83b67"
      },
      "source": [
        "string_love = 'I love you. You love me. Wow!'\n",
        "print(\"'I'로 시작?\", string_love.startswith('I'))\n",
        "print(\"'love'로 시작?\", string_love.startswith('Iove'))\n",
        "print(\"'!'로 끝?\", string_love.endswith('!'))\n",
        "print(\"' '로 끝?\", string_love.endswith(' '))"
      ],
      "execution_count": null,
      "outputs": [
        {
          "output_type": "stream",
          "name": "stdout",
          "text": [
            "'I'로 시작? True\n",
            "'love'로 시작? False\n",
            "'!'로 끝? True\n",
            "' '로 끝? False\n"
          ]
        }
      ]
    },
    {
      "cell_type": "markdown",
      "metadata": {
        "id": "D-uPCDQ0qaLp"
      },
      "source": [
        "## **5.6. 문자열 변경하기**"
      ]
    },
    {
      "cell_type": "markdown",
      "metadata": {
        "id": "YIkwEcXi9vq7"
      },
      "source": [
        "`replace()` 함수로 지정한 문자열로 변경할 수 있습니다.\n",
        "\n",
        "형식은 아래와 같습니다.\n",
        "\n",
        "`문자열.replace('바꿀 문자열', '새로운 문자열'[, 횟수])`\n",
        "\n",
        "여기에서 횟수는 생략할 수 있습니다."
      ]
    },
    {
      "cell_type": "code",
      "metadata": {
        "colab": {
          "base_uri": "https://localhost:8080/"
        },
        "id": "vwG6XwkV93XA",
        "outputId": "28c19d97-dee5-4522-a70f-3f5ee3b8d846"
      },
      "source": [
        "string_love1 = 'I love you. You love me. We love you. What?'\n",
        "print(string_love1.replace('love', 'hate'))\n",
        "print(string_love1.replace('love', 'hate', 2))"
      ],
      "execution_count": null,
      "outputs": [
        {
          "output_type": "stream",
          "name": "stdout",
          "text": [
            "I hate you. You hate me. We hate you. What?\n",
            "I hate you. You hate me. We love you. What?\n"
          ]
        }
      ]
    },
    {
      "cell_type": "markdown",
      "metadata": {
        "id": "lc4h8bN1_NpV"
      },
      "source": [
        "문자열을 삭제할 때도 `replace()` 함수를 활용할 수 있습니다. "
      ]
    },
    {
      "cell_type": "code",
      "metadata": {
        "colab": {
          "base_uri": "https://localhost:8080/"
        },
        "id": "lFhAfYSj_Tgc",
        "outputId": "043abf34-d6db-4501-e653-f566dc743ce2"
      },
      "source": [
        "string_love_del = '-I; -love; -you.;'\n",
        "\n",
        "string_love_del1 = string_love_del.replace('-', '')\n",
        "print(\"'-'를 제거하면:\", string_love_del1)\n",
        "\n",
        "string_love_del2 = string_love_del1.replace(';', '')\n",
        "print(\"';'를 제거하면:\", string_love_del2)"
      ],
      "execution_count": null,
      "outputs": [
        {
          "output_type": "stream",
          "name": "stdout",
          "text": [
            "'-'를 제거하면: I; love; you.;\n",
            "';'를 제거하면: I love you.\n"
          ]
        }
      ]
    },
    {
      "cell_type": "markdown",
      "metadata": {
        "id": "_PCnLhcNAd9o"
      },
      "source": [
        "대소문자로 바꾸려면 각각 `upper()` 함수와 `lower()` 함수를 사용합니다."
      ]
    },
    {
      "cell_type": "code",
      "metadata": {
        "colab": {
          "base_uri": "https://localhost:8080/"
        },
        "id": "mlNpu-OyAkou",
        "outputId": "166471d1-60e9-4001-d1f5-3ffd1bf60cb6"
      },
      "source": [
        "print(string_love.upper())\n",
        "print(string_love.lower())"
      ],
      "execution_count": null,
      "outputs": [
        {
          "output_type": "stream",
          "name": "stdout",
          "text": [
            "I LOVE YOU. YOU LOVE ME. WOW!\n",
            "i love you. you love me. wow!\n"
          ]
        }
      ]
    },
    {
      "cell_type": "markdown",
      "source": [
        "`input()` 함수에 숫자를 지정하면 숫자가 문자 타입으로 출력됩니다. 문자 타입을 숫자 타입으로 변경하려면 `int()` 함수와 `float()` 함수를 사용합니다."
      ],
      "metadata": {
        "id": "SJRRJ_cT6YN6"
      }
    },
    {
      "cell_type": "code",
      "source": [
        "string = input('숫자를 입력하세요.')\n",
        "int_string = int(string)\n",
        "float_string = float(string)\n",
        "print(f'정수로 변환하면 {int_string}입니다.')\n",
        "print(f'실수 또는 부동소수점으로 변환하면 {float_string}입니다.')"
      ],
      "metadata": {
        "colab": {
          "base_uri": "https://localhost:8080/"
        },
        "id": "DWybO4C65jTf",
        "outputId": "bd2cf7c3-c1a0-430b-c0fa-5ce9c2aa4df5"
      },
      "execution_count": null,
      "outputs": [
        {
          "output_type": "stream",
          "name": "stdout",
          "text": [
            "숫자를 입력하세요.3\n",
            "정수로 변환하면 3입니다.\n",
            "실수 또는 부동소수점으로 변환하면 3.0입니다.\n"
          ]
        }
      ]
    },
    {
      "cell_type": "markdown",
      "source": [
        "숫자 타입을 문자 타입으로 변경하려면 `str()` 함수를 사용합니다. 예시는 생략합니다."
      ],
      "metadata": {
        "id": "MEUD0a_D7ULg"
      }
    },
    {
      "cell_type": "markdown",
      "metadata": {
        "id": "731fGWa7qhy3"
      },
      "source": [
        "## **5.7. 문자열 확인하기**"
      ]
    },
    {
      "cell_type": "markdown",
      "metadata": {
        "id": "BawumUTqBAZ1"
      },
      "source": [
        "문자열의 구성 요소를 확인하는 방법에 대해 설명합니다.\n",
        "\n",
        "아래는 관련된 함수의 목록입니다. 모든 형식은 `문자열.함수`입니다.\n",
        "\n",
        "- `isdigit()`: 숫자로만 구성되었는지 여부를 확인합니다.\n",
        "\n",
        "- `isalnum()`: 문자와 숫자로만 구성되었는지 여부를 확인합니다. 특수 문자나 공백이 포함되면 False입니다.\n",
        "\n",
        "- `isalpha()`: 문자로만 구성되었는지 여부를 확인합니다.\n",
        "\n",
        "- `isupper()`, `islower()`: 로마자 대문자, 로마자 소문자로만 구성되었는지 여부를 확인합니다.\n",
        "\n",
        "- `isspace()`: 공백으로만 구성되었는지 여부를 확인합니다."
      ]
    },
    {
      "cell_type": "markdown",
      "metadata": {
        "id": "T2uFAf9jCrU3"
      },
      "source": [
        "몇 가지 예시를 듭니다."
      ]
    },
    {
      "cell_type": "code",
      "metadata": {
        "colab": {
          "base_uri": "https://localhost:8080/"
        },
        "id": "BZmVHpdtCotV",
        "outputId": "555a359a-60f6-4b2d-db45-b37e158f5322"
      },
      "source": [
        "print(\"'love'는 숫자로만 구성되었는가?\", 'love'.isdigit())\n",
        "print(\"'love'는 문자로만 구성되었는가?\",'love'.isalpha())\n",
        "print(\"'love'는 대문자로만 구성되었는가?\",'love'.isupper())\n",
        "print(\"'love'는 소문자로만 구성되었는가?\",'love'.islower())\n",
        "print(\"'love'는 문자와 숫자로만 구성되었는가?\", 'love'.isalnum())\n",
        "print(\"'My love'는 문자와 숫자로만 구성되었는가?\", 'My love'.isalnum())\n",
        "print(\"'My love!!'는 문자와 숫자로만 구성되었는가?\", 'My love!!'.isalnum())"
      ],
      "execution_count": null,
      "outputs": [
        {
          "output_type": "stream",
          "name": "stdout",
          "text": [
            "'love'는 숫자로만 구성되었는가? False\n",
            "'love'는 문자로만 구성되었는가? True\n",
            "'love'는 대문자로만 구성되었는가? False\n",
            "'love'는 소문자로만 구성되었는가? True\n",
            "'love'는 문자와 숫자로만 구성되었는가? True\n",
            "'My love'는 문자와 숫자로만 구성되었는가? False\n",
            "'My love!!'는 문자와 숫자로만 구성되었는가? False\n"
          ]
        }
      ]
    },
    {
      "cell_type": "markdown",
      "metadata": {
        "id": "_97pf-8ncgp4"
      },
      "source": [
        "# **6. 리스트**\n",
        "\n",
        "\n"
      ]
    },
    {
      "cell_type": "markdown",
      "metadata": {
        "id": "-45TXzdkR83v"
      },
      "source": [
        "## **6.1. 인덱싱**"
      ]
    },
    {
      "cell_type": "markdown",
      "metadata": {
        "id": "8k45lV6mcZa4"
      },
      "source": [
        "리스트에서 인덱스의 범위를 지정해서 항목 일부만 가져오는 방법을 설명하겠습니다.\n",
        "\n",
        "```\n",
        "리스트[start:end]\n",
        "리스트[start:end:step]\n",
        "```   \n",
        "\n",
        "파이썬은 숫자 1이 아닌 숫자 0을 지정하면 첫 번째 원소부터 가져옵니다. 따라서 start부터 end-1까지 원소를 가져오게 됩니다. start를 생략하면 0으로 간주하고, end를 생략하면 마지막 숫자로 간주합니다. 추가로 step를 지정하면 증가하는 정도(지정한 숫자)만큼 건너뛰면서 원소를 가져옵니다. 음수로 지정하면 역순으로 가져옵니다."
      ]
    },
    {
      "cell_type": "code",
      "metadata": {
        "colab": {
          "base_uri": "https://localhost:8080/"
        },
        "id": "hMI1gm2GkeWr",
        "outputId": "3dd56c68-f5ee-47b9-844f-b9e74397bef3"
      },
      "source": [
        "a = [0, 1, 2, 3, 4, 5, 6, 7, 8, 9]\n",
        "print('a[0:4]:', a[0:4])\n",
        "print('a[3:9]:', a[3:9])\n",
        "print('a[:5]:', a[:5])\n",
        "print('a[5:]:', a[5:])\n",
        "print('a[::2]:', a[::2])\n",
        "print('a[::3]:', a[::3])\n",
        "print('a[::-1]:', a[::-1])\n",
        "print('a[6::-1]:', a[6::-1])\n",
        "print('a[:5:-1]:', a[:5:-1])"
      ],
      "execution_count": null,
      "outputs": [
        {
          "output_type": "stream",
          "name": "stdout",
          "text": [
            "a[0:4]: [0, 1, 2, 3]\n",
            "a[3:9]: [3, 4, 5, 6, 7, 8]\n",
            "a[:5]: [0, 1, 2, 3, 4]\n",
            "a[5:]: [5, 6, 7, 8, 9]\n",
            "a[::2]: [0, 2, 4, 6, 8]\n",
            "a[::3]: [0, 3, 6, 9]\n",
            "a[::-1]: [9, 8, 7, 6, 5, 4, 3, 2, 1, 0]\n",
            "a[6::-1]: [6, 5, 4, 3, 2, 1, 0]\n",
            "a[:5:-1]: [9, 8, 7, 6]\n"
          ]
        }
      ]
    },
    {
      "cell_type": "markdown",
      "metadata": {
        "id": "nYllbFnISDLt"
      },
      "source": [
        "## **6.2. 원소 삭제하기**"
      ]
    },
    {
      "cell_type": "markdown",
      "metadata": {
        "id": "ixKf7tpwqWLK"
      },
      "source": [
        "인덱스가 i인 원소를 제거하려면 `del 리스트명[i]`를 코딩합니다."
      ]
    },
    {
      "cell_type": "code",
      "metadata": {
        "colab": {
          "base_uri": "https://localhost:8080/"
        },
        "id": "u-bXDbM9qtVZ",
        "outputId": "7fd50a57-8def-48ac-8caa-961060c4d7db"
      },
      "source": [
        "del a[4]\n",
        "print(a)"
      ],
      "execution_count": null,
      "outputs": [
        {
          "output_type": "stream",
          "name": "stdout",
          "text": [
            "[0, 1, 2, 3, 5, 6, 7, 8, 9]\n"
          ]
        }
      ]
    },
    {
      "cell_type": "markdown",
      "metadata": {
        "id": "M0tFqasLSyYP"
      },
      "source": [
        "## **6.3. 원소 존재 여부 확인하기**"
      ]
    },
    {
      "cell_type": "markdown",
      "metadata": {
        "id": "IvjdVon-rkNL"
      },
      "source": [
        "리스트에 원소가 존재하는지 여부를 확인하려면 `원소 in 리스트명`을 코딩합니다. 원소가 존재하면 True, 존재하지 않으면 False입니다."
      ]
    },
    {
      "cell_type": "code",
      "metadata": {
        "colab": {
          "base_uri": "https://localhost:8080/"
        },
        "id": "_iWQkPIWr5jt",
        "outputId": "03e25311-b8fa-44f1-baf6-fcfd61c5dc1f"
      },
      "source": [
        "b = [0, 1, 2, 3]\n",
        "print('3?', 3 in b)\n",
        "print('4?', 4 in b)"
      ],
      "execution_count": null,
      "outputs": [
        {
          "output_type": "stream",
          "name": "stdout",
          "text": [
            "3? True\n",
            "4? False\n"
          ]
        }
      ]
    },
    {
      "cell_type": "markdown",
      "metadata": {
        "id": "NcrDYORcSw5t"
      },
      "source": [
        "## **6.4. 리스트 함수 적용하기**"
      ]
    },
    {
      "cell_type": "markdown",
      "metadata": {
        "id": "yhm6PEmcswzb"
      },
      "source": [
        "리스트와 관련된 함수를 설명합니다. 리스트에 추가, 삽입, 삭제, 반환, 정렬을 수행할 수 있습니다.\n",
        "\n",
        "아래는 함수 목록입니다.\n",
        "\n",
        "- `append()`: 원소 하나를 마지막에 추가합니다. `리스트.append('원소명')` 형식입니다.\n",
        "\n",
        "- `extend()`: 원소 여러 개를 마지막에 추가합니다. `리스트.extend('원소명', '원소명', ...)` 형식입니다.\n",
        "\n",
        "- `insert()`: 특정 위치에 원소를 삽입합니다. `리스트.insert(삽입 위치, '원소명')` 형식입니다.\n",
        "\n",
        "- `remove()`: 입력값과 일치하는 첫 원소를 삭제합니다. `리스트.remove('원소명')` 형식입니다.\n",
        "\n",
        "- `pop()`: 마지막 원소를 제거하고 반환합니다. `리스트.pop()` 형식입니다.\n",
        "\n",
        "- `index()`: 인자와 일치하는 처음 원소의 위치를 반환합니다. `객체명 = 리스트.index('원소명')` 형식입니다.\n",
        "\n",
        "- `count()`: 인자와 일치하는 원소의 개수를 반환합니다. `객체명 = 리스트.count('원소명')` 형식입니다.\n",
        "\n",
        "- `sort()`: 원소를 순방향으로 정렬합니다. `리스트.sort()` 형식입니다.\n",
        "\n",
        "- `reverse()`: 원소를 역순으로 정렬합니다. `리스트.reverse()` 형식입니다."
      ]
    },
    {
      "cell_type": "markdown",
      "metadata": {
        "id": "BabOvW3NIHrV"
      },
      "source": [
        "`append()` 함수의 예시입니다."
      ]
    },
    {
      "cell_type": "code",
      "metadata": {
        "colab": {
          "base_uri": "https://localhost:8080/"
        },
        "id": "ngC51qUcIPpn",
        "outputId": "f1f01709-c6bf-4b9c-9ffd-bd104cf60500"
      },
      "source": [
        "fruits = ['apple', 'banana', 'peach', 'grape']\n",
        "print(fruits)\n",
        "fruits.append('pear')\n",
        "print(\"fruits.append('pear'):\", fruits)"
      ],
      "execution_count": null,
      "outputs": [
        {
          "output_type": "stream",
          "name": "stdout",
          "text": [
            "['apple', 'banana', 'peach', 'grape']\n",
            "fruits.append('pear'): ['apple', 'banana', 'peach', 'grape', 'pear']\n"
          ]
        }
      ]
    },
    {
      "cell_type": "markdown",
      "metadata": {
        "id": "n9fcr8D6JQUW"
      },
      "source": [
        "`extend()` 함수의 예시입니다."
      ]
    },
    {
      "cell_type": "code",
      "metadata": {
        "colab": {
          "base_uri": "https://localhost:8080/"
        },
        "id": "vZeZVyt0JTEj",
        "outputId": "115e1876-1f0b-45d7-c156-6a39d2fb173a"
      },
      "source": [
        "fruits = ['apple', 'banana', 'peach', 'grape']\n",
        "print(fruits)\n",
        "# 리스트로 묶어서 지정해야 합니다.\n",
        "fruits.extend(['pear', 'strawberry'])\n",
        "print(\"fruits.extend(['pear', 'strawberry']):\", fruits)"
      ],
      "execution_count": null,
      "outputs": [
        {
          "output_type": "stream",
          "name": "stdout",
          "text": [
            "['apple', 'banana', 'peach', 'grape']\n",
            "fruits.extend(['pear', 'strawberry']): ['apple', 'banana', 'peach', 'grape', 'pear', 'strawberry']\n"
          ]
        }
      ]
    },
    {
      "cell_type": "markdown",
      "metadata": {
        "id": "Lbo1DPY5IyIF"
      },
      "source": [
        "`insert()` 함수의 예시입니다."
      ]
    },
    {
      "cell_type": "code",
      "metadata": {
        "colab": {
          "base_uri": "https://localhost:8080/"
        },
        "id": "FpsmGdoEI1DD",
        "outputId": "f63f0de9-3560-4d39-befa-67068fcbf3e2"
      },
      "source": [
        "fruits = ['apple', 'banana', 'peach', 'grape']\n",
        "print(fruits)\n",
        "fruits.insert(0, 'pear')\n",
        "print(\"fruits.insert(0, 'pear')\", fruits)"
      ],
      "execution_count": null,
      "outputs": [
        {
          "output_type": "stream",
          "name": "stdout",
          "text": [
            "['apple', 'banana', 'peach', 'grape']\n",
            "fruits.insert(0, 'pear') ['pear', 'apple', 'banana', 'peach', 'grape']\n"
          ]
        }
      ]
    },
    {
      "cell_type": "markdown",
      "metadata": {
        "id": "IqtPWUMIJKqv"
      },
      "source": [
        "`index()` 함수와 `count()` 함수의 예시입니다."
      ]
    },
    {
      "cell_type": "code",
      "metadata": {
        "colab": {
          "base_uri": "https://localhost:8080/"
        },
        "id": "doEAfUKyI-qC",
        "outputId": "e74c6b8c-524d-4408-b3b3-f22c6bacc932"
      },
      "source": [
        "fruits_index = fruits.index('peach')\n",
        "print(\"fruits.index('peach'):\", fruits_index)\n",
        "fruits_count = fruits.count('peach')\n",
        "print(\"fruits.count('peach'):\", fruits_count)"
      ],
      "execution_count": null,
      "outputs": [
        {
          "output_type": "stream",
          "name": "stdout",
          "text": [
            "fruits.index('peach'): 3\n",
            "fruits.count('peach'): 1\n"
          ]
        }
      ]
    },
    {
      "cell_type": "markdown",
      "metadata": {
        "id": "qvvRHZbhP6Te"
      },
      "source": [
        "# **7. 튜플**"
      ]
    },
    {
      "cell_type": "markdown",
      "metadata": {
        "id": "CyVJZwV7cff0"
      },
      "source": [
        "튜플은 리스트와 비슷하지만 차이점이 하나 있습니다. 튜플은 한 번 생성하면 추가, 삭제, 변경할 수 없습니다. 따라서 리스트에서 사용하는 함수 중에 원소를 추가, 삭제, 변경하지 않는 함수만 사용할 수 있습니다. 즉 `index()`, `count()` 함수를 사용할 수 있습니다."
      ]
    },
    {
      "cell_type": "markdown",
      "metadata": {
        "id": "qhBjtGjdTE_W"
      },
      "source": [
        "## **7.1. 원소가 하나인 튜플 생성하기**"
      ]
    },
    {
      "cell_type": "markdown",
      "metadata": {
        "id": "p6EIA9a5QWop"
      },
      "source": [
        "원소(인자)를 하나만 가진 튜플을 생성하는 방법을 설명합니다. 튜플이 원소를 하나만 가지려면 원소를 입력하고 뒤에 ','를 붙여야 합니다."
      ]
    },
    {
      "cell_type": "code",
      "metadata": {
        "colab": {
          "base_uri": "https://localhost:8080/"
        },
        "id": "2EBrqHq0Qo8W",
        "outputId": "4ccf2aec-c745-46e4-e9bb-41902899c7af"
      },
      "source": [
        "tuple1 = (16,)\n",
        "print(tuple1)\n",
        "tuple2 = 16,\n",
        "print(tuple2)"
      ],
      "execution_count": null,
      "outputs": [
        {
          "output_type": "stream",
          "name": "stdout",
          "text": [
            "(16,)\n",
            "(16,)\n"
          ]
        }
      ]
    },
    {
      "cell_type": "markdown",
      "metadata": {
        "id": "uOcYQ6O1RUmw"
      },
      "source": [
        "# **8. 세트**"
      ]
    },
    {
      "cell_type": "markdown",
      "metadata": {
        "id": "HMYX9eWLci4E"
      },
      "source": [
        "세트는 수학의 집합 개념을 실현할 목적으로 만들었습니다. 리스트와 튜플과 유사하며, 리스트에서 쓰이는 함수를 적용할 수 있습니다. 차이점이라면 데이터에 순서가 존재하지 않고 데이터가 중복될 수 없습니다. 아울러 집합과 관련된 개념인 합집합, 차집합, 교집합을 구하는 함수를 사용할 수 있습니다. "
      ]
    },
    {
      "cell_type": "markdown",
      "metadata": {
        "id": "Dg8lH_LxU7n2"
      },
      "source": [
        "## **8.1. 데이터 중복 불가**"
      ]
    },
    {
      "cell_type": "markdown",
      "metadata": {
        "id": "52f6RRe7Ub87"
      },
      "source": [
        "세트에는 데이터가 중복될 수 없습니다."
      ]
    },
    {
      "cell_type": "code",
      "metadata": {
        "colab": {
          "base_uri": "https://localhost:8080/"
        },
        "id": "0enpo9upUnM0",
        "outputId": "cfebe636-a0cc-4ad6-ecd1-cfe78957d2a7"
      },
      "source": [
        "set_1 = {0, 1, 2, 3}\n",
        "print(set_1)\n",
        "set_2 = {0, 0, 1, 1, 2, 3}\n",
        "print(set_2)"
      ],
      "execution_count": null,
      "outputs": [
        {
          "output_type": "stream",
          "name": "stdout",
          "text": [
            "{0, 1, 2, 3}\n",
            "{0, 1, 2, 3}\n"
          ]
        }
      ]
    },
    {
      "cell_type": "markdown",
      "metadata": {
        "id": "I3v9zayOVDNV"
      },
      "source": [
        "## **8.2. 집합 관련 함수 적용하기**"
      ]
    },
    {
      "cell_type": "markdown",
      "metadata": {
        "id": "gvtv2874cmnp"
      },
      "source": [
        "세트1(set1)과 세트2(set2)가 존재한다고 가정하겠습니다.\n",
        "\n",
        "아래는 집합 관련 함수 목록입니다. 형식은 `set1.함수(set2)`입니다.\n",
        "\n",
        "- `union()`: 합집합\n",
        "\n",
        "- `difference()`: 차집합\n",
        "\n",
        "- `intersection()`: 교집합"
      ]
    },
    {
      "cell_type": "markdown",
      "metadata": {
        "id": "CeU5N7nQWMjq"
      },
      "source": [
        "`intersection()` 함수만 예시합니다. 모든 함수는 형식이 같습니다."
      ]
    },
    {
      "cell_type": "code",
      "metadata": {
        "colab": {
          "base_uri": "https://localhost:8080/"
        },
        "id": "6aiOw2-1Ws3q",
        "outputId": "f43cef29-e1cf-42b8-fed7-0dc6431a25ba"
      },
      "source": [
        "set1 = {0, 1, 2, 3, 4, 5}\n",
        "set2 = {0, 2, 4, 6}\n",
        "set1.intersection(set2)"
      ],
      "execution_count": null,
      "outputs": [
        {
          "output_type": "execute_result",
          "data": {
            "text/plain": [
              "{0, 2, 4}"
            ]
          },
          "metadata": {},
          "execution_count": 55
        }
      ]
    },
    {
      "cell_type": "markdown",
      "metadata": {
        "id": "rB5PQK0_XMkc"
      },
      "source": [
        "## **8.3. 연산자를 이용하여 집합 구하기**"
      ]
    },
    {
      "cell_type": "markdown",
      "metadata": {
        "id": "i4fwKQ7qcot6"
      },
      "source": [
        "함수가 아닌 연산자만으로 각 집합을 구할 수 있습니다. 합집합은 '|'로, 차집합은 '-'로, 교집합은 '&'로 구합니다."
      ]
    },
    {
      "cell_type": "markdown",
      "metadata": {
        "id": "9lbWYt-OX6Bn"
      },
      "source": [
        "합집합에 대한 예시입니다."
      ]
    },
    {
      "cell_type": "code",
      "metadata": {
        "colab": {
          "base_uri": "https://localhost:8080/"
        },
        "id": "KL-feahFYAi3",
        "outputId": "8d3db193-9279-4e09-ebf3-7722c1f17dd0"
      },
      "source": [
        "set1 | set2"
      ],
      "execution_count": null,
      "outputs": [
        {
          "output_type": "execute_result",
          "data": {
            "text/plain": [
              "{0, 1, 2, 3, 4, 5, 6}"
            ]
          },
          "metadata": {},
          "execution_count": 56
        }
      ]
    },
    {
      "cell_type": "markdown",
      "metadata": {
        "id": "Napv2QUGYI8d"
      },
      "source": [
        "## **8.4. 타입 변환하기**"
      ]
    },
    {
      "cell_type": "markdown",
      "metadata": {
        "id": "7rfpoBfycqzS"
      },
      "source": [
        "리스트와 튜플과 세트는 각 타입을 변환할 수 있습니다. 다만 함수를 적용했을 때 기존 타입이 변하지는 않습니다. 변환 타입을 유지하려면 따로 객체에 지정해야 합니다.\n",
        "\n",
        "아래는 변환할 타입에 대한 함수 목록입니다.\n",
        "\n",
        "- `객체명 = list(변환 대상)`: 리스트로 변환합니다.\n",
        "\n",
        "- `객체명 = tuple(변환 대상)`: 튜플로 변환합니다.\n",
        "\n",
        "- `객체명 = set(변환 대상)`: 세트로 변환합니다."
      ]
    },
    {
      "cell_type": "code",
      "metadata": {
        "colab": {
          "base_uri": "https://localhost:8080/"
        },
        "id": "QcPEddHjZFbZ",
        "outputId": "28251710-0965-4b58-b16d-cf596171667e"
      },
      "source": [
        "type(set1)"
      ],
      "execution_count": null,
      "outputs": [
        {
          "output_type": "execute_result",
          "data": {
            "text/plain": [
              "set"
            ]
          },
          "metadata": {},
          "execution_count": 57
        }
      ]
    },
    {
      "cell_type": "code",
      "metadata": {
        "colab": {
          "base_uri": "https://localhost:8080/"
        },
        "id": "LF2W3YjnaEpw",
        "outputId": "4ffdfb1a-a44d-4bae-b914-b8104e2ac587"
      },
      "source": [
        "list(set1)"
      ],
      "execution_count": null,
      "outputs": [
        {
          "output_type": "execute_result",
          "data": {
            "text/plain": [
              "[0, 1, 2, 3, 4, 5]"
            ]
          },
          "metadata": {},
          "execution_count": 58
        }
      ]
    },
    {
      "cell_type": "code",
      "metadata": {
        "colab": {
          "base_uri": "https://localhost:8080/"
        },
        "id": "qZ5Mp2l0aIaR",
        "outputId": "def357d6-dd9a-4a83-ab23-b3098a4cea97"
      },
      "source": [
        "type(set1)"
      ],
      "execution_count": null,
      "outputs": [
        {
          "output_type": "execute_result",
          "data": {
            "text/plain": [
              "set"
            ]
          },
          "metadata": {},
          "execution_count": 59
        }
      ]
    },
    {
      "cell_type": "markdown",
      "metadata": {
        "id": "uIUUb4e-aMKa"
      },
      "source": [
        "세트 타입을 리스트 함수를 사용해서 리스트로 출력했지만 여전히 'set1'은 세트 타입입니다."
      ]
    },
    {
      "cell_type": "markdown",
      "metadata": {
        "id": "CZwjIulgaU4Y"
      },
      "source": [
        "리스트 타입으로 유지하려면 객체를 따로 생성해서 출력값을 옮겨야 합니다."
      ]
    },
    {
      "cell_type": "code",
      "metadata": {
        "colab": {
          "base_uri": "https://localhost:8080/"
        },
        "id": "F7LpltjjZd2_",
        "outputId": "822ae57d-718a-45a6-c37e-b93d024c2210"
      },
      "source": [
        "set_to_list = list(set1)\n",
        "type(set_to_list)"
      ],
      "execution_count": null,
      "outputs": [
        {
          "output_type": "execute_result",
          "data": {
            "text/plain": [
              "list"
            ]
          },
          "metadata": {},
          "execution_count": 60
        }
      ]
    },
    {
      "cell_type": "markdown",
      "metadata": {
        "id": "WXgKGALPapgU"
      },
      "source": [
        "# **9. 딕셔너리**"
      ]
    },
    {
      "cell_type": "markdown",
      "metadata": {
        "id": "k_vpBPNactu-"
      },
      "source": [
        "일반 사전은 표제어와 설명이 한 짝으로 구성되며, 표제어를 찾으면 설명을 볼 수 있습니다. 같은 이치로 파이썬 딕셔너리는 키(key)와 값(value)으로 대응하고, 키를 찾으면 값을 확인할 수 있습니다. 따라서 딕셔너리를 인덱싱 하려면 키를 이용합니다. 키는 숫자나 문자열이고, 값은 모든 타입입니다.\n",
        "\n",
        "아래는 딕셔너리의 형식입니다.\n",
        "\n",
        "```\n",
        "dict = {key1: value1, key2: value2, key3: value3}\n",
        "```"
      ]
    },
    {
      "cell_type": "markdown",
      "metadata": {
        "id": "pEPwKjCndod5"
      },
      "source": [
        "## **9.1. 딕셔너리 생성하기**"
      ]
    },
    {
      "cell_type": "markdown",
      "metadata": {
        "id": "py3O9T0wcv-j"
      },
      "source": [
        "한국 내 지역명을 예시로 딕셔너리를 생성합니다."
      ]
    },
    {
      "cell_type": "code",
      "metadata": {
        "colab": {
          "base_uri": "https://localhost:8080/"
        },
        "id": "aQjucxA_eVOb",
        "outputId": "96185eef-5212-41fd-bdae-a40623063a15"
      },
      "source": [
        "loc_dict = {'서울': '종로', '경기': '분당', '인천': '부평', '충남': '논산'}\n",
        "loc_dict"
      ],
      "execution_count": null,
      "outputs": [
        {
          "output_type": "execute_result",
          "data": {
            "text/plain": [
              "{'경기': '분당', '서울': '종로', '인천': '부평', '충남': '논산'}"
            ]
          },
          "metadata": {},
          "execution_count": 61
        }
      ]
    },
    {
      "cell_type": "markdown",
      "metadata": {
        "id": "dstG2dqdfKrX"
      },
      "source": [
        "입력 순서와 다르게 출력됐습니다. 딕셔너리는 순서가 중요하지 않습니다. 입력 순서를 그대로 출력하려면 `print()` 함수를 붙여줍니다."
      ]
    },
    {
      "cell_type": "code",
      "metadata": {
        "colab": {
          "base_uri": "https://localhost:8080/"
        },
        "id": "k4L0sWEafp6z",
        "outputId": "41f7d849-c835-4bcb-dd33-9e414e612a66"
      },
      "source": [
        "print(loc_dict)"
      ],
      "execution_count": null,
      "outputs": [
        {
          "output_type": "stream",
          "name": "stdout",
          "text": [
            "{'서울': '종로', '경기': '분당', '인천': '부평', '충남': '논산'}\n"
          ]
        }
      ]
    },
    {
      "cell_type": "markdown",
      "metadata": {
        "id": "uPuF74ynhd-V"
      },
      "source": [
        "값은 모든 타입이 가능하다고 명시했습니다. 예컨대 리스트 형태도 가능합니다."
      ]
    },
    {
      "cell_type": "code",
      "metadata": {
        "colab": {
          "base_uri": "https://localhost:8080/"
        },
        "id": "13_Zgolbhl7O",
        "outputId": "498cc452-48f7-41af-845d-6e92bff580bc"
      },
      "source": [
        "num_dict = {0: [1, 2, 3], 4: [5, 6, 7], 8: [9, 10, 11]}\n",
        "num_dict"
      ],
      "execution_count": null,
      "outputs": [
        {
          "output_type": "execute_result",
          "data": {
            "text/plain": [
              "{0: [1, 2, 3], 4: [5, 6, 7], 8: [9, 10, 11]}"
            ]
          },
          "metadata": {},
          "execution_count": 63
        }
      ]
    },
    {
      "cell_type": "markdown",
      "metadata": {
        "id": "L1UIGS0aiBfD"
      },
      "source": [
        "여러 타입이 복잡하게 혼재될 수도 있습니다."
      ]
    },
    {
      "cell_type": "code",
      "metadata": {
        "colab": {
          "base_uri": "https://localhost:8080/"
        },
        "id": "-lw6fR8fiF4M",
        "outputId": "1a8f1c10-af47-4e97-c8a4-382d33c3a341"
      },
      "source": [
        "complicated_dict = {0: 1, 2: [3, 4, 5], 'six': (7, 8),\n",
        "                    'sub_num_dict': {0: 1, 2: (3, 4), 'five': [6, 7]},\n",
        "                    'nine': 'finished'}\n",
        "print(complicated_dict)"
      ],
      "execution_count": null,
      "outputs": [
        {
          "output_type": "stream",
          "name": "stdout",
          "text": [
            "{0: 1, 2: [3, 4, 5], 'six': (7, 8), 'sub_num_dict': {0: 1, 2: (3, 4), 'five': [6, 7]}, 'nine': 'finished'}\n"
          ]
        }
      ]
    },
    {
      "cell_type": "markdown",
      "metadata": {
        "id": "AVAfj9OhfwNp"
      },
      "source": [
        "## **9.2. 키를 지정하여 값을 출력하기**"
      ]
    },
    {
      "cell_type": "markdown",
      "metadata": {
        "id": "L9jPAkSccyQv"
      },
      "source": [
        "바로 위에서 복잡하게 생성한 'complicated_dict' 딕셔너리를 리스트로 지정하여 해당하는 값을 출력하겠습니다."
      ]
    },
    {
      "cell_type": "code",
      "metadata": {
        "colab": {
          "base_uri": "https://localhost:8080/"
        },
        "id": "nog8R8Ldf9JK",
        "outputId": "03f747be-b013-444c-dff2-2aef0eab93e6"
      },
      "source": [
        "complicated_dict['sub_num_dict']"
      ],
      "execution_count": null,
      "outputs": [
        {
          "output_type": "execute_result",
          "data": {
            "text/plain": [
              "{0: 1, 2: (3, 4), 'five': [6, 7]}"
            ]
          },
          "metadata": {},
          "execution_count": 65
        }
      ]
    },
    {
      "cell_type": "markdown",
      "metadata": {
        "id": "GKaObjHkkQ7a"
      },
      "source": [
        "## **9.3. 데이터 추가하기**"
      ]
    },
    {
      "cell_type": "markdown",
      "metadata": {
        "id": "jWH2Vtdscz_h"
      },
      "source": [
        "지속해서 'complicated_dict' 딕셔너리를 사용합니다. 딕셔너리에 값을 추가하려면 `딕셔너리[key] = value` 형태를 사용합니다.\n",
        "\n",
        "아래 코드로 예시합니다."
      ]
    },
    {
      "cell_type": "code",
      "metadata": {
        "colab": {
          "base_uri": "https://localhost:8080/"
        },
        "id": "VBiXg1JMk7vk",
        "outputId": "74749034-2767-4fef-c329-c8d9e72d4907"
      },
      "source": [
        "# `'complicated_dict' 딕셔너리에 'ten'이라는 키를 생성하고\n",
        "# [11, 12]`를 짝짓는다고 생각하면 이해하기에 한결 편리합니다.\n",
        "complicated_dict['ten'] = [11, 12]\n",
        "print(complicated_dict)"
      ],
      "execution_count": null,
      "outputs": [
        {
          "output_type": "stream",
          "name": "stdout",
          "text": [
            "{0: 1, 2: [3, 4, 5], 'six': (7, 8), 'sub_num_dict': {0: 1, 2: (3, 4), 'five': [6, 7]}, 'nine': 'finished', 'ten': [11, 12]}\n"
          ]
        }
      ]
    },
    {
      "cell_type": "markdown",
      "metadata": {
        "id": "lyGrVyxSlpfE"
      },
      "source": [
        "## **9.4. 데이터 수정하기**"
      ]
    },
    {
      "cell_type": "markdown",
      "metadata": {
        "id": "ZvnM4ImMc16q"
      },
      "source": [
        "'complicated_dict' 딕셔너리에 있는 기존의 값을 수정할 때도 값을 추가하는 방식인 `딕셔너리[key] = value` 형태를 사용합니다.\n",
        "\n",
        "아래 코드로 예시합니다."
      ]
    },
    {
      "cell_type": "code",
      "metadata": {
        "colab": {
          "base_uri": "https://localhost:8080/"
        },
        "id": "sY5nCtrOmEpW",
        "outputId": "49c40b2c-04a5-467f-97d3-19d09ce0e710"
      },
      "source": [
        "complicated_dict['sub_num_dict'] = {0: 1, 2: 3}\n",
        "print(complicated_dict)"
      ],
      "execution_count": null,
      "outputs": [
        {
          "output_type": "stream",
          "name": "stdout",
          "text": [
            "{0: 1, 2: [3, 4, 5], 'six': (7, 8), 'sub_num_dict': {0: 1, 2: 3}, 'nine': 'finished', 'ten': [11, 12]}\n"
          ]
        }
      ]
    },
    {
      "cell_type": "markdown",
      "metadata": {
        "id": "rQM-qEdPmgaL"
      },
      "source": [
        "## **9.5. 데이터 삭제하기**"
      ]
    },
    {
      "cell_type": "markdown",
      "metadata": {
        "id": "zzgrKclwc3vW"
      },
      "source": [
        "'complicated_dict' 딕셔너리에 있는 값을 삭제하려면 `del 딕셔너리[key]` 형태를 사용합니다. 키에 해당하는 값이 키와 함께 삭제됩니다.\n",
        "\n",
        "아래 코드로 예시합니다."
      ]
    },
    {
      "cell_type": "code",
      "metadata": {
        "colab": {
          "base_uri": "https://localhost:8080/"
        },
        "id": "RS_h_LJJm5wl",
        "outputId": "6d16edb3-53c9-4014-d447-043944031c25"
      },
      "source": [
        "del complicated_dict['sub_num_dict']\n",
        "print(complicated_dict)"
      ],
      "execution_count": null,
      "outputs": [
        {
          "output_type": "stream",
          "name": "stdout",
          "text": [
            "{0: 1, 2: [3, 4, 5], 'six': (7, 8), 'nine': 'finished', 'ten': [11, 12]}\n"
          ]
        }
      ]
    },
    {
      "cell_type": "markdown",
      "metadata": {
        "id": "0wV6xhuCnLG0"
      },
      "source": [
        "## **9.6. 딕셔너리 함수 적용하기**"
      ]
    },
    {
      "cell_type": "markdown",
      "metadata": {
        "id": "q_HLSOrDc6Ch"
      },
      "source": [
        "딕셔너리도 전용 함수가 있습니다. 형식은 `딕셔너리.함수()`입니다.\n",
        "\n",
        "아래는 딕셔너리 전용 함수 목록을 예시로 풀어낸 형식입니다.\n",
        "\n",
        "- `complicated_dict.keys()`: 모든 키를 리스트로 출력합니다.\n",
        "\n",
        "- `complicated_dict.values()`: 모든 값을 리스트로 출력합니다.\n",
        "\n",
        "- `complicated_dict.items()`: 키와 값의 짝을 리스트 안에 튜플로 출력합니다.\n",
        "\n",
        "- `complicated_dict.update(loc_dict)`: 딕셔너리에 다른 딕셔너리가 가진 데이터를 추가합니다.\n",
        "\n",
        "- `complicated_dict.clear()`: 모든 원소를 삭제합니다."
      ]
    },
    {
      "cell_type": "markdown",
      "metadata": {
        "id": "cE7Jmgycz6YR"
      },
      "source": [
        "`key()` 함수에 대한 예시입니다."
      ]
    },
    {
      "cell_type": "code",
      "metadata": {
        "colab": {
          "base_uri": "https://localhost:8080/"
        },
        "id": "MRWhSV1L7Ygl",
        "outputId": "498f631e-6283-4297-c524-b54b151c8efe"
      },
      "source": [
        "print(complicated_dict)\n",
        "print(complicated_dict.keys())"
      ],
      "execution_count": null,
      "outputs": [
        {
          "output_type": "stream",
          "name": "stdout",
          "text": [
            "{0: 1, 2: [3, 4, 5], 'six': (7, 8), 'nine': 'finished', 'ten': [11, 12]}\n",
            "dict_keys([0, 2, 'six', 'nine', 'ten'])\n"
          ]
        }
      ]
    },
    {
      "cell_type": "markdown",
      "metadata": {
        "id": "W36nToM17hQP"
      },
      "source": [
        "`values()` 함수에 대한 예시입니다."
      ]
    },
    {
      "cell_type": "code",
      "metadata": {
        "colab": {
          "base_uri": "https://localhost:8080/"
        },
        "id": "9PC160uL7ka3",
        "outputId": "9b4ea763-9649-4b88-f93f-3db67bd45d50"
      },
      "source": [
        "print(complicated_dict)\n",
        "print(complicated_dict.values())"
      ],
      "execution_count": null,
      "outputs": [
        {
          "output_type": "stream",
          "name": "stdout",
          "text": [
            "{0: 1, 2: [3, 4, 5], 'six': (7, 8), 'nine': 'finished', 'ten': [11, 12]}\n",
            "dict_values([1, [3, 4, 5], (7, 8), 'finished', [11, 12]])\n"
          ]
        }
      ]
    },
    {
      "cell_type": "markdown",
      "metadata": {
        "id": "yk3h22PX7yCi"
      },
      "source": [
        "`items()` 함수에 대한 예시입니다. 리스트에 튜플로 키와 값이 묶입니다."
      ]
    },
    {
      "cell_type": "code",
      "metadata": {
        "colab": {
          "base_uri": "https://localhost:8080/"
        },
        "id": "eKuKLoe571FV",
        "outputId": "c9b8c31d-1910-400e-fca4-d0568e781679"
      },
      "source": [
        "print(complicated_dict)\n",
        "print(complicated_dict.items())"
      ],
      "execution_count": null,
      "outputs": [
        {
          "output_type": "stream",
          "name": "stdout",
          "text": [
            "{0: 1, 2: [3, 4, 5], 'six': (7, 8), 'nine': 'finished', 'ten': [11, 12]}\n",
            "dict_items([(0, 1), (2, [3, 4, 5]), ('six', (7, 8)), ('nine', 'finished'), ('ten', [11, 12])])\n"
          ]
        }
      ]
    },
    {
      "cell_type": "markdown",
      "metadata": {
        "id": "M3bwYjiO8KnJ"
      },
      "source": [
        "데이터를 분석할 때는 일반적으로 리스트를 사용하는 경우가 많습니다. 리스트로 변환하는 작업에 능숙해야 합니다. \n",
        "\n",
        "아래는 이를 예시한 코드입니다."
      ]
    },
    {
      "cell_type": "code",
      "metadata": {
        "colab": {
          "base_uri": "https://localhost:8080/"
        },
        "id": "QqbPT8Uy8q2C",
        "outputId": "7fcec955-9c28-432b-bf88-f681ff34992e"
      },
      "source": [
        "print(list(complicated_dict.keys()))\n",
        "print(list(complicated_dict.values()))\n",
        "print(list(complicated_dict.items()))"
      ],
      "execution_count": null,
      "outputs": [
        {
          "output_type": "stream",
          "name": "stdout",
          "text": [
            "[0, 2, 'six', 'nine', 'ten']\n",
            "[1, [3, 4, 5], (7, 8), 'finished', [11, 12]]\n",
            "[(0, 1), (2, [3, 4, 5]), ('six', (7, 8)), ('nine', 'finished'), ('ten', [11, 12])]\n"
          ]
        }
      ]
    },
    {
      "cell_type": "markdown",
      "metadata": {
        "id": "vyhHNaw29B1p"
      },
      "source": [
        "`update()` 함수에 대한 예시입니다."
      ]
    },
    {
      "cell_type": "code",
      "metadata": {
        "colab": {
          "base_uri": "https://localhost:8080/"
        },
        "id": "G6S-dH_a9Eqf",
        "outputId": "4f9670b6-597e-4dd4-fe71-dffaae264a28"
      },
      "source": [
        "complicated_dict.update(loc_dict)\n",
        "print(complicated_dict)"
      ],
      "execution_count": null,
      "outputs": [
        {
          "output_type": "stream",
          "name": "stdout",
          "text": [
            "{0: 1, 2: [3, 4, 5], 'six': (7, 8), 'nine': 'finished', 'ten': [11, 12], '서울': '종로', '경기': '분당', '인천': '부평', '충남': '논산'}\n"
          ]
        }
      ]
    },
    {
      "cell_type": "markdown",
      "metadata": {
        "id": "qLySqiF29To1"
      },
      "source": [
        "`clear()` 함수를 사용하면 세트 형태는 남고 모든 데이터가 삭제됩니다. 타입 또한 여전히 세트입니다."
      ]
    },
    {
      "cell_type": "code",
      "metadata": {
        "colab": {
          "base_uri": "https://localhost:8080/"
        },
        "id": "C7gIeXx29amE",
        "outputId": "1fd9d852-df61-4595-b1db-fcb2d591b1db"
      },
      "source": [
        "complicated_dict.clear()\n",
        "print(complicated_dict)\n",
        "type(complicated_dict)"
      ],
      "execution_count": null,
      "outputs": [
        {
          "output_type": "stream",
          "name": "stdout",
          "text": [
            "{}\n"
          ]
        },
        {
          "output_type": "execute_result",
          "data": {
            "text/plain": [
              "dict"
            ]
          },
          "metadata": {},
          "execution_count": 74
        }
      ]
    },
    {
      "cell_type": "markdown",
      "metadata": {
        "id": "Vu0XeaF9-ElY"
      },
      "source": [
        "# **10. 제어문**"
      ]
    },
    {
      "cell_type": "markdown",
      "metadata": {
        "id": "RkAxBuI6c8tr"
      },
      "source": [
        "제어문은 조건문과 반복문으로 나뉩니다. 말그대로 조건문은 조건에 따라 다른 명령을 수행하도록 작성한 코드이고, 반복문은 특정 명령을 반복하도록 작성한 코드입니다. 이 두 문형은 매우 밀접한 관계이므로 주로 혼합하여 구성합니다."
      ]
    },
    {
      "cell_type": "markdown",
      "metadata": {
        "id": "JfDIZTSn_CKJ"
      },
      "source": [
        "## **10.1. pass 활용하기**\n"
      ]
    },
    {
      "cell_type": "markdown",
      "metadata": {
        "id": "0RC2ei-Kc-ht"
      },
      "source": [
        "코딩하는 과정 중에 `pass`를 활용하면 큰 도움이 됩니다. 초기 단계에 전체적인 코드 틀을 형성하면서 `pass`를 활용하고, 세세하게 코딩하는 단계에서 `pass`를 제거해가며 코드 전체를 완성하는 것입니다. 기실 틀만 잡고 아무 코드가 없는 상태에서는 애러가 발생하기 마련입니다. 이를 `pass`가 방지하는 것입니다.\n",
        "\n",
        "아래는 설명에 대한 예시입니다.\n"
      ]
    },
    {
      "cell_type": "code",
      "metadata": {
        "id": "Fm3OqVXUDYYy"
      },
      "source": [
        "a = 100\n",
        "if a > 190:\n",
        "    pass\n",
        "elif 100 <= a < 190:\n",
        "    pass\n",
        "else:\n",
        "    pass"
      ],
      "execution_count": null,
      "outputs": []
    },
    {
      "cell_type": "markdown",
      "source": [
        "참고로 `raise`와 `NotImplementedError`를 함께 사용하여 `raise NotImplementedError`를 명시하면 미개발된 부분을 가리키는 오류를 출력할 수 있습니다."
      ],
      "metadata": {
        "id": "40ruMILDOQ7A"
      }
    },
    {
      "cell_type": "code",
      "source": [
        "num = input()\n",
        "num = int(num)\n",
        "\n",
        "if num > 5000:\n",
        "    raise NotImplementedError\n",
        "elif num > 10000:\n",
        "    raise NotImplementedError\n",
        "else:\n",
        "    raise NotImplementedError"
      ],
      "metadata": {
        "colab": {
          "base_uri": "https://localhost:8080/",
          "height": 252
        },
        "id": "JgMu9SKUSnjH",
        "outputId": "b1d1a01f-10a8-45ec-a3f2-d1e498e9cc19"
      },
      "execution_count": 2,
      "outputs": [
        {
          "name": "stdout",
          "output_type": "stream",
          "text": [
            "15000\n"
          ]
        },
        {
          "output_type": "error",
          "ename": "NotImplementedError",
          "evalue": "ignored",
          "traceback": [
            "\u001b[0;31m---------------------------------------------------------------------------\u001b[0m",
            "\u001b[0;31mNotImplementedError\u001b[0m                       Traceback (most recent call last)",
            "\u001b[0;32m<ipython-input-2-fe1106958e69>\u001b[0m in \u001b[0;36m<module>\u001b[0;34m()\u001b[0m\n\u001b[1;32m      3\u001b[0m \u001b[0;34m\u001b[0m\u001b[0m\n\u001b[1;32m      4\u001b[0m \u001b[0;32mif\u001b[0m \u001b[0mnum\u001b[0m \u001b[0;34m>\u001b[0m \u001b[0;36m5000\u001b[0m\u001b[0;34m:\u001b[0m\u001b[0;34m\u001b[0m\u001b[0;34m\u001b[0m\u001b[0m\n\u001b[0;32m----> 5\u001b[0;31m     \u001b[0;32mraise\u001b[0m \u001b[0mNotImplementedError\u001b[0m\u001b[0;34m\u001b[0m\u001b[0;34m\u001b[0m\u001b[0m\n\u001b[0m\u001b[1;32m      6\u001b[0m \u001b[0;32melif\u001b[0m \u001b[0mnum\u001b[0m \u001b[0;34m>\u001b[0m \u001b[0;36m10000\u001b[0m\u001b[0;34m:\u001b[0m\u001b[0;34m\u001b[0m\u001b[0;34m\u001b[0m\u001b[0m\n\u001b[1;32m      7\u001b[0m     \u001b[0;32mraise\u001b[0m \u001b[0mNotImplementedError\u001b[0m\u001b[0;34m\u001b[0m\u001b[0;34m\u001b[0m\u001b[0m\n",
            "\u001b[0;31mNotImplementedError\u001b[0m: "
          ]
        }
      ]
    },
    {
      "cell_type": "markdown",
      "metadata": {
        "id": "9pLFYhfMEVed"
      },
      "source": [
        "## **10.2. range() 함수 적용하기**"
      ]
    },
    {
      "cell_type": "markdown",
      "metadata": {
        "id": "7cpO5B4SdAkk"
      },
      "source": [
        "`range()` 함수는 for문에서 자주 사용합니다. 형식은 `range(시작, 끝, 단계)`이며, 인덱싱처럼 끝은 끝-1입니다. 지정한 끝의 전까지만 범위를 지정합니다."
      ]
    },
    {
      "cell_type": "code",
      "metadata": {
        "colab": {
          "base_uri": "https://localhost:8080/"
        },
        "id": "YXXaJrD5itGE",
        "outputId": "92197cfe-dffe-49f0-ee17-234ef9dc6ddf"
      },
      "source": [
        "for i in range(0, 6, 2):\n",
        "    print(i)"
      ],
      "execution_count": null,
      "outputs": [
        {
          "output_type": "stream",
          "name": "stdout",
          "text": [
            "0\n",
            "2\n",
            "4\n"
          ]
        }
      ]
    },
    {
      "cell_type": "markdown",
      "metadata": {
        "id": "GRzZo427kO33"
      },
      "source": [
        "`range(시작, 끝, 단계)` 형식에서 시작과 단계를 생략하면 끝만 남습니다. 여기서 시작과 단계는 각각 0과 1로 간주합니다."
      ]
    },
    {
      "cell_type": "code",
      "metadata": {
        "colab": {
          "base_uri": "https://localhost:8080/"
        },
        "id": "BiuKWlpvkfIG",
        "outputId": "48679efe-08b6-4480-b245-1a848cea3572"
      },
      "source": [
        "for i in range(8):\n",
        "    print(i)"
      ],
      "execution_count": null,
      "outputs": [
        {
          "output_type": "stream",
          "name": "stdout",
          "text": [
            "0\n",
            "1\n",
            "2\n",
            "3\n",
            "4\n",
            "5\n",
            "6\n",
            "7\n"
          ]
        }
      ]
    },
    {
      "cell_type": "markdown",
      "metadata": {
        "id": "y-BcVsDvhphl"
      },
      "source": [
        "`range()` 함수로 결과를 출력하려면 `list()` 함수를 사용해야 합니다."
      ]
    },
    {
      "cell_type": "code",
      "metadata": {
        "colab": {
          "base_uri": "https://localhost:8080/"
        },
        "id": "PG_7EnTKh4RV",
        "outputId": "ec62b87b-4db1-47b4-ba81-561b859799be"
      },
      "source": [
        "print(range(0, 6, 2))"
      ],
      "execution_count": null,
      "outputs": [
        {
          "output_type": "stream",
          "name": "stdout",
          "text": [
            "range(0, 6, 2)\n"
          ]
        }
      ]
    },
    {
      "cell_type": "markdown",
      "metadata": {
        "id": "_7eY1isZiZMC"
      },
      "source": [
        "`range(0, 6, 2)`이라는 형태로 출력됐습니다. 원소를 출력하려면 `list()` 함수로 묶어야 합니다."
      ]
    },
    {
      "cell_type": "code",
      "metadata": {
        "colab": {
          "base_uri": "https://localhost:8080/"
        },
        "id": "i-_9xzgrijI8",
        "outputId": "b10939ec-7726-4069-bd0f-e351f3ea84f0"
      },
      "source": [
        "list(range(0, 6, 2))"
      ],
      "execution_count": null,
      "outputs": [
        {
          "output_type": "execute_result",
          "data": {
            "text/plain": [
              "[0, 2, 4]"
            ]
          },
          "metadata": {},
          "execution_count": 79
        }
      ]
    },
    {
      "cell_type": "markdown",
      "metadata": {
        "id": "NtcbuU_hk0sm"
      },
      "source": [
        "## **10.3. zip() 함수 적용하기**"
      ]
    },
    {
      "cell_type": "markdown",
      "metadata": {
        "id": "jRDhKNOSdDQV"
      },
      "source": [
        "`zip()` 함수는 여러 리스트의 값을 하나로 묶는 데에 사용할 수 있습니다.\n",
        "\n",
        "아래 코드로 설명합니다."
      ]
    },
    {
      "cell_type": "code",
      "metadata": {
        "colab": {
          "base_uri": "https://localhost:8080/"
        },
        "id": "wcsuyTlvnLus",
        "outputId": "96706fcb-8b98-4029-f924-fc3d595f6811"
      },
      "source": [
        "fruits = ['banana', 'apple', 'grape', 'strawberry']\n",
        "names = ['승원', '미니', '꼬맹', '철수']\n",
        "\n",
        "for fruits, names in zip(fruits, names):\n",
        "    print(fruits, names)"
      ],
      "execution_count": null,
      "outputs": [
        {
          "output_type": "stream",
          "name": "stdout",
          "text": [
            "banana 승원\n",
            "apple 미니\n",
            "grape 꼬맹\n",
            "strawberry 철수\n"
          ]
        }
      ]
    },
    {
      "cell_type": "markdown",
      "metadata": {
        "id": "9VQ-HjaypiEB"
      },
      "source": [
        "## **10.4. while문**"
      ]
    },
    {
      "cell_type": "markdown",
      "metadata": {
        "id": "CR1HaIJadFQe"
      },
      "source": [
        "for문이 단순하게 반복만 수행하는 형태라면, while문은 조건에 따라 반복하고 멈추는 형태입니다.\n",
        "\n",
        "아래는 while문에 대한 예시입니다."
      ]
    },
    {
      "cell_type": "code",
      "metadata": {
        "colab": {
          "base_uri": "https://localhost:8080/"
        },
        "id": "nXknbfyqp-HX",
        "outputId": "a398322e-ae9d-48bd-ebc5-82f8b29eb403"
      },
      "source": [
        "i = 0\n",
        "# 예를 들고자 변수명을 `sum`으로 지정했을 뿐입니다.\n",
        "# 실제로 sum은 함수 `sum()`이 존재하므로 올바르지 않은 변수명입니다.\n",
        "sum = 0\n",
        "\n",
        "while (sum < 10):\n",
        "    i = i + 1\n",
        "    sum = sum + i\n",
        "    print(i, sum)\n",
        "\n",
        "# 바르지 않게 지정한 변수명을 가진 변수를 삭제하겠습니다.\n",
        "del sum"
      ],
      "execution_count": null,
      "outputs": [
        {
          "output_type": "stream",
          "name": "stdout",
          "text": [
            "1 1\n",
            "2 3\n",
            "3 6\n",
            "4 10\n"
          ]
        }
      ]
    },
    {
      "cell_type": "markdown",
      "metadata": {
        "id": "HTyZFsvkqmG-"
      },
      "source": [
        "무한으로 반복하게 하려면 조건을 항상 참인 `True`로 지정합니다."
      ]
    },
    {
      "cell_type": "code",
      "metadata": {
        "id": "Tg6cRW_BqtN0"
      },
      "source": [
        "# 주석으로 처리합니다.\n",
        "# while True:\n",
        "#     print('infinite')"
      ],
      "execution_count": null,
      "outputs": []
    },
    {
      "cell_type": "markdown",
      "metadata": {
        "id": "W42FK0x3rAJq"
      },
      "source": [
        "## **10.5. continue와 break으로 제어하기**"
      ]
    },
    {
      "cell_type": "markdown",
      "metadata": {
        "id": "dogK5-LMdH7f"
      },
      "source": [
        "continue는 처음으로 돌아가서 반복을 수행하고, break은 반복문을 빠져나옵니다.\n",
        "\n",
        "먼저 continue에 대한 예시입니다."
      ]
    },
    {
      "cell_type": "code",
      "metadata": {
        "colab": {
          "base_uri": "https://localhost:8080/"
        },
        "id": "LdF4zjCdrivB",
        "outputId": "a5ea3ddc-2bef-4cb9-eeec-29fd3054f5c8"
      },
      "source": [
        "for i in range(6):\n",
        "    if i == 3:\n",
        "        continue\n",
        "    print(i)"
      ],
      "execution_count": null,
      "outputs": [
        {
          "output_type": "stream",
          "name": "stdout",
          "text": [
            "0\n",
            "1\n",
            "2\n",
            "4\n",
            "5\n"
          ]
        }
      ]
    },
    {
      "cell_type": "markdown",
      "metadata": {
        "id": "WyGlKbQYr4Jr"
      },
      "source": [
        "3만 빼놓고 출력했습니다.\n",
        "\n",
        "다음은 break에 대한 예시입니다."
      ]
    },
    {
      "cell_type": "code",
      "metadata": {
        "colab": {
          "base_uri": "https://localhost:8080/"
        },
        "id": "Q3msWh6PsDhW",
        "outputId": "14061f03-3125-49a2-d170-1795a103d0f7"
      },
      "source": [
        "for i in range(6):\n",
        "    if i > 4:\n",
        "        break\n",
        "    print(i)"
      ],
      "execution_count": null,
      "outputs": [
        {
          "output_type": "stream",
          "name": "stdout",
          "text": [
            "0\n",
            "1\n",
            "2\n",
            "3\n",
            "4\n"
          ]
        }
      ]
    },
    {
      "cell_type": "markdown",
      "metadata": {
        "id": "9MBjzIkksOaU"
      },
      "source": [
        "'i'가 4보다 크므로 빠져나왔습니다.\n",
        "\n",
        "continue와 break을 모두 사용하겠습니다."
      ]
    },
    {
      "cell_type": "code",
      "metadata": {
        "colab": {
          "base_uri": "https://localhost:8080/"
        },
        "id": "_BrCfAJ-sgWk",
        "outputId": "a9b8fbbc-af81-4e71-c576-4ba4fc2cbaef"
      },
      "source": [
        "i = 0\n",
        "\n",
        "while True:\n",
        "    i = i + 1\n",
        "    if i == 3:\n",
        "        print(\"it's 3.\")\n",
        "        continue\n",
        "    if i > 6:\n",
        "        break\n",
        "    print(i)"
      ],
      "execution_count": null,
      "outputs": [
        {
          "output_type": "stream",
          "name": "stdout",
          "text": [
            "1\n",
            "2\n",
            "it's 3.\n",
            "4\n",
            "5\n",
            "6\n"
          ]
        }
      ]
    },
    {
      "cell_type": "markdown",
      "metadata": {
        "id": "zMJMBcNZXHd7"
      },
      "source": [
        "## **10.6. 리스트 컴프리헨션**"
      ]
    },
    {
      "cell_type": "markdown",
      "metadata": {
        "id": "WOqPXV94dNED"
      },
      "source": [
        "리스트 컴프리헨션(comprehension)은 리스트 안에 코드가 들어있는 것을 의미합니다(컴프리헨션의 사전적 의미는 이해, '포함'입니다). 리스트 안에 반복문이 들어있으면 반복문을 한 줄로 작성할 수 있습니다.\n",
        "\n",
        "형식은 아래와 같습니다.\n",
        "```\n",
        "[반복 실행문 for 반복 변수 in 반복 범위]\n",
        "```\n",
        "형식에 대한 예시를 들겠습니다."
      ]
    },
    {
      "cell_type": "code",
      "metadata": {
        "colab": {
          "base_uri": "https://localhost:8080/"
        },
        "id": "q3nbsKlrYGtf",
        "outputId": "6c7ae9a9-9f6e-4286-bffa-ea0c80059e7d"
      },
      "source": [
        "num = [1, 2, 3, 4, 5]\n",
        "list_comprehension1 = [i * 3 for i in num]\n",
        "print(list_comprehension1)"
      ],
      "execution_count": null,
      "outputs": [
        {
          "output_type": "stream",
          "name": "stdout",
          "text": [
            "[3, 6, 9, 12, 15]\n"
          ]
        }
      ]
    },
    {
      "cell_type": "markdown",
      "metadata": {
        "id": "zD2Hf53iY9ZL"
      },
      "source": [
        "반복문에 조건을 부여할 수도 있습니다.\n",
        "\n",
        "형식은 아래와 같습니다.\n",
        "\n",
        "```\n",
        "[반복 실행문 for 반복 변수 in 반복 범위 if 조건]\n",
        "```\n",
        "\n",
        "형식에 대한 예시를 듭니다."
      ]
    },
    {
      "cell_type": "code",
      "metadata": {
        "colab": {
          "base_uri": "https://localhost:8080/"
        },
        "id": "uQZowpztZBrG",
        "outputId": "ccd7719a-a56f-4913-c9bf-8d20896404cd"
      },
      "source": [
        "list_comprehension2 = [i * 3 for i in num if i > 2]\n",
        "print(list_comprehension2)"
      ],
      "execution_count": null,
      "outputs": [
        {
          "output_type": "stream",
          "name": "stdout",
          "text": [
            "[9, 12, 15]\n"
          ]
        }
      ]
    },
    {
      "cell_type": "markdown",
      "metadata": {
        "id": "DNSygqbxagk-"
      },
      "source": [
        "# **11. 입출력**"
      ]
    },
    {
      "cell_type": "markdown",
      "metadata": {
        "id": "kZtE8k3ea6Uj"
      },
      "source": [
        "## **11.1. 출력**"
      ]
    },
    {
      "cell_type": "markdown",
      "metadata": {
        "id": "14R4Zq1_deTa"
      },
      "source": [
        "예시하면서 설명합니다.\n",
        "\n",
        "콤마로 구분하면 원소가 한 칸씩 띈 상태로 출력됩니다.\n",
        "\n",
        "매개변수 `sep`에 문자열을 지정하면 빈칸 대신 다른 형태를 넣을 수 있습니다.\n",
        "\n",
        "빈칸을 붙이려면 더하기 연산자를 사용합니다.\n",
        "\n",
        "콤마와 더하기는 함께 사용할 수 있습니다."
      ]
    },
    {
      "cell_type": "code",
      "metadata": {
        "colab": {
          "base_uri": "https://localhost:8080/"
        },
        "id": "WpL3FW1tdUJ_",
        "outputId": "70c44c61-354a-4201-e968-2a1685875f38"
      },
      "source": [
        "print('콤마 사용:', 'ab', 'cd', 'ef', 'gh')\n",
        "print('sep 사용: ', 'ab', 'cd', 'ef', 'gh', sep='^')\n",
        "print('더하기 사용:', 'ab'+'cd'+'ef'+'gh')\n",
        "print('혼합 사용', 'ab' + 'cd', 'ef' + 'gh')"
      ],
      "execution_count": null,
      "outputs": [
        {
          "output_type": "stream",
          "name": "stdout",
          "text": [
            "콤마 사용: ab cd ef gh\n",
            "sep 사용: ^ab^cd^ef^gh\n",
            "더하기 사용: abcdefgh\n",
            "혼합 사용 abcd efgh\n"
          ]
        }
      ]
    },
    {
      "cell_type": "markdown",
      "metadata": {
        "id": "QZygXkkbfu4R"
      },
      "source": [
        "`end` 매개변수는 두 줄로 출력된 결과를 한 줄로 출력하게 합니다."
      ]
    },
    {
      "cell_type": "code",
      "metadata": {
        "colab": {
          "base_uri": "https://localhost:8080/"
        },
        "id": "hmNp19vgf802",
        "outputId": "02646309-af06-4b83-e3d0-e768b0aeb712"
      },
      "source": [
        "print('This is')\n",
        "print('Sparta')\n",
        "print()\n",
        "print('This is', end=' just ')\n",
        "print('Sparta')"
      ],
      "execution_count": null,
      "outputs": [
        {
          "output_type": "stream",
          "name": "stdout",
          "text": [
            "This is\n",
            "Sparta\n",
            "\n",
            "This is just Sparta\n"
          ]
        }
      ]
    },
    {
      "cell_type": "markdown",
      "metadata": {
        "id": "_Th_nuLdhBa1"
      },
      "source": [
        "'%' 연산자를 이용한 각종 출력 방식을 설명합니다.\n",
        "\n",
        "예시를 들면서 설명하겠습니다."
      ]
    },
    {
      "cell_type": "code",
      "metadata": {
        "colab": {
          "base_uri": "https://localhost:8080/"
        },
        "id": "fGpWZZwshgNU",
        "outputId": "380a6274-b047-4465-b9e8-d89f6bb1a484"
      },
      "source": [
        "dog = '개'\n",
        "print('지나가는 %s가 웃어!' %dog)"
      ],
      "execution_count": null,
      "outputs": [
        {
          "output_type": "stream",
          "name": "stdout",
          "text": [
            "지나가는 개가 웃어!\n"
          ]
        }
      ]
    },
    {
      "cell_type": "markdown",
      "metadata": {
        "id": "rYBh4J9oh8jS"
      },
      "source": [
        "데이터가 문자 타입이라면 `%s`, 실수 타입이라면 `%f`, 정수 타입이라면 `%d`로 지정합니다. 위 코드는 문자 타입이므로 `%s`입니다."
      ]
    },
    {
      "cell_type": "markdown",
      "metadata": {
        "id": "FzkALtYQiVuK"
      },
      "source": [
        "데이터가 다수여도 적용할 수 있습니다. \n",
        "\n",
        "이에 대한 예시입니다."
      ]
    },
    {
      "cell_type": "code",
      "metadata": {
        "colab": {
          "base_uri": "https://localhost:8080/"
        },
        "id": "fG12C0C9ie44",
        "outputId": "c983abb4-e55f-4963-aac0-3bfe307f4fc9"
      },
      "source": [
        "dogs = '몰티즈', '푸들', 2\n",
        "print('지나가는 %s랑 %s %d마리가 웃어!' %dogs)\n",
        "print('지나가는 %s랑 %s %s마리가 웃어!' %dogs)\n",
        "print('지나가는 %s랑 %s %f마리가 웃어!' %dogs)"
      ],
      "execution_count": null,
      "outputs": [
        {
          "output_type": "stream",
          "name": "stdout",
          "text": [
            "지나가는 몰티즈랑 푸들 2마리가 웃어!\n",
            "지나가는 몰티즈랑 푸들 2마리가 웃어!\n",
            "지나가는 몰티즈랑 푸들 2.000000마리가 웃어!\n"
          ]
        }
      ]
    },
    {
      "cell_type": "markdown",
      "metadata": {
        "id": "zlXVitv-l3ux"
      },
      "source": [
        "`format()` 메서드를 이용해서 문자열을 출력할 수도 있습니다.\n",
        "\n",
        "예시로 설명하겠습니다."
      ]
    },
    {
      "cell_type": "code",
      "metadata": {
        "colab": {
          "base_uri": "https://localhost:8080/"
        },
        "id": "cv3jB8DtZKVG",
        "outputId": "e9338575-e0dc-4cc2-b59c-0a82feee0cf2"
      },
      "source": [
        "my_country = 'korea'\n",
        "your_country = 'USA'\n",
        "print(\"I'm in {0}, You're in {1}.\".format(my_country, your_country))"
      ],
      "execution_count": null,
      "outputs": [
        {
          "output_type": "stream",
          "name": "stdout",
          "text": [
            "I'm in korea, You're in USA.\n"
          ]
        }
      ]
    },
    {
      "cell_type": "markdown",
      "metadata": {
        "id": "WO1T3J8ua0ry"
      },
      "source": [
        "여러 문자열을 한꺼번에 출력할 수도 있고, 하나만 선택해서 출력할 수도 있습니다."
      ]
    },
    {
      "cell_type": "code",
      "metadata": {
        "colab": {
          "base_uri": "https://localhost:8080/"
        },
        "id": "lewIc9FPayKb",
        "outputId": "034f48c0-2390-4dd6-b000-40d1b88eb633"
      },
      "source": [
        "colors = ['red', 'blue', 'yellow', 'skyblue']\n",
        "print('I have {0}.'.format(colors))\n",
        "print('My favorite color is {0}.'.format(colors[0]))\n",
        "print('Your favorite color is {0}.'.format(colors[3]))"
      ],
      "execution_count": null,
      "outputs": [
        {
          "output_type": "stream",
          "name": "stdout",
          "text": [
            "I have ['red', 'blue', 'yellow', 'skyblue'].\n",
            "My favorite color is red.\n",
            "Your favorite color is skyblue.\n"
          ]
        }
      ]
    },
    {
      "cell_type": "markdown",
      "metadata": {
        "id": "H3_XSeg-bWP2"
      },
      "source": [
        "출력할 객체의 데이터를 지정할 수도 있습니다."
      ]
    },
    {
      "cell_type": "code",
      "metadata": {
        "colab": {
          "base_uri": "https://localhost:8080/"
        },
        "id": "vZAFNFkzbZg_",
        "outputId": "2ddf8c56-26b7-403d-8a81-0537df703358"
      },
      "source": [
        "my_country = 'korea'\n",
        "your_country = 'USA'\n",
        "colors = ['red', 'blue', 'yellow', 'skyblue']\n",
        "print(\"I'm in {0}. My favorite colors are {2}, {3}.\".\n",
        "      format(my_country, your_country, colors[0], colors[1]))"
      ],
      "execution_count": null,
      "outputs": [
        {
          "output_type": "stream",
          "name": "stdout",
          "text": [
            "I'm in korea. My favorite colors are red, blue.\n"
          ]
        }
      ]
    },
    {
      "cell_type": "markdown",
      "metadata": {
        "id": "nn_UFaCNcPqk"
      },
      "source": [
        "`{숫자}` 형태가 아닌 `{}` 형태로도 지정할 수 있습니다. 순차적으로 데이터를 출력합니다."
      ]
    },
    {
      "cell_type": "code",
      "metadata": {
        "colab": {
          "base_uri": "https://localhost:8080/"
        },
        "id": "gioP4wKIcYjK",
        "outputId": "1f65065b-fd99-4ed1-9fb5-9a1afdf8755d"
      },
      "source": [
        "print(\"I'm in {}, You're in {}.\".format(my_country, your_country))"
      ],
      "execution_count": null,
      "outputs": [
        {
          "output_type": "stream",
          "name": "stdout",
          "text": [
            "I'm in korea, You're in USA.\n"
          ]
        }
      ]
    },
    {
      "cell_type": "markdown",
      "metadata": {
        "id": "4a7tXTGScqRP"
      },
      "source": [
        "문자열뿐만 아니라 숫자인 데이터도 출력할 수 있습니다. 설명은 생략합니다.\n",
        "\n",
        "다만 숫자를 출력할 때는 형식을 지정할 수 있습니다.\n",
        "\n",
        "아래는 먼저 정수에 대한 예시입니다.\n",
        "\n",
        "`{N:nd}` 형식으로 정수를 출력합니다. `N`은 데이터의 위치, `n`은 공백칸의 개수입니다. 공백칸수에 해당하는 숫자가 클수록 공백이 커집니다."
      ]
    },
    {
      "cell_type": "code",
      "metadata": {
        "colab": {
          "base_uri": "https://localhost:8080/"
        },
        "id": "bPwwMc8OeMcT",
        "outputId": "0e630e5d-aaf1-4d01-ddb9-3884157d21a5"
      },
      "source": [
        "num_d = 6\n",
        "print('공백칸 수를 지정해볼까? {0:1d}'.format(num_d))\n",
        "print('공백칸 수를 지정해볼까? {0:2d}'.format(num_d))\n",
        "print('공백칸 수를 지정해볼까? {0:7d}'.format(num_d))"
      ],
      "execution_count": null,
      "outputs": [
        {
          "output_type": "stream",
          "name": "stdout",
          "text": [
            "공백칸 수를 지정해볼까? 6\n",
            "공백칸 수를 지정해볼까?  6\n",
            "공백칸 수를 지정해볼까?       6\n"
          ]
        }
      ]
    },
    {
      "cell_type": "markdown",
      "metadata": {
        "id": "9-M_QzGde3n2"
      },
      "source": [
        "공백 대신 숫자 0을 채우는 방법도 있습니다. `{N:0nd}` 형식을 취합니다. 숫자 `n`을 지정하여 공백 대신 0의 개수를 채웁니다."
      ]
    },
    {
      "cell_type": "code",
      "metadata": {
        "colab": {
          "base_uri": "https://localhost:8080/"
        },
        "id": "m-f9tvwjfgQo",
        "outputId": "14cc0221-a8ff-4188-e690-90ddf245bc44"
      },
      "source": [
        "print('0으로 공백을 채워..{0:04d}'.format(num_d))\n",
        "print('0으로 공백을 채워..{0:09d}'.format(num_d))"
      ],
      "execution_count": null,
      "outputs": [
        {
          "output_type": "stream",
          "name": "stdout",
          "text": [
            "0으로 공백을 채워..0006\n",
            "0으로 공백을 채워..000000006\n"
          ]
        }
      ]
    },
    {
      "cell_type": "markdown",
      "metadata": {
        "id": "og1kW_umfhNx"
      },
      "source": [
        "`{N:>nd}`와 `{N:<nd}`는 각각 오른쪽 정렬과 왼쪽 정렬입니다. `n`은 공백칸의 개수입니다."
      ]
    },
    {
      "cell_type": "code",
      "metadata": {
        "colab": {
          "base_uri": "https://localhost:8080/"
        },
        "id": "TcIB8vpOgJm9",
        "outputId": "eb412126-63c6-4bfe-b4fb-c0c2777d81c3"
      },
      "source": [
        "print('숫자를 정렬할 거야.{0:>5d}..완료!'.format(num_d))\n",
        "print('숫자를 정렬할 거야.{0:<5d}..완료!'.format(num_d))"
      ],
      "execution_count": null,
      "outputs": [
        {
          "output_type": "stream",
          "name": "stdout",
          "text": [
            "숫자를 정렬할 거야.    6..완료!\n",
            "숫자를 정렬할 거야.6    ..완료!\n"
          ]
        }
      ]
    },
    {
      "cell_type": "markdown",
      "metadata": {
        "id": "FSuahtKviNnx"
      },
      "source": [
        "숫자를 진수 형태로도 출력할 수 있습니다.\n",
        "\n",
        "아래에서 예시하겠습니다."
      ]
    },
    {
      "cell_type": "code",
      "metadata": {
        "colab": {
          "base_uri": "https://localhost:8080/"
        },
        "id": "h9hj-zWoiapA",
        "outputId": "9c087c7d-be07-4e3d-8fb2-4e423d403664"
      },
      "source": [
        "two = 2\n",
        "eight = 8\n",
        "sixteen = 16\n",
        "print('2의 진수는 {:#x}'.format(two))\n",
        "print('2의 진수는 (#을 생략하면) {:x}'.format(two))\n",
        "print('8의 진수는 {:#o}'.format(eight))\n",
        "print('8의 진수는 (#을 생략하면) {:o}'.format(eight))\n",
        "print('16의 진수는 {:#b}'.format(sixteen))\n",
        "print('16의 진수는 (#을 생략하면) {:b}'.format(sixteen))"
      ],
      "execution_count": null,
      "outputs": [
        {
          "output_type": "stream",
          "name": "stdout",
          "text": [
            "2의 진수는 0x2\n",
            "2의 진수는 (#을 생략하면) 2\n",
            "8의 진수는 0o10\n",
            "8의 진수는 (#을 생략하면) 10\n",
            "16의 진수는 0b10000\n",
            "16의 진수는 (#을 생략하면) 10000\n"
          ]
        }
      ]
    },
    {
      "cell_type": "markdown",
      "metadata": {
        "id": "gEsO7XxtjUSN"
      },
      "source": [
        "예시 그대로입니다.\n",
        "\n",
        "아래는 실수에 대한 예시입니다.\n",
        "\n",
        "`{N:.nf}` 형식입니다. `n`에 소수점 자리 수를 지정할 수 있습니다. "
      ]
    },
    {
      "cell_type": "code",
      "metadata": {
        "colab": {
          "base_uri": "https://localhost:8080/"
        },
        "id": "UazBNO7ljpL4",
        "outputId": "61bda04a-fda6-480e-d0d5-627bf4d00c46"
      },
      "source": [
        "num_f = 123.4567\n",
        "print('소수점 몇 째 자리까지 출력할까? {:.2f}'.format(num_f))\n",
        "print('소수점 몇 째 자리까지 출력할까? {:.3f}'.format(num_f))\n",
        "print('소수점 몇 째 자리까지 출력할까? {:.4f}'.format(num_f))"
      ],
      "execution_count": null,
      "outputs": [
        {
          "output_type": "stream",
          "name": "stdout",
          "text": [
            "소수점 몇 째 자리까지 출력할까? 123.46\n",
            "소수점 몇 째 자리까지 출력할까? 123.457\n",
            "소수점 몇 째 자리까지 출력할까? 123.4567\n"
          ]
        }
      ]
    },
    {
      "cell_type": "markdown",
      "metadata": {
        "id": "APgoRBztkzxW"
      },
      "source": [
        "아래는 각종 숫자 출력 방식입니다.\n",
        "\n",
        "먼저 `{N:.n%}` 형식으로 소수점을 지정하고 퍼센트를 붙일 수 있습니다."
      ]
    },
    {
      "cell_type": "code",
      "metadata": {
        "colab": {
          "base_uri": "https://localhost:8080/"
        },
        "id": "ozCIOeeIlJ2v",
        "outputId": "4fa4cfeb-1c21-4193-d2fb-44dfdfb5b464"
      },
      "source": [
        "print('퍼센트를 붙이자. {:.0%}'.format(num_f))\n",
        "print('퍼센트를 붙이자. {:.1%}'.format(num_f))\n",
        "print('퍼센트를 붙이자. {:.2%}'.format(num_f))\n",
        "print('퍼센트를 붙이자. {:.4%}'.format(num_f))"
      ],
      "execution_count": null,
      "outputs": [
        {
          "output_type": "stream",
          "name": "stdout",
          "text": [
            "퍼센트를 붙이자. 12346%\n",
            "퍼센트를 붙이자. 12345.7%\n",
            "퍼센트를 붙이자. 12345.67%\n",
            "퍼센트를 붙이자. 12345.6700%\n"
          ]
        }
      ]
    },
    {
      "cell_type": "markdown",
      "metadata": {
        "id": "HEbaweW7lmWl"
      },
      "source": [
        "','를 3칸마다 붙일 수 있습니다. `{N:,}` 형식입니다."
      ]
    },
    {
      "cell_type": "code",
      "metadata": {
        "colab": {
          "base_uri": "https://localhost:8080/"
        },
        "id": "0J5SQiZlm8zX",
        "outputId": "93a8096c-95f3-4772-dcbe-41cc0daba15a"
      },
      "source": [
        "num_money = 97000000\n",
        "print('금액에 붙이는 쉼표를 달자. {:,}$'.format(num_money))"
      ],
      "execution_count": null,
      "outputs": [
        {
          "output_type": "stream",
          "name": "stdout",
          "text": [
            "금액에 붙이는 쉼표를 달자. 97,000,000$\n"
          ]
        }
      ]
    },
    {
      "cell_type": "markdown",
      "metadata": {
        "id": "R8PI0wdDn4A1"
      },
      "source": [
        "지수로 표현할 수 있습니다. 형식은 `{:.ne}`이고, 소수점 자리 수는 `n`에 지정합니다. "
      ]
    },
    {
      "cell_type": "code",
      "metadata": {
        "colab": {
          "base_uri": "https://localhost:8080/"
        },
        "id": "u12MA-6NoULR",
        "outputId": "15afd7fc-072c-45f8-8b82-a0e8481508f9"
      },
      "source": [
        "num_e = 8530000000\n",
        "print('지수로 표현하면? {:.1e}'.format(num_e))\n",
        "print('지수로 표현하면? {:.2e}'.format(num_e))\n",
        "print('지수로 표현하면? {:.4e}'.format(num_e))"
      ],
      "execution_count": null,
      "outputs": [
        {
          "output_type": "stream",
          "name": "stdout",
          "text": [
            "지수로 표현하면? 8.5e+09\n",
            "지수로 표현하면? 8.53e+09\n",
            "지수로 표현하면? 8.5300e+09\n"
          ]
        }
      ]
    },
    {
      "cell_type": "markdown",
      "metadata": {
        "id": "-ysE-URmgpXG"
      },
      "source": [
        "## **11.2. 입력**"
      ]
    },
    {
      "cell_type": "markdown",
      "metadata": {
        "id": "UZyokR9Mrbpu"
      },
      "source": [
        "직접 데이터를 입력하는 함수는 `input()`입니다. `객체명 = input(데이터)` 형식으로 쓰입니다. 숫자나 문자열 모두 입력할 수 있습니다."
      ]
    },
    {
      "cell_type": "code",
      "metadata": {
        "colab": {
          "base_uri": "https://localhost:8080/"
        },
        "id": "aQ4cG0CnrohZ",
        "outputId": "eedb2bb0-8e98-43d0-fcf4-ac65910d4488"
      },
      "source": [
        "input_data = input('무엇을 주문하시겠어요? ')\n",
        "print('주문하신 메뉴는 {}입니다.'.format(input_data))"
      ],
      "execution_count": null,
      "outputs": [
        {
          "output_type": "stream",
          "name": "stdout",
          "text": [
            "무엇을 주문하시겠어요? 아메리카노\n",
            "주문하신 메뉴는 아메리카노입니다.\n"
          ]
        }
      ]
    },
    {
      "cell_type": "markdown",
      "metadata": {
        "id": "pu1dHAK6sfGy"
      },
      "source": [
        "숫자를 입력해서 연산 작업을 할 수도 있습니다. 이때 입력한 숫자는 문자형로 인식되므로, 연산 작업을 수행하려면 객체를 숫자형으로 변환하기 위해 정수로 바꾸는 `int()` 함수 또는 실수로 바꾸는 `float()` 함수로 묶어서 숫자로 바꿔야 합니다."
      ]
    },
    {
      "cell_type": "code",
      "metadata": {
        "colab": {
          "base_uri": "https://localhost:8080/"
        },
        "id": "EHEbvT9zsea5",
        "outputId": "8fd1af73-9115-4e19-ac8a-ff50dbb9bc6d"
      },
      "source": [
        "input_data = input('데이터를 입력하세요.')\n",
        "final_data = int(input_data) + 5\n",
        "print('최종 데이터는 {}입니다'.format(final_data))"
      ],
      "execution_count": null,
      "outputs": [
        {
          "output_type": "stream",
          "name": "stdout",
          "text": [
            "데이터를 입력하세요.16\n",
            "최종 데이터는 21입니다\n"
          ]
        }
      ]
    },
    {
      "cell_type": "markdown",
      "metadata": {
        "id": "yYOfoE_Rpx-K"
      },
      "source": [
        "# **12. 파일 다루기 기본**"
      ]
    },
    {
      "cell_type": "markdown",
      "metadata": {
        "id": "RmVzLzPgubKO"
      },
      "source": [
        "## **12.1. 파일 열기**\n",
        "\n",
        "`open()` 함수를 사용해서 파일을 열 수 있습니다.\n",
        "\n",
        "형식은 아래와 같습니다.\n",
        "\n",
        "`file = open('파일이름', '파일열기속성')`\n",
        "\n",
        "`파일열기속성`에 포함되는 목록은 아래와 같습니다.\n",
        "\n",
        "- `r`: 읽기 모드로 파일을 엽니다. `파일열기속성`을 지정하지 않았을 때 기본값으로 지정되는 인자입니다.\n",
        "\n",
        "- `w`: 쓰기 모드로 파일을 엽니다. 파일명이 같은 파일이 존재하면 기존 내용은 자동으로 삭제됩니다. `x` 인자의 경우는 파일명이 같은 파일이 존재하면 오류가 납니다.\n",
        "\n",
        "- `a`: 추가 모드로 파일을 엽니다. 파일명이 같은 파일이 없으면 사실상 `w` 인자와 동일합니다.\n",
        "\n",
        "- `t`: 텍스트 모드로 파일을 엽니다. 기본적으로 지정되는 인자입니다.\n",
        "\n",
        "- `b`: 바이너리 모드로 파일을 엽니다.\n",
        "\n",
        "정리하자면 `파일열기속성`에 아무것도 지정하지 않으면 `rt`로 자동으로 지정되는 것입니다. `w`만 지정한다면 자동으로 `wt`로 지정됩니다. 여러 속성을 혼합해서 지정할 수도 있는데, 예를 들면 `rb`이며 `br`도 가능합니다. \n",
        "\n",
        "아래 코드에서 예시합니다."
      ]
    },
    {
      "cell_type": "code",
      "metadata": {
        "id": "E-wI34nzwS4G"
      },
      "source": [
        "# 임의로 지정한 파일명입니다. 불러 올 파일이 없으므로 오류가 납니다.\n",
        "# test_file = open('my_favorite', 'rb')"
      ],
      "execution_count": null,
      "outputs": []
    },
    {
      "cell_type": "markdown",
      "metadata": {
        "id": "9N6WAIhzxnc9"
      },
      "source": [
        "## **12.2. 파일 쓰기**"
      ]
    },
    {
      "cell_type": "markdown",
      "metadata": {
        "id": "8GE_HULIxsJL"
      },
      "source": [
        "파일을 연 후에 쓰기 작업을 수행할 수 있습니다. 단, 쓰기 작업을 수행하려면 파일을 `w` 형식으로 열어야 합니다.\n",
        "\n",
        "아래는 파일을 쓰고 닫는 형식입니다.\n",
        "\n",
        "```\n",
        "file.write(데이터)\n",
        "file.close()\n",
        "```"
      ]
    },
    {
      "cell_type": "markdown",
      "metadata": {
        "id": "A-IQ2NQCzrTj"
      },
      "source": [
        "예시를 들기 위해 구글 드라이브와 연동합니다."
      ]
    },
    {
      "cell_type": "code",
      "metadata": {
        "colab": {
          "base_uri": "https://localhost:8080/"
        },
        "id": "KlHhOE96zo5J",
        "outputId": "7c224e21-7d1e-4b2b-9969-4f300d293222"
      },
      "source": [
        "from google.colab import drive\n",
        "drive.mount('/content/gdrive/')"
      ],
      "execution_count": null,
      "outputs": [
        {
          "output_type": "stream",
          "name": "stdout",
          "text": [
            "Mounted at /content/gdrive/\n"
          ]
        }
      ]
    },
    {
      "cell_type": "markdown",
      "metadata": {
        "id": "PF1OcQHW0MPw"
      },
      "source": [
        "파일을 쓰고 저장하기 위해 경로를 잡습니다."
      ]
    },
    {
      "cell_type": "code",
      "metadata": {
        "colab": {
          "base_uri": "https://localhost:8080/"
        },
        "id": "-em2LzF00K1p",
        "outputId": "6fc0beb9-2ad0-412f-9bf6-f4c1320c4554"
      },
      "source": [
        "cd /content/gdrive/MyDrive/Python_for_Data_Analytics_Science"
      ],
      "execution_count": null,
      "outputs": [
        {
          "output_type": "stream",
          "name": "stdout",
          "text": [
            "/content/gdrive/MyDrive/Python_for_Data_Analytics_Science\n"
          ]
        }
      ]
    },
    {
      "cell_type": "markdown",
      "metadata": {
        "id": "Pggc9nB20dhc"
      },
      "source": [
        "파일 쓰기에 대한 예시입니다. 지정된 경로에 해당 파일이 저장됩니다."
      ]
    },
    {
      "cell_type": "code",
      "metadata": {
        "id": "XmSTEEGP0iCt"
      },
      "source": [
        "test_file = open('test.txt','w')\n",
        "test_file.write('Test text')\n",
        "test_file.close()"
      ],
      "execution_count": null,
      "outputs": []
    },
    {
      "cell_type": "markdown",
      "metadata": {
        "id": "DfxVCgZz1jV3"
      },
      "source": [
        "## **12.3. 파일 읽기**"
      ]
    },
    {
      "cell_type": "markdown",
      "metadata": {
        "id": "6lNd9eaC2TOh"
      },
      "source": [
        "위에서 생성한 'test.txt'을 읽겠습니다."
      ]
    },
    {
      "cell_type": "code",
      "metadata": {
        "colab": {
          "base_uri": "https://localhost:8080/"
        },
        "id": "chCI-va52Z3f",
        "outputId": "d29cd319-7f39-4799-d204-f7cef43b5412"
      },
      "source": [
        "# 기본값이 `r`이므로 따로 지정하지 않아도 괜찮습니다.\n",
        "test_file = open('test.txt')\n",
        "read_file = test_file.read()\n",
        "test_file.close()\n",
        "print(read_file)"
      ],
      "execution_count": null,
      "outputs": [
        {
          "output_type": "stream",
          "name": "stdout",
          "text": [
            "Test text\n"
          ]
        }
      ]
    },
    {
      "cell_type": "markdown",
      "metadata": {
        "id": "GNrxBAvl3ByP"
      },
      "source": [
        "## **12.4. 반복문으로 파일 쓰기**"
      ]
    },
    {
      "cell_type": "markdown",
      "metadata": {
        "id": "Meoiv6um3hmk"
      },
      "source": [
        "먼저 for문으로 문자열을 작성하는 법을 설명합니다.\n",
        "\n",
        "아래는 5 + 0 = 5부터 5 + 7 = 12까지 줄을 바꿔서 파일에 텍스트를 쓰는 for문입니다."
      ]
    },
    {
      "cell_type": "code",
      "metadata": {
        "id": "FQ8zqYa33xkh"
      },
      "source": [
        "file = open('for_plus5.txt', 'w')\n",
        "for num in range(8):\n",
        "    plus5 = '5 + {} = {}\\n'.format(num, num+5)\n",
        "    file.write(plus5)\n",
        "file.close()"
      ],
      "execution_count": null,
      "outputs": []
    },
    {
      "cell_type": "markdown",
      "metadata": {
        "id": "pkOKS21i6W3q"
      },
      "source": [
        "## **12.5. 반복문으로 파일 읽기**"
      ]
    },
    {
      "cell_type": "markdown",
      "metadata": {
        "id": "1gkIMHOK6dXJ"
      },
      "source": [
        "파일 내용을 한 줄씩 읽으려면 `readline()` 함수나 `readlines()` 함수를 사용합니다.\n",
        "\n",
        "- `readline()`: 문자열 한 줄을 읽습니다. \n",
        "\n",
        "- `readlines()`: 전체 문자열을 읽고 한 줄씩 쉼표로 구분되는 리스트로 바꿉니다."
      ]
    },
    {
      "cell_type": "markdown",
      "metadata": {
        "id": "UfkJ-66S7GHd"
      },
      "source": [
        "먼저 `readline()` 함수에 대한 예시입니다."
      ]
    },
    {
      "cell_type": "code",
      "metadata": {
        "colab": {
          "base_uri": "https://localhost:8080/"
        },
        "id": "og7B4NYi7ItR",
        "outputId": "1a5fada1-c552-4909-948f-07648290ad2b"
      },
      "source": [
        "file = open('for_plus5.txt')\n",
        "line1 = file.readline()\n",
        "line2 = file.readline()\n",
        "line3 = file.readline()\n",
        "line4 = file.readline()\n",
        "file.close()\n",
        "print(line1)\n",
        "print(line2)\n",
        "print(line3)"
      ],
      "execution_count": null,
      "outputs": [
        {
          "output_type": "stream",
          "name": "stdout",
          "text": [
            "5 + 0 = 5\n",
            "\n",
            "5 + 1 = 6\n",
            "\n",
            "5 + 2 = 7\n",
            "\n"
          ]
        }
      ]
    },
    {
      "cell_type": "markdown",
      "metadata": {
        "id": "52eJK21m758T"
      },
      "source": [
        "위에서 개행 문자로 `\\n`을 지정했기 때문에 한 줄씩 개행되면서 문자열이 출력됐습니다. 개행되지 않도록 출력하려면 `end=''`로 매개변수르 지정합니다. `''`는 빈칸이므로 빈 문자열은 읽지 않도록 조치하는 것입니다."
      ]
    },
    {
      "cell_type": "code",
      "metadata": {
        "colab": {
          "base_uri": "https://localhost:8080/"
        },
        "id": "m5KYYm0I8PbN",
        "outputId": "d0b45ef9-56af-4753-cda7-2453ebaffc26"
      },
      "source": [
        "print(line1, end='')\n",
        "print(line2, end='')\n",
        "print(line3, end='')"
      ],
      "execution_count": null,
      "outputs": [
        {
          "output_type": "stream",
          "name": "stdout",
          "text": [
            "5 + 0 = 5\n",
            "5 + 1 = 6\n",
            "5 + 2 = 7\n"
          ]
        }
      ]
    },
    {
      "cell_type": "markdown",
      "metadata": {
        "id": "aYWTP5IMA3Fp"
      },
      "source": [
        "while문으로 파일을 읽겠습니다. 위처럼 빈 문자열을 읽지 않도록 지정하겠습니다."
      ]
    },
    {
      "cell_type": "code",
      "metadata": {
        "colab": {
          "base_uri": "https://localhost:8080/"
        },
        "id": "XATGiGohBQ5M",
        "outputId": "d6fe7ca7-086b-4ab7-c8a5-612b7b1ff97b"
      },
      "source": [
        "file = open('for_plus5.txt')\n",
        "line = file.readline()\n",
        "# line이 False이면 빈 문자열이므로 해당 문자열은 생략하고 출력하지 않습니다.\n",
        "while line:\n",
        "    print(line, end='')\n",
        "    line = file.readline()\n",
        "file.close()"
      ],
      "execution_count": null,
      "outputs": [
        {
          "output_type": "stream",
          "name": "stdout",
          "text": [
            "5 + 0 = 5\n",
            "5 + 1 = 6\n",
            "5 + 2 = 7\n",
            "5 + 3 = 8\n",
            "5 + 4 = 9\n",
            "5 + 5 = 10\n",
            "5 + 6 = 11\n",
            "5 + 7 = 12\n"
          ]
        }
      ]
    },
    {
      "cell_type": "markdown",
      "metadata": {
        "id": "TXmtMzStCMt_"
      },
      "source": [
        "`readlines()` 함수에 대한 예시입니다. 리스트 형태로 구성되며 한 줄씩 원소로 갖습니다."
      ]
    },
    {
      "cell_type": "code",
      "metadata": {
        "colab": {
          "base_uri": "https://localhost:8080/"
        },
        "id": "3dcWfhVFCRxg",
        "outputId": "3a2073c4-cc7e-428c-d055-b6f3db7f9eb6"
      },
      "source": [
        "file = open('for_plus5.txt')\n",
        "lines = file.readlines()\n",
        "file.close()\n",
        "print(lines)"
      ],
      "execution_count": null,
      "outputs": [
        {
          "output_type": "stream",
          "name": "stdout",
          "text": [
            "['5 + 0 = 5\\n', '5 + 1 = 6\\n', '5 + 2 = 7\\n', '5 + 3 = 8\\n', '5 + 4 = 9\\n', '5 + 5 = 10\\n', '5 + 6 = 11\\n', '5 + 7 = 12\\n']\n"
          ]
        }
      ]
    },
    {
      "cell_type": "markdown",
      "metadata": {
        "id": "tuIC0U2_Cnio"
      },
      "source": [
        "리스트에 할당된 원소인 문자열을 빈 문자열을 제외하고 출력하려면 for문으로도 처리할 수 있습니다. "
      ]
    },
    {
      "cell_type": "code",
      "metadata": {
        "colab": {
          "base_uri": "https://localhost:8080/"
        },
        "id": "6d8FMzliCwLd",
        "outputId": "d7f9b1c6-ec2f-4557-b4b6-fcaf15876767"
      },
      "source": [
        "file = open('for_plus5.txt')\n",
        "lines = file.readlines()\n",
        "file.close()\n",
        "for line in lines:\n",
        "    print(line, end='')"
      ],
      "execution_count": null,
      "outputs": [
        {
          "output_type": "stream",
          "name": "stdout",
          "text": [
            "5 + 0 = 5\n",
            "5 + 1 = 6\n",
            "5 + 2 = 7\n",
            "5 + 3 = 8\n",
            "5 + 4 = 9\n",
            "5 + 5 = 10\n",
            "5 + 6 = 11\n",
            "5 + 7 = 12\n"
          ]
        }
      ]
    },
    {
      "cell_type": "markdown",
      "metadata": {
        "id": "X0xJ2kdoF39Z"
      },
      "source": [
        "위 코드에서 더 축약할 수도 있습니다. 'lines' 객체에 문자열을 지정하지 않고 바로 for문으로 넘깁니다."
      ]
    },
    {
      "cell_type": "code",
      "metadata": {
        "colab": {
          "base_uri": "https://localhost:8080/"
        },
        "id": "Ksoavo8bF6n9",
        "outputId": "44a31f21-19ff-448d-eb3a-367043fc99cc"
      },
      "source": [
        "file = open('for_plus5.txt')\n",
        "for line in file.readlines():\n",
        "    print(line, end='')\n",
        "file.close()"
      ],
      "execution_count": null,
      "outputs": [
        {
          "output_type": "stream",
          "name": "stdout",
          "text": [
            "5 + 0 = 5\n",
            "5 + 1 = 6\n",
            "5 + 2 = 7\n",
            "5 + 3 = 8\n",
            "5 + 4 = 9\n",
            "5 + 5 = 10\n",
            "5 + 6 = 11\n",
            "5 + 7 = 12\n"
          ]
        }
      ]
    },
    {
      "cell_type": "markdown",
      "metadata": {
        "id": "Yec5NI2uFr9r"
      },
      "source": [
        "위 코드에서 'file' 객체만 입력하는 것으로 갈음할 수도 있습니다. 'file' 객체는 `readlines()` 함수로 처리한 리스트 형태의 원소가 담겨있기 때문입니다."
      ]
    },
    {
      "cell_type": "code",
      "metadata": {
        "colab": {
          "base_uri": "https://localhost:8080/"
        },
        "id": "kFNa6nQtGptj",
        "outputId": "1882077a-7049-43d9-fd63-5f5cb4db3e04"
      },
      "source": [
        "file = open('for_plus5.txt')\n",
        "for line in file:\n",
        "    print(line, end='')\n",
        "file.close()"
      ],
      "execution_count": null,
      "outputs": [
        {
          "output_type": "stream",
          "name": "stdout",
          "text": [
            "5 + 0 = 5\n",
            "5 + 1 = 6\n",
            "5 + 2 = 7\n",
            "5 + 3 = 8\n",
            "5 + 4 = 9\n",
            "5 + 5 = 10\n",
            "5 + 6 = 11\n",
            "5 + 7 = 12\n"
          ]
        }
      ]
    },
    {
      "cell_type": "markdown",
      "metadata": {
        "id": "jD7muj_DHZ_g"
      },
      "source": [
        "## **12.6. with문으로 파일 쓰고 읽기**"
      ]
    },
    {
      "cell_type": "markdown",
      "metadata": {
        "id": "jt3TzagNJI_R"
      },
      "source": [
        "with문은 위에서 하나씩 지정했던 읽고 닫는 과정을 스스로 처리합니다. 따로 `close()` 함수를 지정할 필요가 없습니다.\n",
        "\n",
        "코드 형식은 아래와 같습니다.\n",
        "\n",
        "```\n",
        "with open('파일명', '파일열기속성') as f\n",
        "```\n",
        "\n",
        "파일에 데이터를 쓸 경우의 형식은 아래와 같습니다.\n",
        "\n",
        "```\n",
        "with open('파일명', '파일열기속성') as f:\n",
        "    f.write(데이터)\n",
        "```\n",
        "\n",
        "\n"
      ]
    },
    {
      "cell_type": "markdown",
      "metadata": {
        "id": "f8S05_v2NFqA"
      },
      "source": [
        "파일을 읽는 경우의 형식은 아래와 같습니다.\n",
        "\n",
        "```\n",
        "with open('파일명', '파일열기속성') as f:\n",
        "    file_data = f.read()\n",
        "```"
      ]
    },
    {
      "cell_type": "markdown",
      "metadata": {
        "id": "9IXpPkP-NeUF"
      },
      "source": [
        "with문을 사용하는 예시입니다. 먼저 파일을 생성해서 텍스트를 추가하겠습니다."
      ]
    },
    {
      "cell_type": "code",
      "metadata": {
        "id": "cnw6flNRNl1o"
      },
      "source": [
        "with open('test2.txt', 'w') as f:\n",
        "    f.write(\"Ok. It's 'with' power.\\n\")\n",
        "    f.write(\"So powerful 'with'.\\n\")"
      ],
      "execution_count": null,
      "outputs": []
    },
    {
      "cell_type": "markdown",
      "metadata": {
        "id": "-C2qlNF-Oc1T"
      },
      "source": [
        "생성한 텍스트 파일을 읽겠습니다."
      ]
    },
    {
      "cell_type": "code",
      "metadata": {
        "colab": {
          "base_uri": "https://localhost:8080/"
        },
        "id": "elod2iXPOiZ0",
        "outputId": "cdbf7c70-c9bb-4803-f54d-9b6d1f29a198"
      },
      "source": [
        "with open('test2.txt') as f:\n",
        "    with_power = f.read()\n",
        "    print(with_power)"
      ],
      "execution_count": null,
      "outputs": [
        {
          "output_type": "stream",
          "name": "stdout",
          "text": [
            "Ok. It's 'with' power.\n",
            "So powerful 'with'.\n",
            "\n"
          ]
        }
      ]
    },
    {
      "cell_type": "markdown",
      "metadata": {
        "id": "LVuu3aUkOyLv"
      },
      "source": [
        "with문과 반복문을 함께 사용하겠습니다. 이번에는 빼기 연산을 반복하는 파일을 만듭니다."
      ]
    },
    {
      "cell_type": "code",
      "metadata": {
        "id": "LYU71UQ3O8FU"
      },
      "source": [
        "with open('with_subtract4.txt', 'w') as f:\n",
        "    for i in range(12):\n",
        "        subtract4 = '4 - {} = {}\\n'.format(i, 4 - i)\n",
        "        f.write(subtract4)"
      ],
      "execution_count": null,
      "outputs": []
    },
    {
      "cell_type": "markdown",
      "metadata": {
        "id": "NkTQcGY_P_-n"
      },
      "source": [
        "생성한 파일을 읽습니다. 위에서처럼 빈 문자열은 읽지 않습니다."
      ]
    },
    {
      "cell_type": "code",
      "metadata": {
        "colab": {
          "base_uri": "https://localhost:8080/"
        },
        "id": "_0-jfvaiQHGk",
        "outputId": "6c178dec-f2ca-43a3-8348-76bebfd92b1c"
      },
      "source": [
        "with open('with_subtract4.txt') as f:\n",
        "    for line in f:\n",
        "        print(line, end='')"
      ],
      "execution_count": null,
      "outputs": [
        {
          "output_type": "stream",
          "name": "stdout",
          "text": [
            "4 - 0 = 4\n",
            "4 - 1 = 3\n",
            "4 - 2 = 2\n",
            "4 - 3 = 1\n",
            "4 - 4 = 0\n",
            "4 - 5 = -1\n",
            "4 - 6 = -2\n",
            "4 - 7 = -3\n",
            "4 - 8 = -4\n",
            "4 - 9 = -5\n",
            "4 - 10 = -6\n",
            "4 - 11 = -7\n"
          ]
        }
      ]
    },
    {
      "cell_type": "markdown",
      "metadata": {
        "id": "7yX_yLRAQpFS"
      },
      "source": [
        "# **13. 텍스트 파일 다루기**"
      ]
    },
    {
      "cell_type": "markdown",
      "metadata": {
        "id": "SNZJI6azKmBa"
      },
      "source": [
        "먼저 텍스트 파일을 생성하여 구글 드라이브의 폴더에 저장하겠습니다."
      ]
    },
    {
      "cell_type": "code",
      "metadata": {
        "id": "UKxhct1QKqH_"
      },
      "source": [
        "with open('fruits_sales.txt', 'w') as f:\n",
        "    f.write(\"date  banana  apple  grape  strawberry\\n\")\n",
        "    f.write(\"9.26.   16     32     11        62\\n\")\n",
        "    f.write(\"9.27.   18     22     36        9\\n\")\n",
        "    f.write(\"9.28.   12     31     28        53\\n\")\n",
        "    f.write(\"9.29.   54     23     21        8\\n\")"
      ],
      "execution_count": null,
      "outputs": []
    },
    {
      "cell_type": "markdown",
      "metadata": {
        "id": "-dZjBzOtOMW2"
      },
      "source": [
        "저장한 텍스트 파일을 읽습니다."
      ]
    },
    {
      "cell_type": "code",
      "metadata": {
        "colab": {
          "base_uri": "https://localhost:8080/"
        },
        "id": "yXBnp4F9L8u2",
        "outputId": "971b8790-a23a-413a-f628-cecb79af60c4"
      },
      "source": [
        "with open('fruits_sales.txt') as f:\n",
        "    fruits_sales = f.read()\n",
        "    print(fruits_sales)"
      ],
      "execution_count": null,
      "outputs": [
        {
          "output_type": "stream",
          "name": "stdout",
          "text": [
            "date  banana  apple  grape  strawberry\n",
            "9.26.   16     32     11        62\n",
            "9.27.   18     22     36        9\n",
            "9.28.   12     31     28        53\n",
            "9.29.   54     23     21        8\n",
            "\n"
          ]
        }
      ]
    },
    {
      "cell_type": "markdown",
      "metadata": {
        "id": "nVDVP3lhOpej"
      },
      "source": [
        "텍스트 파일의 첫 줄을 읽습니다."
      ]
    },
    {
      "cell_type": "code",
      "metadata": {
        "colab": {
          "base_uri": "https://localhost:8080/"
        },
        "id": "kBdIROmW9XMD",
        "outputId": "6d24f274-d0ba-40bc-bd21-42c230c2e06f"
      },
      "source": [
        "with open('fruits_sales.txt') as f:\n",
        "    fruits_sales_line1 = f.readline()\n",
        "    print(fruits_sales_line1)"
      ],
      "execution_count": null,
      "outputs": [
        {
          "output_type": "stream",
          "name": "stdout",
          "text": [
            "date  banana  apple  grape  strawberry\n",
            "\n"
          ]
        }
      ]
    },
    {
      "cell_type": "markdown",
      "metadata": {
        "id": "O0A_1StQ9hD4"
      },
      "source": [
        "공백과 개행열을 제거하고 리스트로 만듭니다."
      ]
    },
    {
      "cell_type": "code",
      "metadata": {
        "colab": {
          "base_uri": "https://localhost:8080/"
        },
        "id": "YIZvQrBZ9nJD",
        "outputId": "6cbd9c0a-a953-4424-ae4c-38b4ce3cf855"
      },
      "source": [
        "print(fruits_sales_line1.split())"
      ],
      "execution_count": null,
      "outputs": [
        {
          "output_type": "stream",
          "name": "stdout",
          "text": [
            "['date', 'banana', 'apple', 'grape', 'strawberry']\n"
          ]
        }
      ]
    },
    {
      "cell_type": "markdown",
      "metadata": {
        "id": "Q5WZAHAn-JEh"
      },
      "source": [
        "for문을 사용해서 두 번째 줄부터 마지막 줄까지 첫 줄처럼 리스트로 출력하겠습니다. 먼저 첫 줄을 떼서 변수에 넘기는 작업이 선행되어야 합니다. 그리고나서 두 번째 줄부터 마지막 줄까지 for문으로 한 줄씩 출력합니다."
      ]
    },
    {
      "cell_type": "code",
      "metadata": {
        "colab": {
          "base_uri": "https://localhost:8080/"
        },
        "id": "BEOuB9Tl-PVb",
        "outputId": "44a87521-40f6-4ee3-fd56-8210d49eeb83"
      },
      "source": [
        "with open('fruits_sales.txt') as f:\n",
        "    fruits_sales_line1 = f.readline()\n",
        "    fruits_sales_line1.split()\n",
        "    for line in f:\n",
        "        fruits_line_list = line.split()\n",
        "        print(fruits_line_list)"
      ],
      "execution_count": null,
      "outputs": [
        {
          "output_type": "stream",
          "name": "stdout",
          "text": [
            "['9.26.', '16', '32', '11', '62']\n",
            "['9.27.', '18', '22', '36', '9']\n",
            "['9.28.', '12', '31', '28', '53']\n",
            "['9.29.', '54', '23', '21', '8']\n"
          ]
        }
      ]
    },
    {
      "cell_type": "markdown",
      "metadata": {
        "id": "rdpmKDKGw20i"
      },
      "source": [
        "리스트로 출력하는 것뿐만 아니라 새로 생성한 리스트에 원소들을 저장하겠습니다. 원소들은 숫자로 입력된 상태지만 형식은 문자열(string)입니다. 데이터 분석을 위해서는 `int()` 함수를 사용하여 숫자로 변환해야 합니다.\n",
        "\n",
        "아래 코드로 전체적인 과정을 정리하고 내용을 추가하겠습니다."
      ]
    },
    {
      "cell_type": "code",
      "metadata": {
        "colab": {
          "base_uri": "https://localhost:8080/"
        },
        "id": "in60y-PFxja-",
        "outputId": "27e8b4ef-b781-431f-f199-1bb963eef92c"
      },
      "source": [
        "with open('fruits_sales.txt') as f:\n",
        "    fruits_sales_line1 = f.readline()\n",
        "    fruits_sales_line1_split = fruits_sales_line1.split()\n",
        "\n",
        "    date = []\n",
        "    banana = []\n",
        "    apple = []\n",
        "    grape = []\n",
        "    strawberry = []\n",
        "\n",
        "    for line in f:\n",
        "        fruits_sales_list = line.split()\n",
        "        date.append(fruits_sales_list[0])\n",
        "        banana.append(int(fruits_sales_list[1]))\n",
        "        apple.append(int(fruits_sales_list[2]))\n",
        "        grape.append(int(fruits_sales_list[3]))\n",
        "        strawberry.append(int(fruits_sales_list[4]))\n",
        "\n",
        "    print('첫 줄:', fruits_sales_line1_split)\n",
        "    print('판매일자: {}'.format(date))\n",
        "    print('{} 판매량: {}'.format(fruits_sales_line1_split[1], banana))\n",
        "    print('{} 판매량: {}'.format(fruits_sales_line1_split[2], apple))\n",
        "    print('{} 판매량: {}'.format(fruits_sales_line1_split[3], grape))\n",
        "    print('{} 판매량: {}'.format(fruits_sales_line1_split[4], strawberry))"
      ],
      "execution_count": null,
      "outputs": [
        {
          "output_type": "stream",
          "name": "stdout",
          "text": [
            "첫 줄: ['date', 'banana', 'apple', 'grape', 'strawberry']\n",
            "판매일자: ['9.26.', '9.27.', '9.28.', '9.29.']\n",
            "banana 판매량: [16, 18, 12, 54]\n",
            "apple 판매량: [32, 22, 31, 23]\n",
            "grape 판매량: [11, 36, 28, 21]\n",
            "strawberry 판매량: [62, 9, 53, 8]\n"
          ]
        }
      ]
    },
    {
      "cell_type": "markdown",
      "metadata": {
        "id": "EhGcr52m17c1"
      },
      "source": [
        "위의 변수들을 토대로 총 판매량과 평균 판매량을 구하겠습니다. 평균을 구하는 다양한 방법은 [링크](https://blockdmask.tistory.com/559)를 참고하시기 바랍니다."
      ]
    },
    {
      "cell_type": "code",
      "metadata": {
        "colab": {
          "base_uri": "https://localhost:8080/"
        },
        "id": "05VEqD3q2PRB",
        "outputId": "5558f73e-e813-46b8-a679-a766a66946b7"
      },
      "source": [
        "banana_sum = sum(banana)\n",
        "apple_sum = sum(apple)\n",
        "grape_sum = sum(grape)\n",
        "strawberry_sum = sum(strawberry)\n",
        "sum_list = [banana_sum, apple_sum, grape_sum, strawberry_sum]\n",
        "\n",
        "banana_mean = banana_sum/len(banana)\n",
        "apple_mean = apple_sum/len(apple)\n",
        "grape_mean = grape_sum/len(grape)\n",
        "strawberry_mean = strawberry_sum/len(strawberry)\n",
        "mean_list = [banana_mean, apple_mean, grape_mean, strawberry_mean]\n",
        "\n",
        "for i in range(len(sum_list)):\n",
        "    print('{} 총 판매량: {}개\\n      평균 판매량: {}개'.format(fruits_sales_line1_split[i+1],\n",
        "                                                    sum_list[i], int(mean_list[i])))"
      ],
      "execution_count": null,
      "outputs": [
        {
          "output_type": "stream",
          "name": "stdout",
          "text": [
            "banana 총 판매량: 100개\n",
            "      평균 판매량: 25개\n",
            "apple 총 판매량: 108개\n",
            "      평균 판매량: 27개\n",
            "grape 총 판매량: 96개\n",
            "      평균 판매량: 24개\n",
            "strawberry 총 판매량: 132개\n",
            "      평균 판매량: 33개\n"
          ]
        }
      ]
    },
    {
      "cell_type": "markdown",
      "metadata": {
        "id": "nid0k9usGCDX"
      },
      "source": [
        "코드를 아래처럼 더 짧게 작성할 수도 있습니다."
      ]
    },
    {
      "cell_type": "code",
      "metadata": {
        "id": "YuH6rGXCGAFK",
        "colab": {
          "base_uri": "https://localhost:8080/"
        },
        "outputId": "8ca4c66d-f7c3-4173-f714-3adb73ce3b7d"
      },
      "source": [
        "fruits_list = [banana, apple, grape, strawberry]\n",
        "\n",
        "for i in range(len(fruits_sales_line1_split)-1):\n",
        "    print('{} 총 판매량: {}개\\n      평균 판매량: {}개'.format(fruits_sales_line1_split[i+1],\n",
        "                                                    sum(fruits_list[i]), int(sum(fruits_list[i])/len(fruits_list[i]))))"
      ],
      "execution_count": null,
      "outputs": [
        {
          "output_type": "stream",
          "name": "stdout",
          "text": [
            "banana 총 판매량: 100개\n",
            "      평균 판매량: 25개\n",
            "apple 총 판매량: 108개\n",
            "      평균 판매량: 27개\n",
            "grape 총 판매량: 96개\n",
            "      평균 판매량: 24개\n",
            "strawberry 총 판매량: 132개\n",
            "      평균 판매량: 33개\n"
          ]
        }
      ]
    },
    {
      "cell_type": "markdown",
      "metadata": {
        "id": "mvgBFseLY1GE"
      },
      "source": [
        "# **14. 함수**"
      ]
    },
    {
      "cell_type": "markdown",
      "metadata": {
        "id": "zcHdi-c0cv15"
      },
      "source": [
        "## **14.1. 전역 변수와 지역 변수**"
      ]
    },
    {
      "cell_type": "markdown",
      "metadata": {
        "id": "-6JZ51-vc4TF"
      },
      "source": [
        "전역 변수(global variable)는 전체 코드에서 사용할 수 있는 코드이고, 지역 변수(local variable)는 함수가 호출될 때만 사용할 수 있는 코드입니다.\n",
        "\n",
        "아래 코드로 설명합니다."
      ]
    },
    {
      "cell_type": "code",
      "metadata": {
        "id": "DqN3XuOydZ7f"
      },
      "source": [
        "# 전역 변수입니다 .\n",
        "a = 11\n",
        "\n",
        "def function1():\n",
        "    # 지역 변수입니다. function1() 함수에만 적용되는 변수입니다.\n",
        "    a = 55\n",
        "    # format 대신 f로도 표현할 수 있습니다.\n",
        "    print(f'`function1` 함수의 지역 변수는 a = {a}입니다.')\n",
        "\n",
        "def function2():\n",
        "    # 지역 변수를 지정하지 않으면 전역 변수가 적용됩니다.\n",
        "    print(f'`function2` 함수의 전역 변수는 a = {a}입니다.')\n",
        "\n",
        "# 이 함수를 호출하면 전역 변수가 변경됩니다.\n",
        "def function3():\n",
        "    # 기존에 지정된 전역 변수를 `global 전역변수명`으로 선언해서 변경합니다.\n",
        "    global a\n",
        "    a = 77\n",
        "    print(f'`function3` 함수의 전역 변수는 a = {a}입니다.')"
      ],
      "execution_count": null,
      "outputs": []
    },
    {
      "cell_type": "code",
      "metadata": {
        "id": "YMdSf3DGFEn_",
        "colab": {
          "base_uri": "https://localhost:8080/"
        },
        "outputId": "7279de17-fac1-4fb0-db42-045f573b04ab"
      },
      "source": [
        "function1()\n",
        "function2()\n",
        "print(f'전역 변수는 a = {a}')"
      ],
      "execution_count": null,
      "outputs": [
        {
          "output_type": "stream",
          "name": "stdout",
          "text": [
            "`function1` 함수의 지역 변수는 a = 55입니다.\n",
            "`function2` 함수의 전역 변수는 a = 11입니다.\n",
            "전역 변수는 a = 11\n"
          ]
        }
      ]
    },
    {
      "cell_type": "code",
      "metadata": {
        "id": "u3nzLeRSHPCI",
        "colab": {
          "base_uri": "https://localhost:8080/"
        },
        "outputId": "1451cb65-8202-41a6-c1c4-daf5e01dba3c"
      },
      "source": [
        "function3()\n",
        "print(f'`function3` 함수로 변경된 전역 변수는 a = {a}입니다.')\n",
        "function2()"
      ],
      "execution_count": null,
      "outputs": [
        {
          "output_type": "stream",
          "name": "stdout",
          "text": [
            "`function3` 함수의 전역 변수는 a = 77입니다.\n",
            "`function3` 함수로 변경된 전역 변수는 a = 77입니다.\n",
            "`function2` 함수의 전역 변수는 a = 77입니다.\n"
          ]
        }
      ]
    },
    {
      "cell_type": "markdown",
      "metadata": {
        "id": "WCxQrO7OIPgB"
      },
      "source": [
        "## **14.2. 람다 함수**"
      ]
    },
    {
      "cell_type": "markdown",
      "metadata": {
        "id": "qnUL-EedJUNG"
      },
      "source": [
        "람다(lambda) 함수는 한 줄로 구성된 함수입니다.\n",
        "\n",
        "기본 형식은 아래와 같습니다.\n",
        "\n",
        "`lambda 인자 = 함수식`\n",
        "\n",
        "이 형식에서 인자는 여러 개를 지정할 수 있습니다. 인자 구분은 쉼표(,)로 합니다.\n",
        "\n",
        "아래 코드들을 토대로 여러 사용 방식을 예시합니다."
      ]
    },
    {
      "cell_type": "code",
      "metadata": {
        "id": "hcE1po81IUUi",
        "colab": {
          "base_uri": "https://localhost:8080/"
        },
        "outputId": "1ae97925-c0d0-4eb3-8d65-a29a34f2f724"
      },
      "source": [
        "lambda x : x * 8 (2)"
      ],
      "execution_count": null,
      "outputs": [
        {
          "output_type": "execute_result",
          "data": {
            "text/plain": [
              "<function __main__.<lambda>>"
            ]
          },
          "metadata": {},
          "execution_count": 134
        }
      ]
    },
    {
      "cell_type": "markdown",
      "metadata": {
        "id": "in9gQ9tuL4dq"
      },
      "source": [
        "괄호로 묶으면 값이 출력됩니다."
      ]
    },
    {
      "cell_type": "code",
      "metadata": {
        "id": "NF8Iq91TL7Vn",
        "colab": {
          "base_uri": "https://localhost:8080/"
        },
        "outputId": "3876beae-8fdb-44f3-ff81-ffc1818cb47d"
      },
      "source": [
        "(lambda x : x * 8) (2)"
      ],
      "execution_count": null,
      "outputs": [
        {
          "output_type": "execute_result",
          "data": {
            "text/plain": [
              "16"
            ]
          },
          "metadata": {},
          "execution_count": 135
        }
      ]
    },
    {
      "cell_type": "markdown",
      "metadata": {
        "id": "-T7cPAnCL2n-"
      },
      "source": [
        "변수에 할당해서 사용할 수도 있습니다."
      ]
    },
    {
      "cell_type": "code",
      "metadata": {
        "id": "UMRRNR8LMFsX",
        "colab": {
          "base_uri": "https://localhost:8080/"
        },
        "outputId": "e5fa2144-f0d3-41ba-d0a3-8c2520757e30"
      },
      "source": [
        "lambda_times = lambda x : x * 8\n",
        "lambda_times(4)"
      ],
      "execution_count": null,
      "outputs": [
        {
          "output_type": "execute_result",
          "data": {
            "text/plain": [
              "32"
            ]
          },
          "metadata": {},
          "execution_count": 136
        }
      ]
    },
    {
      "cell_type": "markdown",
      "metadata": {
        "id": "dfoLwQfZMbzW"
      },
      "source": [
        "여러 인자를 활용할 수도 있습니다."
      ]
    },
    {
      "cell_type": "code",
      "metadata": {
        "id": "1IReXU4iMbXN",
        "colab": {
          "base_uri": "https://localhost:8080/"
        },
        "outputId": "8e2a5a3b-e769-4a8b-c63a-7cb7c782cfd6"
      },
      "source": [
        "lambda_tps = lambda x, y, z : x * y + z\n",
        "lambda_tps(5, 4, 5)"
      ],
      "execution_count": null,
      "outputs": [
        {
          "output_type": "execute_result",
          "data": {
            "text/plain": [
              "25"
            ]
          },
          "metadata": {},
          "execution_count": 137
        }
      ]
    },
    {
      "cell_type": "markdown",
      "metadata": {
        "id": "dtMDaLHgTCLI"
      },
      "source": [
        "## **14.3. bool 함수**"
      ]
    },
    {
      "cell_type": "markdown",
      "metadata": {
        "id": "Ph302usGRQMT"
      },
      "source": [
        "아래와 같은 조건에 따라 True와 False 중에 하나를 출력하는 함수입니다."
      ]
    },
    {
      "cell_type": "markdown",
      "metadata": {
        "id": "_ZoTSs3oTIk4"
      },
      "source": [
        "빈칸(None)이면 False를 출력합니다. 공백(' ')은 빈칸이 아니라 엄연히 문자열입니다."
      ]
    },
    {
      "cell_type": "code",
      "metadata": {
        "id": "571gbzo3UVuT",
        "colab": {
          "base_uri": "https://localhost:8080/"
        },
        "outputId": "c2857c38-9b49-440a-c60e-5ea3d7a9eb44"
      },
      "source": [
        "print(f\"`bool('')`는 빈칸이므로 {bool('')}입니다.\")\n",
        "print(f\"`bool(None)`는 빈칸이므로 {bool(None)}입니다.\")\n",
        "print(f\"`bool(' ')`는 공백이므로 {bool(' ')}입니다.\")"
      ],
      "execution_count": null,
      "outputs": [
        {
          "output_type": "stream",
          "name": "stdout",
          "text": [
            "`bool('')`는 빈칸이므로 False입니다.\n",
            "`bool(None)`는 빈칸이므로 False입니다.\n",
            "`bool(' ')`는 공백이므로 True입니다.\n"
          ]
        }
      ]
    },
    {
      "cell_type": "markdown",
      "metadata": {
        "id": "DbQxxDF8VeIZ"
      },
      "source": [
        "숫자가 0이면 False를 출력합니다."
      ]
    },
    {
      "cell_type": "code",
      "metadata": {
        "id": "R1cuPBjJVhoh",
        "colab": {
          "base_uri": "https://localhost:8080/"
        },
        "outputId": "a6a8588d-934d-48c1-da0b-2b13302e4eb0"
      },
      "source": [
        "print(f\"`bool(0)`는 0이므로 {bool(0)}입니다.\")"
      ],
      "execution_count": null,
      "outputs": [
        {
          "output_type": "stream",
          "name": "stdout",
          "text": [
            "`bool(0)`는 0이므로 False입니다.\n"
          ]
        }
      ]
    },
    {
      "cell_type": "markdown",
      "metadata": {
        "id": "fSwahL5nV4cL"
      },
      "source": [
        "리스트와 튜플, 세트를 변수로 할당하여 적용할 수 있습니다. 원소가 존재하면 True입니다.\n",
        "\n",
        "아래 코드는 원소가 없는 빈칸이므로 False를 출력합니다."
      ]
    },
    {
      "cell_type": "code",
      "metadata": {
        "id": "iYt_GgdZWCSf",
        "colab": {
          "base_uri": "https://localhost:8080/"
        },
        "outputId": "53d31e00-9a94-4d53-bc09-f05370eef1c2"
      },
      "source": [
        "a = []\n",
        "b = ()\n",
        "c = {}\n",
        "print(bool(a))\n",
        "print(bool(b))\n",
        "print(bool(c))"
      ],
      "execution_count": null,
      "outputs": [
        {
          "output_type": "stream",
          "name": "stdout",
          "text": [
            "False\n",
            "False\n",
            "False\n"
          ]
        }
      ]
    },
    {
      "cell_type": "markdown",
      "metadata": {
        "id": "DbESO1C9WZCC"
      },
      "source": [
        "리스트, 튜플, 세트에 여러 개의 원소를 가지면 0이나 빈칸을 포함하더라도 True를 출력합니다."
      ]
    },
    {
      "cell_type": "code",
      "metadata": {
        "id": "nx5J5-ZOWT6C",
        "colab": {
          "base_uri": "https://localhost:8080/"
        },
        "outputId": "feb6535b-9bf8-4dc3-c0d7-07a70219e369"
      },
      "source": [
        "a = [0, 1]\n",
        "b = ('', 1)\n",
        "print(bool(a))\n",
        "print(bool(b))"
      ],
      "execution_count": null,
      "outputs": [
        {
          "output_type": "stream",
          "name": "stdout",
          "text": [
            "True\n",
            "True\n"
          ]
        }
      ]
    },
    {
      "cell_type": "markdown",
      "metadata": {
        "id": "3IM5a9TrZOBR"
      },
      "source": [
        "`bool()` 함수를 사용한 간단한 예시입니다."
      ]
    },
    {
      "cell_type": "code",
      "metadata": {
        "id": "z6555DKUZSx3"
      },
      "source": [
        "def favorite_fruits(fruits):\n",
        "    # True인 경우에 수행합니다.\n",
        "    if bool(fruits):\n",
        "        print(f'좋아하는 과일은 {fruits}입니다.')\n",
        "    # False인 경우에 수행합니다.\n",
        "    else:\n",
        "        print('값을 입력하세요.')"
      ],
      "execution_count": null,
      "outputs": []
    },
    {
      "cell_type": "code",
      "metadata": {
        "id": "wAU-PVC1bhqU",
        "colab": {
          "base_uri": "https://localhost:8080/"
        },
        "outputId": "c187c4fc-c4ff-4bec-d3ea-0947edb30157"
      },
      "source": [
        "favorite_fruits('딸기')"
      ],
      "execution_count": null,
      "outputs": [
        {
          "output_type": "stream",
          "name": "stdout",
          "text": [
            "좋아하는 과일은 딸기입니다.\n"
          ]
        }
      ]
    },
    {
      "cell_type": "code",
      "metadata": {
        "id": "k2fosQsYbj9H",
        "colab": {
          "base_uri": "https://localhost:8080/"
        },
        "outputId": "5d957cb0-4db4-47cc-e35f-9939621a76cc"
      },
      "source": [
        "favorite_fruits('')"
      ],
      "execution_count": null,
      "outputs": [
        {
          "output_type": "stream",
          "name": "stdout",
          "text": [
            "값을 입력하세요.\n"
          ]
        }
      ]
    },
    {
      "cell_type": "markdown",
      "metadata": {
        "id": "P_ZuJm9jJ_MI"
      },
      "source": [
        "# **15. 클래스**"
      ]
    },
    {
      "cell_type": "markdown",
      "metadata": {
        "id": "qk4v7R6x8FER"
      },
      "source": [
        "클래스에 대한 개념은 위에서 정리한 개념들처럼 기초적인 내용은 제외했습니다. 주로 코드를 통해 예시하는 방식으로 설명할 예정입니다.\n",
        "\n",
        "코드를 예시하기 전에 몇 가지 필요한 내용을 목록으로 나열하겠습니다. 난해한 내용은 아닙니다.\n",
        "\n",
        "- **클래스**는 객체를 만들기 위한 기본 틀이고, **객체**는 이 틀을 바탕으로 생성된 결과물입니다. 종종 이 둘을 붕어빵 틀과 붕어빵으로 비유하곤 합니다. 이 붕어빵 틀에 팥이나 치즈나 피자를 넣으면 각각 팥붕어빵, 치즈붕어빵, 피자붕어빵이 됩니다. 객체에 포함된 변수에 값을 다르게 할당하면 객체의 속성이 달라지고, 각각 다른 속성을 가진 객체가 되는 것과 같은 이치입니다. 참고로 객체는 클래스의 인스턴스(instance)라고 부릅니다. instance의 의미는 경우, 예 등입니다. 클래스가 특정 객체를 만든 특정 경우나 예 정도로 생각할 수 있습니다.\n",
        "\n",
        "- 클래스명은 가독성을 추구하고자 로마자 알파벳 대문자로 시작합니다. 예를 들면 'Fruits', 'TestFruits' 같은 형태입니다. 물론 객체는 소문자로 이뤄집니다.\n",
        "\n",
        "- 코드 예시로 다시 설명하겠지만 클래스에서 정의한 함수에 처음 부여하는 인자는 `self`입니다. `self`는 객체를 생성하고 나서 객체 자신을 참조하는 데 사용하는 인자입니다. 함수 대부분에(기실 모든 함수에) `self` 인자를 부여합니다.\n",
        "\n",
        "- 함수와 메서드(method)는 종종 용어를 사용할 때 혼동을 일으키곤 합니다. 결론적으로 말하면 두 용어를 구분하지 않고 사용해도 괜찮습니다. 클래스에서 정의한 함수를 객체에 넘겨주고 사용할 때는 메서드(method)라고 합니다. 그러나 클래스에서 정의한 함수 자체를 메서드라고 부르기도 합니다. 따라서 메서드는 함수이고, 함수는 메서드입니다.\n",
        "\n",
        "- 클래스명은 캐멀케이스(CamelCase) 형식으로 짓습니다. 캐멀(Camel)은 낙타를 의미합니다. 예를 들면 `CamelCase`처럼 단어의 첫 글자를 대문자로 지정합니다."
      ]
    },
    {
      "cell_type": "markdown",
      "metadata": {
        "id": "tsFcRSlNTU6W"
      },
      "source": [
        "## **15.1. 클래스 및 객체 생성하기**"
      ]
    },
    {
      "cell_type": "markdown",
      "metadata": {
        "id": "jHCqldapDT-v"
      },
      "source": [
        "간단한 클래스를 생성해보겠습니다. 클래스는 헬기의 속도, 이동 방향, 멈춤, 재출발 함수를 가집니다.\n",
        "\n",
        "헬기 클래스에 몇 가지 함수를 포함시킵니다."
      ]
    },
    {
      "cell_type": "code",
      "metadata": {
        "id": "ism64IYZGWc8"
      },
      "source": [
        "class Helicopter():\n",
        "\n",
        "    def go(self, speed):\n",
        "        print(f'헬기는 {speed}Km/h로 비행합니다.')\n",
        "\n",
        "    def turn(self, direction):\n",
        "        print(f'헬기는 {direction} 방향으로 비행합니다.')\n",
        "\n",
        "    def stop(self):\n",
        "        print(f'{self.use} 용도인 {self.color}색 헬기는 비행하다가 멈춥니다.')\n",
        "\n",
        "    def restart(self):\n",
        "        print('멈췄던 헬기가 다시 이동합니다.')"
      ],
      "execution_count": null,
      "outputs": []
    },
    {
      "cell_type": "markdown",
      "metadata": {
        "id": "ZZMmnndhUMwj"
      },
      "source": [
        "클래스의 객체(인스턴스)를 생성하고, 생성한 객체에 속성값을 부여하겠습니다."
      ]
    },
    {
      "cell_type": "code",
      "metadata": {
        "id": "8rpWeo3MUNcE"
      },
      "source": [
        "# 클래스의 객체(인스턴스)를 생성합니다.\n",
        "# 클래스를 객체에 넘겨주는 방식을 취합니다.\n",
        "my_helicopter1 = Helicopter()\n",
        "# 객체에 속성값을 부여합니다. 'color'와 'use'는 위 클래스에서 지정한 변수입니다.\n",
        "# 이 변수들에 속성값을 부여하는 것입니다.\n",
        "my_helicopter1.color = 'dark green'\n",
        "my_helicopter1.use = 'battle'"
      ],
      "execution_count": null,
      "outputs": []
    },
    {
      "cell_type": "markdown",
      "metadata": {
        "id": "i5x5DobLJZaD"
      },
      "source": [
        "객체의 속성값을 확인하겠습니다. 속성값을 확인하는 방법은 `객체명.변수명`입니다."
      ]
    },
    {
      "cell_type": "code",
      "metadata": {
        "id": "i0zJF8uMNfkR",
        "colab": {
          "base_uri": "https://localhost:8080/"
        },
        "outputId": "8edabe00-63a5-4ded-b57d-73059f2272ce"
      },
      "source": [
        "print(f'my_helicopter1의 색상은 {my_helicopter1.color}입니다.')\n",
        "print(f'my_helicopter1의 용도는 {my_helicopter1.use}입니다.')"
      ],
      "execution_count": null,
      "outputs": [
        {
          "output_type": "stream",
          "name": "stdout",
          "text": [
            "my_helicopter1의 색상은 dark green입니다.\n",
            "my_helicopter1의 용도는 battle입니다.\n"
          ]
        }
      ]
    },
    {
      "cell_type": "markdown",
      "metadata": {
        "id": "YncLFNpKTf40"
      },
      "source": [
        "## **15.2. 메서드 호출하기**"
      ]
    },
    {
      "cell_type": "markdown",
      "metadata": {
        "id": "y-3etYk3OEEh"
      },
      "source": [
        "객체의 메서드를 호출하겠습니다. 메서드를 호출하는 방법은 `객체명.메서드명`입니다. 속성값을 확인하는 방법과 같습니다."
      ]
    },
    {
      "cell_type": "code",
      "metadata": {
        "id": "4WfuJR2uORvh",
        "colab": {
          "base_uri": "https://localhost:8080/"
        },
        "outputId": "1e160494-a1c2-4c28-e234-d352f06b88b5"
      },
      "source": [
        "my_helicopter1.go(100)\n",
        "my_helicopter1.turn('left')\n",
        "my_helicopter1.stop()\n",
        "my_helicopter1.restart()"
      ],
      "execution_count": null,
      "outputs": [
        {
          "output_type": "stream",
          "name": "stdout",
          "text": [
            "헬기는 100Km/h로 비행합니다.\n",
            "헬기는 left 방향으로 비행합니다.\n",
            "battle 용도인 dark green색 헬기는 비행하다가 멈춥니다.\n",
            "멈췄던 헬기가 다시 이동합니다.\n"
          ]
        }
      ]
    },
    {
      "cell_type": "markdown",
      "metadata": {
        "id": "7sbE9gzrRKXp"
      },
      "source": [
        "다른 객체를 생성해서 적용하겠습니다."
      ]
    },
    {
      "cell_type": "code",
      "metadata": {
        "id": "bz5w418tRPez",
        "colab": {
          "base_uri": "https://localhost:8080/"
        },
        "outputId": "ef5aa7b3-f794-4458-f1f9-e7c0e9d2204b"
      },
      "source": [
        "my_helicopter2 = Helicopter()\n",
        "my_helicopter2.color = 'blue'\n",
        "my_helicopter2.use = 'travel'\n",
        "\n",
        "my_helicopter2.go(90)\n",
        "my_helicopter2.turn('straight')\n",
        "my_helicopter2.stop()\n",
        "my_helicopter2.restart()"
      ],
      "execution_count": null,
      "outputs": [
        {
          "output_type": "stream",
          "name": "stdout",
          "text": [
            "헬기는 90Km/h로 비행합니다.\n",
            "헬기는 straight 방향으로 비행합니다.\n",
            "travel 용도인 blue색 헬기는 비행하다가 멈춥니다.\n",
            "멈췄던 헬기가 다시 이동합니다.\n"
          ]
        }
      ]
    },
    {
      "cell_type": "markdown",
      "metadata": {
        "id": "TzsSffM2VOwD"
      },
      "source": [
        "## **15.3. 객체 초기화하기**"
      ]
    },
    {
      "cell_type": "markdown",
      "metadata": {
        "id": "IG4He5FZVwu3"
      },
      "source": [
        "위에서 객체에 속성값을 부여하는 과정은 아래와 같았습니다.\n",
        "```\n",
        "my_helicopter2 = Helicopter()\n",
        "my_helicopter2.color = 'blue'\n",
        "my_helicopter2.use = 'travel'\n",
        "```\n",
        "여기에서 아래 코드처럼 속성값을 더 간략하게 부여할 수 있는 방법이 있습니다.\n",
        "```\n",
        "my_helicopter2 = Helicopter('blue', 'travel')\n",
        "```\n",
        "클래스의 변수인 `color`와 `use`에 입력한 속성값을 그대로 전달합니다. 한 줄에 객체명과 속성값만 바꾸는 방식입니다.\n",
        "\n",
        "다만 이 방식을 사용하려면 클래스를 선언할 때 초기화 함수인 `__init__`을 구현해야 합니다. 이 함수는 객체가 생성될 때 자동으로 실행됩니다."
      ]
    },
    {
      "cell_type": "markdown",
      "metadata": {
        "id": "1rVnOmwFXlX0"
      },
      "source": [
        "기존 헬기 클래스 코드에 `__init__` 함수를 포함시키겠습니다."
      ]
    },
    {
      "cell_type": "code",
      "metadata": {
        "id": "hXdC6MPhXmY3"
      },
      "source": [
        "class Helicopter():\n",
        "\n",
        "    def __init__(self, color, use):\n",
        "        self.color = color\n",
        "        self.use = use\n",
        "\n",
        "    def go(self, speed):\n",
        "        print(f'헬기는 {speed}Km/h로 비행합니다.')\n",
        "\n",
        "    def turn(self, direction):\n",
        "        print(f'헬기는 {direction} 방향으로 비행합니다.')\n",
        "\n",
        "    def stop(self):\n",
        "        print(f'{self.use} 용도인 {self.color}색 헬기는 비행하다가 멈춥니다.')\n",
        "\n",
        "    def restart(self):\n",
        "        print('멈췄던 헬기가 다시 이동합니다.')"
      ],
      "execution_count": null,
      "outputs": []
    },
    {
      "cell_type": "markdown",
      "metadata": {
        "id": "pUiMDgR1Y9s6"
      },
      "source": [
        "새로운 객체를 생성해서 적용하겠습니다."
      ]
    },
    {
      "cell_type": "code",
      "metadata": {
        "id": "ncGiTATgZBH0",
        "colab": {
          "base_uri": "https://localhost:8080/"
        },
        "outputId": "76b66655-5baa-43d4-83df-5988704af7ac"
      },
      "source": [
        "my_helicopter3 = Helicopter('White', 'Emergency services')\n",
        "print(f'my_helicopter3의 색상은 {my_helicopter3.color}입니다.')\n",
        "print(f'my_helicopter3의 용도는 {my_helicopter3.use}입니다.')\n",
        "\n",
        "my_helicopter3.go(110)\n",
        "my_helicopter3.turn('right')\n",
        "my_helicopter3.stop()\n",
        "my_helicopter3.restart()"
      ],
      "execution_count": null,
      "outputs": [
        {
          "output_type": "stream",
          "name": "stdout",
          "text": [
            "my_helicopter3의 색상은 White입니다.\n",
            "my_helicopter3의 용도는 Emergency services입니다.\n",
            "헬기는 110Km/h로 비행합니다.\n",
            "헬기는 right 방향으로 비행합니다.\n",
            "Emergency services 용도인 White색 헬기는 비행하다가 멈춥니다.\n",
            "멈췄던 헬기가 다시 이동합니다.\n"
          ]
        }
      ]
    },
    {
      "cell_type": "markdown",
      "metadata": {
        "id": "kocmRm17dYQf"
      },
      "source": [
        "## **15.4. 각종 변수**"
      ]
    },
    {
      "cell_type": "markdown",
      "metadata": {
        "id": "nJ4XsPbOfILc"
      },
      "source": [
        "클래스의 변수는 위치에 따라 기능과 용도가 다릅니다."
      ]
    },
    {
      "cell_type": "markdown",
      "metadata": {
        "id": "H0dST2DLeK7T"
      },
      "source": [
        "### **15.4.1. 클래스 변수**"
      ]
    },
    {
      "cell_type": "markdown",
      "metadata": {
        "id": "tI2EzZmUlFwW"
      },
      "source": [
        "**클래스 변수(class variable)**는 클래스 내에서 함수 바깥에 위치한 변수입니다. 모든 인스턴스가 사용할 수 있는 변수입니다.\n",
        "\n",
        "아래에서 코드로 예시하겠습니다."
      ]
    },
    {
      "cell_type": "code",
      "metadata": {
        "id": "7-0SQJEJgCXa"
      },
      "source": [
        "class Helicopter():\n",
        "\n",
        "    # 클래스 변수를 생성합니다. 함수 바깥에 위치합니다.\n",
        "    helicopter_count = 0\n",
        "\n",
        "    def __init__(self, color, use):\n",
        "        self.color = color\n",
        "        self.use = use\n",
        "        # 클래스 변수를 사용하여 1을 더해 나갑니다.\n",
        "        # 반드시 `클래스명.변수명`으로 지정해야 합니다.\n",
        "        Helicopter.helicopter_count = Helicopter.helicopter_count + 1\n",
        "\n",
        "    def go(self, speed):\n",
        "        print(f'헬기는 {speed}Km/h로 비행합니다.')\n",
        "\n",
        "    def turn(self, direction):\n",
        "        print(f'헬기는 {direction} 방향으로 비행합니다.')\n",
        "\n",
        "    def stop(self):\n",
        "        print(f'{self.use} 용도인 {self.color}색 헬기는 비행하다가 멈춥니다.')\n",
        "\n",
        "    def restart(self):\n",
        "        print('멈췄던 헬기가 다시 이동합니다.')"
      ],
      "execution_count": null,
      "outputs": []
    },
    {
      "cell_type": "markdown",
      "metadata": {
        "id": "HI3zDG9jg-Gj"
      },
      "source": [
        "헬기 객체 두 대를 더 생성하겠습니다. 그리고 클래스 변수로 추가한 헬기 대수를 확인하겠습니다."
      ]
    },
    {
      "cell_type": "code",
      "metadata": {
        "id": "YGbngGc1hD5C",
        "colab": {
          "base_uri": "https://localhost:8080/"
        },
        "outputId": "ed9dc4b9-a28f-4daf-b123-d015f988a6c0"
      },
      "source": [
        "my_helicopter4 = Helicopter('red', 'firefighting')\n",
        "print(f'보유한 헬기 대수는 {my_helicopter4.helicopter_count}입니다.')"
      ],
      "execution_count": null,
      "outputs": [
        {
          "output_type": "stream",
          "name": "stdout",
          "text": [
            "보유한 헬기 대수는 1입니다.\n"
          ]
        }
      ]
    },
    {
      "cell_type": "code",
      "metadata": {
        "id": "TTLV62z-jOVA",
        "colab": {
          "base_uri": "https://localhost:8080/"
        },
        "outputId": "8db234f4-bc1a-4fdc-c42a-e999cbcb096d"
      },
      "source": [
        "my_helicopter5 = Helicopter('green', 'environment management')\n",
        "print(f'보유한 헬기 대수는 {my_helicopter5.helicopter_count}입니다.')"
      ],
      "execution_count": null,
      "outputs": [
        {
          "output_type": "stream",
          "name": "stdout",
          "text": [
            "보유한 헬기 대수는 2입니다.\n"
          ]
        }
      ]
    },
    {
      "cell_type": "markdown",
      "metadata": {
        "id": "sANWx7ZmeOHU"
      },
      "source": [
        "### **15.4.2. 인스턴스 변수**"
      ]
    },
    {
      "cell_type": "markdown",
      "metadata": {
        "id": "PbYgXrx1lDAb"
      },
      "source": [
        "**인스턴스 변수(instance variable)**는 클래스 내에서 함수 안에 위치한 변수입니다. 클래스 변수와 인스턴스 변수는 별개로 사용됩니다. 아울러 생성한 객체에 해당되는 속성값만 가집니다.\n",
        "\n",
        "아래 코드에서 인스턴스 변수를 표시하겠습니다. 상세한 설명은 생략합니다."
      ]
    },
    {
      "cell_type": "code",
      "metadata": {
        "id": "bpf7yAhxk51c"
      },
      "source": [
        "class Helicopter():\n",
        "\n",
        "    # 클래스 변수입니다.\n",
        "    helicopter_count = 0\n",
        "\n",
        "    # 인스턴스 변수인 `color`와 `use`입니다.\n",
        "    # 객체를 생성하면 지정한 속성값은 초기화됩니다.\n",
        "    def __init__(self, color, use):\n",
        "        self.color = color\n",
        "        self.use = use\n",
        "        Helicopter.helicopter_count = Helicopter.helicopter_count + 1\n",
        "\n",
        "    def go(self, speed):\n",
        "        print(f'헬기는 {speed}Km/h로 비행합니다.')\n",
        "\n",
        "    def turn(self, direction):\n",
        "        print(f'헬기는 {direction} 방향으로 비행합니다.')\n",
        "\n",
        "    def stop(self):\n",
        "        print(f'{self.use} 용도인 {self.color}색 헬기는 비행하다가 멈춥니다.')\n",
        "\n",
        "    def restart(self):\n",
        "        print('멈췄던 헬기가 다시 이동합니다.')"
      ],
      "execution_count": null,
      "outputs": []
    },
    {
      "cell_type": "markdown",
      "metadata": {
        "id": "VN1qhhNqd85R"
      },
      "source": [
        "## **15.5. 각종 메서드**"
      ]
    },
    {
      "cell_type": "markdown",
      "metadata": {
        "id": "rhq96UJtCo4R"
      },
      "source": [
        "메서드는 세 가지 종류입니다. 아래 파트에서 코드로 설명합니다."
      ]
    },
    {
      "cell_type": "markdown",
      "metadata": {
        "id": "hF6jKj-VeXca"
      },
      "source": [
        "### **15.5.1. 인스턴스 메서드**"
      ]
    },
    {
      "cell_type": "markdown",
      "metadata": {
        "id": "Z3O4pLb5CvqN"
      },
      "source": [
        "**인스턴스 메서드(instance method)**는 위에서 생성한 클래스에 속해있는 모든 메서드입니다. 객체가 개별적으로 호출하는 함수입니다.\n",
        "\n",
        "추가로 `execution_of_duty`라는 인스턴스 메서드를 기존에 지정한 인스턴스 변수와 인스턴스 메서드와 접목하여 생성하겠습니다.\n",
        "\n",
        "아래 코드에서 주석으로 설명합니다."
      ]
    },
    {
      "cell_type": "code",
      "metadata": {
        "id": "YU1IyjeYDCsY"
      },
      "source": [
        "class Helicopter():\n",
        "\n",
        "    helicopter_count = 0\n",
        "\n",
        "    # 인스턴스 메서드입니다. 초기화 함수도 인스턴스 메서드입니다.\n",
        "    def __init__(self, color, use):\n",
        "        self.color = color\n",
        "        self.use = use\n",
        "        Helicopter.helicopter_count = Helicopter.helicopter_count + 1\n",
        "    # 인스턴스 메서드입니다.\n",
        "    def go(self, speed):\n",
        "        # 새로 생성할 인스턴스 메서드에서 사용할 인스턴스 변수를 생성합니다.\n",
        "        self.speed = speed\n",
        "        print(f'헬기는 {speed}Km/h로 비행합니다.')\n",
        "    # 인스턴스 메서드입니다.\n",
        "    def turn(self, direction):\n",
        "        print(f'헬기는 {direction} 방향으로 비행합니다.')\n",
        "    # 인스턴스 메서드입니다.\n",
        "    def stop(self):\n",
        "        print(f'{self.use} 용도인 {self.color}색 헬기는 비행하다가 멈춥니다.')\n",
        "    # 인스턴스 메서드입니다.\n",
        "    def restart(self):\n",
        "        print('멈췄던 헬기가 다시 이동합니다.')\n",
        "\n",
        "    # 새로운 인스턴스 메서드를 생성합니다.\n",
        "    def execution_of_duty(self):\n",
        "        print(f'{self.use} 임무 수행을 시작합니다.')\n",
        "        # 인스턴스 메서드 안에 기존에 지정한 인스턴스 메서드를 포함시킵니다.\n",
        "        self.go(self.speed)\n",
        "        self.stop()\n",
        "        self.restart()"
      ],
      "execution_count": null,
      "outputs": []
    },
    {
      "cell_type": "code",
      "metadata": {
        "id": "IbluCyEHOCIp",
        "colab": {
          "base_uri": "https://localhost:8080/"
        },
        "outputId": "1968441e-25f4-44bf-af1a-9d4428b5bd42"
      },
      "source": [
        "my_helicopter6 = Helicopter('yellow', 'business')\n",
        "my_helicopter6.go(90)\n",
        "my_helicopter6.execution_of_duty()"
      ],
      "execution_count": null,
      "outputs": [
        {
          "output_type": "stream",
          "name": "stdout",
          "text": [
            "헬기는 90Km/h로 비행합니다.\n",
            "business 임무 수행을 시작합니다.\n",
            "헬기는 90Km/h로 비행합니다.\n",
            "business 용도인 yellow색 헬기는 비행하다가 멈춥니다.\n",
            "멈췄던 헬기가 다시 이동합니다.\n"
          ]
        }
      ]
    },
    {
      "cell_type": "markdown",
      "metadata": {
        "id": "3NpyKZrBWB1v"
      },
      "source": [
        "새로 생성한 인스턴스 메서드를 호출했더니 기존 인스턴스 메서드들도 함께 호출됐습니다."
      ]
    },
    {
      "cell_type": "markdown",
      "metadata": {
        "id": "Ei1LBqBieavz"
      },
      "source": [
        "### **15.5.2. 정적 메서드**"
      ]
    },
    {
      "cell_type": "markdown",
      "metadata": {
        "id": "sxvusdEqWQM0"
      },
      "source": [
        "**정적 메서드(static method)**는 클래스와 객체와 전혀 무관하게 작동하는 메서드입니다. 'static'은 '고정된, 정지 상태의'를 의미합니다. 즉 클래스 안에서 독립적으로 고정된 상태로 생각할 수 있습니다.\n",
        "\n",
        "정적 메서드에는 몇 가지 특징이 있습니다. 클래스 안에 위치하지만 `self` 인자를 사용하지 않습니다. 아울러 정적 메서드 구역에서는 인스턴스 메서드와 인스턴스 변수에 접근할 수 없습니다.\n",
        "\n",
        "정적 메서드를 선언하려면 **데코레이터(Decorator)**인 `@staticmethod`를 함수 위에 지정합니다. \n",
        "\n",
        "아래 코드로 예시합니다."
      ]
    },
    {
      "cell_type": "code",
      "metadata": {
        "id": "Lf6TEuNraGYX"
      },
      "source": [
        "class Helicopter():\n",
        "\n",
        "    helicopter_count = 0\n",
        "\n",
        "    # 정적 메서드를 지정합니다. `self` 인자는 지정하지 않습니다.\n",
        "    @staticmethod\n",
        "    def country(producing_country):\n",
        "        if producing_country == 'Republic of Korea':\n",
        "            print('대한민국에서 생산되었습니다.')\n",
        "        elif producing_country == 'USA':\n",
        "            print('미국에서 생산되었습니다.')\n",
        "        else:\n",
        "            print(f'{producing_country}에서 생산되었습니다.')\n",
        "            \n",
        "    def __init__(self, color, use):\n",
        "        self.color = color\n",
        "        self.use = use\n",
        "        Helicopter.helicopter_count = Helicopter.helicopter_count + 1\n",
        "\n",
        "    def go(self, speed):\n",
        "        self.speed = speed\n",
        "        print(f'헬기는 {speed}Km/h로 비행합니다.')\n",
        "\n",
        "    def turn(self, direction):\n",
        "        print(f'헬기는 {direction} 방향으로 비행합니다.')\n",
        "\n",
        "    def stop(self):\n",
        "        print(f'{self.use} 용도인 {self.color}색 헬기는 비행하다가 멈춥니다.')\n",
        "\n",
        "    def restart(self):\n",
        "        print('멈췄던 헬기가 다시 이동합니다.')\n",
        "\n",
        "    def execution_of_duty(self):\n",
        "        print(f'{self.use} 임무 수행을 시작합니다.')\n",
        "        self.go(self.speed)\n",
        "        self.stop()\n",
        "        self.restart()"
      ],
      "execution_count": null,
      "outputs": []
    },
    {
      "cell_type": "markdown",
      "metadata": {
        "id": "fHXlCSmGfKyx"
      },
      "source": [
        "`self` 인자를 지정하지 않았으므로 인스턴스로 함수를 호출할 수 없습니다. `클래스명.정적메서드명()`으로만 정적 메서드를 호출할 수 있습니다."
      ]
    },
    {
      "cell_type": "code",
      "metadata": {
        "id": "3QNuYlarfDFi",
        "colab": {
          "base_uri": "https://localhost:8080/"
        },
        "outputId": "d8c385b8-40b7-44bc-d3a6-0fd2b278a75d"
      },
      "source": [
        "Helicopter.country('Republic of Korea')\n",
        "Helicopter.country('Germany')"
      ],
      "execution_count": null,
      "outputs": [
        {
          "output_type": "stream",
          "name": "stdout",
          "text": [
            "대한민국에서 생산되었습니다.\n",
            "Germany에서 생산되었습니다.\n"
          ]
        }
      ]
    },
    {
      "cell_type": "markdown",
      "metadata": {
        "id": "CKrU3F8VeeQY"
      },
      "source": [
        "### **15.5.3. 클래스 메서드**"
      ]
    },
    {
      "cell_type": "markdown",
      "metadata": {
        "id": "RnEhsBhpjSnw"
      },
      "source": [
        "**클래스 메서드(class method)**는 클래스를 관리하는 데 주로 사용하며, 기존에 지정한 클래스 변수를 사용하기 위한 메서드이기도 합니다.\n",
        "\n",
        "`self` 인자 대신 `cls` 인자를 지정합니다. 클래스를 의미하는 `cls` 인자로 클래스 변수에 접근할 수 있습니다.\n",
        "\n",
        "정적 메서드처럼 클래스 메서드 또한 데코레이터를 지정해야 합니다. `@classmethod`로 함수 위에 지정합니다.\n",
        "\n",
        "아래 코드에 클래스 메서드를 지정하겠습니다."
      ]
    },
    {
      "cell_type": "code",
      "metadata": {
        "id": "2UpllO8Kj5YB"
      },
      "source": [
        "class Helicopter():\n",
        "\n",
        "    # 클래스 변수입니다. 이 변수를 사용하기 위해 클래스 메서드를 지정하겠습니다.\n",
        "    helicopter_count = 0\n",
        "\n",
        "    # 클래스 메서드를 생성합니다. 인자로 `cls`를 지정합니다.\n",
        "    @classmethod\n",
        "    def count(cls):\n",
        "        print(f'보유한 헬기의 대수는 {cls.helicopter_count}대입니다.')\n",
        "\n",
        "    @staticmethod\n",
        "    def country(producing_country):\n",
        "        if producing_country == 'Republic of Korea':\n",
        "            print('대한민국에서 생산되었습니다.')\n",
        "        elif producing_country == 'USA':\n",
        "            print('미국에서 생산되었습니다.')\n",
        "        else:\n",
        "            print(f'{producing_country}에서 생산되었습니다.')\n",
        "\n",
        "    def __init__(self, color, use):\n",
        "        self.color = color\n",
        "        self.use = use\n",
        "        Helicopter.helicopter_count = Helicopter.helicopter_count + 1\n",
        "\n",
        "    def go(self, speed):\n",
        "        self.speed = speed\n",
        "        print(f'헬기는 {speed}Km/h로 비행합니다.')\n",
        "\n",
        "    def turn(self, direction):\n",
        "        print(f'헬기는 {direction} 방향으로 비행합니다.')\n",
        "\n",
        "    def stop(self):\n",
        "        print(f'{self.use} 용도인 {self.color}색 헬기는 비행하다가 멈춥니다.')\n",
        "\n",
        "    def restart(self):\n",
        "        print('멈췄던 헬기가 다시 이동합니다.')\n",
        "\n",
        "    def execution_of_duty(self):\n",
        "        print(f'{self.use} 임무 수행을 시작합니다.')\n",
        "        self.go(self.speed)\n",
        "        self.stop()\n",
        "        self.restart()"
      ],
      "execution_count": null,
      "outputs": []
    },
    {
      "cell_type": "markdown",
      "metadata": {
        "id": "ZzhM3lXmllc-"
      },
      "source": [
        "클래스 함수(메서드)를 호출하려면 `클래스명.클래스메서드명()` 형식을 취합니다."
      ]
    },
    {
      "cell_type": "code",
      "metadata": {
        "id": "qx4o165zl-Jj",
        "colab": {
          "base_uri": "https://localhost:8080/"
        },
        "outputId": "f0a19d47-e0ac-4fe9-c974-4aa63cf1d020"
      },
      "source": [
        "Helicopter.count()"
      ],
      "execution_count": null,
      "outputs": [
        {
          "output_type": "stream",
          "name": "stdout",
          "text": [
            "보유한 헬기의 대수는 0대입니다.\n"
          ]
        }
      ]
    },
    {
      "cell_type": "markdown",
      "metadata": {
        "id": "iZXitifBmCsY"
      },
      "source": [
        "지금까지 클래스를 새로 선언하면서 내용을 추가했습니다. 클래스를 새로 선언하면 기존에 생성됐던 인스턴스는 모두 초기화됩니다.\n",
        "\n",
        "모든 인스턴스를 가져오겠습니다."
      ]
    },
    {
      "cell_type": "code",
      "metadata": {
        "id": "PeKMEDofmXgT"
      },
      "source": [
        "my_helicopter1 = Helicopter('Dark green', 'Battle')\n",
        "my_helicopter2 = Helicopter('Blue', 'travel')\n",
        "my_helicopter3 = Helicopter('White', 'Emergency services')\n",
        "my_helicopter4 = Helicopter('red', 'firefighting')\n",
        "my_helicopter5 = Helicopter('green', 'environment management')\n",
        "my_helicopter6 = Helicopter('yellow', 'business')"
      ],
      "execution_count": null,
      "outputs": []
    },
    {
      "cell_type": "markdown",
      "metadata": {
        "id": "sN6d5qXLm_yv"
      },
      "source": [
        "다시 클래스 메서드를 호출합니다."
      ]
    },
    {
      "cell_type": "code",
      "metadata": {
        "id": "R5WgWh7XnC0T",
        "colab": {
          "base_uri": "https://localhost:8080/"
        },
        "outputId": "276e9fce-a80f-4a08-e558-567c8b9b9a24"
      },
      "source": [
        "Helicopter.count()"
      ],
      "execution_count": null,
      "outputs": [
        {
          "output_type": "stream",
          "name": "stdout",
          "text": [
            "보유한 헬기의 대수는 6대입니다.\n"
          ]
        }
      ]
    },
    {
      "cell_type": "markdown",
      "metadata": {
        "id": "q3wIKkTXesfN"
      },
      "source": [
        "## **15.6. 클래스 상속**"
      ]
    },
    {
      "cell_type": "markdown",
      "metadata": {
        "id": "r-QGWv5Qqm8M"
      },
      "source": [
        "이미 생성한 클래스에서 선언한 메서드와 변수를 새 클래스로 가져와서 사용하도록(상속하도록) 지정할 수 있습니다. 여기서 이미 생성한 클래스란 메서드와 변수를 넘겨주는(상속해주는) **부모 클래스(=상위 클래스, 슈퍼 클래스)**, 새 클래스란 메서드와 변수를 가져와서 사용하는(상속하는) **자식 클래스(=하위 클래스, 서브 클래스)**를 의미합니다. 다시 말하면 자식 클래스는 부모 클래스가 가진 메서드와 변수를 가져와서 사용하도록 새로 생성하는 클래스입니다.\n",
        "\n",
        "아래 코드를 통해 예시하겠습니다. 먼저 기존에 생성한 부모 클래스입니다."
      ]
    },
    {
      "cell_type": "code",
      "metadata": {
        "id": "iQjRWCHLtn7T"
      },
      "source": [
        "class Helicopter():\n",
        "\n",
        "    helicopter_count = 0\n",
        "\n",
        "    @classmethod\n",
        "    def count(cls):\n",
        "        print(f'보유한 헬기의 대수는 {cls.helicopter_count}대입니다.')\n",
        "\n",
        "    @staticmethod\n",
        "    def country(producing_country):\n",
        "        if producing_country == 'Republic of Korea':\n",
        "            print('대한민국에서 생산되었습니다.')\n",
        "        elif producing_country == 'USA':\n",
        "            print('미국에서 생산되었습니다.')\n",
        "        else:\n",
        "            print(f'{producing_country}에서 생산되었습니다.')\n",
        "\n",
        "    def __init__(self, color, use):\n",
        "        self.color = color\n",
        "        self.use = use\n",
        "        Helicopter.helicopter_count = Helicopter.helicopter_count + 1\n",
        "\n",
        "    def go(self, speed):\n",
        "        self.speed = speed\n",
        "        print(f'헬기는 {speed}Km/h로 비행합니다.')\n",
        "\n",
        "    def turn(self, direction):\n",
        "        print(f'헬기는 {direction} 방향으로 비행합니다.')\n",
        "\n",
        "    def stop(self):\n",
        "        print(f'{self.use} 용도인 {self.color}색 헬기는 비행하다가 멈춥니다.')\n",
        "\n",
        "    def restart(self):\n",
        "        print('멈췄던 헬기가 다시 이동합니다.')\n",
        "\n",
        "    def execution_of_duty(self):\n",
        "        print(f'{self.use} 임무 수행을 시작합니다.')\n",
        "        self.go(self.speed)\n",
        "        self.stop()\n",
        "        self.restart()"
      ],
      "execution_count": null,
      "outputs": []
    },
    {
      "cell_type": "markdown",
      "metadata": {
        "id": "QAnuS48Yu3HH"
      },
      "source": [
        "### **15.6.1. 자식 클래스 생성하기**"
      ]
    },
    {
      "cell_type": "markdown",
      "metadata": {
        "id": "6FouUsZKtuE7"
      },
      "source": [
        "자식 클래스를 생성하겠습니다. 자식 클래스명은 수륙양용 헬기를 의미하는 `Amphibious`입니다."
      ]
    },
    {
      "cell_type": "code",
      "metadata": {
        "id": "l9NXsq72uKbf"
      },
      "source": [
        "# 자식 클래스에 부모 클래스를 인자로 지정합니다.\n",
        "class AmphbiousHelicopter(Helicopter):\n",
        "    # 초기화 함수의 인자에 부모 클래스에서 사용한 변수인 `color`, `use`를 지정하고\n",
        "    # 자식 클래스에서 사용할 `location`이라는 변수를 추가로 지정합니다.\n",
        "    def __init__(self, color, use, size):\n",
        "        # 부모 클래스에서 사용하는 초기화를 그대로 사용합니다.\n",
        "        # `super().__init__(color, use) 또한 사용할 수 있는 형식입니다.\n",
        "        # `super()`를 사용할 때는 `self` 인자를 포함시키지 않습니다.\n",
        "        Helicopter.__init__(self, color, use)\n",
        "        self.size = size\n",
        "    \n",
        "    def water_landing(self):\n",
        "        print(f'{self.color} 색상인 {self.size} 크기의 {self.use}용 헬기가 물에 착륙합니다.')\n",
        "\n",
        "    def ground_landing(self):\n",
        "        print(f'{self.color} 색상인 {self.size} 크기의 {self.use}용 헬기가 물에 착륙합니다.')"
      ],
      "execution_count": null,
      "outputs": []
    },
    {
      "cell_type": "markdown",
      "metadata": {
        "id": "ytj3afhk4CKo"
      },
      "source": [
        "`mro()` 메서드를 사용하여 상속 관계를 확인하겠습니다. `클래스명.mro()` 형식으로 사용합니다."
      ]
    },
    {
      "cell_type": "code",
      "metadata": {
        "id": "yOdhRPmL4UeU",
        "colab": {
          "base_uri": "https://localhost:8080/"
        },
        "outputId": "234ea68c-4899-4e4c-b934-1b0e334745c0"
      },
      "source": [
        "AmphbiousHelicopter.mro()"
      ],
      "execution_count": null,
      "outputs": [
        {
          "output_type": "execute_result",
          "data": {
            "text/plain": [
              "[__main__.AmphbiousHelicopter, __main__.Helicopter, object]"
            ]
          },
          "metadata": {},
          "execution_count": 166
        }
      ]
    },
    {
      "cell_type": "markdown",
      "metadata": {
        "id": "2fg4dsAzuzcO"
      },
      "source": [
        "### **15.6.2. 자식 클래스의 인스턴스**"
      ]
    },
    {
      "cell_type": "markdown",
      "metadata": {
        "id": "393sac_Px42a"
      },
      "source": [
        "자식 클래스의 인스턴스를 생성하여 메서드를 호출하겠습니다."
      ]
    },
    {
      "cell_type": "code",
      "metadata": {
        "id": "CI4dX-NEx4Pm",
        "colab": {
          "base_uri": "https://localhost:8080/"
        },
        "outputId": "fdf9555a-20bb-48bf-a446-ba785fbc617a"
      },
      "source": [
        "my_helicopter7 = AmphbiousHelicopter('rainbow', 'toy', 'big')\n",
        "my_helicopter7.go(20)\n",
        "my_helicopter7.turn('back')\n",
        "my_helicopter7.stop()\n",
        "my_helicopter7.restart()\n",
        "print()\n",
        "my_helicopter7.execution_of_duty()\n",
        "print()\n",
        "my_helicopter7.water_landing()\n",
        "my_helicopter7.ground_landing()"
      ],
      "execution_count": null,
      "outputs": [
        {
          "output_type": "stream",
          "name": "stdout",
          "text": [
            "헬기는 20Km/h로 비행합니다.\n",
            "헬기는 back 방향으로 비행합니다.\n",
            "toy 용도인 rainbow색 헬기는 비행하다가 멈춥니다.\n",
            "멈췄던 헬기가 다시 이동합니다.\n",
            "\n",
            "toy 임무 수행을 시작합니다.\n",
            "헬기는 20Km/h로 비행합니다.\n",
            "toy 용도인 rainbow색 헬기는 비행하다가 멈춥니다.\n",
            "멈췄던 헬기가 다시 이동합니다.\n",
            "\n",
            "rainbow 색상인 big 크기의 toy용 헬기가 물에 착륙합니다.\n",
            "rainbow 색상인 big 크기의 toy용 헬기가 물에 착륙합니다.\n"
          ]
        }
      ]
    },
    {
      "cell_type": "markdown",
      "metadata": {
        "id": "s7Tcm0Q72VJm"
      },
      "source": [
        "### **15.6.3. 메서드 오버라이딩**"
      ]
    },
    {
      "cell_type": "markdown",
      "metadata": {
        "id": "YeG35fDL1f8x"
      },
      "source": [
        "참고로 부모 클래스의 메서드명과 자식 클래스의 메서드명이 같은 경우에는 자식 클래스의 메서드가 수행됩니다. 이를 **메서드 오버라이딩 (Method overriding)**이라고 부릅니다.\n",
        "\n",
        "물론 부모 클래스의 메서드도 호출하고, 자식 클래스의 메서드도 함께 호출하는 방법이 있습니다. `super().함수명`을 지정하면 부모 클래스의 메서드와 자식 클래스의 메서드를 모두 호출합니다. 예시는 생략하겠습니다."
      ]
    },
    {
      "cell_type": "markdown",
      "metadata": {
        "id": "wqTpS9-s2iyp"
      },
      "source": [
        "### **15.6.4. 다중 상속**"
      ]
    },
    {
      "cell_type": "markdown",
      "metadata": {
        "id": "HCksOdr-2l4H"
      },
      "source": [
        "**다중 상속**이란 말그대로 자식 클래스가 여러 부모 클래스의 메서드와 변수를 상속하는 것을 의미합니다.\n",
        "\n",
        "아래는 형식에 대한 간단한 예시입니다.\n",
        "\n",
        "```\n",
        "# 첫 번째 부모 클래스입니다.\n",
        "class Helicopter1():\n",
        ".\n",
        ".\n",
        ".\n",
        "# 두 번째 부모 클래스입니다.\n",
        "class Helicopter2():\n",
        ".\n",
        ".\n",
        ".\n",
        "# 자식 클래스입니다. 두 부모 클래스를 인자로 지정합니다.\n",
        "class AmphbiousHelicopter(Helicopter1, Helicopter2):\n",
        ".\n",
        ".\n",
        ".\n",
        "```"
      ]
    },
    {
      "cell_type": "markdown",
      "metadata": {
        "id": "SsvUj3BCKHpQ"
      },
      "source": [
        "# **16. 모듈**"
      ]
    },
    {
      "cell_type": "markdown",
      "metadata": {
        "id": "wArgXyz94yGi"
      },
      "source": [
        "파이썬 코드를 작성하고 파일로 저장한 파일을 **모듈(Module)**이라고 부릅니다. 여러 코드에서 언제든 불러서 재사용할 수 있는 도구라고 볼 수 있습니다. 모듈은 사용자가 직접 작성하여 마련한 모듈과 전문가에 의해 발명되어 기본으로 내장된 모듈로 나뉩니다. \n",
        "\n",
        "모듈을 사용하는 데에는 이점이 있습니다. 먼저 코드를 작성하고 관리하기에 편리합니다. 특히 복잡하고 긴 코드의 경우 기능별로 나눠서 구현하기 좋습니다. 공동으로 작업하는 경우에는 모듈별로 설계한 후에 전체 모듈을 통합하는 과정을 거칩니다. 각자가 맡은 파트에 집중할 수 있으므로 작업 효율성을 도모할 수 있습니다.\n",
        "\n"
      ]
    },
    {
      "cell_type": "markdown",
      "metadata": {
        "id": "_HPsmpz5kyNK"
      },
      "source": [
        "## **16.1. 모듈 생성하기**"
      ]
    },
    {
      "cell_type": "markdown",
      "metadata": {
        "id": "4k2bTts5k5Na"
      },
      "source": [
        "모듈은 코드를 작성한 후에 `모듈명.py` 파일로 저장합니다.\n",
        "\n",
        "먼저 IPython에 있는 **내장 마술 명령어(magic command)**인 `%%writefile`에 대해 설명하겠습니다. 이 명령어로 코드를 파일로 저장할 수 있습니다. 예시는 아래와 같습니다.\n",
        "\n",
        "```\n",
        "%%writefile -a 파일명.py\n",
        "코드 내용\n",
        "```\n",
        "\n",
        "여기서 `-a`를 지정하면 기존 파일 내용의 뒤에 내용을 추가하고, 지정하지 않으면 같은 파일명을 가진 파일에 내용을 덮어씁니다.\n",
        "\n",
        "다음은 `%load` 명령어를 사용해서 코드 파일을 불러오는 방법입니다.\n",
        "\n",
        "```\n",
        "%load 파일명.py\n",
        "```\n",
        "\n",
        "마지막으로 `%run` 명령어를 사용해서 코드 파일을 실행하는 방법입니다.\n",
        "\n",
        "```\n",
        "%run 파일명.py\n",
        "```"
      ]
    },
    {
      "cell_type": "markdown",
      "metadata": {
        "id": "N-fRtd5esE3T"
      },
      "source": [
        "이제 간단한 모듈을 작성하겠습니다. 기존에 경로를 설정했던 '/content/gdrive/MyDrive/Python_for_Data_Analytics_Science'에 저장하겠습니다."
      ]
    },
    {
      "cell_type": "code",
      "metadata": {
        "colab": {
          "base_uri": "https://localhost:8080/"
        },
        "id": "mnMS0ydfsaeQ",
        "outputId": "90accff7-78ef-415c-8216-d2cf1c64ad95"
      },
      "source": [
        "# `-a`를 지정하지 않겠습니다. \n",
        "%%writefile /content/gdrive/MyDrive/Python_for_Data_Analytics_Science/test_module.py\n",
        "\n",
        "def test_print():\n",
        "    return 'Is it test?'\n",
        "\n",
        "a = 15\n",
        "b = 30\n",
        "\n",
        "def test_num(c):\n",
        "    return a + b * c"
      ],
      "execution_count": null,
      "outputs": [
        {
          "output_type": "stream",
          "name": "stdout",
          "text": [
            "Overwriting /content/gdrive/MyDrive/Python_for_Data_Analytics_Science/test_module.py\n"
          ]
        }
      ]
    },
    {
      "cell_type": "markdown",
      "metadata": {
        "id": "F9HdD8Axs_rw"
      },
      "source": [
        "파일을 확인하겠습니다."
      ]
    },
    {
      "cell_type": "code",
      "metadata": {
        "colab": {
          "base_uri": "https://localhost:8080/"
        },
        "id": "Ng9iVFALtDqd",
        "outputId": "d3e70df3-a540-4a62-ddd0-a68cb2ef728b"
      },
      "source": [
        "!type /content/gdrive/MyDrive/Python_for_Data_Analytics_Science/test_module.py"
      ],
      "execution_count": null,
      "outputs": [
        {
          "output_type": "stream",
          "name": "stdout",
          "text": [
            "/content/gdrive/MyDrive/Python_for_Data_Analytics_Science/test_module.py is /content/gdrive/MyDrive/Python_for_Data_Analytics_Science/test_module.py\n"
          ]
        }
      ]
    },
    {
      "cell_type": "markdown",
      "metadata": {
        "id": "k-2aBLOdtQyI"
      },
      "source": [
        "## **16.2. 모듈 임포트 하기**"
      ]
    },
    {
      "cell_type": "markdown",
      "metadata": {
        "id": "9A1p5M8NtVuy"
      },
      "source": [
        "모듈은 `import` 명령어로 부릅니다. 참고로 import의 사전적 의미는 수입(하다), '불러오다'입니다. 모듈을 임포트하면 여러 형식으로 사용할 수 있습니다. \n",
        "\n",
        "형식은 아래와 같습니다.\n",
        "```\n",
        "import 모듈명\n",
        "모듈명.클래스명()\n",
        "모듈명.함수()\n",
        "모듈명.변수\n",
        "```"
      ]
    },
    {
      "cell_type": "markdown",
      "metadata": {
        "id": "RMIBy9wz1h6e"
      },
      "source": [
        "모듈이 가진 클래스, 메서드, 변수는 `dir(모듈명)` 형식으로 확인할 수 있습니다. 먼저 모듈을 임포트 하겠습니다. 그리고나서 클래스와 메서드, 변수를 확인하겠습니다."
      ]
    },
    {
      "cell_type": "code",
      "metadata": {
        "colab": {
          "base_uri": "https://localhost:8080/"
        },
        "id": "F_pZ7vx91eya",
        "outputId": "58965665-dae8-4074-d4f5-bf0170d463fe"
      },
      "source": [
        "import test_module\n",
        "\n",
        "dir(test_module)"
      ],
      "execution_count": null,
      "outputs": [
        {
          "output_type": "execute_result",
          "data": {
            "text/plain": [
              "['__builtins__',\n",
              " '__cached__',\n",
              " '__doc__',\n",
              " '__file__',\n",
              " '__loader__',\n",
              " '__name__',\n",
              " '__package__',\n",
              " '__spec__',\n",
              " 'a',\n",
              " 'b',\n",
              " 'test_num',\n",
              " 'test_print']"
            ]
          },
          "metadata": {},
          "execution_count": 170
        }
      ]
    },
    {
      "cell_type": "markdown",
      "metadata": {
        "id": "H0xOEmuDtUmb"
      },
      "source": [
        "위에서 생성한 `test_module` 모듈의 함수와 변수를 호출하겠습니다."
      ]
    },
    {
      "cell_type": "code",
      "metadata": {
        "colab": {
          "base_uri": "https://localhost:8080/"
        },
        "id": "CRzahpKhuhlT",
        "outputId": "9cb70ade-3461-436c-aaa0-54effebbae01"
      },
      "source": [
        "print(f\"'test_print()' 함수를 호출하면 {test_module.test_print()}가 출력됩니다.\")\n",
        "print(f\"'test_sum()' 함수를 호출하면 {test_module.test_num(5)}가 출력됩니다.\")\n",
        "print(f\"'a' 변수를 호출하면 {test_module.a}가 출력됩니다.\")\n",
        "print(f\"'b' 변수를 호출하면 {test_module.b}가 출력됩니다.\")"
      ],
      "execution_count": null,
      "outputs": [
        {
          "output_type": "stream",
          "name": "stdout",
          "text": [
            "'test_print()' 함수를 호출하면 Is it test?가 출력됩니다.\n",
            "'test_sum()' 함수를 호출하면 165가 출력됩니다.\n",
            "'a' 변수를 호출하면 15가 출력됩니다.\n",
            "'b' 변수를 호출하면 30가 출력됩니다.\n"
          ]
        }
      ]
    },
    {
      "cell_type": "markdown",
      "metadata": {
        "id": "d_0HV2np1nNx"
      },
      "source": [
        "모듈 하나를 통으로 임포트 하지 않고 모듈이 가진 클래스, 함수, 변수를 따로 임포트 할 수 있습니다. 이 세 요소를 하나씩 임포트 하거나, 여러 요소를 쉼표(,)로 구분지어서 한 번에 임포트 할 수 있습니다.\n",
        "\n",
        "형식은 아래와 같습니다.\n",
        "\n",
        "```\n",
        "from 모듈명 import 클래스명 or 함수명 or 변수명\n",
        "from 모듈명 import 클래스명, 함수명, 변수명\n",
        "```"
      ]
    },
    {
      "cell_type": "markdown",
      "metadata": {
        "id": "0dpuqE7e2Blu"
      },
      "source": [
        "간단한 예시 하나만 들겠습니다."
      ]
    },
    {
      "cell_type": "code",
      "metadata": {
        "colab": {
          "base_uri": "https://localhost:8080/"
        },
        "id": "4Nmk01WW2D8z",
        "outputId": "bcdf3ab5-7bb3-47a6-ea7a-b1723c0adb79"
      },
      "source": [
        "# 두 요소를 임포트 하겠습니다.\n",
        "from test_module import test_print, b\n",
        "\n",
        "print(test_print())\n",
        "print(b)"
      ],
      "execution_count": null,
      "outputs": [
        {
          "output_type": "stream",
          "name": "stdout",
          "text": [
            "Is it test?\n",
            "30\n"
          ]
        }
      ]
    },
    {
      "cell_type": "markdown",
      "metadata": {
        "id": "4RFhPt0f3I2j"
      },
      "source": [
        "다만 여러 다른 모듈이 각각 가진 요소(클래스, 함수, 변수)를 임포트 할 경우에 요소의 이름이 동일하면 가장 마지막 줄에서 선언한 요소만 사용할 수 있습니다. 마지막 줄보다 전에 선언한 요소는 마지막 줄에서 선언한 요소에 의해 뒤로 밀려나므로 사용할 수 없습니다.\n",
        "\n",
        "예컨대 `test_module1` 모듈의 `test_print` 함수를 선언하고, 그 다음 줄에서 `test_module2` 모듈의 `test_print` 함수를 선언하면, `test_module1` 모듈의 `test_print` 함수는 사용할 수 없습니다. `test_module2` 모듈의 `test_print` 함수만 사용할 수 있는 것입니다."
      ]
    },
    {
      "cell_type": "markdown",
      "metadata": {
        "id": "C3kXAs9Xf7gb"
      },
      "source": [
        "참고로 요소를 임포트 할 때 별칭을 지정해서 사용할 수도 있습니다. 형식은 아래와 같습니다.\n",
        "\n",
        "```\n",
        "from test_module import test_print as tp\n",
        "from test_module import test_num as tn\n",
        "\n",
        "print(tp())\n",
        "print(tn(6))\n",
        "```\n"
      ]
    },
    {
      "cell_type": "markdown",
      "metadata": {
        "id": "d49uz9bHhRcw"
      },
      "source": [
        "## **16.3. 모듈 바로 실행하기**"
      ]
    },
    {
      "cell_type": "markdown",
      "metadata": {
        "id": "7mlKRQ4ShmX_"
      },
      "source": [
        "모듈을 임포트 하지 않고 바로 실행할 수 있습니다. 16.1. 파트에서 제시했듯이 `%run` 명령어를 사용하면 모듈을 바로 실행할 수 있습니다.\n",
        "\n",
        "예시는 아래와 같습니다."
      ]
    },
    {
      "cell_type": "code",
      "metadata": {
        "colab": {
          "base_uri": "https://localhost:8080/"
        },
        "id": "vO64tu45h-S4",
        "outputId": "23ae2e8f-6438-4e86-ada3-4e134b2b2719"
      },
      "source": [
        "%%writefile /content/gdrive/MyDrive/Python_for_Data_Analytics_Science/test_module.py\n",
        "\n",
        "# 기존에 생성했던 `test_module` 모듈입니다.\n",
        "def test_print():\n",
        "    return 'Is it test?'\n",
        "\n",
        "a = 15\n",
        "b = 30\n",
        "\n",
        "def test_num(c):\n",
        "    return a + b * c\n",
        "\n",
        "# 단 이 모듈은 메서드와 변수만 선언되었고 출력하는 메서드는 선언하지 않았습니다.\n",
        "# 메서드가 바로 실행될 수 있도록 두 메서드를 추가합니다. 물론 테스트용입니다. \n",
        "print(test_print())\n",
        "print(test_num(5))"
      ],
      "execution_count": null,
      "outputs": [
        {
          "output_type": "stream",
          "name": "stdout",
          "text": [
            "Overwriting /content/gdrive/MyDrive/Python_for_Data_Analytics_Science/test_module.py\n"
          ]
        }
      ]
    },
    {
      "cell_type": "code",
      "metadata": {
        "colab": {
          "base_uri": "https://localhost:8080/"
        },
        "id": "zRKmmDgkis8I",
        "outputId": "f41ccd95-8073-4618-b348-9336555924f6"
      },
      "source": [
        "%run /content/gdrive/MyDrive/Python_for_Data_Analytics_Science/test_module.py"
      ],
      "execution_count": null,
      "outputs": [
        {
          "output_type": "stream",
          "name": "stdout",
          "text": [
            "Is it test?\n",
            "165\n"
          ]
        }
      ]
    },
    {
      "cell_type": "markdown",
      "metadata": {
        "id": "00_P3mBemIg8"
      },
      "source": [
        "모듈이 바로 실행됐습니다. 다만 위 모듈의 마지막 줄에 추가한 두 메서드는 테스트용이므로 실제 애플리케이션에서는 반드시 삭제해야 합니다.\n",
        "\n",
        "물론 이 작업을 일일이 수행하지 않으면서 코드를 유지할 수 있는 방법이 있습니다. 모듈을 실제로 사용하는 경우와 테스트용으로 사용하는 경우를 구분지어서 필요에 따라 사용하도록 `if __name__ == \"main__\":` 형식을 붙입니다.\n",
        "\n",
        "아래에 예시하겠습니다."
      ]
    },
    {
      "cell_type": "code",
      "metadata": {
        "colab": {
          "base_uri": "https://localhost:8080/"
        },
        "id": "EgoBY98cjCN_",
        "outputId": "6d06196f-3276-45d6-ce36-00b8c521aa7a"
      },
      "source": [
        "%%writefile /content/gdrive/MyDrive/Python_for_Data_Analytics_Science/test_module.py\n",
        "\n",
        "def test_print():\n",
        "    return 'Is it test?'\n",
        "\n",
        "a = 15\n",
        "b = 30\n",
        "\n",
        "def test_num(c):\n",
        "    return a + b * c\n",
        "\n",
        "# 염연히 if문이므로 들여쓰기에 신경써야 합니다.\n",
        "if __name__ == \"__main__\":\n",
        "    print('모듈을 테스트합니다.')\n",
        "    print(test_print())\n",
        "    print(test_num(5))"
      ],
      "execution_count": null,
      "outputs": [
        {
          "output_type": "stream",
          "name": "stdout",
          "text": [
            "Overwriting /content/gdrive/MyDrive/Python_for_Data_Analytics_Science/test_module.py\n"
          ]
        }
      ]
    },
    {
      "cell_type": "markdown",
      "metadata": {
        "id": "WBJFiZg7oVDn"
      },
      "source": [
        "이제 다시 모듈을 바로 실행하겠습니다."
      ]
    },
    {
      "cell_type": "code",
      "metadata": {
        "colab": {
          "base_uri": "https://localhost:8080/"
        },
        "id": "Yg2A39SYoZ6m",
        "outputId": "9a65745d-ed14-4346-ca36-53a746e73512"
      },
      "source": [
        "%run /content/gdrive/MyDrive/Python_for_Data_Analytics_Science/test_module.py"
      ],
      "execution_count": null,
      "outputs": [
        {
          "output_type": "stream",
          "name": "stdout",
          "text": [
            "모듈을 테스트합니다.\n",
            "Is it test?\n",
            "165\n"
          ]
        }
      ]
    },
    {
      "cell_type": "markdown",
      "metadata": {
        "id": "k7cm9_VCohJQ"
      },
      "source": [
        "모듈을 임포트 하겠습니다. 기실 위 `%run` 명령어를 선언했으므로 모듈을 임포트 하면 바로 실행됩니다. 그러나 위 if문 형식을 추가하였으므로 모듈을 임포트 해도 바로 실행되지 않습니다."
      ]
    },
    {
      "cell_type": "code",
      "metadata": {
        "id": "FGjH-gF7ocKq"
      },
      "source": [
        "import test_module"
      ],
      "execution_count": null,
      "outputs": []
    },
    {
      "cell_type": "markdown",
      "metadata": {
        "id": "LeUPtGarpJMD"
      },
      "source": [
        "아무것도 출력되지 않았습니다."
      ]
    },
    {
      "cell_type": "markdown",
      "metadata": {
        "id": "UcJdB-Cwhe6L"
      },
      "source": [
        "## **16.4. 모듈 임포트 후 실행하기**"
      ]
    },
    {
      "cell_type": "markdown",
      "metadata": {
        "id": "rBCaKeGfq6ao"
      },
      "source": [
        "모듈을 임포트 해서 실행하도록 구분하려면 위에서 추가한 if문에 else 조건을 추가합니다."
      ]
    },
    {
      "cell_type": "code",
      "metadata": {
        "colab": {
          "base_uri": "https://localhost:8080/"
        },
        "id": "pvJQVHWlrO8z",
        "outputId": "f71235ec-8fc2-4790-cf50-b1420494ac8c"
      },
      "source": [
        "%%writefile /content/gdrive/MyDrive/Python_for_Data_Analytics_Science/test_module.py\n",
        "\n",
        "def test_print():\n",
        "    return 'Is it test?'\n",
        "\n",
        "a = 15\n",
        "b = 30\n",
        "\n",
        "def test_num(c):\n",
        "    return a + b * c\n",
        "\n",
        "if __name__ == \"__main__\":\n",
        "    print('모듈을 테스트합니다.')\n",
        "    print(test_print())\n",
        "    print(test_num(5))\n",
        "else:\n",
        "    print('임포트 되었습니다. 모듈을 직접 실행합니다.')"
      ],
      "execution_count": null,
      "outputs": [
        {
          "output_type": "stream",
          "name": "stdout",
          "text": [
            "Overwriting /content/gdrive/MyDrive/Python_for_Data_Analytics_Science/test_module.py\n"
          ]
        }
      ]
    },
    {
      "cell_type": "code",
      "metadata": {
        "colab": {
          "base_uri": "https://localhost:8080/"
        },
        "id": "4GgpoSFqrhbX",
        "outputId": "4cb55516-88bb-49fd-f243-b2ba605666df"
      },
      "source": [
        "%run /content/gdrive/MyDrive/Python_for_Data_Analytics_Science/test_module.py"
      ],
      "execution_count": null,
      "outputs": [
        {
          "output_type": "stream",
          "name": "stdout",
          "text": [
            "모듈을 테스트합니다.\n",
            "Is it test?\n",
            "165\n"
          ]
        }
      ]
    },
    {
      "cell_type": "code",
      "metadata": {
        "id": "3-7S14cwri8D"
      },
      "source": [
        "import test_module"
      ],
      "execution_count": null,
      "outputs": []
    },
    {
      "cell_type": "markdown",
      "metadata": {
        "id": "vMVLrGGYsBsP"
      },
      "source": [
        "사실 모듈을 위 방식으로 임포트 하면 '임포트 되었습니다. 모듈을 직접 실행합니다.'가 출력되어야 하지만 출력되지 않았습니다. 해당 모듈을 한 번만이라도 선언하면 뒤에서 같은 모듈을 다시 선언해도 모듈의 수정된 내용을 반영하지 않습니다. '임포트 되었습니다. 모듈을 직접 실행합니다.'가 출력되게 하려면 모든 커널을 초기화하고 재시작해야 합니다."
      ]
    },
    {
      "cell_type": "markdown",
      "metadata": {
        "id": "bsBJR5Rztf9h"
      },
      "source": [
        "# **17. 내장 모듈**"
      ]
    },
    {
      "cell_type": "markdown",
      "metadata": {
        "id": "wlgCWpsrtkEP"
      },
      "source": [
        "파이썬은 기본적으로 유용한 모듈들을 제공합니다. 이 중에 데이터 분석에 자주 사용하는 몇 가지 간단한 모듈만 살필 예정입니다. 각종 모듈은 [파이썬 표준 라이브러리](https://docs.python.org/3.6/library)에 구체적으로 설명되어 있습니다."
      ]
    },
    {
      "cell_type": "markdown",
      "metadata": {
        "id": "7h0r1dRXu09S"
      },
      "source": [
        "## **17.1. 난수 모듈**"
      ]
    },
    {
      "cell_type": "markdown",
      "metadata": {
        "id": "CEkeRFtg1Td4"
      },
      "source": [
        "임의의 숫자를 난수(random number)라고 부릅니다. `random` 모듈이 가진 메서드로 여러 형태의 난수를 생성할 수 있습니다. 물론 항목도 생성할 수 있습니다."
      ]
    },
    {
      "cell_type": "markdown",
      "metadata": {
        "id": "6rHwb50h1mRE"
      },
      "source": [
        "먼저 난수 모듈을 임포트 합니다."
      ]
    },
    {
      "cell_type": "code",
      "metadata": {
        "id": "_fTN6MIi1qem"
      },
      "source": [
        "import random"
      ],
      "execution_count": null,
      "outputs": []
    },
    {
      "cell_type": "markdown",
      "metadata": {
        "id": "8hqWbrvu1zkw"
      },
      "source": [
        "`random` 모듈이 가진 여러 메서드의 목록입니다. \n",
        "\n",
        "- `random()`: 0.0과 1.0 사이의 임의의 실수를 생성합니다. 형식은 `random.random()`입니다.\n",
        "\n",
        "- `randint(시작, 끝)`: 시작과 끝 사이의 임의의 정수를 생성합니다. 형식은 `random.randint(시작, 끝)`입니다.\n",
        "\n",
        "- `randrange([시작,] 끝 [,단계])`: 시작과 끝 사이에서 단계에 맞게 임의의 정수를 생성합니다. 시작과 단계는 생략할 수 있습니다. 형식은 `random.randrange(([시작,] 끝 [,단계])`입니다.\n",
        "\n",
        "- `choice([항목1, 항목2, ..., 항목n])`: 지정한 항목 중에 임의의 항목을 생성합니다. 형식은 `random.choice([항목1, 항목2, ..., 항목n])`입니다.\n",
        "\n",
        "- `sample([모집단 숫자들], 개수)`: 리스트로 이뤄진 모집단 숫자들에서 개수만큼 생성합니다. 형식은 `random.sample([모집단 숫자들], 개수)`입니다."
      ]
    },
    {
      "cell_type": "markdown",
      "metadata": {
        "id": "VwQQjPCH5cBD"
      },
      "source": [
        "`random` 모듈의 메서드를 예시하겠습니다."
      ]
    },
    {
      "cell_type": "code",
      "metadata": {
        "colab": {
          "base_uri": "https://localhost:8080/"
        },
        "id": "CMv4xFT94-IB",
        "outputId": "da28ab2b-6e9a-482e-dbac-0ea76c76b214"
      },
      "source": [
        "print('randint(0, 8):', random.randint(0, 8))\n",
        "print('randrange(0, 10, 2):', random.randrange(0, 10, 2))\n",
        "print('choice([\"사과\", \"바나나\", \"포도\", 4, 5, 6]):', random.choice([\"사과\", \"바나나\", \"포도\", 4, 5, 6]))\n",
        "print('sample([1, 2, 3, \"사과\", \"바나나\", \"포도\"], 4):', random.sample([1, 2, 3, \"사과\", \"바나나\", \"포도\"], 4))"
      ],
      "execution_count": null,
      "outputs": [
        {
          "output_type": "stream",
          "name": "stdout",
          "text": [
            "randint(0, 8): 6\n",
            "randrange(0, 10, 2): 2\n",
            "choice([\"사과\", \"바나나\", \"포도\", 4, 5, 6]): 6\n",
            "sample([1, 2, 3, \"사과\", \"바나나\", \"포도\"], 4): ['사과', 1, 3, 2]\n"
          ]
        }
      ]
    },
    {
      "cell_type": "markdown",
      "metadata": {
        "id": "kybC7kP77vxc"
      },
      "source": [
        "## **17.2. 날짜 및 시간 모듈**"
      ]
    },
    {
      "cell_type": "markdown",
      "metadata": {
        "id": "D2IwPcXq76Jx"
      },
      "source": [
        "날짜와 시간과 관련된 모듈은 `datetime`입니다. 이 모듈은 날짜를 다루는 `date` 클래스와 시간을 다루는 `time` 클래스, 모두를 다루는 `datetime` 클래스를 가집니다. \n",
        "\n",
        "사용하는 형식은 아래와 같습니다.\n",
        "\n",
        "```\n",
        "import datetime\n",
        "\n",
        "date_cls = datetime.date(year, month, day)\n",
        "time_cls = datetime.time(hour, minute, second)\n",
        "datetime_cls = datetime.datetime(year, month, day, hour, minute, second)\n",
        "```\n",
        "\n",
        "`datetime` 모듈이 가진 `date` 클래스와 `time` 클래스를 호출해서 객체에 넘겨줬습니다. 각 클래스는 개별적으로 속성을 가집니다. 여기서 속성은 괄호 안의 속성명을 그대로 가집니다. 여기서 각 클래스는 클래스 메서드를 가집니다. 관련 설명은 아래에서 예시로 들겠습니다."
      ]
    },
    {
      "cell_type": "markdown",
      "metadata": {
        "id": "ZaOqIKj2GXBF"
      },
      "source": [
        "### **17.2.1. 날짜 클래스**"
      ]
    },
    {
      "cell_type": "markdown",
      "metadata": {
        "id": "e-nnOlT_AQ8G"
      },
      "source": [
        "먼저 객체에 클래스를 넘기는 방법으로 사용하는 방식을 예시하겠습니다. `date` 클래스입니다."
      ]
    },
    {
      "cell_type": "code",
      "metadata": {
        "colab": {
          "base_uri": "https://localhost:8080/"
        },
        "id": "zvpb7rg4_oFZ",
        "outputId": "cb957f51-e519-4c10-9554-f7486aab3836"
      },
      "source": [
        "import datetime\n",
        "\n",
        "date_211005 = datetime.date(2021, 10, 5)\n",
        "print('datetime.date(2021, 10, 5):', date_211005)"
      ],
      "execution_count": null,
      "outputs": [
        {
          "output_type": "stream",
          "name": "stdout",
          "text": [
            "datetime.date(2021, 10, 5): 2021-10-05\n"
          ]
        }
      ]
    },
    {
      "cell_type": "markdown",
      "metadata": {
        "id": "Ks8AWXr7Adbu"
      },
      "source": [
        "클래스의 속성을 따로 호출할 수도 있습니다."
      ]
    },
    {
      "cell_type": "code",
      "metadata": {
        "colab": {
          "base_uri": "https://localhost:8080/"
        },
        "id": "dDiagEW1AiXq",
        "outputId": "95aafb03-89f1-4c25-b7f5-97a85ad9f215"
      },
      "source": [
        "print(f'datetime.date({date_211005.year}, {date_211005.month}, {date_211005.day})')"
      ],
      "execution_count": null,
      "outputs": [
        {
          "output_type": "stream",
          "name": "stdout",
          "text": [
            "datetime.date(2021, 10, 5)\n"
          ]
        }
      ]
    },
    {
      "cell_type": "markdown",
      "metadata": {
        "id": "tZ1_lAchA50T"
      },
      "source": [
        "`date` 클래스로 생성한 객체를 이용하여 객체 간 일수 차이를 구할 수 있습니다."
      ]
    },
    {
      "cell_type": "code",
      "metadata": {
        "colab": {
          "base_uri": "https://localhost:8080/"
        },
        "id": "vYtMpC8WBuAD",
        "outputId": "23680c3c-1934-4d45-ec13-5e047e06c32f"
      },
      "source": [
        "date_211005 = datetime.date(2021, 10, 5)\n",
        "date_140416 = datetime.date(2014, 4, 16)\n",
        "print(date_211005 - date_140416)\n",
        "print(date_140416 - date_211005)"
      ],
      "execution_count": null,
      "outputs": [
        {
          "output_type": "stream",
          "name": "stdout",
          "text": [
            "2729 days, 0:00:00\n",
            "-2729 days, 0:00:00\n"
          ]
        }
      ]
    },
    {
      "cell_type": "markdown",
      "metadata": {
        "id": "8sirwW_dCo9A"
      },
      "source": [
        "연산을 마친 후에는 데이터 타입이 바뀝니다. 데이터 타입은 클래스입니다."
      ]
    },
    {
      "cell_type": "code",
      "metadata": {
        "colab": {
          "base_uri": "https://localhost:8080/"
        },
        "id": "EFdYgtX9DK6L",
        "outputId": "631cd6e7-9cc3-4a9e-901c-aff095c06e31"
      },
      "source": [
        "type(date_140416)"
      ],
      "execution_count": null,
      "outputs": [
        {
          "output_type": "execute_result",
          "data": {
            "text/plain": [
              "datetime.date"
            ]
          },
          "metadata": {},
          "execution_count": 186
        }
      ]
    },
    {
      "cell_type": "markdown",
      "metadata": {
        "id": "K33MdJnlEi63"
      },
      "source": [
        "`timedelta` 또한 클래스입니다."
      ]
    },
    {
      "cell_type": "code",
      "metadata": {
        "colab": {
          "base_uri": "https://localhost:8080/"
        },
        "id": "FgS-RdRPC18-",
        "outputId": "88de5535-3772-4fe5-90e6-cc1fddf8ab1a"
      },
      "source": [
        "date_diff = date_211005 - date_140416\n",
        "type(date_diff)"
      ],
      "execution_count": null,
      "outputs": [
        {
          "output_type": "execute_result",
          "data": {
            "text/plain": [
              "datetime.timedelta"
            ]
          },
          "metadata": {},
          "execution_count": 187
        }
      ]
    },
    {
      "cell_type": "markdown",
      "metadata": {
        "id": "QsP9xIjSD7hy"
      },
      "source": [
        "시간을 제외하고 숫자만 출력하려면 `timedelta` 클래스가 가진 `days` 속성을 선언합니다."
      ]
    },
    {
      "cell_type": "code",
      "metadata": {
        "colab": {
          "base_uri": "https://localhost:8080/"
        },
        "id": "NWUqOeoZEw-x",
        "outputId": "a6214eff-c763-457e-f128-c706220ed2fa"
      },
      "source": [
        "date_diff.days"
      ],
      "execution_count": null,
      "outputs": [
        {
          "output_type": "execute_result",
          "data": {
            "text/plain": [
              "2729"
            ]
          },
          "metadata": {},
          "execution_count": 188
        }
      ]
    },
    {
      "cell_type": "markdown",
      "metadata": {
        "id": "trdJbyOEE20A"
      },
      "source": [
        "오늘 날짜를 출력하려면 `date` 클래스가 가진 `today()` 메서드를 호출합니다."
      ]
    },
    {
      "cell_type": "code",
      "metadata": {
        "colab": {
          "base_uri": "https://localhost:8080/"
        },
        "id": "qkUCFE4EFEhF",
        "outputId": "975700dd-27f7-4e5a-9cf1-f4df5f2d3636"
      },
      "source": [
        "print(f'Today is {datetime.date.today()}')"
      ],
      "execution_count": null,
      "outputs": [
        {
          "output_type": "stream",
          "name": "stdout",
          "text": [
            "Today is 2021-10-08\n"
          ]
        }
      ]
    },
    {
      "cell_type": "markdown",
      "metadata": {
        "id": "Riy9kWUCGe75"
      },
      "source": [
        "### **17.2.2. 시간 클래스**"
      ]
    },
    {
      "cell_type": "markdown",
      "metadata": {
        "id": "c-jxcXHUGv6p"
      },
      "source": [
        "`time` 클래스에 대한 예시입니다."
      ]
    },
    {
      "cell_type": "code",
      "metadata": {
        "colab": {
          "base_uri": "https://localhost:8080/"
        },
        "id": "r7jE3mQXGpnQ",
        "outputId": "351a0af2-51cb-403b-eebd-528b8794d921"
      },
      "source": [
        "time_195804 = datetime.time(19, 58, 4)\n",
        "print(f'datetime.time(19, 58, 4): {time_195804}')"
      ],
      "execution_count": null,
      "outputs": [
        {
          "output_type": "stream",
          "name": "stdout",
          "text": [
            "datetime.time(19, 58, 4): 19:58:04\n"
          ]
        }
      ]
    },
    {
      "cell_type": "markdown",
      "metadata": {
        "id": "bt4Xxjr7HRsc"
      },
      "source": [
        "`date` 클래스처럼 클래스가 가진 속성을 개별적으로 호출할 수 있습니다."
      ]
    },
    {
      "cell_type": "code",
      "metadata": {
        "colab": {
          "base_uri": "https://localhost:8080/"
        },
        "id": "fAYw-kLbHY3X",
        "outputId": "f60bfc5b-0751-473a-90c8-7f31f45cea70"
      },
      "source": [
        "print(f'datetime.time({time_195804.hour}, {time_195804.minute}, {time_195804.second})')"
      ],
      "execution_count": null,
      "outputs": [
        {
          "output_type": "stream",
          "name": "stdout",
          "text": [
            "datetime.time(19, 58, 4)\n"
          ]
        }
      ]
    },
    {
      "cell_type": "markdown",
      "metadata": {
        "id": "BPoFRER4M-CF"
      },
      "source": [
        "다만 `time` 클래스는 `date` 클래스처럼 빼기 연산은 지원하지 않습니다."
      ]
    },
    {
      "cell_type": "markdown",
      "metadata": {
        "id": "bxop9nr-MtUl"
      },
      "source": [
        "### **17.2.3. 날짜 시간 클래스**"
      ]
    },
    {
      "cell_type": "markdown",
      "metadata": {
        "id": "DaViCv0XNJOg"
      },
      "source": [
        "`datetime` 클래스는 날짜와 시간 모두를 나타냅니다. 사용법은 위에서 설명한 두 클래스와 같습니다. 다만 현재 시각을 구하려면 `now()` 메서드를 사용해야 합니다."
      ]
    },
    {
      "cell_type": "code",
      "metadata": {
        "colab": {
          "base_uri": "https://localhost:8080/"
        },
        "id": "MlnYqBXWNNEk",
        "outputId": "5113ff3b-5149-424c-a059-e542f2068a5b"
      },
      "source": [
        "now = datetime.datetime.now()\n",
        "print(now)\n",
        "type(now)"
      ],
      "execution_count": null,
      "outputs": [
        {
          "output_type": "stream",
          "name": "stdout",
          "text": [
            "2021-10-08 07:22:36.607735\n"
          ]
        },
        {
          "output_type": "execute_result",
          "data": {
            "text/plain": [
              "datetime.datetime"
            ]
          },
          "metadata": {},
          "execution_count": 192
        }
      ]
    },
    {
      "cell_type": "markdown",
      "metadata": {
        "id": "V6Y-uyeTN1u5"
      },
      "source": [
        "현재 시각을 개별적으로 출력할 수도 있습니다. 방법은 두 가지입니다. 하나는 속성을 사용하는 방법이고, 다른 하나는 `{:%Y-%m-%d %H:%M:%S}` 형식을 사용하는 방법입니다. 구분 기호는 다르게 지정할 수 있습니다.\n",
        "\n",
        "아래에서 예시하겠습니다."
      ]
    },
    {
      "cell_type": "code",
      "metadata": {
        "colab": {
          "base_uri": "https://localhost:8080/"
        },
        "id": "DjUEVelUOJQQ",
        "outputId": "cc53237f-57a8-4218-d9b5-0dd38b0151f9"
      },
      "source": [
        "print(f\"Now is {now.year}-{now.month}-{now.day} {now.hour}:{now.minute}:{now.second}\")\n",
        "print('Now is {:%Y-%m-%d %H:%M:%S}'.format(now))\n",
        "print('Now is {:%Y.%m.%d. %H/%M/%S}'.format(now))"
      ],
      "execution_count": null,
      "outputs": [
        {
          "output_type": "stream",
          "name": "stdout",
          "text": [
            "Now is 2021-10-8 7:22:36\n",
            "Now is 2021-10-08 07:22:36\n",
            "Now is 2021.10.08. 07/22/36\n"
          ]
        }
      ]
    },
    {
      "cell_type": "markdown",
      "metadata": {
        "id": "EYnFAei7RSdS"
      },
      "source": [
        "`datetime` 클래스는 `date` 클래스처럼 빼기 연산을 지원합니다. 연산하면 `timedelta` 클래스로 바뀝니다."
      ]
    },
    {
      "cell_type": "code",
      "metadata": {
        "colab": {
          "base_uri": "https://localhost:8080/"
        },
        "id": "az5PRdN0SAnN",
        "outputId": "dfe78bae-0d79-46eb-f808-ef3dbef4ee71"
      },
      "source": [
        "my_birthday = datetime.datetime(1989, 6, 23, 18, 30, 0)\n",
        "print(f'오늘까지 {now - my_birthday}만큼 살았습니다.')\n",
        "\n",
        "I_live = now - my_birthday\n",
        "print(f'오늘까지 {I_live.days}일만큼 살았습니다.')\n",
        "print(f'Type is {type(I_live)}.')"
      ],
      "execution_count": null,
      "outputs": [
        {
          "output_type": "stream",
          "name": "stdout",
          "text": [
            "오늘까지 11794 days, 12:52:36.607735만큼 살았습니다.\n",
            "오늘까지 11794일만큼 살았습니다.\n",
            "Type is <class 'datetime.timedelta'>.\n"
          ]
        }
      ]
    },
    {
      "cell_type": "markdown",
      "metadata": {
        "id": "oESa3fFKT2ta"
      },
      "source": [
        "## 17.3. **달력 모듈**"
      ]
    },
    {
      "cell_type": "markdown",
      "metadata": {
        "id": "u0ISmkXauSh4"
      },
      "source": [
        "달력 모듈은 몇 가지 예시로 간단하게 설명하겠습니다."
      ]
    },
    {
      "cell_type": "markdown",
      "metadata": {
        "id": "C2zffczOudxZ"
      },
      "source": [
        "먼저 `calendar` 모듈을 부른 후에 `calendar` 메서드를 사용하여 2021년을 출력하겠습니다."
      ]
    },
    {
      "cell_type": "code",
      "metadata": {
        "colab": {
          "base_uri": "https://localhost:8080/"
        },
        "id": "b5-foEYIusv4",
        "outputId": "80750ed9-7a97-48cd-a6d1-9dc272c5eb91"
      },
      "source": [
        "import calendar\n",
        "\n",
        "print(calendar.calendar(2021))"
      ],
      "execution_count": null,
      "outputs": [
        {
          "output_type": "stream",
          "name": "stdout",
          "text": [
            "                                  2021\n",
            "\n",
            "      January                   February                   March\n",
            "Mo Tu We Th Fr Sa Su      Mo Tu We Th Fr Sa Su      Mo Tu We Th Fr Sa Su\n",
            "             1  2  3       1  2  3  4  5  6  7       1  2  3  4  5  6  7\n",
            " 4  5  6  7  8  9 10       8  9 10 11 12 13 14       8  9 10 11 12 13 14\n",
            "11 12 13 14 15 16 17      15 16 17 18 19 20 21      15 16 17 18 19 20 21\n",
            "18 19 20 21 22 23 24      22 23 24 25 26 27 28      22 23 24 25 26 27 28\n",
            "25 26 27 28 29 30 31                                29 30 31\n",
            "\n",
            "       April                      May                       June\n",
            "Mo Tu We Th Fr Sa Su      Mo Tu We Th Fr Sa Su      Mo Tu We Th Fr Sa Su\n",
            "          1  2  3  4                      1  2          1  2  3  4  5  6\n",
            " 5  6  7  8  9 10 11       3  4  5  6  7  8  9       7  8  9 10 11 12 13\n",
            "12 13 14 15 16 17 18      10 11 12 13 14 15 16      14 15 16 17 18 19 20\n",
            "19 20 21 22 23 24 25      17 18 19 20 21 22 23      21 22 23 24 25 26 27\n",
            "26 27 28 29 30            24 25 26 27 28 29 30      28 29 30\n",
            "                          31\n",
            "\n",
            "        July                     August                  September\n",
            "Mo Tu We Th Fr Sa Su      Mo Tu We Th Fr Sa Su      Mo Tu We Th Fr Sa Su\n",
            "          1  2  3  4                         1             1  2  3  4  5\n",
            " 5  6  7  8  9 10 11       2  3  4  5  6  7  8       6  7  8  9 10 11 12\n",
            "12 13 14 15 16 17 18       9 10 11 12 13 14 15      13 14 15 16 17 18 19\n",
            "19 20 21 22 23 24 25      16 17 18 19 20 21 22      20 21 22 23 24 25 26\n",
            "26 27 28 29 30 31         23 24 25 26 27 28 29      27 28 29 30\n",
            "                          30 31\n",
            "\n",
            "      October                   November                  December\n",
            "Mo Tu We Th Fr Sa Su      Mo Tu We Th Fr Sa Su      Mo Tu We Th Fr Sa Su\n",
            "             1  2  3       1  2  3  4  5  6  7             1  2  3  4  5\n",
            " 4  5  6  7  8  9 10       8  9 10 11 12 13 14       6  7  8  9 10 11 12\n",
            "11 12 13 14 15 16 17      15 16 17 18 19 20 21      13 14 15 16 17 18 19\n",
            "18 19 20 21 22 23 24      22 23 24 25 26 27 28      20 21 22 23 24 25 26\n",
            "25 26 27 28 29 30 31      29 30                     27 28 29 30 31\n",
            "\n"
          ]
        }
      ]
    },
    {
      "cell_type": "markdown",
      "metadata": {
        "id": "ubQoZBevvUKt"
      },
      "source": [
        "매개변수 `m`에 값을 부여하여 한 줄에 출력되는 달을 변경하겠습니다."
      ]
    },
    {
      "cell_type": "code",
      "metadata": {
        "colab": {
          "base_uri": "https://localhost:8080/"
        },
        "id": "TdEYPzt3vL3m",
        "outputId": "8ed00fdc-df1f-45ec-90b4-36c38a86984c"
      },
      "source": [
        "print(calendar.calendar(2021, m=5))"
      ],
      "execution_count": null,
      "outputs": [
        {
          "output_type": "stream",
          "name": "stdout",
          "text": [
            "                                                            2021\n",
            "\n",
            "      January                   February                   March                     April                      May\n",
            "Mo Tu We Th Fr Sa Su      Mo Tu We Th Fr Sa Su      Mo Tu We Th Fr Sa Su      Mo Tu We Th Fr Sa Su      Mo Tu We Th Fr Sa Su\n",
            "             1  2  3       1  2  3  4  5  6  7       1  2  3  4  5  6  7                1  2  3  4                      1  2\n",
            " 4  5  6  7  8  9 10       8  9 10 11 12 13 14       8  9 10 11 12 13 14       5  6  7  8  9 10 11       3  4  5  6  7  8  9\n",
            "11 12 13 14 15 16 17      15 16 17 18 19 20 21      15 16 17 18 19 20 21      12 13 14 15 16 17 18      10 11 12 13 14 15 16\n",
            "18 19 20 21 22 23 24      22 23 24 25 26 27 28      22 23 24 25 26 27 28      19 20 21 22 23 24 25      17 18 19 20 21 22 23\n",
            "25 26 27 28 29 30 31                                29 30 31                  26 27 28 29 30            24 25 26 27 28 29 30\n",
            "                                                                                                        31\n",
            "\n",
            "        June                      July                     August                  September                  October\n",
            "Mo Tu We Th Fr Sa Su      Mo Tu We Th Fr Sa Su      Mo Tu We Th Fr Sa Su      Mo Tu We Th Fr Sa Su      Mo Tu We Th Fr Sa Su\n",
            "    1  2  3  4  5  6                1  2  3  4                         1             1  2  3  4  5                   1  2  3\n",
            " 7  8  9 10 11 12 13       5  6  7  8  9 10 11       2  3  4  5  6  7  8       6  7  8  9 10 11 12       4  5  6  7  8  9 10\n",
            "14 15 16 17 18 19 20      12 13 14 15 16 17 18       9 10 11 12 13 14 15      13 14 15 16 17 18 19      11 12 13 14 15 16 17\n",
            "21 22 23 24 25 26 27      19 20 21 22 23 24 25      16 17 18 19 20 21 22      20 21 22 23 24 25 26      18 19 20 21 22 23 24\n",
            "28 29 30                  26 27 28 29 30 31         23 24 25 26 27 28 29      27 28 29 30               25 26 27 28 29 30 31\n",
            "                                                    30 31\n",
            "\n",
            "      November                  December\n",
            "Mo Tu We Th Fr Sa Su      Mo Tu We Th Fr Sa Su\n",
            " 1  2  3  4  5  6  7             1  2  3  4  5\n",
            " 8  9 10 11 12 13 14       6  7  8  9 10 11 12\n",
            "15 16 17 18 19 20 21      13 14 15 16 17 18 19\n",
            "22 23 24 25 26 27 28      20 21 22 23 24 25 26\n",
            "29 30                     27 28 29 30 31\n",
            "\n"
          ]
        }
      ]
    },
    {
      "cell_type": "markdown",
      "metadata": {
        "id": "BsyCofFDvcPH"
      },
      "source": [
        "`month()` 함수를 사용하면 월만 표시합니다."
      ]
    },
    {
      "cell_type": "code",
      "metadata": {
        "colab": {
          "base_uri": "https://localhost:8080/"
        },
        "id": "4YIQcYJCaGxo",
        "outputId": "43b6469c-c15d-46ec-f415-0f40053d2de7"
      },
      "source": [
        "print(calendar.month(2021, 10))"
      ],
      "execution_count": null,
      "outputs": [
        {
          "output_type": "stream",
          "name": "stdout",
          "text": [
            "    October 2021\n",
            "Mo Tu We Th Fr Sa Su\n",
            "             1  2  3\n",
            " 4  5  6  7  8  9 10\n",
            "11 12 13 14 15 16 17\n",
            "18 19 20 21 22 23 24\n",
            "25 26 27 28 29 30 31\n",
            "\n"
          ]
        }
      ]
    },
    {
      "cell_type": "markdown",
      "metadata": {
        "id": "vJmEDgUzaOOe"
      },
      "source": [
        "`monthrange()` 함수를 사용하면 특정한 달의 1일의 요일과 날짜 수를 표시합니다. 요일은 숫자로 표현되는데 월요일은 0, 화요일은 1, 수요일은 2 ... 일요일은 6입니다."
      ]
    },
    {
      "cell_type": "code",
      "metadata": {
        "colab": {
          "base_uri": "https://localhost:8080/"
        },
        "id": "IbGZnDWfa32z",
        "outputId": "c0326e56-0ae7-4299-f7d0-f0d73b0df569"
      },
      "source": [
        "print(calendar.monthrange(2021, 10))"
      ],
      "execution_count": null,
      "outputs": [
        {
          "output_type": "stream",
          "name": "stdout",
          "text": [
            "(4, 31)\n"
          ]
        }
      ]
    },
    {
      "cell_type": "markdown",
      "metadata": {
        "id": "-ZwIeTmu0nfY"
      },
      "source": [
        "`firstweekday()` 함수를 사용하면 일주일의 시작 요일을 구할 수 있습니다. 기본값은 월요일인 0입니다."
      ]
    },
    {
      "cell_type": "code",
      "metadata": {
        "colab": {
          "base_uri": "https://localhost:8080/"
        },
        "id": "YaJxYupM1Ke1",
        "outputId": "98ff757d-0299-43bf-d625-2f76df042e5e"
      },
      "source": [
        "calendar.firstweekday()"
      ],
      "execution_count": null,
      "outputs": [
        {
          "output_type": "execute_result",
          "data": {
            "text/plain": [
              "0"
            ]
          },
          "metadata": {},
          "execution_count": 199
        }
      ]
    },
    {
      "cell_type": "markdown",
      "metadata": {
        "id": "yWTwpcpY1gHS"
      },
      "source": [
        "`firstweekday()` 함수에서 월요일을 주의 시작 요일로 표현합니다. 이 시작 요일을 바꾸려면 `setfirstweekday(요일을 나타내는 숫자)` 함수를 사용합니다. 요일을 나타내는 숫자 대신 `calendar.SUNDAY` 형식으로 인자를 지정할 수 있습니다."
      ]
    },
    {
      "cell_type": "code",
      "metadata": {
        "colab": {
          "base_uri": "https://localhost:8080/"
        },
        "id": "a8ECEc9i2sHc",
        "outputId": "6ec36bea-b52f-4cf7-9d95-ebc8c57f9bc1"
      },
      "source": [
        "calendar.setfirstweekday(6) # 또는 `calendar.SUNDAY`로 지정합니다.\n",
        "print(calendar.month(2021, 10))\n",
        "print(f'달력에서 첫 주의 시작을 0인 월요일에서 {calendar.firstweekday()}인 일요일로 바꿉니다.')"
      ],
      "execution_count": null,
      "outputs": [
        {
          "output_type": "stream",
          "name": "stdout",
          "text": [
            "    October 2021\n",
            "Su Mo Tu We Th Fr Sa\n",
            "                1  2\n",
            " 3  4  5  6  7  8  9\n",
            "10 11 12 13 14 15 16\n",
            "17 18 19 20 21 22 23\n",
            "24 25 26 27 28 29 30\n",
            "31\n",
            "\n",
            "달력에서 첫 주의 시작을 0인 월요일에서 6인 일요일로 바꿉니다.\n"
          ]
        }
      ]
    },
    {
      "cell_type": "markdown",
      "metadata": {
        "id": "mw8M_TnK4Vj0"
      },
      "source": [
        "`weekday()` 함수는 날짜에 해당하는 요일을 숫자로 출력합니다."
      ]
    },
    {
      "cell_type": "code",
      "metadata": {
        "colab": {
          "base_uri": "https://localhost:8080/"
        },
        "id": "aR88BJiu4NZ_",
        "outputId": "fa280534-19d6-400e-8785-42cfde4fa5a5"
      },
      "source": [
        "print(calendar.weekday(2021, 10, 5))"
      ],
      "execution_count": null,
      "outputs": [
        {
          "output_type": "stream",
          "name": "stdout",
          "text": [
            "1\n"
          ]
        }
      ]
    },
    {
      "cell_type": "markdown",
      "metadata": {
        "id": "P539THIhQYmt"
      },
      "source": [
        "`isleap()` 함수는 윤년인 해인지 여부를 출력합니다. 윤년이면 True입니다."
      ]
    },
    {
      "cell_type": "code",
      "metadata": {
        "colab": {
          "base_uri": "https://localhost:8080/"
        },
        "id": "RI48KTlpRI7A",
        "outputId": "a3ae8fd9-531d-4168-d9c4-c1efa7f1ec13"
      },
      "source": [
        "print(calendar.isleap(2021))\n",
        "print(calendar.isleap(2020))\n",
        "print(calendar.isleap(2019))\n",
        "print(calendar.isleap(2018))"
      ],
      "execution_count": null,
      "outputs": [
        {
          "output_type": "stream",
          "name": "stdout",
          "text": [
            "False\n",
            "True\n",
            "False\n",
            "False\n"
          ]
        }
      ]
    },
    {
      "cell_type": "markdown",
      "metadata": {
        "id": "688jQoaLvJ2o"
      },
      "source": [
        "# **18. 패키지**"
      ]
    },
    {
      "cell_type": "markdown",
      "metadata": {
        "id": "TeASZz-zRu8m"
      },
      "source": [
        "여러 모듈을 한데 모아 놓은 것을 **패키지(pakage)**라고 부릅니다. 수많은 모듈을 모아서 패키지로 생성하면 코드를 효율적으로 다룰 수 있습니다.\n",
        "\n",
        "아래는 `helicopter`라는 이름을 가진 패키지의 구조에 대한 예시입니다.\n",
        "\n",
        "```\n",
        "\\--helicopter\n",
        "   |   __init__.py\n",
        "   |\n",
        "   +---go\n",
        "   |      go_up.py\n",
        "   |      go_down.py\n",
        "   |      go_right.py\n",
        "   |      go_left.py\n",
        "   |      __init__.py\n",
        "   |\n",
        "   +---stop\n",
        "   |      take_off.py\n",
        "   |      land.py\n",
        "   |      __init__.py\n",
        "   |\n",
        "   \\---inspect\n",
        "          full_check.py\n",
        "          part_check.py\n",
        "          __init__.py\n",
        "```\n",
        "\n",
        "패키지인 `helicopter`는 폴더 형식으로 구성됩니다. 이 패키지(폴더)안에 여러 폴더와 파일(모듈)이 포함되어 있습니다. 먼저 `helicopter` 폴더에 `__init__.py` 파일이 들어있고, `go`, `stop`, `inspect` 폴더에 각각 다른 파일(모듈)과 `__init__.py` 파일이 들어있습니다.\n",
        "\n",
        "참고로 각 폴더에 들어있는 `__init__.py` 파일은 패키지의 일부를 나타냅니다. 이 파일 안에 패키지 초기화 코드를 포함시킬 수도 있고 공백 파일로 형성할 수도 있습니다. 파이썬 버전이 업그레이드되면서 불필요하게 된 파일이지만 하위 호환성을 고려하여 파일을 꼭 생성하는 편이 현명합니다. "
      ]
    },
    {
      "cell_type": "markdown",
      "metadata": {
        "id": "0pmwaJmQSVb8"
      },
      "source": [
        "## **18.1. 패키지 생성하기**"
      ]
    },
    {
      "cell_type": "markdown",
      "metadata": {
        "id": "uiZ1Z5HgXUtw"
      },
      "source": [
        "위에서 예시한 `helicopter` 패키지를 생성하겠습니다. 먼저 구글 드라이브의 `/content/gdrive/MyDrive/Python_for_Data_Analytics_Science` 폴더에 `test_packages` 폴더를 생성하겠습니다."
      ]
    },
    {
      "cell_type": "code",
      "metadata": {
        "id": "pJfuxmjYmQbp",
        "colab": {
          "base_uri": "https://localhost:8080/"
        },
        "outputId": "eb602c28-4b6e-4bb5-d05b-cef8c5a3e8ad"
      },
      "source": [
        "mkdir /content/gdrive/MyDrive/Python_for_Data_Analytics_Science/test_packages"
      ],
      "execution_count": null,
      "outputs": [
        {
          "output_type": "stream",
          "name": "stdout",
          "text": [
            "mkdir: cannot create directory ‘/content/gdrive/MyDrive/Python_for_Data_Analytics_Science/test_packages’: File exists\n"
          ]
        }
      ]
    },
    {
      "cell_type": "markdown",
      "metadata": {
        "id": "aOsAW0VYfoYF"
      },
      "source": [
        "`test_packages` 폴더 안에 `helicopter` 폴더를 생성하겠습니다."
      ]
    },
    {
      "cell_type": "code",
      "metadata": {
        "id": "P5LFNn3JdrFv",
        "colab": {
          "base_uri": "https://localhost:8080/"
        },
        "outputId": "5e73c335-a66f-44aa-b242-cc5c20b86a4f"
      },
      "source": [
        "mkdir /content/gdrive/MyDrive/Python_for_Data_Analytics_Science/test_packages/helicopter"
      ],
      "execution_count": null,
      "outputs": [
        {
          "output_type": "stream",
          "name": "stdout",
          "text": [
            "mkdir: cannot create directory ‘/content/gdrive/MyDrive/Python_for_Data_Analytics_Science/test_packages/helicopter’: File exists\n"
          ]
        }
      ]
    },
    {
      "cell_type": "markdown",
      "metadata": {
        "id": "MqCsftAef4it"
      },
      "source": [
        "이제 `helicopter` 폴더 안에 `__init__.py` 파일을 생성하겠습니다. 예시이므로 공백 파일로 생성하겠습니다. 아래에 주석으로 `#None`이라고 달아뒀습니다. 아무 내용도 넣지 않으면 매직 명령어가 작동하지 않습니다."
      ]
    },
    {
      "cell_type": "code",
      "metadata": {
        "colab": {
          "base_uri": "https://localhost:8080/"
        },
        "id": "z2SmX7rAgPWe",
        "outputId": "95d3918c-426b-4fcd-a9eb-9d29e7dbc920"
      },
      "source": [
        "%%writefile /content/gdrive/MyDrive/Python_for_Data_Analytics_Science/test_packages/helicopter/__init__.py\n",
        "# None"
      ],
      "execution_count": null,
      "outputs": [
        {
          "output_type": "stream",
          "name": "stdout",
          "text": [
            "Overwriting /content/gdrive/MyDrive/Python_for_Data_Analytics_Science/test_packages/helicopter/__init__.py\n"
          ]
        }
      ]
    },
    {
      "cell_type": "markdown",
      "metadata": {
        "id": "I6AZNQlNn8a7"
      },
      "source": [
        "`helicopter` 폴더 안에 `go` 폴더를 만들고 `__init__.py` 파일을 생성하겠습니다. 이 파일 역시 공백 파일입니다."
      ]
    },
    {
      "cell_type": "code",
      "metadata": {
        "id": "hQTVVWwNhXT5",
        "colab": {
          "base_uri": "https://localhost:8080/"
        },
        "outputId": "e6ab0c8c-ad98-4ed3-9ff3-2e7564b46724"
      },
      "source": [
        "mkdir /content/gdrive/MyDrive/Python_for_Data_Analytics_Science/test_packages/helicopter/go"
      ],
      "execution_count": null,
      "outputs": [
        {
          "output_type": "stream",
          "name": "stdout",
          "text": [
            "mkdir: cannot create directory ‘/content/gdrive/MyDrive/Python_for_Data_Analytics_Science/test_packages/helicopter/go’: File exists\n"
          ]
        }
      ]
    },
    {
      "cell_type": "code",
      "metadata": {
        "colab": {
          "base_uri": "https://localhost:8080/"
        },
        "id": "cmnoo_40ha9r",
        "outputId": "40332aaa-7577-4559-ed2a-07fcfb90871d"
      },
      "source": [
        "%%writefile /content/gdrive/MyDrive/Python_for_Data_Analytics_Science/test_packages/helicopter/go/__init__.py\n",
        "# None"
      ],
      "execution_count": null,
      "outputs": [
        {
          "output_type": "stream",
          "name": "stdout",
          "text": [
            "Overwriting /content/gdrive/MyDrive/Python_for_Data_Analytics_Science/test_packages/helicopter/go/__init__.py\n"
          ]
        }
      ]
    },
    {
      "cell_type": "markdown",
      "metadata": {
        "id": "FYju8AC4o9MM"
      },
      "source": [
        "이제 `go` 폴더 안에 파일을 만들겠습니다. `go_up.py` 파일과 `go_down.py` 파일만 만들겠습니다. 이 파일들은 `go` 폴더 안에 분류한 모듈입니다."
      ]
    },
    {
      "cell_type": "code",
      "metadata": {
        "colab": {
          "base_uri": "https://localhost:8080/"
        },
        "id": "Zs3likj1n5pz",
        "outputId": "8f787e43-31d6-4761-b44e-26669154d330"
      },
      "source": [
        "%%writefile /content/gdrive/MyDrive/Python_for_Data_Analytics_Science/test_packages/helicopter/go/go_up.py\n",
        "\n",
        "def go_up_fast():\n",
        "    print('고도를 빠르게 올립니다.')\n",
        "\n",
        "def go_up_slow():\n",
        "    print('고도를 천천히 올립니다.')"
      ],
      "execution_count": null,
      "outputs": [
        {
          "output_type": "stream",
          "name": "stdout",
          "text": [
            "Overwriting /content/gdrive/MyDrive/Python_for_Data_Analytics_Science/test_packages/helicopter/go/go_up.py\n"
          ]
        }
      ]
    },
    {
      "cell_type": "code",
      "metadata": {
        "colab": {
          "base_uri": "https://localhost:8080/"
        },
        "id": "wOxx0dYM0hBB",
        "outputId": "145f69b0-67a1-4519-9cbb-bc0808b98e40"
      },
      "source": [
        "%%writefile /content/gdrive/MyDrive/Python_for_Data_Analytics_Science/test_packages/helicopter/go/go_down.py\n",
        "\n",
        "def go_down_fast():\n",
        "    print('고도를 빠르게 내립니다.')\n",
        "\n",
        "def go_down_slow():\n",
        "    print('고도를 천천히 내립니다.')"
      ],
      "execution_count": null,
      "outputs": [
        {
          "output_type": "stream",
          "name": "stdout",
          "text": [
            "Overwriting /content/gdrive/MyDrive/Python_for_Data_Analytics_Science/test_packages/helicopter/go/go_down.py\n"
          ]
        }
      ]
    },
    {
      "cell_type": "markdown",
      "metadata": {
        "id": "VU9irIW5SdkP"
      },
      "source": [
        "## **18.2. 패키지 사용하기**"
      ]
    },
    {
      "cell_type": "markdown",
      "metadata": {
        "id": "MgVvezOGteUd"
      },
      "source": [
        "패키지의 모듈, 클래스, 메서드, 함수를 호출하는 방법은 기존 방법과 같습니다. 폴더 내 모듈을 임포트 하려면 `import 패키지명.폴더명.모듈명` 형식으로 선언하면 됩니다. 마찬가지로 모듈 내 클래스를 호출하려면 `import 패키지명.폴더명.모듈명.클래스명`을 선언합니다.\n",
        "\n",
        "아래에 몇 가지 예제를 들겠습니다. 먼저 `go_up` 모듈을 임포트 하고 두 메서드를 실행하겠습니다."
      ]
    },
    {
      "cell_type": "code",
      "metadata": {
        "colab": {
          "base_uri": "https://localhost:8080/"
        },
        "id": "sW9mTv9DuQVx",
        "outputId": "fb854eb2-bcb5-4aa0-f24c-96d1ee06446f"
      },
      "source": [
        "import test_packages.helicopter.go.go_up\n",
        "\n",
        "test_packages.helicopter.go.go_up.go_up_fast()\n",
        "test_packages.helicopter.go.go_up.go_up_slow()"
      ],
      "execution_count": null,
      "outputs": [
        {
          "output_type": "stream",
          "name": "stdout",
          "text": [
            "고도를 빠르게 올립니다.\n",
            "고도를 천천히 올립니다.\n"
          ]
        }
      ]
    },
    {
      "cell_type": "markdown",
      "metadata": {
        "id": "8Qfhb6O1v_iO"
      },
      "source": [
        "메서드까지 접근하여 호출하는 코드가 매우 길게 늘어집니다. 이런 경우에는 `from 패키지명 또는 폴더명 import 임포트할 것` 형식으로 짧게 서술할 수 있습니다."
      ]
    },
    {
      "cell_type": "code",
      "metadata": {
        "colab": {
          "base_uri": "https://localhost:8080/"
        },
        "id": "OSxRXDPiwik_",
        "outputId": "ba806fa8-eac6-45da-eb41-d87d67daad09"
      },
      "source": [
        "from test_packages.helicopter.go import go_up\n",
        "\n",
        "go_up.go_up_fast()"
      ],
      "execution_count": null,
      "outputs": [
        {
          "output_type": "stream",
          "name": "stdout",
          "text": [
            "고도를 빠르게 올립니다.\n"
          ]
        }
      ]
    },
    {
      "cell_type": "markdown",
      "metadata": {
        "id": "T24fShMUy0wG"
      },
      "source": [
        "메서드만 코드로 작성해서 호출하겠습니다."
      ]
    },
    {
      "cell_type": "code",
      "metadata": {
        "colab": {
          "base_uri": "https://localhost:8080/"
        },
        "id": "smr6QSnfy6tM",
        "outputId": "cb609777-a543-4a4e-f5e2-3a664212ed4e"
      },
      "source": [
        "from test_packages.helicopter.go.go_up import go_up_fast\n",
        "go_up_fast()"
      ],
      "execution_count": null,
      "outputs": [
        {
          "output_type": "stream",
          "name": "stdout",
          "text": [
            "고도를 빠르게 올립니다.\n"
          ]
        }
      ]
    },
    {
      "cell_type": "markdown",
      "metadata": {
        "id": "WqEI_duQzMMd"
      },
      "source": [
        "모든 메서드를 호출하려면 `import *` 형식을 취합니다. 필요한 메서드만 호출하려면 `import 메서드명, 메서드명, ..., 메서드명` 형식을 취합니다."
      ]
    },
    {
      "cell_type": "code",
      "metadata": {
        "id": "wfVKwky7zWP_"
      },
      "source": [
        "# 모든 메서드를 선언합니다.\n",
        "from test_packages.helicopter.go.go_up import *\n",
        "\n",
        "# 필요한 메서드만 선언합니다.\n",
        "from test_packages.helicopter.go.go_up import go_up_fast, go_up_slow"
      ],
      "execution_count": null,
      "outputs": []
    },
    {
      "cell_type": "markdown",
      "metadata": {
        "id": "_HUGJ7Tr0G4A"
      },
      "source": [
        "참고로 모듈, 클래스, 메서드, 변수 모두 `as 별칭` 형식으로 별칭을 붙일 수 있습니다. 이는 위에서 다뤘던 내용이므로 생략하겠습니다."
      ]
    },
    {
      "cell_type": "markdown",
      "metadata": {
        "id": "UX2byMPV0bJ-"
      },
      "source": [
        "# **마치며**"
      ]
    },
    {
      "cell_type": "markdown",
      "metadata": {
        "id": "xp9UcR9Y0iOk"
      },
      "source": [
        "일단 눈에 띄는 개념부터 정리했습니다. 보강할 내용이 많을 줄로 사료합니다. 지속적으로 보강하겠습니다."
      ]
    }
  ]
}