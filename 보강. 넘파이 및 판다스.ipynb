{
  "nbformat": 4,
  "nbformat_minor": 0,
  "metadata": {
    "colab": {
      "name": "보강. 넘파이 및 판다스.ipynb",
      "provenance": [],
      "collapsed_sections": [],
      "toc_visible": true,
      "authorship_tag": "ABX9TyOeqMzHKA9WbUAkmmNk8nmX",
      "include_colab_link": true
    },
    "kernelspec": {
      "name": "python3",
      "display_name": "Python 3"
    },
    "language_info": {
      "name": "python"
    }
  },
  "cells": [
    {
      "cell_type": "markdown",
      "metadata": {
        "id": "view-in-github",
        "colab_type": "text"
      },
      "source": [
        "<a href=\"https://colab.research.google.com/github/LeeSeungwon89/Python_for_Data_Analytics_Science/blob/main/%EB%B3%B4%EA%B0%95.%20%EB%84%98%ED%8C%8C%EC%9D%B4%20%EB%B0%8F%20%ED%8C%90%EB%8B%A4%EC%8A%A4.ipynb\" target=\"_parent\"><img src=\"https://colab.research.google.com/assets/colab-badge.svg\" alt=\"Open In Colab\"/></a>"
      ]
    },
    {
      "cell_type": "markdown",
      "source": [
        "# **1. 넘파이**"
      ],
      "metadata": {
        "id": "x9tQUPVmXPqf"
      }
    },
    {
      "cell_type": "markdown",
      "source": [
        "## **1.1. ndarray의 데이터 타입**"
      ],
      "metadata": {
        "id": "nnltO7tp3G56"
      }
    },
    {
      "cell_type": "markdown",
      "source": [
        "다른 데이터 유형이 섞인 리스트를 `ndarray`로 바꾸면 크기가 더 큰 데이터 타입으로 형 변환을 수행합니다."
      ],
      "metadata": {
        "id": "D1tuubXT0ghb"
      }
    },
    {
      "cell_type": "code",
      "source": [
        "import numpy as np"
      ],
      "metadata": {
        "id": "hr2moDRu1BIC"
      },
      "execution_count": null,
      "outputs": []
    },
    {
      "cell_type": "code",
      "source": [
        "a = [1, 2, 3.0]\n",
        "array1 = np.array(a)\n",
        "\n",
        "print(array1)\n",
        "print(array1.dtype)"
      ],
      "metadata": {
        "colab": {
          "base_uri": "https://localhost:8080/"
        },
        "id": "a6rJrETG1GaZ",
        "outputId": "7b54733f-6f2d-4e6e-d4e8-ed7c1ecc6d8c"
      },
      "execution_count": null,
      "outputs": [
        {
          "output_type": "stream",
          "name": "stdout",
          "text": [
            "[1. 2. 3.]\n",
            "float64\n"
          ]
        }
      ]
    },
    {
      "cell_type": "code",
      "execution_count": null,
      "metadata": {
        "colab": {
          "base_uri": "https://localhost:8080/"
        },
        "id": "lZu-JyJn_gy7",
        "outputId": "feaf85ce-e0be-4a87-b2f8-7b71a1c44bb3"
      },
      "outputs": [
        {
          "output_type": "stream",
          "name": "stdout",
          "text": [
            "['1' '2' 'three']\n",
            "<U21\n"
          ]
        }
      ],
      "source": [
        "b = [1, 2, 'three']\n",
        "array2 = np.array(b)\n",
        " \n",
        "print(array2)\n",
        "print(array2.dtype)"
      ]
    },
    {
      "cell_type": "markdown",
      "source": [
        "`astype()` 메서드로 `ndarray`의 데이터 타입을 바꿀 수 있습니다. 데이터 타입을 변경하는 이유는 대용량 데이터의 `ndarray`를 생성할 때 필요한 메모리를 줄이기 위함입니다. 데이터 타입이 `float`인 경우 `int`로도 충분하다면 `int`로 형 변환을 시도할 수 있습니다. "
      ],
      "metadata": {
        "id": "Q8oeZc0m1SLh"
      }
    },
    {
      "cell_type": "code",
      "source": [
        "array_int = np.array([1, 2, 3])\n",
        "array_float = array_int.astype('float64')\n",
        "\n",
        "print(array_float)\n",
        "print(array_float.dtype)"
      ],
      "metadata": {
        "colab": {
          "base_uri": "https://localhost:8080/"
        },
        "id": "f3lCtALu2kRG",
        "outputId": "3bc5344a-5ab7-49fe-807f-78e3ec2dc3c1"
      },
      "execution_count": null,
      "outputs": [
        {
          "output_type": "stream",
          "name": "stdout",
          "text": [
            "[1. 2. 3.]\n",
            "float64\n"
          ]
        }
      ]
    },
    {
      "cell_type": "markdown",
      "source": [
        "## **1.2. 행렬 정렬**"
      ],
      "metadata": {
        "id": "iKOdAf9hYpJW"
      }
    },
    {
      "cell_type": "markdown",
      "source": [
        "`np.sort()`처럼 `sort()` 메서드를 호출하거나 `ndarray.sort()`처럼 행렬에 바로 `sort()` 메서드를 호출하여 행렬 정렬을 수행할 수 있습니다. 다만 두 가지 방식에는 차이점이 있습니다. 먼저 `np.sort()` 방식을 구현해보겠습니다."
      ],
      "metadata": {
        "id": "f9uCQdbhYwX5"
      }
    },
    {
      "cell_type": "code",
      "source": [
        "array_example = np.array([6, 2, 4, 1])\n",
        "print('원래 행렬:', array_example)\n",
        "print()\n",
        "\n",
        "array_sorted = np.sort(array_example)\n",
        "print('정렬한 행렬:', array_sorted)\n",
        "print('원래 행렬:', array_example)"
      ],
      "metadata": {
        "colab": {
          "base_uri": "https://localhost:8080/"
        },
        "id": "__DxmrV9hOPQ",
        "outputId": "8a074e78-d641-4041-f9c9-b73ba6a6cab6"
      },
      "execution_count": null,
      "outputs": [
        {
          "output_type": "stream",
          "name": "stdout",
          "text": [
            "원래 행렬: [6 2 4 1]\n",
            "\n",
            "정렬한 행렬: [1 2 4 6]\n",
            "원래 행렬: [6 2 4 1]\n"
          ]
        }
      ]
    },
    {
      "cell_type": "markdown",
      "source": [
        "이 방식은 원래 행렬인 `array_example`을 그대로 유지한 채 따로 행렬 정렬을 수행합니다.\n",
        "\n",
        "반면 `ndarray.sort()` 방식은 원래 행렬 자체를 정렬합니다. 구현해보겠습니다."
      ],
      "metadata": {
        "id": "znqPa8F0kW34"
      }
    },
    {
      "cell_type": "code",
      "source": [
        "array_example = np.array([6, 2, 4, 1])\n",
        "print('원래 행렬:', array_example)\n",
        "print()\n",
        "\n",
        "array_sorted = array_example.sort()\n",
        "print('정렬한 행렬:', array_sorted)\n",
        "print('원래 행렬:', array_example)"
      ],
      "metadata": {
        "colab": {
          "base_uri": "https://localhost:8080/"
        },
        "id": "5S-XilIGlJgT",
        "outputId": "2e87a728-9328-4492-b66d-029fd8341ecf"
      },
      "execution_count": null,
      "outputs": [
        {
          "output_type": "stream",
          "name": "stdout",
          "text": [
            "원래 행렬: [6 2 4 1]\n",
            "\n",
            "정렬한 행렬: None\n",
            "원래 행렬: [1 2 4 6]\n"
          ]
        }
      ]
    },
    {
      "cell_type": "markdown",
      "source": [
        "정렬한 행렬 객체인 `array_sorted`는 `None`이 되고 원래 행렬인 `array_example` 객체 자체를 영구적으로 정렬하여 바꿨습니다.\n",
        "\n",
        "넘파이의 `sort()` 메서드는 기본적으로 오름차순 정렬을 수행합니다. 내림차순으로 정렬하려면 메서드 뒤에 `[::-1]` 형식을 취합니다. 구현해보겠습니다."
      ],
      "metadata": {
        "id": "xeGA6UXylgCS"
      }
    },
    {
      "cell_type": "code",
      "source": [
        "array_example = np.array([6, 2, 4, 1])\n",
        "array_sorted = np.sort(array_example)[::-1]\n",
        "\n",
        "print('정렬한 행렬:', array_sorted)"
      ],
      "metadata": {
        "colab": {
          "base_uri": "https://localhost:8080/"
        },
        "id": "d3KyVaTMnbOA",
        "outputId": "486ecf46-c837-4cc4-d065-6a2a3e1739a2"
      },
      "execution_count": null,
      "outputs": [
        {
          "output_type": "stream",
          "name": "stdout",
          "text": [
            "정렬한 행렬: [6 4 2 1]\n"
          ]
        }
      ]
    },
    {
      "cell_type": "markdown",
      "source": [
        "행 방향(`axis=0`), 열 방향(`axis=1`)으로 정렬할 수도 있습니다. `sort()` 메서드에 매개변수를 `axis=0` 또는 `axis=1`로 지정하면 됩니다. 먼저 `axis=0`으로 지정해보겠습니다."
      ],
      "metadata": {
        "id": "bbnjbyC8oUec"
      }
    },
    {
      "cell_type": "code",
      "source": [
        "array_2d_example = np.array([[6, 2],\n",
        "                             [4, 1]])\n",
        "array_sorted = np.sort(array_2d_example, axis=0)\n",
        "\n",
        "print('정렬한 행렬:\\n', array_sorted)"
      ],
      "metadata": {
        "colab": {
          "base_uri": "https://localhost:8080/"
        },
        "id": "mLHj8KG1oq7y",
        "outputId": "a01a2ce0-8631-41e8-ad4e-33ecc5e17dd2"
      },
      "execution_count": null,
      "outputs": [
        {
          "output_type": "stream",
          "name": "stdout",
          "text": [
            "정렬한 행렬:\n",
            " [[4 1]\n",
            " [6 2]]\n"
          ]
        }
      ]
    },
    {
      "cell_type": "markdown",
      "source": [
        "이번엔 `axis=1`로 지정해보겠습니다."
      ],
      "metadata": {
        "id": "Ngau1QKapNPe"
      }
    },
    {
      "cell_type": "code",
      "source": [
        "array_2d_example = np.array([[6, 2],\n",
        "                             [4, 1]])\n",
        "array_sorted = np.sort(array_2d_example, axis=1)\n",
        "\n",
        "print('정렬한 행렬:\\n', array_sorted)"
      ],
      "metadata": {
        "colab": {
          "base_uri": "https://localhost:8080/"
        },
        "id": "IvbIWnT5pQEg",
        "outputId": "dd376b94-2f8e-46e2-c8d8-a3782d9b277e"
      },
      "execution_count": null,
      "outputs": [
        {
          "output_type": "stream",
          "name": "stdout",
          "text": [
            "정렬한 행렬:\n",
            " [[2 6]\n",
            " [1 4]]\n"
          ]
        }
      ]
    },
    {
      "cell_type": "markdown",
      "source": [
        "행렬을 정렬했을 때 원래 행렬의 원소에 대한 인덱스를 넘파이의 `argsort()` 메서드를 호출하여 얻을 수 있습니다. 확인해보겠습니다. "
      ],
      "metadata": {
        "id": "uSSk1oK5pm3V"
      }
    },
    {
      "cell_type": "code",
      "source": [
        "array_example = np.array([6, 2, 4, 1])\n",
        "array_sorted_indices = np.argsort(array_example)\n",
        "\n",
        "print(array_sorted_indices)\n",
        "print(type(array_sorted_indices))"
      ],
      "metadata": {
        "colab": {
          "base_uri": "https://localhost:8080/"
        },
        "id": "stYXH0U0p5Xz",
        "outputId": "f1507fc4-a310-48f0-d038-c57b2c8bf303"
      },
      "execution_count": null,
      "outputs": [
        {
          "output_type": "stream",
          "name": "stdout",
          "text": [
            "[3 1 2 0]\n",
            "<class 'numpy.ndarray'>\n"
          ]
        }
      ]
    },
    {
      "cell_type": "markdown",
      "source": [
        "내림차순으로 정렬하려면 메서드 뒤에 `[::-1]` 형식을 취합니다. 구현해보겠습니다. "
      ],
      "metadata": {
        "id": "b5o-b1AC1esC"
      }
    },
    {
      "cell_type": "code",
      "source": [
        "array_example = np.array([6, 2, 4, 1])\n",
        "array_sorted_indices = np.argsort(array_example)[::-1]\n",
        "\n",
        "print(array_sorted_indices)\n",
        "print(type(array_sorted_indices))"
      ],
      "metadata": {
        "colab": {
          "base_uri": "https://localhost:8080/"
        },
        "id": "4nal-tho1b2J",
        "outputId": "66b4ffe6-0d36-445d-e247-f45dfd41fa43"
      },
      "execution_count": null,
      "outputs": [
        {
          "output_type": "stream",
          "name": "stdout",
          "text": [
            "[0 2 1 3]\n",
            "<class 'numpy.ndarray'>\n"
          ]
        }
      ]
    },
    {
      "cell_type": "markdown",
      "source": [
        "# **2. 판다스**"
      ],
      "metadata": {
        "id": "XceZmw6tXWcy"
      }
    },
    {
      "cell_type": "markdown",
      "source": [
        "타이타닉 데이터셋을 가져오겠습니다."
      ],
      "metadata": {
        "id": "hVo4cvnreMiJ"
      }
    },
    {
      "cell_type": "code",
      "source": [
        "from google.colab import drive\n",
        "drive.mount('/content/gdrive/')"
      ],
      "metadata": {
        "colab": {
          "base_uri": "https://localhost:8080/"
        },
        "id": "VmtRuBVnEMBI",
        "outputId": "9428a1fa-085f-40af-8792-205ab814a73b"
      },
      "execution_count": 3,
      "outputs": [
        {
          "output_type": "stream",
          "name": "stdout",
          "text": [
            "Drive already mounted at /content/gdrive/; to attempt to forcibly remount, call drive.mount(\"/content/gdrive/\", force_remount=True).\n"
          ]
        }
      ]
    },
    {
      "cell_type": "code",
      "source": [
        "import pandas as pd\n",
        "\n",
        "titanic_df = pd.read_csv('/content/gdrive/MyDrive/titanic/titanic_train.csv')\n",
        "titanic_df.head()"
      ],
      "metadata": {
        "colab": {
          "base_uri": "https://localhost:8080/",
          "height": 206
        },
        "id": "XxcYhRgCV41T",
        "outputId": "8c8a55ac-c334-4de1-ea51-9630054ee29e"
      },
      "execution_count": 12,
      "outputs": [
        {
          "output_type": "execute_result",
          "data": {
            "text/html": [
              "\n",
              "  <div id=\"df-942b650c-98d2-400e-92ca-8083b7e21b03\">\n",
              "    <div class=\"colab-df-container\">\n",
              "      <div>\n",
              "<style scoped>\n",
              "    .dataframe tbody tr th:only-of-type {\n",
              "        vertical-align: middle;\n",
              "    }\n",
              "\n",
              "    .dataframe tbody tr th {\n",
              "        vertical-align: top;\n",
              "    }\n",
              "\n",
              "    .dataframe thead th {\n",
              "        text-align: right;\n",
              "    }\n",
              "</style>\n",
              "<table border=\"1\" class=\"dataframe\">\n",
              "  <thead>\n",
              "    <tr style=\"text-align: right;\">\n",
              "      <th></th>\n",
              "      <th>PassengerId</th>\n",
              "      <th>Survived</th>\n",
              "      <th>Pclass</th>\n",
              "      <th>Name</th>\n",
              "      <th>Sex</th>\n",
              "      <th>Age</th>\n",
              "      <th>SibSp</th>\n",
              "      <th>Parch</th>\n",
              "      <th>Ticket</th>\n",
              "      <th>Fare</th>\n",
              "      <th>Cabin</th>\n",
              "      <th>Embarked</th>\n",
              "    </tr>\n",
              "  </thead>\n",
              "  <tbody>\n",
              "    <tr>\n",
              "      <th>0</th>\n",
              "      <td>1</td>\n",
              "      <td>0</td>\n",
              "      <td>3</td>\n",
              "      <td>Braund, Mr. Owen Harris</td>\n",
              "      <td>male</td>\n",
              "      <td>22.0</td>\n",
              "      <td>1</td>\n",
              "      <td>0</td>\n",
              "      <td>A/5 21171</td>\n",
              "      <td>7.2500</td>\n",
              "      <td>NaN</td>\n",
              "      <td>S</td>\n",
              "    </tr>\n",
              "    <tr>\n",
              "      <th>1</th>\n",
              "      <td>2</td>\n",
              "      <td>1</td>\n",
              "      <td>1</td>\n",
              "      <td>Cumings, Mrs. John Bradley (Florence Briggs Th...</td>\n",
              "      <td>female</td>\n",
              "      <td>38.0</td>\n",
              "      <td>1</td>\n",
              "      <td>0</td>\n",
              "      <td>PC 17599</td>\n",
              "      <td>71.2833</td>\n",
              "      <td>C85</td>\n",
              "      <td>C</td>\n",
              "    </tr>\n",
              "    <tr>\n",
              "      <th>2</th>\n",
              "      <td>3</td>\n",
              "      <td>1</td>\n",
              "      <td>3</td>\n",
              "      <td>Heikkinen, Miss. Laina</td>\n",
              "      <td>female</td>\n",
              "      <td>26.0</td>\n",
              "      <td>0</td>\n",
              "      <td>0</td>\n",
              "      <td>STON/O2. 3101282</td>\n",
              "      <td>7.9250</td>\n",
              "      <td>NaN</td>\n",
              "      <td>S</td>\n",
              "    </tr>\n",
              "    <tr>\n",
              "      <th>3</th>\n",
              "      <td>4</td>\n",
              "      <td>1</td>\n",
              "      <td>1</td>\n",
              "      <td>Futrelle, Mrs. Jacques Heath (Lily May Peel)</td>\n",
              "      <td>female</td>\n",
              "      <td>35.0</td>\n",
              "      <td>1</td>\n",
              "      <td>0</td>\n",
              "      <td>113803</td>\n",
              "      <td>53.1000</td>\n",
              "      <td>C123</td>\n",
              "      <td>S</td>\n",
              "    </tr>\n",
              "    <tr>\n",
              "      <th>4</th>\n",
              "      <td>5</td>\n",
              "      <td>0</td>\n",
              "      <td>3</td>\n",
              "      <td>Allen, Mr. William Henry</td>\n",
              "      <td>male</td>\n",
              "      <td>35.0</td>\n",
              "      <td>0</td>\n",
              "      <td>0</td>\n",
              "      <td>373450</td>\n",
              "      <td>8.0500</td>\n",
              "      <td>NaN</td>\n",
              "      <td>S</td>\n",
              "    </tr>\n",
              "  </tbody>\n",
              "</table>\n",
              "</div>\n",
              "      <button class=\"colab-df-convert\" onclick=\"convertToInteractive('df-942b650c-98d2-400e-92ca-8083b7e21b03')\"\n",
              "              title=\"Convert this dataframe to an interactive table.\"\n",
              "              style=\"display:none;\">\n",
              "        \n",
              "  <svg xmlns=\"http://www.w3.org/2000/svg\" height=\"24px\"viewBox=\"0 0 24 24\"\n",
              "       width=\"24px\">\n",
              "    <path d=\"M0 0h24v24H0V0z\" fill=\"none\"/>\n",
              "    <path d=\"M18.56 5.44l.94 2.06.94-2.06 2.06-.94-2.06-.94-.94-2.06-.94 2.06-2.06.94zm-11 1L8.5 8.5l.94-2.06 2.06-.94-2.06-.94L8.5 2.5l-.94 2.06-2.06.94zm10 10l.94 2.06.94-2.06 2.06-.94-2.06-.94-.94-2.06-.94 2.06-2.06.94z\"/><path d=\"M17.41 7.96l-1.37-1.37c-.4-.4-.92-.59-1.43-.59-.52 0-1.04.2-1.43.59L10.3 9.45l-7.72 7.72c-.78.78-.78 2.05 0 2.83L4 21.41c.39.39.9.59 1.41.59.51 0 1.02-.2 1.41-.59l7.78-7.78 2.81-2.81c.8-.78.8-2.07 0-2.86zM5.41 20L4 18.59l7.72-7.72 1.47 1.35L5.41 20z\"/>\n",
              "  </svg>\n",
              "      </button>\n",
              "      \n",
              "  <style>\n",
              "    .colab-df-container {\n",
              "      display:flex;\n",
              "      flex-wrap:wrap;\n",
              "      gap: 12px;\n",
              "    }\n",
              "\n",
              "    .colab-df-convert {\n",
              "      background-color: #E8F0FE;\n",
              "      border: none;\n",
              "      border-radius: 50%;\n",
              "      cursor: pointer;\n",
              "      display: none;\n",
              "      fill: #1967D2;\n",
              "      height: 32px;\n",
              "      padding: 0 0 0 0;\n",
              "      width: 32px;\n",
              "    }\n",
              "\n",
              "    .colab-df-convert:hover {\n",
              "      background-color: #E2EBFA;\n",
              "      box-shadow: 0px 1px 2px rgba(60, 64, 67, 0.3), 0px 1px 3px 1px rgba(60, 64, 67, 0.15);\n",
              "      fill: #174EA6;\n",
              "    }\n",
              "\n",
              "    [theme=dark] .colab-df-convert {\n",
              "      background-color: #3B4455;\n",
              "      fill: #D2E3FC;\n",
              "    }\n",
              "\n",
              "    [theme=dark] .colab-df-convert:hover {\n",
              "      background-color: #434B5C;\n",
              "      box-shadow: 0px 1px 3px 1px rgba(0, 0, 0, 0.15);\n",
              "      filter: drop-shadow(0px 1px 2px rgba(0, 0, 0, 0.3));\n",
              "      fill: #FFFFFF;\n",
              "    }\n",
              "  </style>\n",
              "\n",
              "      <script>\n",
              "        const buttonEl =\n",
              "          document.querySelector('#df-942b650c-98d2-400e-92ca-8083b7e21b03 button.colab-df-convert');\n",
              "        buttonEl.style.display =\n",
              "          google.colab.kernel.accessAllowed ? 'block' : 'none';\n",
              "\n",
              "        async function convertToInteractive(key) {\n",
              "          const element = document.querySelector('#df-942b650c-98d2-400e-92ca-8083b7e21b03');\n",
              "          const dataTable =\n",
              "            await google.colab.kernel.invokeFunction('convertToInteractive',\n",
              "                                                     [key], {});\n",
              "          if (!dataTable) return;\n",
              "\n",
              "          const docLinkHtml = 'Like what you see? Visit the ' +\n",
              "            '<a target=\"_blank\" href=https://colab.research.google.com/notebooks/data_table.ipynb>data table notebook</a>'\n",
              "            + ' to learn more about interactive tables.';\n",
              "          element.innerHTML = '';\n",
              "          dataTable['output_type'] = 'display_data';\n",
              "          await google.colab.output.renderOutput(dataTable, element);\n",
              "          const docLink = document.createElement('div');\n",
              "          docLink.innerHTML = docLinkHtml;\n",
              "          element.appendChild(docLink);\n",
              "        }\n",
              "      </script>\n",
              "    </div>\n",
              "  </div>\n",
              "  "
            ],
            "text/plain": [
              "   PassengerId  Survived  Pclass  ...     Fare Cabin  Embarked\n",
              "0            1         0       3  ...   7.2500   NaN         S\n",
              "1            2         1       1  ...  71.2833   C85         C\n",
              "2            3         1       3  ...   7.9250   NaN         S\n",
              "3            4         1       1  ...  53.1000  C123         S\n",
              "4            5         0       3  ...   8.0500   NaN         S\n",
              "\n",
              "[5 rows x 12 columns]"
            ]
          },
          "metadata": {},
          "execution_count": 12
        }
      ]
    },
    {
      "cell_type": "markdown",
      "source": [
        "## **2.1. 인덱스 변환하기**"
      ],
      "metadata": {
        "id": "0kIY-qBc28Wb"
      }
    },
    {
      "cell_type": "markdown",
      "source": [
        "판다스의 `reset_index()` 메서드를 호출하여 인덱스를 연속적인 숫자형으로 만들 수 있습니다. 대부분의 경우 고유 식별자 인덱스는 연속된 숫자형이 적합합니다. 먼저 'Pclass' 열의 각 레이블별 데이터 개수를 출력해보겠습니다."
      ],
      "metadata": {
        "id": "HQp7oWZgePdr"
      }
    },
    {
      "cell_type": "code",
      "source": [
        "titanic_pclass = titanic_df['Pclass']\n",
        "titanic_pclass_counts = titanic_pclass.value_counts()\n",
        "titanic_pclass_counts"
      ],
      "metadata": {
        "colab": {
          "base_uri": "https://localhost:8080/"
        },
        "id": "1J9S4E3XWf4I",
        "outputId": "e7b7821a-cfc2-410d-d8da-168b9994f364"
      },
      "execution_count": 22,
      "outputs": [
        {
          "output_type": "execute_result",
          "data": {
            "text/plain": [
              "3    491\n",
              "1    216\n",
              "2    184\n",
              "Name: Pclass, dtype: int64"
            ]
          },
          "metadata": {},
          "execution_count": 22
        }
      ]
    },
    {
      "cell_type": "markdown",
      "source": [
        "`titanic_pclass_counts`는 'Pclass'의 레이블이 식별자 인덱스이며 불규칙적입니다.\n",
        "\n",
        "`reset_index()` 메서드를 호출하여 연속적이고 규칙적인 int형 인덱스로 변환하겠습니다."
      ],
      "metadata": {
        "id": "kItp9YUefey9"
      }
    },
    {
      "cell_type": "code",
      "source": [
        "# 매개변수를 `inplace=True`로 지정하면 원본 자체를 바꿉니다.\n",
        "titanic_pclass_counts.reset_index(inplace=False)"
      ],
      "metadata": {
        "colab": {
          "base_uri": "https://localhost:8080/",
          "height": 143
        },
        "id": "JabCcX1PZEiF",
        "outputId": "2f5986bb-25dc-479d-8bb7-6e4c9ad0721f"
      },
      "execution_count": 20,
      "outputs": [
        {
          "output_type": "execute_result",
          "data": {
            "text/html": [
              "\n",
              "  <div id=\"df-b3907bc6-4de4-45ef-b323-010cb3182c5e\">\n",
              "    <div class=\"colab-df-container\">\n",
              "      <div>\n",
              "<style scoped>\n",
              "    .dataframe tbody tr th:only-of-type {\n",
              "        vertical-align: middle;\n",
              "    }\n",
              "\n",
              "    .dataframe tbody tr th {\n",
              "        vertical-align: top;\n",
              "    }\n",
              "\n",
              "    .dataframe thead th {\n",
              "        text-align: right;\n",
              "    }\n",
              "</style>\n",
              "<table border=\"1\" class=\"dataframe\">\n",
              "  <thead>\n",
              "    <tr style=\"text-align: right;\">\n",
              "      <th></th>\n",
              "      <th>index</th>\n",
              "      <th>Pclass</th>\n",
              "    </tr>\n",
              "  </thead>\n",
              "  <tbody>\n",
              "    <tr>\n",
              "      <th>0</th>\n",
              "      <td>3</td>\n",
              "      <td>491</td>\n",
              "    </tr>\n",
              "    <tr>\n",
              "      <th>1</th>\n",
              "      <td>1</td>\n",
              "      <td>216</td>\n",
              "    </tr>\n",
              "    <tr>\n",
              "      <th>2</th>\n",
              "      <td>2</td>\n",
              "      <td>184</td>\n",
              "    </tr>\n",
              "  </tbody>\n",
              "</table>\n",
              "</div>\n",
              "      <button class=\"colab-df-convert\" onclick=\"convertToInteractive('df-b3907bc6-4de4-45ef-b323-010cb3182c5e')\"\n",
              "              title=\"Convert this dataframe to an interactive table.\"\n",
              "              style=\"display:none;\">\n",
              "        \n",
              "  <svg xmlns=\"http://www.w3.org/2000/svg\" height=\"24px\"viewBox=\"0 0 24 24\"\n",
              "       width=\"24px\">\n",
              "    <path d=\"M0 0h24v24H0V0z\" fill=\"none\"/>\n",
              "    <path d=\"M18.56 5.44l.94 2.06.94-2.06 2.06-.94-2.06-.94-.94-2.06-.94 2.06-2.06.94zm-11 1L8.5 8.5l.94-2.06 2.06-.94-2.06-.94L8.5 2.5l-.94 2.06-2.06.94zm10 10l.94 2.06.94-2.06 2.06-.94-2.06-.94-.94-2.06-.94 2.06-2.06.94z\"/><path d=\"M17.41 7.96l-1.37-1.37c-.4-.4-.92-.59-1.43-.59-.52 0-1.04.2-1.43.59L10.3 9.45l-7.72 7.72c-.78.78-.78 2.05 0 2.83L4 21.41c.39.39.9.59 1.41.59.51 0 1.02-.2 1.41-.59l7.78-7.78 2.81-2.81c.8-.78.8-2.07 0-2.86zM5.41 20L4 18.59l7.72-7.72 1.47 1.35L5.41 20z\"/>\n",
              "  </svg>\n",
              "      </button>\n",
              "      \n",
              "  <style>\n",
              "    .colab-df-container {\n",
              "      display:flex;\n",
              "      flex-wrap:wrap;\n",
              "      gap: 12px;\n",
              "    }\n",
              "\n",
              "    .colab-df-convert {\n",
              "      background-color: #E8F0FE;\n",
              "      border: none;\n",
              "      border-radius: 50%;\n",
              "      cursor: pointer;\n",
              "      display: none;\n",
              "      fill: #1967D2;\n",
              "      height: 32px;\n",
              "      padding: 0 0 0 0;\n",
              "      width: 32px;\n",
              "    }\n",
              "\n",
              "    .colab-df-convert:hover {\n",
              "      background-color: #E2EBFA;\n",
              "      box-shadow: 0px 1px 2px rgba(60, 64, 67, 0.3), 0px 1px 3px 1px rgba(60, 64, 67, 0.15);\n",
              "      fill: #174EA6;\n",
              "    }\n",
              "\n",
              "    [theme=dark] .colab-df-convert {\n",
              "      background-color: #3B4455;\n",
              "      fill: #D2E3FC;\n",
              "    }\n",
              "\n",
              "    [theme=dark] .colab-df-convert:hover {\n",
              "      background-color: #434B5C;\n",
              "      box-shadow: 0px 1px 3px 1px rgba(0, 0, 0, 0.15);\n",
              "      filter: drop-shadow(0px 1px 2px rgba(0, 0, 0, 0.3));\n",
              "      fill: #FFFFFF;\n",
              "    }\n",
              "  </style>\n",
              "\n",
              "      <script>\n",
              "        const buttonEl =\n",
              "          document.querySelector('#df-b3907bc6-4de4-45ef-b323-010cb3182c5e button.colab-df-convert');\n",
              "        buttonEl.style.display =\n",
              "          google.colab.kernel.accessAllowed ? 'block' : 'none';\n",
              "\n",
              "        async function convertToInteractive(key) {\n",
              "          const element = document.querySelector('#df-b3907bc6-4de4-45ef-b323-010cb3182c5e');\n",
              "          const dataTable =\n",
              "            await google.colab.kernel.invokeFunction('convertToInteractive',\n",
              "                                                     [key], {});\n",
              "          if (!dataTable) return;\n",
              "\n",
              "          const docLinkHtml = 'Like what you see? Visit the ' +\n",
              "            '<a target=\"_blank\" href=https://colab.research.google.com/notebooks/data_table.ipynb>data table notebook</a>'\n",
              "            + ' to learn more about interactive tables.';\n",
              "          element.innerHTML = '';\n",
              "          dataTable['output_type'] = 'display_data';\n",
              "          await google.colab.output.renderOutput(dataTable, element);\n",
              "          const docLink = document.createElement('div');\n",
              "          docLink.innerHTML = docLinkHtml;\n",
              "          element.appendChild(docLink);\n",
              "        }\n",
              "      </script>\n",
              "    </div>\n",
              "  </div>\n",
              "  "
            ],
            "text/plain": [
              "   index  Pclass\n",
              "0      3     491\n",
              "1      1     216\n",
              "2      2     184"
            ]
          },
          "metadata": {},
          "execution_count": 20
        }
      ]
    },
    {
      "cell_type": "markdown",
      "source": [
        "\n",
        "\n",
        "---\n",
        "\n",
        "**작업 중입니다.**\n",
        "\n",
        "---\n",
        "\n"
      ],
      "metadata": {
        "id": "p3NtvfKO3BcK"
      }
    }
  ]
}