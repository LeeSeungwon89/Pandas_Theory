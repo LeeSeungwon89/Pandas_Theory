{
  "nbformat": 4,
  "nbformat_minor": 0,
  "metadata": {
    "colab": {
      "name": "보강. 넘파이 및 판다스.ipynb",
      "provenance": [],
      "collapsed_sections": [],
      "toc_visible": true,
      "authorship_tag": "ABX9TyOCsB0yBbjIu0f5xaHi9XYA",
      "include_colab_link": true
    },
    "kernelspec": {
      "name": "python3",
      "display_name": "Python 3"
    },
    "language_info": {
      "name": "python"
    }
  },
  "cells": [
    {
      "cell_type": "markdown",
      "metadata": {
        "id": "view-in-github",
        "colab_type": "text"
      },
      "source": [
        "<a href=\"https://colab.research.google.com/github/LeeSeungwon89/Python_for_Data_Analytics_Science/blob/main/%EB%B3%B4%EA%B0%95.%20%EB%84%98%ED%8C%8C%EC%9D%B4%20%EB%B0%8F%20%ED%8C%90%EB%8B%A4%EC%8A%A4.ipynb\" target=\"_parent\"><img src=\"https://colab.research.google.com/assets/colab-badge.svg\" alt=\"Open In Colab\"/></a>"
      ]
    },
    {
      "cell_type": "markdown",
      "source": [
        "# **1. 넘파이**"
      ],
      "metadata": {
        "id": "x9tQUPVmXPqf"
      }
    },
    {
      "cell_type": "markdown",
      "source": [
        "## **1.1. ndarray의 데이터 타입**"
      ],
      "metadata": {
        "id": "nnltO7tp3G56"
      }
    },
    {
      "cell_type": "markdown",
      "source": [
        "다른 데이터 유형이 섞인 리스트를 `ndarray`로 바꾸면 크기가 더 큰 데이터 타입으로 형 변환을 수행합니다."
      ],
      "metadata": {
        "id": "D1tuubXT0ghb"
      }
    },
    {
      "cell_type": "code",
      "source": [
        "import numpy as np"
      ],
      "metadata": {
        "id": "hr2moDRu1BIC"
      },
      "execution_count": 25,
      "outputs": []
    },
    {
      "cell_type": "code",
      "source": [
        "a = [1, 2, 3.0]\n",
        "array1 = np.array(a)\n",
        "\n",
        "print(array1)\n",
        "print(array1.dtype)"
      ],
      "metadata": {
        "colab": {
          "base_uri": "https://localhost:8080/"
        },
        "id": "a6rJrETG1GaZ",
        "outputId": "7b54733f-6f2d-4e6e-d4e8-ed7c1ecc6d8c"
      },
      "execution_count": 26,
      "outputs": [
        {
          "output_type": "stream",
          "name": "stdout",
          "text": [
            "[1. 2. 3.]\n",
            "float64\n"
          ]
        }
      ]
    },
    {
      "cell_type": "code",
      "execution_count": 27,
      "metadata": {
        "colab": {
          "base_uri": "https://localhost:8080/"
        },
        "id": "lZu-JyJn_gy7",
        "outputId": "feaf85ce-e0be-4a87-b2f8-7b71a1c44bb3"
      },
      "outputs": [
        {
          "output_type": "stream",
          "name": "stdout",
          "text": [
            "['1' '2' 'three']\n",
            "<U21\n"
          ]
        }
      ],
      "source": [
        "b = [1, 2, 'three']\n",
        "array2 = np.array(b)\n",
        " \n",
        "print(array2)\n",
        "print(array2.dtype)"
      ]
    },
    {
      "cell_type": "markdown",
      "source": [
        "`astype()` 메서드로 `ndarray`의 데이터 타입을 바꿀 수 있습니다. 데이터 타입을 변경하는 이유는 대용량 데이터의 `ndarray`를 생성할 때 필요한 메모리를 줄이기 위함입니다. 데이터 타입이 `float`인 경우 `int`로도 충분하다면 `int`로 형 변환을 시도할 수 있습니다. "
      ],
      "metadata": {
        "id": "Q8oeZc0m1SLh"
      }
    },
    {
      "cell_type": "code",
      "source": [
        "array_int = np.array([1, 2, 3])\n",
        "array_float = array_int.astype('float64')\n",
        "\n",
        "print(array_float)\n",
        "print(array_float.dtype)"
      ],
      "metadata": {
        "colab": {
          "base_uri": "https://localhost:8080/"
        },
        "id": "f3lCtALu2kRG",
        "outputId": "3bc5344a-5ab7-49fe-807f-78e3ec2dc3c1"
      },
      "execution_count": 28,
      "outputs": [
        {
          "output_type": "stream",
          "name": "stdout",
          "text": [
            "[1. 2. 3.]\n",
            "float64\n"
          ]
        }
      ]
    },
    {
      "cell_type": "markdown",
      "source": [
        "## **1.2. 행렬 정렬**"
      ],
      "metadata": {
        "id": "iKOdAf9hYpJW"
      }
    },
    {
      "cell_type": "markdown",
      "source": [
        "`np.sort()`처럼 `sort()` 메서드를 호출하거나 `ndarray.sort()`처럼 행렬에 바로 `sort()` 메서드를 호출하여 행렬 정렬을 수행할 수 있습니다. 다만 두 가지 방식에는 차이점이 있습니다. 먼저 `np.sort()` 방식을 구현해보겠습니다."
      ],
      "metadata": {
        "id": "f9uCQdbhYwX5"
      }
    },
    {
      "cell_type": "code",
      "source": [
        "array_example = np.array([6, 2, 4, 1])\n",
        "print('원래 행렬:', array_example)\n",
        "print()\n",
        "\n",
        "array_sorted = np.sort(array_example)\n",
        "print('정렬한 행렬:', array_sorted)\n",
        "print('원래 행렬:', array_example)"
      ],
      "metadata": {
        "colab": {
          "base_uri": "https://localhost:8080/"
        },
        "id": "__DxmrV9hOPQ",
        "outputId": "8a074e78-d641-4041-f9c9-b73ba6a6cab6"
      },
      "execution_count": 29,
      "outputs": [
        {
          "output_type": "stream",
          "name": "stdout",
          "text": [
            "원래 행렬: [6 2 4 1]\n",
            "\n",
            "정렬한 행렬: [1 2 4 6]\n",
            "원래 행렬: [6 2 4 1]\n"
          ]
        }
      ]
    },
    {
      "cell_type": "markdown",
      "source": [
        "이 방식은 원래 행렬인 `array_example`을 그대로 유지한 채 따로 행렬 정렬을 수행합니다.\n",
        "\n",
        "반면 `ndarray.sort()` 방식은 원래 행렬 자체를 정렬합니다. 구현해보겠습니다."
      ],
      "metadata": {
        "id": "znqPa8F0kW34"
      }
    },
    {
      "cell_type": "code",
      "source": [
        "array_example = np.array([6, 2, 4, 1])\n",
        "print('원래 행렬:', array_example)\n",
        "print()\n",
        "\n",
        "array_sorted = array_example.sort()\n",
        "print('정렬한 행렬:', array_sorted)\n",
        "print('원래 행렬:', array_example)"
      ],
      "metadata": {
        "colab": {
          "base_uri": "https://localhost:8080/"
        },
        "id": "5S-XilIGlJgT",
        "outputId": "2e87a728-9328-4492-b66d-029fd8341ecf"
      },
      "execution_count": 30,
      "outputs": [
        {
          "output_type": "stream",
          "name": "stdout",
          "text": [
            "원래 행렬: [6 2 4 1]\n",
            "\n",
            "정렬한 행렬: None\n",
            "원래 행렬: [1 2 4 6]\n"
          ]
        }
      ]
    },
    {
      "cell_type": "markdown",
      "source": [
        "정렬한 행렬 객체인 `array_sorted`는 `None`이 되고 원래 행렬인 `array_example` 객체 자체를 영구적으로 정렬하여 바꿨습니다.\n",
        "\n",
        "넘파이의 `sort()` 메서드는 기본적으로 오름차순 정렬을 수행합니다. 내림차순으로 정렬하려면 메서드 뒤에 `[::-1]` 형식을 취합니다. 구현해보겠습니다."
      ],
      "metadata": {
        "id": "xeGA6UXylgCS"
      }
    },
    {
      "cell_type": "code",
      "source": [
        "array_example = np.array([6, 2, 4, 1])\n",
        "array_sorted = np.sort(array_example)[::-1]\n",
        "\n",
        "print('정렬한 행렬:', array_sorted)"
      ],
      "metadata": {
        "colab": {
          "base_uri": "https://localhost:8080/"
        },
        "id": "d3KyVaTMnbOA",
        "outputId": "486ecf46-c837-4cc4-d065-6a2a3e1739a2"
      },
      "execution_count": 31,
      "outputs": [
        {
          "output_type": "stream",
          "name": "stdout",
          "text": [
            "정렬한 행렬: [6 4 2 1]\n"
          ]
        }
      ]
    },
    {
      "cell_type": "markdown",
      "source": [
        "행 방향(`axis=0`), 열 방향(`axis=1`)으로 정렬할 수도 있습니다. `sort()` 메서드에 매개변수를 `axis=0` 또는 `axis=1`로 지정하면 됩니다. 먼저 `axis=0`으로 지정해보겠습니다."
      ],
      "metadata": {
        "id": "bbnjbyC8oUec"
      }
    },
    {
      "cell_type": "code",
      "source": [
        "array_2d_example = np.array([[6, 2],\n",
        "                             [4, 1]])\n",
        "array_sorted = np.sort(array_2d_example, axis=0)\n",
        "\n",
        "print('정렬한 행렬:\\n', array_sorted)"
      ],
      "metadata": {
        "colab": {
          "base_uri": "https://localhost:8080/"
        },
        "id": "mLHj8KG1oq7y",
        "outputId": "a01a2ce0-8631-41e8-ad4e-33ecc5e17dd2"
      },
      "execution_count": 35,
      "outputs": [
        {
          "output_type": "stream",
          "name": "stdout",
          "text": [
            "정렬한 행렬:\n",
            " [[4 1]\n",
            " [6 2]]\n"
          ]
        }
      ]
    },
    {
      "cell_type": "markdown",
      "source": [
        "이번엔 `axis=1`로 지정해보겠습니다."
      ],
      "metadata": {
        "id": "Ngau1QKapNPe"
      }
    },
    {
      "cell_type": "code",
      "source": [
        "array_2d_example = np.array([[6, 2],\n",
        "                             [4, 1]])\n",
        "array_sorted = np.sort(array_2d_example, axis=1)\n",
        "\n",
        "print('정렬한 행렬:\\n', array_sorted)"
      ],
      "metadata": {
        "colab": {
          "base_uri": "https://localhost:8080/"
        },
        "id": "IvbIWnT5pQEg",
        "outputId": "dd376b94-2f8e-46e2-c8d8-a3782d9b277e"
      },
      "execution_count": 36,
      "outputs": [
        {
          "output_type": "stream",
          "name": "stdout",
          "text": [
            "정렬한 행렬:\n",
            " [[2 6]\n",
            " [1 4]]\n"
          ]
        }
      ]
    },
    {
      "cell_type": "markdown",
      "source": [
        "행렬을 정렬했을 때 원래 행렬의 원소에 대한 인덱스를 넘파이의 `argsort()` 메서드를 호출하여 얻을 수 있습니다. 확인해보겠습니다. "
      ],
      "metadata": {
        "id": "uSSk1oK5pm3V"
      }
    },
    {
      "cell_type": "code",
      "source": [
        "array_example = np.array([6, 2, 4, 1])\n",
        "array_sorted_indices = np.argsort(array_example)\n",
        "\n",
        "print(array_sorted_indices)\n",
        "print(type(array_sorted_indices))"
      ],
      "metadata": {
        "colab": {
          "base_uri": "https://localhost:8080/"
        },
        "id": "stYXH0U0p5Xz",
        "outputId": "f1507fc4-a310-48f0-d038-c57b2c8bf303"
      },
      "execution_count": 38,
      "outputs": [
        {
          "output_type": "stream",
          "name": "stdout",
          "text": [
            "[3 1 2 0]\n",
            "<class 'numpy.ndarray'>\n"
          ]
        }
      ]
    },
    {
      "cell_type": "markdown",
      "source": [
        "내림차순으로 정렬하려면 메서드 뒤에 `[::-1]` 형식을 취합니다. 구현해보겠습니다. "
      ],
      "metadata": {
        "id": "b5o-b1AC1esC"
      }
    },
    {
      "cell_type": "code",
      "source": [
        "array_example = np.array([6, 2, 4, 1])\n",
        "array_sorted_indices = np.argsort(array_example)[::-1]\n",
        "\n",
        "print(array_sorted_indices)\n",
        "print(type(array_sorted_indices))"
      ],
      "metadata": {
        "colab": {
          "base_uri": "https://localhost:8080/"
        },
        "id": "4nal-tho1b2J",
        "outputId": "66b4ffe6-0d36-445d-e247-f45dfd41fa43"
      },
      "execution_count": 39,
      "outputs": [
        {
          "output_type": "stream",
          "name": "stdout",
          "text": [
            "[0 2 1 3]\n",
            "<class 'numpy.ndarray'>\n"
          ]
        }
      ]
    },
    {
      "cell_type": "markdown",
      "source": [
        "# **2. 판다스**"
      ],
      "metadata": {
        "id": "XceZmw6tXWcy"
      }
    },
    {
      "cell_type": "markdown",
      "source": [
        "\n",
        "---\n",
        "\n",
        "**이어서 보강하겠습니다.**\n",
        "\n",
        "---\n",
        "\n"
      ],
      "metadata": {
        "id": "nusFPd783H9F"
      }
    }
  ]
}