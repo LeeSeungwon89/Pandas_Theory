{
  "nbformat": 4,
  "nbformat_minor": 0,
  "metadata": {
    "colab": {
      "name": "4. 데이터 전처리.ipynb",
      "provenance": [],
      "collapsed_sections": [],
      "toc_visible": true,
      "authorship_tag": "ABX9TyP/pTvYWHNVNKEGZ2vsZJkN",
      "include_colab_link": true
    },
    "kernelspec": {
      "name": "python3",
      "display_name": "Python 3"
    },
    "language_info": {
      "name": "python"
    }
  },
  "cells": [
    {
      "cell_type": "markdown",
      "metadata": {
        "id": "view-in-github",
        "colab_type": "text"
      },
      "source": [
        "<a href=\"https://colab.research.google.com/github/LeeSeungwon89/Python_for_Data_Analytics_Science/blob/main/4.%20%EB%8D%B0%EC%9D%B4%ED%84%B0%20%EC%A0%84%EC%B2%98%EB%A6%AC.ipynb\" target=\"_parent\"><img src=\"https://colab.research.google.com/assets/colab-badge.svg\" alt=\"Open In Colab\"/></a>"
      ]
    },
    {
      "cell_type": "markdown",
      "metadata": {
        "id": "vcNquNmh2mpV"
      },
      "source": [
        "# **1. 데이터 전처리하기**"
      ]
    },
    {
      "cell_type": "markdown",
      "metadata": {
        "id": "UuJAl4Rvlb3O"
      },
      "source": [
        "데이터를 분석하기 전에 데이터 품질을 제고하는 데이터 전처리(preprocessing) 작업을 선행해야 합니다. 데이터 분석 결과가 왜곡되는 상황을 방지하고 데이터 분석 정확도를 제고하기 위한 필수 작업입니다. \n",
        "\n",
        "데이터 분석 강의, 인터넷 정보, 서적, **파이썬 머신러닝 판다스 데이터 분석(오승환, 정보문화사)**을 참고했습니다."
      ]
    },
    {
      "cell_type": "markdown",
      "metadata": {
        "id": "vpf8KxYc25kH"
      },
      "source": [
        "## **1.1. 누락된 데이터**"
      ]
    },
    {
      "cell_type": "markdown",
      "metadata": {
        "id": "p68uAdZ5kN6V"
      },
      "source": [
        "특정 데이터를 실수로 입력하지 않거나 파일 형식을 변환하면서 데이터가 손상되는 경우가 많습니다. 전처리 작업을 거치지 않으면 정확한 데이터 분석 결과를 얻기 어렵습니다. "
      ]
    },
    {
      "cell_type": "markdown",
      "metadata": {
        "id": "sfEJRIc43hUs"
      },
      "source": [
        "### **1.1.1 누락된 데이터 확인하기**"
      ]
    },
    {
      "cell_type": "markdown",
      "metadata": {
        "id": "X4MGSTp-t9FW"
      },
      "source": [
        "데이터 분석을 위한 라이브러리 목록입니다. 복사해서 사용합니다."
      ]
    },
    {
      "cell_type": "code",
      "metadata": {
        "id": "f5ZX6wtlrUbK"
      },
      "source": [
        "# 기본적인 라이브러리입니다.\n",
        "import time\n",
        "import random\n",
        "import math\n",
        "\n",
        "# 데이터 분석을 위한 라이브러리입니다.\n",
        "import numpy as np\n",
        "import pandas as pd\n",
        "import sklearn as sk\n",
        "\n",
        "# 수학 라이브러리입니다.\n",
        "import scipy as sp\n",
        "import statsmodels.api as sm\n",
        "\n",
        "# 웹 스크레이핑을 위한 라이브러리입니다\n",
        "import re\n",
        "import requests\n",
        "from bs4 import BeautifulSoup\n",
        "import os\n",
        "import json\n",
        "\n",
        "# 시각화 라이브러리입니다.\n",
        "import matplotlib as mpl\n",
        "import matplotlib.pylab as plb\n",
        "import matplotlib.pyplot as plt\n",
        "import seaborn as sns\n",
        "\n",
        "# 시각화 자료를 바로 띄워줍니다.\n",
        "%matplotlib inline\n",
        "\n",
        "# 그래프에 retina를 지정합니다.\n",
        "%config InlineBackend.figure_format = 'retina'\n",
        "\n",
        "# 음수 부호를 깨지지 않도록 합니다.\n",
        "mpl.rc('axes', unicode_minus=False)"
      ],
      "execution_count": 188,
      "outputs": []
    },
    {
      "cell_type": "markdown",
      "metadata": {
        "id": "YliQlPMzuPb0"
      },
      "source": [
        "사용할 데이터셋은 `seaborn` 라이브러리의 타이타닉 탑승객 정보 데이터셋입니다."
      ]
    },
    {
      "cell_type": "code",
      "metadata": {
        "id": "2QnHaCQQqKhQ",
        "colab": {
          "base_uri": "https://localhost:8080/",
          "height": 206
        },
        "outputId": "2d8cb3a8-6ab6-4f5d-c3c8-5eb4d6e99cbd"
      },
      "source": [
        "df = sns.load_dataset('titanic')\n",
        "df.head()"
      ],
      "execution_count": 189,
      "outputs": [
        {
          "output_type": "execute_result",
          "data": {
            "text/html": [
              "<div>\n",
              "<style scoped>\n",
              "    .dataframe tbody tr th:only-of-type {\n",
              "        vertical-align: middle;\n",
              "    }\n",
              "\n",
              "    .dataframe tbody tr th {\n",
              "        vertical-align: top;\n",
              "    }\n",
              "\n",
              "    .dataframe thead th {\n",
              "        text-align: right;\n",
              "    }\n",
              "</style>\n",
              "<table border=\"1\" class=\"dataframe\">\n",
              "  <thead>\n",
              "    <tr style=\"text-align: right;\">\n",
              "      <th></th>\n",
              "      <th>survived</th>\n",
              "      <th>pclass</th>\n",
              "      <th>sex</th>\n",
              "      <th>age</th>\n",
              "      <th>sibsp</th>\n",
              "      <th>parch</th>\n",
              "      <th>fare</th>\n",
              "      <th>embarked</th>\n",
              "      <th>class</th>\n",
              "      <th>who</th>\n",
              "      <th>adult_male</th>\n",
              "      <th>deck</th>\n",
              "      <th>embark_town</th>\n",
              "      <th>alive</th>\n",
              "      <th>alone</th>\n",
              "    </tr>\n",
              "  </thead>\n",
              "  <tbody>\n",
              "    <tr>\n",
              "      <th>0</th>\n",
              "      <td>0</td>\n",
              "      <td>3</td>\n",
              "      <td>male</td>\n",
              "      <td>22.0</td>\n",
              "      <td>1</td>\n",
              "      <td>0</td>\n",
              "      <td>7.2500</td>\n",
              "      <td>S</td>\n",
              "      <td>Third</td>\n",
              "      <td>man</td>\n",
              "      <td>True</td>\n",
              "      <td>NaN</td>\n",
              "      <td>Southampton</td>\n",
              "      <td>no</td>\n",
              "      <td>False</td>\n",
              "    </tr>\n",
              "    <tr>\n",
              "      <th>1</th>\n",
              "      <td>1</td>\n",
              "      <td>1</td>\n",
              "      <td>female</td>\n",
              "      <td>38.0</td>\n",
              "      <td>1</td>\n",
              "      <td>0</td>\n",
              "      <td>71.2833</td>\n",
              "      <td>C</td>\n",
              "      <td>First</td>\n",
              "      <td>woman</td>\n",
              "      <td>False</td>\n",
              "      <td>C</td>\n",
              "      <td>Cherbourg</td>\n",
              "      <td>yes</td>\n",
              "      <td>False</td>\n",
              "    </tr>\n",
              "    <tr>\n",
              "      <th>2</th>\n",
              "      <td>1</td>\n",
              "      <td>3</td>\n",
              "      <td>female</td>\n",
              "      <td>26.0</td>\n",
              "      <td>0</td>\n",
              "      <td>0</td>\n",
              "      <td>7.9250</td>\n",
              "      <td>S</td>\n",
              "      <td>Third</td>\n",
              "      <td>woman</td>\n",
              "      <td>False</td>\n",
              "      <td>NaN</td>\n",
              "      <td>Southampton</td>\n",
              "      <td>yes</td>\n",
              "      <td>True</td>\n",
              "    </tr>\n",
              "    <tr>\n",
              "      <th>3</th>\n",
              "      <td>1</td>\n",
              "      <td>1</td>\n",
              "      <td>female</td>\n",
              "      <td>35.0</td>\n",
              "      <td>1</td>\n",
              "      <td>0</td>\n",
              "      <td>53.1000</td>\n",
              "      <td>S</td>\n",
              "      <td>First</td>\n",
              "      <td>woman</td>\n",
              "      <td>False</td>\n",
              "      <td>C</td>\n",
              "      <td>Southampton</td>\n",
              "      <td>yes</td>\n",
              "      <td>False</td>\n",
              "    </tr>\n",
              "    <tr>\n",
              "      <th>4</th>\n",
              "      <td>0</td>\n",
              "      <td>3</td>\n",
              "      <td>male</td>\n",
              "      <td>35.0</td>\n",
              "      <td>0</td>\n",
              "      <td>0</td>\n",
              "      <td>8.0500</td>\n",
              "      <td>S</td>\n",
              "      <td>Third</td>\n",
              "      <td>man</td>\n",
              "      <td>True</td>\n",
              "      <td>NaN</td>\n",
              "      <td>Southampton</td>\n",
              "      <td>no</td>\n",
              "      <td>True</td>\n",
              "    </tr>\n",
              "  </tbody>\n",
              "</table>\n",
              "</div>"
            ],
            "text/plain": [
              "   survived  pclass     sex   age  ...  deck  embark_town  alive  alone\n",
              "0         0       3    male  22.0  ...   NaN  Southampton     no  False\n",
              "1         1       1  female  38.0  ...     C    Cherbourg    yes  False\n",
              "2         1       3  female  26.0  ...   NaN  Southampton    yes   True\n",
              "3         1       1  female  35.0  ...     C  Southampton    yes  False\n",
              "4         0       3    male  35.0  ...   NaN  Southampton     no   True\n",
              "\n",
              "[5 rows x 15 columns]"
            ]
          },
          "metadata": {},
          "execution_count": 189
        }
      ]
    },
    {
      "cell_type": "markdown",
      "metadata": {
        "id": "PczAQffouhM9"
      },
      "source": [
        "`info()` 메서드만으로도 누락된 데이터를 어느 정도 파악할 수 있습니다. 총 데이터 개수는 891인데 'age', 'embarked', 'deck', 'embark_town' 열은 데이터 수가 891 미만으로 모자랍니다.\n",
        "\n",
        "참고로 누락된 데이터가 `NaN`으로 잡히지 않는 경우도 있습니다. 특정 기호인 `?`, `!`, `-`, ` ` 등으로 이루어진 값은 `NaN`으로 잡히지 않습니다. 이 경우 `replace()` 메서드와 넘파이의 `np.nan`를 혼용하여 `NaN`으로 바꿀 필요가 있습니다. `*`로 채워진 경우라면 `df.replace('*', np.nan, inplace=True)` 형식으로 바꿀 수 있습니다."
      ]
    },
    {
      "cell_type": "code",
      "metadata": {
        "colab": {
          "base_uri": "https://localhost:8080/"
        },
        "id": "u8VZW-tNrq95",
        "outputId": "87077809-467d-4c13-c309-6aad2956c70c"
      },
      "source": [
        "df.info()"
      ],
      "execution_count": 190,
      "outputs": [
        {
          "output_type": "stream",
          "name": "stdout",
          "text": [
            "<class 'pandas.core.frame.DataFrame'>\n",
            "RangeIndex: 891 entries, 0 to 890\n",
            "Data columns (total 15 columns):\n",
            " #   Column       Non-Null Count  Dtype   \n",
            "---  ------       --------------  -----   \n",
            " 0   survived     891 non-null    int64   \n",
            " 1   pclass       891 non-null    int64   \n",
            " 2   sex          891 non-null    object  \n",
            " 3   age          714 non-null    float64 \n",
            " 4   sibsp        891 non-null    int64   \n",
            " 5   parch        891 non-null    int64   \n",
            " 6   fare         891 non-null    float64 \n",
            " 7   embarked     889 non-null    object  \n",
            " 8   class        891 non-null    category\n",
            " 9   who          891 non-null    object  \n",
            " 10  adult_male   891 non-null    bool    \n",
            " 11  deck         203 non-null    category\n",
            " 12  embark_town  889 non-null    object  \n",
            " 13  alive        891 non-null    object  \n",
            " 14  alone        891 non-null    bool    \n",
            "dtypes: bool(2), category(2), float64(2), int64(4), object(5)\n",
            "memory usage: 80.6+ KB\n"
          ]
        }
      ]
    },
    {
      "cell_type": "code",
      "metadata": {
        "colab": {
          "base_uri": "https://localhost:8080/",
          "height": 300
        },
        "id": "M6meJwpckuli",
        "outputId": "23eea157-566b-4155-8c14-09e0920fe960"
      },
      "source": [
        "df.describe()"
      ],
      "execution_count": 191,
      "outputs": [
        {
          "output_type": "execute_result",
          "data": {
            "text/html": [
              "<div>\n",
              "<style scoped>\n",
              "    .dataframe tbody tr th:only-of-type {\n",
              "        vertical-align: middle;\n",
              "    }\n",
              "\n",
              "    .dataframe tbody tr th {\n",
              "        vertical-align: top;\n",
              "    }\n",
              "\n",
              "    .dataframe thead th {\n",
              "        text-align: right;\n",
              "    }\n",
              "</style>\n",
              "<table border=\"1\" class=\"dataframe\">\n",
              "  <thead>\n",
              "    <tr style=\"text-align: right;\">\n",
              "      <th></th>\n",
              "      <th>survived</th>\n",
              "      <th>pclass</th>\n",
              "      <th>age</th>\n",
              "      <th>sibsp</th>\n",
              "      <th>parch</th>\n",
              "      <th>fare</th>\n",
              "    </tr>\n",
              "  </thead>\n",
              "  <tbody>\n",
              "    <tr>\n",
              "      <th>count</th>\n",
              "      <td>891.000000</td>\n",
              "      <td>891.000000</td>\n",
              "      <td>714.000000</td>\n",
              "      <td>891.000000</td>\n",
              "      <td>891.000000</td>\n",
              "      <td>891.000000</td>\n",
              "    </tr>\n",
              "    <tr>\n",
              "      <th>mean</th>\n",
              "      <td>0.383838</td>\n",
              "      <td>2.308642</td>\n",
              "      <td>29.699118</td>\n",
              "      <td>0.523008</td>\n",
              "      <td>0.381594</td>\n",
              "      <td>32.204208</td>\n",
              "    </tr>\n",
              "    <tr>\n",
              "      <th>std</th>\n",
              "      <td>0.486592</td>\n",
              "      <td>0.836071</td>\n",
              "      <td>14.526497</td>\n",
              "      <td>1.102743</td>\n",
              "      <td>0.806057</td>\n",
              "      <td>49.693429</td>\n",
              "    </tr>\n",
              "    <tr>\n",
              "      <th>min</th>\n",
              "      <td>0.000000</td>\n",
              "      <td>1.000000</td>\n",
              "      <td>0.420000</td>\n",
              "      <td>0.000000</td>\n",
              "      <td>0.000000</td>\n",
              "      <td>0.000000</td>\n",
              "    </tr>\n",
              "    <tr>\n",
              "      <th>25%</th>\n",
              "      <td>0.000000</td>\n",
              "      <td>2.000000</td>\n",
              "      <td>20.125000</td>\n",
              "      <td>0.000000</td>\n",
              "      <td>0.000000</td>\n",
              "      <td>7.910400</td>\n",
              "    </tr>\n",
              "    <tr>\n",
              "      <th>50%</th>\n",
              "      <td>0.000000</td>\n",
              "      <td>3.000000</td>\n",
              "      <td>28.000000</td>\n",
              "      <td>0.000000</td>\n",
              "      <td>0.000000</td>\n",
              "      <td>14.454200</td>\n",
              "    </tr>\n",
              "    <tr>\n",
              "      <th>75%</th>\n",
              "      <td>1.000000</td>\n",
              "      <td>3.000000</td>\n",
              "      <td>38.000000</td>\n",
              "      <td>1.000000</td>\n",
              "      <td>0.000000</td>\n",
              "      <td>31.000000</td>\n",
              "    </tr>\n",
              "    <tr>\n",
              "      <th>max</th>\n",
              "      <td>1.000000</td>\n",
              "      <td>3.000000</td>\n",
              "      <td>80.000000</td>\n",
              "      <td>8.000000</td>\n",
              "      <td>6.000000</td>\n",
              "      <td>512.329200</td>\n",
              "    </tr>\n",
              "  </tbody>\n",
              "</table>\n",
              "</div>"
            ],
            "text/plain": [
              "         survived      pclass         age       sibsp       parch        fare\n",
              "count  891.000000  891.000000  714.000000  891.000000  891.000000  891.000000\n",
              "mean     0.383838    2.308642   29.699118    0.523008    0.381594   32.204208\n",
              "std      0.486592    0.836071   14.526497    1.102743    0.806057   49.693429\n",
              "min      0.000000    1.000000    0.420000    0.000000    0.000000    0.000000\n",
              "25%      0.000000    2.000000   20.125000    0.000000    0.000000    7.910400\n",
              "50%      0.000000    3.000000   28.000000    0.000000    0.000000   14.454200\n",
              "75%      1.000000    3.000000   38.000000    1.000000    0.000000   31.000000\n",
              "max      1.000000    3.000000   80.000000    8.000000    6.000000  512.329200"
            ]
          },
          "metadata": {},
          "execution_count": 191
        }
      ]
    },
    {
      "cell_type": "markdown",
      "metadata": {
        "id": "xv0nRfTcuvLr"
      },
      "source": [
        "`isnull()` 메서드를 사용하면 `NaN`을 의미하는 `True`가 1, `False`가 0입니다. 이 값을 열 기준으로 모두 더하는 `sum(axis=0)` 메서드를 활용하면 데이터가 누락된 열 개수를 파악할 수 있습니다. `axis=0`과 `axis=1`은 혼동하기 쉬운 개념입니다. 명확하게 정리하겠습니다.\n",
        "\n",
        "- `axis=0`: 행(인덱스) 방향으로 작동합니다. 책을 위로 쌓으면서 정리한다고 볼 수 있습니다. 다시 말하면 각 열의 모든 행으로 작동합니다. 작업 결과는 행으로 출력됩니다. \n",
        "\n",
        "- `axis=1`: 열(컬럼) 방향으로 작동합니다. 책을 옆으로 정리한다고 볼 수 있습니다. 다시 말하면 각 행의 모든 열로 작동합니다. 작업 결과는 열로 출력됩니다. "
      ]
    },
    {
      "cell_type": "code",
      "metadata": {
        "colab": {
          "base_uri": "https://localhost:8080/",
          "height": 206
        },
        "id": "OZuEcAq_sW-J",
        "outputId": "aaf7ce34-3b20-4b15-eb35-758066d39014"
      },
      "source": [
        "df.head().isnull()"
      ],
      "execution_count": 192,
      "outputs": [
        {
          "output_type": "execute_result",
          "data": {
            "text/html": [
              "<div>\n",
              "<style scoped>\n",
              "    .dataframe tbody tr th:only-of-type {\n",
              "        vertical-align: middle;\n",
              "    }\n",
              "\n",
              "    .dataframe tbody tr th {\n",
              "        vertical-align: top;\n",
              "    }\n",
              "\n",
              "    .dataframe thead th {\n",
              "        text-align: right;\n",
              "    }\n",
              "</style>\n",
              "<table border=\"1\" class=\"dataframe\">\n",
              "  <thead>\n",
              "    <tr style=\"text-align: right;\">\n",
              "      <th></th>\n",
              "      <th>survived</th>\n",
              "      <th>pclass</th>\n",
              "      <th>sex</th>\n",
              "      <th>age</th>\n",
              "      <th>sibsp</th>\n",
              "      <th>parch</th>\n",
              "      <th>fare</th>\n",
              "      <th>embarked</th>\n",
              "      <th>class</th>\n",
              "      <th>who</th>\n",
              "      <th>adult_male</th>\n",
              "      <th>deck</th>\n",
              "      <th>embark_town</th>\n",
              "      <th>alive</th>\n",
              "      <th>alone</th>\n",
              "    </tr>\n",
              "  </thead>\n",
              "  <tbody>\n",
              "    <tr>\n",
              "      <th>0</th>\n",
              "      <td>False</td>\n",
              "      <td>False</td>\n",
              "      <td>False</td>\n",
              "      <td>False</td>\n",
              "      <td>False</td>\n",
              "      <td>False</td>\n",
              "      <td>False</td>\n",
              "      <td>False</td>\n",
              "      <td>False</td>\n",
              "      <td>False</td>\n",
              "      <td>False</td>\n",
              "      <td>True</td>\n",
              "      <td>False</td>\n",
              "      <td>False</td>\n",
              "      <td>False</td>\n",
              "    </tr>\n",
              "    <tr>\n",
              "      <th>1</th>\n",
              "      <td>False</td>\n",
              "      <td>False</td>\n",
              "      <td>False</td>\n",
              "      <td>False</td>\n",
              "      <td>False</td>\n",
              "      <td>False</td>\n",
              "      <td>False</td>\n",
              "      <td>False</td>\n",
              "      <td>False</td>\n",
              "      <td>False</td>\n",
              "      <td>False</td>\n",
              "      <td>False</td>\n",
              "      <td>False</td>\n",
              "      <td>False</td>\n",
              "      <td>False</td>\n",
              "    </tr>\n",
              "    <tr>\n",
              "      <th>2</th>\n",
              "      <td>False</td>\n",
              "      <td>False</td>\n",
              "      <td>False</td>\n",
              "      <td>False</td>\n",
              "      <td>False</td>\n",
              "      <td>False</td>\n",
              "      <td>False</td>\n",
              "      <td>False</td>\n",
              "      <td>False</td>\n",
              "      <td>False</td>\n",
              "      <td>False</td>\n",
              "      <td>True</td>\n",
              "      <td>False</td>\n",
              "      <td>False</td>\n",
              "      <td>False</td>\n",
              "    </tr>\n",
              "    <tr>\n",
              "      <th>3</th>\n",
              "      <td>False</td>\n",
              "      <td>False</td>\n",
              "      <td>False</td>\n",
              "      <td>False</td>\n",
              "      <td>False</td>\n",
              "      <td>False</td>\n",
              "      <td>False</td>\n",
              "      <td>False</td>\n",
              "      <td>False</td>\n",
              "      <td>False</td>\n",
              "      <td>False</td>\n",
              "      <td>False</td>\n",
              "      <td>False</td>\n",
              "      <td>False</td>\n",
              "      <td>False</td>\n",
              "    </tr>\n",
              "    <tr>\n",
              "      <th>4</th>\n",
              "      <td>False</td>\n",
              "      <td>False</td>\n",
              "      <td>False</td>\n",
              "      <td>False</td>\n",
              "      <td>False</td>\n",
              "      <td>False</td>\n",
              "      <td>False</td>\n",
              "      <td>False</td>\n",
              "      <td>False</td>\n",
              "      <td>False</td>\n",
              "      <td>False</td>\n",
              "      <td>True</td>\n",
              "      <td>False</td>\n",
              "      <td>False</td>\n",
              "      <td>False</td>\n",
              "    </tr>\n",
              "  </tbody>\n",
              "</table>\n",
              "</div>"
            ],
            "text/plain": [
              "   survived  pclass    sex    age  ...   deck  embark_town  alive  alone\n",
              "0     False   False  False  False  ...   True        False  False  False\n",
              "1     False   False  False  False  ...  False        False  False  False\n",
              "2     False   False  False  False  ...   True        False  False  False\n",
              "3     False   False  False  False  ...  False        False  False  False\n",
              "4     False   False  False  False  ...   True        False  False  False\n",
              "\n",
              "[5 rows x 15 columns]"
            ]
          },
          "metadata": {},
          "execution_count": 192
        }
      ]
    },
    {
      "cell_type": "code",
      "metadata": {
        "colab": {
          "base_uri": "https://localhost:8080/"
        },
        "id": "IQMe4ylLslWD",
        "outputId": "be0a56a0-00ed-4b28-ecc2-f8cca925a96d"
      },
      "source": [
        "df.isnull().sum(axis=0)"
      ],
      "execution_count": 193,
      "outputs": [
        {
          "output_type": "execute_result",
          "data": {
            "text/plain": [
              "survived         0\n",
              "pclass           0\n",
              "sex              0\n",
              "age            177\n",
              "sibsp            0\n",
              "parch            0\n",
              "fare             0\n",
              "embarked         2\n",
              "class            0\n",
              "who              0\n",
              "adult_male       0\n",
              "deck           688\n",
              "embark_town      2\n",
              "alive            0\n",
              "alone            0\n",
              "dtype: int64"
            ]
          },
          "metadata": {},
          "execution_count": 193
        }
      ]
    },
    {
      "cell_type": "markdown",
      "metadata": {
        "id": "2PvRN4zJvPeP"
      },
      "source": [
        "`notnull()` 메서드는 `isnull()` 메서드의 반대 방향으로 작동합니다."
      ]
    },
    {
      "cell_type": "code",
      "metadata": {
        "colab": {
          "base_uri": "https://localhost:8080/",
          "height": 206
        },
        "id": "ZPcPQWo5sfOS",
        "outputId": "451cf324-f4d8-4bfe-955c-c0a47b0dc364"
      },
      "source": [
        "df.head().notnull()"
      ],
      "execution_count": 194,
      "outputs": [
        {
          "output_type": "execute_result",
          "data": {
            "text/html": [
              "<div>\n",
              "<style scoped>\n",
              "    .dataframe tbody tr th:only-of-type {\n",
              "        vertical-align: middle;\n",
              "    }\n",
              "\n",
              "    .dataframe tbody tr th {\n",
              "        vertical-align: top;\n",
              "    }\n",
              "\n",
              "    .dataframe thead th {\n",
              "        text-align: right;\n",
              "    }\n",
              "</style>\n",
              "<table border=\"1\" class=\"dataframe\">\n",
              "  <thead>\n",
              "    <tr style=\"text-align: right;\">\n",
              "      <th></th>\n",
              "      <th>survived</th>\n",
              "      <th>pclass</th>\n",
              "      <th>sex</th>\n",
              "      <th>age</th>\n",
              "      <th>sibsp</th>\n",
              "      <th>parch</th>\n",
              "      <th>fare</th>\n",
              "      <th>embarked</th>\n",
              "      <th>class</th>\n",
              "      <th>who</th>\n",
              "      <th>adult_male</th>\n",
              "      <th>deck</th>\n",
              "      <th>embark_town</th>\n",
              "      <th>alive</th>\n",
              "      <th>alone</th>\n",
              "    </tr>\n",
              "  </thead>\n",
              "  <tbody>\n",
              "    <tr>\n",
              "      <th>0</th>\n",
              "      <td>True</td>\n",
              "      <td>True</td>\n",
              "      <td>True</td>\n",
              "      <td>True</td>\n",
              "      <td>True</td>\n",
              "      <td>True</td>\n",
              "      <td>True</td>\n",
              "      <td>True</td>\n",
              "      <td>True</td>\n",
              "      <td>True</td>\n",
              "      <td>True</td>\n",
              "      <td>False</td>\n",
              "      <td>True</td>\n",
              "      <td>True</td>\n",
              "      <td>True</td>\n",
              "    </tr>\n",
              "    <tr>\n",
              "      <th>1</th>\n",
              "      <td>True</td>\n",
              "      <td>True</td>\n",
              "      <td>True</td>\n",
              "      <td>True</td>\n",
              "      <td>True</td>\n",
              "      <td>True</td>\n",
              "      <td>True</td>\n",
              "      <td>True</td>\n",
              "      <td>True</td>\n",
              "      <td>True</td>\n",
              "      <td>True</td>\n",
              "      <td>True</td>\n",
              "      <td>True</td>\n",
              "      <td>True</td>\n",
              "      <td>True</td>\n",
              "    </tr>\n",
              "    <tr>\n",
              "      <th>2</th>\n",
              "      <td>True</td>\n",
              "      <td>True</td>\n",
              "      <td>True</td>\n",
              "      <td>True</td>\n",
              "      <td>True</td>\n",
              "      <td>True</td>\n",
              "      <td>True</td>\n",
              "      <td>True</td>\n",
              "      <td>True</td>\n",
              "      <td>True</td>\n",
              "      <td>True</td>\n",
              "      <td>False</td>\n",
              "      <td>True</td>\n",
              "      <td>True</td>\n",
              "      <td>True</td>\n",
              "    </tr>\n",
              "    <tr>\n",
              "      <th>3</th>\n",
              "      <td>True</td>\n",
              "      <td>True</td>\n",
              "      <td>True</td>\n",
              "      <td>True</td>\n",
              "      <td>True</td>\n",
              "      <td>True</td>\n",
              "      <td>True</td>\n",
              "      <td>True</td>\n",
              "      <td>True</td>\n",
              "      <td>True</td>\n",
              "      <td>True</td>\n",
              "      <td>True</td>\n",
              "      <td>True</td>\n",
              "      <td>True</td>\n",
              "      <td>True</td>\n",
              "    </tr>\n",
              "    <tr>\n",
              "      <th>4</th>\n",
              "      <td>True</td>\n",
              "      <td>True</td>\n",
              "      <td>True</td>\n",
              "      <td>True</td>\n",
              "      <td>True</td>\n",
              "      <td>True</td>\n",
              "      <td>True</td>\n",
              "      <td>True</td>\n",
              "      <td>True</td>\n",
              "      <td>True</td>\n",
              "      <td>True</td>\n",
              "      <td>False</td>\n",
              "      <td>True</td>\n",
              "      <td>True</td>\n",
              "      <td>True</td>\n",
              "    </tr>\n",
              "  </tbody>\n",
              "</table>\n",
              "</div>"
            ],
            "text/plain": [
              "   survived  pclass   sex   age  ...   deck  embark_town  alive  alone\n",
              "0      True    True  True  True  ...  False         True   True   True\n",
              "1      True    True  True  True  ...   True         True   True   True\n",
              "2      True    True  True  True  ...  False         True   True   True\n",
              "3      True    True  True  True  ...   True         True   True   True\n",
              "4      True    True  True  True  ...  False         True   True   True\n",
              "\n",
              "[5 rows x 15 columns]"
            ]
          },
          "metadata": {},
          "execution_count": 194
        }
      ]
    },
    {
      "cell_type": "code",
      "metadata": {
        "colab": {
          "base_uri": "https://localhost:8080/"
        },
        "id": "Lup-eJd0sxSw",
        "outputId": "d433899c-debc-4cbe-aed4-7e6a7a3cdba0"
      },
      "source": [
        "df.notnull().sum(axis=0)"
      ],
      "execution_count": 195,
      "outputs": [
        {
          "output_type": "execute_result",
          "data": {
            "text/plain": [
              "survived       891\n",
              "pclass         891\n",
              "sex            891\n",
              "age            714\n",
              "sibsp          891\n",
              "parch          891\n",
              "fare           891\n",
              "embarked       889\n",
              "class          891\n",
              "who            891\n",
              "adult_male     891\n",
              "deck           203\n",
              "embark_town    889\n",
              "alive          891\n",
              "alone          891\n",
              "dtype: int64"
            ]
          },
          "metadata": {},
          "execution_count": 195
        }
      ]
    },
    {
      "cell_type": "markdown",
      "metadata": {
        "id": "rRQ-0Gtyvb7p"
      },
      "source": [
        "`value_counts()` 메서드는 각 열의 데이터 값마다 개수로 출력합니다. `dropna=False`로 지정하면 `NaN`의 개수도 함께 출력합니다."
      ]
    },
    {
      "cell_type": "code",
      "metadata": {
        "colab": {
          "base_uri": "https://localhost:8080/"
        },
        "id": "42Z1Fo--sASw",
        "outputId": "6d7ed679-006f-4301-dabb-7fac17961ce7"
      },
      "source": [
        "df['age'].value_counts(dropna=False)"
      ],
      "execution_count": 196,
      "outputs": [
        {
          "output_type": "execute_result",
          "data": {
            "text/plain": [
              "NaN      177\n",
              "24.00     30\n",
              "22.00     27\n",
              "18.00     26\n",
              "28.00     25\n",
              "        ... \n",
              "36.50      1\n",
              "55.50      1\n",
              "66.00      1\n",
              "23.50      1\n",
              "0.42       1\n",
              "Name: age, Length: 89, dtype: int64"
            ]
          },
          "metadata": {},
          "execution_count": 196
        }
      ]
    },
    {
      "cell_type": "code",
      "metadata": {
        "colab": {
          "base_uri": "https://localhost:8080/"
        },
        "id": "mlm-9-ePr2TP",
        "outputId": "2652562c-064a-4b9b-c850-942bea68ebe9"
      },
      "source": [
        "df['deck'].value_counts(dropna=False)"
      ],
      "execution_count": 197,
      "outputs": [
        {
          "output_type": "execute_result",
          "data": {
            "text/plain": [
              "NaN    688\n",
              "C       59\n",
              "B       47\n",
              "D       33\n",
              "E       32\n",
              "A       15\n",
              "F       13\n",
              "G        4\n",
              "Name: deck, dtype: int64"
            ]
          },
          "metadata": {},
          "execution_count": 197
        }
      ]
    },
    {
      "cell_type": "markdown",
      "metadata": {
        "id": "vofO2exxg647"
      },
      "source": [
        "반목문으로도 `NaN`을 확인할 수 있습니다. 예외 처리 구문은 [링크](https://wikidocs.net/30)를 참조하시기 바랍니다."
      ]
    },
    {
      "cell_type": "code",
      "metadata": {
        "colab": {
          "base_uri": "https://localhost:8080/"
        },
        "id": "Px_AFgOvg2k1",
        "outputId": "b3acd7b0-b4d0-43ae-df7d-2404a7a98c01"
      },
      "source": [
        "df_nan = df.isnull()\n",
        "\n",
        "for column in df_nan:\n",
        "    count_nan = df_nan[column].value_counts()\n",
        "    try:\n",
        "        print(f'{column}: {count_nan[True]}')\n",
        "    # `missing_count`의 데이터에 `True`가 없으면 예외로 처리합니다.\n",
        "    except:\n",
        "        print(f'{column}: 0')"
      ],
      "execution_count": 198,
      "outputs": [
        {
          "output_type": "stream",
          "name": "stdout",
          "text": [
            "survived: 0\n",
            "pclass: 0\n",
            "sex: 0\n",
            "age: 177\n",
            "sibsp: 0\n",
            "parch: 0\n",
            "fare: 0\n",
            "embarked: 2\n",
            "class: 0\n",
            "who: 0\n",
            "adult_male: 0\n",
            "deck: 688\n",
            "embark_town: 2\n",
            "alive: 0\n",
            "alone: 0\n"
          ]
        }
      ]
    },
    {
      "cell_type": "markdown",
      "metadata": {
        "id": "e6K-8zc13mwN"
      },
      "source": [
        "### **1.1.2. 누락된 데이터 제거하기**"
      ]
    },
    {
      "cell_type": "markdown",
      "metadata": {
        "id": "I-Ua9DqFWT5l"
      },
      "source": [
        "누락된 원소가 있는 행(레코드)을 삭제하거나 열(특성)을 삭제하는 방법을 취할 수 있습니다.\n",
        "\n",
        "'deck' 열은 누락된 원소가 688개이므로 `dropna()` 메서드를 사용하여 열을 통으로 삭제해야 합니다. `axis=0`으로 지정하여 행을 기준으로 삼아 아래로 카운트하고, `thresh=300`으로 지정하여 `NaN`이 300개 이상 카운트된 열을 삭제하겠습니다."
      ]
    },
    {
      "cell_type": "code",
      "metadata": {
        "colab": {
          "base_uri": "https://localhost:8080/"
        },
        "id": "lSsrVRQyicEm",
        "outputId": "959fa1f0-7250-4432-ddb0-dbf7a56aa7d5"
      },
      "source": [
        "df_thresh = df.dropna(axis=0, thresh=300)\n",
        "print(df_thresh.columns)"
      ],
      "execution_count": 199,
      "outputs": [
        {
          "output_type": "stream",
          "name": "stdout",
          "text": [
            "Index(['survived', 'pclass', 'sex', 'age', 'sibsp', 'parch', 'fare',\n",
            "       'embarked', 'class', 'who', 'adult_male', 'deck', 'embark_town',\n",
            "       'alive', 'alone'],\n",
            "      dtype='object')\n"
          ]
        }
      ]
    },
    {
      "cell_type": "markdown",
      "metadata": {
        "id": "sC7TBIad3QcR"
      },
      "source": [
        "'deck' 열만 삭제되었습니다.\n",
        "\n",
        "'age' 열의 원소는 177개만큼 `NaN`입니다. 데이터를 분석할 때 'age'가 중요한 특성(열, 변수)라면 특성은 남겨두고 `NaN`인 행(레코드)를 제거하는 방법을 취할 수 있습니다. `subset=['age']` 옵션은 'age' 열만 한정한다는 의미이고, `how='any'`(기본값) 옵션은 `NaN`이 하나라도 있으면 삭제한다는 의미입니다. `how='all'` 옵션은 모든 값이 `Nan`이면 삭제한다는 의미입니다."
      ]
    },
    {
      "cell_type": "code",
      "metadata": {
        "colab": {
          "base_uri": "https://localhost:8080/"
        },
        "id": "BzkB2lQo34mV",
        "outputId": "44d75dbd-5b34-44f3-afb3-1ad119ea49e0"
      },
      "source": [
        "df_age = df.dropna(subset=['age'], how='any', axis=0)\n",
        "len(df_age)"
      ],
      "execution_count": 200,
      "outputs": [
        {
          "output_type": "execute_result",
          "data": {
            "text/plain": [
              "714"
            ]
          },
          "metadata": {},
          "execution_count": 200
        }
      ]
    },
    {
      "cell_type": "markdown",
      "metadata": {
        "id": "yB3_ApHr3pdA"
      },
      "source": [
        "### **1.1.3. 누락된 데이터 대체하기**"
      ]
    },
    {
      "cell_type": "markdown",
      "metadata": {
        "id": "e5wMkYs36LSz"
      },
      "source": [
        "기존 데이터를 최대한 살려서 사용할 수 있도록 누락된 값을 다른 값으로 대체하는 방법을 우선 고려해야 합니다. 무조건 행이나 열을 삭제하는 방법은 데이터를 크게 손상시킵니다.\n",
        "\n",
        "핵심적으로 쓰이는 메서드는 `fillna()`입니다. `NaN` 값을 다른 값으로 대체하는 메서드입니다. 누락된 값을 대체할 값으로는 **평균값**, **최빈값**, **중간값** 등을 고려할 수 있습니다.\n",
        "\n",
        "먼저 'age'열의 `NaN` 값을 평균값으로 대체하겠습니다."
      ]
    },
    {
      "cell_type": "code",
      "metadata": {
        "colab": {
          "base_uri": "https://localhost:8080/"
        },
        "id": "VWLqD5BR7x6D",
        "outputId": "65ad0165-3114-4d91-c13e-8a454eba878b"
      },
      "source": [
        "age_mean = df['age'].mean(axis=0)\n",
        "# `inplace=True` 옵션을 지정하여 원본 데이터프레임 객체를 영구적으로 변경합니다.\n",
        "df['age'].fillna(age_mean, inplace=True)\n",
        "\n",
        "print(f\"NaN: {sum(df['age'].isnull())}개\")\n",
        "print()\n",
        "print(df['age'].value_counts(dropna=False))"
      ],
      "execution_count": 201,
      "outputs": [
        {
          "output_type": "stream",
          "name": "stdout",
          "text": [
            "NaN: 0개\n",
            "\n",
            "29.699118    177\n",
            "24.000000     30\n",
            "22.000000     27\n",
            "18.000000     26\n",
            "28.000000     25\n",
            "            ... \n",
            "55.500000      1\n",
            "53.000000      1\n",
            "20.500000      1\n",
            "23.500000      1\n",
            "0.420000       1\n",
            "Name: age, Length: 89, dtype: int64\n"
          ]
        }
      ]
    },
    {
      "cell_type": "markdown",
      "metadata": {
        "id": "L2qvIefZ9gHM"
      },
      "source": [
        "`NaN` 값 177개가 평균값인 29.699로 대체되었습니다.\n",
        "\n",
        "다음은 'embark_town' 열의 `NaN` 값을 최빈값으로 대체하겠습니다. 먼저 `NaN` 값이 존재하는 레코드를 확인하겠습니다. 불리언 인덱싱을 사용합니다."
      ]
    },
    {
      "cell_type": "code",
      "metadata": {
        "colab": {
          "base_uri": "https://localhost:8080/",
          "height": 112
        },
        "id": "wg9kVtuBANls",
        "outputId": "8252999e-2d4f-4660-dd79-ec60c9ddadd4"
      },
      "source": [
        "embark_town_nan = df['embark_town'].isnull()\n",
        "df[embark_town_nan]"
      ],
      "execution_count": 202,
      "outputs": [
        {
          "output_type": "execute_result",
          "data": {
            "text/html": [
              "<div>\n",
              "<style scoped>\n",
              "    .dataframe tbody tr th:only-of-type {\n",
              "        vertical-align: middle;\n",
              "    }\n",
              "\n",
              "    .dataframe tbody tr th {\n",
              "        vertical-align: top;\n",
              "    }\n",
              "\n",
              "    .dataframe thead th {\n",
              "        text-align: right;\n",
              "    }\n",
              "</style>\n",
              "<table border=\"1\" class=\"dataframe\">\n",
              "  <thead>\n",
              "    <tr style=\"text-align: right;\">\n",
              "      <th></th>\n",
              "      <th>survived</th>\n",
              "      <th>pclass</th>\n",
              "      <th>sex</th>\n",
              "      <th>age</th>\n",
              "      <th>sibsp</th>\n",
              "      <th>parch</th>\n",
              "      <th>fare</th>\n",
              "      <th>embarked</th>\n",
              "      <th>class</th>\n",
              "      <th>who</th>\n",
              "      <th>adult_male</th>\n",
              "      <th>deck</th>\n",
              "      <th>embark_town</th>\n",
              "      <th>alive</th>\n",
              "      <th>alone</th>\n",
              "    </tr>\n",
              "  </thead>\n",
              "  <tbody>\n",
              "    <tr>\n",
              "      <th>61</th>\n",
              "      <td>1</td>\n",
              "      <td>1</td>\n",
              "      <td>female</td>\n",
              "      <td>38.0</td>\n",
              "      <td>0</td>\n",
              "      <td>0</td>\n",
              "      <td>80.0</td>\n",
              "      <td>NaN</td>\n",
              "      <td>First</td>\n",
              "      <td>woman</td>\n",
              "      <td>False</td>\n",
              "      <td>B</td>\n",
              "      <td>NaN</td>\n",
              "      <td>yes</td>\n",
              "      <td>True</td>\n",
              "    </tr>\n",
              "    <tr>\n",
              "      <th>829</th>\n",
              "      <td>1</td>\n",
              "      <td>1</td>\n",
              "      <td>female</td>\n",
              "      <td>62.0</td>\n",
              "      <td>0</td>\n",
              "      <td>0</td>\n",
              "      <td>80.0</td>\n",
              "      <td>NaN</td>\n",
              "      <td>First</td>\n",
              "      <td>woman</td>\n",
              "      <td>False</td>\n",
              "      <td>B</td>\n",
              "      <td>NaN</td>\n",
              "      <td>yes</td>\n",
              "      <td>True</td>\n",
              "    </tr>\n",
              "  </tbody>\n",
              "</table>\n",
              "</div>"
            ],
            "text/plain": [
              "     survived  pclass     sex   age  ...  deck  embark_town  alive alone\n",
              "61          1       1  female  38.0  ...     B          NaN    yes  True\n",
              "829         1       1  female  62.0  ...     B          NaN    yes  True\n",
              "\n",
              "[2 rows x 15 columns]"
            ]
          },
          "metadata": {},
          "execution_count": 202
        }
      ]
    },
    {
      "cell_type": "markdown",
      "metadata": {
        "id": "xOCJvk_JC0mc"
      },
      "source": [
        "`value_counts()` 메서드로 각 값의 개수를 구합니다."
      ]
    },
    {
      "cell_type": "code",
      "metadata": {
        "colab": {
          "base_uri": "https://localhost:8080/"
        },
        "id": "Ffo99z0QCsIC",
        "outputId": "76f74156-77fd-4ab1-8fe5-8cf3c1dda8c6"
      },
      "source": [
        "embark_town_value_counts = df['embark_town'].value_counts(dropna=False)\n",
        "embark_town_value_counts"
      ],
      "execution_count": 203,
      "outputs": [
        {
          "output_type": "execute_result",
          "data": {
            "text/plain": [
              "Southampton    644\n",
              "Cherbourg      168\n",
              "Queenstown      77\n",
              "NaN              2\n",
              "Name: embark_town, dtype: int64"
            ]
          },
          "metadata": {},
          "execution_count": 203
        }
      ]
    },
    {
      "cell_type": "markdown",
      "metadata": {
        "id": "9_-16c3vDVBi"
      },
      "source": [
        "최빈값은 'Southampton'입니다. `idxmax()` 메서드를 사용하면 최빈값만 출력할 수 있습니다."
      ]
    },
    {
      "cell_type": "code",
      "metadata": {
        "colab": {
          "base_uri": "https://localhost:8080/",
          "height": 36
        },
        "id": "CR-31-oBDg5t",
        "outputId": "fe65083b-3538-467f-e2e7-e9c6b4877eac"
      },
      "source": [
        "embark_town_idxmax = embark_town_value_counts.idxmax()\n",
        "embark_town_idxmax"
      ],
      "execution_count": 204,
      "outputs": [
        {
          "output_type": "execute_result",
          "data": {
            "application/vnd.google.colaboratory.intrinsic+json": {
              "type": "string"
            },
            "text/plain": [
              "'Southampton'"
            ]
          },
          "metadata": {},
          "execution_count": 204
        }
      ]
    },
    {
      "cell_type": "markdown",
      "metadata": {
        "id": "5DtMxseeHIPI"
      },
      "source": [
        "`NaN` 값을 최빈값인 'Southampton'로 대체하고 대체 여부를 확인하겠습니다."
      ]
    },
    {
      "cell_type": "code",
      "metadata": {
        "colab": {
          "base_uri": "https://localhost:8080/",
          "height": 112
        },
        "id": "ixO9Rr7ZEl_m",
        "outputId": "5065d360-bc10-47e3-951a-9e9a17fafc28"
      },
      "source": [
        "df['embark_town'].fillna(embark_town_idxmax, inplace=True)\n",
        "df.loc[[61, 829], ['embark_town']]"
      ],
      "execution_count": 205,
      "outputs": [
        {
          "output_type": "execute_result",
          "data": {
            "text/html": [
              "<div>\n",
              "<style scoped>\n",
              "    .dataframe tbody tr th:only-of-type {\n",
              "        vertical-align: middle;\n",
              "    }\n",
              "\n",
              "    .dataframe tbody tr th {\n",
              "        vertical-align: top;\n",
              "    }\n",
              "\n",
              "    .dataframe thead th {\n",
              "        text-align: right;\n",
              "    }\n",
              "</style>\n",
              "<table border=\"1\" class=\"dataframe\">\n",
              "  <thead>\n",
              "    <tr style=\"text-align: right;\">\n",
              "      <th></th>\n",
              "      <th>embark_town</th>\n",
              "    </tr>\n",
              "  </thead>\n",
              "  <tbody>\n",
              "    <tr>\n",
              "      <th>61</th>\n",
              "      <td>Southampton</td>\n",
              "    </tr>\n",
              "    <tr>\n",
              "      <th>829</th>\n",
              "      <td>Southampton</td>\n",
              "    </tr>\n",
              "  </tbody>\n",
              "</table>\n",
              "</div>"
            ],
            "text/plain": [
              "     embark_town\n",
              "61   Southampton\n",
              "829  Southampton"
            ]
          },
          "metadata": {},
          "execution_count": 205
        }
      ]
    },
    {
      "cell_type": "markdown",
      "metadata": {
        "id": "DM4qk5_MS3R-"
      },
      "source": [
        "아래 형식으로도 확인할 수도 있지만 가능하면 `loc`과 `iloc`을 사용하는 습관을 들이는 것이 좋습니다."
      ]
    },
    {
      "cell_type": "code",
      "metadata": {
        "colab": {
          "base_uri": "https://localhost:8080/"
        },
        "id": "gM932N3DGy7I",
        "outputId": "fcfcffae-8dd4-4b31-c8af-b0f67978cabd"
      },
      "source": [
        "df['embark_town'][[61, 829]]"
      ],
      "execution_count": 206,
      "outputs": [
        {
          "output_type": "execute_result",
          "data": {
            "text/plain": [
              "61     Southampton\n",
              "829    Southampton\n",
              "Name: embark_town, dtype: object"
            ]
          },
          "metadata": {},
          "execution_count": 206
        }
      ]
    },
    {
      "cell_type": "markdown",
      "metadata": {
        "id": "8kInC5VPNNu_"
      },
      "source": [
        "서로 이웃한 값은 유사한 특성을 가졌을 가능성이 높습니다(물론 데이터셋마다 차이가 있습니다). 이 경우 `NaN` 값을 이웃한 값으로 바꾸려면 `fillna()` 메서드에 `method='bfill'` 또는 `method='ffill'` 옵션을 지정합니다. 아래는 이 옵션에 대한 예시입니다. 먼저 새로운 데이터프레임을 생성하겠습니다."
      ]
    },
    {
      "cell_type": "code",
      "metadata": {
        "colab": {
          "base_uri": "https://localhost:8080/",
          "height": 206
        },
        "id": "Y7bvHLt0QJOw",
        "outputId": "c89ddf04-302f-4aa0-fa75-9f2a75d6b509"
      },
      "source": [
        "df_ex = pd.DataFrame(np.random.randn(5, 3), columns=['C1', 'C2', 'C3'])\n",
        "\n",
        "df_ex.iloc[0, 0] = None\n",
        "df_ex.loc[1, ['C1', 'C3']] = np.nan\n",
        "df_ex.loc[2, 'C2'] = np.nan\n",
        "df_ex.loc[3, 'C2'] = np.nan\n",
        "df_ex.loc[4, 'C3'] = np.nan\n",
        "\n",
        "df_ex"
      ],
      "execution_count": 207,
      "outputs": [
        {
          "output_type": "execute_result",
          "data": {
            "text/html": [
              "<div>\n",
              "<style scoped>\n",
              "    .dataframe tbody tr th:only-of-type {\n",
              "        vertical-align: middle;\n",
              "    }\n",
              "\n",
              "    .dataframe tbody tr th {\n",
              "        vertical-align: top;\n",
              "    }\n",
              "\n",
              "    .dataframe thead th {\n",
              "        text-align: right;\n",
              "    }\n",
              "</style>\n",
              "<table border=\"1\" class=\"dataframe\">\n",
              "  <thead>\n",
              "    <tr style=\"text-align: right;\">\n",
              "      <th></th>\n",
              "      <th>C1</th>\n",
              "      <th>C2</th>\n",
              "      <th>C3</th>\n",
              "    </tr>\n",
              "  </thead>\n",
              "  <tbody>\n",
              "    <tr>\n",
              "      <th>0</th>\n",
              "      <td>NaN</td>\n",
              "      <td>-1.065565</td>\n",
              "      <td>-1.139278</td>\n",
              "    </tr>\n",
              "    <tr>\n",
              "      <th>1</th>\n",
              "      <td>NaN</td>\n",
              "      <td>-1.287267</td>\n",
              "      <td>NaN</td>\n",
              "    </tr>\n",
              "    <tr>\n",
              "      <th>2</th>\n",
              "      <td>-0.748355</td>\n",
              "      <td>NaN</td>\n",
              "      <td>-0.610993</td>\n",
              "    </tr>\n",
              "    <tr>\n",
              "      <th>3</th>\n",
              "      <td>0.591139</td>\n",
              "      <td>NaN</td>\n",
              "      <td>-0.860193</td>\n",
              "    </tr>\n",
              "    <tr>\n",
              "      <th>4</th>\n",
              "      <td>-0.938642</td>\n",
              "      <td>-1.297839</td>\n",
              "      <td>NaN</td>\n",
              "    </tr>\n",
              "  </tbody>\n",
              "</table>\n",
              "</div>"
            ],
            "text/plain": [
              "         C1        C2        C3\n",
              "0       NaN -1.065565 -1.139278\n",
              "1       NaN -1.287267       NaN\n",
              "2 -0.748355       NaN -0.610993\n",
              "3  0.591139       NaN -0.860193\n",
              "4 -0.938642 -1.297839       NaN"
            ]
          },
          "metadata": {},
          "execution_count": 207
        }
      ]
    },
    {
      "cell_type": "markdown",
      "metadata": {
        "id": "mbBoK8I-R3c0"
      },
      "source": [
        "`ffill`을 적용합니다. `NaN` 값에 `NaN` 값의 바로 위 레코드의 값을 채웁니다."
      ]
    },
    {
      "cell_type": "code",
      "metadata": {
        "colab": {
          "base_uri": "https://localhost:8080/",
          "height": 206
        },
        "id": "KeRwNtllR69n",
        "outputId": "f95e7fc1-d0b7-4cde-e574-22469c38268b"
      },
      "source": [
        "df_ex.fillna(method='ffill')"
      ],
      "execution_count": 208,
      "outputs": [
        {
          "output_type": "execute_result",
          "data": {
            "text/html": [
              "<div>\n",
              "<style scoped>\n",
              "    .dataframe tbody tr th:only-of-type {\n",
              "        vertical-align: middle;\n",
              "    }\n",
              "\n",
              "    .dataframe tbody tr th {\n",
              "        vertical-align: top;\n",
              "    }\n",
              "\n",
              "    .dataframe thead th {\n",
              "        text-align: right;\n",
              "    }\n",
              "</style>\n",
              "<table border=\"1\" class=\"dataframe\">\n",
              "  <thead>\n",
              "    <tr style=\"text-align: right;\">\n",
              "      <th></th>\n",
              "      <th>C1</th>\n",
              "      <th>C2</th>\n",
              "      <th>C3</th>\n",
              "    </tr>\n",
              "  </thead>\n",
              "  <tbody>\n",
              "    <tr>\n",
              "      <th>0</th>\n",
              "      <td>NaN</td>\n",
              "      <td>-1.065565</td>\n",
              "      <td>-1.139278</td>\n",
              "    </tr>\n",
              "    <tr>\n",
              "      <th>1</th>\n",
              "      <td>NaN</td>\n",
              "      <td>-1.287267</td>\n",
              "      <td>-1.139278</td>\n",
              "    </tr>\n",
              "    <tr>\n",
              "      <th>2</th>\n",
              "      <td>-0.748355</td>\n",
              "      <td>-1.287267</td>\n",
              "      <td>-0.610993</td>\n",
              "    </tr>\n",
              "    <tr>\n",
              "      <th>3</th>\n",
              "      <td>0.591139</td>\n",
              "      <td>-1.287267</td>\n",
              "      <td>-0.860193</td>\n",
              "    </tr>\n",
              "    <tr>\n",
              "      <th>4</th>\n",
              "      <td>-0.938642</td>\n",
              "      <td>-1.297839</td>\n",
              "      <td>-0.860193</td>\n",
              "    </tr>\n",
              "  </tbody>\n",
              "</table>\n",
              "</div>"
            ],
            "text/plain": [
              "         C1        C2        C3\n",
              "0       NaN -1.065565 -1.139278\n",
              "1       NaN -1.287267 -1.139278\n",
              "2 -0.748355 -1.287267 -0.610993\n",
              "3  0.591139 -1.287267 -0.860193\n",
              "4 -0.938642 -1.297839 -0.860193"
            ]
          },
          "metadata": {},
          "execution_count": 208
        }
      ]
    },
    {
      "cell_type": "markdown",
      "metadata": {
        "id": "vnDVzZWrSCkd"
      },
      "source": [
        "바로 위 레코드가 없는 `(0, 'C1')`, `(1, 'C1')`는 그대로 `NaN`입니다.\n",
        "\n",
        "`bfill`을 적용합니다. `NaN` 값에 `NaN` 값의 바로 아래 레코드의 값을 채웁니다."
      ]
    },
    {
      "cell_type": "code",
      "metadata": {
        "colab": {
          "base_uri": "https://localhost:8080/",
          "height": 206
        },
        "id": "2-nDCqQbSFWO",
        "outputId": "8d9f6245-f982-4de3-e252-2f9f657e0736"
      },
      "source": [
        "df_ex.fillna(method='bfill')"
      ],
      "execution_count": 209,
      "outputs": [
        {
          "output_type": "execute_result",
          "data": {
            "text/html": [
              "<div>\n",
              "<style scoped>\n",
              "    .dataframe tbody tr th:only-of-type {\n",
              "        vertical-align: middle;\n",
              "    }\n",
              "\n",
              "    .dataframe tbody tr th {\n",
              "        vertical-align: top;\n",
              "    }\n",
              "\n",
              "    .dataframe thead th {\n",
              "        text-align: right;\n",
              "    }\n",
              "</style>\n",
              "<table border=\"1\" class=\"dataframe\">\n",
              "  <thead>\n",
              "    <tr style=\"text-align: right;\">\n",
              "      <th></th>\n",
              "      <th>C1</th>\n",
              "      <th>C2</th>\n",
              "      <th>C3</th>\n",
              "    </tr>\n",
              "  </thead>\n",
              "  <tbody>\n",
              "    <tr>\n",
              "      <th>0</th>\n",
              "      <td>-0.748355</td>\n",
              "      <td>-1.065565</td>\n",
              "      <td>-1.139278</td>\n",
              "    </tr>\n",
              "    <tr>\n",
              "      <th>1</th>\n",
              "      <td>-0.748355</td>\n",
              "      <td>-1.287267</td>\n",
              "      <td>-0.610993</td>\n",
              "    </tr>\n",
              "    <tr>\n",
              "      <th>2</th>\n",
              "      <td>-0.748355</td>\n",
              "      <td>-1.297839</td>\n",
              "      <td>-0.610993</td>\n",
              "    </tr>\n",
              "    <tr>\n",
              "      <th>3</th>\n",
              "      <td>0.591139</td>\n",
              "      <td>-1.297839</td>\n",
              "      <td>-0.860193</td>\n",
              "    </tr>\n",
              "    <tr>\n",
              "      <th>4</th>\n",
              "      <td>-0.938642</td>\n",
              "      <td>-1.297839</td>\n",
              "      <td>NaN</td>\n",
              "    </tr>\n",
              "  </tbody>\n",
              "</table>\n",
              "</div>"
            ],
            "text/plain": [
              "         C1        C2        C3\n",
              "0 -0.748355 -1.065565 -1.139278\n",
              "1 -0.748355 -1.287267 -0.610993\n",
              "2 -0.748355 -1.297839 -0.610993\n",
              "3  0.591139 -1.297839 -0.860193\n",
              "4 -0.938642 -1.297839       NaN"
            ]
          },
          "metadata": {},
          "execution_count": 209
        }
      ]
    },
    {
      "cell_type": "markdown",
      "metadata": {
        "id": "taxNCYSS3Dum"
      },
      "source": [
        "## **1.2. 중복된 데이터**"
      ]
    },
    {
      "cell_type": "markdown",
      "metadata": {
        "id": "a_OXMu3lZHV-"
      },
      "source": [
        "데이터셋에 동일한 레코드가 있으면 삭제해야 합니다."
      ]
    },
    {
      "cell_type": "markdown",
      "metadata": {
        "id": "14Ultj9-3w6Z"
      },
      "source": [
        "### **1.2.1. 중복된 데이터 확인하기**"
      ]
    },
    {
      "cell_type": "markdown",
      "metadata": {
        "id": "BpMEu3IlaMyr"
      },
      "source": [
        "먼저 중복된 레코드를 가진 임의의 데이터프레임을 생성하겠습니다."
      ]
    },
    {
      "cell_type": "code",
      "metadata": {
        "colab": {
          "base_uri": "https://localhost:8080/",
          "height": 206
        },
        "id": "-g1qDrunZVKE",
        "outputId": "c226bfff-505a-433f-fbf7-3bcce44d8a22"
      },
      "source": [
        "df = pd.DataFrame({\n",
        "    'c1': ['a', 'a', 'b', 'b', 'c'],\n",
        "    'c2': [1, 1, 2, 3, 4],\n",
        "    'c3': [1, 1, 2, 2, 4]\n",
        "    })\n",
        "df"
      ],
      "execution_count": 210,
      "outputs": [
        {
          "output_type": "execute_result",
          "data": {
            "text/html": [
              "<div>\n",
              "<style scoped>\n",
              "    .dataframe tbody tr th:only-of-type {\n",
              "        vertical-align: middle;\n",
              "    }\n",
              "\n",
              "    .dataframe tbody tr th {\n",
              "        vertical-align: top;\n",
              "    }\n",
              "\n",
              "    .dataframe thead th {\n",
              "        text-align: right;\n",
              "    }\n",
              "</style>\n",
              "<table border=\"1\" class=\"dataframe\">\n",
              "  <thead>\n",
              "    <tr style=\"text-align: right;\">\n",
              "      <th></th>\n",
              "      <th>c1</th>\n",
              "      <th>c2</th>\n",
              "      <th>c3</th>\n",
              "    </tr>\n",
              "  </thead>\n",
              "  <tbody>\n",
              "    <tr>\n",
              "      <th>0</th>\n",
              "      <td>a</td>\n",
              "      <td>1</td>\n",
              "      <td>1</td>\n",
              "    </tr>\n",
              "    <tr>\n",
              "      <th>1</th>\n",
              "      <td>a</td>\n",
              "      <td>1</td>\n",
              "      <td>1</td>\n",
              "    </tr>\n",
              "    <tr>\n",
              "      <th>2</th>\n",
              "      <td>b</td>\n",
              "      <td>2</td>\n",
              "      <td>2</td>\n",
              "    </tr>\n",
              "    <tr>\n",
              "      <th>3</th>\n",
              "      <td>b</td>\n",
              "      <td>3</td>\n",
              "      <td>2</td>\n",
              "    </tr>\n",
              "    <tr>\n",
              "      <th>4</th>\n",
              "      <td>c</td>\n",
              "      <td>4</td>\n",
              "      <td>4</td>\n",
              "    </tr>\n",
              "  </tbody>\n",
              "</table>\n",
              "</div>"
            ],
            "text/plain": [
              "  c1  c2  c3\n",
              "0  a   1   1\n",
              "1  a   1   1\n",
              "2  b   2   2\n",
              "3  b   3   2\n",
              "4  c   4   4"
            ]
          },
          "metadata": {},
          "execution_count": 210
        }
      ]
    },
    {
      "cell_type": "markdown",
      "metadata": {
        "id": "IZXywiRcad7y"
      },
      "source": [
        "중복된 레코드를 확인하려면 데이터프레임 자체에 `duplicated()` 메서드를 적용합니다. 이 메서드는 중복된 레코드에 해당하는 위치를 `True`로 반환합니다. "
      ]
    },
    {
      "cell_type": "code",
      "metadata": {
        "colab": {
          "base_uri": "https://localhost:8080/"
        },
        "id": "3D-V2CefZ-R7",
        "outputId": "07166cb5-b136-4292-dab6-156181f37854"
      },
      "source": [
        "df_dupl = df.duplicated()\n",
        "df_dupl"
      ],
      "execution_count": 211,
      "outputs": [
        {
          "output_type": "execute_result",
          "data": {
            "text/plain": [
              "0    False\n",
              "1     True\n",
              "2    False\n",
              "3    False\n",
              "4    False\n",
              "dtype: bool"
            ]
          },
          "metadata": {},
          "execution_count": 211
        }
      ]
    },
    {
      "cell_type": "markdown",
      "metadata": {
        "id": "w05PHkXbbCju"
      },
      "source": [
        "0행과 1행의 레코드는 중복된 레코드입니다. 0행의 레코드는 첫 레코드이므로 정상 레코드로 인식하여 `False`를 반환하지만, 첫 레코드와 중복된 1행의 레코드는 `True`를 반환하는 것입니다.\n",
        "\n",
        "중복된 레코드 개수는 `sum()` 메서드를 활용해서 출력할 수 있습니다."
      ]
    },
    {
      "cell_type": "code",
      "metadata": {
        "colab": {
          "base_uri": "https://localhost:8080/"
        },
        "id": "4JPctqexqbGx",
        "outputId": "97fb4698-2e7e-477c-bdc5-baff2ddc5ed1"
      },
      "source": [
        "df_dupl.sum()"
      ],
      "execution_count": 212,
      "outputs": [
        {
          "output_type": "execute_result",
          "data": {
            "text/plain": [
              "1"
            ]
          },
          "metadata": {},
          "execution_count": 212
        }
      ]
    },
    {
      "cell_type": "markdown",
      "metadata": {
        "id": "CiH-Q2iqqfbk"
      },
      "source": [
        "이번에는 열만 골라서 중복 여부를 살피겠습니다. 처음 나온 값은 `False`, 처음 나온 값과 중복된 값은 `True`입니다."
      ]
    },
    {
      "cell_type": "code",
      "metadata": {
        "colab": {
          "base_uri": "https://localhost:8080/"
        },
        "id": "SqtPPXAob-wD",
        "outputId": "da0edd48-966e-43fe-f7f7-60c2e7f1cd33"
      },
      "source": [
        "col_dupl = df['c1'].duplicated()\n",
        "col_dupl"
      ],
      "execution_count": 213,
      "outputs": [
        {
          "output_type": "execute_result",
          "data": {
            "text/plain": [
              "0    False\n",
              "1     True\n",
              "2    False\n",
              "3     True\n",
              "4    False\n",
              "Name: c1, dtype: bool"
            ]
          },
          "metadata": {},
          "execution_count": 213
        }
      ]
    },
    {
      "cell_type": "markdown",
      "metadata": {
        "id": "JHRoQVmd3w3f"
      },
      "source": [
        "### **1.2.2. 중복된 데이터 제거하기**"
      ]
    },
    {
      "cell_type": "markdown",
      "metadata": {
        "id": "wpsp-rQvehJG"
      },
      "source": [
        "`drop_duplicates()` 메서드를 사용하면 고유한 데이터를 남기고 중복되는 데이터를 제거할 수 있습니다."
      ]
    },
    {
      "cell_type": "code",
      "metadata": {
        "colab": {
          "base_uri": "https://localhost:8080/",
          "height": 206
        },
        "id": "lop3mmxgetxU",
        "outputId": "c119d5e0-6151-4ceb-c999-0e2806417f43"
      },
      "source": [
        "df"
      ],
      "execution_count": 214,
      "outputs": [
        {
          "output_type": "execute_result",
          "data": {
            "text/html": [
              "<div>\n",
              "<style scoped>\n",
              "    .dataframe tbody tr th:only-of-type {\n",
              "        vertical-align: middle;\n",
              "    }\n",
              "\n",
              "    .dataframe tbody tr th {\n",
              "        vertical-align: top;\n",
              "    }\n",
              "\n",
              "    .dataframe thead th {\n",
              "        text-align: right;\n",
              "    }\n",
              "</style>\n",
              "<table border=\"1\" class=\"dataframe\">\n",
              "  <thead>\n",
              "    <tr style=\"text-align: right;\">\n",
              "      <th></th>\n",
              "      <th>c1</th>\n",
              "      <th>c2</th>\n",
              "      <th>c3</th>\n",
              "    </tr>\n",
              "  </thead>\n",
              "  <tbody>\n",
              "    <tr>\n",
              "      <th>0</th>\n",
              "      <td>a</td>\n",
              "      <td>1</td>\n",
              "      <td>1</td>\n",
              "    </tr>\n",
              "    <tr>\n",
              "      <th>1</th>\n",
              "      <td>a</td>\n",
              "      <td>1</td>\n",
              "      <td>1</td>\n",
              "    </tr>\n",
              "    <tr>\n",
              "      <th>2</th>\n",
              "      <td>b</td>\n",
              "      <td>2</td>\n",
              "      <td>2</td>\n",
              "    </tr>\n",
              "    <tr>\n",
              "      <th>3</th>\n",
              "      <td>b</td>\n",
              "      <td>3</td>\n",
              "      <td>2</td>\n",
              "    </tr>\n",
              "    <tr>\n",
              "      <th>4</th>\n",
              "      <td>c</td>\n",
              "      <td>4</td>\n",
              "      <td>4</td>\n",
              "    </tr>\n",
              "  </tbody>\n",
              "</table>\n",
              "</div>"
            ],
            "text/plain": [
              "  c1  c2  c3\n",
              "0  a   1   1\n",
              "1  a   1   1\n",
              "2  b   2   2\n",
              "3  b   3   2\n",
              "4  c   4   4"
            ]
          },
          "metadata": {},
          "execution_count": 214
        }
      ]
    },
    {
      "cell_type": "code",
      "metadata": {
        "colab": {
          "base_uri": "https://localhost:8080/",
          "height": 174
        },
        "id": "MMCV9UFfexBb",
        "outputId": "276a2a7e-ed22-405b-e9fb-f8fc4a664340"
      },
      "source": [
        "# `inplace=True`로 지정하면 기존 데이터프레임 자체를 변경합니다.\n",
        "# 여기서는 지정하지 않겠습니다.\n",
        "df.drop_duplicates()"
      ],
      "execution_count": 215,
      "outputs": [
        {
          "output_type": "execute_result",
          "data": {
            "text/html": [
              "<div>\n",
              "<style scoped>\n",
              "    .dataframe tbody tr th:only-of-type {\n",
              "        vertical-align: middle;\n",
              "    }\n",
              "\n",
              "    .dataframe tbody tr th {\n",
              "        vertical-align: top;\n",
              "    }\n",
              "\n",
              "    .dataframe thead th {\n",
              "        text-align: right;\n",
              "    }\n",
              "</style>\n",
              "<table border=\"1\" class=\"dataframe\">\n",
              "  <thead>\n",
              "    <tr style=\"text-align: right;\">\n",
              "      <th></th>\n",
              "      <th>c1</th>\n",
              "      <th>c2</th>\n",
              "      <th>c3</th>\n",
              "    </tr>\n",
              "  </thead>\n",
              "  <tbody>\n",
              "    <tr>\n",
              "      <th>0</th>\n",
              "      <td>a</td>\n",
              "      <td>1</td>\n",
              "      <td>1</td>\n",
              "    </tr>\n",
              "    <tr>\n",
              "      <th>2</th>\n",
              "      <td>b</td>\n",
              "      <td>2</td>\n",
              "      <td>2</td>\n",
              "    </tr>\n",
              "    <tr>\n",
              "      <th>3</th>\n",
              "      <td>b</td>\n",
              "      <td>3</td>\n",
              "      <td>2</td>\n",
              "    </tr>\n",
              "    <tr>\n",
              "      <th>4</th>\n",
              "      <td>c</td>\n",
              "      <td>4</td>\n",
              "      <td>4</td>\n",
              "    </tr>\n",
              "  </tbody>\n",
              "</table>\n",
              "</div>"
            ],
            "text/plain": [
              "  c1  c2  c3\n",
              "0  a   1   1\n",
              "2  b   2   2\n",
              "3  b   3   2\n",
              "4  c   4   4"
            ]
          },
          "metadata": {},
          "execution_count": 215
        }
      ]
    },
    {
      "cell_type": "markdown",
      "metadata": {
        "id": "XLJf2Saxe-HL"
      },
      "source": [
        "1행의 레코드가 삭제되었습니다.\n",
        "\n",
        "열에 적용하겠습니다."
      ]
    },
    {
      "cell_type": "code",
      "metadata": {
        "colab": {
          "base_uri": "https://localhost:8080/",
          "height": 143
        },
        "id": "Os5GIfzdfQSA",
        "outputId": "f0a79003-9553-44a8-96bd-09eff0f14c33"
      },
      "source": [
        "df.drop_duplicates('c1')"
      ],
      "execution_count": 216,
      "outputs": [
        {
          "output_type": "execute_result",
          "data": {
            "text/html": [
              "<div>\n",
              "<style scoped>\n",
              "    .dataframe tbody tr th:only-of-type {\n",
              "        vertical-align: middle;\n",
              "    }\n",
              "\n",
              "    .dataframe tbody tr th {\n",
              "        vertical-align: top;\n",
              "    }\n",
              "\n",
              "    .dataframe thead th {\n",
              "        text-align: right;\n",
              "    }\n",
              "</style>\n",
              "<table border=\"1\" class=\"dataframe\">\n",
              "  <thead>\n",
              "    <tr style=\"text-align: right;\">\n",
              "      <th></th>\n",
              "      <th>c1</th>\n",
              "      <th>c2</th>\n",
              "      <th>c3</th>\n",
              "    </tr>\n",
              "  </thead>\n",
              "  <tbody>\n",
              "    <tr>\n",
              "      <th>0</th>\n",
              "      <td>a</td>\n",
              "      <td>1</td>\n",
              "      <td>1</td>\n",
              "    </tr>\n",
              "    <tr>\n",
              "      <th>2</th>\n",
              "      <td>b</td>\n",
              "      <td>2</td>\n",
              "      <td>2</td>\n",
              "    </tr>\n",
              "    <tr>\n",
              "      <th>4</th>\n",
              "      <td>c</td>\n",
              "      <td>4</td>\n",
              "      <td>4</td>\n",
              "    </tr>\n",
              "  </tbody>\n",
              "</table>\n",
              "</div>"
            ],
            "text/plain": [
              "  c1  c2  c3\n",
              "0  a   1   1\n",
              "2  b   2   2\n",
              "4  c   4   4"
            ]
          },
          "metadata": {},
          "execution_count": 216
        }
      ]
    },
    {
      "cell_type": "code",
      "metadata": {
        "colab": {
          "base_uri": "https://localhost:8080/",
          "height": 143
        },
        "id": "oBAvleaFfc8H",
        "outputId": "d4fdb742-6566-4850-c475-6477f762fbf4"
      },
      "source": [
        "# `subset=['c1', 'c3']` 옵션과 같습니다.\n",
        "df.drop_duplicates(['c1', 'c3'])"
      ],
      "execution_count": 217,
      "outputs": [
        {
          "output_type": "execute_result",
          "data": {
            "text/html": [
              "<div>\n",
              "<style scoped>\n",
              "    .dataframe tbody tr th:only-of-type {\n",
              "        vertical-align: middle;\n",
              "    }\n",
              "\n",
              "    .dataframe tbody tr th {\n",
              "        vertical-align: top;\n",
              "    }\n",
              "\n",
              "    .dataframe thead th {\n",
              "        text-align: right;\n",
              "    }\n",
              "</style>\n",
              "<table border=\"1\" class=\"dataframe\">\n",
              "  <thead>\n",
              "    <tr style=\"text-align: right;\">\n",
              "      <th></th>\n",
              "      <th>c1</th>\n",
              "      <th>c2</th>\n",
              "      <th>c3</th>\n",
              "    </tr>\n",
              "  </thead>\n",
              "  <tbody>\n",
              "    <tr>\n",
              "      <th>0</th>\n",
              "      <td>a</td>\n",
              "      <td>1</td>\n",
              "      <td>1</td>\n",
              "    </tr>\n",
              "    <tr>\n",
              "      <th>2</th>\n",
              "      <td>b</td>\n",
              "      <td>2</td>\n",
              "      <td>2</td>\n",
              "    </tr>\n",
              "    <tr>\n",
              "      <th>4</th>\n",
              "      <td>c</td>\n",
              "      <td>4</td>\n",
              "      <td>4</td>\n",
              "    </tr>\n",
              "  </tbody>\n",
              "</table>\n",
              "</div>"
            ],
            "text/plain": [
              "  c1  c2  c3\n",
              "0  a   1   1\n",
              "2  b   2   2\n",
              "4  c   4   4"
            ]
          },
          "metadata": {},
          "execution_count": 217
        }
      ]
    },
    {
      "cell_type": "markdown",
      "metadata": {
        "id": "i-vcyKWR3J-Y"
      },
      "source": [
        "## **1.3. 데이터 표준화**"
      ]
    },
    {
      "cell_type": "markdown",
      "metadata": {
        "id": "wgFfwZPsgQ0j"
      },
      "source": [
        "한 데이터셋에 여러 형태와 방식(단위, 대소문자, 약칭 등)으로 데이터가 구성되었다면 데이터 분석 정확도는 떨어질 수 밖에 없습니다. 데이터 일관성을 확보하려면 반드시 데이터 표준화 작업을 거쳐야 합니다."
      ]
    },
    {
      "cell_type": "markdown",
      "metadata": {
        "id": "iKarohFQ34nF"
      },
      "source": [
        "### **1.3.1. 단위 환산하기**"
      ]
    },
    {
      "cell_type": "code",
      "metadata": {
        "colab": {
          "base_uri": "https://localhost:8080/"
        },
        "id": "UtgSQjVuh-O-",
        "outputId": "fdacc9cc-0277-4276-a88c-16f383a67952"
      },
      "source": [
        "from google.colab import drive\n",
        "drive.mount('/content/gdrive/')"
      ],
      "execution_count": 218,
      "outputs": [
        {
          "output_type": "stream",
          "name": "stdout",
          "text": [
            "Drive already mounted at /content/gdrive/; to attempt to forcibly remount, call drive.mount(\"/content/gdrive/\", force_remount=True).\n"
          ]
        }
      ]
    },
    {
      "cell_type": "markdown",
      "metadata": {
        "id": "-xrd5C9UkNpt"
      },
      "source": [
        "[UCI 자동차 연비 데이터셋](https://archive.ics.uci.edu/ml/datasets/auto+mpg)을 사용하겠습니다."
      ]
    },
    {
      "cell_type": "code",
      "metadata": {
        "colab": {
          "base_uri": "https://localhost:8080/",
          "height": 206
        },
        "id": "eWLRGEo4iy5o",
        "outputId": "0e52cb63-d430-4018-af28-e741fb559eeb"
      },
      "source": [
        "df = pd.read_csv('/content/gdrive/MyDrive/Python_for_Data_Analytics_Science/5674-833_4th/part5/auto-mpg.csv',\n",
        "                 header=None)\n",
        "df.columns = ['mpg', 'cylinders', 'displacement', 'horsepower', 'weight',\n",
        "              'acceleration', 'model year', 'origin', 'name']\n",
        "df.head()"
      ],
      "execution_count": 219,
      "outputs": [
        {
          "output_type": "execute_result",
          "data": {
            "text/html": [
              "<div>\n",
              "<style scoped>\n",
              "    .dataframe tbody tr th:only-of-type {\n",
              "        vertical-align: middle;\n",
              "    }\n",
              "\n",
              "    .dataframe tbody tr th {\n",
              "        vertical-align: top;\n",
              "    }\n",
              "\n",
              "    .dataframe thead th {\n",
              "        text-align: right;\n",
              "    }\n",
              "</style>\n",
              "<table border=\"1\" class=\"dataframe\">\n",
              "  <thead>\n",
              "    <tr style=\"text-align: right;\">\n",
              "      <th></th>\n",
              "      <th>mpg</th>\n",
              "      <th>cylinders</th>\n",
              "      <th>displacement</th>\n",
              "      <th>horsepower</th>\n",
              "      <th>weight</th>\n",
              "      <th>acceleration</th>\n",
              "      <th>model year</th>\n",
              "      <th>origin</th>\n",
              "      <th>name</th>\n",
              "    </tr>\n",
              "  </thead>\n",
              "  <tbody>\n",
              "    <tr>\n",
              "      <th>0</th>\n",
              "      <td>18.0</td>\n",
              "      <td>8</td>\n",
              "      <td>307.0</td>\n",
              "      <td>130.0</td>\n",
              "      <td>3504.0</td>\n",
              "      <td>12.0</td>\n",
              "      <td>70</td>\n",
              "      <td>1</td>\n",
              "      <td>chevrolet chevelle malibu</td>\n",
              "    </tr>\n",
              "    <tr>\n",
              "      <th>1</th>\n",
              "      <td>15.0</td>\n",
              "      <td>8</td>\n",
              "      <td>350.0</td>\n",
              "      <td>165.0</td>\n",
              "      <td>3693.0</td>\n",
              "      <td>11.5</td>\n",
              "      <td>70</td>\n",
              "      <td>1</td>\n",
              "      <td>buick skylark 320</td>\n",
              "    </tr>\n",
              "    <tr>\n",
              "      <th>2</th>\n",
              "      <td>18.0</td>\n",
              "      <td>8</td>\n",
              "      <td>318.0</td>\n",
              "      <td>150.0</td>\n",
              "      <td>3436.0</td>\n",
              "      <td>11.0</td>\n",
              "      <td>70</td>\n",
              "      <td>1</td>\n",
              "      <td>plymouth satellite</td>\n",
              "    </tr>\n",
              "    <tr>\n",
              "      <th>3</th>\n",
              "      <td>16.0</td>\n",
              "      <td>8</td>\n",
              "      <td>304.0</td>\n",
              "      <td>150.0</td>\n",
              "      <td>3433.0</td>\n",
              "      <td>12.0</td>\n",
              "      <td>70</td>\n",
              "      <td>1</td>\n",
              "      <td>amc rebel sst</td>\n",
              "    </tr>\n",
              "    <tr>\n",
              "      <th>4</th>\n",
              "      <td>17.0</td>\n",
              "      <td>8</td>\n",
              "      <td>302.0</td>\n",
              "      <td>140.0</td>\n",
              "      <td>3449.0</td>\n",
              "      <td>10.5</td>\n",
              "      <td>70</td>\n",
              "      <td>1</td>\n",
              "      <td>ford torino</td>\n",
              "    </tr>\n",
              "  </tbody>\n",
              "</table>\n",
              "</div>"
            ],
            "text/plain": [
              "    mpg  cylinders  displacement  ... model year  origin                       name\n",
              "0  18.0          8         307.0  ...         70       1  chevrolet chevelle malibu\n",
              "1  15.0          8         350.0  ...         70       1          buick skylark 320\n",
              "2  18.0          8         318.0  ...         70       1         plymouth satellite\n",
              "3  16.0          8         304.0  ...         70       1              amc rebel sst\n",
              "4  17.0          8         302.0  ...         70       1                ford torino\n",
              "\n",
              "[5 rows x 9 columns]"
            ]
          },
          "metadata": {},
          "execution_count": 219
        }
      ]
    },
    {
      "cell_type": "code",
      "metadata": {
        "colab": {
          "base_uri": "https://localhost:8080/"
        },
        "id": "vsG3DASjn_Z3",
        "outputId": "d75f9b0f-28e6-4ea9-9b85-443f1a690e7a"
      },
      "source": [
        "df.info()"
      ],
      "execution_count": 220,
      "outputs": [
        {
          "output_type": "stream",
          "name": "stdout",
          "text": [
            "<class 'pandas.core.frame.DataFrame'>\n",
            "RangeIndex: 398 entries, 0 to 397\n",
            "Data columns (total 9 columns):\n",
            " #   Column        Non-Null Count  Dtype  \n",
            "---  ------        --------------  -----  \n",
            " 0   mpg           398 non-null    float64\n",
            " 1   cylinders     398 non-null    int64  \n",
            " 2   displacement  398 non-null    float64\n",
            " 3   horsepower    398 non-null    object \n",
            " 4   weight        398 non-null    float64\n",
            " 5   acceleration  398 non-null    float64\n",
            " 6   model year    398 non-null    int64  \n",
            " 7   origin        398 non-null    int64  \n",
            " 8   name          398 non-null    object \n",
            "dtypes: float64(4), int64(3), object(2)\n",
            "memory usage: 28.1+ KB\n"
          ]
        }
      ]
    },
    {
      "cell_type": "markdown",
      "metadata": {
        "id": "LcacmYhvquLU"
      },
      "source": [
        "`NaN` 값이 있는지 확인합니다."
      ]
    },
    {
      "cell_type": "code",
      "metadata": {
        "colab": {
          "base_uri": "https://localhost:8080/"
        },
        "id": "XAKLj410oOZM",
        "outputId": "b4268bad-07df-4406-b1d2-3bf111020516"
      },
      "source": [
        "df.isnull().sum(axis=0)"
      ],
      "execution_count": 221,
      "outputs": [
        {
          "output_type": "execute_result",
          "data": {
            "text/plain": [
              "mpg             0\n",
              "cylinders       0\n",
              "displacement    0\n",
              "horsepower      0\n",
              "weight          0\n",
              "acceleration    0\n",
              "model year      0\n",
              "origin          0\n",
              "name            0\n",
              "dtype: int64"
            ]
          },
          "metadata": {},
          "execution_count": 221
        }
      ]
    },
    {
      "cell_type": "markdown",
      "metadata": {
        "id": "eAMQWqK4qrMK"
      },
      "source": [
        "중복된 레코드가 있는지 여부를 확인합니다."
      ]
    },
    {
      "cell_type": "code",
      "metadata": {
        "colab": {
          "base_uri": "https://localhost:8080/"
        },
        "id": "3WAUc7C5oftM",
        "outputId": "90ef8a33-c190-4bc3-c7cf-4cfe37868700"
      },
      "source": [
        "df.duplicated().sum()"
      ],
      "execution_count": 222,
      "outputs": [
        {
          "output_type": "execute_result",
          "data": {
            "text/plain": [
              "0"
            ]
          },
          "metadata": {},
          "execution_count": 222
        }
      ]
    },
    {
      "cell_type": "markdown",
      "metadata": {
        "id": "yH9ziBtJknVC"
      },
      "source": [
        "'mpg' 열의 mpg는 mile per gallon(갤런당 마일)을 의미합니다. kilometer per liter(리터당 킬로미터)로 변환하기 위해 'kpl' 열을 추가하고 mpg 단위를 kpl 단위로 환산하겠습니다.\n",
        "\n",
        "참고로 1mile은 1.60934km이고, 1gallon은 3.78541L이므로, 1mpg는 0.425km/L입니다."
      ]
    },
    {
      "cell_type": "code",
      "metadata": {
        "colab": {
          "base_uri": "https://localhost:8080/",
          "height": 206
        },
        "id": "ZsxtCWKMi_J3",
        "outputId": "bccea2c0-9e0b-4a34-c945-035efbd3a43a"
      },
      "source": [
        "kpl_from_mpg = 1.60934 / 3.78541\n",
        "df['kpl'] = (df['mpg'] * kpl_from_mpg).round(3)\n",
        "df.head()"
      ],
      "execution_count": 223,
      "outputs": [
        {
          "output_type": "execute_result",
          "data": {
            "text/html": [
              "<div>\n",
              "<style scoped>\n",
              "    .dataframe tbody tr th:only-of-type {\n",
              "        vertical-align: middle;\n",
              "    }\n",
              "\n",
              "    .dataframe tbody tr th {\n",
              "        vertical-align: top;\n",
              "    }\n",
              "\n",
              "    .dataframe thead th {\n",
              "        text-align: right;\n",
              "    }\n",
              "</style>\n",
              "<table border=\"1\" class=\"dataframe\">\n",
              "  <thead>\n",
              "    <tr style=\"text-align: right;\">\n",
              "      <th></th>\n",
              "      <th>mpg</th>\n",
              "      <th>cylinders</th>\n",
              "      <th>displacement</th>\n",
              "      <th>horsepower</th>\n",
              "      <th>weight</th>\n",
              "      <th>acceleration</th>\n",
              "      <th>model year</th>\n",
              "      <th>origin</th>\n",
              "      <th>name</th>\n",
              "      <th>kpl</th>\n",
              "    </tr>\n",
              "  </thead>\n",
              "  <tbody>\n",
              "    <tr>\n",
              "      <th>0</th>\n",
              "      <td>18.0</td>\n",
              "      <td>8</td>\n",
              "      <td>307.0</td>\n",
              "      <td>130.0</td>\n",
              "      <td>3504.0</td>\n",
              "      <td>12.0</td>\n",
              "      <td>70</td>\n",
              "      <td>1</td>\n",
              "      <td>chevrolet chevelle malibu</td>\n",
              "      <td>7.653</td>\n",
              "    </tr>\n",
              "    <tr>\n",
              "      <th>1</th>\n",
              "      <td>15.0</td>\n",
              "      <td>8</td>\n",
              "      <td>350.0</td>\n",
              "      <td>165.0</td>\n",
              "      <td>3693.0</td>\n",
              "      <td>11.5</td>\n",
              "      <td>70</td>\n",
              "      <td>1</td>\n",
              "      <td>buick skylark 320</td>\n",
              "      <td>6.377</td>\n",
              "    </tr>\n",
              "    <tr>\n",
              "      <th>2</th>\n",
              "      <td>18.0</td>\n",
              "      <td>8</td>\n",
              "      <td>318.0</td>\n",
              "      <td>150.0</td>\n",
              "      <td>3436.0</td>\n",
              "      <td>11.0</td>\n",
              "      <td>70</td>\n",
              "      <td>1</td>\n",
              "      <td>plymouth satellite</td>\n",
              "      <td>7.653</td>\n",
              "    </tr>\n",
              "    <tr>\n",
              "      <th>3</th>\n",
              "      <td>16.0</td>\n",
              "      <td>8</td>\n",
              "      <td>304.0</td>\n",
              "      <td>150.0</td>\n",
              "      <td>3433.0</td>\n",
              "      <td>12.0</td>\n",
              "      <td>70</td>\n",
              "      <td>1</td>\n",
              "      <td>amc rebel sst</td>\n",
              "      <td>6.802</td>\n",
              "    </tr>\n",
              "    <tr>\n",
              "      <th>4</th>\n",
              "      <td>17.0</td>\n",
              "      <td>8</td>\n",
              "      <td>302.0</td>\n",
              "      <td>140.0</td>\n",
              "      <td>3449.0</td>\n",
              "      <td>10.5</td>\n",
              "      <td>70</td>\n",
              "      <td>1</td>\n",
              "      <td>ford torino</td>\n",
              "      <td>7.227</td>\n",
              "    </tr>\n",
              "  </tbody>\n",
              "</table>\n",
              "</div>"
            ],
            "text/plain": [
              "    mpg  cylinders  displacement  ... origin                       name    kpl\n",
              "0  18.0          8         307.0  ...      1  chevrolet chevelle malibu  7.653\n",
              "1  15.0          8         350.0  ...      1          buick skylark 320  6.377\n",
              "2  18.0          8         318.0  ...      1         plymouth satellite  7.653\n",
              "3  16.0          8         304.0  ...      1              amc rebel sst  6.802\n",
              "4  17.0          8         302.0  ...      1                ford torino  7.227\n",
              "\n",
              "[5 rows x 10 columns]"
            ]
          },
          "metadata": {},
          "execution_count": 223
        }
      ]
    },
    {
      "cell_type": "markdown",
      "metadata": {
        "id": "0SDDb_jB37F3"
      },
      "source": [
        "### **1.3.2. 자료형 변환하기**"
      ]
    },
    {
      "cell_type": "markdown",
      "metadata": {
        "id": "y2yx7iw1YRHN"
      },
      "source": [
        "숫자형 원소가 문자열 형식으로 입력되었다면 반드시 변환하는 과정을 거쳐야 합니다. 데이터 형식을 확인하겠습니다."
      ]
    },
    {
      "cell_type": "code",
      "metadata": {
        "colab": {
          "base_uri": "https://localhost:8080/",
          "height": 206
        },
        "id": "YuskIDefZEcS",
        "outputId": "31ad2fdd-2757-46b5-f907-d90ce6f10629"
      },
      "source": [
        "df.head()"
      ],
      "execution_count": 224,
      "outputs": [
        {
          "output_type": "execute_result",
          "data": {
            "text/html": [
              "<div>\n",
              "<style scoped>\n",
              "    .dataframe tbody tr th:only-of-type {\n",
              "        vertical-align: middle;\n",
              "    }\n",
              "\n",
              "    .dataframe tbody tr th {\n",
              "        vertical-align: top;\n",
              "    }\n",
              "\n",
              "    .dataframe thead th {\n",
              "        text-align: right;\n",
              "    }\n",
              "</style>\n",
              "<table border=\"1\" class=\"dataframe\">\n",
              "  <thead>\n",
              "    <tr style=\"text-align: right;\">\n",
              "      <th></th>\n",
              "      <th>mpg</th>\n",
              "      <th>cylinders</th>\n",
              "      <th>displacement</th>\n",
              "      <th>horsepower</th>\n",
              "      <th>weight</th>\n",
              "      <th>acceleration</th>\n",
              "      <th>model year</th>\n",
              "      <th>origin</th>\n",
              "      <th>name</th>\n",
              "      <th>kpl</th>\n",
              "    </tr>\n",
              "  </thead>\n",
              "  <tbody>\n",
              "    <tr>\n",
              "      <th>0</th>\n",
              "      <td>18.0</td>\n",
              "      <td>8</td>\n",
              "      <td>307.0</td>\n",
              "      <td>130.0</td>\n",
              "      <td>3504.0</td>\n",
              "      <td>12.0</td>\n",
              "      <td>70</td>\n",
              "      <td>1</td>\n",
              "      <td>chevrolet chevelle malibu</td>\n",
              "      <td>7.653</td>\n",
              "    </tr>\n",
              "    <tr>\n",
              "      <th>1</th>\n",
              "      <td>15.0</td>\n",
              "      <td>8</td>\n",
              "      <td>350.0</td>\n",
              "      <td>165.0</td>\n",
              "      <td>3693.0</td>\n",
              "      <td>11.5</td>\n",
              "      <td>70</td>\n",
              "      <td>1</td>\n",
              "      <td>buick skylark 320</td>\n",
              "      <td>6.377</td>\n",
              "    </tr>\n",
              "    <tr>\n",
              "      <th>2</th>\n",
              "      <td>18.0</td>\n",
              "      <td>8</td>\n",
              "      <td>318.0</td>\n",
              "      <td>150.0</td>\n",
              "      <td>3436.0</td>\n",
              "      <td>11.0</td>\n",
              "      <td>70</td>\n",
              "      <td>1</td>\n",
              "      <td>plymouth satellite</td>\n",
              "      <td>7.653</td>\n",
              "    </tr>\n",
              "    <tr>\n",
              "      <th>3</th>\n",
              "      <td>16.0</td>\n",
              "      <td>8</td>\n",
              "      <td>304.0</td>\n",
              "      <td>150.0</td>\n",
              "      <td>3433.0</td>\n",
              "      <td>12.0</td>\n",
              "      <td>70</td>\n",
              "      <td>1</td>\n",
              "      <td>amc rebel sst</td>\n",
              "      <td>6.802</td>\n",
              "    </tr>\n",
              "    <tr>\n",
              "      <th>4</th>\n",
              "      <td>17.0</td>\n",
              "      <td>8</td>\n",
              "      <td>302.0</td>\n",
              "      <td>140.0</td>\n",
              "      <td>3449.0</td>\n",
              "      <td>10.5</td>\n",
              "      <td>70</td>\n",
              "      <td>1</td>\n",
              "      <td>ford torino</td>\n",
              "      <td>7.227</td>\n",
              "    </tr>\n",
              "  </tbody>\n",
              "</table>\n",
              "</div>"
            ],
            "text/plain": [
              "    mpg  cylinders  displacement  ... origin                       name    kpl\n",
              "0  18.0          8         307.0  ...      1  chevrolet chevelle malibu  7.653\n",
              "1  15.0          8         350.0  ...      1          buick skylark 320  6.377\n",
              "2  18.0          8         318.0  ...      1         plymouth satellite  7.653\n",
              "3  16.0          8         304.0  ...      1              amc rebel sst  6.802\n",
              "4  17.0          8         302.0  ...      1                ford torino  7.227\n",
              "\n",
              "[5 rows x 10 columns]"
            ]
          },
          "metadata": {},
          "execution_count": 224
        }
      ]
    },
    {
      "cell_type": "code",
      "metadata": {
        "colab": {
          "base_uri": "https://localhost:8080/"
        },
        "id": "g0USX3a8Y2Jo",
        "outputId": "e519d21a-2aa9-4d97-8d4d-82e2c7e7ff21"
      },
      "source": [
        "df.info()"
      ],
      "execution_count": 225,
      "outputs": [
        {
          "output_type": "stream",
          "name": "stdout",
          "text": [
            "<class 'pandas.core.frame.DataFrame'>\n",
            "RangeIndex: 398 entries, 0 to 397\n",
            "Data columns (total 10 columns):\n",
            " #   Column        Non-Null Count  Dtype  \n",
            "---  ------        --------------  -----  \n",
            " 0   mpg           398 non-null    float64\n",
            " 1   cylinders     398 non-null    int64  \n",
            " 2   displacement  398 non-null    float64\n",
            " 3   horsepower    398 non-null    object \n",
            " 4   weight        398 non-null    float64\n",
            " 5   acceleration  398 non-null    float64\n",
            " 6   model year    398 non-null    int64  \n",
            " 7   origin        398 non-null    int64  \n",
            " 8   name          398 non-null    object \n",
            " 9   kpl           398 non-null    float64\n",
            "dtypes: float64(5), int64(3), object(2)\n",
            "memory usage: 31.2+ KB\n"
          ]
        }
      ]
    },
    {
      "cell_type": "markdown",
      "metadata": {
        "id": "vVGQzFjvY5h8"
      },
      "source": [
        "`dtypes` 속성으로 바로 접근할 수도 있습니다. 참고로 객체의 속성을 확인하려면 `dir()` 메서드를 사용합니다."
      ]
    },
    {
      "cell_type": "code",
      "metadata": {
        "colab": {
          "base_uri": "https://localhost:8080/"
        },
        "id": "Nwx4PpEnl4Nv",
        "outputId": "7d71beb1-30b8-40ec-def8-c5bacbfc9364"
      },
      "source": [
        "dir(df)[:10]"
      ],
      "execution_count": 226,
      "outputs": [
        {
          "output_type": "execute_result",
          "data": {
            "text/plain": [
              "['T',\n",
              " '_AXIS_LEN',\n",
              " '_AXIS_NAMES',\n",
              " '_AXIS_NUMBERS',\n",
              " '_AXIS_ORDERS',\n",
              " '_AXIS_REVERSED',\n",
              " '_AXIS_TO_AXIS_NUMBER',\n",
              " '__abs__',\n",
              " '__add__',\n",
              " '__and__']"
            ]
          },
          "metadata": {},
          "execution_count": 226
        }
      ]
    },
    {
      "cell_type": "code",
      "metadata": {
        "colab": {
          "base_uri": "https://localhost:8080/"
        },
        "id": "vpyYjt80YdUA",
        "outputId": "f145f279-de4a-4902-d14e-e703fc7e2eb1"
      },
      "source": [
        "df.dtypes"
      ],
      "execution_count": 227,
      "outputs": [
        {
          "output_type": "execute_result",
          "data": {
            "text/plain": [
              "mpg             float64\n",
              "cylinders         int64\n",
              "displacement    float64\n",
              "horsepower       object\n",
              "weight          float64\n",
              "acceleration    float64\n",
              "model year        int64\n",
              "origin            int64\n",
              "name             object\n",
              "kpl             float64\n",
              "dtype: object"
            ]
          },
          "metadata": {},
          "execution_count": 227
        }
      ]
    },
    {
      "cell_type": "markdown",
      "metadata": {
        "id": "55SWhd-3ZIDU"
      },
      "source": [
        "'horsepower'는 엔진 출력을 나타내는 값을 담은 열입니다. 문자열 타입이므로 숫자형으로 변환해야 합니다. 다만 이 열에 숫자로 입력된 값이 문자열 타입인 이유를 먼저 파악할 필요가 있습니다. `unique()` 메서드으로 이 열의 고유값을 출력하고, `nunique()` 메서드로 고유값 개수를 출력하겠습니다."
      ]
    },
    {
      "cell_type": "code",
      "metadata": {
        "colab": {
          "base_uri": "https://localhost:8080/"
        },
        "id": "v5aZGf-KaGyy",
        "outputId": "3ac6b640-b424-4ca6-e302-55a6c244d814"
      },
      "source": [
        "print(df['horsepower'].unique())\n",
        "print()\n",
        "print(f'고유값 개수는 {df[\"horsepower\"].nunique(dropna=False)}개입니다.')"
      ],
      "execution_count": 228,
      "outputs": [
        {
          "output_type": "stream",
          "name": "stdout",
          "text": [
            "['130.0' '165.0' '150.0' '140.0' '198.0' '220.0' '215.0' '225.0' '190.0'\n",
            " '170.0' '160.0' '95.00' '97.00' '85.00' '88.00' '46.00' '87.00' '90.00'\n",
            " '113.0' '200.0' '210.0' '193.0' '?' '100.0' '105.0' '175.0' '153.0'\n",
            " '180.0' '110.0' '72.00' '86.00' '70.00' '76.00' '65.00' '69.00' '60.00'\n",
            " '80.00' '54.00' '208.0' '155.0' '112.0' '92.00' '145.0' '137.0' '158.0'\n",
            " '167.0' '94.00' '107.0' '230.0' '49.00' '75.00' '91.00' '122.0' '67.00'\n",
            " '83.00' '78.00' '52.00' '61.00' '93.00' '148.0' '129.0' '96.00' '71.00'\n",
            " '98.00' '115.0' '53.00' '81.00' '79.00' '120.0' '152.0' '102.0' '108.0'\n",
            " '68.00' '58.00' '149.0' '89.00' '63.00' '48.00' '66.00' '139.0' '103.0'\n",
            " '125.0' '133.0' '138.0' '135.0' '142.0' '77.00' '62.00' '132.0' '84.00'\n",
            " '64.00' '74.00' '116.0' '82.00']\n",
            "\n",
            "고유값 개수는 94개입니다.\n"
          ]
        }
      ]
    },
    {
      "cell_type": "markdown",
      "metadata": {
        "id": "HVRZsHHWaL3H"
      },
      "source": [
        "'?'가 포함되어 있기 때문에 숫자형이 아닌 문자열 타입으로 구성된 것입니다. 이 상황에서는 먼저 모든 '?'를 지우고 `NaN` 값으로 치환하는 방법을 시도할 수 있습니다.\n",
        "\n",
        "치환하기 전에 먼저 '?'가 포함된 레코드 개수를 파악하겠습니다. `value_counts()` 메서드의 출력물은 시리즈 형태이므로 리스트 인덱싱을 통해 접근할 수 있습니다."
      ]
    },
    {
      "cell_type": "code",
      "metadata": {
        "colab": {
          "base_uri": "https://localhost:8080/"
        },
        "id": "fNeQ1xtqbI-U",
        "outputId": "7d59d66f-6f67-48a2-b9df-c065df19d516"
      },
      "source": [
        "df['horsepower'].value_counts()['?']"
      ],
      "execution_count": 229,
      "outputs": [
        {
          "output_type": "execute_result",
          "data": {
            "text/plain": [
              "6"
            ]
          },
          "metadata": {},
          "execution_count": 229
        }
      ]
    },
    {
      "cell_type": "markdown",
      "metadata": {
        "id": "SrT_kH5Sf97V"
      },
      "source": [
        "이제 '?' 6개를 `NaN` 값으로 치환하고, `NaN` 값이 포함된 레코드 6개를 제거하겠습니다."
      ]
    },
    {
      "cell_type": "code",
      "metadata": {
        "colab": {
          "base_uri": "https://localhost:8080/"
        },
        "id": "WOa5c4iBgB_a",
        "outputId": "83dab455-d529-4456-d57b-e2d2051b493d"
      },
      "source": [
        "df['horsepower'].replace('?', np.nan, inplace=True)\n",
        "df.dropna(subset=['horsepower'], inplace=True)\n",
        "\n",
        "print(df['horsepower'].unique())\n",
        "print()\n",
        "print(f'고유값 개수는 {df[\"horsepower\"].nunique(dropna=False)}개입니다.')\n",
        "print()\n",
        "print(df.info())"
      ],
      "execution_count": 230,
      "outputs": [
        {
          "output_type": "stream",
          "name": "stdout",
          "text": [
            "['130.0' '165.0' '150.0' '140.0' '198.0' '220.0' '215.0' '225.0' '190.0'\n",
            " '170.0' '160.0' '95.00' '97.00' '85.00' '88.00' '46.00' '87.00' '90.00'\n",
            " '113.0' '200.0' '210.0' '193.0' '100.0' '105.0' '175.0' '153.0' '180.0'\n",
            " '110.0' '72.00' '86.00' '70.00' '76.00' '65.00' '69.00' '60.00' '80.00'\n",
            " '54.00' '208.0' '155.0' '112.0' '92.00' '145.0' '137.0' '158.0' '167.0'\n",
            " '94.00' '107.0' '230.0' '49.00' '75.00' '91.00' '122.0' '67.00' '83.00'\n",
            " '78.00' '52.00' '61.00' '93.00' '148.0' '129.0' '96.00' '71.00' '98.00'\n",
            " '115.0' '53.00' '81.00' '79.00' '120.0' '152.0' '102.0' '108.0' '68.00'\n",
            " '58.00' '149.0' '89.00' '63.00' '48.00' '66.00' '139.0' '103.0' '125.0'\n",
            " '133.0' '138.0' '135.0' '142.0' '77.00' '62.00' '132.0' '84.00' '64.00'\n",
            " '74.00' '116.0' '82.00']\n",
            "\n",
            "고유값 개수는 93개입니다.\n",
            "\n",
            "<class 'pandas.core.frame.DataFrame'>\n",
            "Int64Index: 392 entries, 0 to 397\n",
            "Data columns (total 10 columns):\n",
            " #   Column        Non-Null Count  Dtype  \n",
            "---  ------        --------------  -----  \n",
            " 0   mpg           392 non-null    float64\n",
            " 1   cylinders     392 non-null    int64  \n",
            " 2   displacement  392 non-null    float64\n",
            " 3   horsepower    392 non-null    object \n",
            " 4   weight        392 non-null    float64\n",
            " 5   acceleration  392 non-null    float64\n",
            " 6   model year    392 non-null    int64  \n",
            " 7   origin        392 non-null    int64  \n",
            " 8   name          392 non-null    object \n",
            " 9   kpl           392 non-null    float64\n",
            "dtypes: float64(5), int64(3), object(2)\n",
            "memory usage: 33.7+ KB\n",
            "None\n"
          ]
        }
      ]
    },
    {
      "cell_type": "markdown",
      "metadata": {
        "id": "WdBMsQUqjLOP"
      },
      "source": [
        "레코드 수가 398개에서 392개로 줄었습니다.\n",
        "\n",
        "이제 'horsepower' 열의 타입을 숫자형으로 바꾸겠습니다. `astype()` 메서드를 활용합니다. 형 변환 후에는 반드시 객체로 넘겨줘야 영구적으로 변환됩니다."
      ]
    },
    {
      "cell_type": "code",
      "metadata": {
        "colab": {
          "base_uri": "https://localhost:8080/"
        },
        "id": "iHxPITQ3jbJe",
        "outputId": "491d0cc9-e218-41a5-a63c-d9fa1b548975"
      },
      "source": [
        "df['horsepower'] = df['horsepower'].astype('float')\n",
        "df['horsepower'].dtypes"
      ],
      "execution_count": 231,
      "outputs": [
        {
          "output_type": "execute_result",
          "data": {
            "text/plain": [
              "dtype('float64')"
            ]
          },
          "metadata": {},
          "execution_count": 231
        }
      ]
    },
    {
      "cell_type": "markdown",
      "metadata": {
        "id": "T1eDnppKnBQv"
      },
      "source": [
        "다음은 'origin' 열의 값을 바꾸겠습니다. 데이터셋 속성에 대한 설명을 보면 'origin' 열의 1은 USA, 2는 EU, 3은 JPN으로 명시되어 있습니다. 대응하는 문자열 값으로 치환하겠습니다. 먼저 데이터 유형과 고유값을 확인합니다."
      ]
    },
    {
      "cell_type": "code",
      "metadata": {
        "colab": {
          "base_uri": "https://localhost:8080/"
        },
        "id": "PnwgLTWbnsz6",
        "outputId": "1260991a-4d92-4e9d-fd34-286683c12eae"
      },
      "source": [
        "print(df['origin'].dtypes)\n",
        "print()\n",
        "print(df['origin'].unique())\n",
        "print()\n",
        "print(df['origin'].value_counts())"
      ],
      "execution_count": 232,
      "outputs": [
        {
          "output_type": "stream",
          "name": "stdout",
          "text": [
            "int64\n",
            "\n",
            "[1 3 2]\n",
            "\n",
            "1    245\n",
            "3     79\n",
            "2     68\n",
            "Name: origin, dtype: int64\n"
          ]
        }
      ]
    },
    {
      "cell_type": "markdown",
      "metadata": {
        "id": "jm7OB5trptsz"
      },
      "source": [
        "이제 각 숫자에 대응하는 값으로 치환하겠습니다."
      ]
    },
    {
      "cell_type": "code",
      "metadata": {
        "id": "LY_nfEbgogpy"
      },
      "source": [
        "df['origin'].replace({1: 'USA', 2: 'EU', 3: 'JPN'}, inplace=True)"
      ],
      "execution_count": 233,
      "outputs": []
    },
    {
      "cell_type": "code",
      "metadata": {
        "colab": {
          "base_uri": "https://localhost:8080/"
        },
        "id": "bXl1b88do0e0",
        "outputId": "a6ad96df-0a3c-4fdb-957d-d738d5d63b2f"
      },
      "source": [
        "print(df['origin'].unique())"
      ],
      "execution_count": 234,
      "outputs": [
        {
          "output_type": "stream",
          "name": "stdout",
          "text": [
            "['USA' 'JPN' 'EU']\n"
          ]
        }
      ]
    },
    {
      "cell_type": "markdown",
      "metadata": {
        "id": "sVOvr2GVw522"
      },
      "source": [
        "추가로 고려해볼 점이라면 'origin' 열의 값처럼 일정한 값이 반복되는 데이터는 데이터 형식을 범주형으로 구성하는 편이 좋습니다. 현재 데이터 타입은 문자열인 `object`이며, 변환할 예정인 범주형의 데이터 타입은 `category`입니다. `astype()` 메서드를 사용하겠습니다."
      ]
    },
    {
      "cell_type": "code",
      "metadata": {
        "colab": {
          "base_uri": "https://localhost:8080/"
        },
        "id": "OkpHQyjp0MsF",
        "outputId": "444ec6f4-f117-44a9-a2f8-c36c6b55fe06"
      },
      "source": [
        "df['origin'] = df['origin'].astype('category')\n",
        "df['origin'].dtypes"
      ],
      "execution_count": 235,
      "outputs": [
        {
          "output_type": "execute_result",
          "data": {
            "text/plain": [
              "CategoricalDtype(categories=['EU', 'JPN', 'USA'], ordered=False)"
            ]
          },
          "metadata": {},
          "execution_count": 235
        }
      ]
    },
    {
      "cell_type": "markdown",
      "metadata": {
        "id": "PMtrOimf0jBA"
      },
      "source": [
        "'origin' 열뿐만 아니라 'model year' 열도 범주형으로 변환하기에 적합합니다(그대로 유지해도 무방합니다). 연도를 의미하는 숫자형 값으로 이루어진 이 열 또한 'origin' 열처럼 일정한 값이 반복됩니다. 아울러 숫자 크기보다는 시간 순서를 나타냅니다. 먼저 데이터를 확인하겠습니다."
      ]
    },
    {
      "cell_type": "code",
      "metadata": {
        "colab": {
          "base_uri": "https://localhost:8080/",
          "height": 206
        },
        "id": "dvx2Gt7R0ywh",
        "outputId": "b7fa45d5-6548-4500-8bd7-94cade04780e"
      },
      "source": [
        "df.head()"
      ],
      "execution_count": 236,
      "outputs": [
        {
          "output_type": "execute_result",
          "data": {
            "text/html": [
              "<div>\n",
              "<style scoped>\n",
              "    .dataframe tbody tr th:only-of-type {\n",
              "        vertical-align: middle;\n",
              "    }\n",
              "\n",
              "    .dataframe tbody tr th {\n",
              "        vertical-align: top;\n",
              "    }\n",
              "\n",
              "    .dataframe thead th {\n",
              "        text-align: right;\n",
              "    }\n",
              "</style>\n",
              "<table border=\"1\" class=\"dataframe\">\n",
              "  <thead>\n",
              "    <tr style=\"text-align: right;\">\n",
              "      <th></th>\n",
              "      <th>mpg</th>\n",
              "      <th>cylinders</th>\n",
              "      <th>displacement</th>\n",
              "      <th>horsepower</th>\n",
              "      <th>weight</th>\n",
              "      <th>acceleration</th>\n",
              "      <th>model year</th>\n",
              "      <th>origin</th>\n",
              "      <th>name</th>\n",
              "      <th>kpl</th>\n",
              "    </tr>\n",
              "  </thead>\n",
              "  <tbody>\n",
              "    <tr>\n",
              "      <th>0</th>\n",
              "      <td>18.0</td>\n",
              "      <td>8</td>\n",
              "      <td>307.0</td>\n",
              "      <td>130.0</td>\n",
              "      <td>3504.0</td>\n",
              "      <td>12.0</td>\n",
              "      <td>70</td>\n",
              "      <td>USA</td>\n",
              "      <td>chevrolet chevelle malibu</td>\n",
              "      <td>7.653</td>\n",
              "    </tr>\n",
              "    <tr>\n",
              "      <th>1</th>\n",
              "      <td>15.0</td>\n",
              "      <td>8</td>\n",
              "      <td>350.0</td>\n",
              "      <td>165.0</td>\n",
              "      <td>3693.0</td>\n",
              "      <td>11.5</td>\n",
              "      <td>70</td>\n",
              "      <td>USA</td>\n",
              "      <td>buick skylark 320</td>\n",
              "      <td>6.377</td>\n",
              "    </tr>\n",
              "    <tr>\n",
              "      <th>2</th>\n",
              "      <td>18.0</td>\n",
              "      <td>8</td>\n",
              "      <td>318.0</td>\n",
              "      <td>150.0</td>\n",
              "      <td>3436.0</td>\n",
              "      <td>11.0</td>\n",
              "      <td>70</td>\n",
              "      <td>USA</td>\n",
              "      <td>plymouth satellite</td>\n",
              "      <td>7.653</td>\n",
              "    </tr>\n",
              "    <tr>\n",
              "      <th>3</th>\n",
              "      <td>16.0</td>\n",
              "      <td>8</td>\n",
              "      <td>304.0</td>\n",
              "      <td>150.0</td>\n",
              "      <td>3433.0</td>\n",
              "      <td>12.0</td>\n",
              "      <td>70</td>\n",
              "      <td>USA</td>\n",
              "      <td>amc rebel sst</td>\n",
              "      <td>6.802</td>\n",
              "    </tr>\n",
              "    <tr>\n",
              "      <th>4</th>\n",
              "      <td>17.0</td>\n",
              "      <td>8</td>\n",
              "      <td>302.0</td>\n",
              "      <td>140.0</td>\n",
              "      <td>3449.0</td>\n",
              "      <td>10.5</td>\n",
              "      <td>70</td>\n",
              "      <td>USA</td>\n",
              "      <td>ford torino</td>\n",
              "      <td>7.227</td>\n",
              "    </tr>\n",
              "  </tbody>\n",
              "</table>\n",
              "</div>"
            ],
            "text/plain": [
              "    mpg  cylinders  displacement  ...  origin                       name    kpl\n",
              "0  18.0          8         307.0  ...     USA  chevrolet chevelle malibu  7.653\n",
              "1  15.0          8         350.0  ...     USA          buick skylark 320  6.377\n",
              "2  18.0          8         318.0  ...     USA         plymouth satellite  7.653\n",
              "3  16.0          8         304.0  ...     USA              amc rebel sst  6.802\n",
              "4  17.0          8         302.0  ...     USA                ford torino  7.227\n",
              "\n",
              "[5 rows x 10 columns]"
            ]
          },
          "metadata": {},
          "execution_count": 236
        }
      ]
    },
    {
      "cell_type": "code",
      "metadata": {
        "colab": {
          "base_uri": "https://localhost:8080/"
        },
        "id": "KXuL7eRh0w_D",
        "outputId": "be847816-56d5-43e8-c259-187dc102daf7"
      },
      "source": [
        "df.info()"
      ],
      "execution_count": 237,
      "outputs": [
        {
          "output_type": "stream",
          "name": "stdout",
          "text": [
            "<class 'pandas.core.frame.DataFrame'>\n",
            "Int64Index: 392 entries, 0 to 397\n",
            "Data columns (total 10 columns):\n",
            " #   Column        Non-Null Count  Dtype   \n",
            "---  ------        --------------  -----   \n",
            " 0   mpg           392 non-null    float64 \n",
            " 1   cylinders     392 non-null    int64   \n",
            " 2   displacement  392 non-null    float64 \n",
            " 3   horsepower    392 non-null    float64 \n",
            " 4   weight        392 non-null    float64 \n",
            " 5   acceleration  392 non-null    float64 \n",
            " 6   model year    392 non-null    int64   \n",
            " 7   origin        392 non-null    category\n",
            " 8   name          392 non-null    object  \n",
            " 9   kpl           392 non-null    float64 \n",
            "dtypes: category(1), float64(6), int64(2), object(1)\n",
            "memory usage: 31.1+ KB\n"
          ]
        }
      ]
    },
    {
      "cell_type": "code",
      "metadata": {
        "colab": {
          "base_uri": "https://localhost:8080/"
        },
        "id": "KVXuuPqi1ncq",
        "outputId": "b7b44c0e-bea1-4fe8-8fe4-14677c193dfb"
      },
      "source": [
        "df['model year'].unique()"
      ],
      "execution_count": 238,
      "outputs": [
        {
          "output_type": "execute_result",
          "data": {
            "text/plain": [
              "array([70, 71, 72, 73, 74, 75, 76, 77, 78, 79, 80, 81, 82])"
            ]
          },
          "metadata": {},
          "execution_count": 238
        }
      ]
    },
    {
      "cell_type": "code",
      "metadata": {
        "colab": {
          "base_uri": "https://localhost:8080/"
        },
        "id": "euuNp7rq1ecX",
        "outputId": "6a486642-7776-455d-fae3-a94329a35109"
      },
      "source": [
        "df['model year'].value_counts()"
      ],
      "execution_count": 239,
      "outputs": [
        {
          "output_type": "execute_result",
          "data": {
            "text/plain": [
              "73    40\n",
              "78    36\n",
              "76    34\n",
              "82    30\n",
              "75    30\n",
              "79    29\n",
              "70    29\n",
              "81    28\n",
              "77    28\n",
              "72    28\n",
              "80    27\n",
              "71    27\n",
              "74    26\n",
              "Name: model year, dtype: int64"
            ]
          },
          "metadata": {},
          "execution_count": 239
        }
      ]
    },
    {
      "cell_type": "markdown",
      "metadata": {
        "id": "wmjVbD7z1xA0"
      },
      "source": [
        "'model year' 열 값의 데이터 형식을 `category`로 변환하겠습니다."
      ]
    },
    {
      "cell_type": "code",
      "metadata": {
        "colab": {
          "base_uri": "https://localhost:8080/"
        },
        "id": "kRbDNNMv13Gt",
        "outputId": "2b93e935-b37e-4231-acc7-90e7c489f664"
      },
      "source": [
        "df['model year'] = df['model year'].astype('category')\n",
        "df['model year'].dtypes"
      ],
      "execution_count": 240,
      "outputs": [
        {
          "output_type": "execute_result",
          "data": {
            "text/plain": [
              "CategoricalDtype(categories=[70, 71, 72, 73, 74, 75, 76, 77, 78, 79, 80, 81, 82], ordered=False)"
            ]
          },
          "metadata": {},
          "execution_count": 240
        }
      ]
    },
    {
      "cell_type": "markdown",
      "metadata": {
        "id": "aWopsWld3J5M"
      },
      "source": [
        "## **1.4. 범주형 데이터**"
      ]
    },
    {
      "cell_type": "markdown",
      "metadata": {
        "id": "3kZRpDEB4CAv"
      },
      "source": [
        "### **1.4.1. 구간 분할하기**"
      ]
    },
    {
      "cell_type": "markdown",
      "metadata": {
        "id": "KbqhmThD5Dwm"
      },
      "source": [
        "위에서 잠시 범주형인 `category` 데이터 타입에 대해 다뤘습니다. 이번에는 연속 변수를 더 구체적으로 일정한 구간에 따라 분할(binning)하겠습니다."
      ]
    },
    {
      "cell_type": "code",
      "metadata": {
        "colab": {
          "base_uri": "https://localhost:8080/",
          "height": 206
        },
        "id": "EfraCZ845r7L",
        "outputId": "82ac5c0e-59e1-4777-e061-71dcb15399a3"
      },
      "source": [
        "df.head()"
      ],
      "execution_count": 241,
      "outputs": [
        {
          "output_type": "execute_result",
          "data": {
            "text/html": [
              "<div>\n",
              "<style scoped>\n",
              "    .dataframe tbody tr th:only-of-type {\n",
              "        vertical-align: middle;\n",
              "    }\n",
              "\n",
              "    .dataframe tbody tr th {\n",
              "        vertical-align: top;\n",
              "    }\n",
              "\n",
              "    .dataframe thead th {\n",
              "        text-align: right;\n",
              "    }\n",
              "</style>\n",
              "<table border=\"1\" class=\"dataframe\">\n",
              "  <thead>\n",
              "    <tr style=\"text-align: right;\">\n",
              "      <th></th>\n",
              "      <th>mpg</th>\n",
              "      <th>cylinders</th>\n",
              "      <th>displacement</th>\n",
              "      <th>horsepower</th>\n",
              "      <th>weight</th>\n",
              "      <th>acceleration</th>\n",
              "      <th>model year</th>\n",
              "      <th>origin</th>\n",
              "      <th>name</th>\n",
              "      <th>kpl</th>\n",
              "    </tr>\n",
              "  </thead>\n",
              "  <tbody>\n",
              "    <tr>\n",
              "      <th>0</th>\n",
              "      <td>18.0</td>\n",
              "      <td>8</td>\n",
              "      <td>307.0</td>\n",
              "      <td>130.0</td>\n",
              "      <td>3504.0</td>\n",
              "      <td>12.0</td>\n",
              "      <td>70</td>\n",
              "      <td>USA</td>\n",
              "      <td>chevrolet chevelle malibu</td>\n",
              "      <td>7.653</td>\n",
              "    </tr>\n",
              "    <tr>\n",
              "      <th>1</th>\n",
              "      <td>15.0</td>\n",
              "      <td>8</td>\n",
              "      <td>350.0</td>\n",
              "      <td>165.0</td>\n",
              "      <td>3693.0</td>\n",
              "      <td>11.5</td>\n",
              "      <td>70</td>\n",
              "      <td>USA</td>\n",
              "      <td>buick skylark 320</td>\n",
              "      <td>6.377</td>\n",
              "    </tr>\n",
              "    <tr>\n",
              "      <th>2</th>\n",
              "      <td>18.0</td>\n",
              "      <td>8</td>\n",
              "      <td>318.0</td>\n",
              "      <td>150.0</td>\n",
              "      <td>3436.0</td>\n",
              "      <td>11.0</td>\n",
              "      <td>70</td>\n",
              "      <td>USA</td>\n",
              "      <td>plymouth satellite</td>\n",
              "      <td>7.653</td>\n",
              "    </tr>\n",
              "    <tr>\n",
              "      <th>3</th>\n",
              "      <td>16.0</td>\n",
              "      <td>8</td>\n",
              "      <td>304.0</td>\n",
              "      <td>150.0</td>\n",
              "      <td>3433.0</td>\n",
              "      <td>12.0</td>\n",
              "      <td>70</td>\n",
              "      <td>USA</td>\n",
              "      <td>amc rebel sst</td>\n",
              "      <td>6.802</td>\n",
              "    </tr>\n",
              "    <tr>\n",
              "      <th>4</th>\n",
              "      <td>17.0</td>\n",
              "      <td>8</td>\n",
              "      <td>302.0</td>\n",
              "      <td>140.0</td>\n",
              "      <td>3449.0</td>\n",
              "      <td>10.5</td>\n",
              "      <td>70</td>\n",
              "      <td>USA</td>\n",
              "      <td>ford torino</td>\n",
              "      <td>7.227</td>\n",
              "    </tr>\n",
              "  </tbody>\n",
              "</table>\n",
              "</div>"
            ],
            "text/plain": [
              "    mpg  cylinders  displacement  ...  origin                       name    kpl\n",
              "0  18.0          8         307.0  ...     USA  chevrolet chevelle malibu  7.653\n",
              "1  15.0          8         350.0  ...     USA          buick skylark 320  6.377\n",
              "2  18.0          8         318.0  ...     USA         plymouth satellite  7.653\n",
              "3  16.0          8         304.0  ...     USA              amc rebel sst  6.802\n",
              "4  17.0          8         302.0  ...     USA                ford torino  7.227\n",
              "\n",
              "[5 rows x 10 columns]"
            ]
          },
          "metadata": {},
          "execution_count": 241
        }
      ]
    },
    {
      "cell_type": "code",
      "metadata": {
        "colab": {
          "base_uri": "https://localhost:8080/"
        },
        "id": "x1WrMBXd6XrF",
        "outputId": "e6fcb4f6-81ef-4777-a23e-325246d90402"
      },
      "source": [
        "df['horsepower'].min()"
      ],
      "execution_count": 242,
      "outputs": [
        {
          "output_type": "execute_result",
          "data": {
            "text/plain": [
              "46.0"
            ]
          },
          "metadata": {},
          "execution_count": 242
        }
      ]
    },
    {
      "cell_type": "code",
      "metadata": {
        "colab": {
          "base_uri": "https://localhost:8080/"
        },
        "id": "IbM-Yie66cbt",
        "outputId": "f16d8f8d-e74c-456d-fc90-557fd17eed56"
      },
      "source": [
        "df['horsepower'].max()"
      ],
      "execution_count": 243,
      "outputs": [
        {
          "output_type": "execute_result",
          "data": {
            "text/plain": [
              "230.0"
            ]
          },
          "metadata": {},
          "execution_count": 243
        }
      ]
    },
    {
      "cell_type": "markdown",
      "metadata": {
        "id": "COEmUlgt6iZe"
      },
      "source": [
        "'horsepower' 열 값의 최솟값과 최댓값은 각각 46.0, 230.0입니다. 참고로 이 열 값은 엔진 출력을 의미합니다. 임의로 구간을 나눈다면 낮은 출력, 중간 출력, 높은 출력으로 나눌 수 있습니다.\n",
        "\n",
        "일단 넘파이의 `histogram()` 메서드를 사용해서 구간에 속한 값의 개수를 가진 `values_count` 인스턴스와 경곗값을 가진 `boundary_values` 인스턴스를 만들겠습니다. 세 구간으로 나눌 예정이므로 경곗값은 4개가 생성되어야 합니다. 여기서 생성한 인스턴스 중에 `bin_dividers`는 아래에서 사용할 판다스의 `cut()` 메서드에 파라미터 값으로 지정할 예정입니다. "
      ]
    },
    {
      "cell_type": "code",
      "metadata": {
        "colab": {
          "base_uri": "https://localhost:8080/"
        },
        "id": "1U-vLoWL509w",
        "outputId": "6c825730-2c5f-46c7-e58a-0e8ceff39192"
      },
      "source": [
        "values_count, boundary_values = np.histogram(df['horsepower'], bins=3)\n",
        "# 각 구간에 속한 값의 개수를 출력합니다.\n",
        "print(values_count)\n",
        "# 경곗값을 출력합니다.\n",
        "print(boundary_values)"
      ],
      "execution_count": 244,
      "outputs": [
        {
          "output_type": "stream",
          "name": "stdout",
          "text": [
            "[257 103  32]\n",
            "[ 46.         107.33333333 168.66666667 230.        ]\n"
          ]
        }
      ]
    },
    {
      "cell_type": "markdown",
      "metadata": {
        "id": "5hA-BSYU6OPc"
      },
      "source": [
        "각 구간에 속한 값의 개수와 경곗값 4개가 출력됐습니다.\n",
        "\n",
        "판다스의 `cut()` 메서드를 사용하겠습니다. 매개변수 `x`에 `df['horsepower']`를 지정하여 'horsepower' 열 값을 적용하고, `bins`에 위에서 생성한 `boundary_values` 인스턴스를 지정하여 경계값을 적용합니다. 아울러 `labels`에 구간 3개만큼 구간명 3개를 적용하기 위해 구간명 3개를 가진 리스트 인스턴스인 `bin_name`을 생성해서 적용합니다. `include_lowest`는 처음 경계값(최솟값)인 46을 포함시킬지 여부를 지정하는 매개변수입니다."
      ]
    },
    {
      "cell_type": "code",
      "metadata": {
        "colab": {
          "base_uri": "https://localhost:8080/"
        },
        "id": "-KRWKksi9TUj",
        "outputId": "d6e2ff47-68f1-447f-a2da-43a3944da236"
      },
      "source": [
        "bin_name = ['낮은 출력', '중간 출력', '높은 출력']\n",
        "\n",
        "# 새로운 열인 'horsepower bin'을 생성합니다.\n",
        "df['horsepower bin'] = pd.cut(x=df['horsepower'],\n",
        "                              bins=boundary_values,\n",
        "                              labels=bin_name,\n",
        "                              include_lowest=True)\n",
        "\n",
        "df[['horsepower', 'horsepower bin']].value_counts()"
      ],
      "execution_count": 245,
      "outputs": [
        {
          "output_type": "execute_result",
          "data": {
            "text/plain": [
              "horsepower  horsepower bin\n",
              "150.0       중간 출력             22\n",
              "90.0        낮은 출력             20\n",
              "88.0        낮은 출력             19\n",
              "110.0       중간 출력             18\n",
              "100.0       낮은 출력             17\n",
              "                              ..\n",
              "103.0       낮은 출력              1\n",
              "94.0        낮은 출력              1\n",
              "93.0        낮은 출력              1\n",
              "91.0        낮은 출력              1\n",
              "102.0       낮은 출력              1\n",
              "Length: 93, dtype: int64"
            ]
          },
          "metadata": {},
          "execution_count": 245
        }
      ]
    },
    {
      "cell_type": "markdown",
      "metadata": {
        "id": "-TXfldWODXYh"
      },
      "source": [
        "'horsepower bin' 열의 데이터 타입을 확인하겠습니다. `cut()` 메서드로 새로운 열을 생성하면 `category`로 지정됩니다."
      ]
    },
    {
      "cell_type": "code",
      "metadata": {
        "colab": {
          "base_uri": "https://localhost:8080/"
        },
        "id": "a00MaDRyDUps",
        "outputId": "62769201-0b1d-4756-c24b-81403ca3c499"
      },
      "source": [
        "df['horsepower bin'].dtypes"
      ],
      "execution_count": 246,
      "outputs": [
        {
          "output_type": "execute_result",
          "data": {
            "text/plain": [
              "CategoricalDtype(categories=['낮은 출력', '중간 출력', '높은 출력'], ordered=True)"
            ]
          },
          "metadata": {},
          "execution_count": 246
        }
      ]
    },
    {
      "cell_type": "markdown",
      "metadata": {
        "id": "NdhqoNqZ4Foq"
      },
      "source": [
        "### **1.4.2. 원핫인코딩 하기**"
      ]
    },
    {
      "cell_type": "markdown",
      "metadata": {
        "id": "THW72qYIKXYI"
      },
      "source": [
        "컴퓨터가 인식할 수 있는 숫자는 수의 크기와 관련없이 0과 1입니다. 이렇게 **특성(feature)**의 존재 여부를 0(특성 없음)과 1(특성 있음)로 표현하는 변수를 **더미 변수(dummy variable)**라고 부르며, 0과 1로만 구성되는 **원핫벡터(one hot vector)**로 바꾸는 작업을 **원핫인코딩(one-hot-encoding)**으로 일컫습니다. 범주형 데이터를 머신러닝을 활용한 데이터 분석에 사용하려면 원핫인코딩 작업을 선행해야 합니다.\n",
        "\n",
        "판다스의 `get_dummies()` 메서드로 'horsepower bin' 열의 범주형 고윳값을 더미 변수로 변환하겠습니다."
      ]
    },
    {
      "cell_type": "code",
      "metadata": {
        "colab": {
          "base_uri": "https://localhost:8080/"
        },
        "id": "ylU5GNIgNmSU",
        "outputId": "6ac486bb-827e-4ed8-a46a-7c39eabce70f"
      },
      "source": [
        "horsepower_dummies = pd.get_dummies(df['horsepower bin'])\n",
        "print(horsepower_dummies.head(20))\n",
        "print()\n",
        "print(horsepower_dummies.dtypes)"
      ],
      "execution_count": 247,
      "outputs": [
        {
          "output_type": "stream",
          "name": "stdout",
          "text": [
            "    낮은 출력  중간 출력  높은 출력\n",
            "0       0      1      0\n",
            "1       0      1      0\n",
            "2       0      1      0\n",
            "3       0      1      0\n",
            "4       0      1      0\n",
            "5       0      0      1\n",
            "6       0      0      1\n",
            "7       0      0      1\n",
            "8       0      0      1\n",
            "9       0      0      1\n",
            "10      0      0      1\n",
            "11      0      1      0\n",
            "12      0      1      0\n",
            "13      0      0      1\n",
            "14      1      0      0\n",
            "15      1      0      0\n",
            "16      1      0      0\n",
            "17      1      0      0\n",
            "18      1      0      0\n",
            "19      1      0      0\n",
            "\n",
            "낮은 출력    uint8\n",
            "중간 출력    uint8\n",
            "높은 출력    uint8\n",
            "dtype: object\n"
          ]
        }
      ]
    },
    {
      "cell_type": "markdown",
      "metadata": {
        "id": "mteLM71ZbYEY"
      },
      "source": [
        "사이킷런의 `preprocessing` 모듈을 활용하여 원핫인코딩을 하겠습니다. 먼저 이 모듈의 `LabelEncoder()` 클래스와 `OneHotEncoder()` 클래스를 인스턴스화하겠습니다."
      ]
    },
    {
      "cell_type": "code",
      "metadata": {
        "id": "GXLA-arsPfax"
      },
      "source": [
        "from sklearn import preprocessing\n",
        "\n",
        "label_encoder = preprocessing.LabelEncoder()\n",
        "onehot_encoder = preprocessing.OneHotEncoder()"
      ],
      "execution_count": 248,
      "outputs": []
    },
    {
      "cell_type": "markdown",
      "metadata": {
        "id": "ay_7V3UIb5k4"
      },
      "source": [
        "`fit()` 메서드와 `transform()` 메서드를 결합한 `fit_transform()` 메서드에 'horsepower bin' 열의 데이터를 적용하여 문자열 범주를 숫자형 범주로 바꾸겠습니다. "
      ]
    },
    {
      "cell_type": "code",
      "metadata": {
        "colab": {
          "base_uri": "https://localhost:8080/"
        },
        "id": "K9PBM5njSVx6",
        "outputId": "e927eafa-b0ce-49e6-beb8-82e4f0058765"
      },
      "source": [
        "onehot_labeled = label_encoder.fit_transform(df['horsepower bin'])\n",
        "print(onehot_labeled)\n",
        "print(label_encoder.classes_)"
      ],
      "execution_count": 249,
      "outputs": [
        {
          "output_type": "stream",
          "name": "stdout",
          "text": [
            "[2 2 2 2 2 1 1 1 1 1 1 2 2 1 0 0 0 0 0 0 0 0 0 2 0 1 1 1 1 0 0 0 0 0 0 0 0\n",
            " 2 1 2 2 1 1 1 2 0 0 0 0 0 0 0 0 0 0 0 0 0 0 0 0 2 1 2 2 2 1 2 2 1 0 2 2 2\n",
            " 2 2 0 0 0 0 0 0 0 0 1 2 2 2 2 1 2 2 2 1 1 1 0 0 0 0 0 0 2 2 1 1 0 0 0 0 0\n",
            " 0 0 0 2 1 0 0 0 2 2 2 2 1 0 0 0 0 0 0 0 0 2 0 2 2 2 2 2 0 0 0 0 0 0 0 0 0\n",
            " 0 0 0 0 0 0 1 2 2 2 2 0 2 0 2 2 2 0 0 0 0 0 0 0 0 0 0 0 0 0 2 0 0 0 0 0 0\n",
            " 2 2 2 2 0 0 0 0 0 0 0 0 0 0 2 0 0 0 0 0 0 2 0 2 2 1 2 2 2 0 0 0 0 0 2 2 2\n",
            " 2 2 0 0 0 1 1 1 2 0 0 0 0 0 0 0 0 0 2 2 0 0 0 0 0 2 2 2 0 0 0 0 0 0 0 0 2\n",
            " 2 2 2 2 2 0 0 0 0 0 0 0 0 0 2 2 2 0 0 2 0 0 0 2 2 2 2 2 2 2 2 2 0 0 0 0 0\n",
            " 2 0 0 0 0 0 0 0 2 2 0 0 0 0 0 0 0 0 0 0 0 0 0 0 0 0 0 0 0 0 0 0 0 0 2 0 0\n",
            " 0 0 0 0 2 0 0 0 0 0 0 0 0 0 0 0 0 0 0 0 0 0 0 2 2 2 0 0 0 0 0 0 0 0 0 0 0\n",
            " 0 0 0 0 0 0 0 0 0 0 2 0 0 2 0 0 0 0 0 0 0 0]\n",
            "['낮은 출력' '높은 출력' '중간 출력']\n"
          ]
        }
      ]
    },
    {
      "cell_type": "markdown",
      "metadata": {
        "id": "x5PXmGaUfEFL"
      },
      "source": [
        "'낮은 출력'은 0, '높은 출력'은 1, '중간 출력'은 2를 의미합니다. 해당하는 값에 따라 숫자형 범주로 바뀌었습니다.\n",
        "\n",
        "`reshape()` 메서드를 사용하여 1차원 배열을 2차원 행렬(392, 1)로 바꾸겠습니다. 2차원 행렬로 바꾸는 이유는 `OneHotEncoder()` 클래스에 1차원 배열이 아닌 2차원 행렬을 적용할 수 있기 때문입니다."
      ]
    },
    {
      "cell_type": "code",
      "metadata": {
        "colab": {
          "base_uri": "https://localhost:8080/"
        },
        "id": "CRfRYTR4Sd4I",
        "outputId": "bb80f1bf-a2fb-451c-c37d-d0664a56476f"
      },
      "source": [
        "onehot_reshaped = onehot_labeled.reshape(len(onehot_labeled), 1)\n",
        "print(onehot_reshaped[:10])"
      ],
      "execution_count": 250,
      "outputs": [
        {
          "output_type": "stream",
          "name": "stdout",
          "text": [
            "[[2]\n",
            " [2]\n",
            " [2]\n",
            " [2]\n",
            " [2]\n",
            " [1]\n",
            " [1]\n",
            " [1]\n",
            " [1]\n",
            " [1]]\n"
          ]
        }
      ]
    },
    {
      "cell_type": "markdown",
      "metadata": {
        "id": "ZFNJBKOLioGp"
      },
      "source": [
        "2차원 행렬을 희소행렬로 바꾸겠습니다."
      ]
    },
    {
      "cell_type": "code",
      "metadata": {
        "colab": {
          "base_uri": "https://localhost:8080/"
        },
        "id": "zQ7sa6YkS2rI",
        "outputId": "26c726d2-4dc3-40ac-9073-9e946cf9e4b0"
      },
      "source": [
        "onehot_matrix = onehot_encoder.fit_transform(onehot_reshaped)\n",
        "print(onehot_matrix[:10])\n",
        "print()\n",
        "print(onehot_matrix.toarray())\n",
        "print(onehot_matrix.shape)"
      ],
      "execution_count": 251,
      "outputs": [
        {
          "output_type": "stream",
          "name": "stdout",
          "text": [
            "  (0, 2)\t1.0\n",
            "  (1, 2)\t1.0\n",
            "  (2, 2)\t1.0\n",
            "  (3, 2)\t1.0\n",
            "  (4, 2)\t1.0\n",
            "  (5, 1)\t1.0\n",
            "  (6, 1)\t1.0\n",
            "  (7, 1)\t1.0\n",
            "  (8, 1)\t1.0\n",
            "  (9, 1)\t1.0\n",
            "\n",
            "[[0. 0. 1.]\n",
            " [0. 0. 1.]\n",
            " [0. 0. 1.]\n",
            " ...\n",
            " [1. 0. 0.]\n",
            " [1. 0. 0.]\n",
            " [1. 0. 0.]]\n",
            "(392, 3)\n"
          ]
        }
      ]
    },
    {
      "cell_type": "markdown",
      "metadata": {
        "id": "ySk461qk3RGd"
      },
      "source": [
        "## **1.5. 데이터 정규화**"
      ]
    },
    {
      "cell_type": "markdown",
      "metadata": {
        "id": "Som31uyrnvqM"
      },
      "source": [
        "각 속성(열) 값의 숫자 크기가 상대적으로 차이가 나면 데이터 분석 결과가 왜곡될 수밖에 없습니다. 예컨대 0 ~ 100의 범주에 든 값과 0 ~ 10의 범주에 든 값을 토대로 데이터를 분석한다면 전자의 범주에 든 값이 매우 큰 영향력을 가집니다. 이러한 차이를 **정규화(normalization)** 작업을 통해 동일한 크기 기준(0 ~ 1 또는 -1 ~ 1)으로 만든다면 값마다 동일한 영향력을 가질 수 있습니다.\n",
        "\n",
        "동일한 크기 기준으로 만드는 방법은 여러가지가 있습니다. 그 중 하나는 해당 열의 최댓값의 절댓값(이하 최댓값)으로 각 값을 나누는 것입니다. 예컨대 최댓값을 최댓값으로 나누면 1이 되고, 최댓값 이하의 값을 최댓값으로 나누면 1미만 소수가 됩니다. 아래 코드로 설명하겠습니다. 먼저 `describe()` 메서드를 활용하여 데이터프레임의 요약 통계량을 확인하겠습니다. "
      ]
    },
    {
      "cell_type": "code",
      "metadata": {
        "colab": {
          "base_uri": "https://localhost:8080/",
          "height": 300
        },
        "id": "VoUX9OkxtGmU",
        "outputId": "6a2aef87-98b6-4ec0-a461-ba93b843712e"
      },
      "source": [
        "df.describe()"
      ],
      "execution_count": 252,
      "outputs": [
        {
          "output_type": "execute_result",
          "data": {
            "text/html": [
              "<div>\n",
              "<style scoped>\n",
              "    .dataframe tbody tr th:only-of-type {\n",
              "        vertical-align: middle;\n",
              "    }\n",
              "\n",
              "    .dataframe tbody tr th {\n",
              "        vertical-align: top;\n",
              "    }\n",
              "\n",
              "    .dataframe thead th {\n",
              "        text-align: right;\n",
              "    }\n",
              "</style>\n",
              "<table border=\"1\" class=\"dataframe\">\n",
              "  <thead>\n",
              "    <tr style=\"text-align: right;\">\n",
              "      <th></th>\n",
              "      <th>mpg</th>\n",
              "      <th>cylinders</th>\n",
              "      <th>displacement</th>\n",
              "      <th>horsepower</th>\n",
              "      <th>weight</th>\n",
              "      <th>acceleration</th>\n",
              "      <th>kpl</th>\n",
              "    </tr>\n",
              "  </thead>\n",
              "  <tbody>\n",
              "    <tr>\n",
              "      <th>count</th>\n",
              "      <td>392.000000</td>\n",
              "      <td>392.000000</td>\n",
              "      <td>392.000000</td>\n",
              "      <td>392.000000</td>\n",
              "      <td>392.000000</td>\n",
              "      <td>392.000000</td>\n",
              "      <td>392.000000</td>\n",
              "    </tr>\n",
              "    <tr>\n",
              "      <th>mean</th>\n",
              "      <td>23.445918</td>\n",
              "      <td>5.471939</td>\n",
              "      <td>194.411990</td>\n",
              "      <td>104.469388</td>\n",
              "      <td>2977.584184</td>\n",
              "      <td>15.541327</td>\n",
              "      <td>9.967890</td>\n",
              "    </tr>\n",
              "    <tr>\n",
              "      <th>std</th>\n",
              "      <td>7.805007</td>\n",
              "      <td>1.705783</td>\n",
              "      <td>104.644004</td>\n",
              "      <td>38.491160</td>\n",
              "      <td>849.402560</td>\n",
              "      <td>2.758864</td>\n",
              "      <td>3.318213</td>\n",
              "    </tr>\n",
              "    <tr>\n",
              "      <th>min</th>\n",
              "      <td>9.000000</td>\n",
              "      <td>3.000000</td>\n",
              "      <td>68.000000</td>\n",
              "      <td>46.000000</td>\n",
              "      <td>1613.000000</td>\n",
              "      <td>8.000000</td>\n",
              "      <td>3.826000</td>\n",
              "    </tr>\n",
              "    <tr>\n",
              "      <th>25%</th>\n",
              "      <td>17.000000</td>\n",
              "      <td>4.000000</td>\n",
              "      <td>105.000000</td>\n",
              "      <td>75.000000</td>\n",
              "      <td>2225.250000</td>\n",
              "      <td>13.775000</td>\n",
              "      <td>7.227000</td>\n",
              "    </tr>\n",
              "    <tr>\n",
              "      <th>50%</th>\n",
              "      <td>22.750000</td>\n",
              "      <td>4.000000</td>\n",
              "      <td>151.000000</td>\n",
              "      <td>93.500000</td>\n",
              "      <td>2803.500000</td>\n",
              "      <td>15.500000</td>\n",
              "      <td>9.672000</td>\n",
              "    </tr>\n",
              "    <tr>\n",
              "      <th>75%</th>\n",
              "      <td>29.000000</td>\n",
              "      <td>8.000000</td>\n",
              "      <td>275.750000</td>\n",
              "      <td>126.000000</td>\n",
              "      <td>3614.750000</td>\n",
              "      <td>17.025000</td>\n",
              "      <td>12.329000</td>\n",
              "    </tr>\n",
              "    <tr>\n",
              "      <th>max</th>\n",
              "      <td>46.600000</td>\n",
              "      <td>8.000000</td>\n",
              "      <td>455.000000</td>\n",
              "      <td>230.000000</td>\n",
              "      <td>5140.000000</td>\n",
              "      <td>24.800000</td>\n",
              "      <td>19.812000</td>\n",
              "    </tr>\n",
              "  </tbody>\n",
              "</table>\n",
              "</div>"
            ],
            "text/plain": [
              "              mpg   cylinders  ...  acceleration         kpl\n",
              "count  392.000000  392.000000  ...    392.000000  392.000000\n",
              "mean    23.445918    5.471939  ...     15.541327    9.967890\n",
              "std      7.805007    1.705783  ...      2.758864    3.318213\n",
              "min      9.000000    3.000000  ...      8.000000    3.826000\n",
              "25%     17.000000    4.000000  ...     13.775000    7.227000\n",
              "50%     22.750000    4.000000  ...     15.500000    9.672000\n",
              "75%     29.000000    8.000000  ...     17.025000   12.329000\n",
              "max     46.600000    8.000000  ...     24.800000   19.812000\n",
              "\n",
              "[8 rows x 7 columns]"
            ]
          },
          "metadata": {},
          "execution_count": 252
        }
      ]
    },
    {
      "cell_type": "markdown",
      "metadata": {
        "id": "YfnxFeB14dR7"
      },
      "source": [
        "각 값을 최댓값으로 나누고 'horsepower' 열 값으로 변환하겠습니다. 최댓값 1을 제외한 모든 값은 0 ~ 1 범위를 갖습니다."
      ]
    },
    {
      "cell_type": "code",
      "metadata": {
        "colab": {
          "base_uri": "https://localhost:8080/",
          "height": 546
        },
        "id": "trwEui_SzTIL",
        "outputId": "4a6715e3-2ea4-472b-c2e9-a21715b02c89"
      },
      "source": [
        "# `df['horsepower']`는 `df.horsepower`와 같습니다. 'horsepower' 열은 데이터프레임이 가진 속성이기 때문입니다.\n",
        "df['horsepower'] = df['horsepower'] / abs(df['horsepower'].max())\n",
        "print(df['horsepower'])\n",
        "print()\n",
        "display(df.describe())"
      ],
      "execution_count": 253,
      "outputs": [
        {
          "output_type": "stream",
          "name": "stdout",
          "text": [
            "0      0.565217\n",
            "1      0.717391\n",
            "2      0.652174\n",
            "3      0.652174\n",
            "4      0.608696\n",
            "         ...   \n",
            "393    0.373913\n",
            "394    0.226087\n",
            "395    0.365217\n",
            "396    0.343478\n",
            "397    0.356522\n",
            "Name: horsepower, Length: 392, dtype: float64\n",
            "\n"
          ]
        },
        {
          "output_type": "display_data",
          "data": {
            "text/html": [
              "<div>\n",
              "<style scoped>\n",
              "    .dataframe tbody tr th:only-of-type {\n",
              "        vertical-align: middle;\n",
              "    }\n",
              "\n",
              "    .dataframe tbody tr th {\n",
              "        vertical-align: top;\n",
              "    }\n",
              "\n",
              "    .dataframe thead th {\n",
              "        text-align: right;\n",
              "    }\n",
              "</style>\n",
              "<table border=\"1\" class=\"dataframe\">\n",
              "  <thead>\n",
              "    <tr style=\"text-align: right;\">\n",
              "      <th></th>\n",
              "      <th>mpg</th>\n",
              "      <th>cylinders</th>\n",
              "      <th>displacement</th>\n",
              "      <th>horsepower</th>\n",
              "      <th>weight</th>\n",
              "      <th>acceleration</th>\n",
              "      <th>kpl</th>\n",
              "    </tr>\n",
              "  </thead>\n",
              "  <tbody>\n",
              "    <tr>\n",
              "      <th>count</th>\n",
              "      <td>392.000000</td>\n",
              "      <td>392.000000</td>\n",
              "      <td>392.000000</td>\n",
              "      <td>392.000000</td>\n",
              "      <td>392.000000</td>\n",
              "      <td>392.000000</td>\n",
              "      <td>392.000000</td>\n",
              "    </tr>\n",
              "    <tr>\n",
              "      <th>mean</th>\n",
              "      <td>23.445918</td>\n",
              "      <td>5.471939</td>\n",
              "      <td>194.411990</td>\n",
              "      <td>0.454215</td>\n",
              "      <td>2977.584184</td>\n",
              "      <td>15.541327</td>\n",
              "      <td>9.967890</td>\n",
              "    </tr>\n",
              "    <tr>\n",
              "      <th>std</th>\n",
              "      <td>7.805007</td>\n",
              "      <td>1.705783</td>\n",
              "      <td>104.644004</td>\n",
              "      <td>0.167353</td>\n",
              "      <td>849.402560</td>\n",
              "      <td>2.758864</td>\n",
              "      <td>3.318213</td>\n",
              "    </tr>\n",
              "    <tr>\n",
              "      <th>min</th>\n",
              "      <td>9.000000</td>\n",
              "      <td>3.000000</td>\n",
              "      <td>68.000000</td>\n",
              "      <td>0.200000</td>\n",
              "      <td>1613.000000</td>\n",
              "      <td>8.000000</td>\n",
              "      <td>3.826000</td>\n",
              "    </tr>\n",
              "    <tr>\n",
              "      <th>25%</th>\n",
              "      <td>17.000000</td>\n",
              "      <td>4.000000</td>\n",
              "      <td>105.000000</td>\n",
              "      <td>0.326087</td>\n",
              "      <td>2225.250000</td>\n",
              "      <td>13.775000</td>\n",
              "      <td>7.227000</td>\n",
              "    </tr>\n",
              "    <tr>\n",
              "      <th>50%</th>\n",
              "      <td>22.750000</td>\n",
              "      <td>4.000000</td>\n",
              "      <td>151.000000</td>\n",
              "      <td>0.406522</td>\n",
              "      <td>2803.500000</td>\n",
              "      <td>15.500000</td>\n",
              "      <td>9.672000</td>\n",
              "    </tr>\n",
              "    <tr>\n",
              "      <th>75%</th>\n",
              "      <td>29.000000</td>\n",
              "      <td>8.000000</td>\n",
              "      <td>275.750000</td>\n",
              "      <td>0.547826</td>\n",
              "      <td>3614.750000</td>\n",
              "      <td>17.025000</td>\n",
              "      <td>12.329000</td>\n",
              "    </tr>\n",
              "    <tr>\n",
              "      <th>max</th>\n",
              "      <td>46.600000</td>\n",
              "      <td>8.000000</td>\n",
              "      <td>455.000000</td>\n",
              "      <td>1.000000</td>\n",
              "      <td>5140.000000</td>\n",
              "      <td>24.800000</td>\n",
              "      <td>19.812000</td>\n",
              "    </tr>\n",
              "  </tbody>\n",
              "</table>\n",
              "</div>"
            ],
            "text/plain": [
              "              mpg   cylinders  ...  acceleration         kpl\n",
              "count  392.000000  392.000000  ...    392.000000  392.000000\n",
              "mean    23.445918    5.471939  ...     15.541327    9.967890\n",
              "std      7.805007    1.705783  ...      2.758864    3.318213\n",
              "min      9.000000    3.000000  ...      8.000000    3.826000\n",
              "25%     17.000000    4.000000  ...     13.775000    7.227000\n",
              "50%     22.750000    4.000000  ...     15.500000    9.672000\n",
              "75%     29.000000    8.000000  ...     17.025000   12.329000\n",
              "max     46.600000    8.000000  ...     24.800000   19.812000\n",
              "\n",
              "[8 rows x 7 columns]"
            ]
          },
          "metadata": {}
        }
      ]
    },
    {
      "cell_type": "markdown",
      "metadata": {
        "id": "9n4QxnisRd93"
      },
      "source": [
        "각 값과 최솟값의 차(a)를 최댓값과 최솟값의 차(b)로 나누는 정규화 방식도 있습니다. $a/b$ 계산식으로 정규화하는 것입니다. 0 ~ 1 범위의 값이 도출되지만 처음 제시했던 정규화 방식(각 값을 최댓값으로 나누는 방식)과는 다른 값이 도출됩니다."
      ]
    },
    {
      "cell_type": "code",
      "metadata": {
        "colab": {
          "base_uri": "https://localhost:8080/",
          "height": 546
        },
        "id": "qq3n2Ht3S-5y",
        "outputId": "8f1e524c-799c-4d92-ee8e-13bb8234729d"
      },
      "source": [
        "a_horsepower = df.horsepower - df.horsepower.min()\n",
        "b_horsepower = df.horsepower.max() - df.horsepower.min()\n",
        "df.horsepower = a_horsepower / b_horsepower\n",
        "print(df['horsepower'])\n",
        "print()\n",
        "display(df.describe())"
      ],
      "execution_count": 254,
      "outputs": [
        {
          "output_type": "stream",
          "name": "stdout",
          "text": [
            "0      0.456522\n",
            "1      0.646739\n",
            "2      0.565217\n",
            "3      0.565217\n",
            "4      0.510870\n",
            "         ...   \n",
            "393    0.217391\n",
            "394    0.032609\n",
            "395    0.206522\n",
            "396    0.179348\n",
            "397    0.195652\n",
            "Name: horsepower, Length: 392, dtype: float64\n",
            "\n"
          ]
        },
        {
          "output_type": "display_data",
          "data": {
            "text/html": [
              "<div>\n",
              "<style scoped>\n",
              "    .dataframe tbody tr th:only-of-type {\n",
              "        vertical-align: middle;\n",
              "    }\n",
              "\n",
              "    .dataframe tbody tr th {\n",
              "        vertical-align: top;\n",
              "    }\n",
              "\n",
              "    .dataframe thead th {\n",
              "        text-align: right;\n",
              "    }\n",
              "</style>\n",
              "<table border=\"1\" class=\"dataframe\">\n",
              "  <thead>\n",
              "    <tr style=\"text-align: right;\">\n",
              "      <th></th>\n",
              "      <th>mpg</th>\n",
              "      <th>cylinders</th>\n",
              "      <th>displacement</th>\n",
              "      <th>horsepower</th>\n",
              "      <th>weight</th>\n",
              "      <th>acceleration</th>\n",
              "      <th>kpl</th>\n",
              "    </tr>\n",
              "  </thead>\n",
              "  <tbody>\n",
              "    <tr>\n",
              "      <th>count</th>\n",
              "      <td>392.000000</td>\n",
              "      <td>392.000000</td>\n",
              "      <td>392.000000</td>\n",
              "      <td>392.000000</td>\n",
              "      <td>392.000000</td>\n",
              "      <td>392.000000</td>\n",
              "      <td>392.000000</td>\n",
              "    </tr>\n",
              "    <tr>\n",
              "      <th>mean</th>\n",
              "      <td>23.445918</td>\n",
              "      <td>5.471939</td>\n",
              "      <td>194.411990</td>\n",
              "      <td>0.317768</td>\n",
              "      <td>2977.584184</td>\n",
              "      <td>15.541327</td>\n",
              "      <td>9.967890</td>\n",
              "    </tr>\n",
              "    <tr>\n",
              "      <th>std</th>\n",
              "      <td>7.805007</td>\n",
              "      <td>1.705783</td>\n",
              "      <td>104.644004</td>\n",
              "      <td>0.209191</td>\n",
              "      <td>849.402560</td>\n",
              "      <td>2.758864</td>\n",
              "      <td>3.318213</td>\n",
              "    </tr>\n",
              "    <tr>\n",
              "      <th>min</th>\n",
              "      <td>9.000000</td>\n",
              "      <td>3.000000</td>\n",
              "      <td>68.000000</td>\n",
              "      <td>0.000000</td>\n",
              "      <td>1613.000000</td>\n",
              "      <td>8.000000</td>\n",
              "      <td>3.826000</td>\n",
              "    </tr>\n",
              "    <tr>\n",
              "      <th>25%</th>\n",
              "      <td>17.000000</td>\n",
              "      <td>4.000000</td>\n",
              "      <td>105.000000</td>\n",
              "      <td>0.157609</td>\n",
              "      <td>2225.250000</td>\n",
              "      <td>13.775000</td>\n",
              "      <td>7.227000</td>\n",
              "    </tr>\n",
              "    <tr>\n",
              "      <th>50%</th>\n",
              "      <td>22.750000</td>\n",
              "      <td>4.000000</td>\n",
              "      <td>151.000000</td>\n",
              "      <td>0.258152</td>\n",
              "      <td>2803.500000</td>\n",
              "      <td>15.500000</td>\n",
              "      <td>9.672000</td>\n",
              "    </tr>\n",
              "    <tr>\n",
              "      <th>75%</th>\n",
              "      <td>29.000000</td>\n",
              "      <td>8.000000</td>\n",
              "      <td>275.750000</td>\n",
              "      <td>0.434783</td>\n",
              "      <td>3614.750000</td>\n",
              "      <td>17.025000</td>\n",
              "      <td>12.329000</td>\n",
              "    </tr>\n",
              "    <tr>\n",
              "      <th>max</th>\n",
              "      <td>46.600000</td>\n",
              "      <td>8.000000</td>\n",
              "      <td>455.000000</td>\n",
              "      <td>1.000000</td>\n",
              "      <td>5140.000000</td>\n",
              "      <td>24.800000</td>\n",
              "      <td>19.812000</td>\n",
              "    </tr>\n",
              "  </tbody>\n",
              "</table>\n",
              "</div>"
            ],
            "text/plain": [
              "              mpg   cylinders  ...  acceleration         kpl\n",
              "count  392.000000  392.000000  ...    392.000000  392.000000\n",
              "mean    23.445918    5.471939  ...     15.541327    9.967890\n",
              "std      7.805007    1.705783  ...      2.758864    3.318213\n",
              "min      9.000000    3.000000  ...      8.000000    3.826000\n",
              "25%     17.000000    4.000000  ...     13.775000    7.227000\n",
              "50%     22.750000    4.000000  ...     15.500000    9.672000\n",
              "75%     29.000000    8.000000  ...     17.025000   12.329000\n",
              "max     46.600000    8.000000  ...     24.800000   19.812000\n",
              "\n",
              "[8 rows x 7 columns]"
            ]
          },
          "metadata": {}
        }
      ]
    },
    {
      "cell_type": "markdown",
      "metadata": {
        "id": "mr9X0rOh3Upl"
      },
      "source": [
        "## **1.6. 시계열 데이터**"
      ]
    },
    {
      "cell_type": "markdown",
      "metadata": {
        "id": "2-PAOFHhWa5f"
      },
      "source": [
        "행 인덱스를 시계열 데이터로 활용하면 행 인덱스를 인덱싱하거나 슬라이싱하기에 편리해지므로 데이터를 분석하는 작업이 매우 수월해집니다. 가장 많이 사용하는 유형은 특정 시점을 기록하는 **Timestamp**과 두 시점간 기간인 **Period**입니다."
      ]
    },
    {
      "cell_type": "markdown",
      "metadata": {
        "id": "P4LrR_oD4uBM"
      },
      "source": [
        "### **1.6.1. 시계열 객체로 변환하기**"
      ]
    },
    {
      "cell_type": "markdown",
      "metadata": {
        "id": "5NM9G6idXCUN"
      },
      "source": [
        "시계열 데이터는 대부분 문자열 타입이나 숫자 타입으로 저장됩니다. 이를 시계열 객체로 바꾸려면 `to_datetime()` 메서드와 `to_period()` 메서드를 사용합니다.\n",
        "\n",
        "먼저 `to_datetime()` 메서드를 사용하여 Timestamp를 나타낸 `datetime64` 자료형으로 바꾸겠습니다. 임의의 데이터셋을 생성하겠습니다."
      ]
    },
    {
      "cell_type": "code",
      "metadata": {
        "colab": {
          "base_uri": "https://localhost:8080/",
          "height": 206
        },
        "id": "5_DHVEKcZclE",
        "outputId": "c657c2f2-8a55-41e0-9d1b-0431e9d7073d"
      },
      "source": [
        "df_data = {\n",
        "    'date': ['2021-01-02', '2021-01-03', '2021-01-04', '2021-01-06', '2021-01-08', '2021-01-10',\n",
        "                     '2021-01-11', '2021-01-12', '2021-01-13', '2021-01-15', '2021-01-18', '2021-01-19'],\n",
        "    'type': ['c', 'b', 'b', 'a', 'a', 'b', 'a', 'b', 'a', 'a', 'c', 'a'],\n",
        "    'volume': [10, 20, 10, 50, 70, 10, 50, 30, 80, 20, 10, 60],\n",
        "    'size': [300, 200, 200, 100, 100, 200, 100, 200, 100, 100, 300, 100],\n",
        "    'price': [5000, 6000, 3000, 5000, 7000, 3000, 5000, 9000, 8000, 2000, 5000, 6000]\n",
        "    }\n",
        "\n",
        "df = pd.DataFrame(df_data)\n",
        "df.head()"
      ],
      "execution_count": 255,
      "outputs": [
        {
          "output_type": "execute_result",
          "data": {
            "text/html": [
              "<div>\n",
              "<style scoped>\n",
              "    .dataframe tbody tr th:only-of-type {\n",
              "        vertical-align: middle;\n",
              "    }\n",
              "\n",
              "    .dataframe tbody tr th {\n",
              "        vertical-align: top;\n",
              "    }\n",
              "\n",
              "    .dataframe thead th {\n",
              "        text-align: right;\n",
              "    }\n",
              "</style>\n",
              "<table border=\"1\" class=\"dataframe\">\n",
              "  <thead>\n",
              "    <tr style=\"text-align: right;\">\n",
              "      <th></th>\n",
              "      <th>date</th>\n",
              "      <th>type</th>\n",
              "      <th>volume</th>\n",
              "      <th>size</th>\n",
              "      <th>price</th>\n",
              "    </tr>\n",
              "  </thead>\n",
              "  <tbody>\n",
              "    <tr>\n",
              "      <th>0</th>\n",
              "      <td>2021-01-02</td>\n",
              "      <td>c</td>\n",
              "      <td>10</td>\n",
              "      <td>300</td>\n",
              "      <td>5000</td>\n",
              "    </tr>\n",
              "    <tr>\n",
              "      <th>1</th>\n",
              "      <td>2021-01-03</td>\n",
              "      <td>b</td>\n",
              "      <td>20</td>\n",
              "      <td>200</td>\n",
              "      <td>6000</td>\n",
              "    </tr>\n",
              "    <tr>\n",
              "      <th>2</th>\n",
              "      <td>2021-01-04</td>\n",
              "      <td>b</td>\n",
              "      <td>10</td>\n",
              "      <td>200</td>\n",
              "      <td>3000</td>\n",
              "    </tr>\n",
              "    <tr>\n",
              "      <th>3</th>\n",
              "      <td>2021-01-06</td>\n",
              "      <td>a</td>\n",
              "      <td>50</td>\n",
              "      <td>100</td>\n",
              "      <td>5000</td>\n",
              "    </tr>\n",
              "    <tr>\n",
              "      <th>4</th>\n",
              "      <td>2021-01-08</td>\n",
              "      <td>a</td>\n",
              "      <td>70</td>\n",
              "      <td>100</td>\n",
              "      <td>7000</td>\n",
              "    </tr>\n",
              "  </tbody>\n",
              "</table>\n",
              "</div>"
            ],
            "text/plain": [
              "         date type  volume  size  price\n",
              "0  2021-01-02    c      10   300   5000\n",
              "1  2021-01-03    b      20   200   6000\n",
              "2  2021-01-04    b      10   200   3000\n",
              "3  2021-01-06    a      50   100   5000\n",
              "4  2021-01-08    a      70   100   7000"
            ]
          },
          "metadata": {},
          "execution_count": 255
        }
      ]
    },
    {
      "cell_type": "code",
      "metadata": {
        "colab": {
          "base_uri": "https://localhost:8080/"
        },
        "id": "F_j9F1q4dF7D",
        "outputId": "d97b3fd8-a4bc-498e-d962-3a275ed9d652"
      },
      "source": [
        "df.info()"
      ],
      "execution_count": 256,
      "outputs": [
        {
          "output_type": "stream",
          "name": "stdout",
          "text": [
            "<class 'pandas.core.frame.DataFrame'>\n",
            "RangeIndex: 12 entries, 0 to 11\n",
            "Data columns (total 5 columns):\n",
            " #   Column  Non-Null Count  Dtype \n",
            "---  ------  --------------  ----- \n",
            " 0   date    12 non-null     object\n",
            " 1   type    12 non-null     object\n",
            " 2   volume  12 non-null     int64 \n",
            " 3   size    12 non-null     int64 \n",
            " 4   price   12 non-null     int64 \n",
            "dtypes: int64(3), object(2)\n",
            "memory usage: 608.0+ bytes\n"
          ]
        }
      ]
    },
    {
      "cell_type": "markdown",
      "metadata": {
        "id": "FVPIXLh8f7-W"
      },
      "source": [
        "'date' 열의 데이터는 문자열 타입입니다. 판다스의 `to_datetime()` 메서드를 사용하여 'index_date' 열을 `datetime64` 형식으로 생성하겠습니다. [링크](https://steadiness-193.tistory.com/171)에서 `format` 매개변수를 설명하므로 참고하시기 바랍니다."
      ]
    },
    {
      "cell_type": "code",
      "metadata": {
        "colab": {
          "base_uri": "https://localhost:8080/",
          "height": 206
        },
        "id": "dMzGZ0L-d2IU",
        "outputId": "04451adc-5b4b-4f2b-e807-e5de2f86a54a"
      },
      "source": [
        "df['index_date'] = pd.to_datetime(df.date)\n",
        "df.head()"
      ],
      "execution_count": 257,
      "outputs": [
        {
          "output_type": "execute_result",
          "data": {
            "text/html": [
              "<div>\n",
              "<style scoped>\n",
              "    .dataframe tbody tr th:only-of-type {\n",
              "        vertical-align: middle;\n",
              "    }\n",
              "\n",
              "    .dataframe tbody tr th {\n",
              "        vertical-align: top;\n",
              "    }\n",
              "\n",
              "    .dataframe thead th {\n",
              "        text-align: right;\n",
              "    }\n",
              "</style>\n",
              "<table border=\"1\" class=\"dataframe\">\n",
              "  <thead>\n",
              "    <tr style=\"text-align: right;\">\n",
              "      <th></th>\n",
              "      <th>date</th>\n",
              "      <th>type</th>\n",
              "      <th>volume</th>\n",
              "      <th>size</th>\n",
              "      <th>price</th>\n",
              "      <th>index_date</th>\n",
              "    </tr>\n",
              "  </thead>\n",
              "  <tbody>\n",
              "    <tr>\n",
              "      <th>0</th>\n",
              "      <td>2021-01-02</td>\n",
              "      <td>c</td>\n",
              "      <td>10</td>\n",
              "      <td>300</td>\n",
              "      <td>5000</td>\n",
              "      <td>2021-01-02</td>\n",
              "    </tr>\n",
              "    <tr>\n",
              "      <th>1</th>\n",
              "      <td>2021-01-03</td>\n",
              "      <td>b</td>\n",
              "      <td>20</td>\n",
              "      <td>200</td>\n",
              "      <td>6000</td>\n",
              "      <td>2021-01-03</td>\n",
              "    </tr>\n",
              "    <tr>\n",
              "      <th>2</th>\n",
              "      <td>2021-01-04</td>\n",
              "      <td>b</td>\n",
              "      <td>10</td>\n",
              "      <td>200</td>\n",
              "      <td>3000</td>\n",
              "      <td>2021-01-04</td>\n",
              "    </tr>\n",
              "    <tr>\n",
              "      <th>3</th>\n",
              "      <td>2021-01-06</td>\n",
              "      <td>a</td>\n",
              "      <td>50</td>\n",
              "      <td>100</td>\n",
              "      <td>5000</td>\n",
              "      <td>2021-01-06</td>\n",
              "    </tr>\n",
              "    <tr>\n",
              "      <th>4</th>\n",
              "      <td>2021-01-08</td>\n",
              "      <td>a</td>\n",
              "      <td>70</td>\n",
              "      <td>100</td>\n",
              "      <td>7000</td>\n",
              "      <td>2021-01-08</td>\n",
              "    </tr>\n",
              "  </tbody>\n",
              "</table>\n",
              "</div>"
            ],
            "text/plain": [
              "         date type  volume  size  price index_date\n",
              "0  2021-01-02    c      10   300   5000 2021-01-02\n",
              "1  2021-01-03    b      20   200   6000 2021-01-03\n",
              "2  2021-01-04    b      10   200   3000 2021-01-04\n",
              "3  2021-01-06    a      50   100   5000 2021-01-06\n",
              "4  2021-01-08    a      70   100   7000 2021-01-08"
            ]
          },
          "metadata": {},
          "execution_count": 257
        }
      ]
    },
    {
      "cell_type": "code",
      "metadata": {
        "colab": {
          "base_uri": "https://localhost:8080/"
        },
        "id": "rQBYEZtNeoeE",
        "outputId": "8df53092-3962-4e9b-e1e6-79ac1b8d990f"
      },
      "source": [
        "df.info()"
      ],
      "execution_count": 258,
      "outputs": [
        {
          "output_type": "stream",
          "name": "stdout",
          "text": [
            "<class 'pandas.core.frame.DataFrame'>\n",
            "RangeIndex: 12 entries, 0 to 11\n",
            "Data columns (total 6 columns):\n",
            " #   Column      Non-Null Count  Dtype         \n",
            "---  ------      --------------  -----         \n",
            " 0   date        12 non-null     object        \n",
            " 1   type        12 non-null     object        \n",
            " 2   volume      12 non-null     int64         \n",
            " 3   size        12 non-null     int64         \n",
            " 4   price       12 non-null     int64         \n",
            " 5   index_date  12 non-null     datetime64[ns]\n",
            "dtypes: datetime64[ns](1), int64(3), object(2)\n",
            "memory usage: 704.0+ bytes\n"
          ]
        }
      ]
    },
    {
      "cell_type": "markdown",
      "metadata": {
        "id": "5nWcDYb4gavn"
      },
      "source": [
        "'date' 열을 삭제하고 'index_date' 열을 행 인덱스로 지정하겠습니다."
      ]
    },
    {
      "cell_type": "code",
      "metadata": {
        "colab": {
          "base_uri": "https://localhost:8080/",
          "height": 238
        },
        "id": "Hp8CscOCf6QO",
        "outputId": "f6da0a25-247e-4ffd-968f-1efc027e76a3"
      },
      "source": [
        "df.drop('date', axis=1, inplace=True)\n",
        "df.set_index('index_date', inplace=True)\n",
        "df = df[['type', 'size', 'volume', 'price']]\n",
        "df.head()"
      ],
      "execution_count": 259,
      "outputs": [
        {
          "output_type": "execute_result",
          "data": {
            "text/html": [
              "<div>\n",
              "<style scoped>\n",
              "    .dataframe tbody tr th:only-of-type {\n",
              "        vertical-align: middle;\n",
              "    }\n",
              "\n",
              "    .dataframe tbody tr th {\n",
              "        vertical-align: top;\n",
              "    }\n",
              "\n",
              "    .dataframe thead th {\n",
              "        text-align: right;\n",
              "    }\n",
              "</style>\n",
              "<table border=\"1\" class=\"dataframe\">\n",
              "  <thead>\n",
              "    <tr style=\"text-align: right;\">\n",
              "      <th></th>\n",
              "      <th>type</th>\n",
              "      <th>size</th>\n",
              "      <th>volume</th>\n",
              "      <th>price</th>\n",
              "    </tr>\n",
              "    <tr>\n",
              "      <th>index_date</th>\n",
              "      <th></th>\n",
              "      <th></th>\n",
              "      <th></th>\n",
              "      <th></th>\n",
              "    </tr>\n",
              "  </thead>\n",
              "  <tbody>\n",
              "    <tr>\n",
              "      <th>2021-01-02</th>\n",
              "      <td>c</td>\n",
              "      <td>300</td>\n",
              "      <td>10</td>\n",
              "      <td>5000</td>\n",
              "    </tr>\n",
              "    <tr>\n",
              "      <th>2021-01-03</th>\n",
              "      <td>b</td>\n",
              "      <td>200</td>\n",
              "      <td>20</td>\n",
              "      <td>6000</td>\n",
              "    </tr>\n",
              "    <tr>\n",
              "      <th>2021-01-04</th>\n",
              "      <td>b</td>\n",
              "      <td>200</td>\n",
              "      <td>10</td>\n",
              "      <td>3000</td>\n",
              "    </tr>\n",
              "    <tr>\n",
              "      <th>2021-01-06</th>\n",
              "      <td>a</td>\n",
              "      <td>100</td>\n",
              "      <td>50</td>\n",
              "      <td>5000</td>\n",
              "    </tr>\n",
              "    <tr>\n",
              "      <th>2021-01-08</th>\n",
              "      <td>a</td>\n",
              "      <td>100</td>\n",
              "      <td>70</td>\n",
              "      <td>7000</td>\n",
              "    </tr>\n",
              "  </tbody>\n",
              "</table>\n",
              "</div>"
            ],
            "text/plain": [
              "           type  size  volume  price\n",
              "index_date                          \n",
              "2021-01-02    c   300      10   5000\n",
              "2021-01-03    b   200      20   6000\n",
              "2021-01-04    b   200      10   3000\n",
              "2021-01-06    a   100      50   5000\n",
              "2021-01-08    a   100      70   7000"
            ]
          },
          "metadata": {},
          "execution_count": 259
        }
      ]
    },
    {
      "cell_type": "markdown",
      "metadata": {
        "id": "gp7z7XyB8OL7"
      },
      "source": [
        "시계열 데이터를 행 인덱스로 지정하면 `DatetimeIndex` 유형으로 저장됩니다."
      ]
    },
    {
      "cell_type": "code",
      "metadata": {
        "colab": {
          "base_uri": "https://localhost:8080/"
        },
        "id": "-bpgwZPhhTb3",
        "outputId": "9a41f4d9-648c-4cad-8c4b-94a59185d83b"
      },
      "source": [
        "df.info()"
      ],
      "execution_count": 260,
      "outputs": [
        {
          "output_type": "stream",
          "name": "stdout",
          "text": [
            "<class 'pandas.core.frame.DataFrame'>\n",
            "DatetimeIndex: 12 entries, 2021-01-02 to 2021-01-19\n",
            "Data columns (total 4 columns):\n",
            " #   Column  Non-Null Count  Dtype \n",
            "---  ------  --------------  ----- \n",
            " 0   type    12 non-null     object\n",
            " 1   size    12 non-null     int64 \n",
            " 2   volume  12 non-null     int64 \n",
            " 3   price   12 non-null     int64 \n",
            "dtypes: int64(3), object(1)\n",
            "memory usage: 480.0+ bytes\n"
          ]
        }
      ]
    },
    {
      "cell_type": "markdown",
      "metadata": {
        "id": "yMduMeKgq5Gs"
      },
      "source": [
        "이번에는 `to_period()` 메서드를 적용하여 `PeriodIndex` 유형을 살피겠습니다."
      ]
    },
    {
      "cell_type": "code",
      "metadata": {
        "colab": {
          "base_uri": "https://localhost:8080/"
        },
        "id": "EvTUx4yVkvMH",
        "outputId": "67f36c34-724d-4955-9ced-fa3134503c1d"
      },
      "source": [
        "dates = ['2021-01-02', '2021-01-03', '2021-01-04', '2021-01-06', '2021-01-08', '2021-01-10', \n",
        "        '2021-01-11', '2021-01-12', '2021-01-13', '2021-01-15', '2021-01-18', '2021-01-19']\n",
        "dates_to_datetime = pd.to_datetime(dates)\n",
        "dates_to_datetime"
      ],
      "execution_count": 261,
      "outputs": [
        {
          "output_type": "execute_result",
          "data": {
            "text/plain": [
              "DatetimeIndex(['2021-01-02', '2021-01-03', '2021-01-04', '2021-01-06',\n",
              "               '2021-01-08', '2021-01-10', '2021-01-11', '2021-01-12',\n",
              "               '2021-01-13', '2021-01-15', '2021-01-18', '2021-01-19'],\n",
              "              dtype='datetime64[ns]', freq=None)"
            ]
          },
          "metadata": {},
          "execution_count": 261
        }
      ]
    },
    {
      "cell_type": "markdown",
      "metadata": {
        "id": "-sUcsymMrGKq"
      },
      "source": [
        "`freq` 매개변수에 인자를 지정하여 출력할 날짜 형태를 지정합니다. 여기서 `freq='인자'` 형식으로 지정하지 않고 `'인자'`만 지정해도 됩니다. 인잣값 종류는 [판다스 시간 관련 설명 페이지](https://pandas.pydata.org/pandas-docs/stable/user_guide/timeseries.html)를 참고하시기 바랍니다."
      ]
    },
    {
      "cell_type": "code",
      "metadata": {
        "colab": {
          "base_uri": "https://localhost:8080/"
        },
        "id": "YcOHH8MvlEg3",
        "outputId": "842890d1-b642-4990-966a-7f9ad0f29fc5"
      },
      "source": [
        "# day(일)까지 출력합니다.\n",
        "print(dates_to_datetime.to_period(freq='D'))\n",
        "print()\n",
        "# month(월)까지 출력합니다.\n",
        "print(dates_to_datetime.to_period('M'))\n",
        "print()\n",
        "# year(연)까지 출력합니다.\n",
        "print(dates_to_datetime.to_period('Y'))\n",
        "print()\n",
        "# 일자가 포함된 week(주) 간격을 출력합니다.\n",
        "print(dates_to_datetime.to_period('W'))"
      ],
      "execution_count": 262,
      "outputs": [
        {
          "output_type": "stream",
          "name": "stdout",
          "text": [
            "PeriodIndex(['2021-01-02', '2021-01-03', '2021-01-04', '2021-01-06',\n",
            "             '2021-01-08', '2021-01-10', '2021-01-11', '2021-01-12',\n",
            "             '2021-01-13', '2021-01-15', '2021-01-18', '2021-01-19'],\n",
            "            dtype='period[D]', freq='D')\n",
            "\n",
            "PeriodIndex(['2021-01', '2021-01', '2021-01', '2021-01', '2021-01', '2021-01',\n",
            "             '2021-01', '2021-01', '2021-01', '2021-01', '2021-01', '2021-01'],\n",
            "            dtype='period[M]', freq='M')\n",
            "\n",
            "PeriodIndex(['2021', '2021', '2021', '2021', '2021', '2021', '2021', '2021',\n",
            "             '2021', '2021', '2021', '2021'],\n",
            "            dtype='period[A-DEC]', freq='A-DEC')\n",
            "\n",
            "PeriodIndex(['2020-12-28/2021-01-03', '2020-12-28/2021-01-03',\n",
            "             '2021-01-04/2021-01-10', '2021-01-04/2021-01-10',\n",
            "             '2021-01-04/2021-01-10', '2021-01-04/2021-01-10',\n",
            "             '2021-01-11/2021-01-17', '2021-01-11/2021-01-17',\n",
            "             '2021-01-11/2021-01-17', '2021-01-11/2021-01-17',\n",
            "             '2021-01-18/2021-01-24', '2021-01-18/2021-01-24'],\n",
            "            dtype='period[W-SUN]', freq='W-SUN')\n"
          ]
        }
      ]
    },
    {
      "cell_type": "markdown",
      "metadata": {
        "id": "WnMXLeACslVO"
      },
      "source": [
        "기존 데이터프레임을 그대로 다시 만들겠습니다. `index` 매개변수에 그대로 시계열 객체를 지정하여 행 인덱스를 바꾸겠습니다."
      ]
    },
    {
      "cell_type": "code",
      "metadata": {
        "colab": {
          "base_uri": "https://localhost:8080/",
          "height": 206
        },
        "id": "pL8vl8frm8dO",
        "outputId": "06815319-a117-4b4a-ac6c-07664d4b6d11"
      },
      "source": [
        "df_data = {\n",
        "    'type': ['c', 'b', 'b', 'a', 'a', 'b', 'a', 'b', 'a', 'a', 'c', 'a'],\n",
        "    'volume': [10, 20, 10, 50, 70, 10, 50, 30, 80, 20, 10, 60],\n",
        "    'size': [300, 200, 200, 100, 100, 200, 100, 200, 100, 100, 300, 100],\n",
        "    'price': [5000, 6000, 3000, 5000, 7000, 3000, 5000, 9000, 8000, 2000, 5000, 6000]\n",
        "    }\n",
        "\n",
        "dates = ['2021-01-02', '2021-01-03', '2021-01-04', '2021-01-06', '2021-01-08', '2021-01-10', \n",
        "        '2021-01-11', '2021-01-12', '2021-01-13', '2021-01-15', '2021-01-18', '2021-01-19']\n",
        "dates_to_datetime = pd.to_datetime(dates)\n",
        "\n",
        "df = pd.DataFrame(df_data, index=dates_to_datetime)\n",
        "df.head()"
      ],
      "execution_count": 263,
      "outputs": [
        {
          "output_type": "execute_result",
          "data": {
            "text/html": [
              "<div>\n",
              "<style scoped>\n",
              "    .dataframe tbody tr th:only-of-type {\n",
              "        vertical-align: middle;\n",
              "    }\n",
              "\n",
              "    .dataframe tbody tr th {\n",
              "        vertical-align: top;\n",
              "    }\n",
              "\n",
              "    .dataframe thead th {\n",
              "        text-align: right;\n",
              "    }\n",
              "</style>\n",
              "<table border=\"1\" class=\"dataframe\">\n",
              "  <thead>\n",
              "    <tr style=\"text-align: right;\">\n",
              "      <th></th>\n",
              "      <th>type</th>\n",
              "      <th>volume</th>\n",
              "      <th>size</th>\n",
              "      <th>price</th>\n",
              "    </tr>\n",
              "  </thead>\n",
              "  <tbody>\n",
              "    <tr>\n",
              "      <th>2021-01-02</th>\n",
              "      <td>c</td>\n",
              "      <td>10</td>\n",
              "      <td>300</td>\n",
              "      <td>5000</td>\n",
              "    </tr>\n",
              "    <tr>\n",
              "      <th>2021-01-03</th>\n",
              "      <td>b</td>\n",
              "      <td>20</td>\n",
              "      <td>200</td>\n",
              "      <td>6000</td>\n",
              "    </tr>\n",
              "    <tr>\n",
              "      <th>2021-01-04</th>\n",
              "      <td>b</td>\n",
              "      <td>10</td>\n",
              "      <td>200</td>\n",
              "      <td>3000</td>\n",
              "    </tr>\n",
              "    <tr>\n",
              "      <th>2021-01-06</th>\n",
              "      <td>a</td>\n",
              "      <td>50</td>\n",
              "      <td>100</td>\n",
              "      <td>5000</td>\n",
              "    </tr>\n",
              "    <tr>\n",
              "      <th>2021-01-08</th>\n",
              "      <td>a</td>\n",
              "      <td>70</td>\n",
              "      <td>100</td>\n",
              "      <td>7000</td>\n",
              "    </tr>\n",
              "  </tbody>\n",
              "</table>\n",
              "</div>"
            ],
            "text/plain": [
              "           type  volume  size  price\n",
              "2021-01-02    c      10   300   5000\n",
              "2021-01-03    b      20   200   6000\n",
              "2021-01-04    b      10   200   3000\n",
              "2021-01-06    a      50   100   5000\n",
              "2021-01-08    a      70   100   7000"
            ]
          },
          "metadata": {},
          "execution_count": 263
        }
      ]
    },
    {
      "cell_type": "markdown",
      "metadata": {
        "id": "rKnq3yGbsyqF"
      },
      "source": [
        "행 인덱스의 값을 `to_period()` 메서드를 사용하여 월까지만 출력되도록 바꾸겠습니다."
      ]
    },
    {
      "cell_type": "code",
      "metadata": {
        "colab": {
          "base_uri": "https://localhost:8080/",
          "height": 206
        },
        "id": "z_uhmk8hoNdL",
        "outputId": "ec47cde9-76fb-448c-be06-a8e48be543e5"
      },
      "source": [
        "df.index = df.index.to_period('M')\n",
        "df.head()"
      ],
      "execution_count": 264,
      "outputs": [
        {
          "output_type": "execute_result",
          "data": {
            "text/html": [
              "<div>\n",
              "<style scoped>\n",
              "    .dataframe tbody tr th:only-of-type {\n",
              "        vertical-align: middle;\n",
              "    }\n",
              "\n",
              "    .dataframe tbody tr th {\n",
              "        vertical-align: top;\n",
              "    }\n",
              "\n",
              "    .dataframe thead th {\n",
              "        text-align: right;\n",
              "    }\n",
              "</style>\n",
              "<table border=\"1\" class=\"dataframe\">\n",
              "  <thead>\n",
              "    <tr style=\"text-align: right;\">\n",
              "      <th></th>\n",
              "      <th>type</th>\n",
              "      <th>volume</th>\n",
              "      <th>size</th>\n",
              "      <th>price</th>\n",
              "    </tr>\n",
              "  </thead>\n",
              "  <tbody>\n",
              "    <tr>\n",
              "      <th>2021-01</th>\n",
              "      <td>c</td>\n",
              "      <td>10</td>\n",
              "      <td>300</td>\n",
              "      <td>5000</td>\n",
              "    </tr>\n",
              "    <tr>\n",
              "      <th>2021-01</th>\n",
              "      <td>b</td>\n",
              "      <td>20</td>\n",
              "      <td>200</td>\n",
              "      <td>6000</td>\n",
              "    </tr>\n",
              "    <tr>\n",
              "      <th>2021-01</th>\n",
              "      <td>b</td>\n",
              "      <td>10</td>\n",
              "      <td>200</td>\n",
              "      <td>3000</td>\n",
              "    </tr>\n",
              "    <tr>\n",
              "      <th>2021-01</th>\n",
              "      <td>a</td>\n",
              "      <td>50</td>\n",
              "      <td>100</td>\n",
              "      <td>5000</td>\n",
              "    </tr>\n",
              "    <tr>\n",
              "      <th>2021-01</th>\n",
              "      <td>a</td>\n",
              "      <td>70</td>\n",
              "      <td>100</td>\n",
              "      <td>7000</td>\n",
              "    </tr>\n",
              "  </tbody>\n",
              "</table>\n",
              "</div>"
            ],
            "text/plain": [
              "        type  volume  size  price\n",
              "2021-01    c      10   300   5000\n",
              "2021-01    b      20   200   6000\n",
              "2021-01    b      10   200   3000\n",
              "2021-01    a      50   100   5000\n",
              "2021-01    a      70   100   7000"
            ]
          },
          "metadata": {},
          "execution_count": 264
        }
      ]
    },
    {
      "cell_type": "markdown",
      "metadata": {
        "id": "726YwHAa407m"
      },
      "source": [
        "### **1.6.2. 시계열 데이터 생성하기**"
      ]
    },
    {
      "cell_type": "markdown",
      "metadata": {
        "id": "upMlUIM2C4h-"
      },
      "source": [
        "판다스의 `date_range()` 메서드는 여러 날짜를 가진 시계열 데이터를 생성합니다. 파라미터 설명은 생략합니다."
      ]
    },
    {
      "cell_type": "code",
      "metadata": {
        "colab": {
          "base_uri": "https://localhost:8080/"
        },
        "id": "t30GkdOKDbPn",
        "outputId": "6dd915a1-059e-40ac-f313-db44cbfefa17"
      },
      "source": [
        "timestamp_d = pd.date_range(start='2021-01-01', end=None, periods=8, freq='D', tz='Asia/Seoul')\n",
        "timestamp_d"
      ],
      "execution_count": 265,
      "outputs": [
        {
          "output_type": "execute_result",
          "data": {
            "text/plain": [
              "DatetimeIndex(['2021-01-01 00:00:00+09:00', '2021-01-02 00:00:00+09:00',\n",
              "               '2021-01-03 00:00:00+09:00', '2021-01-04 00:00:00+09:00',\n",
              "               '2021-01-05 00:00:00+09:00', '2021-01-06 00:00:00+09:00',\n",
              "               '2021-01-07 00:00:00+09:00', '2021-01-08 00:00:00+09:00'],\n",
              "              dtype='datetime64[ns, Asia/Seoul]', freq='D')"
            ]
          },
          "metadata": {},
          "execution_count": 265
        }
      ]
    },
    {
      "cell_type": "code",
      "metadata": {
        "colab": {
          "base_uri": "https://localhost:8080/"
        },
        "id": "MTG_3gfBPfMO",
        "outputId": "a4f6e780-b72c-4ac0-a8f1-b7ddfe289f40"
      },
      "source": [
        "timestamp_6h = pd.date_range('2021-01-01', periods=8, freq='6H', tz='Asia/Seoul')\n",
        "timestamp_6h"
      ],
      "execution_count": 266,
      "outputs": [
        {
          "output_type": "execute_result",
          "data": {
            "text/plain": [
              "DatetimeIndex(['2021-01-01 00:00:00+09:00', '2021-01-01 06:00:00+09:00',\n",
              "               '2021-01-01 12:00:00+09:00', '2021-01-01 18:00:00+09:00',\n",
              "               '2021-01-02 00:00:00+09:00', '2021-01-02 06:00:00+09:00',\n",
              "               '2021-01-02 12:00:00+09:00', '2021-01-02 18:00:00+09:00'],\n",
              "              dtype='datetime64[ns, Asia/Seoul]', freq='6H')"
            ]
          },
          "metadata": {},
          "execution_count": 266
        }
      ]
    },
    {
      "cell_type": "markdown",
      "metadata": {
        "id": "ygmcxALhSXPm"
      },
      "source": [
        "판다스의 `period_range()` 메서드는 여러 기간을 가진 시계열 데이터를 생성합니다. 파라미터 설명은 생략합니다."
      ]
    },
    {
      "cell_type": "code",
      "metadata": {
        "colab": {
          "base_uri": "https://localhost:8080/"
        },
        "id": "OmnVGNtFSofc",
        "outputId": "e59e1566-977d-4fe0-8ebc-fd970028e5ea"
      },
      "source": [
        "period_m = pd.period_range(start='2021-01-01', end=None, periods=5, freq='M')\n",
        "period_m"
      ],
      "execution_count": 267,
      "outputs": [
        {
          "output_type": "execute_result",
          "data": {
            "text/plain": [
              "PeriodIndex(['2021-01', '2021-02', '2021-03', '2021-04', '2021-05'], dtype='period[M]', freq='M')"
            ]
          },
          "metadata": {},
          "execution_count": 267
        }
      ]
    },
    {
      "cell_type": "code",
      "metadata": {
        "colab": {
          "base_uri": "https://localhost:8080/"
        },
        "id": "Lgws9hc8S4X1",
        "outputId": "2325316d-ef68-48e0-f61c-3f54811695a7"
      },
      "source": [
        "period_b = pd.period_range(start='2021-01-01', end=None, periods=4, freq='B')\n",
        "period_b"
      ],
      "execution_count": 268,
      "outputs": [
        {
          "output_type": "execute_result",
          "data": {
            "text/plain": [
              "PeriodIndex(['2021-01-01', '2021-01-04', '2021-01-05', '2021-01-06'], dtype='period[B]', freq='B')"
            ]
          },
          "metadata": {},
          "execution_count": 268
        }
      ]
    },
    {
      "cell_type": "markdown",
      "metadata": {
        "id": "Wf3AB-iO44Sj"
      },
      "source": [
        "### **1.6.3. 시계열 데이터 활용하기**"
      ]
    },
    {
      "cell_type": "markdown",
      "metadata": {
        "id": "YHAssCFucDAP"
      },
      "source": [
        "시계열 데이터에서 연, 월, 일, 요일, 시, 분, 초를 따로 추출할 수 있습니다. 먼저 위에서 사용한 데이터프레임을 다시 만들겠습니다."
      ]
    },
    {
      "cell_type": "code",
      "metadata": {
        "colab": {
          "base_uri": "https://localhost:8080/",
          "height": 206
        },
        "id": "bCwpBZ4FUwJB",
        "outputId": "f36764e4-6603-4e06-f851-9347772579b3"
      },
      "source": [
        "df_data = {\n",
        "    'date': ['2021-01-02', '2021-01-03', '2021-01-04', '2021-01-06', '2021-01-08', '2021-01-10',\n",
        "                     '2021-01-11', '2021-01-12', '2021-01-13', '2021-01-15', '2021-01-18', '2021-01-19'],\n",
        "    'type': ['c', 'b', 'b', 'a', 'a', 'b', 'a', 'b', 'a', 'a', 'c', 'a'],\n",
        "    'volume': [10, 20, 10, 50, 70, 10, 50, 30, 80, 20, 10, 60],\n",
        "    'size': [300, 200, 200, 100, 100, 200, 100, 200, 100, 100, 300, 100],\n",
        "    'price': [5000, 6000, 3000, 5000, 7000, 3000, 5000, 9000, 8000, 2000, 5000, 6000]\n",
        "    }\n",
        "\n",
        "df = pd.DataFrame(df_data)\n",
        "df['date of date'] = pd.to_datetime(df.date)\n",
        "df.head()"
      ],
      "execution_count": 269,
      "outputs": [
        {
          "output_type": "execute_result",
          "data": {
            "text/html": [
              "<div>\n",
              "<style scoped>\n",
              "    .dataframe tbody tr th:only-of-type {\n",
              "        vertical-align: middle;\n",
              "    }\n",
              "\n",
              "    .dataframe tbody tr th {\n",
              "        vertical-align: top;\n",
              "    }\n",
              "\n",
              "    .dataframe thead th {\n",
              "        text-align: right;\n",
              "    }\n",
              "</style>\n",
              "<table border=\"1\" class=\"dataframe\">\n",
              "  <thead>\n",
              "    <tr style=\"text-align: right;\">\n",
              "      <th></th>\n",
              "      <th>date</th>\n",
              "      <th>type</th>\n",
              "      <th>volume</th>\n",
              "      <th>size</th>\n",
              "      <th>price</th>\n",
              "      <th>date of date</th>\n",
              "    </tr>\n",
              "  </thead>\n",
              "  <tbody>\n",
              "    <tr>\n",
              "      <th>0</th>\n",
              "      <td>2021-01-02</td>\n",
              "      <td>c</td>\n",
              "      <td>10</td>\n",
              "      <td>300</td>\n",
              "      <td>5000</td>\n",
              "      <td>2021-01-02</td>\n",
              "    </tr>\n",
              "    <tr>\n",
              "      <th>1</th>\n",
              "      <td>2021-01-03</td>\n",
              "      <td>b</td>\n",
              "      <td>20</td>\n",
              "      <td>200</td>\n",
              "      <td>6000</td>\n",
              "      <td>2021-01-03</td>\n",
              "    </tr>\n",
              "    <tr>\n",
              "      <th>2</th>\n",
              "      <td>2021-01-04</td>\n",
              "      <td>b</td>\n",
              "      <td>10</td>\n",
              "      <td>200</td>\n",
              "      <td>3000</td>\n",
              "      <td>2021-01-04</td>\n",
              "    </tr>\n",
              "    <tr>\n",
              "      <th>3</th>\n",
              "      <td>2021-01-06</td>\n",
              "      <td>a</td>\n",
              "      <td>50</td>\n",
              "      <td>100</td>\n",
              "      <td>5000</td>\n",
              "      <td>2021-01-06</td>\n",
              "    </tr>\n",
              "    <tr>\n",
              "      <th>4</th>\n",
              "      <td>2021-01-08</td>\n",
              "      <td>a</td>\n",
              "      <td>70</td>\n",
              "      <td>100</td>\n",
              "      <td>7000</td>\n",
              "      <td>2021-01-08</td>\n",
              "    </tr>\n",
              "  </tbody>\n",
              "</table>\n",
              "</div>"
            ],
            "text/plain": [
              "         date type  volume  size  price date of date\n",
              "0  2021-01-02    c      10   300   5000   2021-01-02\n",
              "1  2021-01-03    b      20   200   6000   2021-01-03\n",
              "2  2021-01-04    b      10   200   3000   2021-01-04\n",
              "3  2021-01-06    a      50   100   5000   2021-01-06\n",
              "4  2021-01-08    a      70   100   7000   2021-01-08"
            ]
          },
          "metadata": {},
          "execution_count": 269
        }
      ]
    },
    {
      "cell_type": "markdown",
      "metadata": {
        "id": "WFI2Cb6pcp3E"
      },
      "source": [
        "'date of date' 열의 값에서 여러 요소를 추출하겠습니다. 데이터프레임의 `dt` 속성에 추출할 요소를 다시 지정합니다. 아래에서는 몇 가지만 추출하겠습니다. 더 많은 정보는 [링크1](https://m.blog.naver.com/PostView.naver?isHttpsRedirect=true&blogId=wideeyed&logNo=221603462366), [링크2](https://truman.tistory.com/97). [링크3](https://zephyrus1111.tistory.com/69)을 참고하시기 바랍니다."
      ]
    },
    {
      "cell_type": "code",
      "metadata": {
        "colab": {
          "base_uri": "https://localhost:8080/",
          "height": 206
        },
        "id": "7cYPxAJeVQGJ",
        "outputId": "6695a6c5-2e9b-4385-9b18-aec98a8492ac"
      },
      "source": [
        "df['year'] = df['date of date'].dt.year\n",
        "df['month'] = df['date of date'].dt.month\n",
        "df['day'] = df['date of date'].dt.day\n",
        "df['hour'] = df['date of date'].dt.hour\n",
        "df['minute'] = df['date of date'].dt.minute\n",
        "df['second'] = df['date of date'].dt.second\n",
        "# 요일 숫자는 0(월요일)부터 시작합니다.\n",
        "df['day of week'] = df['date of date'].dt.dayofweek\n",
        "df['day name'] = df['date of date'].dt.day_name()\n",
        "df.head()"
      ],
      "execution_count": 270,
      "outputs": [
        {
          "output_type": "execute_result",
          "data": {
            "text/html": [
              "<div>\n",
              "<style scoped>\n",
              "    .dataframe tbody tr th:only-of-type {\n",
              "        vertical-align: middle;\n",
              "    }\n",
              "\n",
              "    .dataframe tbody tr th {\n",
              "        vertical-align: top;\n",
              "    }\n",
              "\n",
              "    .dataframe thead th {\n",
              "        text-align: right;\n",
              "    }\n",
              "</style>\n",
              "<table border=\"1\" class=\"dataframe\">\n",
              "  <thead>\n",
              "    <tr style=\"text-align: right;\">\n",
              "      <th></th>\n",
              "      <th>date</th>\n",
              "      <th>type</th>\n",
              "      <th>volume</th>\n",
              "      <th>size</th>\n",
              "      <th>price</th>\n",
              "      <th>date of date</th>\n",
              "      <th>year</th>\n",
              "      <th>month</th>\n",
              "      <th>day</th>\n",
              "      <th>hour</th>\n",
              "      <th>minute</th>\n",
              "      <th>second</th>\n",
              "      <th>day of week</th>\n",
              "      <th>day name</th>\n",
              "    </tr>\n",
              "  </thead>\n",
              "  <tbody>\n",
              "    <tr>\n",
              "      <th>0</th>\n",
              "      <td>2021-01-02</td>\n",
              "      <td>c</td>\n",
              "      <td>10</td>\n",
              "      <td>300</td>\n",
              "      <td>5000</td>\n",
              "      <td>2021-01-02</td>\n",
              "      <td>2021</td>\n",
              "      <td>1</td>\n",
              "      <td>2</td>\n",
              "      <td>0</td>\n",
              "      <td>0</td>\n",
              "      <td>0</td>\n",
              "      <td>5</td>\n",
              "      <td>Saturday</td>\n",
              "    </tr>\n",
              "    <tr>\n",
              "      <th>1</th>\n",
              "      <td>2021-01-03</td>\n",
              "      <td>b</td>\n",
              "      <td>20</td>\n",
              "      <td>200</td>\n",
              "      <td>6000</td>\n",
              "      <td>2021-01-03</td>\n",
              "      <td>2021</td>\n",
              "      <td>1</td>\n",
              "      <td>3</td>\n",
              "      <td>0</td>\n",
              "      <td>0</td>\n",
              "      <td>0</td>\n",
              "      <td>6</td>\n",
              "      <td>Sunday</td>\n",
              "    </tr>\n",
              "    <tr>\n",
              "      <th>2</th>\n",
              "      <td>2021-01-04</td>\n",
              "      <td>b</td>\n",
              "      <td>10</td>\n",
              "      <td>200</td>\n",
              "      <td>3000</td>\n",
              "      <td>2021-01-04</td>\n",
              "      <td>2021</td>\n",
              "      <td>1</td>\n",
              "      <td>4</td>\n",
              "      <td>0</td>\n",
              "      <td>0</td>\n",
              "      <td>0</td>\n",
              "      <td>0</td>\n",
              "      <td>Monday</td>\n",
              "    </tr>\n",
              "    <tr>\n",
              "      <th>3</th>\n",
              "      <td>2021-01-06</td>\n",
              "      <td>a</td>\n",
              "      <td>50</td>\n",
              "      <td>100</td>\n",
              "      <td>5000</td>\n",
              "      <td>2021-01-06</td>\n",
              "      <td>2021</td>\n",
              "      <td>1</td>\n",
              "      <td>6</td>\n",
              "      <td>0</td>\n",
              "      <td>0</td>\n",
              "      <td>0</td>\n",
              "      <td>2</td>\n",
              "      <td>Wednesday</td>\n",
              "    </tr>\n",
              "    <tr>\n",
              "      <th>4</th>\n",
              "      <td>2021-01-08</td>\n",
              "      <td>a</td>\n",
              "      <td>70</td>\n",
              "      <td>100</td>\n",
              "      <td>7000</td>\n",
              "      <td>2021-01-08</td>\n",
              "      <td>2021</td>\n",
              "      <td>1</td>\n",
              "      <td>8</td>\n",
              "      <td>0</td>\n",
              "      <td>0</td>\n",
              "      <td>0</td>\n",
              "      <td>4</td>\n",
              "      <td>Friday</td>\n",
              "    </tr>\n",
              "  </tbody>\n",
              "</table>\n",
              "</div>"
            ],
            "text/plain": [
              "         date type  volume  size  ...  minute second  day of week   day name\n",
              "0  2021-01-02    c      10   300  ...       0      0            5   Saturday\n",
              "1  2021-01-03    b      20   200  ...       0      0            6     Sunday\n",
              "2  2021-01-04    b      10   200  ...       0      0            0     Monday\n",
              "3  2021-01-06    a      50   100  ...       0      0            2  Wednesday\n",
              "4  2021-01-08    a      70   100  ...       0      0            4     Friday\n",
              "\n",
              "[5 rows x 14 columns]"
            ]
          },
          "metadata": {},
          "execution_count": 270
        }
      ]
    },
    {
      "cell_type": "markdown",
      "metadata": {
        "id": "o8KPhHpClseq"
      },
      "source": [
        "한국어 요일로 변환하려면 아래 코드 형식을 취합니다."
      ]
    },
    {
      "cell_type": "code",
      "metadata": {
        "colab": {
          "base_uri": "https://localhost:8080/",
          "height": 206
        },
        "id": "ZsiE2GO9lGYG",
        "outputId": "60d997e1-cf51-45a9-9514-494f67c74dd9"
      },
      "source": [
        "num_to_day_name = {\n",
        "    0 : '월요일',\n",
        "    1 : '화요일',\n",
        "    2 : '수요일',\n",
        "    3 : '목요일',\n",
        "    4 : '금요일',\n",
        "    5 : '토요일',\n",
        "    6 : '일요일'\n",
        "    }\n",
        " \n",
        "df['day name(kor)'] = [num_to_day_name[k] for k in df['day of week']]\n",
        "df.head()"
      ],
      "execution_count": 271,
      "outputs": [
        {
          "output_type": "execute_result",
          "data": {
            "text/html": [
              "<div>\n",
              "<style scoped>\n",
              "    .dataframe tbody tr th:only-of-type {\n",
              "        vertical-align: middle;\n",
              "    }\n",
              "\n",
              "    .dataframe tbody tr th {\n",
              "        vertical-align: top;\n",
              "    }\n",
              "\n",
              "    .dataframe thead th {\n",
              "        text-align: right;\n",
              "    }\n",
              "</style>\n",
              "<table border=\"1\" class=\"dataframe\">\n",
              "  <thead>\n",
              "    <tr style=\"text-align: right;\">\n",
              "      <th></th>\n",
              "      <th>date</th>\n",
              "      <th>type</th>\n",
              "      <th>volume</th>\n",
              "      <th>size</th>\n",
              "      <th>price</th>\n",
              "      <th>date of date</th>\n",
              "      <th>year</th>\n",
              "      <th>month</th>\n",
              "      <th>day</th>\n",
              "      <th>hour</th>\n",
              "      <th>minute</th>\n",
              "      <th>second</th>\n",
              "      <th>day of week</th>\n",
              "      <th>day name</th>\n",
              "      <th>day name(kor)</th>\n",
              "    </tr>\n",
              "  </thead>\n",
              "  <tbody>\n",
              "    <tr>\n",
              "      <th>0</th>\n",
              "      <td>2021-01-02</td>\n",
              "      <td>c</td>\n",
              "      <td>10</td>\n",
              "      <td>300</td>\n",
              "      <td>5000</td>\n",
              "      <td>2021-01-02</td>\n",
              "      <td>2021</td>\n",
              "      <td>1</td>\n",
              "      <td>2</td>\n",
              "      <td>0</td>\n",
              "      <td>0</td>\n",
              "      <td>0</td>\n",
              "      <td>5</td>\n",
              "      <td>Saturday</td>\n",
              "      <td>토요일</td>\n",
              "    </tr>\n",
              "    <tr>\n",
              "      <th>1</th>\n",
              "      <td>2021-01-03</td>\n",
              "      <td>b</td>\n",
              "      <td>20</td>\n",
              "      <td>200</td>\n",
              "      <td>6000</td>\n",
              "      <td>2021-01-03</td>\n",
              "      <td>2021</td>\n",
              "      <td>1</td>\n",
              "      <td>3</td>\n",
              "      <td>0</td>\n",
              "      <td>0</td>\n",
              "      <td>0</td>\n",
              "      <td>6</td>\n",
              "      <td>Sunday</td>\n",
              "      <td>일요일</td>\n",
              "    </tr>\n",
              "    <tr>\n",
              "      <th>2</th>\n",
              "      <td>2021-01-04</td>\n",
              "      <td>b</td>\n",
              "      <td>10</td>\n",
              "      <td>200</td>\n",
              "      <td>3000</td>\n",
              "      <td>2021-01-04</td>\n",
              "      <td>2021</td>\n",
              "      <td>1</td>\n",
              "      <td>4</td>\n",
              "      <td>0</td>\n",
              "      <td>0</td>\n",
              "      <td>0</td>\n",
              "      <td>0</td>\n",
              "      <td>Monday</td>\n",
              "      <td>월요일</td>\n",
              "    </tr>\n",
              "    <tr>\n",
              "      <th>3</th>\n",
              "      <td>2021-01-06</td>\n",
              "      <td>a</td>\n",
              "      <td>50</td>\n",
              "      <td>100</td>\n",
              "      <td>5000</td>\n",
              "      <td>2021-01-06</td>\n",
              "      <td>2021</td>\n",
              "      <td>1</td>\n",
              "      <td>6</td>\n",
              "      <td>0</td>\n",
              "      <td>0</td>\n",
              "      <td>0</td>\n",
              "      <td>2</td>\n",
              "      <td>Wednesday</td>\n",
              "      <td>수요일</td>\n",
              "    </tr>\n",
              "    <tr>\n",
              "      <th>4</th>\n",
              "      <td>2021-01-08</td>\n",
              "      <td>a</td>\n",
              "      <td>70</td>\n",
              "      <td>100</td>\n",
              "      <td>7000</td>\n",
              "      <td>2021-01-08</td>\n",
              "      <td>2021</td>\n",
              "      <td>1</td>\n",
              "      <td>8</td>\n",
              "      <td>0</td>\n",
              "      <td>0</td>\n",
              "      <td>0</td>\n",
              "      <td>4</td>\n",
              "      <td>Friday</td>\n",
              "      <td>금요일</td>\n",
              "    </tr>\n",
              "  </tbody>\n",
              "</table>\n",
              "</div>"
            ],
            "text/plain": [
              "         date type  volume  size  ...  second day of week   day name  day name(kor)\n",
              "0  2021-01-02    c      10   300  ...       0           5   Saturday            토요일\n",
              "1  2021-01-03    b      20   200  ...       0           6     Sunday            일요일\n",
              "2  2021-01-04    b      10   200  ...       0           0     Monday            월요일\n",
              "3  2021-01-06    a      50   100  ...       0           2  Wednesday            수요일\n",
              "4  2021-01-08    a      70   100  ...       0           4     Friday            금요일\n",
              "\n",
              "[5 rows x 15 columns]"
            ]
          },
          "metadata": {},
          "execution_count": 271
        }
      ]
    },
    {
      "cell_type": "code",
      "metadata": {
        "colab": {
          "base_uri": "https://localhost:8080/",
          "height": 206
        },
        "id": "XZd2Xus6Uw2o",
        "outputId": "1ec74369-d82c-400b-a5a2-960835498b36"
      },
      "source": [
        "df_data = {\n",
        "    'type': ['c', 'b', 'b', 'a', 'a', 'b', 'a', 'b', 'a', 'a', 'c', 'a'],\n",
        "    'volume': [10, 20, 10, 50, 70, 10, 50, 30, 80, 20, 10, 60],\n",
        "    'size': [300, 200, 200, 100, 100, 200, 100, 200, 100, 100, 300, 100],\n",
        "    'price': [5000, 6000, 3000, 5000, 7000, 3000, 5000, 9000, 8000, 2000, 5000, 6000]\n",
        "    }\n",
        "\n",
        "dates = ['2021-01-02', '2021-01-03', '2021-01-04', '2021-01-06', '2021-01-08', '2021-01-10', \n",
        "        '2021-01-11', '2021-01-12', '2021-01-13', '2021-01-15', '2021-01-18', '2021-01-19']\n",
        "dates_to_datetime = pd.to_datetime(dates)\n",
        "\n",
        "df = pd.DataFrame(df_data, index=dates_to_datetime)\n",
        "df.head()"
      ],
      "execution_count": 272,
      "outputs": [
        {
          "output_type": "execute_result",
          "data": {
            "text/html": [
              "<div>\n",
              "<style scoped>\n",
              "    .dataframe tbody tr th:only-of-type {\n",
              "        vertical-align: middle;\n",
              "    }\n",
              "\n",
              "    .dataframe tbody tr th {\n",
              "        vertical-align: top;\n",
              "    }\n",
              "\n",
              "    .dataframe thead th {\n",
              "        text-align: right;\n",
              "    }\n",
              "</style>\n",
              "<table border=\"1\" class=\"dataframe\">\n",
              "  <thead>\n",
              "    <tr style=\"text-align: right;\">\n",
              "      <th></th>\n",
              "      <th>type</th>\n",
              "      <th>volume</th>\n",
              "      <th>size</th>\n",
              "      <th>price</th>\n",
              "    </tr>\n",
              "  </thead>\n",
              "  <tbody>\n",
              "    <tr>\n",
              "      <th>2021-01-02</th>\n",
              "      <td>c</td>\n",
              "      <td>10</td>\n",
              "      <td>300</td>\n",
              "      <td>5000</td>\n",
              "    </tr>\n",
              "    <tr>\n",
              "      <th>2021-01-03</th>\n",
              "      <td>b</td>\n",
              "      <td>20</td>\n",
              "      <td>200</td>\n",
              "      <td>6000</td>\n",
              "    </tr>\n",
              "    <tr>\n",
              "      <th>2021-01-04</th>\n",
              "      <td>b</td>\n",
              "      <td>10</td>\n",
              "      <td>200</td>\n",
              "      <td>3000</td>\n",
              "    </tr>\n",
              "    <tr>\n",
              "      <th>2021-01-06</th>\n",
              "      <td>a</td>\n",
              "      <td>50</td>\n",
              "      <td>100</td>\n",
              "      <td>5000</td>\n",
              "    </tr>\n",
              "    <tr>\n",
              "      <th>2021-01-08</th>\n",
              "      <td>a</td>\n",
              "      <td>70</td>\n",
              "      <td>100</td>\n",
              "      <td>7000</td>\n",
              "    </tr>\n",
              "  </tbody>\n",
              "</table>\n",
              "</div>"
            ],
            "text/plain": [
              "           type  volume  size  price\n",
              "2021-01-02    c      10   300   5000\n",
              "2021-01-03    b      20   200   6000\n",
              "2021-01-04    b      10   200   3000\n",
              "2021-01-06    a      50   100   5000\n",
              "2021-01-08    a      70   100   7000"
            ]
          },
          "metadata": {},
          "execution_count": 272
        }
      ]
    }
  ]
}