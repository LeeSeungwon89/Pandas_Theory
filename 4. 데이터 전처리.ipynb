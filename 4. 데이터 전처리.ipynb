{
  "nbformat": 4,
  "nbformat_minor": 0,
  "metadata": {
    "colab": {
      "name": "4. 데이터 전처리.ipynb",
      "provenance": [],
      "collapsed_sections": [],
      "toc_visible": true,
      "authorship_tag": "ABX9TyN6GRc8J4a/5f8Q+612DJD+",
      "include_colab_link": true
    },
    "kernelspec": {
      "name": "python3",
      "display_name": "Python 3"
    },
    "language_info": {
      "name": "python"
    }
  },
  "cells": [
    {
      "cell_type": "markdown",
      "metadata": {
        "id": "view-in-github",
        "colab_type": "text"
      },
      "source": [
        "<a href=\"https://colab.research.google.com/github/LeeSeungwon89/Python_for_Data_Analytics_Science/blob/main/4.%20%EB%8D%B0%EC%9D%B4%ED%84%B0%20%EC%A0%84%EC%B2%98%EB%A6%AC.ipynb\" target=\"_parent\"><img src=\"https://colab.research.google.com/assets/colab-badge.svg\" alt=\"Open In Colab\"/></a>"
      ]
    },
    {
      "cell_type": "markdown",
      "metadata": {
        "id": "vcNquNmh2mpV"
      },
      "source": [
        "# **1. 데이터 전처리하기**"
      ]
    },
    {
      "cell_type": "markdown",
      "metadata": {
        "id": "UuJAl4Rvlb3O"
      },
      "source": [
        "각종 인터넷 정보, 서적, **파이썬 머신러닝 판다스 데이터 분석(오승환, 정보문화사)**를 참고했습니다."
      ]
    },
    {
      "cell_type": "markdown",
      "metadata": {
        "id": "vpf8KxYc25kH"
      },
      "source": [
        "## **1.1. 누락된 데이터**"
      ]
    },
    {
      "cell_type": "markdown",
      "metadata": {
        "id": "p68uAdZ5kN6V"
      },
      "source": [
        "특정 데이터를 실수로 입력하지 않거나 파일 형식을 변환하면서 데이터 자체가 손상되는 경우가 많습니다. 누락된 데이터를 적절하게 처리해야 데이터 분석 결과가 왜곡되지 않습니다."
      ]
    },
    {
      "cell_type": "markdown",
      "metadata": {
        "id": "sfEJRIc43hUs"
      },
      "source": [
        "### **1.1.1 누락된 데이터 확인하기**"
      ]
    },
    {
      "cell_type": "markdown",
      "metadata": {
        "id": "e6K-8zc13mwN"
      },
      "source": [
        "### **1.1.2. 누락된 데이터 제거하기**"
      ]
    },
    {
      "cell_type": "markdown",
      "metadata": {
        "id": "yB3_ApHr3pdA"
      },
      "source": [
        "### **1.1.3. 누락된 데이터 치환하기**"
      ]
    },
    {
      "cell_type": "markdown",
      "metadata": {
        "id": "taxNCYSS3Dum"
      },
      "source": [
        "## **1.2. 중복된 데이터**"
      ]
    },
    {
      "cell_type": "markdown",
      "metadata": {
        "id": "14Ultj9-3w6Z"
      },
      "source": [
        "### **1.2.1. 중복된 데이터 확인하기**"
      ]
    },
    {
      "cell_type": "markdown",
      "metadata": {
        "id": "JHRoQVmd3w3f"
      },
      "source": [
        "### **1.2.2. 중복된 데이터 제거하기**"
      ]
    },
    {
      "cell_type": "markdown",
      "metadata": {
        "id": "i-vcyKWR3J-Y"
      },
      "source": [
        "## **1.3. 데이터 표준화**"
      ]
    },
    {
      "cell_type": "markdown",
      "metadata": {
        "id": "iKarohFQ34nF"
      },
      "source": [
        "### **1.3.1. 단위 환산하기**"
      ]
    },
    {
      "cell_type": "markdown",
      "metadata": {
        "id": "0SDDb_jB37F3"
      },
      "source": [
        "### **1.3.2. 자료형 변환하기**"
      ]
    },
    {
      "cell_type": "markdown",
      "metadata": {
        "id": "aWopsWld3J5M"
      },
      "source": [
        "## **1.4. 범주형 데이터**"
      ]
    },
    {
      "cell_type": "markdown",
      "metadata": {
        "id": "3kZRpDEB4CAv"
      },
      "source": [
        "### **1.4.1. 구간 분할하기**"
      ]
    },
    {
      "cell_type": "markdown",
      "metadata": {
        "id": "NdhqoNqZ4Foq"
      },
      "source": [
        "### **1.4.2. 더미 변수 사용하기**"
      ]
    },
    {
      "cell_type": "markdown",
      "metadata": {
        "id": "ySk461qk3RGd"
      },
      "source": [
        "## **1.5. 데이터 정규화**"
      ]
    },
    {
      "cell_type": "markdown",
      "metadata": {
        "id": "mr9X0rOh3Upl"
      },
      "source": [
        "## **1.6. 시계열 데이터**"
      ]
    },
    {
      "cell_type": "markdown",
      "metadata": {
        "id": "P4LrR_oD4uBM"
      },
      "source": [
        "### **1.6.1. 시계열 객체로 변환하기**"
      ]
    },
    {
      "cell_type": "markdown",
      "metadata": {
        "id": "726YwHAa407m"
      },
      "source": [
        "### **1.6.2. 시계열 데이터 생성하기**"
      ]
    },
    {
      "cell_type": "markdown",
      "metadata": {
        "id": "Wf3AB-iO44Sj"
      },
      "source": [
        "### **1.6.3. 시계열 데이터 활용하기**"
      ]
    }
  ]
}