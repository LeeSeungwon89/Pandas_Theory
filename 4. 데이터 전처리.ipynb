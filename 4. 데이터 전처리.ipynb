{
  "nbformat": 4,
  "nbformat_minor": 0,
  "metadata": {
    "colab": {
      "name": "4. 데이터 전처리.ipynb",
      "provenance": [],
      "collapsed_sections": [],
      "toc_visible": true,
      "authorship_tag": "ABX9TyNPo2GJVFOHAkey54I/rzrI",
      "include_colab_link": true
    },
    "kernelspec": {
      "name": "python3",
      "display_name": "Python 3"
    },
    "language_info": {
      "name": "python"
    }
  },
  "cells": [
    {
      "cell_type": "markdown",
      "metadata": {
        "id": "view-in-github",
        "colab_type": "text"
      },
      "source": [
        "<a href=\"https://colab.research.google.com/github/LeeSeungwon89/Python_for_Data_Analytics_Science/blob/main/4.%20%EB%8D%B0%EC%9D%B4%ED%84%B0%20%EC%A0%84%EC%B2%98%EB%A6%AC.ipynb\" target=\"_parent\"><img src=\"https://colab.research.google.com/assets/colab-badge.svg\" alt=\"Open In Colab\"/></a>"
      ]
    },
    {
      "cell_type": "markdown",
      "metadata": {
        "id": "vcNquNmh2mpV"
      },
      "source": [
        "# **1. 데이터 전처리하기**"
      ]
    },
    {
      "cell_type": "markdown",
      "metadata": {
        "id": "UuJAl4Rvlb3O"
      },
      "source": [
        "데이터를 분석하기 전에 데이터 품질을 제고하는 데이터 전처리(preprocessing) 작업을 선행해야 합니다. 데이터 분석 결과가 왜곡되는 상황을 방지하고 데이터 분석 정확도를 제고하기 위한 필수 작업입니다. \n",
        "\n",
        "데이터 분석 강의, 인터넷 정보, 서적, **파이썬 머신러닝 판다스 데이터 분석(오승환, 정보문화사)**을 참고했습니다."
      ]
    },
    {
      "cell_type": "markdown",
      "metadata": {
        "id": "vpf8KxYc25kH"
      },
      "source": [
        "## **1.1. 누락된 데이터**"
      ]
    },
    {
      "cell_type": "markdown",
      "metadata": {
        "id": "p68uAdZ5kN6V"
      },
      "source": [
        "특정 데이터를 실수로 입력하지 않거나 파일 형식을 변환하면서 데이터가 손상되는 경우가 많습니다. 전처리 작업을 거치지 않으면 정확한 데이터 분석 결과를 얻기 어렵습니다. "
      ]
    },
    {
      "cell_type": "markdown",
      "metadata": {
        "id": "sfEJRIc43hUs"
      },
      "source": [
        "### **1.1.1 누락된 데이터 확인하기**"
      ]
    },
    {
      "cell_type": "markdown",
      "metadata": {
        "id": "X4MGSTp-t9FW"
      },
      "source": [
        "데이터 분석을 위한 라이브러리 목록입니다. 복사해서 사용합니다."
      ]
    },
    {
      "cell_type": "code",
      "metadata": {
        "id": "f5ZX6wtlrUbK"
      },
      "source": [
        "# 기본적인 라이브러리입니다.\n",
        "import time\n",
        "import random\n",
        "import math\n",
        "\n",
        "# 데이터 분석을 위한 라이브러리입니다.\n",
        "import numpy as np\n",
        "import pandas as pd\n",
        "\n",
        "# 수학 라이브러리입니다.\n",
        "import scipy as sp\n",
        "import statsmodels.api as sm\n",
        "\n",
        "# 웹 스크레이핑을 위한 라이브러리입니다\n",
        "import re\n",
        "import requests\n",
        "from bs4 import BeautifulSoup\n",
        "import os\n",
        "import json\n",
        "\n",
        "# 시각화 라이브러리입니다.\n",
        "import matplotlib as mpl\n",
        "import matplotlib.pylab as plb\n",
        "import matplotlib.pyplot as plt\n",
        "import sklearn as sk\n",
        "import seaborn as sns\n",
        "\n",
        "# 시각화 자료를 바로 띄워줍니다.\n",
        "%matplotlib inline\n",
        "\n",
        "# 그래프에 retina를 지정합니다.\n",
        "%config InlineBackend.figure_format = 'retina'\n",
        "\n",
        "# 음수 부호를 깨지지 않도록 합니다.\n",
        "mpl.rc('axes', unicode_minus=False)"
      ],
      "execution_count": 15,
      "outputs": []
    },
    {
      "cell_type": "markdown",
      "metadata": {
        "id": "YliQlPMzuPb0"
      },
      "source": [
        "사용할 데이터셋은 `seaborn` 라이브러리의 타이타닉 탑승객 정보 데이터셋입니다."
      ]
    },
    {
      "cell_type": "code",
      "metadata": {
        "id": "2QnHaCQQqKhQ",
        "colab": {
          "base_uri": "https://localhost:8080/",
          "height": 203
        },
        "outputId": "1e055232-a3e8-4ccc-9d7b-5f0b046dc8e9"
      },
      "source": [
        "df = sns.load_dataset('titanic')\n",
        "df.head()"
      ],
      "execution_count": 16,
      "outputs": [
        {
          "output_type": "execute_result",
          "data": {
            "text/html": [
              "<div>\n",
              "<style scoped>\n",
              "    .dataframe tbody tr th:only-of-type {\n",
              "        vertical-align: middle;\n",
              "    }\n",
              "\n",
              "    .dataframe tbody tr th {\n",
              "        vertical-align: top;\n",
              "    }\n",
              "\n",
              "    .dataframe thead th {\n",
              "        text-align: right;\n",
              "    }\n",
              "</style>\n",
              "<table border=\"1\" class=\"dataframe\">\n",
              "  <thead>\n",
              "    <tr style=\"text-align: right;\">\n",
              "      <th></th>\n",
              "      <th>survived</th>\n",
              "      <th>pclass</th>\n",
              "      <th>sex</th>\n",
              "      <th>age</th>\n",
              "      <th>sibsp</th>\n",
              "      <th>parch</th>\n",
              "      <th>fare</th>\n",
              "      <th>embarked</th>\n",
              "      <th>class</th>\n",
              "      <th>who</th>\n",
              "      <th>adult_male</th>\n",
              "      <th>deck</th>\n",
              "      <th>embark_town</th>\n",
              "      <th>alive</th>\n",
              "      <th>alone</th>\n",
              "    </tr>\n",
              "  </thead>\n",
              "  <tbody>\n",
              "    <tr>\n",
              "      <th>0</th>\n",
              "      <td>0</td>\n",
              "      <td>3</td>\n",
              "      <td>male</td>\n",
              "      <td>22.0</td>\n",
              "      <td>1</td>\n",
              "      <td>0</td>\n",
              "      <td>7.2500</td>\n",
              "      <td>S</td>\n",
              "      <td>Third</td>\n",
              "      <td>man</td>\n",
              "      <td>True</td>\n",
              "      <td>NaN</td>\n",
              "      <td>Southampton</td>\n",
              "      <td>no</td>\n",
              "      <td>False</td>\n",
              "    </tr>\n",
              "    <tr>\n",
              "      <th>1</th>\n",
              "      <td>1</td>\n",
              "      <td>1</td>\n",
              "      <td>female</td>\n",
              "      <td>38.0</td>\n",
              "      <td>1</td>\n",
              "      <td>0</td>\n",
              "      <td>71.2833</td>\n",
              "      <td>C</td>\n",
              "      <td>First</td>\n",
              "      <td>woman</td>\n",
              "      <td>False</td>\n",
              "      <td>C</td>\n",
              "      <td>Cherbourg</td>\n",
              "      <td>yes</td>\n",
              "      <td>False</td>\n",
              "    </tr>\n",
              "    <tr>\n",
              "      <th>2</th>\n",
              "      <td>1</td>\n",
              "      <td>3</td>\n",
              "      <td>female</td>\n",
              "      <td>26.0</td>\n",
              "      <td>0</td>\n",
              "      <td>0</td>\n",
              "      <td>7.9250</td>\n",
              "      <td>S</td>\n",
              "      <td>Third</td>\n",
              "      <td>woman</td>\n",
              "      <td>False</td>\n",
              "      <td>NaN</td>\n",
              "      <td>Southampton</td>\n",
              "      <td>yes</td>\n",
              "      <td>True</td>\n",
              "    </tr>\n",
              "    <tr>\n",
              "      <th>3</th>\n",
              "      <td>1</td>\n",
              "      <td>1</td>\n",
              "      <td>female</td>\n",
              "      <td>35.0</td>\n",
              "      <td>1</td>\n",
              "      <td>0</td>\n",
              "      <td>53.1000</td>\n",
              "      <td>S</td>\n",
              "      <td>First</td>\n",
              "      <td>woman</td>\n",
              "      <td>False</td>\n",
              "      <td>C</td>\n",
              "      <td>Southampton</td>\n",
              "      <td>yes</td>\n",
              "      <td>False</td>\n",
              "    </tr>\n",
              "    <tr>\n",
              "      <th>4</th>\n",
              "      <td>0</td>\n",
              "      <td>3</td>\n",
              "      <td>male</td>\n",
              "      <td>35.0</td>\n",
              "      <td>0</td>\n",
              "      <td>0</td>\n",
              "      <td>8.0500</td>\n",
              "      <td>S</td>\n",
              "      <td>Third</td>\n",
              "      <td>man</td>\n",
              "      <td>True</td>\n",
              "      <td>NaN</td>\n",
              "      <td>Southampton</td>\n",
              "      <td>no</td>\n",
              "      <td>True</td>\n",
              "    </tr>\n",
              "  </tbody>\n",
              "</table>\n",
              "</div>"
            ],
            "text/plain": [
              "   survived  pclass     sex   age  ...  deck  embark_town  alive  alone\n",
              "0         0       3    male  22.0  ...   NaN  Southampton     no  False\n",
              "1         1       1  female  38.0  ...     C    Cherbourg    yes  False\n",
              "2         1       3  female  26.0  ...   NaN  Southampton    yes   True\n",
              "3         1       1  female  35.0  ...     C  Southampton    yes  False\n",
              "4         0       3    male  35.0  ...   NaN  Southampton     no   True\n",
              "\n",
              "[5 rows x 15 columns]"
            ]
          },
          "metadata": {},
          "execution_count": 16
        }
      ]
    },
    {
      "cell_type": "code",
      "metadata": {
        "colab": {
          "base_uri": "https://localhost:8080/"
        },
        "id": "M6meJwpckuli",
        "outputId": "7660cb82-de59-4c6d-e62a-1c4c350d750e"
      },
      "source": [
        "df.describe"
      ],
      "execution_count": 41,
      "outputs": [
        {
          "output_type": "execute_result",
          "data": {
            "text/plain": [
              "<bound method NDFrame.describe of      survived  pclass     sex   age  ...  deck  embark_town  alive  alone\n",
              "0           0       3    male  22.0  ...   NaN  Southampton     no  False\n",
              "1           1       1  female  38.0  ...     C    Cherbourg    yes  False\n",
              "2           1       3  female  26.0  ...   NaN  Southampton    yes   True\n",
              "3           1       1  female  35.0  ...     C  Southampton    yes  False\n",
              "4           0       3    male  35.0  ...   NaN  Southampton     no   True\n",
              "..        ...     ...     ...   ...  ...   ...          ...    ...    ...\n",
              "886         0       2    male  27.0  ...   NaN  Southampton     no   True\n",
              "887         1       1  female  19.0  ...     B  Southampton    yes   True\n",
              "888         0       3  female   NaN  ...   NaN  Southampton     no  False\n",
              "889         1       1    male  26.0  ...     C    Cherbourg    yes   True\n",
              "890         0       3    male  32.0  ...   NaN   Queenstown     no   True\n",
              "\n",
              "[891 rows x 15 columns]>"
            ]
          },
          "metadata": {},
          "execution_count": 41
        }
      ]
    },
    {
      "cell_type": "markdown",
      "metadata": {
        "id": "PczAQffouhM9"
      },
      "source": [
        "`info()` 메서드만으로도 누락된 데이터를 어느 정도 파악할 수 있습니다. 총 데이터 개수는 891인데 'age', 'embarked', 'deck', 'embark_town' 열은 데이터 수가 891 미만으로 모자랍니다. "
      ]
    },
    {
      "cell_type": "code",
      "metadata": {
        "colab": {
          "base_uri": "https://localhost:8080/"
        },
        "id": "u8VZW-tNrq95",
        "outputId": "0a3945ff-9bdb-47a4-e55c-ab5d730cd582"
      },
      "source": [
        "df.info()"
      ],
      "execution_count": 17,
      "outputs": [
        {
          "output_type": "stream",
          "name": "stdout",
          "text": [
            "<class 'pandas.core.frame.DataFrame'>\n",
            "RangeIndex: 891 entries, 0 to 890\n",
            "Data columns (total 15 columns):\n",
            " #   Column       Non-Null Count  Dtype   \n",
            "---  ------       --------------  -----   \n",
            " 0   survived     891 non-null    int64   \n",
            " 1   pclass       891 non-null    int64   \n",
            " 2   sex          891 non-null    object  \n",
            " 3   age          714 non-null    float64 \n",
            " 4   sibsp        891 non-null    int64   \n",
            " 5   parch        891 non-null    int64   \n",
            " 6   fare         891 non-null    float64 \n",
            " 7   embarked     889 non-null    object  \n",
            " 8   class        891 non-null    category\n",
            " 9   who          891 non-null    object  \n",
            " 10  adult_male   891 non-null    bool    \n",
            " 11  deck         203 non-null    category\n",
            " 12  embark_town  889 non-null    object  \n",
            " 13  alive        891 non-null    object  \n",
            " 14  alone        891 non-null    bool    \n",
            "dtypes: bool(2), category(2), float64(2), int64(4), object(5)\n",
            "memory usage: 80.6+ KB\n"
          ]
        }
      ]
    },
    {
      "cell_type": "markdown",
      "metadata": {
        "id": "xv0nRfTcuvLr"
      },
      "source": [
        "`isnull()` 메서드를 사용하면 `NaN`을 의미하는 `True`가 1, `False`가 0입니다. 이 값을 열 기준으로 모두 더하는 `sum(axis=0)` 메서드를 활용하면 데이터가 누락된 열 개수를 파악할 수 있습니다. `axis=0`과 `axis=1`은 혼동하기 쉬운 개념입니다. 명확하게 정리하겠습니다.\n",
        "\n",
        "- `axis=0`: 행(인덱스) 방향으로 작동합니다. 책을 위로 쌓으면서 정리한다고 볼 수 있습니다. 다시 말하면 각 열의 모든 행으로 작동합니다. 작업 결과는 행으로 출력됩니다. \n",
        "\n",
        "- `axis=1`: 열(컬럼) 방향으로 작동합니다. 책을 옆으로 정리한다고 볼 수 있습니다. 다시 말하면 각 행의 모든 열로 작동합니다. 작업 결과는 열로 출력됩니다. "
      ]
    },
    {
      "cell_type": "code",
      "metadata": {
        "colab": {
          "base_uri": "https://localhost:8080/",
          "height": 203
        },
        "id": "OZuEcAq_sW-J",
        "outputId": "8be43127-be1d-4af3-81cf-72a16ea337fe"
      },
      "source": [
        "df.head().isnull()"
      ],
      "execution_count": 18,
      "outputs": [
        {
          "output_type": "execute_result",
          "data": {
            "text/html": [
              "<div>\n",
              "<style scoped>\n",
              "    .dataframe tbody tr th:only-of-type {\n",
              "        vertical-align: middle;\n",
              "    }\n",
              "\n",
              "    .dataframe tbody tr th {\n",
              "        vertical-align: top;\n",
              "    }\n",
              "\n",
              "    .dataframe thead th {\n",
              "        text-align: right;\n",
              "    }\n",
              "</style>\n",
              "<table border=\"1\" class=\"dataframe\">\n",
              "  <thead>\n",
              "    <tr style=\"text-align: right;\">\n",
              "      <th></th>\n",
              "      <th>survived</th>\n",
              "      <th>pclass</th>\n",
              "      <th>sex</th>\n",
              "      <th>age</th>\n",
              "      <th>sibsp</th>\n",
              "      <th>parch</th>\n",
              "      <th>fare</th>\n",
              "      <th>embarked</th>\n",
              "      <th>class</th>\n",
              "      <th>who</th>\n",
              "      <th>adult_male</th>\n",
              "      <th>deck</th>\n",
              "      <th>embark_town</th>\n",
              "      <th>alive</th>\n",
              "      <th>alone</th>\n",
              "    </tr>\n",
              "  </thead>\n",
              "  <tbody>\n",
              "    <tr>\n",
              "      <th>0</th>\n",
              "      <td>False</td>\n",
              "      <td>False</td>\n",
              "      <td>False</td>\n",
              "      <td>False</td>\n",
              "      <td>False</td>\n",
              "      <td>False</td>\n",
              "      <td>False</td>\n",
              "      <td>False</td>\n",
              "      <td>False</td>\n",
              "      <td>False</td>\n",
              "      <td>False</td>\n",
              "      <td>True</td>\n",
              "      <td>False</td>\n",
              "      <td>False</td>\n",
              "      <td>False</td>\n",
              "    </tr>\n",
              "    <tr>\n",
              "      <th>1</th>\n",
              "      <td>False</td>\n",
              "      <td>False</td>\n",
              "      <td>False</td>\n",
              "      <td>False</td>\n",
              "      <td>False</td>\n",
              "      <td>False</td>\n",
              "      <td>False</td>\n",
              "      <td>False</td>\n",
              "      <td>False</td>\n",
              "      <td>False</td>\n",
              "      <td>False</td>\n",
              "      <td>False</td>\n",
              "      <td>False</td>\n",
              "      <td>False</td>\n",
              "      <td>False</td>\n",
              "    </tr>\n",
              "    <tr>\n",
              "      <th>2</th>\n",
              "      <td>False</td>\n",
              "      <td>False</td>\n",
              "      <td>False</td>\n",
              "      <td>False</td>\n",
              "      <td>False</td>\n",
              "      <td>False</td>\n",
              "      <td>False</td>\n",
              "      <td>False</td>\n",
              "      <td>False</td>\n",
              "      <td>False</td>\n",
              "      <td>False</td>\n",
              "      <td>True</td>\n",
              "      <td>False</td>\n",
              "      <td>False</td>\n",
              "      <td>False</td>\n",
              "    </tr>\n",
              "    <tr>\n",
              "      <th>3</th>\n",
              "      <td>False</td>\n",
              "      <td>False</td>\n",
              "      <td>False</td>\n",
              "      <td>False</td>\n",
              "      <td>False</td>\n",
              "      <td>False</td>\n",
              "      <td>False</td>\n",
              "      <td>False</td>\n",
              "      <td>False</td>\n",
              "      <td>False</td>\n",
              "      <td>False</td>\n",
              "      <td>False</td>\n",
              "      <td>False</td>\n",
              "      <td>False</td>\n",
              "      <td>False</td>\n",
              "    </tr>\n",
              "    <tr>\n",
              "      <th>4</th>\n",
              "      <td>False</td>\n",
              "      <td>False</td>\n",
              "      <td>False</td>\n",
              "      <td>False</td>\n",
              "      <td>False</td>\n",
              "      <td>False</td>\n",
              "      <td>False</td>\n",
              "      <td>False</td>\n",
              "      <td>False</td>\n",
              "      <td>False</td>\n",
              "      <td>False</td>\n",
              "      <td>True</td>\n",
              "      <td>False</td>\n",
              "      <td>False</td>\n",
              "      <td>False</td>\n",
              "    </tr>\n",
              "  </tbody>\n",
              "</table>\n",
              "</div>"
            ],
            "text/plain": [
              "   survived  pclass    sex    age  ...   deck  embark_town  alive  alone\n",
              "0     False   False  False  False  ...   True        False  False  False\n",
              "1     False   False  False  False  ...  False        False  False  False\n",
              "2     False   False  False  False  ...   True        False  False  False\n",
              "3     False   False  False  False  ...  False        False  False  False\n",
              "4     False   False  False  False  ...   True        False  False  False\n",
              "\n",
              "[5 rows x 15 columns]"
            ]
          },
          "metadata": {},
          "execution_count": 18
        }
      ]
    },
    {
      "cell_type": "code",
      "metadata": {
        "colab": {
          "base_uri": "https://localhost:8080/"
        },
        "id": "IQMe4ylLslWD",
        "outputId": "84c010a3-2869-49ad-f30f-39633b5f1474"
      },
      "source": [
        "df.isnull().sum(axis=0)"
      ],
      "execution_count": 43,
      "outputs": [
        {
          "output_type": "execute_result",
          "data": {
            "text/plain": [
              "survived         0\n",
              "pclass           0\n",
              "sex              0\n",
              "age            177\n",
              "sibsp            0\n",
              "parch            0\n",
              "fare             0\n",
              "embarked         2\n",
              "class            0\n",
              "who              0\n",
              "adult_male       0\n",
              "deck           688\n",
              "embark_town      2\n",
              "alive            0\n",
              "alone            0\n",
              "dtype: int64"
            ]
          },
          "metadata": {},
          "execution_count": 43
        }
      ]
    },
    {
      "cell_type": "markdown",
      "metadata": {
        "id": "2PvRN4zJvPeP"
      },
      "source": [
        "`notnull()` 메서드는 `isnull()` 메서드의 반대 방향으로 작동합니다."
      ]
    },
    {
      "cell_type": "code",
      "metadata": {
        "colab": {
          "base_uri": "https://localhost:8080/",
          "height": 203
        },
        "id": "ZPcPQWo5sfOS",
        "outputId": "b84e216c-c758-407b-8acc-59845dd78051"
      },
      "source": [
        "df.head().notnull()"
      ],
      "execution_count": 20,
      "outputs": [
        {
          "output_type": "execute_result",
          "data": {
            "text/html": [
              "<div>\n",
              "<style scoped>\n",
              "    .dataframe tbody tr th:only-of-type {\n",
              "        vertical-align: middle;\n",
              "    }\n",
              "\n",
              "    .dataframe tbody tr th {\n",
              "        vertical-align: top;\n",
              "    }\n",
              "\n",
              "    .dataframe thead th {\n",
              "        text-align: right;\n",
              "    }\n",
              "</style>\n",
              "<table border=\"1\" class=\"dataframe\">\n",
              "  <thead>\n",
              "    <tr style=\"text-align: right;\">\n",
              "      <th></th>\n",
              "      <th>survived</th>\n",
              "      <th>pclass</th>\n",
              "      <th>sex</th>\n",
              "      <th>age</th>\n",
              "      <th>sibsp</th>\n",
              "      <th>parch</th>\n",
              "      <th>fare</th>\n",
              "      <th>embarked</th>\n",
              "      <th>class</th>\n",
              "      <th>who</th>\n",
              "      <th>adult_male</th>\n",
              "      <th>deck</th>\n",
              "      <th>embark_town</th>\n",
              "      <th>alive</th>\n",
              "      <th>alone</th>\n",
              "    </tr>\n",
              "  </thead>\n",
              "  <tbody>\n",
              "    <tr>\n",
              "      <th>0</th>\n",
              "      <td>True</td>\n",
              "      <td>True</td>\n",
              "      <td>True</td>\n",
              "      <td>True</td>\n",
              "      <td>True</td>\n",
              "      <td>True</td>\n",
              "      <td>True</td>\n",
              "      <td>True</td>\n",
              "      <td>True</td>\n",
              "      <td>True</td>\n",
              "      <td>True</td>\n",
              "      <td>False</td>\n",
              "      <td>True</td>\n",
              "      <td>True</td>\n",
              "      <td>True</td>\n",
              "    </tr>\n",
              "    <tr>\n",
              "      <th>1</th>\n",
              "      <td>True</td>\n",
              "      <td>True</td>\n",
              "      <td>True</td>\n",
              "      <td>True</td>\n",
              "      <td>True</td>\n",
              "      <td>True</td>\n",
              "      <td>True</td>\n",
              "      <td>True</td>\n",
              "      <td>True</td>\n",
              "      <td>True</td>\n",
              "      <td>True</td>\n",
              "      <td>True</td>\n",
              "      <td>True</td>\n",
              "      <td>True</td>\n",
              "      <td>True</td>\n",
              "    </tr>\n",
              "    <tr>\n",
              "      <th>2</th>\n",
              "      <td>True</td>\n",
              "      <td>True</td>\n",
              "      <td>True</td>\n",
              "      <td>True</td>\n",
              "      <td>True</td>\n",
              "      <td>True</td>\n",
              "      <td>True</td>\n",
              "      <td>True</td>\n",
              "      <td>True</td>\n",
              "      <td>True</td>\n",
              "      <td>True</td>\n",
              "      <td>False</td>\n",
              "      <td>True</td>\n",
              "      <td>True</td>\n",
              "      <td>True</td>\n",
              "    </tr>\n",
              "    <tr>\n",
              "      <th>3</th>\n",
              "      <td>True</td>\n",
              "      <td>True</td>\n",
              "      <td>True</td>\n",
              "      <td>True</td>\n",
              "      <td>True</td>\n",
              "      <td>True</td>\n",
              "      <td>True</td>\n",
              "      <td>True</td>\n",
              "      <td>True</td>\n",
              "      <td>True</td>\n",
              "      <td>True</td>\n",
              "      <td>True</td>\n",
              "      <td>True</td>\n",
              "      <td>True</td>\n",
              "      <td>True</td>\n",
              "    </tr>\n",
              "    <tr>\n",
              "      <th>4</th>\n",
              "      <td>True</td>\n",
              "      <td>True</td>\n",
              "      <td>True</td>\n",
              "      <td>True</td>\n",
              "      <td>True</td>\n",
              "      <td>True</td>\n",
              "      <td>True</td>\n",
              "      <td>True</td>\n",
              "      <td>True</td>\n",
              "      <td>True</td>\n",
              "      <td>True</td>\n",
              "      <td>False</td>\n",
              "      <td>True</td>\n",
              "      <td>True</td>\n",
              "      <td>True</td>\n",
              "    </tr>\n",
              "  </tbody>\n",
              "</table>\n",
              "</div>"
            ],
            "text/plain": [
              "   survived  pclass   sex   age  ...   deck  embark_town  alive  alone\n",
              "0      True    True  True  True  ...  False         True   True   True\n",
              "1      True    True  True  True  ...   True         True   True   True\n",
              "2      True    True  True  True  ...  False         True   True   True\n",
              "3      True    True  True  True  ...   True         True   True   True\n",
              "4      True    True  True  True  ...  False         True   True   True\n",
              "\n",
              "[5 rows x 15 columns]"
            ]
          },
          "metadata": {},
          "execution_count": 20
        }
      ]
    },
    {
      "cell_type": "code",
      "metadata": {
        "colab": {
          "base_uri": "https://localhost:8080/"
        },
        "id": "Lup-eJd0sxSw",
        "outputId": "9d285343-b4d7-4465-85c2-04bc8adab88a"
      },
      "source": [
        "df.notnull().sum(axis=0)"
      ],
      "execution_count": 21,
      "outputs": [
        {
          "output_type": "execute_result",
          "data": {
            "text/plain": [
              "survived       891\n",
              "pclass         891\n",
              "sex            891\n",
              "age            714\n",
              "sibsp          891\n",
              "parch          891\n",
              "fare           891\n",
              "embarked       889\n",
              "class          891\n",
              "who            891\n",
              "adult_male     891\n",
              "deck           203\n",
              "embark_town    889\n",
              "alive          891\n",
              "alone          891\n",
              "dtype: int64"
            ]
          },
          "metadata": {},
          "execution_count": 21
        }
      ]
    },
    {
      "cell_type": "markdown",
      "metadata": {
        "id": "rRQ-0Gtyvb7p"
      },
      "source": [
        "`value_counts()` 메서드는 각 열의 데이터 값마다 개수로 출력합니다. `dropna=False`로 지정하면 `NaN`의 개수도 함께 출력합니다."
      ]
    },
    {
      "cell_type": "code",
      "metadata": {
        "colab": {
          "base_uri": "https://localhost:8080/"
        },
        "id": "42Z1Fo--sASw",
        "outputId": "f35f3f1c-eee6-438d-f95e-d92e75c54d99"
      },
      "source": [
        "df['age'].value_counts(dropna=False)"
      ],
      "execution_count": 22,
      "outputs": [
        {
          "output_type": "execute_result",
          "data": {
            "text/plain": [
              "NaN      177\n",
              "24.00     30\n",
              "22.00     27\n",
              "18.00     26\n",
              "28.00     25\n",
              "        ... \n",
              "36.50      1\n",
              "55.50      1\n",
              "66.00      1\n",
              "23.50      1\n",
              "0.42       1\n",
              "Name: age, Length: 89, dtype: int64"
            ]
          },
          "metadata": {},
          "execution_count": 22
        }
      ]
    },
    {
      "cell_type": "code",
      "metadata": {
        "colab": {
          "base_uri": "https://localhost:8080/"
        },
        "id": "mlm-9-ePr2TP",
        "outputId": "ea8f7a7c-3aea-4cb4-8952-e2a79d9be391"
      },
      "source": [
        "df['deck'].value_counts(dropna=False)"
      ],
      "execution_count": 23,
      "outputs": [
        {
          "output_type": "execute_result",
          "data": {
            "text/plain": [
              "NaN    688\n",
              "C       59\n",
              "B       47\n",
              "D       33\n",
              "E       32\n",
              "A       15\n",
              "F       13\n",
              "G        4\n",
              "Name: deck, dtype: int64"
            ]
          },
          "metadata": {},
          "execution_count": 23
        }
      ]
    },
    {
      "cell_type": "markdown",
      "metadata": {
        "id": "vofO2exxg647"
      },
      "source": [
        "반목문으로도 `NaN`을 확인할 수 있습니다. 예외 처리 구문은 [링크](https://wikidocs.net/30)를 참조하시기 바랍니다."
      ]
    },
    {
      "cell_type": "code",
      "metadata": {
        "colab": {
          "base_uri": "https://localhost:8080/"
        },
        "id": "Px_AFgOvg2k1",
        "outputId": "e5706a21-9324-43ad-d9bd-a4debbee8220"
      },
      "source": [
        "df_nan = df.isnull()\n",
        "\n",
        "for column in df_nan:\n",
        "    count_nan = df_nan[column].value_counts()\n",
        "    try:\n",
        "        print(f'{column}: {count_nan[True]}')\n",
        "    # `missing_count`의 데이터에 `True`가 없으면 예외로 처리합니다.\n",
        "    except:\n",
        "        print(f'{column}: 0')"
      ],
      "execution_count": 31,
      "outputs": [
        {
          "output_type": "stream",
          "name": "stdout",
          "text": [
            "survived: 0\n",
            "pclass: 0\n",
            "sex: 0\n",
            "age: 177\n",
            "sibsp: 0\n",
            "parch: 0\n",
            "fare: 0\n",
            "embarked: 2\n",
            "class: 0\n",
            "who: 0\n",
            "adult_male: 0\n",
            "deck: 688\n",
            "embark_town: 2\n",
            "alive: 0\n",
            "alone: 0\n"
          ]
        }
      ]
    },
    {
      "cell_type": "markdown",
      "metadata": {
        "id": "e6K-8zc13mwN"
      },
      "source": [
        "### **1.1.2. 누락된 데이터 제거하기**"
      ]
    },
    {
      "cell_type": "markdown",
      "metadata": {
        "id": "I-Ua9DqFWT5l"
      },
      "source": [
        "누락된 데이터를 제거하려면 행(레코드)을 삭제하거나 열(특성)을 삭제하는 방법을 취할 수 있습니다. 'deck' 열은 누락된 데이터가 688개이므로 `dropna()` 메서드를 사용하여 열을 통으로 삭제해야 합니다. `axis=0`으로 지정하여 행을 기준으로 삼아 아래로 카운트하고, `thresh=300`으로 지정하여 `NaN`이 300개 이상 카운트된 열을 삭제하겠습니다. 아울러기존 `df` 인스턴스에 변형이 일어나지 않도록 새로운 인스턴스인 `df_thresh`를 생성하겠습니다."
      ]
    },
    {
      "cell_type": "code",
      "metadata": {
        "colab": {
          "base_uri": "https://localhost:8080/"
        },
        "id": "lSsrVRQyicEm",
        "outputId": "aa450ddc-bab4-43a9-90d2-6decf7368d0f"
      },
      "source": [
        "df_thresh = df.dropna(axis=0, thresh=300)\n",
        "print(df_thresh.columns)"
      ],
      "execution_count": 46,
      "outputs": [
        {
          "output_type": "stream",
          "name": "stdout",
          "text": [
            "Index(['survived', 'pclass', 'sex', 'age', 'sibsp', 'parch', 'fare',\n",
            "       'embarked', 'class', 'who', 'adult_male', 'deck', 'embark_town',\n",
            "       'alive', 'alone'],\n",
            "      dtype='object')\n"
          ]
        }
      ]
    },
    {
      "cell_type": "markdown",
      "metadata": {
        "id": "yB3_ApHr3pdA"
      },
      "source": [
        "### **1.1.3. 누락된 데이터 치환하기**"
      ]
    },
    {
      "cell_type": "markdown",
      "metadata": {
        "id": "taxNCYSS3Dum"
      },
      "source": [
        "## **1.2. 중복된 데이터**"
      ]
    },
    {
      "cell_type": "markdown",
      "metadata": {
        "id": "14Ultj9-3w6Z"
      },
      "source": [
        "### **1.2.1. 중복된 데이터 확인하기**"
      ]
    },
    {
      "cell_type": "markdown",
      "metadata": {
        "id": "JHRoQVmd3w3f"
      },
      "source": [
        "### **1.2.2. 중복된 데이터 제거하기**"
      ]
    },
    {
      "cell_type": "markdown",
      "metadata": {
        "id": "i-vcyKWR3J-Y"
      },
      "source": [
        "## **1.3. 데이터 표준화**"
      ]
    },
    {
      "cell_type": "markdown",
      "metadata": {
        "id": "iKarohFQ34nF"
      },
      "source": [
        "### **1.3.1. 단위 환산하기**"
      ]
    },
    {
      "cell_type": "markdown",
      "metadata": {
        "id": "0SDDb_jB37F3"
      },
      "source": [
        "### **1.3.2. 자료형 변환하기**"
      ]
    },
    {
      "cell_type": "markdown",
      "metadata": {
        "id": "aWopsWld3J5M"
      },
      "source": [
        "## **1.4. 범주형 데이터**"
      ]
    },
    {
      "cell_type": "markdown",
      "metadata": {
        "id": "3kZRpDEB4CAv"
      },
      "source": [
        "### **1.4.1. 구간 분할하기**"
      ]
    },
    {
      "cell_type": "markdown",
      "metadata": {
        "id": "NdhqoNqZ4Foq"
      },
      "source": [
        "### **1.4.2. 더미 변수 사용하기**"
      ]
    },
    {
      "cell_type": "markdown",
      "metadata": {
        "id": "ySk461qk3RGd"
      },
      "source": [
        "## **1.5. 데이터 정규화**"
      ]
    },
    {
      "cell_type": "markdown",
      "metadata": {
        "id": "mr9X0rOh3Upl"
      },
      "source": [
        "## **1.6. 시계열 데이터**"
      ]
    },
    {
      "cell_type": "markdown",
      "metadata": {
        "id": "P4LrR_oD4uBM"
      },
      "source": [
        "### **1.6.1. 시계열 객체로 변환하기**"
      ]
    },
    {
      "cell_type": "markdown",
      "metadata": {
        "id": "726YwHAa407m"
      },
      "source": [
        "### **1.6.2. 시계열 데이터 생성하기**"
      ]
    },
    {
      "cell_type": "markdown",
      "metadata": {
        "id": "Wf3AB-iO44Sj"
      },
      "source": [
        "### **1.6.3. 시계열 데이터 활용하기**"
      ]
    }
  ]
}